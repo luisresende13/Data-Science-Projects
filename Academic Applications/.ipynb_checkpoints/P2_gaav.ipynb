{
 "cells": [
  {
   "cell_type": "markdown",
   "metadata": {},
   "source": [
    "Notas:\n",
    "    \n",
    "1. impressão da matriz\n"
   ]
  },
  {
   "cell_type": "code",
   "execution_count": 1,
   "metadata": {},
   "outputs": [],
   "source": [
    "import numpy as np"
   ]
  },
  {
   "cell_type": "code",
   "execution_count": 7,
   "metadata": {},
   "outputs": [],
   "source": [
    "M = [[np.random.randint(10) for i in range(10)] for j in range(10)]"
   ]
  },
  {
   "cell_type": "code",
   "execution_count": 14,
   "metadata": {},
   "outputs": [],
   "source": [
    "M = [[0,1,0,0], [0,0,1,0], [1,0,0,0], [0,0,0,1]]"
   ]
  },
  {
   "cell_type": "code",
   "execution_count": 15,
   "metadata": {},
   "outputs": [],
   "source": [
    "n = 4\n",
    "matriz = M"
   ]
  },
  {
   "cell_type": "markdown",
   "metadata": {},
   "source": [
    "# Q1"
   ]
  },
  {
   "cell_type": "code",
   "execution_count": 16,
   "metadata": {},
   "outputs": [],
   "source": [
    "n = int(input('Insira a dimensão n da matriz:'))\n",
    "\n",
    "matriz = []\n",
    "\n",
    "for i in range(n):\n",
    "    \n",
    "    linha = []\n",
    "    for j in range(n):\n",
    "        termo = int(input('Insira o termo para a posição ({}, {}) da matriz'.format(i+1, j+1)))\n",
    "        linha.append(termo)\n",
    "        \n",
    "    matriz.append(linha)\n",
    "\n",
    "verificação = 0\n",
    "\n",
    "for linha in matriz:\n",
    "    \n",
    "    zeros = []\n",
    "    unidades = []\n",
    "    for termo in linha:\n",
    "        \n",
    "        zeros.append(termo == 0)\n",
    "        unidades.append(termo == 1)\n",
    "    \n",
    "    if sum(zeros) != (n-1) or sum(unidades) != 1: verificação += 1\n",
    "        \n",
    "        \n",
    "for j in range(n):\n",
    "    \n",
    "    coluna = [matriz[i][j] for i in range(n)]\n",
    "    \n",
    "    zeros = []\n",
    "    unidades = []\n",
    "    for termo in coluna:\n",
    "        \n",
    "        zeros.append(termo == 0)\n",
    "        unidades.append(termo == 1)\n",
    "    \n",
    "    if sum(zeros) != (n-1) or sum(unidades) != 1: verificação += 1\n",
    "\n",
    "[print(matriz[i]) for i in range(n)]\n",
    "        \n",
    "if verificação != 0: print('A Matriz inserida não é de permutação.')\n",
    "else: print('A Matriz inserida é de permutação.')"
   ]
  },
  {
   "cell_type": "markdown",
   "metadata": {},
   "source": [
    "# Q2"
   ]
  },
  {
   "cell_type": "code",
   "execution_count": 18,
   "metadata": {},
   "outputs": [
    {
     "name": "stdout",
     "output_type": "stream",
     "text": [
      "São necessários 41 anos para que Zé ultrapasse Chico em altura\n"
     ]
    }
   ],
   "source": [
    "chico = 1.5\n",
    "chico_a = 0.02\n",
    "\n",
    "ze = 1.1\n",
    "ze_a = 0.03\n",
    "\n",
    "anos = 0\n",
    "\n",
    "while ze < chico:\n",
    "    \n",
    "    anos += 1\n",
    "    \n",
    "    chico += chico_a\n",
    "    ze += ze_a\n",
    "\n",
    "print('São necessários {} anos para que Zé ultrapasse Chico em altura'.format(anos))\n"
   ]
  },
  {
   "cell_type": "markdown",
   "metadata": {},
   "source": [
    "# Q3"
   ]
  },
  {
   "cell_type": "code",
   "execution_count": null,
   "metadata": {},
   "outputs": [],
   "source": [
    "n = int(input('Insira o número de funcionários da empresa:'))\n",
    "\n",
    "nomes, salarios, idades, sexos = [], [], [], []\n",
    "for i in range(n):\n",
    "    \n",
    "    nomes.append(input('Insira o nome do funcionário {}:'.format(i+1)))\n",
    "    salarios.append(float(input('Insira o salário do funcionário {}:'.format(i+1))))\n",
    "    idades.append(int(input('Insira a idade do funcionário {}:'.format(i+1))))\n",
    "    sexos.append(input('Insira o sexo do funcionário {} (masculino ou feminino):'.format(i+1)))\n",
    "\n",
    "print('Nomes dos funcionários:')\n",
    "print(nomes)\n",
    "\n",
    "homens = len([sexo for sexo in sexos if sexo=='masculino'])\n",
    "mulheres = len([sexo for sexo in sexos if sexo=='feminino'])\n",
    "\n",
    "print('Total de funcionários: {}'.format(homens))\n",
    "print('Total de funcionárias: {}'.format(mulheres))\n",
    "print('Maior salário: {}'.format(max(salarios)))\n",
    "print('Menor idade: {}'.format(min(idades)))"
   ]
  },
  {
   "cell_type": "markdown",
   "metadata": {},
   "source": [
    "# Q4"
   ]
  },
  {
   "cell_type": "code",
   "execution_count": 55,
   "metadata": {},
   "outputs": [
    {
     "data": {
      "text/plain": [
       "[[3, 5, 2, 1, 5, 6, 1, 7, 3, 2],\n",
       " [3, 8, 2, 3, 4, 5, 1, 0, 3, 1],\n",
       " [3, 2, 5, 5, 9, 3, 5, 3, 3, 8],\n",
       " [2, 0, 1, 2, 8, 4, 3, 1, 6, 9],\n",
       " [8, 5, 7, 8, 5, 6, 3, 7, 7, 2],\n",
       " [0, 8, 6, 3, 0, 5, 6, 3, 9, 4],\n",
       " [5, 1, 1, 8, 5, 5, 4, 0, 7, 9],\n",
       " [4, 9, 1, 8, 7, 8, 7, 5, 9, 7],\n",
       " [2, 2, 2, 7, 9, 9, 1, 3, 5, 7],\n",
       " [7, 7, 7, 9, 7, 4, 9, 3, 4, 6]]"
      ]
     },
     "execution_count": 55,
     "metadata": {},
     "output_type": "execute_result"
    }
   ],
   "source": [
    "matriz = [[np.random.randint(10) for i in range(10)] for j in range(10)]; matriz"
   ]
  },
  {
   "cell_type": "code",
   "execution_count": 58,
   "metadata": {},
   "outputs": [],
   "source": [
    "matriz = []\n",
    "\n",
    "for i in range(10):\n",
    "    \n",
    "    linha = []\n",
    "    for j in range(10):\n",
    "        termo = int(input('Insira o termo para a posição ({}, {}) da matriz'.format(i+1, j+1)))  \n",
    "        linha.append(termo)\n",
    "        \n",
    "    matriz.append(linha)\n",
    "    \n",
    "\n",
    "print('Matriz Inserida:')\n",
    "[print(matriz[i]) for i in range(10)]\n",
    "\n",
    "matriz_copia = matriz[:]\n",
    "\n",
    "for i in range(10):    \n",
    "    matriz[1][i], matriz[7][i] = matriz_copia[7][i], matriz_copia[1][i]  # Troca da linha 2 com a linha 8.\n",
    "\n",
    "matriz_copia = matriz[:]\n",
    "for i in range(10):\n",
    "    matriz[i][3], matriz[i][9] = matriz_copia[i][9], matriz_copia[i][3]  # Troca da linha 4 com a coluna 10.\n",
    "\n",
    "matriz_copia = matriz[:]\n",
    "for i in range(10):    \n",
    "    matriz[4][i], matriz[i][9] = matriz_copia[i][9], matriz_copia[4][i]  # Troca da linha 5 com a coluna 10.\n",
    "\n",
    "print('Matriz Modificada:')\n",
    "[print(matriz[i]) for i in range(10)]"
   ]
  },
  {
   "cell_type": "code",
   "execution_count": 58,
   "metadata": {},
   "outputs": [],
   "source": [
    "matriz = []\n",
    "\n",
    "for i in range(10):\n",
    "    \n",
    "    linha = []\n",
    "    for j in range(10):\n",
    "        termo = int(input('Insira o termo para a posição ({}, {}) da matriz'.format(i+1, j+1)))  \n",
    "        linha.append(termo)\n",
    "        \n",
    "    matriz.append(linha)\n",
    "    \n",
    "\n",
    "print('Matriz Inserida:')\n",
    "[print(matriz[i]) for i in range(10)]\n",
    "\n",
    "matriz_copia = matriz[:]\n",
    "\n",
    "for i in range(10):    \n",
    "    matriz[1][i], matriz[7][i] = matriz_copia[7][i], matriz_copia[1][i]  # Troca da linha 2 com a linha 8.\n",
    "\n",
    "matriz_copia = matriz[:]\n",
    "for i in range(10):\n",
    "    matriz[i][3], matriz[i][9] = matriz_copia[i][9], matriz_copia[i][3]  # Troca da linha 4 com a coluna 10.\n",
    "\n",
    "matriz_copia = matriz[:]\n",
    "for i in range(10):    \n",
    "    matriz[4][i], matriz[i][9] = matriz_copia[i][9], matriz_copia[4][i]  # Troca da linha 5 com a coluna 10.\n",
    "\n",
    "print('Matriz Modificada:')\n",
    "[print(matriz[i]) for i in range(10)]"
   ]
  },
  {
   "cell_type": "markdown",
   "metadata": {},
   "source": [
    "# PROVA 2"
   ]
  },
  {
   "cell_type": "markdown",
   "metadata": {},
   "source": [
    "# Q1"
   ]
  },
  {
   "cell_type": "code",
   "execution_count": 26,
   "metadata": {},
   "outputs": [],
   "source": [
    "import numpy as np"
   ]
  },
  {
   "cell_type": "code",
   "execution_count": 28,
   "metadata": {},
   "outputs": [],
   "source": [
    "matriz = [[np.random.randint(10) for i in range(10)] for j in range(10)]; matriz\n",
    "n=10"
   ]
  },
  {
   "cell_type": "code",
   "execution_count": 30,
   "metadata": {},
   "outputs": [],
   "source": [
    "matriz = [[8,0,7], [4,5,6], [3,10,2]]\n",
    "n=3"
   ]
  },
  {
   "cell_type": "code",
   "execution_count": 31,
   "metadata": {},
   "outputs": [],
   "source": [
    "n = int(input('Insira a dimensão n da matriz:'))\n",
    "\n",
    "matriz = []\n",
    "\n",
    "for i in range(n):\n",
    "    \n",
    "    linha = []\n",
    "    for j in range(n):\n",
    "        termo = int(input('Insira o termo para a posição ({}, {}) da matriz'.format(i+1, j+1)))\n",
    "        linha.append(termo)\n",
    "        \n",
    "    matriz.append(linha)\n",
    "\n",
    "verificação = 0\n",
    "\n",
    "soma_linhas = [sum(linha) for linha in matriz]\n",
    "soma_colunas = []\n",
    "soma_diag = 0\n",
    "soma_diag_sec = 0\n",
    "\n",
    "for i in range(n):\n",
    "    coluna = [matriz[j][i] for j in range(n)]\n",
    "    soma_colunas.append(sum(coluna))\n",
    "    \n",
    "for i in range(n):\n",
    "    for j in range(n):\n",
    "        \n",
    "        if i==j:\n",
    "            \n",
    "            soma_diag += matriz[i][j]\n",
    "            \n",
    "        if (i+1+j+1) == (n+1):\n",
    "            \n",
    "            soma_diag_sec += matriz[i][j]\n",
    "\n",
    "primeiro = soma_linhas[0]\n",
    "if soma_diag != primeiro or soma_diag_sec != primeiro: verificação +=1\n",
    "for i in range(n):\n",
    "    if soma_linhas[i] != primeiro or soma_colunas[i] != primeiro: verificação +=1\n",
    "\n",
    "if verificação == 0: print('A Matriz inserida é um quadrado mágico.')\n",
    "else: print('A Matriz inserida não é um quadrado mágico.')"
   ]
  },
  {
   "cell_type": "code",
   "execution_count": 37,
   "metadata": {},
   "outputs": [
    {
     "data": {
      "text/plain": [
       "-0.25"
      ]
     },
     "execution_count": 37,
     "metadata": {},
     "output_type": "execute_result"
    }
   ],
   "source": [
    "teta = (-1/4)\n",
    "teta"
   ]
  },
  {
   "cell_type": "code",
   "execution_count": 60,
   "metadata": {},
   "outputs": [
    {
     "data": {
      "text/plain": [
       "104.47751218592992"
      ]
     },
     "execution_count": 60,
     "metadata": {},
     "output_type": "execute_result"
    }
   ],
   "source": [
    "teta = (np.arccos(-1/4)*180/np.pi); teta"
   ]
  },
  {
   "cell_type": "code",
   "execution_count": 67,
   "metadata": {},
   "outputs": [
    {
     "data": {
      "text/plain": [
       "255.52248781407008"
      ]
     },
     "execution_count": 67,
     "metadata": {},
     "output_type": "execute_result"
    }
   ],
   "source": [
    "teta_2 = 180+(180-teta); teta_2"
   ]
  },
  {
   "cell_type": "code",
   "execution_count": 61,
   "metadata": {},
   "outputs": [
    {
     "data": {
      "text/plain": [
       "153.43494882292202"
      ]
     },
     "execution_count": 61,
     "metadata": {},
     "output_type": "execute_result"
    }
   ],
   "source": [
    " angulo_i = 180 - np.arctan(1/2)*180/np.pi; angulo_i"
   ]
  },
  {
   "cell_type": "code",
   "execution_count": 62,
   "metadata": {},
   "outputs": [
    {
     "data": {
      "text/plain": [
       "257.91246100885195"
      ]
     },
     "execution_count": 62,
     "metadata": {},
     "output_type": "execute_result"
    }
   ],
   "source": [
    "angulo_i + teta # terceiro"
   ]
  },
  {
   "cell_type": "code",
   "execution_count": 71,
   "metadata": {},
   "outputs": [
    {
     "data": {
      "text/plain": [
       "270"
      ]
     },
     "execution_count": 71,
     "metadata": {},
     "output_type": "execute_result"
    }
   ],
   "source": [
    "360-90"
   ]
  },
  {
   "cell_type": "code",
   "execution_count": 63,
   "metadata": {},
   "outputs": [
    {
     "data": {
      "text/plain": [
       "48.9574366369921"
      ]
     },
     "execution_count": 63,
     "metadata": {},
     "output_type": "execute_result"
    }
   ],
   "source": [
    "angulo_i - teta # primeiro"
   ]
  },
  {
   "cell_type": "code",
   "execution_count": 70,
   "metadata": {},
   "outputs": [
    {
     "data": {
      "text/plain": [
       "48.9574366369921"
      ]
     },
     "execution_count": 70,
     "metadata": {},
     "output_type": "execute_result"
    }
   ],
   "source": [
    "(angulo_i + teta_2) - 360   # primeiro"
   ]
  },
  {
   "cell_type": "code",
   "execution_count": 69,
   "metadata": {},
   "outputs": [
    {
     "data": {
      "text/plain": [
       "-102.08753899114805"
      ]
     },
     "execution_count": 69,
     "metadata": {},
     "output_type": "execute_result"
    }
   ],
   "source": [
    "angulo_i - teta_2  # terceiro"
   ]
  },
  {
   "cell_type": "code",
   "execution_count": 72,
   "metadata": {},
   "outputs": [
    {
     "data": {
      "text/plain": [
       "-26.56505117707799"
      ]
     },
     "execution_count": 72,
     "metadata": {},
     "output_type": "execute_result"
    }
   ],
   "source": [
    "np.arctan(-1/2)*180/np.pi"
   ]
  },
  {
   "cell_type": "code",
   "execution_count": 74,
   "metadata": {},
   "outputs": [
    {
     "data": {
      "text/plain": [
       "53.13010235415598"
      ]
     },
     "execution_count": 74,
     "metadata": {},
     "output_type": "execute_result"
    }
   ],
   "source": [
    "(np.arctan(1/2)*180/np.pi) * 2"
   ]
  },
  {
   "cell_type": "code",
   "execution_count": 77,
   "metadata": {},
   "outputs": [
    {
     "data": {
      "text/plain": [
       "0.6"
      ]
     },
     "execution_count": 77,
     "metadata": {},
     "output_type": "execute_result"
    }
   ],
   "source": [
    "np.cos(53.13010235415598*np.pi/180)"
   ]
  },
  {
   "cell_type": "code",
   "execution_count": 112,
   "metadata": {},
   "outputs": [],
   "source": [
    "teta = 1/(7**(1/2))"
   ]
  },
  {
   "cell_type": "code",
   "execution_count": 114,
   "metadata": {},
   "outputs": [
    {
     "data": {
      "text/plain": [
       "0.3779644730092272"
      ]
     },
     "execution_count": 114,
     "metadata": {},
     "output_type": "execute_result"
    }
   ],
   "source": [
    "teta"
   ]
  },
  {
   "cell_type": "code",
   "execution_count": 116,
   "metadata": {},
   "outputs": [
    {
     "data": {
      "text/plain": [
       "67.79234570140352"
      ]
     },
     "execution_count": 116,
     "metadata": {},
     "output_type": "execute_result"
    }
   ],
   "source": [
    "np.arccos(teta)*180/np.pi"
   ]
  },
  {
   "cell_type": "code",
   "execution_count": 108,
   "metadata": {},
   "outputs": [],
   "source": [
    "delta = (11/2)**2 - 4* (25) *(-255/16)"
   ]
  },
  {
   "cell_type": "code",
   "execution_count": 94,
   "metadata": {},
   "outputs": [],
   "source": [
    "t1 = (8 + delta**(1/2) ) /50"
   ]
  },
  {
   "cell_type": "code",
   "execution_count": 95,
   "metadata": {},
   "outputs": [],
   "source": [
    "t2 = (8 - delta**(1/2) ) /50"
   ]
  },
  {
   "cell_type": "code",
   "execution_count": 96,
   "metadata": {},
   "outputs": [],
   "source": [
    "x1 = 1/4 + 4*t1"
   ]
  },
  {
   "cell_type": "code",
   "execution_count": 97,
   "metadata": {},
   "outputs": [],
   "source": [
    "y1 = -3*t1"
   ]
  },
  {
   "cell_type": "code",
   "execution_count": 102,
   "metadata": {},
   "outputs": [],
   "source": [
    "x2 = 1/4 + 4*t2"
   ]
  },
  {
   "cell_type": "code",
   "execution_count": 103,
   "metadata": {},
   "outputs": [],
   "source": [
    "y2 = -3*t2"
   ]
  },
  {
   "cell_type": "code",
   "execution_count": 98,
   "metadata": {},
   "outputs": [
    {
     "data": {
      "text/plain": [
       "(4.606127016128485, -3.2670952620963636)"
      ]
     },
     "execution_count": 98,
     "metadata": {},
     "output_type": "execute_result"
    }
   ],
   "source": [
    "x1, y1"
   ]
  },
  {
   "cell_type": "code",
   "execution_count": 104,
   "metadata": {},
   "outputs": [
    {
     "data": {
      "text/plain": [
       "(-2.8261270161284853, 2.307095262096364)"
      ]
     },
     "execution_count": 104,
     "metadata": {},
     "output_type": "execute_result"
    }
   ],
   "source": [
    "x2, y2"
   ]
  },
  {
   "cell_type": "code",
   "execution_count": 105,
   "metadata": {},
   "outputs": [
    {
     "data": {
      "text/plain": [
       "9.290317540321213"
      ]
     },
     "execution_count": 105,
     "metadata": {},
     "output_type": "execute_result"
    }
   ],
   "source": [
    "((x1-x2)**2 + (y1-y2)**2)**(1/2)"
   ]
  },
  {
   "cell_type": "code",
   "execution_count": 107,
   "metadata": {},
   "outputs": [
    {
     "data": {
      "text/plain": [
       "-255"
      ]
     },
     "execution_count": 107,
     "metadata": {},
     "output_type": "execute_result"
    }
   ],
   "source": [
    "145-25*16"
   ]
  },
  {
   "cell_type": "code",
   "execution_count": 109,
   "metadata": {},
   "outputs": [
    {
     "data": {
      "text/plain": [
       "160"
      ]
     },
     "execution_count": 109,
     "metadata": {},
     "output_type": "execute_result"
    }
   ],
   "source": [
    "16**2 - 4*24"
   ]
  },
  {
   "cell_type": "markdown",
   "metadata": {},
   "source": [
    "# Q2"
   ]
  },
  {
   "cell_type": "code",
   "execution_count": 67,
   "metadata": {},
   "outputs": [
    {
     "name": "stdin",
     "output_type": "stream",
     "text": [
      "Insira a dimensão n do vetor: 3\n",
      "Insira um número inteiro positivo: 2\n",
      "Insira um número inteiro positivo: 6\n",
      "Insira um número inteiro positivo: 3\n"
     ]
    },
    {
     "name": "stdout",
     "output_type": "stream",
     "text": [
      "Somatório dos números informados: 8\n"
     ]
    }
   ],
   "source": [
    "n = int(input('Insira a dimensão n do vetor:'))\n",
    "\n",
    "vetor = []\n",
    "for i in range(n):\n",
    "    \n",
    "    vetor.append(int(input('Insira um número inteiro positivo:')))\n",
    "\n",
    "L = []\n",
    "\n",
    "for num in vetor:\n",
    "    \n",
    "    if num % 2 == 0:\n",
    "        L.append(num)\n",
    "        \n",
    "somatório = sum(L)    \n",
    "\n",
    "print('Somatório dos números informados:', somatório)"
   ]
  },
  {
   "cell_type": "markdown",
   "metadata": {},
   "source": [
    "# Q3"
   ]
  },
  {
   "cell_type": "code",
   "execution_count": 68,
   "metadata": {},
   "outputs": [
    {
     "name": "stdin",
     "output_type": "stream",
     "text": [
      "Insira o número de funcionários da empresa: 3\n",
      "Insira o nome do funcionário 1: gsfdgsdg\n",
      "Insira o sexo do funcionário 1 (masculino ou feminino): feminino\n",
      "Insira a idade do funcionário 1: 10\n",
      "Insira o salário do funcionário 1: 550\n",
      "Insira o nome do funcionário 2: gagfds\n",
      "Insira o sexo do funcionário 2 (masculino ou feminino): feminino\n",
      "Insira a idade do funcionário 2: 10\n",
      "Insira o salário do funcionário 2: 520\n",
      "Insira o nome do funcionário 3: fsdfadg\n",
      "Insira o sexo do funcionário 3 (masculino ou feminino): masculino\n",
      "Insira a idade do funcionário 3: 45\n",
      "Insira o salário do funcionário 3: 10\n"
     ]
    },
    {
     "name": "stdout",
     "output_type": "stream",
     "text": [
      "Nomes dos funcionários:\n",
      "['gsfdgsdg', 'gagfds', 'fsdfadg']\n",
      "Total de funcionários homens: 1\n",
      "Total de mulheres com salário maior que 500: 2\n",
      "Média salarial: 360.0\n"
     ]
    }
   ],
   "source": [
    "n = int(input('Insira o número de funcionários da empresa:'))\n",
    "\n",
    "nomes, sexos, idades, salarios = [], [], [], []\n",
    "for i in range(n):\n",
    "    \n",
    "    nomes.append(input('Insira o nome do funcionário {}:'.format(i+1)))\n",
    "    \n",
    "    sexo = input('Insira o sexo do funcionário {} (somente \"masculino\" ou \"feminino\"):'.format(i+1))\n",
    "    while sexo != 'masculino' and sexo != 'feminino':\n",
    "        sexo = input('Sexo inserido inválido. Insira o sexo do funcionário {} (somente \"masculino\" ou \"feminino\"):'.format(i+1))\n",
    "    sexos.append(sexo)\n",
    "    \n",
    "    idades.append(int(input('Insira a idade do funcionário {}:'.format(i+1))))\n",
    "    salarios.append(float(input('Insira o salário do funcionário {}:'.format(i+1))))\n",
    "\n",
    "\n",
    "homens = len([sexo for sexo in sexos if sexo=='masculino'])\n",
    "\n",
    "salarios_mulheres = 0\n",
    "for i in range(n):\n",
    "    if sexos[i] == 'feminino':\n",
    "        if salarios[i] > 500:\n",
    "            salarios_mulheres += 1\n",
    "\n",
    "media_sal = sum(salarios)/n\n",
    "\n",
    "print('Nomes dos funcionários:')\n",
    "print(nomes)\n",
    "\n",
    "print('Total de funcionários homens: {}'.format(homens))\n",
    "print('Total de mulheres com salário maior que 500: {}'.format(salarios_mulheres))\n",
    "print('Média salarial: {}'.format(media_sal))"
   ]
  },
  {
   "cell_type": "markdown",
   "metadata": {},
   "source": [
    "# Q4"
   ]
  },
  {
   "cell_type": "code",
   "execution_count": 8,
   "metadata": {},
   "outputs": [],
   "source": [
    "matriz = [[1,1,1,1,1], [1,1,1,1,1],[1,1,1,1,1],[1,1,1,1,1],[1,1,1,1,1]]\n",
    "n=5"
   ]
  },
  {
   "cell_type": "code",
   "execution_count": 10,
   "metadata": {},
   "outputs": [],
   "source": [
    "matriz = []\n",
    "\n",
    "for i in range(5):\n",
    "    \n",
    "    linha = []\n",
    "    for j in range(5):\n",
    "        termo = int(input('Insira o termo para a posição ({}, {}) da matriz'.format(i+1, j+1)))  \n",
    "        linha.append(termo)\n",
    "        \n",
    "    matriz.append(linha)\n",
    "    \n",
    "\n",
    "print('Matriz Inserida:')\n",
    "[print(matriz[i]) for i in range(5)]\n",
    "\n",
    "soma_linha_4 = 0\n",
    "soma_coluna_2 = 0\n",
    "soma_diag_sec = 0\n",
    "\n",
    "for i in range(5):\n",
    "    \n",
    "    soma_linha_4 += matriz[3][i]\n",
    "    soma_coluna_2 += matriz[i][1]\n",
    "    \n",
    "    for j in range(5):\n",
    "        if (i+1+j+1) == 6:\n",
    "            \n",
    "            soma_diag_sec += matriz[i][j]\n",
    "\n",
    "print('Soma da quarta linha:', soma_linha_4)\n",
    "print('Soma da segunda coluna:', soma_coluna_2)\n",
    "print('Soma da diagonal secundária:', soma_diag_sec)"
   ]
  },
  {
   "cell_type": "code",
   "execution_count": null,
   "metadata": {},
   "outputs": [],
   "source": []
  }
 ],
 "metadata": {
  "kernelspec": {
   "display_name": "Python 3",
   "language": "python",
   "name": "python3"
  },
  "language_info": {
   "codemirror_mode": {
    "name": "ipython",
    "version": 3
   },
   "file_extension": ".py",
   "mimetype": "text/x-python",
   "name": "python",
   "nbconvert_exporter": "python",
   "pygments_lexer": "ipython3",
   "version": "3.8.3"
  }
 },
 "nbformat": 4,
 "nbformat_minor": 4
}
