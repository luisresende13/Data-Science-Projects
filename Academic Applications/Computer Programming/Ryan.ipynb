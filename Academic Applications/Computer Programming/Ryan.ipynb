{
 "cells": [
  {
   "cell_type": "code",
   "execution_count": null,
   "metadata": {},
   "outputs": [],
   "source": [
    "A,B,C,D = input().split()\n",
    "A = int(A)\n",
    "B = int(B)\n",
    "C = int(B)\n",
    "D = int(B)\n",
    "\n",
    "\n",
    "A,B,C,D = [int(i) for i in input().split()]\n",
    "\n",
    "if (B>C and D>A) and (C+D > A+B) and (C>0 and D>0) and A%2==0:\n",
    "    print('Valores aceitos')\n",
    "else:\n",
    "    print('Valores não aceitos')"
   ]
  },
  {
   "cell_type": "code",
   "execution_count": 13,
   "metadata": {},
   "outputs": [
    {
     "data": {
      "text/plain": [
       "True"
      ]
     },
     "execution_count": 13,
     "metadata": {},
     "output_type": "execute_result"
    }
   ],
   "source": [
    "3+3>4+1"
   ]
  },
  {
   "cell_type": "code",
   "execution_count": null,
   "metadata": {},
   "outputs": [],
   "source": [
    "T1, T2, T3, T4 = input().split()\n",
    "T1 = int(A)\n",
    "T2 = int(B)\n",
    "T3 = int(B)\n",
    "T4 = int(B)\n",
    "\n",
    "resposta = T1 + T2 + T3 + T4 - 3\n",
    "print(resposta)"
   ]
  }
 ],
 "metadata": {
  "kernelspec": {
   "display_name": "Python 3",
   "language": "python",
   "name": "python3"
  },
  "language_info": {
   "codemirror_mode": {
    "name": "ipython",
    "version": 3
   },
   "file_extension": ".py",
   "mimetype": "text/x-python",
   "name": "python",
   "nbconvert_exporter": "python",
   "pygments_lexer": "ipython3",
   "version": "3.8.3"
  }
 },
 "nbformat": 4,
 "nbformat_minor": 4
}
