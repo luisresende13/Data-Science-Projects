{
 "cells": [
  {
   "cell_type": "code",
   "execution_count": 20,
   "metadata": {},
   "outputs": [],
   "source": [
    "import pandas as pd\n",
    "import numpy as np\n",
    "\n",
    "from sklearn.linear_model import LinearRegression as lr\n",
    "from sklearn.metrics import r2_score"
   ]
  },
  {
   "cell_type": "markdown",
   "metadata": {},
   "source": [
    "# Mudança Média"
   ]
  },
  {
   "cell_type": "code",
   "execution_count": 228,
   "metadata": {},
   "outputs": [
    {
     "name": "stdin",
     "output_type": "stream",
     "text": [
      "quantos valores? 5\n",
      "Média: 7\n",
      "Nova média: 7.2\n"
     ]
    }
   ],
   "source": [
    "n = int(input('quantos valores?'))\n",
    "\n",
    "media = float(input('Média:'))\n",
    "\n",
    "nova_media = float(input('Nova média:'))"
   ]
  },
  {
   "cell_type": "code",
   "execution_count": 233,
   "metadata": {},
   "outputs": [
    {
     "data": {
      "text/plain": [
       "8.200000000000003"
      ]
     },
     "execution_count": 233,
     "metadata": {},
     "output_type": "execute_result"
    }
   ],
   "source": [
    "#media = soma / n\n",
    "soma = media * n\n",
    "#nova_media = (soma + b) / n+1\n",
    "b = (n+1) * nova_media - soma; b"
   ]
  },
  {
   "cell_type": "markdown",
   "metadata": {},
   "source": [
    "# Classes e Amplitude (tabela)"
   ]
  },
  {
   "cell_type": "code",
   "execution_count": 12,
   "metadata": {},
   "outputs": [
    {
     "name": "stdin",
     "output_type": "stream",
     "text": [
      "quantos valores? 120\n",
      "minimo: 3.25\n",
      "maximo: 12.8\n"
     ]
    }
   ],
   "source": [
    "n = int(input('quantos valores?'))\n",
    "#mini = min(values)\n",
    "#maxi = max(values)\n",
    "mini = float(input('minimo:'))\n",
    "maxi = float(input('maximo:'))\n",
    "\n",
    "R = maxi - mini\n",
    "Nc = 1 + 3.32*np.log10(n)\n",
    "h = R / round(Nc, 0)"
   ]
  },
  {
   "cell_type": "code",
   "execution_count": 13,
   "metadata": {},
   "outputs": [
    {
     "name": "stdout",
     "output_type": "stream",
     "text": [
      "Range: 9.55\n",
      "Nº de Classes: 7.902881736878114\n",
      "Amplitude: 1.19375\n",
      "\n",
      "Arredondando:\n",
      "Nº de Classes: 8.0\n"
     ]
    },
    {
     "name": "stdin",
     "output_type": "stream",
     "text": [
      "N° de casas para arredondar a amplitude (mesmo n° de casas dos dados) 2\n"
     ]
    },
    {
     "name": "stdout",
     "output_type": "stream",
     "text": [
      "Amplitude: 1.19\n"
     ]
    }
   ],
   "source": [
    "print('Range: {}'.format(R))\n",
    "print('Nº de Classes: {}'.format(Nc))\n",
    "print('Amplitude: {}'.format(h))\n",
    "\n",
    "print('\\nArredondando:')\n",
    "print('Nº de Classes: {}'.format(round(Nc, 0)))\n",
    "print('Amplitude: {}'.format(round(h, int(input('N° de casas para arredondar a amplitude (mesmo n° de casas dos dados)')))))"
   ]
  },
  {
   "cell_type": "markdown",
   "metadata": {},
   "source": [
    "# Coeficiente de variação"
   ]
  },
  {
   "cell_type": "code",
   "execution_count": 10,
   "metadata": {},
   "outputs": [
    {
     "name": "stdin",
     "output_type": "stream",
     "text": [
      "quantos valores? 13\n",
      "valor 1 3\n",
      "valor 2 3\n",
      "valor 3 3\n",
      "valor 4 3\n",
      "valor 5 7\n",
      "valor 6 7\n",
      "valor 7 9\n",
      "valor 8 10\n",
      "valor 9 10\n",
      "valor 10 10\n",
      "valor 11 13\n",
      "valor 12 13\n",
      "valor 13 13\n"
     ]
    },
    {
     "name": "stdout",
     "output_type": "stream",
     "text": [
      "[3, 3, 3, 3, 7, 7, 9, 10, 10, 10, 13, 13, 13]\n"
     ]
    }
   ],
   "source": [
    "values = []\n",
    "for i in range(int(input('quantos valores?'))):\n",
    "    values.append(int(input('valor {}'.format(i+1))))\n",
    "\n",
    "print(values)"
   ]
  },
  {
   "cell_type": "code",
   "execution_count": 35,
   "metadata": {},
   "outputs": [
    {
     "name": "stdout",
     "output_type": "stream",
     "text": [
      "Coeficiente de variação: 0.47787590922266066\n"
     ]
    }
   ],
   "source": [
    "CV = np.std(values)/ np.mean(values); print('Coeficiente de variação:', CV)"
   ]
  },
  {
   "cell_type": "code",
   "execution_count": 36,
   "metadata": {},
   "outputs": [
    {
     "data": {
      "text/plain": [
       "2.0925934551223877"
      ]
     },
     "execution_count": 36,
     "metadata": {},
     "output_type": "execute_result"
    }
   ],
   "source": [
    "1/CV"
   ]
  },
  {
   "cell_type": "code",
   "execution_count": 37,
   "metadata": {},
   "outputs": [
    {
     "data": {
      "text/plain": [
       "[3, 3, 3, 3, 7, 7, 9, 10, 10, 10, 13, 13, 13]"
      ]
     },
     "execution_count": 37,
     "metadata": {},
     "output_type": "execute_result"
    }
   ],
   "source": [
    "values"
   ]
  },
  {
   "cell_type": "markdown",
   "metadata": {},
   "source": [
    "# Média Intervalos"
   ]
  },
  {
   "cell_type": "code",
   "execution_count": 8,
   "metadata": {},
   "outputs": [
    {
     "name": "stdin",
     "output_type": "stream",
     "text": [
      "Número de intervalos: 5\n",
      "limite inf 1/5: 120\n",
      "limite sup 1/5: 129\n",
      "limite inf 2/5: 129\n",
      "limite sup 2/5: 138\n",
      "limite inf 3/5: 138\n",
      "limite sup 3/5: 147\n",
      "limite inf 4/5: 147\n",
      "limite sup 4/5: 156\n",
      "limite inf 5/5: 156\n",
      "limite sup 5/5: 165\n"
     ]
    },
    {
     "name": "stdout",
     "output_type": "stream",
     "text": [
      "\n",
      "Intervalos:\n",
      "[120.0, 129.0]\n",
      "[129.0, 138.0]\n",
      "[138.0, 147.0]\n",
      "[147.0, 156.0]\n",
      "[156.0, 165.0]\n",
      "\n",
      "Pontos médios: [124.5, 133.5, 142.5, 151.5, 160.5]\n"
     ]
    },
    {
     "name": "stdin",
     "output_type": "stream",
     "text": [
      "valor 1 6\n",
      "valor 2 12\n",
      "valor 3 16\n",
      "valor 4 13\n",
      "valor 5 7\n"
     ]
    },
    {
     "name": "stdout",
     "output_type": "stream",
     "text": [
      "\n",
      "Frequências: [6, 12, 16, 13, 7]\n",
      "\n",
      "Média: 143.0\n"
     ]
    }
   ],
   "source": [
    "n = int(input('Número de intervalos:'))\n",
    "\n",
    "intervalos = []\n",
    "medias = []\n",
    "for i in range(n):\n",
    "    \n",
    "    inf, sup = float(input('limite inf {}/{}:'.format(i+1, n))), float(input('limite sup {}/{}:'.format(i+1, n)))\n",
    "    \n",
    "    intervalos.append([inf, sup])\n",
    "    medias.append( (intervalos[i][0] + intervalos[i][1])/2 )\n",
    "\n",
    "print('\\nIntervalos:'); [print(intervalos[i]) for i in range(n)]; print('\\nPontos médios:', medias)\n",
    "\n",
    "freqs = []\n",
    "for i in range(n):    \n",
    "    freqs.append(int(input('valor {}'.format(i+1))))\n",
    "\n",
    "print('\\nFrequências:', freqs)\n",
    "\n",
    "media = np.dot(medias, freqs) / sum(freqs) ; print('\\nMédia:', media)"
   ]
  },
  {
   "cell_type": "markdown",
   "metadata": {},
   "source": [
    "# Percentil / Mediana"
   ]
  },
  {
   "cell_type": "code",
   "execution_count": null,
   "metadata": {
    "jupyter": {
     "source_hidden": true
    }
   },
   "outputs": [],
   "source": [
    "limite_inf = 0\n",
    "for i, freq in enumerate(freqs):\n",
    "\n",
    "    limite_inf += freq\n",
    "    \n",
    "    if limite_inf > posto_percentil:\n",
    "        \n",
    "        limite_inf -= freq\n",
    "        freq_interesse = freq\n",
    "        \n",
    "        break\n",
    "\n",
    "print('Frequencia inferior:', limite_inf,\n",
    "      '\\nIntervalo freq de interesse:', freq_interesse)"
   ]
  },
  {
   "cell_type": "code",
   "execution_count": 274,
   "metadata": {},
   "outputs": [
    {
     "name": "stdin",
     "output_type": "stream",
     "text": [
      "Quantos valores? 6\n",
      "valor 1: 3\n",
      "valor 2: 17\n",
      "valor 3: 28\n",
      "valor 4: 33\n",
      "valor 5: 28\n",
      "valor 6: 3\n"
     ]
    },
    {
     "name": "stdout",
     "output_type": "stream",
     "text": [
      "[3, 17, 28, 33, 28, 3]\n"
     ]
    },
    {
     "name": "stdin",
     "output_type": "stream",
     "text": [
      "\n",
      "insira o percentil 0.9\n"
     ]
    },
    {
     "name": "stdout",
     "output_type": "stream",
     "text": [
      "Posto original 100.8\n",
      "\n",
      "Total: 112 \n",
      "Posto percentil final (P) 100.8\n",
      "Frequencia inferior (fai): 81\n",
      "\n",
      "Frequência do inervalo de interesse (fq): 28\n"
     ]
    },
    {
     "name": "stdin",
     "output_type": "stream",
     "text": [
      "Limite inferior do intervalo de classe (Li): 21\n",
      "Limite superior do intervalo de classe: 26\n"
     ]
    },
    {
     "name": "stdout",
     "output_type": "stream",
     "text": [
      "intervalo de classe (h): 5\n",
      "\n",
      "O percentil 90.0 corresponde a 24.535714285714285\n"
     ]
    }
   ],
   "source": [
    "freqs = []\n",
    "for i in range(int(input('Quantos valores?'))):\n",
    "    \n",
    "    freqs.append(int(input('valor {}:'.format(i+1))))\n",
    "\n",
    "cum = np.cumsum(freqs); cum\n",
    "print(freqs)\n",
    "\n",
    "total = sum(freqs); total\n",
    "\n",
    "percentil = float(input('\\ninsira o percentil'))\n",
    "\n",
    "posto_percentil = total*percentil\n",
    "print('Posto original', posto_percentil)\n",
    "\n",
    "#if (posto_percentil - int(posto_percentil)) == 0: posto_percentil += 0.5\n",
    "#else: posto_percentil = int(posto_percentil)+1 \n",
    "\n",
    "print('\\nTotal:', total, '\\nPosto percentil final (P)', posto_percentil)\n",
    "\n",
    "limite_inf = 0\n",
    "for i, cum_freq in enumerate(cum):\n",
    "\n",
    "    if cum_freq > posto_percentil:\n",
    "        \n",
    "        limite_inf = cum[i-1]\n",
    "        freq_interesse = freqs[i]\n",
    "        \n",
    "        break\n",
    "\n",
    "print('Frequencia inferior (fai):', limite_inf)\n",
    "print('\\nFrequência do inervalo de interesse (fq):', freq_interesse)\n",
    "\n",
    "classe_inf = int(input('Limite inferior do intervalo de classe (Li):'))\n",
    "classe_sup = int(input('Limite superior do intervalo de classe:'))\n",
    "\n",
    "intervalo_classe = classe_sup - classe_inf; print('intervalo de classe (h):', intervalo_classe)\n",
    "\n",
    "resposta = classe_inf + (posto_percentil - limite_inf) * (intervalo_classe / freq_interesse); \n",
    "\n",
    "print('\\nO percentil {} corresponde a {}'.format(round(percentil*100, 0), resposta))"
   ]
  },
  {
   "cell_type": "code",
   "execution_count": 14,
   "metadata": {},
   "outputs": [
    {
     "data": {
      "text/plain": [
       "14.774509803921568"
      ]
     },
     "execution_count": 14,
     "metadata": {},
     "output_type": "execute_result"
    }
   ],
   "source": [
    "11 + 5/51 * dif   # mediana"
   ]
  },
  {
   "cell_type": "markdown",
   "metadata": {},
   "source": [
    "# Moda"
   ]
  },
  {
   "cell_type": "code",
   "execution_count": 9,
   "metadata": {},
   "outputs": [
    {
     "name": "stdin",
     "output_type": "stream",
     "text": [
      "Quantos valores? 6\n",
      "valor 1: 1\n",
      "valor 2: 19\n",
      "valor 3: 65\n",
      "valor 4: 31\n",
      "valor 5: 18\n",
      "valor 6: 3\n"
     ]
    },
    {
     "name": "stdout",
     "output_type": "stream",
     "text": [
      "[1, 19, 65, 31, 18, 3]\n",
      "\n",
      "Frequencia modal: 65\n"
     ]
    },
    {
     "name": "stdin",
     "output_type": "stream",
     "text": [
      "Limite inferior da classe modal: 11\n",
      "Limite superior da classe modal: 16\n"
     ]
    },
    {
     "name": "stdout",
     "output_type": "stream",
     "text": [
      "intervalo de classe (h): 5\n",
      "\n",
      "Moda: 13.875\n"
     ]
    }
   ],
   "source": [
    "freqs = []\n",
    "for i in range(int(input('Quantos valores?'))):    \n",
    "    freqs.append(int(input('valor {}:'.format(i+1))))\n",
    "    \n",
    "print(freqs)\n",
    "\n",
    "freq_modal = max(freqs)\n",
    "indice_modal = freqs.index(freq_modal)\n",
    "delta_1, delta_2 = [freq_modal - freqs[i] for i in [indice_modal-1, indice_modal+1]]\n",
    "print('\\nFrequencia modal: {}'.format(freq_modal))\n",
    "\n",
    "classe_inf = int(input('Limite inferior da classe modal:'))\n",
    "classe_sup = int(input('Limite superior da classe modal:'))\n",
    "intervalo_classe = classe_sup - classe_inf; print('intervalo de classe (h):', intervalo_classe)\n",
    "\n",
    "moda = classe_inf + intervalo_classe * delta_1 / (delta_1 + delta_2)\n",
    "print('\\nModa: {}'.format(moda))"
   ]
  },
  {
   "cell_type": "code",
   "execution_count": 260,
   "metadata": {},
   "outputs": [
    {
     "data": {
      "text/plain": [
       "14.1875"
      ]
     },
     "execution_count": 260,
     "metadata": {},
     "output_type": "execute_result"
    }
   ],
   "source": [
    "### moda"
   ]
  },
  {
   "cell_type": "markdown",
   "metadata": {},
   "source": [
    "# Regressão"
   ]
  },
  {
   "cell_type": "code",
   "execution_count": 18,
   "metadata": {},
   "outputs": [],
   "source": [
    "x = pd.DataFrame([2,5,11,8,8,13,15,15,6,10,12,15])\n",
    "y = pd.DataFrame([15,20,24,18,18,26,28,24,13,21,22,31])"
   ]
  },
  {
   "cell_type": "code",
   "execution_count": 19,
   "metadata": {},
   "outputs": [
    {
     "name": "stdout",
     "output_type": "stream",
     "text": [
      "a: [[1.07425743]]\n",
      "b: [10.92409241]\n"
     ]
    }
   ],
   "source": [
    "LR = lr().fit(x, y)\n",
    "\n",
    "a = LR.coef_; print('a:', a)   # coeficiente \"a\"\n",
    "\n",
    "b = LR.intercept_; print('b:', b)   # coeficiente \"b\""
   ]
  },
  {
   "cell_type": "markdown",
   "metadata": {},
   "source": [
    "# Coeficiente de determinação"
   ]
  },
  {
   "cell_type": "code",
   "execution_count": 22,
   "metadata": {},
   "outputs": [],
   "source": [
    "y_pred = LR.predict(x)"
   ]
  },
  {
   "cell_type": "code",
   "execution_count": 23,
   "metadata": {},
   "outputs": [
    {
     "data": {
      "text/plain": [
       "0.7601538958243651"
      ]
     },
     "execution_count": 23,
     "metadata": {},
     "output_type": "execute_result"
    }
   ],
   "source": [
    "r2_score(y, y_pred)"
   ]
  },
  {
   "cell_type": "markdown",
   "metadata": {},
   "source": [
    "# Previsão"
   ]
  },
  {
   "cell_type": "code",
   "execution_count": 55,
   "metadata": {},
   "outputs": [
    {
     "data": {
      "text/plain": [
       "array([[76.0599455]])"
      ]
     },
     "execution_count": 55,
     "metadata": {},
     "output_type": "execute_result"
    }
   ],
   "source": [
    "LR.predict([[60]])  # y dado x"
   ]
  },
  {
   "cell_type": "code",
   "execution_count": null,
   "metadata": {},
   "outputs": [],
   "source": [
    "Y = a*X + b"
   ]
  },
  {
   "cell_type": "code",
   "execution_count": 16,
   "metadata": {},
   "outputs": [],
   "source": [
    "Y = 33"
   ]
  },
  {
   "cell_type": "code",
   "execution_count": 17,
   "metadata": {},
   "outputs": [
    {
     "data": {
      "text/plain": [
       "array([[20.11419576]])"
      ]
     },
     "execution_count": 17,
     "metadata": {},
     "output_type": "execute_result"
    }
   ],
   "source": [
    "X = (Y - b) / a; X"
   ]
  },
  {
   "cell_type": "markdown",
   "metadata": {},
   "source": [
    "### Correlação"
   ]
  },
  {
   "cell_type": "code",
   "execution_count": 68,
   "metadata": {},
   "outputs": [],
   "source": [
    "table = pd.concat([x, y], 1)"
   ]
  },
  {
   "cell_type": "code",
   "execution_count": 69,
   "metadata": {},
   "outputs": [
    {
     "data": {
      "text/html": [
       "<div>\n",
       "<style scoped>\n",
       "    .dataframe tbody tr th:only-of-type {\n",
       "        vertical-align: middle;\n",
       "    }\n",
       "\n",
       "    .dataframe tbody tr th {\n",
       "        vertical-align: top;\n",
       "    }\n",
       "\n",
       "    .dataframe thead th {\n",
       "        text-align: right;\n",
       "    }\n",
       "</style>\n",
       "<table border=\"1\" class=\"dataframe\">\n",
       "  <thead>\n",
       "    <tr style=\"text-align: right;\">\n",
       "      <th></th>\n",
       "      <th>0</th>\n",
       "      <th>0</th>\n",
       "    </tr>\n",
       "  </thead>\n",
       "  <tbody>\n",
       "    <tr>\n",
       "      <th>0</th>\n",
       "      <td>1.000000</td>\n",
       "      <td>0.857143</td>\n",
       "    </tr>\n",
       "    <tr>\n",
       "      <th>0</th>\n",
       "      <td>0.857143</td>\n",
       "      <td>1.000000</td>\n",
       "    </tr>\n",
       "  </tbody>\n",
       "</table>\n",
       "</div>"
      ],
      "text/plain": [
       "          0         0\n",
       "0  1.000000  0.857143\n",
       "0  0.857143  1.000000"
      ]
     },
     "execution_count": 69,
     "metadata": {},
     "output_type": "execute_result"
    }
   ],
   "source": [
    "table.corr()   # correlação entre x e y"
   ]
  },
  {
   "cell_type": "markdown",
   "metadata": {},
   "source": [
    "# Categóricas"
   ]
  },
  {
   "cell_type": "code",
   "execution_count": 29,
   "metadata": {},
   "outputs": [],
   "source": [
    "A_contra = 80\n",
    "A = 240\n",
    "Ao = 70\n",
    "\n",
    "B_contra = 270\n",
    "Bo = 50\n",
    "B = 800 - sum([A_contra, A, Ao, B_contra, B])"
   ]
  },
  {
   "cell_type": "code",
   "execution_count": 30,
   "metadata": {},
   "outputs": [],
   "source": [
    "total = sum([A_contra, A, Ao, B_contra, B, Bo])"
   ]
  },
  {
   "cell_type": "code",
   "execution_count": 31,
   "metadata": {},
   "outputs": [
    {
     "data": {
      "text/plain": [
       "0.4375"
      ]
     },
     "execution_count": 31,
     "metadata": {},
     "output_type": "execute_result"
    }
   ],
   "source": [
    "(A_contra + B_contra)/total"
   ]
  },
  {
   "cell_type": "code",
   "execution_count": 32,
   "metadata": {},
   "outputs": [
    {
     "data": {
      "text/plain": [
       "0.6585365853658537"
      ]
     },
     "execution_count": 32,
     "metadata": {},
     "output_type": "execute_result"
    }
   ],
   "source": [
    "B_contra / sum([B_contra, B, Bo])"
   ]
  },
  {
   "cell_type": "code",
   "execution_count": 33,
   "metadata": {},
   "outputs": [
    {
     "data": {
      "text/plain": [
       "0.7272727272727273"
      ]
     },
     "execution_count": 33,
     "metadata": {},
     "output_type": "execute_result"
    }
   ],
   "source": [
    "A / (A + B)"
   ]
  },
  {
   "cell_type": "code",
   "execution_count": 34,
   "metadata": {},
   "outputs": [
    {
     "data": {
      "text/plain": [
       "0.7714285714285715"
      ]
     },
     "execution_count": 34,
     "metadata": {},
     "output_type": "execute_result"
    }
   ],
   "source": [
    "B_contra / (A_contra + B_contra)"
   ]
  },
  {
   "cell_type": "code",
   "execution_count": null,
   "metadata": {},
   "outputs": [],
   "source": []
  }
 ],
 "metadata": {
  "kernelspec": {
   "display_name": "Python 3",
   "language": "python",
   "name": "python3"
  },
  "language_info": {
   "codemirror_mode": {
    "name": "ipython",
    "version": 3
   },
   "file_extension": ".py",
   "mimetype": "text/x-python",
   "name": "python",
   "nbconvert_exporter": "python",
   "pygments_lexer": "ipython3",
   "version": "3.8.3"
  }
 },
 "nbformat": 4,
 "nbformat_minor": 4
}
