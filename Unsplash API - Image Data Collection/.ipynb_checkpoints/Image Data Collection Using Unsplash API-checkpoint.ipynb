{
 "cells": [
  {
   "cell_type": "code",
   "execution_count": 7,
   "metadata": {},
   "outputs": [],
   "source": [
    "from bs4 import BeautifulSoup\n",
    "import requests\n",
    "import pandas as pd\n",
    "import numpy as np\n",
    "import matplotlib.pyplot as plt\n",
    "import seaborn as sns\n",
    "import json\n",
    "import urllib"
   ]
  },
  {
   "cell_type": "code",
   "execution_count": 22,
   "metadata": {},
   "outputs": [],
   "source": [
    "unsplash = {\n",
    "    'api_key': '5fRBt7AhEBCWmlgXrHd-k6RYsEq0t4aJGy5kxkCofDQ',\n",
    "    'url': 'https://api.unsplash.com/'\n",
    "}"
   ]
  },
  {
   "cell_type": "code",
   "execution_count": 94,
   "metadata": {},
   "outputs": [],
   "source": [
    "a, b = 'X-Ratelimit-Limit', 'X-Ratelimit-Remaining'\n",
    "\n",
    "def getUnsplash(url_params, endpoint='photos'):\n",
    "    url = unsplash['url'] + endpoint + '?' + urllib.parse.urlencode(url_params)\n",
    "    response = requests.get(url)\n",
    "    headers = response.headers\n",
    "    content = json.loads(response._content)\n",
    "    limit = {\n",
    "        a: topic_headers[a],\n",
    "        b: topic_headers[b]\n",
    "    }    \n",
    "    return content, limit"
   ]
  },
  {
   "cell_type": "markdown",
   "metadata": {},
   "source": [
    "## Get 'topics' endpoint request"
   ]
  },
  {
   "cell_type": "code",
   "execution_count": 97,
   "metadata": {},
   "outputs": [],
   "source": [
    "topics_params = {\n",
    "    'page': 1,\n",
    "    'per_page': 30,\n",
    "    'order_by': 'position', # featured, latest, oldest, position\n",
    "    'client_id': unsplash['api_key']\n",
    "}\n",
    "\n",
    "topics, limit = getUnsplash(topics_params, endpoint='topics')"
   ]
  },
  {
   "cell_type": "code",
   "execution_count": 99,
   "metadata": {},
   "outputs": [
    {
     "data": {
      "text/plain": [
       "{'X-Ratelimit-Limit': '50', 'X-Ratelimit-Remaining': '43'}"
      ]
     },
     "execution_count": 99,
     "metadata": {},
     "output_type": "execute_result"
    }
   ],
   "source": [
    "limit"
   ]
  },
  {
   "cell_type": "markdown",
   "metadata": {},
   "source": [
    "### Saving Topics data as json"
   ]
  },
  {
   "cell_type": "code",
   "execution_count": 100,
   "metadata": {},
   "outputs": [],
   "source": [
    "topics_str = json.dumps(topics, indent=4)\n",
    "\n",
    "#open('data/topics.json', 'w').write(topics_str)"
   ]
  },
  {
   "cell_type": "code",
   "execution_count": 117,
   "metadata": {},
   "outputs": [
    {
     "name": "stdout",
     "output_type": "stream",
     "text": [
      "[\n",
      "    {\n",
      "        \"id\": \"9QVREH9A3DU\",\n",
      "        \"slug\": \"entrepreneur\",\n",
      "        \"title\": \"Entrepreneur\",\n",
      "        \"description\": \"Microsoft Surface is taking over the Entrepreneur Topic to applaud the tireless effort that goes into owning a business. For the month of February, submit images from any part of the entrepreneurial journey \\u2014 from starting on your couch with a laptop, to working late with endless cups of coffee, to commanding a board meeting for your employees.  \\r\\n\\r\\n<p>Learn more\n"
     ]
    }
   ],
   "source": [
    "print(topics_str[:500])"
   ]
  },
  {
   "cell_type": "markdown",
   "metadata": {},
   "source": [
    "## Get 'photos' endpoint request"
   ]
  },
  {
   "cell_type": "code",
   "execution_count": 112,
   "metadata": {},
   "outputs": [],
   "source": [
    "photos_params = {\n",
    "    'page': 1,\n",
    "    'per_page': 30,\n",
    "    'order_by': 'latest',\n",
    "    'client_id': unsplash['api_key']\n",
    "}\n",
    "\n",
    "photos, limit = getUnsplash(photos_params, endpoint='photos')"
   ]
  },
  {
   "cell_type": "markdown",
   "metadata": {},
   "source": [
    "### Saving Topics data as json"
   ]
  },
  {
   "cell_type": "code",
   "execution_count": 113,
   "metadata": {},
   "outputs": [
    {
     "data": {
      "text/plain": [
       "144008"
      ]
     },
     "execution_count": 113,
     "metadata": {},
     "output_type": "execute_result"
    }
   ],
   "source": [
    "photos_str = json.dumps(photos, indent=4)\n",
    "\n",
    "#open('data/photos.json', 'w').write(photos_str)"
   ]
  },
  {
   "cell_type": "code",
   "execution_count": 116,
   "metadata": {},
   "outputs": [
    {
     "name": "stdout",
     "output_type": "stream",
     "text": [
      "[\n",
      "    {\n",
      "        \"id\": \"XmQRK0d2eos\",\n",
      "        \"created_at\": \"2021-12-27T11:33:13-05:00\",\n",
      "        \"updated_at\": \"2022-02-25T23:26:55-05:00\",\n",
      "        \"promoted_at\": null,\n",
      "        \"width\": 4000,\n",
      "        \"height\": 6000,\n",
      "        \"color\": \"#d9d9d9\",\n",
      "        \"blur_hash\": \"LcF~ga_NRiD%_2%goeRjM{NGbHog\",\n",
      "        \"description\": null,\n",
      "        \"alt_description\": null,\n",
      "        \"urls\": {\n",
      "            \"raw\": \"https://images.unsplash.com/photo-1640622657553-f5af5b34ee2d?ixid=MnwzMDUzNzN8MXwxfGFsbHwxfHx8fHx8Mnx8MT\n"
     ]
    }
   ],
   "source": [
    "print(photos_str[:500])"
   ]
  }
 ],
 "metadata": {
  "kernelspec": {
   "display_name": "Python 3",
   "language": "python",
   "name": "python3"
  },
  "language_info": {
   "codemirror_mode": {
    "name": "ipython",
    "version": 3
   },
   "file_extension": ".py",
   "mimetype": "text/x-python",
   "name": "python",
   "nbconvert_exporter": "python",
   "pygments_lexer": "ipython3",
   "version": "3.8.3"
  }
 },
 "nbformat": 4,
 "nbformat_minor": 4
}
