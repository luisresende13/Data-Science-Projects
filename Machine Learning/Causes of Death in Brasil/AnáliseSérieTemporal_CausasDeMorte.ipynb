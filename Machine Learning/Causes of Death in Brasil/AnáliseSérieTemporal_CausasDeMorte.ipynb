{
 "cells": [
  {
   "cell_type": "markdown",
   "metadata": {},
   "source": [
    "# Importando bibliotecas"
   ]
  },
  {
   "cell_type": "code",
   "execution_count": 583,
   "metadata": {},
   "outputs": [],
   "source": [
    "import pandas as pd               # Data Handling\n",
    "import numpy as np                # Scientific computing\n",
    "import matplotlib.pyplot as plt   # Data visualization\n",
    "\n",
    "import os                         #File and path handling\n",
    "import dataframe_image as dfi     #Save dataframe as image\n",
    "import imageio"
   ]
  },
  {
   "cell_type": "code",
   "execution_count": 676,
   "metadata": {},
   "outputs": [],
   "source": [
    "from IPython.display import clear_output"
   ]
  },
  {
   "cell_type": "markdown",
   "metadata": {},
   "source": [
    "### Configurações"
   ]
  },
  {
   "cell_type": "code",
   "execution_count": 1133,
   "metadata": {},
   "outputs": [],
   "source": [
    "import warnings; warnings.filterwarnings('ignore')\n",
    "import seaborn as sns; sns.set()"
   ]
  },
  {
   "cell_type": "markdown",
   "metadata": {},
   "source": [
    "### Funções"
   ]
  },
  {
   "cell_type": "code",
   "execution_count": 1552,
   "metadata": {},
   "outputs": [],
   "source": [
    "def set_fig(x=5, y=3, grid=111):\n",
    "    \n",
    "    fig = plt.figure(figsize=(x,y)); ax = fig.add_subplot(grid)\n",
    "    return fig, ax"
   ]
  },
  {
   "cell_type": "markdown",
   "metadata": {},
   "source": [
    "# Lendo Dados (em csv com pandas)"
   ]
  },
  {
   "cell_type": "code",
   "execution_count": 14,
   "metadata": {},
   "outputs": [],
   "source": [
    "cod = pd.read_csv('data/cod_brasil_obitos.csv')"
   ]
  },
  {
   "cell_type": "code",
   "execution_count": 16,
   "metadata": {},
   "outputs": [
    {
     "data": {
      "text/html": [
       "<div>\n",
       "<style scoped>\n",
       "    .dataframe tbody tr th:only-of-type {\n",
       "        vertical-align: middle;\n",
       "    }\n",
       "\n",
       "    .dataframe tbody tr th {\n",
       "        vertical-align: top;\n",
       "    }\n",
       "\n",
       "    .dataframe thead th {\n",
       "        text-align: right;\n",
       "    }\n",
       "</style>\n",
       "<table border=\"1\" class=\"dataframe\">\n",
       "  <thead>\n",
       "    <tr style=\"text-align: right;\">\n",
       "      <th></th>\n",
       "      <th>_id</th>\n",
       "      <th>Causa</th>\n",
       "      <th>Causa Classificada</th>\n",
       "      <th>UF ID</th>\n",
       "      <th>Unidade de federação</th>\n",
       "      <th>Sexo</th>\n",
       "      <th>Idade</th>\n",
       "      <th>Ano</th>\n",
       "      <th>Taxa de mortalidade</th>\n",
       "      <th>Número de óbitos</th>\n",
       "      <th>Mortalidade Proporcional</th>\n",
       "      <th>Classificação</th>\n",
       "      <th>top</th>\n",
       "      <th>filtro_1</th>\n",
       "    </tr>\n",
       "  </thead>\n",
       "  <tbody>\n",
       "    <tr>\n",
       "      <th>0</th>\n",
       "      <td>1650550</td>\n",
       "      <td>Glomerulonefrite aguda</td>\n",
       "      <td>108 Glomerulonefrite aguda</td>\n",
       "      <td>135</td>\n",
       "      <td>Brasil</td>\n",
       "      <td>Ambos</td>\n",
       "      <td>Todas as idades (padronizado)</td>\n",
       "      <td>1990</td>\n",
       "      <td>0.18</td>\n",
       "      <td>0</td>\n",
       "      <td>0</td>\n",
       "      <td>108</td>\n",
       "      <td>NaN</td>\n",
       "      <td>NaN</td>\n",
       "    </tr>\n",
       "    <tr>\n",
       "      <th>1</th>\n",
       "      <td>1650655</td>\n",
       "      <td>Câncer de mama</td>\n",
       "      <td>020 Câncer de mama</td>\n",
       "      <td>135</td>\n",
       "      <td>Brasil</td>\n",
       "      <td>Ambos</td>\n",
       "      <td>Todas as idades (padronizado)</td>\n",
       "      <td>2000</td>\n",
       "      <td>9.19</td>\n",
       "      <td>0</td>\n",
       "      <td>0</td>\n",
       "      <td>20</td>\n",
       "      <td>NaN</td>\n",
       "      <td>NaN</td>\n",
       "    </tr>\n",
       "    <tr>\n",
       "      <th>2</th>\n",
       "      <td>1650741</td>\n",
       "      <td>Glomerulonefrite aguda</td>\n",
       "      <td>119 Glomerulonefrite aguda</td>\n",
       "      <td>135</td>\n",
       "      <td>Brasil</td>\n",
       "      <td>Ambos</td>\n",
       "      <td>Todas as idades (padronizado)</td>\n",
       "      <td>2014</td>\n",
       "      <td>0.03</td>\n",
       "      <td>0</td>\n",
       "      <td>0</td>\n",
       "      <td>119</td>\n",
       "      <td>NaN</td>\n",
       "      <td>NaN</td>\n",
       "    </tr>\n",
       "    <tr>\n",
       "      <th>3</th>\n",
       "      <td>1650752</td>\n",
       "      <td>Hepatite</td>\n",
       "      <td>086 Hepatite</td>\n",
       "      <td>135</td>\n",
       "      <td>Brasil</td>\n",
       "      <td>Ambos</td>\n",
       "      <td>Todas as idades (padronizado)</td>\n",
       "      <td>2010</td>\n",
       "      <td>0.62</td>\n",
       "      <td>0</td>\n",
       "      <td>0</td>\n",
       "      <td>86</td>\n",
       "      <td>NaN</td>\n",
       "      <td>NaN</td>\n",
       "    </tr>\n",
       "    <tr>\n",
       "      <th>4</th>\n",
       "      <td>1650782</td>\n",
       "      <td>Apendicite</td>\n",
       "      <td>086 Apendicite</td>\n",
       "      <td>135</td>\n",
       "      <td>Brasil</td>\n",
       "      <td>Ambos</td>\n",
       "      <td>Todas as idades (padronizado)</td>\n",
       "      <td>2016</td>\n",
       "      <td>0.66</td>\n",
       "      <td>0</td>\n",
       "      <td>0</td>\n",
       "      <td>86</td>\n",
       "      <td>NaN</td>\n",
       "      <td>NaN</td>\n",
       "    </tr>\n",
       "  </tbody>\n",
       "</table>\n",
       "</div>"
      ],
      "text/plain": [
       "       _id                   Causa          Causa Classificada  UF ID  \\\n",
       "0  1650550  Glomerulonefrite aguda  108 Glomerulonefrite aguda    135   \n",
       "1  1650655          Câncer de mama          020 Câncer de mama    135   \n",
       "2  1650741  Glomerulonefrite aguda  119 Glomerulonefrite aguda    135   \n",
       "3  1650752                Hepatite                086 Hepatite    135   \n",
       "4  1650782              Apendicite              086 Apendicite    135   \n",
       "\n",
       "  Unidade de federação   Sexo                          Idade   Ano  \\\n",
       "0               Brasil  Ambos  Todas as idades (padronizado)  1990   \n",
       "1               Brasil  Ambos  Todas as idades (padronizado)  2000   \n",
       "2               Brasil  Ambos  Todas as idades (padronizado)  2014   \n",
       "3               Brasil  Ambos  Todas as idades (padronizado)  2010   \n",
       "4               Brasil  Ambos  Todas as idades (padronizado)  2016   \n",
       "\n",
       "   Taxa de mortalidade  Número de óbitos  Mortalidade Proporcional  \\\n",
       "0                 0.18                 0                         0   \n",
       "1                 9.19                 0                         0   \n",
       "2                 0.03                 0                         0   \n",
       "3                 0.62                 0                         0   \n",
       "4                 0.66                 0                         0   \n",
       "\n",
       "   Classificação  top  filtro_1  \n",
       "0            108  NaN       NaN  \n",
       "1             20  NaN       NaN  \n",
       "2            119  NaN       NaN  \n",
       "3             86  NaN       NaN  \n",
       "4             86  NaN       NaN  "
      ]
     },
     "execution_count": 16,
     "metadata": {},
     "output_type": "execute_result"
    }
   ],
   "source": [
    "cod.head()"
   ]
  }
 ],
 "metadata": {
  "kernelspec": {
   "display_name": "Python 3",
   "language": "python",
   "name": "python3"
  },
  "language_info": {
   "codemirror_mode": {
    "name": "ipython",
    "version": 3
   },
   "file_extension": ".py",
   "mimetype": "text/x-python",
   "name": "python",
   "nbconvert_exporter": "python",
   "pygments_lexer": "ipython3",
   "version": "3.8.3"
  }
 },
 "nbformat": 4,
 "nbformat_minor": 4
}
