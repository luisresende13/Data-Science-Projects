{
 "cells": [
  {
   "cell_type": "markdown",
   "metadata": {},
   "source": [
    "# Multiple Linear Regression"
   ]
  },
  {
   "cell_type": "code",
   "execution_count": 166,
   "metadata": {},
   "outputs": [],
   "source": [
    "import pandas as pd\n",
    "import numpy as np\n",
    "import matplotlib.pyplot as plt"
   ]
  },
  {
   "cell_type": "markdown",
   "metadata": {},
   "source": [
    "### Loading Data"
   ]
  },
  {
   "cell_type": "code",
   "execution_count": 167,
   "metadata": {},
   "outputs": [],
   "source": [
    "sample = pd.read_csv('\\\\Users\\luisr\\Desktop\\Repository\\IBM_courses\\Samples\\\\cod_sample_cleaned.csv').drop('Unnamed: 0', axis=1) # Need fix"
   ]
  },
  {
   "cell_type": "markdown",
   "metadata": {},
   "source": [
    "### Exploratory Analysis"
   ]
  },
  {
   "cell_type": "code",
   "execution_count": 6,
   "metadata": {},
   "outputs": [],
   "source": [
    "time_corr = sample.corr()[['Years']]\n",
    "\n",
    "top_time_corr =time_corr[abs(time_corr['Years'])>0.90]\n",
    "top_time_corr = top_time_corr.sort_values('Years', ascending=False)"
   ]
  },
  {
   "cell_type": "code",
   "execution_count": 9,
   "metadata": {},
   "outputs": [],
   "source": [
    "counts = []\n",
    "\n",
    "for col in sample.columns[4:]:\n",
    "    \n",
    "    col_corr = sample.corr()[[col]]\n",
    "    col_cnt = col_corr[np.abs(col_corr[col])>0.95][col].count()\n",
    "    \n",
    "    counts.append([col, col_cnt])\n",
    "    \n",
    "corr_rank = pd.DataFrame(counts, columns=['Feature', 'N° of corr.'])\n",
    "\n",
    "corr_rank = corr_rank.sort_values('N° of corr.', ascending=False)\n",
    "corr_rank = corr_rank.reset_index(drop=True)"
   ]
  },
  {
   "cell_type": "code",
   "execution_count": 40,
   "metadata": {},
   "outputs": [],
   "source": [
    "def get_corr(trg, sample, min_corr=0.9):\n",
    "    \n",
    "    trg_corr = sample.corr()[[trg]]\n",
    "\n",
    "    trg_corr = trg_corr.sort_values(trg, ascending=False)\n",
    "    trg_corr = trg_corr[np.abs(trg_corr[trg]) > min_corr]\n",
    "    \n",
    "    trg_corr.rename(columns={trg:trg+' corr'}, inplace=True)\n",
    "    \n",
    "    return trg_corr\n"
   ]
  },
  {
   "cell_type": "markdown",
   "metadata": {},
   "source": [
    "#### Target Definition"
   ]
  },
  {
   "cell_type": "code",
   "execution_count": 41,
   "metadata": {},
   "outputs": [],
   "source": [
    "trg = 'Chronic liver disease'\n",
    "\n",
    "trg_corr = get_corr(trg, sample, min_corr=0.85)"
   ]
  },
  {
   "cell_type": "code",
   "execution_count": 42,
   "metadata": {},
   "outputs": [
    {
     "data": {
      "text/html": [
       "<div>\n",
       "<style scoped>\n",
       "    .dataframe tbody tr th:only-of-type {\n",
       "        vertical-align: middle;\n",
       "    }\n",
       "\n",
       "    .dataframe tbody tr th {\n",
       "        vertical-align: top;\n",
       "    }\n",
       "\n",
       "    .dataframe thead th {\n",
       "        text-align: right;\n",
       "    }\n",
       "</style>\n",
       "<table border=\"1\" class=\"dataframe\">\n",
       "  <thead>\n",
       "    <tr style=\"text-align: right;\">\n",
       "      <th></th>\n",
       "      <th>Chronic liver disease corr</th>\n",
       "    </tr>\n",
       "  </thead>\n",
       "  <tbody>\n",
       "    <tr>\n",
       "      <th>Chronic liver disease</th>\n",
       "      <td>1.000000</td>\n",
       "    </tr>\n",
       "    <tr>\n",
       "      <th>Cerebrovascular diseases</th>\n",
       "      <td>0.985631</td>\n",
       "    </tr>\n",
       "    <tr>\n",
       "      <th>Diseases of the circulatory system (I00-I99)</th>\n",
       "      <td>0.981677</td>\n",
       "    </tr>\n",
       "    <tr>\n",
       "      <th>External causes of morbidity and mortality (V01-Y89)</th>\n",
       "      <td>0.978705</td>\n",
       "    </tr>\n",
       "    <tr>\n",
       "      <th>Accidents</th>\n",
       "      <td>0.964024</td>\n",
       "    </tr>\n",
       "  </tbody>\n",
       "</table>\n",
       "</div>"
      ],
      "text/plain": [
       "                                                    Chronic liver disease corr\n",
       "Chronic liver disease                                                 1.000000\n",
       "Cerebrovascular diseases                                              0.985631\n",
       "Diseases of the circulatory system (I00-I99)                          0.981677\n",
       "External causes of morbidity and mortality (V01...                    0.978705\n",
       "Accidents                                                             0.964024"
      ]
     },
     "execution_count": 42,
     "metadata": {},
     "output_type": "execute_result"
    }
   ],
   "source": [
    "trg_corr.head()"
   ]
  },
  {
   "cell_type": "markdown",
   "metadata": {},
   "source": [
    "### Spliting Train and test Sets"
   ]
  },
  {
   "cell_type": "code",
   "execution_count": 159,
   "metadata": {},
   "outputs": [],
   "source": [
    "in_sample = np.random.rand(len(sample))<0.75\n",
    "\n",
    "\n",
    "train_set = sample[in_sample]\n",
    "test_set = sample[~in_sample]\n",
    "\n",
    "y_train = train_set[trg]\n",
    "x_train = train_set[trg_corr.index[1:]]\n",
    "\n",
    "y_test = test_set[trg]\n",
    "x_test = test_set[trg_corr.index[1:]]"
   ]
  },
  {
   "cell_type": "code",
   "execution_count": 160,
   "metadata": {},
   "outputs": [
    {
     "data": {
      "text/plain": [
       "((6,), (2,), (6, 19), (2, 19))"
      ]
     },
     "execution_count": 160,
     "metadata": {},
     "output_type": "execute_result"
    }
   ],
   "source": [
    "y_train.shape, y_test.shape, x_train.shape, x_test.shape"
   ]
  },
  {
   "cell_type": "markdown",
   "metadata": {},
   "source": [
    "### Multiple Regression Modeling"
   ]
  },
  {
   "cell_type": "code",
   "execution_count": 161,
   "metadata": {},
   "outputs": [],
   "source": [
    "from sklearn import linear_model\n",
    "\n",
    "regr = linear_model.LinearRegression()\n",
    "\n",
    "regr.fit(x_train, y_train)\n",
    "\n",
    "yo = regr.intercept_\n",
    "ai = regr.coef_"
   ]
  },
  {
   "cell_type": "code",
   "execution_count": 162,
   "metadata": {},
   "outputs": [
    {
     "data": {
      "text/plain": [
       "(7076.741516364473,\n",
       " array([ 2.25088241e-01, -3.30538120e-02,  1.80021379e-01,  5.99600434e-05,\n",
       "         3.25646475e-02,  3.04017698e-02,  1.58923098e-02, -1.23366121e-01,\n",
       "        -7.55196843e-02, -6.69373379e-02,  8.35447079e-02,  1.00048179e-01,\n",
       "         1.50837050e-01,  4.44303420e-03,  2.42941191e-02, -2.48095433e-01,\n",
       "         1.36548463e-02, -7.11092249e-04, -1.28190926e-01]))"
      ]
     },
     "execution_count": 162,
     "metadata": {},
     "output_type": "execute_result"
    }
   ],
   "source": [
    "yo, ai"
   ]
  },
  {
   "cell_type": "markdown",
   "metadata": {},
   "source": [
    "### Evaluation"
   ]
  },
  {
   "cell_type": "code",
   "execution_count": 163,
   "metadata": {},
   "outputs": [],
   "source": [
    "from sklearn import metrics\n",
    "\n",
    "y_hat = regr.predict(x_test)\n",
    "\n",
    "abse = np.mean(np.absolute(y_hat-y_test))\n",
    "msqe = np.mean((y_hat-y_test)**2)\n",
    "\n",
    "R2 = regr.score(x_test, y_test)\n",
    "r2 = metrics.r2_score(y_hat, y_test)\n"
   ]
  },
  {
   "cell_type": "code",
   "execution_count": 164,
   "metadata": {},
   "outputs": [
    {
     "data": {
      "text/plain": [
       "(55.84333096117007, 5849.722573482427)"
      ]
     },
     "execution_count": 164,
     "metadata": {},
     "output_type": "execute_result"
    }
   ],
   "source": [
    "abse, msqe"
   ]
  },
  {
   "cell_type": "code",
   "execution_count": 165,
   "metadata": {},
   "outputs": [
    {
     "data": {
      "text/plain": [
       "(0.9549883708789232, 0.9369748495515826)"
      ]
     },
     "execution_count": 165,
     "metadata": {},
     "output_type": "execute_result"
    }
   ],
   "source": [
    "R2, r2"
   ]
  },
  {
   "cell_type": "markdown",
   "metadata": {},
   "source": [
    "### Visualizing Model"
   ]
  },
  {
   "cell_type": "code",
   "execution_count": null,
   "metadata": {},
   "outputs": [],
   "source": []
  }
 ],
 "metadata": {
  "kernelspec": {
   "display_name": "Python 3",
   "language": "python",
   "name": "python3"
  },
  "language_info": {
   "codemirror_mode": {
    "name": "ipython",
    "version": 3
   },
   "file_extension": ".py",
   "mimetype": "text/x-python",
   "name": "python",
   "nbconvert_exporter": "python",
   "pygments_lexer": "ipython3",
   "version": "3.8.3"
  }
 },
 "nbformat": 4,
 "nbformat_minor": 4
}
