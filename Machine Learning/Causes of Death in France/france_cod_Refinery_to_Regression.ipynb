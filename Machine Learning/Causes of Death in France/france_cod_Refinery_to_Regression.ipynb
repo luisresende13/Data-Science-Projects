{
 "cells": [
  {
   "cell_type": "markdown",
   "metadata": {},
   "source": [
    "# Data Refinery: Causes of death in france"
   ]
  },
  {
   "cell_type": "code",
   "execution_count": 3,
   "metadata": {},
   "outputs": [],
   "source": [
    "import matplotlib.pyplot as plt\n",
    "import pandas \n",
    "import pylab\n",
    "import numpy\n",
    "%matplotlib inline"
   ]
  },
  {
   "cell_type": "markdown",
   "metadata": {},
   "source": [
    "### Loading Raw Dataset"
   ]
  },
  {
   "cell_type": "code",
   "execution_count": 530,
   "metadata": {},
   "outputs": [],
   "source": [
    "cod = pandas.read_csv('\\\\Users\\luisr\\Desktop\\Repository\\IBM_courses\\Samples\\\\causesofdeath_france.csv')\n",
    "cod = cod.drop(['GEO', 'UNIT', 'AGE', 'Flag and Footnotes'], axis=1)"
   ]
  },
  {
   "cell_type": "markdown",
   "metadata": {},
   "source": [
    "### Initial Exploration"
   ]
  },
  {
   "cell_type": "code",
   "execution_count": 531,
   "metadata": {},
   "outputs": [
    {
     "data": {
      "text/html": [
       "<div>\n",
       "<style scoped>\n",
       "    .dataframe tbody tr th:only-of-type {\n",
       "        vertical-align: middle;\n",
       "    }\n",
       "\n",
       "    .dataframe tbody tr th {\n",
       "        vertical-align: top;\n",
       "    }\n",
       "\n",
       "    .dataframe thead th {\n",
       "        text-align: right;\n",
       "    }\n",
       "</style>\n",
       "<table border=\"1\" class=\"dataframe\">\n",
       "  <thead>\n",
       "    <tr style=\"text-align: right;\">\n",
       "      <th></th>\n",
       "      <th>TIME</th>\n",
       "      <th>SEX</th>\n",
       "      <th>ICD10</th>\n",
       "      <th>Value</th>\n",
       "    </tr>\n",
       "  </thead>\n",
       "  <tbody>\n",
       "    <tr>\n",
       "      <th>count</th>\n",
       "      <td>1056.000000</td>\n",
       "      <td>1056</td>\n",
       "      <td>1056</td>\n",
       "      <td>1056</td>\n",
       "    </tr>\n",
       "    <tr>\n",
       "      <th>unique</th>\n",
       "      <td>NaN</td>\n",
       "      <td>2</td>\n",
       "      <td>66</td>\n",
       "      <td>945</td>\n",
       "    </tr>\n",
       "    <tr>\n",
       "      <th>top</th>\n",
       "      <td>NaN</td>\n",
       "      <td>Males</td>\n",
       "      <td>Endocrine, nutritional and metabolic diseases ...</td>\n",
       "      <td>:</td>\n",
       "    </tr>\n",
       "    <tr>\n",
       "      <th>freq</th>\n",
       "      <td>NaN</td>\n",
       "      <td>528</td>\n",
       "      <td>16</td>\n",
       "      <td>40</td>\n",
       "    </tr>\n",
       "    <tr>\n",
       "      <th>mean</th>\n",
       "      <td>2004.500000</td>\n",
       "      <td>NaN</td>\n",
       "      <td>NaN</td>\n",
       "      <td>NaN</td>\n",
       "    </tr>\n",
       "    <tr>\n",
       "      <th>std</th>\n",
       "      <td>2.292374</td>\n",
       "      <td>NaN</td>\n",
       "      <td>NaN</td>\n",
       "      <td>NaN</td>\n",
       "    </tr>\n",
       "    <tr>\n",
       "      <th>min</th>\n",
       "      <td>2001.000000</td>\n",
       "      <td>NaN</td>\n",
       "      <td>NaN</td>\n",
       "      <td>NaN</td>\n",
       "    </tr>\n",
       "    <tr>\n",
       "      <th>25%</th>\n",
       "      <td>2002.750000</td>\n",
       "      <td>NaN</td>\n",
       "      <td>NaN</td>\n",
       "      <td>NaN</td>\n",
       "    </tr>\n",
       "    <tr>\n",
       "      <th>50%</th>\n",
       "      <td>2004.500000</td>\n",
       "      <td>NaN</td>\n",
       "      <td>NaN</td>\n",
       "      <td>NaN</td>\n",
       "    </tr>\n",
       "    <tr>\n",
       "      <th>75%</th>\n",
       "      <td>2006.250000</td>\n",
       "      <td>NaN</td>\n",
       "      <td>NaN</td>\n",
       "      <td>NaN</td>\n",
       "    </tr>\n",
       "    <tr>\n",
       "      <th>max</th>\n",
       "      <td>2008.000000</td>\n",
       "      <td>NaN</td>\n",
       "      <td>NaN</td>\n",
       "      <td>NaN</td>\n",
       "    </tr>\n",
       "  </tbody>\n",
       "</table>\n",
       "</div>"
      ],
      "text/plain": [
       "               TIME    SEX                                              ICD10  \\\n",
       "count   1056.000000   1056                                               1056   \n",
       "unique          NaN      2                                                 66   \n",
       "top             NaN  Males  Endocrine, nutritional and metabolic diseases ...   \n",
       "freq            NaN    528                                                 16   \n",
       "mean    2004.500000    NaN                                                NaN   \n",
       "std        2.292374    NaN                                                NaN   \n",
       "min     2001.000000    NaN                                                NaN   \n",
       "25%     2002.750000    NaN                                                NaN   \n",
       "50%     2004.500000    NaN                                                NaN   \n",
       "75%     2006.250000    NaN                                                NaN   \n",
       "max     2008.000000    NaN                                                NaN   \n",
       "\n",
       "       Value  \n",
       "count   1056  \n",
       "unique   945  \n",
       "top        :  \n",
       "freq      40  \n",
       "mean     NaN  \n",
       "std      NaN  \n",
       "min      NaN  \n",
       "25%      NaN  \n",
       "50%      NaN  \n",
       "75%      NaN  \n",
       "max      NaN  "
      ]
     },
     "execution_count": 531,
     "metadata": {},
     "output_type": "execute_result"
    }
   ],
   "source": [
    "cod.describe(include='all')"
   ]
  },
  {
   "cell_type": "markdown",
   "metadata": {},
   "source": [
    "### Separating Male from Female Data"
   ]
  },
  {
   "cell_type": "code",
   "execution_count": 532,
   "metadata": {},
   "outputs": [],
   "source": [
    "cod_men = cod[cod['SEX']=='Males'].reset_index(drop=True)\n",
    "cod_fem = cod[cod['SEX']=='Females'].reset_index(drop=True)\n"
   ]
  },
  {
   "cell_type": "code",
   "execution_count": 533,
   "metadata": {},
   "outputs": [
    {
     "data": {
      "text/html": [
       "<div>\n",
       "<style scoped>\n",
       "    .dataframe tbody tr th:only-of-type {\n",
       "        vertical-align: middle;\n",
       "    }\n",
       "\n",
       "    .dataframe tbody tr th {\n",
       "        vertical-align: top;\n",
       "    }\n",
       "\n",
       "    .dataframe thead th {\n",
       "        text-align: right;\n",
       "    }\n",
       "</style>\n",
       "<table border=\"1\" class=\"dataframe\">\n",
       "  <thead>\n",
       "    <tr style=\"text-align: right;\">\n",
       "      <th></th>\n",
       "      <th>TIME</th>\n",
       "      <th>SEX</th>\n",
       "      <th>ICD10</th>\n",
       "      <th>Value</th>\n",
       "    </tr>\n",
       "  </thead>\n",
       "  <tbody>\n",
       "    <tr>\n",
       "      <th>0</th>\n",
       "      <td>2001</td>\n",
       "      <td>Males</td>\n",
       "      <td>All causes of death (A00-Y89) excluding S00-T98</td>\n",
       "      <td>277 858</td>\n",
       "    </tr>\n",
       "    <tr>\n",
       "      <th>1</th>\n",
       "      <td>2001</td>\n",
       "      <td>Males</td>\n",
       "      <td>Certain infectious and parasitic diseases (A00...</td>\n",
       "      <td>5 347</td>\n",
       "    </tr>\n",
       "    <tr>\n",
       "      <th>2</th>\n",
       "      <td>2001</td>\n",
       "      <td>Males</td>\n",
       "      <td>Tuberculosis</td>\n",
       "      <td>545</td>\n",
       "    </tr>\n",
       "    <tr>\n",
       "      <th>3</th>\n",
       "      <td>2001</td>\n",
       "      <td>Males</td>\n",
       "      <td>Meningococcal infection</td>\n",
       "      <td>30</td>\n",
       "    </tr>\n",
       "    <tr>\n",
       "      <th>4</th>\n",
       "      <td>2001</td>\n",
       "      <td>Males</td>\n",
       "      <td>Viral hepatitis</td>\n",
       "      <td>471</td>\n",
       "    </tr>\n",
       "  </tbody>\n",
       "</table>\n",
       "</div>"
      ],
      "text/plain": [
       "   TIME    SEX                                              ICD10    Value\n",
       "0  2001  Males    All causes of death (A00-Y89) excluding S00-T98  277 858\n",
       "1  2001  Males  Certain infectious and parasitic diseases (A00...    5 347\n",
       "2  2001  Males                                       Tuberculosis      545\n",
       "3  2001  Males                            Meningococcal infection       30\n",
       "4  2001  Males                                    Viral hepatitis      471"
      ]
     },
     "execution_count": 533,
     "metadata": {},
     "output_type": "execute_result"
    }
   ],
   "source": [
    "cod_men[cod_men['TIME']==2001].head()"
   ]
  },
  {
   "cell_type": "markdown",
   "metadata": {},
   "source": [
    "### Reshaping for Regression"
   ]
  },
  {
   "cell_type": "code",
   "execution_count": 534,
   "metadata": {},
   "outputs": [],
   "source": [
    "years = cod['TIME'].unique()\n",
    "death_causes = cod['ICD10'].unique()[1:]\n",
    "\n",
    "sample_list = [cod_men[cod_men['TIME']==year]['Value'].values[1:] for year in years]"
   ]
  },
  {
   "cell_type": "code",
   "execution_count": 535,
   "metadata": {},
   "outputs": [],
   "source": [
    "sample = pandas.DataFrame(sample_list, index=years, columns=death_causes)\n",
    "\n",
    "sample = sample.reset_index().rename(columns={'index':'Years'})"
   ]
  },
  {
   "cell_type": "code",
   "execution_count": 536,
   "metadata": {},
   "outputs": [
    {
     "data": {
      "text/plain": [
       "((8, 66), (8, 66))"
      ]
     },
     "execution_count": 536,
     "metadata": {},
     "output_type": "execute_result"
    }
   ],
   "source": [
    "sample.shape, (years.size, death_causes.size+1)"
   ]
  },
  {
   "cell_type": "code",
   "execution_count": 537,
   "metadata": {},
   "outputs": [
    {
     "data": {
      "text/html": [
       "<div>\n",
       "<style scoped>\n",
       "    .dataframe tbody tr th:only-of-type {\n",
       "        vertical-align: middle;\n",
       "    }\n",
       "\n",
       "    .dataframe tbody tr th {\n",
       "        vertical-align: top;\n",
       "    }\n",
       "\n",
       "    .dataframe thead th {\n",
       "        text-align: right;\n",
       "    }\n",
       "</style>\n",
       "<table border=\"1\" class=\"dataframe\">\n",
       "  <thead>\n",
       "    <tr style=\"text-align: right;\">\n",
       "      <th></th>\n",
       "      <th>Years</th>\n",
       "      <th>Certain infectious and parasitic diseases (A00-B99)</th>\n",
       "      <th>Tuberculosis</th>\n",
       "      <th>Meningococcal infection</th>\n",
       "      <th>Viral hepatitis</th>\n",
       "      <th>Human immunodeficiency virus [HIV] disease</th>\n",
       "      <th>Neoplasms</th>\n",
       "      <th>Malignant neoplasms (C00-C97)</th>\n",
       "      <th>Malignant neoplasm of lip, oral cavity, pharynx</th>\n",
       "      <th>Malignant neoplasm of oesophagus</th>\n",
       "      <th>...</th>\n",
       "      <th>Sudden infant death syndrome</th>\n",
       "      <th>Ill-defined and unknown causes of mortality</th>\n",
       "      <th>External causes of morbidity and mortality (V01-Y89)</th>\n",
       "      <th>Accidents</th>\n",
       "      <th>Transport accidents (V01-V99)</th>\n",
       "      <th>Falls</th>\n",
       "      <th>Accidental poisoning by and exposure to noxious substances</th>\n",
       "      <th>Intentional self-harm</th>\n",
       "      <th>Assault</th>\n",
       "      <th>Event of undetermined intent</th>\n",
       "    </tr>\n",
       "  </thead>\n",
       "  <tbody>\n",
       "    <tr>\n",
       "      <th>0</th>\n",
       "      <td>2001</td>\n",
       "      <td>5 347</td>\n",
       "      <td>545</td>\n",
       "      <td>30</td>\n",
       "      <td>471</td>\n",
       "      <td>892</td>\n",
       "      <td>91 737</td>\n",
       "      <td>88 481</td>\n",
       "      <td>3 755</td>\n",
       "      <td>3 442</td>\n",
       "      <td>...</td>\n",
       "      <td>229</td>\n",
       "      <td>7 726</td>\n",
       "      <td>25 102</td>\n",
       "      <td>15 867</td>\n",
       "      <td>5 840</td>\n",
       "      <td>2 546</td>\n",
       "      <td>459</td>\n",
       "      <td>7 798</td>\n",
       "      <td>324</td>\n",
       "      <td>553</td>\n",
       "    </tr>\n",
       "    <tr>\n",
       "      <th>1</th>\n",
       "      <td>2002</td>\n",
       "      <td>5 468</td>\n",
       "      <td>507</td>\n",
       "      <td>21</td>\n",
       "      <td>472</td>\n",
       "      <td>835</td>\n",
       "      <td>92 331</td>\n",
       "      <td>89 122</td>\n",
       "      <td>3 834</td>\n",
       "      <td>3 509</td>\n",
       "      <td>...</td>\n",
       "      <td>183</td>\n",
       "      <td>7 475</td>\n",
       "      <td>25 024</td>\n",
       "      <td>15 515</td>\n",
       "      <td>5 672</td>\n",
       "      <td>2 673</td>\n",
       "      <td>405</td>\n",
       "      <td>7 865</td>\n",
       "      <td>325</td>\n",
       "      <td>594</td>\n",
       "    </tr>\n",
       "    <tr>\n",
       "      <th>2</th>\n",
       "      <td>2003</td>\n",
       "      <td>5 616</td>\n",
       "      <td>518</td>\n",
       "      <td>26</td>\n",
       "      <td>406</td>\n",
       "      <td>794</td>\n",
       "      <td>92 631</td>\n",
       "      <td>89 397</td>\n",
       "      <td>3 635</td>\n",
       "      <td>3 401</td>\n",
       "      <td>...</td>\n",
       "      <td>173</td>\n",
       "      <td>7 523</td>\n",
       "      <td>25 133</td>\n",
       "      <td>15 299</td>\n",
       "      <td>4 811</td>\n",
       "      <td>2 788</td>\n",
       "      <td>513</td>\n",
       "      <td>8 187</td>\n",
       "      <td>306</td>\n",
       "      <td>506</td>\n",
       "    </tr>\n",
       "  </tbody>\n",
       "</table>\n",
       "<p>3 rows × 66 columns</p>\n",
       "</div>"
      ],
      "text/plain": [
       "   Years Certain infectious and parasitic diseases (A00-B99) Tuberculosis  \\\n",
       "0   2001                                              5 347           545   \n",
       "1   2002                                              5 468           507   \n",
       "2   2003                                              5 616           518   \n",
       "\n",
       "  Meningococcal infection Viral hepatitis  \\\n",
       "0                      30             471   \n",
       "1                      21             472   \n",
       "2                      26             406   \n",
       "\n",
       "  Human immunodeficiency virus [HIV] disease Neoplasms  \\\n",
       "0                                        892    91 737   \n",
       "1                                        835    92 331   \n",
       "2                                        794    92 631   \n",
       "\n",
       "  Malignant neoplasms (C00-C97)  \\\n",
       "0                        88 481   \n",
       "1                        89 122   \n",
       "2                        89 397   \n",
       "\n",
       "  Malignant neoplasm of lip, oral cavity, pharynx  \\\n",
       "0                                           3 755   \n",
       "1                                           3 834   \n",
       "2                                           3 635   \n",
       "\n",
       "  Malignant neoplasm of oesophagus  ... Sudden infant death syndrome  \\\n",
       "0                            3 442  ...                          229   \n",
       "1                            3 509  ...                          183   \n",
       "2                            3 401  ...                          173   \n",
       "\n",
       "  Ill-defined and unknown causes of mortality  \\\n",
       "0                                       7 726   \n",
       "1                                       7 475   \n",
       "2                                       7 523   \n",
       "\n",
       "  External causes of morbidity and mortality (V01-Y89) Accidents  \\\n",
       "0                                             25 102      15 867   \n",
       "1                                             25 024      15 515   \n",
       "2                                             25 133      15 299   \n",
       "\n",
       "  Transport accidents (V01-V99)  Falls  \\\n",
       "0                         5 840  2 546   \n",
       "1                         5 672  2 673   \n",
       "2                         4 811  2 788   \n",
       "\n",
       "  Accidental poisoning by and exposure to noxious substances  \\\n",
       "0                                                459           \n",
       "1                                                405           \n",
       "2                                                513           \n",
       "\n",
       "  Intentional self-harm Assault Event of undetermined intent  \n",
       "0                 7 798     324                          553  \n",
       "1                 7 865     325                          594  \n",
       "2                 8 187     306                          506  \n",
       "\n",
       "[3 rows x 66 columns]"
      ]
     },
     "execution_count": 537,
     "metadata": {},
     "output_type": "execute_result"
    }
   ],
   "source": [
    "sample.head(3)"
   ]
  },
  {
   "cell_type": "markdown",
   "metadata": {},
   "source": [
    "### Addressing Missing Values"
   ]
  },
  {
   "cell_type": "markdown",
   "metadata": {},
   "source": [
    "##### Locating"
   ]
  },
  {
   "cell_type": "code",
   "execution_count": 538,
   "metadata": {},
   "outputs": [],
   "source": [
    "for col in sample.columns[1:]:\n",
    "    sample[col].replace(':', numpy.nan, inplace=True)"
   ]
  },
  {
   "cell_type": "code",
   "execution_count": 539,
   "metadata": {},
   "outputs": [],
   "source": [
    "nulls_lst = [(col, sample.isnull()[col].sum()) for col in sample.columns]\n",
    "\n",
    "nulls_df = pandas.DataFrame(nulls_lst, columns = ['Var', 'null'])\n",
    "\n",
    "nulls_df = nulls_df[nulls_df['null']!=0]"
   ]
  },
  {
   "cell_type": "code",
   "execution_count": 540,
   "metadata": {},
   "outputs": [
    {
     "data": {
      "text/html": [
       "<div>\n",
       "<style scoped>\n",
       "    .dataframe tbody tr th:only-of-type {\n",
       "        vertical-align: middle;\n",
       "    }\n",
       "\n",
       "    .dataframe tbody tr th {\n",
       "        vertical-align: top;\n",
       "    }\n",
       "\n",
       "    .dataframe thead th {\n",
       "        text-align: right;\n",
       "    }\n",
       "</style>\n",
       "<table border=\"1\" class=\"dataframe\">\n",
       "  <thead>\n",
       "    <tr style=\"text-align: right;\">\n",
       "      <th></th>\n",
       "      <th>Var</th>\n",
       "      <th>null</th>\n",
       "    </tr>\n",
       "  </thead>\n",
       "  <tbody>\n",
       "    <tr>\n",
       "      <th>18</th>\n",
       "      <td>Malignant neoplasm of cervix uteri</td>\n",
       "      <td>8</td>\n",
       "    </tr>\n",
       "    <tr>\n",
       "      <th>19</th>\n",
       "      <td>Malignant neoplasm of other parts of uterus</td>\n",
       "      <td>8</td>\n",
       "    </tr>\n",
       "    <tr>\n",
       "      <th>20</th>\n",
       "      <td>Malignant neoplasm of ovary</td>\n",
       "      <td>8</td>\n",
       "    </tr>\n",
       "    <tr>\n",
       "      <th>50</th>\n",
       "      <td>Pregnancy, childbirth and the puerperium (O00-...</td>\n",
       "      <td>8</td>\n",
       "    </tr>\n",
       "  </tbody>\n",
       "</table>\n",
       "</div>"
      ],
      "text/plain": [
       "                                                  Var  null\n",
       "18                 Malignant neoplasm of cervix uteri     8\n",
       "19        Malignant neoplasm of other parts of uterus     8\n",
       "20                        Malignant neoplasm of ovary     8\n",
       "50  Pregnancy, childbirth and the puerperium (O00-...     8"
      ]
     },
     "execution_count": 540,
     "metadata": {},
     "output_type": "execute_result"
    }
   ],
   "source": [
    "nulls_df"
   ]
  },
  {
   "cell_type": "markdown",
   "metadata": {},
   "source": [
    "We have 4 entirely null columns in our sample data."
   ]
  },
  {
   "cell_type": "markdown",
   "metadata": {},
   "source": [
    "##### Removing Null Columns "
   ]
  },
  {
   "cell_type": "code",
   "execution_count": 541,
   "metadata": {},
   "outputs": [
    {
     "data": {
      "text/plain": [
       "(8, 66)"
      ]
     },
     "execution_count": 541,
     "metadata": {},
     "output_type": "execute_result"
    }
   ],
   "source": [
    "sample.shape"
   ]
  },
  {
   "cell_type": "code",
   "execution_count": 542,
   "metadata": {},
   "outputs": [],
   "source": [
    "sample = sample.drop(nulls_df['Var'], axis=1)"
   ]
  },
  {
   "cell_type": "code",
   "execution_count": 543,
   "metadata": {},
   "outputs": [
    {
     "data": {
      "text/plain": [
       "(8, 62)"
      ]
     },
     "execution_count": 543,
     "metadata": {},
     "output_type": "execute_result"
    }
   ],
   "source": [
    "sample.shape"
   ]
  },
  {
   "cell_type": "code",
   "execution_count": 544,
   "metadata": {},
   "outputs": [
    {
     "data": {
      "text/plain": [
       "Years                                                   int64\n",
       "Certain infectious and parasitic diseases (A00-B99)    object\n",
       "Tuberculosis                                           object\n",
       "Meningococcal infection                                object\n",
       "Viral hepatitis                                        object\n",
       "dtype: object"
      ]
     },
     "execution_count": 544,
     "metadata": {},
     "output_type": "execute_result"
    }
   ],
   "source": [
    "sample.dtypes.head()"
   ]
  },
  {
   "cell_type": "markdown",
   "metadata": {},
   "source": [
    "#### Removing Spaces and Type Conversion."
   ]
  },
  {
   "cell_type": "code",
   "execution_count": 545,
   "metadata": {},
   "outputs": [],
   "source": [
    "for col in sample.columns[1:]:\n",
    "\n",
    "    sample[col] = [i.replace(' ', '') for i in sample[col]]\n",
    "    sample[col] = sample[col].astype(int)"
   ]
  },
  {
   "cell_type": "code",
   "execution_count": 546,
   "metadata": {},
   "outputs": [
    {
     "data": {
      "text/plain": [
       "Years                                                  int64\n",
       "Certain infectious and parasitic diseases (A00-B99)    int32\n",
       "Tuberculosis                                           int32\n",
       "Meningococcal infection                                int32\n",
       "Viral hepatitis                                        int32\n",
       "dtype: object"
      ]
     },
     "execution_count": 546,
     "metadata": {},
     "output_type": "execute_result"
    }
   ],
   "source": [
    "sample.dtypes.head()"
   ]
  },
  {
   "cell_type": "markdown",
   "metadata": {},
   "source": [
    "#### All Set."
   ]
  },
  {
   "cell_type": "markdown",
   "metadata": {},
   "source": [
    "#### Saving/Loading sample to/from cvs"
   ]
  },
  {
   "cell_type": "code",
   "execution_count": 547,
   "metadata": {},
   "outputs": [],
   "source": [
    "#sample.to_csv('\\\\Users\\luisr\\Desktop\\Repository\\IBM_courses\\Samples\\\\cod_sample_cleaned.csv')\n",
    "#sample = pandas.read_csv('\\\\Users\\luisr\\Desktop\\Repository\\IBM_courses\\Samples\\\\cod_sample_cleaned.csv').drop('Unnamed: 0', axis=1) # Need fix"
   ]
  },
  {
   "cell_type": "markdown",
   "metadata": {},
   "source": [
    "## Exploratory Analysis"
   ]
  },
  {
   "cell_type": "code",
   "execution_count": 407,
   "metadata": {},
   "outputs": [
    {
     "data": {
      "text/html": [
       "<div>\n",
       "<style scoped>\n",
       "    .dataframe tbody tr th:only-of-type {\n",
       "        vertical-align: middle;\n",
       "    }\n",
       "\n",
       "    .dataframe tbody tr th {\n",
       "        vertical-align: top;\n",
       "    }\n",
       "\n",
       "    .dataframe thead th {\n",
       "        text-align: right;\n",
       "    }\n",
       "</style>\n",
       "<table border=\"1\" class=\"dataframe\">\n",
       "  <thead>\n",
       "    <tr style=\"text-align: right;\">\n",
       "      <th></th>\n",
       "      <th>Years</th>\n",
       "    </tr>\n",
       "  </thead>\n",
       "  <tbody>\n",
       "    <tr>\n",
       "      <th>Years</th>\n",
       "      <td>1.000000</td>\n",
       "    </tr>\n",
       "    <tr>\n",
       "      <th>Malignant neoplasm of pancreas</th>\n",
       "      <td>0.981615</td>\n",
       "    </tr>\n",
       "    <tr>\n",
       "      <th>Malignant neoplasm of larynx,  trachea, bronchus and lung</th>\n",
       "      <td>0.939641</td>\n",
       "    </tr>\n",
       "    <tr>\n",
       "      <th>Malignant melanoma of skin</th>\n",
       "      <td>0.933356</td>\n",
       "    </tr>\n",
       "    <tr>\n",
       "      <th>Diseases of the nervous system and the sense organs (G00-H95)</th>\n",
       "      <td>0.929697</td>\n",
       "    </tr>\n",
       "    <tr>\n",
       "      <th>Malignant neoplasm of liver and intrahepatic bile ducts</th>\n",
       "      <td>0.918724</td>\n",
       "    </tr>\n",
       "    <tr>\n",
       "      <th>Drug dependence, toxicomania (F11-F16, F18-F19)</th>\n",
       "      <td>0.908998</td>\n",
       "    </tr>\n",
       "    <tr>\n",
       "      <th>Malignant neoplasms (C00-C97)</th>\n",
       "      <td>0.907433</td>\n",
       "    </tr>\n",
       "    <tr>\n",
       "      <th>Neoplasms</th>\n",
       "      <td>0.906482</td>\n",
       "    </tr>\n",
       "    <tr>\n",
       "      <th>Accidental poisoning by and exposure to noxious substances</th>\n",
       "      <td>0.905484</td>\n",
       "    </tr>\n",
       "    <tr>\n",
       "      <th>Diseases of the skin and subcutaneous tissue (L00-L99)</th>\n",
       "      <td>-0.909991</td>\n",
       "    </tr>\n",
       "    <tr>\n",
       "      <th>Diseases of the circulatory system (I00-I99)</th>\n",
       "      <td>-0.915323</td>\n",
       "    </tr>\n",
       "    <tr>\n",
       "      <th>Malignant neoplasm of oesophagus</th>\n",
       "      <td>-0.915557</td>\n",
       "    </tr>\n",
       "    <tr>\n",
       "      <th>Chronic liver disease</th>\n",
       "      <td>-0.919120</td>\n",
       "    </tr>\n",
       "    <tr>\n",
       "      <th>Rheumatoid arthritis and arthrosis (M05-M06,M15-M19)</th>\n",
       "      <td>-0.919400</td>\n",
       "    </tr>\n",
       "    <tr>\n",
       "      <th>Cerebrovascular diseases</th>\n",
       "      <td>-0.929318</td>\n",
       "    </tr>\n",
       "    <tr>\n",
       "      <th>Asthma and status asthmaticus</th>\n",
       "      <td>-0.952241</td>\n",
       "    </tr>\n",
       "    <tr>\n",
       "      <th>Transport accidents (V01-V99)</th>\n",
       "      <td>-0.960282</td>\n",
       "    </tr>\n",
       "    <tr>\n",
       "      <th>Malignant neoplasm of lip, oral cavity, pharynx</th>\n",
       "      <td>-0.962202</td>\n",
       "    </tr>\n",
       "    <tr>\n",
       "      <th>Tuberculosis</th>\n",
       "      <td>-0.974699</td>\n",
       "    </tr>\n",
       "    <tr>\n",
       "      <th>Ischaemic heart diseases</th>\n",
       "      <td>-0.989016</td>\n",
       "    </tr>\n",
       "    <tr>\n",
       "      <th>Human immunodeficiency virus [HIV] disease</th>\n",
       "      <td>-0.991424</td>\n",
       "    </tr>\n",
       "  </tbody>\n",
       "</table>\n",
       "</div>"
      ],
      "text/plain": [
       "                                                       Years\n",
       "Years                                               1.000000\n",
       "Malignant neoplasm of pancreas                      0.981615\n",
       "Malignant neoplasm of larynx,  trachea, bronchu...  0.939641\n",
       "Malignant melanoma of skin                          0.933356\n",
       "Diseases of the nervous system and the sense or...  0.929697\n",
       "Malignant neoplasm of liver and intrahepatic bi...  0.918724\n",
       "Drug dependence, toxicomania (F11-F16, F18-F19)     0.908998\n",
       "Malignant neoplasms (C00-C97)                       0.907433\n",
       "Neoplasms                                           0.906482\n",
       "Accidental poisoning by and exposure to noxious...  0.905484\n",
       "Diseases of the skin and subcutaneous tissue (L... -0.909991\n",
       "Diseases of the circulatory system (I00-I99)       -0.915323\n",
       "Malignant neoplasm of oesophagus                   -0.915557\n",
       "Chronic liver disease                              -0.919120\n",
       "Rheumatoid arthritis and arthrosis (M05-M06,M15... -0.919400\n",
       "Cerebrovascular diseases                           -0.929318\n",
       "Asthma and status asthmaticus                      -0.952241\n",
       "Transport accidents (V01-V99)                      -0.960282\n",
       "Malignant neoplasm of lip, oral cavity, pharynx    -0.962202\n",
       "Tuberculosis                                       -0.974699\n",
       "Ischaemic heart diseases                           -0.989016\n",
       "Human immunodeficiency virus [HIV] disease         -0.991424"
      ]
     },
     "execution_count": 407,
     "metadata": {},
     "output_type": "execute_result"
    }
   ],
   "source": [
    "time_corr = sample.corr()[['Years']]\n",
    "\n",
    "time_corr[abs(time_corr['Years'])>0.90].sort_values('Years', ascending=False)"
   ]
  },
  {
   "cell_type": "code",
   "execution_count": 408,
   "metadata": {},
   "outputs": [],
   "source": [
    "counts = []\n",
    "\n",
    "for col in sample.columns[4:]:\n",
    "    \n",
    "    col_corr = sample.corr()[[col]]\n",
    "    col_cnt = col_corr[numpy.abs(col_corr[col])>0.95][col].count()\n",
    "    \n",
    "    counts.append([col, col_cnt])\n",
    "    \n",
    "corr_rank = pandas.DataFrame(counts, columns=['Feature', 'N° of corr.'])\n",
    "\n",
    "corr_rank = corr_rank.sort_values('N° of corr.', ascending=False)\n",
    "corr_rank = corr_rank.reset_index(drop=True)"
   ]
  },
  {
   "cell_type": "code",
   "execution_count": 409,
   "metadata": {},
   "outputs": [
    {
     "data": {
      "text/html": [
       "<div>\n",
       "<style scoped>\n",
       "    .dataframe tbody tr th:only-of-type {\n",
       "        vertical-align: middle;\n",
       "    }\n",
       "\n",
       "    .dataframe tbody tr th {\n",
       "        vertical-align: top;\n",
       "    }\n",
       "\n",
       "    .dataframe thead th {\n",
       "        text-align: right;\n",
       "    }\n",
       "</style>\n",
       "<table border=\"1\" class=\"dataframe\">\n",
       "  <thead>\n",
       "    <tr style=\"text-align: right;\">\n",
       "      <th></th>\n",
       "      <th>Feature</th>\n",
       "      <th>N° of corr.</th>\n",
       "    </tr>\n",
       "  </thead>\n",
       "  <tbody>\n",
       "    <tr>\n",
       "      <th>0</th>\n",
       "      <td>Ischaemic heart diseases</td>\n",
       "      <td>10</td>\n",
       "    </tr>\n",
       "    <tr>\n",
       "      <th>1</th>\n",
       "      <td>Cerebrovascular diseases</td>\n",
       "      <td>9</td>\n",
       "    </tr>\n",
       "    <tr>\n",
       "      <th>2</th>\n",
       "      <td>Diseases of the circulatory system (I00-I99)</td>\n",
       "      <td>8</td>\n",
       "    </tr>\n",
       "    <tr>\n",
       "      <th>3</th>\n",
       "      <td>Chronic liver disease</td>\n",
       "      <td>7</td>\n",
       "    </tr>\n",
       "    <tr>\n",
       "      <th>4</th>\n",
       "      <td>Human immunodeficiency virus [HIV] disease</td>\n",
       "      <td>7</td>\n",
       "    </tr>\n",
       "    <tr>\n",
       "      <th>5</th>\n",
       "      <td>Malignant neoplasm of pancreas</td>\n",
       "      <td>7</td>\n",
       "    </tr>\n",
       "    <tr>\n",
       "      <th>6</th>\n",
       "      <td>Asthma and status asthmaticus</td>\n",
       "      <td>6</td>\n",
       "    </tr>\n",
       "    <tr>\n",
       "      <th>7</th>\n",
       "      <td>Malignant neoplasm of lip, oral cavity, pharynx</td>\n",
       "      <td>6</td>\n",
       "    </tr>\n",
       "    <tr>\n",
       "      <th>8</th>\n",
       "      <td>External causes of morbidity and mortality (V0...</td>\n",
       "      <td>6</td>\n",
       "    </tr>\n",
       "    <tr>\n",
       "      <th>9</th>\n",
       "      <td>Accidents</td>\n",
       "      <td>5</td>\n",
       "    </tr>\n",
       "  </tbody>\n",
       "</table>\n",
       "</div>"
      ],
      "text/plain": [
       "                                             Feature  N° of corr.\n",
       "0                           Ischaemic heart diseases           10\n",
       "1                           Cerebrovascular diseases            9\n",
       "2       Diseases of the circulatory system (I00-I99)            8\n",
       "3                              Chronic liver disease            7\n",
       "4         Human immunodeficiency virus [HIV] disease            7\n",
       "5                     Malignant neoplasm of pancreas            7\n",
       "6                      Asthma and status asthmaticus            6\n",
       "7    Malignant neoplasm of lip, oral cavity, pharynx            6\n",
       "8  External causes of morbidity and mortality (V0...            6\n",
       "9                                          Accidents            5"
      ]
     },
     "execution_count": 409,
     "metadata": {},
     "output_type": "execute_result"
    }
   ],
   "source": [
    "corr_rank.head(10)"
   ]
  },
  {
   "cell_type": "code",
   "execution_count": 308,
   "metadata": {},
   "outputs": [],
   "source": [
    "def get_corr(trg, sample, limit=0.9):\n",
    "    \n",
    "    trg_corr = sample.corr()[[trg]]\n",
    "\n",
    "    trg_corr = trg_corr.sort_values(trg, ascending=False)\n",
    "    trg_corr = trg_corr[numpy.abs(trg_corr[trg]) > limit]\n",
    "    \n",
    "    return trg_corr\n"
   ]
  },
  {
   "cell_type": "code",
   "execution_count": 337,
   "metadata": {},
   "outputs": [
    {
     "data": {
      "text/html": [
       "<div>\n",
       "<style scoped>\n",
       "    .dataframe tbody tr th:only-of-type {\n",
       "        vertical-align: middle;\n",
       "    }\n",
       "\n",
       "    .dataframe tbody tr th {\n",
       "        vertical-align: top;\n",
       "    }\n",
       "\n",
       "    .dataframe thead th {\n",
       "        text-align: right;\n",
       "    }\n",
       "</style>\n",
       "<table border=\"1\" class=\"dataframe\">\n",
       "  <thead>\n",
       "    <tr style=\"text-align: right;\">\n",
       "      <th></th>\n",
       "      <th>Chronic liver disease</th>\n",
       "    </tr>\n",
       "  </thead>\n",
       "  <tbody>\n",
       "    <tr>\n",
       "      <th>Chronic liver disease</th>\n",
       "      <td>1.000000</td>\n",
       "    </tr>\n",
       "    <tr>\n",
       "      <th>Cerebrovascular diseases</th>\n",
       "      <td>0.985631</td>\n",
       "    </tr>\n",
       "    <tr>\n",
       "      <th>Diseases of the circulatory system (I00-I99)</th>\n",
       "      <td>0.981677</td>\n",
       "    </tr>\n",
       "    <tr>\n",
       "      <th>External causes of morbidity and mortality (V01-Y89)</th>\n",
       "      <td>0.978705</td>\n",
       "    </tr>\n",
       "    <tr>\n",
       "      <th>Accidents</th>\n",
       "      <td>0.964024</td>\n",
       "    </tr>\n",
       "    <tr>\n",
       "      <th>Diseases of the skin and subcutaneous tissue (L00-L99)</th>\n",
       "      <td>0.960513</td>\n",
       "    </tr>\n",
       "    <tr>\n",
       "      <th>Tuberculosis</th>\n",
       "      <td>0.957512</td>\n",
       "    </tr>\n",
       "    <tr>\n",
       "      <th>Asthma and status asthmaticus</th>\n",
       "      <td>0.948087</td>\n",
       "    </tr>\n",
       "    <tr>\n",
       "      <th>Ischaemic heart diseases</th>\n",
       "      <td>0.933472</td>\n",
       "    </tr>\n",
       "    <tr>\n",
       "      <th>Transport accidents (V01-V99)</th>\n",
       "      <td>0.927816</td>\n",
       "    </tr>\n",
       "    <tr>\n",
       "      <th>Malignant neoplasm of oesophagus</th>\n",
       "      <td>0.909702</td>\n",
       "    </tr>\n",
       "    <tr>\n",
       "      <th>Years</th>\n",
       "      <td>-0.919120</td>\n",
       "    </tr>\n",
       "    <tr>\n",
       "      <th>Malignant neoplasm of larynx,  trachea, bronchus and lung</th>\n",
       "      <td>-0.935055</td>\n",
       "    </tr>\n",
       "  </tbody>\n",
       "</table>\n",
       "</div>"
      ],
      "text/plain": [
       "                                                    Chronic liver disease\n",
       "Chronic liver disease                                            1.000000\n",
       "Cerebrovascular diseases                                         0.985631\n",
       "Diseases of the circulatory system (I00-I99)                     0.981677\n",
       "External causes of morbidity and mortality (V01...               0.978705\n",
       "Accidents                                                        0.964024\n",
       "Diseases of the skin and subcutaneous tissue (L...               0.960513\n",
       "Tuberculosis                                                     0.957512\n",
       "Asthma and status asthmaticus                                    0.948087\n",
       "Ischaemic heart diseases                                         0.933472\n",
       "Transport accidents (V01-V99)                                    0.927816\n",
       "Malignant neoplasm of oesophagus                                 0.909702\n",
       "Years                                                           -0.919120\n",
       "Malignant neoplasm of larynx,  trachea, bronchu...              -0.935055"
      ]
     },
     "execution_count": 337,
     "metadata": {},
     "output_type": "execute_result"
    }
   ],
   "source": [
    "trg1 = corr_rank['Feature'][3]        # Chronic liver disease\n",
    "\n",
    "trg1_corr = get_corr(trg1, sample, 0.9)\n",
    "\n",
    "trg1_corr#.head(10)"
   ]
  },
  {
   "cell_type": "code",
   "execution_count": 410,
   "metadata": {},
   "outputs": [
    {
     "data": {
      "text/html": [
       "<div>\n",
       "<style scoped>\n",
       "    .dataframe tbody tr th:only-of-type {\n",
       "        vertical-align: middle;\n",
       "    }\n",
       "\n",
       "    .dataframe tbody tr th {\n",
       "        vertical-align: top;\n",
       "    }\n",
       "\n",
       "    .dataframe thead th {\n",
       "        text-align: right;\n",
       "    }\n",
       "</style>\n",
       "<table border=\"1\" class=\"dataframe\">\n",
       "  <thead>\n",
       "    <tr style=\"text-align: right;\">\n",
       "      <th></th>\n",
       "      <th>Human immunodeficiency virus [HIV] disease</th>\n",
       "    </tr>\n",
       "  </thead>\n",
       "  <tbody>\n",
       "    <tr>\n",
       "      <th>Human immunodeficiency virus [HIV] disease</th>\n",
       "      <td>1.000000</td>\n",
       "    </tr>\n",
       "    <tr>\n",
       "      <th>Malignant neoplasm of lip, oral cavity, pharynx</th>\n",
       "      <td>0.969808</td>\n",
       "    </tr>\n",
       "    <tr>\n",
       "      <th>Ischaemic heart diseases</th>\n",
       "      <td>0.964655</td>\n",
       "    </tr>\n",
       "    <tr>\n",
       "      <th>Tuberculosis</th>\n",
       "      <td>0.956947</td>\n",
       "    </tr>\n",
       "    <tr>\n",
       "      <th>Transport accidents (V01-V99)</th>\n",
       "      <td>0.925586</td>\n",
       "    </tr>\n",
       "    <tr>\n",
       "      <th>Asthma and status asthmaticus</th>\n",
       "      <td>0.919744</td>\n",
       "    </tr>\n",
       "    <tr>\n",
       "      <th>Rheumatoid arthritis and arthrosis (M05-M06,M15-M19)</th>\n",
       "      <td>0.902720</td>\n",
       "    </tr>\n",
       "    <tr>\n",
       "      <th>Diseases of the genitourinary system  (N00-N99)</th>\n",
       "      <td>-0.912435</td>\n",
       "    </tr>\n",
       "    <tr>\n",
       "      <th>Malignant neoplasm of larynx,  trachea, bronchus and lung</th>\n",
       "      <td>-0.913419</td>\n",
       "    </tr>\n",
       "    <tr>\n",
       "      <th>Diseases of kidney and ureter</th>\n",
       "      <td>-0.919401</td>\n",
       "    </tr>\n",
       "  </tbody>\n",
       "</table>\n",
       "</div>"
      ],
      "text/plain": [
       "                                                    Human immunodeficiency virus [HIV] disease\n",
       "Human immunodeficiency virus [HIV] disease                                            1.000000\n",
       "Malignant neoplasm of lip, oral cavity, pharynx                                       0.969808\n",
       "Ischaemic heart diseases                                                              0.964655\n",
       "Tuberculosis                                                                          0.956947\n",
       "Transport accidents (V01-V99)                                                         0.925586\n",
       "Asthma and status asthmaticus                                                         0.919744\n",
       "Rheumatoid arthritis and arthrosis (M05-M06,M15...                                    0.902720\n",
       "Diseases of the genitourinary system  (N00-N99)                                      -0.912435\n",
       "Malignant neoplasm of larynx,  trachea, bronchu...                                   -0.913419\n",
       "Diseases of kidney and ureter                                                        -0.919401"
      ]
     },
     "execution_count": 410,
     "metadata": {},
     "output_type": "execute_result"
    }
   ],
   "source": [
    "trg2 = corr_rank['Feature'][4]        # Human immunodeficiency virus [HIV] disease\n",
    "\n",
    "trg2_corr = get_corr(trg2, sample, 0.9)\n",
    "\n",
    "trg2_corr.head(10)"
   ]
  },
  {
   "cell_type": "code",
   "execution_count": 411,
   "metadata": {},
   "outputs": [
    {
     "data": {
      "text/html": [
       "<div>\n",
       "<style scoped>\n",
       "    .dataframe tbody tr th:only-of-type {\n",
       "        vertical-align: middle;\n",
       "    }\n",
       "\n",
       "    .dataframe tbody tr th {\n",
       "        vertical-align: top;\n",
       "    }\n",
       "\n",
       "    .dataframe thead th {\n",
       "        text-align: right;\n",
       "    }\n",
       "</style>\n",
       "<table border=\"1\" class=\"dataframe\">\n",
       "  <thead>\n",
       "    <tr style=\"text-align: right;\">\n",
       "      <th></th>\n",
       "      <th>Malignant neoplasm of pancreas</th>\n",
       "    </tr>\n",
       "  </thead>\n",
       "  <tbody>\n",
       "    <tr>\n",
       "      <th>Malignant neoplasm of pancreas</th>\n",
       "      <td>1.000000</td>\n",
       "    </tr>\n",
       "    <tr>\n",
       "      <th>Years</th>\n",
       "      <td>0.981615</td>\n",
       "    </tr>\n",
       "    <tr>\n",
       "      <th>Malignant melanoma of skin</th>\n",
       "      <td>0.970144</td>\n",
       "    </tr>\n",
       "    <tr>\n",
       "      <th>Accidental poisoning by and exposure to noxious substances</th>\n",
       "      <td>0.945415</td>\n",
       "    </tr>\n",
       "    <tr>\n",
       "      <th>Diseases of the nervous system and the sense organs (G00-H95)</th>\n",
       "      <td>0.920363</td>\n",
       "    </tr>\n",
       "    <tr>\n",
       "      <th>Diseases of kidney and ureter</th>\n",
       "      <td>0.904585</td>\n",
       "    </tr>\n",
       "    <tr>\n",
       "      <th>Asthma and status asthmaticus</th>\n",
       "      <td>-0.901503</td>\n",
       "    </tr>\n",
       "    <tr>\n",
       "      <th>Malignant neoplasm of stomach</th>\n",
       "      <td>-0.904879</td>\n",
       "    </tr>\n",
       "    <tr>\n",
       "      <th>Transport accidents (V01-V99)</th>\n",
       "      <td>-0.906025</td>\n",
       "    </tr>\n",
       "    <tr>\n",
       "      <th>Ischaemic heart diseases</th>\n",
       "      <td>-0.958783</td>\n",
       "    </tr>\n",
       "  </tbody>\n",
       "</table>\n",
       "</div>"
      ],
      "text/plain": [
       "                                                    Malignant neoplasm of pancreas\n",
       "Malignant neoplasm of pancreas                                            1.000000\n",
       "Years                                                                     0.981615\n",
       "Malignant melanoma of skin                                                0.970144\n",
       "Accidental poisoning by and exposure to noxious...                        0.945415\n",
       "Diseases of the nervous system and the sense or...                        0.920363\n",
       "Diseases of kidney and ureter                                             0.904585\n",
       "Asthma and status asthmaticus                                            -0.901503\n",
       "Malignant neoplasm of stomach                                            -0.904879\n",
       "Transport accidents (V01-V99)                                            -0.906025\n",
       "Ischaemic heart diseases                                                 -0.958783"
      ]
     },
     "execution_count": 411,
     "metadata": {},
     "output_type": "execute_result"
    }
   ],
   "source": [
    "trg3 = corr_rank['Feature'][5]                      # Malignant neoplasm of pancreas\n",
    "\n",
    "trg3_corr = get_corr(trg3, sample, 0.9)\n",
    "\n",
    "trg3_corr.head(10)                   "
   ]
  },
  {
   "cell_type": "markdown",
   "metadata": {},
   "source": [
    "### Selecting data for regression:"
   ]
  },
  {
   "cell_type": "code",
   "execution_count": 349,
   "metadata": {},
   "outputs": [],
   "source": [
    "trg1_df = sample[trg1_corr.index]"
   ]
  },
  {
   "cell_type": "code",
   "execution_count": 475,
   "metadata": {},
   "outputs": [
    {
     "data": {
      "text/html": [
       "<div>\n",
       "<style scoped>\n",
       "    .dataframe tbody tr th:only-of-type {\n",
       "        vertical-align: middle;\n",
       "    }\n",
       "\n",
       "    .dataframe tbody tr th {\n",
       "        vertical-align: top;\n",
       "    }\n",
       "\n",
       "    .dataframe thead th {\n",
       "        text-align: right;\n",
       "    }\n",
       "</style>\n",
       "<table border=\"1\" class=\"dataframe\">\n",
       "  <thead>\n",
       "    <tr style=\"text-align: right;\">\n",
       "      <th></th>\n",
       "      <th>Chronic liver disease</th>\n",
       "      <th>Cerebrovascular diseases</th>\n",
       "      <th>Diseases of the circulatory system (I00-I99)</th>\n",
       "      <th>External causes of morbidity and mortality (V01-Y89)</th>\n",
       "      <th>Accidents</th>\n",
       "      <th>Diseases of the skin and subcutaneous tissue (L00-L99)</th>\n",
       "      <th>Tuberculosis</th>\n",
       "      <th>Asthma and status asthmaticus</th>\n",
       "      <th>Ischaemic heart diseases</th>\n",
       "      <th>Transport accidents (V01-V99)</th>\n",
       "      <th>Malignant neoplasm of oesophagus</th>\n",
       "      <th>Years</th>\n",
       "      <th>Malignant neoplasm of larynx,  trachea, bronchus and lung</th>\n",
       "    </tr>\n",
       "  </thead>\n",
       "  <tbody>\n",
       "    <tr>\n",
       "      <th>min</th>\n",
       "      <td>5440.00</td>\n",
       "      <td>13951.0</td>\n",
       "      <td>69625.00</td>\n",
       "      <td>22760.00</td>\n",
       "      <td>13524.0</td>\n",
       "      <td>504.00</td>\n",
       "      <td>343.00</td>\n",
       "      <td>336.00</td>\n",
       "      <td>21842.0</td>\n",
       "      <td>3506.00</td>\n",
       "      <td>3175.00</td>\n",
       "      <td>2001.00</td>\n",
       "      <td>22457.00</td>\n",
       "    </tr>\n",
       "    <tr>\n",
       "      <th>25%</th>\n",
       "      <td>5528.75</td>\n",
       "      <td>14197.5</td>\n",
       "      <td>69698.25</td>\n",
       "      <td>23075.25</td>\n",
       "      <td>13595.5</td>\n",
       "      <td>534.25</td>\n",
       "      <td>392.50</td>\n",
       "      <td>383.00</td>\n",
       "      <td>22279.0</td>\n",
       "      <td>3795.25</td>\n",
       "      <td>3195.25</td>\n",
       "      <td>2002.75</td>\n",
       "      <td>22658.25</td>\n",
       "    </tr>\n",
       "    <tr>\n",
       "      <th>50%</th>\n",
       "      <td>5590.00</td>\n",
       "      <td>14679.5</td>\n",
       "      <td>71186.00</td>\n",
       "      <td>23268.50</td>\n",
       "      <td>13879.5</td>\n",
       "      <td>550.50</td>\n",
       "      <td>438.00</td>\n",
       "      <td>421.50</td>\n",
       "      <td>23360.0</td>\n",
       "      <td>4220.50</td>\n",
       "      <td>3290.00</td>\n",
       "      <td>2004.50</td>\n",
       "      <td>23216.00</td>\n",
       "    </tr>\n",
       "    <tr>\n",
       "      <th>75%</th>\n",
       "      <td>6058.25</td>\n",
       "      <td>15991.0</td>\n",
       "      <td>74827.00</td>\n",
       "      <td>25043.50</td>\n",
       "      <td>15353.0</td>\n",
       "      <td>616.75</td>\n",
       "      <td>509.75</td>\n",
       "      <td>526.75</td>\n",
       "      <td>24302.0</td>\n",
       "      <td>5026.25</td>\n",
       "      <td>3411.25</td>\n",
       "      <td>2006.25</td>\n",
       "      <td>23498.00</td>\n",
       "    </tr>\n",
       "    <tr>\n",
       "      <th>max</th>\n",
       "      <td>6174.00</td>\n",
       "      <td>16223.0</td>\n",
       "      <td>75350.00</td>\n",
       "      <td>25133.00</td>\n",
       "      <td>15867.0</td>\n",
       "      <td>634.00</td>\n",
       "      <td>545.00</td>\n",
       "      <td>647.00</td>\n",
       "      <td>24913.0</td>\n",
       "      <td>5840.00</td>\n",
       "      <td>3509.00</td>\n",
       "      <td>2008.00</td>\n",
       "      <td>23584.00</td>\n",
       "    </tr>\n",
       "  </tbody>\n",
       "</table>\n",
       "</div>"
      ],
      "text/plain": [
       "     Chronic liver disease  Cerebrovascular diseases  \\\n",
       "min                5440.00                   13951.0   \n",
       "25%                5528.75                   14197.5   \n",
       "50%                5590.00                   14679.5   \n",
       "75%                6058.25                   15991.0   \n",
       "max                6174.00                   16223.0   \n",
       "\n",
       "     Diseases of the circulatory system (I00-I99)  \\\n",
       "min                                      69625.00   \n",
       "25%                                      69698.25   \n",
       "50%                                      71186.00   \n",
       "75%                                      74827.00   \n",
       "max                                      75350.00   \n",
       "\n",
       "     External causes of morbidity and mortality (V01-Y89)  Accidents  \\\n",
       "min                                           22760.00       13524.0   \n",
       "25%                                           23075.25       13595.5   \n",
       "50%                                           23268.50       13879.5   \n",
       "75%                                           25043.50       15353.0   \n",
       "max                                           25133.00       15867.0   \n",
       "\n",
       "     Diseases of the skin and subcutaneous tissue (L00-L99)  Tuberculosis  \\\n",
       "min                                             504.00             343.00   \n",
       "25%                                             534.25             392.50   \n",
       "50%                                             550.50             438.00   \n",
       "75%                                             616.75             509.75   \n",
       "max                                             634.00             545.00   \n",
       "\n",
       "     Asthma and status asthmaticus  Ischaemic heart diseases  \\\n",
       "min                         336.00                   21842.0   \n",
       "25%                         383.00                   22279.0   \n",
       "50%                         421.50                   23360.0   \n",
       "75%                         526.75                   24302.0   \n",
       "max                         647.00                   24913.0   \n",
       "\n",
       "     Transport accidents (V01-V99)  Malignant neoplasm of oesophagus    Years  \\\n",
       "min                        3506.00                           3175.00  2001.00   \n",
       "25%                        3795.25                           3195.25  2002.75   \n",
       "50%                        4220.50                           3290.00  2004.50   \n",
       "75%                        5026.25                           3411.25  2006.25   \n",
       "max                        5840.00                           3509.00  2008.00   \n",
       "\n",
       "     Malignant neoplasm of larynx,  trachea, bronchus and lung  \n",
       "min                                           22457.00          \n",
       "25%                                           22658.25          \n",
       "50%                                           23216.00          \n",
       "75%                                           23498.00          \n",
       "max                                           23584.00          "
      ]
     },
     "execution_count": 475,
     "metadata": {},
     "output_type": "execute_result"
    }
   ],
   "source": [
    "trg1_df.describe().tail()"
   ]
  },
  {
   "cell_type": "code",
   "execution_count": 433,
   "metadata": {},
   "outputs": [],
   "source": [
    "y = trg1_df[['Chronic liver disease']]\n",
    "x = trg1_df[trg1_df.columns[1:]]"
   ]
  },
  {
   "cell_type": "markdown",
   "metadata": {},
   "source": [
    "### Visualizing the Linear Relationships"
   ]
  },
  {
   "cell_type": "code",
   "execution_count": 425,
   "metadata": {},
   "outputs": [
    {
     "data": {
      "image/png": "[encoded data removed]",
      "text/plain": [
       "<Figure size 432x288 with 16 Axes>"
      ]
     },
     "metadata": {
      "needs_background": "light"
     },
     "output_type": "display_data"
    }
   ],
   "source": [
    "trg1_df.hist()\n",
    "plt.show()"
   ]
  },
  {
   "cell_type": "code",
   "execution_count": 437,
   "metadata": {},
   "outputs": [
    {
     "ename": "TypeError",
     "evalue": "scatter() missing 1 required positional argument: 'y'",
     "output_type": "error",
     "traceback": [
      "\u001b[1;31m---------------------------------------------------------------------------\u001b[0m",
      "\u001b[1;31mTypeError\u001b[0m                                 Traceback (most recent call last)",
      "\u001b[1;32m<ipython-input-437-dd4edb0c12ac>\u001b[0m in \u001b[0;36m<module>\u001b[1;34m\u001b[0m\n\u001b[0;32m     14\u001b[0m \u001b[0max11\u001b[0m \u001b[1;33m=\u001b[0m \u001b[0mfig\u001b[0m\u001b[1;33m.\u001b[0m\u001b[0madd_subplot\u001b[0m\u001b[1;33m(\u001b[0m\u001b[1;36m3\u001b[0m\u001b[1;33m,\u001b[0m \u001b[1;36m4\u001b[0m\u001b[1;33m,\u001b[0m \u001b[1;36m4\u001b[0m\u001b[1;33m)\u001b[0m\u001b[1;33m\u001b[0m\u001b[1;33m\u001b[0m\u001b[0m\n\u001b[0;32m     15\u001b[0m \u001b[1;33m\u001b[0m\u001b[0m\n\u001b[1;32m---> 16\u001b[1;33m \u001b[0mplt\u001b[0m\u001b[1;33m.\u001b[0m\u001b[0mscatter\u001b[0m\u001b[1;33m(\u001b[0m\u001b[1;33m[\u001b[0m\u001b[0mx\u001b[0m\u001b[1;33m,\u001b[0m \u001b[0my\u001b[0m\u001b[1;33m[\u001b[0m\u001b[0my\u001b[0m\u001b[1;33m.\u001b[0m\u001b[0mcolumns\u001b[0m\u001b[1;33m[\u001b[0m\u001b[1;36m0\u001b[0m\u001b[1;33m]\u001b[0m\u001b[1;33m]\u001b[0m\u001b[1;33m]\u001b[0m\u001b[1;33m,\u001b[0m \u001b[0max\u001b[0m\u001b[1;33m=\u001b[0m\u001b[0max5\u001b[0m\u001b[1;33m)\u001b[0m\u001b[1;33m\u001b[0m\u001b[1;33m\u001b[0m\u001b[0m\n\u001b[0m\u001b[0;32m     17\u001b[0m \u001b[1;33m\u001b[0m\u001b[0m\n\u001b[0;32m     18\u001b[0m \u001b[1;33m\u001b[0m\u001b[0m\n",
      "\u001b[1;31mTypeError\u001b[0m: scatter() missing 1 required positional argument: 'y'"
     ]
    },
    {
     "data": {
      "image/png": "[encoded data removed]",
      "text/plain": [
       "<Figure size 432x288 with 12 Axes>"
      ]
     },
     "metadata": {
      "needs_background": "light"
     },
     "output_type": "display_data"
    }
   ],
   "source": [
    "fig = plt.figure()\n",
    "\n",
    "ax0 = fig.add_subplot(1, 4, 1)\n",
    "ax1 = fig.add_subplot(1, 4, 2)\n",
    "ax2 = fig.add_subplot(1, 4, 3)\n",
    "ax3 = fig.add_subplot(1, 4, 4)\n",
    "ax4 = fig.add_subplot(2, 4, 1)\n",
    "ax5 = fig.add_subplot(2, 4, 2)\n",
    "ax6 = fig.add_subplot(2, 4, 3)\n",
    "ax7 = fig.add_subplot(2, 4, 4)\n",
    "ax8 = fig.add_subplot(3, 4, 1)\n",
    "ax9 = fig.add_subplot(3, 4, 2)\n",
    "ax10 = fig.add_subplot(3, 4, 3)\n",
    "ax11 = fig.add_subplot(3, 4, 4)\n",
    "\n",
    "plt.scatter(x, y[y.columns[0]], ax=ax5)\n"
   ]
  },
  {
   "cell_type": "markdown",
   "metadata": {},
   "source": [
    "## Modeling"
   ]
  },
  {
   "cell_type": "markdown",
   "metadata": {},
   "source": [
    "### Randomly Sppliting Sample into Train and Test Sets."
   ]
  },
  {
   "cell_type": "code",
   "execution_count": 518,
   "metadata": {},
   "outputs": [],
   "source": [
    "in_smpl = numpy.random.rand(len(trg1_df))<0.8    # True/False Statement List"
   ]
  },
  {
   "cell_type": "code",
   "execution_count": 519,
   "metadata": {},
   "outputs": [],
   "source": [
    "train_set = trg1_df[in_smpl]\n",
    "test_set = trg1_df[~in_smpl]"
   ]
  },
  {
   "cell_type": "code",
   "execution_count": 520,
   "metadata": {},
   "outputs": [
    {
     "data": {
      "text/plain": [
       "((6, 13), (2, 13))"
      ]
     },
     "execution_count": 520,
     "metadata": {},
     "output_type": "execute_result"
    }
   ],
   "source": [
    "train_set.shape, test_set.shape"
   ]
  },
  {
   "cell_type": "code",
   "execution_count": 521,
   "metadata": {},
   "outputs": [],
   "source": [
    "y_train = train_set[['Chronic liver disease']]\n",
    "x_train = train_set[train_set.columns[1:]]\n",
    "y_test = test_set[['Chronic liver disease']]\n",
    "x_test = test_set[test_set.columns[1:]]"
   ]
  },
  {
   "cell_type": "code",
   "execution_count": 522,
   "metadata": {},
   "outputs": [
    {
     "data": {
      "text/plain": [
       "((6, 1), (2, 1), (6, 12), (2, 12))"
      ]
     },
     "execution_count": 522,
     "metadata": {},
     "output_type": "execute_result"
    }
   ],
   "source": [
    "y_train.shape, y_test.shape, x_train.shape, x_test.shape"
   ]
  },
  {
   "cell_type": "markdown",
   "metadata": {},
   "source": [
    "### Fitting Simple Regression"
   ]
  },
  {
   "cell_type": "code",
   "execution_count": 523,
   "metadata": {},
   "outputs": [],
   "source": [
    "from sklearn import linear_model\n",
    "\n",
    "regr = linear_model.LinearRegression()\n",
    "regr.fit(x_train[[x_train.columns[0]]], y_train)\n",
    "\n",
    "yo = regr.intercept_[0]\n",
    "a = regr.coef_[0][0]"
   ]
  },
  {
   "cell_type": "code",
   "execution_count": 524,
   "metadata": {},
   "outputs": [
    {
     "data": {
      "text/plain": [
       "(825.4381374445929, 0.3276624697975227)"
      ]
     },
     "execution_count": 524,
     "metadata": {},
     "output_type": "execute_result"
    }
   ],
   "source": [
    "yo, a"
   ]
  },
  {
   "cell_type": "markdown",
   "metadata": {},
   "source": [
    "### Visualizing Model"
   ]
  },
  {
   "cell_type": "code",
   "execution_count": 525,
   "metadata": {},
   "outputs": [
    {
     "data": {
      "image/png": "[encoded data removed]",
      "text/plain": [
       "<Figure size 432x288 with 1 Axes>"
      ]
     },
     "metadata": {
      "needs_background": "light"
     },
     "output_type": "display_data"
    }
   ],
   "source": [
    "xp = numpy.arange(13250, 17000, 250)\n",
    "yp = yo + a*xp\n",
    "\n",
    "plt.plot(xp, yp, '-r')\n",
    "plt.scatter(x_train[[x_train.columns[0]]], y_train, color='blue')\n",
    "\n",
    "plt.ylabel('Chronic Liver Desease')\n",
    "plt.xlabel('Cerebralvascular Deseases')\n",
    "plt.show()"
   ]
  },
  {
   "cell_type": "markdown",
   "metadata": {},
   "source": [
    "### Evuluation"
   ]
  },
  {
   "cell_type": "code",
   "execution_count": 526,
   "metadata": {},
   "outputs": [],
   "source": [
    "from sklearn import metrics\n",
    "\n",
    "y_hat = regr.predict(x_test[[x_test.columns[0]]])\n",
    "\n",
    "abse = numpy.mean(numpy.absolute(y_hat-y_test))\n",
    "msqe = numpy.mean((y_hat-y_test)**2)\n",
    "\n",
    "R2 = regr.score(x_test[[x_test.columns[0]]], y_test)\n",
    "r2 = metrics.r2_score(y_hat, y_test)"
   ]
  },
  {
   "cell_type": "code",
   "execution_count": 527,
   "metadata": {},
   "outputs": [
    {
     "data": {
      "text/plain": [
       "array([[5581.45888656],\n",
       "       [5396.65725359]])"
      ]
     },
     "execution_count": 527,
     "metadata": {},
     "output_type": "execute_result"
    }
   ],
   "source": [
    "y_hat"
   ]
  },
  {
   "cell_type": "code",
   "execution_count": 528,
   "metadata": {},
   "outputs": [
    {
     "data": {
      "text/plain": [
       "(Chronic liver disease    31.44193\n",
       " dtype: float64,\n",
       " Chronic liver disease    1130.224391\n",
       " dtype: float64)"
      ]
     },
     "execution_count": 528,
     "metadata": {},
     "output_type": "execute_result"
    }
   ],
   "source": [
    "abse, msqe"
   ]
  },
  {
   "cell_type": "code",
   "execution_count": 529,
   "metadata": {},
   "outputs": [
    {
     "data": {
      "text/plain": [
       "(0.8255893845899734, 0.8676228405861515)"
      ]
     },
     "execution_count": 529,
     "metadata": {},
     "output_type": "execute_result"
    }
   ],
   "source": [
    "R2, r2     # wow, that's high."
   ]
  },
  {
   "cell_type": "code",
   "execution_count": null,
   "metadata": {},
   "outputs": [],
   "source": []
  }
 ],
 "metadata": {
  "kernelspec": {
   "display_name": "Python 3",
   "language": "python",
   "name": "python3"
  },
  "language_info": {
   "codemirror_mode": {
    "name": "ipython",
    "version": 3
   },
   "file_extension": ".py",
   "mimetype": "text/x-python",
   "name": "python",
   "nbconvert_exporter": "python",
   "pygments_lexer": "ipython3",
   "version": "3.8.3"
  }
 },
 "nbformat": 4,
 "nbformat_minor": 4
}
