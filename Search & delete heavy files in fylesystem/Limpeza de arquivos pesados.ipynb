{
 "cells": [
  {
   "cell_type": "markdown",
   "metadata": {},
   "source": [
    "# Search and delete heavy files in the computer system\n",
    "<hr>"
   ]
  },
  {
   "cell_type": "markdown",
   "metadata": {},
   "source": [
    "## Import modules"
   ]
  },
  {
   "cell_type": "code",
   "execution_count": 7,
   "metadata": {},
   "outputs": [],
   "source": [
    "import os, pandas as pd, numpy as np, seaborn as sns, matplotlib.pyplot as plt\n",
    "from IPython.display import clear_output as co\n",
    "sns.set()"
   ]
  },
  {
   "cell_type": "markdown",
   "metadata": {},
   "source": [
    "#### Define folder for file size search"
   ]
  },
  {
   "cell_type": "code",
   "execution_count": 5,
   "metadata": {},
   "outputs": [],
   "source": [
    "folder = '/users/luisr/Desktop/'"
   ]
  },
  {
   "cell_type": "markdown",
   "metadata": {},
   "source": [
    "## Get files' size as pandas series"
   ]
  },
  {
   "cell_type": "code",
   "execution_count": 1,
   "metadata": {},
   "outputs": [],
   "source": [
    "from file_manager import files_tree_sizes, remove_files"
   ]
  },
  {
   "cell_type": "code",
   "execution_count": 7,
   "metadata": {},
   "outputs": [
    {
     "name": "stdout",
     "output_type": "stream",
     "text": [
      "Scanning items: [[4, 4], [12, 12], [6, 6], [12, 12], [5, 5]]\n"
     ]
    }
   ],
   "source": [
    "fs = files_tree_sizes(folder, report_level=5)"
   ]
  },
  {
   "cell_type": "markdown",
   "metadata": {},
   "source": [
    "#### Converting pandas series to pandas dataframe and saving"
   ]
  },
  {
   "cell_type": "code",
   "execution_count": 10,
   "metadata": {},
   "outputs": [],
   "source": [
    "df = fs.to_frame('bytes')\n",
    "df.index.name = 'file'\n",
    "df.to_csv('Desktop Files.csv', index=True)"
   ]
  },
  {
   "cell_type": "markdown",
   "metadata": {},
   "source": [
    "## Analyse result"
   ]
  },
  {
   "cell_type": "markdown",
   "metadata": {},
   "source": [
    "#### Largest files"
   ]
  },
  {
   "cell_type": "code",
   "execution_count": 16,
   "metadata": {},
   "outputs": [
    {
     "data": {
      "text/html": [
       "<div>\n",
       "<style scoped>\n",
       "    .dataframe tbody tr th:only-of-type {\n",
       "        vertical-align: middle;\n",
       "    }\n",
       "\n",
       "    .dataframe tbody tr th {\n",
       "        vertical-align: top;\n",
       "    }\n",
       "\n",
       "    .dataframe thead th {\n",
       "        text-align: right;\n",
       "    }\n",
       "</style>\n",
       "<table border=\"1\" class=\"dataframe\">\n",
       "  <thead>\n",
       "    <tr style=\"text-align: right;\">\n",
       "      <th></th>\n",
       "      <th>bytes</th>\n",
       "    </tr>\n",
       "    <tr>\n",
       "      <th>file</th>\n",
       "      <th></th>\n",
       "    </tr>\n",
       "  </thead>\n",
       "  <tbody>\n",
       "    <tr>\n",
       "      <th>/users/luisr/Desktop/Outros\\Arquivos\\Far.Cry.3-RELOADED\\rld-fc3a.iso</th>\n",
       "      <td>8.272445e+09</td>\n",
       "    </tr>\n",
       "    <tr>\n",
       "      <th>/users/luisr/Desktop/Outros\\Arquivos\\Borderlands.2-SKIDROW\\sr-borderlands2.iso</th>\n",
       "      <td>7.665924e+09</td>\n",
       "    </tr>\n",
       "    <tr>\n",
       "      <th>/users/luisr/Desktop/Outros\\Arquivos\\Far_Cry_2-Razor1911\\rzr-fcr2.iso</th>\n",
       "      <td>3.946578e+09</td>\n",
       "    </tr>\n",
       "    <tr>\n",
       "      <th>/users/luisr/Desktop/Outros\\Arquivos\\Hitman Blood Money repack Mr DJ\\DJ.bin</th>\n",
       "      <td>3.513614e+09</td>\n",
       "    </tr>\n",
       "    <tr>\n",
       "      <th>/users/luisr/Desktop/Outros\\Arquivos\\Far.Cry.3-RELOADED\\rld-fc3b.iso</th>\n",
       "      <td>2.081108e+09</td>\n",
       "    </tr>\n",
       "  </tbody>\n",
       "</table>\n",
       "</div>"
      ],
      "text/plain": [
       "                                                           bytes\n",
       "file                                                            \n",
       "/users/luisr/Desktop/Outros\\Arquivos\\Far.Cry.3-...  8.272445e+09\n",
       "/users/luisr/Desktop/Outros\\Arquivos\\Borderland...  7.665924e+09\n",
       "/users/luisr/Desktop/Outros\\Arquivos\\Far_Cry_2-...  3.946578e+09\n",
       "/users/luisr/Desktop/Outros\\Arquivos\\Hitman Blo...  3.513614e+09\n",
       "/users/luisr/Desktop/Outros\\Arquivos\\Far.Cry.3-...  2.081108e+09"
      ]
     },
     "execution_count": 16,
     "metadata": {},
     "output_type": "execute_result"
    }
   ],
   "source": [
    "df.sort_values('bytes', ascending=False).head()"
   ]
  },
  {
   "cell_type": "markdown",
   "metadata": {},
   "source": [
    "#### Total folder size:"
   ]
  },
  {
   "cell_type": "code",
   "execution_count": 17,
   "metadata": {},
   "outputs": [
    {
     "data": {
      "text/plain": [
       "bytes    53.36587\n",
       "dtype: float64"
      ]
     },
     "execution_count": 17,
     "metadata": {},
     "output_type": "execute_result"
    }
   ],
   "source": [
    "df.sum() / 1e9 # Gb"
   ]
  },
  {
   "cell_type": "markdown",
   "metadata": {},
   "source": [
    "#### Number of files:"
   ]
  },
  {
   "cell_type": "code",
   "execution_count": 18,
   "metadata": {},
   "outputs": [
    {
     "data": {
      "text/plain": [
       "431316"
      ]
     },
     "execution_count": 18,
     "metadata": {},
     "output_type": "execute_result"
    }
   ],
   "source": [
    "df.shape[0]"
   ]
  },
  {
   "cell_type": "markdown",
   "metadata": {},
   "source": [
    "#### Cumultive file size sum"
   ]
  },
  {
   "cell_type": "code",
   "execution_count": 19,
   "metadata": {},
   "outputs": [
    {
     "data": {
      "image/png": "[encoded data removed]",
      "text/plain": [
       "<Figure size 432x288 with 1 Axes>"
      ]
     },
     "metadata": {},
     "output_type": "display_data"
    }
   ],
   "source": [
    "(df['bytes'].sort_values(ascending=False).head(100).reset_index(drop=True) / 1e9).cumsum().plot()\n",
    "plt.title('Cumulative file size sum')\n",
    "plt.ylabel('Giga bytes (GB)')\n",
    "plt.xlabel('Files')\n",
    "plt.legend([])\n",
    "plt.show()"
   ]
  },
  {
   "cell_type": "markdown",
   "metadata": {},
   "source": [
    "## Delete Files"
   ]
  },
  {
   "cell_type": "markdown",
   "metadata": {},
   "source": [
    "#### Check large files"
   ]
  },
  {
   "cell_type": "code",
   "execution_count": 30,
   "metadata": {},
   "outputs": [
    {
     "data": {
      "text/html": [
       "<div>\n",
       "<style scoped>\n",
       "    .dataframe tbody tr th:only-of-type {\n",
       "        vertical-align: middle;\n",
       "    }\n",
       "\n",
       "    .dataframe tbody tr th {\n",
       "        vertical-align: top;\n",
       "    }\n",
       "\n",
       "    .dataframe thead th {\n",
       "        text-align: right;\n",
       "    }\n",
       "</style>\n",
       "<table border=\"1\" class=\"dataframe\">\n",
       "  <thead>\n",
       "    <tr style=\"text-align: right;\">\n",
       "      <th></th>\n",
       "      <th>bytes</th>\n",
       "    </tr>\n",
       "    <tr>\n",
       "      <th>file</th>\n",
       "      <th></th>\n",
       "    </tr>\n",
       "  </thead>\n",
       "  <tbody>\n",
       "    <tr>\n",
       "      <th>/users/luisr/Desktop/Outros\\Arquivos\\Far.Cry.3-RELOADED\\rld-fc3a.iso</th>\n",
       "      <td>8.272445e+09</td>\n",
       "    </tr>\n",
       "    <tr>\n",
       "      <th>/users/luisr/Desktop/Outros\\Arquivos\\Borderlands.2-SKIDROW\\sr-borderlands2.iso</th>\n",
       "      <td>7.665924e+09</td>\n",
       "    </tr>\n",
       "    <tr>\n",
       "      <th>/users/luisr/Desktop/Outros\\Arquivos\\Far_Cry_2-Razor1911\\rzr-fcr2.iso</th>\n",
       "      <td>3.946578e+09</td>\n",
       "    </tr>\n",
       "    <tr>\n",
       "      <th>/users/luisr/Desktop/Outros\\Arquivos\\Hitman Blood Money repack Mr DJ\\DJ.bin</th>\n",
       "      <td>3.513614e+09</td>\n",
       "    </tr>\n",
       "    <tr>\n",
       "      <th>/users/luisr/Desktop/Outros\\Arquivos\\Far.Cry.3-RELOADED\\rld-fc3b.iso</th>\n",
       "      <td>2.081108e+09</td>\n",
       "    </tr>\n",
       "  </tbody>\n",
       "</table>\n",
       "</div>"
      ],
      "text/plain": [
       "                                                           bytes\n",
       "file                                                            \n",
       "/users/luisr/Desktop/Outros\\Arquivos\\Far.Cry.3-...  8.272445e+09\n",
       "/users/luisr/Desktop/Outros\\Arquivos\\Borderland...  7.665924e+09\n",
       "/users/luisr/Desktop/Outros\\Arquivos\\Far_Cry_2-...  3.946578e+09\n",
       "/users/luisr/Desktop/Outros\\Arquivos\\Hitman Blo...  3.513614e+09\n",
       "/users/luisr/Desktop/Outros\\Arquivos\\Far.Cry.3-...  2.081108e+09"
      ]
     },
     "execution_count": 30,
     "metadata": {},
     "output_type": "execute_result"
    }
   ],
   "source": [
    "df.sort_values('bytes', ascending=False).head(5)"
   ]
  },
  {
   "cell_type": "markdown",
   "metadata": {},
   "source": [
    "#### select files to delete"
   ]
  },
  {
   "cell_type": "code",
   "execution_count": 21,
   "metadata": {},
   "outputs": [
    {
     "data": {
      "text/plain": [
       "49"
      ]
     },
     "execution_count": 21,
     "metadata": {},
     "output_type": "execute_result"
    }
   ],
   "source": [
    "ignore = [\n",
    "    '/users/luisr/Desktop/Pessoal\\facebook-account-data\\facebook-luisresendesilva.zip',\n",
    "    '/users/luisr/Desktop/Repositories\\Dados\\Desafio COR-Rio IV\\Edificações_2013.csv',\n",
    "    '/users/luisr/Desktop/Repositories\\Data Science Projects\\Bain - Strategic Chellenge 2022 (Revisited)\\scores\\scores.csv',\n",
    "    '/users/luisr/Desktop/Repositories\\Data Science Projects\\Land Area & CO2 Emission in Pará, Brazil - Multivariate Time Series Forecasting\\scores\\full_scores.csv',\n",
    "    \n",
    "]\n",
    "\n",
    "n_top_files = 51\n",
    "heavy_files = [file for file in df.sort_values('bytes', ascending=False).head(n_top_files).index.tolist() if file not in ignore]\n",
    "\n",
    "len(heavy_files)"
   ]
  },
  {
   "cell_type": "markdown",
   "metadata": {},
   "source": [
    "#### Delete selected files"
   ]
  },
  {
   "cell_type": "code",
   "execution_count": 24,
   "metadata": {},
   "outputs": [
    {
     "name": "stdout",
     "output_type": "stream",
     "text": [
      "files removed: 48/49\n"
     ]
    }
   ],
   "source": [
    "fail = remove_files(heavy_files)"
   ]
  },
  {
   "cell_type": "markdown",
   "metadata": {},
   "source": [
    "#### Check delete fails"
   ]
  },
  {
   "cell_type": "code",
   "execution_count": 27,
   "metadata": {},
   "outputs": [
    {
     "name": "stdout",
     "output_type": "stream",
     "text": [
      "True - /users/luisr/Desktop/Outros\\Arquivos\\Far.Cry.3-RELOADED\\rld-fc3a.iso\n",
      "True - /users/luisr/Desktop/Outros\\Arquivos\\Borderlands.2-SKIDROW\\sr-borderlands2.iso\n",
      "True - /users/luisr/Desktop/Outros\\Arquivos\\Far_Cry_2-Razor1911\\rzr-fcr2.iso\n",
      "True - /users/luisr/Desktop/Outros\\Arquivos\\Hitman Blood Money repack Mr DJ\\DJ.bin\n",
      "True - /users/luisr/Desktop/Outros\\Arquivos\\Far.Cry.3-RELOADED\\rld-fc3b.iso\n",
      "True - /users/luisr/Desktop/Repositories\\Data Science Projects\\.git\\objects\\pack\\pack-1fcd895cc035edb95b7ddf2c850380ab0c9751eb.pack\n",
      "True - /users/luisr/Desktop/Outros\\Arquivos\\Hitman 2 Silent Assassin\\setup.exe\n",
      "True - /users/luisr/Desktop/Repositories\\Data Science Projects\\.git\\objects\\pack\\tmp_pack_iZ8BzU\n",
      "True - /users/luisr/Desktop/Repositories\\Certificates\\.git\\objects\\e5\\5d840cbfb5efb0ef7785273023d902cdbd604c\n",
      "True - /users/luisr/Desktop/Outros\\Arquivos\\Hitman 2 Silent Assassin [qoob RePack]\\data1.bin\n"
     ]
    }
   ],
   "source": [
    "for file in fail:\n",
    "    print(os.path.exists(file), '-', file)"
   ]
  },
  {
   "cell_type": "markdown",
   "metadata": {},
   "source": [
    "#### File size of failed exclusions"
   ]
  },
  {
   "cell_type": "code",
   "execution_count": 29,
   "metadata": {},
   "outputs": [
    {
     "data": {
      "text/html": [
       "<div>\n",
       "<style scoped>\n",
       "    .dataframe tbody tr th:only-of-type {\n",
       "        vertical-align: middle;\n",
       "    }\n",
       "\n",
       "    .dataframe tbody tr th {\n",
       "        vertical-align: top;\n",
       "    }\n",
       "\n",
       "    .dataframe thead th {\n",
       "        text-align: right;\n",
       "    }\n",
       "</style>\n",
       "<table border=\"1\" class=\"dataframe\">\n",
       "  <thead>\n",
       "    <tr style=\"text-align: right;\">\n",
       "      <th></th>\n",
       "      <th>bytes</th>\n",
       "    </tr>\n",
       "    <tr>\n",
       "      <th>file</th>\n",
       "      <th></th>\n",
       "    </tr>\n",
       "  </thead>\n",
       "  <tbody>\n",
       "    <tr>\n",
       "      <th>/users/luisr/Desktop/Outros\\Arquivos\\Far.Cry.3-RELOADED\\rld-fc3a.iso</th>\n",
       "      <td>8.272445e+09</td>\n",
       "    </tr>\n",
       "    <tr>\n",
       "      <th>/users/luisr/Desktop/Outros\\Arquivos\\Borderlands.2-SKIDROW\\sr-borderlands2.iso</th>\n",
       "      <td>7.665924e+09</td>\n",
       "    </tr>\n",
       "    <tr>\n",
       "      <th>/users/luisr/Desktop/Outros\\Arquivos\\Far_Cry_2-Razor1911\\rzr-fcr2.iso</th>\n",
       "      <td>3.946578e+09</td>\n",
       "    </tr>\n",
       "    <tr>\n",
       "      <th>/users/luisr/Desktop/Outros\\Arquivos\\Hitman Blood Money repack Mr DJ\\DJ.bin</th>\n",
       "      <td>3.513614e+09</td>\n",
       "    </tr>\n",
       "    <tr>\n",
       "      <th>/users/luisr/Desktop/Outros\\Arquivos\\Far.Cry.3-RELOADED\\rld-fc3b.iso</th>\n",
       "      <td>2.081108e+09</td>\n",
       "    </tr>\n",
       "    <tr>\n",
       "      <th>/users/luisr/Desktop/Repositories\\Data Science Projects\\.git\\objects\\pack\\pack-1fcd895cc035edb95b7ddf2c850380ab0c9751eb.pack</th>\n",
       "      <td>9.903786e+08</td>\n",
       "    </tr>\n",
       "    <tr>\n",
       "      <th>/users/luisr/Desktop/Outros\\Arquivos\\Hitman 2 Silent Assassin\\setup.exe</th>\n",
       "      <td>3.854668e+08</td>\n",
       "    </tr>\n",
       "    <tr>\n",
       "      <th>/users/luisr/Desktop/Repositories\\Data Science Projects\\.git\\objects\\pack\\tmp_pack_iZ8BzU</th>\n",
       "      <td>2.700083e+08</td>\n",
       "    </tr>\n",
       "    <tr>\n",
       "      <th>/users/luisr/Desktop/Repositories\\Certificates\\.git\\objects\\e5\\5d840cbfb5efb0ef7785273023d902cdbd604c</th>\n",
       "      <td>2.411316e+08</td>\n",
       "    </tr>\n",
       "    <tr>\n",
       "      <th>/users/luisr/Desktop/Outros\\Arquivos\\Hitman 2 Silent Assassin [qoob RePack]\\data1.bin</th>\n",
       "      <td>1.289145e+08</td>\n",
       "    </tr>\n",
       "  </tbody>\n",
       "</table>\n",
       "</div>"
      ],
      "text/plain": [
       "                                                           bytes\n",
       "file                                                            \n",
       "/users/luisr/Desktop/Outros\\Arquivos\\Far.Cry.3-...  8.272445e+09\n",
       "/users/luisr/Desktop/Outros\\Arquivos\\Borderland...  7.665924e+09\n",
       "/users/luisr/Desktop/Outros\\Arquivos\\Far_Cry_2-...  3.946578e+09\n",
       "/users/luisr/Desktop/Outros\\Arquivos\\Hitman Blo...  3.513614e+09\n",
       "/users/luisr/Desktop/Outros\\Arquivos\\Far.Cry.3-...  2.081108e+09\n",
       "/users/luisr/Desktop/Repositories\\Data Science ...  9.903786e+08\n",
       "/users/luisr/Desktop/Outros\\Arquivos\\Hitman 2 S...  3.854668e+08\n",
       "/users/luisr/Desktop/Repositories\\Data Science ...  2.700083e+08\n",
       "/users/luisr/Desktop/Repositories\\Certificates\\...  2.411316e+08\n",
       "/users/luisr/Desktop/Outros\\Arquivos\\Hitman 2 S...  1.289145e+08"
      ]
     },
     "execution_count": 29,
     "metadata": {},
     "output_type": "execute_result"
    }
   ],
   "source": [
    "df.loc[fail]"
   ]
  }
 ],
 "metadata": {
  "kernelspec": {
   "display_name": "Python 3",
   "language": "python",
   "name": "python3"
  },
  "language_info": {
   "codemirror_mode": {
    "name": "ipython",
    "version": 3
   },
   "file_extension": ".py",
   "mimetype": "text/x-python",
   "name": "python",
   "nbconvert_exporter": "python",
   "pygments_lexer": "ipython3",
   "version": "3.8.3"
  }
 },
 "nbformat": 4,
 "nbformat_minor": 4
}
