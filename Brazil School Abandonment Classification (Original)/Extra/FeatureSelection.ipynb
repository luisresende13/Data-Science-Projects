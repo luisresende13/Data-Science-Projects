{
 "cells": [
  {
   "cell_type": "markdown",
   "metadata": {},
   "source": [
    "## 0. Preparing environment"
   ]
  },
  {
   "cell_type": "markdown",
   "metadata": {},
   "source": [
    "#### Importing machine learning and data processing modules"
   ]
  },
  {
   "cell_type": "code",
   "execution_count": 1,
   "metadata": {},
   "outputs": [
    {
     "name": "stderr",
     "output_type": "stream",
     "text": [
      "C:\\Users\\luisr\\anaconda3\\lib\\site-packages\\setuptools\\distutils_patch.py:25: UserWarning: Distutils was imported before Setuptools. This usage is discouraged and may exhibit undesirable behaviors or errors. Please use Setuptools' objects directly or at least import Setuptools first.\n",
      "  warnings.warn(\n"
     ]
    }
   ],
   "source": [
    "import os\n",
    "import pandas as pd; pd.set_option('max_colwidth', None)\n",
    "import numpy as np; np.random.seed(0)\n",
    "import matplotlib.pyplot as plt\n",
    "import seaborn as sns; sns.set()\n",
    "from IPython.display import clear_output as co\n",
    "\n",
    "from sklearn.preprocessing import binarize \n",
    "from sklearn.utils import all_estimators\n",
    "classifiers = dict(all_estimators('classifier'))\n",
    "import sklearn.metrics as metrics\n",
    "from sklearn.metrics import classification_report as cr"
   ]
  },
  {
   "cell_type": "markdown",
   "metadata": {},
   "source": [
    "#### Define scoring functions"
   ]
  },
  {
   "cell_type": "code",
   "execution_count": 3,
   "metadata": {},
   "outputs": [],
   "source": [
    "recall_0 = metrics.make_scorer(metrics.recall_score, pos_label=0)\n",
    "recall_1 = metrics.make_scorer(metrics.recall_score, pos_label=1)\n",
    "precision_0 = metrics.make_scorer(metrics.precision_score, pos_label=0)\n",
    "precision_1 = metrics.make_scorer(metrics.precision_score, pos_label=1)\n",
    "scoring = {'accuracy': 'accuracy', 'f1_macro': 'f1_macro',\n",
    "           'recall_macro': 'recall_macro', 'precision_macro': 'precision_macro',\n",
    "           'recall_0': recall_0, 'recall_1': recall_1,\n",
    "           'precision_0': precision_0, 'precision_1': precision_1,\n",
    "          }"
   ]
  },
  {
   "cell_type": "markdown",
   "metadata": {},
   "source": [
    "---\n",
    "# 1. LOAD DATA"
   ]
  },
  {
   "cell_type": "code",
   "execution_count": 4,
   "metadata": {},
   "outputs": [],
   "source": [
    "data = pd.read_csv('data/grades/5th_grade.csv', index_col=0)\n",
    "data.drop('ID_ALUNO', 1, inplace=True)\n",
    "\n",
    "# Loading data information dictionaries\n",
    "data_path = '/Users/luisr/Desktop/Repositories/Data/saep/CSV/{}'\n",
    "grades = [5,9,3]; dict_filenames = [f'dicionario {i}ano.csv' for i in grades]\n",
    "dicts = {grade: pd.read_csv(data_path.format(filename)).set_index('questão') for grade, filename in zip(grades, dict_filenames)}\n",
    "\n",
    "#### Defining targets corresponding to each student grade\n",
    "targets = { # Abandonment\n",
    "    5: 'TX_RESP_Q049',\n",
    "    9: 'TX_RESP_Q050',\n",
    "    12: 'TX_RESP_Q044',\n",
    "}\n",
    "grade = 5\n",
    "target = targets[grade]\n",
    "\n",
    "#### List different types of features\n",
    "ids = data.columns[:10].tolist()\n",
    "questions = data.columns[10:64].tolist()\n",
    "grades = data.columns[64:].tolist()"
   ]
  },
  {
   "cell_type": "markdown",
   "metadata": {},
   "source": [
    "---\n",
    "# 2. DATA TRANSFORMATION\n",
    "### Binarize target & fill missing values"
   ]
  },
  {
   "cell_type": "code",
   "execution_count": 5,
   "metadata": {},
   "outputs": [
    {
     "name": "stdout",
     "output_type": "stream",
     "text": [
      "0    397232\n",
      "1     50087\n",
      "Name: TX_RESP_Q049, dtype: int64\n"
     ]
    }
   ],
   "source": [
    "# eliminate rows where the target variable value is missing. obs: last label represent missing values (Label 3)\n",
    "modeling_data = data[data[target]!=data[target].max()].copy()\n",
    "# target variable binary conversion\n",
    "modeling_data[target] = binarize(modeling_data[[target]], threshold=0.5).reshape(-1)\n",
    "\n",
    "# define X and Y\n",
    "Y = modeling_data[target].reset_index(drop=True).copy()\n",
    "X = modeling_data.reset_index(drop=True).drop(target, 1)\n",
    "\n",
    "# FILLING MISSING VALUES WITH VARIABLES' MEANS\n",
    "for grade in grades:\n",
    "    X[grade].fillna(X[grade].mean(), inplace=True)\n",
    "    \n",
    "# target variable class count\n",
    "print(Y.value_counts())"
   ]
  },
  {
   "cell_type": "markdown",
   "metadata": {},
   "source": [
    "---\n",
    "# 3. FEATURE  SELECTION FOR CLASSIFICATION MODELING\n",
    "\n",
    "#### Compare performance of different:\n",
    "* Models\n",
    "* Random train splits\n",
    "* Target variable class ratios\n",
    "* Train sizes (Learning curve)\n",
    "* Model hyperparameters"
   ]
  },
  {
   "cell_type": "markdown",
   "metadata": {},
   "source": [
    "## 3.1 Sampling"
   ]
  },
  {
   "cell_type": "markdown",
   "metadata": {},
   "source": [
    "#### Representative imbalanced test sample"
   ]
  },
  {
   "cell_type": "code",
   "execution_count": 22,
   "metadata": {},
   "outputs": [],
   "source": [
    "from splitter import UnderSampleSplit\n",
    "uss = UnderSampleSplit(\n",
    "    train_size=0.04, train_prct=1,\n",
    "    test_size=0.2, test_prct=8,\n",
    "    replace=False, shuffle=True,\n",
    ")\n",
    "\n",
    "train_index, test_index = uss.train_test_undersample(Y, random_state=0)\n",
    "xt, xe, yt, ye = X.loc[train_index], X.loc[test_index], Y.loc[train_index], Y.loc[test_index]"
   ]
  },
  {
   "cell_type": "code",
   "execution_count": 23,
   "metadata": {},
   "outputs": [
    {
     "data": {
      "text/html": [
       "<div>\n",
       "<style scoped>\n",
       "    .dataframe tbody tr th:only-of-type {\n",
       "        vertical-align: middle;\n",
       "    }\n",
       "\n",
       "    .dataframe tbody tr th {\n",
       "        vertical-align: top;\n",
       "    }\n",
       "\n",
       "    .dataframe thead th {\n",
       "        text-align: right;\n",
       "    }\n",
       "</style>\n",
       "<table border=\"1\" class=\"dataframe\">\n",
       "  <thead>\n",
       "    <tr style=\"text-align: right;\">\n",
       "      <th></th>\n",
       "      <th>Train set</th>\n",
       "      <th>Test set</th>\n",
       "    </tr>\n",
       "    <tr>\n",
       "      <th>Class</th>\n",
       "      <th></th>\n",
       "      <th></th>\n",
       "    </tr>\n",
       "  </thead>\n",
       "  <tbody>\n",
       "    <tr>\n",
       "      <th>0</th>\n",
       "      <td>2003</td>\n",
       "      <td>80144</td>\n",
       "    </tr>\n",
       "    <tr>\n",
       "      <th>1</th>\n",
       "      <td>2003</td>\n",
       "      <td>10018</td>\n",
       "    </tr>\n",
       "  </tbody>\n",
       "</table>\n",
       "</div>"
      ],
      "text/plain": [
       "       Train set  Test set\n",
       "Class                     \n",
       "0           2003     80144\n",
       "1           2003     10018"
      ]
     },
     "metadata": {},
     "output_type": "display_data"
    }
   ],
   "source": [
    "print_cls_cnt(Y, train_index, test_index)"
   ]
  },
  {
   "cell_type": "markdown",
   "metadata": {},
   "source": [
    "---\n",
    "# FEATURE SELECTION"
   ]
  },
  {
   "cell_type": "code",
   "execution_count": 81,
   "metadata": {},
   "outputs": [],
   "source": [
    "from sklearn.feature_selection import RFE, RFECV, SequentialFeatureSelector, f_classif"
   ]
  },
  {
   "cell_type": "markdown",
   "metadata": {},
   "source": [
    "#### Importing models for comparison"
   ]
  },
  {
   "cell_type": "code",
   "execution_count": 77,
   "metadata": {},
   "outputs": [],
   "source": [
    "from imblearn.ensemble import (\n",
    "    BalancedRandomForestClassifier as BRFC\n",
    ")\n",
    "GBC = classifiers['GradientBoostingClassifier']\n",
    "RFC = classifiers['RandomForestClassifier']\n",
    "\n",
    "models = ('DecisionTreeClassifier', 'ExtraTreesClassifier', 'LogisticRegression', 'RidgeClassifier', 'RandomForestClassifier', 'LinearDiscriminantAnalysis', 'LinearSVC')\n",
    "Models = [classifiers[model]() for model in models]"
   ]
  },
  {
   "cell_type": "markdown",
   "metadata": {},
   "source": [
    "# Fit and score baseline model"
   ]
  },
  {
   "cell_type": "code",
   "execution_count": 79,
   "metadata": {},
   "outputs": [
    {
     "name": "stdout",
     "output_type": "stream",
     "text": [
      "              precision    recall  f1-score   support\n",
      "\n",
      "           0       0.95      0.69      0.80     80144\n",
      "           1       0.22      0.70      0.33     10018\n",
      "\n",
      "    accuracy                           0.69     90162\n",
      "   macro avg       0.58      0.70      0.57     90162\n",
      "weighted avg       0.87      0.69      0.75     90162\n",
      "\n"
     ]
    }
   ],
   "source": [
    "model_fit = GBC(n_estimators=100, verbose=0).fit(xt, yt)\n",
    "print(cr(ye, model_fit.predict(xe)))"
   ]
  },
  {
   "cell_type": "markdown",
   "metadata": {},
   "source": [
    "# Retrieve feature importance"
   ]
  },
  {
   "cell_type": "code",
   "execution_count": 90,
   "metadata": {},
   "outputs": [],
   "source": [
    "# fi = model_fit.feature_importances_\n",
    "fi = f_classif(xt, yt)[0]\n",
    "feature_importance = pd.Series(fi, index=X.columns).sort_values(ascending=False)"
   ]
  },
  {
   "cell_type": "markdown",
   "metadata": {},
   "source": [
    "#### Plot feature importance"
   ]
  },
  {
   "cell_type": "code",
   "execution_count": 91,
   "metadata": {},
   "outputs": [
    {
     "data": {
      "image/png": "[encoded data removed]",
      "text/plain": [
       "<Figure size 504x360 with 1 Axes>"
      ]
     },
     "metadata": {},
     "output_type": "display_data"
    }
   ],
   "source": [
    "first, n_first = 1, 10\n",
    "fig, ax = plt.subplots(figsize=(7,5), tight_layout=True)\n",
    "feature_importance.iloc[first-1:n_first].plot.bar(ax=ax);\n",
    "plt.title(f'Abandonment model - {model_name}');\n",
    "plt.ylabel('Feature importance'); plt.show()"
   ]
  },
  {
   "cell_type": "markdown",
   "metadata": {},
   "source": [
    "# Fit and score baseline model based on selected features"
   ]
  },
  {
   "cell_type": "markdown",
   "metadata": {},
   "source": [
    "#### Classification report for baseline model of selected features"
   ]
  },
  {
   "cell_type": "code",
   "execution_count": 99,
   "metadata": {},
   "outputs": [
    {
     "name": "stdout",
     "output_type": "stream",
     "text": [
      "Selected features: ['TX_RESP_Q004', 'TX_RESP_Q048', 'PROFICIENCIA_LP', 'TX_RESP_Q050']\n",
      "              precision    recall  f1-score   support\n",
      "\n",
      "           0       0.95      0.65      0.77     80144\n",
      "           1       0.20      0.71      0.32     10018\n",
      "\n",
      "    accuracy                           0.66     90162\n",
      "   macro avg       0.57      0.68      0.54     90162\n",
      "weighted avg       0.86      0.66      0.72     90162\n",
      "\n"
     ]
    }
   ],
   "source": [
    "n_features = 4\n",
    "selected_features = feature_importance[:n_features].index.tolist()\n",
    "print('Selected features:', selected_features)\n",
    "xt_s = xt[selected_features]; xe_s = xe[selected_features]\n",
    "yp_sel = GBC().fit(xt_s, yt).predict(xe_s)\n",
    "\n",
    "print(cr(ye, yp_sel))"
   ]
  },
  {
   "cell_type": "markdown",
   "metadata": {},
   "source": [
    "# Understanding selected features"
   ]
  },
  {
   "cell_type": "code",
   "execution_count": 115,
   "metadata": {},
   "outputs": [],
   "source": [
    "selected = [\n",
    "    'TX_RESP_Q048', 'TX_RESP_Q004',\n",
    "    'TX_RESP_Q050', 'TX_RESP_Q045',\n",
    "#     'TX_RESP_Q052', 'TX_RESP_Q047',\n",
    "#     'TX_RESP_Q053', 'TX_RESP_Q015',\n",
    "#     'TX_RESP_Q027'\n",
    "]"
   ]
  },
  {
   "cell_type": "code",
   "execution_count": 116,
   "metadata": {},
   "outputs": [
    {
     "data": {
      "text/html": [
       "<div>\n",
       "<style scoped>\n",
       "    .dataframe tbody tr th:only-of-type {\n",
       "        vertical-align: middle;\n",
       "    }\n",
       "\n",
       "    .dataframe tbody tr th {\n",
       "        vertical-align: top;\n",
       "    }\n",
       "\n",
       "    .dataframe thead th {\n",
       "        text-align: right;\n",
       "    }\n",
       "</style>\n",
       "<table border=\"1\" class=\"dataframe\">\n",
       "  <thead>\n",
       "    <tr style=\"text-align: right;\">\n",
       "      <th>questão</th>\n",
       "      <th>TX_RESP_Q048</th>\n",
       "      <th>TX_RESP_Q004</th>\n",
       "      <th>TX_RESP_Q050</th>\n",
       "      <th>TX_RESP_Q045</th>\n",
       "    </tr>\n",
       "  </thead>\n",
       "  <tbody>\n",
       "    <tr>\n",
       "      <th>Enunciado</th>\n",
       "      <td>Você já foi reprovado?</td>\n",
       "      <td>Qual a sua idade?</td>\n",
       "      <td>Você faz o dever de casa de língua portuguesa?</td>\n",
       "      <td>Você trabalha fora de casa?</td>\n",
       "    </tr>\n",
       "    <tr>\n",
       "      <th>A</th>\n",
       "      <td>Não.</td>\n",
       "      <td>8 anos ou menos.</td>\n",
       "      <td>Sempre ou quase sempre.</td>\n",
       "      <td>Sim.</td>\n",
       "    </tr>\n",
       "    <tr>\n",
       "      <th>B</th>\n",
       "      <td>Sim, uma vez.</td>\n",
       "      <td>9 anos.</td>\n",
       "      <td>De vez em quando.</td>\n",
       "      <td>Não.</td>\n",
       "    </tr>\n",
       "    <tr>\n",
       "      <th>C</th>\n",
       "      <td>Sim, duas vezes ou mais.</td>\n",
       "      <td>10 anos.</td>\n",
       "      <td>Nunca ou quase nunca.</td>\n",
       "      <td></td>\n",
       "    </tr>\n",
       "    <tr>\n",
       "      <th>D</th>\n",
       "      <td></td>\n",
       "      <td>11 anos.</td>\n",
       "      <td></td>\n",
       "      <td></td>\n",
       "    </tr>\n",
       "    <tr>\n",
       "      <th>E</th>\n",
       "      <td></td>\n",
       "      <td>12 anos.</td>\n",
       "      <td></td>\n",
       "      <td></td>\n",
       "    </tr>\n",
       "    <tr>\n",
       "      <th>F</th>\n",
       "      <td></td>\n",
       "      <td>13 anos.</td>\n",
       "      <td></td>\n",
       "      <td></td>\n",
       "    </tr>\n",
       "    <tr>\n",
       "      <th>G</th>\n",
       "      <td></td>\n",
       "      <td>14 anos.</td>\n",
       "      <td></td>\n",
       "      <td></td>\n",
       "    </tr>\n",
       "    <tr>\n",
       "      <th>H</th>\n",
       "      <td></td>\n",
       "      <td>15 anos ou mais</td>\n",
       "      <td></td>\n",
       "      <td></td>\n",
       "    </tr>\n",
       "  </tbody>\n",
       "</table>\n",
       "</div>"
      ],
      "text/plain": [
       "questão                TX_RESP_Q048       TX_RESP_Q004  \\\n",
       "Enunciado    Você já foi reprovado?  Qual a sua idade?   \n",
       "A                              Não.   8 anos ou menos.   \n",
       "B                     Sim, uma vez.            9 anos.   \n",
       "C          Sim, duas vezes ou mais.           10 anos.   \n",
       "D                                             11 anos.   \n",
       "E                                             12 anos.   \n",
       "F                                             13 anos.   \n",
       "G                                             14 anos.   \n",
       "H                                      15 anos ou mais   \n",
       "\n",
       "questão                                      TX_RESP_Q050  \\\n",
       "Enunciado  Você faz o dever de casa de língua portuguesa?   \n",
       "A                                 Sempre ou quase sempre.   \n",
       "B                                       De vez em quando.   \n",
       "C                                   Nunca ou quase nunca.   \n",
       "D                                                           \n",
       "E                                                           \n",
       "F                                                           \n",
       "G                                                           \n",
       "H                                                           \n",
       "\n",
       "questão                   TX_RESP_Q045  \n",
       "Enunciado  Você trabalha fora de casa?  \n",
       "A                                 Sim.  \n",
       "B                                 Não.  \n",
       "C                                       \n",
       "D                                       \n",
       "E                                       \n",
       "F                                       \n",
       "G                                       \n",
       "H                                       "
      ]
     },
     "execution_count": 116,
     "metadata": {},
     "output_type": "execute_result"
    }
   ],
   "source": [
    "pd.concat([dicts[5].loc[[col]] for col in selected]).T.dropna(how='all').replace(np.nan, '')"
   ]
  },
  {
   "cell_type": "markdown",
   "metadata": {},
   "source": [
    "---\n",
    "# RECURSIVE FEATURE ELIMINATION (with built-in cross validation)"
   ]
  },
  {
   "cell_type": "code",
   "execution_count": 117,
   "metadata": {},
   "outputs": [
    {
     "name": "stdout",
     "output_type": "stream",
     "text": [
      "              precision    recall  f1-score   support\n",
      "\n",
      "           0       0.93      0.68      0.79     80144\n",
      "           1       0.20      0.62      0.30     10018\n",
      "\n",
      "    accuracy                           0.68     90162\n",
      "   macro avg       0.57      0.65      0.54     90162\n",
      "weighted avg       0.85      0.68      0.73     90162\n",
      "\n"
     ]
    }
   ],
   "source": [
    "rfeCV = RFECV(model(), step=1, min_features_to_select=1, cv=7, verbose=1).fit(xt, yt)\n",
    "rfecv_selected = feature_importance.index[rfeCV.support_]\n",
    "\n",
    "xt_s = xt[rfecv_selected]; xe_s = xe[rfecv_selected]\n",
    "yp_sel = model().fit(xt_s, yt).predict(xe_s)\n",
    "\n",
    "print(cr(ye, yp_sel))"
   ]
  },
  {
   "cell_type": "code",
   "execution_count": 109,
   "metadata": {},
   "outputs": [
    {
     "data": {
      "text/plain": [
       "54"
      ]
     },
     "execution_count": 109,
     "metadata": {},
     "output_type": "execute_result"
    }
   ],
   "source": [
    "rfeCV.n_features_"
   ]
  },
  {
   "cell_type": "markdown",
   "metadata": {},
   "source": [
    "---\n",
    "# Sequential Feature Selection¶"
   ]
  },
  {
   "cell_type": "code",
   "execution_count": null,
   "metadata": {},
   "outputs": [],
   "source": []
  }
 ],
 "metadata": {
  "kernelspec": {
   "display_name": "Python 3",
   "language": "python",
   "name": "python3"
  },
  "language_info": {
   "codemirror_mode": {
    "name": "ipython",
    "version": 3
   },
   "file_extension": ".py",
   "mimetype": "text/x-python",
   "name": "python",
   "nbconvert_exporter": "python",
   "pygments_lexer": "ipython3",
   "version": "3.8.3"
  }
 },
 "nbformat": 4,
 "nbformat_minor": 4
}
