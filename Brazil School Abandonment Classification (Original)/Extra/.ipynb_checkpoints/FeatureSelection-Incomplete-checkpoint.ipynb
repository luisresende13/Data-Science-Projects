{
 "cells": [
  {
   "cell_type": "markdown",
   "metadata": {},
   "source": [
    "# (TRY FITTING FOR EACH CITY IN ANOTHER DOCUMENT"
   ]
  },
  {
   "cell_type": "code",
   "execution_count": 48,
   "metadata": {},
   "outputs": [],
   "source": [
    "import os\n",
    "import pandas as pd; pd.set_option('max_colwidth', None)\n",
    "import numpy as np; np.random.seed(0)\n",
    "import matplotlib.pyplot as plt\n",
    "import seaborn as sns; sns.set()\n",
    "from datetime import datetime\n",
    "from IPython.display import clear_output as co\n",
    "\n",
    "from Classification import Classifier, plot_lc_model_comparison\n",
    "from NeuralNetwork import execute_neural_net, plot_learning_curve_comparison\n",
    "\n",
    "from sklearn.metrics import classification_report as cr, confusion_matrix as cm"
   ]
  },
  {
   "cell_type": "markdown",
   "metadata": {},
   "source": [
    "#### Defining functions"
   ]
  },
  {
   "cell_type": "code",
   "execution_count": 186,
   "metadata": {},
   "outputs": [],
   "source": [
    "def target_categorical_distribution(X, Y, col='ID_TURMA'):\n",
    "    minority_index = Y[Y==1].index\n",
    "    turmas = X.loc[minority_index][col].unique()\n",
    "\n",
    "    turma_counts = {}\n",
    "    for i, turma in enumerate(turmas):\n",
    "        if i%50==0: co(wait=True); print(f'{col} evaluated: {i+1}/{len(turmas)}')\n",
    "        turma_counts[turma] = Y[X[col]==turma].value_counts()\n",
    "\n",
    "    return pd.DataFrame(turma_counts).fillna(0)\n",
    "# cnt.loc[1] = cnt.loc[1:2].sum(); cnt.drop([2,3], inplace=True) # transform target values in binary"
   ]
  },
  {
   "cell_type": "code",
   "execution_count": 191,
   "metadata": {},
   "outputs": [],
   "source": [
    "def simetrical_categorical_sampler(X, Y, col='ID_TURMA', cnt=None):\n",
    "    minority_index = Y[Y==1].index\n",
    "    turmas = X.loc[minority_index][col].unique()\n",
    "    if cnt is None: cnt = target_categorical_distribution(X, Y, col)\n",
    "    X_0 = X[Y==0]\n",
    "    XX = []\n",
    "    for i, turma in enumerate(turmas):\n",
    "        if i%50==0: co(wait=True); print(f'Turmas evaluated: {i+1}/{len(turmas)}')\n",
    "        if cnt[turma][0]:\n",
    "            if cnt[turma][0] < cnt[turma][1]: replace = True\n",
    "            else: replace = False\n",
    "            turma_0 = X_0[X_0[col]==turma]\n",
    "            XX.append(turma_0.sample(cnt[turma].astype(int)[1], replace=replace))\n",
    "    XX = pd.concat(XX)\n",
    "\n",
    "    x_ = pd.concat([XX, X[Y==1]])\n",
    "    y_ = Y.loc[x_.index].copy()\n",
    "    return x_, y_\n"
   ]
  },
  {
   "cell_type": "code",
   "execution_count": 241,
   "metadata": {},
   "outputs": [],
   "source": [
    "def tts_categorical(x_, y_, cnt, test_size=0.2, col='ID_TURMA'):\n",
    "    turmas_teste = cnt.T.sample(int(len(cnt.T)*test_size)).index.values\n",
    "    test_index = x_[col].isin(turmas_teste)\n",
    "    xe = x_[test_index].copy(); ye = y_.loc[test_index].copy()\n",
    "    xt = x_[test_index==False].copy(); yt = y_.loc[test_index==False].copy()\n",
    "    return xt, xe, yt, ye"
   ]
  },
  {
   "cell_type": "code",
   "execution_count": 55,
   "metadata": {},
   "outputs": [],
   "source": [
    "def recursive_feature_inclusion(x, xe, y, ye, feature_importance, max_features=5, first_feature=1):\n",
    "    scrs_df = []\n",
    "    max_feat_i = range(first_feature, max_features+1)\n",
    "    sorted_importance = feature_importance.sort_values(ascending=False)\n",
    "    for i in max_feat_i:\n",
    "        co(wait=True); print(f'Scoring model for {i}/{max_features} most important features.')\n",
    "        sel_feat = sorted_importance.iloc[first_feature-1:i].index.values\n",
    "        xt_s, xe_s = x[sel_feat], xe[sel_feat]\n",
    "        yp_sel = model().fit(xt_s, y).predict(xe_s)\n",
    "        scrs = cr(ye, yp_sel, output_dict=True)\n",
    "        scrs_df.append([scrs['accuracy'], scrs['macro avg']['recall'], scrs['macro avg']['precision']])\n",
    "    return pd.DataFrame(scrs_df, index=sorted_importance.iloc[first_feature-1:max_features].index, columns=['acc', 'recall', 'precision'])"
   ]
  },
  {
   "cell_type": "code",
   "execution_count": 56,
   "metadata": {},
   "outputs": [],
   "source": [
    "def plot_rfi(rfe):\n",
    "    fig, ax = plt.subplots(figsize=(6, 5.5), tight_layout=True)\n",
    "    rfe.plot(marker='o', ax=ax)\n",
    "    ax.set_xticks(range(len(rfe)))\n",
    "    ax.set_xticklabels(rfe.index, rotation=90)\n",
    "    ax.set(title='Recursive feature inclusion', xlabel='Feature', ylabel='Evaluation')\n",
    "    plt.show()"
   ]
  },
  {
   "cell_type": "markdown",
   "metadata": {},
   "source": [
    "#### Loading prepared data"
   ]
  },
  {
   "cell_type": "code",
   "execution_count": 21,
   "metadata": {},
   "outputs": [],
   "source": [
    "data = pd.read_csv('data/grades/5th_grade.csv', index_col=0)"
   ]
  },
  {
   "cell_type": "markdown",
   "metadata": {},
   "source": [
    "#### Loading Adapted Data Dictionaries"
   ]
  },
  {
   "cell_type": "code",
   "execution_count": 22,
   "metadata": {},
   "outputs": [],
   "source": [
    "data_path = '/Users/luisr/Desktop/Repositories/Data/saep/CSV/{}'\n",
    "grades = [5,9,3]; dict_filenames = [f'dicionario {i}ano.csv' for i in grades]\n",
    "dicts = {grade: pd.read_csv(data_path.format(filename)).set_index('questão') for grade, filename in zip(grades, dict_filenames)}"
   ]
  },
  {
   "cell_type": "markdown",
   "metadata": {},
   "source": [
    "#### Defining targets corresponding to each student grade"
   ]
  },
  {
   "cell_type": "code",
   "execution_count": 23,
   "metadata": {},
   "outputs": [],
   "source": [
    "#### Define the target variable\n",
    "targets = { # Abandonment\n",
    "    5: 'TX_RESP_Q049',\n",
    "    9: 'TX_RESP_Q050',\n",
    "    12: 'TX_RESP_Q044',\n",
    "}\n",
    "grade = 5\n",
    "target = targets[grade]\n",
    "\n",
    "rep_targets = { # Reproval cols\n",
    "    5: 'TX_RESP_Q048',\n",
    "    9: 'TX_RESP_Q049',\n",
    "    12: 'TX_RESP_Q043'\n",
    "}\n",
    "rep_target = rep_targets[grade]"
   ]
  },
  {
   "cell_type": "markdown",
   "metadata": {},
   "source": [
    "#### List different types of features"
   ]
  },
  {
   "cell_type": "code",
   "execution_count": 24,
   "metadata": {},
   "outputs": [],
   "source": [
    "ids = data.columns[:11].tolist()\n",
    "questions = data.columns[11:65].tolist()\n",
    "grades = data.columns[65:].tolist()"
   ]
  },
  {
   "cell_type": "markdown",
   "metadata": {},
   "source": [
    "---\n",
    "# TARGET VARIABLE TRANSFORMATION"
   ]
  },
  {
   "cell_type": "markdown",
   "metadata": {},
   "source": [
    "### 2.2.1. Target Variable Classes Transformation\n"
   ]
  },
  {
   "cell_type": "markdown",
   "metadata": {},
   "source": [
    "Obs: Last label represent missing values (Label 3)"
   ]
  },
  {
   "cell_type": "code",
   "execution_count": 25,
   "metadata": {},
   "outputs": [],
   "source": [
    "def binary(Y, out, replace):\n",
    "    # 1. Droping rows where the target variable is missing \n",
    "    # 2. Target variable conversion to binary\n",
    "    labels = list(replace.keys())\n",
    "    label_map = lambda label: (replace[label] if label in labels else label)\n",
    "    return Y[Y.isin(out)==False].map(label_map)"
   ]
  },
  {
   "cell_type": "markdown",
   "metadata": {},
   "source": [
    "### Defining X and Y"
   ]
  },
  {
   "cell_type": "code",
   "execution_count": 165,
   "metadata": {},
   "outputs": [],
   "source": [
    "Y = binary(data[target].copy(), out=[3], replace={2: 1})\n",
    "X = data.loc[Y.index].drop(target, 1)"
   ]
  },
  {
   "cell_type": "code",
   "execution_count": 166,
   "metadata": {},
   "outputs": [
    {
     "data": {
      "text/plain": [
       "0    397232\n",
       "1     50087\n",
       "Name: TX_RESP_Q049, dtype: int64"
      ]
     },
     "execution_count": 166,
     "metadata": {},
     "output_type": "execute_result"
    }
   ],
   "source": [
    "Y.value_counts()"
   ]
  },
  {
   "cell_type": "markdown",
   "metadata": {},
   "source": [
    "---\n",
    "# MISSING VALUES STRATEGY"
   ]
  },
  {
   "cell_type": "code",
   "execution_count": 167,
   "metadata": {},
   "outputs": [],
   "source": [
    "for grade in grades:\n",
    "    X[grade].fillna(X[grade].mean(), inplace=True)"
   ]
  },
  {
   "cell_type": "markdown",
   "metadata": {},
   "source": [
    "---\n",
    "# DATA SAMPLING"
   ]
  },
  {
   "cell_type": "markdown",
   "metadata": {},
   "source": [
    "# (TRY GETTING FULL DATA ON CLASSES, CITIES AND SCHOOLS)"
   ]
  },
  {
   "cell_type": "markdown",
   "metadata": {},
   "source": [
    "# Counting students of each target class for each school class"
   ]
  },
  {
   "cell_type": "code",
   "execution_count": null,
   "metadata": {},
   "outputs": [
    {
     "name": "stdout",
     "output_type": "stream",
     "text": [
      "ID_TURMA evaluated: 1751/16637\n"
     ]
    }
   ],
   "source": [
    "cnt = target_categorical_distribution(X, Y, col='ID_TURMA')"
   ]
  },
  {
   "cell_type": "code",
   "execution_count": 188,
   "metadata": {},
   "outputs": [
    {
     "data": {
      "text/plain": [
       "80"
      ]
     },
     "execution_count": 188,
     "metadata": {},
     "output_type": "execute_result"
    }
   ],
   "source": [
    "(cnt.loc[1:2].sum() > cnt.loc[0]).sum()"
   ]
  },
  {
   "cell_type": "markdown",
   "metadata": {},
   "source": [
    "Findings:\n",
    "    * 73 School classes have more students who dropped out than students who did not (against 1663 total classes with at least one student that dropped out)."
   ]
  },
  {
   "cell_type": "markdown",
   "metadata": {},
   "source": [
    "# Filling majority class based on minority class presence on categorical variable values"
   ]
  },
  {
   "cell_type": "code",
   "execution_count": 170,
   "metadata": {},
   "outputs": [],
   "source": [
    "selected_data = data[data['ID_TURMA'].isin(turma_counts.keys())]"
   ]
  },
  {
   "cell_type": "code",
   "execution_count": 171,
   "metadata": {},
   "outputs": [
    {
     "data": {
      "text/plain": [
       "<matplotlib.axes._subplots.AxesSubplot at 0x21e977b1ee0>"
      ]
     },
     "execution_count": 171,
     "metadata": {},
     "output_type": "execute_result"
    },
    {
     "data": {
      "image/png": "[encoded data removed]",
      "text/plain": [
       "<Figure size 432x288 with 1 Axes>"
      ]
     },
     "metadata": {},
     "output_type": "display_data"
    }
   ],
   "source": [
    "(cnt.loc[0]/cnt.loc[1]).sort_values().reset_index(drop=True).plot()"
   ]
  },
  {
   "cell_type": "markdown",
   "metadata": {},
   "source": [
    "#### Approximately 60000 (12,8 % of students) students from school classes without any student who has already dropped out school at any point and returned. Against 408000 students which have a student coleague in the same school class who has dropped out. "
   ]
  },
  {
   "cell_type": "markdown",
   "metadata": {},
   "source": [
    "# Sample equal number of students for each class for each schol class"
   ]
  },
  {
   "cell_type": "code",
   "execution_count": 265,
   "metadata": {},
   "outputs": [
    {
     "name": "stdout",
     "output_type": "stream",
     "text": [
      "ID_MUNICIPIO evaluated: 1001/1034\n"
     ]
    }
   ],
   "source": [
    "cnt = target_categorical_distribution(x_, y_, col='ID_MUNICIPIO')"
   ]
  },
  {
   "cell_type": "code",
   "execution_count": 266,
   "metadata": {},
   "outputs": [
    {
     "name": "stdout",
     "output_type": "stream",
     "text": [
      "Turmas evaluated: 1001/1034\n"
     ]
    }
   ],
   "source": [
    "x_, y_ = simetrical_categorical_sampler(X, Y, col='ID_MUNICIPIO', cnt=cnt)"
   ]
  },
  {
   "cell_type": "code",
   "execution_count": 267,
   "metadata": {},
   "outputs": [
    {
     "data": {
      "text/plain": [
       "1    50087\n",
       "0    50087\n",
       "Name: TX_RESP_Q049, dtype: int64"
      ]
     },
     "execution_count": 267,
     "metadata": {},
     "output_type": "execute_result"
    }
   ],
   "source": [
    "y_.value_counts()"
   ]
  },
  {
   "cell_type": "markdown",
   "metadata": {},
   "source": [
    "# Train test split based on school classes"
   ]
  },
  {
   "cell_type": "code",
   "execution_count": 292,
   "metadata": {},
   "outputs": [],
   "source": [
    "x, xe, y, ye = tts_categorical(x_, y_, cnt, test_size=0.9, col='ID_MUNICIPIO')"
   ]
  },
  {
   "cell_type": "markdown",
   "metadata": {},
   "source": [
    "### Training class count"
   ]
  },
  {
   "cell_type": "code",
   "execution_count": 293,
   "metadata": {},
   "outputs": [
    {
     "data": {
      "text/plain": [
       "1    4359\n",
       "0    4359\n",
       "Name: TX_RESP_Q049, dtype: int64"
      ]
     },
     "execution_count": 293,
     "metadata": {},
     "output_type": "execute_result"
    }
   ],
   "source": [
    "y.value_counts()"
   ]
  },
  {
   "cell_type": "markdown",
   "metadata": {},
   "source": [
    "### Test percentage"
   ]
  },
  {
   "cell_type": "code",
   "execution_count": 294,
   "metadata": {},
   "outputs": [
    {
     "data": {
      "text/plain": [
       "10.490479467767837"
      ]
     },
     "execution_count": 294,
     "metadata": {},
     "output_type": "execute_result"
    }
   ],
   "source": [
    "xe.shape[0] / x.shape[0]"
   ]
  },
  {
   "cell_type": "markdown",
   "metadata": {},
   "source": [
    "# Undersampling majority class"
   ]
  },
  {
   "cell_type": "code",
   "execution_count": 271,
   "metadata": {},
   "outputs": [],
   "source": [
    "from imblearn.under_sampling import RandomUnderSampler"
   ]
  },
  {
   "cell_type": "code",
   "execution_count": 179,
   "metadata": {},
   "outputs": [],
   "source": [
    "# define undersample strategy\n",
    "undersample = RandomUnderSampler(sampling_strategy='majority')\n",
    "# fit and apply the transform\n",
    "xx, yy = undersample.fit_resample(X, Y)"
   ]
  },
  {
   "cell_type": "code",
   "execution_count": 180,
   "metadata": {},
   "outputs": [
    {
     "data": {
      "text/plain": [
       "1    50087\n",
       "0    50087\n",
       "Name: TX_RESP_Q049, dtype: int64"
      ]
     },
     "execution_count": 180,
     "metadata": {},
     "output_type": "execute_result"
    }
   ],
   "source": [
    "yy.value_counts()"
   ]
  },
  {
   "cell_type": "markdown",
   "metadata": {},
   "source": [
    "# Train test split"
   ]
  },
  {
   "cell_type": "code",
   "execution_count": 32,
   "metadata": {},
   "outputs": [],
   "source": [
    "from sklearn.model_selection import train_test_split as tts"
   ]
  },
  {
   "cell_type": "code",
   "execution_count": 275,
   "metadata": {},
   "outputs": [],
   "source": [
    "xt, xe, yt, ye = tts(xx, yy, test_size=0.1, random_state=999)"
   ]
  },
  {
   "cell_type": "code",
   "execution_count": 194,
   "metadata": {},
   "outputs": [
    {
     "data": {
      "text/plain": [
       "0    10170\n",
       "1     9861\n",
       "Name: TX_RESP_Q049, dtype: int64"
      ]
     },
     "execution_count": 194,
     "metadata": {},
     "output_type": "execute_result"
    }
   ],
   "source": [
    "ye.value_counts()"
   ]
  },
  {
   "cell_type": "markdown",
   "metadata": {},
   "source": [
    "# Resample"
   ]
  },
  {
   "cell_type": "code",
   "execution_count": 42,
   "metadata": {},
   "outputs": [],
   "source": [
    "x = xt.sample(5000);\n",
    "y = yt.loc[x.index]"
   ]
  },
  {
   "cell_type": "markdown",
   "metadata": {},
   "source": [
    "---\n",
    "# FEATURE SELECTION"
   ]
  },
  {
   "cell_type": "code",
   "execution_count": 274,
   "metadata": {},
   "outputs": [],
   "source": [
    "from sklearn.utils import all_estimators\n",
    "\n",
    "model_name = 'GradientBoostingClassifier'\n",
    "classifiers = dict(all_estimators('classifier'))\n",
    "model = classifiers[model_name]"
   ]
  },
  {
   "cell_type": "markdown",
   "metadata": {},
   "source": [
    "# Evaluate models using cross validation"
   ]
  },
  {
   "cell_type": "code",
   "execution_count": null,
   "metadata": {},
   "outputs": [],
   "source": [
    "models = classifiers.keys()"
   ]
  },
  {
   "cell_type": "code",
   "execution_count": 270,
   "metadata": {},
   "outputs": [],
   "source": [
    "cv_scrs = Classifier().cv_scr(models, x, y, cv=5)"
   ]
  },
  {
   "cell_type": "code",
   "execution_count": 271,
   "metadata": {},
   "outputs": [
    {
     "data": {
      "text/html": [
       "<div>\n",
       "<style scoped>\n",
       "    .dataframe tbody tr th:only-of-type {\n",
       "        vertical-align: middle;\n",
       "    }\n",
       "\n",
       "    .dataframe tbody tr th {\n",
       "        vertical-align: top;\n",
       "    }\n",
       "\n",
       "    .dataframe thead th {\n",
       "        text-align: right;\n",
       "    }\n",
       "</style>\n",
       "<table border=\"1\" class=\"dataframe\">\n",
       "  <thead>\n",
       "    <tr style=\"text-align: right;\">\n",
       "      <th></th>\n",
       "      <th>count</th>\n",
       "      <th>mean</th>\n",
       "      <th>std</th>\n",
       "      <th>min</th>\n",
       "      <th>25%</th>\n",
       "      <th>50%</th>\n",
       "      <th>75%</th>\n",
       "      <th>max</th>\n",
       "    </tr>\n",
       "  </thead>\n",
       "  <tbody>\n",
       "    <tr>\n",
       "      <th>HistGradientBoostingClassifier</th>\n",
       "      <td>5.0</td>\n",
       "      <td>0.691500</td>\n",
       "      <td>0.010415</td>\n",
       "      <td>0.678333</td>\n",
       "      <td>0.684167</td>\n",
       "      <td>0.695000</td>\n",
       "      <td>0.695000</td>\n",
       "      <td>0.705000</td>\n",
       "    </tr>\n",
       "    <tr>\n",
       "      <th>RandomForestClassifier</th>\n",
       "      <td>5.0</td>\n",
       "      <td>0.691500</td>\n",
       "      <td>0.014011</td>\n",
       "      <td>0.677500</td>\n",
       "      <td>0.684167</td>\n",
       "      <td>0.685833</td>\n",
       "      <td>0.696667</td>\n",
       "      <td>0.713333</td>\n",
       "    </tr>\n",
       "    <tr>\n",
       "      <th>GradientBoostingClassifier</th>\n",
       "      <td>5.0</td>\n",
       "      <td>0.686333</td>\n",
       "      <td>0.012056</td>\n",
       "      <td>0.670833</td>\n",
       "      <td>0.682500</td>\n",
       "      <td>0.683333</td>\n",
       "      <td>0.691667</td>\n",
       "      <td>0.703333</td>\n",
       "    </tr>\n",
       "    <tr>\n",
       "      <th>ExtraTreesClassifier</th>\n",
       "      <td>5.0</td>\n",
       "      <td>0.683333</td>\n",
       "      <td>0.009129</td>\n",
       "      <td>0.675000</td>\n",
       "      <td>0.675833</td>\n",
       "      <td>0.682500</td>\n",
       "      <td>0.685833</td>\n",
       "      <td>0.697500</td>\n",
       "    </tr>\n",
       "    <tr>\n",
       "      <th>LinearDiscriminantAnalysis</th>\n",
       "      <td>5.0</td>\n",
       "      <td>0.676667</td>\n",
       "      <td>0.010977</td>\n",
       "      <td>0.663333</td>\n",
       "      <td>0.667500</td>\n",
       "      <td>0.680833</td>\n",
       "      <td>0.681667</td>\n",
       "      <td>0.690000</td>\n",
       "    </tr>\n",
       "    <tr>\n",
       "      <th>AdaBoostClassifier</th>\n",
       "      <td>5.0</td>\n",
       "      <td>0.676167</td>\n",
       "      <td>0.009567</td>\n",
       "      <td>0.666667</td>\n",
       "      <td>0.668333</td>\n",
       "      <td>0.675000</td>\n",
       "      <td>0.680833</td>\n",
       "      <td>0.690000</td>\n",
       "    </tr>\n",
       "    <tr>\n",
       "      <th>RidgeClassifierCV</th>\n",
       "      <td>5.0</td>\n",
       "      <td>0.676000</td>\n",
       "      <td>0.012182</td>\n",
       "      <td>0.661667</td>\n",
       "      <td>0.665833</td>\n",
       "      <td>0.680000</td>\n",
       "      <td>0.680833</td>\n",
       "      <td>0.691667</td>\n",
       "    </tr>\n",
       "    <tr>\n",
       "      <th>RidgeClassifier</th>\n",
       "      <td>5.0</td>\n",
       "      <td>0.675500</td>\n",
       "      <td>0.011526</td>\n",
       "      <td>0.661667</td>\n",
       "      <td>0.666667</td>\n",
       "      <td>0.679167</td>\n",
       "      <td>0.679167</td>\n",
       "      <td>0.690833</td>\n",
       "    </tr>\n",
       "  </tbody>\n",
       "</table>\n",
       "</div>"
      ],
      "text/plain": [
       "                                count      mean       std       min       25%  \\\n",
       "HistGradientBoostingClassifier    5.0  0.691500  0.010415  0.678333  0.684167   \n",
       "RandomForestClassifier            5.0  0.691500  0.014011  0.677500  0.684167   \n",
       "GradientBoostingClassifier        5.0  0.686333  0.012056  0.670833  0.682500   \n",
       "ExtraTreesClassifier              5.0  0.683333  0.009129  0.675000  0.675833   \n",
       "LinearDiscriminantAnalysis        5.0  0.676667  0.010977  0.663333  0.667500   \n",
       "AdaBoostClassifier                5.0  0.676167  0.009567  0.666667  0.668333   \n",
       "RidgeClassifierCV                 5.0  0.676000  0.012182  0.661667  0.665833   \n",
       "RidgeClassifier                   5.0  0.675500  0.011526  0.661667  0.666667   \n",
       "\n",
       "                                     50%       75%       max  \n",
       "HistGradientBoostingClassifier  0.695000  0.695000  0.705000  \n",
       "RandomForestClassifier          0.685833  0.696667  0.713333  \n",
       "GradientBoostingClassifier      0.683333  0.691667  0.703333  \n",
       "ExtraTreesClassifier            0.682500  0.685833  0.697500  \n",
       "LinearDiscriminantAnalysis      0.680833  0.681667  0.690000  \n",
       "AdaBoostClassifier              0.675000  0.680833  0.690000  \n",
       "RidgeClassifierCV               0.680000  0.680833  0.691667  \n",
       "RidgeClassifier                 0.679167  0.679167  0.690833  "
      ]
     },
     "execution_count": 271,
     "metadata": {},
     "output_type": "execute_result"
    }
   ],
   "source": [
    "co(wait=True); cv_scrs.T.sort_values('mean', ascending=False)"
   ]
  },
  {
   "cell_type": "markdown",
   "metadata": {},
   "source": [
    "# Fit and score baseline model"
   ]
  },
  {
   "cell_type": "markdown",
   "metadata": {},
   "source": [
    "#### City sampling"
   ]
  },
  {
   "cell_type": "code",
   "execution_count": 272,
   "metadata": {},
   "outputs": [
    {
     "name": "stdout",
     "output_type": "stream",
     "text": [
      "              precision    recall  f1-score   support\n",
      "\n",
      "           0       0.69      0.71      0.70     41710\n",
      "           1       0.71      0.68      0.69     41710\n",
      "\n",
      "    accuracy                           0.70     83420\n",
      "   macro avg       0.70      0.70      0.70     83420\n",
      "weighted avg       0.70      0.70      0.70     83420\n",
      "\n"
     ]
    }
   ],
   "source": [
    "model_fit = model().fit(x, y)\n",
    "print(cr(ye, model_fit.predict(xe)))"
   ]
  },
  {
   "cell_type": "markdown",
   "metadata": {},
   "source": [
    "#### School sampling"
   ]
  },
  {
   "cell_type": "code",
   "execution_count": 264,
   "metadata": {},
   "outputs": [
    {
     "name": "stdout",
     "output_type": "stream",
     "text": [
      "              precision    recall  f1-score   support\n",
      "\n",
      "           0       0.69      0.68      0.69     40483\n",
      "           1       0.69      0.70      0.69     40486\n",
      "\n",
      "    accuracy                           0.69     80969\n",
      "   macro avg       0.69      0.69      0.69     80969\n",
      "weighted avg       0.69      0.69      0.69     80969\n",
      "\n"
     ]
    }
   ],
   "source": [
    "model_fit = model().fit(x, y)\n",
    "print(cr(ye, model_fit.predict(xe)))"
   ]
  },
  {
   "cell_type": "markdown",
   "metadata": {},
   "source": [
    "#### School class sampling"
   ]
  },
  {
   "cell_type": "code",
   "execution_count": 254,
   "metadata": {},
   "outputs": [
    {
     "name": "stdout",
     "output_type": "stream",
     "text": [
      "              precision    recall  f1-score   support\n",
      "\n",
      "           0       0.68      0.67      0.68     39893\n",
      "           1       0.68      0.68      0.68     39912\n",
      "\n",
      "    accuracy                           0.68     79805\n",
      "   macro avg       0.68      0.68      0.68     79805\n",
      "weighted avg       0.68      0.68      0.68     79805\n",
      "\n"
     ]
    }
   ],
   "source": [
    "model_fit = model().fit(x, y)\n",
    "print(cr(ye, model_fit.predict(xe)))"
   ]
  },
  {
   "cell_type": "markdown",
   "metadata": {},
   "source": [
    "# Retrieve feature importance"
   ]
  },
  {
   "cell_type": "code",
   "execution_count": 273,
   "metadata": {},
   "outputs": [
    {
     "data": {
      "image/png": "[encoded data removed]",
      "text/plain": [
       "<Figure size 504x360 with 1 Axes>"
      ]
     },
     "metadata": {},
     "output_type": "display_data"
    }
   ],
   "source": [
    "feature_importance = pd.Series(model_fit.feature_importances_, index=X.columns).sort_values(ascending=False)\n",
    "\n",
    "first, n_first = 1, 20\n",
    "fig, ax = plt.subplots(figsize=(7,5), tight_layout=True)\n",
    "feature_importance.iloc[first-1:n_first].plot.bar(ax=ax);\n",
    "plt.title(f'Drug use model - {model_name}');\n",
    "plt.ylabel('Feature importance'); plt.show()"
   ]
  },
  {
   "cell_type": "markdown",
   "metadata": {},
   "source": [
    "# Fit and scorE baseline model up to max_features=15 most import features"
   ]
  },
  {
   "cell_type": "code",
   "execution_count": 256,
   "metadata": {},
   "outputs": [
    {
     "name": "stdout",
     "output_type": "stream",
     "text": [
      "Scoring model for 15/15 most important features.\n"
     ]
    }
   ],
   "source": [
    "RFI = recursive_feature_inclusion(x, xe, y, ye, feature_importance, max_features=15, first_feature=1)"
   ]
  },
  {
   "cell_type": "code",
   "execution_count": 257,
   "metadata": {},
   "outputs": [
    {
     "data": {
      "image/png": "[encoded data removed]",
      "text/plain": [
       "<Figure size 432x396 with 1 Axes>"
      ]
     },
     "metadata": {},
     "output_type": "display_data"
    }
   ],
   "source": [
    "plot_rfi(RFI)"
   ]
  },
  {
   "cell_type": "markdown",
   "metadata": {},
   "source": [
    "# Classification report for baseline model of selected features"
   ]
  },
  {
   "cell_type": "code",
   "execution_count": 57,
   "metadata": {},
   "outputs": [
    {
     "name": "stdout",
     "output_type": "stream",
     "text": [
      "              precision    recall  f1-score   support\n",
      "\n",
      "           0       0.71      0.65      0.68     10137\n",
      "           1       0.67      0.72      0.70      9898\n",
      "\n",
      "    accuracy                           0.69     20035\n",
      "   macro avg       0.69      0.69      0.69     20035\n",
      "weighted avg       0.69      0.69      0.69     20035\n",
      "\n"
     ]
    }
   ],
   "source": [
    "selected_features = feature_importance[:4].index.values\n",
    "xt_s = xt[selected_features]; xe_s = xe[selected_features]\n",
    "yp_sel = model().fit(xt_s, yt).predict(xe_s)\n",
    "\n",
    "print(cr(ye, yp_sel))"
   ]
  },
  {
   "cell_type": "markdown",
   "metadata": {},
   "source": [
    "# Understanding selected features"
   ]
  },
  {
   "cell_type": "code",
   "execution_count": 323,
   "metadata": {},
   "outputs": [],
   "source": [
    "selected = [\n",
    "    'TX_RESP_Q004', 'TX_RESP_Q048',\n",
    "    'TX_RESP_Q045', 'TX_RESP_Q050',\n",
    "#     'TX_RESP_Q051', 'TX_RESP_Q052',\n",
    "#     'TX_RESP_Q015', 'TX_RESP_Q053',\n",
    "#     'TX_RESP_Q003', 'TX_RESP_Q040',\n",
    "#     'TX_RESP_Q047', 'TX_RESP_Q027',\n",
    "#     'TX_RESP_Q026'\n",
    "#     'TX_RESP_Q018', 'TX_RESP_Q015'\n",
    "]"
   ]
  },
  {
   "cell_type": "code",
   "execution_count": 324,
   "metadata": {},
   "outputs": [
    {
     "data": {
      "text/html": [
       "<div>\n",
       "<style scoped>\n",
       "    .dataframe tbody tr th:only-of-type {\n",
       "        vertical-align: middle;\n",
       "    }\n",
       "\n",
       "    .dataframe tbody tr th {\n",
       "        vertical-align: top;\n",
       "    }\n",
       "\n",
       "    .dataframe thead th {\n",
       "        text-align: right;\n",
       "    }\n",
       "</style>\n",
       "<table border=\"1\" class=\"dataframe\">\n",
       "  <thead>\n",
       "    <tr style=\"text-align: right;\">\n",
       "      <th>questão</th>\n",
       "      <th>TX_RESP_Q004</th>\n",
       "      <th>TX_RESP_Q048</th>\n",
       "      <th>TX_RESP_Q045</th>\n",
       "      <th>TX_RESP_Q050</th>\n",
       "    </tr>\n",
       "  </thead>\n",
       "  <tbody>\n",
       "    <tr>\n",
       "      <th>Enunciado</th>\n",
       "      <td>Qual a sua idade?</td>\n",
       "      <td>Você já foi reprovado?</td>\n",
       "      <td>Você trabalha fora de casa?</td>\n",
       "      <td>Você faz o dever de casa de língua portuguesa?</td>\n",
       "    </tr>\n",
       "    <tr>\n",
       "      <th>A</th>\n",
       "      <td>8 anos ou menos.</td>\n",
       "      <td>Não.</td>\n",
       "      <td>Sim.</td>\n",
       "      <td>Sempre ou quase sempre.</td>\n",
       "    </tr>\n",
       "    <tr>\n",
       "      <th>B</th>\n",
       "      <td>9 anos.</td>\n",
       "      <td>Sim, uma vez.</td>\n",
       "      <td>Não.</td>\n",
       "      <td>De vez em quando.</td>\n",
       "    </tr>\n",
       "    <tr>\n",
       "      <th>C</th>\n",
       "      <td>10 anos.</td>\n",
       "      <td>Sim, duas vezes ou mais.</td>\n",
       "      <td></td>\n",
       "      <td>Nunca ou quase nunca.</td>\n",
       "    </tr>\n",
       "    <tr>\n",
       "      <th>D</th>\n",
       "      <td>11 anos.</td>\n",
       "      <td></td>\n",
       "      <td></td>\n",
       "      <td></td>\n",
       "    </tr>\n",
       "    <tr>\n",
       "      <th>E</th>\n",
       "      <td>12 anos.</td>\n",
       "      <td></td>\n",
       "      <td></td>\n",
       "      <td></td>\n",
       "    </tr>\n",
       "    <tr>\n",
       "      <th>F</th>\n",
       "      <td>13 anos.</td>\n",
       "      <td></td>\n",
       "      <td></td>\n",
       "      <td></td>\n",
       "    </tr>\n",
       "    <tr>\n",
       "      <th>G</th>\n",
       "      <td>14 anos.</td>\n",
       "      <td></td>\n",
       "      <td></td>\n",
       "      <td></td>\n",
       "    </tr>\n",
       "    <tr>\n",
       "      <th>H</th>\n",
       "      <td>15 anos ou mais</td>\n",
       "      <td></td>\n",
       "      <td></td>\n",
       "      <td></td>\n",
       "    </tr>\n",
       "  </tbody>\n",
       "</table>\n",
       "</div>"
      ],
      "text/plain": [
       "questão         TX_RESP_Q004              TX_RESP_Q048  \\\n",
       "Enunciado  Qual a sua idade?    Você já foi reprovado?   \n",
       "A           8 anos ou menos.                      Não.   \n",
       "B                    9 anos.             Sim, uma vez.   \n",
       "C                   10 anos.  Sim, duas vezes ou mais.   \n",
       "D                   11 anos.                             \n",
       "E                   12 anos.                             \n",
       "F                   13 anos.                             \n",
       "G                   14 anos.                             \n",
       "H            15 anos ou mais                             \n",
       "\n",
       "questão                   TX_RESP_Q045  \\\n",
       "Enunciado  Você trabalha fora de casa?   \n",
       "A                                 Sim.   \n",
       "B                                 Não.   \n",
       "C                                        \n",
       "D                                        \n",
       "E                                        \n",
       "F                                        \n",
       "G                                        \n",
       "H                                        \n",
       "\n",
       "questão                                      TX_RESP_Q050  \n",
       "Enunciado  Você faz o dever de casa de língua portuguesa?  \n",
       "A                                 Sempre ou quase sempre.  \n",
       "B                                       De vez em quando.  \n",
       "C                                   Nunca ou quase nunca.  \n",
       "D                                                          \n",
       "E                                                          \n",
       "F                                                          \n",
       "G                                                          \n",
       "H                                                          "
      ]
     },
     "execution_count": 324,
     "metadata": {},
     "output_type": "execute_result"
    }
   ],
   "source": [
    "pd.concat([dicts[5].loc[[col]] for col in selected]).T.dropna(how='all').replace(np.nan, '')"
   ]
  },
  {
   "cell_type": "markdown",
   "metadata": {},
   "source": [
    "# RECURSIVE FEATURE ELIMINATION"
   ]
  },
  {
   "cell_type": "code",
   "execution_count": 66,
   "metadata": {},
   "outputs": [],
   "source": [
    "from sklearn.feature_selection import RFE, RFECV, SequentialFeatureSelector as SFS"
   ]
  },
  {
   "cell_type": "code",
   "execution_count": null,
   "metadata": {},
   "outputs": [],
   "source": [
    "rfe = RFE(model(), n_features_to_select=1, step=1, verbose=1)\n",
    "rfe.fit(x[feature_importance.iloc[:30].index], y)"
   ]
  },
  {
   "cell_type": "code",
   "execution_count": 69,
   "metadata": {},
   "outputs": [
    {
     "data": {
      "text/plain": [
       "1         TX_RESP_Q048\n",
       "2         TX_RESP_Q004\n",
       "3      PROFICIENCIA_LP\n",
       "4         TX_RESP_Q045\n",
       "5     DESVIO_PADRAO_MT\n",
       "6             ID_TURMA\n",
       "7         TX_RESP_Q050\n",
       "8         ID_MUNICIPIO\n",
       "9         TX_RESP_Q027\n",
       "10                PESO\n",
       "dtype: object"
      ]
     },
     "execution_count": 69,
     "metadata": {},
     "output_type": "execute_result"
    }
   ],
   "source": [
    "rfe_features = pd.Series(feature_importance.iloc[:30].index, index=rfe.ranking_).sort_index()\n",
    "rfe_features.head(10)"
   ]
  },
  {
   "cell_type": "markdown",
   "metadata": {},
   "source": [
    "# RECURSIVE FEATURE ELIMINATION (with built-in cross validation)"
   ]
  },
  {
   "cell_type": "code",
   "execution_count": null,
   "metadata": {},
   "outputs": [],
   "source": []
  },
  {
   "cell_type": "markdown",
   "metadata": {},
   "source": [
    "---\n",
    "# BINARY CLASSIFICATION MODELS USING NEURAL NETWORKS"
   ]
  },
  {
   "cell_type": "code",
   "execution_count": 288,
   "metadata": {},
   "outputs": [],
   "source": [
    "import torch\n",
    "import torch.nn as nn"
   ]
  },
  {
   "cell_type": "code",
   "execution_count": 96,
   "metadata": {},
   "outputs": [
    {
     "data": {
      "text/plain": [
       "(80139, 73)"
      ]
     },
     "execution_count": 96,
     "metadata": {},
     "output_type": "execute_result"
    }
   ],
   "source": [
    "xt.shape"
   ]
  },
  {
   "cell_type": "code",
   "execution_count": null,
   "metadata": {},
   "outputs": [],
   "source": [
    "nn_params = {\n",
    "    'test_size': 0.3,\n",
    "    'hidden_layers': [78, 78, 78],\n",
    "    'initial_params': {'weight': 0, 'bias': 0},\n",
    "    # 'criterion': None\n",
    "    'optimizer': torch.optim.SGD,\n",
    "    'activation': 'relu',\n",
    "    'epochs': 15000,\n",
    "    'batch_size': 100,\n",
    "    'lr': 0.1,\n",
    "    'momentum': 0,\n",
    "}\n",
    "\n",
    "criteria_dict = {\n",
    "    'BCELoss': nn.BCELoss,\n",
    "    'L1Loss': nn.L1Loss,\n",
    "    'MSELoss': nn.MSELoss,\n",
    "    'HuberLoss': nn.HuberLoss\n",
    "}\n",
    "\n",
    "eval_i = {}\n",
    "for label, criteria in criteria_dict.items():\n",
    "    eval_i[label] = execute_neural_net(\n",
    "        xt, yt, xe, ye,\n",
    "        criterion=criteria,\n",
    "        **nn_params,\n",
    "    )"
   ]
  },
  {
   "cell_type": "markdown",
   "metadata": {},
   "source": [
    "### Comparing neural network test predictions for different loss functions"
   ]
  },
  {
   "cell_type": "code",
   "execution_count": 747,
   "metadata": {},
   "outputs": [
    {
     "data": {
      "image/png": "[encoded data removed]",
      "text/plain": [
       "<Figure size 1080x216 with 3 Axes>"
      ]
     },
     "metadata": {},
     "output_type": "display_data"
    }
   ],
   "source": [
    "plot_learning_curve_comparison(eval_i, figsize=(15,3), tight_layout=True, legend=True)"
   ]
  },
  {
   "cell_type": "code",
   "execution_count": 758,
   "metadata": {},
   "outputs": [
    {
     "data": {
      "text/plain": [
       "['PESO',\n",
       " 'PROFICIENCIA_LP',\n",
       " 'DESVIO_PADRAO_LP',\n",
       " 'PROFICIENCIA_LP_SAEB',\n",
       " 'DESVIO_PADRAO_LP_SAEB',\n",
       " 'PROFICIENCIA_MT',\n",
       " 'DESVIO_PADRAO_MT',\n",
       " 'PROFICIENCIA_MT_SAEB',\n",
       " 'DESVIO_PADRAO_MT_SAEB']"
      ]
     },
     "execution_count": 758,
     "metadata": {},
     "output_type": "execute_result"
    }
   ],
   "source": [
    "grades"
   ]
  }
 ],
 "metadata": {
  "kernelspec": {
   "display_name": "Python 3",
   "language": "python",
   "name": "python3"
  },
  "language_info": {
   "codemirror_mode": {
    "name": "ipython",
    "version": 3
   },
   "file_extension": ".py",
   "mimetype": "text/x-python",
   "name": "python",
   "nbconvert_exporter": "python",
   "pygments_lexer": "ipython3",
   "version": "3.8.3"
  }
 },
 "nbformat": 4,
 "nbformat_minor": 4
}
