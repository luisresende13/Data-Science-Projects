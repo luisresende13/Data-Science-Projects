{
 "cells": [
  {
   "cell_type": "code",
   "execution_count": 4,
   "metadata": {},
   "outputs": [],
   "source": [
    "import os\n",
    "import pandas as pd; pd.set_option('max_colwidth', None)\n",
    "import numpy as np; np.random.seed(0)\n",
    "import matplotlib.pyplot as plt\n",
    "import seaborn as sns; sns.set()\n",
    "from datetime import datetime\n",
    "from IPython.display import clear_output as co\n",
    "\n",
    "from Classification import Classifier, plot_lc_model_comparison\n",
    "from NeuralNetwork import execute_neural_net, plot_learning_curve_comparison"
   ]
  },
  {
   "cell_type": "markdown",
   "metadata": {},
   "source": [
    "#### Defining functions"
   ]
  },
  {
   "cell_type": "code",
   "execution_count": 294,
   "metadata": {},
   "outputs": [],
   "source": [
    "def recursive_feature_elimination(x, xe, y, ye, feature_importance, max_features=5, first_feature=1):\n",
    "    scrs_df = []\n",
    "    max_feat_i = range(first_feature, max_features+1)\n",
    "    sorted_importance = feature_importance.sort_values(ascending=False)\n",
    "    for i in max_feat_i:\n",
    "        co(wait=True); print(f'Scoring model for {i}/{max_features} most important features.')\n",
    "        sel_feat = sorted_importance.iloc[first_feature-1:i].index.values\n",
    "        xt_s, xe_s = x[sel_feat], xe[sel_feat]\n",
    "        yp_sel = model().fit(xt_s, y).predict(xe_s)\n",
    "        scrs = cr(ye, yp_sel, output_dict=True)\n",
    "        scrs_df.append([scrs['accuracy'], scrs['macro avg']['recall'], scrs['macro avg']['precision']])\n",
    "    return pd.DataFrame(scrs_df, index=sorted_importance.iloc[first_feature-1:max_features].index, columns=['acc', 'recall', 'precision'])"
   ]
  },
  {
   "cell_type": "markdown",
   "metadata": {},
   "source": [
    "#### Loading prepared data"
   ]
  },
  {
   "cell_type": "code",
   "execution_count": 226,
   "metadata": {},
   "outputs": [],
   "source": [
    "data = pd.read_csv('data/grades/5th_grade.csv', index_col=0)"
   ]
  },
  {
   "cell_type": "markdown",
   "metadata": {},
   "source": [
    "#### Loading Adapted Data Dictionaries"
   ]
  },
  {
   "cell_type": "code",
   "execution_count": 227,
   "metadata": {},
   "outputs": [],
   "source": [
    "data_path = '/Users/luisr/Desktop/Repositories/Data/saep/CSV/{}'\n",
    "grades = [5,9,3]; dict_filenames = [f'dicionario {i}ano.csv' for i in grades]\n",
    "dicts = {grade: pd.read_csv(data_path.format(filename)).set_index('questão') for grade, filename in zip(grades, dict_filenames)}"
   ]
  },
  {
   "cell_type": "markdown",
   "metadata": {},
   "source": [
    "#### Defining targets corresponding to each student grade"
   ]
  },
  {
   "cell_type": "code",
   "execution_count": 228,
   "metadata": {},
   "outputs": [],
   "source": [
    "#### Define the target variable\n",
    "targets = { # Abandonment\n",
    "    5: 'TX_RESP_Q049',\n",
    "    9: 'TX_RESP_Q050',\n",
    "    12: 'TX_RESP_Q044',\n",
    "}\n",
    "grade = 5\n",
    "target = targets[grade]\n",
    "\n",
    "rep_targets = { # Reproval cols\n",
    "    5: 'TX_RESP_Q048',\n",
    "    9: 'TX_RESP_Q049',\n",
    "    12: 'TX_RESP_Q043'\n",
    "}\n",
    "rep_target = rep_targets[grade]"
   ]
  },
  {
   "cell_type": "markdown",
   "metadata": {},
   "source": [
    "#### List different types of features"
   ]
  },
  {
   "cell_type": "code",
   "execution_count": 229,
   "metadata": {},
   "outputs": [],
   "source": [
    "ids = data.columns[:11].tolist()\n",
    "questions = data.columns[11:65].tolist()\n",
    "grades = data.columns[65:].tolist()"
   ]
  },
  {
   "cell_type": "markdown",
   "metadata": {},
   "source": [
    "---\n",
    "# TARGET VARIABLE TRANSFORMATION"
   ]
  },
  {
   "cell_type": "markdown",
   "metadata": {},
   "source": [
    "### 2.2.1. Target Variable Classes Transformation\n"
   ]
  },
  {
   "cell_type": "markdown",
   "metadata": {},
   "source": [
    "Obs: Last label represent missing values (Label 3)"
   ]
  },
  {
   "cell_type": "code",
   "execution_count": 8,
   "metadata": {},
   "outputs": [],
   "source": [
    "def binary(Y, out, replace):\n",
    "    # 1. Droping rows where the target variable is missing \n",
    "    # 2. Target variable conversion to binary\n",
    "    labels = list(replace.keys())\n",
    "    label_map = lambda label: (replace[label] if label in labels else label)\n",
    "    return Y[Y.isin(out)==False].map(label_map)"
   ]
  },
  {
   "cell_type": "markdown",
   "metadata": {},
   "source": [
    "### Defining X and Y"
   ]
  },
  {
   "cell_type": "code",
   "execution_count": 232,
   "metadata": {},
   "outputs": [],
   "source": [
    "Y = binary(data[target].copy(), out=[3], replace={2: 1})\n",
    "X = data.loc[Y.index].drop(target, 1)"
   ]
  },
  {
   "cell_type": "code",
   "execution_count": 233,
   "metadata": {},
   "outputs": [
    {
     "data": {
      "text/plain": [
       "0    397232\n",
       "1     50087\n",
       "Name: TX_RESP_Q049, dtype: int64"
      ]
     },
     "execution_count": 233,
     "metadata": {},
     "output_type": "execute_result"
    }
   ],
   "source": [
    "Y.value_counts()"
   ]
  },
  {
   "cell_type": "markdown",
   "metadata": {},
   "source": [
    "---\n",
    "# MISSING VALUES STRATEGY"
   ]
  },
  {
   "cell_type": "code",
   "execution_count": 234,
   "metadata": {},
   "outputs": [],
   "source": [
    "for grade in grades:\n",
    "    X[grade].fillna(X[grade].mean(), inplace=True)"
   ]
  },
  {
   "cell_type": "markdown",
   "metadata": {},
   "source": [
    "---\n",
    "# DATA SAMPLING"
   ]
  },
  {
   "cell_type": "markdown",
   "metadata": {},
   "source": [
    "# Undersampling majority class"
   ]
  },
  {
   "cell_type": "code",
   "execution_count": 235,
   "metadata": {},
   "outputs": [],
   "source": [
    "from imblearn.under_sampling import RandomUnderSampler"
   ]
  },
  {
   "cell_type": "code",
   "execution_count": 236,
   "metadata": {},
   "outputs": [],
   "source": [
    "# define undersample strategy\n",
    "undersample = RandomUnderSampler(sampling_strategy='majority')\n",
    "# fit and apply the transform\n",
    "xx, yy = undersample.fit_resample(X, Y)"
   ]
  },
  {
   "cell_type": "code",
   "execution_count": 237,
   "metadata": {},
   "outputs": [
    {
     "data": {
      "text/plain": [
       "1    50087\n",
       "0    50087\n",
       "Name: TX_RESP_Q049, dtype: int64"
      ]
     },
     "execution_count": 237,
     "metadata": {},
     "output_type": "execute_result"
    }
   ],
   "source": [
    "yy.value_counts()"
   ]
  },
  {
   "cell_type": "markdown",
   "metadata": {},
   "source": [
    "# Train test split"
   ]
  },
  {
   "cell_type": "code",
   "execution_count": 238,
   "metadata": {},
   "outputs": [],
   "source": [
    "from sklearn.model_selection import train_test_split as tts"
   ]
  },
  {
   "cell_type": "code",
   "execution_count": 239,
   "metadata": {},
   "outputs": [],
   "source": [
    "xt, xe, yt, ye = tts(xx, yy, test_size=0.2, random_state=999)"
   ]
  },
  {
   "cell_type": "code",
   "execution_count": 240,
   "metadata": {},
   "outputs": [
    {
     "data": {
      "text/plain": [
       "0    10137\n",
       "1     9898\n",
       "Name: TX_RESP_Q049, dtype: int64"
      ]
     },
     "execution_count": 240,
     "metadata": {},
     "output_type": "execute_result"
    }
   ],
   "source": [
    "ye.value_counts()"
   ]
  },
  {
   "cell_type": "markdown",
   "metadata": {},
   "source": [
    "# Resample"
   ]
  },
  {
   "cell_type": "code",
   "execution_count": 241,
   "metadata": {},
   "outputs": [],
   "source": [
    "x = xt.sample(10000);\n",
    "y = yt.loc[x.index]"
   ]
  },
  {
   "cell_type": "markdown",
   "metadata": {},
   "source": [
    "---\n",
    "# BINARY CASSIFICATION MODELS"
   ]
  },
  {
   "cell_type": "code",
   "execution_count": 242,
   "metadata": {},
   "outputs": [],
   "source": [
    "models = [\n",
    "    'RandomForestClassifier','RidgeClassifier','LinearDiscriminantAnalysis',\n",
    "    'RidgeClassifierCV', 'AdaBoostClassifier', 'ExtraTreesClassifier',\n",
    "    'GradientBoostingClassifier', 'HistGradientBoostingClassifier'\n",
    "]"
   ]
  },
  {
   "cell_type": "markdown",
   "metadata": {},
   "source": [
    "# Visualizing selected models test data learning curves "
   ]
  },
  {
   "cell_type": "code",
   "execution_count": 243,
   "metadata": {},
   "outputs": [
    {
     "name": "stdout",
     "output_type": "stream",
     "text": [
      "HistGradientBoostingClassifier\n"
     ]
    }
   ],
   "source": [
    "train_size_scrs = Classifier().train_size_scr(\n",
    "    models, x, y, xe, ye,\n",
    "    batch_size=None, n=10, order=3,\n",
    "    scoring=['accuracy', 'precision', 'recall']\n",
    ")"
   ]
  },
  {
   "cell_type": "code",
   "execution_count": 244,
   "metadata": {},
   "outputs": [
    {
     "data": {
      "image/png": "[encoded data removed]",
      "text/plain": [
       "<Figure size 648x324 with 1 Axes>"
      ]
     },
     "metadata": {},
     "output_type": "display_data"
    }
   ],
   "source": [
    "plot_lc_model_comparison(\n",
    "    train_size_scrs, metric='accuracy',\n",
    "    avg_window=1, min_periods=1, center=False,\n",
    "    figsize=(9, 4.5), legend=True, leg_loc=(1.05, 0),\n",
    "    title='Model Learning Curve', tight_layout=True, path=None\n",
    ")"
   ]
  },
  {
   "cell_type": "markdown",
   "metadata": {},
   "source": [
    "#### Resample"
   ]
  },
  {
   "cell_type": "code",
   "execution_count": 268,
   "metadata": {},
   "outputs": [],
   "source": [
    "x = xt.sample(6000).copy();\n",
    "y = yt.loc[x.index].copy()"
   ]
  },
  {
   "cell_type": "markdown",
   "metadata": {},
   "source": [
    "# Evaluate models on test data for multiple metrics"
   ]
  },
  {
   "cell_type": "code",
   "execution_count": 269,
   "metadata": {},
   "outputs": [
    {
     "name": "stdout",
     "output_type": "stream",
     "text": [
      "HistGradientBoostingClassifier\n"
     ]
    },
    {
     "data": {
      "text/html": [
       "<div>\n",
       "<style scoped>\n",
       "    .dataframe tbody tr th:only-of-type {\n",
       "        vertical-align: middle;\n",
       "    }\n",
       "\n",
       "    .dataframe tbody tr th {\n",
       "        vertical-align: top;\n",
       "    }\n",
       "\n",
       "    .dataframe thead th {\n",
       "        text-align: right;\n",
       "    }\n",
       "</style>\n",
       "<table border=\"1\" class=\"dataframe\">\n",
       "  <thead>\n",
       "    <tr style=\"text-align: right;\">\n",
       "      <th></th>\n",
       "      <th>accuracy</th>\n",
       "      <th>precision</th>\n",
       "      <th>recall</th>\n",
       "    </tr>\n",
       "  </thead>\n",
       "  <tbody>\n",
       "    <tr>\n",
       "      <th>GradientBoostingClassifier</th>\n",
       "      <td>0.699077</td>\n",
       "      <td>0.699434</td>\n",
       "      <td>0.693896</td>\n",
       "    </tr>\n",
       "    <tr>\n",
       "      <th>RandomForestClassifier</th>\n",
       "      <td>0.691989</td>\n",
       "      <td>0.711356</td>\n",
       "      <td>0.679961</td>\n",
       "    </tr>\n",
       "    <tr>\n",
       "      <th>HistGradientBoostingClassifier</th>\n",
       "      <td>0.691889</td>\n",
       "      <td>0.688321</td>\n",
       "      <td>0.688112</td>\n",
       "    </tr>\n",
       "    <tr>\n",
       "      <th>ExtraTreesClassifier</th>\n",
       "      <td>0.690342</td>\n",
       "      <td>0.695191</td>\n",
       "      <td>0.683453</td>\n",
       "    </tr>\n",
       "    <tr>\n",
       "      <th>RidgeClassifierCV</th>\n",
       "      <td>0.687946</td>\n",
       "      <td>0.652455</td>\n",
       "      <td>0.696656</td>\n",
       "    </tr>\n",
       "    <tr>\n",
       "      <th>RidgeClassifier</th>\n",
       "      <td>0.687647</td>\n",
       "      <td>0.651748</td>\n",
       "      <td>0.696502</td>\n",
       "    </tr>\n",
       "  </tbody>\n",
       "</table>\n",
       "</div>"
      ],
      "text/plain": [
       "                                accuracy  precision    recall\n",
       "GradientBoostingClassifier      0.699077   0.699434  0.693896\n",
       "RandomForestClassifier          0.691989   0.711356  0.679961\n",
       "HistGradientBoostingClassifier  0.691889   0.688321  0.688112\n",
       "ExtraTreesClassifier            0.690342   0.695191  0.683453\n",
       "RidgeClassifierCV               0.687946   0.652455  0.696656\n",
       "RidgeClassifier                 0.687647   0.651748  0.696502"
      ]
     },
     "execution_count": 269,
     "metadata": {},
     "output_type": "execute_result"
    }
   ],
   "source": [
    "scrs = Classifier().scr(models, x, y, xe, ye, scoring=['accuracy', 'precision', 'recall'])\n",
    "scrs.sort_values('accuracy', ascending=False).head(6)"
   ]
  },
  {
   "cell_type": "markdown",
   "metadata": {},
   "source": [
    "# Evaluate models using cross validation"
   ]
  },
  {
   "cell_type": "code",
   "execution_count": 270,
   "metadata": {},
   "outputs": [],
   "source": [
    "cv_scrs = Classifier().cv_scr(models, x, y, cv=5)"
   ]
  },
  {
   "cell_type": "code",
   "execution_count": 271,
   "metadata": {},
   "outputs": [
    {
     "data": {
      "text/html": [
       "<div>\n",
       "<style scoped>\n",
       "    .dataframe tbody tr th:only-of-type {\n",
       "        vertical-align: middle;\n",
       "    }\n",
       "\n",
       "    .dataframe tbody tr th {\n",
       "        vertical-align: top;\n",
       "    }\n",
       "\n",
       "    .dataframe thead th {\n",
       "        text-align: right;\n",
       "    }\n",
       "</style>\n",
       "<table border=\"1\" class=\"dataframe\">\n",
       "  <thead>\n",
       "    <tr style=\"text-align: right;\">\n",
       "      <th></th>\n",
       "      <th>count</th>\n",
       "      <th>mean</th>\n",
       "      <th>std</th>\n",
       "      <th>min</th>\n",
       "      <th>25%</th>\n",
       "      <th>50%</th>\n",
       "      <th>75%</th>\n",
       "      <th>max</th>\n",
       "    </tr>\n",
       "  </thead>\n",
       "  <tbody>\n",
       "    <tr>\n",
       "      <th>HistGradientBoostingClassifier</th>\n",
       "      <td>5.0</td>\n",
       "      <td>0.691500</td>\n",
       "      <td>0.010415</td>\n",
       "      <td>0.678333</td>\n",
       "      <td>0.684167</td>\n",
       "      <td>0.695000</td>\n",
       "      <td>0.695000</td>\n",
       "      <td>0.705000</td>\n",
       "    </tr>\n",
       "    <tr>\n",
       "      <th>RandomForestClassifier</th>\n",
       "      <td>5.0</td>\n",
       "      <td>0.691500</td>\n",
       "      <td>0.014011</td>\n",
       "      <td>0.677500</td>\n",
       "      <td>0.684167</td>\n",
       "      <td>0.685833</td>\n",
       "      <td>0.696667</td>\n",
       "      <td>0.713333</td>\n",
       "    </tr>\n",
       "    <tr>\n",
       "      <th>GradientBoostingClassifier</th>\n",
       "      <td>5.0</td>\n",
       "      <td>0.686333</td>\n",
       "      <td>0.012056</td>\n",
       "      <td>0.670833</td>\n",
       "      <td>0.682500</td>\n",
       "      <td>0.683333</td>\n",
       "      <td>0.691667</td>\n",
       "      <td>0.703333</td>\n",
       "    </tr>\n",
       "    <tr>\n",
       "      <th>ExtraTreesClassifier</th>\n",
       "      <td>5.0</td>\n",
       "      <td>0.683333</td>\n",
       "      <td>0.009129</td>\n",
       "      <td>0.675000</td>\n",
       "      <td>0.675833</td>\n",
       "      <td>0.682500</td>\n",
       "      <td>0.685833</td>\n",
       "      <td>0.697500</td>\n",
       "    </tr>\n",
       "    <tr>\n",
       "      <th>LinearDiscriminantAnalysis</th>\n",
       "      <td>5.0</td>\n",
       "      <td>0.676667</td>\n",
       "      <td>0.010977</td>\n",
       "      <td>0.663333</td>\n",
       "      <td>0.667500</td>\n",
       "      <td>0.680833</td>\n",
       "      <td>0.681667</td>\n",
       "      <td>0.690000</td>\n",
       "    </tr>\n",
       "    <tr>\n",
       "      <th>AdaBoostClassifier</th>\n",
       "      <td>5.0</td>\n",
       "      <td>0.676167</td>\n",
       "      <td>0.009567</td>\n",
       "      <td>0.666667</td>\n",
       "      <td>0.668333</td>\n",
       "      <td>0.675000</td>\n",
       "      <td>0.680833</td>\n",
       "      <td>0.690000</td>\n",
       "    </tr>\n",
       "    <tr>\n",
       "      <th>RidgeClassifierCV</th>\n",
       "      <td>5.0</td>\n",
       "      <td>0.676000</td>\n",
       "      <td>0.012182</td>\n",
       "      <td>0.661667</td>\n",
       "      <td>0.665833</td>\n",
       "      <td>0.680000</td>\n",
       "      <td>0.680833</td>\n",
       "      <td>0.691667</td>\n",
       "    </tr>\n",
       "    <tr>\n",
       "      <th>RidgeClassifier</th>\n",
       "      <td>5.0</td>\n",
       "      <td>0.675500</td>\n",
       "      <td>0.011526</td>\n",
       "      <td>0.661667</td>\n",
       "      <td>0.666667</td>\n",
       "      <td>0.679167</td>\n",
       "      <td>0.679167</td>\n",
       "      <td>0.690833</td>\n",
       "    </tr>\n",
       "  </tbody>\n",
       "</table>\n",
       "</div>"
      ],
      "text/plain": [
       "                                count      mean       std       min       25%  \\\n",
       "HistGradientBoostingClassifier    5.0  0.691500  0.010415  0.678333  0.684167   \n",
       "RandomForestClassifier            5.0  0.691500  0.014011  0.677500  0.684167   \n",
       "GradientBoostingClassifier        5.0  0.686333  0.012056  0.670833  0.682500   \n",
       "ExtraTreesClassifier              5.0  0.683333  0.009129  0.675000  0.675833   \n",
       "LinearDiscriminantAnalysis        5.0  0.676667  0.010977  0.663333  0.667500   \n",
       "AdaBoostClassifier                5.0  0.676167  0.009567  0.666667  0.668333   \n",
       "RidgeClassifierCV                 5.0  0.676000  0.012182  0.661667  0.665833   \n",
       "RidgeClassifier                   5.0  0.675500  0.011526  0.661667  0.666667   \n",
       "\n",
       "                                     50%       75%       max  \n",
       "HistGradientBoostingClassifier  0.695000  0.695000  0.705000  \n",
       "RandomForestClassifier          0.685833  0.696667  0.713333  \n",
       "GradientBoostingClassifier      0.683333  0.691667  0.703333  \n",
       "ExtraTreesClassifier            0.682500  0.685833  0.697500  \n",
       "LinearDiscriminantAnalysis      0.680833  0.681667  0.690000  \n",
       "AdaBoostClassifier              0.675000  0.680833  0.690000  \n",
       "RidgeClassifierCV               0.680000  0.680833  0.691667  \n",
       "RidgeClassifier                 0.679167  0.679167  0.690833  "
      ]
     },
     "execution_count": 271,
     "metadata": {},
     "output_type": "execute_result"
    }
   ],
   "source": [
    "co(wait=True); cv_scrs.T.sort_values('mean', ascending=False)"
   ]
  },
  {
   "cell_type": "markdown",
   "metadata": {},
   "source": [
    "#### Selecting best performing models based on cross validation"
   ]
  },
  {
   "cell_type": "code",
   "execution_count": 272,
   "metadata": {},
   "outputs": [],
   "source": [
    "top_models = cv_scrs.loc['mean'].sort_values(ascending=False).head(10).index.tolist()"
   ]
  },
  {
   "cell_type": "markdown",
   "metadata": {},
   "source": [
    "top_models = [\n",
    "    'GradientBoostingClassifier', 'ExtraTreesClassifier', 'RandomForestClassifier',\n",
    "    'HistGradientBoostingClassifier', 'SVC', 'AdaBoostClassifier', 'RidgeClassifier',\n",
    "    'LinearDiscriminantAnalysis', 'LogisticRegression', 'RidgeClassifierCV'\n",
    "]"
   ]
  },
  {
   "cell_type": "markdown",
   "metadata": {},
   "source": [
    "# Baseline classifier cross validation"
   ]
  },
  {
   "cell_type": "code",
   "execution_count": 273,
   "metadata": {},
   "outputs": [],
   "source": [
    "from sklearn.utils import all_estimators\n",
    "from sklearn.model_selection import cross_val_score as cvs"
   ]
  },
  {
   "cell_type": "code",
   "execution_count": 274,
   "metadata": {},
   "outputs": [],
   "source": [
    "classifiers = dict(all_estimators('classifier'))\n",
    "model_name = 'GradientBoostingClassifier'\n",
    "model = classifiers[model_name]"
   ]
  },
  {
   "cell_type": "code",
   "execution_count": 276,
   "metadata": {},
   "outputs": [
    {
     "data": {
      "text/plain": [
       "count    9.000000\n",
       "mean     0.688167\n",
       "std      0.016258\n",
       "min      0.663664\n",
       "25%      0.674663\n",
       "50%      0.692654\n",
       "75%      0.701201\n",
       "max      0.709145\n",
       "dtype: float64"
      ]
     },
     "execution_count": 276,
     "metadata": {},
     "output_type": "execute_result"
    }
   ],
   "source": [
    "cv_scrs = cvs(model(), x, y, cv=9)\n",
    "co(wait=True); pd.Series(cv_scrs).describe()"
   ]
  },
  {
   "cell_type": "markdown",
   "metadata": {},
   "source": [
    "### Classification report on unseen data"
   ]
  },
  {
   "cell_type": "code",
   "execution_count": 277,
   "metadata": {},
   "outputs": [],
   "source": [
    "from sklearn.metrics import classification_report as cr, confusion_matrix as cm"
   ]
  },
  {
   "cell_type": "code",
   "execution_count": 278,
   "metadata": {},
   "outputs": [
    {
     "name": "stdout",
     "output_type": "stream",
     "text": [
      "              precision    recall  f1-score   support\n",
      "\n",
      "           0       0.70      0.70      0.70     10137\n",
      "           1       0.69      0.70      0.70      9898\n",
      "\n",
      "    accuracy                           0.70     20035\n",
      "   macro avg       0.70      0.70      0.70     20035\n",
      "weighted avg       0.70      0.70      0.70     20035\n",
      "\n"
     ]
    }
   ],
   "source": [
    "yp = model().fit(x, y).predict(xe)\n",
    "\n",
    "print(cr(ye, yp))"
   ]
  },
  {
   "cell_type": "markdown",
   "metadata": {},
   "source": [
    "### Confusion Matrix"
   ]
  },
  {
   "cell_type": "code",
   "execution_count": 279,
   "metadata": {},
   "outputs": [
    {
     "data": {
      "text/plain": [
       "<matplotlib.axes._subplots.AxesSubplot at 0x1c383a7cf70>"
      ]
     },
     "execution_count": 279,
     "metadata": {},
     "output_type": "execute_result"
    },
    {
     "data": {
      "image/png": "[encoded data removed]",
      "text/plain": [
       "<Figure size 432x288 with 1 Axes>"
      ]
     },
     "metadata": {},
     "output_type": "display_data"
    }
   ],
   "source": [
    "sns.heatmap(cm(ye, yp), annot=True, cbar=False, fmt='.0f')"
   ]
  },
  {
   "cell_type": "markdown",
   "metadata": {},
   "source": [
    "---\n",
    "# FEATURE SELECTION"
   ]
  },
  {
   "cell_type": "code",
   "execution_count": 280,
   "metadata": {},
   "outputs": [],
   "source": [
    "model_name = 'GradientBoostingClassifier'\n",
    "model = classifiers[model_name]"
   ]
  },
  {
   "cell_type": "markdown",
   "metadata": {},
   "source": [
    "# Fit baseline model and retrieve feature importances"
   ]
  },
  {
   "cell_type": "code",
   "execution_count": 281,
   "metadata": {},
   "outputs": [],
   "source": [
    "feature_importance = pd.Series(model().fit(x, y).feature_importances_, index=X.columns).sort_values(ascending=False)"
   ]
  },
  {
   "cell_type": "code",
   "execution_count": 289,
   "metadata": {},
   "outputs": [
    {
     "data": {
      "image/png": "[encoded data removed]",
      "text/plain": [
       "<Figure size 504x360 with 1 Axes>"
      ]
     },
     "metadata": {},
     "output_type": "display_data"
    }
   ],
   "source": [
    "first, n_first = 1, 20\n",
    "fig, ax = plt.subplots(figsize=(7,5), tight_layout=True)\n",
    "feature_importance.iloc[first-1:n_first].plot.bar(ax=ax);\n",
    "plt.title(f'Drug use model - {model_name}');\n",
    "plt.ylabel('Feature importance'); plt.show()"
   ]
  },
  {
   "cell_type": "markdown",
   "metadata": {},
   "source": [
    "# Fitting and scoring baseline model up to max_features=15 most import features"
   ]
  },
  {
   "cell_type": "code",
   "execution_count": 292,
   "metadata": {},
   "outputs": [],
   "source": [
    "RFE = recursive_feature_elimination(x, xe, y, ye, feature_importance, max_features=15, first_feature=1)"
   ]
  },
  {
   "cell_type": "code",
   "execution_count": 297,
   "metadata": {},
   "outputs": [
    {
     "name": "stdout",
     "output_type": "stream",
     "text": [
      "Scoring model for 25/25 most important features.\n"
     ]
    }
   ],
   "source": [
    "RFE_5 = recursive_feature_elimination(x, xe, y, ye, feature_importance, max_features=25, first_feature=)"
   ]
  },
  {
   "cell_type": "code",
   "execution_count": 299,
   "metadata": {},
   "outputs": [
    {
     "data": {
      "image/png": "[encoded data removed]",
      "text/plain": [
       "<Figure size 432x396 with 1 Axes>"
      ]
     },
     "metadata": {},
     "output_type": "display_data"
    },
    {
     "data": {
      "image/png": "[encoded data removed]",
      "text/plain": [
       "<Figure size 432x396 with 1 Axes>"
      ]
     },
     "metadata": {},
     "output_type": "display_data"
    }
   ],
   "source": [
    "for rfe in [RFE, RFE_5]:\n",
    "    fig, ax = plt.subplots(figsize=(6, 5.5), tight_layout=True)\n",
    "    rfe.plot(marker='o', ax=ax)\n",
    "    ax.set_xticks(range(len(rfe)))\n",
    "    ax.set_xticklabels(rfe.index, rotation=90)\n",
    "    ax.set(title='Recursive feature inclusion', xlabel='Feature', ylabel='Evaluation')\n",
    "    plt.show()"
   ]
  },
  {
   "cell_type": "markdown",
   "metadata": {},
   "source": [
    "# Classification report for baseline model of selected features"
   ]
  },
  {
   "cell_type": "code",
   "execution_count": 302,
   "metadata": {},
   "outputs": [
    {
     "name": "stdout",
     "output_type": "stream",
     "text": [
      "              precision    recall  f1-score   support\n",
      "\n",
      "           0       0.71      0.67      0.69     10137\n",
      "           1       0.68      0.72      0.70      9898\n",
      "\n",
      "    accuracy                           0.69     20035\n",
      "   macro avg       0.69      0.69      0.69     20035\n",
      "weighted avg       0.69      0.69      0.69     20035\n",
      "\n"
     ]
    }
   ],
   "source": [
    "selected_features = feature_importance[:4].index.values\n",
    "xt_s = xt[selected_features]; xe_s = xe[selected_features]\n",
    "yp_sel = model().fit(xt_s, yt).predict(xe_s)\n",
    "\n",
    "print(cr(ye, yp_sel))"
   ]
  },
  {
   "cell_type": "markdown",
   "metadata": {},
   "source": [
    "# Understanding selected features"
   ]
  },
  {
   "cell_type": "code",
   "execution_count": 323,
   "metadata": {},
   "outputs": [],
   "source": [
    "selected = [\n",
    "    'TX_RESP_Q004', 'TX_RESP_Q048',\n",
    "    'TX_RESP_Q045', 'TX_RESP_Q050',\n",
    "#     'TX_RESP_Q051', 'TX_RESP_Q052',\n",
    "#     'TX_RESP_Q015', 'TX_RESP_Q053',\n",
    "#     'TX_RESP_Q003', 'TX_RESP_Q040',\n",
    "#     'TX_RESP_Q047', 'TX_RESP_Q027',\n",
    "#     'TX_RESP_Q026'\n",
    "#     'TX_RESP_Q018', 'TX_RESP_Q015'\n",
    "]"
   ]
  },
  {
   "cell_type": "code",
   "execution_count": 324,
   "metadata": {},
   "outputs": [
    {
     "data": {
      "text/html": [
       "<div>\n",
       "<style scoped>\n",
       "    .dataframe tbody tr th:only-of-type {\n",
       "        vertical-align: middle;\n",
       "    }\n",
       "\n",
       "    .dataframe tbody tr th {\n",
       "        vertical-align: top;\n",
       "    }\n",
       "\n",
       "    .dataframe thead th {\n",
       "        text-align: right;\n",
       "    }\n",
       "</style>\n",
       "<table border=\"1\" class=\"dataframe\">\n",
       "  <thead>\n",
       "    <tr style=\"text-align: right;\">\n",
       "      <th>questão</th>\n",
       "      <th>TX_RESP_Q004</th>\n",
       "      <th>TX_RESP_Q048</th>\n",
       "      <th>TX_RESP_Q045</th>\n",
       "      <th>TX_RESP_Q050</th>\n",
       "    </tr>\n",
       "  </thead>\n",
       "  <tbody>\n",
       "    <tr>\n",
       "      <th>Enunciado</th>\n",
       "      <td>Qual a sua idade?</td>\n",
       "      <td>Você já foi reprovado?</td>\n",
       "      <td>Você trabalha fora de casa?</td>\n",
       "      <td>Você faz o dever de casa de língua portuguesa?</td>\n",
       "    </tr>\n",
       "    <tr>\n",
       "      <th>A</th>\n",
       "      <td>8 anos ou menos.</td>\n",
       "      <td>Não.</td>\n",
       "      <td>Sim.</td>\n",
       "      <td>Sempre ou quase sempre.</td>\n",
       "    </tr>\n",
       "    <tr>\n",
       "      <th>B</th>\n",
       "      <td>9 anos.</td>\n",
       "      <td>Sim, uma vez.</td>\n",
       "      <td>Não.</td>\n",
       "      <td>De vez em quando.</td>\n",
       "    </tr>\n",
       "    <tr>\n",
       "      <th>C</th>\n",
       "      <td>10 anos.</td>\n",
       "      <td>Sim, duas vezes ou mais.</td>\n",
       "      <td></td>\n",
       "      <td>Nunca ou quase nunca.</td>\n",
       "    </tr>\n",
       "    <tr>\n",
       "      <th>D</th>\n",
       "      <td>11 anos.</td>\n",
       "      <td></td>\n",
       "      <td></td>\n",
       "      <td></td>\n",
       "    </tr>\n",
       "    <tr>\n",
       "      <th>E</th>\n",
       "      <td>12 anos.</td>\n",
       "      <td></td>\n",
       "      <td></td>\n",
       "      <td></td>\n",
       "    </tr>\n",
       "    <tr>\n",
       "      <th>F</th>\n",
       "      <td>13 anos.</td>\n",
       "      <td></td>\n",
       "      <td></td>\n",
       "      <td></td>\n",
       "    </tr>\n",
       "    <tr>\n",
       "      <th>G</th>\n",
       "      <td>14 anos.</td>\n",
       "      <td></td>\n",
       "      <td></td>\n",
       "      <td></td>\n",
       "    </tr>\n",
       "    <tr>\n",
       "      <th>H</th>\n",
       "      <td>15 anos ou mais</td>\n",
       "      <td></td>\n",
       "      <td></td>\n",
       "      <td></td>\n",
       "    </tr>\n",
       "  </tbody>\n",
       "</table>\n",
       "</div>"
      ],
      "text/plain": [
       "questão         TX_RESP_Q004              TX_RESP_Q048  \\\n",
       "Enunciado  Qual a sua idade?    Você já foi reprovado?   \n",
       "A           8 anos ou menos.                      Não.   \n",
       "B                    9 anos.             Sim, uma vez.   \n",
       "C                   10 anos.  Sim, duas vezes ou mais.   \n",
       "D                   11 anos.                             \n",
       "E                   12 anos.                             \n",
       "F                   13 anos.                             \n",
       "G                   14 anos.                             \n",
       "H            15 anos ou mais                             \n",
       "\n",
       "questão                   TX_RESP_Q045  \\\n",
       "Enunciado  Você trabalha fora de casa?   \n",
       "A                                 Sim.   \n",
       "B                                 Não.   \n",
       "C                                        \n",
       "D                                        \n",
       "E                                        \n",
       "F                                        \n",
       "G                                        \n",
       "H                                        \n",
       "\n",
       "questão                                      TX_RESP_Q050  \n",
       "Enunciado  Você faz o dever de casa de língua portuguesa?  \n",
       "A                                 Sempre ou quase sempre.  \n",
       "B                                       De vez em quando.  \n",
       "C                                   Nunca ou quase nunca.  \n",
       "D                                                          \n",
       "E                                                          \n",
       "F                                                          \n",
       "G                                                          \n",
       "H                                                          "
      ]
     },
     "execution_count": 324,
     "metadata": {},
     "output_type": "execute_result"
    }
   ],
   "source": [
    "pd.concat([dicts[5].loc[[col]] for col in selected]).T.dropna(how='all').replace(np.nan, '')"
   ]
  },
  {
   "cell_type": "markdown",
   "metadata": {},
   "source": [
    "# Recursive feature elimination"
   ]
  },
  {
   "cell_type": "code",
   "execution_count": 344,
   "metadata": {},
   "outputs": [],
   "source": [
    "from sklearn.feature_selection import RFE, RFECV, SequentialFeatureSelector as SFS"
   ]
  },
  {
   "cell_type": "code",
   "execution_count": null,
   "metadata": {},
   "outputs": [],
   "source": [
    "rfe = RFE(model(), n_features_to_select=1, step=1, verbose=1)\n",
    "rfe.fit(x[feature_importance.iloc[:30].index], y)"
   ]
  },
  {
   "cell_type": "code",
   "execution_count": 337,
   "metadata": {},
   "outputs": [],
   "source": [
    "rfe_features = pd.Series(feature_importance.iloc[:30].index, index=rfe.ranking_).sort_index()"
   ]
  },
  {
   "cell_type": "code",
   "execution_count": 338,
   "metadata": {},
   "outputs": [
    {
     "data": {
      "text/plain": [
       "1       TX_RESP_Q048\n",
       "2       TX_RESP_Q004\n",
       "3    PROFICIENCIA_LP\n",
       "4       TX_RESP_Q050\n",
       "5       TX_RESP_Q045\n",
       "dtype: object"
      ]
     },
     "execution_count": 338,
     "metadata": {},
     "output_type": "execute_result"
    }
   ],
   "source": [
    "rfe_features.head(5)"
   ]
  },
  {
   "cell_type": "markdown",
   "metadata": {},
   "source": [
    "# Recursive feature elimination (with built-in cross validation)"
   ]
  },
  {
   "cell_type": "code",
   "execution_count": null,
   "metadata": {},
   "outputs": [],
   "source": [
    "from sklearn.feature_selection"
   ]
  },
  {
   "cell_type": "markdown",
   "metadata": {},
   "source": [
    "---\n",
    "# BINARY CLASSIFICATION MODELS USING NEURAL NETWORKS"
   ]
  },
  {
   "cell_type": "code",
   "execution_count": 288,
   "metadata": {},
   "outputs": [],
   "source": [
    "import torch\n",
    "import torch.nn as nn"
   ]
  },
  {
   "cell_type": "code",
   "execution_count": 96,
   "metadata": {},
   "outputs": [
    {
     "data": {
      "text/plain": [
       "(80139, 73)"
      ]
     },
     "execution_count": 96,
     "metadata": {},
     "output_type": "execute_result"
    }
   ],
   "source": [
    "xt.shape"
   ]
  },
  {
   "cell_type": "code",
   "execution_count": null,
   "metadata": {},
   "outputs": [],
   "source": [
    "nn_params = {\n",
    "    'test_size': 0.3,\n",
    "    'hidden_layers': [78, 78, 78],\n",
    "    'initial_params': {'weight': 0, 'bias': 0},\n",
    "    # 'criterion': None\n",
    "    'optimizer': torch.optim.SGD,\n",
    "    'activation': 'relu',\n",
    "    'epochs': 15000,\n",
    "    'batch_size': 100,\n",
    "    'lr': 0.1,\n",
    "    'momentum': 0,\n",
    "}\n",
    "\n",
    "criteria_dict = {\n",
    "    'BCELoss': nn.BCELoss,\n",
    "    'L1Loss': nn.L1Loss,\n",
    "    'MSELoss': nn.MSELoss,\n",
    "    'HuberLoss': nn.HuberLoss\n",
    "}\n",
    "\n",
    "eval_i = {}\n",
    "for label, criteria in criteria_dict.items():\n",
    "    eval_i[label] = execute_neural_net(\n",
    "        xt, yt, xe, ye,\n",
    "        criterion=criteria,\n",
    "        **nn_params,\n",
    "    )"
   ]
  },
  {
   "cell_type": "markdown",
   "metadata": {},
   "source": [
    "### Comparing neural network test predictions for different loss functions"
   ]
  },
  {
   "cell_type": "code",
   "execution_count": 747,
   "metadata": {},
   "outputs": [
    {
     "data": {
      "image/png": "[encoded data removed]",
      "text/plain": [
       "<Figure size 1080x216 with 3 Axes>"
      ]
     },
     "metadata": {},
     "output_type": "display_data"
    }
   ],
   "source": [
    "plot_learning_curve_comparison(eval_i, figsize=(15,3), tight_layout=True, legend=True)"
   ]
  },
  {
   "cell_type": "code",
   "execution_count": 758,
   "metadata": {},
   "outputs": [
    {
     "data": {
      "text/plain": [
       "['PESO',\n",
       " 'PROFICIENCIA_LP',\n",
       " 'DESVIO_PADRAO_LP',\n",
       " 'PROFICIENCIA_LP_SAEB',\n",
       " 'DESVIO_PADRAO_LP_SAEB',\n",
       " 'PROFICIENCIA_MT',\n",
       " 'DESVIO_PADRAO_MT',\n",
       " 'PROFICIENCIA_MT_SAEB',\n",
       " 'DESVIO_PADRAO_MT_SAEB']"
      ]
     },
     "execution_count": 758,
     "metadata": {},
     "output_type": "execute_result"
    }
   ],
   "source": [
    "grades"
   ]
  }
 ],
 "metadata": {
  "kernelspec": {
   "display_name": "Python 3",
   "language": "python",
   "name": "python3"
  },
  "language_info": {
   "codemirror_mode": {
    "name": "ipython",
    "version": 3
   },
   "file_extension": ".py",
   "mimetype": "text/x-python",
   "name": "python",
   "nbconvert_exporter": "python",
   "pygments_lexer": "ipython3",
   "version": "3.8.3"
  }
 },
 "nbformat": 4,
 "nbformat_minor": 4
}
