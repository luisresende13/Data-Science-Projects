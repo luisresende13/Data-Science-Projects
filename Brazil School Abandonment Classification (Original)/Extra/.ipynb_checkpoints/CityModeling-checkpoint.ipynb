{
 "cells": [
  {
   "cell_type": "markdown",
   "metadata": {},
   "source": [
    "# ENVIRONMENT PREPARATION"
   ]
  },
  {
   "cell_type": "markdown",
   "metadata": {},
   "source": [
    "#### Importing modules"
   ]
  },
  {
   "cell_type": "code",
   "execution_count": 23,
   "metadata": {},
   "outputs": [],
   "source": [
    "import os\n",
    "import pandas as pd; pd.set_option('max_colwidth', None)\n",
    "import numpy as np; np.random.seed(0)\n",
    "import matplotlib.pyplot as plt\n",
    "import seaborn as sns; sns.set()\n",
    "from datetime import datetime\n",
    "from IPython.display import clear_output as co\n",
    "\n",
    "from sklearn.utils import all_estimators\n",
    "from imblearn.under_sampling import RandomUnderSampler\n",
    "from sklearn.metrics import classification_report as cr, confusion_matrix as cm\n",
    "from sklearn.model_selection import (train_test_split as tts, StratifiedShuffleSplit as sss,\n",
    "                                     StratifiedKFold as skf, cross_val_score as cvs, cross_validate as CV)\n",
    "\n",
    "from Classification import Classifier#, plot_lc_model_comparison\n",
    "from CategoricalSampler import target_categorical_distribution, simetrical_categorical_sampler, tts_categorical\n",
    "\n",
    "undersample = RandomUnderSampler(sampling_strategy='majority')\n",
    "classifiers = dict(all_estimators('classifier'))"
   ]
  },
  {
   "cell_type": "markdown",
   "metadata": {},
   "source": [
    "#### Defining functions"
   ]
  },
  {
   "cell_type": "code",
   "execution_count": 2,
   "metadata": {},
   "outputs": [],
   "source": [
    "def category_cv_scr(X, Y, ctgr_col, key_col, models, n_ctgrs=None, method='minority prct', prct=1, cv=5, describe=False, verbose=0, path=None, path_partial=None):\n",
    "    ctgr_cnt = target_categorical_distribution(X, Y, col=ctgr_col)\n",
    "    if n_ctgrs is not None:\n",
    "        if type(n_ctgrs)==int:\n",
    "            ctgr_cnt = ctgr_cnt[ctgr_cnt.T.sample(n_ctgrs).index]\n",
    "        elif type(n_ctgrs)==list:\n",
    "            ctgr_cnt = ctgr_cnt[n_ctgrs]\n",
    "    scrs = []\n",
    "    for i, ctgr_value in enumerate(ctgr_cnt):\n",
    "        co(wait=True); print(f'Categories evaluated: {i+1}/{ctgr_cnt.shape[1]}')\n",
    "        value_msk = X[ctgr_col]==ctgr_value\n",
    "        _x = X[value_msk].copy()\n",
    "        _y = Y[value_msk].copy()\n",
    "        x, y = simetrical_categorical_sampler(\n",
    "            _x, _y, col=key_col,\n",
    "            method=method, prct=prct,\n",
    "            verbose=verbose\n",
    "        )\n",
    "        if (y.value_counts() > cv).all():\n",
    "            ctgr_scr = Classifier().cv_scr(models, x.drop(ctgr_col, 1), y, cv=cv, describe=describe)\n",
    "            ctgr_scr[ctgr_col] = ctgr_value\n",
    "            scrs.append(ctgr_scr)\n",
    "            if path_partial is not None:\n",
    "                ctgr_scr.to_csv(os.path.join(path_partial, str(ctgr_value)+'.csv'), index=True)\n",
    "    scrs = pd.concat(scrs)\n",
    "    if path is not None: scrs.to_csv(os.path.join(path, ctgr_col+'.csv'), index=True)\n",
    "    return scrs"
   ]
  },
  {
   "cell_type": "code",
   "execution_count": 3,
   "metadata": {},
   "outputs": [],
   "source": [
    "def category_model_selection(scrs, ctgr_col, X, Y):\n",
    "    avg_scrs = scrs.groupby(ctgr_col).mean()\n",
    "    ctgr_top = []\n",
    "    for city_code in avg_scrs.index:\n",
    "        row = avg_scrs.loc[city_code]\n",
    "        top = row[row==row.max()]\n",
    "        ctgr_top.append([top.name, top.index[0], top.values[0]])\n",
    "    ctgr_top = pd.DataFrame(ctgr_top, columns=[ctgr_col, 'model', 'cv acc']).sort_values('cv acc', ascending=False).set_index(ctgr_col)\n",
    "    ctgr_cnt = target_categorical_distribution(X, Y, col=ctgr_col)\n",
    "    return pd.merge(ctgr_top, ctgr_cnt.T.reset_index().rename(columns={'index': ctgr_col}), on=ctgr_col, how='left')"
   ]
  },
  {
   "cell_type": "markdown",
   "metadata": {},
   "source": [
    "# Data loading and feature/target definitions"
   ]
  },
  {
   "cell_type": "code",
   "execution_count": 6,
   "metadata": {},
   "outputs": [],
   "source": [
    "#### Loading prepared data\n",
    "data = pd.read_csv('data/grades/5th_grade.csv', index_col=0)\n",
    "data.drop('ID_ALUNO', 1, inplace=True)\n",
    "\n",
    "#### Loading Adapted Data Dictionaries\n",
    "data_path = '/Users/luisr/Desktop/Repositories/Data/saep/CSV/{}'\n",
    "grades = [5,9,3]; dict_filenames = [f'dicionario {i}ano.csv' for i in grades]\n",
    "dicts = {grade: pd.read_csv(data_path.format(filename)).set_index('questão') for grade, filename in zip(grades, dict_filenames)}\n",
    "\n",
    "#### Defining targets corresponding to each student grade\n",
    "targets = { # Abandonment\n",
    "    5: 'TX_RESP_Q049',\n",
    "    9: 'TX_RESP_Q050',\n",
    "    12: 'TX_RESP_Q044',\n",
    "}\n",
    "rep_targets = { # Reproval cols\n",
    "    5: 'TX_RESP_Q048',\n",
    "    9: 'TX_RESP_Q049',\n",
    "    12: 'TX_RESP_Q043'\n",
    "}\n",
    "grade = 5\n",
    "target = targets[grade]\n",
    "rep_target = rep_targets[grade]\n",
    "\n",
    "#### List different types of features\n",
    "ids = data.columns[:10].tolist()\n",
    "questions = data.columns[10:64].tolist()\n",
    "grades = data.columns[64:].tolist()"
   ]
  },
  {
   "cell_type": "markdown",
   "metadata": {},
   "source": [
    "---\n",
    "# DATA TRANSFORMATION"
   ]
  },
  {
   "cell_type": "markdown",
   "metadata": {},
   "source": [
    "### 2.2.1. Target Variable Classes Transformation\n"
   ]
  },
  {
   "cell_type": "markdown",
   "metadata": {},
   "source": [
    "Obs: Last label represent missing values (Label 3)"
   ]
  },
  {
   "cell_type": "code",
   "execution_count": 14,
   "metadata": {},
   "outputs": [],
   "source": [
    "def binary(Y, out, replace):\n",
    "    # 1. Droping rows where the target variable is missing \n",
    "    # 2. Target variable conversion to binary\n",
    "    labels = list(replace.keys())\n",
    "    label_map = lambda label: (replace[label] if label in labels else label)\n",
    "    return Y[Y.isin(out)==False].map(label_map)"
   ]
  },
  {
   "cell_type": "markdown",
   "metadata": {},
   "source": [
    "### Defining X and Y"
   ]
  },
  {
   "cell_type": "code",
   "execution_count": 18,
   "metadata": {},
   "outputs": [
    {
     "data": {
      "text/plain": [
       "0    397232\n",
       "1     50087\n",
       "Name: TX_RESP_Q049, dtype: int64"
      ]
     },
     "execution_count": 18,
     "metadata": {},
     "output_type": "execute_result"
    }
   ],
   "source": [
    "Y = binary(data[target].copy(), out=[3], replace={2: 1})\n",
    "X = data.loc[Y.index].drop(target, 1)\n",
    "\n",
    "Y.value_counts() # Binary classes count in target variable"
   ]
  },
  {
   "cell_type": "markdown",
   "metadata": {},
   "source": [
    "### MISSING VALUES STRATEGY"
   ]
  },
  {
   "cell_type": "code",
   "execution_count": 16,
   "metadata": {},
   "outputs": [],
   "source": [
    "for grade in grades:\n",
    "    X[grade].fillna(X[grade].mean(), inplace=True) # Filling missing values with variable mean for 'grades' columns"
   ]
  },
  {
   "cell_type": "markdown",
   "metadata": {},
   "source": [
    "# CLASSIFICATION MODELING"
   ]
  },
  {
   "cell_type": "code",
   "execution_count": 26,
   "metadata": {},
   "outputs": [],
   "source": [
    "# city = top_cities[0]\n",
    "class category_scorer:\n",
    "    \n",
    "    def __init__(\n",
    "        self, ctgr_col=None,\n",
    "        models=['RandomForestClassifier', 'ExtraTreesClassifier', 'GradientBoostingClassifier'],\n",
    "        scoring=[\n",
    "        'accuracy',\n",
    "        'f1', 'f1_macro',\n",
    "        'precision', 'precision_macro',\n",
    "        'recall', 'recall_macro',\n",
    "        ]\n",
    "    ):\n",
    "        self.name='category_scorer'\n",
    "        self.ctgr_col = ctgr_col\n",
    "        self.models = models\n",
    "        self.scoring = scoring\n",
    "\n",
    "    def set_split_params(self, key_col, n_splits=5, train_size=0.8, test_cls_prct=1, random_state=0, method='minority prct', prct=1, verbose=0):\n",
    "        self.n_splits=n_splits\n",
    "        self.train_size = train_size\n",
    "        self.test_cls_prct = test_cls_prct\n",
    "        self.random_state = random_state\n",
    "        self.key_col = key_col\n",
    "        self.method = method\n",
    "        self.prct = prct\n",
    "        self.verbose = verbose\n",
    "\n",
    "    \n",
    "    def SimetricalSplit(self, _x, _y):\n",
    "        x, y = simetrical_categorical_sampler(\n",
    "            _x, _y, col=self.key_col,\n",
    "            method=self.method, prct=self.prct,\n",
    "            verbose=self.verbose\n",
    "        )\n",
    "        xt, xe, yt, ye = tts(x, y, test_size=(1-self.train_size), random_state=self.random_state)\n",
    "        train_index = yt.index.tolist()\n",
    "\n",
    "        class_size = len(ye) / 2\n",
    "        n_extra_samples = round(class_size*(self.test_cls_prct - 1))\n",
    "        left_0_index = list(set(_y.index).difference(yt.index).difference(ye.index))\n",
    "        if n_extra_samples > len(left_0_index): n_extra_samples = len(left_0_index)\n",
    "        test_index = ye.index.to_list() + list(np.random.choice(left_0_index, n_extra_samples, replace=False))\n",
    "        return train_index, test_index\n",
    "        \n",
    "    def SimetricalCategoricalSSS(self, _x, _y):\n",
    "        train_indexes, test_indexes = [], []\n",
    "        for i in range(self.n_splits):\n",
    "            train_index, test_index = self.SimetricalSplit(_x, _y)\n",
    "            train_indexes.append(train_index)\n",
    "            test_indexes.append(test_index)\n",
    "        return list(zip(train_indexes, test_indexes))\n",
    "\n",
    "    def category_data(self, X, Y, ctgr):\n",
    "        ctgr_msk = X[self.ctgr_col]==ctgr\n",
    "        _x = X[ctgr_msk].reset_index(drop=True).copy()\n",
    "        _y = Y[ctgr_msk].reset_index(drop=True).copy()\n",
    "        return _x, _y\n",
    "    \n",
    "    def cv_scr(self, X, Y, ctgr):\n",
    "\n",
    "        _x, _y = self.category_data(X, Y, ctgr)\n",
    "        cv = self.SimetricalCategoricalSSS(_x, _y)\n",
    "        ctgr_scrs = Classifier().cv_avg(self.models, _x, _y, cv, scoring=self.scoring)\n",
    "        ctgr_scrs[self.ctgr_col] = ctgr\n",
    "        return ctgr_scrs\n",
    "    \n",
    "    def categorical_cv_scr(self, X, Y, n_ctgrs=None, ctgrs=None, path=None, partial_path=None):\n",
    "        if ctgrs is None:\n",
    "            ctgrs = X[self.ctgr_col][Y==1].unique()\n",
    "            if n_ctgrs is not None:\n",
    "                ctgrs = np.random.choice(ctgrs, n_ctgrs, replace=False)\n",
    "        ctgrs_scrs = []\n",
    "        for i, ctgr in enumerate(ctgrs):\n",
    "            co(wait=True); print(f'Evaluating category: {ctgr} - {i+1}/{len(ctgrs)}')\n",
    "            ctgrs_scrs.append(self.cv_scr(X, Y, ctgr))\n",
    "            if partial_path is not None: ctgrs_scrs[i].to_csv(partial_path.format(ctgr), index=True)\n",
    "\n",
    "        scrs = pd.concat(ctgrs_scrs)\n",
    "        if path is not None: scrs.to_csv(path, index=True)\n",
    "        co(wait=True); print(f'Done! {len(self.models)} models cross validated with {self.n_splits} splits for {len(ctgrs)} categories in \"{self.ctgr_col}\" column.')\n",
    "        return scrs"
   ]
  },
  {
   "cell_type": "code",
   "execution_count": 34,
   "metadata": {},
   "outputs": [],
   "source": [
    "models = [\n",
    "    'RandomForestClassifier', 'RidgeClassifier', 'RidgeClassifierCV',\n",
    "    'LinearDiscriminantAnalysis', 'AdaBoostClassifier', 'ExtraTreesClassifier',\n",
    "    'GradientBoostingClassifier', 'HistGradientBoostingClassifier', \n",
    "    'DecisionTreeClassifier', 'LinearSVC', 'LogisticRegression',\n",
    "    'LogisticRegressionCV', 'BaggingClassifier'\n",
    "]"
   ]
  },
  {
   "cell_type": "code",
   "execution_count": 41,
   "metadata": {},
   "outputs": [],
   "source": [
    "ctgr_col = 'ID_MUNICIPIO'\n",
    "key_col = 'ID_TURMA'     # Categorical column for stratified undersampling\n",
    "n_splits = 7             # N° of splits for cross validation\n",
    "train_size = 0.8         # Training proportion of undersampled data (undersampling method defined below)\n",
    "test_cls_prct = 9        # Testing class proportion (test_0/test_1)\n",
    "random_state = 0\n",
    "method = 'minority prct' # Undersampling method per key_col category\n",
    "prct = 1.3               # Training class proportion per key_col category (train_0/train_1) (Fixed)\n",
    "n_ctgrs = None\n",
    "ctgrs = None"
   ]
  },
  {
   "cell_type": "code",
   "execution_count": 42,
   "metadata": {},
   "outputs": [],
   "source": [
    "ctgr_scorer = category_scorer(ctgr_col, models)\n",
    "ctgr_scorer.set_split_params(key_col, n_splits, train_size, test_cls_prct, random_state, method, prct, verbose=0)"
   ]
  },
  {
   "cell_type": "code",
   "execution_count": null,
   "metadata": {},
   "outputs": [],
   "source": [
    "city_scrs = ctgr_scorer.categorical_cv_scr(X, Y, n_ctgrs, ctgrs, path='scores/'+ctgr_col+'.csv', partial_path='scores/'+ctgr_col+'/{}.csv')"
   ]
  },
  {
   "cell_type": "markdown",
   "metadata": {},
   "source": [
    "#### Reloading city category scores"
   ]
  },
  {
   "cell_type": "code",
   "execution_count": 44,
   "metadata": {},
   "outputs": [],
   "source": [
    "path = 'scores/'+ctgr_col+'/'\n",
    "city_scrs = pd.concat([pd.read_csv(path+file, index_col=0) for file in os.listdir(path)])"
   ]
  },
  {
   "cell_type": "code",
   "execution_count": 49,
   "metadata": {},
   "outputs": [
    {
     "data": {
      "text/html": [
       "<div>\n",
       "<style scoped>\n",
       "    .dataframe tbody tr th:only-of-type {\n",
       "        vertical-align: middle;\n",
       "    }\n",
       "\n",
       "    .dataframe tbody tr th {\n",
       "        vertical-align: top;\n",
       "    }\n",
       "\n",
       "    .dataframe thead th {\n",
       "        text-align: right;\n",
       "    }\n",
       "</style>\n",
       "<table border=\"1\" class=\"dataframe\">\n",
       "  <thead>\n",
       "    <tr style=\"text-align: right;\">\n",
       "      <th></th>\n",
       "      <th>mean</th>\n",
       "      <th>var</th>\n",
       "      <th>model</th>\n",
       "    </tr>\n",
       "    <tr>\n",
       "      <th>ID_MUNICIPIO</th>\n",
       "      <th></th>\n",
       "      <th></th>\n",
       "      <th></th>\n",
       "    </tr>\n",
       "  </thead>\n",
       "  <tbody>\n",
       "    <tr>\n",
       "      <th>347</th>\n",
       "      <td>0.829365</td>\n",
       "      <td>0.015527</td>\n",
       "      <td>ExtraTreesClassifier</td>\n",
       "    </tr>\n",
       "    <tr>\n",
       "      <th>13</th>\n",
       "      <td>0.821890</td>\n",
       "      <td>0.010408</td>\n",
       "      <td>ExtraTreesClassifier</td>\n",
       "    </tr>\n",
       "    <tr>\n",
       "      <th>19</th>\n",
       "      <td>0.779325</td>\n",
       "      <td>0.005700</td>\n",
       "      <td>LogisticRegression</td>\n",
       "    </tr>\n",
       "    <tr>\n",
       "      <th>356</th>\n",
       "      <td>0.777910</td>\n",
       "      <td>0.008376</td>\n",
       "      <td>RandomForestClassifier</td>\n",
       "    </tr>\n",
       "    <tr>\n",
       "      <th>435</th>\n",
       "      <td>0.775000</td>\n",
       "      <td>0.063393</td>\n",
       "      <td>RidgeClassifierCV</td>\n",
       "    </tr>\n",
       "    <tr>\n",
       "      <th>193</th>\n",
       "      <td>0.765963</td>\n",
       "      <td>0.012549</td>\n",
       "      <td>RandomForestClassifier</td>\n",
       "    </tr>\n",
       "    <tr>\n",
       "      <th>462</th>\n",
       "      <td>0.762254</td>\n",
       "      <td>0.009755</td>\n",
       "      <td>RandomForestClassifier</td>\n",
       "    </tr>\n",
       "    <tr>\n",
       "      <th>391</th>\n",
       "      <td>0.761381</td>\n",
       "      <td>0.034881</td>\n",
       "      <td>GradientBoostingClassifier</td>\n",
       "    </tr>\n",
       "    <tr>\n",
       "      <th>6</th>\n",
       "      <td>0.752899</td>\n",
       "      <td>0.049105</td>\n",
       "      <td>RandomForestClassifier</td>\n",
       "    </tr>\n",
       "    <tr>\n",
       "      <th>351</th>\n",
       "      <td>0.749608</td>\n",
       "      <td>0.041574</td>\n",
       "      <td>ExtraTreesClassifier</td>\n",
       "    </tr>\n",
       "    <tr>\n",
       "      <th>8</th>\n",
       "      <td>0.743377</td>\n",
       "      <td>0.017842</td>\n",
       "      <td>LogisticRegression</td>\n",
       "    </tr>\n",
       "    <tr>\n",
       "      <th>187</th>\n",
       "      <td>0.739601</td>\n",
       "      <td>0.010609</td>\n",
       "      <td>LogisticRegression</td>\n",
       "    </tr>\n",
       "    <tr>\n",
       "      <th>28</th>\n",
       "      <td>0.738335</td>\n",
       "      <td>0.014594</td>\n",
       "      <td>RidgeClassifierCV</td>\n",
       "    </tr>\n",
       "    <tr>\n",
       "      <th>433</th>\n",
       "      <td>0.725337</td>\n",
       "      <td>0.003339</td>\n",
       "      <td>LogisticRegression</td>\n",
       "    </tr>\n",
       "    <tr>\n",
       "      <th>361</th>\n",
       "      <td>0.723735</td>\n",
       "      <td>0.015066</td>\n",
       "      <td>ExtraTreesClassifier</td>\n",
       "    </tr>\n",
       "    <tr>\n",
       "      <th>555</th>\n",
       "      <td>0.720870</td>\n",
       "      <td>0.020905</td>\n",
       "      <td>ExtraTreesClassifier</td>\n",
       "    </tr>\n",
       "    <tr>\n",
       "      <th>537</th>\n",
       "      <td>0.719628</td>\n",
       "      <td>0.006451</td>\n",
       "      <td>RandomForestClassifier</td>\n",
       "    </tr>\n",
       "    <tr>\n",
       "      <th>251</th>\n",
       "      <td>0.718549</td>\n",
       "      <td>0.004632</td>\n",
       "      <td>LogisticRegressionCV</td>\n",
       "    </tr>\n",
       "    <tr>\n",
       "      <th>81</th>\n",
       "      <td>0.718324</td>\n",
       "      <td>0.005579</td>\n",
       "      <td>GradientBoostingClassifier</td>\n",
       "    </tr>\n",
       "    <tr>\n",
       "      <th>106</th>\n",
       "      <td>0.717401</td>\n",
       "      <td>0.007977</td>\n",
       "      <td>ExtraTreesClassifier</td>\n",
       "    </tr>\n",
       "  </tbody>\n",
       "</table>\n",
       "</div>"
      ],
      "text/plain": [
       "                  mean       var                       model\n",
       "ID_MUNICIPIO                                                \n",
       "347           0.829365  0.015527        ExtraTreesClassifier\n",
       "13            0.821890  0.010408        ExtraTreesClassifier\n",
       "19            0.779325  0.005700          LogisticRegression\n",
       "356           0.777910  0.008376      RandomForestClassifier\n",
       "435           0.775000  0.063393           RidgeClassifierCV\n",
       "193           0.765963  0.012549      RandomForestClassifier\n",
       "462           0.762254  0.009755      RandomForestClassifier\n",
       "391           0.761381  0.034881  GradientBoostingClassifier\n",
       "6             0.752899  0.049105      RandomForestClassifier\n",
       "351           0.749608  0.041574        ExtraTreesClassifier\n",
       "8             0.743377  0.017842          LogisticRegression\n",
       "187           0.739601  0.010609          LogisticRegression\n",
       "28            0.738335  0.014594           RidgeClassifierCV\n",
       "433           0.725337  0.003339          LogisticRegression\n",
       "361           0.723735  0.015066        ExtraTreesClassifier\n",
       "555           0.720870  0.020905        ExtraTreesClassifier\n",
       "537           0.719628  0.006451      RandomForestClassifier\n",
       "251           0.718549  0.004632        LogisticRegressionCV\n",
       "81            0.718324  0.005579  GradientBoostingClassifier\n",
       "106           0.717401  0.007977        ExtraTreesClassifier"
      ]
     },
     "execution_count": 49,
     "metadata": {},
     "output_type": "execute_result"
    }
   ],
   "source": [
    "city_selected = city_scrs.loc['recall_macro'].sort_values(['mean'], ascending=False).groupby('ID_MUNICIPIO').first().sort_values('mean', ascending=False);\n",
    "city_selected.head(20)"
   ]
  },
  {
   "cell_type": "code",
   "execution_count": 48,
   "metadata": {},
   "outputs": [
    {
     "data": {
      "text/plain": [
       "'ExtraTreesClassifier'"
      ]
     },
     "execution_count": 48,
     "metadata": {},
     "output_type": "execute_result"
    }
   ],
   "source": [
    "city = city_selected.index[0]\n",
    "modelname = city_selected.loc[city, 'model']\n",
    "model = classifiers[modelname]\n",
    "modelname"
   ]
  },
  {
   "cell_type": "code",
   "execution_count": 440,
   "metadata": {},
   "outputs": [
    {
     "name": "stdout",
     "output_type": "stream",
     "text": [
      "              precision    recall  f1-score   support\n",
      "\n",
      "           0       1.00      0.88      0.94        26\n",
      "           1       0.70      1.00      0.82         7\n",
      "\n",
      "    accuracy                           0.91        33\n",
      "   macro avg       0.85      0.94      0.88        33\n",
      "weighted avg       0.94      0.91      0.91        33\n",
      "\n"
     ]
    }
   ],
   "source": [
    "ctgr_scorer = category_scorer(ctgr_col, models)\n",
    "ctgr_scorer.set_split_params(key_col, n_splits, train_size=0.8, test_cls_prct=20, random_state=None, method='minority prct', prct=1, verbose=0)\n",
    "\n",
    "_x, _y = ctgr_scorer.category_data(X, Y, city)\n",
    "train_index, test_index = ctgr_scorer.SimetricalSplit(_x, _y)\n",
    "\n",
    "xt, yt = _x.loc[train_index], _y.loc[train_index]\n",
    "xe, ye = _x.loc[test_index], _y.loc[test_index]\n",
    "model_fit = model().fit(xt, yt)\n",
    "yp = model_fit.predict(xe)\n",
    "\n",
    "print(cr(ye, yp))"
   ]
  },
  {
   "cell_type": "code",
   "execution_count": 471,
   "metadata": {},
   "outputs": [
    {
     "data": {
      "text/plain": [
       "0    152\n",
       "1     26\n",
       "Name: TX_RESP_Q049, dtype: int64"
      ]
     },
     "execution_count": 471,
     "metadata": {},
     "output_type": "execute_result"
    }
   ],
   "source": [
    "_y.value_counts()"
   ]
  },
  {
   "cell_type": "code",
   "execution_count": 469,
   "metadata": {},
   "outputs": [
    {
     "data": {
      "text/plain": [
       "0    22\n",
       "1    19\n",
       "Name: TX_RESP_Q049, dtype: int64"
      ]
     },
     "execution_count": 469,
     "metadata": {},
     "output_type": "execute_result"
    }
   ],
   "source": [
    "yt.value_counts()"
   ]
  },
  {
   "cell_type": "code",
   "execution_count": 448,
   "metadata": {},
   "outputs": [],
   "source": [
    "fi = pd.Series(model_fit.feature_importances_, index=xt.columns).sort_values(ascending=False)"
   ]
  },
  {
   "cell_type": "code",
   "execution_count": 463,
   "metadata": {},
   "outputs": [
    {
     "data": {
      "text/plain": [
       "<matplotlib.axes._subplots.AxesSubplot at 0x22382b6b520>"
      ]
     },
     "execution_count": 463,
     "metadata": {},
     "output_type": "execute_result"
    },
    {
     "data": {
      "image/png": "[encoded data removed]",
      "text/plain": [
       "<Figure size 432x288 with 1 Axes>"
      ]
     },
     "metadata": {},
     "output_type": "display_data"
    }
   ],
   "source": [
    "fi.head(21).plot.bar()"
   ]
  },
  {
   "cell_type": "code",
   "execution_count": 468,
   "metadata": {},
   "outputs": [
    {
     "data": {
      "text/html": [
       "<div>\n",
       "<style scoped>\n",
       "    .dataframe tbody tr th:only-of-type {\n",
       "        vertical-align: middle;\n",
       "    }\n",
       "\n",
       "    .dataframe tbody tr th {\n",
       "        vertical-align: top;\n",
       "    }\n",
       "\n",
       "    .dataframe thead th {\n",
       "        text-align: right;\n",
       "    }\n",
       "</style>\n",
       "<table border=\"1\" class=\"dataframe\">\n",
       "  <thead>\n",
       "    <tr style=\"text-align: right;\">\n",
       "      <th></th>\n",
       "      <th>TX_RESP_Q003</th>\n",
       "      <th>TX_RESP_Q006</th>\n",
       "      <th>TX_RESP_Q053</th>\n",
       "      <th>TX_RESP_Q021</th>\n",
       "    </tr>\n",
       "  </thead>\n",
       "  <tbody>\n",
       "    <tr>\n",
       "      <th>Enunciado</th>\n",
       "      <td>Qual é o mês do seu aniversário?</td>\n",
       "      <td>Na sua casa tem rádio?</td>\n",
       "      <td>O professor corrige o dever de casa de matemática?</td>\n",
       "      <td>Você vê sua mãe ou mulher responsável por você lendo?</td>\n",
       "    </tr>\n",
       "    <tr>\n",
       "      <th>A</th>\n",
       "      <td>Janeiro.</td>\n",
       "      <td>Sim, um.</td>\n",
       "      <td>Sempre ou quase sempre.</td>\n",
       "      <td>Sim.</td>\n",
       "    </tr>\n",
       "    <tr>\n",
       "      <th>B</th>\n",
       "      <td>Fevereiro.</td>\n",
       "      <td>Sim, dois.</td>\n",
       "      <td>De vez em quando.</td>\n",
       "      <td>Não.</td>\n",
       "    </tr>\n",
       "    <tr>\n",
       "      <th>C</th>\n",
       "      <td>Março.</td>\n",
       "      <td>Sim, três ou mais.</td>\n",
       "      <td>Nunca ou quase nunca.</td>\n",
       "      <td>NaN</td>\n",
       "    </tr>\n",
       "    <tr>\n",
       "      <th>D</th>\n",
       "      <td>Abril.</td>\n",
       "      <td>Não tem.</td>\n",
       "      <td>NaN</td>\n",
       "      <td>NaN</td>\n",
       "    </tr>\n",
       "    <tr>\n",
       "      <th>E</th>\n",
       "      <td>Maio.</td>\n",
       "      <td>NaN</td>\n",
       "      <td>NaN</td>\n",
       "      <td>NaN</td>\n",
       "    </tr>\n",
       "    <tr>\n",
       "      <th>F</th>\n",
       "      <td>Junho.</td>\n",
       "      <td>NaN</td>\n",
       "      <td>NaN</td>\n",
       "      <td>NaN</td>\n",
       "    </tr>\n",
       "    <tr>\n",
       "      <th>G</th>\n",
       "      <td>Julho.</td>\n",
       "      <td>NaN</td>\n",
       "      <td>NaN</td>\n",
       "      <td>NaN</td>\n",
       "    </tr>\n",
       "    <tr>\n",
       "      <th>H</th>\n",
       "      <td>Agosto.</td>\n",
       "      <td>NaN</td>\n",
       "      <td>NaN</td>\n",
       "      <td>NaN</td>\n",
       "    </tr>\n",
       "    <tr>\n",
       "      <th>I</th>\n",
       "      <td>Setembro.</td>\n",
       "      <td>NaN</td>\n",
       "      <td>NaN</td>\n",
       "      <td>NaN</td>\n",
       "    </tr>\n",
       "    <tr>\n",
       "      <th>J</th>\n",
       "      <td>Outubro.</td>\n",
       "      <td>NaN</td>\n",
       "      <td>NaN</td>\n",
       "      <td>NaN</td>\n",
       "    </tr>\n",
       "    <tr>\n",
       "      <th>K</th>\n",
       "      <td>Novembro.</td>\n",
       "      <td>NaN</td>\n",
       "      <td>NaN</td>\n",
       "      <td>NaN</td>\n",
       "    </tr>\n",
       "    <tr>\n",
       "      <th>L</th>\n",
       "      <td>Dezembro.</td>\n",
       "      <td>NaN</td>\n",
       "      <td>NaN</td>\n",
       "      <td>NaN</td>\n",
       "    </tr>\n",
       "  </tbody>\n",
       "</table>\n",
       "</div>"
      ],
      "text/plain": [
       "                               TX_RESP_Q003            TX_RESP_Q006  \\\n",
       "Enunciado  Qual é o mês do seu aniversário?  Na sua casa tem rádio?   \n",
       "A                                  Janeiro.                Sim, um.   \n",
       "B                                Fevereiro.              Sim, dois.   \n",
       "C                                    Março.      Sim, três ou mais.   \n",
       "D                                    Abril.                Não tem.   \n",
       "E                                     Maio.                     NaN   \n",
       "F                                    Junho.                     NaN   \n",
       "G                                    Julho.                     NaN   \n",
       "H                                   Agosto.                     NaN   \n",
       "I                                 Setembro.                     NaN   \n",
       "J                                  Outubro.                     NaN   \n",
       "K                                 Novembro.                     NaN   \n",
       "L                                 Dezembro.                     NaN   \n",
       "\n",
       "                                                 TX_RESP_Q053  \\\n",
       "Enunciado  O professor corrige o dever de casa de matemática?   \n",
       "A                                     Sempre ou quase sempre.   \n",
       "B                                           De vez em quando.   \n",
       "C                                       Nunca ou quase nunca.   \n",
       "D                                                         NaN   \n",
       "E                                                         NaN   \n",
       "F                                                         NaN   \n",
       "G                                                         NaN   \n",
       "H                                                         NaN   \n",
       "I                                                         NaN   \n",
       "J                                                         NaN   \n",
       "K                                                         NaN   \n",
       "L                                                         NaN   \n",
       "\n",
       "                                                    TX_RESP_Q021  \n",
       "Enunciado  Você vê sua mãe ou mulher responsável por você lendo?  \n",
       "A                                                           Sim.  \n",
       "B                                                           Não.  \n",
       "C                                                            NaN  \n",
       "D                                                            NaN  \n",
       "E                                                            NaN  \n",
       "F                                                            NaN  \n",
       "G                                                            NaN  \n",
       "H                                                            NaN  \n",
       "I                                                            NaN  \n",
       "J                                                            NaN  \n",
       "K                                                            NaN  \n",
       "L                                                            NaN  "
      ]
     },
     "execution_count": 468,
     "metadata": {},
     "output_type": "execute_result"
    }
   ],
   "source": [
    "dicts[5].loc[fi.iloc[3:7].index].T"
   ]
  },
  {
   "cell_type": "code",
   "execution_count": null,
   "metadata": {},
   "outputs": [],
   "source": []
  }
 ],
 "metadata": {
  "kernelspec": {
   "display_name": "Python 3",
   "language": "python",
   "name": "python3"
  },
  "language_info": {
   "codemirror_mode": {
    "name": "ipython",
    "version": 3
   },
   "file_extension": ".py",
   "mimetype": "text/x-python",
   "name": "python",
   "nbconvert_exporter": "python",
   "pygments_lexer": "ipython3",
   "version": "3.8.3"
  }
 },
 "nbformat": 4,
 "nbformat_minor": 4
}
