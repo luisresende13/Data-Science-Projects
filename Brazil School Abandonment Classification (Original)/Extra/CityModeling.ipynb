{
 "cells": [
  {
   "cell_type": "markdown",
   "metadata": {},
   "source": [
    "# Environment Preparation"
   ]
  },
  {
   "cell_type": "markdown",
   "metadata": {},
   "source": [
    "#### Importing modules"
   ]
  },
  {
   "cell_type": "code",
   "execution_count": 41,
   "metadata": {},
   "outputs": [],
   "source": [
    "import os\n",
    "import pandas as pd; pd.set_option('max_colwidth', None)\n",
    "import numpy as np; np.random.seed(0)\n",
    "import matplotlib.pyplot as plt\n",
    "import seaborn as sns; sns.set()\n",
    "from datetime import datetime\n",
    "from IPython.display import clear_output as co\n",
    "\n",
    "from sklearn.utils import all_estimators\n",
    "from imblearn.under_sampling import RandomUnderSampler\n",
    "from sklearn.metrics import classification_report as cr, confusion_matrix as cm\n",
    "from sklearn.model_selection import (train_test_split as tts,\n",
    "                                     KFold, RepeatedKFold,\n",
    "                                     StratifiedShuffleSplit, StratifiedKFold,\n",
    "                                     GroupKFold, GroupShuffleSplit,\n",
    "                                     cross_val_score as cvs, cross_validate as CV,\n",
    "                                     learning_curve as lc, validation_curve as vc)\n",
    "\n",
    "from Classification import Classifier#, plot_lc_model_comparison\n",
    "from CategoricalSampler import target_categorical_distribution, simetrical_categorical_sampler, tts_categorical\n",
    "\n",
    "undersample = RandomUnderSampler(sampling_strategy='majority')\n",
    "classifiers = dict(all_estimators('classifier'))\n",
    "\n",
    "gkf = GroupKFold(n_splits=3)\n",
    "gss = GroupShuffleSplit(n_splits=3, test_size=0.3, train_size=0.1, random_state=None)"
   ]
  },
  {
   "cell_type": "markdown",
   "metadata": {},
   "source": [
    "#### Defining functions"
   ]
  },
  {
   "cell_type": "code",
   "execution_count": 1134,
   "metadata": {},
   "outputs": [],
   "source": [
    "# city = top_cities[0]\n",
    "class category_scorer:\n",
    "    \n",
    "    def __init__(\n",
    "        self, ctgr_col=None,\n",
    "        models=['RandomForestClassifier', 'ExtraTreesClassifier', 'GradientBoostingClassifier'],\n",
    "        scoring=[\n",
    "        'accuracy',\n",
    "        'f1', 'f1_macro',\n",
    "        'precision', 'precision_macro',\n",
    "        'recall', 'recall_macro',\n",
    "        ]\n",
    "    ):\n",
    "        self.name='category_scorer'\n",
    "        self.ctgr_col = ctgr_col\n",
    "        self.models = models\n",
    "        self.scoring = scoring\n",
    "\n",
    "    def set_split_params(self, key_col, n_splits=5, train_size=0.8, test_cls_prct=1, random_state=0, method='minority prct', prct=1, verbose=0):\n",
    "        self.n_splits=n_splits\n",
    "        self.train_size = train_size\n",
    "        self.test_cls_prct = test_cls_prct\n",
    "        self.random_state = random_state\n",
    "        self.key_col = key_col\n",
    "        self.method = method\n",
    "        self.prct = prct\n",
    "        self.verbose = verbose\n",
    "\n",
    "    \n",
    "    def SimetricalSplit(self, _x, _y):\n",
    "        x, y = simetrical_categorical_sampler(\n",
    "            _x, _y, col=self.key_col,\n",
    "            method=self.method, prct=self.prct,\n",
    "            verbose=self.verbose\n",
    "        )\n",
    "        xt, xe, yt, ye = tts(x, y, test_size=(1-self.train_size), random_state=self.random_state, stratify=y)\n",
    "        train_index = yt.index.tolist()\n",
    "        test_index = ye.index.to_list()\n",
    "        left_0_index = list(set(_y.index).difference(train_index).difference(test_index))\n",
    "        if self.test_cls_prct is None:\n",
    "            test_index += left_0_index\n",
    "        else:\n",
    "            n_extra_samples = round((len(ye) / 2) * (self.test_cls_prct - 1))\n",
    "            replace = n_extra_samples > len(left_0_index)\n",
    "            test_index += list(np.random.choice(left_0_index, n_extra_samples, replace))\n",
    "        return train_index, test_index\n",
    "        \n",
    "    def SimetricalCategoricalSSS(self, _x, _y):\n",
    "        train_indexes, test_indexes = [], []\n",
    "        for i in range(self.n_splits):\n",
    "            train_index, test_index = self.SimetricalSplit(_x, _y)\n",
    "            train_indexes.append(train_index)\n",
    "            test_indexes.append(test_index)\n",
    "        return list(zip(train_indexes, test_indexes))\n",
    "\n",
    "    def category_data(self, X, Y, ctgr):\n",
    "        ctgr_msk = X[self.ctgr_col]==ctgr\n",
    "        _x = X[ctgr_msk].reset_index(drop=True).copy()\n",
    "        _y = Y[ctgr_msk].reset_index(drop=True).copy()\n",
    "        return _x, _y\n",
    "    \n",
    "    def cv_scr(self, X, Y, ctgr):\n",
    "\n",
    "        _x, _y = self.category_data(X, Y, ctgr)\n",
    "        cv = self.SimetricalCategoricalSSS(_x, _y)\n",
    "        ctgr_scrs = Classifier().cv_avg(self.models, _x, _y, cv, scoring=self.scoring)\n",
    "        ctgr_scrs[self.ctgr_col] = ctgr\n",
    "        return ctgr_scrs\n",
    "    \n",
    "    def categorical_cv_scr(self, X, Y, n_ctgrs=None, ctgrs=None, path=None, partial_path=None):\n",
    "        if ctgrs is None:\n",
    "            ctgrs = X[self.ctgr_col][Y==1].unique()\n",
    "            if n_ctgrs is not None:\n",
    "                ctgrs = np.random.choice(ctgrs, n_ctgrs, replace=False)\n",
    "        ctgrs_scrs = []\n",
    "        for i, ctgr in enumerate(ctgrs):\n",
    "            co(wait=True); print(f'Evaluating category: {ctgr} - {i+1}/{len(ctgrs)}')\n",
    "            ctgrs_scrs.append(self.cv_scr(X, Y, ctgr))\n",
    "            if partial_path is not None: ctgrs_scrs[i].to_csv(partial_path.format(ctgr), index=True)\n",
    "\n",
    "        scrs = pd.concat(ctgrs_scrs)\n",
    "        if path is not None: scrs.to_csv(path, index=True)\n",
    "        co(wait=True); print(f'Done! {len(self.models)} models cross validated with {self.n_splits} splits for {len(ctgrs)} categories in \"{self.ctgr_col}\" column.')\n",
    "        return scrs\n",
    "\n",
    "def model_selection_from_scores(X, Y, city_scrs, ctgr_col, selection_criteria='recall_macro'):\n",
    "    city_selected = city_scrs.loc[selection_criteria].sort_values(['mean'], ascending=False).groupby(ctgr_col).first().sort_values('mean', ascending=False);\n",
    "    city_cls_count = pd.concat([Y[X[ctgr_col]==city].value_counts() for city in city_selected.index], 1).T.rename(columns={0: 'class 0', 1: 'class 1'})\n",
    "    city_cls_count.index = city_selected.index\n",
    "    model_selection = pd.merge(city_selected, city_cls_count, on=ctgr_col)\n",
    "    return model_selection\n",
    "\n",
    "def CR_scrs(CR, metrics=['0', '1', 'macro avg']):\n",
    "    cls_cols = np.array(list(CR['0'].keys()), dtype='object')\n",
    "    scrs = [pd.Series([CR['accuracy']], index=['acc'])] + [pd.Series(list(CR[clss].values()), index=cls_cols+' '+clss) for clss in metrics]\n",
    "    scrs = pd.concat(scrs, 0)\n",
    "    return scrs.sort_index()\n",
    "\n",
    "def recursive_feature_inclusion(x, xe, y, ye, feature_importance, max_features=5, first_feature=1, verbose=1):\n",
    "    scrs_df = []\n",
    "    if max_features is None or max_features > len(feature_importance): max_features = len(feature_importance) \n",
    "    max_feat_i = range(first_feature, max_features+1)\n",
    "    sorted_importance = feature_importance.sort_values(ascending=False)\n",
    "    for i in max_feat_i:\n",
    "        if verbose: co(wait=True); print(f'Scoring model for {i}/{max_features} most important features.')\n",
    "        sel_feat = sorted_importance.iloc[first_feature-1: i].index.values\n",
    "        xt_s, xe_s = x[sel_feat], xe[sel_feat]\n",
    "        yp_sel = model().fit(xt_s, y).predict(xe_s)\n",
    "        CR = cr(ye, yp_sel, output_dict=True)\n",
    "        scrs = CR_scrs(CR)\n",
    "        scrs_df.append(scrs)\n",
    "    scrs_df = pd.concat(scrs_df, 1).T; scrs_df.index = sorted_importance.iloc[first_feature-1: max_features].index\n",
    "    return scrs_df\n",
    "\n",
    "def rfi_dif(RFI):\n",
    "    baseline_row = pd.DataFrame([[.5]*RFI.shape[1]], columns=RFI.columns, index=['baseline'])\n",
    "    RFI_base = pd.concat([baseline_row, RFI], 0)\n",
    "    return pd.DataFrame(np.diff(RFI_base, axis=0), index=RFI.index, columns=RFI.columns.values+' diff')\n",
    " \n",
    "def plot_rfi(rfi, figsize=(6, 5.5), sort_by=None, asc=False, fig_ax=None):\n",
    "    if fig_ax is None: fig, ax = plt.subplots(figsize=figsize, tight_layout=True)\n",
    "    else: fig, ax = fig_ax\n",
    "    data = rfi.copy()\n",
    "    if sort_by is not None: data = rfi.sort_values(sort_by, ascending=asc)\n",
    "    data.plot(marker='o', ax=ax)\n",
    "    ax.set_xticks(range(len(rfi)))\n",
    "    ax.set_xticklabels(rfi.index, rotation=90)\n",
    "    ax.set(title='Recursive feature inclusion', xlabel='Feature', ylabel='Evaluation')\n",
    "    if fig_ax is None: plt.show()\n",
    "\n",
    "def recursive_rfi(\n",
    "    xt, xe, yt, ye, feature_importance,\n",
    "    n_iter=5, sort_criteria='recall diff',\n",
    "    max_features=None, first_feature=1,\n",
    "    plot=True, plot_full=True,\n",
    "    plot_cols=np.array(['acc', 'recall macro avg', 'precision macro avg'], dtype='object'),\n",
    "    sort_rfi=False, sort_dif=False,\n",
    "    figsize=(12, 6),\n",
    "    scrs_path=None,\n",
    "    plot_path=None\n",
    "):\n",
    "    n_feats = len(feature_importance)\n",
    "    rank = range(1, n_feats+1)\n",
    "    scrs = []\n",
    "    for i in range(n_iter):\n",
    "        if plot and not plot_full: co(wait=True)\n",
    "        print(f'Recursive feature inclusion for iteration: {i+1}/{n_iter}')\n",
    "        RFI = recursive_feature_inclusion(xt, xe, yt, ye, feature_importance, max_features, first_feature, verbose=0)\n",
    "        RFI_dif = rfi_dif(RFI)\n",
    "        iter_data = pd.concat([RFI, RFI_dif], 1).sort_values(sort_criteria, ascending=False)\n",
    "        iter_data['iter'] = i+1; iter_data['rank'] = rank\n",
    "        scrs.append(iter_data)\n",
    "        feature_importance = RFI_dif[sort_criteria]\n",
    "\n",
    "        if plot:\n",
    "            fig, ax = plt.subplots(1, 2, figsize=figsize, tight_layout=True)            \n",
    "            plot_rfi(RFI[plot_cols], sort_by=(sort_criteria if sort_rfi else None), fig_ax=(fig, ax[0]))\n",
    "            plot_rfi(RFI_dif[plot_cols+' diff'], sort_by=(sort_criteria if sort_dif else None), fig_ax=(fig, ax[1]))\n",
    "            plt.show()\n",
    "            if plot_path is not None:\n",
    "                try: os.mkdir(plot_path)\n",
    "                except: None\n",
    "                plt.savefig(plot_path+f'iter-{i}.jpg')\n",
    "\n",
    "    scrs =  pd.concat(scrs)\n",
    "    if scrs_path is not None: scrs.to_csv(scrs_path, index=True)\n",
    "    return scrs"
   ]
  },
  {
   "cell_type": "markdown",
   "metadata": {},
   "source": [
    "# Data loading and feature/target definitions"
   ]
  },
  {
   "cell_type": "code",
   "execution_count": 4,
   "metadata": {},
   "outputs": [],
   "source": [
    "#### Loading prepared data\n",
    "data = pd.read_csv('data/grades/5th_grade.csv', index_col=0)\n",
    "data.drop('ID_ALUNO', 1, inplace=True)\n",
    "\n",
    "#### Loading Adapted Data Dictionaries\n",
    "data_path = '/Users/luisr/Desktop/Repositories/Data/saep/CSV/{}'\n",
    "grades = [5,9,3]; dict_filenames = [f'dicionario {i}ano.csv' for i in grades]\n",
    "dicts = {grade: pd.read_csv(data_path.format(filename)).set_index('questão') for grade, filename in zip(grades, dict_filenames)}\n",
    "\n",
    "#### Defining targets corresponding to each student grade\n",
    "targets = { # Abandonment\n",
    "    5: 'TX_RESP_Q049',\n",
    "    9: 'TX_RESP_Q050',\n",
    "    12: 'TX_RESP_Q044',\n",
    "}\n",
    "rep_targets = { # Reproval cols\n",
    "    5: 'TX_RESP_Q048',\n",
    "    9: 'TX_RESP_Q049',\n",
    "    12: 'TX_RESP_Q043'\n",
    "}\n",
    "grade = 5\n",
    "target = targets[grade]\n",
    "rep_target = rep_targets[grade]\n",
    "\n",
    "#### List different types of features\n",
    "ids = data.columns[:10].tolist()\n",
    "questions = data.columns[10:64].tolist()\n",
    "grades = data.columns[64:].tolist()"
   ]
  },
  {
   "cell_type": "markdown",
   "metadata": {},
   "source": [
    "---\n",
    "# DATA TRANSFORMATION"
   ]
  },
  {
   "cell_type": "markdown",
   "metadata": {},
   "source": [
    "### 2.2.1. Target Variable Classes Transformation\n"
   ]
  },
  {
   "cell_type": "markdown",
   "metadata": {},
   "source": [
    "Obs: Last label represent missing values (Label 3)"
   ]
  },
  {
   "cell_type": "code",
   "execution_count": 5,
   "metadata": {},
   "outputs": [],
   "source": [
    "def binary(Y, out, replace):\n",
    "    # 1. Droping rows where the target variable is missing \n",
    "    # 2. Target variable conversion to binary\n",
    "    labels = list(replace.keys())\n",
    "    label_map = lambda label: (replace[label] if label in labels else label)\n",
    "    return Y[Y.isin(out)==False].map(label_map)"
   ]
  },
  {
   "cell_type": "markdown",
   "metadata": {},
   "source": [
    "### Defining X and Y"
   ]
  },
  {
   "cell_type": "code",
   "execution_count": 6,
   "metadata": {},
   "outputs": [
    {
     "data": {
      "text/plain": [
       "0    397232\n",
       "1     50087\n",
       "Name: TX_RESP_Q049, dtype: int64"
      ]
     },
     "execution_count": 6,
     "metadata": {},
     "output_type": "execute_result"
    }
   ],
   "source": [
    "Y = binary(data[target].copy(), out=[3], replace={2: 1})\n",
    "X = data.loc[Y.index].drop(target, 1)\n",
    "\n",
    "Y.value_counts() # Binary classes count in target variable"
   ]
  },
  {
   "cell_type": "markdown",
   "metadata": {},
   "source": [
    "### MISSING VALUES STRATEGY"
   ]
  },
  {
   "cell_type": "code",
   "execution_count": 7,
   "metadata": {},
   "outputs": [],
   "source": [
    "for grade in grades:\n",
    "    X[grade].fillna(X[grade].mean(), inplace=True) # Filling missing values with variable mean for 'grades' columns"
   ]
  },
  {
   "cell_type": "markdown",
   "metadata": {},
   "source": [
    "# CLASSIFICATION MODELING"
   ]
  },
  {
   "cell_type": "code",
   "execution_count": 9,
   "metadata": {},
   "outputs": [],
   "source": [
    "models = [\n",
    "    'RandomForestClassifier', 'RidgeClassifier', 'RidgeClassifierCV',\n",
    "    'LinearDiscriminantAnalysis', 'AdaBoostClassifier', 'ExtraTreesClassifier',\n",
    "    'GradientBoostingClassifier', 'HistGradientBoostingClassifier', \n",
    "    'DecisionTreeClassifier', 'LinearSVC', 'LogisticRegression',\n",
    "    'LogisticRegressionCV', 'BaggingClassifier'\n",
    "]"
   ]
  },
  {
   "cell_type": "code",
   "execution_count": 11,
   "metadata": {},
   "outputs": [],
   "source": [
    "ctgr_col = 'ID_MUNICIPIO'\n",
    "key_col = 'ID_TURMA'     # Categorical column for stratified undersampling\n",
    "n_splits = 11             # N° of splits for cross validation\n",
    "train_size = 0.8         # Training proportion of undersampled data (undersampling method defined below)\n",
    "test_cls_prct = None        # Testing class proportion (test_0/test_1)\n",
    "random_state = 0\n",
    "method = 'minority prct' # Undersampling method per key_col category\n",
    "prct = 3                 # Training class proportion per key_col category (train_0/train_1) (Fixed)\n",
    "n_ctgrs = None\n",
    "ctgrs = None"
   ]
  },
  {
   "cell_type": "code",
   "execution_count": 26,
   "metadata": {},
   "outputs": [],
   "source": [
    "ctgr_scorer = category_scorer(ctgr_col, models)\n",
    "ctgr_scorer.set_split_params(key_col, n_splits, train_size, test_cls_prct, random_state, method, prct, verbose=0)"
   ]
  },
  {
   "cell_type": "code",
   "execution_count": 112,
   "metadata": {},
   "outputs": [],
   "source": [
    "# Defining missing categories to score from score files folder.\n",
    "scored_cities = np.array([file.split('.')[0] for file in os.listdir('scores/'+ctgr_col+'/')], dtype='int64')\n",
    "Y_ctgrs = X[ctgr_col][Y==1].unique()\n",
    "# ctgrs = set(Y_ctgrs).difference(scored_cities)"
   ]
  },
  {
   "cell_type": "code",
   "execution_count": 27,
   "metadata": {},
   "outputs": [
    {
     "name": "stdout",
     "output_type": "stream",
     "text": [
      "Done! 13 models cross validated with 11 splits for 1009 categories in \"ID_MUNICIPIO\" column.\n"
     ]
    }
   ],
   "source": [
    "city_scrs = ctgr_scorer.categorical_cv_scr(X, Y, n_ctgrs=None, ctgrs=None, path='scores/'+ctgr_col+'.csv', partial_path='scores/'+ctgr_col+'/{}.csv')"
   ]
  },
  {
   "cell_type": "markdown",
   "metadata": {},
   "source": [
    "#### Reloading city category scores"
   ]
  },
  {
   "cell_type": "code",
   "execution_count": 1089,
   "metadata": {},
   "outputs": [],
   "source": [
    "path = 'scores/'+ctgr_col+'/'\n",
    "city_scrs = pd.concat([pd.read_csv(path+file, index_col=0) for file in os.listdir(path)])"
   ]
  },
  {
   "cell_type": "code",
   "execution_count": 1096,
   "metadata": {},
   "outputs": [
    {
     "data": {
      "text/html": [
       "<div>\n",
       "<style scoped>\n",
       "    .dataframe tbody tr th:only-of-type {\n",
       "        vertical-align: middle;\n",
       "    }\n",
       "\n",
       "    .dataframe tbody tr th {\n",
       "        vertical-align: top;\n",
       "    }\n",
       "\n",
       "    .dataframe thead th {\n",
       "        text-align: right;\n",
       "    }\n",
       "</style>\n",
       "<table border=\"1\" class=\"dataframe\">\n",
       "  <thead>\n",
       "    <tr style=\"text-align: right;\">\n",
       "      <th></th>\n",
       "      <th>mean</th>\n",
       "      <th>var</th>\n",
       "      <th>model</th>\n",
       "      <th>class 0</th>\n",
       "      <th>class 1</th>\n",
       "    </tr>\n",
       "    <tr>\n",
       "      <th>ID_MUNICIPIO</th>\n",
       "      <th></th>\n",
       "      <th></th>\n",
       "      <th></th>\n",
       "      <th></th>\n",
       "      <th></th>\n",
       "    </tr>\n",
       "  </thead>\n",
       "  <tbody>\n",
       "    <tr>\n",
       "      <th>65</th>\n",
       "      <td>0.806452</td>\n",
       "      <td>0.027349</td>\n",
       "      <td>ExtraTreesClassifier</td>\n",
       "      <td>63</td>\n",
       "      <td>12</td>\n",
       "    </tr>\n",
       "    <tr>\n",
       "      <th>49</th>\n",
       "      <td>0.758600</td>\n",
       "      <td>0.012762</td>\n",
       "      <td>RidgeClassifierCV</td>\n",
       "      <td>188</td>\n",
       "      <td>17</td>\n",
       "    </tr>\n",
       "    <tr>\n",
       "      <th>187</th>\n",
       "      <td>0.755155</td>\n",
       "      <td>0.009323</td>\n",
       "      <td>LogisticRegression</td>\n",
       "      <td>33</td>\n",
       "      <td>19</td>\n",
       "    </tr>\n",
       "    <tr>\n",
       "      <th>697</th>\n",
       "      <td>0.741775</td>\n",
       "      <td>0.014284</td>\n",
       "      <td>DecisionTreeClassifier</td>\n",
       "      <td>108</td>\n",
       "      <td>16</td>\n",
       "    </tr>\n",
       "    <tr>\n",
       "      <th>412</th>\n",
       "      <td>0.736043</td>\n",
       "      <td>0.009224</td>\n",
       "      <td>DecisionTreeClassifier</td>\n",
       "      <td>54</td>\n",
       "      <td>13</td>\n",
       "    </tr>\n",
       "  </tbody>\n",
       "</table>\n",
       "</div>"
      ],
      "text/plain": [
       "                  mean       var                   model  class 0  class 1\n",
       "ID_MUNICIPIO                                                              \n",
       "65            0.806452  0.027349    ExtraTreesClassifier       63       12\n",
       "49            0.758600  0.012762       RidgeClassifierCV      188       17\n",
       "187           0.755155  0.009323      LogisticRegression       33       19\n",
       "697           0.741775  0.014284  DecisionTreeClassifier      108       16\n",
       "412           0.736043  0.009224  DecisionTreeClassifier       54       13"
      ]
     },
     "execution_count": 1096,
     "metadata": {},
     "output_type": "execute_result"
    }
   ],
   "source": [
    "selection_criteria = 'recall_macro'\n",
    "model_selection = model_selection_from_scores(X, Y, city_scrs, ctgr_col, selection_criteria); model_selection[model_selection['class 1']>10].head()"
   ]
  },
  {
   "cell_type": "markdown",
   "metadata": {},
   "source": [
    "---\n",
    "# Analysing individual city"
   ]
  },
  {
   "cell_type": "code",
   "execution_count": 1151,
   "metadata": {},
   "outputs": [
    {
     "data": {
      "text/plain": [
       "mean                 0.728826\n",
       "var                0.00782744\n",
       "model      LogisticRegression\n",
       "class 0                   191\n",
       "class 1                    22\n",
       "Name: 77, dtype: object"
      ]
     },
     "execution_count": 1151,
     "metadata": {},
     "output_type": "execute_result"
    }
   ],
   "source": [
    "ctgr = 49\n",
    "modelname = model_selection.loc[ctgr, 'model']\n",
    "model = classifiers[modelname]\n",
    "model_selection.iloc[ctgr]"
   ]
  },
  {
   "cell_type": "markdown",
   "metadata": {},
   "source": [
    "### Classification report"
   ]
  },
  {
   "cell_type": "code",
   "execution_count": 1153,
   "metadata": {},
   "outputs": [
    {
     "name": "stdout",
     "output_type": "stream",
     "text": [
      "              precision    recall  f1-score   support\n",
      "\n",
      "           0       0.98      0.85      0.91       148\n",
      "           1       0.00      0.00      0.00         3\n",
      "\n",
      "    accuracy                           0.83       151\n",
      "   macro avg       0.49      0.43      0.45       151\n",
      "weighted avg       0.96      0.83      0.89       151\n",
      "\n"
     ]
    }
   ],
   "source": [
    "ctgr_col = 'ID_MUNICIPIO'\n",
    "key_col = 'ID_TURMA'     # Categorical column for stratified undersampling\n",
    "n_splits = 7             # N° of splits for cross validation\n",
    "train_size = 0.8         # Training proportion of undersampled data (undersampling method defined below)\n",
    "test_cls_prct = None        # Testing class proportion (test_0/test_1)\n",
    "random_state = 0\n",
    "method = 'minority prct' # Undersampling method per key_col category\n",
    "prct = 3           # Training class proportion simetric per key_col category (train_0/train_1) (Fixed)\n",
    "\n",
    "ctgr_scorer = category_scorer(ctgr_col, models)\n",
    "ctgr_scorer.set_split_params(key_col, n_splits, train_size, test_cls_prct, random_state, method, prct, verbose=0)\n",
    "_x, _y = ctgr_scorer.category_data(X, Y, city)\n",
    "\n",
    "train_index, test_index = ctgr_scorer.SimetricalSplit(_x, _y)\n",
    "xt, yt = _x.loc[train_index], _y.loc[train_index]\n",
    "xe, ye = _x.loc[test_index], _y.loc[test_index]\n",
    "\n",
    "model_fit = model().fit(xt, yt)\n",
    "yp = model_fit.predict(xe)\n",
    "\n",
    "print(cr(ye, yp))"
   ]
  },
  {
   "cell_type": "markdown",
   "metadata": {},
   "source": [
    "### Feature Importance"
   ]
  },
  {
   "cell_type": "code",
   "execution_count": 974,
   "metadata": {},
   "outputs": [
    {
     "data": {
      "text/plain": [
       "<matplotlib.axes._subplots.AxesSubplot at 0x25030e614f0>"
      ]
     },
     "execution_count": 974,
     "metadata": {},
     "output_type": "execute_result"
    },
    {
     "data": {
      "image/png": "[encoded data removed]",
      "text/plain": [
       "<Figure size 432x288 with 1 Axes>"
      ]
     },
     "metadata": {},
     "output_type": "display_data"
    }
   ],
   "source": [
    "fi = pd.Series(model_fit.feature_importances_, index=xt.columns).sort_values(ascending=False)\n",
    "fi.head(21).plot.bar()"
   ]
  },
  {
   "cell_type": "markdown",
   "metadata": {},
   "source": [
    "### Recursive feature inclusion"
   ]
  },
  {
   "cell_type": "code",
   "execution_count": null,
   "metadata": {},
   "outputs": [],
   "source": [
    "feature_importance = fi\n",
    "n_iter = 20\n",
    "sort_criteria = 'recall macro avg diff'\n",
    "\n",
    "rec_rfi = recursive_rfi(\n",
    "    xt, xe, yt, ye, feature_importance,\n",
    "    n_iter, sort_criteria,\n",
    "    max_features=None, first_feature=1,\n",
    "    plot=True, plot_full=False,\n",
    "    plot_cols=np.array(['acc', 'recall macro avg', 'precision macro avg'], dtype='object'),\n",
    "    sort_rfi=False, sort_dif=False,\n",
    "    scrs_path=f'scores/recursive_rfi_{city}.csv',\n",
    "    plot_path=f'plots/recursive_rfi/{city}/'\n",
    ")"
   ]
  },
  {
   "cell_type": "code",
   "execution_count": 1050,
   "metadata": {},
   "outputs": [],
   "source": [
    "ranks = pd.concat([rec_rfi.loc[col].set_index('iter')['rank'].rename(col) for col in feature_importance.index], 1)"
   ]
  },
  {
   "cell_type": "code",
   "execution_count": 1088,
   "metadata": {},
   "outputs": [
    {
     "data": {
      "text/plain": [
       "(0.0, 66.85)"
      ]
     },
     "execution_count": 1088,
     "metadata": {},
     "output_type": "execute_result"
    },
    {
     "data": {
      "image/png": "[encoded data removed]",
      "text/plain": [
       "<Figure size 432x288 with 1 Axes>"
      ]
     },
     "metadata": {},
     "output_type": "display_data"
    }
   ],
   "source": [
    "ranks.T.sample(1).T.plot(); plt.legend([]); plt.ylim(0)"
   ]
  }
 ],
 "metadata": {
  "kernelspec": {
   "display_name": "Python 3",
   "language": "python",
   "name": "python3"
  },
  "language_info": {
   "codemirror_mode": {
    "name": "ipython",
    "version": 3
   },
   "file_extension": ".py",
   "mimetype": "text/x-python",
   "name": "python",
   "nbconvert_exporter": "python",
   "pygments_lexer": "ipython3",
   "version": "3.8.3"
  }
 },
 "nbformat": 4,
 "nbformat_minor": 4
}
