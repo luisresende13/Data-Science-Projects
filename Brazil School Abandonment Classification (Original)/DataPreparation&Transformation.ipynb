{
 "cells": [
  {
   "cell_type": "code",
   "execution_count": 1,
   "metadata": {},
   "outputs": [],
   "source": [
    "import os\n",
    "import pandas as pd; pd.set_option('max_colwidth', None)\n",
    "import numpy as np\n",
    "import matplotlib.pyplot as plt\n",
    "import seaborn as sns; sns.set()\n",
    "from datetime import datetime\n",
    "from sklearn.preprocessing import MinMaxScaler as mms, LabelEncoder as le\n",
    "from IPython.display import clear_output as co\n",
    "\n",
    "# from Classification import Classifier, plot_lc_model_comparison\n",
    "# from NeuralNetwork import execute_neural_net, plot_learning_curve_comparison"
   ]
  },
  {
   "cell_type": "markdown",
   "metadata": {},
   "source": [
    "---\n",
    "# 2. DATA PREPARATION"
   ]
  },
  {
   "cell_type": "markdown",
   "metadata": {},
   "source": [
    "#### Loading Clean Datasets"
   ]
  },
  {
   "cell_type": "code",
   "execution_count": 2,
   "metadata": {},
   "outputs": [],
   "source": [
    "quest = pd.read_csv('data/clean/questionnaire.csv')\n",
    "grades = pd.read_csv('data/clean/grades.csv')"
   ]
  },
  {
   "cell_type": "markdown",
   "metadata": {},
   "source": [
    "#### Merging datasets "
   ]
  },
  {
   "cell_type": "code",
   "execution_count": 3,
   "metadata": {},
   "outputs": [],
   "source": [
    "std_data = pd.merge(quest, grades, on=['ID_ALUNO'], how='left')"
   ]
  },
  {
   "cell_type": "markdown",
   "metadata": {},
   "source": [
    "#### 2.1 Choose grade to extract (5th, 9th or 12th)"
   ]
  },
  {
   "cell_type": "code",
   "execution_count": 4,
   "metadata": {},
   "outputs": [],
   "source": [
    "grade = 5\n",
    "data = std_data[std_data['ID_SERIE']==grade].copy()"
   ]
  },
  {
   "cell_type": "markdown",
   "metadata": {},
   "source": [
    "---\n",
    "# DATA TRANSFORMATION"
   ]
  },
  {
   "cell_type": "code",
   "execution_count": 6,
   "metadata": {},
   "outputs": [
    {
     "data": {
      "text/plain": [
       "object     58\n",
       "int64      11\n",
       "float64     6\n",
       "dtype: int64"
      ]
     },
     "execution_count": 6,
     "metadata": {},
     "output_type": "execute_result"
    }
   ],
   "source": [
    "ids = data.columns[:12].tolist()\n",
    "questions = data.columns[12:70].tolist()\n",
    "grades = data.columns[70:].tolist()\n",
    "\n",
    "data.dtypes.value_counts()"
   ]
  },
  {
   "cell_type": "markdown",
   "metadata": {},
   "source": [
    "#### 2.6 Label Encoding Categorical Features"
   ]
  },
  {
   "cell_type": "code",
   "execution_count": 11,
   "metadata": {},
   "outputs": [],
   "source": [
    "for col in ids + questions:\n",
    "    data[col] = le().fit_transform(data[col])"
   ]
  },
  {
   "cell_type": "markdown",
   "metadata": {},
   "source": [
    "#### 2.5 Scaling Grade Columns"
   ]
  },
  {
   "cell_type": "code",
   "execution_count": 12,
   "metadata": {},
   "outputs": [],
   "source": [
    "data[grades] = mms().fit_transform(data[grades]) # Excluding grade column 'PESO'"
   ]
  },
  {
   "cell_type": "markdown",
   "metadata": {},
   "source": [
    "#### Log Transforming skewed columns"
   ]
  },
  {
   "cell_type": "code",
   "execution_count": 13,
   "metadata": {},
   "outputs": [
    {
     "data": {
      "image/png": "[encoded data removed]",
      "text/plain": [
       "<Figure size 864x216 with 3 Axes>"
      ]
     },
     "metadata": {},
     "output_type": "display_data"
    }
   ],
   "source": [
    "fig, ax = plt.subplots(1, 3, figsize=(12, 3), tight_layout=True)\n",
    "for i, order in enumerate([0.2, 0.1, 0.025015]):\n",
    "    values = data['PESO']**order\n",
    "#     sns.distplot(mms().fit_transform(values.values.reshape(-1, 1)), ax=ax[i])\n",
    "    sns.distplot(values, ax=ax[i])\n",
    "    ax[i].set(title=f'Order: {round(order, 6)} - Skewness: {round(values.skew(), 4)}', ylabel='Density')\n",
    "plt.show()"
   ]
  },
  {
   "cell_type": "code",
   "execution_count": 14,
   "metadata": {},
   "outputs": [],
   "source": [
    "data['PESO'] = data['PESO']**0.025015"
   ]
  },
  {
   "cell_type": "markdown",
   "metadata": {},
   "source": [
    "#### Drop constant columns"
   ]
  },
  {
   "cell_type": "markdown",
   "metadata": {},
   "source": [
    "#### Identify constant columns"
   ]
  },
  {
   "cell_type": "code",
   "execution_count": 16,
   "metadata": {},
   "outputs": [
    {
     "name": "stdout",
     "output_type": "stream",
     "text": [
      "Constant columns: ['ID_SERIE', 'TX_RESP_Q055', 'TX_RESP_Q056', 'TX_RESP_Q057', 'TX_RESP_Q058']\n"
     ]
    }
   ],
   "source": [
    "const_cols = [col for col in ids+questions if len(data[col].unique()) < 2]\n",
    "print(f'Constant columns dropped: {const_cols}')\n",
    "data.drop(const_cols, 1, inplace=True)"
   ]
  },
  {
   "cell_type": "markdown",
   "metadata": {},
   "source": [
    "## 2.8 Saving Transformed Data"
   ]
  },
  {
   "cell_type": "code",
   "execution_count": 17,
   "metadata": {},
   "outputs": [
    {
     "name": "stdout",
     "output_type": "stream",
     "text": [
      "Saved at: 2022-05-27 13:30:40.220741\n"
     ]
    }
   ],
   "source": [
    "try: os.mkdir('data/grades')\n",
    "except: None\n",
    "data.to_csv('data/grades/5th_grade.csv', index=True); print(f'Saved at: {datetime.now()}')"
   ]
  }
 ],
 "metadata": {
  "kernelspec": {
   "display_name": "Python 3",
   "language": "python",
   "name": "python3"
  },
  "language_info": {
   "codemirror_mode": {
    "name": "ipython",
    "version": 3
   },
   "file_extension": ".py",
   "mimetype": "text/x-python",
   "name": "python",
   "nbconvert_exporter": "python",
   "pygments_lexer": "ipython3",
   "version": "3.8.3"
  }
 },
 "nbformat": 4,
 "nbformat_minor": 4
}
