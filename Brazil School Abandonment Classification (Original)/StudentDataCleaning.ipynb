{
 "cells": [
  {
   "cell_type": "markdown",
   "metadata": {},
   "source": [
    "#### Importing modules"
   ]
  },
  {
   "cell_type": "code",
   "execution_count": 46,
   "metadata": {},
   "outputs": [],
   "source": [
    "import pandas as pd\n",
    "import numpy as np\n",
    "import os\n",
    "from datetime import datetime"
   ]
  },
  {
   "cell_type": "markdown",
   "metadata": {},
   "source": [
    "# 1.1 Loading Student Socioeconomic Questionnarie - Raw Dataset"
   ]
  },
  {
   "cell_type": "code",
   "execution_count": 47,
   "metadata": {},
   "outputs": [
    {
     "name": "stderr",
     "output_type": "stream",
     "text": [
      "C:\\Users\\luisr\\anaconda3\\lib\\site-packages\\IPython\\core\\interactiveshell.py:3071: DtypeWarning: Columns (10) have mixed types.Specify dtype option on import or set low_memory=False.\n",
      "  has_raised = await self.run_ast_nodes(code_ast.body, cell_name,\n",
      "C:\\Users\\luisr\\anaconda3\\lib\\site-packages\\numpy\\lib\\arraysetops.py:580: FutureWarning: elementwise comparison failed; returning scalar instead, but in the future will perform elementwise comparison\n",
      "  mask |= (ar1 == a)\n"
     ]
    }
   ],
   "source": [
    "data_path = '/Users/luisr/Desktop/Repositories/Data/saep/CSV/{}'\n",
    "filename = 'saep_qst_aluno.csv'\n",
    "student_data = pd.read_csv(data_path.format(filename), index_col=0)"
   ]
  },
  {
   "cell_type": "code",
   "execution_count": 48,
   "metadata": {},
   "outputs": [
    {
     "data": {
      "text/html": [
       "<div>\n",
       "<style scoped>\n",
       "    .dataframe tbody tr th:only-of-type {\n",
       "        vertical-align: middle;\n",
       "    }\n",
       "\n",
       "    .dataframe tbody tr th {\n",
       "        vertical-align: top;\n",
       "    }\n",
       "\n",
       "    .dataframe thead th {\n",
       "        text-align: right;\n",
       "    }\n",
       "</style>\n",
       "<table border=\"1\" class=\"dataframe\">\n",
       "  <thead>\n",
       "    <tr style=\"text-align: right;\">\n",
       "      <th></th>\n",
       "      <th>ID_SAEB</th>\n",
       "      <th>ID_REGIAO</th>\n",
       "      <th>ID_UF</th>\n",
       "      <th>ID_MUNICIPIO</th>\n",
       "      <th>ID_ESCOLA</th>\n",
       "      <th>ID_DEPENDENCIA_ADM</th>\n",
       "      <th>ID_LOCALIZACAO</th>\n",
       "      <th>ID_CAPITAL</th>\n",
       "      <th>ID_TURMA</th>\n",
       "      <th>ID_TURNO</th>\n",
       "      <th>...</th>\n",
       "      <th>TX_RESP_Q053</th>\n",
       "      <th>TX_RESP_Q054</th>\n",
       "      <th>TX_RESP_Q055</th>\n",
       "      <th>TX_RESP_Q056</th>\n",
       "      <th>TX_RESP_Q057</th>\n",
       "      <th>TX_RESP_Q058</th>\n",
       "      <th>TX_RESP_Q059</th>\n",
       "      <th>TX_RESP_Q060</th>\n",
       "      <th>TX_RESP_Q061</th>\n",
       "      <th>TX_RESP_Q062</th>\n",
       "    </tr>\n",
       "  </thead>\n",
       "  <tbody>\n",
       "    <tr>\n",
       "      <th>0</th>\n",
       "      <td>2011</td>\n",
       "      <td>1</td>\n",
       "      <td>11</td>\n",
       "      <td>1100015</td>\n",
       "      <td>11024682</td>\n",
       "      <td>2</td>\n",
       "      <td>1</td>\n",
       "      <td>2</td>\n",
       "      <td>52401</td>\n",
       "      <td>2</td>\n",
       "      <td>...</td>\n",
       "      <td>.</td>\n",
       "      <td>.</td>\n",
       "      <td></td>\n",
       "      <td></td>\n",
       "      <td></td>\n",
       "      <td></td>\n",
       "      <td></td>\n",
       "      <td></td>\n",
       "      <td></td>\n",
       "      <td></td>\n",
       "    </tr>\n",
       "    <tr>\n",
       "      <th>1</th>\n",
       "      <td>2011</td>\n",
       "      <td>1</td>\n",
       "      <td>11</td>\n",
       "      <td>1100015</td>\n",
       "      <td>11024682</td>\n",
       "      <td>2</td>\n",
       "      <td>1</td>\n",
       "      <td>2</td>\n",
       "      <td>52401</td>\n",
       "      <td>2</td>\n",
       "      <td>...</td>\n",
       "      <td>A</td>\n",
       "      <td>B</td>\n",
       "      <td></td>\n",
       "      <td></td>\n",
       "      <td></td>\n",
       "      <td></td>\n",
       "      <td></td>\n",
       "      <td></td>\n",
       "      <td></td>\n",
       "      <td></td>\n",
       "    </tr>\n",
       "    <tr>\n",
       "      <th>2</th>\n",
       "      <td>2011</td>\n",
       "      <td>1</td>\n",
       "      <td>11</td>\n",
       "      <td>1100015</td>\n",
       "      <td>11024682</td>\n",
       "      <td>2</td>\n",
       "      <td>1</td>\n",
       "      <td>2</td>\n",
       "      <td>52401</td>\n",
       "      <td>2</td>\n",
       "      <td>...</td>\n",
       "      <td>A</td>\n",
       "      <td>A</td>\n",
       "      <td></td>\n",
       "      <td></td>\n",
       "      <td></td>\n",
       "      <td></td>\n",
       "      <td></td>\n",
       "      <td></td>\n",
       "      <td></td>\n",
       "      <td></td>\n",
       "    </tr>\n",
       "  </tbody>\n",
       "</table>\n",
       "<p>3 rows × 77 columns</p>\n",
       "</div>"
      ],
      "text/plain": [
       "   ID_SAEB  ID_REGIAO  ID_UF  ID_MUNICIPIO  ID_ESCOLA  ID_DEPENDENCIA_ADM  \\\n",
       "0     2011          1     11       1100015   11024682                   2   \n",
       "1     2011          1     11       1100015   11024682                   2   \n",
       "2     2011          1     11       1100015   11024682                   2   \n",
       "\n",
       "   ID_LOCALIZACAO  ID_CAPITAL  ID_TURMA ID_TURNO  ...  TX_RESP_Q053  \\\n",
       "0               1           2     52401        2  ...             .   \n",
       "1               1           2     52401        2  ...             A   \n",
       "2               1           2     52401        2  ...             A   \n",
       "\n",
       "   TX_RESP_Q054  TX_RESP_Q055  TX_RESP_Q056  TX_RESP_Q057 TX_RESP_Q058  \\\n",
       "0             .                                                          \n",
       "1             B                                                          \n",
       "2             A                                                          \n",
       "\n",
       "  TX_RESP_Q059 TX_RESP_Q060 TX_RESP_Q061 TX_RESP_Q062  \n",
       "0                                                      \n",
       "1                                                      \n",
       "2                                                      \n",
       "\n",
       "[3 rows x 77 columns]"
      ]
     },
     "execution_count": 48,
     "metadata": {},
     "output_type": "execute_result"
    }
   ],
   "source": [
    "student_data.head(3)"
   ]
  },
  {
   "cell_type": "markdown",
   "metadata": {},
   "source": [
    "---\n",
    "\n",
    "# 1. DATA CLEANING"
   ]
  },
  {
   "cell_type": "code",
   "execution_count": 49,
   "metadata": {},
   "outputs": [],
   "source": [
    "data = student_data.copy()\n",
    "ids = data.columns[:15]\n",
    "questions = data.columns[15:]"
   ]
  },
  {
   "cell_type": "markdown",
   "metadata": {},
   "source": [
    "# Column 'ID_TURNO'"
   ]
  },
  {
   "cell_type": "markdown",
   "metadata": {},
   "source": [
    "* Print unique values in column"
   ]
  },
  {
   "cell_type": "code",
   "execution_count": 50,
   "metadata": {},
   "outputs": [
    {
     "name": "stdout",
     "output_type": "stream",
     "text": [
      "Valores únicos da coluna \"ID_TURNO\": ['2' '1' '3' ' ' 1 2 3]\n",
      "\n"
     ]
    }
   ],
   "source": [
    "print('Valores únicos da coluna \"ID_TURNO\":', data['ID_TURNO'].unique()); print('')"
   ]
  },
  {
   "cell_type": "markdown",
   "metadata": {},
   "source": [
    "* Convert string values to integer type\n",
    "* Replace missing values with NAN notation"
   ]
  },
  {
   "cell_type": "code",
   "execution_count": 51,
   "metadata": {},
   "outputs": [],
   "source": [
    "data['ID_TURNO'] = data['ID_TURNO'].replace(' ', np.nan).astype(float)"
   ]
  },
  {
   "cell_type": "markdown",
   "metadata": {},
   "source": [
    "Obs: Column 'ID_TURNO' is the only identification column with missing values"
   ]
  },
  {
   "cell_type": "markdown",
   "metadata": {},
   "source": [
    "# Question Columns"
   ]
  },
  {
   "cell_type": "code",
   "execution_count": 52,
   "metadata": {},
   "outputs": [
    {
     "data": {
      "text/plain": [
       "{' ', '*', '.', 'A', 'B', 'C', 'D', 'E', 'F', 'G', 'H', 'I', 'J', 'K', 'L'}"
      ]
     },
     "execution_count": 52,
     "metadata": {},
     "output_type": "execute_result"
    }
   ],
   "source": [
    "# * Print unique values for all columns before cleaning\n",
    "set(data[questions].values.reshape(-1))"
   ]
  },
  {
   "cell_type": "code",
   "execution_count": 53,
   "metadata": {},
   "outputs": [
    {
     "data": {
      "text/plain": [
       "{'A', 'B', 'C', 'D', 'E', 'F', 'G', 'H', 'I', 'J', 'K', 'L', nan}"
      ]
     },
     "execution_count": 53,
     "metadata": {},
     "output_type": "execute_result"
    }
   ],
   "source": [
    "# * Unification of missiong values notation to NAN\n",
    "for mark in ['*', ' ', '.']: data.replace(mark, np.nan, inplace=True)\n",
    "# * Print unique values for all columns after cleaning\n",
    "set(data[questions].values.reshape(-1))"
   ]
  },
  {
   "cell_type": "markdown",
   "metadata": {},
   "source": [
    "# Droping empty questionnaries (question values missing completely)"
   ]
  },
  {
   "cell_type": "code",
   "execution_count": 54,
   "metadata": {},
   "outputs": [
    {
     "data": {
      "text/plain": [
       "(849278, 77)"
      ]
     },
     "execution_count": 54,
     "metadata": {},
     "output_type": "execute_result"
    }
   ],
   "source": [
    "# drop completely empty rows (in the subset of the question columns)\n",
    "data.dropna(how='all', subset=questions, inplace=True)\n",
    "# Print data shape after dropping rows\n",
    "data.shape"
   ]
  },
  {
   "cell_type": "markdown",
   "metadata": {},
   "source": [
    "# Print unique values count for each identification column"
   ]
  },
  {
   "cell_type": "code",
   "execution_count": 55,
   "metadata": {},
   "outputs": [
    {
     "name": "stdout",
     "output_type": "stream",
     "text": [
      "ID_SAEB {2011: 849278}\n",
      "ID_REGIAO {2: 432467, 1: 416811}\n",
      "ID_UF {23: 201111, 15: 166843, 21: 164870, 13: 107564, 22: 66486, 11: 42266, 17: 41944, 16: 22539, 12: 20996, 14: 14659}\n",
      "ID_DEPENDENCIA_ADM {3: 566409, 2: 260657, 4: 20535, 1: 1677}\n",
      "ID_LOCALIZACAO {1: 700335, 2: 148943}\n",
      "ID_CAPITAL {2: 636393, 1: 212885}\n",
      "ID_TURNO {2.0: 435424, 1.0: 384885, 3.0: 26538}\n",
      "ID_SERIE {5: 468706, 9: 360455, 12: 20117}\n",
      "IN_SITUACAO_CENSO {1: 849278}\n",
      "IN_PROVA_BRASIL {1: 811587, 0: 37691}\n",
      "IN_PREENCHIMENTO {1: 849278}\n"
     ]
    }
   ],
   "source": [
    "categorical_cols = [\n",
    "    'ID_SAEB', 'ID_REGIAO', 'ID_UF',\n",
    "    'ID_DEPENDENCIA_ADM', 'ID_LOCALIZACAO', 'ID_CAPITAL',\n",
    "    'ID_TURNO', 'ID_SERIE', 'IN_SITUACAO_CENSO',\n",
    "    'IN_PROVA_BRASIL', 'IN_PREENCHIMENTO'\n",
    "]\n",
    "for col in categorical_cols:\n",
    "    print(col, dict(data[col].value_counts()))"
   ]
  },
  {
   "cell_type": "markdown",
   "metadata": {},
   "source": [
    "# Droping constant and repeated columns"
   ]
  },
  {
   "cell_type": "code",
   "execution_count": 56,
   "metadata": {},
   "outputs": [
    {
     "data": {
      "text/plain": [
       "['TX_RESP_Q059', 'TX_RESP_Q060', 'TX_RESP_Q061', 'TX_RESP_Q062']"
      ]
     },
     "execution_count": 56,
     "metadata": {},
     "output_type": "execute_result"
    }
   ],
   "source": [
    "empty_questions = data.loc[:, (data.isna().mean()>0.9)].columns.tolist(); empty_questions"
   ]
  },
  {
   "cell_type": "code",
   "execution_count": 58,
   "metadata": {},
   "outputs": [],
   "source": [
    "out_cols = [\n",
    "    'ID_SAEB', 'IN_SITUACAO_CENSO', 'IN_PREENCHIMENTO', # Constant columns\n",
    "] + empty_questions\n",
    "\n",
    "data.drop(out_cols, inplace=True, axis=1)"
   ]
  },
  {
   "cell_type": "markdown",
   "metadata": {},
   "source": [
    "# Saving Clean Dataset"
   ]
  },
  {
   "cell_type": "code",
   "execution_count": 44,
   "metadata": {},
   "outputs": [
    {
     "name": "stdout",
     "output_type": "stream",
     "text": [
      "Saved at: 2022-05-26 22:36:31.245489\n"
     ]
    }
   ],
   "source": [
    "try: \n",
    "    os.mkdir('data'); os.mkdir('data/clean')\n",
    "    print('Clean data folder created!')\n",
    "except: None\n",
    "    \n",
    "# data.to_csv('data/clean/questionnaire.csv', index=False)\n",
    "print(f'Saved at: {datetime.now()}')"
   ]
  },
  {
   "cell_type": "code",
   "execution_count": 45,
   "metadata": {},
   "outputs": [
    {
     "data": {
      "text/html": [
       "<div>\n",
       "<style scoped>\n",
       "    .dataframe tbody tr th:only-of-type {\n",
       "        vertical-align: middle;\n",
       "    }\n",
       "\n",
       "    .dataframe tbody tr th {\n",
       "        vertical-align: top;\n",
       "    }\n",
       "\n",
       "    .dataframe thead th {\n",
       "        text-align: right;\n",
       "    }\n",
       "</style>\n",
       "<table border=\"1\" class=\"dataframe\">\n",
       "  <thead>\n",
       "    <tr style=\"text-align: right;\">\n",
       "      <th></th>\n",
       "      <th>ID_REGIAO</th>\n",
       "      <th>ID_UF</th>\n",
       "      <th>ID_MUNICIPIO</th>\n",
       "      <th>ID_ESCOLA</th>\n",
       "      <th>ID_DEPENDENCIA_ADM</th>\n",
       "      <th>ID_LOCALIZACAO</th>\n",
       "      <th>ID_CAPITAL</th>\n",
       "      <th>ID_TURMA</th>\n",
       "      <th>ID_TURNO</th>\n",
       "      <th>ID_SERIE</th>\n",
       "      <th>...</th>\n",
       "      <th>TX_RESP_Q049</th>\n",
       "      <th>TX_RESP_Q050</th>\n",
       "      <th>TX_RESP_Q051</th>\n",
       "      <th>TX_RESP_Q052</th>\n",
       "      <th>TX_RESP_Q053</th>\n",
       "      <th>TX_RESP_Q054</th>\n",
       "      <th>TX_RESP_Q055</th>\n",
       "      <th>TX_RESP_Q056</th>\n",
       "      <th>TX_RESP_Q057</th>\n",
       "      <th>TX_RESP_Q058</th>\n",
       "    </tr>\n",
       "  </thead>\n",
       "  <tbody>\n",
       "    <tr>\n",
       "      <th>1</th>\n",
       "      <td>1</td>\n",
       "      <td>11</td>\n",
       "      <td>1100015</td>\n",
       "      <td>11024682</td>\n",
       "      <td>2</td>\n",
       "      <td>1</td>\n",
       "      <td>2</td>\n",
       "      <td>52401</td>\n",
       "      <td>2.0</td>\n",
       "      <td>5</td>\n",
       "      <td>...</td>\n",
       "      <td>A</td>\n",
       "      <td>B</td>\n",
       "      <td>A</td>\n",
       "      <td>B</td>\n",
       "      <td>A</td>\n",
       "      <td>B</td>\n",
       "      <td>NaN</td>\n",
       "      <td>NaN</td>\n",
       "      <td>NaN</td>\n",
       "      <td>NaN</td>\n",
       "    </tr>\n",
       "    <tr>\n",
       "      <th>2</th>\n",
       "      <td>1</td>\n",
       "      <td>11</td>\n",
       "      <td>1100015</td>\n",
       "      <td>11024682</td>\n",
       "      <td>2</td>\n",
       "      <td>1</td>\n",
       "      <td>2</td>\n",
       "      <td>52401</td>\n",
       "      <td>2.0</td>\n",
       "      <td>5</td>\n",
       "      <td>...</td>\n",
       "      <td>A</td>\n",
       "      <td>NaN</td>\n",
       "      <td>A</td>\n",
       "      <td>A</td>\n",
       "      <td>A</td>\n",
       "      <td>A</td>\n",
       "      <td>NaN</td>\n",
       "      <td>NaN</td>\n",
       "      <td>NaN</td>\n",
       "      <td>NaN</td>\n",
       "    </tr>\n",
       "    <tr>\n",
       "      <th>3</th>\n",
       "      <td>1</td>\n",
       "      <td>11</td>\n",
       "      <td>1100015</td>\n",
       "      <td>11024682</td>\n",
       "      <td>2</td>\n",
       "      <td>1</td>\n",
       "      <td>2</td>\n",
       "      <td>52401</td>\n",
       "      <td>2.0</td>\n",
       "      <td>5</td>\n",
       "      <td>...</td>\n",
       "      <td>A</td>\n",
       "      <td>A</td>\n",
       "      <td>A</td>\n",
       "      <td>A</td>\n",
       "      <td>A</td>\n",
       "      <td>A</td>\n",
       "      <td>NaN</td>\n",
       "      <td>NaN</td>\n",
       "      <td>NaN</td>\n",
       "      <td>NaN</td>\n",
       "    </tr>\n",
       "  </tbody>\n",
       "</table>\n",
       "<p>3 rows × 70 columns</p>\n",
       "</div>"
      ],
      "text/plain": [
       "   ID_REGIAO  ID_UF  ID_MUNICIPIO  ID_ESCOLA  ID_DEPENDENCIA_ADM  \\\n",
       "1          1     11       1100015   11024682                   2   \n",
       "2          1     11       1100015   11024682                   2   \n",
       "3          1     11       1100015   11024682                   2   \n",
       "\n",
       "   ID_LOCALIZACAO  ID_CAPITAL  ID_TURMA  ID_TURNO  ID_SERIE  ...  \\\n",
       "1               1           2     52401       2.0         5  ...   \n",
       "2               1           2     52401       2.0         5  ...   \n",
       "3               1           2     52401       2.0         5  ...   \n",
       "\n",
       "   TX_RESP_Q049  TX_RESP_Q050 TX_RESP_Q051 TX_RESP_Q052 TX_RESP_Q053  \\\n",
       "1             A             B            A            B            A   \n",
       "2             A           NaN            A            A            A   \n",
       "3             A             A            A            A            A   \n",
       "\n",
       "  TX_RESP_Q054 TX_RESP_Q055 TX_RESP_Q056 TX_RESP_Q057 TX_RESP_Q058  \n",
       "1            B          NaN          NaN          NaN          NaN  \n",
       "2            A          NaN          NaN          NaN          NaN  \n",
       "3            A          NaN          NaN          NaN          NaN  \n",
       "\n",
       "[3 rows x 70 columns]"
      ]
     },
     "execution_count": 45,
     "metadata": {},
     "output_type": "execute_result"
    }
   ],
   "source": [
    "data.head(3)"
   ]
  },
  {
   "cell_type": "markdown",
   "metadata": {},
   "source": [
    "---"
   ]
  },
  {
   "cell_type": "markdown",
   "metadata": {},
   "source": [
    "# 1.6 Loading Students Grades Dataset"
   ]
  },
  {
   "cell_type": "markdown",
   "metadata": {},
   "source": [
    "### Loading"
   ]
  },
  {
   "cell_type": "code",
   "execution_count": 59,
   "metadata": {},
   "outputs": [
    {
     "name": "stderr",
     "output_type": "stream",
     "text": [
      "C:\\Users\\luisr\\anaconda3\\lib\\site-packages\\IPython\\core\\interactiveshell.py:3071: DtypeWarning: Columns (9) have mixed types.Specify dtype option on import or set low_memory=False.\n",
      "  has_raised = await self.run_ast_nodes(code_ast.body, cell_name,\n"
     ]
    }
   ],
   "source": [
    "grades_filename = 'saep_res_aluno.csv'\n",
    "grade_data = pd.read_csv(data_path.format(grades_filename))"
   ]
  },
  {
   "cell_type": "code",
   "execution_count": 60,
   "metadata": {},
   "outputs": [],
   "source": [
    "data = grade_data.copy()"
   ]
  },
  {
   "cell_type": "markdown",
   "metadata": {},
   "source": [
    "# 1.8 Cleaning"
   ]
  },
  {
   "cell_type": "code",
   "execution_count": 61,
   "metadata": {},
   "outputs": [],
   "source": [
    "grades = data.columns[-10:-1].tolist()"
   ]
  },
  {
   "cell_type": "markdown",
   "metadata": {},
   "source": [
    "#### Replace grade columns empty cells notation to \"NAN\" & type conversion to float"
   ]
  },
  {
   "cell_type": "code",
   "execution_count": 62,
   "metadata": {},
   "outputs": [],
   "source": [
    "data[grades] = data[grades].replace(' ', np.nan).astype(float)"
   ]
  },
  {
   "cell_type": "markdown",
   "metadata": {},
   "source": [
    "#### Droping rows without any grade data"
   ]
  },
  {
   "cell_type": "code",
   "execution_count": 63,
   "metadata": {},
   "outputs": [],
   "source": [
    "data.dropna(how='all', subset=grades, inplace=True)"
   ]
  },
  {
   "cell_type": "markdown",
   "metadata": {},
   "source": [
    "#### Extracting non repeated grade columns plus student id column for later merging"
   ]
  },
  {
   "cell_type": "code",
   "execution_count": 66,
   "metadata": {},
   "outputs": [],
   "source": [
    "data = data[['ID_ALUNO', 'PROFICIENCIA_LP', 'PROFICIENCIA_MT', 'DESVIO_PADRAO_LP', 'DESVIO_PADRAO_MT', 'PESO']]"
   ]
  },
  {
   "cell_type": "markdown",
   "metadata": {},
   "source": [
    "# 1.9 Saving Clean Students Grades Dataset"
   ]
  },
  {
   "cell_type": "code",
   "execution_count": 67,
   "metadata": {},
   "outputs": [
    {
     "name": "stdout",
     "output_type": "stream",
     "text": [
      "Saved at: 2022-05-27 13:19:55.760588\n"
     ]
    }
   ],
   "source": [
    "data.to_csv('data/clean/grades.csv', index=False); print(f'Saved at: {datetime.now()}')"
   ]
  }
 ],
 "metadata": {
  "kernelspec": {
   "display_name": "Python 3",
   "language": "python",
   "name": "python3"
  },
  "language_info": {
   "codemirror_mode": {
    "name": "ipython",
    "version": 3
   },
   "file_extension": ".py",
   "mimetype": "text/x-python",
   "name": "python",
   "nbconvert_exporter": "python",
   "pygments_lexer": "ipython3",
   "version": "3.8.3"
  }
 },
 "nbformat": 4,
 "nbformat_minor": 4
}
