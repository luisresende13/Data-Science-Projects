{
 "cells": [
  {
   "cell_type": "markdown",
   "metadata": {},
   "source": [
    "## Preparing environment"
   ]
  },
  {
   "cell_type": "code",
   "execution_count": 1,
   "metadata": {},
   "outputs": [
    {
     "name": "stderr",
     "output_type": "stream",
     "text": [
      "C:\\Users\\luisr\\anaconda3\\lib\\site-packages\\setuptools\\distutils_patch.py:25: UserWarning: Distutils was imported before Setuptools. This usage is discouraged and may exhibit undesirable behaviors or errors. Please use Setuptools' objects directly or at least import Setuptools first.\n",
      "  warnings.warn(\n"
     ]
    }
   ],
   "source": [
    "import os\n",
    "import pandas as pd; pd.set_option('max_colwidth', None)\n",
    "import numpy as np; np.random.seed(0)\n",
    "import matplotlib.pyplot as plt\n",
    "import seaborn as sns; sns.set()\n",
    "# from datetime import datetime\n",
    "from IPython.display import clear_output as co\n",
    "\n",
    "from sklearn.preprocessing import binarize \n",
    "from sklearn.metrics import classification_report as cr\n",
    "import sklearn.metrics as metrics\n",
    "from imblearn.under_sampling import RandomUnderSampler\n",
    "from imblearn.ensemble import BalancedRandomForestClassifier as BRFC\n",
    "\n",
    "from sklearn.utils import all_estimators; classifiers = dict(all_estimators('classifier'))\n",
    "from sklearn.model_selection import (\n",
    "    train_test_split as tts,\n",
    "    cross_val_score as cvs, cross_validate as CV,\n",
    "    learning_curve as lc, validation_curve as vc\n",
    ")\n",
    "\n",
    "from cv_samplers import GroupUnderSampleSplit, print_cls_cnt, print_intra_cls_cnt, target_categorical_distribution#, categorical_undersampling, tts_categorical\n",
    "from Classification import Classifier, plot_lc_model_comparison\n",
    "from NeuralNetwork import execute_neural_net, plot_learning_curve_comparison\n",
    "\n",
    "#### Defining scoring functions\n",
    "recall_0 = metrics.make_scorer(metrics.recall_score, pos_label=0)\n",
    "recall_1 = metrics.make_scorer(metrics.recall_score, pos_label=1)\n",
    "precision_0 = metrics.make_scorer(metrics.precision_score, pos_label=0)\n",
    "precision_1 = metrics.make_scorer(metrics.precision_score, pos_label=1)\n",
    "scoring = {'accuracy': 'accuracy', 'f1_macro': 'f1_macro',\n",
    "           'recall_macro': 'recall_macro', 'precision_macro': 'precision_macro',\n",
    "           'recall_0': recall_0, 'recall_1': recall_1,\n",
    "           'precision_0': precision_0, 'precision_1': precision_1,\n",
    "          }"
   ]
  },
  {
   "cell_type": "markdown",
   "metadata": {},
   "source": [
    "---\n",
    "# LOAD DATA"
   ]
  },
  {
   "cell_type": "code",
   "execution_count": 2,
   "metadata": {},
   "outputs": [],
   "source": [
    "data = pd.read_csv('data/grades/5th_grade.csv', index_col=0)\n",
    "data.drop('ID_ALUNO', 1, inplace=True)\n",
    "\n",
    "# Loading data information dictionaries\n",
    "data_path = '/Users/luisr/Desktop/Repositories/Data/saep/CSV/{}'\n",
    "grades = [5,9,3]; dict_filenames = [f'dicionario {i}ano.csv' for i in grades]\n",
    "dicts = {grade: pd.read_csv(data_path.format(filename)).set_index('questão') for grade, filename in zip(grades, dict_filenames)}\n",
    "\n",
    "#### Defining targets corresponding to each student grade\n",
    "targets = { # Abandonment\n",
    "    5: 'TX_RESP_Q049',\n",
    "    9: 'TX_RESP_Q050',\n",
    "    12: 'TX_RESP_Q044',\n",
    "}\n",
    "grade = 5\n",
    "target = targets[grade]\n",
    "\n",
    "#### List different types of features\n",
    "ids = data.columns[:10].tolist()\n",
    "questions = data.columns[10:64].tolist()\n",
    "grades = data.columns[64:].tolist()"
   ]
  },
  {
   "cell_type": "markdown",
   "metadata": {},
   "source": [
    "---\n",
    "# DATA TRANSFORMATION\n",
    "### Binarize target & fill missing values"
   ]
  },
  {
   "cell_type": "code",
   "execution_count": 3,
   "metadata": {},
   "outputs": [
    {
     "name": "stdout",
     "output_type": "stream",
     "text": [
      "0    397232\n",
      "1     50087\n",
      "Name: TX_RESP_Q049, dtype: int64\n"
     ]
    }
   ],
   "source": [
    "# eliminate rows where the target variable value is missing. obs: last label represent missing values (Label 3)\n",
    "modeling_data = data[data[target]!=data[target].max()].copy()\n",
    "# target variable binary conversion\n",
    "modeling_data[target] = binarize(modeling_data[[target]], threshold=0.5).reshape(-1)\n",
    "\n",
    "# define X and Y\n",
    "Y = modeling_data[target].reset_index(drop=True).copy()\n",
    "X = modeling_data.reset_index(drop=True).drop(target, 1)\n",
    "\n",
    "# FILLING MISSING VALUES WITH VARIABLES' MEANS\n",
    "for grade in grades:\n",
    "    X[grade].fillna(X[grade].mean(), inplace=True)\n",
    "    \n",
    "# target variable class count\n",
    "print(Y.value_counts())"
   ]
  },
  {
   "cell_type": "markdown",
   "metadata": {},
   "source": [
    "---\n",
    "# CLASSIFICATION MODELING\n",
    "\n",
    "#### Compare performance of different:\n",
    "* Models\n",
    "* Random train splits\n",
    "* Target variable class ratios\n",
    "* Train sizes (Learning curve)\n",
    "* Model hyperparameters"
   ]
  },
  {
   "cell_type": "code",
   "execution_count": 4,
   "metadata": {},
   "outputs": [],
   "source": [
    "def cv_df(cv_res, scoring):\n",
    "    return pd.DataFrame({scr: cv_res['test_'+scr] for scr in scoring})"
   ]
  },
  {
   "cell_type": "markdown",
   "metadata": {},
   "source": [
    "## Sampling\n",
    "#### Balanced Train test split sample"
   ]
  },
  {
   "cell_type": "code",
   "execution_count": 5,
   "metadata": {},
   "outputs": [
    {
     "data": {
      "text/html": [
       "<div>\n",
       "<style scoped>\n",
       "    .dataframe tbody tr th:only-of-type {\n",
       "        vertical-align: middle;\n",
       "    }\n",
       "\n",
       "    .dataframe tbody tr th {\n",
       "        vertical-align: top;\n",
       "    }\n",
       "\n",
       "    .dataframe thead th {\n",
       "        text-align: right;\n",
       "    }\n",
       "</style>\n",
       "<table border=\"1\" class=\"dataframe\">\n",
       "  <thead>\n",
       "    <tr style=\"text-align: right;\">\n",
       "      <th></th>\n",
       "      <th>Train set</th>\n",
       "      <th>Test set</th>\n",
       "    </tr>\n",
       "    <tr>\n",
       "      <th>Class</th>\n",
       "      <th></th>\n",
       "      <th></th>\n",
       "    </tr>\n",
       "  </thead>\n",
       "  <tbody>\n",
       "    <tr>\n",
       "      <th>0</th>\n",
       "      <td>2504</td>\n",
       "      <td>45078</td>\n",
       "    </tr>\n",
       "    <tr>\n",
       "      <th>1</th>\n",
       "      <td>2504</td>\n",
       "      <td>15026</td>\n",
       "    </tr>\n",
       "  </tbody>\n",
       "</table>\n",
       "</div>"
      ],
      "text/plain": [
       "       Train set  Test set\n",
       "Class                     \n",
       "0           2504     45078\n",
       "1           2504     15026"
      ]
     },
     "metadata": {},
     "output_type": "display_data"
    }
   ],
   "source": [
    "guss = GroupUnderSampleSplit(\n",
    "    n_splits=5,\n",
    "    train_size=0.05, train_prct=1,\n",
    "    test_size=0.3, test_prct=3,\n",
    "    group_col=None, key_col=None,  # group shuffle split / under sampling per group\n",
    "    reset_index=False,\n",
    "    remove_duplicates=True,\n",
    "    random_state=0,\n",
    "    verbose=1,\n",
    ")\n",
    "#### Train and test x and y dataframes\n",
    "xt, xe, yt, ye = guss.train_test_undersample(X, Y, cnt=None, shuffle=True, random_state=0)\n",
    "print_cls_cnt(Y.reset_index(drop=True), yt.index, ye.index)"
   ]
  },
  {
   "cell_type": "markdown",
   "metadata": {},
   "source": [
    "#### Balanced cross validation split samples"
   ]
  },
  {
   "cell_type": "code",
   "execution_count": 6,
   "metadata": {},
   "outputs": [
    {
     "name": "stdout",
     "output_type": "stream",
     "text": [
      "Performing splits - 4/5 splits performed.\n"
     ]
    }
   ],
   "source": [
    "cv = guss.split(X, Y, shuffle=True)"
   ]
  },
  {
   "cell_type": "markdown",
   "metadata": {},
   "source": [
    "## Compare train splits (same test split)"
   ]
  },
  {
   "cell_type": "code",
   "execution_count": 7,
   "metadata": {},
   "outputs": [],
   "source": [
    "modelname = 'GradientBoostingClassifier'# 'GradientBoostingClassifier', 'DecisionTreeClassifier', 'LinearSVC', 'LogisticRegression',\n",
    "Model = classifiers[modelname]\n",
    "model = Model(n_estimators=60, random_state=0)\n",
    "# model = BRFC()"
   ]
  },
  {
   "cell_type": "markdown",
   "metadata": {},
   "source": [
    "#### score cross validation splits"
   ]
  },
  {
   "cell_type": "code",
   "execution_count": 8,
   "metadata": {},
   "outputs": [
    {
     "name": "stderr",
     "output_type": "stream",
     "text": [
      "[Parallel(n_jobs=-1)]: Using backend LokyBackend with 4 concurrent workers.\n",
      "[Parallel(n_jobs=-1)]: Done   2 out of   5 | elapsed:    6.7s remaining:   10.1s\n",
      "[Parallel(n_jobs=-1)]: Done   5 out of   5 | elapsed:    8.9s finished\n"
     ]
    }
   ],
   "source": [
    "model_scrs = CV(model, X, Y, cv=cv, scoring=scoring, groups=None, n_jobs=-1, pre_dispatch='all', verbose=5)"
   ]
  },
  {
   "cell_type": "code",
   "execution_count": 9,
   "metadata": {},
   "outputs": [
    {
     "data": {
      "text/html": [
       "<div>\n",
       "<style scoped>\n",
       "    .dataframe tbody tr th:only-of-type {\n",
       "        vertical-align: middle;\n",
       "    }\n",
       "\n",
       "    .dataframe tbody tr th {\n",
       "        vertical-align: top;\n",
       "    }\n",
       "\n",
       "    .dataframe thead th {\n",
       "        text-align: right;\n",
       "    }\n",
       "</style>\n",
       "<table border=\"1\" class=\"dataframe\">\n",
       "  <thead>\n",
       "    <tr style=\"text-align: right;\">\n",
       "      <th></th>\n",
       "      <th>accuracy</th>\n",
       "      <th>f1_macro</th>\n",
       "      <th>recall_macro</th>\n",
       "      <th>precision_macro</th>\n",
       "      <th>recall_0</th>\n",
       "      <th>recall_1</th>\n",
       "      <th>precision_0</th>\n",
       "      <th>precision_1</th>\n",
       "    </tr>\n",
       "  </thead>\n",
       "  <tbody>\n",
       "    <tr>\n",
       "      <th>0</th>\n",
       "      <td>0.707773</td>\n",
       "      <td>0.664018</td>\n",
       "      <td>0.703115</td>\n",
       "      <td>0.660214</td>\n",
       "      <td>0.712432</td>\n",
       "      <td>0.693797</td>\n",
       "      <td>0.874687</td>\n",
       "      <td>0.445741</td>\n",
       "    </tr>\n",
       "    <tr>\n",
       "      <th>1</th>\n",
       "      <td>0.702449</td>\n",
       "      <td>0.659280</td>\n",
       "      <td>0.699299</td>\n",
       "      <td>0.656501</td>\n",
       "      <td>0.705599</td>\n",
       "      <td>0.692999</td>\n",
       "      <td>0.873339</td>\n",
       "      <td>0.439664</td>\n",
       "    </tr>\n",
       "    <tr>\n",
       "      <th>2</th>\n",
       "      <td>0.698622</td>\n",
       "      <td>0.656661</td>\n",
       "      <td>0.698434</td>\n",
       "      <td>0.654974</td>\n",
       "      <td>0.698811</td>\n",
       "      <td>0.698057</td>\n",
       "      <td>0.874105</td>\n",
       "      <td>0.435843</td>\n",
       "    </tr>\n",
       "    <tr>\n",
       "      <th>3</th>\n",
       "      <td>0.695178</td>\n",
       "      <td>0.653764</td>\n",
       "      <td>0.696337</td>\n",
       "      <td>0.652871</td>\n",
       "      <td>0.694019</td>\n",
       "      <td>0.698656</td>\n",
       "      <td>0.873565</td>\n",
       "      <td>0.432177</td>\n",
       "    </tr>\n",
       "    <tr>\n",
       "      <th>4</th>\n",
       "      <td>0.685013</td>\n",
       "      <td>0.648169</td>\n",
       "      <td>0.697613</td>\n",
       "      <td>0.651493</td>\n",
       "      <td>0.672412</td>\n",
       "      <td>0.722814</td>\n",
       "      <td>0.879191</td>\n",
       "      <td>0.423794</td>\n",
       "    </tr>\n",
       "  </tbody>\n",
       "</table>\n",
       "</div>"
      ],
      "text/plain": [
       "   accuracy  f1_macro  recall_macro  precision_macro  recall_0  recall_1  \\\n",
       "0  0.707773  0.664018      0.703115         0.660214  0.712432  0.693797   \n",
       "1  0.702449  0.659280      0.699299         0.656501  0.705599  0.692999   \n",
       "2  0.698622  0.656661      0.698434         0.654974  0.698811  0.698057   \n",
       "3  0.695178  0.653764      0.696337         0.652871  0.694019  0.698656   \n",
       "4  0.685013  0.648169      0.697613         0.651493  0.672412  0.722814   \n",
       "\n",
       "   precision_0  precision_1  \n",
       "0     0.874687     0.445741  \n",
       "1     0.873339     0.439664  \n",
       "2     0.874105     0.435843  \n",
       "3     0.873565     0.432177  \n",
       "4     0.879191     0.423794  "
      ]
     },
     "execution_count": 9,
     "metadata": {},
     "output_type": "execute_result"
    }
   ],
   "source": [
    "scrs_df = pd.DataFrame({scr: model_scrs['test_'+scr] for scr in scoring}); scrs_df"
   ]
  },
  {
   "cell_type": "markdown",
   "metadata": {},
   "source": [
    "## Shuffle splits' learning curves "
   ]
  },
  {
   "cell_type": "code",
   "execution_count": 49,
   "metadata": {},
   "outputs": [
    {
     "name": "stdout",
     "output_type": "stream",
     "text": [
      "[learning_curve] Training set sizes: [  20  160  540 1282 2504 4327 6871]\n"
     ]
    },
    {
     "name": "stderr",
     "output_type": "stream",
     "text": [
      "[Parallel(n_jobs=-1)]: Using backend LokyBackend with 4 concurrent workers.\n",
      "[Parallel(n_jobs=-1)]: Done   4 out of  35 | elapsed:    3.0s remaining:   23.8s\n",
      "[Parallel(n_jobs=-1)]: Done  12 out of  35 | elapsed:    8.9s remaining:   17.1s\n",
      "[Parallel(n_jobs=-1)]: Done  20 out of  35 | elapsed:   14.5s remaining:   10.8s\n",
      "[Parallel(n_jobs=-1)]: Done  28 out of  35 | elapsed:   19.8s remaining:    4.9s\n",
      "[Parallel(n_jobs=-1)]: Done  35 out of  35 | elapsed:   25.3s finished\n"
     ]
    },
    {
     "name": "stdout",
     "output_type": "stream",
     "text": [
      "[learning_curve] Training set sizes: [  20  160  540 1282 2504 4327 6871]\n"
     ]
    },
    {
     "name": "stderr",
     "output_type": "stream",
     "text": [
      "[Parallel(n_jobs=-1)]: Using backend LokyBackend with 4 concurrent workers.\n",
      "[Parallel(n_jobs=-1)]: Done   4 out of  35 | elapsed:    2.9s remaining:   23.3s\n",
      "[Parallel(n_jobs=-1)]: Done  12 out of  35 | elapsed:    9.4s remaining:   18.1s\n",
      "[Parallel(n_jobs=-1)]: Done  20 out of  35 | elapsed:   14.4s remaining:   10.8s\n",
      "[Parallel(n_jobs=-1)]: Done  28 out of  35 | elapsed:   20.0s remaining:    4.9s\n",
      "[Parallel(n_jobs=-1)]: Done  35 out of  35 | elapsed:   25.5s finished\n"
     ]
    }
   ],
   "source": [
    "order=3\n",
    "train_sizes = np.linspace(0.1, 0.7, 7)**order\n",
    "lc_0, lc_1 = ( lc(\n",
    "    model,\n",
    "    X, Y,\n",
    "    train_sizes=train_sizes,\n",
    "    cv=cv,\n",
    "    scoring=[recall_0, recall_1][i],\n",
    "    groups=None,\n",
    "    random_state=0,\n",
    "    shuffle=True,\n",
    "    verbose=5,\n",
    "    n_jobs=-1,\n",
    "    pre_dispatch='all',\n",
    "    error_score='raise'\n",
    ") for i in (0, 1) )"
   ]
  },
  {
   "cell_type": "markdown",
   "metadata": {},
   "source": [
    "### Recall - minority class"
   ]
  },
  {
   "cell_type": "code",
   "execution_count": 51,
   "metadata": {},
   "outputs": [
    {
     "data": {
      "image/png": "[encoded data removed]",
      "text/plain": [
       "<Figure size 864x288 with 2 Axes>"
      ]
     },
     "metadata": {},
     "output_type": "display_data"
    },
    {
     "data": {
      "image/png": "[encoded data removed]",
      "text/plain": [
       "<Figure size 864x288 with 2 Axes>"
      ]
     },
     "metadata": {},
     "output_type": "display_data"
    }
   ],
   "source": [
    "for lc_df, cls_label in zip([lc_0, lc_1], ['class 0', 'class 1']):\n",
    "    train_lc, test_lc = (pd.DataFrame(lc_df[i], index=lc_df[0]) for i in [1,2])\n",
    "\n",
    "    fig, ax = plt.subplots(1,2, figsize=(12,4), tight_layout=True)\n",
    "    ax[0].plot(train_lc)\n",
    "    ax[1].plot(test_lc)\n",
    "    for i, label in zip([0,1], ['train set', 'test set']):\n",
    "        ax[i].set(\n",
    "            title=f'Cross Validation Splits´ Learning Curves - {label}',\n",
    "            ylabel=f'Recall - {cls_label}',\n",
    "            xlabel='Train size (nº of samples)'\n",
    "        )\n",
    "    plt.show()"
   ]
  },
  {
   "cell_type": "markdown",
   "metadata": {},
   "source": [
    "Conclusions:\n",
    "* Recall for both classes roughly optimized after 3500 samples of each class"
   ]
  },
  {
   "cell_type": "markdown",
   "metadata": {},
   "source": [
    "# Compare different class ratios in train set"
   ]
  },
  {
   "cell_type": "markdown",
   "metadata": {},
   "source": [
    "## Sampling\n",
    "#### Set varying class ratio split params"
   ]
  },
  {
   "cell_type": "code",
   "execution_count": 205,
   "metadata": {},
   "outputs": [
    {
     "data": {
      "text/html": [
       "<div>\n",
       "<style scoped>\n",
       "    .dataframe tbody tr th:only-of-type {\n",
       "        vertical-align: middle;\n",
       "    }\n",
       "\n",
       "    .dataframe tbody tr th {\n",
       "        vertical-align: top;\n",
       "    }\n",
       "\n",
       "    .dataframe thead th {\n",
       "        text-align: right;\n",
       "    }\n",
       "</style>\n",
       "<table border=\"1\" class=\"dataframe\">\n",
       "  <thead>\n",
       "    <tr style=\"text-align: right;\">\n",
       "      <th></th>\n",
       "      <th>Train set</th>\n",
       "      <th>Test set</th>\n",
       "    </tr>\n",
       "    <tr>\n",
       "      <th>Class</th>\n",
       "      <th></th>\n",
       "      <th></th>\n",
       "    </tr>\n",
       "  </thead>\n",
       "  <tbody>\n",
       "    <tr>\n",
       "      <th>0</th>\n",
       "      <td>2003</td>\n",
       "      <td>395229</td>\n",
       "    </tr>\n",
       "    <tr>\n",
       "      <th>1</th>\n",
       "      <td>1002</td>\n",
       "      <td>49085</td>\n",
       "    </tr>\n",
       "  </tbody>\n",
       "</table>\n",
       "</div>"
      ],
      "text/plain": [
       "       Train set  Test set\n",
       "Class                     \n",
       "0           2003    395229\n",
       "1           1002     49085"
      ]
     },
     "metadata": {},
     "output_type": "display_data"
    }
   ],
   "source": [
    "guss = GroupUnderSampleSplit()\n",
    "e_index, left_index = guss.single_split_index(\n",
    "    X, Y, train_size=0.02, train_prct=2, #cnt=None, shuffle=False, random_state=0\n",
    ")\n",
    "print_cls_cnt(Y, e_index, left_index)"
   ]
  },
  {
   "cell_type": "code",
   "execution_count": 206,
   "metadata": {},
   "outputs": [],
   "source": [
    "n_splits = 5\n",
    "max_prct = 3 # 500 % (max majority/minority size)\n",
    "order = 3\n",
    "minority_size = 40000 # samples in class 1\n",
    "majority_size = 397000\n",
    "param_values = max_prct * np.linspace(0.3, 1, n_splits)**order\n",
    "\n",
    "train_size = 0.03\n",
    "test_size = 0.2\n",
    "test_prct = 2\n",
    "\n",
    "minority_test_size = round(minority_size - minority_size * train_size)"
   ]
  },
  {
   "cell_type": "code",
   "execution_count": 207,
   "metadata": {},
   "outputs": [
    {
     "name": "stdout",
     "output_type": "stream",
     "text": [
      "Performing splits - 4/5 splits performed.\n"
     ]
    }
   ],
   "source": [
    "params_list = [{\n",
    "    'train_size': train_size,\n",
    "    'train_prct': {0: round(minority_size * p), 1: minority_size},\n",
    "    'test_size': test_size,\n",
    "    'test_prct': {0: round(minority_test_size * test_prct), 1: minority_test_size},\n",
    "} for p in param_values]\n",
    "\n",
    "guss = GroupUnderSampleSplit(\n",
    "    n_splits=n_splits,\n",
    "    reset_index=False,\n",
    "    remove_duplicates=True,\n",
    "    random_state=0,\n",
    "    verbose=1,\n",
    ")\n",
    "\n",
    "cv = guss.split(X.loc[left_index], Y.loc[left_index], shuffle=True, params_list=params_list)"
   ]
  },
  {
   "cell_type": "code",
   "execution_count": 208,
   "metadata": {},
   "outputs": [],
   "source": [
    "for i in range(n_splits):\n",
    "    cv[i] = (cv[i][0], e_index)"
   ]
  },
  {
   "cell_type": "code",
   "execution_count": 209,
   "metadata": {},
   "outputs": [
    {
     "data": {
      "text/html": [
       "<div>\n",
       "<style scoped>\n",
       "    .dataframe tbody tr th:only-of-type {\n",
       "        vertical-align: middle;\n",
       "    }\n",
       "\n",
       "    .dataframe tbody tr th {\n",
       "        vertical-align: top;\n",
       "    }\n",
       "\n",
       "    .dataframe thead th {\n",
       "        text-align: right;\n",
       "    }\n",
       "</style>\n",
       "<table border=\"1\" class=\"dataframe\">\n",
       "  <thead>\n",
       "    <tr style=\"text-align: right;\">\n",
       "      <th></th>\n",
       "      <th>Train set</th>\n",
       "      <th>Test set</th>\n",
       "    </tr>\n",
       "    <tr>\n",
       "      <th>Class</th>\n",
       "      <th></th>\n",
       "      <th></th>\n",
       "    </tr>\n",
       "  </thead>\n",
       "  <tbody>\n",
       "    <tr>\n",
       "      <th>0</th>\n",
       "      <td>97</td>\n",
       "      <td>2003</td>\n",
       "    </tr>\n",
       "    <tr>\n",
       "      <th>1</th>\n",
       "      <td>1200</td>\n",
       "      <td>1002</td>\n",
       "    </tr>\n",
       "  </tbody>\n",
       "</table>\n",
       "</div>"
      ],
      "text/plain": [
       "       Train set  Test set\n",
       "Class                     \n",
       "0             97      2003\n",
       "1           1200      1002"
      ]
     },
     "metadata": {},
     "output_type": "display_data"
    },
    {
     "data": {
      "text/html": [
       "<div>\n",
       "<style scoped>\n",
       "    .dataframe tbody tr th:only-of-type {\n",
       "        vertical-align: middle;\n",
       "    }\n",
       "\n",
       "    .dataframe tbody tr th {\n",
       "        vertical-align: top;\n",
       "    }\n",
       "\n",
       "    .dataframe thead th {\n",
       "        text-align: right;\n",
       "    }\n",
       "</style>\n",
       "<table border=\"1\" class=\"dataframe\">\n",
       "  <thead>\n",
       "    <tr style=\"text-align: right;\">\n",
       "      <th></th>\n",
       "      <th>Train set</th>\n",
       "      <th>Test set</th>\n",
       "    </tr>\n",
       "    <tr>\n",
       "      <th>Class</th>\n",
       "      <th></th>\n",
       "      <th></th>\n",
       "    </tr>\n",
       "  </thead>\n",
       "  <tbody>\n",
       "    <tr>\n",
       "      <th>0</th>\n",
       "      <td>386</td>\n",
       "      <td>2003</td>\n",
       "    </tr>\n",
       "    <tr>\n",
       "      <th>1</th>\n",
       "      <td>1199</td>\n",
       "      <td>1002</td>\n",
       "    </tr>\n",
       "  </tbody>\n",
       "</table>\n",
       "</div>"
      ],
      "text/plain": [
       "       Train set  Test set\n",
       "Class                     \n",
       "0            386      2003\n",
       "1           1199      1002"
      ]
     },
     "metadata": {},
     "output_type": "display_data"
    },
    {
     "data": {
      "text/html": [
       "<div>\n",
       "<style scoped>\n",
       "    .dataframe tbody tr th:only-of-type {\n",
       "        vertical-align: middle;\n",
       "    }\n",
       "\n",
       "    .dataframe tbody tr th {\n",
       "        vertical-align: top;\n",
       "    }\n",
       "\n",
       "    .dataframe thead th {\n",
       "        text-align: right;\n",
       "    }\n",
       "</style>\n",
       "<table border=\"1\" class=\"dataframe\">\n",
       "  <thead>\n",
       "    <tr style=\"text-align: right;\">\n",
       "      <th></th>\n",
       "      <th>Train set</th>\n",
       "      <th>Test set</th>\n",
       "    </tr>\n",
       "    <tr>\n",
       "      <th>Class</th>\n",
       "      <th></th>\n",
       "      <th></th>\n",
       "    </tr>\n",
       "  </thead>\n",
       "  <tbody>\n",
       "    <tr>\n",
       "      <th>0</th>\n",
       "      <td>988</td>\n",
       "      <td>2003</td>\n",
       "    </tr>\n",
       "    <tr>\n",
       "      <th>1</th>\n",
       "      <td>1200</td>\n",
       "      <td>1002</td>\n",
       "    </tr>\n",
       "  </tbody>\n",
       "</table>\n",
       "</div>"
      ],
      "text/plain": [
       "       Train set  Test set\n",
       "Class                     \n",
       "0            988      2003\n",
       "1           1200      1002"
      ]
     },
     "metadata": {},
     "output_type": "display_data"
    },
    {
     "data": {
      "text/html": [
       "<div>\n",
       "<style scoped>\n",
       "    .dataframe tbody tr th:only-of-type {\n",
       "        vertical-align: middle;\n",
       "    }\n",
       "\n",
       "    .dataframe tbody tr th {\n",
       "        vertical-align: top;\n",
       "    }\n",
       "\n",
       "    .dataframe thead th {\n",
       "        text-align: right;\n",
       "    }\n",
       "</style>\n",
       "<table border=\"1\" class=\"dataframe\">\n",
       "  <thead>\n",
       "    <tr style=\"text-align: right;\">\n",
       "      <th></th>\n",
       "      <th>Train set</th>\n",
       "      <th>Test set</th>\n",
       "    </tr>\n",
       "    <tr>\n",
       "      <th>Class</th>\n",
       "      <th></th>\n",
       "      <th></th>\n",
       "    </tr>\n",
       "  </thead>\n",
       "  <tbody>\n",
       "    <tr>\n",
       "      <th>0</th>\n",
       "      <td>2021</td>\n",
       "      <td>2003</td>\n",
       "    </tr>\n",
       "    <tr>\n",
       "      <th>1</th>\n",
       "      <td>1200</td>\n",
       "      <td>1002</td>\n",
       "    </tr>\n",
       "  </tbody>\n",
       "</table>\n",
       "</div>"
      ],
      "text/plain": [
       "       Train set  Test set\n",
       "Class                     \n",
       "0           2021      2003\n",
       "1           1200      1002"
      ]
     },
     "metadata": {},
     "output_type": "display_data"
    },
    {
     "data": {
      "text/html": [
       "<div>\n",
       "<style scoped>\n",
       "    .dataframe tbody tr th:only-of-type {\n",
       "        vertical-align: middle;\n",
       "    }\n",
       "\n",
       "    .dataframe tbody tr th {\n",
       "        vertical-align: top;\n",
       "    }\n",
       "\n",
       "    .dataframe thead th {\n",
       "        text-align: right;\n",
       "    }\n",
       "</style>\n",
       "<table border=\"1\" class=\"dataframe\">\n",
       "  <thead>\n",
       "    <tr style=\"text-align: right;\">\n",
       "      <th></th>\n",
       "      <th>Train set</th>\n",
       "      <th>Test set</th>\n",
       "    </tr>\n",
       "    <tr>\n",
       "      <th>Class</th>\n",
       "      <th></th>\n",
       "      <th></th>\n",
       "    </tr>\n",
       "  </thead>\n",
       "  <tbody>\n",
       "    <tr>\n",
       "      <th>0</th>\n",
       "      <td>3600</td>\n",
       "      <td>2003</td>\n",
       "    </tr>\n",
       "    <tr>\n",
       "      <th>1</th>\n",
       "      <td>1200</td>\n",
       "      <td>1002</td>\n",
       "    </tr>\n",
       "  </tbody>\n",
       "</table>\n",
       "</div>"
      ],
      "text/plain": [
       "       Train set  Test set\n",
       "Class                     \n",
       "0           3600      2003\n",
       "1           1200      1002"
      ]
     },
     "metadata": {},
     "output_type": "display_data"
    },
    {
     "data": {
      "text/plain": [
       "[None, None, None, None, None]"
      ]
     },
     "execution_count": 209,
     "metadata": {},
     "output_type": "execute_result"
    }
   ],
   "source": [
    "[print_cls_cnt(Y, cv[i][0], cv[i][1]) for i in range(n_splits)]"
   ]
  },
  {
   "cell_type": "markdown",
   "metadata": {},
   "source": [
    "## Defining models"
   ]
  },
  {
   "cell_type": "code",
   "execution_count": 210,
   "metadata": {},
   "outputs": [],
   "source": [
    "from sklearn.pipeline import Pipeline\n",
    "from sklearn.model_selection import GridSearchCV\n",
    "from imblearn.ensemble import (\n",
    "    EasyEnsembleClassifier as EEC, RUSBoostClassifier as RUSBC,\n",
    "    BalancedBaggingClassifier as BBC, BalancedRandomForestClassifier as BRFC\n",
    ")\n",
    "GBC = classifiers['GradientBoostingClassifier']\n",
    "RFC = classifiers['RandomForestClassifier']\n",
    "BC = classifiers['BaggingClassifier']\n",
    "\n",
    "bc = BC(n_estimators=60)\n",
    "rfc = RFC(n_estimators=60)\n",
    "gbc = GBC(n_estimators=60)\n",
    "eec = EEC(n_estimators=60)\n",
    "bbc = BBC(n_estimators=60)\n",
    "brfc = BRFC(n_estimators=60)\n",
    "rusbc = RUSBC(n_estimators=60)\n",
    "models = [bc, rfc, gbc]#, eec, bbc]#, brfc, rusbc]"
   ]
  },
  {
   "cell_type": "markdown",
   "metadata": {},
   "source": [
    "## Cross validation grid search pipeline: Ensemble classifiers comparison"
   ]
  },
  {
   "cell_type": "code",
   "execution_count": 211,
   "metadata": {},
   "outputs": [],
   "source": [
    "estimators = [('model', None)]\n",
    "pipe = Pipeline(estimators)\n",
    "param_grid = {'model': models}"
   ]
  },
  {
   "cell_type": "code",
   "execution_count": 212,
   "metadata": {},
   "outputs": [],
   "source": [
    "grid_search = GridSearchCV(\n",
    "    pipe, param_grid,\n",
    "    cv=cv, scoring=scoring,\n",
    "    refit='recall_macro',\n",
    "    n_jobs=-1, \n",
    "    pre_dispatch='all',\n",
    "    verbose=4\n",
    ")"
   ]
  },
  {
   "cell_type": "code",
   "execution_count": 213,
   "metadata": {},
   "outputs": [
    {
     "name": "stdout",
     "output_type": "stream",
     "text": [
      "Fitting 5 folds for each of 3 candidates, totalling 15 fits\n"
     ]
    }
   ],
   "source": [
    "search_fit = grid_search.fit(X, Y)"
   ]
  },
  {
   "cell_type": "code",
   "execution_count": 214,
   "metadata": {},
   "outputs": [
    {
     "data": {
      "text/html": [
       "<div>\n",
       "<style scoped>\n",
       "    .dataframe tbody tr th:only-of-type {\n",
       "        vertical-align: middle;\n",
       "    }\n",
       "\n",
       "    .dataframe tbody tr th {\n",
       "        vertical-align: top;\n",
       "    }\n",
       "\n",
       "    .dataframe thead th {\n",
       "        text-align: right;\n",
       "    }\n",
       "</style>\n",
       "<table border=\"1\" class=\"dataframe\">\n",
       "  <thead>\n",
       "    <tr style=\"text-align: right;\">\n",
       "      <th></th>\n",
       "      <th>mean_fit_time</th>\n",
       "      <th>std_fit_time</th>\n",
       "      <th>mean_score_time</th>\n",
       "      <th>std_score_time</th>\n",
       "      <th>param_model</th>\n",
       "      <th>params</th>\n",
       "      <th>split0_test_accuracy</th>\n",
       "      <th>split1_test_accuracy</th>\n",
       "      <th>split2_test_accuracy</th>\n",
       "      <th>split3_test_accuracy</th>\n",
       "      <th>split4_test_accuracy</th>\n",
       "      <th>mean_test_accuracy</th>\n",
       "      <th>std_test_accuracy</th>\n",
       "      <th>rank_test_accuracy</th>\n",
       "      <th>split0_test_f1_macro</th>\n",
       "      <th>split1_test_f1_macro</th>\n",
       "      <th>split2_test_f1_macro</th>\n",
       "      <th>split3_test_f1_macro</th>\n",
       "      <th>split4_test_f1_macro</th>\n",
       "      <th>mean_test_f1_macro</th>\n",
       "      <th>std_test_f1_macro</th>\n",
       "      <th>rank_test_f1_macro</th>\n",
       "      <th>split0_test_recall_macro</th>\n",
       "      <th>split1_test_recall_macro</th>\n",
       "      <th>split2_test_recall_macro</th>\n",
       "      <th>split3_test_recall_macro</th>\n",
       "      <th>split4_test_recall_macro</th>\n",
       "      <th>mean_test_recall_macro</th>\n",
       "      <th>std_test_recall_macro</th>\n",
       "      <th>rank_test_recall_macro</th>\n",
       "      <th>split0_test_precision_macro</th>\n",
       "      <th>split1_test_precision_macro</th>\n",
       "      <th>split2_test_precision_macro</th>\n",
       "      <th>split3_test_precision_macro</th>\n",
       "      <th>split4_test_precision_macro</th>\n",
       "      <th>mean_test_precision_macro</th>\n",
       "      <th>std_test_precision_macro</th>\n",
       "      <th>rank_test_precision_macro</th>\n",
       "      <th>split0_test_recall_0</th>\n",
       "      <th>split1_test_recall_0</th>\n",
       "      <th>split2_test_recall_0</th>\n",
       "      <th>split3_test_recall_0</th>\n",
       "      <th>split4_test_recall_0</th>\n",
       "      <th>mean_test_recall_0</th>\n",
       "      <th>std_test_recall_0</th>\n",
       "      <th>rank_test_recall_0</th>\n",
       "      <th>split0_test_recall_1</th>\n",
       "      <th>split1_test_recall_1</th>\n",
       "      <th>split2_test_recall_1</th>\n",
       "      <th>split3_test_recall_1</th>\n",
       "      <th>split4_test_recall_1</th>\n",
       "      <th>mean_test_recall_1</th>\n",
       "      <th>std_test_recall_1</th>\n",
       "      <th>rank_test_recall_1</th>\n",
       "      <th>split0_test_precision_0</th>\n",
       "      <th>split1_test_precision_0</th>\n",
       "      <th>split2_test_precision_0</th>\n",
       "      <th>split3_test_precision_0</th>\n",
       "      <th>split4_test_precision_0</th>\n",
       "      <th>mean_test_precision_0</th>\n",
       "      <th>std_test_precision_0</th>\n",
       "      <th>rank_test_precision_0</th>\n",
       "      <th>split0_test_precision_1</th>\n",
       "      <th>split1_test_precision_1</th>\n",
       "      <th>split2_test_precision_1</th>\n",
       "      <th>split3_test_precision_1</th>\n",
       "      <th>split4_test_precision_1</th>\n",
       "      <th>mean_test_precision_1</th>\n",
       "      <th>std_test_precision_1</th>\n",
       "      <th>rank_test_precision_1</th>\n",
       "    </tr>\n",
       "  </thead>\n",
       "  <tbody>\n",
       "    <tr>\n",
       "      <th>0</th>\n",
       "      <td>3.323019</td>\n",
       "      <td>1.902413</td>\n",
       "      <td>0.158299</td>\n",
       "      <td>0.017414</td>\n",
       "      <td>BaggingClassifier(n_estimators=60)</td>\n",
       "      <td>{'model': BaggingClassifier(n_estimators=60)}</td>\n",
       "      <td>0.339767</td>\n",
       "      <td>0.491181</td>\n",
       "      <td>0.656905</td>\n",
       "      <td>0.724459</td>\n",
       "      <td>0.720466</td>\n",
       "      <td>0.586556</td>\n",
       "      <td>0.149599</td>\n",
       "      <td>2</td>\n",
       "      <td>0.261010</td>\n",
       "      <td>0.482189</td>\n",
       "      <td>0.649665</td>\n",
       "      <td>0.682801</td>\n",
       "      <td>0.610440</td>\n",
       "      <td>0.537221</td>\n",
       "      <td>0.153960</td>\n",
       "      <td>2</td>\n",
       "      <td>0.504494</td>\n",
       "      <td>0.601864</td>\n",
       "      <td>0.685030</td>\n",
       "      <td>0.679096</td>\n",
       "      <td>0.611262</td>\n",
       "      <td>0.616349</td>\n",
       "      <td>0.065424</td>\n",
       "      <td>2</td>\n",
       "      <td>0.643918</td>\n",
       "      <td>0.640626</td>\n",
       "      <td>0.664841</td>\n",
       "      <td>0.688076</td>\n",
       "      <td>0.711624</td>\n",
       "      <td>0.669817</td>\n",
       "      <td>0.026940</td>\n",
       "      <td>3</td>\n",
       "      <td>0.009985</td>\n",
       "      <td>0.269596</td>\n",
       "      <td>0.600599</td>\n",
       "      <td>0.815277</td>\n",
       "      <td>0.939091</td>\n",
       "      <td>0.526910</td>\n",
       "      <td>0.344064</td>\n",
       "      <td>3</td>\n",
       "      <td>0.999002</td>\n",
       "      <td>0.934132</td>\n",
       "      <td>0.769461</td>\n",
       "      <td>0.542914</td>\n",
       "      <td>0.283433</td>\n",
       "      <td>0.705788</td>\n",
       "      <td>0.263470</td>\n",
       "      <td>1</td>\n",
       "      <td>0.952381</td>\n",
       "      <td>0.891089</td>\n",
       "      <td>0.838912</td>\n",
       "      <td>0.780966</td>\n",
       "      <td>0.723740</td>\n",
       "      <td>0.837418</td>\n",
       "      <td>0.080261</td>\n",
       "      <td>2</td>\n",
       "      <td>0.335456</td>\n",
       "      <td>0.390163</td>\n",
       "      <td>0.490770</td>\n",
       "      <td>0.595186</td>\n",
       "      <td>0.699507</td>\n",
       "      <td>0.502216</td>\n",
       "      <td>0.132713</td>\n",
       "      <td>3</td>\n",
       "    </tr>\n",
       "    <tr>\n",
       "      <th>1</th>\n",
       "      <td>0.732493</td>\n",
       "      <td>0.266748</td>\n",
       "      <td>0.074348</td>\n",
       "      <td>0.006058</td>\n",
       "      <td>RandomForestClassifier(n_estimators=60)</td>\n",
       "      <td>{'model': RandomForestClassifier(n_estimators=60)}</td>\n",
       "      <td>0.333777</td>\n",
       "      <td>0.454908</td>\n",
       "      <td>0.668220</td>\n",
       "      <td>0.735774</td>\n",
       "      <td>0.707820</td>\n",
       "      <td>0.580100</td>\n",
       "      <td>0.157899</td>\n",
       "      <td>3</td>\n",
       "      <td>0.250624</td>\n",
       "      <td>0.436509</td>\n",
       "      <td>0.659681</td>\n",
       "      <td>0.677318</td>\n",
       "      <td>0.568621</td>\n",
       "      <td>0.518551</td>\n",
       "      <td>0.158838</td>\n",
       "      <td>3</td>\n",
       "      <td>0.500250</td>\n",
       "      <td>0.579393</td>\n",
       "      <td>0.692270</td>\n",
       "      <td>0.668132</td>\n",
       "      <td>0.583323</td>\n",
       "      <td>0.604673</td>\n",
       "      <td>0.068847</td>\n",
       "      <td>3</td>\n",
       "      <td>0.666778</td>\n",
       "      <td>0.636351</td>\n",
       "      <td>0.670981</td>\n",
       "      <td>0.704331</td>\n",
       "      <td>0.708550</td>\n",
       "      <td>0.677398</td>\n",
       "      <td>0.026588</td>\n",
       "      <td>1</td>\n",
       "      <td>0.000499</td>\n",
       "      <td>0.205691</td>\n",
       "      <td>0.620070</td>\n",
       "      <td>0.871193</td>\n",
       "      <td>0.957064</td>\n",
       "      <td>0.530904</td>\n",
       "      <td>0.372143</td>\n",
       "      <td>2</td>\n",
       "      <td>1.000000</td>\n",
       "      <td>0.953094</td>\n",
       "      <td>0.764471</td>\n",
       "      <td>0.465070</td>\n",
       "      <td>0.209581</td>\n",
       "      <td>0.678443</td>\n",
       "      <td>0.300530</td>\n",
       "      <td>3</td>\n",
       "      <td>1.000000</td>\n",
       "      <td>0.897603</td>\n",
       "      <td>0.840325</td>\n",
       "      <td>0.765015</td>\n",
       "      <td>0.707641</td>\n",
       "      <td>0.842117</td>\n",
       "      <td>0.102017</td>\n",
       "      <td>1</td>\n",
       "      <td>0.333555</td>\n",
       "      <td>0.375098</td>\n",
       "      <td>0.501637</td>\n",
       "      <td>0.643646</td>\n",
       "      <td>0.709459</td>\n",
       "      <td>0.512679</td>\n",
       "      <td>0.146295</td>\n",
       "      <td>2</td>\n",
       "    </tr>\n",
       "    <tr>\n",
       "      <th>2</th>\n",
       "      <td>1.223156</td>\n",
       "      <td>0.411166</td>\n",
       "      <td>0.029229</td>\n",
       "      <td>0.007137</td>\n",
       "      <td>GradientBoostingClassifier(n_estimators=60)</td>\n",
       "      <td>{'model': GradientBoostingClassifier(n_estimators=60)}</td>\n",
       "      <td>0.340433</td>\n",
       "      <td>0.483527</td>\n",
       "      <td>0.672213</td>\n",
       "      <td>0.739434</td>\n",
       "      <td>0.733111</td>\n",
       "      <td>0.593744</td>\n",
       "      <td>0.156921</td>\n",
       "      <td>1</td>\n",
       "      <td>0.262471</td>\n",
       "      <td>0.474259</td>\n",
       "      <td>0.662334</td>\n",
       "      <td>0.688812</td>\n",
       "      <td>0.625467</td>\n",
       "      <td>0.542669</td>\n",
       "      <td>0.158571</td>\n",
       "      <td>1</td>\n",
       "      <td>0.504743</td>\n",
       "      <td>0.593629</td>\n",
       "      <td>0.692024</td>\n",
       "      <td>0.680603</td>\n",
       "      <td>0.623741</td>\n",
       "      <td>0.618948</td>\n",
       "      <td>0.067599</td>\n",
       "      <td>1</td>\n",
       "      <td>0.627785</td>\n",
       "      <td>0.629738</td>\n",
       "      <td>0.670730</td>\n",
       "      <td>0.706976</td>\n",
       "      <td>0.742457</td>\n",
       "      <td>0.675537</td>\n",
       "      <td>0.044424</td>\n",
       "      <td>2</td>\n",
       "      <td>0.011483</td>\n",
       "      <td>0.263105</td>\n",
       "      <td>0.632551</td>\n",
       "      <td>0.857214</td>\n",
       "      <td>0.952072</td>\n",
       "      <td>0.543285</td>\n",
       "      <td>0.356354</td>\n",
       "      <td>1</td>\n",
       "      <td>0.998004</td>\n",
       "      <td>0.924152</td>\n",
       "      <td>0.751497</td>\n",
       "      <td>0.503992</td>\n",
       "      <td>0.295409</td>\n",
       "      <td>0.694611</td>\n",
       "      <td>0.262172</td>\n",
       "      <td>2</td>\n",
       "      <td>0.920000</td>\n",
       "      <td>0.873964</td>\n",
       "      <td>0.835752</td>\n",
       "      <td>0.775519</td>\n",
       "      <td>0.729812</td>\n",
       "      <td>0.827009</td>\n",
       "      <td>0.067863</td>\n",
       "      <td>3</td>\n",
       "      <td>0.335570</td>\n",
       "      <td>0.385512</td>\n",
       "      <td>0.505709</td>\n",
       "      <td>0.638432</td>\n",
       "      <td>0.755102</td>\n",
       "      <td>0.524065</td>\n",
       "      <td>0.155899</td>\n",
       "      <td>1</td>\n",
       "    </tr>\n",
       "  </tbody>\n",
       "</table>\n",
       "</div>"
      ],
      "text/plain": [
       "   mean_fit_time  std_fit_time  mean_score_time  std_score_time  \\\n",
       "0       3.323019      1.902413         0.158299        0.017414   \n",
       "1       0.732493      0.266748         0.074348        0.006058   \n",
       "2       1.223156      0.411166         0.029229        0.007137   \n",
       "\n",
       "                                   param_model  \\\n",
       "0           BaggingClassifier(n_estimators=60)   \n",
       "1      RandomForestClassifier(n_estimators=60)   \n",
       "2  GradientBoostingClassifier(n_estimators=60)   \n",
       "\n",
       "                                                   params  \\\n",
       "0           {'model': BaggingClassifier(n_estimators=60)}   \n",
       "1      {'model': RandomForestClassifier(n_estimators=60)}   \n",
       "2  {'model': GradientBoostingClassifier(n_estimators=60)}   \n",
       "\n",
       "   split0_test_accuracy  split1_test_accuracy  split2_test_accuracy  \\\n",
       "0              0.339767              0.491181              0.656905   \n",
       "1              0.333777              0.454908              0.668220   \n",
       "2              0.340433              0.483527              0.672213   \n",
       "\n",
       "   split3_test_accuracy  split4_test_accuracy  mean_test_accuracy  \\\n",
       "0              0.724459              0.720466            0.586556   \n",
       "1              0.735774              0.707820            0.580100   \n",
       "2              0.739434              0.733111            0.593744   \n",
       "\n",
       "   std_test_accuracy  rank_test_accuracy  split0_test_f1_macro  \\\n",
       "0           0.149599                   2              0.261010   \n",
       "1           0.157899                   3              0.250624   \n",
       "2           0.156921                   1              0.262471   \n",
       "\n",
       "   split1_test_f1_macro  split2_test_f1_macro  split3_test_f1_macro  \\\n",
       "0              0.482189              0.649665              0.682801   \n",
       "1              0.436509              0.659681              0.677318   \n",
       "2              0.474259              0.662334              0.688812   \n",
       "\n",
       "   split4_test_f1_macro  mean_test_f1_macro  std_test_f1_macro  \\\n",
       "0              0.610440            0.537221           0.153960   \n",
       "1              0.568621            0.518551           0.158838   \n",
       "2              0.625467            0.542669           0.158571   \n",
       "\n",
       "   rank_test_f1_macro  split0_test_recall_macro  split1_test_recall_macro  \\\n",
       "0                   2                  0.504494                  0.601864   \n",
       "1                   3                  0.500250                  0.579393   \n",
       "2                   1                  0.504743                  0.593629   \n",
       "\n",
       "   split2_test_recall_macro  split3_test_recall_macro  \\\n",
       "0                  0.685030                  0.679096   \n",
       "1                  0.692270                  0.668132   \n",
       "2                  0.692024                  0.680603   \n",
       "\n",
       "   split4_test_recall_macro  mean_test_recall_macro  std_test_recall_macro  \\\n",
       "0                  0.611262                0.616349               0.065424   \n",
       "1                  0.583323                0.604673               0.068847   \n",
       "2                  0.623741                0.618948               0.067599   \n",
       "\n",
       "   rank_test_recall_macro  split0_test_precision_macro  \\\n",
       "0                       2                     0.643918   \n",
       "1                       3                     0.666778   \n",
       "2                       1                     0.627785   \n",
       "\n",
       "   split1_test_precision_macro  split2_test_precision_macro  \\\n",
       "0                     0.640626                     0.664841   \n",
       "1                     0.636351                     0.670981   \n",
       "2                     0.629738                     0.670730   \n",
       "\n",
       "   split3_test_precision_macro  split4_test_precision_macro  \\\n",
       "0                     0.688076                     0.711624   \n",
       "1                     0.704331                     0.708550   \n",
       "2                     0.706976                     0.742457   \n",
       "\n",
       "   mean_test_precision_macro  std_test_precision_macro  \\\n",
       "0                   0.669817                  0.026940   \n",
       "1                   0.677398                  0.026588   \n",
       "2                   0.675537                  0.044424   \n",
       "\n",
       "   rank_test_precision_macro  split0_test_recall_0  split1_test_recall_0  \\\n",
       "0                          3              0.009985              0.269596   \n",
       "1                          1              0.000499              0.205691   \n",
       "2                          2              0.011483              0.263105   \n",
       "\n",
       "   split2_test_recall_0  split3_test_recall_0  split4_test_recall_0  \\\n",
       "0              0.600599              0.815277              0.939091   \n",
       "1              0.620070              0.871193              0.957064   \n",
       "2              0.632551              0.857214              0.952072   \n",
       "\n",
       "   mean_test_recall_0  std_test_recall_0  rank_test_recall_0  \\\n",
       "0            0.526910           0.344064                   3   \n",
       "1            0.530904           0.372143                   2   \n",
       "2            0.543285           0.356354                   1   \n",
       "\n",
       "   split0_test_recall_1  split1_test_recall_1  split2_test_recall_1  \\\n",
       "0              0.999002              0.934132              0.769461   \n",
       "1              1.000000              0.953094              0.764471   \n",
       "2              0.998004              0.924152              0.751497   \n",
       "\n",
       "   split3_test_recall_1  split4_test_recall_1  mean_test_recall_1  \\\n",
       "0              0.542914              0.283433            0.705788   \n",
       "1              0.465070              0.209581            0.678443   \n",
       "2              0.503992              0.295409            0.694611   \n",
       "\n",
       "   std_test_recall_1  rank_test_recall_1  split0_test_precision_0  \\\n",
       "0           0.263470                   1                 0.952381   \n",
       "1           0.300530                   3                 1.000000   \n",
       "2           0.262172                   2                 0.920000   \n",
       "\n",
       "   split1_test_precision_0  split2_test_precision_0  split3_test_precision_0  \\\n",
       "0                 0.891089                 0.838912                 0.780966   \n",
       "1                 0.897603                 0.840325                 0.765015   \n",
       "2                 0.873964                 0.835752                 0.775519   \n",
       "\n",
       "   split4_test_precision_0  mean_test_precision_0  std_test_precision_0  \\\n",
       "0                 0.723740               0.837418              0.080261   \n",
       "1                 0.707641               0.842117              0.102017   \n",
       "2                 0.729812               0.827009              0.067863   \n",
       "\n",
       "   rank_test_precision_0  split0_test_precision_1  split1_test_precision_1  \\\n",
       "0                      2                 0.335456                 0.390163   \n",
       "1                      1                 0.333555                 0.375098   \n",
       "2                      3                 0.335570                 0.385512   \n",
       "\n",
       "   split2_test_precision_1  split3_test_precision_1  split4_test_precision_1  \\\n",
       "0                 0.490770                 0.595186                 0.699507   \n",
       "1                 0.501637                 0.643646                 0.709459   \n",
       "2                 0.505709                 0.638432                 0.755102   \n",
       "\n",
       "   mean_test_precision_1  std_test_precision_1  rank_test_precision_1  \n",
       "0               0.502216              0.132713                      3  \n",
       "1               0.512679              0.146295                      2  \n",
       "2               0.524065              0.155899                      1  "
      ]
     },
     "execution_count": 214,
     "metadata": {},
     "output_type": "execute_result"
    }
   ],
   "source": [
    "search_res = pd.DataFrame(search_fit.cv_results_); search_res"
   ]
  },
  {
   "cell_type": "code",
   "execution_count": 216,
   "metadata": {},
   "outputs": [
    {
     "data": {
      "text/plain": [
       "<matplotlib.axes._subplots.AxesSubplot at 0x1f55ba2feb0>"
      ]
     },
     "execution_count": 216,
     "metadata": {},
     "output_type": "execute_result"
    },
    {
     "data": {
      "image/png": "[encoded data removed]",
      "text/plain": [
       "<Figure size 576x360 with 1 Axes>"
      ]
     },
     "metadata": {},
     "output_type": "display_data"
    }
   ],
   "source": [
    "ratio_cols = [f'split{i}_test_precision_macro' for i in range(n_splits)]\n",
    "ratio_scrs = search_res.set_index('param_model')[ratio_cols].T.set_index(param_values)\n",
    "\n",
    "fig, ax = plt.subplots(figsize=(8,5))\n",
    "ratio_scrs.plot(ax=ax)"
   ]
  },
  {
   "cell_type": "markdown",
   "metadata": {},
   "source": [
    "# Validation curve: Optimizing n_estimators parameter"
   ]
  },
  {
   "cell_type": "code",
   "execution_count": 17,
   "metadata": {},
   "outputs": [
    {
     "name": "stderr",
     "output_type": "stream",
     "text": [
      "[Parallel(n_jobs=-1)]: Using backend LokyBackend with 4 concurrent workers.\n",
      "[Parallel(n_jobs=-1)]: Done  23 out of  45 | elapsed:   31.8s remaining:   30.5s\n",
      "[Parallel(n_jobs=-1)]: Done  45 out of  45 | elapsed:  1.1min finished\n"
     ]
    }
   ],
   "source": [
    "order=2\n",
    "n_max = 100\n",
    "param_range = (n_max * np.linspace(0, 1, 9)**order).round().astype(int)\n",
    "vc_cv = vc(\n",
    "    model,\n",
    "    X,\n",
    "    Y,\n",
    "    param_name='n_estimators',\n",
    "    param_range=param_range,\n",
    "#     groups=x[group_col],\n",
    "    cv=sus,\n",
    "    scoring='recall_macro',\n",
    "    n_jobs=-1,\n",
    "    verbose=2,\n",
    ")"
   ]
  },
  {
   "cell_type": "code",
   "execution_count": 18,
   "metadata": {},
   "outputs": [
    {
     "data": {
      "image/png": "[encoded data removed]",
      "text/plain": [
       "<Figure size 864x288 with 2 Axes>"
      ]
     },
     "metadata": {},
     "output_type": "display_data"
    }
   ],
   "source": [
    "train_vc, test_vc = (pd.DataFrame(vc_cv[i], index=param_range) for i in [0, 1])\n",
    "\n",
    "fig, ax = plt.subplots(1,2, figsize=(12,4), tight_layout=True)\n",
    "ax[0].plot(train_vc)\n",
    "ax[1].plot(test_vc)\n",
    "plt.show()"
   ]
  },
  {
   "cell_type": "markdown",
   "metadata": {},
   "source": [
    "Conclusions: \n",
    "* n estimators parameter optimized after approximattely 60 estimators"
   ]
  },
  {
   "cell_type": "markdown",
   "metadata": {},
   "source": [
    "# Imbalanced Models"
   ]
  },
  {
   "cell_type": "code",
   "execution_count": 21,
   "metadata": {},
   "outputs": [],
   "source": [
    "from imblearn.ensemble import EasyEnsembleClassifier \n",
    "eec = EasyEnsembleClassifier(random_state=42)"
   ]
  },
  {
   "cell_type": "code",
   "execution_count": 30,
   "metadata": {},
   "outputs": [],
   "source": [
    "sss = StratifiedShuffleSplit(n_splits=5, test_size=0.2, train_size=0.1, random_state=0)"
   ]
  },
  {
   "cell_type": "code",
   "execution_count": 31,
   "metadata": {},
   "outputs": [
    {
     "name": "stderr",
     "output_type": "stream",
     "text": [
      "[Parallel(n_jobs=-1)]: Using backend LokyBackend with 4 concurrent workers.\n",
      "[Parallel(n_jobs=-1)]: Done   2 out of   5 | elapsed:  1.6min remaining:  2.4min\n",
      "[Parallel(n_jobs=-1)]: Done   5 out of   5 | elapsed:  2.2min finished\n"
     ]
    }
   ],
   "source": [
    "imb_cv = CV(eec, X, Y, cv=sss,\n",
    "              groups=None, scoring=scoring,\n",
    "              n_jobs=-1, verbose=5)"
   ]
  },
  {
   "cell_type": "code",
   "execution_count": 35,
   "metadata": {},
   "outputs": [],
   "source": [
    "from imblearn.ensemble \n",
    "\n",
    "rbc = RUSBoostClassifier(random_state=0)"
   ]
  },
  {
   "cell_type": "code",
   "execution_count": 32,
   "metadata": {},
   "outputs": [],
   "source": [
    "imb_df = cv_df(imb_cv, scoring)"
   ]
  },
  {
   "cell_type": "code",
   "execution_count": 33,
   "metadata": {},
   "outputs": [
    {
     "data": {
      "text/html": [
       "<div>\n",
       "<style scoped>\n",
       "    .dataframe tbody tr th:only-of-type {\n",
       "        vertical-align: middle;\n",
       "    }\n",
       "\n",
       "    .dataframe tbody tr th {\n",
       "        vertical-align: top;\n",
       "    }\n",
       "\n",
       "    .dataframe thead th {\n",
       "        text-align: right;\n",
       "    }\n",
       "</style>\n",
       "<table border=\"1\" class=\"dataframe\">\n",
       "  <thead>\n",
       "    <tr style=\"text-align: right;\">\n",
       "      <th></th>\n",
       "      <th>accuracy</th>\n",
       "      <th>f1_macro</th>\n",
       "      <th>recall_macro</th>\n",
       "      <th>precision_macro</th>\n",
       "      <th>recall_0</th>\n",
       "      <th>recall_1</th>\n",
       "      <th>precision_0</th>\n",
       "      <th>precision_1</th>\n",
       "    </tr>\n",
       "  </thead>\n",
       "  <tbody>\n",
       "    <tr>\n",
       "      <th>0</th>\n",
       "      <td>0.718155</td>\n",
       "      <td>0.585379</td>\n",
       "      <td>0.701458</td>\n",
       "      <td>0.591732</td>\n",
       "      <td>0.722973</td>\n",
       "      <td>0.679944</td>\n",
       "      <td>0.947134</td>\n",
       "      <td>0.236329</td>\n",
       "    </tr>\n",
       "    <tr>\n",
       "      <th>1</th>\n",
       "      <td>0.712857</td>\n",
       "      <td>0.581353</td>\n",
       "      <td>0.698737</td>\n",
       "      <td>0.589711</td>\n",
       "      <td>0.716931</td>\n",
       "      <td>0.680543</td>\n",
       "      <td>0.946807</td>\n",
       "      <td>0.232614</td>\n",
       "    </tr>\n",
       "    <tr>\n",
       "      <th>2</th>\n",
       "      <td>0.712085</td>\n",
       "      <td>0.580696</td>\n",
       "      <td>0.698128</td>\n",
       "      <td>0.589341</td>\n",
       "      <td>0.716113</td>\n",
       "      <td>0.680144</td>\n",
       "      <td>0.946686</td>\n",
       "      <td>0.231995</td>\n",
       "    </tr>\n",
       "    <tr>\n",
       "      <th>3</th>\n",
       "      <td>0.715327</td>\n",
       "      <td>0.583606</td>\n",
       "      <td>0.701087</td>\n",
       "      <td>0.591055</td>\n",
       "      <td>0.719436</td>\n",
       "      <td>0.682739</td>\n",
       "      <td>0.947327</td>\n",
       "      <td>0.234783</td>\n",
       "    </tr>\n",
       "    <tr>\n",
       "      <th>4</th>\n",
       "      <td>0.715573</td>\n",
       "      <td>0.582039</td>\n",
       "      <td>0.696253</td>\n",
       "      <td>0.589266</td>\n",
       "      <td>0.721147</td>\n",
       "      <td>0.671359</td>\n",
       "      <td>0.945663</td>\n",
       "      <td>0.232868</td>\n",
       "    </tr>\n",
       "  </tbody>\n",
       "</table>\n",
       "</div>"
      ],
      "text/plain": [
       "   accuracy  f1_macro  recall_macro  precision_macro  recall_0  recall_1  \\\n",
       "0  0.718155  0.585379      0.701458         0.591732  0.722973  0.679944   \n",
       "1  0.712857  0.581353      0.698737         0.589711  0.716931  0.680543   \n",
       "2  0.712085  0.580696      0.698128         0.589341  0.716113  0.680144   \n",
       "3  0.715327  0.583606      0.701087         0.591055  0.719436  0.682739   \n",
       "4  0.715573  0.582039      0.696253         0.589266  0.721147  0.671359   \n",
       "\n",
       "   precision_0  precision_1  \n",
       "0     0.947134     0.236329  \n",
       "1     0.946807     0.232614  \n",
       "2     0.946686     0.231995  \n",
       "3     0.947327     0.234783  \n",
       "4     0.945663     0.232868  "
      ]
     },
     "execution_count": 33,
     "metadata": {},
     "output_type": "execute_result"
    }
   ],
   "source": [
    "imb_df"
   ]
  },
  {
   "cell_type": "markdown",
   "metadata": {},
   "source": [
    "# Evaluate models on test data for multiple metrics"
   ]
  },
  {
   "cell_type": "code",
   "execution_count": 121,
   "metadata": {},
   "outputs": [
    {
     "name": "stdout",
     "output_type": "stream",
     "text": [
      "HistGradientBoostingClassifier\n"
     ]
    },
    {
     "data": {
      "text/html": [
       "<div>\n",
       "<style scoped>\n",
       "    .dataframe tbody tr th:only-of-type {\n",
       "        vertical-align: middle;\n",
       "    }\n",
       "\n",
       "    .dataframe tbody tr th {\n",
       "        vertical-align: top;\n",
       "    }\n",
       "\n",
       "    .dataframe thead th {\n",
       "        text-align: right;\n",
       "    }\n",
       "</style>\n",
       "<table border=\"1\" class=\"dataframe\">\n",
       "  <thead>\n",
       "    <tr style=\"text-align: right;\">\n",
       "      <th></th>\n",
       "      <th>accuracy</th>\n",
       "      <th>precision</th>\n",
       "      <th>recall</th>\n",
       "    </tr>\n",
       "  </thead>\n",
       "  <tbody>\n",
       "    <tr>\n",
       "      <th>GradientBoostingClassifier</th>\n",
       "      <td>0.695230</td>\n",
       "      <td>0.707714</td>\n",
       "      <td>0.684254</td>\n",
       "    </tr>\n",
       "    <tr>\n",
       "      <th>RandomForestClassifier</th>\n",
       "      <td>0.685381</td>\n",
       "      <td>0.733143</td>\n",
       "      <td>0.663392</td>\n",
       "    </tr>\n",
       "    <tr>\n",
       "      <th>ExtraTreesClassifier</th>\n",
       "      <td>0.685099</td>\n",
       "      <td>0.716000</td>\n",
       "      <td>0.668267</td>\n",
       "    </tr>\n",
       "    <tr>\n",
       "      <th>HistGradientBoostingClassifier</th>\n",
       "      <td>0.681441</td>\n",
       "      <td>0.687429</td>\n",
       "      <td>0.672819</td>\n",
       "    </tr>\n",
       "    <tr>\n",
       "      <th>RidgeClassifierCV</th>\n",
       "      <td>0.679471</td>\n",
       "      <td>0.653143</td>\n",
       "      <td>0.682388</td>\n",
       "    </tr>\n",
       "    <tr>\n",
       "      <th>RidgeClassifier</th>\n",
       "      <td>0.679190</td>\n",
       "      <td>0.652571</td>\n",
       "      <td>0.682198</td>\n",
       "    </tr>\n",
       "  </tbody>\n",
       "</table>\n",
       "</div>"
      ],
      "text/plain": [
       "                                accuracy  precision    recall\n",
       "GradientBoostingClassifier      0.695230   0.707714  0.684254\n",
       "RandomForestClassifier          0.685381   0.733143  0.663392\n",
       "ExtraTreesClassifier            0.685099   0.716000  0.668267\n",
       "HistGradientBoostingClassifier  0.681441   0.687429  0.672819\n",
       "RidgeClassifierCV               0.679471   0.653143  0.682388\n",
       "RidgeClassifier                 0.679190   0.652571  0.682198"
      ]
     },
     "execution_count": 121,
     "metadata": {},
     "output_type": "execute_result"
    }
   ],
   "source": [
    "scrs = Classifier().scr(models, x, y, xe, ye, scoring=['accuracy', 'precision', 'recall'])\n",
    "scrs.sort_values('accuracy', ascending=False).head(6)"
   ]
  },
  {
   "cell_type": "markdown",
   "metadata": {},
   "source": [
    "# Evaluate models using cross validation"
   ]
  },
  {
   "cell_type": "code",
   "execution_count": 122,
   "metadata": {},
   "outputs": [],
   "source": [
    "cv_scrs = Classifier().cv_scr(models, x, y, cv=5)"
   ]
  },
  {
   "cell_type": "code",
   "execution_count": 123,
   "metadata": {},
   "outputs": [
    {
     "data": {
      "text/html": [
       "<div>\n",
       "<style scoped>\n",
       "    .dataframe tbody tr th:only-of-type {\n",
       "        vertical-align: middle;\n",
       "    }\n",
       "\n",
       "    .dataframe tbody tr th {\n",
       "        vertical-align: top;\n",
       "    }\n",
       "\n",
       "    .dataframe thead th {\n",
       "        text-align: right;\n",
       "    }\n",
       "</style>\n",
       "<table border=\"1\" class=\"dataframe\">\n",
       "  <thead>\n",
       "    <tr style=\"text-align: right;\">\n",
       "      <th></th>\n",
       "      <th>count</th>\n",
       "      <th>mean</th>\n",
       "      <th>std</th>\n",
       "      <th>min</th>\n",
       "      <th>25%</th>\n",
       "      <th>50%</th>\n",
       "      <th>75%</th>\n",
       "      <th>max</th>\n",
       "    </tr>\n",
       "  </thead>\n",
       "  <tbody>\n",
       "    <tr>\n",
       "      <th>GradientBoostingClassifier</th>\n",
       "      <td>5.0</td>\n",
       "      <td>0.702135</td>\n",
       "      <td>0.013269</td>\n",
       "      <td>0.684729</td>\n",
       "      <td>0.694581</td>\n",
       "      <td>0.702791</td>\n",
       "      <td>0.709360</td>\n",
       "      <td>0.719212</td>\n",
       "    </tr>\n",
       "    <tr>\n",
       "      <th>RandomForestClassifier</th>\n",
       "      <td>5.0</td>\n",
       "      <td>0.697537</td>\n",
       "      <td>0.023349</td>\n",
       "      <td>0.665025</td>\n",
       "      <td>0.691297</td>\n",
       "      <td>0.691297</td>\n",
       "      <td>0.715928</td>\n",
       "      <td>0.724138</td>\n",
       "    </tr>\n",
       "    <tr>\n",
       "      <th>ExtraTreesClassifier</th>\n",
       "      <td>5.0</td>\n",
       "      <td>0.684072</td>\n",
       "      <td>0.018010</td>\n",
       "      <td>0.653530</td>\n",
       "      <td>0.686371</td>\n",
       "      <td>0.688013</td>\n",
       "      <td>0.691297</td>\n",
       "      <td>0.701149</td>\n",
       "    </tr>\n",
       "    <tr>\n",
       "      <th>AdaBoostClassifier</th>\n",
       "      <td>5.0</td>\n",
       "      <td>0.680788</td>\n",
       "      <td>0.008888</td>\n",
       "      <td>0.666667</td>\n",
       "      <td>0.681445</td>\n",
       "      <td>0.681445</td>\n",
       "      <td>0.683087</td>\n",
       "      <td>0.691297</td>\n",
       "    </tr>\n",
       "    <tr>\n",
       "      <th>HistGradientBoostingClassifier</th>\n",
       "      <td>5.0</td>\n",
       "      <td>0.678161</td>\n",
       "      <td>0.012343</td>\n",
       "      <td>0.661741</td>\n",
       "      <td>0.674877</td>\n",
       "      <td>0.678161</td>\n",
       "      <td>0.679803</td>\n",
       "      <td>0.696223</td>\n",
       "    </tr>\n",
       "    <tr>\n",
       "      <th>RidgeClassifierCV</th>\n",
       "      <td>5.0</td>\n",
       "      <td>0.677833</td>\n",
       "      <td>0.012740</td>\n",
       "      <td>0.656814</td>\n",
       "      <td>0.674877</td>\n",
       "      <td>0.684729</td>\n",
       "      <td>0.684729</td>\n",
       "      <td>0.688013</td>\n",
       "    </tr>\n",
       "    <tr>\n",
       "      <th>RidgeClassifier</th>\n",
       "      <td>5.0</td>\n",
       "      <td>0.676847</td>\n",
       "      <td>0.012473</td>\n",
       "      <td>0.658456</td>\n",
       "      <td>0.669951</td>\n",
       "      <td>0.681445</td>\n",
       "      <td>0.686371</td>\n",
       "      <td>0.688013</td>\n",
       "    </tr>\n",
       "    <tr>\n",
       "      <th>LinearDiscriminantAnalysis</th>\n",
       "      <td>5.0</td>\n",
       "      <td>0.676190</td>\n",
       "      <td>0.013002</td>\n",
       "      <td>0.656814</td>\n",
       "      <td>0.671593</td>\n",
       "      <td>0.676519</td>\n",
       "      <td>0.688013</td>\n",
       "      <td>0.688013</td>\n",
       "    </tr>\n",
       "  </tbody>\n",
       "</table>\n",
       "</div>"
      ],
      "text/plain": [
       "                                count      mean       std       min       25%  \\\n",
       "GradientBoostingClassifier        5.0  0.702135  0.013269  0.684729  0.694581   \n",
       "RandomForestClassifier            5.0  0.697537  0.023349  0.665025  0.691297   \n",
       "ExtraTreesClassifier              5.0  0.684072  0.018010  0.653530  0.686371   \n",
       "AdaBoostClassifier                5.0  0.680788  0.008888  0.666667  0.681445   \n",
       "HistGradientBoostingClassifier    5.0  0.678161  0.012343  0.661741  0.674877   \n",
       "RidgeClassifierCV                 5.0  0.677833  0.012740  0.656814  0.674877   \n",
       "RidgeClassifier                   5.0  0.676847  0.012473  0.658456  0.669951   \n",
       "LinearDiscriminantAnalysis        5.0  0.676190  0.013002  0.656814  0.671593   \n",
       "\n",
       "                                     50%       75%       max  \n",
       "GradientBoostingClassifier      0.702791  0.709360  0.719212  \n",
       "RandomForestClassifier          0.691297  0.715928  0.724138  \n",
       "ExtraTreesClassifier            0.688013  0.691297  0.701149  \n",
       "AdaBoostClassifier              0.681445  0.683087  0.691297  \n",
       "HistGradientBoostingClassifier  0.678161  0.679803  0.696223  \n",
       "RidgeClassifierCV               0.684729  0.684729  0.688013  \n",
       "RidgeClassifier                 0.681445  0.686371  0.688013  \n",
       "LinearDiscriminantAnalysis      0.676519  0.688013  0.688013  "
      ]
     },
     "execution_count": 123,
     "metadata": {},
     "output_type": "execute_result"
    }
   ],
   "source": [
    "co(wait=True); cv_scrs.T.sort_values('mean', ascending=False)"
   ]
  },
  {
   "cell_type": "markdown",
   "metadata": {},
   "source": [
    "#### Selecting best performing models based on cross validation"
   ]
  },
  {
   "cell_type": "code",
   "execution_count": 124,
   "metadata": {},
   "outputs": [],
   "source": [
    "top_models = cv_scrs.loc['mean'].sort_values(ascending=False).head(10).index.tolist()"
   ]
  },
  {
   "cell_type": "markdown",
   "metadata": {},
   "source": [
    "top_models = [\n",
    "    'GradientBoostingClassifier', 'ExtraTreesClassifier', 'RandomForestClassifier',\n",
    "    'HistGradientBoostingClassifier', 'SVC', 'AdaBoostClassifier', 'RidgeClassifier',\n",
    "    'LinearDiscriminantAnalysis', 'LogisticRegression', 'RidgeClassifierCV'\n",
    "]"
   ]
  },
  {
   "cell_type": "markdown",
   "metadata": {},
   "source": [
    "# Baseline classifier cross validation"
   ]
  },
  {
   "cell_type": "code",
   "execution_count": 120,
   "metadata": {},
   "outputs": [],
   "source": [
    "from sklearn.utils import all_estimators\n",
    "from sklearn.model_selection import cross_val_score as cvs"
   ]
  },
  {
   "cell_type": "code",
   "execution_count": 121,
   "metadata": {},
   "outputs": [],
   "source": [
    "classifiers = dict(all_estimators('classifier'))\n",
    "model_name = 'GradientBoostingClassifier'\n",
    "model = classifiers[model_name]"
   ]
  },
  {
   "cell_type": "code",
   "execution_count": 122,
   "metadata": {},
   "outputs": [
    {
     "data": {
      "text/plain": [
       "count    9.000000\n",
       "mean     0.684902\n",
       "std      0.014465\n",
       "min      0.656285\n",
       "25%      0.681111\n",
       "50%      0.685206\n",
       "75%      0.689655\n",
       "max      0.706667\n",
       "dtype: float64"
      ]
     },
     "execution_count": 122,
     "metadata": {},
     "output_type": "execute_result"
    }
   ],
   "source": [
    "cv_scrs = cvs(model(), x, y, cv=9)\n",
    "co(wait=True); pd.Series(cv_scrs).describe()"
   ]
  },
  {
   "cell_type": "markdown",
   "metadata": {},
   "source": [
    "### Classification report on unseen data"
   ]
  },
  {
   "cell_type": "code",
   "execution_count": 123,
   "metadata": {},
   "outputs": [],
   "source": [
    "from sklearn.metrics import classification_report as cr, confusion_matrix as cm"
   ]
  },
  {
   "cell_type": "code",
   "execution_count": 132,
   "metadata": {},
   "outputs": [
    {
     "name": "stdout",
     "output_type": "stream",
     "text": [
      "              precision    recall  f1-score   support\n",
      "\n",
      "           0       0.70      0.68      0.69      1037\n",
      "           1       0.67      0.69      0.68       987\n",
      "\n",
      "    accuracy                           0.68      2024\n",
      "   macro avg       0.68      0.68      0.68      2024\n",
      "weighted avg       0.68      0.68      0.68      2024\n",
      "\n"
     ]
    }
   ],
   "source": [
    "yp = model().fit(x, y).predict(xe)\n",
    "\n",
    "print(cr(ye, yp))"
   ]
  },
  {
   "cell_type": "markdown",
   "metadata": {},
   "source": [
    "### Confusion Matrix"
   ]
  },
  {
   "cell_type": "code",
   "execution_count": 125,
   "metadata": {},
   "outputs": [
    {
     "data": {
      "text/plain": [
       "<matplotlib.axes._subplots.AxesSubplot at 0x1604ac03b20>"
      ]
     },
     "execution_count": 125,
     "metadata": {},
     "output_type": "execute_result"
    },
    {
     "data": {
      "image/png": "[encoded data removed]",
      "text/plain": [
       "<Figure size 432x288 with 1 Axes>"
      ]
     },
     "metadata": {},
     "output_type": "display_data"
    }
   ],
   "source": [
    "sns.heatmap(cm(ye, yp), annot=True, cbar=False, fmt='.0f')"
   ]
  },
  {
   "cell_type": "markdown",
   "metadata": {},
   "source": [
    "---\n",
    "# FEATURE SELECTION"
   ]
  },
  {
   "cell_type": "code",
   "execution_count": 126,
   "metadata": {},
   "outputs": [],
   "source": [
    "from sklearn.utils import all_estimators\n",
    "classifiers = dict(all_estimators('classifier'))\n",
    "model_name = 'GradientBoostingClassifier'\n",
    "model = classifiers[model_name]"
   ]
  },
  {
   "cell_type": "markdown",
   "metadata": {},
   "source": [
    "# Fit baseline model and retrieve feature importances"
   ]
  },
  {
   "cell_type": "code",
   "execution_count": 127,
   "metadata": {},
   "outputs": [],
   "source": [
    "feature_importance = pd.Series(model().fit(x, y).feature_importances_, index=X.columns).sort_values(ascending=False)"
   ]
  },
  {
   "cell_type": "code",
   "execution_count": 128,
   "metadata": {},
   "outputs": [
    {
     "data": {
      "image/png": "[encoded data removed]",
      "text/plain": [
       "<Figure size 504x360 with 1 Axes>"
      ]
     },
     "metadata": {},
     "output_type": "display_data"
    }
   ],
   "source": [
    "first, n_first = 1, 20\n",
    "fig, ax = plt.subplots(figsize=(7,5), tight_layout=True)\n",
    "feature_importance.iloc[first-1:n_first].plot.bar(ax=ax);\n",
    "plt.title(f'Drug use model - {model_name}');\n",
    "plt.ylabel('Feature importance'); plt.show()"
   ]
  },
  {
   "cell_type": "markdown",
   "metadata": {},
   "source": [
    "# Fitting and scoring baseline model up to max_features=15 most import features"
   ]
  },
  {
   "cell_type": "code",
   "execution_count": 129,
   "metadata": {},
   "outputs": [
    {
     "name": "stdout",
     "output_type": "stream",
     "text": [
      "Scoring model for 30/30 most important features.\n"
     ]
    }
   ],
   "source": [
    "RFI = recursive_feature_inclusion(x, xe, y, ye, feature_importance, max_features=30, first_feature=1)"
   ]
  },
  {
   "cell_type": "code",
   "execution_count": 130,
   "metadata": {},
   "outputs": [
    {
     "data": {
      "image/png": "[encoded data removed]",
      "text/plain": [
       "<Figure size 432x396 with 1 Axes>"
      ]
     },
     "metadata": {},
     "output_type": "display_data"
    }
   ],
   "source": [
    "for rfe in [RFI]:\n",
    "    fig, ax = plt.subplots(figsize=(6, 5.5), tight_layout=True)\n",
    "    rfe.plot(marker='o', ax=ax)\n",
    "    ax.set_xticks(range(len(rfe)))\n",
    "    ax.set_xticklabels(rfe.index, rotation=90)\n",
    "    ax.set(title='Recursive feature inclusion', xlabel='Feature', ylabel='Evaluation')\n",
    "    plt.show()"
   ]
  },
  {
   "cell_type": "markdown",
   "metadata": {},
   "source": [
    "# Classification report for baseline model of selected features"
   ]
  },
  {
   "cell_type": "code",
   "execution_count": 150,
   "metadata": {},
   "outputs": [
    {
     "name": "stdout",
     "output_type": "stream",
     "text": [
      "              precision    recall  f1-score   support\n",
      "\n",
      "           0       0.70      0.63      0.66      3607\n",
      "           1       0.66      0.72      0.68      3500\n",
      "\n",
      "    accuracy                           0.68      7107\n",
      "   macro avg       0.68      0.68      0.67      7107\n",
      "weighted avg       0.68      0.68      0.67      7107\n",
      "\n"
     ]
    }
   ],
   "source": [
    "selected_features = feature_importance[:4].index.tolist()# + ['ID_MUNICIPIO', 'ID_ESCOLA', 'ID_TURMA']\n",
    "xt_s = x[selected_features]; xe_s = xe[selected_features]\n",
    "yp_sel = model().fit(xt_s, y).predict(xe_s)\n",
    "\n",
    "print(cr(ye, yp_sel))"
   ]
  },
  {
   "cell_type": "markdown",
   "metadata": {},
   "source": [
    "# Understanding selected features"
   ]
  },
  {
   "cell_type": "code",
   "execution_count": 142,
   "metadata": {},
   "outputs": [],
   "source": [
    "selected = [\n",
    "    'TX_RESP_Q004', 'TX_RESP_Q048',\n",
    "    'TX_RESP_Q045', 'TX_RESP_Q050',\n",
    "]"
   ]
  },
  {
   "cell_type": "code",
   "execution_count": 143,
   "metadata": {},
   "outputs": [
    {
     "data": {
      "text/html": [
       "<div>\n",
       "<style scoped>\n",
       "    .dataframe tbody tr th:only-of-type {\n",
       "        vertical-align: middle;\n",
       "    }\n",
       "\n",
       "    .dataframe tbody tr th {\n",
       "        vertical-align: top;\n",
       "    }\n",
       "\n",
       "    .dataframe thead th {\n",
       "        text-align: right;\n",
       "    }\n",
       "</style>\n",
       "<table border=\"1\" class=\"dataframe\">\n",
       "  <thead>\n",
       "    <tr style=\"text-align: right;\">\n",
       "      <th>questão</th>\n",
       "      <th>TX_RESP_Q004</th>\n",
       "      <th>TX_RESP_Q048</th>\n",
       "      <th>TX_RESP_Q045</th>\n",
       "      <th>TX_RESP_Q050</th>\n",
       "    </tr>\n",
       "  </thead>\n",
       "  <tbody>\n",
       "    <tr>\n",
       "      <th>Enunciado</th>\n",
       "      <td>Qual a sua idade?</td>\n",
       "      <td>Você já foi reprovado?</td>\n",
       "      <td>Você trabalha fora de casa?</td>\n",
       "      <td>Você faz o dever de casa de língua portuguesa?</td>\n",
       "    </tr>\n",
       "    <tr>\n",
       "      <th>A</th>\n",
       "      <td>8 anos ou menos.</td>\n",
       "      <td>Não.</td>\n",
       "      <td>Sim.</td>\n",
       "      <td>Sempre ou quase sempre.</td>\n",
       "    </tr>\n",
       "    <tr>\n",
       "      <th>B</th>\n",
       "      <td>9 anos.</td>\n",
       "      <td>Sim, uma vez.</td>\n",
       "      <td>Não.</td>\n",
       "      <td>De vez em quando.</td>\n",
       "    </tr>\n",
       "    <tr>\n",
       "      <th>C</th>\n",
       "      <td>10 anos.</td>\n",
       "      <td>Sim, duas vezes ou mais.</td>\n",
       "      <td></td>\n",
       "      <td>Nunca ou quase nunca.</td>\n",
       "    </tr>\n",
       "    <tr>\n",
       "      <th>D</th>\n",
       "      <td>11 anos.</td>\n",
       "      <td></td>\n",
       "      <td></td>\n",
       "      <td></td>\n",
       "    </tr>\n",
       "    <tr>\n",
       "      <th>E</th>\n",
       "      <td>12 anos.</td>\n",
       "      <td></td>\n",
       "      <td></td>\n",
       "      <td></td>\n",
       "    </tr>\n",
       "    <tr>\n",
       "      <th>F</th>\n",
       "      <td>13 anos.</td>\n",
       "      <td></td>\n",
       "      <td></td>\n",
       "      <td></td>\n",
       "    </tr>\n",
       "    <tr>\n",
       "      <th>G</th>\n",
       "      <td>14 anos.</td>\n",
       "      <td></td>\n",
       "      <td></td>\n",
       "      <td></td>\n",
       "    </tr>\n",
       "    <tr>\n",
       "      <th>H</th>\n",
       "      <td>15 anos ou mais</td>\n",
       "      <td></td>\n",
       "      <td></td>\n",
       "      <td></td>\n",
       "    </tr>\n",
       "  </tbody>\n",
       "</table>\n",
       "</div>"
      ],
      "text/plain": [
       "questão         TX_RESP_Q004              TX_RESP_Q048  \\\n",
       "Enunciado  Qual a sua idade?    Você já foi reprovado?   \n",
       "A           8 anos ou menos.                      Não.   \n",
       "B                    9 anos.             Sim, uma vez.   \n",
       "C                   10 anos.  Sim, duas vezes ou mais.   \n",
       "D                   11 anos.                             \n",
       "E                   12 anos.                             \n",
       "F                   13 anos.                             \n",
       "G                   14 anos.                             \n",
       "H            15 anos ou mais                             \n",
       "\n",
       "questão                   TX_RESP_Q045  \\\n",
       "Enunciado  Você trabalha fora de casa?   \n",
       "A                                 Sim.   \n",
       "B                                 Não.   \n",
       "C                                        \n",
       "D                                        \n",
       "E                                        \n",
       "F                                        \n",
       "G                                        \n",
       "H                                        \n",
       "\n",
       "questão                                      TX_RESP_Q050  \n",
       "Enunciado  Você faz o dever de casa de língua portuguesa?  \n",
       "A                                 Sempre ou quase sempre.  \n",
       "B                                       De vez em quando.  \n",
       "C                                   Nunca ou quase nunca.  \n",
       "D                                                          \n",
       "E                                                          \n",
       "F                                                          \n",
       "G                                                          \n",
       "H                                                          "
      ]
     },
     "execution_count": 143,
     "metadata": {},
     "output_type": "execute_result"
    }
   ],
   "source": [
    "pd.concat([dicts[5].loc[[col]] for col in selected]).T.dropna(how='all').replace(np.nan, '')"
   ]
  },
  {
   "cell_type": "markdown",
   "metadata": {},
   "source": [
    "---\n",
    "# BINARY CLASSIFICATION MODELS USING NEURAL NETWORKS"
   ]
  },
  {
   "cell_type": "code",
   "execution_count": 14,
   "metadata": {},
   "outputs": [],
   "source": [
    "import torch\n",
    "import torch.nn as nn"
   ]
  },
  {
   "cell_type": "markdown",
   "metadata": {},
   "source": [
    "### Resampling"
   ]
  },
  {
   "cell_type": "code",
   "execution_count": 19,
   "metadata": {},
   "outputs": [
    {
     "name": "stdout",
     "output_type": "stream",
     "text": [
      "Training classes count:\n",
      " 1    10065\n",
      "0    10065\n",
      "Name: TX_RESP_Q049, dtype: int64\n",
      "\n",
      "Test percentage:\n",
      " 79.9 %\n"
     ]
    }
   ],
   "source": [
    "### Sample students from random 20% of cities\n",
    "### Train test split based on school classes\n",
    "xt, xe_, yt, ye_ = tts_categorical(x_, y_, cnt, test_size=0.8, col='ID_MUNICIPIO')\n",
    "print('Training classes count:\\n', yt.value_counts())\n",
    "print('\\nTest percentage:\\n', round(xe_.shape[0] / (xt.shape[0] + xe_.shape[0])*100, 1), '%')"
   ]
  },
  {
   "cell_type": "code",
   "execution_count": 20,
   "metadata": {},
   "outputs": [
    {
     "name": "stdout",
     "output_type": "stream",
     "text": [
      "Training classes count:\n",
      " 0    7105\n",
      "1    6986\n",
      "Name: TX_RESP_Q049, dtype: int64\n",
      "\n",
      "Test percentage:\n",
      " 30.0 %\n"
     ]
    }
   ],
   "source": [
    "from sklearn.model_selection import train_test_split as tts\n",
    "x, xe, y, ye = tts(xt, yt, test_size=0.3, random_state=999)\n",
    "### Train test split based on school classes\n",
    "# xt, _xe, yt, _ye = tts_categorical(x, y, cnt, test_size=0.75, col='ID_MUNICIPIO')\n",
    "print('Training classes count:\\n', y.value_counts())\n",
    "print('\\nTest percentage:\\n', round(xe.shape[0] / (x.shape[0] + xe.shape[0])*100, 1), '%')"
   ]
  },
  {
   "cell_type": "code",
   "execution_count": 23,
   "metadata": {},
   "outputs": [
    {
     "data": {
      "text/plain": [
       "((14091, 68), (6039, 68))"
      ]
     },
     "execution_count": 23,
     "metadata": {},
     "output_type": "execute_result"
    }
   ],
   "source": [
    "x.shape, xe.shape"
   ]
  },
  {
   "cell_type": "code",
   "execution_count": 38,
   "metadata": {},
   "outputs": [
    {
     "name": "stdout",
     "output_type": "stream",
     "text": [
      "Epoch: 80/80\n"
     ]
    }
   ],
   "source": [
    "nn_params = {\n",
    "#     'test_size': 0.3,\n",
    "    'hidden_layers': [68*10],\n",
    "    'initial_params': {'weight': 0, 'bias': 0},\n",
    "    # 'criterion': None\n",
    "    'optimizer': torch.optim.SGD,\n",
    "    'activation': 'sigmoid',\n",
    "    'epochs': 80,\n",
    "    'batch_size': 1000,\n",
    "    'lr': 1,\n",
    "    'momentum': 0,\n",
    "}\n",
    "\n",
    "criteria_dict = {\n",
    "    'BCELoss': nn.BCELoss,\n",
    "#     'L1Loss': nn.L1Loss,\n",
    "#     'MSELoss': nn.MSELoss,\n",
    "#     'HuberLoss': nn.HuberLoss\n",
    "}\n",
    "\n",
    "eval_i = {}\n",
    "for label, criteria in criteria_dict.items():\n",
    "    eval_i[label] = execute_neural_net(\n",
    "        x, y, xe, ye,\n",
    "        criterion=criteria,\n",
    "        **nn_params,\n",
    "    )"
   ]
  },
  {
   "cell_type": "markdown",
   "metadata": {},
   "source": [
    "### Comparing neural network test predictions for different loss functions"
   ]
  },
  {
   "cell_type": "code",
   "execution_count": 39,
   "metadata": {},
   "outputs": [
    {
     "data": {
      "image/png": "[encoded data removed]",
      "text/plain": [
       "<Figure size 1080x216 with 3 Axes>"
      ]
     },
     "metadata": {},
     "output_type": "display_data"
    }
   ],
   "source": [
    "plot_learning_curve_comparison(eval_i, figsize=(15,3), tight_layout=True, legend=True)"
   ]
  },
  {
   "cell_type": "code",
   "execution_count": 758,
   "metadata": {},
   "outputs": [
    {
     "data": {
      "text/plain": [
       "['PESO',\n",
       " 'PROFICIENCIA_LP',\n",
       " 'DESVIO_PADRAO_LP',\n",
       " 'PROFICIENCIA_LP_SAEB',\n",
       " 'DESVIO_PADRAO_LP_SAEB',\n",
       " 'PROFICIENCIA_MT',\n",
       " 'DESVIO_PADRAO_MT',\n",
       " 'PROFICIENCIA_MT_SAEB',\n",
       " 'DESVIO_PADRAO_MT_SAEB']"
      ]
     },
     "execution_count": 758,
     "metadata": {},
     "output_type": "execute_result"
    }
   ],
   "source": [
    "grades"
   ]
  }
 ],
 "metadata": {
  "kernelspec": {
   "display_name": "Python 3",
   "language": "python",
   "name": "python3"
  },
  "language_info": {
   "codemirror_mode": {
    "name": "ipython",
    "version": 3
   },
   "file_extension": ".py",
   "mimetype": "text/x-python",
   "name": "python",
   "nbconvert_exporter": "python",
   "pygments_lexer": "ipython3",
   "version": "3.8.3"
  }
 },
 "nbformat": 4,
 "nbformat_minor": 4
}
