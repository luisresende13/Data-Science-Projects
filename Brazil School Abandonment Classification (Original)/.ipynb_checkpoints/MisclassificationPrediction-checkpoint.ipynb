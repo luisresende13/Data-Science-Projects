{
 "cells": [
  {
   "cell_type": "markdown",
   "metadata": {},
   "source": [
    "#### Importing modules"
   ]
  },
  {
   "cell_type": "code",
   "execution_count": 5,
   "metadata": {},
   "outputs": [],
   "source": [
    "import os\n",
    "import pandas as pd\n",
    "pd.set_option('max_colwidth', None)\n",
    "pd.set_option('max_columns', None)\n",
    "import numpy as np; np.random.seed(0)\n",
    "import matplotlib.pyplot as plt\n",
    "import seaborn as sns; sns.set()\n",
    "# from datetime import datetime\n",
    "from IPython.display import clear_output as co\n",
    "\n",
    "from sklearn.preprocessing import binarize \n",
    "from sklearn.metrics import classification_report as cr\n",
    "import sklearn.metrics as metrics\n",
    "\n",
    "from cv_samplers import GroupUnderSampleSplit, target_categorical_distribution, categorical_undersampling\n",
    "\n",
    "from sklearn.utils import all_estimators; classifiers = dict(all_estimators('classifier'))\n",
    "from imblearn.ensemble import ( # Random under sample integrated ensemble models\n",
    "    BalancedBaggingClassifier as BBC,\n",
    "    BalancedRandomForestClassifier as BRFC,\n",
    "    RUSBoostClassifier as RUSBC\n",
    ")\n",
    "from sklearn.ensemble import ( # Ensemble models\n",
    "    GradientBoostingClassifier as GBC, RandomForestClassifier as RFC\n",
    ")"
   ]
  },
  {
   "cell_type": "code",
   "execution_count": 6,
   "metadata": {},
   "outputs": [],
   "source": [
    "from sklearn.linear_model import (  # Linear models\n",
    "    LogisticRegressionCV as LRCV, RidgeClassifierCV as RCCV\n",
    ")\n",
    "\n",
    "from sklearn.svm import SVC\n",
    "\n",
    "from sklearn.pipeline import Pipeline\n",
    "from sklearn.model_selection import GridSearchCV, RandomizedSearchCV, cross_validate as CV\n",
    "from sklearn.decomposition import PCA\n",
    "\n",
    "from sklearn import metrics"
   ]
  },
  {
   "cell_type": "markdown",
   "metadata": {},
   "source": [
    "#### Defining functions and performance metrics"
   ]
  },
  {
   "cell_type": "code",
   "execution_count": 47,
   "metadata": {},
   "outputs": [],
   "source": [
    "def cv_df(cv_res, scoring):\n",
    "    return pd.DataFrame({scr: cv_res['test_'+scr] for scr in scoring})\n",
    "\n",
    "def print_cls_cnt(Y, t_ind, e_ind):\n",
    "    cls_cnt = pd.concat([Y[ind].value_counts().rename(col).to_frame() for ind, col in zip([t_ind, e_ind], ['Train set', 'Test set'])], 1)\n",
    "    cls_cnt.index.name = 'Class'\n",
    "    display(cls_cnt.fillna(''))\n",
    "    \n",
    "def print_intra_cls_cnt(y, groups, prct=False):\n",
    "    inner_cnt = [y[groups==label].value_counts().rename(f'{label}') for label in groups.unique()]\n",
    "    outter_total = [y.value_counts().rename('total - inner')]\n",
    "    inner_total = [groups.value_counts().rename('total - outer')]\n",
    "    counts = inner_cnt + outter_total + inner_total\n",
    "    \n",
    "    intra_cls_cnt = pd.concat(counts, 1)\n",
    "    intra_cls_cnt.columns.name='outer class'; intra_cls_cnt.index.name='inner class (target)'\n",
    "    \n",
    "    if prct:\n",
    "        intra_cls_cnt['0 (% - outer)'] = 100 * (intra_cls_cnt.loc[0, ['0', '1']].values / intra_cls_cnt['total - outer']).values\n",
    "        intra_cls_cnt['1 (% - outer)'] = 100 * (intra_cls_cnt.loc[1, ['0', '1']].values / intra_cls_cnt['total - outer']).values\n",
    "        intra_cls_cnt['0 (% - inner)'] = 100 * (intra_cls_cnt['0'].values / intra_cls_cnt['total - inner']).values\n",
    "        intra_cls_cnt['1 (% - inner)'] = 100 * (intra_cls_cnt['1'].values / intra_cls_cnt['total - inner']).values        \n",
    "         \n",
    "    display(intra_cls_cnt.round(1).fillna(''))\n",
    "\n",
    "class IntraClassRandomUnderSample:\n",
    "\n",
    "    def __init__(self,\n",
    "        minority_prct=1,   # controls intra class majority/minority percentage inside outer minority class. None corresponds to original intra class percentage.\n",
    "        minority_size=1, # percentage of maximum size of minority class sample having intra 'minority_prct' majority/minority class ratio\n",
    "        majority_prct=1,\n",
    "        majority_size=1,\n",
    "        reset_index=False,\n",
    "    ):\n",
    "        self.minority_prct = minority_prct\n",
    "        self.minority_size = minority_size\n",
    "        self.majority_prct = majority_prct\n",
    "        self.majority_size = majority_size\n",
    "        self.reset_index = reset_index\n",
    "        \n",
    "    def n_splits(self, _x, _y, groups, n_splits=5, shuffle=True, replace=False, random_state=None, reset_index=False):\n",
    "        cv = []            \n",
    "        for i in range(n_splits):\n",
    "            co(wait=True); print(f'Performing cross validation splits. {i}/{n_splits} splits performed.')\n",
    "            rs = random_state + i if random_state is not None else None\n",
    "            xt, xe, yt, ye = self.split(_x, _y, groups, shuffle, replace, random_state=rs)\n",
    "            cv.append((yt.index.tolist(), ye.index.tolist()))\n",
    "        print(f'Done! {n_splits} cv splits performed.')\n",
    "        return cv\n",
    "        \n",
    "    def split(self, _x, _y, groups, shuffle=True, replace=False, random_state=None):\n",
    "\n",
    "        x, y, _groups = _x.copy(), _y.copy(), groups.copy()\n",
    "        if self.reset_index:\n",
    "            for Z in (x, y, _groups): Z.reset_index(drop=True, inplace=True) \n",
    "        pred_inc = pd.concat([y, _groups], 1).reset_index().set_index([y.name, _groups.name])\n",
    "        if shuffle: pred_inc = pred_inc.sample(pred_inc.shape[0], replace=False, random_state=random_state)\n",
    "        cls_cnt = pred_inc.reset_index().groupby(pred_inc.index.names).count()\n",
    "\n",
    "        index_mino_i = [(0,1), (1,1)]\n",
    "        prct_i = [self.majority_prct, self.minority_prct]\n",
    "        size_i = [self.majority_size, self.minority_size]\n",
    "\n",
    "        n_samples_i = []\n",
    "        for index, prct, size in zip(index_mino_i, prct_i, size_i):\n",
    "            n_samples_i += [int(round(cls_cnt.loc[(index)]['index'] * p)) for p in [prct * size, size]]  # (0,0), (0,1) OR (1,0), (1,1)\n",
    "        train_index = []\n",
    "        index_i = [(0,0), (0,1), (1,0), (1,1)]\n",
    "        for index, n_samples in zip(index_i, n_samples_i):\n",
    "            train_index += pred_inc.loc[index].sample(n_samples, replace=replace, random_state=random_state)['index'].tolist()\n",
    "        test_index = list(set(y.index.tolist()).difference(train_index))\n",
    "\n",
    "        if shuffle:\n",
    "            rand_gen = np.random.default_rng(random_state)\n",
    "            rand_gen.shuffle(train_index); rand_gen.shuffle(test_index)\n",
    "\n",
    "        return x.loc[train_index], x.loc[test_index], y.loc[train_index], y.loc[test_index]"
   ]
  },
  {
   "cell_type": "code",
   "execution_count": 67,
   "metadata": {},
   "outputs": [],
   "source": [
    "recall_0, recall_1 = (metrics.make_scorer(metrics.recall_score, pos_label=i) for i in (0, 1))\n",
    "scoring = {\n",
    "#     'accuracy': 'accuracy',\n",
    "    'f1':'f1', #'f1_macro': 'f1_macro',\n",
    "    'recall_macro': metrics.make_scorer(metrics.recall_score, average='macro'),\n",
    "#     'precision_macro': 'precision_macro',\n",
    "    'recall_0': recall_0, 'recall_1': recall_1,\n",
    "#     'precision_0': precision_0, 'precision_1': precision_1,\n",
    "}"
   ]
  },
  {
   "cell_type": "markdown",
   "metadata": {},
   "source": [
    "---\n",
    "# LOADING DATA"
   ]
  },
  {
   "cell_type": "code",
   "execution_count": 8,
   "metadata": {},
   "outputs": [],
   "source": [
    "data = pd.read_csv('data/grades/5th_grade.csv', index_col=0)\n",
    "data.drop('ID_ALUNO', 1, inplace=True)\n",
    "\n",
    "# Loading data information dictionaries\n",
    "data_path = '/Users/luisr/Desktop/Repositories/Data/saep/CSV/{}'\n",
    "grades = [5,9,3]; dict_filenames = [f'dicionario {i}ano.csv' for i in grades]\n",
    "dicts = {grade: pd.read_csv(data_path.format(filename)).set_index('questão') for grade, filename in zip(grades, dict_filenames)}\n",
    "\n",
    "#### Defining target variables corresponding to each student grade\n",
    "targets = { # Abandonment\n",
    "    5: 'TX_RESP_Q049',\n",
    "    9: 'TX_RESP_Q050',\n",
    "    12: 'TX_RESP_Q044',\n",
    "}\n",
    "grade = 5\n",
    "target = targets[grade]\n",
    "\n",
    "#### List different types of features\n",
    "ids = data.columns[:10].tolist()\n",
    "questions = data.columns[10:64].tolist()\n",
    "grades = data.columns[64:].tolist()"
   ]
  },
  {
   "cell_type": "markdown",
   "metadata": {},
   "source": [
    "---\n",
    "# DATA TRANSFORMATION"
   ]
  },
  {
   "cell_type": "code",
   "execution_count": 9,
   "metadata": {},
   "outputs": [
    {
     "data": {
      "text/html": [
       "<div>\n",
       "<style scoped>\n",
       "    .dataframe tbody tr th:only-of-type {\n",
       "        vertical-align: middle;\n",
       "    }\n",
       "\n",
       "    .dataframe tbody tr th {\n",
       "        vertical-align: top;\n",
       "    }\n",
       "\n",
       "    .dataframe thead th {\n",
       "        text-align: right;\n",
       "    }\n",
       "</style>\n",
       "<table border=\"1\" class=\"dataframe\">\n",
       "  <thead>\n",
       "    <tr style=\"text-align: right;\">\n",
       "      <th></th>\n",
       "      <th>Target variable class count</th>\n",
       "    </tr>\n",
       "  </thead>\n",
       "  <tbody>\n",
       "    <tr>\n",
       "      <th>0</th>\n",
       "      <td>397232</td>\n",
       "    </tr>\n",
       "    <tr>\n",
       "      <th>1</th>\n",
       "      <td>50087</td>\n",
       "    </tr>\n",
       "  </tbody>\n",
       "</table>\n",
       "</div>"
      ],
      "text/plain": [
       "   Target variable class count\n",
       "0                       397232\n",
       "1                        50087"
      ]
     },
     "metadata": {},
     "output_type": "display_data"
    }
   ],
   "source": [
    "# eliminate rows where the target variable value is missing. obs: last label represent missing values (Label 3)\n",
    "modeling_data = data[data[target]!=data[target].max()].copy()\n",
    "# target variable binary conversion\n",
    "modeling_data[target] = binarize(modeling_data[[target]], threshold=0.5).reshape(-1)\n",
    "\n",
    "# reset data index\n",
    "modeling_data.reset_index(drop=True)\n",
    "\n",
    "# define X and Y\n",
    "Y = modeling_data[target].copy()\n",
    "X = modeling_data.drop(target, 1)\n",
    "\n",
    "# FILLING MISSING VALUES WITH VARIABLES' MEANS\n",
    "for grade in grades:\n",
    "    X[grade].fillna(X[grade].mean(), inplace=True)\n",
    "    \n",
    "# target variable class count\n",
    "display(Y.value_counts().rename('Target variable class count').to_frame())"
   ]
  },
  {
   "cell_type": "markdown",
   "metadata": {},
   "source": [
    "---\n",
    "# BASE LINE SCHOOL ABANDONMENT CLASSIFICATION MODEL\n",
    "#### Assume the test universe is balanced"
   ]
  },
  {
   "cell_type": "markdown",
   "metadata": {},
   "source": [
    "### Undersample Split data"
   ]
  },
  {
   "cell_type": "code",
   "execution_count": 795,
   "metadata": {},
   "outputs": [
    {
     "data": {
      "text/html": [
       "<div>\n",
       "<style scoped>\n",
       "    .dataframe tbody tr th:only-of-type {\n",
       "        vertical-align: middle;\n",
       "    }\n",
       "\n",
       "    .dataframe tbody tr th {\n",
       "        vertical-align: top;\n",
       "    }\n",
       "\n",
       "    .dataframe thead th {\n",
       "        text-align: right;\n",
       "    }\n",
       "</style>\n",
       "<table border=\"1\" class=\"dataframe\">\n",
       "  <thead>\n",
       "    <tr style=\"text-align: right;\">\n",
       "      <th></th>\n",
       "      <th>Train set</th>\n",
       "      <th>Test set</th>\n",
       "    </tr>\n",
       "    <tr>\n",
       "      <th>Class</th>\n",
       "      <th></th>\n",
       "      <th></th>\n",
       "    </tr>\n",
       "  </thead>\n",
       "  <tbody>\n",
       "    <tr>\n",
       "      <th>1</th>\n",
       "      <td>2003</td>\n",
       "      <td>47583</td>\n",
       "    </tr>\n",
       "    <tr>\n",
       "      <th>0</th>\n",
       "      <td>2003</td>\n",
       "      <td>47583</td>\n",
       "    </tr>\n",
       "  </tbody>\n",
       "</table>\n",
       "</div>"
      ],
      "text/plain": [
       "       Train set  Test set\n",
       "Class                     \n",
       "1           2003     47583\n",
       "0           2003     47583"
      ]
     },
     "metadata": {},
     "output_type": "display_data"
    }
   ],
   "source": [
    "guss = GroupUnderSampleSplit(\n",
    "    train_size=0.04, train_prct=1,\n",
    "    test_size=0.95, test_prct=1,# key_col='ID_TURMA',\n",
    "    random_state=0,\n",
    "    reset_index=False,\n",
    "    remove_duplicates=True,\n",
    "    verbose=1\n",
    ")\n",
    "# xt, xe, yt, ye = guss.undersample(X, Y, cnt=None, shuffle=True, random_state=0)\n",
    "xt, xe, yt, ye = guss.train_test_undersample(X, Y, cnt=None, shuffle=True, random_state=0)\n",
    "t_index, e_index = yt.index.to_list(), ye.index.to_list()\n",
    "print_cls_cnt(Y, t_index, e_index)"
   ]
  },
  {
   "cell_type": "markdown",
   "metadata": {},
   "source": [
    "### Fit, predict, score base line model for entire remaining dataset (test data)"
   ]
  },
  {
   "cell_type": "code",
   "execution_count": 910,
   "metadata": {},
   "outputs": [
    {
     "name": "stdout",
     "output_type": "stream",
     "text": [
      "              precision    recall  f1-score   support\n",
      "\n",
      "           0       0.69      0.69      0.69     47583\n",
      "           1       0.69      0.70      0.69     47583\n",
      "\n",
      "    accuracy                           0.69     95166\n",
      "   macro avg       0.69      0.69      0.69     95166\n",
      "weighted avg       0.69      0.69      0.69     95166\n",
      "\n"
     ]
    }
   ],
   "source": [
    "baseline = BRFC()\n",
    "\n",
    "baseline_fit = baseline.fit(xt, yt)\n",
    "yp = pd.Series(baseline_fit.predict(xe), index=xe.index)\n",
    "yprob = baseline_fit.predict_proba(xe)\n",
    "\n",
    "print(metrics.classification_report(ye, yp))"
   ]
  },
  {
   "cell_type": "code",
   "execution_count": 797,
   "metadata": {},
   "outputs": [
    {
     "data": {
      "text/plain": [
       "array([0, 1, 0, 1, 0, 0, 0, 1, 1, 1], dtype=int64)"
      ]
     },
     "execution_count": 797,
     "metadata": {},
     "output_type": "execute_result"
    }
   ],
   "source": [
    "ye.values[:10] # true values"
   ]
  },
  {
   "cell_type": "code",
   "execution_count": 798,
   "metadata": {},
   "outputs": [
    {
     "data": {
      "text/plain": [
       "array([1, 1, 1, 0, 0, 0, 0, 0, 1, 0], dtype=int64)"
      ]
     },
     "execution_count": 798,
     "metadata": {},
     "output_type": "execute_result"
    }
   ],
   "source": [
    "yp.values[:10] # baseline prediction"
   ]
  },
  {
   "cell_type": "markdown",
   "metadata": {},
   "source": [
    "# MODELING CORRECT/INCORRECT PREDICTION VARIABLE"
   ]
  },
  {
   "cell_type": "markdown",
   "metadata": {},
   "source": [
    "## Define 'incorrect prediction' variable"
   ]
  },
  {
   "cell_type": "code",
   "execution_count": 799,
   "metadata": {},
   "outputs": [
    {
     "data": {
      "text/html": [
       "<div>\n",
       "<style scoped>\n",
       "    .dataframe tbody tr th:only-of-type {\n",
       "        vertical-align: middle;\n",
       "    }\n",
       "\n",
       "    .dataframe tbody tr th {\n",
       "        vertical-align: top;\n",
       "    }\n",
       "\n",
       "    .dataframe thead th {\n",
       "        text-align: right;\n",
       "    }\n",
       "</style>\n",
       "<table border=\"1\" class=\"dataframe\">\n",
       "  <thead>\n",
       "    <tr style=\"text-align: right;\">\n",
       "      <th>outer class</th>\n",
       "      <th>1</th>\n",
       "      <th>0</th>\n",
       "      <th>total - inner</th>\n",
       "      <th>total - outer</th>\n",
       "      <th>0 (% - outer)</th>\n",
       "      <th>1 (% - outer)</th>\n",
       "      <th>0 (% - inner)</th>\n",
       "      <th>1 (% - inner)</th>\n",
       "    </tr>\n",
       "    <tr>\n",
       "      <th>inner class (target)</th>\n",
       "      <th></th>\n",
       "      <th></th>\n",
       "      <th></th>\n",
       "      <th></th>\n",
       "      <th></th>\n",
       "      <th></th>\n",
       "      <th></th>\n",
       "      <th></th>\n",
       "    </tr>\n",
       "  </thead>\n",
       "  <tbody>\n",
       "    <tr>\n",
       "      <th>0</th>\n",
       "      <td>14769</td>\n",
       "      <td>32814</td>\n",
       "      <td>47583</td>\n",
       "      <td>66145</td>\n",
       "      <td>49.6</td>\n",
       "      <td>50.4</td>\n",
       "      <td>69.0</td>\n",
       "      <td>31.0</td>\n",
       "    </tr>\n",
       "    <tr>\n",
       "      <th>1</th>\n",
       "      <td>14252</td>\n",
       "      <td>33331</td>\n",
       "      <td>47583</td>\n",
       "      <td>29021</td>\n",
       "      <td>50.9</td>\n",
       "      <td>49.1</td>\n",
       "      <td>70.0</td>\n",
       "      <td>30.0</td>\n",
       "    </tr>\n",
       "  </tbody>\n",
       "</table>\n",
       "</div>"
      ],
      "text/plain": [
       "outer class               1      0  total - inner  total - outer  \\\n",
       "inner class (target)                                               \n",
       "0                     14769  32814          47583          66145   \n",
       "1                     14252  33331          47583          29021   \n",
       "\n",
       "outer class           0 (% - outer)  1 (% - outer)  0 (% - inner)  \\\n",
       "inner class (target)                                                \n",
       "0                              49.6           50.4           69.0   \n",
       "1                              50.9           49.1           70.0   \n",
       "\n",
       "outer class           1 (% - inner)  \n",
       "inner class (target)                 \n",
       "0                              31.0  \n",
       "1                              30.0  "
      ]
     },
     "metadata": {},
     "output_type": "display_data"
    }
   ],
   "source": [
    "y_inc = ( yp != ye ).astype('int64').rename('Incorrect Prediction'); y_inc.values[:10]\n",
    "x_inc = xe.copy()\n",
    "\n",
    "print_intra_cls_cnt(ye, groups=y_inc, prct=True)"
   ]
  },
  {
   "cell_type": "markdown",
   "metadata": {},
   "source": [
    "## Split data with inner and outer stratification"
   ]
  },
  {
   "cell_type": "code",
   "execution_count": 824,
   "metadata": {},
   "outputs": [
    {
     "name": "stderr",
     "output_type": "stream",
     "text": [
      "<ipython-input-47-d232983ac946>:70: PerformanceWarning: indexing past lexsort depth may impact performance.\n",
      "  train_index += pred_inc.loc[index].sample(n_samples, replace=replace, random_state=random_state)['index'].tolist()\n"
     ]
    },
    {
     "data": {
      "text/html": [
       "<div>\n",
       "<style scoped>\n",
       "    .dataframe tbody tr th:only-of-type {\n",
       "        vertical-align: middle;\n",
       "    }\n",
       "\n",
       "    .dataframe tbody tr th {\n",
       "        vertical-align: top;\n",
       "    }\n",
       "\n",
       "    .dataframe thead th {\n",
       "        text-align: right;\n",
       "    }\n",
       "</style>\n",
       "<table border=\"1\" class=\"dataframe\">\n",
       "  <thead>\n",
       "    <tr style=\"text-align: right;\">\n",
       "      <th></th>\n",
       "      <th>Train set</th>\n",
       "      <th>Test set</th>\n",
       "    </tr>\n",
       "    <tr>\n",
       "      <th>Class</th>\n",
       "      <th></th>\n",
       "      <th></th>\n",
       "    </tr>\n",
       "  </thead>\n",
       "  <tbody>\n",
       "    <tr>\n",
       "      <th>0</th>\n",
       "      <td>3000</td>\n",
       "      <td>23874</td>\n",
       "    </tr>\n",
       "    <tr>\n",
       "      <th>1</th>\n",
       "      <td>2992</td>\n",
       "      <td>22322</td>\n",
       "    </tr>\n",
       "  </tbody>\n",
       "</table>\n",
       "</div>"
      ],
      "text/plain": [
       "       Train set  Test set\n",
       "Class                     \n",
       "0           3000     23874\n",
       "1           2992     22322"
      ]
     },
     "metadata": {},
     "output_type": "display_data"
    },
    {
     "data": {
      "text/html": [
       "<div>\n",
       "<style scoped>\n",
       "    .dataframe tbody tr th:only-of-type {\n",
       "        vertical-align: middle;\n",
       "    }\n",
       "\n",
       "    .dataframe tbody tr th {\n",
       "        vertical-align: top;\n",
       "    }\n",
       "\n",
       "    .dataframe thead th {\n",
       "        text-align: right;\n",
       "    }\n",
       "</style>\n",
       "<table border=\"1\" class=\"dataframe\">\n",
       "  <thead>\n",
       "    <tr style=\"text-align: right;\">\n",
       "      <th>outer class</th>\n",
       "      <th>1</th>\n",
       "      <th>0</th>\n",
       "      <th>total - inner</th>\n",
       "      <th>total - outer</th>\n",
       "    </tr>\n",
       "    <tr>\n",
       "      <th>inner class (target)</th>\n",
       "      <th></th>\n",
       "      <th></th>\n",
       "      <th></th>\n",
       "      <th></th>\n",
       "    </tr>\n",
       "  </thead>\n",
       "  <tbody>\n",
       "    <tr>\n",
       "      <th>0</th>\n",
       "      <td>1496</td>\n",
       "      <td>1500</td>\n",
       "      <td>2996</td>\n",
       "      <td>3000</td>\n",
       "    </tr>\n",
       "    <tr>\n",
       "      <th>1</th>\n",
       "      <td>1496</td>\n",
       "      <td>1500</td>\n",
       "      <td>2996</td>\n",
       "      <td>2992</td>\n",
       "    </tr>\n",
       "  </tbody>\n",
       "</table>\n",
       "</div>"
      ],
      "text/plain": [
       "outer class              1     0  total - inner  total - outer\n",
       "inner class (target)                                          \n",
       "0                     1496  1500           2996           3000\n",
       "1                     1496  1500           2996           2992"
      ]
     },
     "metadata": {},
     "output_type": "display_data"
    },
    {
     "data": {
      "text/html": [
       "<div>\n",
       "<style scoped>\n",
       "    .dataframe tbody tr th:only-of-type {\n",
       "        vertical-align: middle;\n",
       "    }\n",
       "\n",
       "    .dataframe tbody tr th {\n",
       "        vertical-align: top;\n",
       "    }\n",
       "\n",
       "    .dataframe thead th {\n",
       "        text-align: right;\n",
       "    }\n",
       "</style>\n",
       "<table border=\"1\" class=\"dataframe\">\n",
       "  <thead>\n",
       "    <tr style=\"text-align: right;\">\n",
       "      <th>outer class</th>\n",
       "      <th>0</th>\n",
       "      <th>1</th>\n",
       "      <th>total - inner</th>\n",
       "      <th>total - outer</th>\n",
       "    </tr>\n",
       "    <tr>\n",
       "      <th>inner class (target)</th>\n",
       "      <th></th>\n",
       "      <th></th>\n",
       "      <th></th>\n",
       "      <th></th>\n",
       "    </tr>\n",
       "  </thead>\n",
       "  <tbody>\n",
       "    <tr>\n",
       "      <th>0</th>\n",
       "      <td>11937</td>\n",
       "      <td>11161</td>\n",
       "      <td>23098</td>\n",
       "      <td>23874</td>\n",
       "    </tr>\n",
       "    <tr>\n",
       "      <th>1</th>\n",
       "      <td>11937</td>\n",
       "      <td>11161</td>\n",
       "      <td>23098</td>\n",
       "      <td>22322</td>\n",
       "    </tr>\n",
       "  </tbody>\n",
       "</table>\n",
       "</div>"
      ],
      "text/plain": [
       "outer class               0      1  total - inner  total - outer\n",
       "inner class (target)                                            \n",
       "0                     11937  11161          23098          23874\n",
       "1                     11937  11161          23098          22322"
      ]
     },
     "metadata": {},
     "output_type": "display_data"
    }
   ],
   "source": [
    "icrus = IntraClassRandomUnderSample(\n",
    "    minority_prct=1., minority_size=0.7/20 * 3,\n",
    "    majority_prct=1., majority_size=0.3/20 * 3,\n",
    "    reset_index=False\n",
    ")\n",
    "xt_inc, _xe_inc, yt_inc, _ye_inc = icrus.split(\n",
    "    x_inc, y_inc, ye,\n",
    "    shuffle=True, replace=False,\n",
    "    random_state=0,\n",
    ")\n",
    "icrus = IntraClassRandomUnderSample(\n",
    "    minority_prct=1., minority_size=0.7/20 * 25,\n",
    "    majority_prct=1, majority_size=0.3/20 * 25,\n",
    "    reset_index=False\n",
    ")\n",
    "xe_inc, xe_inc_, ye_inc, ye_inc_ = icrus.split(\n",
    "    _xe_inc, _ye_inc, ye.loc[_ye_inc.index],\n",
    "    shuffle=True, replace=False,\n",
    "    random_state=0,\n",
    ")\n",
    "# from sklearn.model_selection import train_test_split as tts\n",
    "# xt_inc, xe_inc, yt_inc, ye_inc = tts(x_inc, y_inc, test_size=0.9, shuffle=True, random_state=0)\n",
    "#### Extracting true values and baseline predictions for test data of 'incorrectness prediction' modeling\n",
    "ye_e = ye.loc[ye_inc.index].copy() # true target values\n",
    "yp_e = yp.loc[ye_inc.index].copy() # baseline target prediction\n",
    "ye_t = ye.loc[yt_inc.index].copy() # true target values\n",
    "yp_t = yp.loc[yt_inc.index].copy() # baseline target prediction\n",
    "print_cls_cnt(y_inc, yt_inc.index, ye_inc.index)\n",
    "print_intra_cls_cnt(ye_t, groups=yt_inc, prct=False)\n",
    "print_intra_cls_cnt(ye_e, groups=ye_inc, prct=False)"
   ]
  },
  {
   "cell_type": "markdown",
   "metadata": {},
   "source": [
    "## Fit definitive model of incorrect prediction"
   ]
  },
  {
   "cell_type": "code",
   "execution_count": 825,
   "metadata": {},
   "outputs": [],
   "source": [
    "side_model = BRFC()\n",
    "side_model_fit = side_model.fit(xt_inc, yt_inc)"
   ]
  },
  {
   "cell_type": "markdown",
   "metadata": {},
   "source": [
    "## Predict and score for remaining test data (excluding baseline & 'incorrect prediction' training data)"
   ]
  },
  {
   "cell_type": "markdown",
   "metadata": {},
   "source": [
    "* Different thresholds for each class\n",
    "* Threshold for abs. prob. difference"
   ]
  },
  {
   "cell_type": "code",
   "execution_count": 845,
   "metadata": {},
   "outputs": [],
   "source": [
    "yp_inc = pd.Series(side_model_fit.predict(xe_inc), index=xe_inc.index) # incorrectness prediction score for entire test data"
   ]
  },
  {
   "cell_type": "markdown",
   "metadata": {},
   "source": [
    "### Predict probabilities for test data"
   ]
  },
  {
   "cell_type": "code",
   "execution_count": 827,
   "metadata": {},
   "outputs": [],
   "source": [
    "yprob_inc = pd.DataFrame(side_model_fit.predict_proba(xe_inc), index=xe_inc.index)\n",
    "yprob_inc['prob diff'] = yprob_inc[1] - 0.5\n",
    "yprob_inc['abs prob diff'] = np.abs(yprob_inc['prob diff'])\n",
    "yprob_inc['pred'] = yp_inc"
   ]
  },
  {
   "cell_type": "markdown",
   "metadata": {},
   "source": [
    "### Classification report"
   ]
  },
  {
   "cell_type": "code",
   "execution_count": 828,
   "metadata": {},
   "outputs": [
    {
     "name": "stdout",
     "output_type": "stream",
     "text": [
      "              precision    recall  f1-score   support\n",
      "\n",
      "           0       0.59      0.56      0.58     23874\n",
      "           1       0.56      0.59      0.57     22322\n",
      "\n",
      "    accuracy                           0.57     46196\n",
      "   macro avg       0.58      0.58      0.57     46196\n",
      "weighted avg       0.58      0.57      0.57     46196\n",
      "\n"
     ]
    }
   ],
   "source": [
    "print(metrics.classification_report(ye_inc, yp_inc))"
   ]
  },
  {
   "cell_type": "markdown",
   "metadata": {},
   "source": [
    "### Classification report per target classes"
   ]
  },
  {
   "cell_type": "code",
   "execution_count": 829,
   "metadata": {},
   "outputs": [],
   "source": [
    "cls_0_msk = ye_inc.index.isin(ye[ye==0].index)\n",
    "cls_1_msk = ye_inc.index.isin(ye[ye==1].index)"
   ]
  },
  {
   "cell_type": "markdown",
   "metadata": {},
   "source": [
    "### Majority class classification report"
   ]
  },
  {
   "cell_type": "code",
   "execution_count": 830,
   "metadata": {},
   "outputs": [
    {
     "name": "stdout",
     "output_type": "stream",
     "text": [
      "              precision    recall  f1-score   support\n",
      "\n",
      "           0       0.59      0.55      0.57     11937\n",
      "           1       0.55      0.59      0.57     11161\n",
      "\n",
      "    accuracy                           0.57     23098\n",
      "   macro avg       0.57      0.57      0.57     23098\n",
      "weighted avg       0.57      0.57      0.57     23098\n",
      "\n"
     ]
    }
   ],
   "source": [
    "print(metrics.classification_report(ye_inc[cls_0_msk], yp_inc[cls_0_msk]))"
   ]
  },
  {
   "cell_type": "markdown",
   "metadata": {},
   "source": [
    "### Minority class classification report"
   ]
  },
  {
   "cell_type": "code",
   "execution_count": 831,
   "metadata": {},
   "outputs": [
    {
     "name": "stdout",
     "output_type": "stream",
     "text": [
      "              precision    recall  f1-score   support\n",
      "\n",
      "           0       0.59      0.57      0.58     11937\n",
      "           1       0.56      0.59      0.57     11161\n",
      "\n",
      "    accuracy                           0.58     23098\n",
      "   macro avg       0.58      0.58      0.58     23098\n",
      "weighted avg       0.58      0.58      0.58     23098\n",
      "\n"
     ]
    }
   ],
   "source": [
    "print(metrics.classification_report(ye_inc[cls_1_msk], yp_inc[cls_1_msk]))"
   ]
  },
  {
   "cell_type": "markdown",
   "metadata": {},
   "source": [
    "# CORRECT BASELINE PREDICTION  'INCORRECT PREDICTION' MODEL\n",
    "\n",
    "# Assuming that we have a balenced test sample, general learning can be improved by this technique ????\n",
    "\n",
    "#### Obs: Score for entire test data and also for remaining (unseen) test data only\n",
    "\n",
    "* True values: ye\n",
    "* Baseline prediction: yp\n",
    "* True incorrectness values: y_inc\n",
    "* Incorrectness prediction: yp_inc"
   ]
  },
  {
   "cell_type": "markdown",
   "metadata": {},
   "source": [
    "### Flip baseline predictions based on 'incorrectness' model prediction"
   ]
  },
  {
   "cell_type": "code",
   "execution_count": 832,
   "metadata": {},
   "outputs": [],
   "source": [
    "def flip_prediction(yprob=None, thresholds=[0, 0.5], percentile=False):\n",
    "    if probs is None:\n",
    "        probs = flip_msk\n",
    "        if percentile:\n",
    "            thresholds = [np.percentile(probs, thresholds[i]*100) for i in [0,1]]\n",
    "    elif percentile:\n",
    "        thresholds = [np.percentile(probs[flip_msk==i], thresholds[i]*100) for i in [0,1]]\n",
    "    y_flip = []\n",
    "    for yp_i, flip, prob in zip(yp.copy(), flip_msk, probs):\n",
    "        if flip:\n",
    "            if prob >= thresholds[1]: yi = int(not yp_i)\n",
    "            else: yi = yp_i\n",
    "        else:\n",
    "            if prob >= thresholds[0]: yi = yp_i\n",
    "            else: yi = int(not yp_i)\n",
    "        y_flip.append(yi)\n",
    "    return pd.Series(y_flip, index=yp.index, dtype='int64', )"
   ]
  },
  {
   "cell_type": "code",
   "execution_count": 833,
   "metadata": {},
   "outputs": [],
   "source": [
    "yp_flip = flip_prediction(yp_e.copy(), flip_msk=yp_inc, probs=None, thresholds=[0, 0.5], percentile=False)\n",
    "yprob_flip = flip_prediction(yp_e.copy(), flip_msk=yp_inc, probs=yprob_inc['abs prob diff'], thresholds=[0.3, 0.0], percentile=True)"
   ]
  },
  {
   "cell_type": "markdown",
   "metadata": {},
   "source": [
    "### Score corrected predictions"
   ]
  },
  {
   "cell_type": "code",
   "execution_count": 834,
   "metadata": {},
   "outputs": [
    {
     "name": "stdout",
     "output_type": "stream",
     "text": [
      "              precision    recall  f1-score   support\n",
      "\n",
      "           0       0.57      0.57      0.57     23098\n",
      "           1       0.57      0.57      0.57     23098\n",
      "\n",
      "    accuracy                           0.57     46196\n",
      "   macro avg       0.57      0.57      0.57     46196\n",
      "weighted avg       0.57      0.57      0.57     46196\n",
      "\n"
     ]
    }
   ],
   "source": [
    "print(metrics.classification_report(ye_e, yprob_flip)) # flipped prediction based on confidence threshold"
   ]
  },
  {
   "cell_type": "code",
   "execution_count": 835,
   "metadata": {},
   "outputs": [
    {
     "name": "stdout",
     "output_type": "stream",
     "text": [
      "              precision    recall  f1-score   support\n",
      "\n",
      "           0       0.57      0.57      0.57     23098\n",
      "           1       0.57      0.58      0.58     23098\n",
      "\n",
      "    accuracy                           0.57     46196\n",
      "   macro avg       0.57      0.57      0.57     46196\n",
      "weighted avg       0.57      0.57      0.57     46196\n",
      "\n"
     ]
    }
   ],
   "source": [
    "print(metrics.classification_report(ye_e, yp_flip)) # flipped prediction"
   ]
  },
  {
   "cell_type": "code",
   "execution_count": 836,
   "metadata": {},
   "outputs": [
    {
     "name": "stdout",
     "output_type": "stream",
     "text": [
      "              precision    recall  f1-score   support\n",
      "\n",
      "           0       0.52      0.52      0.52     23098\n",
      "           1       0.52      0.52      0.52     23098\n",
      "\n",
      "    accuracy                           0.52     46196\n",
      "   macro avg       0.52      0.52      0.52     46196\n",
      "weighted avg       0.52      0.52      0.52     46196\n",
      "\n"
     ]
    }
   ],
   "source": [
    "print(metrics.classification_report(ye_e, yp_e)) # baseline prediction"
   ]
  },
  {
   "cell_type": "markdown",
   "metadata": {},
   "source": [
    "## Threhsold Recall surface"
   ]
  },
  {
   "cell_type": "code",
   "execution_count": 740,
   "metadata": {},
   "outputs": [],
   "source": [
    "n_bins = 11\n",
    "\n",
    "# Calculate scores for threshold grid\n",
    "bins = np.linspace(0, 1, n_bins)\n",
    "scrs = []\n",
    "for bin0 in bins:\n",
    "    for bin1 in bins:\n",
    "        yprob_flip = flip_prediction(yp_e.copy(), flip_msk=yp_inc, probs=yprob_inc['abs prob diff'], thresholds=[bin0, bin1], percentile=True)\n",
    "        CR = metrics.classification_report(ye_e, yprob_flip, output_dict=True)\n",
    "        scrs.append([bin0, bin1, CR['accuracy'], CR['macro avg']['recall'], CR['0']['recall'], CR['1']['recall']])\n",
    "p_scrs = pd.DataFrame(scrs, columns=['threshold 0', 'threshold 1', 'acc', 'recall macro', 'recall 0', 'recall 1'])\n",
    "\n",
    "# define variables to plot\n",
    "xx = p_scrs['threshold 0'].values.reshape(n_bins, n_bins)\n",
    "yy = p_scrs['threshold 1'].values.reshape(n_bins, n_bins)\n",
    "zz = p_scrs['recall macro'].values.reshape(n_bins, n_bins)\n",
    "ww = p_scrs['recall 0'].values.reshape(n_bins, n_bins)\n",
    "kk = p_scrs['recall 1'].values.reshape(n_bins, n_bins)"
   ]
  },
  {
   "cell_type": "code",
   "execution_count": 747,
   "metadata": {},
   "outputs": [
    {
     "data": {
      "image/png": "[encoded data removed]",
      "text/plain": [
       "<Figure size 468x360 with 1 Axes>"
      ]
     },
     "metadata": {},
     "output_type": "display_data"
    }
   ],
   "source": [
    "# plot surface for multiple angles\n",
    "for angle in range(0, 360, 12):\n",
    "    \n",
    "    fig = plt.figure(figsize=(6.5, 5), tight_layout=True)\n",
    "    ax = fig.add_subplot(projection='3d')\n",
    "    ax.plot_wireframe(xx, yy, zz, label='Recall macro avg')\n",
    "    ax.plot_wireframe(xx, yy, ww, color='orange', label='Recall class 0')\n",
    "    ax.plot_wireframe(xx, yy, kk, color='green', label='Recall class 1')\n",
    "    ax.set(xlabel='Threshold 0', ylabel='Threshold 1', zlabel='Recall', title='Threshold Recall Surface')\n",
    "    ax.legend()\n",
    "    ax.view_init(7, angle)\n",
    "    plt.show(); plt.pause(.1); co(wait=True)"
   ]
  },
  {
   "cell_type": "markdown",
   "metadata": {},
   "source": [
    "#### Check result"
   ]
  },
  {
   "cell_type": "code",
   "execution_count": 742,
   "metadata": {},
   "outputs": [
    {
     "data": {
      "text/plain": [
       "array([0, 0, 0, 1, 1, 1, 0, 1, 1, 1], dtype=int64)"
      ]
     },
     "execution_count": 742,
     "metadata": {},
     "output_type": "execute_result"
    }
   ],
   "source": [
    "ye_e.values[:10] # true target values"
   ]
  },
  {
   "cell_type": "code",
   "execution_count": 743,
   "metadata": {},
   "outputs": [
    {
     "data": {
      "text/plain": [
       "array([1, 0, 0, 1, 0, 0, 1, 0, 0, 1], dtype=int64)"
      ]
     },
     "execution_count": 743,
     "metadata": {},
     "output_type": "execute_result"
    }
   ],
   "source": [
    "yp_e.values[:10] # baseline target prediction"
   ]
  },
  {
   "cell_type": "code",
   "execution_count": 744,
   "metadata": {},
   "outputs": [
    {
     "data": {
      "text/plain": [
       "array([1, 0, 0, 0, 1, 1, 1, 1, 1, 0], dtype=int64)"
      ]
     },
     "execution_count": 744,
     "metadata": {},
     "output_type": "execute_result"
    }
   ],
   "source": [
    "ye_inc.values[:10] # true incorrectness"
   ]
  },
  {
   "cell_type": "code",
   "execution_count": 745,
   "metadata": {},
   "outputs": [
    {
     "data": {
      "text/plain": [
       "array([1, 1, 0, 1, 1, 0, 1, 0, 1, 1], dtype=int64)"
      ]
     },
     "execution_count": 745,
     "metadata": {},
     "output_type": "execute_result"
    }
   ],
   "source": [
    "yp_inc.values[:10] # incorrectness prediction"
   ]
  },
  {
   "cell_type": "code",
   "execution_count": 746,
   "metadata": {},
   "outputs": [
    {
     "data": {
      "text/plain": [
       "array([0, 1, 0, 0, 1, 0, 0, 0, 1, 0], dtype=int64)"
      ]
     },
     "execution_count": 746,
     "metadata": {},
     "output_type": "execute_result"
    }
   ],
   "source": [
    "yp_flip.values[:10] # baseline prediction flipped by incorrectness prediction"
   ]
  },
  {
   "cell_type": "markdown",
   "metadata": {},
   "source": [
    "---\n",
    "# EXTRA: EXPLANATORY DATA VISUALIZATION"
   ]
  },
  {
   "cell_type": "markdown",
   "metadata": {},
   "source": [
    "## Compare models of incorrect prediction"
   ]
  },
  {
   "cell_type": "code",
   "execution_count": 95,
   "metadata": {},
   "outputs": [],
   "source": [
    "from sklearn.pipeline import Pipeline\n",
    "from sklearn.model_selection import GridSearchCV\n",
    "\n",
    "DTC = classifiers['DecisionTreeClassifier']\n",
    "LRCV = classifiers['LogisticRegressionCV']\n",
    "# DC = classifiers['DummyClassifier']\n",
    "KNN = classifiers['KNeighborsClassifier']\n",
    "\n",
    "estimators = [('clf', GBC())]\n",
    "pipe = Pipeline(estimators)\n",
    "param_grid={'clf': [\n",
    "        GBC(), BRFC(), DTC(max_depth=2), DC(), KNN()\n",
    "]}\n",
    "reset_index_map = pd.Series(range(y_inc.shape[0]), index=y_inc.index)\n",
    "cv = [(reset_index_map[yt_inc.index], reset_index_map[ye_inc.index])]\n",
    "\n",
    "GS = GridSearchCV(pipe, param_grid, cv=cv, scoring=scoring, refit='recall_macro', n_jobs=-1, pre_dispatch='all', verbose=1)\n",
    "gs_fit = GS.fit(x_inc, y_inc)"
   ]
  },
  {
   "cell_type": "code",
   "execution_count": 98,
   "metadata": {},
   "outputs": [
    {
     "data": {
      "text/plain": [
       "0.592078725561711"
      ]
     },
     "execution_count": 98,
     "metadata": {},
     "output_type": "execute_result"
    }
   ],
   "source": [
    "GS.best_score_"
   ]
  },
  {
   "cell_type": "code",
   "execution_count": 99,
   "metadata": {},
   "outputs": [
    {
     "data": {
      "text/plain": [
       "Pipeline(steps=[('clf', GradientBoostingClassifier())])"
      ]
     },
     "execution_count": 99,
     "metadata": {},
     "output_type": "execute_result"
    }
   ],
   "source": [
    "GS.best_estimator_"
   ]
  },
  {
   "cell_type": "code",
   "execution_count": 100,
   "metadata": {},
   "outputs": [],
   "source": [
    "cv_res = pd.DataFrame(GS.cv_results_)"
   ]
  },
  {
   "cell_type": "code",
   "execution_count": 101,
   "metadata": {},
   "outputs": [
    {
     "data": {
      "text/html": [
       "<div>\n",
       "<style scoped>\n",
       "    .dataframe tbody tr th:only-of-type {\n",
       "        vertical-align: middle;\n",
       "    }\n",
       "\n",
       "    .dataframe tbody tr th {\n",
       "        vertical-align: top;\n",
       "    }\n",
       "\n",
       "    .dataframe thead th {\n",
       "        text-align: right;\n",
       "    }\n",
       "</style>\n",
       "<table border=\"1\" class=\"dataframe\">\n",
       "  <thead>\n",
       "    <tr style=\"text-align: right;\">\n",
       "      <th></th>\n",
       "      <th>param_clf</th>\n",
       "      <th>mean_test_recall_macro</th>\n",
       "    </tr>\n",
       "  </thead>\n",
       "  <tbody>\n",
       "    <tr>\n",
       "      <th>0</th>\n",
       "      <td>GradientBoostingClassifier()</td>\n",
       "      <td>0.592079</td>\n",
       "    </tr>\n",
       "    <tr>\n",
       "      <th>1</th>\n",
       "      <td>BalancedRandomForestClassifier()</td>\n",
       "      <td>0.587548</td>\n",
       "    </tr>\n",
       "    <tr>\n",
       "      <th>2</th>\n",
       "      <td>DecisionTreeClassifier(max_depth=2)</td>\n",
       "      <td>0.551438</td>\n",
       "    </tr>\n",
       "    <tr>\n",
       "      <th>3</th>\n",
       "      <td>DummyClassifier()</td>\n",
       "      <td>0.500000</td>\n",
       "    </tr>\n",
       "    <tr>\n",
       "      <th>4</th>\n",
       "      <td>KNeighborsClassifier()</td>\n",
       "      <td>0.500719</td>\n",
       "    </tr>\n",
       "  </tbody>\n",
       "</table>\n",
       "</div>"
      ],
      "text/plain": [
       "                             param_clf  mean_test_recall_macro\n",
       "0         GradientBoostingClassifier()                0.592079\n",
       "1     BalancedRandomForestClassifier()                0.587548\n",
       "2  DecisionTreeClassifier(max_depth=2)                0.551438\n",
       "3                    DummyClassifier()                0.500000\n",
       "4               KNeighborsClassifier()                0.500719"
      ]
     },
     "execution_count": 101,
     "metadata": {},
     "output_type": "execute_result"
    }
   ],
   "source": [
    "cv_res[['param_clf', 'mean_test_recall_macro']]"
   ]
  },
  {
   "cell_type": "markdown",
   "metadata": {},
   "source": [
    "## Learning curve"
   ]
  },
  {
   "cell_type": "code",
   "execution_count": 54,
   "metadata": {},
   "outputs": [
    {
     "name": "stdout",
     "output_type": "stream",
     "text": [
      "Performing cross validation splits. 4/5 splits performed.\n",
      "Done! 5 cv splits performed.\n"
     ]
    }
   ],
   "source": [
    "icrus = IntraClassRandomUnderSample(\n",
    "    minority_prct=1., minority_size=0.7/20 * 5,\n",
    "    majority_prct=1., majority_size=0.3/20 * 5,\n",
    "    reset_index=True\n",
    ")\n",
    "lc_cv = icrus.n_splits(\n",
    "    x_inc, y_inc, ye, n_splits=5,\n",
    "    shuffle=True, replace=False,\n",
    "    reset_index=True,\n",
    "    random_state=0,\n",
    ")"
   ]
  },
  {
   "cell_type": "code",
   "execution_count": 63,
   "metadata": {},
   "outputs": [
    {
     "name": "stdout",
     "output_type": "stream",
     "text": [
      "[learning_curve] Training set sizes: [  31  312 1010 2240 4094 6653 9988]\n"
     ]
    },
    {
     "name": "stderr",
     "output_type": "stream",
     "text": [
      "[Parallel(n_jobs=-1)]: Using backend LokyBackend with 4 concurrent workers.\n",
      "[Parallel(n_jobs=-1)]: Done   4 out of  35 | elapsed:    3.0s remaining:   24.2s\n",
      "[Parallel(n_jobs=-1)]: Done  12 out of  35 | elapsed:   12.1s remaining:   23.3s\n",
      "[Parallel(n_jobs=-1)]: Done  20 out of  35 | elapsed:   18.5s remaining:   13.8s\n",
      "[Parallel(n_jobs=-1)]: Done  28 out of  35 | elapsed:   25.8s remaining:    6.4s\n",
      "[Parallel(n_jobs=-1)]: Done  35 out of  35 | elapsed:   34.9s finished\n"
     ]
    }
   ],
   "source": [
    "from sklearn.model_selection import learning_curve as lc\n",
    "model_lc = lc(\n",
    "    GBC(), x_inc, y_inc,\n",
    "    train_sizes=np.linspace(0.1, 1, 7)**2.5,\n",
    "    cv=lc_cv, scoring='recall_macro',\n",
    "    n_jobs=-1, pre_dispatch='all',\n",
    "    verbose=5, shuffle=True, random_state=0,\n",
    ")"
   ]
  },
  {
   "cell_type": "code",
   "execution_count": 64,
   "metadata": {},
   "outputs": [
    {
     "data": {
      "image/png": "[encoded data removed]",
      "text/plain": [
       "<Figure size 864x288 with 2 Axes>"
      ]
     },
     "metadata": {},
     "output_type": "display_data"
    }
   ],
   "source": [
    "train_lc, test_lc = (pd.DataFrame(model_lc[i], index=model_lc[0]) for i in [1,2])\n",
    "\n",
    "fig, ax = plt.subplots(1,2, figsize=(12,4), tight_layout=True)\n",
    "ax[0].plot(train_lc); ax[1].plot(test_lc)\n",
    "for i, t in zip([0,1], ['train', 'test']):\n",
    "    ax[i].set(xlabel='train size', ylabel='macro average', title=f'Learning Curve - {t} data')\n",
    "\n",
    "plt.show()"
   ]
  },
  {
   "cell_type": "markdown",
   "metadata": {},
   "source": [
    "---\n",
    "# Model 'incorrect prediction' variable per class"
   ]
  },
  {
   "cell_type": "code",
   "execution_count": 146,
   "metadata": {},
   "outputs": [
    {
     "data": {
      "text/html": [
       "<div>\n",
       "<style scoped>\n",
       "    .dataframe tbody tr th:only-of-type {\n",
       "        vertical-align: middle;\n",
       "    }\n",
       "\n",
       "    .dataframe tbody tr th {\n",
       "        vertical-align: top;\n",
       "    }\n",
       "\n",
       "    .dataframe thead th {\n",
       "        text-align: right;\n",
       "    }\n",
       "</style>\n",
       "<table border=\"1\" class=\"dataframe\">\n",
       "  <thead>\n",
       "    <tr style=\"text-align: right;\">\n",
       "      <th></th>\n",
       "      <th>Train set</th>\n",
       "      <th>Test set</th>\n",
       "    </tr>\n",
       "    <tr>\n",
       "      <th>Class</th>\n",
       "      <th></th>\n",
       "      <th></th>\n",
       "    </tr>\n",
       "  </thead>\n",
       "  <tbody>\n",
       "    <tr>\n",
       "      <th>2</th>\n",
       "      <td>31443</td>\n",
       "      <td>31443</td>\n",
       "    </tr>\n",
       "    <tr>\n",
       "      <th>0</th>\n",
       "      <td>31141</td>\n",
       "      <td>31141</td>\n",
       "    </tr>\n",
       "    <tr>\n",
       "      <th>1</th>\n",
       "      <td>13937</td>\n",
       "      <td>13937</td>\n",
       "    </tr>\n",
       "    <tr>\n",
       "      <th>3</th>\n",
       "      <td>13636</td>\n",
       "      <td>13636</td>\n",
       "    </tr>\n",
       "  </tbody>\n",
       "</table>\n",
       "</div>"
      ],
      "text/plain": [
       "       Train set  Test set\n",
       "Class                     \n",
       "2          31443     31443\n",
       "0          31141     31141\n",
       "1          13937     13937\n",
       "3          13636     13636"
      ]
     },
     "metadata": {},
     "output_type": "display_data"
    }
   ],
   "source": [
    "cats = [ ((0 if ye_i==yp_i else 1) if ye_i==0 else (2 if ye_i==yp_i else 3))  for ye_i, yp_i in zip(ye, yp)]\n",
    "y_inc_cls = pd.Series(cats, index=ye.index).astype('int64').rename('Incorrect Prediction'); y_inc.values[:10]\n",
    "\n",
    "print_cls_cnt(y_inc_cls, y_inc_cls.index, y_inc_cls.index)"
   ]
  },
  {
   "cell_type": "code",
   "execution_count": 147,
   "metadata": {},
   "outputs": [
    {
     "data": {
      "text/html": [
       "<div>\n",
       "<style scoped>\n",
       "    .dataframe tbody tr th:only-of-type {\n",
       "        vertical-align: middle;\n",
       "    }\n",
       "\n",
       "    .dataframe tbody tr th {\n",
       "        vertical-align: top;\n",
       "    }\n",
       "\n",
       "    .dataframe thead th {\n",
       "        text-align: right;\n",
       "    }\n",
       "</style>\n",
       "<table border=\"1\" class=\"dataframe\">\n",
       "  <thead>\n",
       "    <tr style=\"text-align: right;\">\n",
       "      <th></th>\n",
       "      <th>Train set</th>\n",
       "      <th>Test set</th>\n",
       "    </tr>\n",
       "    <tr>\n",
       "      <th>Class</th>\n",
       "      <th></th>\n",
       "      <th></th>\n",
       "    </tr>\n",
       "  </thead>\n",
       "  <tbody>\n",
       "    <tr>\n",
       "      <th>3</th>\n",
       "      <td>3000</td>\n",
       "      <td>9857</td>\n",
       "    </tr>\n",
       "    <tr>\n",
       "      <th>2</th>\n",
       "      <td>3000</td>\n",
       "      <td>9857</td>\n",
       "    </tr>\n",
       "    <tr>\n",
       "      <th>1</th>\n",
       "      <td>3000</td>\n",
       "      <td>9857</td>\n",
       "    </tr>\n",
       "    <tr>\n",
       "      <th>0</th>\n",
       "      <td>3000</td>\n",
       "      <td>9857</td>\n",
       "    </tr>\n",
       "  </tbody>\n",
       "</table>\n",
       "</div>"
      ],
      "text/plain": [
       "       Train set  Test set\n",
       "Class                     \n",
       "3           3000      9857\n",
       "2           3000      9857\n",
       "1           3000      9857\n",
       "0           3000      9857"
      ]
     },
     "metadata": {},
     "output_type": "display_data"
    }
   ],
   "source": [
    "guss = GroupUnderSampleSplit(\n",
    "    train_size=.3, train_prct={0: 10000, 1: 10000, 2: 10000, 3: 10000},\n",
    "    test_size=.69, test_prct={0: 10000, 1: 10000, 2: 10000, 3: 10000},\n",
    "    random_state=0,\n",
    "    reset_index=False,\n",
    "    verbose=1\n",
    ")\n",
    "# Train and test x and y dataframes\n",
    "xt_inc, xe_inc, yt_inc, ye_inc = guss.train_test_undersample(\n",
    "    x_inc, y_inc_cls,\n",
    "    cnt=None, shuffle=True,\n",
    "    random_state=0\n",
    ")\n",
    "print_cls_cnt(y_inc_cls, yt_inc.index, ye_inc.index)"
   ]
  },
  {
   "cell_type": "code",
   "execution_count": 652,
   "metadata": {},
   "outputs": [
    {
     "data": {
      "text/plain": [
       "1    47583\n",
       "0    47583\n",
       "Name: TX_RESP_Q049, dtype: int64"
      ]
     },
     "execution_count": 652,
     "metadata": {},
     "output_type": "execute_result"
    }
   ],
   "source": [
    "ye.value_counts() # target classes labels"
   ]
  },
  {
   "cell_type": "code",
   "execution_count": 655,
   "metadata": {},
   "outputs": [
    {
     "data": {
      "text/plain": [
       "1    23164\n",
       "0    23164\n",
       "Name: TX_RESP_Q049, dtype: int64"
      ]
     },
     "execution_count": 655,
     "metadata": {},
     "output_type": "execute_result"
    }
   ],
   "source": [
    "y_rec.value_counts() # incorrect guesses labels"
   ]
  },
  {
   "cell_type": "markdown",
   "metadata": {},
   "source": [
    "---\n",
    "# Train model on correct or incorrect guesses only"
   ]
  },
  {
   "cell_type": "code",
   "execution_count": 748,
   "metadata": {},
   "outputs": [],
   "source": [
    "y_cor = ye[y_inc==0].copy()\n",
    "y_incor = ye[y_inc==1].copy()\n",
    "x_cor = xe.loc[y_cor.index].copy()\n",
    "x_incor = xe.loc[y_incor.index].copy()"
   ]
  },
  {
   "cell_type": "code",
   "execution_count": 749,
   "metadata": {},
   "outputs": [
    {
     "data": {
      "text/plain": [
       "(1    33292\n",
       " 0    32654\n",
       " Name: TX_RESP_Q049, dtype: int64,\n",
       " 0    14929\n",
       " 1    14291\n",
       " Name: TX_RESP_Q049, dtype: int64)"
      ]
     },
     "execution_count": 749,
     "metadata": {},
     "output_type": "execute_result"
    }
   ],
   "source": [
    "y_cor.value_counts(), y_incor.value_counts()"
   ]
  },
  {
   "cell_type": "code",
   "execution_count": 769,
   "metadata": {},
   "outputs": [
    {
     "data": {
      "text/html": [
       "<div>\n",
       "<style scoped>\n",
       "    .dataframe tbody tr th:only-of-type {\n",
       "        vertical-align: middle;\n",
       "    }\n",
       "\n",
       "    .dataframe tbody tr th {\n",
       "        vertical-align: top;\n",
       "    }\n",
       "\n",
       "    .dataframe thead th {\n",
       "        text-align: right;\n",
       "    }\n",
       "</style>\n",
       "<table border=\"1\" class=\"dataframe\">\n",
       "  <thead>\n",
       "    <tr style=\"text-align: right;\">\n",
       "      <th></th>\n",
       "      <th>Train set</th>\n",
       "      <th>Test set</th>\n",
       "    </tr>\n",
       "    <tr>\n",
       "      <th>Class</th>\n",
       "      <th></th>\n",
       "      <th></th>\n",
       "    </tr>\n",
       "  </thead>\n",
       "  <tbody>\n",
       "    <tr>\n",
       "      <th>1</th>\n",
       "      <td>3004</td>\n",
       "      <td>30288</td>\n",
       "    </tr>\n",
       "    <tr>\n",
       "      <th>0</th>\n",
       "      <td>3004</td>\n",
       "      <td>29650</td>\n",
       "    </tr>\n",
       "  </tbody>\n",
       "</table>\n",
       "</div>"
      ],
      "text/plain": [
       "       Train set  Test set\n",
       "Class                     \n",
       "1           3004     30288\n",
       "0           3004     29650"
      ]
     },
     "metadata": {},
     "output_type": "display_data"
    },
    {
     "data": {
      "text/html": [
       "<div>\n",
       "<style scoped>\n",
       "    .dataframe tbody tr th:only-of-type {\n",
       "        vertical-align: middle;\n",
       "    }\n",
       "\n",
       "    .dataframe tbody tr th {\n",
       "        vertical-align: top;\n",
       "    }\n",
       "\n",
       "    .dataframe thead th {\n",
       "        text-align: right;\n",
       "    }\n",
       "</style>\n",
       "<table border=\"1\" class=\"dataframe\">\n",
       "  <thead>\n",
       "    <tr style=\"text-align: right;\">\n",
       "      <th></th>\n",
       "      <th>Train set</th>\n",
       "      <th>Test set</th>\n",
       "    </tr>\n",
       "    <tr>\n",
       "      <th>Class</th>\n",
       "      <th></th>\n",
       "      <th></th>\n",
       "    </tr>\n",
       "  </thead>\n",
       "  <tbody>\n",
       "    <tr>\n",
       "      <th>0</th>\n",
       "      <td>3001</td>\n",
       "      <td>11928</td>\n",
       "    </tr>\n",
       "    <tr>\n",
       "      <th>1</th>\n",
       "      <td>3001</td>\n",
       "      <td>11290</td>\n",
       "    </tr>\n",
       "  </tbody>\n",
       "</table>\n",
       "</div>"
      ],
      "text/plain": [
       "       Train set  Test set\n",
       "Class                     \n",
       "0           3001     11928\n",
       "1           3001     11290"
      ]
     },
     "metadata": {},
     "output_type": "display_data"
    }
   ],
   "source": [
    "guss = GroupUnderSampleSplit(\n",
    "    train_size=.092, train_prct=1,\n",
    "    random_state=0,\n",
    "    reset_index=False,\n",
    "    verbose=1\n",
    ")\n",
    "xt_cor, xe_cor, yt_cor, ye_cor = guss.undersample(\n",
    "    x_cor, y_cor,\n",
    "    cnt=None, shuffle=True,\n",
    "    random_state=0\n",
    ")\n",
    "guss = GroupUnderSampleSplit(\n",
    "    train_size=.21, train_prct=1,\n",
    "    random_state=0,\n",
    "    reset_index=False,\n",
    "    verbose=1\n",
    ")\n",
    "xt_incor, xe_incor, yt_incor, ye_incor = guss.undersample(\n",
    "    x_incor, y_incor,\n",
    "    cnt=None, shuffle=True,\n",
    "    random_state=0\n",
    ")\n",
    "\n",
    "print_cls_cnt(y_cor, yt_cor.index, ye_cor.index)\n",
    "print_cls_cnt(y_incor, yt_incor.index, ye_incor.index)"
   ]
  },
  {
   "cell_type": "code",
   "execution_count": 780,
   "metadata": {},
   "outputs": [],
   "source": [
    "model = RUSBC()\n",
    "modelfit_cor = model.fit(xt_cor, yt_cor) # Fitted using correct guesses train partition only\n",
    "yp_cor = pd.Series(modelfit_cor.predict(xe_cor), index=xe_cor.index)\n",
    "model = RUSBC()\n",
    "modelfit_incor = model.fit(xt_incor, yt_incor) # Fitted using incorrect guesses train partition only\n",
    "yp_incor = pd.Series(modelfit_incor.predict(xe_incor), index=xe_incor.index)"
   ]
  },
  {
   "cell_type": "code",
   "execution_count": 781,
   "metadata": {},
   "outputs": [
    {
     "name": "stdout",
     "output_type": "stream",
     "text": [
      "              precision    recall  f1-score   support\n",
      "\n",
      "           0       0.92      0.93      0.92     29650\n",
      "           1       0.93      0.92      0.93     30288\n",
      "\n",
      "    accuracy                           0.93     59938\n",
      "   macro avg       0.93      0.93      0.93     59938\n",
      "weighted avg       0.93      0.93      0.93     59938\n",
      "\n"
     ]
    }
   ],
   "source": [
    "print(metrics.classification_report(ye_cor, yp_cor))  # Performance predicting remaining (test) correct guesses."
   ]
  },
  {
   "cell_type": "code",
   "execution_count": 782,
   "metadata": {},
   "outputs": [
    {
     "name": "stdout",
     "output_type": "stream",
     "text": [
      "              precision    recall  f1-score   support\n",
      "\n",
      "           0       0.85      0.82      0.83     11928\n",
      "           1       0.82      0.85      0.83     11290\n",
      "\n",
      "    accuracy                           0.83     23218\n",
      "   macro avg       0.83      0.83      0.83     23218\n",
      "weighted avg       0.83      0.83      0.83     23218\n",
      "\n"
     ]
    }
   ],
   "source": [
    "print(metrics.classification_report(ye_incor, yp_incor))  # Performance predicting remaining (test) incorrect guesses."
   ]
  },
  {
   "cell_type": "markdown",
   "metadata": {},
   "source": [
    "## Scoring 'recombined' prediction"
   ]
  },
  {
   "cell_type": "code",
   "execution_count": 792,
   "metadata": {},
   "outputs": [],
   "source": [
    "yp_recomb = pd.concat([yp_cor, yp_incor])\n",
    "recomb_index = yp_cor.index.tolist() + yp_incor.index.tolist()"
   ]
  },
  {
   "cell_type": "code",
   "execution_count": 794,
   "metadata": {},
   "outputs": [
    {
     "name": "stdout",
     "output_type": "stream",
     "text": [
      "              precision    recall  f1-score   support\n",
      "\n",
      "           0       0.90      0.90      0.90     41578\n",
      "           1       0.90      0.90      0.90     41578\n",
      "\n",
      "    accuracy                           0.90     83156\n",
      "   macro avg       0.90      0.90      0.90     83156\n",
      "weighted avg       0.90      0.90      0.90     83156\n",
      "\n"
     ]
    }
   ],
   "source": [
    "print(metrics.classification_report(ye.loc[recomb_index], yp_recomb))  # Performance predicting remaining (test) incorrect guesses."
   ]
  },
  {
   "cell_type": "code",
   "execution_count": 788,
   "metadata": {},
   "outputs": [
    {
     "data": {
      "text/plain": [
       "95166"
      ]
     },
     "execution_count": 788,
     "metadata": {},
     "output_type": "execute_result"
    }
   ],
   "source": [
    "ye.size"
   ]
  },
  {
   "cell_type": "markdown",
   "metadata": {},
   "source": [
    "---\n",
    "# Train model on correct or incorrect guesses predictions only"
   ]
  },
  {
   "cell_type": "code",
   "execution_count": 853,
   "metadata": {},
   "outputs": [],
   "source": [
    "y_cor = ye.loc[yp_inc.index][yp_inc==0].copy()\n",
    "y_incor = ye.loc[yp_inc.index][yp_inc==1].copy()\n",
    "x_cor = xe.loc[y_cor.index].copy()\n",
    "x_incor = xe.loc[y_incor.index].copy()"
   ]
  },
  {
   "cell_type": "code",
   "execution_count": 854,
   "metadata": {},
   "outputs": [
    {
     "data": {
      "text/plain": [
       "(1    11391\n",
       " 0    11122\n",
       " Name: TX_RESP_Q049, dtype: int64,\n",
       " 0    11976\n",
       " 1    11707\n",
       " Name: TX_RESP_Q049, dtype: int64)"
      ]
     },
     "execution_count": 854,
     "metadata": {},
     "output_type": "execute_result"
    }
   ],
   "source": [
    "y_cor.value_counts(), y_incor.value_counts()"
   ]
  },
  {
   "cell_type": "code",
   "execution_count": 858,
   "metadata": {},
   "outputs": [
    {
     "data": {
      "text/html": [
       "<div>\n",
       "<style scoped>\n",
       "    .dataframe tbody tr th:only-of-type {\n",
       "        vertical-align: middle;\n",
       "    }\n",
       "\n",
       "    .dataframe tbody tr th {\n",
       "        vertical-align: top;\n",
       "    }\n",
       "\n",
       "    .dataframe thead th {\n",
       "        text-align: right;\n",
       "    }\n",
       "</style>\n",
       "<table border=\"1\" class=\"dataframe\">\n",
       "  <thead>\n",
       "    <tr style=\"text-align: right;\">\n",
       "      <th></th>\n",
       "      <th>Train set</th>\n",
       "      <th>Test set</th>\n",
       "    </tr>\n",
       "    <tr>\n",
       "      <th>Class</th>\n",
       "      <th></th>\n",
       "      <th></th>\n",
       "    </tr>\n",
       "  </thead>\n",
       "  <tbody>\n",
       "    <tr>\n",
       "      <th>1</th>\n",
       "      <td>3003</td>\n",
       "      <td>8388</td>\n",
       "    </tr>\n",
       "    <tr>\n",
       "      <th>0</th>\n",
       "      <td>3002</td>\n",
       "      <td>8120</td>\n",
       "    </tr>\n",
       "  </tbody>\n",
       "</table>\n",
       "</div>"
      ],
      "text/plain": [
       "       Train set  Test set\n",
       "Class                     \n",
       "1           3003      8388\n",
       "0           3002      8120"
      ]
     },
     "metadata": {},
     "output_type": "display_data"
    },
    {
     "data": {
      "text/html": [
       "<div>\n",
       "<style scoped>\n",
       "    .dataframe tbody tr th:only-of-type {\n",
       "        vertical-align: middle;\n",
       "    }\n",
       "\n",
       "    .dataframe tbody tr th {\n",
       "        vertical-align: top;\n",
       "    }\n",
       "\n",
       "    .dataframe thead th {\n",
       "        text-align: right;\n",
       "    }\n",
       "</style>\n",
       "<table border=\"1\" class=\"dataframe\">\n",
       "  <thead>\n",
       "    <tr style=\"text-align: right;\">\n",
       "      <th></th>\n",
       "      <th>Train set</th>\n",
       "      <th>Test set</th>\n",
       "    </tr>\n",
       "    <tr>\n",
       "      <th>Class</th>\n",
       "      <th></th>\n",
       "      <th></th>\n",
       "    </tr>\n",
       "  </thead>\n",
       "  <tbody>\n",
       "    <tr>\n",
       "      <th>0</th>\n",
       "      <td>2985</td>\n",
       "      <td>8991</td>\n",
       "    </tr>\n",
       "    <tr>\n",
       "      <th>1</th>\n",
       "      <td>2985</td>\n",
       "      <td>8722</td>\n",
       "    </tr>\n",
       "  </tbody>\n",
       "</table>\n",
       "</div>"
      ],
      "text/plain": [
       "       Train set  Test set\n",
       "Class                     \n",
       "0           2985      8991\n",
       "1           2985      8722"
      ]
     },
     "metadata": {},
     "output_type": "display_data"
    }
   ],
   "source": [
    "guss = GroupUnderSampleSplit(\n",
    "    train_size=.27, train_prct=1,\n",
    "    random_state=0,\n",
    "    reset_index=False,\n",
    "    verbose=1\n",
    ")\n",
    "xt_cor, xe_cor, yt_cor, ye_cor = guss.undersample(\n",
    "    x_cor, y_cor,\n",
    "    cnt=None, shuffle=True,\n",
    "    random_state=0\n",
    ")\n",
    "guss = GroupUnderSampleSplit(\n",
    "    train_size=.255, train_prct=1,\n",
    "    random_state=0,\n",
    "    reset_index=False,\n",
    "    verbose=1\n",
    ")\n",
    "xt_incor, xe_incor, yt_incor, ye_incor = guss.undersample(\n",
    "    x_incor, y_incor,\n",
    "    cnt=None, shuffle=True,\n",
    "    random_state=0\n",
    ")\n",
    "\n",
    "print_cls_cnt(y_cor, yt_cor.index, ye_cor.index)\n",
    "print_cls_cnt(y_incor, yt_incor.index, ye_incor.index)"
   ]
  },
  {
   "cell_type": "code",
   "execution_count": 859,
   "metadata": {},
   "outputs": [],
   "source": [
    "model = RUSBC()\n",
    "modelfit_cor = model.fit(xt_cor, yt_cor) # Fitted using correct guesses train partition only\n",
    "yp_cor = pd.Series(modelfit_cor.predict(xe_cor), index=xe_cor.index)\n",
    "model = RUSBC()\n",
    "modelfit_incor = model.fit(xt_incor, yt_incor) # Fitted using incorrect guesses train partition only\n",
    "yp_incor = pd.Series(modelfit_incor.predict(xe_incor), index=xe_incor.index)"
   ]
  },
  {
   "cell_type": "code",
   "execution_count": 860,
   "metadata": {},
   "outputs": [
    {
     "name": "stdout",
     "output_type": "stream",
     "text": [
      "              precision    recall  f1-score   support\n",
      "\n",
      "           0       0.61      0.66      0.63      8120\n",
      "           1       0.64      0.59      0.61      8388\n",
      "\n",
      "    accuracy                           0.62     16508\n",
      "   macro avg       0.63      0.62      0.62     16508\n",
      "weighted avg       0.63      0.62      0.62     16508\n",
      "\n"
     ]
    }
   ],
   "source": [
    "print(metrics.classification_report(ye_cor, yp_cor))  # Performance predicting remaining (test) correct guesses."
   ]
  },
  {
   "cell_type": "code",
   "execution_count": 861,
   "metadata": {},
   "outputs": [
    {
     "name": "stdout",
     "output_type": "stream",
     "text": [
      "              precision    recall  f1-score   support\n",
      "\n",
      "           0       0.55      0.57      0.56      8991\n",
      "           1       0.54      0.52      0.53      8722\n",
      "\n",
      "    accuracy                           0.55     17713\n",
      "   macro avg       0.55      0.55      0.55     17713\n",
      "weighted avg       0.55      0.55      0.55     17713\n",
      "\n"
     ]
    }
   ],
   "source": [
    "print(metrics.classification_report(ye_incor, yp_incor))  # Performance predicting remaining (test) incorrect guesses."
   ]
  },
  {
   "cell_type": "markdown",
   "metadata": {},
   "source": [
    "# Predicting with baseline model for classes tresholds"
   ]
  },
  {
   "cell_type": "code",
   "execution_count": 906,
   "metadata": {},
   "outputs": [],
   "source": [
    "def predict_threshold(yprob=None, limit=0, thresholds=[0, 0], percentile=True):\n",
    "    \n",
    "    if percentile:\n",
    "        thresholds[0] = np.percentile(yprob[yprob<limit], 100 * (1 - thresholds[0]))\n",
    "        thresholds[1] = np.percentile(yprob[yprob>limit], 100 * thresholds[1])\n",
    "    y_flip = []\n",
    "    for prob in yprob:\n",
    "        if prob > limit:\n",
    "            if prob >= thresholds[1]:\n",
    "                yi = 1\n",
    "            else: yi = 0\n",
    "        else:\n",
    "            if prob <= thresholds[0]: \n",
    "                yi = 0\n",
    "            else: yi = 1\n",
    "        y_flip.append(yi)\n",
    "    return pd.Series(y_flip, index=yprob.index, dtype='int64')\n",
    "\n",
    "2def threshold_recall_scores(yprob, ye, n_bins=7, order=2, limit=0):\n",
    "    # Calculate scores for threshold grid\n",
    "    bins = np.linspace(0, 1, n_bins)**order\n",
    "    scrs, cnt = [], 0\n",
    "    for bin0 in bins:\n",
    "        for bin1 in bins:\n",
    "            cnt+=1; co(wait=True); print(f'Threshold grid scoring. {cnt}/{len(bins)**2} threshold pairs scored.')\n",
    "            yp = predict_threshold(yprob, limit, thresholds=[bin0, bin1], percentile=True)\n",
    "            CR = metrics.classification_report(ye, yp, output_dict=True)\n",
    "            scrs.append([bin0, bin1, CR['accuracy'], CR['macro avg']['recall'], CR['0']['recall'], CR['1']['recall']])\n",
    "    return pd.DataFrame(scrs, columns=['threshold 0', 'threshold 1', 'acc', 'recall macro', 'recall 0', 'recall 1'])"
   ]
  },
  {
   "cell_type": "code",
   "execution_count": 950,
   "metadata": {},
   "outputs": [
    {
     "name": "stdout",
     "output_type": "stream",
     "text": [
      "Threshold grid scoring. 122/121 threshold pairs scored.\n"
     ]
    }
   ],
   "source": [
    "p_scrs = threshold_recall_scores(yprob['prob diff'], ye, n_bins=11, order=3, limit=0)"
   ]
  },
  {
   "cell_type": "code",
   "execution_count": 951,
   "metadata": {},
   "outputs": [
    {
     "data": {
      "image/png": "[encoded data removed]",
      "text/plain": [
       "<Figure size 504x360 with 1 Axes>"
      ]
     },
     "metadata": {},
     "output_type": "display_data"
    }
   ],
   "source": [
    "plot_recall_surface(p_scrs)"
   ]
  },
  {
   "cell_type": "code",
   "execution_count": 946,
   "metadata": {},
   "outputs": [],
   "source": [
    "def plot_recall_surface(p_scrs):\n",
    "    # define variables to plot\n",
    "    n_bins = len(p_scrs['threshold 0'].unique())\n",
    "    xx = p_scrs['threshold 0'].values.reshape(n_bins, n_bins)\n",
    "    yy = p_scrs['threshold 1'].values.reshape(n_bins, n_bins)\n",
    "    zz = p_scrs['recall macro'].values.reshape(n_bins, n_bins)\n",
    "    ww = p_scrs['recall 0'].values.reshape(n_bins, n_bins)\n",
    "    kk = p_scrs['recall 1'].values.reshape(n_bins, n_bins)\n",
    "\n",
    "    # plot surface for multiple angles\n",
    "    for angle in range(0, 360, 12):\n",
    "\n",
    "        fig = plt.figure(figsize=(7, 5), tight_layout=True)\n",
    "        ax = fig.add_subplot(projection='3d')\n",
    "        ax.plot_wireframe(xx, yy, zz, label='Recall macro avg')\n",
    "        ax.plot_wireframe(xx, yy, ww, color='orange', label='Recall class 0')\n",
    "        ax.plot_wireframe(xx, yy, kk, color='green', label='Recall class 1')\n",
    "        ax.set(xlabel='Threshold 0', ylabel='Threshold 1', zlabel='Recall', title='Threshold Recall Surface')\n",
    "        ax.legend()\n",
    "        ax.view_init(7, angle)\n",
    "        plt.show(); plt.pause(.1); co(wait=True)"
   ]
  },
  {
   "cell_type": "code",
   "execution_count": 911,
   "metadata": {},
   "outputs": [],
   "source": [
    "yprob = pd.DataFrame(baseline_fit.predict_proba(xe), index=xe.index)\n",
    "yprob['prob diff'] = yprob[1] - 0.5\n",
    "yprob['abs prob diff'] = np.abs(yprob['prob diff'])\n",
    "yprob['pred'] = yp"
   ]
  },
  {
   "cell_type": "code",
   "execution_count": 952,
   "metadata": {},
   "outputs": [
    {
     "name": "stdout",
     "output_type": "stream",
     "text": [
      "              precision    recall  f1-score   support\n",
      "\n",
      "           0       0.69      0.69      0.69     47583\n",
      "           1       0.69      0.70      0.69     47583\n",
      "\n",
      "    accuracy                           0.69     95166\n",
      "   macro avg       0.69      0.69      0.69     95166\n",
      "weighted avg       0.69      0.69      0.69     95166\n",
      "\n"
     ]
    }
   ],
   "source": [
    "print(cr(ye, yp))"
   ]
  },
  {
   "cell_type": "code",
   "execution_count": 953,
   "metadata": {},
   "outputs": [
    {
     "name": "stdout",
     "output_type": "stream",
     "text": [
      "              precision    recall  f1-score   support\n",
      "\n",
      "           0       0.70      0.67      0.68     47583\n",
      "           1       0.68      0.71      0.70     47583\n",
      "\n",
      "    accuracy                           0.69     95166\n",
      "   macro avg       0.69      0.69      0.69     95166\n",
      "weighted avg       0.69      0.69      0.69     95166\n",
      "\n"
     ]
    }
   ],
   "source": [
    "print(cr(ye, y_flip))"
   ]
  },
  {
   "cell_type": "markdown",
   "metadata": {},
   "source": [
    "### Score by multiple increasing maximal threshold"
   ]
  },
  {
   "cell_type": "code",
   "execution_count": 892,
   "metadata": {},
   "outputs": [],
   "source": [
    "n_bins = 11\n",
    "\n",
    "# Calculate scores for threshold grid\n",
    "def threshold_recall_scores(yp, ye, yprob, n_bins=6):\n",
    "    bins = np.linspace(0, 1, n_bins)\n",
    "    scrs = []\n",
    "    cnt = 0\n",
    "    for bin0 in bins:\n",
    "        for bin1 in bins:\n",
    "            cnt+=1; co(wait=True); print(f'Scoring for threshold grid of {n_bins} bins. {cnt}/{len(bins)**2} scores calculated.')\n",
    "            yprob_flip = predict_threshold(yprob['abs prob diff'], thresholds=[bin0, bin1], percentile=True)\n",
    "            CR = metrics.classification_report(ye, yprob_flip, output_dict=True)\n",
    "            scrs.append([bin0, bin1, CR['accuracy'], CR['macro avg']['recall'], CR['0']['recall'], CR['1']['recall']])\n",
    "    return pd.DataFrame(scrs, columns=['threshold 0', 'threshold 1', 'acc', 'recall macro', 'recall 0', 'recall 1'])\n",
    "\n",
    "def plot_threshold_recall_surfaces(p_scrs):\n",
    "    # define variables to plot\n",
    "    n_bins = len(p_scrs['threshold 0'].unique())\n",
    "    xx = p_scrs['threshold 0'].values.reshape(n_bins, n_bins)\n",
    "    yy = p_scrs['threshold 1'].values.reshape(n_bins, n_bins)\n",
    "    zz = p_scrs['recall macro'].values.reshape(n_bins, n_bins)\n",
    "    ww = p_scrs['recall 0'].values.reshape(n_bins, n_bins)\n",
    "    kk = p_scrs['recall 1'].values.reshape(n_bins, n_bins)\n",
    "\n",
    "    # plot surface for multiple angles\n",
    "    for angle in range(0, 360, 12):\n",
    "\n",
    "        fig = plt.figure(figsize=(6.5, 5), tight_layout=True)\n",
    "        ax = fig.add_subplot(projection='3d')\n",
    "        ax.plot_wireframe(xx, yy, zz, label='Recall macro avg')\n",
    "        ax.plot_wireframe(xx, yy, ww, color='orange', label='Recall class 0')\n",
    "        ax.plot_wireframe(xx, yy, kk, color='green', label='Recall class 1')\n",
    "        ax.set(xlabel='Threshold 0', ylabel='Threshold 1', zlabel='Recall', title='Threshold Recall Surface')\n",
    "        ax.legend()\n",
    "        ax.view_init(7, angle)\n",
    "        plt.show(); plt.pause(.1); co(wait=True)"
   ]
  },
  {
   "cell_type": "code",
   "execution_count": 889,
   "metadata": {},
   "outputs": [],
   "source": [
    "yprob = pd.DataFrame(model_fit.predict_proba(xe), index=xe.index)\n",
    "yprob['prob diff'] = yprob[1] - 0.5\n",
    "yprob['abs prob diff'] = np.abs(yprob['prob diff'])\n",
    "yprob['label'] = yp"
   ]
  },
  {
   "cell_type": "code",
   "execution_count": 893,
   "metadata": {},
   "outputs": [
    {
     "ename": "TypeError",
     "evalue": "predict_threshold() got an unexpected keyword argument 'n_bins'",
     "output_type": "error",
     "traceback": [
      "\u001b[1;31m---------------------------------------------------------------------------\u001b[0m",
      "\u001b[1;31mTypeError\u001b[0m                                 Traceback (most recent call last)",
      "\u001b[1;32m<ipython-input-893-83239b770999>\u001b[0m in \u001b[0;36m<module>\u001b[1;34m\u001b[0m\n\u001b[1;32m----> 1\u001b[1;33m \u001b[0mp_scrs\u001b[0m \u001b[1;33m=\u001b[0m \u001b[0mpredict_threshold\u001b[0m\u001b[1;33m(\u001b[0m\u001b[0myp\u001b[0m\u001b[1;33m,\u001b[0m \u001b[0mye\u001b[0m\u001b[1;33m,\u001b[0m \u001b[0myprob\u001b[0m\u001b[1;33m,\u001b[0m \u001b[0mn_bins\u001b[0m\u001b[1;33m=\u001b[0m\u001b[1;36m11\u001b[0m\u001b[1;33m)\u001b[0m\u001b[1;33m\u001b[0m\u001b[1;33m\u001b[0m\u001b[0m\n\u001b[0m",
      "\u001b[1;31mTypeError\u001b[0m: predict_threshold() got an unexpected keyword argument 'n_bins'"
     ]
    }
   ],
   "source": [
    "p_scrs = threshold_recall_scores(yp, ye, yprob, n_bins=11)"
   ]
  },
  {
   "cell_type": "code",
   "execution_count": 878,
   "metadata": {},
   "outputs": [
    {
     "data": {
      "image/png": "[encoded data removed]",
      "text/plain": [
       "<Figure size 468x360 with 1 Axes>"
      ]
     },
     "metadata": {},
     "output_type": "display_data"
    }
   ],
   "source": [
    "plot_threshold_recall_surfaces(p_scrs)"
   ]
  },
  {
   "cell_type": "code",
   "execution_count": null,
   "metadata": {},
   "outputs": [],
   "source": []
  }
 ],
 "metadata": {
  "kernelspec": {
   "display_name": "Python 3",
   "language": "python",
   "name": "python3"
  },
  "language_info": {
   "codemirror_mode": {
    "name": "ipython",
    "version": 3
   },
   "file_extension": ".py",
   "mimetype": "text/x-python",
   "name": "python",
   "nbconvert_exporter": "python",
   "pygments_lexer": "ipython3",
   "version": "3.8.3"
  }
 },
 "nbformat": 4,
 "nbformat_minor": 4
}
