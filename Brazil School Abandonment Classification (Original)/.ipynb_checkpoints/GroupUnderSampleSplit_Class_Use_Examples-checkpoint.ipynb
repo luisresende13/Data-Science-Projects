{
 "cells": [
  {
   "cell_type": "markdown",
   "metadata": {},
   "source": [
    "#### Importing modules"
   ]
  },
  {
   "cell_type": "code",
   "execution_count": 21,
   "metadata": {},
   "outputs": [],
   "source": [
    "import os\n",
    "import pandas as pd\n",
    "pd.set_option('max_colwidth', None)\n",
    "pd.set_option('max_columns', None)\n",
    "import numpy as np; np.random.seed(0)\n",
    "import matplotlib.pyplot as plt\n",
    "import seaborn as sns; sns.set()\n",
    "# from datetime import datetime\n",
    "from IPython.display import clear_output as co\n",
    "\n",
    "from sklearn.preprocessing import binarize \n",
    "from sklearn.metrics import classification_report as cr\n",
    "import sklearn.metrics as metrics\n",
    "from imblearn.under_sampling import RandomUnderSampler\n",
    "\n",
    "from sklearn.utils import all_estimators; classifiers = dict(all_estimators('classifier'))\n",
    "from sklearn.model_selection import (\n",
    "    train_test_split as tts\n",
    ")\n",
    "from cv_samplers import GroupUnderSampleSplit, target_categorical_distribution, categorical_undersampling\n",
    "# from CategoricalSampler import target_categorical_distribution, categorical_undersampling, tts_categorical\n",
    "# from Classification import Classifier, plot_lc_model_comparison\n",
    "# from NeuralNetwork import execute_neural_net, plot_learning_curve_comparison"
   ]
  },
  {
   "cell_type": "markdown",
   "metadata": {},
   "source": [
    "---\n",
    "# LOADING DATA"
   ]
  },
  {
   "cell_type": "code",
   "execution_count": 2,
   "metadata": {},
   "outputs": [],
   "source": [
    "data = pd.read_csv('data/grades/5th_grade.csv', index_col=0)\n",
    "data.drop('ID_ALUNO', 1, inplace=True)\n",
    "\n",
    "# Loading data information dictionaries\n",
    "data_path = '/Users/luisr/Desktop/Repositories/Data/saep/CSV/{}'\n",
    "grades = [5,9,3]; dict_filenames = [f'dicionario {i}ano.csv' for i in grades]\n",
    "dicts = {grade: pd.read_csv(data_path.format(filename)).set_index('questão') for grade, filename in zip(grades, dict_filenames)}\n",
    "\n",
    "#### Defining targets corresponding to each student grade\n",
    "targets = { # Abandonment\n",
    "    5: 'TX_RESP_Q049',\n",
    "    9: 'TX_RESP_Q050',\n",
    "    12: 'TX_RESP_Q044',\n",
    "}\n",
    "grade = 5\n",
    "target = targets[grade]\n",
    "\n",
    "#### List different types of features\n",
    "ids = data.columns[:10].tolist()\n",
    "questions = data.columns[10:64].tolist()\n",
    "grades = data.columns[64:].tolist()"
   ]
  },
  {
   "cell_type": "markdown",
   "metadata": {},
   "source": [
    "---\n",
    "# DATA TRANSFORMATION"
   ]
  },
  {
   "cell_type": "code",
   "execution_count": 3,
   "metadata": {},
   "outputs": [
    {
     "data": {
      "text/html": [
       "<div>\n",
       "<style scoped>\n",
       "    .dataframe tbody tr th:only-of-type {\n",
       "        vertical-align: middle;\n",
       "    }\n",
       "\n",
       "    .dataframe tbody tr th {\n",
       "        vertical-align: top;\n",
       "    }\n",
       "\n",
       "    .dataframe thead th {\n",
       "        text-align: right;\n",
       "    }\n",
       "</style>\n",
       "<table border=\"1\" class=\"dataframe\">\n",
       "  <thead>\n",
       "    <tr style=\"text-align: right;\">\n",
       "      <th></th>\n",
       "      <th>Target variable class count</th>\n",
       "    </tr>\n",
       "  </thead>\n",
       "  <tbody>\n",
       "    <tr>\n",
       "      <th>0</th>\n",
       "      <td>397232</td>\n",
       "    </tr>\n",
       "    <tr>\n",
       "      <th>1</th>\n",
       "      <td>50087</td>\n",
       "    </tr>\n",
       "  </tbody>\n",
       "</table>\n",
       "</div>"
      ],
      "text/plain": [
       "   Target variable class count\n",
       "0                       397232\n",
       "1                        50087"
      ]
     },
     "metadata": {},
     "output_type": "display_data"
    }
   ],
   "source": [
    "# eliminate rows where the target variable value is missing. obs: last label represent missing values (Label 3)\n",
    "modeling_data = data[data[target]!=data[target].max()].copy()\n",
    "# target variable binary conversion\n",
    "modeling_data[target] = binarize(modeling_data[[target]], threshold=0.5).reshape(-1)\n",
    "\n",
    "# define X and Y\n",
    "Y = modeling_data[target].copy()\n",
    "X = modeling_data.drop(target, 1)\n",
    "\n",
    "# FILLING MISSING VALUES WITH VARIABLES' MEANS\n",
    "for grade in grades:\n",
    "    X[grade].fillna(X[grade].mean(), inplace=True)\n",
    "    \n",
    "# target variable class count\n",
    "display(Y.value_counts().rename('Target variable class count').to_frame())"
   ]
  },
  {
   "cell_type": "markdown",
   "metadata": {},
   "source": [
    "---\n",
    "# USE CASE EXAMPLES FOR GROUP UNDER SAMPLING CLASS METHODS\n",
    "* GroupUnderSampleSplit(\n",
    "    n_splits=5,\n",
    "    train_size=0.3, train_prct=3,\n",
    "    test_size=0.3, test_prct=3,\n",
    "    group_col=None, key_col='ID_MUNICIPIO',\n",
    "    positional_index=False,\n",
    "    random_state=1, verbose=1\n",
    ")\n",
    "* single_split_index(_x, _y, cnt=None, shuffle=False, random_state=0)\n",
    "* undersample(_x, _y, cnt=None, shuffle=False, random_state=None)\n",
    "* train_test_split_index(_x, _y, cnt=None, shuffle=False, random_state=None)split(x, y, shuffle=True)\n",
    "* train_test_undersample( _x, _y, cnt=None, shuffle=False, random_state=None)\n",
    "* split(x, y, shuffle=True)"
   ]
  },
  {
   "cell_type": "markdown",
   "metadata": {},
   "source": [
    "#### Defining functions"
   ]
  },
  {
   "cell_type": "code",
   "execution_count": 4,
   "metadata": {},
   "outputs": [],
   "source": [
    "def print_cls_cnt(Y, t_ind, e_ind):\n",
    "    cls_cnt = pd.concat([Y[ind].value_counts().rename(col).to_frame() for ind, col in zip([t_ind, e_ind], ['Train set', 'Test set'])], 1)\n",
    "    cls_cnt.index.name = 'Class'\n",
    "    display(cls_cnt)\n",
    "\n",
    "def cv_df(cv_res, scoring):\n",
    "    return pd.DataFrame({scr: cv_res['test_'+scr] for scr in scoring})"
   ]
  },
  {
   "cell_type": "markdown",
   "metadata": {},
   "source": [
    "# GroupUnderSampleSplit class instance"
   ]
  },
  {
   "cell_type": "markdown",
   "metadata": {},
   "source": [
    "# Simple under sample split\n",
    "\n",
    "### Under sample both classes for training (all left for testing)\n",
    "\n",
    "##### 1/1 balanced train sample and test sample indexes"
   ]
  },
  {
   "cell_type": "markdown",
   "metadata": {},
   "source": [
    "##### Parameters:\n",
    "* 'train_size': float between 1. and 0. - fraction of samples in the minority class to select for training.\n",
    "* 'train_prct': float larger than 0. - ratio of majority/minority class samples in the training set."
   ]
  },
  {
   "cell_type": "code",
   "execution_count": 5,
   "metadata": {},
   "outputs": [
    {
     "data": {
      "text/html": [
       "<div>\n",
       "<style scoped>\n",
       "    .dataframe tbody tr th:only-of-type {\n",
       "        vertical-align: middle;\n",
       "    }\n",
       "\n",
       "    .dataframe tbody tr th {\n",
       "        vertical-align: top;\n",
       "    }\n",
       "\n",
       "    .dataframe thead th {\n",
       "        text-align: right;\n",
       "    }\n",
       "</style>\n",
       "<table border=\"1\" class=\"dataframe\">\n",
       "  <thead>\n",
       "    <tr style=\"text-align: right;\">\n",
       "      <th></th>\n",
       "      <th>Train set</th>\n",
       "      <th>Test set</th>\n",
       "    </tr>\n",
       "    <tr>\n",
       "      <th>Class</th>\n",
       "      <th></th>\n",
       "      <th></th>\n",
       "    </tr>\n",
       "  </thead>\n",
       "  <tbody>\n",
       "    <tr>\n",
       "      <th>0</th>\n",
       "      <td>10017</td>\n",
       "      <td>387215</td>\n",
       "    </tr>\n",
       "    <tr>\n",
       "      <th>1</th>\n",
       "      <td>10017</td>\n",
       "      <td>40070</td>\n",
       "    </tr>\n",
       "  </tbody>\n",
       "</table>\n",
       "</div>"
      ],
      "text/plain": [
       "       Train set  Test set\n",
       "Class                     \n",
       "0          10017    387215\n",
       "1          10017     40070"
      ]
     },
     "metadata": {},
     "output_type": "display_data"
    }
   ],
   "source": [
    "# instantiate class instance\n",
    "guss = GroupUnderSampleSplit(\n",
    "#     train_size=0.3, train_prct=1\n",
    ")\n",
    "t_index, e_index = guss.single_split_index(\n",
    "    X, Y, train_size=0.2, train_prct=1, #cnt=None, shuffle=False, random_state=0\n",
    ")\n",
    "print_cls_cnt(Y, t_index, e_index)"
   ]
  },
  {
   "cell_type": "markdown",
   "metadata": {},
   "source": [
    "#### Train and test x and y dataframes"
   ]
  },
  {
   "cell_type": "markdown",
   "metadata": {},
   "source": [
    "Corresponds to the same splitting above, but returns splitted x and y train and test sets instead of train and test indexes."
   ]
  },
  {
   "cell_type": "code",
   "execution_count": 6,
   "metadata": {},
   "outputs": [
    {
     "data": {
      "text/html": [
       "<div>\n",
       "<style scoped>\n",
       "    .dataframe tbody tr th:only-of-type {\n",
       "        vertical-align: middle;\n",
       "    }\n",
       "\n",
       "    .dataframe tbody tr th {\n",
       "        vertical-align: top;\n",
       "    }\n",
       "\n",
       "    .dataframe thead th {\n",
       "        text-align: right;\n",
       "    }\n",
       "</style>\n",
       "<table border=\"1\" class=\"dataframe\">\n",
       "  <thead>\n",
       "    <tr style=\"text-align: right;\">\n",
       "      <th></th>\n",
       "      <th>Train set</th>\n",
       "      <th>Test set</th>\n",
       "    </tr>\n",
       "    <tr>\n",
       "      <th>Class</th>\n",
       "      <th></th>\n",
       "      <th></th>\n",
       "    </tr>\n",
       "  </thead>\n",
       "  <tbody>\n",
       "    <tr>\n",
       "      <th>0</th>\n",
       "      <td>40069</td>\n",
       "      <td>357163</td>\n",
       "    </tr>\n",
       "    <tr>\n",
       "      <th>1</th>\n",
       "      <td>40070</td>\n",
       "      <td>10017</td>\n",
       "    </tr>\n",
       "  </tbody>\n",
       "</table>\n",
       "</div>"
      ],
      "text/plain": [
       "       Train set  Test set\n",
       "Class                     \n",
       "0          40069    357163\n",
       "1          40070     10017"
      ]
     },
     "metadata": {},
     "output_type": "display_data"
    }
   ],
   "source": [
    "xt, xe, yt, ye = guss.undersample(\n",
    "    X, Y, #cnt=None, shuffle=False, random_state=None\n",
    ")\n",
    "print_cls_cnt(Y, yt.index, ye.index)"
   ]
  },
  {
   "cell_type": "markdown",
   "metadata": {},
   "source": [
    "# Train and test under sample splits\n",
    "\n",
    "### Under sample both classes for training and testing"
   ]
  },
  {
   "cell_type": "markdown",
   "metadata": {},
   "source": [
    "Corresponds to the same splitting above, but returns splitted x and y train and test sets instead of train and test indexes."
   ]
  },
  {
   "cell_type": "code",
   "execution_count": 7,
   "metadata": {},
   "outputs": [],
   "source": [
    "guss = GroupUnderSampleSplit(\n",
    "#     n_splits=2,\n",
    "    train_size=0.2, train_prct=1,             # related to minority class size in given sample   # related to minotiy class size in train and test sets\n",
    "    test_size=0.6, test_prct=6,\n",
    ")"
   ]
  },
  {
   "cell_type": "markdown",
   "metadata": {},
   "source": [
    "#### 3/1 imbalanced train sample and 8/1 imbalanced test sample  indexes for 4% of the minority class for training and 30% for testing"
   ]
  },
  {
   "cell_type": "code",
   "execution_count": 8,
   "metadata": {},
   "outputs": [
    {
     "data": {
      "text/html": [
       "<div>\n",
       "<style scoped>\n",
       "    .dataframe tbody tr th:only-of-type {\n",
       "        vertical-align: middle;\n",
       "    }\n",
       "\n",
       "    .dataframe tbody tr th {\n",
       "        vertical-align: top;\n",
       "    }\n",
       "\n",
       "    .dataframe thead th {\n",
       "        text-align: right;\n",
       "    }\n",
       "</style>\n",
       "<table border=\"1\" class=\"dataframe\">\n",
       "  <thead>\n",
       "    <tr style=\"text-align: right;\">\n",
       "      <th></th>\n",
       "      <th>Train set</th>\n",
       "      <th>Test set</th>\n",
       "    </tr>\n",
       "    <tr>\n",
       "      <th>Class</th>\n",
       "      <th></th>\n",
       "      <th></th>\n",
       "    </tr>\n",
       "  </thead>\n",
       "  <tbody>\n",
       "    <tr>\n",
       "      <th>0</th>\n",
       "      <td>10017</td>\n",
       "      <td>180315</td>\n",
       "    </tr>\n",
       "    <tr>\n",
       "      <th>1</th>\n",
       "      <td>10017</td>\n",
       "      <td>30052</td>\n",
       "    </tr>\n",
       "  </tbody>\n",
       "</table>\n",
       "</div>"
      ],
      "text/plain": [
       "       Train set  Test set\n",
       "Class                     \n",
       "0          10017    180315\n",
       "1          10017     30052"
      ]
     },
     "metadata": {},
     "output_type": "display_data"
    }
   ],
   "source": [
    "t_index, e_index = guss.train_test_split_index(\n",
    "    X, Y, # cnt=None, shuffle=False, random_state=0\n",
    ")\n",
    "print_cls_cnt(Y, t_index, e_index)"
   ]
  },
  {
   "cell_type": "markdown",
   "metadata": {},
   "source": [
    "#### Train and test x and y dataframes"
   ]
  },
  {
   "cell_type": "markdown",
   "metadata": {},
   "source": [
    "Corresponds to the same splitting above, but returns splitted x and y train and test sets instead of train and test indexes."
   ]
  },
  {
   "cell_type": "code",
   "execution_count": 9,
   "metadata": {},
   "outputs": [
    {
     "data": {
      "text/html": [
       "<div>\n",
       "<style scoped>\n",
       "    .dataframe tbody tr th:only-of-type {\n",
       "        vertical-align: middle;\n",
       "    }\n",
       "\n",
       "    .dataframe tbody tr th {\n",
       "        vertical-align: top;\n",
       "    }\n",
       "\n",
       "    .dataframe thead th {\n",
       "        text-align: right;\n",
       "    }\n",
       "</style>\n",
       "<table border=\"1\" class=\"dataframe\">\n",
       "  <thead>\n",
       "    <tr style=\"text-align: right;\">\n",
       "      <th></th>\n",
       "      <th>Train set</th>\n",
       "      <th>Test set</th>\n",
       "    </tr>\n",
       "    <tr>\n",
       "      <th>Class</th>\n",
       "      <th></th>\n",
       "      <th></th>\n",
       "    </tr>\n",
       "  </thead>\n",
       "  <tbody>\n",
       "    <tr>\n",
       "      <th>0</th>\n",
       "      <td>10017</td>\n",
       "      <td>180315</td>\n",
       "    </tr>\n",
       "    <tr>\n",
       "      <th>1</th>\n",
       "      <td>10017</td>\n",
       "      <td>30052</td>\n",
       "    </tr>\n",
       "  </tbody>\n",
       "</table>\n",
       "</div>"
      ],
      "text/plain": [
       "       Train set  Test set\n",
       "Class                     \n",
       "0          10017    180315\n",
       "1          10017     30052"
      ]
     },
     "metadata": {},
     "output_type": "display_data"
    }
   ],
   "source": [
    "xt, xe, yt, ye = guss.train_test_undersample(\n",
    "    X, Y, # cnt=None, shuffle=False, random_state=0\n",
    ")\n",
    "print_cls_cnt(Y, yt.index, ye.index)"
   ]
  },
  {
   "cell_type": "markdown",
   "metadata": {},
   "source": [
    "# Train and test under sample per category\n",
    "\n",
    "### Under sample classes for train and test samples by under sampling each category independently (with replacement if rounded train_prct * n_minority_samples > n_majority_samples)"
   ]
  },
  {
   "cell_type": "code",
   "execution_count": 10,
   "metadata": {},
   "outputs": [],
   "source": [
    "key_col = 'ID_MUNICIPIO'"
   ]
  },
  {
   "cell_type": "code",
   "execution_count": 11,
   "metadata": {},
   "outputs": [],
   "source": [
    "guss = GroupUnderSampleSplit(\n",
    "    train_size=0.2, train_prct=1,             # related to minority class size in given sample   # related to minotiy class size in train and test sets\n",
    "    test_size=0.6, test_prct=6,\n",
    "#     group_col=group_col,\n",
    "    key_col=key_col,\n",
    ")"
   ]
  },
  {
   "cell_type": "markdown",
   "metadata": {},
   "source": [
    "#### Train and test x and y dataframes"
   ]
  },
  {
   "cell_type": "code",
   "execution_count": 12,
   "metadata": {},
   "outputs": [
    {
     "data": {
      "text/html": [
       "<div>\n",
       "<style scoped>\n",
       "    .dataframe tbody tr th:only-of-type {\n",
       "        vertical-align: middle;\n",
       "    }\n",
       "\n",
       "    .dataframe tbody tr th {\n",
       "        vertical-align: top;\n",
       "    }\n",
       "\n",
       "    .dataframe thead th {\n",
       "        text-align: right;\n",
       "    }\n",
       "</style>\n",
       "<table border=\"1\" class=\"dataframe\">\n",
       "  <thead>\n",
       "    <tr style=\"text-align: right;\">\n",
       "      <th></th>\n",
       "      <th>Train set</th>\n",
       "      <th>Test set</th>\n",
       "    </tr>\n",
       "    <tr>\n",
       "      <th>Class</th>\n",
       "      <th></th>\n",
       "      <th></th>\n",
       "    </tr>\n",
       "  </thead>\n",
       "  <tbody>\n",
       "    <tr>\n",
       "      <th>0</th>\n",
       "      <td>10017</td>\n",
       "      <td>180315</td>\n",
       "    </tr>\n",
       "    <tr>\n",
       "      <th>1</th>\n",
       "      <td>10017</td>\n",
       "      <td>30052</td>\n",
       "    </tr>\n",
       "  </tbody>\n",
       "</table>\n",
       "</div>"
      ],
      "text/plain": [
       "       Train set  Test set\n",
       "Class                     \n",
       "0          10017    180315\n",
       "1          10017     30052"
      ]
     },
     "metadata": {},
     "output_type": "display_data"
    }
   ],
   "source": [
    "xt, xe, yt, ye = guss.train_test_undersample(X, Y, cnt=None, shuffle=False, random_state=0)\n",
    "print_cls_cnt(Y, yt.index, ye.index)"
   ]
  },
  {
   "cell_type": "markdown",
   "metadata": {},
   "source": [
    "#### Key class count for minority and majority class"
   ]
  },
  {
   "cell_type": "markdown",
   "metadata": {},
   "source": [
    "##### In the train set"
   ]
  },
  {
   "cell_type": "code",
   "execution_count": 13,
   "metadata": {},
   "outputs": [
    {
     "name": "stdout",
     "output_type": "stream",
     "text": [
      "ID_MUNICIPIO evaluated: 927/927\n"
     ]
    },
    {
     "data": {
      "text/html": [
       "<div>\n",
       "<style scoped>\n",
       "    .dataframe tbody tr th:only-of-type {\n",
       "        vertical-align: middle;\n",
       "    }\n",
       "\n",
       "    .dataframe tbody tr th {\n",
       "        vertical-align: top;\n",
       "    }\n",
       "\n",
       "    .dataframe thead th {\n",
       "        text-align: right;\n",
       "    }\n",
       "</style>\n",
       "<table border=\"1\" class=\"dataframe\">\n",
       "  <thead>\n",
       "    <tr style=\"text-align: right;\">\n",
       "      <th></th>\n",
       "      <th>0</th>\n",
       "      <th>1</th>\n",
       "      <th>2</th>\n",
       "      <th>3</th>\n",
       "      <th>4</th>\n",
       "      <th>6</th>\n",
       "      <th>7</th>\n",
       "      <th>8</th>\n",
       "      <th>9</th>\n",
       "      <th>10</th>\n",
       "      <th>...</th>\n",
       "      <th>1037</th>\n",
       "      <th>1038</th>\n",
       "      <th>1039</th>\n",
       "      <th>1040</th>\n",
       "      <th>1041</th>\n",
       "      <th>1042</th>\n",
       "      <th>1043</th>\n",
       "      <th>1044</th>\n",
       "      <th>1045</th>\n",
       "      <th>1046</th>\n",
       "    </tr>\n",
       "  </thead>\n",
       "  <tbody>\n",
       "    <tr>\n",
       "      <th>0</th>\n",
       "      <td>3</td>\n",
       "      <td>20</td>\n",
       "      <td>0.0</td>\n",
       "      <td>11</td>\n",
       "      <td>2</td>\n",
       "      <td>0.0</td>\n",
       "      <td>4</td>\n",
       "      <td>6</td>\n",
       "      <td>10</td>\n",
       "      <td>14</td>\n",
       "      <td>...</td>\n",
       "      <td>3</td>\n",
       "      <td>20</td>\n",
       "      <td>3</td>\n",
       "      <td>9</td>\n",
       "      <td>5</td>\n",
       "      <td>1</td>\n",
       "      <td>11</td>\n",
       "      <td>5</td>\n",
       "      <td>11</td>\n",
       "      <td>7</td>\n",
       "    </tr>\n",
       "    <tr>\n",
       "      <th>1</th>\n",
       "      <td>3</td>\n",
       "      <td>20</td>\n",
       "      <td>1.0</td>\n",
       "      <td>4</td>\n",
       "      <td>4</td>\n",
       "      <td>1.0</td>\n",
       "      <td>2</td>\n",
       "      <td>4</td>\n",
       "      <td>14</td>\n",
       "      <td>12</td>\n",
       "      <td>...</td>\n",
       "      <td>1</td>\n",
       "      <td>19</td>\n",
       "      <td>5</td>\n",
       "      <td>12</td>\n",
       "      <td>1</td>\n",
       "      <td>1</td>\n",
       "      <td>8</td>\n",
       "      <td>4</td>\n",
       "      <td>17</td>\n",
       "      <td>9</td>\n",
       "    </tr>\n",
       "  </tbody>\n",
       "</table>\n",
       "<p>2 rows × 927 columns</p>\n",
       "</div>"
      ],
      "text/plain": [
       "   0     1     2     3     4     6     7     8     9     10    ...  1037  \\\n",
       "0     3    20   0.0    11     2   0.0     4     6    10    14  ...     3   \n",
       "1     3    20   1.0     4     4   1.0     2     4    14    12  ...     1   \n",
       "\n",
       "   1038  1039  1040  1041  1042  1043  1044  1045  1046  \n",
       "0    20     3     9     5     1    11     5    11     7  \n",
       "1    19     5    12     1     1     8     4    17     9  \n",
       "\n",
       "[2 rows x 927 columns]"
      ]
     },
     "execution_count": 13,
     "metadata": {},
     "output_type": "execute_result"
    }
   ],
   "source": [
    "tcd = target_categorical_distribution(xt, yt, col=key_col, verbose=1); tcd"
   ]
  },
  {
   "cell_type": "markdown",
   "metadata": {},
   "source": [
    "##### In the test set"
   ]
  },
  {
   "cell_type": "code",
   "execution_count": 14,
   "metadata": {},
   "outputs": [
    {
     "name": "stdout",
     "output_type": "stream",
     "text": [
      "ID_MUNICIPIO evaluated: 1008/1008\n"
     ]
    },
    {
     "data": {
      "text/html": [
       "<div>\n",
       "<style scoped>\n",
       "    .dataframe tbody tr th:only-of-type {\n",
       "        vertical-align: middle;\n",
       "    }\n",
       "\n",
       "    .dataframe tbody tr th {\n",
       "        vertical-align: top;\n",
       "    }\n",
       "\n",
       "    .dataframe thead th {\n",
       "        text-align: right;\n",
       "    }\n",
       "</style>\n",
       "<table border=\"1\" class=\"dataframe\">\n",
       "  <thead>\n",
       "    <tr style=\"text-align: right;\">\n",
       "      <th></th>\n",
       "      <th>0</th>\n",
       "      <th>1</th>\n",
       "      <th>3</th>\n",
       "      <th>4</th>\n",
       "      <th>5</th>\n",
       "      <th>6</th>\n",
       "      <th>7</th>\n",
       "      <th>8</th>\n",
       "      <th>9</th>\n",
       "      <th>10</th>\n",
       "      <th>...</th>\n",
       "      <th>1037</th>\n",
       "      <th>1038</th>\n",
       "      <th>1039</th>\n",
       "      <th>1040</th>\n",
       "      <th>1041</th>\n",
       "      <th>1042</th>\n",
       "      <th>1043</th>\n",
       "      <th>1044</th>\n",
       "      <th>1045</th>\n",
       "      <th>1046</th>\n",
       "    </tr>\n",
       "  </thead>\n",
       "  <tbody>\n",
       "    <tr>\n",
       "      <th>0</th>\n",
       "      <td>44</td>\n",
       "      <td>418</td>\n",
       "      <td>253</td>\n",
       "      <td>29</td>\n",
       "      <td>25</td>\n",
       "      <td>29</td>\n",
       "      <td>41</td>\n",
       "      <td>98</td>\n",
       "      <td>237</td>\n",
       "      <td>195</td>\n",
       "      <td>...</td>\n",
       "      <td>30</td>\n",
       "      <td>398</td>\n",
       "      <td>65</td>\n",
       "      <td>195</td>\n",
       "      <td>88</td>\n",
       "      <td>66</td>\n",
       "      <td>173</td>\n",
       "      <td>115</td>\n",
       "      <td>361</td>\n",
       "      <td>157</td>\n",
       "    </tr>\n",
       "    <tr>\n",
       "      <th>1</th>\n",
       "      <td>7</td>\n",
       "      <td>73</td>\n",
       "      <td>43</td>\n",
       "      <td>5</td>\n",
       "      <td>3</td>\n",
       "      <td>4</td>\n",
       "      <td>7</td>\n",
       "      <td>14</td>\n",
       "      <td>39</td>\n",
       "      <td>35</td>\n",
       "      <td>...</td>\n",
       "      <td>3</td>\n",
       "      <td>71</td>\n",
       "      <td>11</td>\n",
       "      <td>34</td>\n",
       "      <td>12</td>\n",
       "      <td>10</td>\n",
       "      <td>30</td>\n",
       "      <td>22</td>\n",
       "      <td>62</td>\n",
       "      <td>27</td>\n",
       "    </tr>\n",
       "  </tbody>\n",
       "</table>\n",
       "<p>2 rows × 1008 columns</p>\n",
       "</div>"
      ],
      "text/plain": [
       "   0     1     3     4     5     6     7     8     9     10    ...  1037  \\\n",
       "0    44   418   253    29    25    29    41    98   237   195  ...    30   \n",
       "1     7    73    43     5     3     4     7    14    39    35  ...     3   \n",
       "\n",
       "   1038  1039  1040  1041  1042  1043  1044  1045  1046  \n",
       "0   398    65   195    88    66   173   115   361   157  \n",
       "1    71    11    34    12    10    30    22    62    27  \n",
       "\n",
       "[2 rows x 1008 columns]"
      ]
     },
     "execution_count": 14,
     "metadata": {},
     "output_type": "execute_result"
    }
   ],
   "source": [
    "tcd = target_categorical_distribution(xe, ye, col=key_col, verbose=1); tcd"
   ]
  },
  {
   "cell_type": "markdown",
   "metadata": {},
   "source": [
    "# Train and test under sample + group shuffle split\n",
    "\n",
    "#### Under sample each category independently then group shuffle split categories by specified sample size - for train set then for test set independently"
   ]
  },
  {
   "cell_type": "code",
   "execution_count": 15,
   "metadata": {},
   "outputs": [],
   "source": [
    "# key_col = 'ID_MUNICIPIO'\n",
    "group_col = 'ID_MUNICIPIO'"
   ]
  },
  {
   "cell_type": "code",
   "execution_count": 16,
   "metadata": {},
   "outputs": [],
   "source": [
    "guss = GroupUnderSampleSplit(\n",
    "#     n_splits=2,\n",
    "    train_size=0.04, train_prct=1,             # related to minority class size in given sample   # related to minotiy class size in train and test sets\n",
    "    test_size=0.3, test_prct=6,\n",
    "    group_col=group_col,\n",
    "#     key_col=key_col\n",
    ")"
   ]
  },
  {
   "cell_type": "markdown",
   "metadata": {},
   "source": [
    "#### Train and test x and y dataframes"
   ]
  },
  {
   "cell_type": "code",
   "execution_count": 17,
   "metadata": {},
   "outputs": [
    {
     "data": {
      "text/html": [
       "<div>\n",
       "<style scoped>\n",
       "    .dataframe tbody tr th:only-of-type {\n",
       "        vertical-align: middle;\n",
       "    }\n",
       "\n",
       "    .dataframe tbody tr th {\n",
       "        vertical-align: top;\n",
       "    }\n",
       "\n",
       "    .dataframe thead th {\n",
       "        text-align: right;\n",
       "    }\n",
       "</style>\n",
       "<table border=\"1\" class=\"dataframe\">\n",
       "  <thead>\n",
       "    <tr style=\"text-align: right;\">\n",
       "      <th></th>\n",
       "      <th>Train set</th>\n",
       "      <th>Test set</th>\n",
       "    </tr>\n",
       "    <tr>\n",
       "      <th>Class</th>\n",
       "      <th></th>\n",
       "      <th></th>\n",
       "    </tr>\n",
       "  </thead>\n",
       "  <tbody>\n",
       "    <tr>\n",
       "      <th>0</th>\n",
       "      <td>1297</td>\n",
       "      <td>88963</td>\n",
       "    </tr>\n",
       "    <tr>\n",
       "      <th>1</th>\n",
       "      <td>1292</td>\n",
       "      <td>15030</td>\n",
       "    </tr>\n",
       "  </tbody>\n",
       "</table>\n",
       "</div>"
      ],
      "text/plain": [
       "       Train set  Test set\n",
       "Class                     \n",
       "0           1297     88963\n",
       "1           1292     15030"
      ]
     },
     "metadata": {},
     "output_type": "display_data"
    }
   ],
   "source": [
    "xt, xe, yt, ye = guss.train_test_undersample(X, Y, cnt=None, shuffle=False, random_state=None)\n",
    "print_cls_cnt(Y, yt.index, ye.index)"
   ]
  },
  {
   "cell_type": "markdown",
   "metadata": {},
   "source": [
    "#### Key class count for minority and majority class"
   ]
  },
  {
   "cell_type": "markdown",
   "metadata": {},
   "source": [
    "##### In the train set"
   ]
  },
  {
   "cell_type": "code",
   "execution_count": 18,
   "metadata": {},
   "outputs": [
    {
     "name": "stdout",
     "output_type": "stream",
     "text": [
      "ID_MUNICIPIO evaluated: 42/42\n"
     ]
    },
    {
     "data": {
      "text/html": [
       "<div>\n",
       "<style scoped>\n",
       "    .dataframe tbody tr th:only-of-type {\n",
       "        vertical-align: middle;\n",
       "    }\n",
       "\n",
       "    .dataframe tbody tr th {\n",
       "        vertical-align: top;\n",
       "    }\n",
       "\n",
       "    .dataframe thead th {\n",
       "        text-align: right;\n",
       "    }\n",
       "</style>\n",
       "<table border=\"1\" class=\"dataframe\">\n",
       "  <thead>\n",
       "    <tr style=\"text-align: right;\">\n",
       "      <th></th>\n",
       "      <th>9</th>\n",
       "      <th>38</th>\n",
       "      <th>61</th>\n",
       "      <th>67</th>\n",
       "      <th>70</th>\n",
       "      <th>105</th>\n",
       "      <th>179</th>\n",
       "      <th>221</th>\n",
       "      <th>226</th>\n",
       "      <th>230</th>\n",
       "      <th>...</th>\n",
       "      <th>795</th>\n",
       "      <th>802</th>\n",
       "      <th>820</th>\n",
       "      <th>835</th>\n",
       "      <th>860</th>\n",
       "      <th>910</th>\n",
       "      <th>950</th>\n",
       "      <th>965</th>\n",
       "      <th>973</th>\n",
       "      <th>994</th>\n",
       "    </tr>\n",
       "  </thead>\n",
       "  <tbody>\n",
       "    <tr>\n",
       "      <th>0</th>\n",
       "      <td>90</td>\n",
       "      <td>8</td>\n",
       "      <td>5</td>\n",
       "      <td>8</td>\n",
       "      <td>43</td>\n",
       "      <td>11</td>\n",
       "      <td>31</td>\n",
       "      <td>58</td>\n",
       "      <td>15</td>\n",
       "      <td>65</td>\n",
       "      <td>...</td>\n",
       "      <td>1</td>\n",
       "      <td>2</td>\n",
       "      <td>10</td>\n",
       "      <td>3</td>\n",
       "      <td>8</td>\n",
       "      <td>21</td>\n",
       "      <td>14</td>\n",
       "      <td>78</td>\n",
       "      <td>71</td>\n",
       "      <td>47</td>\n",
       "    </tr>\n",
       "    <tr>\n",
       "      <th>1</th>\n",
       "      <td>67</td>\n",
       "      <td>7</td>\n",
       "      <td>23</td>\n",
       "      <td>20</td>\n",
       "      <td>46</td>\n",
       "      <td>20</td>\n",
       "      <td>44</td>\n",
       "      <td>65</td>\n",
       "      <td>18</td>\n",
       "      <td>65</td>\n",
       "      <td>...</td>\n",
       "      <td>3</td>\n",
       "      <td>4</td>\n",
       "      <td>12</td>\n",
       "      <td>1</td>\n",
       "      <td>3</td>\n",
       "      <td>17</td>\n",
       "      <td>5</td>\n",
       "      <td>65</td>\n",
       "      <td>48</td>\n",
       "      <td>44</td>\n",
       "    </tr>\n",
       "  </tbody>\n",
       "</table>\n",
       "<p>2 rows × 42 columns</p>\n",
       "</div>"
      ],
      "text/plain": [
       "   9    38   61   67   70   105  179  221  226  230  ...  795  802  820  835  \\\n",
       "0   90    8    5    8   43   11   31   58   15   65  ...    1    2   10    3   \n",
       "1   67    7   23   20   46   20   44   65   18   65  ...    3    4   12    1   \n",
       "\n",
       "   860  910  950  965  973  994  \n",
       "0    8   21   14   78   71   47  \n",
       "1    3   17    5   65   48   44  \n",
       "\n",
       "[2 rows x 42 columns]"
      ]
     },
     "execution_count": 18,
     "metadata": {},
     "output_type": "execute_result"
    }
   ],
   "source": [
    "tcd = target_categorical_distribution(xt, yt, col=key_col, verbose=1); tcd"
   ]
  },
  {
   "cell_type": "markdown",
   "metadata": {},
   "source": [
    "##### In the test set"
   ]
  },
  {
   "cell_type": "code",
   "execution_count": 19,
   "metadata": {},
   "outputs": [
    {
     "name": "stdout",
     "output_type": "stream",
     "text": [
      "ID_MUNICIPIO evaluated: 324/324\n"
     ]
    },
    {
     "data": {
      "text/html": [
       "<div>\n",
       "<style scoped>\n",
       "    .dataframe tbody tr th:only-of-type {\n",
       "        vertical-align: middle;\n",
       "    }\n",
       "\n",
       "    .dataframe tbody tr th {\n",
       "        vertical-align: top;\n",
       "    }\n",
       "\n",
       "    .dataframe thead th {\n",
       "        text-align: right;\n",
       "    }\n",
       "</style>\n",
       "<table border=\"1\" class=\"dataframe\">\n",
       "  <thead>\n",
       "    <tr style=\"text-align: right;\">\n",
       "      <th></th>\n",
       "      <th>0</th>\n",
       "      <th>2</th>\n",
       "      <th>3</th>\n",
       "      <th>5</th>\n",
       "      <th>7</th>\n",
       "      <th>12</th>\n",
       "      <th>14</th>\n",
       "      <th>25</th>\n",
       "      <th>26</th>\n",
       "      <th>29</th>\n",
       "      <th>...</th>\n",
       "      <th>1027</th>\n",
       "      <th>1030</th>\n",
       "      <th>1031</th>\n",
       "      <th>1033</th>\n",
       "      <th>1038</th>\n",
       "      <th>1039</th>\n",
       "      <th>1041</th>\n",
       "      <th>1043</th>\n",
       "      <th>1044</th>\n",
       "      <th>1045</th>\n",
       "    </tr>\n",
       "  </thead>\n",
       "  <tbody>\n",
       "    <tr>\n",
       "      <th>0</th>\n",
       "      <td>98</td>\n",
       "      <td>57</td>\n",
       "      <td>648</td>\n",
       "      <td>103</td>\n",
       "      <td>141</td>\n",
       "      <td>302</td>\n",
       "      <td>277</td>\n",
       "      <td>70</td>\n",
       "      <td>156</td>\n",
       "      <td>43</td>\n",
       "      <td>...</td>\n",
       "      <td>99</td>\n",
       "      <td>208</td>\n",
       "      <td>311</td>\n",
       "      <td>523</td>\n",
       "      <td>1792</td>\n",
       "      <td>151</td>\n",
       "      <td>225</td>\n",
       "      <td>461</td>\n",
       "      <td>138</td>\n",
       "      <td>772</td>\n",
       "    </tr>\n",
       "    <tr>\n",
       "      <th>1</th>\n",
       "      <td>12</td>\n",
       "      <td>1</td>\n",
       "      <td>59</td>\n",
       "      <td>5</td>\n",
       "      <td>12</td>\n",
       "      <td>56</td>\n",
       "      <td>34</td>\n",
       "      <td>8</td>\n",
       "      <td>21</td>\n",
       "      <td>3</td>\n",
       "      <td>...</td>\n",
       "      <td>16</td>\n",
       "      <td>33</td>\n",
       "      <td>44</td>\n",
       "      <td>78</td>\n",
       "      <td>103</td>\n",
       "      <td>18</td>\n",
       "      <td>20</td>\n",
       "      <td>47</td>\n",
       "      <td>29</td>\n",
       "      <td>97</td>\n",
       "    </tr>\n",
       "  </tbody>\n",
       "</table>\n",
       "<p>2 rows × 324 columns</p>\n",
       "</div>"
      ],
      "text/plain": [
       "   0     2     3     5     7     12    14    25    26    29    ...  1027  \\\n",
       "0    98    57   648   103   141   302   277    70   156    43  ...    99   \n",
       "1    12     1    59     5    12    56    34     8    21     3  ...    16   \n",
       "\n",
       "   1030  1031  1033  1038  1039  1041  1043  1044  1045  \n",
       "0   208   311   523  1792   151   225   461   138   772  \n",
       "1    33    44    78   103    18    20    47    29    97  \n",
       "\n",
       "[2 rows x 324 columns]"
      ]
     },
     "execution_count": 19,
     "metadata": {},
     "output_type": "execute_result"
    }
   ],
   "source": [
    "tcd = target_categorical_distribution(xe, ye, col=key_col, verbose=1); tcd"
   ]
  },
  {
   "cell_type": "markdown",
   "metadata": {},
   "source": [
    "# Train and test under sample per category + group shuffle split\n",
    "\n",
    "#### Under sample each category independently then group shuffle split categories by specified sample size - for train set then for test set independently"
   ]
  },
  {
   "cell_type": "code",
   "execution_count": 20,
   "metadata": {},
   "outputs": [],
   "source": [
    "key_col = 'ID_MUNICIPIO'\n",
    "group_col = 'ID_MUNICIPIO'"
   ]
  },
  {
   "cell_type": "code",
   "execution_count": 21,
   "metadata": {},
   "outputs": [],
   "source": [
    "guss = GroupUnderSampleSplit(\n",
    "    train_size=0.2, train_prct=1,             # related to minority class size in given sample   # related to minotiy class size in train and test sets\n",
    "    test_size=0.6, test_prct=6,\n",
    "    group_col=group_col,\n",
    "    key_col=key_col\n",
    ")"
   ]
  },
  {
   "cell_type": "markdown",
   "metadata": {},
   "source": [
    "#### Train and test x and y dataframes"
   ]
  },
  {
   "cell_type": "code",
   "execution_count": 22,
   "metadata": {},
   "outputs": [
    {
     "data": {
      "text/html": [
       "<div>\n",
       "<style scoped>\n",
       "    .dataframe tbody tr th:only-of-type {\n",
       "        vertical-align: middle;\n",
       "    }\n",
       "\n",
       "    .dataframe tbody tr th {\n",
       "        vertical-align: top;\n",
       "    }\n",
       "\n",
       "    .dataframe thead th {\n",
       "        text-align: right;\n",
       "    }\n",
       "</style>\n",
       "<table border=\"1\" class=\"dataframe\">\n",
       "  <thead>\n",
       "    <tr style=\"text-align: right;\">\n",
       "      <th></th>\n",
       "      <th>Train set</th>\n",
       "      <th>Test set</th>\n",
       "    </tr>\n",
       "    <tr>\n",
       "      <th>Class</th>\n",
       "      <th></th>\n",
       "      <th></th>\n",
       "    </tr>\n",
       "  </thead>\n",
       "  <tbody>\n",
       "    <tr>\n",
       "      <th>0</th>\n",
       "      <td>9891</td>\n",
       "      <td>173436</td>\n",
       "    </tr>\n",
       "    <tr>\n",
       "      <th>1</th>\n",
       "      <td>9891</td>\n",
       "      <td>28906</td>\n",
       "    </tr>\n",
       "  </tbody>\n",
       "</table>\n",
       "</div>"
      ],
      "text/plain": [
       "       Train set  Test set\n",
       "Class                     \n",
       "0           9891    173436\n",
       "1           9891     28906"
      ]
     },
     "metadata": {},
     "output_type": "display_data"
    }
   ],
   "source": [
    "xt, xe, yt, ye = guss.train_test_undersample(X, Y, cnt=None, shuffle=False, random_state=None)\n",
    "print_cls_cnt(Y, yt.index, ye.index)"
   ]
  },
  {
   "cell_type": "markdown",
   "metadata": {},
   "source": [
    "#### Key class count for minority and majority class"
   ]
  },
  {
   "cell_type": "markdown",
   "metadata": {},
   "source": [
    "##### In the train set"
   ]
  },
  {
   "cell_type": "code",
   "execution_count": 23,
   "metadata": {},
   "outputs": [
    {
     "name": "stdout",
     "output_type": "stream",
     "text": [
      "ID_MUNICIPIO evaluated: 229/229\n"
     ]
    },
    {
     "data": {
      "text/html": [
       "<div>\n",
       "<style scoped>\n",
       "    .dataframe tbody tr th:only-of-type {\n",
       "        vertical-align: middle;\n",
       "    }\n",
       "\n",
       "    .dataframe tbody tr th {\n",
       "        vertical-align: top;\n",
       "    }\n",
       "\n",
       "    .dataframe thead th {\n",
       "        text-align: right;\n",
       "    }\n",
       "</style>\n",
       "<table border=\"1\" class=\"dataframe\">\n",
       "  <thead>\n",
       "    <tr style=\"text-align: right;\">\n",
       "      <th></th>\n",
       "      <th>4</th>\n",
       "      <th>6</th>\n",
       "      <th>11</th>\n",
       "      <th>12</th>\n",
       "      <th>22</th>\n",
       "      <th>29</th>\n",
       "      <th>51</th>\n",
       "      <th>62</th>\n",
       "      <th>67</th>\n",
       "      <th>75</th>\n",
       "      <th>...</th>\n",
       "      <th>1024</th>\n",
       "      <th>1025</th>\n",
       "      <th>1027</th>\n",
       "      <th>1028</th>\n",
       "      <th>1029</th>\n",
       "      <th>1031</th>\n",
       "      <th>1036</th>\n",
       "      <th>1040</th>\n",
       "      <th>1044</th>\n",
       "      <th>1045</th>\n",
       "    </tr>\n",
       "  </thead>\n",
       "  <tbody>\n",
       "    <tr>\n",
       "      <th>1</th>\n",
       "      <td>11</td>\n",
       "      <td>8</td>\n",
       "      <td>96</td>\n",
       "      <td>56</td>\n",
       "      <td>26</td>\n",
       "      <td>3</td>\n",
       "      <td>9</td>\n",
       "      <td>11</td>\n",
       "      <td>20</td>\n",
       "      <td>40</td>\n",
       "      <td>...</td>\n",
       "      <td>47</td>\n",
       "      <td>32</td>\n",
       "      <td>16</td>\n",
       "      <td>25</td>\n",
       "      <td>95</td>\n",
       "      <td>44</td>\n",
       "      <td>29</td>\n",
       "      <td>54</td>\n",
       "      <td>29</td>\n",
       "      <td>97</td>\n",
       "    </tr>\n",
       "    <tr>\n",
       "      <th>0</th>\n",
       "      <td>11</td>\n",
       "      <td>8</td>\n",
       "      <td>96</td>\n",
       "      <td>56</td>\n",
       "      <td>26</td>\n",
       "      <td>3</td>\n",
       "      <td>9</td>\n",
       "      <td>11</td>\n",
       "      <td>20</td>\n",
       "      <td>40</td>\n",
       "      <td>...</td>\n",
       "      <td>47</td>\n",
       "      <td>32</td>\n",
       "      <td>16</td>\n",
       "      <td>25</td>\n",
       "      <td>95</td>\n",
       "      <td>44</td>\n",
       "      <td>29</td>\n",
       "      <td>54</td>\n",
       "      <td>29</td>\n",
       "      <td>97</td>\n",
       "    </tr>\n",
       "  </tbody>\n",
       "</table>\n",
       "<p>2 rows × 229 columns</p>\n",
       "</div>"
      ],
      "text/plain": [
       "   4     6     11    12    22    29    51    62    67    75    ...  1024  \\\n",
       "1    11     8    96    56    26     3     9    11    20    40  ...    47   \n",
       "0    11     8    96    56    26     3     9    11    20    40  ...    47   \n",
       "\n",
       "   1025  1027  1028  1029  1031  1036  1040  1044  1045  \n",
       "1    32    16    25    95    44    29    54    29    97  \n",
       "0    32    16    25    95    44    29    54    29    97  \n",
       "\n",
       "[2 rows x 229 columns]"
      ]
     },
     "execution_count": 23,
     "metadata": {},
     "output_type": "execute_result"
    }
   ],
   "source": [
    "tcd = target_categorical_distribution(xt, yt, col=key_col, verbose=1); tcd"
   ]
  },
  {
   "cell_type": "markdown",
   "metadata": {},
   "source": [
    "##### In the test set"
   ]
  },
  {
   "cell_type": "code",
   "execution_count": 24,
   "metadata": {},
   "outputs": [
    {
     "name": "stdout",
     "output_type": "stream",
     "text": [
      "ID_MUNICIPIO evaluated: 588/588\n"
     ]
    },
    {
     "data": {
      "text/html": [
       "<div>\n",
       "<style scoped>\n",
       "    .dataframe tbody tr th:only-of-type {\n",
       "        vertical-align: middle;\n",
       "    }\n",
       "\n",
       "    .dataframe tbody tr th {\n",
       "        vertical-align: top;\n",
       "    }\n",
       "\n",
       "    .dataframe thead th {\n",
       "        text-align: right;\n",
       "    }\n",
       "</style>\n",
       "<table border=\"1\" class=\"dataframe\">\n",
       "  <thead>\n",
       "    <tr style=\"text-align: right;\">\n",
       "      <th></th>\n",
       "      <th>0</th>\n",
       "      <th>1</th>\n",
       "      <th>3</th>\n",
       "      <th>7</th>\n",
       "      <th>8</th>\n",
       "      <th>9</th>\n",
       "      <th>10</th>\n",
       "      <th>15</th>\n",
       "      <th>16</th>\n",
       "      <th>17</th>\n",
       "      <th>...</th>\n",
       "      <th>1032</th>\n",
       "      <th>1034</th>\n",
       "      <th>1035</th>\n",
       "      <th>1037</th>\n",
       "      <th>1038</th>\n",
       "      <th>1039</th>\n",
       "      <th>1041</th>\n",
       "      <th>1042</th>\n",
       "      <th>1043</th>\n",
       "      <th>1046</th>\n",
       "    </tr>\n",
       "  </thead>\n",
       "  <tbody>\n",
       "    <tr>\n",
       "      <th>0</th>\n",
       "      <td>72</td>\n",
       "      <td>660</td>\n",
       "      <td>354</td>\n",
       "      <td>72</td>\n",
       "      <td>156</td>\n",
       "      <td>402</td>\n",
       "      <td>330</td>\n",
       "      <td>72</td>\n",
       "      <td>3636</td>\n",
       "      <td>48</td>\n",
       "      <td>...</td>\n",
       "      <td>390</td>\n",
       "      <td>30</td>\n",
       "      <td>132</td>\n",
       "      <td>42</td>\n",
       "      <td>618</td>\n",
       "      <td>108</td>\n",
       "      <td>120</td>\n",
       "      <td>90</td>\n",
       "      <td>282</td>\n",
       "      <td>264</td>\n",
       "    </tr>\n",
       "    <tr>\n",
       "      <th>1</th>\n",
       "      <td>12</td>\n",
       "      <td>110</td>\n",
       "      <td>59</td>\n",
       "      <td>12</td>\n",
       "      <td>26</td>\n",
       "      <td>67</td>\n",
       "      <td>55</td>\n",
       "      <td>12</td>\n",
       "      <td>606</td>\n",
       "      <td>8</td>\n",
       "      <td>...</td>\n",
       "      <td>65</td>\n",
       "      <td>5</td>\n",
       "      <td>22</td>\n",
       "      <td>7</td>\n",
       "      <td>103</td>\n",
       "      <td>18</td>\n",
       "      <td>20</td>\n",
       "      <td>15</td>\n",
       "      <td>47</td>\n",
       "      <td>44</td>\n",
       "    </tr>\n",
       "  </tbody>\n",
       "</table>\n",
       "<p>2 rows × 588 columns</p>\n",
       "</div>"
      ],
      "text/plain": [
       "   0     1     3     7     8     9     10    15    16    17    ...  1032  \\\n",
       "0    72   660   354    72   156   402   330    72  3636    48  ...   390   \n",
       "1    12   110    59    12    26    67    55    12   606     8  ...    65   \n",
       "\n",
       "   1034  1035  1037  1038  1039  1041  1042  1043  1046  \n",
       "0    30   132    42   618   108   120    90   282   264  \n",
       "1     5    22     7   103    18    20    15    47    44  \n",
       "\n",
       "[2 rows x 588 columns]"
      ]
     },
     "execution_count": 24,
     "metadata": {},
     "output_type": "execute_result"
    }
   ],
   "source": [
    "tcd = target_categorical_distribution(xe, ye, col=key_col, verbose=1); tcd"
   ]
  },
  {
   "cell_type": "markdown",
   "metadata": {},
   "source": [
    "Obs: group_col categories' target class percentage matches perfectly with train_prct and test_prct arguments and key_col categories' are mutually exclusive in train and test sets"
   ]
  },
  {
   "cell_type": "markdown",
   "metadata": {},
   "source": [
    "# Train and test under sample cross validation splits\n",
    "\n",
    "### Under sample classes for train and test samples for 'n' random shuffle splits"
   ]
  },
  {
   "cell_type": "code",
   "execution_count": 25,
   "metadata": {},
   "outputs": [],
   "source": [
    "guss = GroupUnderSampleSplit(\n",
    "    n_splits=5,\n",
    "    train_size=0.2, train_prct=1,             # related to minority class size in given sample   # related to minotiy class size in train and test sets\n",
    "    test_size=0.6, test_prct=6,\n",
    "    key_col='ID_MUNICIPIO',\n",
    "    group_col='ID_MUNICIPIO',\n",
    ")"
   ]
  },
  {
   "cell_type": "code",
   "execution_count": 26,
   "metadata": {},
   "outputs": [
    {
     "name": "stdout",
     "output_type": "stream",
     "text": [
      "Performing splits - 1/5 splits performed.\n"
     ]
    }
   ],
   "source": [
    "cv = guss.split(X, Y, shuffle=False)"
   ]
  },
  {
   "cell_type": "markdown",
   "metadata": {},
   "source": [
    "Obs: Cross validation splits can be performed for any argument combination examplified above"
   ]
  },
  {
   "cell_type": "code",
   "execution_count": 27,
   "metadata": {},
   "outputs": [
    {
     "data": {
      "text/html": [
       "<div>\n",
       "<style scoped>\n",
       "    .dataframe tbody tr th:only-of-type {\n",
       "        vertical-align: middle;\n",
       "    }\n",
       "\n",
       "    .dataframe tbody tr th {\n",
       "        vertical-align: top;\n",
       "    }\n",
       "\n",
       "    .dataframe thead th {\n",
       "        text-align: right;\n",
       "    }\n",
       "</style>\n",
       "<table border=\"1\" class=\"dataframe\">\n",
       "  <thead>\n",
       "    <tr style=\"text-align: right;\">\n",
       "      <th></th>\n",
       "      <th>Train set</th>\n",
       "      <th>Test set</th>\n",
       "    </tr>\n",
       "    <tr>\n",
       "      <th>Class</th>\n",
       "      <th></th>\n",
       "      <th></th>\n",
       "    </tr>\n",
       "  </thead>\n",
       "  <tbody>\n",
       "    <tr>\n",
       "      <th>0</th>\n",
       "      <td>10007</td>\n",
       "      <td>180024</td>\n",
       "    </tr>\n",
       "    <tr>\n",
       "      <th>1</th>\n",
       "      <td>10007</td>\n",
       "      <td>30004</td>\n",
       "    </tr>\n",
       "  </tbody>\n",
       "</table>\n",
       "</div>"
      ],
      "text/plain": [
       "       Train set  Test set\n",
       "Class                     \n",
       "0          10007    180024\n",
       "1          10007     30004"
      ]
     },
     "metadata": {},
     "output_type": "display_data"
    }
   ],
   "source": [
    "t_index, e_index = cv[0][0], cv[0][1]\n",
    "print_cls_cnt(Y, t_index, e_index)"
   ]
  },
  {
   "cell_type": "markdown",
   "metadata": {},
   "source": [
    "#### Key class count for minority and majority class"
   ]
  },
  {
   "cell_type": "code",
   "execution_count": 28,
   "metadata": {},
   "outputs": [],
   "source": [
    "xt, xe, yt, ye = X.loc[t_index], X.loc[e_index], Y.loc[t_index], Y.loc[e_index]"
   ]
  },
  {
   "cell_type": "markdown",
   "metadata": {},
   "source": [
    "##### In the train set"
   ]
  },
  {
   "cell_type": "code",
   "execution_count": 29,
   "metadata": {},
   "outputs": [
    {
     "name": "stdout",
     "output_type": "stream",
     "text": [
      "ID_MUNICIPIO evaluated: 272/272\n"
     ]
    },
    {
     "data": {
      "text/html": [
       "<div>\n",
       "<style scoped>\n",
       "    .dataframe tbody tr th:only-of-type {\n",
       "        vertical-align: middle;\n",
       "    }\n",
       "\n",
       "    .dataframe tbody tr th {\n",
       "        vertical-align: top;\n",
       "    }\n",
       "\n",
       "    .dataframe thead th {\n",
       "        text-align: right;\n",
       "    }\n",
       "</style>\n",
       "<table border=\"1\" class=\"dataframe\">\n",
       "  <thead>\n",
       "    <tr style=\"text-align: right;\">\n",
       "      <th></th>\n",
       "      <th>1</th>\n",
       "      <th>2</th>\n",
       "      <th>5</th>\n",
       "      <th>8</th>\n",
       "      <th>14</th>\n",
       "      <th>18</th>\n",
       "      <th>27</th>\n",
       "      <th>30</th>\n",
       "      <th>31</th>\n",
       "      <th>35</th>\n",
       "      <th>...</th>\n",
       "      <th>1002</th>\n",
       "      <th>1004</th>\n",
       "      <th>1006</th>\n",
       "      <th>1013</th>\n",
       "      <th>1015</th>\n",
       "      <th>1019</th>\n",
       "      <th>1030</th>\n",
       "      <th>1041</th>\n",
       "      <th>1042</th>\n",
       "      <th>1046</th>\n",
       "    </tr>\n",
       "  </thead>\n",
       "  <tbody>\n",
       "    <tr>\n",
       "      <th>1</th>\n",
       "      <td>110</td>\n",
       "      <td>1</td>\n",
       "      <td>5</td>\n",
       "      <td>26</td>\n",
       "      <td>34</td>\n",
       "      <td>6</td>\n",
       "      <td>28</td>\n",
       "      <td>26</td>\n",
       "      <td>32</td>\n",
       "      <td>10</td>\n",
       "      <td>...</td>\n",
       "      <td>6</td>\n",
       "      <td>59</td>\n",
       "      <td>25</td>\n",
       "      <td>12</td>\n",
       "      <td>9</td>\n",
       "      <td>28</td>\n",
       "      <td>33</td>\n",
       "      <td>20</td>\n",
       "      <td>15</td>\n",
       "      <td>44</td>\n",
       "    </tr>\n",
       "    <tr>\n",
       "      <th>0</th>\n",
       "      <td>110</td>\n",
       "      <td>1</td>\n",
       "      <td>5</td>\n",
       "      <td>26</td>\n",
       "      <td>34</td>\n",
       "      <td>6</td>\n",
       "      <td>28</td>\n",
       "      <td>26</td>\n",
       "      <td>32</td>\n",
       "      <td>10</td>\n",
       "      <td>...</td>\n",
       "      <td>6</td>\n",
       "      <td>59</td>\n",
       "      <td>25</td>\n",
       "      <td>12</td>\n",
       "      <td>9</td>\n",
       "      <td>28</td>\n",
       "      <td>33</td>\n",
       "      <td>20</td>\n",
       "      <td>15</td>\n",
       "      <td>44</td>\n",
       "    </tr>\n",
       "  </tbody>\n",
       "</table>\n",
       "<p>2 rows × 272 columns</p>\n",
       "</div>"
      ],
      "text/plain": [
       "   1     2     5     8     14    18    27    30    31    35    ...  1002  \\\n",
       "1   110     1     5    26    34     6    28    26    32    10  ...     6   \n",
       "0   110     1     5    26    34     6    28    26    32    10  ...     6   \n",
       "\n",
       "   1004  1006  1013  1015  1019  1030  1041  1042  1046  \n",
       "1    59    25    12     9    28    33    20    15    44  \n",
       "0    59    25    12     9    28    33    20    15    44  \n",
       "\n",
       "[2 rows x 272 columns]"
      ]
     },
     "execution_count": 29,
     "metadata": {},
     "output_type": "execute_result"
    }
   ],
   "source": [
    "tcd = target_categorical_distribution(xt, yt, col=key_col, verbose=1); tcd"
   ]
  },
  {
   "cell_type": "markdown",
   "metadata": {},
   "source": [
    "##### In the test set"
   ]
  },
  {
   "cell_type": "code",
   "execution_count": 30,
   "metadata": {},
   "outputs": [
    {
     "name": "stdout",
     "output_type": "stream",
     "text": [
      "ID_MUNICIPIO evaluated: 586/586\n"
     ]
    },
    {
     "data": {
      "text/html": [
       "<div>\n",
       "<style scoped>\n",
       "    .dataframe tbody tr th:only-of-type {\n",
       "        vertical-align: middle;\n",
       "    }\n",
       "\n",
       "    .dataframe tbody tr th {\n",
       "        vertical-align: top;\n",
       "    }\n",
       "\n",
       "    .dataframe thead th {\n",
       "        text-align: right;\n",
       "    }\n",
       "</style>\n",
       "<table border=\"1\" class=\"dataframe\">\n",
       "  <thead>\n",
       "    <tr style=\"text-align: right;\">\n",
       "      <th></th>\n",
       "      <th>0</th>\n",
       "      <th>3</th>\n",
       "      <th>4</th>\n",
       "      <th>6</th>\n",
       "      <th>7</th>\n",
       "      <th>9</th>\n",
       "      <th>10</th>\n",
       "      <th>11</th>\n",
       "      <th>12</th>\n",
       "      <th>15</th>\n",
       "      <th>...</th>\n",
       "      <th>1032</th>\n",
       "      <th>1033</th>\n",
       "      <th>1034</th>\n",
       "      <th>1035</th>\n",
       "      <th>1037</th>\n",
       "      <th>1038</th>\n",
       "      <th>1039</th>\n",
       "      <th>1040</th>\n",
       "      <th>1043</th>\n",
       "      <th>1044</th>\n",
       "    </tr>\n",
       "  </thead>\n",
       "  <tbody>\n",
       "    <tr>\n",
       "      <th>0</th>\n",
       "      <td>72</td>\n",
       "      <td>354</td>\n",
       "      <td>66</td>\n",
       "      <td>48</td>\n",
       "      <td>72</td>\n",
       "      <td>402</td>\n",
       "      <td>330</td>\n",
       "      <td>576</td>\n",
       "      <td>336</td>\n",
       "      <td>72</td>\n",
       "      <td>...</td>\n",
       "      <td>390</td>\n",
       "      <td>468</td>\n",
       "      <td>30</td>\n",
       "      <td>132</td>\n",
       "      <td>42</td>\n",
       "      <td>618</td>\n",
       "      <td>108</td>\n",
       "      <td>324</td>\n",
       "      <td>282</td>\n",
       "      <td>174</td>\n",
       "    </tr>\n",
       "    <tr>\n",
       "      <th>1</th>\n",
       "      <td>12</td>\n",
       "      <td>59</td>\n",
       "      <td>11</td>\n",
       "      <td>8</td>\n",
       "      <td>12</td>\n",
       "      <td>67</td>\n",
       "      <td>55</td>\n",
       "      <td>96</td>\n",
       "      <td>56</td>\n",
       "      <td>12</td>\n",
       "      <td>...</td>\n",
       "      <td>65</td>\n",
       "      <td>78</td>\n",
       "      <td>5</td>\n",
       "      <td>22</td>\n",
       "      <td>7</td>\n",
       "      <td>103</td>\n",
       "      <td>18</td>\n",
       "      <td>54</td>\n",
       "      <td>47</td>\n",
       "      <td>29</td>\n",
       "    </tr>\n",
       "  </tbody>\n",
       "</table>\n",
       "<p>2 rows × 586 columns</p>\n",
       "</div>"
      ],
      "text/plain": [
       "   0     3     4     6     7     9     10    11    12    15    ...  1032  \\\n",
       "0    72   354    66    48    72   402   330   576   336    72  ...   390   \n",
       "1    12    59    11     8    12    67    55    96    56    12  ...    65   \n",
       "\n",
       "   1033  1034  1035  1037  1038  1039  1040  1043  1044  \n",
       "0   468    30   132    42   618   108   324   282   174  \n",
       "1    78     5    22     7   103    18    54    47    29  \n",
       "\n",
       "[2 rows x 586 columns]"
      ]
     },
     "execution_count": 30,
     "metadata": {},
     "output_type": "execute_result"
    }
   ],
   "source": [
    "tcd = target_categorical_distribution(xe, ye, col=key_col, verbose=1); tcd"
   ]
  },
  {
   "cell_type": "markdown",
   "metadata": {},
   "source": [
    "# COMPARING SPLITS USING PIPELINE"
   ]
  },
  {
   "cell_type": "code",
   "execution_count": 5,
   "metadata": {},
   "outputs": [],
   "source": [
    "from sklearn.pipeline import Pipeline\n",
    "from sklearn.model_selection import GridSearchCV, RandomizedSearchCV\n",
    "from sklearn.decomposition import PCA\n",
    "from sklearn.ensemble import GradientBoostingClassifier as GBC\n",
    "from sklearn.linear_model import LogisticRegressionCV as LRCV, RidgeClassifierCV as RCCV\n",
    "from sklearn.svm import SVC\n"
   ]
  },
  {
   "cell_type": "code",
   "execution_count": 6,
   "metadata": {},
   "outputs": [],
   "source": [
    "from sklearn import metrics\n",
    "recall_0 = metrics.make_scorer(metrics.recall_score, pos_label=0)\n",
    "recall_1 = metrics.make_scorer(metrics.recall_score, pos_label=1)\n",
    "\n",
    "scoring = {\n",
    "    'accuracy': 'accuracy',# 'f1_macro': 'f1_macro',\n",
    "    'recall_macro': 'recall_macro',# 'precision_macro': 'precision_macro',\n",
    "    'recall_0': recall_0, 'recall_1': recall_1,\n",
    "#     'precision_0': precision_0, 'precision_1': precision_1,\n",
    "}"
   ]
  },
  {
   "cell_type": "code",
   "execution_count": 36,
   "metadata": {},
   "outputs": [
    {
     "name": "stdout",
     "output_type": "stream",
     "text": [
      "Performing splits - 4/5 splits performed.\n"
     ]
    }
   ],
   "source": [
    "splitter = GroupUnderSampleSplit(\n",
    "    n_splits=5,\n",
    "    train_size=0.04, train_prct=1,             # related to minority class size in given sample   # related to minotiy class size in train and test sets\n",
    "    test_size=0.2, test_prct=3,\n",
    "    key_col='ID_MUNICIPIO',\n",
    "#     group_col='ID_MUNICIPIO',\n",
    "    reset_index=True\n",
    ")\n",
    "\n",
    "cv = splitter.split(X, Y, shuffle=True)"
   ]
  },
  {
   "cell_type": "code",
   "execution_count": null,
   "metadata": {},
   "outputs": [],
   "source": [
    "estimators = [\n",
    "    ('clf', GBC()),\n",
    "]\n",
    "\n",
    "pipe = Pipeline(estimators)\n",
    "\n",
    "param_grid = {\n",
    "#     'pca__n_components': [None, 'mle', 10],\n",
    "    'clf': [LRCV(), RCCV(), GBC()],#, SVC(), GBC()],\n",
    "#     'clf__C': [0.1, 10, 100]\n",
    "}\n",
    "\n",
    "grid_search = GridSearchCV(\n",
    "    pipe, param_grid=param_grid, cv=cv,\n",
    "    scoring=scoring, refit=False,\n",
    "    verbose=4, n_jobs=-1, pre_dispatch=1000)\n",
    "\n",
    "grid_search = grid_search.fit(X, Y)"
   ]
  },
  {
   "cell_type": "code",
   "execution_count": 39,
   "metadata": {},
   "outputs": [],
   "source": [
    "keys = list(grid_search.cv_results_.keys())\n",
    "results = pd.DataFrame(grid_search.cv_results_)"
   ]
  },
  {
   "cell_type": "code",
   "execution_count": 44,
   "metadata": {},
   "outputs": [
    {
     "data": {
      "text/html": [
       "<div>\n",
       "<style scoped>\n",
       "    .dataframe tbody tr th:only-of-type {\n",
       "        vertical-align: middle;\n",
       "    }\n",
       "\n",
       "    .dataframe tbody tr th {\n",
       "        vertical-align: top;\n",
       "    }\n",
       "\n",
       "    .dataframe thead th {\n",
       "        text-align: right;\n",
       "    }\n",
       "</style>\n",
       "<table border=\"1\" class=\"dataframe\">\n",
       "  <thead>\n",
       "    <tr style=\"text-align: right;\">\n",
       "      <th></th>\n",
       "      <th>mean_fit_time</th>\n",
       "      <th>param_clf</th>\n",
       "      <th>mean_test_recall_macro</th>\n",
       "    </tr>\n",
       "  </thead>\n",
       "  <tbody>\n",
       "    <tr>\n",
       "      <th>0</th>\n",
       "      <td>3.381754</td>\n",
       "      <td>LogisticRegressionCV()</td>\n",
       "      <td>0.677439</td>\n",
       "    </tr>\n",
       "    <tr>\n",
       "      <th>1</th>\n",
       "      <td>0.445807</td>\n",
       "      <td>RidgeClassifierCV(alphas=array([ 0.1,  1. , 10. ]))</td>\n",
       "      <td>0.676764</td>\n",
       "    </tr>\n",
       "    <tr>\n",
       "      <th>2</th>\n",
       "      <td>3.897982</td>\n",
       "      <td>GradientBoostingClassifier()</td>\n",
       "      <td>0.691385</td>\n",
       "    </tr>\n",
       "  </tbody>\n",
       "</table>\n",
       "</div>"
      ],
      "text/plain": [
       "   mean_fit_time                                            param_clf  \\\n",
       "0       3.381754                               LogisticRegressionCV()   \n",
       "1       0.445807  RidgeClassifierCV(alphas=array([ 0.1,  1. , 10. ]))   \n",
       "2       3.897982                         GradientBoostingClassifier()   \n",
       "\n",
       "   mean_test_recall_macro  \n",
       "0                0.677439  \n",
       "1                0.676764  \n",
       "2                0.691385  "
      ]
     },
     "execution_count": 44,
     "metadata": {},
     "output_type": "execute_result"
    }
   ],
   "source": [
    "results[['mean_fit_time', 'param_clf', 'mean_test_recall_macro']]"
   ]
  },
  {
   "cell_type": "markdown",
   "metadata": {},
   "source": [
    "# Learning curve for splits"
   ]
  },
  {
   "cell_type": "code",
   "execution_count": 45,
   "metadata": {},
   "outputs": [],
   "source": [
    "from sklearn.model_selection import learning_curve as lc, validation_curve as vc"
   ]
  },
  {
   "cell_type": "code",
   "execution_count": 46,
   "metadata": {},
   "outputs": [
    {
     "name": "stdout",
     "output_type": "stream",
     "text": [
      "[learning_curve] Training set sizes: [ 400 1301 2203 3104 4006]\n"
     ]
    },
    {
     "name": "stderr",
     "output_type": "stream",
     "text": [
      "[Parallel(n_jobs=-1)]: Using backend LokyBackend with 4 concurrent workers.\n",
      "[Parallel(n_jobs=-1)]: Done   2 out of  25 | elapsed:    1.8s remaining:   21.6s\n",
      "[Parallel(n_jobs=-1)]: Done   8 out of  25 | elapsed:    5.0s remaining:   10.7s\n",
      "[Parallel(n_jobs=-1)]: Done  14 out of  25 | elapsed:    8.6s remaining:    6.7s\n",
      "[Parallel(n_jobs=-1)]: Done  20 out of  25 | elapsed:   11.4s remaining:    2.8s\n",
      "[Parallel(n_jobs=-1)]: Done  25 out of  25 | elapsed:   13.6s finished\n"
     ]
    }
   ],
   "source": [
    "lc_res = lc(\n",
    "    GBC(n_estimators=60),\n",
    "    X, Y,\n",
    "    train_sizes=[0.1  , 0.325, 0.55 , 0.775, 1.   ],\n",
    "    cv=cv,\n",
    "    scoring='recall_macro',\n",
    "    n_jobs=-1,\n",
    "    pre_dispatch='all',\n",
    "    shuffle=True,\n",
    "    random_state=0,\n",
    "    verbose=5\n",
    ")"
   ]
  },
  {
   "cell_type": "code",
   "execution_count": 47,
   "metadata": {},
   "outputs": [
    {
     "data": {
      "image/png": "[encoded data removed]",
      "text/plain": [
       "<Figure size 864x288 with 2 Axes>"
      ]
     },
     "metadata": {},
     "output_type": "display_data"
    }
   ],
   "source": [
    "train_lc, test_lc = (pd.DataFrame(lc_res[i], index=lc_res[0]) for i in [1,2])\n",
    "\n",
    "fig, ax = plt.subplots(1,2, figsize=(12,4), tight_layout=True)\n",
    "ax[0].plot(train_lc)\n",
    "ax[1].plot(test_lc)\n",
    "plt.show()"
   ]
  }
 ],
 "metadata": {
  "kernelspec": {
   "display_name": "Python 3",
   "language": "python",
   "name": "python3"
  },
  "language_info": {
   "codemirror_mode": {
    "name": "ipython",
    "version": 3
   },
   "file_extension": ".py",
   "mimetype": "text/x-python",
   "name": "python",
   "nbconvert_exporter": "python",
   "pygments_lexer": "ipython3",
   "version": "3.8.3"
  }
 },
 "nbformat": 4,
 "nbformat_minor": 4
}
