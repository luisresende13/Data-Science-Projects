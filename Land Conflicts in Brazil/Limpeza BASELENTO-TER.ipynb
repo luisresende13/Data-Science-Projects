{
 "cells": [
  {
   "cell_type": "markdown",
   "id": "578fc033-044d-412b-a0e1-62196d5d2491",
   "metadata": {},
   "source": [
    "# Tabela de Conflitos de Terra BASELENTO"
   ]
  },
  {
   "cell_type": "markdown",
   "id": "515d76a6-a390-43c7-b847-f88804952eac",
   "metadata": {},
   "source": [
    "#### Importar modulos"
   ]
  },
  {
   "cell_type": "code",
   "execution_count": 18,
   "id": "61375d27-f53f-4baa-80af-6e5eb952b72a",
   "metadata": {
    "tags": []
   },
   "outputs": [],
   "source": [
    "import pandas as pd"
   ]
  },
  {
   "cell_type": "markdown",
   "id": "80786e09-a14d-4ed6-a3c7-ebf7043d3594",
   "metadata": {},
   "source": [
    "#### Carregar bases a partir de arquivo Excel"
   ]
  },
  {
   "cell_type": "code",
   "execution_count": 19,
   "id": "ffae1947-402b-4b4f-84e6-ba4391ba70e9",
   "metadata": {
    "tags": []
   },
   "outputs": [],
   "source": [
    "dfs = pd.read_excel('Dados/BASELEMTO_2011-2021.xlsx', sheet_name=None)"
   ]
  },
  {
   "cell_type": "markdown",
   "id": "4a75f416-abe1-46fc-9543-140afe7213ef",
   "metadata": {},
   "source": [
    "#### Selecionar a planilha de conflitos de terra (TER) do arquivo Excel"
   ]
  },
  {
   "cell_type": "code",
   "execution_count": 20,
   "id": "e1822c7f-79bf-4444-8ece-455079f1d89f",
   "metadata": {
    "tags": []
   },
   "outputs": [
    {
     "data": {
      "text/html": [
       "<div>\n",
       "<style scoped>\n",
       "    .dataframe tbody tr th:only-of-type {\n",
       "        vertical-align: middle;\n",
       "    }\n",
       "\n",
       "    .dataframe tbody tr th {\n",
       "        vertical-align: top;\n",
       "    }\n",
       "\n",
       "    .dataframe thead th {\n",
       "        text-align: right;\n",
       "    }\n",
       "</style>\n",
       "<table border=\"1\" class=\"dataframe\">\n",
       "  <thead>\n",
       "    <tr style=\"text-align: right;\">\n",
       "      <th></th>\n",
       "      <th>FichaLemto</th>\n",
       "      <th>Ficha</th>\n",
       "      <th>UF</th>\n",
       "      <th>Região</th>\n",
       "      <th>Bioma (ZT)</th>\n",
       "      <th>Município</th>\n",
       "      <th>Geocódigo</th>\n",
       "      <th>Local</th>\n",
       "      <th>Local Secundário</th>\n",
       "      <th>Data</th>\n",
       "      <th>...</th>\n",
       "      <th>Grilagem</th>\n",
       "      <th>Incêndios</th>\n",
       "      <th>Omissão/Conivência</th>\n",
       "      <th>Impedimento de acesso a áreas de uso coletivo</th>\n",
       "      <th>Violações nas condições de existência</th>\n",
       "      <th>Soma Violências</th>\n",
       "      <th>Categoria sofreu ação</th>\n",
       "      <th>Categoria causou ação</th>\n",
       "      <th>Tipo de Violência</th>\n",
       "      <th>Eixos de Violência</th>\n",
       "    </tr>\n",
       "  </thead>\n",
       "  <tbody>\n",
       "    <tr>\n",
       "      <th>0</th>\n",
       "      <td>TER-2011-2021-00006</td>\n",
       "      <td>MA1301</td>\n",
       "      <td>AC</td>\n",
       "      <td>Norte</td>\n",
       "      <td>Amazonia</td>\n",
       "      <td>Acrelândia</td>\n",
       "      <td>1200013</td>\n",
       "      <td>Assent. Califórnia/Suzano Papel e Celulose</td>\n",
       "      <td>Assent. Califórnia/Empresas CVRD, Ferro Gusa C...</td>\n",
       "      <td>2011-05-18 00:00:00</td>\n",
       "      <td>...</td>\n",
       "      <td>NaN</td>\n",
       "      <td>NaN</td>\n",
       "      <td>NaN</td>\n",
       "      <td>NaN</td>\n",
       "      <td>NaN</td>\n",
       "      <td>NaN</td>\n",
       "      <td>Assentado</td>\n",
       "      <td>Mineradora</td>\n",
       "      <td>Danos</td>\n",
       "      <td>Terra</td>\n",
       "    </tr>\n",
       "    <tr>\n",
       "      <th>1</th>\n",
       "      <td>TER-2011-2021-00007</td>\n",
       "      <td>MA1042</td>\n",
       "      <td>AC</td>\n",
       "      <td>Norte</td>\n",
       "      <td>Amazonia</td>\n",
       "      <td>Acrelândia</td>\n",
       "      <td>1200013</td>\n",
       "      <td>Fazenda Toca da Raposa</td>\n",
       "      <td>Fazenda Toca da Raposa</td>\n",
       "      <td>2011-12-31 00:00:00</td>\n",
       "      <td>...</td>\n",
       "      <td>NaN</td>\n",
       "      <td>NaN</td>\n",
       "      <td>NaN</td>\n",
       "      <td>NaN</td>\n",
       "      <td>NaN</td>\n",
       "      <td>NaN</td>\n",
       "      <td>Posseiro</td>\n",
       "      <td>Fazendeiro</td>\n",
       "      <td>NaN</td>\n",
       "      <td>Terra</td>\n",
       "    </tr>\n",
       "    <tr>\n",
       "      <th>2</th>\n",
       "      <td>TER-2011-2021-00008</td>\n",
       "      <td>MA809</td>\n",
       "      <td>AC</td>\n",
       "      <td>Norte</td>\n",
       "      <td>Amazonia</td>\n",
       "      <td>Acrelândia</td>\n",
       "      <td>1200013</td>\n",
       "      <td>Correguinho/Corguinho</td>\n",
       "      <td>Correguinho/Corguinho</td>\n",
       "      <td>2011-12-31 00:00:00</td>\n",
       "      <td>...</td>\n",
       "      <td>40.0</td>\n",
       "      <td>NaN</td>\n",
       "      <td>NaN</td>\n",
       "      <td>NaN</td>\n",
       "      <td>NaN</td>\n",
       "      <td>NaN</td>\n",
       "      <td>Posseiro</td>\n",
       "      <td>Fazendeiro</td>\n",
       "      <td>Intimidação</td>\n",
       "      <td>Terra</td>\n",
       "    </tr>\n",
       "    <tr>\n",
       "      <th>3</th>\n",
       "      <td>TER-2011-2021-00009</td>\n",
       "      <td>AC222</td>\n",
       "      <td>AC</td>\n",
       "      <td>Norte</td>\n",
       "      <td>Amazonia</td>\n",
       "      <td>Acrelândia</td>\n",
       "      <td>1200013</td>\n",
       "      <td>Seringal Porto Luiz</td>\n",
       "      <td>Seringal Porto Luiz</td>\n",
       "      <td>2011-08-14 00:00:00</td>\n",
       "      <td>...</td>\n",
       "      <td>NaN</td>\n",
       "      <td>NaN</td>\n",
       "      <td>NaN</td>\n",
       "      <td>NaN</td>\n",
       "      <td>NaN</td>\n",
       "      <td>NaN</td>\n",
       "      <td>Posseiro</td>\n",
       "      <td>Governo municipal</td>\n",
       "      <td>NaN</td>\n",
       "      <td>Terra</td>\n",
       "    </tr>\n",
       "    <tr>\n",
       "      <th>4</th>\n",
       "      <td>TER-2011-2021-00010</td>\n",
       "      <td>MA1668</td>\n",
       "      <td>AC</td>\n",
       "      <td>Norte</td>\n",
       "      <td>Amazonia</td>\n",
       "      <td>Acrelândia</td>\n",
       "      <td>1200013</td>\n",
       "      <td>Com. Piquiá de Baixo/Gusa Nordeste S/A/Vale</td>\n",
       "      <td>Com. Piquiá de Baixo/Gusa Nordeste S/A - CVRD/...</td>\n",
       "      <td>2011-02-16 00:00:00</td>\n",
       "      <td>...</td>\n",
       "      <td>NaN</td>\n",
       "      <td>NaN</td>\n",
       "      <td>NaN</td>\n",
       "      <td>NaN</td>\n",
       "      <td>NaN</td>\n",
       "      <td>NaN</td>\n",
       "      <td>Posseiro</td>\n",
       "      <td>Mineradora</td>\n",
       "      <td>Danos</td>\n",
       "      <td>Terra</td>\n",
       "    </tr>\n",
       "  </tbody>\n",
       "</table>\n",
       "<p>5 rows × 34 columns</p>\n",
       "</div>"
      ],
      "text/plain": [
       "            FichaLemto   Ficha  UF Região Bioma (ZT)   Município  Geocódigo  \\\n",
       "0  TER-2011-2021-00006  MA1301  AC  Norte   Amazonia  Acrelândia    1200013   \n",
       "1  TER-2011-2021-00007  MA1042  AC  Norte   Amazonia  Acrelândia    1200013   \n",
       "2  TER-2011-2021-00008   MA809  AC  Norte   Amazonia  Acrelândia    1200013   \n",
       "3  TER-2011-2021-00009   AC222  AC  Norte   Amazonia  Acrelândia    1200013   \n",
       "4  TER-2011-2021-00010  MA1668  AC  Norte   Amazonia  Acrelândia    1200013   \n",
       "\n",
       "                                        Local   \\\n",
       "0   Assent. Califórnia/Suzano Papel e Celulose   \n",
       "1                       Fazenda Toca da Raposa   \n",
       "2                        Correguinho/Corguinho   \n",
       "3                          Seringal Porto Luiz   \n",
       "4  Com. Piquiá de Baixo/Gusa Nordeste S/A/Vale   \n",
       "\n",
       "                                   Local Secundário                  Data  \\\n",
       "0  Assent. Califórnia/Empresas CVRD, Ferro Gusa C...  2011-05-18 00:00:00   \n",
       "1                             Fazenda Toca da Raposa  2011-12-31 00:00:00   \n",
       "2                              Correguinho/Corguinho  2011-12-31 00:00:00   \n",
       "3                                Seringal Porto Luiz  2011-08-14 00:00:00   \n",
       "4  Com. Piquiá de Baixo/Gusa Nordeste S/A - CVRD/...  2011-02-16 00:00:00   \n",
       "\n",
       "   ...  Grilagem  Incêndios  Omissão/Conivência  \\\n",
       "0  ...       NaN        NaN                 NaN   \n",
       "1  ...       NaN        NaN                 NaN   \n",
       "2  ...      40.0        NaN                 NaN   \n",
       "3  ...       NaN        NaN                 NaN   \n",
       "4  ...       NaN        NaN                 NaN   \n",
       "\n",
       "  Impedimento de acesso a áreas de uso coletivo  \\\n",
       "0                                           NaN   \n",
       "1                                           NaN   \n",
       "2                                           NaN   \n",
       "3                                           NaN   \n",
       "4                                           NaN   \n",
       "\n",
       "   Violações nas condições de existência Soma Violências  \\\n",
       "0                                    NaN             NaN   \n",
       "1                                    NaN             NaN   \n",
       "2                                    NaN             NaN   \n",
       "3                                    NaN             NaN   \n",
       "4                                    NaN             NaN   \n",
       "\n",
       "  Categoria sofreu ação  Categoria causou ação Tipo de Violência  \\\n",
       "0             Assentado             Mineradora             Danos   \n",
       "1              Posseiro             Fazendeiro               NaN   \n",
       "2              Posseiro             Fazendeiro       Intimidação   \n",
       "3              Posseiro      Governo municipal               NaN   \n",
       "4              Posseiro             Mineradora             Danos   \n",
       "\n",
       "  Eixos de Violência  \n",
       "0              Terra  \n",
       "1              Terra  \n",
       "2              Terra  \n",
       "3              Terra  \n",
       "4              Terra  \n",
       "\n",
       "[5 rows x 34 columns]"
      ]
     },
     "metadata": {},
     "output_type": "display_data"
    },
    {
     "data": {
      "text/plain": [
       "(2648, 34)"
      ]
     },
     "execution_count": 20,
     "metadata": {},
     "output_type": "execute_result"
    }
   ],
   "source": [
    "df = dfs['TER-2011-2021'].iloc[:, :34].copy()\n",
    "\n",
    "display(df.head(5)); df.shape"
   ]
  },
  {
   "cell_type": "markdown",
   "id": "52335e10-c771-48e8-a251-db01df128265",
   "metadata": {},
   "source": [
    "---\n",
    "## Limpeza de dados"
   ]
  },
  {
   "cell_type": "markdown",
   "id": "a1d75328-0d1d-4051-89d6-f3aaab99862f",
   "metadata": {},
   "source": [
    "#### Remover notação especial de caracteres"
   ]
  },
  {
   "cell_type": "code",
   "execution_count": 21,
   "id": "adecb899-867b-47af-9b2d-4024e069812b",
   "metadata": {
    "tags": []
   },
   "outputs": [],
   "source": [
    "df['Município'] = df['Município'].apply(lambda value: value.replace(' D&#39', ''))"
   ]
  },
  {
   "cell_type": "markdown",
   "id": "1210f660-3cfd-4b7d-a345-b0eef3b07eff",
   "metadata": {},
   "source": [
    "#### Converter campo de data para formato `datetime`"
   ]
  },
  {
   "cell_type": "code",
   "execution_count": 22,
   "id": "05984031-d78f-4194-a48e-94fbd5c06325",
   "metadata": {
    "tags": []
   },
   "outputs": [],
   "source": [
    "datetime_str = df['Data'].apply(lambda value: type(value) == str)\n",
    "df.loc[datetime_str, 'Data'] = pd.to_datetime(df['Data'][datetime_str], dayfirst=True, yearfirst=False)"
   ]
  },
  {
   "cell_type": "markdown",
   "id": "f09067bb-7b94-4bae-8695-b1da7421e61e",
   "metadata": {},
   "source": [
    "---\n",
    "## Estruturando a tabela com base em registros únicos"
   ]
  },
  {
   "cell_type": "markdown",
   "id": "edc12e80-562d-4f28-9d0d-661c1fe037b8",
   "metadata": {
    "tags": []
   },
   "source": [
    "#### Duplicar linhas com valores múltiplos para o campo `Município`"
   ]
  },
  {
   "cell_type": "code",
   "execution_count": 23,
   "id": "91034e44-23b3-4fdb-98f2-1435b998d049",
   "metadata": {
    "tags": []
   },
   "outputs": [],
   "source": [
    "def duplicate_multi_value_rows(df, col, sep=', '):\n",
    "    rows = []\n",
    "    for idx in df.index:\n",
    "        row = df.loc[idx].copy()\n",
    "        cities = row[col].split(sep)\n",
    "        for city in cities:\n",
    "            row[col] = city\n",
    "            rows.append(dict(row))\n",
    "    return pd.DataFrame(rows)\n",
    "\n",
    "\n",
    "# ---\n",
    "# Use a função para duplicar linhas com múltiplos valores para o campor Município\n",
    "\n",
    "records = duplicate_multi_value_rows(df, col='Município', sep=', ')"
   ]
  },
  {
   "cell_type": "markdown",
   "id": "bb15fa45-ad8d-4b1a-b641-040233d96d4d",
   "metadata": {},
   "source": [
    "#### Criar coluna `Ano` a partir da coluna `Data`"
   ]
  },
  {
   "cell_type": "code",
   "execution_count": 24,
   "id": "92c2a02e-734c-4b84-9fe9-4f09ac4f6d5f",
   "metadata": {
    "tags": []
   },
   "outputs": [],
   "source": [
    "records['Ano'] = pd.DatetimeIndex(records['Data']).year"
   ]
  },
  {
   "cell_type": "markdown",
   "id": "eec468be-ecb1-46c0-8ddd-9c14451697e2",
   "metadata": {},
   "source": [
    "#### Reordenar colunas e linhas com base nas colunas chave"
   ]
  },
  {
   "cell_type": "code",
   "execution_count": 25,
   "id": "a595d9c2-a113-46e1-963e-8312393bf539",
   "metadata": {
    "tags": []
   },
   "outputs": [],
   "source": [
    "# Converter colunas do dataframe para lista\n",
    "columns = df.columns.tolist()\n",
    "\n",
    "# Excluir colunas chave da lista de colunas\n",
    "keys = ['Município', 'Ano', 'Data']\n",
    "for key in keys:\n",
    "    key_index = columns.index(key)\n",
    "    columns.pop(key_index)\n",
    "\n",
    "# Adicionar colunas chaves ao início da lista de colunas\n",
    "columns_reordered = keys + columns\n",
    "\n",
    "# ---\n",
    "# Reordenar colunas com base na lista de colunas\n",
    "\n",
    "records = records[columns_reordered]\n",
    "\n",
    "# ---\n",
    "# Reordenar linhas com base nas colunas chave\n",
    "records.sort_values(keys, inplace=True)"
   ]
  },
  {
   "cell_type": "markdown",
   "id": "8977a7d2-ddcd-4fdf-8edc-3da5dc0e9735",
   "metadata": {},
   "source": [
    "---\n",
    "## Compatibilizando nomes de municípios com tabela de conflitos do CPT"
   ]
  },
  {
   "cell_type": "markdown",
   "id": "9ca6af25-a84f-4806-ade2-cfdcca6fb915",
   "metadata": {},
   "source": [
    "#### Imprimir nomes de municípios que não estão presentes na tabela de conflitos do CPT"
   ]
  },
  {
   "cell_type": "code",
   "execution_count": null,
   "id": "4e54b8f1-aa60-44f7-867b-6b47a932abf5",
   "metadata": {
    "tags": []
   },
   "outputs": [],
   "source": [
    "cities_ter = records['Município'].tolist()\n",
    "cities_cpt = cpt['MUN'].tolist()\n",
    "\n",
    "# Show cities missing in secondary dataset anymore.\n",
    "missing = list(set(cities_ter).difference(cities_cpt))\n",
    "\n",
    "print('Cities missing in BASELENTO-TER dataset:\\n\\n', missing, '\\n')"
   ]
  },
  {
   "cell_type": "markdown",
   "id": "39b427eb-8886-490f-84ea-643bc6c1f015",
   "metadata": {},
   "source": [
    "#### Renomear municípios manualmente (Compatibilizar com padrão da tabela do CPT)"
   ]
  },
  {
   "cell_type": "code",
   "execution_count": 27,
   "id": "1a3bd56d-05de-4a0a-afab-356f8e5154e7",
   "metadata": {
    "tags": []
   },
   "outputs": [],
   "source": [
    "# City renaming map\n",
    "city_name_map = {\n",
    "    'Diamante;Oeste': \"Diamante D'Oeste\",\n",
    "    'Glória;Oeste': \"Glória D'Oeste\",\n",
    "    'Pimenteiras': \"Pimenteiras do Oeste\",\n",
    "    'Alta Floresta;Oeste': \"Alta Floresta D'Oeste\",\n",
    "    'Alvorada;Oeste': \"Alvorada D'Oeste\",\n",
    "    'Conquista;Oeste': \"Conquista D'Oeste\",\n",
    "    'Nova Brasilândia;Oeste': \"Nova Brasilândia D'Oeste\",\n",
    "    'Sant&#39;Ana do Livramento': \"Sant'Ana do Livramento\",    \n",
    "}\n",
    "\n",
    "\n",
    "# ---\n",
    "# Rename cities to match CPT standard\n",
    "\n",
    "for name, new_name in city_name_map.items():\n",
    "    records.loc[records['Município'] == name, 'Município'] = new_name"
   ]
  },
  {
   "cell_type": "markdown",
   "id": "718d9a82-f8b3-4e15-99b4-56da265ac5bd",
   "metadata": {},
   "source": [
    "#### Conferir se restaram nomes de municípios que não estão presentes na tabela de conflitos do CPT"
   ]
  },
  {
   "cell_type": "code",
   "execution_count": null,
   "id": "e9062914-7049-439e-9a95-2f193506f597",
   "metadata": {},
   "outputs": [],
   "source": [
    "cities_ter = records['Município'].tolist()\n",
    "cities_cpt = cpt['MUN'].tolist()\n",
    "\n",
    "# Show that there are no cities missing in secondary dataset anymore.\n",
    "missing = list(set(cities_ter).difference(cities_cpt))\n",
    "\n",
    "print('Cities missing after city name formatting:\\n\\n', missing)"
   ]
  },
  {
   "cell_type": "markdown",
   "id": "5c15b230-a0e1-49d9-9f14-c98cf96367da",
   "metadata": {},
   "source": [
    "---\n",
    "### Salvar tabela limpa"
   ]
  },
  {
   "cell_type": "code",
   "execution_count": 28,
   "id": "f64a4bd9-8fcb-4735-88b0-bf06f05f8b2b",
   "metadata": {
    "tags": []
   },
   "outputs": [
    {
     "name": "stdout",
     "output_type": "stream",
     "text": [
      "Dataframes saved\n"
     ]
    },
    {
     "data": {
      "text/html": [
       "<div>\n",
       "<style scoped>\n",
       "    .dataframe tbody tr th:only-of-type {\n",
       "        vertical-align: middle;\n",
       "    }\n",
       "\n",
       "    .dataframe tbody tr th {\n",
       "        vertical-align: top;\n",
       "    }\n",
       "\n",
       "    .dataframe thead th {\n",
       "        text-align: right;\n",
       "    }\n",
       "</style>\n",
       "<table border=\"1\" class=\"dataframe\">\n",
       "  <thead>\n",
       "    <tr style=\"text-align: right;\">\n",
       "      <th></th>\n",
       "      <th>Município</th>\n",
       "      <th>Ano</th>\n",
       "      <th>Data</th>\n",
       "      <th>FichaLemto</th>\n",
       "      <th>Ficha</th>\n",
       "      <th>UF</th>\n",
       "      <th>Região</th>\n",
       "      <th>Bioma (ZT)</th>\n",
       "      <th>Geocódigo</th>\n",
       "      <th>Local</th>\n",
       "      <th>...</th>\n",
       "      <th>Grilagem</th>\n",
       "      <th>Incêndios</th>\n",
       "      <th>Omissão/Conivência</th>\n",
       "      <th>Impedimento de acesso a áreas de uso coletivo</th>\n",
       "      <th>Violações nas condições de existência</th>\n",
       "      <th>Soma Violências</th>\n",
       "      <th>Categoria sofreu ação</th>\n",
       "      <th>Categoria causou ação</th>\n",
       "      <th>Tipo de Violência</th>\n",
       "      <th>Eixos de Violência</th>\n",
       "    </tr>\n",
       "  </thead>\n",
       "  <tbody>\n",
       "    <tr>\n",
       "      <th>3553</th>\n",
       "      <td>Abelardo Luz</td>\n",
       "      <td>2011</td>\n",
       "      <td>2011-06-06</td>\n",
       "      <td>TER-2011-2021-00001</td>\n",
       "      <td>MT310</td>\n",
       "      <td>SC</td>\n",
       "      <td>Sul</td>\n",
       "      <td>Mata Atlantica</td>\n",
       "      <td>4200101</td>\n",
       "      <td>Assentamento Santa Rosa I e II</td>\n",
       "      <td>...</td>\n",
       "      <td>NaN</td>\n",
       "      <td>NaN</td>\n",
       "      <td>NaN</td>\n",
       "      <td>NaN</td>\n",
       "      <td>NaN</td>\n",
       "      <td>NaN</td>\n",
       "      <td>Assentado</td>\n",
       "      <td>Fazendeiro</td>\n",
       "      <td>Ameaça de Morte</td>\n",
       "      <td>Terra</td>\n",
       "    </tr>\n",
       "    <tr>\n",
       "      <th>3562</th>\n",
       "      <td>Abelardo Luz</td>\n",
       "      <td>2012</td>\n",
       "      <td>2012-02-28</td>\n",
       "      <td>TER-2011-2021-01643</td>\n",
       "      <td>AP143</td>\n",
       "      <td>SC</td>\n",
       "      <td>Sul</td>\n",
       "      <td>Mata Atlantica</td>\n",
       "      <td>4219507</td>\n",
       "      <td>Fazenda Santa Cruz</td>\n",
       "      <td>...</td>\n",
       "      <td>NaN</td>\n",
       "      <td>NaN</td>\n",
       "      <td>NaN</td>\n",
       "      <td>NaN</td>\n",
       "      <td>NaN</td>\n",
       "      <td>NaN</td>\n",
       "      <td>Posseiro</td>\n",
       "      <td>Empresário Internacional</td>\n",
       "      <td>Intimidação</td>\n",
       "      <td>Terra</td>\n",
       "    </tr>\n",
       "    <tr>\n",
       "      <th>3554</th>\n",
       "      <td>Abelardo Luz</td>\n",
       "      <td>2012</td>\n",
       "      <td>2012-06-21</td>\n",
       "      <td>TER-2011-2021-00821</td>\n",
       "      <td>MT310</td>\n",
       "      <td>SC</td>\n",
       "      <td>Sul</td>\n",
       "      <td>Mata Atlantica</td>\n",
       "      <td>4200101</td>\n",
       "      <td>Assentamento Santa Rosa I e II</td>\n",
       "      <td>...</td>\n",
       "      <td>NaN</td>\n",
       "      <td>NaN</td>\n",
       "      <td>NaN</td>\n",
       "      <td>NaN</td>\n",
       "      <td>NaN</td>\n",
       "      <td>NaN</td>\n",
       "      <td>Assentado</td>\n",
       "      <td>Fazendeiro</td>\n",
       "      <td>NaN</td>\n",
       "      <td>Terra</td>\n",
       "    </tr>\n",
       "    <tr>\n",
       "      <th>3558</th>\n",
       "      <td>Abelardo Luz</td>\n",
       "      <td>2012</td>\n",
       "      <td>2012-06-30</td>\n",
       "      <td>TER-2011-2021-01642</td>\n",
       "      <td>AP144</td>\n",
       "      <td>SC</td>\n",
       "      <td>Sul</td>\n",
       "      <td>Mata Atlantica</td>\n",
       "      <td>4219507</td>\n",
       "      <td>Ponta do Socorro e Vareiro</td>\n",
       "      <td>...</td>\n",
       "      <td>NaN</td>\n",
       "      <td>NaN</td>\n",
       "      <td>NaN</td>\n",
       "      <td>NaN</td>\n",
       "      <td>NaN</td>\n",
       "      <td>NaN</td>\n",
       "      <td>Posseiro</td>\n",
       "      <td>Empresário</td>\n",
       "      <td>Intimidação</td>\n",
       "      <td>Terra</td>\n",
       "    </tr>\n",
       "    <tr>\n",
       "      <th>3555</th>\n",
       "      <td>Abelardo Luz</td>\n",
       "      <td>2012</td>\n",
       "      <td>2012-07-17</td>\n",
       "      <td>TER-2011-2021-00822</td>\n",
       "      <td>MT310</td>\n",
       "      <td>SC</td>\n",
       "      <td>Sul</td>\n",
       "      <td>Mata Atlantica</td>\n",
       "      <td>4200101</td>\n",
       "      <td>Assentamento Santa Rosa I e II</td>\n",
       "      <td>...</td>\n",
       "      <td>NaN</td>\n",
       "      <td>NaN</td>\n",
       "      <td>NaN</td>\n",
       "      <td>NaN</td>\n",
       "      <td>NaN</td>\n",
       "      <td>NaN</td>\n",
       "      <td>Assentado</td>\n",
       "      <td>Fazendeiro</td>\n",
       "      <td>NaN</td>\n",
       "      <td>Terra</td>\n",
       "    </tr>\n",
       "  </tbody>\n",
       "</table>\n",
       "<p>5 rows × 34 columns</p>\n",
       "</div>"
      ],
      "text/plain": [
       "         Município   Ano       Data           FichaLemto  Ficha  UF Região  \\\n",
       "3553  Abelardo Luz  2011 2011-06-06  TER-2011-2021-00001  MT310  SC    Sul   \n",
       "3562  Abelardo Luz  2012 2012-02-28  TER-2011-2021-01643  AP143  SC    Sul   \n",
       "3554  Abelardo Luz  2012 2012-06-21  TER-2011-2021-00821  MT310  SC    Sul   \n",
       "3558  Abelardo Luz  2012 2012-06-30  TER-2011-2021-01642  AP144  SC    Sul   \n",
       "3555  Abelardo Luz  2012 2012-07-17  TER-2011-2021-00822  MT310  SC    Sul   \n",
       "\n",
       "          Bioma (ZT)  Geocódigo                          Local   ... Grilagem  \\\n",
       "3553  Mata Atlantica    4200101  Assentamento Santa Rosa I e II  ...      NaN   \n",
       "3562  Mata Atlantica    4219507              Fazenda Santa Cruz  ...      NaN   \n",
       "3554  Mata Atlantica    4200101  Assentamento Santa Rosa I e II  ...      NaN   \n",
       "3558  Mata Atlantica    4219507     Ponta do Socorro e Vareiro   ...      NaN   \n",
       "3555  Mata Atlantica    4200101  Assentamento Santa Rosa I e II  ...      NaN   \n",
       "\n",
       "      Incêndios  Omissão/Conivência  \\\n",
       "3553        NaN                 NaN   \n",
       "3562        NaN                 NaN   \n",
       "3554        NaN                 NaN   \n",
       "3558        NaN                 NaN   \n",
       "3555        NaN                 NaN   \n",
       "\n",
       "     Impedimento de acesso a áreas de uso coletivo  \\\n",
       "3553                                           NaN   \n",
       "3562                                           NaN   \n",
       "3554                                           NaN   \n",
       "3558                                           NaN   \n",
       "3555                                           NaN   \n",
       "\n",
       "      Violações nas condições de existência Soma Violências  \\\n",
       "3553                                    NaN             NaN   \n",
       "3562                                    NaN             NaN   \n",
       "3554                                    NaN             NaN   \n",
       "3558                                    NaN             NaN   \n",
       "3555                                    NaN             NaN   \n",
       "\n",
       "     Categoria sofreu ação     Categoria causou ação Tipo de Violência  \\\n",
       "3553             Assentado                Fazendeiro   Ameaça de Morte   \n",
       "3562              Posseiro  Empresário Internacional       Intimidação   \n",
       "3554             Assentado                Fazendeiro               NaN   \n",
       "3558              Posseiro                Empresário       Intimidação   \n",
       "3555             Assentado                Fazendeiro               NaN   \n",
       "\n",
       "     Eixos de Violência  \n",
       "3553              Terra  \n",
       "3562              Terra  \n",
       "3554              Terra  \n",
       "3558              Terra  \n",
       "3555              Terra  \n",
       "\n",
       "[5 rows x 34 columns]"
      ]
     },
     "metadata": {},
     "output_type": "display_data"
    },
    {
     "name": "stdout",
     "output_type": "stream",
     "text": [
      "(3620, 34)\n"
     ]
    }
   ],
   "source": [
    "clean_path = 'Resultados/baselento-ter'\n",
    "\n",
    "records.to_excel(clean_path + '.xlsx', index=False)\n",
    "# records.to_csv(clean_path + '.csv', index=False)\n",
    "\n",
    "print('Dataframes saved')\n",
    "display(records.head())\n",
    "print(records.shape)"
   ]
  },
  {
   "cell_type": "markdown",
   "id": "5b6a24cd-4bc4-44aa-82eb-93ec901a2d69",
   "metadata": {},
   "source": [
    "---\n",
    "## Construção de série anual de conflitos de terra por cidade (BASELENTO-TER)"
   ]
  },
  {
   "cell_type": "code",
   "execution_count": 29,
   "id": "637f3c45-e562-449e-bc3a-a7d38345ed26",
   "metadata": {},
   "outputs": [],
   "source": [
    "import pandas as pd"
   ]
  },
  {
   "cell_type": "markdown",
   "id": "20017f04-9592-4502-9664-b5056f68801b",
   "metadata": {},
   "source": [
    "#### Recarregar tabela de registros de conflitos de terra da BASELENTO-TER"
   ]
  },
  {
   "cell_type": "code",
   "execution_count": 30,
   "id": "84d5fb46-717e-4f7f-a94b-fa8ac751e27a",
   "metadata": {
    "tags": []
   },
   "outputs": [
    {
     "data": {
      "text/plain": [
       "(3620, 34)"
      ]
     },
     "execution_count": 30,
     "metadata": {},
     "output_type": "execute_result"
    }
   ],
   "source": [
    "records = pd.read_excel('Resultados/baselento-ter.xlsx')\n",
    "\n",
    "records.shape"
   ]
  },
  {
   "cell_type": "markdown",
   "id": "b9e53a08-3ff9-46fb-bb7a-c9045763f660",
   "metadata": {},
   "source": [
    "#### Criar coluna chave `id_municipio` representando conjunto unico de cidade / estado"
   ]
  },
  {
   "cell_type": "code",
   "execution_count": 31,
   "id": "f3d1314f-cb37-4806-bb3c-2d1c6b4d3e3a",
   "metadata": {
    "tags": []
   },
   "outputs": [],
   "source": [
    "names = records['Município'].str.strip().str.lower()\n",
    "states = records['UF'].str.strip().str.lower()\n",
    "\n",
    "records['id_municipio'] = names + ' - ' + states"
   ]
  },
  {
   "cell_type": "markdown",
   "id": "83dd2985-49b7-4a75-9856-6f84307d7c7b",
   "metadata": {},
   "source": [
    "#### Contar conflitos por cidade e ano"
   ]
  },
  {
   "cell_type": "code",
   "execution_count": 32,
   "id": "27ffdb2d-e5cb-4b90-bbf6-db7aad989707",
   "metadata": {
    "tags": []
   },
   "outputs": [],
   "source": [
    "count = records.groupby(['id_municipio', 'Ano']).apply(len).unstack().fillna(0)"
   ]
  },
  {
   "cell_type": "markdown",
   "id": "4b642c78-47b4-4c0d-9b06-1de7c328ccee",
   "metadata": {},
   "source": [
    "#### Converter tabela para tipo de dado inteiro"
   ]
  },
  {
   "cell_type": "code",
   "execution_count": 33,
   "id": "77c9f915-7244-4511-8afd-bc3d822f3684",
   "metadata": {
    "tags": []
   },
   "outputs": [],
   "source": [
    "count = count.astype(int)"
   ]
  },
  {
   "cell_type": "markdown",
   "id": "0b4fb3ea-ed02-4e22-9363-ca2dd3dc8934",
   "metadata": {},
   "source": [
    "### Salvar tabela com séries anuais por cidade"
   ]
  },
  {
   "cell_type": "code",
   "execution_count": 34,
   "id": "e27cf75d-4f5b-4fb1-bf96-4c34fb8cb622",
   "metadata": {
    "tags": []
   },
   "outputs": [
    {
     "name": "stdout",
     "output_type": "stream",
     "text": [
      "Dataframes saved\n"
     ]
    },
    {
     "data": {
      "text/html": [
       "<div>\n",
       "<style scoped>\n",
       "    .dataframe tbody tr th:only-of-type {\n",
       "        vertical-align: middle;\n",
       "    }\n",
       "\n",
       "    .dataframe tbody tr th {\n",
       "        vertical-align: top;\n",
       "    }\n",
       "\n",
       "    .dataframe thead th {\n",
       "        text-align: right;\n",
       "    }\n",
       "</style>\n",
       "<table border=\"1\" class=\"dataframe\">\n",
       "  <thead>\n",
       "    <tr style=\"text-align: right;\">\n",
       "      <th>Ano</th>\n",
       "      <th>2011</th>\n",
       "      <th>2012</th>\n",
       "      <th>2013</th>\n",
       "      <th>2014</th>\n",
       "      <th>2015</th>\n",
       "      <th>2016</th>\n",
       "      <th>2017</th>\n",
       "      <th>2018</th>\n",
       "      <th>2019</th>\n",
       "      <th>2020</th>\n",
       "      <th>2021</th>\n",
       "    </tr>\n",
       "    <tr>\n",
       "      <th>id_municipio</th>\n",
       "      <th></th>\n",
       "      <th></th>\n",
       "      <th></th>\n",
       "      <th></th>\n",
       "      <th></th>\n",
       "      <th></th>\n",
       "      <th></th>\n",
       "      <th></th>\n",
       "      <th></th>\n",
       "      <th></th>\n",
       "      <th></th>\n",
       "    </tr>\n",
       "  </thead>\n",
       "  <tbody>\n",
       "    <tr>\n",
       "      <th>abelardo luz - sc</th>\n",
       "      <td>1</td>\n",
       "      <td>4</td>\n",
       "      <td>1</td>\n",
       "      <td>3</td>\n",
       "      <td>1</td>\n",
       "      <td>1</td>\n",
       "      <td>1</td>\n",
       "      <td>1</td>\n",
       "      <td>0</td>\n",
       "      <td>5</td>\n",
       "      <td>0</td>\n",
       "    </tr>\n",
       "    <tr>\n",
       "      <th>acrelândia - ac</th>\n",
       "      <td>8</td>\n",
       "      <td>11</td>\n",
       "      <td>5</td>\n",
       "      <td>4</td>\n",
       "      <td>3</td>\n",
       "      <td>11</td>\n",
       "      <td>6</td>\n",
       "      <td>5</td>\n",
       "      <td>3</td>\n",
       "      <td>15</td>\n",
       "      <td>15</td>\n",
       "    </tr>\n",
       "    <tr>\n",
       "      <th>alenquer - pa</th>\n",
       "      <td>0</td>\n",
       "      <td>0</td>\n",
       "      <td>0</td>\n",
       "      <td>0</td>\n",
       "      <td>2</td>\n",
       "      <td>3</td>\n",
       "      <td>1</td>\n",
       "      <td>0</td>\n",
       "      <td>1</td>\n",
       "      <td>2</td>\n",
       "      <td>1</td>\n",
       "    </tr>\n",
       "    <tr>\n",
       "      <th>almeirim - pa</th>\n",
       "      <td>0</td>\n",
       "      <td>0</td>\n",
       "      <td>1</td>\n",
       "      <td>2</td>\n",
       "      <td>2</td>\n",
       "      <td>1</td>\n",
       "      <td>0</td>\n",
       "      <td>0</td>\n",
       "      <td>0</td>\n",
       "      <td>0</td>\n",
       "      <td>0</td>\n",
       "    </tr>\n",
       "    <tr>\n",
       "      <th>alpestre - rs</th>\n",
       "      <td>0</td>\n",
       "      <td>0</td>\n",
       "      <td>0</td>\n",
       "      <td>0</td>\n",
       "      <td>0</td>\n",
       "      <td>0</td>\n",
       "      <td>0</td>\n",
       "      <td>0</td>\n",
       "      <td>0</td>\n",
       "      <td>0</td>\n",
       "      <td>2</td>\n",
       "    </tr>\n",
       "  </tbody>\n",
       "</table>\n",
       "</div>"
      ],
      "text/plain": [
       "Ano                2011  2012  2013  2014  2015  2016  2017  2018  2019  2020  \\\n",
       "id_municipio                                                                    \n",
       "abelardo luz - sc     1     4     1     3     1     1     1     1     0     5   \n",
       "acrelândia - ac       8    11     5     4     3    11     6     5     3    15   \n",
       "alenquer - pa         0     0     0     0     2     3     1     0     1     2   \n",
       "almeirim - pa         0     0     1     2     2     1     0     0     0     0   \n",
       "alpestre - rs         0     0     0     0     0     0     0     0     0     0   \n",
       "\n",
       "Ano                2021  \n",
       "id_municipio             \n",
       "abelardo luz - sc     0  \n",
       "acrelândia - ac      15  \n",
       "alenquer - pa         1  \n",
       "almeirim - pa         0  \n",
       "alpestre - rs         2  "
      ]
     },
     "metadata": {},
     "output_type": "display_data"
    },
    {
     "name": "stdout",
     "output_type": "stream",
     "text": [
      "(239, 11)\n"
     ]
    }
   ],
   "source": [
    "count.to_excel('Resultados/baselento-ter-anual.xlsx', index=True)\n",
    "# count.to_csv('Resultados/baselento-ter-anual.csv', index=True)\n",
    "\n",
    "print('Dataframes saved')\n",
    "display(count.head())\n",
    "print(count.shape)"
   ]
  },
  {
   "cell_type": "markdown",
   "id": "785f5a3f-5dbc-4f06-b999-e174816d99b6",
   "metadata": {},
   "source": [
    "---\n",
    "## Extra: Visualizar séries anuais de conflito de terra por cidades da BASELENTO-TER"
   ]
  },
  {
   "cell_type": "code",
   "execution_count": 35,
   "id": "587ea1b8-8b2c-4ea6-8ce4-ad797945acc3",
   "metadata": {
    "tags": []
   },
   "outputs": [
    {
     "data": {
      "image/png": "[encoded data removed]",
      "text/plain": [
       "<Figure size 500x300 with 1 Axes>"
      ]
     },
     "metadata": {},
     "output_type": "display_data"
    }
   ],
   "source": [
    "ax = count.T.plot(\n",
    "    title='Série anual de conflitos por terra por município',\n",
    "    ylabel='Conflitos',\n",
    "    figsize=(5, 3),\n",
    "    grid=True,\n",
    "    legend=[],\n",
    ")"
   ]
  }
 ],
 "metadata": {
  "kernelspec": {
   "display_name": "Python 3 (ipykernel)",
   "language": "python",
   "name": "python3"
  },
  "language_info": {
   "codemirror_mode": {
    "name": "ipython",
    "version": 3
   },
   "file_extension": ".py",
   "mimetype": "text/x-python",
   "name": "python",
   "nbconvert_exporter": "python",
   "pygments_lexer": "ipython3",
   "version": "3.11.3"
  }
 },
 "nbformat": 4,
 "nbformat_minor": 5
}
