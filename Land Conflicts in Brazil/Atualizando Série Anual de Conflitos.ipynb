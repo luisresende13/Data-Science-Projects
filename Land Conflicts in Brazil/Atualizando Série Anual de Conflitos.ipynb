{
 "cells": [
  {
   "cell_type": "markdown",
   "id": "df7677ff-f41f-46b0-afbb-171e5d90bc93",
   "metadata": {},
   "source": [
    "# Atualizando base nacional histórica de conflitos de terra"
   ]
  },
  {
   "cell_type": "markdown",
   "id": "b2ef5678-e5a2-4bbe-87de-ad338f66930a",
   "metadata": {},
   "source": [
    "#### Importar módulos"
   ]
  },
  {
   "cell_type": "code",
   "execution_count": 37,
   "id": "f7fbe95e-6f22-4449-9bc7-4c7e39e45316",
   "metadata": {
    "tags": []
   },
   "outputs": [],
   "source": [
    "import pandas as pd"
   ]
  },
  {
   "cell_type": "markdown",
   "id": "cd047949-f62f-4ef3-b83d-9e7e0760495c",
   "metadata": {},
   "source": [
    "---\n",
    "## Carregar tabelas"
   ]
  },
  {
   "cell_type": "markdown",
   "id": "f1f5b023-dfcf-44d9-950b-6a4f003417fc",
   "metadata": {},
   "source": [
    "#### Conflitos de terra por ano (BASELENTO) após limpeza (2000-2011)"
   ]
  },
  {
   "cell_type": "code",
   "execution_count": 38,
   "id": "2985fc7f-37d9-41c9-8bdd-0a2c29fc0bf4",
   "metadata": {
    "tags": []
   },
   "outputs": [],
   "source": [
    "baselento = pd.read_excel('Resultados/baselento-ter-anual.xlsx', index_col=0)"
   ]
  },
  {
   "cell_type": "markdown",
   "id": "33540c24-f8f5-45b1-8be3-8e8647803422",
   "metadata": {},
   "source": [
    "#### Conflitos de terra por ano (CPT) após limpeza (2011-2021)"
   ]
  },
  {
   "cell_type": "code",
   "execution_count": 39,
   "id": "c988945c-0862-438f-b803-efe831b79332",
   "metadata": {
    "tags": []
   },
   "outputs": [],
   "source": [
    "cpt = pd.read_excel('Resultados/cpt-ter-anual.xlsx')"
   ]
  },
  {
   "cell_type": "markdown",
   "id": "56f07ee6-45e7-4bba-a4cf-fb684b809ec7",
   "metadata": {},
   "source": [
    "#### Cidades fronteiriças do Brasil após limpeza (Wikipédia)"
   ]
  },
  {
   "cell_type": "code",
   "execution_count": 40,
   "id": "09becce7-d291-4640-94b4-43725e822d56",
   "metadata": {
    "tags": []
   },
   "outputs": [],
   "source": [
    "fronteira = pd.read_excel('Resultados/fronteira-wiki.xlsx')"
   ]
  },
  {
   "cell_type": "markdown",
   "id": "6938fdf5-1e46-46e3-828d-3239f092127b",
   "metadata": {},
   "source": [
    "#### Mapa de conflitos envolvendo injustiça ambiental e saúde no Brasil após limpeza"
   ]
  },
  {
   "cell_type": "code",
   "execution_count": 43,
   "id": "dd1e74ae-060d-473a-b9d5-564e233b873e",
   "metadata": {
    "tags": []
   },
   "outputs": [],
   "source": [
    "mapa = pd.read_excel('Resultados/conflitos-injustiça-ambiental-e-saúde.xlsx')"
   ]
  },
  {
   "cell_type": "markdown",
   "id": "26cdf3bc-b50c-4d28-8b9e-586a78297e30",
   "metadata": {},
   "source": [
    "---\n",
    "## Cruzando tabelas com séries anuais de conflitos de terra (BASELENTO e CPT)"
   ]
  },
  {
   "cell_type": "markdown",
   "id": "f2a3457b-9af4-44a2-b562-d7b665ba927a",
   "metadata": {},
   "source": [
    "#### Formatar nomes de colunas de ano para compatibilizar com padrão do CPT"
   ]
  },
  {
   "cell_type": "code",
   "execution_count": null,
   "id": "cb8f4eff-9436-4d9f-b736-a8cfd02fd3ae",
   "metadata": {
    "tags": []
   },
   "outputs": [],
   "source": [
    "# Criar cópia para não alterar o original\n",
    "baselento_copy = baselento.copy()\n",
    "\n",
    "# Adicionar `CONF` ao início dos nomes das colunas\n",
    "baselento_copy.columns = 'CONF' + baselento.columns.astype(str)"
   ]
  },
  {
   "cell_type": "markdown",
   "id": "a565b3e8-b8ef-4b66-bbac-627702a6aca5",
   "metadata": {},
   "source": [
    "#### Excluir coluna com ano de 2011 da tabela cpt (mais antiga) "
   ]
  },
  {
   "cell_type": "code",
   "execution_count": null,
   "id": "6d2653f3-ac17-4d25-a041-1f198161936d",
   "metadata": {
    "tags": []
   },
   "outputs": [],
   "source": [
    "cpt_copy = cpt.copy()\n",
    "\n",
    "cpt_copy.drop('CONF2011', axis=1, inplace=True)"
   ]
  },
  {
   "cell_type": "markdown",
   "id": "a7fcded7-ebba-484f-a614-8d98c0d393e0",
   "metadata": {},
   "source": [
    "#### Criar campo `id` na tabela cpt associando cidades e estados para obter cidades unicas"
   ]
  },
  {
   "cell_type": "code",
   "execution_count": null,
   "id": "ccdf6903-2581-4106-9b1d-dcda6dacaeb0",
   "metadata": {
    "tags": []
   },
   "outputs": [],
   "source": [
    "cpt_copy['id'] = cpt_copy['MUN'].str.strip().str.lower() + ' - ' + cpt_copy['UF'].str.strip().str.lower()"
   ]
  },
  {
   "cell_type": "markdown",
   "id": "40eb6366-37f3-4baf-b3e8-2636460e3c65",
   "metadata": {},
   "source": [
    "#### Cruzar tabelas BASELENTO e CPT com base em coluna `ìd` de cidades unicas"
   ]
  },
  {
   "cell_type": "code",
   "execution_count": null,
   "id": "51f0df84-ad45-40fa-a360-da6775175f68",
   "metadata": {
    "tags": []
   },
   "outputs": [],
   "source": [
    "history = cpt_copy.join(baselento_copy.astype(int), how='inner', on='id')\n",
    "\n",
    "history.shape"
   ]
  },
  {
   "cell_type": "markdown",
   "id": "60d09cda-57d1-45a6-bf55-e9487fc9fdfa",
   "metadata": {},
   "source": [
    "Obs: Duas cidades da tabela BASELENTO não estão presentes na tabela CPT"
   ]
  },
  {
   "cell_type": "markdown",
   "id": "59fec0f9-cfaa-48a0-8229-a4fa975c8b50",
   "metadata": {},
   "source": [
    "---\n",
    "## Adicionar campo representando cidades fronteiriças"
   ]
  },
  {
   "cell_type": "markdown",
   "id": "a7927f86-26f8-49d5-af8f-3db16ac9b7e3",
   "metadata": {},
   "source": [
    "#### Adicionar campo `id` à tabela de cidades fronteiriças representando cidades únicas"
   ]
  },
  {
   "cell_type": "code",
   "execution_count": null,
   "id": "a98b4919-02a2-430b-873e-91938bf57b12",
   "metadata": {
    "tags": []
   },
   "outputs": [],
   "source": [
    "fronteira['id'] = fronteira['Município'].str.strip().str.lower() + ' - ' + fronteira['UF'].str.strip().str.lower()"
   ]
  },
  {
   "cell_type": "markdown",
   "id": "8e0b3937-1bb7-4896-9bc1-1d4059f79042",
   "metadata": {},
   "source": [
    "#### Criar campo `Fronteira` baseado no cruzamento da coluna `id`"
   ]
  },
  {
   "cell_type": "code",
   "execution_count": null,
   "id": "f57b7d05-b8bf-4aae-9ff8-be181dbdc222",
   "metadata": {
    "tags": []
   },
   "outputs": [],
   "source": [
    "history['FRONTEIRA'] = history['id'].isin(fronteira['id']).astype(int)\n",
    "\n",
    "history[['MUN', 'FRONTEIRA']].head(5)"
   ]
  },
  {
   "cell_type": "markdown",
   "id": "01826792-a18b-4b63-8756-ccb26d51fb00",
   "metadata": {},
   "source": [
    "---\n",
    "## Adicionar campo com contagems do mapa de conflitos de injustiça ambiental e saúde do Brasil "
   ]
  },
  {
   "cell_type": "markdown",
   "id": "20e18fbd-c7a0-4b35-86f9-0a029dd56838",
   "metadata": {},
   "source": [
    "#### Criar campo `id` à tabela do mapa de conflitos representando cidades únicas"
   ]
  },
  {
   "cell_type": "code",
   "execution_count": null,
   "id": "0cf5d325-7cbc-42ab-bbed-d66ffd1f3747",
   "metadata": {
    "tags": []
   },
   "outputs": [],
   "source": [
    "mapa['id'] = mapa['Município'].str.strip().str.lower() + ' - ' + mapa['UF'].str.strip().str.lower()"
   ]
  },
  {
   "cell_type": "markdown",
   "id": "0017d0f5-70c2-4a4d-ad02-cb758b61c093",
   "metadata": {},
   "source": [
    "#### Contagem de registros por cidade (Mapa de Conflitos)"
   ]
  },
  {
   "cell_type": "code",
   "execution_count": null,
   "id": "82d42120-f901-41b6-bf9d-17b26cf9fd79",
   "metadata": {
    "tags": []
   },
   "outputs": [],
   "source": [
    "mapa_contagem = mapa['id'].value_counts().to_frame('MAPA DE CONFLITOS')\n",
    "\n",
    "mapa_contagem.head(5)"
   ]
  },
  {
   "cell_type": "markdown",
   "id": "841e0b54-865a-45d0-b9af-cfa489550b2b",
   "metadata": {},
   "source": [
    "#### Inclui coluna para contagem de conflitos do Mapa de Conflitos"
   ]
  },
  {
   "cell_type": "code",
   "execution_count": null,
   "id": "733c1746-7170-479d-9c0c-c065021b6520",
   "metadata": {
    "tags": []
   },
   "outputs": [],
   "source": [
    "history_expanded = history.join(mapa_contagem, how='outer', on='id')"
   ]
  },
  {
   "cell_type": "markdown",
   "id": "dbd27043-8444-4df9-a02c-607ed8bd0f20",
   "metadata": {},
   "source": [
    "#### Excluir cidades que não estão presentes na tabela combinada"
   ]
  },
  {
   "cell_type": "code",
   "execution_count": null,
   "id": "7f0de51c-7bf8-4da6-8df1-054488ba5313",
   "metadata": {},
   "outputs": [],
   "source": [
    "history_expanded = history_expanded[history_expanded['id'].isin(history['id'])]"
   ]
  },
  {
   "cell_type": "markdown",
   "id": "b8097ad6-f417-428a-9e8b-0cba9cbd2700",
   "metadata": {},
   "source": [
    "#### Prencher células vazias com zero na coluna"
   ]
  },
  {
   "cell_type": "code",
   "execution_count": null,
   "id": "227e0c05-01ca-4b4d-a29d-d5e0bfc5c3e5",
   "metadata": {},
   "outputs": [],
   "source": [
    "history_expanded['MAPA DE CONFLITOS'] = history_expanded['MAPA DE CONFLITOS'].fillna(0)"
   ]
  },
  {
   "cell_type": "markdown",
   "id": "3697625f-c6b0-4c92-9802-4cbf475c94ac",
   "metadata": {},
   "source": [
    "#### Converter coluna para tipo inteiro"
   ]
  },
  {
   "cell_type": "code",
   "execution_count": null,
   "id": "74935e3e-e273-45b8-834e-f879dc569eff",
   "metadata": {},
   "outputs": [],
   "source": [
    "history_expanded['MAPA DE CONFLITOS'] = history_expanded['MAPA DE CONFLITOS'].astype(int)"
   ]
  },
  {
   "cell_type": "markdown",
   "id": "591e0f1a-9de7-4e3a-9e61-76c7537b1b13",
   "metadata": {},
   "source": [
    "---\n",
    "## Salvar tabela finalizada"
   ]
  },
  {
   "cell_type": "markdown",
   "id": "daee4b8c-5027-474c-9981-8238eb69365b",
   "metadata": {},
   "source": [
    "#### Reordenar colunas"
   ]
  },
  {
   "cell_type": "code",
   "execution_count": null,
   "id": "643513ce-7792-4135-adb4-bedf95e76ab0",
   "metadata": {
    "tags": []
   },
   "outputs": [],
   "source": [
    "columns_order = [\n",
    "    'id', 'CUGN', 'CUGT', 'MUN', 'UF', 'FF', 'FFSITGEO', 'FRONTEIRA', 'MAPA DE CONFLITOS', \n",
    "    'CONF2000', 'CONF2001', 'CONF2002', 'CONF2003', 'CONF2004', 'CONF2005',\n",
    "    'CONF2006', 'CONF2007', 'CONF2008', 'CONF2009', 'CONF2010', 'CONF2011',\n",
    "    'CONF2012', 'CONF2013', 'CONF2014', 'CONF2015', 'CONF2016', 'CONF2017',\n",
    "    'CONF2018', 'CONF2019', 'CONF2020', 'CONF2021'\n",
    "]\n",
    "\n",
    "history_expanded = history_expanded[columns_order]"
   ]
  },
  {
   "cell_type": "markdown",
   "id": "98a5f66f-ca84-4964-8860-207d6ab65d80",
   "metadata": {},
   "source": [
    "#### Salvar como excel e csv"
   ]
  },
  {
   "cell_type": "code",
   "execution_count": null,
   "id": "74296d00-ce0b-4d61-ab5b-40a7c0e2b975",
   "metadata": {
    "tags": []
   },
   "outputs": [],
   "source": [
    "# history_expanded.to_csv('Resultados/histórico-conflitos-atualizado.xlsx', index=False)\n",
    "history_expanded.to_excel('Resultados/histórico-conflitos-atualizado.xlsx', index=False)\n",
    "\n",
    "display(history_expanded.head())\n",
    "history_expanded.shape"
   ]
  },
  {
   "cell_type": "markdown",
   "id": "0170c852-cf83-46e0-a855-2406f23983b5",
   "metadata": {},
   "source": [
    "---\n",
    "## Gerar arquivo shape com dados + geometria de cada município"
   ]
  },
  {
   "cell_type": "code",
   "execution_count": 44,
   "id": "a3df2636-f6a8-4107-8d80-98125c45a2ce",
   "metadata": {
    "tags": []
   },
   "outputs": [],
   "source": [
    "import pandas as pd"
   ]
  },
  {
   "cell_type": "markdown",
   "id": "5756d052-e514-47bf-b0f0-98a5983a5b84",
   "metadata": {},
   "source": [
    "#### Carregar arquivo shape com geometria de municípios do Brasil como dataframe pandas"
   ]
  },
  {
   "cell_type": "code",
   "execution_count": 54,
   "id": "64969ee0-b04e-41f9-b4e4-96d8816e0c85",
   "metadata": {
    "tags": []
   },
   "outputs": [],
   "source": [
    "# !pip install geopandas\n",
    "\n",
    "import geopandas as gpd\n",
    "\n",
    "# Replace 'input_shapefile.shp' with the path to your shapefile\n",
    "shapefile_path = 'Dados/BR_Municipios_2021.zip'\n",
    "\n",
    "# Read the shapefile using geopandas\n",
    "geo_df = gpd.read_file(shapefile_path)\n",
    "\n",
    "# Convert the geo-dataframe to regular dataframe\n",
    "cities = pd.DataFrame(geo_df)"
   ]
  },
  {
   "cell_type": "markdown",
   "id": "061218da-2d2a-4c75-bbf0-4c07ff543c3e",
   "metadata": {},
   "source": [
    "#### Criar campo `id` representando cidades únicas da tabela de geometria de municípios"
   ]
  },
  {
   "cell_type": "code",
   "execution_count": 55,
   "id": "52954a13-f60b-47df-91d5-278bd47173a5",
   "metadata": {
    "tags": []
   },
   "outputs": [],
   "source": [
    "cities['id'] = cities['NM_MUN'].str.strip().str.lower() + ' - ' + cities['SIGLA'].str.strip().str.lower()"
   ]
  },
  {
   "cell_type": "markdown",
   "id": "a060b552-db1c-46c8-9014-afcc3c371927",
   "metadata": {},
   "source": [
    "#### Recarregar histórico de conflitos finalizado"
   ]
  },
  {
   "cell_type": "code",
   "execution_count": 56,
   "id": "3baca13c-d0e9-4b1a-9dce-e97af239b32c",
   "metadata": {
    "tags": []
   },
   "outputs": [],
   "source": [
    "history = pd.read_excel('Resultados/histórico-conflitos-atualizado.xlsx')"
   ]
  },
  {
   "cell_type": "markdown",
   "id": "ab935f65-8d48-4954-8b5f-e75cb32c6ce0",
   "metadata": {},
   "source": [
    "#### Cruzar colunas de geometria e área"
   ]
  },
  {
   "cell_type": "code",
   "execution_count": 57,
   "id": "3aa88922-ecdf-4330-aeb9-6a0c8fb68dc6",
   "metadata": {
    "tags": []
   },
   "outputs": [],
   "source": [
    "history_shape = cities[['id', 'AREA_KM2', 'geometry']].join(history.set_index('id'), on='id', how='inner')"
   ]
  },
  {
   "cell_type": "markdown",
   "id": "a675f526-46b6-4dc5-9584-fd71c38486f7",
   "metadata": {},
   "source": [
    "---\n",
    "## Salvar arquivo shape com dados e geometrias"
   ]
  },
  {
   "cell_type": "markdown",
   "id": "f5cbf0db-9657-4322-86cc-2dd622cd8a3a",
   "metadata": {},
   "source": [
    "#### Salvar arquivos shape para compressão a partir da tabela finalizada"
   ]
  },
  {
   "cell_type": "code",
   "execution_count": 67,
   "id": "dfd2c80b-3812-47ce-8697-26813ebe11e0",
   "metadata": {
    "tags": []
   },
   "outputs": [
    {
     "name": "stderr",
     "output_type": "stream",
     "text": [
      "C:\\Users\\luisr\\AppData\\Local\\Temp\\ipykernel_29592\\1100762217.py:14: UserWarning: Column names longer than 10 characters will be truncated when saved to ESRI Shapefile.\n",
      "  gdf.to_file(shapefile_output_path, driver='ESRI Shapefile')\n"
     ]
    }
   ],
   "source": [
    "import geopandas as gpd\n",
    "from shapely.wkt import loads\n",
    "\n",
    "# # Replace 'geometry' with the actual name of your geometry column\n",
    "# history_shape['geometry'] = history_shape['geometry'].apply(loads)\n",
    "\n",
    "# Now, convert the DataFrame to a GeoDataFrame\n",
    "gdf = gpd.GeoDataFrame(history_shape, geometry='geometry')\n",
    "\n",
    "# Replace 'output_shapefile.shp' with the desired output shapefile path\n",
    "shapefile_output_path = f'Resultados/histórico_conflitos_atualizado_shape.shp'\n",
    "\n",
    "# Save the GeoDataFrame to a shapefile\n",
    "gdf.to_file(shapefile_output_path, driver='ESRI Shapefile')"
   ]
  },
  {
   "cell_type": "markdown",
   "id": "4ceaeec4-41f1-41fb-bfbf-6d2ed52bbb1e",
   "metadata": {},
   "source": [
    "#### Comprimir arquivos em arquivo shape zip final"
   ]
  },
  {
   "cell_type": "code",
   "execution_count": 51,
   "id": "246e3aaa-b5a1-4d70-9e46-bccbc140fc52",
   "metadata": {
    "tags": []
   },
   "outputs": [],
   "source": [
    "import os\n",
    "import zipfile\n",
    "\n",
    "output_folder = 'Resultados'\n",
    "base_shape_name = 'histórico-conflitos-atualizado-shape'\n",
    "base_shape_path = f'{output_folder}/{base_shape_name}'\n",
    "output_zip_path = f'{base_shape_path}.zip'\n",
    "\n",
    "# List of filenames to include in the ZIP archive\n",
    "selected_files = [filename for filename in os.listdir(output_folder) if base_shape_name in filename]\n",
    "\n",
    "with zipfile.ZipFile(output_zip_path, 'w') as zipf:\n",
    "    for file in selected_files:\n",
    "        file_path = os.path.join(output_folder, file)\n",
    "        arcname = os.path.basename(file)  # Use only the filename in the archive\n",
    "        zipf.write(file_path, arcname=arcname)\n"
   ]
  },
  {
   "cell_type": "markdown",
   "id": "ab5102c8-7bb0-4492-8030-67e418d88387",
   "metadata": {},
   "source": [
    "#### Deletar arquivos provisórios"
   ]
  },
  {
   "cell_type": "code",
   "execution_count": 52,
   "id": "300dea32-fd50-4d40-84fd-6cf4809299b2",
   "metadata": {
    "tags": []
   },
   "outputs": [
    {
     "name": "stdout",
     "output_type": "stream",
     "text": [
      "Deleted: Resultados/histórico-conflitos-atualizado-shape.cpg\n",
      "Deleted: Resultados/histórico-conflitos-atualizado-shape.dbf\n",
      "Deleted: Resultados/histórico-conflitos-atualizado-shape.prj\n",
      "Deleted: Resultados/histórico-conflitos-atualizado-shape.shp\n",
      "Deleted: Resultados/histórico-conflitos-atualizado-shape.shx\n"
     ]
    }
   ],
   "source": [
    "import os\n",
    "\n",
    "# List of files to delete\n",
    "files_to_delete = [f'{output_folder}/{filename}' for filename in selected_files]\n",
    "\n",
    "# Loop through the files and delete each one\n",
    "for file_path in files_to_delete:\n",
    "    try:\n",
    "        os.remove(file_path)  # Delete the file\n",
    "        print(f\"Deleted: {file_path}\")\n",
    "    except OSError as e:\n",
    "        print(f\"Error deleting {file_path}: {e}\")\n"
   ]
  },
  {
   "cell_type": "markdown",
   "id": "d25ab4ea-e318-4d89-95a2-8eda9b8d2246",
   "metadata": {},
   "source": [
    "---\n",
    "## Extra: Mapas cloropeth com contagem de conflitos por cidade"
   ]
  },
  {
   "cell_type": "code",
   "execution_count": 126,
   "id": "db85a88f-e727-4115-b3d6-069a4450525e",
   "metadata": {
    "tags": []
   },
   "outputs": [],
   "source": [
    "gdf['Total (2000-2021)'] = gdf.iloc[:, 11:].sum(axis=1)"
   ]
  },
  {
   "cell_type": "markdown",
   "id": "3c8854eb-f67b-4880-9409-4769f4d9fd76",
   "metadata": {},
   "source": [
    "### Mapa cloropeth com geopandas"
   ]
  },
  {
   "cell_type": "code",
   "execution_count": 124,
   "id": "144fef4d-5049-4821-bc1e-d939dc3f377c",
   "metadata": {
    "tags": []
   },
   "outputs": [
    {
     "data": {
      "image/png": "[encoded data removed]",
      "text/plain": [
       "<Figure size 1000x800 with 2 Axes>"
      ]
     },
     "metadata": {},
     "output_type": "display_data"
    }
   ],
   "source": [
    "import geopandas as gpd\n",
    "import matplotlib.pyplot as plt\n",
    "\n",
    "# Load your dataset\n",
    "# gdf = gpd.read_file('path_to_your_dataset.geojson')  # Replace with the actual path\n",
    "\n",
    "# Plot the choropleth map\n",
    "fig, ax = plt.subplots(1, 1, figsize=(10, 8))\n",
    "\n",
    "# Customize the plot appearance\n",
    "gdf.plot(column='Total (2000-2021)', cmap='YlOrRd', ax=ax, legend=True,\n",
    "         legend_kwds={'label': \"Legend Title\", 'orientation': \"vertical\"})\n",
    "ax.set_title('Choropleth Map')\n",
    "ax.set_axis_off()  # Turn off the axis\n",
    "\n",
    "# Add labels to the polygons\n",
    "# for idx, row in gdf.iterrows():\n",
    "#     ax.annotate(text=row['MUN'], xy=(row['geometry'].centroid.x, row['geometry'].centroid.y),\n",
    "#                 xytext=(3, 3), textcoords=\"offset points\", fontsize=5, color='black')\n",
    "\n",
    "plt.show()\n"
   ]
  },
  {
   "cell_type": "markdown",
   "id": "9fc2b4bd-5334-42a9-9f8b-1cfc29822465",
   "metadata": {},
   "source": [
    "### Mapas cloropeth com folium (Contagems por cidade por ano)"
   ]
  },
  {
   "cell_type": "code",
   "execution_count": 134,
   "id": "54ca1e1d-e413-42c7-9786-5524e3814f5e",
   "metadata": {
    "tags": []
   },
   "outputs": [
    {
     "name": "stdout",
     "output_type": "stream",
     "text": [
      "CONF2000 Saved!\n",
      "CONF2001 Saved!\n",
      "CONF2002 Saved!\n",
      "CONF2003 Saved!\n",
      "CONF2004 Saved!\n",
      "CONF2005 Saved!\n",
      "CONF2006 Saved!\n",
      "CONF2007 Saved!\n",
      "CONF2008 Saved!\n",
      "CONF2009 Saved!\n",
      "CONF2010 Saved!\n",
      "CONF2011 Saved!\n",
      "CONF2012 Saved!\n",
      "CONF2013 Saved!\n",
      "CONF2014 Saved!\n",
      "CONF2015 Saved!\n",
      "CONF2016 Saved!\n",
      "CONF2017 Saved!\n",
      "CONF2018 Saved!\n",
      "CONF2019 Saved!\n",
      "CONF2020 Saved!\n",
      "CONF2021 Saved!\n",
      "Total (2000-2021) Saved!\n"
     ]
    }
   ],
   "source": [
    "import folium\n",
    "import geopandas as gpd\n",
    "\n",
    "# Load your GeoDataFrame\n",
    "# gdf = gpd.GeoDataFrame(history_shape, geometry='geometry')\n",
    "\n",
    "latitude, longitude = -14.2350, -51.9253\n",
    "\n",
    "cols = ['CONF' + str(year) for year in range(2000, 2022)] + ['Total (2000-2021)']\n",
    "for col in cols:\n",
    "\n",
    "    # Create a base map centered on a specific location\n",
    "    m = folium.Map(location=[latitude, longitude], zoom_start=4)\n",
    "\n",
    "    # Add choropleth layer to the map\n",
    "    choropleth = folium.Choropleth(\n",
    "        geo_data=gdf,\n",
    "        data=gdf,\n",
    "        columns=['id', col],  # Replace with the actual column names\n",
    "        key_on='feature.properties.id',  # Adjust to match the property in your GeoJSON\n",
    "        fill_color='YlOrRd',\n",
    "        fill_opacity=0.7,\n",
    "        line_opacity=0.2,\n",
    "        legend_name='Conflitos',\n",
    "        highlight=True  # Enable feature highlighting\n",
    "    ).add_to(m)\n",
    "\n",
    "    # Add tooltips to display information when hovering over features\n",
    "    choropleth.geojson.add_child(\n",
    "        folium.GeoJsonTooltip(fields=['id', col], aliases=['Cidade ID', f'Conflitos {col}'], labels=True)\n",
    "    )\n",
    "\n",
    "    # Display the map\n",
    "    m.save(f'Mapas/Anuais/interactive_choropleth_map_{col[4:]}.html')\n",
    "    print(col, 'Saved!')\n"
   ]
  }
 ],
 "metadata": {
  "kernelspec": {
   "display_name": "Python 3 (ipykernel)",
   "language": "python",
   "name": "python3"
  },
  "language_info": {
   "codemirror_mode": {
    "name": "ipython",
    "version": 3
   },
   "file_extension": ".py",
   "mimetype": "text/x-python",
   "name": "python",
   "nbconvert_exporter": "python",
   "pygments_lexer": "ipython3",
   "version": "3.11.3"
  }
 },
 "nbformat": 4,
 "nbformat_minor": 5
}
