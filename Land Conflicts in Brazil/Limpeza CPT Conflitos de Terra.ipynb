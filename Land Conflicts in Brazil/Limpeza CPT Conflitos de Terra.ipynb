{
 "cells": [
  {
   "cell_type": "markdown",
   "id": "9edb8e61-a2dc-4ff2-a046-08ce7ef79715",
   "metadata": {},
   "source": [
    "# Base nacional de conflitos de terra CPT de 2000 a 2011"
   ]
  },
  {
   "cell_type": "markdown",
   "id": "c8ccbab3-c11a-4db3-af68-3d7a7aef023d",
   "metadata": {},
   "source": [
    "#### Importar modulos"
   ]
  },
  {
   "cell_type": "code",
   "execution_count": 1,
   "id": "38f6eb0b-dd33-40f8-8812-af89f90f713f",
   "metadata": {
    "tags": []
   },
   "outputs": [],
   "source": [
    "import pandas as pd"
   ]
  },
  {
   "cell_type": "markdown",
   "id": "eb3fb692-f06f-49fe-900e-404c8e56bed3",
   "metadata": {},
   "source": [
    "#### Carregar tabela de conflitos do CPT"
   ]
  },
  {
   "cell_type": "code",
   "execution_count": 2,
   "id": "ca4bee92-6a17-4ffe-b50c-155b80fa6876",
   "metadata": {
    "tags": []
   },
   "outputs": [],
   "source": [
    "cpt = pd.read_excel('Dados/Conflitos de Terra-CPT-2000-2011.xlsx', sheet_name=None)['Plan1']"
   ]
  },
  {
   "cell_type": "markdown",
   "id": "0cc0ba51-1c1d-4e86-818a-9b92e44939a1",
   "metadata": {},
   "source": [
    "#### Ignorar primeira linha"
   ]
  },
  {
   "cell_type": "code",
   "execution_count": 3,
   "id": "2e9f7a4a-cb83-4e10-a283-f82b1f1e39cf",
   "metadata": {
    "tags": []
   },
   "outputs": [],
   "source": [
    "cpt = cpt.iloc[:-1]"
   ]
  },
  {
   "cell_type": "markdown",
   "id": "a4d51107-99c1-4735-9313-2dc48c4a264b",
   "metadata": {},
   "source": [
    "#### Contar células vazias por coluna"
   ]
  },
  {
   "cell_type": "code",
   "execution_count": 4,
   "id": "28197236-b299-4b4f-89a9-88e95c1af1aa",
   "metadata": {
    "tags": []
   },
   "outputs": [
    {
     "data": {
      "text/plain": [
       "CUGN        0\n",
       "CUGT        0\n",
       "MUN         0\n",
       "UF          0\n",
       "FF          0\n",
       "FFSITGEO    0\n",
       "CONF2000    0\n",
       "CONF2001    0\n",
       "CONF2002    0\n",
       "CONF2003    0\n",
       "CONF2004    0\n",
       "CONF2005    0\n",
       "CONF2006    0\n",
       "CONF2007    0\n",
       "CONF2008    0\n",
       "CONF2009    0\n",
       "CONF2010    1\n",
       "CONF2011    0\n",
       "dtype: int64"
      ]
     },
     "execution_count": 4,
     "metadata": {},
     "output_type": "execute_result"
    }
   ],
   "source": [
    "cpt.isna().sum()"
   ]
  },
  {
   "cell_type": "markdown",
   "id": "88fb30a5-8515-46ab-8381-0aa367b929b8",
   "metadata": {},
   "source": [
    "#### Inserir zero para células vazias"
   ]
  },
  {
   "cell_type": "code",
   "execution_count": 5,
   "id": "db176eb1-1c70-4feb-9371-5c25793bb729",
   "metadata": {
    "tags": []
   },
   "outputs": [],
   "source": [
    "cpt = cpt.fillna(0)"
   ]
  },
  {
   "cell_type": "markdown",
   "id": "2e246694-61b3-4d0b-8fcd-7dde9ea0c543",
   "metadata": {},
   "source": [
    "#### Remover espaços das laterais dos nomes de município e estado (UF)"
   ]
  },
  {
   "cell_type": "code",
   "execution_count": 6,
   "id": "1890dba5-1953-4af3-a3d4-c707dcf1f213",
   "metadata": {
    "tags": []
   },
   "outputs": [],
   "source": [
    "cpt['MUN'] = cpt['MUN'].str.strip()\n",
    "cpt['UF'] = cpt['UF'].str.strip()"
   ]
  },
  {
   "cell_type": "markdown",
   "id": "b7199a60-c527-421c-82bf-82d2d300ecad",
   "metadata": {},
   "source": [
    "### Salvar tabela limpa"
   ]
  },
  {
   "cell_type": "code",
   "execution_count": 7,
   "id": "b7df0c6f-a133-44c9-ab13-179772fe94a2",
   "metadata": {
    "tags": []
   },
   "outputs": [
    {
     "data": {
      "text/html": [
       "<div>\n",
       "<style scoped>\n",
       "    .dataframe tbody tr th:only-of-type {\n",
       "        vertical-align: middle;\n",
       "    }\n",
       "\n",
       "    .dataframe tbody tr th {\n",
       "        vertical-align: top;\n",
       "    }\n",
       "\n",
       "    .dataframe thead th {\n",
       "        text-align: right;\n",
       "    }\n",
       "</style>\n",
       "<table border=\"1\" class=\"dataframe\">\n",
       "  <thead>\n",
       "    <tr style=\"text-align: right;\">\n",
       "      <th></th>\n",
       "      <th>CUGN</th>\n",
       "      <th>CUGT</th>\n",
       "      <th>MUN</th>\n",
       "      <th>UF</th>\n",
       "      <th>FF</th>\n",
       "      <th>FFSITGEO</th>\n",
       "      <th>CONF2000</th>\n",
       "      <th>CONF2001</th>\n",
       "      <th>CONF2002</th>\n",
       "      <th>CONF2003</th>\n",
       "      <th>CONF2004</th>\n",
       "      <th>CONF2005</th>\n",
       "      <th>CONF2006</th>\n",
       "      <th>CONF2007</th>\n",
       "      <th>CONF2008</th>\n",
       "      <th>CONF2009</th>\n",
       "      <th>CONF2010</th>\n",
       "      <th>CONF2011</th>\n",
       "    </tr>\n",
       "  </thead>\n",
       "  <tbody>\n",
       "    <tr>\n",
       "      <th>0</th>\n",
       "      <td>1100015.0</td>\n",
       "      <td>1100015.0</td>\n",
       "      <td>Alta Floresta D'Oeste</td>\n",
       "      <td>RO</td>\n",
       "      <td>1.0</td>\n",
       "      <td>2.0</td>\n",
       "      <td>1</td>\n",
       "      <td>0</td>\n",
       "      <td>0</td>\n",
       "      <td>1</td>\n",
       "      <td>0</td>\n",
       "      <td>2</td>\n",
       "      <td>0</td>\n",
       "      <td>2</td>\n",
       "      <td>0.0</td>\n",
       "      <td>2.0</td>\n",
       "      <td>1.0</td>\n",
       "      <td>1.0</td>\n",
       "    </tr>\n",
       "    <tr>\n",
       "      <th>1</th>\n",
       "      <td>1100023.0</td>\n",
       "      <td>1100023.0</td>\n",
       "      <td>Ariquemes</td>\n",
       "      <td>RO</td>\n",
       "      <td>0.0</td>\n",
       "      <td>0.0</td>\n",
       "      <td>0</td>\n",
       "      <td>3</td>\n",
       "      <td>2</td>\n",
       "      <td>2</td>\n",
       "      <td>1</td>\n",
       "      <td>2</td>\n",
       "      <td>3</td>\n",
       "      <td>2</td>\n",
       "      <td>0.0</td>\n",
       "      <td>2.0</td>\n",
       "      <td>2.0</td>\n",
       "      <td>3.0</td>\n",
       "    </tr>\n",
       "    <tr>\n",
       "      <th>2</th>\n",
       "      <td>1100031.0</td>\n",
       "      <td>1100031.0</td>\n",
       "      <td>Cabixi</td>\n",
       "      <td>RO</td>\n",
       "      <td>1.0</td>\n",
       "      <td>2.0</td>\n",
       "      <td>0</td>\n",
       "      <td>0</td>\n",
       "      <td>0</td>\n",
       "      <td>0</td>\n",
       "      <td>1</td>\n",
       "      <td>0</td>\n",
       "      <td>0</td>\n",
       "      <td>0</td>\n",
       "      <td>0.0</td>\n",
       "      <td>0.0</td>\n",
       "      <td>0.0</td>\n",
       "      <td>0.0</td>\n",
       "    </tr>\n",
       "    <tr>\n",
       "      <th>3</th>\n",
       "      <td>1100049.0</td>\n",
       "      <td>1100049.0</td>\n",
       "      <td>Cacoal</td>\n",
       "      <td>RO</td>\n",
       "      <td>0.0</td>\n",
       "      <td>0.0</td>\n",
       "      <td>0</td>\n",
       "      <td>0</td>\n",
       "      <td>0</td>\n",
       "      <td>0</td>\n",
       "      <td>1</td>\n",
       "      <td>0</td>\n",
       "      <td>0</td>\n",
       "      <td>0</td>\n",
       "      <td>0.0</td>\n",
       "      <td>0.0</td>\n",
       "      <td>0.0</td>\n",
       "      <td>2.0</td>\n",
       "    </tr>\n",
       "    <tr>\n",
       "      <th>4</th>\n",
       "      <td>1100056.0</td>\n",
       "      <td>1100056.0</td>\n",
       "      <td>Cerejeiras</td>\n",
       "      <td>RO</td>\n",
       "      <td>1.0</td>\n",
       "      <td>3.0</td>\n",
       "      <td>0</td>\n",
       "      <td>0</td>\n",
       "      <td>0</td>\n",
       "      <td>0</td>\n",
       "      <td>0</td>\n",
       "      <td>0</td>\n",
       "      <td>0</td>\n",
       "      <td>0</td>\n",
       "      <td>0.0</td>\n",
       "      <td>0.0</td>\n",
       "      <td>0.0</td>\n",
       "      <td>0.0</td>\n",
       "    </tr>\n",
       "  </tbody>\n",
       "</table>\n",
       "</div>"
      ],
      "text/plain": [
       "        CUGN       CUGT                    MUN  UF   FF  FFSITGEO  CONF2000  \\\n",
       "0  1100015.0  1100015.0  Alta Floresta D'Oeste  RO  1.0       2.0         1   \n",
       "1  1100023.0  1100023.0              Ariquemes  RO  0.0       0.0         0   \n",
       "2  1100031.0  1100031.0                 Cabixi  RO  1.0       2.0         0   \n",
       "3  1100049.0  1100049.0                 Cacoal  RO  0.0       0.0         0   \n",
       "4  1100056.0  1100056.0             Cerejeiras  RO  1.0       3.0         0   \n",
       "\n",
       "   CONF2001  CONF2002  CONF2003  CONF2004  CONF2005  CONF2006  CONF2007  \\\n",
       "0         0         0         1         0         2         0         2   \n",
       "1         3         2         2         1         2         3         2   \n",
       "2         0         0         0         1         0         0         0   \n",
       "3         0         0         0         1         0         0         0   \n",
       "4         0         0         0         0         0         0         0   \n",
       "\n",
       "   CONF2008  CONF2009  CONF2010  CONF2011  \n",
       "0       0.0       2.0       1.0       1.0  \n",
       "1       0.0       2.0       2.0       3.0  \n",
       "2       0.0       0.0       0.0       0.0  \n",
       "3       0.0       0.0       0.0       2.0  \n",
       "4       0.0       0.0       0.0       0.0  "
      ]
     },
     "metadata": {},
     "output_type": "display_data"
    },
    {
     "name": "stdout",
     "output_type": "stream",
     "text": [
      "(1717, 18)\n"
     ]
    }
   ],
   "source": [
    "# cpt.to_csv('Resultados/cpt-ter-anual.csv', index=False)\n",
    "cpt.to_excel('Resultados/cpt-ter-anual.xlsx', index=False)\n",
    "\n",
    "display(cpt.head(5))\n",
    "print(cpt.shape)"
   ]
  }
 ],
 "metadata": {
  "kernelspec": {
   "display_name": "Python 3 (ipykernel)",
   "language": "python",
   "name": "python3"
  },
  "language_info": {
   "codemirror_mode": {
    "name": "ipython",
    "version": 3
   },
   "file_extension": ".py",
   "mimetype": "text/x-python",
   "name": "python",
   "nbconvert_exporter": "python",
   "pygments_lexer": "ipython3",
   "version": "3.11.3"
  }
 },
 "nbformat": 4,
 "nbformat_minor": 5
}
