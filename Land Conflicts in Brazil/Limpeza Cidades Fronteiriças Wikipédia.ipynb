{
 "cells": [
  {
   "cell_type": "markdown",
   "id": "c0d8b35d-8fc4-4193-8df4-9012458204b0",
   "metadata": {},
   "source": [
    "# Tabela de municípios fronteiriços do brasil da Wikipédia"
   ]
  },
  {
   "cell_type": "markdown",
   "id": "f06d3de2-6ba6-4502-9c97-822780f0a7bf",
   "metadata": {},
   "source": [
    "#### Importar módulos"
   ]
  },
  {
   "cell_type": "code",
   "execution_count": 8,
   "id": "e483cbf0-6e43-4a73-9e62-2fc8fe7a1062",
   "metadata": {
    "tags": []
   },
   "outputs": [],
   "source": [
    "import pandas as pd"
   ]
  },
  {
   "cell_type": "markdown",
   "id": "a79a90c2-359a-48ef-92ff-127952fa6539",
   "metadata": {},
   "source": [
    "#### Carregar tabela a partir de documento HTML da wikipédia como dataframe pandas"
   ]
  },
  {
   "cell_type": "code",
   "execution_count": 9,
   "id": "3e622d96-b25f-4276-a8d8-c47aa2e04533",
   "metadata": {
    "tags": []
   },
   "outputs": [],
   "source": [
    "dfs = pd.read_html('https://pt.wikipedia.org/wiki/Lista_de_munic%C3%ADpios_fronteiri%C3%A7os_do_Brasil')\n",
    "\n",
    "# Selecionar segunda tabela do documento HTML com cidades fronteiriças\n",
    "df = dfs[2]"
   ]
  },
  {
   "cell_type": "markdown",
   "id": "394ed628-6819-46f0-a9a1-56542150e2e0",
   "metadata": {},
   "source": [
    "#### Formatar nomes de município"
   ]
  },
  {
   "cell_type": "code",
   "execution_count": 10,
   "id": "60f611e2-3d59-485a-bfd6-4b3c68a38a5e",
   "metadata": {
    "tags": []
   },
   "outputs": [],
   "source": [
    "city_name_format = lambda name: name.split(' – ' if ' – ' in name else ' - ')[1]\n",
    "\n",
    "df['Município'] = df['Município'].map(city_name_format)"
   ]
  },
  {
   "cell_type": "markdown",
   "id": "15998f7f-7e64-40e7-ab8d-fb2644cd55d1",
   "metadata": {},
   "source": [
    "#### Formatar manualmente nome de município com desvio ortográfico"
   ]
  },
  {
   "cell_type": "code",
   "execution_count": 11,
   "id": "65400692-82f5-4092-9f1d-4925f94c5c24",
   "metadata": {
    "tags": []
   },
   "outputs": [],
   "source": [
    "df.loc[df['Estado'] == 'Santa Cataria', 'Estado'] = 'Santa Catarina'"
   ]
  },
  {
   "cell_type": "markdown",
   "id": "4c455af9-c2a8-4728-9c95-8dc9054029b7",
   "metadata": {},
   "source": [
    "#### Criar coluna para abreviação oficial (UF) de nomes de estados"
   ]
  },
  {
   "cell_type": "code",
   "execution_count": 12,
   "id": "01667e63-0212-46ea-a0fb-18b96e6e2d7a",
   "metadata": {
    "tags": []
   },
   "outputs": [],
   "source": [
    "state_abbr_dict = {\n",
    "    'Acre': 'AC',\n",
    "    'Alagoas': 'AL',\n",
    "    'Amapá': 'AP',\n",
    "    'Amazonas': 'AM',\n",
    "    'Bahia': 'BA',\n",
    "    'Ceará': 'CE',\n",
    "    'Distrito Federal': 'DF',\n",
    "    'Espírito Santo': 'ES',\n",
    "    'Goiás': 'GO',\n",
    "    'Maranhão': 'MA',\n",
    "    'Mato Grosso': 'MT',\n",
    "    'Mato Grosso do Sul': 'MS',\n",
    "    'Minas Gerais': 'MG',\n",
    "    'Pará': 'PA',\n",
    "    'Paraíba': 'PB',\n",
    "    'Paraná': 'PR',\n",
    "    'Pernambuco': 'PE',\n",
    "    'Piauí': 'PI',\n",
    "    'Rio de Janeiro': 'RJ',\n",
    "    'Rio Grande do Norte': 'RN',\n",
    "    'Rio Grande do Sul': 'RS',\n",
    "    'Rondônia': 'RO',\n",
    "    'Roraima': 'RR',\n",
    "    'Santa Catarina': 'SC',\n",
    "    'São Paulo': 'SP',\n",
    "    'Sergipe': 'SE',\n",
    "    'Tocantins': 'TO'\n",
    "}\n",
    "\n",
    "\n",
    "# ---\n",
    "# Converter nomes de estados para abreviação oficial (UF) \n",
    "\n",
    "df['UF'] = df['Estado'].map(state_abbr_dict)"
   ]
  },
  {
   "cell_type": "markdown",
   "id": "af685ec4-a557-4207-b580-2e107cc08ef3",
   "metadata": {},
   "source": [
    "### Salvar tabela limpa"
   ]
  },
  {
   "cell_type": "code",
   "execution_count": 13,
   "id": "df3da8d0-ecb2-4610-a879-994d9f99c84a",
   "metadata": {
    "tags": []
   },
   "outputs": [
    {
     "data": {
      "text/html": [
       "<div>\n",
       "<style scoped>\n",
       "    .dataframe tbody tr th:only-of-type {\n",
       "        vertical-align: middle;\n",
       "    }\n",
       "\n",
       "    .dataframe tbody tr th {\n",
       "        vertical-align: top;\n",
       "    }\n",
       "\n",
       "    .dataframe thead th {\n",
       "        text-align: right;\n",
       "    }\n",
       "</style>\n",
       "<table border=\"1\" class=\"dataframe\">\n",
       "  <thead>\n",
       "    <tr style=\"text-align: right;\">\n",
       "      <th></th>\n",
       "      <th>Município</th>\n",
       "      <th>Estado</th>\n",
       "      <th>Área territorial</th>\n",
       "      <th>População (IBGE/2007)</th>\n",
       "      <th>Densidade demográfica (hab/km2)</th>\n",
       "      <th>PIB (IBGE/2005</th>\n",
       "      <th>PIB per capita (R$)</th>\n",
       "      <th>IDH/2000</th>\n",
       "      <th>UF</th>\n",
       "    </tr>\n",
       "  </thead>\n",
       "  <tbody>\n",
       "    <tr>\n",
       "      <th>0</th>\n",
       "      <td>Aceguá</td>\n",
       "      <td>Rio Grande do Sul</td>\n",
       "      <td>1550.0</td>\n",
       "      <td>4138.0</td>\n",
       "      <td>266</td>\n",
       "      <td>71.638.000</td>\n",
       "      <td>17.266</td>\n",
       "      <td>ni</td>\n",
       "      <td>RS</td>\n",
       "    </tr>\n",
       "    <tr>\n",
       "      <th>1</th>\n",
       "      <td>Acrelândia</td>\n",
       "      <td>Acre</td>\n",
       "      <td>1575.0</td>\n",
       "      <td>11520.0</td>\n",
       "      <td>731</td>\n",
       "      <td>114.350.000</td>\n",
       "      <td>9.986</td>\n",
       "      <td>0680</td>\n",
       "      <td>AC</td>\n",
       "    </tr>\n",
       "    <tr>\n",
       "      <th>2</th>\n",
       "      <td>Alecrim</td>\n",
       "      <td>Rio Grande do Sul</td>\n",
       "      <td>315.0</td>\n",
       "      <td>7357.0</td>\n",
       "      <td>2335</td>\n",
       "      <td>44.373.000</td>\n",
       "      <td>5.944</td>\n",
       "      <td>0743</td>\n",
       "      <td>RS</td>\n",
       "    </tr>\n",
       "    <tr>\n",
       "      <th>3</th>\n",
       "      <td>Almeirim</td>\n",
       "      <td>Pará</td>\n",
       "      <td>72960.0</td>\n",
       "      <td>30903.0</td>\n",
       "      <td>42</td>\n",
       "      <td>462.258.000</td>\n",
       "      <td>13.485</td>\n",
       "      <td>0745</td>\n",
       "      <td>PA</td>\n",
       "    </tr>\n",
       "    <tr>\n",
       "      <th>4</th>\n",
       "      <td>Alta Floresta d'Oeste</td>\n",
       "      <td>Rondônia</td>\n",
       "      <td>7067.0</td>\n",
       "      <td>23857.0</td>\n",
       "      <td>337</td>\n",
       "      <td>186.812.000</td>\n",
       "      <td>6.525</td>\n",
       "      <td>0715</td>\n",
       "      <td>RO</td>\n",
       "    </tr>\n",
       "  </tbody>\n",
       "</table>\n",
       "</div>"
      ],
      "text/plain": [
       "               Município             Estado  Área territorial  \\\n",
       "0                 Aceguá  Rio Grande do Sul            1550.0   \n",
       "1             Acrelândia               Acre            1575.0   \n",
       "2                Alecrim  Rio Grande do Sul             315.0   \n",
       "3               Almeirim               Pará           72960.0   \n",
       "4  Alta Floresta d'Oeste           Rondônia            7067.0   \n",
       "\n",
       "   População (IBGE/2007)  Densidade demográfica (hab/km2) PIB (IBGE/2005  \\\n",
       "0                 4138.0                              266     71.638.000   \n",
       "1                11520.0                              731    114.350.000   \n",
       "2                 7357.0                             2335     44.373.000   \n",
       "3                30903.0                               42    462.258.000   \n",
       "4                23857.0                              337    186.812.000   \n",
       "\n",
       "  PIB per capita (R$) IDH/2000  UF  \n",
       "0              17.266       ni  RS  \n",
       "1               9.986     0680  AC  \n",
       "2               5.944     0743  RS  \n",
       "3              13.485     0745  PA  \n",
       "4               6.525     0715  RO  "
      ]
     },
     "metadata": {},
     "output_type": "display_data"
    },
    {
     "name": "stdout",
     "output_type": "stream",
     "text": [
      "(122, 9)\n"
     ]
    }
   ],
   "source": [
    "df.to_excel('Resultados/fronteira-wiki.xlsx', index=False)\n",
    "\n",
    "display(df.head())\n",
    "print(df.shape)"
   ]
  }
 ],
 "metadata": {
  "kernelspec": {
   "display_name": "Python 3 (ipykernel)",
   "language": "python",
   "name": "python3"
  },
  "language_info": {
   "codemirror_mode": {
    "name": "ipython",
    "version": 3
   },
   "file_extension": ".py",
   "mimetype": "text/x-python",
   "name": "python",
   "nbconvert_exporter": "python",
   "pygments_lexer": "ipython3",
   "version": "3.11.3"
  }
 },
 "nbformat": 4,
 "nbformat_minor": 5
}
