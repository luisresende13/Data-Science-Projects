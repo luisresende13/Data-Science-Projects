{
 "cells": [
  {
   "cell_type": "markdown",
   "id": "8a3dc35b-d9c9-430b-b340-96c4b1d82b4e",
   "metadata": {},
   "source": [
    "# Conflicts Related to Environmental Injustice and Health in Brazil"
   ]
  },
  {
   "cell_type": "markdown",
   "id": "2b3beb07-3050-4a4a-ba41-6aa990483d69",
   "metadata": {},
   "source": [
    "#### Import python modules and packages"
   ]
  },
  {
   "cell_type": "code",
   "execution_count": 1,
   "id": "b629e026-266f-40db-a950-8bc10bdd6b64",
   "metadata": {
    "tags": []
   },
   "outputs": [],
   "source": [
    "import pandas as pd\n",
    "\n",
    "# Set the maximum column width to a specific value (e.g., 100)\n",
    "# pd.set_option('display.max_colwidth', 100)"
   ]
  },
  {
   "cell_type": "markdown",
   "id": "445376b2-0027-46f0-a0b3-1f1c6e0760f1",
   "metadata": {},
   "source": [
    "## Exploratory Data Analysis & Data Cleaning"
   ]
  },
  {
   "cell_type": "markdown",
   "id": "898f4a8c-b8bb-454d-b1c4-57873b129bc5",
   "metadata": {
    "tags": []
   },
   "source": [
    "#### Load table as pandas dataframe"
   ]
  },
  {
   "cell_type": "code",
   "execution_count": 2,
   "id": "eee5f5b3-1e92-4f3b-b89b-14573811e8dd",
   "metadata": {
    "tags": []
   },
   "outputs": [],
   "source": [
    "df = pd.read_csv('Dados/Mapa de Conflitos no Brasil.csv')"
   ]
  },
  {
   "cell_type": "markdown",
   "id": "0d54ba7a-a88c-4ce5-8e29-a8804cb001c6",
   "metadata": {},
   "source": [
    "#### Count missing values"
   ]
  },
  {
   "cell_type": "code",
   "execution_count": 3,
   "id": "79c3693f-0c43-4c6b-8f09-7311db0b4352",
   "metadata": {
    "tags": []
   },
   "outputs": [
    {
     "data": {
      "text/plain": [
       "Nome                                 0\n",
       "UF                                   3\n",
       "Município                            0\n",
       "Populações                           8\n",
       "Atividades Geradoras do Conflito    20\n",
       "Danos à Saúde                       30\n",
       "Impactos Socioambientais            32\n",
       "dtype: int64"
      ]
     },
     "execution_count": 3,
     "metadata": {},
     "output_type": "execute_result"
    }
   ],
   "source": [
    "df.isna().sum()"
   ]
  },
  {
   "cell_type": "markdown",
   "id": "bf73dd8c-7452-4790-bd81-9a6ed03bd14f",
   "metadata": {},
   "source": [
    "#### Replace NAN values to enable string comparison"
   ]
  },
  {
   "cell_type": "code",
   "execution_count": 4,
   "id": "2bcd994f-f54d-4687-bec8-e33f74373ba0",
   "metadata": {
    "tags": []
   },
   "outputs": [],
   "source": [
    "df.fillna('', inplace=True)"
   ]
  },
  {
   "cell_type": "markdown",
   "id": "9fe5ac7a-565f-4cf4-85af-ae3824b6efea",
   "metadata": {},
   "source": [
    "#### Display rows for fields with multiple values"
   ]
  },
  {
   "cell_type": "code",
   "execution_count": 5,
   "id": "dbd4e6de-7eaf-4b1c-b030-6569d8fd5d8c",
   "metadata": {},
   "outputs": [
    {
     "name": "stdout",
     "output_type": "stream",
     "text": [
      "\n",
      "Linhas com municípios múltiplos:\n"
     ]
    },
    {
     "data": {
      "text/html": [
       "<div>\n",
       "<style scoped>\n",
       "    .dataframe tbody tr th:only-of-type {\n",
       "        vertical-align: middle;\n",
       "    }\n",
       "\n",
       "    .dataframe tbody tr th {\n",
       "        vertical-align: top;\n",
       "    }\n",
       "\n",
       "    .dataframe thead th {\n",
       "        text-align: right;\n",
       "    }\n",
       "</style>\n",
       "<table border=\"1\" class=\"dataframe\">\n",
       "  <thead>\n",
       "    <tr style=\"text-align: right;\">\n",
       "      <th></th>\n",
       "      <th>UF</th>\n",
       "      <th>Município</th>\n",
       "    </tr>\n",
       "  </thead>\n",
       "  <tbody>\n",
       "    <tr>\n",
       "      <th>286</th>\n",
       "      <td>MT, PA</td>\n",
       "      <td>Peixoto de Azevedo (MT), Sinop (MT), Trairão (PA)</td>\n",
       "    </tr>\n",
       "    <tr>\n",
       "      <th>303</th>\n",
       "      <td>MA, PA, TO</td>\n",
       "      <td>Açailândia (MA), Canaã dos Carajás (PA), Eldor...</td>\n",
       "    </tr>\n",
       "    <tr>\n",
       "      <th>513</th>\n",
       "      <td>RS</td>\n",
       "      <td>Eldorado do Sul (RS), Glorinha (RS), Gravataí ...</td>\n",
       "    </tr>\n",
       "  </tbody>\n",
       "</table>\n",
       "</div>"
      ],
      "text/plain": [
       "             UF                                          Município\n",
       "286      MT, PA  Peixoto de Azevedo (MT), Sinop (MT), Trairão (PA)\n",
       "303  MA, PA, TO  Açailândia (MA), Canaã dos Carajás (PA), Eldor...\n",
       "513          RS  Eldorado do Sul (RS), Glorinha (RS), Gravataí ..."
      ]
     },
     "metadata": {},
     "output_type": "display_data"
    },
    {
     "name": "stdout",
     "output_type": "stream",
     "text": [
      "\n",
      "Linhas com estados (UFs) múltiplos:\n"
     ]
    },
    {
     "data": {
      "text/html": [
       "<div>\n",
       "<style scoped>\n",
       "    .dataframe tbody tr th:only-of-type {\n",
       "        vertical-align: middle;\n",
       "    }\n",
       "\n",
       "    .dataframe tbody tr th {\n",
       "        vertical-align: top;\n",
       "    }\n",
       "\n",
       "    .dataframe thead th {\n",
       "        text-align: right;\n",
       "    }\n",
       "</style>\n",
       "<table border=\"1\" class=\"dataframe\">\n",
       "  <thead>\n",
       "    <tr style=\"text-align: right;\">\n",
       "      <th></th>\n",
       "      <th>UF</th>\n",
       "      <th>Município</th>\n",
       "    </tr>\n",
       "  </thead>\n",
       "  <tbody>\n",
       "    <tr>\n",
       "      <th>50</th>\n",
       "      <td>AC, AM</td>\n",
       "      <td>Boca do Acre (AM)</td>\n",
       "    </tr>\n",
       "    <tr>\n",
       "      <th>51</th>\n",
       "      <td>AM, RO</td>\n",
       "      <td>Humaitá (AM)</td>\n",
       "    </tr>\n",
       "    <tr>\n",
       "      <th>64</th>\n",
       "      <td>ES, MG</td>\n",
       "      <td>Mariana (MG)</td>\n",
       "    </tr>\n",
       "    <tr>\n",
       "      <th>286</th>\n",
       "      <td>MT, PA</td>\n",
       "      <td>Peixoto de Azevedo (MT), Sinop (MT), Trairão (PA)</td>\n",
       "    </tr>\n",
       "    <tr>\n",
       "      <th>303</th>\n",
       "      <td>MA, PA, TO</td>\n",
       "      <td>Açailândia (MA), Canaã dos Carajás (PA), Eldor...</td>\n",
       "    </tr>\n",
       "    <tr>\n",
       "      <th>549</th>\n",
       "      <td>AM, SP</td>\n",
       "      <td>São Paulo (SP)</td>\n",
       "    </tr>\n",
       "  </tbody>\n",
       "</table>\n",
       "</div>"
      ],
      "text/plain": [
       "             UF                                          Município\n",
       "50       AC, AM                                  Boca do Acre (AM)\n",
       "51       AM, RO                                       Humaitá (AM)\n",
       "64       ES, MG                                       Mariana (MG)\n",
       "286      MT, PA  Peixoto de Azevedo (MT), Sinop (MT), Trairão (PA)\n",
       "303  MA, PA, TO  Açailândia (MA), Canaã dos Carajás (PA), Eldor...\n",
       "549      AM, SP                                     São Paulo (SP)"
      ]
     },
     "metadata": {},
     "output_type": "display_data"
    }
   ],
   "source": [
    "print('\\nLinhas com municípios múltiplos:')\n",
    "display(df[df['Município'].str.contains(',')][['UF', 'Município']])\n",
    "print('\\nLinhas com estados (UFs) múltiplos:')\n",
    "display(df[df['UF'].str.contains(',')][['UF', 'Município']])"
   ]
  },
  {
   "cell_type": "markdown",
   "id": "75116bf4-4bc5-4cdc-81ec-8330380e8f18",
   "metadata": {},
   "source": [
    "#### Duplicate rows with multiple city names (Use corresponding city states)"
   ]
  },
  {
   "cell_type": "code",
   "execution_count": 6,
   "id": "ff37703c-6be6-482d-a976-e36127c63474",
   "metadata": {
    "tags": []
   },
   "outputs": [],
   "source": [
    "rows = []\n",
    "for idx in df.index:\n",
    "    row = df.loc[idx].copy()\n",
    "    cities = row['Município'].split(', ')\n",
    "    for city in cities:\n",
    "        words = city.split(' ')\n",
    "        city_state = words[-1][1:3] # slice the enclosing parenthesis out\n",
    "        city_name = ' '.join(words[:-1])\n",
    "        row['Município'] = city_name\n",
    "        row['UF'] = city_state\n",
    "        rows.append(dict(row))\n",
    "\n",
    "conflicts = pd.DataFrame(rows)"
   ]
  },
  {
   "cell_type": "markdown",
   "id": "ac38e460-d27d-4a08-8a2b-ad18c685dda1",
   "metadata": {},
   "source": [
    "#### Report if there is any row left with multiple values for `city` or `UF` fields"
   ]
  },
  {
   "cell_type": "code",
   "execution_count": 7,
   "id": "947ff240-66bb-4912-901c-1708d33e90cd",
   "metadata": {},
   "outputs": [
    {
     "name": "stdout",
     "output_type": "stream",
     "text": [
      "\n",
      "Linhas com municípios múltiplos:\n"
     ]
    },
    {
     "data": {
      "text/html": [
       "<div>\n",
       "<style scoped>\n",
       "    .dataframe tbody tr th:only-of-type {\n",
       "        vertical-align: middle;\n",
       "    }\n",
       "\n",
       "    .dataframe tbody tr th {\n",
       "        vertical-align: top;\n",
       "    }\n",
       "\n",
       "    .dataframe thead th {\n",
       "        text-align: right;\n",
       "    }\n",
       "</style>\n",
       "<table border=\"1\" class=\"dataframe\">\n",
       "  <thead>\n",
       "    <tr style=\"text-align: right;\">\n",
       "      <th></th>\n",
       "      <th>UF</th>\n",
       "      <th>Município</th>\n",
       "    </tr>\n",
       "  </thead>\n",
       "  <tbody>\n",
       "  </tbody>\n",
       "</table>\n",
       "</div>"
      ],
      "text/plain": [
       "Empty DataFrame\n",
       "Columns: [UF, Município]\n",
       "Index: []"
      ]
     },
     "metadata": {},
     "output_type": "display_data"
    },
    {
     "name": "stdout",
     "output_type": "stream",
     "text": [
      "\n",
      "Linhas com estados (UFs) múltiplos:\n"
     ]
    },
    {
     "data": {
      "text/html": [
       "<div>\n",
       "<style scoped>\n",
       "    .dataframe tbody tr th:only-of-type {\n",
       "        vertical-align: middle;\n",
       "    }\n",
       "\n",
       "    .dataframe tbody tr th {\n",
       "        vertical-align: top;\n",
       "    }\n",
       "\n",
       "    .dataframe thead th {\n",
       "        text-align: right;\n",
       "    }\n",
       "</style>\n",
       "<table border=\"1\" class=\"dataframe\">\n",
       "  <thead>\n",
       "    <tr style=\"text-align: right;\">\n",
       "      <th></th>\n",
       "      <th>UF</th>\n",
       "      <th>Município</th>\n",
       "    </tr>\n",
       "  </thead>\n",
       "  <tbody>\n",
       "  </tbody>\n",
       "</table>\n",
       "</div>"
      ],
      "text/plain": [
       "Empty DataFrame\n",
       "Columns: [UF, Município]\n",
       "Index: []"
      ]
     },
     "metadata": {},
     "output_type": "display_data"
    }
   ],
   "source": [
    "print('\\nLinhas com municípios múltiplos:')\n",
    "display(conflicts[conflicts['Município'].str.contains(',')][['UF', 'Município']])\n",
    "print('\\nLinhas com estados (UFs) múltiplos:')\n",
    "display(conflicts[conflicts['UF'].str.contains(',')][['UF', 'Município']])"
   ]
  },
  {
   "cell_type": "markdown",
   "id": "e2cd7bba-6253-493d-a2c8-2fc1a9944add",
   "metadata": {},
   "source": [
    "## Save clean dataframe"
   ]
  },
  {
   "cell_type": "code",
   "execution_count": 8,
   "id": "1e63789e-f62e-416d-abb0-2ffb22b1aff5",
   "metadata": {
    "tags": []
   },
   "outputs": [
    {
     "data": {
      "text/html": [
       "<div>\n",
       "<style scoped>\n",
       "    .dataframe tbody tr th:only-of-type {\n",
       "        vertical-align: middle;\n",
       "    }\n",
       "\n",
       "    .dataframe tbody tr th {\n",
       "        vertical-align: top;\n",
       "    }\n",
       "\n",
       "    .dataframe thead th {\n",
       "        text-align: right;\n",
       "    }\n",
       "</style>\n",
       "<table border=\"1\" class=\"dataframe\">\n",
       "  <thead>\n",
       "    <tr style=\"text-align: right;\">\n",
       "      <th></th>\n",
       "      <th>Nome</th>\n",
       "      <th>UF</th>\n",
       "      <th>Município</th>\n",
       "      <th>Populações</th>\n",
       "      <th>Atividades Geradoras do Conflito</th>\n",
       "      <th>Danos à Saúde</th>\n",
       "      <th>Impactos Socioambientais</th>\n",
       "    </tr>\n",
       "  </thead>\n",
       "  <tbody>\n",
       "    <tr>\n",
       "      <th>0</th>\n",
       "      <td>AC - 21 anos depois da morte de Chico Mendes, ...</td>\n",
       "      <td>AC</td>\n",
       "      <td>Xapuri</td>\n",
       "      <td>Agricultores familiares, Seringueiros</td>\n",
       "      <td>Atuação de entidades governamentais, Madeireiras</td>\n",
       "      <td>Desnutrição, Insegurança alimentar, Piora na q...</td>\n",
       "      <td>Alteração no regime tradicional de uso e ocupa...</td>\n",
       "    </tr>\n",
       "    <tr>\n",
       "      <th>1</th>\n",
       "      <td>AC - Agricultores familiares são transformados...</td>\n",
       "      <td>AC</td>\n",
       "      <td>Sena Madureira</td>\n",
       "      <td>Agricultores familiares</td>\n",
       "      <td>Madeireiras, Monoculturas, Pecuária</td>\n",
       "      <td>Violência - ameaça, Violência - lesão corporal</td>\n",
       "      <td>Alteração no regime tradicional de uso e ocupa...</td>\n",
       "    </tr>\n",
       "    <tr>\n",
       "      <th>2</th>\n",
       "      <td>AC - Atividades petroleiras destroem a Amazôni...</td>\n",
       "      <td>AC</td>\n",
       "      <td>Cruzeiro do Sul</td>\n",
       "      <td>Agricultores familiares, Extrativistas, Povos ...</td>\n",
       "      <td>Indústria química e petroquímica</td>\n",
       "      <td>Acidentes, Doenças transmissíveis, Violência -...</td>\n",
       "      <td>Alteração no regime tradicional de uso e ocupa...</td>\n",
       "    </tr>\n",
       "    <tr>\n",
       "      <th>3</th>\n",
       "      <td>AC - Em Feijó e municípios vizinhos indígenas ...</td>\n",
       "      <td>AC</td>\n",
       "      <td>Feijó</td>\n",
       "      <td>Povos indígenas</td>\n",
       "      <td>Atuação de entidades governamentais</td>\n",
       "      <td>Desnutrição, Doenças não transmissíveis ou crô...</td>\n",
       "      <td></td>\n",
       "    </tr>\n",
       "    <tr>\n",
       "      <th>4</th>\n",
       "      <td>AC - Mais de duzentas famílias de agricultores...</td>\n",
       "      <td>AC</td>\n",
       "      <td>Capixaba</td>\n",
       "      <td>Agricultores familiares, Seringueiros</td>\n",
       "      <td>Atuação de entidades governamentais, Pecuária</td>\n",
       "      <td>Falta de atendimento médico, Piora na qualidad...</td>\n",
       "      <td>Alteração no regime tradicional de uso e ocupa...</td>\n",
       "    </tr>\n",
       "  </tbody>\n",
       "</table>\n",
       "</div>"
      ],
      "text/plain": [
       "                                                Nome  UF        Município  \\\n",
       "0  AC - 21 anos depois da morte de Chico Mendes, ...  AC           Xapuri   \n",
       "1  AC - Agricultores familiares são transformados...  AC   Sena Madureira   \n",
       "2  AC - Atividades petroleiras destroem a Amazôni...  AC  Cruzeiro do Sul   \n",
       "3  AC - Em Feijó e municípios vizinhos indígenas ...  AC            Feijó   \n",
       "4  AC - Mais de duzentas famílias de agricultores...  AC         Capixaba   \n",
       "\n",
       "                                          Populações  \\\n",
       "0              Agricultores familiares, Seringueiros   \n",
       "1                            Agricultores familiares   \n",
       "2  Agricultores familiares, Extrativistas, Povos ...   \n",
       "3                                    Povos indígenas   \n",
       "4              Agricultores familiares, Seringueiros   \n",
       "\n",
       "                   Atividades Geradoras do Conflito  \\\n",
       "0  Atuação de entidades governamentais, Madeireiras   \n",
       "1               Madeireiras, Monoculturas, Pecuária   \n",
       "2                  Indústria química e petroquímica   \n",
       "3               Atuação de entidades governamentais   \n",
       "4     Atuação de entidades governamentais, Pecuária   \n",
       "\n",
       "                                       Danos à Saúde  \\\n",
       "0  Desnutrição, Insegurança alimentar, Piora na q...   \n",
       "1     Violência - ameaça, Violência - lesão corporal   \n",
       "2  Acidentes, Doenças transmissíveis, Violência -...   \n",
       "3  Desnutrição, Doenças não transmissíveis ou crô...   \n",
       "4  Falta de atendimento médico, Piora na qualidad...   \n",
       "\n",
       "                            Impactos Socioambientais  \n",
       "0  Alteração no regime tradicional de uso e ocupa...  \n",
       "1  Alteração no regime tradicional de uso e ocupa...  \n",
       "2  Alteração no regime tradicional de uso e ocupa...  \n",
       "3                                                     \n",
       "4  Alteração no regime tradicional de uso e ocupa...  "
      ]
     },
     "execution_count": 8,
     "metadata": {},
     "output_type": "execute_result"
    }
   ],
   "source": [
    "conflicts.to_excel('Resultados/conflitos-injustiça-ambiental-e-saúde.xlsx', index=False)\n",
    "\n",
    "conflicts.head()"
   ]
  }
 ],
 "metadata": {
  "kernelspec": {
   "display_name": "Python 3 (ipykernel)",
   "language": "python",
   "name": "python3"
  },
  "language_info": {
   "codemirror_mode": {
    "name": "ipython",
    "version": 3
   },
   "file_extension": ".py",
   "mimetype": "text/x-python",
   "name": "python",
   "nbconvert_exporter": "python",
   "pygments_lexer": "ipython3",
   "version": "3.11.3"
  }
 },
 "nbformat": 4,
 "nbformat_minor": 5
}
