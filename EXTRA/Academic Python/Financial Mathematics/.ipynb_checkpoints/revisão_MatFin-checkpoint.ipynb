{
 "cells": [
  {
   "cell_type": "code",
   "execution_count": 39,
   "metadata": {},
   "outputs": [],
   "source": [
    "import tkinter as tk"
   ]
  },
  {
   "cell_type": "code",
   "execution_count": 1,
   "metadata": {},
   "outputs": [],
   "source": [
    "import numpy as np\n",
    "import matplotlib.pyplot as plt"
   ]
  },
  {
   "cell_type": "code",
   "execution_count": 35,
   "metadata": {},
   "outputs": [],
   "source": [
    "import pandas as pd"
   ]
  },
  {
   "cell_type": "markdown",
   "metadata": {},
   "source": [
    "# 1."
   ]
  },
  {
   "cell_type": "code",
   "execution_count": 2,
   "metadata": {},
   "outputs": [],
   "source": [
    "def juros(P=None, i=None, n=None, F=None):\n",
    "    \n",
    "    if F==None: F = P * (1 + i)**n; return F\n",
    "    if P==None: P = F / (1 + i)**n; return P\n",
    "    if i==None: i =  (F / P)**(1 / n) - 1; return i"
   ]
  },
  {
   "cell_type": "code",
   "execution_count": 3,
   "metadata": {},
   "outputs": [],
   "source": [
    "import numpy as np"
   ]
  },
  {
   "cell_type": "code",
   "execution_count": 4,
   "metadata": {},
   "outputs": [
    {
     "data": {
      "text/plain": [
       "array([0.12384361, 0.12523024, 0.23114441])"
      ]
     },
     "execution_count": 4,
     "metadata": {},
     "output_type": "execute_result"
    }
   ],
   "source": [
    "i1=0.03 # a semana\n",
    "i2=0.046 # ao mes\n",
    "i3 = 0.3\n",
    "\n",
    "P=1000\n",
    "\n",
    "n1 = 48\n",
    "n2 = 12\n",
    "n3=1\n",
    "\n",
    "F1 = juros(P, n1, i1)\n",
    "F2 = juros(P, n2, i2)\n",
    "F3 = juros(P, n3, i3)\n",
    "\n",
    "Ji = np.array([F1-P, F2-P, F3-P]); Ji/P"
   ]
  },
  {
   "cell_type": "code",
   "execution_count": 5,
   "metadata": {},
   "outputs": [
    {
     "data": {
      "text/plain": [
       "(1123.8436146785018, 1125.2302376917203)"
      ]
     },
     "execution_count": 5,
     "metadata": {},
     "output_type": "execute_result"
    }
   ],
   "source": [
    "F1, F2"
   ]
  },
  {
   "cell_type": "markdown",
   "metadata": {},
   "source": [
    "# 2."
   ]
  },
  {
   "cell_type": "code",
   "execution_count": 6,
   "metadata": {},
   "outputs": [],
   "source": [
    "n = 12         # Prestações\n",
    "P = 63         # R$\n",
    "val_cap = 7    # Valor das capitalizações\n",
    "\n"
   ]
  },
  {
   "cell_type": "code",
   "execution_count": 7,
   "metadata": {},
   "outputs": [
    {
     "name": "stdout",
     "output_type": "stream",
     "text": [
      "F = 84\n",
      "i = 0.3333333333333333\n"
     ]
    },
    {
     "data": {
      "text/plain": [
       "0.027777777777777776"
      ]
     },
     "execution_count": 7,
     "metadata": {},
     "output_type": "execute_result"
    }
   ],
   "source": [
    "F = n * val_cap; print('F =', F)\n",
    "i = (F - P) / P; print('i =', i)\n",
    "i_b = juros(F=F, P=P, n=n);\n",
    "\n",
    "(F-P)/n  / P"
   ]
  },
  {
   "cell_type": "code",
   "execution_count": 36,
   "metadata": {},
   "outputs": [
    {
     "data": {
      "text/plain": [
       "0.02426318074098921"
      ]
     },
     "execution_count": 36,
     "metadata": {},
     "output_type": "execute_result"
    }
   ],
   "source": [
    "i_b"
   ]
  },
  {
   "cell_type": "markdown",
   "metadata": {},
   "source": [
    "# 3. "
   ]
  },
  {
   "cell_type": "code",
   "execution_count": 8,
   "metadata": {},
   "outputs": [],
   "source": [
    "n = 4\n",
    "F_a = 12000\n",
    "F_b = 14038.31\n",
    "\n",
    "P_b = F_a; \n",
    "i_b = (F_b / P_b)**(1 / n) - 1;\n",
    "i_a = i_b; \n",
    "P_a = F_a / (1 + i_a)**n"
   ]
  },
  {
   "cell_type": "code",
   "execution_count": 9,
   "metadata": {},
   "outputs": [
    {
     "data": {
      "text/plain": [
       "(0.04000013483108811, 0.04000013483108811, 10257.644972934779)"
      ]
     },
     "execution_count": 9,
     "metadata": {},
     "output_type": "execute_result"
    }
   ],
   "source": [
    "i_b, i_a, P_a"
   ]
  },
  {
   "cell_type": "code",
   "execution_count": 19,
   "metadata": {},
   "outputs": [
    {
     "data": {
      "text/plain": [
       "10257.644972934779"
      ]
     },
     "execution_count": 19,
     "metadata": {},
     "output_type": "execute_result"
    }
   ],
   "source": [
    "P_a"
   ]
  },
  {
   "cell_type": "markdown",
   "metadata": {},
   "source": [
    "# 4."
   ]
  },
  {
   "cell_type": "code",
   "execution_count": 14,
   "metadata": {},
   "outputs": [],
   "source": [
    "P = 183300\n",
    "val_cap=34000\n",
    "n = 7\n",
    "#tx_retorno = 9%"
   ]
  },
  {
   "cell_type": "code",
   "execution_count": 15,
   "metadata": {},
   "outputs": [],
   "source": [
    "F = n * val_cap  # valor das capitalizações\n",
    "J = F - P;\n",
    "i = J / P / n"
   ]
  },
  {
   "cell_type": "code",
   "execution_count": 16,
   "metadata": {},
   "outputs": [
    {
     "data": {
      "text/plain": [
       "(238000, 54700, 0.04263112773751072)"
      ]
     },
     "execution_count": 16,
     "metadata": {},
     "output_type": "execute_result"
    }
   ],
   "source": [
    "F, J, i"
   ]
  },
  {
   "cell_type": "markdown",
   "metadata": {},
   "source": [
    "# 5."
   ]
  },
  {
   "cell_type": "code",
   "execution_count": 45,
   "metadata": {
    "jupyter": {
     "source_hidden": true
    }
   },
   "outputs": [],
   "source": [
    "tb1='''n\n",
    "\n",
    "Saldo Devedor\n",
    "Inicial\n",
    "\n",
    "(a)\n",
    "\n",
    "Juros\n",
    "\n",
    "(b)\n",
    "\n",
    "Amortização\n",
    "\n",
    "(c)\n",
    "\n",
    "Pagamentos\n",
    "\n",
    "(d) = (b) + (c)\n",
    "\n",
    "Saldo Devedor\n",
    "Final\n",
    "\n",
    "(e) = (a) – (c)\n",
    "\n",
    "1\n",
    "\n",
    "8.000\n",
    "\n",
    "800\n",
    "\n",
    "- 800\n",
    "\n",
    "0\n",
    "\n",
    "8.800\n",
    "\n",
    "2\n",
    "\n",
    "8.800\n",
    "\n",
    "880\n",
    "\n",
    "- 880\n",
    "\n",
    "0\n",
    "\n",
    "9.680\n",
    "\n",
    "3\n",
    "\n",
    "9.680\n",
    "\n",
    "968\n",
    "\n",
    "- 968\n",
    "\n",
    "0\n",
    "\n",
    "10.648\n",
    "\n",
    "4\n",
    "\n",
    "10.648\n",
    "\n",
    "1.064,80\n",
    "\n",
    "- 1.064,80\n",
    "\n",
    "0\n",
    "\n",
    "11.712,80\n",
    "\n",
    "5\n",
    "\n",
    "11.712,80\n",
    "\n",
    "1.171,28\n",
    "\n",
    "11.712,80\n",
    "\n",
    "12.884,08\n",
    "\n",
    "0'''"
   ]
  },
  {
   "cell_type": "code",
   "execution_count": 57,
   "metadata": {
    "jupyter": {
     "source_hidden": true
    }
   },
   "outputs": [],
   "source": [
    "tb2='''n\n",
    "\n",
    "Saldo Devedor\n",
    "Inicial\n",
    "\n",
    "(a)\n",
    "\n",
    "Juros\n",
    "\n",
    "(b)\n",
    "\n",
    "Amortização\n",
    "\n",
    "(c)\n",
    "\n",
    "Pagamentos\n",
    "\n",
    "(d) = (b) + (c)\n",
    "\n",
    "Saldo Devedor\n",
    "Final\n",
    "\n",
    "(e) = (a) – (c)\n",
    "\n",
    "1\n",
    "\n",
    "8.000\n",
    "\n",
    "800\n",
    "\n",
    "0\n",
    "\n",
    "800\n",
    "\n",
    "8.000\n",
    "\n",
    "2\n",
    "\n",
    "8.000\n",
    "\n",
    "800\n",
    "\n",
    "0\n",
    "\n",
    "800\n",
    "\n",
    "8.000\n",
    "\n",
    "3\n",
    "\n",
    "8.000\n",
    "\n",
    "800\n",
    "\n",
    "0\n",
    "\n",
    "800\n",
    "\n",
    "8.000\n",
    "\n",
    "4\n",
    "\n",
    "8.000\n",
    "\n",
    "800\n",
    "\n",
    "0\n",
    "\n",
    "800\n",
    "\n",
    "8.000\n",
    "\n",
    "5\n",
    "\n",
    "8.000\n",
    "\n",
    "800\n",
    "\n",
    "8.000\n",
    "\n",
    "8.800\n",
    "\n",
    "0'''"
   ]
  },
  {
   "cell_type": "code",
   "execution_count": 47,
   "metadata": {
    "jupyter": {
     "source_hidden": true
    }
   },
   "outputs": [],
   "source": [
    "tb3='''n\n",
    "\n",
    "Saldo Devedor\n",
    "Inicial\n",
    "\n",
    "(a)\n",
    "\n",
    "Juros\n",
    "\n",
    "(b)\n",
    "\n",
    "Amortização\n",
    "\n",
    "(c)\n",
    "\n",
    "Pagamentos\n",
    "\n",
    "(d) = (b) + (c)\n",
    "\n",
    "Saldo Devedor\n",
    "Final\n",
    "\n",
    "(e) = (a) – (c)\n",
    "\n",
    "1\n",
    "\n",
    "8.000\n",
    "\n",
    "800\n",
    "\n",
    "1.600\n",
    "\n",
    "2.400\n",
    "\n",
    "6.400\n",
    "\n",
    "2\n",
    "\n",
    "6.400\n",
    "\n",
    "640\n",
    "\n",
    "1.600\n",
    "\n",
    "2.240\n",
    "\n",
    "4.800\n",
    "\n",
    "3\n",
    "\n",
    "4.800\n",
    "\n",
    "480\n",
    "\n",
    "1.600\n",
    "\n",
    "2.080\n",
    "\n",
    "3.200\n",
    "\n",
    "4\n",
    "\n",
    "3.200\n",
    "\n",
    "320\n",
    "\n",
    "1.600\n",
    "\n",
    "1.920\n",
    "\n",
    "1.600\n",
    "\n",
    "5\n",
    "\n",
    "1.600\n",
    "\n",
    "160\n",
    "\n",
    "1.600\n",
    "\n",
    "1.760\n",
    "\n",
    "0'''"
   ]
  },
  {
   "cell_type": "code",
   "execution_count": 48,
   "metadata": {
    "jupyter": {
     "source_hidden": true
    }
   },
   "outputs": [],
   "source": [
    "tb4='''n\n",
    "\n",
    "Saldo Devedor\n",
    "Inicial\n",
    "\n",
    "(a)\n",
    "\n",
    "Juros\n",
    "\n",
    "(b)\n",
    "\n",
    "Amortização\n",
    "\n",
    "(c)\n",
    "\n",
    "Pagamentos\n",
    "\n",
    "(d) = (b) + (c)\n",
    "\n",
    "Saldo Devedor\n",
    "Final\n",
    "\n",
    "(e) = (a) – (c)\n",
    "\n",
    "1\n",
    "\n",
    "8.000\n",
    "\n",
    "800\n",
    "\n",
    "1.310,38\n",
    "\n",
    "2.110,38\n",
    "\n",
    "6.689,62\n",
    "\n",
    "2\n",
    "\n",
    "6.689,62\n",
    "\n",
    "668,96\n",
    "\n",
    "1.441,42\n",
    "\n",
    "2.110,38\n",
    "\n",
    "5.248,20\n",
    "\n",
    "3\n",
    "\n",
    "5.248,20\n",
    "\n",
    "524,82\n",
    "\n",
    "1.585,56\n",
    "\n",
    "2.110,38\n",
    "\n",
    "3.662,64\n",
    "\n",
    "4\n",
    "\n",
    "3.662,64\n",
    "\n",
    "366,26\n",
    "\n",
    "1.774,12\n",
    "\n",
    "2.110,38\n",
    "\n",
    "1.918,52\n",
    "\n",
    "5\n",
    "\n",
    "1.918,52\n",
    "\n",
    "191,85\n",
    "\n",
    "1.918,52\n",
    "\n",
    "2.110,38\n",
    "\n",
    "0'''"
   ]
  },
  {
   "cell_type": "code",
   "execution_count": 64,
   "metadata": {
    "jupyter": {
     "source_hidden": true
    }
   },
   "outputs": [],
   "source": [
    "tb5='''n\n",
    "\n",
    "Saldo Devedor\n",
    "Inicial\n",
    "\n",
    "(a)\n",
    "\n",
    "Juros\n",
    "\n",
    "(b)\n",
    "\n",
    "Amortização\n",
    "\n",
    "(c)\n",
    "\n",
    "Pagamentos\n",
    "\n",
    "(d) = (b) + (c)\n",
    "\n",
    "Saldo Devedor\n",
    "Final\n",
    "\n",
    "(e) = (a) – (c)\n",
    "\n",
    "0\n",
    "\n",
    "8.000\n",
    "\n",
    "0\n",
    "\n",
    "1.918,53\n",
    "\n",
    "1.918,53\n",
    "\n",
    "6.081,47\n",
    "\n",
    "1\n",
    "\n",
    "6.081,47\n",
    "\n",
    "608,14\n",
    "\n",
    "1.310,39\n",
    "\n",
    "1.918,53\n",
    "\n",
    "4.771,08\n",
    "\n",
    "2\n",
    "\n",
    "4.771,08\n",
    "\n",
    "477,10\n",
    "\n",
    "1.441,42\n",
    "\n",
    "1.918,53\n",
    "\n",
    "3.329,66\n",
    "\n",
    "3\n",
    "\n",
    "3.329,66\n",
    "\n",
    "332,96\n",
    "\n",
    "1.585,56\n",
    "\n",
    "1.918,53\n",
    "\n",
    "1.744,10\n",
    "\n",
    "4\n",
    "\n",
    "1.744,10\n",
    "\n",
    "174,41\n",
    "\n",
    "1.744,10\n",
    "\n",
    "1.918,53\n",
    "\n",
    "0'''"
   ]
  },
  {
   "cell_type": "code",
   "execution_count": 65,
   "metadata": {},
   "outputs": [],
   "source": [
    "tbs = [tb1, tb2, tb3, tb4, tb5]"
   ]
  },
  {
   "cell_type": "code",
   "execution_count": 108,
   "metadata": {},
   "outputs": [],
   "source": [
    "hd_fix = ['n',\n",
    " 'Saldo Devedor Inicial',\n",
    " 'Juros',\n",
    " 'Amortização',\n",
    " 'Pagamentos',\n",
    " 'Saldo Devedor Final']"
   ]
  },
  {
   "cell_type": "code",
   "execution_count": 109,
   "metadata": {},
   "outputs": [
    {
     "name": "stdout",
     "output_type": "stream",
     "text": [
      "0\n",
      "1\n",
      "2\n",
      "3\n",
      "4\n"
     ]
    }
   ],
   "source": [
    "bd_i = [tb.split('\\n\\n')[11:] for tb in tbs]\n",
    "\n",
    "df_i = []\n",
    "\n",
    "for i, bdi in enumerate(bd_i):\n",
    "    \n",
    "    df_i.append(pd.DataFrame(np.reshape(bdi, (5,6)), columns=hd_fix).set_index('n'))\n",
    "    print(i)"
   ]
  },
  {
   "cell_type": "code",
   "execution_count": 110,
   "metadata": {},
   "outputs": [],
   "source": [
    "i=-1"
   ]
  },
  {
   "cell_type": "code",
   "execution_count": 114,
   "metadata": {},
   "outputs": [
    {
     "data": {
      "text/html": [
       "<div>\n",
       "<style scoped>\n",
       "    .dataframe tbody tr th:only-of-type {\n",
       "        vertical-align: middle;\n",
       "    }\n",
       "\n",
       "    .dataframe tbody tr th {\n",
       "        vertical-align: top;\n",
       "    }\n",
       "\n",
       "    .dataframe thead th {\n",
       "        text-align: right;\n",
       "    }\n",
       "</style>\n",
       "<table border=\"1\" class=\"dataframe\">\n",
       "  <thead>\n",
       "    <tr style=\"text-align: right;\">\n",
       "      <th></th>\n",
       "      <th>Saldo Devedor Inicial</th>\n",
       "      <th>Juros</th>\n",
       "      <th>Amortização</th>\n",
       "      <th>Pagamentos</th>\n",
       "      <th>Saldo Devedor Final</th>\n",
       "    </tr>\n",
       "    <tr>\n",
       "      <th>n</th>\n",
       "      <th></th>\n",
       "      <th></th>\n",
       "      <th></th>\n",
       "      <th></th>\n",
       "      <th></th>\n",
       "    </tr>\n",
       "  </thead>\n",
       "  <tbody>\n",
       "    <tr>\n",
       "      <th>1</th>\n",
       "      <td>8.000</td>\n",
       "      <td>800</td>\n",
       "      <td>1.310,38</td>\n",
       "      <td>2.110,38</td>\n",
       "      <td>6.689,62</td>\n",
       "    </tr>\n",
       "    <tr>\n",
       "      <th>2</th>\n",
       "      <td>6.689,62</td>\n",
       "      <td>668,96</td>\n",
       "      <td>1.441,42</td>\n",
       "      <td>2.110,38</td>\n",
       "      <td>5.248,20</td>\n",
       "    </tr>\n",
       "    <tr>\n",
       "      <th>3</th>\n",
       "      <td>5.248,20</td>\n",
       "      <td>524,82</td>\n",
       "      <td>1.585,56</td>\n",
       "      <td>2.110,38</td>\n",
       "      <td>3.662,64</td>\n",
       "    </tr>\n",
       "    <tr>\n",
       "      <th>4</th>\n",
       "      <td>3.662,64</td>\n",
       "      <td>366,26</td>\n",
       "      <td>1.774,12</td>\n",
       "      <td>2.110,38</td>\n",
       "      <td>1.918,52</td>\n",
       "    </tr>\n",
       "    <tr>\n",
       "      <th>5</th>\n",
       "      <td>1.918,52</td>\n",
       "      <td>191,85</td>\n",
       "      <td>1.918,52</td>\n",
       "      <td>2.110,38</td>\n",
       "      <td>0</td>\n",
       "    </tr>\n",
       "  </tbody>\n",
       "</table>\n",
       "</div>"
      ],
      "text/plain": [
       "  Saldo Devedor Inicial   Juros Amortização Pagamentos Saldo Devedor Final\n",
       "n                                                                         \n",
       "1                 8.000     800    1.310,38   2.110,38            6.689,62\n",
       "2              6.689,62  668,96    1.441,42   2.110,38            5.248,20\n",
       "3              5.248,20  524,82    1.585,56   2.110,38            3.662,64\n",
       "4              3.662,64  366,26    1.774,12   2.110,38            1.918,52\n",
       "5              1.918,52  191,85    1.918,52   2.110,38                   0"
      ]
     },
     "execution_count": 114,
     "metadata": {},
     "output_type": "execute_result"
    }
   ],
   "source": [
    "i+=1\n",
    "df_i[i]"
   ]
  },
  {
   "cell_type": "code",
   "execution_count": 115,
   "metadata": {},
   "outputs": [],
   "source": [
    "names=['Ao final do período',\n",
    "'Pagamento periódico de juros',\n",
    "'Sistema de amortização constante – SAC',\n",
    "'Sistema PRICE ou de pagamentos constantes',\n",
    "'']"
   ]
  },
  {
   "cell_type": "code",
   "execution_count": 116,
   "metadata": {},
   "outputs": [],
   "source": [
    "folder = '\\\\Users\\luisr\\Desktop\\Disciplinas\\MatFin\\\\tabelas\\{}.xlsx'\n"
   ]
  },
  {
   "cell_type": "code",
   "execution_count": 117,
   "metadata": {},
   "outputs": [
    {
     "name": "stdout",
     "output_type": "stream",
     "text": [
      "Ao final do período saved\n",
      "Pagamento periódico de juros saved\n",
      "Sistema de amortização constante – SAC saved\n",
      "Sistema PRICE ou de pagamentos constantes saved\n",
      "Série antecipada saved\n"
     ]
    }
   ],
   "source": [
    "for file, name in zip(df_i, names):\n",
    "    \n",
    "    file.to_excel(folder.format(name))\n",
    "    print('{} saved'.format(name))"
   ]
  },
  {
   "cell_type": "code",
   "execution_count": 120,
   "metadata": {},
   "outputs": [
    {
     "data": {
      "text/html": [
       "<div>\n",
       "<style scoped>\n",
       "    .dataframe tbody tr th:only-of-type {\n",
       "        vertical-align: middle;\n",
       "    }\n",
       "\n",
       "    .dataframe tbody tr th {\n",
       "        vertical-align: top;\n",
       "    }\n",
       "\n",
       "    .dataframe thead th {\n",
       "        text-align: right;\n",
       "    }\n",
       "</style>\n",
       "<table border=\"1\" class=\"dataframe\">\n",
       "  <thead>\n",
       "    <tr style=\"text-align: right;\">\n",
       "      <th></th>\n",
       "      <th>Saldo Devedor Inicial</th>\n",
       "      <th>Juros</th>\n",
       "      <th>Amortização</th>\n",
       "      <th>Pagamentos</th>\n",
       "      <th>Saldo Devedor Final</th>\n",
       "    </tr>\n",
       "    <tr>\n",
       "      <th>n</th>\n",
       "      <th></th>\n",
       "      <th></th>\n",
       "      <th></th>\n",
       "      <th></th>\n",
       "      <th></th>\n",
       "    </tr>\n",
       "  </thead>\n",
       "  <tbody>\n",
       "    <tr>\n",
       "      <th>1</th>\n",
       "      <td>8.000</td>\n",
       "      <td>800</td>\n",
       "      <td>- 800</td>\n",
       "      <td>0</td>\n",
       "      <td>8.800</td>\n",
       "    </tr>\n",
       "    <tr>\n",
       "      <th>2</th>\n",
       "      <td>8.800</td>\n",
       "      <td>880</td>\n",
       "      <td>- 880</td>\n",
       "      <td>0</td>\n",
       "      <td>9.680</td>\n",
       "    </tr>\n",
       "    <tr>\n",
       "      <th>3</th>\n",
       "      <td>9.680</td>\n",
       "      <td>968</td>\n",
       "      <td>- 968</td>\n",
       "      <td>0</td>\n",
       "      <td>10.648</td>\n",
       "    </tr>\n",
       "    <tr>\n",
       "      <th>4</th>\n",
       "      <td>10.648</td>\n",
       "      <td>1.064,80</td>\n",
       "      <td>- 1.064,80</td>\n",
       "      <td>0</td>\n",
       "      <td>11.712,80</td>\n",
       "    </tr>\n",
       "    <tr>\n",
       "      <th>5</th>\n",
       "      <td>11.712,80</td>\n",
       "      <td>1.171,28</td>\n",
       "      <td>11.712,80</td>\n",
       "      <td>12.884,08</td>\n",
       "      <td>0</td>\n",
       "    </tr>\n",
       "  </tbody>\n",
       "</table>\n",
       "</div>"
      ],
      "text/plain": [
       "  Saldo Devedor Inicial     Juros Amortização Pagamentos Saldo Devedor Final\n",
       "n                                                                           \n",
       "1                 8.000       800       - 800          0               8.800\n",
       "2                 8.800       880       - 880          0               9.680\n",
       "3                 9.680       968       - 968          0              10.648\n",
       "4                10.648  1.064,80  - 1.064,80          0           11.712,80\n",
       "5             11.712,80  1.171,28   11.712,80  12.884,08                   0"
      ]
     },
     "execution_count": 120,
     "metadata": {},
     "output_type": "execute_result"
    }
   ],
   "source": [
    "df_i[0]"
   ]
  },
  {
   "cell_type": "markdown",
   "metadata": {},
   "source": [
    "### Hidráulica"
   ]
  },
  {
   "cell_type": "code",
   "execution_count": 136,
   "metadata": {},
   "outputs": [],
   "source": [
    "p_min = 1.2"
   ]
  },
  {
   "cell_type": "code",
   "execution_count": 157,
   "metadata": {},
   "outputs": [],
   "source": [
    "dz = 8\n",
    "L = 770\n",
    "D = 0.3\n",
    "h = 5"
   ]
  },
  {
   "cell_type": "code",
   "execution_count": 164,
   "metadata": {},
   "outputs": [],
   "source": [
    "ploc = 99.4e3 # Pa"
   ]
  },
  {
   "cell_type": "code",
   "execution_count": 165,
   "metadata": {},
   "outputs": [
    {
     "data": {
      "text/plain": [
       "('patm', 10.136651029981644, 'mca')"
      ]
     },
     "execution_count": 165,
     "metadata": {},
     "output_type": "execute_result"
    }
   ],
   "source": [
    "patm = ploc / 9806; 'patm', patm, 'mca'"
   ]
  },
  {
   "cell_type": "code",
   "execution_count": 166,
   "metadata": {},
   "outputs": [
    {
     "data": {
      "text/plain": [
       "('J', 0.01039, 'm/m')"
      ]
     },
     "execution_count": 166,
     "metadata": {},
     "output_type": "execute_result"
    }
   ],
   "source": [
    "J = dz/L; 'J', round(J, 5), 'm/m'"
   ]
  },
  {
   "cell_type": "code",
   "execution_count": 171,
   "metadata": {},
   "outputs": [
    {
     "data": {
      "text/plain": [
       "10.136651029981644"
      ]
     },
     "execution_count": 171,
     "metadata": {},
     "output_type": "execute_result"
    }
   ],
   "source": [
    "patm"
   ]
  },
  {
   "cell_type": "code",
   "execution_count": 168,
   "metadata": {},
   "outputs": [],
   "source": [
    "dp = patm - p_min"
   ]
  },
  {
   "cell_type": "code",
   "execution_count": 170,
   "metadata": {},
   "outputs": [
    {
     "data": {
      "text/plain": [
       "(0.9366510299816451, 90.15266163573334)"
      ]
     },
     "execution_count": 170,
     "metadata": {},
     "output_type": "execute_result"
    }
   ],
   "source": [
    "dh = (dp - dz); dh, dh/J"
   ]
  },
  {
   "cell_type": "code",
   "execution_count": null,
   "metadata": {},
   "outputs": [],
   "source": []
  }
 ],
 "metadata": {
  "kernelspec": {
   "display_name": "Python 3",
   "language": "python",
   "name": "python3"
  },
  "language_info": {
   "codemirror_mode": {
    "name": "ipython",
    "version": 3
   },
   "file_extension": ".py",
   "mimetype": "text/x-python",
   "name": "python",
   "nbconvert_exporter": "python",
   "pygments_lexer": "ipython3",
   "version": "3.8.3"
  }
 },
 "nbformat": 4,
 "nbformat_minor": 4
}
