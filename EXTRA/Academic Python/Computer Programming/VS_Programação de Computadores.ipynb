{
 "cells": [
  {
   "cell_type": "code",
   "execution_count": 2,
   "metadata": {},
   "outputs": [],
   "source": [
    "import numpy as np, matplotlib.pyplot as plt, pandas as pd"
   ]
  },
  {
   "cell_type": "markdown",
   "metadata": {},
   "source": [
    "# QUESTÃO 1"
   ]
  },
  {
   "cell_type": "code",
   "execution_count": 58,
   "metadata": {},
   "outputs": [
    {
     "name": "stdout",
     "output_type": "stream",
     "text": [
      "Insira o horário de sua consulta:\n"
     ]
    },
    {
     "name": "stdin",
     "output_type": "stream",
     "text": [
      "Horas (0 a 23): 10\n",
      "Minutos (0 a 59): 0\n"
     ]
    },
    {
     "name": "stdout",
     "output_type": "stream",
     "text": [
      "\n",
      "Insira o horário de sua chegada no consultório:\n"
     ]
    },
    {
     "name": "stdin",
     "output_type": "stream",
     "text": [
      "Horas (0 a 23): 13\n",
      "Minutos (0 a 59): 50\n"
     ]
    },
    {
     "name": "stdout",
     "output_type": "stream",
     "text": [
      "\n",
      "A pessoa chegou atrasada para a consulta em -3 horas e 50 minutos.\n"
     ]
    }
   ],
   "source": [
    "print('Insira o horário de sua consulta:')\n",
    "h_con = int(input('Horas (0 a 23):'))\n",
    "m_con = int(input('Minutos (0 a 59):'))\n",
    "consulta = h_con*60 + m_con      # em minutos\n",
    "print()\n",
    "\n",
    "print('Insira o horário de sua chegada no consultório:')\n",
    "h_che = int(input('Horas (0 a 23):'))\n",
    "m_che = int(input('Minutos (0 a 59):'))\n",
    "print()\n",
    "\n",
    "chegada = h_che*60 + m_che    # em minutos\n",
    "diferença = consulta - chegada\n",
    "\n",
    "h_d = abs(diferença)//60\n",
    "m_d = abs(diferença) % 60\n",
    "\n",
    "if diferença > 0:      \n",
    "    print(f'A pessoa chegou a tempo para a consulta adiantada em {h_d} horas e {m_d} minutos.')\n",
    "      \n",
    "elif diferença < 0: \n",
    "    print(f'A pessoa chegou atrasada para a consulta em {h_d} horas e {m_d} minutos.')\n",
    "      \n",
    "elif diferença==0:\n",
    "    print('A pessoa chegou exatamente no horário da consulta')"
   ]
  },
  {
   "cell_type": "markdown",
   "metadata": {},
   "source": [
    "# QUESTÃO 2"
   ]
  },
  {
   "cell_type": "code",
   "execution_count": null,
   "metadata": {},
   "outputs": [],
   "source": [
    "def cadastro(agenda):\n",
    "    \n",
    "    if len(agenda)==10: \n",
    "+-        print()\n",
    "        print('Não foi possível realizar o cadastro, a agenda está cheia!')\n",
    "    else:\n",
    "        \n",
    "        print()\n",
    "        print('Cadastrando novo cliente:')\n",
    "        nome = input('Nome do Cliente:')\n",
    "        idade = int(input('Idade do Cliente:'))\n",
    "        nacionalidade =  input('Nacionalidade do Cliente:')\n",
    "        print()\n",
    "\n",
    "        agenda.append([nome, idade, nacionalidade])\n",
    "\n",
    "    return agenda\n",
    "\n",
    "def consulta(agenda):\n",
    "    \n",
    "    print()\n",
    "    nome = input('Insira o nome completo do cliente:')\n",
    "    nomes = [agenda[i][0] for i in range(len(agenda))]\n",
    "    \n",
    "    print()\n",
    "    if nome not in nomes: print('Cadastro não encontrado!')\n",
    "    else:\n",
    "\n",
    "        nome, idade, nacionalidade = agenda[nomes.index(nome)]\n",
    "        print(f'Dados do Cliente:\\nNome: {nome}\\nIdade: {idade}\\nNacionalidade: {nacionalidade}')\n",
    "        print()\n",
    "\n",
    "def listar(agenda):\n",
    "    \n",
    "    print()\n",
    "    nacionalidade = input('Insira a Nacionalidade do Cliente:')\n",
    "    nacionalidades = [agenda[i][-1] for i in range(len(agenda))]\n",
    "    print()\n",
    "    \n",
    "    if nacionalidade not in nacionalidades:\n",
    "        print('Nenhum cliente encontrado com essa nacionalidade.')\n",
    "    else:    \n",
    "        print(f'Clientes dessa nacionalidade: {nacionalidade}:')\n",
    "        for cliente in agenda:\n",
    "            if cliente[-1]==nacionalidade: print('- '+cliente[0])\n",
    "        print()\n",
    "\n",
    "def menu():\n",
    "    \n",
    "    comando = 0\n",
    "    agenda = []\n",
    "    while comando != 4:\n",
    "    \n",
    "        print('Opções: \\n(1) Cadastrar novo cliente\\n(2) Consultar cliente\\n(3) Listar clientes de uma mesma nacionalidade\\n(4) Fim')\n",
    "        comando = int(input('\\nDigite uma opção:'))\n",
    "        \n",
    "        if comando == 1: agenda = cadastro(agenda=agenda)\n",
    "        if comando == 2: consulta(agenda=agenda)\n",
    "        if comando == 3: listar(agenda=agenda)\n",
    "        \n",
    "menu()"
   ]
  }
 ],
 "metadata": {
  "kernelspec": {
   "display_name": "Python 3",
   "language": "python",
   "name": "python3"
  },
  "language_info": {
   "codemirror_mode": {
    "name": "ipython",
    "version": 3
   },
   "file_extension": ".py",
   "mimetype": "text/x-python",
   "name": "python",
   "nbconvert_exporter": "python",
   "pygments_lexer": "ipython3",
   "version": "3.8.3"
  }
 },
 "nbformat": 4,
 "nbformat_minor": 4
}
