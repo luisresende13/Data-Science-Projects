{
 "cells": [
  {
   "cell_type": "code",
   "execution_count": 290,
   "metadata": {},
   "outputs": [],
   "source": [
    "import json\n",
    "import pandas as pd; pd.set_option('display.max_columns', 100)\n",
    "import numpy as np\n",
    "import matplotlib.pyplot as plt\n",
    "import seaborn as sns; sns.set()\n",
    "from IPython.display import clear_output as co\n",
    "from sklearn.utils import all_estimators\n",
    "classifiers = dict(all_estimators('classifier'))\n",
    "from sklearn.model_selection import train_test_split as tts\n",
    "from sklearn.preprocessing import LabelEncoder as le, StandardScaler as ss, MinMaxScaler as mms\n",
    "from sklearn.metrics import accuracy_score as acc, classification_report as cr\n",
    "from sklearn.model_selection import cross_val_score as cvs"
   ]
  },
  {
   "cell_type": "code",
   "execution_count": 290,
   "metadata": {},
   "outputs": [],
   "source": [
    "def binary_target(series, class_0, name, invert=False):\n",
    "    Y = series.apply(lambda clss: int(clss!=class_0)) # 0 if never used else 1\n",
    "    if invert: Y = Y.apply(lambda x: int(not x))\n",
    "    Y.name = name\n",
    "    return Y\n",
    "\n",
    "class cv_classifiers:\n",
    "    def __init__(self):\n",
    "        self.models = classifiers\n",
    "        self.names = list(classifiers.keys())\n",
    "    def cv_scr(self, models, x, y, cv):\n",
    "        if type(models)==list: return pd.concat([self.cv_scr(model, x, y, cv) for model in models], 1)\n",
    "        else:\n",
    "            model = self.models[models](); cv_scrs = cvs(model, x, y, cv=cv)\n",
    "            scr_stts = pd.Series(cv_scrs).describe(); scr_stts.name = models\n",
    "            return scr_stts\n",
    "    def learning_curve(self, model, x, y, batch_size=25, cv=5, xe=None, ye=None, metric='mean'):\n",
    "        batch_scrs = []\n",
    "        if type(model)==str:\n",
    "            batch_scrs = []\n",
    "            for size in range(batch_size, len(y)+batch_size+1, batch_size):\n",
    "                xi, yi = x.iloc[:size].copy(), y.iloc[:size].copy()\n",
    "                scr = self.cv_scr(model, xi, yi, cv); scr.name = size\n",
    "                batch_scrs.append(scr)\n",
    "            scrs_df = pd.concat(batch_scrs, 1)\n",
    "            scrs_df.columns.name = model; scrs_df.index.name='train size'\n",
    "            return scrs_df\n",
    "        else:\n",
    "            for modelname in model:\n",
    "                batch_scrs.append(self.learning_curve(modelname, x, y, batch_size, cv ,xe, ye).loc[metric].rename(modelname))\n",
    "            return pd.concat(batch_scrs, 1)\n",
    "\n",
    "models = [\n",
    "    'AdaBoostClassifier','BaggingClassifier',\n",
    "    'DecisionTreeClassifier','DummyClassifier',\n",
    "    'ExtraTreesClassifier','GaussianProcessClassifier',\n",
    "    'GradientBoostingClassifier','HistGradientBoostingClassifier',\n",
    "    'KNeighborsClassifier','LinearDiscriminantAnalysis',\n",
    "    'LinearSVC','LogisticRegression',\n",
    "    'LogisticRegressionCV',\n",
    "    'NearestCentroid','RadiusNeighborsClassifier',\n",
    "    'RandomForestClassifier','RidgeClassifier',\n",
    "    'RidgeClassifierCV','SGDClassifier', 'SVC'\n",
    "]"
   ]
  },
  {
   "cell_type": "markdown",
   "metadata": {},
   "source": [
    "---"
   ]
  },
  {
   "cell_type": "markdown",
   "metadata": {},
   "source": [
    "# Loading Clean Data"
   ]
  },
  {
   "cell_type": "code",
   "execution_count": 5,
   "metadata": {},
   "outputs": [],
   "source": [
    "data = pd.read_csv('data/drug_use_clean.csv')"
   ]
  },
  {
   "cell_type": "code",
   "execution_count": 9,
   "metadata": {},
   "outputs": [],
   "source": [
    "cols = {\n",
    "    'socio': data.columns[:6].tolist(),\n",
    "    'psych': data.columns[6:13].tolist(),\n",
    "    'drugs': data.columns[13:].tolist(),\n",
    "}"
   ]
  },
  {
   "cell_type": "markdown",
   "metadata": {},
   "source": [
    "#### Loading categories dictionaries"
   ]
  },
  {
   "cell_type": "code",
   "execution_count": 23,
   "metadata": {},
   "outputs": [
    {
     "data": {
      "text/plain": [
       "{'CL0': 'Never Used',\n",
       " 'CL1': 'Used over a Decade Ago',\n",
       " 'CL2': 'Used in Last Decade',\n",
       " 'CL3': 'Used in Last Year',\n",
       " 'CL4': 'Used in Last Month',\n",
       " 'CL5': 'Used in Last Week',\n",
       " 'CL6': 'Used in Last Day'}"
      ]
     },
     "execution_count": 23,
     "metadata": {},
     "output_type": "execute_result"
    }
   ],
   "source": [
    "with open('DrugConsumptionClasses.json', 'r') as file:\n",
    "    cls_dict = json.load(file)\n",
    "cls_dict"
   ]
  },
  {
   "cell_type": "markdown",
   "metadata": {},
   "source": [
    "---\n",
    "# Traget variable binary transformation"
   ]
  },
  {
   "cell_type": "code",
   "execution_count": 185,
   "metadata": {},
   "outputs": [],
   "source": [
    "target = 'Cannabis'\n",
    "features = cols['socio'][1:] + cols['psych']"
   ]
  },
  {
   "cell_type": "code",
   "execution_count": 186,
   "metadata": {},
   "outputs": [],
   "source": [
    "Y = binary_target (data[target], class_0='CL0', name=target+' Ever', invert=True)"
   ]
  },
  {
   "cell_type": "code",
   "execution_count": 187,
   "metadata": {},
   "outputs": [
    {
     "data": {
      "text/html": [
       "<div>\n",
       "<style scoped>\n",
       "    .dataframe tbody tr th:only-of-type {\n",
       "        vertical-align: middle;\n",
       "    }\n",
       "\n",
       "    .dataframe tbody tr th {\n",
       "        vertical-align: top;\n",
       "    }\n",
       "\n",
       "    .dataframe thead th {\n",
       "        text-align: right;\n",
       "    }\n",
       "</style>\n",
       "<table border=\"1\" class=\"dataframe\">\n",
       "  <thead>\n",
       "    <tr style=\"text-align: right;\">\n",
       "      <th></th>\n",
       "      <th>Cannabis Ever</th>\n",
       "    </tr>\n",
       "  </thead>\n",
       "  <tbody>\n",
       "    <tr>\n",
       "      <th>0</th>\n",
       "      <td>1472</td>\n",
       "    </tr>\n",
       "    <tr>\n",
       "      <th>1</th>\n",
       "      <td>412</td>\n",
       "    </tr>\n",
       "  </tbody>\n",
       "</table>\n",
       "</div>"
      ],
      "text/plain": [
       "   Cannabis Ever\n",
       "0           1472\n",
       "1            412"
      ]
     },
     "execution_count": 187,
     "metadata": {},
     "output_type": "execute_result"
    }
   ],
   "source": [
    "Y.value_counts().to_frame()"
   ]
  },
  {
   "cell_type": "markdown",
   "metadata": {},
   "source": [
    "---"
   ]
  },
  {
   "cell_type": "markdown",
   "metadata": {},
   "source": [
    "# Feature data transformation"
   ]
  },
  {
   "cell_type": "markdown",
   "metadata": {},
   "source": [
    "#### Label encoding psychological features"
   ]
  },
  {
   "cell_type": "code",
   "execution_count": 188,
   "metadata": {},
   "outputs": [],
   "source": [
    "X = data[features].copy()\n",
    "\n",
    "# Label Encoding -----------------------------\n",
    "for col in socio[1:]:  \n",
    "    X[col] = le().fit_transform(X[col])    "
   ]
  },
  {
   "cell_type": "markdown",
   "metadata": {},
   "source": [
    "#### Scaling features"
   ]
  },
  {
   "cell_type": "code",
   "execution_count": 189,
   "metadata": {},
   "outputs": [],
   "source": [
    "X_norm = X.copy(); X_max = X.copy()\n",
    "\n",
    "# Standard Normalizaiton -----------------------------------------------\n",
    "X_norm[socio[1:]] = ss().fit_transform(X_norm[socio[1:]])\n",
    "# MinMax Scaling -----------------------------------------------\n",
    "X_max[socio[1:]] = mms().fit_transform(X_max[socio[1:]])"
   ]
  },
  {
   "cell_type": "markdown",
   "metadata": {},
   "source": [
    "---\n",
    "# Undersampling majority class"
   ]
  },
  {
   "cell_type": "code",
   "execution_count": 190,
   "metadata": {},
   "outputs": [],
   "source": [
    "from imblearn.under_sampling import RandomUnderSampler\n",
    "# define undersample strategy\n",
    "undersample = RandomUnderSampler(sampling_strategy='majority')\n",
    "# fit and apply the transform\n",
    "x, y = undersample.fit_resample(X, Y)"
   ]
  },
  {
   "cell_type": "markdown",
   "metadata": {},
   "source": [
    "---\n",
    "# Train test split"
   ]
  },
  {
   "cell_type": "code",
   "execution_count": 191,
   "metadata": {},
   "outputs": [],
   "source": [
    "xt, xe, yt, ye = tts(x, y, test_size=0.2)"
   ]
  },
  {
   "cell_type": "markdown",
   "metadata": {},
   "source": [
    "---\n",
    "# Baseline cross validation"
   ]
  },
  {
   "cell_type": "code",
   "execution_count": 294,
   "metadata": {},
   "outputs": [],
   "source": [
    "model_name = 'GradientBoostingClassifier'\n",
    "model = classifiers[model_name]"
   ]
  },
  {
   "cell_type": "code",
   "execution_count": 176,
   "metadata": {},
   "outputs": [
    {
     "data": {
      "text/plain": [
       "count    10.000000\n",
       "mean      0.760210\n",
       "std       0.062734\n",
       "min       0.681818\n",
       "25%       0.727273\n",
       "50%       0.748019\n",
       "75%       0.772727\n",
       "max       0.909091\n",
       "dtype: float64"
      ]
     },
     "execution_count": 176,
     "metadata": {},
     "output_type": "execute_result"
    }
   ],
   "source": [
    "cv_scrs = cvs(model(), xt, yt, cv=10)\n",
    "pd.Series(cv_scrs).describe()"
   ]
  },
  {
   "cell_type": "markdown",
   "metadata": {},
   "source": [
    "---\n",
    "# Classification report on unseen data"
   ]
  },
  {
   "cell_type": "code",
   "execution_count": 297,
   "metadata": {},
   "outputs": [
    {
     "name": "stdout",
     "output_type": "stream",
     "text": [
      "              precision    recall  f1-score   support\n",
      "\n",
      "           0       0.76      0.76      0.76        87\n",
      "           1       0.73      0.73      0.73        78\n",
      "\n",
      "    accuracy                           0.75       165\n",
      "   macro avg       0.74      0.74      0.74       165\n",
      "weighted avg       0.75      0.75      0.75       165\n",
      "\n"
     ]
    }
   ],
   "source": [
    "yp = model().fit(xt, yt).predict(xe)\n",
    "\n",
    "print(cr(ye, yp))"
   ]
  },
  {
   "cell_type": "markdown",
   "metadata": {},
   "source": [
    "---\n",
    "# Multiple model evaluation using cross validation"
   ]
  },
  {
   "cell_type": "code",
   "execution_count": 285,
   "metadata": {},
   "outputs": [],
   "source": [
    "cv_cls = cv_classifiers()"
   ]
  },
  {
   "cell_type": "code",
   "execution_count": null,
   "metadata": {},
   "outputs": [],
   "source": [
    "cv_scrs = cv_cls.cv_scr(models, xt, yt, cv=5)"
   ]
  },
  {
   "cell_type": "code",
   "execution_count": 282,
   "metadata": {},
   "outputs": [
    {
     "data": {
      "text/plain": [
       "ExtraTreesClassifier              0.775295\n",
       "AdaBoostClassifier                0.767719\n",
       "RandomForestClassifier            0.763127\n",
       "LinearDiscriminantAnalysis        0.761612\n",
       "RidgeClassifierCV                 0.761612\n",
       "HistGradientBoostingClassifier    0.760155\n",
       "RidgeClassifier                   0.760097\n",
       "LogisticRegressionCV              0.758582\n",
       "LinearSVC                         0.758570\n",
       "SVC                               0.758570\n",
       "LogisticRegression                0.755552\n",
       "GaussianProcessClassifier         0.751029\n",
       "GradientBoostingClassifier        0.747988\n",
       "NearestCentroid                   0.746484\n",
       "KNeighborsClassifier              0.728302\n",
       "BaggingClassifier                 0.726718\n",
       "SGDClassifier                     0.719188\n",
       "DecisionTreeClassifier            0.707067\n",
       "DummyClassifier                   0.506824\n",
       "RadiusNeighborsClassifier              NaN\n",
       "Name: as, dtype: float64"
      ]
     },
     "execution_count": 282,
     "metadata": {},
     "output_type": "execute_result"
    }
   ],
   "source": [
    "cv_scrs.loc['mean'].sort_values(ascending=False).rename('as')"
   ]
  },
  {
   "cell_type": "markdown",
   "metadata": {},
   "source": [
    "---\n",
    "# Visualizing selected models cross validated learning curves"
   ]
  },
  {
   "cell_type": "code",
   "execution_count": null,
   "metadata": {},
   "outputs": [],
   "source": [
    "model_lc = cv_cls.learning_curve(models, xt, yt, batch_size=10, cv=5, xe=None, ye=None, metric='mean')"
   ]
  },
  {
   "cell_type": "code",
   "execution_count": 293,
   "metadata": {},
   "outputs": [
    {
     "data": {
      "text/plain": [
       "<matplotlib.legend.Legend at 0x1494dba34f0>"
      ]
     },
     "execution_count": 293,
     "metadata": {},
     "output_type": "execute_result"
    },
    {
     "data": {
      "image/png": "[encoded data removed]",
      "text/plain": [
       "<Figure size 432x288 with 1 Axes>"
      ]
     },
     "metadata": {},
     "output_type": "display_data"
    }
   ],
   "source": [
    "model_lc.plot(); plt.legend([])"
   ]
  },
  {
   "cell_type": "markdown",
   "metadata": {},
   "source": [
    "# Feature selection and evaluation"
   ]
  },
  {
   "cell_type": "code",
   "execution_count": 310,
   "metadata": {},
   "outputs": [
    {
     "data": {
      "image/png": "[encoded data removed]",
      "text/plain": [
       "<Figure size 432x288 with 1 Axes>"
      ]
     },
     "metadata": {},
     "output_type": "display_data"
    }
   ],
   "source": [
    "feature_importance = pd.Series(model().fit(xt, yt).feature_importances_, index=X.columns).sort_values()\n",
    "feature_importance.plot.bar(); plt.title('Drug use model - Gradient Boosting Classifier'); plt.ylabel('Feature importance'); plt.show()"
   ]
  },
  {
   "cell_type": "code",
   "execution_count": 305,
   "metadata": {},
   "outputs": [
    {
     "name": "stdout",
     "output_type": "stream",
     "text": [
      "              precision    recall  f1-score   support\n",
      "\n",
      "           0       0.71      0.63      0.67        87\n",
      "           1       0.63      0.71      0.67        78\n",
      "\n",
      "    accuracy                           0.67       165\n",
      "   macro avg       0.67      0.67      0.67       165\n",
      "weighted avg       0.67      0.67      0.67       165\n",
      "\n"
     ]
    }
   ],
   "source": [
    "selected_features = feature_importance[:5].index.values\n",
    "yp_sel = model().fit(xt[selected_features], yt).predict(xe[selected_features])\n",
    "\n",
    "print(cr(ye, yp_sel))"
   ]
  }
 ],
 "metadata": {
  "kernelspec": {
   "display_name": "Python 3",
   "language": "python",
   "name": "python3"
  },
  "language_info": {
   "codemirror_mode": {
    "name": "ipython",
    "version": 3
   },
   "file_extension": ".py",
   "mimetype": "text/x-python",
   "name": "python",
   "nbconvert_exporter": "python",
   "pygments_lexer": "ipython3",
   "version": "3.8.3"
  }
 },
 "nbformat": 4,
 "nbformat_minor": 4
}
