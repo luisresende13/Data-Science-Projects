{
 "cells": [
  {
   "cell_type": "markdown",
   "metadata": {},
   "source": [
    "# Carregando dados"
   ]
  },
  {
   "cell_type": "code",
   "execution_count": 55,
   "metadata": {},
   "outputs": [],
   "source": [
    "import warnings\n",
    "warnings.filterwarnings('ignore')\n",
    "\n",
    "import pandas as pd, numpy as np\n",
    "import matplotlib.pyplot as plt, seaborn as sns; sns.set()\n",
    "\n",
    "df = pd.read_csv('dados.csv')"
   ]
  },
  {
   "cell_type": "markdown",
   "metadata": {},
   "source": [
    "# Limpeza"
   ]
  },
  {
   "cell_type": "markdown",
   "metadata": {},
   "source": [
    "### Notação de células vazias"
   ]
  },
  {
   "cell_type": "code",
   "execution_count": 56,
   "metadata": {},
   "outputs": [],
   "source": [
    "def uniform_missing_values(df, notacoes=['nan', '']):\n",
    "    obj_cols = df.columns[df.dtypes=='object']\n",
    "    for col in obj_cols:\n",
    "        for value in notacoes:\n",
    "            df[col] = df[col].replace(value, np.nan)\n",
    "    return df\n",
    "df = uniform_missing_values(df, notacoes=['nan', ''])"
   ]
  },
  {
   "cell_type": "code",
   "execution_count": null,
   "metadata": {},
   "outputs": [],
   "source": [
    "# Descomente para conferir valores diferentes para notações ou conferir substituição (se já foi feita).\n",
    "for col in obj_cols+int_cols+float_cols: print(f'{col}: {df[col].unique()}'); print()"
   ]
  },
  {
   "cell_type": "markdown",
   "metadata": {},
   "source": [
    "# Transformação de Dados"
   ]
  },
  {
   "cell_type": "code",
   "execution_count": 103,
   "metadata": {},
   "outputs": [],
   "source": [
    "data = df.copy()\n",
    "\n",
    "# extract columns for each data type\n",
    "int_cols, obj_cols, float_cols = (\n",
    "    data.select_dtypes([datatype]).columns.tolist() for datatype in ('int64', 'object', 'float')\n",
    ")\n",
    "\n",
    "# import preprocessing functions\n",
    "from sklearn.preprocessing import LabelEncoder as le, MinMaxScaler as mms\n",
    "\n",
    "# # Label Encode Categorical Columns\n",
    "nan_cols = ['CdMarca', 'FlZeroKm', 'CdUfNaturalidade']\n",
    "for col in obj_cols:\n",
    "    if col not in nan_cols:\n",
    "            data[col] = le().fit_transform(data[col].astype(str)) # fill missing values automatically\n",
    "\n",
    "# Convert ordinal categorical columns tp float\n",
    "label_cols = ['QTD_SEGURO', 'CdOcupacaoCBO']\n",
    "data[label_cols] = data[label_cols].astype(float)\n",
    "            \n",
    "# Scale Float Columns\n",
    "data[float_cols+int_cols] = mms().fit_transform(data[float_cols+int_cols]) # eliminates negative values\n",
    "\n",
    "# fill missing values for float columns\n",
    "# for col in float_cols:\n",
    "    # data[col].fillna(data[col].mean(), inplace=True)\n",
    "#     data[col].fillna(0, inplace=True)"
   ]
  },
  {
   "cell_type": "markdown",
   "metadata": {},
   "source": [
    "# Exploração"
   ]
  },
  {
   "cell_type": "markdown",
   "metadata": {},
   "source": [
    "### Análise do uso do app pelo cliente"
   ]
  },
  {
   "cell_type": "code",
   "execution_count": 34,
   "metadata": {},
   "outputs": [
    {
     "data": {
      "text/html": [
       "<div>\n",
       "<style scoped>\n",
       "    .dataframe tbody tr th:only-of-type {\n",
       "        vertical-align: middle;\n",
       "    }\n",
       "\n",
       "    .dataframe tbody tr th {\n",
       "        vertical-align: top;\n",
       "    }\n",
       "\n",
       "    .dataframe thead th {\n",
       "        text-align: right;\n",
       "    }\n",
       "</style>\n",
       "<table border=\"1\" class=\"dataframe\">\n",
       "  <thead>\n",
       "    <tr style=\"text-align: right;\">\n",
       "      <th></th>\n",
       "      <th></th>\n",
       "      <th>Contagem</th>\n",
       "    </tr>\n",
       "    <tr>\n",
       "      <th>fl_renovou</th>\n",
       "      <th>usa_o_app</th>\n",
       "      <th></th>\n",
       "    </tr>\n",
       "  </thead>\n",
       "  <tbody>\n",
       "    <tr>\n",
       "      <th rowspan=\"2\" valign=\"top\">0</th>\n",
       "      <th>0</th>\n",
       "      <td>32042</td>\n",
       "    </tr>\n",
       "    <tr>\n",
       "      <th>1</th>\n",
       "      <td>16368</td>\n",
       "    </tr>\n",
       "    <tr>\n",
       "      <th rowspan=\"2\" valign=\"top\">1</th>\n",
       "      <th>0</th>\n",
       "      <td>1036</td>\n",
       "    </tr>\n",
       "    <tr>\n",
       "      <th>1</th>\n",
       "      <td>554</td>\n",
       "    </tr>\n",
       "  </tbody>\n",
       "</table>\n",
       "</div>"
      ],
      "text/plain": [
       "                      Contagem\n",
       "fl_renovou usa_o_app          \n",
       "0          0             32042\n",
       "           1             16368\n",
       "1          0              1036\n",
       "           1               554"
      ]
     },
     "execution_count": 34,
     "metadata": {},
     "output_type": "execute_result"
    }
   ],
   "source": [
    "target = 'fl_renovou'\n",
    "app_cols = [\n",
    "    'flmat30conta',\n",
    "    'flmat60conta',\n",
    "    'flmat90conta',\n",
    "    'flmau30conta',\n",
    "    'flmau60conta',\n",
    "    'flmau90conta'\n",
    "]\n",
    "\n",
    "df['usa_o_app'] = ( df[app_cols].sum(1) > 0 ) + 0\n",
    "\n",
    "df.groupby([target, 'usa_o_app']).count()['ID'].to_frame('Contagem')"
   ]
  },
  {
   "cell_type": "code",
   "execution_count": 96,
   "metadata": {},
   "outputs": [
    {
     "data": {
      "text/plain": [
       "(0.3484276729559748, 0.6515723270440252)"
      ]
     },
     "execution_count": 96,
     "metadata": {},
     "output_type": "execute_result"
    }
   ],
   "source": [
    "a = 554 / (554+1036); a, 1-a"
   ]
  },
  {
   "cell_type": "code",
   "execution_count": 97,
   "metadata": {},
   "outputs": [
    {
     "data": {
      "text/plain": [
       "(0.338111960338773, 0.661888039661227)"
      ]
     },
     "execution_count": 97,
     "metadata": {},
     "output_type": "execute_result"
    }
   ],
   "source": [
    "b = 16368 / (16368+32042); b, 1-b"
   ]
  },
  {
   "cell_type": "markdown",
   "metadata": {},
   "source": [
    "---\n",
    "# Análise de perfil do cliente que renova"
   ]
  },
  {
   "cell_type": "markdown",
   "metadata": {},
   "source": [
    "## Diferença percentual e diferença percentual absoluta da média entre classes"
   ]
  },
  {
   "cell_type": "code",
   "execution_count": 151,
   "metadata": {},
   "outputs": [],
   "source": [
    "msk = nums[target]==1\n",
    "nums = data[float_cols+int_cols].copy()\n",
    "prct_dif = ( nums[msk].mean() - nums.mean() ) / nums.mean()\n",
    "prct_dif = prct_dif.loc[abs(prct_dif).sort_values(ascending=False).index].drop(target)\n",
    "abs_dif = abs(prct_dif)"
   ]
  },
  {
   "cell_type": "markdown",
   "metadata": {},
   "source": [
    "### Dividindo variáveis em intervalos da diferença percentual (ranks de importância)"
   ]
  },
  {
   "cell_type": "code",
   "execution_count": 144,
   "metadata": {},
   "outputs": [],
   "source": [
    "col_rank = pd.Series(np.zeros(len(abs_dif))+1, index=abs_dif.index)\n",
    "\n",
    "bins = [1, .75, .5, .25, .15]\n",
    "for i, lim in enumerate(bins):\n",
    "    col_rank.loc[abs_dif<lim] = int(i+2)\n",
    "\n",
    "col_rank.loc[abs_dif.isna()] = np.nan"
   ]
  },
  {
   "cell_type": "markdown",
   "metadata": {},
   "source": [
    "### Comparando diferença percentual"
   ]
  },
  {
   "cell_type": "code",
   "execution_count": 145,
   "metadata": {},
   "outputs": [
    {
     "data": {
      "image/png": "[encoded data removed]",
      "text/plain": [
       "<Figure size 432x288 with 1 Axes>"
      ]
     },
     "metadata": {},
     "output_type": "display_data"
    }
   ],
   "source": [
    "fig, ax = plt.subplots()\n",
    "\n",
    "(100*abs_dif).plot(ax=ax, marker='o', ms=4,)\n",
    "ax.set(\n",
    "    xticks=[], #\n",
    "    xlabel='Colunas numéricas',\n",
    "    ylabel='Diferença percentual (%)',\n",
    "    title='Diferença percentual da média - grupo de renovação',\n",
    "    # color=list(map(c_map, col_rank.values))\n",
    "); plt.show()"
   ]
  },
  {
   "cell_type": "markdown",
   "metadata": {},
   "source": [
    "### Resultado perfil do cliente"
   ]
  },
  {
   "cell_type": "markdown",
   "metadata": {},
   "source": [
    "#### Análise de duração de ligação "
   ]
  },
  {
   "cell_type": "code",
   "execution_count": 157,
   "metadata": {},
   "outputs": [
    {
     "data": {
      "text/html": [
       "<div>\n",
       "<style scoped>\n",
       "    .dataframe tbody tr th:only-of-type {\n",
       "        vertical-align: middle;\n",
       "    }\n",
       "\n",
       "    .dataframe tbody tr th {\n",
       "        vertical-align: top;\n",
       "    }\n",
       "\n",
       "    .dataframe thead th {\n",
       "        text-align: right;\n",
       "    }\n",
       "</style>\n",
       "<table border=\"1\" class=\"dataframe\">\n",
       "  <thead>\n",
       "    <tr style=\"text-align: right;\">\n",
       "      <th></th>\n",
       "      <th>Duracao_segundos</th>\n",
       "      <th>Duracao_segundos</th>\n",
       "    </tr>\n",
       "  </thead>\n",
       "  <tbody>\n",
       "    <tr>\n",
       "      <th>count</th>\n",
       "      <td>1098.000000</td>\n",
       "      <td>18571.000000</td>\n",
       "    </tr>\n",
       "    <tr>\n",
       "      <th>mean</th>\n",
       "      <td>188.509107</td>\n",
       "      <td>186.088848</td>\n",
       "    </tr>\n",
       "    <tr>\n",
       "      <th>std</th>\n",
       "      <td>271.382450</td>\n",
       "      <td>311.925272</td>\n",
       "    </tr>\n",
       "    <tr>\n",
       "      <th>min</th>\n",
       "      <td>14.000000</td>\n",
       "      <td>13.000000</td>\n",
       "    </tr>\n",
       "    <tr>\n",
       "      <th>25%</th>\n",
       "      <td>68.000000</td>\n",
       "      <td>57.000000</td>\n",
       "    </tr>\n",
       "    <tr>\n",
       "      <th>50%</th>\n",
       "      <td>110.000000</td>\n",
       "      <td>91.000000</td>\n",
       "    </tr>\n",
       "    <tr>\n",
       "      <th>75%</th>\n",
       "      <td>197.000000</td>\n",
       "      <td>160.000000</td>\n",
       "    </tr>\n",
       "    <tr>\n",
       "      <th>max</th>\n",
       "      <td>3207.000000</td>\n",
       "      <td>5462.000000</td>\n",
       "    </tr>\n",
       "  </tbody>\n",
       "</table>\n",
       "</div>"
      ],
      "text/plain": [
       "       Duracao_segundos  Duracao_segundos\n",
       "count       1098.000000      18571.000000\n",
       "mean         188.509107        186.088848\n",
       "std          271.382450        311.925272\n",
       "min           14.000000         13.000000\n",
       "25%           68.000000         57.000000\n",
       "50%          110.000000         91.000000\n",
       "75%          197.000000        160.000000\n",
       "max         3207.000000       5462.000000"
      ]
     },
     "execution_count": 157,
     "metadata": {},
     "output_type": "execute_result"
    }
   ],
   "source": [
    "time = 'Duracao_segundos'\n",
    "pd.concat([df[msk][time].describe(), df[msk==False][time].describe()], 1)"
   ]
  },
  {
   "cell_type": "code",
   "execution_count": 158,
   "metadata": {},
   "outputs": [
    {
     "name": "stdout",
     "output_type": "stream",
     "text": [
      "Rank completo: Diferença percentual da média - grupo de renovação\n",
      "\n"
     ]
    },
    {
     "data": {
      "text/html": [
       "<div>\n",
       "<style scoped>\n",
       "    .dataframe tbody tr th:only-of-type {\n",
       "        vertical-align: middle;\n",
       "    }\n",
       "\n",
       "    .dataframe tbody tr th {\n",
       "        vertical-align: top;\n",
       "    }\n",
       "\n",
       "    .dataframe thead th {\n",
       "        text-align: right;\n",
       "    }\n",
       "</style>\n",
       "<table border=\"1\" class=\"dataframe\">\n",
       "  <thead>\n",
       "    <tr style=\"text-align: right;\">\n",
       "      <th></th>\n",
       "      <th>Rank 1 - Diferença percentual da média (%)</th>\n",
       "    </tr>\n",
       "  </thead>\n",
       "  <tbody>\n",
       "    <tr>\n",
       "      <th>total_ARTIGOS_ESPORTIVOS_F2_m4</th>\n",
       "      <td>153.0</td>\n",
       "    </tr>\n",
       "    <tr>\n",
       "      <th>NV_D2_OBJETIVIDADE_3m</th>\n",
       "      <td>133.2</td>\n",
       "    </tr>\n",
       "    <tr>\n",
       "      <th>total_ARTIGOS_ESPORTIVOS_F3_m4</th>\n",
       "      <td>115.9</td>\n",
       "    </tr>\n",
       "    <tr>\n",
       "      <th>FL_VAREJO_F4</th>\n",
       "      <td>107.2</td>\n",
       "    </tr>\n",
       "  </tbody>\n",
       "</table>\n",
       "</div>"
      ],
      "text/plain": [
       "                                Rank 1 - Diferença percentual da média (%)\n",
       "total_ARTIGOS_ESPORTIVOS_F2_m4                                       153.0\n",
       "NV_D2_OBJETIVIDADE_3m                                                133.2\n",
       "total_ARTIGOS_ESPORTIVOS_F3_m4                                       115.9\n",
       "FL_VAREJO_F4                                                         107.2"
      ]
     },
     "metadata": {},
     "output_type": "display_data"
    },
    {
     "data": {
      "text/html": [
       "<div>\n",
       "<style scoped>\n",
       "    .dataframe tbody tr th:only-of-type {\n",
       "        vertical-align: middle;\n",
       "    }\n",
       "\n",
       "    .dataframe tbody tr th {\n",
       "        vertical-align: top;\n",
       "    }\n",
       "\n",
       "    .dataframe thead th {\n",
       "        text-align: right;\n",
       "    }\n",
       "</style>\n",
       "<table border=\"1\" class=\"dataframe\">\n",
       "  <thead>\n",
       "    <tr style=\"text-align: right;\">\n",
       "      <th></th>\n",
       "      <th>Rank 2 - Diferença percentual da média (%)</th>\n",
       "    </tr>\n",
       "  </thead>\n",
       "  <tbody>\n",
       "    <tr>\n",
       "      <th>FL_PET_SHOP_F4</th>\n",
       "      <td>93.0</td>\n",
       "    </tr>\n",
       "    <tr>\n",
       "      <th>FL_ARTIGOS_ELETRONICOS_F3</th>\n",
       "      <td>84.1</td>\n",
       "    </tr>\n",
       "    <tr>\n",
       "      <th>total_ARTIGOS_ESPORTIVOS_F1_m4</th>\n",
       "      <td>80.6</td>\n",
       "    </tr>\n",
       "  </tbody>\n",
       "</table>\n",
       "</div>"
      ],
      "text/plain": [
       "                                Rank 2 - Diferença percentual da média (%)\n",
       "FL_PET_SHOP_F4                                                        93.0\n",
       "FL_ARTIGOS_ELETRONICOS_F3                                             84.1\n",
       "total_ARTIGOS_ESPORTIVOS_F1_m4                                        80.6"
      ]
     },
     "metadata": {},
     "output_type": "display_data"
    },
    {
     "data": {
      "text/html": [
       "<div>\n",
       "<style scoped>\n",
       "    .dataframe tbody tr th:only-of-type {\n",
       "        vertical-align: middle;\n",
       "    }\n",
       "\n",
       "    .dataframe tbody tr th {\n",
       "        vertical-align: top;\n",
       "    }\n",
       "\n",
       "    .dataframe thead th {\n",
       "        text-align: right;\n",
       "    }\n",
       "</style>\n",
       "<table border=\"1\" class=\"dataframe\">\n",
       "  <thead>\n",
       "    <tr style=\"text-align: right;\">\n",
       "      <th></th>\n",
       "      <th>Rank 3 - Diferença percentual da média (%)</th>\n",
       "    </tr>\n",
       "  </thead>\n",
       "  <tbody>\n",
       "    <tr>\n",
       "      <th>FL_BEM_ESTAR_F3</th>\n",
       "      <td>72.7</td>\n",
       "    </tr>\n",
       "    <tr>\n",
       "      <th>CD_Cartao_6m</th>\n",
       "      <td>71.8</td>\n",
       "    </tr>\n",
       "    <tr>\n",
       "      <th>FL_KIDS_F1</th>\n",
       "      <td>67.5</td>\n",
       "    </tr>\n",
       "    <tr>\n",
       "      <th>FL_MATERIAL_DE_CONSTRUCAO_F1</th>\n",
       "      <td>67.0</td>\n",
       "    </tr>\n",
       "    <tr>\n",
       "      <th>FL_ENTRETENIMENTO_F1</th>\n",
       "      <td>65.8</td>\n",
       "    </tr>\n",
       "    <tr>\n",
       "      <th>FL_ARTIGOS_ELETRONICOS_F4</th>\n",
       "      <td>65.0</td>\n",
       "    </tr>\n",
       "    <tr>\n",
       "      <th>total_ARTIGOS_ELETRONICOS_F4_m4</th>\n",
       "      <td>61.1</td>\n",
       "    </tr>\n",
       "    <tr>\n",
       "      <th>FL_VIAGEM_E_TURISMO_F4</th>\n",
       "      <td>56.3</td>\n",
       "    </tr>\n",
       "    <tr>\n",
       "      <th>FL_ELETRODOMESTICO_F2</th>\n",
       "      <td>54.5</td>\n",
       "    </tr>\n",
       "    <tr>\n",
       "      <th>total_PET_SHOP_F4_m4</th>\n",
       "      <td>54.1</td>\n",
       "    </tr>\n",
       "  </tbody>\n",
       "</table>\n",
       "</div>"
      ],
      "text/plain": [
       "                                 Rank 3 - Diferença percentual da média (%)\n",
       "FL_BEM_ESTAR_F3                                                        72.7\n",
       "CD_Cartao_6m                                                           71.8\n",
       "FL_KIDS_F1                                                             67.5\n",
       "FL_MATERIAL_DE_CONSTRUCAO_F1                                           67.0\n",
       "FL_ENTRETENIMENTO_F1                                                   65.8\n",
       "FL_ARTIGOS_ELETRONICOS_F4                                              65.0\n",
       "total_ARTIGOS_ELETRONICOS_F4_m4                                        61.1\n",
       "FL_VIAGEM_E_TURISMO_F4                                                 56.3\n",
       "FL_ELETRODOMESTICO_F2                                                  54.5\n",
       "total_PET_SHOP_F4_m4                                                   54.1"
      ]
     },
     "metadata": {},
     "output_type": "display_data"
    }
   ],
   "source": [
    "print('Rank completo: Diferença percentual da média - grupo de renovação'); print()\n",
    "for i in range(1, 4):\n",
    "    a = prct_dif[col_rank==i].to_frame(f'Rank {i} - Diferença percentual da média (%)') * 100\n",
    "    display(a.round(1))"
   ]
  },
  {
   "cell_type": "markdown",
   "metadata": {},
   "source": [
    "Conclusões:\n",
    "\n",
    "1. Renovação à distância de um clique.\n",
    "2. Em ligação, a oferta só tem uma chance. No aplicativo, a oferta terá presença contínua (Mais oportunidade para o cliente renovar, mais renovação)\n",
    "3. Clientes que renovam tem duração de chamada acima da média. Isso mostra que os clientes precisam de informação para sentirem segurança e adiquirir a renovação.\n",
    "    1. É limitidada a quantidade e qualidade de informação que pode ser passada pelo atendente por ligação de voz.\n",
    "    2. Pelo app, o cliente pode conferir todas as informações da renovação com facilidade.\n",
    "    3. Além disso, podem ser oferecidas opções, vantagens e personalização, tudo no mesmo lugar.\n"
   ]
  },
  {
   "cell_type": "markdown",
   "metadata": {},
   "source": [
    "---\n",
    "# Código ultrapassado"
   ]
  },
  {
   "cell_type": "code",
   "execution_count": null,
   "metadata": {},
   "outputs": [],
   "source": [
    "#### Carregando dados\n",
    "\n",
    "import warnings\n",
    "warnings.filterwarnings('ignore')\n",
    "\n",
    "import pandas as pd, numpy as np\n",
    "import matplotlib.pyplot as plt, seaborn as sns; sns.set()\n",
    "\n",
    "from google.cloud.bigquery import Client, QueryJobConfig\n",
    "client = Client()\n",
    "query = \"\"\"SELECT * FROM `hacka-dados.hacka_dados.tabela_dados_hacka`\"\"\"\n",
    "job = client.query(query)\n",
    "df = job.to_dataframe()\n",
    "\n",
    "## Limpeza\n",
    "\n",
    "#### Notação de células vazias\n",
    "\n",
    "def uniform_missing_values(df, notacoes=['nan', '']):\n",
    "    obj_cols = df.columns[df.dtypes=='object']\n",
    "    for col in obj_cols:\n",
    "        for value in notacoes:\n",
    "            df[col] = df[col].replace(value, np.nan)\n",
    "    return df\n",
    "\n",
    "df = uniform_missing_values(df, notacoes=['nan', ''])\n",
    "\n",
    "# Descomente para conferir valores diferentes para notações ou conferir substituição (se já foi feita).\n",
    "# for col in obj_cols: print(f'{col}: {df[col].unique()}'); print()\n",
    "\n",
    "#### Células vazias e nulas por coluna\n",
    "\n",
    "empty = df.isna().sum().nlargest(df.shape[1]) / df.shape[0]\n",
    "null = (df==0).sum().nlargest(df.shape[1]) / df.shape[0]\n",
    "\n",
    "fig, ax = plt.subplots(figsize=(6, 3.5))\n",
    "empty.plot()\n",
    "null.plot() # descomente para incluir valores nulos\n",
    "(empty+null.loc[empty.index]).plot() # descomente para incluir valores nulos\n",
    "ax.set(\n",
    "    xticks=[],\n",
    "    xlabel='Colunas',\n",
    "    ylabel='Células (%)',\n",
    "    title='Células vazias e nulas por coluna (%)',\n",
    ")\n",
    "ax.legend(['Vazios (%)', 'Nulos (%)', 'Vazios+Nulos]); plt.show()\n",
    "\n",
    "null.head(3)\n",
    "\n",
    "#### Células vazias e nulas por linha\n",
    "\n",
    "empty = df.isna().sum(1).nlargest(df.shape[0]) / df.shape[1]\n",
    "null = (df==0).sum(1).nlargest(df.shape[0]) / df.shape[1]\n",
    "\n",
    "fig, ax = plt.subplots(figsize=(6, 3.5))\n",
    "ax.plot(np.percentile(empty, range(100)))\n",
    "ax.plot(np.percentile(null, range(100)))\n",
    "ax.set(\n",
    "    xticks=[],\n",
    "    xlabel='Células (%)',\n",
    "    ylabel='Linhas (%)',\n",
    "    title='Percentil vazios/nulos por linha (%/%)',\n",
    ")\n",
    "ax.legend(['Vazios (%)', 'Nulos (%) dentre não vazios']); plt.show()\n",
    "\n",
    "---\n",
    "## Modelagem preliminar de classificação da renovação\n",
    "\n",
    "# pessoal não se assuntem, copiei de outro projeto meu pra datasets desbalanceados\n",
    "\n",
    "### Transformação de dados\n",
    "\n",
    "data = df.copy()\n",
    "\n",
    "# extract columns for each data type\n",
    "int_cols, obj_cols, float_cols = (\n",
    "    data.select_dtypes([datatype]).columns.tolist() for datatype in ('int64', 'object', 'float')\n",
    ")\n",
    "\n",
    "# fill missing values for float columns\n",
    "for col in float_cols:\n",
    "    # data[col].fillna(data[col].mean(), inplace=True)\n",
    "    data[col].fillna(0, inplace=True)\n",
    "\n",
    "# import preprocessing functions\n",
    "from sklearn.preprocessing import LabelEncoder as le, MinMaxScaler as mms\n",
    "\n",
    "#### Label Encode Categorical (+ Integer) Columns\n",
    "for col in obj_cols + int_cols:\n",
    "    data[col] = le().fit_transform(data[col]) # fill missing values automatically\n",
    "\n",
    "#### Scale Float Columns\n",
    "data[float_cols] = mms().fit_transform(data[float_cols]) # eliminates negative values\n",
    "\n",
    "### Defina a variável dependente\n",
    "\n",
    "target = 'fl_renovou'\n",
    "\n",
    "# define X and Y\n",
    "Y = data[target].copy()\n",
    "X = data.drop(target, 1).copy()\n",
    "    \n",
    "# target variable classes' count\n",
    "display(Y.value_counts().rename('Target variable class count').to_frame())\n",
    "\n",
    "### Under sampling\n",
    "\n",
    "from módulos.splitter import UnderSampleSplit\n",
    "from módulos.cv_samplers import print_cls_cnt\n",
    "\n",
    "uss = UnderSampleSplit(\n",
    "    train_size=0.8, train_prct=1,\n",
    "    test_size=0.2, test_prct=None,\n",
    "    replace=False, shuffle=True,\n",
    "    random_state=None\n",
    ")\n",
    "train_index, test_index = uss.train_test_undersample(Y, random_state=0)\n",
    "xt, xe, yt, ye = X.loc[train_index], X.loc[test_index], Y.loc[train_index], Y.loc[test_index], \n",
    "print_cls_cnt(Y, train_index, test_index)\n",
    "\n",
    "cv = uss.split(Y, n_splits=10, param_list=None) # under sampling \n",
    "# for i in range(5): cv[i] = (cv[i][0], test_index) # to force same test set\n",
    "\n",
    "left_index = set(Y.index).difference(train_index)\n",
    "\n",
    "### Modelos e metricas de avaliação\n",
    "\n",
    "# define model collection\n",
    "from sklearn.utils import all_estimators\n",
    "classifiers = dict(all_estimators('classifier'))\n",
    "\n",
    "#### define score functions\n",
    "import sklearn.metrics as metrics\n",
    "recall_0, recall_1 = (metrics.make_scorer(metrics.recall_score, pos_label=label) for label in (0,1))\n",
    "precision_0, precision_1 = (metrics.make_scorer(metrics.precision_score, pos_label=label) for label in (0,1))\n",
    "scoring = {\n",
    "    'accuracy': 'accuracy', 'f1_macro': 'f1_macro',\n",
    "    'recall_macro': 'recall_macro', 'precision_macro': 'precision_macro',\n",
    "    'recall_0': recall_0, 'recall_1': recall_1,\n",
    "    'precision_0': precision_0, 'precision_1': precision_1,\n",
    "}\n",
    "\n",
    "### Comparando shuffle splits aleatorios\n",
    "\n",
    "modelname = 'GradientBoostingClassifier' # 'DecisionTreeClassifier', 'LinearSVC', 'LogisticRegression',\n",
    "Model = classifiers[modelname]\n",
    "model = Model(n_estimators=100, random_state=0)\n",
    "\n",
    "#### score cross validation splits\n",
    "from sklearn.model_selection import cross_validate\n",
    "model_scrs = cross_validate(\n",
    "    model, X, Y, cv=cv,\n",
    "    scoring=scoring,\n",
    "    groups=None,\n",
    "    n_jobs=-1,\n",
    "    pre_dispatch='all',\n",
    "    verbose=5\n",
    ")\n",
    "\n",
    "scrs_df = pd.DataFrame({scr: model_scrs['test_'+scr] for scr in scoring})\n",
    "scrs_df.index.name='cv split'\n",
    "\n",
    "#### Scores médios\n",
    "\n",
    "scrs_df.agg([np.mean, np.var])#.to_frame('mean').T\n",
    "\n",
    "#### Scores por split\n",
    "\n",
    "scrs_df\n",
    "\n",
    "### Curvas de aprendizado Shuffle splits\n",
    "\n",
    "from sklearn.model_selection import learning_curve\n",
    "order=2\n",
    "train_sizes = np.linspace(0.1, 1, 11)**order\n",
    "# Calculate recall learning curves per class\n",
    "lc_0, lc_1 = ( learning_curve(\n",
    "    model,\n",
    "    X, Y,\n",
    "    train_sizes=train_sizes,\n",
    "    cv=cv,\n",
    "    scoring=[recall_0, recall_1][i],\n",
    "    groups=None,\n",
    "    random_state=0,\n",
    "    shuffle=True,\n",
    "    verbose=5,\n",
    "    n_jobs=-1,\n",
    "    pre_dispatch='all',\n",
    "    error_score='raise'\n",
    ") for i in (0, 1) )\n",
    "\n",
    "### Plot recall learning curves\n",
    "for lc_df, cls_label in zip([lc_0, lc_1], ['class 0', 'class 1']):\n",
    "    train_lc, test_lc = (pd.DataFrame(lc_df[i], index=lc_df[0]) for i in [1,2])\n",
    "    fig, ax = plt.subplots(1,2, figsize=(9,3), tight_layout=True)\n",
    "    ax[0].plot(train_lc)\n",
    "    ax[1].plot(test_lc)\n",
    "    for i, label in zip([0,1], ['train set', 'test set']):\n",
    "        ax[i].set(\n",
    "            title=f'Cross Validation Splits´ Learning Curves - {label}',\n",
    "            ylabel=f'Recall - {cls_label}',\n",
    "            xlabel='Train size (nº of samples)'\n",
    "        )\n",
    "    plt.show()\n",
    "\n",
    "---\n",
    "#### Instalações\n",
    "\n",
    "!pip install imblearn"
   ]
  }
 ],
 "metadata": {
  "kernelspec": {
   "display_name": "Python 3",
   "language": "python",
   "name": "python3"
  },
  "language_info": {
   "codemirror_mode": {
    "name": "ipython",
    "version": 3
   },
   "file_extension": ".py",
   "mimetype": "text/x-python",
   "name": "python",
   "nbconvert_exporter": "python",
   "pygments_lexer": "ipython3",
   "version": "3.8.3"
  }
 },
 "nbformat": 4,
 "nbformat_minor": 4
}
