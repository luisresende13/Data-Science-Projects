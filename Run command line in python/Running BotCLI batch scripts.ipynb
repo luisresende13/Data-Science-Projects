{
 "cells": [
  {
   "cell_type": "code",
   "execution_count": null,
   "metadata": {},
   "outputs": [],
   "source": [
    "import subprocess, os\n",
    "\n",
    "#### Examples\n",
    "# subprocess.call([r'C:\\path\\to\\batch\\file.bat']) # run batch file\n",
    "# os.system('cmd /k \"color a & date\"') # example to run terminal command (and keep terminal open)\n",
    "# os.system('cmd /c \"color a & date\"') # example to run terminal command"
   ]
  },
  {
   "cell_type": "markdown",
   "metadata": {},
   "source": [
    "References:\n",
    "1. https://datatofish.com/batch-file-from-python/\n",
    "2. https://datatofish.com/command-prompt-python/"
   ]
  },
  {
   "cell_type": "markdown",
   "metadata": {},
   "source": [
    "#### Testing commands"
   ]
  },
  {
   "cell_type": "code",
   "execution_count": 8,
   "metadata": {},
   "outputs": [
    {
     "data": {
      "text/plain": [
       "1"
      ]
     },
     "execution_count": 8,
     "metadata": {},
     "output_type": "execute_result"
    }
   ],
   "source": [
    "os.system('cmd /k \"dir\"')"
   ]
  },
  {
   "cell_type": "markdown",
   "metadata": {},
   "source": [
    "#### Define functions to finish task by task id"
   ]
  },
  {
   "cell_type": "code",
   "execution_count": null,
   "metadata": {},
   "outputs": [],
   "source": [
    "def finish_task(task_id):\n",
    "    finish_task_cmd = 'BotCLI task finish -taskId {}'\n",
    "    os.system(f'cmd /k \"{finish_task_cmd.format(task_id)}\"')"
   ]
  },
  {
   "cell_type": "code",
   "execution_count": null,
   "metadata": {},
   "outputs": [],
   "source": [
    "def finish_tasks(first, last):\n",
    "    for task_id in range(first, last+1):\n",
    "        finish_task(task_id)"
   ]
  },
  {
   "cell_type": "markdown",
   "metadata": {},
   "source": [
    "#### Looping task ids"
   ]
  },
  {
   "cell_type": "code",
   "execution_count": null,
   "metadata": {},
   "outputs": [],
   "source": [
    "first_task_id = 102537\n",
    "last_task_id = 102783\n",
    "\n",
    "finish_tasks(first_task_id, lst_task_id)"
   ]
  }
 ],
 "metadata": {
  "kernelspec": {
   "display_name": "Python 3",
   "language": "python",
   "name": "python3"
  },
  "language_info": {
   "name": ""
  }
 },
 "nbformat": 4,
 "nbformat_minor": 4
}
