{
 "cells": [
  {
   "cell_type": "code",
   "execution_count": 1,
   "metadata": {},
   "outputs": [],
   "source": [
    "# Importing"
   ]
  },
  {
   "cell_type": "code",
   "execution_count": 561,
   "metadata": {},
   "outputs": [],
   "source": [
    "import pandas as pd\n",
    "import numpy as np\n",
    "import matplotlib.pyplot as plt\n",
    "import seaborn as sns\n",
    "import re\n"
   ]
  },
  {
   "cell_type": "code",
   "execution_count": 562,
   "metadata": {},
   "outputs": [],
   "source": [
    "pd.set_option('display.max_rows', None)"
   ]
  },
  {
   "cell_type": "code",
   "execution_count": 563,
   "metadata": {},
   "outputs": [],
   "source": [
    "from sklearn.preprocessing import MinMaxScaler, StandardScaler, LabelEncoder\n",
    "\n",
    "from sklearn.preprocessing import PolynomialFeatures\n",
    "\n",
    "from sklearn.metrics import r2_score, accuracy_score, confusion_matrix, classification_report, f1_score"
   ]
  },
  {
   "cell_type": "code",
   "execution_count": 2,
   "metadata": {},
   "outputs": [],
   "source": [
    "from sklearn.tree import DecisionTreeClassifier"
   ]
  },
  {
   "cell_type": "markdown",
   "metadata": {},
   "source": [
    "# Loading Time-Series"
   ]
  },
  {
   "cell_type": "code",
   "execution_count": 502,
   "metadata": {},
   "outputs": [],
   "source": [
    "time = pd.read_csv('\\\\Users\\luisr\\Desktop\\Repository\\IBM_courses\\Course Work\\Assignments\\Final Capstone Project\\\\rio dataframes\\\\Outside Data\\\\raw\\\\bairros\\\\timeserie_energia_economia_extended.csv')"
   ]
  },
  {
   "cell_type": "markdown",
   "metadata": {},
   "source": [
    "# Cleaning"
   ]
  },
  {
   "cell_type": "code",
   "execution_count": 503,
   "metadata": {},
   "outputs": [],
   "source": [
    "time.dropna(how='all', inplace=True, axis=1)"
   ]
  },
  {
   "cell_type": "code",
   "execution_count": 504,
   "metadata": {},
   "outputs": [],
   "source": [
    "for col in time.columns[2:]: time[col] = time[col].fillna(time[col].mean())"
   ]
  },
  {
   "cell_type": "code",
   "execution_count": 505,
   "metadata": {},
   "outputs": [],
   "source": [
    "keep = []\n",
    "\n",
    "for i in time.Bairros:\n",
    "    \n",
    "    if len(i.split())>2:    \n",
    "        \n",
    "        if i.split()[2]=='planejamento': keep.append(False)\n",
    "        else: keep.append(True)\n",
    "            \n",
    "    else: \n",
    "        if i=='total': keep.append(False)\n",
    "        else: keep.append(True)"
   ]
  },
  {
   "cell_type": "code",
   "execution_count": 506,
   "metadata": {},
   "outputs": [],
   "source": [
    "time = time[keep]"
   ]
  },
  {
   "cell_type": "markdown",
   "metadata": {},
   "source": [
    "# Feature Selection"
   ]
  },
  {
   "cell_type": "markdown",
   "metadata": {},
   "source": [
    "#### Note: Remember to Fill missing values with means of same neighborhood"
   ]
  },
  {
   "cell_type": "code",
   "execution_count": 507,
   "metadata": {},
   "outputs": [],
   "source": [
    "targets = ['Consumo de energia elétrica (MWh)', 'Residencial_x',        # Energy related variables\n",
    "       'Industrial_x', 'Comercial', 'Rural_x', 'Poder público ',\n",
    "       'Iluminacão pública', 'Serv.público_x', 'Consumo próprio_x',\n",
    "       'Consumo resdencial de energia elétrica (MWh)',\n",
    "       'Médio anual por unidade consumidora  ',\n",
    "       'Total de unidades consumidoras  residenciais ', 'Total_y.1',\n",
    "       'Residencial_y', 'Industrial_y', 'Comercial ', 'Rural_y',\n",
    "       'Poderes públicos ', 'Iluminação pública', 'Serv.público_y',\n",
    "       'Consumo próprio_y']"
   ]
  },
  {
   "cell_type": "code",
   "execution_count": 517,
   "metadata": {},
   "outputs": [],
   "source": [
    "i=-1"
   ]
  },
  {
   "cell_type": "code",
   "execution_count": 519,
   "metadata": {},
   "outputs": [],
   "source": [
    "i+=1\n",
    "target = targets[i]"
   ]
  },
  {
   "cell_type": "code",
   "execution_count": 513,
   "metadata": {},
   "outputs": [
    {
     "name": "stdout",
     "output_type": "stream",
     "text": [
      "3 Comercial\n"
     ]
    }
   ],
   "source": [
    "print(i, target)"
   ]
  },
  {
   "cell_type": "markdown",
   "metadata": {},
   "source": [
    "### X and Y Definition:"
   ]
  },
  {
   "cell_type": "code",
   "execution_count": 522,
   "metadata": {},
   "outputs": [],
   "source": [
    "x = time.drop(targets, axis=1).iloc[:, 2:]"
   ]
  },
  {
   "cell_type": "code",
   "execution_count": 523,
   "metadata": {},
   "outputs": [],
   "source": [
    "y = time[[target]]"
   ]
  },
  {
   "cell_type": "markdown",
   "metadata": {},
   "source": [
    "# Feature Encoding"
   ]
  },
  {
   "cell_type": "markdown",
   "metadata": {},
   "source": [
    "#### Choosing Intervals for Categories"
   ]
  },
  {
   "cell_type": "code",
   "execution_count": 376,
   "metadata": {},
   "outputs": [],
   "source": [
    "bins = [y[target].min()-1, 26000, 67000, 102000, 176000, 250000, y[target].max()+1]\n",
    "labels=['A', 'B', 'C', 'D', 'E', 'F']"
   ]
  },
  {
   "cell_type": "code",
   "execution_count": 498,
   "metadata": {},
   "outputs": [],
   "source": [
    "y_cat = pd.cut(y[target], bins, right=True, labels=labels)"
   ]
  },
  {
   "cell_type": "code",
   "execution_count": null,
   "metadata": {},
   "outputs": [],
   "source": [
    "y.plot.hist(bins=150, figsize=(22, 10))            # Used to determine the boundary between between  newlabels\n",
    "\n",
    "plt.xticks(np.linspace(-1e4, 3e5,31), fontsize=11)\n",
    "plt.grid()"
   ]
  },
  {
   "cell_type": "code",
   "execution_count": 524,
   "metadata": {},
   "outputs": [
    {
     "data": {
      "text/plain": [
       "[[<matplotlib.lines.Line2D at 0x26b021e8b20>],\n",
       " [<matplotlib.lines.Line2D at 0x26b02232eb0>],\n",
       " [<matplotlib.lines.Line2D at 0x26b02232280>],\n",
       " [<matplotlib.lines.Line2D at 0x26b02189340>],\n",
       " [<matplotlib.lines.Line2D at 0x26b021894f0>],\n",
       " [<matplotlib.lines.Line2D at 0x26b7f713670>],\n",
       " [<matplotlib.lines.Line2D at 0x26b02551f40>]]"
      ]
     },
     "execution_count": 524,
     "metadata": {},
     "output_type": "execute_result"
    },
    {
     "data": {
      "image/png": "[encoded data removed]",
      "text/plain": [
       "<Figure size 576x360 with 1 Axes>"
      ]
     },
     "metadata": {},
     "output_type": "display_data"
    }
   ],
   "source": [
    "fig = plt.figure()                               # Used to visualize new labels intervals.\n",
    "ax0 = fig.add_subplot(111)\n",
    "\n",
    "y.plot(kind='hist', bins=40, figsize=(8,5), ax=ax0)\n",
    "u = np.linspace(0,235,100)\n",
    "[ax0.plot(u*0+bins[i], u, color='orange') for i in range(len(bins))]\n",
    "plt.show()"
   ]
  },
  {
   "cell_type": "markdown",
   "metadata": {},
   "source": [
    "#### Optional: Encoding with Ordinal Encoder"
   ]
  },
  {
   "cell_type": "markdown",
   "metadata": {},
   "source": [
    "### Note: Test wether ordinal encoded y is working here"
   ]
  },
  {
   "cell_type": "code",
   "execution_count": 99,
   "metadata": {},
   "outputs": [],
   "source": [
    "from sklearn.preprocessing import OrdinalEncoder"
   ]
  },
  {
   "cell_type": "code",
   "execution_count": 499,
   "metadata": {},
   "outputs": [],
   "source": [
    "y_cod = OrdinalEncoder().fit_transform(y_cat.to_frame())"
   ]
  },
  {
   "cell_type": "code",
   "execution_count": 500,
   "metadata": {},
   "outputs": [],
   "source": [
    "y_cat = pd.Series(y_cod.ravel())\n"
   ]
  },
  {
   "cell_type": "code",
   "execution_count": 384,
   "metadata": {},
   "outputs": [
    {
     "data": {
      "text/plain": [
       "<matplotlib.axes._subplots.AxesSubplot at 0x26b025121f0>"
      ]
     },
     "execution_count": 384,
     "metadata": {},
     "output_type": "execute_result"
    },
    {
     "data": {
      "image/png": "[encoded data removed]",
      "text/plain": [
       "<Figure size 432x288 with 1 Axes>"
      ]
     },
     "metadata": {},
     "output_type": "display_data"
    }
   ],
   "source": [
    "y_cat.value_counts().plot(kind='bar')"
   ]
  },
  {
   "cell_type": "markdown",
   "metadata": {},
   "source": [
    "# Log Transformation"
   ]
  },
  {
   "cell_type": "code",
   "execution_count": 382,
   "metadata": {},
   "outputs": [],
   "source": [
    "#y = y.apply(np.log1p)"
   ]
  },
  {
   "cell_type": "code",
   "execution_count": 383,
   "metadata": {},
   "outputs": [],
   "source": [
    "x = x.apply(np.log1p)"
   ]
  },
  {
   "cell_type": "markdown",
   "metadata": {},
   "source": [
    "# Normalization"
   ]
  },
  {
   "cell_type": "code",
   "execution_count": 385,
   "metadata": {},
   "outputs": [],
   "source": [
    "scaler = MinMaxScaler()\n",
    "x_norm = scaler.fit_transform(x)\n",
    "#y_norm = scaler.fit_transform(y)"
   ]
  },
  {
   "cell_type": "markdown",
   "metadata": {},
   "source": [
    "scaler = StandardScaler()\n",
    "x_norm = scaler.fit_transform(x)\n",
    "y_norm = scaler.fit_transform(y)"
   ]
  },
  {
   "cell_type": "markdown",
   "metadata": {},
   "source": [
    "x_norm = StandardScaler().fit_transform(x)\n",
    "y_norm = StandardScaler().fit_transform(y)"
   ]
  },
  {
   "cell_type": "markdown",
   "metadata": {},
   "source": [
    "# Modeling: Decision Tree Classifier"
   ]
  },
  {
   "cell_type": "markdown",
   "metadata": {},
   "source": [
    "### Optimizing Maximum Tree Depth Parameter"
   ]
  },
  {
   "cell_type": "code",
   "execution_count": 453,
   "metadata": {},
   "outputs": [],
   "source": [
    "msk = np.random.rand(len(y))<0.8\n",
    "x_train, y_train, x_test, y_test = x_norm[msk], y_cat[msk], x_norm[~msk], y_cat[~msk]\n",
    "\n",
    "scrs = []\n",
    "for i in range(1, 50):    \n",
    "    \n",
    "    tree = DecisionTreeClassifier(criterion='entropy', max_depth=i).fit(x_train, y_train)\n",
    "    \n",
    "    y_pred = tree.predict(x_test)\n",
    "    \n",
    "    scrs.append([i, accuracy_score(y_test, y_pred)])\n",
    "    \n",
    "    if i in range(1, 50, 5): print(i)\n",
    "\n",
    "scrs_df = pd.DataFrame(scrs, columns=['max depth', 'score'])\n",
    "\n",
    "scrs_df.plot(x='max depth', y='score', figsize=(8,5))\n",
    "plt.legend(loc='lower right', fontsize=14)\n",
    "plt.xticks(np.arange(-1, 50, 2))\n",
    "plt.grid()"
   ]
  },
  {
   "cell_type": "markdown",
   "metadata": {},
   "source": [
    "#### Optimum Max Depth Param for entropy criterion: 6"
   ]
  },
  {
   "cell_type": "markdown",
   "metadata": {},
   "source": [
    "## Modeling: Decision Tree classifier"
   ]
  },
  {
   "cell_type": "code",
   "execution_count": 475,
   "metadata": {},
   "outputs": [
    {
     "data": {
      "text/plain": [
       "0.9378238341968912"
      ]
     },
     "execution_count": 475,
     "metadata": {},
     "output_type": "execute_result"
    }
   ],
   "source": [
    "msk = np.random.rand(len(y))<0.8\n",
    "x_train, y_train, x_test, y_test = x_norm[msk], y_cat[msk], x_norm[~msk], y_cat[~msk]\n",
    " \n",
    "\n",
    "tree = DecisionTreeClassifier(criterion='entropy', max_depth=9).fit(x_train, y_train)\n",
    "    \n",
    "y_pred = tree.predict(x_test)\n",
    "\n",
    "round(accuracy_score(y_test, y_pred), 5)"
   ]
  },
  {
   "cell_type": "code",
   "execution_count": 477,
   "metadata": {},
   "outputs": [],
   "source": [
    "feature_importance = pd.DataFrame(tree.feature_importances_, index=x.columns)\n",
    "\n",
    "feature_importance[0].sort_values(ascending=True).tail(20).plot(kind='barh', figsize=(12,10), legend='Feature Importance')"
   ]
  }
 ],
 "metadata": {
  "kernelspec": {
   "display_name": "Python 3",
   "language": "python",
   "name": "python3"
  },
  "language_info": {
   "codemirror_mode": {
    "name": "ipython",
    "version": 3
   },
   "file_extension": ".py",
   "mimetype": "text/x-python",
   "name": "python",
   "nbconvert_exporter": "python",
   "pygments_lexer": "ipython3",
   "version": "3.8.3"
  }
 },
 "nbformat": 4,
 "nbformat_minor": 4
}
