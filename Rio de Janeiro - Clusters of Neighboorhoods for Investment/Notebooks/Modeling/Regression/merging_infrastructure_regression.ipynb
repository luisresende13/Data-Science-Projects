{
 "cells": [
  {
   "cell_type": "code",
   "execution_count": 2,
   "metadata": {},
   "outputs": [],
   "source": [
    "import pandas as pd\n",
    "import numpy as np\n",
    "import matplotlib.pyplot as plt\n",
    "import seaborn as sns\n",
    "import re"
   ]
  },
  {
   "cell_type": "code",
   "execution_count": 4,
   "metadata": {},
   "outputs": [],
   "source": [
    "pd.set_option('display.max_rows', None)"
   ]
  },
  {
   "cell_type": "code",
   "execution_count": 22,
   "metadata": {},
   "outputs": [],
   "source": [
    "def is_not_in(dfs, keys=range(len(dfs))):\n",
    "\n",
    "    unis = [dfs[i].iloc[:,0].unique() for i in keys]\n",
    "\n",
    "    not_in = []\n",
    "    for i in range(len(keys)):\n",
    "        for j in range(len(keys)):\n",
    "        \n",
    "            if i!=j:\n",
    "            \n",
    "                not_in.append([i, j, unis[i][[str(o).lower().strip().replace('á','a')\n",
    "                                              .replace('é','e')\n",
    "                                              .replace('í','i')\n",
    "                                              .replace('ó','o')\n",
    "                                              .replace('ú','u') not in [str(l).lower().strip().replace('á','a')\n",
    "                                                                         .replace('é','e')\n",
    "                                                                         .replace('í','i')\n",
    "                                                                         .replace('ó','o')\n",
    "                                                                         .replace('ú','u') for l in unis[j].tolist()] for o in unis[i].tolist()]]])\n",
    "\n",
    "    return not_in\n",
    "            "
   ]
  },
  {
   "cell_type": "markdown",
   "metadata": {},
   "source": [
    "# Loading Infrastructure Tables"
   ]
  },
  {
   "cell_type": "code",
   "execution_count": 12,
   "metadata": {},
   "outputs": [],
   "source": [
    "energy = pd.read_csv('\\\\Users\\luisr\\Desktop\\Repository\\IBM_courses\\Course Work\\Assignments\\Final Capstone Project\\\\rio dataframes\\\\Outside Data\\\\raw\\\\bairros\\\\infraestrutura\\\\clean\\\\energia_complete.csv')"
   ]
  },
  {
   "cell_type": "code",
   "execution_count": 3,
   "metadata": {},
   "outputs": [],
   "source": [
    "domis2 = pd.read_csv('\\\\Users\\luisr\\Desktop\\Repository\\IBM_courses\\Course Work\\Assignments\\Final Capstone Project\\\\rio dataframes\\\\Outside Data\\\\raw\\\\bairros\\\\infraestrutura\\\\clean\\\\domicilios2_clean.csv')"
   ]
  },
  {
   "cell_type": "markdown",
   "metadata": {},
   "source": []
  },
  {
   "cell_type": "code",
   "execution_count": null,
   "metadata": {},
   "outputs": [],
   "source": []
  },
  {
   "cell_type": "code",
   "execution_count": 5,
   "metadata": {},
   "outputs": [
    {
     "data": {
      "text/plain": [
       "(1347, 23)"
      ]
     },
     "execution_count": 5,
     "metadata": {},
     "output_type": "execute_result"
    }
   ],
   "source": [
    "energy.shape"
   ]
  },
  {
   "cell_type": "code",
   "execution_count": 6,
   "metadata": {},
   "outputs": [
    {
     "data": {
      "text/plain": [
       "(229, 34)"
      ]
     },
     "execution_count": 6,
     "metadata": {},
     "output_type": "execute_result"
    }
   ],
   "source": [
    "domis2.shape"
   ]
  },
  {
   "cell_type": "code",
   "execution_count": 49,
   "metadata": {},
   "outputs": [],
   "source": [
    "dfs = [energy, domis2]"
   ]
  },
  {
   "cell_type": "code",
   "execution_count": 50,
   "metadata": {},
   "outputs": [],
   "source": [
    "dfs.append(energy.groupby(energy.columns[0], as_index=False, sort=False).mean())"
   ]
  },
  {
   "cell_type": "code",
   "execution_count": 51,
   "metadata": {},
   "outputs": [],
   "source": [
    "infra = pd.merge(dfs[1], dfs[2], on=dfs[0].columns[0])"
   ]
  },
  {
   "cell_type": "code",
   "execution_count": 54,
   "metadata": {},
   "outputs": [
    {
     "data": {
      "text/plain": [
       "((74, 56), (1347, 23), (229, 34), (99, 23))"
      ]
     },
     "execution_count": 54,
     "metadata": {},
     "output_type": "execute_result"
    }
   ],
   "source": [
    "infra.shape, dfs[0].shape, dfs[1].shape, dfs[2].shape"
   ]
  },
  {
   "cell_type": "markdown",
   "metadata": {},
   "source": [
    "# Saving/Loading Complete Infrastructre Table"
   ]
  },
  {
   "cell_type": "code",
   "execution_count": 61,
   "metadata": {},
   "outputs": [],
   "source": [
    "#infra.to_csv('\\\\Users\\luisr\\Desktop\\Repository\\IBM_courses\\Course Work\\Assignments\\Final Capstone Project\\\\rio dataframes\\\\Outside Data\\\\raw\\\\bairros\\\\infraestrutura\\\\clean\\\\infrastructure_complete.csv', index=False)"
   ]
  },
  {
   "cell_type": "code",
   "execution_count": 3,
   "metadata": {},
   "outputs": [],
   "source": [
    "infra = pd.read_csv('\\\\Users\\luisr\\Desktop\\Repository\\IBM_courses\\Course Work\\Assignments\\Final Capstone Project\\\\rio dataframes\\\\Outside Data\\\\raw\\\\bairros\\\\infraestrutura\\\\clean\\\\infrastructure_complete.csv')"
   ]
  },
  {
   "cell_type": "code",
   "execution_count": null,
   "metadata": {},
   "outputs": [],
   "source": []
  },
  {
   "cell_type": "markdown",
   "metadata": {},
   "source": [
    "# Exploratory Analysis"
   ]
  },
  {
   "cell_type": "markdown",
   "metadata": {},
   "source": [
    "## Feature Visualization"
   ]
  },
  {
   "cell_type": "code",
   "execution_count": null,
   "metadata": {},
   "outputs": [],
   "source": [
    "target=''"
   ]
  },
  {
   "cell_type": "code",
   "execution_count": 10,
   "metadata": {},
   "outputs": [
    {
     "data": {
      "text/plain": [
       "<matplotlib.axes._subplots.AxesSubplot at 0x125306f3f40>"
      ]
     },
     "execution_count": 10,
     "metadata": {},
     "output_type": "execute_result"
    },
    {
     "data": {
      "image/png": "[encoded data removed]",
      "text/plain": [
       "<Figure size 432x288 with 2 Axes>"
      ]
     },
     "metadata": {
      "needs_background": "light"
     },
     "output_type": "display_data"
    }
   ],
   "source": [
    "sns.heatmap(data=infra.mean().sort_values(ascending=False).to_frame())\n"
   ]
  },
  {
   "cell_type": "code",
   "execution_count": 537,
   "metadata": {},
   "outputs": [],
   "source": [
    "i=-1"
   ]
  },
  {
   "cell_type": "code",
   "execution_count": 738,
   "metadata": {},
   "outputs": [
    {
     "name": "stdout",
     "output_type": "stream",
     "text": [
      "4 banheiros ou mais 11\n"
     ]
    },
    {
     "data": {
      "text/plain": [
       "<matplotlib.axes._subplots.AxesSubplot at 0x1d96b84b6a0>"
      ]
     },
     "execution_count": 738,
     "metadata": {},
     "output_type": "execute_result"
    },
    {
     "data": {
      "image/png": "[encoded data removed]",
      "text/plain": [
       "<Figure size 432x288 with 1 Axes>"
      ]
     },
     "metadata": {
      "needs_background": "light"
     },
     "output_type": "display_data"
    }
   ],
   "source": [
    "i+=1\n",
    "print(infra.columns[i], i)\n",
    "\n",
    "infra[target].apply(np.log1p).plot(kind='kde', xlim=(0))"
   ]
  },
  {
   "cell_type": "code",
   "execution_count": null,
   "metadata": {},
   "outputs": [],
   "source": [
    "infra.corr()[target]"
   ]
  },
  {
   "cell_type": "code",
   "execution_count": null,
   "metadata": {},
   "outputs": [],
   "source": []
  },
  {
   "cell_type": "markdown",
   "metadata": {},
   "source": [
    "## Importing Machine Learning Modules"
   ]
  },
  {
   "cell_type": "code",
   "execution_count": 18,
   "metadata": {},
   "outputs": [],
   "source": [
    "from sklearn.linear_model import Ridge, Lasso, RidgeCV, LassoCV"
   ]
  },
  {
   "cell_type": "code",
   "execution_count": 19,
   "metadata": {},
   "outputs": [],
   "source": [
    "from sklearn.preprocessing import MinMaxScaler, StandardScaler"
   ]
  },
  {
   "cell_type": "code",
   "execution_count": 20,
   "metadata": {},
   "outputs": [],
   "source": [
    "from sklearn.preprocessing import PolynomialFeatures"
   ]
  },
  {
   "cell_type": "code",
   "execution_count": 21,
   "metadata": {},
   "outputs": [],
   "source": [
    "from sklearn.metrics import r2_score"
   ]
  },
  {
   "cell_type": "markdown",
   "metadata": {},
   "source": [
    "# Feature Selection"
   ]
  },
  {
   "cell_type": "code",
   "execution_count": 328,
   "metadata": {},
   "outputs": [],
   "source": [
    "target = 'Comercial'#'Industrial_x'\n",
    "y = infra[[target]].apply(np.log1p)"
   ]
  },
  {
   "cell_type": "code",
   "execution_count": 420,
   "metadata": {},
   "outputs": [],
   "source": [
    "x = infra.iloc[:, 1:].drop([target, 'Ano', 'Consumo de energia elétrica (MWh)', 'Comercial '], axis=1)"
   ]
  },
  {
   "cell_type": "code",
   "execution_count": 421,
   "metadata": {},
   "outputs": [],
   "source": [
    "for col in x: x[col] = np.log1p(x[col])"
   ]
  },
  {
   "cell_type": "code",
   "execution_count": 25,
   "metadata": {},
   "outputs": [],
   "source": [
    "skew_cols = infra.iloc[:, 1:].skew()"
   ]
  },
  {
   "cell_type": "code",
   "execution_count": null,
   "metadata": {},
   "outputs": [],
   "source": [
    "skew_cols.sort_values(ascending=False).to_frame().rename(columns={0:'Skew'})#.query('abs(Skew) < 0.75')"
   ]
  },
  {
   "cell_type": "markdown",
   "metadata": {},
   "source": [
    "# Normalization"
   ]
  },
  {
   "cell_type": "code",
   "execution_count": 422,
   "metadata": {},
   "outputs": [],
   "source": [
    "x_norm = MinMaxScaler().fit_transform(x)\n",
    "y_norm = MinMaxScaler().fit_transform(y)"
   ]
  },
  {
   "cell_type": "code",
   "execution_count": 210,
   "metadata": {},
   "outputs": [],
   "source": [
    "x_norm = StandardScaler().fit_transform(x)\n",
    "y_norm = StandardScaler().fit_transform(y)"
   ]
  },
  {
   "cell_type": "code",
   "execution_count": 216,
   "metadata": {},
   "outputs": [
    {
     "data": {
      "text/plain": [
       "(74, 74, 74)"
      ]
     },
     "execution_count": 216,
     "metadata": {},
     "output_type": "execute_result"
    }
   ],
   "source": [
    "len(x), len(x_norm), len(y_norm)"
   ]
  },
  {
   "cell_type": "markdown",
   "metadata": {},
   "source": [
    "# Polynomial Transformation"
   ]
  },
  {
   "cell_type": "code",
   "execution_count": 219,
   "metadata": {},
   "outputs": [],
   "source": [
    "x_poly_norm = PolynomialFeatures(degree=2, include_bias=False).fit_transform(x_norm)"
   ]
  },
  {
   "cell_type": "code",
   "execution_count": 211,
   "metadata": {},
   "outputs": [],
   "source": [
    "x_poly = PolynomialFeatures(degree=2, include_bias=False).fit_transform(x)"
   ]
  },
  {
   "cell_type": "code",
   "execution_count": 212,
   "metadata": {},
   "outputs": [
    {
     "data": {
      "text/plain": [
       "((74, 1484), (74, 1484), (74, 53))"
      ]
     },
     "execution_count": 212,
     "metadata": {},
     "output_type": "execute_result"
    }
   ],
   "source": [
    "x_poly_norm.shape, x_poly.shape, x.shape"
   ]
  },
  {
   "cell_type": "markdown",
   "metadata": {},
   "source": [
    "# Train Test Split"
   ]
  },
  {
   "cell_type": "code",
   "execution_count": 454,
   "metadata": {},
   "outputs": [],
   "source": [
    "scrs=[]\n",
    "for i in range(100): \n",
    "    msk = np.random.rand(len(y))<0.8\n",
    "\n",
    "    #x_train, y_train, x_test, y_test = x_norm[msk], y[msk], x_norm[~msk], y[~msk]\n",
    "    x_train, y_train, x_test, y_test = x_norm[msk], y_norm[msk], x_norm[~msk], y_norm[~msk]\n",
    "    xp_train, y_train, xp_test, y_test = x_poly_norm[msk], y_norm[msk], x_poly_norm[~msk], y_norm[~msk]\n",
    "\n",
    "    # Regression\n",
    "\n",
    "    ridge = Ridge(alpha=00.1)\n",
    "\n",
    "    ridge.fit(x_train, y_train)\n",
    "\n",
    "    y_pred = ridge.predict(x_test)\n",
    "\n",
    "# Evaluation\n",
    "\n",
    "    scrs.append(r2_score(y_test, y_pred))"
   ]
  },
  {
   "cell_type": "code",
   "execution_count": 455,
   "metadata": {},
   "outputs": [
    {
     "data": {
      "image/png": "[encoded data removed]",
      "text/plain": [
       "<Figure size 864x288 with 1 Axes>"
      ]
     },
     "metadata": {
      "needs_background": "light"
     },
     "output_type": "display_data"
    }
   ],
   "source": [
    "pd.DataFrame(scrs).plot(kind='kde', figsize=(12, 4))\n",
    "plt.xlabel('R²')\n",
    "plt.xticks(np.linspace(-3.4, 2.4, 30))\n",
    "plt.grid()"
   ]
  },
  {
   "cell_type": "code",
   "execution_count": 456,
   "metadata": {},
   "outputs": [],
   "source": [
    "coefs = ridge.coef_"
   ]
  },
  {
   "cell_type": "code",
   "execution_count": 457,
   "metadata": {},
   "outputs": [
    {
     "data": {
      "image/png": "[encoded data removed]",
      "text/plain": [
       "<Figure size 504x360 with 1 Axes>"
      ]
     },
     "metadata": {
      "needs_background": "light"
     },
     "output_type": "display_data"
    }
   ],
   "source": [
    "coefs_df = pd.Series(coefs.ravel())\n",
    "coefs_df.plot(marker='o', figsize=(7,5))\n",
    "plt.xticks()\n",
    "plt.grid()"
   ]
  },
  {
   "cell_type": "code",
   "execution_count": 413,
   "metadata": {},
   "outputs": [
    {
     "data": {
      "text/plain": [
       "52"
      ]
     },
     "execution_count": 413,
     "metadata": {},
     "output_type": "execute_result"
    }
   ],
   "source": [
    "len(coefs_df)"
   ]
  },
  {
   "cell_type": "code",
   "execution_count": 463,
   "metadata": {},
   "outputs": [],
   "source": [
    "high_coefs = []\n",
    "coefs_values = []\n",
    "\n",
    "for i in range(len(coefs_df)):\n",
    "    if np.abs(coefs.ravel()[i])>0.125: \n",
    "        high_coefs.append(i)\n",
    "        coefs_values.append(coefs.ravel()[i])"
   ]
  },
  {
   "cell_type": "code",
   "execution_count": 464,
   "metadata": {},
   "outputs": [
    {
     "data": {
      "text/plain": [
       "([28, 32, 33, 36, 37, 45, 49],\n",
       " [-0.15915925859955812,\n",
       "  0.14212082922700636,\n",
       "  0.12950377322107676,\n",
       "  0.21220874668796333,\n",
       "  0.14451859976449052,\n",
       "  0.16445479956595055,\n",
       "  0.16922549584464797])"
      ]
     },
     "execution_count": 464,
     "metadata": {},
     "output_type": "execute_result"
    }
   ],
   "source": [
    "high_coefs, coefs_values"
   ]
  },
  {
   "cell_type": "code",
   "execution_count": 491,
   "metadata": {},
   "outputs": [
    {
     "data": {
      "text/plain": [
       "<matplotlib.axes._subplots.AxesSubplot at 0x125340eff70>"
      ]
     },
     "execution_count": 491,
     "metadata": {},
     "output_type": "execute_result"
    },
    {
     "data": {
      "image/png": "[encoded data removed]",
      "text/plain": [
       "<Figure size 1440x144 with 2 Axes>"
      ]
     },
     "metadata": {
      "needs_background": "light"
     },
     "output_type": "display_data"
    }
   ],
   "source": [
    "ax = plt.figure(figsize=(20,2))\n",
    "ax0 = ax.add_subplot(111)\n",
    "sns.heatmap(pd.DataFrame(coefs_values).T, ax=ax0, annot=True, linewidths=0.5)\n"
   ]
  },
  {
   "cell_type": "code",
   "execution_count": 462,
   "metadata": {},
   "outputs": [
    {
     "data": {
      "text/html": [
       "<div>\n",
       "<style scoped>\n",
       "    .dataframe tbody tr th:only-of-type {\n",
       "        vertical-align: middle;\n",
       "    }\n",
       "\n",
       "    .dataframe tbody tr th {\n",
       "        vertical-align: top;\n",
       "    }\n",
       "\n",
       "    .dataframe thead th {\n",
       "        text-align: right;\n",
       "    }\n",
       "</style>\n",
       "<table border=\"1\" class=\"dataframe\">\n",
       "  <thead>\n",
       "    <tr style=\"text-align: right;\">\n",
       "      <th></th>\n",
       "      <th>Fossa Rudmentar.1</th>\n",
       "      <th>Não tinham banheiro ou sanitário</th>\n",
       "      <th>Residencial_x</th>\n",
       "      <th>Poder público</th>\n",
       "      <th>Iluminacão pública</th>\n",
       "      <th>Industrial_y</th>\n",
       "      <th>Serv.público_y</th>\n",
       "    </tr>\n",
       "  </thead>\n",
       "  <tbody>\n",
       "    <tr>\n",
       "      <th>0</th>\n",
       "      <td>6.035481</td>\n",
       "      <td>7.402452</td>\n",
       "      <td>15.531823</td>\n",
       "      <td>13.987397</td>\n",
       "      <td>12.916191</td>\n",
       "      <td>8.919524</td>\n",
       "      <td>6.648719</td>\n",
       "    </tr>\n",
       "    <tr>\n",
       "      <th>1</th>\n",
       "      <td>0.000000</td>\n",
       "      <td>1.945910</td>\n",
       "      <td>8.858854</td>\n",
       "      <td>8.441849</td>\n",
       "      <td>0.000000</td>\n",
       "      <td>3.295837</td>\n",
       "      <td>1.890850</td>\n",
       "    </tr>\n",
       "    <tr>\n",
       "      <th>2</th>\n",
       "      <td>0.000000</td>\n",
       "      <td>2.639057</td>\n",
       "      <td>8.479987</td>\n",
       "      <td>8.804201</td>\n",
       "      <td>0.000000</td>\n",
       "      <td>3.749504</td>\n",
       "      <td>1.159237</td>\n",
       "    </tr>\n",
       "    <tr>\n",
       "      <th>3</th>\n",
       "      <td>0.000000</td>\n",
       "      <td>3.091042</td>\n",
       "      <td>9.086966</td>\n",
       "      <td>8.985356</td>\n",
       "      <td>0.017419</td>\n",
       "      <td>3.727198</td>\n",
       "      <td>1.571217</td>\n",
       "    </tr>\n",
       "    <tr>\n",
       "      <th>4</th>\n",
       "      <td>0.000000</td>\n",
       "      <td>0.000000</td>\n",
       "      <td>8.384285</td>\n",
       "      <td>9.917004</td>\n",
       "      <td>0.000000</td>\n",
       "      <td>2.333357</td>\n",
       "      <td>0.693147</td>\n",
       "    </tr>\n",
       "  </tbody>\n",
       "</table>\n",
       "</div>"
      ],
      "text/plain": [
       "   Fossa Rudmentar.1  Não tinham banheiro ou sanitário  Residencial_x  \\\n",
       "0           6.035481                          7.402452      15.531823   \n",
       "1           0.000000                          1.945910       8.858854   \n",
       "2           0.000000                          2.639057       8.479987   \n",
       "3           0.000000                          3.091042       9.086966   \n",
       "4           0.000000                          0.000000       8.384285   \n",
       "\n",
       "   Poder público   Iluminacão pública  Industrial_y  Serv.público_y  \n",
       "0       13.987397           12.916191      8.919524        6.648719  \n",
       "1        8.441849            0.000000      3.295837        1.890850  \n",
       "2        8.804201            0.000000      3.749504        1.159237  \n",
       "3        8.985356            0.017419      3.727198        1.571217  \n",
       "4        9.917004            0.000000      2.333357        0.693147  "
      ]
     },
     "execution_count": 462,
     "metadata": {},
     "output_type": "execute_result"
    }
   ],
   "source": [
    "x.iloc[:, high_coefs].head()"
   ]
  },
  {
   "cell_type": "markdown",
   "metadata": {},
   "source": [
    "#### Key-Finding: We can tell immediately that neighborhoods without bathrooms will have a lot of sanitaries."
   ]
  },
  {
   "cell_type": "markdown",
   "metadata": {},
   "source": [
    "# Lasso"
   ]
  },
  {
   "cell_type": "code",
   "execution_count": 475,
   "metadata": {},
   "outputs": [],
   "source": [
    "lasso = Lasso(alpha=0.001).fit(x_train, y_train)"
   ]
  },
  {
   "cell_type": "code",
   "execution_count": 476,
   "metadata": {},
   "outputs": [],
   "source": [
    "y_pred = lasso.predict(x_test)"
   ]
  },
  {
   "cell_type": "code",
   "execution_count": 477,
   "metadata": {},
   "outputs": [
    {
     "data": {
      "text/plain": [
       "0.8342366707639266"
      ]
     },
     "execution_count": 477,
     "metadata": {},
     "output_type": "execute_result"
    }
   ],
   "source": [
    "r2_score(y_test, y_pred)"
   ]
  },
  {
   "cell_type": "code",
   "execution_count": 478,
   "metadata": {},
   "outputs": [
    {
     "data": {
      "image/png": "[encoded data removed]",
      "text/plain": [
       "<Figure size 504x360 with 1 Axes>"
      ]
     },
     "metadata": {
      "needs_background": "light"
     },
     "output_type": "display_data"
    }
   ],
   "source": [
    "coefs_df = pd.DataFrame(lasso.coef_)\n",
    "coefs_df.plot(marker='o', figsize=(7,5))\n",
    "plt.xticks()\n",
    "plt.grid()"
   ]
  },
  {
   "cell_type": "code",
   "execution_count": 479,
   "metadata": {},
   "outputs": [],
   "source": [
    "coefs = lasso.coef_"
   ]
  },
  {
   "cell_type": "code",
   "execution_count": 480,
   "metadata": {},
   "outputs": [
    {
     "data": {
      "text/plain": [
       "array([], dtype=float64)"
      ]
     },
     "execution_count": 480,
     "metadata": {},
     "output_type": "execute_result"
    }
   ],
   "source": [
    "coefs[coefs>0.5]"
   ]
  },
  {
   "cell_type": "code",
   "execution_count": 484,
   "metadata": {},
   "outputs": [],
   "source": [
    "high_coefs = []\n",
    "coefs_values = []\n",
    "\n",
    "for i in range(len(coefs_df)):\n",
    "    if np.abs(coefs.ravel()[i])>0.05:\n",
    "        \n",
    "        high_coefs.append(i)\n",
    "        coefs_values.append(coefs.ravel()[i])"
   ]
  },
  {
   "cell_type": "code",
   "execution_count": 490,
   "metadata": {},
   "outputs": [
    {
     "data": {
      "text/plain": [
       "<matplotlib.axes._subplots.AxesSubplot at 0x1253796e250>"
      ]
     },
     "execution_count": 490,
     "metadata": {},
     "output_type": "execute_result"
    },
    {
     "data": {
      "image/png": "[encoded data removed]",
      "text/plain": [
       "<Figure size 1440x144 with 2 Axes>"
      ]
     },
     "metadata": {
      "needs_background": "light"
     },
     "output_type": "display_data"
    }
   ],
   "source": [
    "ax = plt.figure(figsize=(20,2))\n",
    "ax0 = ax.add_subplot(111)\n",
    "sns.heatmap(pd.DataFrame(coefs_values).T, ax=ax0, annot=True, linewidths=0.5)\n"
   ]
  },
  {
   "cell_type": "code",
   "execution_count": 486,
   "metadata": {},
   "outputs": [
    {
     "data": {
      "text/html": [
       "<div>\n",
       "<style scoped>\n",
       "    .dataframe tbody tr th:only-of-type {\n",
       "        vertical-align: middle;\n",
       "    }\n",
       "\n",
       "    .dataframe tbody tr th {\n",
       "        vertical-align: top;\n",
       "    }\n",
       "\n",
       "    .dataframe thead th {\n",
       "        text-align: right;\n",
       "    }\n",
       "</style>\n",
       "<table border=\"1\" class=\"dataframe\">\n",
       "  <thead>\n",
       "    <tr style=\"text-align: right;\">\n",
       "      <th></th>\n",
       "      <th>Vala</th>\n",
       "      <th>Residencial_x</th>\n",
       "      <th>Poder público</th>\n",
       "      <th>Iluminacão pública</th>\n",
       "      <th>Serv.público_x</th>\n",
       "      <th>Médio anual por unidade consumidora</th>\n",
       "      <th>Industrial_y</th>\n",
       "    </tr>\n",
       "  </thead>\n",
       "  <tbody>\n",
       "    <tr>\n",
       "      <th>0</th>\n",
       "      <td>10.740800</td>\n",
       "      <td>15.531823</td>\n",
       "      <td>13.987397</td>\n",
       "      <td>12.916191</td>\n",
       "      <td>13.578755</td>\n",
       "      <td>1.229538</td>\n",
       "      <td>8.919524</td>\n",
       "    </tr>\n",
       "    <tr>\n",
       "      <th>1</th>\n",
       "      <td>1.098612</td>\n",
       "      <td>8.858854</td>\n",
       "      <td>8.441849</td>\n",
       "      <td>0.000000</td>\n",
       "      <td>9.198336</td>\n",
       "      <td>0.788189</td>\n",
       "      <td>3.295837</td>\n",
       "    </tr>\n",
       "    <tr>\n",
       "      <th>2</th>\n",
       "      <td>1.098612</td>\n",
       "      <td>8.479987</td>\n",
       "      <td>8.804201</td>\n",
       "      <td>0.000000</td>\n",
       "      <td>4.448237</td>\n",
       "      <td>0.929753</td>\n",
       "      <td>3.749504</td>\n",
       "    </tr>\n",
       "    <tr>\n",
       "      <th>3</th>\n",
       "      <td>1.386294</td>\n",
       "      <td>9.086966</td>\n",
       "      <td>8.985356</td>\n",
       "      <td>0.017419</td>\n",
       "      <td>8.248920</td>\n",
       "      <td>1.154518</td>\n",
       "      <td>3.727198</td>\n",
       "    </tr>\n",
       "    <tr>\n",
       "      <th>4</th>\n",
       "      <td>0.000000</td>\n",
       "      <td>8.384285</td>\n",
       "      <td>9.917004</td>\n",
       "      <td>0.000000</td>\n",
       "      <td>0.356675</td>\n",
       "      <td>1.768925</td>\n",
       "      <td>2.333357</td>\n",
       "    </tr>\n",
       "    <tr>\n",
       "      <th>...</th>\n",
       "      <td>...</td>\n",
       "      <td>...</td>\n",
       "      <td>...</td>\n",
       "      <td>...</td>\n",
       "      <td>...</td>\n",
       "      <td>...</td>\n",
       "      <td>...</td>\n",
       "    </tr>\n",
       "    <tr>\n",
       "      <th>69</th>\n",
       "      <td>3.806662</td>\n",
       "      <td>9.297166</td>\n",
       "      <td>5.755500</td>\n",
       "      <td>0.000000</td>\n",
       "      <td>5.576332</td>\n",
       "      <td>1.133489</td>\n",
       "      <td>2.724580</td>\n",
       "    </tr>\n",
       "    <tr>\n",
       "      <th>70</th>\n",
       "      <td>3.091042</td>\n",
       "      <td>9.682779</td>\n",
       "      <td>7.701354</td>\n",
       "      <td>5.278998</td>\n",
       "      <td>7.083311</td>\n",
       "      <td>1.165093</td>\n",
       "      <td>3.483161</td>\n",
       "    </tr>\n",
       "    <tr>\n",
       "      <th>71</th>\n",
       "      <td>3.931826</td>\n",
       "      <td>9.897714</td>\n",
       "      <td>6.318116</td>\n",
       "      <td>0.000000</td>\n",
       "      <td>5.942638</td>\n",
       "      <td>1.285954</td>\n",
       "      <td>3.518980</td>\n",
       "    </tr>\n",
       "    <tr>\n",
       "      <th>72</th>\n",
       "      <td>0.693147</td>\n",
       "      <td>9.667491</td>\n",
       "      <td>7.199031</td>\n",
       "      <td>4.977762</td>\n",
       "      <td>0.758993</td>\n",
       "      <td>1.200659</td>\n",
       "      <td>4.059365</td>\n",
       "    </tr>\n",
       "    <tr>\n",
       "      <th>73</th>\n",
       "      <td>6.052089</td>\n",
       "      <td>10.502224</td>\n",
       "      <td>7.401781</td>\n",
       "      <td>5.132436</td>\n",
       "      <td>7.154487</td>\n",
       "      <td>0.986380</td>\n",
       "      <td>4.291315</td>\n",
       "    </tr>\n",
       "  </tbody>\n",
       "</table>\n",
       "<p>74 rows × 7 columns</p>\n",
       "</div>"
      ],
      "text/plain": [
       "         Vala  Residencial_x  Poder público   Iluminacão pública  \\\n",
       "0   10.740800      15.531823       13.987397           12.916191   \n",
       "1    1.098612       8.858854        8.441849            0.000000   \n",
       "2    1.098612       8.479987        8.804201            0.000000   \n",
       "3    1.386294       9.086966        8.985356            0.017419   \n",
       "4    0.000000       8.384285        9.917004            0.000000   \n",
       "..        ...            ...             ...                 ...   \n",
       "69   3.806662       9.297166        5.755500            0.000000   \n",
       "70   3.091042       9.682779        7.701354            5.278998   \n",
       "71   3.931826       9.897714        6.318116            0.000000   \n",
       "72   0.693147       9.667491        7.199031            4.977762   \n",
       "73   6.052089      10.502224        7.401781            5.132436   \n",
       "\n",
       "    Serv.público_x  Médio anual por unidade consumidora    Industrial_y  \n",
       "0        13.578755                               1.229538      8.919524  \n",
       "1         9.198336                               0.788189      3.295837  \n",
       "2         4.448237                               0.929753      3.749504  \n",
       "3         8.248920                               1.154518      3.727198  \n",
       "4         0.356675                               1.768925      2.333357  \n",
       "..             ...                                    ...           ...  \n",
       "69        5.576332                               1.133489      2.724580  \n",
       "70        7.083311                               1.165093      3.483161  \n",
       "71        5.942638                               1.285954      3.518980  \n",
       "72        0.758993                               1.200659      4.059365  \n",
       "73        7.154487                               0.986380      4.291315  \n",
       "\n",
       "[74 rows x 7 columns]"
      ]
     },
     "execution_count": 486,
     "metadata": {},
     "output_type": "execute_result"
    }
   ],
   "source": [
    "x.iloc[:, high_coefs]"
   ]
  },
  {
   "cell_type": "markdown",
   "metadata": {},
   "source": [
    "# Ridge Cross-Validation"
   ]
  },
  {
   "cell_type": "code",
   "execution_count": 760,
   "metadata": {},
   "outputs": [
    {
     "data": {
      "text/plain": [
       "0.7968516129238314"
      ]
     },
     "execution_count": 760,
     "metadata": {},
     "output_type": "execute_result"
    }
   ],
   "source": [
    "alphas = np.linspace(0.001, 2, 1000)\n",
    "\n",
    "msk = np.random.rand(len(y))<0.8\n",
    "\n",
    "#x_train, y_train, x_test, y_test = x_norm[msk], y[msk], x_norm[~msk], y[~msk]\n",
    "x_train, y_train, x_test, y_test = x_norm[msk], y_norm[msk], x_norm[~msk], y_norm[~msk]\n",
    "\n",
    "ridge_cv = RidgeCV(alphas=alphas)\n",
    "\n",
    "ridge_cv.fit(x_train, y_train)\n",
    "\n",
    "y_pred = ridge_cv.predict(x_test)\n",
    "\n",
    "r2_score(y_test, y_pred)"
   ]
  },
  {
   "cell_type": "code",
   "execution_count": null,
   "metadata": {},
   "outputs": [],
   "source": [
    "ridge_cv?"
   ]
  },
  {
   "cell_type": "code",
   "execution_count": 662,
   "metadata": {},
   "outputs": [
    {
     "data": {
      "text/plain": [
       "(0.5951188475390157, 0.5669178363879372)"
      ]
     },
     "execution_count": 662,
     "metadata": {},
     "output_type": "execute_result"
    }
   ],
   "source": [
    "ridge_cv.alpha_, ridge_cv.best_score_\n"
   ]
  },
  {
   "cell_type": "code",
   "execution_count": 686,
   "metadata": {},
   "outputs": [],
   "source": [
    "coefs = ridge_cv.coef_"
   ]
  },
  {
   "cell_type": "code",
   "execution_count": 689,
   "metadata": {},
   "outputs": [
    {
     "data": {
      "image/png": "[encoded data removed]",
      "text/plain": [
       "<Figure size 504x360 with 1 Axes>"
      ]
     },
     "metadata": {
      "needs_background": "light"
     },
     "output_type": "display_data"
    }
   ],
   "source": [
    "coefs_df = pd.DataFrame(coefs.ravel())\n",
    "coefs_df.plot(marker='o', figsize=(7,5))\n",
    "plt.xticks()\n",
    "plt.grid()"
   ]
  },
  {
   "cell_type": "code",
   "execution_count": 691,
   "metadata": {},
   "outputs": [],
   "source": [
    "high_coefs = []\n",
    "coefs_values = []\n",
    "\n",
    "for i in range(len(coefs_df)):\n",
    "    if np.abs(coefs.ravel()[i])>0.04:\n",
    "        \n",
    "        high_coefs.append(i)\n",
    "        coefs_values.append(coefs.ravel()[i])"
   ]
  },
  {
   "cell_type": "code",
   "execution_count": 692,
   "metadata": {},
   "outputs": [
    {
     "data": {
      "text/plain": [
       "<matplotlib.axes._subplots.AxesSubplot at 0x125394399d0>"
      ]
     },
     "execution_count": 692,
     "metadata": {},
     "output_type": "execute_result"
    },
    {
     "data": {
      "image/png": "[encoded data removed]",
      "text/plain": [
       "<Figure size 1440x144 with 2 Axes>"
      ]
     },
     "metadata": {
      "needs_background": "light"
     },
     "output_type": "display_data"
    }
   ],
   "source": [
    "ax = plt.figure(figsize=(20,2))\n",
    "ax0 = ax.add_subplot(111)\n",
    "sns.heatmap(pd.DataFrame(coefs_values).T, ax=ax0, annot=True, linewidths=0.5)\n"
   ]
  },
  {
   "cell_type": "code",
   "execution_count": 697,
   "metadata": {},
   "outputs": [
    {
     "data": {
      "text/html": [
       "<div>\n",
       "<style scoped>\n",
       "    .dataframe tbody tr th:only-of-type {\n",
       "        vertical-align: middle;\n",
       "    }\n",
       "\n",
       "    .dataframe tbody tr th {\n",
       "        vertical-align: top;\n",
       "    }\n",
       "\n",
       "    .dataframe thead th {\n",
       "        text-align: right;\n",
       "    }\n",
       "</style>\n",
       "<table border=\"1\" class=\"dataframe\">\n",
       "  <thead>\n",
       "    <tr style=\"text-align: right;\">\n",
       "      <th></th>\n",
       "      <th>Coletado por Caçamba de serviço de limpeza</th>\n",
       "      <th>Outro destino</th>\n",
       "      <th>Vala</th>\n",
       "      <th>Rio, lago ou mar</th>\n",
       "      <th>Outro.1</th>\n",
       "      <th>Não tinham banheiro ou sanitário</th>\n",
       "      <th>Residencial_x</th>\n",
       "      <th>Industrial_x</th>\n",
       "      <th>Poder público</th>\n",
       "      <th>Iluminacão pública</th>\n",
       "      <th>Serv.público_x</th>\n",
       "      <th>Consumo resdencial de energia elétrica (MWh)</th>\n",
       "      <th>Médio anual por unidade consumidora</th>\n",
       "      <th>Total de unidades consumidoras  residenciais</th>\n",
       "      <th>Total</th>\n",
       "      <th>Iluminação pública</th>\n",
       "      <th>Serv.público_y</th>\n",
       "    </tr>\n",
       "  </thead>\n",
       "  <tbody>\n",
       "    <tr>\n",
       "      <th>0</th>\n",
       "      <td>12.623486</td>\n",
       "      <td>9.683838</td>\n",
       "      <td>10.740800</td>\n",
       "      <td>10.298633</td>\n",
       "      <td>6.453625</td>\n",
       "      <td>7.402452</td>\n",
       "      <td>15.531823</td>\n",
       "      <td>14.752850</td>\n",
       "      <td>13.987397</td>\n",
       "      <td>12.916191</td>\n",
       "      <td>13.578755</td>\n",
       "      <td>15.532349</td>\n",
       "      <td>1.229538</td>\n",
       "      <td>14.649661</td>\n",
       "      <td>14.738778</td>\n",
       "      <td>4.33472</td>\n",
       "      <td>6.648719</td>\n",
       "    </tr>\n",
       "    <tr>\n",
       "      <th>1</th>\n",
       "      <td>7.766841</td>\n",
       "      <td>1.098612</td>\n",
       "      <td>1.098612</td>\n",
       "      <td>0.693147</td>\n",
       "      <td>0.000000</td>\n",
       "      <td>1.945910</td>\n",
       "      <td>8.858854</td>\n",
       "      <td>9.618550</td>\n",
       "      <td>8.441849</td>\n",
       "      <td>0.000000</td>\n",
       "      <td>9.198336</td>\n",
       "      <td>8.861758</td>\n",
       "      <td>0.788189</td>\n",
       "      <td>8.676012</td>\n",
       "      <td>8.735244</td>\n",
       "      <td>0.00000</td>\n",
       "      <td>1.890850</td>\n",
       "    </tr>\n",
       "    <tr>\n",
       "      <th>2</th>\n",
       "      <td>7.099202</td>\n",
       "      <td>4.317488</td>\n",
       "      <td>1.098612</td>\n",
       "      <td>0.000000</td>\n",
       "      <td>2.079442</td>\n",
       "      <td>2.639057</td>\n",
       "      <td>8.479987</td>\n",
       "      <td>7.607322</td>\n",
       "      <td>8.804201</td>\n",
       "      <td>0.000000</td>\n",
       "      <td>4.448237</td>\n",
       "      <td>8.481118</td>\n",
       "      <td>0.929753</td>\n",
       "      <td>8.057397</td>\n",
       "      <td>8.230644</td>\n",
       "      <td>0.00000</td>\n",
       "      <td>1.159237</td>\n",
       "    </tr>\n",
       "  </tbody>\n",
       "</table>\n",
       "</div>"
      ],
      "text/plain": [
       "   Coletado por Caçamba de serviço de limpeza  Outro destino       Vala  \\\n",
       "0                                   12.623486       9.683838  10.740800   \n",
       "1                                    7.766841       1.098612   1.098612   \n",
       "2                                    7.099202       4.317488   1.098612   \n",
       "\n",
       "   Rio, lago ou mar   Outro.1  Não tinham banheiro ou sanitário  \\\n",
       "0         10.298633  6.453625                          7.402452   \n",
       "1          0.693147  0.000000                          1.945910   \n",
       "2          0.000000  2.079442                          2.639057   \n",
       "\n",
       "   Residencial_x  Industrial_x  Poder público   Iluminacão pública  \\\n",
       "0      15.531823     14.752850       13.987397           12.916191   \n",
       "1       8.858854      9.618550        8.441849            0.000000   \n",
       "2       8.479987      7.607322        8.804201            0.000000   \n",
       "\n",
       "   Serv.público_x  Consumo resdencial de energia elétrica (MWh)  \\\n",
       "0       13.578755                                     15.532349   \n",
       "1        9.198336                                      8.861758   \n",
       "2        4.448237                                      8.481118   \n",
       "\n",
       "   Médio anual por unidade consumidora    \\\n",
       "0                               1.229538   \n",
       "1                               0.788189   \n",
       "2                               0.929753   \n",
       "\n",
       "   Total de unidades consumidoras  residenciais       Total  \\\n",
       "0                                      14.649661  14.738778   \n",
       "1                                       8.676012   8.735244   \n",
       "2                                       8.057397   8.230644   \n",
       "\n",
       "   Iluminação pública  Serv.público_y  \n",
       "0             4.33472        6.648719  \n",
       "1             0.00000        1.890850  \n",
       "2             0.00000        1.159237  "
      ]
     },
     "execution_count": 697,
     "metadata": {},
     "output_type": "execute_result"
    }
   ],
   "source": [
    "x.iloc[:, high_coefs].head(3)"
   ]
  },
  {
   "cell_type": "code",
   "execution_count": null,
   "metadata": {},
   "outputs": [],
   "source": []
  },
  {
   "cell_type": "markdown",
   "metadata": {},
   "source": [
    "# Lasso Cross-Validation"
   ]
  },
  {
   "cell_type": "code",
   "execution_count": 891,
   "metadata": {},
   "outputs": [
    {
     "name": "stderr",
     "output_type": "stream",
     "text": [
      "C:\\Users\\luisr\\anaconda3\\lib\\site-packages\\sklearn\\utils\\validation.py:73: DataConversionWarning: A column-vector y was passed when a 1d array was expected. Please change the shape of y to (n_samples, ), for example using ravel().\n",
      "  return f(**kwargs)\n"
     ]
    },
    {
     "data": {
      "text/plain": [
       "0.8840987182479203"
      ]
     },
     "execution_count": 891,
     "metadata": {},
     "output_type": "execute_result"
    }
   ],
   "source": [
    "alphas = np.linspace(0.001, 5, 5000)\n",
    "\n",
    "msk = np.random.rand(len(y))<0.8\n",
    "\n",
    "#x_train, y_train, x_test, y_test = x_norm[msk], y[msk], x_norm[~msk], y[~msk]\n",
    "x_train, y_train, x_test, y_test = x_norm[msk], y_norm[msk], x_norm[~msk], y_norm[~msk]\n",
    "\n",
    "lasso_cv = LassoCV(max_iter=5e4)\n",
    "\n",
    "lasso_cv.fit(x_train, y_train)\n",
    "\n",
    "y_pred = lasso_cv.predict(x_test)\n",
    "\n",
    "r2_score(y_test, y_pred)"
   ]
  },
  {
   "cell_type": "code",
   "execution_count": 709,
   "metadata": {},
   "outputs": [
    {
     "data": {
      "text/plain": [
       "(0.0007272647587519476, 96, 5.0317729219456764e-05)"
      ]
     },
     "execution_count": 709,
     "metadata": {},
     "output_type": "execute_result"
    }
   ],
   "source": [
    "lasso_cv.alpha_, lasso_cv.n_iter_, lasso_cv.dual_gap_\n"
   ]
  },
  {
   "cell_type": "code",
   "execution_count": 712,
   "metadata": {},
   "outputs": [
    {
     "data": {
      "text/plain": [
       "5"
      ]
     },
     "execution_count": 712,
     "metadata": {},
     "output_type": "execute_result"
    }
   ],
   "source": [
    "len(lasso_cv.mse_path_[0])"
   ]
  },
  {
   "cell_type": "code",
   "execution_count": 713,
   "metadata": {},
   "outputs": [],
   "source": [
    "coefs = lasso_cv.coef_"
   ]
  },
  {
   "cell_type": "code",
   "execution_count": 714,
   "metadata": {},
   "outputs": [
    {
     "data": {
      "image/png": "[encoded data removed]",
      "text/plain": [
       "<Figure size 504x360 with 1 Axes>"
      ]
     },
     "metadata": {
      "needs_background": "light"
     },
     "output_type": "display_data"
    }
   ],
   "source": [
    "coefs_df = pd.DataFrame(coefs.ravel())\n",
    "coefs_df.plot(marker='o', figsize=(7,5))\n",
    "plt.xticks()\n",
    "plt.grid()"
   ]
  },
  {
   "cell_type": "code",
   "execution_count": 719,
   "metadata": {},
   "outputs": [
    {
     "name": "stdout",
     "output_type": "stream",
     "text": [
      "[0.09193345868908223, -0.14963434166268458, 0.09236029933384064, 0.0945635089379132, 0.1549992069010674, 0.1582115964936699, 0.13342891990357983, 0.13510971115967332, 0.3784859446780639, 0.08169507952691188]\n"
     ]
    }
   ],
   "source": [
    "high_coefs = []\n",
    "coefs_values = []\n",
    "\n",
    "for i in range(len(coefs_df)):\n",
    "    if np.abs(coefs.ravel()[i])>0.05:\n",
    "        \n",
    "        high_coefs.append(i)\n",
    "        coefs_values.append(coefs.ravel()[i])\n",
    "print(coefs_values)"
   ]
  },
  {
   "cell_type": "code",
   "execution_count": 720,
   "metadata": {},
   "outputs": [
    {
     "data": {
      "text/plain": [
       "<matplotlib.axes._subplots.AxesSubplot at 0x12537ce28e0>"
      ]
     },
     "execution_count": 720,
     "metadata": {},
     "output_type": "execute_result"
    },
    {
     "data": {
      "image/png": "[encoded data removed]",
      "text/plain": [
       "<Figure size 1440x144 with 2 Axes>"
      ]
     },
     "metadata": {
      "needs_background": "light"
     },
     "output_type": "display_data"
    }
   ],
   "source": [
    "ax = plt.figure(figsize=(20,2))\n",
    "ax0 = ax.add_subplot(111)\n",
    "sns.heatmap(pd.DataFrame(coefs_values).T, ax=ax0, annot=True, linewidths=0.5)\n"
   ]
  },
  {
   "cell_type": "code",
   "execution_count": 721,
   "metadata": {},
   "outputs": [
    {
     "data": {
      "text/html": [
       "<div>\n",
       "<style scoped>\n",
       "    .dataframe tbody tr th:only-of-type {\n",
       "        vertical-align: middle;\n",
       "    }\n",
       "\n",
       "    .dataframe tbody tr th {\n",
       "        vertical-align: top;\n",
       "    }\n",
       "\n",
       "    .dataframe thead th {\n",
       "        text-align: right;\n",
       "    }\n",
       "</style>\n",
       "<table border=\"1\" class=\"dataframe\">\n",
       "  <thead>\n",
       "    <tr style=\"text-align: right;\">\n",
       "      <th></th>\n",
       "      <th>Coletado por Caçamba de serviço de limpeza</th>\n",
       "      <th>Vala</th>\n",
       "      <th>Rede Geral de Esgoto ou pluvial.1</th>\n",
       "      <th>Industrial_x</th>\n",
       "      <th>Poder público</th>\n",
       "      <th>Iluminacão pública</th>\n",
       "      <th>Serv.público_x</th>\n",
       "      <th>Médio anual por unidade consumidora</th>\n",
       "      <th>Total</th>\n",
       "      <th>Consumo próprio_y</th>\n",
       "    </tr>\n",
       "  </thead>\n",
       "  <tbody>\n",
       "    <tr>\n",
       "      <th>0</th>\n",
       "      <td>12.623486</td>\n",
       "      <td>10.740800</td>\n",
       "      <td>9.952944</td>\n",
       "      <td>14.752850</td>\n",
       "      <td>13.987397</td>\n",
       "      <td>12.916191</td>\n",
       "      <td>13.578755</td>\n",
       "      <td>1.229538</td>\n",
       "      <td>14.738778</td>\n",
       "      <td>5.305258</td>\n",
       "    </tr>\n",
       "    <tr>\n",
       "      <th>1</th>\n",
       "      <td>7.766841</td>\n",
       "      <td>1.098612</td>\n",
       "      <td>5.093750</td>\n",
       "      <td>9.618550</td>\n",
       "      <td>8.441849</td>\n",
       "      <td>0.000000</td>\n",
       "      <td>9.198336</td>\n",
       "      <td>0.788189</td>\n",
       "      <td>8.735244</td>\n",
       "      <td>0.782759</td>\n",
       "    </tr>\n",
       "    <tr>\n",
       "      <th>2</th>\n",
       "      <td>7.099202</td>\n",
       "      <td>1.098612</td>\n",
       "      <td>5.768321</td>\n",
       "      <td>7.607322</td>\n",
       "      <td>8.804201</td>\n",
       "      <td>0.000000</td>\n",
       "      <td>4.448237</td>\n",
       "      <td>0.929753</td>\n",
       "      <td>8.230644</td>\n",
       "      <td>0.117783</td>\n",
       "    </tr>\n",
       "    <tr>\n",
       "      <th>3</th>\n",
       "      <td>6.484635</td>\n",
       "      <td>1.386294</td>\n",
       "      <td>5.407172</td>\n",
       "      <td>8.044667</td>\n",
       "      <td>8.985356</td>\n",
       "      <td>0.017419</td>\n",
       "      <td>8.248920</td>\n",
       "      <td>1.154518</td>\n",
       "      <td>8.442887</td>\n",
       "      <td>0.594707</td>\n",
       "    </tr>\n",
       "    <tr>\n",
       "      <th>4</th>\n",
       "      <td>2.833213</td>\n",
       "      <td>0.000000</td>\n",
       "      <td>4.543295</td>\n",
       "      <td>9.678853</td>\n",
       "      <td>9.917004</td>\n",
       "      <td>0.000000</td>\n",
       "      <td>0.356675</td>\n",
       "      <td>1.768925</td>\n",
       "      <td>7.364626</td>\n",
       "      <td>0.318454</td>\n",
       "    </tr>\n",
       "  </tbody>\n",
       "</table>\n",
       "</div>"
      ],
      "text/plain": [
       "   Coletado por Caçamba de serviço de limpeza       Vala  \\\n",
       "0                                   12.623486  10.740800   \n",
       "1                                    7.766841   1.098612   \n",
       "2                                    7.099202   1.098612   \n",
       "3                                    6.484635   1.386294   \n",
       "4                                    2.833213   0.000000   \n",
       "\n",
       "   Rede Geral de Esgoto ou pluvial.1  Industrial_x  Poder público   \\\n",
       "0                           9.952944     14.752850       13.987397   \n",
       "1                           5.093750      9.618550        8.441849   \n",
       "2                           5.768321      7.607322        8.804201   \n",
       "3                           5.407172      8.044667        8.985356   \n",
       "4                           4.543295      9.678853        9.917004   \n",
       "\n",
       "   Iluminacão pública  Serv.público_x  Médio anual por unidade consumidora    \\\n",
       "0           12.916191       13.578755                               1.229538   \n",
       "1            0.000000        9.198336                               0.788189   \n",
       "2            0.000000        4.448237                               0.929753   \n",
       "3            0.017419        8.248920                               1.154518   \n",
       "4            0.000000        0.356675                               1.768925   \n",
       "\n",
       "       Total  Consumo próprio_y  \n",
       "0  14.738778           5.305258  \n",
       "1   8.735244           0.782759  \n",
       "2   8.230644           0.117783  \n",
       "3   8.442887           0.594707  \n",
       "4   7.364626           0.318454  "
      ]
     },
     "execution_count": 721,
     "metadata": {},
     "output_type": "execute_result"
    }
   ],
   "source": [
    "x.iloc[:, high_coefs].head()"
   ]
  },
  {
   "cell_type": "code",
   "execution_count": 702,
   "metadata": {},
   "outputs": [
    {
     "data": {
      "text/plain": [
       "Index(['Total_x', 'Coletado', 'Coletado por Serviço de limpeza',\n",
       "       'Coletado por Caçamba de serviço de limpeza', 'Outro destino',\n",
       "       'Total_y', 'Tinham banheiro', '1 banheiro', '2 banheiros',\n",
       "       '3 banheiros', '4 banheiros ou mais', 'Não tinham banheiro',\n",
       "       'Total_x.1', 'Tinham energia eletrica', 'Companhia distribuidora',\n",
       "       'Outra fonte', 'Não tinham', 'Total_y.1', 'Tinham banheiro exclusivo',\n",
       "       'Rede Geral de Esgoto ou pluvial', 'Fossa Séptica', 'Fossa Rudmentar',\n",
       "       'Vala', 'Rio, lago ou mar', 'Outro',\n",
       "       'Sanitário cujo esgotamento é feito por:',\n",
       "       'Rede Geral de Esgoto ou pluvial.1', 'Fossa Séptica.1',\n",
       "       'Fossa Rudmentar.1', 'Vala.1', 'Rio, lago ou mar.1', 'Outro.1',\n",
       "       'Não tinham banheiro ou sanitário', 'Residencial_x', 'Industrial_x',\n",
       "       'Rural_x', 'Poder público ', 'Iluminacão pública', 'Serv.público_x',\n",
       "       'Consumo próprio_x', 'Consumo resdencial de energia elétrica (MWh)',\n",
       "       'Médio anual por unidade consumidora  ',\n",
       "       'Total de unidades consumidoras  residenciais ', 'Total',\n",
       "       'Residencial_y', 'Industrial_y', 'Rural_y', 'Poderes públicos ',\n",
       "       'Iluminação pública', 'Serv.público_y', 'Consumo próprio_y'],\n",
       "      dtype='object')"
      ]
     },
     "execution_count": 702,
     "metadata": {},
     "output_type": "execute_result"
    }
   ],
   "source": [
    "x.columns"
   ]
  },
  {
   "cell_type": "code",
   "execution_count": null,
   "metadata": {},
   "outputs": [],
   "source": [
    "lasso_cv?"
   ]
  },
  {
   "cell_type": "markdown",
   "metadata": {},
   "source": [
    "# Elastic Net CV"
   ]
  },
  {
   "cell_type": "code",
   "execution_count": 722,
   "metadata": {},
   "outputs": [],
   "source": [
    "from sklearn.linear_model import ElasticNetCV"
   ]
  },
  {
   "cell_type": "code",
   "execution_count": 735,
   "metadata": {},
   "outputs": [
    {
     "name": "stderr",
     "output_type": "stream",
     "text": [
      "C:\\Users\\luisr\\anaconda3\\lib\\site-packages\\sklearn\\utils\\validation.py:73: DataConversionWarning: A column-vector y was passed when a 1d array was expected. Please change the shape of y to (n_samples, ), for example using ravel().\n",
      "  return f(**kwargs)\n"
     ]
    }
   ],
   "source": [
    "elasticNetCV = ElasticNetCV(max_iter=1e4,\n",
    "                            l1_ratio=[.1, .5, .7, .9, .95, .99, 1]).fit(x_train, y_train)"
   ]
  },
  {
   "cell_type": "code",
   "execution_count": 736,
   "metadata": {},
   "outputs": [],
   "source": [
    "y_pred = elasticNetCV.predict(x_test)"
   ]
  },
  {
   "cell_type": "code",
   "execution_count": 737,
   "metadata": {},
   "outputs": [
    {
     "data": {
      "text/plain": [
       "0.881360752755708"
      ]
     },
     "execution_count": 737,
     "metadata": {},
     "output_type": "execute_result"
    }
   ],
   "source": [
    "r2_score(y_test, y_pred)"
   ]
  },
  {
   "cell_type": "code",
   "execution_count": 749,
   "metadata": {},
   "outputs": [
    {
     "data": {
      "text/plain": [
       "(0.005130709100547478, 0.1, 160)"
      ]
     },
     "execution_count": 749,
     "metadata": {},
     "output_type": "execute_result"
    }
   ],
   "source": [
    "elasticNetCV.alpha_, elasticNetCV.l1_ratio_, elasticNetCV.n_iter_"
   ]
  },
  {
   "cell_type": "code",
   "execution_count": 739,
   "metadata": {},
   "outputs": [],
   "source": [
    "coefs = elasticNetCV.coef_"
   ]
  },
  {
   "cell_type": "code",
   "execution_count": 740,
   "metadata": {},
   "outputs": [
    {
     "data": {
      "image/png": "[encoded data removed]",
      "text/plain": [
       "<Figure size 504x360 with 1 Axes>"
      ]
     },
     "metadata": {
      "needs_background": "light"
     },
     "output_type": "display_data"
    }
   ],
   "source": [
    "coefs_df = pd.DataFrame(coefs.ravel())\n",
    "coefs_df.plot(marker='o', figsize=(7,5))\n",
    "plt.xticks()\n",
    "plt.grid()"
   ]
  },
  {
   "cell_type": "code",
   "execution_count": 741,
   "metadata": {},
   "outputs": [
    {
     "name": "stdout",
     "output_type": "stream",
     "text": [
      "[0.05585535649756946, -0.1128111455401474, 0.06576392656102553, 0.08140911805456236, 0.09634673280713847, 0.12922817642376533, 0.13431717955022326, 0.10287200886932238, 0.06450037730507292, 0.1001211876906914, 0.05039674044133873, 0.09466342747417449, 0.05404149783475563, 0.07066858330754498]\n"
     ]
    }
   ],
   "source": [
    "high_coefs = []\n",
    "coefs_values = []\n",
    "\n",
    "for i in range(len(coefs_df)):\n",
    "    if np.abs(coefs.ravel()[i])>0.05:\n",
    "        \n",
    "        high_coefs.append(i)\n",
    "        coefs_values.append(coefs.ravel()[i])\n",
    "print(coefs_values)"
   ]
  },
  {
   "cell_type": "code",
   "execution_count": 742,
   "metadata": {},
   "outputs": [
    {
     "data": {
      "text/plain": [
       "<matplotlib.axes._subplots.AxesSubplot at 0x1253594a1c0>"
      ]
     },
     "execution_count": 742,
     "metadata": {},
     "output_type": "execute_result"
    },
    {
     "data": {
      "image/png": "[encoded data removed]",
      "text/plain": [
       "<Figure size 1440x144 with 2 Axes>"
      ]
     },
     "metadata": {
      "needs_background": "light"
     },
     "output_type": "display_data"
    }
   ],
   "source": [
    "ax = plt.figure(figsize=(20,2))\n",
    "ax0 = ax.add_subplot(111)\n",
    "sns.heatmap(pd.DataFrame(coefs_values).T, ax=ax0, annot=True, linewidths=0.5)\n"
   ]
  },
  {
   "cell_type": "code",
   "execution_count": 743,
   "metadata": {},
   "outputs": [
    {
     "data": {
      "text/html": [
       "<div>\n",
       "<style scoped>\n",
       "    .dataframe tbody tr th:only-of-type {\n",
       "        vertical-align: middle;\n",
       "    }\n",
       "\n",
       "    .dataframe tbody tr th {\n",
       "        vertical-align: top;\n",
       "    }\n",
       "\n",
       "    .dataframe thead th {\n",
       "        text-align: right;\n",
       "    }\n",
       "</style>\n",
       "<table border=\"1\" class=\"dataframe\">\n",
       "  <thead>\n",
       "    <tr style=\"text-align: right;\">\n",
       "      <th></th>\n",
       "      <th>Coletado por Caçamba de serviço de limpeza</th>\n",
       "      <th>Vala</th>\n",
       "      <th>Rede Geral de Esgoto ou pluvial.1</th>\n",
       "      <th>Residencial_x</th>\n",
       "      <th>Industrial_x</th>\n",
       "      <th>Poder público</th>\n",
       "      <th>Iluminacão pública</th>\n",
       "      <th>Serv.público_x</th>\n",
       "      <th>Consumo resdencial de energia elétrica (MWh)</th>\n",
       "      <th>Médio anual por unidade consumidora</th>\n",
       "      <th>Total de unidades consumidoras  residenciais</th>\n",
       "      <th>Total</th>\n",
       "      <th>Serv.público_y</th>\n",
       "      <th>Consumo próprio_y</th>\n",
       "    </tr>\n",
       "  </thead>\n",
       "  <tbody>\n",
       "    <tr>\n",
       "      <th>0</th>\n",
       "      <td>12.623486</td>\n",
       "      <td>10.740800</td>\n",
       "      <td>9.952944</td>\n",
       "      <td>15.531823</td>\n",
       "      <td>14.752850</td>\n",
       "      <td>13.987397</td>\n",
       "      <td>12.916191</td>\n",
       "      <td>13.578755</td>\n",
       "      <td>15.532349</td>\n",
       "      <td>1.229538</td>\n",
       "      <td>14.649661</td>\n",
       "      <td>14.738778</td>\n",
       "      <td>6.648719</td>\n",
       "      <td>5.305258</td>\n",
       "    </tr>\n",
       "    <tr>\n",
       "      <th>1</th>\n",
       "      <td>7.766841</td>\n",
       "      <td>1.098612</td>\n",
       "      <td>5.093750</td>\n",
       "      <td>8.858854</td>\n",
       "      <td>9.618550</td>\n",
       "      <td>8.441849</td>\n",
       "      <td>0.000000</td>\n",
       "      <td>9.198336</td>\n",
       "      <td>8.861758</td>\n",
       "      <td>0.788189</td>\n",
       "      <td>8.676012</td>\n",
       "      <td>8.735244</td>\n",
       "      <td>1.890850</td>\n",
       "      <td>0.782759</td>\n",
       "    </tr>\n",
       "    <tr>\n",
       "      <th>2</th>\n",
       "      <td>7.099202</td>\n",
       "      <td>1.098612</td>\n",
       "      <td>5.768321</td>\n",
       "      <td>8.479987</td>\n",
       "      <td>7.607322</td>\n",
       "      <td>8.804201</td>\n",
       "      <td>0.000000</td>\n",
       "      <td>4.448237</td>\n",
       "      <td>8.481118</td>\n",
       "      <td>0.929753</td>\n",
       "      <td>8.057397</td>\n",
       "      <td>8.230644</td>\n",
       "      <td>1.159237</td>\n",
       "      <td>0.117783</td>\n",
       "    </tr>\n",
       "    <tr>\n",
       "      <th>3</th>\n",
       "      <td>6.484635</td>\n",
       "      <td>1.386294</td>\n",
       "      <td>5.407172</td>\n",
       "      <td>9.086966</td>\n",
       "      <td>8.044667</td>\n",
       "      <td>8.985356</td>\n",
       "      <td>0.017419</td>\n",
       "      <td>8.248920</td>\n",
       "      <td>9.085998</td>\n",
       "      <td>1.154518</td>\n",
       "      <td>8.294065</td>\n",
       "      <td>8.442887</td>\n",
       "      <td>1.571217</td>\n",
       "      <td>0.594707</td>\n",
       "    </tr>\n",
       "    <tr>\n",
       "      <th>4</th>\n",
       "      <td>2.833213</td>\n",
       "      <td>0.000000</td>\n",
       "      <td>4.543295</td>\n",
       "      <td>8.384285</td>\n",
       "      <td>9.678853</td>\n",
       "      <td>9.917004</td>\n",
       "      <td>0.000000</td>\n",
       "      <td>0.356675</td>\n",
       "      <td>8.385056</td>\n",
       "      <td>1.768925</td>\n",
       "      <td>6.784316</td>\n",
       "      <td>7.364626</td>\n",
       "      <td>0.693147</td>\n",
       "      <td>0.318454</td>\n",
       "    </tr>\n",
       "  </tbody>\n",
       "</table>\n",
       "</div>"
      ],
      "text/plain": [
       "   Coletado por Caçamba de serviço de limpeza       Vala  \\\n",
       "0                                   12.623486  10.740800   \n",
       "1                                    7.766841   1.098612   \n",
       "2                                    7.099202   1.098612   \n",
       "3                                    6.484635   1.386294   \n",
       "4                                    2.833213   0.000000   \n",
       "\n",
       "   Rede Geral de Esgoto ou pluvial.1  Residencial_x  Industrial_x  \\\n",
       "0                           9.952944      15.531823     14.752850   \n",
       "1                           5.093750       8.858854      9.618550   \n",
       "2                           5.768321       8.479987      7.607322   \n",
       "3                           5.407172       9.086966      8.044667   \n",
       "4                           4.543295       8.384285      9.678853   \n",
       "\n",
       "   Poder público   Iluminacão pública  Serv.público_x  \\\n",
       "0       13.987397           12.916191       13.578755   \n",
       "1        8.441849            0.000000        9.198336   \n",
       "2        8.804201            0.000000        4.448237   \n",
       "3        8.985356            0.017419        8.248920   \n",
       "4        9.917004            0.000000        0.356675   \n",
       "\n",
       "   Consumo resdencial de energia elétrica (MWh)  \\\n",
       "0                                     15.532349   \n",
       "1                                      8.861758   \n",
       "2                                      8.481118   \n",
       "3                                      9.085998   \n",
       "4                                      8.385056   \n",
       "\n",
       "   Médio anual por unidade consumidora    \\\n",
       "0                               1.229538   \n",
       "1                               0.788189   \n",
       "2                               0.929753   \n",
       "3                               1.154518   \n",
       "4                               1.768925   \n",
       "\n",
       "   Total de unidades consumidoras  residenciais       Total  Serv.público_y  \\\n",
       "0                                      14.649661  14.738778        6.648719   \n",
       "1                                       8.676012   8.735244        1.890850   \n",
       "2                                       8.057397   8.230644        1.159237   \n",
       "3                                       8.294065   8.442887        1.571217   \n",
       "4                                       6.784316   7.364626        0.693147   \n",
       "\n",
       "   Consumo próprio_y  \n",
       "0           5.305258  \n",
       "1           0.782759  \n",
       "2           0.117783  \n",
       "3           0.594707  \n",
       "4           0.318454  "
      ]
     },
     "execution_count": 743,
     "metadata": {},
     "output_type": "execute_result"
    }
   ],
   "source": [
    "x.iloc[:, high_coefs].head()"
   ]
  },
  {
   "cell_type": "markdown",
   "metadata": {},
   "source": [
    "# Sthocastic Gradient Descent"
   ]
  },
  {
   "cell_type": "code",
   "execution_count": 746,
   "metadata": {
    "collapsed": false,
    "jupyter": {
     "outputs_hidden": false
    }
   },
   "outputs": [],
   "source": [
    "from sklearn.linear_model import SGDRegressor"
   ]
  },
  {
   "cell_type": "code",
   "execution_count": 914,
   "metadata": {
    "collapsed": false,
    "jupyter": {
     "outputs_hidden": false
    }
   },
   "outputs": [
    {
     "name": "stderr",
     "output_type": "stream",
     "text": [
      "C:\\Users\\luisr\\anaconda3\\lib\\site-packages\\sklearn\\utils\\validation.py:73: DataConversionWarning: A column-vector y was passed when a 1d array was expected. Please change the shape of y to (n_samples, ), for example using ravel().\n",
      "  return f(**kwargs)\n",
      "C:\\Users\\luisr\\anaconda3\\lib\\site-packages\\sklearn\\utils\\validation.py:73: DataConversionWarning: A column-vector y was passed when a 1d array was expected. Please change the shape of y to (n_samples, ), for example using ravel().\n",
      "  return f(**kwargs)\n",
      "C:\\Users\\luisr\\anaconda3\\lib\\site-packages\\sklearn\\utils\\validation.py:73: DataConversionWarning: A column-vector y was passed when a 1d array was expected. Please change the shape of y to (n_samples, ), for example using ravel().\n",
      "  return f(**kwargs)\n",
      "C:\\Users\\luisr\\anaconda3\\lib\\site-packages\\sklearn\\utils\\validation.py:73: DataConversionWarning: A column-vector y was passed when a 1d array was expected. Please change the shape of y to (n_samples, ), for example using ravel().\n",
      "  return f(**kwargs)\n"
     ]
    }
   ],
   "source": [
    "model_parameters_dict = {\n",
    "    'Linear': {'penalty': 'none'},\n",
    "    'Lasso': {'penalty': 'l2',\n",
    "           'alpha': lasso_cv.alpha_},\n",
    "    'Ridge': {'penalty': 'l1',\n",
    "           'alpha': ridge_cv.alpha_},\n",
    "    'ElasticNet': {'penalty': 'elasticnet', \n",
    "                   'alpha': elasticNetCV.alpha_,\n",
    "                   'l1_ratio': elasticNetCV.l1_ratio_}\n",
    "}\n",
    "\n",
    "scrs = []\n",
    "\n",
    "for modellabel, parameters in model_parameters_dict.items():\n",
    "    # following notation passes the dict items as arguments\n",
    "    SGD = SGDRegressor(eta0=0.02, **parameters)\n",
    "    SGD.fit(x_train, y_train)\n",
    "    scrs.append([modellabel, r2_score(y_test, SGD.predict(x_test))])\n"
   ]
  },
  {
   "cell_type": "markdown",
   "metadata": {},
   "source": [
    "##  SGD Evaluation"
   ]
  },
  {
   "cell_type": "code",
   "execution_count": 915,
   "metadata": {},
   "outputs": [
    {
     "data": {
      "text/plain": [
       "[['Linear', 0.7728334625812923],\n",
       " ['Lasso', 0.7683853437253797],\n",
       " ['Ridge', -0.023112313606260315],\n",
       " ['ElasticNet', 0.7748107643111565]]"
      ]
     },
     "execution_count": 915,
     "metadata": {},
     "output_type": "execute_result"
    }
   ],
   "source": [
    "scrs"
   ]
  },
  {
   "cell_type": "code",
   "execution_count": 916,
   "metadata": {},
   "outputs": [
    {
     "data": {
      "text/plain": [
       "{'Linear': {'penalty': 'none'},\n",
       " 'Lasso': {'penalty': 'l2', 'alpha': 0.0009949200925338498},\n",
       " 'Ridge': {'penalty': 'l1', 'alpha': 1.1515755755755754},\n",
       " 'ElasticNet': {'penalty': 'elasticnet',\n",
       "  'alpha': 0.005130709100547478,\n",
       "  'l1_ratio': 0.1}}"
      ]
     },
     "execution_count": 916,
     "metadata": {},
     "output_type": "execute_result"
    }
   ],
   "source": [
    "model_parameters_dict"
   ]
  },
  {
   "cell_type": "code",
   "execution_count": 917,
   "metadata": {},
   "outputs": [
    {
     "data": {
      "text/plain": [
       "(7, 414.0)"
      ]
     },
     "execution_count": 917,
     "metadata": {},
     "output_type": "execute_result"
    }
   ],
   "source": [
    "SGD.n_iter_, SGD.t_"
   ]
  },
  {
   "cell_type": "code",
   "execution_count": 918,
   "metadata": {},
   "outputs": [],
   "source": [
    "coefs = SGD.coef_"
   ]
  },
  {
   "cell_type": "code",
   "execution_count": 919,
   "metadata": {},
   "outputs": [
    {
     "data": {
      "image/png": "[encoded data removed]",
      "text/plain": [
       "<Figure size 504x360 with 1 Axes>"
      ]
     },
     "metadata": {
      "needs_background": "light"
     },
     "output_type": "display_data"
    }
   ],
   "source": [
    "coefs_df = pd.DataFrame(coefs.ravel())\n",
    "coefs_df.plot(marker='o', figsize=(7,5))\n",
    "plt.xticks()\n",
    "plt.grid()"
   ]
  },
  {
   "cell_type": "code",
   "execution_count": 898,
   "metadata": {},
   "outputs": [
    {
     "name": "stdout",
     "output_type": "stream",
     "text": [
      "[0.0378400446495886, 0.04132080192767116, 0.03631273546010621, -0.03285308770140425, -0.05166288069228877, 0.03594992758722418, 0.043645057497795715, 0.04152906429786302, 0.03412537393272033, 0.09308293357685461, 0.06703922863633774, 0.06279967602850134, 0.030982278982897092, 0.041562720972079206, 0.0793419896433997, 0.03672518233494052, 0.03804212958870115, 0.06916956207339779, 0.035320218777052846, 0.046330290820487556]\n"
     ]
    }
   ],
   "source": [
    "high_coefs = []\n",
    "coefs_values = []\n",
    "\n",
    "for i in range(len(coefs_df)):\n",
    "    if np.abs(coefs.ravel()[i])>0.03:\n",
    "        \n",
    "        high_coefs.append(i)\n",
    "        coefs_values.append(coefs.ravel()[i])\n",
    "print(coefs_values)"
   ]
  },
  {
   "cell_type": "code",
   "execution_count": 899,
   "metadata": {},
   "outputs": [
    {
     "data": {
      "text/plain": [
       "<matplotlib.axes._subplots.AxesSubplot at 0x12537e2bc70>"
      ]
     },
     "execution_count": 899,
     "metadata": {},
     "output_type": "execute_result"
    },
    {
     "data": {
      "image/png": "[encoded data removed]",
      "text/plain": [
       "<Figure size 1440x144 with 2 Axes>"
      ]
     },
     "metadata": {
      "needs_background": "light"
     },
     "output_type": "display_data"
    }
   ],
   "source": [
    "ax = plt.figure(figsize=(20,2))\n",
    "ax0 = ax.add_subplot(111)\n",
    "sns.heatmap(pd.DataFrame(coefs_values).T, ax=ax0, annot=True, linewidths=0.5)\n"
   ]
  },
  {
   "cell_type": "code",
   "execution_count": 900,
   "metadata": {},
   "outputs": [
    {
     "data": {
      "text/html": [
       "<div>\n",
       "<style scoped>\n",
       "    .dataframe tbody tr th:only-of-type {\n",
       "        vertical-align: middle;\n",
       "    }\n",
       "\n",
       "    .dataframe tbody tr th {\n",
       "        vertical-align: top;\n",
       "    }\n",
       "\n",
       "    .dataframe thead th {\n",
       "        text-align: right;\n",
       "    }\n",
       "</style>\n",
       "<table border=\"1\" class=\"dataframe\">\n",
       "  <thead>\n",
       "    <tr style=\"text-align: right;\">\n",
       "      <th></th>\n",
       "      <th>3 banheiros</th>\n",
       "      <th>4 banheiros ou mais</th>\n",
       "      <th>Não tinham banheiro</th>\n",
       "      <th>Vala</th>\n",
       "      <th>Rio, lago ou mar</th>\n",
       "      <th>Sanitário cujo esgotamento é feito por:</th>\n",
       "      <th>Rede Geral de Esgoto ou pluvial.1</th>\n",
       "      <th>Residencial_x</th>\n",
       "      <th>Industrial_x</th>\n",
       "      <th>Poder público</th>\n",
       "      <th>Iluminacão pública</th>\n",
       "      <th>Serv.público_x</th>\n",
       "      <th>Consumo próprio_x</th>\n",
       "      <th>Consumo resdencial de energia elétrica (MWh)</th>\n",
       "      <th>Médio anual por unidade consumidora</th>\n",
       "      <th>Total</th>\n",
       "      <th>Industrial_y</th>\n",
       "      <th>Poderes públicos</th>\n",
       "      <th>Iluminação pública</th>\n",
       "      <th>Serv.público_y</th>\n",
       "    </tr>\n",
       "  </thead>\n",
       "  <tbody>\n",
       "    <tr>\n",
       "      <th>0</th>\n",
       "      <td>12.207242</td>\n",
       "      <td>11.008314</td>\n",
       "      <td>10.212405</td>\n",
       "      <td>10.740800</td>\n",
       "      <td>10.298633</td>\n",
       "      <td>10.150348</td>\n",
       "      <td>9.952944</td>\n",
       "      <td>15.531823</td>\n",
       "      <td>14.752850</td>\n",
       "      <td>13.987397</td>\n",
       "      <td>12.916191</td>\n",
       "      <td>13.578755</td>\n",
       "      <td>11.200172</td>\n",
       "      <td>15.532349</td>\n",
       "      <td>1.229538</td>\n",
       "      <td>14.738778</td>\n",
       "      <td>8.919524</td>\n",
       "      <td>8.624754</td>\n",
       "      <td>4.334720</td>\n",
       "      <td>6.648719</td>\n",
       "    </tr>\n",
       "    <tr>\n",
       "      <th>1</th>\n",
       "      <td>4.454347</td>\n",
       "      <td>3.258097</td>\n",
       "      <td>5.153292</td>\n",
       "      <td>1.098612</td>\n",
       "      <td>0.693147</td>\n",
       "      <td>5.117994</td>\n",
       "      <td>5.093750</td>\n",
       "      <td>8.858854</td>\n",
       "      <td>9.618550</td>\n",
       "      <td>8.441849</td>\n",
       "      <td>0.000000</td>\n",
       "      <td>9.198336</td>\n",
       "      <td>2.523807</td>\n",
       "      <td>8.861758</td>\n",
       "      <td>0.788189</td>\n",
       "      <td>8.735244</td>\n",
       "      <td>3.295837</td>\n",
       "      <td>3.835412</td>\n",
       "      <td>0.000000</td>\n",
       "      <td>1.890850</td>\n",
       "    </tr>\n",
       "    <tr>\n",
       "      <th>2</th>\n",
       "      <td>4.007333</td>\n",
       "      <td>3.091042</td>\n",
       "      <td>5.828946</td>\n",
       "      <td>1.098612</td>\n",
       "      <td>0.000000</td>\n",
       "      <td>5.789960</td>\n",
       "      <td>5.768321</td>\n",
       "      <td>8.479987</td>\n",
       "      <td>7.607322</td>\n",
       "      <td>8.804201</td>\n",
       "      <td>0.000000</td>\n",
       "      <td>4.448237</td>\n",
       "      <td>0.000000</td>\n",
       "      <td>8.481118</td>\n",
       "      <td>0.929753</td>\n",
       "      <td>8.230644</td>\n",
       "      <td>3.749504</td>\n",
       "      <td>3.135494</td>\n",
       "      <td>0.000000</td>\n",
       "      <td>1.159237</td>\n",
       "    </tr>\n",
       "    <tr>\n",
       "      <th>3</th>\n",
       "      <td>4.382027</td>\n",
       "      <td>3.295837</td>\n",
       "      <td>5.690359</td>\n",
       "      <td>1.386294</td>\n",
       "      <td>0.000000</td>\n",
       "      <td>5.616771</td>\n",
       "      <td>5.407172</td>\n",
       "      <td>9.086966</td>\n",
       "      <td>8.044667</td>\n",
       "      <td>8.985356</td>\n",
       "      <td>0.017419</td>\n",
       "      <td>8.248920</td>\n",
       "      <td>1.014778</td>\n",
       "      <td>9.085998</td>\n",
       "      <td>1.154518</td>\n",
       "      <td>8.442887</td>\n",
       "      <td>3.727198</td>\n",
       "      <td>3.789855</td>\n",
       "      <td>0.318454</td>\n",
       "      <td>1.571217</td>\n",
       "    </tr>\n",
       "    <tr>\n",
       "      <th>4</th>\n",
       "      <td>3.091042</td>\n",
       "      <td>2.079442</td>\n",
       "      <td>4.543295</td>\n",
       "      <td>0.000000</td>\n",
       "      <td>0.000000</td>\n",
       "      <td>4.543295</td>\n",
       "      <td>4.543295</td>\n",
       "      <td>8.384285</td>\n",
       "      <td>9.678853</td>\n",
       "      <td>9.917004</td>\n",
       "      <td>0.000000</td>\n",
       "      <td>0.356675</td>\n",
       "      <td>5.648471</td>\n",
       "      <td>8.385056</td>\n",
       "      <td>1.768925</td>\n",
       "      <td>7.364626</td>\n",
       "      <td>2.333357</td>\n",
       "      <td>3.279500</td>\n",
       "      <td>0.000000</td>\n",
       "      <td>0.693147</td>\n",
       "    </tr>\n",
       "  </tbody>\n",
       "</table>\n",
       "</div>"
      ],
      "text/plain": [
       "   3 banheiros  4 banheiros ou mais  Não tinham banheiro       Vala  \\\n",
       "0    12.207242            11.008314            10.212405  10.740800   \n",
       "1     4.454347             3.258097             5.153292   1.098612   \n",
       "2     4.007333             3.091042             5.828946   1.098612   \n",
       "3     4.382027             3.295837             5.690359   1.386294   \n",
       "4     3.091042             2.079442             4.543295   0.000000   \n",
       "\n",
       "   Rio, lago ou mar  Sanitário cujo esgotamento é feito por:  \\\n",
       "0         10.298633                                10.150348   \n",
       "1          0.693147                                 5.117994   \n",
       "2          0.000000                                 5.789960   \n",
       "3          0.000000                                 5.616771   \n",
       "4          0.000000                                 4.543295   \n",
       "\n",
       "   Rede Geral de Esgoto ou pluvial.1  Residencial_x  Industrial_x  \\\n",
       "0                           9.952944      15.531823     14.752850   \n",
       "1                           5.093750       8.858854      9.618550   \n",
       "2                           5.768321       8.479987      7.607322   \n",
       "3                           5.407172       9.086966      8.044667   \n",
       "4                           4.543295       8.384285      9.678853   \n",
       "\n",
       "   Poder público   Iluminacão pública  Serv.público_x  Consumo próprio_x  \\\n",
       "0       13.987397           12.916191       13.578755          11.200172   \n",
       "1        8.441849            0.000000        9.198336           2.523807   \n",
       "2        8.804201            0.000000        4.448237           0.000000   \n",
       "3        8.985356            0.017419        8.248920           1.014778   \n",
       "4        9.917004            0.000000        0.356675           5.648471   \n",
       "\n",
       "   Consumo resdencial de energia elétrica (MWh)  \\\n",
       "0                                     15.532349   \n",
       "1                                      8.861758   \n",
       "2                                      8.481118   \n",
       "3                                      9.085998   \n",
       "4                                      8.385056   \n",
       "\n",
       "   Médio anual por unidade consumidora        Total  Industrial_y  \\\n",
       "0                               1.229538  14.738778      8.919524   \n",
       "1                               0.788189   8.735244      3.295837   \n",
       "2                               0.929753   8.230644      3.749504   \n",
       "3                               1.154518   8.442887      3.727198   \n",
       "4                               1.768925   7.364626      2.333357   \n",
       "\n",
       "   Poderes públicos   Iluminação pública  Serv.público_y  \n",
       "0           8.624754            4.334720        6.648719  \n",
       "1           3.835412            0.000000        1.890850  \n",
       "2           3.135494            0.000000        1.159237  \n",
       "3           3.789855            0.318454        1.571217  \n",
       "4           3.279500            0.000000        0.693147  "
      ]
     },
     "execution_count": 900,
     "metadata": {},
     "output_type": "execute_result"
    }
   ],
   "source": [
    "x.iloc[:, high_coefs].head()"
   ]
  },
  {
   "cell_type": "markdown",
   "metadata": {},
   "source": [
    "### Conclusion: Comercial Energy Consumption rate in each neighborhood is mostly correlated to the presence of public units and the total energy consumption rate of public units in that neighborhood. In other words we will find more comercial consumption of energy in neighborhoods with more public units and more public energy consumption."
   ]
  },
  {
   "cell_type": "code",
   "execution_count": null,
   "metadata": {},
   "outputs": [],
   "source": []
  },
  {
   "cell_type": "code",
   "execution_count": null,
   "metadata": {},
   "outputs": [],
   "source": []
  },
  {
   "cell_type": "code",
   "execution_count": null,
   "metadata": {},
   "outputs": [],
   "source": []
  },
  {
   "cell_type": "code",
   "execution_count": null,
   "metadata": {},
   "outputs": [],
   "source": []
  },
  {
   "cell_type": "code",
   "execution_count": null,
   "metadata": {},
   "outputs": [],
   "source": []
  },
  {
   "cell_type": "code",
   "execution_count": null,
   "metadata": {},
   "outputs": [],
   "source": []
  },
  {
   "cell_type": "code",
   "execution_count": 60,
   "metadata": {},
   "outputs": [
    {
     "data": {
      "text/plain": [
       "<matplotlib.axes._subplots.AxesSubplot at 0x1d94c9dde20>"
      ]
     },
     "execution_count": 60,
     "metadata": {},
     "output_type": "execute_result"
    },
    {
     "data": {
      "image/png": "[encoded data removed]",
      "text/plain": [
       "<Figure size 792x792 with 2 Axes>"
      ]
     },
     "metadata": {
      "needs_background": "light"
     },
     "output_type": "display_data"
    }
   ],
   "source": [
    "fig = plt.figure(figsize=(1,11))\n",
    "ax0 = fig.add_subplot(111)\n",
    "sns.heatmap(infra.iloc[1:].corr(), cmap='RdBu', linewidths=0.5, ax=ax0) "
   ]
  },
  {
   "cell_type": "code",
   "execution_count": null,
   "metadata": {},
   "outputs": [],
   "source": [
    "from"
   ]
  }
 ],
 "metadata": {
  "kernelspec": {
   "display_name": "Python 3",
   "language": "python",
   "name": "python3"
  },
  "language_info": {
   "codemirror_mode": {
    "name": "ipython",
    "version": 3
   },
   "file_extension": ".py",
   "mimetype": "text/x-python",
   "name": "python",
   "nbconvert_exporter": "python",
   "pygments_lexer": "ipython3",
   "version": "3.8.3"
  }
 },
 "nbformat": 4,
 "nbformat_minor": 4
}
