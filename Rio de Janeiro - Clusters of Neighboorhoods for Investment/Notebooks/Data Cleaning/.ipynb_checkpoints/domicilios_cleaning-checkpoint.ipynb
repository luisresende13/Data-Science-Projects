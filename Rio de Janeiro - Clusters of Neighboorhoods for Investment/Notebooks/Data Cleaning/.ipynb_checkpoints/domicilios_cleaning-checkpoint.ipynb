{
 "cells": [
  {
   "cell_type": "code",
   "execution_count": 1,
   "metadata": {},
   "outputs": [],
   "source": [
    "import pandas as pd\n",
    "import numpy as np\n",
    "import matplotlib.pyplot as plt\n",
    "import seaborn as sns\n",
    "import re"
   ]
  },
  {
   "cell_type": "code",
   "execution_count": null,
   "metadata": {},
   "outputs": [],
   "source": []
  },
  {
   "cell_type": "code",
   "execution_count": 2,
   "metadata": {},
   "outputs": [],
   "source": [
    "pd.set_option('display.max_rows', None)"
   ]
  },
  {
   "cell_type": "code",
   "execution_count": 3,
   "metadata": {},
   "outputs": [],
   "source": [
    "def is_not_in(dfs, keys=[str(i) for i in range(2002,2019)]):\n",
    "\n",
    "    unis = [dfs[i].iloc[:,0].unique() for i in keys]\n",
    "\n",
    "    not_in = []\n",
    "    for i in range(len(keys)):\n",
    "        for j in range(len(keys)):\n",
    "        \n",
    "            if i!=j:\n",
    "            \n",
    "                not_in.append([i, j, unis[i][[str(o).lower().strip().replace('á','a')\n",
    "                                              .replace('é','e')\n",
    "                                              .replace('í','i')\n",
    "                                              .replace('ó','o')\n",
    "                                              .replace('ú','u') not in [str(l).lower().strip().replace('á','a')\n",
    "                                                                         .replace('é','e')\n",
    "                                                                         .replace('í','i')\n",
    "                                                                         .replace('ó','o')\n",
    "                                                                         .replace('ú','u') for l in unis[j].tolist()] for o in unis[i].tolist()]]])\n",
    "\n",
    "    return not_in\n",
    "            "
   ]
  },
  {
   "cell_type": "code",
   "execution_count": null,
   "metadata": {},
   "outputs": [],
   "source": []
  },
  {
   "cell_type": "code",
   "execution_count": 6,
   "metadata": {},
   "outputs": [],
   "source": [
    "lixo = pd.read_excel('\\\\Users\\luisr\\Desktop\\Repository\\IBM_courses\\Course Work\\Assignments\\Final Capstone Project\\\\rio dataframes\\\\Outside Data\\\\raw\\\\bairros\\\\infraestrutura\\\\domicilios_lixo.xls', None)"
   ]
  },
  {
   "cell_type": "code",
   "execution_count": 40,
   "metadata": {},
   "outputs": [],
   "source": [
    "banho = pd.read_excel('\\\\Users\\luisr\\Desktop\\Repository\\IBM_courses\\Course Work\\Assignments\\Final Capstone Project\\\\rio dataframes\\\\Outside Data\\\\raw\\\\bairros\\\\infraestrutura\\\\domicilios_banheiro.xls')"
   ]
  },
  {
   "cell_type": "code",
   "execution_count": 41,
   "metadata": {},
   "outputs": [],
   "source": [
    "esgoto = pd.read_excel('\\\\Users\\luisr\\Desktop\\Repository\\IBM_courses\\Course Work\\Assignments\\Final Capstone Project\\\\rio dataframes\\\\Outside Data\\\\raw\\\\bairros\\\\infraestrutura\\\\domicilios_esgoto.xls')"
   ]
  },
  {
   "cell_type": "code",
   "execution_count": 42,
   "metadata": {},
   "outputs": [],
   "source": [
    "energia_domi = pd.read_excel('\\\\Users\\luisr\\Desktop\\Repository\\IBM_courses\\Course Work\\Assignments\\Final Capstone Project\\\\rio dataframes\\\\Outside Data\\\\raw\\\\bairros\\\\infraestrutura\\\\domicilios_energia.xls')"
   ]
  },
  {
   "cell_type": "markdown",
   "metadata": {},
   "source": [
    "# Lixo:"
   ]
  },
  {
   "cell_type": "code",
   "execution_count": 14,
   "metadata": {},
   "outputs": [],
   "source": [
    "key = list(lixo.keys())[0]"
   ]
  },
  {
   "cell_type": "code",
   "execution_count": null,
   "metadata": {},
   "outputs": [],
   "source": [
    "lixo = lixo[key]"
   ]
  },
  {
   "cell_type": "code",
   "execution_count": 30,
   "metadata": {},
   "outputs": [],
   "source": [
    "cols = [lixo.iloc[4, 0]] + lixo.iloc[5, 1:3].tolist() + ['Coletado por '+lixo.iloc[6, i] for i in [3,4]] + [lixo.iloc[5, 5]]\n",
    "\n",
    "for i in range(2,6): cols[i] = cols[i][:-3].strip()"
   ]
  },
  {
   "cell_type": "code",
   "execution_count": 85,
   "metadata": {},
   "outputs": [],
   "source": [
    "lixo = lixo.loc[8:260]\n",
    "lixo.columns = cols"
   ]
  },
  {
   "cell_type": "code",
   "execution_count": 33,
   "metadata": {},
   "outputs": [],
   "source": [
    "i=-1"
   ]
  },
  {
   "cell_type": "code",
   "execution_count": null,
   "metadata": {},
   "outputs": [],
   "source": [
    "i+=1\n",
    "lixo"
   ]
  },
  {
   "cell_type": "markdown",
   "metadata": {},
   "source": [
    "# Banho"
   ]
  },
  {
   "cell_type": "code",
   "execution_count": 45,
   "metadata": {},
   "outputs": [],
   "source": [
    "cols_banho = [banho.iloc[5,0]] + banho.iloc[6,1:3].tolist() + banho.iloc[7,3:7].tolist() + [banho.iloc[6,7]]"
   ]
  },
  {
   "cell_type": "code",
   "execution_count": 48,
   "metadata": {},
   "outputs": [],
   "source": [
    "cols_banho[-2] = cols_banho[-2][:-4]"
   ]
  },
  {
   "cell_type": "code",
   "execution_count": 70,
   "metadata": {},
   "outputs": [],
   "source": [
    "banho = banho.loc[9:261]"
   ]
  },
  {
   "cell_type": "code",
   "execution_count": 71,
   "metadata": {},
   "outputs": [],
   "source": [
    "banho.columns = cols_banho"
   ]
  },
  {
   "cell_type": "markdown",
   "metadata": {},
   "source": [
    "# Energia"
   ]
  },
  {
   "cell_type": "code",
   "execution_count": 53,
   "metadata": {},
   "outputs": [],
   "source": [
    "ener_cols = [energia_domi.iloc[4,0]] + energia_domi.iloc[5,1:3].tolist() + energia_domi.iloc[6,3:5].tolist() + [energia_domi.iloc[5,5]]"
   ]
  },
  {
   "cell_type": "code",
   "execution_count": 55,
   "metadata": {},
   "outputs": [],
   "source": [
    "for i in [1,2]: ener_cols[i] = ener_cols[i][:-4]"
   ]
  },
  {
   "cell_type": "code",
   "execution_count": 72,
   "metadata": {},
   "outputs": [],
   "source": [
    "energia_domi = energia_domi.loc[8:257]\n",
    "energia_domi.columns = ener_cols"
   ]
  },
  {
   "cell_type": "markdown",
   "metadata": {},
   "source": [
    "# Esgoto"
   ]
  },
  {
   "cell_type": "code",
   "execution_count": 64,
   "metadata": {},
   "outputs": [],
   "source": [
    "esg_cols = [esgoto.iloc[4,0]] + esgoto.iloc[5,1:3].tolist() + esgoto.iloc[6,3:9].tolist() + [esgoto.iloc[5,10]] + esgoto.iloc[6,10:16].tolist() + [esgoto.iloc[5,16]]"
   ]
  },
  {
   "cell_type": "code",
   "execution_count": 66,
   "metadata": {},
   "outputs": [],
   "source": [
    "col2 = esg_cols[2].split()\n",
    "col2 = col2[:2] + [col2[-1]]\n",
    "esg_cols[2] = ' '.join(col2)"
   ]
  },
  {
   "cell_type": "code",
   "execution_count": 73,
   "metadata": {},
   "outputs": [],
   "source": [
    "esgoto = esgoto.loc[8:255]\n",
    "esgoto.columns = esg_cols"
   ]
  },
  {
   "cell_type": "markdown",
   "metadata": {},
   "source": [
    "# Combining"
   ]
  },
  {
   "cell_type": "code",
   "execution_count": 109,
   "metadata": {},
   "outputs": [],
   "source": [
    "domicilios = {0:lixo, 1:banho, 2:energia_domi, 3:esgoto}"
   ]
  },
  {
   "cell_type": "code",
   "execution_count": 113,
   "metadata": {},
   "outputs": [
    {
     "name": "stderr",
     "output_type": "stream",
     "text": [
      "C:\\Users\\luisr\\anaconda3\\lib\\site-packages\\pandas\\core\\frame.py:4125: SettingWithCopyWarning: \n",
      "A value is trying to be set on a copy of a slice from a DataFrame\n",
      "\n",
      "See the caveats in the documentation: https://pandas.pydata.org/pandas-docs/stable/user_guide/indexing.html#returning-a-view-versus-a-copy\n",
      "  return super().rename(\n"
     ]
    }
   ],
   "source": [
    "for i in range(4): \n",
    "    \n",
    "    domicilios[i].rename(columns={domicilios[i].columns[0]:'Áreas de Planejamento,Regiões de Planejamento, Regiões Administrativas e bairros'}, inplace=True)    \n",
    "    "
   ]
  },
  {
   "cell_type": "code",
   "execution_count": 111,
   "metadata": {},
   "outputs": [],
   "source": [
    "not_in = is_not_in(domicilios, keys=range(4))"
   ]
  },
  {
   "cell_type": "code",
   "execution_count": null,
   "metadata": {},
   "outputs": [],
   "source": [
    "not_in"
   ]
  },
  {
   "cell_type": "code",
   "execution_count": null,
   "metadata": {},
   "outputs": [],
   "source": [
    "energia_domi.loc[27, energia_domi.columns[0]] = 'Imperial de São Cristóvão '"
   ]
  },
  {
   "cell_type": "code",
   "execution_count": 129,
   "metadata": {},
   "outputs": [],
   "source": [
    "domis = pd.merge(lixo.dropna(how='all'), banho.dropna(how='all'), on=lixo.columns[0])"
   ]
  },
  {
   "cell_type": "code",
   "execution_count": 131,
   "metadata": {},
   "outputs": [],
   "source": [
    "domis = pd.merge(domis, energia_domi.dropna(how='all'), on=lixo.columns[0])"
   ]
  },
  {
   "cell_type": "code",
   "execution_count": 152,
   "metadata": {},
   "outputs": [],
   "source": [
    "domis2 = pd.merge(domis, esgoto, on=lixo.columns[0])"
   ]
  },
  {
   "cell_type": "code",
   "execution_count": 155,
   "metadata": {},
   "outputs": [
    {
     "data": {
      "text/plain": [
       "(250, 248, 253, 253, 221, 229)"
      ]
     },
     "execution_count": 155,
     "metadata": {},
     "output_type": "execute_result"
    }
   ],
   "source": [
    "len(energia_domi), len(esgoto), len(banho), len(lixo), len(domis), len(domis2)"
   ]
  },
  {
   "cell_type": "code",
   "execution_count": 156,
   "metadata": {},
   "outputs": [
    {
     "data": {
      "text/plain": [
       "((250, 6), (248, 17), (253, 8), (253, 6), (221, 18), (229, 34))"
      ]
     },
     "execution_count": 156,
     "metadata": {},
     "output_type": "execute_result"
    }
   ],
   "source": [
    "energia_domi.shape, esgoto.shape, banho.shape, (lixo).shape, (domis).shape, (domis2).shape"
   ]
  },
  {
   "cell_type": "markdown",
   "metadata": {},
   "source": [
    "## Type Conversion"
   ]
  },
  {
   "cell_type": "code",
   "execution_count": 144,
   "metadata": {},
   "outputs": [],
   "source": [
    "domis.iloc[:, 1:] = domis.iloc[:, 1:].astype(float)"
   ]
  },
  {
   "cell_type": "code",
   "execution_count": 157,
   "metadata": {},
   "outputs": [],
   "source": [
    "domis2.iloc[:, 1:] = domis2.iloc[:, 1:].astype(float)"
   ]
  },
  {
   "cell_type": "markdown",
   "metadata": {},
   "source": [
    "# Saving Complete 'Domicilios' Table:"
   ]
  },
  {
   "cell_type": "code",
   "execution_count": 145,
   "metadata": {},
   "outputs": [],
   "source": [
    "#domis.to_csv('\\\\Users\\luisr\\Desktop\\Repository\\IBM_courses\\Course Work\\Assignments\\Final Capstone Project\\\\rio dataframes\\\\Outside Data\\\\raw\\\\bairros\\\\infraestrutura\\\\clean\\\\domicilios_clean.csv', index=False)"
   ]
  },
  {
   "cell_type": "code",
   "execution_count": 158,
   "metadata": {},
   "outputs": [],
   "source": [
    "#domis2.to_csv('\\\\Users\\luisr\\Desktop\\Repository\\IBM_courses\\Course Work\\Assignments\\Final Capstone Project\\\\rio dataframes\\\\Outside Data\\\\raw\\\\bairros\\\\infraestrutura\\\\clean\\\\domicilios2_clean.csv', index=False)"
   ]
  },
  {
   "cell_type": "markdown",
   "metadata": {},
   "source": [
    "# Exploratory Data Analysis"
   ]
  },
  {
   "cell_type": "code",
   "execution_count": 159,
   "metadata": {},
   "outputs": [
    {
     "data": {
      "text/plain": [
       "<matplotlib.axes._subplots.AxesSubplot at 0x24eb5fcfb50>"
      ]
     },
     "execution_count": 159,
     "metadata": {},
     "output_type": "execute_result"
    },
    {
     "data": {
      "image/png": "[encoded data removed]",
      "text/plain": [
       "<Figure size 720x720 with 2 Axes>"
      ]
     },
     "metadata": {
      "needs_background": "light"
     },
     "output_type": "display_data"
    }
   ],
   "source": [
    "fig = plt.figure(figsize=(10,10))\n",
    "ax0 = fig.add_subplot(111)\n",
    "sns.heatmap(domis2.iloc[:, 1:].astype(float).corr(), cmap='RdBu', linewidths=0.5, ax=ax0, yticklabels='auto')"
   ]
  },
  {
   "cell_type": "code",
   "execution_count": 147,
   "metadata": {},
   "outputs": [
    {
     "data": {
      "text/plain": [
       "['Áreas de Planejamento, Regiões de Planejamento, Regiões Administrativas e Bairros',\n",
       " 'Total',\n",
       " 'Tinham banheiro',\n",
       " '1 banheiro',\n",
       " '2 banheiros',\n",
       " '3 banheiros',\n",
       " '4 banheiros ou mais',\n",
       " 'Não tinham banheiro']"
      ]
     },
     "execution_count": 147,
     "metadata": {},
     "output_type": "execute_result"
    }
   ],
   "source": [
    "cols_banho"
   ]
  },
  {
   "cell_type": "code",
   "execution_count": 148,
   "metadata": {},
   "outputs": [
    {
     "data": {
      "text/plain": [
       "['Áreas de Planejamento, Regiões de Planejamento,  Regiões Administrativas e bairros',\n",
       " 'Total',\n",
       " 'Tinham energia eletrica',\n",
       " 'Companhia distribuidora',\n",
       " 'Outra fonte',\n",
       " 'Não tinham']"
      ]
     },
     "execution_count": 148,
     "metadata": {},
     "output_type": "execute_result"
    }
   ],
   "source": [
    "ener_cols"
   ]
  },
  {
   "cell_type": "code",
   "execution_count": 149,
   "metadata": {},
   "outputs": [
    {
     "data": {
      "text/plain": [
       "['Áreas de Planejamento, Regiões de Planejamento, Regiões Administrativas e Bairros',\n",
       " 'Total',\n",
       " 'Coletado',\n",
       " 'Coletado por Serviço de limpeza',\n",
       " 'Coletado por Caçamba de serviço de limpeza',\n",
       " 'Outro destino']"
      ]
     },
     "execution_count": 149,
     "metadata": {},
     "output_type": "execute_result"
    }
   ],
   "source": [
    "cols"
   ]
  },
  {
   "cell_type": "code",
   "execution_count": 150,
   "metadata": {},
   "outputs": [
    {
     "data": {
      "text/plain": [
       "['Áreas de Planejamento, Regiões de Planejamento, Regiões Administrativas e Bairros',\n",
       " 'Total',\n",
       " 'Tinham banheiro exclusivo',\n",
       " 'Rede Geral de Esgoto ou pluvial',\n",
       " 'Fossa Séptica',\n",
       " 'Fossa Rudmentar',\n",
       " 'Vala',\n",
       " 'Rio, lago ou mar',\n",
       " 'Outro',\n",
       " 'Sanitário cujo esgotamento é feito por:',\n",
       " 'Rede Geral de Esgoto ou pluvial',\n",
       " 'Fossa Séptica',\n",
       " 'Fossa Rudmentar',\n",
       " 'Vala',\n",
       " 'Rio, lago ou mar',\n",
       " 'Outro',\n",
       " 'Não tinham banheiro ou sanitário']"
      ]
     },
     "execution_count": 150,
     "metadata": {},
     "output_type": "execute_result"
    }
   ],
   "source": [
    "esg_cols"
   ]
  },
  {
   "cell_type": "code",
   "execution_count": 161,
   "metadata": {},
   "outputs": [
    {
     "data": {
      "text/html": [
       "<div>\n",
       "<style scoped>\n",
       "    .dataframe tbody tr th:only-of-type {\n",
       "        vertical-align: middle;\n",
       "    }\n",
       "\n",
       "    .dataframe tbody tr th {\n",
       "        vertical-align: top;\n",
       "    }\n",
       "\n",
       "    .dataframe thead th {\n",
       "        text-align: right;\n",
       "    }\n",
       "</style>\n",
       "<table border=\"1\" class=\"dataframe\">\n",
       "  <thead>\n",
       "    <tr style=\"text-align: right;\">\n",
       "      <th></th>\n",
       "      <th>Áreas de Planejamento,Regiões de Planejamento, Regiões Administrativas e bairros</th>\n",
       "      <th>Total</th>\n",
       "      <th>Tinham banheiro exclusivo</th>\n",
       "      <th>Rede Geral de Esgoto ou pluvial</th>\n",
       "      <th>Fossa Séptica</th>\n",
       "      <th>Fossa Rudmentar</th>\n",
       "      <th>Vala</th>\n",
       "      <th>Rio, lago ou mar</th>\n",
       "      <th>Outro</th>\n",
       "      <th>Sanitário cujo esgotamento é feito por:</th>\n",
       "      <th>Rede Geral de Esgoto ou pluvial</th>\n",
       "      <th>Fossa Séptica</th>\n",
       "      <th>Fossa Rudmentar</th>\n",
       "      <th>Vala</th>\n",
       "      <th>Rio, lago ou mar</th>\n",
       "      <th>Outro</th>\n",
       "      <th>Não tinham banheiro ou sanitário</th>\n",
       "    </tr>\n",
       "  </thead>\n",
       "  <tbody>\n",
       "    <tr>\n",
       "      <th>8</th>\n",
       "      <td>Total</td>\n",
       "      <td>2144445</td>\n",
       "      <td>2117207</td>\n",
       "      <td>1928949</td>\n",
       "      <td>84588</td>\n",
       "      <td>22495</td>\n",
       "      <td>46202</td>\n",
       "      <td>29691</td>\n",
       "      <td>5282</td>\n",
       "      <td>25599</td>\n",
       "      <td>21013</td>\n",
       "      <td>637</td>\n",
       "      <td>417</td>\n",
       "      <td>2007</td>\n",
       "      <td>891</td>\n",
       "      <td>634</td>\n",
       "      <td>1639</td>\n",
       "    </tr>\n",
       "    <tr>\n",
       "      <th>9</th>\n",
       "      <td>Área de Planejamento 1</td>\n",
       "      <td>104721</td>\n",
       "      <td>100016</td>\n",
       "      <td>97723</td>\n",
       "      <td>352</td>\n",
       "      <td>68</td>\n",
       "      <td>1521</td>\n",
       "      <td>306</td>\n",
       "      <td>46</td>\n",
       "      <td>4473</td>\n",
       "      <td>4292</td>\n",
       "      <td>54</td>\n",
       "      <td>2</td>\n",
       "      <td>72</td>\n",
       "      <td>7</td>\n",
       "      <td>46</td>\n",
       "      <td>232</td>\n",
       "    </tr>\n",
       "    <tr>\n",
       "      <th>10</th>\n",
       "      <td>NaN</td>\n",
       "      <td>NaN</td>\n",
       "      <td>NaN</td>\n",
       "      <td>NaN</td>\n",
       "      <td>NaN</td>\n",
       "      <td>NaN</td>\n",
       "      <td>NaN</td>\n",
       "      <td>NaN</td>\n",
       "      <td>NaN</td>\n",
       "      <td>NaN</td>\n",
       "      <td>NaN</td>\n",
       "      <td>NaN</td>\n",
       "      <td>NaN</td>\n",
       "      <td>NaN</td>\n",
       "      <td>NaN</td>\n",
       "      <td>NaN</td>\n",
       "      <td>NaN</td>\n",
       "    </tr>\n",
       "    <tr>\n",
       "      <th>11</th>\n",
       "      <td>Região de Planejamento 1.1 - Centro</td>\n",
       "      <td>104721</td>\n",
       "      <td>100016</td>\n",
       "      <td>97723</td>\n",
       "      <td>352</td>\n",
       "      <td>68</td>\n",
       "      <td>1521</td>\n",
       "      <td>306</td>\n",
       "      <td>46</td>\n",
       "      <td>4473</td>\n",
       "      <td>4292</td>\n",
       "      <td>54</td>\n",
       "      <td>2</td>\n",
       "      <td>72</td>\n",
       "      <td>7</td>\n",
       "      <td>46</td>\n",
       "      <td>232</td>\n",
       "    </tr>\n",
       "    <tr>\n",
       "      <th>12</th>\n",
       "      <td>I Portuária</td>\n",
       "      <td>15667</td>\n",
       "      <td>14768</td>\n",
       "      <td>14723</td>\n",
       "      <td>24</td>\n",
       "      <td>4</td>\n",
       "      <td>7</td>\n",
       "      <td>1</td>\n",
       "      <td>9</td>\n",
       "      <td>859</td>\n",
       "      <td>796</td>\n",
       "      <td>44</td>\n",
       "      <td>0</td>\n",
       "      <td>4</td>\n",
       "      <td>0</td>\n",
       "      <td>15</td>\n",
       "      <td>40</td>\n",
       "    </tr>\n",
       "  </tbody>\n",
       "</table>\n",
       "</div>"
      ],
      "text/plain": [
       "   Áreas de Planejamento,Regiões de Planejamento, Regiões Administrativas e bairros  \\\n",
       "8                                              Total                                  \n",
       "9                              Área de Planejamento 1                                 \n",
       "10                                                NaN                                 \n",
       "11                Região de Planejamento 1.1 - Centro                                 \n",
       "12                                       I Portuária                                  \n",
       "\n",
       "      Total Tinham banheiro exclusivo Rede Geral de Esgoto ou pluvial  \\\n",
       "8   2144445                   2117207                         1928949   \n",
       "9    104721                    100016                           97723   \n",
       "10      NaN                       NaN                             NaN   \n",
       "11   104721                    100016                           97723   \n",
       "12    15667                     14768                           14723   \n",
       "\n",
       "   Fossa Séptica Fossa Rudmentar   Vala Rio, lago ou mar Outro  \\\n",
       "8          84588           22495  46202            29691  5282   \n",
       "9            352              68   1521              306    46   \n",
       "10           NaN             NaN    NaN              NaN   NaN   \n",
       "11           352              68   1521              306    46   \n",
       "12            24               4      7                1     9   \n",
       "\n",
       "   Sanitário cujo esgotamento é feito por: Rede Geral de Esgoto ou pluvial  \\\n",
       "8                                    25599                           21013   \n",
       "9                                     4473                            4292   \n",
       "10                                     NaN                             NaN   \n",
       "11                                    4473                            4292   \n",
       "12                                     859                             796   \n",
       "\n",
       "   Fossa Séptica Fossa Rudmentar  Vala Rio, lago ou mar Outro  \\\n",
       "8            637             417  2007              891   634   \n",
       "9             54               2    72                7    46   \n",
       "10           NaN             NaN   NaN              NaN   NaN   \n",
       "11            54               2    72                7    46   \n",
       "12            44               0     4                0    15   \n",
       "\n",
       "   Não tinham banheiro ou sanitário  \n",
       "8                              1639  \n",
       "9                               232  \n",
       "10                              NaN  \n",
       "11                              232  \n",
       "12                               40  "
      ]
     },
     "execution_count": 161,
     "metadata": {},
     "output_type": "execute_result"
    }
   ],
   "source": [
    "esgoto.head()"
   ]
  },
  {
   "cell_type": "code",
   "execution_count": null,
   "metadata": {},
   "outputs": [],
   "source": []
  }
 ],
 "metadata": {
  "kernelspec": {
   "display_name": "Python 3",
   "language": "python",
   "name": "python3"
  },
  "language_info": {
   "codemirror_mode": {
    "name": "ipython",
    "version": 3
   },
   "file_extension": ".py",
   "mimetype": "text/x-python",
   "name": "python",
   "nbconvert_exporter": "python",
   "pygments_lexer": "ipython3",
   "version": "3.8.3"
  }
 },
 "nbformat": 4,
 "nbformat_minor": 4
}
