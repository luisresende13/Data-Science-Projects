{
 "cells": [
  {
   "cell_type": "code",
   "execution_count": 1,
   "metadata": {},
   "outputs": [],
   "source": [
    "import pandas as pd\n",
    "import numpy as np"
   ]
  },
  {
   "cell_type": "code",
   "execution_count": 153,
   "metadata": {},
   "outputs": [],
   "source": [
    "import seaborn as sns"
   ]
  },
  {
   "cell_type": "code",
   "execution_count": 163,
   "metadata": {},
   "outputs": [],
   "source": [
    "import matplotlib.pyplot as plt"
   ]
  },
  {
   "cell_type": "code",
   "execution_count": 9,
   "metadata": {},
   "outputs": [],
   "source": [
    "qst_aln = pd.read_csv('\\\\Users\\luisr\\Desktop\\Repository\\IBM_courses\\Personal Work\\Data Frames\\Source\\saep\\CSV\\\\saep_qst_aluno.csv')"
   ]
  },
  {
   "cell_type": "code",
   "execution_count": 14,
   "metadata": {},
   "outputs": [],
   "source": [
    "qst_aln.drop('Unnamed: 0', axis=1, inplace=True)"
   ]
  },
  {
   "cell_type": "markdown",
   "metadata": {},
   "source": [
    "GABARITO:\n",
    "1. Q008: Geladeira (A: uma, B: duas, C: nenhuma)\n",
    "2. Q012: Carro (A: um, B: dois, C: tres, D: nenhum)\n",
    "3. Q043: Reprovado: (A: Não, B: uma vez, C: duas vezes)\n",
    "4. Q044: Abandono: (A: Não, B: uma vez, C: duas vezes)\n",
    "5. Q040: Trabalha fora de casa: (A: sim, B: não)\n",
    "6. Q019: Estudo Mãe\n",
    "7. Q023: Estudo Pai"
   ]
  },
  {
   "cell_type": "markdown",
   "metadata": {},
   "source": [
    "# Hiphoteses:"
   ]
  },
  {
   "cell_type": "markdown",
   "metadata": {},
   "source": [
    "### Hipothesis 1:"
   ]
  },
  {
   "cell_type": "markdown",
   "metadata": {},
   "source": [
    "1. Null: 15% of students have at least one fridge - Ho: p = 0.15\n",
    "2. Alternative: Less than 15 % of students have at least one fridge: H1: p < 0.15"
   ]
  },
  {
   "cell_type": "markdown",
   "metadata": {},
   "source": [
    "### Hiphotesis 2:"
   ]
  },
  {
   "cell_type": "markdown",
   "metadata": {},
   "source": [
    "1. Null: 50% of students have at least one car at home. Ho: p = 0.5\n",
    "2. Alternative: More than 50% of students have al least one car at home. H1: p > 0.5"
   ]
  },
  {
   "cell_type": "markdown",
   "metadata": {},
   "source": [
    "### Hipothesis 3:"
   ]
  },
  {
   "cell_type": "markdown",
   "metadata": {},
   "source": [
    "1. Null: Students with at least one graduated parent have the same proportion of **reprovement** as students with no parents graduated. Ho: p1-p2 = 0\n",
    "2. Alternative: Students with at least one graduated parent have lower proportion of **reprovement** then students with no parents graduated. Ho: p1-p2 = 0"
   ]
  },
  {
   "cell_type": "markdown",
   "metadata": {},
   "source": [
    "# Extracting and Cleaning Data for Hipothesis Testing"
   ]
  },
  {
   "cell_type": "code",
   "execution_count": 11,
   "metadata": {},
   "outputs": [
    {
     "data": {
      "text/plain": [
       "Index(['Unnamed: 0', 'ID_SAEB', 'ID_REGIAO', 'ID_UF', 'ID_MUNICIPIO',\n",
       "       'ID_ESCOLA', 'ID_DEPENDENCIA_ADM', 'ID_LOCALIZACAO', 'ID_CAPITAL',\n",
       "       'ID_TURMA', 'ID_TURNO', 'ID_SERIE', 'ID_ALUNO', 'IN_SITUACAO_CENSO',\n",
       "       'IN_PROVA_BRASIL', 'IN_PREENCHIMENTO', 'TX_RESP_Q001', 'TX_RESP_Q002',\n",
       "       'TX_RESP_Q003', 'TX_RESP_Q004', 'TX_RESP_Q005', 'TX_RESP_Q006',\n",
       "       'TX_RESP_Q007', 'TX_RESP_Q008', 'TX_RESP_Q009', 'TX_RESP_Q010',\n",
       "       'TX_RESP_Q011', 'TX_RESP_Q012', 'TX_RESP_Q013', 'TX_RESP_Q014',\n",
       "       'TX_RESP_Q015', 'TX_RESP_Q016', 'TX_RESP_Q017', 'TX_RESP_Q018',\n",
       "       'TX_RESP_Q019', 'TX_RESP_Q020', 'TX_RESP_Q021', 'TX_RESP_Q022',\n",
       "       'TX_RESP_Q023', 'TX_RESP_Q024', 'TX_RESP_Q025', 'TX_RESP_Q026',\n",
       "       'TX_RESP_Q027', 'TX_RESP_Q028', 'TX_RESP_Q029', 'TX_RESP_Q030',\n",
       "       'TX_RESP_Q031', 'TX_RESP_Q032', 'TX_RESP_Q033', 'TX_RESP_Q034',\n",
       "       'TX_RESP_Q035', 'TX_RESP_Q036', 'TX_RESP_Q037', 'TX_RESP_Q038',\n",
       "       'TX_RESP_Q039', 'TX_RESP_Q040', 'TX_RESP_Q041', 'TX_RESP_Q042',\n",
       "       'TX_RESP_Q043', 'TX_RESP_Q044', 'TX_RESP_Q045', 'TX_RESP_Q046',\n",
       "       'TX_RESP_Q047', 'TX_RESP_Q048', 'TX_RESP_Q049', 'TX_RESP_Q050',\n",
       "       'TX_RESP_Q051', 'TX_RESP_Q052', 'TX_RESP_Q053', 'TX_RESP_Q054',\n",
       "       'TX_RESP_Q055', 'TX_RESP_Q056', 'TX_RESP_Q057', 'TX_RESP_Q058',\n",
       "       'TX_RESP_Q059', 'TX_RESP_Q060', 'TX_RESP_Q061', 'TX_RESP_Q062'],\n",
       "      dtype='object')"
      ]
     },
     "execution_count": 11,
     "metadata": {},
     "output_type": "execute_result"
    }
   ],
   "source": [
    "qst_aln.columns"
   ]
  },
  {
   "cell_type": "code",
   "execution_count": 20,
   "metadata": {},
   "outputs": [],
   "source": [
    "q19 = qst_aln.iloc[:, [14+19]]"
   ]
  },
  {
   "cell_type": "code",
   "execution_count": 21,
   "metadata": {},
   "outputs": [],
   "source": [
    "q23 = qst_aln.iloc[:, [14+23]]"
   ]
  },
  {
   "cell_type": "code",
   "execution_count": 22,
   "metadata": {},
   "outputs": [],
   "source": [
    "q43 = qst_aln.iloc[:, [14+43]]"
   ]
  },
  {
   "cell_type": "code",
   "execution_count": 50,
   "metadata": {},
   "outputs": [],
   "source": [
    "ungrad = ['A', 'E', 'C', 'B', 'D']\n",
    "grad=['F']"
   ]
  },
  {
   "cell_type": "code",
   "execution_count": 24,
   "metadata": {},
   "outputs": [
    {
     "data": {
      "text/plain": [
       "array(['.', 'G', 'A', 'E', 'B', 'C', 'D', 'F', '*'], dtype=object)"
      ]
     },
     "execution_count": 24,
     "metadata": {},
     "output_type": "execute_result"
    }
   ],
   "source": [
    "q19.iloc[:, 0].unique()"
   ]
  },
  {
   "cell_type": "code",
   "execution_count": 31,
   "metadata": {},
   "outputs": [
    {
     "data": {
      "text/plain": [
       "array(['.', 'G', 'A', 'E', 'C', 'B', 'F', 'D', '*'], dtype=object)"
      ]
     },
     "execution_count": 31,
     "metadata": {},
     "output_type": "execute_result"
    }
   ],
   "source": [
    "q23.iloc[:, 0].unique()"
   ]
  },
  {
   "cell_type": "code",
   "execution_count": 56,
   "metadata": {},
   "outputs": [],
   "source": [
    "P1 = (q19=='F').sum()/(q19.isin(ungrad)).sum() "
   ]
  },
  {
   "cell_type": "code",
   "execution_count": 63,
   "metadata": {},
   "outputs": [
    {
     "name": "stdout",
     "output_type": "stream",
     "text": [
      "Proportion of students that have graduated parents: 0.1579\n"
     ]
    }
   ],
   "source": [
    "print('Proportion of students whose mother is graduated: {}'.format(round(P1[0], 4)))"
   ]
  },
  {
   "cell_type": "code",
   "execution_count": 64,
   "metadata": {},
   "outputs": [],
   "source": [
    "P2 = (q23=='F').sum()/(q23.isin(ungrad)).sum() "
   ]
  },
  {
   "cell_type": "code",
   "execution_count": 65,
   "metadata": {},
   "outputs": [
    {
     "name": "stdout",
     "output_type": "stream",
     "text": [
      "Proportion of students that have graduated parents: 0.1497\n"
     ]
    }
   ],
   "source": [
    "print('Proportion of students whose father is graduated: {}'.format(round(P2[0], 4)))"
   ]
  },
  {
   "cell_type": "code",
   "execution_count": 104,
   "metadata": {},
   "outputs": [],
   "source": [
    "is_grad = []\n",
    "for i, j in zip(q19.iloc[:, 0], q23.iloc[:, 0]): \n",
    "    \n",
    "    if i=='F' or j=='F': is_grad.append(1)\n",
    "    elif (i=='G' or i=='.' or i=='*') or (j=='G' or j=='.' or j=='*'): is_grad.append(2)\n",
    "    else: is_grad.append(0)\n",
    "\n",
    "is_grad = np.array(is_grad)"
   ]
  },
  {
   "cell_type": "markdown",
   "metadata": {},
   "source": [
    "1. No graduated parents: 0\n",
    "2. At least one graduated parent: 1"
   ]
  },
  {
   "cell_type": "code",
   "execution_count": 105,
   "metadata": {},
   "outputs": [],
   "source": [
    "reproved = []\n",
    "for i in q43.iloc[:, 0]: \n",
    "    \n",
    "    if i=='A': reproved.append(0)\n",
    "    elif (i=='.' or i=='*'): reproved.append(2)\n",
    "    else: reproved.append(1)\n",
    "        \n",
    "reproved = np.array(reproved)"
   ]
  },
  {
   "cell_type": "markdown",
   "metadata": {},
   "source": [
    "1. Never reproved: 0\n",
    "2. Reproved at least once: 1"
   ]
  },
  {
   "cell_type": "code",
   "execution_count": 106,
   "metadata": {},
   "outputs": [
    {
     "data": {
      "text/plain": [
       "(1048575, 1048575)"
      ]
     },
     "execution_count": 106,
     "metadata": {},
     "output_type": "execute_result"
    }
   ],
   "source": [
    "len(is_grad), len(reproved)"
   ]
  },
  {
   "cell_type": "code",
   "execution_count": 116,
   "metadata": {},
   "outputs": [],
   "source": [
    "repr_grad = reproved[is_grad==1]\n",
    "repr_grad = repr_grad[repr_grad!=2]"
   ]
  },
  {
   "cell_type": "code",
   "execution_count": 118,
   "metadata": {},
   "outputs": [],
   "source": [
    "repr_notgrad = reproved[is_grad==0]\n",
    "repr_notgrad = repr_notgrad[repr_notgrad!=2]"
   ]
  },
  {
   "cell_type": "markdown",
   "metadata": {},
   "source": [
    "#### There we have it. Our two samples to test if there is any difference in the proportion of reprovement of students who have or not graduated parents."
   ]
  },
  {
   "cell_type": "markdown",
   "metadata": {},
   "source": [
    "# Hiphotesis Testing"
   ]
  },
  {
   "cell_type": "markdown",
   "metadata": {},
   "source": [
    "1. Null: Students with at least one graduated parent have the same proportion of **reprovement** as students with no parents graduated. Ho: p1-p2 = 0\n",
    "2. Alternative: Students with at least one graduated parent have lower proportion of **reprovement** then students with no parents graduated. Ho: p1-p2 < 0"
   ]
  },
  {
   "cell_type": "code",
   "execution_count": 231,
   "metadata": {},
   "outputs": [],
   "source": [
    "x1 = repr_notgrad         # Sample of students with no grad parent reproved or not\n",
    "x2 = repr_grad            # Sample of students with grad parent "
   ]
  },
  {
   "cell_type": "code",
   "execution_count": 261,
   "metadata": {},
   "outputs": [
    {
     "data": {
      "text/plain": [
       "<matplotlib.axes._subplots.AxesSubplot at 0x1df84f7c9a0>"
      ]
     },
     "execution_count": 261,
     "metadata": {},
     "output_type": "execute_result"
    },
    {
     "data": {
      "image/png": "[encoded data removed]",
      "text/plain": [
       "<Figure size 432x288 with 1 Axes>"
      ]
     },
     "metadata": {
      "needs_background": "light"
     },
     "output_type": "display_data"
    }
   ],
   "source": [
    "sns.distplot(x1[x1!=2])\n",
    "#sns.distplot(x2)"
   ]
  },
  {
   "cell_type": "code",
   "execution_count": 232,
   "metadata": {},
   "outputs": [],
   "source": [
    "n1 = (x1==1).sum() + (x1==0).sum()           # 0 equals never reproved\n",
    "n2 = (x2==1).sum() + (x2==0).sum()           # 1 equals reproved at least once"
   ]
  },
  {
   "cell_type": "code",
   "execution_count": 233,
   "metadata": {},
   "outputs": [],
   "source": [
    "p1 = ((x1==1).sum()) / n1                          # Reproved over total (reproved + not-reproved): no grad parent\n",
    "p2 = ((x2==1).sum()) / n2                          # Reproved over total (reproved + not-reproved): grad parent"
   ]
  },
  {
   "cell_type": "code",
   "execution_count": 258,
   "metadata": {},
   "outputs": [],
   "source": [
    "p = ((x1==1).sum() + (x2==1).sum()) / (n1 + n2)                # Total proportion of reproved students"
   ]
  },
  {
   "cell_type": "markdown",
   "metadata": {},
   "source": [
    "#### Random variable p1-p2 follows normal distribution with average u, variance s."
   ]
  },
  {
   "cell_type": "code",
   "execution_count": 255,
   "metadata": {},
   "outputs": [
    {
     "data": {
      "text/plain": [
       "(0.5731718859641965, 0.5975414419622971)"
      ]
     },
     "execution_count": 255,
     "metadata": {},
     "output_type": "execute_result"
    }
   ],
   "source": [
    "p1, p2"
   ]
  },
  {
   "cell_type": "code",
   "execution_count": 236,
   "metadata": {},
   "outputs": [],
   "source": [
    "u = p1 - p2\n",
    "\n",
    "s = (p1 * (1-p1)) / n1 + (p2 * (1-p2)) / n2\n",
    "sd = np.sqrt(s)"
   ]
  },
  {
   "cell_type": "code",
   "execution_count": 237,
   "metadata": {},
   "outputs": [
    {
     "name": "stdout",
     "output_type": "stream",
     "text": [
      "-0.02437\n",
      "3e-06\n",
      "0.001754\n"
     ]
    },
    {
     "data": {
      "text/plain": [
       "[None, None, None]"
      ]
     },
     "execution_count": 237,
     "metadata": {},
     "output_type": "execute_result"
    }
   ],
   "source": [
    "[print(round(i, 6)) for i in [u, s, sd]]          # Great, small variance."
   ]
  },
  {
   "cell_type": "markdown",
   "metadata": {},
   "source": [
    "#### Standard Deviance of the difference in proportion 'p1-p2' when p1 = p2 (Null Hiphotesis)"
   ]
  },
  {
   "cell_type": "code",
   "execution_count": 239,
   "metadata": {},
   "outputs": [],
   "source": [
    "s_0 = p * (1-p) * (1/n1 + 1/n2)\n",
    "\n",
    "sd_0 = np.sqrt(s_0)"
   ]
  },
  {
   "cell_type": "code",
   "execution_count": 253,
   "metadata": {},
   "outputs": [
    {
     "data": {
      "text/plain": [
       "0.0017621151845146753"
      ]
     },
     "execution_count": 253,
     "metadata": {},
     "output_type": "execute_result"
    }
   ],
   "source": [
    "sd_0"
   ]
  },
  {
   "cell_type": "markdown",
   "metadata": {},
   "source": [
    "#### Therefore we can evaluate the hiphotesis using Z:"
   ]
  },
  {
   "cell_type": "code",
   "execution_count": 252,
   "metadata": {},
   "outputs": [],
   "source": [
    "z = u / sd_0"
   ]
  },
  {
   "cell_type": "code",
   "execution_count": 251,
   "metadata": {},
   "outputs": [
    {
     "data": {
      "text/plain": [
       "-13.829717950482582"
      ]
     },
     "execution_count": 251,
     "metadata": {},
     "output_type": "execute_result"
    }
   ],
   "source": [
    "z"
   ]
  },
  {
   "cell_type": "code",
   "execution_count": 254,
   "metadata": {},
   "outputs": [
    {
     "data": {
      "text/plain": [
       "8.434029890712474e-44"
      ]
     },
     "execution_count": 254,
     "metadata": {},
     "output_type": "execute_result"
    }
   ],
   "source": [
    "norm.cdf(z, 0, 1)"
   ]
  },
  {
   "cell_type": "markdown",
   "metadata": {},
   "source": [
    "#### This means that if there were no difference between the proportion of reprovement between the two populations, we would never find two samples with a diference in proportion (u) as high as 0.02437 and deviance (sd) of 3 * 1/10^6"
   ]
  },
  {
   "cell_type": "markdown",
   "metadata": {},
   "source": [
    "#### Normal Distribution for 0 difference in proportion p among the samples (Ho)."
   ]
  },
  {
   "cell_type": "code",
   "execution_count": 132,
   "metadata": {},
   "outputs": [],
   "source": [
    "from scipy.stats import norm"
   ]
  },
  {
   "cell_type": "code",
   "execution_count": 208,
   "metadata": {},
   "outputs": [],
   "source": [
    "x=np.linspace(-0.01, 0.01, 100)\n",
    "y = norm.pdf(x, 0, sd_0)"
   ]
  },
  {
   "cell_type": "code",
   "execution_count": 209,
   "metadata": {},
   "outputs": [
    {
     "data": {
      "text/plain": [
       "[<matplotlib.lines.Line2D at 0x1df84db6580>]"
      ]
     },
     "execution_count": 209,
     "metadata": {},
     "output_type": "execute_result"
    },
    {
     "data": {
      "image/png": "[encoded data removed]",
      "text/plain": [
       "<Figure size 432x288 with 1 Axes>"
      ]
     },
     "metadata": {
      "needs_background": "light"
     },
     "output_type": "display_data"
    }
   ],
   "source": [
    "plt.plot(x, y)"
   ]
  },
  {
   "cell_type": "code",
   "execution_count": 256,
   "metadata": {},
   "outputs": [
    {
     "data": {
      "text/plain": [
       "8.434029890712474e-44"
      ]
     },
     "execution_count": 256,
     "metadata": {},
     "output_type": "execute_result"
    }
   ],
   "source": [
    "norm.cdf(u, 0, sd_0)"
   ]
  },
  {
   "cell_type": "code",
   "execution_count": null,
   "metadata": {},
   "outputs": [],
   "source": []
  },
  {
   "cell_type": "code",
   "execution_count": null,
   "metadata": {},
   "outputs": [],
   "source": []
  }
 ],
 "metadata": {
  "kernelspec": {
   "display_name": "Python 3",
   "language": "python",
   "name": "python3"
  },
  "language_info": {
   "codemirror_mode": {
    "name": "ipython",
    "version": 3
   },
   "file_extension": ".py",
   "mimetype": "text/x-python",
   "name": "python",
   "nbconvert_exporter": "python",
   "pygments_lexer": "ipython3",
   "version": "3.8.3"
  }
 },
 "nbformat": 4,
 "nbformat_minor": 4
}
