{
 "cells": [
  {
   "cell_type": "code",
   "execution_count": 22,
   "metadata": {},
   "outputs": [],
   "source": [
    "import pandas as pd\n",
    "import numpy as np"
   ]
  },
  {
   "cell_type": "code",
   "execution_count": 121,
   "metadata": {},
   "outputs": [],
   "source": [
    "res_muni = pd.read_csv('\\\\Users\\luisr\\Desktop\\Repository\\IBM_courses\\Personal Work\\Data Frames\\Work Copies\\Source\\saep\\CSV\\\\saep_res_municipio.csv', sep=';')"
   ]
  },
  {
   "cell_type": "code",
   "execution_count": 122,
   "metadata": {},
   "outputs": [
    {
     "name": "stdout",
     "output_type": "stream",
     "text": [
      "<class 'pandas.core.frame.DataFrame'>\n",
      "RangeIndex: 60608 entries, 0 to 60607\n",
      "Data columns (total 18 columns):\n",
      " #   Column                 Non-Null Count  Dtype \n",
      "---  ------                 --------------  ----- \n",
      " 0   ID_SAEB                60608 non-null  int64 \n",
      " 1   ID_REGIAO              60608 non-null  int64 \n",
      " 2   SIGLA_UF               60608 non-null  object\n",
      " 3   ID_UF                  60608 non-null  int64 \n",
      " 4   NOME_MUNICIPIO         60608 non-null  object\n",
      " 5   ID_MUNICIPIO           60608 non-null  int64 \n",
      " 6   ID_TIPO_REDE           60608 non-null  int64 \n",
      " 7   ID_LOCALIZACAO         60608 non-null  int64 \n",
      " 8   ID_CAPITAL             60608 non-null  int64 \n",
      " 9   ID_SERIE               60608 non-null  int64 \n",
      " 10  NU_MATRICULADOS_CENSO  60608 non-null  int64 \n",
      " 11  NU_PRESENTES           60608 non-null  int64 \n",
      " 12  TAXA_PARTICIPACAO      60608 non-null  object\n",
      " 13  ID_DIVULGACAO          60608 non-null  int64 \n",
      " 14  MEDIA_LP               60608 non-null  object\n",
      " 15  MEDIA_MT               60608 non-null  object\n",
      " 16  ERRO_PADRAO_LP         60608 non-null  object\n",
      " 17  ERRO_PADRAO_MT         60608 non-null  object\n",
      "dtypes: int64(11), object(7)\n",
      "memory usage: 8.3+ MB\n"
     ]
    }
   ],
   "source": [
    "res_muni.info()"
   ]
  },
  {
   "cell_type": "code",
   "execution_count": 123,
   "metadata": {},
   "outputs": [
    {
     "data": {
      "text/html": [
       "<div>\n",
       "<style scoped>\n",
       "    .dataframe tbody tr th:only-of-type {\n",
       "        vertical-align: middle;\n",
       "    }\n",
       "\n",
       "    .dataframe tbody tr th {\n",
       "        vertical-align: top;\n",
       "    }\n",
       "\n",
       "    .dataframe thead th {\n",
       "        text-align: right;\n",
       "    }\n",
       "</style>\n",
       "<table border=\"1\" class=\"dataframe\">\n",
       "  <thead>\n",
       "    <tr style=\"text-align: right;\">\n",
       "      <th></th>\n",
       "      <th>ID_SAEB</th>\n",
       "      <th>ID_REGIAO</th>\n",
       "      <th>SIGLA_UF</th>\n",
       "      <th>ID_UF</th>\n",
       "      <th>NOME_MUNICIPIO</th>\n",
       "      <th>ID_MUNICIPIO</th>\n",
       "      <th>ID_TIPO_REDE</th>\n",
       "      <th>ID_LOCALIZACAO</th>\n",
       "      <th>ID_CAPITAL</th>\n",
       "      <th>ID_SERIE</th>\n",
       "      <th>NU_MATRICULADOS_CENSO</th>\n",
       "      <th>NU_PRESENTES</th>\n",
       "      <th>TAXA_PARTICIPACAO</th>\n",
       "      <th>ID_DIVULGACAO</th>\n",
       "      <th>MEDIA_LP</th>\n",
       "      <th>MEDIA_MT</th>\n",
       "      <th>ERRO_PADRAO_LP</th>\n",
       "      <th>ERRO_PADRAO_MT</th>\n",
       "    </tr>\n",
       "  </thead>\n",
       "  <tbody>\n",
       "    <tr>\n",
       "      <th>0</th>\n",
       "      <td>2011</td>\n",
       "      <td>1</td>\n",
       "      <td>AC</td>\n",
       "      <td>12</td>\n",
       "      <td>ACRELANDIA</td>\n",
       "      <td>1200013</td>\n",
       "      <td>2</td>\n",
       "      <td>0</td>\n",
       "      <td>2</td>\n",
       "      <td>5</td>\n",
       "      <td>23</td>\n",
       "      <td>13</td>\n",
       "      <td>56,52173913</td>\n",
       "      <td>1</td>\n",
       "      <td>171,22</td>\n",
       "      <td>184,8</td>\n",
       "      <td>0</td>\n",
       "      <td>0</td>\n",
       "    </tr>\n",
       "    <tr>\n",
       "      <th>1</th>\n",
       "      <td>2011</td>\n",
       "      <td>1</td>\n",
       "      <td>AC</td>\n",
       "      <td>12</td>\n",
       "      <td>ACRELANDIA</td>\n",
       "      <td>1200013</td>\n",
       "      <td>2</td>\n",
       "      <td>0</td>\n",
       "      <td>2</td>\n",
       "      <td>9</td>\n",
       "      <td>214</td>\n",
       "      <td>174</td>\n",
       "      <td>81,30841121</td>\n",
       "      <td>1</td>\n",
       "      <td>225,3</td>\n",
       "      <td>240,09</td>\n",
       "      <td>0,71</td>\n",
       "      <td>1,5</td>\n",
       "    </tr>\n",
       "    <tr>\n",
       "      <th>2</th>\n",
       "      <td>2011</td>\n",
       "      <td>1</td>\n",
       "      <td>AC</td>\n",
       "      <td>12</td>\n",
       "      <td>ACRELANDIA</td>\n",
       "      <td>1200013</td>\n",
       "      <td>2</td>\n",
       "      <td>1</td>\n",
       "      <td>2</td>\n",
       "      <td>9</td>\n",
       "      <td>159</td>\n",
       "      <td>134</td>\n",
       "      <td>84,27672956</td>\n",
       "      <td>1</td>\n",
       "      <td>222,02</td>\n",
       "      <td>235,7</td>\n",
       "      <td>0</td>\n",
       "      <td>0</td>\n",
       "    </tr>\n",
       "    <tr>\n",
       "      <th>3</th>\n",
       "      <td>2011</td>\n",
       "      <td>1</td>\n",
       "      <td>AC</td>\n",
       "      <td>12</td>\n",
       "      <td>ACRELANDIA</td>\n",
       "      <td>1200013</td>\n",
       "      <td>2</td>\n",
       "      <td>2</td>\n",
       "      <td>2</td>\n",
       "      <td>5</td>\n",
       "      <td>23</td>\n",
       "      <td>13</td>\n",
       "      <td>56,52173913</td>\n",
       "      <td>1</td>\n",
       "      <td>171,22</td>\n",
       "      <td>184,8</td>\n",
       "      <td>0</td>\n",
       "      <td>0</td>\n",
       "    </tr>\n",
       "    <tr>\n",
       "      <th>4</th>\n",
       "      <td>2011</td>\n",
       "      <td>1</td>\n",
       "      <td>AC</td>\n",
       "      <td>12</td>\n",
       "      <td>ACRELANDIA</td>\n",
       "      <td>1200013</td>\n",
       "      <td>2</td>\n",
       "      <td>2</td>\n",
       "      <td>2</td>\n",
       "      <td>9</td>\n",
       "      <td>55</td>\n",
       "      <td>40</td>\n",
       "      <td>72,72727273</td>\n",
       "      <td>1</td>\n",
       "      <td>234,8</td>\n",
       "      <td>252,77</td>\n",
       "      <td>3,26</td>\n",
       "      <td>5,14</td>\n",
       "    </tr>\n",
       "  </tbody>\n",
       "</table>\n",
       "</div>"
      ],
      "text/plain": [
       "   ID_SAEB  ID_REGIAO SIGLA_UF  ID_UF NOME_MUNICIPIO  ID_MUNICIPIO  \\\n",
       "0     2011          1       AC     12     ACRELANDIA       1200013   \n",
       "1     2011          1       AC     12     ACRELANDIA       1200013   \n",
       "2     2011          1       AC     12     ACRELANDIA       1200013   \n",
       "3     2011          1       AC     12     ACRELANDIA       1200013   \n",
       "4     2011          1       AC     12     ACRELANDIA       1200013   \n",
       "\n",
       "   ID_TIPO_REDE  ID_LOCALIZACAO  ID_CAPITAL  ID_SERIE  NU_MATRICULADOS_CENSO  \\\n",
       "0             2               0           2         5                     23   \n",
       "1             2               0           2         9                    214   \n",
       "2             2               1           2         9                    159   \n",
       "3             2               2           2         5                     23   \n",
       "4             2               2           2         9                     55   \n",
       "\n",
       "   NU_PRESENTES TAXA_PARTICIPACAO  ID_DIVULGACAO MEDIA_LP MEDIA_MT  \\\n",
       "0            13       56,52173913              1   171,22    184,8   \n",
       "1           174       81,30841121              1    225,3   240,09   \n",
       "2           134       84,27672956              1   222,02    235,7   \n",
       "3            13       56,52173913              1   171,22    184,8   \n",
       "4            40       72,72727273              1    234,8   252,77   \n",
       "\n",
       "  ERRO_PADRAO_LP ERRO_PADRAO_MT  \n",
       "0              0              0  \n",
       "1           0,71            1,5  \n",
       "2              0              0  \n",
       "3              0              0  \n",
       "4           3,26           5,14  "
      ]
     },
     "execution_count": 123,
     "metadata": {},
     "output_type": "execute_result"
    }
   ],
   "source": [
    "res_muni.head()"
   ]
  },
  {
   "cell_type": "markdown",
   "metadata": {},
   "source": [
    "# Missing Values"
   ]
  },
  {
   "cell_type": "code",
   "execution_count": 124,
   "metadata": {},
   "outputs": [
    {
     "data": {
      "text/plain": [
       "['TAXA_PARTICIPACAO',\n",
       " 'MEDIA_LP',\n",
       " 'MEDIA_MT',\n",
       " 'ERRO_PADRAO_LP',\n",
       " 'ERRO_PADRAO_MT']"
      ]
     },
     "execution_count": 124,
     "metadata": {},
     "output_type": "execute_result"
    }
   ],
   "source": [
    "cols = res_muni.columns\n",
    "obj_cols = [cols[-6]]+list(cols[-4:])\n",
    "\n",
    "obj_cols"
   ]
  },
  {
   "cell_type": "code",
   "execution_count": 125,
   "metadata": {},
   "outputs": [
    {
     "data": {
      "text/plain": [
       "TAXA_PARTICIPACAO      0\n",
       "MEDIA_LP             972\n",
       "MEDIA_MT             972\n",
       "ERRO_PADRAO_LP       972\n",
       "ERRO_PADRAO_MT       972\n",
       "dtype: int64"
      ]
     },
     "execution_count": 125,
     "metadata": {},
     "output_type": "execute_result"
    }
   ],
   "source": [
    "(res_muni[obj_cols]==' ').sum()"
   ]
  },
  {
   "cell_type": "markdown",
   "metadata": {},
   "source": [
    "### Checking wether the 972 missing values for each column are aligned in the same 972 rows."
   ]
  },
  {
   "cell_type": "markdown",
   "metadata": {},
   "source": [
    "##### What we are going to do is compare the lines where values for one column is empty against the lines where the values in the other column is empty. If the lines are the same, it means the empity values are in the same lines. We are going to do this for each combination of columns with missing values we have. The same could be done comparing the rows where column values are not empty. They should be equal if empty values are all in the same rows."
   ]
  },
  {
   "cell_type": "code",
   "execution_count": 126,
   "metadata": {},
   "outputs": [
    {
     "name": "stdout",
     "output_type": "stream",
     "text": [
      "1 1 0\n",
      "1 2 0\n",
      "1 3 0\n",
      "1 4 0\n",
      "2 2 0\n",
      "2 3 0\n",
      "2 4 0\n",
      "3 3 0\n",
      "3 4 0\n",
      "4 4 0\n"
     ]
    }
   ],
   "source": [
    "for i in range(1, 5):\n",
    "    for j in range(i,5):\n",
    "        \n",
    "        print(i, j, (res_muni[(res_muni[obj_cols[i]] == ' ')] != res_muni[(res_muni[obj_cols[j]] == ' ')]).sum().sum())"
   ]
  },
  {
   "cell_type": "markdown",
   "metadata": {},
   "source": [
    "#### Conclusion: We have zero different lines for each two columns comparison so all our data missing are in the same 972 rows. So we can just drop these rows."
   ]
  },
  {
   "cell_type": "markdown",
   "metadata": {},
   "source": [
    "### Droping Missing Values"
   ]
  },
  {
   "cell_type": "code",
   "execution_count": 127,
   "metadata": {},
   "outputs": [],
   "source": [
    "res_muni = res_muni[res_muni[obj_cols[1]]!=' ']"
   ]
  },
  {
   "cell_type": "code",
   "execution_count": 128,
   "metadata": {},
   "outputs": [
    {
     "data": {
      "text/plain": [
       "(59636, 18)"
      ]
     },
     "execution_count": 128,
     "metadata": {},
     "output_type": "execute_result"
    }
   ],
   "source": [
    "res_muni.shape"
   ]
  },
  {
   "cell_type": "code",
   "execution_count": 129,
   "metadata": {},
   "outputs": [
    {
     "data": {
      "text/plain": [
       "TAXA_PARTICIPACAO    0\n",
       "MEDIA_LP             0\n",
       "MEDIA_MT             0\n",
       "ERRO_PADRAO_LP       0\n",
       "ERRO_PADRAO_MT       0\n",
       "dtype: int64"
      ]
     },
     "execution_count": 129,
     "metadata": {},
     "output_type": "execute_result"
    }
   ],
   "source": [
    "(res_muni[obj_cols]==' ').sum()"
   ]
  },
  {
   "cell_type": "markdown",
   "metadata": {},
   "source": [
    "# Type Conversion"
   ]
  },
  {
   "cell_type": "code",
   "execution_count": 130,
   "metadata": {},
   "outputs": [],
   "source": [
    "for col in obj_cols:\n",
    "    res_muni[col] = res_muni[col].str.replace(',', '.')\n",
    "    "
   ]
  },
  {
   "cell_type": "code",
   "execution_count": 131,
   "metadata": {},
   "outputs": [],
   "source": [
    "res_muni[obj_cols] = res_muni[obj_cols].astype(float)"
   ]
  },
  {
   "cell_type": "code",
   "execution_count": 132,
   "metadata": {},
   "outputs": [
    {
     "data": {
      "text/plain": [
       "ID_SAEB                    int64\n",
       "ID_REGIAO                  int64\n",
       "SIGLA_UF                  object\n",
       "ID_UF                      int64\n",
       "NOME_MUNICIPIO            object\n",
       "ID_MUNICIPIO               int64\n",
       "ID_TIPO_REDE               int64\n",
       "ID_LOCALIZACAO             int64\n",
       "ID_CAPITAL                 int64\n",
       "ID_SERIE                   int64\n",
       "NU_MATRICULADOS_CENSO      int64\n",
       "NU_PRESENTES               int64\n",
       "TAXA_PARTICIPACAO        float64\n",
       "ID_DIVULGACAO              int64\n",
       "MEDIA_LP                 float64\n",
       "MEDIA_MT                 float64\n",
       "ERRO_PADRAO_LP           float64\n",
       "ERRO_PADRAO_MT           float64\n",
       "dtype: object"
      ]
     },
     "execution_count": 132,
     "metadata": {},
     "output_type": "execute_result"
    }
   ],
   "source": [
    "res_muni.dtypes"
   ]
  },
  {
   "cell_type": "markdown",
   "metadata": {},
   "source": [
    "# Saving Cleaned Data"
   ]
  },
  {
   "cell_type": "code",
   "execution_count": 133,
   "metadata": {},
   "outputs": [],
   "source": [
    "res_muni.to_csv('\\\\Users\\luisr\\Desktop\\Repository\\IBM_courses\\Personal Work\\Data Frames\\Work Copies\\Work\\\\res_municipio_cleaned.csv')"
   ]
  },
  {
   "cell_type": "code",
   "execution_count": null,
   "metadata": {},
   "outputs": [],
   "source": []
  }
 ],
 "metadata": {
  "kernelspec": {
   "display_name": "Python 3",
   "language": "python",
   "name": "python3"
  },
  "language_info": {
   "codemirror_mode": {
    "name": "ipython",
    "version": 3
   },
   "file_extension": ".py",
   "mimetype": "text/x-python",
   "name": "python",
   "nbconvert_exporter": "python",
   "pygments_lexer": "ipython3",
   "version": "3.8.3"
  }
 },
 "nbformat": 4,
 "nbformat_minor": 4
}
