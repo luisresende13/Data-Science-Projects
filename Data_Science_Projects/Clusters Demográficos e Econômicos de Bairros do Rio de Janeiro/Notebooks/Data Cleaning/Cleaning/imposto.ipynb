{
 "cells": [
  {
   "cell_type": "code",
   "execution_count": 1,
   "metadata": {},
   "outputs": [],
   "source": [
    "import pandas as pd\n",
    "import numpy as np\n",
    "import matplotlib.pyplot as plt"
   ]
  },
  {
   "cell_type": "markdown",
   "metadata": {},
   "source": [
    "# Imposto de Renda"
   ]
  },
  {
   "cell_type": "markdown",
   "metadata": {},
   "source": [
    "### Loading Raw Data"
   ]
  },
  {
   "cell_type": "code",
   "execution_count": 4,
   "metadata": {},
   "outputs": [],
   "source": [
    "imp_rnd = pd.read_csv('\\\\Users\\luisr\\Desktop\\Repository\\IBM_courses\\Course Work\\Assignments\\\\rio dataframes\\\\Outside Data\\\\imposto_renda.csv', sep=',')"
   ]
  },
  {
   "cell_type": "code",
   "execution_count": 9,
   "metadata": {},
   "outputs": [],
   "source": [
    "hoods = pd.read_csv('\\\\Users\\luisr\\Desktop\\Repository\\IBM_courses\\Course Work\\Assignments\\\\rio dataframes\\\\Outside Data\\\\complete_bairros.csv', index_col=0)"
   ]
  },
  {
   "cell_type": "markdown",
   "metadata": {},
   "source": [
    "### Comparing Neighborhoods Names Formats in Old and New Data"
   ]
  },
  {
   "cell_type": "code",
   "execution_count": 228,
   "metadata": {},
   "outputs": [],
   "source": [
    "hoods_uni = hoods['bairros'].unique()"
   ]
  },
  {
   "cell_type": "code",
   "execution_count": 229,
   "metadata": {},
   "outputs": [],
   "source": [
    "imp_uni = imp_rnd['NOME'].unique()"
   ]
  },
  {
   "cell_type": "code",
   "execution_count": 230,
   "metadata": {},
   "outputs": [
    {
     "data": {
      "text/plain": [
       "(163, 166)"
      ]
     },
     "execution_count": 230,
     "metadata": {},
     "output_type": "execute_result"
    }
   ],
   "source": [
    "len(hoods_uni), len(imp_uni)"
   ]
  },
  {
   "cell_type": "code",
   "execution_count": 231,
   "metadata": {},
   "outputs": [],
   "source": [
    "suspects = imp_uni[[i.lower() not in [j.lower() for j in hoods_uni] for i in imp_uni]]"
   ]
  },
  {
   "cell_type": "code",
   "execution_count": 232,
   "metadata": {},
   "outputs": [
    {
     "data": {
      "text/plain": [
       "array(['são cristóvão', 'freguesia jacarepaguá', 'parque colúmbia',\n",
       "       'osvaldo cruz', 'vila kosmos', 'freguesia', 'turiaçú'],\n",
       "      dtype=object)"
      ]
     },
     "execution_count": 232,
     "metadata": {},
     "output_type": "execute_result"
    }
   ],
   "source": [
    "suspects"
   ]
  },
  {
   "cell_type": "code",
   "execution_count": 54,
   "metadata": {},
   "outputs": [
    {
     "data": {
      "text/plain": [
       "array(['freguesia (ilha do governador)', 'freguesia (jacarepaguá)',\n",
       "       'gericinó', 'imperial de são cristóvão', 'jabour', 'lapa',\n",
       "       'oswaldo cruz', 'parque columbia', 'turiaçu', 'vila cosmos',\n",
       "       'vila kennedy'], dtype=object)"
      ]
     },
     "execution_count": 54,
     "metadata": {},
     "output_type": "execute_result"
    }
   ],
   "source": [
    "hoods_uni[[i not in [j.lower() for j in imp_uni] for i in hoods_uni]]"
   ]
  },
  {
   "cell_type": "markdown",
   "metadata": {},
   "source": [
    "### Formatting Neighborhoods Names in New Data"
   ]
  },
  {
   "cell_type": "code",
   "execution_count": 102,
   "metadata": {},
   "outputs": [],
   "source": [
    "imp_rnd['NOME'] = [i.lower() for i in imp_rnd['NOME']]"
   ]
  },
  {
   "cell_type": "code",
   "execution_count": 58,
   "metadata": {},
   "outputs": [
    {
     "data": {
      "text/plain": [
       "[39, 169, 224, 1067, 1682, 1999, 2147, 4772]"
      ]
     },
     "execution_count": 58,
     "metadata": {},
     "output_type": "execute_result"
    }
   ],
   "source": [
    "[imp_rnd['NOME'].tolist().index(i.lower()) for i in suspects]"
   ]
  },
  {
   "cell_type": "code",
   "execution_count": 64,
   "metadata": {},
   "outputs": [],
   "source": [
    "out = [39, 169, 224, 1067, 1682, 2147, 4772]\n",
    "\n",
    "new = ['freguesia (jacarepaguá)',\n",
    " 'freguesia (ilha do governador)', \n",
    " 'imperial de são cristóvão',\n",
    " 'parque columbia',\n",
    " 'oswaldo cruz',\n",
    " 'vila cosmos',\n",
    " 'turiaçu']"
   ]
  },
  {
   "cell_type": "code",
   "execution_count": 68,
   "metadata": {},
   "outputs": [
    {
     "name": "stderr",
     "output_type": "stream",
     "text": [
      "<ipython-input-68-b5da3c759d90>:2: SettingWithCopyWarning: \n",
      "A value is trying to be set on a copy of a slice from a DataFrame\n",
      "\n",
      "See the caveats in the documentation: https://pandas.pydata.org/pandas-docs/stable/user_guide/indexing.html#returning-a-view-versus-a-copy\n",
      "  imp_rnd['NOME'][index] = new[i]\n"
     ]
    }
   ],
   "source": [
    "for i, index in enumerate(out):\n",
    "    imp_rnd['NOME'][index] = new[i]"
   ]
  },
  {
   "cell_type": "code",
   "execution_count": 88,
   "metadata": {},
   "outputs": [],
   "source": [
    "imp_rnd = imp_rnd[imp_rnd['NOME']!='ignorado'].reset_index(drop=True)"
   ]
  },
  {
   "cell_type": "markdown",
   "metadata": {},
   "source": [
    "## Testing"
   ]
  },
  {
   "cell_type": "code",
   "execution_count": 99,
   "metadata": {},
   "outputs": [
    {
     "data": {
      "text/plain": [
       "159"
      ]
     },
     "execution_count": 99,
     "metadata": {},
     "output_type": "execute_result"
    }
   ],
   "source": [
    "len(pd.merge(imp_rnd[['NOME', 'Y']], hoods[['bairros', 'lat']].rename(columns={'bairros':'NOME'}), on='NOME')['NOME'].unique())"
   ]
  },
  {
   "cell_type": "code",
   "execution_count": 101,
   "metadata": {},
   "outputs": [
    {
     "data": {
      "text/plain": [
       "166"
      ]
     },
     "execution_count": 101,
     "metadata": {},
     "output_type": "execute_result"
    }
   ],
   "source": [
    "len(imp_rnd['NOME'].unique())"
   ]
  },
  {
   "cell_type": "code",
   "execution_count": 96,
   "metadata": {},
   "outputs": [
    {
     "data": {
      "text/html": [
       "<div>\n",
       "<style scoped>\n",
       "    .dataframe tbody tr th:only-of-type {\n",
       "        vertical-align: middle;\n",
       "    }\n",
       "\n",
       "    .dataframe tbody tr th {\n",
       "        vertical-align: top;\n",
       "    }\n",
       "\n",
       "    .dataframe thead th {\n",
       "        text-align: right;\n",
       "    }\n",
       "</style>\n",
       "<table border=\"1\" class=\"dataframe\">\n",
       "  <thead>\n",
       "    <tr style=\"text-align: right;\">\n",
       "      <th></th>\n",
       "      <th>bairros</th>\n",
       "      <th>lat</th>\n",
       "      <th>lng</th>\n",
       "      <th>area</th>\n",
       "      <th>radius</th>\n",
       "    </tr>\n",
       "  </thead>\n",
       "  <tbody>\n",
       "    <tr>\n",
       "      <th>0</th>\n",
       "      <td>abolição</td>\n",
       "      <td>-22.886161</td>\n",
       "      <td>-43.299846</td>\n",
       "      <td>6.163327e+05</td>\n",
       "      <td>442.927507</td>\n",
       "    </tr>\n",
       "    <tr>\n",
       "      <th>1</th>\n",
       "      <td>acari</td>\n",
       "      <td>-22.822153</td>\n",
       "      <td>-43.340674</td>\n",
       "      <td>1.605524e+06</td>\n",
       "      <td>714.880594</td>\n",
       "    </tr>\n",
       "    <tr>\n",
       "      <th>2</th>\n",
       "      <td>água santa</td>\n",
       "      <td>-22.911143</td>\n",
       "      <td>-43.312126</td>\n",
       "      <td>2.426232e+06</td>\n",
       "      <td>878.802356</td>\n",
       "    </tr>\n",
       "    <tr>\n",
       "      <th>3</th>\n",
       "      <td>alto da boa vista</td>\n",
       "      <td>-22.962113</td>\n",
       "      <td>-43.253582</td>\n",
       "      <td>3.149568e+07</td>\n",
       "      <td>3166.288844</td>\n",
       "    </tr>\n",
       "    <tr>\n",
       "      <th>4</th>\n",
       "      <td>anchieta</td>\n",
       "      <td>-22.823190</td>\n",
       "      <td>-43.399107</td>\n",
       "      <td>4.345727e+06</td>\n",
       "      <td>1176.132586</td>\n",
       "    </tr>\n",
       "    <tr>\n",
       "      <th>...</th>\n",
       "      <td>...</td>\n",
       "      <td>...</td>\n",
       "      <td>...</td>\n",
       "      <td>...</td>\n",
       "      <td>...</td>\n",
       "    </tr>\n",
       "    <tr>\n",
       "      <th>158</th>\n",
       "      <td>vila kennedy</td>\n",
       "      <td>-22.855678</td>\n",
       "      <td>-43.490030</td>\n",
       "      <td>1.473737e+06</td>\n",
       "      <td>684.912513</td>\n",
       "    </tr>\n",
       "    <tr>\n",
       "      <th>159</th>\n",
       "      <td>vila militar</td>\n",
       "      <td>-22.860348</td>\n",
       "      <td>-43.402893</td>\n",
       "      <td>1.075671e+07</td>\n",
       "      <td>1850.396431</td>\n",
       "    </tr>\n",
       "    <tr>\n",
       "      <th>160</th>\n",
       "      <td>vila valqueire</td>\n",
       "      <td>-22.888609</td>\n",
       "      <td>-43.365776</td>\n",
       "      <td>4.232215e+06</td>\n",
       "      <td>1160.670413</td>\n",
       "    </tr>\n",
       "    <tr>\n",
       "      <th>161</th>\n",
       "      <td>vista alegre</td>\n",
       "      <td>-22.829624</td>\n",
       "      <td>-43.315128</td>\n",
       "      <td>5.152091e+05</td>\n",
       "      <td>404.964362</td>\n",
       "    </tr>\n",
       "    <tr>\n",
       "      <th>162</th>\n",
       "      <td>zumbi</td>\n",
       "      <td>-22.821278</td>\n",
       "      <td>-43.175861</td>\n",
       "      <td>1.611178e+05</td>\n",
       "      <td>226.462764</td>\n",
       "    </tr>\n",
       "  </tbody>\n",
       "</table>\n",
       "<p>163 rows × 5 columns</p>\n",
       "</div>"
      ],
      "text/plain": [
       "               bairros        lat        lng          area       radius\n",
       "0             abolição -22.886161 -43.299846  6.163327e+05   442.927507\n",
       "1                acari -22.822153 -43.340674  1.605524e+06   714.880594\n",
       "2           água santa -22.911143 -43.312126  2.426232e+06   878.802356\n",
       "3    alto da boa vista -22.962113 -43.253582  3.149568e+07  3166.288844\n",
       "4             anchieta -22.823190 -43.399107  4.345727e+06  1176.132586\n",
       "..                 ...        ...        ...           ...          ...\n",
       "158       vila kennedy -22.855678 -43.490030  1.473737e+06   684.912513\n",
       "159       vila militar -22.860348 -43.402893  1.075671e+07  1850.396431\n",
       "160     vila valqueire -22.888609 -43.365776  4.232215e+06  1160.670413\n",
       "161       vista alegre -22.829624 -43.315128  5.152091e+05   404.964362\n",
       "162              zumbi -22.821278 -43.175861  1.611178e+05   226.462764\n",
       "\n",
       "[163 rows x 5 columns]"
      ]
     },
     "execution_count": 96,
     "metadata": {},
     "output_type": "execute_result"
    }
   ],
   "source": [
    "hoods"
   ]
  },
  {
   "cell_type": "markdown",
   "metadata": {},
   "source": [
    "## Saving Cleaned Data"
   ]
  },
  {
   "cell_type": "code",
   "execution_count": 92,
   "metadata": {},
   "outputs": [],
   "source": [
    "#imp_rnd.to_csv('\\\\Users\\luisr\\Desktop\\Repository\\IBM_courses\\Course Work\\Assignments\\\\rio dataframes\\\\Outside Data\\\\Clean\\\\ISSQN_clean.csv')"
   ]
  },
  {
   "cell_type": "markdown",
   "metadata": {},
   "source": [
    "# Exploratory Data Analysis"
   ]
  },
  {
   "cell_type": "code",
   "execution_count": 106,
   "metadata": {},
   "outputs": [
    {
     "data": {
      "text/plain": [
       "0            10391.83\n",
       "1             9175.44\n",
       "2         39311498.08\n",
       "3         27744229.67\n",
       "4         25343605.41\n",
       "             ...     \n",
       "165585      171646.45\n",
       "165586         891.67\n",
       "165587       22162.22\n",
       "165588        3741.61\n",
       "165589        2052.57\n",
       "Name: Tributo_recebido, Length: 165590, dtype: float64"
      ]
     },
     "execution_count": 106,
     "metadata": {},
     "output_type": "execute_result"
    }
   ],
   "source": [
    "imp_rnd['Tributo_recebido']"
   ]
  },
  {
   "cell_type": "code",
   "execution_count": 116,
   "metadata": {},
   "outputs": [],
   "source": [
    "import seaborn as sns"
   ]
  },
  {
   "cell_type": "code",
   "execution_count": 226,
   "metadata": {},
   "outputs": [],
   "source": [
    "x = imp_rnd[imp_rnd['Tributo_recebido']>50000000]"
   ]
  },
  {
   "cell_type": "code",
   "execution_count": 223,
   "metadata": {},
   "outputs": [
    {
     "data": {
      "text/plain": [
       "<matplotlib.axes._subplots.AxesSubplot at 0x1b039e0c910>"
      ]
     },
     "execution_count": 223,
     "metadata": {},
     "output_type": "execute_result"
    },
    {
     "data": {
      "image/png": "[encoded data removed]",
      "text/plain": [
       "<Figure size 432x288 with 1 Axes>"
      ]
     },
     "metadata": {
      "needs_background": "light"
     },
     "output_type": "display_data"
    }
   ],
   "source": [
    "sns.distplot(x['Tributo_recebido'], kde=True, hist=True, bins=70, color='darkblue')"
   ]
  },
  {
   "cell_type": "code",
   "execution_count": 135,
   "metadata": {},
   "outputs": [
    {
     "data": {
      "text/plain": [
       "array(['ISS SOBRE MOVIMENTO ECONOMICO', 'ISS RETENCAO - LEI 4452',\n",
       "       'ISS CONCILIA RIO - PAGTO ¿ VISTA - LEI 6156/2017',\n",
       "       'ISS AUTO DE INFRACAO'], dtype=object)"
      ]
     },
     "execution_count": 135,
     "metadata": {},
     "output_type": "execute_result"
    }
   ],
   "source": [
    "x['Tributo'].unique()"
   ]
  },
  {
   "cell_type": "code",
   "execution_count": 137,
   "metadata": {},
   "outputs": [
    {
     "data": {
      "text/plain": [
       "array(['botafogo', 'centro', 'barra da tijuca', 'leblon'], dtype=object)"
      ]
     },
     "execution_count": 137,
     "metadata": {},
     "output_type": "execute_result"
    }
   ],
   "source": [
    "x['NOME'].unique()"
   ]
  },
  {
   "cell_type": "code",
   "execution_count": 227,
   "metadata": {},
   "outputs": [
    {
     "data": {
      "image/png": "[encoded data removed]",
      "text/plain": [
       "<Figure size 432x288 with 1 Axes>"
      ]
     },
     "metadata": {
      "needs_background": "light"
     },
     "output_type": "display_data"
    }
   ],
   "source": [
    "x.plot(y='Valor_recebido', x='date', kind='scatter')\n",
    "\n",
    "plt.grid()"
   ]
  },
  {
   "cell_type": "code",
   "execution_count": 156,
   "metadata": {},
   "outputs": [
    {
     "data": {
      "text/plain": [
       "X                   float64\n",
       "Y                   float64\n",
       "CB                    int64\n",
       "NOME                 object\n",
       "ANO_PGTO              int64\n",
       "MES_PGTO              int64\n",
       "CODRECEITA            int64\n",
       "Tributo              object\n",
       "Valor_recebido      float64\n",
       "Tributo_recebido    float64\n",
       "ObjectId              int64\n",
       "dtype: object"
      ]
     },
     "execution_count": 156,
     "metadata": {},
     "output_type": "execute_result"
    }
   ],
   "source": [
    "x.dtypes"
   ]
  },
  {
   "cell_type": "code",
   "execution_count": 162,
   "metadata": {},
   "outputs": [],
   "source": [
    "import datetime"
   ]
  },
  {
   "cell_type": "code",
   "execution_count": 197,
   "metadata": {},
   "outputs": [
    {
     "name": "stderr",
     "output_type": "stream",
     "text": [
      "<ipython-input-197-ee4cb7e6dc11>:1: SettingWithCopyWarning: \n",
      "A value is trying to be set on a copy of a slice from a DataFrame.\n",
      "Try using .loc[row_indexer,col_indexer] = value instead\n",
      "\n",
      "See the caveats in the documentation: https://pandas.pydata.org/pandas-docs/stable/user_guide/indexing.html#returning-a-view-versus-a-copy\n",
      "  x['date'] = pd.to_datetime(x['ANO_PGTO'].astype(str)+'/'+x['MES_PGTO'].astype(str))\n"
     ]
    }
   ],
   "source": [
    "x['date'] = pd.to_datetime(x['ANO_PGTO'].astype(str)+'/'+x['MES_PGTO'].astype(str))"
   ]
  },
  {
   "cell_type": "code",
   "execution_count": 220,
   "metadata": {},
   "outputs": [
    {
     "data": {
      "text/plain": [
       "<matplotlib.axes._subplots.AxesSubplot at 0x1b039be9970>"
      ]
     },
     "execution_count": 220,
     "metadata": {},
     "output_type": "execute_result"
    },
    {
     "data": {
      "image/png": "[encoded data removed]",
      "text/plain": [
       "<Figure size 432x288 with 1 Axes>"
      ]
     },
     "metadata": {
      "needs_background": "light"
     },
     "output_type": "display_data"
    }
   ],
   "source": [
    "avg = imp_rnd.groupby(['NOME']).mean()[['Valor_recebido']].sort_values(by='Valor_recebido').tail(20)\n",
    "avg[avg['Valor_recebido']>20000].plot(kind='barh')"
   ]
  },
  {
   "cell_type": "code",
   "execution_count": null,
   "metadata": {},
   "outputs": [],
   "source": []
  }
 ],
 "metadata": {
  "kernelspec": {
   "display_name": "Python 3",
   "language": "python",
   "name": "python3"
  },
  "language_info": {
   "codemirror_mode": {
    "name": "ipython",
    "version": 3
   },
   "file_extension": ".py",
   "mimetype": "text/x-python",
   "name": "python",
   "nbconvert_exporter": "python",
   "pygments_lexer": "ipython3",
   "version": "3.8.3"
  }
 },
 "nbformat": 4,
 "nbformat_minor": 4
}
