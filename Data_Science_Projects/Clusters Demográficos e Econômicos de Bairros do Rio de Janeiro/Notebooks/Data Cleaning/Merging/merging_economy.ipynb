{
 "cells": [
  {
   "cell_type": "code",
   "execution_count": 2,
   "metadata": {},
   "outputs": [],
   "source": [
    "import pandas as pd\n",
    "import numpy as np\n",
    "import matplotlib.pyplot as plt\n",
    "import seaborn as sns\n",
    "import re\n"
   ]
  },
  {
   "cell_type": "code",
   "execution_count": 107,
   "metadata": {},
   "outputs": [],
   "source": [
    "pd.set_option('display.max_rows', None)"
   ]
  },
  {
   "cell_type": "markdown",
   "metadata": {},
   "source": [
    "# Loading Tables"
   ]
  },
  {
   "cell_type": "code",
   "execution_count": 3,
   "metadata": {},
   "outputs": [],
   "source": [
    "pops = pd.read_csv('\\\\Users\\luisr\\Desktop\\Repository\\IBM_courses\\Course Work\\Assignments\\Final Capstone Project\\\\rio dataframes\\\\Outside Data\\\\Clean\\\\census\\\\pops.csv', index_col=0)"
   ]
  },
  {
   "cell_type": "code",
   "execution_count": 613,
   "metadata": {},
   "outputs": [],
   "source": [
    "renda = pd.read_csv('\\\\Users\\luisr\\Desktop\\Repository\\IBM_courses\\Course Work\\Assignments\\Final Capstone Project\\\\rio dataframes\\\\Outside Data\\\\raw\\\\bairros\\\\census\\\\rendas_vert.csv')"
   ]
  },
  {
   "cell_type": "code",
   "execution_count": 5,
   "metadata": {},
   "outputs": [],
   "source": [
    "estabs = pd.read_csv('\\\\Users\\luisr\\Desktop\\Repository\\IBM_courses\\Course Work\\Assignments\\Final Capstone Project\\\\rio dataframes\\\\Outside Data\\\\raw\\\\bairros\\\\census\\\\estabs_clean.csv', index_col=0)"
   ]
  },
  {
   "cell_type": "code",
   "execution_count": 6,
   "metadata": {},
   "outputs": [],
   "source": [
    "emps = pd.read_csv('\\\\Users\\luisr\\Desktop\\Repository\\IBM_courses\\Course Work\\Assignments\\Final Capstone Project\\\\rio dataframes\\\\Outside Data\\\\raw\\\\bairros\\\\census\\\\emps_clean.csv')"
   ]
  },
  {
   "cell_type": "code",
   "execution_count": 7,
   "metadata": {},
   "outputs": [],
   "source": [
    "des = pd.read_csv('\\\\Users\\luisr\\Desktop\\Repository\\IBM_courses\\Course Work\\Assignments\\Final Capstone Project\\\\rio dataframes\\\\Outside Data\\\\raw\\\\bairros\\\\census\\\\des_clean.csv', index_col=0)"
   ]
  },
  {
   "cell_type": "code",
   "execution_count": 8,
   "metadata": {},
   "outputs": [],
   "source": [
    "sals = pd.read_csv('\\\\Users\\luisr\\Desktop\\Repository\\IBM_courses\\Course Work\\Assignments\\Final Capstone Project\\\\rio dataframes\\\\Outside Data\\\\raw\\\\bairros\\\\census\\\\sals_clean.csv')"
   ]
  },
  {
   "cell_type": "markdown",
   "metadata": {},
   "source": [
    "## Storing All Datasets in a List"
   ]
  },
  {
   "cell_type": "code",
   "execution_count": 433,
   "metadata": {},
   "outputs": [],
   "source": [
    "dfs = [pops.copy(), renda.copy(), estabs.reset_index().copy(), emps.copy(), des.copy(), sals.copy()]"
   ]
  },
  {
   "cell_type": "markdown",
   "metadata": {},
   "source": [
    "# Cleaning: Uniformization of neighborhoods Names"
   ]
  },
  {
   "cell_type": "code",
   "execution_count": 434,
   "metadata": {},
   "outputs": [],
   "source": [
    "for i in range(3):\n",
    "    \n",
    "    dfs[i].rename(columns={'Áreas de Planejamento, Regiões Administrativas e Bairros': 'Bairros'}, inplace=True)\n",
    "     \n",
    "    "
   ]
  },
  {
   "cell_type": "code",
   "execution_count": 435,
   "metadata": {},
   "outputs": [],
   "source": [
    "dfs[4].index = dfs[1].index"
   ]
  },
  {
   "cell_type": "code",
   "execution_count": 505,
   "metadata": {},
   "outputs": [
    {
     "name": "stdout",
     "output_type": "stream",
     "text": [
      "df0 196\n",
      "df1 158\n",
      "df2 215\n",
      "df3 216\n",
      "df4 158\n",
      "df5 215\n"
     ]
    }
   ],
   "source": [
    "for i in range(6): print('df'+str(i), len(dfs[i]['Bairros'].unique()))"
   ]
  },
  {
   "cell_type": "code",
   "execution_count": 499,
   "metadata": {},
   "outputs": [],
   "source": [
    "def is_not_in(dfs):\n",
    "\n",
    "    unis = [dfs[i]['Bairros'].unique() for i in range(6)]\n",
    "\n",
    "    not_in = []\n",
    "    for i in range(6):\n",
    "        for j in range(6):\n",
    "        \n",
    "            if i!=j:\n",
    "            \n",
    "                not_in.append([i, j, unis[i][[str(o).lower().strip().replace('á','a')\n",
    "                                              .replace('é','e')\n",
    "                                              .replace('í','i')\n",
    "                                              .replace('ó','o')\n",
    "                                              .replace('ú','u') not in [str(l).lower().strip().replace('á','a')\n",
    "                                                                         .replace('é','e')\n",
    "                                                                         .replace('í','i')\n",
    "                                                                         .replace('ó','o')\n",
    "                                                                         .replace('ú','u') for l in unis[j].tolist()] for o in unis[i].tolist()]]])\n",
    "\n",
    "    return not_in\n",
    "            "
   ]
  },
  {
   "cell_type": "code",
   "execution_count": 608,
   "metadata": {},
   "outputs": [],
   "source": [
    "not_in = is_not_in(dfs)"
   ]
  },
  {
   "cell_type": "markdown",
   "metadata": {},
   "source": [
    "#### From the output of the cell bellow we can tell that neighborhood names from tables 0, 2, 3 and 5 follow a similar pattern againts a second pattern in 1 and 4. So we just have to concliate one group apttern with the other."
   ]
  },
  {
   "cell_type": "code",
   "execution_count": 609,
   "metadata": {},
   "outputs": [
    {
     "name": "stdout",
     "output_type": "stream",
     "text": [
      "From: 0 not in 1 39\n",
      "From: 0 not in 2 0\n",
      "From: 0 not in 3 0\n",
      "From: 0 not in 4 39\n",
      "From: 0 not in 5 0\n",
      "From: 1 not in 0 1\n",
      "From: 1 not in 2 0\n",
      "From: 1 not in 3 0\n",
      "From: 1 not in 4 0\n",
      "From: 1 not in 5 0\n",
      "From: 2 not in 0 19\n",
      "From: 2 not in 1 57\n",
      "From: 2 not in 3 0\n",
      "From: 2 not in 4 57\n",
      "From: 2 not in 5 0\n",
      "From: 3 not in 0 19\n",
      "From: 3 not in 1 57\n",
      "From: 3 not in 2 0\n",
      "From: 3 not in 4 57\n",
      "From: 3 not in 5 0\n",
      "From: 4 not in 0 1\n",
      "From: 4 not in 1 0\n",
      "From: 4 not in 2 0\n",
      "From: 4 not in 3 0\n",
      "From: 4 not in 5 0\n",
      "From: 5 not in 0 19\n",
      "From: 5 not in 1 57\n",
      "From: 5 not in 2 0\n",
      "From: 5 not in 3 0\n",
      "From: 5 not in 4 57\n"
     ]
    }
   ],
   "source": [
    "for i in range(30): print('From:',not_in[i][0], 'not in', not_in[i][1], len(not_in[i][2]))"
   ]
  },
  {
   "cell_type": "markdown",
   "metadata": {},
   "source": [
    "## Tables 'Renda' and 'Desigualdade':"
   ]
  },
  {
   "cell_type": "code",
   "execution_count": 439,
   "metadata": {},
   "outputs": [],
   "source": [
    "wrong_format = {'Acari':1, 'Parque Colúmbia':1, 'Água Santa':2, 'Encantado':2,\n",
    "       'Botafogo':11, 'Urca':11, 'Camorim':15, 'Vargem Pequena':15, 'Vargem Grande':15,\n",
    "       'Campinho':16, 'Vila Valqueire':16,\n",
    "       'Cavalcanti':21, 'Engenheiro Leal':21, 'Vaz Lobo':21,\n",
    "       'Cidade Nova':24, 'Praça da Bandeira':24, 'Cocotá':25, 'Bancários':25,\n",
    "       'Deodoro':34, 'Vila Militar':34, 'Campo dos Afonsos':34, 'Jardim Sulacap':34,\n",
    "       'Freguesia':40, 'Freguesia (Jacarepaguá)':41,\n",
    "       'Galeão':42, 'Cidade Universitária':42,\n",
    "       'Guaratiba':48, 'Barra de Guaratiba':48, 'Pedra de Guaratiba':48,\n",
    "       'Jacaré':56, 'Rocha':56, 'Sampaio':56, 'Joá':63, 'Barra da Tijuca':63,\n",
    "       'Mangueira':71, 'São Francisco Xavier':71, 'Maria da Graça':76, 'Del Castilho':76,\n",
    "       'Moneró':78, 'Portuguesa':78, 'Recreio dos Bandeirantes':95, 'Grumari':95,\n",
    "       'Ribeira':97, 'Cacuia':97, 'Santa Teresa':103, 'Cosme Velho':103,\n",
    "       'São Cristóvão':105, 'Vasco da Gama':105,\n",
    "       'Saúde':106, 'Gamboa':106, 'Santo Cristo':106, 'Tijuca':113, 'Alto da Boa Vista':113,\n",
    "       'Vidigal':118, 'São Conrado':118, 'Vista Alegre':123, 'Irajá':123,\n",
    "       'Zumbi':124, 'Pitangueiras':124, 'Praia da Bandeira':124}"
   ]
  },
  {
   "cell_type": "code",
   "execution_count": 440,
   "metadata": {},
   "outputs": [
    {
     "data": {
      "text/plain": [
       "27"
      ]
     },
     "execution_count": 440,
     "metadata": {},
     "output_type": "execute_result"
    }
   ],
   "source": [
    "len(np.unique([wrong_format[key] for key in wrong_format.keys()]))"
   ]
  },
  {
   "cell_type": "code",
   "execution_count": 441,
   "metadata": {},
   "outputs": [],
   "source": [
    "right_format = {'Acari':1, 'Parque Colúmbia':106, 'Água Santa':209, 'Encantado':43,\n",
    "       'Botafogo':14, 'Urca':166, 'Camorim':19, 'Vargem Pequena':172, 'Vargem Grande':171,\n",
    "       'Campinho':20, 'Vila Valqueire':181,\n",
    "       'Cavalcanti':26, 'Engenheiro Leal':44, 'Vaz Lobo':174,\n",
    "       'Cidade Nova':28, 'Praça da Bandeira':118, 'Cocotá':31, 'Bancários':6,\n",
    "       'Deodoro':42, 'Vila Militar':180, 'Campo dos Afonsos':22, 'Jardim Sulacap':82,\n",
    "       'Freguesia':50, 'Freguesia (Jacarepaguá)':51,\n",
    "       'Galeão':52, 'Cidade Universitária':29,\n",
    "       'Guaratiba':60, 'Barra de Guaratiba':9, 'Pedra de Guaratiba':109,\n",
    "       'Jacaré':77, 'Rocha':143, 'Sampaio':146, 'Joá':83, 'Barra da Tijuca':8,\n",
    "       'Mangueira':91, 'São Francisco Xavier':157, 'Maria da Graça':95, 'Del Castilho':41,\n",
    "       'Moneró':97, 'Portuguesa':115, 'Recreio dos Bandeirantes':122, 'Grumari':58,\n",
    "       'Ribeira':140, 'Cacuia':17, 'Santa Teresa':148, 'Cosme Velho':37,\n",
    "       'São Cristóvão':156, 'Vasco da Gama':173,\n",
    "       'Saúde':151, 'Gamboa':53, 'Santo Cristo':149, 'Tijuca':161, 'Alto da Boa Vista':2,\n",
    "       'Vidigal':176, 'São Conrado':155, 'Vista Alegre':183, 'Irajá':73,\n",
    "       'Zumbi':208, 'Pitangueiras':114, 'Praia da Bandeira':116}"
   ]
  },
  {
   "cell_type": "code",
   "execution_count": 442,
   "metadata": {},
   "outputs": [
    {
     "data": {
      "text/plain": [
       "60"
      ]
     },
     "execution_count": 442,
     "metadata": {},
     "output_type": "execute_result"
    }
   ],
   "source": [
    "len(np.unique([right_format[key] for key in right_format.keys()]))"
   ]
  },
  {
   "cell_type": "code",
   "execution_count": 443,
   "metadata": {},
   "outputs": [
    {
     "data": {
      "text/plain": [
       "60"
      ]
     },
     "execution_count": 443,
     "metadata": {},
     "output_type": "execute_result"
    }
   ],
   "source": [
    "len(right_format.keys())"
   ]
  },
  {
   "cell_type": "code",
   "execution_count": 444,
   "metadata": {},
   "outputs": [],
   "source": [
    "right_format_df = pd.DataFrame({'Bairros':dfs[2].sort_values(by='Bairros', ascending=True)['Bairros'].unique()})"
   ]
  },
  {
   "cell_type": "code",
   "execution_count": null,
   "metadata": {},
   "outputs": [],
   "source": [
    "\n",
    "for j in [4, 1]:\n",
    "    \n",
    "    df0 = dfs[j].drop(dfs[j].index.tolist(), axis=0)\n",
    "\n",
    "    for i in [0, 1]:    \n",
    "    \n",
    "        for key, item in wrong_format.items():    \n",
    "    \n",
    "            if i==1: item = item+125\n",
    "    \n",
    "            try: \n",
    "                x = dfs[j]['Bairros'][item]\n",
    "            \n",
    "                row0 = dfs[j].loc[[item]].copy()\n",
    "                row0['Bairros'][item] = right_format_df.loc[right_format[key]]['Bairros']\n",
    "        \n",
    "                df0 = pd.concat([df0, row0], axis=0)\n",
    "        \n",
    "                row0.index = np.array([0])\n",
    "        \n",
    "            \n",
    "                dfs[j].drop(item, axis=0, inplace=True)\n",
    "                dfs[j] = pd.concat([dfs[j], row0], axis=0)\n",
    "                    \n",
    "            except:\n",
    "        \n",
    "                row0 = df0.loc[[item]].copy()\n",
    "                row0['Bairros'][item] = right_format_df.loc[right_format[key]]['Bairros']\n",
    "                row0.index = np.array([0])\n",
    "        \n",
    "                dfs[j] = pd.concat([dfs[j], row0], axis=0)\n",
    "            "
   ]
  },
  {
   "cell_type": "code",
   "execution_count": 446,
   "metadata": {},
   "outputs": [
    {
     "data": {
      "text/plain": [
       "[158, 158]"
      ]
     },
     "execution_count": 446,
     "metadata": {},
     "output_type": "execute_result"
    }
   ],
   "source": [
    "[len(dfs[i]['Bairros'].unique()) for i in [1, 4]]"
   ]
  },
  {
   "cell_type": "code",
   "execution_count": 447,
   "metadata": {},
   "outputs": [
    {
     "data": {
      "text/plain": [
       "[316, 316]"
      ]
     },
     "execution_count": 447,
     "metadata": {},
     "output_type": "execute_result"
    }
   ],
   "source": [
    "[len(dfs[i]['Bairros']) for i in [1, 4]]"
   ]
  },
  {
   "cell_type": "markdown",
   "metadata": {},
   "source": [
    "# Saving/Loading 'Rendas' and 'Desigualdade' Tables"
   ]
  },
  {
   "cell_type": "code",
   "execution_count": 452,
   "metadata": {},
   "outputs": [],
   "source": [
    "#dfs[1].to_csv('\\\\Users\\luisr\\Desktop\\Repository\\IBM_courses\\Course Work\\Assignments\\Final Capstone Project\\\\rio dataframes\\\\Outside Data\\\\raw\\\\bairros\\\\census\\\\rendas_vert_fixed1.csv', index=False)"
   ]
  },
  {
   "cell_type": "code",
   "execution_count": 453,
   "metadata": {},
   "outputs": [],
   "source": [
    "#dfs[4].to_csv('\\\\Users\\luisr\\Desktop\\Repository\\IBM_courses\\Course Work\\Assignments\\Final Capstone Project\\\\rio dataframes\\\\Outside Data\\\\raw\\\\bairros\\\\census\\\\des_clean_fixed1.csv', index=False)"
   ]
  },
  {
   "cell_type": "code",
   "execution_count": 667,
   "metadata": {},
   "outputs": [],
   "source": [
    "dfs[1] = pd.read_csv('\\\\Users\\luisr\\Desktop\\Repository\\IBM_courses\\Course Work\\Assignments\\Final Capstone Project\\\\rio dataframes\\\\Outside Data\\\\raw\\\\bairros\\\\census\\\\rendas_vert_fixed1.csv')"
   ]
  },
  {
   "cell_type": "code",
   "execution_count": 453,
   "metadata": {},
   "outputs": [],
   "source": [
    "dfs[4].to_csv('\\\\Users\\luisr\\Desktop\\Repository\\IBM_courses\\Course Work\\Assignments\\Final Capstone Project\\\\rio dataframes\\\\Outside Data\\\\raw\\\\bairros\\\\census\\\\des_clean_fixed1.csv', index=False)"
   ]
  },
  {
   "cell_type": "markdown",
   "metadata": {},
   "source": [
    "# Population Table"
   ]
  },
  {
   "cell_type": "markdown",
   "metadata": {},
   "source": [
    "#### The following neighborhoods names are missing from the table:"
   ]
  },
  {
   "cell_type": "code",
   "execution_count": 493,
   "metadata": {},
   "outputs": [
    {
     "data": {
      "text/plain": [
       "array([], dtype=object)"
      ]
     },
     "execution_count": 493,
     "metadata": {},
     "output_type": "execute_result"
    }
   ],
   "source": [
    "not_in[2][2]"
   ]
  },
  {
   "cell_type": "code",
   "execution_count": 494,
   "metadata": {},
   "outputs": [
    {
     "data": {
      "text/plain": [
       "array(['Região de Planejamento 1.1', 'Vasco da Gama',\n",
       "       'Região de Planejamento 2.1', 'Região de Planejamento 2.2',\n",
       "       'Região de Planejamento 3.1', 'Região de Planejamento 3.2',\n",
       "       'Região de Planejamento 3.3', 'Região de Planejamento 3.4',\n",
       "       'Região de Planejamento 3.5', 'XXXI Vigário Geral',\n",
       "       'Região de Planejamento 3.6', 'Região de Planejamento 3.7',\n",
       "       'Região de Planejamento 4.1', 'Região de Planejamento 4.2',\n",
       "       'Região de Planejamento 5.1', 'Gericinó',\n",
       "       'Região de Planejamento 5.2', 'Região de Planejamento 5.3',\n",
       "       'Região de Planejamento 5.4'], dtype=object)"
      ]
     },
     "execution_count": 494,
     "metadata": {},
     "output_type": "execute_result"
    }
   ],
   "source": [
    "not_in[10][2]"
   ]
  },
  {
   "cell_type": "markdown",
   "metadata": {},
   "source": [
    "#### Note: neighborhoods 'Vasco da Gama', 'XXXI Vigário Geral' and 'Gericinó' are currently missing from this table, so they are going to be excluded from all posterior analysis."
   ]
  },
  {
   "cell_type": "markdown",
   "metadata": {},
   "source": [
    "#### That's alright, we are going to save those and those other ones for later."
   ]
  },
  {
   "cell_type": "code",
   "execution_count": null,
   "metadata": {},
   "outputs": [],
   "source": [
    "freguesia ilha: 114/50\n",
    "freguesia jaca: 151/51\n",
    "vila kosmos: 92/178"
   ]
  },
  {
   "cell_type": "code",
   "execution_count": 491,
   "metadata": {},
   "outputs": [],
   "source": [
    "dfs[0].iloc[114,0] = right_format_df['Bairros'][50]\n",
    "dfs[0].iloc[151,0] = right_format_df['Bairros'][51]\n",
    "dfs[0].iloc[92,0] = right_format_df['Bairros'][178]"
   ]
  },
  {
   "cell_type": "markdown",
   "metadata": {},
   "source": [
    "# Testing: "
   ]
  },
  {
   "cell_type": "code",
   "execution_count": 570,
   "metadata": {},
   "outputs": [],
   "source": [
    "not_in = is_not_in(dfs)"
   ]
  },
  {
   "cell_type": "code",
   "execution_count": 503,
   "metadata": {},
   "outputs": [
    {
     "data": {
      "text/plain": [
       "array([], dtype=object)"
      ]
     },
     "execution_count": 503,
     "metadata": {},
     "output_type": "execute_result"
    }
   ],
   "source": [
    "not_in[2][2]"
   ]
  },
  {
   "cell_type": "markdown",
   "metadata": {},
   "source": [
    "# Missing Values"
   ]
  },
  {
   "cell_type": "code",
   "execution_count": 561,
   "metadata": {},
   "outputs": [
    {
     "data": {
      "text/plain": [
       "56"
      ]
     },
     "execution_count": 561,
     "metadata": {},
     "output_type": "execute_result"
    }
   ],
   "source": [
    "sum([True if (type(j)==float) else False for j in dfs[3]['Bairros']])"
   ]
  },
  {
   "cell_type": "code",
   "execution_count": 562,
   "metadata": {},
   "outputs": [
    {
     "data": {
      "text/plain": [
       "3010"
      ]
     },
     "execution_count": 562,
     "metadata": {},
     "output_type": "execute_result"
    }
   ],
   "source": [
    "len(dfs[3].dropna(subset=['Bairros']))"
   ]
  },
  {
   "cell_type": "code",
   "execution_count": 563,
   "metadata": {},
   "outputs": [
    {
     "data": {
      "text/plain": [
       "3066"
      ]
     },
     "execution_count": 563,
     "metadata": {},
     "output_type": "execute_result"
    }
   ],
   "source": [
    "len(dfs[3])"
   ]
  },
  {
   "cell_type": "code",
   "execution_count": 565,
   "metadata": {},
   "outputs": [],
   "source": [
    "dfs[3] = dfs[3].dropna(subset=['Bairros'])"
   ]
  },
  {
   "cell_type": "markdown",
   "metadata": {},
   "source": [
    "# Final Formatting"
   ]
  },
  {
   "cell_type": "code",
   "execution_count": 672,
   "metadata": {},
   "outputs": [],
   "source": [
    "for i in range(6): \n",
    "    dfs[i]['Bairros'].replace(np.nan, '')\n",
    "    dfs[i]['Bairros'] = [j.lower().strip().replace('á','a').replace('é','e').replace('í','i').replace('ó','o').replace('ú','u') for j in dfs[i]['Bairros']]"
   ]
  },
  {
   "cell_type": "markdown",
   "metadata": {},
   "source": [
    "# Saving Loading Population Table:"
   ]
  },
  {
   "cell_type": "code",
   "execution_count": 602,
   "metadata": {},
   "outputs": [],
   "source": [
    "#dfs[0].to_csv('\\\\Users\\luisr\\Desktop\\Repository\\IBM_courses\\Course Work\\Assignments\\Final Capstone Project\\\\rio dataframes\\\\Outside Data\\\\Clean\\\\census\\\\pops_clean_fixed.csv')"
   ]
  },
  {
   "cell_type": "code",
   "execution_count": 666,
   "metadata": {},
   "outputs": [],
   "source": [
    "dfs[0] = pd.read_csv('\\\\Users\\luisr\\Desktop\\Repository\\IBM_courses\\Course Work\\Assignments\\Final Capstone Project\\\\rio dataframes\\\\Outside Data\\\\Clean\\\\census\\\\pops_clean_fixed.csv', index_col=0)"
   ]
  },
  {
   "cell_type": "markdown",
   "metadata": {},
   "source": [
    "# Saving the Others:"
   ]
  },
  {
   "cell_type": "code",
   "execution_count": 606,
   "metadata": {},
   "outputs": [],
   "source": [
    "#dfs[2].to_csv('\\\\Users\\luisr\\Desktop\\Repository\\IBM_courses\\Course Work\\Assignments\\Final Capstone Project\\\\rio dataframes\\\\Outside Data\\\\raw\\\\bairros\\\\census\\\\estabs_clean_fixed.csv', index=False)"
   ]
  },
  {
   "cell_type": "code",
   "execution_count": 605,
   "metadata": {},
   "outputs": [],
   "source": [
    "#dfs[3].to_csv('\\\\Users\\luisr\\Desktop\\Repository\\IBM_courses\\Course Work\\Assignments\\Final Capstone Project\\\\rio dataframes\\\\Outside Data\\\\raw\\\\bairros\\\\census\\\\emps_clean_fixed.csv', index=False)"
   ]
  },
  {
   "cell_type": "code",
   "execution_count": 607,
   "metadata": {},
   "outputs": [],
   "source": [
    "#dfs[5].to_csv('\\\\Users\\luisr\\Desktop\\Repository\\IBM_courses\\Course Work\\Assignments\\Final Capstone Project\\\\rio dataframes\\\\Outside Data\\\\raw\\\\bairros\\\\census\\\\sals_clean_fixed.csv', index=False)"
   ]
  },
  {
   "cell_type": "code",
   "execution_count": null,
   "metadata": {},
   "outputs": [],
   "source": []
  },
  {
   "cell_type": "markdown",
   "metadata": {},
   "source": [
    "# Combining All Tables:"
   ]
  },
  {
   "cell_type": "markdown",
   "metadata": {},
   "source": [
    "## Reducing Time Series To the Mean."
   ]
  },
  {
   "cell_type": "code",
   "execution_count": 634,
   "metadata": {},
   "outputs": [],
   "source": [
    "dfs[1].reset_index(inplace=True, drop=True)"
   ]
  },
  {
   "cell_type": "code",
   "execution_count": 635,
   "metadata": {},
   "outputs": [
    {
     "name": "stdout",
     "output_type": "stream",
     "text": [
      "196\n",
      "316\n",
      "3010\n",
      "3010\n",
      "316\n",
      "3010\n"
     ]
    }
   ],
   "source": [
    "for i in range(6): print(len(dfs[i]['Bairros']))"
   ]
  },
  {
   "cell_type": "markdown",
   "metadata": {},
   "source": [
    "# "
   ]
  },
  {
   "cell_type": "code",
   "execution_count": 673,
   "metadata": {},
   "outputs": [
    {
     "name": "stdout",
     "output_type": "stream",
     "text": [
      "158\n",
      "215\n",
      "215\n",
      "158\n",
      "215\n"
     ]
    }
   ],
   "source": [
    "dfs_grp = []\n",
    "\n",
    "dfs_grp.append(dfs[1].groupby('Bairros', as_index=False).mean().copy())\n",
    "\n",
    "print(len(dfs_grp[0]))\n",
    "\n",
    "dfs_grp.append(dfs[2].groupby('Bairros', as_index=False).mean().copy())\n",
    "\n",
    "print(len(dfs_grp[1]))\n",
    "\n",
    "dfs_grp.append(dfs[3].groupby('Bairros', as_index=False).mean().copy())\n",
    "\n",
    "print(len(dfs_grp[2]))\n",
    "\n",
    "dfs_grp.append(dfs[4].groupby('Bairros', as_index=False).mean().copy())\n",
    "\n",
    "print(len(dfs_grp[3]))\n",
    "\n",
    "dfs_grp.append(dfs[5].groupby('Bairros', as_index=False).mean().copy())\n",
    "\n",
    "print(len(dfs_grp[4]))"
   ]
  },
  {
   "cell_type": "markdown",
   "metadata": {},
   "source": [
    "## Merging"
   ]
  },
  {
   "cell_type": "code",
   "execution_count": 717,
   "metadata": {},
   "outputs": [],
   "source": [
    "hood = pd.merge(pd.merge(pd.merge(pd.merge(pd.merge(dfs[0], dfs_grp[0], on='Bairros'),\n",
    "                                                            dfs_grp[3], on='Bairros'),\n",
    "                                                            dfs_grp[1], on='Bairros'),\n",
    "                                                            dfs_grp[2], on='Bairros'), \n",
    "                                                            dfs_grp[4], on='Bairros')"
   ]
  },
  {
   "cell_type": "markdown",
   "metadata": {},
   "source": [
    "# Saving Complete Merged Table"
   ]
  },
  {
   "cell_type": "code",
   "execution_count": 719,
   "metadata": {},
   "outputs": [],
   "source": [
    "#hood.to_csv('\\\\Users\\luisr\\Desktop\\Repository\\IBM_courses\\Course Work\\Assignments\\Final Capstone Project\\\\rio dataframes\\\\Outside Data\\\\Clean\\\\census\\\\rio_complete.csv', index=False)"
   ]
  },
  {
   "cell_type": "code",
   "execution_count": 707,
   "metadata": {},
   "outputs": [],
   "source": [
    "corr = hood.iloc[:, 1:].astype(float).corr().copy()"
   ]
  },
  {
   "cell_type": "code",
   "execution_count": null,
   "metadata": {},
   "outputs": [],
   "source": [
    "fig = plt.figure(figsize=(40, 40))\n",
    "ax0 = fig.add_subplot(111)\n",
    "\n",
    "sns.heatmap(corr.iloc[:, :60], linewidths=0.5, cmap='RdBu', ax=ax0)"
   ]
  },
  {
   "cell_type": "code",
   "execution_count": null,
   "metadata": {},
   "outputs": [],
   "source": []
  }
 ],
 "metadata": {
  "kernelspec": {
   "display_name": "Python 3",
   "language": "python",
   "name": "python3"
  },
  "language_info": {
   "codemirror_mode": {
    "name": "ipython",
    "version": 3
   },
   "file_extension": ".py",
   "mimetype": "text/x-python",
   "name": "python",
   "nbconvert_exporter": "python",
   "pygments_lexer": "ipython3",
   "version": "3.8.3"
  }
 },
 "nbformat": 4,
 "nbformat_minor": 4
}
