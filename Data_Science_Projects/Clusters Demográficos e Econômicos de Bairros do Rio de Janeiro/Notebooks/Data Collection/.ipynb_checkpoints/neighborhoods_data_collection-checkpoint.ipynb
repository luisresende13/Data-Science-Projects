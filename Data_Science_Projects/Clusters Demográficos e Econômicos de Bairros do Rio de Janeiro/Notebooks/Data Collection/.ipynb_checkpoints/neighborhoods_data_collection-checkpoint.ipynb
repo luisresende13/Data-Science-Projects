{
 "cells": [
  {
   "cell_type": "markdown",
   "metadata": {},
   "source": [
    "# Importing"
   ]
  },
  {
   "cell_type": "code",
   "execution_count": 63,
   "metadata": {},
   "outputs": [],
   "source": [
    "import pandas as pd\n",
    "import numpy as np\n",
    "import matplotlib.pyplot as plt\n",
    "\n",
    "import urllib.request\n",
    "import json\n",
    "from pandas.io.json import json_normalize\n",
    "\n",
    "from geopy.geocoders import Nominatim\n",
    "import folium\n",
    "import random\n",
    "import time"
   ]
  },
  {
   "cell_type": "code",
   "execution_count": 4,
   "metadata": {},
   "outputs": [],
   "source": [
    "nomi_obj = Nominatim(user_agent='IBM-coursera')"
   ]
  },
  {
   "cell_type": "code",
   "execution_count": 5,
   "metadata": {},
   "outputs": [],
   "source": [
    "pd.set_option('display.max_rows', None)"
   ]
  },
  {
   "cell_type": "markdown",
   "metadata": {},
   "source": [
    "# Defining Functions"
   ]
  },
  {
   "cell_type": "markdown",
   "metadata": {},
   "source": [
    "### Coordinates: Receives a list of location names, returns a dataframe containing the names and the coordinates."
   ]
  },
  {
   "cell_type": "code",
   "execution_count": 106,
   "metadata": {},
   "outputs": [],
   "source": [
    "def frame_coords(lst, col_name='venue'):\n",
    "    \n",
    "    nomi_obj = Nominatim(user_agent='IBM-coursera')\n",
    "    \n",
    "    coords = []\n",
    "    fail_list = []\n",
    "    \n",
    "    cnt = 0\n",
    "    for item in lst:\n",
    "        \n",
    "        cnt2 = 0\n",
    "        try:\n",
    "            location = None\n",
    "            while (location==None) and (cnt2<5):\n",
    "                location = nomi_obj.geocode(item)\n",
    "                cnt2+=1\n",
    "                        \n",
    "            if location!=None: coords.append((item, location[1][0], location[1][1]))\n",
    "            else: \n",
    "                fail_list.append(item)\n",
    "                print('Fail:', item)\n",
    "                \n",
    "            cnt = cnt+1\n",
    "            if cnt in range(1, 500, 8): print('Appended:', len(coords), 'Attempts:', cnt)\n",
    "        except: print(nomi_obj.geocode(item), location)\n",
    "            \n",
    "    print('Fail List: ', fail_list) \n",
    "    print('Completed')\n",
    "    return pd.DataFrame(coords, columns=[col_name, 'lat', 'lng'])"
   ]
  },
  {
   "cell_type": "code",
   "execution_count": 6,
   "metadata": {},
   "outputs": [
    {
     "name": "stdout",
     "output_type": "stream",
     "text": [
      "Appended: 1 Attempts: 1\n",
      "Fail List:  []\n",
      "Completed\n"
     ]
    },
    {
     "data": {
      "text/html": [
       "<div>\n",
       "<style scoped>\n",
       "    .dataframe tbody tr th:only-of-type {\n",
       "        vertical-align: middle;\n",
       "    }\n",
       "\n",
       "    .dataframe tbody tr th {\n",
       "        vertical-align: top;\n",
       "    }\n",
       "\n",
       "    .dataframe thead th {\n",
       "        text-align: right;\n",
       "    }\n",
       "</style>\n",
       "<table border=\"1\" class=\"dataframe\">\n",
       "  <thead>\n",
       "    <tr style=\"text-align: right;\">\n",
       "      <th></th>\n",
       "      <th>rio</th>\n",
       "      <th>lat</th>\n",
       "      <th>lng</th>\n",
       "    </tr>\n",
       "  </thead>\n",
       "  <tbody>\n",
       "    <tr>\n",
       "      <th>0</th>\n",
       "      <td>Rio de Janeiro, RJ</td>\n",
       "      <td>-22.911014</td>\n",
       "      <td>-43.209373</td>\n",
       "    </tr>\n",
       "  </tbody>\n",
       "</table>\n",
       "</div>"
      ],
      "text/plain": [
       "                  rio        lat        lng\n",
       "0  Rio de Janeiro, RJ -22.911014 -43.209373"
      ]
     },
     "execution_count": 6,
     "metadata": {},
     "output_type": "execute_result"
    }
   ],
   "source": [
    "frame_coords(['Rio de Janeiro, RJ'], 'rio')   # Testing"
   ]
  },
  {
   "cell_type": "markdown",
   "metadata": {},
   "source": [
    "### Mapping Functions"
   ]
  },
  {
   "cell_type": "markdown",
   "metadata": {},
   "source": [
    "#### Receives a Dataframe containing location names and coordinates, plots the map and marks each location with a circle."
   ]
  },
  {
   "cell_type": "code",
   "execution_count": 55,
   "metadata": {},
   "outputs": [],
   "source": [
    "def plot_map(df, zoom=10):\n",
    "    mapa = folium.Map(location = [-22.911014, -43.209373], zoom_start = zoom)\n",
    "\n",
    "\n",
    "    for lat, lng, label in zip(df['lat'], df['lng'], df.iloc[:, 0]):\n",
    "    \n",
    "        label = folium.Popup(label, html_parser=True)\n",
    "        folium.CircleMarker([lat, lng],\n",
    "                            popup=label,\n",
    "                            radius=3,\n",
    "                            color='darkorange',\n",
    "                            #fill=True,\n",
    "                            #fill_color='blue',\n",
    "                            #fill_oppacity=0.8\n",
    "                           ).add_to(mapa)\n",
    "    return mapa"
   ]
  },
  {
   "cell_type": "code",
   "execution_count": 78,
   "metadata": {},
   "outputs": [],
   "source": [
    "def plot_map_lite(df, zoom=11):\n",
    "    \n",
    "    mapa = folium.Map(location = [-22.911014, -43.209373], zoom_start=zoom)\n",
    "\n",
    "    for lat, lng, label in zip(df['lat'].values, df['lng'].values, df.iloc[:, 0].values):\n",
    "    \n",
    "        #label = folium.Popup(label, html_parser=True)\n",
    "        folium.CircleMarker([lat, lng],\n",
    "                            #popup=label,\n",
    "                            radius=2,\n",
    "                            color='darkred',\n",
    "                            #fill=True,\n",
    "                            #fill_color='blue',\n",
    "                            #fill_oppacity=0.8\n",
    "                           ).add_to(mapa)\n",
    "        \n",
    "    return mapa"
   ]
  },
  {
   "cell_type": "markdown",
   "metadata": {},
   "source": [
    "#### Receives a Dataframe containing location names, coordinates and radius values, plots map and draw circles around each location considering its radius."
   ]
  },
  {
   "cell_type": "code",
   "execution_count": 57,
   "metadata": {},
   "outputs": [],
   "source": [
    "def plot_search_map(df, zoom=11):\n",
    "         \n",
    "    mapa = folium.Map(location = [-22.911014, -43.209373], zoom_start=zoom)\n",
    "\n",
    "    for lat, lng, label, radius in zip(df['lat'].values, df['lng'].values, df['bairros'].values, df['radius'].values):\n",
    "    \n",
    "        #label = folium.Popup(label, html_parser=True)\n",
    "        folium.Circle([lat, lng],\n",
    "                      radius=radius,\n",
    "                      color='darkred',\n",
    "                      #popup=label,\n",
    "                      #fill=True,\n",
    "                      #fill_color='blue',\n",
    "                      #fill_oppacity=0.8\n",
    "                     ).add_to(mapa)\n",
    "    return mapa\n",
    "    "
   ]
  },
  {
   "cell_type": "markdown",
   "metadata": {},
   "source": [
    "# Initial Data Collection: Neighborhoods Names"
   ]
  },
  {
   "cell_type": "code",
   "execution_count": 9,
   "metadata": {
    "jupyter": {
     "source_hidden": true
    }
   },
   "outputs": [],
   "source": [
    "a_g = '''Abolição\n",
    " Acari\n",
    " Água Santa\n",
    " Alto da Boa Vista\n",
    " Anchieta\n",
    " Andaraí\n",
    " Anil\n",
    " Bancários\n",
    " Bangu\n",
    " Barra da Tijuca\n",
    " Barra de Guaratiba\n",
    " Barros Filho\n",
    " Benfica\n",
    " Bento Ribeiro\n",
    " Bonsucesso\n",
    " Botafogo\n",
    " Brás de Pina\n",
    " Cachambi\n",
    " Cacuia\n",
    " Caju\n",
    " Camorim\n",
    " Campinho\n",
    " Campo dos Afonsos\n",
    " Campo Grande\n",
    " Cascadura\n",
    " Catete\n",
    " Catumbi\n",
    " Cavalcanti\n",
    " Centro\n",
    " Cidade de Deus\n",
    " Cidade Nova\n",
    " Cidade Universitária\n",
    " Cocotá\n",
    " Coelho Neto\n",
    " Colégio\n",
    " Complexo do Alemão\n",
    " Copacabana\n",
    " Cordovil\n",
    " Cosme Velho\n",
    " Cosmos\n",
    " Costa Barros\n",
    " Curicica\n",
    " Del Castilho\n",
    " Deodoro\n",
    " Encantado\n",
    " Engenheiro Leal\n",
    " Engenho da Rainha\n",
    " Engenho de Dentro\n",
    " Engenho Novo\n",
    " Estácio\n",
    " Flamengo\n",
    " Freguesia (Ilha do Governador)\n",
    " Freguesia (Jacarepaguá)\n",
    " Galeão\n",
    " Gamboa\n",
    " Gardênia Azul\n",
    " Gávea\n",
    " Gericinó\n",
    " Glória\n",
    " Grajaú\n",
    " Grumari\n",
    " Guadalupe\n",
    " Guaratiba'''"
   ]
  },
  {
   "cell_type": "code",
   "execution_count": 10,
   "metadata": {},
   "outputs": [],
   "source": [
    "bairros1 = a_g.split('\\n ')"
   ]
  },
  {
   "cell_type": "code",
   "execution_count": 11,
   "metadata": {
    "jupyter": {
     "source_hidden": true
    }
   },
   "outputs": [],
   "source": [
    "h_p = ''' Higienópolis\n",
    " Honório Gurgel\n",
    " Humaitá\n",
    " Imperial de São Cristóvão\n",
    " Inhaúma\n",
    " Inhoaíba\n",
    " Ipanema\n",
    " Irajá\n",
    " Itanhangá\n",
    " Jabour\n",
    " Jacaré\n",
    " Jacarepaguá\n",
    " Jacarezinho\n",
    " Jardim América\n",
    " Jardim Botânico\n",
    " Jardim Carioca\n",
    " Jardim Guanabara\n",
    " Jardim Sulacap\n",
    " Joá\n",
    " Lagoa\n",
    " Lapa\n",
    " Laranjeiras\n",
    " Leblon\n",
    " Leme\n",
    " Lins de Vasconcelos\n",
    " Madureira\n",
    " Magalhães Bastos\n",
    " Mangueira\n",
    " Manguinhos\n",
    " Maracanã\n",
    " Maré\n",
    " Marechal Hermes\n",
    " Maria da Graça\n",
    " Méier\n",
    " Moneró\n",
    " Olaria\n",
    " Oswaldo Cruz\n",
    " Paciência\n",
    " Padre Miguel\n",
    " Paquetá\n",
    " Parada de Lucas\n",
    " Parque Anchieta\n",
    " Parque Columbia\n",
    " Pavuna\n",
    " Pechincha\n",
    " Pedra de Guaratiba\n",
    " Penha\n",
    " Penha Circular\n",
    " Piedade\n",
    " Pilares\n",
    " Pitangueiras\n",
    " Portuguesa\n",
    " Praça da Bandeira\n",
    " Praça Seca\n",
    " Praia da Bandeira'''"
   ]
  },
  {
   "cell_type": "code",
   "execution_count": 12,
   "metadata": {},
   "outputs": [],
   "source": [
    "bairros2 = h_p.split('\\n ')"
   ]
  },
  {
   "cell_type": "code",
   "execution_count": 13,
   "metadata": {
    "jupyter": {
     "source_hidden": true
    }
   },
   "outputs": [],
   "source": [
    "q_z = '''Quintino Bocaiúva\n",
    " Ramos\n",
    " Realengo\n",
    " Recreio dos Bandeirantes\n",
    " Riachuelo\n",
    " Ribeira\n",
    " Ricardo de Albuquerque\n",
    " Rio Comprido\n",
    " Rocha\n",
    " Rocha Miranda\n",
    " Rocinha\n",
    " Sampaio\n",
    " Santa Cruz\n",
    " Santa Teresa\n",
    " Santíssimo\n",
    " Santo Cristo\n",
    " São Conrado\n",
    " São Francisco Xavier\n",
    " Saúde\n",
    " Senador Camará\n",
    " Senador Vasconcelos\n",
    " Sepetiba\n",
    " Tanque\n",
    " Taquara\n",
    " Tauá\n",
    " Tijuca\n",
    " Todos os Santos\n",
    " Tomás Coelho\n",
    " Turiaçu\n",
    " Urca\n",
    " Vargem Grande\n",
    " Vargem Pequena\n",
    " Vasco da Gama\n",
    " Vaz Lobo\n",
    " Vicente de Carvalho\n",
    " Vidigal\n",
    " Vigário Geral\n",
    " Vila Cosmos\n",
    " Vila da Penha\n",
    " Vila Isabel\n",
    " Vila Kennedy\n",
    " Vila Militar\n",
    " Vila Valqueire\n",
    " Vista Alegre\n",
    " Zumbi'''"
   ]
  },
  {
   "cell_type": "code",
   "execution_count": 14,
   "metadata": {},
   "outputs": [],
   "source": [
    "bairros3 = q_z.split('\\n ')"
   ]
  },
  {
   "cell_type": "code",
   "execution_count": 15,
   "metadata": {},
   "outputs": [],
   "source": [
    "bairros = bairros1+bairros2+bairros3"
   ]
  },
  {
   "cell_type": "markdown",
   "metadata": {},
   "source": [
    "# Using Geopy Library to Get Neighborhoods Coordinates"
   ]
  },
  {
   "cell_type": "markdown",
   "metadata": {},
   "source": [
    "## Formatting Neighborhoods Names for Search"
   ]
  },
  {
   "cell_type": "code",
   "execution_count": 16,
   "metadata": {},
   "outputs": [],
   "source": [
    "bairros_rj = [i+', Rio de Janeiro' for i in bairros]\n",
    "\n",
    "to_fix = ['Freguesia (Ilha do Governador), Rio de Janeiro', 'Imperial de São Cristóvão, Rio de Janeiro', 'Vila Cosmos, Rio de Janeiro']\n",
    "\n",
    "fixed = ['Freguesia, Ilha do Governador', 'Imperial de São Cristóvão, RJ', 'Vila Cosmos, RJ']\n",
    "\n",
    "index = [bairros_rj.index(i) for i in to_fix]\n",
    "\n",
    "for i in range(3):\n",
    "    bairros_rj[index[i]] = fixed[i]"
   ]
  },
  {
   "cell_type": "code",
   "execution_count": 17,
   "metadata": {},
   "outputs": [
    {
     "data": {
      "text/plain": [
       "['Abolição, Rio de Janeiro',\n",
       " 'Acari, Rio de Janeiro',\n",
       " 'Água Santa, Rio de Janeiro',\n",
       " 'Alto da Boa Vista, Rio de Janeiro',\n",
       " 'Anchieta, Rio de Janeiro',\n",
       " 'Andaraí, Rio de Janeiro',\n",
       " 'Anil, Rio de Janeiro',\n",
       " 'Bancários, Rio de Janeiro',\n",
       " 'Bangu, Rio de Janeiro',\n",
       " 'Barra da Tijuca, Rio de Janeiro',\n",
       " 'Barra de Guaratiba, Rio de Janeiro',\n",
       " 'Barros Filho, Rio de Janeiro',\n",
       " 'Benfica, Rio de Janeiro',\n",
       " 'Bento Ribeiro, Rio de Janeiro',\n",
       " 'Bonsucesso, Rio de Janeiro',\n",
       " 'Botafogo, Rio de Janeiro',\n",
       " 'Brás de Pina, Rio de Janeiro',\n",
       " 'Cachambi, Rio de Janeiro',\n",
       " 'Cacuia, Rio de Janeiro',\n",
       " 'Caju, Rio de Janeiro',\n",
       " 'Camorim, Rio de Janeiro',\n",
       " 'Campinho, Rio de Janeiro',\n",
       " 'Campo dos Afonsos, Rio de Janeiro',\n",
       " 'Campo Grande, Rio de Janeiro',\n",
       " 'Cascadura, Rio de Janeiro',\n",
       " 'Catete, Rio de Janeiro',\n",
       " 'Catumbi, Rio de Janeiro',\n",
       " 'Cavalcanti, Rio de Janeiro',\n",
       " 'Centro, Rio de Janeiro',\n",
       " 'Cidade de Deus, Rio de Janeiro',\n",
       " 'Cidade Nova, Rio de Janeiro',\n",
       " 'Cidade Universitária, Rio de Janeiro',\n",
       " 'Cocotá, Rio de Janeiro',\n",
       " 'Coelho Neto, Rio de Janeiro',\n",
       " 'Colégio, Rio de Janeiro',\n",
       " 'Complexo do Alemão, Rio de Janeiro',\n",
       " 'Copacabana, Rio de Janeiro',\n",
       " 'Cordovil, Rio de Janeiro',\n",
       " 'Cosme Velho, Rio de Janeiro',\n",
       " 'Cosmos, Rio de Janeiro',\n",
       " 'Costa Barros, Rio de Janeiro',\n",
       " 'Curicica, Rio de Janeiro',\n",
       " 'Del Castilho, Rio de Janeiro',\n",
       " 'Deodoro, Rio de Janeiro',\n",
       " 'Encantado, Rio de Janeiro',\n",
       " 'Engenheiro Leal, Rio de Janeiro',\n",
       " 'Engenho da Rainha, Rio de Janeiro',\n",
       " 'Engenho de Dentro, Rio de Janeiro',\n",
       " 'Engenho Novo, Rio de Janeiro',\n",
       " 'Estácio, Rio de Janeiro',\n",
       " 'Flamengo, Rio de Janeiro',\n",
       " 'Freguesia, Ilha do Governador',\n",
       " 'Freguesia (Jacarepaguá), Rio de Janeiro',\n",
       " 'Galeão, Rio de Janeiro',\n",
       " 'Gamboa, Rio de Janeiro',\n",
       " 'Gardênia Azul, Rio de Janeiro',\n",
       " 'Gávea, Rio de Janeiro',\n",
       " 'Gericinó, Rio de Janeiro',\n",
       " 'Glória, Rio de Janeiro',\n",
       " 'Grajaú, Rio de Janeiro',\n",
       " 'Grumari, Rio de Janeiro',\n",
       " 'Guadalupe, Rio de Janeiro',\n",
       " 'Guaratiba, Rio de Janeiro',\n",
       " ' Higienópolis, Rio de Janeiro',\n",
       " 'Honório Gurgel, Rio de Janeiro',\n",
       " 'Humaitá, Rio de Janeiro',\n",
       " 'Imperial de São Cristóvão, RJ',\n",
       " 'Inhaúma, Rio de Janeiro',\n",
       " 'Inhoaíba, Rio de Janeiro',\n",
       " 'Ipanema, Rio de Janeiro',\n",
       " 'Irajá, Rio de Janeiro',\n",
       " 'Itanhangá, Rio de Janeiro',\n",
       " 'Jabour, Rio de Janeiro',\n",
       " 'Jacaré, Rio de Janeiro',\n",
       " 'Jacarepaguá, Rio de Janeiro',\n",
       " 'Jacarezinho, Rio de Janeiro',\n",
       " 'Jardim América, Rio de Janeiro',\n",
       " 'Jardim Botânico, Rio de Janeiro',\n",
       " 'Jardim Carioca, Rio de Janeiro',\n",
       " 'Jardim Guanabara, Rio de Janeiro',\n",
       " 'Jardim Sulacap, Rio de Janeiro',\n",
       " 'Joá, Rio de Janeiro',\n",
       " 'Lagoa, Rio de Janeiro',\n",
       " 'Lapa, Rio de Janeiro',\n",
       " 'Laranjeiras, Rio de Janeiro',\n",
       " 'Leblon, Rio de Janeiro',\n",
       " 'Leme, Rio de Janeiro',\n",
       " 'Lins de Vasconcelos, Rio de Janeiro',\n",
       " 'Madureira, Rio de Janeiro',\n",
       " 'Magalhães Bastos, Rio de Janeiro',\n",
       " 'Mangueira, Rio de Janeiro',\n",
       " 'Manguinhos, Rio de Janeiro',\n",
       " 'Maracanã, Rio de Janeiro',\n",
       " 'Maré, Rio de Janeiro',\n",
       " 'Marechal Hermes, Rio de Janeiro',\n",
       " 'Maria da Graça, Rio de Janeiro',\n",
       " 'Méier, Rio de Janeiro',\n",
       " 'Moneró, Rio de Janeiro',\n",
       " 'Olaria, Rio de Janeiro',\n",
       " 'Oswaldo Cruz, Rio de Janeiro',\n",
       " 'Paciência, Rio de Janeiro',\n",
       " 'Padre Miguel, Rio de Janeiro',\n",
       " 'Paquetá, Rio de Janeiro',\n",
       " 'Parada de Lucas, Rio de Janeiro',\n",
       " 'Parque Anchieta, Rio de Janeiro',\n",
       " 'Parque Columbia, Rio de Janeiro',\n",
       " 'Pavuna, Rio de Janeiro',\n",
       " 'Pechincha, Rio de Janeiro',\n",
       " 'Pedra de Guaratiba, Rio de Janeiro',\n",
       " 'Penha, Rio de Janeiro',\n",
       " 'Penha Circular, Rio de Janeiro',\n",
       " 'Piedade, Rio de Janeiro',\n",
       " 'Pilares, Rio de Janeiro',\n",
       " 'Pitangueiras, Rio de Janeiro',\n",
       " 'Portuguesa, Rio de Janeiro',\n",
       " 'Praça da Bandeira, Rio de Janeiro',\n",
       " 'Praça Seca, Rio de Janeiro',\n",
       " 'Praia da Bandeira, Rio de Janeiro',\n",
       " 'Quintino Bocaiúva, Rio de Janeiro',\n",
       " 'Ramos, Rio de Janeiro',\n",
       " 'Realengo, Rio de Janeiro',\n",
       " 'Recreio dos Bandeirantes, Rio de Janeiro',\n",
       " 'Riachuelo, Rio de Janeiro',\n",
       " 'Ribeira, Rio de Janeiro',\n",
       " 'Ricardo de Albuquerque, Rio de Janeiro',\n",
       " 'Rio Comprido, Rio de Janeiro',\n",
       " 'Rocha, Rio de Janeiro',\n",
       " 'Rocha Miranda, Rio de Janeiro',\n",
       " 'Rocinha, Rio de Janeiro',\n",
       " 'Sampaio, Rio de Janeiro',\n",
       " 'Santa Cruz, Rio de Janeiro',\n",
       " 'Santa Teresa, Rio de Janeiro',\n",
       " 'Santíssimo, Rio de Janeiro',\n",
       " 'Santo Cristo, Rio de Janeiro',\n",
       " 'São Conrado, Rio de Janeiro',\n",
       " 'São Francisco Xavier, Rio de Janeiro',\n",
       " 'Saúde, Rio de Janeiro',\n",
       " 'Senador Camará, Rio de Janeiro',\n",
       " 'Senador Vasconcelos, Rio de Janeiro',\n",
       " 'Sepetiba, Rio de Janeiro',\n",
       " 'Tanque, Rio de Janeiro',\n",
       " 'Taquara, Rio de Janeiro',\n",
       " 'Tauá, Rio de Janeiro',\n",
       " 'Tijuca, Rio de Janeiro',\n",
       " 'Todos os Santos, Rio de Janeiro',\n",
       " 'Tomás Coelho, Rio de Janeiro',\n",
       " 'Turiaçu, Rio de Janeiro',\n",
       " 'Urca, Rio de Janeiro',\n",
       " 'Vargem Grande, Rio de Janeiro',\n",
       " 'Vargem Pequena, Rio de Janeiro',\n",
       " 'Vasco da Gama, Rio de Janeiro',\n",
       " 'Vaz Lobo, Rio de Janeiro',\n",
       " 'Vicente de Carvalho, Rio de Janeiro',\n",
       " 'Vidigal, Rio de Janeiro',\n",
       " 'Vigário Geral, Rio de Janeiro',\n",
       " 'Vila Cosmos, RJ',\n",
       " 'Vila da Penha, Rio de Janeiro',\n",
       " 'Vila Isabel, Rio de Janeiro',\n",
       " 'Vila Kennedy, Rio de Janeiro',\n",
       " 'Vila Militar, Rio de Janeiro',\n",
       " 'Vila Valqueire, Rio de Janeiro',\n",
       " 'Vista Alegre, Rio de Janeiro',\n",
       " 'Zumbi, Rio de Janeiro']"
      ]
     },
     "execution_count": 17,
     "metadata": {},
     "output_type": "execute_result"
    }
   ],
   "source": [
    "bairros_rj"
   ]
  },
  {
   "cell_type": "markdown",
   "metadata": {},
   "source": [
    "## Searching with Geopy"
   ]
  },
  {
   "cell_type": "code",
   "execution_count": 186,
   "metadata": {},
   "outputs": [],
   "source": [
    "hoods = [praias_rj, bairros_rj]\n",
    "hoods_names = ['praias', 'bairros']"
   ]
  },
  {
   "cell_type": "code",
   "execution_count": 193,
   "metadata": {},
   "outputs": [
    {
     "name": "stdout",
     "output_type": "stream",
     "text": [
      "Appended: 1 Attempts: 1\n",
      "Appended: 9 Attempts: 9\n",
      "Appended: 17 Attempts: 17\n",
      "Appended: 25 Attempts: 25\n",
      "Appended: 33 Attempts: 33\n",
      "Appended: 41 Attempts: 41\n",
      "Appended: 49 Attempts: 49\n",
      "Appended: 57 Attempts: 57\n",
      "Appended: 65 Attempts: 65\n",
      "Appended: 73 Attempts: 73\n",
      "Fail List:  []\n",
      "Completed\n",
      "Appended: 1 Attempts: 1\n",
      "Appended: 9 Attempts: 9\n",
      "Appended: 17 Attempts: 17\n",
      "Appended: 25 Attempts: 25\n",
      "Appended: 33 Attempts: 33\n",
      "Appended: 41 Attempts: 41\n",
      "Appended: 49 Attempts: 49\n",
      "Appended: 57 Attempts: 57\n",
      "Appended: 65 Attempts: 65\n",
      "Appended: 73 Attempts: 73\n",
      "Appended: 81 Attempts: 81\n",
      "Fail List:  []\n",
      "Completed\n"
     ]
    }
   ],
   "source": [
    "half = frame_coords(bairros_rj[:76], 'bairros')\n",
    "other_half = frame_coords(bairros_rj[76:], 'bairros')"
   ]
  },
  {
   "cell_type": "code",
   "execution_count": 563,
   "metadata": {},
   "outputs": [],
   "source": [
    "bairros_df = pd.concat([half, other_half], axis=0)"
   ]
  },
  {
   "cell_type": "markdown",
   "metadata": {},
   "source": [
    "#### Coordinates Aquired"
   ]
  },
  {
   "cell_type": "markdown",
   "metadata": {},
   "source": [
    "### Formatting search names back"
   ]
  },
  {
   "cell_type": "code",
   "execution_count": 564,
   "metadata": {},
   "outputs": [],
   "source": [
    "bairros_df['bairros'] = [i[:-16] if i not in fixed else (to_fix[0][:-16] if i==fixed[0] else i[:-4]) for i in bairros_df['bairros']]"
   ]
  },
  {
   "cell_type": "markdown",
   "metadata": {},
   "source": [
    "## Evaluating Result"
   ]
  },
  {
   "cell_type": "code",
   "execution_count": null,
   "metadata": {},
   "outputs": [],
   "source": [
    "plot_map(bairros_df, zoom=11)"
   ]
  },
  {
   "cell_type": "markdown",
   "metadata": {},
   "source": [
    "## Spotting Bad Results: Outliers"
   ]
  },
  {
   "cell_type": "code",
   "execution_count": 495,
   "metadata": {},
   "outputs": [
    {
     "data": {
      "text/html": [
       "<div>\n",
       "<style scoped>\n",
       "    .dataframe tbody tr th:only-of-type {\n",
       "        vertical-align: middle;\n",
       "    }\n",
       "\n",
       "    .dataframe tbody tr th {\n",
       "        vertical-align: top;\n",
       "    }\n",
       "\n",
       "    .dataframe thead th {\n",
       "        text-align: right;\n",
       "    }\n",
       "</style>\n",
       "<table border=\"1\" class=\"dataframe\">\n",
       "  <thead>\n",
       "    <tr style=\"text-align: right;\">\n",
       "      <th></th>\n",
       "      <th>lat</th>\n",
       "      <th>lng</th>\n",
       "      <th>area</th>\n",
       "      <th>radius</th>\n",
       "    </tr>\n",
       "  </thead>\n",
       "  <tbody>\n",
       "    <tr>\n",
       "      <th>count</th>\n",
       "      <td>163.000000</td>\n",
       "      <td>163.000000</td>\n",
       "      <td>1.630000e+02</td>\n",
       "      <td>163.000000</td>\n",
       "    </tr>\n",
       "    <tr>\n",
       "      <th>mean</th>\n",
       "      <td>-22.034582</td>\n",
       "      <td>-44.794142</td>\n",
       "      <td>7.387408e+06</td>\n",
       "      <td>1171.376029</td>\n",
       "    </tr>\n",
       "    <tr>\n",
       "      <th>std</th>\n",
       "      <td>7.362797</td>\n",
       "      <td>7.638167</td>\n",
       "      <td>1.839828e+07</td>\n",
       "      <td>992.677595</td>\n",
       "    </tr>\n",
       "    <tr>\n",
       "      <th>min</th>\n",
       "      <td>-34.576697</td>\n",
       "      <td>-104.626243</td>\n",
       "      <td>1.611178e+05</td>\n",
       "      <td>226.462764</td>\n",
       "    </tr>\n",
       "    <tr>\n",
       "      <th>25%</th>\n",
       "      <td>-22.930916</td>\n",
       "      <td>-43.375841</td>\n",
       "      <td>1.343236e+06</td>\n",
       "      <td>653.839580</td>\n",
       "    </tr>\n",
       "    <tr>\n",
       "      <th>50%</th>\n",
       "      <td>-22.891522</td>\n",
       "      <td>-43.296776</td>\n",
       "      <td>2.534304e+06</td>\n",
       "      <td>898.161495</td>\n",
       "    </tr>\n",
       "    <tr>\n",
       "      <th>75%</th>\n",
       "      <td>-22.847531</td>\n",
       "      <td>-43.227707</td>\n",
       "      <td>4.744831e+06</td>\n",
       "      <td>1228.933493</td>\n",
       "    </tr>\n",
       "    <tr>\n",
       "      <th>max</th>\n",
       "      <td>40.755393</td>\n",
       "      <td>-43.109199</td>\n",
       "      <td>1.395012e+08</td>\n",
       "      <td>6663.678713</td>\n",
       "    </tr>\n",
       "  </tbody>\n",
       "</table>\n",
       "</div>"
      ],
      "text/plain": [
       "              lat         lng          area       radius\n",
       "count  163.000000  163.000000  1.630000e+02   163.000000\n",
       "mean   -22.034582  -44.794142  7.387408e+06  1171.376029\n",
       "std      7.362797    7.638167  1.839828e+07   992.677595\n",
       "min    -34.576697 -104.626243  1.611178e+05   226.462764\n",
       "25%    -22.930916  -43.375841  1.343236e+06   653.839580\n",
       "50%    -22.891522  -43.296776  2.534304e+06   898.161495\n",
       "75%    -22.847531  -43.227707  4.744831e+06  1228.933493\n",
       "max     40.755393  -43.109199  1.395012e+08  6663.678713"
      ]
     },
     "execution_count": 495,
     "metadata": {},
     "output_type": "execute_result"
    }
   ],
   "source": [
    "bairros_df.describe()"
   ]
  },
  {
   "cell_type": "code",
   "execution_count": 566,
   "metadata": {},
   "outputs": [
    {
     "data": {
      "text/plain": [
       "<matplotlib.axes._subplots.AxesSubplot at 0x251c8f85220>"
      ]
     },
     "execution_count": 566,
     "metadata": {},
     "output_type": "execute_result"
    },
    {
     "data": {
      "image/png": "[encoded data removed]",
      "text/plain": [
       "<Figure size 432x288 with 1 Axes>"
      ]
     },
     "metadata": {
      "needs_background": "light"
     },
     "output_type": "display_data"
    }
   ],
   "source": [
    "bairros_df.plot(kind='box', y='lat')"
   ]
  },
  {
   "cell_type": "code",
   "execution_count": 451,
   "metadata": {},
   "outputs": [
    {
     "data": {
      "text/plain": [
       "<matplotlib.axes._subplots.AxesSubplot at 0x251c8fa9f70>"
      ]
     },
     "execution_count": 451,
     "metadata": {},
     "output_type": "execute_result"
    },
    {
     "data": {
      "image/png": "[encoded data removed]",
      "text/plain": [
       "<Figure size 432x288 with 1 Axes>"
      ]
     },
     "metadata": {
      "needs_background": "light"
     },
     "output_type": "display_data"
    }
   ],
   "source": [
    "bairros_df.plot(kind='box', y='lng')"
   ]
  },
  {
   "cell_type": "code",
   "execution_count": 550,
   "metadata": {},
   "outputs": [
    {
     "data": {
      "text/plain": [
       "<matplotlib.axes._subplots.AxesSubplot at 0x251cab54e20>"
      ]
     },
     "execution_count": 550,
     "metadata": {},
     "output_type": "execute_result"
    },
    {
     "data": {
      "image/png": "[encoded data removed]",
      "text/plain": [
       "<Figure size 432x288 with 1 Axes>"
      ]
     },
     "metadata": {
      "needs_background": "light"
     },
     "output_type": "display_data"
    }
   ],
   "source": [
    "bairros_df.plot(kind='scatter', x='lng', y='lat')"
   ]
  },
  {
   "cell_type": "markdown",
   "metadata": {},
   "source": [
    "#### Above we can see the outliers and the correct observations groupped in the extreme right."
   ]
  },
  {
   "cell_type": "code",
   "execution_count": 515,
   "metadata": {},
   "outputs": [
    {
     "name": "stderr",
     "output_type": "stream",
     "text": [
      "<ipython-input-515-1c7777508d11>:1: UserWarning: Boolean Series key will be reindexed to match DataFrame index.\n",
      "  bairros_df[bairros_df['lat']>-24][bairros_df['lat']<-22.7].plot(kind='scatter', x='lng', y='lat')\n"
     ]
    },
    {
     "data": {
      "text/plain": [
       "<matplotlib.axes._subplots.AxesSubplot at 0x251ca6311f0>"
      ]
     },
     "execution_count": 515,
     "metadata": {},
     "output_type": "execute_result"
    },
    {
     "data": {
      "image/png": "[encoded data removed]",
      "text/plain": [
       "<Figure size 432x288 with 1 Axes>"
      ]
     },
     "metadata": {
      "needs_background": "light"
     },
     "output_type": "display_data"
    }
   ],
   "source": [
    "bairros_df[bairros_df['lat']>-24][bairros_df['lat']<-22.7].plot(kind='scatter', x='lng', y='lat')"
   ]
  },
  {
   "cell_type": "markdown",
   "metadata": {},
   "source": [
    "#### Above we can see the correct observations isolated. Note how the scale is much smaller."
   ]
  },
  {
   "cell_type": "code",
   "execution_count": 529,
   "metadata": {},
   "outputs": [],
   "source": [
    "bad_lat = pd.concat([bairros_df[bairros_df['lat']>-22.7], bairros_df[bairros_df['lat']<-24]], axis=0)"
   ]
  },
  {
   "cell_type": "code",
   "execution_count": 530,
   "metadata": {},
   "outputs": [
    {
     "data": {
      "text/html": [
       "<div>\n",
       "<style scoped>\n",
       "    .dataframe tbody tr th:only-of-type {\n",
       "        vertical-align: middle;\n",
       "    }\n",
       "\n",
       "    .dataframe tbody tr th {\n",
       "        vertical-align: top;\n",
       "    }\n",
       "\n",
       "    .dataframe thead th {\n",
       "        text-align: right;\n",
       "    }\n",
       "</style>\n",
       "<table border=\"1\" class=\"dataframe\">\n",
       "  <thead>\n",
       "    <tr style=\"text-align: right;\">\n",
       "      <th></th>\n",
       "      <th>bairros</th>\n",
       "      <th>lat</th>\n",
       "      <th>lng</th>\n",
       "      <th>area</th>\n",
       "      <th>radius</th>\n",
       "    </tr>\n",
       "  </thead>\n",
       "  <tbody>\n",
       "    <tr>\n",
       "      <th>2</th>\n",
       "      <td>água santa</td>\n",
       "      <td>-1.680751</td>\n",
       "      <td>-78.635140</td>\n",
       "      <td>2.426232e+06</td>\n",
       "      <td>878.802356</td>\n",
       "    </tr>\n",
       "    <tr>\n",
       "      <th>28</th>\n",
       "      <td>centro</td>\n",
       "      <td>-20.429425</td>\n",
       "      <td>-54.596237</td>\n",
       "      <td>5.424739e+06</td>\n",
       "      <td>1314.057881</td>\n",
       "    </tr>\n",
       "    <tr>\n",
       "      <th>30</th>\n",
       "      <td>cidade nova</td>\n",
       "      <td>40.755393</td>\n",
       "      <td>-73.989783</td>\n",
       "      <td>9.348529e+05</td>\n",
       "      <td>545.502443</td>\n",
       "    </tr>\n",
       "    <tr>\n",
       "      <th>34</th>\n",
       "      <td>colégio</td>\n",
       "      <td>-22.507101</td>\n",
       "      <td>-43.136713</td>\n",
       "      <td>2.261110e+06</td>\n",
       "      <td>848.371235</td>\n",
       "    </tr>\n",
       "    <tr>\n",
       "      <th>61</th>\n",
       "      <td>guadalupe</td>\n",
       "      <td>24.043406</td>\n",
       "      <td>-104.626243</td>\n",
       "      <td>3.820008e+06</td>\n",
       "      <td>1102.699509</td>\n",
       "    </tr>\n",
       "    <tr>\n",
       "      <th>130</th>\n",
       "      <td>santa cruz</td>\n",
       "      <td>19.300277</td>\n",
       "      <td>-99.506041</td>\n",
       "      <td>1.250443e+08</td>\n",
       "      <td>6308.948836</td>\n",
       "    </tr>\n",
       "    <tr>\n",
       "      <th>126</th>\n",
       "      <td>rocha</td>\n",
       "      <td>-34.576697</td>\n",
       "      <td>-54.126319</td>\n",
       "      <td>1.311626e+06</td>\n",
       "      <td>646.145027</td>\n",
       "    </tr>\n",
       "    <tr>\n",
       "      <th>127</th>\n",
       "      <td>rocha miranda</td>\n",
       "      <td>-34.576697</td>\n",
       "      <td>-54.126319</td>\n",
       "      <td>2.886706e+06</td>\n",
       "      <td>958.575457</td>\n",
       "    </tr>\n",
       "    <tr>\n",
       "      <th>140</th>\n",
       "      <td>tanque</td>\n",
       "      <td>-34.498114</td>\n",
       "      <td>-58.532314</td>\n",
       "      <td>5.567990e+06</td>\n",
       "      <td>1331.294969</td>\n",
       "    </tr>\n",
       "    <tr>\n",
       "      <th>161</th>\n",
       "      <td>vista alegre</td>\n",
       "      <td>-24.750625</td>\n",
       "      <td>-53.724992</td>\n",
       "      <td>5.152091e+05</td>\n",
       "      <td>404.964362</td>\n",
       "    </tr>\n",
       "  </tbody>\n",
       "</table>\n",
       "</div>"
      ],
      "text/plain": [
       "           bairros        lat         lng          area       radius\n",
       "2       água santa  -1.680751  -78.635140  2.426232e+06   878.802356\n",
       "28          centro -20.429425  -54.596237  5.424739e+06  1314.057881\n",
       "30     cidade nova  40.755393  -73.989783  9.348529e+05   545.502443\n",
       "34         colégio -22.507101  -43.136713  2.261110e+06   848.371235\n",
       "61       guadalupe  24.043406 -104.626243  3.820008e+06  1102.699509\n",
       "130     santa cruz  19.300277  -99.506041  1.250443e+08  6308.948836\n",
       "126          rocha -34.576697  -54.126319  1.311626e+06   646.145027\n",
       "127  rocha miranda -34.576697  -54.126319  2.886706e+06   958.575457\n",
       "140         tanque -34.498114  -58.532314  5.567990e+06  1331.294969\n",
       "161   vista alegre -24.750625  -53.724992  5.152091e+05   404.964362"
      ]
     },
     "execution_count": 530,
     "metadata": {},
     "output_type": "execute_result"
    }
   ],
   "source": [
    "bad_lat"
   ]
  },
  {
   "cell_type": "markdown",
   "metadata": {},
   "source": [
    "## Getting Bad Coordinates Right"
   ]
  },
  {
   "cell_type": "code",
   "execution_count": 532,
   "metadata": {},
   "outputs": [
    {
     "name": "stdout",
     "output_type": "stream",
     "text": [
      "Appended: 1 Attempts: 1\n",
      "Appended: 9 Attempts: 9\n",
      "Fail List:  []\n",
      "Completed\n"
     ]
    }
   ],
   "source": [
    "fixed_coords = frame_coords(bad_lat['bairros']+', RJ')"
   ]
  },
  {
   "cell_type": "code",
   "execution_count": 533,
   "metadata": {},
   "outputs": [],
   "source": [
    "fixed_coords['venue'] = [i[:-4] for i in fixed_coords['venue']]"
   ]
  },
  {
   "cell_type": "code",
   "execution_count": 569,
   "metadata": {},
   "outputs": [
    {
     "data": {
      "text/html": [
       "<div>\n",
       "<style scoped>\n",
       "    .dataframe tbody tr th:only-of-type {\n",
       "        vertical-align: middle;\n",
       "    }\n",
       "\n",
       "    .dataframe tbody tr th {\n",
       "        vertical-align: top;\n",
       "    }\n",
       "\n",
       "    .dataframe thead th {\n",
       "        text-align: right;\n",
       "    }\n",
       "</style>\n",
       "<table border=\"1\" class=\"dataframe\">\n",
       "  <thead>\n",
       "    <tr style=\"text-align: right;\">\n",
       "      <th></th>\n",
       "      <th>venue</th>\n",
       "      <th>lat</th>\n",
       "      <th>lng</th>\n",
       "    </tr>\n",
       "  </thead>\n",
       "  <tbody>\n",
       "    <tr>\n",
       "      <th>0</th>\n",
       "      <td>água santa</td>\n",
       "      <td>-22.911143</td>\n",
       "      <td>-43.312126</td>\n",
       "    </tr>\n",
       "    <tr>\n",
       "      <th>1</th>\n",
       "      <td>centro</td>\n",
       "      <td>-22.904393</td>\n",
       "      <td>-43.183065</td>\n",
       "    </tr>\n",
       "    <tr>\n",
       "      <th>2</th>\n",
       "      <td>cidade nova</td>\n",
       "      <td>-22.910051</td>\n",
       "      <td>-43.201756</td>\n",
       "    </tr>\n",
       "    <tr>\n",
       "      <th>3</th>\n",
       "      <td>colégio</td>\n",
       "      <td>-22.839790</td>\n",
       "      <td>-43.335762</td>\n",
       "    </tr>\n",
       "    <tr>\n",
       "      <th>4</th>\n",
       "      <td>guadalupe</td>\n",
       "      <td>-22.837621</td>\n",
       "      <td>-43.375161</td>\n",
       "    </tr>\n",
       "    <tr>\n",
       "      <th>5</th>\n",
       "      <td>santa cruz</td>\n",
       "      <td>-22.917625</td>\n",
       "      <td>-43.683491</td>\n",
       "    </tr>\n",
       "    <tr>\n",
       "      <th>6</th>\n",
       "      <td>rocha</td>\n",
       "      <td>-22.899562</td>\n",
       "      <td>-43.248807</td>\n",
       "    </tr>\n",
       "    <tr>\n",
       "      <th>7</th>\n",
       "      <td>rocha miranda</td>\n",
       "      <td>-22.850347</td>\n",
       "      <td>-43.346305</td>\n",
       "    </tr>\n",
       "    <tr>\n",
       "      <th>8</th>\n",
       "      <td>tanque</td>\n",
       "      <td>-22.915193</td>\n",
       "      <td>-43.355747</td>\n",
       "    </tr>\n",
       "    <tr>\n",
       "      <th>9</th>\n",
       "      <td>vista alegre</td>\n",
       "      <td>-22.829624</td>\n",
       "      <td>-43.315128</td>\n",
       "    </tr>\n",
       "  </tbody>\n",
       "</table>\n",
       "</div>"
      ],
      "text/plain": [
       "           venue        lat        lng\n",
       "0     água santa -22.911143 -43.312126\n",
       "1         centro -22.904393 -43.183065\n",
       "2    cidade nova -22.910051 -43.201756\n",
       "3        colégio -22.839790 -43.335762\n",
       "4      guadalupe -22.837621 -43.375161\n",
       "5     santa cruz -22.917625 -43.683491\n",
       "6          rocha -22.899562 -43.248807\n",
       "7  rocha miranda -22.850347 -43.346305\n",
       "8         tanque -22.915193 -43.355747\n",
       "9   vista alegre -22.829624 -43.315128"
      ]
     },
     "execution_count": 569,
     "metadata": {},
     "output_type": "execute_result"
    }
   ],
   "source": [
    "fixed_coords"
   ]
  },
  {
   "cell_type": "code",
   "execution_count": null,
   "metadata": {},
   "outputs": [],
   "source": [
    "plot_map(fixed_coords)"
   ]
  },
  {
   "cell_type": "markdown",
   "metadata": {},
   "source": [
    "## Replacing Bad Coordinates"
   ]
  },
  {
   "cell_type": "code",
   "execution_count": 584,
   "metadata": {},
   "outputs": [],
   "source": [
    "bairros_df.loc[bad_lat.index, 0:3] = fixed_coords.values"
   ]
  },
  {
   "cell_type": "markdown",
   "metadata": {},
   "source": [
    "## Checking"
   ]
  },
  {
   "cell_type": "code",
   "execution_count": 585,
   "metadata": {},
   "outputs": [
    {
     "data": {
      "text/html": [
       "<div>\n",
       "<style scoped>\n",
       "    .dataframe tbody tr th:only-of-type {\n",
       "        vertical-align: middle;\n",
       "    }\n",
       "\n",
       "    .dataframe tbody tr th {\n",
       "        vertical-align: top;\n",
       "    }\n",
       "\n",
       "    .dataframe thead th {\n",
       "        text-align: right;\n",
       "    }\n",
       "</style>\n",
       "<table border=\"1\" class=\"dataframe\">\n",
       "  <thead>\n",
       "    <tr style=\"text-align: right;\">\n",
       "      <th></th>\n",
       "      <th>bairros</th>\n",
       "      <th>lat</th>\n",
       "      <th>lng</th>\n",
       "    </tr>\n",
       "  </thead>\n",
       "  <tbody>\n",
       "    <tr>\n",
       "      <th>2</th>\n",
       "      <td>água santa</td>\n",
       "      <td>-22.911143</td>\n",
       "      <td>-43.312126</td>\n",
       "    </tr>\n",
       "    <tr>\n",
       "      <th>28</th>\n",
       "      <td>centro</td>\n",
       "      <td>-22.904393</td>\n",
       "      <td>-43.183065</td>\n",
       "    </tr>\n",
       "    <tr>\n",
       "      <th>30</th>\n",
       "      <td>cidade nova</td>\n",
       "      <td>-22.910051</td>\n",
       "      <td>-43.201756</td>\n",
       "    </tr>\n",
       "    <tr>\n",
       "      <th>34</th>\n",
       "      <td>colégio</td>\n",
       "      <td>-22.839790</td>\n",
       "      <td>-43.335762</td>\n",
       "    </tr>\n",
       "    <tr>\n",
       "      <th>61</th>\n",
       "      <td>guadalupe</td>\n",
       "      <td>-22.837621</td>\n",
       "      <td>-43.375161</td>\n",
       "    </tr>\n",
       "    <tr>\n",
       "      <th>130</th>\n",
       "      <td>santa cruz</td>\n",
       "      <td>-22.917625</td>\n",
       "      <td>-43.683491</td>\n",
       "    </tr>\n",
       "    <tr>\n",
       "      <th>126</th>\n",
       "      <td>rocha</td>\n",
       "      <td>-22.899562</td>\n",
       "      <td>-43.248807</td>\n",
       "    </tr>\n",
       "    <tr>\n",
       "      <th>127</th>\n",
       "      <td>rocha miranda</td>\n",
       "      <td>-22.850347</td>\n",
       "      <td>-43.346305</td>\n",
       "    </tr>\n",
       "    <tr>\n",
       "      <th>140</th>\n",
       "      <td>tanque</td>\n",
       "      <td>-22.915193</td>\n",
       "      <td>-43.355747</td>\n",
       "    </tr>\n",
       "    <tr>\n",
       "      <th>161</th>\n",
       "      <td>vista alegre</td>\n",
       "      <td>-22.829624</td>\n",
       "      <td>-43.315128</td>\n",
       "    </tr>\n",
       "  </tbody>\n",
       "</table>\n",
       "</div>"
      ],
      "text/plain": [
       "           bairros        lat        lng\n",
       "2       água santa -22.911143 -43.312126\n",
       "28          centro -22.904393 -43.183065\n",
       "30     cidade nova -22.910051 -43.201756\n",
       "34         colégio -22.839790 -43.335762\n",
       "61       guadalupe -22.837621 -43.375161\n",
       "130     santa cruz -22.917625 -43.683491\n",
       "126          rocha -22.899562 -43.248807\n",
       "127  rocha miranda -22.850347 -43.346305\n",
       "140         tanque -22.915193 -43.355747\n",
       "161   vista alegre -22.829624 -43.315128"
      ]
     },
     "execution_count": 585,
     "metadata": {},
     "output_type": "execute_result"
    }
   ],
   "source": [
    "bairros_df.loc[bad_lat.index]"
   ]
  },
  {
   "cell_type": "code",
   "execution_count": 581,
   "metadata": {},
   "outputs": [
    {
     "data": {
      "text/plain": [
       "<matplotlib.axes._subplots.AxesSubplot at 0x251ca78dc10>"
      ]
     },
     "execution_count": 581,
     "metadata": {},
     "output_type": "execute_result"
    },
    {
     "data": {
      "image/png": "[encoded data removed]",
      "text/plain": [
       "<Figure size 432x288 with 1 Axes>"
      ]
     },
     "metadata": {
      "needs_background": "light"
     },
     "output_type": "display_data"
    }
   ],
   "source": [
    "bairros_df.plot(kind='scatter', y='lat', x='lng')"
   ]
  },
  {
   "cell_type": "markdown",
   "metadata": {},
   "source": [
    "## Saving/Loading"
   ]
  },
  {
   "cell_type": "code",
   "execution_count": 586,
   "metadata": {},
   "outputs": [],
   "source": [
    "#bairros_df.to_csv('/Users/luisr/Desktop/Repository/IBM_courses/Course Work/Assignments/rio dataframes/Search Data/coords_bairros.csv')"
   ]
  },
  {
   "cell_type": "code",
   "execution_count": 583,
   "metadata": {},
   "outputs": [],
   "source": [
    "bairros_df = pd.read_csv('/Users/luisr/Desktop/Repository/IBM_courses/Course Work/Assignments/rio dataframes/Search Data/coords_bairros.csv', index_col=0)"
   ]
  },
  {
   "cell_type": "markdown",
   "metadata": {},
   "source": [
    "# Getting Neighborhoods Areas from data.rio Data"
   ]
  },
  {
   "cell_type": "markdown",
   "metadata": {},
   "source": [
    "### Loading"
   ]
  },
  {
   "cell_type": "code",
   "execution_count": 293,
   "metadata": {},
   "outputs": [],
   "source": [
    "data_rio = pd.read_csv('\\\\Users\\luisr\\Desktop\\Repository\\IBM_courses\\Course Work\\Assignments\\\\Limite_de_Bairros.csv')"
   ]
  },
  {
   "cell_type": "markdown",
   "metadata": {},
   "source": [
    "## Crossing New and Previous Neighborhoods."
   ]
  },
  {
   "cell_type": "code",
   "execution_count": 294,
   "metadata": {},
   "outputs": [],
   "source": [
    "only_datario = [i for i in data_rio['NOME'] if i.strip().lower() not in [j.strip().lower() for j in bairros]]"
   ]
  },
  {
   "cell_type": "code",
   "execution_count": 295,
   "metadata": {},
   "outputs": [],
   "source": [
    "only_bairros = [i for i in bairros if i.strip().lower() not in [j.strip().lower() for j in data_rio['NOME']]]"
   ]
  },
  {
   "cell_type": "code",
   "execution_count": 296,
   "metadata": {},
   "outputs": [
    {
     "data": {
      "text/plain": [
       "(['Freguesia (Ilha)          ',\n",
       "  'Parque Colúmbia           ',\n",
       "  'Vila Kosmos               ',\n",
       "  'Turiaçú                   ',\n",
       "  'Osvaldo Cruz              ',\n",
       "  'São Cristóvão             '],\n",
       " ['Freguesia (Ilha do Governador)',\n",
       "  'Imperial de São Cristóvão',\n",
       "  'Oswaldo Cruz',\n",
       "  'Parque Columbia',\n",
       "  'Turiaçu',\n",
       "  'Vila Cosmos'])"
      ]
     },
     "execution_count": 296,
     "metadata": {},
     "output_type": "execute_result"
    }
   ],
   "source": [
    "only_datario, only_bairros          "
   ]
  },
  {
   "cell_type": "markdown",
   "metadata": {},
   "source": [
    "## Processing data.rio Data"
   ]
  },
  {
   "cell_type": "code",
   "execution_count": 298,
   "metadata": {},
   "outputs": [],
   "source": [
    "datario_area = data_rio[['NOME', 'Área']].rename(columns={'NOME':'bairros'})\n",
    "datario_area['bairros'] = [i.strip().lower() for i in datario_area['bairros']]\n",
    "\n",
    "bairros_copy = bairros_df.copy()\n",
    "bairros_copy['bairros'] = [i.strip().lower() for i in bairros_copy['bairros']]"
   ]
  },
  {
   "cell_type": "code",
   "execution_count": 302,
   "metadata": {},
   "outputs": [],
   "source": [
    "b1 = bairros_copy['bairros'].values\n",
    "\n",
    "b2 = datario_area['bairros'].values\n",
    "\n",
    "out1 = [i for i in b1 if i not in b2]\n",
    "\n",
    "out2 = [i for i in b2 if i not in b1]"
   ]
  },
  {
   "cell_type": "code",
   "execution_count": 303,
   "metadata": {},
   "outputs": [
    {
     "data": {
      "text/plain": [
       "['freguesia (ilha do governador)',\n",
       " 'imperial de são cristóvão',\n",
       " 'oswaldo cruz',\n",
       " 'parque columbia',\n",
       " 'turiaçu',\n",
       " 'vila cosmos']"
      ]
     },
     "execution_count": 303,
     "metadata": {},
     "output_type": "execute_result"
    }
   ],
   "source": [
    "out1"
   ]
  },
  {
   "cell_type": "code",
   "execution_count": 304,
   "metadata": {},
   "outputs": [
    {
     "data": {
      "text/plain": [
       "['freguesia (ilha)',\n",
       " 'parque colúmbia',\n",
       " 'vila kosmos',\n",
       " 'turiaçú',\n",
       " 'osvaldo cruz',\n",
       " 'são cristóvão']"
      ]
     },
     "execution_count": 304,
     "metadata": {},
     "output_type": "execute_result"
    }
   ],
   "source": [
    "out2"
   ]
  },
  {
   "cell_type": "code",
   "execution_count": 305,
   "metadata": {},
   "outputs": [
    {
     "name": "stderr",
     "output_type": "stream",
     "text": [
      "<ipython-input-305-a358c46e88c2>:2: SettingWithCopyWarning: \n",
      "A value is trying to be set on a copy of a slice from a DataFrame\n",
      "\n",
      "See the caveats in the documentation: https://pandas.pydata.org/pandas-docs/stable/user_guide/indexing.html#returning-a-view-versus-a-copy\n",
      "  datario_area['bairros'][out_index] = ['freguesia (ilha do governador)',\n"
     ]
    }
   ],
   "source": [
    "out_index = datario_area[datario_area['bairros'].isin(out2)].index\n",
    "datario_area['bairros'][out_index] = ['freguesia (ilha do governador)',    \n",
    "                                                 'parque columbia',\n",
    "                                                 'vila cosmos',\n",
    "                                                 'turiaçu',\n",
    "                                                 'oswaldo cruz',                                            \n",
    "                                                 'imperial de são cristóvão']"
   ]
  },
  {
   "cell_type": "markdown",
   "metadata": {},
   "source": [
    "## Merging data.rio area data with neighborhoods dataframe"
   ]
  },
  {
   "cell_type": "code",
   "execution_count": 306,
   "metadata": {},
   "outputs": [
    {
     "data": {
      "text/html": [
       "<div>\n",
       "<style scoped>\n",
       "    .dataframe tbody tr th:only-of-type {\n",
       "        vertical-align: middle;\n",
       "    }\n",
       "\n",
       "    .dataframe tbody tr th {\n",
       "        vertical-align: top;\n",
       "    }\n",
       "\n",
       "    .dataframe thead th {\n",
       "        text-align: right;\n",
       "    }\n",
       "</style>\n",
       "<table border=\"1\" class=\"dataframe\">\n",
       "  <thead>\n",
       "    <tr style=\"text-align: right;\">\n",
       "      <th></th>\n",
       "      <th>bairros</th>\n",
       "      <th>Área</th>\n",
       "    </tr>\n",
       "  </thead>\n",
       "  <tbody>\n",
       "    <tr>\n",
       "      <th>0</th>\n",
       "      <td>paquetá</td>\n",
       "      <td>1.705685e+06</td>\n",
       "    </tr>\n",
       "    <tr>\n",
       "      <th>1</th>\n",
       "      <td>freguesia (ilha do governador)</td>\n",
       "      <td>4.056403e+06</td>\n",
       "    </tr>\n",
       "    <tr>\n",
       "      <th>2</th>\n",
       "      <td>bancários</td>\n",
       "      <td>9.780465e+05</td>\n",
       "    </tr>\n",
       "    <tr>\n",
       "      <th>3</th>\n",
       "      <td>galeão</td>\n",
       "      <td>1.895742e+07</td>\n",
       "    </tr>\n",
       "    <tr>\n",
       "      <th>4</th>\n",
       "      <td>tauá</td>\n",
       "      <td>1.672546e+06</td>\n",
       "    </tr>\n",
       "    <tr>\n",
       "      <th>...</th>\n",
       "      <td>...</td>\n",
       "      <td>...</td>\n",
       "    </tr>\n",
       "    <tr>\n",
       "      <th>158</th>\n",
       "      <td>campo grande</td>\n",
       "      <td>1.044451e+08</td>\n",
       "    </tr>\n",
       "    <tr>\n",
       "      <th>159</th>\n",
       "      <td>bangu</td>\n",
       "      <td>3.596620e+07</td>\n",
       "    </tr>\n",
       "    <tr>\n",
       "      <th>160</th>\n",
       "      <td>gericinó</td>\n",
       "      <td>2.534304e+06</td>\n",
       "    </tr>\n",
       "    <tr>\n",
       "      <th>161</th>\n",
       "      <td>jabour</td>\n",
       "      <td>3.273271e+05</td>\n",
       "    </tr>\n",
       "    <tr>\n",
       "      <th>162</th>\n",
       "      <td>vila kennedy</td>\n",
       "      <td>1.473737e+06</td>\n",
       "    </tr>\n",
       "  </tbody>\n",
       "</table>\n",
       "<p>163 rows × 2 columns</p>\n",
       "</div>"
      ],
      "text/plain": [
       "                            bairros          Área\n",
       "0                           paquetá  1.705685e+06\n",
       "1    freguesia (ilha do governador)  4.056403e+06\n",
       "2                         bancários  9.780465e+05\n",
       "3                            galeão  1.895742e+07\n",
       "4                              tauá  1.672546e+06\n",
       "..                              ...           ...\n",
       "158                    campo grande  1.044451e+08\n",
       "159                           bangu  3.596620e+07\n",
       "160                        gericinó  2.534304e+06\n",
       "161                          jabour  3.273271e+05\n",
       "162                    vila kennedy  1.473737e+06\n",
       "\n",
       "[163 rows x 2 columns]"
      ]
     },
     "execution_count": 306,
     "metadata": {},
     "output_type": "execute_result"
    }
   ],
   "source": [
    "datario_area"
   ]
  },
  {
   "cell_type": "code",
   "execution_count": 307,
   "metadata": {},
   "outputs": [
    {
     "data": {
      "text/html": [
       "<div>\n",
       "<style scoped>\n",
       "    .dataframe tbody tr th:only-of-type {\n",
       "        vertical-align: middle;\n",
       "    }\n",
       "\n",
       "    .dataframe tbody tr th {\n",
       "        vertical-align: top;\n",
       "    }\n",
       "\n",
       "    .dataframe thead th {\n",
       "        text-align: right;\n",
       "    }\n",
       "</style>\n",
       "<table border=\"1\" class=\"dataframe\">\n",
       "  <thead>\n",
       "    <tr style=\"text-align: right;\">\n",
       "      <th></th>\n",
       "      <th>bairros</th>\n",
       "      <th>lat</th>\n",
       "      <th>lng</th>\n",
       "    </tr>\n",
       "  </thead>\n",
       "  <tbody>\n",
       "    <tr>\n",
       "      <th>0</th>\n",
       "      <td>abolição</td>\n",
       "      <td>-22.886161</td>\n",
       "      <td>-43.299846</td>\n",
       "    </tr>\n",
       "    <tr>\n",
       "      <th>1</th>\n",
       "      <td>acari</td>\n",
       "      <td>-22.822153</td>\n",
       "      <td>-43.340674</td>\n",
       "    </tr>\n",
       "    <tr>\n",
       "      <th>2</th>\n",
       "      <td>água santa</td>\n",
       "      <td>-1.680751</td>\n",
       "      <td>-78.635140</td>\n",
       "    </tr>\n",
       "    <tr>\n",
       "      <th>3</th>\n",
       "      <td>alto da boa vista</td>\n",
       "      <td>-22.962113</td>\n",
       "      <td>-43.253582</td>\n",
       "    </tr>\n",
       "    <tr>\n",
       "      <th>4</th>\n",
       "      <td>anchieta</td>\n",
       "      <td>-22.823190</td>\n",
       "      <td>-43.399107</td>\n",
       "    </tr>\n",
       "    <tr>\n",
       "      <th>...</th>\n",
       "      <td>...</td>\n",
       "      <td>...</td>\n",
       "      <td>...</td>\n",
       "    </tr>\n",
       "    <tr>\n",
       "      <th>158</th>\n",
       "      <td>vila kennedy</td>\n",
       "      <td>-22.855678</td>\n",
       "      <td>-43.490030</td>\n",
       "    </tr>\n",
       "    <tr>\n",
       "      <th>159</th>\n",
       "      <td>vila militar</td>\n",
       "      <td>-22.860348</td>\n",
       "      <td>-43.402893</td>\n",
       "    </tr>\n",
       "    <tr>\n",
       "      <th>160</th>\n",
       "      <td>vila valqueire</td>\n",
       "      <td>-22.888609</td>\n",
       "      <td>-43.365776</td>\n",
       "    </tr>\n",
       "    <tr>\n",
       "      <th>161</th>\n",
       "      <td>vista alegre</td>\n",
       "      <td>-24.750625</td>\n",
       "      <td>-53.724992</td>\n",
       "    </tr>\n",
       "    <tr>\n",
       "      <th>162</th>\n",
       "      <td>zumbi</td>\n",
       "      <td>-22.821278</td>\n",
       "      <td>-43.175861</td>\n",
       "    </tr>\n",
       "  </tbody>\n",
       "</table>\n",
       "<p>163 rows × 3 columns</p>\n",
       "</div>"
      ],
      "text/plain": [
       "               bairros        lat        lng\n",
       "0             abolição -22.886161 -43.299846\n",
       "1                acari -22.822153 -43.340674\n",
       "2           água santa  -1.680751 -78.635140\n",
       "3    alto da boa vista -22.962113 -43.253582\n",
       "4             anchieta -22.823190 -43.399107\n",
       "..                 ...        ...        ...\n",
       "158       vila kennedy -22.855678 -43.490030\n",
       "159       vila militar -22.860348 -43.402893\n",
       "160     vila valqueire -22.888609 -43.365776\n",
       "161       vista alegre -24.750625 -53.724992\n",
       "162              zumbi -22.821278 -43.175861\n",
       "\n",
       "[163 rows x 3 columns]"
      ]
     },
     "execution_count": 307,
     "metadata": {},
     "output_type": "execute_result"
    }
   ],
   "source": [
    "bairros_copy"
   ]
  },
  {
   "cell_type": "code",
   "execution_count": 308,
   "metadata": {},
   "outputs": [],
   "source": [
    "bairros_df = pd.merge(bairros_copy, datario_area, on='bairros').rename(columns={'Área':'area'})"
   ]
  },
  {
   "cell_type": "code",
   "execution_count": 309,
   "metadata": {},
   "outputs": [
    {
     "data": {
      "text/html": [
       "<div>\n",
       "<style scoped>\n",
       "    .dataframe tbody tr th:only-of-type {\n",
       "        vertical-align: middle;\n",
       "    }\n",
       "\n",
       "    .dataframe tbody tr th {\n",
       "        vertical-align: top;\n",
       "    }\n",
       "\n",
       "    .dataframe thead th {\n",
       "        text-align: right;\n",
       "    }\n",
       "</style>\n",
       "<table border=\"1\" class=\"dataframe\">\n",
       "  <thead>\n",
       "    <tr style=\"text-align: right;\">\n",
       "      <th></th>\n",
       "      <th>bairros</th>\n",
       "      <th>lat</th>\n",
       "      <th>lng</th>\n",
       "      <th>area</th>\n",
       "    </tr>\n",
       "  </thead>\n",
       "  <tbody>\n",
       "    <tr>\n",
       "      <th>0</th>\n",
       "      <td>abolição</td>\n",
       "      <td>-22.886161</td>\n",
       "      <td>-43.299846</td>\n",
       "      <td>6.163327e+05</td>\n",
       "    </tr>\n",
       "    <tr>\n",
       "      <th>1</th>\n",
       "      <td>acari</td>\n",
       "      <td>-22.822153</td>\n",
       "      <td>-43.340674</td>\n",
       "      <td>1.605524e+06</td>\n",
       "    </tr>\n",
       "    <tr>\n",
       "      <th>2</th>\n",
       "      <td>água santa</td>\n",
       "      <td>-1.680751</td>\n",
       "      <td>-78.635140</td>\n",
       "      <td>2.426232e+06</td>\n",
       "    </tr>\n",
       "    <tr>\n",
       "      <th>3</th>\n",
       "      <td>alto da boa vista</td>\n",
       "      <td>-22.962113</td>\n",
       "      <td>-43.253582</td>\n",
       "      <td>3.149568e+07</td>\n",
       "    </tr>\n",
       "    <tr>\n",
       "      <th>4</th>\n",
       "      <td>anchieta</td>\n",
       "      <td>-22.823190</td>\n",
       "      <td>-43.399107</td>\n",
       "      <td>4.345727e+06</td>\n",
       "    </tr>\n",
       "    <tr>\n",
       "      <th>...</th>\n",
       "      <td>...</td>\n",
       "      <td>...</td>\n",
       "      <td>...</td>\n",
       "      <td>...</td>\n",
       "    </tr>\n",
       "    <tr>\n",
       "      <th>158</th>\n",
       "      <td>vila kennedy</td>\n",
       "      <td>-22.855678</td>\n",
       "      <td>-43.490030</td>\n",
       "      <td>1.473737e+06</td>\n",
       "    </tr>\n",
       "    <tr>\n",
       "      <th>159</th>\n",
       "      <td>vila militar</td>\n",
       "      <td>-22.860348</td>\n",
       "      <td>-43.402893</td>\n",
       "      <td>1.075671e+07</td>\n",
       "    </tr>\n",
       "    <tr>\n",
       "      <th>160</th>\n",
       "      <td>vila valqueire</td>\n",
       "      <td>-22.888609</td>\n",
       "      <td>-43.365776</td>\n",
       "      <td>4.232215e+06</td>\n",
       "    </tr>\n",
       "    <tr>\n",
       "      <th>161</th>\n",
       "      <td>vista alegre</td>\n",
       "      <td>-24.750625</td>\n",
       "      <td>-53.724992</td>\n",
       "      <td>5.152091e+05</td>\n",
       "    </tr>\n",
       "    <tr>\n",
       "      <th>162</th>\n",
       "      <td>zumbi</td>\n",
       "      <td>-22.821278</td>\n",
       "      <td>-43.175861</td>\n",
       "      <td>1.611178e+05</td>\n",
       "    </tr>\n",
       "  </tbody>\n",
       "</table>\n",
       "<p>163 rows × 4 columns</p>\n",
       "</div>"
      ],
      "text/plain": [
       "               bairros        lat        lng          area\n",
       "0             abolição -22.886161 -43.299846  6.163327e+05\n",
       "1                acari -22.822153 -43.340674  1.605524e+06\n",
       "2           água santa  -1.680751 -78.635140  2.426232e+06\n",
       "3    alto da boa vista -22.962113 -43.253582  3.149568e+07\n",
       "4             anchieta -22.823190 -43.399107  4.345727e+06\n",
       "..                 ...        ...        ...           ...\n",
       "158       vila kennedy -22.855678 -43.490030  1.473737e+06\n",
       "159       vila militar -22.860348 -43.402893  1.075671e+07\n",
       "160     vila valqueire -22.888609 -43.365776  4.232215e+06\n",
       "161       vista alegre -24.750625 -53.724992  5.152091e+05\n",
       "162              zumbi -22.821278 -43.175861  1.611178e+05\n",
       "\n",
       "[163 rows x 4 columns]"
      ]
     },
     "execution_count": 309,
     "metadata": {},
     "output_type": "execute_result"
    }
   ],
   "source": [
    "bairros_df"
   ]
  },
  {
   "cell_type": "markdown",
   "metadata": {},
   "source": [
    "### All Areas Successfuly Aquired !"
   ]
  },
  {
   "cell_type": "markdown",
   "metadata": {},
   "source": [
    "## Radius Estimation"
   ]
  },
  {
   "cell_type": "code",
   "execution_count": 311,
   "metadata": {},
   "outputs": [],
   "source": [
    "bairros_df['radius'] = bairros_df['area'].map(lambda a: np.sqrt(a/np.pi) )"
   ]
  },
  {
   "cell_type": "markdown",
   "metadata": {},
   "source": [
    "## Saving Neighborhoods Complete Result to csv:"
   ]
  },
  {
   "cell_type": "code",
   "execution_count": 582,
   "metadata": {},
   "outputs": [],
   "source": [
    "#bairros_df.to_csv('/Users/luisr/Desktop/Repository/IBM_courses/Course Work/Assignments/rio dataframes/Search Data/complete_bairros.csv')"
   ]
  },
  {
   "cell_type": "markdown",
   "metadata": {},
   "source": [
    "## Loading Neighborhoods Complete Result"
   ]
  },
  {
   "cell_type": "code",
   "execution_count": 436,
   "metadata": {},
   "outputs": [],
   "source": [
    "bairros_df = pd.read_csv('/Users/luisr/Desktop/Repository/IBM_courses/Course Work/Assignments/Final Capstone Project/rio dataframes/Outside Data/Clean/complete_bairros.csv').drop('Unnamed: 0', axis=1)"
   ]
  },
  {
   "cell_type": "markdown",
   "metadata": {},
   "source": [
    "## Adjustments"
   ]
  },
  {
   "cell_type": "code",
   "execution_count": null,
   "metadata": {},
   "outputs": [],
   "source": [
    "campo_grande = frame_coords(['Campo Grande, RJ'])\n",
    "tijuca = frame_coords(['Tijuca, RJ'])\n",
    "vila_kosmos = frame_coords(['Vila Kosmos, RJ'])"
   ]
  },
  {
   "cell_type": "code",
   "execution_count": 437,
   "metadata": {},
   "outputs": [],
   "source": [
    "bairros_df.loc[23, ['lat', 'lng']] = campo_grande.loc[0, ['lat','lng']]\n",
    "bairros_df.loc[143, ['lat', 'lng']] = tijuca.loc[0, ['lat','lng']]\n",
    "bairros_df.loc[155, ['lat', 'lng']] = vila_kosmos.loc[0, ['lat','lng']]"
   ]
  },
  {
   "cell_type": "code",
   "execution_count": 442,
   "metadata": {},
   "outputs": [],
   "source": [
    "bairros_df.loc[62, 'radius'] = 5000   # Guaratiba\n",
    "bairros_df.loc[130, 'radius'] = 4000  # Santa Cruz\n",
    "bairros_df.loc[23, 'radius'] = 2600   # Campo Grande\n",
    "bairros_df.loc[74, 'radius'] = 2000   # Jacarepaguá\n",
    "bairros_df.loc[8, 'radius'] = 1100    # Bangu\n",
    "bairros_df.loc[3, 'radius'] = 2600    # Alto da Boa Vista\n",
    "bairros_df.loc[120, 'radius'] = 1500  # Realengo\n",
    "bairros_df.loc[100, 'radius'] = 2000  # Paciência\n",
    "bairros_df.loc[137, 'radius'] = 1700  # Senador Camará\n",
    "bairros_df.loc[72, 'radius'] = 600    # Jabour\n",
    "bairros_df.loc[70, 'radius'] = 700   # Irajá\n",
    "bairros_df.loc[93, 'radius'] = 800   # Maré\n",
    "bairros_df.loc[31, 'radius'] = 800    # Cidade universitária\n",
    "bairros_df.loc[109, 'radius'] = 800   # Penha\n",
    "bairros_df.loc[110, 'radius'] = 800   # Penha Circular\n",
    "bairros_df.loc[37, 'radius'] = 800    # Cordovil\n",
    "bairros_df.loc[154, 'radius'] = 800   # vigário Geral\n",
    "bairros_df.loc[82, 'radius'] = 800    # Lagoa\n",
    "bairros_df.loc[84, 'radius'] = 500    # Laranjeiras\n",
    "bairros_df.loc[131, 'radius'] = 800    # Santa Tereza\n",
    "bairros_df.loc[125, 'radius'] = 800    # Rio Comprido\n",
    "bairros_df.loc[19, 'radius'] = 1000    # Caju\n",
    "bairros_df.loc[143, 'radius'] = 900    # Tijuca\n",
    "bairros_df.loc[28, 'radius'] = 800    # Centro\n",
    "bairros_df.loc[66, 'radius'] = 800    # São cristovao\n",
    "bairros_df.loc[147, 'radius'] = 500    # Urca\n",
    "bairros_df.loc[159, 'radius'] = 1500    # Vila Militar\n",
    "bairros_df.loc[83, 'radius'] = 500    # Lapa\n",
    "\n",
    "bairros_df.loc[9, 'lat'] = -23.01     # Barra da Tijuca\n",
    "bairros_df.loc[51, 'lat'] = -22.785   # freguesia (ilha do governador)\n",
    "bairros_df.loc[51, 'lng'] = -43.169   # freguesia (ilha do governador)"
   ]
  },
  {
   "cell_type": "code",
   "execution_count": 441,
   "metadata": {},
   "outputs": [
    {
     "data": {
      "text/html": [
       "<div>\n",
       "<style scoped>\n",
       "    .dataframe tbody tr th:only-of-type {\n",
       "        vertical-align: middle;\n",
       "    }\n",
       "\n",
       "    .dataframe tbody tr th {\n",
       "        vertical-align: top;\n",
       "    }\n",
       "\n",
       "    .dataframe thead th {\n",
       "        text-align: right;\n",
       "    }\n",
       "</style>\n",
       "<table border=\"1\" class=\"dataframe\">\n",
       "  <thead>\n",
       "    <tr style=\"text-align: right;\">\n",
       "      <th></th>\n",
       "      <th>bairros</th>\n",
       "      <th>lat</th>\n",
       "      <th>lng</th>\n",
       "      <th>area</th>\n",
       "      <th>radius</th>\n",
       "    </tr>\n",
       "  </thead>\n",
       "  <tbody>\n",
       "    <tr>\n",
       "      <th>83</th>\n",
       "      <td>lapa</td>\n",
       "      <td>-22.913026</td>\n",
       "      <td>-43.182236</td>\n",
       "      <td>298325.824707</td>\n",
       "      <td>308.155901</td>\n",
       "    </tr>\n",
       "  </tbody>\n",
       "</table>\n",
       "</div>"
      ],
      "text/plain": [
       "   bairros        lat        lng           area      radius\n",
       "83    lapa -22.913026 -43.182236  298325.824707  308.155901"
      ]
     },
     "execution_count": 441,
     "metadata": {},
     "output_type": "execute_result"
    }
   ],
   "source": [
    "bairros_df[bairros_df['bairros']=='lapa']"
   ]
  },
  {
   "cell_type": "markdown",
   "metadata": {},
   "source": [
    "# Search Radiuses Final Results"
   ]
  },
  {
   "cell_type": "code",
   "execution_count": 439,
   "metadata": {},
   "outputs": [
    {
     "data": {
      "text/html": [
       "<div style=\"width:100%;\"><div style=\"position:relative;width:100%;height:0;padding-bottom:60%;\"><span style=\"color:#565656\">Make this Notebook Trusted to load map: File -> Trust Notebook</span><iframe src=\"about:blank\" style=\"position:absolute;width:100%;height:100%;left:0;top:0;border:none !important;\" data-html=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 onload=\"this.contentDocument.open();this.contentDocument.write(atob(this.getAttribute('data-html')));this.contentDocument.close();\" allowfullscreen webkitallowfullscreen mozallowfullscreen></iframe></div></div>"
      ],
      "text/plain": [
       "<folium.folium.Map at 0x213e2b2f430>"
      ]
     },
     "execution_count": 439,
     "metadata": {},
     "output_type": "execute_result"
    }
   ],
   "source": [
    "plot_search_map(bairros_df, zoom=11)"
   ]
  },
  {
   "cell_type": "markdown",
   "metadata": {},
   "source": [
    "# Saving Final Dataframe"
   ]
  },
  {
   "cell_type": "code",
   "execution_count": 443,
   "metadata": {},
   "outputs": [],
   "source": [
    "#bairros_df.to_csv('/Users/luisr/Desktop/Repository/IBM_courses/Course Work/Assignments/Final Capstone Project/rio dataframes/Outside Data/Clean/complete_bairros_fixed.csv', index=False)"
   ]
  }
 ],
 "metadata": {
  "kernelspec": {
   "display_name": "Python 3",
   "language": "python",
   "name": "python3"
  },
  "language_info": {
   "codemirror_mode": {
    "name": "ipython",
    "version": 3
   },
   "file_extension": ".py",
   "mimetype": "text/x-python",
   "name": "python",
   "nbconvert_exporter": "python",
   "pygments_lexer": "ipython3",
   "version": "3.8.3"
  }
 },
 "nbformat": 4,
 "nbformat_minor": 4
}
