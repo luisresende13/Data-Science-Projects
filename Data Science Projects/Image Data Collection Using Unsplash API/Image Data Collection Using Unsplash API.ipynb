{
 "cells": [
  {
   "cell_type": "code",
   "execution_count": 11,
   "metadata": {},
   "outputs": [],
   "source": [
    "from bs4 import BeautifulSoup\n",
    "import requests\n",
    "import pandas as pd\n",
    "import numpy as np\n",
    "import matplotlib.pyplot as plt\n",
    "import seaborn as sns\n",
    "import json\n",
    "import urllib"
   ]
  },
  {
   "cell_type": "code",
   "execution_count": 22,
   "metadata": {},
   "outputs": [],
   "source": [
    "unsplash = {\n",
    "    'api_key': '5fRBt7AhEBCWmlgXrHd-k6RYsEq0t4aJGy5kxkCofDQ',\n",
    "    'url': 'https://api.unsplash.com/'\n",
    "}"
   ]
  },
  {
   "cell_type": "code",
   "execution_count": 94,
   "metadata": {},
   "outputs": [],
   "source": [
    "a, b = 'X-Ratelimit-Limit', 'X-Ratelimit-Remaining'\n",
    "\n",
    "def getUnsplash(url_params, endpoint='photos'):\n",
    "    url = unsplash['url'] + endpoint + '?' + urllib.parse.urlencode(url_params)\n",
    "    response = requests.get(url)\n",
    "    headers = response.headers\n",
    "    content = json.loads(response._content)\n",
    "    limit = {\n",
    "        a: topic_headers[a],\n",
    "        b: topic_headers[b]\n",
    "    }    \n",
    "    return content, limit"
   ]
  },
  {
   "cell_type": "markdown",
   "metadata": {},
   "source": [
    "## Get 'topics' endpoint request"
   ]
  },
  {
   "cell_type": "code",
   "execution_count": 97,
   "metadata": {},
   "outputs": [],
   "source": [
    "topics_params = {\n",
    "    'page': 1,\n",
    "    'per_page': 30,\n",
    "    'order_by': 'position', # featured, latest, oldest, position\n",
    "    'client_id': unsplash['api_key']\n",
    "}\n",
    "\n",
    "topics, limit = getUnsplash(topics_params, endpoint='topics')"
   ]
  },
  {
   "cell_type": "code",
   "execution_count": 99,
   "metadata": {},
   "outputs": [
    {
     "data": {
      "text/plain": [
       "{'X-Ratelimit-Limit': '50', 'X-Ratelimit-Remaining': '43'}"
      ]
     },
     "execution_count": 99,
     "metadata": {},
     "output_type": "execute_result"
    }
   ],
   "source": [
    "limit"
   ]
  },
  {
   "cell_type": "markdown",
   "metadata": {},
   "source": [
    "### Saving Topics data as json"
   ]
  },
  {
   "cell_type": "code",
   "execution_count": 100,
   "metadata": {},
   "outputs": [],
   "source": [
    "topics_str = json.dumps(topics, indent=4)\n",
    "\n",
    "#open('data/topics.json', 'w').write(topics_str)"
   ]
  },
  {
   "cell_type": "code",
   "execution_count": 117,
   "metadata": {},
   "outputs": [
    {
     "name": "stdout",
     "output_type": "stream",
     "text": [
      "[\n",
      "    {\n",
      "        \"id\": \"9QVREH9A3DU\",\n",
      "        \"slug\": \"entrepreneur\",\n",
      "        \"title\": \"Entrepreneur\",\n",
      "        \"description\": \"Microsoft Surface is taking over the Entrepreneur Topic to applaud the tireless effort that goes into owning a business. For the month of February, submit images from any part of the entrepreneurial journey \\u2014 from starting on your couch with a laptop, to working late with endless cups of coffee, to commanding a board meeting for your employees.  \\r\\n\\r\\n<p>Learn more\n"
     ]
    }
   ],
   "source": [
    "print(topics_str[:500])"
   ]
  },
  {
   "cell_type": "markdown",
   "metadata": {},
   "source": [
    "## Get 'photos' endpoint request"
   ]
  },
  {
   "cell_type": "code",
   "execution_count": 112,
   "metadata": {},
   "outputs": [],
   "source": [
    "photos_params = {\n",
    "    'page': 1,\n",
    "    'per_page': 30,\n",
    "    'order_by': 'latest',\n",
    "    'client_id': unsplash['api_key']\n",
    "}\n",
    "\n",
    "photos, limit = getUnsplash(photos_params, endpoint='photos')"
   ]
  },
  {
   "cell_type": "markdown",
   "metadata": {},
   "source": [
    "### Saving Topics data as json"
   ]
  },
  {
   "cell_type": "code",
   "execution_count": 113,
   "metadata": {},
   "outputs": [
    {
     "data": {
      "text/plain": [
       "144008"
      ]
     },
     "execution_count": 113,
     "metadata": {},
     "output_type": "execute_result"
    }
   ],
   "source": [
    "photos_str = json.dumps(photos, indent=4)\n",
    "\n",
    "#open('data/photos.json', 'w').write(photos_str)"
   ]
  },
  {
   "cell_type": "code",
   "execution_count": 116,
   "metadata": {},
   "outputs": [
    {
     "name": "stdout",
     "output_type": "stream",
     "text": [
      "[\n",
      "    {\n",
      "        \"id\": \"XmQRK0d2eos\",\n",
      "        \"created_at\": \"2021-12-27T11:33:13-05:00\",\n",
      "        \"updated_at\": \"2022-02-25T23:26:55-05:00\",\n",
      "        \"promoted_at\": null,\n",
      "        \"width\": 4000,\n",
      "        \"height\": 6000,\n",
      "        \"color\": \"#d9d9d9\",\n",
      "        \"blur_hash\": \"LcF~ga_NRiD%_2%goeRjM{NGbHog\",\n",
      "        \"description\": null,\n",
      "        \"alt_description\": null,\n",
      "        \"urls\": {\n",
      "            \"raw\": \"https://images.unsplash.com/photo-1640622657553-f5af5b34ee2d?ixid=MnwzMDUzNzN8MXwxfGFsbHwxfHx8fHx8Mnx8MT\n"
     ]
    }
   ],
   "source": [
    "print(photos_str[:500])"
   ]
  },
  {
   "cell_type": "markdown",
   "metadata": {},
   "source": [
    "## Printing Results"
   ]
  },
  {
   "cell_type": "markdown",
   "metadata": {},
   "source": [
    "### Printing First Topic Info"
   ]
  },
  {
   "cell_type": "code",
   "execution_count": 22,
   "metadata": {},
   "outputs": [],
   "source": [
    "topics = json.dumps(json.loads(open('data/topics.json', 'r').read())[0], indent=4)"
   ]
  },
  {
   "cell_type": "code",
   "execution_count": 23,
   "metadata": {},
   "outputs": [
    {
     "name": "stdout",
     "output_type": "stream",
     "text": [
      "{\n",
      "    \"id\": \"9QVREH9A3DU\",\n",
      "    \"slug\": \"entrepreneur\",\n",
      "    \"title\": \"Entrepreneur\",\n",
      "    \"description\": \"Microsoft Surface is taking over the Entrepreneur Topic to applaud the tireless effort that goes into owning a business. For the month of February, submit images from any part of the entrepreneurial journey \\u2014 from starting on your couch with a laptop, to working late with endless cups of coffee, to commanding a board meeting for your employees.  \\r\\n\\r\\n<p>Learn more <a href=\\\"https://unsplash.com/blog/unsplash-surface-3/\\\">here</a>.\\r\\n</p>\",\n",
      "    \"published_at\": \"2022-01-25T13:24:46-05:00\",\n",
      "    \"updated_at\": \"2022-02-24T17:43:19-05:00\",\n",
      "    \"starts_at\": \"2022-01-25T00:00:00Z\",\n",
      "    \"ends_at\": \"2022-03-15T23:59:59Z\",\n",
      "    \"only_submissions_after\": null,\n",
      "    \"featured\": true,\n",
      "    \"total_photos\": 114,\n",
      "    \"current_user_contributions\": [],\n",
      "    \"total_current_user_submissions\": null,\n",
      "    \"links\": {\n",
      "        \"self\": \"https://api.unsplash.com/topics/entrepreneur\",\n",
      "        \"html\": \"https://unsplash.com/t/entrepreneur\",\n",
      "        \"photos\": \"https://api.unsplash.com/topics/entrepreneur/photos\"\n",
      "    },\n",
      "    \"status\": \"open\",\n",
      "    \"owners\": [\n",
      "        {\n",
      "            \"id\": \"N-JSeSTCz68\",\n",
      "            \"updated_at\": \"2022-02-26T12:24:50-05:00\",\n",
      "            \"username\": \"surface\",\n",
      "            \"name\": \"Surface\",\n",
      "            \"first_name\": \"Surface\",\n",
      "            \"last_name\": null,\n",
      "            \"twitter_username\": \"surface\",\n",
      "            \"portfolio_url\": \"http://surface.com\",\n",
      "            \"bio\": \"Follow us @Surface. #OriginalByDesign\",\n",
      "            \"location\": null,\n",
      "            \"links\": {\n",
      "                \"self\": \"https://api.unsplash.com/users/surface\",\n",
      "                \"html\": \"https://unsplash.com/@surface\",\n",
      "                \"photos\": \"https://api.unsplash.com/users/surface/photos\",\n",
      "                \"likes\": \"https://api.unsplash.com/users/surface/likes\",\n",
      "                \"portfolio\": \"https://api.unsplash.com/users/surface/portfolio\",\n",
      "                \"following\": \"https://api.unsplash.com/users/surface/following\",\n",
      "                \"followers\": \"https://api.unsplash.com/users/surface/followers\"\n",
      "            },\n",
      "            \"profile_image\": {\n",
      "                \"small\": \"https://images.unsplash.com/profile-1587651800415-20eed2ec0209image?ixlib=rb-1.2.1&q=80&fm=jpg&crop=faces&cs=tinysrgb&fit=crop&h=32&w=32\",\n",
      "                \"medium\": \"https://images.unsplash.com/profile-1587651800415-20eed2ec0209image?ixlib=rb-1.2.1&q=80&fm=jpg&crop=faces&cs=tinysrgb&fit=crop&h=64&w=64\",\n",
      "                \"large\": \"https://images.unsplash.com/profile-1587651800415-20eed2ec0209image?ixlib=rb-1.2.1&q=80&fm=jpg&crop=faces&cs=tinysrgb&fit=crop&h=128&w=128\"\n",
      "            },\n",
      "            \"instagram_username\": \"surface\",\n",
      "            \"total_collections\": 6,\n",
      "            \"total_likes\": 0,\n",
      "            \"total_photos\": 210,\n",
      "            \"accepted_tos\": true,\n",
      "            \"for_hire\": false,\n",
      "            \"social\": {\n",
      "                \"instagram_username\": \"surface\",\n",
      "                \"portfolio_url\": \"http://surface.com\",\n",
      "                \"twitter_username\": \"surface\",\n",
      "                \"paypal_email\": null\n",
      "            }\n",
      "        }\n",
      "    ],\n",
      "    \"cover_photo\": {\n",
      "        \"id\": \"r2fZ65O6lWY\",\n",
      "        \"created_at\": \"2022-02-23T07:47:06-05:00\",\n",
      "        \"updated_at\": \"2022-02-26T03:29:47-05:00\",\n",
      "        \"promoted_at\": null,\n",
      "        \"width\": 3024,\n",
      "        \"height\": 4032,\n",
      "        \"color\": \"#f3f3f3\",\n",
      "        \"blur_hash\": \"LUHeXvn$D%?H~qof9GbbRjWBaKRj\",\n",
      "        \"description\": \"Portrait of a woman sitting in front of her PC with her headphones\",\n",
      "        \"alt_description\": null,\n",
      "        \"urls\": {\n",
      "            \"raw\": \"https://images.unsplash.com/photo-1645620413090-f458f39aea04?ixlib=rb-1.2.1\",\n",
      "            \"full\": \"https://images.unsplash.com/photo-1645620413090-f458f39aea04?ixlib=rb-1.2.1&q=85&fm=jpg&crop=entropy&cs=srgb\",\n",
      "            \"regular\": \"https://images.unsplash.com/photo-1645620413090-f458f39aea04?ixlib=rb-1.2.1&q=80&fm=jpg&crop=entropy&cs=tinysrgb&w=1080&fit=max\",\n",
      "            \"small\": \"https://images.unsplash.com/photo-1645620413090-f458f39aea04?ixlib=rb-1.2.1&q=80&fm=jpg&crop=entropy&cs=tinysrgb&w=400&fit=max\",\n",
      "            \"thumb\": \"https://images.unsplash.com/photo-1645620413090-f458f39aea04?ixlib=rb-1.2.1&q=80&fm=jpg&crop=entropy&cs=tinysrgb&w=200&fit=max\",\n",
      "            \"small_s3\": \"https://s3.us-west-2.amazonaws.com/images.unsplash.com/photo-1645620413090-f458f39aea04\"\n",
      "        },\n",
      "        \"links\": {\n",
      "            \"self\": \"https://api.unsplash.com/photos/r2fZ65O6lWY\",\n",
      "            \"html\": \"https://unsplash.com/photos/r2fZ65O6lWY\",\n",
      "            \"download\": \"https://unsplash.com/photos/r2fZ65O6lWY/download\",\n",
      "            \"download_location\": \"https://api.unsplash.com/photos/r2fZ65O6lWY/download\"\n",
      "        },\n",
      "        \"categories\": [],\n",
      "        \"likes\": 1,\n",
      "        \"liked_by_user\": false,\n",
      "        \"current_user_collections\": [],\n",
      "        \"sponsorship\": null,\n",
      "        \"topic_submissions\": {\n",
      "            \"entrepreneur\": {\n",
      "                \"status\": \"approved\",\n",
      "                \"approved_on\": \"2022-02-24T17:43:19-05:00\"\n",
      "            }\n",
      "        },\n",
      "        \"user\": {\n",
      "            \"id\": \"IifPP_2_QH4\",\n",
      "            \"updated_at\": \"2022-02-26T12:51:33-05:00\",\n",
      "            \"username\": \"cutinamoment\",\n",
      "            \"name\": \"Cut in A Moment\",\n",
      "            \"first_name\": \"Cut in A Moment\",\n",
      "            \"last_name\": null,\n",
      "            \"twitter_username\": null,\n",
      "            \"portfolio_url\": null,\n",
      "            \"bio\": \"Telling stories with photography \",\n",
      "            \"location\": \"Lagos,Nigeria\",\n",
      "            \"links\": {\n",
      "                \"self\": \"https://api.unsplash.com/users/cutinamoment\",\n",
      "                \"html\": \"https://unsplash.com/@cutinamoment\",\n",
      "                \"photos\": \"https://api.unsplash.com/users/cutinamoment/photos\",\n",
      "                \"likes\": \"https://api.unsplash.com/users/cutinamoment/likes\",\n",
      "                \"portfolio\": \"https://api.unsplash.com/users/cutinamoment/portfolio\",\n",
      "                \"following\": \"https://api.unsplash.com/users/cutinamoment/following\",\n",
      "                \"followers\": \"https://api.unsplash.com/users/cutinamoment/followers\"\n",
      "            },\n",
      "            \"profile_image\": {\n",
      "                \"small\": \"https://images.unsplash.com/profile-1633182840006-174539d94fc8image?ixlib=rb-1.2.1&q=80&fm=jpg&crop=faces&cs=tinysrgb&fit=crop&h=32&w=32\",\n",
      "                \"medium\": \"https://images.unsplash.com/profile-1633182840006-174539d94fc8image?ixlib=rb-1.2.1&q=80&fm=jpg&crop=faces&cs=tinysrgb&fit=crop&h=64&w=64\",\n",
      "                \"large\": \"https://images.unsplash.com/profile-1633182840006-174539d94fc8image?ixlib=rb-1.2.1&q=80&fm=jpg&crop=faces&cs=tinysrgb&fit=crop&h=128&w=128\"\n",
      "            },\n",
      "            \"instagram_username\": \"cutinamoment\",\n",
      "            \"total_collections\": 0,\n",
      "            \"total_likes\": 17,\n",
      "            \"total_photos\": 157,\n",
      "            \"accepted_tos\": true,\n",
      "            \"for_hire\": true,\n",
      "            \"social\": {\n",
      "                \"instagram_username\": \"cutinamoment\",\n",
      "                \"portfolio_url\": null,\n",
      "                \"twitter_username\": null,\n",
      "                \"paypal_email\": null\n",
      "            }\n",
      "        }\n",
      "    },\n",
      "    \"preview_photos\": [\n",
      "        {\n",
      "            \"id\": \"r2fZ65O6lWY\",\n",
      "            \"created_at\": \"2022-02-23T07:47:06-05:00\",\n",
      "            \"updated_at\": \"2022-02-26T03:29:47-05:00\",\n",
      "            \"blur_hash\": \"LUHeXvn$D%?H~qof9GbbRjWBaKRj\",\n",
      "            \"urls\": {\n",
      "                \"raw\": \"https://images.unsplash.com/photo-1645620413090-f458f39aea04?ixlib=rb-1.2.1\",\n",
      "                \"full\": \"https://images.unsplash.com/photo-1645620413090-f458f39aea04?ixlib=rb-1.2.1&q=85&fm=jpg&crop=entropy&cs=srgb\",\n",
      "                \"regular\": \"https://images.unsplash.com/photo-1645620413090-f458f39aea04?ixlib=rb-1.2.1&q=80&fm=jpg&crop=entropy&cs=tinysrgb&w=1080&fit=max\",\n",
      "                \"small\": \"https://images.unsplash.com/photo-1645620413090-f458f39aea04?ixlib=rb-1.2.1&q=80&fm=jpg&crop=entropy&cs=tinysrgb&w=400&fit=max\",\n",
      "                \"thumb\": \"https://images.unsplash.com/photo-1645620413090-f458f39aea04?ixlib=rb-1.2.1&q=80&fm=jpg&crop=entropy&cs=tinysrgb&w=200&fit=max\",\n",
      "                \"small_s3\": \"https://s3.us-west-2.amazonaws.com/images.unsplash.com/photo-1645620413090-f458f39aea04\"\n",
      "            }\n",
      "        },\n",
      "        {\n",
      "            \"id\": \"BshM9VkzGw8\",\n",
      "            \"created_at\": \"2021-05-04T10:54:00-04:00\",\n",
      "            \"updated_at\": \"2022-02-26T04:22:02-05:00\",\n",
      "            \"blur_hash\": \"LAA,Ud?a0f0L01Rjslt6ADkC-p%L\",\n",
      "            \"urls\": {\n",
      "                \"raw\": \"https://images.unsplash.com/photo-1620140036708-455ed5c0426a?ixlib=rb-1.2.1\",\n",
      "                \"full\": \"https://images.unsplash.com/photo-1620140036708-455ed5c0426a?ixlib=rb-1.2.1&q=85&fm=jpg&crop=entropy&cs=srgb\",\n",
      "                \"regular\": \"https://images.unsplash.com/photo-1620140036708-455ed5c0426a?ixlib=rb-1.2.1&q=80&fm=jpg&crop=entropy&cs=tinysrgb&w=1080&fit=max\",\n",
      "                \"small\": \"https://images.unsplash.com/photo-1620140036708-455ed5c0426a?ixlib=rb-1.2.1&q=80&fm=jpg&crop=entropy&cs=tinysrgb&w=400&fit=max\",\n",
      "                \"thumb\": \"https://images.unsplash.com/photo-1620140036708-455ed5c0426a?ixlib=rb-1.2.1&q=80&fm=jpg&crop=entropy&cs=tinysrgb&w=200&fit=max\",\n",
      "                \"small_s3\": \"https://s3.us-west-2.amazonaws.com/images.unsplash.com/small/photo-1620140036708-455ed5c0426a\"\n",
      "            }\n",
      "        },\n",
      "        {\n",
      "            \"id\": \"LH5GZMronmA\",\n",
      "            \"created_at\": \"2020-04-26T16:02:47-04:00\",\n",
      "            \"updated_at\": \"2022-02-26T07:15:01-05:00\",\n",
      "            \"blur_hash\": \"LA9tfQ_NxuaxNaDjM{R%8|Vrf$of\",\n",
      "            \"urls\": {\n",
      "                \"raw\": \"https://images.unsplash.com/photo-1587931338382-aecda7e43025?ixlib=rb-1.2.1\",\n",
      "                \"full\": \"https://images.unsplash.com/photo-1587931338382-aecda7e43025?ixlib=rb-1.2.1&q=85&fm=jpg&crop=entropy&cs=srgb\",\n",
      "                \"regular\": \"https://images.unsplash.com/photo-1587931338382-aecda7e43025?ixlib=rb-1.2.1&q=80&fm=jpg&crop=entropy&cs=tinysrgb&w=1080&fit=max\",\n",
      "                \"small\": \"https://images.unsplash.com/photo-1587931338382-aecda7e43025?ixlib=rb-1.2.1&q=80&fm=jpg&crop=entropy&cs=tinysrgb&w=400&fit=max\",\n",
      "                \"thumb\": \"https://images.unsplash.com/photo-1587931338382-aecda7e43025?ixlib=rb-1.2.1&q=80&fm=jpg&crop=entropy&cs=tinysrgb&w=200&fit=max\",\n",
      "                \"small_s3\": \"https://s3.us-west-2.amazonaws.com/images.unsplash.com/small/photo-1587931338382-aecda7e43025\"\n",
      "            }\n",
      "        },\n",
      "        {\n",
      "            \"id\": \"tWFH9OOlORg\",\n",
      "            \"created_at\": \"2022-02-21T09:38:49-05:00\",\n",
      "            \"updated_at\": \"2022-02-25T18:28:14-05:00\",\n",
      "            \"blur_hash\": \"LJDSg*9F0Lxa4T-;kXxatRRjxut8\",\n",
      "            \"urls\": {\n",
      "                \"raw\": \"https://images.unsplash.com/photo-1645454270984-12081eff324f?ixlib=rb-1.2.1\",\n",
      "                \"full\": \"https://images.unsplash.com/photo-1645454270984-12081eff324f?ixlib=rb-1.2.1&q=85&fm=jpg&crop=entropy&cs=srgb\",\n",
      "                \"regular\": \"https://images.unsplash.com/photo-1645454270984-12081eff324f?ixlib=rb-1.2.1&q=80&fm=jpg&crop=entropy&cs=tinysrgb&w=1080&fit=max\",\n",
      "                \"small\": \"https://images.unsplash.com/photo-1645454270984-12081eff324f?ixlib=rb-1.2.1&q=80&fm=jpg&crop=entropy&cs=tinysrgb&w=400&fit=max\",\n",
      "                \"thumb\": \"https://images.unsplash.com/photo-1645454270984-12081eff324f?ixlib=rb-1.2.1&q=80&fm=jpg&crop=entropy&cs=tinysrgb&w=200&fit=max\",\n",
      "                \"small_s3\": \"https://s3.us-west-2.amazonaws.com/images.unsplash.com/small/photo-1645454270984-12081eff324f\"\n",
      "            }\n",
      "        }\n",
      "    ]\n",
      "}\n"
     ]
    }
   ],
   "source": [
    "print(topics)"
   ]
  },
  {
   "cell_type": "markdown",
   "metadata": {},
   "source": [
    "### Printing First Photo Info"
   ]
  },
  {
   "cell_type": "code",
   "execution_count": 24,
   "metadata": {},
   "outputs": [],
   "source": [
    "photos = json.dumps(json.loads(open('data/photos.json', 'r').read())[0], indent=4)"
   ]
  },
  {
   "cell_type": "code",
   "execution_count": 25,
   "metadata": {},
   "outputs": [
    {
     "name": "stdout",
     "output_type": "stream",
     "text": [
      "{\n",
      "    \"id\": \"XmQRK0d2eos\",\n",
      "    \"created_at\": \"2021-12-27T11:33:13-05:00\",\n",
      "    \"updated_at\": \"2022-02-25T23:26:55-05:00\",\n",
      "    \"promoted_at\": null,\n",
      "    \"width\": 4000,\n",
      "    \"height\": 6000,\n",
      "    \"color\": \"#d9d9d9\",\n",
      "    \"blur_hash\": \"LcF~ga_NRiD%_2%goeRjM{NGbHog\",\n",
      "    \"description\": null,\n",
      "    \"alt_description\": null,\n",
      "    \"urls\": {\n",
      "        \"raw\": \"https://images.unsplash.com/photo-1640622657553-f5af5b34ee2d?ixid=MnwzMDUzNzN8MXwxfGFsbHwxfHx8fHx8Mnx8MTY0NTg5OTU3OQ&ixlib=rb-1.2.1\",\n",
      "        \"full\": \"https://images.unsplash.com/photo-1640622657553-f5af5b34ee2d?crop=entropy&cs=srgb&fm=jpg&ixid=MnwzMDUzNzN8MXwxfGFsbHwxfHx8fHx8Mnx8MTY0NTg5OTU3OQ&ixlib=rb-1.2.1&q=85\",\n",
      "        \"regular\": \"https://images.unsplash.com/photo-1640622657553-f5af5b34ee2d?crop=entropy&cs=tinysrgb&fit=max&fm=jpg&ixid=MnwzMDUzNzN8MXwxfGFsbHwxfHx8fHx8Mnx8MTY0NTg5OTU3OQ&ixlib=rb-1.2.1&q=80&w=1080\",\n",
      "        \"small\": \"https://images.unsplash.com/photo-1640622657553-f5af5b34ee2d?crop=entropy&cs=tinysrgb&fit=max&fm=jpg&ixid=MnwzMDUzNzN8MXwxfGFsbHwxfHx8fHx8Mnx8MTY0NTg5OTU3OQ&ixlib=rb-1.2.1&q=80&w=400\",\n",
      "        \"thumb\": \"https://images.unsplash.com/photo-1640622657553-f5af5b34ee2d?crop=entropy&cs=tinysrgb&fit=max&fm=jpg&ixid=MnwzMDUzNzN8MXwxfGFsbHwxfHx8fHx8Mnx8MTY0NTg5OTU3OQ&ixlib=rb-1.2.1&q=80&w=200\",\n",
      "        \"small_s3\": \"https://s3.us-west-2.amazonaws.com/images.unsplash.com/small/photo-1640622657553-f5af5b34ee2d\"\n",
      "    },\n",
      "    \"links\": {\n",
      "        \"self\": \"https://api.unsplash.com/photos/XmQRK0d2eos\",\n",
      "        \"html\": \"https://unsplash.com/photos/XmQRK0d2eos\",\n",
      "        \"download\": \"https://unsplash.com/photos/XmQRK0d2eos/download?ixid=MnwzMDUzNzN8MXwxfGFsbHwxfHx8fHx8Mnx8MTY0NTg5OTU3OQ\",\n",
      "        \"download_location\": \"https://api.unsplash.com/photos/XmQRK0d2eos/download?ixid=MnwzMDUzNzN8MXwxfGFsbHwxfHx8fHx8Mnx8MTY0NTg5OTU3OQ\"\n",
      "    },\n",
      "    \"categories\": [],\n",
      "    \"likes\": 63,\n",
      "    \"liked_by_user\": false,\n",
      "    \"current_user_collections\": [],\n",
      "    \"sponsorship\": {\n",
      "        \"impression_urls\": [\n",
      "            \"https://secure.insightexpressai.com/adServer/adServerESI.aspx?script=false&bannerID=9710753&rnd=[timestamp]&redir=https://secure.insightexpressai.com/adserver/1pixel.gif\"\n",
      "        ],\n",
      "        \"tagline\": \"Closer to what you love\",\n",
      "        \"tagline_url\": \"https://www.microsoft.com/windows/?ocid=UnsplashFY22_soc_pmc_win_\",\n",
      "        \"sponsor\": {\n",
      "            \"id\": \"kSlnstJTnY8\",\n",
      "            \"updated_at\": \"2022-02-26T11:53:16-05:00\",\n",
      "            \"username\": \"windows\",\n",
      "            \"name\": \"Windows\",\n",
      "            \"first_name\": \"Windows\",\n",
      "            \"last_name\": null,\n",
      "            \"twitter_username\": \"windows\",\n",
      "            \"portfolio_url\": \"https://www.windows.com\",\n",
      "            \"bio\": \"Follow us @Windows. #DoGreatThings\",\n",
      "            \"location\": null,\n",
      "            \"links\": {\n",
      "                \"self\": \"https://api.unsplash.com/users/windows\",\n",
      "                \"html\": \"https://unsplash.com/@windows\",\n",
      "                \"photos\": \"https://api.unsplash.com/users/windows/photos\",\n",
      "                \"likes\": \"https://api.unsplash.com/users/windows/likes\",\n",
      "                \"portfolio\": \"https://api.unsplash.com/users/windows/portfolio\",\n",
      "                \"following\": \"https://api.unsplash.com/users/windows/following\",\n",
      "                \"followers\": \"https://api.unsplash.com/users/windows/followers\"\n",
      "            },\n",
      "            \"profile_image\": {\n",
      "                \"small\": \"https://images.unsplash.com/profile-1633364056312-0319b9fc4586image?ixlib=rb-1.2.1&q=80&fm=jpg&crop=faces&cs=tinysrgb&fit=crop&h=32&w=32\",\n",
      "                \"medium\": \"https://images.unsplash.com/profile-1633364056312-0319b9fc4586image?ixlib=rb-1.2.1&q=80&fm=jpg&crop=faces&cs=tinysrgb&fit=crop&h=64&w=64\",\n",
      "                \"large\": \"https://images.unsplash.com/profile-1633364056312-0319b9fc4586image?ixlib=rb-1.2.1&q=80&fm=jpg&crop=faces&cs=tinysrgb&fit=crop&h=128&w=128\"\n",
      "            },\n",
      "            \"instagram_username\": \"windows\",\n",
      "            \"total_collections\": 1,\n",
      "            \"total_likes\": 0,\n",
      "            \"total_photos\": 162,\n",
      "            \"accepted_tos\": true,\n",
      "            \"for_hire\": false,\n",
      "            \"social\": {\n",
      "                \"instagram_username\": \"windows\",\n",
      "                \"portfolio_url\": \"https://www.windows.com\",\n",
      "                \"twitter_username\": \"windows\",\n",
      "                \"paypal_email\": null\n",
      "            }\n",
      "        }\n",
      "    },\n",
      "    \"topic_submissions\": {},\n",
      "    \"user\": {\n",
      "        \"id\": \"kSlnstJTnY8\",\n",
      "        \"updated_at\": \"2022-02-26T11:53:16-05:00\",\n",
      "        \"username\": \"windows\",\n",
      "        \"name\": \"Windows\",\n",
      "        \"first_name\": \"Windows\",\n",
      "        \"last_name\": null,\n",
      "        \"twitter_username\": \"windows\",\n",
      "        \"portfolio_url\": \"https://www.windows.com\",\n",
      "        \"bio\": \"Follow us @Windows. #DoGreatThings\",\n",
      "        \"location\": null,\n",
      "        \"links\": {\n",
      "            \"self\": \"https://api.unsplash.com/users/windows\",\n",
      "            \"html\": \"https://unsplash.com/@windows\",\n",
      "            \"photos\": \"https://api.unsplash.com/users/windows/photos\",\n",
      "            \"likes\": \"https://api.unsplash.com/users/windows/likes\",\n",
      "            \"portfolio\": \"https://api.unsplash.com/users/windows/portfolio\",\n",
      "            \"following\": \"https://api.unsplash.com/users/windows/following\",\n",
      "            \"followers\": \"https://api.unsplash.com/users/windows/followers\"\n",
      "        },\n",
      "        \"profile_image\": {\n",
      "            \"small\": \"https://images.unsplash.com/profile-1633364056312-0319b9fc4586image?ixlib=rb-1.2.1&q=80&fm=jpg&crop=faces&cs=tinysrgb&fit=crop&h=32&w=32\",\n",
      "            \"medium\": \"https://images.unsplash.com/profile-1633364056312-0319b9fc4586image?ixlib=rb-1.2.1&q=80&fm=jpg&crop=faces&cs=tinysrgb&fit=crop&h=64&w=64\",\n",
      "            \"large\": \"https://images.unsplash.com/profile-1633364056312-0319b9fc4586image?ixlib=rb-1.2.1&q=80&fm=jpg&crop=faces&cs=tinysrgb&fit=crop&h=128&w=128\"\n",
      "        },\n",
      "        \"instagram_username\": \"windows\",\n",
      "        \"total_collections\": 1,\n",
      "        \"total_likes\": 0,\n",
      "        \"total_photos\": 162,\n",
      "        \"accepted_tos\": true,\n",
      "        \"for_hire\": false,\n",
      "        \"social\": {\n",
      "            \"instagram_username\": \"windows\",\n",
      "            \"portfolio_url\": \"https://www.windows.com\",\n",
      "            \"twitter_username\": \"windows\",\n",
      "            \"paypal_email\": null\n",
      "        }\n",
      "    }\n",
      "}\n"
     ]
    }
   ],
   "source": [
    "print(photos)"
   ]
  }
 ],
 "metadata": {
  "kernelspec": {
   "display_name": "Python 3",
   "language": "python",
   "name": "python3"
  },
  "language_info": {
   "codemirror_mode": {
    "name": "ipython",
    "version": 3
   },
   "file_extension": ".py",
   "mimetype": "text/x-python",
   "name": "python",
   "nbconvert_exporter": "python",
   "pygments_lexer": "ipython3",
   "version": "3.8.3"
  }
 },
 "nbformat": 4,
 "nbformat_minor": 4
}
