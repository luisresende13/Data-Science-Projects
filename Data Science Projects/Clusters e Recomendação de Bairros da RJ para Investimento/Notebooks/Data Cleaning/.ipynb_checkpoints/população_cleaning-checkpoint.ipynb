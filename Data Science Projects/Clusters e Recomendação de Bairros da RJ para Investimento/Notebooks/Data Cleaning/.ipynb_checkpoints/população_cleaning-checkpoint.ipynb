{
 "cells": [
  {
   "cell_type": "code",
   "execution_count": 1,
   "metadata": {},
   "outputs": [],
   "source": [
    "import pandas as pd\n",
    "import numpy as np\n",
    "import matplotlib.pyplot as plt"
   ]
  },
  {
   "cell_type": "code",
   "execution_count": 199,
   "metadata": {},
   "outputs": [],
   "source": [
    "import re"
   ]
  },
  {
   "cell_type": "code",
   "execution_count": 8,
   "metadata": {},
   "outputs": [],
   "source": [
    "pd.set_option('display.max_rows', None)"
   ]
  },
  {
   "cell_type": "code",
   "execution_count": 39,
   "metadata": {},
   "outputs": [],
   "source": [
    "pd.set_option('display.max_colwidth', None)"
   ]
  },
  {
   "cell_type": "markdown",
   "metadata": {},
   "source": [
    "# Pop1"
   ]
  },
  {
   "cell_type": "code",
   "execution_count": 6,
   "metadata": {},
   "outputs": [],
   "source": [
    "pop1 = pd.read_excel('\\\\Users\\luisr\\Desktop\\Repository\\IBM_courses\\Course Work\\Assignments\\Final Capstone Project\\\\rio dataframes\\\\Outside Data\\\\bairros\\\\census\\\\pop_1.xls')"
   ]
  },
  {
   "cell_type": "code",
   "execution_count": 20,
   "metadata": {},
   "outputs": [
    {
     "ename": "AttributeError",
     "evalue": "'list' object has no attribute 'tail'",
     "output_type": "error",
     "traceback": [
      "\u001b[1;31m---------------------------------------------------------------------------\u001b[0m",
      "\u001b[1;31mAttributeError\u001b[0m                            Traceback (most recent call last)",
      "\u001b[1;32m<ipython-input-20-cc085ecfe2b0>\u001b[0m in \u001b[0;36m<module>\u001b[1;34m\u001b[0m\n\u001b[1;32m----> 1\u001b[1;33m \u001b[0mpop1\u001b[0m\u001b[1;33m.\u001b[0m\u001b[0mcolumns\u001b[0m \u001b[1;33m=\u001b[0m \u001b[0mlist\u001b[0m\u001b[1;33m(\u001b[0m\u001b[0mpop1\u001b[0m\u001b[1;33m.\u001b[0m\u001b[0miloc\u001b[0m\u001b[1;33m[\u001b[0m\u001b[1;36m4\u001b[0m\u001b[1;33m,\u001b[0m \u001b[1;33m:\u001b[0m\u001b[1;36m2\u001b[0m\u001b[1;33m]\u001b[0m\u001b[1;33m)\u001b[0m \u001b[1;33m+\u001b[0m \u001b[0mlist\u001b[0m\u001b[1;33m(\u001b[0m\u001b[0mpop1\u001b[0m\u001b[1;33m.\u001b[0m\u001b[0miloc\u001b[0m\u001b[1;33m[\u001b[0m\u001b[1;36m5\u001b[0m\u001b[1;33m,\u001b[0m \u001b[1;36m2\u001b[0m\u001b[1;33m:\u001b[0m\u001b[1;36m11\u001b[0m\u001b[1;33m]\u001b[0m\u001b[1;33m)\u001b[0m \u001b[1;33m+\u001b[0m \u001b[0mlist\u001b[0m\u001b[1;33m(\u001b[0m\u001b[0mpop1\u001b[0m\u001b[1;33m.\u001b[0m\u001b[0miloc\u001b[0m\u001b[1;33m[\u001b[0m\u001b[1;36m4\u001b[0m\u001b[1;33m,\u001b[0m \u001b[1;36m11\u001b[0m\u001b[1;33m:\u001b[0m\u001b[1;33m]\u001b[0m\u001b[1;33m)\u001b[0m\u001b[1;33m.\u001b[0m\u001b[0mtail\u001b[0m\u001b[1;33m(\u001b[0m\u001b[1;33m-\u001b[0m\u001b[1;36m7\u001b[0m\u001b[1;33m)\u001b[0m\u001b[1;33m\u001b[0m\u001b[1;33m\u001b[0m\u001b[0m\n\u001b[0m",
      "\u001b[1;31mAttributeError\u001b[0m: 'list' object has no attribute 'tail'"
     ]
    }
   ],
   "source": [
    "pop1.columns = list(pop1.iloc[4, :2]) + list(pop1.iloc[5, 2:11]) + list(pop1.iloc[4, 11:])"
   ]
  },
  {
   "cell_type": "code",
   "execution_count": 31,
   "metadata": {},
   "outputs": [],
   "source": [
    "pop1 = pop1.tail(-7).head(-8)"
   ]
  },
  {
   "cell_type": "code",
   "execution_count": 420,
   "metadata": {},
   "outputs": [],
   "source": [
    "pop1 = pop1.reset_index(drop=True)"
   ]
  },
  {
   "cell_type": "code",
   "execution_count": 228,
   "metadata": {},
   "outputs": [],
   "source": [
    "pop1 = pop1.dropna()"
   ]
  },
  {
   "cell_type": "code",
   "execution_count": 404,
   "metadata": {},
   "outputs": [],
   "source": [
    "#pop1.to_csv('\\\\Users\\luisr\\Desktop\\Repository\\IBM_courses\\Course Work\\Assignments\\Final Capstone Project\\\\rio dataframes\\\\Outside Data\\\\Clean\\\\census\\\\pop1_clean.csv')"
   ]
  },
  {
   "cell_type": "markdown",
   "metadata": {},
   "source": [
    "# Pop2"
   ]
  },
  {
   "cell_type": "code",
   "execution_count": 35,
   "metadata": {},
   "outputs": [],
   "source": [
    "#pop2 = pd.read_excel('\\\\Users\\luisr\\Desktop\\Repository\\IBM_courses\\Course Work\\Assignments\\Final Capstone Project\\\\rio dataframes\\\\Outside Data\\\\raw\\\\bairros\\\\census\\\\pop_2.xls')"
   ]
  },
  {
   "cell_type": "code",
   "execution_count": 97,
   "metadata": {},
   "outputs": [],
   "source": [
    "pop2_cols = [pop2.iloc[3,0],\n",
    "             (pop2.iloc[3, 1], pop2.iloc[4, 1]),\n",
    "             (pop2.iloc[3, 1], pop2.iloc[5, 2]),\n",
    "             (pop2.iloc[3, 1], pop2.iloc[6, 3])] + [(pop2.iloc[3, 1], pop2.iloc[7, i]) for i in [4, 5, 6]] + [(pop2.iloc[3, 1], pop2.iloc[6, 7]),\n",
    "                                                                                                                (pop2.iloc[3, 1], pop2.iloc[5, 8])] + [pop2.iloc[3, i] for i in [9, 10, 11]]"
   ]
  },
  {
   "cell_type": "code",
   "execution_count": 98,
   "metadata": {},
   "outputs": [],
   "source": [
    "for i in range(1, len(pop2_cols) - 3):\n",
    "    \n",
    "    pop2_cols[i] = pop2_cols[i][0].strip() +' - '+ pop2_cols[i][1].strip().replace('\\n', ' ').replace('(1)', '')"
   ]
  },
  {
   "cell_type": "code",
   "execution_count": 100,
   "metadata": {},
   "outputs": [],
   "source": [
    "pop2.columns=pop2_cols"
   ]
  },
  {
   "cell_type": "code",
   "execution_count": 110,
   "metadata": {},
   "outputs": [],
   "source": [
    "pop2 = pop2.head(-3).tail(-9)"
   ]
  },
  {
   "cell_type": "code",
   "execution_count": 405,
   "metadata": {},
   "outputs": [],
   "source": [
    "pop2 = pop2.reset_index(drop=True)"
   ]
  },
  {
   "cell_type": "code",
   "execution_count": 230,
   "metadata": {},
   "outputs": [],
   "source": [
    "pop2 = pop2.dropna()"
   ]
  },
  {
   "cell_type": "code",
   "execution_count": 406,
   "metadata": {},
   "outputs": [],
   "source": [
    "#pop2.to_csv('\\\\Users\\luisr\\Desktop\\Repository\\IBM_courses\\Course Work\\Assignments\\Final Capstone Project\\\\rio dataframes\\\\Outside Data\\\\Clean\\\\census\\\\pop2_clean.csv')"
   ]
  },
  {
   "cell_type": "markdown",
   "metadata": {},
   "source": [
    "# Pop3"
   ]
  },
  {
   "cell_type": "code",
   "execution_count": 122,
   "metadata": {},
   "outputs": [],
   "source": [
    "pop3 = pd.read_excel('\\\\Users\\luisr\\Desktop\\Repository\\IBM_courses\\Course Work\\Assignments\\Final Capstone Project\\\\rio dataframes\\\\Outside Data\\\\raw\\\\bairros\\\\census\\\\pop_3.xls')"
   ]
  },
  {
   "cell_type": "code",
   "execution_count": 125,
   "metadata": {},
   "outputs": [],
   "source": [
    "pop3_cols = list(pop3.iloc[3, 0:2]) + list(pop3.iloc[5, 2:])"
   ]
  },
  {
   "cell_type": "code",
   "execution_count": 127,
   "metadata": {},
   "outputs": [],
   "source": [
    "pop3_cols = [i.strip() for i in pop3_cols]"
   ]
  },
  {
   "cell_type": "code",
   "execution_count": 130,
   "metadata": {},
   "outputs": [],
   "source": [
    "pop3.columns = pop3_cols"
   ]
  },
  {
   "cell_type": "code",
   "execution_count": 136,
   "metadata": {},
   "outputs": [],
   "source": [
    "pop3 = pop3.tail(-7).head(-3)"
   ]
  },
  {
   "cell_type": "code",
   "execution_count": 407,
   "metadata": {},
   "outputs": [],
   "source": [
    "pop3.reset_index(drop=True, inplace=True)"
   ]
  },
  {
   "cell_type": "code",
   "execution_count": 232,
   "metadata": {},
   "outputs": [],
   "source": [
    "pop3 = pop3.dropna()"
   ]
  },
  {
   "cell_type": "code",
   "execution_count": 408,
   "metadata": {},
   "outputs": [],
   "source": [
    "#pop3.to_csv('\\\\Users\\luisr\\Desktop\\Repository\\IBM_courses\\Course Work\\Assignments\\Final Capstone Project\\\\rio dataframes\\\\Outside Data\\\\Clean\\\\census\\\\pop3_clean.csv')"
   ]
  },
  {
   "cell_type": "markdown",
   "metadata": {},
   "source": [
    "# Pop Particular"
   ]
  },
  {
   "cell_type": "code",
   "execution_count": 142,
   "metadata": {},
   "outputs": [],
   "source": [
    "pop_part = pd.read_excel('\\\\Users\\luisr\\Desktop\\Repository\\IBM_courses\\Course Work\\Assignments\\Final Capstone Project\\\\rio dataframes\\\\Outside Data\\\\raw\\\\bairros\\\\census\\\\pop_particular.xls')"
   ]
  },
  {
   "cell_type": "code",
   "execution_count": 144,
   "metadata": {},
   "outputs": [],
   "source": [
    "pop_part_cols = [pop_part.iloc[4, 0]] + list(pop_part.iloc[5, 1:])"
   ]
  },
  {
   "cell_type": "code",
   "execution_count": 145,
   "metadata": {},
   "outputs": [
    {
     "data": {
      "text/plain": [
       "['Áreas de Planejamento, Regiões Administrativas e Bairros',\n",
       " 'Total4',\n",
       " 'Pessoa responsável',\n",
       " 'Cônjuge',\n",
       " 'Filho(a) ou enteado(a)',\n",
       " 'Neto(a) ou bisneto(a)',\n",
       " 'Outro parente',\n",
       " 'Sem parentesco']"
      ]
     },
     "execution_count": 145,
     "metadata": {},
     "output_type": "execute_result"
    }
   ],
   "source": [
    "pop_part_cols"
   ]
  },
  {
   "cell_type": "code",
   "execution_count": 146,
   "metadata": {},
   "outputs": [],
   "source": [
    "pop_part.columns = pop_part_cols"
   ]
  },
  {
   "cell_type": "code",
   "execution_count": 159,
   "metadata": {},
   "outputs": [],
   "source": [
    "pop_part = pop_part.tail(-7).head(-38).reset_index(drop=True)"
   ]
  },
  {
   "cell_type": "code",
   "execution_count": 234,
   "metadata": {},
   "outputs": [],
   "source": [
    "pop_part = pop_part.dropna()"
   ]
  },
  {
   "cell_type": "code",
   "execution_count": 409,
   "metadata": {},
   "outputs": [],
   "source": [
    "pop_part.reset_index(drop=True, inplace=True)"
   ]
  },
  {
   "cell_type": "code",
   "execution_count": 410,
   "metadata": {},
   "outputs": [],
   "source": [
    "#pop_part.to_csv('\\\\Users\\luisr\\Desktop\\Repository\\IBM_courses\\Course Work\\Assignments\\Final Capstone Project\\\\rio dataframes\\\\Outside Data\\\\Clean\\\\census\\\\pop3_particular_clean.csv')"
   ]
  },
  {
   "cell_type": "markdown",
   "metadata": {},
   "source": [
    "# Formatting Neighborhoods Names"
   ]
  },
  {
   "cell_type": "code",
   "execution_count": 580,
   "metadata": {},
   "outputs": [
    {
     "data": {
      "text/plain": [
       "(199, 197, 196, 199)"
      ]
     },
     "execution_count": 580,
     "metadata": {},
     "output_type": "execute_result"
    }
   ],
   "source": [
    "len(pop1), len(pop2), len(pop3), len(pop_part), "
   ]
  },
  {
   "cell_type": "code",
   "execution_count": 559,
   "metadata": {},
   "outputs": [],
   "source": [
    "uni_1 = pop1.iloc[:, 0].unique()\n",
    "uni_2 = pop2.iloc[:, 0].unique()\n",
    "uni_3 = pop3.iloc[:, 0].unique()\n",
    "uni_part = pop_part.iloc[:, 0].unique()"
   ]
  },
  {
   "cell_type": "code",
   "execution_count": 560,
   "metadata": {},
   "outputs": [],
   "source": [
    "unis = [uni_1, uni_2, uni_3, uni_part]"
   ]
  },
  {
   "cell_type": "code",
   "execution_count": 571,
   "metadata": {},
   "outputs": [
    {
     "name": "stdout",
     "output_type": "stream",
     "text": [
      "0 not in 1 ['XXXI Vigário Geral ' 'Gericinó ']\n",
      "0 not in 2 ['Vasco da Gama' 'XXXI Vigário Geral ' 'Gericinó ']\n",
      "0 not in 3 []\n",
      "1 not in 0 []\n",
      "1 not in 2 ['Vasco da Gama']\n",
      "1 not in 3 []\n",
      "2 not in 0 []\n",
      "2 not in 1 []\n",
      "2 not in 3 []\n",
      "3 not in 0 []\n",
      "3 not in 1 ['XXXI Vigário Geral ' 'Gericinó ']\n",
      "3 not in 2 ['Vasco da Gama' 'XXXI Vigário Geral ' 'Gericinó ']\n"
     ]
    }
   ],
   "source": [
    "for i in range(4):\n",
    "    for j in range(4):\n",
    "    \n",
    "        if i!=j:\n",
    "            \n",
    "            print(i, 'not in', j, unis[i][[u.strip().replace('á','a').replace('é','e').replace('í','i').replace('ó','o').replace('ú','u') not in [o.strip().replace('á','a').replace('é','e').replace('í','i').replace('ó','o').replace('ú','u') for o in unis[j].tolist()] for u in unis[i].tolist()]])\n",
    "            #print(i, j, sum([u.strip().replace('á','a').replace('é','e').replace('í','i').replace('ó','o').replace('ú','u') not in [j.strip().replace('á','a').replace('é','e').replace('í','i').replace('ó','o').replace('ú','u') for j in unis[i].tolist()] for u in unis[j].tolist()]))"
   ]
  },
  {
   "cell_type": "markdown",
   "metadata": {},
   "source": [
    "### Pop 2"
   ]
  },
  {
   "cell_type": "code",
   "execution_count": 530,
   "metadata": {},
   "outputs": [
    {
     "data": {
      "text/plain": [
       "['_Vigário Geral_']"
      ]
     },
     "execution_count": 530,
     "metadata": {},
     "output_type": "execute_result"
    }
   ],
   "source": [
    "re.findall('_Vigário.*?_', '_'.join(pop2.iloc[:, 0]))"
   ]
  },
  {
   "cell_type": "code",
   "execution_count": 527,
   "metadata": {},
   "outputs": [
    {
     "data": {
      "text/plain": [
       "['_XXI Paquetá_']"
      ]
     },
     "execution_count": 527,
     "metadata": {},
     "output_type": "execute_result"
    }
   ],
   "source": [
    "re.findall('_XXI Paquet.*?_', '_'.join(pop2.iloc[:, 0]))"
   ]
  },
  {
   "cell_type": "code",
   "execution_count": 482,
   "metadata": {},
   "outputs": [
    {
     "data": {
      "text/plain": [
       "[]"
      ]
     },
     "execution_count": 482,
     "metadata": {},
     "output_type": "execute_result"
    }
   ],
   "source": [
    "re.findall('Geri.*?_', '_'.join(pop2.iloc[:, 0]))"
   ]
  },
  {
   "cell_type": "code",
   "execution_count": 528,
   "metadata": {},
   "outputs": [
    {
     "data": {
      "text/plain": [
       "['_Vasco da Gama_']"
      ]
     },
     "execution_count": 528,
     "metadata": {},
     "output_type": "execute_result"
    }
   ],
   "source": [
    "re.findall('_Vasco.*?_', '_'.join(pop2.iloc[:, 0]))"
   ]
  },
  {
   "cell_type": "code",
   "execution_count": 362,
   "metadata": {},
   "outputs": [
    {
     "data": {
      "text/plain": [
       "'São Cristóvão'"
      ]
     },
     "execution_count": 362,
     "metadata": {},
     "output_type": "execute_result"
    }
   ],
   "source": [
    "pop2.iloc[17, 0]"
   ]
  },
  {
   "cell_type": "code",
   "execution_count": 366,
   "metadata": {},
   "outputs": [
    {
     "data": {
      "text/plain": [
       "'Vila Kosmos'"
      ]
     },
     "execution_count": 366,
     "metadata": {},
     "output_type": "execute_result"
    }
   ],
   "source": [
    "pop2.iloc[98, 0]"
   ]
  },
  {
   "cell_type": "code",
   "execution_count": 546,
   "metadata": {},
   "outputs": [],
   "source": [
    "pop2.iloc[119, 0] = 'Freguesia (Ilha do Governador)'"
   ]
  },
  {
   "cell_type": "code",
   "execution_count": 391,
   "metadata": {},
   "outputs": [
    {
     "data": {
      "text/plain": [
       "'Freguesia (Jacarepaguá)'"
      ]
     },
     "execution_count": 391,
     "metadata": {},
     "output_type": "execute_result"
    }
   ],
   "source": [
    "pop2.iloc[152, 0]"
   ]
  },
  {
   "cell_type": "markdown",
   "metadata": {},
   "source": [
    "### Pop 1"
   ]
  },
  {
   "cell_type": "code",
   "execution_count": 537,
   "metadata": {},
   "outputs": [],
   "source": [
    "pop1.iloc[17,0] = 'São Cristóvão'"
   ]
  },
  {
   "cell_type": "code",
   "execution_count": 507,
   "metadata": {},
   "outputs": [
    {
     "data": {
      "text/plain": [
       "['Vigário Geral _', 'Vigário Geral_']"
      ]
     },
     "execution_count": 507,
     "metadata": {},
     "output_type": "execute_result"
    }
   ],
   "source": [
    "re.findall('Vigário.*?_', '_'.join(pop1.iloc[:, 0]))"
   ]
  },
  {
   "cell_type": "code",
   "execution_count": 477,
   "metadata": {},
   "outputs": [
    {
     "data": {
      "text/plain": [
       "['Gericinó _']"
      ]
     },
     "execution_count": 477,
     "metadata": {},
     "output_type": "execute_result"
    }
   ],
   "source": [
    "re.findall('Geri.*?_', '_'.join(pop1.iloc[:, 0]))"
   ]
  },
  {
   "cell_type": "code",
   "execution_count": 531,
   "metadata": {},
   "outputs": [],
   "source": [
    "pop1.iloc[19, 0] = 'XXI Paquetá'"
   ]
  },
  {
   "cell_type": "code",
   "execution_count": 491,
   "metadata": {},
   "outputs": [
    {
     "data": {
      "text/plain": [
       "'Vasco da Gama'"
      ]
     },
     "execution_count": 491,
     "metadata": {},
     "output_type": "execute_result"
    }
   ],
   "source": [
    "pop1.iloc[18, 0]"
   ]
  },
  {
   "cell_type": "code",
   "execution_count": 533,
   "metadata": {},
   "outputs": [],
   "source": [
    "pop1.iloc[93, 0] = 'Vila Kosmos'"
   ]
  },
  {
   "cell_type": "code",
   "execution_count": 545,
   "metadata": {},
   "outputs": [],
   "source": [
    "pop1.iloc[115, 0] = 'Freguesia (Ilha do Governador)'"
   ]
  },
  {
   "cell_type": "code",
   "execution_count": 542,
   "metadata": {},
   "outputs": [],
   "source": [
    "pop1.iloc[153, 0] = 'Freguesia (Jacarepaguá)'"
   ]
  },
  {
   "cell_type": "markdown",
   "metadata": {},
   "source": [
    "### Pop 3"
   ]
  },
  {
   "cell_type": "code",
   "execution_count": 570,
   "metadata": {},
   "outputs": [
    {
     "data": {
      "text/plain": [
       "['Vigário Geral_']"
      ]
     },
     "execution_count": 570,
     "metadata": {},
     "output_type": "execute_result"
    }
   ],
   "source": [
    "re.findall('Vigário Geral.*?_', '_'.join(pop3.iloc[:, 0]))"
   ]
  },
  {
   "cell_type": "code",
   "execution_count": 515,
   "metadata": {},
   "outputs": [
    {
     "data": {
      "text/plain": [
       "[]"
      ]
     },
     "execution_count": 515,
     "metadata": {},
     "output_type": "execute_result"
    }
   ],
   "source": [
    "re.findall('eri.*?_', '_'.join(pop3.iloc[:, 0]))"
   ]
  },
  {
   "cell_type": "code",
   "execution_count": 519,
   "metadata": {},
   "outputs": [
    {
     "data": {
      "text/plain": [
       "['asconcelos_', 'asconcelos_']"
      ]
     },
     "execution_count": 519,
     "metadata": {},
     "output_type": "execute_result"
    }
   ],
   "source": [
    "re.findall('asco.*?_', '_'.join(pop3.iloc[:, 0]))"
   ]
  },
  {
   "cell_type": "code",
   "execution_count": 501,
   "metadata": {},
   "outputs": [
    {
     "data": {
      "text/plain": [
       "'XXI Paquetá'"
      ]
     },
     "execution_count": 501,
     "metadata": {},
     "output_type": "execute_result"
    }
   ],
   "source": [
    "pop3.iloc[18, 0]"
   ]
  },
  {
   "cell_type": "code",
   "execution_count": 439,
   "metadata": {},
   "outputs": [
    {
     "data": {
      "text/plain": [
       "'Vila Kosmos'"
      ]
     },
     "execution_count": 439,
     "metadata": {},
     "output_type": "execute_result"
    }
   ],
   "source": [
    "pop3.iloc[93, 0]"
   ]
  },
  {
   "cell_type": "code",
   "execution_count": 435,
   "metadata": {},
   "outputs": [
    {
     "data": {
      "text/plain": [
       "'São Cristóvão'"
      ]
     },
     "execution_count": 435,
     "metadata": {},
     "output_type": "execute_result"
    }
   ],
   "source": [
    "pop3.iloc[15,0]"
   ]
  },
  {
   "cell_type": "code",
   "execution_count": null,
   "metadata": {},
   "outputs": [],
   "source": [
    "pop3.iloc[121, 0] = 'Freguesia (Ilha do Governador)'"
   ]
  },
  {
   "cell_type": "code",
   "execution_count": null,
   "metadata": {},
   "outputs": [],
   "source": [
    "pop3.iloc[153,0] = 'Freguesia (Jacarepaguá)'"
   ]
  },
  {
   "cell_type": "markdown",
   "metadata": {},
   "source": [
    "### Pop part"
   ]
  },
  {
   "cell_type": "code",
   "execution_count": 526,
   "metadata": {},
   "outputs": [
    {
     "data": {
      "text/plain": [
       "['_Gericinó _']"
      ]
     },
     "execution_count": 526,
     "metadata": {},
     "output_type": "execute_result"
    }
   ],
   "source": [
    "re.findall('_Geri.*?_', '_'.join(pop_part.iloc[:, 0]))"
   ]
  },
  {
   "cell_type": "code",
   "execution_count": 525,
   "metadata": {},
   "outputs": [
    {
     "data": {
      "text/plain": [
       "['_Vasco da Gama_']"
      ]
     },
     "execution_count": 525,
     "metadata": {},
     "output_type": "execute_result"
    }
   ],
   "source": [
    "re.findall('_Vasco.*?_', '_'.join(pop_part.iloc[:, 0]))"
   ]
  },
  {
   "cell_type": "code",
   "execution_count": 539,
   "metadata": {},
   "outputs": [
    {
     "data": {
      "text/plain": [
       "'São Cristóvão'"
      ]
     },
     "execution_count": 539,
     "metadata": {},
     "output_type": "execute_result"
    }
   ],
   "source": [
    "pop_part.iloc[17, 0] = 'São Cristóvão'"
   ]
  },
  {
   "cell_type": "code",
   "execution_count": null,
   "metadata": {},
   "outputs": [],
   "source": [
    "pop_part.iloc[19, 0] = 'XXI Paquetá'"
   ]
  },
  {
   "cell_type": "code",
   "execution_count": 448,
   "metadata": {},
   "outputs": [
    {
     "data": {
      "text/plain": [
       "'XXXI Vigário Geral '"
      ]
     },
     "execution_count": 448,
     "metadata": {},
     "output_type": "execute_result"
    }
   ],
   "source": [
    "pop_part.iloc[65, 0]"
   ]
  },
  {
   "cell_type": "code",
   "execution_count": 449,
   "metadata": {},
   "outputs": [
    {
     "data": {
      "text/plain": [
       "'Vila Kosmos'"
      ]
     },
     "execution_count": 449,
     "metadata": {},
     "output_type": "execute_result"
    }
   ],
   "source": [
    "pop_part.iloc[99, 0]"
   ]
  },
  {
   "cell_type": "code",
   "execution_count": 452,
   "metadata": {},
   "outputs": [
    {
     "data": {
      "text/plain": [
       "'Freguesia (Ilha do Governador)'"
      ]
     },
     "execution_count": 452,
     "metadata": {},
     "output_type": "execute_result"
    }
   ],
   "source": [
    "pop_part.iloc[120, 0]"
   ]
  },
  {
   "cell_type": "code",
   "execution_count": 453,
   "metadata": {},
   "outputs": [
    {
     "data": {
      "text/plain": [
       "'Freguesia (Jacarepaguá)'"
      ]
     },
     "execution_count": 453,
     "metadata": {},
     "output_type": "execute_result"
    }
   ],
   "source": [
    "pop_part.iloc[153, 0]"
   ]
  },
  {
   "cell_type": "markdown",
   "metadata": {},
   "source": [
    "### Faltando:\n",
    "\n",
    "1. pop2: XXXI Vigário Geral, Gericino\n",
    "2. pop3: XXXI Vigário Geral, Gerecino, Vasco da gama"
   ]
  },
  {
   "cell_type": "code",
   "execution_count": 597,
   "metadata": {},
   "outputs": [],
   "source": [
    "pop1.iloc[:, 0] = [i.lower().strip().replace('á','a').replace('é','e').replace('í','i').replace('ó','o').replace('ú','u') for i in pop1.iloc[:, 0]]"
   ]
  },
  {
   "cell_type": "code",
   "execution_count": 598,
   "metadata": {},
   "outputs": [],
   "source": [
    "pop2.iloc[:, 0] = [i.lower().strip().replace('á','a').replace('é','e').replace('í','i').replace('ó','o').replace('ú','u') for i in pop2.iloc[:, 0]]"
   ]
  },
  {
   "cell_type": "code",
   "execution_count": 599,
   "metadata": {},
   "outputs": [],
   "source": [
    "pop3.iloc[:, 0] = [i.lower().strip().replace('á','a').replace('é','e').replace('í','i').replace('ó','o').replace('ú','u') for i in pop3.iloc[:, 0]]"
   ]
  },
  {
   "cell_type": "code",
   "execution_count": 600,
   "metadata": {},
   "outputs": [],
   "source": [
    "pop_part.iloc[:, 0] = [i.lower().strip().replace('á','a').replace('é','e').replace('í','i').replace('ó','o').replace('ú','u') for i in pop_part.iloc[:, 0]]"
   ]
  },
  {
   "cell_type": "markdown",
   "metadata": {},
   "source": [
    "# Testing"
   ]
  },
  {
   "cell_type": "code",
   "execution_count": 601,
   "metadata": {},
   "outputs": [],
   "source": [
    "uni_1 = pop1.iloc[:, 0].unique()\n",
    "uni_2 = pop2.iloc[:, 0].unique()\n",
    "uni_3 = pop3.iloc[:, 0].unique()\n",
    "uni_part = pop_part.iloc[:, 0].unique()"
   ]
  },
  {
   "cell_type": "code",
   "execution_count": 602,
   "metadata": {},
   "outputs": [],
   "source": [
    "unis = [uni_1, uni_2, uni_3, uni_part]"
   ]
  },
  {
   "cell_type": "code",
   "execution_count": 603,
   "metadata": {},
   "outputs": [
    {
     "name": "stdout",
     "output_type": "stream",
     "text": [
      "0 not in 1 ['xxxi vigario geral' 'gericino']\n",
      "0 not in 2 ['vasco da gama' 'xxxi vigario geral' 'gericino']\n",
      "0 not in 3 []\n",
      "1 not in 0 []\n",
      "1 not in 2 ['vasco da gama']\n",
      "1 not in 3 []\n",
      "2 not in 0 []\n",
      "2 not in 1 []\n",
      "2 not in 3 []\n",
      "3 not in 0 []\n",
      "3 not in 1 ['xxxi vigario geral' 'gericino']\n",
      "3 not in 2 ['vasco da gama' 'xxxi vigario geral' 'gericino']\n"
     ]
    }
   ],
   "source": [
    "for i in range(4):\n",
    "    for j in range(4):\n",
    "    \n",
    "        if i!=j:\n",
    "            \n",
    "            print(i, 'not in', j, unis[i][[u not in [o for o in unis[j].tolist()] for u in unis[i].tolist()]])\n",
    "            #print(i, j, sum([u.strip().replace('á','a').replace('é','e').replace('í','i').replace('ó','o').replace('ú','u') not in [j.strip().replace('á','a').replace('é','e').replace('í','i').replace('ó','o').replace('ú','u') for j in unis[i].tolist()] for u in unis[j].tolist()]))"
   ]
  },
  {
   "cell_type": "markdown",
   "metadata": {},
   "source": [
    "# Saving"
   ]
  },
  {
   "cell_type": "code",
   "execution_count": 581,
   "metadata": {},
   "outputs": [],
   "source": [
    "#pop1.to_csv('\\\\Users\\luisr\\Desktop\\Repository\\IBM_courses\\Course Work\\Assignments\\Final Capstone Project\\\\rio dataframes\\\\Outside Data\\\\Clean\\\\census\\\\pop1_clean.csv')"
   ]
  },
  {
   "cell_type": "code",
   "execution_count": 582,
   "metadata": {},
   "outputs": [],
   "source": [
    "#pop2.to_csv('\\\\Users\\luisr\\Desktop\\Repository\\IBM_courses\\Course Work\\Assignments\\Final Capstone Project\\\\rio dataframes\\\\Outside Data\\\\Clean\\\\census\\\\pop2_clean.csv')"
   ]
  },
  {
   "cell_type": "code",
   "execution_count": 605,
   "metadata": {},
   "outputs": [],
   "source": [
    "#pop3.to_csv('\\\\Users\\luisr\\Desktop\\Repository\\IBM_courses\\Course Work\\Assignments\\Final Capstone Project\\\\rio dataframes\\\\Outside Data\\\\Clean\\\\census\\\\pop3_clean.csv')"
   ]
  },
  {
   "cell_type": "code",
   "execution_count": 584,
   "metadata": {},
   "outputs": [],
   "source": [
    "#pop_part.to_csv('\\\\Users\\luisr\\Desktop\\Repository\\IBM_courses\\Course Work\\Assignments\\Final Capstone Project\\\\rio dataframes\\\\Outside Data\\\\Clean\\\\census\\\\pop3_particular_clean.csv')"
   ]
  },
  {
   "cell_type": "markdown",
   "metadata": {},
   "source": [
    "# Merging all tables"
   ]
  },
  {
   "cell_type": "code",
   "execution_count": 613,
   "metadata": {},
   "outputs": [],
   "source": [
    "col0 = pop1.columns[0]"
   ]
  },
  {
   "cell_type": "code",
   "execution_count": 618,
   "metadata": {},
   "outputs": [
    {
     "data": {
      "text/plain": [
       "199"
      ]
     },
     "execution_count": 618,
     "metadata": {},
     "output_type": "execute_result"
    }
   ],
   "source": [
    "len(pop1)"
   ]
  },
  {
   "cell_type": "code",
   "execution_count": 623,
   "metadata": {},
   "outputs": [],
   "source": [
    "pops = pd.merge(pd.merge(pd.merge(pop1, pop2, on=col0), pop3, on=col0), pop_part, on=col0)"
   ]
  },
  {
   "cell_type": "markdown",
   "metadata": {},
   "source": [
    "# Additional Formatting and Type Conversion"
   ]
  },
  {
   "cell_type": "code",
   "execution_count": 651,
   "metadata": {},
   "outputs": [],
   "source": [
    "for col in pops.columns[1:]: pops[col] = [i.replace(' ', '') for i in pops[col].astype(str)]"
   ]
  },
  {
   "cell_type": "code",
   "execution_count": 652,
   "metadata": {},
   "outputs": [],
   "source": [
    "pops.iloc[:, 1:] = pops.iloc[:, 1:].astype(float)"
   ]
  },
  {
   "cell_type": "markdown",
   "metadata": {},
   "source": [
    "# Saving/Loading Combined Tables"
   ]
  },
  {
   "cell_type": "code",
   "execution_count": 690,
   "metadata": {},
   "outputs": [],
   "source": [
    "#pops.to_csv('\\\\Users\\luisr\\Desktop\\Repository\\IBM_courses\\Course Work\\Assignments\\Final Capstone Project\\\\rio dataframes\\\\Outside Data\\\\Clean\\\\census\\\\pops.csv')"
   ]
  },
  {
   "cell_type": "code",
   "execution_count": 807,
   "metadata": {},
   "outputs": [],
   "source": [
    "pops = pd.read_csv('\\\\Users\\luisr\\Desktop\\Repository\\IBM_courses\\Course Work\\Assignments\\Final Capstone Project\\\\rio dataframes\\\\Outside Data\\\\Clean\\\\census\\\\pops.csv', index_col=0)"
   ]
  },
  {
   "cell_type": "markdown",
   "metadata": {},
   "source": [
    "# Exploratory Analysis"
   ]
  },
  {
   "cell_type": "code",
   "execution_count": 808,
   "metadata": {},
   "outputs": [],
   "source": [
    "corr = pops.iloc[:, 1:].astype(float).corr()"
   ]
  },
  {
   "cell_type": "code",
   "execution_count": 809,
   "metadata": {},
   "outputs": [
    {
     "data": {
      "text/plain": [
       "<matplotlib.axes._subplots.AxesSubplot at 0x29b56830160>"
      ]
     },
     "execution_count": 809,
     "metadata": {},
     "output_type": "execute_result"
    },
    {
     "data": {
      "image/png": "[encoded data removed]",
      "text/plain": [
       "<Figure size 1440x2160 with 2 Axes>"
      ]
     },
     "metadata": {
      "needs_background": "light"
     },
     "output_type": "display_data"
    }
   ],
   "source": [
    "fig = plt.figure(figsize=(20, 30))\n",
    "ax0 = fig.add_subplot(1,1,1)\n",
    "\n",
    "sns.heatmap(data=corr.iloc[:, :], cmap='RdBu', ax=ax0, linewidths=0.5)"
   ]
  },
  {
   "cell_type": "code",
   "execution_count": 710,
   "metadata": {},
   "outputs": [],
   "source": [
    "from sklearn.linear_model import LinearRegression\n",
    "from sklearn.metrics import r2_score\n",
    "from sklearn.preprocessing import StandardScaler as ss\n",
    "from sklearn.preprocessing import PolynomialFeatures as pf"
   ]
  },
  {
   "cell_type": "code",
   "execution_count": 711,
   "metadata": {},
   "outputs": [
    {
     "data": {
      "text/html": [
       "<div>\n",
       "<style scoped>\n",
       "    .dataframe tbody tr th:only-of-type {\n",
       "        vertical-align: middle;\n",
       "    }\n",
       "\n",
       "    .dataframe tbody tr th {\n",
       "        vertical-align: top;\n",
       "    }\n",
       "\n",
       "    .dataframe thead th {\n",
       "        text-align: right;\n",
       "    }\n",
       "</style>\n",
       "<table border=\"1\" class=\"dataframe\">\n",
       "  <thead>\n",
       "    <tr style=\"text-align: right;\">\n",
       "      <th></th>\n",
       "      <th>Áreas de Planejamento, Regiões Administrativas e Bairros</th>\n",
       "      <th>Total_x</th>\n",
       "      <th>0 a 6</th>\n",
       "      <th>7 a 14</th>\n",
       "      <th>15 a 19</th>\n",
       "      <th>20 a 29</th>\n",
       "      <th>30 a 49</th>\n",
       "      <th>50 a 59</th>\n",
       "      <th>60 a 64</th>\n",
       "      <th>65 a 79</th>\n",
       "      <th>...</th>\n",
       "      <th>70 a 74 anos</th>\n",
       "      <th>75 a 79 anos</th>\n",
       "      <th>80 anos ou mais</th>\n",
       "      <th>Total4</th>\n",
       "      <th>Pessoa responsável</th>\n",
       "      <th>Cônjuge</th>\n",
       "      <th>Filho(a) ou enteado(a)</th>\n",
       "      <th>Neto(a) ou bisneto(a)</th>\n",
       "      <th>Outro parente</th>\n",
       "      <th>Sem parentesco</th>\n",
       "    </tr>\n",
       "  </thead>\n",
       "  <tbody>\n",
       "    <tr>\n",
       "      <th>0</th>\n",
       "      <td>total</td>\n",
       "      <td>6.32045e+06</td>\n",
       "      <td>517786</td>\n",
       "      <td>708572</td>\n",
       "      <td>464150</td>\n",
       "      <td>1.05981e+06</td>\n",
       "      <td>1.86947e+06</td>\n",
       "      <td>759804</td>\n",
       "      <td>279122</td>\n",
       "      <td>506486</td>\n",
       "      <td>...</td>\n",
       "      <td>151452</td>\n",
       "      <td>98523</td>\n",
       "      <td>97381</td>\n",
       "      <td>6.32045e+06</td>\n",
       "      <td>2.14632e+06</td>\n",
       "      <td>1.20619e+06</td>\n",
       "      <td>2.07514e+06</td>\n",
       "      <td>276185</td>\n",
       "      <td>495948</td>\n",
       "      <td>88798</td>\n",
       "    </tr>\n",
       "    <tr>\n",
       "      <th>1</th>\n",
       "      <td>area de planejamento 1</td>\n",
       "      <td>297976</td>\n",
       "      <td>23980</td>\n",
       "      <td>32276</td>\n",
       "      <td>20813</td>\n",
       "      <td>53977</td>\n",
       "      <td>89574</td>\n",
       "      <td>34791</td>\n",
       "      <td>12543</td>\n",
       "      <td>22719</td>\n",
       "      <td>...</td>\n",
       "      <td>7692</td>\n",
       "      <td>4993</td>\n",
       "      <td>5105</td>\n",
       "      <td>297976</td>\n",
       "      <td>105103</td>\n",
       "      <td>51241</td>\n",
       "      <td>89368</td>\n",
       "      <td>13008</td>\n",
       "      <td>28190</td>\n",
       "      <td>6307</td>\n",
       "    </tr>\n",
       "  </tbody>\n",
       "</table>\n",
       "<p>2 rows × 61 columns</p>\n",
       "</div>"
      ],
      "text/plain": [
       "  Áreas de Planejamento, Regiões Administrativas e Bairros      Total_x  \\\n",
       "0                                                    total  6.32045e+06   \n",
       "1                                   area de planejamento 1       297976   \n",
       "\n",
       "    0 a 6  7 a 14 15 a 19      20 a 29      30 a 49 50 a 59 60 a 64 65 a 79  \\\n",
       "0  517786  708572  464150  1.05981e+06  1.86947e+06  759804  279122  506486   \n",
       "1   23980   32276   20813        53977        89574   34791   12543   22719   \n",
       "\n",
       "   ... 70 a 74 anos 75 a 79 anos 80 anos ou mais       Total4  \\\n",
       "0  ...       151452        98523           97381  6.32045e+06   \n",
       "1  ...         7692         4993            5105       297976   \n",
       "\n",
       "  Pessoa responsável      Cônjuge Filho(a) ou enteado(a)  \\\n",
       "0        2.14632e+06  1.20619e+06            2.07514e+06   \n",
       "1             105103        51241                  89368   \n",
       "\n",
       "  Neto(a) ou bisneto(a) Outro parente Sem parentesco  \n",
       "0                276185        495948          88798  \n",
       "1                 13008         28190           6307  \n",
       "\n",
       "[2 rows x 61 columns]"
      ]
     },
     "execution_count": 711,
     "metadata": {},
     "output_type": "execute_result"
    }
   ],
   "source": [
    "pops.head(2)"
   ]
  },
  {
   "cell_type": "code",
   "execution_count": 805,
   "metadata": {},
   "outputs": [],
   "source": [
    "y = pops.iloc[:, 7]\n",
    "\n",
    "x = pops.iloc[:, [2]]\n",
    "\n",
    "msk = np.random.rand(len(y)) < 0.8"
   ]
  },
  {
   "cell_type": "code",
   "execution_count": 806,
   "metadata": {},
   "outputs": [
    {
     "data": {
      "text/plain": [
       "0.9952588438221633"
      ]
     },
     "execution_count": 806,
     "metadata": {},
     "output_type": "execute_result"
    }
   ],
   "source": [
    "x_train, y_train, x_test, y_test = x[msk], y[msk], x[~msk], y[~msk]\n",
    "\n",
    "lr_obj = LinearRegression().fit(x_train, y_train)\n",
    "\n",
    "y_pred = lr_obj.predict(x_test)\n",
    "\n",
    "r2_score(y_test, y_pred)"
   ]
  },
  {
   "cell_type": "code",
   "execution_count": null,
   "metadata": {},
   "outputs": [],
   "source": []
  }
 ],
 "metadata": {
  "kernelspec": {
   "display_name": "Python 3",
   "language": "python",
   "name": "python3"
  },
  "language_info": {
   "codemirror_mode": {
    "name": "ipython",
    "version": 3
   },
   "file_extension": ".py",
   "mimetype": "text/x-python",
   "name": "python",
   "nbconvert_exporter": "python",
   "pygments_lexer": "ipython3",
   "version": "3.8.3"
  }
 },
 "nbformat": 4,
 "nbformat_minor": 4
}
