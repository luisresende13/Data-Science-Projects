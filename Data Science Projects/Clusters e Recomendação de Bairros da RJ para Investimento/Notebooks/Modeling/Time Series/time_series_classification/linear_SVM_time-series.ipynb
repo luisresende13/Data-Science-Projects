{
 "cells": [
  {
   "cell_type": "code",
   "execution_count": 1,
   "metadata": {},
   "outputs": [],
   "source": [
    "import pandas as pd\n",
    "import numpy as np\n",
    "import matplotlib.pyplot as plt\n",
    "import seaborn as sns\n",
    "import re\n"
   ]
  },
  {
   "cell_type": "code",
   "execution_count": 2,
   "metadata": {},
   "outputs": [],
   "source": [
    "pd.set_option('display.max_rows', None)"
   ]
  },
  {
   "cell_type": "code",
   "execution_count": 111,
   "metadata": {},
   "outputs": [],
   "source": [
    "from sklearn.preprocessing import MinMaxScaler, StandardScaler, LabelEncoder\n",
    "\n",
    "from sklearn.preprocessing import PolynomialFeatures\n",
    "\n",
    "from sklearn.metrics import r2_score, accuracy_score, confusion_matrix, classification_report, f1_score"
   ]
  },
  {
   "cell_type": "code",
   "execution_count": 177,
   "metadata": {},
   "outputs": [],
   "source": [
    "from sklearn.model_selection import StratifiedShuffleSplit as strat_shuf_split"
   ]
  },
  {
   "cell_type": "code",
   "execution_count": 6,
   "metadata": {},
   "outputs": [],
   "source": [
    "from sklearn.svm import LinearSVC"
   ]
  },
  {
   "cell_type": "code",
   "execution_count": 46,
   "metadata": {},
   "outputs": [],
   "source": [
    "time = pd.read_csv('\\\\Users\\luisr\\Desktop\\Repository\\IBM_courses\\Course Work\\Assignments\\Final Capstone Project\\\\rio dataframes\\\\Outside Data\\\\raw\\\\bairros\\\\timeserie_energia_economia_extended.csv')"
   ]
  },
  {
   "cell_type": "markdown",
   "metadata": {},
   "source": [
    "#  Cleaning"
   ]
  },
  {
   "cell_type": "markdown",
   "metadata": {},
   "source": [
    "### TIME"
   ]
  },
  {
   "cell_type": "code",
   "execution_count": 49,
   "metadata": {},
   "outputs": [],
   "source": [
    "time.dropna(how='all', inplace=True, axis=1)"
   ]
  },
  {
   "cell_type": "code",
   "execution_count": 50,
   "metadata": {},
   "outputs": [],
   "source": [
    "for col in time.columns[2:]: time[col] = time[col].fillna(time[col].mean())"
   ]
  },
  {
   "cell_type": "code",
   "execution_count": 51,
   "metadata": {},
   "outputs": [],
   "source": [
    "keep = []\n",
    "\n",
    "for i in time.Bairros:\n",
    "    \n",
    "    if len(i.split())>2:    \n",
    "        \n",
    "        if i.split()[2]=='planejamento': keep.append(False)\n",
    "        else: keep.append(True)\n",
    "            \n",
    "    else: \n",
    "        if i=='total': keep.append(False)\n",
    "        else: keep.append(True)"
   ]
  },
  {
   "cell_type": "code",
   "execution_count": 52,
   "metadata": {},
   "outputs": [],
   "source": [
    "time = time[keep]"
   ]
  },
  {
   "cell_type": "markdown",
   "metadata": {},
   "source": [
    "## Feature Selection"
   ]
  },
  {
   "cell_type": "markdown",
   "metadata": {},
   "source": [
    "#### Note: Remember to Fill missing values with means of same neighborhood"
   ]
  },
  {
   "cell_type": "code",
   "execution_count": 53,
   "metadata": {},
   "outputs": [],
   "source": [
    "targets = ['Consumo de energia elétrica (MWh)', 'Residencial_x',        # Energy related variables\n",
    "       'Industrial_x', 'Comercial', 'Rural_x', 'Poder público ',\n",
    "       'Iluminacão pública', 'Serv.público_x', 'Consumo próprio_x',\n",
    "       'Consumo resdencial de energia elétrica (MWh)',\n",
    "       'Médio anual por unidade consumidora  ',\n",
    "       'Total de unidades consumidoras  residenciais ', 'Total_y.1',\n",
    "       'Residencial_y', 'Industrial_y', 'Comercial ', 'Rural_y',\n",
    "       'Poderes públicos ', 'Iluminação pública', 'Serv.público_y',\n",
    "       'Consumo próprio_y']"
   ]
  },
  {
   "cell_type": "code",
   "execution_count": 466,
   "metadata": {},
   "outputs": [],
   "source": [
    "i=-1"
   ]
  },
  {
   "cell_type": "code",
   "execution_count": 468,
   "metadata": {},
   "outputs": [
    {
     "name": "stdout",
     "output_type": "stream",
     "text": [
      "1 Residencial_x\n"
     ]
    }
   ],
   "source": [
    "i+=1\n",
    "target = targets[i]\n",
    "print(i, target)"
   ]
  },
  {
   "cell_type": "markdown",
   "metadata": {},
   "source": [
    "## X & Y:"
   ]
  },
  {
   "cell_type": "code",
   "execution_count": 633,
   "metadata": {},
   "outputs": [],
   "source": [
    "x = time.drop(targets, axis=1).iloc[:, 2:]"
   ]
  },
  {
   "cell_type": "code",
   "execution_count": 635,
   "metadata": {},
   "outputs": [],
   "source": [
    "y = time[[target]]"
   ]
  },
  {
   "cell_type": "markdown",
   "metadata": {},
   "source": [
    "### Dropping Missing Vlaues"
   ]
  },
  {
   "cell_type": "code",
   "execution_count": 642,
   "metadata": {},
   "outputs": [],
   "source": [
    "var = pd.concat([pd.DataFrame(x), y], axis=1)\n",
    "\n",
    "var.dropna(subset=['Residencial_x'], inplace=True)"
   ]
  },
  {
   "cell_type": "code",
   "execution_count": 646,
   "metadata": {},
   "outputs": [],
   "source": [
    "x = var.iloc[:, :-1].reset_index(drop=True)\n",
    "\n",
    "y = var.iloc[:, [-1]].reset_index(drop=True)"
   ]
  },
  {
   "cell_type": "markdown",
   "metadata": {},
   "source": [
    "## Feature Encoding"
   ]
  },
  {
   "cell_type": "markdown",
   "metadata": {},
   "source": [
    "#### Choosing Intervals for Categories"
   ]
  },
  {
   "cell_type": "code",
   "execution_count": 673,
   "metadata": {},
   "outputs": [],
   "source": [
    "bins = [y[target].min()-1, 17000, 67000, 102000, 176000, 250000, y[target].max()+1]\n",
    "labels=[0.,1.,2.,3.,4.,5.]"
   ]
  },
  {
   "cell_type": "code",
   "execution_count": 676,
   "metadata": {},
   "outputs": [],
   "source": [
    "y_cat = pd.cut(y[target], bins, right=True, labels=labels)\n",
    "\n",
    "y_cat.unique()"
   ]
  },
  {
   "cell_type": "code",
   "execution_count": 680,
   "metadata": {},
   "outputs": [
    {
     "data": {
      "image/png": "[encoded data removed]",
      "text/plain": [
       "<Figure size 576x360 with 1 Axes>"
      ]
     },
     "metadata": {
      "needs_background": "light"
     },
     "output_type": "display_data"
    }
   ],
   "source": [
    "fig = plt.figure()\n",
    "ax0 = fig.add_subplot(111)\n",
    "\n",
    "y.plot(kind='hist', bins=80, figsize=(8,5), ax=ax0)\n",
    "u = np.linspace(0,235,100)\n",
    "[ax0.plot(u*0+bins[i], u, color='orange') for i in range(len(bins))]\n",
    "plt.show()"
   ]
  },
  {
   "cell_type": "markdown",
   "metadata": {},
   "source": [
    "#### Optional: Encoding with OrdinalEncoder"
   ]
  },
  {
   "cell_type": "code",
   "execution_count": 473,
   "metadata": {},
   "outputs": [],
   "source": [
    "from sklearn.preprocessing import OrdinalEncoder"
   ]
  },
  {
   "cell_type": "code",
   "execution_count": 532,
   "metadata": {},
   "outputs": [],
   "source": [
    "y_cod = OrdinalEncoder().fit_transform(y_cat.to_frame())"
   ]
  },
  {
   "cell_type": "code",
   "execution_count": 535,
   "metadata": {},
   "outputs": [],
   "source": [
    "y_cod = pd.Series(y_cod.ravel())\n"
   ]
  },
  {
   "cell_type": "markdown",
   "metadata": {},
   "source": [
    "### Encoding Testing"
   ]
  },
  {
   "cell_type": "code",
   "execution_count": 678,
   "metadata": {},
   "outputs": [],
   "source": [
    "y_grp = pd.concat([y, y_cat], axis=1)\n",
    "\n",
    "y_grp.columns=['Residencial_x', 'category']"
   ]
  },
  {
   "cell_type": "code",
   "execution_count": 695,
   "metadata": {},
   "outputs": [
    {
     "data": {
      "image/png": "[encoded data removed]",
      "text/plain": [
       "<Figure size 1008x360 with 2 Axes>"
      ]
     },
     "metadata": {
      "needs_background": "light"
     },
     "output_type": "display_data"
    }
   ],
   "source": [
    "fig = plt.figure(figsize=(14,5))\n",
    "ax0 = fig.add_subplot(121)\n",
    "ax1 = fig.add_subplot(122)\n",
    "\n",
    "for i in labels:\n",
    "#for i in range(5):\n",
    "    \n",
    "    #print((y_grp[y_grp['category']==i]['Residencial_x'].mean()))\n",
    "    y_grp[y_grp['category']==i]['Residencial_x'].plot(kind='kde', ax=ax0)\n",
    "    y_grp[y_grp['category']==i]['Residencial_x'].plot(kind='hist', ax=ax1, bins=40)"
   ]
  },
  {
   "cell_type": "markdown",
   "metadata": {},
   "source": [
    "# Pair Plot"
   ]
  },
  {
   "cell_type": "code",
   "execution_count": 550,
   "metadata": {},
   "outputs": [],
   "source": [
    "pair_df = x.iloc[:, :27].copy()"
   ]
  },
  {
   "cell_type": "code",
   "execution_count": 551,
   "metadata": {},
   "outputs": [],
   "source": [
    "pair_df['Category'] = y_cat"
   ]
  },
  {
   "cell_type": "markdown",
   "metadata": {},
   "source": [
    "sns.pairplot(pair_df, hue='Category')"
   ]
  },
  {
   "cell_type": "markdown",
   "metadata": {},
   "source": [
    "# Log Transformation"
   ]
  },
  {
   "cell_type": "code",
   "execution_count": 650,
   "metadata": {},
   "outputs": [],
   "source": [
    "x = x.apply(np.log1p)"
   ]
  },
  {
   "cell_type": "code",
   "execution_count": null,
   "metadata": {},
   "outputs": [],
   "source": [
    "#sns.distplot(x[2017], kde=False, bins=80)"
   ]
  },
  {
   "cell_type": "markdown",
   "metadata": {},
   "source": [
    "# Normalization"
   ]
  },
  {
   "cell_type": "code",
   "execution_count": 653,
   "metadata": {},
   "outputs": [],
   "source": [
    "scaler = MinMaxScaler()\n",
    "x_norm = scaler.fit_transform(x)"
   ]
  },
  {
   "cell_type": "code",
   "execution_count": 624,
   "metadata": {},
   "outputs": [],
   "source": [
    "#scaler = StandardScaler()\n",
    "#x_norm = scaler.fit_transform(x)"
   ]
  },
  {
   "cell_type": "markdown",
   "metadata": {},
   "source": [
    "# Random Stratified Train Test Split"
   ]
  },
  {
   "cell_type": "code",
   "execution_count": 696,
   "metadata": {},
   "outputs": [
    {
     "name": "stdout",
     "output_type": "stream",
     "text": [
      "0.0    305\n",
      "1.0    285\n",
      "2.0     50\n",
      "3.0     26\n",
      "4.0     13\n",
      "5.0      5\n",
      "Name: Residencial_x, dtype: int64 0.0    102\n",
      "1.0     95\n",
      "2.0     16\n",
      "3.0      8\n",
      "4.0      5\n",
      "5.0      2\n",
      "Name: Residencial_x, dtype: int64\n"
     ]
    }
   ],
   "source": [
    "sss = strat_shuf_split(n_splits=1, test_size=0.25, random_state=None)\n",
    "for train, test in sss.split(x_norm, y_cat):\n",
    "    x_train = x_norm[train]\n",
    "    x_test = x_norm[test]\n",
    "    y_train = y_cat[train]\n",
    "    y_test = y_cat[test]\n",
    "print(y_train.value_counts(), y_test.value_counts())"
   ]
  },
  {
   "cell_type": "markdown",
   "metadata": {},
   "source": [
    "# Modeling: Linear Support Vector Machine Classifier"
   ]
  },
  {
   "cell_type": "markdown",
   "metadata": {},
   "source": [
    "### Optimizing C"
   ]
  },
  {
   "cell_type": "code",
   "execution_count": 705,
   "metadata": {},
   "outputs": [],
   "source": [
    "scrs = []\n",
    "for i in range(20, 60):\n",
    "    \n",
    "    linear_svc = LinearSVC(max_iter=1e5, C=i/10).fit(x_train, y_train)\n",
    "    \n",
    "    y_pred = linear_svc.predict(x_test)\n",
    "\n",
    "    acc = accuracy_score(y_test, y_pred)\n",
    "    f1 = f1_score(y_test, y_pred, average='weighted')\n",
    "    \n",
    "    scrs.append([i/10, acc, f1])\n",
    "    if i in range(0, 100, 5): print(i, 'attempts')\n",
    "    \n",
    "scrs_df = pd.DataFrame(scrs, columns=['C', 'acc', 'f1'])\n",
    "\n",
    "scrs_df.set_index('C').plot(figsize=(8,5))\n",
    "#plt.xticks(np.linspace(1/10, 51/10, 26))\n",
    "plt.grid()"
   ]
  },
  {
   "cell_type": "markdown",
   "metadata": {},
   "source": [
    "#### C between 0.7 and 2.1"
   ]
  },
  {
   "cell_type": "markdown",
   "metadata": {},
   "source": [
    "###  Optimizing Tolerance"
   ]
  },
  {
   "cell_type": "code",
   "execution_count": null,
   "metadata": {},
   "outputs": [],
   "source": [
    "scrs = []\n",
    "for i in range(1, 100000, 1000):\n",
    "    \n",
    "    linear_svc = LinearSVC(max_iter=1e4, dual=True, C=1.5, tol=i/1e6).fit(x_train, y_train)\n",
    "    \n",
    "    y_pred = linear_svc.predict(x_test)\n",
    "\n",
    "    acc = accuracy_score(y_test, y_pred)\n",
    "    f1 = f1_score(y_test, y_pred, average='weighted')\n",
    "    \n",
    "    scrs.append([i/1e6, acc, f1])\n",
    "    if i in range(1, 10000, 1000): print(i, 'attempts')\n",
    "    \n",
    "scrs_df = pd.DataFrame(scrs, columns=['Tolerance', 'acc', 'f1'])\n",
    "\n",
    "scrs_df.set_index('Tolerance').plot(figsize=(7,5))\n",
    "#plt.xticks(np.linspace(1/10, 51/10, 51))\n",
    "plt.grid()"
   ]
  },
  {
   "cell_type": "markdown",
   "metadata": {},
   "source": [
    "#### Tolerance = 1e-4"
   ]
  },
  {
   "cell_type": "markdown",
   "metadata": {},
   "source": [
    "### Optimal Model Evaluation"
   ]
  },
  {
   "cell_type": "code",
   "execution_count": 737,
   "metadata": {},
   "outputs": [
    {
     "name": "stdout",
     "output_type": "stream",
     "text": [
      "              precision    recall  f1-score   support\n",
      "\n",
      "         0.0       0.91      0.96      0.93       102\n",
      "         1.0       0.90      0.84      0.87        95\n",
      "         2.0       0.79      0.88      0.83        17\n",
      "         3.0       0.75      0.38      0.50         8\n",
      "         4.0       0.67      1.00      0.80         4\n",
      "         5.0       1.00      1.00      1.00         2\n",
      "\n",
      "    accuracy                           0.89       228\n",
      "   macro avg       0.84      0.84      0.82       228\n",
      "weighted avg       0.89      0.89      0.88       228\n",
      "\n",
      "acc: 0.885965 f1: 0.882348\n"
     ]
    }
   ],
   "source": [
    "sss = strat_shuf_split(n_splits=1, test_size=0.25, random_state=None)\n",
    "for train, test in sss.split(x_norm, y_cat):\n",
    "    x_train = x_norm[train]\n",
    "    x_test = x_norm[test]\n",
    "    y_train = y_cat[train]\n",
    "    y_test = y_cat[test]\n",
    "\n",
    "linear_svc = LinearSVC(max_iter=1e5, C=4.5).fit(x_train, y_train)\n",
    "\n",
    "y_pred = linear_svc.predict(x_test)\n",
    "\n",
    "#sns.heatmap(linear_svc.coef_)\n",
    "acc = accuracy_score(y_test, y_pred)\n",
    "f1 = f1_score(y_test, y_pred, average='weighted')\n",
    "print(classification_report(y_test, y_pred))\n",
    "print('acc:', round(acc,6), 'f1:', round(f1,6))"
   ]
  },
  {
   "cell_type": "code",
   "execution_count": 738,
   "metadata": {},
   "outputs": [
    {
     "data": {
      "text/plain": [
       "<matplotlib.axes._subplots.AxesSubplot at 0x1567edcd760>"
      ]
     },
     "execution_count": 738,
     "metadata": {},
     "output_type": "execute_result"
    },
    {
     "data": {
      "image/png": "[encoded data removed]",
      "text/plain": [
       "<Figure size 432x288 with 2 Axes>"
      ]
     },
     "metadata": {
      "needs_background": "light"
     },
     "output_type": "display_data"
    }
   ],
   "source": [
    "sns.heatmap(confusion_matrix(y_test, y_pred), annot=True, cmap='RdBu')"
   ]
  }
 ],
 "metadata": {
  "kernelspec": {
   "display_name": "Python 3",
   "language": "python",
   "name": "python3"
  },
  "language_info": {
   "codemirror_mode": {
    "name": "ipython",
    "version": 3
   },
   "file_extension": ".py",
   "mimetype": "text/x-python",
   "name": "python",
   "nbconvert_exporter": "python",
   "pygments_lexer": "ipython3",
   "version": "3.8.3"
  }
 },
 "nbformat": 4,
 "nbformat_minor": 4
}
