{
 "cells": [
  {
   "cell_type": "markdown",
   "metadata": {},
   "source": [
    "# Treating Beaches Seperately"
   ]
  },
  {
   "cell_type": "markdown",
   "metadata": {},
   "source": [
    "## Importing"
   ]
  },
  {
   "cell_type": "code",
   "execution_count": 1,
   "metadata": {},
   "outputs": [],
   "source": [
    "import pandas as pd"
   ]
  },
  {
   "cell_type": "code",
   "execution_count": 2,
   "metadata": {},
   "outputs": [],
   "source": [
    "import numpy as np"
   ]
  },
  {
   "cell_type": "code",
   "execution_count": 3,
   "metadata": {},
   "outputs": [],
   "source": [
    "import matplotlib.pyplot as plt"
   ]
  },
  {
   "cell_type": "code",
   "execution_count": 4,
   "metadata": {},
   "outputs": [],
   "source": [
    "from geopy import Nominatim"
   ]
  },
  {
   "cell_type": "code",
   "execution_count": 5,
   "metadata": {},
   "outputs": [],
   "source": [
    "import urllib.request\n",
    "import json"
   ]
  },
  {
   "cell_type": "code",
   "execution_count": 6,
   "metadata": {},
   "outputs": [],
   "source": [
    "import folium"
   ]
  },
  {
   "cell_type": "code",
   "execution_count": 7,
   "metadata": {},
   "outputs": [],
   "source": [
    "nomi_obj = Nominatim(user_agent='Coursera_Student')"
   ]
  },
  {
   "cell_type": "code",
   "execution_count": 8,
   "metadata": {},
   "outputs": [],
   "source": [
    "pd.set_option('display.max_rows', 500)"
   ]
  },
  {
   "cell_type": "markdown",
   "metadata": {},
   "source": [
    "## Defining functions"
   ]
  },
  {
   "cell_type": "markdown",
   "metadata": {},
   "source": [
    "### Coords"
   ]
  },
  {
   "cell_type": "code",
   "execution_count": 9,
   "metadata": {},
   "outputs": [],
   "source": [
    "def frame_coords(lst, col_name='venue'):\n",
    "    coords = []\n",
    "    fail_list = []\n",
    "    \n",
    "    cnt = 0\n",
    "    for item in lst:\n",
    "        \n",
    "        cnt2 = 0\n",
    "        try:\n",
    "            location = None\n",
    "            while (location==None) and (cnt2<5):\n",
    "                location = nomi_obj.geocode(item)\n",
    "                cnt2+=1\n",
    "                        \n",
    "            if location!=None: coords.append((item, location[1][0], location[1][1]))\n",
    "            else: \n",
    "                fail_list.append(item)\n",
    "                print('Fail:', item)\n",
    "                \n",
    "            cnt = cnt+1\n",
    "            if cnt in range(1, 500, 8): print('Appended:', len(coords), 'Attempts:', cnt)\n",
    "        except: print(nomi_obj.geocode(item), location)\n",
    "            \n",
    "    print('Fail List: ', fail_list) \n",
    "    print('Completed')\n",
    "    return pd.DataFrame(coords, columns=[col_name, 'lat', 'lng'])"
   ]
  },
  {
   "cell_type": "markdown",
   "metadata": {},
   "source": [
    "### Mapping Functions"
   ]
  },
  {
   "cell_type": "code",
   "execution_count": 10,
   "metadata": {},
   "outputs": [],
   "source": [
    "def plot_map(df, zoom=10):\n",
    "    mapa = folium.Map(location = [-22.911014, -43.209373], zoom_start = zoom)\n",
    "\n",
    "\n",
    "    for lat, lng, label in zip(df['lat'], df['lng'], df.iloc[:, 0]):\n",
    "    \n",
    "        label = folium.Popup(label, html_parser=True)\n",
    "        folium.CircleMarker([lat, lng],\n",
    "                            popup=label,\n",
    "                            radius=3,\n",
    "                            color='darkorange',\n",
    "                            #fill=True,\n",
    "                            #fill_color='blue',\n",
    "                            #fill_oppacity=0.8\n",
    "                           ).add_to(mapa)\n",
    "    return mapa"
   ]
  },
  {
   "cell_type": "code",
   "execution_count": 11,
   "metadata": {},
   "outputs": [],
   "source": [
    "def plot_map_lite(df, zoom=11):\n",
    "    \n",
    "    mapa = folium.Map(location = [-22.911014, -43.209373], zoom_start=zoom)\n",
    "\n",
    "    for lat, lng, label in zip(df['lat'].values, df['lng'].values, df.iloc[:, 0].values):\n",
    "    \n",
    "        #label = folium.Popup(label, html_parser=True)\n",
    "        folium.CircleMarker([lat, lng],\n",
    "                            #popup=label,\n",
    "                            radius=2,\n",
    "                            color='darkred',\n",
    "                            #fill=True,\n",
    "                            #fill_color='blue',\n",
    "                            #fill_oppacity=0.8\n",
    "                           ).add_to(mapa)\n",
    "    return mapa"
   ]
  },
  {
   "cell_type": "code",
   "execution_count": 12,
   "metadata": {},
   "outputs": [],
   "source": [
    "def plot_search_map(df, zoom=11):\n",
    "    \n",
    "     \n",
    "    mapa = folium.Map(location = [-22.911014, -43.209373], zoom_start=zoom)\n",
    "\n",
    "    for lat, lng, label, radius in zip(df['lat'].values, df['lng'].values, df.iloc[:, 0].values, df['radius'].values):\n",
    "    \n",
    "        #label = folium.Popup(label, html_parser=True)\n",
    "        folium.Circle([lat, lng],\n",
    "                      #popup=label,\n",
    "                      radius=radius,\n",
    "                      color='darkred',\n",
    "                      #fill=True,\n",
    "                      #fill_color='blue',\n",
    "                      #fill_oppacity=0.8\n",
    "                     ).add_to(mapa)\n",
    "    return mapa\n",
    "    "
   ]
  },
  {
   "cell_type": "markdown",
   "metadata": {},
   "source": [
    "### Foursquare Functions"
   ]
  },
  {
   "cell_type": "code",
   "execution_count": 15,
   "metadata": {},
   "outputs": [],
   "source": [
    "def foursquare_url(query=False,\n",
    "                   explore=False,\n",
    "                   venue=False,\n",
    "                   ctgr_search=False,\n",
    "                   ctgr_explore=False,\n",
    "                   search_query=None,\n",
    "                   ctgr_id=None,\n",
    "                   venue_id=None,\n",
    "                   radius=1500,\n",
    "                   LIMIT=800,\n",
    "                   lat=-22.9719642,       # Rio de Janeiro Center Coords\n",
    "                   lng=-43.1843432):\n",
    "\n",
    "    CLIENT_ID = 'YBZLHWZRC4DJGEF2GVTRMDCQZBCZXDBC0ZXPAMHZFR0RF3BC' # your Foursquare ID\n",
    "    CLIENT_SECRET = 'NXISZGNL4VVTR24LS2GE3ZVQ14URDHPP0S0UNJTC41CKFW4I' # your Foursquare Secret\n",
    "    VERSION = '20200604'\n",
    "    latitude=lat\n",
    "    longitude=lng\n",
    "    \n",
    "    expl_url = 'https://api.foursquare.com/v2/venues/explore?client_id={}&client_secret={}&ll={},{}&v={}&radius={}&limit={}'.format(CLIENT_ID, CLIENT_SECRET, latitude, longitude, VERSION, radius, LIMIT)\n",
    "    query_url = 'https://api.foursquare.com/v2/venues/search?client_id={}&client_secret={}&ll={},{}&v={}&query={}&radius={}&limit={}'.format(CLIENT_ID, CLIENT_SECRET, latitude, longitude, VERSION, search_query, radius, LIMIT)\n",
    "    venue_url = 'https://api.foursquare.com/v2/venues/{}?client_id={}&client_secret={}&v={}'.format(venue_id, CLIENT_ID, CLIENT_SECRET, VERSION)\n",
    "    ctgr_expl_url = 'https://api.foursquare.com/v2/venues/explore?client_id={}&client_secret={}&ll={},{}&v={}&radius={}&limit={}&category_Id={}'.format(CLIENT_ID, CLIENT_SECRET, latitude, longitude, VERSION, radius, LIMIT, ctgr_id)\n",
    "    ctgr_srch_url = 'https://api.foursquare.com/v2/venues/search?client_id={}&client_secret={}&ll={},{}&v={}&radius={}&limit={}&categoryId={}'.format(CLIENT_ID, CLIENT_SECRET, latitude, longitude, VERSION, radius, LIMIT, ctgr_id)\n",
    "    \n",
    "    if ctgr_explore: return ctgr_expl_url\n",
    "    if ctgr_search: return ctgr_srch_url\n",
    "    if query: return query_url\n",
    "    if explore: return expl_url\n",
    "    if venue: return venue_url"
   ]
  },
  {
   "cell_type": "code",
   "execution_count": 16,
   "metadata": {},
   "outputs": [],
   "source": [
    "def get_venues(df,\n",
    "               radius = 1000,\n",
    "               explore=False,\n",
    "               query=False,\n",
    "               ctgr_search=False,\n",
    "               ctgr_explore=False, \n",
    "               ctgr_id=None,\n",
    "               search_query=None\n",
    "              ):\n",
    "    \n",
    "    if type(radius)==int: radius = [radius for i in range(len(df))]\n",
    "\n",
    "    keeper_cols = [df.columns[0], 'venue.id', 'venue.name', 'venue.category_id', 'venue.category', 'venue.location.lat', 'venue.location.lng', 'venue.location.distance']\n",
    "    keeper_cols_ctgr = [df.columns[0], 'id', 'name', 'category_id', 'category', 'location.lat', 'location.lng', 'location.distance']\n",
    "    rqst_fail = []\n",
    "    append_fail = []\n",
    "    cnt = 0\n",
    "    \n",
    "    if ctgr_search: hoods_expl = pd.DataFrame(columns=keeper_cols_ctgr)\n",
    "    else: hoods_expl = pd.DataFrame(columns=keeper_cols)\n",
    "    \n",
    "    \n",
    "    \n",
    "    for name, lat, lng, radius in zip(df.iloc[:, 0], df['lat'], df['lng'], radius):\n",
    "     \n",
    "        try: rqst_txt = urllib.request.urlopen(foursquare_url(explore=explore,\n",
    "                                                              query=query,\n",
    "                                                              ctgr_search=ctgr_search,\n",
    "                                                              ctgr_explore=ctgr_explore,\n",
    "                                                              ctgr_id=ctgr_id,\n",
    "                                                              search_query=search_query,\n",
    "                                                              lat=lat, \n",
    "                                                              lng=lng,\n",
    "                                                              radius=radius)).read().decode()[:]\n",
    "        except: \n",
    "            try: rqst_txt = urllib.request.urlopen(foursquare_url(explore=True,\n",
    "                                                                  lat=lat, \n",
    "                                                                  lng=lng,\n",
    "                                                                  radius=radius)).read().decode()[:]\n",
    "            except:\n",
    "                print(name)\n",
    "                rqst_fail.append(name)\n",
    "                continue\n",
    "\n",
    "        if not ctgr_search: rqst_df = json_normalize(json.loads(rqst_txt)['response']['groups'][0]['items'])  \n",
    "        else: rqst_df = json_normalize(json.loads(rqst_txt)['response']['venues'])\n",
    "        \n",
    "        if len(rqst_df)==0: \n",
    "            append_fail.append(name)\n",
    "            continue\n",
    "        \n",
    "        rqst_df[keeper_cols[0]] = [name for i in range(len(rqst_df))]\n",
    "    \n",
    "        if not ctgr_search:            \n",
    "            if 'venue.categories' in rqst_df.columns:\n",
    "                rqst_df['venue.category_id'] = [i[0]['id'] if i!=[] else np.nan for i in rqst_df['venue.categories']] \n",
    "                rqst_df['venue.category'] = [i[0]['name'] if i!=[] else np.nan for i in rqst_df['venue.categories']]   \n",
    "            else: \n",
    "                rqst_df['venue.category_id'] = [np.nan for i in range(len(rqst_df))]\n",
    "                rqst_df['venue.category'] = [np.nan for i in range(len(rqst_df))]\n",
    "                \n",
    "            hoods_expl = pd.concat([hoods_expl, rqst_df[keeper_cols]], axis=0)\n",
    "            \n",
    "        else:\n",
    "            if 'categories' in rqst_df.columns:\n",
    "                rqst_df['category_id'] = [i[0]['id'] if i!=[] else np.nan for i in rqst_df['categories']] \n",
    "                rqst_df['category'] = [i[0]['name'] if i!=[] else np.nan for i in rqst_df['categories']]   \n",
    "            else: \n",
    "                rqst_df['category_id'] = [np.nan for i in range(len(rqst_df))]\n",
    "                rqst_df['category'] = [np.nan for i in range(len(rqst_df))]\n",
    "                \n",
    "            hoods_expl = pd.concat([hoods_expl, rqst_df[keeper_cols_ctgr]], axis=0)\n",
    "        \n",
    "        \n",
    "        cnt+=1\n",
    "        if cnt in range(0, len(df), 10): print('appended:', cnt, 'rqst_fail:', len(rqst_fail), 'append_fail:', len(append_fail))\n",
    "    \n",
    "    print('Searched:', len(df), 'Failed:', len(append_fail)+len(rqst_fail))\n",
    "    print('Fail list: ', append_fail)\n",
    "    print('Completed')\n",
    "    return hoods_expl.reset_index(drop=True)\n"
   ]
  },
  {
   "cell_type": "markdown",
   "metadata": {},
   "source": [
    "##  Loading dataframes"
   ]
  },
  {
   "cell_type": "code",
   "execution_count": 18,
   "metadata": {},
   "outputs": [],
   "source": [
    "armazem = pd.read_csv('\\\\Users\\luisr\\Desktop\\Repository\\IBM_courses\\Course Work\\Assignments\\\\rio dataframes\\\\Initial Data\\\\praias_armazeninho_raw.csv').drop('Unnamed: 0', axis=1)"
   ]
  },
  {
   "cell_type": "code",
   "execution_count": 19,
   "metadata": {},
   "outputs": [],
   "source": [
    "wiki = pd.read_csv('\\\\Users\\luisr\\Desktop\\Repository\\IBM_courses\\Course Work\\Assignments\\\\rio dataframes\\\\Initial Data\\\\praias_wikipedia_raw.csv').drop('Unnamed: 0', axis=1)"
   ]
  },
  {
   "cell_type": "code",
   "execution_count": 20,
   "metadata": {},
   "outputs": [],
   "source": [
    "foursquare  = pd.read_csv('\\\\Users\\luisr\\Desktop\\Repository\\IBM_courses\\Course Work\\Assignments\\\\rio dataframes\\\\Initial Data\\\\praias_foursquare.csv').drop('Unnamed: 0', axis=1)"
   ]
  },
  {
   "cell_type": "code",
   "execution_count": 225,
   "metadata": {},
   "outputs": [],
   "source": [
    "wiki_coords1 = pd.read_csv('\\\\Users\\luisr\\Desktop\\Repository\\IBM_courses\\Course Work\\Assignments\\\\rio dataframes\\\\Initial Data\\\\praias\\\\wiki_coords_bairro+praia.csv').drop('Unnamed: 0', axis=1)"
   ]
  },
  {
   "cell_type": "markdown",
   "metadata": {},
   "source": []
  },
  {
   "cell_type": "code",
   "execution_count": null,
   "metadata": {},
   "outputs": [],
   "source": []
  },
  {
   "cell_type": "code",
   "execution_count": null,
   "metadata": {},
   "outputs": [],
   "source": [
    "armazem"
   ]
  },
  {
   "cell_type": "code",
   "execution_count": null,
   "metadata": {},
   "outputs": [],
   "source": [
    "wiki"
   ]
  },
  {
   "cell_type": "code",
   "execution_count": null,
   "metadata": {},
   "outputs": [],
   "source": [
    "foursquare"
   ]
  },
  {
   "cell_type": "markdown",
   "metadata": {},
   "source": [
    "# Requesting Armazeninho Coords"
   ]
  },
  {
   "cell_type": "code",
   "execution_count": null,
   "metadata": {},
   "outputs": [],
   "source": [
    "armazem_coords = frame_coords(armazem['beach']+', RJ')"
   ]
  },
  {
   "cell_type": "code",
   "execution_count": 31,
   "metadata": {},
   "outputs": [],
   "source": [
    "armazem_fail = ['Gaegos, RJ', 'Pelônias, RJ', 'Intendente Bittencourt, RJ', 'Saco do Pinhão, RJ', 'Pintor Castanheto, RJ', 'Dona Luiza ou Recôncavo, RJ', 'Barra de Guaratiba/Canto, RJ', 'Gávea ou Pepino, RJ', 'Grumari/Abricó, RJ', 'Pequena/Do Meio, RJ', 'Funda/Inferno, RJ']"
   ]
  },
  {
   "cell_type": "code",
   "execution_count": null,
   "metadata": {},
   "outputs": [],
   "source": [
    "armaz"
   ]
  },
  {
   "cell_type": "markdown",
   "metadata": {},
   "source": [
    "plot_map(armazen_coords)"
   ]
  },
  {
   "cell_type": "markdown",
   "metadata": {},
   "source": [
    "# Filtering Armazeninho Coords"
   ]
  },
  {
   "cell_type": "code",
   "execution_count": null,
   "metadata": {},
   "outputs": [],
   "source": [
    "armazen_coords.plot(kind='scatter', x='lng', y='lat')"
   ]
  },
  {
   "cell_type": "code",
   "execution_count": null,
   "metadata": {},
   "outputs": [],
   "source": [
    "armazen_coords[armazen_coords['lat'] < -22.75][armazen_coords['lat'] > -23.1][armazen_coords['lng'] < -43.15].plot(kind='scatter', x='lng', y='lat')\n",
    "plt.grid()"
   ]
  },
  {
   "cell_type": "code",
   "execution_count": null,
   "metadata": {},
   "outputs": [],
   "source": [
    "armazem_filtered = armazen_coords[armazen_coords['lat'] < -22.75]\n",
    "armazem_filtered = armazem_filtered[armazem_filtered['lat'] > -23.1]\n",
    "armazem_filtered = armazem_filtered[armazem_filtered['lng'] < -43.15]\n",
    "armazem_filtered = armazem_filtered[armazem_filtered['lng'] > -43.75]"
   ]
  },
  {
   "cell_type": "code",
   "execution_count": null,
   "metadata": {},
   "outputs": [],
   "source": [
    "plot_map(armazem_filtered)"
   ]
  },
  {
   "cell_type": "code",
   "execution_count": null,
   "metadata": {},
   "outputs": [],
   "source": [
    "len(armazem_filtered)"
   ]
  },
  {
   "cell_type": "markdown",
   "metadata": {},
   "source": [
    "### Saving/Loading armazeninho filtered 1"
   ]
  },
  {
   "cell_type": "code",
   "execution_count": 67,
   "metadata": {},
   "outputs": [],
   "source": [
    "armazem_filtered.to_csv('\\\\Users\\luisr\\Desktop\\Repository\\IBM_courses\\Course Work\\Assignments\\\\rio dataframes\\\\Initial Data\\\\praias\\\\armazem_praias_filtered1.csv')"
   ]
  },
  {
   "cell_type": "code",
   "execution_count": 68,
   "metadata": {},
   "outputs": [],
   "source": [
    "armazem_filtered1 = pd.read_csv('\\\\Users\\luisr\\Desktop\\Repository\\IBM_courses\\Course Work\\Assignments\\\\rio dataframes\\\\Initial Data\\\\praias\\\\armazem_praias_filtered1.csv')"
   ]
  },
  {
   "cell_type": "code",
   "execution_count": null,
   "metadata": {},
   "outputs": [],
   "source": []
  },
  {
   "cell_type": "markdown",
   "metadata": {},
   "source": [
    "# Foursquare Beaches: Manually Filtering"
   ]
  },
  {
   "cell_type": "code",
   "execution_count": null,
   "metadata": {},
   "outputs": [],
   "source": [
    "foursquare"
   ]
  },
  {
   "cell_type": "code",
   "execution_count": null,
   "metadata": {},
   "outputs": [],
   "source": [
    "plot_map(foursquare)"
   ]
  },
  {
   "cell_type": "code",
   "execution_count": null,
   "metadata": {},
   "outputs": [],
   "source": [
    "foursquare_filt1 = foursquare[foursquare['name'].str.contains('praia', case=False)]"
   ]
  },
  {
   "cell_type": "code",
   "execution_count": null,
   "metadata": {},
   "outputs": [],
   "source": [
    "plot_map(foursquare_filt1 )"
   ]
  },
  {
   "cell_type": "code",
   "execution_count": null,
   "metadata": {},
   "outputs": [],
   "source": [
    "foursquare_out = ['Praia De Ipanema', 'Praia Privativa', 'Praia Dona Luíza', 'Pôr do Sol na Praia da Reserva', 'Praia da Gigóia', 'Trilha das Praias da Ponta de Guaratiba', 'Praia do Inferno', 'Praia 2', 'Praia 3', 'Praia dos Nogueira', 'Praia do Secreto', 'praia pontal', 'Ponta da Praia', 'Posto 12 / Praia', 'Praia do Recreio dos Bandeirantes', 'Balsa da Praia - Cidade Jardim', 'Praia do Alfa Barra', 'Um super cantinho de praia', 'Escritorio Da Praia', 'Praia', 'Praia Linda', 'Praia - Barraca Do Zacarias', 'Praia Jardim Oceânico', 'Praia da Barra Posto 2/3', 'Praia De Copa Em Frente A Xavier', 'Praia Laranjeira', 'Praia Grande - Fortaleza de São João', 'Praias', 'Praia Do Flamengo Calango Beach Tennis', 'Praia Do Chiclete', 'Praia de Ponta Negra', 'Praia do Zumbi', 'Praia Congonhas do Campo', 'Praia da Freguesia', 'Praia da Guarda']"
   ]
  },
  {
   "cell_type": "code",
   "execution_count": null,
   "metadata": {},
   "outputs": [],
   "source": [
    "in_names = [i in foursquare_filt1['name'].values for i in foursquare_out]"
   ]
  },
  {
   "cell_type": "code",
   "execution_count": null,
   "metadata": {},
   "outputs": [],
   "source": [
    "sum(in_names), len(foursquare_out)"
   ]
  },
  {
   "cell_type": "code",
   "execution_count": 163,
   "metadata": {},
   "outputs": [],
   "source": [
    "foursquare_filt2 = foursquare_filt1[~foursquare_filt1['name'].isin(foursquare_out)]"
   ]
  },
  {
   "cell_type": "markdown",
   "metadata": {},
   "source": [
    "### Saving Loading Foursquare Beaches Final"
   ]
  },
  {
   "cell_type": "code",
   "execution_count": 170,
   "metadata": {},
   "outputs": [],
   "source": [
    "#foursquare_filt2.to_csv('\\\\Users\\luisr\\Desktop\\Repository\\IBM_courses\\Course Work\\Assignments\\\\rio dataframes\\\\Initial Data\\\\praias\\\\praias_foursquare_final.csv')"
   ]
  },
  {
   "cell_type": "code",
   "execution_count": 13,
   "metadata": {},
   "outputs": [],
   "source": [
    "fr_sqr = pd.read_csv('\\\\Users\\luisr\\Desktop\\Repository\\IBM_courses\\Course Work\\Assignments\\\\rio dataframes\\\\Initial Data\\\\praias\\\\praias_foursquare_final.csv').drop('Unnamed: 0', axis=1)"
   ]
  },
  {
   "cell_type": "code",
   "execution_count": 14,
   "metadata": {},
   "outputs": [
    {
     "data": {
      "text/html": [
       "<div style=\"width:100%;\"><div style=\"position:relative;width:100%;height:0;padding-bottom:60%;\"><span style=\"color:#565656\">Make this Notebook Trusted to load map: File -> Trust Notebook</span><iframe src=\"about:blank\" style=\"position:absolute;width:100%;height:100%;left:0;top:0;border:none !important;\" data-html=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 onload=\"this.contentDocument.open();this.contentDocument.write(atob(this.getAttribute('data-html')));this.contentDocument.close();\" allowfullscreen webkitallowfullscreen mozallowfullscreen></iframe></div></div>"
      ],
      "text/plain": [
       "<folium.folium.Map at 0x14cc332ad00>"
      ]
     },
     "execution_count": 14,
     "metadata": {},
     "output_type": "execute_result"
    }
   ],
   "source": [
    "plot_map(fr_sqr)"
   ]
  },
  {
   "cell_type": "markdown",
   "metadata": {},
   "source": [
    "## Foursquare Result Comparing\n"
   ]
  },
  {
   "cell_type": "code",
   "execution_count": null,
   "metadata": {},
   "outputs": [],
   "source": [
    "fr_sqr.head()"
   ]
  },
  {
   "cell_type": "code",
   "execution_count": null,
   "metadata": {},
   "outputs": [],
   "source": [
    "armazem.head()"
   ]
  },
  {
   "cell_type": "code",
   "execution_count": 190,
   "metadata": {},
   "outputs": [],
   "source": [
    "contains_arm = []\n",
    "for beach in armazem.beach:\n",
    "    \n",
    "    contains_arm.append(bool(sum(fr_sqr.name.str.contains(beach, case=False))))"
   ]
  },
  {
   "cell_type": "code",
   "execution_count": null,
   "metadata": {},
   "outputs": [],
   "source": [
    "len(armazem[contains_arm]), len(fr_sqr)"
   ]
  },
  {
   "cell_type": "code",
   "execution_count": null,
   "metadata": {},
   "outputs": [],
   "source": []
  },
  {
   "cell_type": "code",
   "execution_count": 192,
   "metadata": {},
   "outputs": [],
   "source": [
    "contains_wiki = []\n",
    "for beach in wiki.beach:\n",
    "    \n",
    "    contains_wiki.append(bool(sum(fr_sqr.name.str.contains(beach, case=False))))"
   ]
  },
  {
   "cell_type": "code",
   "execution_count": null,
   "metadata": {},
   "outputs": [],
   "source": [
    "len(wiki[contains_wiki]), len(fr_sqr)"
   ]
  },
  {
   "cell_type": "code",
   "execution_count": null,
   "metadata": {},
   "outputs": [],
   "source": [
    "armazem[[(not i) for i in contains_arm]].head()"
   ]
  },
  {
   "cell_type": "code",
   "execution_count": null,
   "metadata": {},
   "outputs": [],
   "source": [
    "len(wiki[[not i for i in contains_wiki]])"
   ]
  },
  {
   "cell_type": "markdown",
   "metadata": {},
   "source": [
    "# Wikipedia Beach Search Filtering"
   ]
  },
  {
   "cell_type": "code",
   "execution_count": 227,
   "metadata": {},
   "outputs": [
    {
     "data": {
      "text/plain": [
       "65"
      ]
     },
     "execution_count": 227,
     "metadata": {},
     "output_type": "execute_result"
    }
   ],
   "source": [
    "len(wiki_coords1)"
   ]
  },
  {
   "cell_type": "markdown",
   "metadata": {},
   "source": [
    "### Filtering result 1"
   ]
  },
  {
   "cell_type": "code",
   "execution_count": 240,
   "metadata": {},
   "outputs": [
    {
     "data": {
      "text/plain": [
       "<matplotlib.axes._subplots.AxesSubplot at 0x2613ded90d0>"
      ]
     },
     "execution_count": 240,
     "metadata": {},
     "output_type": "execute_result"
    },
    {
     "data": {
      "image/png": "[encoded data removed]",
      "text/plain": [
       "<Figure size 432x288 with 1 Axes>"
      ]
     },
     "metadata": {
      "needs_background": "light"
     },
     "output_type": "display_data"
    }
   ],
   "source": [
    "wiki_coords1.plot(kind='scatter', x='lng', y='lat', color='green')"
   ]
  },
  {
   "cell_type": "code",
   "execution_count": 257,
   "metadata": {},
   "outputs": [
    {
     "data": {
      "text/plain": [
       "<matplotlib.axes._subplots.AxesSubplot at 0x2613e163160>"
      ]
     },
     "execution_count": 257,
     "metadata": {},
     "output_type": "execute_result"
    },
    {
     "data": {
      "image/png": "[encoded data removed]",
      "text/plain": [
       "<Figure size 432x288 with 1 Axes>"
      ]
     },
     "metadata": {
      "needs_background": "light"
     },
     "output_type": "display_data"
    }
   ],
   "source": [
    "wiki_coords1[(wiki_coords1['lat']<-22.4) & (wiki_coords1['lat']>-23.4)].plot(kind='scatter', x='lng', y='lat', color='orange')"
   ]
  },
  {
   "cell_type": "markdown",
   "metadata": {},
   "source": [
    "#### Extracting Good Results"
   ]
  },
  {
   "cell_type": "code",
   "execution_count": 248,
   "metadata": {},
   "outputs": [],
   "source": [
    "wiki_coords1_filt = wiki_coords1[(wiki_coords1['lat']<-22.4) & (wiki_coords1['lat']>-23.4)]"
   ]
  },
  {
   "cell_type": "code",
   "execution_count": null,
   "metadata": {},
   "outputs": [],
   "source": [
    "wiki_coords1_filt"
   ]
  },
  {
   "cell_type": "markdown",
   "metadata": {},
   "source": [
    "#### Extracting bad Results\n"
   ]
  },
  {
   "cell_type": "code",
   "execution_count": 266,
   "metadata": {},
   "outputs": [],
   "source": [
    "fail1 = wiki_coords1[(wiki_coords1['lat']>-22.4) & (wiki_coords1['lat']<-23.4)]"
   ]
  },
  {
   "cell_type": "code",
   "execution_count": 272,
   "metadata": {},
   "outputs": [],
   "source": [
    "fail1 = wiki_coords1[~wiki_coords1['beach'].isin(wiki_coords1_filt['beach'])]['beach'].tolist()"
   ]
  },
  {
   "cell_type": "code",
   "execution_count": 273,
   "metadata": {},
   "outputs": [
    {
     "data": {
      "text/plain": [
       "14"
      ]
     },
     "execution_count": 273,
     "metadata": {},
     "output_type": "execute_result"
    }
   ],
   "source": [
    "len(fail1)"
   ]
  },
  {
   "cell_type": "markdown",
   "metadata": {},
   "source": [
    "### Treating failed searches: 1"
   ]
  },
  {
   "cell_type": "code",
   "execution_count": 228,
   "metadata": {},
   "outputs": [],
   "source": [
    "fail = ['Paquetá, Coqueiro', 'Paquetá, Coqueiros / Pintor Castagneto', 'Paquetá, Frades / Manoel Luiz', 'Paquetá, Gaivotas / Ribeira', 'Paquetá, Lameirão / Freire Júnior', 'Paquetá, Moreninha / Comprida / Dr. Aristão', 'Paquetá, Veloso', 'Bancários, Congonhas do Campo / Barão', 'Cacuia, Alentejo', 'Cacuia, Brava', 'Cacuia, Golfinho', 'Cidade Universitária, Amendoeira', 'Cidade Universitária, Duas Irmãs', 'Cidade Universitária, Polvo', 'Cidade Universitária, Varanda', 'Cidade Universitária, Velho Navio', 'Freguesia, Flamboyants', 'Freguesia, Guanabara / Freguesia', 'Freguesia, Pelônias', 'Freguesia, Saco do Pinhão', 'Galeão, Gaegos', 'Jardim Guanabara, Engenho Velho / Quebra-Coco', 'Ramos/Maré, Ramos', 'Barra da Tijuca, Barra da Tijuca', 'Barra de Guaratiba, Barra de Guaratiba', 'Barra de Guaratiba, Canto', 'Guaratiba, Brisa / Aterro', 'Grumari, Perigoso', 'Pedra de Guaratiba, Capela', 'Pedra de Guaratiba, Venda Grande', 'Sepetiba, Recôncavo / Dona Luiza', 'Copacabana, Prainha do Forte de Copacabana', 'Leme, Anel']"
   ]
  },
  {
   "cell_type": "code",
   "execution_count": 274,
   "metadata": {},
   "outputs": [
    {
     "data": {
      "text/plain": [
       "['Paquetá, Cidade',\n",
       " 'Cidade Universitária, Coqueiros',\n",
       " 'Cidade Universitária, Grande',\n",
       " 'Freguesia, Grande',\n",
       " 'Freguesia, Moça',\n",
       " 'Galeão, Galeão',\n",
       " 'Pitangueiras, Pitangueiras',\n",
       " 'Ribeira, Ribeira',\n",
       " 'Zumbi, Zumbi',\n",
       " 'Copacabana, Copacabana',\n",
       " 'Ipanema, Ipanema',\n",
       " 'Leblon, Leblon',\n",
       " 'Leme, Leme',\n",
       " 'Urca, Urca']"
      ]
     },
     "execution_count": 274,
     "metadata": {},
     "output_type": "execute_result"
    }
   ],
   "source": [
    "fail1"
   ]
  },
  {
   "cell_type": "code",
   "execution_count": 284,
   "metadata": {},
   "outputs": [],
   "source": [
    "com_barra = [i for i in fail if '/' in i]\n",
    "sem_barra = [i for i in fail if '/' not in i]"
   ]
  },
  {
   "cell_type": "markdown",
   "metadata": {},
   "source": [
    "#### Com Barra"
   ]
  },
  {
   "cell_type": "code",
   "execution_count": 278,
   "metadata": {},
   "outputs": [
    {
     "name": "stdout",
     "output_type": "stream",
     "text": [
      "Appended: 1 Attempts: 1\n",
      "Fail: Bancários, Congonhas do Campo\n",
      "Fail: Jardim Guanabara, Engenho Velho\n",
      "Fail: Ramos/Maré, Ramos\n",
      "Appended: 6 Attempts: 9\n",
      "Fail List:  ['Bancários, Congonhas do Campo', 'Jardim Guanabara, Engenho Velho', 'Ramos/Maré, Ramos']\n",
      "Completed\n"
     ]
    }
   ],
   "source": [
    "com_barra1 = frame_coords([i.split(' / ')[0] for i in com_barra])"
   ]
  },
  {
   "cell_type": "code",
   "execution_count": 279,
   "metadata": {},
   "outputs": [],
   "source": [
    "com_barra1.drop(5, axis=0, inplace=True)"
   ]
  },
  {
   "cell_type": "markdown",
   "metadata": {},
   "source": [
    "plot_map(com_barra1)"
   ]
  },
  {
   "cell_type": "code",
   "execution_count": 281,
   "metadata": {},
   "outputs": [],
   "source": [
    "full_wiki = pd.concat([wiki_coords1_filt, com_barra1], axis=0)"
   ]
  },
  {
   "cell_type": "code",
   "execution_count": 282,
   "metadata": {},
   "outputs": [],
   "source": [
    "#full_wiki.to_csv('\\\\Users\\luisr\\Desktop\\Repository\\IBM_courses\\Course Work\\Assignments\\\\rio dataframes\\\\Initial Data\\\\praias\\\\full_wiki1.csv')"
   ]
  },
  {
   "cell_type": "code",
   "execution_count": null,
   "metadata": {},
   "outputs": [],
   "source": []
  },
  {
   "cell_type": "code",
   "execution_count": 286,
   "metadata": {},
   "outputs": [
    {
     "data": {
      "text/plain": [
       "['Paquetá, Coqueiros / Pintor Castagneto',\n",
       " 'Paquetá, Frades / Manoel Luiz',\n",
       " 'Paquetá, Gaivotas / Ribeira',\n",
       " 'Paquetá, Lameirão / Freire Júnior',\n",
       " 'Paquetá, Moreninha / Comprida / Dr. Aristão',\n",
       " 'Bancários, Congonhas do Campo / Barão',\n",
       " 'Freguesia, Guanabara / Freguesia',\n",
       " 'Jardim Guanabara, Engenho Velho / Quebra-Coco',\n",
       " 'Ramos/Maré, Ramos',\n",
       " 'Guaratiba, Brisa / Aterro',\n",
       " 'Sepetiba, Recôncavo / Dona Luiza']"
      ]
     },
     "execution_count": 286,
     "metadata": {},
     "output_type": "execute_result"
    }
   ],
   "source": [
    "com_barra"
   ]
  },
  {
   "cell_type": "code",
   "execution_count": 288,
   "metadata": {},
   "outputs": [],
   "source": [
    "com_barra_fail = ['Bancários, Congonhas do Campo / Barão', 'Jardim Guanabara, Engenho Velho / Quebra-Coco', 'Ramos / Maré, Ramos', 'Freguesia, Guanabara / Freguesia']"
   ]
  },
  {
   "cell_type": "code",
   "execution_count": 289,
   "metadata": {},
   "outputs": [
    {
     "name": "stdout",
     "output_type": "stream",
     "text": [
      "Appended: 1 Attempts: 1\n",
      "Fail List:  []\n",
      "Completed\n"
     ]
    }
   ],
   "source": [
    "com_barra2 = frame_coords([i.split(' / ')[1] for i in com_barra_fail])"
   ]
  },
  {
   "cell_type": "code",
   "execution_count": null,
   "metadata": {},
   "outputs": [],
   "source": [
    "plot_map(com_barra2)"
   ]
  },
  {
   "cell_type": "code",
   "execution_count": 294,
   "metadata": {},
   "outputs": [
    {
     "data": {
      "text/plain": [
       "venue    Maré, Ramos\n",
       "lat         -22.8398\n",
       "lng         -43.2515\n",
       "Name: 2, dtype: object"
      ]
     },
     "execution_count": 294,
     "metadata": {},
     "output_type": "execute_result"
    }
   ],
   "source": [
    "com_barra2.loc[2]"
   ]
  },
  {
   "cell_type": "code",
   "execution_count": null,
   "metadata": {},
   "outputs": [],
   "source": []
  },
  {
   "cell_type": "code",
   "execution_count": 295,
   "metadata": {},
   "outputs": [],
   "source": [
    "com_barra_fail2 = ['Bancários, Congonhas do Campo / Barão', 'Jardim Guanabara, Engenho Velho / Quebra-Coco', 'Freguesia, Guanabara / Freguesia']"
   ]
  },
  {
   "cell_type": "code",
   "execution_count": 302,
   "metadata": {},
   "outputs": [
    {
     "data": {
      "text/plain": [
       "['Bancários, Barão', 'Jardim Guanabara, Quebra-Coco', 'Freguesia, Freguesia']"
      ]
     },
     "execution_count": 302,
     "metadata": {},
     "output_type": "execute_result"
    }
   ],
   "source": [
    "[i.split(', ')[0]+', '+i.split('/ ')[-1] for i in com_barra_fail2]"
   ]
  },
  {
   "cell_type": "code",
   "execution_count": 303,
   "metadata": {},
   "outputs": [
    {
     "name": "stdout",
     "output_type": "stream",
     "text": [
      "Appended: 1 Attempts: 1\n",
      "Fail List:  []\n",
      "Completed\n"
     ]
    }
   ],
   "source": [
    "com_barra3 = frame_coords([i.split(', ')[0]+', '+i.split('/ ')[-1] for i in com_barra_fail2])"
   ]
  },
  {
   "cell_type": "code",
   "execution_count": 309,
   "metadata": {},
   "outputs": [
    {
     "data": {
      "text/plain": [
       "venue    Jardim Guanabara, Quebra-Coco\n",
       "lat                           -22.8155\n",
       "lng                           -43.2112\n",
       "Name: 1, dtype: object"
      ]
     },
     "execution_count": 309,
     "metadata": {},
     "output_type": "execute_result"
    }
   ],
   "source": [
    "com_barra3.loc[1]"
   ]
  },
  {
   "cell_type": "code",
   "execution_count": null,
   "metadata": {},
   "outputs": [],
   "source": []
  },
  {
   "cell_type": "code",
   "execution_count": null,
   "metadata": {},
   "outputs": [],
   "source": []
  },
  {
   "cell_type": "code",
   "execution_count": null,
   "metadata": {},
   "outputs": [],
   "source": []
  },
  {
   "cell_type": "markdown",
   "metadata": {},
   "source": [
    "#### Sem barra"
   ]
  },
  {
   "cell_type": "code",
   "execution_count": null,
   "metadata": {},
   "outputs": [],
   "source": [
    "sem_barra1 = sem_barra = fail1 + com_barra_fail"
   ]
  }
 ],
 "metadata": {
  "kernelspec": {
   "display_name": "Python 3",
   "language": "python",
   "name": "python3"
  },
  "language_info": {
   "codemirror_mode": {
    "name": "ipython",
    "version": 3
   },
   "file_extension": ".py",
   "mimetype": "text/x-python",
   "name": "python",
   "nbconvert_exporter": "python",
   "pygments_lexer": "ipython3",
   "version": "3.8.3"
  }
 },
 "nbformat": 4,
 "nbformat_minor": 4
}
