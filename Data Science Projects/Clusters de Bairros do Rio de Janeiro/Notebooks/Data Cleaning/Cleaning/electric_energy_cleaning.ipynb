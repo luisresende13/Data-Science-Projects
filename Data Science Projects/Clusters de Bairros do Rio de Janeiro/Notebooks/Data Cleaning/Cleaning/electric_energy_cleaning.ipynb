{
 "cells": [
  {
   "cell_type": "code",
   "execution_count": 2,
   "metadata": {},
   "outputs": [],
   "source": [
    "import pandas as pd\n",
    "import numpy as np\n",
    "import matplotlib.pyplot as plt\n",
    "import seaborn as sns\n",
    "import re"
   ]
  },
  {
   "cell_type": "code",
   "execution_count": 153,
   "metadata": {},
   "outputs": [],
   "source": [
    "pd.set_option('display.max_rows', None)"
   ]
  },
  {
   "cell_type": "code",
   "execution_count": 31,
   "metadata": {},
   "outputs": [],
   "source": [
    "def is_not_in(dfs, keys=[str(i) for i in range(2002,2019)]):\n",
    "\n",
    "    unis = [dfs[i].iloc[:,0].unique() for i in keys]\n",
    "\n",
    "    not_in = []\n",
    "    for i in range(len(keys)):\n",
    "        for j in range(len(keys)):\n",
    "        \n",
    "            if i!=j:\n",
    "            \n",
    "                not_in.append([i, j, unis[i][[str(o).lower().strip().replace('á','a')\n",
    "                                              .replace('é','e')\n",
    "                                              .replace('í','i')\n",
    "                                              .replace('ó','o')\n",
    "                                              .replace('ú','u') not in [str(l).lower().strip().replace('á','a')\n",
    "                                                                         .replace('é','e')\n",
    "                                                                         .replace('í','i')\n",
    "                                                                         .replace('ó','o')\n",
    "                                                                         .replace('ú','u') for l in unis[j].tolist()] for o in unis[i].tolist()]]])\n",
    "\n",
    "    return not_in\n",
    "            "
   ]
  },
  {
   "cell_type": "code",
   "execution_count": null,
   "metadata": {},
   "outputs": [],
   "source": []
  },
  {
   "cell_type": "code",
   "execution_count": 187,
   "metadata": {},
   "outputs": [],
   "source": [
    "energia1 = pd.read_excel('\\\\Users\\luisr\\Desktop\\Repository\\IBM_courses\\Course Work\\Assignments\\Final Capstone Project\\\\rio dataframes\\\\Outside Data\\\\raw\\\\bairros\\\\infraestrutura\\\\energia.xls', None)"
   ]
  },
  {
   "cell_type": "code",
   "execution_count": 188,
   "metadata": {},
   "outputs": [
    {
     "data": {
      "text/plain": [
       "dict_keys(['2002', '2003', '2004', '2005', '2006', '2007', '2008', '2009', '2010', '2011', '2012', '2013', '2014', '2015', '2016', '2017', '2018', '10 - classes de consumo', 'ESRI_MAPINFO_SHEET'])"
      ]
     },
     "execution_count": 188,
     "metadata": {},
     "output_type": "execute_result"
    }
   ],
   "source": [
    "energia1.keys()"
   ]
  },
  {
   "cell_type": "code",
   "execution_count": 189,
   "metadata": {},
   "outputs": [],
   "source": [
    "keys = list(energia1.keys())[:-2]"
   ]
  },
  {
   "cell_type": "markdown",
   "metadata": {},
   "source": [
    "# Energy 1:"
   ]
  },
  {
   "cell_type": "code",
   "execution_count": 202,
   "metadata": {},
   "outputs": [
    {
     "data": {
      "text/plain": [
       "-1"
      ]
     },
     "execution_count": 202,
     "metadata": {},
     "output_type": "execute_result"
    }
   ],
   "source": [
    "i=-1\n",
    "\n",
    "i"
   ]
  },
  {
   "cell_type": "markdown",
   "metadata": {},
   "source": [
    "##### Tail:\n",
    "0: 26\n",
    "...\n",
    "13: 28\n",
    "..."
   ]
  },
  {
   "cell_type": "code",
   "execution_count": 224,
   "metadata": {},
   "outputs": [
    {
     "name": "stdout",
     "output_type": "stream",
     "text": [
      "17\n"
     ]
    },
    {
     "ename": "IndexError",
     "evalue": "list index out of range",
     "output_type": "error",
     "traceback": [
      "\u001b[1;31m---------------------------------------------------------------------------\u001b[0m",
      "\u001b[1;31mIndexError\u001b[0m                                Traceback (most recent call last)",
      "\u001b[1;32m<ipython-input-224-11e380e600ab>\u001b[0m in \u001b[0;36m<module>\u001b[1;34m\u001b[0m\n\u001b[0;32m      1\u001b[0m \u001b[0mi\u001b[0m\u001b[1;33m+=\u001b[0m\u001b[1;36m1\u001b[0m\u001b[1;33m\u001b[0m\u001b[1;33m\u001b[0m\u001b[0m\n\u001b[0;32m      2\u001b[0m \u001b[0mprint\u001b[0m\u001b[1;33m(\u001b[0m\u001b[0mi\u001b[0m\u001b[1;33m)\u001b[0m\u001b[1;33m\u001b[0m\u001b[1;33m\u001b[0m\u001b[0m\n\u001b[1;32m----> 3\u001b[1;33m \u001b[0menergia1\u001b[0m\u001b[1;33m[\u001b[0m\u001b[0mkeys\u001b[0m\u001b[1;33m[\u001b[0m\u001b[0mi\u001b[0m\u001b[1;33m]\u001b[0m\u001b[1;33m]\u001b[0m\u001b[1;33m.\u001b[0m\u001b[0mhead\u001b[0m\u001b[1;33m(\u001b[0m\u001b[1;36m20\u001b[0m\u001b[1;33m)\u001b[0m\u001b[1;33m\u001b[0m\u001b[1;33m\u001b[0m\u001b[0m\n\u001b[0m",
      "\u001b[1;31mIndexError\u001b[0m: list index out of range"
     ]
    }
   ],
   "source": [
    "i+=1\n",
    "print(i)\n",
    "energia1[keys[i]].head(20)\n"
   ]
  },
  {
   "cell_type": "code",
   "execution_count": 11,
   "metadata": {},
   "outputs": [],
   "source": [
    "df0 = energia1[keys[0]].copy()"
   ]
  },
  {
   "cell_type": "code",
   "execution_count": 12,
   "metadata": {},
   "outputs": [],
   "source": [
    "cols = df0.iloc[4, 0:2].tolist() + df0.iloc[6, 2:].tolist()"
   ]
  },
  {
   "cell_type": "code",
   "execution_count": 13,
   "metadata": {},
   "outputs": [],
   "source": [
    "cols = [i. replace(' (1)', '') for i in cols]"
   ]
  },
  {
   "cell_type": "code",
   "execution_count": 14,
   "metadata": {},
   "outputs": [
    {
     "data": {
      "text/plain": [
       "['Áreas de Planejamento,Regiões de Planejamento, Regiões Administrativas e bairros',\n",
       " 'Consumo de energia elétrica (MWh)',\n",
       " 'Residencial',\n",
       " 'Industrial',\n",
       " 'Comercial',\n",
       " 'Rural',\n",
       " 'Poder público ',\n",
       " 'Iluminacão pública',\n",
       " 'Serv.público',\n",
       " 'Consumo próprio']"
      ]
     },
     "execution_count": 14,
     "metadata": {},
     "output_type": "execute_result"
    }
   ],
   "source": [
    "cols"
   ]
  },
  {
   "cell_type": "code",
   "execution_count": 15,
   "metadata": {},
   "outputs": [],
   "source": [
    "same_cols = []\n",
    "\n",
    "for i in range(len(keys)): \n",
    "    for j in range(len(keys)):\n",
    "        \n",
    "        if i!=j:\n",
    "            cols_i = energia1[keys[i]].iloc[4, 0:2].tolist() + energia1[keys[i]].iloc[6, 2:].tolist()\n",
    "            cols_j = energia1[keys[j]].iloc[4, 0:2].tolist() + energia1[keys[j]].iloc[6, 2:].tolist()\n",
    "        \n",
    "            same_cols.append(sum(u!=t for u, t in zip(cols_i, cols_j)))\n",
    "        "
   ]
  },
  {
   "cell_type": "code",
   "execution_count": 16,
   "metadata": {},
   "outputs": [
    {
     "data": {
      "text/plain": [
       "44"
      ]
     },
     "execution_count": 16,
     "metadata": {},
     "output_type": "execute_result"
    }
   ],
   "source": [
    "sum(same_cols)"
   ]
  },
  {
   "cell_type": "code",
   "execution_count": null,
   "metadata": {},
   "outputs": [],
   "source": []
  },
  {
   "cell_type": "code",
   "execution_count": 17,
   "metadata": {},
   "outputs": [],
   "source": [
    "same_lentgh = []\n",
    "\n",
    "for i in range(len(keys)): \n",
    "    for j in range(len(keys)):\n",
    "        \n",
    "        if i!=j:\n",
    "            cols_i = len(energia1[keys[i]].columns)\n",
    "            cols_j = len(energia1[keys[j]].columns)\n",
    "            \n",
    "            same_lentgh.append(cols_i != cols_j)\n",
    "        "
   ]
  },
  {
   "cell_type": "code",
   "execution_count": 18,
   "metadata": {},
   "outputs": [
    {
     "data": {
      "text/plain": [
       "134"
      ]
     },
     "execution_count": 18,
     "metadata": {},
     "output_type": "execute_result"
    }
   ],
   "source": [
    "sum(same_lentgh)"
   ]
  },
  {
   "cell_type": "code",
   "execution_count": null,
   "metadata": {},
   "outputs": [],
   "source": []
  },
  {
   "cell_type": "code",
   "execution_count": null,
   "metadata": {},
   "outputs": [],
   "source": []
  },
  {
   "cell_type": "code",
   "execution_count": 19,
   "metadata": {},
   "outputs": [],
   "source": [
    "for i in range(len(keys)):\n",
    "    \n",
    "    if i < 12:\n",
    "        energia1[keys[i]] = energia1[keys[i]].head(-26).tail(-8).iloc[:, :10]\n",
    "        energia1[keys[i]].columns = cols\n",
    "    \n",
    "    else:\n",
    "        energia1[keys[i]] = energia1[keys[i]].head(-28).tail(-8) .iloc[:, :10]\n",
    "        energia1[keys[i]].columns = cols"
   ]
  },
  {
   "cell_type": "code",
   "execution_count": 20,
   "metadata": {},
   "outputs": [],
   "source": [
    "i=-1"
   ]
  },
  {
   "cell_type": "code",
   "execution_count": null,
   "metadata": {},
   "outputs": [],
   "source": [
    "i-=1\n",
    "energia1[keys[i]].tail()"
   ]
  },
  {
   "cell_type": "code",
   "execution_count": 23,
   "metadata": {},
   "outputs": [
    {
     "ename": "AttributeError",
     "evalue": "'dict' object has no attribute 'head'",
     "output_type": "error",
     "traceback": [
      "\u001b[1;31m---------------------------------------------------------------------------\u001b[0m",
      "\u001b[1;31mAttributeError\u001b[0m                            Traceback (most recent call last)",
      "\u001b[1;32m<ipython-input-23-fc248d1313d2>\u001b[0m in \u001b[0;36m<module>\u001b[1;34m\u001b[0m\n\u001b[1;32m----> 1\u001b[1;33m \u001b[0menergia1\u001b[0m\u001b[1;33m.\u001b[0m\u001b[0mhead\u001b[0m\u001b[1;33m(\u001b[0m\u001b[1;33m)\u001b[0m\u001b[1;33m\u001b[0m\u001b[1;33m\u001b[0m\u001b[0m\n\u001b[0m",
      "\u001b[1;31mAttributeError\u001b[0m: 'dict' object has no attribute 'head'"
     ]
    }
   ],
   "source": [
    "energia1.head()"
   ]
  },
  {
   "cell_type": "markdown",
   "metadata": {},
   "source": [
    "# Saving Loading Checkpoint"
   ]
  },
  {
   "cell_type": "code",
   "execution_count": 24,
   "metadata": {},
   "outputs": [],
   "source": [
    "energia1_copy = energia1.copy()"
   ]
  },
  {
   "cell_type": "code",
   "execution_count": 25,
   "metadata": {},
   "outputs": [],
   "source": [
    "energia1 = energia1_copy.copy()"
   ]
  },
  {
   "cell_type": "markdown",
   "metadata": {},
   "source": [
    "## Checking Neighborhoods Names:"
   ]
  },
  {
   "cell_type": "markdown",
   "metadata": {},
   "source": [
    "##### Column Name"
   ]
  },
  {
   "cell_type": "code",
   "execution_count": 26,
   "metadata": {},
   "outputs": [],
   "source": [
    "hood_col_name = energia1[keys[0]].columns[0]"
   ]
  },
  {
   "cell_type": "code",
   "execution_count": 27,
   "metadata": {},
   "outputs": [
    {
     "data": {
      "text/plain": [
       "'Áreas de Planejamento,Regiões de Planejamento, Regiões Administrativas e bairros'"
      ]
     },
     "execution_count": 27,
     "metadata": {},
     "output_type": "execute_result"
    }
   ],
   "source": [
    "hood_col_name"
   ]
  },
  {
   "cell_type": "code",
   "execution_count": 28,
   "metadata": {},
   "outputs": [],
   "source": [
    "col_name_equal = []\n",
    "for i in range(len(keys)): \n",
    "    \n",
    "    col_name_equal.append(energia1[keys[i]].columns[0] != hood_col_name)  \n",
    "    \n",
    "    "
   ]
  },
  {
   "cell_type": "code",
   "execution_count": 29,
   "metadata": {},
   "outputs": [
    {
     "data": {
      "text/plain": [
       "0"
      ]
     },
     "execution_count": 29,
     "metadata": {},
     "output_type": "execute_result"
    }
   ],
   "source": [
    "sum(col_name_equal)"
   ]
  },
  {
   "cell_type": "markdown",
   "metadata": {},
   "source": [
    "##### Unique Neighborhoods Names:"
   ]
  },
  {
   "cell_type": "code",
   "execution_count": 32,
   "metadata": {},
   "outputs": [],
   "source": [
    "not_in = is_not_in(energia1)"
   ]
  },
  {
   "cell_type": "code",
   "execution_count": 33,
   "metadata": {},
   "outputs": [],
   "source": [
    "for key in keys:\n",
    "    \n",
    "    energia1[key] = energia1[key][~energia1[key][hood_col_name].isin(not_in[2][2])].copy()\n",
    "    energia1[key] = energia1[key][~energia1[key][hood_col_name].isin(not_in[48][2])].copy()"
   ]
  },
  {
   "cell_type": "code",
   "execution_count": 34,
   "metadata": {},
   "outputs": [],
   "source": [
    "energia1[keys[16]][hood_col_name][157] = 'Freguesia'"
   ]
  },
  {
   "cell_type": "markdown",
   "metadata": {},
   "source": [
    "###  Testing"
   ]
  },
  {
   "cell_type": "code",
   "execution_count": 35,
   "metadata": {},
   "outputs": [],
   "source": [
    "not_in = is_not_in(energia1)"
   ]
  },
  {
   "cell_type": "code",
   "execution_count": null,
   "metadata": {},
   "outputs": [],
   "source": [
    "not_in"
   ]
  },
  {
   "cell_type": "code",
   "execution_count": null,
   "metadata": {},
   "outputs": [],
   "source": [
    "for i in range(len(keys)): print(len(energia1[keys[i]]))"
   ]
  },
  {
   "cell_type": "markdown",
   "metadata": {},
   "source": [
    "### Merging Energy 1:"
   ]
  },
  {
   "cell_type": "code",
   "execution_count": 38,
   "metadata": {},
   "outputs": [],
   "source": [
    "\n",
    "for key in keys:\n",
    "    \n",
    "    energia1[key]['Ano'] = [int(key) for i in range(len(energia1[key]))]\n",
    "\n",
    "    cols = energia1[key].columns.tolist()[:]\n",
    "    new_cols = [cols[0]] + [cols[-1]] + cols[1:len(cols)-1]\n",
    "\n",
    "    energia1[key] = energia1[key][new_cols]"
   ]
  },
  {
   "cell_type": "code",
   "execution_count": 39,
   "metadata": {},
   "outputs": [],
   "source": [
    "energy1 = pd.concat([energia1[key] for key in keys], axis=0)"
   ]
  },
  {
   "cell_type": "code",
   "execution_count": 40,
   "metadata": {},
   "outputs": [
    {
     "data": {
      "text/plain": [
       "3174"
      ]
     },
     "execution_count": 40,
     "metadata": {},
     "output_type": "execute_result"
    }
   ],
   "source": [
    "len(energy1)"
   ]
  },
  {
   "cell_type": "code",
   "execution_count": 44,
   "metadata": {},
   "outputs": [
    {
     "name": "stdout",
     "output_type": "stream",
     "text": [
      "<class 'pandas.core.frame.DataFrame'>\n",
      "Int64Index: 3174 entries, 8 to 223\n",
      "Data columns (total 11 columns):\n",
      " #   Column                                                                            Non-Null Count  Dtype \n",
      "---  ------                                                                            --------------  ----- \n",
      " 0   Áreas de Planejamento,Regiões de Planejamento, Regiões Administrativas e bairros  3174 non-null   object\n",
      " 1   Ano                                                                               3174 non-null   int64 \n",
      " 2   Consumo de energia elétrica (MWh)                                                 3174 non-null   object\n",
      " 3   Residencial                                                                       3173 non-null   object\n",
      " 4   Industrial                                                                        3173 non-null   object\n",
      " 5   Comercial                                                                         3173 non-null   object\n",
      " 6   Rural                                                                             3173 non-null   object\n",
      " 7   Poder público                                                                     3173 non-null   object\n",
      " 8   Iluminacão pública                                                                3173 non-null   object\n",
      " 9   Serv.público                                                                      3173 non-null   object\n",
      " 10  Consumo próprio                                                                   3172 non-null   object\n",
      "dtypes: int64(1), object(10)\n",
      "memory usage: 297.6+ KB\n"
     ]
    }
   ],
   "source": []
  },
  {
   "cell_type": "code",
   "execution_count": 81,
   "metadata": {},
   "outputs": [
    {
     "data": {
      "text/html": [
       "<div>\n",
       "<style scoped>\n",
       "    .dataframe tbody tr th:only-of-type {\n",
       "        vertical-align: middle;\n",
       "    }\n",
       "\n",
       "    .dataframe tbody tr th {\n",
       "        vertical-align: top;\n",
       "    }\n",
       "\n",
       "    .dataframe thead th {\n",
       "        text-align: right;\n",
       "    }\n",
       "</style>\n",
       "<table border=\"1\" class=\"dataframe\">\n",
       "  <thead>\n",
       "    <tr style=\"text-align: right;\">\n",
       "      <th></th>\n",
       "      <th>Áreas de Planejamento,Regiões de Planejamento, Regiões Administrativas e bairros</th>\n",
       "      <th>Ano</th>\n",
       "      <th>Consumo de energia elétrica (MWh)</th>\n",
       "      <th>Residencial</th>\n",
       "      <th>Industrial</th>\n",
       "      <th>Comercial</th>\n",
       "      <th>Rural</th>\n",
       "      <th>Poder público</th>\n",
       "      <th>Iluminacão pública</th>\n",
       "      <th>Serv.público</th>\n",
       "      <th>Consumo próprio</th>\n",
       "    </tr>\n",
       "  </thead>\n",
       "  <tbody>\n",
       "    <tr>\n",
       "      <th>8</th>\n",
       "      <td>Total</td>\n",
       "      <td>2002</td>\n",
       "      <td>1.37391e+07</td>\n",
       "      <td>4.60319e+06</td>\n",
       "      <td>3.13345e+06</td>\n",
       "      <td>4.27251e+06</td>\n",
       "      <td>2343.64</td>\n",
       "      <td>941905</td>\n",
       "      <td>38902.6</td>\n",
       "      <td>689626</td>\n",
       "      <td>57122.8</td>\n",
       "    </tr>\n",
       "    <tr>\n",
       "      <th>9</th>\n",
       "      <td>Área de Planejamento 1</td>\n",
       "      <td>2002</td>\n",
       "      <td>2.0469e+06</td>\n",
       "      <td>186390</td>\n",
       "      <td>230907</td>\n",
       "      <td>1.13101e+06</td>\n",
       "      <td>0</td>\n",
       "      <td>297447</td>\n",
       "      <td>0</td>\n",
       "      <td>154883</td>\n",
       "      <td>46263</td>\n",
       "    </tr>\n",
       "    <tr>\n",
       "      <th>10</th>\n",
       "      <td>Região de Planejamento 1.1</td>\n",
       "      <td>2002</td>\n",
       "      <td>2.0469e+06</td>\n",
       "      <td>186390</td>\n",
       "      <td>230907</td>\n",
       "      <td>1.13101e+06</td>\n",
       "      <td>0</td>\n",
       "      <td>297447</td>\n",
       "      <td>0</td>\n",
       "      <td>154883</td>\n",
       "      <td>46263</td>\n",
       "    </tr>\n",
       "    <tr>\n",
       "      <th>12</th>\n",
       "      <td>Caju</td>\n",
       "      <td>2002</td>\n",
       "      <td>75960</td>\n",
       "      <td>7793.31</td>\n",
       "      <td>27173.1</td>\n",
       "      <td>32209.3</td>\n",
       "      <td>0</td>\n",
       "      <td>4089.74</td>\n",
       "      <td>0</td>\n",
       "      <td>4690.05</td>\n",
       "      <td>4.474</td>\n",
       "    </tr>\n",
       "    <tr>\n",
       "      <th>13</th>\n",
       "      <td>Gamboa</td>\n",
       "      <td>2002</td>\n",
       "      <td>24705.2</td>\n",
       "      <td>4433.09</td>\n",
       "      <td>2043.67</td>\n",
       "      <td>13619.6</td>\n",
       "      <td>0</td>\n",
       "      <td>4607.61</td>\n",
       "      <td>0</td>\n",
       "      <td>1.2</td>\n",
       "      <td>0</td>\n",
       "    </tr>\n",
       "    <tr>\n",
       "      <th>...</th>\n",
       "      <td>...</td>\n",
       "      <td>...</td>\n",
       "      <td>...</td>\n",
       "      <td>...</td>\n",
       "      <td>...</td>\n",
       "      <td>...</td>\n",
       "      <td>...</td>\n",
       "      <td>...</td>\n",
       "      <td>...</td>\n",
       "      <td>...</td>\n",
       "      <td>...</td>\n",
       "    </tr>\n",
       "    <tr>\n",
       "      <th>218</th>\n",
       "      <td>Sepetiba</td>\n",
       "      <td>2018</td>\n",
       "      <td>53081.2</td>\n",
       "      <td>42848.5</td>\n",
       "      <td>87.268</td>\n",
       "      <td>6432.66</td>\n",
       "      <td>-</td>\n",
       "      <td>2779.68</td>\n",
       "      <td>-</td>\n",
       "      <td>933.087</td>\n",
       "      <td>-</td>\n",
       "    </tr>\n",
       "    <tr>\n",
       "      <th>219</th>\n",
       "      <td>Região de Planejamento 5.4</td>\n",
       "      <td>2018</td>\n",
       "      <td>139927</td>\n",
       "      <td>101992</td>\n",
       "      <td>4547.86</td>\n",
       "      <td>23278.2</td>\n",
       "      <td>402.766</td>\n",
       "      <td>8882.16</td>\n",
       "      <td>-</td>\n",
       "      <td>820.898</td>\n",
       "      <td>3.625</td>\n",
       "    </tr>\n",
       "    <tr>\n",
       "      <th>221</th>\n",
       "      <td>Barra de Guaratiba</td>\n",
       "      <td>2018</td>\n",
       "      <td>10285.9</td>\n",
       "      <td>5844.96</td>\n",
       "      <td>57.464</td>\n",
       "      <td>2946.69</td>\n",
       "      <td>8.487</td>\n",
       "      <td>1063.91</td>\n",
       "      <td>-</td>\n",
       "      <td>364.408</td>\n",
       "      <td>-</td>\n",
       "    </tr>\n",
       "    <tr>\n",
       "      <th>222</th>\n",
       "      <td>Guaratiba</td>\n",
       "      <td>2018</td>\n",
       "      <td>97286.2</td>\n",
       "      <td>69606.8</td>\n",
       "      <td>4384.35</td>\n",
       "      <td>15695.6</td>\n",
       "      <td>390.833</td>\n",
       "      <td>6916.29</td>\n",
       "      <td>-</td>\n",
       "      <td>289.895</td>\n",
       "      <td>2.425</td>\n",
       "    </tr>\n",
       "    <tr>\n",
       "      <th>223</th>\n",
       "      <td>Pedra de Guaratiba</td>\n",
       "      <td>2018</td>\n",
       "      <td>32355.2</td>\n",
       "      <td>26540</td>\n",
       "      <td>106.05</td>\n",
       "      <td>4635.91</td>\n",
       "      <td>3.446</td>\n",
       "      <td>901.955</td>\n",
       "      <td>-</td>\n",
       "      <td>166.595</td>\n",
       "      <td>1.2</td>\n",
       "    </tr>\n",
       "  </tbody>\n",
       "</table>\n",
       "<p>3174 rows × 11 columns</p>\n",
       "</div>"
      ],
      "text/plain": [
       "    Áreas de Planejamento,Regiões de Planejamento, Regiões Administrativas e bairros  \\\n",
       "8                                               Total                                  \n",
       "9                              Área de Planejamento 1                                  \n",
       "10                          Região de Planejamento 1.1                                 \n",
       "12                                                Caju                                 \n",
       "13                                              Gamboa                                 \n",
       "..                                                 ...                                 \n",
       "218                                           Sepetiba                                 \n",
       "219                         Região de Planejamento 5.4                                 \n",
       "221                                 Barra de Guaratiba                                 \n",
       "222                                          Guaratiba                                 \n",
       "223                                 Pedra de Guaratiba                                 \n",
       "\n",
       "      Ano Consumo de energia elétrica (MWh)  Residencial   Industrial  \\\n",
       "8    2002                       1.37391e+07  4.60319e+06  3.13345e+06   \n",
       "9    2002                        2.0469e+06       186390       230907   \n",
       "10   2002                        2.0469e+06       186390       230907   \n",
       "12   2002                             75960      7793.31      27173.1   \n",
       "13   2002                           24705.2      4433.09      2043.67   \n",
       "..    ...                               ...          ...          ...   \n",
       "218  2018                           53081.2      42848.5       87.268   \n",
       "219  2018                            139927       101992      4547.86   \n",
       "221  2018                           10285.9      5844.96       57.464   \n",
       "222  2018                           97286.2      69606.8      4384.35   \n",
       "223  2018                           32355.2        26540       106.05   \n",
       "\n",
       "       Comercial    Rural Poder público  Iluminacão pública Serv.público  \\\n",
       "8    4.27251e+06  2343.64         941905            38902.6       689626   \n",
       "9    1.13101e+06        0         297447                  0       154883   \n",
       "10   1.13101e+06        0         297447                  0       154883   \n",
       "12       32209.3        0        4089.74                  0      4690.05   \n",
       "13       13619.6        0        4607.61                  0          1.2   \n",
       "..           ...      ...            ...                ...          ...   \n",
       "218      6432.66        -        2779.68                  -      933.087   \n",
       "219      23278.2  402.766        8882.16                  -      820.898   \n",
       "221      2946.69    8.487        1063.91                  -      364.408   \n",
       "222      15695.6  390.833        6916.29                  -      289.895   \n",
       "223      4635.91    3.446        901.955                  -      166.595   \n",
       "\n",
       "    Consumo próprio  \n",
       "8           57122.8  \n",
       "9             46263  \n",
       "10            46263  \n",
       "12            4.474  \n",
       "13                0  \n",
       "..              ...  \n",
       "218               -  \n",
       "219           3.625  \n",
       "221               -  \n",
       "222           2.425  \n",
       "223             1.2  \n",
       "\n",
       "[3174 rows x 11 columns]"
      ]
     },
     "execution_count": 81,
     "metadata": {},
     "output_type": "execute_result"
    }
   ],
   "source": [
    "energy1#.iloc[:, 1:].astype(float).plot('Ano','Residencial')"
   ]
  },
  {
   "cell_type": "markdown",
   "metadata": {},
   "source": [
    "# Saving Loading Table Electric Energy1"
   ]
  },
  {
   "cell_type": "code",
   "execution_count": 651,
   "metadata": {},
   "outputs": [],
   "source": [
    "#energy1.to_csv('\\\\Users\\luisr\\Desktop\\Repository\\IBM_courses\\Course Work\\Assignments\\Final Capstone Project\\\\rio dataframes\\\\Outside Data\\\\raw\\\\bairros\\\\infraestrutura\\\\clean\\\\energia1_clean.csv', index=False)"
   ]
  },
  {
   "cell_type": "code",
   "execution_count": 4,
   "metadata": {},
   "outputs": [],
   "source": [
    "energy1 = pd.read_csv('\\\\Users\\luisr\\Desktop\\Repository\\IBM_courses\\Course Work\\Assignments\\Final Capstone Project\\\\rio dataframes\\\\Outside Data\\\\raw\\\\bairros\\\\infraestrutura\\\\clean\\\\energia1_clean.csv')"
   ]
  },
  {
   "cell_type": "code",
   "execution_count": 7,
   "metadata": {},
   "outputs": [
    {
     "data": {
      "text/plain": [
       "(3174, 11)"
      ]
     },
     "execution_count": 7,
     "metadata": {},
     "output_type": "execute_result"
    }
   ],
   "source": [
    "energy1.shape"
   ]
  },
  {
   "cell_type": "markdown",
   "metadata": {},
   "source": [
    "# Energy 2: "
   ]
  },
  {
   "cell_type": "code",
   "execution_count": 999,
   "metadata": {},
   "outputs": [],
   "source": [
    "energia2 = pd.read_excel('\\\\Users\\luisr\\Desktop\\Repository\\IBM_courses\\Course Work\\Assignments\\Final Capstone Project\\\\rio dataframes\\\\Outside Data\\\\raw\\\\bairros\\\\infraestrutura\\\\energia_unidades.xls', None)"
   ]
  },
  {
   "cell_type": "code",
   "execution_count": null,
   "metadata": {},
   "outputs": [],
   "source": [
    "0: 11\n",
    "15: 12"
   ]
  },
  {
   "cell_type": "code",
   "execution_count": 866,
   "metadata": {},
   "outputs": [],
   "source": [
    "i=-1"
   ]
  },
  {
   "cell_type": "code",
   "execution_count": 974,
   "metadata": {},
   "outputs": [
    {
     "name": "stdout",
     "output_type": "stream",
     "text": [
      "18\n"
     ]
    },
    {
     "ename": "IndexError",
     "evalue": "list index out of range",
     "output_type": "error",
     "traceback": [
      "\u001b[1;31m---------------------------------------------------------------------------\u001b[0m",
      "\u001b[1;31mIndexError\u001b[0m                                Traceback (most recent call last)",
      "\u001b[1;32m<ipython-input-974-be35c9ea5868>\u001b[0m in \u001b[0;36m<module>\u001b[1;34m\u001b[0m\n\u001b[0;32m      1\u001b[0m \u001b[0mi\u001b[0m\u001b[1;33m+=\u001b[0m\u001b[1;36m1\u001b[0m\u001b[1;33m\u001b[0m\u001b[1;33m\u001b[0m\u001b[0m\n\u001b[0;32m      2\u001b[0m \u001b[0mprint\u001b[0m\u001b[1;33m(\u001b[0m\u001b[0mi\u001b[0m\u001b[1;33m)\u001b[0m\u001b[1;33m\u001b[0m\u001b[1;33m\u001b[0m\u001b[0m\n\u001b[1;32m----> 3\u001b[1;33m \u001b[0menergia2\u001b[0m\u001b[1;33m[\u001b[0m\u001b[0mkeys\u001b[0m\u001b[1;33m[\u001b[0m\u001b[0mi\u001b[0m\u001b[1;33m]\u001b[0m\u001b[1;33m]\u001b[0m\u001b[1;33m.\u001b[0m\u001b[0mtail\u001b[0m\u001b[1;33m(\u001b[0m\u001b[1;36m13\u001b[0m\u001b[1;33m)\u001b[0m\u001b[1;33m\u001b[0m\u001b[1;33m\u001b[0m\u001b[0m\n\u001b[0m",
      "\u001b[1;31mIndexError\u001b[0m: list index out of range"
     ]
    }
   ],
   "source": [
    "i+=1\n",
    "print(i)\n",
    "energia2[keys[i]].tail(13)\n"
   ]
  },
  {
   "cell_type": "code",
   "execution_count": 1000,
   "metadata": {},
   "outputs": [],
   "source": [
    "df0 = energia2[keys[0]]\n",
    "cols = df0.iloc[5, :2].tolist() + [df0.iloc[6, 2]] + [df0.iloc[5, 3]]"
   ]
  },
  {
   "cell_type": "code",
   "execution_count": 1001,
   "metadata": {},
   "outputs": [],
   "source": [
    "cnt=0\n",
    "for key in keys:\n",
    "    \n",
    "    \n",
    "    \n",
    "    if cnt < 15:\n",
    "        energia2[key] = energia2[key].head(-11).tail(-8)\n",
    "        \n",
    "        energia2[key].columns = cols\n",
    "        energia2[key]['Ano'] = [int(key) for i in range(len(energia2[key]))]\n",
    "        \n",
    "    else:\n",
    "        energia2[key] = energia2[key].head(-12).tail(-8)\n",
    "        \n",
    "        energia2[key].columns = cols\n",
    "        energia2[key]['Ano'] = [int(key) for i in range(len(energia2[key]))]\n",
    "    \n",
    "    cnt+=1    "
   ]
  },
  {
   "cell_type": "code",
   "execution_count": 1002,
   "metadata": {},
   "outputs": [],
   "source": [
    "energia2[keys[16]].loc[36, hood_col_name] = 'Botafogo'\n",
    "energia2[keys[15]].loc[153, hood_col_name] = 'Bancários'\n"
   ]
  },
  {
   "cell_type": "code",
   "execution_count": 1003,
   "metadata": {},
   "outputs": [],
   "source": [
    "not_in = is_not_in(energia2)"
   ]
  },
  {
   "cell_type": "code",
   "execution_count": null,
   "metadata": {},
   "outputs": [],
   "source": [
    "not_in"
   ]
  },
  {
   "cell_type": "markdown",
   "metadata": {},
   "source": [
    "# Combining Tables in Energia 2"
   ]
  },
  {
   "cell_type": "code",
   "execution_count": 1006,
   "metadata": {},
   "outputs": [],
   "source": [
    "energy2 = pd.concat([energia2[key] for key in keys], axis=0)"
   ]
  },
  {
   "cell_type": "code",
   "execution_count": 1008,
   "metadata": {},
   "outputs": [
    {
     "data": {
      "text/plain": [
       "3672"
      ]
     },
     "execution_count": 1008,
     "metadata": {},
     "output_type": "execute_result"
    }
   ],
   "source": [
    "len(energy2)"
   ]
  },
  {
   "cell_type": "markdown",
   "metadata": {},
   "source": [
    "# Saving Loading Table Electric Energy 2"
   ]
  },
  {
   "cell_type": "code",
   "execution_count": 1009,
   "metadata": {},
   "outputs": [],
   "source": [
    "#energy2.to_csv('\\\\Users\\luisr\\Desktop\\Repository\\IBM_courses\\Course Work\\Assignments\\Final Capstone Project\\\\rio dataframes\\\\Outside Data\\\\raw\\\\bairros\\\\infraestrutura\\\\clean\\\\energia2_clean.csv', index=False)"
   ]
  },
  {
   "cell_type": "code",
   "execution_count": 8,
   "metadata": {},
   "outputs": [],
   "source": [
    "energy2 = pd.read_csv('\\\\Users\\luisr\\Desktop\\Repository\\IBM_courses\\Course Work\\Assignments\\Final Capstone Project\\\\rio dataframes\\\\Outside Data\\\\raw\\\\bairros\\\\infraestrutura\\\\clean\\\\energia2_clean.csv')"
   ]
  },
  {
   "cell_type": "code",
   "execution_count": 9,
   "metadata": {},
   "outputs": [
    {
     "data": {
      "text/plain": [
       "(3672, 5)"
      ]
     },
     "execution_count": 9,
     "metadata": {},
     "output_type": "execute_result"
    }
   ],
   "source": [
    "energy2.shape"
   ]
  },
  {
   "cell_type": "markdown",
   "metadata": {},
   "source": [
    "# Energy 3:"
   ]
  },
  {
   "cell_type": "code",
   "execution_count": 1160,
   "metadata": {},
   "outputs": [],
   "source": [
    "energia3 = pd.read_excel('\\\\Users\\luisr\\Desktop\\Repository\\IBM_courses\\Course Work\\Assignments\\Final Capstone Project\\\\rio dataframes\\\\Outside Data\\\\raw\\\\bairros\\\\infraestrutura\\\\energia_unidades_classe.xls', None)"
   ]
  },
  {
   "cell_type": "code",
   "execution_count": 1161,
   "metadata": {},
   "outputs": [],
   "source": [
    "i=-1"
   ]
  },
  {
   "cell_type": "code",
   "execution_count": null,
   "metadata": {},
   "outputs": [],
   "source": [
    "i+=1\n",
    "print(i)\n",
    "energia3[keys[i]].head(10)"
   ]
  },
  {
   "cell_type": "code",
   "execution_count": 1163,
   "metadata": {},
   "outputs": [],
   "source": [
    "df0 = energia3[keys[0]]\n",
    "cols = df0.iloc[4, :2].tolist() + df0.iloc[6, 2:].tolist()"
   ]
  },
  {
   "cell_type": "code",
   "execution_count": 1164,
   "metadata": {},
   "outputs": [],
   "source": [
    "cols[1] = 'Total'"
   ]
  },
  {
   "cell_type": "code",
   "execution_count": 1165,
   "metadata": {},
   "outputs": [
    {
     "name": "stderr",
     "output_type": "stream",
     "text": [
      "<ipython-input-1165-fae397f28d07>:5: SettingWithCopyWarning: \n",
      "A value is trying to be set on a copy of a slice from a DataFrame.\n",
      "Try using .loc[row_indexer,col_indexer] = value instead\n",
      "\n",
      "See the caveats in the documentation: https://pandas.pydata.org/pandas-docs/stable/user_guide/indexing.html#returning-a-view-versus-a-copy\n",
      "  energia3[key]['Ano'] = [int(key) for i in range(len(energia3[key]))]\n"
     ]
    }
   ],
   "source": [
    "for key in keys[:-1]: \n",
    "    \n",
    "    energia3[key] = energia3[key].loc[8:124]\n",
    "    energia3[key].columns = cols\n",
    "    energia3[key]['Ano'] = [int(key) for i in range(len(energia3[key]))]\n",
    "    energia3[key] = energia3[key][[cols[0]]+['Ano']+cols[1:]]"
   ]
  },
  {
   "cell_type": "markdown",
   "metadata": {},
   "source": [
    "## Testing Neighborhoods Names"
   ]
  },
  {
   "cell_type": "code",
   "execution_count": 1169,
   "metadata": {},
   "outputs": [],
   "source": [
    "not_in = is_not_in(energia3, keys=keys[:-1])"
   ]
  },
  {
   "cell_type": "code",
   "execution_count": 1167,
   "metadata": {},
   "outputs": [],
   "source": [
    "for key in keys[:-1]:\n",
    "    \n",
    "    energia3[key] = energia3[key][~energia3[key].iloc[:, 0].isin(not_in[10][2])].copy()\n",
    "    energia3[key] = energia3[key][~energia3[key].iloc[:, 0].isin(not_in[-15][2])].copy()\n"
   ]
  },
  {
   "cell_type": "code",
   "execution_count": 1169,
   "metadata": {},
   "outputs": [],
   "source": [
    "not_in = is_not_in(energia3, keys=keys[:-1])"
   ]
  },
  {
   "cell_type": "code",
   "execution_count": null,
   "metadata": {},
   "outputs": [],
   "source": [
    "not_in"
   ]
  },
  {
   "cell_type": "markdown",
   "metadata": {},
   "source": [
    "# Combining Tables in Energy 3"
   ]
  },
  {
   "cell_type": "code",
   "execution_count": 1172,
   "metadata": {},
   "outputs": [],
   "source": [
    "energy3 = pd.concat([energia3[key] for key in keys[:-1]], axis=0)"
   ]
  },
  {
   "cell_type": "code",
   "execution_count": null,
   "metadata": {},
   "outputs": [],
   "source": [
    "energy3"
   ]
  },
  {
   "cell_type": "markdown",
   "metadata": {},
   "source": [
    "# Saving Loading Table Electric Energy 3"
   ]
  },
  {
   "cell_type": "code",
   "execution_count": 1174,
   "metadata": {},
   "outputs": [],
   "source": [
    "#energy3.to_csv('\\\\Users\\luisr\\Desktop\\Repository\\IBM_courses\\Course Work\\Assignments\\Final Capstone Project\\\\rio dataframes\\\\Outside Data\\\\raw\\\\bairros\\\\infraestrutura\\\\clean\\\\energia3_clean.csv', index=False)"
   ]
  },
  {
   "cell_type": "code",
   "execution_count": 10,
   "metadata": {},
   "outputs": [],
   "source": [
    "energy3 = pd.read_csv('\\\\Users\\luisr\\Desktop\\Repository\\IBM_courses\\Course Work\\Assignments\\Final Capstone Project\\\\rio dataframes\\\\Outside Data\\\\raw\\\\bairros\\\\infraestrutura\\\\clean\\\\energia3_clean.csv')"
   ]
  },
  {
   "cell_type": "markdown",
   "metadata": {},
   "source": [
    "# Merging all Three Tables"
   ]
  },
  {
   "cell_type": "code",
   "execution_count": 21,
   "metadata": {},
   "outputs": [
    {
     "data": {
      "text/plain": [
       "(3174, 3672, 1584)"
      ]
     },
     "execution_count": 21,
     "metadata": {},
     "output_type": "execute_result"
    }
   ],
   "source": [
    "len(energy1), len(energy2), len(energy3)"
   ]
  },
  {
   "cell_type": "code",
   "execution_count": 70,
   "metadata": {},
   "outputs": [],
   "source": [
    "cols = energy3.columns"
   ]
  },
  {
   "cell_type": "code",
   "execution_count": 71,
   "metadata": {},
   "outputs": [],
   "source": [
    "energy2.rename(columns={energy2.columns[0]:energy3.columns[0]}, inplace=True)"
   ]
  },
  {
   "cell_type": "code",
   "execution_count": 72,
   "metadata": {},
   "outputs": [],
   "source": [
    "energy_12 = pd.merge(energy1, energy2, on=[cols[0], 'Ano'])"
   ]
  },
  {
   "cell_type": "code",
   "execution_count": 73,
   "metadata": {},
   "outputs": [
    {
     "data": {
      "text/plain": [
       "2820"
      ]
     },
     "execution_count": 73,
     "metadata": {},
     "output_type": "execute_result"
    }
   ],
   "source": [
    "len(energy_12)"
   ]
  },
  {
   "cell_type": "code",
   "execution_count": 74,
   "metadata": {},
   "outputs": [],
   "source": [
    "energy = pd.merge(energy_12, energy3, on=[cols[0], 'Ano'])"
   ]
  },
  {
   "cell_type": "code",
   "execution_count": 75,
   "metadata": {},
   "outputs": [
    {
     "data": {
      "text/plain": [
       "1347"
      ]
     },
     "execution_count": 75,
     "metadata": {},
     "output_type": "execute_result"
    }
   ],
   "source": [
    "len(energy)"
   ]
  },
  {
   "cell_type": "code",
   "execution_count": null,
   "metadata": {},
   "outputs": [],
   "source": []
  },
  {
   "cell_type": "code",
   "execution_count": 76,
   "metadata": {},
   "outputs": [
    {
     "data": {
      "text/plain": [
       "(17, 17, 16)"
      ]
     },
     "execution_count": 76,
     "metadata": {},
     "output_type": "execute_result"
    }
   ],
   "source": [
    "len(energy1[cols[1]].unique()), len(energy2[cols[1]].unique()), len(energy3[cols[1]].unique())"
   ]
  },
  {
   "cell_type": "code",
   "execution_count": 77,
   "metadata": {},
   "outputs": [
    {
     "data": {
      "text/plain": [
       "(212, 217, 118)"
      ]
     },
     "execution_count": 77,
     "metadata": {},
     "output_type": "execute_result"
    }
   ],
   "source": [
    "len(energy1[cols[0]].unique()), len(energy2[cols[0]].unique()), len(energy3[cols[0]].unique())"
   ]
  },
  {
   "cell_type": "code",
   "execution_count": 78,
   "metadata": {},
   "outputs": [
    {
     "data": {
      "text/plain": [
       "(1584, 1347)"
      ]
     },
     "execution_count": 78,
     "metadata": {},
     "output_type": "execute_result"
    }
   ],
   "source": [
    "len(energy[cols[0]].unique())*len(energy[cols[1]].unique()), len(energy)"
   ]
  },
  {
   "cell_type": "code",
   "execution_count": 79,
   "metadata": {},
   "outputs": [
    {
     "data": {
      "text/plain": [
       "1347"
      ]
     },
     "execution_count": 79,
     "metadata": {},
     "output_type": "execute_result"
    }
   ],
   "source": [
    "len(energy)"
   ]
  },
  {
   "cell_type": "code",
   "execution_count": 83,
   "metadata": {},
   "outputs": [
    {
     "data": {
      "text/html": [
       "<div>\n",
       "<style scoped>\n",
       "    .dataframe tbody tr th:only-of-type {\n",
       "        vertical-align: middle;\n",
       "    }\n",
       "\n",
       "    .dataframe tbody tr th {\n",
       "        vertical-align: top;\n",
       "    }\n",
       "\n",
       "    .dataframe thead th {\n",
       "        text-align: right;\n",
       "    }\n",
       "</style>\n",
       "<table border=\"1\" class=\"dataframe\">\n",
       "  <thead>\n",
       "    <tr style=\"text-align: right;\">\n",
       "      <th></th>\n",
       "      <th>Áreas de Planejamento,Regiões de Planejamento, Regiões Administrativas e bairros</th>\n",
       "      <th>Ano</th>\n",
       "      <th>Consumo de energia elétrica (MWh)</th>\n",
       "      <th>Residencial_x</th>\n",
       "      <th>Industrial_x</th>\n",
       "      <th>Comercial</th>\n",
       "      <th>Rural_x</th>\n",
       "      <th>Poder público</th>\n",
       "      <th>Iluminacão pública</th>\n",
       "      <th>Serv.público_x</th>\n",
       "      <th>...</th>\n",
       "      <th>Total de unidades consumidoras  residenciais</th>\n",
       "      <th>Total</th>\n",
       "      <th>Residencial_y</th>\n",
       "      <th>Industrial_y</th>\n",
       "      <th>Comercial</th>\n",
       "      <th>Rural_y</th>\n",
       "      <th>Poderes públicos</th>\n",
       "      <th>Iluminação pública</th>\n",
       "      <th>Serv.público_y</th>\n",
       "      <th>Consumo próprio_y</th>\n",
       "    </tr>\n",
       "  </thead>\n",
       "  <tbody>\n",
       "    <tr>\n",
       "      <th>0</th>\n",
       "      <td>Total</td>\n",
       "      <td>2002</td>\n",
       "      <td>1.373906e+07</td>\n",
       "      <td>4603194.384</td>\n",
       "      <td>3133454.027</td>\n",
       "      <td>4272514.918</td>\n",
       "      <td>2343.639</td>\n",
       "      <td>941905.093</td>\n",
       "      <td>38902.595</td>\n",
       "      <td>689625.654</td>\n",
       "      <td>...</td>\n",
       "      <td>2000123.0</td>\n",
       "      <td>2191364.0</td>\n",
       "      <td>2000123.0</td>\n",
       "      <td>10916.0</td>\n",
       "      <td>171517.0</td>\n",
       "      <td>287.0</td>\n",
       "      <td>7836.0</td>\n",
       "      <td>76.0</td>\n",
       "      <td>459.0</td>\n",
       "      <td>150.0</td>\n",
       "    </tr>\n",
       "    <tr>\n",
       "      <th>1</th>\n",
       "      <td>Área de Planejamento 1</td>\n",
       "      <td>2002</td>\n",
       "      <td>2.046900e+06</td>\n",
       "      <td>186389.561</td>\n",
       "      <td>230906.554</td>\n",
       "      <td>1131010.765</td>\n",
       "      <td>0.000</td>\n",
       "      <td>297446.518</td>\n",
       "      <td>0.000</td>\n",
       "      <td>154883.424</td>\n",
       "      <td>...</td>\n",
       "      <td>103197.0</td>\n",
       "      <td>149116.0</td>\n",
       "      <td>103197.0</td>\n",
       "      <td>1470.0</td>\n",
       "      <td>42263.0</td>\n",
       "      <td>0.0</td>\n",
       "      <td>2039.0</td>\n",
       "      <td>5.0</td>\n",
       "      <td>117.0</td>\n",
       "      <td>25.0</td>\n",
       "    </tr>\n",
       "    <tr>\n",
       "      <th>2</th>\n",
       "      <td>Região de Planejamento 1.1</td>\n",
       "      <td>2002</td>\n",
       "      <td>2.046900e+06</td>\n",
       "      <td>186389.561</td>\n",
       "      <td>230906.554</td>\n",
       "      <td>1131010.765</td>\n",
       "      <td>0.000</td>\n",
       "      <td>297446.518</td>\n",
       "      <td>0.000</td>\n",
       "      <td>154883.424</td>\n",
       "      <td>...</td>\n",
       "      <td>103197.0</td>\n",
       "      <td>149116.0</td>\n",
       "      <td>103197.0</td>\n",
       "      <td>1470.0</td>\n",
       "      <td>42263.0</td>\n",
       "      <td>0.0</td>\n",
       "      <td>2039.0</td>\n",
       "      <td>5.0</td>\n",
       "      <td>117.0</td>\n",
       "      <td>25.0</td>\n",
       "    </tr>\n",
       "    <tr>\n",
       "      <th>3</th>\n",
       "      <td>Caju</td>\n",
       "      <td>2002</td>\n",
       "      <td>7.595999e+04</td>\n",
       "      <td>7793.311</td>\n",
       "      <td>27173.098</td>\n",
       "      <td>32209.315</td>\n",
       "      <td>0.000</td>\n",
       "      <td>4089.735</td>\n",
       "      <td>0.000</td>\n",
       "      <td>4690.054</td>\n",
       "      <td>...</td>\n",
       "      <td>5699.0</td>\n",
       "      <td>6072.0</td>\n",
       "      <td>5699.0</td>\n",
       "      <td>48.0</td>\n",
       "      <td>249.0</td>\n",
       "      <td>0.0</td>\n",
       "      <td>69.0</td>\n",
       "      <td>0.0</td>\n",
       "      <td>6.0</td>\n",
       "      <td>1.0</td>\n",
       "    </tr>\n",
       "    <tr>\n",
       "      <th>4</th>\n",
       "      <td>Gamboa</td>\n",
       "      <td>2002</td>\n",
       "      <td>2.470520e+04</td>\n",
       "      <td>4433.087</td>\n",
       "      <td>2043.672</td>\n",
       "      <td>13619.638</td>\n",
       "      <td>0.000</td>\n",
       "      <td>4607.606</td>\n",
       "      <td>0.000</td>\n",
       "      <td>1.200</td>\n",
       "      <td>...</td>\n",
       "      <td>2963.0</td>\n",
       "      <td>3504.0</td>\n",
       "      <td>2963.0</td>\n",
       "      <td>52.0</td>\n",
       "      <td>449.0</td>\n",
       "      <td>0.0</td>\n",
       "      <td>38.0</td>\n",
       "      <td>0.0</td>\n",
       "      <td>2.0</td>\n",
       "      <td>0.0</td>\n",
       "    </tr>\n",
       "  </tbody>\n",
       "</table>\n",
       "<p>5 rows × 23 columns</p>\n",
       "</div>"
      ],
      "text/plain": [
       "  Áreas de Planejamento,Regiões de Planejamento, Regiões Administrativas e bairros  \\\n",
       "0                                             Total                                  \n",
       "1                            Área de Planejamento 1                                  \n",
       "2                         Região de Planejamento 1.1                                 \n",
       "3                                               Caju                                 \n",
       "4                                             Gamboa                                 \n",
       "\n",
       "    Ano  Consumo de energia elétrica (MWh)  Residencial_x  Industrial_x  \\\n",
       "0  2002                       1.373906e+07    4603194.384   3133454.027   \n",
       "1  2002                       2.046900e+06     186389.561    230906.554   \n",
       "2  2002                       2.046900e+06     186389.561    230906.554   \n",
       "3  2002                       7.595999e+04       7793.311     27173.098   \n",
       "4  2002                       2.470520e+04       4433.087      2043.672   \n",
       "\n",
       "     Comercial   Rural_x  Poder público   Iluminacão pública  Serv.público_x  \\\n",
       "0  4272514.918  2343.639      941905.093           38902.595      689625.654   \n",
       "1  1131010.765     0.000      297446.518               0.000      154883.424   \n",
       "2  1131010.765     0.000      297446.518               0.000      154883.424   \n",
       "3    32209.315     0.000        4089.735               0.000        4690.054   \n",
       "4    13619.638     0.000        4607.606               0.000           1.200   \n",
       "\n",
       "   ...  Total de unidades consumidoras  residenciais       Total  \\\n",
       "0  ...                                      2000123.0  2191364.0   \n",
       "1  ...                                       103197.0   149116.0   \n",
       "2  ...                                       103197.0   149116.0   \n",
       "3  ...                                         5699.0     6072.0   \n",
       "4  ...                                         2963.0     3504.0   \n",
       "\n",
       "   Residencial_y  Industrial_y  Comercial   Rural_y  Poderes públicos   \\\n",
       "0      2000123.0       10916.0    171517.0    287.0             7836.0   \n",
       "1       103197.0        1470.0     42263.0      0.0             2039.0   \n",
       "2       103197.0        1470.0     42263.0      0.0             2039.0   \n",
       "3         5699.0          48.0       249.0      0.0               69.0   \n",
       "4         2963.0          52.0       449.0      0.0               38.0   \n",
       "\n",
       "   Iluminação pública  Serv.público_y  Consumo próprio_y  \n",
       "0                76.0           459.0              150.0  \n",
       "1                 5.0           117.0               25.0  \n",
       "2                 5.0           117.0               25.0  \n",
       "3                 0.0             6.0                1.0  \n",
       "4                 0.0             2.0                0.0  \n",
       "\n",
       "[5 rows x 23 columns]"
      ]
     },
     "execution_count": 83,
     "metadata": {},
     "output_type": "execute_result"
    }
   ],
   "source": [
    "energy.head()"
   ]
  },
  {
   "cell_type": "markdown",
   "metadata": {},
   "source": [
    "## Type Conversion"
   ]
  },
  {
   "cell_type": "code",
   "execution_count": 81,
   "metadata": {},
   "outputs": [],
   "source": [
    "energy.replace('...', np.nan, inplace=True)\n",
    "energy.replace('-', np.nan, inplace=True)"
   ]
  },
  {
   "cell_type": "code",
   "execution_count": 82,
   "metadata": {},
   "outputs": [],
   "source": [
    "energy.iloc[:, 2:] = energy.iloc[:, 2:].astype(float)"
   ]
  },
  {
   "cell_type": "markdown",
   "metadata": {},
   "source": [
    "# Saving/Loading Complete Electric Energy Time Series Table:"
   ]
  },
  {
   "cell_type": "code",
   "execution_count": 84,
   "metadata": {},
   "outputs": [],
   "source": [
    "#energy.to_csv('\\\\Users\\luisr\\Desktop\\Repository\\IBM_courses\\Course Work\\Assignments\\Final Capstone Project\\\\rio dataframes\\\\Outside Data\\\\raw\\\\bairros\\\\infraestrutura\\\\clean\\\\energia_complete.csv', index=False)"
   ]
  },
  {
   "cell_type": "code",
   "execution_count": 46,
   "metadata": {},
   "outputs": [],
   "source": [
    "energy = pd.read_csv('\\\\Users\\luisr\\Desktop\\Repository\\IBM_courses\\Course Work\\Assignments\\Final Capstone Project\\\\rio dataframes\\\\Outside Data\\\\raw\\\\bairros\\\\infraestrutura\\\\clean\\\\energia_complete.csv')"
   ]
  },
  {
   "cell_type": "code",
   "execution_count": null,
   "metadata": {},
   "outputs": [],
   "source": []
  },
  {
   "cell_type": "code",
   "execution_count": null,
   "metadata": {},
   "outputs": [],
   "source": []
  },
  {
   "cell_type": "code",
   "execution_count": 53,
   "metadata": {},
   "outputs": [],
   "source": [
    "for i in energy['Ano'].unique():\n",
    "    \n",
    "    if i==2002:\n",
    "        y = energy[energy['Ano']==i].iloc[:, [0,3]]\n",
    "    \n",
    "    else:\n",
    "        y = pd.merge(y, energy[energy['Ano']==i].iloc[:, [0,3]], on=energy.columns[0], how='left')\n",
    "        \n"
   ]
  },
  {
   "cell_type": "code",
   "execution_count": 86,
   "metadata": {},
   "outputs": [],
   "source": [
    "y.columns = [y.columns[0]]+energy1['Ano'].unique().tolist()"
   ]
  },
  {
   "cell_type": "code",
   "execution_count": null,
   "metadata": {},
   "outputs": [],
   "source": [
    "a = y.T.iloc[1:].astype(float)"
   ]
  },
  {
   "cell_type": "code",
   "execution_count": null,
   "metadata": {},
   "outputs": [],
   "source": [
    "a.plot()"
   ]
  },
  {
   "cell_type": "code",
   "execution_count": null,
   "metadata": {},
   "outputs": [],
   "source": []
  },
  {
   "cell_type": "code",
   "execution_count": 120,
   "metadata": {},
   "outputs": [
    {
     "data": {
      "text/plain": [
       "array([2002, 2003, 2004, 2005, 2006, 2007, 2008, 2009, 2010, 2011, 2012,\n",
       "       2013, 2014, 2015, 2016, 2017, 2018], dtype=int64)"
      ]
     },
     "execution_count": 120,
     "metadata": {},
     "output_type": "execute_result"
    }
   ],
   "source": [
    "energy1['Ano'].unique()"
   ]
  },
  {
   "cell_type": "code",
   "execution_count": 139,
   "metadata": {},
   "outputs": [],
   "source": [
    "for i in energy1['Ano'].unique():\n",
    "    \n",
    "    if i==2002:\n",
    "        y = energy1[energy1['Ano']==i].iloc[:, [0,3]]\n",
    "    \n",
    "    else:\n",
    "        y = pd.merge(y, energy1[energy1['Ano']==i].iloc[:, [0,3]], on=energy1.columns[0], how='inner')\n",
    "        \n"
   ]
  },
  {
   "cell_type": "code",
   "execution_count": 140,
   "metadata": {},
   "outputs": [],
   "source": [
    "y.columns = [y.columns[0]]+energy1['Ano'].unique().tolist()"
   ]
  },
  {
   "cell_type": "code",
   "execution_count": 133,
   "metadata": {},
   "outputs": [],
   "source": [
    "a = y.T.iloc[1:]"
   ]
  },
  {
   "cell_type": "code",
   "execution_count": 134,
   "metadata": {},
   "outputs": [],
   "source": [
    "a = a.replace('...', np.nan).astype(float).copy()"
   ]
  },
  {
   "cell_type": "code",
   "execution_count": null,
   "metadata": {},
   "outputs": [],
   "source": [
    "a.plot()"
   ]
  },
  {
   "cell_type": "code",
   "execution_count": 168,
   "metadata": {},
   "outputs": [
    {
     "ename": "SyntaxError",
     "evalue": "unexpected EOF while parsing (<ipython-input-168-51aa5cc1b224>, line 6)",
     "output_type": "error",
     "traceback": [
      "\u001b[1;36m  File \u001b[1;32m\"<ipython-input-168-51aa5cc1b224>\"\u001b[1;36m, line \u001b[1;32m6\u001b[0m\n\u001b[1;33m    else:\u001b[0m\n\u001b[1;37m         ^\u001b[0m\n\u001b[1;31mSyntaxError\u001b[0m\u001b[1;31m:\u001b[0m unexpected EOF while parsing\n"
     ]
    }
   ],
   "source": [
    "for i in energy1['Ano'].unique():\n",
    "    \n",
    "    if i == 2002:\n",
    "        y = energy1.iloc[:, [3]][energy1['Ano']==i]\n",
    "    \n",
    "    else:"
   ]
  },
  {
   "cell_type": "code",
   "execution_count": 172,
   "metadata": {},
   "outputs": [],
   "source": [
    "y = pd.concat([energy1.iloc[:, 3][energy1['Ano']==i] for i in energy1['Ano'].unique()], axis=1)"
   ]
  },
  {
   "cell_type": "code",
   "execution_count": null,
   "metadata": {},
   "outputs": [],
   "source": []
  },
  {
   "cell_type": "code",
   "execution_count": 175,
   "metadata": {},
   "outputs": [],
   "source": [
    "y.columns=energy1.iloc[:, 1].unique()"
   ]
  },
  {
   "cell_type": "code",
   "execution_count": 178,
   "metadata": {},
   "outputs": [
    {
     "data": {
      "text/plain": [
       "(187, 212)"
      ]
     },
     "execution_count": 178,
     "metadata": {},
     "output_type": "execute_result"
    }
   ],
   "source": [
    "len(y), len(energy1.iloc[:, 0].unique())"
   ]
  },
  {
   "cell_type": "code",
   "execution_count": 184,
   "metadata": {},
   "outputs": [],
   "source": [
    "a = y.replace('...',np.nan).astype(float)"
   ]
  },
  {
   "cell_type": "code",
   "execution_count": 186,
   "metadata": {},
   "outputs": [
    {
     "data": {
      "text/plain": [
       "<matplotlib.axes._subplots.AxesSubplot at 0x1d982893b50>"
      ]
     },
     "execution_count": 186,
     "metadata": {},
     "output_type": "execute_result"
    },
    {
     "data": {
      "image/png": "[encoded data removed]",
      "text/plain": [
       "<Figure size 432x288 with 1 Axes>"
      ]
     },
     "metadata": {
      "needs_background": "light"
     },
     "output_type": "display_data"
    }
   ],
   "source": [
    "a.T.plot()"
   ]
  },
  {
   "cell_type": "code",
   "execution_count": null,
   "metadata": {},
   "outputs": [],
   "source": []
  },
  {
   "cell_type": "code",
   "execution_count": null,
   "metadata": {},
   "outputs": [],
   "source": []
  },
  {
   "cell_type": "code",
   "execution_count": 1221,
   "metadata": {},
   "outputs": [
    {
     "data": {
      "text/plain": [
       "<matplotlib.axes._subplots.AxesSubplot at 0x1fbd6ce0130>"
      ]
     },
     "execution_count": 1221,
     "metadata": {},
     "output_type": "execute_result"
    },
    {
     "data": {
      "image/png": "[encoded data removed]",
      "text/plain": [
       "<Figure size 864x576 with 2 Axes>"
      ]
     },
     "metadata": {
      "needs_background": "light"
     },
     "output_type": "display_data"
    }
   ],
   "source": [
    "fig = plt.figure(figsize=(12,8))\n",
    "ax0 = fig.add_subplot(111)\n",
    "sns.heatmap(energy.iloc[:, 2:].astype(float).corr(), cmap='RdBu', linewidths=0.5, ax=ax0)"
   ]
  },
  {
   "cell_type": "code",
   "execution_count": null,
   "metadata": {},
   "outputs": [],
   "source": []
  }
 ],
 "metadata": {
  "kernelspec": {
   "display_name": "Python 3",
   "language": "python",
   "name": "python3"
  },
  "language_info": {
   "codemirror_mode": {
    "name": "ipython",
    "version": 3
   },
   "file_extension": ".py",
   "mimetype": "text/x-python",
   "name": "python",
   "nbconvert_exporter": "python",
   "pygments_lexer": "ipython3",
   "version": "3.8.3"
  }
 },
 "nbformat": 4,
 "nbformat_minor": 4
}
