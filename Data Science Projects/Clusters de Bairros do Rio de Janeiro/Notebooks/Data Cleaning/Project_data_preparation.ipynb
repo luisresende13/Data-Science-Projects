{
 "cells": [
  {
   "cell_type": "code",
   "execution_count": 1,
   "metadata": {},
   "outputs": [],
   "source": [
    "import pandas as pd\n",
    "import numpy as np\n",
    "import matplotlib.pyplot as plt\n",
    "import seaborn as sns"
   ]
  },
  {
   "cell_type": "code",
   "execution_count": 1386,
   "metadata": {},
   "outputs": [],
   "source": [
    "import folium"
   ]
  },
  {
   "cell_type": "code",
   "execution_count": 2,
   "metadata": {},
   "outputs": [],
   "source": [
    "pd.set_option('display.max_rows', None)"
   ]
  },
  {
   "cell_type": "code",
   "execution_count": 3,
   "metadata": {},
   "outputs": [],
   "source": [
    "def is_not_in(dfs):\n",
    "\n",
    "    unis = [dfs[i]['neighborhood'].unique() for i in range(len(dfs))]\n",
    "\n",
    "    not_in = []\n",
    "    for i in range(len(dfs)):\n",
    "        for j in range(len(dfs)):\n",
    "        \n",
    "            if i!=j:\n",
    "            \n",
    "                not_in.append([i, j, unis[i][[str(o).lower().strip().replace('á','a')\n",
    "                                              .replace('é','e')\n",
    "                                              .replace('í','i')\n",
    "                                              .replace('ó','o')\n",
    "                                              .replace('ú','u') not in [str(l).lower().strip().replace('á','a')\n",
    "                                                                         .replace('é','e')\n",
    "                                                                         .replace('í','i')\n",
    "                                                                         .replace('ó','o')\n",
    "                                                                         .replace('ú','u') for l in unis[j].tolist()] for o in unis[i].tolist()]]])\n",
    "\n",
    "    return not_in\n",
    "            "
   ]
  },
  {
   "cell_type": "code",
   "execution_count": 4,
   "metadata": {},
   "outputs": [],
   "source": [
    "def plot_map(df, zoom=10):\n",
    "    mapa = folium.Map(location = [-22.911014, -43.209373], zoom_start = zoom, width='50%', height='50%')\n",
    "\n",
    "\n",
    "    for lat, lng, label in zip(df['lat'], df['lng'], df.iloc[:, 0]):\n",
    "    \n",
    "        #label = folium.Popup(label, html_parser=True)\n",
    "        folium.CircleMarker([lat, lng],\n",
    "                            #popup=label,\n",
    "                            radius=3,\n",
    "                            color='darkred',\n",
    "                            #fill=True,\n",
    "                            #fill_color='blue',\n",
    "                            #fill_oppacity=0.8\n",
    "                           ).add_to(mapa)\n",
    "    return mapa"
   ]
  },
  {
   "cell_type": "markdown",
   "metadata": {},
   "source": [
    "# Planning"
   ]
  },
  {
   "cell_type": "markdown",
   "metadata": {},
   "source": [
    "### Data: \n",
    "    1. Foursquare Gyms\n",
    "    2. População alvo (População)\n",
    "    3. Area\n",
    "    4. Renda Nominal media mensal ou massa salarial total (Renda)\n",
    "    5. Estabelecimentos de industrias selecionadas (Comercio)\n",
    "    6. Consumo de energia comercial e unidades (Comercio)    \n",
    "    7. Empregados por setor (renda/comercio)\n",
    "    \n",
    "### Anaylsis: \n",
    "    1. Clustering or thresholds to maximize or minimize \n",
    "    2. Regression or classification to understand what drives number of gyms\n",
    "\n",
    "### Methodology:\n",
    "    1. First divide neighborhoods by comerce, income and target population\n",
    "    2. Finaly, divide by gym competition."
   ]
  },
  {
   "cell_type": "markdown",
   "metadata": {},
   "source": [
    "# Loading Data"
   ]
  },
  {
   "cell_type": "markdown",
   "metadata": {},
   "source": [
    "### 1. Foursquare Gyms"
   ]
  },
  {
   "cell_type": "code",
   "execution_count": 356,
   "metadata": {},
   "outputs": [],
   "source": [
    "gyms = pd.read_csv('\\\\Users\\luisr\\Desktop\\Repository\\IBM_courses\\Course Work\\Assignments\\Final Capstone Project\\\\rio dataframes\\\\Search Results\\\\gyms\\\\gym_search.csv')"
   ]
  },
  {
   "cell_type": "markdown",
   "metadata": {},
   "source": [
    "### 2. População alvo (População)"
   ]
  },
  {
   "cell_type": "code",
   "execution_count": 357,
   "metadata": {},
   "outputs": [],
   "source": [
    "pop3 = pd.read_excel('/Users/luisr/Desktop/Repository/IBM_courses/Course Work/Assignments/Final Capstone Project/rio dataframes/Outside Data/raw/bairros/economia/Old/Raw/pop_3.xls', None)"
   ]
  },
  {
   "cell_type": "markdown",
   "metadata": {},
   "source": [
    "### 3. Area"
   ]
  },
  {
   "cell_type": "code",
   "execution_count": 358,
   "metadata": {},
   "outputs": [],
   "source": [
    "hoods = pd.read_csv('/Users/luisr/Desktop/Repository/IBM_courses/Course Work/Assignments/Final Capstone Project/rio dataframes/Outside Data/Clean/complete_bairros_fixed.csv')"
   ]
  },
  {
   "cell_type": "code",
   "execution_count": 359,
   "metadata": {},
   "outputs": [],
   "source": [
    "hoods_limits = pd.read_csv('\\\\Users\\luisr\\Desktop\\Repository\\IBM_courses\\Course Work\\Assignments\\Final Capstone Project\\\\rio dataframes\\\\Outside Data\\\\raw\\\\bairros\\\\infraestrutura\\\\Limite_de_Bairros.csv')"
   ]
  },
  {
   "cell_type": "markdown",
   "metadata": {},
   "source": [
    "### 4. Renda Nominal media mensal ou massa salarial total (Renda)"
   ]
  },
  {
   "cell_type": "code",
   "execution_count": 360,
   "metadata": {},
   "outputs": [],
   "source": [
    "income_indv = pd.read_csv('/Users/luisr/Desktop/Repository/IBM_courses/Course Work/Assignments/Final Capstone Project/rio dataframes/Outside Data/raw/bairros/economia/New/clean/rend_nomi/rend_nomi_10oumais_2010.csv')"
   ]
  },
  {
   "cell_type": "code",
   "execution_count": 361,
   "metadata": {},
   "outputs": [],
   "source": [
    "income_resp = pd.read_excel('/Users/luisr/Desktop/Repository/IBM_courses/Course Work/Assignments/Final Capstone Project/rio dataframes/Outside Data/raw/bairros/economia/New/clean/rend_nomi/rend_nomi_mensal_do_resp_domi_part_00_10.xlsx', None)"
   ]
  },
  {
   "cell_type": "code",
   "execution_count": 362,
   "metadata": {},
   "outputs": [],
   "source": [
    "sal = pd.read_csv('/Users/luisr/Desktop/Repository/IBM_courses/Course Work/Assignments/Final Capstone Project/rio dataframes/Outside Data/raw/bairros/economia/New/clean/atividades economicas/massa_sal_2018.csv')"
   ]
  },
  {
   "cell_type": "markdown",
   "metadata": {},
   "source": [
    "### 5. Estabelecimentos de industrias selecionadas (Comercio)"
   ]
  },
  {
   "cell_type": "code",
   "execution_count": 363,
   "metadata": {},
   "outputs": [],
   "source": [
    "stab = pd.read_csv('/Users/luisr/Desktop/Repository/IBM_courses/Course Work/Assignments/Final Capstone Project/rio dataframes/Outside Data/raw/bairros/economia/New/clean/atividades economicas/estabs_2018.csv')"
   ]
  },
  {
   "cell_type": "markdown",
   "metadata": {},
   "source": [
    "### 6. Consumo de energia (Comercio)    "
   ]
  },
  {
   "cell_type": "code",
   "execution_count": 364,
   "metadata": {},
   "outputs": [],
   "source": [
    "energy_consump = pd.read_csv('\\\\Users\\luisr\\Desktop\\Repository\\IBM_courses\\Course Work\\Assignments\\Final Capstone Project\\\\rio dataframes\\\\Outside Data\\\\raw\\\\bairros\\\\infraestrutura\\\\clean\\\\energia_consumo_classe_2018.csv')"
   ]
  },
  {
   "cell_type": "code",
   "execution_count": 365,
   "metadata": {},
   "outputs": [],
   "source": [
    "energy_units = pd.read_csv('\\\\Users\\luisr\\Desktop\\Repository\\IBM_courses\\Course Work\\Assignments\\Final Capstone Project\\\\rio dataframes\\\\Outside Data\\\\raw\\\\bairros\\\\infraestrutura\\\\clean\\\\energia_unidades_classe_2017.csv')"
   ]
  },
  {
   "cell_type": "markdown",
   "metadata": {},
   "source": [
    "### 7. Empregados por setor"
   ]
  },
  {
   "cell_type": "code",
   "execution_count": 366,
   "metadata": {},
   "outputs": [],
   "source": [
    "emp = pd.read_csv('\\\\Users\\luisr\\Desktop\\Repository\\IBM_courses\\Course Work\\Assignments\\Final Capstone Project\\\\rio dataframes\\\\Outside Data\\\\raw\\\\bairros\\\\economia\\\\New\\\\clean\\\\atividades economicas\\\\empregados_2018.csv')"
   ]
  },
  {
   "cell_type": "markdown",
   "metadata": {},
   "source": [
    "# Data Cleaning"
   ]
  },
  {
   "cell_type": "markdown",
   "metadata": {},
   "source": [
    "### 2. População alvo (População)"
   ]
  },
  {
   "cell_type": "code",
   "execution_count": 367,
   "metadata": {},
   "outputs": [],
   "source": [
    "pop3 = pop3['2010']"
   ]
  },
  {
   "cell_type": "code",
   "execution_count": 368,
   "metadata": {},
   "outputs": [],
   "source": [
    "pop3_cols = list(pop3.iloc[3, 0:2]) + list(pop3.iloc[5, 2:])\n",
    "pop3_cols = [i.strip() for i in pop3_cols]\n",
    "pop3.columns = pop3_cols\n",
    "pop3 = pop3.tail(-7).head(-3)\n",
    "pop3 = pop3.dropna(how='all')\n",
    "pop3.reset_index(drop=True, inplace=True)\n",
    "pop3.rename(columns={pop3.columns[0]:'neighborhood'}, inplace=True)"
   ]
  },
  {
   "cell_type": "code",
   "execution_count": 369,
   "metadata": {},
   "outputs": [],
   "source": [
    "pop3.iloc[:, 0] = [neighborhood.lower().strip().replace('á','a')\n",
    "                   .replace('é','e')\n",
    "                   .replace('í','i')\n",
    "                   .replace('ó','o')\n",
    "                   .replace('ú','u') for neighborhood in pop3.iloc[:, 0]]"
   ]
  },
  {
   "cell_type": "code",
   "execution_count": 370,
   "metadata": {},
   "outputs": [],
   "source": [
    "pop3.rename(columns={'Total':'População'}, inplace=True)"
   ]
  },
  {
   "cell_type": "code",
   "execution_count": 371,
   "metadata": {},
   "outputs": [
    {
     "data": {
      "text/plain": [
       "(199, 31)"
      ]
     },
     "execution_count": 371,
     "metadata": {},
     "output_type": "execute_result"
    }
   ],
   "source": [
    "pop3.shape"
   ]
  },
  {
   "cell_type": "code",
   "execution_count": 372,
   "metadata": {},
   "outputs": [
    {
     "data": {
      "text/plain": [
       "198"
      ]
     },
     "execution_count": 372,
     "metadata": {},
     "output_type": "execute_result"
    }
   ],
   "source": [
    "pop3['neighborhood'].unique().size"
   ]
  },
  {
   "cell_type": "markdown",
   "metadata": {},
   "source": [
    "### 3. Area"
   ]
  },
  {
   "cell_type": "code",
   "execution_count": 373,
   "metadata": {},
   "outputs": [],
   "source": [
    "areas = hoods_limits[['NOME', 'Área']].copy()"
   ]
  },
  {
   "cell_type": "code",
   "execution_count": 374,
   "metadata": {},
   "outputs": [],
   "source": [
    "areas.columns = ['neighborhood', 'm2']"
   ]
  },
  {
   "cell_type": "code",
   "execution_count": 375,
   "metadata": {},
   "outputs": [],
   "source": [
    "areas.dropna(inplace=True)"
   ]
  },
  {
   "cell_type": "code",
   "execution_count": 376,
   "metadata": {},
   "outputs": [],
   "source": [
    "areas['neighborhood'] = [neighborhood.lower().strip().replace('á','a')\n",
    "                                              .replace('é','e')\n",
    "                                              .replace('í','i')\n",
    "                                              .replace('ó','o')\n",
    "                                              .replace('ú','u') for neighborhood in areas['neighborhood']]"
   ]
  },
  {
   "cell_type": "code",
   "execution_count": 377,
   "metadata": {},
   "outputs": [],
   "source": [
    "areas.reset_index(drop=True, inplace=True)"
   ]
  },
  {
   "cell_type": "code",
   "execution_count": 378,
   "metadata": {},
   "outputs": [
    {
     "data": {
      "text/plain": [
       "(163, 2)"
      ]
     },
     "execution_count": 378,
     "metadata": {},
     "output_type": "execute_result"
    }
   ],
   "source": [
    "areas.shape"
   ]
  },
  {
   "cell_type": "code",
   "execution_count": 379,
   "metadata": {},
   "outputs": [
    {
     "data": {
      "text/plain": [
       "163"
      ]
     },
     "execution_count": 379,
     "metadata": {},
     "output_type": "execute_result"
    }
   ],
   "source": [
    "areas['neighborhood'].unique().size"
   ]
  },
  {
   "cell_type": "markdown",
   "metadata": {},
   "source": [
    "### 4. Renda Nominal media mensal ou massa salarial total (Renda)"
   ]
  },
  {
   "cell_type": "markdown",
   "metadata": {},
   "source": [
    "#### Average and median nominal income of people from 10 years old on, by neighborhood."
   ]
  },
  {
   "cell_type": "code",
   "execution_count": 380,
   "metadata": {},
   "outputs": [],
   "source": [
    "income_indv = income_indv.dropna(how='all')"
   ]
  },
  {
   "cell_type": "code",
   "execution_count": 381,
   "metadata": {},
   "outputs": [],
   "source": [
    "income_indv.rename(columns={income_indv.columns[0]:'neighborhood'}, inplace=True)"
   ]
  },
  {
   "cell_type": "code",
   "execution_count": 382,
   "metadata": {},
   "outputs": [],
   "source": [
    "income_indv['neighborhood'] = [neighborhood.lower().strip().replace('á','a')\n",
    "                                              .replace('é','e')\n",
    "                                              .replace('í','i')\n",
    "                                              .replace('ó','o')\n",
    "                                              .replace('ú','u') for neighborhood in income_indv['neighborhood']]"
   ]
  },
  {
   "cell_type": "code",
   "execution_count": 383,
   "metadata": {},
   "outputs": [],
   "source": [
    "income_indv.reset_index(drop=True, inplace=True)"
   ]
  },
  {
   "cell_type": "code",
   "execution_count": 384,
   "metadata": {},
   "outputs": [
    {
     "data": {
      "text/plain": [
       "(199, 5)"
      ]
     },
     "execution_count": 384,
     "metadata": {},
     "output_type": "execute_result"
    }
   ],
   "source": [
    "income_indv.shape"
   ]
  },
  {
   "cell_type": "markdown",
   "metadata": {},
   "source": [
    "119, 158 - freguesias"
   ]
  },
  {
   "cell_type": "markdown",
   "metadata": {},
   "source": [
    "#### Total, average and median monthly nominal income of people responsible for their residences."
   ]
  },
  {
   "cell_type": "code",
   "execution_count": 385,
   "metadata": {},
   "outputs": [],
   "source": [
    "income_resp = income_resp['2010']"
   ]
  },
  {
   "cell_type": "code",
   "execution_count": 386,
   "metadata": {},
   "outputs": [],
   "source": [
    "income_resp.dropna(how='all', inplace=True)"
   ]
  },
  {
   "cell_type": "code",
   "execution_count": 387,
   "metadata": {},
   "outputs": [],
   "source": [
    "income_resp.rename(columns={income_resp.columns[0]:'neighborhood'}, inplace=True)"
   ]
  },
  {
   "cell_type": "code",
   "execution_count": 388,
   "metadata": {},
   "outputs": [],
   "source": [
    "income_resp['neighborhood'] = [neighborhood.lower().strip().replace('á','a')\n",
    "                                              .replace('é','e')\n",
    "                                              .replace('í','i')\n",
    "                                              .replace('ó','o')\n",
    "                                              .replace('ú','u') for neighborhood in income_resp['neighborhood']]"
   ]
  },
  {
   "cell_type": "code",
   "execution_count": 389,
   "metadata": {},
   "outputs": [],
   "source": [
    "income_resp.reset_index(drop=True, inplace=True)"
   ]
  },
  {
   "cell_type": "code",
   "execution_count": 390,
   "metadata": {},
   "outputs": [
    {
     "data": {
      "text/plain": [
       "(199, 6)"
      ]
     },
     "execution_count": 390,
     "metadata": {},
     "output_type": "execute_result"
    }
   ],
   "source": [
    "income_resp.shape"
   ]
  },
  {
   "cell_type": "markdown",
   "metadata": {},
   "source": [
    "118,156 - freguesias"
   ]
  },
  {
   "cell_type": "markdown",
   "metadata": {},
   "source": [
    "#### Mass Salary by industry and neighborhood"
   ]
  },
  {
   "cell_type": "code",
   "execution_count": 391,
   "metadata": {},
   "outputs": [],
   "source": [
    "sal.rename(columns={'Bairros':'neighborhood'}, inplace=True)"
   ]
  },
  {
   "cell_type": "code",
   "execution_count": 392,
   "metadata": {},
   "outputs": [],
   "source": [
    "sal.dropna(how='all', subset=['neighborhood'], inplace=True)"
   ]
  },
  {
   "cell_type": "code",
   "execution_count": 393,
   "metadata": {},
   "outputs": [],
   "source": [
    "sal['neighborhood'] = [neighborhood.lower().strip().replace('á','a')\n",
    "                                              .replace('é','e')\n",
    "                                              .replace('í','i')\n",
    "                                              .replace('ó','o')\n",
    "                                              .replace('ú','u') for neighborhood in sal['neighborhood']]"
   ]
  },
  {
   "cell_type": "code",
   "execution_count": 394,
   "metadata": {},
   "outputs": [],
   "source": [
    "sal.reset_index(drop=True, inplace=True)"
   ]
  },
  {
   "cell_type": "code",
   "execution_count": 395,
   "metadata": {},
   "outputs": [
    {
     "data": {
      "text/plain": [
       "(215, 28)"
      ]
     },
     "execution_count": 395,
     "metadata": {},
     "output_type": "execute_result"
    }
   ],
   "source": [
    "sal.shape"
   ]
  },
  {
   "cell_type": "markdown",
   "metadata": {},
   "source": [
    "### 5. Estabelecimentos de industrias selecionadas (Comercio)"
   ]
  },
  {
   "cell_type": "code",
   "execution_count": 396,
   "metadata": {},
   "outputs": [],
   "source": [
    "stab.rename(columns={stab.columns[0]:'neighborhood'}, inplace=True)"
   ]
  },
  {
   "cell_type": "code",
   "execution_count": 397,
   "metadata": {},
   "outputs": [],
   "source": [
    "stab.dropna(how='all', subset=['neighborhood'], inplace=True)"
   ]
  },
  {
   "cell_type": "code",
   "execution_count": 398,
   "metadata": {},
   "outputs": [],
   "source": [
    "stab['neighborhood'] = [neighborhood.lower().strip().replace('á','a')\n",
    "                                              .replace('é','e')\n",
    "                                              .replace('í','i')\n",
    "                                              .replace('ó','o')\n",
    "                                              .replace('ú','u') for neighborhood in stab['neighborhood']]"
   ]
  },
  {
   "cell_type": "code",
   "execution_count": 399,
   "metadata": {},
   "outputs": [],
   "source": [
    "stab.reset_index(drop=True, inplace=True)"
   ]
  },
  {
   "cell_type": "code",
   "execution_count": 400,
   "metadata": {},
   "outputs": [
    {
     "data": {
      "text/plain": [
       "(215, 28)"
      ]
     },
     "execution_count": 400,
     "metadata": {},
     "output_type": "execute_result"
    }
   ],
   "source": [
    "stab.shape"
   ]
  },
  {
   "cell_type": "code",
   "execution_count": 401,
   "metadata": {},
   "outputs": [
    {
     "data": {
      "text/plain": [
       "215"
      ]
     },
     "execution_count": 401,
     "metadata": {},
     "output_type": "execute_result"
    }
   ],
   "source": [
    "stab['neighborhood'].unique().size"
   ]
  },
  {
   "cell_type": "markdown",
   "metadata": {},
   "source": [
    "### 6. Consumo de energia (Comercio)    "
   ]
  },
  {
   "cell_type": "markdown",
   "metadata": {},
   "source": [
    "#### Energy comsumption per consumption class and neighborhood"
   ]
  },
  {
   "cell_type": "code",
   "execution_count": 402,
   "metadata": {},
   "outputs": [],
   "source": [
    "energy_consump.columns = ['neighborhood']+['Consumo ' + col_name.replace(' (1)', '') for col_name in energy_consump.columns[1:]]"
   ]
  },
  {
   "cell_type": "code",
   "execution_count": 403,
   "metadata": {},
   "outputs": [],
   "source": [
    "energy_consump.dropna(how='all', subset=['neighborhood'], inplace=True)"
   ]
  },
  {
   "cell_type": "code",
   "execution_count": 404,
   "metadata": {},
   "outputs": [],
   "source": [
    "energy_consump['neighborhood'] = [neighborhood.lower().strip().replace('á','a')\n",
    "                                              .replace('é','e')\n",
    "                                              .replace('í','i')\n",
    "                                              .replace('ó','o')\n",
    "                                              .replace('ú','u') for neighborhood in energy_consump['neighborhood']]"
   ]
  },
  {
   "cell_type": "code",
   "execution_count": 405,
   "metadata": {},
   "outputs": [],
   "source": [
    "energy_consump.reset_index(drop=True, inplace=True)"
   ]
  },
  {
   "cell_type": "code",
   "execution_count": 406,
   "metadata": {},
   "outputs": [
    {
     "data": {
      "text/plain": [
       "(216, 10)"
      ]
     },
     "execution_count": 406,
     "metadata": {},
     "output_type": "execute_result"
    }
   ],
   "source": [
    "energy_consump.shape"
   ]
  },
  {
   "cell_type": "code",
   "execution_count": 407,
   "metadata": {},
   "outputs": [
    {
     "data": {
      "text/plain": [
       "216"
      ]
     },
     "execution_count": 407,
     "metadata": {},
     "output_type": "execute_result"
    }
   ],
   "source": [
    "energy_consump['neighborhood'].unique().size"
   ]
  },
  {
   "cell_type": "markdown",
   "metadata": {},
   "source": [
    "#### Energy consuming units per consumption class and neighborhood"
   ]
  },
  {
   "cell_type": "code",
   "execution_count": 408,
   "metadata": {},
   "outputs": [],
   "source": [
    "energy_units.columns = ['neighborhood']+['Unidades - ' + col_name.replace(' (1)', '') for col_name in energy_units.columns[1:]]"
   ]
  },
  {
   "cell_type": "code",
   "execution_count": 409,
   "metadata": {},
   "outputs": [],
   "source": [
    "energy_units.dropna(how='all', subset=['neighborhood'], inplace=True)"
   ]
  },
  {
   "cell_type": "code",
   "execution_count": 410,
   "metadata": {},
   "outputs": [],
   "source": [
    "energy_units['neighborhood'] = [neighborhood.lower().strip().replace('á','a')\n",
    "                                              .replace('é','e')\n",
    "                                              .replace('í','i')\n",
    "                                              .replace('ó','o')\n",
    "                                              .replace('ú','u') for neighborhood in energy_units['neighborhood']]"
   ]
  },
  {
   "cell_type": "code",
   "execution_count": 411,
   "metadata": {},
   "outputs": [],
   "source": [
    "energy_units.reset_index(drop=True, inplace=True)"
   ]
  },
  {
   "cell_type": "code",
   "execution_count": 412,
   "metadata": {},
   "outputs": [
    {
     "data": {
      "text/plain": [
       "(216, 10)"
      ]
     },
     "execution_count": 412,
     "metadata": {},
     "output_type": "execute_result"
    }
   ],
   "source": [
    "energy_units.shape"
   ]
  },
  {
   "cell_type": "code",
   "execution_count": 413,
   "metadata": {},
   "outputs": [
    {
     "data": {
      "text/plain": [
       "215"
      ]
     },
     "execution_count": 413,
     "metadata": {},
     "output_type": "execute_result"
    }
   ],
   "source": [
    "energy_units['neighborhood'].unique().size"
   ]
  },
  {
   "cell_type": "markdown",
   "metadata": {},
   "source": [
    "### 7. Empregados por setor"
   ]
  },
  {
   "cell_type": "code",
   "execution_count": 414,
   "metadata": {},
   "outputs": [],
   "source": [
    "emp.rename(columns={emp.columns[0]:'neighborhood'}, inplace=True)"
   ]
  },
  {
   "cell_type": "code",
   "execution_count": 415,
   "metadata": {},
   "outputs": [],
   "source": [
    "emp.dropna(how='all', subset=['neighborhood'], inplace=True)"
   ]
  },
  {
   "cell_type": "code",
   "execution_count": 416,
   "metadata": {},
   "outputs": [],
   "source": [
    "emp['neighborhood'] = [neighborhood.lower().strip().replace('á','a')\n",
    "                                              .replace('é','e')\n",
    "                                              .replace('í','i')\n",
    "                                              .replace('ó','o')\n",
    "                                              .replace('ú','u') for neighborhood in emp['neighborhood']]"
   ]
  },
  {
   "cell_type": "code",
   "execution_count": 417,
   "metadata": {},
   "outputs": [],
   "source": [
    "emp.reset_index(drop=True, inplace=True)"
   ]
  },
  {
   "cell_type": "code",
   "execution_count": 418,
   "metadata": {},
   "outputs": [
    {
     "data": {
      "text/plain": [
       "(215, 28)"
      ]
     },
     "execution_count": 418,
     "metadata": {},
     "output_type": "execute_result"
    }
   ],
   "source": [
    "emp.shape"
   ]
  },
  {
   "cell_type": "code",
   "execution_count": 419,
   "metadata": {},
   "outputs": [
    {
     "data": {
      "text/plain": [
       "215"
      ]
     },
     "execution_count": 419,
     "metadata": {},
     "output_type": "execute_result"
    }
   ],
   "source": [
    "emp['neighborhood'].unique().size"
   ]
  },
  {
   "cell_type": "markdown",
   "metadata": {},
   "source": [
    "### 8. Merging Tables"
   ]
  },
  {
   "cell_type": "code",
   "execution_count": 420,
   "metadata": {},
   "outputs": [],
   "source": [
    "dfs = [pop3, areas, income_indv, income_resp, sal, stab, energy_consump, energy_units, emp]\n",
    "dfs = [dfs[i].copy() for i in range(len(dfs))]"
   ]
  },
  {
   "cell_type": "code",
   "execution_count": 421,
   "metadata": {},
   "outputs": [
    {
     "data": {
      "text/plain": [
       "[199, 163, 199, 199, 215, 215, 216, 216, 215]"
      ]
     },
     "execution_count": 421,
     "metadata": {},
     "output_type": "execute_result"
    }
   ],
   "source": [
    "[df.shape[0] for df in dfs]"
   ]
  },
  {
   "cell_type": "markdown",
   "metadata": {},
   "source": [
    "is_not_in(dfs)"
   ]
  },
  {
   "cell_type": "code",
   "execution_count": 422,
   "metadata": {},
   "outputs": [],
   "source": [
    "incorrect = ['oswaldo cruz', 'imperial de são cristovão', 'vila cosmos', 'grumari(1)', 'joa(1)', ['freguesia ig', 'freguesia (ilha)'], 'freguesia (jacarepagua)']\n",
    "\n",
    "correct = ['osvaldo cruz', 'são cristovão', 'vila kosmos', 'grumari', 'joa', 'freguesia - ilha do governador', 'freguesia - jacarepagua']"
   ]
  },
  {
   "cell_type": "code",
   "execution_count": 423,
   "metadata": {},
   "outputs": [],
   "source": [
    "for i in range(len(dfs)):\n",
    "    \n",
    "    for incorrect_name, correct_name in zip(incorrect, correct):\n",
    "    \n",
    "        if len(incorrect_name)!=2:\n",
    "            \n",
    "            if incorrect_name in dfs[i]['neighborhood'].tolist():\n",
    "                \n",
    "                dfs[i].loc[dfs[i]['neighborhood'].tolist().index(incorrect_name), 'neighborhood'] = correct_name\n",
    "        \n",
    "        else:\n",
    "            \n",
    "            for name in incorrect_name:\n",
    "                \n",
    "                if name in dfs[i]['neighborhood'].tolist():\n",
    "                \n",
    "                    dfs[i].loc[dfs[i]['neighborhood'].tolist().index(name), 'neighborhood'] = correct_name\n",
    "                    "
   ]
  },
  {
   "cell_type": "code",
   "execution_count": 424,
   "metadata": {},
   "outputs": [],
   "source": [
    "for i in [0, 2, 3]:\n",
    "    \n",
    "    dfs[i].loc[115, 'neighborhood'] = correct[-2]\n",
    "    dfs[i].loc[153, 'neighborhood'] = correct[-1]\n",
    "    \n",
    "dfs[6].loc[165, 'neighborhood'] = correct[-1]\n",
    "\n",
    "dfs[7].loc[149, 'neighborhood'] = correct[-2]\n",
    "dfs[7].loc[165, 'neighborhood'] = correct[-1]"
   ]
  },
  {
   "cell_type": "code",
   "execution_count": 425,
   "metadata": {},
   "outputs": [],
   "source": [
    "not_neighborhood = is_not_in(dfs)"
   ]
  },
  {
   "cell_type": "code",
   "execution_count": 426,
   "metadata": {},
   "outputs": [],
   "source": [
    "not_neighborhood_unique = []\n",
    "\n",
    "for i in range(len(not_neighborhood)):\n",
    "    \n",
    "    not_neighborhood_unique.extend([name for name in not_neighborhood[i][2]])\n",
    "\n",
    "not_neighborhood_unique = np.unique(not_neighborhood_unique)"
   ]
  },
  {
   "cell_type": "code",
   "execution_count": 427,
   "metadata": {},
   "outputs": [],
   "source": [
    "for i in range(len(dfs)):\n",
    "\n",
    "    dfs[i] = dfs[i][~dfs[i]['neighborhood'].isin(not_neighborhood_unique)].copy()\n",
    "    \n",
    "    dfs[i].reset_index(drop=True, inplace=True)"
   ]
  },
  {
   "cell_type": "markdown",
   "metadata": {},
   "source": [
    "#### Excluded Neighborhoods:\n",
    "1. Jabour\n",
    "2. Lapa\n",
    "3. Vila Kennedy"
   ]
  },
  {
   "cell_type": "code",
   "execution_count": 428,
   "metadata": {},
   "outputs": [
    {
     "data": {
      "text/plain": [
       "[160, 160, 160, 160, 160, 160, 160, 160, 160]"
      ]
     },
     "execution_count": 428,
     "metadata": {},
     "output_type": "execute_result"
    }
   ],
   "source": [
    "[dfs[i].shape[0] for i in range(len(dfs))]"
   ]
  },
  {
   "cell_type": "code",
   "execution_count": 429,
   "metadata": {},
   "outputs": [],
   "source": [
    "for i in range(len(dfs)):\n",
    "    \n",
    "    dfs[i] = dfs[i].sort_values(by='neighborhood').copy()"
   ]
  },
  {
   "cell_type": "code",
   "execution_count": 430,
   "metadata": {},
   "outputs": [
    {
     "name": "stdout",
     "output_type": "stream",
     "text": [
      "All neighborhoods columns are exactly the same\n"
     ]
    }
   ],
   "source": [
    "is_equal = []\n",
    "for i in range(len(dfs)):\n",
    "    for j in range(len(dfs)):\n",
    "        \n",
    "        if i<j:\n",
    "            \n",
    "            is_equal.append(dfs[i]['neighborhood'].tolist()==dfs[j]['neighborhood'].tolist())\n",
    "\n",
    "if np.array(is_equal).all(): print('All neighborhoods columns are exactly the same')"
   ]
  },
  {
   "cell_type": "code",
   "execution_count": 431,
   "metadata": {},
   "outputs": [
    {
     "data": {
      "text/plain": [
       "[[0, 1, array([], dtype=object)],\n",
       " [0, 2, array([], dtype=object)],\n",
       " [0, 3, array([], dtype=object)],\n",
       " [0, 4, array([], dtype=object)],\n",
       " [0, 5, array([], dtype=object)],\n",
       " [0, 6, array([], dtype=object)],\n",
       " [0, 7, array([], dtype=object)],\n",
       " [0, 8, array([], dtype=object)],\n",
       " [1, 0, array([], dtype=object)],\n",
       " [1, 2, array([], dtype=object)],\n",
       " [1, 3, array([], dtype=object)],\n",
       " [1, 4, array([], dtype=object)],\n",
       " [1, 5, array([], dtype=object)],\n",
       " [1, 6, array([], dtype=object)],\n",
       " [1, 7, array([], dtype=object)],\n",
       " [1, 8, array([], dtype=object)],\n",
       " [2, 0, array([], dtype=object)],\n",
       " [2, 1, array([], dtype=object)],\n",
       " [2, 3, array([], dtype=object)],\n",
       " [2, 4, array([], dtype=object)],\n",
       " [2, 5, array([], dtype=object)],\n",
       " [2, 6, array([], dtype=object)],\n",
       " [2, 7, array([], dtype=object)],\n",
       " [2, 8, array([], dtype=object)],\n",
       " [3, 0, array([], dtype=object)],\n",
       " [3, 1, array([], dtype=object)],\n",
       " [3, 2, array([], dtype=object)],\n",
       " [3, 4, array([], dtype=object)],\n",
       " [3, 5, array([], dtype=object)],\n",
       " [3, 6, array([], dtype=object)],\n",
       " [3, 7, array([], dtype=object)],\n",
       " [3, 8, array([], dtype=object)],\n",
       " [4, 0, array([], dtype=object)],\n",
       " [4, 1, array([], dtype=object)],\n",
       " [4, 2, array([], dtype=object)],\n",
       " [4, 3, array([], dtype=object)],\n",
       " [4, 5, array([], dtype=object)],\n",
       " [4, 6, array([], dtype=object)],\n",
       " [4, 7, array([], dtype=object)],\n",
       " [4, 8, array([], dtype=object)],\n",
       " [5, 0, array([], dtype=object)],\n",
       " [5, 1, array([], dtype=object)],\n",
       " [5, 2, array([], dtype=object)],\n",
       " [5, 3, array([], dtype=object)],\n",
       " [5, 4, array([], dtype=object)],\n",
       " [5, 6, array([], dtype=object)],\n",
       " [5, 7, array([], dtype=object)],\n",
       " [5, 8, array([], dtype=object)],\n",
       " [6, 0, array([], dtype=object)],\n",
       " [6, 1, array([], dtype=object)],\n",
       " [6, 2, array([], dtype=object)],\n",
       " [6, 3, array([], dtype=object)],\n",
       " [6, 4, array([], dtype=object)],\n",
       " [6, 5, array([], dtype=object)],\n",
       " [6, 7, array([], dtype=object)],\n",
       " [6, 8, array([], dtype=object)],\n",
       " [7, 0, array([], dtype=object)],\n",
       " [7, 1, array([], dtype=object)],\n",
       " [7, 2, array([], dtype=object)],\n",
       " [7, 3, array([], dtype=object)],\n",
       " [7, 4, array([], dtype=object)],\n",
       " [7, 5, array([], dtype=object)],\n",
       " [7, 6, array([], dtype=object)],\n",
       " [7, 8, array([], dtype=object)],\n",
       " [8, 0, array([], dtype=object)],\n",
       " [8, 1, array([], dtype=object)],\n",
       " [8, 2, array([], dtype=object)],\n",
       " [8, 3, array([], dtype=object)],\n",
       " [8, 4, array([], dtype=object)],\n",
       " [8, 5, array([], dtype=object)],\n",
       " [8, 6, array([], dtype=object)],\n",
       " [8, 7, array([], dtype=object)]]"
      ]
     },
     "execution_count": 431,
     "metadata": {},
     "output_type": "execute_result"
    }
   ],
   "source": [
    "is_not_in(dfs)"
   ]
  },
  {
   "cell_type": "code",
   "execution_count": 432,
   "metadata": {},
   "outputs": [],
   "source": [
    "dfs = [pop3, areas, income_indv, income_resp, sal, stab, energy_consump, energy_units, emp]\n",
    "dfs = [dfs[i].copy() for i in range(len(dfs))]"
   ]
  },
  {
   "cell_type": "markdown",
   "metadata": {},
   "source": [
    "# Merging Neighborhood Data"
   ]
  },
  {
   "cell_type": "code",
   "execution_count": 433,
   "metadata": {},
   "outputs": [],
   "source": [
    "dfs_index = [0,1,2,3,5,8,4,6,7]"
   ]
  },
  {
   "cell_type": "code",
   "execution_count": 434,
   "metadata": {},
   "outputs": [],
   "source": [
    "for i in range(len(dfs_index)-1):\n",
    "    \n",
    "    if i==0:\n",
    "        \n",
    "        data = pd.merge(dfs[dfs_index[i]], dfs[dfs_index[i+1]], on='neighborhood')\n",
    "    else:\n",
    "        \n",
    "        data = pd.merge(data, dfs[dfs_index[i+1]], on='neighborhood')"
   ]
  },
  {
   "cell_type": "code",
   "execution_count": 435,
   "metadata": {},
   "outputs": [
    {
     "data": {
      "text/plain": [
       "(153, 140)"
      ]
     },
     "execution_count": 435,
     "metadata": {},
     "output_type": "execute_result"
    }
   ],
   "source": [
    "data.shape    # Shape should be (160, 140)"
   ]
  },
  {
   "cell_type": "markdown",
   "metadata": {},
   "source": [
    "# Data Cleaning"
   ]
  },
  {
   "cell_type": "code",
   "execution_count": 436,
   "metadata": {},
   "outputs": [],
   "source": [
    "for col in data.iloc[:, 1:]:\n",
    "    \n",
    "    data.loc[:, col] = data.loc[:, col].astype(str).str.replace(' ', '')"
   ]
  },
  {
   "cell_type": "code",
   "execution_count": 437,
   "metadata": {},
   "outputs": [],
   "source": [
    "data.replace('-', np.nan, inplace=True)"
   ]
  },
  {
   "cell_type": "code",
   "execution_count": 438,
   "metadata": {},
   "outputs": [],
   "source": [
    "data.replace('#Value!', np.nan, inplace=True)"
   ]
  },
  {
   "cell_type": "code",
   "execution_count": 439,
   "metadata": {},
   "outputs": [],
   "source": [
    "data.replace('...', np.nan, inplace=True)"
   ]
  },
  {
   "cell_type": "code",
   "execution_count": 440,
   "metadata": {},
   "outputs": [],
   "source": [
    "data.iloc[:, 1:] = data.iloc[:, 1:].astype(float)"
   ]
  },
  {
   "cell_type": "markdown",
   "metadata": {},
   "source": [
    "# Saving Loading Merged Neighborhood Data"
   ]
  },
  {
   "cell_type": "code",
   "execution_count": 441,
   "metadata": {},
   "outputs": [],
   "source": [
    "#data.to_csv('\\\\Users\\luisr\\Desktop\\Repository\\IBM_courses\\Course Work\\Assignments\\Final Capstone Project\\\\rio dataframes\\\\Final Data\\\\neighborhood_data.csv', index=False)"
   ]
  },
  {
   "cell_type": "code",
   "execution_count": 33,
   "metadata": {},
   "outputs": [],
   "source": [
    "data = pd.read_csv('\\\\Users\\luisr\\Desktop\\Repository\\IBM_courses\\Course Work\\Assignments\\Final Capstone Project\\\\rio dataframes\\\\Final Data\\\\neighborhood_data.csv')"
   ]
  },
  {
   "cell_type": "markdown",
   "metadata": {},
   "source": [
    "# Foursquare Gym Data"
   ]
  },
  {
   "cell_type": "markdown",
   "metadata": {},
   "source": [
    "### Cleaning"
   ]
  },
  {
   "cell_type": "code",
   "execution_count": 34,
   "metadata": {},
   "outputs": [],
   "source": [
    "incorrect = ['oswaldo cruz', 'imperial de são cristovão', 'vila cosmos', 'grumari(1)', 'joa(1)', ['freguesia ig', 'freguesia (ilha)'], 'freguesia (jacarepagua)']\n",
    "\n",
    "correct = ['osvaldo cruz', 'são cristovão', 'vila kosmos', 'grumari', 'joa', 'freguesia - ilha do governador', 'freguesia - jacarepagua']"
   ]
  },
  {
   "cell_type": "code",
   "execution_count": 35,
   "metadata": {},
   "outputs": [],
   "source": [
    "gyms = pd.read_csv('\\\\Users\\luisr\\Desktop\\Repository\\IBM_courses\\Course Work\\Assignments\\Final Capstone Project\\\\rio dataframes\\\\Search Results\\\\gyms\\\\gym_search.csv')"
   ]
  },
  {
   "cell_type": "code",
   "execution_count": 36,
   "metadata": {},
   "outputs": [],
   "source": [
    "gyms.rename(columns={gyms.columns[0]:'neighborhood'}, inplace=True)"
   ]
  },
  {
   "cell_type": "code",
   "execution_count": 37,
   "metadata": {},
   "outputs": [],
   "source": [
    "correct_gym_index = [-2, -1, 1, 0, 2]"
   ]
  },
  {
   "cell_type": "code",
   "execution_count": 38,
   "metadata": {},
   "outputs": [],
   "source": [
    "incorrect_gym = ['freguesia (ilha do governador)', 'freguesia (jacarepaguá)',\n",
    "        'imperial de são cristóvão', 'oswaldo cruz',\n",
    "        'vila cosmos']"
   ]
  },
  {
   "cell_type": "code",
   "execution_count": 39,
   "metadata": {},
   "outputs": [
    {
     "name": "stderr",
     "output_type": "stream",
     "text": [
      "<ipython-input-39-39a297d828ae>:3: SettingWithCopyWarning: \n",
      "A value is trying to be set on a copy of a slice from a DataFrame\n",
      "\n",
      "See the caveats in the documentation: https://pandas.pydata.org/pandas-docs/stable/user_guide/indexing.html#returning-a-view-versus-a-copy\n",
      "  gyms.loc[:, 'neighborhood'][gyms['neighborhood']==gym_hood_name] = [correct[correct_index] for times in range(len(gyms[gyms['neighborhood']==gym_hood_name]['neighborhood']))]\n"
     ]
    }
   ],
   "source": [
    "for gym_hood_name, correct_index in zip(incorrect_gym, correct_gym_index):\n",
    "    \n",
    "    gyms.loc[:, 'neighborhood'][gyms['neighborhood']==gym_hood_name] = [correct[correct_index] for times in range(len(gyms[gyms['neighborhood']==gym_hood_name]['neighborhood']))]\n",
    "    "
   ]
  },
  {
   "cell_type": "code",
   "execution_count": 40,
   "metadata": {},
   "outputs": [],
   "source": [
    "gyms['neighborhood'] = [neighborhood.lower().strip().replace('á','a')\n",
    "                                              .replace('é','e')\n",
    "                                              .replace('í','i')\n",
    "                                              .replace('ó','o')\n",
    "                                              .replace('ú','u') for neighborhood in gyms['neighborhood']]"
   ]
  },
  {
   "cell_type": "code",
   "execution_count": 41,
   "metadata": {},
   "outputs": [
    {
     "data": {
      "text/plain": [
       "[[0,\n",
       "  1,\n",
       "  array(['caju', 'cidade nova', 'mangueira', 'vasco da gama', 'paqueta',\n",
       "         'agua santa', 'são francisco xavier', 'engenheiro leal', 'turiaçu',\n",
       "         'bancarios', 'monero', 'praia da bandeira', 'zumbi', 'acari',\n",
       "         'barros filho', 'costa barros', 'jacarezinho', 'gericino',\n",
       "         'barra de guaratiba'], dtype=object)],\n",
       " [1,\n",
       "  0,\n",
       "  array(['freguesia - ilha do governador', 'freguesia - jacarepagua',\n",
       "         'são cristovão', 'jabour', 'lapa', 'osvaldo cruz', 'vila kosmos',\n",
       "         'vila kennedy'], dtype=object)]]"
      ]
     },
     "execution_count": 41,
     "metadata": {},
     "output_type": "execute_result"
    }
   ],
   "source": [
    "is_not_in([data, gyms])"
   ]
  },
  {
   "cell_type": "markdown",
   "metadata": {},
   "source": [
    "### Merging foursquare gym and neighborhoods and data"
   ]
  },
  {
   "cell_type": "code",
   "execution_count": 42,
   "metadata": {},
   "outputs": [],
   "source": [
    "gyms_grp = gyms[['neighborhood', 'name']].groupby('neighborhood', sort=False, as_index=False).count()"
   ]
  },
  {
   "cell_type": "code",
   "execution_count": 43,
   "metadata": {},
   "outputs": [],
   "source": [
    "gym_data = pd.merge(gyms_grp, data, on='neighborhood')"
   ]
  },
  {
   "cell_type": "code",
   "execution_count": 44,
   "metadata": {},
   "outputs": [],
   "source": [
    "gym_data.rename(columns={'name':'gyms'}, inplace=True)"
   ]
  },
  {
   "cell_type": "code",
   "execution_count": 45,
   "metadata": {},
   "outputs": [],
   "source": [
    "gym_data.columns = [col.strip() for col in gym_data.columns]"
   ]
  },
  {
   "cell_type": "code",
   "execution_count": 48,
   "metadata": {},
   "outputs": [
    {
     "data": {
      "text/plain": [
       "(134, 141)"
      ]
     },
     "execution_count": 48,
     "metadata": {},
     "output_type": "execute_result"
    }
   ],
   "source": [
    "gym_data.shape   # Shape should be (134, 141)"
   ]
  },
  {
   "cell_type": "code",
   "execution_count": 49,
   "metadata": {},
   "outputs": [
    {
     "data": {
      "text/plain": [
       "[[0,\n",
       "  1,\n",
       "  array(['caju', 'cidade nova', 'mangueira', 'vasco da gama', 'paqueta',\n",
       "         'agua santa', 'são francisco xavier', 'engenheiro leal', 'turiaçu',\n",
       "         'bancarios', 'monero', 'praia da bandeira', 'zumbi', 'acari',\n",
       "         'barros filho', 'costa barros', 'jacarezinho', 'gericino',\n",
       "         'barra de guaratiba'], dtype=object)],\n",
       " [1, 0, array([], dtype=object)]]"
      ]
     },
     "execution_count": 49,
     "metadata": {},
     "output_type": "execute_result"
    }
   ],
   "source": [
    "is_not_in([data, gym_data])"
   ]
  },
  {
   "cell_type": "markdown",
   "metadata": {},
   "source": [
    "# Feature Engineering"
   ]
  },
  {
   "cell_type": "markdown",
   "metadata": {},
   "source": [
    "### Target Population and Gyms"
   ]
  },
  {
   "cell_type": "code",
   "execution_count": 50,
   "metadata": {},
   "outputs": [],
   "source": [
    "gym_data['target pop'] = gym_data.iloc[:, 19:23].sum(axis=1)\n",
    "\n",
    "gym_data['Km2'] = gym_data['m2'] / 1000000\n",
    "\n",
    "gym_data['target_pop/Km2'] = gym_data['target pop'] / gym_data['Km2']\n",
    "\n",
    "gym_data['pop/Km2'] = gym_data['População'] / gym_data['Km2']\n",
    "\n",
    "gym_data['gym/Km2'] = gym_data['gyms'] / gym_data['Km2']\n",
    "\n",
    "gym_data['gym/pop'] = gym_data['gyms'] / gym_data['População']*10000\n",
    "\n",
    "gym_data['gym/target_pop'] = gym_data['gyms'] / gym_data['target pop']*10000"
   ]
  },
  {
   "cell_type": "code",
   "execution_count": 51,
   "metadata": {},
   "outputs": [
    {
     "data": {
      "text/plain": [
       "(134, 148)"
      ]
     },
     "execution_count": 51,
     "metadata": {},
     "output_type": "execute_result"
    }
   ],
   "source": [
    "gym_data.shape     # Shape should be (139, 148)"
   ]
  },
  {
   "cell_type": "markdown",
   "metadata": {},
   "source": [
    "### Industries"
   ]
  },
  {
   "cell_type": "code",
   "execution_count": 52,
   "metadata": {},
   "outputs": [],
   "source": [
    "gym_data['avg salary'] = gym_data['Total'] / gym_data['Total_y']"
   ]
  },
  {
   "cell_type": "markdown",
   "metadata": {},
   "source": [
    "# Saving Loading Complete Dataframe for Analysis"
   ]
  },
  {
   "cell_type": "code",
   "execution_count": 54,
   "metadata": {},
   "outputs": [],
   "source": [
    "#gym_data.to_csv('\\\\Users\\luisr\\Desktop\\Repository\\IBM_courses\\Course Work\\Assignments\\Final Capstone Project\\\\rio dataframes\\\\Final Data\\\\gym_neighborhood_data.csv', index=False)"
   ]
  },
  {
   "cell_type": "code",
   "execution_count": 55,
   "metadata": {},
   "outputs": [],
   "source": [
    "gym_data = pd.read_csv('\\\\Users\\luisr\\Desktop\\Repository\\IBM_courses\\Course Work\\Assignments\\Final Capstone Project\\\\rio dataframes\\\\Final Data\\\\gym_neighborhood_data.csv')"
   ]
  },
  {
   "cell_type": "code",
   "execution_count": 56,
   "metadata": {},
   "outputs": [
    {
     "data": {
      "text/plain": [
       "(134, 149)"
      ]
     },
     "execution_count": 56,
     "metadata": {},
     "output_type": "execute_result"
    }
   ],
   "source": [
    "gym_data.shape"
   ]
  },
  {
   "cell_type": "markdown",
   "metadata": {},
   "source": [
    "# Target and Predictors Definition"
   ]
  },
  {
   "cell_type": "code",
   "execution_count": 31,
   "metadata": {},
   "outputs": [],
   "source": [
    "eng_features = gym_data.columns[-7:].tolist()"
   ]
  },
  {
   "cell_type": "code",
   "execution_count": 32,
   "metadata": {},
   "outputs": [],
   "source": [
    "eng_features.remove('Km2')"
   ]
  },
  {
   "cell_type": "code",
   "execution_count": 33,
   "metadata": {},
   "outputs": [],
   "source": [
    "targets = ['gyms', 'gym/Km2', 'gym/pop', 'gym/target_pop']"
   ]
  },
  {
   "cell_type": "code",
   "execution_count": 34,
   "metadata": {},
   "outputs": [],
   "source": [
    "features = [col for col in gym_data.columns if col not in targets and col!='neighborhood']"
   ]
  },
  {
   "cell_type": "code",
   "execution_count": 35,
   "metadata": {},
   "outputs": [],
   "source": [
    "corr_features = gym_data.corr()[targets[0]][gym_data.corr()[targets[0]]>0.5].index"
   ]
  },
  {
   "cell_type": "code",
   "execution_count": 36,
   "metadata": {},
   "outputs": [
    {
     "data": {
      "text/plain": [
       "42"
      ]
     },
     "execution_count": 36,
     "metadata": {},
     "output_type": "execute_result"
    }
   ],
   "source": [
    "corr_features.size"
   ]
  },
  {
   "cell_type": "markdown",
   "metadata": {},
   "source": [
    "# Correlation Heatmap"
   ]
  },
  {
   "cell_type": "code",
   "execution_count": null,
   "metadata": {},
   "outputs": [],
   "source": [
    "fig, ax0 = plt.subplots(1,1,figsize=(6, 34))\n",
    "\n",
    "sns.heatmap(gym_data.corr()[targets], cmap='RdBu', annot=True)"
   ]
  },
  {
   "cell_type": "markdown",
   "metadata": {},
   "source": [
    "# Variables for Regression"
   ]
  },
  {
   "cell_type": "code",
   "execution_count": 38,
   "metadata": {},
   "outputs": [],
   "source": [
    "y = gym_data[[targets[0]]].copy()"
   ]
  },
  {
   "cell_type": "code",
   "execution_count": 39,
   "metadata": {},
   "outputs": [],
   "source": [
    "x = gym_data[features].fillna(0).copy()"
   ]
  },
  {
   "cell_type": "code",
   "execution_count": 40,
   "metadata": {},
   "outputs": [
    {
     "data": {
      "image/png": "[encoded data removed]",
      "text/plain": [
       "<Figure size 432x288 with 1 Axes>"
      ]
     },
     "metadata": {
      "needs_background": "light"
     },
     "output_type": "display_data"
    }
   ],
   "source": [
    "y.iloc[:,0].sort_values().plot.bar(xticks=[])\n",
    "plt.xlabel('Neighborhoods')\n",
    "plt.ylabel('Gyms')\n",
    "plt.show()"
   ]
  },
  {
   "cell_type": "markdown",
   "metadata": {},
   "source": [
    "# Data Transformation"
   ]
  },
  {
   "cell_type": "code",
   "execution_count": 41,
   "metadata": {},
   "outputs": [],
   "source": [
    "x_log = x.apply(np.log1p)"
   ]
  },
  {
   "cell_type": "code",
   "execution_count": 57,
   "metadata": {},
   "outputs": [],
   "source": [
    "y_log = y.apply(np.log1p)"
   ]
  },
  {
   "cell_type": "code",
   "execution_count": 42,
   "metadata": {},
   "outputs": [],
   "source": [
    "from sklearn.preprocessing import StandardScaler as ss"
   ]
  },
  {
   "cell_type": "code",
   "execution_count": 43,
   "metadata": {},
   "outputs": [],
   "source": [
    "x_ss = ss().fit_transform(x_log)"
   ]
  },
  {
   "cell_type": "markdown",
   "metadata": {},
   "source": [
    "# LassoCV Regression"
   ]
  },
  {
   "cell_type": "code",
   "execution_count": 44,
   "metadata": {},
   "outputs": [],
   "source": [
    "from sklearn.linear_model import LassoCV\n",
    "from sklearn.metrics import r2_score"
   ]
  },
  {
   "cell_type": "code",
   "execution_count": 131,
   "metadata": {},
   "outputs": [
    {
     "name": "stdout",
     "output_type": "stream",
     "text": [
      "0\n",
      "15\n",
      "30\n",
      "45\n",
      "60\n",
      "75\n",
      "90\n",
      "105\n",
      "120\n",
      "135\n"
     ]
    }
   ],
   "source": [
    "scrs = []\n",
    "\n",
    "for i in range(150):\n",
    "    \n",
    "    msk = np.random.rand(len(y))<0.78\n",
    "    y_train, y_test = y[msk], y[~msk]\n",
    "    x_train, x_test = x_ss[msk], x_ss[~msk]\n",
    "\n",
    "    \n",
    "    lasso_cv = LassoCV(max_iter=40000).fit(x_train, y_train.values.ravel())\n",
    "    \n",
    "    y_pred = lasso_cv.predict(x_test)\n",
    "\n",
    "    scrs.append([i, lasso_cv.alpha_, r2_score(y_test, y_pred), msk])\n",
    "    \n",
    "    if i in range(0, 151, 15): print(i)\n",
    "\n",
    "scrs = pd.DataFrame(scrs, columns=['i', 'alpha', 'r2', 'msk'])"
   ]
  },
  {
   "cell_type": "code",
   "execution_count": 139,
   "metadata": {},
   "outputs": [
    {
     "data": {
      "text/plain": [
       "<matplotlib.axes._subplots.AxesSubplot at 0x28cba710070>"
      ]
     },
     "execution_count": 139,
     "metadata": {},
     "output_type": "execute_result"
    },
    {
     "data": {
      "image/png": "[encoded data removed]",
      "text/plain": [
       "<Figure size 864x360 with 2 Axes>"
      ]
     },
     "metadata": {
      "needs_background": "light"
     },
     "output_type": "display_data"
    }
   ],
   "source": [
    "fig, (ax0, ax1) = plt.subplots(1,2, figsize=(12,5))\n",
    "\n",
    "scrs.plot.hist(y='r2', xticks=np.linspace(0,1,11), bins=200, ax=ax0, xlim=(0))\n",
    "scrs['r2'].sort_values().plot.bar(ax=ax1, xticks=[])"
   ]
  },
  {
   "cell_type": "code",
   "execution_count": 140,
   "metadata": {},
   "outputs": [
    {
     "data": {
      "text/html": [
       "<div>\n",
       "<style scoped>\n",
       "    .dataframe tbody tr th:only-of-type {\n",
       "        vertical-align: middle;\n",
       "    }\n",
       "\n",
       "    .dataframe tbody tr th {\n",
       "        vertical-align: top;\n",
       "    }\n",
       "\n",
       "    .dataframe thead th {\n",
       "        text-align: right;\n",
       "    }\n",
       "</style>\n",
       "<table border=\"1\" class=\"dataframe\">\n",
       "  <thead>\n",
       "    <tr style=\"text-align: right;\">\n",
       "      <th></th>\n",
       "      <th>i</th>\n",
       "      <th>alpha</th>\n",
       "      <th>r2</th>\n",
       "      <th>msk</th>\n",
       "    </tr>\n",
       "  </thead>\n",
       "  <tbody>\n",
       "    <tr>\n",
       "      <th>34</th>\n",
       "      <td>34</td>\n",
       "      <td>0.939462</td>\n",
       "      <td>0.764338</td>\n",
       "      <td>[True, False, True, True, False, True, False, ...</td>\n",
       "    </tr>\n",
       "  </tbody>\n",
       "</table>\n",
       "</div>"
      ],
      "text/plain": [
       "     i     alpha        r2                                                msk\n",
       "34  34  0.939462  0.764338  [True, False, True, True, False, True, False, ..."
      ]
     },
     "execution_count": 140,
     "metadata": {},
     "output_type": "execute_result"
    }
   ],
   "source": [
    "scrs[scrs['r2']==scrs['r2'].max()]"
   ]
  },
  {
   "cell_type": "markdown",
   "metadata": {},
   "source": [
    "# Evaluation"
   ]
  },
  {
   "cell_type": "code",
   "execution_count": 141,
   "metadata": {},
   "outputs": [],
   "source": [
    "msk = scrs[scrs['r2']==scrs['r2'].max()]['msk'].values[0]\n",
    "\n",
    "y_train, y_test = y[msk], y[~msk]\n",
    "x_train, x_test = x_ss[msk], x_ss[~msk]"
   ]
  },
  {
   "cell_type": "code",
   "execution_count": 142,
   "metadata": {},
   "outputs": [],
   "source": [
    "lasso_cv = LassoCV(max_iter=40000).fit(x_train, y_train.values.ravel())\n",
    "    "
   ]
  },
  {
   "cell_type": "code",
   "execution_count": 143,
   "metadata": {},
   "outputs": [
    {
     "name": "stdout",
     "output_type": "stream",
     "text": [
      "Test Set Score: 0.7643382083175556\n",
      "Train Set Score: 0.7178470725296215\n"
     ]
    }
   ],
   "source": [
    "y_pred_tst = lasso_cv.predict(x_test)\n",
    "y_pred_trn = lasso_cv.predict(x_train)\n",
    "\n",
    "scrs_lst = [r2_score(y_test, y_pred_tst), r2_score(y_train, y_pred_trn)]\n",
    "print('Test Set Score:', scrs_lst[0])\n",
    "print('Train Set Score:', scrs_lst[1])"
   ]
  },
  {
   "cell_type": "code",
   "execution_count": 144,
   "metadata": {},
   "outputs": [
    {
     "data": {
      "text/plain": [
       "Text(0.5, 1.0, 'Train Set Predictions')"
      ]
     },
     "execution_count": 144,
     "metadata": {},
     "output_type": "execute_result"
    },
    {
     "data": {
      "image/png": "[encoded data removed]",
      "text/plain": [
       "<Figure size 864x360 with 2 Axes>"
      ]
     },
     "metadata": {
      "needs_background": "light"
     },
     "output_type": "display_data"
    }
   ],
   "source": [
    "fig, axes = plt.subplots(1,2, figsize=(12,5))\n",
    "\n",
    "axes[0].scatter(y_test, y_pred_tst)\n",
    "axes[0].plot(y_test, y_test)\n",
    "axes[0].set_title('Test Set Predictions')\n",
    "\n",
    "axes[1].scatter(y_train, y_pred_trn)\n",
    "axes[1].plot(y_train, y_train)\n",
    "axes[1].set_title('Train Set Predictions')"
   ]
  },
  {
   "cell_type": "markdown",
   "metadata": {},
   "source": [
    "# Feature Selection"
   ]
  },
  {
   "cell_type": "code",
   "execution_count": 145,
   "metadata": {},
   "outputs": [],
   "source": [
    "selected_cols = []\n",
    "for coef, col in zip(lasso_cv.coef_, x.columns):\n",
    "\n",
    "    if coef*1!=0:\n",
    "        selected_cols.append([col, coef])\n",
    "        \n",
    "selected_cols = pd.DataFrame(selected_cols, columns=['feature', 'coef'])"
   ]
  },
  {
   "cell_type": "code",
   "execution_count": 146,
   "metadata": {},
   "outputs": [],
   "source": [
    "in_corr = []\n",
    "for neighborhood in selected_cols['feature']:\n",
    "    \n",
    "    in_corr.append(neighborhood in corr_features)"
   ]
  },
  {
   "cell_type": "code",
   "execution_count": 147,
   "metadata": {},
   "outputs": [
    {
     "data": {
      "text/html": [
       "<div>\n",
       "<style scoped>\n",
       "    .dataframe tbody tr th:only-of-type {\n",
       "        vertical-align: middle;\n",
       "    }\n",
       "\n",
       "    .dataframe tbody tr th {\n",
       "        vertical-align: top;\n",
       "    }\n",
       "\n",
       "    .dataframe thead th {\n",
       "        text-align: right;\n",
       "    }\n",
       "</style>\n",
       "<table border=\"1\" class=\"dataframe\">\n",
       "  <thead>\n",
       "    <tr style=\"text-align: right;\">\n",
       "      <th></th>\n",
       "      <th>feature</th>\n",
       "      <th>coef</th>\n",
       "    </tr>\n",
       "  </thead>\n",
       "  <tbody>\n",
       "    <tr>\n",
       "      <th>1</th>\n",
       "      <td>Valor do rendimento total mensal das pessoas c...</td>\n",
       "      <td>3.908803</td>\n",
       "    </tr>\n",
       "    <tr>\n",
       "      <th>5</th>\n",
       "      <td>Instituições de crédito, seguros e capitalizaç...</td>\n",
       "      <td>1.549582</td>\n",
       "    </tr>\n",
       "    <tr>\n",
       "      <th>8</th>\n",
       "      <td>Agricultura, silvicultura, criação de animais,...</td>\n",
       "      <td>1.108913</td>\n",
       "    </tr>\n",
       "    <tr>\n",
       "      <th>12</th>\n",
       "      <td>Consumo Iluminacão pública</td>\n",
       "      <td>0.900251</td>\n",
       "    </tr>\n",
       "    <tr>\n",
       "      <th>7</th>\n",
       "      <td>Serviços médicos, odontológicos e veterinários_x</td>\n",
       "      <td>0.535960</td>\n",
       "    </tr>\n",
       "    <tr>\n",
       "      <th>2</th>\n",
       "      <td>Extrativa mineral_x</td>\n",
       "      <td>0.505471</td>\n",
       "    </tr>\n",
       "    <tr>\n",
       "      <th>4</th>\n",
       "      <td>Construção civil_x</td>\n",
       "      <td>0.489500</td>\n",
       "    </tr>\n",
       "    <tr>\n",
       "      <th>0</th>\n",
       "      <td>Rendimento nominal médio (R$ - exclui sem rend...</td>\n",
       "      <td>0.487147</td>\n",
       "    </tr>\n",
       "    <tr>\n",
       "      <th>6</th>\n",
       "      <td>Comércio e administração de imóveis, valores m...</td>\n",
       "      <td>0.436606</td>\n",
       "    </tr>\n",
       "    <tr>\n",
       "      <th>11</th>\n",
       "      <td>Consumo Rural</td>\n",
       "      <td>0.390096</td>\n",
       "    </tr>\n",
       "    <tr>\n",
       "      <th>3</th>\n",
       "      <td>Indústria da borracha, fumo, couros, peles, si...</td>\n",
       "      <td>0.310463</td>\n",
       "    </tr>\n",
       "    <tr>\n",
       "      <th>10</th>\n",
       "      <td>Indústria de calçados_y</td>\n",
       "      <td>0.053088</td>\n",
       "    </tr>\n",
       "    <tr>\n",
       "      <th>9</th>\n",
       "      <td>Minerais não-metálicos_y</td>\n",
       "      <td>-0.151522</td>\n",
       "    </tr>\n",
       "  </tbody>\n",
       "</table>\n",
       "</div>"
      ],
      "text/plain": [
       "                                              feature      coef\n",
       "1   Valor do rendimento total mensal das pessoas c...  3.908803\n",
       "5   Instituições de crédito, seguros e capitalizaç...  1.549582\n",
       "8   Agricultura, silvicultura, criação de animais,...  1.108913\n",
       "12                         Consumo Iluminacão pública  0.900251\n",
       "7    Serviços médicos, odontológicos e veterinários_x  0.535960\n",
       "2                                 Extrativa mineral_x  0.505471\n",
       "4                                  Construção civil_x  0.489500\n",
       "0   Rendimento nominal médio (R$ - exclui sem rend...  0.487147\n",
       "6   Comércio e administração de imóveis, valores m...  0.436606\n",
       "11                                      Consumo Rural  0.390096\n",
       "3   Indústria da borracha, fumo, couros, peles, si...  0.310463\n",
       "10                            Indústria de calçados_y  0.053088\n",
       "9                            Minerais não-metálicos_y -0.151522"
      ]
     },
     "execution_count": 147,
     "metadata": {},
     "output_type": "execute_result"
    }
   ],
   "source": [
    "selected_cols.sort_values(by='coef', ascending=False)"
   ]
  },
  {
   "cell_type": "code",
   "execution_count": 148,
   "metadata": {},
   "outputs": [
    {
     "data": {
      "text/html": [
       "<div>\n",
       "<style scoped>\n",
       "    .dataframe tbody tr th:only-of-type {\n",
       "        vertical-align: middle;\n",
       "    }\n",
       "\n",
       "    .dataframe tbody tr th {\n",
       "        vertical-align: top;\n",
       "    }\n",
       "\n",
       "    .dataframe thead th {\n",
       "        text-align: right;\n",
       "    }\n",
       "</style>\n",
       "<table border=\"1\" class=\"dataframe\">\n",
       "  <thead>\n",
       "    <tr style=\"text-align: right;\">\n",
       "      <th></th>\n",
       "      <th>feature</th>\n",
       "      <th>coef</th>\n",
       "    </tr>\n",
       "  </thead>\n",
       "  <tbody>\n",
       "    <tr>\n",
       "      <th>0</th>\n",
       "      <td>Rendimento nominal médio (R$ - exclui sem rend...</td>\n",
       "      <td>0.487147</td>\n",
       "    </tr>\n",
       "    <tr>\n",
       "      <th>5</th>\n",
       "      <td>Instituições de crédito, seguros e capitalizaç...</td>\n",
       "      <td>1.549582</td>\n",
       "    </tr>\n",
       "    <tr>\n",
       "      <th>8</th>\n",
       "      <td>Agricultura, silvicultura, criação de animais,...</td>\n",
       "      <td>1.108913</td>\n",
       "    </tr>\n",
       "    <tr>\n",
       "      <th>9</th>\n",
       "      <td>Minerais não-metálicos_y</td>\n",
       "      <td>-0.151522</td>\n",
       "    </tr>\n",
       "    <tr>\n",
       "      <th>10</th>\n",
       "      <td>Indústria de calçados_y</td>\n",
       "      <td>0.053088</td>\n",
       "    </tr>\n",
       "    <tr>\n",
       "      <th>12</th>\n",
       "      <td>Consumo Iluminacão pública</td>\n",
       "      <td>0.900251</td>\n",
       "    </tr>\n",
       "  </tbody>\n",
       "</table>\n",
       "</div>"
      ],
      "text/plain": [
       "                                              feature      coef\n",
       "0   Rendimento nominal médio (R$ - exclui sem rend...  0.487147\n",
       "5   Instituições de crédito, seguros e capitalizaç...  1.549582\n",
       "8   Agricultura, silvicultura, criação de animais,...  1.108913\n",
       "9                            Minerais não-metálicos_y -0.151522\n",
       "10                            Indústria de calçados_y  0.053088\n",
       "12                         Consumo Iluminacão pública  0.900251"
      ]
     },
     "execution_count": 148,
     "metadata": {},
     "output_type": "execute_result"
    }
   ],
   "source": [
    "selected_cols[[(not i) for i in in_corr]]"
   ]
  },
  {
   "cell_type": "code",
   "execution_count": 149,
   "metadata": {},
   "outputs": [
    {
     "data": {
      "text/html": [
       "<div>\n",
       "<style scoped>\n",
       "    .dataframe tbody tr th:only-of-type {\n",
       "        vertical-align: middle;\n",
       "    }\n",
       "\n",
       "    .dataframe tbody tr th {\n",
       "        vertical-align: top;\n",
       "    }\n",
       "\n",
       "    .dataframe thead th {\n",
       "        text-align: right;\n",
       "    }\n",
       "</style>\n",
       "<table border=\"1\" class=\"dataframe\">\n",
       "  <thead>\n",
       "    <tr style=\"text-align: right;\">\n",
       "      <th></th>\n",
       "      <th>feature</th>\n",
       "      <th>coef</th>\n",
       "    </tr>\n",
       "  </thead>\n",
       "  <tbody>\n",
       "    <tr>\n",
       "      <th>1</th>\n",
       "      <td>Valor do rendimento total mensal das pessoas c...</td>\n",
       "      <td>3.908803</td>\n",
       "    </tr>\n",
       "    <tr>\n",
       "      <th>2</th>\n",
       "      <td>Extrativa mineral_x</td>\n",
       "      <td>0.505471</td>\n",
       "    </tr>\n",
       "    <tr>\n",
       "      <th>3</th>\n",
       "      <td>Indústria da borracha, fumo, couros, peles, si...</td>\n",
       "      <td>0.310463</td>\n",
       "    </tr>\n",
       "    <tr>\n",
       "      <th>4</th>\n",
       "      <td>Construção civil_x</td>\n",
       "      <td>0.489500</td>\n",
       "    </tr>\n",
       "    <tr>\n",
       "      <th>6</th>\n",
       "      <td>Comércio e administração de imóveis, valores m...</td>\n",
       "      <td>0.436606</td>\n",
       "    </tr>\n",
       "    <tr>\n",
       "      <th>7</th>\n",
       "      <td>Serviços médicos, odontológicos e veterinários_x</td>\n",
       "      <td>0.535960</td>\n",
       "    </tr>\n",
       "    <tr>\n",
       "      <th>11</th>\n",
       "      <td>Consumo Rural</td>\n",
       "      <td>0.390096</td>\n",
       "    </tr>\n",
       "  </tbody>\n",
       "</table>\n",
       "</div>"
      ],
      "text/plain": [
       "                                              feature      coef\n",
       "1   Valor do rendimento total mensal das pessoas c...  3.908803\n",
       "2                                 Extrativa mineral_x  0.505471\n",
       "3   Indústria da borracha, fumo, couros, peles, si...  0.310463\n",
       "4                                  Construção civil_x  0.489500\n",
       "6   Comércio e administração de imóveis, valores m...  0.436606\n",
       "7    Serviços médicos, odontológicos e veterinários_x  0.535960\n",
       "11                                      Consumo Rural  0.390096"
      ]
     },
     "execution_count": 149,
     "metadata": {},
     "output_type": "execute_result"
    }
   ],
   "source": [
    "selected_cols[in_corr]"
   ]
  },
  {
   "cell_type": "code",
   "execution_count": 150,
   "metadata": {},
   "outputs": [
    {
     "data": {
      "text/plain": [
       "Rendimento nominal médio (R$ - exclui sem rendimento)                    0.485186\n",
       "Instituições de crédito, seguros e capitalização_x                       0.432790\n",
       "Agricultura, silvicultura, criação de animais, extrativismo vegetal_x    0.367096\n",
       "Minerais não-metálicos_y                                                 0.389723\n",
       "Indústria de calçados_y                                                 -0.273101\n",
       "Consumo Iluminacão pública                                               0.340339\n",
       "Name: gyms, dtype: float64"
      ]
     },
     "execution_count": 150,
     "metadata": {},
     "output_type": "execute_result"
    }
   ],
   "source": [
    "gym_data.corr()[targets[0]][selected_cols[[(not i) for i in in_corr]]['feature'].tolist()]"
   ]
  },
  {
   "cell_type": "markdown",
   "metadata": {},
   "source": [
    "# Second Degree"
   ]
  },
  {
   "cell_type": "code",
   "execution_count": 151,
   "metadata": {},
   "outputs": [],
   "source": [
    "from sklearn.preprocessing import PolynomialFeatures as pf"
   ]
  },
  {
   "cell_type": "code",
   "execution_count": 152,
   "metadata": {},
   "outputs": [],
   "source": [
    "x_pf = pf(degree=2).fit_transform(x_ss)"
   ]
  },
  {
   "cell_type": "code",
   "execution_count": 153,
   "metadata": {},
   "outputs": [],
   "source": [
    "msk = scrs[scrs['r2']==scrs['r2'].max()]['msk'].values[0]\n",
    "\n",
    "y_train, y_test = y[msk], y[~msk]\n",
    "x_train, x_test = x_pf[msk], x_pf[~msk]"
   ]
  },
  {
   "cell_type": "code",
   "execution_count": 154,
   "metadata": {},
   "outputs": [],
   "source": [
    "lasso_cv = LassoCV(max_iter=40000).fit(x_train, y_train.values.ravel())\n",
    "  "
   ]
  },
  {
   "cell_type": "code",
   "execution_count": 155,
   "metadata": {},
   "outputs": [
    {
     "data": {
      "text/plain": [
       "22"
      ]
     },
     "execution_count": 155,
     "metadata": {},
     "output_type": "execute_result"
    }
   ],
   "source": [
    "sum(lasso_cv.coef_>0)"
   ]
  },
  {
   "cell_type": "markdown",
   "metadata": {},
   "source": [
    "# Evaluation"
   ]
  },
  {
   "cell_type": "code",
   "execution_count": 156,
   "metadata": {},
   "outputs": [],
   "source": [
    "y_pred_tst = lasso_cv.predict(x_test)\n",
    "y_pred_trn = lasso_cv.predict(x_train)\n",
    "\n",
    "scrs_lst = [r2_score(y_test, y_pred_tst), r2_score(y_train, y_pred_trn)]"
   ]
  },
  {
   "cell_type": "code",
   "execution_count": 157,
   "metadata": {},
   "outputs": [
    {
     "name": "stdout",
     "output_type": "stream",
     "text": [
      "Test Set Score: 0.8203037332978338\n",
      "Train Set Score: 0.9172289038841381\n"
     ]
    }
   ],
   "source": [
    "print('Test Set Score:', scrs_lst[0])\n",
    "print('Train Set Score:', scrs_lst[1])"
   ]
  },
  {
   "cell_type": "code",
   "execution_count": 158,
   "metadata": {},
   "outputs": [
    {
     "data": {
      "text/plain": [
       "Text(0.5, 1.0, 'Train Set Predictions')"
      ]
     },
     "execution_count": 158,
     "metadata": {},
     "output_type": "execute_result"
    },
    {
     "data": {
      "image/png": "[encoded data removed]",
      "text/plain": [
       "<Figure size 864x360 with 2 Axes>"
      ]
     },
     "metadata": {
      "needs_background": "light"
     },
     "output_type": "display_data"
    }
   ],
   "source": [
    "fig, axes = plt.subplots(1,2, figsize=(12,5))\n",
    "\n",
    "axes[0].scatter(y_test, y_pred_tst)\n",
    "axes[0].plot(y_test, y_test)\n",
    "axes[0].set_title('Test Set Predictions')\n",
    "\n",
    "axes[1].scatter(y_train, y_pred_trn)\n",
    "axes[1].plot(y_train, y_train)\n",
    "axes[1].set_title('Train Set Predictions')"
   ]
  },
  {
   "cell_type": "markdown",
   "metadata": {},
   "source": [
    "# Second Degree: Top Splits"
   ]
  },
  {
   "cell_type": "code",
   "execution_count": 159,
   "metadata": {},
   "outputs": [],
   "source": [
    "x_pf = pf(degree=2).fit_transform(x_ss)"
   ]
  },
  {
   "cell_type": "code",
   "execution_count": 160,
   "metadata": {},
   "outputs": [
    {
     "name": "stdout",
     "output_type": "stream",
     "text": [
      "0\n",
      "1\n",
      "2\n",
      "3\n",
      "4\n",
      "5\n",
      "6\n"
     ]
    }
   ],
   "source": [
    "scrs_d2 = []\n",
    "\n",
    "for i in range(7):\n",
    "\n",
    "    msk = scrs[scrs['r2']==scrs['r2'].sort_values(ascending=False).values[i]]['msk'].values[0]\n",
    "    y_train, y_test = y[msk], y[~msk]\n",
    "    x_train, x_test = x_pf[msk], x_pf[~msk]\n",
    "\n",
    "    lasso_cv = LassoCV(max_iter=40000).fit(x_train, y_train.values.ravel())\n",
    "    \n",
    "    y_pred_tst = lasso_cv.predict(x_test)\n",
    "    y_pred_trn = lasso_cv.predict(x_train)\n",
    "    \n",
    "    test_scr = r2_score(y_test, y_pred_tst)\n",
    "    train_scr = r2_score(y_train, y_pred_trn)\n",
    "    \n",
    "    \n",
    "    scrs_d2.append([i, lasso_cv.alpha_, test_scr, train_scr, msk])\n",
    "    \n",
    "    if i in range(7): print(i)\n",
    "\n",
    "scrs_d2 = pd.DataFrame(scrs_d2, columns=['i', 'alpha', 'r2_test', 'r2_train', 'msk'])\n"
   ]
  },
  {
   "cell_type": "markdown",
   "metadata": {},
   "source": [
    "# Top Splits Evaluation"
   ]
  },
  {
   "cell_type": "code",
   "execution_count": 161,
   "metadata": {},
   "outputs": [],
   "source": [
    "msk = scrs_d2[scrs_d2['r2_test']==scrs_d2['r2_test'].max()]['msk'].values[0]\n",
    "\n",
    "y_train, y_test = y[msk], y[~msk]\n",
    "x_train, x_test = x_pf[msk], x_pf[~msk]"
   ]
  },
  {
   "cell_type": "code",
   "execution_count": 162,
   "metadata": {},
   "outputs": [],
   "source": [
    "lasso_cv = LassoCV(max_iter=40000).fit(x_train, y_train.values.ravel())\n",
    "    "
   ]
  },
  {
   "cell_type": "code",
   "execution_count": 163,
   "metadata": {},
   "outputs": [
    {
     "name": "stdout",
     "output_type": "stream",
     "text": [
      "Test Set Score: 0.9027501130563739\n",
      "Train Set Score: 0.9514110537984707\n"
     ]
    }
   ],
   "source": [
    "y_pred_tst = lasso_cv.predict(x_test)\n",
    "y_pred_trn = lasso_cv.predict(x_train)\n",
    "\n",
    "scrs_lst = [r2_score(y_test, y_pred_tst), r2_score(y_train, y_pred_trn)]\n",
    "print('Test Set Score:', scrs_lst[0])\n",
    "print('Train Set Score:', scrs_lst[1])"
   ]
  },
  {
   "cell_type": "code",
   "execution_count": 164,
   "metadata": {},
   "outputs": [
    {
     "data": {
      "text/plain": [
       "Text(0.5, 1.0, 'Train Set Predictions')"
      ]
     },
     "execution_count": 164,
     "metadata": {},
     "output_type": "execute_result"
    },
    {
     "data": {
      "image/png": "[encoded data removed]",
      "text/plain": [
       "<Figure size 864x360 with 2 Axes>"
      ]
     },
     "metadata": {
      "needs_background": "light"
     },
     "output_type": "display_data"
    }
   ],
   "source": [
    "fig, axes = plt.subplots(1,2, figsize=(12,5))\n",
    "\n",
    "axes[0].scatter(y_test, y_pred_tst)\n",
    "axes[0].plot(y_test, y_test)\n",
    "axes[0].set_title('Test Set Predictions')\n",
    "\n",
    "axes[1].scatter(y_train, y_pred_trn)\n",
    "axes[1].plot(y_train, y_train)\n",
    "axes[1].set_title('Train Set Predictions')"
   ]
  },
  {
   "cell_type": "code",
   "execution_count": null,
   "metadata": {},
   "outputs": [],
   "source": []
  }
 ],
 "metadata": {
  "kernelspec": {
   "display_name": "Python 3",
   "language": "python",
   "name": "python3"
  },
  "language_info": {
   "codemirror_mode": {
    "name": "ipython",
    "version": 3
   },
   "file_extension": ".py",
   "mimetype": "text/x-python",
   "name": "python",
   "nbconvert_exporter": "python",
   "pygments_lexer": "ipython3",
   "version": "3.8.3"
  }
 },
 "nbformat": 4,
 "nbformat_minor": 4
}
