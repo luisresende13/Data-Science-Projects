{
 "cells": [
  {
   "cell_type": "markdown",
   "metadata": {},
   "source": [
    "# Search Neighborhoods and Hotels"
   ]
  },
  {
   "cell_type": "markdown",
   "metadata": {},
   "source": [
    "---\n",
    "## Importing"
   ]
  },
  {
   "cell_type": "code",
   "execution_count": 1,
   "metadata": {},
   "outputs": [],
   "source": [
    "import pandas as pd\n",
    "\n",
    "import numpy as np\n",
    "\n",
    "import matplotlib.pyplot as plt\n",
    "\n",
    "from geopy import Nominatim\n",
    "\n",
    "import urllib.request\n",
    "import json\n",
    "from pandas import json_normalize\n",
    "\n",
    "import folium\n",
    "\n",
    "import time"
   ]
  },
  {
   "cell_type": "code",
   "execution_count": 2,
   "metadata": {},
   "outputs": [],
   "source": [
    "nomi_obj = Nominatim(user_agent='Coursera_Student')"
   ]
  },
  {
   "cell_type": "code",
   "execution_count": 3,
   "metadata": {},
   "outputs": [],
   "source": [
    "pd.set_option('display.max_rows', 500)"
   ]
  },
  {
   "cell_type": "markdown",
   "metadata": {},
   "source": [
    "---\n",
    "# Defining functions"
   ]
  },
  {
   "cell_type": "markdown",
   "metadata": {},
   "source": [
    "### Coords"
   ]
  },
  {
   "cell_type": "code",
   "execution_count": 4,
   "metadata": {},
   "outputs": [],
   "source": [
    "def frame_coords(lst, col_name='venue'):\n",
    "    coords = []\n",
    "    fail_list = []\n",
    "    \n",
    "    cnt = 0\n",
    "    for item in lst:\n",
    "        \n",
    "        cnt2 = 0\n",
    "        try:\n",
    "            location = None\n",
    "            while (location==None) and (cnt2<5):\n",
    "                location = nomi_obj.geocode(item)\n",
    "                cnt2+=1\n",
    "                        \n",
    "            if location!=None: coords.append((item, location[1][0], location[1][1]))\n",
    "            else: \n",
    "                fail_list.append(item)\n",
    "                print('Fail:', item)\n",
    "                \n",
    "            cnt = cnt+1\n",
    "            if cnt in range(1, 500, 8): print('Appended:', len(coords), 'Attempts:', cnt)\n",
    "        except: print(nomi_obj.geocode(item), location)\n",
    "            \n",
    "    print('Fail List: ', fail_list) \n",
    "    print('Completed')\n",
    "    return pd.DataFrame(coords, columns=[col_name, 'lat', 'lng'])"
   ]
  },
  {
   "cell_type": "markdown",
   "metadata": {},
   "source": [
    "### Mapping Functions"
   ]
  },
  {
   "cell_type": "code",
   "execution_count": 5,
   "metadata": {},
   "outputs": [],
   "source": [
    "def plot_map(df, zoom=10):\n",
    "    mapa = folium.Map(location = [-22.911014, -43.209373], zoom_start = zoom)\n",
    "\n",
    "\n",
    "    for lat, lng, label in zip(df['lat'], df['lng'], df.iloc[:, 0]):\n",
    "    \n",
    "        label = folium.Popup(label, html_parser=True)\n",
    "        folium.CircleMarker([lat, lng],\n",
    "                            popup=label,\n",
    "                            radius=3,\n",
    "                            color='darkorange',\n",
    "                            #fill=True,\n",
    "                            #fill_color='blue',\n",
    "                            #fill_oppacity=0.8\n",
    "                           ).add_to(mapa)\n",
    "    return mapa"
   ]
  },
  {
   "cell_type": "code",
   "execution_count": 6,
   "metadata": {},
   "outputs": [],
   "source": [
    "def plot_map_lite(df, zoom=11):\n",
    "    \n",
    "    mapa = folium.Map(location = [-22.911014, -43.209373], zoom_start=zoom)\n",
    "\n",
    "    for lat, lng, label in zip(df['lat'].values, df['lng'].values, df.iloc[:, 0].values):\n",
    "    \n",
    "        #label = folium.Popup(label, html_parser=True)\n",
    "        folium.CircleMarker([lat, lng],\n",
    "                            #popup=label,\n",
    "                            radius=2,\n",
    "                            color='darkred',\n",
    "                            #fill=True,\n",
    "                            #fill_color='blue',\n",
    "                            #fill_oppacity=0.8\n",
    "                           ).add_to(mapa)\n",
    "    return mapa"
   ]
  },
  {
   "cell_type": "code",
   "execution_count": 7,
   "metadata": {},
   "outputs": [],
   "source": [
    "def plot_search_map(df, zoom=11):\n",
    "    \n",
    "     \n",
    "    mapa = folium.Map(location = [-22.911014, -43.209373], zoom_start=zoom)\n",
    "\n",
    "    for lat, lng, label, radius in zip(df['lat'].values, df['lng'].values, df.iloc[:, 0].values, df['radius'].values):\n",
    "    \n",
    "        #label = folium.Popup(label, html_parser=True)\n",
    "        folium.Circle([lat, lng],\n",
    "                      #popup=label,\n",
    "                      radius=radius,\n",
    "                      color='darkred',\n",
    "                      #fill=True,\n",
    "                      #fill_color='blue',\n",
    "                      #fill_oppacity=0.8\n",
    "                     ).add_to(mapa)\n",
    "    return mapa\n",
    "    "
   ]
  },
  {
   "cell_type": "markdown",
   "metadata": {},
   "source": [
    "### Foursquare Functions"
   ]
  },
  {
   "cell_type": "markdown",
   "metadata": {},
   "source": [
    "#### Construct foursquare API url"
   ]
  },
  {
   "cell_type": "code",
   "execution_count": 8,
   "metadata": {},
   "outputs": [],
   "source": [
    "def foursquare_url(query=False,\n",
    "                   explore=False,\n",
    "                   venue=False,\n",
    "                   ctgr_search=False,\n",
    "                   ctgr_explore=False,\n",
    "                   search_query=None,\n",
    "                   ctgr_id=None,\n",
    "                   venue_id=None,\n",
    "                   radius=1500,\n",
    "                   LIMIT=800,\n",
    "                   lat=-22.9719642,       # Rio de Janeiro Center Coords\n",
    "                   lng=-43.1843432):\n",
    "\n",
    "    CLIENT_ID = 'YBZLHWZRC4DJGEF2GVTRMDCQZBCZXDBC0ZXPAMHZFR0RF3BC' # your Foursquare ID\n",
    "    CLIENT_SECRET = 'NXISZGNL4VVTR24LS2GE3ZVQ14URDHPP0S0UNJTC41CKFW4I' # your Foursquare Secret\n",
    "    VERSION = '20200604'\n",
    "    latitude=lat\n",
    "    longitude=lng\n",
    "    \n",
    "    expl_url = 'https://api.foursquare.com/v2/venues/explore?client_id={}&client_secret={}&ll={},{}&v={}&radius={}&limit={}'.format(CLIENT_ID, CLIENT_SECRET, latitude, longitude, VERSION, radius, LIMIT)\n",
    "    query_url = 'https://api.foursquare.com/v2/venues/search?client_id={}&client_secret={}&ll={},{}&v={}&radius={}&limit={}'.format(CLIENT_ID, CLIENT_SECRET, latitude, longitude, VERSION, radius, LIMIT)\n",
    "    venue_url = 'https://api.foursquare.com/v2/venues/{}?client_id={}&client_secret={}&v={}'.format(venue_id, CLIENT_ID, CLIENT_SECRET, VERSION)\n",
    "    ctgr_expl_url = 'https://api.foursquare.com/v2/venues/explore?client_id={}&client_secret={}&ll={},{}&v={}&radius={}&limit={}&category_Id={}'.format(CLIENT_ID, CLIENT_SECRET, latitude, longitude, VERSION, radius, LIMIT, ctgr_id)\n",
    "    ctgr_srch_url = 'https://api.foursquare.com/v2/venues/search?client_id={}&client_secret={}&ll={},{}&v={}&radius={}&limit={}&categoryId={}'.format(CLIENT_ID, CLIENT_SECRET, latitude, longitude, VERSION, radius, LIMIT, ctgr_id)\n",
    "    \n",
    "    if ctgr_explore: return ctgr_expl_url\n",
    "    if ctgr_search: return ctgr_srch_url\n",
    "    if query: return query_url\n",
    "    if explore: return expl_url\n",
    "    if venue: return venue_url"
   ]
  },
  {
   "cell_type": "markdown",
   "metadata": {},
   "source": [
    "#### Choose endpoint and search around locations"
   ]
  },
  {
   "cell_type": "code",
   "execution_count": 9,
   "metadata": {},
   "outputs": [],
   "source": [
    "def get_venues(df,\n",
    "               radius = 1000,\n",
    "               explore=False,\n",
    "               query=False,\n",
    "               ctgr_search=False,\n",
    "               ctgr_explore=False, \n",
    "               ctgr_id=None,\n",
    "               search_query=None\n",
    "              ):\n",
    "    \n",
    "    if type(radius)==int: radius = [radius for i in range(len(df))]\n",
    "\n",
    "    keeper_cols = [df.columns[0], 'venue.id', 'venue.name', 'venue.category_id', 'venue.category', 'venue.location.lat', 'venue.location.lng', 'venue.location.distance']\n",
    "    keeper_cols_ctgr = [df.columns[0], 'id', 'name', 'category_id', 'category', 'location.lat', 'location.lng', 'location.distance']\n",
    "    rqst_fail = []\n",
    "    append_fail = []\n",
    "    cnt = 0\n",
    "    \n",
    "    if ctgr_search or query: hoods_expl = pd.DataFrame(columns=keeper_cols_ctgr)\n",
    "    else: hoods_expl = pd.DataFrame(columns=keeper_cols)\n",
    "    \n",
    "    \n",
    "    \n",
    "    for name, lat, lng, radius in zip(df.iloc[:, 0], df['lat'], df['lng'], radius):\n",
    "     \n",
    "        try: rqst_txt = urllib.request.urlopen(foursquare_url(explore=explore,\n",
    "                                                              query=query,\n",
    "                                                              ctgr_search=ctgr_search,\n",
    "                                                              ctgr_explore=ctgr_explore,\n",
    "                                                              ctgr_id=ctgr_id,\n",
    "                                                              search_query=search_query,\n",
    "                                                              lat=lat, \n",
    "                                                              lng=lng,\n",
    "                                                              radius=radius)).read().decode()[:]\n",
    "        except: \n",
    "            try: rqst_txt = urllib.request.urlopen(foursquare_url(explore=True,     # Maybe this will only run whenexplore=True, in other words try above will fail if explore=True\n",
    "                                                                  lat=lat, \n",
    "                                                                  lng=lng,\n",
    "                                                                  radius=radius)).read().decode()[:]\n",
    "            except:\n",
    "                print(name)\n",
    "                rqst_fail.append(name)\n",
    "                continue\n",
    "\n",
    "        \n",
    "        if (not ctgr_search) and (not query): rqst_df = json_normalize(json.loads(rqst_txt)['response']['groups'][0]['items'])  \n",
    "        \n",
    "        else: \n",
    "            try: rqst_df = json_normalize(json.loads(rqst_txt)['response']['venues'])\n",
    "            except: \n",
    "                append_fail.append(name)\n",
    "                continue\n",
    "        \n",
    "        if len(rqst_df)==0: \n",
    "            append_fail.append(name)\n",
    "            continue\n",
    "        \n",
    "        rqst_df[keeper_cols[0]] = [name for i in range(len(rqst_df))]\n",
    "    \n",
    "        if (not ctgr_search) and (not query):            \n",
    "            if 'venue.categories' in rqst_df.columns:\n",
    "                rqst_df['venue.category_id'] = [i[0]['id'] if i!=[] else np.nan for i in rqst_df['venue.categories']] \n",
    "                rqst_df['venue.category'] = [i[0]['name'] if i!=[] else np.nan for i in rqst_df['venue.categories']]   \n",
    "            else: \n",
    "                rqst_df['venue.category_id'] = [np.nan for i in range(len(rqst_df))]\n",
    "                rqst_df['venue.category'] = [np.nan for i in range(len(rqst_df))]\n",
    "                \n",
    "            hoods_expl = pd.concat([hoods_expl, rqst_df[keeper_cols]], axis=0)\n",
    "            \n",
    "        else:\n",
    "            if 'categories' in rqst_df.columns:\n",
    "                rqst_df['category_id'] = [i[0]['id'] if i!=[] else np.nan for i in rqst_df['categories']] \n",
    "                rqst_df['category'] = [i[0]['name'] if i!=[] else np.nan for i in rqst_df['categories']]   \n",
    "            else: \n",
    "                rqst_df['category_id'] = [np.nan for i in range(len(rqst_df))]\n",
    "                rqst_df['category'] = [np.nan for i in range(len(rqst_df))]\n",
    "                \n",
    "            hoods_expl = pd.concat([hoods_expl, rqst_df[keeper_cols_ctgr]], axis=0)\n",
    "        \n",
    "        \n",
    "        cnt+=1\n",
    "        if cnt in range(0, len(df), 10): print('appended:', cnt, 'rqst_fail:', len(rqst_fail), 'append_fail:', len(append_fail))\n",
    "    \n",
    "    print('Searched:', len(df), 'Failed:', len(append_fail)+len(rqst_fail))\n",
    "    print('Fail list: ', append_fail)\n",
    "    print('Completed')\n",
    "    return hoods_expl.reset_index(drop=True)\n"
   ]
  },
  {
   "cell_type": "markdown",
   "metadata": {},
   "source": [
    "#### Search Multiple Categories"
   ]
  },
  {
   "cell_type": "code",
   "execution_count": 10,
   "metadata": {},
   "outputs": [],
   "source": [
    "def get_ctgr_venues(df, radius=500, only=list(range(9))):\n",
    "\n",
    "    ctgrs_txt = {'Food':'4d4b7105d754a06374d81259', 'Nightlife spots':'4d4b7105d754a06376d81259', 'Outdoors & Recreation':'4d4b7105d754a06377d81259', 'Beach':'4bf58dd8d48988d1e2941735', 'Shop e Services':'4d4b7105d754a06378d81259', 'Hotel':'4bf58dd8d48988d1fa931735', 'Travel and transport':'4d4b7105d754a06379d81259', 'Event': '4d4b7105d754a06373d81259', 'Arts & Entertainment':'4d4b7104d754a06370d81259'}\n",
    "    ctgrs = pd.DataFrame(ctgrs_txt, index = ['ctgr_id']).T.reset_index().rename(columns={'index':'ctgr_name'})\n",
    "    ctgrs = ctgrs[ctgrs.index.isin(only)]\n",
    "    \n",
    "    for ctgr_id, ctgr_name in zip(ctgrs['ctgr_id'], ctgrs['ctgr_name']):\n",
    "    \n",
    "        if ctgr_id==ctgrs['ctgr_id'].values[0]: \n",
    "        \n",
    "            ctgrs_df = get_venues(df, ctgr_search=True, ctgr_id=ctgr_id, radius=radius)\n",
    "    \n",
    "            ctgrs_df['parent.category'] = [ctgr_name for i in range(len(ctgrs_df))]\n",
    "        \n",
    "        else:\n",
    "        \n",
    "            ctgr_df = get_venues(df, ctgr_search=True, ctgr_id=ctgr_id, radius=radius)\n",
    "        \n",
    "            ctgr_df['parent.category'] = [ctgr_name for i in range(len(ctgr_df))]\n",
    "        \n",
    "            ctgrs_df = pd.concat([ctgrs_df, ctgr_df], axis=0)\n",
    "    \n",
    "    \n",
    "    return ctgrs_df"
   ]
  },
  {
   "cell_type": "markdown",
   "metadata": {},
   "source": [
    "#### Venue Details"
   ]
  },
  {
   "cell_type": "code",
   "execution_count": 11,
   "metadata": {},
   "outputs": [],
   "source": [
    "def get_details(df):\n",
    "\n",
    "    extra = ['hereNow.count', 'hereNow.summary']\n",
    "    keeper_cols = [#'venue_name',\n",
    "                   'id',\n",
    "                   'name',\n",
    "                   'rating',\n",
    "                   'likes.count',\n",
    "                   'attributes.groups']+extra\n",
    "\n",
    "    expl_ids = pd.DataFrame(columns=keeper_cols)\n",
    "    fail_list = []\n",
    "    cnt=0\n",
    "\n",
    "    for venue, venue_id in zip(df.iloc[:, 1], df.iloc[:, 0]):\n",
    "    \n",
    "        if cnt in range(1, len(df), 240): time.sleep(4)\n",
    "    \n",
    "        try: rqst_txt = urllib.request.urlopen(foursquare_url(venue=True, venue_id=venue_id)).read().decode()[:]                \n",
    "        \n",
    "        except:\n",
    "            try: rqst_txt = urllib.request.urlopen(foursquare_url(venue=True, venue_id=venue_id)).read().decode()[:]   \n",
    "         \n",
    "            except:\n",
    "                try: rqst_txt = urllib.request.urlopen(foursquare_url(venue=True, venue_id=venue_id)).read().decode()[:]   \n",
    "                \n",
    "                except: \n",
    "                    row = pd.DataFrame([venue, venue_id]+[np.nan for i in range(len(keeper_cols)-2)]).T\n",
    "                    expl_ids = pd.concat([expl_ids, row], axis=0)\n",
    "                    fail_list.append([venue, venue_id])\n",
    "                    print('fail:', venue, venue_id)\n",
    "                    continue\n",
    "                    \n",
    "        rqst_json = json.loads(rqst_txt)['response']['venue']\n",
    "                   \n",
    "        rqst_row = json_normalize(json.loads(rqst_txt)['response']['venue'])       \n",
    "        #rqst_row['venue_name'] = venue\n",
    "        rqst_row['attributes.groups'][0] = ([i['name'] for i in rqst_row['attributes.groups'][0]])\n",
    "        \n",
    "        if 'rating' not in rqst_row.columns: rqst_row['rating']=[np.nan]\n",
    "        if 'likes.count' not in rqst_row.columns: rqst_row['likes.count']=[np.nan]\n",
    "                    \n",
    "        row = rqst_row[keeper_cols]        \n",
    "        expl_ids = pd.concat([expl_ids, row], axis=0)       \n",
    "        \n",
    "        cnt+=1\n",
    "        if cnt in range(0,len(df), 30): print('Appended:', len(expl_ids), 'Searched:', cnt )\n",
    "                \n",
    "    return expl_ids"
   ]
  },
  {
   "cell_type": "markdown",
   "metadata": {},
   "source": [
    "# Categories for search:\n",
    "0. Food: 4d4b7105d754a06374d81259\n",
    "1. Nightlife spots: 4d4b7105d754a06376d81259\n",
    "2. Outdoors & Recreation: 4d4b7105d754a06377d81259\n",
    "3. Beach: 4bf58dd8d48988d1e2941735\n",
    "4. Shop e Services: 4d4b7105d754a06378d81259\n",
    "5. Hotel: 4bf58dd8d48988d1fa931735\n",
    "6. Travel and transport: 4d4b7105d754a06379d81259\n",
    "7. Event: 4d4b7105d754a06373d81259\n",
    "8. Arts & Entertainment: 4d4b7104d754a06370d81259\n",
    "---"
   ]
  },
  {
   "cell_type": "markdown",
   "metadata": {},
   "source": [
    "# Input: Loading Neighborhoods Coords"
   ]
  },
  {
   "cell_type": "code",
   "execution_count": 16,
   "metadata": {},
   "outputs": [],
   "source": [
    "hoods = pd.read_csv('\\\\Users\\luisr\\Desktop\\Repository\\IBM_courses\\Course Work\\Assignments\\Final Capstone Project\\\\rio dataframes\\\\Outside Data\\\\Clean\\\\complete_bairros.csv').drop('Unnamed: 0', axis=1)"
   ]
  },
  {
   "cell_type": "code",
   "execution_count": 31,
   "metadata": {},
   "outputs": [
    {
     "data": {
      "text/html": [
       "<div style=\"width:100%;\"><div style=\"position:relative;width:100%;height:0;padding-bottom:60%;\"><span style=\"color:#565656\">Make this Notebook Trusted to load map: File -> Trust Notebook</span><iframe src=\"about:blank\" style=\"position:absolute;width:100%;height:100%;left:0;top:0;border:none !important;\" data-html=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 onload=\"this.contentDocument.open();this.contentDocument.write(atob(this.getAttribute('data-html')));this.contentDocument.close();\" allowfullscreen webkitallowfullscreen mozallowfullscreen></iframe></div></div>"
      ],
      "text/plain": [
       "<folium.folium.Map at 0x29a24f5eb80>"
      ]
     },
     "execution_count": 31,
     "metadata": {},
     "output_type": "execute_result"
    }
   ],
   "source": [
    "plot_search_map(hoods, zoom=4)"
   ]
  },
  {
   "cell_type": "markdown",
   "metadata": {},
   "source": [
    "# Planning"
   ]
  },
  {
   "cell_type": "markdown",
   "metadata": {},
   "source": [
    "---\n",
    "#### Gather Data (Organized)\n",
    "\n",
    "1. General search over: neighborhoods DONE \n",
    "    1. Result: one dataframe of venues.\n",
    "2. General explore over: neighborhoods  DONE\n",
    "    1. Result: one dataframe of venues.\n",
    "3. Construct a loop to use get_venues function to do the following: DONE\n",
    "    1. Search neighborhoods per category: you can append results per category together if you add a new column 'parent.category' \n",
    "    2. Result: one dataframe of venues.\n",
    "4. Clean Hotels \n",
    "5. Repeat 1, 2 and 3 for Hotels\n",
    "    \n",
    "---"
   ]
  },
  {
   "cell_type": "markdown",
   "metadata": {},
   "source": [
    "# NEIGHBORHOODS"
   ]
  },
  {
   "cell_type": "markdown",
   "metadata": {},
   "source": [
    "# 1. General search over: neighborhoods"
   ]
  },
  {
   "cell_type": "code",
   "execution_count": null,
   "metadata": {},
   "outputs": [],
   "source": [
    "hoods_search = get_venues(hoods, query=True, radius=hoods['radius'])"
   ]
  },
  {
   "cell_type": "code",
   "execution_count": 217,
   "metadata": {},
   "outputs": [],
   "source": [
    "#hoods_search.to_csv('\\\\Users\\luisr\\Desktop\\Repository\\IBM_courses\\Course Work\\Assignments\\\\rio dataframes\\\\Search Results\\\\hoods_search.csv')"
   ]
  },
  {
   "cell_type": "code",
   "execution_count": 87,
   "metadata": {},
   "outputs": [],
   "source": [
    "hoods_search = pd.read_csv('\\\\Users\\luisr\\Desktop\\Repository\\IBM_courses\\Course Work\\Assignments\\\\rio dataframes\\\\Search Results\\\\hoods_search.csv')"
   ]
  },
  {
   "cell_type": "markdown",
   "metadata": {},
   "source": [
    "# 2. General explore over: neighborhoods"
   ]
  },
  {
   "cell_type": "code",
   "execution_count": null,
   "metadata": {},
   "outputs": [],
   "source": [
    "hoods_explore = get_venues(hoods, explore=True, radius=hoods['radius'])"
   ]
  },
  {
   "cell_type": "markdown",
   "metadata": {},
   "source": [
    "### Saving/Loading  General Hoods Explore Result"
   ]
  },
  {
   "cell_type": "code",
   "execution_count": 81,
   "metadata": {},
   "outputs": [],
   "source": [
    "#hoods_explore.to_csv('\\\\Users\\luisr\\Desktop\\Repository\\IBM_courses\\Course Work\\Assignments\\\\rio dataframes\\\\Search Results\\\\hoods_explore.csv')"
   ]
  },
  {
   "cell_type": "code",
   "execution_count": 84,
   "metadata": {},
   "outputs": [],
   "source": [
    "hoods_explore = pd.read_csv('\\\\Users\\luisr\\Desktop\\Repository\\IBM_courses\\Course Work\\Assignments\\\\rio dataframes\\\\Search Results\\\\hoods_explore.csv', index_col=0)"
   ]
  },
  {
   "cell_type": "markdown",
   "metadata": {},
   "source": [
    "# 3. Category Search over: Neighborhoods"
   ]
  },
  {
   "cell_type": "code",
   "execution_count": 38,
   "metadata": {},
   "outputs": [],
   "source": [
    "ctgrs_txt = {'Food':'4d4b7105d754a06374d81259', 'Nightlife spots':'4d4b7105d754a06376d81259', 'Outdoors & Recreation':'4d4b7105d754a06377d81259', 'Beach':'4bf58dd8d48988d1e2941735', 'Shop e Services':'4d4b7105d754a06378d81259', 'Hotel':'4bf58dd8d48988d1fa931735', 'Travel and transport':'4d4b7105d754a06379d81259', 'Event': '4d4b7105d754a06373d81259', 'Arts & Entertainment':'4d4b7104d754a06370d81259'}\n",
    "\n",
    "ctgrs = pd.DataFrame(ctgrs_txt, index = ['ctgr_id']).T.reset_index().rename(columns={'index':'ctgr_name'})"
   ]
  },
  {
   "cell_type": "code",
   "execution_count": null,
   "metadata": {},
   "outputs": [],
   "source": [
    "for ctgr_id, ctgr_name in zip(ctgrs['ctgr_id'], ctgrs['ctgr_name']):\n",
    "    \n",
    "    if ctgr_id==ctgrs['ctgr_id'].values[0]: \n",
    "        \n",
    "        hoods_ctgrs = get_venues(hoods, ctgr_search=True, ctgr_id=ctgr_id, radius=hoods['radius'])\n",
    "    \n",
    "        hoods_ctgrs['parent.category'] = [ctgr_name for i in range(len(hoods_ctgrs))]\n",
    "        \n",
    "    else:\n",
    "        \n",
    "        ctgr_df = get_venues(hoods, ctgr_search=True, ctgr_id=ctgr_id, radius=hoods['radius'])\n",
    "        \n",
    "        ctgr_df['parent.category'] = [ctgr_name for i in range(len(ctgr_df))]\n",
    "        \n",
    "        hoods_ctgrs = pd.concat([hoods_ctgrs, ctgr_df], axis=0)\n",
    "    "
   ]
  },
  {
   "cell_type": "markdown",
   "metadata": {},
   "source": [
    "## Saving/Loading Neighborhoods Category Search"
   ]
  },
  {
   "cell_type": "markdown",
   "metadata": {},
   "source": [
    "#hoods_ctgrs.to_csv('\\\\Users\\luisr\\Desktop\\Repository\\IBM_courses\\Course Work\\Assignments\\\\rio dataframes\\\\Search Results\\\\hoods_ctgrs.csv')"
   ]
  },
  {
   "cell_type": "code",
   "execution_count": 35,
   "metadata": {},
   "outputs": [],
   "source": [
    "hoods_ctgrs = pd.read_csv('\\\\Users\\luisr\\Desktop\\Repository\\IBM_courses\\Course Work\\Assignments\\\\rio dataframes\\\\Search Results\\\\hoods_ctgrs.csv', index_col = 0)"
   ]
  },
  {
   "cell_type": "markdown",
   "metadata": {},
   "source": [
    "# 4. Exploratory Analysis"
   ]
  },
  {
   "cell_type": "code",
   "execution_count": 48,
   "metadata": {},
   "outputs": [],
   "source": [
    "hotels = hoods_ctgrs[hoods_ctgrs['parent.category']=='Hotel']"
   ]
  },
  {
   "cell_type": "code",
   "execution_count": null,
   "metadata": {},
   "outputs": [],
   "source": [
    "hotels.drop_duplicates(subset=['name'])['category'].value_counts(ascending=True).plot(kind='barh')"
   ]
  },
  {
   "cell_type": "markdown",
   "metadata": {},
   "source": [
    "hoods_ctgrs.drop_duplicates(subset=['name'])['parent.category'].value_counts().head(30).plot(kind='barh', figsize=(14,9))\n",
    "plt.title('Number of venues in search results', fontsize=15)\n",
    "plt.show()"
   ]
  },
  {
   "cell_type": "markdown",
   "metadata": {},
   "source": [
    "## Coordinates Variance Analysis"
   ]
  },
  {
   "cell_type": "code",
   "execution_count": 128,
   "metadata": {},
   "outputs": [],
   "source": [
    "hotel_stats = hotels.groupby(['bairros']).agg([np.mean, np.std])"
   ]
  },
  {
   "cell_type": "code",
   "execution_count": null,
   "metadata": {},
   "outputs": [],
   "source": [
    "hotel_stats['location.lng']['std'][hotel_stats['location.lng']['std']<1].plot(kind='hist', bins=100)"
   ]
  },
  {
   "cell_type": "code",
   "execution_count": 175,
   "metadata": {},
   "outputs": [],
   "source": [
    "hotel_stats_ctgr = hotels.groupby(['bairros', 'category'], as_index=False).agg([np.mean, np.std]).reset_index()"
   ]
  },
  {
   "cell_type": "code",
   "execution_count": null,
   "metadata": {},
   "outputs": [],
   "source": []
  },
  {
   "cell_type": "code",
   "execution_count": 176,
   "metadata": {},
   "outputs": [],
   "source": [
    "hotel_stats_hotel = hotel_stats_ctgr[hotel_stats_ctgr['category']=='Hotel']"
   ]
  },
  {
   "cell_type": "code",
   "execution_count": null,
   "metadata": {},
   "outputs": [],
   "source": [
    "hotel_stats_hotel['location.lng']['mean'].plot(kind='hist', bins=100)     # Add Sub Plot for lat mean and explanation"
   ]
  },
  {
   "cell_type": "markdown",
   "metadata": {},
   "source": [
    "## Hotels Visualization "
   ]
  },
  {
   "cell_type": "markdown",
   "metadata": {},
   "source": [
    "### All Hotel Categories"
   ]
  },
  {
   "cell_type": "code",
   "execution_count": null,
   "metadata": {},
   "outputs": [],
   "source": [
    "plot_map(hotels.drop_duplicates(subset=['name']).rename(columns={'location.lat':'lat', 'location.lng':'lng'}).iloc[:, 2:])"
   ]
  },
  {
   "cell_type": "markdown",
   "metadata": {},
   "source": [
    "# HOTELS"
   ]
  },
  {
   "cell_type": "code",
   "execution_count": 195,
   "metadata": {},
   "outputs": [],
   "source": [
    "hotel_clean = hotels.drop_duplicates(subset=['name', 'id']).rename(columns={'location.lat':'lat', 'location.lng':'lng', 'name':'hotel'}).iloc[:, 2:].reset_index(drop=True)"
   ]
  },
  {
   "cell_type": "markdown",
   "metadata": {},
   "source": [
    "# 1. General Search Over: Hotels"
   ]
  },
  {
   "cell_type": "code",
   "execution_count": null,
   "metadata": {},
   "outputs": [],
   "source": [
    "hotel_search = get_venues(hotel_clean, radius=500, query=True)"
   ]
  },
  {
   "cell_type": "markdown",
   "metadata": {},
   "source": [
    "#### Yes! Successful Search, 100 venues per hotel."
   ]
  },
  {
   "cell_type": "markdown",
   "metadata": {},
   "source": [
    "### Saving/Loading General Search over Hotels"
   ]
  },
  {
   "cell_type": "code",
   "execution_count": 252,
   "metadata": {},
   "outputs": [],
   "source": [
    "#hotel_search.to_csv('\\\\Users\\luisr\\Desktop\\Repository\\IBM_courses\\Course Work\\Assignments\\\\rio dataframes\\\\Search Results\\\\hotel_search.csv')"
   ]
  },
  {
   "cell_type": "code",
   "execution_count": 120,
   "metadata": {},
   "outputs": [],
   "source": [
    "hotel_search = pd.read_csv('\\\\Users\\luisr\\Desktop\\Repository\\IBM_courses\\Course Work\\Assignments\\\\rio dataframes\\\\Search Results\\\\hotel_search.csv', index_col=0)"
   ]
  },
  {
   "cell_type": "markdown",
   "metadata": {},
   "source": [
    "# 2. General Explore over: Hotels"
   ]
  },
  {
   "cell_type": "code",
   "execution_count": null,
   "metadata": {},
   "outputs": [],
   "source": [
    "hotel_explore = get_venues(hotel_clean, radius=500, explore=True)"
   ]
  },
  {
   "cell_type": "code",
   "execution_count": 284,
   "metadata": {},
   "outputs": [],
   "source": [
    "hotel_expl_fail = ['Bed and Breakfast Leblon', 'Pousada Cantinho do Sossego', 'Pousada Natural Life']"
   ]
  },
  {
   "cell_type": "markdown",
   "metadata": {},
   "source": [
    "### Saving/Loading General Explore over: Hotels"
   ]
  },
  {
   "cell_type": "code",
   "execution_count": 261,
   "metadata": {},
   "outputs": [],
   "source": [
    "#hotel_explore.to_csv('\\\\Users\\luisr\\Desktop\\Repository\\IBM_courses\\Course Work\\Assignments\\\\rio dataframes\\\\Search Results\\\\hotel_explore.csv')"
   ]
  },
  {
   "cell_type": "code",
   "execution_count": 264,
   "metadata": {},
   "outputs": [],
   "source": [
    "hotel_explore = pd.read_csv('\\\\Users\\luisr\\Desktop\\Repository\\IBM_courses\\Course Work\\Assignments\\\\rio dataframes\\\\Search Results\\\\hotel_explore.csv', index_col=0)"
   ]
  },
  {
   "cell_type": "markdown",
   "metadata": {},
   "source": [
    "# 3. Category Search over: Hotels"
   ]
  },
  {
   "cell_type": "markdown",
   "metadata": {},
   "source": [
    "## Food:"
   ]
  },
  {
   "cell_type": "code",
   "execution_count": null,
   "metadata": {},
   "outputs": [],
   "source": [
    "hotel_food = get_ctgr_venues(hotel_clean, only=[0])"
   ]
  },
  {
   "cell_type": "markdown",
   "metadata": {},
   "source": [
    "#### Saving/Loading Food Category Search over Hotels"
   ]
  },
  {
   "cell_type": "code",
   "execution_count": 288,
   "metadata": {},
   "outputs": [],
   "source": [
    "#hotel_food.to_csv('\\\\Users\\luisr\\Desktop\\Repository\\IBM_courses\\Course Work\\Assignments\\\\rio dataframes\\\\Search Results\\\\hotel_food.csv')"
   ]
  },
  {
   "cell_type": "code",
   "execution_count": 190,
   "metadata": {},
   "outputs": [],
   "source": [
    "hotel_food = pd.read_csv('\\\\Users\\luisr\\Desktop\\Repository\\IBM_courses\\Course Work\\Assignments\\\\rio dataframes\\\\Search Results\\\\hotel_food.csv', index_col=0)"
   ]
  },
  {
   "cell_type": "markdown",
   "metadata": {},
   "source": [
    "## Nightlife Spots:"
   ]
  },
  {
   "cell_type": "code",
   "execution_count": null,
   "metadata": {},
   "outputs": [],
   "source": [
    "hotel_night = get_ctgr_venues(hotel_clean, only=[1])"
   ]
  },
  {
   "cell_type": "markdown",
   "metadata": {},
   "source": [
    "#### Saving/Loading Nightlife Category Search over Hotels"
   ]
  },
  {
   "cell_type": "code",
   "execution_count": 330,
   "metadata": {},
   "outputs": [],
   "source": [
    "#hotel_night.to_csv('\\\\Users\\luisr\\Desktop\\Repository\\IBM_courses\\Course Work\\Assignments\\\\rio dataframes\\\\Search Results\\\\hotel_night.csv')"
   ]
  },
  {
   "cell_type": "code",
   "execution_count": 144,
   "metadata": {},
   "outputs": [],
   "source": [
    "hotel_night = pd.read_csv('\\\\Users\\luisr\\Desktop\\Repository\\IBM_courses\\Course Work\\Assignments\\\\rio dataframes\\\\Search Results\\\\hotel_night.csv', index_col=0)"
   ]
  },
  {
   "cell_type": "markdown",
   "metadata": {},
   "source": [
    "## From 'Outdoors & Recreation' to 'Shop e Services':"
   ]
  },
  {
   "cell_type": "code",
   "execution_count": null,
   "metadata": {},
   "outputs": [],
   "source": [
    "hotel_2to4 = get_ctgr_venues(hotel_clean, only=[2, 3, 4])"
   ]
  },
  {
   "cell_type": "markdown",
   "metadata": {},
   "source": [
    "### Saving Loading hotel category search 2 to 4 "
   ]
  },
  {
   "cell_type": "code",
   "execution_count": 42,
   "metadata": {},
   "outputs": [],
   "source": [
    "#hotel_2to4.to_csv('\\\\Users\\luisr\\Desktop\\Repository\\IBM_courses\\Course Work\\Assignments\\\\rio dataframes\\\\Search Results\\\\hotel_2to4.csv', index=False)"
   ]
  },
  {
   "cell_type": "code",
   "execution_count": 43,
   "metadata": {},
   "outputs": [],
   "source": [
    "hotel_2to4 = pd.read_csv('\\\\Users\\luisr\\Desktop\\Repository\\IBM_courses\\Course Work\\Assignments\\\\rio dataframes\\\\Search Results\\\\hotel_2to4.csv')"
   ]
  },
  {
   "cell_type": "markdown",
   "metadata": {},
   "source": [
    "## From 'Hotel' to 'Arts & Entertainment'"
   ]
  },
  {
   "cell_type": "code",
   "execution_count": null,
   "metadata": {},
   "outputs": [],
   "source": [
    "hotel_5on = get_ctgr_venues(hotel_clean, only=[5,6,7,8])"
   ]
  },
  {
   "cell_type": "markdown",
   "metadata": {},
   "source": [
    "### Saving Loading hotel category search 5 on "
   ]
  },
  {
   "cell_type": "code",
   "execution_count": 199,
   "metadata": {},
   "outputs": [],
   "source": [
    "#hotel_5on.to_csv('\\\\Users\\luisr\\Desktop\\Repository\\IBM_courses\\Course Work\\Assignments\\\\rio dataframes\\\\Search Results\\\\hotel_5on.csv', index=False)"
   ]
  },
  {
   "cell_type": "code",
   "execution_count": 200,
   "metadata": {},
   "outputs": [],
   "source": [
    "hotel_5on = pd.read_csv('\\\\Users\\luisr\\Desktop\\Repository\\IBM_courses\\Course Work\\Assignments\\\\rio dataframes\\\\Search Results\\\\hotel_5on.csv')"
   ]
  },
  {
   "cell_type": "markdown",
   "metadata": {},
   "source": [
    "## Combining Category Searches around hotels into single dataframe"
   ]
  },
  {
   "cell_type": "code",
   "execution_count": 201,
   "metadata": {},
   "outputs": [],
   "source": [
    "hotel_ctgrs = pd.concat([hotel_food, hotel_night, hotel_2to4, hotel_5on], axis=0)"
   ]
  },
  {
   "cell_type": "markdown",
   "metadata": {},
   "source": [
    "### Saving/Loading Complete Category Search of Hotels"
   ]
  },
  {
   "cell_type": "code",
   "execution_count": 202,
   "metadata": {},
   "outputs": [],
   "source": [
    "#hotel_ctgrs.to_csv('\\\\Users\\luisr\\Desktop\\Repository\\IBM_courses\\Course Work\\Assignments\\\\rio dataframes\\\\Search Results\\\\hotel_ctgrs.csv', index=False)"
   ]
  },
  {
   "cell_type": "code",
   "execution_count": 203,
   "metadata": {},
   "outputs": [],
   "source": [
    "hotel_ctgrs = pd.read_csv('\\\\Users\\luisr\\Desktop\\Repository\\IBM_courses\\Course Work\\Assignments\\\\rio dataframes\\\\Search Results\\\\hotel_ctgrs.csv')"
   ]
  },
  {
   "cell_type": "code",
   "execution_count": 209,
   "metadata": {},
   "outputs": [
    {
     "data": {
      "text/html": [
       "<div>\n",
       "<style scoped>\n",
       "    .dataframe tbody tr th:only-of-type {\n",
       "        vertical-align: middle;\n",
       "    }\n",
       "\n",
       "    .dataframe tbody tr th {\n",
       "        vertical-align: top;\n",
       "    }\n",
       "\n",
       "    .dataframe thead th {\n",
       "        text-align: right;\n",
       "    }\n",
       "</style>\n",
       "<table border=\"1\" class=\"dataframe\">\n",
       "  <thead>\n",
       "    <tr style=\"text-align: right;\">\n",
       "      <th></th>\n",
       "      <th>bairros</th>\n",
       "      <th>id</th>\n",
       "      <th>name</th>\n",
       "      <th>category_id</th>\n",
       "      <th>category</th>\n",
       "      <th>location.lat</th>\n",
       "      <th>location.lng</th>\n",
       "      <th>location.distance</th>\n",
       "      <th>parent.category</th>\n",
       "    </tr>\n",
       "  </thead>\n",
       "  <tbody>\n",
       "    <tr>\n",
       "      <th>0</th>\n",
       "      <td>abolição</td>\n",
       "      <td>5ab00b797918713b5d262fab</td>\n",
       "      <td>Fábrica de Bolo Vó Alzira</td>\n",
       "      <td>52e81612bcbc57f1066b7a0a</td>\n",
       "      <td>Pie Shop</td>\n",
       "      <td>-22.885513</td>\n",
       "      <td>-43.300110</td>\n",
       "      <td>77</td>\n",
       "      <td>Food</td>\n",
       "    </tr>\n",
       "    <tr>\n",
       "      <th>1</th>\n",
       "      <td>abolição</td>\n",
       "      <td>4d5dad65f7d7224b54652081</td>\n",
       "      <td>Crepe Lieto</td>\n",
       "      <td>4bf58dd8d48988d146941735</td>\n",
       "      <td>Deli / Bodega</td>\n",
       "      <td>-22.885457</td>\n",
       "      <td>-43.299354</td>\n",
       "      <td>93</td>\n",
       "      <td>Food</td>\n",
       "    </tr>\n",
       "    <tr>\n",
       "      <th>2</th>\n",
       "      <td>abolição</td>\n",
       "      <td>59a047b3d8fe7a08a3d117a5</td>\n",
       "      <td>Sorveteria Gelatto</td>\n",
       "      <td>4bf58dd8d48988d1c9941735</td>\n",
       "      <td>Ice Cream Shop</td>\n",
       "      <td>-22.885130</td>\n",
       "      <td>-43.299610</td>\n",
       "      <td>117</td>\n",
       "      <td>Food</td>\n",
       "    </tr>\n",
       "    <tr>\n",
       "      <th>3</th>\n",
       "      <td>abolição</td>\n",
       "      <td>56f0a0b8498e8cfec89e061c</td>\n",
       "      <td>Churrasquinho do Beleza</td>\n",
       "      <td>4bf58dd8d48988d1df931735</td>\n",
       "      <td>BBQ Joint</td>\n",
       "      <td>-22.885426</td>\n",
       "      <td>-43.300530</td>\n",
       "      <td>107</td>\n",
       "      <td>Food</td>\n",
       "    </tr>\n",
       "    <tr>\n",
       "      <th>4</th>\n",
       "      <td>abolição</td>\n",
       "      <td>5b4bbe83628c83002c01f8e9</td>\n",
       "      <td>Padaria, Armazém &amp; Bar da Abolição</td>\n",
       "      <td>4bf58dd8d48988d16a941735</td>\n",
       "      <td>Bakery</td>\n",
       "      <td>-22.885736</td>\n",
       "      <td>-43.299418</td>\n",
       "      <td>64</td>\n",
       "      <td>Food</td>\n",
       "    </tr>\n",
       "    <tr>\n",
       "      <th>...</th>\n",
       "      <td>...</td>\n",
       "      <td>...</td>\n",
       "      <td>...</td>\n",
       "      <td>...</td>\n",
       "      <td>...</td>\n",
       "      <td>...</td>\n",
       "      <td>...</td>\n",
       "      <td>...</td>\n",
       "      <td>...</td>\n",
       "    </tr>\n",
       "    <tr>\n",
       "      <th>4888</th>\n",
       "      <td>vista alegre</td>\n",
       "      <td>5082bd19e4b0d5064b0d527f</td>\n",
       "      <td>Madadanca</td>\n",
       "      <td>4bf58dd8d48988d134941735</td>\n",
       "      <td>Dance Studio</td>\n",
       "      <td>-22.828760</td>\n",
       "      <td>-43.317589</td>\n",
       "      <td>270</td>\n",
       "      <td>Arts &amp; Entertainment</td>\n",
       "    </tr>\n",
       "    <tr>\n",
       "      <th>4889</th>\n",
       "      <td>vista alegre</td>\n",
       "      <td>5144ace8e4b0136aa78ff427</td>\n",
       "      <td>roda de samba do dynei</td>\n",
       "      <td>4bf58dd8d48988d1e5931735</td>\n",
       "      <td>Music Venue</td>\n",
       "      <td>-22.826941</td>\n",
       "      <td>-43.317018</td>\n",
       "      <td>356</td>\n",
       "      <td>Arts &amp; Entertainment</td>\n",
       "    </tr>\n",
       "    <tr>\n",
       "      <th>4890</th>\n",
       "      <td>vista alegre</td>\n",
       "      <td>4de1af158877bcb686334f21</td>\n",
       "      <td>Lona Cultural João Bosco</td>\n",
       "      <td>4d4b7104d754a06370d81259</td>\n",
       "      <td>Arts &amp; Entertainment</td>\n",
       "      <td>-22.832276</td>\n",
       "      <td>-43.312361</td>\n",
       "      <td>409</td>\n",
       "      <td>Arts &amp; Entertainment</td>\n",
       "    </tr>\n",
       "    <tr>\n",
       "      <th>4893</th>\n",
       "      <td>vista alegre</td>\n",
       "      <td>4f04eaae2c5b4138beab2f58</td>\n",
       "      <td>Cazuza's Dungeon</td>\n",
       "      <td>4bf58dd8d48988d18e941735</td>\n",
       "      <td>Comedy Club</td>\n",
       "      <td>-22.831370</td>\n",
       "      <td>-43.317633</td>\n",
       "      <td>322</td>\n",
       "      <td>Arts &amp; Entertainment</td>\n",
       "    </tr>\n",
       "    <tr>\n",
       "      <th>4894</th>\n",
       "      <td>vista alegre</td>\n",
       "      <td>50357bd2e4b025c29f2a9711</td>\n",
       "      <td>Javah e Maia Ink Tatoo</td>\n",
       "      <td>4bf58dd8d48988d1e2931735</td>\n",
       "      <td>Art Gallery</td>\n",
       "      <td>-22.829844</td>\n",
       "      <td>-43.319136</td>\n",
       "      <td>411</td>\n",
       "      <td>Arts &amp; Entertainment</td>\n",
       "    </tr>\n",
       "  </tbody>\n",
       "</table>\n",
       "<p>24891 rows × 9 columns</p>\n",
       "</div>"
      ],
      "text/plain": [
       "           bairros                        id  \\\n",
       "0         abolição  5ab00b797918713b5d262fab   \n",
       "1         abolição  4d5dad65f7d7224b54652081   \n",
       "2         abolição  59a047b3d8fe7a08a3d117a5   \n",
       "3         abolição  56f0a0b8498e8cfec89e061c   \n",
       "4         abolição  5b4bbe83628c83002c01f8e9   \n",
       "...            ...                       ...   \n",
       "4888  vista alegre  5082bd19e4b0d5064b0d527f   \n",
       "4889  vista alegre  5144ace8e4b0136aa78ff427   \n",
       "4890  vista alegre  4de1af158877bcb686334f21   \n",
       "4893  vista alegre  4f04eaae2c5b4138beab2f58   \n",
       "4894  vista alegre  50357bd2e4b025c29f2a9711   \n",
       "\n",
       "                                    name               category_id  \\\n",
       "0              Fábrica de Bolo Vó Alzira  52e81612bcbc57f1066b7a0a   \n",
       "1                            Crepe Lieto  4bf58dd8d48988d146941735   \n",
       "2                     Sorveteria Gelatto  4bf58dd8d48988d1c9941735   \n",
       "3                Churrasquinho do Beleza  4bf58dd8d48988d1df931735   \n",
       "4     Padaria, Armazém & Bar da Abolição  4bf58dd8d48988d16a941735   \n",
       "...                                  ...                       ...   \n",
       "4888                           Madadanca  4bf58dd8d48988d134941735   \n",
       "4889              roda de samba do dynei  4bf58dd8d48988d1e5931735   \n",
       "4890            Lona Cultural João Bosco  4d4b7104d754a06370d81259   \n",
       "4893                    Cazuza's Dungeon  4bf58dd8d48988d18e941735   \n",
       "4894              Javah e Maia Ink Tatoo  4bf58dd8d48988d1e2931735   \n",
       "\n",
       "                  category  location.lat  location.lng  location.distance  \\\n",
       "0                 Pie Shop    -22.885513    -43.300110                 77   \n",
       "1            Deli / Bodega    -22.885457    -43.299354                 93   \n",
       "2           Ice Cream Shop    -22.885130    -43.299610                117   \n",
       "3                BBQ Joint    -22.885426    -43.300530                107   \n",
       "4                   Bakery    -22.885736    -43.299418                 64   \n",
       "...                    ...           ...           ...                ...   \n",
       "4888          Dance Studio    -22.828760    -43.317589                270   \n",
       "4889           Music Venue    -22.826941    -43.317018                356   \n",
       "4890  Arts & Entertainment    -22.832276    -43.312361                409   \n",
       "4893           Comedy Club    -22.831370    -43.317633                322   \n",
       "4894           Art Gallery    -22.829844    -43.319136                411   \n",
       "\n",
       "           parent.category  \n",
       "0                     Food  \n",
       "1                     Food  \n",
       "2                     Food  \n",
       "3                     Food  \n",
       "4                     Food  \n",
       "...                    ...  \n",
       "4888  Arts & Entertainment  \n",
       "4889  Arts & Entertainment  \n",
       "4890  Arts & Entertainment  \n",
       "4893  Arts & Entertainment  \n",
       "4894  Arts & Entertainment  \n",
       "\n",
       "[24891 rows x 9 columns]"
      ]
     },
     "execution_count": 209,
     "metadata": {},
     "output_type": "execute_result"
    }
   ],
   "source": [
    "hoods_ctgrs.drop_duplicates(subset=['name', 'id'])"
   ]
  },
  {
   "cell_type": "code",
   "execution_count": 220,
   "metadata": {},
   "outputs": [
    {
     "data": {
      "text/plain": [
       "<matplotlib.axes._subplots.AxesSubplot at 0x1e927d4f610>"
      ]
     },
     "execution_count": 220,
     "metadata": {},
     "output_type": "execute_result"
    },
    {
     "data": {
      "image/png": "[encoded data removed]",
      "text/plain": [
       "<Figure size 432x288 with 1 Axes>"
      ]
     },
     "metadata": {
      "needs_background": "light"
     },
     "output_type": "display_data"
    }
   ],
   "source": [
    "hotel_ctgrs.drop_duplicates(subset=['name', 'id']).groupby('hotel').std()['location.lat'].sort_values().plot(kind='kde', xlim=(0))"
   ]
  },
  {
   "cell_type": "markdown",
   "metadata": {},
   "source": [
    "# 4. Hotels Details Search"
   ]
  },
  {
   "cell_type": "code",
   "execution_count": 53,
   "metadata": {},
   "outputs": [],
   "source": [
    "hotel_ids450 = hotels.drop_duplicates(subset=['name', 'id']).rename(columns={'location.lat':'lat', 'location.lng':'lng', 'name':'hotel'}).iloc[:450, 1:3].reset_index(drop=True)"
   ]
  },
  {
   "cell_type": "code",
   "execution_count": 59,
   "metadata": {},
   "outputs": [
    {
     "name": "stderr",
     "output_type": "stream",
     "text": [
      "<ipython-input-56-d7db0d28d5d5>:38: SettingWithCopyWarning: \n",
      "A value is trying to be set on a copy of a slice from a DataFrame\n",
      "\n",
      "See the caveats in the documentation: https://pandas.pydata.org/pandas-docs/stable/user_guide/indexing.html#returning-a-view-versus-a-copy\n",
      "  rqst_row['attributes.groups'][0] = ([i['name'] for i in rqst_row['attributes.groups'][0]])\n"
     ]
    },
    {
     "name": "stdout",
     "output_type": "stream",
     "text": [
      "Appended: 30 Searched: 30\n",
      "Appended: 60 Searched: 60\n",
      "Appended: 90 Searched: 90\n",
      "Appended: 120 Searched: 120\n",
      "Appended: 150 Searched: 150\n",
      "Appended: 180 Searched: 180\n",
      "Appended: 210 Searched: 210\n",
      "Appended: 240 Searched: 240\n",
      "Appended: 270 Searched: 270\n",
      "Appended: 300 Searched: 300\n",
      "Appended: 330 Searched: 330\n",
      "Appended: 360 Searched: 360\n",
      "Appended: 390 Searched: 390\n",
      "Appended: 420 Searched: 420\n"
     ]
    }
   ],
   "source": [
    "hotel_details450 = get_details(hotel_ids450)"
   ]
  },
  {
   "cell_type": "code",
   "execution_count": 103,
   "metadata": {},
   "outputs": [
    {
     "data": {
      "image/png": "[encoded data removed]",
      "text/plain": [
       "<Figure size 576x360 with 1 Axes>"
      ]
     },
     "metadata": {
      "needs_background": "light"
     },
     "output_type": "display_data"
    }
   ],
   "source": [
    "hotel_details450[(hotel_details450['likes.count']>100) & (hotel_details450['likes.count']<300)]['likes.count'].plot(kind='kde', xlim=(0), figsize=(8,5))\n",
    "\n",
    "#plt.xticks(np.arange(0, 1000, 50))\n",
    "plt.grid()"
   ]
  },
  {
   "cell_type": "markdown",
   "metadata": {},
   "source": [
    "## Saving/Loading Hotel Details First half"
   ]
  },
  {
   "cell_type": "code",
   "execution_count": 60,
   "metadata": {},
   "outputs": [],
   "source": [
    "#hotel_details450.to_csv('\\\\Users\\luisr\\Desktop\\Repository\\IBM_courses\\Course Work\\Assignments\\\\rio dataframes\\\\Search Results\\\\hotel_details450.csv')"
   ]
  },
  {
   "cell_type": "code",
   "execution_count": null,
   "metadata": {},
   "outputs": [],
   "source": [
    "hotel_details450 = pd.read_csv('\\\\Users\\luisr\\Desktop\\Repository\\IBM_courses\\Course Work\\Assignments\\\\rio dataframes\\\\Search Results\\\\hotel_details450.csv')"
   ]
  },
  {
   "cell_type": "markdown",
   "metadata": {},
   "source": [
    "# Nightlife Spots Clustering Analysis: K-means"
   ]
  },
  {
   "cell_type": "code",
   "execution_count": 486,
   "metadata": {},
   "outputs": [],
   "source": [
    "night_hot_grp = pd.concat([hotel_night['hotel'], pd.get_dummies(hotel_night['category'])], axis=1).groupby('hotel').sum()"
   ]
  },
  {
   "cell_type": "code",
   "execution_count": 487,
   "metadata": {},
   "outputs": [
    {
     "data": {
      "image/png": "[encoded data removed]",
      "text/plain": [
       "<Figure size 432x288 with 1 Axes>"
      ]
     },
     "metadata": {
      "needs_background": "light"
     },
     "output_type": "display_data"
    }
   ],
   "source": [
    "night_hot_grp.sum().sort_values(ascending=True).tail(20).plot(kind='barh')\n",
    "plt.title('Frequency of establishments of a certain category 500 m of a hotel')\n",
    "plt.show()"
   ]
  },
  {
   "cell_type": "code",
   "execution_count": 488,
   "metadata": {},
   "outputs": [],
   "source": [
    "from sklearn.cluster import KMeans"
   ]
  },
  {
   "cell_type": "code",
   "execution_count": 489,
   "metadata": {},
   "outputs": [],
   "source": [
    "x = night_hot_grp.copy()"
   ]
  },
  {
   "cell_type": "code",
   "execution_count": 490,
   "metadata": {},
   "outputs": [
    {
     "name": "stdout",
     "output_type": "stream",
     "text": [
      "1\n",
      "4\n",
      "7\n",
      "10\n",
      "13\n",
      "16\n",
      "19\n",
      "22\n",
      "25\n",
      "28\n",
      "31\n",
      "34\n",
      "37\n"
     ]
    }
   ],
   "source": [
    "inertias = []\n",
    "for i in range(1, 40):\n",
    "    \n",
    "    kmeans = KMeans(n_clusters=i, n_init=12).fit(x)\n",
    "    inertias.append((i,kmeans.inertia_))\n",
    "    if i in range(1,200,3): print(i)"
   ]
  },
  {
   "cell_type": "code",
   "execution_count": 491,
   "metadata": {},
   "outputs": [
    {
     "data": {
      "text/plain": [
       "<matplotlib.axes._subplots.AxesSubplot at 0x197f1417550>"
      ]
     },
     "execution_count": 491,
     "metadata": {},
     "output_type": "execute_result"
    },
    {
     "data": {
      "image/png": "[encoded data removed]",
      "text/plain": [
       "<Figure size 432x288 with 1 Axes>"
      ]
     },
     "metadata": {
      "needs_background": "light"
     },
     "output_type": "display_data"
    }
   ],
   "source": [
    "pd.DataFrame(inertias)[1].plot(color='orange')"
   ]
  },
  {
   "cell_type": "code",
   "execution_count": 504,
   "metadata": {},
   "outputs": [],
   "source": [
    "kmeans = KMeans(n_clusters=3, n_init=12).fit(x.iloc[:, :-1])"
   ]
  },
  {
   "cell_type": "code",
   "execution_count": 505,
   "metadata": {},
   "outputs": [],
   "source": [
    "x['label'] = kmeans.labels_"
   ]
  },
  {
   "cell_type": "code",
   "execution_count": 508,
   "metadata": {},
   "outputs": [
    {
     "data": {
      "text/plain": [
       "Text(0.5, 0, 'Proportion in 500 m sample around hotel')"
      ]
     },
     "execution_count": 508,
     "metadata": {},
     "output_type": "execute_result"
    },
    {
     "data": {
      "image/png": "[encoded data removed]",
      "text/plain": [
       "<Figure size 1008x648 with 3 Axes>"
      ]
     },
     "metadata": {
      "needs_background": "light"
     },
     "output_type": "display_data"
    }
   ],
   "source": [
    "fig = plt.figure(figsize=(14,9))\n",
    "ax0 = fig.add_subplot(3,1,1, xlim=(0,25))\n",
    "ax1 = fig.add_subplot(3,1,2, xlim=(0,25))\n",
    "ax2 = fig.add_subplot(3,1,3, xlim=(0,25))\n",
    "#ax3 = fig.add_subplot(4,1,4, xlim=(0,25))\n",
    "#ax4 = fig.add_subplot(6,1,5, xlim=(0,25))\n",
    "#ax5 = fig.add_subplot(6,1,6, xlim=(0,25))\n",
    "\n",
    "\n",
    "x[x['label']==0].iloc[:, :-1].mean().sort_values(ascending=True).tail(10).plot.barh(ax=ax0)\n",
    "x[x['label']==1].iloc[:, :-1].mean().sort_values(ascending=True).tail(10).plot.barh(ax=ax1)\n",
    "x[x['label']==2].iloc[:, :-1].mean().sort_values(ascending=True).tail(10).plot.barh(ax=ax2)\n",
    "#x[x['label']==3].iloc[:, :-1].mean().sort_values(ascending=True).tail(10).plot.barh(ax=ax3)\n",
    "#x[x['label']==4].iloc[:, :-1].mean().sort_values(ascending=True).tail(10).plot.barh(ax=ax4)\n",
    "#x[x['label']==5].iloc[:, :-1].mean().sort_values(ascending=True).tail(10).plot.barh(ax=ax5)\n",
    "plt.xlabel('Proportion in 500 m sample around hotel')"
   ]
  },
  {
   "cell_type": "markdown",
   "metadata": {},
   "source": [
    "## "
   ]
  },
  {
   "cell_type": "markdown",
   "metadata": {},
   "source": [
    "# Food Analysis"
   ]
  },
  {
   "cell_type": "code",
   "execution_count": 300,
   "metadata": {},
   "outputs": [],
   "source": [
    "food_hot = pd.get_dummies(hotel_food['category'])\n",
    "food_hot_grp = pd.concat([food_hot, hotel_food['hotel']], axis=1).groupby('hotel').mean()"
   ]
  },
  {
   "cell_type": "code",
   "execution_count": null,
   "metadata": {},
   "outputs": [],
   "source": [
    "food_hot_grp.mean().sort_values(ascending=True).tail(30).plot(kind='barh', figsize=(6,6))"
   ]
  },
  {
   "cell_type": "markdown",
   "metadata": {},
   "source": [
    "# Hotel Details Analysis"
   ]
  },
  {
   "cell_type": "code",
   "execution_count": 155,
   "metadata": {},
   "outputs": [],
   "source": [
    "from sklearn.preprocessing import StandardScaler as ss"
   ]
  },
  {
   "cell_type": "code",
   "execution_count": 179,
   "metadata": {},
   "outputs": [],
   "source": [
    "hotel_hot_grp = pd.get_dummies(hotel_search['category'])\n",
    "hotel_hot_grp['hotel'] = hotel_search['hotel']\n",
    "x = hotel_hot_grp.groupby('hotel', sort=False).sum()\n",
    "x_ss = pd.DataFrame(ss().fit_transform(x))\n",
    "x_ss['hotel'] = x.index"
   ]
  },
  {
   "cell_type": "code",
   "execution_count": 180,
   "metadata": {},
   "outputs": [],
   "source": [
    "hotel_info = pd.merge(hotel_clean, hotel_details450.rename(columns={'name':'hotel'}), on='hotel')"
   ]
  },
  {
   "cell_type": "code",
   "execution_count": 181,
   "metadata": {},
   "outputs": [],
   "source": [
    "hotel_info = pd.merge(hotel_info, x_ss, on='hotel')"
   ]
  },
  {
   "cell_type": "code",
   "execution_count": null,
   "metadata": {},
   "outputs": [],
   "source": [
    "hotel_info"
   ]
  },
  {
   "cell_type": "code",
   "execution_count": 183,
   "metadata": {},
   "outputs": [
    {
     "data": {
      "text/plain": [
       "rating    1.000000\n",
       "211       0.221654\n",
       "309       0.216680\n",
       "269       0.209800\n",
       "338       0.208730\n",
       "            ...   \n",
       "458            NaN\n",
       "471            NaN\n",
       "481            NaN\n",
       "517            NaN\n",
       "530            NaN\n",
       "Name: rating, Length: 620, dtype: float64"
      ]
     },
     "execution_count": 183,
     "metadata": {},
     "output_type": "execute_result"
    }
   ],
   "source": [
    "hotel_info.corr()['rating'].sort_values(ascending=False)"
   ]
  },
  {
   "cell_type": "code",
   "execution_count": 191,
   "metadata": {},
   "outputs": [],
   "source": [
    "night_hot_grp = pd.get_dummies(hotel_food['category'])\n",
    "night_hot_grp['hotel'] = hotel_food['hotel']\n",
    "x = night_hot_grp.groupby('hotel', sort=False).sum()\n",
    "x_ss = pd.DataFrame(ss().fit_transform(x))\n",
    "x_ss['hotel'] = x.index"
   ]
  },
  {
   "cell_type": "code",
   "execution_count": 192,
   "metadata": {},
   "outputs": [],
   "source": [
    "night_info = pd.merge(hotel_clean, hotel_details450.rename(columns={'name':'hotel'}), on='hotel')"
   ]
  },
  {
   "cell_type": "code",
   "execution_count": 193,
   "metadata": {},
   "outputs": [],
   "source": [
    "night_info = pd.merge(hotel_info, x_ss, on='hotel')"
   ]
  },
  {
   "cell_type": "code",
   "execution_count": 194,
   "metadata": {},
   "outputs": [
    {
     "data": {
      "text/plain": [
       "rating    1.000000\n",
       "38_y      0.237515\n",
       "211       0.221654\n",
       "309       0.216680\n",
       "269       0.209800\n",
       "            ...   \n",
       "127_y          NaN\n",
       "140_y          NaN\n",
       "144_y          NaN\n",
       "147_y          NaN\n",
       "157_y          NaN\n",
       "Name: rating, Length: 780, dtype: float64"
      ]
     },
     "execution_count": 194,
     "metadata": {},
     "output_type": "execute_result"
    }
   ],
   "source": [
    "night_info.corr()['rating'].sort_values(ascending=False)"
   ]
  }
 ],
 "metadata": {
  "kernelspec": {
   "display_name": "Python 3",
   "language": "python",
   "name": "python3"
  },
  "language_info": {
   "codemirror_mode": {
    "name": "ipython",
    "version": 3
   },
   "file_extension": ".py",
   "mimetype": "text/x-python",
   "name": "python",
   "nbconvert_exporter": "python",
   "pygments_lexer": "ipython3",
   "version": "3.8.3"
  }
 },
 "nbformat": 4,
 "nbformat_minor": 4
}
