{
 "cells": [
  {
   "cell_type": "markdown",
   "metadata": {},
   "source": [
    "### Planning"
   ]
  },
  {
   "cell_type": "markdown",
   "metadata": {},
   "source": [
    "### Introduction: Bussiness problem and who'd be interested"
   ]
  },
  {
   "cell_type": "markdown",
   "metadata": {},
   "source": [
    "### If a neighborhood or region has lots of comercial stablishments, turistic places or crowded places, it is likely that hotels in the area will profit more. But if the area has lots of this features it is likely that there are already lots of hotels. And hotel profits likely rise in the absence of other hotels around. So the question is, how do we determine whats the best place for a new hotel given this two features for each region.\n",
    "\n",
    "try to optimize for region. But keep the neighborhood radial areas in mind.\n",
    "\n",
    "Classification of beachs/neighborhoods in Rio de Janeiro city:\n",
    "A Turism related company might be interested in expanding its bussiness activities in the city of Rio de Janeiro. It might also be interested in retaining more clients. Hotel company managers for an example might want to invest in a new stablishment such as a new hotel inside the city or a beach resort, but how can they decide which neighborhood or region is the best to place their new facility, in terms of receiving and retaining more clients. But with so many options and variables at play how can they make the best decision?\n",
    "1. \n",
    "    1. What attributes of each region have an impact. What is the magnitude of each impact and what fixed set of attributes or conditions of that region lead to the best results (in profit or nº of clients) ?\n",
    "    2. For example, decrease in Nº of hotels per square foot in the region might increase profit less than increase in comercial activity might increase profit. So in this case a place with higher comercial activity and medium to high hotels/square-foot would be the go-to choice.\n",
    "    \n",
    "1. Beach Hotel managers, turism activities managers: beaches\n",
    "2. Public resources manager: neighborhoods.\n"
   ]
  },
  {
   "cell_type": "markdown",
   "metadata": {},
   "source": [
    "### Data: description of the data that will be used and source of the data."
   ]
  },
  {
   "cell_type": "markdown",
   "metadata": {},
   "source": [
    "#### Foursquare:\n",
    "\n",
    "1. sample of venues around a given neighborhood or beach area, respective category types, rantings, address, ...\n",
    "2. sample of hotels or competitors: quantity, types, rantings, adress... --> pousada, hotel, hostel, pensão, \n",
    "3. sample of comercial venues:  quantity, types, rantings, adress  --> padaria, restaurante, mercado, farmacia, bar, ponto de onibus, ponto de taxi, shopping, cinema, museu, teatro, praia, faculdade, universidade, escola, hospital, igreja, posto de saude, mercearia, hortifruti, parque, feira, .\n",
    "4. sample of popular venues around: types, ratings, address\n",
    "5. Residential:Z (see what's available) --> Residencia\n",
    "6. Outsied data: rio.data: anything on the neighborhoods: Qualidade de vida e IDH por bairro\n",
    "7. Escolas, hospitais\n"
   ]
  },
  {
   "cell_type": "markdown",
   "metadata": {},
   "source": [
    "Idea: get data on the neighborhoods and cluster the neighborhoods. See for possible Classification or Regression."
   ]
  },
  {
   "cell_type": "markdown",
   "metadata": {},
   "source": [
    "step1: Explore venues around neighborhoods. Append each as a dataframe in a list\n",
    "step2: Explore specifically for each venue for each neighborhood. Append each neighborhood as a dataframe in a list.\n",
    "step3: Explore venues around beaches\n",
    "step4: Same as step 2\n",
    "step5: Search categories around each neighborhood. Append each search result as a dataframe in a cell of a two dimensional numpy array, where the indexes are the neighborhoods, columns the terms and cells a dataframe of venues as rows."
   ]
  },
  {
   "cell_type": "code",
   "execution_count": 2,
   "metadata": {},
   "outputs": [],
   "source": [
    "import pandas as pd\n",
    "import numpy as np\n",
    "import matplotlib.pyplot as plt\n",
    "\n",
    "import urllib.request\n",
    "import json\n",
    "from pandas.io.json import json_normalize\n",
    "\n",
    "from geopy.geocoders import Nominatim\n",
    "import folium"
   ]
  },
  {
   "cell_type": "code",
   "execution_count": 3,
   "metadata": {},
   "outputs": [],
   "source": [
    "nomi_obj = Nominatim(user_agent='IBM-coursera')"
   ]
  },
  {
   "cell_type": "code",
   "execution_count": 4,
   "metadata": {},
   "outputs": [],
   "source": [
    "pd.set_option('display.max_rows', None)"
   ]
  },
  {
   "cell_type": "markdown",
   "metadata": {},
   "source": [
    "# Defining Functions"
   ]
  },
  {
   "cell_type": "markdown",
   "metadata": {},
   "source": [
    "### Coordinates: Receives a list of names and returns a dataframe containing names and its coordinates."
   ]
  },
  {
   "cell_type": "code",
   "execution_count": 5,
   "metadata": {},
   "outputs": [],
   "source": [
    "def frame_coords(lst, col_name='venue'):\n",
    "    coords = []\n",
    "    fail_list = []\n",
    "    \n",
    "    cnt = 0\n",
    "    for item in lst:\n",
    "        \n",
    "        cnt2 = 0\n",
    "        try:\n",
    "            location = None\n",
    "            while (location==None) and (cnt2<5):\n",
    "                location = nomi_obj.geocode(item)\n",
    "                cnt2+=1\n",
    "                        \n",
    "            if location!=None: coords.append((item, location[1][0], location[1][1]))\n",
    "            else: \n",
    "                fail_list.append(item)\n",
    "                print('Fail:', item)\n",
    "                \n",
    "            cnt = cnt+1\n",
    "            if cnt in range(1, 500, 8): print('Appended:', len(coords), 'Attempts:', cnt)\n",
    "        except: print(nomi_obj.geocode(item), location)\n",
    "            \n",
    "    print('Fail List: ', fail_list) \n",
    "    print('Completed')\n",
    "    return pd.DataFrame(coords, columns=[col_name, 'lat', 'lng'])"
   ]
  },
  {
   "cell_type": "code",
   "execution_count": 6,
   "metadata": {},
   "outputs": [
    {
     "name": "stdout",
     "output_type": "stream",
     "text": [
      "Appended: 1 Attempts: 1\n",
      "Fail List:  []\n",
      "Completed\n"
     ]
    },
    {
     "data": {
      "text/html": [
       "<div>\n",
       "<style scoped>\n",
       "    .dataframe tbody tr th:only-of-type {\n",
       "        vertical-align: middle;\n",
       "    }\n",
       "\n",
       "    .dataframe tbody tr th {\n",
       "        vertical-align: top;\n",
       "    }\n",
       "\n",
       "    .dataframe thead th {\n",
       "        text-align: right;\n",
       "    }\n",
       "</style>\n",
       "<table border=\"1\" class=\"dataframe\">\n",
       "  <thead>\n",
       "    <tr style=\"text-align: right;\">\n",
       "      <th></th>\n",
       "      <th>rio</th>\n",
       "      <th>lat</th>\n",
       "      <th>lng</th>\n",
       "    </tr>\n",
       "  </thead>\n",
       "  <tbody>\n",
       "    <tr>\n",
       "      <th>0</th>\n",
       "      <td>Rio de Janeiro, RJ</td>\n",
       "      <td>-22.911014</td>\n",
       "      <td>-43.209373</td>\n",
       "    </tr>\n",
       "  </tbody>\n",
       "</table>\n",
       "</div>"
      ],
      "text/plain": [
       "                  rio        lat        lng\n",
       "0  Rio de Janeiro, RJ -22.911014 -43.209373"
      ]
     },
     "execution_count": 6,
     "metadata": {},
     "output_type": "execute_result"
    }
   ],
   "source": [
    "frame_coords(['Rio de Janeiro, RJ'], 'rio')"
   ]
  },
  {
   "cell_type": "markdown",
   "metadata": {},
   "source": [
    "### Mapping Functions"
   ]
  },
  {
   "cell_type": "code",
   "execution_count": 7,
   "metadata": {},
   "outputs": [],
   "source": [
    "def plot_map(df, zoom=10):\n",
    "    mapa = folium.Map(location = [-22.911014, -43.209373], zoom_start = zoom)\n",
    "\n",
    "\n",
    "    for lat, lng, label in zip(df['lat'], df['lng'], df.iloc[:, 0]):\n",
    "    \n",
    "        label = folium.Popup(label, html_parser=True)\n",
    "        folium.CircleMarker([lat, lng],\n",
    "                            popup=label,\n",
    "                            radius=3,\n",
    "                            color='darkorange',\n",
    "                            #fill=True,\n",
    "                            #fill_color='blue',\n",
    "                            #fill_oppacity=0.8\n",
    "                           ).add_to(mapa)\n",
    "    return mapa"
   ]
  },
  {
   "cell_type": "code",
   "execution_count": 8,
   "metadata": {},
   "outputs": [],
   "source": [
    "def plot_map_lite(df, zoom=11):\n",
    "    \n",
    "    mapa = folium.Map(location = [-22.911014, -43.209373], zoom_start=zoom)\n",
    "\n",
    "    for lat, lng, label in zip(df['lat'].values, df['lng'].values, df.iloc[:, 0].values):\n",
    "    \n",
    "        #label = folium.Popup(label, html_parser=True)\n",
    "        folium.CircleMarker([lat, lng],\n",
    "                            #popup=label,\n",
    "                            radius=2,\n",
    "                            color='darkred',\n",
    "                            #fill=True,\n",
    "                            #fill_color='blue',\n",
    "                            #fill_oppacity=0.8\n",
    "                           ).add_to(mapa)\n",
    "    return mapa"
   ]
  },
  {
   "cell_type": "code",
   "execution_count": 9,
   "metadata": {},
   "outputs": [],
   "source": [
    "def plot_search_map(df, zoom=11):\n",
    "    \n",
    "     \n",
    "    mapa = folium.Map(location = [-22.911014, -43.209373], zoom_start=zoom)\n",
    "\n",
    "    for lat, lng, label, radius in zip(df['lat'].values, df['lng'].values, df.iloc[:, 0].values, df['radius'].values):\n",
    "    \n",
    "        #label = folium.Popup(label, html_parser=True)\n",
    "        folium.Circle([lat, lng],\n",
    "                      #popup=label,\n",
    "                      radius=radius,\n",
    "                      color='darkred',\n",
    "                      #fill=True,\n",
    "                      #fill_color='blue',\n",
    "                      #fill_oppacity=0.8\n",
    "                     ).add_to(mapa)\n",
    "    return mapa\n",
    "    "
   ]
  },
  {
   "cell_type": "markdown",
   "metadata": {},
   "source": [
    "# Initial Data Collection: Spots"
   ]
  },
  {
   "cell_type": "code",
   "execution_count": 7,
   "metadata": {
    "jupyter": {
     "source_hidden": true
    }
   },
   "outputs": [],
   "source": [
    "turisticos = '''Aeroporto Santos Dumont\n",
    "Aquário do Rio de Janeiro - AquaRio\n",
    "Arcos da Lapa\n",
    "Cais do Valongo\n",
    "Capela Mayrink\n",
    "Cascatinha Taunay\n",
    "Catedral São Sebastião\n",
    "Cidade das Artes\n",
    "Cidade do Samba\n",
    "Cinelândia\n",
    "Cristo Redentor\n",
    "Estação das Barcas\n",
    "Estádio Olímpico Nilton Santos - Engenhão\n",
    "Fortaleza de São João\n",
    "Forte de Copacabana\n",
    "Hipódromo da Gávea - Jóquei Club\n",
    "Igreja da Candelária\n",
    "Igreja da Penha\n",
    "Ilha de Paquetá\n",
    "Ilha Fiscal\n",
    "Jardim Botânico\n",
    "Jardim de Alah\n",
    "Jardim Zoológico\n",
    "Lagoa Rodrigo de Freitas\n",
    "Largo da Carioca\n",
    "Maracanã\n",
    "Marina da Glória\n",
    "Monumento aos Pracinhas\n",
    "Mosteiro de São Bento\n",
    "Museu de Arte do Rio - MAR\n",
    "Museu do Amanhã\n",
    "Orla Conde\n",
    "Outeiro da Glória\n",
    "Pão de Açúcar\n",
    "Parque das Ruínas\n",
    "Parque Madureira\n",
    "Passarela do Samba - Sambódromo\n",
    "Pavilhão de São Cristóvão\n",
    "Pedra da Gávea\n",
    "Planetário da Gávea\n",
    "Planetário de Santa Cruz\n",
    "Ponta do Arpoador\n",
    "Praça XV\n",
    "Quinta da Boa Vista\n",
    "Vista Chinesa'''"
   ]
  },
  {
   "cell_type": "code",
   "execution_count": 8,
   "metadata": {},
   "outputs": [],
   "source": [
    "tur = turisticos.split('\\n')"
   ]
  },
  {
   "cell_type": "code",
   "execution_count": 9,
   "metadata": {
    "jupyter": {
     "source_hidden": true
    }
   },
   "outputs": [],
   "source": [
    "culturais = '''Aquário do Rio de Janeiro - AquaRio\n",
    "Biblioteca Nacional\n",
    "Cais do Valongo\n",
    "Capela Mayrink\n",
    "Casa França-Brasil\n",
    "Centro Cultural Banco do Brasil\n",
    "Cidade das Artes\n",
    "Ecomuseu do Quarteirão Cultural do Matadouro de Santa Cruz\n",
    "Forte de Copacabana\n",
    "Hipódromo da Gávea - Jóquei Club\n",
    "Igreja da Candelária\n",
    "Igreja da Penha\n",
    "Ilha Fiscal\n",
    "Mosteiro de São Bento\n",
    "Museu Aeroespacial\n",
    "Museu Casa do Pontal\n",
    "Museu Chácara do Céu\n",
    "Museu da República - Palácio do Catete\n",
    "Museu de Arte do Rio - MAR\n",
    "Museu de Arte Moderna\n",
    "Museu do Amanhã\n",
    "Museu Histórico Nacional\n",
    "Outeiro da Glória\n",
    "Parque das Ruínas\n",
    "Planetário da Gávea\n",
    "Planetário de Santa Cruz\n",
    "Ponte dos Jesuítas\n",
    "Praça XV\n",
    "Teatro Municipal'''"
   ]
  },
  {
   "cell_type": "code",
   "execution_count": 10,
   "metadata": {},
   "outputs": [],
   "source": [
    "cult = culturais.split('\\n')"
   ]
  },
  {
   "cell_type": "code",
   "execution_count": 11,
   "metadata": {
    "jupyter": {
     "source_hidden": true
    }
   },
   "outputs": [],
   "source": [
    "esportivos = '''Cidade das Crianças\n",
    "Estádio Olímpico Nilton Santos - Engenhão\n",
    "Maracanã\n",
    "Parque Aquático Maria Lenk\n",
    "Parque do Flamengo\n",
    "Parque Madureira\n",
    "Parque Poeta Manuel Bandeira\n",
    "Parque Radical'''"
   ]
  },
  {
   "cell_type": "code",
   "execution_count": 12,
   "metadata": {},
   "outputs": [],
   "source": [
    "sport = esportivos.split('\\n')"
   ]
  },
  {
   "cell_type": "code",
   "execution_count": 13,
   "metadata": {
    "jupyter": {
     "source_hidden": true
    }
   },
   "outputs": [],
   "source": [
    "ecologicos = '''Aparu do Jequiá\n",
    "Bosque da Barra da Tijuca\n",
    "Bosque da Freguesia\n",
    "Campo de Santana - Praça da República\n",
    "Cascatinha Taunay\n",
    "Ecomuseu do Quarteirão Cultural do Matadouro de Santa Cruz\n",
    "Fortaleza de São João\n",
    "Jardim Botânico\n",
    "Jardim Zoológico\n",
    "Lagoa da Tijuca\n",
    "Lagoa de Jacarepaguá\n",
    "Lagoa de Marapendi\n",
    "Lagoa Rodrigo de Freitas\n",
    "Maciço da Pedra Branca\n",
    "Maciço da Tijuca\n",
    "Maciço do Gericinó\n",
    "Morro do Leme\n",
    "Paineiras\n",
    "Parque do Flamengo\n",
    "Parque Eduardo Guinle\n",
    "Parque Henrique Lage\n",
    "Parque Nacional da Tijuca\n",
    "Parque Natural Municipal da Cidade\n",
    "Parque Natural Municipal de Marapendi\n",
    "Parque Natural Municipal Dois Irmãos (Arquiteto Sérgio Bernardes)\n",
    "Pedra Bonita\n",
    "Pedra da Gávea\n",
    "Sítio Roberto de Burle Marx'''"
   ]
  },
  {
   "cell_type": "code",
   "execution_count": 14,
   "metadata": {},
   "outputs": [],
   "source": [
    "eco = ecologicos.split('\\n')"
   ]
  },
  {
   "cell_type": "markdown",
   "metadata": {},
   "source": [
    "# Initial Data Collection: Neighborhoods"
   ]
  },
  {
   "cell_type": "code",
   "execution_count": 15,
   "metadata": {
    "jupyter": {
     "source_hidden": true
    }
   },
   "outputs": [],
   "source": [
    "a_g = '''Abolição\n",
    " Acari\n",
    " Água Santa\n",
    " Alto da Boa Vista\n",
    " Anchieta\n",
    " Andaraí\n",
    " Anil\n",
    " Bancários\n",
    " Bangu\n",
    " Barra da Tijuca\n",
    " Barra de Guaratiba\n",
    " Barros Filho\n",
    " Benfica\n",
    " Bento Ribeiro\n",
    " Bonsucesso\n",
    " Botafogo\n",
    " Brás de Pina\n",
    " Cachambi\n",
    " Cacuia\n",
    " Caju\n",
    " Camorim\n",
    " Campinho\n",
    " Campo dos Afonsos\n",
    " Campo Grande\n",
    " Cascadura\n",
    " Catete\n",
    " Catumbi\n",
    " Cavalcanti\n",
    " Centro\n",
    " Cidade de Deus\n",
    " Cidade Nova\n",
    " Cidade Universitária\n",
    " Cocotá\n",
    " Coelho Neto\n",
    " Colégio\n",
    " Complexo do Alemão\n",
    " Copacabana\n",
    " Cordovil\n",
    " Cosme Velho\n",
    " Cosmos\n",
    " Costa Barros\n",
    " Curicica\n",
    " Del Castilho\n",
    " Deodoro\n",
    " Encantado\n",
    " Engenheiro Leal\n",
    " Engenho da Rainha\n",
    " Engenho de Dentro\n",
    " Engenho Novo\n",
    " Estácio\n",
    " Flamengo\n",
    " Freguesia (Ilha do Governador)\n",
    " Freguesia (Jacarepaguá)\n",
    " Galeão\n",
    " Gamboa\n",
    " Gardênia Azul\n",
    " Gávea\n",
    " Gericinó\n",
    " Glória\n",
    " Grajaú\n",
    " Grumari\n",
    " Guadalupe\n",
    " Guaratiba'''"
   ]
  },
  {
   "cell_type": "code",
   "execution_count": 158,
   "metadata": {},
   "outputs": [],
   "source": [
    "bairros1 = a_g.split('\\n ')"
   ]
  },
  {
   "cell_type": "code",
   "execution_count": 159,
   "metadata": {
    "jupyter": {
     "source_hidden": true
    }
   },
   "outputs": [],
   "source": [
    "h_p = ''' Higienópolis\n",
    " Honório Gurgel\n",
    " Humaitá\n",
    " Imperial de São Cristóvão\n",
    " Inhaúma\n",
    " Inhoaíba\n",
    " Ipanema\n",
    " Irajá\n",
    " Itanhangá\n",
    " Jabour\n",
    " Jacaré\n",
    " Jacarepaguá\n",
    " Jacarezinho\n",
    " Jardim América\n",
    " Jardim Botânico\n",
    " Jardim Carioca\n",
    " Jardim Guanabara\n",
    " Jardim Sulacap\n",
    " Joá\n",
    " Lagoa\n",
    " Lapa\n",
    " Laranjeiras\n",
    " Leblon\n",
    " Leme\n",
    " Lins de Vasconcelos\n",
    " Madureira\n",
    " Magalhães Bastos\n",
    " Mangueira\n",
    " Manguinhos\n",
    " Maracanã\n",
    " Maré\n",
    " Marechal Hermes\n",
    " Maria da Graça\n",
    " Méier\n",
    " Moneró\n",
    " Olaria\n",
    " Oswaldo Cruz\n",
    " Paciência\n",
    " Padre Miguel\n",
    " Paquetá\n",
    " Parada de Lucas\n",
    " Parque Anchieta\n",
    " Parque Columbia\n",
    " Pavuna\n",
    " Pechincha\n",
    " Pedra de Guaratiba\n",
    " Penha\n",
    " Penha Circular\n",
    " Piedade\n",
    " Pilares\n",
    " Pitangueiras\n",
    " Portuguesa\n",
    " Praça da Bandeira\n",
    " Praça Seca\n",
    " Praia da Bandeira'''"
   ]
  },
  {
   "cell_type": "code",
   "execution_count": 160,
   "metadata": {},
   "outputs": [],
   "source": [
    "bairros2 = h_p.split('\\n ')"
   ]
  },
  {
   "cell_type": "code",
   "execution_count": 161,
   "metadata": {
    "jupyter": {
     "source_hidden": true
    }
   },
   "outputs": [],
   "source": [
    "q_z = '''Quintino Bocaiúva\n",
    " Ramos\n",
    " Realengo\n",
    " Recreio dos Bandeirantes\n",
    " Riachuelo\n",
    " Ribeira\n",
    " Ricardo de Albuquerque\n",
    " Rio Comprido\n",
    " Rocha\n",
    " Rocha Miranda\n",
    " Rocinha\n",
    " Sampaio\n",
    " Santa Cruz\n",
    " Santa Teresa\n",
    " Santíssimo\n",
    " Santo Cristo\n",
    " São Conrado\n",
    " São Francisco Xavier\n",
    " Saúde\n",
    " Senador Camará\n",
    " Senador Vasconcelos\n",
    " Sepetiba\n",
    " Tanque\n",
    " Taquara\n",
    " Tauá\n",
    " Tijuca\n",
    " Todos os Santos\n",
    " Tomás Coelho\n",
    " Turiaçu\n",
    " Urca\n",
    " Vargem Grande\n",
    " Vargem Pequena\n",
    " Vasco da Gama\n",
    " Vaz Lobo\n",
    " Vicente de Carvalho\n",
    " Vidigal\n",
    " Vigário Geral\n",
    " Vila Cosmos\n",
    " Vila da Penha\n",
    " Vila Isabel\n",
    " Vila Kennedy\n",
    " Vila Militar\n",
    " Vila Valqueire\n",
    " Vista Alegre\n",
    " Zumbi'''"
   ]
  },
  {
   "cell_type": "code",
   "execution_count": 162,
   "metadata": {},
   "outputs": [],
   "source": [
    "bairros3 = q_z.split('\\n ')"
   ]
  },
  {
   "cell_type": "code",
   "execution_count": 163,
   "metadata": {},
   "outputs": [],
   "source": [
    "bairros = bairros1+bairros2+bairros3"
   ]
  },
  {
   "cell_type": "code",
   "execution_count": 164,
   "metadata": {
    "jupyter": {
     "source_hidden": true
    }
   },
   "outputs": [],
   "source": [
    "raw_beaches = ''' \\nRamos (1999 ):\t\n",
    "0,70\n",
    "Km\n",
    " \n",
    "Galeão (1999 ):\t\n",
    "1,00\n",
    "Km\n",
    " \n",
    "Bica (1999 ):\t\n",
    "3,00\n",
    "Km\n",
    " \n",
    "Guanabara (1999 ):\t\n",
    "1,60\n",
    "Km\n",
    " \n",
    "Bananal (1999 ):\t\n",
    "0,30\n",
    "Km\n",
    " \n",
    "Engenhoca (1999 ):\t\n",
    "0,40\n",
    "Km\n",
    " \n",
    "Gaegos (1999 ):\t\n",
    "1,30\n",
    "Km\n",
    " \n",
    "Pelônias (1999 ):\t\n",
    "0,70\n",
    "Km\n",
    " \n",
    "Bandeira (1999 ):\t\n",
    "0,90\n",
    "Km\n",
    " \n",
    "Dendê (1999 ):\t\n",
    "1,00\n",
    "Km\n",
    " \n",
    "Engenho Velho (1999 ):\t\n",
    "0,90\n",
    "Km\n",
    " \n",
    "Rosa (1999 ):\t\n",
    "1,40\n",
    "Km\n",
    " \n",
    "Tubiacanga (1999 ):\t\n",
    "3,90\n",
    "Km\n",
    " \n",
    "Cocotá (1999 ):\t\n",
    "0,50\n",
    "Km\n",
    " \n",
    "Alentejo (1999 ):\t\n",
    "0,60\n",
    "Km\n",
    " \n",
    "Brava (1999 ):\t\n",
    "0,50\n",
    "Km\n",
    " \n",
    "Amendoeira (1999 ):\t\n",
    "ND\n",
    "Km\n",
    " \n",
    "Itacolomi (1999 ):\t\n",
    "ND\n",
    "Km\n",
    " \n",
    "Golfinho (1999 ):\t\n",
    "0,90\n",
    "Km\n",
    " \n",
    "Jequiá (1999 ):\t\n",
    "0,50\n",
    "Km\n",
    " \n",
    "Intendente Bittencourt (1999 ):\t\n",
    "0,40\n",
    "Km\n",
    " \n",
    "Ribeira (1999 ):\t\n",
    "0,70\n",
    "Km\n",
    " \n",
    "Congonhas do Campo (1999 ):\t\n",
    "0,50\n",
    "Km\n",
    " \n",
    "Moça (1999 ):\t\n",
    "0,50\n",
    "Km\n",
    " \n",
    "Grande (1999 ):\t\n",
    "0,40\n",
    "Km\n",
    " \n",
    "Saco do Pinhão (1999 ):\t\n",
    "0,70\n",
    "Km\n",
    " \n",
    "São Bento (1999 ):\t\n",
    "1,00\n",
    "Km\n",
    " \n",
    "Olaria (1999 ):\t\n",
    "0,40\n",
    "Km\n",
    " \n",
    "Zumbi (1999 ):\t\n",
    "0,50\n",
    "Km\n",
    " \n",
    "Pitangueiras (1999 ):\t\n",
    "0,90\n",
    "Km\n",
    " \n",
    "Lameirão (1999 ):\t\n",
    "0,40\n",
    "Km\n",
    " \n",
    "Catimbau (1999 ):\t\n",
    "0,50\n",
    "Km\n",
    " \n",
    "Pintor Castanheto (1999 ):\t\n",
    "0,40\n",
    "Km\n",
    " \n",
    "São Roque (1999 ):\t\n",
    "0,30\n",
    "Km\n",
    " \n",
    "Moreninha (1999 ):\t\n",
    "0,30\n",
    "Km\n",
    " \n",
    "Dr. Aristão (1999 ):\t\n",
    "0,20\n",
    "Km\n",
    " \n",
    "José Bonifácio (1999 ):\t\n",
    "0,50\n",
    "Km\n",
    " \n",
    "Manoel Luiz (1999 ):\t\n",
    "0,30\n",
    "Km\n",
    " \n",
    "Imbuca (1999 ):\t\n",
    "0,30\n",
    "Km\n",
    " \n",
    "Gaivotas (1999 ):\t\n",
    "0,70\n",
    "Km\n",
    " \n",
    "Grossa (1999 ):\t\n",
    "0,30\n",
    "Km\n",
    " \n",
    "Tamoios (1999 ):\t\n",
    "0,90\n",
    "Km\n",
    " \n",
    "Buraco (1999 ):\t\n",
    "0,60\n",
    "Km\n",
    " \n",
    "Veloso (1999 ):\t\n",
    "0,30\n",
    "Km\n",
    " \n",
    "Flamengo (1999 ):\t\n",
    "1,70\n",
    "Km\n",
    " \n",
    "Botafogo (1999 ):\t\n",
    "0,70\n",
    "Km\n",
    " \n",
    "Fortaleza de São João (1999 ):\t\n",
    "0,30\n",
    "Km\n",
    " \n",
    "Urca (1999 ):\t\n",
    "0,20\n",
    "Km\n",
    " \n",
    "Vermelha (1999 ):\t\n",
    "0,20\n",
    "Km\n",
    " \n",
    "\n",
    "Cardo (1999 ):\t\n",
    "2,10\n",
    "Km\n",
    " \n",
    "Dona Luiza ou Recôncavo (1999 ):\t\n",
    "1,10\n",
    "Km\n",
    " \n",
    "Sepetiba (1999 ):\t\n",
    "2,60\n",
    "Km\n",
    " \n",
    "Aterro (1999 ):\t\n",
    "2,10\n",
    "Km\n",
    " \n",
    "Pedra de Guaratiba (1999 ):\t\n",
    "1,10\n",
    "Km\n",
    " \n",
    "Venda Grande (1999 ):\t\n",
    "0,40\n",
    "Km\n",
    " \n",
    "Capela (1999 ):\t\n",
    "0,30\n",
    "Km\n",
    " \n",
    "\n",
    "Barra de Guaratiba/Canto (1999 ):\t\n",
    "0,60\n",
    "Km\n",
    " \n",
    "Marambaia (1999 ):\t\n",
    "ND\n",
    "Km\n",
    " \n",
    "Canto (1999 ):\t\n",
    "ND\n",
    "Km\n",
    " \n",
    "Búzios (1999 ):\t\n",
    "ND\n",
    "Km\n",
    " \n",
    "Fora (1999 ):\t\n",
    "0,40\n",
    "Km\n",
    " \n",
    "Leme (1999 ):\t\n",
    "1,00\n",
    "Km\n",
    " \n",
    "Copacabana (1999 ):\t\n",
    "3,20\n",
    "Km\n",
    " \n",
    "Diabo (1999 ):\t\n",
    "0,50\n",
    "Km\n",
    " \n",
    "Arpoador (1999 ):\t\n",
    "0,80\n",
    "Km\n",
    " \n",
    "Ipanema (1999 ):\t\n",
    "2,00\n",
    "Km\n",
    " \n",
    "Leblon (1999 ):\t\n",
    "1,30\n",
    "Km\n",
    " \n",
    "Gávea ou Pepino (1999 ):\t\n",
    "2,90\n",
    "Km\n",
    " \n",
    "Vidigal (1999 ):\t\n",
    "0,50\n",
    "Km\n",
    " \n",
    "Amores (1999 ):\t\n",
    "0,40\n",
    "Km\n",
    " \n",
    "Grumari/Abricó (1999 ):\t\n",
    "2,80\n",
    "Km\n",
    " \n",
    "Pequena/Do Meio (1999 ):\t\n",
    "1,00\n",
    "Km\n",
    " \n",
    "Funda/Inferno (1999 ):\t\n",
    "1,10\n",
    "Km\n",
    " \n",
    "Pontal/Macumba (1999 ):\t\n",
    "2,60\n",
    "Km\n",
    " \n",
    "Bandeirantes/Barra da Tijuca (1999 ):\t\n",
    "12,10\n",
    "Km\n",
    " \n",
    "Joatinga (1999 ):\t\n",
    "0,50\n",
    "Km\n",
    " \n",
    "Prainha (1999 ):\t\n",
    "0,70\n",
    "Km\n",
    " \n",
    "Meio (1999 ):\t\n",
    "ND\n",
    "Km\n",
    " \n",
    "Perigoso (1999 ):\t\n",
    "ND\n",
    "Km'''"
   ]
  },
  {
   "cell_type": "markdown",
   "metadata": {},
   "source": [
    "# Initial Data Collection: Beaches"
   ]
  },
  {
   "cell_type": "markdown",
   "metadata": {},
   "source": [
    "## Processing Text from \"Armazeninho - Rio Prefeitura\" to Get Beaches and Lengths"
   ]
  },
  {
   "cell_type": "code",
   "execution_count": 1179,
   "metadata": {},
   "outputs": [],
   "source": [
    "import re"
   ]
  },
  {
   "cell_type": "code",
   "execution_count": 1180,
   "metadata": {},
   "outputs": [],
   "source": [
    "praias = re.findall(\"(.+) \\(\\d\\d\\d\\d\\ \" , raw_beaches)"
   ]
  },
  {
   "cell_type": "code",
   "execution_count": 1181,
   "metadata": {},
   "outputs": [],
   "source": [
    "praias_ext = re.findall(':\\t\\n(.*)\\nKm' , raw_beaches)\n",
    "praias_ext = [float(i.replace(',','.')) if i!='ND' else np.nan for i in praias_ext]"
   ]
  },
  {
   "cell_type": "code",
   "execution_count": 1182,
   "metadata": {},
   "outputs": [
    {
     "data": {
      "text/plain": [
       "(79, 79)"
      ]
     },
     "execution_count": 1182,
     "metadata": {},
     "output_type": "execute_result"
    }
   ],
   "source": [
    "len(praias_ext), len(praias)"
   ]
  },
  {
   "cell_type": "code",
   "execution_count": 1183,
   "metadata": {},
   "outputs": [],
   "source": [
    "praias_df = pd.DataFrame({'beach':praias, 'length':praias_ext})"
   ]
  },
  {
   "cell_type": "code",
   "execution_count": 1195,
   "metadata": {},
   "outputs": [],
   "source": [
    "#praias_df.to_csv('\\\\Users\\luisr\\Desktop\\Repository\\IBM_courses\\Course Work\\Assignments\\\\rio dataframes\\\\Initial Data\\\\praias_armazeninho_raw.csv')"
   ]
  },
  {
   "cell_type": "markdown",
   "metadata": {},
   "source": [
    "## Scraping Table from Wikipedia Web Page for More Beaches and lenghts"
   ]
  },
  {
   "cell_type": "code",
   "execution_count": 1188,
   "metadata": {},
   "outputs": [],
   "source": [
    "import urllib.request\n",
    "from bs4 import BeautifulSoup as bs"
   ]
  },
  {
   "cell_type": "code",
   "execution_count": 1189,
   "metadata": {},
   "outputs": [],
   "source": [
    "url = 'https://pt.wikipedia.org/wiki/Lista_de_praias_da_cidade_do_Rio_de_Janeiro'\n",
    "rqst_obj = urllib.request.urlopen(url)\n",
    "soup_obj = bs(rqst_obj)"
   ]
  },
  {
   "cell_type": "code",
   "execution_count": 1190,
   "metadata": {},
   "outputs": [
    {
     "data": {
      "text/plain": [
       "'1\\n\\n\\nTamoios\\n\\n0,48\\n\\n\\nVeloso\\n\\n0,15\\n\\nZona Norte[editar | editar código-fonte]\\n\\n\\nBairro\\n\\nNome\\n\\nExtensão (km)\\n\\n\\nBancários\\n\\nBancários\\n\\n0,18\\n\\n\\nCongonhas do Campo / Barão\\n\\n0,29\\n\\n\\nCacuia\\n\\nAlentejo\\n\\n0,40\\n\\n\\nBrav'"
      ]
     },
     "execution_count": 1190,
     "metadata": {},
     "output_type": "execute_result"
    }
   ],
   "source": [
    "soup_obj.text[1000:1200]"
   ]
  },
  {
   "cell_type": "code",
   "execution_count": 1191,
   "metadata": {},
   "outputs": [],
   "source": [
    "wiki = []\n",
    "for i in range(4):\n",
    "    \n",
    "    for trs in soup_obj.find_all('table')[i].find_all('tr'):\n",
    "        \n",
    "        tds = trs.find_all('td')\n",
    "               \n",
    "        if tds!=[]:\n",
    "            if len(tds)==3: \n",
    "                \n",
    "                hood = tds[0].text.replace('\\n', '')\n",
    "                td1 = tds[1].text.replace('\\n', '')\n",
    "                td2=tds[2].text.replace('\\n', '')                \n",
    "                \n",
    "                wiki.append([hood, td1, td2])\n",
    "                \n",
    "            else: \n",
    "                \n",
    "                td0 = tds[0].text.replace('\\n', '')\n",
    "                td1=tds[1].text.replace('\\n', '')  \n",
    "                \n",
    "                wiki.append([hood, td0, td1])\n",
    "            "
   ]
  },
  {
   "cell_type": "code",
   "execution_count": 1192,
   "metadata": {},
   "outputs": [],
   "source": [
    "wiki_beach = pd.DataFrame(wiki, columns=['neighborhood', 'beach', 'extension Km'])"
   ]
  },
  {
   "cell_type": "code",
   "execution_count": 1193,
   "metadata": {},
   "outputs": [
    {
     "data": {
      "text/html": [
       "<div>\n",
       "<style scoped>\n",
       "    .dataframe tbody tr th:only-of-type {\n",
       "        vertical-align: middle;\n",
       "    }\n",
       "\n",
       "    .dataframe tbody tr th {\n",
       "        vertical-align: top;\n",
       "    }\n",
       "\n",
       "    .dataframe thead th {\n",
       "        text-align: right;\n",
       "    }\n",
       "</style>\n",
       "<table border=\"1\" class=\"dataframe\">\n",
       "  <thead>\n",
       "    <tr style=\"text-align: right;\">\n",
       "      <th></th>\n",
       "      <th>neighborhood</th>\n",
       "      <th>beach</th>\n",
       "      <th>extension Km</th>\n",
       "    </tr>\n",
       "  </thead>\n",
       "  <tbody>\n",
       "    <tr>\n",
       "      <th>0</th>\n",
       "      <td>Paquetá</td>\n",
       "      <td>Batata</td>\n",
       "      <td>0,10</td>\n",
       "    </tr>\n",
       "    <tr>\n",
       "      <th>1</th>\n",
       "      <td>Paquetá</td>\n",
       "      <td>Buraco</td>\n",
       "      <td>0,06</td>\n",
       "    </tr>\n",
       "    <tr>\n",
       "      <th>2</th>\n",
       "      <td>Paquetá</td>\n",
       "      <td>Catimbau</td>\n",
       "      <td>0,31</td>\n",
       "    </tr>\n",
       "  </tbody>\n",
       "</table>\n",
       "</div>"
      ],
      "text/plain": [
       "  neighborhood     beach extension Km\n",
       "0      Paquetá    Batata         0,10\n",
       "1      Paquetá    Buraco         0,06\n",
       "2      Paquetá  Catimbau         0,31"
      ]
     },
     "execution_count": 1193,
     "metadata": {},
     "output_type": "execute_result"
    }
   ],
   "source": [
    "wiki_beach.head(3)"
   ]
  },
  {
   "cell_type": "markdown",
   "metadata": {},
   "source": [
    "#### Saving wiki beach results"
   ]
  },
  {
   "cell_type": "code",
   "execution_count": 1194,
   "metadata": {},
   "outputs": [],
   "source": [
    "#wiki_beach.to_csv('\\\\Users\\luisr\\Desktop\\Repository\\IBM_courses\\Course Work\\Assignments\\\\rio dataframes\\\\Initial Data\\\\praias_wikipedia_raw.csv')"
   ]
  },
  {
   "cell_type": "markdown",
   "metadata": {},
   "source": [
    "## Evaluating Beaches Results: Armazeninho"
   ]
  },
  {
   "cell_type": "code",
   "execution_count": 606,
   "metadata": {},
   "outputs": [
    {
     "data": {
      "text/plain": [
       "11"
      ]
     },
     "execution_count": 606,
     "metadata": {},
     "output_type": "execute_result"
    }
   ],
   "source": [
    "len(error2)"
   ]
  },
  {
   "cell_type": "code",
   "execution_count": null,
   "metadata": {},
   "outputs": [],
   "source": [
    "praias_coords = frame_coords(pd.Series(praias)+', RJ')"
   ]
  },
  {
   "cell_type": "code",
   "execution_count": 604,
   "metadata": {},
   "outputs": [],
   "source": [
    "error2 = ['Gaegos, RJ', 'Pelônias, RJ', 'Intendente Bittencourt, RJ', 'Saco do Pinhão, RJ', 'Pintor Castanheto, RJ', 'Dona Luiza ou Recôncavo, RJ', 'Barra de Guaratiba/Canto, RJ', 'Gávea ou Pepino, RJ', 'Grumari/Abricó, RJ', 'Pequena/Do Meio, RJ', 'Funda/Inferno, RJ']"
   ]
  },
  {
   "cell_type": "code",
   "execution_count": null,
   "metadata": {},
   "outputs": [],
   "source": [
    "plot_map(praias_coords.loc[:])"
   ]
  },
  {
   "cell_type": "markdown",
   "metadata": {},
   "source": [
    "## Evaluating Beaches Result: Wikipedia"
   ]
  },
  {
   "cell_type": "markdown",
   "metadata": {},
   "source": [
    "### First Try:"
   ]
  },
  {
   "cell_type": "code",
   "execution_count": 629,
   "metadata": {},
   "outputs": [],
   "source": [
    "queries = wiki_beach['neighborhood']+', '+wiki_beach['beach']"
   ]
  },
  {
   "cell_type": "code",
   "execution_count": null,
   "metadata": {},
   "outputs": [],
   "source": [
    "wiki_coords = frame_coords(queries, 'beach')"
   ]
  },
  {
   "cell_type": "code",
   "execution_count": null,
   "metadata": {},
   "outputs": [],
   "source": [
    "plot_map(wiki_coords)"
   ]
  },
  {
   "cell_type": "code",
   "execution_count": 1200,
   "metadata": {},
   "outputs": [
    {
     "data": {
      "text/plain": [
       "65"
      ]
     },
     "execution_count": 1200,
     "metadata": {},
     "output_type": "execute_result"
    }
   ],
   "source": [
    "len(wiki_coords)"
   ]
  },
  {
   "cell_type": "markdown",
   "metadata": {},
   "source": [
    "#### Saving"
   ]
  },
  {
   "cell_type": "code",
   "execution_count": 1201,
   "metadata": {},
   "outputs": [],
   "source": [
    "wiki_coords.to_csv('\\\\Users\\luisr\\Desktop\\Repository\\IBM_courses\\Course Work\\Assignments\\\\rio dataframes\\\\Initial Data\\\\praias\\\\wiki_coords_bairro+praia.csv')"
   ]
  },
  {
   "cell_type": "markdown",
   "metadata": {},
   "source": [
    "### Second Try:"
   ]
  },
  {
   "cell_type": "code",
   "execution_count": 631,
   "metadata": {},
   "outputs": [],
   "source": [
    "fail = ['Paquetá, Coqueiro', 'Paquetá, Coqueiros / Pintor Castagneto', 'Paquetá, Frades / Manoel Luiz', 'Paquetá, Gaivotas / Ribeira', 'Paquetá, Lameirão / Freire Júnior', 'Paquetá, Moreninha / Comprida / Dr. Aristão', 'Paquetá, Veloso', 'Bancários, Congonhas do Campo / Barão', 'Cacuia, Alentejo', 'Cacuia, Brava', 'Cacuia, Golfinho', 'Cidade Universitária, Amendoeira', 'Cidade Universitária, Duas Irmãs', 'Cidade Universitária, Polvo', 'Cidade Universitária, Varanda', 'Cidade Universitária, Velho Navio', 'Freguesia, Flamboyants', 'Freguesia, Guanabara / Freguesia', 'Freguesia, Pelônias', 'Freguesia, Saco do Pinhão', 'Galeão, Gaegos', 'Jardim Guanabara, Engenho Velho / Quebra-Coco', 'Ramos/Maré, Ramos', 'Barra da Tijuca, Barra da Tijuca', 'Barra de Guaratiba, Barra de Guaratiba', 'Barra de Guaratiba, Canto', 'Guaratiba, Brisa / Aterro', 'Grumari, Perigoso', 'Pedra de Guaratiba, Capela', 'Pedra de Guaratiba, Venda Grande', 'Sepetiba, Recôncavo / Dona Luiza', 'Copacabana, Prainha do Forte de Copacabana', 'Leme, Anel']"
   ]
  },
  {
   "cell_type": "code",
   "execution_count": 638,
   "metadata": {},
   "outputs": [],
   "source": [
    "com_barra = [i for i in fail if '/' in i]\n",
    "sem_barra = [i for i in fail if '/' not in i]"
   ]
  },
  {
   "cell_type": "code",
   "execution_count": 643,
   "metadata": {},
   "outputs": [
    {
     "name": "stdout",
     "output_type": "stream",
     "text": [
      "Appended: 1 Attempts: 1\n",
      "Fail: Bancários, Congonhas do Campo\n",
      "Fail: Jardim Guanabara, Engenho Velho\n",
      "Fail: Ramos/Maré, Ramos\n",
      "Appended: 6 Attempts: 9\n",
      "Fail List:  ['Bancários, Congonhas do Campo', 'Jardim Guanabara, Engenho Velho', 'Ramos/Maré, Ramos']\n",
      "Completed\n"
     ]
    }
   ],
   "source": [
    "com_barra1 = frame_coords([i.split(' / ')[0] for i in com_barra])"
   ]
  },
  {
   "cell_type": "code",
   "execution_count": 645,
   "metadata": {},
   "outputs": [
    {
     "data": {
      "text/html": [
       "<div>\n",
       "<style scoped>\n",
       "    .dataframe tbody tr th:only-of-type {\n",
       "        vertical-align: middle;\n",
       "    }\n",
       "\n",
       "    .dataframe tbody tr th {\n",
       "        vertical-align: top;\n",
       "    }\n",
       "\n",
       "    .dataframe thead th {\n",
       "        text-align: right;\n",
       "    }\n",
       "</style>\n",
       "<table border=\"1\" class=\"dataframe\">\n",
       "  <thead>\n",
       "    <tr style=\"text-align: right;\">\n",
       "      <th></th>\n",
       "      <th>venue</th>\n",
       "      <th>lat</th>\n",
       "      <th>lng</th>\n",
       "    </tr>\n",
       "  </thead>\n",
       "  <tbody>\n",
       "    <tr>\n",
       "      <th>0</th>\n",
       "      <td>Paquetá, Coqueiros</td>\n",
       "      <td>-22.750639</td>\n",
       "      <td>-43.108726</td>\n",
       "    </tr>\n",
       "    <tr>\n",
       "      <th>1</th>\n",
       "      <td>Paquetá, Frades</td>\n",
       "      <td>-22.768755</td>\n",
       "      <td>-43.111756</td>\n",
       "    </tr>\n",
       "    <tr>\n",
       "      <th>2</th>\n",
       "      <td>Paquetá, Gaivotas</td>\n",
       "      <td>-22.766299</td>\n",
       "      <td>-43.104835</td>\n",
       "    </tr>\n",
       "    <tr>\n",
       "      <th>3</th>\n",
       "      <td>Paquetá, Lameirão</td>\n",
       "      <td>-22.749521</td>\n",
       "      <td>-43.108329</td>\n",
       "    </tr>\n",
       "    <tr>\n",
       "      <th>4</th>\n",
       "      <td>Paquetá, Moreninha</td>\n",
       "      <td>-22.754987</td>\n",
       "      <td>-43.111317</td>\n",
       "    </tr>\n",
       "    <tr>\n",
       "      <th>6</th>\n",
       "      <td>Guaratiba, Brisa</td>\n",
       "      <td>-22.984877</td>\n",
       "      <td>-43.666022</td>\n",
       "    </tr>\n",
       "    <tr>\n",
       "      <th>7</th>\n",
       "      <td>Sepetiba, Recôncavo</td>\n",
       "      <td>-22.986396</td>\n",
       "      <td>-43.692978</td>\n",
       "    </tr>\n",
       "  </tbody>\n",
       "</table>\n",
       "</div>"
      ],
      "text/plain": [
       "                 venue        lat        lng\n",
       "0   Paquetá, Coqueiros -22.750639 -43.108726\n",
       "1      Paquetá, Frades -22.768755 -43.111756\n",
       "2    Paquetá, Gaivotas -22.766299 -43.104835\n",
       "3    Paquetá, Lameirão -22.749521 -43.108329\n",
       "4   Paquetá, Moreninha -22.754987 -43.111317\n",
       "6     Guaratiba, Brisa -22.984877 -43.666022\n",
       "7  Sepetiba, Recôncavo -22.986396 -43.692978"
      ]
     },
     "execution_count": 645,
     "metadata": {},
     "output_type": "execute_result"
    }
   ],
   "source": [
    "com_barra1.drop(5, axis=0)"
   ]
  },
  {
   "cell_type": "code",
   "execution_count": null,
   "metadata": {},
   "outputs": [],
   "source": [
    "plot_map()"
   ]
  },
  {
   "cell_type": "markdown",
   "metadata": {},
   "source": [
    "## Evaluating Wiki Beach Results"
   ]
  },
  {
   "cell_type": "code",
   "execution_count": 1197,
   "metadata": {},
   "outputs": [
    {
     "data": {
      "text/html": [
       "<div>\n",
       "<style scoped>\n",
       "    .dataframe tbody tr th:only-of-type {\n",
       "        vertical-align: middle;\n",
       "    }\n",
       "\n",
       "    .dataframe tbody tr th {\n",
       "        vertical-align: top;\n",
       "    }\n",
       "\n",
       "    .dataframe thead th {\n",
       "        text-align: right;\n",
       "    }\n",
       "</style>\n",
       "<table border=\"1\" class=\"dataframe\">\n",
       "  <thead>\n",
       "    <tr style=\"text-align: right;\">\n",
       "      <th></th>\n",
       "      <th>neighborhood</th>\n",
       "      <th>beach</th>\n",
       "      <th>extension Km</th>\n",
       "    </tr>\n",
       "  </thead>\n",
       "  <tbody>\n",
       "    <tr>\n",
       "      <th>0</th>\n",
       "      <td>Paquetá</td>\n",
       "      <td>Batata</td>\n",
       "      <td>0,10</td>\n",
       "    </tr>\n",
       "    <tr>\n",
       "      <th>1</th>\n",
       "      <td>Paquetá</td>\n",
       "      <td>Buraco</td>\n",
       "      <td>0,06</td>\n",
       "    </tr>\n",
       "    <tr>\n",
       "      <th>2</th>\n",
       "      <td>Paquetá</td>\n",
       "      <td>Catimbau</td>\n",
       "      <td>0,31</td>\n",
       "    </tr>\n",
       "    <tr>\n",
       "      <th>3</th>\n",
       "      <td>Paquetá</td>\n",
       "      <td>Cidade</td>\n",
       "      <td>0,09</td>\n",
       "    </tr>\n",
       "    <tr>\n",
       "      <th>4</th>\n",
       "      <td>Paquetá</td>\n",
       "      <td>Coqueiro</td>\n",
       "      <td>0,05</td>\n",
       "    </tr>\n",
       "    <tr>\n",
       "      <th>...</th>\n",
       "      <td>...</td>\n",
       "      <td>...</td>\n",
       "      <td>...</td>\n",
       "    </tr>\n",
       "    <tr>\n",
       "      <th>93</th>\n",
       "      <td>Urca</td>\n",
       "      <td>Dentro</td>\n",
       "      <td>0,12</td>\n",
       "    </tr>\n",
       "    <tr>\n",
       "      <th>94</th>\n",
       "      <td>Urca</td>\n",
       "      <td>Fora</td>\n",
       "      <td>0,43</td>\n",
       "    </tr>\n",
       "    <tr>\n",
       "      <th>95</th>\n",
       "      <td>Urca</td>\n",
       "      <td>Vermelha</td>\n",
       "      <td>0,25</td>\n",
       "    </tr>\n",
       "    <tr>\n",
       "      <th>96</th>\n",
       "      <td>Urca</td>\n",
       "      <td>Urca</td>\n",
       "      <td>0,11</td>\n",
       "    </tr>\n",
       "    <tr>\n",
       "      <th>97</th>\n",
       "      <td>Vidigal</td>\n",
       "      <td>Vidigal</td>\n",
       "      <td>0,4</td>\n",
       "    </tr>\n",
       "  </tbody>\n",
       "</table>\n",
       "<p>98 rows × 3 columns</p>\n",
       "</div>"
      ],
      "text/plain": [
       "   neighborhood     beach extension Km\n",
       "0       Paquetá    Batata         0,10\n",
       "1       Paquetá    Buraco         0,06\n",
       "2       Paquetá  Catimbau         0,31\n",
       "3       Paquetá    Cidade         0,09\n",
       "4       Paquetá  Coqueiro         0,05\n",
       "..          ...       ...          ...\n",
       "93         Urca    Dentro         0,12\n",
       "94         Urca      Fora         0,43\n",
       "95         Urca  Vermelha         0,25\n",
       "96         Urca      Urca         0,11\n",
       "97      Vidigal   Vidigal          0,4\n",
       "\n",
       "[98 rows x 3 columns]"
      ]
     },
     "execution_count": 1197,
     "metadata": {},
     "output_type": "execute_result"
    }
   ],
   "source": [
    "wiki_beach"
   ]
  },
  {
   "cell_type": "markdown",
   "metadata": {},
   "source": [
    "## Getting Beaches Using Foursquare API"
   ]
  },
  {
   "cell_type": "markdown",
   "metadata": {},
   "source": [
    "### Preparing Coordinates for API Searches"
   ]
  },
  {
   "cell_type": "code",
   "execution_count": 707,
   "metadata": {},
   "outputs": [
    {
     "data": {
      "text/plain": [
       "(-22.9719642, -43.1843432)"
      ]
     },
     "execution_count": 707,
     "metadata": {},
     "output_type": "execute_result"
    }
   ],
   "source": [
    "lat1, lat2"
   ]
  },
  {
   "cell_type": "code",
   "execution_count": 1089,
   "metadata": {},
   "outputs": [],
   "source": [
    "rows = []\n",
    "for i in range(0, 7):\n",
    "    rows.append(['center', lat1-0.077+0.01*i, lng1-0.4+0.06*i])\n",
    "search_coords1 = pd.DataFrame(rows, columns=['venue', 'lat', 'lng'])"
   ]
  },
  {
   "cell_type": "code",
   "execution_count": 1070,
   "metadata": {},
   "outputs": [],
   "source": [
    "rows = []\n",
    "for i in range(0, 5):\n",
    "    rows.append(['center', lat1+0.01+0.05*i, lng1+0.02-0.029*i])\n",
    "search_coords2 = pd.DataFrame(rows, columns=['venue', 'lat', 'lng'])"
   ]
  },
  {
   "cell_type": "code",
   "execution_count": 1044,
   "metadata": {},
   "outputs": [],
   "source": [
    "rows = []\n",
    "for i in range(0, 2):\n",
    "    rows.append(['center', lat1+0.175+0.04*i, lng1+0.01+0.07*i])\n",
    "search_coords3 = pd.DataFrame(rows, columns=['venue', 'lat', 'lng'])"
   ]
  },
  {
   "cell_type": "code",
   "execution_count": 1045,
   "metadata": {},
   "outputs": [],
   "source": [
    "rows = []\n",
    "for i in range(0, 1):\n",
    "    rows.append(['center', lat1+0.24+0.04*i, lng1-0.025+0.07*i])\n",
    "search_coords4 = pd.DataFrame(rows, columns=['venue', 'lat', 'lng'])"
   ]
  },
  {
   "cell_type": "code",
   "execution_count": 1046,
   "metadata": {},
   "outputs": [],
   "source": [
    "rows = []\n",
    "for i in range(0, 4):\n",
    "    rows.append(['center', lat1-0.04+0.033*i, lng1-0.44-0.06*i])\n",
    "search_coords5 = pd.DataFrame(rows, columns=['venue', 'lat', 'lng'])"
   ]
  },
  {
   "cell_type": "code",
   "execution_count": 1090,
   "metadata": {},
   "outputs": [],
   "source": [
    "search_coords_tst = pd.concat([search_coords1, search_coords2, search_coords3, search_coords4, search_coords5], axis=0)"
   ]
  },
  {
   "cell_type": "code",
   "execution_count": 1,
   "metadata": {},
   "outputs": [
    {
     "ename": "NameError",
     "evalue": "name 'plot_map' is not defined",
     "output_type": "error",
     "traceback": [
      "\u001b[1;31m---------------------------------------------------------------------------\u001b[0m",
      "\u001b[1;31mNameError\u001b[0m                                 Traceback (most recent call last)",
      "\u001b[1;32m<ipython-input-1-0019b35dfd7e>\u001b[0m in \u001b[0;36m<module>\u001b[1;34m\u001b[0m\n\u001b[1;32m----> 1\u001b[1;33m \u001b[0mplot_map\u001b[0m\u001b[1;33m(\u001b[0m\u001b[0msearch_coords_tst\u001b[0m\u001b[1;33m)\u001b[0m\u001b[1;33m\u001b[0m\u001b[1;33m\u001b[0m\u001b[0m\n\u001b[0m",
      "\u001b[1;31mNameError\u001b[0m: name 'plot_map' is not defined"
     ]
    }
   ],
   "source": [
    "plot_map(search_coords_tst)"
   ]
  },
  {
   "cell_type": "markdown",
   "metadata": {},
   "source": [
    "### Testing Coordinates for Search"
   ]
  },
  {
   "cell_type": "code",
   "execution_count": 1092,
   "metadata": {},
   "outputs": [],
   "source": [
    "search_coords_plt = search_coords_tst.copy()"
   ]
  },
  {
   "cell_type": "code",
   "execution_count": 1100,
   "metadata": {},
   "outputs": [],
   "source": [
    "search_coords_plt['radius'] = [4900. for i in range(len(search_coords_plt))]"
   ]
  },
  {
   "cell_type": "code",
   "execution_count": null,
   "metadata": {},
   "outputs": [],
   "source": [
    "plot_search_map(search_coords_plt, zoom=10)"
   ]
  },
  {
   "cell_type": "code",
   "execution_count": 1102,
   "metadata": {},
   "outputs": [],
   "source": [
    "search_coords = search_coords_tst"
   ]
  },
  {
   "cell_type": "markdown",
   "metadata": {},
   "source": [
    "### Saving Artificial Coordinates"
   ]
  },
  {
   "cell_type": "code",
   "execution_count": 1103,
   "metadata": {},
   "outputs": [],
   "source": [
    "#search_coords.to_csv('\\\\Users\\luisr\\Desktop\\Repository\\IBM_courses\\Course Work\\Assignments\\\\rio dataframes\\\\Initial Data\\\\litoral_coords.csv')"
   ]
  },
  {
   "cell_type": "markdown",
   "metadata": {},
   "source": [
    "### Loading Artificial Coordinates"
   ]
  },
  {
   "cell_type": "code",
   "execution_count": null,
   "metadata": {},
   "outputs": [],
   "source": [
    "search_coords = pd.read_csv('\\\\Users\\luisr\\Desktop\\Repository\\IBM_courses\\Course Work\\Assignments\\\\rio dataframes\\\\Initial Data\\\\litoral_coords.csv').drop('Unnamed: 0', axis=1)"
   ]
  },
  {
   "cell_type": "markdown",
   "metadata": {},
   "source": [
    "## Searching Beaches Using Foursquare API"
   ]
  },
  {
   "cell_type": "code",
   "execution_count": 1022,
   "metadata": {},
   "outputs": [],
   "source": [
    "beach_id = '4bf58dd8d48988d1e2941735'"
   ]
  },
  {
   "cell_type": "code",
   "execution_count": null,
   "metadata": {},
   "outputs": [],
   "source": [
    "rqst_txt = urllib.request.urlopen(foursquare_url(ctgr_search=True, ctgr_id=beach_id, radius=20000, lat=search_coords.lat[0], lng=search_coords.lng[0])).read().decode()[:]"
   ]
  },
  {
   "cell_type": "code",
   "execution_count": 655,
   "metadata": {},
   "outputs": [
    {
     "name": "stderr",
     "output_type": "stream",
     "text": [
      "<ipython-input-655-ee959b5f77cc>:1: FutureWarning: pandas.io.json.json_normalize is deprecated, use pandas.json_normalize instead\n",
      "  rqst_df = json_normalize(json.loads(rqst_txt)['response']['venues'])\n"
     ]
    }
   ],
   "source": [
    "rqst_df = json_normalize(json.loads(rqst_txt)['response']['venues'])"
   ]
  },
  {
   "cell_type": "code",
   "execution_count": 1112,
   "metadata": {},
   "outputs": [
    {
     "name": "stderr",
     "output_type": "stream",
     "text": [
      "<ipython-input-1108-5125f84a03d4>:46: FutureWarning: pandas.io.json.json_normalize is deprecated, use pandas.json_normalize instead\n",
      "  else: rqst_df = json_normalize(json.loads(rqst_txt)['response']['venues'])\n"
     ]
    },
    {
     "name": "stdout",
     "output_type": "stream",
     "text": [
      "appended: 10 rqst_fail: 0 append_fail: 0\n",
      "Searched: 19 Failed: 0\n",
      "Fail list:  []\n",
      "Completed\n"
     ]
    }
   ],
   "source": [
    "fsqr_beach = get_venues(search_coords, radius=4900, ctgr_search=True, ctgr_id=beach_id)"
   ]
  },
  {
   "cell_type": "markdown",
   "metadata": {},
   "source": [
    "## Cleaning Search Result:"
   ]
  },
  {
   "cell_type": "markdown",
   "metadata": {},
   "source": [
    "### Removing Duplicates"
   ]
  },
  {
   "cell_type": "code",
   "execution_count": 1115,
   "metadata": {},
   "outputs": [
    {
     "data": {
      "text/plain": [
       "(485, 293)"
      ]
     },
     "execution_count": 1115,
     "metadata": {},
     "output_type": "execute_result"
    }
   ],
   "source": [
    "len(fsqr_beach['name']), len(fsqr_beach['name'].unique())"
   ]
  },
  {
   "cell_type": "code",
   "execution_count": 1142,
   "metadata": {},
   "outputs": [],
   "source": [
    "fsqr_beach.drop_duplicates(subset=['name'], inplace=True)"
   ]
  },
  {
   "cell_type": "markdown",
   "metadata": {},
   "source": [
    "### Formatting"
   ]
  },
  {
   "cell_type": "code",
   "execution_count": 1154,
   "metadata": {},
   "outputs": [
    {
     "data": {
      "text/plain": [
       "['venue',\n",
       " 'id',\n",
       " 'name',\n",
       " 'category_id',\n",
       " 'category',\n",
       " 'location.lat',\n",
       " 'location.lng',\n",
       " 'location.distance']"
      ]
     },
     "execution_count": 1154,
     "metadata": {},
     "output_type": "execute_result"
    }
   ],
   "source": [
    "cols = fsqr_beach.columns."
   ]
  },
  {
   "cell_type": "code",
   "execution_count": 1156,
   "metadata": {},
   "outputs": [],
   "source": [
    "fsqr_beach = fsqr_beach.drop('venue', axis=1)[[cols[2]] + [cols[1]] + cols[3:]]"
   ]
  },
  {
   "cell_type": "code",
   "execution_count": 1159,
   "metadata": {},
   "outputs": [],
   "source": [
    "fsqr_beach.rename(columns={'location.lat': 'lat', 'location.lng':'lng'}, inplace=True)"
   ]
  },
  {
   "cell_type": "code",
   "execution_count": 1162,
   "metadata": {},
   "outputs": [
    {
     "data": {
      "text/html": [
       "<div>\n",
       "<style scoped>\n",
       "    .dataframe tbody tr th:only-of-type {\n",
       "        vertical-align: middle;\n",
       "    }\n",
       "\n",
       "    .dataframe tbody tr th {\n",
       "        vertical-align: top;\n",
       "    }\n",
       "\n",
       "    .dataframe thead th {\n",
       "        text-align: right;\n",
       "    }\n",
       "</style>\n",
       "<table border=\"1\" class=\"dataframe\">\n",
       "  <thead>\n",
       "    <tr style=\"text-align: right;\">\n",
       "      <th></th>\n",
       "      <th>name</th>\n",
       "      <th>id</th>\n",
       "      <th>category_id</th>\n",
       "      <th>category</th>\n",
       "      <th>lat</th>\n",
       "      <th>lng</th>\n",
       "      <th>location.distance</th>\n",
       "    </tr>\n",
       "  </thead>\n",
       "  <tbody>\n",
       "    <tr>\n",
       "      <th>0</th>\n",
       "      <td>Praia da Marambaia</td>\n",
       "      <td>4e3ebcf845dd68e3274a3c5c</td>\n",
       "      <td>4bf58dd8d48988d1e2941735</td>\n",
       "      <td>Beach</td>\n",
       "      <td>-23.060413</td>\n",
       "      <td>-43.568211</td>\n",
       "      <td>2086</td>\n",
       "    </tr>\n",
       "    <tr>\n",
       "      <th>1</th>\n",
       "      <td>kubanakan</td>\n",
       "      <td>502e8999e4b0d68f3749bc32</td>\n",
       "      <td>4bf58dd8d48988d1e2941735</td>\n",
       "      <td>Beach</td>\n",
       "      <td>-23.050705</td>\n",
       "      <td>-43.576699</td>\n",
       "      <td>806</td>\n",
       "    </tr>\n",
       "    <tr>\n",
       "      <th>2</th>\n",
       "      <td>Praia de Grumari</td>\n",
       "      <td>4cf40a437e93f04df4685b69</td>\n",
       "      <td>4bf58dd8d48988d1e2941735</td>\n",
       "      <td>Beach</td>\n",
       "      <td>-23.050730</td>\n",
       "      <td>-43.535675</td>\n",
       "      <td>4989</td>\n",
       "    </tr>\n",
       "    <tr>\n",
       "      <th>3</th>\n",
       "      <td>Praia do Perigoso</td>\n",
       "      <td>4d173d65cc216ea86fe56dd3</td>\n",
       "      <td>4bf58dd8d48988d1e2941735</td>\n",
       "      <td>Beach</td>\n",
       "      <td>-23.071861</td>\n",
       "      <td>-43.552581</td>\n",
       "      <td>4132</td>\n",
       "    </tr>\n",
       "    <tr>\n",
       "      <th>4</th>\n",
       "      <td>Praia da Barra de Guaratiba</td>\n",
       "      <td>4cf14348899c6ea8b079efc1</td>\n",
       "      <td>4bf58dd8d48988d1e2941735</td>\n",
       "      <td>Beach</td>\n",
       "      <td>-23.067356</td>\n",
       "      <td>-43.567535</td>\n",
       "      <td>2674</td>\n",
       "    </tr>\n",
       "    <tr>\n",
       "      <th>...</th>\n",
       "      <td>...</td>\n",
       "      <td>...</td>\n",
       "      <td>...</td>\n",
       "      <td>...</td>\n",
       "      <td>...</td>\n",
       "      <td>...</td>\n",
       "      <td>...</td>\n",
       "    </tr>\n",
       "    <tr>\n",
       "      <th>288</th>\n",
       "      <td>Praia de Sepetiba</td>\n",
       "      <td>4ef207220cd6f4e7bfc81d3f</td>\n",
       "      <td>4bf58dd8d48988d1e2941735</td>\n",
       "      <td>Beach</td>\n",
       "      <td>-22.972531</td>\n",
       "      <td>-43.710725</td>\n",
       "      <td>2797</td>\n",
       "    </tr>\n",
       "    <tr>\n",
       "      <th>289</th>\n",
       "      <td>Praia Do Recôncavo</td>\n",
       "      <td>5d6900ff1a36aa00080118d7</td>\n",
       "      <td>4bf58dd8d48988d1e2941735</td>\n",
       "      <td>Beach</td>\n",
       "      <td>-22.985367</td>\n",
       "      <td>-43.694990</td>\n",
       "      <td>1303</td>\n",
       "    </tr>\n",
       "    <tr>\n",
       "      <th>290</th>\n",
       "      <td>ilha do urubu</td>\n",
       "      <td>5718c16fcd104c1e95dcbdfa</td>\n",
       "      <td>4bf58dd8d48988d1e2941735</td>\n",
       "      <td>Beach</td>\n",
       "      <td>-22.922939</td>\n",
       "      <td>-43.800543</td>\n",
       "      <td>1176</td>\n",
       "    </tr>\n",
       "    <tr>\n",
       "      <th>291</th>\n",
       "      <td>Ilha Da Madeira</td>\n",
       "      <td>5da452b096193d00088602fa</td>\n",
       "      <td>4bf58dd8d48988d1e2941735</td>\n",
       "      <td>Beach</td>\n",
       "      <td>-22.919527</td>\n",
       "      <td>-43.827625</td>\n",
       "      <td>2496</td>\n",
       "    </tr>\n",
       "    <tr>\n",
       "      <th>292</th>\n",
       "      <td>Praia da Ilha da Madeira</td>\n",
       "      <td>51335764e4b087250c5700a4</td>\n",
       "      <td>4bf58dd8d48988d1e2941735</td>\n",
       "      <td>Beach</td>\n",
       "      <td>-22.920469</td>\n",
       "      <td>-43.850118</td>\n",
       "      <td>4767</td>\n",
       "    </tr>\n",
       "  </tbody>\n",
       "</table>\n",
       "<p>293 rows × 7 columns</p>\n",
       "</div>"
      ],
      "text/plain": [
       "                            name                        id  \\\n",
       "0             Praia da Marambaia  4e3ebcf845dd68e3274a3c5c   \n",
       "1                      kubanakan  502e8999e4b0d68f3749bc32   \n",
       "2               Praia de Grumari  4cf40a437e93f04df4685b69   \n",
       "3              Praia do Perigoso  4d173d65cc216ea86fe56dd3   \n",
       "4    Praia da Barra de Guaratiba  4cf14348899c6ea8b079efc1   \n",
       "..                           ...                       ...   \n",
       "288            Praia de Sepetiba  4ef207220cd6f4e7bfc81d3f   \n",
       "289           Praia Do Recôncavo  5d6900ff1a36aa00080118d7   \n",
       "290                ilha do urubu  5718c16fcd104c1e95dcbdfa   \n",
       "291              Ilha Da Madeira  5da452b096193d00088602fa   \n",
       "292     Praia da Ilha da Madeira  51335764e4b087250c5700a4   \n",
       "\n",
       "                  category_id category        lat        lng  \\\n",
       "0    4bf58dd8d48988d1e2941735    Beach -23.060413 -43.568211   \n",
       "1    4bf58dd8d48988d1e2941735    Beach -23.050705 -43.576699   \n",
       "2    4bf58dd8d48988d1e2941735    Beach -23.050730 -43.535675   \n",
       "3    4bf58dd8d48988d1e2941735    Beach -23.071861 -43.552581   \n",
       "4    4bf58dd8d48988d1e2941735    Beach -23.067356 -43.567535   \n",
       "..                        ...      ...        ...        ...   \n",
       "288  4bf58dd8d48988d1e2941735    Beach -22.972531 -43.710725   \n",
       "289  4bf58dd8d48988d1e2941735    Beach -22.985367 -43.694990   \n",
       "290  4bf58dd8d48988d1e2941735    Beach -22.922939 -43.800543   \n",
       "291  4bf58dd8d48988d1e2941735    Beach -22.919527 -43.827625   \n",
       "292  4bf58dd8d48988d1e2941735    Beach -22.920469 -43.850118   \n",
       "\n",
       "     location.distance  \n",
       "0                 2086  \n",
       "1                  806  \n",
       "2                 4989  \n",
       "3                 4132  \n",
       "4                 2674  \n",
       "..                 ...  \n",
       "288               2797  \n",
       "289               1303  \n",
       "290               1176  \n",
       "291               2496  \n",
       "292               4767  \n",
       "\n",
       "[293 rows x 7 columns]"
      ]
     },
     "execution_count": 1162,
     "metadata": {},
     "output_type": "execute_result"
    }
   ],
   "source": [
    "fsqr_beach"
   ]
  },
  {
   "cell_type": "code",
   "execution_count": null,
   "metadata": {},
   "outputs": [],
   "source": []
  },
  {
   "cell_type": "markdown",
   "metadata": {},
   "source": [
    "## Saving Foursquare Beach Search Result"
   ]
  },
  {
   "cell_type": "code",
   "execution_count": 1161,
   "metadata": {},
   "outputs": [],
   "source": [
    "#fsqr_beach.to_csv('\\\\Users\\luisr\\Desktop\\Repository\\IBM_courses\\Course Work\\Assignments\\\\rio dataframes\\\\Initial Data\\\\foursquare_praias.csv')"
   ]
  },
  {
   "cell_type": "markdown",
   "metadata": {},
   "source": [
    "## Loading Foursquare Beach Search Result"
   ]
  },
  {
   "cell_type": "code",
   "execution_count": 1147,
   "metadata": {},
   "outputs": [],
   "source": [
    "fsqr_beach = pd.read_csv('\\\\Users\\luisr\\Desktop\\Repository\\IBM_courses\\Course Work\\Assignments\\\\rio dataframes\\\\Initial Data\\\\foursquare_praias.csv').drop('Unnamed: 0', axis=1)"
   ]
  },
  {
   "cell_type": "markdown",
   "metadata": {},
   "source": [
    "## Testing Result"
   ]
  },
  {
   "cell_type": "code",
   "execution_count": 1168,
   "metadata": {},
   "outputs": [
    {
     "data": {
      "text/plain": [
       "array(['Beach', 'Surf Spot', 'Trail', 'Bathing Area', 'Nudist Beach',\n",
       "       'Event Space', 'Beach Bar', 'Snack Place', 'Gas Station',\n",
       "       'General Travel'], dtype=object)"
      ]
     },
     "execution_count": 1168,
     "metadata": {},
     "output_type": "execute_result"
    }
   ],
   "source": [
    "fsqr_beach['category'].unique()"
   ]
  },
  {
   "cell_type": "code",
   "execution_count": 1170,
   "metadata": {},
   "outputs": [
    {
     "data": {
      "text/plain": [
       "<matplotlib.axes._subplots.AxesSubplot at 0x251ced0b3a0>"
      ]
     },
     "execution_count": 1170,
     "metadata": {},
     "output_type": "execute_result"
    },
    {
     "data": {
      "image/png": "[encoded data removed]",
      "text/plain": [
       "<Figure size 432x288 with 1 Axes>"
      ]
     },
     "metadata": {
      "needs_background": "light"
     },
     "output_type": "display_data"
    }
   ],
   "source": [
    "fsqr_beach['category'].value_counts().sort_values(ascending=False).plot.bar()"
   ]
  },
  {
   "cell_type": "code",
   "execution_count": null,
   "metadata": {},
   "outputs": [],
   "source": [
    "plot_map(fsqr_beach)"
   ]
  },
  {
   "cell_type": "markdown",
   "metadata": {},
   "source": [
    "#### Well, this is not exactly the expected but is not bad. This approach has offered rich insight on possibilities of searches accros the litoral coast."
   ]
  },
  {
   "cell_type": "markdown",
   "metadata": {},
   "source": [
    "### Combining Beaches"
   ]
  },
  {
   "cell_type": "code",
   "execution_count": 355,
   "metadata": {},
   "outputs": [
    {
     "data": {
      "text/plain": [
       "(98, 79, 45)"
      ]
     },
     "execution_count": 355,
     "metadata": {},
     "output_type": "execute_result"
    }
   ],
   "source": [
    "len(wiki_beach['beach']), len(praias), sum([i.lower() not in [j.lower() for j in praias] for i in wiki_beach['beach']])"
   ]
  },
  {
   "cell_type": "code",
   "execution_count": 324,
   "metadata": {},
   "outputs": [],
   "source": [
    "only_wiki = [i for i in wiki_beach[beach] if i not in praias]\n",
    "praias = praias+only_wiki"
   ]
  },
  {
   "cell_type": "code",
   "execution_count": 325,
   "metadata": {},
   "outputs": [
    {
     "data": {
      "text/plain": [
       "(45, 124)"
      ]
     },
     "execution_count": 325,
     "metadata": {},
     "output_type": "execute_result"
    }
   ],
   "source": [
    "len(only_wiki), len(praias)"
   ]
  },
  {
   "cell_type": "markdown",
   "metadata": {},
   "source": [
    "# Getting Coordinates: Neighborhoods"
   ]
  },
  {
   "cell_type": "markdown",
   "metadata": {},
   "source": [
    "## Formatting Neighborhoods Names for Search"
   ]
  },
  {
   "cell_type": "code",
   "execution_count": 166,
   "metadata": {},
   "outputs": [],
   "source": [
    "bairros_rj = [i+', Rio de Janeiro' for i in bairros]"
   ]
  },
  {
   "cell_type": "code",
   "execution_count": 214,
   "metadata": {},
   "outputs": [],
   "source": [
    "to_fix = ['Freguesia (Ilha do Governador), Rio de Janeiro', 'Imperial de São Cristóvão, Rio de Janeiro', 'Vila Cosmos, Rio de Janeiro']"
   ]
  },
  {
   "cell_type": "code",
   "execution_count": 232,
   "metadata": {},
   "outputs": [],
   "source": [
    "fixed = ['Freguesia, Ilha do Governador', 'Imperial de São Cristóvão, RJ', 'Vila Cosmos, RJ']"
   ]
  },
  {
   "cell_type": "code",
   "execution_count": 183,
   "metadata": {},
   "outputs": [],
   "source": [
    "index = [bairros_rj.index(i) for i in to_fix]"
   ]
  },
  {
   "cell_type": "code",
   "execution_count": 184,
   "metadata": {},
   "outputs": [],
   "source": [
    "for i in range(3):\n",
    "    bairros_rj[index[i]] = fixed[i]"
   ]
  },
  {
   "cell_type": "markdown",
   "metadata": {},
   "source": [
    "## Searching for Coordinates"
   ]
  },
  {
   "cell_type": "code",
   "execution_count": 186,
   "metadata": {},
   "outputs": [],
   "source": [
    "hoods = [praias_rj, bairros_rj]\n",
    "hoods_names = ['praias', 'bairros']"
   ]
  },
  {
   "cell_type": "code",
   "execution_count": 193,
   "metadata": {},
   "outputs": [
    {
     "name": "stdout",
     "output_type": "stream",
     "text": [
      "Appended: 1 Attempts: 1\n",
      "Appended: 9 Attempts: 9\n",
      "Appended: 17 Attempts: 17\n",
      "Appended: 25 Attempts: 25\n",
      "Appended: 33 Attempts: 33\n",
      "Appended: 41 Attempts: 41\n",
      "Appended: 49 Attempts: 49\n",
      "Appended: 57 Attempts: 57\n",
      "Appended: 65 Attempts: 65\n",
      "Appended: 73 Attempts: 73\n",
      "Fail List:  []\n",
      "Completed\n",
      "Appended: 1 Attempts: 1\n",
      "Appended: 9 Attempts: 9\n",
      "Appended: 17 Attempts: 17\n",
      "Appended: 25 Attempts: 25\n",
      "Appended: 33 Attempts: 33\n",
      "Appended: 41 Attempts: 41\n",
      "Appended: 49 Attempts: 49\n",
      "Appended: 57 Attempts: 57\n",
      "Appended: 65 Attempts: 65\n",
      "Appended: 73 Attempts: 73\n",
      "Appended: 81 Attempts: 81\n",
      "Fail List:  []\n",
      "Completed\n"
     ]
    }
   ],
   "source": [
    "half = frame_coords(bairros_rj[:76], 'bairros')\n",
    "other_half = frame_coords(bairros_rj[76:], 'bairros')"
   ]
  },
  {
   "cell_type": "code",
   "execution_count": 563,
   "metadata": {},
   "outputs": [],
   "source": [
    "bairros_df = pd.concat([half, other_half], axis=0)"
   ]
  },
  {
   "cell_type": "markdown",
   "metadata": {},
   "source": [
    "### All Neighborhoods Coordinates Successfully Aquired"
   ]
  },
  {
   "cell_type": "markdown",
   "metadata": {},
   "source": [
    "#### Formatting search names back"
   ]
  },
  {
   "cell_type": "code",
   "execution_count": 564,
   "metadata": {},
   "outputs": [],
   "source": [
    "bairros_df['bairros'] = [i[:-16] if i not in fixed else (to_fix[0][:-16] if i==fixed[0] else i[:-4]) for i in bairros_df['bairros']]"
   ]
  },
  {
   "cell_type": "code",
   "execution_count": 565,
   "metadata": {},
   "outputs": [
    {
     "data": {
      "text/plain": [
       "163"
      ]
     },
     "execution_count": 565,
     "metadata": {},
     "output_type": "execute_result"
    }
   ],
   "source": [
    "len(bairros_df)"
   ]
  },
  {
   "cell_type": "markdown",
   "metadata": {},
   "source": [
    "## Evaluating Result"
   ]
  },
  {
   "cell_type": "code",
   "execution_count": null,
   "metadata": {},
   "outputs": [],
   "source": [
    "plot_map(bairros_df, zoom=11)"
   ]
  },
  {
   "cell_type": "markdown",
   "metadata": {},
   "source": [
    "## Spotting Bad Coordinates: Outliers"
   ]
  },
  {
   "cell_type": "code",
   "execution_count": 495,
   "metadata": {},
   "outputs": [
    {
     "data": {
      "text/html": [
       "<div>\n",
       "<style scoped>\n",
       "    .dataframe tbody tr th:only-of-type {\n",
       "        vertical-align: middle;\n",
       "    }\n",
       "\n",
       "    .dataframe tbody tr th {\n",
       "        vertical-align: top;\n",
       "    }\n",
       "\n",
       "    .dataframe thead th {\n",
       "        text-align: right;\n",
       "    }\n",
       "</style>\n",
       "<table border=\"1\" class=\"dataframe\">\n",
       "  <thead>\n",
       "    <tr style=\"text-align: right;\">\n",
       "      <th></th>\n",
       "      <th>lat</th>\n",
       "      <th>lng</th>\n",
       "      <th>area</th>\n",
       "      <th>radius</th>\n",
       "    </tr>\n",
       "  </thead>\n",
       "  <tbody>\n",
       "    <tr>\n",
       "      <th>count</th>\n",
       "      <td>163.000000</td>\n",
       "      <td>163.000000</td>\n",
       "      <td>1.630000e+02</td>\n",
       "      <td>163.000000</td>\n",
       "    </tr>\n",
       "    <tr>\n",
       "      <th>mean</th>\n",
       "      <td>-22.034582</td>\n",
       "      <td>-44.794142</td>\n",
       "      <td>7.387408e+06</td>\n",
       "      <td>1171.376029</td>\n",
       "    </tr>\n",
       "    <tr>\n",
       "      <th>std</th>\n",
       "      <td>7.362797</td>\n",
       "      <td>7.638167</td>\n",
       "      <td>1.839828e+07</td>\n",
       "      <td>992.677595</td>\n",
       "    </tr>\n",
       "    <tr>\n",
       "      <th>min</th>\n",
       "      <td>-34.576697</td>\n",
       "      <td>-104.626243</td>\n",
       "      <td>1.611178e+05</td>\n",
       "      <td>226.462764</td>\n",
       "    </tr>\n",
       "    <tr>\n",
       "      <th>25%</th>\n",
       "      <td>-22.930916</td>\n",
       "      <td>-43.375841</td>\n",
       "      <td>1.343236e+06</td>\n",
       "      <td>653.839580</td>\n",
       "    </tr>\n",
       "    <tr>\n",
       "      <th>50%</th>\n",
       "      <td>-22.891522</td>\n",
       "      <td>-43.296776</td>\n",
       "      <td>2.534304e+06</td>\n",
       "      <td>898.161495</td>\n",
       "    </tr>\n",
       "    <tr>\n",
       "      <th>75%</th>\n",
       "      <td>-22.847531</td>\n",
       "      <td>-43.227707</td>\n",
       "      <td>4.744831e+06</td>\n",
       "      <td>1228.933493</td>\n",
       "    </tr>\n",
       "    <tr>\n",
       "      <th>max</th>\n",
       "      <td>40.755393</td>\n",
       "      <td>-43.109199</td>\n",
       "      <td>1.395012e+08</td>\n",
       "      <td>6663.678713</td>\n",
       "    </tr>\n",
       "  </tbody>\n",
       "</table>\n",
       "</div>"
      ],
      "text/plain": [
       "              lat         lng          area       radius\n",
       "count  163.000000  163.000000  1.630000e+02   163.000000\n",
       "mean   -22.034582  -44.794142  7.387408e+06  1171.376029\n",
       "std      7.362797    7.638167  1.839828e+07   992.677595\n",
       "min    -34.576697 -104.626243  1.611178e+05   226.462764\n",
       "25%    -22.930916  -43.375841  1.343236e+06   653.839580\n",
       "50%    -22.891522  -43.296776  2.534304e+06   898.161495\n",
       "75%    -22.847531  -43.227707  4.744831e+06  1228.933493\n",
       "max     40.755393  -43.109199  1.395012e+08  6663.678713"
      ]
     },
     "execution_count": 495,
     "metadata": {},
     "output_type": "execute_result"
    }
   ],
   "source": [
    "bairros_df.describe()"
   ]
  },
  {
   "cell_type": "code",
   "execution_count": 566,
   "metadata": {},
   "outputs": [
    {
     "data": {
      "text/plain": [
       "<matplotlib.axes._subplots.AxesSubplot at 0x251c8f85220>"
      ]
     },
     "execution_count": 566,
     "metadata": {},
     "output_type": "execute_result"
    },
    {
     "data": {
      "image/png": "[encoded data removed]",
      "text/plain": [
       "<Figure size 432x288 with 1 Axes>"
      ]
     },
     "metadata": {
      "needs_background": "light"
     },
     "output_type": "display_data"
    }
   ],
   "source": [
    "bairros_df.plot(kind='box', y='lat')"
   ]
  },
  {
   "cell_type": "code",
   "execution_count": 451,
   "metadata": {},
   "outputs": [
    {
     "data": {
      "text/plain": [
       "<matplotlib.axes._subplots.AxesSubplot at 0x251c8fa9f70>"
      ]
     },
     "execution_count": 451,
     "metadata": {},
     "output_type": "execute_result"
    },
    {
     "data": {
      "image/png": "[encoded data removed]",
      "text/plain": [
       "<Figure size 432x288 with 1 Axes>"
      ]
     },
     "metadata": {
      "needs_background": "light"
     },
     "output_type": "display_data"
    }
   ],
   "source": [
    "bairros_df.plot(kind='box', y='lng')"
   ]
  },
  {
   "cell_type": "code",
   "execution_count": 550,
   "metadata": {},
   "outputs": [
    {
     "data": {
      "text/plain": [
       "<matplotlib.axes._subplots.AxesSubplot at 0x251cab54e20>"
      ]
     },
     "execution_count": 550,
     "metadata": {},
     "output_type": "execute_result"
    },
    {
     "data": {
      "image/png": "[encoded data removed]",
      "text/plain": [
       "<Figure size 432x288 with 1 Axes>"
      ]
     },
     "metadata": {
      "needs_background": "light"
     },
     "output_type": "display_data"
    }
   ],
   "source": [
    "bairros_df.plot(kind='scatter', x='lng', y='lat')"
   ]
  },
  {
   "cell_type": "markdown",
   "metadata": {},
   "source": [
    "#### Above we can see all outliers and our correct observations groupped in the extreme right."
   ]
  },
  {
   "cell_type": "code",
   "execution_count": 515,
   "metadata": {},
   "outputs": [
    {
     "name": "stderr",
     "output_type": "stream",
     "text": [
      "<ipython-input-515-1c7777508d11>:1: UserWarning: Boolean Series key will be reindexed to match DataFrame index.\n",
      "  bairros_df[bairros_df['lat']>-24][bairros_df['lat']<-22.7].plot(kind='scatter', x='lng', y='lat')\n"
     ]
    },
    {
     "data": {
      "text/plain": [
       "<matplotlib.axes._subplots.AxesSubplot at 0x251ca6311f0>"
      ]
     },
     "execution_count": 515,
     "metadata": {},
     "output_type": "execute_result"
    },
    {
     "data": {
      "image/png": "[encoded data removed]",
      "text/plain": [
       "<Figure size 432x288 with 1 Axes>"
      ]
     },
     "metadata": {
      "needs_background": "light"
     },
     "output_type": "display_data"
    }
   ],
   "source": [
    "bairros_df[bairros_df['lat']>-24][bairros_df['lat']<-22.7].plot(kind='scatter', x='lng', y='lat')"
   ]
  },
  {
   "cell_type": "markdown",
   "metadata": {},
   "source": [
    "#### Above we can see the correct observations isolated. Note how the scale is much smaller."
   ]
  },
  {
   "cell_type": "code",
   "execution_count": 529,
   "metadata": {},
   "outputs": [],
   "source": [
    "bad_lat = pd.concat([bairros_df[bairros_df['lat']>-22.7], bairros_df[bairros_df['lat']<-24]], axis=0)"
   ]
  },
  {
   "cell_type": "code",
   "execution_count": 530,
   "metadata": {},
   "outputs": [
    {
     "data": {
      "text/html": [
       "<div>\n",
       "<style scoped>\n",
       "    .dataframe tbody tr th:only-of-type {\n",
       "        vertical-align: middle;\n",
       "    }\n",
       "\n",
       "    .dataframe tbody tr th {\n",
       "        vertical-align: top;\n",
       "    }\n",
       "\n",
       "    .dataframe thead th {\n",
       "        text-align: right;\n",
       "    }\n",
       "</style>\n",
       "<table border=\"1\" class=\"dataframe\">\n",
       "  <thead>\n",
       "    <tr style=\"text-align: right;\">\n",
       "      <th></th>\n",
       "      <th>bairros</th>\n",
       "      <th>lat</th>\n",
       "      <th>lng</th>\n",
       "      <th>area</th>\n",
       "      <th>radius</th>\n",
       "    </tr>\n",
       "  </thead>\n",
       "  <tbody>\n",
       "    <tr>\n",
       "      <th>2</th>\n",
       "      <td>água santa</td>\n",
       "      <td>-1.680751</td>\n",
       "      <td>-78.635140</td>\n",
       "      <td>2.426232e+06</td>\n",
       "      <td>878.802356</td>\n",
       "    </tr>\n",
       "    <tr>\n",
       "      <th>28</th>\n",
       "      <td>centro</td>\n",
       "      <td>-20.429425</td>\n",
       "      <td>-54.596237</td>\n",
       "      <td>5.424739e+06</td>\n",
       "      <td>1314.057881</td>\n",
       "    </tr>\n",
       "    <tr>\n",
       "      <th>30</th>\n",
       "      <td>cidade nova</td>\n",
       "      <td>40.755393</td>\n",
       "      <td>-73.989783</td>\n",
       "      <td>9.348529e+05</td>\n",
       "      <td>545.502443</td>\n",
       "    </tr>\n",
       "    <tr>\n",
       "      <th>34</th>\n",
       "      <td>colégio</td>\n",
       "      <td>-22.507101</td>\n",
       "      <td>-43.136713</td>\n",
       "      <td>2.261110e+06</td>\n",
       "      <td>848.371235</td>\n",
       "    </tr>\n",
       "    <tr>\n",
       "      <th>61</th>\n",
       "      <td>guadalupe</td>\n",
       "      <td>24.043406</td>\n",
       "      <td>-104.626243</td>\n",
       "      <td>3.820008e+06</td>\n",
       "      <td>1102.699509</td>\n",
       "    </tr>\n",
       "    <tr>\n",
       "      <th>130</th>\n",
       "      <td>santa cruz</td>\n",
       "      <td>19.300277</td>\n",
       "      <td>-99.506041</td>\n",
       "      <td>1.250443e+08</td>\n",
       "      <td>6308.948836</td>\n",
       "    </tr>\n",
       "    <tr>\n",
       "      <th>126</th>\n",
       "      <td>rocha</td>\n",
       "      <td>-34.576697</td>\n",
       "      <td>-54.126319</td>\n",
       "      <td>1.311626e+06</td>\n",
       "      <td>646.145027</td>\n",
       "    </tr>\n",
       "    <tr>\n",
       "      <th>127</th>\n",
       "      <td>rocha miranda</td>\n",
       "      <td>-34.576697</td>\n",
       "      <td>-54.126319</td>\n",
       "      <td>2.886706e+06</td>\n",
       "      <td>958.575457</td>\n",
       "    </tr>\n",
       "    <tr>\n",
       "      <th>140</th>\n",
       "      <td>tanque</td>\n",
       "      <td>-34.498114</td>\n",
       "      <td>-58.532314</td>\n",
       "      <td>5.567990e+06</td>\n",
       "      <td>1331.294969</td>\n",
       "    </tr>\n",
       "    <tr>\n",
       "      <th>161</th>\n",
       "      <td>vista alegre</td>\n",
       "      <td>-24.750625</td>\n",
       "      <td>-53.724992</td>\n",
       "      <td>5.152091e+05</td>\n",
       "      <td>404.964362</td>\n",
       "    </tr>\n",
       "  </tbody>\n",
       "</table>\n",
       "</div>"
      ],
      "text/plain": [
       "           bairros        lat         lng          area       radius\n",
       "2       água santa  -1.680751  -78.635140  2.426232e+06   878.802356\n",
       "28          centro -20.429425  -54.596237  5.424739e+06  1314.057881\n",
       "30     cidade nova  40.755393  -73.989783  9.348529e+05   545.502443\n",
       "34         colégio -22.507101  -43.136713  2.261110e+06   848.371235\n",
       "61       guadalupe  24.043406 -104.626243  3.820008e+06  1102.699509\n",
       "130     santa cruz  19.300277  -99.506041  1.250443e+08  6308.948836\n",
       "126          rocha -34.576697  -54.126319  1.311626e+06   646.145027\n",
       "127  rocha miranda -34.576697  -54.126319  2.886706e+06   958.575457\n",
       "140         tanque -34.498114  -58.532314  5.567990e+06  1331.294969\n",
       "161   vista alegre -24.750625  -53.724992  5.152091e+05   404.964362"
      ]
     },
     "execution_count": 530,
     "metadata": {},
     "output_type": "execute_result"
    }
   ],
   "source": [
    "bad_lat"
   ]
  },
  {
   "cell_type": "markdown",
   "metadata": {},
   "source": [
    "## Getting Bad Coordinates Right"
   ]
  },
  {
   "cell_type": "code",
   "execution_count": 532,
   "metadata": {},
   "outputs": [
    {
     "name": "stdout",
     "output_type": "stream",
     "text": [
      "Appended: 1 Attempts: 1\n",
      "Appended: 9 Attempts: 9\n",
      "Fail List:  []\n",
      "Completed\n"
     ]
    }
   ],
   "source": [
    "fixed_coords = frame_coords(bad_lat['bairros']+', RJ')"
   ]
  },
  {
   "cell_type": "code",
   "execution_count": 533,
   "metadata": {},
   "outputs": [],
   "source": [
    "fixed_coords['venue'] = [i[:-4] for i in fixed_coords['venue']]"
   ]
  },
  {
   "cell_type": "code",
   "execution_count": 569,
   "metadata": {},
   "outputs": [
    {
     "data": {
      "text/html": [
       "<div>\n",
       "<style scoped>\n",
       "    .dataframe tbody tr th:only-of-type {\n",
       "        vertical-align: middle;\n",
       "    }\n",
       "\n",
       "    .dataframe tbody tr th {\n",
       "        vertical-align: top;\n",
       "    }\n",
       "\n",
       "    .dataframe thead th {\n",
       "        text-align: right;\n",
       "    }\n",
       "</style>\n",
       "<table border=\"1\" class=\"dataframe\">\n",
       "  <thead>\n",
       "    <tr style=\"text-align: right;\">\n",
       "      <th></th>\n",
       "      <th>venue</th>\n",
       "      <th>lat</th>\n",
       "      <th>lng</th>\n",
       "    </tr>\n",
       "  </thead>\n",
       "  <tbody>\n",
       "    <tr>\n",
       "      <th>0</th>\n",
       "      <td>água santa</td>\n",
       "      <td>-22.911143</td>\n",
       "      <td>-43.312126</td>\n",
       "    </tr>\n",
       "    <tr>\n",
       "      <th>1</th>\n",
       "      <td>centro</td>\n",
       "      <td>-22.904393</td>\n",
       "      <td>-43.183065</td>\n",
       "    </tr>\n",
       "    <tr>\n",
       "      <th>2</th>\n",
       "      <td>cidade nova</td>\n",
       "      <td>-22.910051</td>\n",
       "      <td>-43.201756</td>\n",
       "    </tr>\n",
       "    <tr>\n",
       "      <th>3</th>\n",
       "      <td>colégio</td>\n",
       "      <td>-22.839790</td>\n",
       "      <td>-43.335762</td>\n",
       "    </tr>\n",
       "    <tr>\n",
       "      <th>4</th>\n",
       "      <td>guadalupe</td>\n",
       "      <td>-22.837621</td>\n",
       "      <td>-43.375161</td>\n",
       "    </tr>\n",
       "    <tr>\n",
       "      <th>5</th>\n",
       "      <td>santa cruz</td>\n",
       "      <td>-22.917625</td>\n",
       "      <td>-43.683491</td>\n",
       "    </tr>\n",
       "    <tr>\n",
       "      <th>6</th>\n",
       "      <td>rocha</td>\n",
       "      <td>-22.899562</td>\n",
       "      <td>-43.248807</td>\n",
       "    </tr>\n",
       "    <tr>\n",
       "      <th>7</th>\n",
       "      <td>rocha miranda</td>\n",
       "      <td>-22.850347</td>\n",
       "      <td>-43.346305</td>\n",
       "    </tr>\n",
       "    <tr>\n",
       "      <th>8</th>\n",
       "      <td>tanque</td>\n",
       "      <td>-22.915193</td>\n",
       "      <td>-43.355747</td>\n",
       "    </tr>\n",
       "    <tr>\n",
       "      <th>9</th>\n",
       "      <td>vista alegre</td>\n",
       "      <td>-22.829624</td>\n",
       "      <td>-43.315128</td>\n",
       "    </tr>\n",
       "  </tbody>\n",
       "</table>\n",
       "</div>"
      ],
      "text/plain": [
       "           venue        lat        lng\n",
       "0     água santa -22.911143 -43.312126\n",
       "1         centro -22.904393 -43.183065\n",
       "2    cidade nova -22.910051 -43.201756\n",
       "3        colégio -22.839790 -43.335762\n",
       "4      guadalupe -22.837621 -43.375161\n",
       "5     santa cruz -22.917625 -43.683491\n",
       "6          rocha -22.899562 -43.248807\n",
       "7  rocha miranda -22.850347 -43.346305\n",
       "8         tanque -22.915193 -43.355747\n",
       "9   vista alegre -22.829624 -43.315128"
      ]
     },
     "execution_count": 569,
     "metadata": {},
     "output_type": "execute_result"
    }
   ],
   "source": [
    "fixed_coords"
   ]
  },
  {
   "cell_type": "markdown",
   "metadata": {},
   "source": [
    "#### Yeah, we got every single coordinate correctly, that's cool right."
   ]
  },
  {
   "cell_type": "code",
   "execution_count": null,
   "metadata": {},
   "outputs": [],
   "source": [
    "plot_map(fixed_coords)"
   ]
  },
  {
   "cell_type": "markdown",
   "metadata": {},
   "source": [
    "## Replacing Bad Coordinates"
   ]
  },
  {
   "cell_type": "code",
   "execution_count": 584,
   "metadata": {},
   "outputs": [],
   "source": [
    "bairros_df.loc[bad_lat.index, 0:3] = fixed_coords.values"
   ]
  },
  {
   "cell_type": "markdown",
   "metadata": {},
   "source": [
    "## Testing"
   ]
  },
  {
   "cell_type": "code",
   "execution_count": 585,
   "metadata": {},
   "outputs": [
    {
     "data": {
      "text/html": [
       "<div>\n",
       "<style scoped>\n",
       "    .dataframe tbody tr th:only-of-type {\n",
       "        vertical-align: middle;\n",
       "    }\n",
       "\n",
       "    .dataframe tbody tr th {\n",
       "        vertical-align: top;\n",
       "    }\n",
       "\n",
       "    .dataframe thead th {\n",
       "        text-align: right;\n",
       "    }\n",
       "</style>\n",
       "<table border=\"1\" class=\"dataframe\">\n",
       "  <thead>\n",
       "    <tr style=\"text-align: right;\">\n",
       "      <th></th>\n",
       "      <th>bairros</th>\n",
       "      <th>lat</th>\n",
       "      <th>lng</th>\n",
       "    </tr>\n",
       "  </thead>\n",
       "  <tbody>\n",
       "    <tr>\n",
       "      <th>2</th>\n",
       "      <td>água santa</td>\n",
       "      <td>-22.911143</td>\n",
       "      <td>-43.312126</td>\n",
       "    </tr>\n",
       "    <tr>\n",
       "      <th>28</th>\n",
       "      <td>centro</td>\n",
       "      <td>-22.904393</td>\n",
       "      <td>-43.183065</td>\n",
       "    </tr>\n",
       "    <tr>\n",
       "      <th>30</th>\n",
       "      <td>cidade nova</td>\n",
       "      <td>-22.910051</td>\n",
       "      <td>-43.201756</td>\n",
       "    </tr>\n",
       "    <tr>\n",
       "      <th>34</th>\n",
       "      <td>colégio</td>\n",
       "      <td>-22.839790</td>\n",
       "      <td>-43.335762</td>\n",
       "    </tr>\n",
       "    <tr>\n",
       "      <th>61</th>\n",
       "      <td>guadalupe</td>\n",
       "      <td>-22.837621</td>\n",
       "      <td>-43.375161</td>\n",
       "    </tr>\n",
       "    <tr>\n",
       "      <th>130</th>\n",
       "      <td>santa cruz</td>\n",
       "      <td>-22.917625</td>\n",
       "      <td>-43.683491</td>\n",
       "    </tr>\n",
       "    <tr>\n",
       "      <th>126</th>\n",
       "      <td>rocha</td>\n",
       "      <td>-22.899562</td>\n",
       "      <td>-43.248807</td>\n",
       "    </tr>\n",
       "    <tr>\n",
       "      <th>127</th>\n",
       "      <td>rocha miranda</td>\n",
       "      <td>-22.850347</td>\n",
       "      <td>-43.346305</td>\n",
       "    </tr>\n",
       "    <tr>\n",
       "      <th>140</th>\n",
       "      <td>tanque</td>\n",
       "      <td>-22.915193</td>\n",
       "      <td>-43.355747</td>\n",
       "    </tr>\n",
       "    <tr>\n",
       "      <th>161</th>\n",
       "      <td>vista alegre</td>\n",
       "      <td>-22.829624</td>\n",
       "      <td>-43.315128</td>\n",
       "    </tr>\n",
       "  </tbody>\n",
       "</table>\n",
       "</div>"
      ],
      "text/plain": [
       "           bairros        lat        lng\n",
       "2       água santa -22.911143 -43.312126\n",
       "28          centro -22.904393 -43.183065\n",
       "30     cidade nova -22.910051 -43.201756\n",
       "34         colégio -22.839790 -43.335762\n",
       "61       guadalupe -22.837621 -43.375161\n",
       "130     santa cruz -22.917625 -43.683491\n",
       "126          rocha -22.899562 -43.248807\n",
       "127  rocha miranda -22.850347 -43.346305\n",
       "140         tanque -22.915193 -43.355747\n",
       "161   vista alegre -22.829624 -43.315128"
      ]
     },
     "execution_count": 585,
     "metadata": {},
     "output_type": "execute_result"
    }
   ],
   "source": [
    "bairros_df.loc[bad_lat.index]"
   ]
  },
  {
   "cell_type": "code",
   "execution_count": 581,
   "metadata": {},
   "outputs": [
    {
     "data": {
      "text/plain": [
       "<matplotlib.axes._subplots.AxesSubplot at 0x251ca78dc10>"
      ]
     },
     "execution_count": 581,
     "metadata": {},
     "output_type": "execute_result"
    },
    {
     "data": {
      "image/png": "[encoded data removed]",
      "text/plain": [
       "<Figure size 432x288 with 1 Axes>"
      ]
     },
     "metadata": {
      "needs_background": "light"
     },
     "output_type": "display_data"
    }
   ],
   "source": [
    "bairros_df.plot(kind='scatter', y='lat', x='lng')"
   ]
  },
  {
   "cell_type": "markdown",
   "metadata": {},
   "source": [
    "## Saving"
   ]
  },
  {
   "cell_type": "code",
   "execution_count": 586,
   "metadata": {},
   "outputs": [],
   "source": [
    "#bairros_df.to_csv('/Users/luisr/Desktop/Repository/IBM_courses/Course Work/Assignments/rio dataframes/Search Data/coords_bairros.csv')"
   ]
  },
  {
   "cell_type": "markdown",
   "metadata": {},
   "source": [
    "for table, name in zip(spots_coords, spots_names):\n",
    "    table.to_csv('/Users/luisr/Desktop/Repository/IBM_courses/Course Work/Assignments/rio dataframes/spots coords/coords_'+name+'.csv')"
   ]
  },
  {
   "cell_type": "markdown",
   "metadata": {},
   "source": [
    "## Loading"
   ]
  },
  {
   "cell_type": "code",
   "execution_count": 372,
   "metadata": {},
   "outputs": [],
   "source": [
    "praias_df = pd.read_csv('/Users/luisr/Desktop/Repository/IBM_courses/Course Work/Assignments/rio dataframes/Search Data/coords_praias.csv').drop('Unnamed: 0', axis=1)"
   ]
  },
  {
   "cell_type": "code",
   "execution_count": 583,
   "metadata": {},
   "outputs": [],
   "source": [
    "bairros_df = pd.read_csv('/Users/luisr/Desktop/Repository/IBM_courses/Course Work/Assignments/rio dataframes/Search Data/coords_bairros.csv').drop('Unnamed: 0', axis=1)"
   ]
  },
  {
   "cell_type": "code",
   "execution_count": 31,
   "metadata": {},
   "outputs": [],
   "source": [
    "coords = [pd.read_csv('/Users/luisr/Desktop/Repository/IBM_courses/Course Work/Assignments/rio dataframes/spots coords/coords_'+i+'.csv').drop('Unnamed: 0', axis=1) for i in spots_names]\n",
    "\n",
    "turis, cult, sport, eco = (i for i in coords)"
   ]
  },
  {
   "cell_type": "markdown",
   "metadata": {},
   "source": [
    "### Extra: Finding Spots Coordinates"
   ]
  },
  {
   "cell_type": "code",
   "execution_count": null,
   "metadata": {},
   "outputs": [],
   "source": [
    "spots = [tur, cult, sport, eco]\n",
    "spots_names = ['turismo', 'cultura', 'esporte', 'ecologia']"
   ]
  },
  {
   "cell_type": "code",
   "execution_count": null,
   "metadata": {},
   "outputs": [],
   "source": [
    "spots_coords = [frame_coords(i, j) for i, j in zip(spots, spots_names)]"
   ]
  },
  {
   "cell_type": "markdown",
   "metadata": {},
   "source": [
    "# Getting Neighborhoods Areas from data.rio Data"
   ]
  },
  {
   "cell_type": "markdown",
   "metadata": {},
   "source": [
    "### Loading"
   ]
  },
  {
   "cell_type": "code",
   "execution_count": 293,
   "metadata": {},
   "outputs": [],
   "source": [
    "data_rio = pd.read_csv('\\\\Users\\luisr\\Desktop\\Repository\\IBM_courses\\Course Work\\Assignments\\\\Limite_de_Bairros.csv')"
   ]
  },
  {
   "cell_type": "markdown",
   "metadata": {},
   "source": [
    "## Crossing New Neighborhoods with Available Ones"
   ]
  },
  {
   "cell_type": "code",
   "execution_count": 294,
   "metadata": {},
   "outputs": [],
   "source": [
    "only_datario = [i for i in data_rio['NOME'] if i.strip().lower() not in [j.strip().lower() for j in bairros]]"
   ]
  },
  {
   "cell_type": "code",
   "execution_count": 295,
   "metadata": {},
   "outputs": [],
   "source": [
    "only_bairros = [i for i in bairros if i.strip().lower() not in [j.strip().lower() for j in data_rio['NOME']]]"
   ]
  },
  {
   "cell_type": "code",
   "execution_count": 296,
   "metadata": {},
   "outputs": [
    {
     "data": {
      "text/plain": [
       "(['Freguesia (Ilha)          ',\n",
       "  'Parque Colúmbia           ',\n",
       "  'Vila Kosmos               ',\n",
       "  'Turiaçú                   ',\n",
       "  'Osvaldo Cruz              ',\n",
       "  'São Cristóvão             '],\n",
       " ['Freguesia (Ilha do Governador)',\n",
       "  'Imperial de São Cristóvão',\n",
       "  'Oswaldo Cruz',\n",
       "  'Parque Columbia',\n",
       "  'Turiaçu',\n",
       "  'Vila Cosmos'])"
      ]
     },
     "execution_count": 296,
     "metadata": {},
     "output_type": "execute_result"
    }
   ],
   "source": [
    "only_datario, only_bairros          "
   ]
  },
  {
   "cell_type": "markdown",
   "metadata": {},
   "source": [
    "## Processing data.rio Data"
   ]
  },
  {
   "cell_type": "code",
   "execution_count": 297,
   "metadata": {},
   "outputs": [],
   "source": [
    "datario_area = data_rio[['NOME', 'Área']].rename(columns={'NOME':'bairros'})\n",
    "datario_area['bairros'] = [i.strip().lower() for i in datario_area['bairros']]"
   ]
  },
  {
   "cell_type": "code",
   "execution_count": 298,
   "metadata": {},
   "outputs": [],
   "source": [
    "bairros_copy = bairros_df.copy()\n",
    "bairros_copy['bairros'] = [i.strip().lower() for i in bairros_copy['bairros']]"
   ]
  },
  {
   "cell_type": "code",
   "execution_count": 299,
   "metadata": {},
   "outputs": [],
   "source": [
    "b1 = bairros_copy['bairros'].values"
   ]
  },
  {
   "cell_type": "code",
   "execution_count": 300,
   "metadata": {},
   "outputs": [],
   "source": [
    "b2 = datario_area['bairros'].values"
   ]
  },
  {
   "cell_type": "code",
   "execution_count": 301,
   "metadata": {},
   "outputs": [],
   "source": [
    "out1 = [i for i in b1 if i not in b2]"
   ]
  },
  {
   "cell_type": "code",
   "execution_count": 302,
   "metadata": {},
   "outputs": [],
   "source": [
    "out2 = [i for i in b2 if i not in b1]"
   ]
  },
  {
   "cell_type": "code",
   "execution_count": 303,
   "metadata": {},
   "outputs": [
    {
     "data": {
      "text/plain": [
       "['freguesia (ilha do governador)',\n",
       " 'imperial de são cristóvão',\n",
       " 'oswaldo cruz',\n",
       " 'parque columbia',\n",
       " 'turiaçu',\n",
       " 'vila cosmos']"
      ]
     },
     "execution_count": 303,
     "metadata": {},
     "output_type": "execute_result"
    }
   ],
   "source": [
    "out1"
   ]
  },
  {
   "cell_type": "code",
   "execution_count": 304,
   "metadata": {},
   "outputs": [
    {
     "data": {
      "text/plain": [
       "['freguesia (ilha)',\n",
       " 'parque colúmbia',\n",
       " 'vila kosmos',\n",
       " 'turiaçú',\n",
       " 'osvaldo cruz',\n",
       " 'são cristóvão']"
      ]
     },
     "execution_count": 304,
     "metadata": {},
     "output_type": "execute_result"
    }
   ],
   "source": [
    "out2"
   ]
  },
  {
   "cell_type": "code",
   "execution_count": 305,
   "metadata": {},
   "outputs": [
    {
     "name": "stderr",
     "output_type": "stream",
     "text": [
      "<ipython-input-305-a358c46e88c2>:2: SettingWithCopyWarning: \n",
      "A value is trying to be set on a copy of a slice from a DataFrame\n",
      "\n",
      "See the caveats in the documentation: https://pandas.pydata.org/pandas-docs/stable/user_guide/indexing.html#returning-a-view-versus-a-copy\n",
      "  datario_area['bairros'][out_index] = ['freguesia (ilha do governador)',\n"
     ]
    }
   ],
   "source": [
    "out_index = datario_area[datario_area['bairros'].isin(out2)].index\n",
    "datario_area['bairros'][out_index] = ['freguesia (ilha do governador)',    \n",
    "                                                 'parque columbia',\n",
    "                                                 'vila cosmos',\n",
    "                                                 'turiaçu',\n",
    "                                                 'oswaldo cruz',                                            \n",
    "                                                 'imperial de são cristóvão']"
   ]
  },
  {
   "cell_type": "markdown",
   "metadata": {},
   "source": [
    "## Merging data.rio area data with neighborhoods dataframe"
   ]
  },
  {
   "cell_type": "code",
   "execution_count": 306,
   "metadata": {},
   "outputs": [
    {
     "data": {
      "text/html": [
       "<div>\n",
       "<style scoped>\n",
       "    .dataframe tbody tr th:only-of-type {\n",
       "        vertical-align: middle;\n",
       "    }\n",
       "\n",
       "    .dataframe tbody tr th {\n",
       "        vertical-align: top;\n",
       "    }\n",
       "\n",
       "    .dataframe thead th {\n",
       "        text-align: right;\n",
       "    }\n",
       "</style>\n",
       "<table border=\"1\" class=\"dataframe\">\n",
       "  <thead>\n",
       "    <tr style=\"text-align: right;\">\n",
       "      <th></th>\n",
       "      <th>bairros</th>\n",
       "      <th>Área</th>\n",
       "    </tr>\n",
       "  </thead>\n",
       "  <tbody>\n",
       "    <tr>\n",
       "      <th>0</th>\n",
       "      <td>paquetá</td>\n",
       "      <td>1.705685e+06</td>\n",
       "    </tr>\n",
       "    <tr>\n",
       "      <th>1</th>\n",
       "      <td>freguesia (ilha do governador)</td>\n",
       "      <td>4.056403e+06</td>\n",
       "    </tr>\n",
       "    <tr>\n",
       "      <th>2</th>\n",
       "      <td>bancários</td>\n",
       "      <td>9.780465e+05</td>\n",
       "    </tr>\n",
       "    <tr>\n",
       "      <th>3</th>\n",
       "      <td>galeão</td>\n",
       "      <td>1.895742e+07</td>\n",
       "    </tr>\n",
       "    <tr>\n",
       "      <th>4</th>\n",
       "      <td>tauá</td>\n",
       "      <td>1.672546e+06</td>\n",
       "    </tr>\n",
       "    <tr>\n",
       "      <th>...</th>\n",
       "      <td>...</td>\n",
       "      <td>...</td>\n",
       "    </tr>\n",
       "    <tr>\n",
       "      <th>158</th>\n",
       "      <td>campo grande</td>\n",
       "      <td>1.044451e+08</td>\n",
       "    </tr>\n",
       "    <tr>\n",
       "      <th>159</th>\n",
       "      <td>bangu</td>\n",
       "      <td>3.596620e+07</td>\n",
       "    </tr>\n",
       "    <tr>\n",
       "      <th>160</th>\n",
       "      <td>gericinó</td>\n",
       "      <td>2.534304e+06</td>\n",
       "    </tr>\n",
       "    <tr>\n",
       "      <th>161</th>\n",
       "      <td>jabour</td>\n",
       "      <td>3.273271e+05</td>\n",
       "    </tr>\n",
       "    <tr>\n",
       "      <th>162</th>\n",
       "      <td>vila kennedy</td>\n",
       "      <td>1.473737e+06</td>\n",
       "    </tr>\n",
       "  </tbody>\n",
       "</table>\n",
       "<p>163 rows × 2 columns</p>\n",
       "</div>"
      ],
      "text/plain": [
       "                            bairros          Área\n",
       "0                           paquetá  1.705685e+06\n",
       "1    freguesia (ilha do governador)  4.056403e+06\n",
       "2                         bancários  9.780465e+05\n",
       "3                            galeão  1.895742e+07\n",
       "4                              tauá  1.672546e+06\n",
       "..                              ...           ...\n",
       "158                    campo grande  1.044451e+08\n",
       "159                           bangu  3.596620e+07\n",
       "160                        gericinó  2.534304e+06\n",
       "161                          jabour  3.273271e+05\n",
       "162                    vila kennedy  1.473737e+06\n",
       "\n",
       "[163 rows x 2 columns]"
      ]
     },
     "execution_count": 306,
     "metadata": {},
     "output_type": "execute_result"
    }
   ],
   "source": [
    "datario_area"
   ]
  },
  {
   "cell_type": "code",
   "execution_count": 307,
   "metadata": {},
   "outputs": [
    {
     "data": {
      "text/html": [
       "<div>\n",
       "<style scoped>\n",
       "    .dataframe tbody tr th:only-of-type {\n",
       "        vertical-align: middle;\n",
       "    }\n",
       "\n",
       "    .dataframe tbody tr th {\n",
       "        vertical-align: top;\n",
       "    }\n",
       "\n",
       "    .dataframe thead th {\n",
       "        text-align: right;\n",
       "    }\n",
       "</style>\n",
       "<table border=\"1\" class=\"dataframe\">\n",
       "  <thead>\n",
       "    <tr style=\"text-align: right;\">\n",
       "      <th></th>\n",
       "      <th>bairros</th>\n",
       "      <th>lat</th>\n",
       "      <th>lng</th>\n",
       "    </tr>\n",
       "  </thead>\n",
       "  <tbody>\n",
       "    <tr>\n",
       "      <th>0</th>\n",
       "      <td>abolição</td>\n",
       "      <td>-22.886161</td>\n",
       "      <td>-43.299846</td>\n",
       "    </tr>\n",
       "    <tr>\n",
       "      <th>1</th>\n",
       "      <td>acari</td>\n",
       "      <td>-22.822153</td>\n",
       "      <td>-43.340674</td>\n",
       "    </tr>\n",
       "    <tr>\n",
       "      <th>2</th>\n",
       "      <td>água santa</td>\n",
       "      <td>-1.680751</td>\n",
       "      <td>-78.635140</td>\n",
       "    </tr>\n",
       "    <tr>\n",
       "      <th>3</th>\n",
       "      <td>alto da boa vista</td>\n",
       "      <td>-22.962113</td>\n",
       "      <td>-43.253582</td>\n",
       "    </tr>\n",
       "    <tr>\n",
       "      <th>4</th>\n",
       "      <td>anchieta</td>\n",
       "      <td>-22.823190</td>\n",
       "      <td>-43.399107</td>\n",
       "    </tr>\n",
       "    <tr>\n",
       "      <th>...</th>\n",
       "      <td>...</td>\n",
       "      <td>...</td>\n",
       "      <td>...</td>\n",
       "    </tr>\n",
       "    <tr>\n",
       "      <th>158</th>\n",
       "      <td>vila kennedy</td>\n",
       "      <td>-22.855678</td>\n",
       "      <td>-43.490030</td>\n",
       "    </tr>\n",
       "    <tr>\n",
       "      <th>159</th>\n",
       "      <td>vila militar</td>\n",
       "      <td>-22.860348</td>\n",
       "      <td>-43.402893</td>\n",
       "    </tr>\n",
       "    <tr>\n",
       "      <th>160</th>\n",
       "      <td>vila valqueire</td>\n",
       "      <td>-22.888609</td>\n",
       "      <td>-43.365776</td>\n",
       "    </tr>\n",
       "    <tr>\n",
       "      <th>161</th>\n",
       "      <td>vista alegre</td>\n",
       "      <td>-24.750625</td>\n",
       "      <td>-53.724992</td>\n",
       "    </tr>\n",
       "    <tr>\n",
       "      <th>162</th>\n",
       "      <td>zumbi</td>\n",
       "      <td>-22.821278</td>\n",
       "      <td>-43.175861</td>\n",
       "    </tr>\n",
       "  </tbody>\n",
       "</table>\n",
       "<p>163 rows × 3 columns</p>\n",
       "</div>"
      ],
      "text/plain": [
       "               bairros        lat        lng\n",
       "0             abolição -22.886161 -43.299846\n",
       "1                acari -22.822153 -43.340674\n",
       "2           água santa  -1.680751 -78.635140\n",
       "3    alto da boa vista -22.962113 -43.253582\n",
       "4             anchieta -22.823190 -43.399107\n",
       "..                 ...        ...        ...\n",
       "158       vila kennedy -22.855678 -43.490030\n",
       "159       vila militar -22.860348 -43.402893\n",
       "160     vila valqueire -22.888609 -43.365776\n",
       "161       vista alegre -24.750625 -53.724992\n",
       "162              zumbi -22.821278 -43.175861\n",
       "\n",
       "[163 rows x 3 columns]"
      ]
     },
     "execution_count": 307,
     "metadata": {},
     "output_type": "execute_result"
    }
   ],
   "source": [
    "bairros_copy"
   ]
  },
  {
   "cell_type": "code",
   "execution_count": 308,
   "metadata": {},
   "outputs": [],
   "source": [
    "bairros_df = pd.merge(bairros_copy, datario_area, on='bairros').rename(columns={'Área':'area'})"
   ]
  },
  {
   "cell_type": "code",
   "execution_count": 309,
   "metadata": {},
   "outputs": [
    {
     "data": {
      "text/html": [
       "<div>\n",
       "<style scoped>\n",
       "    .dataframe tbody tr th:only-of-type {\n",
       "        vertical-align: middle;\n",
       "    }\n",
       "\n",
       "    .dataframe tbody tr th {\n",
       "        vertical-align: top;\n",
       "    }\n",
       "\n",
       "    .dataframe thead th {\n",
       "        text-align: right;\n",
       "    }\n",
       "</style>\n",
       "<table border=\"1\" class=\"dataframe\">\n",
       "  <thead>\n",
       "    <tr style=\"text-align: right;\">\n",
       "      <th></th>\n",
       "      <th>bairros</th>\n",
       "      <th>lat</th>\n",
       "      <th>lng</th>\n",
       "      <th>area</th>\n",
       "    </tr>\n",
       "  </thead>\n",
       "  <tbody>\n",
       "    <tr>\n",
       "      <th>0</th>\n",
       "      <td>abolição</td>\n",
       "      <td>-22.886161</td>\n",
       "      <td>-43.299846</td>\n",
       "      <td>6.163327e+05</td>\n",
       "    </tr>\n",
       "    <tr>\n",
       "      <th>1</th>\n",
       "      <td>acari</td>\n",
       "      <td>-22.822153</td>\n",
       "      <td>-43.340674</td>\n",
       "      <td>1.605524e+06</td>\n",
       "    </tr>\n",
       "    <tr>\n",
       "      <th>2</th>\n",
       "      <td>água santa</td>\n",
       "      <td>-1.680751</td>\n",
       "      <td>-78.635140</td>\n",
       "      <td>2.426232e+06</td>\n",
       "    </tr>\n",
       "    <tr>\n",
       "      <th>3</th>\n",
       "      <td>alto da boa vista</td>\n",
       "      <td>-22.962113</td>\n",
       "      <td>-43.253582</td>\n",
       "      <td>3.149568e+07</td>\n",
       "    </tr>\n",
       "    <tr>\n",
       "      <th>4</th>\n",
       "      <td>anchieta</td>\n",
       "      <td>-22.823190</td>\n",
       "      <td>-43.399107</td>\n",
       "      <td>4.345727e+06</td>\n",
       "    </tr>\n",
       "    <tr>\n",
       "      <th>...</th>\n",
       "      <td>...</td>\n",
       "      <td>...</td>\n",
       "      <td>...</td>\n",
       "      <td>...</td>\n",
       "    </tr>\n",
       "    <tr>\n",
       "      <th>158</th>\n",
       "      <td>vila kennedy</td>\n",
       "      <td>-22.855678</td>\n",
       "      <td>-43.490030</td>\n",
       "      <td>1.473737e+06</td>\n",
       "    </tr>\n",
       "    <tr>\n",
       "      <th>159</th>\n",
       "      <td>vila militar</td>\n",
       "      <td>-22.860348</td>\n",
       "      <td>-43.402893</td>\n",
       "      <td>1.075671e+07</td>\n",
       "    </tr>\n",
       "    <tr>\n",
       "      <th>160</th>\n",
       "      <td>vila valqueire</td>\n",
       "      <td>-22.888609</td>\n",
       "      <td>-43.365776</td>\n",
       "      <td>4.232215e+06</td>\n",
       "    </tr>\n",
       "    <tr>\n",
       "      <th>161</th>\n",
       "      <td>vista alegre</td>\n",
       "      <td>-24.750625</td>\n",
       "      <td>-53.724992</td>\n",
       "      <td>5.152091e+05</td>\n",
       "    </tr>\n",
       "    <tr>\n",
       "      <th>162</th>\n",
       "      <td>zumbi</td>\n",
       "      <td>-22.821278</td>\n",
       "      <td>-43.175861</td>\n",
       "      <td>1.611178e+05</td>\n",
       "    </tr>\n",
       "  </tbody>\n",
       "</table>\n",
       "<p>163 rows × 4 columns</p>\n",
       "</div>"
      ],
      "text/plain": [
       "               bairros        lat        lng          area\n",
       "0             abolição -22.886161 -43.299846  6.163327e+05\n",
       "1                acari -22.822153 -43.340674  1.605524e+06\n",
       "2           água santa  -1.680751 -78.635140  2.426232e+06\n",
       "3    alto da boa vista -22.962113 -43.253582  3.149568e+07\n",
       "4             anchieta -22.823190 -43.399107  4.345727e+06\n",
       "..                 ...        ...        ...           ...\n",
       "158       vila kennedy -22.855678 -43.490030  1.473737e+06\n",
       "159       vila militar -22.860348 -43.402893  1.075671e+07\n",
       "160     vila valqueire -22.888609 -43.365776  4.232215e+06\n",
       "161       vista alegre -24.750625 -53.724992  5.152091e+05\n",
       "162              zumbi -22.821278 -43.175861  1.611178e+05\n",
       "\n",
       "[163 rows x 4 columns]"
      ]
     },
     "execution_count": 309,
     "metadata": {},
     "output_type": "execute_result"
    }
   ],
   "source": [
    "bairros_df"
   ]
  },
  {
   "cell_type": "markdown",
   "metadata": {},
   "source": [
    "### All Areas Successfuly Aquired !"
   ]
  },
  {
   "cell_type": "markdown",
   "metadata": {},
   "source": [
    "## Radius Estimation"
   ]
  },
  {
   "cell_type": "code",
   "execution_count": 311,
   "metadata": {},
   "outputs": [],
   "source": [
    "bairros_df['radius'] = bairros_df['area'].map(lambda a: np.sqrt(a/np.pi) )"
   ]
  },
  {
   "cell_type": "markdown",
   "metadata": {},
   "source": [
    "## Saving Neighborhoods Complete Result to csv:"
   ]
  },
  {
   "cell_type": "code",
   "execution_count": 582,
   "metadata": {},
   "outputs": [],
   "source": [
    "#bairros_df.to_csv('/Users/luisr/Desktop/Repository/IBM_courses/Course Work/Assignments/rio dataframes/Search Data/complete_bairros.csv')"
   ]
  },
  {
   "cell_type": "markdown",
   "metadata": {},
   "source": [
    "## Loading Neighborhoods Complete Result"
   ]
  },
  {
   "cell_type": "code",
   "execution_count": 587,
   "metadata": {},
   "outputs": [],
   "source": [
    "bairros_df = pd.read_csv('/Users/luisr/Desktop/Repository/IBM_courses/Course Work/Assignments/rio dataframes/Search Data/complete_bairros.csv').drop('Unnamed: 0', axis=1)"
   ]
  },
  {
   "cell_type": "markdown",
   "metadata": {},
   "source": [
    "## Evaluating Areas and Radiuses"
   ]
  },
  {
   "cell_type": "code",
   "execution_count": 1202,
   "metadata": {},
   "outputs": [
    {
     "data": {
      "text/html": [
       "<div style=\"width:100%;\"><div style=\"position:relative;width:100%;height:0;padding-bottom:60%;\"><span style=\"color:#565656\">Make this Notebook Trusted to load map: File -> Trust Notebook</span><iframe src=\"about:blank\" style=\"position:absolute;width:100%;height:100%;left:0;top:0;border:none !important;\" data-html=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 onload=\"this.contentDocument.open();this.contentDocument.write(atob(this.getAttribute('data-html')));this.contentDocument.close();\" allowfullscreen webkitallowfullscreen mozallowfullscreen></iframe></div></div>"
      ],
      "text/plain": [
       "<folium.folium.Map at 0x251d0375a90>"
      ]
     },
     "execution_count": 1202,
     "metadata": {},
     "output_type": "execute_result"
    }
   ],
   "source": [
    "plot_search_map(bairros_df)"
   ]
  },
  {
   "cell_type": "markdown",
   "metadata": {},
   "source": [
    "### Exploratory Analysis"
   ]
  },
  {
   "cell_type": "code",
   "execution_count": 315,
   "metadata": {},
   "outputs": [
    {
     "data": {
      "text/html": [
       "<div>\n",
       "<style scoped>\n",
       "    .dataframe tbody tr th:only-of-type {\n",
       "        vertical-align: middle;\n",
       "    }\n",
       "\n",
       "    .dataframe tbody tr th {\n",
       "        vertical-align: top;\n",
       "    }\n",
       "\n",
       "    .dataframe thead th {\n",
       "        text-align: right;\n",
       "    }\n",
       "</style>\n",
       "<table border=\"1\" class=\"dataframe\">\n",
       "  <thead>\n",
       "    <tr style=\"text-align: right;\">\n",
       "      <th></th>\n",
       "      <th>area</th>\n",
       "      <th>radius</th>\n",
       "    </tr>\n",
       "  </thead>\n",
       "  <tbody>\n",
       "    <tr>\n",
       "      <th>count</th>\n",
       "      <td>1.630000e+02</td>\n",
       "      <td>163.000000</td>\n",
       "    </tr>\n",
       "    <tr>\n",
       "      <th>mean</th>\n",
       "      <td>7.387408e+06</td>\n",
       "      <td>1171.376029</td>\n",
       "    </tr>\n",
       "    <tr>\n",
       "      <th>std</th>\n",
       "      <td>1.839828e+07</td>\n",
       "      <td>992.677595</td>\n",
       "    </tr>\n",
       "    <tr>\n",
       "      <th>min</th>\n",
       "      <td>1.611178e+05</td>\n",
       "      <td>226.462764</td>\n",
       "    </tr>\n",
       "    <tr>\n",
       "      <th>25%</th>\n",
       "      <td>1.343236e+06</td>\n",
       "      <td>653.839580</td>\n",
       "    </tr>\n",
       "    <tr>\n",
       "      <th>50%</th>\n",
       "      <td>2.534304e+06</td>\n",
       "      <td>898.161495</td>\n",
       "    </tr>\n",
       "    <tr>\n",
       "      <th>75%</th>\n",
       "      <td>4.744831e+06</td>\n",
       "      <td>1228.933493</td>\n",
       "    </tr>\n",
       "    <tr>\n",
       "      <th>max</th>\n",
       "      <td>1.395012e+08</td>\n",
       "      <td>6663.678713</td>\n",
       "    </tr>\n",
       "  </tbody>\n",
       "</table>\n",
       "</div>"
      ],
      "text/plain": [
       "               area       radius\n",
       "count  1.630000e+02   163.000000\n",
       "mean   7.387408e+06  1171.376029\n",
       "std    1.839828e+07   992.677595\n",
       "min    1.611178e+05   226.462764\n",
       "25%    1.343236e+06   653.839580\n",
       "50%    2.534304e+06   898.161495\n",
       "75%    4.744831e+06  1228.933493\n",
       "max    1.395012e+08  6663.678713"
      ]
     },
     "execution_count": 315,
     "metadata": {},
     "output_type": "execute_result"
    }
   ],
   "source": [
    "bairros_df[['area', 'radius']].describe()"
   ]
  },
  {
   "cell_type": "code",
   "execution_count": null,
   "metadata": {},
   "outputs": [],
   "source": []
  },
  {
   "cell_type": "code",
   "execution_count": null,
   "metadata": {},
   "outputs": [],
   "source": []
  },
  {
   "cell_type": "code",
   "execution_count": null,
   "metadata": {},
   "outputs": [],
   "source": []
  },
  {
   "cell_type": "markdown",
   "metadata": {},
   "source": [
    "# Foursquare Setting"
   ]
  },
  {
   "cell_type": "code",
   "execution_count": 1106,
   "metadata": {},
   "outputs": [],
   "source": [
    "import urllib.request\n",
    "import json"
   ]
  },
  {
   "cell_type": "code",
   "execution_count": 1107,
   "metadata": {},
   "outputs": [],
   "source": [
    "def foursquare_url(query=False,\n",
    "                   explore=False,\n",
    "                   venue=False,\n",
    "                   ctgr_search=False,\n",
    "                   ctgr_explore=False,\n",
    "                   search_query=None,\n",
    "                   ctgr_id=None,\n",
    "                   venue_id=None,\n",
    "                   radius=1500,\n",
    "                   LIMIT=800,\n",
    "                   lat=-22.9719642,       # Rio de Janeiro Center Coords\n",
    "                   lng=-43.1843432):\n",
    "\n",
    "    CLIENT_ID = 'YBZLHWZRC4DJGEF2GVTRMDCQZBCZXDBC0ZXPAMHZFR0RF3BC' # your Foursquare ID\n",
    "    CLIENT_SECRET = 'NXISZGNL4VVTR24LS2GE3ZVQ14URDHPP0S0UNJTC41CKFW4I' # your Foursquare Secret\n",
    "    VERSION = '20200604'\n",
    "    latitude=lat\n",
    "    longitude=lng\n",
    "    \n",
    "    expl_url = 'https://api.foursquare.com/v2/venues/explore?client_id={}&client_secret={}&ll={},{}&v={}&radius={}&limit={}'.format(CLIENT_ID, CLIENT_SECRET, latitude, longitude, VERSION, radius, LIMIT)\n",
    "    query_url = 'https://api.foursquare.com/v2/venues/search?client_id={}&client_secret={}&ll={},{}&v={}&query={}&radius={}&limit={}'.format(CLIENT_ID, CLIENT_SECRET, latitude, longitude, VERSION, search_query, radius, LIMIT)\n",
    "    venue_url = 'https://api.foursquare.com/v2/venues/{}?client_id={}&client_secret={}&v={}'.format(venue_id, CLIENT_ID, CLIENT_SECRET, VERSION)\n",
    "    ctgr_expl_url = 'https://api.foursquare.com/v2/venues/explore?client_id={}&client_secret={}&ll={},{}&v={}&radius={}&limit={}&category_Id={}'.format(CLIENT_ID, CLIENT_SECRET, latitude, longitude, VERSION, radius, LIMIT, ctgr_id)\n",
    "    ctgr_srch_url = 'https://api.foursquare.com/v2/venues/search?client_id={}&client_secret={}&ll={},{}&v={}&radius={}&limit={}&categoryId={}'.format(CLIENT_ID, CLIENT_SECRET, latitude, longitude, VERSION, radius, LIMIT, ctgr_id)\n",
    "    \n",
    "    if ctgr_explore: return ctgr_expl_url\n",
    "    if ctgr_search: return ctgr_srch_url\n",
    "    if query: return query_url\n",
    "    if explore: return expl_url\n",
    "    if venue: return venue_url"
   ]
  },
  {
   "cell_type": "code",
   "execution_count": 173,
   "metadata": {},
   "outputs": [],
   "source": [
    "expl_url = 'https://api.foursquare.com/v2/venues/explore?client_id={}&client_secret={}&ll={},{}&v={}&radius={}&limit={}'.format(CLIENT_ID, CLIENT_SECRET, latitude, longitude, VERSION, radius, LIMIT)\n",
    "query_url = 'https://api.foursquare.com/v2/venues/search?client_id={}&client_secret={}&ll={},{}&v={}&query={}&radius={}&limit={}'.format(CLIENT_ID, CLIENT_SECRET, latitude, longitude, VERSION, search_query, radius, LIMIT)\n",
    "venue_url = 'https://api.foursquare.com/v2/venues/{}?client_id={}&client_secret={}&v={}'.format(venue_id, CLIENT_ID, CLIENT_SECRET, VERSION)"
   ]
  },
  {
   "cell_type": "markdown",
   "metadata": {},
   "source": [
    "### Single API Call"
   ]
  },
  {
   "cell_type": "code",
   "execution_count": 505,
   "metadata": {},
   "outputs": [],
   "source": [
    "\n",
    "rqst_obj = urllib.request.urlopen(foursquare_url(ctgr_search=True,\n",
    "                                                 ctgr_id='4bf58dd8d48988d1fa931735', \n",
    "                                                 lat=bairros.lat[45], \n",
    "                                                 lng=bairros.lng[45],\n",
    "                                                 radius=2000))\n",
    "\n",
    "rqst_txt = rqst_obj.read().decode()[:]"
   ]
  },
  {
   "cell_type": "code",
   "execution_count": 156,
   "metadata": {},
   "outputs": [
    {
     "ename": "NameError",
     "evalue": "name 'rqst_txt' is not defined",
     "output_type": "error",
     "traceback": [
      "\u001b[1;31m---------------------------------------------------------------------------\u001b[0m",
      "\u001b[1;31mNameError\u001b[0m                                 Traceback (most recent call last)",
      "\u001b[1;32m<ipython-input-156-ab4638835e6d>\u001b[0m in \u001b[0;36m<module>\u001b[1;34m\u001b[0m\n\u001b[1;32m----> 1\u001b[1;33m \u001b[0mjson_normalize\u001b[0m\u001b[1;33m(\u001b[0m\u001b[0mjson\u001b[0m\u001b[1;33m.\u001b[0m\u001b[0mloads\u001b[0m\u001b[1;33m(\u001b[0m\u001b[0mrqst_txt\u001b[0m\u001b[1;33m)\u001b[0m\u001b[1;33m[\u001b[0m\u001b[1;34m'response'\u001b[0m\u001b[1;33m]\u001b[0m\u001b[1;33m[\u001b[0m\u001b[1;34m'venues'\u001b[0m\u001b[1;33m]\u001b[0m\u001b[1;33m)\u001b[0m\u001b[1;33m.\u001b[0m\u001b[0mhead\u001b[0m\u001b[1;33m(\u001b[0m\u001b[1;33m)\u001b[0m\u001b[1;31m#['groups'][0]['items'])['venue.categories']]\u001b[0m\u001b[1;33m\u001b[0m\u001b[1;33m\u001b[0m\u001b[0m\n\u001b[0m",
      "\u001b[1;31mNameError\u001b[0m: name 'rqst_txt' is not defined"
     ]
    }
   ],
   "source": [
    "json_normalize(json.loads(rqst_txt)['response']['venues']).head()#['groups'][0]['items'])['venue.categories']]"
   ]
  },
  {
   "cell_type": "markdown",
   "metadata": {},
   "source": [
    "# Planning"
   ]
  },
  {
   "cell_type": "markdown",
   "metadata": {},
   "source": [
    "## Further data collection steps:"
   ]
  },
  {
   "cell_type": "markdown",
   "metadata": {},
   "source": [
    "\n",
    "### Gather Beaches Coords\n",
    "\n",
    "1. Fix hoods and beaches names to search for coords.\n",
    "    1. Result: Two lists: Hoods and beaches names fixed.\n",
    "2. Find coords of fixed lists of oficial hoods and beaches, using geocoder.\n",
    "    1. Certify if coords are all from RJ.\n",
    "    2. Result: Oficial beaches and hoods lats and lngs values concatenated with the non-fixed lists as dataframes.\n",
    "3. Get more beaches with foursquare\n",
    "    1. Search per category around one big radius or multiple small radius (maybe no radius).\n",
    "4. Compare foursquare result with oficial list.   \n",
    "    1. Result: Dataframe of unseen beaches with coords. \n",
    "5. Append foursquare unseen results\n",
    "6. Fix hoods radius if necessary, concat to new frames.  DONE\n",
    "7. Get beaches lenghts, convert to radius. \n",
    "\n",
    "---\n",
    "#### Gather Data (Organized)\n",
    "\n",
    "1. General search over: beaches, neighborhoods\n",
    "    1. Result: two dataframes of venues.\n",
    "2. General explore over: beaches, neighborhoods\n",
    "    1. Result: two dataframes of venues.\n",
    "3. Construct a loop to use get_venues function to do the following:\n",
    "4. Search per category beaches and neighborhoods: you can append results per category together if you add a new column 'parent.category'\n",
    "    1. Result: two dataframes of venues.\n",
    "5. Get Hotels Separately\n",
    "\n",
    "    \n",
    "---\n",
    "1.  Add new features: Try this, for each \"region\" you have, that would be around neighborhoods, beaches or hotels, make the same transformations and models for each. Try to let all tables in the same standard.\n",
    "\n",
    "    1. radial distance variation per neighborhood\n",
    "    2. radial distance variation per parent category\n",
    "    3. Hoh many beaches around, per square foot, and radial distance deviation\n",
    "    4. variancia latitude e longitude dos estabelecimentos (uma variavel) ou dos estabelecimentos por categoria (varias variaveis), de cada bairro e hotel.\n",
    "\n",
    "Ideas: Search around each hotel. you can get the same as you are getting for hoods basically, including hotel frequency,w hotel radial distance and hotel category frequency (and other categories as well)."
   ]
  },
  {
   "cell_type": "markdown",
   "metadata": {},
   "source": [
    "### Done:\n",
    "2. Get neighborhood search personalized with radius info. Done"
   ]
  },
  {
   "cell_type": "markdown",
   "metadata": {},
   "source": [
    "#### Categories for search:\n",
    "0. Food: 4d4b7105d754a06374d81259\n",
    "1. Nightlife spots: 4d4b7105d754a06376d81259\n",
    "2. Outdoors & Recreation: 4d4b7105d754a06377d81259\n",
    "3. Beach: 4bf58dd8d48988d1e2941735\n",
    "4. Shop e Services: 4d4b7105d754a06378d81259\n",
    "5. Hotel: 4bf58dd8d48988d1fa931735\n",
    "6. Travel and transport: 4d4b7105d754a06379d81259\n",
    "7. Event: 4d4b7105d754a06373d81259\n",
    "8. Arts & Entertainment: 4d4b7104d754a06370d81259"
   ]
  },
  {
   "cell_type": "markdown",
   "metadata": {},
   "source": [
    "## Columns Results\n",
    "\n",
    "#### General Explore, Search: One dataframe for neighborhoods, one for beaches.\n",
    "\n",
    "0. neighborhood or beach\n",
    "1. venue.id\n",
    "2. venue.name\n",
    "3. venue.location.lat\n",
    "4. venue.location.lng\n",
    "5. venue.location.distance\n",
    "6. venue.categories\n",
    "7. CEP\n",
    "\n",
    "#### Category Search:\n",
    "\n",
    "1. parent.category\n",
    "1. neighborhood or beach\n",
    "1. id\n",
    "1. name\n",
    "1. category_id\n",
    "1. category\n",
    "1. location.lat\n",
    "1. location.lng\n",
    "1. location.distance\n",
    "\n",
    "#### Specific venue: Complement the original 4 dataframes with the additional information\n",
    "\n",
    "1. rating\n",
    "1. description\n",
    "1. likes.count\n",
    "1. attributes.groups"
   ]
  },
  {
   "cell_type": "markdown",
   "metadata": {},
   "source": [
    "# Venues Around Neighborhoods"
   ]
  },
  {
   "cell_type": "markdown",
   "metadata": {},
   "source": [
    "#### Takes a dataframe of venues and coords, and a list of columns names. Returns the dataframe added with the columns specified in the list."
   ]
  },
  {
   "cell_type": "code",
   "execution_count": 1108,
   "metadata": {},
   "outputs": [],
   "source": [
    "def get_venues(df,\n",
    "               radius = 1000,\n",
    "               explore=False,\n",
    "               query=False,\n",
    "               ctgr_search=False,\n",
    "               ctgr_explore=False, \n",
    "               ctgr_id=None,\n",
    "               search_query=None\n",
    "              ):\n",
    "    \n",
    "    if type(radius)==int: radius = [radius for i in range(len(df))]\n",
    "\n",
    "    keeper_cols = [df.columns[0], 'venue.id', 'venue.name', 'venue.category_id', 'venue.category', 'venue.location.lat', 'venue.location.lng', 'venue.location.distance']\n",
    "    keeper_cols_ctgr = [df.columns[0], 'id', 'name', 'category_id', 'category', 'location.lat', 'location.lng', 'location.distance']\n",
    "    rqst_fail = []\n",
    "    append_fail = []\n",
    "    cnt = 0\n",
    "    \n",
    "    if ctgr_search: hoods_expl = pd.DataFrame(columns=keeper_cols_ctgr)\n",
    "    else: hoods_expl = pd.DataFrame(columns=keeper_cols)\n",
    "    \n",
    "    \n",
    "    \n",
    "    for name, lat, lng, radius in zip(df.iloc[:, 0], df['lat'], df['lng'], radius):\n",
    "     \n",
    "        try: rqst_txt = urllib.request.urlopen(foursquare_url(explore=explore,\n",
    "                                                              query=query,\n",
    "                                                              ctgr_search=ctgr_search,\n",
    "                                                              ctgr_explore=ctgr_explore,\n",
    "                                                              ctgr_id=ctgr_id,\n",
    "                                                              search_query=search_query,\n",
    "                                                              lat=lat, \n",
    "                                                              lng=lng,\n",
    "                                                              radius=radius)).read().decode()[:]\n",
    "        except: \n",
    "            try: rqst_txt = urllib.request.urlopen(foursquare_url(explore=True,\n",
    "                                                                  lat=lat, \n",
    "                                                                  lng=lng,\n",
    "                                                                  radius=radius)).read().decode()[:]\n",
    "            except:\n",
    "                print(name)\n",
    "                rqst_fail.append(name)\n",
    "                continue\n",
    "\n",
    "        if not ctgr_search: rqst_df = json_normalize(json.loads(rqst_txt)['response']['groups'][0]['items'])  \n",
    "        else: rqst_df = json_normalize(json.loads(rqst_txt)['response']['venues'])\n",
    "        \n",
    "        if len(rqst_df)==0: \n",
    "            append_fail.append(name)\n",
    "            continue\n",
    "        \n",
    "        rqst_df[keeper_cols[0]] = [name for i in range(len(rqst_df))]\n",
    "    \n",
    "        if not ctgr_search:            \n",
    "            if 'venue.categories' in rqst_df.columns:\n",
    "                rqst_df['venue.category_id'] = [i[0]['id'] if i!=[] else np.nan for i in rqst_df['venue.categories']] \n",
    "                rqst_df['venue.category'] = [i[0]['name'] if i!=[] else np.nan for i in rqst_df['venue.categories']]   \n",
    "            else: \n",
    "                rqst_df['venue.category_id'] = [np.nan for i in range(len(rqst_df))]\n",
    "                rqst_df['venue.category'] = [np.nan for i in range(len(rqst_df))]\n",
    "                \n",
    "            hoods_expl = pd.concat([hoods_expl, rqst_df[keeper_cols]], axis=0)\n",
    "            \n",
    "        else:\n",
    "            if 'categories' in rqst_df.columns:\n",
    "                rqst_df['category_id'] = [i[0]['id'] if i!=[] else np.nan for i in rqst_df['categories']] \n",
    "                rqst_df['category'] = [i[0]['name'] if i!=[] else np.nan for i in rqst_df['categories']]   \n",
    "            else: \n",
    "                rqst_df['category_id'] = [np.nan for i in range(len(rqst_df))]\n",
    "                rqst_df['category'] = [np.nan for i in range(len(rqst_df))]\n",
    "                \n",
    "            hoods_expl = pd.concat([hoods_expl, rqst_df[keeper_cols_ctgr]], axis=0)\n",
    "        \n",
    "        \n",
    "        cnt+=1\n",
    "        if cnt in range(0, len(df), 10): print('appended:', cnt, 'rqst_fail:', len(rqst_fail), 'append_fail:', len(append_fail))\n",
    "    \n",
    "    print('Searched:', len(df), 'Failed:', len(append_fail)+len(rqst_fail))\n",
    "    print('Fail list: ', append_fail)\n",
    "    print('Completed')\n",
    "    return hoods_expl.reset_index(drop=True)\n"
   ]
  },
  {
   "cell_type": "markdown",
   "metadata": {},
   "source": [
    "### Save neighborhoods exploration Result:"
   ]
  },
  {
   "cell_type": "markdown",
   "metadata": {},
   "source": [
    "##### 3000 m radius"
   ]
  },
  {
   "cell_type": "code",
   "execution_count": 58,
   "metadata": {},
   "outputs": [],
   "source": [
    "#hoods_expl.to_csv('/Users/luisr/Desktop/Repository/IBM_courses/Course Work/Assignments/rio dataframes/venues/exploration_of_neighborhoods.csv')"
   ]
  },
  {
   "cell_type": "markdown",
   "metadata": {},
   "source": [
    "#### Estimated radius"
   ]
  },
  {
   "cell_type": "code",
   "execution_count": 218,
   "metadata": {},
   "outputs": [],
   "source": [
    "#hoods_expl.to_csv('/Users/luisr/Desktop/Repository/IBM_courses/Course Work/Assignments/rio dataframes/venues/exploration_of_neighborhoods_radius.csv')"
   ]
  },
  {
   "cell_type": "markdown",
   "metadata": {},
   "source": [
    "### Load neighborhoods exploration Result:"
   ]
  },
  {
   "cell_type": "markdown",
   "metadata": {},
   "source": [
    "##### 3000 m radius"
   ]
  },
  {
   "cell_type": "code",
   "execution_count": 13,
   "metadata": {},
   "outputs": [],
   "source": [
    "hoods_expl = pd.read_csv('/Users/luisr/Desktop/Repository/IBM_courses/Course Work/Assignments/rio dataframes/venues/exploration_of_neighborhoods.csv').drop('Unnamed: 0', axis=1)"
   ]
  },
  {
   "cell_type": "markdown",
   "metadata": {},
   "source": [
    "#### Estimated radius"
   ]
  },
  {
   "cell_type": "code",
   "execution_count": 5,
   "metadata": {},
   "outputs": [],
   "source": [
    "hoods_expl = pd.read_csv('/Users/luisr/Desktop/Repository/IBM_courses/Course Work/Assignments/rio dataframes/venues/exploration_of_neighborhoods_radius.csv').drop('Unnamed: 0', axis=1)"
   ]
  },
  {
   "cell_type": "code",
   "execution_count": 220,
   "metadata": {},
   "outputs": [
    {
     "data": {
      "text/html": [
       "<div>\n",
       "<style scoped>\n",
       "    .dataframe tbody tr th:only-of-type {\n",
       "        vertical-align: middle;\n",
       "    }\n",
       "\n",
       "    .dataframe tbody tr th {\n",
       "        vertical-align: top;\n",
       "    }\n",
       "\n",
       "    .dataframe thead th {\n",
       "        text-align: right;\n",
       "    }\n",
       "</style>\n",
       "<table border=\"1\" class=\"dataframe\">\n",
       "  <thead>\n",
       "    <tr style=\"text-align: right;\">\n",
       "      <th></th>\n",
       "      <th>neighborhood</th>\n",
       "      <th>venue.id</th>\n",
       "      <th>venue.name</th>\n",
       "      <th>venue.category.id</th>\n",
       "      <th>venue.category</th>\n",
       "      <th>venue.location.lat</th>\n",
       "      <th>venue.location.lng</th>\n",
       "      <th>venue.location.distance</th>\n",
       "    </tr>\n",
       "  </thead>\n",
       "  <tbody>\n",
       "    <tr>\n",
       "      <th>0</th>\n",
       "      <td>abolição</td>\n",
       "      <td>4d5dad65f7d7224b54652081</td>\n",
       "      <td>Crepe Lieto</td>\n",
       "      <td>4bf58dd8d48988d146941735</td>\n",
       "      <td>Deli / Bodega</td>\n",
       "      <td>-22.885457</td>\n",
       "      <td>-43.299354</td>\n",
       "      <td>93</td>\n",
       "    </tr>\n",
       "    <tr>\n",
       "      <th>1</th>\n",
       "      <td>abolição</td>\n",
       "      <td>523e424f11d2b11ae99aa553</td>\n",
       "      <td>Esquina do Espeto</td>\n",
       "      <td>4bf58dd8d48988d1c4941735</td>\n",
       "      <td>Restaurant</td>\n",
       "      <td>-22.887830</td>\n",
       "      <td>-43.302740</td>\n",
       "      <td>350</td>\n",
       "    </tr>\n",
       "    <tr>\n",
       "      <th>2</th>\n",
       "      <td>abolição</td>\n",
       "      <td>4ba55e8df964a5200a0039e3</td>\n",
       "      <td>Rei do Bacalhau</td>\n",
       "      <td>4def73e84765ae376e57713a</td>\n",
       "      <td>Portuguese Restaurant</td>\n",
       "      <td>-22.889826</td>\n",
       "      <td>-43.300841</td>\n",
       "      <td>420</td>\n",
       "    </tr>\n",
       "  </tbody>\n",
       "</table>\n",
       "</div>"
      ],
      "text/plain": [
       "  neighborhood                  venue.id         venue.name  \\\n",
       "0     abolição  4d5dad65f7d7224b54652081        Crepe Lieto   \n",
       "1     abolição  523e424f11d2b11ae99aa553  Esquina do Espeto   \n",
       "2     abolição  4ba55e8df964a5200a0039e3    Rei do Bacalhau   \n",
       "\n",
       "          venue.category.id         venue.category  venue.location.lat  \\\n",
       "0  4bf58dd8d48988d146941735          Deli / Bodega          -22.885457   \n",
       "1  4bf58dd8d48988d1c4941735             Restaurant          -22.887830   \n",
       "2  4def73e84765ae376e57713a  Portuguese Restaurant          -22.889826   \n",
       "\n",
       "   venue.location.lng  venue.location.distance  \n",
       "0          -43.299354                       93  \n",
       "1          -43.302740                      350  \n",
       "2          -43.300841                      420  "
      ]
     },
     "execution_count": 220,
     "metadata": {},
     "output_type": "execute_result"
    }
   ],
   "source": [
    "hoods_expl.head(3)"
   ]
  },
  {
   "cell_type": "markdown",
   "metadata": {},
   "source": [
    "## Neighborhoods Venues data Exploratory Analysis"
   ]
  },
  {
   "cell_type": "code",
   "execution_count": 221,
   "metadata": {},
   "outputs": [
    {
     "data": {
      "text/html": [
       "<div>\n",
       "<style scoped>\n",
       "    .dataframe tbody tr th:only-of-type {\n",
       "        vertical-align: middle;\n",
       "    }\n",
       "\n",
       "    .dataframe tbody tr th {\n",
       "        vertical-align: top;\n",
       "    }\n",
       "\n",
       "    .dataframe thead th {\n",
       "        text-align: right;\n",
       "    }\n",
       "</style>\n",
       "<table border=\"1\" class=\"dataframe\">\n",
       "  <thead>\n",
       "    <tr style=\"text-align: right;\">\n",
       "      <th></th>\n",
       "      <th>venue.location.distance</th>\n",
       "    </tr>\n",
       "  </thead>\n",
       "  <tbody>\n",
       "    <tr>\n",
       "      <th>count</th>\n",
       "      <td>7471.000000</td>\n",
       "    </tr>\n",
       "    <tr>\n",
       "      <th>mean</th>\n",
       "      <td>1090.087672</td>\n",
       "    </tr>\n",
       "    <tr>\n",
       "      <th>std</th>\n",
       "      <td>806.212620</td>\n",
       "    </tr>\n",
       "    <tr>\n",
       "      <th>min</th>\n",
       "      <td>8.000000</td>\n",
       "    </tr>\n",
       "    <tr>\n",
       "      <th>25%</th>\n",
       "      <td>620.000000</td>\n",
       "    </tr>\n",
       "    <tr>\n",
       "      <th>50%</th>\n",
       "      <td>965.000000</td>\n",
       "    </tr>\n",
       "    <tr>\n",
       "      <th>75%</th>\n",
       "      <td>1336.500000</td>\n",
       "    </tr>\n",
       "    <tr>\n",
       "      <th>max</th>\n",
       "      <td>7172.000000</td>\n",
       "    </tr>\n",
       "  </tbody>\n",
       "</table>\n",
       "</div>"
      ],
      "text/plain": [
       "       venue.location.distance\n",
       "count              7471.000000\n",
       "mean               1090.087672\n",
       "std                 806.212620\n",
       "min                   8.000000\n",
       "25%                 620.000000\n",
       "50%                 965.000000\n",
       "75%                1336.500000\n",
       "max                7172.000000"
      ]
     },
     "execution_count": 221,
     "metadata": {},
     "output_type": "execute_result"
    }
   ],
   "source": [
    "hoods_expl[['venue.location.distance']].describe()"
   ]
  },
  {
   "cell_type": "code",
   "execution_count": 222,
   "metadata": {},
   "outputs": [
    {
     "data": {
      "text/plain": [
       "Bar                     365\n",
       "Brazilian Restaurant    355\n",
       "Gym / Fitness Center    293\n",
       "Pizza Place             280\n",
       "Bakery                  279\n",
       "Restaurant              209\n",
       "Gym                     204\n",
       "Burger Joint            197\n",
       "Plaza                   191\n",
       "Fast Food Restaurant    149\n",
       "Snack Place             138\n",
       "Japanese Restaurant     121\n",
       "Hotel                   116\n",
       "Food Truck              115\n",
       "Sandwich Place          109\n",
       "Seafood Restaurant       99\n",
       "Supermarket              96\n",
       "Ice Cream Shop           95\n",
       "Chocolate Shop           90\n",
       "BBQ Joint                86\n",
       "Name: venue.category, dtype: int64"
      ]
     },
     "execution_count": 222,
     "metadata": {},
     "output_type": "execute_result"
    }
   ],
   "source": [
    "hoods_expl['venue.category'].value_counts().head(20)"
   ]
  },
  {
   "cell_type": "code",
   "execution_count": 9,
   "metadata": {},
   "outputs": [
    {
     "data": {
      "image/png": "[encoded data removed]",
      "text/plain": [
       "<Figure size 576x360 with 1 Axes>"
      ]
     },
     "metadata": {
      "needs_background": "light"
     },
     "output_type": "display_data"
    }
   ],
   "source": [
    "hoods_expl['venue.category'].value_counts().head(30).plot(kind='bar', figsize=(8, 5))        # What a cute barplot of our city\n",
    "\n",
    "#plt.title('Rio de Janeiro Venue Category Frequency')\n",
    "plt.ylabel('Frequency')\n",
    "\n",
    "plt.savefig('/Users/luisr/Desktop/Repository/IBM_courses/Course Work/Assignments/Final Capstone Project/Commom places.png')"
   ]
  },
  {
   "cell_type": "code",
   "execution_count": 12,
   "metadata": {},
   "outputs": [],
   "source": [
    "import seaborn as sns"
   ]
  },
  {
   "cell_type": "code",
   "execution_count": 15,
   "metadata": {},
   "outputs": [
    {
     "data": {
      "text/plain": [
       "Text(0, 0.5, 'density')"
      ]
     },
     "execution_count": 15,
     "metadata": {},
     "output_type": "execute_result"
    },
    {
     "data": {
      "image/png": "[encoded data removed]",
      "text/plain": [
       "<Figure size 720x504 with 1 Axes>"
      ]
     },
     "metadata": {
      "needs_background": "light"
     },
     "output_type": "display_data"
    }
   ],
   "source": [
    "fig = plt.figure(figsize=(10,7))\n",
    "\n",
    "sns.distplot(hoods_expl['venue.location.distance'])#, ax=ax1)\n",
    "sns.distplot(bairros['radius'])#, ax=ax1)\n",
    "\n",
    "plt.legend(['neighborhood center distance', 'Radius'])\n",
    "plt.xlabel('meters')\n",
    "plt.ylabel('density')"
   ]
  },
  {
   "cell_type": "markdown",
   "metadata": {},
   "source": [
    "## Radial Distance Analysis"
   ]
  },
  {
   "cell_type": "markdown",
   "metadata": {},
   "source": [
    "### Average Radial Distance per Neighborhood"
   ]
  },
  {
   "cell_type": "code",
   "execution_count": 21,
   "metadata": {},
   "outputs": [
    {
     "data": {
      "text/plain": [
       "((158,), (163,))"
      ]
     },
     "execution_count": 21,
     "metadata": {},
     "output_type": "execute_result"
    }
   ],
   "source": [
    "hoods_expl.groupby('neighborhood', sort=False).mean()['venue.location.distance'].shape, bairros['radius'].shape\n"
   ]
  },
  {
   "cell_type": "code",
   "execution_count": 46,
   "metadata": {},
   "outputs": [
    {
     "name": "stderr",
     "output_type": "stream",
     "text": [
      "C:\\Users\\luisr\\anaconda3\\lib\\site-packages\\pandas\\core\\reshape\\merge.py:618: UserWarning: merging between different levels can give an unintended result (1 levels on the left, 2 on the right)\n",
      "  warnings.warn(msg, UserWarning)\n"
     ]
    }
   ],
   "source": [
    "avg_rad_dist = pd.merge(bairros.rename(columns={'bairros': 'neighborhood'}), hoods_expl.groupby('neighborhood', sort=False).agg([np.mean, np.std]).iloc[:, -2:], on='neighborhood').rename(columns={('venue.location.distance', 'mean'):'rad.dist.avg', ('venue.location.distance', 'std'):'rad.dist.sd'})"
   ]
  },
  {
   "cell_type": "code",
   "execution_count": 48,
   "metadata": {},
   "outputs": [
    {
     "data": {
      "text/plain": [
       "(158, 7)"
      ]
     },
     "execution_count": 48,
     "metadata": {},
     "output_type": "execute_result"
    }
   ],
   "source": [
    "avg_rad_dist.shape"
   ]
  },
  {
   "cell_type": "code",
   "execution_count": 54,
   "metadata": {},
   "outputs": [
    {
     "data": {
      "text/plain": [
       "<matplotlib.axes._subplots.AxesSubplot at 0x277154ce2e0>"
      ]
     },
     "execution_count": 54,
     "metadata": {},
     "output_type": "execute_result"
    },
    {
     "data": {
      "image/png": "[encoded data removed]",
      "text/plain": [
       "<Figure size 432x288 with 1 Axes>"
      ]
     },
     "metadata": {
      "needs_background": "light"
     },
     "output_type": "display_data"
    }
   ],
   "source": [
    "avg_rad_dist.plot(x='radius', y='rad.dist.avg', kind='scatter')"
   ]
  },
  {
   "cell_type": "markdown",
   "metadata": {},
   "source": [
    "### All Radial Distances per radius"
   ]
  },
  {
   "cell_type": "code",
   "execution_count": null,
   "metadata": {},
   "outputs": [],
   "source": [
    "avg_rad_dist = pd.merge(bairros.rename(columns={'bairros': 'neighborhood'}), hoods_expl.groupby('neighborhood', sort=False).agg([np.mean, np.std]).iloc[:, -2:], on='neighborhood').rename(columns={('venue.location.distance', 'mean'):'rad.dist.avg', ('venue.location.distance', 'std'):'rad.dist.sd'})"
   ]
  },
  {
   "cell_type": "code",
   "execution_count": 63,
   "metadata": {},
   "outputs": [],
   "source": [
    "rad_dist = pd.merge(bairros[['bairros', 'radius']].rename(columns={'bairros': 'neighborhood'}), hoods_expl[['neighborhood','venue.category', 'venue.location.distance']], on='neighborhood')"
   ]
  },
  {
   "cell_type": "code",
   "execution_count": 64,
   "metadata": {},
   "outputs": [
    {
     "data": {
      "text/plain": [
       "<matplotlib.axes._subplots.AxesSubplot at 0x277165c0eb0>"
      ]
     },
     "execution_count": 64,
     "metadata": {},
     "output_type": "execute_result"
    },
    {
     "data": {
      "image/png": "[encoded data removed]",
      "text/plain": [
       "<Figure size 432x288 with 1 Axes>"
      ]
     },
     "metadata": {
      "needs_background": "light"
     },
     "output_type": "display_data"
    }
   ],
   "source": [
    "rad_dist.plot(x='radius', y='venue.location.distance', kind='scatter')"
   ]
  },
  {
   "cell_type": "markdown",
   "metadata": {},
   "source": [
    "#### Apperently selection of venues inside estimated radius for each neighborhood area worked pretty well."
   ]
  },
  {
   "cell_type": "markdown",
   "metadata": {},
   "source": [
    "### Analysing radial distance variance of Hotels per neighborhood"
   ]
  },
  {
   "cell_type": "code",
   "execution_count": 137,
   "metadata": {},
   "outputs": [],
   "source": [
    "hotel_dist = rad_dist[rad_dist['venue.category']=='Hotel'].groupby('neighborhood', sort=False, as_index=False).agg([np.mean, np.std]).reset_index().rename(columns={0:'neighborhood'}).sort_values(by=('venue.location.distance', 'std'))"
   ]
  },
  {
   "cell_type": "code",
   "execution_count": 146,
   "metadata": {},
   "outputs": [
    {
     "data": {
      "text/plain": [
       "<matplotlib.legend.Legend at 0x277173a82e0>"
      ]
     },
     "execution_count": 146,
     "metadata": {},
     "output_type": "execute_result"
    },
    {
     "data": {
      "image/png": "[encoded data removed]",
      "text/plain": [
       "<Figure size 864x648 with 1 Axes>"
      ]
     },
     "metadata": {
      "needs_background": "light"
     },
     "output_type": "display_data"
    }
   ],
   "source": [
    "hotel_dist.plot( 'neighborhood', ('venue.location.distance','std'), kind='barh', figsize=(12, 9))\n",
    "plt.title('Radial Distance Standard Deviation of Hotels', loc='right')\n",
    "plt.legend('')"
   ]
  },
  {
   "cell_type": "markdown",
   "metadata": {},
   "source": [
    "#### Using this horizontal bar chart is possible to compare how spread out hotels are in each neighborhood .We can see that hotels are more spread out in Barra da Tijuca than in Copacabana"
   ]
  },
  {
   "cell_type": "code",
   "execution_count": 266,
   "metadata": {},
   "outputs": [],
   "source": [
    "lat_nam = 'venue.location.lat'\n",
    "lng_nam = 'venue.location.lng'\n",
    "\n",
    "df = hoods_expl[['venue.name', lat_nam, lng_nam]].rename(columns={lat_nam:'lat', lng_nam:'lng'})"
   ]
  },
  {
   "cell_type": "code",
   "execution_count": 10,
   "metadata": {},
   "outputs": [
    {
     "ename": "NameError",
     "evalue": "name 'plot_map_lite' is not defined",
     "output_type": "error",
     "traceback": [
      "\u001b[1;31m---------------------------------------------------------------------------\u001b[0m",
      "\u001b[1;31mNameError\u001b[0m                                 Traceback (most recent call last)",
      "\u001b[1;32m<ipython-input-10-39d51f04a7c3>\u001b[0m in \u001b[0;36m<module>\u001b[1;34m\u001b[0m\n\u001b[1;32m----> 1\u001b[1;33m \u001b[0mplot_map_lite\u001b[0m\u001b[1;33m(\u001b[0m\u001b[0mdf\u001b[0m\u001b[1;33m)\u001b[0m\u001b[1;33m\u001b[0m\u001b[1;33m\u001b[0m\u001b[0m\n\u001b[0m",
      "\u001b[1;31mNameError\u001b[0m: name 'plot_map_lite' is not defined"
     ]
    }
   ],
   "source": [
    "plot_map_lite(df)"
   ]
  },
  {
   "cell_type": "markdown",
   "metadata": {},
   "source": [
    "### Exploration Summary:\n",
    "1. We have 11302 venues for 163 neighborhood searched in 3000 meters radius.\n",
    "2. That means approximately 70 venues per neighborhood. Kind of a small sample.\n",
    "3. Unfortunally we have a limit of 100 results per search here unless we subscribe to an enterprise level account, which is not our case."
   ]
  },
  {
   "cell_type": "markdown",
   "metadata": {},
   "source": [
    "# Beaches venues search"
   ]
  },
  {
   "cell_type": "code",
   "execution_count": 361,
   "metadata": {},
   "outputs": [
    {
     "name": "stderr",
     "output_type": "stream",
     "text": [
      "<ipython-input-360-d3f0be9ca2d3>:27: FutureWarning: pandas.io.json.json_normalize is deprecated, use pandas.json_normalize instead\n",
      "  rqst_df = json_normalize(json.loads(rqst_txt)['response']['groups'][0]['items'])\n"
     ]
    },
    {
     "name": "stdout",
     "output_type": "stream",
     "text": [
      "appended: 10 rqst_fail: 0 append_fail: 2\n",
      "appended: 20 rqst_fail: 0 append_fail: 5\n",
      "appended: 30 rqst_fail: 0 append_fail: 8\n",
      "appended: 40 rqst_fail: 0 append_fail: 10\n",
      "appended: 50 rqst_fail: 0 append_fail: 13\n",
      "appended: 60 rqst_fail: 0 append_fail: 15\n",
      "appended: 70 rqst_fail: 0 append_fail: 19\n",
      "appended: 80 rqst_fail: 0 append_fail: 24\n",
      "Searched: 106 Failed: 26\n"
     ]
    }
   ],
   "source": [
    "beach_venues = get_venues(praias, radius=1400)"
   ]
  },
  {
   "cell_type": "code",
   "execution_count": 356,
   "metadata": {},
   "outputs": [
    {
     "data": {
      "text/plain": [
       "106"
      ]
     },
     "execution_count": 356,
     "metadata": {},
     "output_type": "execute_result"
    }
   ],
   "source": [
    "len(praias)"
   ]
  },
  {
   "cell_type": "code",
   "execution_count": 359,
   "metadata": {},
   "outputs": [
    {
     "data": {
      "text/html": [
       "<div>\n",
       "<style scoped>\n",
       "    .dataframe tbody tr th:only-of-type {\n",
       "        vertical-align: middle;\n",
       "    }\n",
       "\n",
       "    .dataframe tbody tr th {\n",
       "        vertical-align: top;\n",
       "    }\n",
       "\n",
       "    .dataframe thead th {\n",
       "        text-align: right;\n",
       "    }\n",
       "</style>\n",
       "<table border=\"1\" class=\"dataframe\">\n",
       "  <thead>\n",
       "    <tr style=\"text-align: right;\">\n",
       "      <th></th>\n",
       "      <th>neighborhood</th>\n",
       "      <th>venue.id</th>\n",
       "      <th>venue.name</th>\n",
       "      <th>venue.category.id</th>\n",
       "      <th>venue.category</th>\n",
       "      <th>venue.location.lat</th>\n",
       "      <th>venue.location.lng</th>\n",
       "      <th>venue.location.distance</th>\n",
       "    </tr>\n",
       "  </thead>\n",
       "  <tbody>\n",
       "    <tr>\n",
       "      <th>0</th>\n",
       "      <td>Guanabara</td>\n",
       "      <td>4b4b349ff964a520739426e3</td>\n",
       "      <td>Rã-Chu</td>\n",
       "      <td>4bf58dd8d48988d1cc941735</td>\n",
       "      <td>Steakhouse</td>\n",
       "      <td>-22.889733</td>\n",
       "      <td>-47.067450</td>\n",
       "      <td>215</td>\n",
       "    </tr>\n",
       "    <tr>\n",
       "      <th>1</th>\n",
       "      <td>Guanabara</td>\n",
       "      <td>5b785c24ca18ea002c5c03ed</td>\n",
       "      <td>Los Vaqueros - Espeto Bar Restaurante</td>\n",
       "      <td>4bf58dd8d48988d116941735</td>\n",
       "      <td>Bar</td>\n",
       "      <td>-22.889640</td>\n",
       "      <td>-47.066956</td>\n",
       "      <td>166</td>\n",
       "    </tr>\n",
       "    <tr>\n",
       "      <th>2</th>\n",
       "      <td>Guanabara</td>\n",
       "      <td>4d81f90b2ad9a143311d7d28</td>\n",
       "      <td>Centro Médico Veterinário</td>\n",
       "      <td>4bf58dd8d48988d100951735</td>\n",
       "      <td>Pet Store</td>\n",
       "      <td>-22.890842</td>\n",
       "      <td>-47.066760</td>\n",
       "      <td>250</td>\n",
       "    </tr>\n",
       "    <tr>\n",
       "      <th>3</th>\n",
       "      <td>Guanabara</td>\n",
       "      <td>5c093598e55d8b002c275817</td>\n",
       "      <td>Bar da Roça</td>\n",
       "      <td>52e81612bcbc57f1066b79f4</td>\n",
       "      <td>Buffet</td>\n",
       "      <td>-22.889185</td>\n",
       "      <td>-47.066890</td>\n",
       "      <td>140</td>\n",
       "    </tr>\n",
       "    <tr>\n",
       "      <th>4</th>\n",
       "      <td>Guanabara</td>\n",
       "      <td>58a5c86f30ecc618cd51b78d</td>\n",
       "      <td>Empório Fazenda</td>\n",
       "      <td>4bf58dd8d48988d1e0931735</td>\n",
       "      <td>Coffee Shop</td>\n",
       "      <td>-22.889450</td>\n",
       "      <td>-47.065586</td>\n",
       "      <td>62</td>\n",
       "    </tr>\n",
       "  </tbody>\n",
       "</table>\n",
       "</div>"
      ],
      "text/plain": [
       "  neighborhood                  venue.id  \\\n",
       "0    Guanabara  4b4b349ff964a520739426e3   \n",
       "1    Guanabara  5b785c24ca18ea002c5c03ed   \n",
       "2    Guanabara  4d81f90b2ad9a143311d7d28   \n",
       "3    Guanabara  5c093598e55d8b002c275817   \n",
       "4    Guanabara  58a5c86f30ecc618cd51b78d   \n",
       "\n",
       "                              venue.name         venue.category.id  \\\n",
       "0                                 Rã-Chu  4bf58dd8d48988d1cc941735   \n",
       "1  Los Vaqueros - Espeto Bar Restaurante  4bf58dd8d48988d116941735   \n",
       "2              Centro Médico Veterinário  4bf58dd8d48988d100951735   \n",
       "3                            Bar da Roça  52e81612bcbc57f1066b79f4   \n",
       "4                        Empório Fazenda  4bf58dd8d48988d1e0931735   \n",
       "\n",
       "  venue.category  venue.location.lat  venue.location.lng  \\\n",
       "0     Steakhouse          -22.889733          -47.067450   \n",
       "1            Bar          -22.889640          -47.066956   \n",
       "2      Pet Store          -22.890842          -47.066760   \n",
       "3         Buffet          -22.889185          -47.066890   \n",
       "4    Coffee Shop          -22.889450          -47.065586   \n",
       "\n",
       "  venue.location.distance  \n",
       "0                     215  \n",
       "1                     166  \n",
       "2                     250  \n",
       "3                     140  \n",
       "4                      62  "
      ]
     },
     "execution_count": 359,
     "metadata": {},
     "output_type": "execute_result"
    }
   ],
   "source": [
    "beach_venues.head()"
   ]
  },
  {
   "cell_type": "code",
   "execution_count": 358,
   "metadata": {},
   "outputs": [
    {
     "data": {
      "text/html": [
       "<div>\n",
       "<style scoped>\n",
       "    .dataframe tbody tr th:only-of-type {\n",
       "        vertical-align: middle;\n",
       "    }\n",
       "\n",
       "    .dataframe tbody tr th {\n",
       "        vertical-align: top;\n",
       "    }\n",
       "\n",
       "    .dataframe thead th {\n",
       "        text-align: right;\n",
       "    }\n",
       "</style>\n",
       "<table border=\"1\" class=\"dataframe\">\n",
       "  <thead>\n",
       "    <tr style=\"text-align: right;\">\n",
       "      <th></th>\n",
       "      <th>praias</th>\n",
       "      <th>lat</th>\n",
       "      <th>lng</th>\n",
       "    </tr>\n",
       "  </thead>\n",
       "  <tbody>\n",
       "    <tr>\n",
       "      <th>0</th>\n",
       "      <td>Guanabara</td>\n",
       "      <td>-22.888889</td>\n",
       "      <td>-47.065556</td>\n",
       "    </tr>\n",
       "    <tr>\n",
       "      <th>1</th>\n",
       "      <td>Dendê</td>\n",
       "      <td>-4.789174</td>\n",
       "      <td>13.817731</td>\n",
       "    </tr>\n",
       "    <tr>\n",
       "      <th>2</th>\n",
       "      <td>Engenho Velho</td>\n",
       "      <td>-27.711450</td>\n",
       "      <td>-52.912569</td>\n",
       "    </tr>\n",
       "    <tr>\n",
       "      <th>3</th>\n",
       "      <td>Itacolomi</td>\n",
       "      <td>-29.870192</td>\n",
       "      <td>-50.979431</td>\n",
       "    </tr>\n",
       "    <tr>\n",
       "      <th>4</th>\n",
       "      <td>Jequiá</td>\n",
       "      <td>-22.820548</td>\n",
       "      <td>-43.181246</td>\n",
       "    </tr>\n",
       "  </tbody>\n",
       "</table>\n",
       "</div>"
      ],
      "text/plain": [
       "          praias        lat        lng\n",
       "0      Guanabara -22.888889 -47.065556\n",
       "1          Dendê  -4.789174  13.817731\n",
       "2  Engenho Velho -27.711450 -52.912569\n",
       "3      Itacolomi -29.870192 -50.979431\n",
       "4         Jequiá -22.820548 -43.181246"
      ]
     },
     "execution_count": 358,
     "metadata": {},
     "output_type": "execute_result"
    }
   ],
   "source": [
    "praias.head()"
   ]
  },
  {
   "cell_type": "markdown",
   "metadata": {},
   "source": [
    "### Beaches Exploratory Analysis"
   ]
  },
  {
   "cell_type": "code",
   "execution_count": 341,
   "metadata": {},
   "outputs": [
    {
     "data": {
      "text/plain": [
       "Brazilian Restaurant    135\n",
       "Bar                     124\n",
       "Pizza Place             118\n",
       "Bakery                  115\n",
       "Gym / Fitness Center    110\n",
       "Beach                   107\n",
       "Hotel                   103\n",
       "Restaurant               91\n",
       "Burger Joint             62\n",
       "Plaza                    58\n",
       "Seafood Restaurant       53\n",
       "Snack Place              52\n",
       "Gym                      52\n",
       "Ice Cream Shop           48\n",
       "Italian Restaurant       48\n",
       "Coffee Shop              48\n",
       "Steakhouse               46\n",
       "Japanese Restaurant      45\n",
       "Café                     45\n",
       "Park                     43\n",
       "Name: venue.category, dtype: int64"
      ]
     },
     "execution_count": 341,
     "metadata": {},
     "output_type": "execute_result"
    }
   ],
   "source": [
    "beach_venues['venue.category'].value_counts().head(20)"
   ]
  },
  {
   "cell_type": "code",
   "execution_count": 347,
   "metadata": {},
   "outputs": [
    {
     "data": {
      "text/plain": [
       "<matplotlib.axes._subplots.AxesSubplot at 0x217db5b52b0>"
      ]
     },
     "execution_count": 347,
     "metadata": {},
     "output_type": "execute_result"
    },
    {
     "data": {
      "image/png": "[encoded data removed]",
      "text/plain": [
       "<Figure size 648x432 with 1 Axes>"
      ]
     },
     "metadata": {
      "needs_background": "light"
     },
     "output_type": "display_data"
    }
   ],
   "source": [
    "beach_venues['venue.category'].value_counts().head(40).plot(kind='bar', figsize=(9,6))\n",
    "plt.title('Most commom venues categories around beaches')"
   ]
  },
  {
   "cell_type": "code",
   "execution_count": 349,
   "metadata": {},
   "outputs": [
    {
     "data": {
      "text/plain": [
       "<matplotlib.axes._subplots.AxesSubplot at 0x217bbf64df0>"
      ]
     },
     "execution_count": 349,
     "metadata": {},
     "output_type": "execute_result"
    },
    {
     "data": {
      "image/png": "[encoded data removed]",
      "text/plain": [
       "<Figure size 432x288 with 1 Axes>"
      ]
     },
     "metadata": {
      "needs_background": "light"
     },
     "output_type": "display_data"
    }
   ],
   "source": [
    "beach_venues['venue.location.distance'].plot(kind='kde')"
   ]
  },
  {
   "cell_type": "code",
   "execution_count": 350,
   "metadata": {},
   "outputs": [],
   "source": [
    "b_cols = beach_venues.columns"
   ]
  },
  {
   "cell_type": "code",
   "execution_count": 352,
   "metadata": {},
   "outputs": [],
   "source": [
    "beach_map = beach_venues.rename(columns={i:j.split('.')[-1] for i,j in zip(b_cols[4:], b_cols[4:])}).rename(columns={ b_cols[3] : '.'.join(b_cols[3].split('.')[1:]) })"
   ]
  },
  {
   "cell_type": "code",
   "execution_count": null,
   "metadata": {},
   "outputs": [],
   "source": [
    "plot_map_lite(beach_map)"
   ]
  },
  {
   "cell_type": "markdown",
   "metadata": {},
   "source": [
    "## Search Neighborhoods venues per Category:"
   ]
  },
  {
   "cell_type": "code",
   "execution_count": 518,
   "metadata": {},
   "outputs": [
    {
     "name": "stderr",
     "output_type": "stream",
     "text": [
      "<ipython-input-517-3a409116f05c>:38: FutureWarning: pandas.io.json.json_normalize is deprecated, use pandas.json_normalize instead\n",
      "  else: rqst_df = json_normalize(json.loads(rqst_txt)['response']['venues'])\n"
     ]
    },
    {
     "name": "stdout",
     "output_type": "stream",
     "text": [
      "Searched: 11 Failed: 4\n",
      "Fail list:  ['barra de guaratiba', 'barros filho', 'benfica', 'brás de pina']\n",
      "Completed\n"
     ]
    }
   ],
   "source": [
    "bairros_hoteis = get_venues(bairros.loc[10:20], radius=bairros.radius[10:20], ctgr_search=True, ctgr_id='4bf58dd8d48988d1fa931735')#4bf58dd8d48988d1fa931735"
   ]
  },
  {
   "cell_type": "code",
   "execution_count": 519,
   "metadata": {},
   "outputs": [
    {
     "data": {
      "text/html": [
       "<div>\n",
       "<style scoped>\n",
       "    .dataframe tbody tr th:only-of-type {\n",
       "        vertical-align: middle;\n",
       "    }\n",
       "\n",
       "    .dataframe tbody tr th {\n",
       "        vertical-align: top;\n",
       "    }\n",
       "\n",
       "    .dataframe thead th {\n",
       "        text-align: right;\n",
       "    }\n",
       "</style>\n",
       "<table border=\"1\" class=\"dataframe\">\n",
       "  <thead>\n",
       "    <tr style=\"text-align: right;\">\n",
       "      <th></th>\n",
       "      <th>bairros</th>\n",
       "      <th>id</th>\n",
       "      <th>name</th>\n",
       "      <th>category_id</th>\n",
       "      <th>category</th>\n",
       "      <th>location.lat</th>\n",
       "      <th>location.lng</th>\n",
       "      <th>location.distance</th>\n",
       "    </tr>\n",
       "  </thead>\n",
       "  <tbody>\n",
       "    <tr>\n",
       "      <th>0</th>\n",
       "      <td>bento ribeiro</td>\n",
       "      <td>4f4baedbe4b0eddb54773c8b</td>\n",
       "      <td>stallion motel</td>\n",
       "      <td>4bf58dd8d48988d1fb931735</td>\n",
       "      <td>Motel</td>\n",
       "      <td>-22.870199</td>\n",
       "      <td>-43.357498</td>\n",
       "      <td>521</td>\n",
       "    </tr>\n",
       "    <tr>\n",
       "      <th>1</th>\n",
       "      <td>bonsucesso</td>\n",
       "      <td>4f497d21e4b0922ac64b7e23</td>\n",
       "      <td>Motel Free</td>\n",
       "      <td>4bf58dd8d48988d1fb931735</td>\n",
       "      <td>Motel</td>\n",
       "      <td>-22.867386</td>\n",
       "      <td>-43.256129</td>\n",
       "      <td>330</td>\n",
       "    </tr>\n",
       "    <tr>\n",
       "      <th>2</th>\n",
       "      <td>bonsucesso</td>\n",
       "      <td>4f8b3e6ce4b0af04c2346cda</td>\n",
       "      <td>Hotel Show</td>\n",
       "      <td>4bf58dd8d48988d1fa931735</td>\n",
       "      <td>Hotel</td>\n",
       "      <td>-22.858158</td>\n",
       "      <td>-43.252597</td>\n",
       "      <td>868</td>\n",
       "    </tr>\n",
       "    <tr>\n",
       "      <th>3</th>\n",
       "      <td>bonsucesso</td>\n",
       "      <td>5088149ce4b0b6701e3d174c</td>\n",
       "      <td>Hotel Itaoka</td>\n",
       "      <td>4bf58dd8d48988d1fb931735</td>\n",
       "      <td>Motel</td>\n",
       "      <td>-22.868276</td>\n",
       "      <td>-43.260096</td>\n",
       "      <td>742</td>\n",
       "    </tr>\n",
       "    <tr>\n",
       "      <th>4</th>\n",
       "      <td>bonsucesso</td>\n",
       "      <td>51e77536498e001aa4681abd</td>\n",
       "      <td>motel pinto loko</td>\n",
       "      <td>4bf58dd8d48988d1fb931735</td>\n",
       "      <td>Motel</td>\n",
       "      <td>-22.866844</td>\n",
       "      <td>-43.246143</td>\n",
       "      <td>742</td>\n",
       "    </tr>\n",
       "    <tr>\n",
       "      <th>...</th>\n",
       "      <td>...</td>\n",
       "      <td>...</td>\n",
       "      <td>...</td>\n",
       "      <td>...</td>\n",
       "      <td>...</td>\n",
       "      <td>...</td>\n",
       "      <td>...</td>\n",
       "      <td>...</td>\n",
       "    </tr>\n",
       "    <tr>\n",
       "      <th>58</th>\n",
       "      <td>cachambi</td>\n",
       "      <td>53754b01498eb9542d0d2f2a</td>\n",
       "      <td>Château da Isis</td>\n",
       "      <td>4bf58dd8d48988d12f951735</td>\n",
       "      <td>Resort</td>\n",
       "      <td>-22.892514</td>\n",
       "      <td>-43.274840</td>\n",
       "      <td>308</td>\n",
       "    </tr>\n",
       "    <tr>\n",
       "      <th>59</th>\n",
       "      <td>cachambi</td>\n",
       "      <td>506e0023e4b0723f1bc56a50</td>\n",
       "      <td>Trek and Fly Hostel</td>\n",
       "      <td>4bf58dd8d48988d1ee931735</td>\n",
       "      <td>Hostel</td>\n",
       "      <td>-22.898062</td>\n",
       "      <td>-43.275850</td>\n",
       "      <td>934</td>\n",
       "    </tr>\n",
       "    <tr>\n",
       "      <th>60</th>\n",
       "      <td>cacuia</td>\n",
       "      <td>4c98d4d16ffe8cfaf8730030</td>\n",
       "      <td>Ilha Palace Hotel</td>\n",
       "      <td>4bf58dd8d48988d1fa931735</td>\n",
       "      <td>Hotel</td>\n",
       "      <td>-22.820304</td>\n",
       "      <td>-43.190819</td>\n",
       "      <td>737</td>\n",
       "    </tr>\n",
       "    <tr>\n",
       "      <th>61</th>\n",
       "      <td>caju</td>\n",
       "      <td>4f3a3485e4b024185ba90c3d</td>\n",
       "      <td>Golden Tulip São Conrado</td>\n",
       "      <td>4bf58dd8d48988d1fa931735</td>\n",
       "      <td>Hotel</td>\n",
       "      <td>-22.884163</td>\n",
       "      <td>-43.228511</td>\n",
       "      <td>838</td>\n",
       "    </tr>\n",
       "    <tr>\n",
       "      <th>62</th>\n",
       "      <td>caju</td>\n",
       "      <td>4e33cf09b0fb17f64f86e691</td>\n",
       "      <td>Hotel San Karlo</td>\n",
       "      <td>4bf58dd8d48988d1fa931735</td>\n",
       "      <td>Hotel</td>\n",
       "      <td>-22.893288</td>\n",
       "      <td>-43.214309</td>\n",
       "      <td>1622</td>\n",
       "    </tr>\n",
       "  </tbody>\n",
       "</table>\n",
       "<p>63 rows × 8 columns</p>\n",
       "</div>"
      ],
      "text/plain": [
       "          bairros                        id                      name  \\\n",
       "0   bento ribeiro  4f4baedbe4b0eddb54773c8b            stallion motel   \n",
       "1      bonsucesso  4f497d21e4b0922ac64b7e23                Motel Free   \n",
       "2      bonsucesso  4f8b3e6ce4b0af04c2346cda                Hotel Show   \n",
       "3      bonsucesso  5088149ce4b0b6701e3d174c              Hotel Itaoka   \n",
       "4      bonsucesso  51e77536498e001aa4681abd          motel pinto loko   \n",
       "..            ...                       ...                       ...   \n",
       "58       cachambi  53754b01498eb9542d0d2f2a           Château da Isis   \n",
       "59       cachambi  506e0023e4b0723f1bc56a50       Trek and Fly Hostel   \n",
       "60         cacuia  4c98d4d16ffe8cfaf8730030         Ilha Palace Hotel   \n",
       "61           caju  4f3a3485e4b024185ba90c3d  Golden Tulip São Conrado   \n",
       "62           caju  4e33cf09b0fb17f64f86e691           Hotel San Karlo   \n",
       "\n",
       "                 category_id category  location.lat  location.lng  \\\n",
       "0   4bf58dd8d48988d1fb931735    Motel    -22.870199    -43.357498   \n",
       "1   4bf58dd8d48988d1fb931735    Motel    -22.867386    -43.256129   \n",
       "2   4bf58dd8d48988d1fa931735    Hotel    -22.858158    -43.252597   \n",
       "3   4bf58dd8d48988d1fb931735    Motel    -22.868276    -43.260096   \n",
       "4   4bf58dd8d48988d1fb931735    Motel    -22.866844    -43.246143   \n",
       "..                       ...      ...           ...           ...   \n",
       "58  4bf58dd8d48988d12f951735   Resort    -22.892514    -43.274840   \n",
       "59  4bf58dd8d48988d1ee931735   Hostel    -22.898062    -43.275850   \n",
       "60  4bf58dd8d48988d1fa931735    Hotel    -22.820304    -43.190819   \n",
       "61  4bf58dd8d48988d1fa931735    Hotel    -22.884163    -43.228511   \n",
       "62  4bf58dd8d48988d1fa931735    Hotel    -22.893288    -43.214309   \n",
       "\n",
       "   location.distance  \n",
       "0                521  \n",
       "1                330  \n",
       "2                868  \n",
       "3                742  \n",
       "4                742  \n",
       "..               ...  \n",
       "58               308  \n",
       "59               934  \n",
       "60               737  \n",
       "61               838  \n",
       "62              1622  \n",
       "\n",
       "[63 rows x 8 columns]"
      ]
     },
     "execution_count": 519,
     "metadata": {},
     "output_type": "execute_result"
    }
   ],
   "source": [
    "bairros_hoteis"
   ]
  },
  {
   "cell_type": "code",
   "execution_count": 521,
   "metadata": {},
   "outputs": [
    {
     "data": {
      "text/plain": [
       "<matplotlib.axes._subplots.AxesSubplot at 0x217dce32550>"
      ]
     },
     "execution_count": 521,
     "metadata": {},
     "output_type": "execute_result"
    },
    {
     "data": {
      "image/png": "[encoded data removed]",
      "text/plain": [
       "<Figure size 864x720 with 1 Axes>"
      ]
     },
     "metadata": {
      "needs_background": "light"
     },
     "output_type": "display_data"
    }
   ],
   "source": [
    "bairros_hoteis['category'].value_counts().head(40).plot(kind='bar', figsize=(12,10))"
   ]
  },
  {
   "cell_type": "code",
   "execution_count": null,
   "metadata": {},
   "outputs": [],
   "source": []
  },
  {
   "cell_type": "code",
   "execution_count": null,
   "metadata": {},
   "outputs": [],
   "source": []
  },
  {
   "cell_type": "code",
   "execution_count": null,
   "metadata": {},
   "outputs": [],
   "source": []
  },
  {
   "cell_type": "markdown",
   "metadata": {},
   "source": [
    "# Search Each Venue: Limit 500 per day"
   ]
  },
  {
   "cell_type": "markdown",
   "metadata": {},
   "source": [
    "#### Takes a dataframe with venues ids and names, returns a dataframe with the additional information of the venues in new columns (columns must be defined)"
   ]
  },
  {
   "cell_type": "code",
   "execution_count": 11,
   "metadata": {},
   "outputs": [],
   "source": [
    "def get_details(df):\n",
    "\n",
    "    extra = ['hereNow.count', 'hereNow.summary']\n",
    "    keeper_cols = ['venue_name',\n",
    "                   'id',\n",
    "                   'name',\n",
    "                   'rating',\n",
    "                   'likes.count',\n",
    "                   'attributes.groups']+extra\n",
    "\n",
    "    expl_ids = pd.DataFrame(columns=keeper_cols)\n",
    "    fail_list = []\n",
    "    cnt=0\n",
    "\n",
    "    for venue, venue_id in zip(df.iloc[:, 1], df.iloc[:, 0]):\n",
    "    \n",
    "        if cnt in range(1, len(df), 240): time.sleep(4)\n",
    "    \n",
    "        try: rqst_txt = urllib.request.urlopen(foursquare_url(venue=True, venue_id=venue_id)).read().decode()[:]                \n",
    "        \n",
    "        except:\n",
    "            try: rqst_txt = urllib.request.urlopen(foursquare_url(venue=True, venue_id=venue_id)).read().decode()[:]   \n",
    "         \n",
    "            except:\n",
    "                try: rqst_txt = urllib.request.urlopen(foursquare_url(venue=True, venue_id=venue_id)).read().decode()[:]   \n",
    "                \n",
    "                except: \n",
    "                    row = pd.DataFrame([venue, venue_id]+[np.nan for i in range(len(keeper_cols)-2)]).T\n",
    "                    expl_ids = pd.concat([expl_ids, row], axis=0)\n",
    "                    fail_list.append([venue, venue_id])\n",
    "                    print('fail:', venue, venue_id)\n",
    "                    continue\n",
    "                    \n",
    "        rqst_json = json.loads(rqst_txt)['response']['venue']\n",
    "                   \n",
    "        rqst_row = json_normalize(json.loads(rqst_txt)['response']['venue'])       \n",
    "        rqst_row['venue_name'] = venue\n",
    "        rqst_row['attributes.groups'][0] = ([i['name'] for i in rqst_row['attributes.groups'][0]])\n",
    "        \n",
    "        if 'rating' not in rqst_row.columns: rqst_row['rating']=[np.nan]\n",
    "        if 'likes.count' not in rqst_row.columns: rqst_row['likes.count']=[np.nan]\n",
    "                    \n",
    "        row = rqst_row[keeper_cols]        \n",
    "        expl_ids = pd.concat([expl_ids, row], axis=0)       \n",
    "        \n",
    "        cnt+=1\n",
    "        if cnt in range(0,len(df), 30): print('Appended:', len(expl_ids), 'Searched:', cnt )\n",
    "                \n",
    "    return expl_ids"
   ]
  },
  {
   "cell_type": "code",
   "execution_count": null,
   "metadata": {},
   "outputs": [],
   "source": [
    "get_details"
   ]
  },
  {
   "cell_type": "code",
   "execution_count": null,
   "metadata": {},
   "outputs": [],
   "source": []
  },
  {
   "cell_type": "code",
   "execution_count": null,
   "metadata": {},
   "outputs": [],
   "source": []
  },
  {
   "cell_type": "markdown",
   "metadata": {},
   "source": [
    "## Query"
   ]
  },
  {
   "cell_type": "code",
   "execution_count": null,
   "metadata": {},
   "outputs": [],
   "source": [
    "[i[0] if i!= [] else np.nan for i in json_normalize(json.loads(rqst_txt)['response']['venues'])['categories']]"
   ]
  },
  {
   "cell_type": "code",
   "execution_count": null,
   "metadata": {},
   "outputs": [],
   "source": [
    "[print(j, [i[0]['id'] for i in restau['categories'][:j]] if i!= []) for j in range(37)]"
   ]
  },
  {
   "cell_type": "code",
   "execution_count": null,
   "metadata": {},
   "outputs": [],
   "source": [
    "restau.head()"
   ]
  },
  {
   "cell_type": "markdown",
   "metadata": {},
   "source": [
    "## Explore"
   ]
  },
  {
   "cell_type": "code",
   "execution_count": null,
   "metadata": {},
   "outputs": [],
   "source": [
    "json_normalize(json.loads(rqst_txt)['response']['groups'][0]['items'])         # for explore          ( get:  venue.id, venue.name, venue.location.lat, venue.location.lng, venue.location.distance, venue.categories)"
   ]
  },
  {
   "cell_type": "markdown",
   "metadata": {},
   "source": [
    "## Specific Venue"
   ]
  },
  {
   "cell_type": "code",
   "execution_count": null,
   "metadata": {},
   "outputs": [],
   "source": [
    "json_normalize(json.loads(rqst_txt)['response']['venue'])           # for specific venue: retrieves a row.         (get: id, name, categories, rating, description, lat, lng, likes.count, attributes.groups )"
   ]
  }
 ],
 "metadata": {
  "kernelspec": {
   "display_name": "Python 3",
   "language": "python",
   "name": "python3"
  },
  "language_info": {
   "codemirror_mode": {
    "name": "ipython",
    "version": 3
   },
   "file_extension": ".py",
   "mimetype": "text/x-python",
   "name": "python",
   "nbconvert_exporter": "python",
   "pygments_lexer": "ipython3",
   "version": "3.8.3"
  }
 },
 "nbformat": 4,
 "nbformat_minor": 4
}
