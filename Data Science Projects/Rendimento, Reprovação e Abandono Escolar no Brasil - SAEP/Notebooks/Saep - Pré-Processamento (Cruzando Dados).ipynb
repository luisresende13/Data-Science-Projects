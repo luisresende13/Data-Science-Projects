{
 "cells": [
  {
   "cell_type": "markdown",
   "metadata": {},
   "source": [
    "# SAEP 2011 - PRÉ-PROCESSAMENTO"
   ]
  },
  {
   "cell_type": "markdown",
   "metadata": {},
   "source": [
    "---"
   ]
  },
  {
   "cell_type": "markdown",
   "metadata": {},
   "source": [
    "# Importando Bibliotecas"
   ]
  },
  {
   "cell_type": "code",
   "execution_count": 9,
   "metadata": {},
   "outputs": [],
   "source": [
    "import pandas as pd\n",
    "\n",
    "import numpy as np\n",
    "\n",
    "import matplotlib.pyplot as plt\n",
    "\n",
    "import seaborn as sns\n",
    "\n",
    "from IPython.display import clear_output\n",
    "\n",
    "import time\n",
    "\n",
    "sns.set_style('darkgrid')"
   ]
  },
  {
   "cell_type": "markdown",
   "metadata": {},
   "source": [
    "---"
   ]
  },
  {
   "cell_type": "markdown",
   "metadata": {},
   "source": [
    "# QUESTIONÁRIO SOCIO-ECONÔMICO DO ALUNO (ORIGINAL)'"
   ]
  },
  {
   "cell_type": "markdown",
   "metadata": {},
   "source": [
    "# Carregando Dados"
   ]
  },
  {
   "cell_type": "code",
   "execution_count": 45,
   "metadata": {},
   "outputs": [
    {
     "name": "stderr",
     "output_type": "stream",
     "text": [
      "C:\\Users\\luisr\\anaconda3\\lib\\site-packages\\IPython\\core\\interactiveshell.py:3071: DtypeWarning: Columns (10) have mixed types.Specify dtype option on import or set low_memory=False.\n",
      "  has_raised = await self.run_ast_nodes(code_ast.body, cell_name,\n"
     ]
    }
   ],
   "source": [
    "qst_raw = pd.read_csv('/Users/luisr/Desktop/Repository/IBM_courses/Personal Work/Data Frames/Source/saep/CSV/saep_qst_aluno.csv').drop('Unnamed: 0', axis=1)"
   ]
  },
  {
   "cell_type": "code",
   "execution_count": 38,
   "metadata": {},
   "outputs": [],
   "source": [
    "qst_raw_copy = qst_raw.copy()\n",
    "#qst_raw = qst_raw_copy.copy()"
   ]
  },
  {
   "cell_type": "markdown",
   "metadata": {},
   "source": [
    "# Carregando Dicionário de Dados Adaptado"
   ]
  },
  {
   "cell_type": "code",
   "execution_count": 174,
   "metadata": {
    "jupyter": {
     "source_hidden": true
    }
   },
   "outputs": [],
   "source": [
    "dict_5ano = pd.read_csv('\\\\Users\\luisr\\Desktop\\Repository\\IBM_courses\\Personal Work\\Data Frames\\Source\\saep\\dicionários quest. alunos\\dicionario 5ano.csv').set_index('questão')\n",
    "dict_9ano = pd.read_csv('\\\\Users\\luisr\\Desktop\\Repository\\IBM_courses\\Personal Work\\Data Frames\\Source\\saep\\dicionários quest. alunos\\dicionario 9ano.csv').set_index('questão')\n",
    "dict_3ano = pd.read_csv('\\\\Users\\luisr\\Desktop\\Repository\\IBM_courses\\Personal Work\\Data Frames\\Source\\saep\\dicionários quest. alunos\\dicionario 3ano.csv').set_index('questão')"
   ]
  },
  {
   "cell_type": "code",
   "execution_count": null,
   "metadata": {
    "jupyter": {
     "source_hidden": true
    }
   },
   "outputs": [],
   "source": [
    "dict_5ano.loc['TX_RESP_Q002'].head(7)"
   ]
  },
  {
   "cell_type": "markdown",
   "metadata": {},
   "source": [
    "---\n",
    "# Limpeza dos Dados"
   ]
  },
  {
   "cell_type": "markdown",
   "metadata": {},
   "source": [
    "### Coluna 10: \"Turno\"\n"
   ]
  },
  {
   "cell_type": "code",
   "execution_count": 39,
   "metadata": {},
   "outputs": [
    {
     "name": "stdout",
     "output_type": "stream",
     "text": [
      "Valores únicos da coluna \"ID_TURNO\": ['2' '1' '3' ' ' 1 2 3]\n",
      "\n",
      "Contagem dos valores únicos:\n"
     ]
    },
    {
     "data": {
      "text/plain": [
       " 2    536378\n",
       " 1    466433\n",
       " 3     42403\n",
       "-1      3361\n",
       "Name: ID_TURNO, dtype: int64"
      ]
     },
     "execution_count": 39,
     "metadata": {},
     "output_type": "execute_result"
    }
   ],
   "source": [
    "print('Valores únicos da coluna \"ID_TURNO\":', qst_raw['ID_TURNO'].unique())\n",
    "print('')\n",
    "qst_raw['ID_TURNO'] = qst_raw['ID_TURNO'].replace(' ', -1).astype(int)\n",
    "\n",
    "print('Contagem dos valores únicos:'),\n",
    "qst_raw['ID_TURNO'].value_counts()"
   ]
  },
  {
   "cell_type": "markdown",
   "metadata": {},
   "source": [
    "### Colunas \"Questões\"\n",
    "1. Formatação nomes das colunas\n",
    "2. Marcação de células vazias"
   ]
  },
  {
   "cell_type": "code",
   "execution_count": 40,
   "metadata": {},
   "outputs": [],
   "source": [
    "Q_columns = qst_raw.columns[15:]\n",
    "\n",
    "qst_raw.replace('*', np.nan, inplace=True)\n",
    "qst_raw.replace(' ', np.nan, inplace=True)\n",
    "qst_raw.replace('.', np.nan, inplace=True)"
   ]
  },
  {
   "cell_type": "code",
   "execution_count": 41,
   "metadata": {},
   "outputs": [
    {
     "name": "stderr",
     "output_type": "stream",
     "text": [
      "<ipython-input-41-1e240f45b089>:1: VisibleDeprecationWarning: Creating an ndarray from ragged nested sequences (which is a list-or-tuple of lists-or-tuples-or ndarrays with different lengths or shapes) is deprecated. If you meant to do this, you must specify 'dtype=object' when creating the ndarray\n",
      "  respostas_unicas = np.unique(np.sum(np.array([qst_raw[col].unique().tolist() for col in Q_columns])))\n"
     ]
    },
    {
     "data": {
      "text/plain": [
       "array(['A', 'B', 'C', 'D', 'E', 'F', 'G', 'H', 'I', 'J', 'K', 'L', 'nan'],\n",
       "      dtype='<U32')"
      ]
     },
     "execution_count": 41,
     "metadata": {},
     "output_type": "execute_result"
    }
   ],
   "source": [
    "respostas_unicas = np.unique(np.sum(np.array([qst_raw[col].unique().tolist() for col in Q_columns])))\n",
    "respostas_unicas"
   ]
  },
  {
   "cell_type": "code",
   "execution_count": 44,
   "metadata": {},
   "outputs": [],
   "source": [
    "qst_raw.dropna(how='all', subset=Q_columns, inplace=True)"
   ]
  },
  {
   "cell_type": "code",
   "execution_count": null,
   "metadata": {},
   "outputs": [],
   "source": [
    "vazios = qst_raw.isnull().mean()\n",
    "\n",
    "vazios.plot.bar(figsize=(6,3), width=1)\n",
    "plt.show()"
   ]
  },
  {
   "cell_type": "code",
   "execution_count": 46,
   "metadata": {},
   "outputs": [],
   "source": [
    "qst_raw.replace(np.nan, '.', inplace=True)"
   ]
  },
  {
   "cell_type": "code",
   "execution_count": 54,
   "metadata": {},
   "outputs": [
    {
     "name": "stdout",
     "output_type": "stream",
     "text": [
      "2011    849278\n",
      "Name: ID_SAEB, dtype: int64\n",
      "1    849278\n",
      "Name: IN_SITUACAO_CENSO, dtype: int64\n",
      "1    849278\n",
      "Name: IN_PREENCHIMENTO, dtype: int64\n"
     ]
    }
   ],
   "source": [
    "out_cols = ['ID_SAEB', 'IN_SITUACAO_CENSO', 'IN_PREENCHIMENTO']\n",
    "\n",
    "for col in out_cols:\n",
    "    print(qst_raw[col].value_counts())"
   ]
  },
  {
   "cell_type": "code",
   "execution_count": 56,
   "metadata": {},
   "outputs": [],
   "source": [
    "qst_raw.drop(out_cols, inplace=True, axis=1)"
   ]
  },
  {
   "cell_type": "markdown",
   "metadata": {},
   "source": [
    "# Salvando Questionário Socio-Econômico do Aluno Limpo"
   ]
  },
  {
   "cell_type": "code",
   "execution_count": 62,
   "metadata": {},
   "outputs": [],
   "source": [
    "#qst_raw.to_csv('questionário_aluno_limpo.csv', index=False)   14/03/2021"
   ]
  },
  {
   "cell_type": "code",
   "execution_count": 48,
   "metadata": {},
   "outputs": [],
   "source": [
    "qst_aluno = pd.read_csv('questionário_aluno_limpo.csv')#   14/03/2021"
   ]
  },
  {
   "cell_type": "markdown",
   "metadata": {},
   "source": [
    "---"
   ]
  },
  {
   "cell_type": "markdown",
   "metadata": {},
   "source": [
    "# QUESTIONÁRIOS ESCOLAS"
   ]
  },
  {
   "cell_type": "code",
   "execution_count": 591,
   "metadata": {},
   "outputs": [],
   "source": [
    "#qst_esc = pd.read_excel('\\\\Users\\luisr\\Desktop\\Repository\\IBM_courses\\Personal Work\\Data Frames\\Source\\saep\\saep_qst_escola.xlsx')"
   ]
  },
  {
   "cell_type": "code",
   "execution_count": 593,
   "metadata": {},
   "outputs": [],
   "source": [
    "#qst_esc.to_csv('\\\\Users\\luisr\\Desktop\\Repository\\IBM_courses\\Personal Work\\Data Frames\\Source\\saep\\CSV\\saep_qst_escola.csv', index=False)"
   ]
  },
  {
   "cell_type": "markdown",
   "metadata": {},
   "source": [
    "#### Recarregando"
   ]
  },
  {
   "cell_type": "code",
   "execution_count": 8,
   "metadata": {},
   "outputs": [],
   "source": [
    "qst_esc = pd.read_csv('\\\\Users\\luisr\\Desktop\\Repository\\IBM_courses\\Personal Work\\Data Frames\\Source\\saep\\CSV\\saep_qst_escola.csv')"
   ]
  },
  {
   "cell_type": "markdown",
   "metadata": {},
   "source": [
    "### Limpeza de Dados"
   ]
  },
  {
   "cell_type": "code",
   "execution_count": 595,
   "metadata": {},
   "outputs": [],
   "source": [
    "Q_cols = qst_esc.columns[9:].tolist()\n",
    "id_cols = qst_esc.columns[:9].tolist()\n",
    "\n",
    "qst_esc[id_cols] = qst_esc[id_cols].astype(int)\n",
    "qst_esc[Q_cols] = qst_esc[Q_cols].replace('*', '.').astype(str)\n",
    "\n",
    "format_Q_cols = ['ESCOLA_' + col for col in Q_cols]\n",
    "qst_esc.columns = id_cols + format_Q_cols"
   ]
  },
  {
   "cell_type": "code",
   "execution_count": 597,
   "metadata": {},
   "outputs": [],
   "source": [
    "out_cols_esc = ['ID_SAEB', 'ID_REGIAO', 'ID_UF', 'ID_MUNICIPIO', 'ID_DEPENDENCIA_ADM', 'ID_LOCALIZACAO', 'ID_CAPITAL', 'IN_PREENCHIMENTO']"
   ]
  },
  {
   "cell_type": "code",
   "execution_count": 598,
   "metadata": {},
   "outputs": [],
   "source": [
    "qst_esc.drop(out_cols_esc, axis=1, inplace=True)"
   ]
  },
  {
   "cell_type": "markdown",
   "metadata": {},
   "source": [
    "# Caracterização"
   ]
  },
  {
   "cell_type": "code",
   "execution_count": 546,
   "metadata": {},
   "outputs": [],
   "source": [
    "linhas, colunas = [qst_esc.shape[i] for i in [0,1]]\n",
    "celulas = qst_esc.iloc[:, 1:].size\n",
    "celulas_faltando = (qst_esc=='.').sum().sum()/celulas\n",
    "print('Linhas:', linhas, ' - Colunas:', colunas, ' - Questões:', celulas, ' - Questões sem resposta:', round(celulas_faltando*100,2), '%')\n",
    "\n",
    "completos = sum((qst_esc=='.').sum(axis=1)==0)/linhas\n",
    "nao_vazios = sum((qst_esc=='.').sum(axis=1)!=0)/linhas\n",
    "print('Nº de Questionários Completos:', round(completos, 4))\n",
    "print('N° de Questionários Não Vazios:', round(nao_vazios, 4))"
   ]
  },
  {
   "cell_type": "code",
   "execution_count": 549,
   "metadata": {},
   "outputs": [
    {
     "data": {
      "image/png": "[encoded data removed]",
      "text/plain": [
       "<Figure size 864x216 with 1 Axes>"
      ]
     },
     "metadata": {},
     "output_type": "display_data"
    }
   ],
   "source": [
    "((qst_esc=='.').sum(axis=0)/linhas).plot.bar(figsize=(12,3))\n",
    "plt.ylabel('Proporção Questoes sem Resposta')\n",
    "plt.grid()\n",
    "plt.show()"
   ]
  },
  {
   "cell_type": "markdown",
   "metadata": {},
   "source": [
    "# Salvando Dados Limpos Questionários Escola"
   ]
  },
  {
   "cell_type": "code",
   "execution_count": 600,
   "metadata": {},
   "outputs": [],
   "source": [
    "#qst_esc.to_csv('questionarios_escola_limpos.csv', index=False)   #13/03/2021 (23:21)"
   ]
  },
  {
   "cell_type": "markdown",
   "metadata": {},
   "source": [
    "---"
   ]
  },
  {
   "cell_type": "markdown",
   "metadata": {},
   "source": [
    "# QUESTIONÁRIO PROFESSOR"
   ]
  },
  {
   "cell_type": "markdown",
   "metadata": {},
   "source": [
    "#### Conversão de Excel para CSV"
   ]
  },
  {
   "cell_type": "code",
   "execution_count": 78,
   "metadata": {},
   "outputs": [],
   "source": [
    "#qst_prof = pd.read_excel('\\\\Users\\luisr\\Desktop\\Repository\\IBM_courses\\Personal Work\\Data Frames\\Source\\saep\\saep_qst_professor.xlsx')"
   ]
  },
  {
   "cell_type": "code",
   "execution_count": 80,
   "metadata": {},
   "outputs": [],
   "source": [
    "#qst_prof.to_csv('\\\\Users\\luisr\\Desktop\\Repository\\IBM_courses\\Personal Work\\Data Frames\\Source\\saep\\CSV\\saep_qst_professor.csv', index=False)  13/03/2021"
   ]
  },
  {
   "cell_type": "markdown",
   "metadata": {},
   "source": [
    "#### Recarregando"
   ]
  },
  {
   "cell_type": "code",
   "execution_count": 666,
   "metadata": {},
   "outputs": [],
   "source": [
    "qst_prof = pd.read_csv('\\\\Users\\luisr\\Desktop\\Repository\\IBM_courses\\Personal Work\\Data Frames\\Source\\saep\\CSV\\saep_qst_professor.csv')"
   ]
  },
  {
   "cell_type": "markdown",
   "metadata": {},
   "source": [
    "#### Adicionando Coluna \"ID_PROFESSOR\""
   ]
  },
  {
   "cell_type": "code",
   "execution_count": 667,
   "metadata": {},
   "outputs": [],
   "source": [
    "qst_prof['ID_PROFESSOR'] = range(len(qst_prof))\n",
    "qst_prof = qst_prof[['ID_PROFESSOR']+qst_prof.columns.tolist()[:-1]]"
   ]
  },
  {
   "cell_type": "markdown",
   "metadata": {},
   "source": [
    "#### Contando Professores"
   ]
  },
  {
   "cell_type": "code",
   "execution_count": 609,
   "metadata": {},
   "outputs": [
    {
     "data": {
      "image/png": "[encoded data removed]",
      "text/plain": [
       "<Figure size 432x288 with 1 Axes>"
      ]
     },
     "metadata": {},
     "output_type": "display_data"
    }
   ],
   "source": [
    "contagem_escolas = qst_prof['ID_ESCOLA'].value_counts()\n",
    "sns.distplot(contagem_escolas)\n",
    "plt.xlabel('N° de Professores por Escola')\n",
    "plt.show()"
   ]
  },
  {
   "cell_type": "markdown",
   "metadata": {},
   "source": [
    "#### Contando Células Vazias"
   ]
  },
  {
   "cell_type": "code",
   "execution_count": 668,
   "metadata": {},
   "outputs": [
    {
     "name": "stderr",
     "output_type": "stream",
     "text": [
      "C:\\Users\\luisr\\anaconda3\\lib\\site-packages\\pandas\\core\\frame.py:4166: SettingWithCopyWarning: \n",
      "A value is trying to be set on a copy of a slice from a DataFrame\n",
      "\n",
      "See the caveats in the documentation: https://pandas.pydata.org/pandas-docs/stable/user_guide/indexing.html#returning-a-view-versus-a-copy\n",
      "  return super().replace(\n"
     ]
    },
    {
     "name": "stdout",
     "output_type": "stream",
     "text": [
      "Porcentagem de questionários vazios: 22.97 %\n",
      "Nº de Células Vazias: 3249907\n",
      "Porcentagem de Células Vazias: 8.77 %\n"
     ]
    }
   ],
   "source": [
    "Q_cols = qst_prof.columns[12:]\n",
    "qst_prof[Q_cols].replace('*', '.', inplace=True)\n",
    "\n",
    "vazio_df = qst_prof[Q_cols]=='.'\n",
    "vazio_por_linha = vazio_df.mean(axis=1)\n",
    "\n",
    "print('Porcentagem de questionários vazios:', round((vazio_por_linha==1).sum() / len(vazio_por_linha)*100, 2), '%')\n",
    "\n",
    "nao_vazio = qst_prof.replace('.', np.nan).dropna(how='all', subset=Q_cols, axis=0).replace(np.nan, '.')\n",
    "celulas_vazias = (nao_vazio[Q_cols]=='.').sum().sum()\n",
    "\n",
    "print('Nº de Células Vazias:', celulas_vazias)\n",
    "print('Porcentagem de Células Vazias:', round(celulas_vazias/nao_vazio[Q_cols].size*100, 2), '%')\n",
    "\n",
    "#vazio_por_col = (nao_vazio[Q_cols]=='.').mean(axis=0)\n",
    "#vazio_por_col.sort_values().plot.bar(figsize=(16,3))\n",
    "\n",
    "#plt.show()"
   ]
  },
  {
   "cell_type": "markdown",
   "metadata": {},
   "source": [
    "### Eliminando Colunas"
   ]
  },
  {
   "cell_type": "code",
   "execution_count": 673,
   "metadata": {},
   "outputs": [
    {
     "data": {
      "text/plain": [
       "1    98783\n",
       "2    72575\n",
       "Name: ID_TURMA, dtype: int64"
      ]
     },
     "execution_count": 673,
     "metadata": {},
     "output_type": "execute_result"
    }
   ],
   "source": [
    "prof_out_cols = ['ID_SAEB', 'ID_REGIAO', 'ID_UF', 'ID_MUNICIPIO', 'ID_DEPENDENCIA_ADM', 'ID_LOCALIZACAO', 'ID_CAPITAL', 'IN_PREENCHIMENTO']\n",
    "prof_final = nao_vazio.drop(prof_out_cols, axis=1)\n",
    "prof_final['ID_TURMA'].value_counts().value_counts()"
   ]
  },
  {
   "cell_type": "markdown",
   "metadata": {},
   "source": [
    "### Excluindo Questionários dos Professores das Turmas com mais de um professor (com 2)."
   ]
  },
  {
   "cell_type": "code",
   "execution_count": 674,
   "metadata": {},
   "outputs": [
    {
     "data": {
      "text/plain": [
       "0"
      ]
     },
     "execution_count": 674,
     "metadata": {},
     "output_type": "execute_result"
    }
   ],
   "source": [
    "uni_turma = prof_final.drop_duplicates(subset=['ID_TURMA']).reset_index(drop=True)\n",
    "out_prof = prof_final[~prof_final.index.isin(uni_turma.index)]\n",
    "sum(uni_turma['ID_TURMA'].value_counts()!=1)"
   ]
  },
  {
   "cell_type": "markdown",
   "metadata": {},
   "source": [
    "#### Formatando Colunas"
   ]
  },
  {
   "cell_type": "code",
   "execution_count": 74,
   "metadata": {},
   "outputs": [],
   "source": [
    "cols_prof = uni_turma.columns[:4].tolist() + ('PROFESSOR_'+uni_turma.columns[4:]).tolist()\n",
    "uni_turma.columns = cols_prof"
   ]
  },
  {
   "cell_type": "markdown",
   "metadata": {},
   "source": [
    "## Salvando Questionários Professor Limpo"
   ]
  },
  {
   "cell_type": "code",
   "execution_count": 76,
   "metadata": {},
   "outputs": [],
   "source": [
    "#uni_turma.to_csv('questionarios_professor_limpos.csv', index=False)  # 13/03/2021 (00:54)"
   ]
  },
  {
   "cell_type": "code",
   "execution_count": 65,
   "metadata": {},
   "outputs": [],
   "source": [
    "#uni_turma = pd.read_csv('questionarios_professor_limpos.csv')  # 13/03/2021 (00:54)"
   ]
  },
  {
   "cell_type": "markdown",
   "metadata": {},
   "source": [
    "---"
   ]
  },
  {
   "cell_type": "markdown",
   "metadata": {},
   "source": [
    "# QUESTIONÁRIO DIRETOR"
   ]
  },
  {
   "cell_type": "code",
   "execution_count": 244,
   "metadata": {},
   "outputs": [],
   "source": [
    "#qst_dir = pd.read_excel('\\\\Users\\luisr\\Desktop\\Repository\\IBM_courses\\Personal Work\\Data Frames\\Source\\saep\\saep_qst_diretor.xlsx')"
   ]
  },
  {
   "cell_type": "code",
   "execution_count": 247,
   "metadata": {},
   "outputs": [],
   "source": [
    "#qst_dir.to_csv('\\\\Users\\luisr\\Desktop\\Repository\\IBM_courses\\Personal Work\\Data Frames\\Source\\saep\\CSV\\saep_qst_diretor.csv', index=False)"
   ]
  },
  {
   "cell_type": "markdown",
   "metadata": {},
   "source": [
    "#### Recarregando"
   ]
  },
  {
   "cell_type": "code",
   "execution_count": 10,
   "metadata": {},
   "outputs": [],
   "source": [
    "qst_dir = pd.read_csv('\\\\Users\\luisr\\Desktop\\Repository\\IBM_courses\\Personal Work\\Data Frames\\Source\\saep\\CSV\\saep_qst_diretor.csv')"
   ]
  },
  {
   "cell_type": "markdown",
   "metadata": {},
   "source": [
    "### Limpeza de Dados"
   ]
  },
  {
   "cell_type": "code",
   "execution_count": 567,
   "metadata": {},
   "outputs": [],
   "source": [
    "#escolas = qst_dir['ID_ESCOLA'].value_counts()  # Cada linha uma escola (um diretor)"
   ]
  },
  {
   "cell_type": "code",
   "execution_count": 586,
   "metadata": {},
   "outputs": [
    {
     "name": "stdout",
     "output_type": "stream",
     "text": [
      "Porcentagem Questionários não vazios 98.05 %\n",
      "Porcentagem Células vazias 2.82 %\n"
     ]
    }
   ],
   "source": [
    "Q_cols = qst_dir.columns[9:]\n",
    "\n",
    "nao_vazio = qst_dir[Q_cols].replace('*', '.').replace('.', np.nan).dropna(how='all').replace(np.nan, '.')\n",
    "\n",
    "print('Porcentagem Questionários não vazios', round(len(nao_vazio)/len(qst_dir[Q_cols])*100,2), '%')\n",
    "\n",
    "print('Porcentagem Células vazias', round((nao_vazio=='.').sum().sum()/(qst_dir[Q_cols].size)*100,2), '%')\n",
    "\n",
    "qst_dir_nao_vazio = qst_dir.loc[nao_vazio.index]"
   ]
  },
  {
   "cell_type": "code",
   "execution_count": 587,
   "metadata": {},
   "outputs": [],
   "source": [
    "out_cols_dir = ['ID_SAEB', 'ID_REGIAO', 'ID_UF', 'ID_MUNICIPIO', 'ID_DEPENDENCIA_ADM', 'ID_LOCALIZACAO', 'ID_CAPITAL', 'IN_PREENCHIMENTO']\n",
    "qst_dir_final = qst_dir_nao_vazio.drop(out_cols_dir, axis=1)\n",
    "qst_dir_final.columns = ['ID_ESCOLA'] + ('DIRETOR_'+qst_dir_final.columns[1:]).tolist()"
   ]
  },
  {
   "cell_type": "markdown",
   "metadata": {},
   "source": [
    "## Salvando Questionários Diretor Limpos"
   ]
  },
  {
   "cell_type": "code",
   "execution_count": 604,
   "metadata": {},
   "outputs": [],
   "source": [
    "#qst_dir_final.to_csv('questionários_direto_limpos.csv', index=False)  # 13/03/2021 (23:36)"
   ]
  },
  {
   "cell_type": "markdown",
   "metadata": {},
   "source": [
    "---"
   ]
  },
  {
   "cell_type": "markdown",
   "metadata": {},
   "source": [
    "# RESULTADO ALUNO (Performance Escolar)"
   ]
  },
  {
   "cell_type": "markdown",
   "metadata": {},
   "source": [
    "### Conversão para formato \"Valores Separados por Virgula (CSV)\""
   ]
  },
  {
   "cell_type": "code",
   "execution_count": 204,
   "metadata": {},
   "outputs": [],
   "source": [
    "#res_alun = pd.read_excel('\\\\Users\\luisr\\Desktop\\Repository\\IBM_courses\\Personal Work\\Data Frames\\Source\\saep\\saep_res_aluno.xlsx')\n",
    "\n",
    "#res_alun.to_csv('\\\\Users\\luisr\\Desktop\\Repository\\IBM_courses\\Personal Work\\Data Frames\\Source\\saep\\CSV\\saep_res_aluno.csv', index=False)  12/03/2021 (17:00)"
   ]
  },
  {
   "cell_type": "markdown",
   "metadata": {},
   "source": [
    "### Carregando Dados"
   ]
  },
  {
   "cell_type": "code",
   "execution_count": 552,
   "metadata": {},
   "outputs": [
    {
     "name": "stderr",
     "output_type": "stream",
     "text": [
      "C:\\Users\\luisr\\anaconda3\\lib\\site-packages\\IPython\\core\\interactiveshell.py:3071: DtypeWarning: Columns (9) have mixed types.Specify dtype option on import or set low_memory=False.\n",
      "  has_raised = await self.run_ast_nodes(code_ast.body, cell_name,\n"
     ]
    }
   ],
   "source": [
    "res_alun = pd.read_csv('\\\\Users\\luisr\\Desktop\\Repository\\IBM_courses\\Personal Work\\Data Frames\\Source\\saep\\CSV\\saep_res_aluno.csv')"
   ]
  },
  {
   "cell_type": "markdown",
   "metadata": {},
   "source": [
    "# Limpeza de Dados"
   ]
  },
  {
   "cell_type": "markdown",
   "metadata": {},
   "source": [
    "#### Formatação da Marcação de Células Vazias & Conversão de Tipo"
   ]
  },
  {
   "cell_type": "code",
   "execution_count": 555,
   "metadata": {},
   "outputs": [],
   "source": [
    "notas_cols = res_alun.columns[-10:-1].tolist() #Colunas Correspondentes às Notas dos Alunos\n",
    "\n",
    "notas = res_alun[notas_cols]\n",
    "\n",
    "notas_float = notas.replace(' ', np.nan).astype(float)\n",
    "\n",
    "res_alun_clean = res_alun.copy()\n",
    "res_alun_clean[notas_cols] = notas_float\n",
    "\n",
    "#res_alun_clean.dtypes"
   ]
  },
  {
   "cell_type": "markdown",
   "metadata": {},
   "source": [
    "#### Eliminando Linhas sem Nota"
   ]
  },
  {
   "cell_type": "code",
   "execution_count": 556,
   "metadata": {},
   "outputs": [
    {
     "name": "stdout",
     "output_type": "stream",
     "text": [
      "Número de Células Vazias - Notas não vazias: 0\n",
      "Numéro de Linhas Completas (Alunos): 851842\n"
     ]
    }
   ],
   "source": [
    "res_alun_nao_vazio = res_alun_clean.dropna(how='all', subset=notas_cols)\n",
    "print('Número de Células Vazias - Notas não vazias:', res_alun_nao_vazio[notas_cols].isnull().sum().sum())\n",
    "print('Numéro de Linhas Completas (Alunos):', len(res_alun_nao_vazio))"
   ]
  },
  {
   "cell_type": "markdown",
   "metadata": {},
   "source": [
    "#### Contando Células Vazias"
   ]
  },
  {
   "cell_type": "code",
   "execution_count": 558,
   "metadata": {},
   "outputs": [
    {
     "name": "stdout",
     "output_type": "stream",
     "text": [
      "Porcentagem de Células Vazias na Coluna \"ID_TURNO\": 0.0 %\n"
     ]
    },
    {
     "data": {
      "image/png": "[encoded data removed]",
      "text/plain": [
       "<Figure size 432x288 with 1 Axes>"
      ]
     },
     "metadata": {},
     "output_type": "display_data"
    }
   ],
   "source": [
    "print('Porcentagem de Células Vazias na Coluna \"ID_TURNO\":', round((res_alun_clean['ID_TURNO']==-1).sum()/len(res_alun_clean)*100, 2), '%')\n",
    "\n",
    "vazio_p_col = res_alun_clean.isnull().mean().plot.bar()"
   ]
  },
  {
   "cell_type": "code",
   "execution_count": 562,
   "metadata": {},
   "outputs": [],
   "source": [
    "keep_cols_res_aluno = ['ID_ALUNO', 'PESO', 'PROFICIENCIA_LP',\n",
    "                       'DESVIO_PADRAO_LP', 'PROFICIENCIA_LP_SAEB', 'DESVIO_PADRAO_LP_SAEB',\n",
    "                       'PROFICIENCIA_MT', 'DESVIO_PADRAO_MT', 'PROFICIENCIA_MT_SAEB',\n",
    "                       'DESVIO_PADRAO_MT_SAEB']"
   ]
  },
  {
   "cell_type": "code",
   "execution_count": 564,
   "metadata": {},
   "outputs": [],
   "source": [
    "res_alun_final = res_alun_nao_vazio[keep_cols_res_aluno]"
   ]
  },
  {
   "cell_type": "markdown",
   "metadata": {},
   "source": [
    "##### Observação: Todas as colunas não vazias estão completas (com exceção de \"ID_TURNO\")"
   ]
  },
  {
   "cell_type": "markdown",
   "metadata": {},
   "source": [
    "# Salvando \"Resultados Aluno\" Limpo Final"
   ]
  },
  {
   "cell_type": "code",
   "execution_count": 565,
   "metadata": {},
   "outputs": [],
   "source": [
    "#res_alun_final.to_csv('\\\\Users\\luisr\\Desktop\\Repository\\IBM_courses\\Personal Work\\Data Frames\\Source\\saep\\CSV\\saep_res_aluno_clean.csv', index=False)   #13/03/2021 (23:32)"
   ]
  },
  {
   "cell_type": "markdown",
   "metadata": {},
   "source": [
    "#### Recarregando"
   ]
  },
  {
   "cell_type": "code",
   "execution_count": 2,
   "metadata": {},
   "outputs": [],
   "source": [
    "res_alun_nao_vazio = pd.read_csv('\\\\Users\\luisr\\Desktop\\Repository\\IBM_courses\\Personal Work\\Data Frames\\Source\\saep\\CSV\\saep_res_aluno_clean.csv')  #12/03/2021 (17:38)"
   ]
  },
  {
   "cell_type": "markdown",
   "metadata": {},
   "source": [
    "---"
   ]
  },
  {
   "cell_type": "markdown",
   "metadata": {},
   "source": [
    "# Resultado Escola"
   ]
  },
  {
   "cell_type": "code",
   "execution_count": 93,
   "metadata": {},
   "outputs": [],
   "source": [
    "#res_esc = pd.read_excel('\\\\Users\\luisr\\Desktop\\Repository\\IBM_courses\\Personal Work\\Data Frames\\Source\\saep\\saep_res_escola.xlsx')"
   ]
  },
  {
   "cell_type": "code",
   "execution_count": 12,
   "metadata": {},
   "outputs": [
    {
     "ename": "NameError",
     "evalue": "name 'res_esc' is not defined",
     "output_type": "error",
     "traceback": [
      "\u001b[1;31m---------------------------------------------------------------------------\u001b[0m",
      "\u001b[1;31mNameError\u001b[0m                                 Traceback (most recent call last)",
      "\u001b[1;32m<ipython-input-12-7fea9bfff74d>\u001b[0m in \u001b[0;36m<module>\u001b[1;34m\u001b[0m\n\u001b[1;32m----> 1\u001b[1;33m \u001b[0mres_esc\u001b[0m\u001b[1;33m.\u001b[0m\u001b[0mto_csv\u001b[0m\u001b[1;33m(\u001b[0m\u001b[1;34m'\\\\Users\\luisr\\Desktop\\Repository\\IBM_courses\\Personal Work\\Data Frames\\Source\\saep\\CSV\\saep_res_escola.csv'\u001b[0m\u001b[1;33m)\u001b[0m\u001b[1;33m\u001b[0m\u001b[1;33m\u001b[0m\u001b[0m\n\u001b[0m",
      "\u001b[1;31mNameError\u001b[0m: name 'res_esc' is not defined"
     ]
    }
   ],
   "source": [
    "#res_esc.to_csv('\\\\Users\\luisr\\Desktop\\Repository\\IBM_courses\\Personal Work\\Data Frames\\Source\\saep\\CSV\\saep_res_escola.csv')"
   ]
  },
  {
   "cell_type": "markdown",
   "metadata": {},
   "source": [
    "### Recarregando"
   ]
  },
  {
   "cell_type": "code",
   "execution_count": 15,
   "metadata": {},
   "outputs": [],
   "source": [
    "#res_esc = pd.read_csv('\\\\Users\\luisr\\Desktop\\Repository\\IBM_courses\\Personal Work\\Data Frames\\Source\\saep\\CSV\\saep_res_escola.csv', index_col=0)"
   ]
  },
  {
   "cell_type": "code",
   "execution_count": 32,
   "metadata": {},
   "outputs": [
    {
     "data": {
      "text/plain": [
       "True"
      ]
     },
     "execution_count": 32,
     "metadata": {},
     "output_type": "execute_result"
    }
   ],
   "source": [
    "len(res_esc.groupby(['ID_ESCOLA', 'ID_SERIE']).count()) == len(res_esc)"
   ]
  },
  {
   "cell_type": "markdown",
   "metadata": {},
   "source": [
    "#### Sumário dos Dádos"
   ]
  },
  {
   "cell_type": "code",
   "execution_count": 95,
   "metadata": {},
   "outputs": [
    {
     "name": "stdout",
     "output_type": "stream",
     "text": [
      "Combinações únicas de escolas e séries: 72808  - Número de Linhas: 72808\n",
      "\n",
      "Porcentagem de escolas sem nota: 2.13 %\n",
      "\n",
      "Linhas sem nota removidas!\n"
     ]
    }
   ],
   "source": [
    "keep_cols = ['ID_ESCOLA', 'ID_SERIE', 'NU_MATRICULADOS_CENSO', 'NU_PRESENTES', 'TAXA_PARTICIPACAO', 'MEDIA_LP', 'MEDIA_MT']\n",
    "\n",
    "keep_res_esc = res_esc[keep_cols].copy()\n",
    "\n",
    "print('Combinações únicas de escolas e séries:', len(keep_res_esc.groupby(['ID_ESCOLA', 'ID_SERIE']).sum()), ' - Número de Linhas:', len(res_esc)) # Número de linhas igual a combinações de Escolas e Séries Únicas\n",
    "print('')\n",
    "keep_res_esc[keep_cols[-2:]] = keep_res_esc[keep_cols[-2:]].replace(' ', np.nan).astype(float)\n",
    "\n",
    "print('Porcentagem de escolas sem nota:', round(keep_res_esc[keep_cols[-2:]].isnull().sum()[0]/len(keep_res_esc)*100, 2), '%')\n",
    "print('')\n",
    "keep_res_esc.dropna(how='all', subset=keep_cols[-2:], inplace=True)\n",
    "\n",
    "print('Linhas sem nota removidas!')"
   ]
  },
  {
   "cell_type": "markdown",
   "metadata": {},
   "source": [
    "###### Obs: Uma Linha por Escola"
   ]
  },
  {
   "cell_type": "code",
   "execution_count": 100,
   "metadata": {},
   "outputs": [],
   "source": [
    "keep_res_esc.columns = keep_res_esc.columns[:2].tolist() + ('ESCOLAS_' + keep_res_esc.columns[2:]).tolist()"
   ]
  },
  {
   "cell_type": "markdown",
   "metadata": {},
   "source": [
    "## Salvando Resultados Escola Limpos"
   ]
  },
  {
   "cell_type": "code",
   "execution_count": 103,
   "metadata": {},
   "outputs": [],
   "source": [
    "#keep_res_esc.to_csv('resultado_escola_limpo.csv', index=False)  # 13/03/2021 (21:21)"
   ]
  },
  {
   "cell_type": "markdown",
   "metadata": {},
   "source": [
    "---"
   ]
  },
  {
   "cell_type": "markdown",
   "metadata": {},
   "source": [
    "# Resultados Município"
   ]
  },
  {
   "cell_type": "code",
   "execution_count": 33,
   "metadata": {},
   "outputs": [],
   "source": [
    "#res_muni = pd.read_excel('\\\\Users\\luisr\\Desktop\\Repository\\IBM_courses\\Personal Work\\Data Frames\\Source\\saep\\saep_res_municipio.xlsx')"
   ]
  },
  {
   "cell_type": "code",
   "execution_count": 34,
   "metadata": {},
   "outputs": [],
   "source": [
    "#res_muni.to_csv('\\\\Users\\luisr\\Desktop\\Repository\\IBM_courses\\Personal Work\\Data Frames\\Source\\saep\\CSV\\saep_res_municipio.csv', index=False)"
   ]
  },
  {
   "cell_type": "code",
   "execution_count": 86,
   "metadata": {},
   "outputs": [
    {
     "name": "stdout",
     "output_type": "stream",
     "text": [
      "Cada linha é uma combinação única de: ['ID_MUNICIPIO', 'ID_TIPO_REDE', 'ID_SERIE', 'ID_LOCALIZACAO']\n",
      "Combinações únicas: 60608  - Total linhas: 60608\n",
      "\n",
      "Células sem nota por Coluna:\n",
      "MEDIA_LP          972\n",
      "MEDIA_MT          972\n",
      "ERRO_PADRAO_LP    972\n",
      "ERRO_PADRAO_MT    972\n",
      "dtype: int64\n",
      "\n",
      "Células sem nota Removidas!\n",
      "MEDIA_LP          0\n",
      "MEDIA_MT          0\n",
      "ERRO_PADRAO_LP    0\n",
      "ERRO_PADRAO_MT    0\n",
      "dtype: int64\n"
     ]
    }
   ],
   "source": [
    "keep_cols_muni = ['ID_MUNICIPIO', 'ID_TIPO_REDE', 'ID_LOCALIZACAO',\n",
    "                  'ID_SERIE', 'NU_MATRICULADOS_CENSO', 'NU_PRESENTES',\n",
    "                  'TAXA_PARTICIPACAO', 'MEDIA_LP', 'MEDIA_MT',\n",
    "                  'ERRO_PADRAO_LP', 'ERRO_PADRAO_MT']\n",
    "\n",
    "res_muni_keep = res_muni[keep_cols_muni].copy()\n",
    "\n",
    "print('Cada linha é uma combinação única de: {}'.format(['ID_MUNICIPIO', 'ID_TIPO_REDE', 'ID_SERIE', 'ID_LOCALIZACAO']))\n",
    "print('Combinações únicas:', len(res_muni_keep.groupby(['ID_MUNICIPIO', 'ID_TIPO_REDE', 'ID_SERIE', 'ID_LOCALIZACAO']).sum()), ' - Total linhas:', len(res_muni_keep))\n",
    "print('')\n",
    "notas_muni_cols = res_muni_keep.columns[-4:]\n",
    "\n",
    "res_muni_keep[notas_muni_cols] = res_muni_keep[notas_muni_cols].replace(' ', np.nan).astype(float)\n",
    "\n",
    "print('Células sem nota por Coluna:')\n",
    "print(res_muni_keep[notas_muni_cols].isnull().sum())\n",
    "print('')\n",
    "res_muni_keep.dropna(how='all', subset=notas_muni_cols, inplace=True)\n",
    "\n",
    "print('Células sem nota Removidas!')\n",
    "print(res_muni_keep[notas_muni_cols].isnull().sum())"
   ]
  },
  {
   "cell_type": "code",
   "execution_count": 90,
   "metadata": {},
   "outputs": [],
   "source": [
    "res_muni_keep.columns = res_muni_keep.columns[:4].tolist() + ('MUNICIPIO_'+res_muni_keep.columns[4:]).tolist()"
   ]
  },
  {
   "cell_type": "code",
   "execution_count": 56,
   "metadata": {},
   "outputs": [],
   "source": [
    "res_muni_keep.rename(columns={'ID_TIPO_REDE':'ID_DEPENDENCIA_ADM'}, inplace=True)"
   ]
  },
  {
   "cell_type": "markdown",
   "metadata": {},
   "source": [
    "# Salvando Resultados Município"
   ]
  },
  {
   "cell_type": "code",
   "execution_count": 59,
   "metadata": {},
   "outputs": [],
   "source": [
    "#res_muni_keep.to_csv('resultados_municipio_limpos.csv', index=False)   #14/03/2021 (15:52)"
   ]
  },
  {
   "cell_type": "markdown",
   "metadata": {},
   "source": [
    "#### Recarregando"
   ]
  },
  {
   "cell_type": "code",
   "execution_count": 60,
   "metadata": {},
   "outputs": [],
   "source": [
    "#res_muni_keep = pd.read_csv('resultados_municipio_limpos.csv')   #14/03/2021 (02:00)"
   ]
  },
  {
   "cell_type": "markdown",
   "metadata": {},
   "source": [
    "---"
   ]
  },
  {
   "cell_type": "markdown",
   "metadata": {},
   "source": [
    "# Tabela de Pesos"
   ]
  },
  {
   "cell_type": "code",
   "execution_count": 463,
   "metadata": {},
   "outputs": [],
   "source": [
    "#res_pesos = pd.read_excel('\\\\Users\\luisr\\Desktop\\Repository\\IBM_courses\\Personal Work\\Data Frames\\Source\\saep\\saep_pesos.xlsx')"
   ]
  },
  {
   "cell_type": "code",
   "execution_count": 503,
   "metadata": {},
   "outputs": [
    {
     "name": "stdout",
     "output_type": "stream",
     "text": [
      "Cada linha é uma combinação única de: ID_ESCOLA, ID_SERIE, ID_TURMA\n",
      "Número de Linhas: 184518\n",
      "\n",
      "Proporção celulas vazias por coluna:\n",
      "PESO_ESCOLA    0.005409\n",
      "PESO_TURMA     0.015077\n",
      "dtype: float64\n",
      "\n",
      "Porcentagem de linhas sem peso:  98.49 %\n",
      "\n",
      "Linhas sem peso Removidas!\n",
      "PESO_ESCOLA    0.0\n",
      "PESO_TURMA     0.0\n",
      "dtype: float64\n"
     ]
    }
   ],
   "source": [
    "if len(res_pesos.groupby(['ID_ESCOLA', 'ID_SERIE', 'ID_TURMA']).sum())==len(res_pesos):\n",
    "    print('Cada linha é uma combinação única de: {}'.format(', '.join(['ID_ESCOLA', 'ID_SERIE', 'ID_TURMA'])))\n",
    "\n",
    "print('Número de Linhas:', len(res_pesos))\n",
    "print('')\n",
    "\n",
    "keep_cols_pesos = ['ID_ESCOLA', 'ID_TURMA', 'ID_SERIE', 'PARTICIPANTES_ESCOLA', 'PESO_ESCOLA', 'PARTICIPANTES_TURMA', 'PESO_TURMA']\n",
    "res_pesos_keep = res_pesos[keep_cols_pesos].copy()\n",
    "res_pesos_keep[['PESO_ESCOLA', 'PESO_TURMA']] = res_pesos_keep[['PESO_ESCOLA', 'PESO_TURMA']].replace(' ', np.nan).astype(float)\n",
    "\n",
    "print('Proporção celulas vazias por coluna:')\n",
    "print(res_pesos_keep[['PESO_ESCOLA', 'PESO_TURMA']].isnull().mean())\n",
    "print('')\n",
    "\n",
    "pesos_nao_vazio = res_pesos_keep.dropna(how='any', subset=['PESO_ESCOLA', 'PESO_TURMA'])\n",
    "\n",
    "print('Porcentagem de linhas sem peso: ', round(len(pesos_nao_vazio)/len(res_pesos_keep)*100, 2), '%')\n",
    "print('')\n",
    "\n",
    "print('Linhas sem peso Removidas!')\n",
    "print(pesos_nao_vazio[['PESO_ESCOLA', 'PESO_TURMA']].isnull().mean())"
   ]
  },
  {
   "cell_type": "markdown",
   "metadata": {},
   "source": [
    "## Salvando Pesos Limpos"
   ]
  },
  {
   "cell_type": "code",
   "execution_count": null,
   "metadata": {},
   "outputs": [],
   "source": [
    "#pesos_nao_vazio.to_csv('pesos_limpos.csv', index=False)"
   ]
  },
  {
   "cell_type": "code",
   "execution_count": 64,
   "metadata": {},
   "outputs": [],
   "source": [
    "#pesos_nao_vazio = pd.read_csv('pesos_limpos.csv')"
   ]
  },
  {
   "cell_type": "markdown",
   "metadata": {},
   "source": [
    "---"
   ]
  },
  {
   "cell_type": "markdown",
   "metadata": {},
   "source": [
    "# PREPARANDO TABELAS PARA UNIÃO"
   ]
  },
  {
   "cell_type": "markdown",
   "metadata": {},
   "source": [
    "#### Carregando Tabelas"
   ]
  },
  {
   "cell_type": "code",
   "execution_count": 202,
   "metadata": {},
   "outputs": [],
   "source": [
    "qst_aluno = pd.read_csv('questionário_aluno_limpo.csv')\n",
    "qst_esc = pd.read_csv('questionarios_escola_limpos.csv')\n",
    "qst_prof = pd.read_csv('questionarios_professor_limpos.csv')  # 13/03/2021\n",
    "qst_dir = pd.read_csv('questionários_direto_limpos.csv')  # 13/03/2021 (20:49)\n",
    "res_aluno = pd.read_csv('\\\\Users\\luisr\\Desktop\\Repository\\IBM_courses\\Personal Work\\Data Frames\\Source\\saep\\CSV\\saep_res_aluno_clean.csv')   #12/03/2021 (17:38)\n",
    "res_esc = pd.read_csv('resultado_escola_limpo.csv')  #13/03/2021 (21:21)\n",
    "res_muni = pd.read_csv('resultados_municipio_limpos.csv')\n",
    "pesos = pd.read_csv('pesos_limpos.csv')"
   ]
  },
  {
   "cell_type": "code",
   "execution_count": 210,
   "metadata": {},
   "outputs": [],
   "source": [
    "tabelas = [qst_aluno, res_aluno, res_esc, res_muni, pesos, qst_esc, qst_prof, qst_dir]"
   ]
  },
  {
   "cell_type": "code",
   "execution_count": 214,
   "metadata": {},
   "outputs": [],
   "source": [
    "tabelas_nomes = ['QUESTIONÁRIO ALUNO', 'RESULTADO ALUNO', 'RESULTADO ESCOLA', 'RESULTADO MUNICIPIO', 'PESOS', 'QUESTIONÁRIO ESCOLA', 'QUESTIONÁRIO PROFESSOR', 'QUESTIONÁRIOS DIRETOR']"
   ]
  },
  {
   "cell_type": "markdown",
   "metadata": {},
   "source": [
    "#### Imprimindo Colunas das Tabelas *"
   ]
  },
  {
   "cell_type": "code",
   "execution_count": null,
   "metadata": {},
   "outputs": [],
   "source": [
    "for i in range(len(tabelas)):\n",
    "#    if i==0 or i>3:\n",
    "    print(np.array(tabelas[i].columns))"
   ]
  },
  {
   "cell_type": "markdown",
   "metadata": {},
   "source": [
    "#### Listando Chaves de Identidade Para Unir Tabelas *"
   ]
  },
  {
   "cell_type": "code",
   "execution_count": 212,
   "metadata": {},
   "outputs": [],
   "source": [
    "key_cols = []\n",
    "uni_cols_0 = set(tabelas[0].columns.tolist())\n",
    "\n",
    "for i in range(len(tabelas)-1):\n",
    "    \n",
    "    key_cols.append(list(uni_cols_0.intersection(tabelas[i+1].columns)))"
   ]
  },
  {
   "cell_type": "code",
   "execution_count": 213,
   "metadata": {},
   "outputs": [
    {
     "data": {
      "text/plain": [
       "{'qst_aluno': ['ID_ALUNO'],\n",
       " 'res_aluno': ['ID_SERIE', 'ID_ESCOLA'],\n",
       " 'res_esc': ['ID_MUNICIPIO',\n",
       "  'ID_DEPENDENCIA_ADM',\n",
       "  'ID_LOCALIZACAO',\n",
       "  'ID_SERIE'],\n",
       " 'res_muni': ['ID_TURMA', 'ID_SERIE', 'ID_ESCOLA'],\n",
       " 'pesos': ['ID_ESCOLA'],\n",
       " 'qst_esc': ['ID_TURMA', 'ID_SERIE', 'ID_ESCOLA'],\n",
       " 'qst_prof': ['ID_ESCOLA']}"
      ]
     },
     "execution_count": 213,
     "metadata": {},
     "output_type": "execute_result"
    }
   ],
   "source": [
    "{i:j for i,j in zip(tabelas_nomes, key_cols)}"
   ]
  },
  {
   "cell_type": "markdown",
   "metadata": {},
   "source": [
    "---"
   ]
  },
  {
   "cell_type": "markdown",
   "metadata": {},
   "source": [
    "# Esquema para Combinar Tabelas Progressivamente"
   ]
  },
  {
   "cell_type": "markdown",
   "metadata": {},
   "source": [
    "### Base para Combinações: Questionários Aluno"
   ]
  },
  {
   "cell_type": "code",
   "execution_count": 20,
   "metadata": {},
   "outputs": [],
   "source": [
    "df0 = tabelas[0].copy()\n",
    "df_history = [df0]"
   ]
  },
  {
   "cell_type": "markdown",
   "metadata": {},
   "source": [
    "### Combinando"
   ]
  },
  {
   "cell_type": "code",
   "execution_count": null,
   "metadata": {},
   "outputs": [],
   "source": [
    "print('RELATÓRIO DE COMBINAÇÃO DAS TABELAS SAEP 2011')\n",
    "print('')\n",
    "print(''.join(['-']*80))  # Linha pontilhada\n",
    "\n",
    "n_alunos = len(df_history[0])\n",
    "\n",
    "for i in range(len(df_history)-1, 7):\n",
    "    \n",
    "    print('')\n",
    "    print('Etapa Atual: {} ({}/7)'.format(tabelas_nomes[i+1].upper(), i+1))\n",
    "    print('Identidades:', key_cols[i])\n",
    "\n",
    "    print('')\n",
    "    print('Retornando tabela atual...')\n",
    "    df = df_history[i]\n",
    "    \n",
    "    print('Combinando nova tabela...')\n",
    "    time.sleep(1)\n",
    "    df_new = pd.merge(df, tabelas[i+1], on=key_cols[i])\n",
    "    \n",
    "    print('Salvando nova tabela...')\n",
    "    name = '+'.join(tabelas_nomes[:i+2])\n",
    "    path = '\\\\Users\\luisr\\Desktop\\Repository\\IBM_courses\\Personal Work\\\\Notebooks\\Education\\Preprocessing\\Questionário_aluno_preprocessing\\Tabelas Combinadas\\{}.csv'.format(name)\n",
    "    time.sleep(1)\n",
    "    df_new.to_csv(path, index=False)\n",
    "    \n",
    "    print('Adicionando nova tabela ao histórico...')\n",
    "    time.sleep(1)\n",
    "    df_history.append(df_new)\n",
    "    \n",
    "    print('Concluido!')\n",
    "    print('')\n",
    "    print(''.join(['-']*80))\n",
    "    if input('Continuar?')=='exit': break\n",
    "\n",
    "print('Combinação das Tabelas SAEP 2011 Concluida.')"
   ]
  },
  {
   "cell_type": "markdown",
   "metadata": {},
   "source": [
    "### Lendo Tabelas do Histórico de Combinações"
   ]
  },
  {
   "cell_type": "code",
   "execution_count": 33,
   "metadata": {},
   "outputs": [],
   "source": [
    "paths = []\n",
    "for i in range(7):\n",
    "\n",
    "    name = '+'.join(tabelas_nomes[:i+2])\n",
    "    path = '\\\\Users\\luisr\\Desktop\\Repository\\IBM_courses\\Personal Work\\\\Notebooks\\Education\\Preprocessing\\Questionário_aluno_preprocessing\\Tabelas Combinadas\\{}.csv'.format(name)\n",
    "    paths.append(path)\n",
    "\n",
    "    time.sleep(1)\n",
    "    df = pd.read_csv(path)\n",
    "    time.sleep(1)\n",
    "    df_history.append(df)\n",
    "    \n",
    "    clear_output(wait=True)\n",
    "    print(i+1,'/', 6)\n",
    "\n",
    "print('Leitura do Histórico de Combinações Concluida. N° de Tabelas no Histórico: {}'.format(len(df_history)))"
   ]
  },
  {
   "cell_type": "markdown",
   "metadata": {},
   "source": [
    "#### Listando Endereços das Tabelas do Histórico"
   ]
  },
  {
   "cell_type": "code",
   "execution_count": 35,
   "metadata": {},
   "outputs": [],
   "source": [
    "paths = []\n",
    "for i in range(7):\n",
    "\n",
    "    name = '+'.join(tabelas_nomes[:i+2])\n",
    "    path = '\\\\Users\\luisr\\Desktop\\Repository\\IBM_courses\\Personal Work\\\\Notebooks\\Education\\Preprocessing\\Questionário_aluno_preprocessing\\Tabelas Combinadas\\{}.csv'.format(name)\n",
    "    paths.append(path)\n"
   ]
  },
  {
   "cell_type": "markdown",
   "metadata": {},
   "source": [
    "#### Função para Encontrar Elementos Unicos de Dois Arrays 2D."
   ]
  },
  {
   "cell_type": "code",
   "execution_count": 275,
   "metadata": {},
   "outputs": [],
   "source": [
    "def len_arrays_unique(array1, array2):\n",
    "        \n",
    "    tuple12 = []\n",
    "    for row1 in array1:\n",
    "\n",
    "        tuple12.append(str(tuple(row1)))\n",
    " \n",
    "    for row2 in array2:\n",
    "        \n",
    "        tuple12.append(str(tuple(row2)))\n",
    "        \n",
    "    len_unique = len(set(tuple12))\n",
    "\n",
    "    return len_unique"
   ]
  },
  {
   "cell_type": "markdown",
   "metadata": {},
   "source": [
    "---"
   ]
  },
  {
   "cell_type": "markdown",
   "metadata": {},
   "source": [
    "# Relatorio"
   ]
  },
  {
   "cell_type": "code",
   "execution_count": 288,
   "metadata": {},
   "outputs": [
    {
     "name": "stdout",
     "output_type": "stream",
     "text": [
      "RELATÓRIO DE COMBINAÇÃO DAS TABELAS SAEP 2011\n",
      "\n",
      "--------------------------------------------------------------------------------\n"
     ]
    },
    {
     "name": "stdin",
     "output_type": "stream",
     "text": [
      "Continuar? \n"
     ]
    },
    {
     "name": "stdout",
     "output_type": "stream",
     "text": [
      "\n",
      "ETAPA: RESULTADO ALUNO (1/7)\n",
      "CHAVES: ['ID_ALUNO']\n",
      "\n",
      "Copiando tabela base...\n",
      "Lendo nova tabela combinada...\n",
      "\n",
      "CONTANDO IDENTIDADES:\n",
      "\n",
      "Tabela velha...\n",
      "Tabela nova...\n",
      "Tabela Combinada...\n",
      "Interseção (Concatenando Chaves)...\n",
      "\n",
      "RESULTADOS:\n",
      "\n",
      "Identidades Total: 851990\n",
      "Identidades na Tabela Velha: 849278\n",
      "Identidades na Tabela Nova: 851842\n",
      "Identidades na Tabela Combinada: 849130\n",
      "\n",
      "Identidades da Tabela Velha pelo Total: 99.68 %\n",
      "Identidades da Tabela Nova pelo Total 99.98 %\n",
      "\n",
      "Identidades Mantidas da Tabela Velha: 99.98 %\n",
      "Identidades Mantidas da Tabela Nova: 99.68 %\n",
      "Identidades Mantidas do Total: 99.66 %\n",
      "\n",
      "Alunos Mantidos da Tabela Velha: 99.98 %\n",
      "Alunos Mantidos do Original: 99.98 %\n",
      "Dataframes no Histórico: 2\n",
      "-------------------------------------------------------------------------------------\n"
     ]
    },
    {
     "name": "stdin",
     "output_type": "stream",
     "text": [
      "Continuar? \n"
     ]
    },
    {
     "name": "stdout",
     "output_type": "stream",
     "text": [
      "\n",
      "ETAPA: RESULTADO ESCOLA (2/7)\n",
      "CHAVES: ['ID_SERIE', 'ID_ESCOLA']\n",
      "\n",
      "Copiando última tabela combinada...\n",
      "Lendo nova tabela combinada...\n",
      "\n",
      "CONTANDO IDENTIDADES:\n",
      "\n",
      "Tabela velha...\n",
      "Tabela nova...\n",
      "Tabela Combinada...\n",
      "Interseção (Concatenando Chaves)...\n",
      "\n",
      "RESULTADOS:\n",
      "\n",
      "Identidades Total: 73023\n",
      "Identidades na Tabela Velha: 17343\n",
      "Identidades na Tabela Nova: 71254\n",
      "Identidades na Tabela Combinada: 15574\n",
      "\n",
      "Identidades da Tabela Velha pelo Total: 23.75 %\n",
      "Identidades da Tabela Nova pelo Total 97.58 %\n",
      "\n",
      "Identidades Mantidas da Tabela Velha: 89.8 %\n",
      "Identidades Mantidas da Tabela Nova: 21.86 %\n",
      "Identidades Mantidas do Total: 21.33 %\n",
      "\n",
      "Alunos Mantidos da Tabela Velha: 94.38 %\n",
      "Alunos Mantidos do Original: 94.36 %\n",
      "Dataframes no Histórico: 3\n",
      "-------------------------------------------------------------------------------------\n"
     ]
    },
    {
     "name": "stdin",
     "output_type": "stream",
     "text": [
      "Continuar? \n"
     ]
    },
    {
     "name": "stdout",
     "output_type": "stream",
     "text": [
      "\n",
      "ETAPA: RESULTADO MUNICIPIO (3/7)\n",
      "CHAVES: ['ID_MUNICIPIO', 'ID_DEPENDENCIA_ADM', 'ID_LOCALIZACAO', 'ID_SERIE']\n",
      "\n",
      "Copiando última tabela combinada...\n",
      "Lendo nova tabela combinada...\n",
      "\n",
      "CONTANDO IDENTIDADES:\n",
      "\n",
      "Tabela velha...\n",
      "Tabela nova...\n",
      "Tabela Combinada...\n",
      "Interseção (Concatenando Chaves)...\n",
      "\n",
      "RESULTADOS:\n",
      "\n",
      "Identidades Total: 59703\n",
      "Identidades na Tabela Velha: 4248\n",
      "Identidades na Tabela Nova: 59636\n",
      "Identidades na Tabela Combinada: 4181\n",
      "\n",
      "Identidades da Tabela Velha pelo Total: 7.12 %\n",
      "Identidades da Tabela Nova pelo Total 99.89 %\n",
      "\n",
      "Identidades Mantidas da Tabela Velha: 98.42 %\n",
      "Identidades Mantidas da Tabela Nova: 7.01 %\n",
      "Identidades Mantidas do Total: 7.0 %\n",
      "\n",
      "Alunos Mantidos da Tabela Velha: 99.08 %\n",
      "Alunos Mantidos do Original: 93.49 %\n",
      "Dataframes no Histórico: 4\n",
      "-------------------------------------------------------------------------------------\n"
     ]
    },
    {
     "name": "stdin",
     "output_type": "stream",
     "text": [
      "Continuar? \n"
     ]
    },
    {
     "name": "stdout",
     "output_type": "stream",
     "text": [
      "\n",
      "ETAPA: PESOS (4/7)\n",
      "CHAVES: ['ID_TURMA', 'ID_SERIE', 'ID_ESCOLA']\n",
      "\n",
      "Copiando última tabela combinada...\n",
      "Lendo nova tabela combinada...\n",
      "\n",
      "CONTANDO IDENTIDADES:\n",
      "\n",
      "Tabela velha...\n",
      "Tabela nova...\n",
      "Tabela Combinada...\n",
      "Interseção (Concatenando Chaves)...\n",
      "\n",
      "RESULTADOS:\n",
      "\n",
      "Identidades Total: 181736\n",
      "Identidades na Tabela Velha: 31775\n",
      "Identidades na Tabela Nova: 181736\n",
      "Identidades na Tabela Combinada: 31775\n",
      "\n",
      "Identidades da Tabela Velha pelo Total: 17.48 %\n",
      "Identidades da Tabela Nova pelo Total 100.0 %\n",
      "\n",
      "Identidades Mantidas da Tabela Velha: 100.0 %\n",
      "Identidades Mantidas da Tabela Nova: 17.48 %\n",
      "Identidades Mantidas do Total: 17.48 %\n",
      "\n",
      "Alunos Mantidos da Tabela Velha: 100.0 %\n",
      "Alunos Mantidos do Original: 93.49 %\n",
      "Dataframes no Histórico: 5\n",
      "-------------------------------------------------------------------------------------\n"
     ]
    },
    {
     "name": "stdin",
     "output_type": "stream",
     "text": [
      "Continuar? \n"
     ]
    },
    {
     "name": "stdout",
     "output_type": "stream",
     "text": [
      "\n",
      "ETAPA: QUESTIONÁRIO ESCOLA (5/7)\n",
      "CHAVES: ['ID_ESCOLA']\n",
      "\n",
      "Copiando última tabela combinada...\n",
      "Lendo nova tabela combinada...\n",
      "\n",
      "CONTANDO IDENTIDADES:\n",
      "\n",
      "Tabela velha...\n",
      "Tabela nova...\n",
      "Tabela Combinada...\n",
      "Interseção (Concatenando Chaves)...\n",
      "\n",
      "RESULTADOS:\n",
      "\n",
      "Identidades Total: 58960\n",
      "Identidades na Tabela Velha: 11693\n",
      "Identidades na Tabela Nova: 58960\n",
      "Identidades na Tabela Combinada: 11693\n",
      "\n",
      "Identidades da Tabela Velha pelo Total: 19.83 %\n",
      "Identidades da Tabela Nova pelo Total 100.0 %\n",
      "\n",
      "Identidades Mantidas da Tabela Velha: 100.0 %\n",
      "Identidades Mantidas da Tabela Nova: 19.83 %\n",
      "Identidades Mantidas do Total: 19.83 %\n",
      "\n",
      "Alunos Mantidos da Tabela Velha: 100.0 %\n",
      "Alunos Mantidos do Original: 93.49 %\n",
      "Dataframes no Histórico: 6\n",
      "-------------------------------------------------------------------------------------\n"
     ]
    },
    {
     "name": "stdin",
     "output_type": "stream",
     "text": [
      "Continuar? \n"
     ]
    },
    {
     "name": "stdout",
     "output_type": "stream",
     "text": [
      "\n",
      "ETAPA: QUESTIONÁRIO PROFESSOR (6/7)\n",
      "CHAVES: ['ID_TURMA', 'ID_SERIE', 'ID_ESCOLA']\n",
      "\n",
      "Copiando última tabela combinada...\n",
      "Lendo nova tabela combinada...\n",
      "\n",
      "CONTANDO IDENTIDADES:\n",
      "\n",
      "Tabela velha...\n",
      "Tabela nova...\n",
      "Tabela Combinada...\n",
      "Interseção (Concatenando Chaves)...\n",
      "\n",
      "RESULTADOS:\n",
      "\n",
      "Identidades Total: 172639\n",
      "Identidades na Tabela Velha: 31775\n",
      "Identidades na Tabela Nova: 171358\n",
      "Identidades na Tabela Combinada: 30494\n",
      "\n",
      "Identidades da Tabela Velha pelo Total: 18.41 %\n",
      "Identidades da Tabela Nova pelo Total 99.26 %\n",
      "\n",
      "Identidades Mantidas da Tabela Velha: 95.97 %\n",
      "Identidades Mantidas da Tabela Nova: 17.8 %\n",
      "Identidades Mantidas do Total: 17.66 %\n",
      "\n",
      "Alunos Mantidos da Tabela Velha: 96.12 %\n",
      "Alunos Mantidos do Original: 89.87 %\n",
      "Dataframes no Histórico: 7\n",
      "-------------------------------------------------------------------------------------\n"
     ]
    },
    {
     "name": "stdin",
     "output_type": "stream",
     "text": [
      "Continuar? \n"
     ]
    },
    {
     "name": "stdout",
     "output_type": "stream",
     "text": [
      "\n",
      "ETAPA: QUESTIONÁRIOS DIRETOR (7/7)\n",
      "CHAVES: ['ID_ESCOLA']\n",
      "\n",
      "Copiando última tabela combinada...\n",
      "Lendo nova tabela combinada...\n",
      "\n",
      "CONTANDO IDENTIDADES:\n",
      "\n",
      "Tabela velha...\n",
      "Tabela nova...\n",
      "Tabela Combinada...\n",
      "Interseção (Concatenando Chaves)...\n",
      "\n",
      "RESULTADOS:\n",
      "\n",
      "Identidades Total: 57954\n",
      "Identidades na Tabela Velha: 11591\n",
      "Identidades na Tabela Nova: 57812\n",
      "Identidades na Tabela Combinada: 11449\n",
      "\n",
      "Identidades da Tabela Velha pelo Total: 20.0 %\n",
      "Identidades da Tabela Nova pelo Total 99.75 %\n",
      "\n",
      "Identidades Mantidas da Tabela Velha: 98.77 %\n",
      "Identidades Mantidas da Tabela Nova: 19.8 %\n",
      "Identidades Mantidas do Total: 19.76 %\n",
      "\n",
      "Alunos Mantidos da Tabela Velha: 99.03 %\n",
      "Alunos Mantidos do Original: 89.0 %\n",
      "Dataframes no Histórico: 8\n",
      "-------------------------------------------------------------------------------------\n",
      "Relatatório Gerado!\n"
     ]
    }
   ],
   "source": [
    "# ----- Relatório ---------\n",
    "\n",
    "#new_file = open('\\\\Users\\luisr\\Desktop\\Repository\\IBM_courses\\Personal Work\\\\Notebooks\\\\Education\\\\Preprocessing\\\\Questionário_aluno_preprocessing\\Relatório\\RELATÓRIO_COMBINAÇÃO_TABELAS_SAEP_2011.doc', 'w')\n",
    "\n",
    "print('RELATÓRIO DE COMBINAÇÃO DAS TABELAS SAEP 2011')\n",
    "print('')\n",
    "print(''.join(['-']*80))  # Linha pontilhada\n",
    "new_file.write('RELATÓRIO DE COMBINAÇÃO DAS TABELAS SAEP 2011')\n",
    "new_file.write('\\n')\n",
    "new_file.write('\\n')\n",
    "new_file.write(''.join(['-']*120))  # Linha pontilhada\n",
    "\n",
    "\n",
    "df_new = tabelas[0].copy()\n",
    "n_alunos = len(df_new)\n",
    "relatorio_lst = []\n",
    "\n",
    "for i, chave, path, tabela, nome_tabela in zip(range(7), key_cols, paths, tabelas[1:], tabelas_nomes[1:]):\n",
    "        \n",
    "    if input('Continuar?')=='exit': break\n",
    "        \n",
    "    print('')\n",
    "    print('ETAPA: {} ({}/7)'.format(nome_tabela.upper(), i+1))\n",
    "    print('CHAVES:', chave)\n",
    "    new_file.write('\\n')\n",
    "    new_file.write('\\n')\n",
    "    new_file.write('ETAPA: {} ({}/7)'.format(nome_tabela.upper(), i+1))\n",
    "    new_file.write('\\n')\n",
    "    new_file.write('CHAVES: {}'.format(chave))\n",
    "    \n",
    "    #--------------\n",
    "    \n",
    "    print('')\n",
    "    if i==0: print('Copiando tabela base...')\n",
    "    else: print('Copiando última tabela combinada...')       \n",
    "    time.sleep(1)\n",
    "    df = df_new.copy()\n",
    "    \n",
    "    print('Lendo nova tabela combinada...')\n",
    "    time.sleep(1)\n",
    "    df_new = pd.read_csv(path)\n",
    "    \n",
    "    #------------\n",
    "    \n",
    "    print('')\n",
    "    print('CONTANDO IDENTIDADES:')\n",
    "    print('')\n",
    "    \n",
    "    print('Tabela velha...')\n",
    "    time.sleep(1)\n",
    "    ids_old = df[chave].drop_duplicates()\n",
    "    n_ids_old = len(ids_old)\n",
    "    \n",
    "    print('Tabela nova...')\n",
    "    time.sleep(1)\n",
    "    ids_old2 = tabela[chave].drop_duplicates()\n",
    "    n_ids_old2 = len(ids_old2)\n",
    "    \n",
    "    print('Tabela Combinada...')\n",
    "    time.sleep(1)\n",
    "    n_ids_new = len(df_new[chave].drop_duplicates())\n",
    "    \n",
    "    print('Interseção (Concatenando Chaves)...')\n",
    "    time.sleep(1)\n",
    "    n_ids_ttl = len_arrays_unique(ids_old.values, ids_old2.values)\n",
    "    \n",
    "    # ------------\n",
    "\n",
    "    p_A = round(n_ids_old / n_ids_ttl *100, 2)\n",
    "    p_B = round(n_ids_old2 / n_ids_ttl *100, 2)\n",
    "    \n",
    "    p_org = round(n_ids_new / n_ids_old *100, 2)\n",
    "    p_new = round(n_ids_new / n_ids_old2 * 100, 2) \n",
    "    p_ttl = round(n_ids_new / n_ids_ttl *100, 2)\n",
    "\n",
    "    p_linhas = round(len(df_new) / len(df) *100, 2)\n",
    "    p_alunos = round(len(df_new) / n_alunos *100, 2)\n",
    "    \n",
    "    linha_relatorio = [i, nome_tabela, n_ids_old, n_ids_old2, n_ids_ttl, n_ids_new, p_A, p_B, p_org, p_new, p_ttl, p_linhas, p_alunos]\n",
    "    relatorio_lst.append(linha_relatorio)\n",
    "    # ----------------\n",
    "    \n",
    "    print('')\n",
    "    print('RESULTADOS:')\n",
    "    print('')\n",
    "    print('Identidades Total:', n_ids_ttl)\n",
    "    print('Identidades na Tabela Velha:', n_ids_old)\n",
    "    print('Identidades na Tabela Nova:', n_ids_old2)\n",
    "    print('Identidades na Tabela Combinada:', n_ids_new)\n",
    "    print('')\n",
    "    print('Identidades da Tabela Velha pelo Total:', p_A, '%')\n",
    "    print('Identidades da Tabela Nova pelo Total', p_B, '%')\n",
    "    print('')\n",
    "    print('Identidades Mantidas da Tabela Velha:', p_org, '%')\n",
    "    print('Identidades Mantidas da Tabela Nova:', p_new, '%')\n",
    "    print('Identidades Mantidas do Total:', p_ttl, '%')\n",
    "    print('')\n",
    "    print('Alunos Mantidos da Tabela Velha:', p_linhas, '%')\n",
    "    print('Alunos Mantidos do Original:', p_alunos, '%')\n",
    "    print('Dataframes no Histórico:', i+2)   \n",
    "    print(''.join(['-']*85))\n",
    "\n",
    "    new_file.write('\\n')\n",
    "    new_file.write('\\n')\n",
    "    new_file.write('RESULTADOS:')\n",
    "    new_file.write('\\n')\n",
    "    new_file.write('\\n')\n",
    "    new_file.write('Identidades Total: {}'.format(n_ids_ttl))\n",
    "    new_file.write('\\n')\n",
    "    \n",
    "    \n",
    "    if i==0: new_file.write('Identidades da Tabela Base: {}'.format(n_ids_old))\n",
    "        \n",
    "    else: new_file.write('Identidades da Tabela Velha: {}'.format(n_ids_old))\n",
    "    \n",
    "    \n",
    "    new_file.write('\\n')\n",
    "    new_file.write('Identidades da Tabela Nova: {}'.format(n_ids_old2))\n",
    "    new_file.write('\\n')\n",
    "    new_file.write('Identidades da Tabela Combinada: {}'.format(n_ids_new))\n",
    "    new_file.write('\\n')\n",
    "    new_file.write('\\n')\n",
    "    new_file.write('Identidades da Tabela Velha pelo Total: {}%'.format(p_A))\n",
    "    new_file.write('\\n')\n",
    "    new_file.write('Identidades da Tabela Nova pelo Total {}%'.format(p_B))\n",
    "    new_file.write('\\n')\n",
    "    new_file.write('\\n')\n",
    "    new_file.write('Identidades Mantidas da Tabela Velha: {}%'.format(p_org))\n",
    "    new_file.write('\\n')\n",
    "    new_file.write('Identidades Mantidas da Tabela Nova: {}%'.format(p_new))\n",
    "    new_file.write('\\n')\n",
    "    new_file.write('Identidades Mantidas do Total: {}%'.format(p_ttl))\n",
    "    new_file.write('\\n')\n",
    "    new_file.write('\\n')\n",
    "    new_file.write('Alunos Mantidos da Tabela Velha: {}%'.format(p_linhas))\n",
    "    new_file.write('\\n')\n",
    "    new_file.write('Alunos Mantidos do Original: {}%'.format(p_alunos))\n",
    "    new_file.write('\\n')\n",
    "    new_file.write('Dataframes no Histórico: {}'.format(i+2))\n",
    "    new_file.write('\\n')\n",
    "    new_file.write('\\n')\n",
    "    new_file.write(''.join(['-']*120))\n",
    "\n",
    "\n",
    "new_file.write('\\n')\n",
    "new_file.write('Obs: A Tabela velha de cada etapa é a tabela combinada da etapa anterior, a não ser\\npela primeira tabela velha, que é a tabela de base: QUESTIONÁRIO ALUNO.')\n",
    "new_file.write('\\n')\n",
    "new_file.write('Fim do Relatório.')\n",
    "new_file.close()\n",
    "\n",
    "relatorio_df = pd.DataFrame(relatorio_lst, columns=['ETAPA', 'T2', 'IDS_T1', 'IDS_T2', 'IDS_TOTAL', 'IDS_COMBINADO',\n",
    "                                                    'PROPORCAO_IDS_T1', 'PROPORCAO_IDS_T2',\n",
    "                                                    'PROPORCAO_IDS_T1_RESTANTE', 'PROPORCAO_IDS_T2_RESTANTE', 'PROPORCAO_IDS_COMBINADO',\n",
    "                                                    'PROPORCAO_ALUNOS_RESTANTE', 'PROPORCAO_ALUNOS_RESTANTES_TOTAL'])\n",
    "\n",
    "relatorio_df.to_csv('\\\\Users\\luisr\\Desktop\\Repository\\IBM_courses\\Personal Work\\\\Notebooks\\\\Education\\\\Preprocessing\\\\Questionário_aluno_preprocessing\\\\Relatório\\\\tabela_relatorio.csv', index=False)\n",
    "\n",
    "print('Relatatório Gerado!')  # 14/03/2021\n"
   ]
  },
  {
   "cell_type": "markdown",
   "metadata": {},
   "source": [
    "---"
   ]
  },
  {
   "cell_type": "markdown",
   "metadata": {},
   "source": [
    "# Visualização Relatório de Combinação"
   ]
  },
  {
   "cell_type": "markdown",
   "metadata": {},
   "source": [
    "### Percentual de linhas (alunos) mantidas por etapa (%)"
   ]
  },
  {
   "cell_type": "code",
   "execution_count": 330,
   "metadata": {},
   "outputs": [
    {
     "data": {
      "image/png": "[encoded data removed]",
      "text/plain": [
       "<Figure size 432x288 with 1 Axes>"
      ]
     },
     "metadata": {},
     "output_type": "display_data"
    }
   ],
   "source": [
    "#relatorio_df.set_index('T2').iloc[:,7].plot(ylim=(85), color='blue', alpha=0.9)\n",
    "relatorio_df.set_index('T2').iloc[:, -1].plot(ylim=(85), color='orange', alpha=0.9)\n",
    "plt.xticks(rotation=90)\n",
    "\n",
    "plt.show()"
   ]
  },
  {
   "cell_type": "markdown",
   "metadata": {},
   "source": [
    "---"
   ]
  },
  {
   "cell_type": "markdown",
   "metadata": {},
   "source": [
    "# AVALIAÇÃO E LIMPEZA DA TABELA COMBINADA"
   ]
  },
  {
   "cell_type": "markdown",
   "metadata": {},
   "source": [
    "### Importando Bibliotecas"
   ]
  },
  {
   "cell_type": "code",
   "execution_count": 2,
   "metadata": {},
   "outputs": [],
   "source": [
    "import pandas as pd\n",
    "import numpy as np\n",
    "import matplotlib.pyplot as plt\n",
    "import seaborn as sns\n",
    "\n",
    "from IPython.display import clear_output\n",
    "import time\n",
    "sns.set_style('darkgrid')"
   ]
  },
  {
   "cell_type": "code",
   "execution_count": 37,
   "metadata": {},
   "outputs": [],
   "source": [
    "from sklearn.preprocessing import OrdinalEncoder as oe, LabelEncoder as le"
   ]
  },
  {
   "cell_type": "markdown",
   "metadata": {},
   "source": [
    "### Carregando Tabela Combinada"
   ]
  },
  {
   "cell_type": "code",
   "execution_count": null,
   "metadata": {},
   "outputs": [],
   "source": [
    "data = pd.read_csv('/Users/luisr/Desktop/Repository/IBM_courses/Personal Work/Notebooks/Education/Preprocessing/Questionário_aluno_preprocessing/Tabelas Combinadas/qst_aluno+res_aluno+res_esc+res_muni+pesos+qst_esc+qst_prof+qst_dir.csv')\n",
    "\n",
    "print('Tabela Carregada Com Sucesso!')\n",
    "print('Linhas/Colunas:', data.shape)"
   ]
  },
  {
   "cell_type": "markdown",
   "metadata": {},
   "source": [
    "# Extraindo Dados Relativos a cada Série"
   ]
  },
  {
   "cell_type": "code",
   "execution_count": 85,
   "metadata": {},
   "outputs": [],
   "source": [
    "ano5 = data[data['ID_SERIE']==5]\n",
    "ano9 = data[data['ID_SERIE']==9]\n",
    "ano3 = data[data['ID_SERIE']==12]"
   ]
  },
  {
   "cell_type": "code",
   "execution_count": 88,
   "metadata": {},
   "outputs": [],
   "source": [
    "ano5.to_csv('/Users/luisr/Desktop/Repository/IBM_courses/Personal Work/Notebooks/Education/Preprocessing/Questionário_aluno_preprocessing/Tabelas Series/serie5.csv', index=False)\n",
    "ano9.to_csv('/Users/luisr/Desktop/Repository/IBM_courses/Personal Work/Notebooks/Education/Preprocessing/Questionário_aluno_preprocessing/Tabelas Series/serie9.csv', index=False)\n",
    "ano3.to_csv('/Users/luisr/Desktop/Repository/IBM_courses/Personal Work/Notebooks/Education/Preprocessing/Questionário_aluno_preprocessing/Tabelas Series/serie3.csv', index=False)\n",
    "# 15/03/2021 (10:24)"
   ]
  },
  {
   "cell_type": "markdown",
   "metadata": {},
   "source": [
    "---"
   ]
  },
  {
   "cell_type": "markdown",
   "metadata": {},
   "source": [
    "### Lendo Dados"
   ]
  },
  {
   "cell_type": "code",
   "execution_count": 10,
   "metadata": {},
   "outputs": [],
   "source": [
    "ano5 = pd.read_csv('/Users/luisr/Desktop/Repository/IBM_courses/Personal Work/Notebooks/Education/Preprocessing/Questionário_aluno_preprocessing/Tabelas Series/serie5.csv')"
   ]
  },
  {
   "cell_type": "code",
   "execution_count": 3,
   "metadata": {},
   "outputs": [],
   "source": [
    "ano9 = pd.read_csv('/Users/luisr/Desktop/Repository/IBM_courses/Personal Work/Notebooks/Education/Preprocessing/Questionário_aluno_preprocessing/Tabelas Series/serie9.csv')"
   ]
  },
  {
   "cell_type": "markdown",
   "metadata": {},
   "source": [
    "### Criando Cópia dos Dados"
   ]
  },
  {
   "cell_type": "code",
   "execution_count": 7,
   "metadata": {},
   "outputs": [],
   "source": [
    "ano9_copy = ano9.copy()"
   ]
  },
  {
   "cell_type": "code",
   "execution_count": 4,
   "metadata": {},
   "outputs": [],
   "source": [
    "#ano9 = ano9_copy.copy()"
   ]
  },
  {
   "cell_type": "markdown",
   "metadata": {},
   "source": [
    "---"
   ]
  },
  {
   "cell_type": "markdown",
   "metadata": {},
   "source": [
    "# LIMPEZA DADOS 9º ANO"
   ]
  },
  {
   "cell_type": "markdown",
   "metadata": {},
   "source": [
    "## Listando Grupos de Colunas"
   ]
  },
  {
   "cell_type": "code",
   "execution_count": 8,
   "metadata": {},
   "outputs": [],
   "source": [
    "cols = ano9.columns.tolist()\n",
    "quest_aluno, res_aluno, res_esc, res_muni, pesos = cols[12:74], cols[74:83], cols[83:88], cols[88:95], cols[95:99]\n",
    "quest_esc, quest_prof, quest_dir = cols[99:165], cols[166:318], cols[318:]"
   ]
  },
  {
   "cell_type": "code",
   "execution_count": 9,
   "metadata": {},
   "outputs": [],
   "source": [
    "ID_cols = [col for col in cols if 'ID' in col or 'IN' in col]\n",
    "questoes = quest_aluno + quest_esc + quest_prof + quest_dir\n",
    "resultados = res_aluno + res_esc + res_muni + pesos"
   ]
  },
  {
   "cell_type": "code",
   "execution_count": 10,
   "metadata": {},
   "outputs": [
    {
     "data": {
      "text/plain": [
       "['PROFICIENCIA_LP_SAEB',\n",
       " 'DESVIO_PADRAO_LP_SAEB',\n",
       " 'PROFICIENCIA_MT_SAEB',\n",
       " 'DESVIO_PADRAO_MT_SAEB',\n",
       " 'TX_RESP_Q059',\n",
       " 'TX_RESP_Q060',\n",
       " 'TX_RESP_Q061',\n",
       " 'TX_RESP_Q062',\n",
       " 'ID_SERIE',\n",
       " 'IN_PROVA_BRASIL']"
      ]
     },
     "execution_count": 10,
     "metadata": {},
     "output_type": "execute_result"
    }
   ],
   "source": [
    "out_ano9 = res_aluno[3:5] + res_aluno[7:] + quest_aluno[-4:] + ['ID_SERIE', 'IN_PROVA_BRASIL']\n",
    "out_ano9"
   ]
  },
  {
   "cell_type": "markdown",
   "metadata": {},
   "source": [
    "## Examinando Marcações de Resposta à Questionário"
   ]
  },
  {
   "cell_type": "code",
   "execution_count": 163,
   "metadata": {},
   "outputs": [],
   "source": [
    "marcações = []\n",
    "n_questoes = len(questoes)\n",
    "for i, col in enumerate(questoes):\n",
    "    marcações+=list(set(ano9[col]))\n",
    "    \n",
    "    clear_output(wait=True)\n",
    "    print(i, '/', n_questoes)\n",
    "    \n",
    "marcações_unicas = list(set(marcações))"
   ]
  },
  {
   "cell_type": "code",
   "execution_count": 167,
   "metadata": {},
   "outputs": [
    {
     "name": "stdout",
     "output_type": "stream",
     "text": [
      "Valores Colunas de Resposta a Questionário:\n",
      "\n",
      " ['*', '.', 'A', 'B', 'C', 'D', 'E', 'F', 'G', 'H', 'I', 'J', 'K', 'L']\n",
      "\n",
      "Legenda:\n",
      "\"*\": Marcação Excluída.\n",
      "\".\": Marcação em Branco.\n"
     ]
    }
   ],
   "source": [
    "print('Valores Colunas de Resposta a Questionário:\\n\\n', sorted(marcações_unicas))\n",
    "print('\\nLegenda:\\n\"*\": Marcação Excluída.\\n\".\": Marcação em Branco.')"
   ]
  },
  {
   "cell_type": "markdown",
   "metadata": {},
   "source": [
    "## Examinando Tipos de Dado das Colunas \"Resultado\""
   ]
  },
  {
   "cell_type": "code",
   "execution_count": 28,
   "metadata": {},
   "outputs": [],
   "source": [
    "frequencia_tipos = pd.concat([ano9[cols_i].dtypes.value_counts() for cols_i in [ID_cols, resultados, questoes]], axis=1).fillna(0)\n",
    "frequencia_tipos.columns=['IDs', 'Resultados', 'Questionários']\n",
    "frequencia_tipos.index.name='Frequência Tipo de Dado'\n",
    "frequencia_tipos"
   ]
  },
  {
   "cell_type": "markdown",
   "metadata": {},
   "source": [
    "## Excluindo Colunas Vazias, Constantes ou Repetidas"
   ]
  },
  {
   "cell_type": "code",
   "execution_count": 11,
   "metadata": {},
   "outputs": [],
   "source": [
    "ano9_clean = ano9.drop(out_ano9, axis=1)"
   ]
  },
  {
   "cell_type": "code",
   "execution_count": 12,
   "metadata": {},
   "outputs": [],
   "source": [
    "questoes_clean = [col for col in questoes if col not in out_ano9]"
   ]
  },
  {
   "cell_type": "markdown",
   "metadata": {},
   "source": [
    "## Contando Vazios por Coluna (Antes e Depois da Exclusão)"
   ]
  },
  {
   "cell_type": "code",
   "execution_count": 38,
   "metadata": {},
   "outputs": [],
   "source": [
    "n_cols = len(questoes)\n",
    "questoes_sem_resp = []\n",
    "questoes_sem_resp_limpo = []\n",
    "for i, col in enumerate(questoes):\n",
    "\n",
    "    questoes_sem_resp.append((ano9[col]=='.').mean() + (ano9[col]=='*').mean())\n",
    "    if col not in out_ano9:\n",
    "        questoes_sem_resp_limpo.append((ano9_clean[col]=='.').mean() + (ano9_clean[col]=='*').mean())\n",
    "\n",
    "    clear_output(wait=True)\n",
    "    print(i, '/', n_cols-1)"
   ]
  },
  {
   "cell_type": "code",
   "execution_count": 39,
   "metadata": {},
   "outputs": [],
   "source": [
    "sem_resp_df = pd.DataFrame(questoes_sem_resp, index=questoes, columns=['Em Branco ou Anulada - Antes'])\n",
    "sem_resp_limpo_df = pd.DataFrame(questoes_sem_resp_limpo, index=questoes_clean, columns=['Em Branco ou Anulada - Depois'])"
   ]
  },
  {
   "cell_type": "markdown",
   "metadata": {},
   "source": [
    "## Avaliando Exclusão de Colunas"
   ]
  },
  {
   "cell_type": "code",
   "execution_count": null,
   "metadata": {},
   "outputs": [],
   "source": [
    "fig, axs = plt.subplots(1,2,figsize=(14,2))\n",
    "top_n = 50\n",
    "\n",
    "sem_resp_df.sort_values('Em Branco ou Anulada - Antes', ascending=False).head(top_n).plot.bar(width=0.5, ax=axs[0])\n",
    "sem_resp_limpo_df.sort_values('Em Branco ou Anulada - Depois', ascending=False).head(top_n).plot.bar(width=0.5, ax=axs[1])\n",
    "\n",
    "axs[1].set_ylim(0,1.05)\n",
    "[axs[i].set_title('Proporção por Coluna/Questão (Top {}) - {}'.format(top_n, ['Antes', 'Depois'][i])) for i in [0,1]]\n",
    "plt.show()"
   ]
  },
  {
   "cell_type": "markdown",
   "metadata": {},
   "source": [
    "## Contando Vazios por Linha"
   ]
  },
  {
   "cell_type": "code",
   "execution_count": 9,
   "metadata": {},
   "outputs": [],
   "source": [
    "ano9_vazio = ano9[questoes].isin(['.','*'])"
   ]
  },
  {
   "cell_type": "code",
   "execution_count": 13,
   "metadata": {},
   "outputs": [],
   "source": [
    "ano9_vazio_limpo = ano9_clean[questoes_clean].isin(['.','*'])"
   ]
  },
  {
   "cell_type": "code",
   "execution_count": 11,
   "metadata": {},
   "outputs": [],
   "source": [
    "vazio_por_linha = ano9_vazio.sum(axis=1)\n",
    "\n",
    "vazio_por_linha_limpo = ano9_vazio_limpo.sum(axis=1)\n",
    "\n",
    "frequencia_vazio_por_linha = vazio_por_linha.value_counts()/len(ano9)\n",
    "\n",
    "frequencia_vazio_por_linha_limpo = vazio_por_linha_limpo.value_counts()/len(ano9_vazio_limpo)"
   ]
  },
  {
   "cell_type": "code",
   "execution_count": 59,
   "metadata": {},
   "outputs": [],
   "source": [
    "freq_acum = []\n",
    "for celulas_faltando in sorted(frequencia_vazio_por_linha.index):\n",
    "    freq_acum.append(frequencia_vazio_por_linha[frequencia_vazio_por_linha.index < celulas_faltando].sum())\n",
    "\n",
    "freq_acum_limpo = []\n",
    "for celulas_faltando in sorted(frequencia_vazio_por_linha_limpo.index):\n",
    "    freq_acum_limpo.append(frequencia_vazio_por_linha_limpo[frequencia_vazio_por_linha_limpo.index < celulas_faltando].sum())"
   ]
  },
  {
   "cell_type": "code",
   "execution_count": 65,
   "metadata": {},
   "outputs": [
    {
     "name": "stdout",
     "output_type": "stream",
     "text": [
      "Proporção de Linhas Completas (Colunas Vazias Excluídas):  0.03 %\n"
     ]
    }
   ],
   "source": [
    "print('Proporção de Linhas Completas (Colunas Vazias Excluídas): ', round(frequencia_vazio_por_linha_limpo[0]*100, 2), '%')"
   ]
  },
  {
   "cell_type": "markdown",
   "metadata": {},
   "source": [
    "##### Observação: Tabela não possui linhas onde respostas de questionário estão faltando completamente"
   ]
  },
  {
   "cell_type": "markdown",
   "metadata": {},
   "source": [
    "## Relatório Vazios por Linha"
   ]
  },
  {
   "cell_type": "code",
   "execution_count": 252,
   "metadata": {},
   "outputs": [
    {
     "data": {
      "text/html": [
       "<div>\n",
       "<style scoped>\n",
       "    .dataframe tbody tr th:only-of-type {\n",
       "        vertical-align: middle;\n",
       "    }\n",
       "\n",
       "    .dataframe tbody tr th {\n",
       "        vertical-align: top;\n",
       "    }\n",
       "\n",
       "    .dataframe thead th {\n",
       "        text-align: right;\n",
       "    }\n",
       "</style>\n",
       "<table border=\"1\" class=\"dataframe\">\n",
       "  <thead>\n",
       "    <tr style=\"text-align: right;\">\n",
       "      <th></th>\n",
       "      <th>Relatório Vazios Tabela 9º Ano</th>\n",
       "    </tr>\n",
       "  </thead>\n",
       "  <tbody>\n",
       "    <tr>\n",
       "      <th>Número de Linhas</th>\n",
       "      <td>320202.000000</td>\n",
       "    </tr>\n",
       "    <tr>\n",
       "      <th>Média Vazios</th>\n",
       "      <td>27.855010</td>\n",
       "    </tr>\n",
       "    <tr>\n",
       "      <th>Desvio Padrão Vazios</th>\n",
       "      <td>27.846718</td>\n",
       "    </tr>\n",
       "    <tr>\n",
       "      <th>Mínimo Vazios</th>\n",
       "      <td>0.000000</td>\n",
       "    </tr>\n",
       "    <tr>\n",
       "      <th>25% das Linhas faltam até</th>\n",
       "      <td>15.000000</td>\n",
       "    </tr>\n",
       "    <tr>\n",
       "      <th>50% das Linhas faltam até</th>\n",
       "      <td>20.000000</td>\n",
       "    </tr>\n",
       "    <tr>\n",
       "      <th>75% das Linhas faltam até</th>\n",
       "      <td>28.000000</td>\n",
       "    </tr>\n",
       "    <tr>\n",
       "      <th>Máximo Vazios</th>\n",
       "      <td>436.000000</td>\n",
       "    </tr>\n",
       "  </tbody>\n",
       "</table>\n",
       "</div>"
      ],
      "text/plain": [
       "                           Relatório Vazios Tabela 9º Ano\n",
       "Número de Linhas                            320202.000000\n",
       "Média Vazios                                    27.855010\n",
       "Desvio Padrão Vazios                            27.846718\n",
       "Mínimo Vazios                                    0.000000\n",
       "25% das Linhas faltam até                       15.000000\n",
       "50% das Linhas faltam até                       20.000000\n",
       "75% das Linhas faltam até                       28.000000\n",
       "Máximo Vazios                                  436.000000"
      ]
     },
     "execution_count": 252,
     "metadata": {},
     "output_type": "execute_result"
    }
   ],
   "source": [
    "index_relatorio = ['Número de Linhas', 'Média Vazios', 'Desvio Padrão Vazios', 'Mínimo Vazios',\n",
    "                  '25% das Linhas faltam até',\n",
    "                  '50% das Linhas faltam até',\n",
    "                  '75% das Linhas faltam até',\n",
    "                  'Máximo Vazios']\n",
    "pd.DataFrame(vazio_por_linha_limpo.describe().values, index=index_relatorio, columns=['Relatório Vazios Tabela 9º Ano'])"
   ]
  },
  {
   "cell_type": "markdown",
   "metadata": {},
   "source": [
    "## Frequência Nº de Vazios por Linha"
   ]
  },
  {
   "cell_type": "code",
   "execution_count": 176,
   "metadata": {},
   "outputs": [
    {
     "data": {
      "image/png": "[encoded data removed]",
      "text/plain": [
       "<Figure size 864x216 with 2 Axes>"
      ]
     },
     "metadata": {},
     "output_type": "display_data"
    }
   ],
   "source": [
    "fig, axs = plt.subplots(1,2,figsize=(12,3))\n",
    "\n",
    "[sns.distplot(vazio_por_linha_limpo, bins=[60, 60][i], ax=axs[i], kde=[False, False][i], color='blue') for i in [0,1]]\n",
    "#axs[1].set_ylim(-0.00001,0.002)\n",
    "axs[1].set_ylim(-0.00001,3500)\n",
    "[axs[i].set(title=['Histograma Marcações em Branco por Linha da Tabela', 'Histograma Marcações em Branco por Linha da Tabela - Zoom'][i]) for i in [0,1]]\n",
    "[axs[i].set_xlabel('Nº Células Vazias') for i in [0,1]]\n",
    "[axs[i].set_ylabel('Nº Linhas') for i in [0,1]]\n",
    "plt.show()"
   ]
  },
  {
   "cell_type": "markdown",
   "metadata": {},
   "source": [
    "## Porcentagem de Linhas com \"X\" Vazios"
   ]
  },
  {
   "cell_type": "code",
   "execution_count": 178,
   "metadata": {},
   "outputs": [
    {
     "data": {
      "image/png": "[encoded data removed]",
      "text/plain": [
       "<Figure size 1008x144 with 2 Axes>"
      ]
     },
     "metadata": {},
     "output_type": "display_data"
    }
   ],
   "source": [
    "fig, axs = plt.subplots(1,2,figsize=(14,2))\n",
    "top_n = 50\n",
    "(frequencia_vazio_por_linha.reset_index().sort_values('index').head(top_n)).plot.bar(x='index', width=1, ax=axs[0])\n",
    "(frequencia_vazio_por_linha_limpo.reset_index().sort_values('index').head(top_n)).plot.bar(x='index', width=1, ax=axs[1])\n",
    "\n",
    "[axs[i].set_title('Proporção Linhas da Tabela (top {}){}'.format(top_n, ['', ' - Colunas Vazias Excluídas'][i])) for i in [0,1]]\n",
    "[axs[i].set_xlabel('Nº Células Vazias') for i in [0,1]]\n",
    "[axs[i].set_ylabel('Proporção Linhas') for i in [0,1]]\n",
    "#[axs[i].set_yticks(range(7)) for i in [0,1]]\n",
    "#[axs[i].set_ylim(0,7) for i in [0,1]]\n",
    "\n",
    "\n",
    "plt.show()"
   ]
  },
  {
   "cell_type": "markdown",
   "metadata": {},
   "source": [
    "## Decaimento Linhas com até \"X\" Vazios"
   ]
  },
  {
   "cell_type": "code",
   "execution_count": 227,
   "metadata": {},
   "outputs": [
    {
     "data": {
      "image/png": "[encoded data removed]",
      "text/plain": [
       "<Figure size 864x216 with 2 Axes>"
      ]
     },
     "metadata": {},
     "output_type": "display_data"
    }
   ],
   "source": [
    "fig, axs = plt.subplots(1,2,figsize=(12,3))\n",
    "axs[0].plot(sorted(frequencia_vazio_por_linha_limpo.index), [1-i for i in freq_acum_limpo])\n",
    "axs[1].plot(sorted(frequencia_vazio_por_linha_limpo.index), [1-i for i in freq_acum_limpo], marker='o', ms=3.5)\n",
    "\n",
    "[axs[i].set(xticks=[range(0,450,30), range(30, 200, 10)][i], ylabel='Proporção de de Linhas', xlabel='Nº Máximo Células Faltando') for i in [0,1]]\n",
    "\n",
    "axs[1].set_ylim(-0.002,0.11)   # Zoom 1\n",
    "axs[1].set_xlim(40, 200)\n",
    "#axs[1].set_ylim(-0.05, 1.0)   # Zoom 2\n",
    "#axs[1].set_xlim(-2, 150)\n",
    "\n",
    "[axs[i].set_title(['Decaimento Proporção de Linhas com até N Células Vazias', 'Decaimento proporção de Linhas com até N Células Vazias - Zoom'][i]) for i in [0,1]]\n",
    "plt.show()"
   ]
  },
  {
   "cell_type": "markdown",
   "metadata": {},
   "source": [
    "## Excluindo Linhas com mais de 180 Questões Sem Resposta"
   ]
  },
  {
   "cell_type": "code",
   "execution_count": 16,
   "metadata": {},
   "outputs": [],
   "source": [
    "ano9_clean2 = ano9_clean[vazio_por_linha_limpo<180]"
   ]
  },
  {
   "cell_type": "code",
   "execution_count": 24,
   "metadata": {},
   "outputs": [
    {
     "name": "stdout",
     "output_type": "stream",
     "text": [
      "Porcentagem De linhas excluídas (mais de 180 questões sem resposta): 0.0084%\n"
     ]
    }
   ],
   "source": [
    "print('Porcentagem De linhas excluídas (mais de 180 questões sem resposta):', str(round(frequencia_vazio_por_linha_limpo[180]*100, 4))+'%')"
   ]
  },
  {
   "cell_type": "markdown",
   "metadata": {},
   "source": [
    "## Savando Tabela Nôno Ano Limpa"
   ]
  },
  {
   "cell_type": "code",
   "execution_count": null,
   "metadata": {},
   "outputs": [],
   "source": [
    "#ano9_clean2.to_csv('/Users/luisr/Desktop/Repository/IBM_courses/Personal Work/Notebooks/Education/Preprocessing/Questionário_aluno_preprocessing/Tabelas Series/serie9_limpo.csv', index=False)\n",
    "# 17/03/2021 (00:41)"
   ]
  },
  {
   "cell_type": "code",
   "execution_count": 61,
   "metadata": {},
   "outputs": [],
   "source": [
    "ano9 = pd.read_csv('/Users/luisr/Desktop/Repository/IBM_courses/Personal Work/Notebooks/Education/Preprocessing/Questionário_aluno_preprocessing/Tabelas Series/serie9_limpo.csv')"
   ]
  },
  {
   "cell_type": "markdown",
   "metadata": {},
   "source": [
    "---"
   ]
  },
  {
   "cell_type": "markdown",
   "metadata": {},
   "source": [
    "# ROTULANDO TABELA 9º ANO LIMPA"
   ]
  },
  {
   "cell_type": "markdown",
   "metadata": {},
   "source": [
    "##### Definindo Função"
   ]
  },
  {
   "cell_type": "code",
   "execution_count": 62,
   "metadata": {
    "jupyter": {
     "source_hidden": true
    }
   },
   "outputs": [],
   "source": [
    "def encode(df, ordinal_cols=None, label_cols=None, float_cols=None):\n",
    "    \n",
    "    if type(ordinal_cols)!=type(None):\n",
    "        n_ordinals = len(ordinal_cols)\n",
    "        for i, col in enumerate(ordinal_cols):\n",
    "\n",
    "            ord_encoded_col = df[col].to_frame()\n",
    "            df[col] = oe().fit(ord_encoded_col).transform(ord_encoded_col)\n",
    "            clear_output(wait=True)\n",
    "            print('Rotulando Variáveis Ordinais... - ', i, '/', n_ordinals)\n",
    "\n",
    "    if type(label_cols)!=type(None):\n",
    "        n_labels = len(label_cols)\n",
    "        for i, col in enumerate(label_cols):\n",
    "\n",
    "            label_encoded_col = df[col]\n",
    "            df[col] = le().fit(label_encoded_col).transform(label_encoded_col)\n",
    "            clear_output(wait=True)\n",
    "            print('Rotulando Variáveis Categóricas... - ', i, '/', n_labels)\n",
    "    \n",
    "    if type(float_cols)!=type(None):\n",
    "        df[float_cols] = df[float_cols].astype(float)\n",
    "    \n",
    "    return df"
   ]
  },
  {
   "cell_type": "markdown",
   "metadata": {},
   "source": [
    "### Contagem Colunas por Tipo de Dado"
   ]
  },
  {
   "cell_type": "code",
   "execution_count": 63,
   "metadata": {},
   "outputs": [
    {
     "data": {
      "text/plain": [
       "object     488\n",
       "int64       17\n",
       "float64     15\n",
       "dtype: int64"
      ]
     },
     "execution_count": 63,
     "metadata": {},
     "output_type": "execute_result"
    }
   ],
   "source": [
    "type_cnt = ano9.dtypes.value_counts()\n",
    "types = type_cnt.index\n",
    "type_cnt"
   ]
  },
  {
   "cell_type": "markdown",
   "metadata": {},
   "source": [
    "### Selecionando Colunas Por Tipo de Dado"
   ]
  },
  {
   "cell_type": "code",
   "execution_count": 64,
   "metadata": {},
   "outputs": [],
   "source": [
    "obj_cols = ano9.columns[ano9.dtypes==types[0]].tolist()\n",
    "int_cols = ano9.columns[ano9.dtypes==types[1]].tolist()\n",
    "float_cols = ano9.columns[ano9.dtypes==types[2]].tolist()"
   ]
  },
  {
   "cell_type": "code",
   "execution_count": 66,
   "metadata": {},
   "outputs": [],
   "source": [
    "int_float_cols = int_cols[10:-1]\n",
    "int_label_cols = [col for col in int_cols if col not in int_float_cols]\n",
    "label_cols = obj_cols + int_label_cols"
   ]
  },
  {
   "cell_type": "markdown",
   "metadata": {},
   "source": [
    "# Rotulando: \"LabelEncoder\" & \"OrdinalEncoder\""
   ]
  },
  {
   "cell_type": "markdown",
   "metadata": {},
   "source": [
    "#### Rotulando"
   ]
  },
  {
   "cell_type": "code",
   "execution_count": 67,
   "metadata": {},
   "outputs": [
    {
     "name": "stdout",
     "output_type": "stream",
     "text": [
      "Rotulando Variáveis Categóricas... -  498 / 499\n"
     ]
    }
   ],
   "source": [
    "ano9_encoded = encode(ano9, label_cols=label_cols, float_cols=int_float_cols)"
   ]
  },
  {
   "cell_type": "markdown",
   "metadata": {},
   "source": [
    "### Salvando Tabela 9º Ano Rotulada"
   ]
  },
  {
   "cell_type": "code",
   "execution_count": 68,
   "metadata": {},
   "outputs": [],
   "source": [
    "#ano9_encoded.to_csv('/Users/luisr/Desktop/Repository/IBM_courses/Personal Work/Notebooks/Education/Preprocessing/Questionário_aluno_preprocessing/Tabelas Series/serie9_rotulado.csv', index=False)\n",
    "#17/03/2021 (02:37)"
   ]
  },
  {
   "cell_type": "code",
   "execution_count": 69,
   "metadata": {},
   "outputs": [
    {
     "data": {
      "text/plain": [
       "int32      488\n",
       "float64     21\n",
       "int64       11\n",
       "dtype: int64"
      ]
     },
     "execution_count": 69,
     "metadata": {},
     "output_type": "execute_result"
    }
   ],
   "source": [
    "ano9_encoded.dtypes.value_counts()"
   ]
  },
  {
   "cell_type": "markdown",
   "metadata": {},
   "source": [
    "---"
   ]
  },
  {
   "cell_type": "markdown",
   "metadata": {},
   "source": [
    "# LIMPEZA DOS DADOS DA 5ª SÉRIE BASEADA NA VARIÁVEL ÁLVO"
   ]
  },
  {
   "cell_type": "markdown",
   "metadata": {},
   "source": [
    "### Excluindo Colunas Vazias ou Constantes"
   ]
  },
  {
   "cell_type": "code",
   "execution_count": 18,
   "metadata": {},
   "outputs": [],
   "source": [
    "out_cols_5serie = [ 'ID_SERIE',\n",
    "                    'IN_PROVA_BRASIL',\n",
    "                    'TX_RESP_Q055',\n",
    "                    'TX_RESP_Q056',\n",
    "                    'TX_RESP_Q057',\n",
    "                    'TX_RESP_Q058',\n",
    "                    'TX_RESP_Q059',\n",
    "                    'TX_RESP_Q060',\n",
    "                    'TX_RESP_Q061',\n",
    "                    'TX_RESP_Q062']"
   ]
  },
  {
   "cell_type": "code",
   "execution_count": 19,
   "metadata": {},
   "outputs": [],
   "source": [
    "ano5.drop(out_cols_5serie, axis=1, inplace=True)"
   ]
  },
  {
   "cell_type": "markdown",
   "metadata": {},
   "source": [
    "### Selecionando Variável Álvo e Contando Categorias"
   ]
  },
  {
   "cell_type": "code",
   "execution_count": 91,
   "metadata": {},
   "outputs": [],
   "source": [
    "#target = 'TX_RESP_Q048'  # Reprovação\n",
    "target = 'TX_RESP_Q049'  # Abandono"
   ]
  },
  {
   "cell_type": "code",
   "execution_count": 102,
   "metadata": {},
   "outputs": [
    {
     "data": {
      "text/plain": [
       "A    368952\n",
       "B     35632\n",
       ".     19747\n",
       "C     11286\n",
       "Name: TX_RESP_Q049, dtype: int64"
      ]
     },
     "execution_count": 102,
     "metadata": {},
     "output_type": "execute_result"
    }
   ],
   "source": [
    "ano5[target].value_counts()"
   ]
  },
  {
   "cell_type": "markdown",
   "metadata": {},
   "source": [
    "### Excluindo Linhas Onde a Variável Alvo (Abandono) é Desconhecida"
   ]
  },
  {
   "cell_type": "code",
   "execution_count": 245,
   "metadata": {},
   "outputs": [],
   "source": [
    "ano5 = ano5[ano5[target]!='.']"
   ]
  },
  {
   "cell_type": "markdown",
   "metadata": {},
   "source": [
    "### Contando Colunas Vazias"
   ]
  },
  {
   "cell_type": "code",
   "execution_count": 262,
   "metadata": {},
   "outputs": [
    {
     "name": "stdout",
     "output_type": "stream",
     "text": [
      "521 / 522\n"
     ]
    }
   ],
   "source": [
    "n_cols = len(ano5.columns)\n",
    "null_cols = []\n",
    "for i, col in enumerate(ano5.columns):\n",
    "    null_cols.append((ano5[col]=='.').sum())\n",
    "    clear_output(wait=True)\n",
    "    print(i, '/', n_cols-1)"
   ]
  },
  {
   "cell_type": "code",
   "execution_count": 279,
   "metadata": {},
   "outputs": [
    {
     "data": {
      "image/png": "[encoded data removed]",
      "text/plain": [
       "<Figure size 504x144 with 1 Axes>"
      ]
     },
     "metadata": {},
     "output_type": "display_data"
    }
   ],
   "source": [
    "null_cols_df = pd.DataFrame(null_cols, index=ano5.columns, columns=['Vazios'])\n",
    "\n",
    "(null_cols_df/len(ano5)).sort_values('Vazios', ascending=False).head(30).plot.bar(figsize=(7,2))\n",
    "plt.title('Proporção de Células Vazias por Coluna (Top 30)')\n",
    "plt.ylabel('p')\n",
    "plt.show()"
   ]
  },
  {
   "cell_type": "markdown",
   "metadata": {},
   "source": [
    "### Contando Linhas Vazias"
   ]
  },
  {
   "cell_type": "code",
   "execution_count": 270,
   "metadata": {},
   "outputs": [],
   "source": [
    "ano5_vazio = ano5=='.'"
   ]
  },
  {
   "cell_type": "code",
   "execution_count": 281,
   "metadata": {},
   "outputs": [],
   "source": [
    "linhas_vazias = ano5_vazio.sum(axis=1)\n",
    "null_row_freq = linhas_vazias.value_counts()/len(ano5)"
   ]
  },
  {
   "cell_type": "code",
   "execution_count": 320,
   "metadata": {},
   "outputs": [
    {
     "name": "stdout",
     "output_type": "stream",
     "text": [
      "Proporção de Linhas Completas:  0.64 %\n",
      "Número de Items Máximo Faltando em uma Linha: 429 \\ 522\n"
     ]
    }
   ],
   "source": [
    "print('Proporção de Linhas Completas: ', round(null_row_freq[0]*100, 2), '%')"
   ]
  },
  {
   "cell_type": "code",
   "execution_count": 285,
   "metadata": {},
   "outputs": [
    {
     "data": {
      "text/plain": [
       "Text(0.5, 0, 'Nº Células Vazias')"
      ]
     },
     "execution_count": 285,
     "metadata": {},
     "output_type": "execute_result"
    },
    {
     "data": {
      "image/png": "[encoded data removed]",
      "text/plain": [
       "<Figure size 504x144 with 1 Axes>"
      ]
     },
     "metadata": {},
     "output_type": "display_data"
    }
   ],
   "source": [
    "null_row_freq.reset_index().sort_values('index').head(40).plot.bar(x='index', figsize=(7,2), width=1)\n",
    "plt.title('Proporção de Linhas da Tabela por Nº de Células Vazias')\n",
    "plt.ylabel('Proporção de Linhas da Tabela')\n",
    "plt.xlabel('Nº Células Vazias')"
   ]
  },
  {
   "cell_type": "code",
   "execution_count": 328,
   "metadata": {},
   "outputs": [],
   "source": [
    "freq_acum = []\n",
    "for celulas_faltando in sorted(null_row_freq.index):\n",
    "    freq_acum.append(null_row_freq[null_row_freq.index < celulas_faltando].sum())"
   ]
  },
  {
   "cell_type": "code",
   "execution_count": 386,
   "metadata": {},
   "outputs": [
    {
     "data": {
      "image/png": "[encoded data removed]",
      "text/plain": [
       "<Figure size 864x216 with 2 Axes>"
      ]
     },
     "metadata": {},
     "output_type": "display_data"
    }
   ],
   "source": [
    "fig, axs = plt.subplots(1,2,figsize=(12,3))\n",
    "axs[0].plot(sorted(null_row_freq.index), freq_acum)\n",
    "axs[1].plot(sorted(null_row_freq.index), freq_acum)\n",
    "\n",
    "[axs[i].set(xticks=range(0,450,30), ylabel='Proporção de de Linhas', xlabel='Nº Máximo Células Faltando') for i in [0,1]]\n",
    "axs[1].set_ylim(0.997, 1.00015)\n",
    "axs[1].set_xlim(170, 440)\n",
    "[axs[i].set_title('Frequencia Acumulada Número de Células Vazias por Linha') for i in [0,1]]\n",
    "plt.show()"
   ]
  },
  {
   "cell_type": "markdown",
   "metadata": {},
   "source": [
    "### Eliminando Linhas com Mais de 170 Células Vazias"
   ]
  },
  {
   "cell_type": "code",
   "execution_count": 395,
   "metadata": {},
   "outputs": [
    {
     "name": "stderr",
     "output_type": "stream",
     "text": [
      "C:\\Users\\luisr\\anaconda3\\lib\\site-packages\\pandas\\core\\ops\\array_ops.py:253: FutureWarning: elementwise comparison failed; returning scalar instead, but in the future will perform elementwise comparison\n",
      "  res_values = method(rvalues)\n"
     ]
    }
   ],
   "source": [
    "ano5 = ano5[(ano5=='.').sum(axis=1)<170]"
   ]
  },
  {
   "cell_type": "code",
   "execution_count": 397,
   "metadata": {},
   "outputs": [],
   "source": [
    "#ano5.to_csv('/Users/luisr/Desktop/Repository/IBM_courses/Personal Work/Notebooks/Education/Preprocessing/Questionário_aluno_preprocessing/Tabelas Series/serie5_limpo.csv', index=False)\n",
    "# 15/03/2021 (12:05)"
   ]
  },
  {
   "cell_type": "code",
   "execution_count": 222,
   "metadata": {},
   "outputs": [],
   "source": [
    "ano5 = pd.read_csv('/Users/luisr/Desktop/Repository/IBM_courses/Personal Work/Notebooks/Education/Preprocessing/Questionário_aluno_preprocessing/Tabelas Series/serie5_limpo.csv')"
   ]
  },
  {
   "cell_type": "markdown",
   "metadata": {},
   "source": [
    "---"
   ]
  }
 ],
 "metadata": {
  "kernelspec": {
   "display_name": "Python 3",
   "language": "python",
   "name": "python3"
  },
  "language_info": {
   "codemirror_mode": {
    "name": "ipython",
    "version": 3
   },
   "file_extension": ".py",
   "mimetype": "text/x-python",
   "name": "python",
   "nbconvert_exporter": "python",
   "pygments_lexer": "ipython3",
   "version": "3.8.3"
  }
 },
 "nbformat": 4,
 "nbformat_minor": 4
}
