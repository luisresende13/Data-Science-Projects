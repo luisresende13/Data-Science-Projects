{
 "cells": [
  {
   "cell_type": "markdown",
   "metadata": {},
   "source": [
    "# Web Scraping: Scrape Unsplash Web Site for Image Urls with Beautiful Soup"
   ]
  },
  {
   "cell_type": "markdown",
   "metadata": {},
   "source": [
    "### Importing modules"
   ]
  },
  {
   "cell_type": "code",
   "execution_count": 3,
   "metadata": {},
   "outputs": [],
   "source": [
    "from bs4 import BeautifulSoup\n",
    "import requests\n",
    "import pandas as pd\n",
    "import numpy as np\n",
    "import matplotlib.pyplot as plt\n",
    "import seaborn as sns\n",
    "import json"
   ]
  },
  {
   "cell_type": "code",
   "execution_count": 38,
   "metadata": {},
   "outputs": [],
   "source": [
    "pd.set_option('display.max_colwidth', None)\n",
    "pd.set_option('display.max_rows', None)"
   ]
  },
  {
   "cell_type": "markdown",
   "metadata": {},
   "source": [
    "### Settings"
   ]
  },
  {
   "cell_type": "code",
   "execution_count": 194,
   "metadata": {},
   "outputs": [],
   "source": [
    "wallpaper_types = ['screen/4k', 'iphone', 'cool', 'cute', 'screen/live', 'desktop/pc', 'colors/black', 'iphone/ipad', 'desktop']\n",
    "\n",
    "categories_dict = {\n",
    "    'none': None,\n",
    "    'profile': ['D1hjc'],\n",
    "    'mobile': ['YVj9w'],\n",
    "    'mobile-2': ['YVj9w', 'f27ne'],\n",
    "    'landscape': ['YVj9w', 'ht4YT']\n",
    "}\n",
    "\n",
    "url = 'https://unsplash.com/'"
   ]
  },
  {
   "cell_type": "markdown",
   "metadata": {},
   "source": [
    "## Scraping"
   ]
  },
  {
   "cell_type": "code",
   "execution_count": 275,
   "metadata": {},
   "outputs": [
    {
     "name": "stdout",
     "output_type": "stream",
     "text": [
      "Categories found: 4\n",
      "[list(['D1hjc']) list(['YVj9w']) list(['YVj9w', 'f27ne'])\n",
      " list(['YVj9w', 'ht4YT'])]\n"
     ]
    },
    {
     "name": "stderr",
     "output_type": "stream",
     "text": [
      "C:\\Users\\luisr\\anaconda3\\lib\\site-packages\\numpy\\core\\_asarray.py:136: VisibleDeprecationWarning: Creating an ndarray from ragged nested sequences (which is a list-or-tuple of lists-or-tuples-or ndarrays with different lengths or shapes) is deprecated. If you meant to do this, you must specify 'dtype=object' when creating the ndarray\n",
      "  return array(a, dtype, copy=False, order=order, subok=True)\n"
     ]
    }
   ],
   "source": [
    "img_dfs = {}\n",
    "for wallpaper_type in wallpaper_types:\n",
    "    response = requests.get( url + 'wallpapers/' + wallpaper_type)\n",
    "    html_text = response.text\n",
    "    soupObj = BeautifulSoup(html_text, 'html.parser')\n",
    "    imgs = soupObj.find_all('img')\n",
    "\n",
    "    img_table = []\n",
    "    for img in imgs:\n",
    "        img_table.append([img.get('class'), img.get('src').split('?')[0]])\n",
    "\n",
    "    img_df = pd.DataFrame(img_table, columns=['classes', 'uri'])\n",
    "    img_df['type'] = np.nan\n",
    "    for i in img_df.index:\n",
    "        for key in categories_dict.keys():\n",
    "            if img_df.loc[i, 'classes'] == categories_dict[key]:\n",
    "                img_df.loc[i, 'type'] = key\n",
    "   \n",
    "    img_df['category'] = wallpaper_type\n",
    "    img_dfs[wallpaper_type] = img_df.copy()\n",
    "    \n",
    "global_ctgrs = []\n",
    "for key in img_dfs.keys():\n",
    "    global_ctgrs += list(np.unique(img_dfs[key]['classes'].dropna()))\n",
    "global_ctgrs = np.unique(global_ctgrs)\n",
    "print('Categories found: ' + str(len(global_ctgrs)) + '\\n' + str(global_ctgrs))\n",
    "\n",
    "imgs_df = pd.concat([img_dfs[key] for key in img_dfs.keys()], 0).reset_index(drop=True)\n",
    "imgs_df_clean = imgs_df[imgs_df['type']!='none']\n",
    "imgs_df_clean['id'] = ['img-' + str(i) for i in imgs_df_clean.index]"
   ]
  },
  {
   "cell_type": "markdown",
   "metadata": {},
   "source": [
    "## Saving Scraped Images "
   ]
  },
  {
   "cell_type": "markdown",
   "metadata": {},
   "source": [
    "#### As csv file"
   ]
  },
  {
   "cell_type": "code",
   "execution_count": 277,
   "metadata": {},
   "outputs": [],
   "source": [
    "#imgs_df_clean.to_csv('data/unsplash_imgs.csv', index=False)"
   ]
  },
  {
   "cell_type": "code",
   "execution_count": 4,
   "metadata": {},
   "outputs": [],
   "source": [
    "imgs_clean = pd.read_csv('data/unsplash_imgs.csv')"
   ]
  },
  {
   "cell_type": "code",
   "execution_count": 40,
   "metadata": {},
   "outputs": [
    {
     "data": {
      "text/html": [
       "<div>\n",
       "<style scoped>\n",
       "    .dataframe tbody tr th:only-of-type {\n",
       "        vertical-align: middle;\n",
       "    }\n",
       "\n",
       "    .dataframe tbody tr th {\n",
       "        vertical-align: top;\n",
       "    }\n",
       "\n",
       "    .dataframe thead th {\n",
       "        text-align: right;\n",
       "    }\n",
       "</style>\n",
       "<table border=\"1\" class=\"dataframe\">\n",
       "  <thead>\n",
       "    <tr style=\"text-align: right;\">\n",
       "      <th></th>\n",
       "      <th>classes</th>\n",
       "      <th>uri</th>\n",
       "      <th>type</th>\n",
       "      <th>category</th>\n",
       "      <th>id</th>\n",
       "    </tr>\n",
       "  </thead>\n",
       "  <tbody>\n",
       "    <tr>\n",
       "      <th>0</th>\n",
       "      <td>['YVj9w', 'ht4YT']</td>\n",
       "      <td>https://media.istockphoto.com/photos/space-background-wiht-stars-stock-image-picture-id1287901429</td>\n",
       "      <td>landscape</td>\n",
       "      <td>screen/4k</td>\n",
       "      <td>img-0</td>\n",
       "    </tr>\n",
       "    <tr>\n",
       "      <th>1</th>\n",
       "      <td>['YVj9w', 'ht4YT']</td>\n",
       "      <td>https://media.istockphoto.com/photos/abstract-background-wallpaper-picture-id952039286</td>\n",
       "      <td>landscape</td>\n",
       "      <td>screen/4k</td>\n",
       "      <td>img-1</td>\n",
       "    </tr>\n",
       "    <tr>\n",
       "      <th>2</th>\n",
       "      <td>['YVj9w', 'ht4YT']</td>\n",
       "      <td>https://media.istockphoto.com/photos/digital-eye-wave-lines-stock-background-stock-video-picture-id1226241649</td>\n",
       "      <td>landscape</td>\n",
       "      <td>screen/4k</td>\n",
       "      <td>img-2</td>\n",
       "    </tr>\n",
       "    <tr>\n",
       "      <th>3</th>\n",
       "      <td>['YVj9w', 'ht4YT']</td>\n",
       "      <td>https://media.istockphoto.com/photos/abstract-technology-blue-spotlight-backgrounds-loopable-elements-4k-picture-id1174989484</td>\n",
       "      <td>landscape</td>\n",
       "      <td>screen/4k</td>\n",
       "      <td>img-3</td>\n",
       "    </tr>\n",
       "    <tr>\n",
       "      <th>4</th>\n",
       "      <td>['YVj9w', 'ht4YT']</td>\n",
       "      <td>https://media.istockphoto.com/photos/space-background-wiht-stars-stock-image-picture-id1287901429</td>\n",
       "      <td>landscape</td>\n",
       "      <td>screen/4k</td>\n",
       "      <td>img-4</td>\n",
       "    </tr>\n",
       "  </tbody>\n",
       "</table>\n",
       "</div>"
      ],
      "text/plain": [
       "              classes  \\\n",
       "0  ['YVj9w', 'ht4YT']   \n",
       "1  ['YVj9w', 'ht4YT']   \n",
       "2  ['YVj9w', 'ht4YT']   \n",
       "3  ['YVj9w', 'ht4YT']   \n",
       "4  ['YVj9w', 'ht4YT']   \n",
       "\n",
       "                                                                                                                             uri  \\\n",
       "0                              https://media.istockphoto.com/photos/space-background-wiht-stars-stock-image-picture-id1287901429   \n",
       "1                                         https://media.istockphoto.com/photos/abstract-background-wallpaper-picture-id952039286   \n",
       "2                  https://media.istockphoto.com/photos/digital-eye-wave-lines-stock-background-stock-video-picture-id1226241649   \n",
       "3  https://media.istockphoto.com/photos/abstract-technology-blue-spotlight-backgrounds-loopable-elements-4k-picture-id1174989484   \n",
       "4                              https://media.istockphoto.com/photos/space-background-wiht-stars-stock-image-picture-id1287901429   \n",
       "\n",
       "        type   category     id  \n",
       "0  landscape  screen/4k  img-0  \n",
       "1  landscape  screen/4k  img-1  \n",
       "2  landscape  screen/4k  img-2  \n",
       "3  landscape  screen/4k  img-3  \n",
       "4  landscape  screen/4k  img-4  "
      ]
     },
     "execution_count": 40,
     "metadata": {},
     "output_type": "execute_result"
    }
   ],
   "source": [
    "imgs_clean.head()"
   ]
  },
  {
   "cell_type": "markdown",
   "metadata": {},
   "source": [
    "#### As json file"
   ]
  },
  {
   "cell_type": "code",
   "execution_count": 25,
   "metadata": {},
   "outputs": [],
   "source": [
    "imgs_list = []\n",
    "for i in imgs_clean.index:\n",
    "    imgs_list.append({col: imgs_clean.loc[i, col] for col in imgs_clean.columns})"
   ]
  },
  {
   "cell_type": "code",
   "execution_count": 26,
   "metadata": {},
   "outputs": [],
   "source": [
    "imgs_json = json.dumps(imgs_list, sort_keys=True, indent=4)"
   ]
  },
  {
   "cell_type": "code",
   "execution_count": 27,
   "metadata": {},
   "outputs": [
    {
     "data": {
      "text/plain": [
       "218392"
      ]
     },
     "execution_count": 27,
     "metadata": {},
     "output_type": "execute_result"
    }
   ],
   "source": [
    "open('data/unsplash_imgs.json', 'w').write(imgs_json)"
   ]
  },
  {
   "cell_type": "markdown",
   "metadata": {},
   "source": [
    "#### As JavaScript File"
   ]
  },
  {
   "cell_type": "code",
   "execution_count": 28,
   "metadata": {},
   "outputs": [
    {
     "data": {
      "text/plain": [
       "218420"
      ]
     },
     "execution_count": 28,
     "metadata": {},
     "output_type": "execute_result"
    }
   ],
   "source": [
    "open('data/unsplash_imgs.js', 'w').write('export default const Imgs = ' + imgs_json)"
   ]
  },
  {
   "cell_type": "markdown",
   "metadata": {},
   "source": [
    "# Exploratory Data Analysis"
   ]
  },
  {
   "cell_type": "code",
   "execution_count": 256,
   "metadata": {},
   "outputs": [],
   "source": [
    "sns.set(\n",
    "    context='notebook',\n",
    "    style='darkgrid',\n",
    "    palette='deep'\n",
    ")"
   ]
  },
  {
   "cell_type": "markdown",
   "metadata": {},
   "source": [
    "### Image count per category"
   ]
  },
  {
   "cell_type": "code",
   "execution_count": 257,
   "metadata": {},
   "outputs": [
    {
     "data": {
      "text/plain": [
       "<matplotlib.axes._subplots.AxesSubplot at 0x2c06db00e20>"
      ]
     },
     "execution_count": 257,
     "metadata": {},
     "output_type": "execute_result"
    },
    {
     "data": {
      "image/png": "[encoded data removed]",
      "text/plain": [
       "<Figure size 432x288 with 1 Axes>"
      ]
     },
     "metadata": {},
     "output_type": "display_data"
    }
   ],
   "source": [
    "imgs_clean['category'].value_counts().plot.bar(color='orange')"
   ]
  },
  {
   "cell_type": "markdown",
   "metadata": {},
   "source": [
    "### Image proportion per type and category"
   ]
  },
  {
   "cell_type": "code",
   "execution_count": 5,
   "metadata": {},
   "outputs": [
    {
     "data": {
      "text/plain": [
       "<matplotlib.axes._subplots.AxesSubplot at 0x2ae1fc79be0>"
      ]
     },
     "execution_count": 5,
     "metadata": {},
     "output_type": "execute_result"
    },
    {
     "data": {
      "image/png": "[encoded data removed]",
      "text/plain": [
       "<Figure size 432x288 with 1 Axes>"
      ]
     },
     "metadata": {},
     "output_type": "display_data"
    }
   ],
   "source": [
    "imgs_clean['type'].value_counts().plot.pie()"
   ]
  },
  {
   "cell_type": "code",
   "execution_count": 6,
   "metadata": {},
   "outputs": [
    {
     "data": {
      "text/plain": [
       "<matplotlib.axes._subplots.AxesSubplot at 0x2ae1fd4da60>"
      ]
     },
     "execution_count": 6,
     "metadata": {},
     "output_type": "execute_result"
    },
    {
     "data": {
      "image/png": "[encoded data removed]",
      "text/plain": [
       "<Figure size 432x288 with 1 Axes>"
      ]
     },
     "metadata": {},
     "output_type": "display_data"
    }
   ],
   "source": [
    "imgs_clean['category'].value_counts().plot.pie()"
   ]
  },
  {
   "cell_type": "code",
   "execution_count": 259,
   "metadata": {},
   "outputs": [
    {
     "data": {
      "text/plain": [
       "<matplotlib.axes._subplots.AxesSubplot at 0x2c06b761760>"
      ]
     },
     "execution_count": 259,
     "metadata": {},
     "output_type": "execute_result"
    },
    {
     "data": {
      "image/png": "[encoded data removed]",
      "text/plain": [
       "<Figure size 432x288 with 1 Axes>"
      ]
     },
     "metadata": {},
     "output_type": "display_data"
    }
   ],
   "source": [
    "imgs_clean.groupby(['category', 'type']).count()['classes'].to_frame().unstack(1).plot()"
   ]
  },
  {
   "cell_type": "markdown",
   "metadata": {},
   "source": [
    "## Extra: Saving color name and hexadecimal notation list as json file from string"
   ]
  },
  {
   "cell_type": "markdown",
   "metadata": {},
   "source": [
    "#### Colors as string"
   ]
  },
  {
   "cell_type": "code",
   "execution_count": 9,
   "metadata": {
    "jupyter": {
     "source_hidden": true
    }
   },
   "outputs": [],
   "source": [
    "colors_str = '''aliceblue (`#f0f8ff`)\n",
    "antiquewhite (`#faebd7`)\n",
    "aqua (`#00ffff`)\n",
    "aquamarine (`#7fffd4`)\n",
    "azure (`#f0ffff`)\n",
    "beige (`#f5f5dc`)\n",
    "bisque (`#ffe4c4`)\n",
    "black (`#000000`)\n",
    "blanchedalmond (`#ffebcd`)\n",
    "blue (`#0000ff`)\n",
    "blueviolet (`#8a2be2`)\n",
    "brown (`#a52a2a`)\n",
    "burlywood (`#deb887`)\n",
    "cadetblue (`#5f9ea0`)\n",
    "chartreuse (`#7fff00`)\n",
    "chocolate (`#d2691e`)\n",
    "coral (`#ff7f50`)\n",
    "cornflowerblue (`#6495ed`)\n",
    "cornsilk (`#fff8dc`)\n",
    "crimson (`#dc143c`)\n",
    "cyan (`#00ffff`)\n",
    "darkblue (`#00008b`)\n",
    "darkcyan (`#008b8b`)\n",
    "darkgoldenrod (`#b8860b`)\n",
    "darkgray (`#a9a9a9`)\n",
    "darkgreen (`#006400`)\n",
    "darkgrey (`#a9a9a9`)\n",
    "darkkhaki (`#bdb76b`)\n",
    "darkmagenta (`#8b008b`)\n",
    "darkolivegreen (`#556b2f`)\n",
    "darkorange (`#ff8c00`)\n",
    "darkorchid (`#9932cc`)\n",
    "darkred (`#8b0000`)\n",
    "darksalmon (`#e9967a`)\n",
    "darkseagreen (`#8fbc8f`)\n",
    "darkslateblue (`#483d8b`)\n",
    "darkslategrey (`#2f4f4f`)\n",
    "darkturquoise (`#00ced1`)\n",
    "darkviolet (`#9400d3`)\n",
    "deeppink (`#ff1493`)\n",
    "deepskyblue (`#00bfff`)\n",
    "dimgray (`#696969`)\n",
    "dimgrey (`#696969`)\n",
    "dodgerblue (`#1e90ff`)\n",
    "firebrick (`#b22222`)\n",
    "floralwhite (`#fffaf0`)\n",
    "forestgreen (`#228b22`)\n",
    "fuchsia (`#ff00ff`)\n",
    "gainsboro (`#dcdcdc`)\n",
    "ghostwhite (`#f8f8ff`)\n",
    "gold (`#ffd700`)\n",
    "goldenrod (`#daa520`)\n",
    "gray (`#808080`)\n",
    "green (`#008000`)\n",
    "greenyellow (`#adff2f`)\n",
    "grey (`#808080`)\n",
    "honeydew (`#f0fff0`)\n",
    "hotpink (`#ff69b4`)\n",
    "indianred (`#cd5c5c`)\n",
    "indigo (`#4b0082`)\n",
    "ivory (`#fffff0`)\n",
    "khaki (`#f0e68c`)\n",
    "lavender (`#e6e6fa`)\n",
    "lavenderblush (`#fff0f5`)\n",
    "lawngreen (`#7cfc00`)\n",
    "lemonchiffon (`#fffacd`)\n",
    "lightblue (`#add8e6`)\n",
    "lightcoral (`#f08080`)\n",
    "lightcyan (`#e0ffff`)\n",
    "lightgoldenrodyellow (`#fafad2`)\n",
    "lightgray (`#d3d3d3`)\n",
    "lightgreen (`#90ee90`)\n",
    "lightgrey (`#d3d3d3`)\n",
    "lightpink (`#ffb6c1`)\n",
    "lightsalmon (`#ffa07a`)\n",
    "lightseagreen (`#20b2aa`)\n",
    "lightskyblue (`#87cefa`)\n",
    "lightslategrey (`#778899`)\n",
    "lightsteelblue (`#b0c4de`)\n",
    "lightyellow (`#ffffe0`)\n",
    "lime (`#00ff00`)\n",
    "limegreen (`#32cd32`)\n",
    "linen (`#faf0e6`)\n",
    "magenta (`#ff00ff`)\n",
    "maroon (`#800000`)\n",
    "mediumaquamarine (`#66cdaa`)\n",
    "mediumblue (`#0000cd`)\n",
    "mediumorchid (`#ba55d3`)\n",
    "mediumpurple (`#9370db`)\n",
    "mediumseagreen (`#3cb371`)\n",
    "mediumslateblue (`#7b68ee`)\n",
    "mediumspringgreen (`#00fa9a`)\n",
    "mediumturquoise (`#48d1cc`)\n",
    "mediumvioletred (`#c71585`)\n",
    "midnightblue (`#191970`)\n",
    "mintcream (`#f5fffa`)\n",
    "mistyrose (`#ffe4e1`)\n",
    "moccasin (`#ffe4b5`)\n",
    "navajowhite (`#ffdead`)\n",
    "navy (`#000080`)\n",
    "oldlace (`#fdf5e6`)\n",
    "olive (`#808000`)\n",
    "olivedrab (`#6b8e23`)\n",
    "orange (`#ffa500`)\n",
    "orangered (`#ff4500`)\n",
    "orchid (`#da70d6`)\n",
    "palegoldenrod (`#eee8aa`)\n",
    "palegreen (`#98fb98`)\n",
    "paleturquoise (`#afeeee`)\n",
    "palevioletred (`#db7093`)\n",
    "papayawhip (`#ffefd5`)\n",
    "peachpuff (`#ffdab9`)\n",
    "peru (`#cd853f`)\n",
    "pink (`#ffc0cb`)\n",
    "plum (`#dda0dd`)\n",
    "powderblue (`#b0e0e6`)\n",
    "purple (`#800080`)\n",
    "rebeccapurple (`#663399`)\n",
    "red (`#ff0000`)\n",
    "rosybrown (`#bc8f8f`)\n",
    "royalblue (`#4169e1`)\n",
    "saddlebrown (`#8b4513`)\n",
    "salmon (`#fa8072`)\n",
    "sandybrown (`#f4a460`)\n",
    "seagreen (`#2e8b57`)\n",
    "seashell (`#fff5ee`)\n",
    "sienna (`#a0522d`)\n",
    "silver (`#c0c0c0`)\n",
    "skyblue (`#87ceeb`)\n",
    "slateblue (`#6a5acd`)\n",
    "slategray (`#708090`)\n",
    "snow (`#fffafa`)\n",
    "springgreen (`#00ff7f`)\n",
    "steelblue (`#4682b4`)\n",
    "tan (`#d2b48c`)\n",
    "teal (`#008080`)\n",
    "thistle (`#d8bfd8`)\n",
    "tomato (`#ff6347`)\n",
    "turquoise (`#40e0d0`)\n",
    "violet (`#ee82ee`)\n",
    "wheat (`#f5deb3`)\n",
    "white (`#ffffff`)\n",
    "whitesmoke (`#f5f5f5`)\n",
    "yellow (`#ffff00`)\n",
    "yellowgreen (`#9acd32`)'''"
   ]
  },
  {
   "cell_type": "markdown",
   "metadata": {},
   "source": [
    "#### Processing colors string"
   ]
  },
  {
   "cell_type": "code",
   "execution_count": 26,
   "metadata": {},
   "outputs": [],
   "source": [
    "color_lst_str = json.dumps([item.split(' ')[0] for item in colors_str.split('\\n')], indent=4)\n",
    "hex_color_lst_str = json.dumps([item.split(' ')[1].split('`')[1] for item in colors_str.split('\\n')], indent=4)"
   ]
  },
  {
   "cell_type": "markdown",
   "metadata": {},
   "source": [
    "#### Saving color lists as json"
   ]
  },
  {
   "cell_type": "code",
   "execution_count": 27,
   "metadata": {},
   "outputs": [
    {
     "data": {
      "text/plain": [
       "2177"
      ]
     },
     "execution_count": 27,
     "metadata": {},
     "output_type": "execute_result"
    }
   ],
   "source": [
    "#open('data/colorList.json', 'w').write(color_lst_str)\n",
    "#open('data/hexColorList.json', 'w').write(hex_color_lst_str)"
   ]
  },
  {
   "cell_type": "markdown",
   "metadata": {},
   "source": [
    "#### Printing result"
   ]
  },
  {
   "cell_type": "code",
   "execution_count": 30,
   "metadata": {},
   "outputs": [
    {
     "name": "stdout",
     "output_type": "stream",
     "text": [
      "[\n",
      "    \"aliceblue\",\n",
      "    \"antiquewhite\",\n",
      "    \"aqua\",\n",
      "    \"aquamarine\",\n",
      "    \"azure\",\n",
      "    \"beige\",\n",
      "    \n"
     ]
    }
   ],
   "source": [
    "print(color_lst_str[:99])"
   ]
  },
  {
   "cell_type": "code",
   "execution_count": 29,
   "metadata": {},
   "outputs": [
    {
     "name": "stdout",
     "output_type": "stream",
     "text": [
      "[\n",
      "    \"#f0f8ff\",\n",
      "    \"#faebd7\",\n",
      "    \"#00ffff\",\n",
      "    \"#7fffd4\",\n",
      "    \"#f0ffff\",\n",
      "    \"#f5f5dc\",\n",
      "    \"#ff\n"
     ]
    }
   ],
   "source": [
    "print(hex_color_lst_str[:100])"
   ]
  }
 ],
 "metadata": {
  "kernelspec": {
   "display_name": "Python 3",
   "language": "python",
   "name": "python3"
  },
  "language_info": {
   "codemirror_mode": {
    "name": "ipython",
    "version": 3
   },
   "file_extension": ".py",
   "mimetype": "text/x-python",
   "name": "python",
   "nbconvert_exporter": "python",
   "pygments_lexer": "ipython3",
   "version": "3.8.3"
  }
 },
 "nbformat": 4,
 "nbformat_minor": 4
}
