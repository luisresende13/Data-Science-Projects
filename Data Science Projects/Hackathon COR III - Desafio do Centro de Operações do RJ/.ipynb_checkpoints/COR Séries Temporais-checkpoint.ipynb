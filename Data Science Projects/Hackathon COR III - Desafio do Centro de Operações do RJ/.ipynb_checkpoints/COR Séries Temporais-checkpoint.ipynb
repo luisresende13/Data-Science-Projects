{
 "cells": [
  {
   "cell_type": "code",
   "execution_count": 1,
   "metadata": {},
   "outputs": [],
   "source": [
    "import pandas as pd, numpy as np, matplotlib.pyplot as plt, seaborn as sns\n",
    "from IPython.display import clear_output\n",
    "from datetime import datetime\n",
    "\n",
    "pd.set_option('display.max_rows', 100)\n",
    "sns.set()"
   ]
  },
  {
   "cell_type": "markdown",
   "metadata": {},
   "source": [
    "### Lendo Dados do Sistema 'Comando'"
   ]
  },
  {
   "cell_type": "code",
   "execution_count": 2,
   "metadata": {},
   "outputs": [
    {
     "name": "stderr",
     "output_type": "stream",
     "text": [
      "C:\\Users\\luisr\\anaconda3\\lib\\site-packages\\IPython\\core\\interactiveshell.py:3071: DtypeWarning: Columns (4,8) have mixed types.Specify dtype option on import or set low_memory=False.\n",
      "  has_raised = await self.run_ast_nodes(code_ast.body, cell_name,\n"
     ]
    }
   ],
   "source": [
    "comando = pd.read_csv('Dados\\Extração Sistema Comando.csv', sep='|')"
   ]
  },
  {
   "cell_type": "code",
   "execution_count": 3,
   "metadata": {},
   "outputs": [
    {
     "data": {
      "text/html": [
       "<div>\n",
       "<style scoped>\n",
       "    .dataframe tbody tr th:only-of-type {\n",
       "        vertical-align: middle;\n",
       "    }\n",
       "\n",
       "    .dataframe tbody tr th {\n",
       "        vertical-align: top;\n",
       "    }\n",
       "\n",
       "    .dataframe thead th {\n",
       "        text-align: right;\n",
       "    }\n",
       "</style>\n",
       "<table border=\"1\" class=\"dataframe\">\n",
       "  <thead>\n",
       "    <tr style=\"text-align: right;\">\n",
       "      <th></th>\n",
       "      <th>EVENTO_ID</th>\n",
       "      <th>EVENTO_TITULO</th>\n",
       "      <th>EVENTO_DESCRICAO</th>\n",
       "      <th>EVENTO_GRAVIDADE</th>\n",
       "      <th>EVENTO_BAIRRO</th>\n",
       "      <th>STATUS</th>\n",
       "      <th>EVENTO_INICIO</th>\n",
       "      <th>EVENTO_FIM</th>\n",
       "      <th>EVENTO_PRAZO</th>\n",
       "      <th>EVENTO_LATITUDE</th>\n",
       "      <th>EVENTO_LONGITUDE</th>\n",
       "      <th>POP_TITULO</th>\n",
       "      <th>POP_DESCRICAO</th>\n",
       "      <th>ORGAO_SIGLA</th>\n",
       "      <th>ORGAO_NOME</th>\n",
       "      <th>ACAO</th>\n",
       "    </tr>\n",
       "  </thead>\n",
       "  <tbody>\n",
       "    <tr>\n",
       "      <th>0</th>\n",
       "      <td>2</td>\n",
       "      <td>Ac mt e tx, na LVermelha, sent Centro, altura ...</td>\n",
       "      <td>Ac mt e tx, na LVermelha, sent Centro, altura ...</td>\n",
       "      <td>BAIXO</td>\n",
       "      <td>NaN</td>\n",
       "      <td>FECHADO</td>\n",
       "      <td>2015-02-23 12:13:04</td>\n",
       "      <td>2015-02-23 14:18:52</td>\n",
       "      <td>NaN</td>\n",
       "      <td>NaN</td>\n",
       "      <td>NaN</td>\n",
       "      <td>Acidente com vítima(s)</td>\n",
       "      <td>Acidente com vítima(s)</td>\n",
       "      <td>PM</td>\n",
       "      <td>Polícia Militar</td>\n",
       "      <td>Registrar o acidente</td>\n",
       "    </tr>\n",
       "    <tr>\n",
       "      <th>1</th>\n",
       "      <td>2</td>\n",
       "      <td>Ac mt e tx, na LVermelha, sent Centro, altura ...</td>\n",
       "      <td>Ac mt e tx, na LVermelha, sent Centro, altura ...</td>\n",
       "      <td>BAIXO</td>\n",
       "      <td>NaN</td>\n",
       "      <td>FECHADO</td>\n",
       "      <td>2015-02-23 12:13:04</td>\n",
       "      <td>2015-02-23 14:18:52</td>\n",
       "      <td>NaN</td>\n",
       "      <td>NaN</td>\n",
       "      <td>NaN</td>\n",
       "      <td>Acidente com vítima(s)</td>\n",
       "      <td>Acidente com vítima(s)</td>\n",
       "      <td>CET-RIO</td>\n",
       "      <td>Companhia de Engenharia de Tráfego</td>\n",
       "      <td>Desfazer o acidente</td>\n",
       "    </tr>\n",
       "    <tr>\n",
       "      <th>2</th>\n",
       "      <td>2</td>\n",
       "      <td>Ac mt e tx, na LVermelha, sent Centro, altura ...</td>\n",
       "      <td>Ac mt e tx, na LVermelha, sent Centro, altura ...</td>\n",
       "      <td>BAIXO</td>\n",
       "      <td>NaN</td>\n",
       "      <td>FECHADO</td>\n",
       "      <td>2015-02-23 12:13:04</td>\n",
       "      <td>2015-02-23 14:18:52</td>\n",
       "      <td>NaN</td>\n",
       "      <td>NaN</td>\n",
       "      <td>NaN</td>\n",
       "      <td>Acidente com vítima(s)</td>\n",
       "      <td>Acidente com vítima(s)</td>\n",
       "      <td>CET-RIO</td>\n",
       "      <td>Companhia de Engenharia de Tráfego</td>\n",
       "      <td>Organizar o trânsito</td>\n",
       "    </tr>\n",
       "    <tr>\n",
       "      <th>3</th>\n",
       "      <td>2</td>\n",
       "      <td>Ac mt e tx, na LVermelha, sent Centro, altura ...</td>\n",
       "      <td>Ac mt e tx, na LVermelha, sent Centro, altura ...</td>\n",
       "      <td>BAIXO</td>\n",
       "      <td>NaN</td>\n",
       "      <td>FECHADO</td>\n",
       "      <td>2015-02-23 12:13:04</td>\n",
       "      <td>2015-02-23 14:18:52</td>\n",
       "      <td>NaN</td>\n",
       "      <td>NaN</td>\n",
       "      <td>NaN</td>\n",
       "      <td>Acidente com vítima(s)</td>\n",
       "      <td>Acidente com vítima(s)</td>\n",
       "      <td>BOMBEIROS</td>\n",
       "      <td>Corpo de Bombeiros</td>\n",
       "      <td>Prevenir perigo</td>\n",
       "    </tr>\n",
       "    <tr>\n",
       "      <th>4</th>\n",
       "      <td>2</td>\n",
       "      <td>Ac mt e tx, na LVermelha, sent Centro, altura ...</td>\n",
       "      <td>Ac mt e tx, na LVermelha, sent Centro, altura ...</td>\n",
       "      <td>BAIXO</td>\n",
       "      <td>NaN</td>\n",
       "      <td>FECHADO</td>\n",
       "      <td>2015-02-23 12:13:04</td>\n",
       "      <td>2015-02-23 14:18:52</td>\n",
       "      <td>NaN</td>\n",
       "      <td>NaN</td>\n",
       "      <td>NaN</td>\n",
       "      <td>Acidente com vítima(s)</td>\n",
       "      <td>Acidente com vítima(s)</td>\n",
       "      <td>BOMBEIROS</td>\n",
       "      <td>Corpo de Bombeiros</td>\n",
       "      <td>Atender vítima(s)</td>\n",
       "    </tr>\n",
       "  </tbody>\n",
       "</table>\n",
       "</div>"
      ],
      "text/plain": [
       "   EVENTO_ID                                      EVENTO_TITULO  \\\n",
       "0          2  Ac mt e tx, na LVermelha, sent Centro, altura ...   \n",
       "1          2  Ac mt e tx, na LVermelha, sent Centro, altura ...   \n",
       "2          2  Ac mt e tx, na LVermelha, sent Centro, altura ...   \n",
       "3          2  Ac mt e tx, na LVermelha, sent Centro, altura ...   \n",
       "4          2  Ac mt e tx, na LVermelha, sent Centro, altura ...   \n",
       "\n",
       "                                    EVENTO_DESCRICAO EVENTO_GRAVIDADE  \\\n",
       "0  Ac mt e tx, na LVermelha, sent Centro, altura ...            BAIXO   \n",
       "1  Ac mt e tx, na LVermelha, sent Centro, altura ...            BAIXO   \n",
       "2  Ac mt e tx, na LVermelha, sent Centro, altura ...            BAIXO   \n",
       "3  Ac mt e tx, na LVermelha, sent Centro, altura ...            BAIXO   \n",
       "4  Ac mt e tx, na LVermelha, sent Centro, altura ...            BAIXO   \n",
       "\n",
       "  EVENTO_BAIRRO   STATUS        EVENTO_INICIO           EVENTO_FIM  \\\n",
       "0           NaN  FECHADO  2015-02-23 12:13:04  2015-02-23 14:18:52   \n",
       "1           NaN  FECHADO  2015-02-23 12:13:04  2015-02-23 14:18:52   \n",
       "2           NaN  FECHADO  2015-02-23 12:13:04  2015-02-23 14:18:52   \n",
       "3           NaN  FECHADO  2015-02-23 12:13:04  2015-02-23 14:18:52   \n",
       "4           NaN  FECHADO  2015-02-23 12:13:04  2015-02-23 14:18:52   \n",
       "\n",
       "  EVENTO_PRAZO  EVENTO_LATITUDE  EVENTO_LONGITUDE              POP_TITULO  \\\n",
       "0          NaN              NaN               NaN  Acidente com vítima(s)   \n",
       "1          NaN              NaN               NaN  Acidente com vítima(s)   \n",
       "2          NaN              NaN               NaN  Acidente com vítima(s)   \n",
       "3          NaN              NaN               NaN  Acidente com vítima(s)   \n",
       "4          NaN              NaN               NaN  Acidente com vítima(s)   \n",
       "\n",
       "            POP_DESCRICAO ORGAO_SIGLA                          ORGAO_NOME  \\\n",
       "0  Acidente com vítima(s)          PM                     Polícia Militar   \n",
       "1  Acidente com vítima(s)     CET-RIO  Companhia de Engenharia de Tráfego   \n",
       "2  Acidente com vítima(s)     CET-RIO  Companhia de Engenharia de Tráfego   \n",
       "3  Acidente com vítima(s)   BOMBEIROS                  Corpo de Bombeiros   \n",
       "4  Acidente com vítima(s)   BOMBEIROS                  Corpo de Bombeiros   \n",
       "\n",
       "                   ACAO  \n",
       "0  Registrar o acidente  \n",
       "1   Desfazer o acidente  \n",
       "2  Organizar o trânsito  \n",
       "3       Prevenir perigo  \n",
       "4     Atender vítima(s)  "
      ]
     },
     "execution_count": 3,
     "metadata": {},
     "output_type": "execute_result"
    }
   ],
   "source": [
    "comando.head()"
   ]
  },
  {
   "cell_type": "markdown",
   "metadata": {},
   "source": [
    "# Funções"
   ]
  },
  {
   "cell_type": "code",
   "execution_count": 4,
   "metadata": {},
   "outputs": [],
   "source": [
    "def remover_acentos(string):\n",
    "\n",
    "    item = string.lower()\n",
    "    for a, b in zip(['á', 'é', 'í', 'ó', 'ú'], ['a', 'e', 'i', 'o', 'u']):\n",
    "        item = item.replace(a, b)\n",
    "    \n",
    "    return item"
   ]
  },
  {
   "cell_type": "code",
   "execution_count": 5,
   "metadata": {},
   "outputs": [],
   "source": [
    "def find_in_col(col, word_list, avoid):\n",
    "\n",
    "    word_dict = {word:{'Contagem':0, 'Items':[], 'Index':[], 'Palavras':[]} for word in word_list}\n",
    "    for word in word_list:\n",
    "\n",
    "        for index, item in zip(col.index, col):\n",
    "            if type(item)==float: continue\n",
    "            new_item = remover_acentos(item)\n",
    "\n",
    "            if word in new_item:\n",
    "                \n",
    "                word_lst = new_item.split()                \n",
    "                for palavra in word_lst: \n",
    "                    if word in palavra:\n",
    "                        break\n",
    "                        \n",
    "                if palavra not in avoid:                   \n",
    "#                if sum([avoid_word in new_item for avoid_word in avoid])==0:\n",
    "                    word_dict[word]['Contagem']+=1\n",
    "                    word_dict[word]['Items'].append(new_item)     \n",
    "                    word_dict[word]['Index'].append(index)\n",
    "                    word_dict[word]['Palavras'].append(palavra)                            \n",
    "\n",
    "    return word_dict\n",
    "    "
   ]
  },
  {
   "cell_type": "code",
   "execution_count": 6,
   "metadata": {},
   "outputs": [],
   "source": [
    "def format_col(col):\n",
    "    \n",
    "    for item, index in zip(col, col.index):\n",
    "        \n",
    "        lst = item.split(' ')\n",
    "            \n",
    "        if len(lst[0])>=3:\n",
    "            if lst[0][2]=='h':\n",
    "                new_item = ' '.join(lst[2:]); col[index]=new_item; continue\n",
    "            \n",
    "        if lst[-1][-1]==')':\n",
    "            \n",
    "            lst = item.split(' ')\n",
    "            ind='a'\n",
    "            for word in reversed(lst):\n",
    "                \n",
    "                if word[0]=='(':\n",
    "                    ind = lst.index(word)\n",
    "                    break\n",
    "                    \n",
    "            if ind!='a':\n",
    "                new_item = ' '.join(lst[:ind])\n",
    "                col[index]=new_item\n",
    "      \n",
    "    return new_col"
   ]
  },
  {
   "cell_type": "code",
   "execution_count": 7,
   "metadata": {},
   "outputs": [],
   "source": [
    "def col_to_date(col):\n",
    "    new_col = []\n",
    "    cnt=0\n",
    "    for item in col:\n",
    "        cnt+=1\n",
    "        clear_output(wait=True); print(f'{cnt}/{len(col)}')\n",
    "        date = item.split(' ')[0].replace('-', '/').split('/');# date[0]=date[0][2:]\n",
    "        date = '/'.join([date[i] for i in [1,0]])\n",
    "        new_col.append(datetime.strptime(date, '%m/%Y').date())\n",
    "    \n",
    "    return pd.Series(new_col, index = col.index)"
   ]
  },
  {
   "cell_type": "markdown",
   "metadata": {},
   "source": [
    "---"
   ]
  },
  {
   "cell_type": "markdown",
   "metadata": {},
   "source": [
    "# LIMPEZA E MINEIRAÇÃO DOS DADOS"
   ]
  },
  {
   "cell_type": "markdown",
   "metadata": {},
   "source": [
    "# IDENTIFICANDO REGISTROS POR TIPO DE VEÍCULO INVOLVIDO"
   ]
  },
  {
   "cell_type": "markdown",
   "metadata": {},
   "source": [
    "#### Configurações"
   ]
  },
  {
   "cell_type": "code",
   "execution_count": 8,
   "metadata": {},
   "outputs": [],
   "source": [
    "siglas = { 'MT': 'moto',\n",
    "           'VP': 'veiculo de passeio',\n",
    "           'ON': 'onibus',\n",
    "           'CM': 'caminhao',\n",
    "           'UT': 'utilitario',\n",
    "           'AC': 'acidente'\n",
    "}"
   ]
  },
  {
   "cell_type": "code",
   "execution_count": 9,
   "metadata": {},
   "outputs": [],
   "source": [
    "coluna_de_busca = 'EVENTO_TITULO'\n",
    "\n",
    "buscas = ['mt', 'vp', 'on', 'cm', 'ut', 'ac']\n",
    "\n",
    "out_mt = ['almte', 'almte.', 'cmte', 'cmte.', 'comte',   # Variáveis 'out' encontradas posteriormente\n",
    "          'mt.ocupando', 'mte.', 'mtxon', 'samto', 'semt.',\n",
    "          'smtr', 'vpxmt', 'xmt']\n",
    "\n",
    "out_ut = ['(manutenção', '(manutenção)', '(outdoor)', 'adutora',\n",
    "          'aeronautas', 'auto', 'auto-estrada', 'autorizado', 'autorizado\"',\n",
    "          'autorizado)', 'b19576xutxvp)', 'couto', 'dutra.', 'estrutura',\n",
    "          'estrutura.', 'frutas', 'luther', 'manut/limpeza', 'manutenção',\n",
    "          'mutera', 'nautico)', 'obra/outros', 'outdoor', 'outono\"',\n",
    "          'outubro', 'souto', 'utilitario', 'viaduto', 'viaduto.']\n",
    "\n",
    "out = out_mt + out_ut"
   ]
  },
  {
   "cell_type": "markdown",
   "metadata": {},
   "source": [
    "#### Realizando busca por siglas de veículos"
   ]
  },
  {
   "cell_type": "code",
   "execution_count": 10,
   "metadata": {},
   "outputs": [],
   "source": [
    "resultado_busca = find_in_col(comando[coluna_de_busca], buscas, avoid=out)"
   ]
  },
  {
   "cell_type": "markdown",
   "metadata": {},
   "source": [
    "#### Extraindo contagem dos resultados"
   ]
  },
  {
   "cell_type": "code",
   "execution_count": 11,
   "metadata": {},
   "outputs": [
    {
     "data": {
      "image/png": "[encoded data removed]",
      "text/plain": [
       "<Figure size 432x288 with 1 Axes>"
      ]
     },
     "metadata": {},
     "output_type": "display_data"
    }
   ],
   "source": [
    "res_cnts = pd.DataFrame([resultado_busca[busca]['Contagem'] for busca in buscas], index=buscas, columns=['CONTAGEM'])\n",
    "\n",
    "res_cnts['PORCENTAGEM'] = 100 * res_cnts['CONTAGEM'] / len(comando)\n",
    "res_cnts.index.name = 'Veículo (sigla)'\n",
    "\n",
    "ax = res_cnts['PORCENTAGEM'].plot.bar(width=0.75); \n",
    "ax.set(title='Porcentagem de registros', ylabel='(%)')\n",
    "plt.show()"
   ]
  },
  {
   "cell_type": "markdown",
   "metadata": {},
   "source": [
    "### Examinando Termos Encontrados"
   ]
  },
  {
   "cell_type": "code",
   "execution_count": 12,
   "metadata": {},
   "outputs": [],
   "source": [
    "termos_encontrados = {}\n",
    "for termo_busca in buscas:\n",
    "    termos_encontrados[termo_busca] = list(np.unique(resultado_busca[termo_busca]['Palavras']))"
   ]
  },
  {
   "cell_type": "markdown",
   "metadata": {},
   "source": [
    "### Selecionando termos para deconsiderar"
   ]
  },
  {
   "cell_type": "code",
   "execution_count": 14,
   "metadata": {},
   "outputs": [
    {
     "name": "stdin",
     "output_type": "stream",
     "text": [
      "Selecione uma sigla: ['mt', 'vp', 'on', 'cm', 'ut', 'ac'] on\n"
     ]
    },
    {
     "name": "stdout",
     "output_type": "stream",
     "text": [
      "\n",
      "Termos encontrados para sigla (on):\n",
      "\n",
      " ['\"conjunto', '\"conscientização', '\"encontro', '\"mondial', '\"monobloco\"', '(abandonado)', '(concentração', '(conservação)', '(consorcio', '(construção', '(controlado)', '(ecoponte)', '(maratona', '(posicionamento', '(profissionais', '(seconserma', '(seconserma)', '(seconserva', '(seconserva)', '(sesconserma)', '(telefonia)', '(triathlon)', '-ayrton', '1on', '2ons', 'abandonado', 'abandonado.', 'abandono', 'acionadas', 'acionamento', 'aconteceu', 'aeronave', 'alunos/funcionarios', 'antonio', 'ayrton', 'barcelona', 'barcelona-sc\"', 'betoneira', 'bolsonaro\"', 'bonitos', 'bonsucesso', 'bonsucesso,', 'bonsucesso.', 'caminhoneiros', 'campeonato', 'catonho', 'cegonha', 'concentração', 'concessionaria', 'concreto', 'concreto)', 'concurso', 'cond', 'condicionado', 'condições', 'condominio', 'confraria', 'confronto', 'conjugado', 'conjunta', 'conjunto', 'conrado', 'conrado,', 'consciência', 'conservação', 'container', 'contenção', 'contra', 'controlado', 'controle', 'descontaminação', 'desmontagem', 'desmoronamento', \"donald's\", 'donald´s', 'drumont', 'ecoponte', 'encontro', 'entrono', 'estacionados', 'feteerj/contee', 'fontes', 'frontin', 'funcionamento', 'funcionamento.', 'funcionario', 'funcionarios', 'garzon', 'hilton', 'honra', 'internacional', 'internacional\"', 'internacional)', 'internacional-rs', 'iron', 'ironman', 'lamsa-ayrton', 'leblon', 'leblon\"', 'longo', 'maconha', 'marathon', 'marathon\"', 'maratona', 'mecânico/on', 'meia-maratona', 'mondial', 'monitoramento', 'monobloco', 'montagem', 'monumento', 'mykonos', 'nacional', 'nacional\"', 'nilton', 'noronha', 'obra/cedae/conservação', 'on', \"on's\", 'on,', 'on-linha', 'on.', 'on:', 'onibus', 'ons', 'onx', 'on´s', 'onça', 'onça\"', 'operacional', 'ponte', 'ponte.', 'pontes', 'pontilhão', 'ponto', 'posicionamento', 'profissionais', 'redonda', 'redonda\"', 'regional', 'reposicionamento', 'reveillon', 'rondon', 'seconserma', 'seconserma)', 'seconserma/cedae', 'seconserva', 'seconserva/ceg', 'sonhos', 'telefonia', 'timoneiros', 'toco-xona\"', 'triathlon', 'tronco', 'union', 'vasconcelos', 'xon', 'zona']\n"
     ]
    }
   ],
   "source": [
    "sigla = input(f'Selecione uma sigla: {buscas}')\n",
    "print(f'\\nTermos encontrados para sigla ({sigla}):\\n\\n', termos_encontrados[sigla])"
   ]
  },
  {
   "cell_type": "markdown",
   "metadata": {},
   "source": [
    "#### Seleção manual:"
   ]
  },
  {
   "cell_type": "code",
   "execution_count": 18,
   "metadata": {},
   "outputs": [
    {
     "ename": "TypeError",
     "evalue": "index expected at least 1 argument, got 0",
     "output_type": "error",
     "traceback": [
      "\u001b[1;31m---------------------------------------------------------------------------\u001b[0m",
      "\u001b[1;31mTypeError\u001b[0m                                 Traceback (most recent call last)",
      "\u001b[1;32m<ipython-input-18-750b0bb36f22>\u001b[0m in \u001b[0;36m<module>\u001b[1;34m\u001b[0m\n\u001b[1;32m----> 1\u001b[1;33m \u001b[0mtermos_encontrados\u001b[0m\u001b[1;33m[\u001b[0m\u001b[0msigla\u001b[0m\u001b[1;33m]\u001b[0m\u001b[1;33m.\u001b[0m\u001b[0mindex\u001b[0m\u001b[1;33m(\u001b[0m\u001b[1;33m)\u001b[0m\u001b[1;33m\u001b[0m\u001b[1;33m\u001b[0m\u001b[0m\n\u001b[0m",
      "\u001b[1;31mTypeError\u001b[0m: index expected at least 1 argument, got 0"
     ]
    }
   ],
   "source": [
    "termos_encontrados[sigla].index()"
   ]
  },
  {
   "cell_type": "code",
   "execution_count": 32,
   "metadata": {},
   "outputs": [
    {
     "name": "stdin",
     "output_type": "stream",
     "text": [
      "Remover? (\"encontro) exit\n"
     ]
    }
   ],
   "source": [
    "try: out_siglas \n",
    "except: out_siglas = {}\n",
    "\n",
    "try: outmask\n",
    "except: out_mask = {}\n",
    "\n",
    "if input('Freshstart?')!='s': ind = termos_encontrados[sigla].index(out_siglas[sigla][-1])\n",
    "else: ind = 0\n",
    "for word in termos_encontrados[sigla][ind:]:\n",
    "    \n",
    "    clear_output(wait=True);\n",
    "    inp = input(f'Remover? ({word})');\n",
    "        \n",
    "    if inp=='exit': break;\n",
    "    if inp=='s': out_mask[word]=True;\n",
    "\n",
    "out_siglas[sigla] = [word for word in out_mask.keys() if out_mask[word]]"
   ]
  },
  {
   "cell_type": "code",
   "execution_count": 31,
   "metadata": {},
   "outputs": [
    {
     "data": {
      "text/plain": [
       "{}"
      ]
     },
     "execution_count": 31,
     "metadata": {},
     "output_type": "execute_result"
    }
   ],
   "source": [
    "out_mask"
   ]
  },
  {
   "cell_type": "code",
   "execution_count": 137,
   "metadata": {},
   "outputs": [
    {
     "name": "stdout",
     "output_type": "stream",
     "text": [
      "['(manutenção', '(manutenção)', '(outdoor)', 'adutora', 'aeronautas', 'auto', 'auto-estrada', 'autorizado', 'autorizado\"', 'autorizado)', 'b19576xutxvp)', 'couto', 'dutra.', 'estrutura', 'estrutura.', 'frutas', 'luther', 'manut/limpeza', 'manutenção', 'mutera', 'nautico)', 'obra/outros', 'outdoor', 'outono\"', 'outubro', 'souto', 'utilitario', 'viaduto', 'viaduto.']\n"
     ]
    }
   ],
   "source": [
    "out_ut = out; print(out_ut)"
   ]
  },
  {
   "cell_type": "markdown",
   "metadata": {},
   "source": [
    "---"
   ]
  },
  {
   "cell_type": "markdown",
   "metadata": {},
   "source": [
    "# Extraindo Registros do Sistema Comando Contendo 'mt' (Moto)"
   ]
  },
  {
   "cell_type": "code",
   "execution_count": 164,
   "metadata": {},
   "outputs": [],
   "source": [
    "comando['MOTO'] = comando.index.isin(resultado_busca['mt']['Index'])"
   ]
  },
  {
   "cell_type": "code",
   "execution_count": 165,
   "metadata": {},
   "outputs": [],
   "source": [
    "com_mt = comando[comando['MOTO']]\n",
    "#com_df.to_csv('Dados Limpos/Comando_Motos.csv')"
   ]
  },
  {
   "cell_type": "code",
   "execution_count": 166,
   "metadata": {},
   "outputs": [
    {
     "name": "stdout",
     "output_type": "stream",
     "text": [
      "Registros da tabela comando contendo \"mt\": 22.05 %\n"
     ]
    }
   ],
   "source": [
    "print('Registros da tabela comando contendo \"mt\":', round(len(com_mt)/len(comando)*100, 2), '%')"
   ]
  },
  {
   "cell_type": "markdown",
   "metadata": {},
   "source": [
    "<empty space>"
   ]
  },
  {
   "cell_type": "markdown",
   "metadata": {},
   "source": [
    "---"
   ]
  },
  {
   "cell_type": "code",
   "execution_count": 38,
   "metadata": {},
   "outputs": [],
   "source": [
    "evento_inicio = comando['EVENTO_INICIO'].astype('datetime64[ns]')"
   ]
  },
  {
   "cell_type": "code",
   "execution_count": null,
   "metadata": {},
   "outputs": [],
   "source": [
    "e"
   ]
  },
  {
   "cell_type": "code",
   "execution_count": null,
   "metadata": {},
   "outputs": [],
   "source": []
  }
 ],
 "metadata": {
  "kernelspec": {
   "display_name": "Python 3",
   "language": "python",
   "name": "python3"
  },
  "language_info": {
   "codemirror_mode": {
    "name": "ipython",
    "version": 3
   },
   "file_extension": ".py",
   "mimetype": "text/x-python",
   "name": "python",
   "nbconvert_exporter": "python",
   "pygments_lexer": "ipython3",
   "version": "3.8.3"
  }
 },
 "nbformat": 4,
 "nbformat_minor": 4
}
