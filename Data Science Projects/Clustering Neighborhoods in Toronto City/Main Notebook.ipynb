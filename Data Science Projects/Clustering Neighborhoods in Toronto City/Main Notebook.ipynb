{
 "cells": [
  {
   "cell_type": "code",
   "execution_count": null,
   "metadata": {},
   "outputs": [],
   "source": [
    "Importing Lybraries"
   ]
  },
  {
   "cell_type": "code",
   "execution_count": 2,
   "metadata": {},
   "outputs": [],
   "source": [
    "import numpy as np\n",
    "import pandas as pd\n",
    "\n",
    "from bs4 import BeautifulSoup as bs\n",
    "import requests\n",
    "\n",
    "from sklearn.cluster import KMeans\n",
    "import folium"
   ]
  },
  {
   "cell_type": "markdown",
   "metadata": {},
   "source": [
    "# PART 1"
   ]
  },
  {
   "cell_type": "markdown",
   "metadata": {},
   "source": [
    "### Requesting page contet with the 'requests' module"
   ]
  },
  {
   "cell_type": "code",
   "execution_count": 27,
   "metadata": {},
   "outputs": [],
   "source": [
    "path = 'https://en.wikipedia.org/wiki/List_of_postal_codes_of_Canada:_M'\n",
    "page = requests.get(path).content"
   ]
  },
  {
   "cell_type": "markdown",
   "metadata": {},
   "source": [
    "### Creating 'BeautifulSoup' object by inputting the page content"
   ]
  },
  {
   "cell_type": "code",
   "execution_count": 27,
   "metadata": {},
   "outputs": [],
   "source": [
    "soup = bs(page)"
   ]
  },
  {
   "cell_type": "markdown",
   "metadata": {},
   "source": [
    "### Scraping the page table and making proper adjustments"
   ]
  },
  {
   "cell_type": "code",
   "execution_count": 28,
   "metadata": {},
   "outputs": [],
   "source": [
    "table_contents=[]\n",
    "table=soup.find('table')\n",
    "for row in table.findAll('td'):\n",
    "    cell = {}\n",
    "    if row.span.text=='Not assigned':\n",
    "        pass\n",
    "    else:\n",
    "        cell['PostalCode'] = row.p.text[:3]\n",
    "        cell['Borough'] = (row.span.text).split('(')[0]\n",
    "        cell['Neighborhood'] = (((((row.span.text).split('(')[1]).strip(')')).replace(' /',',')).replace(')',' ')).strip(' ')\n",
    "        table_contents.append(cell)\n",
    "\n",
    "df=pd.DataFrame(table_contents)\n",
    "df['Borough']=df['Borough'].replace({'Downtown TorontoStn A PO Boxes25 The Esplanade':'Downtown Toronto Stn A',\n",
    "                                             'East TorontoBusiness reply mail Processing Centre969 Eastern':'East Toronto Business',\n",
    "                                             'EtobicokeNorthwest':'Etobicoke Northwest','East YorkEast Toronto':'East York/East Toronto',\n",
    "                                             'MississaugaCanada Post Gateway Processing Centre':'Mississauga'})"
   ]
  },
  {
   "cell_type": "markdown",
   "metadata": {},
   "source": [
    "### Printing table result"
   ]
  },
  {
   "cell_type": "code",
   "execution_count": 32,
   "metadata": {},
   "outputs": [
    {
     "data": {
      "text/html": [
       "<div>\n",
       "<style scoped>\n",
       "    .dataframe tbody tr th:only-of-type {\n",
       "        vertical-align: middle;\n",
       "    }\n",
       "\n",
       "    .dataframe tbody tr th {\n",
       "        vertical-align: top;\n",
       "    }\n",
       "\n",
       "    .dataframe thead th {\n",
       "        text-align: right;\n",
       "    }\n",
       "</style>\n",
       "<table border=\"1\" class=\"dataframe\">\n",
       "  <thead>\n",
       "    <tr style=\"text-align: right;\">\n",
       "      <th></th>\n",
       "      <th>PostalCode</th>\n",
       "      <th>Borough</th>\n",
       "      <th>Neighborhood</th>\n",
       "    </tr>\n",
       "  </thead>\n",
       "  <tbody>\n",
       "    <tr>\n",
       "      <th>0</th>\n",
       "      <td>M3A</td>\n",
       "      <td>North York</td>\n",
       "      <td>Parkwoods</td>\n",
       "    </tr>\n",
       "    <tr>\n",
       "      <th>1</th>\n",
       "      <td>M4A</td>\n",
       "      <td>North York</td>\n",
       "      <td>Victoria Village</td>\n",
       "    </tr>\n",
       "    <tr>\n",
       "      <th>2</th>\n",
       "      <td>M5A</td>\n",
       "      <td>Downtown Toronto</td>\n",
       "      <td>Regent Park, Harbourfront</td>\n",
       "    </tr>\n",
       "    <tr>\n",
       "      <th>3</th>\n",
       "      <td>M6A</td>\n",
       "      <td>North York</td>\n",
       "      <td>Lawrence Manor, Lawrence Heights</td>\n",
       "    </tr>\n",
       "    <tr>\n",
       "      <th>4</th>\n",
       "      <td>M7A</td>\n",
       "      <td>Queen's Park</td>\n",
       "      <td>Ontario Provincial Government</td>\n",
       "    </tr>\n",
       "  </tbody>\n",
       "</table>\n",
       "</div>"
      ],
      "text/plain": [
       "  PostalCode           Borough                      Neighborhood\n",
       "0        M3A        North York                         Parkwoods\n",
       "1        M4A        North York                  Victoria Village\n",
       "2        M5A  Downtown Toronto         Regent Park, Harbourfront\n",
       "3        M6A        North York  Lawrence Manor, Lawrence Heights\n",
       "4        M7A      Queen's Park     Ontario Provincial Government"
      ]
     },
     "execution_count": 32,
     "metadata": {},
     "output_type": "execute_result"
    }
   ],
   "source": [
    "df.head()"
   ]
  },
  {
   "cell_type": "markdown",
   "metadata": {},
   "source": [
    "### PRINTING SHAPE OF THE TABLE"
   ]
  },
  {
   "cell_type": "code",
   "execution_count": 33,
   "metadata": {},
   "outputs": [
    {
     "data": {
      "text/plain": [
       "(103, 3)"
      ]
     },
     "execution_count": 33,
     "metadata": {},
     "output_type": "execute_result"
    }
   ],
   "source": [
    "df.shape"
   ]
  },
  {
   "cell_type": "markdown",
   "metadata": {},
   "source": [
    "# PART 2"
   ]
  },
  {
   "cell_type": "markdown",
   "metadata": {},
   "source": [
    "### Importing Coordinates Dataframe"
   ]
  },
  {
   "cell_type": "code",
   "execution_count": 35,
   "metadata": {},
   "outputs": [],
   "source": [
    "coords_path = 'Geospatial_Coordinates.csv'"
   ]
  },
  {
   "cell_type": "code",
   "execution_count": 38,
   "metadata": {},
   "outputs": [
    {
     "data": {
      "text/html": [
       "<div>\n",
       "<style scoped>\n",
       "    .dataframe tbody tr th:only-of-type {\n",
       "        vertical-align: middle;\n",
       "    }\n",
       "\n",
       "    .dataframe tbody tr th {\n",
       "        vertical-align: top;\n",
       "    }\n",
       "\n",
       "    .dataframe thead th {\n",
       "        text-align: right;\n",
       "    }\n",
       "</style>\n",
       "<table border=\"1\" class=\"dataframe\">\n",
       "  <thead>\n",
       "    <tr style=\"text-align: right;\">\n",
       "      <th></th>\n",
       "      <th>Postal Code</th>\n",
       "      <th>Latitude</th>\n",
       "      <th>Longitude</th>\n",
       "    </tr>\n",
       "  </thead>\n",
       "  <tbody>\n",
       "    <tr>\n",
       "      <th>0</th>\n",
       "      <td>M1B</td>\n",
       "      <td>43.806686</td>\n",
       "      <td>-79.194353</td>\n",
       "    </tr>\n",
       "    <tr>\n",
       "      <th>1</th>\n",
       "      <td>M1C</td>\n",
       "      <td>43.784535</td>\n",
       "      <td>-79.160497</td>\n",
       "    </tr>\n",
       "    <tr>\n",
       "      <th>2</th>\n",
       "      <td>M1E</td>\n",
       "      <td>43.763573</td>\n",
       "      <td>-79.188711</td>\n",
       "    </tr>\n",
       "    <tr>\n",
       "      <th>3</th>\n",
       "      <td>M1G</td>\n",
       "      <td>43.770992</td>\n",
       "      <td>-79.216917</td>\n",
       "    </tr>\n",
       "    <tr>\n",
       "      <th>4</th>\n",
       "      <td>M1H</td>\n",
       "      <td>43.773136</td>\n",
       "      <td>-79.239476</td>\n",
       "    </tr>\n",
       "  </tbody>\n",
       "</table>\n",
       "</div>"
      ],
      "text/plain": [
       "  Postal Code   Latitude  Longitude\n",
       "0         M1B  43.806686 -79.194353\n",
       "1         M1C  43.784535 -79.160497\n",
       "2         M1E  43.763573 -79.188711\n",
       "3         M1G  43.770992 -79.216917\n",
       "4         M1H  43.773136 -79.239476"
      ]
     },
     "execution_count": 38,
     "metadata": {},
     "output_type": "execute_result"
    }
   ],
   "source": [
    "coords = pd.read_csv(coords_path); coords.head()"
   ]
  },
  {
   "cell_type": "markdown",
   "metadata": {},
   "source": [
    "### Merging Coordinates and Postal Code Dataframes"
   ]
  },
  {
   "cell_type": "code",
   "execution_count": 48,
   "metadata": {},
   "outputs": [],
   "source": [
    "coords.rename(columns={'Postal Code':'PostalCode'}, inplace=True)"
   ]
  },
  {
   "cell_type": "code",
   "execution_count": 50,
   "metadata": {},
   "outputs": [],
   "source": [
    "data = pd.merge(df, coords, on='PostalCode')"
   ]
  },
  {
   "cell_type": "markdown",
   "metadata": {},
   "source": [
    "### Printing Final Data Table"
   ]
  },
  {
   "cell_type": "code",
   "execution_count": 51,
   "metadata": {},
   "outputs": [
    {
     "data": {
      "text/html": [
       "<div>\n",
       "<style scoped>\n",
       "    .dataframe tbody tr th:only-of-type {\n",
       "        vertical-align: middle;\n",
       "    }\n",
       "\n",
       "    .dataframe tbody tr th {\n",
       "        vertical-align: top;\n",
       "    }\n",
       "\n",
       "    .dataframe thead th {\n",
       "        text-align: right;\n",
       "    }\n",
       "</style>\n",
       "<table border=\"1\" class=\"dataframe\">\n",
       "  <thead>\n",
       "    <tr style=\"text-align: right;\">\n",
       "      <th></th>\n",
       "      <th>PostalCode</th>\n",
       "      <th>Borough</th>\n",
       "      <th>Neighborhood</th>\n",
       "      <th>Latitude</th>\n",
       "      <th>Longitude</th>\n",
       "    </tr>\n",
       "  </thead>\n",
       "  <tbody>\n",
       "    <tr>\n",
       "      <th>0</th>\n",
       "      <td>M3A</td>\n",
       "      <td>North York</td>\n",
       "      <td>Parkwoods</td>\n",
       "      <td>43.753259</td>\n",
       "      <td>-79.329656</td>\n",
       "    </tr>\n",
       "    <tr>\n",
       "      <th>1</th>\n",
       "      <td>M4A</td>\n",
       "      <td>North York</td>\n",
       "      <td>Victoria Village</td>\n",
       "      <td>43.725882</td>\n",
       "      <td>-79.315572</td>\n",
       "    </tr>\n",
       "    <tr>\n",
       "      <th>2</th>\n",
       "      <td>M5A</td>\n",
       "      <td>Downtown Toronto</td>\n",
       "      <td>Regent Park, Harbourfront</td>\n",
       "      <td>43.654260</td>\n",
       "      <td>-79.360636</td>\n",
       "    </tr>\n",
       "    <tr>\n",
       "      <th>3</th>\n",
       "      <td>M6A</td>\n",
       "      <td>North York</td>\n",
       "      <td>Lawrence Manor, Lawrence Heights</td>\n",
       "      <td>43.718518</td>\n",
       "      <td>-79.464763</td>\n",
       "    </tr>\n",
       "    <tr>\n",
       "      <th>4</th>\n",
       "      <td>M7A</td>\n",
       "      <td>Queen's Park</td>\n",
       "      <td>Ontario Provincial Government</td>\n",
       "      <td>43.662301</td>\n",
       "      <td>-79.389494</td>\n",
       "    </tr>\n",
       "  </tbody>\n",
       "</table>\n",
       "</div>"
      ],
      "text/plain": [
       "  PostalCode           Borough                      Neighborhood   Latitude  \\\n",
       "0        M3A        North York                         Parkwoods  43.753259   \n",
       "1        M4A        North York                  Victoria Village  43.725882   \n",
       "2        M5A  Downtown Toronto         Regent Park, Harbourfront  43.654260   \n",
       "3        M6A        North York  Lawrence Manor, Lawrence Heights  43.718518   \n",
       "4        M7A      Queen's Park     Ontario Provincial Government  43.662301   \n",
       "\n",
       "   Longitude  \n",
       "0 -79.329656  \n",
       "1 -79.315572  \n",
       "2 -79.360636  \n",
       "3 -79.464763  \n",
       "4 -79.389494  "
      ]
     },
     "execution_count": 51,
     "metadata": {},
     "output_type": "execute_result"
    }
   ],
   "source": [
    "data.head()"
   ]
  },
  {
   "cell_type": "markdown",
   "metadata": {},
   "source": [
    "# PART 3"
   ]
  },
  {
   "cell_type": "markdown",
   "metadata": {},
   "source": [
    "### Defining credentials to make requests to the Foursquare Places API"
   ]
  },
  {
   "cell_type": "code",
   "execution_count": 56,
   "metadata": {},
   "outputs": [
    {
     "name": "stdout",
     "output_type": "stream",
     "text": [
      "Your credentails:\n",
      "CLIENT_ID: YBZLHWZRC4DJGEF2GVTRMDCQZBCZXDBC0ZXPAMHZFR0RF3BC\n",
      "CLIENT_SECRET:NXISZGNL4VVTR24LS2GE3ZVQ14URDHPP0S0UNJTC41CKFW4I\n"
     ]
    }
   ],
   "source": [
    "CLIENT_ID = 'YBZLHWZRC4DJGEF2GVTRMDCQZBCZXDBC0ZXPAMHZFR0RF3BC'\n",
    "CLIENT_SECRET = 'NXISZGNL4VVTR24LS2GE3ZVQ14URDHPP0S0UNJTC41CKFW4I'\n",
    "VERSION = '20180605'\n",
    "LIMIT = 100\n",
    "radius=500\n",
    "\n",
    "print('Your credentails:')\n",
    "print('CLIENT_ID: ' + CLIENT_ID)\n",
    "print('CLIENT_SECRET:' + CLIENT_SECRET)"
   ]
  },
  {
   "cell_type": "markdown",
   "metadata": {},
   "source": [
    "### Defining Function to make requests to Foursquare Places API and collect venue data on the neighborhoods."
   ]
  },
  {
   "cell_type": "code",
   "execution_count": 57,
   "metadata": {},
   "outputs": [],
   "source": [
    "def getNearbyVenues(names, latitudes, longitudes, radius=500):\n",
    "    \n",
    "    venues_list=[]\n",
    "    for name, lat, lng in zip(names, latitudes, longitudes):\n",
    "        print(name)\n",
    "            \n",
    "        # create the API request URL\n",
    "        url = 'https://api.foursquare.com/v2/venues/explore?&client_id={}&client_secret={}&v={}&ll={},{}&radius={}&limit={}'.format(\n",
    "            CLIENT_ID, \n",
    "            CLIENT_SECRET, \n",
    "            VERSION, \n",
    "            lat, \n",
    "            lng, \n",
    "            radius, \n",
    "            LIMIT)\n",
    "            \n",
    "        # make the GET request\n",
    "        try: results = requests.get(url).json()[\"response\"]['groups'][0]['items']\n",
    "        except: print(requests.get(url).json()[\"response\"])\n",
    "        # return only relevant information for each nearby venue\n",
    "        venues_list.append([(\n",
    "            name, \n",
    "            lat, \n",
    "            lng, \n",
    "            v['venue']['name'], \n",
    "            v['venue']['location']['lat'], \n",
    "            v['venue']['location']['lng'],  \n",
    "            v['venue']['categories'][0]['name']) for v in results])\n",
    "\n",
    "    nearby_venues = pd.DataFrame([item for venue_list in venues_list for item in venue_list])\n",
    "    nearby_venues.columns = ['Neighborhood', \n",
    "                  'Neighborhood Latitude', \n",
    "                  'Neighborhood Longitude', \n",
    "                  'Venue', \n",
    "                  'Venue Latitude', \n",
    "                  'Venue Longitude', \n",
    "                  'Venue Category']\n",
    "    \n",
    "    return(nearby_venues)"
   ]
  },
  {
   "cell_type": "markdown",
   "metadata": {},
   "source": [
    "### Calling Function to collect venue data"
   ]
  },
  {
   "cell_type": "code",
   "execution_count": 58,
   "metadata": {},
   "outputs": [
    {
     "name": "stdout",
     "output_type": "stream",
     "text": [
      "Parkwoods\n",
      "Victoria Village\n",
      "Regent Park, Harbourfront\n",
      "Lawrence Manor, Lawrence Heights\n",
      "Ontario Provincial Government\n",
      "Islington Avenue\n",
      "Malvern, Rouge\n",
      "Don Mills North\n",
      "Parkview Hill, Woodbine Gardens\n",
      "Garden District, Ryerson\n",
      "Glencairn\n",
      "West Deane Park, Princess Gardens, Martin Grove, Islington, Cloverdale\n",
      "Rouge Hill, Port Union, Highland Creek\n",
      "Don Mills South\n",
      "Woodbine Heights\n",
      "St. James Town\n",
      "Humewood-Cedarvale\n",
      "Eringate, Bloordale Gardens, Old Burnhamthorpe, Markland Wood\n",
      "Guildwood, Morningside, West Hill\n",
      "The Beaches\n",
      "Berczy Park\n",
      "Caledonia-Fairbanks\n",
      "Woburn\n",
      "Leaside\n",
      "Central Bay Street\n",
      "Christie\n",
      "Cedarbrae\n",
      "Hillcrest Village\n",
      "Bathurst Manor, Wilson Heights, Downsview North\n",
      "Thorncliffe Park\n",
      "Richmond, Adelaide, King\n",
      "Dufferin, Dovercourt Village\n",
      "Scarborough Village\n",
      "Fairview, Henry Farm, Oriole\n",
      "Northwood Park, York University\n",
      "The Danforth  East\n",
      "Harbourfront East, Union Station, Toronto Islands\n",
      "Little Portugal, Trinity\n",
      "Kennedy Park, Ionview, East Birchmount Park\n",
      "Bayview Village\n",
      "Downsview East\n",
      "The Danforth West, Riverdale\n",
      "Toronto Dominion Centre, Design Exchange\n",
      "Brockton, Parkdale Village, Exhibition Place\n",
      "Golden Mile, Clairlea, Oakridge\n",
      "York Mills, Silver Hills\n",
      "Downsview West\n",
      "India Bazaar, The Beaches West\n",
      "Commerce Court, Victoria Hotel\n",
      "North Park, Maple Leaf Park, Upwood Park\n",
      "Humber Summit\n",
      "Cliffside, Cliffcrest, Scarborough Village West\n",
      "Willowdale, Newtonbrook\n",
      "Downsview Central\n",
      "Studio District\n",
      "Bedford Park, Lawrence Manor East\n",
      "Del Ray, Mount Dennis, Keelsdale and Silverthorn\n",
      "Humberlea, Emery\n",
      "Birch Cliff, Cliffside West\n",
      "Willowdale South\n",
      "Downsview Northwest\n",
      "Lawrence Park\n",
      "Roselawn\n",
      "Runnymede, The Junction North\n",
      "Weston\n",
      "Dorset Park, Wexford Heights, Scarborough Town Centre\n",
      "York Mills West\n",
      "Davisville North\n",
      "Forest Hill North & West\n",
      "High Park, The Junction South\n",
      "Westmount\n",
      "Wexford, Maryvale\n",
      "Willowdale West\n",
      "North Toronto West\n",
      "The Annex, North Midtown, Yorkville\n",
      "Parkdale, Roncesvalles\n",
      "Enclave of L4W\n",
      "Kingsview Village, St. Phillips, Martin Grove Gardens, Richview Gardens\n",
      "Agincourt\n",
      "Davisville\n",
      "University of Toronto, Harbord\n",
      "Runnymede, Swansea\n",
      "Clarks Corners, Tam O'Shanter, Sullivan\n",
      "Moore Park, Summerhill East\n",
      "Kensington Market, Chinatown, Grange Park\n",
      "Milliken, Agincourt North, Steeles East, L'Amoreaux East\n",
      "Summerhill West, Rathnelly, South Hill, Forest Hill SE, Deer Park\n",
      "CN Tower, King and Spadina, Railway Lands, Harbourfront West, Bathurst Quay, South Niagara, Island airport\n",
      "New Toronto, Mimico South, Humber Bay Shores\n",
      "South Steeles, Silverstone, Humbergate, Jamestown, Mount Olive, Beaumond Heights, Thistletown, Albion Gardens\n",
      "Steeles West, L'Amoreaux West\n",
      "Rosedale\n",
      "Enclave of M5E\n",
      "Alderwood, Long Branch\n",
      "Clairville, Humberwood, Woodbine Downs, West Humber, Kipling Heights, Rexdale, Elms, Tandridge, Old Rexdale\n",
      "Upper Rouge\n",
      "St. James Town, Cabbagetown\n",
      "First Canadian Place, Underground city\n",
      "The Kingsway, Montgomery Road, Old Mill North\n",
      "Church and Wellesley\n",
      "Enclave of M4L\n",
      "Old Mill South, King's Mill Park, Sunnylea, Humber Bay, Mimico NE, The Queensway East, Royal York South East, Kingsway Park South East\n",
      "Mimico NW, The Queensway West, South of Bloor, Kingsway Park South West, Royal York South West\n"
     ]
    }
   ],
   "source": [
    "toronto_venues = getNearbyVenues(data['Neighborhood'], data['Latitude'], data['Longitude'])"
   ]
  },
  {
   "cell_type": "markdown",
   "metadata": {},
   "source": [
    "### Processing result "
   ]
  },
  {
   "cell_type": "code",
   "execution_count": 61,
   "metadata": {},
   "outputs": [
    {
     "data": {
      "text/html": [
       "<div>\n",
       "<style scoped>\n",
       "    .dataframe tbody tr th:only-of-type {\n",
       "        vertical-align: middle;\n",
       "    }\n",
       "\n",
       "    .dataframe tbody tr th {\n",
       "        vertical-align: top;\n",
       "    }\n",
       "\n",
       "    .dataframe thead th {\n",
       "        text-align: right;\n",
       "    }\n",
       "</style>\n",
       "<table border=\"1\" class=\"dataframe\">\n",
       "  <thead>\n",
       "    <tr style=\"text-align: right;\">\n",
       "      <th></th>\n",
       "      <th>Neighborhood</th>\n",
       "      <th>Yoga Studio</th>\n",
       "      <th>Accessories Store</th>\n",
       "      <th>Airport</th>\n",
       "      <th>Airport Food Court</th>\n",
       "      <th>Airport Gate</th>\n",
       "      <th>Airport Lounge</th>\n",
       "      <th>Airport Service</th>\n",
       "      <th>Airport Terminal</th>\n",
       "      <th>American Restaurant</th>\n",
       "      <th>...</th>\n",
       "      <th>Train Station</th>\n",
       "      <th>Truck Stop</th>\n",
       "      <th>Vegetarian / Vegan Restaurant</th>\n",
       "      <th>Video Game Store</th>\n",
       "      <th>Video Store</th>\n",
       "      <th>Vietnamese Restaurant</th>\n",
       "      <th>Warehouse Store</th>\n",
       "      <th>Wine Bar</th>\n",
       "      <th>Wings Joint</th>\n",
       "      <th>Women's Store</th>\n",
       "    </tr>\n",
       "  </thead>\n",
       "  <tbody>\n",
       "    <tr>\n",
       "      <th>0</th>\n",
       "      <td>Agincourt</td>\n",
       "      <td>0.0</td>\n",
       "      <td>0.0</td>\n",
       "      <td>0.0</td>\n",
       "      <td>0.0</td>\n",
       "      <td>0.0</td>\n",
       "      <td>0.0</td>\n",
       "      <td>0.0</td>\n",
       "      <td>0.0</td>\n",
       "      <td>0.000000</td>\n",
       "      <td>...</td>\n",
       "      <td>0.0</td>\n",
       "      <td>0.0</td>\n",
       "      <td>0.0</td>\n",
       "      <td>0.0</td>\n",
       "      <td>0.0</td>\n",
       "      <td>0.0</td>\n",
       "      <td>0.0</td>\n",
       "      <td>0.0</td>\n",
       "      <td>0.0</td>\n",
       "      <td>0.0</td>\n",
       "    </tr>\n",
       "    <tr>\n",
       "      <th>1</th>\n",
       "      <td>Alderwood, Long Branch</td>\n",
       "      <td>0.0</td>\n",
       "      <td>0.0</td>\n",
       "      <td>0.0</td>\n",
       "      <td>0.0</td>\n",
       "      <td>0.0</td>\n",
       "      <td>0.0</td>\n",
       "      <td>0.0</td>\n",
       "      <td>0.0</td>\n",
       "      <td>0.000000</td>\n",
       "      <td>...</td>\n",
       "      <td>0.0</td>\n",
       "      <td>0.0</td>\n",
       "      <td>0.0</td>\n",
       "      <td>0.0</td>\n",
       "      <td>0.0</td>\n",
       "      <td>0.0</td>\n",
       "      <td>0.0</td>\n",
       "      <td>0.0</td>\n",
       "      <td>0.0</td>\n",
       "      <td>0.0</td>\n",
       "    </tr>\n",
       "    <tr>\n",
       "      <th>2</th>\n",
       "      <td>Bathurst Manor, Wilson Heights, Downsview North</td>\n",
       "      <td>0.0</td>\n",
       "      <td>0.0</td>\n",
       "      <td>0.0</td>\n",
       "      <td>0.0</td>\n",
       "      <td>0.0</td>\n",
       "      <td>0.0</td>\n",
       "      <td>0.0</td>\n",
       "      <td>0.0</td>\n",
       "      <td>0.000000</td>\n",
       "      <td>...</td>\n",
       "      <td>0.0</td>\n",
       "      <td>0.0</td>\n",
       "      <td>0.0</td>\n",
       "      <td>0.0</td>\n",
       "      <td>0.0</td>\n",
       "      <td>0.0</td>\n",
       "      <td>0.0</td>\n",
       "      <td>0.0</td>\n",
       "      <td>0.0</td>\n",
       "      <td>0.0</td>\n",
       "    </tr>\n",
       "    <tr>\n",
       "      <th>3</th>\n",
       "      <td>Bayview Village</td>\n",
       "      <td>0.0</td>\n",
       "      <td>0.0</td>\n",
       "      <td>0.0</td>\n",
       "      <td>0.0</td>\n",
       "      <td>0.0</td>\n",
       "      <td>0.0</td>\n",
       "      <td>0.0</td>\n",
       "      <td>0.0</td>\n",
       "      <td>0.000000</td>\n",
       "      <td>...</td>\n",
       "      <td>0.0</td>\n",
       "      <td>0.0</td>\n",
       "      <td>0.0</td>\n",
       "      <td>0.0</td>\n",
       "      <td>0.0</td>\n",
       "      <td>0.0</td>\n",
       "      <td>0.0</td>\n",
       "      <td>0.0</td>\n",
       "      <td>0.0</td>\n",
       "      <td>0.0</td>\n",
       "    </tr>\n",
       "    <tr>\n",
       "      <th>4</th>\n",
       "      <td>Bedford Park, Lawrence Manor East</td>\n",
       "      <td>0.0</td>\n",
       "      <td>0.0</td>\n",
       "      <td>0.0</td>\n",
       "      <td>0.0</td>\n",
       "      <td>0.0</td>\n",
       "      <td>0.0</td>\n",
       "      <td>0.0</td>\n",
       "      <td>0.0</td>\n",
       "      <td>0.037037</td>\n",
       "      <td>...</td>\n",
       "      <td>0.0</td>\n",
       "      <td>0.0</td>\n",
       "      <td>0.0</td>\n",
       "      <td>0.0</td>\n",
       "      <td>0.0</td>\n",
       "      <td>0.0</td>\n",
       "      <td>0.0</td>\n",
       "      <td>0.0</td>\n",
       "      <td>0.0</td>\n",
       "      <td>0.0</td>\n",
       "    </tr>\n",
       "  </tbody>\n",
       "</table>\n",
       "<p>5 rows × 276 columns</p>\n",
       "</div>"
      ],
      "text/plain": [
       "                                      Neighborhood  Yoga Studio  \\\n",
       "0                                        Agincourt          0.0   \n",
       "1                           Alderwood, Long Branch          0.0   \n",
       "2  Bathurst Manor, Wilson Heights, Downsview North          0.0   \n",
       "3                                  Bayview Village          0.0   \n",
       "4                Bedford Park, Lawrence Manor East          0.0   \n",
       "\n",
       "   Accessories Store  Airport  Airport Food Court  Airport Gate  \\\n",
       "0                0.0      0.0                 0.0           0.0   \n",
       "1                0.0      0.0                 0.0           0.0   \n",
       "2                0.0      0.0                 0.0           0.0   \n",
       "3                0.0      0.0                 0.0           0.0   \n",
       "4                0.0      0.0                 0.0           0.0   \n",
       "\n",
       "   Airport Lounge  Airport Service  Airport Terminal  American Restaurant  \\\n",
       "0             0.0              0.0               0.0             0.000000   \n",
       "1             0.0              0.0               0.0             0.000000   \n",
       "2             0.0              0.0               0.0             0.000000   \n",
       "3             0.0              0.0               0.0             0.000000   \n",
       "4             0.0              0.0               0.0             0.037037   \n",
       "\n",
       "   ...  Train Station  Truck Stop  Vegetarian / Vegan Restaurant  \\\n",
       "0  ...            0.0         0.0                            0.0   \n",
       "1  ...            0.0         0.0                            0.0   \n",
       "2  ...            0.0         0.0                            0.0   \n",
       "3  ...            0.0         0.0                            0.0   \n",
       "4  ...            0.0         0.0                            0.0   \n",
       "\n",
       "   Video Game Store  Video Store  Vietnamese Restaurant  Warehouse Store  \\\n",
       "0               0.0          0.0                    0.0              0.0   \n",
       "1               0.0          0.0                    0.0              0.0   \n",
       "2               0.0          0.0                    0.0              0.0   \n",
       "3               0.0          0.0                    0.0              0.0   \n",
       "4               0.0          0.0                    0.0              0.0   \n",
       "\n",
       "   Wine Bar  Wings Joint  Women's Store  \n",
       "0       0.0          0.0            0.0  \n",
       "1       0.0          0.0            0.0  \n",
       "2       0.0          0.0            0.0  \n",
       "3       0.0          0.0            0.0  \n",
       "4       0.0          0.0            0.0  \n",
       "\n",
       "[5 rows x 276 columns]"
      ]
     },
     "execution_count": 61,
     "metadata": {},
     "output_type": "execute_result"
    }
   ],
   "source": [
    "# one hot encoding\n",
    "onehot = pd.get_dummies(toronto_venues[['Venue Category']], prefix=\"\", prefix_sep=\"\")\n",
    "\n",
    "# add neighborhood column back to dataframe\n",
    "onehot['Neighborhood'] = toronto_venues['Neighborhood'] \n",
    "\n",
    "# move neighborhood column to the first column\n",
    "fixed_columns = [onehot.columns[-1]] + list(onehot.columns[:-1])\n",
    "onehot = onehot[fixed_columns]\n",
    "\n",
    "toronto_grouped = onehot.groupby('Neighborhood').mean().reset_index()\n",
    "toronto_grouped.head()\n"
   ]
  },
  {
   "cell_type": "markdown",
   "metadata": {},
   "source": [
    "### Clustering Neighborhoods"
   ]
  },
  {
   "cell_type": "code",
   "execution_count": 63,
   "metadata": {},
   "outputs": [
    {
     "data": {
      "text/plain": [
       "array([0, 0, 0, 0, 0, 0, 0, 0, 0, 2, 0, 0, 0, 0, 0, 0, 0, 0, 0, 0, 0, 0,\n",
       "       0, 0, 0, 2, 0, 2, 0, 0, 0, 0, 0, 0, 0, 2, 0, 0, 0, 0, 0, 0, 0, 4,\n",
       "       0, 0, 0, 0, 0, 2, 0, 2, 0, 0, 3, 2, 0, 2, 0, 2, 0, 0, 0, 0, 0, 0,\n",
       "       2, 0, 0, 2, 3, 0, 0, 0, 0, 0, 0, 0, 0, 0, 0, 0, 0, 2, 0, 2, 0, 0,\n",
       "       0, 0, 0, 0, 1, 0, 0, 0, 1, 0, 0, 2])"
      ]
     },
     "execution_count": 63,
     "metadata": {},
     "output_type": "execute_result"
    }
   ],
   "source": [
    "# set number of clusters\n",
    "kclusters = 5\n",
    "\n",
    "grouped_clustering = toronto_grouped.drop('Neighborhood', 1)\n",
    "\n",
    "# run k-means clustering\n",
    "kmeans = KMeans(n_clusters=kclusters, random_state=0).fit(grouped_clustering)\n",
    "\n",
    "# check cluster labels generated for each row in the dataframe\n",
    "kmeans.labels_"
   ]
  },
  {
   "cell_type": "markdown",
   "metadata": {},
   "source": [
    "### Combining results into a single dataframe for visualization"
   ]
  },
  {
   "cell_type": "code",
   "execution_count": 84,
   "metadata": {},
   "outputs": [
    {
     "data": {
      "text/html": [
       "<div>\n",
       "<style scoped>\n",
       "    .dataframe tbody tr th:only-of-type {\n",
       "        vertical-align: middle;\n",
       "    }\n",
       "\n",
       "    .dataframe tbody tr th {\n",
       "        vertical-align: top;\n",
       "    }\n",
       "\n",
       "    .dataframe thead th {\n",
       "        text-align: right;\n",
       "    }\n",
       "</style>\n",
       "<table border=\"1\" class=\"dataframe\">\n",
       "  <thead>\n",
       "    <tr style=\"text-align: right;\">\n",
       "      <th></th>\n",
       "      <th>Latitude</th>\n",
       "      <th>Longitude</th>\n",
       "      <th>Neighborhood</th>\n",
       "      <th>Cluster</th>\n",
       "    </tr>\n",
       "  </thead>\n",
       "  <tbody>\n",
       "    <tr>\n",
       "      <th>0</th>\n",
       "      <td>43.753259</td>\n",
       "      <td>-79.329656</td>\n",
       "      <td>Parkwoods</td>\n",
       "      <td>2</td>\n",
       "    </tr>\n",
       "    <tr>\n",
       "      <th>1</th>\n",
       "      <td>43.725882</td>\n",
       "      <td>-79.315572</td>\n",
       "      <td>Victoria Village</td>\n",
       "      <td>0</td>\n",
       "    </tr>\n",
       "    <tr>\n",
       "      <th>2</th>\n",
       "      <td>43.654260</td>\n",
       "      <td>-79.360636</td>\n",
       "      <td>Regent Park, Harbourfront</td>\n",
       "      <td>0</td>\n",
       "    </tr>\n",
       "    <tr>\n",
       "      <th>3</th>\n",
       "      <td>43.718518</td>\n",
       "      <td>-79.464763</td>\n",
       "      <td>Lawrence Manor, Lawrence Heights</td>\n",
       "      <td>0</td>\n",
       "    </tr>\n",
       "    <tr>\n",
       "      <th>4</th>\n",
       "      <td>43.662301</td>\n",
       "      <td>-79.389494</td>\n",
       "      <td>Ontario Provincial Government</td>\n",
       "      <td>0</td>\n",
       "    </tr>\n",
       "  </tbody>\n",
       "</table>\n",
       "</div>"
      ],
      "text/plain": [
       "    Latitude  Longitude                      Neighborhood  Cluster\n",
       "0  43.753259 -79.329656                         Parkwoods        2\n",
       "1  43.725882 -79.315572                  Victoria Village        0\n",
       "2  43.654260 -79.360636         Regent Park, Harbourfront        0\n",
       "3  43.718518 -79.464763  Lawrence Manor, Lawrence Heights        0\n",
       "4  43.662301 -79.389494     Ontario Provincial Government        0"
      ]
     },
     "execution_count": 84,
     "metadata": {},
     "output_type": "execute_result"
    }
   ],
   "source": [
    "clusters_labels = toronto_grouped[['Neighborhood']].copy()\n",
    "clusters_labels['Cluster'] = kmeans.labels_\n",
    "\n",
    "result = pd.merge(data[['Latitude', 'Longitude', 'Neighborhood']], clusters_labels, on='Neighborhood')\n",
    "result.head()"
   ]
  },
  {
   "cell_type": "markdown",
   "metadata": {},
   "source": [
    "### Plotting clustering result in a map for evaluation"
   ]
  },
  {
   "cell_type": "code",
   "execution_count": 119,
   "metadata": {},
   "outputs": [
    {
     "data": {
      "text/html": [
       "<div style=\"width:100%;\"><div style=\"position:relative;width:100%;height:0;padding-bottom:60%;\"><span style=\"color:#565656\">Make this Notebook Trusted to load map: File -> Trust Notebook</span><iframe src=\"about:blank\" style=\"position:absolute;width:100%;height:100%;left:0;top:0;border:none !important;\" data-html=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 onload=\"this.contentDocument.open();this.contentDocument.write(atob(this.getAttribute('data-html')));this.contentDocument.close();\" allowfullscreen webkitallowfullscreen mozallowfullscreen></iframe></div></div>"
      ],
      "text/plain": [
       "<folium.folium.Map at 0x20b33ccafa0>"
      ]
     },
     "execution_count": 119,
     "metadata": {},
     "output_type": "execute_result"
    }
   ],
   "source": [
    "# Center coordinates for plotting: Average of neighborhoods coordinates\n",
    "\n",
    "latitude = result['Latitude'].mean()\n",
    "longitude = result['Longitude'].mean()\n",
    "\n",
    "# create map\n",
    "map_clusters = folium.Map(location=[latitude, longitude], zoom_start=10.5)\n",
    "\n",
    "# set color scheme for the clusters\n",
    "colors = ['red', 'yellow', 'darkblue', 'orange', 'green']\n",
    "\n",
    "# add markers to the map\n",
    "markers_colors = []\n",
    "for lat, lon, poi, cluster in zip(result['Latitude'], result['Longitude'], result['Neighborhood'], result['Cluster']):\n",
    "        label = folium.Popup(str(poi) + ' Cluster ' + str(cluster), parse_html=True)\n",
    "        folium.CircleMarker(\n",
    "        [lat, lon],\n",
    "        radius=5,\n",
    "        popup=label,\n",
    "        color=colors[cluster-1],\n",
    "        fill=True,\n",
    "        fill_color=colors[cluster-1],\n",
    "        fill_opacity=0.7).add_to(map_clusters)\n",
    "       \n",
    "map_clusters"
   ]
  },
  {
   "cell_type": "code",
   "execution_count": null,
   "metadata": {},
   "outputs": [],
   "source": []
  }
 ],
 "metadata": {
  "kernelspec": {
   "display_name": "Python 3",
   "language": "python",
   "name": "python3"
  },
  "language_info": {
   "codemirror_mode": {
    "name": "ipython",
    "version": 3
   },
   "file_extension": ".py",
   "mimetype": "text/x-python",
   "name": "python",
   "nbconvert_exporter": "python",
   "pygments_lexer": "ipython3",
   "version": "3.8.3"
  }
 },
 "nbformat": 4,
 "nbformat_minor": 4
}
