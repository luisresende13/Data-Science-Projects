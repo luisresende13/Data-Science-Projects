{
 "cells": [
  {
   "cell_type": "code",
   "execution_count": 1,
   "metadata": {},
   "outputs": [],
   "source": [
    "import os\n",
    "import pandas as pd \n",
    "import numpy as np\n",
    "import matplotlib.pyplot as plt\n",
    "from IPython.display import clear_output as co\n",
    "import seaborn as sns; sns.set()\n",
    "\n",
    "import sklearn.preprocessing\n",
    "import sklearn.model_selection"
   ]
  },
  {
   "cell_type": "code",
   "execution_count": 2,
   "metadata": {},
   "outputs": [],
   "source": [
    "def load_series(path='series/', all=True, n=100):\n",
    "    filenames = os.listdir(path)\n",
    "    if all: n = len(filenames)\n",
    "    series, cnt, n_files = {}, 0, len(filenames)\n",
    "    freq = range(1, n_files, 10)\n",
    "    for filename in filenames[:n]:\n",
    "        cnt+=1\n",
    "        if cnt in freq: print(f'Files loaded: {cnt}/{n_files}'); co(wait=True)\n",
    "        series[filename[:-4]] = pd.read_csv(path+filename, index_col=0)\n",
    "    print(f'Done! Loaded {n_files} files.')\n",
    "    return series"
   ]
  },
  {
   "cell_type": "code",
   "execution_count": 4,
   "metadata": {},
   "outputs": [
    {
     "name": "stdout",
     "output_type": "stream",
     "text": [
      "Done! Loaded 1712 files.\n"
     ]
    }
   ],
   "source": [
    "series = load_series(n=1)"
   ]
  },
  {
   "cell_type": "code",
   "execution_count": 5,
   "metadata": {},
   "outputs": [],
   "source": [
    "data = pd.read_csv('data/historical-database-clean.csv')"
   ]
  },
  {
   "cell_type": "markdown",
   "metadata": {},
   "source": [
    "# Modelagem Preliminar"
   ]
  },
  {
   "cell_type": "markdown",
   "metadata": {},
   "source": [
    "### Variáveis disponíveis:\n",
    "0. Séries temporais originais.\n",
    "1. Valores passados da mesma série - dois esquemas: \"n antes\" (cada coluna é a area n anos antes) ou cada coluna um ano fixo (nan para anos futuros).\n",
    "2. Variações dos valores passados da mesma série.\n",
    "3. Valores passados de séries diferentes.\n",
    "4. Tabela com séries concatenadas com atraso de um ano para cada série - Exemplo: tabela com colunas \"ano\", \"variavel alvo\" (de uma série), demais séries como colunas, porém atrasadas em um ano. (DESTAQUE)\n",
    "5. Valores passados de dados externos.\n",
    "6. Variações dos valores passados de dados externos."
   ]
  },
  {
   "cell_type": "markdown",
   "metadata": {},
   "source": [
    "### Tipos de Modelos:\n",
    "* Modelagem Preliminar:\n",
    "    1. Regressão simples (variáveis 1., 2., 5. e 6.)\n",
    "    2. Regressão polinomial ou regressores por série univariada (valores originais)\n",
    "* Seleção de Modelos:\n",
    "    3. Regressão polinomial ou regressores por série multivariada (variáveis 4., 5. e 6.) (DESTAQUE)\n",
    "    4. Univariados por série (valores originais) (DESTAQUE)\n",
    "    5. Multivariados por série (variáveis 4., 5. e 6.) (DESTAQUE)\n",
    "    6. Automáticos \"pmdarima\" (DESTAQUE)"
   ]
  },
  {
   "cell_type": "markdown",
   "metadata": {},
   "source": [
    "---"
   ]
  },
  {
   "cell_type": "markdown",
   "metadata": {},
   "source": [
    "## 1. Extraindo variáveis preditivas"
   ]
  },
  {
   "cell_type": "code",
   "execution_count": 158,
   "metadata": {},
   "outputs": [
    {
     "data": {
      "text/html": [
       "<div>\n",
       "<style scoped>\n",
       "    .dataframe tbody tr th:only-of-type {\n",
       "        vertical-align: middle;\n",
       "    }\n",
       "\n",
       "    .dataframe tbody tr th {\n",
       "        vertical-align: top;\n",
       "    }\n",
       "\n",
       "    .dataframe thead th {\n",
       "        text-align: right;\n",
       "    }\n",
       "</style>\n",
       "<table border=\"1\" class=\"dataframe\">\n",
       "  <thead>\n",
       "    <tr style=\"text-align: right;\">\n",
       "      <th></th>\n",
       "      <th>year</th>\n",
       "      <th>city_code</th>\n",
       "      <th>product_type</th>\n",
       "      <th>product</th>\n",
       "    </tr>\n",
       "  </thead>\n",
       "  <tbody>\n",
       "    <tr>\n",
       "      <th>73739</th>\n",
       "      <td>01/01/2013</td>\n",
       "      <td>74d75dde6dc4a5ec</td>\n",
       "      <td>pasture</td>\n",
       "      <td>Livestock</td>\n",
       "    </tr>\n",
       "    <tr>\n",
       "      <th>73740</th>\n",
       "      <td>01/01/2014</td>\n",
       "      <td>74d75dde6dc4a5ec</td>\n",
       "      <td>pasture</td>\n",
       "      <td>Livestock</td>\n",
       "    </tr>\n",
       "    <tr>\n",
       "      <th>73741</th>\n",
       "      <td>01/01/2015</td>\n",
       "      <td>74d75dde6dc4a5ec</td>\n",
       "      <td>pasture</td>\n",
       "      <td>Livestock</td>\n",
       "    </tr>\n",
       "    <tr>\n",
       "      <th>73742</th>\n",
       "      <td>01/01/2016</td>\n",
       "      <td>74d75dde6dc4a5ec</td>\n",
       "      <td>pasture</td>\n",
       "      <td>Livestock</td>\n",
       "    </tr>\n",
       "    <tr>\n",
       "      <th>73743</th>\n",
       "      <td>01/01/2017</td>\n",
       "      <td>74d75dde6dc4a5ec</td>\n",
       "      <td>pasture</td>\n",
       "      <td>Livestock</td>\n",
       "    </tr>\n",
       "  </tbody>\n",
       "</table>\n",
       "</div>"
      ],
      "text/plain": [
       "             year         city_code product_type    product\n",
       "73739  01/01/2013  74d75dde6dc4a5ec      pasture  Livestock\n",
       "73740  01/01/2014  74d75dde6dc4a5ec      pasture  Livestock\n",
       "73741  01/01/2015  74d75dde6dc4a5ec      pasture  Livestock\n",
       "73742  01/01/2016  74d75dde6dc4a5ec      pasture  Livestock\n",
       "73743  01/01/2017  74d75dde6dc4a5ec      pasture  Livestock"
      ]
     },
     "execution_count": 158,
     "metadata": {},
     "output_type": "execute_result"
    }
   ],
   "source": [
    "X = data.iloc[:, :-1].copy(); X.tail()"
   ]
  },
  {
   "cell_type": "markdown",
   "metadata": {},
   "source": [
    "## 2. Extraindo Variável Álvo"
   ]
  },
  {
   "cell_type": "code",
   "execution_count": 163,
   "metadata": {},
   "outputs": [],
   "source": [
    "target = 'area'\n",
    "Y = data[target].copy(); Y.head()\n",
    "\n",
    "#### Substituição de Valores Vazios para Variável Alvo\n",
    "Y.isna().sum()\n",
    "\n",
    "#### Substituindo por zero\n",
    "Y[Y.isna()] = 0\n",
    "\n",
    "Y.isna().sum()"
   ]
  },
  {
   "cell_type": "code",
   "execution_count": 163,
   "metadata": {},
   "outputs": [],
   "source": [
    "#### Substituindo pela área média do produto/cidade\n",
    "n = len(Y)\n",
    "index_range = range(0, Y.index.values[-1], 500)\n",
    "isNa = Y.isna()\n",
    "for index in Y.index:\n",
    "    if index in index_range:\n",
    "        co(wait=True); print(f'{index}/{n}')\n",
    "    if isNa[index]:\n",
    "        Y[index] = Y [ X['city_code'] == X.loc[index, 'city_code'] ].mean()"
   ]
  },
  {
   "cell_type": "code",
   "execution_count": 163,
   "metadata": {},
   "outputs": [],
   "source": [
    "#### Salvando variável alvo\n",
    "# Y.to_csv('target-variable-avg-filled.csv', index=False)"
   ]
  },
  {
   "cell_type": "code",
   "execution_count": 163,
   "metadata": {},
   "outputs": [],
   "source": [
    "#Y = pd.read_csv('target-variable-avg-filled.csv')['destinated_area']"
   ]
  },
  {
   "cell_type": "markdown",
   "metadata": {},
   "source": [
    "## 3. Rotulando Variáveis Categóricas"
   ]
  },
  {
   "cell_type": "code",
   "execution_count": 164,
   "metadata": {},
   "outputs": [],
   "source": [
    "le = sklearn.preprocessing.LabelEncoder"
   ]
  },
  {
   "cell_type": "code",
   "execution_count": 165,
   "metadata": {},
   "outputs": [],
   "source": [
    "def label_encode(X, base=None):\n",
    "\n",
    "    if type(base)==type(None): base = X\n",
    "    X_lab = X.copy()\n",
    "    for column in X:\n",
    "        X_lab[column] = le().fit(base[column]).transform(X[column])\n",
    "    return X_lab"
   ]
  },
  {
   "cell_type": "code",
   "execution_count": 166,
   "metadata": {},
   "outputs": [],
   "source": [
    "X_lab = label_encode(X, base=X)"
   ]
  },
  {
   "cell_type": "markdown",
   "metadata": {},
   "source": [
    "## 4. Incluindo dados adicionais"
   ]
  },
  {
   "cell_type": "markdown",
   "metadata": {},
   "source": [
    "year_area['year'] = le().fit(data['year']).transform(year_area['year'])\n",
    "\n",
    "year_area['year'] = year_area['year'] + 1\n",
    "\n",
    "X_prev = pd.merge(X_lab, year_area, on='year', how='left').fillna(0)\n",
    "\n",
    "#X_prev.to_csv('prev-year-sample.csv')\n",
    "X_prev = pd.read_csv('prev-year-sample.csv', index_col=0)\n",
    "\n",
    "X_prev.fillna(0, inplace=True)"
   ]
  },
  {
   "cell_type": "markdown",
   "metadata": {},
   "source": [
    "## 5. Separação das amostras para treinamento e teste"
   ]
  },
  {
   "cell_type": "code",
   "execution_count": 170,
   "metadata": {},
   "outputs": [
    {
     "name": "stdout",
     "output_type": "stream",
     "text": [
      "Razão amostras de teste/treinamento: 4.9%\n"
     ]
    }
   ],
   "source": [
    "msk = X_lab['year'].isin([42, 43])\n",
    "x_t, x_e, y_t, y_e = X_lab[msk==False], X_lab[msk], Y[msk==False], Y[msk]\n",
    "print('Razão amostras de teste/treinamento:', str(round(len(x_e)/len(x_t)*100, 1))+'%')"
   ]
  },
  {
   "cell_type": "markdown",
   "metadata": {},
   "source": [
    "## 6. Ajustando Modelo Preliminar"
   ]
  },
  {
   "cell_type": "code",
   "execution_count": 171,
   "metadata": {},
   "outputs": [],
   "source": [
    "regressors = dict(sklearn.utils.all_estimators('regressor'))\n",
    "GBR = regressors['GradientBoostingRegressor']"
   ]
  },
  {
   "cell_type": "code",
   "execution_count": 172,
   "metadata": {},
   "outputs": [],
   "source": [
    "gbr = GBR(verbose=1, n_estimators=1000)"
   ]
  },
  {
   "cell_type": "code",
   "execution_count": 173,
   "metadata": {},
   "outputs": [
    {
     "name": "stdout",
     "output_type": "stream",
     "text": [
      "      Iter       Train Loss   Remaining Time \n",
      "         1  1596853248.7475           32.47s\n",
      "         2  1499287770.9068           32.93s\n",
      "         3  1420038365.6006           35.38s\n",
      "         4  1355569398.4105           32.93s\n",
      "         5  1302954101.9741           30.62s\n",
      "         6  1259678384.9492           32.79s\n",
      "         7  1224238471.9885           32.90s\n",
      "         8  1194946176.4597           31.96s\n",
      "         9  1170703252.7634           31.68s\n",
      "        10  1144421026.5471           32.22s\n",
      "        20   984677383.1335           30.27s\n",
      "        30   911483715.5234           30.44s\n",
      "        40   860356193.5264           30.41s\n",
      "        50   829409392.8799           30.07s\n",
      "        60   781799941.8787           30.00s\n",
      "        70   745292474.0864           29.20s\n",
      "        80   712412812.2863           28.86s\n",
      "        90   678860398.7919           28.90s\n",
      "       100   639402238.9037           28.48s\n",
      "       200   453591144.6926           24.87s\n",
      "       300   370890060.6941           21.89s\n",
      "       400   322162714.1013           18.82s\n",
      "       500   296908491.6971           15.63s\n",
      "       600   282939373.4467           12.46s\n",
      "       700   267686571.3525            9.30s\n",
      "       800   257040849.8110            6.17s\n",
      "       900   250189942.5091            3.08s\n",
      "      1000   244593051.9950            0.00s\n"
     ]
    },
    {
     "data": {
      "text/plain": [
       "GradientBoostingRegressor(n_estimators=1000, verbose=1)"
      ]
     },
     "execution_count": 173,
     "metadata": {},
     "output_type": "execute_result"
    }
   ],
   "source": [
    "gbr.fit(x_t, y_t)"
   ]
  },
  {
   "cell_type": "code",
   "execution_count": 37,
   "metadata": {},
   "outputs": [],
   "source": [
    "Y_hat = gbr.predict(x_e)"
   ]
  },
  {
   "cell_type": "markdown",
   "metadata": {},
   "source": [
    "## 7. Avaliando Modelo Preliminar"
   ]
  },
  {
   "cell_type": "code",
   "execution_count": 177,
   "metadata": {},
   "outputs": [
    {
     "data": {
      "text/plain": [
       "(6963.376389067073,\n",
       " 836315693.3762583,\n",
       " 3.149302160686892e+18,\n",
       " 0.8345141298600727)"
      ]
     },
     "execution_count": 177,
     "metadata": {},
     "output_type": "execute_result"
    }
   ],
   "source": [
    "metrics = sklearn.metrics._regression\n",
    "\n",
    "mae = metrics.mean_absolute_error\n",
    "mse = metrics.mean_squared_error\n",
    "mape = metrics.mean_absolute_percentage_error\n",
    "r2 = metrics.r2_score\n",
    "\n",
    "mae(y_e, Y_hat), mse(y_e, Y_hat), mape(y_e, Y_hat), r2(y_e, Y_hat)"
   ]
  },
  {
   "cell_type": "markdown",
   "metadata": {},
   "source": [
    "## 8. Comparando com Previsão individual"
   ]
  },
  {
   "cell_type": "code",
   "execution_count": 184,
   "metadata": {},
   "outputs": [],
   "source": [
    "def plot_serie_pred(X, Y, model, city_code, product):\n",
    "\n",
    "    prod = X[X['product']==product]\n",
    "    serie = prod[prod['city_code']==city_code].copy()\n",
    "    serie_lab = label_encode(serie, base=X)\n",
    "    serie_y = Y.loc[serie.index]\n",
    "    serie_pred = model.predict(serie_lab)\n",
    "    serie_df = serie_y.to_frame().set_index(serie['year'].astype('datetime64[D]'))\n",
    "    serie_df['area pred'] = serie_pred\n",
    "    serie_df.plot(marker='o', lw=3)"
   ]
  },
  {
   "cell_type": "code",
   "execution_count": 187,
   "metadata": {},
   "outputs": [],
   "source": [
    "def fit_plot_serie_pred(X, Y, model, city_code, product, horizon=2, seed=0):\n",
    "    \n",
    "    prod = X[X['product']==product]\n",
    "    serie = prod[prod['city_code']==city_code].copy()\n",
    "#     serie = series[city_code+'-'+product].reset_index()\n",
    "    serie['year'] = serie['year'].astype('datetime64[Y]')\n",
    "    serie_lab = label_encode(serie, base=X)\n",
    "    serie_y = Y.loc[serie.index]\n",
    "    msk = serie_lab['year'].isin(serie_lab['year'].sort_values().iloc[-horizon:])\n",
    "    x_t, x_e, y_t, y_e = serie_lab[msk==False], serie_lab[msk], serie_y[msk==False], serie_y[msk]\n",
    "    model.fit(x_t, y_t)\n",
    "    serie_pred = model.predict(serie_lab)\n",
    "    serie_df = serie_y.to_frame().set_index(serie['year'].astype('datetime64[D]'))\n",
    "    serie_df['area pred'] = serie_pred\n",
    "    serie_df['area'].plot(lw=5)\n",
    "    serie_df['area pred'].plot(marker='o')"
   ]
  },
  {
   "cell_type": "code",
   "execution_count": null,
   "metadata": {},
   "outputs": [],
   "source": [
    "city, prod = [X.sample(1).iloc[0][col] for col in ['city_code', 'product']]"
   ]
  },
  {
   "cell_type": "code",
   "execution_count": 181,
   "metadata": {},
   "outputs": [
    {
     "data": {
      "text/plain": [
       "('fda49275fbf5caf6', 'Cocoa')"
      ]
     },
     "execution_count": 181,
     "metadata": {},
     "output_type": "execute_result"
    }
   ],
   "source": [
    "city, prod = np.random.choice(list(series.keys())).split('-'); city, prod"
   ]
  },
  {
   "cell_type": "code",
   "execution_count": 185,
   "metadata": {},
   "outputs": [
    {
     "data": {
      "image/png": "[encoded data removed]",
      "text/plain": [
       "<Figure size 432x288 with 1 Axes>"
      ]
     },
     "metadata": {},
     "output_type": "display_data"
    }
   ],
   "source": [
    "plot_serie_pred(X, Y, gbr, city_code=city, product=prod)"
   ]
  },
  {
   "cell_type": "code",
   "execution_count": null,
   "metadata": {},
   "outputs": [],
   "source": [
    "fit_plot_serie_pred(X, Y, GBR(n_estimators=50, verbose=0), city_code=city, product=prod, horizon=2)"
   ]
  },
  {
   "cell_type": "markdown",
   "metadata": {},
   "source": [
    "## 9. Visualizando Performance"
   ]
  },
  {
   "cell_type": "markdown",
   "metadata": {},
   "source": [
    "#### Parametros do Modelo"
   ]
  },
  {
   "cell_type": "code",
   "execution_count": 189,
   "metadata": {},
   "outputs": [],
   "source": [
    "fi = pd.DataFrame(gbr.feature_importances_, index=X.columns, columns=['feature_importance'])"
   ]
  },
  {
   "cell_type": "code",
   "execution_count": 190,
   "metadata": {},
   "outputs": [
    {
     "data": {
      "text/plain": [
       "<matplotlib.axes._subplots.AxesSubplot at 0x1557497d4c0>"
      ]
     },
     "execution_count": 190,
     "metadata": {},
     "output_type": "execute_result"
    },
    {
     "data": {
      "image/png": "[encoded data removed]",
      "text/plain": [
       "<Figure size 432x288 with 1 Axes>"
      ]
     },
     "metadata": {},
     "output_type": "display_data"
    }
   ],
   "source": [
    "fi.plot.bar()"
   ]
  },
  {
   "cell_type": "markdown",
   "metadata": {},
   "source": [
    "#### Performance geral do modelo"
   ]
  },
  {
   "cell_type": "code",
   "execution_count": 193,
   "metadata": {
    "collapsed": true,
    "jupyter": {
     "outputs_hidden": true,
     "source_hidden": true
    }
   },
   "outputs": [
    {
     "data": {
      "image/png": "[encoded data removed]",
      "text/plain": [
       "<Figure size 432x288 with 1 Axes>"
      ]
     },
     "metadata": {},
     "output_type": "display_data"
    },
    {
     "data": {
      "image/png": "[encoded data removed]",
      "text/plain": [
       "<Figure size 432x288 with 1 Axes>"
      ]
     },
     "metadata": {},
     "output_type": "display_data"
    },
    {
     "data": {
      "image/png": "[encoded data removed]",
      "text/plain": [
       "<Figure size 432x288 with 1 Axes>"
      ]
     },
     "metadata": {},
     "output_type": "display_data"
    },
    {
     "data": {
      "image/png": "[encoded data removed]",
      "text/plain": [
       "<Figure size 432x288 with 1 Axes>"
      ]
     },
     "metadata": {},
     "output_type": "display_data"
    }
   ],
   "source": [
    "plt.scatter(Y_hat, y_e)\n",
    "plt.plot(Y_hat, Y_hat, color='orange')\n",
    "plt.show()\n",
    "#plt.xlim(-20000, 300000)\n",
    "#plt.ylim(-20000, 800000)\n",
    "\n",
    "plt.scatter(Y_hat, y_e)\n",
    "plt.plot(Y_hat, Y_hat, color='orange')\n",
    "plt.xlim(-20000, 300000)\n",
    "plt.ylim(-20000, 800000)\n",
    "plt.show()\n",
    "\n",
    "plt.scatter(Y_hat, y_e)\n",
    "plt.plot(Y_hat, Y_hat, color='orange')\n",
    "plt.xlim(-20000, 170000)\n",
    "plt.ylim(-20000, 300000)\n",
    "plt.show()\n",
    "\n",
    "plt.scatter(Y_hat, y_e)\n",
    "plt.plot(Y_hat, Y_hat, color='orange')\n",
    "plt.xlim(-9000, 15000)\n",
    "plt.ylim(-1000, 20000)\n",
    "plt.show()"
   ]
  },
  {
   "cell_type": "markdown",
   "metadata": {},
   "source": [
    "#### Comparando Real com Previsão"
   ]
  },
  {
   "cell_type": "code",
   "execution_count": 191,
   "metadata": {},
   "outputs": [],
   "source": [
    "prods = [\n",
    "    'Rice', 'Beans', 'Cassava',\n",
    "    'Corn', 'Soy', 'Sorghum',\n",
    "    'Cocoa', 'Palm oil', 'Açaí',\n",
    "    'Livestock', 'Others-temporary', 'Others-permanent'\n",
    "]"
   ]
  },
  {
   "cell_type": "code",
   "execution_count": 192,
   "metadata": {},
   "outputs": [],
   "source": [
    "colors = ['blue', 'orange', 'green', 'yellow', 'red', 'purple', 'brown', 'pink', 'grey', 'lightblue', 'lightgreen', 'violet', 'darkblue']"
   ]
  }
 ],
 "metadata": {
  "kernelspec": {
   "display_name": "Python 3",
   "language": "python",
   "name": "python3"
  },
  "language_info": {
   "codemirror_mode": {
    "name": "ipython",
    "version": 3
   },
   "file_extension": ".py",
   "mimetype": "text/x-python",
   "name": "python",
   "nbconvert_exporter": "python",
   "pygments_lexer": "ipython3",
   "version": "3.8.3"
  }
 },
 "nbformat": 4,
 "nbformat_minor": 4
}
