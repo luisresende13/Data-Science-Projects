{
 "cells": [
  {
   "cell_type": "code",
   "execution_count": 1,
   "metadata": {},
   "outputs": [],
   "source": [
    "import pandas as pd \n",
    "import numpy as np\n",
    "import matplotlib.pyplot as plt\n",
    "from IPython.display import clear_output as co\n",
    "import seaborn as sns\n",
    "import os"
   ]
  },
  {
   "cell_type": "code",
   "execution_count": 2,
   "metadata": {},
   "outputs": [],
   "source": [
    "from tools import preprocess"
   ]
  },
  {
   "cell_type": "code",
   "execution_count": null,
   "metadata": {},
   "outputs": [],
   "source": []
  },
  {
   "cell_type": "code",
   "execution_count": 6,
   "metadata": {},
   "outputs": [
    {
     "data": {
      "text/plain": [
       "<bound method preprocess.clean_series of <tools.preprocess object at 0x000002119499A2B0>>"
      ]
     },
     "execution_count": 6,
     "metadata": {},
     "output_type": "execute_result"
    }
   ],
   "source": [
    "preprocess().clean_series"
   ]
  },
  {
   "cell_type": "markdown",
   "metadata": {},
   "source": [
    "---\n",
    "# Engenharia de Dados"
   ]
  },
  {
   "cell_type": "markdown",
   "metadata": {},
   "source": [
    "### Novas variáveis:\n",
    "1. Valores passados da mesma série - dois esquemas: \"n antes\" (cada coluna é a area n anos antes) ou cada coluna um ano fixo (nan para anos futuros).\n",
    "2. Variações dos valores passados da mesma série.\n",
    "3. Valores passados de séries diferentes.\n",
    "4. Tabela com séries concatenadas com atraso de um ano para cada série - Exemplo: tabela com colunas \"ano\", \"variavel alvo\" (de uma série), demais séries como colunas, porém atrasadas em um ano\n",
    "5. Valores passados de dados externos\n",
    "6. Variações dos valores passados de dados externos"
   ]
  },
  {
   "cell_type": "markdown",
   "metadata": {},
   "source": [
    "## 0. Carregando dados"
   ]
  },
  {
   "cell_type": "code",
   "execution_count": 4,
   "metadata": {},
   "outputs": [],
   "source": [
    "def load_series(path='series/'):\n",
    "    filenames = os.listdir(path)\n",
    "    series, cnt, n_files = {}, 0, len(filenames)\n",
    "    freq = range(1, n_files, 10)\n",
    "    for filename in filenames:\n",
    "        cnt+=1\n",
    "        if cnt in freq: print(f'Files loaded: {cnt}/{n_files}'); co(wait=True)\n",
    "        series[filename[:-4]] = pd.read_csv(path+filename, index_col=0)\n",
    "    print(f'Done! Loaded {n_files} files.')\n",
    "    return series"
   ]
  },
  {
   "cell_type": "code",
   "execution_count": 5,
   "metadata": {},
   "outputs": [
    {
     "name": "stdout",
     "output_type": "stream",
     "text": [
      "Done! Loaded 1712 files.\n"
     ]
    }
   ],
   "source": [
    "series = load_series()"
   ]
  },
  {
   "cell_type": "code",
   "execution_count": 4,
   "metadata": {},
   "outputs": [],
   "source": [
    "data = pd.read_csv('data/historical-database-clean.csv')"
   ]
  },
  {
   "cell_type": "markdown",
   "metadata": {},
   "source": [
    "## 1. Concatenando séries temporais como colunas"
   ]
  },
  {
   "cell_type": "code",
   "execution_count": 5,
   "metadata": {},
   "outputs": [
    {
     "data": {
      "text/html": [
       "<div>\n",
       "<style scoped>\n",
       "    .dataframe tbody tr th:only-of-type {\n",
       "        vertical-align: middle;\n",
       "    }\n",
       "\n",
       "    .dataframe tbody tr th {\n",
       "        vertical-align: top;\n",
       "    }\n",
       "\n",
       "    .dataframe thead th {\n",
       "        text-align: right;\n",
       "    }\n",
       "</style>\n",
       "<table border=\"1\" class=\"dataframe\">\n",
       "  <thead>\n",
       "    <tr style=\"text-align: right;\">\n",
       "      <th></th>\n",
       "      <th>0307883b5d063703-Açaí</th>\n",
       "      <th>0307883b5d063703-Beans</th>\n",
       "      <th>0307883b5d063703-Cassava</th>\n",
       "      <th>0307883b5d063703-Cocoa</th>\n",
       "      <th>0307883b5d063703-Corn</th>\n",
       "      <th>0307883b5d063703-Livestock</th>\n",
       "      <th>0307883b5d063703-Others-permanent</th>\n",
       "      <th>0307883b5d063703-Others-temporary</th>\n",
       "      <th>0307883b5d063703-Palm oil</th>\n",
       "      <th>0307883b5d063703-Rice</th>\n",
       "      <th>...</th>\n",
       "      <th>fda49275fbf5caf6-Cassava</th>\n",
       "      <th>fda49275fbf5caf6-Cocoa</th>\n",
       "      <th>fda49275fbf5caf6-Corn</th>\n",
       "      <th>fda49275fbf5caf6-Livestock</th>\n",
       "      <th>fda49275fbf5caf6-Others-permanent</th>\n",
       "      <th>fda49275fbf5caf6-Others-temporary</th>\n",
       "      <th>fda49275fbf5caf6-Palm oil</th>\n",
       "      <th>fda49275fbf5caf6-Rice</th>\n",
       "      <th>fda49275fbf5caf6-Sorghum</th>\n",
       "      <th>fda49275fbf5caf6-Soy</th>\n",
       "    </tr>\n",
       "  </thead>\n",
       "  <tbody>\n",
       "    <tr>\n",
       "      <th>0</th>\n",
       "      <td>NaN</td>\n",
       "      <td>NaN</td>\n",
       "      <td>NaN</td>\n",
       "      <td>NaN</td>\n",
       "      <td>NaN</td>\n",
       "      <td>NaN</td>\n",
       "      <td>NaN</td>\n",
       "      <td>NaN</td>\n",
       "      <td>NaN</td>\n",
       "      <td>NaN</td>\n",
       "      <td>...</td>\n",
       "      <td>NaN</td>\n",
       "      <td>NaN</td>\n",
       "      <td>NaN</td>\n",
       "      <td>NaN</td>\n",
       "      <td>NaN</td>\n",
       "      <td>NaN</td>\n",
       "      <td>NaN</td>\n",
       "      <td>NaN</td>\n",
       "      <td>NaN</td>\n",
       "      <td>NaN</td>\n",
       "    </tr>\n",
       "    <tr>\n",
       "      <th>1</th>\n",
       "      <td>NaN</td>\n",
       "      <td>NaN</td>\n",
       "      <td>NaN</td>\n",
       "      <td>NaN</td>\n",
       "      <td>NaN</td>\n",
       "      <td>NaN</td>\n",
       "      <td>NaN</td>\n",
       "      <td>NaN</td>\n",
       "      <td>NaN</td>\n",
       "      <td>NaN</td>\n",
       "      <td>...</td>\n",
       "      <td>NaN</td>\n",
       "      <td>NaN</td>\n",
       "      <td>NaN</td>\n",
       "      <td>NaN</td>\n",
       "      <td>NaN</td>\n",
       "      <td>NaN</td>\n",
       "      <td>NaN</td>\n",
       "      <td>NaN</td>\n",
       "      <td>NaN</td>\n",
       "      <td>NaN</td>\n",
       "    </tr>\n",
       "    <tr>\n",
       "      <th>2</th>\n",
       "      <td>NaN</td>\n",
       "      <td>NaN</td>\n",
       "      <td>NaN</td>\n",
       "      <td>NaN</td>\n",
       "      <td>NaN</td>\n",
       "      <td>NaN</td>\n",
       "      <td>NaN</td>\n",
       "      <td>NaN</td>\n",
       "      <td>NaN</td>\n",
       "      <td>NaN</td>\n",
       "      <td>...</td>\n",
       "      <td>NaN</td>\n",
       "      <td>NaN</td>\n",
       "      <td>NaN</td>\n",
       "      <td>NaN</td>\n",
       "      <td>NaN</td>\n",
       "      <td>NaN</td>\n",
       "      <td>NaN</td>\n",
       "      <td>NaN</td>\n",
       "      <td>NaN</td>\n",
       "      <td>NaN</td>\n",
       "    </tr>\n",
       "  </tbody>\n",
       "</table>\n",
       "<p>3 rows × 1726 columns</p>\n",
       "</div>"
      ],
      "text/plain": [
       "   0307883b5d063703-Açaí  0307883b5d063703-Beans  0307883b5d063703-Cassava  \\\n",
       "0                    NaN                     NaN                       NaN   \n",
       "1                    NaN                     NaN                       NaN   \n",
       "2                    NaN                     NaN                       NaN   \n",
       "\n",
       "   0307883b5d063703-Cocoa  0307883b5d063703-Corn  0307883b5d063703-Livestock  \\\n",
       "0                     NaN                    NaN                         NaN   \n",
       "1                     NaN                    NaN                         NaN   \n",
       "2                     NaN                    NaN                         NaN   \n",
       "\n",
       "   0307883b5d063703-Others-permanent  0307883b5d063703-Others-temporary  \\\n",
       "0                                NaN                                NaN   \n",
       "1                                NaN                                NaN   \n",
       "2                                NaN                                NaN   \n",
       "\n",
       "   0307883b5d063703-Palm oil  0307883b5d063703-Rice  ...  \\\n",
       "0                        NaN                    NaN  ...   \n",
       "1                        NaN                    NaN  ...   \n",
       "2                        NaN                    NaN  ...   \n",
       "\n",
       "   fda49275fbf5caf6-Cassava  fda49275fbf5caf6-Cocoa  fda49275fbf5caf6-Corn  \\\n",
       "0                       NaN                     NaN                    NaN   \n",
       "1                       NaN                     NaN                    NaN   \n",
       "2                       NaN                     NaN                    NaN   \n",
       "\n",
       "   fda49275fbf5caf6-Livestock  fda49275fbf5caf6-Others-permanent  \\\n",
       "0                         NaN                                NaN   \n",
       "1                         NaN                                NaN   \n",
       "2                         NaN                                NaN   \n",
       "\n",
       "   fda49275fbf5caf6-Others-temporary  fda49275fbf5caf6-Palm oil  \\\n",
       "0                                NaN                        NaN   \n",
       "1                                NaN                        NaN   \n",
       "2                                NaN                        NaN   \n",
       "\n",
       "   fda49275fbf5caf6-Rice  fda49275fbf5caf6-Sorghum  fda49275fbf5caf6-Soy  \n",
       "0                    NaN                       NaN                   NaN  \n",
       "1                    NaN                       NaN                   NaN  \n",
       "2                    NaN                       NaN                   NaN  \n",
       "\n",
       "[3 rows x 1726 columns]"
      ]
     },
     "execution_count": 5,
     "metadata": {},
     "output_type": "execute_result"
    }
   ],
   "source": [
    "keys = series.keys()\n",
    "series_df = pd.concat([series[key]['area'] for key in keys], 1)\n",
    "series_df.columns = keys\n",
    "series_df.head(3)"
   ]
  },
  {
   "cell_type": "markdown",
   "metadata": {},
   "source": [
    "Observação: Nº de séries com zero células vazias não corresponde com avaliação da explorção de dados"
   ]
  },
  {
   "cell_type": "code",
   "execution_count": 132,
   "metadata": {},
   "outputs": [],
   "source": [
    "#series_df.to_csv('data/isolated-series.csv', index=True)\n",
    "series_df = pd.read_csv('data/isolated-series.csv', index_col=0)"
   ]
  },
  {
   "cell_type": "markdown",
   "metadata": {},
   "source": [
    "## 2. Valores passados da mesma série"
   ]
  }
 ],
 "metadata": {
  "kernelspec": {
   "display_name": "Python 3",
   "language": "python",
   "name": "python3"
  },
  "language_info": {
   "codemirror_mode": {
    "name": "ipython",
    "version": 3
   },
   "file_extension": ".py",
   "mimetype": "text/x-python",
   "name": "python",
   "nbconvert_exporter": "python",
   "pygments_lexer": "ipython3",
   "version": "3.8.3"
  }
 },
 "nbformat": 4,
 "nbformat_minor": 4
}
