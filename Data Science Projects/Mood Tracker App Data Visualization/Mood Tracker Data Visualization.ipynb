{
 "cells": [
  {
   "cell_type": "code",
   "execution_count": 22,
   "metadata": {},
   "outputs": [],
   "source": [
    "import pandas as pd\n",
    "import matplotlib.pyplot as plt\n",
    "import numpy as np\n",
    "import json"
   ]
  },
  {
   "cell_type": "markdown",
   "metadata": {},
   "source": [
    "## Loading app data as pandas dataframe"
   ]
  },
  {
   "cell_type": "code",
   "execution_count": 40,
   "metadata": {},
   "outputs": [],
   "source": [
    "df = pd.read_csv('UsersDatabase.csv')"
   ]
  },
  {
   "cell_type": "code",
   "execution_count": 41,
   "metadata": {},
   "outputs": [
    {
     "data": {
      "text/html": [
       "<div>\n",
       "<style scoped>\n",
       "    .dataframe tbody tr th:only-of-type {\n",
       "        vertical-align: middle;\n",
       "    }\n",
       "\n",
       "    .dataframe tbody tr th {\n",
       "        vertical-align: top;\n",
       "    }\n",
       "\n",
       "    .dataframe thead th {\n",
       "        text-align: right;\n",
       "    }\n",
       "</style>\n",
       "<table border=\"1\" class=\"dataframe\">\n",
       "  <thead>\n",
       "    <tr style=\"text-align: right;\">\n",
       "      <th></th>\n",
       "      <th>_id</th>\n",
       "      <th>username</th>\n",
       "      <th>password</th>\n",
       "      <th>email</th>\n",
       "      <th>entries</th>\n",
       "      <th>layout</th>\n",
       "      <th>settings</th>\n",
       "      <th>emotions</th>\n",
       "    </tr>\n",
       "  </thead>\n",
       "  <tbody>\n",
       "    <tr>\n",
       "      <th>0</th>\n",
       "      <td>61f86b02642e5b0f273b641f</td>\n",
       "      <td>luisresende13</td>\n",
       "      <td>Gaia0333</td>\n",
       "      <td>luisresende13@gmail.com</td>\n",
       "      <td>[{\"user_id\": \"61f86b02642e5b0f273b641f\", \"jorn...</td>\n",
       "      <td>type</td>\n",
       "      <td>{'backgroundColor': 'blueviolet', 'backgroundI...</td>\n",
       "      <td>[{'name': 'Feliz', 'type': 'Positiva', 'energy...</td>\n",
       "    </tr>\n",
       "    <tr>\n",
       "      <th>1</th>\n",
       "      <td>620c130a81fde523c72c4624</td>\n",
       "      <td>luisresende</td>\n",
       "      <td>Gaia0333</td>\n",
       "      <td>luisresende@id.uff.br</td>\n",
       "      <td>[{\"_id\": \"620c130a81fde523c72c4624\", \"user_id\"...</td>\n",
       "      <td>type</td>\n",
       "      <td>{'backgroundColor': 'blue', 'backgroundImage':...</td>\n",
       "      <td>[{'name': 'nb  knb.nm n, ', 'type': 'Positiva'...</td>\n",
       "    </tr>\n",
       "    <tr>\n",
       "      <th>2</th>\n",
       "      <td>62116da695de12402dce2f0a</td>\n",
       "      <td>hanna_viana</td>\n",
       "      <td>luischato333</td>\n",
       "      <td>hanna_viana@id.uff.br</td>\n",
       "      <td>[{\"_id\": \"62116da695de12402dce2f0a\", \"user_id\"...</td>\n",
       "      <td>type</td>\n",
       "      <td>{'backgroundColor': 'whitesmoke', 'backgroundI...</td>\n",
       "      <td>[{'name': 'Alívio', 'type': 'Positiva', 'energ...</td>\n",
       "    </tr>\n",
       "  </tbody>\n",
       "</table>\n",
       "</div>"
      ],
      "text/plain": [
       "                        _id       username      password  \\\n",
       "0  61f86b02642e5b0f273b641f  luisresende13      Gaia0333   \n",
       "1  620c130a81fde523c72c4624    luisresende      Gaia0333   \n",
       "2  62116da695de12402dce2f0a    hanna_viana  luischato333   \n",
       "\n",
       "                     email                                            entries  \\\n",
       "0  luisresende13@gmail.com  [{\"user_id\": \"61f86b02642e5b0f273b641f\", \"jorn...   \n",
       "1    luisresende@id.uff.br  [{\"_id\": \"620c130a81fde523c72c4624\", \"user_id\"...   \n",
       "2    hanna_viana@id.uff.br  [{\"_id\": \"62116da695de12402dce2f0a\", \"user_id\"...   \n",
       "\n",
       "  layout                                           settings  \\\n",
       "0   type  {'backgroundColor': 'blueviolet', 'backgroundI...   \n",
       "1   type  {'backgroundColor': 'blue', 'backgroundImage':...   \n",
       "2   type  {'backgroundColor': 'whitesmoke', 'backgroundI...   \n",
       "\n",
       "                                            emotions  \n",
       "0  [{'name': 'Feliz', 'type': 'Positiva', 'energy...  \n",
       "1  [{'name': 'nb  knb.nm n, ', 'type': 'Positiva'...  \n",
       "2  [{'name': 'Alívio', 'type': 'Positiva', 'energ...  "
      ]
     },
     "execution_count": 41,
     "metadata": {},
     "output_type": "execute_result"
    }
   ],
   "source": [
    "df.head(3)"
   ]
  },
  {
   "cell_type": "markdown",
   "metadata": {},
   "source": [
    "## Converting string values to objects"
   ]
  },
  {
   "cell_type": "code",
   "execution_count": 42,
   "metadata": {},
   "outputs": [],
   "source": [
    "for i in df.index:\n",
    "    df.loc[i, 'entries']= json.loads(df.loc[i, 'entries'])"
   ]
  },
  {
   "cell_type": "code",
   "execution_count": 44,
   "metadata": {},
   "outputs": [
    {
     "data": {
      "text/plain": [
       "{'user_id': '61f86b02642e5b0f273b641f',\n",
       " 'jornal': '',\n",
       " 'mood': 'Ótimo',\n",
       " 'emotions': [],\n",
       " 'address': '',\n",
       " 'date': '2022-02-01',\n",
       " 'startTime': '03:9 PM',\n",
       " 'endTime': '03:9 PM',\n",
       " 'star': False,\n",
       " '_id': '61f86b02642e5b0f273b641f'}"
      ]
     },
     "execution_count": 44,
     "metadata": {},
     "output_type": "execute_result"
    }
   ],
   "source": [
    "df['entries'][0][0]"
   ]
  },
  {
   "cell_type": "markdown",
   "metadata": {},
   "source": [
    "## Conting users' entries"
   ]
  },
  {
   "cell_type": "code",
   "execution_count": 45,
   "metadata": {},
   "outputs": [],
   "source": [
    "user_entries_cnt = pd.Series([ len(entries) for entries in df['entries'] ], index=df.username)"
   ]
  },
  {
   "cell_type": "code",
   "execution_count": 46,
   "metadata": {},
   "outputs": [
    {
     "data": {
      "text/plain": [
       "<matplotlib.axes._subplots.AxesSubplot at 0x2976a5f78b0>"
      ]
     },
     "execution_count": 46,
     "metadata": {},
     "output_type": "execute_result"
    },
    {
     "data": {
      "image/png": "[encoded data removed]",
      "text/plain": [
       "<Figure size 432x288 with 1 Axes>"
      ]
     },
     "metadata": {
      "needs_background": "light"
     },
     "output_type": "display_data"
    }
   ],
   "source": [
    "user_entries_cnt.sort_values().plot.bar()"
   ]
  },
  {
   "cell_type": "markdown",
   "metadata": {},
   "source": [
    "## Extracting Single User Entries as <i>pandas</i> Dataframe"
   ]
  },
  {
   "cell_type": "code",
   "execution_count": 80,
   "metadata": {},
   "outputs": [],
   "source": [
    "user_entries = df[df['email']=='luisresende@id.uff.br']['entries'].values[0]"
   ]
  },
  {
   "cell_type": "code",
   "execution_count": 82,
   "metadata": {},
   "outputs": [],
   "source": [
    "entries_df = pd.DataFrame(user_entries)"
   ]
  },
  {
   "cell_type": "markdown",
   "metadata": {},
   "source": [
    "## Generating week column"
   ]
  },
  {
   "cell_type": "code",
   "execution_count": 123,
   "metadata": {},
   "outputs": [],
   "source": [
    "datetimeIndex = pd.DatetimeIndex(entries_df['date'])"
   ]
  },
  {
   "cell_type": "code",
   "execution_count": 124,
   "metadata": {},
   "outputs": [],
   "source": [
    "entries_df['week'] = datetimeIndex.week\n",
    "entries_df['day'] = datetimeIndex.day\n",
    "entries_df['month'] = datetimeIndex.month\n",
    "entries_df['year'] = datetimeIndex.year"
   ]
  },
  {
   "cell_type": "markdown",
   "metadata": {},
   "source": [
    "## Data Visualization"
   ]
  },
  {
   "cell_type": "code",
   "execution_count": 110,
   "metadata": {},
   "outputs": [],
   "source": [
    "moodDict = {\n",
    "    'Ótimo': 5,\n",
    "    'Bem': 4,\n",
    "    'Regular': 3,\n",
    "    'Mal': 2,\n",
    "    'Horrível': 1\n",
    "}\n",
    "moodMap = lambda mood: moodDict[mood]"
   ]
  },
  {
   "cell_type": "code",
   "execution_count": 119,
   "metadata": {},
   "outputs": [],
   "source": [
    "current = {\n",
    "    'day': 13,\n",
    "    'week': 11,\n",
    "    'month': 3,\n",
    "    'year': 2022\n",
    "}"
   ]
  },
  {
   "cell_type": "code",
   "execution_count": 134,
   "metadata": {},
   "outputs": [],
   "source": [
    "moods = entries_df['mood'].map(moodMap)\n",
    "moods.index = datetimeIndex"
   ]
  },
  {
   "cell_type": "code",
   "execution_count": 138,
   "metadata": {},
   "outputs": [
    {
     "data": {
      "text/plain": [
       "date\n",
       "2022-03-14    3\n",
       "2022-03-14    5\n",
       "2022-03-14    5\n",
       "2022-03-14    2\n",
       "2022-03-14    3\n",
       "Name: mood, dtype: int64"
      ]
     },
     "execution_count": 138,
     "metadata": {},
     "output_type": "execute_result"
    }
   ],
   "source": [
    "moods[datetimeIndex=='14-03-2022']"
   ]
  },
  {
   "cell_type": "code",
   "execution_count": null,
   "metadata": {},
   "outputs": [],
   "source": []
  }
 ],
 "metadata": {
  "kernelspec": {
   "display_name": "Python 3",
   "language": "python",
   "name": "python3"
  },
  "language_info": {
   "codemirror_mode": {
    "name": "ipython",
    "version": 3
   },
   "file_extension": ".py",
   "mimetype": "text/x-python",
   "name": "python",
   "nbconvert_exporter": "python",
   "pygments_lexer": "ipython3",
   "version": "3.8.3"
  }
 },
 "nbformat": 4,
 "nbformat_minor": 4
}
