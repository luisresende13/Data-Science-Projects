{
 "cells": [
  {
   "cell_type": "code",
   "execution_count": 101,
   "metadata": {},
   "outputs": [],
   "source": [
    "import pandas as pd, numpy as np, matplotlib.pyplot as plt\n",
    "\n",
    "from IPython.display import clear_output\n",
    "\n",
    "pd.set_option('display.max_rows', 1000)\n",
    "\n",
    "from datetime import datetime"
   ]
  },
  {
   "cell_type": "code",
   "execution_count": 13,
   "metadata": {},
   "outputs": [],
   "source": [
    "comando = pd.read_csv('Extração Sistema Comando.csv', sep='|')\n",
    "alertas = pd.read_excel('4 - App COR.RIO alertas - atualizado.xlsx')"
   ]
  },
  {
   "cell_type": "markdown",
   "metadata": {},
   "source": [
    "# Tabelas"
   ]
  },
  {
   "cell_type": "code",
   "execution_count": 98,
   "metadata": {},
   "outputs": [
    {
     "data": {
      "text/html": [
       "<div>\n",
       "<style scoped>\n",
       "    .dataframe tbody tr th:only-of-type {\n",
       "        vertical-align: middle;\n",
       "    }\n",
       "\n",
       "    .dataframe tbody tr th {\n",
       "        vertical-align: top;\n",
       "    }\n",
       "\n",
       "    .dataframe thead th {\n",
       "        text-align: right;\n",
       "    }\n",
       "</style>\n",
       "<table border=\"1\" class=\"dataframe\">\n",
       "  <thead>\n",
       "    <tr style=\"text-align: right;\">\n",
       "      <th></th>\n",
       "      <th>Titulo</th>\n",
       "      <th>Mensagem</th>\n",
       "      <th>Data</th>\n",
       "    </tr>\n",
       "  </thead>\n",
       "  <tbody>\n",
       "    <tr>\n",
       "      <th>0</th>\n",
       "      <td>00h12- CHUVA FRACA A MODERADA</td>\n",
       "      <td>1/10/2021 - CHUVA NAS ZONAS NORTE E OESTE | Al...</td>\n",
       "      <td>2021-10-02 02:012 de Outubro de 2021 às 02:01</td>\n",
       "    </tr>\n",
       "    <tr>\n",
       "      <th>1</th>\n",
       "      <td>00h23 - O TEMPO AGORA</td>\n",
       "      <td>30/03/21 - 00h23 - De acordo com o Alerta Rio,...</td>\n",
       "      <td>2021-03-30 06:3030 de Março de 2021 às 06:30</td>\n",
       "    </tr>\n",
       "    <tr>\n",
       "      <th>2</th>\n",
       "      <td>00h30 - O TEMPO AGORA</td>\n",
       "      <td>1/4/2021 - 00h30 De acordo com o Alerta Rio, n...</td>\n",
       "      <td>2021-04-01 05:311 de Abril de 2021 às 05:31</td>\n",
       "    </tr>\n",
       "    <tr>\n",
       "      <th>3</th>\n",
       "      <td>02/02/20 - 4h - RETORNO AO ESTÁGIO DE NORMALIDADE</td>\n",
       "      <td>O Centro de Operações da Prefeitura do Rio inf...</td>\n",
       "      <td>2020-02-20 13:5720 de Fevereiro de 2020 às 13:57</td>\n",
       "    </tr>\n",
       "    <tr>\n",
       "      <th>4</th>\n",
       "      <td>02h32 - ATUALIZAÇÃO DO TEMPO</td>\n",
       "      <td>17/10 - 02H32 - ATUALIZAÇÃO DO TEMPO: o Alerta...</td>\n",
       "      <td>2020-10-17 07:0517 de Outubro de 2020 às 07:05</td>\n",
       "    </tr>\n",
       "  </tbody>\n",
       "</table>\n",
       "</div>"
      ],
      "text/plain": [
       "                                              Titulo  \\\n",
       "0                      00h12- CHUVA FRACA A MODERADA   \n",
       "1                              00h23 - O TEMPO AGORA   \n",
       "2                              00h30 - O TEMPO AGORA   \n",
       "3  02/02/20 - 4h - RETORNO AO ESTÁGIO DE NORMALIDADE   \n",
       "4                       02h32 - ATUALIZAÇÃO DO TEMPO   \n",
       "\n",
       "                                            Mensagem  \\\n",
       "0  1/10/2021 - CHUVA NAS ZONAS NORTE E OESTE | Al...   \n",
       "1  30/03/21 - 00h23 - De acordo com o Alerta Rio,...   \n",
       "2  1/4/2021 - 00h30 De acordo com o Alerta Rio, n...   \n",
       "3  O Centro de Operações da Prefeitura do Rio inf...   \n",
       "4  17/10 - 02H32 - ATUALIZAÇÃO DO TEMPO: o Alerta...   \n",
       "\n",
       "                                               Data  \n",
       "0     2021-10-02 02:012 de Outubro de 2021 às 02:01  \n",
       "1      2021-03-30 06:3030 de Março de 2021 às 06:30  \n",
       "2       2021-04-01 05:311 de Abril de 2021 às 05:31  \n",
       "3  2020-02-20 13:5720 de Fevereiro de 2020 às 13:57  \n",
       "4    2020-10-17 07:0517 de Outubro de 2020 às 07:05  "
      ]
     },
     "execution_count": 98,
     "metadata": {},
     "output_type": "execute_result"
    }
   ],
   "source": [
    "alertas.head()"
   ]
  },
  {
   "cell_type": "code",
   "execution_count": 52,
   "metadata": {},
   "outputs": [
    {
     "data": {
      "text/html": [
       "<div>\n",
       "<style scoped>\n",
       "    .dataframe tbody tr th:only-of-type {\n",
       "        vertical-align: middle;\n",
       "    }\n",
       "\n",
       "    .dataframe tbody tr th {\n",
       "        vertical-align: top;\n",
       "    }\n",
       "\n",
       "    .dataframe thead th {\n",
       "        text-align: right;\n",
       "    }\n",
       "</style>\n",
       "<table border=\"1\" class=\"dataframe\">\n",
       "  <thead>\n",
       "    <tr style=\"text-align: right;\">\n",
       "      <th></th>\n",
       "      <th>EVENTO_ID</th>\n",
       "      <th>EVENTO_TITULO</th>\n",
       "      <th>EVENTO_DESCRICAO</th>\n",
       "      <th>EVENTO_GRAVIDADE</th>\n",
       "      <th>EVENTO_BAIRRO</th>\n",
       "      <th>STATUS</th>\n",
       "      <th>EVENTO_INICIO</th>\n",
       "      <th>EVENTO_FIM</th>\n",
       "      <th>EVENTO_PRAZO</th>\n",
       "      <th>EVENTO_LATITUDE</th>\n",
       "      <th>EVENTO_LONGITUDE</th>\n",
       "      <th>POP_TITULO</th>\n",
       "      <th>POP_DESCRICAO</th>\n",
       "      <th>ORGAO_SIGLA</th>\n",
       "      <th>ORGAO_NOME</th>\n",
       "      <th>ACAO</th>\n",
       "    </tr>\n",
       "  </thead>\n",
       "  <tbody>\n",
       "    <tr>\n",
       "      <th>0</th>\n",
       "      <td>2</td>\n",
       "      <td>Ac mt e tx, na LVermelha, sent Centro, altura ...</td>\n",
       "      <td>Ac mt e tx, na LVermelha, sent Centro, altura ...</td>\n",
       "      <td>BAIXO</td>\n",
       "      <td>NaN</td>\n",
       "      <td>FECHADO</td>\n",
       "      <td>2015-02-23 12:13:04</td>\n",
       "      <td>2015-02-23 14:18:52</td>\n",
       "      <td>NaN</td>\n",
       "      <td>NaN</td>\n",
       "      <td>NaN</td>\n",
       "      <td>Acidente com vítima(s)</td>\n",
       "      <td>Acidente com vítima(s)</td>\n",
       "      <td>PM</td>\n",
       "      <td>Polícia Militar</td>\n",
       "      <td>Registrar o acidente</td>\n",
       "    </tr>\n",
       "    <tr>\n",
       "      <th>1</th>\n",
       "      <td>2</td>\n",
       "      <td>Ac mt e tx, na LVermelha, sent Centro, altura ...</td>\n",
       "      <td>Ac mt e tx, na LVermelha, sent Centro, altura ...</td>\n",
       "      <td>BAIXO</td>\n",
       "      <td>NaN</td>\n",
       "      <td>FECHADO</td>\n",
       "      <td>2015-02-23 12:13:04</td>\n",
       "      <td>2015-02-23 14:18:52</td>\n",
       "      <td>NaN</td>\n",
       "      <td>NaN</td>\n",
       "      <td>NaN</td>\n",
       "      <td>Acidente com vítima(s)</td>\n",
       "      <td>Acidente com vítima(s)</td>\n",
       "      <td>CET-RIO</td>\n",
       "      <td>Companhia de Engenharia de Tráfego</td>\n",
       "      <td>Desfazer o acidente</td>\n",
       "    </tr>\n",
       "    <tr>\n",
       "      <th>2</th>\n",
       "      <td>2</td>\n",
       "      <td>Ac mt e tx, na LVermelha, sent Centro, altura ...</td>\n",
       "      <td>Ac mt e tx, na LVermelha, sent Centro, altura ...</td>\n",
       "      <td>BAIXO</td>\n",
       "      <td>NaN</td>\n",
       "      <td>FECHADO</td>\n",
       "      <td>2015-02-23 12:13:04</td>\n",
       "      <td>2015-02-23 14:18:52</td>\n",
       "      <td>NaN</td>\n",
       "      <td>NaN</td>\n",
       "      <td>NaN</td>\n",
       "      <td>Acidente com vítima(s)</td>\n",
       "      <td>Acidente com vítima(s)</td>\n",
       "      <td>CET-RIO</td>\n",
       "      <td>Companhia de Engenharia de Tráfego</td>\n",
       "      <td>Organizar o trânsito</td>\n",
       "    </tr>\n",
       "    <tr>\n",
       "      <th>3</th>\n",
       "      <td>2</td>\n",
       "      <td>Ac mt e tx, na LVermelha, sent Centro, altura ...</td>\n",
       "      <td>Ac mt e tx, na LVermelha, sent Centro, altura ...</td>\n",
       "      <td>BAIXO</td>\n",
       "      <td>NaN</td>\n",
       "      <td>FECHADO</td>\n",
       "      <td>2015-02-23 12:13:04</td>\n",
       "      <td>2015-02-23 14:18:52</td>\n",
       "      <td>NaN</td>\n",
       "      <td>NaN</td>\n",
       "      <td>NaN</td>\n",
       "      <td>Acidente com vítima(s)</td>\n",
       "      <td>Acidente com vítima(s)</td>\n",
       "      <td>BOMBEIROS</td>\n",
       "      <td>Corpo de Bombeiros</td>\n",
       "      <td>Prevenir perigo</td>\n",
       "    </tr>\n",
       "    <tr>\n",
       "      <th>4</th>\n",
       "      <td>2</td>\n",
       "      <td>Ac mt e tx, na LVermelha, sent Centro, altura ...</td>\n",
       "      <td>Ac mt e tx, na LVermelha, sent Centro, altura ...</td>\n",
       "      <td>BAIXO</td>\n",
       "      <td>NaN</td>\n",
       "      <td>FECHADO</td>\n",
       "      <td>2015-02-23 12:13:04</td>\n",
       "      <td>2015-02-23 14:18:52</td>\n",
       "      <td>NaN</td>\n",
       "      <td>NaN</td>\n",
       "      <td>NaN</td>\n",
       "      <td>Acidente com vítima(s)</td>\n",
       "      <td>Acidente com vítima(s)</td>\n",
       "      <td>BOMBEIROS</td>\n",
       "      <td>Corpo de Bombeiros</td>\n",
       "      <td>Atender vítima(s)</td>\n",
       "    </tr>\n",
       "  </tbody>\n",
       "</table>\n",
       "</div>"
      ],
      "text/plain": [
       "   EVENTO_ID                                      EVENTO_TITULO  \\\n",
       "0          2  Ac mt e tx, na LVermelha, sent Centro, altura ...   \n",
       "1          2  Ac mt e tx, na LVermelha, sent Centro, altura ...   \n",
       "2          2  Ac mt e tx, na LVermelha, sent Centro, altura ...   \n",
       "3          2  Ac mt e tx, na LVermelha, sent Centro, altura ...   \n",
       "4          2  Ac mt e tx, na LVermelha, sent Centro, altura ...   \n",
       "\n",
       "                                    EVENTO_DESCRICAO EVENTO_GRAVIDADE  \\\n",
       "0  Ac mt e tx, na LVermelha, sent Centro, altura ...            BAIXO   \n",
       "1  Ac mt e tx, na LVermelha, sent Centro, altura ...            BAIXO   \n",
       "2  Ac mt e tx, na LVermelha, sent Centro, altura ...            BAIXO   \n",
       "3  Ac mt e tx, na LVermelha, sent Centro, altura ...            BAIXO   \n",
       "4  Ac mt e tx, na LVermelha, sent Centro, altura ...            BAIXO   \n",
       "\n",
       "  EVENTO_BAIRRO   STATUS        EVENTO_INICIO           EVENTO_FIM  \\\n",
       "0           NaN  FECHADO  2015-02-23 12:13:04  2015-02-23 14:18:52   \n",
       "1           NaN  FECHADO  2015-02-23 12:13:04  2015-02-23 14:18:52   \n",
       "2           NaN  FECHADO  2015-02-23 12:13:04  2015-02-23 14:18:52   \n",
       "3           NaN  FECHADO  2015-02-23 12:13:04  2015-02-23 14:18:52   \n",
       "4           NaN  FECHADO  2015-02-23 12:13:04  2015-02-23 14:18:52   \n",
       "\n",
       "  EVENTO_PRAZO  EVENTO_LATITUDE  EVENTO_LONGITUDE              POP_TITULO  \\\n",
       "0          NaN              NaN               NaN  Acidente com vítima(s)   \n",
       "1          NaN              NaN               NaN  Acidente com vítima(s)   \n",
       "2          NaN              NaN               NaN  Acidente com vítima(s)   \n",
       "3          NaN              NaN               NaN  Acidente com vítima(s)   \n",
       "4          NaN              NaN               NaN  Acidente com vítima(s)   \n",
       "\n",
       "            POP_DESCRICAO ORGAO_SIGLA                          ORGAO_NOME  \\\n",
       "0  Acidente com vítima(s)          PM                     Polícia Militar   \n",
       "1  Acidente com vítima(s)     CET-RIO  Companhia de Engenharia de Tráfego   \n",
       "2  Acidente com vítima(s)     CET-RIO  Companhia de Engenharia de Tráfego   \n",
       "3  Acidente com vítima(s)   BOMBEIROS                  Corpo de Bombeiros   \n",
       "4  Acidente com vítima(s)   BOMBEIROS                  Corpo de Bombeiros   \n",
       "\n",
       "                   ACAO  \n",
       "0  Registrar o acidente  \n",
       "1   Desfazer o acidente  \n",
       "2  Organizar o trânsito  \n",
       "3       Prevenir perigo  \n",
       "4     Atender vítima(s)  "
      ]
     },
     "execution_count": 52,
     "metadata": {},
     "output_type": "execute_result"
    }
   ],
   "source": [
    "comando.head()"
   ]
  },
  {
   "cell_type": "markdown",
   "metadata": {},
   "source": [
    "# Funções"
   ]
  },
  {
   "cell_type": "code",
   "execution_count": 58,
   "metadata": {},
   "outputs": [],
   "source": [
    "def remover_acentos(string):\n",
    "\n",
    "    item = string.lower()\n",
    "    for a, b in zip(['á', 'é', 'í', 'ó', 'ú'], ['a', 'e', 'i', 'o', 'u']):\n",
    "        item = item.replace(a, b)\n",
    "    \n",
    "    return item"
   ]
  },
  {
   "cell_type": "code",
   "execution_count": 271,
   "metadata": {},
   "outputs": [],
   "source": [
    "def find_in_col(col, word_list, avoid):\n",
    "\n",
    "    word_dict = {word:{'Contagem':0, 'Items':[], 'Index':[], 'Palavras':[]} for word in word_list}\n",
    "    for word in word_list:\n",
    "\n",
    "        for index, item in zip(col.index, col):\n",
    "            if type(item)==float: continue\n",
    "            new_item = remover_acentos(item)\n",
    "\n",
    "            if word in new_item:\n",
    "                \n",
    "                if sum([avoid_word in new_item for avoid_word in avoid])==0:\n",
    "\n",
    "                    word_dict[word]['Contagem']+=1\n",
    "                    word_dict[word]['Items'].append(new_item)     \n",
    "                    word_dict[word]['Index'].append(index)\n",
    "\n",
    "                    word_lst = new_item.split()\n",
    "                    for palavra in word_lst:\n",
    "                        if word in palavra:\n",
    "                            word_dict[word]['Palavras'].append(palavra)\n",
    "\n",
    "    return word_dict\n",
    "    "
   ]
  },
  {
   "cell_type": "code",
   "execution_count": 491,
   "metadata": {},
   "outputs": [],
   "source": [
    "def format_col(col):\n",
    "    \n",
    "    for item, index in zip(col, col.index):\n",
    "        \n",
    "        lst = item.split(' ')\n",
    "            \n",
    "        if len(lst[0])>=3:\n",
    "            if lst[0][2]=='h':\n",
    "                new_item = ' '.join(lst[2:]); col[index]=new_item; continue\n",
    "            \n",
    "        if lst[-1][-1]==')':\n",
    "            \n",
    "            lst = item.split(' ')\n",
    "            ind='a'\n",
    "            for word in reversed(lst):\n",
    "                \n",
    "                if word[0]=='(':\n",
    "                    ind = lst.index(word)\n",
    "                    break\n",
    "                    \n",
    "            if ind!='a':\n",
    "                new_item = ' '.join(lst[:ind])\n",
    "                col[index]=new_item\n",
    "      \n",
    "    return new_col"
   ]
  },
  {
   "cell_type": "code",
   "execution_count": 494,
   "metadata": {},
   "outputs": [],
   "source": [
    "def col_to_date(col):\n",
    "    new_col = []\n",
    "    cnt=0\n",
    "    for item in col:\n",
    "        cnt+=1\n",
    "        clear_output(wait=True); print(f'{cnt}/{len(col)}')\n",
    "        date = item.split(' ')[0].replace('-', '/').split('/');# date[0]=date[0][2:]\n",
    "        date = '/'.join([date[i] for i in [1,0]])\n",
    "        new_col.append(datetime.strptime(date, '%m/%Y').date())\n",
    "    \n",
    "    return pd.Series(new_col, index = col.index)"
   ]
  },
  {
   "cell_type": "markdown",
   "metadata": {},
   "source": [
    "# Configurações"
   ]
  },
  {
   "cell_type": "markdown",
   "metadata": {},
   "source": [
    "MT - moto\n",
    "VP - veiculo de passeio\n",
    "ON - onibus\n",
    "CM - caminhao\n",
    "UT - utilitario\n",
    "AC - acidente"
   ]
  },
  {
   "cell_type": "code",
   "execution_count": 604,
   "metadata": {},
   "outputs": [],
   "source": [
    "word_list = buscas = ['mt', 'moto', 'motoboy', 'entregador', 'entrega', 'ifood',\n",
    "                      'delivery', 'motocicleta', 'bicicleta',\n",
    "                      'bike', 'ciclista']\n",
    "\n",
    "comando_cols = ['EVENTO_TITULO', 'EVENTO_DESCRICAO', 'POP_TITULO', 'POP_DESCRICAO', 'ACAO']\n",
    "\n",
    "out = ['(motoristas', 'http://sgtu.rio.rj.gov.br/mototaxiagendar/index',\n",
    "       'motor', 'motorista', 'motorista!', 'motorista,', 'motorista.',\n",
    "       'motoristas', 'motoristas!', 'motoristas,', 'motoristas.', 'motoristas:']\n",
    "\n",
    "out_mt = ['almte', 'almte.', 'cmte', 'cmte.', 'comte',\n",
    "          'mt.ocupando', 'mte.', 'mtxon', 'samto', 'semt.',\n",
    "          'smtr', 'vpxmt', 'xmt']"
   ]
  },
  {
   "cell_type": "markdown",
   "metadata": {},
   "source": [
    "# Contagem ALERTA"
   ]
  },
  {
   "cell_type": "code",
   "execution_count": 605,
   "metadata": {},
   "outputs": [],
   "source": [
    "alertas_dict = find_in_col(alertas['Mensagem'], buscas, avoid=out+out_mt)\n",
    "alertas_msg = pd.Series([alertas_dict[word]['Contagem']/len(alertas)*100 for word in word_list], index=word_list)"
   ]
  },
  {
   "cell_type": "code",
   "execution_count": 606,
   "metadata": {},
   "outputs": [
    {
     "data": {
      "image/png": "[encoded data removed]",
      "text/plain": [
       "<Figure size 288x216 with 1 Axes>"
      ]
     },
     "metadata": {
      "needs_background": "light"
     },
     "output_type": "display_data"
    }
   ],
   "source": [
    "fig = plt.figure(figsize=(4,3)); ax = fig.add_subplot(111)\n",
    "\n",
    "ax.barh(alertas_msg.sort_values(ascending=True).index,\n",
    "        alertas_msg.sort_values(ascending=True),\n",
    "        color='darkblue')\n",
    "\n",
    "ax.set(title='Alertas App COR.Rio por Palavra Chave.',\n",
    "       xlabel='Registros entre 01-2020 e 10-2021 (%)',\n",
    "       ylabel='Palavra chave')\n",
    "\n",
    "plt.grid(axis='x')\n",
    "\n",
    "fig.tight_layout(); plt.show(); fig.savefig('Charts/Alertas por Palavra Chave.png', tight_layout=True)"
   ]
  },
  {
   "cell_type": "code",
   "execution_count": 607,
   "metadata": {},
   "outputs": [],
   "source": [
    "motos, bic, cic = [alertas.loc[alertas_dict[word]['Index']] for word in ['moto', 'bicicleta', 'ciclista']]\n",
    "\n",
    "moto = pd.concat([motos, bic, cic], 0).drop_duplicates()"
   ]
  },
  {
   "cell_type": "code",
   "execution_count": 608,
   "metadata": {},
   "outputs": [
    {
     "data": {
      "image/png": "[encoded data removed]",
      "text/plain": [
       "<Figure size 432x216 with 1 Axes>"
      ]
     },
     "metadata": {
      "needs_background": "light"
     },
     "output_type": "display_data"
    }
   ],
   "source": [
    "fig = plt.figure(figsize=(6,3)); ax = fig.add_subplot(111)\n",
    "\n",
    "motos['Titulo'].value_counts(ascending=True).tail(10).plot.barh(ax=ax, color='darkblue')\n",
    "\n",
    "ax.set(title='Alertas App COR.Rio Contendo\\n\"moto\", \"ciclista\" ou \"bicicleta\", por Título.',\n",
    "       xlabel='Registros entre 01-2020 e 10-2021',\n",
    "       ylabel='Título do Alerta')\n",
    "\n",
    "plt.grid(axis='x')\n",
    "\n",
    "fig.tight_layout(); plt.show(); fig.savefig('Charts/Alertas por Título.png', tight_layout=True)"
   ]
  },
  {
   "cell_type": "code",
   "execution_count": 609,
   "metadata": {},
   "outputs": [
    {
     "name": "stdout",
     "output_type": "stream",
     "text": [
      "239/239\n"
     ]
    }
   ],
   "source": [
    "date = col_to_date(moto['Data'])"
   ]
  },
  {
   "cell_type": "code",
   "execution_count": 610,
   "metadata": {},
   "outputs": [],
   "source": [
    "date_df = pd.concat([moto['Titulo'], date], 1)"
   ]
  },
  {
   "cell_type": "code",
   "execution_count": 611,
   "metadata": {},
   "outputs": [],
   "source": [
    "date_cnt = date_df.groupby(0).count()\n",
    "y_values = date_cnt['Titulo'].tolist()\n",
    "x_values = date_cnt.index.tolist()"
   ]
  },
  {
   "cell_type": "code",
   "execution_count": 612,
   "metadata": {},
   "outputs": [
    {
     "data": {
      "image/png": "[encoded data removed]",
      "text/plain": [
       "<Figure size 360x288 with 1 Axes>"
      ]
     },
     "metadata": {
      "needs_background": "light"
     },
     "output_type": "display_data"
    }
   ],
   "source": [
    "fig = plt.figure(figsize=(5,4)); ax = fig.add_subplot(111)\n",
    "\n",
    "ax.plot(x_values[1:], y_values[1:],color='orange')\n",
    "plt.xticks(rotation=90)\n",
    "\n",
    "ax.set(title='Alertas App COR.Rio Contendo \"moto\",\\n\"ciclista\" ou \"bicicleta\" por Mês.',\n",
    "       ylabel='Nº de Registros',\n",
    "       xlabel='Período')\n",
    "\n",
    "plt.grid(axis='y')\n",
    "\n",
    "fig.tight_layout(); plt.show(); fig.savefig('Charts/Alertas por Mês.png', tight_layout=True)\n"
   ]
  },
  {
   "cell_type": "code",
   "execution_count": 614,
   "metadata": {},
   "outputs": [
    {
     "data": {
      "text/html": [
       "<div>\n",
       "<style scoped>\n",
       "    .dataframe tbody tr th:only-of-type {\n",
       "        vertical-align: middle;\n",
       "    }\n",
       "\n",
       "    .dataframe tbody tr th {\n",
       "        vertical-align: top;\n",
       "    }\n",
       "\n",
       "    .dataframe thead th {\n",
       "        text-align: right;\n",
       "    }\n",
       "</style>\n",
       "<table border=\"1\" class=\"dataframe\">\n",
       "  <thead>\n",
       "    <tr style=\"text-align: right;\">\n",
       "      <th></th>\n",
       "      <th>Titulo</th>\n",
       "      <th>Mensagem</th>\n",
       "      <th>Data</th>\n",
       "    </tr>\n",
       "  </thead>\n",
       "  <tbody>\n",
       "    <tr>\n",
       "      <th>7</th>\n",
       "      <td>09h20 - ACIDENTE NA EST. DE JACAREPAGUÁ</td>\n",
       "      <td>5/12/2020 - 09h20 - devido a um acidente envol...</td>\n",
       "      <td>2020-12-05 15:315 de Dezembro de 2020 às 15:31</td>\n",
       "    </tr>\n",
       "    <tr>\n",
       "      <th>59</th>\n",
       "      <td>17h22 - ACIDENTE LINHA AMARELA</td>\n",
       "      <td>13/10/20 - 17h22 - Acidente envolvendo dois ca...</td>\n",
       "      <td>2020-10-13 17:3813 de Outubro de 2020 às 17:38</td>\n",
       "    </tr>\n",
       "    <tr>\n",
       "      <th>60</th>\n",
       "      <td>17h24 - ACIDENTE NA BARRA</td>\n",
       "      <td>9/4/2021 - 17h24 - Foram retirados todos os ve...</td>\n",
       "      <td>2021-04-09 20:179 de Abril de 2021 às 20:17</td>\n",
       "    </tr>\n",
       "    <tr>\n",
       "      <th>68</th>\n",
       "      <td>18h03 - LIBERADO ACIDENTE NA PONTE</td>\n",
       "      <td>7/4/2021 - 18h03 - A concessionária Ecoponte r...</td>\n",
       "      <td>2021-04-07 19:587 de Abril de 2021 às 19:58</td>\n",
       "    </tr>\n",
       "    <tr>\n",
       "      <th>74</th>\n",
       "      <td>18h38 - ACIDENTE NA LINHA VERMELHA</td>\n",
       "      <td>12/10/2020 - 18h38 - Acidente envolvendo carro...</td>\n",
       "      <td>2020-10-12 20:1012 de Outubro de 2020 às 20:10</td>\n",
       "    </tr>\n",
       "  </tbody>\n",
       "</table>\n",
       "</div>"
      ],
      "text/plain": [
       "                                     Titulo  \\\n",
       "7   09h20 - ACIDENTE NA EST. DE JACAREPAGUÁ   \n",
       "59           17h22 - ACIDENTE LINHA AMARELA   \n",
       "60                17h24 - ACIDENTE NA BARRA   \n",
       "68       18h03 - LIBERADO ACIDENTE NA PONTE   \n",
       "74       18h38 - ACIDENTE NA LINHA VERMELHA   \n",
       "\n",
       "                                             Mensagem  \\\n",
       "7   5/12/2020 - 09h20 - devido a um acidente envol...   \n",
       "59  13/10/20 - 17h22 - Acidente envolvendo dois ca...   \n",
       "60  9/4/2021 - 17h24 - Foram retirados todos os ve...   \n",
       "68  7/4/2021 - 18h03 - A concessionária Ecoponte r...   \n",
       "74  12/10/2020 - 18h38 - Acidente envolvendo carro...   \n",
       "\n",
       "                                              Data  \n",
       "7   2020-12-05 15:315 de Dezembro de 2020 às 15:31  \n",
       "59  2020-10-13 17:3813 de Outubro de 2020 às 17:38  \n",
       "60     2021-04-09 20:179 de Abril de 2021 às 20:17  \n",
       "68     2021-04-07 19:587 de Abril de 2021 às 19:58  \n",
       "74  2020-10-12 20:1012 de Outubro de 2020 às 20:10  "
      ]
     },
     "execution_count": 614,
     "metadata": {},
     "output_type": "execute_result"
    }
   ],
   "source": [
    "moto.head()"
   ]
  },
  {
   "cell_type": "markdown",
   "metadata": {},
   "source": [
    "# Contagem COMANDO"
   ]
  },
  {
   "cell_type": "code",
   "execution_count": 615,
   "metadata": {},
   "outputs": [
    {
     "name": "stdout",
     "output_type": "stream",
     "text": [
      "5/5\n"
     ]
    }
   ],
   "source": [
    "comando_dicts = {}; cnt=0\n",
    "for col in comando_cols:\n",
    "    cnt+=1\n",
    "    clear_output(wait=True); print(f'{cnt}/{len(comando_cols)}')\n",
    "    comando_dicts[col] = find_in_col(comando[col], buscas, avoid=out+out_mt)"
   ]
  },
  {
   "cell_type": "code",
   "execution_count": 616,
   "metadata": {},
   "outputs": [],
   "source": [
    "comando_contagens = {}\n",
    "for col in comando_cols:\n",
    "    comando_contagens[col] = pd.Series([comando_dicts[col][word]['Contagem']/len(comando)*100 for word in word_list], index=word_list)"
   ]
  },
  {
   "cell_type": "code",
   "execution_count": 666,
   "metadata": {},
   "outputs": [
    {
     "data": {
      "image/png": "[encoded data removed]",
      "text/plain": [
       "<Figure size 504x288 with 1 Axes>"
      ]
     },
     "metadata": {
      "needs_background": "light"
     },
     "output_type": "display_data"
    }
   ],
   "source": [
    "fig = plt.figure(figsize=(7,4))\n",
    "axs = fig.add_subplot(2,3,1)\n",
    "axs.barh(comando_contagens[comando_cols[0]].sort_values().index,\n",
    "         comando_contagens[comando_cols[0]].sort_values())\n",
    "axs.set(title=comando_cols[0])\n",
    "\n",
    "fig.tight_layout()"
   ]
  },
  {
   "cell_type": "code",
   "execution_count": 667,
   "metadata": {},
   "outputs": [
    {
     "data": {
      "image/png": "[encoded data removed]",
      "text/plain": [
       "<Figure size 504x288 with 1 Axes>"
      ]
     },
     "metadata": {
      "needs_background": "light"
     },
     "output_type": "display_data"
    }
   ],
   "source": [
    "fig = plt.figure(figsize=(7,4))\n",
    "axs = fig.add_subplot(2,3,1)\n",
    "axs.barh(comando_contagens[comando_cols[1]].sort_values().index,\n",
    "         comando_contagens[comando_cols[1]].sort_values())\n",
    "axs.set(title=comando_cols[1])\n",
    "\n",
    "fig.tight_layout()"
   ]
  },
  {
   "cell_type": "code",
   "execution_count": 623,
   "metadata": {},
   "outputs": [
    {
     "data": {
      "image/png": "[encoded data removed]",
      "text/plain": [
       "<Figure size 504x288 with 1 Axes>"
      ]
     },
     "metadata": {
      "needs_background": "light"
     },
     "output_type": "display_data"
    }
   ],
   "source": [
    "fig = plt.figure(figsize=(7,4))\n",
    "axs = fig.add_subplot(2,3,1)\n",
    "axs.barh(comando_contagens[comando_cols[0]].sort_values().index,\n",
    "         comando_contagens[comando_cols[0]].sort_values())\n",
    "axs.set(title=col)\n",
    "\n",
    "fig.tight_layout()"
   ]
  },
  {
   "cell_type": "markdown",
   "metadata": {},
   "source": [
    "# Extraindo Palavras para Evitar"
   ]
  },
  {
   "cell_type": "code",
   "execution_count": null,
   "metadata": {},
   "outputs": [],
   "source": [
    "out_index1 = []\n",
    "\n",
    "avoid1 = list(np.unique(alertas_dict['moto']['Palavras']))\n",
    "for word in avoid1[1:]:\n",
    "    \n",
    "    print(word); \n",
    "    inp = input()\n",
    "    if inp=='s': out_index1.append(avoid1.index(word));\n",
    "\n",
    "out1 = [avoid1[0]] + [avoid1[i] for i in out_index1]"
   ]
  },
  {
   "cell_type": "code",
   "execution_count": null,
   "metadata": {},
   "outputs": [],
   "source": [
    "out_index2 = []\n",
    "\n",
    "avoid2 = []\n",
    "for col in comando_dicts.keys():\n",
    "    avoid2+=comando_dicts[col]['moto']['Palavras']\n",
    "avoid2 = list(np.unique(avoid2))\n",
    "\n",
    "for word in avoid2:\n",
    "    \n",
    "    print(word); \n",
    "    inp = input()\n",
    "    if inp=='exit': break;\n",
    "    if inp=='s': out_index2.append(avoid2.index(word));\n",
    "\n",
    "out2 = [avoid2[i] for i in out_index2]"
   ]
  },
  {
   "cell_type": "code",
   "execution_count": 219,
   "metadata": {},
   "outputs": [],
   "source": [
    "out3 = list(np.unique(out1+out2))"
   ]
  },
  {
   "cell_type": "code",
   "execution_count": 624,
   "metadata": {},
   "outputs": [
    {
     "name": "stdout",
     "output_type": "stream",
     "text": [
      "['(motoristas', 'http://sgtu.rio.rj.gov.br/mototaxiagendar/index', 'motor', 'motorista', 'motorista!', 'motorista,', 'motorista.', 'motoristas', 'motoristas!', 'motoristas,', 'motoristas.', 'motoristas:']\n"
     ]
    }
   ],
   "source": [
    "print(out3)"
   ]
  },
  {
   "cell_type": "code",
   "execution_count": 599,
   "metadata": {},
   "outputs": [],
   "source": [
    "avoid_mt = []\n",
    "for col in comando_dicts.keys():\n",
    "    avoid_mt+=comando_dicts[col]['mt']['Palavras']\n",
    "avoid_mt = list(np.unique(avoid_mt))"
   ]
  },
  {
   "cell_type": "code",
   "execution_count": null,
   "metadata": {},
   "outputs": [],
   "source": [
    "out_index_mt = []\n",
    "for word in avoid_mt:\n",
    "    \n",
    "    print(word); \n",
    "    inp = input()\n",
    "    if inp=='exit': break;\n",
    "    if inp=='s': out_index_mt.append(avoid_mt.index(word));\n",
    "\n",
    "out_mt = [avoid_mt[i] for i in out_index_mt]"
   ]
  },
  {
   "cell_type": "code",
   "execution_count": 625,
   "metadata": {},
   "outputs": [
    {
     "name": "stdout",
     "output_type": "stream",
     "text": [
      "['almte', 'almte.', 'cmte', 'cmte.', 'comte', 'mt.ocupando', 'mte.', 'mtxon', 'samto', 'semt.', 'smtr', 'vpxmt', 'xmt']\n"
     ]
    }
   ],
   "source": [
    "print(out_mt)"
   ]
  },
  {
   "cell_type": "markdown",
   "metadata": {},
   "source": [
    "# Extraindo Palavras Incluídas"
   ]
  },
  {
   "cell_type": "code",
   "execution_count": 456,
   "metadata": {},
   "outputs": [],
   "source": [
    "avoid1 = list(np.unique(alertas_dict['moto']['Palavras']))\n",
    "\n",
    "avoid2 = []\n",
    "for col in comando_dicts.keys():\n",
    "    avoid2+=comando_dicts[col]['moto']['Palavras']\n",
    "avoid2 = list(np.unique(avoid2))"
   ]
  },
  {
   "cell_type": "code",
   "execution_count": 459,
   "metadata": {},
   "outputs": [],
   "source": [
    "avoid1_cic = list(np.unique(alertas_dict['ciclista']['Palavras']))\n",
    "\n",
    "avoid2_cic = []\n",
    "for col in comando_dicts.keys():\n",
    "    avoid2_cic+=comando_dicts[col]['ciclista']['Palavras']\n",
    "avoid2_cic = list(np.unique(avoid2_cic))"
   ]
  },
  {
   "cell_type": "code",
   "execution_count": 461,
   "metadata": {},
   "outputs": [
    {
     "name": "stdout",
     "output_type": "stream",
     "text": [
      "{'motociclistas.', 'motos', 'motos,', 'motociclista.', 'motociclista,', 'motociclista', 'moto,', 'moto.', 'motos.', 'moto', 'motociclistas'}\n"
     ]
    }
   ],
   "source": [
    "print(set(np.unique(avoid1)).difference(out))"
   ]
  },
  {
   "cell_type": "code",
   "execution_count": 462,
   "metadata": {},
   "outputs": [
    {
     "name": "stdout",
     "output_type": "stream",
     "text": [
      "{'motos', 'mototaxistas', 'motociclista.', 'motociata', 'motos)', 'motociclistica', '(mototaxistas)', 'motociclista', 'motociclistico', 'motos.', 'motociclistia.', 'motociclistas', 'motociclistas.', 'motos,', 'motocicleta', '(motocicleta', 'motociclista,', 'motoqueiros', 'moto,', 'moto.', '(motociata)', 'mototaxista', 'moto', 'motoboys', 'moto-taxistas'}\n"
     ]
    }
   ],
   "source": [
    "encontrado = set(np.unique(avoid1+avoid2)).difference(out); print(encontrado)"
   ]
  },
  {
   "cell_type": "code",
   "execution_count": 626,
   "metadata": {},
   "outputs": [
    {
     "name": "stdout",
     "output_type": "stream",
     "text": [
      "{'motociclistas.', 'ciclista', 'ciclista,', 'motociclista.', 'motociclista,', 'motociclista', 'motociclistas'}\n"
     ]
    }
   ],
   "source": [
    "print(set(np.unique(avoid1_cic)).difference(out))"
   ]
  },
  {
   "cell_type": "code",
   "execution_count": 464,
   "metadata": {},
   "outputs": [
    {
     "data": {
      "text/plain": [
       "{'ciclista', 'ciclistas', 'motociclista', 'motociclista.', 'motociclistas'}"
      ]
     },
     "execution_count": 464,
     "metadata": {},
     "output_type": "execute_result"
    }
   ],
   "source": [
    "set(np.unique(avoid2_cic)).difference(out)"
   ]
  },
  {
   "cell_type": "markdown",
   "metadata": {},
   "source": [
    "# Extraindo Registros do Sistema Comando Contendo 'mt'"
   ]
  },
  {
   "cell_type": "code",
   "execution_count": 631,
   "metadata": {},
   "outputs": [],
   "source": [
    "com_df = comando_moto = comando.loc[comando_dicts[comando_cols[0]]['mt']['Index']]"
   ]
  },
  {
   "cell_type": "code",
   "execution_count": 630,
   "metadata": {},
   "outputs": [
    {
     "name": "stdout",
     "output_type": "stream",
     "text": [
      "Registros da tabela comando contendo \"mt\": 22.05 %\n",
      "Registros da tabela de alertas contendo moto, bicicleta ou ciclista: 7.42 %\n"
     ]
    }
   ],
   "source": [
    "print('Registros da tabela comando contendo \"mt\":', round(len(comando_moto)/len(comando)*100, 2), '%')\n",
    "\n",
    "print('Registros da tabela de alertas contendo \"moto\", \"bicicleta\" ou \"ciclista\":', round(len(moto)/len(alertas)*100, 2), '%')"
   ]
  },
  {
   "cell_type": "markdown",
   "metadata": {},
   "source": [
    "# Análise Exploratória de Dados: Sitema Comando"
   ]
  },
  {
   "cell_type": "markdown",
   "metadata": {},
   "source": [
    "### Contagem de eventos envolvendo moto"
   ]
  },
  {
   "cell_type": "code",
   "execution_count": 653,
   "metadata": {},
   "outputs": [],
   "source": [
    "id_cnt = com_df.groupby('EVENTO_ID').count()[com_df.columns[1]]"
   ]
  },
  {
   "cell_type": "code",
   "execution_count": 656,
   "metadata": {},
   "outputs": [],
   "source": [
    "id_cnt_com = comando.groupby('EVENTO_ID').count()[com_df.columns[1]]"
   ]
  },
  {
   "cell_type": "code",
   "execution_count": 664,
   "metadata": {},
   "outputs": [
    {
     "name": "stdout",
     "output_type": "stream",
     "text": [
      "Nº de Eventos: 61162\n",
      "Nº de Eventos com Moto: 9873\n",
      "Porcentagem de Eventos com Moto: 16.14 %\n"
     ]
    }
   ],
   "source": [
    "print('Nº de Eventos:', len(id_cnt_com))\n",
    "print('Nº de Eventos com Moto:', len(id_cnt))\n",
    "print('Porcentagem de Eventos com Moto:', round(len(id_cnt)/len(id_cnt_com), 4)*100, '%')"
   ]
  },
  {
   "cell_type": "code",
   "execution_count": null,
   "metadata": {},
   "outputs": [],
   "source": [
    "com_df"
   ]
  },
  {
   "cell_type": "code",
   "execution_count": 682,
   "metadata": {},
   "outputs": [
    {
     "data": {
      "image/png": "[encoded data removed]",
      "text/plain": [
       "<Figure size 432x288 with 1 Axes>"
      ]
     },
     "metadata": {},
     "output_type": "display_data"
    }
   ],
   "source": [
    "fig = plt.figure()\n",
    "com_df.groupby('EVENTO_GRAVIDADE', as_index=True, sort=False).count().iloc[:2, 0].plot.pie()\n",
    "fig.tight_layout(); plt.show()"
   ]
  },
  {
   "cell_type": "code",
   "execution_count": 684,
   "metadata": {},
   "outputs": [
    {
     "data": {
      "image/png": "[encoded data removed]",
      "text/plain": [
       "<Figure size 432x288 with 1 Axes>"
      ]
     },
     "metadata": {},
     "output_type": "display_data"
    }
   ],
   "source": [
    "fig = plt.figure()\n",
    "com_df.groupby('EVENTO_PRAZO', as_index=True, sort=False).count().iloc[:2, 0].plot.pie()\n",
    "fig.tight_layout(); plt.show()"
   ]
  },
  {
   "cell_type": "code",
   "execution_count": 679,
   "metadata": {},
   "outputs": [
    {
     "data": {
      "text/html": [
       "<div>\n",
       "<style scoped>\n",
       "    .dataframe tbody tr th:only-of-type {\n",
       "        vertical-align: middle;\n",
       "    }\n",
       "\n",
       "    .dataframe tbody tr th {\n",
       "        vertical-align: top;\n",
       "    }\n",
       "\n",
       "    .dataframe thead th {\n",
       "        text-align: right;\n",
       "    }\n",
       "</style>\n",
       "<table border=\"1\" class=\"dataframe\">\n",
       "  <thead>\n",
       "    <tr style=\"text-align: right;\">\n",
       "      <th></th>\n",
       "      <th>EVENTO_ID</th>\n",
       "      <th>EVENTO_TITULO</th>\n",
       "      <th>EVENTO_DESCRICAO</th>\n",
       "      <th>EVENTO_GRAVIDADE</th>\n",
       "      <th>EVENTO_BAIRRO</th>\n",
       "      <th>STATUS</th>\n",
       "      <th>EVENTO_INICIO</th>\n",
       "      <th>EVENTO_FIM</th>\n",
       "      <th>EVENTO_PRAZO</th>\n",
       "      <th>EVENTO_LATITUDE</th>\n",
       "      <th>EVENTO_LONGITUDE</th>\n",
       "      <th>POP_TITULO</th>\n",
       "      <th>POP_DESCRICAO</th>\n",
       "      <th>ORGAO_SIGLA</th>\n",
       "      <th>ORGAO_NOME</th>\n",
       "      <th>ACAO</th>\n",
       "    </tr>\n",
       "  </thead>\n",
       "  <tbody>\n",
       "    <tr>\n",
       "      <th>0</th>\n",
       "      <td>2</td>\n",
       "      <td>Ac mt e tx, na LVermelha, sent Centro, altura ...</td>\n",
       "      <td>Ac mt e tx, na LVermelha, sent Centro, altura ...</td>\n",
       "      <td>BAIXO</td>\n",
       "      <td>NaN</td>\n",
       "      <td>FECHADO</td>\n",
       "      <td>2015-02-23 12:13:04</td>\n",
       "      <td>2015-02-23 14:18:52</td>\n",
       "      <td>NaN</td>\n",
       "      <td>NaN</td>\n",
       "      <td>NaN</td>\n",
       "      <td>Acidente com vítima(s)</td>\n",
       "      <td>Acidente com vítima(s)</td>\n",
       "      <td>PM</td>\n",
       "      <td>Polícia Militar</td>\n",
       "      <td>Registrar o acidente</td>\n",
       "    </tr>\n",
       "    <tr>\n",
       "      <th>1</th>\n",
       "      <td>2</td>\n",
       "      <td>Ac mt e tx, na LVermelha, sent Centro, altura ...</td>\n",
       "      <td>Ac mt e tx, na LVermelha, sent Centro, altura ...</td>\n",
       "      <td>BAIXO</td>\n",
       "      <td>NaN</td>\n",
       "      <td>FECHADO</td>\n",
       "      <td>2015-02-23 12:13:04</td>\n",
       "      <td>2015-02-23 14:18:52</td>\n",
       "      <td>NaN</td>\n",
       "      <td>NaN</td>\n",
       "      <td>NaN</td>\n",
       "      <td>Acidente com vítima(s)</td>\n",
       "      <td>Acidente com vítima(s)</td>\n",
       "      <td>CET-RIO</td>\n",
       "      <td>Companhia de Engenharia de Tráfego</td>\n",
       "      <td>Desfazer o acidente</td>\n",
       "    </tr>\n",
       "    <tr>\n",
       "      <th>2</th>\n",
       "      <td>2</td>\n",
       "      <td>Ac mt e tx, na LVermelha, sent Centro, altura ...</td>\n",
       "      <td>Ac mt e tx, na LVermelha, sent Centro, altura ...</td>\n",
       "      <td>BAIXO</td>\n",
       "      <td>NaN</td>\n",
       "      <td>FECHADO</td>\n",
       "      <td>2015-02-23 12:13:04</td>\n",
       "      <td>2015-02-23 14:18:52</td>\n",
       "      <td>NaN</td>\n",
       "      <td>NaN</td>\n",
       "      <td>NaN</td>\n",
       "      <td>Acidente com vítima(s)</td>\n",
       "      <td>Acidente com vítima(s)</td>\n",
       "      <td>CET-RIO</td>\n",
       "      <td>Companhia de Engenharia de Tráfego</td>\n",
       "      <td>Organizar o trânsito</td>\n",
       "    </tr>\n",
       "    <tr>\n",
       "      <th>3</th>\n",
       "      <td>2</td>\n",
       "      <td>Ac mt e tx, na LVermelha, sent Centro, altura ...</td>\n",
       "      <td>Ac mt e tx, na LVermelha, sent Centro, altura ...</td>\n",
       "      <td>BAIXO</td>\n",
       "      <td>NaN</td>\n",
       "      <td>FECHADO</td>\n",
       "      <td>2015-02-23 12:13:04</td>\n",
       "      <td>2015-02-23 14:18:52</td>\n",
       "      <td>NaN</td>\n",
       "      <td>NaN</td>\n",
       "      <td>NaN</td>\n",
       "      <td>Acidente com vítima(s)</td>\n",
       "      <td>Acidente com vítima(s)</td>\n",
       "      <td>BOMBEIROS</td>\n",
       "      <td>Corpo de Bombeiros</td>\n",
       "      <td>Prevenir perigo</td>\n",
       "    </tr>\n",
       "    <tr>\n",
       "      <th>4</th>\n",
       "      <td>2</td>\n",
       "      <td>Ac mt e tx, na LVermelha, sent Centro, altura ...</td>\n",
       "      <td>Ac mt e tx, na LVermelha, sent Centro, altura ...</td>\n",
       "      <td>BAIXO</td>\n",
       "      <td>NaN</td>\n",
       "      <td>FECHADO</td>\n",
       "      <td>2015-02-23 12:13:04</td>\n",
       "      <td>2015-02-23 14:18:52</td>\n",
       "      <td>NaN</td>\n",
       "      <td>NaN</td>\n",
       "      <td>NaN</td>\n",
       "      <td>Acidente com vítima(s)</td>\n",
       "      <td>Acidente com vítima(s)</td>\n",
       "      <td>BOMBEIROS</td>\n",
       "      <td>Corpo de Bombeiros</td>\n",
       "      <td>Atender vítima(s)</td>\n",
       "    </tr>\n",
       "    <tr>\n",
       "      <th>...</th>\n",
       "      <td>...</td>\n",
       "      <td>...</td>\n",
       "      <td>...</td>\n",
       "      <td>...</td>\n",
       "      <td>...</td>\n",
       "      <td>...</td>\n",
       "      <td>...</td>\n",
       "      <td>...</td>\n",
       "      <td>...</td>\n",
       "      <td>...</td>\n",
       "      <td>...</td>\n",
       "      <td>...</td>\n",
       "      <td>...</td>\n",
       "      <td>...</td>\n",
       "      <td>...</td>\n",
       "      <td>...</td>\n",
       "    </tr>\n",
       "    <tr>\n",
       "      <th>186647</th>\n",
       "      <td>66928</td>\n",
       "      <td>AC VP x MT</td>\n",
       "      <td>Linha Amarela - Alt. Saída 7 - Sent. Barra</td>\n",
       "      <td>BAIXO</td>\n",
       "      <td>Higienópolis</td>\n",
       "      <td>FECHADO</td>\n",
       "      <td>2021-10-15 09:27:24</td>\n",
       "      <td>2021-10-15 10:17:22</td>\n",
       "      <td>CURTO</td>\n",
       "      <td>-22.871246</td>\n",
       "      <td>-43.260446</td>\n",
       "      <td>Acidente com vítima(s)</td>\n",
       "      <td>Acidente com vítima(s)</td>\n",
       "      <td>BOMBEIROS</td>\n",
       "      <td>Corpo de Bombeiros</td>\n",
       "      <td>Prevenir perigo</td>\n",
       "    </tr>\n",
       "    <tr>\n",
       "      <th>186648</th>\n",
       "      <td>66928</td>\n",
       "      <td>AC VP x MT</td>\n",
       "      <td>Linha Amarela - Alt. Saída 7 - Sent. Barra</td>\n",
       "      <td>BAIXO</td>\n",
       "      <td>Higienópolis</td>\n",
       "      <td>FECHADO</td>\n",
       "      <td>2021-10-15 09:27:24</td>\n",
       "      <td>2021-10-15 10:17:22</td>\n",
       "      <td>CURTO</td>\n",
       "      <td>-22.871246</td>\n",
       "      <td>-43.260446</td>\n",
       "      <td>Acidente com vítima(s)</td>\n",
       "      <td>Acidente com vítima(s)</td>\n",
       "      <td>BOMBEIROS</td>\n",
       "      <td>Corpo de Bombeiros</td>\n",
       "      <td>Atender vítima(s)</td>\n",
       "    </tr>\n",
       "    <tr>\n",
       "      <th>186649</th>\n",
       "      <td>66928</td>\n",
       "      <td>AC VP x MT</td>\n",
       "      <td>Linha Amarela - Alt. Saída 7 - Sent. Barra</td>\n",
       "      <td>BAIXO</td>\n",
       "      <td>Higienópolis</td>\n",
       "      <td>FECHADO</td>\n",
       "      <td>2021-10-15 09:27:24</td>\n",
       "      <td>2021-10-15 10:17:22</td>\n",
       "      <td>CURTO</td>\n",
       "      <td>-22.871246</td>\n",
       "      <td>-43.260446</td>\n",
       "      <td>Acidente com vítima(s)</td>\n",
       "      <td>Acidente com vítima(s)</td>\n",
       "      <td>PortoNovo</td>\n",
       "      <td>Porto Novo S.A.</td>\n",
       "      <td>Desfazer o acidente</td>\n",
       "    </tr>\n",
       "    <tr>\n",
       "      <th>186650</th>\n",
       "      <td>66928</td>\n",
       "      <td>AC VP x MT</td>\n",
       "      <td>Linha Amarela - Alt. Saída 7 - Sent. Barra</td>\n",
       "      <td>BAIXO</td>\n",
       "      <td>Higienópolis</td>\n",
       "      <td>FECHADO</td>\n",
       "      <td>2021-10-15 09:27:24</td>\n",
       "      <td>2021-10-15 10:17:22</td>\n",
       "      <td>CURTO</td>\n",
       "      <td>-22.871246</td>\n",
       "      <td>-43.260446</td>\n",
       "      <td>Acidente com vítima(s)</td>\n",
       "      <td>Acidente com vítima(s)</td>\n",
       "      <td>PortoNovo</td>\n",
       "      <td>Porto Novo S.A.</td>\n",
       "      <td>Organizar o trânsito</td>\n",
       "    </tr>\n",
       "    <tr>\n",
       "      <th>186651</th>\n",
       "      <td>66928</td>\n",
       "      <td>AC VP x MT</td>\n",
       "      <td>Linha Amarela - Alt. Saída 7 - Sent. Barra</td>\n",
       "      <td>BAIXO</td>\n",
       "      <td>Higienópolis</td>\n",
       "      <td>FECHADO</td>\n",
       "      <td>2021-10-15 09:27:24</td>\n",
       "      <td>2021-10-15 10:17:22</td>\n",
       "      <td>CURTO</td>\n",
       "      <td>-22.871246</td>\n",
       "      <td>-43.260446</td>\n",
       "      <td>Acidente com vítima(s)</td>\n",
       "      <td>Acidente com vítima(s)</td>\n",
       "      <td>Policia Civil</td>\n",
       "      <td>Polícia Civil</td>\n",
       "      <td>Realizar perícia</td>\n",
       "    </tr>\n",
       "  </tbody>\n",
       "</table>\n",
       "<p>41155 rows × 16 columns</p>\n",
       "</div>"
      ],
      "text/plain": [
       "        EVENTO_ID                                      EVENTO_TITULO  \\\n",
       "0               2  Ac mt e tx, na LVermelha, sent Centro, altura ...   \n",
       "1               2  Ac mt e tx, na LVermelha, sent Centro, altura ...   \n",
       "2               2  Ac mt e tx, na LVermelha, sent Centro, altura ...   \n",
       "3               2  Ac mt e tx, na LVermelha, sent Centro, altura ...   \n",
       "4               2  Ac mt e tx, na LVermelha, sent Centro, altura ...   \n",
       "...           ...                                                ...   \n",
       "186647      66928                                         AC VP x MT   \n",
       "186648      66928                                         AC VP x MT   \n",
       "186649      66928                                         AC VP x MT   \n",
       "186650      66928                                         AC VP x MT   \n",
       "186651      66928                                         AC VP x MT   \n",
       "\n",
       "                                         EVENTO_DESCRICAO EVENTO_GRAVIDADE  \\\n",
       "0       Ac mt e tx, na LVermelha, sent Centro, altura ...            BAIXO   \n",
       "1       Ac mt e tx, na LVermelha, sent Centro, altura ...            BAIXO   \n",
       "2       Ac mt e tx, na LVermelha, sent Centro, altura ...            BAIXO   \n",
       "3       Ac mt e tx, na LVermelha, sent Centro, altura ...            BAIXO   \n",
       "4       Ac mt e tx, na LVermelha, sent Centro, altura ...            BAIXO   \n",
       "...                                                   ...              ...   \n",
       "186647         Linha Amarela - Alt. Saída 7 - Sent. Barra            BAIXO   \n",
       "186648         Linha Amarela - Alt. Saída 7 - Sent. Barra            BAIXO   \n",
       "186649         Linha Amarela - Alt. Saída 7 - Sent. Barra            BAIXO   \n",
       "186650         Linha Amarela - Alt. Saída 7 - Sent. Barra            BAIXO   \n",
       "186651         Linha Amarela - Alt. Saída 7 - Sent. Barra            BAIXO   \n",
       "\n",
       "       EVENTO_BAIRRO   STATUS        EVENTO_INICIO           EVENTO_FIM  \\\n",
       "0                NaN  FECHADO  2015-02-23 12:13:04  2015-02-23 14:18:52   \n",
       "1                NaN  FECHADO  2015-02-23 12:13:04  2015-02-23 14:18:52   \n",
       "2                NaN  FECHADO  2015-02-23 12:13:04  2015-02-23 14:18:52   \n",
       "3                NaN  FECHADO  2015-02-23 12:13:04  2015-02-23 14:18:52   \n",
       "4                NaN  FECHADO  2015-02-23 12:13:04  2015-02-23 14:18:52   \n",
       "...              ...      ...                  ...                  ...   \n",
       "186647  Higienópolis  FECHADO  2021-10-15 09:27:24  2021-10-15 10:17:22   \n",
       "186648  Higienópolis  FECHADO  2021-10-15 09:27:24  2021-10-15 10:17:22   \n",
       "186649  Higienópolis  FECHADO  2021-10-15 09:27:24  2021-10-15 10:17:22   \n",
       "186650  Higienópolis  FECHADO  2021-10-15 09:27:24  2021-10-15 10:17:22   \n",
       "186651  Higienópolis  FECHADO  2021-10-15 09:27:24  2021-10-15 10:17:22   \n",
       "\n",
       "       EVENTO_PRAZO  EVENTO_LATITUDE  EVENTO_LONGITUDE  \\\n",
       "0               NaN              NaN               NaN   \n",
       "1               NaN              NaN               NaN   \n",
       "2               NaN              NaN               NaN   \n",
       "3               NaN              NaN               NaN   \n",
       "4               NaN              NaN               NaN   \n",
       "...             ...              ...               ...   \n",
       "186647        CURTO       -22.871246        -43.260446   \n",
       "186648        CURTO       -22.871246        -43.260446   \n",
       "186649        CURTO       -22.871246        -43.260446   \n",
       "186650        CURTO       -22.871246        -43.260446   \n",
       "186651        CURTO       -22.871246        -43.260446   \n",
       "\n",
       "                    POP_TITULO           POP_DESCRICAO    ORGAO_SIGLA  \\\n",
       "0       Acidente com vítima(s)  Acidente com vítima(s)             PM   \n",
       "1       Acidente com vítima(s)  Acidente com vítima(s)        CET-RIO   \n",
       "2       Acidente com vítima(s)  Acidente com vítima(s)        CET-RIO   \n",
       "3       Acidente com vítima(s)  Acidente com vítima(s)      BOMBEIROS   \n",
       "4       Acidente com vítima(s)  Acidente com vítima(s)      BOMBEIROS   \n",
       "...                        ...                     ...            ...   \n",
       "186647  Acidente com vítima(s)  Acidente com vítima(s)      BOMBEIROS   \n",
       "186648  Acidente com vítima(s)  Acidente com vítima(s)      BOMBEIROS   \n",
       "186649  Acidente com vítima(s)  Acidente com vítima(s)      PortoNovo   \n",
       "186650  Acidente com vítima(s)  Acidente com vítima(s)      PortoNovo   \n",
       "186651  Acidente com vítima(s)  Acidente com vítima(s)  Policia Civil   \n",
       "\n",
       "                                ORGAO_NOME                  ACAO  \n",
       "0                          Polícia Militar  Registrar o acidente  \n",
       "1       Companhia de Engenharia de Tráfego   Desfazer o acidente  \n",
       "2       Companhia de Engenharia de Tráfego  Organizar o trânsito  \n",
       "3                       Corpo de Bombeiros       Prevenir perigo  \n",
       "4                       Corpo de Bombeiros     Atender vítima(s)  \n",
       "...                                    ...                   ...  \n",
       "186647                  Corpo de Bombeiros       Prevenir perigo  \n",
       "186648                  Corpo de Bombeiros     Atender vítima(s)  \n",
       "186649                     Porto Novo S.A.   Desfazer o acidente  \n",
       "186650                     Porto Novo S.A.  Organizar o trânsito  \n",
       "186651                       Polícia Civil      Realizar perícia  \n",
       "\n",
       "[41155 rows x 16 columns]"
      ]
     },
     "execution_count": 679,
     "metadata": {},
     "output_type": "execute_result"
    }
   ],
   "source": [
    "com_df"
   ]
  },
  {
   "cell_type": "code",
   "execution_count": null,
   "metadata": {},
   "outputs": [],
   "source": []
  }
 ],
 "metadata": {
  "kernelspec": {
   "display_name": "Python 3",
   "language": "python",
   "name": "python3"
  },
  "language_info": {
   "codemirror_mode": {
    "name": "ipython",
    "version": 3
   },
   "file_extension": ".py",
   "mimetype": "text/x-python",
   "name": "python",
   "nbconvert_exporter": "python",
   "pygments_lexer": "ipython3",
   "version": "3.8.3"
  }
 },
 "nbformat": 4,
 "nbformat_minor": 4
}
