{
 "cells": [
  {
   "cell_type": "markdown",
   "metadata": {},
   "source": [
    "# Waze Partner Feed Data Analysis"
   ]
  },
  {
   "cell_type": "markdown",
   "metadata": {},
   "source": [
    "**Link**: https://www.waze.com/partnerhub/\n",
    "\n",
    "#### Waze partner user data:\n",
    "\n",
    "* User: luisresende@id.uff.br\n",
    "* Password: octa13\n",
    "* token: DBL0XHWBRYP31I5F"
   ]
  },
  {
   "cell_type": "markdown",
   "metadata": {},
   "source": [
    "#### Flood databases (Bases de dados de alagamento)\n",
    "1. https://docs.google.com/document/d/199HegnqjD61N-vFcFRgXXH5TqySaJIrRT0E7Phr3Rys/edit#heading=h.ino7uuzi9no9"
   ]
  },
  {
   "cell_type": "markdown",
   "metadata": {},
   "source": [
    "#### Additional data sources\n",
    "1. API:\n",
    "    1. https://il-georss.waze.com/rtserver/web/TGeoRSS?tk=ccp_partner&format=JSON&types=traffic,alerts,irregularities&polygon=\n",
    "1. Waze Partner:\n",
    "    1. 'https://www.waze.com/partnerhub-api/waze-feed-access-token/c37c11ba-ff9d-4ad5-8ecc-4e4f12e91efb?format=1'\n",
    "1. Bigquery path:\n",
    "    1. waze-public-dataset.partner_EscritriodeDadosdoRiodeJaneiro.view_alerts_clustered"
   ]
  },
  {
   "cell_type": "code",
   "execution_count": null,
   "metadata": {},
   "outputs": [],
   "source": [
    "waze api:\n",
    "    - 'https://il-georss.waze.com/rtserver/web/TGeoRSS?tk=ccp_partner&format=JSON&types=traffic,alerts,irregularities&polygon='\n",
    "    - 'https://www.waze.com/partnerhub-api/waze-feed-access-token/c37c11ba-ff9d-4ad5-8ecc-4e4f12e91efb?format=1'\n",
    "\n",
    "waze histórico:\n",
    "    bigquery path: 'waze-public-dataset.partner_EscritriodeDadosdoRiodeJaneiro.view_alerts_clustered'\n",
    "\n",
    "stations and satelite dababases document:\n",
    "    - 'https://docs.google.com/document/d/199HegnqjD61N-vFcFRgXXH5TqySaJIrRT0E7Phr3Rys/edit#heading=h.ino7uuzi9no9'\n",
    "    \n",
    "    "
   ]
  },
  {
   "cell_type": "code",
   "execution_count": null,
   "metadata": {},
   "outputs": [],
   "source": [
    "{\n",
    "  \"type\": \"Feature\",\n",
    "  \"geometry\": {\n",
    "    \"type\": \"Point\",\n",
    "    \"coordinates\": [125.6, 10.1]\n",
    "  },\n",
    "  \"properties\": {\n",
    "    \"name\": \"Dinagat Islands\"\n",
    "  }\n",
    "}"
   ]
  },
  {
   "cell_type": "markdown",
   "metadata": {},
   "source": [
    "---\n",
    "### import modules"
   ]
  },
  {
   "cell_type": "code",
   "execution_count": 2,
   "metadata": {},
   "outputs": [
    {
     "name": "stderr",
     "output_type": "stream",
     "text": [
      "C:\\Users\\luisr\\AppData\\Roaming\\Python\\Python38\\site-packages\\pandas\\core\\computation\\expressions.py:21: UserWarning: Pandas requires version '2.7.3' or newer of 'numexpr' (version '2.7.1' currently installed).\n",
      "  from pandas.core.computation.check import NUMEXPR_INSTALLED\n"
     ]
    }
   ],
   "source": [
    "import requests, json, os\n",
    "import pandas as pd, numpy as np, matplotlib.pyplot as plt, seaborn as sns; sns.set()\n",
    "from datetime import datetime"
   ]
  },
  {
   "cell_type": "markdown",
   "metadata": {},
   "source": [
    "### Waze partner feed request function"
   ]
  },
  {
   "cell_type": "code",
   "execution_count": 3,
   "metadata": {},
   "outputs": [],
   "source": [
    "waze_url = 'https://www.waze.com/partnerhub-api/waze-feed-access-token/c37c11ba-ff9d-4ad5-8ecc-4e4f12e91efb?format=1'\n",
    "\n",
    "def get_waze_partner_alerts(alert_type='alerts'):\n",
    "    \"alert_type: one of 'alerts', 'irregularities', 'jams'\"\n",
    "    incidents = requests.get(waze_url).json()\n",
    "#     if alert_type not in incidents.keys(): # Error handling - provisional\n",
    "#         return None\n",
    "    df = pd.DataFrame(incidents[alert_type])\n",
    "    # Data cleaning & preprocessing\n",
    "    if 'pubMillis' in df.columns:\n",
    "        df['pubMillis'] = (df['pubMillis'] / 1000).map(datetime.fromtimestamp)\n",
    "        df.sort_values('pubMillis', ascending=False, inplace=True)\n",
    "        df.reset_index(drop=True, inplace=True)\n",
    "    return df"
   ]
  },
  {
   "cell_type": "code",
   "execution_count": 18,
   "metadata": {},
   "outputs": [],
   "source": [
    "waze_url = 'https://www.waze.com/partnerhub-api/waze-feed-access-token/c37c11ba-ff9d-4ad5-8ecc-4e4f12e91efb?format=1'\n",
    "\n",
    "def get_waze_partner_alerts(alert_type='alerts'):\n",
    "    \"alert_type: one of 'alerts', 'irregularities', 'jams'\"\n",
    "    incidents = requests.get(waze_url).json()\n",
    "    if alert_type not in incidents.keys():\n",
    "        return None\n",
    "    df = pd.DataFrame(incidents[alert_type])\n",
    "    # Data cleaning & preprocessing\n",
    "    if 'location' in df.columns:\n",
    "        df[['latitude', 'longitude']] = list(df['location'].map(lambda coords: [coords['x'], coords['y']]))\n",
    "        df.drop('location', axis=1, inplace=True)\n",
    "    if 'pubMillis' in df.columns:\n",
    "        df['pubMillis'] = (df['pubMillis'] / 1000).map(datetime.fromtimestamp)\n",
    "        df.sort_values('pubMillis', ascending=False, inplace=True)\n",
    "        df.reset_index(drop=True, inplace=True)\n",
    "    return df"
   ]
  },
  {
   "cell_type": "markdown",
   "metadata": {},
   "source": [
    "### Live feed alerts"
   ]
  },
  {
   "cell_type": "code",
   "execution_count": 32,
   "metadata": {},
   "outputs": [
    {
     "data": {
      "text/html": [
       "<div>\n",
       "<style scoped>\n",
       "    .dataframe tbody tr th:only-of-type {\n",
       "        vertical-align: middle;\n",
       "    }\n",
       "\n",
       "    .dataframe tbody tr th {\n",
       "        vertical-align: top;\n",
       "    }\n",
       "\n",
       "    .dataframe thead th {\n",
       "        text-align: right;\n",
       "    }\n",
       "</style>\n",
       "<table border=\"1\" class=\"dataframe\">\n",
       "  <thead>\n",
       "    <tr style=\"text-align: right;\">\n",
       "      <th></th>\n",
       "      <th>country</th>\n",
       "      <th>roadType</th>\n",
       "      <th>magvar</th>\n",
       "      <th>subtype</th>\n",
       "      <th>city</th>\n",
       "      <th>reportRating</th>\n",
       "      <th>confidence</th>\n",
       "      <th>reliability</th>\n",
       "      <th>type</th>\n",
       "      <th>uuid</th>\n",
       "      <th>pubMillis</th>\n",
       "      <th>street</th>\n",
       "      <th>nThumbsUp</th>\n",
       "      <th>reportDescription</th>\n",
       "      <th>latitude</th>\n",
       "      <th>longitude</th>\n",
       "    </tr>\n",
       "  </thead>\n",
       "  <tbody>\n",
       "    <tr>\n",
       "      <th>0</th>\n",
       "      <td>BR</td>\n",
       "      <td>6.0</td>\n",
       "      <td>92</td>\n",
       "      <td>ACCIDENT_MAJOR</td>\n",
       "      <td>NaN</td>\n",
       "      <td>0</td>\n",
       "      <td>0</td>\n",
       "      <td>5</td>\n",
       "      <td>ACCIDENT</td>\n",
       "      <td>9030a2cf-262c-4e62-ac42-ed514d4248f0</td>\n",
       "      <td>2022-12-21 11:08:04</td>\n",
       "      <td>BR-116 N Rod. Pres. Dutra</td>\n",
       "      <td>NaN</td>\n",
       "      <td>NaN</td>\n",
       "      <td>-43.820247</td>\n",
       "      <td>-22.677969</td>\n",
       "    </tr>\n",
       "    <tr>\n",
       "      <th>1</th>\n",
       "      <td>BR</td>\n",
       "      <td>2.0</td>\n",
       "      <td>141</td>\n",
       "      <td>JAM_STAND_STILL_TRAFFIC</td>\n",
       "      <td>Rio de Janeiro</td>\n",
       "      <td>3</td>\n",
       "      <td>0</td>\n",
       "      <td>5</td>\n",
       "      <td>JAM</td>\n",
       "      <td>006568eb-2692-45ff-9d4f-828c37742991</td>\n",
       "      <td>2022-12-21 11:07:54</td>\n",
       "      <td>Av. Nazaré</td>\n",
       "      <td>NaN</td>\n",
       "      <td>NaN</td>\n",
       "      <td>-43.401522</td>\n",
       "      <td>-22.825862</td>\n",
       "    </tr>\n",
       "    <tr>\n",
       "      <th>2</th>\n",
       "      <td>BR</td>\n",
       "      <td>6.0</td>\n",
       "      <td>115</td>\n",
       "      <td>JAM_HEAVY_TRAFFIC</td>\n",
       "      <td>Nova Iguaçu</td>\n",
       "      <td>1</td>\n",
       "      <td>0</td>\n",
       "      <td>5</td>\n",
       "      <td>JAM</td>\n",
       "      <td>8b168909-ee70-40dd-9dc9-b5c8c56ab763</td>\n",
       "      <td>2022-12-21 11:07:53</td>\n",
       "      <td>BR-116 N Rod. Pres. Dutra</td>\n",
       "      <td>NaN</td>\n",
       "      <td>NaN</td>\n",
       "      <td>-43.454285</td>\n",
       "      <td>-22.741330</td>\n",
       "    </tr>\n",
       "    <tr>\n",
       "      <th>3</th>\n",
       "      <td>BR</td>\n",
       "      <td>1.0</td>\n",
       "      <td>135</td>\n",
       "      <td>JAM_STAND_STILL_TRAFFIC</td>\n",
       "      <td>Niterói</td>\n",
       "      <td>4</td>\n",
       "      <td>0</td>\n",
       "      <td>5</td>\n",
       "      <td>JAM</td>\n",
       "      <td>db8e48d6-d138-4507-93c8-57faade24b34</td>\n",
       "      <td>2022-12-21 11:07:53</td>\n",
       "      <td>R. Ator Paulo Gustavo</td>\n",
       "      <td>NaN</td>\n",
       "      <td>NaN</td>\n",
       "      <td>-43.113962</td>\n",
       "      <td>-22.903767</td>\n",
       "    </tr>\n",
       "    <tr>\n",
       "      <th>4</th>\n",
       "      <td>BR</td>\n",
       "      <td>2.0</td>\n",
       "      <td>49</td>\n",
       "      <td>JAM_MODERATE_TRAFFIC</td>\n",
       "      <td>Rio de Janeiro</td>\n",
       "      <td>3</td>\n",
       "      <td>0</td>\n",
       "      <td>5</td>\n",
       "      <td>JAM</td>\n",
       "      <td>df0b3281-4165-4742-8a5d-7fb4e2aac245</td>\n",
       "      <td>2022-12-21 11:07:51</td>\n",
       "      <td>Av. Borges de Medeiros</td>\n",
       "      <td>NaN</td>\n",
       "      <td>NaN</td>\n",
       "      <td>-43.215698</td>\n",
       "      <td>-22.965099</td>\n",
       "    </tr>\n",
       "  </tbody>\n",
       "</table>\n",
       "</div>"
      ],
      "text/plain": [
       "  country  roadType  magvar                  subtype            city  \\\n",
       "0      BR       6.0      92           ACCIDENT_MAJOR             NaN   \n",
       "1      BR       2.0     141  JAM_STAND_STILL_TRAFFIC  Rio de Janeiro   \n",
       "2      BR       6.0     115        JAM_HEAVY_TRAFFIC     Nova Iguaçu   \n",
       "3      BR       1.0     135  JAM_STAND_STILL_TRAFFIC         Niterói   \n",
       "4      BR       2.0      49     JAM_MODERATE_TRAFFIC  Rio de Janeiro   \n",
       "\n",
       "   reportRating  confidence  reliability      type  \\\n",
       "0             0           0            5  ACCIDENT   \n",
       "1             3           0            5       JAM   \n",
       "2             1           0            5       JAM   \n",
       "3             4           0            5       JAM   \n",
       "4             3           0            5       JAM   \n",
       "\n",
       "                                   uuid           pubMillis  \\\n",
       "0  9030a2cf-262c-4e62-ac42-ed514d4248f0 2022-12-21 11:08:04   \n",
       "1  006568eb-2692-45ff-9d4f-828c37742991 2022-12-21 11:07:54   \n",
       "2  8b168909-ee70-40dd-9dc9-b5c8c56ab763 2022-12-21 11:07:53   \n",
       "3  db8e48d6-d138-4507-93c8-57faade24b34 2022-12-21 11:07:53   \n",
       "4  df0b3281-4165-4742-8a5d-7fb4e2aac245 2022-12-21 11:07:51   \n",
       "\n",
       "                      street  nThumbsUp reportDescription   latitude  \\\n",
       "0  BR-116 N Rod. Pres. Dutra        NaN               NaN -43.820247   \n",
       "1                 Av. Nazaré        NaN               NaN -43.401522   \n",
       "2  BR-116 N Rod. Pres. Dutra        NaN               NaN -43.454285   \n",
       "3      R. Ator Paulo Gustavo        NaN               NaN -43.113962   \n",
       "4     Av. Borges de Medeiros        NaN               NaN -43.215698   \n",
       "\n",
       "   longitude  \n",
       "0 -22.677969  \n",
       "1 -22.825862  \n",
       "2 -22.741330  \n",
       "3 -22.903767  \n",
       "4 -22.965099  "
      ]
     },
     "execution_count": 32,
     "metadata": {},
     "output_type": "execute_result"
    }
   ],
   "source": [
    "alerts = get_waze_partner_alerts(alert_type='alerts')\n",
    "\n",
    "alerts.head()"
   ]
  },
  {
   "cell_type": "markdown",
   "metadata": {},
   "source": [
    "### Live Irregularities"
   ]
  },
  {
   "cell_type": "code",
   "execution_count": 40,
   "metadata": {},
   "outputs": [
    {
     "data": {
      "text/plain": [
       "Index(['country', 'nThumbsUp', 'updateDate', 'trend', 'city', 'line',\n",
       "       'detectionDateMillis', 'type', 'endNode', 'speed', 'seconds', 'street',\n",
       "       'jamLevel', 'id', 'nComments', 'highway', 'delaySeconds', 'severity',\n",
       "       'driversCount', 'alertsCount', 'length', 'updateDateMillis', 'nImages',\n",
       "       'alerts', 'detectionDate', 'regularSpeed', 'causeType', 'causeAlert',\n",
       "       'startNode'],\n",
       "      dtype='object')"
      ]
     },
     "execution_count": 40,
     "metadata": {},
     "output_type": "execute_result"
    }
   ],
   "source": [
    "irregularities.columns"
   ]
  },
  {
   "cell_type": "code",
   "execution_count": 20,
   "metadata": {},
   "outputs": [
    {
     "data": {
      "text/html": [
       "<div>\n",
       "<style scoped>\n",
       "    .dataframe tbody tr th:only-of-type {\n",
       "        vertical-align: middle;\n",
       "    }\n",
       "\n",
       "    .dataframe tbody tr th {\n",
       "        vertical-align: top;\n",
       "    }\n",
       "\n",
       "    .dataframe thead th {\n",
       "        text-align: right;\n",
       "    }\n",
       "</style>\n",
       "<table border=\"1\" class=\"dataframe\">\n",
       "  <thead>\n",
       "    <tr style=\"text-align: right;\">\n",
       "      <th></th>\n",
       "      <th>country</th>\n",
       "      <th>nThumbsUp</th>\n",
       "      <th>updateDate</th>\n",
       "      <th>trend</th>\n",
       "      <th>city</th>\n",
       "      <th>line</th>\n",
       "      <th>detectionDateMillis</th>\n",
       "      <th>type</th>\n",
       "      <th>endNode</th>\n",
       "      <th>speed</th>\n",
       "      <th>...</th>\n",
       "      <th>alertsCount</th>\n",
       "      <th>length</th>\n",
       "      <th>updateDateMillis</th>\n",
       "      <th>nImages</th>\n",
       "      <th>alerts</th>\n",
       "      <th>detectionDate</th>\n",
       "      <th>regularSpeed</th>\n",
       "      <th>causeType</th>\n",
       "      <th>causeAlert</th>\n",
       "      <th>startNode</th>\n",
       "    </tr>\n",
       "  </thead>\n",
       "  <tbody>\n",
       "    <tr>\n",
       "      <th>0</th>\n",
       "      <td>BR</td>\n",
       "      <td>0</td>\n",
       "      <td>Wed Dec 21 13:51:00 +0000 2022</td>\n",
       "      <td>-1</td>\n",
       "      <td>Nova Iguaçu</td>\n",
       "      <td>[{'x': -43.415757, 'y': -22.764941}, {'x': -43...</td>\n",
       "      <td>1671617975457</td>\n",
       "      <td>SMALL</td>\n",
       "      <td>BR-116 S Rod. Pres. Dutra</td>\n",
       "      <td>18.40</td>\n",
       "      <td>...</td>\n",
       "      <td>0</td>\n",
       "      <td>1589</td>\n",
       "      <td>1671630660982</td>\n",
       "      <td>0</td>\n",
       "      <td>[]</td>\n",
       "      <td>Wed Dec 21 10:19:35 +0000 2022</td>\n",
       "      <td>38.55</td>\n",
       "      <td>NaN</td>\n",
       "      <td>NaN</td>\n",
       "      <td>NaN</td>\n",
       "    </tr>\n",
       "    <tr>\n",
       "      <th>1</th>\n",
       "      <td>BR</td>\n",
       "      <td>0</td>\n",
       "      <td>Wed Dec 21 13:51:01 +0000 2022</td>\n",
       "      <td>-1</td>\n",
       "      <td>Rio de Janeiro</td>\n",
       "      <td>[{'x': -43.693302, 'y': -22.910285}, {'x': -43...</td>\n",
       "      <td>1671617903270</td>\n",
       "      <td>SMALL</td>\n",
       "      <td>R. do Prado</td>\n",
       "      <td>3.22</td>\n",
       "      <td>...</td>\n",
       "      <td>0</td>\n",
       "      <td>633</td>\n",
       "      <td>1671630661317</td>\n",
       "      <td>0</td>\n",
       "      <td>[]</td>\n",
       "      <td>Wed Dec 21 10:18:23 +0000 2022</td>\n",
       "      <td>8.90</td>\n",
       "      <td>NaN</td>\n",
       "      <td>NaN</td>\n",
       "      <td>NaN</td>\n",
       "    </tr>\n",
       "    <tr>\n",
       "      <th>2</th>\n",
       "      <td>BR</td>\n",
       "      <td>0</td>\n",
       "      <td>Wed Dec 21 13:51:02 +0000 2022</td>\n",
       "      <td>1</td>\n",
       "      <td>São João de Meriti</td>\n",
       "      <td>[{'x': -43.368733, 'y': -22.803765}, {'x': -43...</td>\n",
       "      <td>1671627282246</td>\n",
       "      <td>MEDIUM</td>\n",
       "      <td>R. Jaime Gomes</td>\n",
       "      <td>4.48</td>\n",
       "      <td>...</td>\n",
       "      <td>0</td>\n",
       "      <td>947</td>\n",
       "      <td>1671630662060</td>\n",
       "      <td>0</td>\n",
       "      <td>[]</td>\n",
       "      <td>Wed Dec 21 12:54:42 +0000 2022</td>\n",
       "      <td>19.23</td>\n",
       "      <td>NaN</td>\n",
       "      <td>NaN</td>\n",
       "      <td>NaN</td>\n",
       "    </tr>\n",
       "    <tr>\n",
       "      <th>3</th>\n",
       "      <td>BR</td>\n",
       "      <td>0</td>\n",
       "      <td>Wed Dec 21 13:51:01 +0000 2022</td>\n",
       "      <td>1</td>\n",
       "      <td>Rio de Janeiro</td>\n",
       "      <td>[{'x': -43.368427, 'y': -22.939927}, {'x': -43...</td>\n",
       "      <td>1671621700986</td>\n",
       "      <td>SMALL</td>\n",
       "      <td>R. Edgard Werneck</td>\n",
       "      <td>14.48</td>\n",
       "      <td>...</td>\n",
       "      <td>0</td>\n",
       "      <td>1189</td>\n",
       "      <td>1671630661036</td>\n",
       "      <td>0</td>\n",
       "      <td>[]</td>\n",
       "      <td>Wed Dec 21 11:21:40 +0000 2022</td>\n",
       "      <td>25.57</td>\n",
       "      <td>NaN</td>\n",
       "      <td>NaN</td>\n",
       "      <td>NaN</td>\n",
       "    </tr>\n",
       "    <tr>\n",
       "      <th>4</th>\n",
       "      <td>BR</td>\n",
       "      <td>0</td>\n",
       "      <td>Wed Dec 21 13:51:01 +0000 2022</td>\n",
       "      <td>0</td>\n",
       "      <td>Niterói</td>\n",
       "      <td>[{'x': -43.099356, 'y': -22.903236}, {'x': -43...</td>\n",
       "      <td>1671626567033</td>\n",
       "      <td>SMALL</td>\n",
       "      <td>R. Lemos Cunha</td>\n",
       "      <td>4.31</td>\n",
       "      <td>...</td>\n",
       "      <td>0</td>\n",
       "      <td>635</td>\n",
       "      <td>1671630661441</td>\n",
       "      <td>0</td>\n",
       "      <td>[]</td>\n",
       "      <td>Wed Dec 21 12:42:47 +0000 2022</td>\n",
       "      <td>10.92</td>\n",
       "      <td>NaN</td>\n",
       "      <td>NaN</td>\n",
       "      <td>NaN</td>\n",
       "    </tr>\n",
       "  </tbody>\n",
       "</table>\n",
       "<p>5 rows × 29 columns</p>\n",
       "</div>"
      ],
      "text/plain": [
       "  country  nThumbsUp                      updateDate  trend  \\\n",
       "0      BR          0  Wed Dec 21 13:51:00 +0000 2022     -1   \n",
       "1      BR          0  Wed Dec 21 13:51:01 +0000 2022     -1   \n",
       "2      BR          0  Wed Dec 21 13:51:02 +0000 2022      1   \n",
       "3      BR          0  Wed Dec 21 13:51:01 +0000 2022      1   \n",
       "4      BR          0  Wed Dec 21 13:51:01 +0000 2022      0   \n",
       "\n",
       "                 city                                               line  \\\n",
       "0         Nova Iguaçu  [{'x': -43.415757, 'y': -22.764941}, {'x': -43...   \n",
       "1      Rio de Janeiro  [{'x': -43.693302, 'y': -22.910285}, {'x': -43...   \n",
       "2  São João de Meriti  [{'x': -43.368733, 'y': -22.803765}, {'x': -43...   \n",
       "3      Rio de Janeiro  [{'x': -43.368427, 'y': -22.939927}, {'x': -43...   \n",
       "4             Niterói  [{'x': -43.099356, 'y': -22.903236}, {'x': -43...   \n",
       "\n",
       "   detectionDateMillis    type                    endNode  speed  ...  \\\n",
       "0        1671617975457   SMALL  BR-116 S Rod. Pres. Dutra  18.40  ...   \n",
       "1        1671617903270   SMALL                R. do Prado   3.22  ...   \n",
       "2        1671627282246  MEDIUM             R. Jaime Gomes   4.48  ...   \n",
       "3        1671621700986   SMALL          R. Edgard Werneck  14.48  ...   \n",
       "4        1671626567033   SMALL             R. Lemos Cunha   4.31  ...   \n",
       "\n",
       "   alertsCount length  updateDateMillis  nImages  alerts  \\\n",
       "0            0   1589     1671630660982        0      []   \n",
       "1            0    633     1671630661317        0      []   \n",
       "2            0    947     1671630662060        0      []   \n",
       "3            0   1189     1671630661036        0      []   \n",
       "4            0    635     1671630661441        0      []   \n",
       "\n",
       "                    detectionDate  regularSpeed  causeType  causeAlert  \\\n",
       "0  Wed Dec 21 10:19:35 +0000 2022         38.55        NaN         NaN   \n",
       "1  Wed Dec 21 10:18:23 +0000 2022          8.90        NaN         NaN   \n",
       "2  Wed Dec 21 12:54:42 +0000 2022         19.23        NaN         NaN   \n",
       "3  Wed Dec 21 11:21:40 +0000 2022         25.57        NaN         NaN   \n",
       "4  Wed Dec 21 12:42:47 +0000 2022         10.92        NaN         NaN   \n",
       "\n",
       "   startNode  \n",
       "0        NaN  \n",
       "1        NaN  \n",
       "2        NaN  \n",
       "3        NaN  \n",
       "4        NaN  \n",
       "\n",
       "[5 rows x 29 columns]"
      ]
     },
     "execution_count": 20,
     "metadata": {},
     "output_type": "execute_result"
    }
   ],
   "source": [
    "irregularities = get_waze_partner_alerts(alert_type='irregularities')\n",
    "\n",
    "irregularities.head()"
   ]
  },
  {
   "cell_type": "markdown",
   "metadata": {},
   "source": [
    "### Live feed jams (traffic)"
   ]
  },
  {
   "cell_type": "code",
   "execution_count": 21,
   "metadata": {},
   "outputs": [
    {
     "data": {
      "text/html": [
       "<div>\n",
       "<style scoped>\n",
       "    .dataframe tbody tr th:only-of-type {\n",
       "        vertical-align: middle;\n",
       "    }\n",
       "\n",
       "    .dataframe tbody tr th {\n",
       "        vertical-align: top;\n",
       "    }\n",
       "\n",
       "    .dataframe thead th {\n",
       "        text-align: right;\n",
       "    }\n",
       "</style>\n",
       "<table border=\"1\" class=\"dataframe\">\n",
       "  <thead>\n",
       "    <tr style=\"text-align: right;\">\n",
       "      <th></th>\n",
       "      <th>country</th>\n",
       "      <th>city</th>\n",
       "      <th>level</th>\n",
       "      <th>line</th>\n",
       "      <th>speedKMH</th>\n",
       "      <th>length</th>\n",
       "      <th>turnType</th>\n",
       "      <th>type</th>\n",
       "      <th>uuid</th>\n",
       "      <th>endNode</th>\n",
       "      <th>speed</th>\n",
       "      <th>segments</th>\n",
       "      <th>roadType</th>\n",
       "      <th>delay</th>\n",
       "      <th>street</th>\n",
       "      <th>pubMillis</th>\n",
       "      <th>blockingAlertUuid</th>\n",
       "      <th>startNode</th>\n",
       "    </tr>\n",
       "  </thead>\n",
       "  <tbody>\n",
       "    <tr>\n",
       "      <th>0</th>\n",
       "      <td>BR</td>\n",
       "      <td>Seropédica</td>\n",
       "      <td>3</td>\n",
       "      <td>[{'x': -43.732482, 'y': -22.71459}, {'x': -43....</td>\n",
       "      <td>5.14</td>\n",
       "      <td>187</td>\n",
       "      <td>NONE</td>\n",
       "      <td>NONE</td>\n",
       "      <td>602231306</td>\n",
       "      <td>BR-465 Rod. Luiz Henrique Rezende Novaes</td>\n",
       "      <td>1.427778</td>\n",
       "      <td>[{}]</td>\n",
       "      <td>6</td>\n",
       "      <td>73</td>\n",
       "      <td>Saída 208</td>\n",
       "      <td>2022-12-21 10:51:09.006</td>\n",
       "      <td>NaN</td>\n",
       "      <td>NaN</td>\n",
       "    </tr>\n",
       "    <tr>\n",
       "      <th>1</th>\n",
       "      <td>BR</td>\n",
       "      <td>Duque de Caxias</td>\n",
       "      <td>3</td>\n",
       "      <td>[{'x': -43.290693, 'y': -22.774042}, {'x': -43...</td>\n",
       "      <td>2.97</td>\n",
       "      <td>211</td>\n",
       "      <td>NONE</td>\n",
       "      <td>NONE</td>\n",
       "      <td>602229900</td>\n",
       "      <td>R. Prudente de Morais</td>\n",
       "      <td>0.825000</td>\n",
       "      <td>[{}]</td>\n",
       "      <td>1</td>\n",
       "      <td>185</td>\n",
       "      <td>R. 13 de Maio</td>\n",
       "      <td>2022-12-21 10:51:07.677</td>\n",
       "      <td>NaN</td>\n",
       "      <td>NaN</td>\n",
       "    </tr>\n",
       "    <tr>\n",
       "      <th>2</th>\n",
       "      <td>BR</td>\n",
       "      <td>Niterói</td>\n",
       "      <td>3</td>\n",
       "      <td>[{'x': -43.110702, 'y': -22.908837}, {'x': -43...</td>\n",
       "      <td>3.98</td>\n",
       "      <td>150</td>\n",
       "      <td>NONE</td>\n",
       "      <td>NONE</td>\n",
       "      <td>602220310</td>\n",
       "      <td>R. Ator Paulo Gustavo</td>\n",
       "      <td>1.105556</td>\n",
       "      <td>[{}]</td>\n",
       "      <td>1</td>\n",
       "      <td>97</td>\n",
       "      <td>R. Belisário Augusto</td>\n",
       "      <td>2022-12-21 10:51:07.486</td>\n",
       "      <td>NaN</td>\n",
       "      <td>NaN</td>\n",
       "    </tr>\n",
       "    <tr>\n",
       "      <th>3</th>\n",
       "      <td>BR</td>\n",
       "      <td>Rio de Janeiro</td>\n",
       "      <td>4</td>\n",
       "      <td>[{'x': -43.329833, 'y': -23.004865}, {'x': -43...</td>\n",
       "      <td>0.97</td>\n",
       "      <td>150</td>\n",
       "      <td>NONE</td>\n",
       "      <td>NONE</td>\n",
       "      <td>602228944</td>\n",
       "      <td>NaN</td>\n",
       "      <td>0.269444</td>\n",
       "      <td>[{}]</td>\n",
       "      <td>1</td>\n",
       "      <td>537</td>\n",
       "      <td>R. Mário Covas Jr.</td>\n",
       "      <td>2022-12-21 10:51:07.131</td>\n",
       "      <td>NaN</td>\n",
       "      <td>NaN</td>\n",
       "    </tr>\n",
       "    <tr>\n",
       "      <th>4</th>\n",
       "      <td>BR</td>\n",
       "      <td>Itambi (Itaboraí)</td>\n",
       "      <td>4</td>\n",
       "      <td>[{'x': -42.939955, 'y': -22.753989}, {'x': -42...</td>\n",
       "      <td>6.55</td>\n",
       "      <td>400</td>\n",
       "      <td>NONE</td>\n",
       "      <td>NONE</td>\n",
       "      <td>602234422</td>\n",
       "      <td>NaN</td>\n",
       "      <td>1.819444</td>\n",
       "      <td>[{}]</td>\n",
       "      <td>6</td>\n",
       "      <td>199</td>\n",
       "      <td>BR-493 Est. do Contorno</td>\n",
       "      <td>2022-12-21 10:51:06.957</td>\n",
       "      <td>NaN</td>\n",
       "      <td>NaN</td>\n",
       "    </tr>\n",
       "  </tbody>\n",
       "</table>\n",
       "</div>"
      ],
      "text/plain": [
       "  country               city  level  \\\n",
       "0      BR         Seropédica      3   \n",
       "1      BR    Duque de Caxias      3   \n",
       "2      BR            Niterói      3   \n",
       "3      BR     Rio de Janeiro      4   \n",
       "4      BR  Itambi (Itaboraí)      4   \n",
       "\n",
       "                                                line  speedKMH  length  \\\n",
       "0  [{'x': -43.732482, 'y': -22.71459}, {'x': -43....      5.14     187   \n",
       "1  [{'x': -43.290693, 'y': -22.774042}, {'x': -43...      2.97     211   \n",
       "2  [{'x': -43.110702, 'y': -22.908837}, {'x': -43...      3.98     150   \n",
       "3  [{'x': -43.329833, 'y': -23.004865}, {'x': -43...      0.97     150   \n",
       "4  [{'x': -42.939955, 'y': -22.753989}, {'x': -42...      6.55     400   \n",
       "\n",
       "  turnType  type       uuid                                   endNode  \\\n",
       "0     NONE  NONE  602231306  BR-465 Rod. Luiz Henrique Rezende Novaes   \n",
       "1     NONE  NONE  602229900                     R. Prudente de Morais   \n",
       "2     NONE  NONE  602220310                     R. Ator Paulo Gustavo   \n",
       "3     NONE  NONE  602228944                                       NaN   \n",
       "4     NONE  NONE  602234422                                       NaN   \n",
       "\n",
       "      speed segments  roadType  delay                   street  \\\n",
       "0  1.427778     [{}]         6     73                Saída 208   \n",
       "1  0.825000     [{}]         1    185            R. 13 de Maio   \n",
       "2  1.105556     [{}]         1     97     R. Belisário Augusto   \n",
       "3  0.269444     [{}]         1    537       R. Mário Covas Jr.   \n",
       "4  1.819444     [{}]         6    199  BR-493 Est. do Contorno   \n",
       "\n",
       "                pubMillis blockingAlertUuid startNode  \n",
       "0 2022-12-21 10:51:09.006               NaN       NaN  \n",
       "1 2022-12-21 10:51:07.677               NaN       NaN  \n",
       "2 2022-12-21 10:51:07.486               NaN       NaN  \n",
       "3 2022-12-21 10:51:07.131               NaN       NaN  \n",
       "4 2022-12-21 10:51:06.957               NaN       NaN  "
      ]
     },
     "execution_count": 21,
     "metadata": {},
     "output_type": "execute_result"
    }
   ],
   "source": [
    "jams = get_waze_partner_alerts(alert_type='jams')\n",
    "\n",
    "jams.head()"
   ]
  },
  {
   "cell_type": "markdown",
   "metadata": {},
   "source": [
    "---\n",
    "# Exploratory Data Analysis"
   ]
  },
  {
   "cell_type": "markdown",
   "metadata": {},
   "source": [
    "### Number of alerts"
   ]
  },
  {
   "cell_type": "code",
   "execution_count": 5,
   "metadata": {},
   "outputs": [
    {
     "data": {
      "text/plain": [
       "(352, 15)"
      ]
     },
     "execution_count": 5,
     "metadata": {},
     "output_type": "execute_result"
    }
   ],
   "source": [
    "alerts.shape"
   ]
  },
  {
   "cell_type": "markdown",
   "metadata": {},
   "source": [
    "### Date time range"
   ]
  },
  {
   "cell_type": "code",
   "execution_count": 6,
   "metadata": {},
   "outputs": [
    {
     "data": {
      "text/plain": [
       "(Timestamp('2022-01-04 08:51:09'), Timestamp('2022-11-13 00:41:43'))"
      ]
     },
     "execution_count": 6,
     "metadata": {},
     "output_type": "execute_result"
    }
   ],
   "source": [
    "alerts['pubMillis'].min(), alerts['pubMillis'].max()"
   ]
  },
  {
   "cell_type": "markdown",
   "metadata": {},
   "source": [
    "### Alert types"
   ]
  },
  {
   "cell_type": "code",
   "execution_count": 7,
   "metadata": {},
   "outputs": [
    {
     "data": {
      "text/plain": [
       "WEATHERHAZARD    277\n",
       "ROAD_CLOSED       57\n",
       "JAM               15\n",
       "ACCIDENT           3\n",
       "Name: type, dtype: int64"
      ]
     },
     "metadata": {},
     "output_type": "display_data"
    },
    {
     "data": {
      "image/png": "[encoded data removed]",
      "text/plain": [
       "<Figure size 432x288 with 1 Axes>"
      ]
     },
     "metadata": {},
     "output_type": "display_data"
    }
   ],
   "source": [
    "display(alerts['type'].value_counts())\n",
    "ax = alerts['type'].value_counts().plot.bar()"
   ]
  },
  {
   "cell_type": "markdown",
   "metadata": {},
   "source": [
    "### Alert Subtypes"
   ]
  },
  {
   "cell_type": "code",
   "execution_count": 8,
   "metadata": {},
   "outputs": [
    {
     "data": {
      "text/plain": [
       "HAZARD_ON_ROAD_POT_HOLE               212\n",
       "ROAD_CLOSED_EVENT                      54\n",
       "HAZARD_ON_SHOULDER                     23\n",
       "HAZARD_ON_ROAD_CAR_STOPPED             16\n",
       "HAZARD_ON_ROAD_CONSTRUCTION            12\n",
       "                                        8\n",
       "HAZARD_ON_SHOULDER_CAR_STOPPED          6\n",
       "JAM_STAND_STILL_TRAFFIC                 6\n",
       "JAM_HEAVY_TRAFFIC                       5\n",
       "ROAD_CLOSED_CONSTRUCTION                3\n",
       "HAZARD_ON_SHOULDER_MISSING_SIGN         3\n",
       "HAZARD_ON_ROAD_OBJECT                   2\n",
       "HAZARD_ON_ROAD_TRAFFIC_LIGHT_FAULT      1\n",
       "ACCIDENT_MINOR                          1\n",
       "Name: subtype, dtype: int64"
      ]
     },
     "metadata": {},
     "output_type": "display_data"
    },
    {
     "data": {
      "image/png": "[encoded data removed]",
      "text/plain": [
       "<Figure size 432x288 with 1 Axes>"
      ]
     },
     "metadata": {},
     "output_type": "display_data"
    }
   ],
   "source": [
    "display(alerts['subtype'].value_counts())\n",
    "ax = alerts['subtype'].value_counts().plot.bar()"
   ]
  }
 ],
 "metadata": {
  "kernelspec": {
   "display_name": "Python 3",
   "language": "python",
   "name": "python3"
  },
  "language_info": {
   "codemirror_mode": {
    "name": "ipython",
    "version": 3
   },
   "file_extension": ".py",
   "mimetype": "text/x-python",
   "name": "python",
   "nbconvert_exporter": "python",
   "pygments_lexer": "ipython3",
   "version": "3.8.3"
  }
 },
 "nbformat": 4,
 "nbformat_minor": 4
}
