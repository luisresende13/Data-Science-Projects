{
 "cells": [
  {
   "cell_type": "code",
   "execution_count": 1,
   "metadata": {},
   "outputs": [],
   "source": [
    "import numpy as np"
   ]
  },
  {
   "cell_type": "markdown",
   "metadata": {},
   "source": [
    "# Formulário"
   ]
  },
  {
   "cell_type": "markdown",
   "metadata": {},
   "source": [
    "### Gama, Cv, Cp"
   ]
  },
  {
   "cell_type": "code",
   "execution_count": 70,
   "metadata": {},
   "outputs": [],
   "source": [
    "gama1 = 1.67; gama2 = 1.4\n",
    "R = 8.3144621 # J/mol.K"
   ]
  },
  {
   "cell_type": "code",
   "execution_count": null,
   "metadata": {},
   "outputs": [],
   "source": [
    "# Cp - Cv = R\n",
    "# Cp = Cv * gama"
   ]
  },
  {
   "cell_type": "code",
   "execution_count": 112,
   "metadata": {},
   "outputs": [
    {
     "data": {
      "text/plain": [
       "20.724107025373137"
      ]
     },
     "execution_count": 112,
     "metadata": {},
     "output_type": "execute_result"
    }
   ],
   "source": [
    "Cp = R / (1 - 1/gama1); Cp"
   ]
  },
  {
   "cell_type": "code",
   "execution_count": 113,
   "metadata": {},
   "outputs": [],
   "source": [
    "Cp1 = -(R*gama1)/(1-gama1)\n",
    "Cv1 = Cp/gama1\n",
    "Cp2 = -(R*gama2)/(1-gama2)\n",
    "Cv2 = Cp/gama2"
   ]
  },
  {
   "cell_type": "markdown",
   "metadata": {},
   "source": [
    "### Livre Caminho Médio"
   ]
  },
  {
   "cell_type": "code",
   "execution_count": 3,
   "metadata": {},
   "outputs": [],
   "source": [
    "# Moléculas esféricas de raio r\n",
    "r1 = 0.5e-10 # m - moléculas monoatômicas\n",
    "r2 = 1e-10 # m - moléculas diatômicas"
   ]
  },
  {
   "cell_type": "code",
   "execution_count": null,
   "metadata": {},
   "outputs": [],
   "source": [
    "def caminho_medio(N, V, r=None, tipo='monoatômico'):\n",
    "    \n",
    "    if r==None:\n",
    "        if tipo_gas = 'monoatômico': r = 0.5e-10 # m - moléculas monoatômicas\n",
    "        else: r = 1e-10 # m - moléculas diatômicas\n",
    "    \n",
    "    lambda_ = 1 / (4 * np.pi * (N/V) * (r**2) * (2**(1/2))); return lambda_"
   ]
  },
  {
   "cell_type": "markdown",
   "metadata": {},
   "source": [
    "### Força Média das moléculsa com Vx_i"
   ]
  },
  {
   "cell_type": "code",
   "execution_count": 4,
   "metadata": {},
   "outputs": [],
   "source": [
    "def forca_media(Ni, m, A, vx_i, V):\n",
    "    \n",
    "    F_med = Ni * m * A * vx_i**2 / V\n",
    "    \n",
    "    return F_med"
   ]
  },
  {
   "cell_type": "markdown",
   "metadata": {},
   "source": [
    "### Velocidade rms"
   ]
  },
  {
   "cell_type": "code",
   "execution_count": 260,
   "metadata": {},
   "outputs": [],
   "source": [
    "def V_rms_med(Vi, Ni):\n",
    "    \n",
    "    Vrms = ( sum(Ni * Vi**2) / sum(Ni) )**(1/2); return Vrms"
   ]
  },
  {
   "cell_type": "code",
   "execution_count": 151,
   "metadata": {},
   "outputs": [],
   "source": [
    "def V_rms_kB(kB, T, m_molec):\n",
    "    \n",
    "    Vrms = (3 * kB * T / m_molec)**(1/2); return Vrms"
   ]
  },
  {
   "cell_type": "code",
   "execution_count": 197,
   "metadata": {},
   "outputs": [],
   "source": [
    "def V_rms_m_mol(V_rms=None, T=None, m_mol=None, R = 8.3144621):\n",
    "    \n",
    "    if T==None: T = (V_rms**2 * m_mol) / (3 * R); return T\n",
    "    \n",
    "    if V_rms==None: V_rms = (3 * R * T / m_mol)**(1/2); return V_rms"
   ]
  },
  {
   "cell_type": "markdown",
   "metadata": {},
   "source": [
    "### Pressão X Velocidade rms"
   ]
  },
  {
   "cell_type": "code",
   "execution_count": 199,
   "metadata": {},
   "outputs": [],
   "source": [
    "def pressão_Vrms(V, m_mol, V_rms=None, P=None, N=None):\n",
    "    \n",
    "    if P==None: P = 1/3 * N/V * m* V_rms**2; return P\n",
    "    if N==None: N = 3 * P * V / (m_mol * V_rms**2); return N\n",
    "    if V_rms==None: V_rms = ( (3 * P * V)/(N * m_mol) )**(1/2) ; return V_rms"
   ]
  },
  {
   "cell_type": "markdown",
   "metadata": {},
   "source": [
    "### Energia Cinética Média de Translação"
   ]
  },
  {
   "cell_type": "code",
   "execution_count": null,
   "metadata": {},
   "outputs": [],
   "source": [
    "def E_mol_med_Vrms (m, V_rms):\n",
    "    \n",
    "    e_med = 1/2 * m * V_rms**2; return e_med"
   ]
  },
  {
   "cell_type": "code",
   "execution_count": 150,
   "metadata": {},
   "outputs": [],
   "source": [
    "def E_mol_med_kB (kB, T):\n",
    "    \n",
    "    e_med = 3/2 * kB * T; return e_med"
   ]
  },
  {
   "cell_type": "code",
   "execution_count": 152,
   "metadata": {},
   "outputs": [],
   "source": [
    "def E_mol_tot_kB(N, kB, T):\n",
    "    E_tot = 3/2 * N * kB * T; return E_tot\n"
   ]
  },
  {
   "cell_type": "code",
   "execution_count": 153,
   "metadata": {},
   "outputs": [],
   "source": [
    "def E_mol_tot_R(n, T, R = 8.3144621):\n",
    "    E_tot = 3/2 * n * R * T; return E_tot\n"
   ]
  },
  {
   "cell_type": "code",
   "execution_count": null,
   "metadata": {},
   "outputs": [],
   "source": [
    "def pressão_e_med(N, V, e_med):\n",
    "    \n",
    "    P = 2/3 * N/V * e_med; return P"
   ]
  },
  {
   "cell_type": "code",
   "execution_count": null,
   "metadata": {},
   "outputs": [],
   "source": [
    "edf temp_e_med()"
   ]
  },
  {
   "cell_type": "markdown",
   "metadata": {},
   "source": [
    "# Q1"
   ]
  },
  {
   "cell_type": "markdown",
   "metadata": {},
   "source": [
    "Uma certa quantidade de gás N₂ (m = 28 u) ocupa um volume de 20 L à pressão atmosférica. Verifica-se que Vrms ~ 515 m/s. Então é feito um processo onde o gás é comprimido adiabaticamente para 7,7 L. Qual é a nova Vrms ? E qual a variação de energia térmica nesse processo? *\n",
    "- 553 m/s ; 0 J\n",
    "- 723 m/s ; 0 J\n",
    "- 623 m/s ; 2611 J\n",
    "- 553 m/s ; 1480 J\n",
    "- 623 m/s ; 0 J\n",
    "- 723 m/s ; 2611 J"
   ]
  },
  {
   "cell_type": "code",
   "execution_count": 192,
   "metadata": {},
   "outputs": [],
   "source": [
    "def lei_dos_gases(P=None, V=None, n=None, R=8.3144621, T=None):\n",
    "    \n",
    "    if T==None: T = P*V/(n*R); print('T =', T, 'K'); return T\n",
    "    if n==None: n = P*V/(R*T); print('n =', n, 'mols'); return n\n",
    "    if P==None: P = (n*R*T)/V; print('P =', P, 'Pa'); return P\n",
    "    if V==None: V = (n*R*T)/P; print('V =', V, 'm3'); return V\n",
    "    "
   ]
  },
  {
   "cell_type": "code",
   "execution_count": 210,
   "metadata": {},
   "outputs": [],
   "source": [
    "def variação_de_energia_térmica(n, T1, T2, Cv=None, Cp=None):\n",
    "        \n",
    "    if Cv!=None: dE = n * Cv * (T2-T1)  # Pressão constante\n",
    "    if Cp!=None: dE = n * Cp * (T2-T1)  # Qualquer processo \n",
    "        \n",
    "    print('Var. Eterm =', dE, 'J'); return dE"
   ]
  },
  {
   "cell_type": "code",
   "execution_count": 208,
   "metadata": {},
   "outputs": [],
   "source": [
    "\n",
    "R=8.3144621\n",
    "Cv=5/2*R\n",
    "\n",
    "Avg = 6.022 * 10**23 # átms\n",
    "M = 28e-3 # Kg/mol\n",
    "m_mol = M / Avg # #Kg/atm\n",
    "\n",
    "Vi = 20e-3 # m3\n",
    "Pi = 101325 # Pa\n",
    "Vrms = 515 #m/s\n",
    "\n",
    "Vf = 7.7e-3 # m3\n",
    "# Vrms_f = ?\n",
    "# d_Eterm = ?"
   ]
  },
  {
   "cell_type": "code",
   "execution_count": 217,
   "metadata": {},
   "outputs": [
    {
     "name": "stdout",
     "output_type": "stream",
     "text": [
      "n = 0.82 mols\n"
     ]
    }
   ],
   "source": [
    "N = pressão_Vrms(m_mol=m_mol, P=Pi, V_rms=Vrms, V=Vi); \n",
    "n = N/Avg; print('n =', round(n, 2), 'mols')"
   ]
  },
  {
   "cell_type": "code",
   "execution_count": 193,
   "metadata": {},
   "outputs": [
    {
     "name": "stdout",
     "output_type": "stream",
     "text": [
      "T = 297.7262153054175 K\n"
     ]
    }
   ],
   "source": [
    "Ti = lei_dos_gases(Vi, Pi, n)"
   ]
  },
  {
   "cell_type": "code",
   "execution_count": 222,
   "metadata": {},
   "outputs": [
    {
     "data": {
      "text/plain": [
       "385541.9069306722"
      ]
     },
     "execution_count": 222,
     "metadata": {},
     "output_type": "execute_result"
    }
   ],
   "source": [
    "Pf = Pi * (Vi/Vf) ** gama2; Pf"
   ]
  },
  {
   "cell_type": "code",
   "execution_count": 223,
   "metadata": {},
   "outputs": [
    {
     "data": {
      "text/plain": [
       "623.3257713623019"
      ]
     },
     "execution_count": 223,
     "metadata": {},
     "output_type": "execute_result"
    }
   ],
   "source": [
    "V_rms_f = pressão_Vrms(m_mol=m_mol, P=Pf, V=Vf, N=N); V_rms_f"
   ]
  },
  {
   "cell_type": "code",
   "execution_count": 224,
   "metadata": {},
   "outputs": [
    {
     "name": "stdout",
     "output_type": "stream",
     "text": [
      "T = 436.14689489227214 K\n"
     ]
    },
    {
     "data": {
      "text/plain": [
       "436.14689489227214"
      ]
     },
     "execution_count": 224,
     "metadata": {},
     "output_type": "execute_result"
    }
   ],
   "source": [
    "Tf = lei_dos_gases(V=Vf, P=Pf, n=n); Tf"
   ]
  },
  {
   "cell_type": "code",
   "execution_count": 225,
   "metadata": {},
   "outputs": [
    {
     "name": "stdout",
     "output_type": "stream",
     "text": [
      "Var. Eterm = 2355.4317084154395 J\n"
     ]
    }
   ],
   "source": [
    "dE = variação_de_energia_térmica(n, Ti, Tf, Cv=Cv)"
   ]
  },
  {
   "cell_type": "markdown",
   "metadata": {},
   "source": [
    "# Q2"
   ]
  },
  {
   "cell_type": "code",
   "execution_count": 13,
   "metadata": {},
   "outputs": [],
   "source": [
    "import pandas as pd"
   ]
  },
  {
   "cell_type": "code",
   "execution_count": 21,
   "metadata": {},
   "outputs": [],
   "source": [
    "# Gás Diatòmico\n",
    "\n",
    "#E_trans  /  E_trans   /    E_trans\n",
    "#        / + 2 gl_rot / + 2gl_rot + vibr\n",
    "#----->300K-------->500K------>\n",
    "\n",
    "n = 1 # mol\n",
    "R = 8.3144621\n",
    "\n",
    "T1 = 100 # K  T1-T2 V=constante\n",
    "T2 = 300 # K  T1-T2 V=constante\n",
    "T3 = 400 # K  T2-T3 P=constante\n",
    "T4 = 500 # K  T2-T3 P=constante\n",
    "T5 = 600 # K  \n",
    "\n",
    "Ti = pd.Series([T1, T2, T3, T4, T5])\n",
    "\n",
    "# Q = [Q1, Q2, Q3, Q4]?\n",
    "\n",
    "#------------------\n",
    "# b)\n",
    "\n",
    "T_i = 200 # K\n",
    "Q = 2900 # J V=constante\n",
    "# Tf = ?"
   ]
  },
  {
   "cell_type": "code",
   "execution_count": 53,
   "metadata": {},
   "outputs": [],
   "source": [
    "def E_gl(n, dT, R=8.3144621):\n",
    "    return n * R * dT / 2"
   ]
  },
  {
   "cell_type": "code",
   "execution_count": 66,
   "metadata": {},
   "outputs": [
    {
     "name": "stdout",
     "output_type": "stream",
     "text": [
      "[200 100 100 100]\n",
      "[3 5 7 9]\n",
      "[831.45, 415.72, 415.72, 415.72]\n",
      "QT = 11.22 KJ\n"
     ]
    }
   ],
   "source": [
    "dTi = np.diff(Ti); print(dTi)\n",
    "gl_i = np.array([3, 5, 7, 9]); print(gl_i)\n",
    "Ei_gl = np.array([E_gl(n, dTi[i]) for i in range(4)]); print([round(e, 2) for e in Ei_gl])\n",
    "\n",
    "QT = sum(Ei_gl * gl_i); print('QT =', round(QT/1000, 2), 'KJ')"
   ]
  },
  {
   "cell_type": "code",
   "execution_count": 68,
   "metadata": {},
   "outputs": [],
   "source": [
    "T1 = 200 # K  T1-T2 V=constante\n",
    "T2 = 300 # K  T1-T2 V=constante\n",
    "T3 = 400 # K  T2-T3 P=constante\n",
    "T4 = 500 # K  T2-T3 P=constante\n",
    "T5 = 600 # K  \n",
    "\n",
    "Ti = pd.Series([T1, T2, T3, T4, T5])"
   ]
  },
  {
   "cell_type": "code",
   "execution_count": 82,
   "metadata": {},
   "outputs": [
    {
     "name": "stdout",
     "output_type": "stream",
     "text": [
      "[100 100 100 100]\n",
      "[3 5 5 7]\n",
      "Qi (J): [1247, 2079, 2079, 2910]\n"
     ]
    }
   ],
   "source": [
    "dTi = np.diff(Ti); print(dTi)\n",
    "gl_i = np.array([3, 5, 5, 7]); print(gl_i)\n",
    "Ei_gl = np.array([E_gl(n, dTi[i]) for i in range(4)]); #print([round(e, 2) for e in Ei_gl])\n",
    "\n",
    "Qi = Ei_gl * gl_i; print('Qi (J):', [round(qi) for qi in Qi])"
   ]
  },
  {
   "cell_type": "code",
   "execution_count": 83,
   "metadata": {},
   "outputs": [
    {
     "data": {
      "text/plain": [
       "379.5159405441273"
      ]
     },
     "execution_count": 83,
     "metadata": {},
     "output_type": "execute_result"
    }
   ],
   "source": [
    "Ti[1] + (2900-Qi[0])/Qi[1] * dTi[1]"
   ]
  },
  {
   "cell_type": "markdown",
   "metadata": {},
   "source": [
    "# Q3"
   ]
  },
  {
   "cell_type": "code",
   "execution_count": 104,
   "metadata": {},
   "outputs": [],
   "source": [
    "def equi_term(n1, T1, Cv1, n2, T2, Cv2):\n",
    "    \n",
    "    Tf = (n1*Cv1*T1 + n2*Cv2*T2) / (n1*Cv1 + n2*Cv2); return Tf"
   ]
  },
  {
   "cell_type": "code",
   "execution_count": 162,
   "metadata": {},
   "outputs": [],
   "source": [
    "n1 = 3 # mol    Hélio\n",
    "T1 = 100 # K\n",
    "\n",
    "n2 = 1 # mol    Oxigênio\n",
    "T2 = 400 # K\n",
    "\n",
    "#Tf = ?\n",
    "\n",
    "n3 = 4 # mol    Argônio\n",
    "T3 = 500 # K\n",
    "\n",
    "# Tf = ?"
   ]
  },
  {
   "cell_type": "code",
   "execution_count": 164,
   "metadata": {},
   "outputs": [],
   "source": [
    "def Tf_mono_di(n1, T1, n2, T2):\n",
    "    Tf = (3 * n1 *T1 + 5 * n2 * T2) / (3 * n1 + 5 * n2); return Tf"
   ]
  },
  {
   "cell_type": "code",
   "execution_count": 168,
   "metadata": {},
   "outputs": [
    {
     "data": {
      "text/plain": [
       "207.14285714285714"
      ]
     },
     "execution_count": 168,
     "metadata": {},
     "output_type": "execute_result"
    }
   ],
   "source": [
    "Tf_1 = Tf_mono_di(n1, T1, n2, T2); Tf_1"
   ]
  },
  {
   "cell_type": "code",
   "execution_count": 171,
   "metadata": {},
   "outputs": [
    {
     "data": {
      "text/plain": [
       "342.3076923076923"
      ]
     },
     "execution_count": 171,
     "metadata": {},
     "output_type": "execute_result"
    }
   ],
   "source": [
    "Tf_2 = (3*n1*T1 + 3*n3*T3 + 5*n2*T2) / (3*n1+3*n3+5*n2) ; Tf_2"
   ]
  },
  {
   "cell_type": "markdown",
   "metadata": {},
   "source": [
    "# Q4 Gráfico de Barra (Resolvida)"
   ]
  },
  {
   "cell_type": "code",
   "execution_count": 251,
   "metadata": {},
   "outputs": [
    {
     "data": {
      "text/plain": [
       "array([ 100,  200,  300,  400,  500,  600,  700,  800,  900, 1000, 1100,\n",
       "       1200])"
      ]
     },
     "execution_count": 251,
     "metadata": {},
     "output_type": "execute_result"
    }
   ],
   "source": [
    "Vi = np.array(range(100, 1201, 100)); Vi"
   ]
  },
  {
   "cell_type": "code",
   "execution_count": 252,
   "metadata": {},
   "outputs": [
    {
     "data": {
      "text/plain": [
       "array([ 1000000000,  2000000000,  7000000000, 13000000000, 17000000000,\n",
       "       18000000000, 15000000000, 10000000000,  6000000000,  3000000000,\n",
       "        2000000000,  1000000000], dtype=int64)"
      ]
     },
     "execution_count": 252,
     "metadata": {},
     "output_type": "execute_result"
    }
   ],
   "source": [
    "Ni = np.array([a*10**9 for a in [1, 2, 7, 13, 17, 18, 15, 10 , 6, 3, 2, 1]]); Ni"
   ]
  },
  {
   "cell_type": "code",
   "execution_count": 253,
   "metadata": {},
   "outputs": [],
   "source": [
    "import matplotlib.pyplot as plt"
   ]
  },
  {
   "cell_type": "code",
   "execution_count": 254,
   "metadata": {},
   "outputs": [
    {
     "data": {
      "image/png": "[encoded data removed]",
      "text/plain": [
       "<Figure size 432x288 with 1 Axes>"
      ]
     },
     "metadata": {
      "needs_background": "light"
     },
     "output_type": "display_data"
    }
   ],
   "source": [
    "bc = plt.bar(height=Ni, x=Vi, width=80)\n",
    "bc.xlabel='V m/s'\n",
    "\n",
    "plt.show()"
   ]
  },
  {
   "cell_type": "code",
   "execution_count": 255,
   "metadata": {},
   "outputs": [],
   "source": [
    "V=100e-6 # m3\n",
    "N = sum(Ni); # átomos\n",
    "M_ne = 20.1797e-3 # Kg/mol\n",
    "Avog = 6.022 * 10**23 # átomos\n",
    "m1 = M_ne / Avog # Kg/átomo"
   ]
  },
  {
   "cell_type": "code",
   "execution_count": 261,
   "metadata": {},
   "outputs": [
    {
     "data": {
      "text/plain": [
       "640.7232755171874"
      ]
     },
     "execution_count": 261,
     "metadata": {},
     "output_type": "execute_result"
    }
   ],
   "source": [
    "Vrms = V_rms_med(Vi, Ni); Vrms"
   ]
  },
  {
   "cell_type": "code",
   "execution_count": 263,
   "metadata": {},
   "outputs": [
    {
     "data": {
      "text/plain": [
       "4.35629525074726e-06"
      ]
     },
     "execution_count": 263,
     "metadata": {},
     "output_type": "execute_result"
    }
   ],
   "source": [
    "P = N * m1 * Vrms**2 / (3 * V); P # Pa"
   ]
  },
  {
   "cell_type": "markdown",
   "metadata": {},
   "source": [
    "# Q5 "
   ]
  },
  {
   "cell_type": "code",
   "execution_count": 228,
   "metadata": {},
   "outputs": [],
   "source": [
    "def caminho_medio_NV(N, V, r=None, tipo='monoatômico'):\n",
    "    \n",
    "    if r==None:\n",
    "        if tipo_gas == 'monoatômico': r = 0.5e-10 # m - moléculas monoatômicas\n",
    "        else: r = 1e-10 # m - moléculas diatômicas\n",
    "    \n",
    "    lambda_ = 1 / (4 * np.pi * (N/V) * (r**2) * (2**(1/2))); return lambda_"
   ]
  },
  {
   "cell_type": "code",
   "execution_count": 229,
   "metadata": {},
   "outputs": [],
   "source": [
    "def caminho_medio_PT(P, T, kB, r=None, tipo='monoatômico'):\n",
    "    \n",
    "    if r==None:\n",
    "        if tipo_gas == 'monoatômico': r = 0.5e-10 # m - moléculas monoatômicas\n",
    "        else: r = 1e-10 # m - moléculas diatômicas\n",
    "    \n",
    "    lambda_ = 1 / (4 * np.pi * (P / (kB*T)) * (r**2) * (2**(1/2))); return lambda_"
   ]
  },
  {
   "cell_type": "markdown",
   "metadata": {},
   "source": [
    "##### Três cilindros (A, B e C) contêm um gás diatômico de raio molecular 10⁻¹⁰ m e são preparados de modo idêntico para um experimento comparativo. Todos possuem inicialmente a mesma quantidade N de moléculas, mesmo volume V, mesma pressão de 1 atm e temperatura de 300K. Em seguida, cada cilindro passa por um proesso diferente: (i) resfriamento isocórico no cilindro A; (ii) Adição de 4N moléculas de um gás monoatômico de raio 10⁻¹⁰ m a 300K ao cilindro B; (iii) Expansão adiabática até um volume 2V no cilindro C (suponha que este cilindro possui um êmbolo que permita a expansão de seu volume). Pede-se os valores mais próximos para (a) o livre caminho médio inicial (b) o livre caminho médio final no cilindro A (c) o livre caminho médio final no cilindro B e (d) o livre caminho médio final no cilindro C. "
   ]
  },
  {
   "cell_type": "code",
   "execution_count": 242,
   "metadata": {},
   "outputs": [
    {
     "name": "stdout",
     "output_type": "stream",
     "text": [
      "lambda_i = 2.3e-07 m\n"
     ]
    }
   ],
   "source": [
    "Avog = 6.022 * 10**23 # átomos\n",
    "R=8.3144621\n",
    "kB = R/Avog\n",
    "\n",
    "#N1=N2=N2, V1=V2=V3\n",
    "r = 1e-10 # m   raio molecular de um gás diatômico\n",
    "P = 101325 # Pa\n",
    "T = 300 # K\n",
    "\n",
    "lambda_i = caminho_medio_PT(P, T, kB, r); print('lambda_i =', round(lambda_i, 10), 'm')\n",
    "\n",
    "# lambda_A = ? \n",
    "# lambda_B = ? \n",
    "# lambda_C = ? "
   ]
  },
  {
   "cell_type": "code",
   "execution_count": 268,
   "metadata": {},
   "outputs": [
    {
     "data": {
      "text/plain": [
       "2.3002401903297196e-07"
      ]
     },
     "execution_count": 268,
     "metadata": {},
     "output_type": "execute_result"
    }
   ],
   "source": [
    "lambda_A = lambda_i; lambda_A"
   ]
  },
  {
   "cell_type": "code",
   "execution_count": 265,
   "metadata": {},
   "outputs": [
    {
     "data": {
      "text/plain": [
       "4.600480380659439e-08"
      ]
     },
     "execution_count": 265,
     "metadata": {},
     "output_type": "execute_result"
    }
   ],
   "source": [
    "lambda_B = lambda_i/5; lambda_B"
   ]
  },
  {
   "cell_type": "code",
   "execution_count": 267,
   "metadata": {},
   "outputs": [
    {
     "data": {
      "text/plain": [
       "4.600480380659439e-07"
      ]
     },
     "execution_count": 267,
     "metadata": {},
     "output_type": "execute_result"
    }
   ],
   "source": [
    "lambda_C= lambda_i*2; lambda_C"
   ]
  },
  {
   "cell_type": "code",
   "execution_count": null,
   "metadata": {},
   "outputs": [],
   "source": []
  }
 ],
 "metadata": {
  "kernelspec": {
   "display_name": "Python 3",
   "language": "python",
   "name": "python3"
  },
  "language_info": {
   "codemirror_mode": {
    "name": "ipython",
    "version": 3
   },
   "file_extension": ".py",
   "mimetype": "text/x-python",
   "name": "python",
   "nbconvert_exporter": "python",
   "pygments_lexer": "ipython3",
   "version": "3.8.3"
  }
 },
 "nbformat": 4,
 "nbformat_minor": 4
}
