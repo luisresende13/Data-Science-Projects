{
 "cells": [
  {
   "cell_type": "code",
   "execution_count": 239,
   "metadata": {},
   "outputs": [
    {
     "name": "stdout",
     "output_type": "stream",
     "text": [
      "saida: 649\n",
      "entrada: 560\n",
      "diferença: -89\n"
     ]
    }
   ],
   "source": [
    "saidas = {'conta1':115, 'conta2':424, 'fran':110}\n",
    "entradas = {'mãe_credito': 110, 'conta':150, 'mesada':300, }\n",
    "\n",
    "saida_total = sum(saidas.values())\n",
    "entrada_total = sum(entradas.values())\n",
    "\n",
    "print('saida:', saida_total)\n",
    "print('entrada:', entrada_total)\n",
    "print('diferença:', entrada_total-saida_total)"
   ]
  },
  {
   "cell_type": "code",
   "execution_count": 1,
   "metadata": {},
   "outputs": [],
   "source": [
    "import numpy as np\n",
    "import pandas as pd"
   ]
  },
  {
   "cell_type": "markdown",
   "metadata": {},
   "source": [
    "# Perda de Carga"
   ]
  },
  {
   "cell_type": "code",
   "execution_count": 6,
   "metadata": {},
   "outputs": [],
   "source": [
    "def Re(D, V, p=None, u=None, v=None):\n",
    "\n",
    "    if v==None: Re = D * V * p / u\n",
    "    else: Re = D * V / v\n",
    "    \n",
    "    return Re"
   ]
  },
  {
   "cell_type": "code",
   "execution_count": 8,
   "metadata": {},
   "outputs": [],
   "source": [
    "def swamee_f (rug, D, Re):\n",
    "    \n",
    "    f = 0.25 * np.log10( rug / (3.7*D) + 5.74 / Re**0.9)**(-2)\n",
    "    \n",
    "    return f"
   ]
  },
  {
   "cell_type": "code",
   "execution_count": 4,
   "metadata": {},
   "outputs": [],
   "source": [
    "def darcy_hp(L, f, V, D, g=9.81):\n",
    "    \n",
    "    hp = (L * f * V**2) / (D * 2 * g)\n",
    "    \n",
    "    return hp"
   ]
  },
  {
   "cell_type": "code",
   "execution_count": 192,
   "metadata": {},
   "outputs": [],
   "source": [
    "def hazen(L, C, D, hp=None, Q=None):\n",
    "    \n",
    "    if hp==None: hp = L * ( 10.65 * Q**1.85 ) / ( C**1.85 * D**4.87 ); return hp\n",
    "    if Q==None: Q = ( hp * ( C**1.85 * D**4.87 ) / (10.65 * L) ) ** (1/1.85); return Q"
   ]
  },
  {
   "cell_type": "code",
   "execution_count": 12,
   "metadata": {},
   "outputs": [],
   "source": [
    "def formula_cinetica(V, g=9.81, hl=None, k=None):\n",
    "    \n",
    "    if hl==None: \n",
    "        hl = (k * V**2) / (2 * g)\n",
    "        return hl\n",
    "    else: \n",
    "        k = (hl * 2 * g) / (V**2)\n",
    "        return k\n",
    "        "
   ]
  },
  {
   "cell_type": "markdown",
   "metadata": {},
   "source": [
    "# Condutos Equivalentes"
   ]
  },
  {
   "cell_type": "code",
   "execution_count": 22,
   "metadata": {},
   "outputs": [],
   "source": [
    "def comp_equiv(Le=None, K=None, D=None, f=None):\n",
    "\n",
    "    if Le==None: Le = K * D / f ; return Le\n",
    "    if K==None: K = Le * f / D ; return K\n",
    "    if D==None: D = Le * f / K ; return D\n",
    "    if f==None: f = K * D / Le ; return f\n"
   ]
  },
  {
   "cell_type": "markdown",
   "metadata": {},
   "source": [
    "### Condutos em Série"
   ]
  },
  {
   "cell_type": "code",
   "execution_count": 15,
   "metadata": {},
   "outputs": [],
   "source": [
    "def darcy_serie(Li, Fi, Di, f=None, L=None, D=None):\n",
    "    \n",
    "    constante = sum([li * fi /  di**5 for li, fi, di in zip(Li, Fi, Di)])\n",
    "    \n",
    "    if L==None: L = constante * D**5 / f; return L\n",
    "    if f==None: f = constante * D**5 / L; return f\n",
    "    if D==None: D = (L * f / constante)**(1/5); return D\n",
    "        "
   ]
  },
  {
   "cell_type": "code",
   "execution_count": 19,
   "metadata": {},
   "outputs": [],
   "source": [
    "def hazen_serie(Li, Ci, Di, C=None, L=None, D=None):\n",
    "    \n",
    "    constante = sum([li / (ci**1.95 * di**4.87) for li, ci, di in zip(Li, Ci, Di)])\n",
    "    \n",
    "    if L==None: L = constante * D**4.87 * C**1.85; return L\n",
    "    if C==None: C = ( L / (constante * D**4.87) )**(1/1.85); return C\n",
    "    if D==None: D = ( L / (constante * C**1.85) )**(1/4.87); return D\n",
    "        "
   ]
  },
  {
   "cell_type": "markdown",
   "metadata": {},
   "source": [
    "### Condutos Paralelos"
   ]
  },
  {
   "cell_type": "code",
   "execution_count": 15,
   "metadata": {},
   "outputs": [],
   "source": [
    "def darcy_paralelo(Li, Fi, Di, f=None, L=None, D=None):\n",
    "    \n",
    "    constante = sum([ di**2.5 / (fi*li)**(1/2) for li, fi, di in zip(Li, Fi, Di)])\n",
    "    \n",
    "    if L==None: L = D**5 / (f * constante**2); return L\n",
    "    if f==None: f = D**5 / (L * constante**2); return f\n",
    "    if D==None: D = (constante**2 * f * L)**(1/5); return D\n",
    "        "
   ]
  },
  {
   "cell_type": "code",
   "execution_count": 18,
   "metadata": {},
   "outputs": [],
   "source": [
    "def hazen_paralelo(Li, Ci, Di, C=None, L=None, D=None):\n",
    "    \n",
    "    constante = sum([ ci * di**2.63 / li**0.54 for li, ci, di in zip(Li, Ci, Di)])\n",
    "    \n",
    "    if L==None: L = ( D**2.63 * C / constante )**(1/0.54); return L\n",
    "    if C==None: C = ( L * constante / D**2.63 ) ; return C\n",
    "    if D==None: D = ( L**0.54 * constante / C )**(1/2.63); return D\n",
    "    "
   ]
  },
  {
   "cell_type": "markdown",
   "metadata": {},
   "source": [
    "# Conversões"
   ]
  },
  {
   "cell_type": "code",
   "execution_count": 23,
   "metadata": {},
   "outputs": [],
   "source": [
    "def inches_to_meter(L):\n",
    "    \n",
    "    return L * 2.54 / 100"
   ]
  },
  {
   "cell_type": "markdown",
   "metadata": {},
   "source": [
    "# Q7"
   ]
  },
  {
   "cell_type": "code",
   "execution_count": 227,
   "metadata": {},
   "outputs": [],
   "source": [
    "p2 = 11 # mca = m\n",
    "Q = 1.2e-3 * 8 # m3\n",
    "C = 130\n",
    "L1 = 50; L2 = 80\n",
    "D12 = inches_to_meter(8)\n",
    "\n",
    "Li = [120+20+20] * 8\n",
    "Di = [inches_to_meter(1.5)] * 8\n",
    "Ci = [C] * 8\n",
    "\n",
    "def Q7 (p2, Q, C, L1, D12, Li, Di, Ci):\n",
    "\n",
    "    Le = hazen_paralelo(Li=Li, Ci=Ci, Di=Di, C=C, D=D12)\n",
    "\n",
    "    Lt = L1 + L2 + Le; Lt\n",
    "\n",
    "    hp = hazen(C=C, L=Lt, D=D12, Q=Q); hp\n",
    "\n",
    "    p1 = p2 + hp; p1\n",
    "    \n",
    "    print('Perda de Carga:', hp, '- Pressão 1:', p1, '- Pressão 2:', p2)"
   ]
  },
  {
   "cell_type": "code",
   "execution_count": 228,
   "metadata": {},
   "outputs": [
    {
     "name": "stdout",
     "output_type": "stream",
     "text": [
      "Perda de Carga: 6.782718783383077 - Pressão 1: 17.782718783383075 - Pressão 2: 11\n"
     ]
    }
   ],
   "source": [
    "Q7 (p2, Q, C, L1, D12, Li, Di, Ci)"
   ]
  },
  {
   "cell_type": "markdown",
   "metadata": {},
   "source": [
    "# Q6"
   ]
  },
  {
   "cell_type": "code",
   "execution_count": 223,
   "metadata": {},
   "outputs": [],
   "source": [
    "z1 = 54; z2 = 42; C=150; D=50e-3; \n",
    "\n",
    "Li = [1, 14, 6, 22]\n",
    "Lei = [2.3, 3.2, 1.3, 1.3, 0.7, 3.2]\n"
   ]
  },
  {
   "cell_type": "code",
   "execution_count": 224,
   "metadata": {},
   "outputs": [],
   "source": [
    "def Q6(z1, z2, C, D, Li, Lei):\n",
    "    \n",
    "    hp = z1-z2\n",
    "\n",
    "    Lt = sum(Li) + sum(Lei)\n",
    "\n",
    "    Q = hazen(L=Lt, C=C, hp=hp, D=D)\n",
    "    \n",
    "    print('Vazão:', Q)"
   ]
  },
  {
   "cell_type": "code",
   "execution_count": 225,
   "metadata": {},
   "outputs": [
    {
     "name": "stdout",
     "output_type": "stream",
     "text": [
      "Vazão: 0.006894427606761677\n"
     ]
    }
   ],
   "source": [
    "Q6 (z1, z2, C, D, Li, Lei)"
   ]
  },
  {
   "cell_type": "markdown",
   "metadata": {},
   "source": [
    "# Q4"
   ]
  },
  {
   "cell_type": "markdown",
   "metadata": {},
   "source": [
    "Uma instalação hidráulica com diâmetro de 50 mm e C=100 liga o reservatório A, cujo nível d'água (N.A.) está a 54 m, ao reservatório B, com N.A. em 44 m, tendo um comprimento total 43 m. Entre os dois, tem-se as seguintes perdas localizadas:\n",
    "\n",
    "- entrada da tubulação: Leq = 0,7 m;\n",
    "\n",
    "- saída da tubulação: Leq =  1,5 m;;\n",
    "\n",
    "- um cotovelo 90°: Leq =  1,7 m;;\n",
    "\n",
    "- duas curvas de 45°: Leq =  0,6 m; (cada);\n",
    "\n",
    "- um registro de ângulo, aberto: Leq =  8,6 m;.\n",
    "\n",
    "Determine, utilizando a equação de Hazen-Williams, a vazão transportada em regime permanente.\n",
    "\n",
    "Obs.: Selecione a unidade desejada."
   ]
  },
  {
   "cell_type": "code",
   "execution_count": 220,
   "metadata": {},
   "outputs": [],
   "source": [
    "D = 60e-3; C=90; z1=54; z2=43; L=48\n",
    "\n",
    "Lei = [0.9, 1.8, 2, 0.8, 0.8, 10.3]\n"
   ]
  },
  {
   "cell_type": "code",
   "execution_count": 221,
   "metadata": {},
   "outputs": [],
   "source": [
    "def Q4 (D, C, z1, z2, L, Lei):\n",
    "    \n",
    "    hp = z1 - z2; print('hp:', hp)\n",
    "    \n",
    "    Lt = L + sum(Lei); print('Lt:', Lt, '- Le:', sum(Lei))\n",
    "    \n",
    "    Q = hazen(hp=hp, L=Lt, C=C, D=D)\n",
    "    \n",
    "    print('Vazão:', Q)"
   ]
  },
  {
   "cell_type": "code",
   "execution_count": 222,
   "metadata": {},
   "outputs": [
    {
     "name": "stdout",
     "output_type": "stream",
     "text": [
      "hp: 11\n",
      "Lt: 64.6 - Le: 16.6\n",
      "Vazão: 0.005846487456914062\n"
     ]
    }
   ],
   "source": [
    "Q4 (D, C, z1, z2, L, Lei)"
   ]
  },
  {
   "cell_type": "markdown",
   "metadata": {},
   "source": [
    "# Q5"
   ]
  },
  {
   "cell_type": "code",
   "execution_count": 178,
   "metadata": {},
   "outputs": [],
   "source": [
    "LA = [1]\n",
    "LB = [0.5, 1, 1]\n",
    "\n",
    "LAe = [0.3]\n",
    "LBe = [1.5, 1.5]\n",
    "\n",
    "Q = 0.6e-3 # m3"
   ]
  },
  {
   "cell_type": "code",
   "execution_count": 179,
   "metadata": {},
   "outputs": [],
   "source": [
    "def Q5_horizontal(LA, LB, LAe, LBe, tubo='B'):\n",
    "    \n",
    "    LAt = sum(LA) + sum(LAe)\n",
    "    LBt = sum(LB) + sum(LBe)\n",
    "    \n",
    "    dL = LAt - LBt\n",
    "    \n",
    "    if dL<0: dL*=-1\n",
    "    print('Comprimento Equivalente do Acessório:') dL"
   ]
  },
  {
   "cell_type": "code",
   "execution_count": 180,
   "metadata": {},
   "outputs": [
    {
     "data": {
      "text/plain": [
       "4.2"
      ]
     },
     "execution_count": 180,
     "metadata": {},
     "output_type": "execute_result"
    }
   ],
   "source": [
    "Q5(LA, LB, LAe, LBe, tubo='B')"
   ]
  }
 ],
 "metadata": {
  "kernelspec": {
   "display_name": "Python 3",
   "language": "python",
   "name": "python3"
  },
  "language_info": {
   "codemirror_mode": {
    "name": "ipython",
    "version": 3
   },
   "file_extension": ".py",
   "mimetype": "text/x-python",
   "name": "python",
   "nbconvert_exporter": "python",
   "pygments_lexer": "ipython3",
   "version": "3.8.3"
  }
 },
 "nbformat": 4,
 "nbformat_minor": 4
}
