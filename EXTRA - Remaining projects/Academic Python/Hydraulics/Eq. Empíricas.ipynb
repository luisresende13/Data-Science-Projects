{
 "cells": [
  {
   "cell_type": "code",
   "execution_count": 1,
   "metadata": {},
   "outputs": [],
   "source": [
    "import numpy as np\n"
   ]
  },
  {
   "cell_type": "code",
   "execution_count": 13,
   "metadata": {},
   "outputs": [],
   "source": [
    "C = 150 \n",
    "D = 100e-3 # m\n",
    "L = 91.2 # m\n",
    "Q = 9.2e-3 # m3/s\n",
    "b=0.00012\n",
    "\n",
    "def hazen_willians(D, L, Q, C):\n",
    "    \n",
    "    hp = L * (10.65 * Q**1.85) / (C**1.85 * D**4.87) # m\n",
    "    \n",
    "    print('Perda de Carga (Hazen-Willians): hp =', hp)\n",
    "    \n",
    "def flamant(D, L, b, V=None, Q=None):\n",
    "    \n",
    "    if Q==None: hp = L * 4 * b * V**1.75 / D**1.25\n",
    "    else: hp = L * 6.1 * b * Q**1.75 / D**4.75\n",
    "    \n",
    "    print('Perda de Carga (Flamant): hp =', hp)\n",
    "    \n",
    "    "
   ]
  },
  {
   "cell_type": "code",
   "execution_count": 16,
   "metadata": {},
   "outputs": [
    {
     "name": "stdout",
     "output_type": "stream",
     "text": [
      "Perda de Carga (Flamant): hp = 0.00021274765096549974\n"
     ]
    }
   ],
   "source": [
    "flamant(D, L, b, Q)"
   ]
  },
  {
   "cell_type": "code",
   "execution_count": 17,
   "metadata": {},
   "outputs": [
    {
     "name": "stdout",
     "output_type": "stream",
     "text": [
      "Perda de Carga (Hazen-Willians): hp = 1.1603342120102882\n"
     ]
    }
   ],
   "source": [
    "hazen_willians(D, L, Q, C)"
   ]
  },
  {
   "cell_type": "code",
   "execution_count": null,
   "metadata": {},
   "outputs": [],
   "source": []
  }
 ],
 "metadata": {
  "kernelspec": {
   "display_name": "Python 3",
   "language": "python",
   "name": "python3"
  },
  "language_info": {
   "codemirror_mode": {
    "name": "ipython",
    "version": 3
   },
   "file_extension": ".py",
   "mimetype": "text/x-python",
   "name": "python",
   "nbconvert_exporter": "python",
   "pygments_lexer": "ipython3",
   "version": "3.8.3"
  }
 },
 "nbformat": 4,
 "nbformat_minor": 4
}
