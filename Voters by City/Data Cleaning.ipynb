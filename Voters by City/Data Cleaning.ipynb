{
 "cells": [
  {
   "cell_type": "markdown",
   "metadata": {},
   "source": [
    "#### Import modules"
   ]
  },
  {
   "cell_type": "code",
   "execution_count": 41,
   "metadata": {},
   "outputs": [],
   "source": [
    "import os, pandas as pd, tabula\n",
    "from IPython.display import clear_output as co"
   ]
  },
  {
   "cell_type": "markdown",
   "metadata": {},
   "source": [
    "#### Define functions"
   ]
  },
  {
   "cell_type": "code",
   "execution_count": 32,
   "metadata": {},
   "outputs": [],
   "source": [
    "def join_pdf_tables(dfs):\n",
    "    cols = dfs[0].columns\n",
    "    for i in range(1, len(dfs)):\n",
    "        df_part = dfs[i].T.reset_index().T.reset_index(drop=True)\n",
    "        df_part.columns = cols\n",
    "        dfs[i] = df_part\n",
    "    return pd.concat(dfs, axis=0)"
   ]
  },
  {
   "cell_type": "markdown",
   "metadata": {},
   "source": [
    "#### Convert pdf tables to csv"
   ]
  },
  {
   "cell_type": "code",
   "execution_count": 44,
   "metadata": {},
   "outputs": [],
   "source": [
    "folder = 'INSPETORIAS'\n",
    "files = [file for file in os.listdir(folder) if file.endswith('.pdf')]\n",
    "enc = 'Windows-1252'\n",
    "\n",
    "df = []\n",
    "for file in files:\n",
    "    co(True); print(f'Files converted: {files.index(file) + 1}/{len(files)}')\n",
    "    df.append(join_pdf_tables(tabula.read_pdf(f'{folder}/{file}', pages='all', encoding=enc)))\n",
    "df = pd.concat(df)\n",
    "\n",
    "df.to_csv('inspetorias.csv', index=False)"
   ]
  },
  {
   "cell_type": "markdown",
   "metadata": {},
   "source": [
    "#### Check result"
   ]
  },
  {
   "cell_type": "code",
   "execution_count": 49,
   "metadata": {},
   "outputs": [
    {
     "data": {
      "text/plain": [
       "(109594, 9)"
      ]
     },
     "execution_count": 49,
     "metadata": {},
     "output_type": "execute_result"
    }
   ],
   "source": [
    "df.shape"
   ]
  },
  {
   "cell_type": "markdown",
   "metadata": {},
   "source": [
    "---"
   ]
  },
  {
   "cell_type": "markdown",
   "metadata": {},
   "source": [
    "## Voters per city"
   ]
  },
  {
   "cell_type": "code",
   "execution_count": 65,
   "metadata": {},
   "outputs": [],
   "source": [
    "df = pd.read_excel('Lista_Votantes_Adimplentes.xlsx')\n",
    "\n",
    "cols = [\n",
    "    'CIDADE', 'Nº DE PROFISSIONAIS', 'CONTATO',\n",
    "    'ESTRATÉGICO', 'PREFEITO', 'VEREADORES',\n",
    "    'DEPUTADOS', 'MAJORITÁRIO', 'EMPRESA',\n",
    "    'OPOSIÇÃO'\n",
    "]\n",
    "\n",
    "cnt = df['Cidade'].value_counts().to_frame('VOTANTES')\n",
    "cnt.index.rename('CIDADE', inplace=True)\n",
    "cnt.reset_index(inplace=True)\n",
    "for col in cols[1:]: cnt[col] = ''"
   ]
  },
  {
   "cell_type": "markdown",
   "metadata": {},
   "source": [
    "#### Save count dataset"
   ]
  },
  {
   "cell_type": "code",
   "execution_count": 82,
   "metadata": {},
   "outputs": [
    {
     "name": "stderr",
     "output_type": "stream",
     "text": [
      "<ipython-input-82-4a2ea588d073>:1: UserWarning: Pandas requires version '1.4.3' or newer of 'xlsxwriter' (version '1.2.9' currently installed).\n",
      "  cnt.to_excel('Votantes-Por-Cidade.xlsx', index=False)\n"
     ]
    },
    {
     "data": {
      "text/html": [
       "<div>\n",
       "<style scoped>\n",
       "    .dataframe tbody tr th:only-of-type {\n",
       "        vertical-align: middle;\n",
       "    }\n",
       "\n",
       "    .dataframe tbody tr th {\n",
       "        vertical-align: top;\n",
       "    }\n",
       "\n",
       "    .dataframe thead th {\n",
       "        text-align: right;\n",
       "    }\n",
       "</style>\n",
       "<table border=\"1\" class=\"dataframe\">\n",
       "  <thead>\n",
       "    <tr style=\"text-align: right;\">\n",
       "      <th></th>\n",
       "      <th>CIDADE</th>\n",
       "      <th>VOTANTES</th>\n",
       "      <th>Nº DE PROFISSIONAIS</th>\n",
       "      <th>CONTATO</th>\n",
       "      <th>ESTRATÉGICO</th>\n",
       "      <th>PREFEITO</th>\n",
       "      <th>VEREADORES</th>\n",
       "      <th>DEPUTADOS</th>\n",
       "      <th>MAJORITÁRIO</th>\n",
       "      <th>EMPRESA</th>\n",
       "      <th>OPOSIÇÃO</th>\n",
       "    </tr>\n",
       "  </thead>\n",
       "  <tbody>\n",
       "    <tr>\n",
       "      <th>0</th>\n",
       "      <td>BELO HORIZONTE</td>\n",
       "      <td>30258</td>\n",
       "      <td></td>\n",
       "      <td></td>\n",
       "      <td></td>\n",
       "      <td></td>\n",
       "      <td></td>\n",
       "      <td></td>\n",
       "      <td></td>\n",
       "      <td></td>\n",
       "      <td></td>\n",
       "    </tr>\n",
       "    <tr>\n",
       "      <th>1</th>\n",
       "      <td>UBERLANDIA</td>\n",
       "      <td>4446</td>\n",
       "      <td></td>\n",
       "      <td></td>\n",
       "      <td></td>\n",
       "      <td></td>\n",
       "      <td></td>\n",
       "      <td></td>\n",
       "      <td></td>\n",
       "      <td></td>\n",
       "      <td></td>\n",
       "    </tr>\n",
       "    <tr>\n",
       "      <th>2</th>\n",
       "      <td>SAO PAULO</td>\n",
       "      <td>3518</td>\n",
       "      <td></td>\n",
       "      <td></td>\n",
       "      <td></td>\n",
       "      <td></td>\n",
       "      <td></td>\n",
       "      <td></td>\n",
       "      <td></td>\n",
       "      <td></td>\n",
       "      <td></td>\n",
       "    </tr>\n",
       "    <tr>\n",
       "      <th>3</th>\n",
       "      <td>JUIZ DE FORA</td>\n",
       "      <td>2875</td>\n",
       "      <td></td>\n",
       "      <td></td>\n",
       "      <td></td>\n",
       "      <td></td>\n",
       "      <td></td>\n",
       "      <td></td>\n",
       "      <td></td>\n",
       "      <td></td>\n",
       "      <td></td>\n",
       "    </tr>\n",
       "    <tr>\n",
       "      <th>4</th>\n",
       "      <td>CONTAGEM</td>\n",
       "      <td>2704</td>\n",
       "      <td></td>\n",
       "      <td></td>\n",
       "      <td></td>\n",
       "      <td></td>\n",
       "      <td></td>\n",
       "      <td></td>\n",
       "      <td></td>\n",
       "      <td></td>\n",
       "      <td></td>\n",
       "    </tr>\n",
       "  </tbody>\n",
       "</table>\n",
       "</div>"
      ],
      "text/plain": [
       "                           CIDADE  VOTANTES Nº DE PROFISSIONAIS CONTATO  \\\n",
       "0  BELO HORIZONTE                     30258                               \n",
       "1  UBERLANDIA                          4446                               \n",
       "2  SAO PAULO                           3518                               \n",
       "3  JUIZ DE FORA                        2875                               \n",
       "4  CONTAGEM                            2704                               \n",
       "\n",
       "  ESTRATÉGICO PREFEITO VEREADORES DEPUTADOS MAJORITÁRIO EMPRESA OPOSIÇÃO  \n",
       "0                                                                         \n",
       "1                                                                         \n",
       "2                                                                         \n",
       "3                                                                         \n",
       "4                                                                         "
      ]
     },
     "execution_count": 82,
     "metadata": {},
     "output_type": "execute_result"
    }
   ],
   "source": [
    "cnt.to_excel('Votantes-Por-Cidade.xlsx', index=False)\n",
    "\n",
    "cnt.head()"
   ]
  }
 ],
 "metadata": {
  "kernelspec": {
   "display_name": "Python 3",
   "language": "python",
   "name": "python3"
  },
  "language_info": {
   "codemirror_mode": {
    "name": "ipython",
    "version": 3
   },
   "file_extension": ".py",
   "mimetype": "text/x-python",
   "name": "python",
   "nbconvert_exporter": "python",
   "pygments_lexer": "ipython3",
   "version": "3.8.3"
  }
 },
 "nbformat": 4,
 "nbformat_minor": 4
}
