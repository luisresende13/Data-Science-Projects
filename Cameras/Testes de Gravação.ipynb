{
 "cells": [
  {
   "cell_type": "markdown",
   "metadata": {},
   "source": [
    "# Record city cameras testing"
   ]
  },
  {
   "cell_type": "markdown",
   "metadata": {},
   "source": [
    "#### Import modules"
   ]
  },
  {
   "cell_type": "code",
   "execution_count": 3,
   "metadata": {},
   "outputs": [],
   "source": [
    "from time import time\n",
    "from IPython.display import clear_output as co"
   ]
  },
  {
   "cell_type": "markdown",
   "metadata": {},
   "source": [
    "#### Change directory to cams-rio api project"
   ]
  },
  {
   "cell_type": "code",
   "execution_count": 4,
   "metadata": {},
   "outputs": [
    {
     "name": "stdout",
     "output_type": "stream",
     "text": [
      "C:\\Users\\luisr\\Desktop\\Repositories\\Apps\\APIs\\cams-rio\n"
     ]
    }
   ],
   "source": [
    "cd ../../Apps/APIs/cams-rio"
   ]
  },
  {
   "cell_type": "markdown",
   "metadata": {},
   "source": [
    "#### Import recorder class"
   ]
  },
  {
   "cell_type": "code",
   "execution_count": null,
   "metadata": {},
   "outputs": [],
   "source": [
    "from rec import Recorder"
   ]
  },
  {
   "cell_type": "markdown",
   "metadata": {},
   "source": [
    "#### Recorder class instance"
   ]
  },
  {
   "cell_type": "code",
   "execution_count": null,
   "metadata": {},
   "outputs": [],
   "source": [
    "rec = Recorder(retries=10, skip_method=None, skip_max=15)"
   ]
  },
  {
   "cell_type": "markdown",
   "metadata": {},
   "source": [
    "---\n",
    "#### Loop until first working camera"
   ]
  },
  {
   "cell_type": "code",
   "execution_count": 11,
   "metadata": {},
   "outputs": [],
   "source": [
    "res = {'message': 'FAILED'}\n",
    "code = 0\n",
    "while res['message'] == 'FAILED':\n",
    "    res = rec.record(code=code, folder='tests/', n_frames=15, saveas='video-from-list')\n",
    "    code += 1\n",
    "    print(res)"
   ]
  },
  {
   "cell_type": "markdown",
   "metadata": {},
   "source": [
    "---\n",
    "## Record single camera"
   ]
  },
  {
   "cell_type": "markdown",
   "metadata": {},
   "source": [
    "Camera with \"overread\" error: 538"
   ]
  },
  {
   "cell_type": "markdown",
   "metadata": {},
   "source": [
    "#### Record using python recorder module"
   ]
  },
  {
   "cell_type": "code",
   "execution_count": 13,
   "metadata": {},
   "outputs": [
    {
     "name": "stdout",
     "output_type": "stream",
     "text": [
      "UPLOAD SUCCESS. CODE 2, FRAMES 15, STARTED AT 2023-04-07 09-42-15, FINISHED AT 2023-04-07 09-42-20\n"
     ]
    }
   ],
   "source": [
    "code = 2\n",
    "\n",
    "res = rec.record(code=code, folder='tests', n_frames=15, saveas='video')"
   ]
  },
  {
   "cell_type": "markdown",
   "metadata": {},
   "source": [
    "#### Record using api http request"
   ]
  },
  {
   "cell_type": "code",
   "execution_count": 13,
   "metadata": {},
   "outputs": [
    {
     "name": "stdout",
     "output_type": "stream",
     "text": [
      "UPLOAD SUCCESS. CODE 2, FRAMES 15, STARTED AT 2023-04-07 09-42-15, FINISHED AT 2023-04-07 09-42-20\n"
     ]
    }
   ],
   "source": [
    "code = 2\n",
    "\n",
    "res = rec.record(code=code, folder='tests', n_frames=15, saveas='video')"
   ]
  },
  {
   "cell_type": "markdown",
   "metadata": {},
   "source": [
    "#### Compare performance for different recording methods"
   ]
  },
  {
   "cell_type": "code",
   "execution_count": 16,
   "metadata": {},
   "outputs": [],
   "source": [
    "def exec_secs(func, n=100, decimals=4):\n",
    "    s = time()\n",
    "    for i in range(n): func()\n",
    "    return round((time() - s) / n, decimals)\n",
    "\n",
    "code = 2\n",
    "\n",
    "def func1():\n",
    "    rec.record(code=code, folder='tests', n_frames=6, saveas='video')\n",
    "def func2():\n",
    "    rec.record(code=code, folder='tests', n_frames=6, saveas='video-from-list')\n",
    "    \n",
    "\n",
    "t1 = exec_secs(func1, n=10)\n",
    "t2 = exec_secs(func2, n=10)\n",
    "\n",
    "co(True); print(f'\\n* T1: {t1} · T2: {t2}')"
   ]
  },
  {
   "cell_type": "markdown",
   "metadata": {},
   "source": [
    "---\n",
    "## Record Cameras Around Collection of Points (using http)"
   ]
  },
  {
   "cell_type": "markdown",
   "metadata": {},
   "source": [
    "#### Example http request parameters"
   ]
  },
  {
   "cell_type": "code",
   "execution_count": null,
   "metadata": {},
   "outputs": [],
   "source": [
    "import json, requests\n",
    "\n",
    "data_river = {\n",
    "  'n': 1,\n",
    "  'radius': 50.0,\n",
    "  'n_frames': 45,\n",
    "  'saveas': 'video',\n",
    "  'workers': None,\n",
    "  'urls': [{\n",
    "    'url': 'cameras',\n",
    "#     'timestamp': 'timstamp',\n",
    "#     'max_age': '1H', # should be present in url object or in query object only\n",
    "    'query': [{\n",
    "        'query': {'Codigo': [3318, 3323, 1487]},\n",
    "        'prefix': 'rivers',\n",
    "#         'max_age': '1H',\n",
    "    },]\n",
    "}]\n",
    "}\n",
    "\n",
    "data_river_list = {**data_river, 'saveas': 'video-from-list'}\n",
    "\n",
    "data_rain = {\n",
    "  'n': 3,\n",
    " 'radius': 250.0,\n",
    " 'n_frames': 45,\n",
    " 'saveas': 'video',\n",
    " 'workers': None,\n",
    " 'urls': [{'url': 'mongo/Cameras AlertaRio',\n",
    "   'query': [\n",
    "    {'query': {'Codigo': [2]}, 'prefix': 'rivers'},\n",
    "]}]}"
   ]
  },
  {
   "cell_type": "markdown",
   "metadata": {},
   "source": [
    "#### Convert parameters to json format (optional)"
   ]
  },
  {
   "cell_type": "code",
   "execution_count": 58,
   "metadata": {},
   "outputs": [
    {
     "name": "stdout",
     "output_type": "stream",
     "text": [
      "{\"n\": 1, \"radius\": 50.0, \"n_frames\": 45, \"saveas\": \"video\", \"workers\": null, \"urls\": [{\"url\": \"cameras\", \"query\": [{\"query\": {\"Codigo\": [3318, 3323, 1487]}, \"prefix\": \"rivers\"}]}]}\n"
     ]
    }
   ],
   "source": [
    "print(json.dumps(data_river))"
   ]
  },
  {
   "cell_type": "markdown",
   "metadata": {},
   "source": [
    "#### Record points using HTTP"
   ]
  },
  {
   "cell_type": "code",
   "execution_count": 53,
   "metadata": {},
   "outputs": [],
   "source": [
    "res = requests.post('http://127.0.0.1:5001/record/points', json=data_river_list)\n",
    "# res = requests.post('https://cams.octacity.dev/record/points', json=data_river)\n",
    "\n",
    "res.reason, res.text"
   ]
  },
  {
   "cell_type": "markdown",
   "metadata": {},
   "source": [
    "---\n",
    "## Record many cameras"
   ]
  },
  {
   "cell_type": "markdown",
   "metadata": {},
   "source": [
    "#### Record many parameters"
   ]
  },
  {
   "cell_type": "code",
   "execution_count": 78,
   "metadata": {},
   "outputs": [],
   "source": [
    "data_river = {\n",
    "    'workers': None,\n",
    "    'params': [{\n",
    "        'code': 3318,\n",
    "        'folder': 'rivers/manual',\n",
    "        'n_frames': 45,\n",
    "        'saveas': 'video',\n",
    "    }, {\n",
    "        'code': 3323,\n",
    "        'folder': 'rivers/manual',\n",
    "        'n_frames': 45,\n",
    "        'saveas': 'video',\n",
    "    },{\n",
    "        'code': 1487,\n",
    "        'folder': 'rivers/manual',\n",
    "        'n_frames': 45,\n",
    "        'saveas': 'video',\n",
    "    }]\n",
    "}"
   ]
  },
  {
   "cell_type": "markdown",
   "metadata": {},
   "source": [
    "#### http request"
   ]
  },
  {
   "cell_type": "code",
   "execution_count": 78,
   "metadata": {},
   "outputs": [],
   "source": [
    "res = requests.post('http://127.0.0.1:5001/record/many', json=data_many)\n",
    "\n",
    "res.reason, res.text"
   ]
  },
  {
   "cell_type": "markdown",
   "metadata": {},
   "source": [
    "---\n",
    "## Record Cameras by Trigger"
   ]
  },
  {
   "cell_type": "markdown",
   "metadata": {},
   "source": [
    "#### Trigger parameters"
   ]
  },
  {
   "cell_type": "code",
   "execution_count": 10,
   "metadata": {},
   "outputs": [],
   "source": [
    "data_trigger_rain = {\n",
    "    'url': 'mongo/Cameras AlertaRio',\n",
    "    'triggers': [\n",
    "        'acumulado_chuva_5_min_1',\n",
    "        'acumulado_chuva_5_min_2',\n",
    "        'acumulado_chuva_5_min_3'\n",
    "    ],\n",
    "    'logic': 'all',\n",
    "    'merge': False,\n",
    "    'normal': False,\n",
    "    'folder': 'rain',\n",
    "    'n_frames': 45,\n",
    "    'saveas': 'video',\n",
    "    'workers': 350\n",
    "}\n",
    "\n",
    "data_trigger_normal = {\n",
    "    'url': 'mongo/Cameras AlertaRio',\n",
    "    'triggers': [\n",
    "        'acumulado_chuva_15_min_1',\n",
    "        'acumulado_chuva_15_min_2',\n",
    "        'acumulado_chuva_15_min_3'\n",
    "    ],\n",
    "    'logic': 'any',\n",
    "    'merge': False,\n",
    "    'normal': True,\n",
    "    'folder': 'normal',\n",
    "    'n_frames': 45,\n",
    "    'saveas': 'video',\n",
    "    'workers': 350\n",
    "}\n",
    "\n",
    "data_trigger_polygons = {\n",
    "    'url': 'mongo/Polygons AlertaRio',\n",
    "    'triggers': [\n",
    "        'acumulado_chuva_15_min_1',\n",
    "        'acumulado_chuva_15_min_2',\n",
    "        'acumulado_chuva_15_min_3'\n",
    "    ],\n",
    "    'logic': 'any',\n",
    "    'merge': True,\n",
    "    'normal': True,\n",
    "    'folder': 'polygons/normal',\n",
    "    'n_frames': 45,\n",
    "    'saveas': 'video',\n",
    "    'workers': None\n",
    "}"
   ]
  },
  {
   "cell_type": "markdown",
   "metadata": {},
   "source": [
    "#### Count number of cameras triggered"
   ]
  },
  {
   "cell_type": "code",
   "execution_count": 11,
   "metadata": {},
   "outputs": [
    {
     "name": "stdout",
     "output_type": "stream",
     "text": [
      "\n",
      "* IN-ALERT: 356 · NORMAL: 2480\n"
     ]
    }
   ],
   "source": [
    "from modules.trigger import Trigger\n",
    "\n",
    "# data = data_trigger_polygons\n",
    "data = data_trigger_rain\n",
    "\n",
    "cams = Trigger(data['url'], data['triggers'], data['logic'], data['merge'])\n",
    "\n",
    "print(f'\\n* IN-ALERT: {len(cams.in_alert)} · NORMAL: {len(cams.normal)}')"
   ]
  },
  {
   "cell_type": "markdown",
   "metadata": {},
   "source": [
    "#### Record cameras by trigger"
   ]
  },
  {
   "cell_type": "code",
   "execution_count": null,
   "metadata": {},
   "outputs": [],
   "source": [
    "res = requests.post('http://127.0.0.1:5001/record/trigger', json=data_trigger_polygons)\n",
    "# res = requests.post('https://cams.octacity.dev/record/trigger', json=data_trigger_cams)\n",
    "# res = requests.post('https://cams.octacity.dev/record/trigger', json=data_trigger_polygons)\n",
    "\n",
    "res.reason, res.text"
   ]
  },
  {
   "cell_type": "markdown",
   "metadata": {},
   "source": [
    "#### Compare HTTP performance"
   ]
  },
  {
   "cell_type": "code",
   "execution_count": 32,
   "metadata": {},
   "outputs": [
    {
     "name": "stdout",
     "output_type": "stream",
     "text": [
      "\n",
      "* T1: 26.5 · T2: 0.0\n"
     ]
    }
   ],
   "source": [
    "def func1():\n",
    "    res = requests.post('http://127.0.0.1:5001/record/points', json=data)\n",
    "def func2():\n",
    "    res = requests.post('http://127.0.0.1:5001/record/points', json=data_list)\n",
    "    \n",
    "\n",
    "t1 = exec_secs(func1, n=10)\n",
    "t2 = exec_secs(func2, n=10)\n",
    "\n",
    "co(True); print(f'\\n* T1: {t1} · T2: {t2}')"
   ]
  }
 ],
 "metadata": {
  "kernelspec": {
   "display_name": "Python 3",
   "language": "python",
   "name": "python3"
  },
  "language_info": {
   "codemirror_mode": {
    "name": "ipython",
    "version": 3
   },
   "file_extension": ".py",
   "mimetype": "text/x-python",
   "name": "python",
   "nbconvert_exporter": "python",
   "pygments_lexer": "ipython3",
   "version": "3.8.3"
  }
 },
 "nbformat": 4,
 "nbformat_minor": 4
}
