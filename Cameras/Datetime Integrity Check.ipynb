{
 "cells": [
  {
   "cell_type": "code",
   "execution_count": 7,
   "metadata": {},
   "outputs": [],
   "source": [
    "url = 'http://187.111.99.18'\n",
    "port = '9004'"
   ]
  },
  {
   "cell_type": "code",
   "execution_count": null,
   "metadata": {},
   "outputs": [],
   "source": [
    "query = {'CODE': '313'}\n",
    "\n",
    "res = requests.get(f'{url}:{port}', query, stream=True, timeout=None)"
   ]
  },
  {
   "cell_type": "markdown",
   "metadata": {},
   "source": [
    "# Event Expiration Time (Max-Age) Testing"
   ]
  },
  {
   "cell_type": "markdown",
   "metadata": {},
   "source": [
    "#### API project directory"
   ]
  },
  {
   "cell_type": "code",
   "execution_count": 1,
   "metadata": {},
   "outputs": [
    {
     "name": "stdout",
     "output_type": "stream",
     "text": [
      "C:\\Users\\luisr\\Desktop\\Repositories\\Apps\\APIs\\octa-api\n"
     ]
    }
   ],
   "source": [
    "cd ../../Apps/APIs/octa-api"
   ]
  },
  {
   "cell_type": "markdown",
   "metadata": {},
   "source": [
    "#### API request class"
   ]
  },
  {
   "cell_type": "code",
   "execution_count": 2,
   "metadata": {},
   "outputs": [
    {
     "name": "stderr",
     "output_type": "stream",
     "text": [
      "C:\\Users\\luisr\\AppData\\Roaming\\Python\\Python38\\site-packages\\pandas\\core\\computation\\expressions.py:21: UserWarning: Pandas requires version '2.7.3' or newer of 'numexpr' (version '2.7.1' currently installed).\n",
      "  from pandas.core.computation.check import NUMEXPR_INSTALLED\n"
     ]
    }
   ],
   "source": [
    "import requests, pandas as pd\n",
    "\n",
    "class api:\n",
    "    \n",
    "    localurl='http://127.0.0.1:5000'\n",
    "    baseurl='https://api.octacity.dev'\n",
    "        \n",
    "    def df(subpath, query={}, local=True):\n",
    "        url = api.localurl if local else api.baseurl\n",
    "        return pd.DataFrame(requests.get(f'{url}/{subpath}', params=query).json())"
   ]
  },
  {
   "cell_type": "markdown",
   "metadata": {},
   "source": [
    "#### Events and polygons' events count"
   ]
  },
  {
   "cell_type": "code",
   "execution_count": 4,
   "metadata": {},
   "outputs": [
    {
     "name": "stdout",
     "output_type": "stream",
     "text": [
      "BOLSÃO: 1 · WAZE-FLOOD: 20\n",
      "BOLSÃO-POLY: 1 · WAZE-FLOOD-POLY: 0\n"
     ]
    }
   ],
   "source": [
    "waze = api.df('waze/alerts', local=False)\n",
    "waze = waze[waze['subtype']=='HAZARD_WEATHER_FLOOD']\n",
    "\n",
    "comando = api.df('comando/events', local=False)\n",
    "comando = comando[comando['pop_id']==5]\n",
    "\n",
    "print(f\"BOLSÃO: {len(comando)} · WAZE-FLOOD: {len(waze)}\")\n",
    "print(f\"BOLSÃO-POLY: {len(comando[comando['cluster_id']!=-1])} · WAZE-FLOOD-POLY: {len(waze[(waze['cluster_id']!=-1)])}\")"
   ]
  },
  {
   "cell_type": "markdown",
   "metadata": {},
   "source": [
    "#### Polygons' events count (max-age applied)"
   ]
  },
  {
   "cell_type": "code",
   "execution_count": 6,
   "metadata": {},
   "outputs": [
    {
     "name": "stdout",
     "output_type": "stream",
     "text": [
      "BOLSÃO-POLY: 0 · WAZE-FLOOD-POLY: 0\n"
     ]
    }
   ],
   "source": [
    "polygons = api.df('polygons', local=False)\n",
    "\n",
    "bolsao = polygons['bolsão_status'].sum()\n",
    "waze_flood = polygons['waze_flood_status'].sum()\n",
    "\n",
    "print(f'BOLSÃO-POLY: {bolsao} · WAZE-FLOOD-POLY: {waze_flood}')"
   ]
  },
  {
   "cell_type": "markdown",
   "metadata": {},
   "source": [
    "If result above is different from previous result, it means that max_age filter applies for the missing events in polygons result"
   ]
  },
  {
   "cell_type": "markdown",
   "metadata": {},
   "source": [
    "#### Testing response datetime format"
   ]
  },
  {
   "cell_type": "code",
   "execution_count": 42,
   "metadata": {},
   "outputs": [],
   "source": [
    "from datetime import datetime as dt\n",
    "import pytz; tz_br = pytz.timezone('Brazil/East')"
   ]
  },
  {
   "cell_type": "code",
   "execution_count": 43,
   "metadata": {},
   "outputs": [
    {
     "data": {
      "text/plain": [
       "4     0 days 00:00:27.033841\n",
       "8     0 days 00:01:05.033841\n",
       "12    0 days 00:01:32.033841\n",
       "32    0 days 00:05:20.033841\n",
       "78    0 days 00:13:23.033841\n",
       "95    0 days 00:16:26.033841\n",
       "116   0 days 00:20:28.033841\n",
       "121   0 days 00:22:17.033841\n",
       "151   0 days 00:31:44.033841\n",
       "163   0 days 00:50:54.033841\n",
       "168   0 days 01:04:41.033841\n",
       "Name: pubMillis, dtype: timedelta64[ns]"
      ]
     },
     "execution_count": 43,
     "metadata": {},
     "output_type": "execute_result"
    }
   ],
   "source": [
    "dt.now(tz_br) - pd.to_datetime(waze['pubMillis']).dt.tz_localize('Brazil/East')"
   ]
  }
 ],
 "metadata": {
  "kernelspec": {
   "display_name": "Python 3",
   "language": "python",
   "name": "python3"
  },
  "language_info": {
   "codemirror_mode": {
    "name": "ipython",
    "version": 3
   },
   "file_extension": ".py",
   "mimetype": "text/x-python",
   "name": "python",
   "nbconvert_exporter": "python",
   "pygments_lexer": "ipython3",
   "version": "3.8.3"
  }
 },
 "nbformat": 4,
 "nbformat_minor": 4
}
