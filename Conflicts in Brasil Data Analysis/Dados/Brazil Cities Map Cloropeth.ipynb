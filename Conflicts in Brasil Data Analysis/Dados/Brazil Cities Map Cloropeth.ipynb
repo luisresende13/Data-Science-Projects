{
 "cells": [
  {
   "cell_type": "markdown",
   "metadata": {},
   "source": [
    "#### Import modules"
   ]
  },
  {
   "cell_type": "code",
   "execution_count": 1,
   "metadata": {},
   "outputs": [
    {
     "name": "stderr",
     "output_type": "stream",
     "text": [
      "C:\\Users\\luisr\\AppData\\Roaming\\Python\\Python38\\site-packages\\pandas\\core\\computation\\expressions.py:21: UserWarning: Pandas requires version '2.7.3' or newer of 'numexpr' (version '2.7.1' currently installed).\n",
      "  from pandas.core.computation.check import NUMEXPR_INSTALLED\n"
     ]
    }
   ],
   "source": [
    "import pandas as pd"
   ]
  },
  {
   "cell_type": "markdown",
   "metadata": {},
   "source": [
    "### Load data"
   ]
  },
  {
   "cell_type": "code",
   "execution_count": 2,
   "metadata": {},
   "outputs": [],
   "source": [
    "cpt_up = pd.read_excel('Dados/ter-city-2000-2021.xlsx')\n",
    "\n",
    "# standard time serie format\n",
    "ts = cpt_up.set_index('MUN').T.iloc[5:]; ts.index = list(map(lambda year: int(year[4:]), ts.index))"
   ]
  },
  {
   "cell_type": "code",
   "execution_count": null,
   "metadata": {},
   "outputs": [],
   "source": [
    "cpt_up"
   ]
  },
  {
   "cell_type": "code",
   "execution_count": null,
   "metadata": {},
   "outputs": [],
   "source": [
    "#import folium\n",
    "import folium\n",
    "\n",
    "#Creaate a map object for choropleth map\n",
    "#Set location to your location of interest (latitude and longitude )\n",
    "map0 = folium.Map(location=[23.9,121.52], zoom_start=7)\n",
    "\n",
    "#Create choropleth map object with key on TOWNNAME\n",
    "folium.Choropleth(geo_data = geo_taiwan,#Assign geo_data to your geojson file\n",
    "    name = \"choropleth\",\n",
    "    data = Dataset,#Assign dataset of interest\n",
    "    columns = [\"City/County\",\"Population\"],#Assign columns in the dataset for plotting\n",
    "    key_on = 'feature.properties.name',#Assign the key that geojson uses to connect with dataset\n",
    "    fill_color = 'YlOrRd',\n",
    "    fill_opacity = 0.7,\n",
    "    line_opacity = 0.5,\n",
    "    legend_name = 'Taiwan').add_to(map0)\n",
    "\n",
    "#Create style_function\n",
    "style_function = lambda x: {'fillColor': '#ffffff', \n",
    "                            'color':'#000000', \n",
    "                            'fillOpacity': 0.1, \n",
    "                            'weight': 0.1}\n",
    "\n",
    "#Create highlight_function\n",
    "highlight_function = lambda x: {'fillColor': '#000000', \n",
    "                                'color':'#000000', \n",
    "                                'fillOpacity': 0.50, \n",
    "                                'weight': 0.1}\n",
    "\n",
    "#Create popup tooltip object\n",
    "NIL = folium.features.GeoJson(\n",
    "    geo_taiwan,\n",
    "    style_function=style_function, \n",
    "    control=False,\n",
    "    highlight_function=highlight_function, \n",
    "    tooltip=folium.features.GeoJsonTooltip(\n",
    "        fields=['COUNTYNAME'],\n",
    "        aliases=['City/County'],\n",
    "        style=(\"background-color: white; color: #333333; font-family: arial; font-size: 12px; padding: 10px;\")))\n",
    "\n",
    "#Add tooltip object to the map\n",
    "map0.add_child(NIL)\n",
    "map0.keep_in_front(NIL)\n",
    "folium.LayerControl().add_to(map0)\n",
    "\n",
    "map0"
   ]
  }
 ],
 "metadata": {
  "kernelspec": {
   "display_name": "Python 3",
   "language": "python",
   "name": "python3"
  },
  "language_info": {
   "codemirror_mode": {
    "name": "ipython",
    "version": 3
   },
   "file_extension": ".py",
   "mimetype": "text/x-python",
   "name": "python",
   "nbconvert_exporter": "python",
   "pygments_lexer": "ipython3",
   "version": "3.8.3"
  }
 },
 "nbformat": 4,
 "nbformat_minor": 4
}
