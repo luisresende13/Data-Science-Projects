{
 "cells": [
  {
   "cell_type": "code",
   "execution_count": 3,
   "metadata": {},
   "outputs": [],
   "source": [
    "import pandas as pd"
   ]
  },
  {
   "cell_type": "code",
   "execution_count": 4,
   "metadata": {},
   "outputs": [],
   "source": [
    "import numpy as np"
   ]
  },
  {
   "cell_type": "code",
   "execution_count": 8,
   "metadata": {},
   "outputs": [],
   "source": [
    "rend_esc = pd.read_csv('\\\\Users\\luisr\\Desktop\\Repository\\IBM_courses\\Personal Work\\Data Frames\\Work\\\\rend_esc_cleaned.csv').drop('Unnamed: 0', axis=1)"
   ]
  },
  {
   "cell_type": "markdown",
   "metadata": {},
   "source": [
    "# Hiphotesis Testing for 'Rendimento Escolar' Table."
   ]
  },
  {
   "cell_type": "markdown",
   "metadata": {},
   "source": [
    "### Extracting 'Total Abandonment proportion' column and location column"
   ]
  },
  {
   "cell_type": "code",
   "execution_count": 129,
   "metadata": {},
   "outputs": [
    {
     "data": {
      "text/plain": [
       "Index(['Ano', 'Região', 'UF', 'Código do Município', 'Nome do Município',\n",
       "       'Localização', 'Rede', 'Código da Escola', 'Nome da Escola',\n",
       "       'Aprovação no 1º Ano do Ensino Fundamental',\n",
       "       'Aprovação na 1ª série/2º Ano', 'Aprovação na 2ª série/3º Ano',\n",
       "       'Aprovação na 3ª série/4º Ano', 'Aprovaçãona 4ª série/5º Ano',\n",
       "       'Aprovação na 5ª série/6º Ano', 'Aprovação na 6ª série/7º Ano',\n",
       "       'Aprovação na 7ª série/8º Ano', 'Aprovação na 8ª série/9º Ano',\n",
       "       'Aprovação 1ª a 4ª  Série/1º a 5º Ano',\n",
       "       'Aprovação 5ª a 8ª Série/ 6º ao 9º Ano', 'Total Aprovação Fundamental',\n",
       "       'Aprovação na 1ª série - Médio', 'Aprovação na 2ª série - Médio',\n",
       "       'Aprovação na 3ª série - Médio', 'Aprovação na 4ª série - Médio',\n",
       "       'Total  Aprovação Médio Não Seriado', 'Total  Aprovação Médio',\n",
       "       'Reprovação no 1º Ano do Ensino Fundamental',\n",
       "       'Reprovação na 1ª série/2º Ano', 'Reprovação na 2ª série/3º Ano',\n",
       "       'Reprovação na 3ª série/4º Ano', 'Reprovação na 4ª série/5º Ano',\n",
       "       'Reprovação na 5ª série/6º Ano', 'Reprovação na 6ª série/7º Ano',\n",
       "       'Reprovação na 7ª série/8º Ano', 'Reprovação na 8ª série/9º Ano',\n",
       "       'Reprovação 1ª a 4ª  Série/1º a 5º Ano',\n",
       "       'Reprovação 5ª a 8ª Série/ 6º ao 9º Ano',\n",
       "       'Total Reprovação Fundamental', 'Reprovação na 1ª série - Médio',\n",
       "       'Reprovação na 2ª série - Médio', 'Reprovação na 3ª série - Médio',\n",
       "       'Reprovação na 4ª série - Médio', 'Total  Reprovação Médio Não Seriado',\n",
       "       'Total  Reprovação Médio', 'Abandono no 1º Ano do Ensino Fundamental',\n",
       "       'Abandono na 1ª série/2º Ano', 'Abandono na 2ª série/3º Ano',\n",
       "       'Abandono na 3ª série/4º Ano', 'Abandono na 4ª série/5º Ano',\n",
       "       'Abandono na 5ª série/6º Ano', 'Abandono na 6ª série/7º Ano',\n",
       "       'Abandono na 7ª série/8º Ano', 'Abandono na 8ª série/9º Ano',\n",
       "       'Abandono 1ª a 4ª  Série/1º a 5º Ano',\n",
       "       'Abandono 5ª a 8ª Série/ 6º ao 9º Ano', 'Total Abandono Fundamental',\n",
       "       'Abandono na 1ª série - Médio', 'Abandono na 2ª série - Médio',\n",
       "       'Abandono na 3ª série - Médio', 'Abandono na 4ª série - Médio',\n",
       "       'Total  Abandono Médio Não Seriado', 'Total Abandono - Médio'],\n",
       "      dtype='object')"
      ]
     },
     "execution_count": 129,
     "metadata": {},
     "output_type": "execute_result"
    }
   ],
   "source": [
    "rend_esc.columns"
   ]
  },
  {
   "cell_type": "code",
   "execution_count": 139,
   "metadata": {},
   "outputs": [],
   "source": [
    "cc = ['Total Abandono - Médio', 'Localização']"
   ]
  },
  {
   "cell_type": "code",
   "execution_count": 140,
   "metadata": {},
   "outputs": [],
   "source": [
    "abd = rend_esc[cc[0]]"
   ]
  },
  {
   "cell_type": "code",
   "execution_count": 141,
   "metadata": {},
   "outputs": [],
   "source": [
    "loc = rend_esc[cc[1]]"
   ]
  },
  {
   "cell_type": "markdown",
   "metadata": {},
   "source": [
    "### Dividing abandonment rates by location (urban or rural)."
   ]
  },
  {
   "cell_type": "code",
   "execution_count": 142,
   "metadata": {},
   "outputs": [],
   "source": [
    "x1 = abd[loc=='Urbana']"
   ]
  },
  {
   "cell_type": "code",
   "execution_count": 143,
   "metadata": {},
   "outputs": [],
   "source": [
    "x2 = abd[loc=='Rural']"
   ]
  },
  {
   "cell_type": "code",
   "execution_count": 144,
   "metadata": {},
   "outputs": [
    {
     "data": {
      "text/plain": [
       "True"
      ]
     },
     "execution_count": 144,
     "metadata": {},
     "output_type": "execute_result"
    }
   ],
   "source": [
    "len(x1) + len(x2) == len(abd)"
   ]
  },
  {
   "cell_type": "markdown",
   "metadata": {},
   "source": [
    "### Droping missing values for both samples."
   ]
  },
  {
   "cell_type": "code",
   "execution_count": 145,
   "metadata": {},
   "outputs": [],
   "source": [
    "x1.dropna(inplace=True)"
   ]
  },
  {
   "cell_type": "code",
   "execution_count": 146,
   "metadata": {},
   "outputs": [],
   "source": [
    "x2.dropna(inplace=True)"
   ]
  },
  {
   "cell_type": "markdown",
   "metadata": {},
   "source": [
    "## Hiphotesis:\n",
    "\n",
    "1. Null: Average high school abandonment is the same in urban and rural areas - Ho: u1 - u2 = 0\n",
    "2. Alternative: Average high school abandonment is higher in rural areas than in urban areas - H1: u1 - u2 < 0"
   ]
  },
  {
   "cell_type": "markdown",
   "metadata": {},
   "source": [
    "#### We can divide our sample of high school abandonment rate by location (urban or rural area) and test wether the average abandonment rates for the two are equal or if one has higher rates than the other. In order to do that, we need to split the sample into the two groups, estimate the average and variance of each and calculate their sizes."
   ]
  },
  {
   "cell_type": "code",
   "execution_count": 114,
   "metadata": {},
   "outputs": [],
   "source": [
    "n1 = len(x1)         # sizes\n",
    "n2 = len(x2)"
   ]
  },
  {
   "cell_type": "code",
   "execution_count": 115,
   "metadata": {},
   "outputs": [],
   "source": [
    "u1 = x1.mean()       # averages\n",
    "u2 = x2.mean()\n",
    "\n",
    "s1 = x1.var()        # variances\n",
    "s2 = x2.var()"
   ]
  },
  {
   "cell_type": "code",
   "execution_count": 116,
   "metadata": {},
   "outputs": [
    {
     "data": {
      "text/plain": [
       "[10731, 457, 5.342, 6.334, 58.461, 58.323]"
      ]
     },
     "execution_count": 116,
     "metadata": {},
     "output_type": "execute_result"
    }
   ],
   "source": [
    "[round(i, 3) for i in [n1, n2, u1, u2, s1, s2]]"
   ]
  },
  {
   "cell_type": "markdown",
   "metadata": {},
   "source": [
    "#### We can see that the urban sample have lower average of high school abandonment. The question at this point should be, is the difference high enough for us to reject that the averages are equal? That's what we are going to test."
   ]
  },
  {
   "cell_type": "code",
   "execution_count": 37,
   "metadata": {},
   "outputs": [],
   "source": [
    "from scipy import stats"
   ]
  },
  {
   "cell_type": "markdown",
   "metadata": {},
   "source": [
    "### Considering equal variances for populations 1 and 2."
   ]
  },
  {
   "cell_type": "markdown",
   "metadata": {},
   "source": [
    "#### As we want to test wether two averages are equal or not and we are considering equal population variances, the appropriate test is the two-sample t-test."
   ]
  },
  {
   "cell_type": "code",
   "execution_count": 107,
   "metadata": {},
   "outputs": [],
   "source": [
    "Sp = (s1*(n1 - 1) + s2*(n2 - 1)) / (n1 + n2 - 2)"
   ]
  },
  {
   "cell_type": "code",
   "execution_count": 108,
   "metadata": {},
   "outputs": [],
   "source": [
    "v = n1 + n2 - 2"
   ]
  },
  {
   "cell_type": "code",
   "execution_count": 109,
   "metadata": {},
   "outputs": [],
   "source": [
    "t = (u1 - u2) / (Sp * np.sqrt( 1/n1 + 1/n2 ))      # Test Statistic"
   ]
  },
  {
   "cell_type": "code",
   "execution_count": 110,
   "metadata": {},
   "outputs": [
    {
     "data": {
      "text/plain": [
       "[58.455, 11186, -0.355]"
      ]
     },
     "execution_count": 110,
     "metadata": {},
     "output_type": "execute_result"
    }
   ],
   "source": [
    "[round(i, 3) for i in [Sp, v, t]]"
   ]
  },
  {
   "cell_type": "code",
   "execution_count": 111,
   "metadata": {},
   "outputs": [
    {
     "data": {
      "text/plain": [
       "0.3612292735288897"
      ]
     },
     "execution_count": 111,
     "metadata": {},
     "output_type": "execute_result"
    }
   ],
   "source": [
    "P = stats.t(v).cdf(t)\n",
    "P"
   ]
  },
  {
   "cell_type": "markdown",
   "metadata": {},
   "source": [
    "#### The value of the test statistic t is inside the confidence interval t > 0.05, therefore we cannot reject the null hiphotesis. What this result means is that, if we have in fact no difference between urban/rural averages, differences lower than the one we got would appear only 36.1% of the time. We would only reject if we could find a difference in average outside the confidence interval, that is, the region of differences that appear 5% of the time, when the true population average is 0."
   ]
  },
  {
   "cell_type": "markdown",
   "metadata": {},
   "source": [
    "#### This result indicates that we can not reject that the urban/rural averages of high school abandonment might be equal against it being higher. Therefore we cannot tell if the higher value that we see for rural areas between our two samples is due to random chance or if the rural population indeed has higher school abandonment rates."
   ]
  },
  {
   "cell_type": "code",
   "execution_count": 183,
   "metadata": {},
   "outputs": [
    {
     "data": {
      "text/plain": [
       "-1.644989859395418"
      ]
     },
     "execution_count": 183,
     "metadata": {},
     "output_type": "execute_result"
    }
   ],
   "source": [
    "t_alfa = stats.t(v).ppf(0.05)\n",
    "t_alfa"
   ]
  },
  {
   "cell_type": "code",
   "execution_count": 184,
   "metadata": {},
   "outputs": [
    {
     "data": {
      "text/plain": [
       "-4.5928612897010135"
      ]
     },
     "execution_count": 184,
     "metadata": {},
     "output_type": "execute_result"
    }
   ],
   "source": [
    "u_alfa = t_alfa * (Sp * np.sqrt( 1/n1 + 1/n2 ))\n",
    "u_alfa"
   ]
  },
  {
   "cell_type": "markdown",
   "metadata": {},
   "source": [
    "#### We can only reject that the average abandonment rates are the same (Ho) if the rural rate of our sample is at least 4.6 percent higher than the urban rate. As the difference between u1 and u2 is negative this 4.6 value would correspond to the left limit of the 0.95 confidance region, below which we would reject our hiphotesis."
   ]
  },
  {
   "cell_type": "markdown",
   "metadata": {},
   "source": [
    "### Considering different variances."
   ]
  },
  {
   "cell_type": "code",
   "execution_count": 99,
   "metadata": {},
   "outputs": [],
   "source": [
    "v = (s1/n1 + s2/n2)**2 / ((s1/n1)**2 / (n1-1) + (s2/n2)**2 / (n2-1))"
   ]
  },
  {
   "cell_type": "code",
   "execution_count": 100,
   "metadata": {},
   "outputs": [],
   "source": [
    "t = (u1 - u2) / np.sqrt( s1/n1 + s2/n2 )      # Test Statistic"
   ]
  },
  {
   "cell_type": "code",
   "execution_count": 101,
   "metadata": {},
   "outputs": [
    {
     "data": {
      "text/plain": [
       "[495.724, -2.719]"
      ]
     },
     "execution_count": 101,
     "metadata": {},
     "output_type": "execute_result"
    }
   ],
   "source": [
    "[round(i, 3) for i in [v, t]]"
   ]
  },
  {
   "cell_type": "code",
   "execution_count": 102,
   "metadata": {},
   "outputs": [
    {
     "data": {
      "text/plain": [
       "0.0033936756430419024"
      ]
     },
     "execution_count": 102,
     "metadata": {},
     "output_type": "execute_result"
    }
   ],
   "source": [
    "stats.t(int(v)).cdf(t)"
   ]
  },
  {
   "cell_type": "markdown",
   "metadata": {},
   "source": [
    "#### This result indicates that we should in fact reject that the urban/rural averages of high school abandonment are equal in favor of rural areas having higher rates, as the result is lower than 0.05, our confidence level. We estimated close variances for the two groups (s1 = 58.461, s2 = 58.323). This indicates that their true variances might be equal and that we should trust our first test result. But in order to be sure, the variances of the two samples should also be tested, to confirm wether they are equivalent or not."
   ]
  },
  {
   "cell_type": "markdown",
   "metadata": {},
   "source": [
    "## Plotting"
   ]
  },
  {
   "cell_type": "code",
   "execution_count": 117,
   "metadata": {},
   "outputs": [],
   "source": [
    "import matplotlib.pyplot as plt\n",
    "import seaborn as sns"
   ]
  },
  {
   "cell_type": "code",
   "execution_count": 149,
   "metadata": {},
   "outputs": [
    {
     "data": {
      "text/plain": [
       "(array([8.464e+03, 1.726e+03, 3.770e+02, 1.220e+02, 3.000e+01, 9.000e+00,\n",
       "        1.000e+00, 0.000e+00, 0.000e+00, 2.000e+00]),\n",
       " array([  0.,  10.,  20.,  30.,  40.,  50.,  60.,  70.,  80.,  90., 100.]),\n",
       " <a list of 10 Patch objects>)"
      ]
     },
     "execution_count": 149,
     "metadata": {},
     "output_type": "execute_result"
    },
    {
     "data": {
      "image/png": "[encoded data removed]",
      "text/plain": [
       "<Figure size 432x288 with 2 Axes>"
      ]
     },
     "metadata": {
      "needs_background": "light"
     },
     "output_type": "display_data"
    }
   ],
   "source": [
    "f = np.linspace()\n",
    "\n",
    "fig = plt.figure()\n",
    "ax0 = fig.add_subplot(1, 2, 1)\n",
    "ax1 = fig.add_subplot(1, 2, 2)\n",
    "\n",
    "ax0.hist(x2**(1/5))\n",
    "ax1.hist(x1)"
   ]
  },
  {
   "cell_type": "code",
   "execution_count": null,
   "metadata": {},
   "outputs": [],
   "source": []
  }
 ],
 "metadata": {
  "kernelspec": {
   "display_name": "Python 3",
   "language": "python",
   "name": "python3"
  },
  "language_info": {
   "codemirror_mode": {
    "name": "ipython",
    "version": 3
   },
   "file_extension": ".py",
   "mimetype": "text/x-python",
   "name": "python",
   "nbconvert_exporter": "python",
   "pygments_lexer": "ipython3",
   "version": "3.8.3"
  }
 },
 "nbformat": 4,
 "nbformat_minor": 4
}
