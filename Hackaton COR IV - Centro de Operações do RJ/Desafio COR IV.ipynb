{
 "cells": [
  {
   "cell_type": "markdown",
   "metadata": {},
   "source": [
    "### Reunião Ascon:\n",
    "    1. Quem seria o principal coordenador de eventos da cidade? Secretaria de eventos\n",
    "    1. Existe algum sistema pra coordenar os grandes eventos culturais de forma unificaada?  ***\n",
    "    2. Se sim, esse sistema cruza informa~ções meteorológicas?  ***\n",
    "    2. secretaria usa automatização pra decidir os eventos relevantes?\n",
    "    4. a secretaria traz demandas operacionais quando traz os eventos de reevancia?  ****\n",
    "    3. Cabe ao cor comunicar em caso de emergencias?\n",
    "    \n",
    "    5. Qual o melhor catalogo de alagamentos da cidde?\n",
    "    \n",
    "1. Classificação da clf pra eventos, já existe.\n",
    "2. Carioca digital site da prefeitura\n",
    "3. Secretaria de eventos, rio tour chamam o cor, dependendo de critérios pra aprovação\n",
    "5. Secretaria manda as info dos eventos para o cor\n",
    "6. Reunião de alinhamento com o cor para eventos de impacto, inclusive orgnizaação do evento\n",
    "7. Após reunião, sai formado um grupo de whatssap com organizadores e cor\n",
    "8. Em caso de chuvas, emergencias, a comunicação/orientações é feita pelo grupo, de forma maias ampla, menos especifica\n",
    "9. Operação ralo-limpo (top 50 alagamentos). base de conhecimento - base comando\n",
    "10. "
   ]
  },
  {
   "cell_type": "markdown",
   "metadata": {},
   "source": [
    "* O que posso fazer:\n",
    "    1. Responder a pergunta: os dados disponíveis são suficientes pra resolver nosso problema?\n",
    "    2. Se sim, Temos um modelo!\n",
    "    3. Se não, incluir dados de fontes externas, ai temos um modelo.\n",
    "    4. Levantar possibilidades de integrar do modelo com o contexto que ele está inserido (operação existente do cor, sociedade, populações vulneráveis)\n",
    "\n",
    "* O que falar com os mentores:\n",
    "    3. Alem da construção do modelo, o modelo tem que ser integrado em seu contexto (cor) de alguma forma. Exmplo via recurso em algum aplicativo,ou então plataforma/software próprio para oferecimento da funcionalidae. Qual seria o formato ideal para integração de um modelo preditivo ao cor? Seria uma plataforma para os agentes acompanharem as previsões?\n",
    "    4. Em quem tem que chegar essa informação (previsões de risco ou identificação de ocorrência)? Aos agentes do cor?\n",
    "    5. Por onde essa informação poderia chegar de preferencia? plataforma propria? integrado a algum sistema existente do cor via api?\n",
    "    6. O que o agente faz com a informação? Repassa para os orgãos ? Segue algum protocolo dependendo do risco e ocorrência?\n",
    "    7."
   ]
  },
  {
   "cell_type": "markdown",
   "metadata": {},
   "source": [
    "Perguntas aos mentores:\n",
    "    Sobre a integração do modelo com o cor:\n",
    "        1. Quem vai receber as previsões de risco ? (agentes do cor, de outros orgãos, população)\n",
    "        2. O que vai ser feito com as previsões por parte de quem receber ? (incluir automatização das tarefas, principalmente da comunicação).\n",
    "        3. Seria mais interessante oferecer O produto (modelo de risco + automatização) em plataforma propria ou integrado à sistemas existentes (via API)?\n",
    "        4. "
   ]
  },
  {
   "cell_type": "markdown",
   "metadata": {},
   "source": [
    "Para definir:\n",
    "    1. Qual tipo de evento prever: deslizamento, alagamento de via ou nível de rios?\n",
    "    2. Disponibilizar as previsões (+ automações) em plataforma própria ou integrada a sistemas existentes do cor (via api)?\n",
    "    2. Podemos automatizar a comunicação do risco de outras formas além de mensagem de texto? (email, ligação, acionamento de orgãos, )"
   ]
  },
  {
   "cell_type": "markdown",
   "metadata": {},
   "source": [
    "### Desafios:\n",
    "\n",
    "1. Como identificar em **tempo real** o **risco e a ocorrência** de **deslizamentos** através de tecnologia de **baixo custo**?\n",
    "2. Como prever a **formação e o escoamento** de **acúmulos d’água em vias urbanas**?\n",
    "3. Como prever o **nível de rios, lagoas ou reservatórios** a partir de **dados pluviométricos** em **tempo real**?\n",
    "4. Como **ampliar** a **utilização de satélites** no **monitoramento sensorial** da cidade (ex: Imagens tipo SAR para mapeamento de danos e áreas inundadas; satélites ópticos para monitoramento de qualidade de água)?\n",
    "5. Como **acelerar** a **identificação e avaliação dos riscos** das **áreas mais vulneráveis** aos impactos das mudanças climáticas(ressaca, inundações e deslizamentos) com bases em ciência de dados?\n",
    "6. Como **identificar, quantificar ou reduzir** o **impacto** do **descarte de resíduos sólidos** **durante eventos de chuva forte**?     "
   ]
  },
  {
   "cell_type": "markdown",
   "metadata": {},
   "source": [
    "### Roteiro:\n",
    "1. Avaliação do potencial preditivo dos dados disponíveis para: Deslizamentos, alagamentos de vias, nível de cursos d'água (ddos pluviométricos)\n",
    "2. Avaliação do potencial de aplicação de dados de satélite.\n",
    "    1. Imagens tipo SAR para **mapeamento** de **danos** e **áreas inundadas**\n",
    "    2. Satélites ópticos para monitoramento de qualidade de água"
   ]
  },
  {
   "cell_type": "markdown",
   "metadata": {},
   "source": [
    "### Notas:\n",
    "    1. Pesquisar aplicação do uso dos dados de satélite mencionados.\n",
    "    2. Pesquisar casos/produtos para previsão de deslizamentos, alagamentos, nivel cursos dagua"
   ]
  }
 ],
 "metadata": {
  "kernelspec": {
   "display_name": "Python 3",
   "language": "python",
   "name": "python3"
  },
  "language_info": {
   "codemirror_mode": {
    "name": "ipython",
    "version": 3
   },
   "file_extension": ".py",
   "mimetype": "text/x-python",
   "name": "python",
   "nbconvert_exporter": "python",
   "pygments_lexer": "ipython3",
   "version": "3.8.3"
  }
 },
 "nbformat": 4,
 "nbformat_minor": 4
}
