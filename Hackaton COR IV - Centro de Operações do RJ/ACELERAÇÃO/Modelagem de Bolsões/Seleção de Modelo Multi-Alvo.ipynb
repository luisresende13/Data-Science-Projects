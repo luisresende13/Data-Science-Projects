{
 "cells": [
  {
   "cell_type": "markdown",
   "metadata": {},
   "source": [
    "# WATER BAG PREDICTION - Model Selection"
   ]
  },
  {
   "cell_type": "markdown",
   "metadata": {},
   "source": [
    "---\n",
    "## Define Functions"
   ]
  },
  {
   "cell_type": "markdown",
   "metadata": {},
   "source": [
    "#### Change project root directory"
   ]
  },
  {
   "cell_type": "code",
   "execution_count": 1,
   "metadata": {},
   "outputs": [
    {
     "name": "stdout",
     "output_type": "stream",
     "text": [
      "C:\\Users\\luisr\\Desktop\\Repositories\\Data Science Projects\\Hackaton COR IV - Centro de Operações do RJ\\ACELERAÇÃO\n"
     ]
    }
   ],
   "source": [
    "cd ../"
   ]
  },
  {
   "cell_type": "markdown",
   "metadata": {},
   "source": [
    "#### Import modules and libraries"
   ]
  },
  {
   "cell_type": "code",
   "execution_count": 2,
   "metadata": {},
   "outputs": [
    {
     "name": "stderr",
     "output_type": "stream",
     "text": [
      "c:\\Users\\luisr\\anaconda3\\lib\\site-packages\\setuptools\\distutils_patch.py:25: UserWarning: Distutils was imported before Setuptools. This usage is discouraged and may exhibit undesirable behaviors or errors. Please use Setuptools' objects directly or at least import Setuptools first.\n",
      "  warnings.warn(\n"
     ]
    }
   ],
   "source": [
    "import os, json, pandas as pd, numpy as np, pickle\n",
    "import matplotlib.pyplot as plt, seaborn as sns; sns.set()\n",
    "from IPython.display import clear_output as co\n",
    "\n",
    "#### Time serie features transformation pipeline & binary classification pipeline (Authoral)\n",
    "from Modulos.timeserie_transform import TimeseriesTransformPipeline\n",
    "from Modulos.imbalanced_selection import groupConsecutiveFlags, MinorityGroupSplitUndersample, groupSplitGridSearch\n",
    "from Modulos.cv_samplers import GroupUnderSampleSplit, print_cls_cnt\n",
    "\n",
    "#### Imbalanced preprocessing & learning modules\n",
    "from scipy.stats import loguniform\n",
    "from imblearn.under_sampling import RandomUnderSampler\n",
    "from imblearn.over_sampling import RandomOverSampler\n",
    "from imblearn.pipeline import Pipeline\n",
    "\n",
    "#### Preprocessing & machine learning modules\n",
    "from sklearn.utils import all_estimators\n",
    "from sklearn.preprocessing import MinMaxScaler as mms\n",
    "from sklearn.model_selection import cross_validate, cross_val_score, GridSearchCV\n",
    "\n",
    "#  Classifier colleciton\n",
    "classifiers = dict(all_estimators('classifier'))\n",
    "\n",
    "#### Metrics and scoring functions\n",
    "from sklearn.metrics import (\n",
    "    make_scorer, recall_score, precision_score,\n",
    "    f1_score, precision_recall_fscore_support,\n",
    "    classification_report as cr\n",
    ")\n",
    "\n",
    "recall_0 = make_scorer(recall_score, pos_label=0)\n",
    "recall_1 = make_scorer(recall_score, pos_label=1)\n",
    "precision_0 = make_scorer(precision_score, pos_label=0)\n",
    "precision_1 = make_scorer(precision_score, pos_label=1)\n",
    "f1_0 = make_scorer(f1_score, pos_label=0)\n",
    "f1_1 = make_scorer(f1_score, pos_label=1)\n",
    "\n",
    "scoring = {\n",
    "    'recall-0': recall_0, 'recall-1': recall_1,\n",
    "    'precision-0': precision_0, 'precision-1': precision_1,\n",
    "    'f1-0': f1_0, 'f1-1': f1_1\n",
    "}"
   ]
  },
  {
   "cell_type": "markdown",
   "metadata": {},
   "source": [
    "### Custom functions"
   ]
  },
  {
   "cell_type": "code",
   "execution_count": 3,
   "metadata": {},
   "outputs": [],
   "source": [
    "def split_report(Y, yt, ye):\n",
    "    cnts = [yt.value_counts(norm).to_frame('Class Count') for norm in (False, True)]\n",
    "    print('\\nTrain folder'); display(pd.concat(cnts, 1))\n",
    "    cnts = [ye.value_counts(norm).to_frame('Class Count') for norm in (False, True)]\n",
    "    print('\\nValidation folder'); display(pd.concat(cnts, 1))\n",
    "\n",
    "    eval_size = len(ye) / len(Y) * 100\n",
    "    eval_minority = (ye==1).sum() / (Y==1).sum() * 100\n",
    "    train_minority = (ye==0).sum() / (Y==0).sum() * 100\n",
    "    eval_stats = pd.DataFrame(\n",
    "        [eval_size, train_minority, eval_minority],\n",
    "        ['Samples left', 'Negative Samples left', 'Positive Samples left'],\n",
    "        ['Validation (%)'],\n",
    "    ).round(2)\n",
    "    display(eval_stats)\n",
    "\n",
    "from sklearn.metrics import precision_recall_curve\n",
    "\n",
    "def precision_recall_plot(ye, yprob, threshold=None):\n",
    "    \n",
    "    curve = pd.DataFrame(\n",
    "        precision_recall_curve(ye, yprob, pos_label=1),\n",
    "        index=['precision', 'recall', 'threshold']\n",
    "    ).T.set_index('threshold').add_suffix(f' - 1')\n",
    "    curve['f1 - 1'] = curve.mean(1)\n",
    "    prec, rec = curve['precision - 1'], curve['recall - 1']\n",
    "    curve['harmonic mean - 1'] = 2 * prec * rec / (prec + rec)\n",
    "#     display(harmonic_mean.sort_values(ascending=False).head(harmonic).to_frame('Harmonic mean'))\n",
    "    \n",
    "    fig, ax = plt.subplots(1, 2, figsize=(12, 3.5))\n",
    "    curve.plot(ax=ax[0]); curve.reset_index().plot('recall - 1', ['precision - 1', 'threshold', 'f1 - 1', 'harmonic mean - 1'], ax=ax[1])\n",
    "    ax[1].set(title='Precision Recall Curve')\n",
    "\n",
    "        \n",
    "    if threshold is not None:\n",
    "        yhat_fix = (yprob > threshold).astype('int')\n",
    "        scr = pd.DataFrame(cr(ye, yhat_fix, digits=4, output_dict=True)).T\n",
    "        return ax, scr\n",
    "    return ax\n",
    "\n",
    "def classifier_evaluation(model, xe, ye, threshold=None, flat_score=False):\n",
    "    try: yprob = pd.Series(model.predict_proba(xe)[:, 1], index=xe.index)\n",
    "    except:\n",
    "        try: yprob = pd.Series(model.decision_function(xe), index=xe.index)\n",
    "        except: yprob = pd.Series(model.predict(xe), index=xe.index)\n",
    "    ax = precision_recall_plot(ye, yprob, threshold=None); plt.show()\n",
    "    if threshold is None:\n",
    "        threshold = float(input('Select decision threshold:'))\n",
    "    yhat = (yprob >= threshold).astype('int')\n",
    "    scr = pd.DataFrame(\n",
    "        precision_recall_fscore_support(ye, yhat),\n",
    "        index=['precision', 'recall', 'f1', 'support']\n",
    "    ).T; display(scr)\n",
    "    if flat_score:\n",
    "        scr = pd.concat([scr.loc[label].add_suffix('-' + str(label)) for label in [0, 1]], 0)\n",
    "    return scr, threshold\n",
    "\n",
    "#### Grid search classification score visualization function\n",
    "\n",
    "def classifier_scr_grid_plot(scr_grid, figsize=(14, 4), share_y=True, param_name='param_gbc__n_estimators', ax_params={}):\n",
    "    fig, ax = plt.subplots(1, 2, True, share_y, figsize=figsize)\n",
    "    train_cols = ['mean_train_precision-1', 'mean_train_recall-1', 'mean_train_f1-1']\n",
    "    test_cols = ['mean_test_precision-1', 'mean_test_recall-1', 'mean_test_f1-1']\n",
    "    scr_grid.set_index(param_name)[train_cols].plot(ax=ax[0])\n",
    "    scr_grid.set_index(param_name)[test_cols].plot(ax=ax[1])\n",
    "    for axe in ax: axe.set(**ax_params)\n",
    "    plt.show()"
   ]
  },
  {
   "cell_type": "markdown",
   "metadata": {},
   "source": [
    "#### Save model + metadata function"
   ]
  },
  {
   "cell_type": "code",
   "execution_count": 4,
   "metadata": {},
   "outputs": [],
   "source": [
    "def save_model(model_info, path):\n",
    "    model_path = path + model_info['name'] + '-' + model_info['id'] + '/'\n",
    "    if not os.path.exists(model_path):\n",
    "        os.makedirs(model_path)\n",
    "    model_file = model_path + 'model_' + model_info['id'] + '.pickle'\n",
    "    pickle.dump(final_model, open(model_file, 'wb'))\n",
    "    \n",
    "    str_info = []\n",
    "    for key in model_info.keys():\n",
    "        if type(model_info[key]) is str: str_info.append(key)\n",
    "        elif type(model_info[key]) is pd.DataFrame:\n",
    "            score_file = model_path + key + '_' + model_info['id'] + '.csv'\n",
    "            model_info[key].to_csv(score_file, index=True)\n",
    "            \n",
    "    with open(model_path + 'metadata.json', 'w') as file:\n",
    "        file.write(json.dumps({key: model_info[key] for key in str_info}))"
   ]
  },
  {
   "cell_type": "markdown",
   "metadata": {},
   "source": [
    "#### Select and split target from dataset"
   ]
  },
  {
   "cell_type": "code",
   "execution_count": 5,
   "metadata": {},
   "outputs": [],
   "source": [
    "def select_target(target_id, periods_ahead=4, report=True):\n",
    "\n",
    "    print(f'Selected target: {target_names[int(target_id)]} - id: {target_id}', '\\n')\n",
    "\n",
    "    # Select target\n",
    "    Y = Yi[str(target_id)].loc[X.index].copy()\n",
    "    if report: display(Y.value_counts().to_frame('Target'))\n",
    "\n",
    "    ### Target transformation\n",
    "    if periods_ahead is not None:\n",
    "        Y = (Y.rolling(periods_ahead, closed='left', min_periods=1).sum().shift(-periods_ahead + 1) > 0).astype('float')\n",
    "        if report: display(Y.value_counts().to_frame('Transformed Target'))\n",
    "\n",
    "    # Group target positive class labels by being consecutive in time (group evaluation strategy)\n",
    "    groups = groupConsecutiveFlags(ts=Y)\n",
    "\n",
    "    # Target validation split\n",
    "    yt = Y.loc[xt.index]\n",
    "    ye = Y.loc[xe.index]\n",
    "    groups_train = groups.loc[xt.index]\n",
    "    groups_eval = groups.loc[xe.index]\n",
    "\n",
    "    ### Validation statistics\n",
    "    if report: split_report(Y, yt, ye)\n",
    "        \n",
    "    return Y, yt, ye, groups, groups_train, groups_eval"
   ]
  },
  {
   "cell_type": "markdown",
   "metadata": {},
   "source": [
    "#### Cross validate undersample pipeline"
   ]
  },
  {
   "cell_type": "code",
   "execution_count": 6,
   "metadata": {},
   "outputs": [],
   "source": [
    "def undersample_cross_validation(model, train_prct):\n",
    "    # undersample pipeline\n",
    "    if train_prct=='natural': train_prct = yt.mean() / (1 - yt.mean())\n",
    "    steps = [\n",
    "        ('under', RandomUnderSampler(sampling_strategy=train_prct, random_state=0)),\n",
    "        ('model', model)\n",
    "    ]; pipe = Pipeline(steps=steps)\n",
    "    # cross-validation split\n",
    "    cv_group = splitter.split(xt, yt, groups_train, strategy)\n",
    "    # evaluate splits\n",
    "    return pd.DataFrame(cross_validate(\n",
    "        pipe, xt, yt, groups=groups_train,\n",
    "        scoring=scoring, cv=cv_group,\n",
    "        n_jobs=-1, verbose=5,\n",
    "        pre_dispatch='2*n_jobs',\n",
    "        return_train_score=True,\n",
    "    ))"
   ]
  },
  {
   "cell_type": "markdown",
   "metadata": {},
   "source": [
    "---\n",
    "## Load & Preprocess Data"
   ]
  },
  {
   "cell_type": "code",
   "execution_count": 7,
   "metadata": {},
   "outputs": [],
   "source": [
    "from Modulos.waterbags import waterbag_project\n",
    "\n",
    "project = waterbag_project(time_serie='clusters', freq='upsample', load_waterbags=True)\n",
    "\n",
    "data = project.data\n",
    "Yi = project.time_serie.drop('-1', 1)\n",
    "waterbags = project.waterbags\n",
    "\n",
    "# Sample groups names per group label\n",
    "target_names = waterbags.groupby(['sublabel', 'main_route']).first().index.to_frame().set_index('sublabel').to_dict()['main_route']\n",
    "\n",
    "# Project and model deployment paths\n",
    "path_project = 'API Deploy/'\n",
    "path_models = 'API Deploy/Modelos/'"
   ]
  },
  {
   "cell_type": "markdown",
   "metadata": {},
   "source": [
    "---\n",
    "# Feature and target selection"
   ]
  },
  {
   "cell_type": "markdown",
   "metadata": {},
   "source": [
    "### Feature set"
   ]
  },
  {
   "cell_type": "code",
   "execution_count": 8,
   "metadata": {},
   "outputs": [
    {
     "name": "stdout",
     "output_type": "stream",
     "text": [
      "Initial data: (437875, 230)\n",
      "Time extraction: (142866, 230)\n",
      "Drop empty columns:  (142865, 217)\n"
     ]
    }
   ],
   "source": [
    "train_start, train_end = '2018-06', '2021-10'\n",
    "eval_start, eval_end = '2021-11', '2022-04'\n",
    "\n",
    "transform_args = dict(\n",
    "    scale=True, interpolate='nearest', fillna='min'\n",
    ")\n",
    "\n",
    "# Select feature set\n",
    "X = TimeseriesTransformPipeline(\n",
    "    data, train_start, cut=-1,\n",
    "    drop_empty_cols=True,\n",
    "    **transform_args,\n",
    "); X = X[: eval_end]\n",
    "\n",
    "# Validation split\n",
    "xt = X[:train_end]\n",
    "xe = X[eval_start: eval_end]"
   ]
  },
  {
   "cell_type": "markdown",
   "metadata": {},
   "source": [
    "### Save feature set deployment information"
   ]
  },
  {
   "cell_type": "code",
   "execution_count": 9,
   "metadata": {},
   "outputs": [
    {
     "name": "stdout",
     "output_type": "stream",
     "text": [
      "Initial data: (437875, 230)\n",
      "Time extraction: (142866, 230)\n",
      "Drop empty columns:  (142865, 217)\n"
     ]
    }
   ],
   "source": [
    "# Select raw feature set for preprocessing\n",
    "X_raw = TimeseriesTransformPipeline( # Must use untransformed data to perform filtering fiter\n",
    "    data, train_start, cut=-1,\n",
    "    drop_empty_cols=True, scale=False,\n",
    "    interpolate=None, fillna=None\n",
    "); X_raw = X_raw[: eval_end]\n",
    "\n",
    "# Save Features description\n",
    "if path_project is not None:\n",
    "    X_info = X_raw.describe().loc[['min', 'max', 'mean']].T\n",
    "#     X_info.to_csv(path_project + 'deploy_info.csv', index=True)"
   ]
  },
  {
   "cell_type": "markdown",
   "metadata": {},
   "source": [
    "### Pipeline & target loop parameters"
   ]
  },
  {
   "cell_type": "code",
   "execution_count": 30,
   "metadata": {},
   "outputs": [],
   "source": [
    "seed = 0\n",
    "periods_ahead = 4\n",
    "\n",
    "LinearSVC = classifiers['LinearSVC']\n",
    "model = LinearSVC(C=1.0, random_state=seed)\n",
    "\n",
    "splitter = MinorityGroupSplitUndersample(\n",
    "    n_splits=5,\n",
    "    train_size=0.79, test_size=0.20, # Not used if minority split strategy is GroupKFold\n",
    "    train_prct=None, test_prct='natural',\n",
    "    random_state=seed\n",
    "); strategy='GroupKFold'"
   ]
  },
  {
   "cell_type": "markdown",
   "metadata": {},
   "source": [
    "---\n",
    "# Class proportion tunning - Multi-target cross validation grid search"
   ]
  },
  {
   "cell_type": "code",
   "execution_count": 31,
   "metadata": {},
   "outputs": [],
   "source": [
    "scr_cols = ['train_recall-1', 'train_precision-1', 'train_f1-1', 'test_recall-1', 'test_precision-1', 'test_f1-1']"
   ]
  },
  {
   "cell_type": "markdown",
   "metadata": {},
   "source": [
    "### Class proportion optimization pipeline\n",
    "\n",
    "#### Steps:\n",
    "1. Tunning with cross validation on train data\n",
    "2. Test optimal parameter on validation data\n",
    "3. Tunning with cross validation on train + validation data (final model parameters)\n",
    "\n",
    "Obs: It will be assumed that parameters found by tunning on train + validation data will work for novel data, as the ones found by tunning on train data worked for the validation data."
   ]
  },
  {
   "cell_type": "code",
   "execution_count": 58,
   "metadata": {},
   "outputs": [
    {
     "name": "stdout",
     "output_type": "stream",
     "text": [
      "Selected target: Rua do Catete - id: 1 \n",
      "\n"
     ]
    }
   ],
   "source": [
    "target_id = '1'\n",
    "\n",
    "# def undersample_grid_search(model, train_prct):\n",
    "\n",
    "Y, yt, ye, groups, groups_train, groups_eval = select_target(target_id, periods_ahead, report=False)\n",
    "\n",
    "# cross-validation split\n",
    "cv_group = splitter.split(xt, yt, groups_train, strategy)\n",
    "\n",
    "# undersample pipeline\n",
    "    \n",
    "steps = [\n",
    "    ('under', RandomUnderSampler(sampling_strategy=None, random_state=0)),\n",
    "    ('model', model)\n",
    "]; pipe = Pipeline(steps=steps)"
   ]
  },
  {
   "cell_type": "code",
   "execution_count": 59,
   "metadata": {},
   "outputs": [
    {
     "name": "stdout",
     "output_type": "stream",
     "text": [
      "\n",
      " Parameter Grid: \n",
      "\n",
      "{'under__sampling_strategy': array([0.01 , 0.015, 0.02 , 0.025, 0.03 , 0.035, 0.04 , 0.045, 0.05 ,\n",
      "       0.055])}\n"
     ]
    }
   ],
   "source": [
    "train_prct = 'natural'\n",
    "n_params = 10\n",
    "param_range =  np.arange(.005, 0.2, 0.005)\n",
    "\n",
    "if train_prct=='natural': train_prct = yt.mean() / (1 - yt.mean())\n",
    "params = param_range[param_range > train_prct][: n_params]\n",
    "# params = np.arange(.015, .05, 0.005)\n",
    "\n",
    "# evaluate splits\n",
    "param_grid = {\n",
    "#         'under__sampling_strategy': loguniform(1 / major_prct, max_prct).ppf(np.linspace(0, 1, n_prcts)),\n",
    "    'under__sampling_strategy': params,\n",
    "}; print('\\n', 'Parameter Grid:', '\\n'); print(param_grid)"
   ]
  },
  {
   "cell_type": "code",
   "execution_count": 60,
   "metadata": {},
   "outputs": [
    {
     "name": "stdout",
     "output_type": "stream",
     "text": [
      "Fitting 5 folds for each of 10 candidates, totalling 50 fits\n",
      "\n",
      " Cross validation grid search (Train data): \n",
      "\n"
     ]
    },
    {
     "data": {
      "image/png": "[encoded data removed]",
      "text/plain": [
       "<Figure size 864x252 with 2 Axes>"
      ]
     },
     "metadata": {},
     "output_type": "display_data"
    }
   ],
   "source": [
    "### Evaluate pipeline\n",
    "grid_search = GridSearchCV(\n",
    "    pipe, param_grid, scoring=scoring, cv=cv_group,\n",
    "    n_jobs=-1, verbose=2, error_score='raise',\n",
    "    return_train_score=True, refit=False\n",
    ")\n",
    "grid_search = grid_search.fit(xt, yt)\n",
    "scr_grid = pd.DataFrame(grid_search.cv_results_)\n",
    "\n",
    "print('\\n', 'Cross validation grid search (Train data):', '\\n')\n",
    "classifier_scr_grid_plot(scr_grid, figsize=(12, 3.5), param_name='param_under__sampling_strategy')"
   ]
  },
  {
   "cell_type": "code",
   "execution_count": 62,
   "metadata": {},
   "outputs": [
    {
     "name": "stdin",
     "output_type": "stream",
     "text": [
      "Selected sampling strategy: 0.026\n"
     ]
    },
    {
     "name": "stderr",
     "output_type": "stream",
     "text": [
      "c:\\Users\\luisr\\anaconda3\\lib\\site-packages\\sklearn\\svm\\_base.py:985: ConvergenceWarning: Liblinear failed to converge, increase the number of iterations.\n",
      "  warnings.warn(\"Liblinear failed to converge, increase \"\n"
     ]
    },
    {
     "data": {
      "image/png": "[encoded data removed]",
      "text/plain": [
       "<Figure size 864x252 with 2 Axes>"
      ]
     },
     "metadata": {},
     "output_type": "display_data"
    },
    {
     "name": "stdin",
     "output_type": "stream",
     "text": [
      "Select decision threshold: .5\n"
     ]
    },
    {
     "data": {
      "text/html": [
       "<div>\n",
       "<style scoped>\n",
       "    .dataframe tbody tr th:only-of-type {\n",
       "        vertical-align: middle;\n",
       "    }\n",
       "\n",
       "    .dataframe tbody tr th {\n",
       "        vertical-align: top;\n",
       "    }\n",
       "\n",
       "    .dataframe thead th {\n",
       "        text-align: right;\n",
       "    }\n",
       "</style>\n",
       "<table border=\"1\" class=\"dataframe\">\n",
       "  <thead>\n",
       "    <tr style=\"text-align: right;\">\n",
       "      <th></th>\n",
       "      <th>precision</th>\n",
       "      <th>recall</th>\n",
       "      <th>f1</th>\n",
       "      <th>support</th>\n",
       "    </tr>\n",
       "  </thead>\n",
       "  <tbody>\n",
       "    <tr>\n",
       "      <th>0</th>\n",
       "      <td>0.995885</td>\n",
       "      <td>0.996289</td>\n",
       "      <td>0.996087</td>\n",
       "      <td>17245.0</td>\n",
       "    </tr>\n",
       "    <tr>\n",
       "      <th>1</th>\n",
       "      <td>0.483871</td>\n",
       "      <td>0.458015</td>\n",
       "      <td>0.470588</td>\n",
       "      <td>131.0</td>\n",
       "    </tr>\n",
       "  </tbody>\n",
       "</table>\n",
       "</div>"
      ],
      "text/plain": [
       "   precision    recall        f1  support\n",
       "0   0.995885  0.996289  0.996087  17245.0\n",
       "1   0.483871  0.458015  0.470588    131.0"
      ]
     },
     "metadata": {},
     "output_type": "display_data"
    },
    {
     "data": {
      "text/plain": [
       "(   precision    recall        f1  support\n",
       " 0   0.995885  0.996289  0.996087  17245.0\n",
       " 1   0.483871  0.458015  0.470588    131.0,\n",
       " 0.5)"
      ]
     },
     "execution_count": 62,
     "metadata": {},
     "output_type": "execute_result"
    }
   ],
   "source": [
    "pipe.steps[0][1].sampling_strategy = float(input('Selected sampling strategy:'))\n",
    "\n",
    "pipe.fit(xt, yt)\n",
    "\n",
    "classifier_evaluation(pipe, xe, ye)"
   ]
  },
  {
   "cell_type": "markdown",
   "metadata": {},
   "source": [
    "### Multiple target variable loop"
   ]
  },
  {
   "cell_type": "code",
   "execution_count": 12,
   "metadata": {},
   "outputs": [
    {
     "name": "stdout",
     "output_type": "stream",
     "text": [
      "Modeling target Rua Haddock Lobo - id: 14 \n",
      "\n"
     ]
    },
    {
     "data": {
      "text/html": [
       "<div>\n",
       "<style scoped>\n",
       "    .dataframe tbody tr th:only-of-type {\n",
       "        vertical-align: middle;\n",
       "    }\n",
       "\n",
       "    .dataframe tbody tr th {\n",
       "        vertical-align: top;\n",
       "    }\n",
       "\n",
       "    .dataframe thead th {\n",
       "        text-align: right;\n",
       "    }\n",
       "</style>\n",
       "<table border=\"1\" class=\"dataframe\">\n",
       "  <thead>\n",
       "    <tr style=\"text-align: right;\">\n",
       "      <th></th>\n",
       "      <th>Target</th>\n",
       "    </tr>\n",
       "  </thead>\n",
       "  <tbody>\n",
       "    <tr>\n",
       "      <th>0.0</th>\n",
       "      <td>137128</td>\n",
       "    </tr>\n",
       "    <tr>\n",
       "      <th>1.0</th>\n",
       "      <td>151</td>\n",
       "    </tr>\n",
       "  </tbody>\n",
       "</table>\n",
       "</div>"
      ],
      "text/plain": [
       "     Target\n",
       "0.0  137128\n",
       "1.0     151"
      ]
     },
     "metadata": {},
     "output_type": "display_data"
    },
    {
     "data": {
      "text/html": [
       "<div>\n",
       "<style scoped>\n",
       "    .dataframe tbody tr th:only-of-type {\n",
       "        vertical-align: middle;\n",
       "    }\n",
       "\n",
       "    .dataframe tbody tr th {\n",
       "        vertical-align: top;\n",
       "    }\n",
       "\n",
       "    .dataframe thead th {\n",
       "        text-align: right;\n",
       "    }\n",
       "</style>\n",
       "<table border=\"1\" class=\"dataframe\">\n",
       "  <thead>\n",
       "    <tr style=\"text-align: right;\">\n",
       "      <th></th>\n",
       "      <th>Transformed Target</th>\n",
       "    </tr>\n",
       "  </thead>\n",
       "  <tbody>\n",
       "    <tr>\n",
       "      <th>0.0</th>\n",
       "      <td>137065</td>\n",
       "    </tr>\n",
       "    <tr>\n",
       "      <th>1.0</th>\n",
       "      <td>214</td>\n",
       "    </tr>\n",
       "  </tbody>\n",
       "</table>\n",
       "</div>"
      ],
      "text/plain": [
       "     Transformed Target\n",
       "0.0              137065\n",
       "1.0                 214"
      ]
     },
     "metadata": {},
     "output_type": "display_data"
    },
    {
     "name": "stdout",
     "output_type": "stream",
     "text": [
      "\n",
      "Train folder\n"
     ]
    },
    {
     "data": {
      "text/html": [
       "<div>\n",
       "<style scoped>\n",
       "    .dataframe tbody tr th:only-of-type {\n",
       "        vertical-align: middle;\n",
       "    }\n",
       "\n",
       "    .dataframe tbody tr th {\n",
       "        vertical-align: top;\n",
       "    }\n",
       "\n",
       "    .dataframe thead th {\n",
       "        text-align: right;\n",
       "    }\n",
       "</style>\n",
       "<table border=\"1\" class=\"dataframe\">\n",
       "  <thead>\n",
       "    <tr style=\"text-align: right;\">\n",
       "      <th></th>\n",
       "      <th>Class Count</th>\n",
       "      <th>Class Count</th>\n",
       "    </tr>\n",
       "  </thead>\n",
       "  <tbody>\n",
       "    <tr>\n",
       "      <th>0.0</th>\n",
       "      <td>119743</td>\n",
       "      <td>0.998666</td>\n",
       "    </tr>\n",
       "    <tr>\n",
       "      <th>1.0</th>\n",
       "      <td>160</td>\n",
       "      <td>0.001334</td>\n",
       "    </tr>\n",
       "  </tbody>\n",
       "</table>\n",
       "</div>"
      ],
      "text/plain": [
       "     Class Count  Class Count\n",
       "0.0       119743     0.998666\n",
       "1.0          160     0.001334"
      ]
     },
     "metadata": {},
     "output_type": "display_data"
    },
    {
     "name": "stdout",
     "output_type": "stream",
     "text": [
      "\n",
      "Validation folder\n"
     ]
    },
    {
     "data": {
      "text/html": [
       "<div>\n",
       "<style scoped>\n",
       "    .dataframe tbody tr th:only-of-type {\n",
       "        vertical-align: middle;\n",
       "    }\n",
       "\n",
       "    .dataframe tbody tr th {\n",
       "        vertical-align: top;\n",
       "    }\n",
       "\n",
       "    .dataframe thead th {\n",
       "        text-align: right;\n",
       "    }\n",
       "</style>\n",
       "<table border=\"1\" class=\"dataframe\">\n",
       "  <thead>\n",
       "    <tr style=\"text-align: right;\">\n",
       "      <th></th>\n",
       "      <th>Class Count</th>\n",
       "      <th>Class Count</th>\n",
       "    </tr>\n",
       "  </thead>\n",
       "  <tbody>\n",
       "    <tr>\n",
       "      <th>0.0</th>\n",
       "      <td>17322</td>\n",
       "      <td>0.996892</td>\n",
       "    </tr>\n",
       "    <tr>\n",
       "      <th>1.0</th>\n",
       "      <td>54</td>\n",
       "      <td>0.003108</td>\n",
       "    </tr>\n",
       "  </tbody>\n",
       "</table>\n",
       "</div>"
      ],
      "text/plain": [
       "     Class Count  Class Count\n",
       "0.0        17322     0.996892\n",
       "1.0           54     0.003108"
      ]
     },
     "metadata": {},
     "output_type": "display_data"
    },
    {
     "data": {
      "text/html": [
       "<div>\n",
       "<style scoped>\n",
       "    .dataframe tbody tr th:only-of-type {\n",
       "        vertical-align: middle;\n",
       "    }\n",
       "\n",
       "    .dataframe tbody tr th {\n",
       "        vertical-align: top;\n",
       "    }\n",
       "\n",
       "    .dataframe thead th {\n",
       "        text-align: right;\n",
       "    }\n",
       "</style>\n",
       "<table border=\"1\" class=\"dataframe\">\n",
       "  <thead>\n",
       "    <tr style=\"text-align: right;\">\n",
       "      <th></th>\n",
       "      <th>Validation (%)</th>\n",
       "    </tr>\n",
       "  </thead>\n",
       "  <tbody>\n",
       "    <tr>\n",
       "      <th>Samples left</th>\n",
       "      <td>12.66</td>\n",
       "    </tr>\n",
       "    <tr>\n",
       "      <th>Negative Samples left</th>\n",
       "      <td>12.64</td>\n",
       "    </tr>\n",
       "    <tr>\n",
       "      <th>Positive Samples left</th>\n",
       "      <td>25.23</td>\n",
       "    </tr>\n",
       "  </tbody>\n",
       "</table>\n",
       "</div>"
      ],
      "text/plain": [
       "                       Validation (%)\n",
       "Samples left                    12.66\n",
       "Negative Samples left           12.64\n",
       "Positive Samples left           25.23"
      ]
     },
     "metadata": {},
     "output_type": "display_data"
    },
    {
     "data": {
      "text/html": [
       "<div>\n",
       "<style scoped>\n",
       "    .dataframe tbody tr th:only-of-type {\n",
       "        vertical-align: middle;\n",
       "    }\n",
       "\n",
       "    .dataframe tbody tr th {\n",
       "        vertical-align: top;\n",
       "    }\n",
       "\n",
       "    .dataframe thead th {\n",
       "        text-align: right;\n",
       "    }\n",
       "</style>\n",
       "<table border=\"1\" class=\"dataframe\">\n",
       "  <thead>\n",
       "    <tr style=\"text-align: right;\">\n",
       "      <th></th>\n",
       "      <th>Train set</th>\n",
       "      <th>Test set</th>\n",
       "    </tr>\n",
       "    <tr>\n",
       "      <th>Class</th>\n",
       "      <th></th>\n",
       "      <th></th>\n",
       "    </tr>\n",
       "  </thead>\n",
       "  <tbody>\n",
       "    <tr>\n",
       "      <th>0.0</th>\n",
       "      <td>90555</td>\n",
       "      <td>29187</td>\n",
       "    </tr>\n",
       "    <tr>\n",
       "      <th>1.0</th>\n",
       "      <td>121</td>\n",
       "      <td>39</td>\n",
       "    </tr>\n",
       "  </tbody>\n",
       "</table>\n",
       "</div>"
      ],
      "text/plain": [
       "       Train set  Test set\n",
       "Class                     \n",
       "0.0        90555     29187\n",
       "1.0          121        39"
      ]
     },
     "metadata": {},
     "output_type": "display_data"
    },
    {
     "name": "stdout",
     "output_type": "stream",
     "text": [
      "\n",
      " Parameter Grid: \n",
      "\n",
      "{'under__sampling_strategy': array([0.0013362 , 0.00197809, 0.00292834, 0.00433507, 0.00641759,\n",
      "       0.00950052, 0.01406445, 0.02082083, 0.03082291, 0.04562985,\n",
      "       0.06754987, 0.1       ])}\n",
      "Fitting 5 folds for each of 12 candidates, totalling 60 fits\n",
      "\n",
      " Cross validation grid search (Train data): \n",
      "\n"
     ]
    },
    {
     "data": {
      "image/png": "[encoded data removed]",
      "text/plain": [
       "<Figure size 864x252 with 2 Axes>"
      ]
     },
     "metadata": {},
     "output_type": "display_data"
    },
    {
     "name": "stdin",
     "output_type": "stream",
     "text": [
      "\n",
      "Optimal minority class proportion: 0.01\n"
     ]
    },
    {
     "data": {
      "text/html": [
       "<div>\n",
       "<style scoped>\n",
       "    .dataframe tbody tr th:only-of-type {\n",
       "        vertical-align: middle;\n",
       "    }\n",
       "\n",
       "    .dataframe tbody tr th {\n",
       "        vertical-align: top;\n",
       "    }\n",
       "\n",
       "    .dataframe thead th {\n",
       "        text-align: right;\n",
       "    }\n",
       "</style>\n",
       "<table border=\"1\" class=\"dataframe\">\n",
       "  <thead>\n",
       "    <tr style=\"text-align: right;\">\n",
       "      <th></th>\n",
       "      <th>Class Count</th>\n",
       "    </tr>\n",
       "  </thead>\n",
       "  <tbody>\n",
       "    <tr>\n",
       "      <th>0.0</th>\n",
       "      <td>16000</td>\n",
       "    </tr>\n",
       "    <tr>\n",
       "      <th>1.0</th>\n",
       "      <td>160</td>\n",
       "    </tr>\n",
       "  </tbody>\n",
       "</table>\n",
       "</div>"
      ],
      "text/plain": [
       "     Class Count\n",
       "0.0        16000\n",
       "1.0          160"
      ]
     },
     "metadata": {},
     "output_type": "display_data"
    },
    {
     "name": "stdout",
     "output_type": "stream",
     "text": [
      "\n",
      " Evaluation on validation data: \n",
      "\n",
      "      Iter       Train Loss   Remaining Time \n",
      "         1           0.0551            8.00s\n",
      "         2           0.0514            7.34s\n",
      "         3           0.0484            8.21s\n",
      "         4           0.0452            7.73s\n",
      "         5           0.0427            7.68s\n",
      "         6           0.0413            7.24s\n",
      "         7           0.0401            6.64s\n",
      "         8           0.0384            6.25s\n",
      "         9           0.0334            5.83s\n",
      "        10           0.0312            5.38s\n",
      "        20           0.0197            1.75s\n"
     ]
    },
    {
     "data": {
      "image/png": "[encoded data removed]",
      "text/plain": [
       "<Figure size 864x252 with 2 Axes>"
      ]
     },
     "metadata": {},
     "output_type": "display_data"
    },
    {
     "name": "stdin",
     "output_type": "stream",
     "text": [
      "Select decision threshold: .5\n"
     ]
    },
    {
     "data": {
      "text/html": [
       "<div>\n",
       "<style scoped>\n",
       "    .dataframe tbody tr th:only-of-type {\n",
       "        vertical-align: middle;\n",
       "    }\n",
       "\n",
       "    .dataframe tbody tr th {\n",
       "        vertical-align: top;\n",
       "    }\n",
       "\n",
       "    .dataframe thead th {\n",
       "        text-align: right;\n",
       "    }\n",
       "</style>\n",
       "<table border=\"1\" class=\"dataframe\">\n",
       "  <thead>\n",
       "    <tr style=\"text-align: right;\">\n",
       "      <th></th>\n",
       "      <th>precision</th>\n",
       "      <th>recall</th>\n",
       "      <th>f1</th>\n",
       "      <th>support</th>\n",
       "    </tr>\n",
       "  </thead>\n",
       "  <tbody>\n",
       "    <tr>\n",
       "      <th>0</th>\n",
       "      <td>0.997220</td>\n",
       "      <td>0.993938</td>\n",
       "      <td>0.995576</td>\n",
       "      <td>17322.0</td>\n",
       "    </tr>\n",
       "    <tr>\n",
       "      <th>1</th>\n",
       "      <td>0.054054</td>\n",
       "      <td>0.111111</td>\n",
       "      <td>0.072727</td>\n",
       "      <td>54.0</td>\n",
       "    </tr>\n",
       "  </tbody>\n",
       "</table>\n",
       "</div>"
      ],
      "text/plain": [
       "   precision    recall        f1  support\n",
       "0   0.997220  0.993938  0.995576  17322.0\n",
       "1   0.054054  0.111111  0.072727     54.0"
      ]
     },
     "metadata": {},
     "output_type": "display_data"
    },
    {
     "data": {
      "text/html": [
       "<div>\n",
       "<style scoped>\n",
       "    .dataframe tbody tr th:only-of-type {\n",
       "        vertical-align: middle;\n",
       "    }\n",
       "\n",
       "    .dataframe tbody tr th {\n",
       "        vertical-align: top;\n",
       "    }\n",
       "\n",
       "    .dataframe thead th {\n",
       "        text-align: right;\n",
       "    }\n",
       "</style>\n",
       "<table border=\"1\" class=\"dataframe\">\n",
       "  <thead>\n",
       "    <tr style=\"text-align: right;\">\n",
       "      <th></th>\n",
       "      <th>Train set</th>\n",
       "      <th>Test set</th>\n",
       "    </tr>\n",
       "    <tr>\n",
       "      <th>Class</th>\n",
       "      <th></th>\n",
       "      <th></th>\n",
       "    </tr>\n",
       "  </thead>\n",
       "  <tbody>\n",
       "    <tr>\n",
       "      <th>0.0</th>\n",
       "      <td>97354</td>\n",
       "      <td>34586</td>\n",
       "    </tr>\n",
       "    <tr>\n",
       "      <th>1.0</th>\n",
       "      <td>152</td>\n",
       "      <td>54</td>\n",
       "    </tr>\n",
       "  </tbody>\n",
       "</table>\n",
       "</div>"
      ],
      "text/plain": [
       "       Train set  Test set\n",
       "Class                     \n",
       "0.0        97354     34586\n",
       "1.0          152        54"
      ]
     },
     "metadata": {},
     "output_type": "display_data"
    },
    {
     "name": "stdout",
     "output_type": "stream",
     "text": [
      "\n",
      " Parameter Grid: \n",
      "\n",
      "{'under__sampling_strategy': array([0.0015613 , 0.00227885, 0.00332617, 0.00485481, 0.007086  ,\n",
      "       0.01034259, 0.01509586, 0.02203364, 0.0321599 , 0.04694   ,\n",
      "       0.06851278, 0.1       ])}\n",
      "Fitting 5 folds for each of 12 candidates, totalling 60 fits\n",
      "\n",
      " Cross validation grid search (Final model): \n",
      "\n"
     ]
    },
    {
     "data": {
      "image/png": "[encoded data removed]",
      "text/plain": [
       "<Figure size 864x252 with 2 Axes>"
      ]
     },
     "metadata": {},
     "output_type": "display_data"
    },
    {
     "name": "stdin",
     "output_type": "stream",
     "text": [
      "\n",
      "Optimal minority class proportion: 0.01\n"
     ]
    },
    {
     "data": {
      "text/html": [
       "<div>\n",
       "<style scoped>\n",
       "    .dataframe tbody tr th:only-of-type {\n",
       "        vertical-align: middle;\n",
       "    }\n",
       "\n",
       "    .dataframe tbody tr th {\n",
       "        vertical-align: top;\n",
       "    }\n",
       "\n",
       "    .dataframe thead th {\n",
       "        text-align: right;\n",
       "    }\n",
       "</style>\n",
       "<table border=\"1\" class=\"dataframe\">\n",
       "  <thead>\n",
       "    <tr style=\"text-align: right;\">\n",
       "      <th></th>\n",
       "      <th>Class Count - Final model</th>\n",
       "    </tr>\n",
       "  </thead>\n",
       "  <tbody>\n",
       "    <tr>\n",
       "      <th>0.0</th>\n",
       "      <td>21400</td>\n",
       "    </tr>\n",
       "    <tr>\n",
       "      <th>1.0</th>\n",
       "      <td>214</td>\n",
       "    </tr>\n",
       "  </tbody>\n",
       "</table>\n",
       "</div>"
      ],
      "text/plain": [
       "     Class Count - Final model\n",
       "0.0                      21400\n",
       "1.0                        214"
      ]
     },
     "metadata": {},
     "output_type": "display_data"
    },
    {
     "name": "stdout",
     "output_type": "stream",
     "text": [
      "\n",
      " Fit final model: \n",
      "\n",
      "      Iter       Train Loss   Remaining Time \n",
      "         1           0.0637           10.66s\n",
      "         2           0.0581            9.54s\n",
      "         3           0.0556            9.07s\n",
      "         4           0.0532            8.58s\n",
      "         5           0.0504            8.10s\n",
      "         6           0.0484            7.64s\n",
      "         7           0.0472            7.19s\n",
      "         8           0.0456            6.95s\n",
      "         9           0.0425            6.55s\n",
      "        10           0.0405            6.11s\n",
      "        20           0.0288            1.99s\n",
      "\n",
      "\n",
      "\n",
      "\n"
     ]
    },
    {
     "name": "stdin",
     "output_type": "stream",
     "text": [
      "Exit? y\n"
     ]
    }
   ],
   "source": [
    "target_results = []\n",
    "for i, target_id in enumerate(Yi.columns[first_target:]):\n",
    "\n",
    "    Y, yt, ye, groups, groups_train, groups_eval = select_target(target_id, periods_ahead, report=False)\n",
    "    \n",
    "    ### Group split on train data - Grouped by target consecutive positive observations\n",
    "\n",
    "    # Train data group shuffle split\n",
    "    cv_group = splitter.split(xt, yt, groups_train, strategy=strategy)\n",
    "\n",
    "    ### Cross validation & grid search parameters\n",
    "\n",
    "    steps = [('under', RandomUnderSampler(random_state=0)), ('model', model)]\n",
    "    pipe = Pipeline(steps=steps)\n",
    "\n",
    "    major_prct = (1 - yt.mean()) / yt.mean()\n",
    "    param_grid = {\n",
    "        'under__sampling_strategy': loguniform(1 / major_prct, max_prct).ppf(np.linspace(0, 1, n_prcts)),\n",
    "    }; print('\\n', 'Parameter Grid:', '\\n'); print(param_grid)\n",
    "\n",
    "    ### Evaluate pipeline\n",
    "    grid_search = GridSearchCV(\n",
    "        pipe, param_grid, scoring=scoring, cv=cv_group,\n",
    "        n_jobs=-1, verbose=2, error_score='raise',\n",
    "        return_train_score=True, refit=False\n",
    "    )\n",
    "    grid_search = grid_search.fit(xt, yt)\n",
    "    scr_grid = pd.DataFrame(grid_search.cv_results_)\n",
    "    \n",
    "    print('\\n', 'Cross validation grid search (Train data):', '\\n')\n",
    "    classifier_scr_grid_plot(scr_grid, figsize=(12, 3.5), param_name='param_under__sampling_strategy')\n",
    "\n",
    "    ### Optimal parameters on validation data\n",
    "\n",
    "    minor_prct = float(input('\\nOptimal minority class proportion:'))\n",
    "    rus = RandomUnderSampler(sampling_strategy=minor_prct, random_state=0)\n",
    "    x_res, y_res = rus.fit_resample(xt, yt)\n",
    "\n",
    "    display(y_res.value_counts().to_frame('Class Count'))\n",
    "    print('\\n', 'Evaluation on validation data:', '\\n')\n",
    "    score_eval, thresh_eval = classifier_evaluation(model, x_res, y_res, xe, ye)\n",
    "\n",
    "    ### Group split on train + validation data (final model) - Grouped by target consecutive positive observations\n",
    "\n",
    "    # Train + validation data group shuffle split - Final model\n",
    "    cv_group_final = list(splitter.split(\n",
    "        X, Y, groups,\n",
    "        strategy=strategy\n",
    "    )); print_cls_cnt(Y, cv_group_final[0][0], cv_group_final[0][1])\n",
    "\n",
    "    ### Cross validation & grid search parameters - Final model\n",
    "\n",
    "    steps = [('under', RandomUnderSampler(random_state=0)), ('model', model)]\n",
    "    pipe = Pipeline(steps=steps)\n",
    "\n",
    "    minor_prct = Y.mean() / (1 - Y.mean())\n",
    "    param_grid = {\n",
    "        'under__sampling_strategy': loguniform(minor_prct, max_prct).ppf(np.linspace(0, 1, n_prcts)),\n",
    "    }; print('\\n', 'Parameter Grid:', '\\n'); print(param_grid)\n",
    "\n",
    "    grid_search_final = GridSearchCV(\n",
    "        pipe, param_grid, scoring=scoring, cv=cv_group_final,\n",
    "        n_jobs=-1, verbose=2, error_score='raise',\n",
    "        return_train_score=True, refit=False\n",
    "    )\n",
    "\n",
    "    ### Evaluate pipeline - Final model\n",
    "\n",
    "    grid_search_final = grid_search_final.fit(X,  Y)\n",
    "\n",
    "    scr_grid_final = pd.DataFrame(grid_search_final.cv_results_)\n",
    "    print('\\n', 'Cross validation grid search (Final model):', '\\n')\n",
    "    classifier_scr_grid_plot(scr_grid_final, figsize=(12, 3.5), param_name='param_under__sampling_strategy')\n",
    "\n",
    "    ### Optimal parameters - Final model\n",
    "\n",
    "    opt_prct_final = float(input('\\nOptimal minority class proportion:'))\n",
    "    opt_params_final = {'under': opt_prct_final}\n",
    "\n",
    "    rus = RandomUnderSampler(sampling_strategy=opt_prct_final, random_state=0)\n",
    "    x_res, y_res = rus.fit_resample(X, Y)\n",
    "    display(y_res.value_counts().to_frame('Class Count - Final model'))\n",
    "\n",
    "    print('\\n', 'Fit final model:', '\\n')\n",
    "    final_model = model.fit(x_res, y_res)\n",
    "\n",
    "    model_info = {\n",
    "        'id': target_id,\n",
    "        'name': target_names[int(target_id)],\n",
    "        'model': final_model,\n",
    "        'threshold': thresh_eval,\n",
    "        'score': scr_grid,\n",
    "        'validation_score': score_eval,\n",
    "        'final_score': scr_grid_final,\n",
    "    }; target_results.append(model_info)\n",
    "\n",
    "    if path_models is not None:\n",
    "        save_model(model_info, path_models)\n",
    "\n",
    "    print('\\n\\n\\n')\n",
    "    if input('Exit?')=='y':\n",
    "        break\n",
    "    co(wait=True)"
   ]
  },
  {
   "cell_type": "code",
   "execution_count": null,
   "metadata": {},
   "outputs": [],
   "source": []
  }
 ],
 "metadata": {
  "kernelspec": {
   "display_name": "Python 3",
   "language": "python",
   "name": "python3"
  },
  "language_info": {
   "codemirror_mode": {
    "name": "ipython",
    "version": 3
   },
   "file_extension": ".py",
   "mimetype": "text/x-python",
   "name": "python",
   "nbconvert_exporter": "python",
   "pygments_lexer": "ipython3",
   "version": "3.8.3"
  }
 },
 "nbformat": 4,
 "nbformat_minor": 4
}
