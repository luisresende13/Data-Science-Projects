{
 "cells": [
  {
   "cell_type": "markdown",
   "metadata": {},
   "source": [
    "# METHEOROLOGICAL STATIONS - FEATURE ENGINEERING\n",
    "### BASED ON INMET AND ALERTA-RIO METHEOROLOGICAL STATIONS DATA"
   ]
  },
  {
   "cell_type": "markdown",
   "metadata": {},
   "source": [
    "---\n",
    "## Define Functions"
   ]
  },
  {
   "cell_type": "markdown",
   "metadata": {},
   "source": [
    "#### Change project root directory"
   ]
  },
  {
   "cell_type": "code",
   "execution_count": 1,
   "metadata": {},
   "outputs": [
    {
     "name": "stdout",
     "output_type": "stream",
     "text": [
      "C:\\Users\\luisr\\Desktop\\Repositories\\Data Science Projects\\Hackaton COR IV - Centro de Operações do RJ\\ACELERAÇÃO\n"
     ]
    }
   ],
   "source": [
    "cd ../"
   ]
  },
  {
   "cell_type": "markdown",
   "metadata": {},
   "source": [
    "#### Import modules and libraries"
   ]
  },
  {
   "cell_type": "code",
   "execution_count": 2,
   "metadata": {},
   "outputs": [],
   "source": [
    "import os, json, pandas as pd, numpy as np\n",
    "import matplotlib.pyplot as plt, seaborn as sns; sns.set()\n",
    "from IPython.display import clear_output as co"
   ]
  },
  {
   "cell_type": "markdown",
   "metadata": {},
   "source": [
    "---\n",
    "## Load & Preprocess Data"
   ]
  },
  {
   "cell_type": "code",
   "execution_count": 3,
   "metadata": {},
   "outputs": [],
   "source": [
    "from Modulos.waterbags import waterbag_project\n",
    "\n",
    "project = waterbag_project(load_stations=True, time_serie=None, freq=None, load_waterbags=False)\n",
    "\n",
    "inmet = project.inmet\n",
    "alerta_rio = project.alerta_rio"
   ]
  },
  {
   "cell_type": "markdown",
   "metadata": {},
   "source": [
    "---\n",
    "# Feature Engineering - INMET"
   ]
  },
  {
   "cell_type": "code",
   "execution_count": 5,
   "metadata": {},
   "outputs": [],
   "source": [
    "readings, stations = (inmet.columns.map(lambda col: col.split(' - ')[i]) for i in (0, 1))"
   ]
  },
  {
   "cell_type": "markdown",
   "metadata": {},
   "source": [
    "### Metheorological features"
   ]
  },
  {
   "cell_type": "code",
   "execution_count": 6,
   "metadata": {},
   "outputs": [],
   "source": [
    "cum_1h = inmet.columns[readings == readings[0]]\n",
    "cols = cum_1h\n",
    "windows = [2, 3, 4, 5, 6, 7, 8, 12, 16, 20, 24, 32, 40, 48, 60, 72, 84]\n",
    "station_labels = stations[readings==readings[0]]\n",
    "titles = ['acumulado_chuva_{}_h' + ' - ' + station for station in station_labels]\n",
    "\n",
    "cum_sums = []\n",
    "for window in windows:\n",
    "    roll_df = inmet[cols].rolling(window).sum()\n",
    "    roll_df.columns = [title.format(window) for title in titles]\n",
    "    cum_sums.append(roll_df)\n",
    "cum_sums = pd.concat(cum_sums, 1)\n",
    "\n",
    "display(cum_sums.shape)"
   ]
  },
  {
   "cell_type": "markdown",
   "metadata": {},
   "source": [
    "#### Save and reload result"
   ]
  },
  {
   "cell_type": "code",
   "execution_count": 23,
   "metadata": {},
   "outputs": [],
   "source": [
    "# cum_sums.to_csv('Dados/Feature Engineering/inmet_2-84h.csv', index=True)\n",
    "\n",
    "cum_sums = pd.read_csv('Dados/Feature Engineering/inmet_2-84h.csv', index_col=0)"
   ]
  },
  {
   "cell_type": "markdown",
   "metadata": {},
   "source": [
    "#### Missing values"
   ]
  },
  {
   "cell_type": "code",
   "execution_count": 9,
   "metadata": {},
   "outputs": [
    {
     "data": {
      "image/png": "[encoded data removed]",
      "text/plain": [
       "<Figure size 864x216 with 2 Axes>"
      ]
     },
     "metadata": {},
     "output_type": "display_data"
    }
   ],
   "source": [
    "fig, ax = plt.subplots(1, 2, figsize=(12, 3))\n",
    "cum_sums.isna().mean().sort_values().plot(xticks=[], ax=ax[0])\n",
    "cum_sums.isna().mean(1).sort_values().reset_index(drop=True).plot(xticks=[], ax=ax[1])\n",
    "ax[0].set(title='Missing per column', xlabel='Column', ylabel='Missing')\n",
    "ax[1].set(title='Missing per row', xlabel='Row')\n",
    "plt.show()"
   ]
  },
  {
   "cell_type": "markdown",
   "metadata": {},
   "source": [
    "---\n",
    "# Feature Engineering - ALERTA-RIO"
   ]
  },
  {
   "cell_type": "code",
   "execution_count": 10,
   "metadata": {},
   "outputs": [],
   "source": [
    "readings, stations = (alerta_rio.columns.map(lambda col: col.split(' - ')[i]) for i in (0, 1))"
   ]
  },
  {
   "cell_type": "markdown",
   "metadata": {},
   "source": [
    "### 1h Rain Cumulative sum"
   ]
  },
  {
   "cell_type": "markdown",
   "metadata": {},
   "source": [
    "#### Generating 30, 45 acumulated"
   ]
  },
  {
   "cell_type": "code",
   "execution_count": 11,
   "metadata": {},
   "outputs": [
    {
     "name": "stdout",
     "output_type": "stream",
     "text": [
      "2/2\n"
     ]
    },
    {
     "data": {
      "text/plain": [
       "(239155, 66)"
      ]
     },
     "metadata": {},
     "output_type": "display_data"
    }
   ],
   "source": [
    "target  = 'acumulado_chuva_15_min'\n",
    "\n",
    "cols = alerta_rio.columns[readings == target]\n",
    "station_labels = stations[readings == target]\n",
    "titles = ['acumulado_chuva_{}_min' + ' - ' + station for station in station_labels]\n",
    "\n",
    "windows = [2, 3]\n",
    "hours = 1 / 15\n",
    "\n",
    "alerta_cum_15 = []\n",
    "for i, window in enumerate(windows):\n",
    "    co(wait=True); print(f'{i+1}/{len(windows)}')\n",
    "    roll_df = alerta_rio[cols].rolling(window).sum()\n",
    "    roll_df.columns = [title.format(int(window / hours)) for title in titles]\n",
    "    alerta_cum_15.append(roll_df)\n",
    "alerta_cum_15 = pd.concat(alerta_cum_15, 1)\n",
    "\n",
    "display(alerta_cum_15.shape)"
   ]
  },
  {
   "cell_type": "markdown",
   "metadata": {},
   "source": [
    "#### Save result"
   ]
  },
  {
   "cell_type": "code",
   "execution_count": 13,
   "metadata": {},
   "outputs": [],
   "source": [
    "# alerta_cum_15.to_csv('Dados/Feature Engineering/alertario_15-45min.csv', index=True)"
   ]
  },
  {
   "cell_type": "markdown",
   "metadata": {},
   "source": [
    "#### Generating 15 frequency acumulated"
   ]
  },
  {
   "cell_type": "code",
   "execution_count": 19,
   "metadata": {},
   "outputs": [
    {
     "name": "stdout",
     "output_type": "stream",
     "text": [
      "11/11\n"
     ]
    },
    {
     "data": {
      "text/plain": [
       "(239155, 363)"
      ]
     },
     "metadata": {},
     "output_type": "display_data"
    }
   ],
   "source": [
    "target  = 'acumulado_chuva_15_min'\n",
    "\n",
    "cols = alerta_rio.columns[readings == target]\n",
    "station_labels = stations[readings == target]\n",
    "titles = ['acumulado_chuva_{}_h' + ' - ' + station for station in station_labels]\n",
    "\n",
    "windows = list(range(5, 4 * 4))\n",
    "hours = 1\n",
    "\n",
    "alerta_cum_24 = []\n",
    "for i, window in enumerate(windows):\n",
    "    co(wait=True); print(f'{i+1}/{len(windows)}')\n",
    "    roll_df = alerta_rio[cols].rolling(window).sum()\n",
    "    roll_df.columns = [title.format(int(window / hours)) for title in titles]\n",
    "    alerta_cum_24.append(roll_df)\n",
    "alerta_cum_24 = pd.concat(alerta_cum_24, 1)\n",
    "\n",
    "display(alerta_cum_24.shape)"
   ]
  },
  {
   "cell_type": "markdown",
   "metadata": {},
   "source": [
    "#### Save result"
   ]
  },
  {
   "cell_type": "code",
   "execution_count": 20,
   "metadata": {},
   "outputs": [],
   "source": [
    "alerta_cum_24.to_csv('Dados/Feature Engineering/alertario_1-4h.csv', index=True)"
   ]
  },
  {
   "cell_type": "markdown",
   "metadata": {},
   "source": [
    "#### Generating 1, 2, 3... hours acumulated"
   ]
  },
  {
   "cell_type": "code",
   "execution_count": 25,
   "metadata": {},
   "outputs": [
    {
     "data": {
      "text/plain": [
       "(239155, 429)"
      ]
     },
     "metadata": {},
     "output_type": "display_data"
    }
   ],
   "source": [
    "target  = 'acumulado_chuva_1_h'\n",
    "\n",
    "cols = alerta_rio.columns[readings == target]\n",
    "station_labels = stations[readings == target]\n",
    "titles = ['acumulado_chuva_{}_h' + ' - ' + station for station in station_labels]\n",
    "\n",
    "windows = [5, 6, 7, 8, 12, 16, 20, 32, 40, 48, 60, 72, 84]\n",
    "hours = 1\n",
    "\n",
    "alerta_cum_48 = []\n",
    "for window in windows:\n",
    "    roll_df = alerta_rio[cols].rolling(window).sum()\n",
    "    roll_df.columns = [title.format(int(window / hours)) for title in titles]\n",
    "    alerta_cum_48.append(roll_df)\n",
    "alerta_cum_48 = pd.concat(alerta_cum_48, 1)\n",
    "\n",
    "display(alerta_cum_48.shape)"
   ]
  },
  {
   "cell_type": "markdown",
   "metadata": {},
   "source": [
    "#### Save result"
   ]
  },
  {
   "cell_type": "code",
   "execution_count": 26,
   "metadata": {},
   "outputs": [],
   "source": [
    "alerta_cum_48.to_csv('Dados/Feature Engineering/alertario_5-84h.csv', index=True)"
   ]
  },
  {
   "cell_type": "markdown",
   "metadata": {},
   "source": [
    "### Reload and concat Alerta-Rio results"
   ]
  },
  {
   "cell_type": "code",
   "execution_count": 29,
   "metadata": {},
   "outputs": [],
   "source": [
    "feat_path = 'Dados/Feature Engineering/'\n",
    "feat_files = ('alertario_15-45min.csv', 'alertario_1-4h.csv', 'alertario_5-84h.csv')\n",
    "\n",
    "alerta_eng = pd.concat([pd.read_csv(feat_path + file) for file in feat_files], 1)"
   ]
  },
  {
   "cell_type": "markdown",
   "metadata": {},
   "source": [
    "#### Missing values"
   ]
  },
  {
   "cell_type": "code",
   "execution_count": 30,
   "metadata": {},
   "outputs": [
    {
     "data": {
      "image/png": "[encoded data removed]",
      "text/plain": [
       "<Figure size 864x216 with 2 Axes>"
      ]
     },
     "metadata": {},
     "output_type": "display_data"
    }
   ],
   "source": [
    "fig, ax = plt.subplots(1, 2, figsize=(12, 3))\n",
    "alerta_eng.isna().mean().sort_values().plot(xticks=[], ax=ax[0])\n",
    "alerta_eng.isna().mean(1).sort_values().reset_index(drop=True).plot(xticks=[], ax=ax[1])\n",
    "ax[0].set(title='Missing per column', xlabel='Column', ylabel='Missing')\n",
    "ax[1].set(title='Missing per row', xlabel='Row')\n",
    "plt.show()"
   ]
  },
  {
   "cell_type": "markdown",
   "metadata": {},
   "source": [
    "---"
   ]
  }
 ],
 "metadata": {
  "kernelspec": {
   "display_name": "Python 3",
   "language": "python",
   "name": "python3"
  },
  "language_info": {
   "codemirror_mode": {
    "name": "ipython",
    "version": 3
   },
   "file_extension": ".py",
   "mimetype": "text/x-python",
   "name": "python",
   "nbconvert_exporter": "python",
   "pygments_lexer": "ipython3",
   "version": "3.8.3"
  }
 },
 "nbformat": 4,
 "nbformat_minor": 4
}
