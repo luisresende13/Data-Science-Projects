{
 "cells": [
  {
   "cell_type": "markdown",
   "metadata": {},
   "source": [
    "# WATER BAG PREDICTION IN CATETE, RIO DE JANEIRO - MODEL SELECTION"
   ]
  },
  {
   "cell_type": "markdown",
   "metadata": {},
   "source": [
    "#### Planning:\n",
    "4. Evaluate on future test sample (6 months)\n",
    "1. Model comparison\n",
    "1. Grid search train_size, train_prct, n_estimators parameter for gbc and brfc models (with cross-validation).\n",
    "2. Probability threshold score optimization for gbc and brfc models (with cross-validation).\n",
    "3. Feature engineering"
   ]
  },
  {
   "cell_type": "markdown",
   "metadata": {},
   "source": [
    "---\n",
    "#### Change project root directory"
   ]
  },
  {
   "cell_type": "code",
   "execution_count": 3,
   "metadata": {},
   "outputs": [
    {
     "name": "stdout",
     "output_type": "stream",
     "text": [
      "C:\\Users\\luisr\\Desktop\\Repositories\\Data Science Projects\\Hackaton COR IV - Centro de Operações do RJ\\ACELERAÇÃO\n"
     ]
    }
   ],
   "source": [
    "cd ../"
   ]
  },
  {
   "cell_type": "markdown",
   "metadata": {},
   "source": [
    "#### Import modules and libraries"
   ]
  },
  {
   "cell_type": "code",
   "execution_count": 4,
   "metadata": {},
   "outputs": [
    {
     "name": "stderr",
     "output_type": "stream",
     "text": [
      "c:\\Users\\luisr\\anaconda3\\lib\\site-packages\\setuptools\\distutils_patch.py:25: UserWarning: Distutils was imported before Setuptools. This usage is discouraged and may exhibit undesirable behaviors or errors. Please use Setuptools' objects directly or at least import Setuptools first.\n",
      "  warnings.warn(\n"
     ]
    }
   ],
   "source": [
    "import os, json, pandas as pd, numpy as np, matplotlib.pyplot as plt, seaborn as sns; sns.set()\n",
    "from IPython.display import clear_output as co\n",
    "\n",
    "#### Time series transformation & binary classification pipeline\n",
    "\n",
    "from Modulos.timeserie_transform import TimeseriesTransformPipeline\n",
    "from Modulos.imbalanced_selection import groupConsecutiveFlags, MinorityGroupSplitUndersample\n",
    "from Modulos.imbalanced_classification import ClassificationPipeline, classesGroupRecall\n",
    "\n",
    "#### Preprocessing and machine learning modules\n",
    "\n",
    "from sklearn.preprocessing import MinMaxScaler as mms\n",
    "from Modulos.cv_samplers import GroupUnderSampleSplit, print_cls_cnt\n",
    "\n",
    "from sklearn.utils import all_estimators\n",
    "from sklearn.metrics import classification_report as cr\n",
    "\n",
    "from imblearn import ensemble\n",
    "from imblearn.metrics import classification_report_imbalanced as cri\n",
    "\n",
    "#  Classifier colleciton\n",
    "classifiers = dict(all_estimators('classifier'))\n",
    "\n",
    "# Specific classification models\n",
    "\n",
    "gbc = classifiers['GradientBoostingClassifier']\n",
    "brfc = ensemble.BalancedRandomForestClassifier\n",
    "\n",
    "#### Metrics and scoring functions\n",
    "\n",
    "from sklearn.model_selection import cross_validate\n",
    "from sklearn.metrics import make_scorer, recall_score, precision_score\n",
    "\n",
    "recall_0 = make_scorer(recall_score, pos_label=0)\n",
    "recall_1 = make_scorer(recall_score, pos_label=1)\n",
    "precision_0 = make_scorer(precision_score, pos_label=0)\n",
    "precision_1 = make_scorer(precision_score, pos_label=1)\n",
    "\n",
    "scoring = {\n",
    "    'accuracy': 'accuracy',\n",
    "    'recall': 'recall', 'precision': 'precision',\n",
    "    'recall-0': recall_0, 'recall-1': recall_1,\n",
    "    'precision-0': precision_0, 'precision-1': precision_1\n",
    "}"
   ]
  },
  {
   "cell_type": "markdown",
   "metadata": {},
   "source": [
    "---\n",
    "## Load & Preprocess Data"
   ]
  },
  {
   "cell_type": "code",
   "execution_count": 5,
   "metadata": {},
   "outputs": [],
   "source": [
    "from Modulos.waterbags import waterbag_project\n",
    "\n",
    "project = waterbag_project(time_serie='clusters', freq='upsample', load_waterbags=True)\n",
    "\n",
    "data = project.data\n",
    "group_ts = project.time_serie\n",
    "waterbags = project.waterbags\n",
    "\n",
    "# Drop records before july, 2018\n",
    "data = data['2018-06':]\n",
    "group_ts = group_ts['2018-06':]"
   ]
  },
  {
   "cell_type": "markdown",
   "metadata": {},
   "source": [
    "---"
   ]
  },
  {
   "cell_type": "markdown",
   "metadata": {},
   "source": [
    "# Data Transformation"
   ]
  },
  {
   "cell_type": "markdown",
   "metadata": {},
   "source": [
    "### Define feature dataset and target variables\n",
    "\n",
    "#### Metheorological data after first registered waterbag event"
   ]
  },
  {
   "cell_type": "code",
   "execution_count": 9,
   "metadata": {},
   "outputs": [
    {
     "name": "stdout",
     "output_type": "stream",
     "text": [
      "Train and test sets for water bag group: Estrada da Cancela Preta. (Id: 13)\n",
      "Initial data: (142867, 230)\n",
      "Drop empty columns:  (142866, 217)\n"
     ]
    },
    {
     "data": {
      "text/html": [
       "<div>\n",
       "<style scoped>\n",
       "    .dataframe tbody tr th:only-of-type {\n",
       "        vertical-align: middle;\n",
       "    }\n",
       "\n",
       "    .dataframe tbody tr th {\n",
       "        vertical-align: top;\n",
       "    }\n",
       "\n",
       "    .dataframe thead th {\n",
       "        text-align: right;\n",
       "    }\n",
       "</style>\n",
       "<table border=\"1\" class=\"dataframe\">\n",
       "  <thead>\n",
       "    <tr style=\"text-align: right;\">\n",
       "      <th></th>\n",
       "      <th>Class Count</th>\n",
       "    </tr>\n",
       "  </thead>\n",
       "  <tbody>\n",
       "    <tr>\n",
       "      <th>0.0</th>\n",
       "      <td>142602</td>\n",
       "    </tr>\n",
       "    <tr>\n",
       "      <th>1.0</th>\n",
       "      <td>264</td>\n",
       "    </tr>\n",
       "  </tbody>\n",
       "</table>\n",
       "</div>"
      ],
      "text/plain": [
       "     Class Count\n",
       "0.0       142602\n",
       "1.0          264"
      ]
     },
     "metadata": {},
     "output_type": "display_data"
    }
   ],
   "source": [
    "top_grp = '13'\n",
    "routes = waterbags.groupby(['sublabel', 'main_route']).first().index.to_frame().set_index('sublabel').to_dict()['main_route']\n",
    "print(f'Train and test sets for water bag group: {routes[int(top_grp)]}. (Id: {top_grp})')\n",
    "\n",
    "X = TimeseriesTransformPipeline(\n",
    "    data, cut=-1, drop_empty_cols=True,\n",
    "    scale=True, interpolate='nearest', fillna='min'\n",
    ")\n",
    "\n",
    "Y = group_ts[str(top_grp)].loc[X.index].copy()\n",
    "\n",
    "groups = groupConsecutiveFlags(ts=Y)\n",
    "\n",
    "display(Y.value_counts().to_frame('Class Count'))"
   ]
  },
  {
   "cell_type": "markdown",
   "metadata": {},
   "source": [
    "---\n",
    "# Cross validation split paramters"
   ]
  },
  {
   "cell_type": "code",
   "execution_count": 10,
   "metadata": {},
   "outputs": [
    {
     "data": {
      "text/html": [
       "<div>\n",
       "<style scoped>\n",
       "    .dataframe tbody tr th:only-of-type {\n",
       "        vertical-align: middle;\n",
       "    }\n",
       "\n",
       "    .dataframe tbody tr th {\n",
       "        vertical-align: top;\n",
       "    }\n",
       "\n",
       "    .dataframe thead th {\n",
       "        text-align: right;\n",
       "    }\n",
       "</style>\n",
       "<table border=\"1\" class=\"dataframe\">\n",
       "  <thead>\n",
       "    <tr style=\"text-align: right;\">\n",
       "      <th></th>\n",
       "      <th>Train set</th>\n",
       "      <th>Test set</th>\n",
       "    </tr>\n",
       "    <tr>\n",
       "      <th>Class</th>\n",
       "      <th></th>\n",
       "      <th></th>\n",
       "    </tr>\n",
       "  </thead>\n",
       "  <tbody>\n",
       "    <tr>\n",
       "      <th>0.0</th>\n",
       "      <td>114513</td>\n",
       "      <td>28089</td>\n",
       "    </tr>\n",
       "    <tr>\n",
       "      <th>1.0</th>\n",
       "      <td>212</td>\n",
       "      <td>52</td>\n",
       "    </tr>\n",
       "  </tbody>\n",
       "</table>\n",
       "</div>"
      ],
      "text/plain": [
       "       Train set  Test set\n",
       "Class                     \n",
       "0.0       114513     28089\n",
       "1.0          212        52"
      ]
     },
     "metadata": {},
     "output_type": "display_data"
    }
   ],
   "source": [
    "# Metrics\n",
    "main_metrics = ['test_recall-0', 'test_recall-1', 'test_precision-1']\n",
    "main_stats = ['mean', 'min', '50%', 'max']\n",
    "\n",
    "# Split parameters\n",
    "n_splits = 5\n",
    "train_size = 0.7\n",
    "test_size = 0.3\n",
    "train_prct = None\n",
    "test_prct = None\n",
    "\n",
    "# Model parameters\n",
    "seed = 3\n",
    "n_estimators = 100\n",
    "\n",
    "# Model\n",
    "model = gbc(\n",
    "    n_estimators=n_estimators, random_state=seed\n",
    "#     validation_fraction=0.1,\n",
    "#     n_iter_no_change=10, tol=1e-4\n",
    ")\n",
    "\n",
    "### Group K Fold Split\n",
    "splitter = MinorityGroupSplitUndersample(\n",
    "    n_splits,\n",
    "    train_size, test_size, \n",
    "    train_prct, test_prct,\n",
    "    random_state=seed\n",
    ")\n",
    "\n",
    "cv = list(splitter.split(\n",
    "    X, Y, groups, strategy='GroupKFold'\n",
    ")); print_cls_cnt(Y, cv[0][0], cv[0][1])"
   ]
  },
  {
   "cell_type": "markdown",
   "metadata": {},
   "source": [
    "### Hyperparameter tunning"
   ]
  },
  {
   "cell_type": "code",
   "execution_count": 12,
   "metadata": {},
   "outputs": [
    {
     "data": {
      "text/html": [
       "<div>\n",
       "<style scoped>\n",
       "    .dataframe tbody tr th:only-of-type {\n",
       "        vertical-align: middle;\n",
       "    }\n",
       "\n",
       "    .dataframe tbody tr th {\n",
       "        vertical-align: top;\n",
       "    }\n",
       "\n",
       "    .dataframe thead th {\n",
       "        text-align: right;\n",
       "    }\n",
       "</style>\n",
       "<table border=\"1\" class=\"dataframe\">\n",
       "  <thead>\n",
       "    <tr style=\"text-align: right;\">\n",
       "      <th></th>\n",
       "      <th>Train set</th>\n",
       "      <th>Test set</th>\n",
       "    </tr>\n",
       "    <tr>\n",
       "      <th>Class</th>\n",
       "      <th></th>\n",
       "      <th></th>\n",
       "    </tr>\n",
       "  </thead>\n",
       "  <tbody>\n",
       "    <tr>\n",
       "      <th>0.0</th>\n",
       "      <td>114513</td>\n",
       "      <td>28089</td>\n",
       "    </tr>\n",
       "    <tr>\n",
       "      <th>1.0</th>\n",
       "      <td>212</td>\n",
       "      <td>52</td>\n",
       "    </tr>\n",
       "  </tbody>\n",
       "</table>\n",
       "</div>"
      ],
      "text/plain": [
       "       Train set  Test set\n",
       "Class                     \n",
       "0.0       114513     28089\n",
       "1.0          212        52"
      ]
     },
     "metadata": {},
     "output_type": "display_data"
    }
   ],
   "source": [
    "cv_base = list(splitter.split(\n",
    "    X, Y, groups, strategy='GroupShuffleSplit',\n",
    ")); print_cls_cnt(Y, cv[0][0], cv[0][1])"
   ]
  },
  {
   "cell_type": "code",
   "execution_count": 13,
   "metadata": {},
   "outputs": [
    {
     "name": "stderr",
     "output_type": "stream",
     "text": [
      "[Parallel(n_jobs=-1)]: Using backend LokyBackend with 4 concurrent workers.\n",
      "[Parallel(n_jobs=-1)]: Done   1 out of   1 | elapsed:  4.4min finished\n"
     ]
    }
   ],
   "source": [
    "base_scr = pd.DataFrame(cross_validate(\n",
    "    model, X, Y, cv=cv_base[:1],\n",
    "    scoring=scoring,\n",
    "    n_jobs=-1, verbose=5, error_score='raise'\n",
    "))"
   ]
  },
  {
   "cell_type": "code",
   "execution_count": 14,
   "metadata": {},
   "outputs": [
    {
     "data": {
      "text/html": [
       "<div>\n",
       "<style scoped>\n",
       "    .dataframe tbody tr th:only-of-type {\n",
       "        vertical-align: middle;\n",
       "    }\n",
       "\n",
       "    .dataframe tbody tr th {\n",
       "        vertical-align: top;\n",
       "    }\n",
       "\n",
       "    .dataframe thead th {\n",
       "        text-align: right;\n",
       "    }\n",
       "</style>\n",
       "<table border=\"1\" class=\"dataframe\">\n",
       "  <thead>\n",
       "    <tr style=\"text-align: right;\">\n",
       "      <th></th>\n",
       "      <th>fit_time</th>\n",
       "      <th>score_time</th>\n",
       "      <th>test_accuracy</th>\n",
       "      <th>test_recall</th>\n",
       "      <th>test_precision</th>\n",
       "      <th>test_recall-0</th>\n",
       "      <th>test_recall-1</th>\n",
       "      <th>test_precision-0</th>\n",
       "      <th>test_precision-1</th>\n",
       "    </tr>\n",
       "  </thead>\n",
       "  <tbody>\n",
       "    <tr>\n",
       "      <th>0</th>\n",
       "      <td>235.073053</td>\n",
       "      <td>0.239678</td>\n",
       "      <td>0.998001</td>\n",
       "      <td>0.0</td>\n",
       "      <td>0.0</td>\n",
       "      <td>0.999849</td>\n",
       "      <td>0.0</td>\n",
       "      <td>0.998152</td>\n",
       "      <td>0.0</td>\n",
       "    </tr>\n",
       "  </tbody>\n",
       "</table>\n",
       "</div>"
      ],
      "text/plain": [
       "     fit_time  score_time  test_accuracy  test_recall  test_precision  \\\n",
       "0  235.073053    0.239678       0.998001          0.0             0.0   \n",
       "\n",
       "   test_recall-0  test_recall-1  test_precision-0  test_precision-1  \n",
       "0       0.999849            0.0          0.998152               0.0  "
      ]
     },
     "execution_count": 14,
     "metadata": {},
     "output_type": "execute_result"
    }
   ],
   "source": [
    "base_scr"
   ]
  },
  {
   "cell_type": "markdown",
   "metadata": {},
   "source": [
    "---\n",
    "# Model Comparison - Estimator chain pipeline"
   ]
  },
  {
   "cell_type": "code",
   "execution_count": 14,
   "metadata": {},
   "outputs": [],
   "source": [
    "from sklearn.pipeline import Pipeline\n",
    "from sklearn.model_selection import GridSearchCV\n",
    "from sklearn.svm import SVC\n",
    "from sklearn.linear_model import LogisticRegression"
   ]
  },
  {
   "cell_type": "code",
   "execution_count": null,
   "metadata": {},
   "outputs": [],
   "source": [
    "estimators = [('models', None)]\n",
    "pipe = Pipeline(estimators)\n",
    "\n",
    "param_grid = dict(\n",
    "    models=[model, ], # LogisticRegression(), gbc(random_state=seed), SVC(),],\n",
    "    models__n_estimators=range(10, 50, 10),\n",
    "    models__max_depth=range(3, 9, 1),\n",
    "#     models__subsample=[0.8, 1.0],\n",
    "#     models__learning_rate=[.05, .1, .2],\n",
    ")\n",
    "\n",
    "grid_search = GridSearchCV(\n",
    "    pipe, param_grid=param_grid, cv=cv,\n",
    "    scoring=scoring, refit='precision-1',\n",
    "    return_train_score=True,\n",
    "    verbose=5, n_jobs=1\n",
    "); grid_search.fit(X, Y)\n",
    "\n",
    "pipe_scr = pd.DataFrame(grid_search.cv_results_)"
   ]
  },
  {
   "cell_type": "markdown",
   "metadata": {},
   "source": [
    "#### Grid search results"
   ]
  },
  {
   "cell_type": "code",
   "execution_count": 15,
   "metadata": {},
   "outputs": [
    {
     "ename": "NameError",
     "evalue": "name 'pipe_scr' is not defined",
     "output_type": "error",
     "traceback": [
      "\u001b[1;31m---------------------------------------------------------------------------\u001b[0m",
      "\u001b[1;31mNameError\u001b[0m                                 Traceback (most recent call last)",
      "\u001b[1;32m<ipython-input-15-843dda942814>\u001b[0m in \u001b[0;36m<module>\u001b[1;34m\u001b[0m\n\u001b[1;32m----> 1\u001b[1;33m \u001b[0mpipe_scr\u001b[0m\u001b[1;33m[\u001b[0m\u001b[1;33m[\u001b[0m\u001b[1;34m'param_models__n_estimators'\u001b[0m\u001b[1;33m,\u001b[0m \u001b[1;34m'mean_test_recall-1'\u001b[0m\u001b[1;33m,\u001b[0m \u001b[1;34m'mean_test_precision-1'\u001b[0m\u001b[1;33m]\u001b[0m\u001b[1;33m]\u001b[0m\u001b[1;33m\u001b[0m\u001b[1;33m\u001b[0m\u001b[0m\n\u001b[0m",
      "\u001b[1;31mNameError\u001b[0m: name 'pipe_scr' is not defined"
     ]
    }
   ],
   "source": [
    "pipe_scr[['param_models__n_estimators', 'mean_test_recall-1', 'mean_test_precision-1']]"
   ]
  },
  {
   "cell_type": "code",
   "execution_count": 20,
   "metadata": {},
   "outputs": [
    {
     "data": {
      "text/html": [
       "<div>\n",
       "<style scoped>\n",
       "    .dataframe tbody tr th:only-of-type {\n",
       "        vertical-align: middle;\n",
       "    }\n",
       "\n",
       "    .dataframe tbody tr th {\n",
       "        vertical-align: top;\n",
       "    }\n",
       "\n",
       "    .dataframe thead th {\n",
       "        text-align: right;\n",
       "    }\n",
       "</style>\n",
       "<table border=\"1\" class=\"dataframe\">\n",
       "  <thead>\n",
       "    <tr style=\"text-align: right;\">\n",
       "      <th></th>\n",
       "      <th>param_models__n_estimators</th>\n",
       "      <th>mean_test_recall-1</th>\n",
       "      <th>mean_test_precision-1</th>\n",
       "    </tr>\n",
       "  </thead>\n",
       "  <tbody>\n",
       "    <tr>\n",
       "      <th>0</th>\n",
       "      <td>5</td>\n",
       "      <td>0.418361</td>\n",
       "      <td>0.600286</td>\n",
       "    </tr>\n",
       "    <tr>\n",
       "      <th>1</th>\n",
       "      <td>10</td>\n",
       "      <td>0.388952</td>\n",
       "      <td>0.617525</td>\n",
       "    </tr>\n",
       "    <tr>\n",
       "      <th>2</th>\n",
       "      <td>15</td>\n",
       "      <td>0.383692</td>\n",
       "      <td>0.617396</td>\n",
       "    </tr>\n",
       "    <tr>\n",
       "      <th>3</th>\n",
       "      <td>20</td>\n",
       "      <td>0.387523</td>\n",
       "      <td>0.628123</td>\n",
       "    </tr>\n",
       "    <tr>\n",
       "      <th>4</th>\n",
       "      <td>30</td>\n",
       "      <td>0.383562</td>\n",
       "      <td>0.624342</td>\n",
       "    </tr>\n",
       "    <tr>\n",
       "      <th>5</th>\n",
       "      <td>45</td>\n",
       "      <td>0.389907</td>\n",
       "      <td>0.611682</td>\n",
       "    </tr>\n",
       "    <tr>\n",
       "      <th>6</th>\n",
       "      <td>60</td>\n",
       "      <td>0.397478</td>\n",
       "      <td>0.613431</td>\n",
       "    </tr>\n",
       "    <tr>\n",
       "      <th>7</th>\n",
       "      <td>75</td>\n",
       "      <td>0.398768</td>\n",
       "      <td>0.617342</td>\n",
       "    </tr>\n",
       "    <tr>\n",
       "      <th>8</th>\n",
       "      <td>90</td>\n",
       "      <td>0.394922</td>\n",
       "      <td>0.620894</td>\n",
       "    </tr>\n",
       "    <tr>\n",
       "      <th>9</th>\n",
       "      <td>105</td>\n",
       "      <td>0.394922</td>\n",
       "      <td>0.637931</td>\n",
       "    </tr>\n",
       "    <tr>\n",
       "      <th>10</th>\n",
       "      <td>120</td>\n",
       "      <td>0.384746</td>\n",
       "      <td>0.625948</td>\n",
       "    </tr>\n",
       "  </tbody>\n",
       "</table>\n",
       "</div>"
      ],
      "text/plain": [
       "   param_models__n_estimators  mean_test_recall-1  mean_test_precision-1\n",
       "0                           5            0.418361               0.600286\n",
       "1                          10            0.388952               0.617525\n",
       "2                          15            0.383692               0.617396\n",
       "3                          20            0.387523               0.628123\n",
       "4                          30            0.383562               0.624342\n",
       "5                          45            0.389907               0.611682\n",
       "6                          60            0.397478               0.613431\n",
       "7                          75            0.398768               0.617342\n",
       "8                          90            0.394922               0.620894\n",
       "9                         105            0.394922               0.637931\n",
       "10                        120            0.384746               0.625948"
      ]
     },
     "execution_count": 20,
     "metadata": {},
     "output_type": "execute_result"
    }
   ],
   "source": [
    "pipe_scr[['param_models__n_estimators', 'mean_test_recall-1', 'mean_test_precision-1']]"
   ]
  },
  {
   "cell_type": "markdown",
   "metadata": {},
   "source": [
    "#### Hyperparameter optimization"
   ]
  },
  {
   "cell_type": "code",
   "execution_count": 21,
   "metadata": {},
   "outputs": [
    {
     "data": {
      "image/png": "[encoded data removed]",
      "text/plain": [
       "<Figure size 1584x216 with 4 Axes>"
      ]
     },
     "metadata": {},
     "output_type": "display_data"
    }
   ],
   "source": [
    "fig, ax = plt.subplots(1, 4, figsize=(22, 3))\n",
    "ax = pipe_scr.plot(\n",
    "    'param_models__n_estimators',\n",
    "    ['mean_test_recall-0', 'mean_test_recall-1', 'mean_test_precision-1', 'mean_test_recall', ],\n",
    "    subplots=True, ax=ax, marker='o'\n",
    ")"
   ]
  },
  {
   "cell_type": "markdown",
   "metadata": {},
   "source": [
    "#### Selecting best estimator"
   ]
  },
  {
   "cell_type": "code",
   "execution_count": 22,
   "metadata": {},
   "outputs": [
    {
     "data": {
      "text/plain": [
       "Pipeline(steps=[('models',\n",
       "                 GradientBoostingClassifier(n_estimators=105, random_state=3))])"
      ]
     },
     "execution_count": 22,
     "metadata": {},
     "output_type": "execute_result"
    }
   ],
   "source": [
    "grid_search.best_estimator_"
   ]
  },
  {
   "cell_type": "code",
   "execution_count": 23,
   "metadata": {},
   "outputs": [
    {
     "data": {
      "text/plain": [
       "{'models': GradientBoostingClassifier(n_estimators=105, random_state=3),\n",
       " 'models__n_estimators': 105}"
      ]
     },
     "execution_count": 23,
     "metadata": {},
     "output_type": "execute_result"
    }
   ],
   "source": [
    "grid_search.best_params_"
   ]
  },
  {
   "cell_type": "code",
   "execution_count": 25,
   "metadata": {},
   "outputs": [
    {
     "data": {
      "text/plain": [
       "0.6379306515918934"
      ]
     },
     "execution_count": 25,
     "metadata": {},
     "output_type": "execute_result"
    }
   ],
   "source": [
    "grid_search.best_score_"
   ]
  },
  {
   "cell_type": "markdown",
   "metadata": {},
   "source": [
    "# Train size optimization"
   ]
  },
  {
   "cell_type": "code",
   "execution_count": 159,
   "metadata": {},
   "outputs": [],
   "source": [
    "from itertools import product\n",
    "\n",
    "def make_grid(params):\n",
    "    keys = list(params.keys())\n",
    "    param_list = list(product(*[params[key] for key in keys]))\n",
    "    return list(map(lambda param_tuple: {key: param for key, param in zip(keys, param_tuple)}, param_list))\n",
    "\n",
    "split_params = dict(\n",
    "    n_splits=25, # default 5 k folds\n",
    "    train_size=.79, train_prct=1,\n",
    "    test_size=.2, test_prct=None,\n",
    "    random_state=0\n",
    ")"
   ]
  },
  {
   "cell_type": "code",
   "execution_count": 159,
   "metadata": {},
   "outputs": [],
   "source": [
    "def groupSplitScore(\n",
    "    model, Xf, Y, groups,\n",
    "    split_params={'train_size': 0.2},\n",
    "    strategy='GroupShuffleSplit',\n",
    "    scoring=scoring, verbose=5\n",
    "):  \n",
    "    splitter = MinorityGroupSplitUndersample(**split_params)\n",
    "    cv = list(splitter.split(Xf, Y, groups, strategy))\n",
    "    return pd.DataFrame(cross_validate(\n",
    "        model, Xf, Y, cv=cv,\n",
    "        scoring=scoring,\n",
    "        verbose=verbose,\n",
    "        n_jobs=-1\n",
    "    ))    \n",
    "\n",
    "def groupSplitGridSearch(\n",
    "    model, Xf, Y,\n",
    "    groups, split_grid,\n",
    "    strategy='GroupShuffleSplit',\n",
    "    scoring=scoring,\n",
    "    verbose=5\n",
    "):\n",
    "    scrs = []\n",
    "    param_grid = make_grid(split_grid)\n",
    "    for i, split_params in enumerate(param_grid):\n",
    "        co(wait=True); print(f'Param grid step: {i+1}/{len(param_grid)}')\n",
    "        scr = groupSplitScore(\n",
    "            model, Xf, Y, groups, split_params,\n",
    "            strategy, scoring, verbose\n",
    "        )\n",
    "        for key, value in split_params.items(): scr[key] = value\n",
    "        scrs.append(scr)\n",
    "    return pd.concat(scrs)"
   ]
  },
  {
   "cell_type": "code",
   "execution_count": null,
   "metadata": {},
   "outputs": [],
   "source": [
    "split_params = dict(\n",
    "    n_splits=5, train_size=.79,\n",
    "    train_prct=train_prct,\n",
    "    test_size=.2, test_prct=None,\n",
    "    random_state=0\n",
    ")\n",
    "\n",
    "scr = groupSplitScore(\n",
    "    model, Xf, Y,\n",
    "    groups, split_params,\n",
    "    strategy='GroupShuffleSplit',\n",
    "    scoring=scoring, verbose=5\n",
    ")"
   ]
  },
  {
   "cell_type": "code",
   "execution_count": 274,
   "metadata": {},
   "outputs": [],
   "source": [
    "train_size_i = np.linspace(0.15, 0.8**.5, 8) ** 2\n",
    "train_prct_i = np.linspace(.1, 1, 10) ** 2 * 150"
   ]
  },
  {
   "cell_type": "code",
   "execution_count": 275,
   "metadata": {},
   "outputs": [
    {
     "name": "stdout",
     "output_type": "stream",
     "text": [
      "Param grid step: 10/10\n"
     ]
    },
    {
     "name": "stderr",
     "output_type": "stream",
     "text": [
      "[Parallel(n_jobs=-1)]: Using backend LokyBackend with 4 concurrent workers.\n",
      "[Parallel(n_jobs=-1)]: Done   2 out of   5 | elapsed:   21.5s remaining:   32.3s\n",
      "[Parallel(n_jobs=-1)]: Done   5 out of   5 | elapsed:   27.3s finished\n"
     ]
    }
   ],
   "source": [
    "split_grid = dict(\n",
    "    n_splits=[5],\n",
    "    train_size=[.8], # train_size_i,\n",
    "    train_prct=train_prct_i,\n",
    "    test_size=[.2],\n",
    "    test_prct=[181.8], # True negative/positive class proportion\n",
    "    random_state=[0]\n",
    ")\n",
    "\n",
    "scr_grid = groupSplitGridSearch(\n",
    "    model, Xf, Y,\n",
    "    groups, split_grid,\n",
    "    strategy='GroupKFold',\n",
    "    scoring=scoring,\n",
    "    verbose=5\n",
    ")"
   ]
  },
  {
   "cell_type": "code",
   "execution_count": 276,
   "metadata": {},
   "outputs": [
    {
     "data": {
      "image/png": "[encoded data removed]",
      "text/plain": [
       "<Figure size 1152x216 with 3 Axes>"
      ]
     },
     "metadata": {},
     "output_type": "display_data"
    }
   ],
   "source": [
    "fig, ax = plt.subplots(1, 3, figsize=(16, 3))\n",
    "ax = scr_grid.groupby('train_prct')[main_metrics].mean().plot(subplots=True, marker='o', ax=ax)"
   ]
  },
  {
   "cell_type": "code",
   "execution_count": 211,
   "metadata": {},
   "outputs": [
    {
     "data": {
      "image/png": "[encoded data removed]",
      "text/plain": [
       "<Figure size 576x288 with 1 Axes>"
      ]
     },
     "metadata": {},
     "output_type": "display_data"
    }
   ],
   "source": [
    "xx, yy = 'train_size', 'train_prct'\n",
    "zz = 'test_recall-1'\n",
    "\n",
    "scr_grid_grp = scr_grid.groupby([xx, yy], as_index=False).mean()\n",
    "\n",
    "x, y = np.meshgrid(scr_grid_grp[xx].unique(), scr_grid_grp[yy].unique())\n",
    "z = scr_grid_grp[zz].values.reshape(y.shape)\n",
    "\n",
    "for angle in range(0, 360, 10):\n",
    "    fig = plt.figure(figsize=(8, 4))\n",
    "    ax = fig.add_subplot(111, projection='3d')\n",
    "    ax.plot_wireframe(x, y, z)\n",
    "    ax.view_init(3, angle)\n",
    "    plt.show(); plt.pause(.1); co(wait=True)"
   ]
  },
  {
   "cell_type": "code",
   "execution_count": null,
   "metadata": {},
   "outputs": [],
   "source": []
  }
 ],
 "metadata": {
  "kernelspec": {
   "display_name": "Python 3",
   "language": "python",
   "name": "python3"
  },
  "language_info": {
   "codemirror_mode": {
    "name": "ipython",
    "version": 3
   },
   "file_extension": ".py",
   "mimetype": "text/x-python",
   "name": "python",
   "nbconvert_exporter": "python",
   "pygments_lexer": "ipython3",
   "version": "3.8.3"
  }
 },
 "nbformat": 4,
 "nbformat_minor": 4
}
