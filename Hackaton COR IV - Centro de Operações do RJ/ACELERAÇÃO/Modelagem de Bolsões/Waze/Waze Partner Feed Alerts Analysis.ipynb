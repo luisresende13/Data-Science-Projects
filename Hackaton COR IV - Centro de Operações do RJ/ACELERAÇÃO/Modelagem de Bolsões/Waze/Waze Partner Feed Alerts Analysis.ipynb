{
 "cells": [
  {
   "cell_type": "markdown",
   "metadata": {},
   "source": [
    "# Waze Partner Feed Data Analysis"
   ]
  },
  {
   "cell_type": "markdown",
   "metadata": {},
   "source": [
    "#### Waze partner user data password: DBL0XHWBRYP31I5F"
   ]
  },
  {
   "cell_type": "markdown",
   "metadata": {},
   "source": [
    "#### Mapeamento de bases de dados - Alagamento\n",
    "1. https://docs.google.com/document/d/199HegnqjD61N-vFcFRgXXH5TqySaJIrRT0E7Phr3Rys/edit#heading=h.ino7uuzi9no9"
   ]
  },
  {
   "cell_type": "markdown",
   "metadata": {},
   "source": [
    "#### Additional data sources\n",
    "1. API:\n",
    "    1. https://il-georss.waze.com/rtserver/web/TGeoRSS?tk=ccp_partner&format=JSON&types=traffic,alerts,irregularities&polygon=\n",
    "1. Waze Partner:\n",
    "    1. 'https://www.waze.com/partnerhub-api/waze-feed-access-token/c37c11ba-ff9d-4ad5-8ecc-4e4f12e91efb?format=1'\n",
    "1. Bigquery path:\n",
    "    1. waze-public-dataset.partner_EscritriodeDadosdoRiodeJaneiro.view_alerts_clustered"
   ]
  },
  {
   "cell_type": "code",
   "execution_count": 2,
   "metadata": {},
   "outputs": [
    {
     "name": "stderr",
     "output_type": "stream",
     "text": [
      "C:\\Users\\luisr\\AppData\\Roaming\\Python\\Python38\\site-packages\\pandas\\core\\computation\\expressions.py:21: UserWarning: Pandas requires version '2.7.3' or newer of 'numexpr' (version '2.7.1' currently installed).\n",
      "  from pandas.core.computation.check import NUMEXPR_INSTALLED\n"
     ]
    }
   ],
   "source": [
    "import requests, json, os\n",
    "import pandas as pd, numpy as np, matplotlib.pyplot as plt, seaborn as sns; sns.set()\n",
    "from datetime import datetime"
   ]
  },
  {
   "cell_type": "markdown",
   "metadata": {},
   "source": [
    "### Waze partner feed request"
   ]
  },
  {
   "cell_type": "code",
   "execution_count": 3,
   "metadata": {},
   "outputs": [],
   "source": [
    "waze_url = 'https://www.waze.com/partnerhub-api/waze-feed-access-token/c37c11ba-ff9d-4ad5-8ecc-4e4f12e91efb?format=1'\n",
    "\n",
    "incidents = requests.get(waze_url).json()\n",
    "keys = list(incidents.keys())\n",
    "\n",
    "alerts = pd.DataFrame(incidents[keys[0]])\n",
    "jams = pd.DataFrame(incidents[keys[-1]])\n",
    "\n",
    "# Data cleaning & preprocessing\n",
    "for df in [alerts, jams]:    \n",
    "    df['pubMillis'] = (df['pubMillis'] / 1000).map(datetime.fromtimestamp)\n",
    "    df.sort_values('pubMillis', ascending=False, inplace=True)\n",
    "    df.reset_index(drop=True, inplace=True)"
   ]
  },
  {
   "cell_type": "markdown",
   "metadata": {},
   "source": [
    "### Latest feed alerts"
   ]
  },
  {
   "cell_type": "code",
   "execution_count": 4,
   "metadata": {},
   "outputs": [
    {
     "data": {
      "text/html": [
       "<div>\n",
       "<style scoped>\n",
       "    .dataframe tbody tr th:only-of-type {\n",
       "        vertical-align: middle;\n",
       "    }\n",
       "\n",
       "    .dataframe tbody tr th {\n",
       "        vertical-align: top;\n",
       "    }\n",
       "\n",
       "    .dataframe thead th {\n",
       "        text-align: right;\n",
       "    }\n",
       "</style>\n",
       "<table border=\"1\" class=\"dataframe\">\n",
       "  <thead>\n",
       "    <tr style=\"text-align: right;\">\n",
       "      <th></th>\n",
       "      <th>type</th>\n",
       "      <th>subtype</th>\n",
       "      <th>confidence</th>\n",
       "      <th>reliability</th>\n",
       "      <th>street</th>\n",
       "      <th>location</th>\n",
       "      <th>pubMillis</th>\n",
       "    </tr>\n",
       "  </thead>\n",
       "  <tbody>\n",
       "    <tr>\n",
       "      <th>0</th>\n",
       "      <td>WEATHERHAZARD</td>\n",
       "      <td>HAZARD_ON_ROAD_POT_HOLE</td>\n",
       "      <td>0</td>\n",
       "      <td>5</td>\n",
       "      <td>Av. das Américas - Pista Central</td>\n",
       "      <td>{'x': -43.332217, 'y': -23.00093}</td>\n",
       "      <td>2022-10-06 12:01:00</td>\n",
       "    </tr>\n",
       "    <tr>\n",
       "      <th>1</th>\n",
       "      <td>WEATHERHAZARD</td>\n",
       "      <td>HAZARD_ON_ROAD_CONSTRUCTION</td>\n",
       "      <td>0</td>\n",
       "      <td>5</td>\n",
       "      <td>Av. Brasil - Pista Central</td>\n",
       "      <td>{'x': -43.461508, 'y': -22.859116}</td>\n",
       "      <td>2022-10-06 12:00:59</td>\n",
       "    </tr>\n",
       "    <tr>\n",
       "      <th>2</th>\n",
       "      <td>JAM</td>\n",
       "      <td>JAM_STAND_STILL_TRAFFIC</td>\n",
       "      <td>0</td>\n",
       "      <td>5</td>\n",
       "      <td>R. Voluntários da Pátria</td>\n",
       "      <td>{'x': -43.198264, 'y': -22.956426}</td>\n",
       "      <td>2022-10-06 12:00:57</td>\n",
       "    </tr>\n",
       "    <tr>\n",
       "      <th>3</th>\n",
       "      <td>JAM</td>\n",
       "      <td>JAM_MODERATE_TRAFFIC</td>\n",
       "      <td>0</td>\n",
       "      <td>5</td>\n",
       "      <td>Av. Francisco Bicalho - Pista Central</td>\n",
       "      <td>{'x': -43.209189, 'y': -22.90979}</td>\n",
       "      <td>2022-10-06 12:00:56</td>\n",
       "    </tr>\n",
       "    <tr>\n",
       "      <th>4</th>\n",
       "      <td>WEATHERHAZARD</td>\n",
       "      <td>HAZARD_ON_ROAD_CONSTRUCTION</td>\n",
       "      <td>0</td>\n",
       "      <td>5</td>\n",
       "      <td>R. Cel. Cabrita</td>\n",
       "      <td>{'x': -43.22778, 'y': -22.898159}</td>\n",
       "      <td>2022-10-06 12:00:51</td>\n",
       "    </tr>\n",
       "    <tr>\n",
       "      <th>...</th>\n",
       "      <td>...</td>\n",
       "      <td>...</td>\n",
       "      <td>...</td>\n",
       "      <td>...</td>\n",
       "      <td>...</td>\n",
       "      <td>...</td>\n",
       "      <td>...</td>\n",
       "    </tr>\n",
       "    <tr>\n",
       "      <th>621</th>\n",
       "      <td>ROAD_CLOSED</td>\n",
       "      <td>ROAD_CLOSED_EVENT</td>\n",
       "      <td>5</td>\n",
       "      <td>10</td>\n",
       "      <td>NaN</td>\n",
       "      <td>{'x': -43.207042, 'y': -22.910151}</td>\n",
       "      <td>2022-06-17 17:00:50</td>\n",
       "    </tr>\n",
       "    <tr>\n",
       "      <th>622</th>\n",
       "      <td>ROAD_CLOSED</td>\n",
       "      <td>ROAD_CLOSED_EVENT</td>\n",
       "      <td>5</td>\n",
       "      <td>10</td>\n",
       "      <td>R. Marquês de Sapucaí</td>\n",
       "      <td>{'x': -43.197893, 'y': -22.907648}</td>\n",
       "      <td>2022-06-14 13:07:49</td>\n",
       "    </tr>\n",
       "    <tr>\n",
       "      <th>623</th>\n",
       "      <td>ROAD_CLOSED</td>\n",
       "      <td>ROAD_CLOSED_EVENT</td>\n",
       "      <td>5</td>\n",
       "      <td>10</td>\n",
       "      <td>NaN</td>\n",
       "      <td>{'x': -43.36483, 'y': -22.837585}</td>\n",
       "      <td>2022-05-14 11:08:23</td>\n",
       "    </tr>\n",
       "    <tr>\n",
       "      <th>624</th>\n",
       "      <td>ROAD_CLOSED</td>\n",
       "      <td>ROAD_CLOSED_EVENT</td>\n",
       "      <td>5</td>\n",
       "      <td>10</td>\n",
       "      <td>NaN</td>\n",
       "      <td>{'x': -43.330305, 'y': -23.007484}</td>\n",
       "      <td>2022-02-02 20:14:45</td>\n",
       "    </tr>\n",
       "    <tr>\n",
       "      <th>625</th>\n",
       "      <td>ROAD_CLOSED</td>\n",
       "      <td>ROAD_CLOSED_EVENT</td>\n",
       "      <td>5</td>\n",
       "      <td>10</td>\n",
       "      <td>NaN</td>\n",
       "      <td>{'x': -43.344944, 'y': -22.805179}</td>\n",
       "      <td>2022-01-04 08:51:09</td>\n",
       "    </tr>\n",
       "  </tbody>\n",
       "</table>\n",
       "<p>626 rows × 7 columns</p>\n",
       "</div>"
      ],
      "text/plain": [
       "              type                      subtype  confidence  reliability  \\\n",
       "0    WEATHERHAZARD      HAZARD_ON_ROAD_POT_HOLE           0            5   \n",
       "1    WEATHERHAZARD  HAZARD_ON_ROAD_CONSTRUCTION           0            5   \n",
       "2              JAM      JAM_STAND_STILL_TRAFFIC           0            5   \n",
       "3              JAM         JAM_MODERATE_TRAFFIC           0            5   \n",
       "4    WEATHERHAZARD  HAZARD_ON_ROAD_CONSTRUCTION           0            5   \n",
       "..             ...                          ...         ...          ...   \n",
       "621    ROAD_CLOSED            ROAD_CLOSED_EVENT           5           10   \n",
       "622    ROAD_CLOSED            ROAD_CLOSED_EVENT           5           10   \n",
       "623    ROAD_CLOSED            ROAD_CLOSED_EVENT           5           10   \n",
       "624    ROAD_CLOSED            ROAD_CLOSED_EVENT           5           10   \n",
       "625    ROAD_CLOSED            ROAD_CLOSED_EVENT           5           10   \n",
       "\n",
       "                                    street  \\\n",
       "0         Av. das Américas - Pista Central   \n",
       "1               Av. Brasil - Pista Central   \n",
       "2                 R. Voluntários da Pátria   \n",
       "3    Av. Francisco Bicalho - Pista Central   \n",
       "4                          R. Cel. Cabrita   \n",
       "..                                     ...   \n",
       "621                                    NaN   \n",
       "622                  R. Marquês de Sapucaí   \n",
       "623                                    NaN   \n",
       "624                                    NaN   \n",
       "625                                    NaN   \n",
       "\n",
       "                               location           pubMillis  \n",
       "0     {'x': -43.332217, 'y': -23.00093} 2022-10-06 12:01:00  \n",
       "1    {'x': -43.461508, 'y': -22.859116} 2022-10-06 12:00:59  \n",
       "2    {'x': -43.198264, 'y': -22.956426} 2022-10-06 12:00:57  \n",
       "3     {'x': -43.209189, 'y': -22.90979} 2022-10-06 12:00:56  \n",
       "4     {'x': -43.22778, 'y': -22.898159} 2022-10-06 12:00:51  \n",
       "..                                  ...                 ...  \n",
       "621  {'x': -43.207042, 'y': -22.910151} 2022-06-17 17:00:50  \n",
       "622  {'x': -43.197893, 'y': -22.907648} 2022-06-14 13:07:49  \n",
       "623   {'x': -43.36483, 'y': -22.837585} 2022-05-14 11:08:23  \n",
       "624  {'x': -43.330305, 'y': -23.007484} 2022-02-02 20:14:45  \n",
       "625  {'x': -43.344944, 'y': -22.805179} 2022-01-04 08:51:09  \n",
       "\n",
       "[626 rows x 7 columns]"
      ]
     },
     "execution_count": 4,
     "metadata": {},
     "output_type": "execute_result"
    }
   ],
   "source": [
    "alerts[['type', 'subtype', 'confidence', 'reliability', 'street', 'location', 'pubMillis']]"
   ]
  },
  {
   "cell_type": "markdown",
   "metadata": {},
   "source": [
    "### Lattest feed jams (traffic)"
   ]
  },
  {
   "cell_type": "code",
   "execution_count": 10,
   "metadata": {},
   "outputs": [
    {
     "data": {
      "text/html": [
       "<div>\n",
       "<style scoped>\n",
       "    .dataframe tbody tr th:only-of-type {\n",
       "        vertical-align: middle;\n",
       "    }\n",
       "\n",
       "    .dataframe tbody tr th {\n",
       "        vertical-align: top;\n",
       "    }\n",
       "\n",
       "    .dataframe thead th {\n",
       "        text-align: right;\n",
       "    }\n",
       "</style>\n",
       "<table border=\"1\" class=\"dataframe\">\n",
       "  <thead>\n",
       "    <tr style=\"text-align: right;\">\n",
       "      <th></th>\n",
       "      <th>level</th>\n",
       "      <th>speedKMH</th>\n",
       "      <th>length</th>\n",
       "      <th>line</th>\n",
       "      <th>endNode</th>\n",
       "      <th>roadType</th>\n",
       "      <th>delay</th>\n",
       "      <th>street</th>\n",
       "      <th>pubMillis</th>\n",
       "    </tr>\n",
       "  </thead>\n",
       "  <tbody>\n",
       "    <tr>\n",
       "      <th>0</th>\n",
       "      <td>3</td>\n",
       "      <td>4.98</td>\n",
       "      <td>179</td>\n",
       "      <td>[{'x': -43.314734, 'y': -23.008184}, {'x': -43...</td>\n",
       "      <td>R. Gen. Ivan Raposo</td>\n",
       "      <td>1</td>\n",
       "      <td>107</td>\n",
       "      <td>Av. Alda Garrido</td>\n",
       "      <td>2022-10-06 12:00:39.952</td>\n",
       "    </tr>\n",
       "    <tr>\n",
       "      <th>1</th>\n",
       "      <td>3</td>\n",
       "      <td>4.80</td>\n",
       "      <td>241</td>\n",
       "      <td>[{'x': -43.229741, 'y': -22.974769}, {'x': -43...</td>\n",
       "      <td>NaN</td>\n",
       "      <td>1</td>\n",
       "      <td>120</td>\n",
       "      <td>R. dos Oitis</td>\n",
       "      <td>2022-10-06 12:00:39.886</td>\n",
       "    </tr>\n",
       "    <tr>\n",
       "      <th>2</th>\n",
       "      <td>1</td>\n",
       "      <td>3.94</td>\n",
       "      <td>185</td>\n",
       "      <td>[{'x': -43.289822, 'y': -22.82634}, {'x': -43....</td>\n",
       "      <td>NaN</td>\n",
       "      <td>1</td>\n",
       "      <td>153</td>\n",
       "      <td>R. Abaíra</td>\n",
       "      <td>2022-10-06 12:00:39.329</td>\n",
       "    </tr>\n",
       "    <tr>\n",
       "      <th>3</th>\n",
       "      <td>4</td>\n",
       "      <td>4.67</td>\n",
       "      <td>293</td>\n",
       "      <td>[{'x': -43.215433, 'y': -22.903574}, {'x': -43...</td>\n",
       "      <td>Pç. Pedro II</td>\n",
       "      <td>2</td>\n",
       "      <td>193</td>\n",
       "      <td>Av. Pedro II</td>\n",
       "      <td>2022-10-06 12:00:39.268</td>\n",
       "    </tr>\n",
       "    <tr>\n",
       "      <th>4</th>\n",
       "      <td>2</td>\n",
       "      <td>6.79</td>\n",
       "      <td>244</td>\n",
       "      <td>[{'x': -43.28094, 'y': -22.906972}, {'x': -43....</td>\n",
       "      <td>R. Lins de Vasconcelos</td>\n",
       "      <td>1</td>\n",
       "      <td>68</td>\n",
       "      <td>R. Azamor</td>\n",
       "      <td>2022-10-06 12:00:39.029</td>\n",
       "    </tr>\n",
       "    <tr>\n",
       "      <th>...</th>\n",
       "      <td>...</td>\n",
       "      <td>...</td>\n",
       "      <td>...</td>\n",
       "      <td>...</td>\n",
       "      <td>...</td>\n",
       "      <td>...</td>\n",
       "      <td>...</td>\n",
       "      <td>...</td>\n",
       "      <td>...</td>\n",
       "    </tr>\n",
       "    <tr>\n",
       "      <th>572</th>\n",
       "      <td>5</td>\n",
       "      <td>0.00</td>\n",
       "      <td>15</td>\n",
       "      <td>[{'x': -43.217523, 'y': -22.972236}, {'x': -43...</td>\n",
       "      <td>NaN</td>\n",
       "      <td>2</td>\n",
       "      <td>-1</td>\n",
       "      <td>Av. Borges de Medeiros</td>\n",
       "      <td>2022-09-01 10:39:14.443</td>\n",
       "    </tr>\n",
       "    <tr>\n",
       "      <th>573</th>\n",
       "      <td>5</td>\n",
       "      <td>0.00</td>\n",
       "      <td>168</td>\n",
       "      <td>[{'x': -43.20844, 'y': -22.900073}, {'x': -43....</td>\n",
       "      <td>Av. Francisco Bicalho</td>\n",
       "      <td>2</td>\n",
       "      <td>-1</td>\n",
       "      <td>NaN</td>\n",
       "      <td>2022-08-31 22:01:24.976</td>\n",
       "    </tr>\n",
       "    <tr>\n",
       "      <th>574</th>\n",
       "      <td>5</td>\n",
       "      <td>0.00</td>\n",
       "      <td>202</td>\n",
       "      <td>[{'x': -43.36483, 'y': -22.837585}, {'x': -43....</td>\n",
       "      <td>Est. João Paulo</td>\n",
       "      <td>2</td>\n",
       "      <td>-1</td>\n",
       "      <td>NaN</td>\n",
       "      <td>2022-08-19 10:32:18.940</td>\n",
       "    </tr>\n",
       "    <tr>\n",
       "      <th>575</th>\n",
       "      <td>5</td>\n",
       "      <td>0.00</td>\n",
       "      <td>107</td>\n",
       "      <td>[{'x': -43.344944, 'y': -22.805179}, {'x': -43...</td>\n",
       "      <td>BR-116 N Rod. Pres. Dutra</td>\n",
       "      <td>4</td>\n",
       "      <td>-1</td>\n",
       "      <td>NaN</td>\n",
       "      <td>2022-08-16 03:10:54.006</td>\n",
       "    </tr>\n",
       "    <tr>\n",
       "      <th>576</th>\n",
       "      <td>5</td>\n",
       "      <td>0.00</td>\n",
       "      <td>44</td>\n",
       "      <td>[{'x': -43.217402, 'y': -22.971396}, {'x': -43...</td>\n",
       "      <td>NaN</td>\n",
       "      <td>2</td>\n",
       "      <td>-1</td>\n",
       "      <td>Av. Borges de Medeiros</td>\n",
       "      <td>2022-08-16 03:10:53.712</td>\n",
       "    </tr>\n",
       "  </tbody>\n",
       "</table>\n",
       "<p>577 rows × 9 columns</p>\n",
       "</div>"
      ],
      "text/plain": [
       "     level  speedKMH  length  \\\n",
       "0        3      4.98     179   \n",
       "1        3      4.80     241   \n",
       "2        1      3.94     185   \n",
       "3        4      4.67     293   \n",
       "4        2      6.79     244   \n",
       "..     ...       ...     ...   \n",
       "572      5      0.00      15   \n",
       "573      5      0.00     168   \n",
       "574      5      0.00     202   \n",
       "575      5      0.00     107   \n",
       "576      5      0.00      44   \n",
       "\n",
       "                                                  line  \\\n",
       "0    [{'x': -43.314734, 'y': -23.008184}, {'x': -43...   \n",
       "1    [{'x': -43.229741, 'y': -22.974769}, {'x': -43...   \n",
       "2    [{'x': -43.289822, 'y': -22.82634}, {'x': -43....   \n",
       "3    [{'x': -43.215433, 'y': -22.903574}, {'x': -43...   \n",
       "4    [{'x': -43.28094, 'y': -22.906972}, {'x': -43....   \n",
       "..                                                 ...   \n",
       "572  [{'x': -43.217523, 'y': -22.972236}, {'x': -43...   \n",
       "573  [{'x': -43.20844, 'y': -22.900073}, {'x': -43....   \n",
       "574  [{'x': -43.36483, 'y': -22.837585}, {'x': -43....   \n",
       "575  [{'x': -43.344944, 'y': -22.805179}, {'x': -43...   \n",
       "576  [{'x': -43.217402, 'y': -22.971396}, {'x': -43...   \n",
       "\n",
       "                       endNode  roadType  delay                  street  \\\n",
       "0          R. Gen. Ivan Raposo         1    107        Av. Alda Garrido   \n",
       "1                          NaN         1    120            R. dos Oitis   \n",
       "2                          NaN         1    153               R. Abaíra   \n",
       "3                 Pç. Pedro II         2    193            Av. Pedro II   \n",
       "4       R. Lins de Vasconcelos         1     68               R. Azamor   \n",
       "..                         ...       ...    ...                     ...   \n",
       "572                        NaN         2     -1  Av. Borges de Medeiros   \n",
       "573      Av. Francisco Bicalho         2     -1                     NaN   \n",
       "574            Est. João Paulo         2     -1                     NaN   \n",
       "575  BR-116 N Rod. Pres. Dutra         4     -1                     NaN   \n",
       "576                        NaN         2     -1  Av. Borges de Medeiros   \n",
       "\n",
       "                  pubMillis  \n",
       "0   2022-10-06 12:00:39.952  \n",
       "1   2022-10-06 12:00:39.886  \n",
       "2   2022-10-06 12:00:39.329  \n",
       "3   2022-10-06 12:00:39.268  \n",
       "4   2022-10-06 12:00:39.029  \n",
       "..                      ...  \n",
       "572 2022-09-01 10:39:14.443  \n",
       "573 2022-08-31 22:01:24.976  \n",
       "574 2022-08-19 10:32:18.940  \n",
       "575 2022-08-16 03:10:54.006  \n",
       "576 2022-08-16 03:10:53.712  \n",
       "\n",
       "[577 rows x 9 columns]"
      ]
     },
     "execution_count": 10,
     "metadata": {},
     "output_type": "execute_result"
    }
   ],
   "source": [
    "jams[['level', 'speedKMH', 'length', 'line', 'endNode', 'roadType', 'delay', 'street', 'pubMillis']]"
   ]
  },
  {
   "cell_type": "markdown",
   "metadata": {},
   "source": [
    "---\n",
    "# Exploratory Data Analysis"
   ]
  },
  {
   "cell_type": "markdown",
   "metadata": {},
   "source": [
    "### Number of alerts"
   ]
  },
  {
   "cell_type": "code",
   "execution_count": 6,
   "metadata": {},
   "outputs": [
    {
     "data": {
      "text/plain": [
       "(626, 15)"
      ]
     },
     "execution_count": 6,
     "metadata": {},
     "output_type": "execute_result"
    }
   ],
   "source": [
    "alerts.shape"
   ]
  },
  {
   "cell_type": "markdown",
   "metadata": {},
   "source": [
    "### Date time range"
   ]
  },
  {
   "cell_type": "code",
   "execution_count": 7,
   "metadata": {},
   "outputs": [
    {
     "data": {
      "text/plain": [
       "(Timestamp('2022-01-04 08:51:09'), Timestamp('2022-10-06 12:01:00'))"
      ]
     },
     "execution_count": 7,
     "metadata": {},
     "output_type": "execute_result"
    }
   ],
   "source": [
    "alerts['pubMillis'].min(), alerts['pubMillis'].max()"
   ]
  },
  {
   "cell_type": "markdown",
   "metadata": {},
   "source": [
    "### Alert types"
   ]
  },
  {
   "cell_type": "code",
   "execution_count": 8,
   "metadata": {},
   "outputs": [
    {
     "data": {
      "text/plain": [
       "WEATHERHAZARD    422\n",
       "JAM              160\n",
       "ROAD_CLOSED       34\n",
       "ACCIDENT          10\n",
       "Name: type, dtype: int64"
      ]
     },
     "metadata": {},
     "output_type": "display_data"
    },
    {
     "data": {
      "image/png": "[encoded data removed]",
      "text/plain": [
       "<Figure size 432x288 with 1 Axes>"
      ]
     },
     "metadata": {},
     "output_type": "display_data"
    }
   ],
   "source": [
    "display(alerts['type'].value_counts())\n",
    "ax = alerts['type'].value_counts().plot.bar()"
   ]
  },
  {
   "cell_type": "markdown",
   "metadata": {},
   "source": [
    "### Alert Subtypes"
   ]
  },
  {
   "cell_type": "code",
   "execution_count": 9,
   "metadata": {},
   "outputs": [
    {
     "data": {
      "text/plain": [
       "HAZARD_ON_ROAD_POT_HOLE               246\n",
       "JAM_STAND_STILL_TRAFFIC                88\n",
       "HAZARD_ON_ROAD_CONSTRUCTION            82\n",
       "JAM_HEAVY_TRAFFIC                      51\n",
       "ROAD_CLOSED_EVENT                      34\n",
       "HAZARD_ON_SHOULDER                     28\n",
       "HAZARD_ON_ROAD_CAR_STOPPED             27\n",
       "HAZARD_ON_SHOULDER_CAR_STOPPED         18\n",
       "JAM_MODERATE_TRAFFIC                   14\n",
       "                                       13\n",
       "HAZARD_ON_ROAD_TRAFFIC_LIGHT_FAULT      9\n",
       "HAZARD_ON_ROAD_OBJECT                   4\n",
       "ACCIDENT_MINOR                          4\n",
       "HAZARD_ON_SHOULDER_MISSING_SIGN         3\n",
       "HAZARD_ON_SHOULDER_ANIMALS              2\n",
       "ACCIDENT_MAJOR                          2\n",
       "HAZARD_ON_ROAD_ROAD_KILL                1\n",
       "Name: subtype, dtype: int64"
      ]
     },
     "metadata": {},
     "output_type": "display_data"
    },
    {
     "data": {
      "image/png": "[encoded data removed]",
      "text/plain": [
       "<Figure size 432x288 with 1 Axes>"
      ]
     },
     "metadata": {},
     "output_type": "display_data"
    }
   ],
   "source": [
    "display(alerts['subtype'].value_counts())\n",
    "ax = alerts['subtype'].value_counts().plot.bar()"
   ]
  }
 ],
 "metadata": {
  "kernelspec": {
   "display_name": "Python 3",
   "language": "python",
   "name": "python3"
  },
  "language_info": {
   "codemirror_mode": {
    "name": "ipython",
    "version": 3
   },
   "file_extension": ".py",
   "mimetype": "text/x-python",
   "name": "python",
   "nbconvert_exporter": "python",
   "pygments_lexer": "ipython3",
   "version": "3.8.3"
  }
 },
 "nbformat": 4,
 "nbformat_minor": 4
}
