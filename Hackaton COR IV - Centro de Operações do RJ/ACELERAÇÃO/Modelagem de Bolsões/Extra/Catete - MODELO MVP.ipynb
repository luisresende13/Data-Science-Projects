{
 "cells": [
  {
   "cell_type": "markdown",
   "metadata": {},
   "source": [
    "# WATER BAG PREDICTION PER CRITICAL REGION\n",
    "\n",
    "### BASED ON INMET METHEOROLOGICAL STATIONS DATA"
   ]
  },
  {
   "cell_type": "markdown",
   "metadata": {},
   "source": [
    "---\n",
    "#### Change project root directory"
   ]
  },
  {
   "cell_type": "code",
   "execution_count": 1,
   "metadata": {},
   "outputs": [
    {
     "name": "stdout",
     "output_type": "stream",
     "text": [
      "C:\\Users\\luisr\\Desktop\\Repositories\\Data Science Projects\\Hackaton COR IV - Centro de Operações do RJ\\ACELERAÇÃO\n"
     ]
    }
   ],
   "source": [
    "cd ../"
   ]
  },
  {
   "cell_type": "markdown",
   "metadata": {},
   "source": [
    "#### Import modules and libraries"
   ]
  },
  {
   "cell_type": "code",
   "execution_count": 2,
   "metadata": {},
   "outputs": [
    {
     "name": "stderr",
     "output_type": "stream",
     "text": [
      "c:\\Users\\luisr\\anaconda3\\lib\\site-packages\\setuptools\\distutils_patch.py:25: UserWarning: Distutils was imported before Setuptools. This usage is discouraged and may exhibit undesirable behaviors or errors. Please use Setuptools' objects directly or at least import Setuptools first.\n",
      "  warnings.warn(\n"
     ]
    }
   ],
   "source": [
    "import os, json, pandas as pd, numpy as np, matplotlib.pyplot as plt, seaborn as sns; sns.set()\n",
    "from IPython.display import clear_output as co\n",
    "\n",
    "#### Time series transformation & binary classification pipeline\n",
    "\n",
    "from Modulos.timeserie_transform import TimeseriesTransformPipeline\n",
    "from Modulos.imbalanced_selection import groupConsecutiveFlags, MinorityGroupSplitUndersample\n",
    "from Modulos.imbalanced_classification import ClassificationPipeline, classesGroupRecall\n",
    "\n",
    "#### Preprocessing and machine learning modules\n",
    "\n",
    "from sklearn.preprocessing import MinMaxScaler as mms\n",
    "from Modulos.cv_samplers import GroupUnderSampleSplit, print_cls_cnt\n",
    "\n",
    "from sklearn.utils import all_estimators\n",
    "from sklearn.metrics import classification_report as cr\n",
    "\n",
    "from imblearn import ensemble\n",
    "from imblearn.metrics import classification_report_imbalanced as cri\n",
    "\n",
    "#  Classifier colleciton\n",
    "classifiers = dict(all_estimators('classifier'))\n",
    "\n",
    "# Specific classification models\n",
    "\n",
    "gbc = classifiers['GradientBoostingClassifier']\n",
    "brfc = ensemble.BalancedRandomForestClassifier\n",
    "\n",
    "#### Metrics and scoring functions\n",
    "\n",
    "from sklearn.model_selection import cross_validate\n",
    "from sklearn.metrics import make_scorer, recall_score, precision_score\n",
    "\n",
    "recall_0 = make_scorer(recall_score, pos_label=0)\n",
    "recall_1 = make_scorer(recall_score, pos_label=1)\n",
    "precision_0 = make_scorer(precision_score, pos_label=0)\n",
    "precision_1 = make_scorer(precision_score, pos_label=1)\n",
    "\n",
    "scoring = {\n",
    "    'accuracy': 'accuracy',\n",
    "    'recall': 'recall', 'precision': 'precision',\n",
    "    'recall-0': recall_0, 'recall-1': recall_1,\n",
    "    'precision-0': precision_0, 'precision-1': precision_1\n",
    "}"
   ]
  },
  {
   "cell_type": "markdown",
   "metadata": {},
   "source": [
    "---\n",
    "## Load & Preprocess Data"
   ]
  },
  {
   "cell_type": "code",
   "execution_count": 4,
   "metadata": {},
   "outputs": [],
   "source": [
    "from Modulos.waterbags import waterbag_project\n",
    "\n",
    "project = waterbag_project(\n",
    "    time_serie='clusters', freq='upsample', load_waterbags=True, \n",
    "    time_features=False, inmet_features=False, alerta_features=False,\n",
    ")\n",
    "\n",
    "data = project.data\n",
    "group_ts = project.time_serie\n",
    "waterbags = project.waterbags\n",
    "\n",
    "# Drop records before july, 2018\n",
    "data = data['2018-06':]\n",
    "group_ts = group_ts['2018-06':]"
   ]
  },
  {
   "cell_type": "markdown",
   "metadata": {},
   "source": [
    "---"
   ]
  },
  {
   "cell_type": "markdown",
   "metadata": {},
   "source": [
    "# Data Transformation"
   ]
  },
  {
   "cell_type": "code",
   "execution_count": 5,
   "metadata": {},
   "outputs": [],
   "source": [
    "time_features = [\n",
    "    'year', 'month', 'day', 'hour', 'minute', 'date', 'time',\n",
    "    'index', 'dayofyear', 'weekofyear', 'weekday', 'quarter'\n",
    "]"
   ]
  },
  {
   "cell_type": "markdown",
   "metadata": {},
   "source": [
    "### Define feature dataset and target variables"
   ]
  },
  {
   "cell_type": "code",
   "execution_count": 7,
   "metadata": {},
   "outputs": [
    {
     "name": "stdout",
     "output_type": "stream",
     "text": [
      "Train and test sets for water bag group: Rua do Catete. (id: 1)\n",
      "Initial data: (142867, 230)\n",
      "Drop empty columns:  (142866, 217)\n",
      "Initial data: (142866, 217)\n"
     ]
    },
    {
     "data": {
      "text/html": [
       "<div>\n",
       "<style scoped>\n",
       "    .dataframe tbody tr th:only-of-type {\n",
       "        vertical-align: middle;\n",
       "    }\n",
       "\n",
       "    .dataframe tbody tr th {\n",
       "        vertical-align: top;\n",
       "    }\n",
       "\n",
       "    .dataframe thead th {\n",
       "        text-align: right;\n",
       "    }\n",
       "</style>\n",
       "<table border=\"1\" class=\"dataframe\">\n",
       "  <thead>\n",
       "    <tr style=\"text-align: right;\">\n",
       "      <th></th>\n",
       "      <th>Class Count</th>\n",
       "      <th>Class Count</th>\n",
       "    </tr>\n",
       "  </thead>\n",
       "  <tbody>\n",
       "    <tr>\n",
       "      <th>0.0</th>\n",
       "      <td>142083</td>\n",
       "      <td>0.994519</td>\n",
       "    </tr>\n",
       "    <tr>\n",
       "      <th>1.0</th>\n",
       "      <td>783</td>\n",
       "      <td>0.005481</td>\n",
       "    </tr>\n",
       "  </tbody>\n",
       "</table>\n",
       "</div>"
      ],
      "text/plain": [
       "     Class Count  Class Count\n",
       "0.0       142083     0.994519\n",
       "1.0          783     0.005481"
      ]
     },
     "metadata": {},
     "output_type": "display_data"
    }
   ],
   "source": [
    "top_grp = '1'\n",
    "\n",
    "routes = waterbags.groupby(['sublabel', 'main_route']).first().index.to_frame().set_index('sublabel').to_dict()['main_route']\n",
    "print(f'Train and test sets for water bag group: {routes[int(top_grp)]}. (id: {top_grp})')\n",
    "\n",
    "Y = group_ts[str(top_grp)].copy()\n",
    "\n",
    "# group_min_time = Y[Y==1].index.min() # Group specific minimum time value\n",
    "group_min_time = '2018-06'\n",
    "\n",
    "X = TimeseriesTransformPipeline(\n",
    "    data, # group_min_time,\n",
    "    cut=-1, drop_empty_cols=True,\n",
    "#     label_encode=time_features,\n",
    "    scale=True, interpolate=None, fillna=None\n",
    ")\n",
    "\n",
    "Xf = TimeseriesTransformPipeline(\n",
    "    X, interpolate='nearest', fillna='min'\n",
    ")\n",
    "\n",
    "Y = Y.loc[X.index]\n",
    "\n",
    "groups = groupConsecutiveFlags(ts=Y)\n",
    "\n",
    "display(pd.concat([Y.value_counts().to_frame('Class Count'), Y.value_counts(normalize=True).to_frame('Class Count')], 1))"
   ]
  },
  {
   "cell_type": "markdown",
   "metadata": {},
   "source": [
    "---\n",
    "# Base line classification model"
   ]
  },
  {
   "cell_type": "code",
   "execution_count": 31,
   "metadata": {},
   "outputs": [],
   "source": [
    "# Main parameters definition\n",
    "seed = 0\n",
    "\n",
    "n_splits = 5\n",
    "train_size = 0.66\n",
    "test_size = 0.33\n",
    "train_prct = None\n",
    "test_prct = None\n",
    "\n",
    "# Model definition\n",
    "model = gbc(n_estimators=100, random_state=seed, verbose=1)"
   ]
  },
  {
   "cell_type": "markdown",
   "metadata": {},
   "source": [
    "### Fit base line model"
   ]
  },
  {
   "cell_type": "code",
   "execution_count": 32,
   "metadata": {},
   "outputs": [
    {
     "name": "stdout",
     "output_type": "stream",
     "text": [
      "      Iter       Train Loss   Remaining Time \n",
      "         1           0.0352            3.17m\n",
      "         2           0.0325            3.02m\n",
      "         3           0.0302            2.93m\n",
      "         4           0.0280            2.87m\n",
      "         5           0.0262            2.82m\n",
      "         6           0.0249            2.78m\n",
      "         7           0.0240            2.75m\n",
      "         8           0.0230            2.71m\n",
      "         9           0.0222            2.68m\n",
      "        10           0.0216            2.64m\n",
      "        20           0.0155            2.35m\n",
      "        30           0.0117            2.07m\n",
      "        40           0.0086            1.87m\n",
      "        50           0.0071            1.67m\n",
      "        60           0.0058            1.36m\n",
      "        70           0.0051            1.03m\n",
      "        80           0.0044           40.84s\n",
      "        90           0.0064           20.25s\n",
      "       100 335839869723141128323072.0000            0.00s\n"
     ]
    },
    {
     "data": {
      "text/html": [
       "<div>\n",
       "<style scoped>\n",
       "    .dataframe tbody tr th:only-of-type {\n",
       "        vertical-align: middle;\n",
       "    }\n",
       "\n",
       "    .dataframe tbody tr th {\n",
       "        vertical-align: top;\n",
       "    }\n",
       "\n",
       "    .dataframe thead th {\n",
       "        text-align: right;\n",
       "    }\n",
       "</style>\n",
       "<table border=\"1\" class=\"dataframe\">\n",
       "  <thead>\n",
       "    <tr style=\"text-align: right;\">\n",
       "      <th></th>\n",
       "      <th>precision</th>\n",
       "      <th>recall</th>\n",
       "      <th>f1-score</th>\n",
       "      <th>support</th>\n",
       "      <th>Train set</th>\n",
       "    </tr>\n",
       "  </thead>\n",
       "  <tbody>\n",
       "    <tr>\n",
       "      <th>0.0</th>\n",
       "      <td>0.996649</td>\n",
       "      <td>0.999365</td>\n",
       "      <td>0.998005</td>\n",
       "      <td>48813.000000</td>\n",
       "      <td>93270</td>\n",
       "    </tr>\n",
       "    <tr>\n",
       "      <th>1.0</th>\n",
       "      <td>0.761538</td>\n",
       "      <td>0.376426</td>\n",
       "      <td>0.503817</td>\n",
       "      <td>263.000000</td>\n",
       "      <td>514</td>\n",
       "    </tr>\n",
       "    <tr>\n",
       "      <th>accuracy</th>\n",
       "      <td>0.996027</td>\n",
       "      <td>0.996027</td>\n",
       "      <td>0.996027</td>\n",
       "      <td>0.996027</td>\n",
       "      <td></td>\n",
       "    </tr>\n",
       "    <tr>\n",
       "      <th>macro avg</th>\n",
       "      <td>0.879094</td>\n",
       "      <td>0.687895</td>\n",
       "      <td>0.750911</td>\n",
       "      <td>49076.000000</td>\n",
       "      <td></td>\n",
       "    </tr>\n",
       "    <tr>\n",
       "      <th>weighted avg</th>\n",
       "      <td>0.995389</td>\n",
       "      <td>0.996027</td>\n",
       "      <td>0.995357</td>\n",
       "      <td>49076.000000</td>\n",
       "      <td></td>\n",
       "    </tr>\n",
       "  </tbody>\n",
       "</table>\n",
       "</div>"
      ],
      "text/plain": [
       "              precision    recall  f1-score       support Train set\n",
       "0.0            0.996649  0.999365  0.998005  48813.000000     93270\n",
       "1.0            0.761538  0.376426  0.503817    263.000000       514\n",
       "accuracy       0.996027  0.996027  0.996027      0.996027          \n",
       "macro avg      0.879094  0.687895  0.750911  49076.000000          \n",
       "weighted avg   0.995389  0.996027  0.995357  49076.000000          "
      ]
     },
     "metadata": {},
     "output_type": "display_data"
    }
   ],
   "source": [
    "### Instantiate classification pipeline object\n",
    "CP = ClassificationPipeline(\n",
    "    n_splits=5,\n",
    "    train_size=train_size, train_prct=train_prct,\n",
    "    test_size=test_size, test_prct=test_prct,\n",
    "    shuffle=True, random_state=seed,\n",
    ")\n",
    "\n",
    "# Model & Evaluate\n",
    "score, cls_cnt = CP.binary(\n",
    "    Xf, Y, model,\n",
    "    groups=groups, strategy='GroupShuffleSplit',\n",
    "    return_cls_cnt=True, store=True\n",
    ")\n",
    "\n",
    "cls_cnt.index = cls_cnt.index.astype('str')\n",
    "display(pd.concat([score, cls_cnt['Train set']], 1).fillna(''))"
   ]
  },
  {
   "cell_type": "markdown",
   "metadata": {},
   "source": [
    "### Save finalized model"
   ]
  },
  {
   "cell_type": "code",
   "execution_count": 35,
   "metadata": {},
   "outputs": [],
   "source": [
    "import pickle\n",
    "\n",
    "pickle.dump(CP.model, open('ModeloBolsões.sav', 'wb'))"
   ]
  },
  {
   "cell_type": "markdown",
   "metadata": {},
   "source": [
    "### Save model deployment transformation info\n",
    "\n",
    "#### Transformation steps:\n",
    "1. Scale all columns based on 'X' sample min and max values\n",
    "2. Fill missing values with sample min values"
   ]
  },
  {
   "cell_type": "code",
   "execution_count": 53,
   "metadata": {},
   "outputs": [
    {
     "name": "stdout",
     "output_type": "stream",
     "text": [
      "Initial data: (142867, 230)\n",
      "Drop empty columns:  (142866, 217)\n"
     ]
    },
    {
     "data": {
      "text/html": [
       "<div>\n",
       "<style scoped>\n",
       "    .dataframe tbody tr th:only-of-type {\n",
       "        vertical-align: middle;\n",
       "    }\n",
       "\n",
       "    .dataframe tbody tr th {\n",
       "        vertical-align: top;\n",
       "    }\n",
       "\n",
       "    .dataframe thead th {\n",
       "        text-align: right;\n",
       "    }\n",
       "</style>\n",
       "<table border=\"1\" class=\"dataframe\">\n",
       "  <thead>\n",
       "    <tr style=\"text-align: right;\">\n",
       "      <th></th>\n",
       "      <th>min</th>\n",
       "      <th>max</th>\n",
       "    </tr>\n",
       "  </thead>\n",
       "  <tbody>\n",
       "    <tr>\n",
       "      <th>acumulado_chuva_1_h - A602</th>\n",
       "      <td>0.0</td>\n",
       "      <td>97.2</td>\n",
       "    </tr>\n",
       "    <tr>\n",
       "      <th>pressao_minima - A602</th>\n",
       "      <td>999.3</td>\n",
       "      <td>1030.7</td>\n",
       "    </tr>\n",
       "    <tr>\n",
       "      <th>temperatura - A602</th>\n",
       "      <td>11.2</td>\n",
       "      <td>38.9</td>\n",
       "    </tr>\n",
       "    <tr>\n",
       "      <th>pressao_maxima - A602</th>\n",
       "      <td>999.4</td>\n",
       "      <td>1031.0</td>\n",
       "    </tr>\n",
       "    <tr>\n",
       "      <th>pressao - A602</th>\n",
       "      <td>999.3</td>\n",
       "      <td>1030.9</td>\n",
       "    </tr>\n",
       "  </tbody>\n",
       "</table>\n",
       "</div>"
      ],
      "text/plain": [
       "                              min     max\n",
       "acumulado_chuva_1_h - A602    0.0    97.2\n",
       "pressao_minima - A602       999.3  1030.7\n",
       "temperatura - A602           11.2    38.9\n",
       "pressao_maxima - A602       999.4  1031.0\n",
       "pressao - A602              999.3  1030.9"
      ]
     },
     "metadata": {},
     "output_type": "display_data"
    },
    {
     "data": {
      "text/plain": [
       "(217, 2)"
      ]
     },
     "metadata": {},
     "output_type": "display_data"
    }
   ],
   "source": [
    "X_raw = TimeseriesTransformPipeline(\n",
    "    data, cut=-1, drop_empty_cols=True,\n",
    ")\n",
    "\n",
    "X_info = X_raw.describe().loc[['min', 'max']].T\n",
    "X_info.to_csv('InformaçõesDeploy.csv', index=True)\n",
    "\n",
    "display(X_info.head(), X_info.shape)"
   ]
  }
 ],
 "metadata": {
  "kernelspec": {
   "display_name": "Python 3",
   "language": "python",
   "name": "python3"
  },
  "language_info": {
   "codemirror_mode": {
    "name": "ipython",
    "version": 3
   },
   "file_extension": ".py",
   "mimetype": "text/x-python",
   "name": "python",
   "nbconvert_exporter": "python",
   "pygments_lexer": "ipython3",
   "version": "3.8.3"
  }
 },
 "nbformat": 4,
 "nbformat_minor": 4
}
