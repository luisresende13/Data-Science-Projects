{
 "cells": [
  {
   "cell_type": "markdown",
   "metadata": {},
   "source": [
    "# WATER BAG CLASSIFICATION - IMBALANCE AND CALIBRATION\n",
    "### BASED ON INMET METHEOROLOGICAL STATIONS DATA"
   ]
  },
  {
   "cell_type": "markdown",
   "metadata": {},
   "source": [
    "---\n",
    "## Define Functions"
   ]
  },
  {
   "cell_type": "markdown",
   "metadata": {},
   "source": [
    "#### Change project root directory"
   ]
  },
  {
   "cell_type": "code",
   "execution_count": null,
   "metadata": {},
   "outputs": [],
   "source": [
    "cd ../"
   ]
  },
  {
   "cell_type": "markdown",
   "metadata": {},
   "source": [
    "#### Import modules and libraries"
   ]
  },
  {
   "cell_type": "code",
   "execution_count": 8,
   "metadata": {},
   "outputs": [],
   "source": [
    "import os, json, pandas as pd, numpy as np\n",
    "import matplotlib.pyplot as plt, seaborn as sns; sns.set()\n",
    "from IPython.display import clear_output as co\n",
    "\n",
    "#### Time serie features transformation pipeline & binary classification pipeline (Authoral)\n",
    "from Modulos.sample_filter import min_max_filter_stats, min_max_filter\n",
    "from Modulos.timeserie_transform import TimeseriesTransformPipeline\n",
    "from Modulos.imbalanced_selection import groupConsecutiveFlags, MinorityGroupSplitUndersample\n",
    "from Modulos.imbalanced_classification import ClassificationPipeline, classesGroupRecall\n",
    "\n",
    "#### Preprocessing & machine learning modules\n",
    "from sklearn.preprocessing import MinMaxScaler as mms\n",
    "from Modulos.cv_samplers import GroupUnderSampleSplit, print_cls_cnt\n",
    "from sklearn.utils import all_estimators\n",
    "from sklearn.metrics import classification_report as cr\n",
    "from imblearn import ensemble\n",
    "\n",
    "#  Classifier colleciton\n",
    "classifiers = dict(all_estimators('classifier'))\n",
    "\n",
    "# Select specific classification models\n",
    "gbc = classifiers['GradientBoostingClassifier']\n",
    "brfc = ensemble.BalancedRandomForestClassifier\n",
    "\n",
    "#### Define metrics and scoring functions\n",
    "from sklearn.model_selection import cross_validate\n",
    "from sklearn.metrics import make_scorer, recall_score, precision_score\n",
    "\n",
    "recall_0 = make_scorer(recall_score, pos_label=0)\n",
    "recall_1 = make_scorer(recall_score, pos_label=1)\n",
    "precision_0 = make_scorer(precision_score, pos_label=0)\n",
    "precision_1 = make_scorer(precision_score, pos_label=1)\n",
    "\n",
    "scoring = {\n",
    "    'accuracy': 'accuracy',\n",
    "    'recall': 'recall', 'precision': 'precision',\n",
    "    'recall-0': recall_0, 'recall-1': recall_1,\n",
    "    'precision-0': precision_0, 'precision-1': precision_1\n",
    "}"
   ]
  },
  {
   "cell_type": "markdown",
   "metadata": {},
   "source": [
    "### Utility functions"
   ]
  },
  {
   "cell_type": "code",
   "execution_count": 9,
   "metadata": {},
   "outputs": [],
   "source": [
    "from imblearn.under_sampling import RandomUnderSampler\n",
    "\n",
    "def balanced_filtered_test_cv(X, Y, X_filt, cv_filt, seed=None, test_prct='natural'):\n",
    "\n",
    "    X_index = np.array(range(X.shape[0]))\n",
    "    out_index = X_index[~X.index.isin(X_filt.index)].tolist() # filtered out records index, only contains negative class samples\n",
    "\n",
    "    if test_prct == 'Y':\n",
    "        y_cnt = Y.value_counts(); test_prct = y_cnt[1] / y_cnt[0]\n",
    "    rus = RandomUnderSampler(test_prct, random_state=seed)\n",
    "\n",
    "    # Reuse group shuffle and include left out negative class test samples \n",
    "    cv_plus = []\n",
    "    for t_idx, e_idx in cv_filt:\n",
    "        t_idx_x,  e_idx_x = (X_index[X.index.isin(X_filt.iloc[idx].index)].tolist() for idx in [t_idx, e_idx]) # Convert X_filt positional index to X positional index\n",
    "        left_test = e_idx_x + out_index\n",
    "        x_test, y_test = Xf.iloc[left_test], Y.iloc[left_test]\n",
    "        x_under, y_under = rus.fit_resample(x_test, y_test)\n",
    "        y_under.index = y_test.index[rus.sample_indices_]\n",
    "        left_under = X_index[X.index.isin(y_under.index)].tolist()\n",
    "        cv_plus.append((t_idx_x, left_under)) \n",
    "    print_cls_cnt(Y, cv_plus[0][0], cv_plus[0][1])\n",
    "    return cv_plus"
   ]
  },
  {
   "cell_type": "markdown",
   "metadata": {},
   "source": [
    "---\n",
    "## Load & Preprocess Data"
   ]
  },
  {
   "cell_type": "code",
   "execution_count": 10,
   "metadata": {},
   "outputs": [],
   "source": [
    "from Modulos.waterbags import waterbag_project\n",
    "\n",
    "project = waterbag_project(time_serie='clusters', freq='upsample', load_waterbags=True)\n",
    "\n",
    "data = project.data\n",
    "group_ts = project.time_serie\n",
    "waterbags = project.waterbags\n",
    "\n",
    "# Drop records before july, 2018 to reduce imbalance\n",
    "# data = data['2018-06':]\n",
    "# group_ts = group_ts['2018-06':]\n",
    "\n",
    "# Sample groups names per group label\n",
    "routes = waterbags.groupby(['sublabel', 'main_route']).first().index.to_frame().set_index('sublabel').to_dict()['main_route']"
   ]
  },
  {
   "cell_type": "markdown",
   "metadata": {},
   "source": [
    "---"
   ]
  },
  {
   "cell_type": "markdown",
   "metadata": {},
   "source": [
    "# Preprocessing and Data Transformation"
   ]
  },
  {
   "cell_type": "markdown",
   "metadata": {},
   "source": [
    "### Feature dataset and target variables"
   ]
  },
  {
   "cell_type": "code",
   "execution_count": 14,
   "metadata": {},
   "outputs": [
    {
     "name": "stdout",
     "output_type": "stream",
     "text": [
      "Initial data: (437875, 230)\n",
      "Time extraction: (142866, 230)\n",
      "Drop empty columns:  (142865, 217)\n",
      "Initial data: (142865, 217)\n",
      "Water bag group: Rua do Catete. (id: 1)\n",
      "\n"
     ]
    },
    {
     "data": {
      "text/html": [
       "<div>\n",
       "<style scoped>\n",
       "    .dataframe tbody tr th:only-of-type {\n",
       "        vertical-align: middle;\n",
       "    }\n",
       "\n",
       "    .dataframe tbody tr th {\n",
       "        vertical-align: top;\n",
       "    }\n",
       "\n",
       "    .dataframe thead th {\n",
       "        text-align: right;\n",
       "    }\n",
       "</style>\n",
       "<table border=\"1\" class=\"dataframe\">\n",
       "  <thead>\n",
       "    <tr style=\"text-align: right;\">\n",
       "      <th></th>\n",
       "      <th>Class Count</th>\n",
       "      <th>Class Count</th>\n",
       "    </tr>\n",
       "  </thead>\n",
       "  <tbody>\n",
       "    <tr>\n",
       "      <th>0.0</th>\n",
       "      <td>142082</td>\n",
       "      <td>0.994519</td>\n",
       "    </tr>\n",
       "    <tr>\n",
       "      <th>1.0</th>\n",
       "      <td>783</td>\n",
       "      <td>0.005481</td>\n",
       "    </tr>\n",
       "  </tbody>\n",
       "</table>\n",
       "</div>"
      ],
      "text/plain": [
       "     Class Count  Class Count\n",
       "0.0       142082     0.994519\n",
       "1.0          783     0.005481"
      ]
     },
     "metadata": {},
     "output_type": "display_data"
    }
   ],
   "source": [
    "top_grp = '1'\n",
    "\n",
    "min_time = '2018-06'\n",
    "\n",
    "X = TimeseriesTransformPipeline(\n",
    "    data, min_time, cut=-1,\n",
    "    drop_empty_cols=True, scale=True,\n",
    "    interpolate=None, fillna=None\n",
    ")\n",
    "\n",
    "Xf = TimeseriesTransformPipeline(\n",
    "    X, interpolate='nearest', fillna='min'\n",
    ")\n",
    "\n",
    "### Select example water bag group\n",
    "Y = group_ts[str(top_grp)].loc[X.index].copy()\n",
    "\n",
    "groups = groupConsecutiveFlags(ts=Y)\n",
    "\n",
    "cnts = [Y.value_counts(norm).to_frame('Class Count') for norm in (False, True)]\n",
    "print(f'Water bag group: {routes[int(top_grp)]}. (id: {top_grp})')\n",
    "print(); display(pd.concat(cnts, 1))"
   ]
  },
  {
   "cell_type": "markdown",
   "metadata": {},
   "source": [
    "### Target Transformation"
   ]
  },
  {
   "cell_type": "code",
   "execution_count": 15,
   "metadata": {},
   "outputs": [
    {
     "name": "stdout",
     "output_type": "stream",
     "text": [
      "Y shape: (142865,) \n",
      "\n",
      "Train folder\n"
     ]
    },
    {
     "data": {
      "text/html": [
       "<div>\n",
       "<style scoped>\n",
       "    .dataframe tbody tr th:only-of-type {\n",
       "        vertical-align: middle;\n",
       "    }\n",
       "\n",
       "    .dataframe tbody tr th {\n",
       "        vertical-align: top;\n",
       "    }\n",
       "\n",
       "    .dataframe thead th {\n",
       "        text-align: right;\n",
       "    }\n",
       "</style>\n",
       "<table border=\"1\" class=\"dataframe\">\n",
       "  <thead>\n",
       "    <tr style=\"text-align: right;\">\n",
       "      <th></th>\n",
       "      <th>Class Count</th>\n",
       "      <th>Class Count</th>\n",
       "    </tr>\n",
       "  </thead>\n",
       "  <tbody>\n",
       "    <tr>\n",
       "      <th>0.0</th>\n",
       "      <td>141868</td>\n",
       "      <td>0.993021</td>\n",
       "    </tr>\n",
       "    <tr>\n",
       "      <th>1.0</th>\n",
       "      <td>997</td>\n",
       "      <td>0.006979</td>\n",
       "    </tr>\n",
       "  </tbody>\n",
       "</table>\n",
       "</div>"
      ],
      "text/plain": [
       "     Class Count  Class Count\n",
       "0.0       141868     0.993021\n",
       "1.0          997     0.006979"
      ]
     },
     "metadata": {},
     "output_type": "display_data"
    }
   ],
   "source": [
    "periods_ahead = 4 # Periods in the future to predict\n",
    "\n",
    "Y = (Y.rolling(periods_ahead, closed='left', min_periods=1).sum().shift(- periods_ahead + 1) > 0).astype('float')\n",
    "groups = groupConsecutiveFlags(ts=Y)\n",
    "\n",
    "cnts = [Y.value_counts(norm).to_frame('Class Count') for norm in (False, True)]\n",
    "print('Y shape:', Y.shape, '\\n')\n",
    "print('Train folder'); display(pd.concat(cnts, 1))"
   ]
  },
  {
   "cell_type": "markdown",
   "metadata": {},
   "source": [
    "### Validation folder"
   ]
  },
  {
   "cell_type": "code",
   "execution_count": 16,
   "metadata": {},
   "outputs": [
    {
     "name": "stdout",
     "output_type": "stream",
     "text": [
      "Train folder\n"
     ]
    },
    {
     "data": {
      "text/html": [
       "<div>\n",
       "<style scoped>\n",
       "    .dataframe tbody tr th:only-of-type {\n",
       "        vertical-align: middle;\n",
       "    }\n",
       "\n",
       "    .dataframe tbody tr th {\n",
       "        vertical-align: top;\n",
       "    }\n",
       "\n",
       "    .dataframe thead th {\n",
       "        text-align: right;\n",
       "    }\n",
       "</style>\n",
       "<table border=\"1\" class=\"dataframe\">\n",
       "  <thead>\n",
       "    <tr style=\"text-align: right;\">\n",
       "      <th></th>\n",
       "      <th>Class Count</th>\n",
       "      <th>Class Count</th>\n",
       "    </tr>\n",
       "  </thead>\n",
       "  <tbody>\n",
       "    <tr>\n",
       "      <th>0.0</th>\n",
       "      <td>119037</td>\n",
       "      <td>0.992777</td>\n",
       "    </tr>\n",
       "    <tr>\n",
       "      <th>1.0</th>\n",
       "      <td>866</td>\n",
       "      <td>0.007223</td>\n",
       "    </tr>\n",
       "  </tbody>\n",
       "</table>\n",
       "</div>"
      ],
      "text/plain": [
       "     Class Count  Class Count\n",
       "0.0       119037     0.992777\n",
       "1.0          866     0.007223"
      ]
     },
     "metadata": {},
     "output_type": "display_data"
    },
    {
     "name": "stdout",
     "output_type": "stream",
     "text": [
      "Validation folder\n"
     ]
    },
    {
     "data": {
      "text/html": [
       "<div>\n",
       "<style scoped>\n",
       "    .dataframe tbody tr th:only-of-type {\n",
       "        vertical-align: middle;\n",
       "    }\n",
       "\n",
       "    .dataframe tbody tr th {\n",
       "        vertical-align: top;\n",
       "    }\n",
       "\n",
       "    .dataframe thead th {\n",
       "        text-align: right;\n",
       "    }\n",
       "</style>\n",
       "<table border=\"1\" class=\"dataframe\">\n",
       "  <thead>\n",
       "    <tr style=\"text-align: right;\">\n",
       "      <th></th>\n",
       "      <th>Class Count</th>\n",
       "      <th>Class Count</th>\n",
       "    </tr>\n",
       "  </thead>\n",
       "  <tbody>\n",
       "    <tr>\n",
       "      <th>0.0</th>\n",
       "      <td>17245</td>\n",
       "      <td>0.992461</td>\n",
       "    </tr>\n",
       "    <tr>\n",
       "      <th>1.0</th>\n",
       "      <td>131</td>\n",
       "      <td>0.007539</td>\n",
       "    </tr>\n",
       "  </tbody>\n",
       "</table>\n",
       "</div>"
      ],
      "text/plain": [
       "     Class Count  Class Count\n",
       "0.0        17245     0.992461\n",
       "1.0          131     0.007539"
      ]
     },
     "metadata": {},
     "output_type": "display_data"
    }
   ],
   "source": [
    "train_end, eval_start, eval_end = '2021-10', '2021-11', '2022-04'\n",
    "\n",
    "# Validataion fraction\n",
    "X_eval = Xf[eval_start: eval_end]\n",
    "X = X[:train_end]\n",
    "Xf = Xf[:train_end]\n",
    "\n",
    "Y_eval = Y.loc[X_eval.index]\n",
    "Y = Y.loc[X.index]\n",
    "\n",
    "groups_eval = groups.loc[X_eval.index]\n",
    "groups = groups.loc[X.index]\n",
    "\n",
    "cnts = [Y.value_counts(norm).to_frame('Class Count') for norm in (False, True)]\n",
    "print('Train folder'); display(pd.concat(cnts, 1))\n",
    "\n",
    "cnts = [Y_eval.value_counts(norm).to_frame('Class Count') for norm in (False, True)]\n",
    "print('Validation folder'); display(pd.concat(cnts, 1))"
   ]
  },
  {
   "cell_type": "markdown",
   "metadata": {},
   "source": [
    "### Validation statistics"
   ]
  },
  {
   "cell_type": "code",
   "execution_count": 17,
   "metadata": {},
   "outputs": [
    {
     "data": {
      "text/html": [
       "<div>\n",
       "<style scoped>\n",
       "    .dataframe tbody tr th:only-of-type {\n",
       "        vertical-align: middle;\n",
       "    }\n",
       "\n",
       "    .dataframe tbody tr th {\n",
       "        vertical-align: top;\n",
       "    }\n",
       "\n",
       "    .dataframe thead th {\n",
       "        text-align: right;\n",
       "    }\n",
       "</style>\n",
       "<table border=\"1\" class=\"dataframe\">\n",
       "  <thead>\n",
       "    <tr style=\"text-align: right;\">\n",
       "      <th></th>\n",
       "      <th>Validation (%)</th>\n",
       "    </tr>\n",
       "  </thead>\n",
       "  <tbody>\n",
       "    <tr>\n",
       "      <th>Samples</th>\n",
       "      <td>14.49</td>\n",
       "    </tr>\n",
       "    <tr>\n",
       "      <th>Positive Samples</th>\n",
       "      <td>15.13</td>\n",
       "    </tr>\n",
       "  </tbody>\n",
       "</table>\n",
       "</div>"
      ],
      "text/plain": [
       "                  Validation (%)\n",
       "Samples                    14.49\n",
       "Positive Samples           15.13"
      ]
     },
     "metadata": {},
     "output_type": "display_data"
    }
   ],
   "source": [
    "eval_size = len(Y_eval) / len(Y) * 100\n",
    "eval_minority = (Y_eval==1).sum() / (Y==1).sum() * 100\n",
    "eval_stats = pd.DataFrame(\n",
    "    [eval_size, eval_minority],\n",
    "    ['Samples', 'Positive Samples'],\n",
    "    ['Validation (%)'],\n",
    ").round(2)\n",
    "display(eval_stats)"
   ]
  },
  {
   "cell_type": "markdown",
   "metadata": {},
   "source": [
    "### Data leaking"
   ]
  },
  {
   "cell_type": "code",
   "execution_count": 23,
   "metadata": {},
   "outputs": [
    {
     "data": {
      "text/plain": [
       "DatetimeIndex(['2018-06-01 00:15:00', '2018-06-01 00:30:00',\n",
       "               '2018-06-01 00:45:00'],\n",
       "              dtype='datetime64[ns]', freq=None)"
      ]
     },
     "execution_count": 23,
     "metadata": {},
     "output_type": "execute_result"
    }
   ],
   "source": [
    "Y.head(3).index"
   ]
  },
  {
   "cell_type": "code",
   "execution_count": 18,
   "metadata": {},
   "outputs": [
    {
     "data": {
      "text/plain": [
       "DatetimeIndex(['2021-10-31 23:15:00', '2021-10-31 23:30:00',\n",
       "               '2021-10-31 23:45:00'],\n",
       "              dtype='datetime64[ns]', freq=None)"
      ]
     },
     "execution_count": 18,
     "metadata": {},
     "output_type": "execute_result"
    }
   ],
   "source": [
    "Y.tail(3).index # Train end"
   ]
  },
  {
   "cell_type": "code",
   "execution_count": 19,
   "metadata": {},
   "outputs": [
    {
     "data": {
      "text/plain": [
       "DatetimeIndex(['2021-11-01 00:00:00', '2021-11-01 00:15:00',\n",
       "               '2021-11-01 00:30:00'],\n",
       "              dtype='datetime64[ns]', freq=None)"
      ]
     },
     "execution_count": 19,
     "metadata": {},
     "output_type": "execute_result"
    }
   ],
   "source": [
    "Y_eval.head(3).index # Validation start"
   ]
  },
  {
   "cell_type": "markdown",
   "metadata": {},
   "source": [
    "---\n",
    "# Filter hour records"
   ]
  },
  {
   "cell_type": "markdown",
   "metadata": {},
   "source": [
    "### Records left after filtering by columns' minimum thresholds"
   ]
  },
  {
   "cell_type": "code",
   "execution_count": 24,
   "metadata": {},
   "outputs": [],
   "source": [
    "#### Extract minority and majority classes records\n",
    "mino, majo = X[Y==1], X[~(Y==1)]\n",
    "mino_desc = mino.describe()\n",
    "\n",
    "#### Filter records by minority minimum values\n",
    "stats, cum_stats = min_max_filter_stats(X, mino_desc, stat='min', acumulate='and', top_down=True)\n",
    "stats_max, cum_stats_max = min_max_filter_stats(X, mino_desc, stat='max', acumulate='and', top_down=True)"
   ]
  },
  {
   "cell_type": "markdown",
   "metadata": {},
   "source": [
    "#### Records above and below target minimum and maximum per column"
   ]
  },
  {
   "cell_type": "code",
   "execution_count": 25,
   "metadata": {},
   "outputs": [
    {
     "data": {
      "image/png": "[encoded data removed]",
      "text/plain": [
       "<Figure size 1008x252 with 2 Axes>"
      ]
     },
     "metadata": {},
     "output_type": "display_data"
    },
    {
     "data": {
      "image/png": "[encoded data removed]",
      "text/plain": [
       "<Figure size 1008x252 with 2 Axes>"
      ]
     },
     "metadata": {},
     "output_type": "display_data"
    }
   ],
   "source": [
    "n_cum = 50\n",
    "\n",
    "fig, ax = plt.subplots(1, 2, figsize=(14, 3.5))\n",
    "stats.set_index('column')['rows left (%)'].head(n_cum).plot(marker='o', ms=5, xticks=[], title='Records above target minimum per column (%)', ax=ax[0])\n",
    "stats_max.set_index('column')['rows left (%)'].head(n_cum).plot(marker='o', ms=5, xticks=[], title='Records below target maximum per column (%)', ax=ax[1])\n",
    "\n",
    "fig, ax = plt.subplots(1, 2, figsize=(14, 3.5))\n",
    "cum_stats.set_index('column')['rows left cum (%)'].iloc[:n_cum].plot(xticks=[], marker='o', ms=5, title='Records above target minimum per column - acumulated (%)', ax=ax[0])\n",
    "cum_stats_max.set_index('column')['rows left cum (%)'].iloc[:n_cum].plot(xticks=[], marker='o', ms=5, title='Records above target minimum per column - acumulated (%)', ax=ax[1])\n",
    "plt.show()"
   ]
  },
  {
   "cell_type": "markdown",
   "metadata": {},
   "source": [
    "### Filter records"
   ]
  },
  {
   "cell_type": "code",
   "execution_count": 34,
   "metadata": {},
   "outputs": [
    {
     "name": "stdout",
     "output_type": "stream",
     "text": [
      "\n",
      "Records: 119903\n",
      "Records left: 61796\n",
      "Records left (%): 51.54 %\n",
      "\n",
      "\n",
      "Records: 61796\n",
      "Records left: 54492\n",
      "Records left (%): 88.18 %\n",
      "\n"
     ]
    },
    {
     "data": {
      "text/html": [
       "<div>\n",
       "<style scoped>\n",
       "    .dataframe tbody tr th:only-of-type {\n",
       "        vertical-align: middle;\n",
       "    }\n",
       "\n",
       "    .dataframe tbody tr th {\n",
       "        vertical-align: top;\n",
       "    }\n",
       "\n",
       "    .dataframe thead th {\n",
       "        text-align: right;\n",
       "    }\n",
       "</style>\n",
       "<table border=\"1\" class=\"dataframe\">\n",
       "  <thead>\n",
       "    <tr style=\"text-align: right;\">\n",
       "      <th></th>\n",
       "      <th>Class Count</th>\n",
       "      <th>Percent left (%)</th>\n",
       "    </tr>\n",
       "  </thead>\n",
       "  <tbody>\n",
       "    <tr>\n",
       "      <th>0.0</th>\n",
       "      <td>53626</td>\n",
       "      <td>45.05</td>\n",
       "    </tr>\n",
       "    <tr>\n",
       "      <th>1.0</th>\n",
       "      <td>866</td>\n",
       "      <td>100.00</td>\n",
       "    </tr>\n",
       "  </tbody>\n",
       "</table>\n",
       "</div>"
      ],
      "text/plain": [
       "     Class Count  Percent left (%)\n",
       "0.0        53626             45.05\n",
       "1.0          866            100.00"
      ]
     },
     "metadata": {},
     "output_type": "display_data"
    }
   ],
   "source": [
    "n_filters_min, n_filters_max = 5, 13\n",
    "\n",
    "min_values = mino_desc.loc['min'].loc[stats['column']]\n",
    "max_values = mino_desc.loc['max'].loc[stats_max['column']]\n",
    "\n",
    "# Filter data by positive class minimum values\n",
    "X_filt = min_max_filter(\n",
    "    X, min_values, # max_values,\n",
    "    n_filters=n_filters_min, margin_min=0.0, margin_max=0.0\n",
    ")\n",
    "\n",
    "# Filter data by positive class maximum values\n",
    "X_filt = min_max_filter(\n",
    "    X_filt, None, max_values,\n",
    "    n_filters=n_filters_max, margin_min=0.0, margin_max=0.0\n",
    ")\n",
    "\n",
    "### Filtered transformed data\n",
    "X_filt = Xf.loc[X_filt.index]\n",
    "# X_filt = TimeseriesTransformPipeline(\n",
    "#     X_filt, interpolate='nearest', fillna='min'\n",
    "# )\n",
    "\n",
    "### Filter target variable\n",
    "Y_filt = Y.loc[X_filt.index]\n",
    "\n",
    "# groups_filt = groupConsecutiveFlags(ts=Y_filt)\n",
    "groups_filt = groups.loc[X_filt.index] # Does the same as above\n",
    "\n",
    "cnts = [\n",
    "    Y_filt.value_counts().to_frame('Class Count'),\n",
    "    100 * (Y_filt.value_counts().to_frame('Percent left (%)') / Y.value_counts().to_frame('Percent left (%)')).round(4)\n",
    "]\n",
    "display(pd.concat(cnts, 1))"
   ]
  },
  {
   "cell_type": "markdown",
   "metadata": {},
   "source": [
    "---\n",
    "# KFold Group Splits"
   ]
  },
  {
   "cell_type": "code",
   "execution_count": 47,
   "metadata": {},
   "outputs": [],
   "source": [
    "# Main parameters definition\n",
    "seed = 0\n",
    "\n",
    "n_splits = 5\n",
    "train_size = 0.799\n",
    "test_size = 0.2\n",
    "train_prct = None\n",
    "test_prct = 'natural'\n",
    "\n",
    "# Model definition\n",
    "model = gbc(n_estimators=100, random_state=seed)"
   ]
  },
  {
   "cell_type": "markdown",
   "metadata": {},
   "source": [
    "### Base line KFold - Natural"
   ]
  },
  {
   "cell_type": "code",
   "execution_count": 36,
   "metadata": {},
   "outputs": [
    {
     "data": {
      "text/html": [
       "<div>\n",
       "<style scoped>\n",
       "    .dataframe tbody tr th:only-of-type {\n",
       "        vertical-align: middle;\n",
       "    }\n",
       "\n",
       "    .dataframe tbody tr th {\n",
       "        vertical-align: top;\n",
       "    }\n",
       "\n",
       "    .dataframe thead th {\n",
       "        text-align: right;\n",
       "    }\n",
       "</style>\n",
       "<table border=\"1\" class=\"dataframe\">\n",
       "  <thead>\n",
       "    <tr style=\"text-align: right;\">\n",
       "      <th></th>\n",
       "      <th>Train set</th>\n",
       "      <th>Test set</th>\n",
       "    </tr>\n",
       "    <tr>\n",
       "      <th>Class</th>\n",
       "      <th></th>\n",
       "      <th></th>\n",
       "    </tr>\n",
       "  </thead>\n",
       "  <tbody>\n",
       "    <tr>\n",
       "      <th>0.0</th>\n",
       "      <td>95119</td>\n",
       "      <td>23917</td>\n",
       "    </tr>\n",
       "    <tr>\n",
       "      <th>1.0</th>\n",
       "      <td>692</td>\n",
       "      <td>174</td>\n",
       "    </tr>\n",
       "  </tbody>\n",
       "</table>\n",
       "</div>"
      ],
      "text/plain": [
       "       Train set  Test set\n",
       "Class                     \n",
       "0.0        95119     23917\n",
       "1.0          692       174"
      ]
     },
     "metadata": {},
     "output_type": "display_data"
    }
   ],
   "source": [
    "splitter = MinorityGroupSplitUndersample(\n",
    "    n_splits=5,\n",
    "    train_prct=None, test_prct='natural',\n",
    "    random_state=seed\n",
    ")\n",
    "\n",
    "cv_base = list(splitter.split(\n",
    "    Xf, Y, groups,\n",
    "    strategy='GroupKFold'\n",
    ")); print_cls_cnt(Y, cv_base[0][0], cv_base[0][1])"
   ]
  },
  {
   "cell_type": "markdown",
   "metadata": {},
   "source": [
    "### Base line Shuffle - Undersample"
   ]
  },
  {
   "cell_type": "code",
   "execution_count": 48,
   "metadata": {},
   "outputs": [
    {
     "data": {
      "text/html": [
       "<div>\n",
       "<style scoped>\n",
       "    .dataframe tbody tr th:only-of-type {\n",
       "        vertical-align: middle;\n",
       "    }\n",
       "\n",
       "    .dataframe tbody tr th {\n",
       "        vertical-align: top;\n",
       "    }\n",
       "\n",
       "    .dataframe thead th {\n",
       "        text-align: right;\n",
       "    }\n",
       "</style>\n",
       "<table border=\"1\" class=\"dataframe\">\n",
       "  <thead>\n",
       "    <tr style=\"text-align: right;\">\n",
       "      <th></th>\n",
       "      <th>Train set</th>\n",
       "      <th>Test set</th>\n",
       "    </tr>\n",
       "    <tr>\n",
       "      <th>Class</th>\n",
       "      <th></th>\n",
       "      <th></th>\n",
       "    </tr>\n",
       "  </thead>\n",
       "  <tbody>\n",
       "    <tr>\n",
       "      <th>0.0</th>\n",
       "      <td>692</td>\n",
       "      <td>23917</td>\n",
       "    </tr>\n",
       "    <tr>\n",
       "      <th>1.0</th>\n",
       "      <td>692</td>\n",
       "      <td>174</td>\n",
       "    </tr>\n",
       "  </tbody>\n",
       "</table>\n",
       "</div>"
      ],
      "text/plain": [
       "       Train set  Test set\n",
       "Class                     \n",
       "0.0          692     23917\n",
       "1.0          692       174"
      ]
     },
     "metadata": {},
     "output_type": "display_data"
    }
   ],
   "source": [
    "splitter = MinorityGroupSplitUndersample(\n",
    "    n_splits=5,\n",
    "    train_prct=1, test_prct='natural',\n",
    "    random_state=seed,\n",
    ")\n",
    "\n",
    "cv_under = list(splitter.split(\n",
    "    Xf, Y, groups,\n",
    "    strategy='GroupKFold'\n",
    ")); print_cls_cnt(Y, cv_under[0][0], cv_under[0][1])"
   ]
  },
  {
   "cell_type": "markdown",
   "metadata": {},
   "source": [
    "### Filtered KFold - Natural"
   ]
  },
  {
   "cell_type": "code",
   "execution_count": 49,
   "metadata": {},
   "outputs": [
    {
     "name": "stderr",
     "output_type": "stream",
     "text": [
      "c:\\Users\\luisr\\anaconda3\\lib\\site-packages\\imblearn\\utils\\_validation.py:587: FutureWarning: Pass sampling_strategy=0.007275048934364946 as keyword args. From version 0.9 passing these as positional arguments will result in an error\n",
      "  warnings.warn(\n"
     ]
    },
    {
     "data": {
      "text/html": [
       "<div>\n",
       "<style scoped>\n",
       "    .dataframe tbody tr th:only-of-type {\n",
       "        vertical-align: middle;\n",
       "    }\n",
       "\n",
       "    .dataframe tbody tr th {\n",
       "        vertical-align: top;\n",
       "    }\n",
       "\n",
       "    .dataframe thead th {\n",
       "        text-align: right;\n",
       "    }\n",
       "</style>\n",
       "<table border=\"1\" class=\"dataframe\">\n",
       "  <thead>\n",
       "    <tr style=\"text-align: right;\">\n",
       "      <th></th>\n",
       "      <th>Train set</th>\n",
       "      <th>Test set</th>\n",
       "    </tr>\n",
       "    <tr>\n",
       "      <th>Class</th>\n",
       "      <th></th>\n",
       "      <th></th>\n",
       "    </tr>\n",
       "  </thead>\n",
       "  <tbody>\n",
       "    <tr>\n",
       "      <th>0.0</th>\n",
       "      <td>42851</td>\n",
       "      <td>23917</td>\n",
       "    </tr>\n",
       "    <tr>\n",
       "      <th>1.0</th>\n",
       "      <td>692</td>\n",
       "      <td>174</td>\n",
       "    </tr>\n",
       "  </tbody>\n",
       "</table>\n",
       "</div>"
      ],
      "text/plain": [
       "       Train set  Test set\n",
       "Class                     \n",
       "0.0        42851     23917\n",
       "1.0          692       174"
      ]
     },
     "metadata": {},
     "output_type": "display_data"
    }
   ],
   "source": [
    "splitter = MinorityGroupSplitUndersample(\n",
    "    n_splits=5,\n",
    "    train_prct=None, test_prct=None,\n",
    "    random_state=seed,\n",
    ")\n",
    "\n",
    "cv_filt = list(splitter.split(\n",
    "    X_filt, Y_filt, groups_filt,\n",
    "    strategy='GroupKFold'\n",
    "))\n",
    "\n",
    "cv_filt = balanced_filtered_test_cv(X, Y, X_filt, cv_filt, seed, test_prct='Y')"
   ]
  },
  {
   "cell_type": "markdown",
   "metadata": {},
   "source": [
    "### Filtered KFold - Undersample"
   ]
  },
  {
   "cell_type": "code",
   "execution_count": 50,
   "metadata": {},
   "outputs": [
    {
     "name": "stderr",
     "output_type": "stream",
     "text": [
      "c:\\Users\\luisr\\anaconda3\\lib\\site-packages\\imblearn\\utils\\_validation.py:587: FutureWarning: Pass sampling_strategy=0.007275048934364946 as keyword args. From version 0.9 passing these as positional arguments will result in an error\n",
      "  warnings.warn(\n"
     ]
    },
    {
     "data": {
      "text/html": [
       "<div>\n",
       "<style scoped>\n",
       "    .dataframe tbody tr th:only-of-type {\n",
       "        vertical-align: middle;\n",
       "    }\n",
       "\n",
       "    .dataframe tbody tr th {\n",
       "        vertical-align: top;\n",
       "    }\n",
       "\n",
       "    .dataframe thead th {\n",
       "        text-align: right;\n",
       "    }\n",
       "</style>\n",
       "<table border=\"1\" class=\"dataframe\">\n",
       "  <thead>\n",
       "    <tr style=\"text-align: right;\">\n",
       "      <th></th>\n",
       "      <th>Train set</th>\n",
       "      <th>Test set</th>\n",
       "    </tr>\n",
       "    <tr>\n",
       "      <th>Class</th>\n",
       "      <th></th>\n",
       "      <th></th>\n",
       "    </tr>\n",
       "  </thead>\n",
       "  <tbody>\n",
       "    <tr>\n",
       "      <th>0.0</th>\n",
       "      <td>692</td>\n",
       "      <td>23917</td>\n",
       "    </tr>\n",
       "    <tr>\n",
       "      <th>1.0</th>\n",
       "      <td>692</td>\n",
       "      <td>174</td>\n",
       "    </tr>\n",
       "  </tbody>\n",
       "</table>\n",
       "</div>"
      ],
      "text/plain": [
       "       Train set  Test set\n",
       "Class                     \n",
       "0.0          692     23917\n",
       "1.0          692       174"
      ]
     },
     "metadata": {},
     "output_type": "display_data"
    }
   ],
   "source": [
    "splitter = MinorityGroupSplitUndersample(\n",
    "    n_splits=5,\n",
    "    train_prct=1, test_prct=None,\n",
    "    random_state=seed,\n",
    ")\n",
    "\n",
    "cv_filt_under = list(splitter.split(\n",
    "    X_filt, Y_filt, groups_filt,\n",
    "    strategy='GroupKFold'\n",
    "))\n",
    "\n",
    "cv_filt_under = balanced_filtered_test_cv(X, Y, X_filt, cv_filt_under, seed, test_prct='Y')"
   ]
  },
  {
   "cell_type": "markdown",
   "metadata": {},
   "source": [
    "### Baseline adjusted udnersample"
   ]
  },
  {
   "cell_type": "code",
   "execution_count": 51,
   "metadata": {},
   "outputs": [
    {
     "data": {
      "text/html": [
       "<div>\n",
       "<style scoped>\n",
       "    .dataframe tbody tr th:only-of-type {\n",
       "        vertical-align: middle;\n",
       "    }\n",
       "\n",
       "    .dataframe tbody tr th {\n",
       "        vertical-align: top;\n",
       "    }\n",
       "\n",
       "    .dataframe thead th {\n",
       "        text-align: right;\n",
       "    }\n",
       "</style>\n",
       "<table border=\"1\" class=\"dataframe\">\n",
       "  <thead>\n",
       "    <tr style=\"text-align: right;\">\n",
       "      <th></th>\n",
       "      <th>Train set</th>\n",
       "      <th>Test set</th>\n",
       "    </tr>\n",
       "    <tr>\n",
       "      <th>Class</th>\n",
       "      <th></th>\n",
       "      <th></th>\n",
       "    </tr>\n",
       "  </thead>\n",
       "  <tbody>\n",
       "    <tr>\n",
       "      <th>0.0</th>\n",
       "      <td>42851</td>\n",
       "      <td>23917</td>\n",
       "    </tr>\n",
       "    <tr>\n",
       "      <th>1.0</th>\n",
       "      <td>692</td>\n",
       "      <td>174</td>\n",
       "    </tr>\n",
       "  </tbody>\n",
       "</table>\n",
       "</div>"
      ],
      "text/plain": [
       "       Train set  Test set\n",
       "Class                     \n",
       "0.0        42851     23917\n",
       "1.0          692       174"
      ]
     },
     "metadata": {},
     "output_type": "display_data"
    }
   ],
   "source": [
    "filt_prop = (Y_filt == 1).mean()\n",
    "filt_prct = 1 / filt_prop - 1\n",
    "\n",
    "splitter = MinorityGroupSplitUndersample(\n",
    "    n_splits=5,\n",
    "    train_prct=filt_prct, test_prct='natural',\n",
    "    random_state=seed,\n",
    ")\n",
    "\n",
    "cv_adjust = list(splitter.split(\n",
    "    Xf, Y, groups,\n",
    "    strategy='GroupKFold'\n",
    ")); print_cls_cnt(Y, cv_adjust[0][0], cv_adjust[0][1])"
   ]
  },
  {
   "cell_type": "markdown",
   "metadata": {},
   "source": [
    "---\n",
    "# Cross validate filtered records"
   ]
  },
  {
   "cell_type": "code",
   "execution_count": 52,
   "metadata": {},
   "outputs": [],
   "source": [
    "scr_cols = ['mean', 'std'], ['test_recall-1', 'test_precision-1']"
   ]
  },
  {
   "cell_type": "markdown",
   "metadata": {},
   "source": [
    "### Baseline KFold"
   ]
  },
  {
   "cell_type": "code",
   "execution_count": 20,
   "metadata": {},
   "outputs": [
    {
     "name": "stderr",
     "output_type": "stream",
     "text": [
      "[Parallel(n_jobs=-1)]: Using backend LokyBackend with 4 concurrent workers.\n",
      "[Parallel(n_jobs=-1)]: Done   2 out of   5 | elapsed:  8.0min remaining: 12.0min\n",
      "[Parallel(n_jobs=-1)]: Done   5 out of   5 | elapsed: 11.1min finished\n"
     ]
    },
    {
     "data": {
      "text/html": [
       "<div>\n",
       "<style scoped>\n",
       "    .dataframe tbody tr th:only-of-type {\n",
       "        vertical-align: middle;\n",
       "    }\n",
       "\n",
       "    .dataframe tbody tr th {\n",
       "        vertical-align: top;\n",
       "    }\n",
       "\n",
       "    .dataframe thead th {\n",
       "        text-align: right;\n",
       "    }\n",
       "</style>\n",
       "<table border=\"1\" class=\"dataframe\">\n",
       "  <thead>\n",
       "    <tr style=\"text-align: right;\">\n",
       "      <th></th>\n",
       "      <th>test_recall-1</th>\n",
       "      <th>test_precision-1</th>\n",
       "    </tr>\n",
       "  </thead>\n",
       "  <tbody>\n",
       "    <tr>\n",
       "      <th>mean</th>\n",
       "      <td>0.125700</td>\n",
       "      <td>0.455927</td>\n",
       "    </tr>\n",
       "    <tr>\n",
       "      <th>std</th>\n",
       "      <td>0.094999</td>\n",
       "      <td>0.245799</td>\n",
       "    </tr>\n",
       "  </tbody>\n",
       "</table>\n",
       "</div>"
      ],
      "text/plain": [
       "      test_recall-1  test_precision-1\n",
       "mean       0.125700          0.455927\n",
       "std        0.094999          0.245799"
      ]
     },
     "execution_count": 20,
     "metadata": {},
     "output_type": "execute_result"
    }
   ],
   "source": [
    "scr_base = pd.DataFrame(cross_validate(\n",
    "    model, Xf, Y, cv=cv_base,\n",
    "    scoring=scoring, n_jobs=-1,\n",
    "    verbose=5, error_score='raise'\n",
    "))\n",
    "\n",
    "#### Save and reload baseline score\n",
    "# scr_base.to_csv('Modelagem de Bolsões/Scores/Baseline_1h_KFold_5.csv', index=True)\n",
    "# scr_base = pd.read_csv('Modelagem de Bolsões/Scores/Baseline_1h_KFold_5.csv', index_col=0)\n",
    "\n",
    "scr_base.describe().loc[(scr_cols)]"
   ]
  },
  {
   "cell_type": "markdown",
   "metadata": {},
   "source": [
    "### Baseline undersample"
   ]
  },
  {
   "cell_type": "code",
   "execution_count": 42,
   "metadata": {},
   "outputs": [
    {
     "name": "stderr",
     "output_type": "stream",
     "text": [
      "[Parallel(n_jobs=-1)]: Using backend LokyBackend with 4 concurrent workers.\n",
      "[Parallel(n_jobs=-1)]: Done   2 out of   5 | elapsed:  1.0min remaining:  1.6min\n",
      "[Parallel(n_jobs=-1)]: Done   5 out of   5 | elapsed:  1.1min finished\n"
     ]
    }
   ],
   "source": [
    "scr_under = pd.DataFrame(cross_validate(\n",
    "    model, Xf, Y, cv=cv_under,\n",
    "    scoring=scoring, n_jobs=-1,\n",
    "    verbose=5, error_score='raise'\n",
    "))\n",
    "\n",
    "#### Save and reload score\n",
    "# scr_under.to_csv('Modelagem de Bolsões/Scores/Under_1h_KFold_5.csv', index=True)\n",
    "# scr_under = pd.read_csv('Modelagem de Bolsões/Scores/Under_1h_KFold_5.csv', index_col=0)"
   ]
  },
  {
   "cell_type": "code",
   "execution_count": 57,
   "metadata": {},
   "outputs": [
    {
     "data": {
      "text/html": [
       "<div>\n",
       "<style scoped>\n",
       "    .dataframe tbody tr th:only-of-type {\n",
       "        vertical-align: middle;\n",
       "    }\n",
       "\n",
       "    .dataframe tbody tr th {\n",
       "        vertical-align: top;\n",
       "    }\n",
       "\n",
       "    .dataframe thead th {\n",
       "        text-align: right;\n",
       "    }\n",
       "</style>\n",
       "<table border=\"1\" class=\"dataframe\">\n",
       "  <thead>\n",
       "    <tr style=\"text-align: right;\">\n",
       "      <th></th>\n",
       "      <th>test_recall-1</th>\n",
       "      <th>test_precision-1</th>\n",
       "    </tr>\n",
       "  </thead>\n",
       "  <tbody>\n",
       "    <tr>\n",
       "      <th>mean</th>\n",
       "      <td>0.942256</td>\n",
       "      <td>0.146100</td>\n",
       "    </tr>\n",
       "    <tr>\n",
       "      <th>std</th>\n",
       "      <td>0.033718</td>\n",
       "      <td>0.006035</td>\n",
       "    </tr>\n",
       "  </tbody>\n",
       "</table>\n",
       "</div>"
      ],
      "text/plain": [
       "      test_recall-1  test_precision-1\n",
       "mean       0.942256          0.146100\n",
       "std        0.033718          0.006035"
      ]
     },
     "execution_count": 57,
     "metadata": {},
     "output_type": "execute_result"
    }
   ],
   "source": [
    "scr_under.describe().loc[(scr_cols)]"
   ]
  },
  {
   "cell_type": "markdown",
   "metadata": {},
   "source": [
    "### Filtered natural"
   ]
  },
  {
   "cell_type": "code",
   "execution_count": 45,
   "metadata": {},
   "outputs": [
    {
     "name": "stderr",
     "output_type": "stream",
     "text": [
      "[Parallel(n_jobs=-1)]: Using backend LokyBackend with 4 concurrent workers.\n",
      "[Parallel(n_jobs=-1)]: Done   2 out of   5 | elapsed:  2.4min remaining:  3.6min\n",
      "[Parallel(n_jobs=-1)]: Done   5 out of   5 | elapsed:  3.9min finished\n"
     ]
    }
   ],
   "source": [
    "scr_filt = pd.DataFrame(cross_validate(\n",
    "    model,\n",
    "    Xf, Y,\n",
    "    cv=cv_filt, scoring=scoring,\n",
    "    return_train_score=True,\n",
    "    n_jobs=-1, verbose=5,\n",
    "))"
   ]
  },
  {
   "cell_type": "code",
   "execution_count": 36,
   "metadata": {},
   "outputs": [
    {
     "data": {
      "text/html": [
       "<div>\n",
       "<style scoped>\n",
       "    .dataframe tbody tr th:only-of-type {\n",
       "        vertical-align: middle;\n",
       "    }\n",
       "\n",
       "    .dataframe tbody tr th {\n",
       "        vertical-align: top;\n",
       "    }\n",
       "\n",
       "    .dataframe thead th {\n",
       "        text-align: right;\n",
       "    }\n",
       "</style>\n",
       "<table border=\"1\" class=\"dataframe\">\n",
       "  <thead>\n",
       "    <tr style=\"text-align: right;\">\n",
       "      <th></th>\n",
       "      <th>test_recall-1</th>\n",
       "      <th>test_precision-1</th>\n",
       "    </tr>\n",
       "  </thead>\n",
       "  <tbody>\n",
       "    <tr>\n",
       "      <th>mean</th>\n",
       "      <td>0.077614</td>\n",
       "      <td>0.038129</td>\n",
       "    </tr>\n",
       "    <tr>\n",
       "      <th>std</th>\n",
       "      <td>0.108325</td>\n",
       "      <td>0.057044</td>\n",
       "    </tr>\n",
       "  </tbody>\n",
       "</table>\n",
       "</div>"
      ],
      "text/plain": [
       "      test_recall-1  test_precision-1\n",
       "mean       0.077614          0.038129\n",
       "std        0.108325          0.057044"
      ]
     },
     "execution_count": 36,
     "metadata": {},
     "output_type": "execute_result"
    }
   ],
   "source": [
    "scr_filt.describe().loc[(scr_cols)]"
   ]
  },
  {
   "cell_type": "markdown",
   "metadata": {},
   "source": [
    "### Filtered undersample"
   ]
  },
  {
   "cell_type": "code",
   "execution_count": 34,
   "metadata": {},
   "outputs": [
    {
     "name": "stderr",
     "output_type": "stream",
     "text": [
      "[Parallel(n_jobs=-1)]: Using backend LokyBackend with 4 concurrent workers.\n",
      "[Parallel(n_jobs=-1)]: Done   2 out of   5 | elapsed:    4.1s remaining:    6.2s\n",
      "[Parallel(n_jobs=-1)]: Done   5 out of   5 | elapsed:    7.0s finished\n"
     ]
    }
   ],
   "source": [
    "scr_filt_under = pd.DataFrame(cross_validate(\n",
    "    model, Xf, Y, cv=cv_filt_under,\n",
    "    scoring=scoring, n_jobs=-1,\n",
    "    verbose=5, error_score='raise'\n",
    "))"
   ]
  },
  {
   "cell_type": "code",
   "execution_count": 37,
   "metadata": {},
   "outputs": [
    {
     "data": {
      "text/html": [
       "<div>\n",
       "<style scoped>\n",
       "    .dataframe tbody tr th:only-of-type {\n",
       "        vertical-align: middle;\n",
       "    }\n",
       "\n",
       "    .dataframe tbody tr th {\n",
       "        vertical-align: top;\n",
       "    }\n",
       "\n",
       "    .dataframe thead th {\n",
       "        text-align: right;\n",
       "    }\n",
       "</style>\n",
       "<table border=\"1\" class=\"dataframe\">\n",
       "  <thead>\n",
       "    <tr style=\"text-align: right;\">\n",
       "      <th></th>\n",
       "      <th>test_recall-1</th>\n",
       "      <th>test_precision-1</th>\n",
       "    </tr>\n",
       "  </thead>\n",
       "  <tbody>\n",
       "    <tr>\n",
       "      <th>mean</th>\n",
       "      <td>0.364209</td>\n",
       "      <td>0.005687</td>\n",
       "    </tr>\n",
       "    <tr>\n",
       "      <th>std</th>\n",
       "      <td>0.129279</td>\n",
       "      <td>0.001752</td>\n",
       "    </tr>\n",
       "  </tbody>\n",
       "</table>\n",
       "</div>"
      ],
      "text/plain": [
       "      test_recall-1  test_precision-1\n",
       "mean       0.364209          0.005687\n",
       "std        0.129279          0.001752"
      ]
     },
     "execution_count": 37,
     "metadata": {},
     "output_type": "execute_result"
    }
   ],
   "source": [
    "scr_filt_under.describe().loc[(scr_cols)]"
   ]
  },
  {
   "cell_type": "markdown",
   "metadata": {},
   "source": [
    "### Baseline adjusted udnersample"
   ]
  },
  {
   "cell_type": "code",
   "execution_count": 35,
   "metadata": {},
   "outputs": [
    {
     "name": "stderr",
     "output_type": "stream",
     "text": [
      "[Parallel(n_jobs=-1)]: Using backend LokyBackend with 4 concurrent workers.\n",
      "[Parallel(n_jobs=-1)]: Done   2 out of   5 | elapsed:   35.9s remaining:   53.9s\n",
      "[Parallel(n_jobs=-1)]: Done   5 out of   5 | elapsed:   59.2s finished\n"
     ]
    }
   ],
   "source": [
    "scr_adjust = pd.DataFrame(cross_validate(\n",
    "    model, Xf, Y, cv=cv_adjust,\n",
    "    scoring=scoring, n_jobs=-1,\n",
    "    verbose=5, error_score='raise'\n",
    "))"
   ]
  },
  {
   "cell_type": "code",
   "execution_count": 38,
   "metadata": {},
   "outputs": [
    {
     "data": {
      "text/html": [
       "<div>\n",
       "<style scoped>\n",
       "    .dataframe tbody tr th:only-of-type {\n",
       "        vertical-align: middle;\n",
       "    }\n",
       "\n",
       "    .dataframe tbody tr th {\n",
       "        vertical-align: top;\n",
       "    }\n",
       "\n",
       "    .dataframe thead th {\n",
       "        text-align: right;\n",
       "    }\n",
       "</style>\n",
       "<table border=\"1\" class=\"dataframe\">\n",
       "  <thead>\n",
       "    <tr style=\"text-align: right;\">\n",
       "      <th></th>\n",
       "      <th>test_recall-1</th>\n",
       "      <th>test_precision-1</th>\n",
       "    </tr>\n",
       "  </thead>\n",
       "  <tbody>\n",
       "    <tr>\n",
       "      <th>mean</th>\n",
       "      <td>0.154538</td>\n",
       "      <td>0.236775</td>\n",
       "    </tr>\n",
       "    <tr>\n",
       "      <th>std</th>\n",
       "      <td>0.110080</td>\n",
       "      <td>0.136320</td>\n",
       "    </tr>\n",
       "  </tbody>\n",
       "</table>\n",
       "</div>"
      ],
      "text/plain": [
       "      test_recall-1  test_precision-1\n",
       "mean       0.154538          0.236775\n",
       "std        0.110080          0.136320"
      ]
     },
     "execution_count": 38,
     "metadata": {},
     "output_type": "execute_result"
    }
   ],
   "source": [
    "scr_adjust.describe().loc[(scr_cols)]"
   ]
  },
  {
   "cell_type": "markdown",
   "metadata": {},
   "source": [
    "### Filtered sample train + natural proportion test - Fill test predictions"
   ]
  },
  {
   "cell_type": "code",
   "execution_count": 20,
   "metadata": {},
   "outputs": [
    {
     "name": "stdout",
     "output_type": "stream",
     "text": [
      "5/5 splits scored\n"
     ]
    }
   ],
   "source": [
    "scrs = []\n",
    "for i, (t_ind, e_ind) in enumerate(cv_plus):\n",
    "    co(wait=True); print(f'{i+1}/{len(cv_plus)} splits scored')\n",
    "    xt, xe, yt, ye = Xf.iloc[t_ind], Xf.iloc[e_ind], Y.iloc[t_ind], Y.iloc[e_ind]\n",
    "    model.fit(xt, yt)\n",
    "    yhat = model.predict(xe)\n",
    "    # Fill prediction of outsider group \n",
    "    filt_out = pd.Series(e_ind, dtype='int').isin(out_index).values\n",
    "    yhat[filt_out] = 0.0  # Fix prediction for data left out of the filter\n",
    "    scr = pd.DataFrame(cr(ye, yhat, output_dict=True)).T\n",
    "    scr = pd.concat([scr.loc[['0.0', '1.0', 'macro avg'], 'recall'], scr.loc[['0.0', '1.0', 'macro avg'], 'precision']])\n",
    "    scr.index = ['recall 0', 'recall 1', 'recall', 'precision 0', 'precision 1',  'precision']\n",
    "    scrs.append(scr)\n",
    "scr_fill = pd.concat(scrs, 1).T"
   ]
  },
  {
   "cell_type": "markdown",
   "metadata": {},
   "source": [
    "---\n",
    "# Visualize cross validation results"
   ]
  },
  {
   "cell_type": "markdown",
   "metadata": {},
   "source": [
    "### Score statistical description comparison"
   ]
  },
  {
   "cell_type": "code",
   "execution_count": 21,
   "metadata": {},
   "outputs": [
    {
     "name": "stdout",
     "output_type": "stream",
     "text": [
      "\n",
      " Base line - true proportion \n",
      "\n"
     ]
    },
    {
     "data": {
      "text/html": [
       "<div>\n",
       "<style scoped>\n",
       "    .dataframe tbody tr th:only-of-type {\n",
       "        vertical-align: middle;\n",
       "    }\n",
       "\n",
       "    .dataframe tbody tr th {\n",
       "        vertical-align: top;\n",
       "    }\n",
       "\n",
       "    .dataframe thead th {\n",
       "        text-align: right;\n",
       "    }\n",
       "</style>\n",
       "<table border=\"1\" class=\"dataframe\">\n",
       "  <thead>\n",
       "    <tr style=\"text-align: right;\">\n",
       "      <th></th>\n",
       "      <th>test_recall-0</th>\n",
       "      <th>test_recall-1</th>\n",
       "      <th>test_precision-1</th>\n",
       "    </tr>\n",
       "  </thead>\n",
       "  <tbody>\n",
       "    <tr>\n",
       "      <th>mean</th>\n",
       "      <td>0.999666</td>\n",
       "      <td>0.232143</td>\n",
       "      <td>0.684211</td>\n",
       "    </tr>\n",
       "    <tr>\n",
       "      <th>min</th>\n",
       "      <td>0.999666</td>\n",
       "      <td>0.232143</td>\n",
       "      <td>0.684211</td>\n",
       "    </tr>\n",
       "    <tr>\n",
       "      <th>max</th>\n",
       "      <td>0.999666</td>\n",
       "      <td>0.232143</td>\n",
       "      <td>0.684211</td>\n",
       "    </tr>\n",
       "    <tr>\n",
       "      <th>std</th>\n",
       "      <td>NaN</td>\n",
       "      <td>NaN</td>\n",
       "      <td>NaN</td>\n",
       "    </tr>\n",
       "  </tbody>\n",
       "</table>\n",
       "</div>"
      ],
      "text/plain": [
       "      test_recall-0  test_recall-1  test_precision-1\n",
       "mean       0.999666       0.232143          0.684211\n",
       "min        0.999666       0.232143          0.684211\n",
       "max        0.999666       0.232143          0.684211\n",
       "std             NaN            NaN               NaN"
      ]
     },
     "metadata": {},
     "output_type": "display_data"
    },
    {
     "name": "stdout",
     "output_type": "stream",
     "text": [
      "\n",
      " Filtered - internal proportion \n",
      "\n"
     ]
    },
    {
     "data": {
      "text/html": [
       "<div>\n",
       "<style scoped>\n",
       "    .dataframe tbody tr th:only-of-type {\n",
       "        vertical-align: middle;\n",
       "    }\n",
       "\n",
       "    .dataframe tbody tr th {\n",
       "        vertical-align: top;\n",
       "    }\n",
       "\n",
       "    .dataframe thead th {\n",
       "        text-align: right;\n",
       "    }\n",
       "</style>\n",
       "<table border=\"1\" class=\"dataframe\">\n",
       "  <thead>\n",
       "    <tr style=\"text-align: right;\">\n",
       "      <th></th>\n",
       "      <th>test_recall-0</th>\n",
       "      <th>test_recall-1</th>\n",
       "      <th>test_precision-1</th>\n",
       "    </tr>\n",
       "  </thead>\n",
       "  <tbody>\n",
       "    <tr>\n",
       "      <th>mean</th>\n",
       "      <td>0.997553</td>\n",
       "      <td>0.212072</td>\n",
       "      <td>0.684146</td>\n",
       "    </tr>\n",
       "    <tr>\n",
       "      <th>min</th>\n",
       "      <td>0.995722</td>\n",
       "      <td>0.120000</td>\n",
       "      <td>0.580645</td>\n",
       "    </tr>\n",
       "    <tr>\n",
       "      <th>max</th>\n",
       "      <td>0.998684</td>\n",
       "      <td>0.283784</td>\n",
       "      <td>0.777778</td>\n",
       "    </tr>\n",
       "    <tr>\n",
       "      <th>std</th>\n",
       "      <td>0.001102</td>\n",
       "      <td>0.064946</td>\n",
       "      <td>0.074158</td>\n",
       "    </tr>\n",
       "  </tbody>\n",
       "</table>\n",
       "</div>"
      ],
      "text/plain": [
       "      test_recall-0  test_recall-1  test_precision-1\n",
       "mean       0.997553       0.212072          0.684146\n",
       "min        0.995722       0.120000          0.580645\n",
       "max        0.998684       0.283784          0.777778\n",
       "std        0.001102       0.064946          0.074158"
      ]
     },
     "metadata": {},
     "output_type": "display_data"
    },
    {
     "name": "stdout",
     "output_type": "stream",
     "text": [
      "\n",
      " Filtered - true proportion \n",
      "\n"
     ]
    },
    {
     "data": {
      "text/html": [
       "<div>\n",
       "<style scoped>\n",
       "    .dataframe tbody tr th:only-of-type {\n",
       "        vertical-align: middle;\n",
       "    }\n",
       "\n",
       "    .dataframe tbody tr th {\n",
       "        vertical-align: top;\n",
       "    }\n",
       "\n",
       "    .dataframe thead th {\n",
       "        text-align: right;\n",
       "    }\n",
       "</style>\n",
       "<table border=\"1\" class=\"dataframe\">\n",
       "  <thead>\n",
       "    <tr style=\"text-align: right;\">\n",
       "      <th></th>\n",
       "      <th>test_recall-0</th>\n",
       "      <th>test_recall-1</th>\n",
       "      <th>test_precision-1</th>\n",
       "    </tr>\n",
       "  </thead>\n",
       "  <tbody>\n",
       "    <tr>\n",
       "      <th>mean</th>\n",
       "      <td>0.778707</td>\n",
       "      <td>0.217405</td>\n",
       "      <td>0.081988</td>\n",
       "    </tr>\n",
       "    <tr>\n",
       "      <th>min</th>\n",
       "      <td>0.436049</td>\n",
       "      <td>0.146667</td>\n",
       "      <td>0.001326</td>\n",
       "    </tr>\n",
       "    <tr>\n",
       "      <th>max</th>\n",
       "      <td>0.999085</td>\n",
       "      <td>0.283784</td>\n",
       "      <td>0.371429</td>\n",
       "    </tr>\n",
       "    <tr>\n",
       "      <th>std</th>\n",
       "      <td>0.253066</td>\n",
       "      <td>0.055970</td>\n",
       "      <td>0.162178</td>\n",
       "    </tr>\n",
       "  </tbody>\n",
       "</table>\n",
       "</div>"
      ],
      "text/plain": [
       "      test_recall-0  test_recall-1  test_precision-1\n",
       "mean       0.778707       0.217405          0.081988\n",
       "min        0.436049       0.146667          0.001326\n",
       "max        0.999085       0.283784          0.371429\n",
       "std        0.253066       0.055970          0.162178"
      ]
     },
     "metadata": {},
     "output_type": "display_data"
    },
    {
     "name": "stdout",
     "output_type": "stream",
     "text": [
      "\n",
      " Filtered fixed predictions - true proportion \n",
      "\n"
     ]
    },
    {
     "data": {
      "text/html": [
       "<div>\n",
       "<style scoped>\n",
       "    .dataframe tbody tr th:only-of-type {\n",
       "        vertical-align: middle;\n",
       "    }\n",
       "\n",
       "    .dataframe tbody tr th {\n",
       "        vertical-align: top;\n",
       "    }\n",
       "\n",
       "    .dataframe thead th {\n",
       "        text-align: right;\n",
       "    }\n",
       "</style>\n",
       "<table border=\"1\" class=\"dataframe\">\n",
       "  <thead>\n",
       "    <tr style=\"text-align: right;\">\n",
       "      <th></th>\n",
       "      <th>recall 0</th>\n",
       "      <th>recall 1</th>\n",
       "      <th>precision 1</th>\n",
       "    </tr>\n",
       "  </thead>\n",
       "  <tbody>\n",
       "    <tr>\n",
       "      <th>mean</th>\n",
       "      <td>0.999950</td>\n",
       "      <td>0.217405</td>\n",
       "      <td>0.936623</td>\n",
       "    </tr>\n",
       "    <tr>\n",
       "      <th>min</th>\n",
       "      <td>0.999916</td>\n",
       "      <td>0.146667</td>\n",
       "      <td>0.900000</td>\n",
       "    </tr>\n",
       "    <tr>\n",
       "      <th>max</th>\n",
       "      <td>1.000000</td>\n",
       "      <td>0.283784</td>\n",
       "      <td>1.000000</td>\n",
       "    </tr>\n",
       "    <tr>\n",
       "      <th>std</th>\n",
       "      <td>0.000035</td>\n",
       "      <td>0.055970</td>\n",
       "      <td>0.042087</td>\n",
       "    </tr>\n",
       "  </tbody>\n",
       "</table>\n",
       "</div>"
      ],
      "text/plain": [
       "      recall 0  recall 1  precision 1\n",
       "mean  0.999950  0.217405     0.936623\n",
       "min   0.999916  0.146667     0.900000\n",
       "max   1.000000  0.283784     1.000000\n",
       "std   0.000035  0.055970     0.042087"
      ]
     },
     "metadata": {},
     "output_type": "display_data"
    }
   ],
   "source": [
    "desc_base = group_shuffle_scr.describe().loc[['mean', 'min', 'max', 'std'], ['test_recall-0', 'test_recall-1', 'test_precision-1']]\n",
    "desc_filt = scr_filt.describe().loc[['mean', 'min', 'max', 'std'], ['test_recall-0', 'test_recall-1', 'test_precision-1']]\n",
    "desc_out = scr_out.describe().loc[['mean', 'min', 'max', 'std'], ['test_recall-0', 'test_recall-1', 'test_precision-1']]\n",
    "desc_fill = scr_fill.describe().loc[['mean', 'min', 'max', 'std'], ['recall 0', 'recall 1', 'precision 1']]\n",
    "\n",
    "titles = [\n",
    "    'Base line - true proportion',\n",
    "    'Filtered - internal proportion',\n",
    "    'Filtered - true proportion',\n",
    "    'Filtered fixed predictions - true proportion'\n",
    "]\n",
    "\n",
    "descs = [desc_base, desc_filt, desc_out, desc_fill]\n",
    "\n",
    "for title, desc in zip(titles, descs):\n",
    "    print('\\n', title, '\\n')\n",
    "    display(pd.concat([desc]))"
   ]
  },
  {
   "cell_type": "markdown",
   "metadata": {},
   "source": [
    "### Score distribution comparison for baseline vs predicted vs filled excluded samples"
   ]
  },
  {
   "cell_type": "code",
   "execution_count": 22,
   "metadata": {},
   "outputs": [
    {
     "name": "stderr",
     "output_type": "stream",
     "text": [
      "c:\\Users\\luisr\\anaconda3\\lib\\site-packages\\seaborn\\distributions.py:283: UserWarning: Data must have variance to compute a kernel density estimate.\n",
      "  warnings.warn(msg, UserWarning)\n",
      "c:\\Users\\luisr\\anaconda3\\lib\\site-packages\\seaborn\\distributions.py:283: UserWarning: Data must have variance to compute a kernel density estimate.\n",
      "  warnings.warn(msg, UserWarning)\n",
      "c:\\Users\\luisr\\anaconda3\\lib\\site-packages\\seaborn\\distributions.py:283: UserWarning: Data must have variance to compute a kernel density estimate.\n",
      "  warnings.warn(msg, UserWarning)\n",
      "c:\\Users\\luisr\\anaconda3\\lib\\site-packages\\seaborn\\distributions.py:283: UserWarning: Data must have variance to compute a kernel density estimate.\n",
      "  warnings.warn(msg, UserWarning)\n"
     ]
    },
    {
     "data": {
      "image/png": "[encoded data removed]",
      "text/plain": [
       "<Figure size 960.975x720 with 20 Axes>"
      ]
     },
     "metadata": {},
     "output_type": "display_data"
    }
   ],
   "source": [
    "scr_fill_fmt = scr_fill.rename(columns={\n",
    "    'recall 0': 'test_recall-0',\n",
    "    'recall 1': 'test_recall-1',\n",
    "    'precision 1': 'test_precision-1',\n",
    "    'recall': 'test_recall'\n",
    "})\n",
    "\n",
    "titles = [\n",
    "    'Base line - natural',\n",
    "    'Base line - Undersample',\n",
    "    'Filtered - Natural',\n",
    "    'Filtered - Undersample',\n",
    "    'Base line - Adjusted',\n",
    "]\n",
    "\n",
    "scrs = [\n",
    "    group_shuffle_scr,\n",
    "    scr_filt,\n",
    "    scr_out,\n",
    "    scr_fill_fmt,\n",
    "]\n",
    "\n",
    "for i, score in enumerate(scrs):\n",
    "    scrs[i]['Test'] = titles[i]\n",
    "\n",
    "tests = pd.concat(scrs, join='inner')[['test_recall-0', 'test_recall-1', 'test_precision-1', 'test_recall', 'Test']]\n",
    "\n",
    "ax = sns.pairplot(tests, hue='Test')"
   ]
  },
  {
   "cell_type": "markdown",
   "metadata": {},
   "source": [
    "---\n",
    "# Final Model Evaluation"
   ]
  },
  {
   "cell_type": "markdown",
   "metadata": {},
   "source": [
    "### Select best split"
   ]
  },
  {
   "cell_type": "code",
   "execution_count": 23,
   "metadata": {},
   "outputs": [
    {
     "data": {
      "text/html": [
       "<div>\n",
       "<style scoped>\n",
       "    .dataframe tbody tr th:only-of-type {\n",
       "        vertical-align: middle;\n",
       "    }\n",
       "\n",
       "    .dataframe tbody tr th {\n",
       "        vertical-align: top;\n",
       "    }\n",
       "\n",
       "    .dataframe thead th {\n",
       "        text-align: right;\n",
       "    }\n",
       "</style>\n",
       "<table border=\"1\" class=\"dataframe\">\n",
       "  <thead>\n",
       "    <tr style=\"text-align: right;\">\n",
       "      <th></th>\n",
       "      <th>test_recall-1</th>\n",
       "      <th>test_precision-1</th>\n",
       "    </tr>\n",
       "  </thead>\n",
       "  <tbody>\n",
       "    <tr>\n",
       "      <th>1</th>\n",
       "      <td>0.283784</td>\n",
       "      <td>0.777778</td>\n",
       "    </tr>\n",
       "    <tr>\n",
       "      <th>2</th>\n",
       "      <td>0.243243</td>\n",
       "      <td>0.720000</td>\n",
       "    </tr>\n",
       "    <tr>\n",
       "      <th>4</th>\n",
       "      <td>0.240000</td>\n",
       "      <td>0.580645</td>\n",
       "    </tr>\n",
       "    <tr>\n",
       "      <th>0</th>\n",
       "      <td>0.173333</td>\n",
       "      <td>0.650000</td>\n",
       "    </tr>\n",
       "    <tr>\n",
       "      <th>3</th>\n",
       "      <td>0.120000</td>\n",
       "      <td>0.692308</td>\n",
       "    </tr>\n",
       "  </tbody>\n",
       "</table>\n",
       "</div>"
      ],
      "text/plain": [
       "   test_recall-1  test_precision-1\n",
       "1       0.283784          0.777778\n",
       "2       0.243243          0.720000\n",
       "4       0.240000          0.580645\n",
       "0       0.173333          0.650000\n",
       "3       0.120000          0.692308"
      ]
     },
     "execution_count": 23,
     "metadata": {},
     "output_type": "execute_result"
    }
   ],
   "source": [
    "scr_filt.sort_values('test_recall', ascending=False)[['test_recall-1', 'test_precision-1']]"
   ]
  },
  {
   "cell_type": "code",
   "execution_count": 24,
   "metadata": {},
   "outputs": [],
   "source": [
    "selected_split = 3\n",
    "split = cv_filt[selected_split]"
   ]
  },
  {
   "cell_type": "markdown",
   "metadata": {},
   "source": [
    "### Optional: Shuffle split"
   ]
  },
  {
   "cell_type": "code",
   "execution_count": null,
   "metadata": {},
   "outputs": [],
   "source": []
  },
  {
   "cell_type": "markdown",
   "metadata": {},
   "source": [
    "### Filter internal train test samples"
   ]
  },
  {
   "cell_type": "code",
   "execution_count": 25,
   "metadata": {},
   "outputs": [
    {
     "data": {
      "text/html": [
       "<div>\n",
       "<style scoped>\n",
       "    .dataframe tbody tr th:only-of-type {\n",
       "        vertical-align: middle;\n",
       "    }\n",
       "\n",
       "    .dataframe tbody tr th {\n",
       "        vertical-align: top;\n",
       "    }\n",
       "\n",
       "    .dataframe thead th {\n",
       "        text-align: right;\n",
       "    }\n",
       "</style>\n",
       "<table border=\"1\" class=\"dataframe\">\n",
       "  <thead>\n",
       "    <tr style=\"text-align: right;\">\n",
       "      <th></th>\n",
       "      <th>Train set</th>\n",
       "      <th>Test set</th>\n",
       "    </tr>\n",
       "    <tr>\n",
       "      <th>Class</th>\n",
       "      <th></th>\n",
       "      <th></th>\n",
       "    </tr>\n",
       "  </thead>\n",
       "  <tbody>\n",
       "    <tr>\n",
       "      <th>0.0</th>\n",
       "      <td>12072</td>\n",
       "      <td>3039</td>\n",
       "    </tr>\n",
       "    <tr>\n",
       "      <th>1.0</th>\n",
       "      <td>298</td>\n",
       "      <td>75</td>\n",
       "    </tr>\n",
       "  </tbody>\n",
       "</table>\n",
       "</div>"
      ],
      "text/plain": [
       "       Train set  Test set\n",
       "Class                     \n",
       "0.0        12072      3039\n",
       "1.0          298        75"
      ]
     },
     "metadata": {},
     "output_type": "display_data"
    }
   ],
   "source": [
    "t_ind, e_ind = split[0], split[1]\n",
    "print_cls_cnt(Y_filt, t_ind, e_ind)\n",
    "\n",
    "xt, xe = X_filt.iloc[t_ind], X_filt.iloc[e_ind]\n",
    "yt, ye = Y_filt.iloc[t_ind], Y_filt.iloc[e_ind]"
   ]
  },
  {
   "cell_type": "markdown",
   "metadata": {},
   "source": [
    "### Filtered train vs rest sample"
   ]
  },
  {
   "cell_type": "code",
   "execution_count": 26,
   "metadata": {},
   "outputs": [
    {
     "data": {
      "text/html": [
       "<div>\n",
       "<style scoped>\n",
       "    .dataframe tbody tr th:only-of-type {\n",
       "        vertical-align: middle;\n",
       "    }\n",
       "\n",
       "    .dataframe tbody tr th {\n",
       "        vertical-align: top;\n",
       "    }\n",
       "\n",
       "    .dataframe thead th {\n",
       "        text-align: right;\n",
       "    }\n",
       "</style>\n",
       "<table border=\"1\" class=\"dataframe\">\n",
       "  <thead>\n",
       "    <tr style=\"text-align: right;\">\n",
       "      <th></th>\n",
       "      <th>Train set</th>\n",
       "      <th>Test set</th>\n",
       "    </tr>\n",
       "    <tr>\n",
       "      <th>Class</th>\n",
       "      <th></th>\n",
       "      <th></th>\n",
       "    </tr>\n",
       "  </thead>\n",
       "  <tbody>\n",
       "    <tr>\n",
       "      <th>0.0</th>\n",
       "      <td>12072</td>\n",
       "      <td>107458</td>\n",
       "    </tr>\n",
       "    <tr>\n",
       "      <th>1.0</th>\n",
       "      <td>298</td>\n",
       "      <td>75</td>\n",
       "    </tr>\n",
       "  </tbody>\n",
       "</table>\n",
       "</div>"
      ],
      "text/plain": [
       "       Train set  Test set\n",
       "Class                     \n",
       "0.0        12072    107458\n",
       "1.0          298        75"
      ]
     },
     "metadata": {},
     "output_type": "display_data"
    }
   ],
   "source": [
    "train_index = yt.index\n",
    "test_index = Y.drop(yt.index).index\n",
    "print_cls_cnt(Y, train_index, test_index)\n",
    "\n",
    "x_rest, y_rest = Xf.loc[test_index], Y.loc[test_index]"
   ]
  },
  {
   "cell_type": "markdown",
   "metadata": {},
   "source": [
    "### True proportion test sample"
   ]
  },
  {
   "cell_type": "code",
   "execution_count": 27,
   "metadata": {},
   "outputs": [
    {
     "data": {
      "text/html": [
       "<div>\n",
       "<style scoped>\n",
       "    .dataframe tbody tr th:only-of-type {\n",
       "        vertical-align: middle;\n",
       "    }\n",
       "\n",
       "    .dataframe tbody tr th {\n",
       "        vertical-align: top;\n",
       "    }\n",
       "\n",
       "    .dataframe thead th {\n",
       "        text-align: right;\n",
       "    }\n",
       "</style>\n",
       "<table border=\"1\" class=\"dataframe\">\n",
       "  <thead>\n",
       "    <tr style=\"text-align: right;\">\n",
       "      <th></th>\n",
       "      <th>Test size - true proportion</th>\n",
       "    </tr>\n",
       "  </thead>\n",
       "  <tbody>\n",
       "    <tr>\n",
       "      <th>0.0</th>\n",
       "      <td>24034</td>\n",
       "    </tr>\n",
       "    <tr>\n",
       "      <th>1.0</th>\n",
       "      <td>75</td>\n",
       "    </tr>\n",
       "  </tbody>\n",
       "</table>\n",
       "</div>"
      ],
      "text/plain": [
       "     Test size - true proportion\n",
       "0.0                        24034\n",
       "1.0                           75"
      ]
     },
     "metadata": {},
     "output_type": "display_data"
    }
   ],
   "source": [
    "from imblearn.under_sampling import RandomUnderSampler\n",
    "\n",
    "y_cnt = Y.value_counts()\n",
    "rus = RandomUnderSampler(sampling_strategy=y_cnt[1]/y_cnt[0], random_state=seed)\n",
    "\n",
    "x_true, y_true = rus.fit_resample(x_rest, y_rest) # resample full test data to true proportion\n",
    "y_true.index = y_rest.iloc[rus.sample_indices_].index\n",
    "x_true.index = y_true.index\n",
    "\n",
    "display(y_true.value_counts().to_frame('Test size - true proportion'))"
   ]
  },
  {
   "cell_type": "markdown",
   "metadata": {},
   "source": [
    "### Sample leaking"
   ]
  },
  {
   "cell_type": "code",
   "execution_count": 28,
   "metadata": {},
   "outputs": [
    {
     "data": {
      "text/plain": [
       "0"
      ]
     },
     "execution_count": 28,
     "metadata": {},
     "output_type": "execute_result"
    }
   ],
   "source": [
    "train_index.isin(ye.index).sum()"
   ]
  },
  {
   "cell_type": "code",
   "execution_count": 29,
   "metadata": {},
   "outputs": [
    {
     "data": {
      "text/plain": [
       "0"
      ]
     },
     "execution_count": 29,
     "metadata": {},
     "output_type": "execute_result"
    }
   ],
   "source": [
    "train_index.isin(test_index).sum()"
   ]
  },
  {
   "cell_type": "code",
   "execution_count": 30,
   "metadata": {},
   "outputs": [
    {
     "data": {
      "text/plain": [
       "0"
      ]
     },
     "execution_count": 30,
     "metadata": {},
     "output_type": "execute_result"
    }
   ],
   "source": [
    "train_index.isin(x_true.index).sum()"
   ]
  },
  {
   "cell_type": "code",
   "execution_count": 31,
   "metadata": {},
   "outputs": [
    {
     "data": {
      "text/plain": [
       "0"
      ]
     },
     "execution_count": 31,
     "metadata": {},
     "output_type": "execute_result"
    }
   ],
   "source": [
    "train_index.isin(X_eval.index).sum()"
   ]
  },
  {
   "cell_type": "markdown",
   "metadata": {},
   "source": [
    "### Fit model to train data"
   ]
  },
  {
   "cell_type": "code",
   "execution_count": 32,
   "metadata": {},
   "outputs": [
    {
     "name": "stdout",
     "output_type": "stream",
     "text": [
      "      Iter       Train Loss   Remaining Time \n",
      "         1           0.1661           30.61s\n",
      "         2           0.1460           29.81s\n",
      "         3           0.1351           29.47s\n",
      "         4           0.1259           28.80s\n",
      "         5           0.1161           28.46s\n",
      "         6           0.1092           28.23s\n",
      "         7           0.1043           27.77s\n",
      "         8           0.0968           28.07s\n",
      "         9           0.0921           27.96s\n",
      "        10           0.0885           27.76s\n",
      "        20           0.0631           24.89s\n",
      "        30           0.0456           21.80s\n",
      "        40           0.0378           18.66s\n",
      "        50           0.0328           15.63s\n",
      "        60           0.0298           12.45s\n",
      "        70           0.0273            9.34s\n",
      "        80           0.0234            6.30s\n",
      "        90           0.0220            3.17s\n",
      "       100           0.0204            0.00s\n"
     ]
    },
    {
     "data": {
      "text/plain": [
       "GradientBoostingClassifier(random_state=0, verbose=1)"
      ]
     },
     "execution_count": 32,
     "metadata": {},
     "output_type": "execute_result"
    }
   ],
   "source": [
    "model = gbc(n_estimators=100, random_state=seed, verbose=1)\n",
    "\n",
    "model.fit(xt, yt)"
   ]
  },
  {
   "cell_type": "markdown",
   "metadata": {},
   "source": [
    "### Split internal proportion test set score"
   ]
  },
  {
   "cell_type": "code",
   "execution_count": 33,
   "metadata": {},
   "outputs": [
    {
     "data": {
      "text/html": [
       "<div>\n",
       "<style scoped>\n",
       "    .dataframe tbody tr th:only-of-type {\n",
       "        vertical-align: middle;\n",
       "    }\n",
       "\n",
       "    .dataframe tbody tr th {\n",
       "        vertical-align: top;\n",
       "    }\n",
       "\n",
       "    .dataframe thead th {\n",
       "        text-align: right;\n",
       "    }\n",
       "</style>\n",
       "<table border=\"1\" class=\"dataframe\">\n",
       "  <thead>\n",
       "    <tr style=\"text-align: right;\">\n",
       "      <th></th>\n",
       "      <th>precision</th>\n",
       "      <th>recall</th>\n",
       "      <th>f1-score</th>\n",
       "      <th>support</th>\n",
       "    </tr>\n",
       "  </thead>\n",
       "  <tbody>\n",
       "    <tr>\n",
       "      <th>0.0</th>\n",
       "      <td>0.978717</td>\n",
       "      <td>0.998684</td>\n",
       "      <td>0.988599</td>\n",
       "      <td>3039.0</td>\n",
       "    </tr>\n",
       "    <tr>\n",
       "      <th>1.0</th>\n",
       "      <td>0.692308</td>\n",
       "      <td>0.120000</td>\n",
       "      <td>0.204545</td>\n",
       "      <td>75.0</td>\n",
       "    </tr>\n",
       "  </tbody>\n",
       "</table>\n",
       "</div>"
      ],
      "text/plain": [
       "     precision    recall  f1-score  support\n",
       "0.0   0.978717  0.998684  0.988599   3039.0\n",
       "1.0   0.692308  0.120000  0.204545     75.0"
      ]
     },
     "metadata": {},
     "output_type": "display_data"
    }
   ],
   "source": [
    "yhat = model.predict(xe)\n",
    "CR = pd.DataFrame(cr(ye, yhat, digits=4, output_dict=True)).T\n",
    "display(CR.loc[['0.0', '1.0']])"
   ]
  },
  {
   "cell_type": "markdown",
   "metadata": {},
   "source": [
    "### True proportion test set score"
   ]
  },
  {
   "cell_type": "code",
   "execution_count": 34,
   "metadata": {},
   "outputs": [
    {
     "data": {
      "text/html": [
       "<div>\n",
       "<style scoped>\n",
       "    .dataframe tbody tr th:only-of-type {\n",
       "        vertical-align: middle;\n",
       "    }\n",
       "\n",
       "    .dataframe tbody tr th {\n",
       "        vertical-align: top;\n",
       "    }\n",
       "\n",
       "    .dataframe thead th {\n",
       "        text-align: right;\n",
       "    }\n",
       "</style>\n",
       "<table border=\"1\" class=\"dataframe\">\n",
       "  <thead>\n",
       "    <tr style=\"text-align: right;\">\n",
       "      <th></th>\n",
       "      <th>precision</th>\n",
       "      <th>recall</th>\n",
       "      <th>f1-score</th>\n",
       "      <th>support</th>\n",
       "    </tr>\n",
       "  </thead>\n",
       "  <tbody>\n",
       "    <tr>\n",
       "      <th>0.0</th>\n",
       "      <td>0.997127</td>\n",
       "      <td>0.952983</td>\n",
       "      <td>0.974555</td>\n",
       "      <td>24034.0</td>\n",
       "    </tr>\n",
       "    <tr>\n",
       "      <th>1.0</th>\n",
       "      <td>0.007902</td>\n",
       "      <td>0.120000</td>\n",
       "      <td>0.014827</td>\n",
       "      <td>75.0</td>\n",
       "    </tr>\n",
       "  </tbody>\n",
       "</table>\n",
       "</div>"
      ],
      "text/plain": [
       "     precision    recall  f1-score  support\n",
       "0.0   0.997127  0.952983  0.974555  24034.0\n",
       "1.0   0.007902  0.120000  0.014827     75.0"
      ]
     },
     "metadata": {},
     "output_type": "display_data"
    }
   ],
   "source": [
    "yhat_true = model.predict(x_true)\n",
    "CR = pd.DataFrame(cr(y_true, yhat_true, digits=4, output_dict=True)).T\n",
    "display(CR.loc[['0.0', '1.0']])"
   ]
  },
  {
   "cell_type": "markdown",
   "metadata": {},
   "source": [
    "Obs: Test negative sample size is increased but negative precision increases anyway, against what's expected."
   ]
  },
  {
   "cell_type": "markdown",
   "metadata": {},
   "source": [
    "### Validation set score"
   ]
  },
  {
   "cell_type": "code",
   "execution_count": 35,
   "metadata": {},
   "outputs": [
    {
     "data": {
      "text/html": [
       "<div>\n",
       "<style scoped>\n",
       "    .dataframe tbody tr th:only-of-type {\n",
       "        vertical-align: middle;\n",
       "    }\n",
       "\n",
       "    .dataframe tbody tr th {\n",
       "        vertical-align: top;\n",
       "    }\n",
       "\n",
       "    .dataframe thead th {\n",
       "        text-align: right;\n",
       "    }\n",
       "</style>\n",
       "<table border=\"1\" class=\"dataframe\">\n",
       "  <thead>\n",
       "    <tr style=\"text-align: right;\">\n",
       "      <th></th>\n",
       "      <th>precision</th>\n",
       "      <th>recall</th>\n",
       "      <th>f1-score</th>\n",
       "      <th>support</th>\n",
       "    </tr>\n",
       "  </thead>\n",
       "  <tbody>\n",
       "    <tr>\n",
       "      <th>0.0</th>\n",
       "      <td>0.999307</td>\n",
       "      <td>0.915465</td>\n",
       "      <td>0.955550</td>\n",
       "      <td>17330.0</td>\n",
       "    </tr>\n",
       "    <tr>\n",
       "      <th>1.0</th>\n",
       "      <td>0.023333</td>\n",
       "      <td>0.760870</td>\n",
       "      <td>0.045278</td>\n",
       "      <td>46.0</td>\n",
       "    </tr>\n",
       "  </tbody>\n",
       "</table>\n",
       "</div>"
      ],
      "text/plain": [
       "     precision    recall  f1-score  support\n",
       "0.0   0.999307  0.915465  0.955550  17330.0\n",
       "1.0   0.023333  0.760870  0.045278     46.0"
      ]
     },
     "metadata": {},
     "output_type": "display_data"
    }
   ],
   "source": [
    "yhat_eval = model.predict(X_eval)\n",
    "scr = pd.DataFrame(cr(Y_eval, yhat_eval, output_dict=True)).T\n",
    "display(scr.loc[['0.0', '1.0']])"
   ]
  },
  {
   "cell_type": "markdown",
   "metadata": {},
   "source": [
    "### Filled validation set score"
   ]
  },
  {
   "cell_type": "code",
   "execution_count": 36,
   "metadata": {},
   "outputs": [
    {
     "ename": "NameError",
     "evalue": "name 'n_filters' is not defined",
     "output_type": "error",
     "traceback": [
      "\u001b[1;31m---------------------------------------------------------------------------\u001b[0m",
      "\u001b[1;31mNameError\u001b[0m                                 Traceback (most recent call last)",
      "\u001b[1;32m<ipython-input-36-8f15f359feaf>\u001b[0m in \u001b[0;36m<module>\u001b[1;34m\u001b[0m\n\u001b[0;32m      2\u001b[0m X_eval_filt = min_max_filter(\n\u001b[0;32m      3\u001b[0m     \u001b[0mX_eval\u001b[0m\u001b[1;33m,\u001b[0m \u001b[0mmin_values\u001b[0m\u001b[1;33m,\u001b[0m \u001b[1;31m# max_values,\u001b[0m\u001b[1;33m\u001b[0m\u001b[1;33m\u001b[0m\u001b[0m\n\u001b[1;32m----> 4\u001b[1;33m     \u001b[0mn_filters\u001b[0m\u001b[1;33m=\u001b[0m\u001b[0mn_filters\u001b[0m\u001b[1;33m,\u001b[0m \u001b[0mmargin_min\u001b[0m\u001b[1;33m=\u001b[0m\u001b[1;36m0.0\u001b[0m\u001b[1;33m,\u001b[0m \u001b[0mmargin_max\u001b[0m\u001b[1;33m=\u001b[0m\u001b[1;36m0.0\u001b[0m\u001b[1;33m\u001b[0m\u001b[1;33m\u001b[0m\u001b[0m\n\u001b[0m\u001b[0;32m      5\u001b[0m )\n\u001b[0;32m      6\u001b[0m \u001b[1;33m\u001b[0m\u001b[0m\n",
      "\u001b[1;31mNameError\u001b[0m: name 'n_filters' is not defined"
     ]
    }
   ],
   "source": [
    "# Filter data by positive class minimum values\n",
    "X_eval_filt = min_max_filter(\n",
    "    X_eval, min_values, # max_values,\n",
    "    n_filters=n_filters, margin_min=0.0, margin_max=0.0\n",
    ")\n",
    "\n",
    "filt_out = ~ Y_eval.index.isin(X_eval_filt.index)\n",
    "\n",
    "yhat_fill = yhat_eval.copy()\n",
    "yhat_fill[filt_out] = 0.0  # Fix prediction for data left out of the filter\n",
    "\n",
    "scr = pd.DataFrame(cr(Y_eval, yhat_fill, output_dict=True)).T\n",
    "display(scr.loc[['0.0', '1.0']])"
   ]
  }
 ],
 "metadata": {
  "kernelspec": {
   "display_name": "Python 3",
   "language": "python",
   "name": "python3"
  },
  "language_info": {
   "codemirror_mode": {
    "name": "ipython",
    "version": 3
   },
   "file_extension": ".py",
   "mimetype": "text/x-python",
   "name": "python",
   "nbconvert_exporter": "python",
   "pygments_lexer": "ipython3",
   "version": "3.8.3"
  }
 },
 "nbformat": 4,
 "nbformat_minor": 4
}
