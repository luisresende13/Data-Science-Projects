{
 "cells": [
  {
   "cell_type": "markdown",
   "metadata": {},
   "source": [
    "# WATER BAG CLASSIFICATION - CLUSTER MODELS\n",
    "### BASED ON INMET AND ALERTA-RIO METHEOROLOGICAL STATIONS DATA"
   ]
  },
  {
   "cell_type": "markdown",
   "metadata": {},
   "source": [
    "---\n",
    "## Define Functions"
   ]
  },
  {
   "cell_type": "code",
   "execution_count": 2,
   "metadata": {},
   "outputs": [],
   "source": [
    "def a():\n",
    "    b = 10"
   ]
  },
  {
   "cell_type": "code",
   "execution_count": 4,
   "metadata": {},
   "outputs": [],
   "source": [
    "a()"
   ]
  },
  {
   "cell_type": "code",
   "execution_count": 5,
   "metadata": {},
   "outputs": [
    {
     "ename": "NameError",
     "evalue": "name 'b' is not defined",
     "output_type": "error",
     "traceback": [
      "\u001b[1;31m---------------------------------------------------------------------------\u001b[0m",
      "\u001b[1;31mNameError\u001b[0m                                 Traceback (most recent call last)",
      "\u001b[1;32m<ipython-input-5-89e6c98d9288>\u001b[0m in \u001b[0;36m<module>\u001b[1;34m\u001b[0m\n\u001b[1;32m----> 1\u001b[1;33m \u001b[0mb\u001b[0m\u001b[1;33m\u001b[0m\u001b[1;33m\u001b[0m\u001b[0m\n\u001b[0m",
      "\u001b[1;31mNameError\u001b[0m: name 'b' is not defined"
     ]
    }
   ],
   "source": [
    "b"
   ]
  },
  {
   "cell_type": "markdown",
   "metadata": {},
   "source": [
    "#### Change project root directory"
   ]
  },
  {
   "cell_type": "code",
   "execution_count": 1,
   "metadata": {},
   "outputs": [
    {
     "name": "stdout",
     "output_type": "stream",
     "text": [
      "C:\\Users\\luisr\\Desktop\\Repositories\\Data Science Projects\\Hackaton COR IV - Centro de Operações do RJ\\ACELERAÇÃO\n"
     ]
    }
   ],
   "source": [
    "cd ../"
   ]
  },
  {
   "cell_type": "markdown",
   "metadata": {},
   "source": [
    "#### Import modules and libraries"
   ]
  },
  {
   "cell_type": "code",
   "execution_count": 136,
   "metadata": {},
   "outputs": [],
   "source": [
    "import os, json, pandas as pd, numpy as np, pickle\n",
    "import matplotlib.pyplot as plt, seaborn as sns; sns.set()\n",
    "from IPython.display import clear_output as co\n",
    "\n",
    "#### Time serie features transformation pipeline & binary classification pipeline (Authoral)\n",
    "from Modulos.sample_filter import min_max_filter_stats, min_max_filter, filter_by_stats\n",
    "from Modulos.timeserie_transform import TimeseriesTransformPipeline\n",
    "from Modulos.imbalanced_selection import groupConsecutiveFlags, MinorityGroupSplitUndersample\n",
    "from Modulos.imbalanced_classification import ClassificationPipeline, classesGroupRecall\n",
    "\n",
    "#### Preprocessing & machine learning modules\n",
    "from sklearn.preprocessing import MinMaxScaler as mms\n",
    "from Modulos.cv_samplers import GroupUnderSampleSplit, print_cls_cnt\n",
    "from sklearn.utils import all_estimators\n",
    "from sklearn.metrics import classification_report as cr\n",
    "from imblearn import ensemble\n",
    "\n",
    "#  Classifier colleciton\n",
    "classifiers = dict(all_estimators('classifier'))\n",
    "\n",
    "# Select specific classification models\n",
    "gbc = classifiers['GradientBoostingClassifier']\n",
    "brfc = ensemble.BalancedRandomForestClassifier\n",
    "\n",
    "#### Define metrics and scoring functions\n",
    "from sklearn.model_selection import cross_validate\n",
    "from sklearn.metrics import make_scorer, recall_score, precision_score, f1_score, precision_recall_fscore_support\n",
    "\n",
    "recall_0 = make_scorer(recall_score, pos_label=0)\n",
    "recall_1 = make_scorer(recall_score, pos_label=1)\n",
    "precision_0 = make_scorer(precision_score, pos_label=0)\n",
    "precision_1 = make_scorer(precision_score, pos_label=1)\n",
    "f1_1 = make_scorer(f1_score, pos_label=1)\n",
    "\n",
    "scoring = {\n",
    "    'accuracy': 'accuracy',\n",
    "    'recall': 'recall', 'precision': 'precision',\n",
    "    'recall-0': recall_0, 'recall-1': recall_1,\n",
    "    'precision-0': precision_0, 'precision-1': precision_1,\n",
    "    'f1-1': f1_1\n",
    "}"
   ]
  },
  {
   "cell_type": "markdown",
   "metadata": {},
   "source": [
    "### Custom functions"
   ]
  },
  {
   "cell_type": "code",
   "execution_count": 9,
   "metadata": {},
   "outputs": [],
   "source": [
    "from sklearn.metrics import precision_recall_curve\n",
    "\n",
    "def threshold_precision_recall_plot(ye, yprob, threshold):\n",
    "    curve = pd.DataFrame(\n",
    "        precision_recall_curve(ye, yprob, pos_label=1),\n",
    "        index=['precision', 'recall', 'threshold']\n",
    "    ).T.set_index('threshold').add_suffix(f' - 1')\n",
    "    curve['f1 - 1'] = curve.mean(1)\n",
    "    fig, ax = plt.subplots(1, 1, figsize=(6, 3.5))\n",
    "    curve.plot(ax=ax)\n",
    "    if threshold is not None:\n",
    "        yhat_fix = (yprob > threshold).astype('int')\n",
    "        scr = pd.DataFrame(cr(ye, yhat_fix, digits=4, output_dict=True)).T\n",
    "        return ax, scr\n",
    "    return ax"
   ]
  },
  {
   "cell_type": "markdown",
   "metadata": {},
   "source": [
    "---\n",
    "## Load & Preprocess Data"
   ]
  },
  {
   "cell_type": "code",
   "execution_count": null,
   "metadata": {},
   "outputs": [],
   "source": [
    "from Modulos.waterbags import waterbag_project\n",
    "\n",
    "project = waterbag_project(time_serie='clusters', freq='upsample', load_waterbags=True)\n",
    "\n",
    "data = project.data\n",
    "group_ts = project.time_serie\n",
    "waterbags = project.waterbags\n",
    "\n",
    "# Drop records before july, 2018 to reduce imbalance\n",
    "data = data[:]\n",
    "group_ts = group_ts[:]\n",
    "\n",
    "# Sample groups names per group label\n",
    "routes = waterbags.groupby(['sublabel', 'main_route']).first().index.to_frame().set_index('sublabel').to_dict()['main_route']"
   ]
  },
  {
   "cell_type": "markdown",
   "metadata": {},
   "source": [
    "---\n",
    "# Interactive multiple target modeling function"
   ]
  },
  {
   "cell_type": "code",
   "execution_count": null,
   "metadata": {},
   "outputs": [],
   "source": [
    "from sklearn.linear_model import LinearRegression\n",
    "\n",
    "transform_args = dict(\n",
    "    scale=True, interpolate=None, fillna='mean'\n",
    ")\n",
    "\n",
    "def multi_target_pipeline(\n",
    "    data, Yi, names,\n",
    "    train_start, train_end,\n",
    "    eval_start, eval_end,\n",
    "    model=LinearRegression(),\n",
    "    periods_ahead=4,\n",
    "    transform_args=transform_args,\n",
    "    close_feature_space=False,\n",
    "    deploy_info_path=None,\n",
    "    models_path=None,\n",
    "    thresholds_path=None,\n",
    "):\n",
    "    # Select feature set\n",
    "    X = TimeseriesTransformPipeline(\n",
    "        data, train_start, cut=-1,\n",
    "        drop_empty_cols=True,\n",
    "        **transform_args,\n",
    "    ); X = X[: eval_end]\n",
    "\n",
    "    # Select raw feature set for preprocessing\n",
    "    X_raw = TimeseriesTransformPipeline( # Must use untransformed data to perform filtering fiter\n",
    "        data, train_start, cut=-1,\n",
    "        drop_empty_cols=True, scale=False,\n",
    "        interpolate=None, fillna=None\n",
    "    ); X_raw = X_raw[: eval_end]\n",
    "\n",
    "    # Validation split\n",
    "    xt = X[:train_end]\n",
    "    xe = X[eval_start: eval_end]\n",
    "\n",
    "    if deploy_info_path is not None:\n",
    "        # Save Features description\n",
    "        X_info = X_raw.describe().loc[['min', 'max', 'mean']].T\n",
    "        X_info.to_csv(deploy_info_path, index=True)\n",
    "    \n",
    "    target_results = []\n",
    "    for i, target_id in enumerate(Yi):\n",
    "\n",
    "        co(wait=True); print(f'Modeling target {names[int(target_id)]} - {i+1}/{Yi.shape[1]}')\n",
    "\n",
    "        Y = Yi[str(target_id)].loc[X.index].copy()\n",
    "        groups = groupConsecutiveFlags(ts=Y)\n",
    "        display(Y.value_counts().to_frame('Target'))\n",
    "\n",
    "        ### Target transformation\n",
    "        if periods_ahead is not None:\n",
    "            Y = (Y.rolling(periods_ahead, closed='left', min_periods=1).sum().shift(-periods_ahead + 1) > 0).astype('float')\n",
    "            groups = groupConsecutiveFlags(ts=Y)\n",
    "            display(Y.value_counts().to_frame('Transformed Target'))\n",
    "\n",
    "        # Target validation split\n",
    "        yt = Y.loc[xt.index]\n",
    "        ye = Y.loc[xe.index]\n",
    "        groups_train = groups.loc[xt.index]\n",
    "        groups_eval = groups.loc[xe.index]\n",
    "\n",
    "        ### Validation statistics ---\n",
    "\n",
    "        cnts = [yt.value_counts(norm).to_frame('Class Count') for norm in (False, True)]\n",
    "        print('\\nTrain folder'); display(pd.concat(cnts, 1))\n",
    "        cnts = [ye.value_counts(norm).to_frame('Class Count') for norm in (False, True)]\n",
    "        print('\\nValidation folder'); display(pd.concat(cnts, 1))\n",
    "\n",
    "        eval_size = len(ye) / len(Y) * 100\n",
    "        eval_minority = (ye==1).sum() / (Y==1).sum() * 100\n",
    "        train_minority = (ye==0).sum() / (Y==0).sum() * 100\n",
    "        eval_stats = pd.DataFrame(\n",
    "            [eval_size, train_minority, eval_minority],\n",
    "            ['Samples left', 'Negative Samples left', 'Positive Samples left'],\n",
    "            ['Validation (%)'],\n",
    "        ).round(2)\n",
    "        display(eval_stats)\n",
    "\n",
    "        # --- Fit and evaluate model ---\n",
    "\n",
    "        # Filter hour records by variables threshold (Optional)\n",
    "        if close_feature_space:\n",
    "            ### Records left after filtering by columns' minimum thresholds\n",
    "            x_filt, y_filt, groups_filt = filter_by_stats(\n",
    "                X_raw.loc[xt.index], yt, groups=groups_train,\n",
    "                n_filters=[None, None], choose_from=50,\n",
    "                acumulate='and', top_down=True,\n",
    "                figsize=(11, 3)\n",
    "            ); x_filt = xt.loc[x_filt.index].copy()\n",
    "            model.fit(x_filt, y_filt)  # Evaluate validation folder\n",
    "        else:\n",
    "            model.fit(xt, yt)\n",
    "\n",
    "        try: yprob = pd.Series(model.predict_proba(xe)[:, 1], index=xe.index)\n",
    "        except: yprob = pd.Series(model.predict(xe), index=xe.index)\n",
    "        ax = threshold_precision_recall_plot(ye, yprob, threshold=None)\n",
    "        plt.show()\n",
    "        \n",
    "        threshold = float(input('Select decision threshold:'))\n",
    "        yhat = (yprob >= threshold).astype('int')\n",
    "        scr = pd.DataFrame(precision_recall_fscore_support(ye, yhat), index=['precision', 'recall', 'f1', 'support']).T\n",
    "        display(scr)\n",
    "        scr = pd.concat([scr.loc[label].add_suffix('-' + str(label)) for label in [0, 1]], 0)\n",
    "\n",
    "        # --- Fit and save final model\n",
    "\n",
    "        if close_feature_space:\n",
    "            ### Refilter complete training data for final model\n",
    "            X_filt, Y_filt, Groups_filt = filter_by_stats(\n",
    "                X_raw, Y, groups=groups,\n",
    "                n_filters=[None, None], choose_from=50,\n",
    "                acumulate='and', top_down=True,\n",
    "                figsize=(11, 3)\n",
    "            ); X_filt = X.loc[X_filt.index].copy()\n",
    "            final_model = model.fit(X_filt, Y_filt)\n",
    "        else:\n",
    "            final_model = model.fit(X, Y)\n",
    "\n",
    "        model_info = {\n",
    "            'id': target_id,\n",
    "            'name': names[int(target_id)],\n",
    "            'model': final_model,\n",
    "            'threshold': threshold,\n",
    "            'score': scr,\n",
    "        }\n",
    "        target_results.append(model_info)\n",
    "\n",
    "        model_path = None\n",
    "        if models_path is not None:\n",
    "            model_path = models_path + model_info['name'] + '/'\n",
    "            model_file = model_path + 'model_' + model_info['name'] + '-' + model_info['id'] + '.pickle'\n",
    "            score_file = model_path + 'score_' + model_info['name'] + '-' + model_info['id'] + '.csv'\n",
    "            if not os.path.exists(model_path):\n",
    "                os.makedirs(model_path)\n",
    "            pickle.dump(final_model, open(model_file, 'wb'))\n",
    "            model_info['score'].to_csv(score_file, index=True)\n",
    "\n",
    "        if thresholds_path is not None:\n",
    "            thresh_i = json.loads(open(thresholds_path, 'r').read())\n",
    "            thresh_i[model_info['id']] = threshold\n",
    "            with open(thresholds_path, 'w') as file:\n",
    "                file.write(json.dumps(thresh_i))\n",
    "\n",
    "        print('\\n\\n\\n')\n",
    "        if input('Exit?')=='y': break\n",
    "    return target_results"
   ]
  },
  {
   "cell_type": "markdown",
   "metadata": {},
   "source": [
    "---"
   ]
  },
  {
   "cell_type": "markdown",
   "metadata": {},
   "source": [
    "# Model multiple targets interactively"
   ]
  },
  {
   "cell_type": "code",
   "execution_count": null,
   "metadata": {},
   "outputs": [
    {
     "name": "stdout",
     "output_type": "stream",
     "text": [
      "Modeling target Rua do Catete - 1/78\n"
     ]
    },
    {
     "data": {
      "text/html": [
       "<div>\n",
       "<style scoped>\n",
       "    .dataframe tbody tr th:only-of-type {\n",
       "        vertical-align: middle;\n",
       "    }\n",
       "\n",
       "    .dataframe tbody tr th {\n",
       "        vertical-align: top;\n",
       "    }\n",
       "\n",
       "    .dataframe thead th {\n",
       "        text-align: right;\n",
       "    }\n",
       "</style>\n",
       "<table border=\"1\" class=\"dataframe\">\n",
       "  <thead>\n",
       "    <tr style=\"text-align: right;\">\n",
       "      <th></th>\n",
       "      <th>Target</th>\n",
       "    </tr>\n",
       "  </thead>\n",
       "  <tbody>\n",
       "    <tr>\n",
       "      <th>0.0</th>\n",
       "      <td>136496</td>\n",
       "    </tr>\n",
       "    <tr>\n",
       "      <th>1.0</th>\n",
       "      <td>783</td>\n",
       "    </tr>\n",
       "  </tbody>\n",
       "</table>\n",
       "</div>"
      ],
      "text/plain": [
       "     Target\n",
       "0.0  136496\n",
       "1.0     783"
      ]
     },
     "metadata": {},
     "output_type": "display_data"
    },
    {
     "data": {
      "text/html": [
       "<div>\n",
       "<style scoped>\n",
       "    .dataframe tbody tr th:only-of-type {\n",
       "        vertical-align: middle;\n",
       "    }\n",
       "\n",
       "    .dataframe tbody tr th {\n",
       "        vertical-align: top;\n",
       "    }\n",
       "\n",
       "    .dataframe thead th {\n",
       "        text-align: right;\n",
       "    }\n",
       "</style>\n",
       "<table border=\"1\" class=\"dataframe\">\n",
       "  <thead>\n",
       "    <tr style=\"text-align: right;\">\n",
       "      <th></th>\n",
       "      <th>Transformed Target</th>\n",
       "    </tr>\n",
       "  </thead>\n",
       "  <tbody>\n",
       "    <tr>\n",
       "      <th>0.0</th>\n",
       "      <td>136282</td>\n",
       "    </tr>\n",
       "    <tr>\n",
       "      <th>1.0</th>\n",
       "      <td>997</td>\n",
       "    </tr>\n",
       "  </tbody>\n",
       "</table>\n",
       "</div>"
      ],
      "text/plain": [
       "     Transformed Target\n",
       "0.0              136282\n",
       "1.0                 997"
      ]
     },
     "metadata": {},
     "output_type": "display_data"
    },
    {
     "name": "stdout",
     "output_type": "stream",
     "text": [
      "\n",
      "Train folder\n"
     ]
    },
    {
     "data": {
      "text/html": [
       "<div>\n",
       "<style scoped>\n",
       "    .dataframe tbody tr th:only-of-type {\n",
       "        vertical-align: middle;\n",
       "    }\n",
       "\n",
       "    .dataframe tbody tr th {\n",
       "        vertical-align: top;\n",
       "    }\n",
       "\n",
       "    .dataframe thead th {\n",
       "        text-align: right;\n",
       "    }\n",
       "</style>\n",
       "<table border=\"1\" class=\"dataframe\">\n",
       "  <thead>\n",
       "    <tr style=\"text-align: right;\">\n",
       "      <th></th>\n",
       "      <th>Class Count</th>\n",
       "      <th>Class Count</th>\n",
       "    </tr>\n",
       "  </thead>\n",
       "  <tbody>\n",
       "    <tr>\n",
       "      <th>0.0</th>\n",
       "      <td>119037</td>\n",
       "      <td>0.992777</td>\n",
       "    </tr>\n",
       "    <tr>\n",
       "      <th>1.0</th>\n",
       "      <td>866</td>\n",
       "      <td>0.007223</td>\n",
       "    </tr>\n",
       "  </tbody>\n",
       "</table>\n",
       "</div>"
      ],
      "text/plain": [
       "     Class Count  Class Count\n",
       "0.0       119037     0.992777\n",
       "1.0          866     0.007223"
      ]
     },
     "metadata": {},
     "output_type": "display_data"
    },
    {
     "name": "stdout",
     "output_type": "stream",
     "text": [
      "\n",
      "Validation folder\n"
     ]
    },
    {
     "data": {
      "text/html": [
       "<div>\n",
       "<style scoped>\n",
       "    .dataframe tbody tr th:only-of-type {\n",
       "        vertical-align: middle;\n",
       "    }\n",
       "\n",
       "    .dataframe tbody tr th {\n",
       "        vertical-align: top;\n",
       "    }\n",
       "\n",
       "    .dataframe thead th {\n",
       "        text-align: right;\n",
       "    }\n",
       "</style>\n",
       "<table border=\"1\" class=\"dataframe\">\n",
       "  <thead>\n",
       "    <tr style=\"text-align: right;\">\n",
       "      <th></th>\n",
       "      <th>Class Count</th>\n",
       "      <th>Class Count</th>\n",
       "    </tr>\n",
       "  </thead>\n",
       "  <tbody>\n",
       "    <tr>\n",
       "      <th>0.0</th>\n",
       "      <td>17245</td>\n",
       "      <td>0.992461</td>\n",
       "    </tr>\n",
       "    <tr>\n",
       "      <th>1.0</th>\n",
       "      <td>131</td>\n",
       "      <td>0.007539</td>\n",
       "    </tr>\n",
       "  </tbody>\n",
       "</table>\n",
       "</div>"
      ],
      "text/plain": [
       "     Class Count  Class Count\n",
       "0.0        17245     0.992461\n",
       "1.0          131     0.007539"
      ]
     },
     "metadata": {},
     "output_type": "display_data"
    },
    {
     "data": {
      "text/html": [
       "<div>\n",
       "<style scoped>\n",
       "    .dataframe tbody tr th:only-of-type {\n",
       "        vertical-align: middle;\n",
       "    }\n",
       "\n",
       "    .dataframe tbody tr th {\n",
       "        vertical-align: top;\n",
       "    }\n",
       "\n",
       "    .dataframe thead th {\n",
       "        text-align: right;\n",
       "    }\n",
       "</style>\n",
       "<table border=\"1\" class=\"dataframe\">\n",
       "  <thead>\n",
       "    <tr style=\"text-align: right;\">\n",
       "      <th></th>\n",
       "      <th>Validation (%)</th>\n",
       "    </tr>\n",
       "  </thead>\n",
       "  <tbody>\n",
       "    <tr>\n",
       "      <th>Samples left</th>\n",
       "      <td>12.66</td>\n",
       "    </tr>\n",
       "    <tr>\n",
       "      <th>Negative Samples left</th>\n",
       "      <td>12.65</td>\n",
       "    </tr>\n",
       "    <tr>\n",
       "      <th>Positive Samples left</th>\n",
       "      <td>13.14</td>\n",
       "    </tr>\n",
       "  </tbody>\n",
       "</table>\n",
       "</div>"
      ],
      "text/plain": [
       "                       Validation (%)\n",
       "Samples left                    12.66\n",
       "Negative Samples left           12.65\n",
       "Positive Samples left           13.14"
      ]
     },
     "metadata": {},
     "output_type": "display_data"
    },
    {
     "data": {
      "image/png": "[encoded data removed]",
      "text/plain": [
       "<Figure size 792x216 with 2 Axes>"
      ]
     },
     "metadata": {},
     "output_type": "display_data"
    },
    {
     "data": {
      "image/png": "[encoded data removed]",
      "text/plain": [
       "<Figure size 792x216 with 2 Axes>"
      ]
     },
     "metadata": {},
     "output_type": "display_data"
    },
    {
     "name": "stdin",
     "output_type": "stream",
     "text": [
      "N° of columns to filter by minimum: 5\n",
      "N° of columns to filter by maximum: 13\n"
     ]
    },
    {
     "name": "stdout",
     "output_type": "stream",
     "text": [
      "\n",
      "Positive minimum filter:\n",
      "\n",
      "Records: 119903\n",
      "Records left: 61796\n",
      "Records left (%): 51.54 %\n",
      "\n",
      "Positive maximum filter:\n",
      "\n",
      "Records: 61796\n",
      "Records left: 54492\n",
      "Records left (%): 88.18 %\n",
      "\n"
     ]
    },
    {
     "data": {
      "text/html": [
       "<div>\n",
       "<style scoped>\n",
       "    .dataframe tbody tr th:only-of-type {\n",
       "        vertical-align: middle;\n",
       "    }\n",
       "\n",
       "    .dataframe tbody tr th {\n",
       "        vertical-align: top;\n",
       "    }\n",
       "\n",
       "    .dataframe thead th {\n",
       "        text-align: right;\n",
       "    }\n",
       "</style>\n",
       "<table border=\"1\" class=\"dataframe\">\n",
       "  <thead>\n",
       "    <tr style=\"text-align: right;\">\n",
       "      <th></th>\n",
       "      <th>Class Count</th>\n",
       "      <th>Percent left (%)</th>\n",
       "    </tr>\n",
       "  </thead>\n",
       "  <tbody>\n",
       "    <tr>\n",
       "      <th>0.0</th>\n",
       "      <td>53626</td>\n",
       "      <td>45.05</td>\n",
       "    </tr>\n",
       "    <tr>\n",
       "      <th>1.0</th>\n",
       "      <td>866</td>\n",
       "      <td>100.00</td>\n",
       "    </tr>\n",
       "  </tbody>\n",
       "</table>\n",
       "</div>"
      ],
      "text/plain": [
       "     Class Count  Percent left (%)\n",
       "0.0        53626             45.05\n",
       "1.0          866            100.00"
      ]
     },
     "metadata": {},
     "output_type": "display_data"
    },
    {
     "name": "stdout",
     "output_type": "stream",
     "text": [
      "      Iter       Train Loss   Remaining Time \n",
      "         1           0.0852            3.11m\n",
      "         2           0.0797            2.45m\n",
      "         3           0.0756            2.29m\n",
      "         4           0.0720            2.32m\n",
      "         5           0.0688            2.20m\n",
      "         6           0.0660            2.17m\n",
      "         7           0.0634            2.07m\n",
      "         8           0.0616            1.99m\n",
      "         9           0.0598            1.93m\n",
      "        10           0.0578            1.87m\n",
      "        20           0.0441            1.55m\n",
      "        30           0.0380            1.30m\n",
      "        40           0.0346            1.12m\n",
      "        50           0.0320           55.54s\n",
      "        60           0.0299           44.25s\n",
      "        70           0.0284           33.34s\n",
      "        80           0.0267           22.31s\n",
      "        90           0.0253           11.22s\n",
      "       100           0.0239            0.00s\n"
     ]
    },
    {
     "data": {
      "image/png": "[encoded data removed]",
      "text/plain": [
       "<Figure size 432x252 with 1 Axes>"
      ]
     },
     "metadata": {},
     "output_type": "display_data"
    },
    {
     "name": "stdin",
     "output_type": "stream",
     "text": [
      "Select decision threshold: .1\n"
     ]
    },
    {
     "data": {
      "text/html": [
       "<div>\n",
       "<style scoped>\n",
       "    .dataframe tbody tr th:only-of-type {\n",
       "        vertical-align: middle;\n",
       "    }\n",
       "\n",
       "    .dataframe tbody tr th {\n",
       "        vertical-align: top;\n",
       "    }\n",
       "\n",
       "    .dataframe thead th {\n",
       "        text-align: right;\n",
       "    }\n",
       "</style>\n",
       "<table border=\"1\" class=\"dataframe\">\n",
       "  <thead>\n",
       "    <tr style=\"text-align: right;\">\n",
       "      <th></th>\n",
       "      <th>precision</th>\n",
       "      <th>recall</th>\n",
       "      <th>f1</th>\n",
       "      <th>support</th>\n",
       "    </tr>\n",
       "  </thead>\n",
       "  <tbody>\n",
       "    <tr>\n",
       "      <th>0</th>\n",
       "      <td>0.997433</td>\n",
       "      <td>0.991476</td>\n",
       "      <td>0.994446</td>\n",
       "      <td>17245.0</td>\n",
       "    </tr>\n",
       "    <tr>\n",
       "      <th>1</th>\n",
       "      <td>0.371795</td>\n",
       "      <td>0.664122</td>\n",
       "      <td>0.476712</td>\n",
       "      <td>131.0</td>\n",
       "    </tr>\n",
       "  </tbody>\n",
       "</table>\n",
       "</div>"
      ],
      "text/plain": [
       "   precision    recall        f1  support\n",
       "0   0.997433  0.991476  0.994446  17245.0\n",
       "1   0.371795  0.664122  0.476712    131.0"
      ]
     },
     "metadata": {},
     "output_type": "display_data"
    },
    {
     "data": {
      "image/png": "[encoded data removed]",
      "text/plain": [
       "<Figure size 792x216 with 2 Axes>"
      ]
     },
     "metadata": {},
     "output_type": "display_data"
    },
    {
     "data": {
      "image/png": "[encoded data removed]",
      "text/plain": [
       "<Figure size 792x216 with 2 Axes>"
      ]
     },
     "metadata": {},
     "output_type": "display_data"
    },
    {
     "name": "stdin",
     "output_type": "stream",
     "text": [
      "N° of columns to filter by minimum: 5\n",
      "N° of columns to filter by maximum: 13\n"
     ]
    },
    {
     "name": "stdout",
     "output_type": "stream",
     "text": [
      "\n",
      "Positive minimum filter:\n",
      "\n",
      "Records: 137279\n",
      "Records left: 74720\n",
      "Records left (%): 54.43 %\n",
      "\n",
      "Positive maximum filter:\n",
      "\n",
      "Records: 74720\n",
      "Records left: 65564\n",
      "Records left (%): 87.75 %\n",
      "\n"
     ]
    },
    {
     "data": {
      "text/html": [
       "<div>\n",
       "<style scoped>\n",
       "    .dataframe tbody tr th:only-of-type {\n",
       "        vertical-align: middle;\n",
       "    }\n",
       "\n",
       "    .dataframe tbody tr th {\n",
       "        vertical-align: top;\n",
       "    }\n",
       "\n",
       "    .dataframe thead th {\n",
       "        text-align: right;\n",
       "    }\n",
       "</style>\n",
       "<table border=\"1\" class=\"dataframe\">\n",
       "  <thead>\n",
       "    <tr style=\"text-align: right;\">\n",
       "      <th></th>\n",
       "      <th>Class Count</th>\n",
       "      <th>Percent left (%)</th>\n",
       "    </tr>\n",
       "  </thead>\n",
       "  <tbody>\n",
       "    <tr>\n",
       "      <th>0.0</th>\n",
       "      <td>64567</td>\n",
       "      <td>47.38</td>\n",
       "    </tr>\n",
       "    <tr>\n",
       "      <th>1.0</th>\n",
       "      <td>997</td>\n",
       "      <td>100.00</td>\n",
       "    </tr>\n",
       "  </tbody>\n",
       "</table>\n",
       "</div>"
      ],
      "text/plain": [
       "     Class Count  Percent left (%)\n",
       "0.0        64567             47.38\n",
       "1.0          997            100.00"
      ]
     },
     "metadata": {},
     "output_type": "display_data"
    },
    {
     "name": "stdout",
     "output_type": "stream",
     "text": [
      "      Iter       Train Loss   Remaining Time \n",
      "         1           0.0841            2.10m\n",
      "         2           0.0805            2.14m\n",
      "         3           0.0756            2.07m\n",
      "         4           0.0724            2.04m\n",
      "         5           0.0688            2.01m\n",
      "         6           0.0662            1.98m\n",
      "         7           0.0638            1.96m\n",
      "         8           0.0612            1.93m\n",
      "         9           0.0595            1.91m\n",
      "        10           0.0578            1.88m\n",
      "        20           0.0477            1.70m\n",
      "        30           0.0429            1.55m\n",
      "        40           0.0395            1.33m\n",
      "        50           0.0373            1.11m\n",
      "        60           0.0345           52.83s\n",
      "        70           0.0329           39.31s\n",
      "        80           0.0315           26.14s\n",
      "        90           0.0302           13.01s\n",
      "       100           0.0283            0.00s\n",
      "\n",
      "\n",
      "\n",
      "\n"
     ]
    }
   ],
   "source": [
    "transform_args = dict(\n",
    "    scale=True, interpolate='nearest', fillna='mean'\n",
    ")\n",
    "\n",
    "names = routes\n",
    "train_start, train_end = '2018-06', '2021-10'\n",
    "eval_start, eval_end = '2021-11', '2022-04'\n",
    "model = gbc(random_state=0, verbose=1)\n",
    "# model = LinearRegression()\n",
    "periods_ahead = 4\n",
    "close_feature_space = True\n",
    "\n",
    "# eval_path = 'Modelagem de Bolsões/Results/probabilidade_catete.png'\n",
    "deploy_info_path = 'API Deploy/deploy_info.csv'\n",
    "models_path = 'API Deploy/Modelos/'\n",
    "thresholds_path = 'API Deploy/thresholds.json'\n",
    "\n",
    "target_results = multi_target_pipeline(\n",
    "    data, group_ts.iloc[:, 2:], names,\n",
    "    train_start, train_end,\n",
    "    eval_start, eval_end,\n",
    "    model, periods_ahead,\n",
    "    transform_args,\n",
    "    close_feature_space,\n",
    "    deploy_info_path,\n",
    "    models_path,\n",
    "    thresholds_path\n",
    ")"
   ]
  }
 ],
 "metadata": {
  "kernelspec": {
   "display_name": "Python 3",
   "language": "python",
   "name": "python3"
  },
  "language_info": {
   "codemirror_mode": {
    "name": "ipython",
    "version": 3
   },
   "file_extension": ".py",
   "mimetype": "text/x-python",
   "name": "python",
   "nbconvert_exporter": "python",
   "pygments_lexer": "ipython3",
   "version": "3.8.3"
  }
 },
 "nbformat": 4,
 "nbformat_minor": 4
}
