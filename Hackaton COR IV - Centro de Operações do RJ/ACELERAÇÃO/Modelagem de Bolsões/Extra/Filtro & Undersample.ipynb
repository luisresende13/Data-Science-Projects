{
 "cells": [
  {
   "cell_type": "markdown",
   "metadata": {},
   "source": [
    "# WATER BAG PREDICTION - Preliminar Evaluation"
   ]
  },
  {
   "cell_type": "markdown",
   "metadata": {},
   "source": [
    "---\n",
    "## Define Functions"
   ]
  },
  {
   "cell_type": "markdown",
   "metadata": {},
   "source": [
    "#### Change project root directory"
   ]
  },
  {
   "cell_type": "code",
   "execution_count": 1,
   "metadata": {},
   "outputs": [
    {
     "name": "stdout",
     "output_type": "stream",
     "text": [
      "C:\\Users\\luisr\\Desktop\\Repositories\\Data Science Projects\\Hackaton COR IV - Centro de Operações do RJ\\ACELERAÇÃO\n"
     ]
    }
   ],
   "source": [
    "cd ../"
   ]
  },
  {
   "cell_type": "markdown",
   "metadata": {},
   "source": [
    "#### Import modules and libraries"
   ]
  },
  {
   "cell_type": "code",
   "execution_count": 2,
   "metadata": {},
   "outputs": [
    {
     "name": "stderr",
     "output_type": "stream",
     "text": [
      "c:\\Users\\luisr\\anaconda3\\lib\\site-packages\\setuptools\\distutils_patch.py:25: UserWarning: Distutils was imported before Setuptools. This usage is discouraged and may exhibit undesirable behaviors or errors. Please use Setuptools' objects directly or at least import Setuptools first.\n",
      "  warnings.warn(\n"
     ]
    }
   ],
   "source": [
    "import os, json, pandas as pd, numpy as np, pickle\n",
    "import matplotlib.pyplot as plt, seaborn as sns; sns.set()\n",
    "from IPython.display import clear_output as co\n",
    "\n",
    "#### Time serie features transformation pipeline & binary classification pipeline (Authoral)\n",
    "from Modulos.sample_filter import min_max_filter_stats, min_max_filter, filter_by_stats\n",
    "from Modulos.timeserie_transform import TimeseriesTransformPipeline\n",
    "from Modulos.imbalanced_selection import groupConsecutiveFlags, MinorityGroupSplitUndersample, groupSplitGridSearch\n",
    "from Modulos.imbalanced_classification import ClassificationPipeline, classesGroupRecall\n",
    "\n",
    "#### Preprocessing & machine learning modules\n",
    "from sklearn.preprocessing import MinMaxScaler as mms\n",
    "from Modulos.cv_samplers import GroupUnderSampleSplit, print_cls_cnt\n",
    "from imblearn.under_sampling import RandomUnderSample\n",
    "from sklearn.utils import all_estimators\n",
    "from sklearn.metrics import classification_report as cr\n",
    "from imblearn import ensemble\n",
    "\n",
    "#  Classifier colleciton\n",
    "classifiers = dict(all_estimators('classifier'))\n",
    "\n",
    "#### Define metrics and scoring functions\n",
    "from sklearn.model_selection import cross_validate\n",
    "from sklearn.metrics import make_scorer, recall_score, precision_score, f1_score, precision_recall_fscore_support\n",
    "\n",
    "recall_0 = make_scorer(recall_score, pos_label=0)\n",
    "recall_1 = make_scorer(recall_score, pos_label=1)\n",
    "precision_0 = make_scorer(precision_score, pos_label=0)\n",
    "precision_1 = make_scorer(precision_score, pos_label=1)\n",
    "f1_1 = make_scorer(f1_score, pos_label=1)\n",
    "\n",
    "scoring = {\n",
    "    'accuracy': 'accuracy',\n",
    "    'recall': 'recall', 'precision': 'precision',\n",
    "    'recall-0': recall_0, 'recall-1': recall_1,\n",
    "    'precision-0': precision_0, 'precision-1': precision_1,\n",
    "    'f1-1': f1_1\n",
    "}"
   ]
  },
  {
   "cell_type": "markdown",
   "metadata": {},
   "source": [
    "### Custom functions"
   ]
  },
  {
   "cell_type": "code",
   "execution_count": 15,
   "metadata": {},
   "outputs": [],
   "source": [
    "def split_report(Y, yt, ye):\n",
    "    cnts = [yt.value_counts(norm).to_frame('Class Count') for norm in (False, True)]\n",
    "    print('\\nTrain folder'); display(pd.concat(cnts, 1))\n",
    "    cnts = [ye.value_counts(norm).to_frame('Class Count') for norm in (False, True)]\n",
    "    print('\\nValidation folder'); display(pd.concat(cnts, 1))\n",
    "\n",
    "    eval_size = len(ye) / len(Y) * 100\n",
    "    eval_minority = (ye==1).sum() / (Y==1).sum() * 100\n",
    "    train_minority = (ye==0).sum() / (Y==0).sum() * 100\n",
    "    eval_stats = pd.DataFrame(\n",
    "        [eval_size, train_minority, eval_minority],\n",
    "        ['Samples left', 'Negative Samples left', 'Positive Samples left'],\n",
    "        ['Validation (%)'],\n",
    "    ).round(2)\n",
    "    display(eval_stats)\n",
    "\n",
    "from sklearn.metrics import precision_recall_curve\n",
    "\n",
    "def threshold_precision_recall_plot(ye, yprob, threshold):\n",
    "    curve = pd.DataFrame(\n",
    "        precision_recall_curve(ye, yprob, pos_label=1),\n",
    "        index=['precision', 'recall', 'threshold']\n",
    "    ).T.set_index('threshold').add_suffix(f' - 1')\n",
    "    curve['f1 - 1'] = curve.mean(1)\n",
    "    fig, ax = plt.subplots(1, 1, figsize=(6, 3.5))\n",
    "    curve.plot(ax=ax)\n",
    "    if threshold is not None:\n",
    "        yhat_fix = (yprob > threshold).astype('int')\n",
    "        scr = pd.DataFrame(cr(ye, yhat_fix, digits=4, output_dict=True)).T\n",
    "        return ax, scr\n",
    "    return ax\n",
    "\n",
    "def classifier_evaluation(model, xt, yt, xe, ye, threshold=None, flat_score=False):\n",
    "    model.fit(xt, yt)\n",
    "    try: yprob = pd.Series(model.predict_proba(xe)[:, 1], index=xe.index)\n",
    "    except: yprob = pd.Series(model.predict(xe), index=xe.index)\n",
    "    ax = threshold_precision_recall_plot(ye, yprob, threshold=None); plt.show()\n",
    "    if threshold is None:\n",
    "        threshold = float(input('Select decision threshold:'))\n",
    "    yhat = (yprob >= threshold).astype('int')\n",
    "    scr = pd.DataFrame(\n",
    "        precision_recall_fscore_support(ye, yhat),\n",
    "        index=['precision', 'recall', 'f1', 'support']\n",
    "    ).T; display(scr)\n",
    "    if flat_score:\n",
    "        scr = pd.concat([scr.loc[label].add_suffix('-' + str(label)) for label in [0, 1]], 0)\n",
    "    return scr, threshold"
   ]
  },
  {
   "cell_type": "markdown",
   "metadata": {},
   "source": [
    "---\n",
    "## Load & Preprocess Data"
   ]
  },
  {
   "cell_type": "code",
   "execution_count": 4,
   "metadata": {},
   "outputs": [],
   "source": [
    "from Modulos.waterbags import waterbag_project\n",
    "\n",
    "project = waterbag_project(time_serie='clusters', freq='upsample', load_waterbags=True)\n",
    "\n",
    "data = project.data\n",
    "Yi = project.time_serie\n",
    "waterbags = project.waterbags\n",
    "\n",
    "# Sample groups names per group label\n",
    "target_names = waterbags.groupby(['sublabel', 'main_route']).first().index.to_frame().set_index('sublabel').to_dict()['main_route']"
   ]
  },
  {
   "cell_type": "markdown",
   "metadata": {},
   "source": [
    "---\n",
    "# Feature and target selection"
   ]
  },
  {
   "cell_type": "markdown",
   "metadata": {},
   "source": [
    "### Feature set"
   ]
  },
  {
   "cell_type": "code",
   "execution_count": 5,
   "metadata": {},
   "outputs": [
    {
     "name": "stdout",
     "output_type": "stream",
     "text": [
      "Initial data: (437875, 230)\n",
      "Time extraction: (142866, 230)\n",
      "Drop empty columns:  (142865, 217)\n"
     ]
    }
   ],
   "source": [
    "train_start, train_end = '2018-06', '2021-10'\n",
    "eval_start, eval_end = '2021-11', '2022-04'\n",
    "transform_args = dict(\n",
    "    scale=True, interpolate='nearest', fillna='mean'\n",
    ")\n",
    "\n",
    "# Select feature set\n",
    "X = TimeseriesTransformPipeline(\n",
    "    data, train_start, cut=-1,\n",
    "    drop_empty_cols=True,\n",
    "    **transform_args,\n",
    "); X = X[: eval_end]\n",
    "\n",
    "# Validation split\n",
    "xt = X[:train_end]\n",
    "xe = X[eval_start: eval_end]"
   ]
  },
  {
   "cell_type": "markdown",
   "metadata": {},
   "source": [
    "### Target variable"
   ]
  },
  {
   "cell_type": "code",
   "execution_count": 6,
   "metadata": {},
   "outputs": [
    {
     "name": "stdout",
     "output_type": "stream",
     "text": [
      "Modeling target Rua do Catete - id: 1 \n",
      "\n"
     ]
    },
    {
     "data": {
      "text/html": [
       "<div>\n",
       "<style scoped>\n",
       "    .dataframe tbody tr th:only-of-type {\n",
       "        vertical-align: middle;\n",
       "    }\n",
       "\n",
       "    .dataframe tbody tr th {\n",
       "        vertical-align: top;\n",
       "    }\n",
       "\n",
       "    .dataframe thead th {\n",
       "        text-align: right;\n",
       "    }\n",
       "</style>\n",
       "<table border=\"1\" class=\"dataframe\">\n",
       "  <thead>\n",
       "    <tr style=\"text-align: right;\">\n",
       "      <th></th>\n",
       "      <th>Target</th>\n",
       "    </tr>\n",
       "  </thead>\n",
       "  <tbody>\n",
       "    <tr>\n",
       "      <th>0.0</th>\n",
       "      <td>136496</td>\n",
       "    </tr>\n",
       "    <tr>\n",
       "      <th>1.0</th>\n",
       "      <td>783</td>\n",
       "    </tr>\n",
       "  </tbody>\n",
       "</table>\n",
       "</div>"
      ],
      "text/plain": [
       "     Target\n",
       "0.0  136496\n",
       "1.0     783"
      ]
     },
     "metadata": {},
     "output_type": "display_data"
    },
    {
     "data": {
      "text/html": [
       "<div>\n",
       "<style scoped>\n",
       "    .dataframe tbody tr th:only-of-type {\n",
       "        vertical-align: middle;\n",
       "    }\n",
       "\n",
       "    .dataframe tbody tr th {\n",
       "        vertical-align: top;\n",
       "    }\n",
       "\n",
       "    .dataframe thead th {\n",
       "        text-align: right;\n",
       "    }\n",
       "</style>\n",
       "<table border=\"1\" class=\"dataframe\">\n",
       "  <thead>\n",
       "    <tr style=\"text-align: right;\">\n",
       "      <th></th>\n",
       "      <th>Transformed Target</th>\n",
       "    </tr>\n",
       "  </thead>\n",
       "  <tbody>\n",
       "    <tr>\n",
       "      <th>0.0</th>\n",
       "      <td>136282</td>\n",
       "    </tr>\n",
       "    <tr>\n",
       "      <th>1.0</th>\n",
       "      <td>997</td>\n",
       "    </tr>\n",
       "  </tbody>\n",
       "</table>\n",
       "</div>"
      ],
      "text/plain": [
       "     Transformed Target\n",
       "0.0              136282\n",
       "1.0                 997"
      ]
     },
     "metadata": {},
     "output_type": "display_data"
    },
    {
     "name": "stdout",
     "output_type": "stream",
     "text": [
      "\n",
      "Train folder\n"
     ]
    },
    {
     "data": {
      "text/html": [
       "<div>\n",
       "<style scoped>\n",
       "    .dataframe tbody tr th:only-of-type {\n",
       "        vertical-align: middle;\n",
       "    }\n",
       "\n",
       "    .dataframe tbody tr th {\n",
       "        vertical-align: top;\n",
       "    }\n",
       "\n",
       "    .dataframe thead th {\n",
       "        text-align: right;\n",
       "    }\n",
       "</style>\n",
       "<table border=\"1\" class=\"dataframe\">\n",
       "  <thead>\n",
       "    <tr style=\"text-align: right;\">\n",
       "      <th></th>\n",
       "      <th>Class Count</th>\n",
       "      <th>Class Count</th>\n",
       "    </tr>\n",
       "  </thead>\n",
       "  <tbody>\n",
       "    <tr>\n",
       "      <th>0.0</th>\n",
       "      <td>119037</td>\n",
       "      <td>0.992777</td>\n",
       "    </tr>\n",
       "    <tr>\n",
       "      <th>1.0</th>\n",
       "      <td>866</td>\n",
       "      <td>0.007223</td>\n",
       "    </tr>\n",
       "  </tbody>\n",
       "</table>\n",
       "</div>"
      ],
      "text/plain": [
       "     Class Count  Class Count\n",
       "0.0       119037     0.992777\n",
       "1.0          866     0.007223"
      ]
     },
     "metadata": {},
     "output_type": "display_data"
    },
    {
     "name": "stdout",
     "output_type": "stream",
     "text": [
      "\n",
      "Validation folder\n"
     ]
    },
    {
     "data": {
      "text/html": [
       "<div>\n",
       "<style scoped>\n",
       "    .dataframe tbody tr th:only-of-type {\n",
       "        vertical-align: middle;\n",
       "    }\n",
       "\n",
       "    .dataframe tbody tr th {\n",
       "        vertical-align: top;\n",
       "    }\n",
       "\n",
       "    .dataframe thead th {\n",
       "        text-align: right;\n",
       "    }\n",
       "</style>\n",
       "<table border=\"1\" class=\"dataframe\">\n",
       "  <thead>\n",
       "    <tr style=\"text-align: right;\">\n",
       "      <th></th>\n",
       "      <th>Class Count</th>\n",
       "      <th>Class Count</th>\n",
       "    </tr>\n",
       "  </thead>\n",
       "  <tbody>\n",
       "    <tr>\n",
       "      <th>0.0</th>\n",
       "      <td>17245</td>\n",
       "      <td>0.992461</td>\n",
       "    </tr>\n",
       "    <tr>\n",
       "      <th>1.0</th>\n",
       "      <td>131</td>\n",
       "      <td>0.007539</td>\n",
       "    </tr>\n",
       "  </tbody>\n",
       "</table>\n",
       "</div>"
      ],
      "text/plain": [
       "     Class Count  Class Count\n",
       "0.0        17245     0.992461\n",
       "1.0          131     0.007539"
      ]
     },
     "metadata": {},
     "output_type": "display_data"
    },
    {
     "data": {
      "text/html": [
       "<div>\n",
       "<style scoped>\n",
       "    .dataframe tbody tr th:only-of-type {\n",
       "        vertical-align: middle;\n",
       "    }\n",
       "\n",
       "    .dataframe tbody tr th {\n",
       "        vertical-align: top;\n",
       "    }\n",
       "\n",
       "    .dataframe thead th {\n",
       "        text-align: right;\n",
       "    }\n",
       "</style>\n",
       "<table border=\"1\" class=\"dataframe\">\n",
       "  <thead>\n",
       "    <tr style=\"text-align: right;\">\n",
       "      <th></th>\n",
       "      <th>Validation (%)</th>\n",
       "    </tr>\n",
       "  </thead>\n",
       "  <tbody>\n",
       "    <tr>\n",
       "      <th>Samples left</th>\n",
       "      <td>12.66</td>\n",
       "    </tr>\n",
       "    <tr>\n",
       "      <th>Negative Samples left</th>\n",
       "      <td>12.65</td>\n",
       "    </tr>\n",
       "    <tr>\n",
       "      <th>Positive Samples left</th>\n",
       "      <td>13.14</td>\n",
       "    </tr>\n",
       "  </tbody>\n",
       "</table>\n",
       "</div>"
      ],
      "text/plain": [
       "                       Validation (%)\n",
       "Samples left                    12.66\n",
       "Negative Samples left           12.65\n",
       "Positive Samples left           13.14"
      ]
     },
     "metadata": {},
     "output_type": "display_data"
    }
   ],
   "source": [
    "target_id = Yi.columns[2]\n",
    "periods_ahead = 4\n",
    "\n",
    "print(f'Modeling target {target_names[int(target_id)]} - id: {target_id}', '\\n')\n",
    "\n",
    "# Select target\n",
    "Y = Yi[str(target_id)].loc[X.index].copy()\n",
    "display(Y.value_counts().to_frame('Target'))\n",
    "\n",
    "# Group target positive class labels by being consecutive in time (group evaluation strategy)\n",
    "groups = groupConsecutiveFlags(ts=Y)\n",
    "\n",
    "### Target transformation\n",
    "if periods_ahead is not None:\n",
    "    Y = (Y.rolling(periods_ahead, closed='left', min_periods=1).sum().shift(-periods_ahead + 1) > 0).astype('float')\n",
    "    groups = groupConsecutiveFlags(ts=Y)\n",
    "    display(Y.value_counts().to_frame('Transformed Target'))\n",
    "\n",
    "# Target validation split\n",
    "yt = Y.loc[xt.index]\n",
    "ye = Y.loc[xe.index]\n",
    "groups_train = groups.loc[xt.index]\n",
    "groups_eval = groups.loc[xe.index]\n",
    "\n",
    "### Validation statistics ---\n",
    "\n",
    "split_report(Y, yt, ye)"
   ]
  },
  {
   "cell_type": "markdown",
   "metadata": {},
   "source": [
    "### Extra: Filter training data (Optional)"
   ]
  },
  {
   "cell_type": "code",
   "execution_count": 7,
   "metadata": {},
   "outputs": [
    {
     "name": "stdout",
     "output_type": "stream",
     "text": [
      "Initial data: (437875, 230)\n",
      "Time extraction: (142866, 230)\n",
      "Drop empty columns:  (142865, 217)\n"
     ]
    },
    {
     "data": {
      "image/png": "[encoded data removed]",
      "text/plain": [
       "<Figure size 792x216 with 2 Axes>"
      ]
     },
     "metadata": {},
     "output_type": "display_data"
    },
    {
     "data": {
      "image/png": "[encoded data removed]",
      "text/plain": [
       "<Figure size 792x216 with 2 Axes>"
      ]
     },
     "metadata": {},
     "output_type": "display_data"
    },
    {
     "name": "stdin",
     "output_type": "stream",
     "text": [
      "N° of columns to filter by minimum: 5\n",
      "N° of columns to filter by maximum: 13\n"
     ]
    },
    {
     "name": "stdout",
     "output_type": "stream",
     "text": [
      "\n",
      "Positive minimum filter:\n",
      "\n",
      "Records: 119903\n",
      "Records left: 61796\n",
      "Records left (%): 51.54 %\n",
      "\n",
      "Positive maximum filter:\n",
      "\n",
      "Records: 61796\n",
      "Records left: 54492\n",
      "Records left (%): 88.18 %\n",
      "\n"
     ]
    },
    {
     "data": {
      "text/html": [
       "<div>\n",
       "<style scoped>\n",
       "    .dataframe tbody tr th:only-of-type {\n",
       "        vertical-align: middle;\n",
       "    }\n",
       "\n",
       "    .dataframe tbody tr th {\n",
       "        vertical-align: top;\n",
       "    }\n",
       "\n",
       "    .dataframe thead th {\n",
       "        text-align: right;\n",
       "    }\n",
       "</style>\n",
       "<table border=\"1\" class=\"dataframe\">\n",
       "  <thead>\n",
       "    <tr style=\"text-align: right;\">\n",
       "      <th></th>\n",
       "      <th>Class Count</th>\n",
       "      <th>Percent left (%)</th>\n",
       "    </tr>\n",
       "  </thead>\n",
       "  <tbody>\n",
       "    <tr>\n",
       "      <th>0.0</th>\n",
       "      <td>53626</td>\n",
       "      <td>45.05</td>\n",
       "    </tr>\n",
       "    <tr>\n",
       "      <th>1.0</th>\n",
       "      <td>866</td>\n",
       "      <td>100.00</td>\n",
       "    </tr>\n",
       "  </tbody>\n",
       "</table>\n",
       "</div>"
      ],
      "text/plain": [
       "     Class Count  Percent left (%)\n",
       "0.0        53626             45.05\n",
       "1.0          866            100.00"
      ]
     },
     "metadata": {},
     "output_type": "display_data"
    }
   ],
   "source": [
    "# Select raw feature set for preprocessing\n",
    "X_raw = TimeseriesTransformPipeline( # Must use untransformed data to perform filtering fiter\n",
    "    data, train_start, cut=-1,\n",
    "    drop_empty_cols=True, scale=False,\n",
    "    interpolate=None, fillna=None\n",
    "); X_raw = X_raw[: eval_end]\n",
    "\n",
    "### Records left after filtering by columns' minimum thresholds\n",
    "x_filt, y_filt, groups_filt = filter_by_stats(\n",
    "    X_raw.loc[xt.index], yt, groups=groups_train,\n",
    "    n_filters=[None, None], choose_from=50,\n",
    "    acumulate='and', top_down=True,\n",
    "    figsize=(11, 3)\n",
    "); x_filt = xt.loc[x_filt.index].copy()"
   ]
  },
  {
   "cell_type": "markdown",
   "metadata": {},
   "source": [
    "---\n",
    "# Base line model evaluation"
   ]
  },
  {
   "cell_type": "code",
   "execution_count": 27,
   "metadata": {},
   "outputs": [],
   "source": [
    "from sklearn.linear_model import LinearRegression, Lasso\n",
    "\n",
    "# Select specific classification model\n",
    "gbc = classifiers['GradientBoostingClassifier']\n",
    "\n",
    "model = gbc(n_estimators=20, random_state=0)\n",
    "# model = LinearRegression()"
   ]
  },
  {
   "cell_type": "markdown",
   "metadata": {},
   "source": [
    "### Evaluate train data on validation period"
   ]
  },
  {
   "cell_type": "code",
   "execution_count": 28,
   "metadata": {},
   "outputs": [
    {
     "data": {
      "image/png": "[encoded data removed]",
      "text/plain": [
       "<Figure size 432x252 with 1 Axes>"
      ]
     },
     "metadata": {},
     "output_type": "display_data"
    },
    {
     "name": "stdin",
     "output_type": "stream",
     "text": [
      "Select decision threshold: .2\n"
     ]
    },
    {
     "data": {
      "text/html": [
       "<div>\n",
       "<style scoped>\n",
       "    .dataframe tbody tr th:only-of-type {\n",
       "        vertical-align: middle;\n",
       "    }\n",
       "\n",
       "    .dataframe tbody tr th {\n",
       "        vertical-align: top;\n",
       "    }\n",
       "\n",
       "    .dataframe thead th {\n",
       "        text-align: right;\n",
       "    }\n",
       "</style>\n",
       "<table border=\"1\" class=\"dataframe\">\n",
       "  <thead>\n",
       "    <tr style=\"text-align: right;\">\n",
       "      <th></th>\n",
       "      <th>precision</th>\n",
       "      <th>recall</th>\n",
       "      <th>f1</th>\n",
       "      <th>support</th>\n",
       "    </tr>\n",
       "  </thead>\n",
       "  <tbody>\n",
       "    <tr>\n",
       "      <th>0</th>\n",
       "      <td>0.996504</td>\n",
       "      <td>0.991766</td>\n",
       "      <td>0.994129</td>\n",
       "      <td>17245.0</td>\n",
       "    </tr>\n",
       "    <tr>\n",
       "      <th>1</th>\n",
       "      <td>0.333333</td>\n",
       "      <td>0.541985</td>\n",
       "      <td>0.412791</td>\n",
       "      <td>131.0</td>\n",
       "    </tr>\n",
       "  </tbody>\n",
       "</table>\n",
       "</div>"
      ],
      "text/plain": [
       "   precision    recall        f1  support\n",
       "0   0.996504  0.991766  0.994129  17245.0\n",
       "1   0.333333  0.541985  0.412791    131.0"
      ]
     },
     "metadata": {},
     "output_type": "display_data"
    }
   ],
   "source": [
    "scr, thresh = classifier_evaluation(model, xt, yt, xe, ye)"
   ]
  },
  {
   "cell_type": "markdown",
   "metadata": {},
   "source": [
    "---\n",
    "# Undersample evaluation"
   ]
  },
  {
   "cell_type": "markdown",
   "metadata": {},
   "source": [
    "### Filtered data on validation period"
   ]
  },
  {
   "cell_type": "code",
   "execution_count": 29,
   "metadata": {},
   "outputs": [
    {
     "data": {
      "image/png": "[encoded data removed]",
      "text/plain": [
       "<Figure size 432x252 with 1 Axes>"
      ]
     },
     "metadata": {},
     "output_type": "display_data"
    },
    {
     "name": "stdin",
     "output_type": "stream",
     "text": [
      "Select decision threshold: .2\n"
     ]
    },
    {
     "data": {
      "text/html": [
       "<div>\n",
       "<style scoped>\n",
       "    .dataframe tbody tr th:only-of-type {\n",
       "        vertical-align: middle;\n",
       "    }\n",
       "\n",
       "    .dataframe tbody tr th {\n",
       "        vertical-align: top;\n",
       "    }\n",
       "\n",
       "    .dataframe thead th {\n",
       "        text-align: right;\n",
       "    }\n",
       "</style>\n",
       "<table border=\"1\" class=\"dataframe\">\n",
       "  <thead>\n",
       "    <tr style=\"text-align: right;\">\n",
       "      <th></th>\n",
       "      <th>precision</th>\n",
       "      <th>recall</th>\n",
       "      <th>f1</th>\n",
       "      <th>support</th>\n",
       "    </tr>\n",
       "  </thead>\n",
       "  <tbody>\n",
       "    <tr>\n",
       "      <th>0</th>\n",
       "      <td>0.996862</td>\n",
       "      <td>0.994665</td>\n",
       "      <td>0.995762</td>\n",
       "      <td>17245.0</td>\n",
       "    </tr>\n",
       "    <tr>\n",
       "      <th>1</th>\n",
       "      <td>0.455621</td>\n",
       "      <td>0.587786</td>\n",
       "      <td>0.513333</td>\n",
       "      <td>131.0</td>\n",
       "    </tr>\n",
       "  </tbody>\n",
       "</table>\n",
       "</div>"
      ],
      "text/plain": [
       "   precision    recall        f1  support\n",
       "0   0.996862  0.994665  0.995762  17245.0\n",
       "1   0.455621  0.587786  0.513333    131.0"
      ]
     },
     "metadata": {},
     "output_type": "display_data"
    }
   ],
   "source": [
    "scr, thresh = classifier_evaluation(model, x_filt, y_filt, xe, ye)"
   ]
  },
  {
   "cell_type": "markdown",
   "metadata": {},
   "source": [
    "### Undersampled data on validation period - Filtered data train class proportion"
   ]
  },
  {
   "cell_type": "code",
   "execution_count": 31,
   "metadata": {},
   "outputs": [
    {
     "data": {
      "text/html": [
       "<div>\n",
       "<style scoped>\n",
       "    .dataframe tbody tr th:only-of-type {\n",
       "        vertical-align: middle;\n",
       "    }\n",
       "\n",
       "    .dataframe tbody tr th {\n",
       "        vertical-align: top;\n",
       "    }\n",
       "\n",
       "    .dataframe thead th {\n",
       "        text-align: right;\n",
       "    }\n",
       "</style>\n",
       "<table border=\"1\" class=\"dataframe\">\n",
       "  <thead>\n",
       "    <tr style=\"text-align: right;\">\n",
       "      <th></th>\n",
       "      <th>Class Count</th>\n",
       "    </tr>\n",
       "  </thead>\n",
       "  <tbody>\n",
       "    <tr>\n",
       "      <th>0.0</th>\n",
       "      <td>53626</td>\n",
       "    </tr>\n",
       "    <tr>\n",
       "      <th>1.0</th>\n",
       "      <td>866</td>\n",
       "    </tr>\n",
       "  </tbody>\n",
       "</table>\n",
       "</div>"
      ],
      "text/plain": [
       "     Class Count\n",
       "0.0        53626\n",
       "1.0          866"
      ]
     },
     "metadata": {},
     "output_type": "display_data"
    },
    {
     "data": {
      "image/png": "[encoded data removed]",
      "text/plain": [
       "<Figure size 432x252 with 1 Axes>"
      ]
     },
     "metadata": {},
     "output_type": "display_data"
    },
    {
     "name": "stdin",
     "output_type": "stream",
     "text": [
      "Select decision threshold: .5\n"
     ]
    },
    {
     "data": {
      "text/html": [
       "<div>\n",
       "<style scoped>\n",
       "    .dataframe tbody tr th:only-of-type {\n",
       "        vertical-align: middle;\n",
       "    }\n",
       "\n",
       "    .dataframe tbody tr th {\n",
       "        vertical-align: top;\n",
       "    }\n",
       "\n",
       "    .dataframe thead th {\n",
       "        text-align: right;\n",
       "    }\n",
       "</style>\n",
       "<table border=\"1\" class=\"dataframe\">\n",
       "  <thead>\n",
       "    <tr style=\"text-align: right;\">\n",
       "      <th></th>\n",
       "      <th>precision</th>\n",
       "      <th>recall</th>\n",
       "      <th>f1</th>\n",
       "      <th>support</th>\n",
       "    </tr>\n",
       "  </thead>\n",
       "  <tbody>\n",
       "    <tr>\n",
       "      <th>0</th>\n",
       "      <td>0.996522</td>\n",
       "      <td>0.996869</td>\n",
       "      <td>0.996695</td>\n",
       "      <td>17245.0</td>\n",
       "    </tr>\n",
       "    <tr>\n",
       "      <th>1</th>\n",
       "      <td>0.568000</td>\n",
       "      <td>0.541985</td>\n",
       "      <td>0.554688</td>\n",
       "      <td>131.0</td>\n",
       "    </tr>\n",
       "  </tbody>\n",
       "</table>\n",
       "</div>"
      ],
      "text/plain": [
       "   precision    recall        f1  support\n",
       "0   0.996522  0.996869  0.996695  17245.0\n",
       "1   0.568000  0.541985  0.554688    131.0"
      ]
     },
     "metadata": {},
     "output_type": "display_data"
    }
   ],
   "source": [
    "from imblearn.under_sampling import RandomUnderSampler\n",
    "\n",
    "filt_prct = y_filt.mean() / (1 - y_filt.mean())\n",
    "rus = RandomUnderSampler(sampling_strategy=filt_prct, random_state=0, replacement=False)\n",
    "\n",
    "x_res, y_res =  rus.fit_resample(xt, yt)\n",
    "display(y_res.value_counts().to_frame('Class Count'))\n",
    "\n",
    "scr_under, thresh = classifier_evaluation(model, x_res, y_res, xe, ye)"
   ]
  },
  {
   "cell_type": "markdown",
   "metadata": {},
   "source": [
    "### Undersampled data on validation period - Filtered data train class proportion (with replacement)"
   ]
  },
  {
   "cell_type": "code",
   "execution_count": 30,
   "metadata": {},
   "outputs": [
    {
     "data": {
      "text/html": [
       "<div>\n",
       "<style scoped>\n",
       "    .dataframe tbody tr th:only-of-type {\n",
       "        vertical-align: middle;\n",
       "    }\n",
       "\n",
       "    .dataframe tbody tr th {\n",
       "        vertical-align: top;\n",
       "    }\n",
       "\n",
       "    .dataframe thead th {\n",
       "        text-align: right;\n",
       "    }\n",
       "</style>\n",
       "<table border=\"1\" class=\"dataframe\">\n",
       "  <thead>\n",
       "    <tr style=\"text-align: right;\">\n",
       "      <th></th>\n",
       "      <th>Class Count</th>\n",
       "    </tr>\n",
       "  </thead>\n",
       "  <tbody>\n",
       "    <tr>\n",
       "      <th>0.0</th>\n",
       "      <td>53626</td>\n",
       "    </tr>\n",
       "    <tr>\n",
       "      <th>1.0</th>\n",
       "      <td>866</td>\n",
       "    </tr>\n",
       "  </tbody>\n",
       "</table>\n",
       "</div>"
      ],
      "text/plain": [
       "     Class Count\n",
       "0.0        53626\n",
       "1.0          866"
      ]
     },
     "metadata": {},
     "output_type": "display_data"
    },
    {
     "data": {
      "image/png": "[encoded data removed]",
      "text/plain": [
       "<Figure size 432x252 with 1 Axes>"
      ]
     },
     "metadata": {},
     "output_type": "display_data"
    },
    {
     "name": "stdin",
     "output_type": "stream",
     "text": [
      "Select decision threshold: .2\n"
     ]
    },
    {
     "data": {
      "text/html": [
       "<div>\n",
       "<style scoped>\n",
       "    .dataframe tbody tr th:only-of-type {\n",
       "        vertical-align: middle;\n",
       "    }\n",
       "\n",
       "    .dataframe tbody tr th {\n",
       "        vertical-align: top;\n",
       "    }\n",
       "\n",
       "    .dataframe thead th {\n",
       "        text-align: right;\n",
       "    }\n",
       "</style>\n",
       "<table border=\"1\" class=\"dataframe\">\n",
       "  <thead>\n",
       "    <tr style=\"text-align: right;\">\n",
       "      <th></th>\n",
       "      <th>precision</th>\n",
       "      <th>recall</th>\n",
       "      <th>f1</th>\n",
       "      <th>support</th>\n",
       "    </tr>\n",
       "  </thead>\n",
       "  <tbody>\n",
       "    <tr>\n",
       "      <th>0</th>\n",
       "      <td>0.997497</td>\n",
       "      <td>0.993505</td>\n",
       "      <td>0.995497</td>\n",
       "      <td>17245.0</td>\n",
       "    </tr>\n",
       "    <tr>\n",
       "      <th>1</th>\n",
       "      <td>0.440000</td>\n",
       "      <td>0.671756</td>\n",
       "      <td>0.531722</td>\n",
       "      <td>131.0</td>\n",
       "    </tr>\n",
       "  </tbody>\n",
       "</table>\n",
       "</div>"
      ],
      "text/plain": [
       "   precision    recall        f1  support\n",
       "0   0.997497  0.993505  0.995497  17245.0\n",
       "1   0.440000  0.671756  0.531722    131.0"
      ]
     },
     "metadata": {},
     "output_type": "display_data"
    }
   ],
   "source": [
    "filt_prct = y_filt.mean() / (1 - y_filt.mean())\n",
    "rus = RandomUnderSampler(sampling_strategy=filt_prct, random_state=0, replacement=True)\n",
    "\n",
    "x_res, y_res =  rus.fit_resample(xt, yt)\n",
    "display(y_res.value_counts().to_frame('Class Count'))\n",
    "\n",
    "scr_under, thresh = classifier_evaluation(model, x_res, y_res, xe, ye)"
   ]
  },
  {
   "cell_type": "markdown",
   "metadata": {},
   "source": [
    "---\n",
    "# Cross validation"
   ]
  },
  {
   "cell_type": "code",
   "execution_count": null,
   "metadata": {},
   "outputs": [],
   "source": [
    "splitter = MinorityGroupSplitUndersample(\n",
    "    n_splits=5,\n",
    "#     train_size, test_size,               # Not used if minority split strategy is GroupKFold\n",
    "    train_prct=None, test_prct='natural',  # Natural percentage for por train and test samples\n",
    "    random_state=0,\n",
    ")"
   ]
  },
  {
   "cell_type": "markdown",
   "metadata": {},
   "source": [
    "### Cross-validate train data"
   ]
  },
  {
   "cell_type": "code",
   "execution_count": 32,
   "metadata": {},
   "outputs": [
    {
     "data": {
      "text/html": [
       "<div>\n",
       "<style scoped>\n",
       "    .dataframe tbody tr th:only-of-type {\n",
       "        vertical-align: middle;\n",
       "    }\n",
       "\n",
       "    .dataframe tbody tr th {\n",
       "        vertical-align: top;\n",
       "    }\n",
       "\n",
       "    .dataframe thead th {\n",
       "        text-align: right;\n",
       "    }\n",
       "</style>\n",
       "<table border=\"1\" class=\"dataframe\">\n",
       "  <thead>\n",
       "    <tr style=\"text-align: right;\">\n",
       "      <th></th>\n",
       "      <th>Train set</th>\n",
       "      <th>Test set</th>\n",
       "    </tr>\n",
       "    <tr>\n",
       "      <th>Class</th>\n",
       "      <th></th>\n",
       "      <th></th>\n",
       "    </tr>\n",
       "  </thead>\n",
       "  <tbody>\n",
       "    <tr>\n",
       "      <th>0.0</th>\n",
       "      <td>95119</td>\n",
       "      <td>23917</td>\n",
       "    </tr>\n",
       "    <tr>\n",
       "      <th>1.0</th>\n",
       "      <td>692</td>\n",
       "      <td>174</td>\n",
       "    </tr>\n",
       "  </tbody>\n",
       "</table>\n",
       "</div>"
      ],
      "text/plain": [
       "       Train set  Test set\n",
       "Class                     \n",
       "0.0        95119     23917\n",
       "1.0          692       174"
      ]
     },
     "metadata": {},
     "output_type": "display_data"
    },
    {
     "name": "stderr",
     "output_type": "stream",
     "text": [
      "[Parallel(n_jobs=-1)]: Using backend LokyBackend with 4 concurrent workers.\n",
      "[Parallel(n_jobs=-1)]: Done   2 out of   5 | elapsed:  1.3min remaining:  2.0min\n",
      "[Parallel(n_jobs=-1)]: Done   5 out of   5 | elapsed:  2.0min finished\n"
     ]
    }
   ],
   "source": [
    "cv_train = list(splitter.split(\n",
    "    xt, yt, groups_train,\n",
    "    strategy='GroupKFold'\n",
    ")); print_cls_cnt(yt, cv_train[0][0], cv_train[0][1])\n",
    "\n",
    "scr_train = pd.DataFrame(cross_validate(\n",
    "    model, xt, yt, cv=cv_train,\n",
    "    scoring=scoring, n_jobs=-1,\n",
    "    verbose=5, error_score='raise'\n",
    "))"
   ]
  },
  {
   "cell_type": "markdown",
   "metadata": {},
   "source": [
    "### Cross-validate train and validation data"
   ]
  },
  {
   "cell_type": "code",
   "execution_count": 33,
   "metadata": {},
   "outputs": [
    {
     "data": {
      "text/html": [
       "<div>\n",
       "<style scoped>\n",
       "    .dataframe tbody tr th:only-of-type {\n",
       "        vertical-align: middle;\n",
       "    }\n",
       "\n",
       "    .dataframe tbody tr th {\n",
       "        vertical-align: top;\n",
       "    }\n",
       "\n",
       "    .dataframe thead th {\n",
       "        text-align: right;\n",
       "    }\n",
       "</style>\n",
       "<table border=\"1\" class=\"dataframe\">\n",
       "  <thead>\n",
       "    <tr style=\"text-align: right;\">\n",
       "      <th></th>\n",
       "      <th>Train set</th>\n",
       "      <th>Test set</th>\n",
       "    </tr>\n",
       "    <tr>\n",
       "      <th>Class</th>\n",
       "      <th></th>\n",
       "      <th></th>\n",
       "    </tr>\n",
       "  </thead>\n",
       "  <tbody>\n",
       "    <tr>\n",
       "      <th>0.0</th>\n",
       "      <td>109216</td>\n",
       "      <td>27065</td>\n",
       "    </tr>\n",
       "    <tr>\n",
       "      <th>1.0</th>\n",
       "      <td>799</td>\n",
       "      <td>198</td>\n",
       "    </tr>\n",
       "  </tbody>\n",
       "</table>\n",
       "</div>"
      ],
      "text/plain": [
       "       Train set  Test set\n",
       "Class                     \n",
       "0.0       109216     27065\n",
       "1.0          799       198"
      ]
     },
     "metadata": {},
     "output_type": "display_data"
    },
    {
     "name": "stderr",
     "output_type": "stream",
     "text": [
      "[Parallel(n_jobs=-1)]: Using backend LokyBackend with 4 concurrent workers.\n",
      "[Parallel(n_jobs=-1)]: Done   2 out of   5 | elapsed:  1.6min remaining:  2.4min\n",
      "[Parallel(n_jobs=-1)]: Done   5 out of   5 | elapsed:  2.3min finished\n"
     ]
    }
   ],
   "source": [
    "cv_test = list(splitter.split(\n",
    "    X, Y, groups,\n",
    "    strategy='GroupKFold'\n",
    ")); print_cls_cnt(Y, cv_test[0][0], cv_test[0][1])\n",
    "\n",
    "scr_test = pd.DataFrame(cross_validate(\n",
    "    model, X, Y, cv=cv_test,\n",
    "    scoring=scoring, n_jobs=-1,\n",
    "    verbose=5, error_score='raise'\n",
    "))"
   ]
  },
  {
   "cell_type": "markdown",
   "metadata": {},
   "source": [
    "### Compare results"
   ]
  },
  {
   "cell_type": "code",
   "execution_count": 34,
   "metadata": {},
   "outputs": [
    {
     "data": {
      "text/html": [
       "<div>\n",
       "<style scoped>\n",
       "    .dataframe tbody tr th:only-of-type {\n",
       "        vertical-align: middle;\n",
       "    }\n",
       "\n",
       "    .dataframe tbody tr th {\n",
       "        vertical-align: top;\n",
       "    }\n",
       "\n",
       "    .dataframe thead th {\n",
       "        text-align: right;\n",
       "    }\n",
       "</style>\n",
       "<table border=\"1\" class=\"dataframe\">\n",
       "  <thead>\n",
       "    <tr style=\"text-align: right;\">\n",
       "      <th></th>\n",
       "      <th>test_recall-1</th>\n",
       "      <th>test_precision-1</th>\n",
       "    </tr>\n",
       "  </thead>\n",
       "  <tbody>\n",
       "    <tr>\n",
       "      <th>mean</th>\n",
       "      <td>0.354555</td>\n",
       "      <td>0.676587</td>\n",
       "    </tr>\n",
       "    <tr>\n",
       "      <th>std</th>\n",
       "      <td>0.134878</td>\n",
       "      <td>0.055755</td>\n",
       "    </tr>\n",
       "  </tbody>\n",
       "</table>\n",
       "</div>"
      ],
      "text/plain": [
       "      test_recall-1  test_precision-1\n",
       "mean       0.354555          0.676587\n",
       "std        0.134878          0.055755"
      ]
     },
     "metadata": {},
     "output_type": "display_data"
    },
    {
     "data": {
      "text/html": [
       "<div>\n",
       "<style scoped>\n",
       "    .dataframe tbody tr th:only-of-type {\n",
       "        vertical-align: middle;\n",
       "    }\n",
       "\n",
       "    .dataframe tbody tr th {\n",
       "        vertical-align: top;\n",
       "    }\n",
       "\n",
       "    .dataframe thead th {\n",
       "        text-align: right;\n",
       "    }\n",
       "</style>\n",
       "<table border=\"1\" class=\"dataframe\">\n",
       "  <thead>\n",
       "    <tr style=\"text-align: right;\">\n",
       "      <th></th>\n",
       "      <th>test_recall-1</th>\n",
       "      <th>test_precision-1</th>\n",
       "    </tr>\n",
       "  </thead>\n",
       "  <tbody>\n",
       "    <tr>\n",
       "      <th>mean</th>\n",
       "      <td>0.466742</td>\n",
       "      <td>0.764183</td>\n",
       "    </tr>\n",
       "    <tr>\n",
       "      <th>std</th>\n",
       "      <td>0.113788</td>\n",
       "      <td>0.032264</td>\n",
       "    </tr>\n",
       "  </tbody>\n",
       "</table>\n",
       "</div>"
      ],
      "text/plain": [
       "      test_recall-1  test_precision-1\n",
       "mean       0.466742          0.764183\n",
       "std        0.113788          0.032264"
      ]
     },
     "metadata": {},
     "output_type": "display_data"
    }
   ],
   "source": [
    "for score in (scr_train, scr_test):\n",
    "    display(score.describe().loc[['mean', 'std'], ['test_recall-1', 'test_precision-1']])"
   ]
  },
  {
   "cell_type": "markdown",
   "metadata": {},
   "source": [
    "---\n",
    "# Model deployment"
   ]
  },
  {
   "cell_type": "code",
   "execution_count": null,
   "metadata": {},
   "outputs": [],
   "source": [
    "deploy_info_path = 'API Deploy/deploy_info.csv'\n",
    "models_path = 'API Deploy/Modelos/'\n",
    "thresholds_path = 'API Deploy/thresholds.json'"
   ]
  },
  {
   "cell_type": "markdown",
   "metadata": {},
   "source": [
    "### Deployment information"
   ]
  },
  {
   "cell_type": "code",
   "execution_count": null,
   "metadata": {},
   "outputs": [],
   "source": [
    "# Select raw feature set for preprocessing\n",
    "X_raw = TimeseriesTransformPipeline( # Must use untransformed data to perform filtering fiter\n",
    "    data, train_start, cut=-1,\n",
    "    drop_empty_cols=True, scale=False,\n",
    "    interpolate=None, fillna=None\n",
    "); X_raw = X_raw[: eval_end]\n",
    "\n",
    "# Save Features description\n",
    "X_info = X_raw.describe().loc[['min', 'max', 'mean']].T\n",
    "X_info.to_csv(deploy_info_path, index=True)"
   ]
  },
  {
   "cell_type": "markdown",
   "metadata": {},
   "source": [
    "### Model information"
   ]
  },
  {
   "cell_type": "code",
   "execution_count": 63,
   "metadata": {},
   "outputs": [],
   "source": [
    "def save_model(model, name, _id, path, score=None):\n",
    "    model_path = path + name + '/'\n",
    "    model_file = model_path + 'model_' + name + '-' + _id + '.pickle'\n",
    "    if not os.path.exists(model_path):\n",
    "        os.makedirs(model_path)\n",
    "    pickle.dump(final_model, open(model_file, 'wb'))\n",
    "    if score is not None:\n",
    "        score_file = model_path + 'score_' + name + '-' + _id + '.csv'\n",
    "        score.to_csv(score_file, index=True)\n",
    "    print('Done! Model saved at:', model_file)\n",
    "\n",
    "# Write values to json file keys' fields\n",
    "def update_json_file(obj, path):\n",
    "    raw_file = json.loads(open(path, 'r').read())\n",
    "    for key in obj.keys():\n",
    "        raw_file[key] = obj[key]\n",
    "    with open(path, 'w') as file:\n",
    "        file.write(json.dumps(raw_file))"
   ]
  },
  {
   "cell_type": "code",
   "execution_count": null,
   "metadata": {},
   "outputs": [],
   "source": [
    "model_info = {\n",
    "    'id': target_id,\n",
    "    'name': target_names[int(target_id)],\n",
    "    'model': final_model,\n",
    "    'threshold': threshold,\n",
    "    'score': final_score,\n",
    "}\n",
    "\n",
    "# Save model and score to desired path\n",
    "save_model(\n",
    "    final_model, model_info['name'],\n",
    "    model_info['id'], models_path,\n",
    "    score=model_info['score']\n",
    ")\n",
    "\n",
    "# Write model threshold to json file\n",
    "update_json_file(\n",
    "    {model_info['id']: model_info['threshold']},\n",
    "    path=thresholds_path\n",
    ")"
   ]
  }
 ],
 "metadata": {
  "kernelspec": {
   "display_name": "Python 3",
   "language": "python",
   "name": "python3"
  },
  "language_info": {
   "codemirror_mode": {
    "name": "ipython",
    "version": 3
   },
   "file_extension": ".py",
   "mimetype": "text/x-python",
   "name": "python",
   "nbconvert_exporter": "python",
   "pygments_lexer": "ipython3",
   "version": "3.8.3"
  }
 },
 "nbformat": 4,
 "nbformat_minor": 4
}
