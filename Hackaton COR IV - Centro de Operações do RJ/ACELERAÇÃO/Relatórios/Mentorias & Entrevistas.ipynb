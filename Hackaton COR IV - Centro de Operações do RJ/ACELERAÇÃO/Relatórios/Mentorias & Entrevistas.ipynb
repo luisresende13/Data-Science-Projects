{
 "cells": [
  {
   "cell_type": "markdown",
   "metadata": {},
   "source": [
    "### Noah:\n",
    "\n",
    "Perguntas:\n",
    "1. Quantos sensores em funcionamento?\n",
    "2. Como os dados de sensores são usados dentro e fora do COR?\n",
    "1. Como funciona o acesso aos dados dos sensores? Como podemos integrar os dados em nossa asolução?\n",
    "3. Qual a infraestrutura tecnológica do Noah?\n",
    "\n",
    "1. Quais outros dados dentro do COR podemos usar, além do datalake, e nimbus?\n",
    "2. Como se destacar na fase de aceleração do desafio COR-Rio?"
   ]
  },
  {
   "cell_type": "code",
   "execution_count": null,
   "metadata": {},
   "outputs": [],
   "source": []
  }
 ],
 "metadata": {
  "kernelspec": {
   "display_name": "Python 3",
   "language": "python",
   "name": "python3"
  },
  "language_info": {
   "codemirror_mode": {
    "name": "ipython",
    "version": 3
   },
   "file_extension": ".py",
   "mimetype": "text/x-python",
   "name": "python",
   "nbconvert_exporter": "python",
   "pygments_lexer": "ipython3",
   "version": "3.8.3"
  }
 },
 "nbformat": 4,
 "nbformat_minor": 4
}
