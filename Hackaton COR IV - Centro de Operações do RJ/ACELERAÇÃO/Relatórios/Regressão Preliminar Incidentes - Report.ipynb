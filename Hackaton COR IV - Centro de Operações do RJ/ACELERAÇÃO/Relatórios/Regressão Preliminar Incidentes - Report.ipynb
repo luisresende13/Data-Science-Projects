{
 "cells": [
  {
   "cell_type": "markdown",
   "metadata": {},
   "source": [
    "## Report Sections:\n",
    "\n",
    "Main objective of the analysis that specifies whether your model will be focused on prediction or interpretation.\n",
    "\n",
    "Brief description of the data set you chose and a summary of its attributes.\n",
    "\n",
    "Brief summary of data exploration and actions taken for data cleaning and feature engineering.\n",
    "\n",
    "Summary of training at least three linear regression models which should be variations that cover using a simple linear regression as a baseline, adding polynomial effects, and using a regularization regression. Preferably, all use the same training and test splits, or the same cross-validation method.\n",
    "\n",
    "A paragraph explaining which of your regressions you recommend as a final model that best fits your needs in terms of accuracy and explainability.\n",
    "\n",
    "Summary Key Findings and Insights, which walks your reader through the main drivers of your model and insights from your data derived from your linear regression model.\n",
    "\n",
    "Suggestions for next steps in analyzing this data, which may include suggesting revisiting this model adding specific data features to achieve a better explanation or a better prediction."
   ]
  },
  {
   "cell_type": "markdown",
   "metadata": {},
   "source": [
    "#### Model goal and brief description:\n",
    "* Cluster incidents in critical points, predict for every cluster at fixed frequency.\n",
    "\n",
    "\n",
    "#### Arquitecture Options:\n",
    "\n",
    "1. Separate model for each cluster\n",
    "\n",
    "2. Single model stacking all observations and adding new predictive column for the observation cluster \n",
    "\n",
    "\n",
    "3. Station and area center data merged on date and time intervals only, repeating less frequent observations.\n",
    "2. "
   ]
  }
 ],
 "metadata": {
  "kernelspec": {
   "display_name": "Python 3",
   "language": "python",
   "name": "python3"
  },
  "language_info": {
   "codemirror_mode": {
    "name": "ipython",
    "version": 3
   },
   "file_extension": ".py",
   "mimetype": "text/x-python",
   "name": "python",
   "nbconvert_exporter": "python",
   "pygments_lexer": "ipython3",
   "version": "3.8.3"
  }
 },
 "nbformat": 4,
 "nbformat_minor": 4
}
