{
 "cells": [
  {
   "cell_type": "markdown",
   "metadata": {},
   "source": [
    "# WATER BAG EVENT CATALOG - PREPROCESSING & FEATURE ENGINEERING"
   ]
  },
  {
   "cell_type": "markdown",
   "metadata": {},
   "source": [
    "### Planning\n",
    "\n",
    "Model arquitecture options:\n",
    "1. Binary labels for (any) incident ocorrence in time intervals - Done\n",
    "1. Binary labels for incident ocorrence in time intervals for each incident group - Done\n",
    "1. Labels for each incident group (+ no incident) in time intervals\n",
    "4. Shift labels to predict future ocorrence per hours prior\n",
    "    1. Shift labels one, two, three positions to predict risk for next one, two, three hours (separate model for each hour step).\n",
    "6. Reorder columns values as first, second ... stations closer\n",
    "7. Predict incident quantity per day, week and month, in city, neighborhoods and clusters.\n",
    "8. Predict time until next event (for city and event groups)\n",
    "\n",
    "Feature Engineering:\n",
    "1. Time serie index (Make it a time serie model)\n",
    "1. Trimester, month, week, day of the year.\n",
    "2. Acumulated on last one, two, three... records (hours).\n",
    "\n",
    "Obs: Filter records by arbitrary rule to reduce samples and overcome imbalancement"
   ]
  },
  {
   "cell_type": "markdown",
   "metadata": {},
   "source": [
    "#### Import modules and libraries"
   ]
  },
  {
   "cell_type": "code",
   "execution_count": 1,
   "metadata": {},
   "outputs": [],
   "source": [
    "import os, json\n",
    "import pandas as pd, numpy as np\n",
    "import matplotlib.pyplot as plt, seaborn as sns; sns.set()\n",
    "from IPython.display import clear_output as co"
   ]
  },
  {
   "cell_type": "markdown",
   "metadata": {},
   "source": [
    "#### Water bag groupped events collection"
   ]
  },
  {
   "cell_type": "code",
   "execution_count": 2,
   "metadata": {},
   "outputs": [
    {
     "data": {
      "text/html": [
       "<div>\n",
       "<style scoped>\n",
       "    .dataframe tbody tr th:only-of-type {\n",
       "        vertical-align: middle;\n",
       "    }\n",
       "\n",
       "    .dataframe tbody tr th {\n",
       "        vertical-align: top;\n",
       "    }\n",
       "\n",
       "    .dataframe thead th {\n",
       "        text-align: right;\n",
       "    }\n",
       "</style>\n",
       "<table border=\"1\" class=\"dataframe\">\n",
       "  <thead>\n",
       "    <tr style=\"text-align: right;\">\n",
       "      <th></th>\n",
       "      <th>EVENTO_TITULO</th>\n",
       "      <th>EVENTO_DESCRICAO</th>\n",
       "      <th>POP_TITULO</th>\n",
       "      <th>EVENTO_PRAZO</th>\n",
       "      <th>EVENTO_GRAVIDADE</th>\n",
       "      <th>EVENTO_BAIRRO</th>\n",
       "      <th>EVENTO_LATITUDE</th>\n",
       "      <th>EVENTO_LONGITUDE</th>\n",
       "      <th>EVENTO_INICIO</th>\n",
       "      <th>EVENTO_FIM</th>\n",
       "      <th>...</th>\n",
       "      <th>types</th>\n",
       "      <th>location_type</th>\n",
       "      <th>neighborhood</th>\n",
       "      <th>route</th>\n",
       "      <th>street_number</th>\n",
       "      <th>postal_code</th>\n",
       "      <th>formatted_address</th>\n",
       "      <th>premise</th>\n",
       "      <th>search_lat</th>\n",
       "      <th>search_lng</th>\n",
       "    </tr>\n",
       "    <tr>\n",
       "      <th>EVENTO_ID</th>\n",
       "      <th></th>\n",
       "      <th></th>\n",
       "      <th></th>\n",
       "      <th></th>\n",
       "      <th></th>\n",
       "      <th></th>\n",
       "      <th></th>\n",
       "      <th></th>\n",
       "      <th></th>\n",
       "      <th></th>\n",
       "      <th></th>\n",
       "      <th></th>\n",
       "      <th></th>\n",
       "      <th></th>\n",
       "      <th></th>\n",
       "      <th></th>\n",
       "      <th></th>\n",
       "      <th></th>\n",
       "      <th></th>\n",
       "      <th></th>\n",
       "      <th></th>\n",
       "    </tr>\n",
       "  </thead>\n",
       "  <tbody>\n",
       "    <tr>\n",
       "      <th>1258</th>\n",
       "      <td>Bolsão d'agua</td>\n",
       "      <td>R. Pinheiro Machado com Muniz Barreto - Botafogo</td>\n",
       "      <td>Bolsão d'água em via</td>\n",
       "      <td>NaN</td>\n",
       "      <td>BAIXO</td>\n",
       "      <td>NaN</td>\n",
       "      <td>-22.944774</td>\n",
       "      <td>-43.183917</td>\n",
       "      <td>2015-09-12 20:12:00</td>\n",
       "      <td>2015-09-13 03:39:00</td>\n",
       "      <td>...</td>\n",
       "      <td>['street_address']</td>\n",
       "      <td>ROOFTOP</td>\n",
       "      <td>Botafogo</td>\n",
       "      <td>Rua Muniz Barreto</td>\n",
       "      <td>366</td>\n",
       "      <td>22251-090</td>\n",
       "      <td>R. Muniz Barreto, 366 - Botafogo, Rio de Janei...</td>\n",
       "      <td>NaN</td>\n",
       "      <td>-22.944790</td>\n",
       "      <td>-43.184068</td>\n",
       "    </tr>\n",
       "    <tr>\n",
       "      <th>1259</th>\n",
       "      <td>Bolsão</td>\n",
       "      <td>Av. Novo Rio, 3131 - Bonsucesso</td>\n",
       "      <td>Bolsão d'água em via</td>\n",
       "      <td>NaN</td>\n",
       "      <td>BAIXO</td>\n",
       "      <td>NaN</td>\n",
       "      <td>-22.871684</td>\n",
       "      <td>-43.256200</td>\n",
       "      <td>2015-09-12 22:13:00</td>\n",
       "      <td>2015-09-13 01:21:00</td>\n",
       "      <td>...</td>\n",
       "      <td>['premise']</td>\n",
       "      <td>ROOFTOP</td>\n",
       "      <td>Bonsucesso</td>\n",
       "      <td>Avenida Novo Rio</td>\n",
       "      <td>3131</td>\n",
       "      <td>21051-051</td>\n",
       "      <td>Av. Novo Rio, 3131 - Bonsucesso, Rio de Janeir...</td>\n",
       "      <td>NaN</td>\n",
       "      <td>-22.871948</td>\n",
       "      <td>-43.256108</td>\n",
       "    </tr>\n",
       "    <tr>\n",
       "      <th>1260</th>\n",
       "      <td>Bolsão</td>\n",
       "      <td>Av. Ataulfo de Paiva, 752 - Leblon</td>\n",
       "      <td>Bolsão d'água em via</td>\n",
       "      <td>NaN</td>\n",
       "      <td>BAIXO</td>\n",
       "      <td>NaN</td>\n",
       "      <td>-22.984337</td>\n",
       "      <td>-43.223100</td>\n",
       "      <td>2015-09-12 22:15:00</td>\n",
       "      <td>2015-09-13 01:20:00</td>\n",
       "      <td>...</td>\n",
       "      <td>['street_address']</td>\n",
       "      <td>ROOFTOP</td>\n",
       "      <td>Leblon</td>\n",
       "      <td>Avenida Ataulfo de Paiva</td>\n",
       "      <td>750</td>\n",
       "      <td>22440-033</td>\n",
       "      <td>Av. Ataulfo de Paiva, 750 - Leblon, Rio de Jan...</td>\n",
       "      <td>NaN</td>\n",
       "      <td>-22.984207</td>\n",
       "      <td>-43.223015</td>\n",
       "    </tr>\n",
       "    <tr>\n",
       "      <th>1261</th>\n",
       "      <td>Bolsão</td>\n",
       "      <td>Avenida General San Martin / Praça Antero de Q...</td>\n",
       "      <td>Bolsão d'água em via</td>\n",
       "      <td>NaN</td>\n",
       "      <td>BAIXO</td>\n",
       "      <td>NaN</td>\n",
       "      <td>-22.984337</td>\n",
       "      <td>-43.223100</td>\n",
       "      <td>2015-09-12 22:16:00</td>\n",
       "      <td>2015-09-13 01:20:00</td>\n",
       "      <td>...</td>\n",
       "      <td>['street_address']</td>\n",
       "      <td>ROOFTOP</td>\n",
       "      <td>Leblon</td>\n",
       "      <td>Avenida Ataulfo de Paiva</td>\n",
       "      <td>750</td>\n",
       "      <td>22440-033</td>\n",
       "      <td>Av. Ataulfo de Paiva, 750 - Leblon, Rio de Jan...</td>\n",
       "      <td>NaN</td>\n",
       "      <td>-22.984207</td>\n",
       "      <td>-43.223015</td>\n",
       "    </tr>\n",
       "  </tbody>\n",
       "</table>\n",
       "<p>4 rows × 21 columns</p>\n",
       "</div>"
      ],
      "text/plain": [
       "           EVENTO_TITULO                                   EVENTO_DESCRICAO  \\\n",
       "EVENTO_ID                                                                     \n",
       "1258       Bolsão d'agua   R. Pinheiro Machado com Muniz Barreto - Botafogo   \n",
       "1259              Bolsão                    Av. Novo Rio, 3131 - Bonsucesso   \n",
       "1260              Bolsão                 Av. Ataulfo de Paiva, 752 - Leblon   \n",
       "1261              Bolsão  Avenida General San Martin / Praça Antero de Q...   \n",
       "\n",
       "                     POP_TITULO EVENTO_PRAZO EVENTO_GRAVIDADE EVENTO_BAIRRO  \\\n",
       "EVENTO_ID                                                                     \n",
       "1258       Bolsão d'água em via          NaN            BAIXO           NaN   \n",
       "1259       Bolsão d'água em via          NaN            BAIXO           NaN   \n",
       "1260       Bolsão d'água em via          NaN            BAIXO           NaN   \n",
       "1261       Bolsão d'água em via          NaN            BAIXO           NaN   \n",
       "\n",
       "           EVENTO_LATITUDE  EVENTO_LONGITUDE        EVENTO_INICIO  \\\n",
       "EVENTO_ID                                                           \n",
       "1258            -22.944774        -43.183917  2015-09-12 20:12:00   \n",
       "1259            -22.871684        -43.256200  2015-09-12 22:13:00   \n",
       "1260            -22.984337        -43.223100  2015-09-12 22:15:00   \n",
       "1261            -22.984337        -43.223100  2015-09-12 22:16:00   \n",
       "\n",
       "                    EVENTO_FIM  ...               types location_type  \\\n",
       "EVENTO_ID                       ...                                     \n",
       "1258       2015-09-13 03:39:00  ...  ['street_address']       ROOFTOP   \n",
       "1259       2015-09-13 01:21:00  ...         ['premise']       ROOFTOP   \n",
       "1260       2015-09-13 01:20:00  ...  ['street_address']       ROOFTOP   \n",
       "1261       2015-09-13 01:20:00  ...  ['street_address']       ROOFTOP   \n",
       "\n",
       "          neighborhood                     route street_number postal_code  \\\n",
       "EVENTO_ID                                                                    \n",
       "1258          Botafogo         Rua Muniz Barreto           366   22251-090   \n",
       "1259        Bonsucesso          Avenida Novo Rio          3131   21051-051   \n",
       "1260            Leblon  Avenida Ataulfo de Paiva           750   22440-033   \n",
       "1261            Leblon  Avenida Ataulfo de Paiva           750   22440-033   \n",
       "\n",
       "                                           formatted_address premise  \\\n",
       "EVENTO_ID                                                              \n",
       "1258       R. Muniz Barreto, 366 - Botafogo, Rio de Janei...     NaN   \n",
       "1259       Av. Novo Rio, 3131 - Bonsucesso, Rio de Janeir...     NaN   \n",
       "1260       Av. Ataulfo de Paiva, 750 - Leblon, Rio de Jan...     NaN   \n",
       "1261       Av. Ataulfo de Paiva, 750 - Leblon, Rio de Jan...     NaN   \n",
       "\n",
       "          search_lat  search_lng  \n",
       "EVENTO_ID                         \n",
       "1258      -22.944790  -43.184068  \n",
       "1259      -22.871948  -43.256108  \n",
       "1260      -22.984207  -43.223015  \n",
       "1261      -22.984207  -43.223015  \n",
       "\n",
       "[4 rows x 21 columns]"
      ]
     },
     "metadata": {},
     "output_type": "display_data"
    },
    {
     "data": {
      "text/plain": [
       "(3140, 20)"
      ]
     },
     "metadata": {},
     "output_type": "display_data"
    }
   ],
   "source": [
    "waterbags = pd.read_csv('../Dados/Catalog/water_bag_catalog_google.csv', index_col=0)\n",
    "clusters = pd.read_csv('../Dados/Clusters/clusters_bolsões_micro.csv', index_col=0)\n",
    "\n",
    "display(waterbags.head(4)); display(clusters.shape)"
   ]
  },
  {
   "cell_type": "markdown",
   "metadata": {},
   "source": [
    "---\n",
    "# 1. Stations' records labeled by water bag event ocorrence"
   ]
  },
  {
   "cell_type": "markdown",
   "metadata": {},
   "source": [
    "### Transform functions"
   ]
  },
  {
   "cell_type": "code",
   "execution_count": 3,
   "metadata": {},
   "outputs": [],
   "source": [
    "def intervals_intersect_interval(values_min, values_max, time_min, time_max):\n",
    "    return ~((values_max <= time_min) | (values_min >= time_max))\n",
    "\n",
    "def timeSequenceEventLabels(time_serie, target, start, end, groups, report=1000): # Accepts time_serie as pandas Datetime Index\n",
    "    \n",
    "    period_label = []\n",
    "    for i in range(time_serie.shape[0] - 1):\n",
    "        if (i+1) % report == 0:\n",
    "            co(wait=True); print(f'{i+1}/{time_serie.shape[0] - 1} bin edges evaluated...')\n",
    "        periods_intersect = intervals_intersect_interval(target[start], target[end], time_serie[i], time_serie[i+1])\n",
    "        target_bin = target[periods_intersect]\n",
    "        label = 1 if len(target_bin) else 0\n",
    "        n_events = len(target_bin)\n",
    "        event_ids = target_bin.index.tolist()\n",
    "        event_groups = target_bin[groups].tolist()\n",
    "        period_label.append([label, n_events, event_ids, event_groups])\n",
    "    print(f'Done! {time_serie.shape[0] - 1} periods evaluated.')\n",
    "    return pd.DataFrame(period_label, columns=['label', 'events', 'event ids', 'event groups'], index=time_serie[:-1])"
   ]
  },
  {
   "cell_type": "markdown",
   "metadata": {},
   "source": [
    "### Water bag events\n",
    "\n",
    "#### Join clusters data to water bag events collection"
   ]
  },
  {
   "cell_type": "code",
   "execution_count": 4,
   "metadata": {},
   "outputs": [
    {
     "data": {
      "text/html": [
       "<div>\n",
       "<style scoped>\n",
       "    .dataframe tbody tr th:only-of-type {\n",
       "        vertical-align: middle;\n",
       "    }\n",
       "\n",
       "    .dataframe tbody tr th {\n",
       "        vertical-align: top;\n",
       "    }\n",
       "\n",
       "    .dataframe thead th {\n",
       "        text-align: right;\n",
       "    }\n",
       "</style>\n",
       "<table border=\"1\" class=\"dataframe\">\n",
       "  <thead>\n",
       "    <tr style=\"text-align: right;\">\n",
       "      <th></th>\n",
       "      <th>EVENTO_INICIO</th>\n",
       "      <th>EVENTO_FIM</th>\n",
       "      <th>sublabel</th>\n",
       "    </tr>\n",
       "    <tr>\n",
       "      <th>EVENTO_ID</th>\n",
       "      <th></th>\n",
       "      <th></th>\n",
       "      <th></th>\n",
       "    </tr>\n",
       "  </thead>\n",
       "  <tbody>\n",
       "    <tr>\n",
       "      <th>1258</th>\n",
       "      <td>2015-09-12 20:12:00</td>\n",
       "      <td>2015-09-13 03:39:00</td>\n",
       "      <td>9</td>\n",
       "    </tr>\n",
       "    <tr>\n",
       "      <th>1259</th>\n",
       "      <td>2015-09-12 22:13:00</td>\n",
       "      <td>2015-09-13 01:21:00</td>\n",
       "      <td>-1</td>\n",
       "    </tr>\n",
       "    <tr>\n",
       "      <th>1260</th>\n",
       "      <td>2015-09-12 22:15:00</td>\n",
       "      <td>2015-09-13 01:20:00</td>\n",
       "      <td>-1</td>\n",
       "    </tr>\n",
       "    <tr>\n",
       "      <th>1261</th>\n",
       "      <td>2015-09-12 22:16:00</td>\n",
       "      <td>2015-09-13 01:20:00</td>\n",
       "      <td>-1</td>\n",
       "    </tr>\n",
       "  </tbody>\n",
       "</table>\n",
       "</div>"
      ],
      "text/plain": [
       "                EVENTO_INICIO          EVENTO_FIM  sublabel\n",
       "EVENTO_ID                                                  \n",
       "1258      2015-09-12 20:12:00 2015-09-13 03:39:00         9\n",
       "1259      2015-09-12 22:13:00 2015-09-13 01:21:00        -1\n",
       "1260      2015-09-12 22:15:00 2015-09-13 01:20:00        -1\n",
       "1261      2015-09-12 22:16:00 2015-09-13 01:20:00        -1"
      ]
     },
     "metadata": {},
     "output_type": "display_data"
    },
    {
     "data": {
      "text/plain": [
       "(3140, 3)"
      ]
     },
     "metadata": {},
     "output_type": "display_data"
    }
   ],
   "source": [
    "events = waterbags[['EVENTO_INICIO', 'EVENTO_FIM']].apply(pd.to_datetime)\n",
    "events = events.join(clusters['sublabel'], how='inner')\n",
    "\n",
    "display(events.head(4), events.shape)"
   ]
  },
  {
   "cell_type": "markdown",
   "metadata": {},
   "source": [
    "### Base temporal serie to label by event ocorrence\n",
    "\n",
    "#### 2015-06-01 à 2022-06-01"
   ]
  },
  {
   "cell_type": "code",
   "execution_count": 9,
   "metadata": {},
   "outputs": [],
   "source": [
    "base_timeserie = pd.date_range('2015-06-01', '2022-06-01', freq='15Min')"
   ]
  },
  {
   "cell_type": "markdown",
   "metadata": {},
   "source": [
    "### Label time records by water bag event ocorrence"
   ]
  },
  {
   "cell_type": "code",
   "execution_count": 10,
   "metadata": {},
   "outputs": [
    {
     "name": "stdout",
     "output_type": "stream",
     "text": [
      "245000/245472 bin edges evaluated...\n",
      "Done! 245472 periods evaluated.\n"
     ]
    }
   ],
   "source": [
    "event_ts = timeSequenceEventLabels(\n",
    "    base_timeserie, events,\n",
    "    start='EVENTO_INICIO',\n",
    "    end='EVENTO_FIM',\n",
    "    groups='sublabel',\n",
    "    report=1000,\n",
    ")"
   ]
  },
  {
   "cell_type": "markdown",
   "metadata": {},
   "source": [
    "#### Save labeled time serie"
   ]
  },
  {
   "cell_type": "code",
   "execution_count": 58,
   "metadata": {},
   "outputs": [],
   "source": [
    "event_ts.to_csv('../Dados/Transform/série_bolsões.csv', index=True)"
   ]
  },
  {
   "cell_type": "markdown",
   "metadata": {},
   "source": [
    "#### Reload & preprocess"
   ]
  },
  {
   "cell_type": "code",
   "execution_count": 5,
   "metadata": {},
   "outputs": [
    {
     "data": {
      "text/html": [
       "<div>\n",
       "<style scoped>\n",
       "    .dataframe tbody tr th:only-of-type {\n",
       "        vertical-align: middle;\n",
       "    }\n",
       "\n",
       "    .dataframe tbody tr th {\n",
       "        vertical-align: top;\n",
       "    }\n",
       "\n",
       "    .dataframe thead th {\n",
       "        text-align: right;\n",
       "    }\n",
       "</style>\n",
       "<table border=\"1\" class=\"dataframe\">\n",
       "  <thead>\n",
       "    <tr style=\"text-align: right;\">\n",
       "      <th></th>\n",
       "      <th>label</th>\n",
       "      <th>events</th>\n",
       "      <th>event ids</th>\n",
       "      <th>event groups</th>\n",
       "    </tr>\n",
       "  </thead>\n",
       "  <tbody>\n",
       "    <tr>\n",
       "      <th>2021-01-26 11:00:00</th>\n",
       "      <td>0</td>\n",
       "      <td>0</td>\n",
       "      <td>[]</td>\n",
       "      <td>[]</td>\n",
       "    </tr>\n",
       "    <tr>\n",
       "      <th>2018-03-16 15:15:00</th>\n",
       "      <td>0</td>\n",
       "      <td>0</td>\n",
       "      <td>[]</td>\n",
       "      <td>[]</td>\n",
       "    </tr>\n",
       "    <tr>\n",
       "      <th>2018-04-12 21:15:00</th>\n",
       "      <td>0</td>\n",
       "      <td>0</td>\n",
       "      <td>[]</td>\n",
       "      <td>[]</td>\n",
       "    </tr>\n",
       "    <tr>\n",
       "      <th>2020-08-05 08:30:00</th>\n",
       "      <td>0</td>\n",
       "      <td>0</td>\n",
       "      <td>[]</td>\n",
       "      <td>[]</td>\n",
       "    </tr>\n",
       "    <tr>\n",
       "      <th>2015-08-12 09:15:00</th>\n",
       "      <td>0</td>\n",
       "      <td>0</td>\n",
       "      <td>[]</td>\n",
       "      <td>[]</td>\n",
       "    </tr>\n",
       "  </tbody>\n",
       "</table>\n",
       "</div>"
      ],
      "text/plain": [
       "                     label  events event ids event groups\n",
       "2021-01-26 11:00:00      0       0        []           []\n",
       "2018-03-16 15:15:00      0       0        []           []\n",
       "2018-04-12 21:15:00      0       0        []           []\n",
       "2020-08-05 08:30:00      0       0        []           []\n",
       "2015-08-12 09:15:00      0       0        []           []"
      ]
     },
     "metadata": {},
     "output_type": "display_data"
    },
    {
     "data": {
      "text/plain": [
       "(245472, 4)"
      ]
     },
     "metadata": {},
     "output_type": "display_data"
    }
   ],
   "source": [
    "event_ts = pd.read_csv('../Dados/Transform/série_bolsões.csv', index_col=0)\n",
    "\n",
    "# Convert columns contaning lists from string to json objects\n",
    "event_ts['event groups'] = event_ts['event groups'].map(json.loads)\n",
    "event_ts['event ids'] = event_ts['event ids'].map(json.loads)\n",
    "\n",
    "# Convert index to datetime\n",
    "event_ts.set_index(pd.to_datetime(event_ts.index), inplace=True)\n",
    "\n",
    "display(event_ts.sample(5), event_ts.shape)"
   ]
  },
  {
   "cell_type": "markdown",
   "metadata": {},
   "source": [
    "---\n",
    "# 3. Stations' records labeled per cluster group"
   ]
  },
  {
   "cell_type": "markdown",
   "metadata": {},
   "source": [
    "### Time serie of event ocorrence per group"
   ]
  },
  {
   "cell_type": "code",
   "execution_count": 65,
   "metadata": {},
   "outputs": [
    {
     "data": {
      "text/plain": [
       "(245472, 80)"
      ]
     },
     "execution_count": 65,
     "metadata": {},
     "output_type": "execute_result"
    }
   ],
   "source": [
    "groups = np.unique(event_ts['event groups'].sum())\n",
    "groups_labels = [event_ts['event groups'].rename(group).map(lambda labels: int((group in labels))) for group in groups]\n",
    "group_ts = pd.concat(groups_labels, 1)\n",
    "\n",
    "group_ts.shape"
   ]
  },
  {
   "cell_type": "markdown",
   "metadata": {},
   "source": [
    "#### Save time serie labeled per group"
   ]
  },
  {
   "cell_type": "code",
   "execution_count": 135,
   "metadata": {},
   "outputs": [],
   "source": [
    "# group_ts.to_csv('../Dados/Transform/série_bolsões_clusters.csv', index=True)"
   ]
  },
  {
   "cell_type": "markdown",
   "metadata": {},
   "source": [
    "#### Reload & preprocess"
   ]
  },
  {
   "cell_type": "code",
   "execution_count": 6,
   "metadata": {},
   "outputs": [
    {
     "data": {
      "text/html": [
       "<div>\n",
       "<style scoped>\n",
       "    .dataframe tbody tr th:only-of-type {\n",
       "        vertical-align: middle;\n",
       "    }\n",
       "\n",
       "    .dataframe tbody tr th {\n",
       "        vertical-align: top;\n",
       "    }\n",
       "\n",
       "    .dataframe thead th {\n",
       "        text-align: right;\n",
       "    }\n",
       "</style>\n",
       "<table border=\"1\" class=\"dataframe\">\n",
       "  <thead>\n",
       "    <tr style=\"text-align: right;\">\n",
       "      <th></th>\n",
       "      <th>-1</th>\n",
       "      <th>0</th>\n",
       "      <th>1</th>\n",
       "      <th>2</th>\n",
       "      <th>3</th>\n",
       "      <th>4</th>\n",
       "      <th>5</th>\n",
       "      <th>6</th>\n",
       "      <th>7</th>\n",
       "      <th>8</th>\n",
       "      <th>...</th>\n",
       "      <th>71</th>\n",
       "      <th>72</th>\n",
       "      <th>73</th>\n",
       "      <th>74</th>\n",
       "      <th>75</th>\n",
       "      <th>76</th>\n",
       "      <th>77</th>\n",
       "      <th>78</th>\n",
       "      <th>81</th>\n",
       "      <th>82</th>\n",
       "    </tr>\n",
       "  </thead>\n",
       "  <tbody>\n",
       "    <tr>\n",
       "      <th>2019-02-05 21:15:00</th>\n",
       "      <td>1</td>\n",
       "      <td>0</td>\n",
       "      <td>0</td>\n",
       "      <td>0</td>\n",
       "      <td>0</td>\n",
       "      <td>0</td>\n",
       "      <td>0</td>\n",
       "      <td>0</td>\n",
       "      <td>0</td>\n",
       "      <td>0</td>\n",
       "      <td>...</td>\n",
       "      <td>0</td>\n",
       "      <td>0</td>\n",
       "      <td>0</td>\n",
       "      <td>0</td>\n",
       "      <td>0</td>\n",
       "      <td>0</td>\n",
       "      <td>0</td>\n",
       "      <td>0</td>\n",
       "      <td>0</td>\n",
       "      <td>0</td>\n",
       "    </tr>\n",
       "    <tr>\n",
       "      <th>2017-12-02 10:30:00</th>\n",
       "      <td>0</td>\n",
       "      <td>0</td>\n",
       "      <td>0</td>\n",
       "      <td>0</td>\n",
       "      <td>0</td>\n",
       "      <td>0</td>\n",
       "      <td>0</td>\n",
       "      <td>0</td>\n",
       "      <td>0</td>\n",
       "      <td>0</td>\n",
       "      <td>...</td>\n",
       "      <td>0</td>\n",
       "      <td>0</td>\n",
       "      <td>0</td>\n",
       "      <td>0</td>\n",
       "      <td>0</td>\n",
       "      <td>0</td>\n",
       "      <td>0</td>\n",
       "      <td>0</td>\n",
       "      <td>0</td>\n",
       "      <td>0</td>\n",
       "    </tr>\n",
       "    <tr>\n",
       "      <th>2022-02-17 12:30:00</th>\n",
       "      <td>0</td>\n",
       "      <td>0</td>\n",
       "      <td>0</td>\n",
       "      <td>0</td>\n",
       "      <td>0</td>\n",
       "      <td>0</td>\n",
       "      <td>0</td>\n",
       "      <td>0</td>\n",
       "      <td>0</td>\n",
       "      <td>0</td>\n",
       "      <td>...</td>\n",
       "      <td>0</td>\n",
       "      <td>0</td>\n",
       "      <td>0</td>\n",
       "      <td>0</td>\n",
       "      <td>0</td>\n",
       "      <td>0</td>\n",
       "      <td>0</td>\n",
       "      <td>0</td>\n",
       "      <td>0</td>\n",
       "      <td>0</td>\n",
       "    </tr>\n",
       "    <tr>\n",
       "      <th>2019-08-03 15:00:00</th>\n",
       "      <td>0</td>\n",
       "      <td>0</td>\n",
       "      <td>0</td>\n",
       "      <td>0</td>\n",
       "      <td>0</td>\n",
       "      <td>0</td>\n",
       "      <td>0</td>\n",
       "      <td>0</td>\n",
       "      <td>0</td>\n",
       "      <td>0</td>\n",
       "      <td>...</td>\n",
       "      <td>0</td>\n",
       "      <td>0</td>\n",
       "      <td>0</td>\n",
       "      <td>0</td>\n",
       "      <td>0</td>\n",
       "      <td>0</td>\n",
       "      <td>0</td>\n",
       "      <td>0</td>\n",
       "      <td>0</td>\n",
       "      <td>0</td>\n",
       "    </tr>\n",
       "    <tr>\n",
       "      <th>2021-09-25 22:45:00</th>\n",
       "      <td>0</td>\n",
       "      <td>0</td>\n",
       "      <td>0</td>\n",
       "      <td>0</td>\n",
       "      <td>0</td>\n",
       "      <td>0</td>\n",
       "      <td>0</td>\n",
       "      <td>0</td>\n",
       "      <td>0</td>\n",
       "      <td>0</td>\n",
       "      <td>...</td>\n",
       "      <td>0</td>\n",
       "      <td>0</td>\n",
       "      <td>0</td>\n",
       "      <td>0</td>\n",
       "      <td>0</td>\n",
       "      <td>0</td>\n",
       "      <td>0</td>\n",
       "      <td>0</td>\n",
       "      <td>0</td>\n",
       "      <td>0</td>\n",
       "    </tr>\n",
       "  </tbody>\n",
       "</table>\n",
       "<p>5 rows × 80 columns</p>\n",
       "</div>"
      ],
      "text/plain": [
       "                     -1  0  1  2  3  4  5  6  7  8  ...  71  72  73  74  75  \\\n",
       "2019-02-05 21:15:00   1  0  0  0  0  0  0  0  0  0  ...   0   0   0   0   0   \n",
       "2017-12-02 10:30:00   0  0  0  0  0  0  0  0  0  0  ...   0   0   0   0   0   \n",
       "2022-02-17 12:30:00   0  0  0  0  0  0  0  0  0  0  ...   0   0   0   0   0   \n",
       "2019-08-03 15:00:00   0  0  0  0  0  0  0  0  0  0  ...   0   0   0   0   0   \n",
       "2021-09-25 22:45:00   0  0  0  0  0  0  0  0  0  0  ...   0   0   0   0   0   \n",
       "\n",
       "                     76  77  78  81  82  \n",
       "2019-02-05 21:15:00   0   0   0   0   0  \n",
       "2017-12-02 10:30:00   0   0   0   0   0  \n",
       "2022-02-17 12:30:00   0   0   0   0   0  \n",
       "2019-08-03 15:00:00   0   0   0   0   0  \n",
       "2021-09-25 22:45:00   0   0   0   0   0  \n",
       "\n",
       "[5 rows x 80 columns]"
      ]
     },
     "metadata": {},
     "output_type": "display_data"
    },
    {
     "data": {
      "text/plain": [
       "(245472, 80)"
      ]
     },
     "metadata": {},
     "output_type": "display_data"
    }
   ],
   "source": [
    "# Reload\n",
    "group_ts = pd.read_csv('../Dados/Transform/série_bolsões_clusters.csv', index_col=0)\n",
    "group_ts.set_index(pd.to_datetime(group_ts.index), inplace=True)\n",
    "\n",
    "display(group_ts.sample(5), group_ts.shape)"
   ]
  },
  {
   "cell_type": "markdown",
   "metadata": {},
   "source": [
    "---\n",
    "# Result Visualization"
   ]
  },
  {
   "cell_type": "markdown",
   "metadata": {},
   "source": [
    "### Event time count"
   ]
  },
  {
   "cell_type": "code",
   "execution_count": 7,
   "metadata": {},
   "outputs": [
    {
     "data": {
      "text/plain": [
       "0    0.910845\n",
       "1    0.089155\n",
       "Name: label, dtype: float64"
      ]
     },
     "execution_count": 7,
     "metadata": {},
     "output_type": "execute_result"
    }
   ],
   "source": [
    "event_ts['label'].value_counts(normalize=True)#.round(4) * 100"
   ]
  },
  {
   "cell_type": "markdown",
   "metadata": {},
   "source": [
    "#### Obs: 8,9 % of time records are positive for water bag events in the city"
   ]
  },
  {
   "cell_type": "markdown",
   "metadata": {},
   "source": [
    "### Event frequency"
   ]
  },
  {
   "cell_type": "code",
   "execution_count": 14,
   "metadata": {},
   "outputs": [
    {
     "name": "stderr",
     "output_type": "stream",
     "text": [
      "<ipython-input-14-7e15ba7e487f>:5: FutureWarning: The pandas.datetime class is deprecated and will be removed from pandas in a future version. Import from datetime module instead.\n",
      "  ax.set(xlim=(pd.datetime(2021, 6, 1), pd.datetime(2022, 10, 1)))\n"
     ]
    },
    {
     "data": {
      "image/png": "[encoded data removed]",
      "text/plain": [
       "<Figure size 432x288 with 1 Axes>"
      ]
     },
     "metadata": {},
     "output_type": "display_data"
    }
   ],
   "source": [
    "event_stamps = event_ts[event_ts['label']==1].index\n",
    "time_bins = pd.date_range('2015-06', '2022-06', freq='W')\n",
    "ax = plt.figure().add_subplot()\n",
    "ax.hist(event_stamps, bins=time_bins)\n",
    "ax.set(xlim=(pd.datetime(2021, 6, 1), pd.datetime(2022, 10, 1)))\n",
    "plt.show()"
   ]
  },
  {
   "cell_type": "markdown",
   "metadata": {},
   "source": [
    "---\n",
    "# Time Features"
   ]
  },
  {
   "cell_type": "code",
   "execution_count": 90,
   "metadata": {},
   "outputs": [],
   "source": [
    "ts = event_ts.index\n",
    "\n",
    "ts_eng = event_ts[[]].copy()\n",
    "\n",
    "keys = [\n",
    "    'year', 'month', 'day', 'hour', 'minute', 'date', 'time',\n",
    "    'index', 'dayofyear', 'weekofyear', 'weekday', 'quarter'\n",
    "]\n",
    "\n",
    "values = [\n",
    "    ts.year, ts.month, ts.day, ts.hour, ts.minute, ts.date, ts.time,\n",
    "    range(ts.shape[0]), ts.dayofyear, ts.weekofyear, ts.weekday, ts.quarter\n",
    "]\n",
    "\n",
    "ts_eng = pd.DataFrame(np.array(values).T, index=ts, columns=keys)"
   ]
  },
  {
   "cell_type": "markdown",
   "metadata": {},
   "source": [
    "### Save time features"
   ]
  },
  {
   "cell_type": "code",
   "execution_count": 96,
   "metadata": {},
   "outputs": [],
   "source": [
    "ts_eng.to_csv('../Dados/Feature Engineering/tim_features.csv', index=True)"
   ]
  },
  {
   "cell_type": "markdown",
   "metadata": {},
   "source": [
    "### Reload"
   ]
  },
  {
   "cell_type": "code",
   "execution_count": 97,
   "metadata": {},
   "outputs": [
    {
     "data": {
      "text/html": [
       "<div>\n",
       "<style scoped>\n",
       "    .dataframe tbody tr th:only-of-type {\n",
       "        vertical-align: middle;\n",
       "    }\n",
       "\n",
       "    .dataframe tbody tr th {\n",
       "        vertical-align: top;\n",
       "    }\n",
       "\n",
       "    .dataframe thead th {\n",
       "        text-align: right;\n",
       "    }\n",
       "</style>\n",
       "<table border=\"1\" class=\"dataframe\">\n",
       "  <thead>\n",
       "    <tr style=\"text-align: right;\">\n",
       "      <th></th>\n",
       "      <th>year</th>\n",
       "      <th>month</th>\n",
       "      <th>day</th>\n",
       "      <th>hour</th>\n",
       "      <th>minute</th>\n",
       "      <th>date</th>\n",
       "      <th>time</th>\n",
       "      <th>index</th>\n",
       "      <th>dayofyear</th>\n",
       "      <th>weekofyear</th>\n",
       "      <th>weekday</th>\n",
       "      <th>quarter</th>\n",
       "    </tr>\n",
       "  </thead>\n",
       "  <tbody>\n",
       "    <tr>\n",
       "      <th>2015-06-01 00:00:00</th>\n",
       "      <td>2015</td>\n",
       "      <td>6</td>\n",
       "      <td>1</td>\n",
       "      <td>0</td>\n",
       "      <td>0</td>\n",
       "      <td>2015-06-01</td>\n",
       "      <td>00:00:00</td>\n",
       "      <td>0</td>\n",
       "      <td>152</td>\n",
       "      <td>23</td>\n",
       "      <td>0</td>\n",
       "      <td>2</td>\n",
       "    </tr>\n",
       "    <tr>\n",
       "      <th>2015-06-01 00:15:00</th>\n",
       "      <td>2015</td>\n",
       "      <td>6</td>\n",
       "      <td>1</td>\n",
       "      <td>0</td>\n",
       "      <td>15</td>\n",
       "      <td>2015-06-01</td>\n",
       "      <td>00:15:00</td>\n",
       "      <td>1</td>\n",
       "      <td>152</td>\n",
       "      <td>23</td>\n",
       "      <td>0</td>\n",
       "      <td>2</td>\n",
       "    </tr>\n",
       "    <tr>\n",
       "      <th>2015-06-01 00:30:00</th>\n",
       "      <td>2015</td>\n",
       "      <td>6</td>\n",
       "      <td>1</td>\n",
       "      <td>0</td>\n",
       "      <td>30</td>\n",
       "      <td>2015-06-01</td>\n",
       "      <td>00:30:00</td>\n",
       "      <td>2</td>\n",
       "      <td>152</td>\n",
       "      <td>23</td>\n",
       "      <td>0</td>\n",
       "      <td>2</td>\n",
       "    </tr>\n",
       "    <tr>\n",
       "      <th>2015-06-01 00:45:00</th>\n",
       "      <td>2015</td>\n",
       "      <td>6</td>\n",
       "      <td>1</td>\n",
       "      <td>0</td>\n",
       "      <td>45</td>\n",
       "      <td>2015-06-01</td>\n",
       "      <td>00:45:00</td>\n",
       "      <td>3</td>\n",
       "      <td>152</td>\n",
       "      <td>23</td>\n",
       "      <td>0</td>\n",
       "      <td>2</td>\n",
       "    </tr>\n",
       "    <tr>\n",
       "      <th>2015-06-01 01:00:00</th>\n",
       "      <td>2015</td>\n",
       "      <td>6</td>\n",
       "      <td>1</td>\n",
       "      <td>1</td>\n",
       "      <td>0</td>\n",
       "      <td>2015-06-01</td>\n",
       "      <td>01:00:00</td>\n",
       "      <td>4</td>\n",
       "      <td>152</td>\n",
       "      <td>23</td>\n",
       "      <td>0</td>\n",
       "      <td>2</td>\n",
       "    </tr>\n",
       "  </tbody>\n",
       "</table>\n",
       "</div>"
      ],
      "text/plain": [
       "                     year  month  day  hour  minute        date      time  \\\n",
       "2015-06-01 00:00:00  2015      6    1     0       0  2015-06-01  00:00:00   \n",
       "2015-06-01 00:15:00  2015      6    1     0      15  2015-06-01  00:15:00   \n",
       "2015-06-01 00:30:00  2015      6    1     0      30  2015-06-01  00:30:00   \n",
       "2015-06-01 00:45:00  2015      6    1     0      45  2015-06-01  00:45:00   \n",
       "2015-06-01 01:00:00  2015      6    1     1       0  2015-06-01  01:00:00   \n",
       "\n",
       "                     index  dayofyear  weekofyear  weekday  quarter  \n",
       "2015-06-01 00:00:00      0        152          23        0        2  \n",
       "2015-06-01 00:15:00      1        152          23        0        2  \n",
       "2015-06-01 00:30:00      2        152          23        0        2  \n",
       "2015-06-01 00:45:00      3        152          23        0        2  \n",
       "2015-06-01 01:00:00      4        152          23        0        2  "
      ]
     },
     "metadata": {},
     "output_type": "display_data"
    },
    {
     "data": {
      "text/plain": [
       "(245472, 12)"
      ]
     },
     "metadata": {},
     "output_type": "display_data"
    }
   ],
   "source": [
    "ts_eng = pd.read_csv('../Dados/Feature Engineering/tim_features.csv', index_col=0)\n",
    "\n",
    "display(ts_eng.head(), ts_eng.shape)"
   ]
  }
 ],
 "metadata": {
  "kernelspec": {
   "display_name": "Python 3",
   "language": "python",
   "name": "python3"
  },
  "language_info": {
   "codemirror_mode": {
    "name": "ipython",
    "version": 3
   },
   "file_extension": ".py",
   "mimetype": "text/x-python",
   "name": "python",
   "nbconvert_exporter": "python",
   "pygments_lexer": "ipython3",
   "version": "3.8.3"
  }
 },
 "nbformat": 4,
 "nbformat_minor": 4
}
