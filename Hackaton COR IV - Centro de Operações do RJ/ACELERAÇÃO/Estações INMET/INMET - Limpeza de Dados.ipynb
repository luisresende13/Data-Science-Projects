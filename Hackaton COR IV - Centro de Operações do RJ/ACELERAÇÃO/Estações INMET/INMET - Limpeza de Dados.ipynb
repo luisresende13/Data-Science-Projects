{
 "cells": [
  {
   "cell_type": "markdown",
   "metadata": {},
   "source": [
    "# INMET METHEOROLOGICAL STATIONS RECORDS - DATA CLEANING"
   ]
  },
  {
   "cell_type": "markdown",
   "metadata": {},
   "source": [
    "#### Import modules and libraries"
   ]
  },
  {
   "cell_type": "code",
   "execution_count": null,
   "metadata": {},
   "outputs": [],
   "source": [
    "import os, json\n",
    "import pandas as pd, numpy as np\n",
    "import matplotlib.pyplot as plt, seaborn as sns; sns.set()\n",
    "from IPython.display import clear_output as co"
   ]
  },
  {
   "cell_type": "markdown",
   "metadata": {},
   "source": [
    "---\n",
    "# Preprocess & Data Cleaning "
   ]
  },
  {
   "cell_type": "markdown",
   "metadata": {},
   "source": [
    "#### Load dataset - Inmet metheorological stations' hourly records"
   ]
  },
  {
   "cell_type": "code",
   "execution_count": null,
   "metadata": {},
   "outputs": [],
   "source": [
    "inmet = pd.read_csv('../../../Dados/Desafio COR-Rio IV/Meio Ambiente Clima/Meteorologia_INMET.csv')\n",
    "\n",
    "inmet.head(5)"
   ]
  },
  {
   "cell_type": "markdown",
   "metadata": {},
   "source": [
    "#### Columns per type"
   ]
  },
  {
   "cell_type": "code",
   "execution_count": null,
   "metadata": {},
   "outputs": [],
   "source": [
    "id_cols = ['primary_key', 'id_estacao', 'data', 'horario', 'data_particao']\n",
    "float_cols = list(set(inmet.columns).difference(id_cols))"
   ]
  },
  {
   "cell_type": "markdown",
   "metadata": {},
   "source": [
    "#### Average duplicates"
   ]
  },
  {
   "cell_type": "code",
   "execution_count": null,
   "metadata": {},
   "outputs": [],
   "source": [
    "keys_columns = inmet[id_cols].drop_duplicates('primary_key')\n",
    "numeric_columns_averaged = inmet.groupby('primary_key').mean()\n",
    "\n",
    "INMET = keys_columns.join(numeric_columns_averaged, how='left', on='primary_key')\n",
    "\n",
    "len(inmet), len(INMET), len(inmet['primary_key'].unique())"
   ]
  },
  {
   "cell_type": "markdown",
   "metadata": {},
   "source": [
    "#### Set datetime index"
   ]
  },
  {
   "cell_type": "code",
   "execution_count": null,
   "metadata": {},
   "outputs": [],
   "source": [
    "INMET.set_index(pd.to_datetime(INMET['data'] + ' ' + INMET['horario']), inplace=True)"
   ]
  },
  {
   "cell_type": "markdown",
   "metadata": {},
   "source": [
    "#### Join stations data across horizontal axis"
   ]
  },
  {
   "cell_type": "code",
   "execution_count": null,
   "metadata": {},
   "outputs": [],
   "source": [
    "def concat_groups(data, key='id_estacao', cols=float_cols, how='outter'):\n",
    "    dfs = [data[cols][data[key]==group].add_suffix(' - ' + group) for group in data[key].unique()]\n",
    "    return pd.concat(dfs, 1, join=how)\n",
    "\n",
    "inmet_flat = concat_groups(INMET, 'id_estacao', float_cols, how='outer')\n",
    "\n",
    "inmet_flat.shape # Same as unique index values size"
   ]
  },
  {
   "cell_type": "markdown",
   "metadata": {},
   "source": [
    "#### Fill missing records by upsampling to hourly frequency"
   ]
  },
  {
   "cell_type": "code",
   "execution_count": null,
   "metadata": {},
   "outputs": [],
   "source": [
    "inmet_flat = inmet_flat.asfreq('H')\n",
    "\n",
    "inmet_flat.shape # Same as hourly index range size"
   ]
  },
  {
   "cell_type": "markdown",
   "metadata": {},
   "source": [
    "#### Drop empty columns"
   ]
  },
  {
   "cell_type": "code",
   "execution_count": null,
   "metadata": {},
   "outputs": [],
   "source": [
    "inmet_flat.dropna(1, how='all', inplace=True)\n",
    "\n",
    "inmet_flat.shape "
   ]
  },
  {
   "cell_type": "markdown",
   "metadata": {},
   "source": [
    "### Save & reload\n",
    "\n",
    "#### Save stations clean data"
   ]
  },
  {
   "cell_type": "code",
   "execution_count": null,
   "metadata": {},
   "outputs": [],
   "source": [
    "# inmet_flat.to_csv('Dados/Clean/INMET.csv', index=True)"
   ]
  },
  {
   "cell_type": "markdown",
   "metadata": {},
   "source": [
    "#### Reload & preprocessing"
   ]
  },
  {
   "cell_type": "code",
   "execution_count": null,
   "metadata": {},
   "outputs": [],
   "source": [
    "inmet = pd.read_csv('Dados/Clean/INMET.csv', index_col=0)\n",
    "inmet.set_index(pd.to_datetime(inmet.index), inplace=True) # Convert index to datetime\n",
    "\n",
    "inmet.shape"
   ]
  },
  {
   "cell_type": "markdown",
   "metadata": {},
   "source": [
    "### Extra: Missing values left"
   ]
  },
  {
   "cell_type": "code",
   "execution_count": null,
   "metadata": {},
   "outputs": [],
   "source": [
    "fig, axs = plt.subplots(1, 2, figsize=(12, 3))\n",
    "\n",
    "inmet.isna().mean().sort_values().plot(xticks=[], title='Missing values per column sorted', ax=axs[0])\n",
    "axs[0].set(ylabel='Missing (%)', xlabel='Column')\n",
    "\n",
    "inmet.isna().mean(1).sort_values().reset_index(drop=True).plot(xticks=[], title='Missing values per row sorted', ax=axs[1])\n",
    "axs[1].set(ylabel='Missing (%)', xlabel='Row')\n",
    "\n",
    "plt.show()"
   ]
  }
 ],
 "metadata": {
  "kernelspec": {
   "display_name": "Python 3",
   "language": "python",
   "name": "python3"
  },
  "language_info": {
   "codemirror_mode": {
    "name": "ipython",
    "version": 3
   },
   "file_extension": ".py",
   "mimetype": "text/x-python",
   "name": "python",
   "nbconvert_exporter": "python",
   "pygments_lexer": "ipython3",
   "version": "3.8.3"
  }
 },
 "nbformat": 4,
 "nbformat_minor": 4
}
