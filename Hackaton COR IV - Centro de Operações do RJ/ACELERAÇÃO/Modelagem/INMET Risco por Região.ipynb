{
 "cells": [
  {
   "cell_type": "markdown",
   "metadata": {},
   "source": [
    "# WATER BAG PREDICTION PER CRITICAL REGION\n",
    "\n",
    "### BASED ON INMET METHEOROLOGICAL STATIONS DATA"
   ]
  },
  {
   "cell_type": "markdown",
   "metadata": {},
   "source": [
    "---\n",
    "#### Import modules and libraries"
   ]
  },
  {
   "cell_type": "code",
   "execution_count": 14,
   "metadata": {},
   "outputs": [],
   "source": [
    "import os, json, pandas as pd, numpy as np, matplotlib.pyplot as plt, seaborn as sns; sns.set()\n",
    "from IPython.display import clear_output as co"
   ]
  },
  {
   "cell_type": "markdown",
   "metadata": {},
   "source": [
    "## Load & Preprocess Data"
   ]
  },
  {
   "cell_type": "markdown",
   "metadata": {},
   "source": [
    "#### Water bag groupped events collection"
   ]
  },
  {
   "cell_type": "code",
   "execution_count": 15,
   "metadata": {},
   "outputs": [
    {
     "data": {
      "text/html": [
       "<div>\n",
       "<style scoped>\n",
       "    .dataframe tbody tr th:only-of-type {\n",
       "        vertical-align: middle;\n",
       "    }\n",
       "\n",
       "    .dataframe tbody tr th {\n",
       "        vertical-align: top;\n",
       "    }\n",
       "\n",
       "    .dataframe thead th {\n",
       "        text-align: right;\n",
       "    }\n",
       "</style>\n",
       "<table border=\"1\" class=\"dataframe\">\n",
       "  <thead>\n",
       "    <tr style=\"text-align: right;\">\n",
       "      <th></th>\n",
       "      <th>EVENTO_INICIO</th>\n",
       "      <th>EVENTO_FIM</th>\n",
       "      <th>sublabel</th>\n",
       "      <th>main_route</th>\n",
       "    </tr>\n",
       "    <tr>\n",
       "      <th>EVENTO_ID</th>\n",
       "      <th></th>\n",
       "      <th></th>\n",
       "      <th></th>\n",
       "      <th></th>\n",
       "    </tr>\n",
       "  </thead>\n",
       "  <tbody>\n",
       "    <tr>\n",
       "      <th>1258</th>\n",
       "      <td>2015-09-12 20:12:00</td>\n",
       "      <td>2015-09-13 03:39:00</td>\n",
       "      <td>12</td>\n",
       "      <td>Praia de Botafogo</td>\n",
       "    </tr>\n",
       "    <tr>\n",
       "      <th>1259</th>\n",
       "      <td>2015-09-12 22:13:00</td>\n",
       "      <td>2015-09-13 01:21:00</td>\n",
       "      <td>-1</td>\n",
       "      <td>Avenida Brasil</td>\n",
       "    </tr>\n",
       "    <tr>\n",
       "      <th>1260</th>\n",
       "      <td>2015-09-12 22:15:00</td>\n",
       "      <td>2015-09-13 01:20:00</td>\n",
       "      <td>-1</td>\n",
       "      <td>Avenida Brasil</td>\n",
       "    </tr>\n",
       "    <tr>\n",
       "      <th>1261</th>\n",
       "      <td>2015-09-12 22:16:00</td>\n",
       "      <td>2015-09-13 01:20:00</td>\n",
       "      <td>-1</td>\n",
       "      <td>Avenida Brasil</td>\n",
       "    </tr>\n",
       "  </tbody>\n",
       "</table>\n",
       "</div>"
      ],
      "text/plain": [
       "                EVENTO_INICIO          EVENTO_FIM  sublabel         main_route\n",
       "EVENTO_ID                                                                     \n",
       "1258      2015-09-12 20:12:00 2015-09-13 03:39:00        12  Praia de Botafogo\n",
       "1259      2015-09-12 22:13:00 2015-09-13 01:21:00        -1     Avenida Brasil\n",
       "1260      2015-09-12 22:15:00 2015-09-13 01:20:00        -1     Avenida Brasil\n",
       "1261      2015-09-12 22:16:00 2015-09-13 01:20:00        -1     Avenida Brasil"
      ]
     },
     "metadata": {},
     "output_type": "display_data"
    },
    {
     "data": {
      "text/plain": [
       "(2983, 4)"
      ]
     },
     "metadata": {},
     "output_type": "display_data"
    }
   ],
   "source": [
    "waterbags = pd.read_csv('../Dados/Catalog/water_bag_catalog_google.csv', index_col=0)\n",
    "clusters = pd.read_csv('../Dados/Catalog/water_bag_clusters.csv', index_col=0)\n",
    "\n",
    "events = waterbags[['EVENTO_INICIO', 'EVENTO_FIM']].apply(pd.to_datetime)\n",
    "events = events.join(clusters[['sublabel', 'main_route']], how='inner')\n",
    "\n",
    "display(events.head(4)); display(events.shape)"
   ]
  },
  {
   "cell_type": "markdown",
   "metadata": {},
   "source": [
    "#### INMET metheorlogical stations' records"
   ]
  },
  {
   "cell_type": "code",
   "execution_count": 16,
   "metadata": {},
   "outputs": [
    {
     "data": {
      "text/plain": [
       "(108864, 65)"
      ]
     },
     "execution_count": 16,
     "metadata": {},
     "output_type": "execute_result"
    }
   ],
   "source": [
    "inmet = pd.read_csv('../Dados/Clean/INMET.csv', index_col=0)\n",
    "\n",
    "inmet.set_index(pd.to_datetime(inmet.index), inplace=True); inmet.shape"
   ]
  },
  {
   "cell_type": "markdown",
   "metadata": {},
   "source": [
    "#### Event labeled time serie"
   ]
  },
  {
   "cell_type": "code",
   "execution_count": 17,
   "metadata": {},
   "outputs": [
    {
     "data": {
      "text/html": [
       "<div>\n",
       "<style scoped>\n",
       "    .dataframe tbody tr th:only-of-type {\n",
       "        vertical-align: middle;\n",
       "    }\n",
       "\n",
       "    .dataframe tbody tr th {\n",
       "        vertical-align: top;\n",
       "    }\n",
       "\n",
       "    .dataframe thead th {\n",
       "        text-align: right;\n",
       "    }\n",
       "</style>\n",
       "<table border=\"1\" class=\"dataframe\">\n",
       "  <thead>\n",
       "    <tr style=\"text-align: right;\">\n",
       "      <th></th>\n",
       "      <th>label</th>\n",
       "      <th>events</th>\n",
       "      <th>event ids</th>\n",
       "      <th>event groups</th>\n",
       "    </tr>\n",
       "  </thead>\n",
       "  <tbody>\n",
       "    <tr>\n",
       "      <th>2010-01-01 00:00:00</th>\n",
       "      <td>0</td>\n",
       "      <td>0</td>\n",
       "      <td>[]</td>\n",
       "      <td>[]</td>\n",
       "    </tr>\n",
       "    <tr>\n",
       "      <th>2010-01-01 01:00:00</th>\n",
       "      <td>0</td>\n",
       "      <td>0</td>\n",
       "      <td>[]</td>\n",
       "      <td>[]</td>\n",
       "    </tr>\n",
       "    <tr>\n",
       "      <th>2010-01-01 02:00:00</th>\n",
       "      <td>0</td>\n",
       "      <td>0</td>\n",
       "      <td>[]</td>\n",
       "      <td>[]</td>\n",
       "    </tr>\n",
       "    <tr>\n",
       "      <th>2010-01-01 03:00:00</th>\n",
       "      <td>0</td>\n",
       "      <td>0</td>\n",
       "      <td>[]</td>\n",
       "      <td>[]</td>\n",
       "    </tr>\n",
       "    <tr>\n",
       "      <th>2010-01-01 04:00:00</th>\n",
       "      <td>0</td>\n",
       "      <td>0</td>\n",
       "      <td>[]</td>\n",
       "      <td>[]</td>\n",
       "    </tr>\n",
       "  </tbody>\n",
       "</table>\n",
       "</div>"
      ],
      "text/plain": [
       "                     label  events event ids event groups\n",
       "2010-01-01 00:00:00      0       0        []           []\n",
       "2010-01-01 01:00:00      0       0        []           []\n",
       "2010-01-01 02:00:00      0       0        []           []\n",
       "2010-01-01 03:00:00      0       0        []           []\n",
       "2010-01-01 04:00:00      0       0        []           []"
      ]
     },
     "metadata": {},
     "output_type": "display_data"
    },
    {
     "data": {
      "text/plain": [
       "(108863, 4)"
      ]
     },
     "metadata": {},
     "output_type": "display_data"
    }
   ],
   "source": [
    "event_ts = pd.read_csv('../Dados/Transform/waterbag_timeserie_inmet.csv', index_col=0)\n",
    "\n",
    "event_ts['event groups'] = event_ts['event groups'].map(json.loads)\n",
    "event_ts['event ids'] = event_ts['event ids'].map(json.loads)\n",
    "event_ts.set_index(pd.to_datetime(event_ts.index), inplace=True)\n",
    "\n",
    "display(event_ts.head(), event_ts.shape)"
   ]
  },
  {
   "cell_type": "markdown",
   "metadata": {},
   "source": [
    "#### Event labeled time serie per group"
   ]
  },
  {
   "cell_type": "code",
   "execution_count": 18,
   "metadata": {},
   "outputs": [
    {
     "data": {
      "text/html": [
       "<div>\n",
       "<style scoped>\n",
       "    .dataframe tbody tr th:only-of-type {\n",
       "        vertical-align: middle;\n",
       "    }\n",
       "\n",
       "    .dataframe tbody tr th {\n",
       "        vertical-align: top;\n",
       "    }\n",
       "\n",
       "    .dataframe thead th {\n",
       "        text-align: right;\n",
       "    }\n",
       "</style>\n",
       "<table border=\"1\" class=\"dataframe\">\n",
       "  <thead>\n",
       "    <tr style=\"text-align: right;\">\n",
       "      <th></th>\n",
       "      <th>-1</th>\n",
       "      <th>0</th>\n",
       "      <th>1</th>\n",
       "      <th>2</th>\n",
       "      <th>3</th>\n",
       "      <th>4</th>\n",
       "      <th>5</th>\n",
       "      <th>6</th>\n",
       "      <th>7</th>\n",
       "      <th>8</th>\n",
       "      <th>...</th>\n",
       "      <th>54</th>\n",
       "      <th>56</th>\n",
       "      <th>57</th>\n",
       "      <th>58</th>\n",
       "      <th>59</th>\n",
       "      <th>60</th>\n",
       "      <th>61</th>\n",
       "      <th>63</th>\n",
       "      <th>65</th>\n",
       "      <th>67</th>\n",
       "    </tr>\n",
       "  </thead>\n",
       "  <tbody>\n",
       "    <tr>\n",
       "      <th>2014-01-14 10:00:00</th>\n",
       "      <td>0</td>\n",
       "      <td>0</td>\n",
       "      <td>0</td>\n",
       "      <td>0</td>\n",
       "      <td>0</td>\n",
       "      <td>0</td>\n",
       "      <td>0</td>\n",
       "      <td>0</td>\n",
       "      <td>0</td>\n",
       "      <td>0</td>\n",
       "      <td>...</td>\n",
       "      <td>0</td>\n",
       "      <td>0</td>\n",
       "      <td>0</td>\n",
       "      <td>0</td>\n",
       "      <td>0</td>\n",
       "      <td>0</td>\n",
       "      <td>0</td>\n",
       "      <td>0</td>\n",
       "      <td>0</td>\n",
       "      <td>0</td>\n",
       "    </tr>\n",
       "    <tr>\n",
       "      <th>2018-04-13 00:00:00</th>\n",
       "      <td>0</td>\n",
       "      <td>0</td>\n",
       "      <td>0</td>\n",
       "      <td>0</td>\n",
       "      <td>0</td>\n",
       "      <td>0</td>\n",
       "      <td>0</td>\n",
       "      <td>0</td>\n",
       "      <td>0</td>\n",
       "      <td>0</td>\n",
       "      <td>...</td>\n",
       "      <td>0</td>\n",
       "      <td>0</td>\n",
       "      <td>0</td>\n",
       "      <td>0</td>\n",
       "      <td>0</td>\n",
       "      <td>0</td>\n",
       "      <td>0</td>\n",
       "      <td>0</td>\n",
       "      <td>0</td>\n",
       "      <td>0</td>\n",
       "    </tr>\n",
       "    <tr>\n",
       "      <th>2012-06-05 11:00:00</th>\n",
       "      <td>0</td>\n",
       "      <td>0</td>\n",
       "      <td>0</td>\n",
       "      <td>0</td>\n",
       "      <td>0</td>\n",
       "      <td>0</td>\n",
       "      <td>0</td>\n",
       "      <td>0</td>\n",
       "      <td>0</td>\n",
       "      <td>0</td>\n",
       "      <td>...</td>\n",
       "      <td>0</td>\n",
       "      <td>0</td>\n",
       "      <td>0</td>\n",
       "      <td>0</td>\n",
       "      <td>0</td>\n",
       "      <td>0</td>\n",
       "      <td>0</td>\n",
       "      <td>0</td>\n",
       "      <td>0</td>\n",
       "      <td>0</td>\n",
       "    </tr>\n",
       "    <tr>\n",
       "      <th>2019-08-17 18:00:00</th>\n",
       "      <td>0</td>\n",
       "      <td>0</td>\n",
       "      <td>0</td>\n",
       "      <td>0</td>\n",
       "      <td>0</td>\n",
       "      <td>0</td>\n",
       "      <td>0</td>\n",
       "      <td>0</td>\n",
       "      <td>0</td>\n",
       "      <td>0</td>\n",
       "      <td>...</td>\n",
       "      <td>0</td>\n",
       "      <td>0</td>\n",
       "      <td>0</td>\n",
       "      <td>0</td>\n",
       "      <td>0</td>\n",
       "      <td>0</td>\n",
       "      <td>0</td>\n",
       "      <td>0</td>\n",
       "      <td>0</td>\n",
       "      <td>0</td>\n",
       "    </tr>\n",
       "    <tr>\n",
       "      <th>2012-01-28 06:00:00</th>\n",
       "      <td>0</td>\n",
       "      <td>0</td>\n",
       "      <td>0</td>\n",
       "      <td>0</td>\n",
       "      <td>0</td>\n",
       "      <td>0</td>\n",
       "      <td>0</td>\n",
       "      <td>0</td>\n",
       "      <td>0</td>\n",
       "      <td>0</td>\n",
       "      <td>...</td>\n",
       "      <td>0</td>\n",
       "      <td>0</td>\n",
       "      <td>0</td>\n",
       "      <td>0</td>\n",
       "      <td>0</td>\n",
       "      <td>0</td>\n",
       "      <td>0</td>\n",
       "      <td>0</td>\n",
       "      <td>0</td>\n",
       "      <td>0</td>\n",
       "    </tr>\n",
       "  </tbody>\n",
       "</table>\n",
       "<p>5 rows × 62 columns</p>\n",
       "</div>"
      ],
      "text/plain": [
       "                     -1  0  1  2  3  4  5  6  7  8  ...  54  56  57  58  59  \\\n",
       "2014-01-14 10:00:00   0  0  0  0  0  0  0  0  0  0  ...   0   0   0   0   0   \n",
       "2018-04-13 00:00:00   0  0  0  0  0  0  0  0  0  0  ...   0   0   0   0   0   \n",
       "2012-06-05 11:00:00   0  0  0  0  0  0  0  0  0  0  ...   0   0   0   0   0   \n",
       "2019-08-17 18:00:00   0  0  0  0  0  0  0  0  0  0  ...   0   0   0   0   0   \n",
       "2012-01-28 06:00:00   0  0  0  0  0  0  0  0  0  0  ...   0   0   0   0   0   \n",
       "\n",
       "                     60  61  63  65  67  \n",
       "2014-01-14 10:00:00   0   0   0   0   0  \n",
       "2018-04-13 00:00:00   0   0   0   0   0  \n",
       "2012-06-05 11:00:00   0   0   0   0   0  \n",
       "2019-08-17 18:00:00   0   0   0   0   0  \n",
       "2012-01-28 06:00:00   0   0   0   0   0  \n",
       "\n",
       "[5 rows x 62 columns]"
      ]
     },
     "metadata": {},
     "output_type": "display_data"
    },
    {
     "data": {
      "text/plain": [
       "(108863, 62)"
      ]
     },
     "metadata": {},
     "output_type": "display_data"
    }
   ],
   "source": [
    "group_ts = pd.read_csv('../Dados/Transform/waterbag_clusters_timeserie_inmet.csv', index_col=0)\n",
    "group_ts.set_index(pd.to_datetime(group_ts.index), inplace=True)\n",
    "\n",
    "display(group_ts.sample(5), group_ts.shape)"
   ]
  },
  {
   "cell_type": "markdown",
   "metadata": {},
   "source": [
    "---\n",
    "## Define Functions"
   ]
  },
  {
   "cell_type": "markdown",
   "metadata": {},
   "source": [
    "#### Time series feature dataset transformation pipeline"
   ]
  },
  {
   "cell_type": "code",
   "execution_count": 19,
   "metadata": {},
   "outputs": [],
   "source": [
    "from Modulos.timeserie_transform import TimeseriesTransformPipeline\n",
    "\n",
    "from Modulos.imbalanced_selection import groupConsecutiveFlags, MinorityGroupSplitUndersample\n",
    "\n",
    "# from Modulos.imbalanced_classification import ClassificationPipeline"
   ]
  },
  {
   "cell_type": "markdown",
   "metadata": {},
   "source": [
    "#### Binary classification pipeline functions"
   ]
  },
  {
   "cell_type": "code",
   "execution_count": 20,
   "metadata": {},
   "outputs": [],
   "source": [
    "from sklearn.ensemble import GradientBoostingClassifier as gbc\n",
    "class ClassificationPipeline:\n",
    "    \n",
    "    def __init__(self,\n",
    "        train_size=0.79, train_prct=1,\n",
    "        test_size=0.2, test_prct=None,\n",
    "        n_splits=1, shuffle=True,\n",
    "        random_state=None,\n",
    "    ):\n",
    "        self.train_size=train_size; self.test_size=test_size;\n",
    "        self.train_prct=train_prct; self.test_prct=test_prct;\n",
    "        self.n_splits=n_splits; self.shuffle=shuffle;\n",
    "        self.random_state=random_state\n",
    "\n",
    "    # Binary classification pipeline function\n",
    "    def binary(\n",
    "        self, X, Y, model=gbc(),\n",
    "        groups=None, strategy=None,\n",
    "        return_cls_cnt=False\n",
    "    ):\n",
    "        if strategy is not None:\n",
    "            splitter = MinorityGroupSplitUndersample(\n",
    "                n_splits=self.n_splits,\n",
    "                train_size=self.train_size, train_prct=self.train_prct,\n",
    "                test_size=self.test_size, test_prct=self.test_prct,\n",
    "                random_state=self.random_state, \n",
    "            )\n",
    "            cv = list(splitter.split(\n",
    "                X, Y, groups, strategy=strategy\n",
    "            )); t_ind, e_ind = cv[0][0], cv[0][1]\n",
    "            xt, xe, yt, ye = X.iloc[t_ind], X.iloc[e_ind], Y.iloc[t_ind], Y.iloc[e_ind]\n",
    "        else:\n",
    "            guss = GroupUnderSampleSplit(  # Splitter Instance\n",
    "                train_size=self.train_size, train_prct=self.train_prct,\n",
    "                test_size=self.test_size, test_prct=self.test_prct,\n",
    "            )\n",
    "            xt, xe, yt, ye = guss.undersample(  # Train and test x and y dataframes\n",
    "                X, Y, shuffle=self.shuffle, random_state=self.random_state\n",
    "            )\n",
    "\n",
    "        cls_cnt = print_cls_cnt(\n",
    "            Y, yt.index, ye.index,\n",
    "            display_cnt=(not return_cls_cnt),\n",
    "            return_cnt=return_cls_cnt\n",
    "        )\n",
    "        model.fit(xt, yt)  # Fit model with train data\n",
    "        yhat = model.predict(xe)  # Make predictions\n",
    "        scrs = pd.DataFrame(cr(ye, yhat, output_dict=True)).T  # Evaluate model prediction\n",
    "        if return_cls_cnt:\n",
    "            return scrs, cls_cnt\n",
    "        return scrs\n",
    "\n",
    "    # Multiple targets binary classification pipeline function - Changing Traget variable\n",
    "    def binary_multi_target(\n",
    "        self,\n",
    "        X, Yi, model=gbc(),\n",
    "        groups=None, strategy=None,\n",
    "    ):\n",
    "        scrs, cls_cnts = {}, {}\n",
    "        for i, label in enumerate(Yi):\n",
    "            co(wait=True); print(f'{i+1}/{Yi.shape[1]} models evaluated.')\n",
    "            scrs[label], cls_cnts[label] = self.binary(\n",
    "                X, Yi[label], model=model,\n",
    "                groups=groups[label], strategy=strategy,\n",
    "                return_cls_cnt=True\n",
    "            )\n",
    "        scrs, cls_cnts = pd.concat(scrs), pd.concat(cls_cnts)\n",
    "        scrs.index.names = ['group', 'metric']\n",
    "        cls_cnts.index.names = ['Group', 'Class']\n",
    "        return scrs, cls_cnts\n",
    "\n",
    "def classesGroupRecall(scrs, cls_cnts, ignore_first=5):\n",
    "\n",
    "    fig, ax = plt.subplots(1, 3, figsize=(20, 3.5))\n",
    "\n",
    "    scrs['recall'].loc[:, ['0', '1', 'macro avg']].unstack('metric').sort_values('1').plot(use_index=False, ax=ax[0])\n",
    "    ax[0].set(\n",
    "        title='Groups Recall per Class - Minority class sorted',\n",
    "        xlabel='Group',\n",
    "        ylabel='Recall'\n",
    "    )\n",
    "\n",
    "    sort_scrs = scrs['recall'].loc[:, ['0', '1', 'macro avg']].unstack('metric').sort_values('macro avg')\n",
    "    sort_scrs.plot(use_index=False, ax=ax[1])\n",
    "    ax[1].set(\n",
    "        title='Groups Recall per Class - Macro avg sorted',\n",
    "        xlabel='Group',\n",
    "        ylabel='Recall'\n",
    "    )\n",
    "\n",
    "    train_size, test_size = (mms().fit_transform(cls_cnts[col].loc[sort_scrs.index[ignore_first:], 1].to_frame(col)).reshape(-1).tolist() for col in ['Train set', 'Test set'])\n",
    "    train_size = [np.nan]*ignore_first + train_size \n",
    "    test_size = [np.nan]*ignore_first + test_size \n",
    "\n",
    "    ax[2].plot(train_size)\n",
    "    ax[2].plot(test_size)\n",
    "\n",
    "    return ax"
   ]
  },
  {
   "cell_type": "markdown",
   "metadata": {},
   "source": [
    "---\n",
    "#### Preprocessing & machine learning modules"
   ]
  },
  {
   "cell_type": "code",
   "execution_count": 21,
   "metadata": {},
   "outputs": [],
   "source": [
    "from sklearn.preprocessing import MinMaxScaler as mms\n",
    "from Modulos.cv_samplers import GroupUnderSampleSplit, print_cls_cnt\n",
    "\n",
    "from sklearn.utils import all_estimators\n",
    "from sklearn.metrics import classification_report as cr\n",
    "\n",
    "from imblearn import ensemble\n",
    "from imblearn.metrics import classification_report_imbalanced as cri\n",
    "\n",
    "#  Classifier colleciton\n",
    "classifiers = dict(all_estimators('classifier'))\n",
    "\n",
    "# Select specific classification models\n",
    "gbc = classifiers['GradientBoostingClassifier']\n",
    "brfc = ensemble.BalancedRandomForestClassifier"
   ]
  },
  {
   "cell_type": "markdown",
   "metadata": {},
   "source": [
    "#### Feature dataset - X"
   ]
  },
  {
   "cell_type": "code",
   "execution_count": 22,
   "metadata": {},
   "outputs": [
    {
     "name": "stdout",
     "output_type": "stream",
     "text": [
      "Initial data: (108864, 65)\n",
      "Time extraction: (58923, 65)\n",
      "Drop empty columns:  (58922, 52)\n"
     ]
    }
   ],
   "source": [
    "event_min_time = events['EVENTO_INICIO'].min()\n",
    "\n",
    "X = TimeseriesTransformPipeline(\n",
    "    inmet, event_min_time, cut=-1,\n",
    "    drop_empty_cols=True, scale=True,\n",
    "    interpolate='nearest', fillna='min'\n",
    ")"
   ]
  },
  {
   "cell_type": "markdown",
   "metadata": {},
   "source": [
    "#### Target variable - Y (Top group)"
   ]
  },
  {
   "cell_type": "code",
   "execution_count": 23,
   "metadata": {},
   "outputs": [
    {
     "data": {
      "text/html": [
       "<div>\n",
       "<style scoped>\n",
       "    .dataframe tbody tr th:only-of-type {\n",
       "        vertical-align: middle;\n",
       "    }\n",
       "\n",
       "    .dataframe tbody tr th {\n",
       "        vertical-align: top;\n",
       "    }\n",
       "\n",
       "    .dataframe thead th {\n",
       "        text-align: right;\n",
       "    }\n",
       "</style>\n",
       "<table border=\"1\" class=\"dataframe\">\n",
       "  <thead>\n",
       "    <tr style=\"text-align: right;\">\n",
       "      <th></th>\n",
       "      <th>Class Count</th>\n",
       "    </tr>\n",
       "  </thead>\n",
       "  <tbody>\n",
       "    <tr>\n",
       "      <th>0</th>\n",
       "      <td>58625</td>\n",
       "    </tr>\n",
       "    <tr>\n",
       "      <th>1</th>\n",
       "      <td>297</td>\n",
       "    </tr>\n",
       "  </tbody>\n",
       "</table>\n",
       "</div>"
      ],
      "text/plain": [
       "   Class Count\n",
       "0        58625\n",
       "1          297"
      ]
     },
     "metadata": {},
     "output_type": "display_data"
    }
   ],
   "source": [
    "top_grp = '1'\n",
    "Y = group_ts[top_grp].loc[X.index].copy()  # Extract target label variable for random group\n",
    "\n",
    "display(Y.value_counts().to_frame('Class Count'))"
   ]
  },
  {
   "cell_type": "markdown",
   "metadata": {},
   "source": [
    "### Evaluate single event group"
   ]
  },
  {
   "cell_type": "code",
   "execution_count": 24,
   "metadata": {},
   "outputs": [
    {
     "data": {
      "text/html": [
       "<div>\n",
       "<style scoped>\n",
       "    .dataframe tbody tr th:only-of-type {\n",
       "        vertical-align: middle;\n",
       "    }\n",
       "\n",
       "    .dataframe tbody tr th {\n",
       "        vertical-align: top;\n",
       "    }\n",
       "\n",
       "    .dataframe thead th {\n",
       "        text-align: right;\n",
       "    }\n",
       "</style>\n",
       "<table border=\"1\" class=\"dataframe\">\n",
       "  <thead>\n",
       "    <tr style=\"text-align: right;\">\n",
       "      <th></th>\n",
       "      <th>precision</th>\n",
       "      <th>recall</th>\n",
       "      <th>f1-score</th>\n",
       "      <th>support</th>\n",
       "    </tr>\n",
       "  </thead>\n",
       "  <tbody>\n",
       "    <tr>\n",
       "      <th>0</th>\n",
       "      <td>0.999899</td>\n",
       "      <td>0.897403</td>\n",
       "      <td>0.945883</td>\n",
       "      <td>55070.000000</td>\n",
       "    </tr>\n",
       "    <tr>\n",
       "      <th>1</th>\n",
       "      <td>0.009641</td>\n",
       "      <td>0.916667</td>\n",
       "      <td>0.019081</td>\n",
       "      <td>60.000000</td>\n",
       "    </tr>\n",
       "    <tr>\n",
       "      <th>accuracy</th>\n",
       "      <td>0.897424</td>\n",
       "      <td>0.897424</td>\n",
       "      <td>0.897424</td>\n",
       "      <td>0.897424</td>\n",
       "    </tr>\n",
       "    <tr>\n",
       "      <th>macro avg</th>\n",
       "      <td>0.504770</td>\n",
       "      <td>0.907035</td>\n",
       "      <td>0.482482</td>\n",
       "      <td>55130.000000</td>\n",
       "    </tr>\n",
       "    <tr>\n",
       "      <th>weighted avg</th>\n",
       "      <td>0.998821</td>\n",
       "      <td>0.897424</td>\n",
       "      <td>0.944874</td>\n",
       "      <td>55130.000000</td>\n",
       "    </tr>\n",
       "  </tbody>\n",
       "</table>\n",
       "</div>"
      ],
      "text/plain": [
       "              precision    recall  f1-score       support\n",
       "0              0.999899  0.897403  0.945883  55070.000000\n",
       "1              0.009641  0.916667  0.019081     60.000000\n",
       "accuracy       0.897424  0.897424  0.897424      0.897424\n",
       "macro avg      0.504770  0.907035  0.482482  55130.000000\n",
       "weighted avg   0.998821  0.897424  0.944874  55130.000000"
      ]
     },
     "metadata": {},
     "output_type": "display_data"
    },
    {
     "data": {
      "text/html": [
       "<div>\n",
       "<style scoped>\n",
       "    .dataframe tbody tr th:only-of-type {\n",
       "        vertical-align: middle;\n",
       "    }\n",
       "\n",
       "    .dataframe tbody tr th {\n",
       "        vertical-align: top;\n",
       "    }\n",
       "\n",
       "    .dataframe thead th {\n",
       "        text-align: right;\n",
       "    }\n",
       "</style>\n",
       "<table border=\"1\" class=\"dataframe\">\n",
       "  <thead>\n",
       "    <tr style=\"text-align: right;\">\n",
       "      <th></th>\n",
       "      <th>Train set</th>\n",
       "      <th>Test set</th>\n",
       "    </tr>\n",
       "    <tr>\n",
       "      <th>Class</th>\n",
       "      <th></th>\n",
       "      <th></th>\n",
       "    </tr>\n",
       "  </thead>\n",
       "  <tbody>\n",
       "    <tr>\n",
       "      <th>0</th>\n",
       "      <td>3555</td>\n",
       "      <td>55070</td>\n",
       "    </tr>\n",
       "    <tr>\n",
       "      <th>1</th>\n",
       "      <td>237</td>\n",
       "      <td>60</td>\n",
       "    </tr>\n",
       "  </tbody>\n",
       "</table>\n",
       "</div>"
      ],
      "text/plain": [
       "       Train set  Test set\n",
       "Class                     \n",
       "0           3555     55070\n",
       "1            237        60"
      ]
     },
     "metadata": {},
     "output_type": "display_data"
    }
   ],
   "source": [
    "# Instatiate Classification Pipeline Object\n",
    "CP = ClassificationPipeline(\n",
    "    n_splits=5,\n",
    "    train_size=0.79, train_prct=15,\n",
    "    test_size=0.2, test_prct=None,\n",
    "    shuffle=True, random_state=2,\n",
    ")\n",
    "\n",
    "groups = groupConsecutiveFlags(ts=Y)\n",
    "\n",
    "# Model & Evaluate\n",
    "score, cls_cnt = CP.binary(\n",
    "    X, Y, brfc(n_estimators=500, random_state=0),\n",
    "    groups=groups, strategy='GroupKFold',\n",
    "    return_cls_cnt=True\n",
    ")\n",
    "\n",
    "display(score, cls_cnt)"
   ]
  },
  {
   "cell_type": "markdown",
   "metadata": {},
   "source": [
    "## Evaluate multiple event groups"
   ]
  },
  {
   "cell_type": "code",
   "execution_count": 25,
   "metadata": {},
   "outputs": [
    {
     "name": "stdout",
     "output_type": "stream",
     "text": [
      "62/62 models evaluated.\n"
     ]
    }
   ],
   "source": [
    "Yi = group_ts.loc[X.index]\n",
    "Groups =  Yi.apply(groupConsecutiveFlags)\n",
    "\n",
    "scrs, cls_cnts = CP.binary_multi_target(\n",
    "    X, Yi, model=brfc(), groups=Groups, strategy='GroupKFold'\n",
    ")"
   ]
  },
  {
   "cell_type": "code",
   "execution_count": 26,
   "metadata": {},
   "outputs": [
    {
     "data": {
      "image/png": "[encoded data removed]",
      "text/plain": [
       "<Figure size 1440x252 with 3 Axes>"
      ]
     },
     "metadata": {},
     "output_type": "display_data"
    }
   ],
   "source": [
    "axs = classesGroupRecall(scrs, cls_cnts, ignore_first=5)"
   ]
  },
  {
   "cell_type": "markdown",
   "metadata": {},
   "source": [
    "---\n",
    "# Exploratory Data Analysis\n",
    "\n",
    "### Case Example"
   ]
  },
  {
   "cell_type": "code",
   "execution_count": 611,
   "metadata": {},
   "outputs": [],
   "source": [
    "CP = ClassificationPipeline(\n",
    "    train_size=0.79, train_prct=5,\n",
    "    test_size=0.2, test_prct=None,\n",
    "    shuffle=True, random_state=0,\n",
    ")\n",
    "\n",
    "score, cls_cnt = CP.binary(\n",
    "    X_filt, Y_filt, model=brfc(), return_cls_cnt=True\n",
    ")\n",
    "\n",
    "display(score, cls_cnt)"
   ]
  }
 ],
 "metadata": {
  "kernelspec": {
   "display_name": "Python 3",
   "language": "python",
   "name": "python3"
  },
  "language_info": {
   "codemirror_mode": {
    "name": "ipython",
    "version": 3
   },
   "file_extension": ".py",
   "mimetype": "text/x-python",
   "name": "python",
   "nbconvert_exporter": "python",
   "pygments_lexer": "ipython3",
   "version": "3.8.3"
  }
 },
 "nbformat": 4,
 "nbformat_minor": 4
}
