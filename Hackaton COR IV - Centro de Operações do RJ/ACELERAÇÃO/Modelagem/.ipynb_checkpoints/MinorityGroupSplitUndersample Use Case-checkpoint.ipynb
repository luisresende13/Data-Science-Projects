{
 "cells": [
  {
   "cell_type": "markdown",
   "metadata": {},
   "source": [
    "---\n",
    "# Group Sampling"
   ]
  },
  {
   "cell_type": "markdown",
   "metadata": {},
   "source": [
    "#### Planning:\n",
    "1. Group hour records\n",
    "2. Group split + undersample hour records\n",
    "3. Evaluate single split\n",
    "4. Evaluate multiple splits"
   ]
  },
  {
   "cell_type": "markdown",
   "metadata": {},
   "source": [
    "### Define functions"
   ]
  },
  {
   "cell_type": "code",
   "execution_count": 5,
   "metadata": {},
   "outputs": [],
   "source": [
    "from Modulos.timeserie_transform import TimeseriesTransformPipeline\n",
    "from Modulos.imbalanced_selection import groupConsecutiveFlags, MinorityGroupSplitUndersample\n",
    "# from Modulos.imbalanced_classification import ClassificationPipeline"
   ]
  },
  {
   "cell_type": "markdown",
   "metadata": {},
   "source": [
    "#### Binary classification pipeline functions"
   ]
  },
  {
   "cell_type": "code",
   "execution_count": 18,
   "metadata": {},
   "outputs": [],
   "source": [
    "class ClassificationPipeline:\n",
    "    \n",
    "    def __init__(self,\n",
    "        train_size=0.79, train_prct=1,\n",
    "        test_size=0.2, test_prct=None,\n",
    "        n_splits=1, shuffle=True,\n",
    "        random_state=None,\n",
    "    ):\n",
    "        self.train_size=train_size; self.test_size=test_size;\n",
    "        self.train_prct=train_prct; self.test_prct=test_prct;\n",
    "        self.n_splits=n_splits; self.shuffle=shuffle;\n",
    "        self.random_state=random_state\n",
    "\n",
    "    # Binary classification pipeline function\n",
    "    def binary(\n",
    "        self, X, Y, model=gbc(),\n",
    "        groups=None, strategy=None,\n",
    "        return_cls_cnt=False\n",
    "    ):\n",
    "        if strategy is not None:\n",
    "            splitter = MinorityGroupSplitUndersample(\n",
    "                n_splits=self.n_splits,\n",
    "                train_size=self.train_size, train_prct=self.train_prct,\n",
    "                test_size=self.test_size, test_prct=self.test_prct,\n",
    "                random_state=self.random_state, \n",
    "            )\n",
    "            cv = list(splitter.split(\n",
    "                X, Y, groups, strategy=strategy\n",
    "            )); t_ind, e_ind = cv[0][0], cv[0][1]\n",
    "            xt, xe, yt, ye = X.iloc[t_ind], X.iloc[e_ind], Y.iloc[t_ind], Y.iloc[e_ind]\n",
    "        else:\n",
    "            guss = GroupUnderSampleSplit(  # Splitter Instance\n",
    "                train_size=self.train_size, train_prct=self.train_prct,\n",
    "                test_size=self.test_size, test_prct=self.test_prct,\n",
    "            )\n",
    "            xt, xe, yt, ye = guss.undersample(  # Train and test x and y dataframes\n",
    "                X, Y, shuffle=self.shuffle, random_state=self.random_state\n",
    "            )\n",
    "\n",
    "        cls_cnt = print_cls_cnt(\n",
    "            Y, yt.index, ye.index,\n",
    "            display_cnt=(not return_cls_cnt),\n",
    "            return_cnt=return_cls_cnt\n",
    "        )\n",
    "        model.fit(xt, yt)  # Fit model with train data\n",
    "        yhat = model.predict(xe)  # Make predictions\n",
    "        scrs = pd.DataFrame(cr(ye, yhat, output_dict=True)).T  # Evaluate model prediction\n",
    "        if return_cls_cnt:\n",
    "            return scrs, cls_cnt\n",
    "        return scrs\n",
    "\n",
    "    # Multiple targets binary classification pipeline function - Changing Traget variable\n",
    "    def binary_multi_target(\n",
    "        self,\n",
    "        X, Yi, model=gbc(),\n",
    "    ):\n",
    "        scrs, cls_cnts = {}, {}\n",
    "        for i, group in enumerate(Yi):\n",
    "            co(wait=True); print(f'{i+1}/{Yi.shape[1]} models evaluated.')\n",
    "            scrs[group], cls_cnts[group] = self.binary(\n",
    "                X, Yi[group], model=model,\n",
    "                return_cls_cnt=True\n",
    "            )\n",
    "        scrs, cls_cnts = pd.concat(scrs), pd.concat(cls_cnts)\n",
    "        scrs.index.names = ['group', 'metric']\n",
    "        cls_cnts.index.names = ['Group', 'Class']\n",
    "        return scrs, cls_cnts"
   ]
  },
  {
   "cell_type": "markdown",
   "metadata": {},
   "source": [
    "---\n",
    "## Load & Preprocess Data"
   ]
  },
  {
   "cell_type": "markdown",
   "metadata": {},
   "source": [
    "#### Water bag groupped events collection"
   ]
  },
  {
   "cell_type": "code",
   "execution_count": 5,
   "metadata": {},
   "outputs": [
    {
     "data": {
      "text/html": [
       "<div>\n",
       "<style scoped>\n",
       "    .dataframe tbody tr th:only-of-type {\n",
       "        vertical-align: middle;\n",
       "    }\n",
       "\n",
       "    .dataframe tbody tr th {\n",
       "        vertical-align: top;\n",
       "    }\n",
       "\n",
       "    .dataframe thead th {\n",
       "        text-align: right;\n",
       "    }\n",
       "</style>\n",
       "<table border=\"1\" class=\"dataframe\">\n",
       "  <thead>\n",
       "    <tr style=\"text-align: right;\">\n",
       "      <th></th>\n",
       "      <th>EVENTO_INICIO</th>\n",
       "      <th>EVENTO_FIM</th>\n",
       "      <th>sublabel</th>\n",
       "      <th>main_route</th>\n",
       "    </tr>\n",
       "    <tr>\n",
       "      <th>EVENTO_ID</th>\n",
       "      <th></th>\n",
       "      <th></th>\n",
       "      <th></th>\n",
       "      <th></th>\n",
       "    </tr>\n",
       "  </thead>\n",
       "  <tbody>\n",
       "    <tr>\n",
       "      <th>1258</th>\n",
       "      <td>2015-09-12 20:12:00</td>\n",
       "      <td>2015-09-13 03:39:00</td>\n",
       "      <td>12</td>\n",
       "      <td>Praia de Botafogo</td>\n",
       "    </tr>\n",
       "    <tr>\n",
       "      <th>1259</th>\n",
       "      <td>2015-09-12 22:13:00</td>\n",
       "      <td>2015-09-13 01:21:00</td>\n",
       "      <td>-1</td>\n",
       "      <td>Avenida Brasil</td>\n",
       "    </tr>\n",
       "    <tr>\n",
       "      <th>1260</th>\n",
       "      <td>2015-09-12 22:15:00</td>\n",
       "      <td>2015-09-13 01:20:00</td>\n",
       "      <td>-1</td>\n",
       "      <td>Avenida Brasil</td>\n",
       "    </tr>\n",
       "    <tr>\n",
       "      <th>1261</th>\n",
       "      <td>2015-09-12 22:16:00</td>\n",
       "      <td>2015-09-13 01:20:00</td>\n",
       "      <td>-1</td>\n",
       "      <td>Avenida Brasil</td>\n",
       "    </tr>\n",
       "  </tbody>\n",
       "</table>\n",
       "</div>"
      ],
      "text/plain": [
       "                EVENTO_INICIO          EVENTO_FIM  sublabel         main_route\n",
       "EVENTO_ID                                                                     \n",
       "1258      2015-09-12 20:12:00 2015-09-13 03:39:00        12  Praia de Botafogo\n",
       "1259      2015-09-12 22:13:00 2015-09-13 01:21:00        -1     Avenida Brasil\n",
       "1260      2015-09-12 22:15:00 2015-09-13 01:20:00        -1     Avenida Brasil\n",
       "1261      2015-09-12 22:16:00 2015-09-13 01:20:00        -1     Avenida Brasil"
      ]
     },
     "metadata": {},
     "output_type": "display_data"
    },
    {
     "data": {
      "text/plain": [
       "(2983, 4)"
      ]
     },
     "metadata": {},
     "output_type": "display_data"
    }
   ],
   "source": [
    "waterbags = pd.read_csv('../Dados/Catalog/water_bag_catalog_google.csv', index_col=0)\n",
    "clusters = pd.read_csv('../Dados/Catalog/water_bag_clusters.csv', index_col=0)\n",
    "\n",
    "events = waterbags[['EVENTO_INICIO', 'EVENTO_FIM']].apply(pd.to_datetime)\n",
    "events = events.join(clusters[['sublabel', 'main_route']], how='inner')\n",
    "\n",
    "display(events.head(4)); display(events.shape)"
   ]
  },
  {
   "cell_type": "markdown",
   "metadata": {},
   "source": [
    "#### INMET metheorlogical stations' records"
   ]
  },
  {
   "cell_type": "code",
   "execution_count": 6,
   "metadata": {},
   "outputs": [
    {
     "data": {
      "text/plain": [
       "(108864, 65)"
      ]
     },
     "execution_count": 6,
     "metadata": {},
     "output_type": "execute_result"
    }
   ],
   "source": [
    "inmet = pd.read_csv('../Dados/Clean/INMET.csv', index_col=0)\n",
    "\n",
    "inmet.set_index(pd.to_datetime(inmet.index), inplace=True); inmet.shape"
   ]
  },
  {
   "cell_type": "markdown",
   "metadata": {},
   "source": [
    "#### Event labeled time serie"
   ]
  },
  {
   "cell_type": "code",
   "execution_count": 7,
   "metadata": {},
   "outputs": [
    {
     "data": {
      "text/html": [
       "<div>\n",
       "<style scoped>\n",
       "    .dataframe tbody tr th:only-of-type {\n",
       "        vertical-align: middle;\n",
       "    }\n",
       "\n",
       "    .dataframe tbody tr th {\n",
       "        vertical-align: top;\n",
       "    }\n",
       "\n",
       "    .dataframe thead th {\n",
       "        text-align: right;\n",
       "    }\n",
       "</style>\n",
       "<table border=\"1\" class=\"dataframe\">\n",
       "  <thead>\n",
       "    <tr style=\"text-align: right;\">\n",
       "      <th></th>\n",
       "      <th>label</th>\n",
       "      <th>events</th>\n",
       "      <th>event ids</th>\n",
       "      <th>event groups</th>\n",
       "    </tr>\n",
       "  </thead>\n",
       "  <tbody>\n",
       "    <tr>\n",
       "      <th>2010-01-01 00:00:00</th>\n",
       "      <td>0</td>\n",
       "      <td>0</td>\n",
       "      <td>[]</td>\n",
       "      <td>[]</td>\n",
       "    </tr>\n",
       "    <tr>\n",
       "      <th>2010-01-01 01:00:00</th>\n",
       "      <td>0</td>\n",
       "      <td>0</td>\n",
       "      <td>[]</td>\n",
       "      <td>[]</td>\n",
       "    </tr>\n",
       "    <tr>\n",
       "      <th>2010-01-01 02:00:00</th>\n",
       "      <td>0</td>\n",
       "      <td>0</td>\n",
       "      <td>[]</td>\n",
       "      <td>[]</td>\n",
       "    </tr>\n",
       "    <tr>\n",
       "      <th>2010-01-01 03:00:00</th>\n",
       "      <td>0</td>\n",
       "      <td>0</td>\n",
       "      <td>[]</td>\n",
       "      <td>[]</td>\n",
       "    </tr>\n",
       "    <tr>\n",
       "      <th>2010-01-01 04:00:00</th>\n",
       "      <td>0</td>\n",
       "      <td>0</td>\n",
       "      <td>[]</td>\n",
       "      <td>[]</td>\n",
       "    </tr>\n",
       "  </tbody>\n",
       "</table>\n",
       "</div>"
      ],
      "text/plain": [
       "                     label  events event ids event groups\n",
       "2010-01-01 00:00:00      0       0        []           []\n",
       "2010-01-01 01:00:00      0       0        []           []\n",
       "2010-01-01 02:00:00      0       0        []           []\n",
       "2010-01-01 03:00:00      0       0        []           []\n",
       "2010-01-01 04:00:00      0       0        []           []"
      ]
     },
     "metadata": {},
     "output_type": "display_data"
    },
    {
     "data": {
      "text/plain": [
       "(108863, 4)"
      ]
     },
     "metadata": {},
     "output_type": "display_data"
    }
   ],
   "source": [
    "event_ts = pd.read_csv('../Dados/Transform/waterbag_timeserie_inmet.csv', index_col=0)\n",
    "\n",
    "event_ts['event groups'] = event_ts['event groups'].map(json.loads)\n",
    "event_ts['event ids'] = event_ts['event ids'].map(json.loads)\n",
    "event_ts.set_index(pd.to_datetime(event_ts.index), inplace=True)\n",
    "\n",
    "display(event_ts.head(), event_ts.shape)"
   ]
  },
  {
   "cell_type": "markdown",
   "metadata": {},
   "source": [
    "#### Event labeled time serie per group"
   ]
  },
  {
   "cell_type": "code",
   "execution_count": 8,
   "metadata": {},
   "outputs": [
    {
     "data": {
      "text/html": [
       "<div>\n",
       "<style scoped>\n",
       "    .dataframe tbody tr th:only-of-type {\n",
       "        vertical-align: middle;\n",
       "    }\n",
       "\n",
       "    .dataframe tbody tr th {\n",
       "        vertical-align: top;\n",
       "    }\n",
       "\n",
       "    .dataframe thead th {\n",
       "        text-align: right;\n",
       "    }\n",
       "</style>\n",
       "<table border=\"1\" class=\"dataframe\">\n",
       "  <thead>\n",
       "    <tr style=\"text-align: right;\">\n",
       "      <th></th>\n",
       "      <th>-1</th>\n",
       "      <th>0</th>\n",
       "      <th>1</th>\n",
       "      <th>2</th>\n",
       "      <th>3</th>\n",
       "      <th>4</th>\n",
       "      <th>5</th>\n",
       "      <th>6</th>\n",
       "      <th>7</th>\n",
       "      <th>8</th>\n",
       "      <th>...</th>\n",
       "      <th>54</th>\n",
       "      <th>56</th>\n",
       "      <th>57</th>\n",
       "      <th>58</th>\n",
       "      <th>59</th>\n",
       "      <th>60</th>\n",
       "      <th>61</th>\n",
       "      <th>63</th>\n",
       "      <th>65</th>\n",
       "      <th>67</th>\n",
       "    </tr>\n",
       "  </thead>\n",
       "  <tbody>\n",
       "    <tr>\n",
       "      <th>2019-07-07 19:00:00</th>\n",
       "      <td>1</td>\n",
       "      <td>0</td>\n",
       "      <td>0</td>\n",
       "      <td>0</td>\n",
       "      <td>0</td>\n",
       "      <td>0</td>\n",
       "      <td>0</td>\n",
       "      <td>0</td>\n",
       "      <td>0</td>\n",
       "      <td>0</td>\n",
       "      <td>...</td>\n",
       "      <td>0</td>\n",
       "      <td>0</td>\n",
       "      <td>0</td>\n",
       "      <td>0</td>\n",
       "      <td>0</td>\n",
       "      <td>0</td>\n",
       "      <td>0</td>\n",
       "      <td>0</td>\n",
       "      <td>0</td>\n",
       "      <td>0</td>\n",
       "    </tr>\n",
       "    <tr>\n",
       "      <th>2010-10-18 08:00:00</th>\n",
       "      <td>0</td>\n",
       "      <td>0</td>\n",
       "      <td>0</td>\n",
       "      <td>0</td>\n",
       "      <td>0</td>\n",
       "      <td>0</td>\n",
       "      <td>0</td>\n",
       "      <td>0</td>\n",
       "      <td>0</td>\n",
       "      <td>0</td>\n",
       "      <td>...</td>\n",
       "      <td>0</td>\n",
       "      <td>0</td>\n",
       "      <td>0</td>\n",
       "      <td>0</td>\n",
       "      <td>0</td>\n",
       "      <td>0</td>\n",
       "      <td>0</td>\n",
       "      <td>0</td>\n",
       "      <td>0</td>\n",
       "      <td>0</td>\n",
       "    </tr>\n",
       "    <tr>\n",
       "      <th>2010-07-11 05:00:00</th>\n",
       "      <td>0</td>\n",
       "      <td>0</td>\n",
       "      <td>0</td>\n",
       "      <td>0</td>\n",
       "      <td>0</td>\n",
       "      <td>0</td>\n",
       "      <td>0</td>\n",
       "      <td>0</td>\n",
       "      <td>0</td>\n",
       "      <td>0</td>\n",
       "      <td>...</td>\n",
       "      <td>0</td>\n",
       "      <td>0</td>\n",
       "      <td>0</td>\n",
       "      <td>0</td>\n",
       "      <td>0</td>\n",
       "      <td>0</td>\n",
       "      <td>0</td>\n",
       "      <td>0</td>\n",
       "      <td>0</td>\n",
       "      <td>0</td>\n",
       "    </tr>\n",
       "    <tr>\n",
       "      <th>2019-05-11 03:00:00</th>\n",
       "      <td>0</td>\n",
       "      <td>0</td>\n",
       "      <td>0</td>\n",
       "      <td>0</td>\n",
       "      <td>0</td>\n",
       "      <td>0</td>\n",
       "      <td>0</td>\n",
       "      <td>0</td>\n",
       "      <td>0</td>\n",
       "      <td>0</td>\n",
       "      <td>...</td>\n",
       "      <td>0</td>\n",
       "      <td>0</td>\n",
       "      <td>0</td>\n",
       "      <td>0</td>\n",
       "      <td>0</td>\n",
       "      <td>0</td>\n",
       "      <td>0</td>\n",
       "      <td>0</td>\n",
       "      <td>0</td>\n",
       "      <td>0</td>\n",
       "    </tr>\n",
       "    <tr>\n",
       "      <th>2020-06-15 15:00:00</th>\n",
       "      <td>0</td>\n",
       "      <td>0</td>\n",
       "      <td>0</td>\n",
       "      <td>0</td>\n",
       "      <td>0</td>\n",
       "      <td>0</td>\n",
       "      <td>0</td>\n",
       "      <td>0</td>\n",
       "      <td>0</td>\n",
       "      <td>0</td>\n",
       "      <td>...</td>\n",
       "      <td>0</td>\n",
       "      <td>0</td>\n",
       "      <td>0</td>\n",
       "      <td>0</td>\n",
       "      <td>0</td>\n",
       "      <td>0</td>\n",
       "      <td>0</td>\n",
       "      <td>0</td>\n",
       "      <td>0</td>\n",
       "      <td>0</td>\n",
       "    </tr>\n",
       "  </tbody>\n",
       "</table>\n",
       "<p>5 rows × 62 columns</p>\n",
       "</div>"
      ],
      "text/plain": [
       "                     -1  0  1  2  3  4  5  6  7  8  ...  54  56  57  58  59  \\\n",
       "2019-07-07 19:00:00   1  0  0  0  0  0  0  0  0  0  ...   0   0   0   0   0   \n",
       "2010-10-18 08:00:00   0  0  0  0  0  0  0  0  0  0  ...   0   0   0   0   0   \n",
       "2010-07-11 05:00:00   0  0  0  0  0  0  0  0  0  0  ...   0   0   0   0   0   \n",
       "2019-05-11 03:00:00   0  0  0  0  0  0  0  0  0  0  ...   0   0   0   0   0   \n",
       "2020-06-15 15:00:00   0  0  0  0  0  0  0  0  0  0  ...   0   0   0   0   0   \n",
       "\n",
       "                     60  61  63  65  67  \n",
       "2019-07-07 19:00:00   0   0   0   0   0  \n",
       "2010-10-18 08:00:00   0   0   0   0   0  \n",
       "2010-07-11 05:00:00   0   0   0   0   0  \n",
       "2019-05-11 03:00:00   0   0   0   0   0  \n",
       "2020-06-15 15:00:00   0   0   0   0   0  \n",
       "\n",
       "[5 rows x 62 columns]"
      ]
     },
     "metadata": {},
     "output_type": "display_data"
    },
    {
     "data": {
      "text/plain": [
       "(108863, 62)"
      ]
     },
     "metadata": {},
     "output_type": "display_data"
    }
   ],
   "source": [
    "group_ts = pd.read_csv('../Dados/Transform/waterbag_clusters_timeserie_inmet.csv', index_col=0)\n",
    "group_ts.set_index(pd.to_datetime(group_ts.index), inplace=True)\n",
    "\n",
    "display(group_ts.sample(5), group_ts.shape)"
   ]
  },
  {
   "cell_type": "markdown",
   "metadata": {},
   "source": [
    "---"
   ]
  },
  {
   "cell_type": "markdown",
   "metadata": {},
   "source": [
    "### Import preprocessing and machine learning modules"
   ]
  },
  {
   "cell_type": "code",
   "execution_count": 9,
   "metadata": {},
   "outputs": [],
   "source": [
    "import os, json, pandas as pd, numpy as np, matplotlib.pyplot as plt, seaborn as sns; sns.set()\n",
    "from IPython.display import clear_output as co\n",
    "\n",
    "from sklearn.preprocessing import MinMaxScaler as mms\n",
    "from Modulos.cv_samplers import GroupUnderSampleSplit, print_cls_cnt\n",
    "\n",
    "from sklearn.utils import all_estimators\n",
    "from sklearn.metrics import classification_report as cr\n",
    "\n",
    "from imblearn import ensemble\n",
    "from imblearn.metrics import classification_report_imbalanced as cri\n",
    "\n",
    "#  Classifier colleciton\n",
    "classifiers = dict(all_estimators('classifier'))\n",
    "\n",
    "# Select specific classification models\n",
    "gbc = classifiers['GradientBoostingClassifier']\n",
    "brfc = ensemble.BalancedRandomForestClassifier"
   ]
  },
  {
   "cell_type": "markdown",
   "metadata": {},
   "source": [
    "## Data transformation"
   ]
  },
  {
   "cell_type": "markdown",
   "metadata": {},
   "source": [
    "#### Feature dataset - X"
   ]
  },
  {
   "cell_type": "code",
   "execution_count": 23,
   "metadata": {},
   "outputs": [
    {
     "name": "stdout",
     "output_type": "stream",
     "text": [
      "Initial data: (108864, 65)\n",
      "Time extraction: (58923, 65)\n",
      "Drop empty columns:  (58922, 52)\n"
     ]
    }
   ],
   "source": [
    "event_min_time = events['EVENTO_INICIO'].min()\n",
    "\n",
    "X = TimeseriesTransformPipeline(\n",
    "    inmet, event_min_time, cut=-1,\n",
    "    drop_empty_cols=True, scale=True,\n",
    "    interpolate='nearest', fillna='min'\n",
    ")"
   ]
  },
  {
   "cell_type": "markdown",
   "metadata": {},
   "source": [
    "#### Target variable - Y (Top group)"
   ]
  },
  {
   "cell_type": "code",
   "execution_count": 24,
   "metadata": {},
   "outputs": [],
   "source": [
    "top_grp = '1'\n",
    "\n",
    "Y = group_ts[top_grp].loc[X.index].copy()  # Extract target label variable for random group"
   ]
  },
  {
   "cell_type": "markdown",
   "metadata": {},
   "source": [
    "### 2. Group by consecutive hours with incidents"
   ]
  },
  {
   "cell_type": "code",
   "execution_count": 25,
   "metadata": {},
   "outputs": [
    {
     "data": {
      "image/png": "[encoded data removed]",
      "text/plain": [
       "<Figure size 432x288 with 1 Axes>"
      ]
     },
     "metadata": {},
     "output_type": "display_data"
    }
   ],
   "source": [
    "groups = consecutiveFlagsGroups(ts=Y)\n",
    "\n",
    "ax = groups.value_counts().drop(-1).value_counts().sort_index().plot.bar(title='Waterbag events by hour duration')\n",
    "ax.set(xlabel='Hour duration'); plt.show()"
   ]
  },
  {
   "cell_type": "markdown",
   "metadata": {},
   "source": [
    "## Minority Group Shuffle Split + Undersample"
   ]
  },
  {
   "cell_type": "markdown",
   "metadata": {},
   "source": [
    "### Perform splits"
   ]
  },
  {
   "cell_type": "code",
   "execution_count": 27,
   "metadata": {},
   "outputs": [],
   "source": [
    "splitter = MinorityGroupSplitUndersample(\n",
    "    n_splits=25, test_size=.2,\n",
    "    train_prct=10, test_prct=None,\n",
    "    random_state=0\n",
    ")\n",
    "cv = list(splitter.split(\n",
    "    X, Y, groups, strategy='GroupShuffleSplit'\n",
    "))\n",
    "\n",
    "t_ind, e_ind = cv[0][0], cv[0][1]\n",
    "xt, xe, yt, ye = X.iloc[t_ind], X.iloc[e_ind], Y.iloc[t_ind], Y.iloc[e_ind]"
   ]
  },
  {
   "cell_type": "markdown",
   "metadata": {},
   "source": [
    "### Single split visually"
   ]
  },
  {
   "cell_type": "code",
   "execution_count": 28,
   "metadata": {},
   "outputs": [
    {
     "data": {
      "image/png": "[encoded data removed]",
      "text/plain": [
       "<Figure size 432x288 with 1 Axes>"
      ]
     },
     "metadata": {},
     "output_type": "display_data"
    }
   ],
   "source": [
    "yt_mino = yt == 1\n",
    "ye_mino = ye == 1\n",
    "yt_rand = np.random.normal(0.5, 1, len(yt[yt_mino]))\n",
    "ye_rand = np.random.normal(0.5, 1, len(ye[ye_mino]))\n",
    "plt.scatter(yt[yt_mino].index, yt_rand)\n",
    "plt.scatter(ye[ye_mino].index, ye_rand)\n",
    "# plt.xlim((2018;,2022))\n",
    "plt.show()"
   ]
  },
  {
   "cell_type": "markdown",
   "metadata": {},
   "source": [
    "### Model and evaluate single event group"
   ]
  },
  {
   "cell_type": "code",
   "execution_count": 29,
   "metadata": {},
   "outputs": [
    {
     "data": {
      "text/html": [
       "<div>\n",
       "<style scoped>\n",
       "    .dataframe tbody tr th:only-of-type {\n",
       "        vertical-align: middle;\n",
       "    }\n",
       "\n",
       "    .dataframe tbody tr th {\n",
       "        vertical-align: top;\n",
       "    }\n",
       "\n",
       "    .dataframe thead th {\n",
       "        text-align: right;\n",
       "    }\n",
       "</style>\n",
       "<table border=\"1\" class=\"dataframe\">\n",
       "  <thead>\n",
       "    <tr style=\"text-align: right;\">\n",
       "      <th></th>\n",
       "      <th>precision</th>\n",
       "      <th>recall</th>\n",
       "      <th>f1-score</th>\n",
       "      <th>support</th>\n",
       "    </tr>\n",
       "  </thead>\n",
       "  <tbody>\n",
       "    <tr>\n",
       "      <th>0</th>\n",
       "      <td>0.999684</td>\n",
       "      <td>0.899121</td>\n",
       "      <td>0.946740</td>\n",
       "      <td>56335.000000</td>\n",
       "    </tr>\n",
       "    <tr>\n",
       "      <th>1</th>\n",
       "      <td>0.009067</td>\n",
       "      <td>0.764706</td>\n",
       "      <td>0.017922</td>\n",
       "      <td>68.000000</td>\n",
       "    </tr>\n",
       "    <tr>\n",
       "      <th>accuracy</th>\n",
       "      <td>0.898959</td>\n",
       "      <td>0.898959</td>\n",
       "      <td>0.898959</td>\n",
       "      <td>0.898959</td>\n",
       "    </tr>\n",
       "    <tr>\n",
       "      <th>macro avg</th>\n",
       "      <td>0.504376</td>\n",
       "      <td>0.831914</td>\n",
       "      <td>0.482331</td>\n",
       "      <td>56403.000000</td>\n",
       "    </tr>\n",
       "    <tr>\n",
       "      <th>weighted avg</th>\n",
       "      <td>0.998490</td>\n",
       "      <td>0.898959</td>\n",
       "      <td>0.945620</td>\n",
       "      <td>56403.000000</td>\n",
       "    </tr>\n",
       "  </tbody>\n",
       "</table>\n",
       "</div>"
      ],
      "text/plain": [
       "              precision    recall  f1-score       support\n",
       "0              0.999684  0.899121  0.946740  56335.000000\n",
       "1              0.009067  0.764706  0.017922     68.000000\n",
       "accuracy       0.898959  0.898959  0.898959      0.898959\n",
       "macro avg      0.504376  0.831914  0.482331  56403.000000\n",
       "weighted avg   0.998490  0.898959  0.945620  56403.000000"
      ]
     },
     "metadata": {},
     "output_type": "display_data"
    }
   ],
   "source": [
    "model = brfc(random_state=0)\n",
    "\n",
    "model.fit(xt, yt)  # Fit model with train data\n",
    "yhat = model.predict(xe)  # Make predictions\n",
    "scrs = pd.DataFrame(cr(ye, yhat, output_dict=True)).T  # Evaluate model prediction\n",
    "display(scrs)"
   ]
  },
  {
   "cell_type": "markdown",
   "metadata": {},
   "source": [
    "### Evaluate multiple random group splits"
   ]
  },
  {
   "cell_type": "code",
   "execution_count": 30,
   "metadata": {},
   "outputs": [
    {
     "name": "stderr",
     "output_type": "stream",
     "text": [
      "[Parallel(n_jobs=-1)]: Using backend LokyBackend with 4 concurrent workers.\n",
      "[Parallel(n_jobs=-1)]: Done  25 out of  25 | elapsed:   23.1s finished\n"
     ]
    },
    {
     "data": {
      "text/html": [
       "<div>\n",
       "<style scoped>\n",
       "    .dataframe tbody tr th:only-of-type {\n",
       "        vertical-align: middle;\n",
       "    }\n",
       "\n",
       "    .dataframe tbody tr th {\n",
       "        vertical-align: top;\n",
       "    }\n",
       "\n",
       "    .dataframe thead th {\n",
       "        text-align: right;\n",
       "    }\n",
       "</style>\n",
       "<table border=\"1\" class=\"dataframe\">\n",
       "  <thead>\n",
       "    <tr style=\"text-align: right;\">\n",
       "      <th></th>\n",
       "      <th>test_recall</th>\n",
       "      <th>test_precision</th>\n",
       "    </tr>\n",
       "  </thead>\n",
       "  <tbody>\n",
       "    <tr>\n",
       "      <th>count</th>\n",
       "      <td>25.000000</td>\n",
       "      <td>25.000000</td>\n",
       "    </tr>\n",
       "    <tr>\n",
       "      <th>mean</th>\n",
       "      <td>0.822944</td>\n",
       "      <td>0.008773</td>\n",
       "    </tr>\n",
       "    <tr>\n",
       "      <th>std</th>\n",
       "      <td>0.075737</td>\n",
       "      <td>0.001036</td>\n",
       "    </tr>\n",
       "    <tr>\n",
       "      <th>min</th>\n",
       "      <td>0.644068</td>\n",
       "      <td>0.006587</td>\n",
       "    </tr>\n",
       "    <tr>\n",
       "      <th>25%</th>\n",
       "      <td>0.764706</td>\n",
       "      <td>0.008347</td>\n",
       "    </tr>\n",
       "    <tr>\n",
       "      <th>50%</th>\n",
       "      <td>0.838710</td>\n",
       "      <td>0.008824</td>\n",
       "    </tr>\n",
       "    <tr>\n",
       "      <th>75%</th>\n",
       "      <td>0.877193</td>\n",
       "      <td>0.009422</td>\n",
       "    </tr>\n",
       "    <tr>\n",
       "      <th>max</th>\n",
       "      <td>0.964286</td>\n",
       "      <td>0.011115</td>\n",
       "    </tr>\n",
       "  </tbody>\n",
       "</table>\n",
       "</div>"
      ],
      "text/plain": [
       "       test_recall  test_precision\n",
       "count    25.000000       25.000000\n",
       "mean      0.822944        0.008773\n",
       "std       0.075737        0.001036\n",
       "min       0.644068        0.006587\n",
       "25%       0.764706        0.008347\n",
       "50%       0.838710        0.008824\n",
       "75%       0.877193        0.009422\n",
       "max       0.964286        0.011115"
      ]
     },
     "execution_count": 30,
     "metadata": {},
     "output_type": "execute_result"
    }
   ],
   "source": [
    "y_scrs = pd.DataFrame(cross_validate(model, X, Y, cv=cv, scoring=['recall', 'precision'], verbose=2, n_jobs=-1))\n",
    "\n",
    "y_scrs[['test_recall', 'test_precision']].describe()"
   ]
  }
 ],
 "metadata": {
  "kernelspec": {
   "display_name": "Python 3",
   "language": "python",
   "name": "python3"
  },
  "language_info": {
   "codemirror_mode": {
    "name": "ipython",
    "version": 3
   },
   "file_extension": ".py",
   "mimetype": "text/x-python",
   "name": "python",
   "nbconvert_exporter": "python",
   "pygments_lexer": "ipython3",
   "version": "3.8.3"
  }
 },
 "nbformat": 4,
 "nbformat_minor": 4
}
