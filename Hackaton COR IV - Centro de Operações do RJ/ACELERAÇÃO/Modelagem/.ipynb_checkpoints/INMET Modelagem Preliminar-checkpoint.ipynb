{
 "cells": [
  {
   "cell_type": "markdown",
   "metadata": {},
   "source": [
    "# INMET DATA PREPROCESSING"
   ]
  },
  {
   "cell_type": "markdown",
   "metadata": {},
   "source": [
    "#### Import modules and libraries"
   ]
  },
  {
   "cell_type": "code",
   "execution_count": 61,
   "metadata": {},
   "outputs": [],
   "source": [
    "import os, pandas as pd, numpy as np, matplotlib.pyplot as plt, seaborn as sns; sns.set()\n",
    "from IPython.display import clear_output as co"
   ]
  },
  {
   "cell_type": "markdown",
   "metadata": {},
   "source": [
    "#### Load INMET metheorlogical stations data"
   ]
  },
  {
   "cell_type": "code",
   "execution_count": 62,
   "metadata": {},
   "outputs": [
    {
     "data": {
      "text/plain": [
       "(108864, 65)"
      ]
     },
     "execution_count": 62,
     "metadata": {},
     "output_type": "execute_result"
    }
   ],
   "source": [
    "inmet = pd.read_csv('../Dados/Clean/INMET.csv', index_col=0)\n",
    "\n",
    "inmet.set_index(pd.to_datetime(inmet.index), inplace=True); inmet.shape"
   ]
  },
  {
   "cell_type": "markdown",
   "metadata": {},
   "source": [
    "#### Load water bag catalog and incident clusters"
   ]
  },
  {
   "cell_type": "code",
   "execution_count": 63,
   "metadata": {},
   "outputs": [
    {
     "data": {
      "text/plain": [
       "((3140, 20), (2983, 20))"
      ]
     },
     "execution_count": 63,
     "metadata": {},
     "output_type": "execute_result"
    }
   ],
   "source": [
    "bolsoes = pd.read_csv('../Dados/water_bag_catalog_google.csv', index_col=0)\n",
    "clusters = pd.read_csv('../Dados/water_bag_clusters.csv', index_col=0)\n",
    "\n",
    "bolsoes.shape, clusters.shape"
   ]
  },
  {
   "cell_type": "markdown",
   "metadata": {},
   "source": [
    "### Load labeled time series"
   ]
  },
  {
   "cell_type": "code",
   "execution_count": 64,
   "metadata": {},
   "outputs": [
    {
     "data": {
      "text/plain": [
       "(108863, 4)"
      ]
     },
     "execution_count": 64,
     "metadata": {},
     "output_type": "execute_result"
    }
   ],
   "source": [
    "event_ts = pd.read_csv('../Dados/Transform/labeled_timeserie_inmet', index_col=0)\n",
    "\n",
    "event_ts.set_index(pd.to_datetime(event_ts.index), inplace=True); event_ts.shape"
   ]
  },
  {
   "cell_type": "markdown",
   "metadata": {},
   "source": [
    "---\n",
    "# 1. Preprocessing"
   ]
  },
  {
   "cell_type": "markdown",
   "metadata": {},
   "source": [
    "### Create events collection\n",
    "   0. Event id\n",
    "   1. Start time\n",
    "   2. End time\n",
    "   3. Group"
   ]
  },
  {
   "cell_type": "code",
   "execution_count": 65,
   "metadata": {},
   "outputs": [
    {
     "data": {
      "text/html": [
       "<div>\n",
       "<style scoped>\n",
       "    .dataframe tbody tr th:only-of-type {\n",
       "        vertical-align: middle;\n",
       "    }\n",
       "\n",
       "    .dataframe tbody tr th {\n",
       "        vertical-align: top;\n",
       "    }\n",
       "\n",
       "    .dataframe thead th {\n",
       "        text-align: right;\n",
       "    }\n",
       "</style>\n",
       "<table border=\"1\" class=\"dataframe\">\n",
       "  <thead>\n",
       "    <tr style=\"text-align: right;\">\n",
       "      <th></th>\n",
       "      <th>EVENTO_INICIO</th>\n",
       "      <th>EVENTO_FIM</th>\n",
       "      <th>sublabel</th>\n",
       "    </tr>\n",
       "    <tr>\n",
       "      <th>EVENTO_ID</th>\n",
       "      <th></th>\n",
       "      <th></th>\n",
       "      <th></th>\n",
       "    </tr>\n",
       "  </thead>\n",
       "  <tbody>\n",
       "    <tr>\n",
       "      <th>1258</th>\n",
       "      <td>2015-09-12 20:12:00</td>\n",
       "      <td>2015-09-13 03:39:00</td>\n",
       "      <td>12</td>\n",
       "    </tr>\n",
       "    <tr>\n",
       "      <th>1259</th>\n",
       "      <td>2015-09-12 22:13:00</td>\n",
       "      <td>2015-09-13 01:21:00</td>\n",
       "      <td>-1</td>\n",
       "    </tr>\n",
       "    <tr>\n",
       "      <th>1260</th>\n",
       "      <td>2015-09-12 22:15:00</td>\n",
       "      <td>2015-09-13 01:20:00</td>\n",
       "      <td>-1</td>\n",
       "    </tr>\n",
       "    <tr>\n",
       "      <th>1261</th>\n",
       "      <td>2015-09-12 22:16:00</td>\n",
       "      <td>2015-09-13 01:20:00</td>\n",
       "      <td>-1</td>\n",
       "    </tr>\n",
       "  </tbody>\n",
       "</table>\n",
       "</div>"
      ],
      "text/plain": [
       "                EVENTO_INICIO          EVENTO_FIM  sublabel\n",
       "EVENTO_ID                                                  \n",
       "1258      2015-09-12 20:12:00 2015-09-13 03:39:00        12\n",
       "1259      2015-09-12 22:13:00 2015-09-13 01:21:00        -1\n",
       "1260      2015-09-12 22:15:00 2015-09-13 01:20:00        -1\n",
       "1261      2015-09-12 22:16:00 2015-09-13 01:20:00        -1"
      ]
     },
     "metadata": {},
     "output_type": "display_data"
    },
    {
     "data": {
      "text/plain": [
       "(2983, 3)"
      ]
     },
     "metadata": {},
     "output_type": "display_data"
    }
   ],
   "source": [
    "events = bolsoes[['EVENTO_INICIO', 'EVENTO_FIM']].apply(pd.to_datetime)\n",
    "events = events.join(clusters['sublabel'], how='inner')\n",
    "\n",
    "display(events.head(4)); display(events.shape)"
   ]
  },
  {
   "cell_type": "markdown",
   "metadata": {},
   "source": [
    "#### Drop outlier and duplicate events (Optional)"
   ]
  },
  {
   "cell_type": "code",
   "execution_count": 66,
   "metadata": {},
   "outputs": [
    {
     "data": {
      "text/plain": [
       "(2983, 3)"
      ]
     },
     "execution_count": 66,
     "metadata": {},
     "output_type": "execute_result"
    }
   ],
   "source": [
    "# events = events[events['sublabel'] != -1]\n",
    "# events = events.drop_duplicates().set_index('EVENTO_INICIO')\n",
    "\n",
    "events.shape"
   ]
  },
  {
   "cell_type": "markdown",
   "metadata": {},
   "source": [
    "---\n",
    "# Preliminary modeling - Hourly incident model"
   ]
  },
  {
   "cell_type": "markdown",
   "metadata": {},
   "source": [
    "#### Import preprocessing and machine learning modules"
   ]
  },
  {
   "cell_type": "code",
   "execution_count": 67,
   "metadata": {},
   "outputs": [],
   "source": [
    "from sklearn.preprocessing import MinMaxScaler as mms\n",
    "from Modulos.cv_samplers import GroupUnderSampleSplit, print_cls_cnt\n",
    "\n",
    "from sklearn.utils import all_estimators\n",
    "from sklearn.metrics import classification_report as cr\n",
    "\n",
    "classifiers = dict(all_estimators('classifier'))"
   ]
  },
  {
   "cell_type": "markdown",
   "metadata": {},
   "source": [
    "## Data transformation"
   ]
  },
  {
   "cell_type": "code",
   "execution_count": 68,
   "metadata": {},
   "outputs": [
    {
     "name": "stdout",
     "output_type": "stream",
     "text": [
      "Time serie extraction: (58922, 65)\n",
      "Drop empty columns:  (58922, 52)\n",
      "Drop empty rows:  (58910, 52)\n"
     ]
    }
   ],
   "source": [
    "#### Extract features dataset - Time serie section after first recorded incident\n",
    "X = inmet[inmet.index > events['EVENTO_INICIO'].min()].iloc[:-1].copy()\n",
    "print('Time serie extraction:', X.shape)\n",
    "\n",
    "#### Drop X empty columns and rows\n",
    "X = X.loc[:, X.isna().mean() < 1]; print('Drop empty columns: ', X.shape)\n",
    "X = X.loc[X.isna().mean(1) < 1]; print('Drop empty rows: ', X.shape)\n",
    "\n",
    "#### Scale X\n",
    "X = pd.DataFrame(mms().fit_transform(X), columns=X.columns, index=X.index)\n",
    "\n",
    "#### Interpolate X missing values\n",
    "X = X.interpolate('linear')\n",
    "\n",
    "#### Fill missing values with the minimum column value\n",
    "for col in X:\n",
    "    X[col].fillna(X[col].min(), inplace=True)\n",
    "\n",
    "#### Extract target label variable\n",
    "Y = event_ts['label'].loc[X.index].copy()"
   ]
  },
  {
   "cell_type": "markdown",
   "metadata": {},
   "source": [
    "## Split train and test samples"
   ]
  },
  {
   "cell_type": "code",
   "execution_count": 69,
   "metadata": {},
   "outputs": [
    {
     "name": "stderr",
     "output_type": "stream",
     "text": [
      "c:\\Users\\luisr\\anaconda3\\lib\\site-packages\\imblearn\\utils\\_validation.py:587: FutureWarning: Pass sampling_strategy=1.0 as keyword args. From version 0.9 passing these as positional arguments will result in an error\n",
      "  warnings.warn(\n"
     ]
    },
    {
     "data": {
      "text/html": [
       "<div>\n",
       "<style scoped>\n",
       "    .dataframe tbody tr th:only-of-type {\n",
       "        vertical-align: middle;\n",
       "    }\n",
       "\n",
       "    .dataframe tbody tr th {\n",
       "        vertical-align: top;\n",
       "    }\n",
       "\n",
       "    .dataframe thead th {\n",
       "        text-align: right;\n",
       "    }\n",
       "</style>\n",
       "<table border=\"1\" class=\"dataframe\">\n",
       "  <thead>\n",
       "    <tr style=\"text-align: right;\">\n",
       "      <th></th>\n",
       "      <th>Train set</th>\n",
       "      <th>Test set</th>\n",
       "    </tr>\n",
       "    <tr>\n",
       "      <th>Class</th>\n",
       "      <th></th>\n",
       "      <th></th>\n",
       "    </tr>\n",
       "  </thead>\n",
       "  <tbody>\n",
       "    <tr>\n",
       "      <th>0</th>\n",
       "      <td>4487</td>\n",
       "      <td>48742</td>\n",
       "    </tr>\n",
       "    <tr>\n",
       "      <th>1</th>\n",
       "      <td>4488</td>\n",
       "      <td>1193</td>\n",
       "    </tr>\n",
       "  </tbody>\n",
       "</table>\n",
       "</div>"
      ],
      "text/plain": [
       "       Train set  Test set\n",
       "Class                     \n",
       "0           4487     48742\n",
       "1           4488      1193"
      ]
     },
     "metadata": {},
     "output_type": "display_data"
    }
   ],
   "source": [
    "#### Splitter Instance\n",
    "guss = GroupUnderSampleSplit(\n",
    "    train_size=0.79, train_prct=1,             # related to minority class size in given sample   # related to minotiy class size in train and test sets\n",
    "    test_size=0.2, test_prct=None,\n",
    ")\n",
    "\n",
    "#### Train and test x and y dataframes\n",
    "xt, xe, yt, ye = guss.undersample(\n",
    "    X, Y, # cnt=None, shuffle=False, random_state=0\n",
    ")\n",
    "\n",
    "print_cls_cnt(Y, yt.index, ye.index)"
   ]
  },
  {
   "cell_type": "markdown",
   "metadata": {},
   "source": [
    "## Modeling"
   ]
  },
  {
   "cell_type": "code",
   "execution_count": 70,
   "metadata": {},
   "outputs": [
    {
     "name": "stdout",
     "output_type": "stream",
     "text": [
      "              precision    recall  f1-score   support\n",
      "\n",
      "           0       0.99      0.81      0.90     48742\n",
      "           1       0.09      0.80      0.17      1193\n",
      "\n",
      "    accuracy                           0.81     49935\n",
      "   macro avg       0.54      0.81      0.53     49935\n",
      "weighted avg       0.97      0.81      0.88     49935\n",
      "\n"
     ]
    }
   ],
   "source": [
    "gbc = classifiers['GradientBoostingClassifier']\n",
    "\n",
    "#### Fit model with train data\n",
    "model = gbc(n_estimators=100, verbose=0).fit(xt, yt)\n",
    "\n",
    "#### Make predictions\n",
    "yhat = model.predict(xe)\n",
    "\n",
    "#### Evaluate predictions\n",
    "print(cr(ye, yhat))"
   ]
  },
  {
   "cell_type": "markdown",
   "metadata": {},
   "source": [
    "#### Feature importance"
   ]
  },
  {
   "cell_type": "code",
   "execution_count": 71,
   "metadata": {},
   "outputs": [
    {
     "data": {
      "image/png": "[encoded data removed]",
      "text/plain": [
       "<Figure size 288x158.4 with 1 Axes>"
      ]
     },
     "metadata": {},
     "output_type": "display_data"
    }
   ],
   "source": [
    "fi = pd.Series(model.feature_importances_, index=X.columns).sort_values(ascending=False)\n",
    "\n",
    "ax = fi.head(10).plot.bar(figsize=(4, 2.2))"
   ]
  },
  {
   "cell_type": "markdown",
   "metadata": {},
   "source": [
    "---\n",
    "# Exploratory Data Analaysis"
   ]
  },
  {
   "cell_type": "markdown",
   "metadata": {},
   "source": [
    "#### Events starting at the same time"
   ]
  },
  {
   "cell_type": "code",
   "execution_count": 72,
   "metadata": {},
   "outputs": [
    {
     "data": {
      "text/plain": [
       "(116, 2)"
      ]
     },
     "execution_count": 72,
     "metadata": {},
     "output_type": "execute_result"
    }
   ],
   "source": [
    "event_count = events['EVENTO_INICIO'].value_counts()\n",
    "dup_events = event_count[event_count>1].index\n",
    "dup_events = events.set_index('EVENTO_INICIO').loc[dup_events]\n",
    "\n",
    "dup_events.shape"
   ]
  },
  {
   "cell_type": "markdown",
   "metadata": {},
   "source": [
    "#### Events at the same time with more than one label"
   ]
  },
  {
   "cell_type": "code",
   "execution_count": 73,
   "metadata": {},
   "outputs": [
    {
     "data": {
      "text/plain": [
       "EVENTO_FIM    0.964286\n",
       "sublabel      0.571429\n",
       "dtype: float64"
      ]
     },
     "execution_count": 73,
     "metadata": {},
     "output_type": "execute_result"
    }
   ],
   "source": [
    "(dup_events.groupby('EVENTO_INICIO').nunique()!=1).mean()"
   ]
  },
  {
   "cell_type": "markdown",
   "metadata": {},
   "source": [
    "#### Event time frequency"
   ]
  },
  {
   "cell_type": "code",
   "execution_count": 74,
   "metadata": {},
   "outputs": [
    {
     "data": {
      "text/plain": [
       "0    0.947696\n",
       "1    0.052304\n",
       "Name: label, dtype: float64"
      ]
     },
     "execution_count": 74,
     "metadata": {},
     "output_type": "execute_result"
    }
   ],
   "source": [
    "event_ts['label'].value_counts() / len(event_ts)"
   ]
  },
  {
   "cell_type": "markdown",
   "metadata": {},
   "source": [
    "#### Hour (row) count per number of incidents"
   ]
  },
  {
   "cell_type": "code",
   "execution_count": 75,
   "metadata": {},
   "outputs": [
    {
     "data": {
      "image/png": "[encoded data removed]",
      "text/plain": [
       "<Figure size 432x288 with 1 Axes>"
      ]
     },
     "metadata": {},
     "output_type": "display_data"
    }
   ],
   "source": [
    "ax = event_ts['events'].value_counts().sort_index()[1:].plot.bar(title='Time series hour count per nº of incidents')\n",
    "ax.set(xlabel='Nº of water bag incidents', ylabel='Hours count'); plt.show()"
   ]
  },
  {
   "cell_type": "markdown",
   "metadata": {},
   "source": [
    "### Correlation analysis"
   ]
  },
  {
   "cell_type": "code",
   "execution_count": 76,
   "metadata": {},
   "outputs": [
    {
     "data": {
      "image/png": "[encoded data removed]",
      "text/plain": [
       "<Figure size 432x288 with 2 Axes>"
      ]
     },
     "metadata": {},
     "output_type": "display_data"
    }
   ],
   "source": [
    "corr = pd.concat([X, Y], 1).corr()[[Y.name]].sort_values(Y.name, ascending=False)\n",
    "\n",
    "ax = sns.heatmap(corr.head(10))"
   ]
  }
 ],
 "metadata": {
  "kernelspec": {
   "display_name": "Python 3",
   "language": "python",
   "name": "python3"
  },
  "language_info": {
   "codemirror_mode": {
    "name": "ipython",
    "version": 3
   },
   "file_extension": ".py",
   "mimetype": "text/x-python",
   "name": "python",
   "nbconvert_exporter": "python",
   "pygments_lexer": "ipython3",
   "version": "3.8.3"
  }
 },
 "nbformat": 4,
 "nbformat_minor": 4
}
