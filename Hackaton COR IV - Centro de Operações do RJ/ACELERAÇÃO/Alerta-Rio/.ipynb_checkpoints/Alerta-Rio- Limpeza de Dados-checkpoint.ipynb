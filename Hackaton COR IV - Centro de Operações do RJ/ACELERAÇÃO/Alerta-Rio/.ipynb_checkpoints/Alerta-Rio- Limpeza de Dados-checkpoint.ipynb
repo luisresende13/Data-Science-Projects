{
 "cells": [
  {
   "cell_type": "markdown",
   "metadata": {},
   "source": [
    "# Alerta-Rio METHEOROLOGICAL STATIONS RECORDS - DATA CLEANING"
   ]
  },
  {
   "cell_type": "markdown",
   "metadata": {},
   "source": [
    "#### Import modules and libraries"
   ]
  },
  {
   "cell_type": "code",
   "execution_count": 1,
   "metadata": {},
   "outputs": [],
   "source": [
    "import os, json\n",
    "import pandas as pd, numpy as np\n",
    "import matplotlib.pyplot as plt, seaborn as sns; sns.set()\n",
    "from IPython.display import clear_output as co"
   ]
  },
  {
   "cell_type": "markdown",
   "metadata": {},
   "source": [
    "#### Change project root folder"
   ]
  },
  {
   "cell_type": "code",
   "execution_count": 2,
   "metadata": {},
   "outputs": [
    {
     "name": "stdout",
     "output_type": "stream",
     "text": [
      "C:\\Users\\luisr\\Desktop\\Repositories\\Data Science Projects\\Hackaton COR IV - Centro de Operações do RJ\\ACELERAÇÃO\n"
     ]
    }
   ],
   "source": [
    "cd ../"
   ]
  },
  {
   "cell_type": "markdown",
   "metadata": {},
   "source": [
    "#### Load dataset - Inmet metheorological stations' hourly records"
   ]
  },
  {
   "cell_type": "code",
   "execution_count": 3,
   "metadata": {},
   "outputs": [
    {
     "data": {
      "text/html": [
       "<div>\n",
       "<style scoped>\n",
       "    .dataframe tbody tr th:only-of-type {\n",
       "        vertical-align: middle;\n",
       "    }\n",
       "\n",
       "    .dataframe tbody tr th {\n",
       "        vertical-align: top;\n",
       "    }\n",
       "\n",
       "    .dataframe thead th {\n",
       "        text-align: right;\n",
       "    }\n",
       "</style>\n",
       "<table border=\"1\" class=\"dataframe\">\n",
       "  <thead>\n",
       "    <tr style=\"text-align: right;\">\n",
       "      <th></th>\n",
       "      <th>primary_key</th>\n",
       "      <th>id_estacao</th>\n",
       "      <th>acumulado_chuva_15_min</th>\n",
       "      <th>acumulado_chuva_1_h</th>\n",
       "      <th>acumulado_chuva_4_h</th>\n",
       "      <th>acumulado_chuva_24_h</th>\n",
       "      <th>acumulado_chuva_96_h</th>\n",
       "      <th>horario</th>\n",
       "      <th>data_particao</th>\n",
       "    </tr>\n",
       "  </thead>\n",
       "  <tbody>\n",
       "    <tr>\n",
       "      <th>0</th>\n",
       "      <td>13_2017-10-08 06:45:00</td>\n",
       "      <td>13</td>\n",
       "      <td>0.0</td>\n",
       "      <td>0.0</td>\n",
       "      <td>0.0</td>\n",
       "      <td>NaN</td>\n",
       "      <td>NaN</td>\n",
       "      <td>06:45:00</td>\n",
       "      <td>2017-10-08</td>\n",
       "    </tr>\n",
       "    <tr>\n",
       "      <th>1</th>\n",
       "      <td>15_2017-10-09 06:15:00</td>\n",
       "      <td>15</td>\n",
       "      <td>0.0</td>\n",
       "      <td>0.0</td>\n",
       "      <td>0.0</td>\n",
       "      <td>NaN</td>\n",
       "      <td>NaN</td>\n",
       "      <td>06:15:00</td>\n",
       "      <td>2017-10-09</td>\n",
       "    </tr>\n",
       "    <tr>\n",
       "      <th>2</th>\n",
       "      <td>15_2017-10-09 00:15:00</td>\n",
       "      <td>15</td>\n",
       "      <td>0.0</td>\n",
       "      <td>0.0</td>\n",
       "      <td>0.0</td>\n",
       "      <td>NaN</td>\n",
       "      <td>NaN</td>\n",
       "      <td>00:15:00</td>\n",
       "      <td>2017-10-09</td>\n",
       "    </tr>\n",
       "    <tr>\n",
       "      <th>3</th>\n",
       "      <td>15_2017-10-09 02:45:00</td>\n",
       "      <td>15</td>\n",
       "      <td>0.0</td>\n",
       "      <td>0.0</td>\n",
       "      <td>0.0</td>\n",
       "      <td>NaN</td>\n",
       "      <td>NaN</td>\n",
       "      <td>02:45:00</td>\n",
       "      <td>2017-10-09</td>\n",
       "    </tr>\n",
       "    <tr>\n",
       "      <th>4</th>\n",
       "      <td>15_2017-10-09 00:45:00</td>\n",
       "      <td>15</td>\n",
       "      <td>0.0</td>\n",
       "      <td>0.0</td>\n",
       "      <td>0.0</td>\n",
       "      <td>NaN</td>\n",
       "      <td>NaN</td>\n",
       "      <td>00:45:00</td>\n",
       "      <td>2017-10-09</td>\n",
       "    </tr>\n",
       "  </tbody>\n",
       "</table>\n",
       "</div>"
      ],
      "text/plain": [
       "              primary_key  id_estacao  acumulado_chuva_15_min  \\\n",
       "0  13_2017-10-08 06:45:00          13                     0.0   \n",
       "1  15_2017-10-09 06:15:00          15                     0.0   \n",
       "2  15_2017-10-09 00:15:00          15                     0.0   \n",
       "3  15_2017-10-09 02:45:00          15                     0.0   \n",
       "4  15_2017-10-09 00:45:00          15                     0.0   \n",
       "\n",
       "   acumulado_chuva_1_h  acumulado_chuva_4_h  acumulado_chuva_24_h  \\\n",
       "0                  0.0                  0.0                   NaN   \n",
       "1                  0.0                  0.0                   NaN   \n",
       "2                  0.0                  0.0                   NaN   \n",
       "3                  0.0                  0.0                   NaN   \n",
       "4                  0.0                  0.0                   NaN   \n",
       "\n",
       "   acumulado_chuva_96_h   horario data_particao  \n",
       "0                   NaN  06:45:00    2017-10-08  \n",
       "1                   NaN  06:15:00    2017-10-09  \n",
       "2                   NaN  00:15:00    2017-10-09  \n",
       "3                   NaN  02:45:00    2017-10-09  \n",
       "4                   NaN  00:45:00    2017-10-09  "
      ]
     },
     "execution_count": 3,
     "metadata": {},
     "output_type": "execute_result"
    }
   ],
   "source": [
    "alerta_rio = pd.read_csv(\n",
    "    '../../../Dados/Desafio COR-Rio IV/Meio Ambiente Clima/Meteorologia_AlertaRio.csv'\n",
    "); alerta_rio.head(5)"
   ]
  },
  {
   "cell_type": "markdown",
   "metadata": {},
   "source": [
    "---\n",
    "# Preprocess & Data Cleaning "
   ]
  },
  {
   "cell_type": "markdown",
   "metadata": {},
   "source": [
    "#### Columns per type"
   ]
  },
  {
   "cell_type": "code",
   "execution_count": 4,
   "metadata": {},
   "outputs": [],
   "source": [
    "id_cols = ['primary_key', 'id_estacao', 'data_particao', 'horario']\n",
    "float_cols = list(set(alerta_rio.columns).difference(id_cols))\n",
    "\n",
    "alerta_rio['id_estacao'] = alerta_rio['id_estacao'].astype(str)"
   ]
  },
  {
   "cell_type": "markdown",
   "metadata": {},
   "source": [
    "#### Average duplicates"
   ]
  },
  {
   "cell_type": "code",
   "execution_count": 5,
   "metadata": {},
   "outputs": [
    {
     "data": {
      "text/plain": [
       "(7865593, 7865001, 7865001)"
      ]
     },
     "execution_count": 5,
     "metadata": {},
     "output_type": "execute_result"
    }
   ],
   "source": [
    "id_columns = alerta_rio[id_cols].drop_duplicates('primary_key')\n",
    "num_columns = alerta_rio.groupby('primary_key').mean()\n",
    "\n",
    "data = id_columns.join(num_columns, how='left', on='primary_key')\n",
    "len(alerta_rio), len(data), len(alerta_rio['primary_key'].unique())"
   ]
  },
  {
   "cell_type": "markdown",
   "metadata": {},
   "source": [
    "#### Set datetime index"
   ]
  },
  {
   "cell_type": "code",
   "execution_count": 6,
   "metadata": {},
   "outputs": [],
   "source": [
    "data.set_index(pd.to_datetime(data['data_particao'] + ' ' + data['horario']), inplace=True)"
   ]
  },
  {
   "cell_type": "markdown",
   "metadata": {},
   "source": [
    "#### Join stations data across horizontal axis"
   ]
  },
  {
   "cell_type": "code",
   "execution_count": 7,
   "metadata": {},
   "outputs": [
    {
     "data": {
      "text/plain": [
       "(238636, 170)"
      ]
     },
     "execution_count": 7,
     "metadata": {},
     "output_type": "execute_result"
    }
   ],
   "source": [
    "def concat_groups(data, key='id_estacao', cols=float_cols, how='outter'):\n",
    "    dfs = [data[cols][data[key]==group].add_suffix(' - ' + group) for group in data[key].unique()]\n",
    "    return pd.concat(dfs, 1, join=how)\n",
    "\n",
    "data_flat = concat_groups(data, 'id_estacao', float_cols, how='outer'); data_flat.shape # Same as unique index values size"
   ]
  },
  {
   "cell_type": "markdown",
   "metadata": {},
   "source": [
    "#### Drop recorsd missing date or time"
   ]
  },
  {
   "cell_type": "code",
   "execution_count": 8,
   "metadata": {},
   "outputs": [
    {
     "data": {
      "text/plain": [
       "(238635, 170)"
      ]
     },
     "execution_count": 8,
     "metadata": {},
     "output_type": "execute_result"
    }
   ],
   "source": [
    "data_flat = data_flat.loc[data_flat.index.dropna()]; data_flat.shape"
   ]
  },
  {
   "cell_type": "markdown",
   "metadata": {},
   "source": [
    "#### Fill missing records by upsampling to 15 minutes frequency"
   ]
  },
  {
   "cell_type": "code",
   "execution_count": 9,
   "metadata": {},
   "outputs": [
    {
     "data": {
      "text/plain": [
       "(239155, 170)"
      ]
     },
     "execution_count": 9,
     "metadata": {},
     "output_type": "execute_result"
    }
   ],
   "source": [
    "data_flat = data_flat.asfreq('15Min'); data_flat.shape # Same as hourly index range size"
   ]
  },
  {
   "cell_type": "markdown",
   "metadata": {},
   "source": [
    "#### Drop empty columns"
   ]
  },
  {
   "cell_type": "code",
   "execution_count": 14,
   "metadata": {},
   "outputs": [
    {
     "data": {
      "text/plain": [
       "(239155, 165)"
      ]
     },
     "execution_count": 14,
     "metadata": {},
     "output_type": "execute_result"
    }
   ],
   "source": [
    "thresh = data_flat.shape[0] * 0.01\n",
    "data_flat.dropna(1, inplace=True, thresh=thresh); data_flat.shape "
   ]
  },
  {
   "cell_type": "markdown",
   "metadata": {},
   "source": [
    "### Save & reload\n",
    "\n",
    "#### Save stations clean data"
   ]
  },
  {
   "cell_type": "code",
   "execution_count": 15,
   "metadata": {},
   "outputs": [],
   "source": [
    "data_flat.to_csv('Dados/Clean/ALERTA-RIO.csv', index=True)"
   ]
  },
  {
   "cell_type": "markdown",
   "metadata": {},
   "source": [
    "#### Reload & preprocessing"
   ]
  },
  {
   "cell_type": "code",
   "execution_count": 16,
   "metadata": {},
   "outputs": [
    {
     "data": {
      "text/plain": [
       "(239155, 165)"
      ]
     },
     "execution_count": 16,
     "metadata": {},
     "output_type": "execute_result"
    }
   ],
   "source": [
    "alerta_rio = pd.read_csv('Dados/Clean/ALERTA-RIO.csv', index_col=0)\n",
    "alerta_rio.set_index(pd.to_datetime(alerta_rio.index), inplace=True) # Convert index to datetime\n",
    "\n",
    "alerta_rio.shape"
   ]
  },
  {
   "cell_type": "markdown",
   "metadata": {},
   "source": [
    "### Extra: Missing values left"
   ]
  },
  {
   "cell_type": "code",
   "execution_count": 17,
   "metadata": {},
   "outputs": [
    {
     "data": {
      "image/png": "[encoded data removed]",
      "text/plain": [
       "<Figure size 864x216 with 2 Axes>"
      ]
     },
     "metadata": {},
     "output_type": "display_data"
    }
   ],
   "source": [
    "fig, axs = plt.subplots(1, 2, figsize=(12, 3))\n",
    "\n",
    "alerta_rio.isna().mean().sort_values().plot(xticks=[], title='Missing values per column sorted', ax=axs[0])\n",
    "axs[0].set(ylabel='Missing (%)', xlabel='Column')\n",
    "\n",
    "alerta_rio.isna().mean(1).sort_values().reset_index(drop=True).plot(xticks=[], title='Missing values per row sorted', ax=axs[1])\n",
    "axs[1].set(ylabel='Missing (%)', xlabel='Row')\n",
    "\n",
    "plt.show()"
   ]
  }
 ],
 "metadata": {
  "kernelspec": {
   "display_name": "Python 3",
   "language": "python",
   "name": "python3"
  },
  "language_info": {
   "codemirror_mode": {
    "name": "ipython",
    "version": 3
   },
   "file_extension": ".py",
   "mimetype": "text/x-python",
   "name": "python",
   "nbconvert_exporter": "python",
   "pygments_lexer": "ipython3",
   "version": "3.8.3"
  }
 },
 "nbformat": 4,
 "nbformat_minor": 4
}
