{
 "cells": [
  {
   "cell_type": "markdown",
   "metadata": {},
   "source": [
    "# EXPLORATORY DATA ANALYSIS - SISTEMA COMANDO\n",
    "\n",
    "### FOCUS ON INCIDENTS CAUSED BY METHEOROLOGICAL EVENTS"
   ]
  },
  {
   "cell_type": "markdown",
   "metadata": {},
   "source": [
    "---\n",
    "### Notebook Sections:\n",
    "1. Data cleaning\n",
    "    * Asses general quality of the dataset\n",
    "2. Extract water bag catalog\n",
    "    * Extract incident records with valid coordinates for predicive modeling\n",
    "    \n",
    "    \n",
    "3. Reverse geocode catalog coordinates\n",
    "5. Include geocode result to catalog\n",
    "5. Extra: Geocode result analysis"
   ]
  },
  {
   "cell_type": "markdown",
   "metadata": {},
   "source": [
    "### Import modules and functions"
   ]
  },
  {
   "cell_type": "code",
   "execution_count": 1,
   "metadata": {},
   "outputs": [],
   "source": [
    "import os, pandas as pd, numpy as np, matplotlib.pyplot as plt, seaborn as sns; sns.set()\n",
    "from IPython.display import clear_output as co\n",
    "import warnings; warnings.filterwarnings('ignore')\n",
    "\n",
    "class DATA:\n",
    "    path = r'C:\\Users\\luisr\\Desktop\\Repositories\\Dados\\Desafio COR-Rio IV\\\\comando.csv'\n",
    "    def load():\n",
    "        return pd.read_csv(DATA.path)"
   ]
  },
  {
   "cell_type": "markdown",
   "metadata": {},
   "source": [
    "### Load data"
   ]
  },
  {
   "cell_type": "code",
   "execution_count": 2,
   "metadata": {},
   "outputs": [],
   "source": [
    "comando = DATA.load()"
   ]
  },
  {
   "cell_type": "markdown",
   "metadata": {},
   "source": [
    "---\n",
    "# 1. Data Cleaning"
   ]
  },
  {
   "cell_type": "markdown",
   "metadata": {},
   "source": [
    "### 0. Extract raw water bag incidents records"
   ]
  },
  {
   "cell_type": "code",
   "execution_count": 3,
   "metadata": {},
   "outputs": [
    {
     "data": {
      "text/plain": [
       "((8956, 18), (196185, 18))"
      ]
     },
     "execution_count": 3,
     "metadata": {},
     "output_type": "execute_result"
    }
   ],
   "source": [
    "target = \"Bolsão d'água em via\"\n",
    "\n",
    "records = comando[comando['POP_TITULO']==target]\n",
    "records_left = comando.drop(records.index); comando = None\n",
    "\n",
    "data = records.reset_index(drop=False).rename(columns={'index': 'REGISTRO_ID'}) # extraction copy for data cleaning\n",
    "records.shape, records_left.shape # Extracted and left records shapes"
   ]
  },
  {
   "cell_type": "markdown",
   "metadata": {},
   "source": [
    "### 1. Convert time variables"
   ]
  },
  {
   "cell_type": "markdown",
   "metadata": {},
   "source": [
    "#### Convert event start and end dates and times to 'datetime64' type"
   ]
  },
  {
   "cell_type": "code",
   "execution_count": 4,
   "metadata": {},
   "outputs": [
    {
     "data": {
      "text/html": [
       "<div>\n",
       "<style scoped>\n",
       "    .dataframe tbody tr th:only-of-type {\n",
       "        vertical-align: middle;\n",
       "    }\n",
       "\n",
       "    .dataframe tbody tr th {\n",
       "        vertical-align: top;\n",
       "    }\n",
       "\n",
       "    .dataframe thead th {\n",
       "        text-align: right;\n",
       "    }\n",
       "</style>\n",
       "<table border=\"1\" class=\"dataframe\">\n",
       "  <thead>\n",
       "    <tr style=\"text-align: right;\">\n",
       "      <th></th>\n",
       "      <th>EVENTO_INICIO</th>\n",
       "    </tr>\n",
       "  </thead>\n",
       "  <tbody>\n",
       "    <tr>\n",
       "      <th>0</th>\n",
       "      <td>2015-04-10 15:59:00</td>\n",
       "    </tr>\n",
       "    <tr>\n",
       "      <th>1</th>\n",
       "      <td>2015-04-10 15:59:00</td>\n",
       "    </tr>\n",
       "    <tr>\n",
       "      <th>2</th>\n",
       "      <td>2015-04-10 15:59:00</td>\n",
       "    </tr>\n",
       "    <tr>\n",
       "      <th>3</th>\n",
       "      <td>2015-04-10 15:59:00</td>\n",
       "    </tr>\n",
       "    <tr>\n",
       "      <th>4</th>\n",
       "      <td>2015-05-05 07:52:00</td>\n",
       "    </tr>\n",
       "  </tbody>\n",
       "</table>\n",
       "</div>"
      ],
      "text/plain": [
       "        EVENTO_INICIO\n",
       "0 2015-04-10 15:59:00\n",
       "1 2015-04-10 15:59:00\n",
       "2 2015-04-10 15:59:00\n",
       "3 2015-04-10 15:59:00\n",
       "4 2015-05-05 07:52:00"
      ]
     },
     "metadata": {},
     "output_type": "display_data"
    },
    {
     "name": "stdout",
     "output_type": "stream",
     "text": [
      "Missing values count: 0\n"
     ]
    }
   ],
   "source": [
    "data['EVENTO_INICIO'] = pd.to_datetime(records['EVENTO_INICIO'] + ' ' + records['EVENTO_INICIO_HORA']).values\n",
    "data['EVENTO_FIM'] = pd.to_datetime(records['EVENTO_FIM'] + ' ' + records['EVENTO_FIM_HORA']).values\n",
    "\n",
    "display(data[['EVENTO_INICIO']].head())\n",
    "print('Missing values count:', data['EVENTO_INICIO'].isna().sum())"
   ]
  },
  {
   "cell_type": "markdown",
   "metadata": {},
   "source": [
    "### 2. Process geolocation variables"
   ]
  },
  {
   "cell_type": "markdown",
   "metadata": {},
   "source": [
    "#### Functions to process coordinates"
   ]
  },
  {
   "cell_type": "code",
   "execution_count": 5,
   "metadata": {},
   "outputs": [],
   "source": [
    "from Modules.decimals import correctMagnitude, dropBelowPrecision\n",
    "\n",
    "loc_cols = ['EVENTO_LATITUDE', 'EVENTO_LONGITUDE']"
   ]
  },
  {
   "cell_type": "markdown",
   "metadata": {},
   "source": [
    "#### 2.1 Correct coordinates order of magnitude (decimal place)"
   ]
  },
  {
   "cell_type": "code",
   "execution_count": 6,
   "metadata": {},
   "outputs": [],
   "source": [
    "correct_magnitude = 1\n",
    "\n",
    "# Correct order of magnitude of coordinates\n",
    "data['EVENTO_LATITUDE'] = correctMagnitude(records['EVENTO_LATITUDE'], mag=correct_magnitude)\n",
    "data['EVENTO_LONGITUDE'] = correctMagnitude(records['EVENTO_LONGITUDE'], mag=correct_magnitude)\n",
    "\n",
    "# fill with NaN for coordinate precision below 'min_precision'\n",
    "min_precision = 3\n",
    "\n",
    "data[loc_cols] = dropBelowPrecision(\n",
    "    data[loc_cols],\n",
    "    min_precision,\n",
    "    subset='all'\n",
    ")"
   ]
  },
  {
   "cell_type": "markdown",
   "metadata": {},
   "source": [
    "Obs: This method aims at excluding below defined precision. But it also excludes values with precision of 'min_precision', but ending with zero (1/10 of the values). For example, 22.9430 gets excluded even tough is 4 places precise."
   ]
  },
  {
   "cell_type": "markdown",
   "metadata": {},
   "source": [
    "#### 2.2 Percentage of invalid coordinates"
   ]
  },
  {
   "cell_type": "code",
   "execution_count": 7,
   "metadata": {},
   "outputs": [
    {
     "data": {
      "text/html": [
       "<div>\n",
       "<style scoped>\n",
       "    .dataframe tbody tr th:only-of-type {\n",
       "        vertical-align: middle;\n",
       "    }\n",
       "\n",
       "    .dataframe tbody tr th {\n",
       "        vertical-align: top;\n",
       "    }\n",
       "\n",
       "    .dataframe thead th {\n",
       "        text-align: right;\n",
       "    }\n",
       "</style>\n",
       "<table border=\"1\" class=\"dataframe\">\n",
       "  <thead>\n",
       "    <tr style=\"text-align: right;\">\n",
       "      <th></th>\n",
       "      <th>Invalid Coordinates (%)</th>\n",
       "    </tr>\n",
       "  </thead>\n",
       "  <tbody>\n",
       "    <tr>\n",
       "      <th>Records</th>\n",
       "      <td>17.0</td>\n",
       "    </tr>\n",
       "    <tr>\n",
       "      <th>Events</th>\n",
       "      <td>0.0</td>\n",
       "    </tr>\n",
       "  </tbody>\n",
       "</table>\n",
       "</div>"
      ],
      "text/plain": [
       "         Invalid Coordinates (%)\n",
       "Records                     17.0\n",
       "Events                       0.0"
      ]
     },
     "execution_count": 7,
     "metadata": {},
     "output_type": "execute_result"
    }
   ],
   "source": [
    "nan_records = data['EVENTO_LATITUDE'].isna().sum() / len(data) * 100 # 16 % of records missing coordinates\n",
    "nan_events = data.dropna(subset=loc_cols).groupby('EVENTO_ID').first()[loc_cols].isna().any(1).sum() / len(data) * 100 # 6 % of first events missing coordinates\n",
    "\n",
    "pd.DataFrame([nan_records, nan_events], index=['Records', 'Events'], columns=['Invalid Coordinates (%)']).round()"
   ]
  },
  {
   "cell_type": "markdown",
   "metadata": {},
   "source": [
    "#### 2.3 **Drop incidents without valid coordinates**"
   ]
  },
  {
   "cell_type": "code",
   "execution_count": 8,
   "metadata": {},
   "outputs": [
    {
     "data": {
      "text/plain": [
       "(7463, 19)"
      ]
     },
     "execution_count": 8,
     "metadata": {},
     "output_type": "execute_result"
    }
   ],
   "source": [
    "data.dropna(subset=loc_cols, inplace=True); data.shape # drop all records containing NaN in any of the 'subset' columns"
   ]
  },
  {
   "cell_type": "markdown",
   "metadata": {},
   "source": [
    "---\n",
    "# 2. Extract water bag catalog"
   ]
  },
  {
   "cell_type": "code",
   "execution_count": 9,
   "metadata": {},
   "outputs": [],
   "source": [
    "catalog_cols = [\n",
    "    'EVENTO_ID', 'EVENTO_TITULO', 'EVENTO_DESCRICAO', 'POP_TITULO',\n",
    "    'EVENTO_PRAZO', 'EVENTO_GRAVIDADE','EVENTO_BAIRRO', 'EVENTO_LATITUDE',\n",
    "    'EVENTO_LONGITUDE', 'EVENTO_INICIO', 'EVENTO_FIM',\n",
    "]\n",
    "\n",
    "catalog = data.groupby('EVENTO_ID', as_index=False).first()[catalog_cols] # extract first record for each water bag event"
   ]
  },
  {
   "cell_type": "markdown",
   "metadata": {},
   "source": [
    "#### Save and reload catalog"
   ]
  },
  {
   "cell_type": "code",
   "execution_count": 10,
   "metadata": {},
   "outputs": [],
   "source": [
    "# catalog.to_csv('Dados/water_bag_catalog.csv', index=False)\n",
    "catalog = pd.read_csv('Dados/water_bag_catalog.csv', index_col=0)"
   ]
  },
  {
   "cell_type": "markdown",
   "metadata": {},
   "source": [
    "#### Display catalog"
   ]
  },
  {
   "cell_type": "code",
   "execution_count": 11,
   "metadata": {},
   "outputs": [
    {
     "data": {
      "text/html": [
       "<div>\n",
       "<style scoped>\n",
       "    .dataframe tbody tr th:only-of-type {\n",
       "        vertical-align: middle;\n",
       "    }\n",
       "\n",
       "    .dataframe tbody tr th {\n",
       "        vertical-align: top;\n",
       "    }\n",
       "\n",
       "    .dataframe thead th {\n",
       "        text-align: right;\n",
       "    }\n",
       "</style>\n",
       "<table border=\"1\" class=\"dataframe\">\n",
       "  <thead>\n",
       "    <tr style=\"text-align: right;\">\n",
       "      <th></th>\n",
       "      <th>EVENTO_TITULO</th>\n",
       "      <th>EVENTO_DESCRICAO</th>\n",
       "      <th>POP_TITULO</th>\n",
       "      <th>EVENTO_PRAZO</th>\n",
       "      <th>EVENTO_GRAVIDADE</th>\n",
       "      <th>EVENTO_BAIRRO</th>\n",
       "      <th>EVENTO_LATITUDE</th>\n",
       "      <th>EVENTO_LONGITUDE</th>\n",
       "      <th>EVENTO_INICIO</th>\n",
       "      <th>EVENTO_FIM</th>\n",
       "    </tr>\n",
       "    <tr>\n",
       "      <th>EVENTO_ID</th>\n",
       "      <th></th>\n",
       "      <th></th>\n",
       "      <th></th>\n",
       "      <th></th>\n",
       "      <th></th>\n",
       "      <th></th>\n",
       "      <th></th>\n",
       "      <th></th>\n",
       "      <th></th>\n",
       "      <th></th>\n",
       "    </tr>\n",
       "  </thead>\n",
       "  <tbody>\n",
       "    <tr>\n",
       "      <th>1258</th>\n",
       "      <td>Bolsão d'agua</td>\n",
       "      <td>R. Pinheiro Machado com Muniz Barreto - Botafogo</td>\n",
       "      <td>Bolsão d'água em via</td>\n",
       "      <td>NaN</td>\n",
       "      <td>BAIXO</td>\n",
       "      <td>NaN</td>\n",
       "      <td>-22.944774</td>\n",
       "      <td>-43.183917</td>\n",
       "      <td>2015-09-12 20:12:00</td>\n",
       "      <td>2015-09-13 03:39:00</td>\n",
       "    </tr>\n",
       "    <tr>\n",
       "      <th>1259</th>\n",
       "      <td>Bolsão</td>\n",
       "      <td>Av. Novo Rio, 3131 - Bonsucesso</td>\n",
       "      <td>Bolsão d'água em via</td>\n",
       "      <td>NaN</td>\n",
       "      <td>BAIXO</td>\n",
       "      <td>NaN</td>\n",
       "      <td>-22.871684</td>\n",
       "      <td>-43.256200</td>\n",
       "      <td>2015-09-12 22:13:00</td>\n",
       "      <td>2015-09-13 01:21:00</td>\n",
       "    </tr>\n",
       "    <tr>\n",
       "      <th>1260</th>\n",
       "      <td>Bolsão</td>\n",
       "      <td>Av. Ataulfo de Paiva, 752 - Leblon</td>\n",
       "      <td>Bolsão d'água em via</td>\n",
       "      <td>NaN</td>\n",
       "      <td>BAIXO</td>\n",
       "      <td>NaN</td>\n",
       "      <td>-22.984337</td>\n",
       "      <td>-43.223100</td>\n",
       "      <td>2015-09-12 22:15:00</td>\n",
       "      <td>2015-09-13 01:20:00</td>\n",
       "    </tr>\n",
       "    <tr>\n",
       "      <th>1261</th>\n",
       "      <td>Bolsão</td>\n",
       "      <td>Avenida General San Martin / Praça Antero de Q...</td>\n",
       "      <td>Bolsão d'água em via</td>\n",
       "      <td>NaN</td>\n",
       "      <td>BAIXO</td>\n",
       "      <td>NaN</td>\n",
       "      <td>-22.984337</td>\n",
       "      <td>-43.223100</td>\n",
       "      <td>2015-09-12 22:16:00</td>\n",
       "      <td>2015-09-13 01:20:00</td>\n",
       "    </tr>\n",
       "    <tr>\n",
       "      <th>1263</th>\n",
       "      <td>Bolsão d'água</td>\n",
       "      <td>Av. Brasil, 40 - São Cristóvão</td>\n",
       "      <td>Bolsão d'água em via</td>\n",
       "      <td>NaN</td>\n",
       "      <td>BAIXO</td>\n",
       "      <td>NaN</td>\n",
       "      <td>-22.892179</td>\n",
       "      <td>-43.216400</td>\n",
       "      <td>2015-09-13 06:30:00</td>\n",
       "      <td>2015-09-13 16:14:00</td>\n",
       "    </tr>\n",
       "  </tbody>\n",
       "</table>\n",
       "</div>"
      ],
      "text/plain": [
       "           EVENTO_TITULO                                   EVENTO_DESCRICAO  \\\n",
       "EVENTO_ID                                                                     \n",
       "1258       Bolsão d'agua   R. Pinheiro Machado com Muniz Barreto - Botafogo   \n",
       "1259              Bolsão                    Av. Novo Rio, 3131 - Bonsucesso   \n",
       "1260              Bolsão                 Av. Ataulfo de Paiva, 752 - Leblon   \n",
       "1261              Bolsão  Avenida General San Martin / Praça Antero de Q...   \n",
       "1263       Bolsão d'água                     Av. Brasil, 40 - São Cristóvão   \n",
       "\n",
       "                     POP_TITULO EVENTO_PRAZO EVENTO_GRAVIDADE EVENTO_BAIRRO  \\\n",
       "EVENTO_ID                                                                     \n",
       "1258       Bolsão d'água em via          NaN            BAIXO           NaN   \n",
       "1259       Bolsão d'água em via          NaN            BAIXO           NaN   \n",
       "1260       Bolsão d'água em via          NaN            BAIXO           NaN   \n",
       "1261       Bolsão d'água em via          NaN            BAIXO           NaN   \n",
       "1263       Bolsão d'água em via          NaN            BAIXO           NaN   \n",
       "\n",
       "           EVENTO_LATITUDE  EVENTO_LONGITUDE        EVENTO_INICIO  \\\n",
       "EVENTO_ID                                                           \n",
       "1258            -22.944774        -43.183917  2015-09-12 20:12:00   \n",
       "1259            -22.871684        -43.256200  2015-09-12 22:13:00   \n",
       "1260            -22.984337        -43.223100  2015-09-12 22:15:00   \n",
       "1261            -22.984337        -43.223100  2015-09-12 22:16:00   \n",
       "1263            -22.892179        -43.216400  2015-09-13 06:30:00   \n",
       "\n",
       "                    EVENTO_FIM  \n",
       "EVENTO_ID                       \n",
       "1258       2015-09-13 03:39:00  \n",
       "1259       2015-09-13 01:21:00  \n",
       "1260       2015-09-13 01:20:00  \n",
       "1261       2015-09-13 01:20:00  \n",
       "1263       2015-09-13 16:14:00  "
      ]
     },
     "metadata": {},
     "output_type": "display_data"
    },
    {
     "name": "stdout",
     "output_type": "stream",
     "text": [
      "\n",
      "Catalog shape: (3140, 10)\n"
     ]
    }
   ],
   "source": [
    "display(catalog.head())\n",
    "print('\\nCatalog shape:', catalog.shape)"
   ]
  },
  {
   "cell_type": "markdown",
   "metadata": {},
   "source": [
    "---\n",
    "# 3. Extra: Reverse geocode incidents coordinates"
   ]
  },
  {
   "cell_type": "markdown",
   "metadata": {},
   "source": [
    "#### Function to reverse geocode coordinates with google maps API"
   ]
  },
  {
   "cell_type": "code",
   "execution_count": 12,
   "metadata": {},
   "outputs": [],
   "source": [
    "from Modules.GoogleMaps import googleReverseGeocode"
   ]
  },
  {
   "cell_type": "markdown",
   "metadata": {},
   "source": [
    "### Reverse geocode extracted incidents' coordinates with Google Maps API"
   ]
  },
  {
   "cell_type": "code",
   "execution_count": 13,
   "metadata": {},
   "outputs": [],
   "source": [
    "location_type = [\n",
    "    'ROOFTOP',\n",
    "    'RANGE_INTERPOLATED',\n",
    "    'APPROXIMATE'\n",
    "]\n",
    "\n",
    "result_type = [\n",
    "    'street_address', 'route', 'intersection',\n",
    "    'colloquial_area', 'plus_code', 'postal_code',\n",
    "    'establishment', 'premise'\n",
    "]\n",
    "\n",
    "# geocode_result = googleReverseGeocode(  # Search already perfomed\n",
    "#     catalog[loc_cols].values.tolist(),\n",
    "#     catalog.index.tolist(),\n",
    "#     result_type, location_type,\n",
    "#     googleAPIKey=open('../GoogleApiKey.txt', 'r').read()\n",
    "# )"
   ]
  },
  {
   "cell_type": "markdown",
   "metadata": {},
   "source": [
    "#### Save and reload geocode result"
   ]
  },
  {
   "cell_type": "code",
   "execution_count": 14,
   "metadata": {},
   "outputs": [],
   "source": [
    "# geocode_result.to_csv('dados/catalog_reverse_geocode.csv', index=False)\n",
    "geocode_result = pd.read_csv('Dados/catalog_reverse_geocode.csv')"
   ]
  },
  {
   "cell_type": "markdown",
   "metadata": {},
   "source": [
    "#### Display geocode result"
   ]
  },
  {
   "cell_type": "code",
   "execution_count": 15,
   "metadata": {},
   "outputs": [
    {
     "data": {
      "text/html": [
       "<div>\n",
       "<style scoped>\n",
       "    .dataframe tbody tr th:only-of-type {\n",
       "        vertical-align: middle;\n",
       "    }\n",
       "\n",
       "    .dataframe tbody tr th {\n",
       "        vertical-align: top;\n",
       "    }\n",
       "\n",
       "    .dataframe thead th {\n",
       "        text-align: right;\n",
       "    }\n",
       "</style>\n",
       "<table border=\"1\" class=\"dataframe\">\n",
       "  <thead>\n",
       "    <tr style=\"text-align: right;\">\n",
       "      <th></th>\n",
       "      <th>formatted_address</th>\n",
       "      <th>place_id</th>\n",
       "      <th>types</th>\n",
       "      <th>search_id</th>\n",
       "      <th>lat</th>\n",
       "      <th>lng</th>\n",
       "      <th>location_type</th>\n",
       "      <th>street_number</th>\n",
       "    </tr>\n",
       "  </thead>\n",
       "  <tbody>\n",
       "    <tr>\n",
       "      <th>0</th>\n",
       "      <td>Av. Borges de Medeiros, 3285 - Lagoa, Rio de J...</td>\n",
       "      <td>ChIJV7nTZHfVmwARCuQ3cTjS4yQ</td>\n",
       "      <td>['street_address']</td>\n",
       "      <td>111</td>\n",
       "      <td>-22.962579</td>\n",
       "      <td>-43.210340</td>\n",
       "      <td>ROOFTOP</td>\n",
       "      <td>3285</td>\n",
       "    </tr>\n",
       "    <tr>\n",
       "      <th>1</th>\n",
       "      <td>Av. Borges de Medeiros, 3265 - Lagoa, Rio de J...</td>\n",
       "      <td>ChIJfYcLmqjVmwARd2HZgtFXf10</td>\n",
       "      <td>['establishment', 'premise']</td>\n",
       "      <td>111</td>\n",
       "      <td>-22.962454</td>\n",
       "      <td>-43.210575</td>\n",
       "      <td>ROOFTOP</td>\n",
       "      <td>3265</td>\n",
       "    </tr>\n",
       "    <tr>\n",
       "      <th>2</th>\n",
       "      <td>Condomínio Edificio Campo de Gardenias - Av. B...</td>\n",
       "      <td>ChIJs98Be3fVmwARDZdcHhQk70c</td>\n",
       "      <td>['establishment', 'point_of_interest']</td>\n",
       "      <td>111</td>\n",
       "      <td>-22.962454</td>\n",
       "      <td>-43.210575</td>\n",
       "      <td>ROOFTOP</td>\n",
       "      <td>3265</td>\n",
       "    </tr>\n",
       "    <tr>\n",
       "      <th>3</th>\n",
       "      <td>Av. Borges de Medeiros - Lagoa, Rio de Janeiro...</td>\n",
       "      <td>ChIJE6AZ1Z3VmwARykY3iS61rlY</td>\n",
       "      <td>['postal_code']</td>\n",
       "      <td>111</td>\n",
       "      <td>-22.962625</td>\n",
       "      <td>-43.209365</td>\n",
       "      <td>APPROXIMATE</td>\n",
       "      <td>NaN</td>\n",
       "    </tr>\n",
       "    <tr>\n",
       "      <th>4</th>\n",
       "      <td>Rio de Janeiro - RJ, 22461, Brasil</td>\n",
       "      <td>ChIJuXPOqYHVmwAR7_txRcA-PGs</td>\n",
       "      <td>['postal_code', 'postal_code_prefix']</td>\n",
       "      <td>111</td>\n",
       "      <td>-22.953123</td>\n",
       "      <td>-43.215868</td>\n",
       "      <td>APPROXIMATE</td>\n",
       "      <td>NaN</td>\n",
       "    </tr>\n",
       "  </tbody>\n",
       "</table>\n",
       "</div>"
      ],
      "text/plain": [
       "                                   formatted_address  \\\n",
       "0  Av. Borges de Medeiros, 3285 - Lagoa, Rio de J...   \n",
       "1  Av. Borges de Medeiros, 3265 - Lagoa, Rio de J...   \n",
       "2  Condomínio Edificio Campo de Gardenias - Av. B...   \n",
       "3  Av. Borges de Medeiros - Lagoa, Rio de Janeiro...   \n",
       "4                 Rio de Janeiro - RJ, 22461, Brasil   \n",
       "\n",
       "                      place_id                                   types  \\\n",
       "0  ChIJV7nTZHfVmwARCuQ3cTjS4yQ                      ['street_address']   \n",
       "1  ChIJfYcLmqjVmwARd2HZgtFXf10            ['establishment', 'premise']   \n",
       "2  ChIJs98Be3fVmwARDZdcHhQk70c  ['establishment', 'point_of_interest']   \n",
       "3  ChIJE6AZ1Z3VmwARykY3iS61rlY                         ['postal_code']   \n",
       "4  ChIJuXPOqYHVmwAR7_txRcA-PGs   ['postal_code', 'postal_code_prefix']   \n",
       "\n",
       "   search_id        lat        lng location_type street_number  \n",
       "0        111 -22.962579 -43.210340       ROOFTOP          3285  \n",
       "1        111 -22.962454 -43.210575       ROOFTOP          3265  \n",
       "2        111 -22.962454 -43.210575       ROOFTOP          3265  \n",
       "3        111 -22.962625 -43.209365   APPROXIMATE           NaN  \n",
       "4        111 -22.953123 -43.215868   APPROXIMATE           NaN  "
      ]
     },
     "execution_count": 15,
     "metadata": {},
     "output_type": "execute_result"
    }
   ],
   "source": [
    "geocode_result.head().iloc[:, :8]"
   ]
  },
  {
   "cell_type": "markdown",
   "metadata": {},
   "source": [
    "---\n",
    "# 4. Extra: Insert geodecoded result in catalog"
   ]
  },
  {
   "cell_type": "markdown",
   "metadata": {},
   "source": [
    "#### Extract first (most specific) result of each search"
   ]
  },
  {
   "cell_type": "code",
   "execution_count": 16,
   "metadata": {},
   "outputs": [],
   "source": [
    "geocode_keep_cols = [\n",
    "    'search_id', 'place_id', 'types', 'location_type',\n",
    "    'route', 'street_number', 'postal_code', \n",
    "    'formatted_address', 'premise', 'lat', 'lng', \n",
    "]\n",
    "\n",
    "google_result = geocode_result.groupby('search_id', as_index=False).first()[geocode_keep_cols].rename(columns={\n",
    "    'search_id': 'EVENTO_ID',\n",
    "    'lat': 'search_lat',\n",
    "    'lng': 'search_lng'\n",
    "}).set_index('EVENTO_ID', drop=True)"
   ]
  },
  {
   "cell_type": "markdown",
   "metadata": {},
   "source": [
    "#### Join results to catalog"
   ]
  },
  {
   "cell_type": "code",
   "execution_count": 17,
   "metadata": {},
   "outputs": [],
   "source": [
    "google_catalog = catalog.join(google_result, how='left')"
   ]
  },
  {
   "cell_type": "markdown",
   "metadata": {},
   "source": [
    "#### Save and reload final catalog"
   ]
  },
  {
   "cell_type": "code",
   "execution_count": 18,
   "metadata": {},
   "outputs": [],
   "source": [
    "# google_catalog.to_csv('Dados/water_bag_catalog_google.csv', index=True)  # uncomment to save\n",
    "google_catalog = pd.read_csv('Dados/water_bag_catalog_google.csv')  # reload"
   ]
  },
  {
   "cell_type": "markdown",
   "metadata": {},
   "source": [
    "#### Display final catalog"
   ]
  },
  {
   "cell_type": "code",
   "execution_count": 20,
   "metadata": {},
   "outputs": [
    {
     "data": {
      "text/html": [
       "<div>\n",
       "<style scoped>\n",
       "    .dataframe tbody tr th:only-of-type {\n",
       "        vertical-align: middle;\n",
       "    }\n",
       "\n",
       "    .dataframe tbody tr th {\n",
       "        vertical-align: top;\n",
       "    }\n",
       "\n",
       "    .dataframe thead th {\n",
       "        text-align: right;\n",
       "    }\n",
       "</style>\n",
       "<table border=\"1\" class=\"dataframe\">\n",
       "  <thead>\n",
       "    <tr style=\"text-align: right;\">\n",
       "      <th></th>\n",
       "      <th>EVENTO_ID</th>\n",
       "      <th>EVENTO_LATITUDE</th>\n",
       "      <th>EVENTO_LONGITUDE</th>\n",
       "      <th>EVENTO_INICIO</th>\n",
       "      <th>place_id</th>\n",
       "      <th>route</th>\n",
       "      <th>street_number</th>\n",
       "      <th>postal_code</th>\n",
       "    </tr>\n",
       "  </thead>\n",
       "  <tbody>\n",
       "    <tr>\n",
       "      <th>0</th>\n",
       "      <td>1258</td>\n",
       "      <td>-22.944774</td>\n",
       "      <td>-43.183917</td>\n",
       "      <td>2015-09-12 20:12:00</td>\n",
       "      <td>ChIJi27zffJ_mQARL55umyJIS4Q</td>\n",
       "      <td>Rua Muniz Barreto</td>\n",
       "      <td>366</td>\n",
       "      <td>22251-090</td>\n",
       "    </tr>\n",
       "    <tr>\n",
       "      <th>1</th>\n",
       "      <td>1259</td>\n",
       "      <td>-22.871684</td>\n",
       "      <td>-43.256200</td>\n",
       "      <td>2015-09-12 22:13:00</td>\n",
       "      <td>ChIJ-wBnkRx8mQARRqlXSftw2ds</td>\n",
       "      <td>Avenida Novo Rio</td>\n",
       "      <td>3131</td>\n",
       "      <td>21051-051</td>\n",
       "    </tr>\n",
       "    <tr>\n",
       "      <th>2</th>\n",
       "      <td>1260</td>\n",
       "      <td>-22.984337</td>\n",
       "      <td>-43.223100</td>\n",
       "      <td>2015-09-12 22:15:00</td>\n",
       "      <td>ChIJg668f63VmwARDiaRGOdZ--I</td>\n",
       "      <td>Avenida Ataulfo de Paiva</td>\n",
       "      <td>750</td>\n",
       "      <td>22440-033</td>\n",
       "    </tr>\n",
       "    <tr>\n",
       "      <th>3</th>\n",
       "      <td>1261</td>\n",
       "      <td>-22.984337</td>\n",
       "      <td>-43.223100</td>\n",
       "      <td>2015-09-12 22:16:00</td>\n",
       "      <td>ChIJg668f63VmwARDiaRGOdZ--I</td>\n",
       "      <td>Avenida Ataulfo de Paiva</td>\n",
       "      <td>750</td>\n",
       "      <td>22440-033</td>\n",
       "    </tr>\n",
       "    <tr>\n",
       "      <th>4</th>\n",
       "      <td>1263</td>\n",
       "      <td>-22.892179</td>\n",
       "      <td>-43.216400</td>\n",
       "      <td>2015-09-13 06:30:00</td>\n",
       "      <td>ChIJCeABSN5-mQAR6RjL3C-eriQ</td>\n",
       "      <td>Avenida Brasil</td>\n",
       "      <td>35</td>\n",
       "      <td>NaN</td>\n",
       "    </tr>\n",
       "  </tbody>\n",
       "</table>\n",
       "</div>"
      ],
      "text/plain": [
       "   EVENTO_ID  EVENTO_LATITUDE  EVENTO_LONGITUDE        EVENTO_INICIO  \\\n",
       "0       1258       -22.944774        -43.183917  2015-09-12 20:12:00   \n",
       "1       1259       -22.871684        -43.256200  2015-09-12 22:13:00   \n",
       "2       1260       -22.984337        -43.223100  2015-09-12 22:15:00   \n",
       "3       1261       -22.984337        -43.223100  2015-09-12 22:16:00   \n",
       "4       1263       -22.892179        -43.216400  2015-09-13 06:30:00   \n",
       "\n",
       "                      place_id                     route street_number  \\\n",
       "0  ChIJi27zffJ_mQARL55umyJIS4Q         Rua Muniz Barreto           366   \n",
       "1  ChIJ-wBnkRx8mQARRqlXSftw2ds          Avenida Novo Rio          3131   \n",
       "2  ChIJg668f63VmwARDiaRGOdZ--I  Avenida Ataulfo de Paiva           750   \n",
       "3  ChIJg668f63VmwARDiaRGOdZ--I  Avenida Ataulfo de Paiva           750   \n",
       "4  ChIJCeABSN5-mQAR6RjL3C-eriQ            Avenida Brasil            35   \n",
       "\n",
       "  postal_code  \n",
       "0   22251-090  \n",
       "1   21051-051  \n",
       "2   22440-033  \n",
       "3   22440-033  \n",
       "4         NaN  "
      ]
     },
     "execution_count": 20,
     "metadata": {},
     "output_type": "execute_result"
    }
   ],
   "source": [
    "google_catalog[['EVENTO_ID'] + loc_cols + ['EVENTO_INICIO', 'place_id', 'route', 'street_number', 'postal_code']].head()"
   ]
  },
  {
   "cell_type": "markdown",
   "metadata": {},
   "source": [
    "---\n",
    "# 5. Extra: Reverse geocode result analysis"
   ]
  },
  {
   "cell_type": "markdown",
   "metadata": {},
   "source": [
    "#### Unique street numbers per location search"
   ]
  },
  {
   "cell_type": "code",
   "execution_count": 34,
   "metadata": {},
   "outputs": [
    {
     "data": {
      "image/png": "[encoded data removed]",
      "text/plain": [
       "<Figure size 432x288 with 1 Axes>"
      ]
     },
     "metadata": {},
     "output_type": "display_data"
    }
   ],
   "source": [
    "numbered = geocode_result.dropna(subset=['street_number']).drop_duplicates(subset=['search_id', 'street_number'])\n",
    "ax = numbered.groupby('search_id').count()['street_number'].value_counts().sort_index().to_frame('Unique street numbers per result count').plot.bar()"
   ]
  },
  {
   "cell_type": "markdown",
   "metadata": {},
   "source": [
    "#### Unique routes per location search"
   ]
  },
  {
   "cell_type": "code",
   "execution_count": 26,
   "metadata": {},
   "outputs": [
    {
     "data": {
      "image/png": "[encoded data removed]",
      "text/plain": [
       "<Figure size 432x288 with 1 Axes>"
      ]
     },
     "metadata": {},
     "output_type": "display_data"
    }
   ],
   "source": [
    "has_route = geocode_result.dropna(subset=['route']).drop_duplicates(subset=['search_id', 'route'])\n",
    "ax = has_route.groupby('search_id').count()['route'].value_counts().sort_index().to_frame('Routes per result count').plot.bar()"
   ]
  },
  {
   "cell_type": "markdown",
   "metadata": {},
   "source": [
    "#### Locations without a search result"
   ]
  },
  {
   "cell_type": "code",
   "execution_count": 27,
   "metadata": {},
   "outputs": [
    {
     "data": {
      "text/plain": [
       "-828"
      ]
     },
     "execution_count": 27,
     "metadata": {},
     "output_type": "execute_result"
    }
   ],
   "source": [
    "len(catalog) - len(numbered['search_id'].unique()) # location without search results"
   ]
  },
  {
   "cell_type": "markdown",
   "metadata": {},
   "source": [
    "#### Results count per search"
   ]
  },
  {
   "cell_type": "code",
   "execution_count": 35,
   "metadata": {},
   "outputs": [
    {
     "data": {
      "image/png": "[encoded data removed]",
      "text/plain": [
       "<Figure size 432x288 with 1 Axes>"
      ]
     },
     "metadata": {},
     "output_type": "display_data"
    }
   ],
   "source": [
    "notna_sum = geocode_result.set_index('search_id').notna().groupby('search_id').sum()\n",
    "per_search = pd.concat([notna_sum[col].value_counts().sort_index().to_frame() for col in ['street_number', 'route']], 1)\n",
    "per_search.index.name = 'Count per search'; ax = per_search.plot.bar()"
   ]
  },
  {
   "cell_type": "markdown",
   "metadata": {},
   "source": [
    "#### Select first result for each search (most specific)"
   ]
  },
  {
   "cell_type": "markdown",
   "metadata": {},
   "source": [
    "Options to filter:\n",
    "1. only if street_number is not missing\n",
    "1. Prioritize first street_number of each location search\n",
    "2. Prioritize type 'street_address', then 'route', then 'establishment'/'premise'\n",
    "4. Smallest coordinate distances from original cordinates ***"
   ]
  },
  {
   "cell_type": "code",
   "execution_count": 31,
   "metadata": {},
   "outputs": [],
   "source": [
    "first_res = geocode_result.groupby('search_id').first()"
   ]
  },
  {
   "cell_type": "markdown",
   "metadata": {},
   "source": [
    "#### Percentage of unnumbered address in selected results"
   ]
  },
  {
   "cell_type": "code",
   "execution_count": 32,
   "metadata": {},
   "outputs": [
    {
     "name": "stdout",
     "output_type": "stream",
     "text": [
      "0.48 %\n"
     ]
    }
   ],
   "source": [
    "print(first_res['street_number'].isna().mean().round(4)*100, '%')"
   ]
  },
  {
   "cell_type": "markdown",
   "metadata": {},
   "source": [
    "#### Address types count in selected results"
   ]
  },
  {
   "cell_type": "code",
   "execution_count": 33,
   "metadata": {},
   "outputs": [
    {
     "data": {
      "image/png": "[encoded data removed]",
      "text/plain": [
       "<Figure size 360x216 with 1 Axes>"
      ]
     },
     "metadata": {},
     "output_type": "display_data"
    }
   ],
   "source": [
    "first_res['types'].value_counts().head(10).plot.bar(\n",
    "    figsize=(5,3), title='Locations Search Result Address Types Count'\n",
    "); plt.show()"
   ]
  },
  {
   "cell_type": "markdown",
   "metadata": {},
   "source": [
    "#### Geocode result coordinates difference from original coordinates"
   ]
  },
  {
   "cell_type": "code",
   "execution_count": 46,
   "metadata": {},
   "outputs": [
    {
     "data": {
      "image/png": "[encoded data removed]",
      "text/plain": [
       "<Figure size 648x216 with 2 Axes>"
      ]
     },
     "metadata": {},
     "output_type": "display_data"
    }
   ],
   "source": [
    "lat_diff = abs(google_catalog['search_lat'] - google_catalog['EVENTO_LATITUDE'])\n",
    "lng_diff = abs(google_catalog['search_lng'] - google_catalog['EVENTO_LONGITUDE'])\n",
    "lat_prct, lng_prct = ( pd.Series(np.percentile(diff, range(101))) for diff in [lat_diff, lng_diff] )\n",
    "\n",
    "fig, ax = plt.subplots(1, 2, figsize=(9, 3), tight_layout=True)\n",
    "lat_prct.plot(ax=ax[0])\n",
    "lng_prct.plot(ax=ax[1], color='blue')\n",
    "for i, col in zip([0,1], ['Latitude', 'Longitude']):\n",
    "    ax[i].set(\n",
    "#         ylim=(-0.0001, 0.001),\n",
    "        title=f'Searched {col} Difference Percentile',\n",
    "        ylabel='Coordinate difference',\n",
    "        xlabel='Percentile (%)'\n",
    "    )\n",
    "plt.show()"
   ]
  },
  {
   "cell_type": "code",
   "execution_count": 44,
   "metadata": {},
   "outputs": [
    {
     "data": {
      "image/png": "[encoded data removed]",
      "text/plain": [
       "<Figure size 360x216 with 1 Axes>"
      ]
     },
     "metadata": {},
     "output_type": "display_data"
    }
   ],
   "source": [
    "hypho_diff = (lat_diff**2 + lng_diff**2)**0.5\n",
    "hypho_prct = pd.Series(np.percentile(hypho_diff, range(101)))\n",
    "\n",
    "fig, ax = plt.subplots(1, 1, figsize=(5, 3), tight_layout=False)\n",
    "hypho_prct.plot(ax=ax)\n",
    "ax.set(\n",
    "    ylim=(-0.0001, 0.001),\n",
    "    title=f'Searched Coordinates Difference Percentile',\n",
    "    ylabel='Coordinate difference',\n",
    "    xlabel='Percentile (%)'\n",
    "); plt.show()"
   ]
  }
 ],
 "metadata": {
  "kernelspec": {
   "display_name": "Python 3",
   "language": "python",
   "name": "python3"
  },
  "language_info": {
   "codemirror_mode": {
    "name": "ipython",
    "version": 3
   },
   "file_extension": ".py",
   "mimetype": "text/x-python",
   "name": "python",
   "nbconvert_exporter": "python",
   "pygments_lexer": "ipython3",
   "version": "3.8.3"
  }
 },
 "nbformat": 4,
 "nbformat_minor": 4
}
