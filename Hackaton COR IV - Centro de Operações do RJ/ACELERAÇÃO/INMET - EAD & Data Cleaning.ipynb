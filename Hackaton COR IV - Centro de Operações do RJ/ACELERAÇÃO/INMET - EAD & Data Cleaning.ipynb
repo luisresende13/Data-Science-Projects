{
 "cells": [
  {
   "cell_type": "markdown",
   "metadata": {},
   "source": [
    "# Exploratory Data Analysis - Data.Rio Data Lake"
   ]
  },
  {
   "cell_type": "markdown",
   "metadata": {},
   "source": [
    "#### Import modules and libraries"
   ]
  },
  {
   "cell_type": "code",
   "execution_count": 3,
   "metadata": {},
   "outputs": [],
   "source": [
    "import os, pandas as pd, numpy as np, matplotlib.pyplot as plt, seaborn as sns; sns.set()\n",
    "from IPython.display import clear_output as co"
   ]
  },
  {
   "cell_type": "markdown",
   "metadata": {},
   "source": [
    "#### Load Data"
   ]
  },
  {
   "cell_type": "code",
   "execution_count": 4,
   "metadata": {},
   "outputs": [
    {
     "data": {
      "text/html": [
       "<div>\n",
       "<style scoped>\n",
       "    .dataframe tbody tr th:only-of-type {\n",
       "        vertical-align: middle;\n",
       "    }\n",
       "\n",
       "    .dataframe tbody tr th {\n",
       "        vertical-align: top;\n",
       "    }\n",
       "\n",
       "    .dataframe thead th {\n",
       "        text-align: right;\n",
       "    }\n",
       "</style>\n",
       "<table border=\"1\" class=\"dataframe\">\n",
       "  <thead>\n",
       "    <tr style=\"text-align: right;\">\n",
       "      <th></th>\n",
       "      <th>primary_key</th>\n",
       "      <th>id_estacao</th>\n",
       "      <th>data</th>\n",
       "      <th>horario</th>\n",
       "      <th>pressao</th>\n",
       "      <th>pressao_minima</th>\n",
       "      <th>pressao_maxima</th>\n",
       "      <th>temperatura_orvalho</th>\n",
       "      <th>temperatura_orvalho_minimo</th>\n",
       "      <th>temperatura_orvalho_maximo</th>\n",
       "      <th>...</th>\n",
       "      <th>umidade_maxima</th>\n",
       "      <th>temperatura</th>\n",
       "      <th>temperatura_minima</th>\n",
       "      <th>temperatura_maxima</th>\n",
       "      <th>rajada_vento_max</th>\n",
       "      <th>direcao_vento</th>\n",
       "      <th>velocidade_vento</th>\n",
       "      <th>radiacao_global</th>\n",
       "      <th>acumulado_chuva_1_h</th>\n",
       "      <th>data_particao</th>\n",
       "    </tr>\n",
       "  </thead>\n",
       "  <tbody>\n",
       "    <tr>\n",
       "      <th>0</th>\n",
       "      <td>A602-2012-04-01 21:00:00</td>\n",
       "      <td>A602</td>\n",
       "      <td>2012-04-01</td>\n",
       "      <td>21:00:00</td>\n",
       "      <td>1014.5</td>\n",
       "      <td>1014.5</td>\n",
       "      <td>1014.7</td>\n",
       "      <td>NaN</td>\n",
       "      <td>NaN</td>\n",
       "      <td>NaN</td>\n",
       "      <td>...</td>\n",
       "      <td>NaN</td>\n",
       "      <td>24.3</td>\n",
       "      <td>24.2</td>\n",
       "      <td>24.7</td>\n",
       "      <td>5.0</td>\n",
       "      <td>NaN</td>\n",
       "      <td>4.0</td>\n",
       "      <td>74.565</td>\n",
       "      <td>0.0</td>\n",
       "      <td>2012-04-01</td>\n",
       "    </tr>\n",
       "    <tr>\n",
       "      <th>1</th>\n",
       "      <td>A602-2012-04-01 17:00:00</td>\n",
       "      <td>A602</td>\n",
       "      <td>2012-04-01</td>\n",
       "      <td>17:00:00</td>\n",
       "      <td>1014.5</td>\n",
       "      <td>1014.5</td>\n",
       "      <td>1015.0</td>\n",
       "      <td>NaN</td>\n",
       "      <td>NaN</td>\n",
       "      <td>NaN</td>\n",
       "      <td>...</td>\n",
       "      <td>NaN</td>\n",
       "      <td>25.9</td>\n",
       "      <td>25.2</td>\n",
       "      <td>26.6</td>\n",
       "      <td>5.1</td>\n",
       "      <td>NaN</td>\n",
       "      <td>4.1</td>\n",
       "      <td>2817.476</td>\n",
       "      <td>0.0</td>\n",
       "      <td>2012-04-01</td>\n",
       "    </tr>\n",
       "    <tr>\n",
       "      <th>2</th>\n",
       "      <td>A602-2012-04-01 16:00:00</td>\n",
       "      <td>A602</td>\n",
       "      <td>2012-04-01</td>\n",
       "      <td>16:00:00</td>\n",
       "      <td>1015.0</td>\n",
       "      <td>1014.9</td>\n",
       "      <td>1015.7</td>\n",
       "      <td>NaN</td>\n",
       "      <td>NaN</td>\n",
       "      <td>NaN</td>\n",
       "      <td>...</td>\n",
       "      <td>NaN</td>\n",
       "      <td>25.9</td>\n",
       "      <td>24.6</td>\n",
       "      <td>26.3</td>\n",
       "      <td>4.7</td>\n",
       "      <td>NaN</td>\n",
       "      <td>3.8</td>\n",
       "      <td>2913.985</td>\n",
       "      <td>0.0</td>\n",
       "      <td>2012-04-01</td>\n",
       "    </tr>\n",
       "  </tbody>\n",
       "</table>\n",
       "<p>3 rows × 22 columns</p>\n",
       "</div>"
      ],
      "text/plain": [
       "                primary_key id_estacao        data   horario  pressao  \\\n",
       "0  A602-2012-04-01 21:00:00       A602  2012-04-01  21:00:00   1014.5   \n",
       "1  A602-2012-04-01 17:00:00       A602  2012-04-01  17:00:00   1014.5   \n",
       "2  A602-2012-04-01 16:00:00       A602  2012-04-01  16:00:00   1015.0   \n",
       "\n",
       "   pressao_minima  pressao_maxima  temperatura_orvalho  \\\n",
       "0          1014.5          1014.7                  NaN   \n",
       "1          1014.5          1015.0                  NaN   \n",
       "2          1014.9          1015.7                  NaN   \n",
       "\n",
       "   temperatura_orvalho_minimo  temperatura_orvalho_maximo  ...  \\\n",
       "0                         NaN                         NaN  ...   \n",
       "1                         NaN                         NaN  ...   \n",
       "2                         NaN                         NaN  ...   \n",
       "\n",
       "   umidade_maxima  temperatura  temperatura_minima  temperatura_maxima  \\\n",
       "0             NaN         24.3                24.2                24.7   \n",
       "1             NaN         25.9                25.2                26.6   \n",
       "2             NaN         25.9                24.6                26.3   \n",
       "\n",
       "   rajada_vento_max  direcao_vento  velocidade_vento  radiacao_global  \\\n",
       "0               5.0            NaN               4.0           74.565   \n",
       "1               5.1            NaN               4.1         2817.476   \n",
       "2               4.7            NaN               3.8         2913.985   \n",
       "\n",
       "   acumulado_chuva_1_h  data_particao  \n",
       "0                  0.0     2012-04-01  \n",
       "1                  0.0     2012-04-01  \n",
       "2                  0.0     2012-04-01  \n",
       "\n",
       "[3 rows x 22 columns]"
      ]
     },
     "execution_count": 4,
     "metadata": {},
     "output_type": "execute_result"
    }
   ],
   "source": [
    "class Data:\n",
    "    path = '../../../Dados/Desafio COR-Rio IV/Meio Ambiente Clima/'\n",
    "\n",
    "inmet = pd.read_csv(Data.path + 'Meteorologia_INMET.csv'); inmet.head(3)"
   ]
  },
  {
   "cell_type": "markdown",
   "metadata": {},
   "source": [
    "---\n",
    "# 2. Exploratory Data Analysis"
   ]
  },
  {
   "cell_type": "markdown",
   "metadata": {},
   "source": [
    "### 1. Data types"
   ]
  },
  {
   "cell_type": "code",
   "execution_count": 6,
   "metadata": {},
   "outputs": [],
   "source": [
    "id_cols = ['primary_key', 'id_estacao', 'data', 'horario', 'data_particao']\n",
    "float_cols = set(inmet.columns).difference(id_cols)"
   ]
  },
  {
   "cell_type": "markdown",
   "metadata": {},
   "source": [
    "### 2. Index and identity columns\n",
    "\n",
    "#### Index check"
   ]
  },
  {
   "cell_type": "code",
   "execution_count": 7,
   "metadata": {},
   "outputs": [
    {
     "name": "stdout",
     "output_type": "stream",
     "text": [
      "Unique values in index: 964871\n",
      "Dataset size: 1036001\n"
     ]
    }
   ],
   "source": [
    "print('Unique values in index:', inmet['primary_key'].unique().shape[0])\n",
    "print('Dataset size:', inmet.shape[0])"
   ]
  },
  {
   "cell_type": "markdown",
   "metadata": {},
   "source": [
    "Duplicate index keys found. The number of unique index values does not match the index size."
   ]
  },
  {
   "cell_type": "markdown",
   "metadata": {},
   "source": [
    "#### Identity columns check"
   ]
  },
  {
   "cell_type": "code",
   "execution_count": 8,
   "metadata": {},
   "outputs": [
    {
     "data": {
      "text/plain": [
       "(964871, 19)"
      ]
     },
     "execution_count": 8,
     "metadata": {},
     "output_type": "execute_result"
    }
   ],
   "source": [
    "inmet.groupby(id_cols[1:4]).first().shape"
   ]
  },
  {
   "cell_type": "markdown",
   "metadata": {},
   "source": [
    "The count of combinations of the three identity columns should match the index size. The number of combinations found match the number of unique index values found."
   ]
  },
  {
   "cell_type": "markdown",
   "metadata": {},
   "source": [
    "### 3. Primary key duplicates\n",
    "\n",
    "#### Primary key column duplicates count"
   ]
  },
  {
   "cell_type": "code",
   "execution_count": 15,
   "metadata": {},
   "outputs": [
    {
     "data": {
      "text/plain": [
       "True"
      ]
     },
     "execution_count": 15,
     "metadata": {},
     "output_type": "execute_result"
    }
   ],
   "source": [
    "key_count = inmet['primary_key'].value_counts()\n",
    "dup_keys = key_count[key_count>1]\n",
    "\n",
    "(dup_keys==2).all()"
   ]
  },
  {
   "cell_type": "markdown",
   "metadata": {},
   "source": [
    "Every duplicate key can be found exactly twice."
   ]
  },
  {
   "cell_type": "markdown",
   "metadata": {},
   "source": [
    "#### Sample duplicates"
   ]
  },
  {
   "cell_type": "code",
   "execution_count": 23,
   "metadata": {},
   "outputs": [
    {
     "data": {
      "text/html": [
       "<div>\n",
       "<style scoped>\n",
       "    .dataframe tbody tr th:only-of-type {\n",
       "        vertical-align: middle;\n",
       "    }\n",
       "\n",
       "    .dataframe tbody tr th {\n",
       "        vertical-align: top;\n",
       "    }\n",
       "\n",
       "    .dataframe thead th {\n",
       "        text-align: right;\n",
       "    }\n",
       "</style>\n",
       "<table border=\"1\" class=\"dataframe\">\n",
       "  <thead>\n",
       "    <tr style=\"text-align: right;\">\n",
       "      <th></th>\n",
       "      <th>id_estacao</th>\n",
       "      <th>data</th>\n",
       "      <th>horario</th>\n",
       "      <th>pressao</th>\n",
       "      <th>pressao_minima</th>\n",
       "      <th>pressao_maxima</th>\n",
       "      <th>temperatura_orvalho</th>\n",
       "      <th>temperatura_orvalho_minimo</th>\n",
       "      <th>temperatura_orvalho_maximo</th>\n",
       "      <th>umidade</th>\n",
       "      <th>...</th>\n",
       "      <th>umidade_maxima</th>\n",
       "      <th>temperatura</th>\n",
       "      <th>temperatura_minima</th>\n",
       "      <th>temperatura_maxima</th>\n",
       "      <th>rajada_vento_max</th>\n",
       "      <th>direcao_vento</th>\n",
       "      <th>velocidade_vento</th>\n",
       "      <th>radiacao_global</th>\n",
       "      <th>acumulado_chuva_1_h</th>\n",
       "      <th>data_particao</th>\n",
       "    </tr>\n",
       "    <tr>\n",
       "      <th>primary_key</th>\n",
       "      <th></th>\n",
       "      <th></th>\n",
       "      <th></th>\n",
       "      <th></th>\n",
       "      <th></th>\n",
       "      <th></th>\n",
       "      <th></th>\n",
       "      <th></th>\n",
       "      <th></th>\n",
       "      <th></th>\n",
       "      <th></th>\n",
       "      <th></th>\n",
       "      <th></th>\n",
       "      <th></th>\n",
       "      <th></th>\n",
       "      <th></th>\n",
       "      <th></th>\n",
       "      <th></th>\n",
       "      <th></th>\n",
       "      <th></th>\n",
       "      <th></th>\n",
       "    </tr>\n",
       "  </thead>\n",
       "  <tbody>\n",
       "    <tr>\n",
       "      <th>A621-2021-06-18 17:00:00</th>\n",
       "      <td>A621</td>\n",
       "      <td>2021-06-18</td>\n",
       "      <td>17:00:00</td>\n",
       "      <td>1018.9</td>\n",
       "      <td>1018.3</td>\n",
       "      <td>1019.0</td>\n",
       "      <td>14.8</td>\n",
       "      <td>14.0</td>\n",
       "      <td>14.9</td>\n",
       "      <td>NaN</td>\n",
       "      <td>...</td>\n",
       "      <td>NaN</td>\n",
       "      <td>21.5</td>\n",
       "      <td>21.5</td>\n",
       "      <td>22.7</td>\n",
       "      <td>3.9</td>\n",
       "      <td>NaN</td>\n",
       "      <td>1.5</td>\n",
       "      <td>278.100</td>\n",
       "      <td>0.0</td>\n",
       "      <td>2021-06-18</td>\n",
       "    </tr>\n",
       "    <tr>\n",
       "      <th>A621-2021-06-18 17:00:00</th>\n",
       "      <td>A621</td>\n",
       "      <td>2021-06-18</td>\n",
       "      <td>17:00:00</td>\n",
       "      <td>1018.1</td>\n",
       "      <td>1018.0</td>\n",
       "      <td>1018.8</td>\n",
       "      <td>13.5</td>\n",
       "      <td>11.7</td>\n",
       "      <td>14.6</td>\n",
       "      <td>NaN</td>\n",
       "      <td>...</td>\n",
       "      <td>NaN</td>\n",
       "      <td>24.1</td>\n",
       "      <td>23.5</td>\n",
       "      <td>25.0</td>\n",
       "      <td>5.3</td>\n",
       "      <td>NaN</td>\n",
       "      <td>2.4</td>\n",
       "      <td>1959.587</td>\n",
       "      <td>0.0</td>\n",
       "      <td>2021-06-18</td>\n",
       "    </tr>\n",
       "    <tr>\n",
       "      <th>A636-2021-05-21 10:00:00</th>\n",
       "      <td>A636</td>\n",
       "      <td>2021-05-21</td>\n",
       "      <td>10:00:00</td>\n",
       "      <td>1012.9</td>\n",
       "      <td>1012.3</td>\n",
       "      <td>1012.9</td>\n",
       "      <td>18.7</td>\n",
       "      <td>18.5</td>\n",
       "      <td>18.7</td>\n",
       "      <td>NaN</td>\n",
       "      <td>...</td>\n",
       "      <td>NaN</td>\n",
       "      <td>20.2</td>\n",
       "      <td>20.0</td>\n",
       "      <td>20.2</td>\n",
       "      <td>0.8</td>\n",
       "      <td>NaN</td>\n",
       "      <td>0.1</td>\n",
       "      <td>22.231</td>\n",
       "      <td>0.0</td>\n",
       "      <td>2021-05-21</td>\n",
       "    </tr>\n",
       "    <tr>\n",
       "      <th>A636-2021-05-21 10:00:00</th>\n",
       "      <td>A636</td>\n",
       "      <td>2021-05-21</td>\n",
       "      <td>10:00:00</td>\n",
       "      <td>1013.0</td>\n",
       "      <td>1013.0</td>\n",
       "      <td>1013.4</td>\n",
       "      <td>18.6</td>\n",
       "      <td>18.0</td>\n",
       "      <td>19.3</td>\n",
       "      <td>NaN</td>\n",
       "      <td>...</td>\n",
       "      <td>NaN</td>\n",
       "      <td>24.9</td>\n",
       "      <td>23.4</td>\n",
       "      <td>24.9</td>\n",
       "      <td>4.9</td>\n",
       "      <td>NaN</td>\n",
       "      <td>1.7</td>\n",
       "      <td>1638.300</td>\n",
       "      <td>0.0</td>\n",
       "      <td>2021-05-21</td>\n",
       "    </tr>\n",
       "  </tbody>\n",
       "</table>\n",
       "<p>4 rows × 21 columns</p>\n",
       "</div>"
      ],
      "text/plain": [
       "                         id_estacao        data   horario  pressao  \\\n",
       "primary_key                                                          \n",
       "A621-2021-06-18 17:00:00       A621  2021-06-18  17:00:00   1018.9   \n",
       "A621-2021-06-18 17:00:00       A621  2021-06-18  17:00:00   1018.1   \n",
       "A636-2021-05-21 10:00:00       A636  2021-05-21  10:00:00   1012.9   \n",
       "A636-2021-05-21 10:00:00       A636  2021-05-21  10:00:00   1013.0   \n",
       "\n",
       "                          pressao_minima  pressao_maxima  temperatura_orvalho  \\\n",
       "primary_key                                                                     \n",
       "A621-2021-06-18 17:00:00          1018.3          1019.0                 14.8   \n",
       "A621-2021-06-18 17:00:00          1018.0          1018.8                 13.5   \n",
       "A636-2021-05-21 10:00:00          1012.3          1012.9                 18.7   \n",
       "A636-2021-05-21 10:00:00          1013.0          1013.4                 18.6   \n",
       "\n",
       "                          temperatura_orvalho_minimo  \\\n",
       "primary_key                                            \n",
       "A621-2021-06-18 17:00:00                        14.0   \n",
       "A621-2021-06-18 17:00:00                        11.7   \n",
       "A636-2021-05-21 10:00:00                        18.5   \n",
       "A636-2021-05-21 10:00:00                        18.0   \n",
       "\n",
       "                          temperatura_orvalho_maximo  umidade  ...  \\\n",
       "primary_key                                                    ...   \n",
       "A621-2021-06-18 17:00:00                        14.9      NaN  ...   \n",
       "A621-2021-06-18 17:00:00                        14.6      NaN  ...   \n",
       "A636-2021-05-21 10:00:00                        18.7      NaN  ...   \n",
       "A636-2021-05-21 10:00:00                        19.3      NaN  ...   \n",
       "\n",
       "                          umidade_maxima  temperatura  temperatura_minima  \\\n",
       "primary_key                                                                 \n",
       "A621-2021-06-18 17:00:00             NaN         21.5                21.5   \n",
       "A621-2021-06-18 17:00:00             NaN         24.1                23.5   \n",
       "A636-2021-05-21 10:00:00             NaN         20.2                20.0   \n",
       "A636-2021-05-21 10:00:00             NaN         24.9                23.4   \n",
       "\n",
       "                          temperatura_maxima  rajada_vento_max  direcao_vento  \\\n",
       "primary_key                                                                     \n",
       "A621-2021-06-18 17:00:00                22.7               3.9            NaN   \n",
       "A621-2021-06-18 17:00:00                25.0               5.3            NaN   \n",
       "A636-2021-05-21 10:00:00                20.2               0.8            NaN   \n",
       "A636-2021-05-21 10:00:00                24.9               4.9            NaN   \n",
       "\n",
       "                          velocidade_vento  radiacao_global  \\\n",
       "primary_key                                                   \n",
       "A621-2021-06-18 17:00:00               1.5          278.100   \n",
       "A621-2021-06-18 17:00:00               2.4         1959.587   \n",
       "A636-2021-05-21 10:00:00               0.1           22.231   \n",
       "A636-2021-05-21 10:00:00               1.7         1638.300   \n",
       "\n",
       "                          acumulado_chuva_1_h  data_particao  \n",
       "primary_key                                                   \n",
       "A621-2021-06-18 17:00:00                  0.0     2021-06-18  \n",
       "A621-2021-06-18 17:00:00                  0.0     2021-06-18  \n",
       "A636-2021-05-21 10:00:00                  0.0     2021-05-21  \n",
       "A636-2021-05-21 10:00:00                  0.0     2021-05-21  \n",
       "\n",
       "[4 rows x 21 columns]"
      ]
     },
     "execution_count": 23,
     "metadata": {},
     "output_type": "execute_result"
    }
   ],
   "source": [
    "inmet.set_index('primary_key').loc[dup_keys.sample(2).index]"
   ]
  },
  {
   "cell_type": "markdown",
   "metadata": {},
   "source": [
    "Rows with the same index key do not contain the same values but values are very close, as if they were sequential or very close in time. Hint: Average duplicates in data cleaning."
   ]
  },
  {
   "cell_type": "markdown",
   "metadata": {},
   "source": [
    "### 3. Identity columns' values"
   ]
  },
  {
   "cell_type": "markdown",
   "metadata": {},
   "source": [
    "#### Stations' records count"
   ]
  },
  {
   "cell_type": "code",
   "execution_count": 32,
   "metadata": {},
   "outputs": [
    {
     "data": {
      "text/html": [
       "<div>\n",
       "<style scoped>\n",
       "    .dataframe tbody tr th:only-of-type {\n",
       "        vertical-align: middle;\n",
       "    }\n",
       "\n",
       "    .dataframe tbody tr th {\n",
       "        vertical-align: top;\n",
       "    }\n",
       "\n",
       "    .dataframe thead th {\n",
       "        text-align: right;\n",
       "    }\n",
       "</style>\n",
       "<table border=\"1\" class=\"dataframe\">\n",
       "  <thead>\n",
       "    <tr style=\"text-align: right;\">\n",
       "      <th></th>\n",
       "      <th>Registros</th>\n",
       "    </tr>\n",
       "  </thead>\n",
       "  <tbody>\n",
       "    <tr>\n",
       "      <th>A602</th>\n",
       "      <td>126914</td>\n",
       "    </tr>\n",
       "    <tr>\n",
       "      <th>A652</th>\n",
       "      <td>126630</td>\n",
       "    </tr>\n",
       "    <tr>\n",
       "      <th>A621</th>\n",
       "      <td>126451</td>\n",
       "    </tr>\n",
       "    <tr>\n",
       "      <th>A636</th>\n",
       "      <td>126446</td>\n",
       "    </tr>\n",
       "    <tr>\n",
       "      <th>A655</th>\n",
       "      <td>105912</td>\n",
       "    </tr>\n",
       "    <tr>\n",
       "      <th>A654</th>\n",
       "      <td>105912</td>\n",
       "    </tr>\n",
       "    <tr>\n",
       "      <th>A656</th>\n",
       "      <td>105912</td>\n",
       "    </tr>\n",
       "    <tr>\n",
       "      <th>A653</th>\n",
       "      <td>105912</td>\n",
       "    </tr>\n",
       "    <tr>\n",
       "      <th>A651</th>\n",
       "      <td>105912</td>\n",
       "    </tr>\n",
       "  </tbody>\n",
       "</table>\n",
       "</div>"
      ],
      "text/plain": [
       "      Registros\n",
       "A602     126914\n",
       "A652     126630\n",
       "A621     126451\n",
       "A636     126446\n",
       "A655     105912\n",
       "A654     105912\n",
       "A656     105912\n",
       "A653     105912\n",
       "A651     105912"
      ]
     },
     "execution_count": 32,
     "metadata": {},
     "output_type": "execute_result"
    }
   ],
   "source": [
    "inmet['id_estacao'].value_counts().to_frame('Registros')"
   ]
  },
  {
   "cell_type": "code",
   "execution_count": 68,
   "metadata": {},
   "outputs": [],
   "source": [
    "dates = pd.to_datetime(inmet['data'].unique()).sort_values()"
   ]
  },
  {
   "cell_type": "code",
   "execution_count": 70,
   "metadata": {},
   "outputs": [
    {
     "data": {
      "text/plain": [
       "(Timestamp('2010-01-01 00:00:00'), Timestamp('2022-06-02 00:00:00'))"
      ]
     },
     "execution_count": 70,
     "metadata": {},
     "output_type": "execute_result"
    }
   ],
   "source": [
    "dates.min(), dates.max()"
   ]
  },
  {
   "cell_type": "code",
   "execution_count": 75,
   "metadata": {},
   "outputs": [
    {
     "data": {
      "text/plain": [
       "((4536,), 108864)"
      ]
     },
     "execution_count": 75,
     "metadata": {},
     "output_type": "execute_result"
    }
   ],
   "source": [
    "dates.shape, dates.shape[0]*24"
   ]
  },
  {
   "cell_type": "markdown",
   "metadata": {},
   "source": [
    "## Date time description"
   ]
  },
  {
   "cell_type": "code",
   "execution_count": 178,
   "metadata": {},
   "outputs": [
    {
     "data": {
      "text/plain": [
       "108852"
      ]
     },
     "execution_count": 178,
     "metadata": {},
     "output_type": "execute_result"
    }
   ],
   "source": [
    "len(inmet.index.unique())"
   ]
  },
  {
   "cell_type": "markdown",
   "metadata": {},
   "source": [
    "#### Start and end of time series"
   ]
  },
  {
   "cell_type": "code",
   "execution_count": 329,
   "metadata": {},
   "outputs": [
    {
     "data": {
      "text/plain": [
       "(Timestamp('2010-01-01 00:00:00'), Timestamp('2022-06-02 23:00:00'))"
      ]
     },
     "execution_count": 329,
     "metadata": {},
     "output_type": "execute_result"
    }
   ],
   "source": [
    "data.index.min(), data.index.max()"
   ]
  },
  {
   "cell_type": "markdown",
   "metadata": {},
   "source": [
    "#### Time range in days"
   ]
  },
  {
   "cell_type": "code",
   "execution_count": 330,
   "metadata": {},
   "outputs": [
    {
     "data": {
      "text/plain": [
       "Timedelta('4535 days 23:00:00')"
      ]
     },
     "execution_count": 330,
     "metadata": {},
     "output_type": "execute_result"
    }
   ],
   "source": [
    "time_range = data.index.max() - data.index.min(); time_range"
   ]
  },
  {
   "cell_type": "markdown",
   "metadata": {},
   "source": [
    "#### Time range in hours"
   ]
  },
  {
   "cell_type": "code",
   "execution_count": 331,
   "metadata": {},
   "outputs": [
    {
     "data": {
      "text/plain": [
       "108863.0"
      ]
     },
     "execution_count": 331,
     "metadata": {},
     "output_type": "execute_result"
    }
   ],
   "source": [
    "time_range.days * 24 + time_range.seconds / 60 / 60"
   ]
  },
  {
   "cell_type": "markdown",
   "metadata": {},
   "source": [
    "#### Date time range size"
   ]
  },
  {
   "cell_type": "code",
   "execution_count": 21,
   "metadata": {},
   "outputs": [
    {
     "data": {
      "text/plain": [
       "108864"
      ]
     },
     "execution_count": 21,
     "metadata": {},
     "output_type": "execute_result"
    }
   ],
   "source": [
    "new_index = pd.date_range(data.index.min(), data.index.max(), freq='H')\n",
    "\n",
    "len(new_index)"
   ]
  },
  {
   "cell_type": "markdown",
   "metadata": {},
   "source": [
    "#### Unique date times and stations"
   ]
  },
  {
   "cell_type": "code",
   "execution_count": 22,
   "metadata": {},
   "outputs": [
    {
     "data": {
      "text/plain": [
       "(108852, 9)"
      ]
     },
     "execution_count": 22,
     "metadata": {},
     "output_type": "execute_result"
    }
   ],
   "source": [
    "n_unique = len(data.index.unique());\n",
    "n_stations = len(data['id_estacao'].unique())\n",
    "\n",
    "n_unique, n_stations"
   ]
  },
  {
   "cell_type": "markdown",
   "metadata": {},
   "source": [
    "#### All missing hours in dataset"
   ]
  },
  {
   "cell_type": "code",
   "execution_count": 23,
   "metadata": {},
   "outputs": [
    {
     "data": {
      "text/plain": [
       "{Timestamp('2022-04-13 19:00:00', freq='H'),\n",
       " Timestamp('2022-04-13 20:00:00', freq='H'),\n",
       " Timestamp('2022-04-13 21:00:00', freq='H'),\n",
       " Timestamp('2022-04-13 22:00:00', freq='H'),\n",
       " Timestamp('2022-04-13 23:00:00', freq='H'),\n",
       " Timestamp('2022-05-12 17:00:00', freq='H'),\n",
       " Timestamp('2022-05-12 18:00:00', freq='H'),\n",
       " Timestamp('2022-05-12 19:00:00', freq='H'),\n",
       " Timestamp('2022-05-12 20:00:00', freq='H'),\n",
       " Timestamp('2022-05-12 21:00:00', freq='H'),\n",
       " Timestamp('2022-05-12 22:00:00', freq='H'),\n",
       " Timestamp('2022-05-12 23:00:00', freq='H')}"
      ]
     },
     "execution_count": 23,
     "metadata": {},
     "output_type": "execute_result"
    }
   ],
   "source": [
    "set(new_index).difference(data.index.unique())"
   ]
  },
  {
   "cell_type": "markdown",
   "metadata": {},
   "source": [
    "#### Stations times unique hours"
   ]
  },
  {
   "cell_type": "code",
   "execution_count": 334,
   "metadata": {},
   "outputs": [
    {
     "data": {
      "text/plain": [
       "979668"
      ]
     },
     "execution_count": 334,
     "metadata": {},
     "output_type": "execute_result"
    }
   ],
   "source": [
    "n_unique * n_stations"
   ]
  },
  {
   "cell_type": "markdown",
   "metadata": {},
   "source": [
    "#### Number of observations"
   ]
  },
  {
   "cell_type": "code",
   "execution_count": 335,
   "metadata": {},
   "outputs": [
    {
     "data": {
      "text/plain": [
       "(964871, 22)"
      ]
     },
     "execution_count": 335,
     "metadata": {},
     "output_type": "execute_result"
    }
   ],
   "source": [
    "data.shape"
   ]
  },
  {
   "cell_type": "markdown",
   "metadata": {},
   "source": [
    "## Missing Values"
   ]
  },
  {
   "cell_type": "code",
   "execution_count": 394,
   "metadata": {},
   "outputs": [
    {
     "data": {
      "image/png": "[encoded data removed]",
      "text/plain": [
       "<Figure size 1080x288 with 2 Axes>"
      ]
     },
     "metadata": {},
     "output_type": "display_data"
    },
    {
     "data": {
      "image/png": "[encoded data removed]",
      "text/plain": [
       "<Figure size 432x288 with 1 Axes>"
      ]
     },
     "metadata": {},
     "output_type": "display_data"
    }
   ],
   "source": [
    "#### Missing per row\n",
    "\n",
    "fig, ax = plt.subplots(1, 2, figsize=(15, 4))\n",
    "nan_prct = (100 * inmet.isna().sum(1).sort_values() / inmet.shape[1]).rename('Missing Percantage')\n",
    "nan_prct.reset_index(drop=True).plot(title='Missing per Row (%)', ax=ax[0])\n",
    "\n",
    "nan_prct = (inmet.isna().sum(1).value_counts().sort_index()/len(inmet)).rename('Rows percentage')\n",
    "nan_prct.index = (100 * nan_prct.index.values / inmet.shape[1]).round(1)\n",
    "nan_prct.iloc[:5].plot.pie(title='Missing values per row (%)', ax=ax[1]); plt.show()\n",
    "\n",
    "#### Missing per column\n",
    "\n",
    "nan_prct = (100 * inmet.isna().sum().sort_values() / len(inmet)).rename('Missing Percantage')\n",
    "nan_prct.plot.bar(title='Missing per Column (%)'); plt.show()"
   ]
  },
  {
   "cell_type": "markdown",
   "metadata": {},
   "source": [
    "## Metheorological Stations"
   ]
  },
  {
   "cell_type": "markdown",
   "metadata": {},
   "source": [
    "#### Record count per day per station"
   ]
  },
  {
   "cell_type": "code",
   "execution_count": 395,
   "metadata": {},
   "outputs": [
    {
     "data": {
      "image/png": "[encoded data removed]",
      "text/plain": [
       "<Figure size 432x288 with 1 Axes>"
      ]
     },
     "metadata": {},
     "output_type": "display_data"
    }
   ],
   "source": [
    "ax = inmet.groupby(['data', 'id_estacao']).count()['primary_key'].unstack().plot(xticks=[], title='Records per day per station')\n",
    "ax.legend(loc='upper left')\n",
    "plt.show()"
   ]
  },
  {
   "cell_type": "markdown",
   "metadata": {},
   "source": [
    "Conclusion: Stations have fixed 24 records per day. Some periods show 48 records per day indicating duplicates"
   ]
  },
  {
   "cell_type": "markdown",
   "metadata": {},
   "source": [
    "#### Total observations per station"
   ]
  },
  {
   "cell_type": "code",
   "execution_count": 337,
   "metadata": {},
   "outputs": [
    {
     "data": {
      "text/plain": [
       "A602    126914\n",
       "A652    126630\n",
       "A621    126451\n",
       "A636    126446\n",
       "A655    105912\n",
       "A656    105912\n",
       "A654    105912\n",
       "A653    105912\n",
       "A651    105912\n",
       "Name: id_estacao, dtype: int64"
      ]
     },
     "execution_count": 337,
     "metadata": {},
     "output_type": "execute_result"
    }
   ],
   "source": [
    "inmet['id_estacao'].value_counts()#.plot.bar()"
   ]
  },
  {
   "cell_type": "markdown",
   "metadata": {},
   "source": [
    "---\n",
    "# 1. Data Cleaning"
   ]
  },
  {
   "cell_type": "markdown",
   "metadata": {},
   "source": [
    "#### Datetime data type conversion"
   ]
  },
  {
   "cell_type": "code",
   "execution_count": 14,
   "metadata": {},
   "outputs": [],
   "source": [
    "inmet['date-time'] = pd.to_datetime(inmet['data'] + ' ' + inmet['horario'])\n",
    "inmet.set_index(['date-time'], inplace=True)"
   ]
  },
  {
   "cell_type": "code",
   "execution_count": 15,
   "metadata": {},
   "outputs": [
    {
     "data": {
      "text/plain": [
       "primary_key                    object\n",
       "id_estacao                     object\n",
       "data                           object\n",
       "horario                        object\n",
       "pressao                       float64\n",
       "pressao_minima                float64\n",
       "pressao_maxima                float64\n",
       "temperatura_orvalho           float64\n",
       "temperatura_orvalho_minimo    float64\n",
       "temperatura_orvalho_maximo    float64\n",
       "umidade                       float64\n",
       "umidade_minima                float64\n",
       "umidade_maxima                float64\n",
       "temperatura                   float64\n",
       "temperatura_minima            float64\n",
       "temperatura_maxima            float64\n",
       "rajada_vento_max              float64\n",
       "direcao_vento                 float64\n",
       "velocidade_vento              float64\n",
       "radiacao_global               float64\n",
       "acumulado_chuva_1_h           float64\n",
       "data_particao                  object\n",
       "dtype: object"
      ]
     },
     "execution_count": 15,
     "metadata": {},
     "output_type": "execute_result"
    }
   ],
   "source": [
    "inmet.dtypes"
   ]
  },
  {
   "cell_type": "markdown",
   "metadata": {},
   "source": [
    "#### Remove Duplicates"
   ]
  },
  {
   "cell_type": "code",
   "execution_count": 19,
   "metadata": {},
   "outputs": [
    {
     "data": {
      "text/plain": [
       "(1036001, 964871)"
      ]
     },
     "execution_count": 19,
     "metadata": {},
     "output_type": "execute_result"
    }
   ],
   "source": [
    "data = inmet.drop_duplicates(subset=['id_estacao', 'data', 'horario'])\n",
    "\n",
    "len(inmet), len(data)"
   ]
  },
  {
   "cell_type": "markdown",
   "metadata": {},
   "source": [
    "---\n",
    "# Merging datasets"
   ]
  },
  {
   "cell_type": "markdown",
   "metadata": {},
   "source": [
    "#### Options:\n",
    "\n",
    "1. stack all stations' variables as columns, inside defined frenquecy\n",
    "2. New columns for first, second, third, etc, closest stations variables."
   ]
  },
  {
   "cell_type": "markdown",
   "metadata": {},
   "source": [
    "#### Stacking stations observations"
   ]
  },
  {
   "cell_type": "code",
   "execution_count": 268,
   "metadata": {},
   "outputs": [],
   "source": [
    "def merge_groups(df, group_col, drop_cols=[], how='outer'):\n",
    "    groups = df[group_col].unique()\n",
    "    for group in groups:\n",
    "        group_df = df[df[group_col]==group].drop(drop_cols, 1)\n",
    "        group_df = group_df.rename(columns={col: col+' - '+group for col in group_df.columns})\n",
    "        if group==groups[0]:\n",
    "            stacked = group_df; continue\n",
    "        stacked = pd.merge(stacked, group_df, on=group_df.index.name, how=how)\n",
    "    return stacked\n",
    "\n",
    "def concat_groups(df, group_col, drop_cols=[], how='outer'):\n",
    "    dfs = []; groups = df[group_col].unique()\n",
    "    for group in groups:\n",
    "        group_df = df[df[group_col]==group].drop(drop_cols, 1).add_suffix(' - '+group)\n",
    "        group_df = group_df\n",
    "        dfs.append(group_df)\n",
    "    return pd.concat(dfs)"
   ]
  },
  {
   "cell_type": "markdown",
   "metadata": {},
   "source": [
    "#### Merging stations datasets"
   ]
  },
  {
   "cell_type": "code",
   "execution_count": 319,
   "metadata": {},
   "outputs": [
    {
     "data": {
      "text/plain": [
       "(108852, 153)"
      ]
     },
     "execution_count": 319,
     "metadata": {},
     "output_type": "execute_result"
    }
   ],
   "source": [
    "merge = merge_groups(\n",
    "    data, group_col='id_estacao',\n",
    "    drop_cols=inmet_keys\n",
    ")\n",
    "\n",
    "merge.shape"
   ]
  },
  {
   "cell_type": "code",
   "execution_count": 402,
   "metadata": {},
   "outputs": [
    {
     "data": {
      "text/html": [
       "<div>\n",
       "<style scoped>\n",
       "    .dataframe tbody tr th:only-of-type {\n",
       "        vertical-align: middle;\n",
       "    }\n",
       "\n",
       "    .dataframe tbody tr th {\n",
       "        vertical-align: top;\n",
       "    }\n",
       "\n",
       "    .dataframe thead th {\n",
       "        text-align: right;\n",
       "    }\n",
       "</style>\n",
       "<table border=\"1\" class=\"dataframe\">\n",
       "  <thead>\n",
       "    <tr style=\"text-align: right;\">\n",
       "      <th></th>\n",
       "      <th>pressao - A602</th>\n",
       "      <th>pressao_minima - A602</th>\n",
       "      <th>pressao_maxima - A602</th>\n",
       "      <th>temperatura_orvalho - A602</th>\n",
       "      <th>temperatura_orvalho_minimo - A602</th>\n",
       "      <th>temperatura_orvalho_maximo - A602</th>\n",
       "      <th>umidade - A602</th>\n",
       "      <th>umidade_minima - A602</th>\n",
       "      <th>umidade_maxima - A602</th>\n",
       "      <th>temperatura - A602</th>\n",
       "      <th>...</th>\n",
       "      <th>umidade_minima - A656</th>\n",
       "      <th>umidade_maxima - A656</th>\n",
       "      <th>temperatura - A656</th>\n",
       "      <th>temperatura_minima - A656</th>\n",
       "      <th>temperatura_maxima - A656</th>\n",
       "      <th>rajada_vento_max - A656</th>\n",
       "      <th>direcao_vento - A656</th>\n",
       "      <th>velocidade_vento - A656</th>\n",
       "      <th>radiacao_global - A656</th>\n",
       "      <th>acumulado_chuva_1_h - A656</th>\n",
       "    </tr>\n",
       "    <tr>\n",
       "      <th>datetime</th>\n",
       "      <th></th>\n",
       "      <th></th>\n",
       "      <th></th>\n",
       "      <th></th>\n",
       "      <th></th>\n",
       "      <th></th>\n",
       "      <th></th>\n",
       "      <th></th>\n",
       "      <th></th>\n",
       "      <th></th>\n",
       "      <th></th>\n",
       "      <th></th>\n",
       "      <th></th>\n",
       "      <th></th>\n",
       "      <th></th>\n",
       "      <th></th>\n",
       "      <th></th>\n",
       "      <th></th>\n",
       "      <th></th>\n",
       "      <th></th>\n",
       "      <th></th>\n",
       "    </tr>\n",
       "  </thead>\n",
       "  <tbody>\n",
       "    <tr>\n",
       "      <th>2012-04-01 21:00:00</th>\n",
       "      <td>1014.5</td>\n",
       "      <td>1014.5</td>\n",
       "      <td>1014.7</td>\n",
       "      <td>NaN</td>\n",
       "      <td>NaN</td>\n",
       "      <td>NaN</td>\n",
       "      <td>NaN</td>\n",
       "      <td>NaN</td>\n",
       "      <td>NaN</td>\n",
       "      <td>24.3</td>\n",
       "      <td>...</td>\n",
       "      <td>NaN</td>\n",
       "      <td>NaN</td>\n",
       "      <td>NaN</td>\n",
       "      <td>NaN</td>\n",
       "      <td>NaN</td>\n",
       "      <td>NaN</td>\n",
       "      <td>NaN</td>\n",
       "      <td>NaN</td>\n",
       "      <td>NaN</td>\n",
       "      <td>NaN</td>\n",
       "    </tr>\n",
       "    <tr>\n",
       "      <th>2012-04-01 17:00:00</th>\n",
       "      <td>1014.5</td>\n",
       "      <td>1014.5</td>\n",
       "      <td>1015.0</td>\n",
       "      <td>NaN</td>\n",
       "      <td>NaN</td>\n",
       "      <td>NaN</td>\n",
       "      <td>NaN</td>\n",
       "      <td>NaN</td>\n",
       "      <td>NaN</td>\n",
       "      <td>25.9</td>\n",
       "      <td>...</td>\n",
       "      <td>NaN</td>\n",
       "      <td>NaN</td>\n",
       "      <td>NaN</td>\n",
       "      <td>NaN</td>\n",
       "      <td>NaN</td>\n",
       "      <td>NaN</td>\n",
       "      <td>NaN</td>\n",
       "      <td>NaN</td>\n",
       "      <td>NaN</td>\n",
       "      <td>NaN</td>\n",
       "    </tr>\n",
       "    <tr>\n",
       "      <th>2012-04-01 16:00:00</th>\n",
       "      <td>1015.0</td>\n",
       "      <td>1014.9</td>\n",
       "      <td>1015.7</td>\n",
       "      <td>NaN</td>\n",
       "      <td>NaN</td>\n",
       "      <td>NaN</td>\n",
       "      <td>NaN</td>\n",
       "      <td>NaN</td>\n",
       "      <td>NaN</td>\n",
       "      <td>25.9</td>\n",
       "      <td>...</td>\n",
       "      <td>NaN</td>\n",
       "      <td>NaN</td>\n",
       "      <td>NaN</td>\n",
       "      <td>NaN</td>\n",
       "      <td>NaN</td>\n",
       "      <td>NaN</td>\n",
       "      <td>NaN</td>\n",
       "      <td>NaN</td>\n",
       "      <td>NaN</td>\n",
       "      <td>NaN</td>\n",
       "    </tr>\n",
       "    <tr>\n",
       "      <th>2012-04-01 23:00:00</th>\n",
       "      <td>1015.5</td>\n",
       "      <td>1014.9</td>\n",
       "      <td>1015.5</td>\n",
       "      <td>NaN</td>\n",
       "      <td>NaN</td>\n",
       "      <td>NaN</td>\n",
       "      <td>NaN</td>\n",
       "      <td>NaN</td>\n",
       "      <td>NaN</td>\n",
       "      <td>23.2</td>\n",
       "      <td>...</td>\n",
       "      <td>NaN</td>\n",
       "      <td>NaN</td>\n",
       "      <td>NaN</td>\n",
       "      <td>NaN</td>\n",
       "      <td>NaN</td>\n",
       "      <td>NaN</td>\n",
       "      <td>NaN</td>\n",
       "      <td>NaN</td>\n",
       "      <td>NaN</td>\n",
       "      <td>NaN</td>\n",
       "    </tr>\n",
       "    <tr>\n",
       "      <th>2012-04-01 08:00:00</th>\n",
       "      <td>1014.9</td>\n",
       "      <td>1014.6</td>\n",
       "      <td>1014.9</td>\n",
       "      <td>NaN</td>\n",
       "      <td>NaN</td>\n",
       "      <td>NaN</td>\n",
       "      <td>NaN</td>\n",
       "      <td>NaN</td>\n",
       "      <td>NaN</td>\n",
       "      <td>20.4</td>\n",
       "      <td>...</td>\n",
       "      <td>NaN</td>\n",
       "      <td>NaN</td>\n",
       "      <td>NaN</td>\n",
       "      <td>NaN</td>\n",
       "      <td>NaN</td>\n",
       "      <td>NaN</td>\n",
       "      <td>NaN</td>\n",
       "      <td>NaN</td>\n",
       "      <td>NaN</td>\n",
       "      <td>NaN</td>\n",
       "    </tr>\n",
       "    <tr>\n",
       "      <th>...</th>\n",
       "      <td>...</td>\n",
       "      <td>...</td>\n",
       "      <td>...</td>\n",
       "      <td>...</td>\n",
       "      <td>...</td>\n",
       "      <td>...</td>\n",
       "      <td>...</td>\n",
       "      <td>...</td>\n",
       "      <td>...</td>\n",
       "      <td>...</td>\n",
       "      <td>...</td>\n",
       "      <td>...</td>\n",
       "      <td>...</td>\n",
       "      <td>...</td>\n",
       "      <td>...</td>\n",
       "      <td>...</td>\n",
       "      <td>...</td>\n",
       "      <td>...</td>\n",
       "      <td>...</td>\n",
       "      <td>...</td>\n",
       "      <td>...</td>\n",
       "    </tr>\n",
       "    <tr>\n",
       "      <th>2017-07-24 18:00:00</th>\n",
       "      <td>1023.6</td>\n",
       "      <td>1023.6</td>\n",
       "      <td>1024.1</td>\n",
       "      <td>15.8</td>\n",
       "      <td>14.7</td>\n",
       "      <td>16.2</td>\n",
       "      <td>NaN</td>\n",
       "      <td>NaN</td>\n",
       "      <td>NaN</td>\n",
       "      <td>24.6</td>\n",
       "      <td>...</td>\n",
       "      <td>NaN</td>\n",
       "      <td>NaN</td>\n",
       "      <td>NaN</td>\n",
       "      <td>NaN</td>\n",
       "      <td>NaN</td>\n",
       "      <td>NaN</td>\n",
       "      <td>NaN</td>\n",
       "      <td>NaN</td>\n",
       "      <td>NaN</td>\n",
       "      <td>NaN</td>\n",
       "    </tr>\n",
       "    <tr>\n",
       "      <th>2017-07-24 20:00:00</th>\n",
       "      <td>1023.6</td>\n",
       "      <td>1023.4</td>\n",
       "      <td>1023.6</td>\n",
       "      <td>16.7</td>\n",
       "      <td>15.2</td>\n",
       "      <td>16.7</td>\n",
       "      <td>NaN</td>\n",
       "      <td>NaN</td>\n",
       "      <td>NaN</td>\n",
       "      <td>22.3</td>\n",
       "      <td>...</td>\n",
       "      <td>NaN</td>\n",
       "      <td>NaN</td>\n",
       "      <td>NaN</td>\n",
       "      <td>NaN</td>\n",
       "      <td>NaN</td>\n",
       "      <td>NaN</td>\n",
       "      <td>NaN</td>\n",
       "      <td>NaN</td>\n",
       "      <td>NaN</td>\n",
       "      <td>NaN</td>\n",
       "    </tr>\n",
       "    <tr>\n",
       "      <th>2017-07-24 21:00:00</th>\n",
       "      <td>1023.6</td>\n",
       "      <td>1023.5</td>\n",
       "      <td>1023.7</td>\n",
       "      <td>16.5</td>\n",
       "      <td>16.4</td>\n",
       "      <td>16.8</td>\n",
       "      <td>NaN</td>\n",
       "      <td>NaN</td>\n",
       "      <td>NaN</td>\n",
       "      <td>21.4</td>\n",
       "      <td>...</td>\n",
       "      <td>NaN</td>\n",
       "      <td>NaN</td>\n",
       "      <td>NaN</td>\n",
       "      <td>NaN</td>\n",
       "      <td>NaN</td>\n",
       "      <td>NaN</td>\n",
       "      <td>NaN</td>\n",
       "      <td>NaN</td>\n",
       "      <td>NaN</td>\n",
       "      <td>NaN</td>\n",
       "    </tr>\n",
       "    <tr>\n",
       "      <th>2017-07-24 22:00:00</th>\n",
       "      <td>1023.6</td>\n",
       "      <td>1023.5</td>\n",
       "      <td>1023.7</td>\n",
       "      <td>16.0</td>\n",
       "      <td>16.0</td>\n",
       "      <td>16.9</td>\n",
       "      <td>NaN</td>\n",
       "      <td>NaN</td>\n",
       "      <td>NaN</td>\n",
       "      <td>21.7</td>\n",
       "      <td>...</td>\n",
       "      <td>NaN</td>\n",
       "      <td>NaN</td>\n",
       "      <td>NaN</td>\n",
       "      <td>NaN</td>\n",
       "      <td>NaN</td>\n",
       "      <td>NaN</td>\n",
       "      <td>NaN</td>\n",
       "      <td>NaN</td>\n",
       "      <td>NaN</td>\n",
       "      <td>NaN</td>\n",
       "    </tr>\n",
       "    <tr>\n",
       "      <th>2022-04-13 18:00:00</th>\n",
       "      <td>NaN</td>\n",
       "      <td>NaN</td>\n",
       "      <td>NaN</td>\n",
       "      <td>NaN</td>\n",
       "      <td>NaN</td>\n",
       "      <td>NaN</td>\n",
       "      <td>NaN</td>\n",
       "      <td>NaN</td>\n",
       "      <td>NaN</td>\n",
       "      <td>NaN</td>\n",
       "      <td>...</td>\n",
       "      <td>NaN</td>\n",
       "      <td>NaN</td>\n",
       "      <td>NaN</td>\n",
       "      <td>NaN</td>\n",
       "      <td>NaN</td>\n",
       "      <td>NaN</td>\n",
       "      <td>NaN</td>\n",
       "      <td>NaN</td>\n",
       "      <td>NaN</td>\n",
       "      <td>NaN</td>\n",
       "    </tr>\n",
       "  </tbody>\n",
       "</table>\n",
       "<p>108852 rows × 153 columns</p>\n",
       "</div>"
      ],
      "text/plain": [
       "                     pressao - A602  pressao_minima - A602  \\\n",
       "datetime                                                     \n",
       "2012-04-01 21:00:00          1014.5                 1014.5   \n",
       "2012-04-01 17:00:00          1014.5                 1014.5   \n",
       "2012-04-01 16:00:00          1015.0                 1014.9   \n",
       "2012-04-01 23:00:00          1015.5                 1014.9   \n",
       "2012-04-01 08:00:00          1014.9                 1014.6   \n",
       "...                             ...                    ...   \n",
       "2017-07-24 18:00:00          1023.6                 1023.6   \n",
       "2017-07-24 20:00:00          1023.6                 1023.4   \n",
       "2017-07-24 21:00:00          1023.6                 1023.5   \n",
       "2017-07-24 22:00:00          1023.6                 1023.5   \n",
       "2022-04-13 18:00:00             NaN                    NaN   \n",
       "\n",
       "                     pressao_maxima - A602  temperatura_orvalho - A602  \\\n",
       "datetime                                                                 \n",
       "2012-04-01 21:00:00                 1014.7                         NaN   \n",
       "2012-04-01 17:00:00                 1015.0                         NaN   \n",
       "2012-04-01 16:00:00                 1015.7                         NaN   \n",
       "2012-04-01 23:00:00                 1015.5                         NaN   \n",
       "2012-04-01 08:00:00                 1014.9                         NaN   \n",
       "...                                    ...                         ...   \n",
       "2017-07-24 18:00:00                 1024.1                        15.8   \n",
       "2017-07-24 20:00:00                 1023.6                        16.7   \n",
       "2017-07-24 21:00:00                 1023.7                        16.5   \n",
       "2017-07-24 22:00:00                 1023.7                        16.0   \n",
       "2022-04-13 18:00:00                    NaN                         NaN   \n",
       "\n",
       "                     temperatura_orvalho_minimo - A602  \\\n",
       "datetime                                                 \n",
       "2012-04-01 21:00:00                                NaN   \n",
       "2012-04-01 17:00:00                                NaN   \n",
       "2012-04-01 16:00:00                                NaN   \n",
       "2012-04-01 23:00:00                                NaN   \n",
       "2012-04-01 08:00:00                                NaN   \n",
       "...                                                ...   \n",
       "2017-07-24 18:00:00                               14.7   \n",
       "2017-07-24 20:00:00                               15.2   \n",
       "2017-07-24 21:00:00                               16.4   \n",
       "2017-07-24 22:00:00                               16.0   \n",
       "2022-04-13 18:00:00                                NaN   \n",
       "\n",
       "                     temperatura_orvalho_maximo - A602  umidade - A602  \\\n",
       "datetime                                                                 \n",
       "2012-04-01 21:00:00                                NaN             NaN   \n",
       "2012-04-01 17:00:00                                NaN             NaN   \n",
       "2012-04-01 16:00:00                                NaN             NaN   \n",
       "2012-04-01 23:00:00                                NaN             NaN   \n",
       "2012-04-01 08:00:00                                NaN             NaN   \n",
       "...                                                ...             ...   \n",
       "2017-07-24 18:00:00                               16.2             NaN   \n",
       "2017-07-24 20:00:00                               16.7             NaN   \n",
       "2017-07-24 21:00:00                               16.8             NaN   \n",
       "2017-07-24 22:00:00                               16.9             NaN   \n",
       "2022-04-13 18:00:00                                NaN             NaN   \n",
       "\n",
       "                     umidade_minima - A602  umidade_maxima - A602  \\\n",
       "datetime                                                            \n",
       "2012-04-01 21:00:00                    NaN                    NaN   \n",
       "2012-04-01 17:00:00                    NaN                    NaN   \n",
       "2012-04-01 16:00:00                    NaN                    NaN   \n",
       "2012-04-01 23:00:00                    NaN                    NaN   \n",
       "2012-04-01 08:00:00                    NaN                    NaN   \n",
       "...                                    ...                    ...   \n",
       "2017-07-24 18:00:00                    NaN                    NaN   \n",
       "2017-07-24 20:00:00                    NaN                    NaN   \n",
       "2017-07-24 21:00:00                    NaN                    NaN   \n",
       "2017-07-24 22:00:00                    NaN                    NaN   \n",
       "2022-04-13 18:00:00                    NaN                    NaN   \n",
       "\n",
       "                     temperatura - A602  ...  umidade_minima - A656  \\\n",
       "datetime                                 ...                          \n",
       "2012-04-01 21:00:00                24.3  ...                    NaN   \n",
       "2012-04-01 17:00:00                25.9  ...                    NaN   \n",
       "2012-04-01 16:00:00                25.9  ...                    NaN   \n",
       "2012-04-01 23:00:00                23.2  ...                    NaN   \n",
       "2012-04-01 08:00:00                20.4  ...                    NaN   \n",
       "...                                 ...  ...                    ...   \n",
       "2017-07-24 18:00:00                24.6  ...                    NaN   \n",
       "2017-07-24 20:00:00                22.3  ...                    NaN   \n",
       "2017-07-24 21:00:00                21.4  ...                    NaN   \n",
       "2017-07-24 22:00:00                21.7  ...                    NaN   \n",
       "2022-04-13 18:00:00                 NaN  ...                    NaN   \n",
       "\n",
       "                     umidade_maxima - A656  temperatura - A656  \\\n",
       "datetime                                                         \n",
       "2012-04-01 21:00:00                    NaN                 NaN   \n",
       "2012-04-01 17:00:00                    NaN                 NaN   \n",
       "2012-04-01 16:00:00                    NaN                 NaN   \n",
       "2012-04-01 23:00:00                    NaN                 NaN   \n",
       "2012-04-01 08:00:00                    NaN                 NaN   \n",
       "...                                    ...                 ...   \n",
       "2017-07-24 18:00:00                    NaN                 NaN   \n",
       "2017-07-24 20:00:00                    NaN                 NaN   \n",
       "2017-07-24 21:00:00                    NaN                 NaN   \n",
       "2017-07-24 22:00:00                    NaN                 NaN   \n",
       "2022-04-13 18:00:00                    NaN                 NaN   \n",
       "\n",
       "                     temperatura_minima - A656  temperatura_maxima - A656  \\\n",
       "datetime                                                                    \n",
       "2012-04-01 21:00:00                        NaN                        NaN   \n",
       "2012-04-01 17:00:00                        NaN                        NaN   \n",
       "2012-04-01 16:00:00                        NaN                        NaN   \n",
       "2012-04-01 23:00:00                        NaN                        NaN   \n",
       "2012-04-01 08:00:00                        NaN                        NaN   \n",
       "...                                        ...                        ...   \n",
       "2017-07-24 18:00:00                        NaN                        NaN   \n",
       "2017-07-24 20:00:00                        NaN                        NaN   \n",
       "2017-07-24 21:00:00                        NaN                        NaN   \n",
       "2017-07-24 22:00:00                        NaN                        NaN   \n",
       "2022-04-13 18:00:00                        NaN                        NaN   \n",
       "\n",
       "                     rajada_vento_max - A656  direcao_vento - A656  \\\n",
       "datetime                                                             \n",
       "2012-04-01 21:00:00                      NaN                   NaN   \n",
       "2012-04-01 17:00:00                      NaN                   NaN   \n",
       "2012-04-01 16:00:00                      NaN                   NaN   \n",
       "2012-04-01 23:00:00                      NaN                   NaN   \n",
       "2012-04-01 08:00:00                      NaN                   NaN   \n",
       "...                                      ...                   ...   \n",
       "2017-07-24 18:00:00                      NaN                   NaN   \n",
       "2017-07-24 20:00:00                      NaN                   NaN   \n",
       "2017-07-24 21:00:00                      NaN                   NaN   \n",
       "2017-07-24 22:00:00                      NaN                   NaN   \n",
       "2022-04-13 18:00:00                      NaN                   NaN   \n",
       "\n",
       "                     velocidade_vento - A656  radiacao_global - A656  \\\n",
       "datetime                                                               \n",
       "2012-04-01 21:00:00                      NaN                     NaN   \n",
       "2012-04-01 17:00:00                      NaN                     NaN   \n",
       "2012-04-01 16:00:00                      NaN                     NaN   \n",
       "2012-04-01 23:00:00                      NaN                     NaN   \n",
       "2012-04-01 08:00:00                      NaN                     NaN   \n",
       "...                                      ...                     ...   \n",
       "2017-07-24 18:00:00                      NaN                     NaN   \n",
       "2017-07-24 20:00:00                      NaN                     NaN   \n",
       "2017-07-24 21:00:00                      NaN                     NaN   \n",
       "2017-07-24 22:00:00                      NaN                     NaN   \n",
       "2022-04-13 18:00:00                      NaN                     NaN   \n",
       "\n",
       "                     acumulado_chuva_1_h - A656  \n",
       "datetime                                         \n",
       "2012-04-01 21:00:00                         NaN  \n",
       "2012-04-01 17:00:00                         NaN  \n",
       "2012-04-01 16:00:00                         NaN  \n",
       "2012-04-01 23:00:00                         NaN  \n",
       "2012-04-01 08:00:00                         NaN  \n",
       "...                                         ...  \n",
       "2017-07-24 18:00:00                         NaN  \n",
       "2017-07-24 20:00:00                         NaN  \n",
       "2017-07-24 21:00:00                         NaN  \n",
       "2017-07-24 22:00:00                         NaN  \n",
       "2022-04-13 18:00:00                         NaN  \n",
       "\n",
       "[108852 rows x 153 columns]"
      ]
     },
     "execution_count": 402,
     "metadata": {},
     "output_type": "execute_result"
    }
   ],
   "source": [
    "merge#.head(3)"
   ]
  },
  {
   "cell_type": "markdown",
   "metadata": {},
   "source": [
    "## Result Analysis"
   ]
  },
  {
   "cell_type": "markdown",
   "metadata": {},
   "source": [
    "#### Missing per column"
   ]
  },
  {
   "cell_type": "code",
   "execution_count": 313,
   "metadata": {},
   "outputs": [
    {
     "data": {
      "image/png": "[encoded data removed]",
      "text/plain": [
       "<Figure size 432x288 with 1 Axes>"
      ]
     },
     "metadata": {},
     "output_type": "display_data"
    }
   ],
   "source": [
    "nan_merge = merge.isna().sum().sort_values() / len(merge)\n",
    "\n",
    "nan_merge.plot(title='Missing per column (%)', xticks=[], marker='o', ms=4); plt.show()"
   ]
  },
  {
   "cell_type": "markdown",
   "metadata": {},
   "source": [
    "#### Missing per row"
   ]
  },
  {
   "cell_type": "code",
   "execution_count": 383,
   "metadata": {},
   "outputs": [
    {
     "data": {
      "image/png": "[encoded data removed]",
      "text/plain": [
       "<Figure size 432x288 with 1 Axes>"
      ]
     },
     "metadata": {},
     "output_type": "display_data"
    }
   ],
   "source": [
    "nan_merge = merge.isna().sum(1).sort_values() / merge.shape[1]\n",
    "\n",
    "nan_merge.reset_index(drop=True).plot(title='Missing per row (%)', xticks=[], marker='o', ms=4); plt.show()"
   ]
  },
  {
   "cell_type": "code",
   "execution_count": 401,
   "metadata": {},
   "outputs": [
    {
     "data": {
      "text/html": [
       "<div>\n",
       "<style scoped>\n",
       "    .dataframe tbody tr th:only-of-type {\n",
       "        vertical-align: middle;\n",
       "    }\n",
       "\n",
       "    .dataframe tbody tr th {\n",
       "        vertical-align: top;\n",
       "    }\n",
       "\n",
       "    .dataframe thead th {\n",
       "        text-align: right;\n",
       "    }\n",
       "</style>\n",
       "<table border=\"1\" class=\"dataframe\">\n",
       "  <thead>\n",
       "    <tr style=\"text-align: right;\">\n",
       "      <th></th>\n",
       "      <th>pressao - A602</th>\n",
       "      <th>pressao_minima - A602</th>\n",
       "      <th>pressao_maxima - A602</th>\n",
       "      <th>temperatura_orvalho - A602</th>\n",
       "      <th>temperatura_orvalho_minimo - A602</th>\n",
       "      <th>temperatura_orvalho_maximo - A602</th>\n",
       "      <th>umidade - A602</th>\n",
       "      <th>umidade_minima - A602</th>\n",
       "      <th>umidade_maxima - A602</th>\n",
       "      <th>temperatura - A602</th>\n",
       "      <th>...</th>\n",
       "      <th>umidade_minima - A656</th>\n",
       "      <th>umidade_maxima - A656</th>\n",
       "      <th>temperatura - A656</th>\n",
       "      <th>temperatura_minima - A656</th>\n",
       "      <th>temperatura_maxima - A656</th>\n",
       "      <th>rajada_vento_max - A656</th>\n",
       "      <th>direcao_vento - A656</th>\n",
       "      <th>velocidade_vento - A656</th>\n",
       "      <th>radiacao_global - A656</th>\n",
       "      <th>acumulado_chuva_1_h - A656</th>\n",
       "    </tr>\n",
       "  </thead>\n",
       "  <tbody>\n",
       "    <tr>\n",
       "      <th>2010-01-01 00:00:00</th>\n",
       "      <td>1007.2</td>\n",
       "      <td>1006.8</td>\n",
       "      <td>1007.2</td>\n",
       "      <td>21.7</td>\n",
       "      <td>21.6</td>\n",
       "      <td>22.2</td>\n",
       "      <td>NaN</td>\n",
       "      <td>NaN</td>\n",
       "      <td>NaN</td>\n",
       "      <td>23.7</td>\n",
       "      <td>...</td>\n",
       "      <td>NaN</td>\n",
       "      <td>NaN</td>\n",
       "      <td>NaN</td>\n",
       "      <td>NaN</td>\n",
       "      <td>NaN</td>\n",
       "      <td>NaN</td>\n",
       "      <td>NaN</td>\n",
       "      <td>NaN</td>\n",
       "      <td>NaN</td>\n",
       "      <td>NaN</td>\n",
       "    </tr>\n",
       "    <tr>\n",
       "      <th>2010-01-01 01:00:00</th>\n",
       "      <td>1007.7</td>\n",
       "      <td>1007.2</td>\n",
       "      <td>1007.7</td>\n",
       "      <td>22.2</td>\n",
       "      <td>21.7</td>\n",
       "      <td>22.2</td>\n",
       "      <td>NaN</td>\n",
       "      <td>NaN</td>\n",
       "      <td>NaN</td>\n",
       "      <td>24.4</td>\n",
       "      <td>...</td>\n",
       "      <td>NaN</td>\n",
       "      <td>NaN</td>\n",
       "      <td>NaN</td>\n",
       "      <td>NaN</td>\n",
       "      <td>NaN</td>\n",
       "      <td>NaN</td>\n",
       "      <td>NaN</td>\n",
       "      <td>NaN</td>\n",
       "      <td>NaN</td>\n",
       "      <td>NaN</td>\n",
       "    </tr>\n",
       "    <tr>\n",
       "      <th>2010-01-01 02:00:00</th>\n",
       "      <td>1007.5</td>\n",
       "      <td>1007.5</td>\n",
       "      <td>1007.8</td>\n",
       "      <td>22.2</td>\n",
       "      <td>22.1</td>\n",
       "      <td>22.4</td>\n",
       "      <td>NaN</td>\n",
       "      <td>NaN</td>\n",
       "      <td>NaN</td>\n",
       "      <td>24.0</td>\n",
       "      <td>...</td>\n",
       "      <td>NaN</td>\n",
       "      <td>NaN</td>\n",
       "      <td>NaN</td>\n",
       "      <td>NaN</td>\n",
       "      <td>NaN</td>\n",
       "      <td>NaN</td>\n",
       "      <td>NaN</td>\n",
       "      <td>NaN</td>\n",
       "      <td>NaN</td>\n",
       "      <td>NaN</td>\n",
       "    </tr>\n",
       "    <tr>\n",
       "      <th>2010-01-01 03:00:00</th>\n",
       "      <td>1006.7</td>\n",
       "      <td>1006.7</td>\n",
       "      <td>1007.5</td>\n",
       "      <td>22.1</td>\n",
       "      <td>22.1</td>\n",
       "      <td>22.2</td>\n",
       "      <td>NaN</td>\n",
       "      <td>NaN</td>\n",
       "      <td>NaN</td>\n",
       "      <td>23.8</td>\n",
       "      <td>...</td>\n",
       "      <td>NaN</td>\n",
       "      <td>NaN</td>\n",
       "      <td>NaN</td>\n",
       "      <td>NaN</td>\n",
       "      <td>NaN</td>\n",
       "      <td>NaN</td>\n",
       "      <td>NaN</td>\n",
       "      <td>NaN</td>\n",
       "      <td>NaN</td>\n",
       "      <td>NaN</td>\n",
       "    </tr>\n",
       "    <tr>\n",
       "      <th>2010-01-01 04:00:00</th>\n",
       "      <td>1005.7</td>\n",
       "      <td>1005.7</td>\n",
       "      <td>1006.7</td>\n",
       "      <td>21.9</td>\n",
       "      <td>21.9</td>\n",
       "      <td>22.2</td>\n",
       "      <td>NaN</td>\n",
       "      <td>NaN</td>\n",
       "      <td>NaN</td>\n",
       "      <td>24.6</td>\n",
       "      <td>...</td>\n",
       "      <td>NaN</td>\n",
       "      <td>NaN</td>\n",
       "      <td>NaN</td>\n",
       "      <td>NaN</td>\n",
       "      <td>NaN</td>\n",
       "      <td>NaN</td>\n",
       "      <td>NaN</td>\n",
       "      <td>NaN</td>\n",
       "      <td>NaN</td>\n",
       "      <td>NaN</td>\n",
       "    </tr>\n",
       "    <tr>\n",
       "      <th>...</th>\n",
       "      <td>...</td>\n",
       "      <td>...</td>\n",
       "      <td>...</td>\n",
       "      <td>...</td>\n",
       "      <td>...</td>\n",
       "      <td>...</td>\n",
       "      <td>...</td>\n",
       "      <td>...</td>\n",
       "      <td>...</td>\n",
       "      <td>...</td>\n",
       "      <td>...</td>\n",
       "      <td>...</td>\n",
       "      <td>...</td>\n",
       "      <td>...</td>\n",
       "      <td>...</td>\n",
       "      <td>...</td>\n",
       "      <td>...</td>\n",
       "      <td>...</td>\n",
       "      <td>...</td>\n",
       "      <td>...</td>\n",
       "      <td>...</td>\n",
       "    </tr>\n",
       "    <tr>\n",
       "      <th>2022-06-02 19:00:00</th>\n",
       "      <td>1015.7</td>\n",
       "      <td>1015.5</td>\n",
       "      <td>1015.8</td>\n",
       "      <td>NaN</td>\n",
       "      <td>NaN</td>\n",
       "      <td>NaN</td>\n",
       "      <td>NaN</td>\n",
       "      <td>NaN</td>\n",
       "      <td>NaN</td>\n",
       "      <td>22.2</td>\n",
       "      <td>...</td>\n",
       "      <td>NaN</td>\n",
       "      <td>NaN</td>\n",
       "      <td>NaN</td>\n",
       "      <td>NaN</td>\n",
       "      <td>NaN</td>\n",
       "      <td>NaN</td>\n",
       "      <td>NaN</td>\n",
       "      <td>NaN</td>\n",
       "      <td>NaN</td>\n",
       "      <td>NaN</td>\n",
       "    </tr>\n",
       "    <tr>\n",
       "      <th>2022-06-02 20:00:00</th>\n",
       "      <td>1016.1</td>\n",
       "      <td>1015.7</td>\n",
       "      <td>1016.1</td>\n",
       "      <td>NaN</td>\n",
       "      <td>NaN</td>\n",
       "      <td>NaN</td>\n",
       "      <td>NaN</td>\n",
       "      <td>NaN</td>\n",
       "      <td>NaN</td>\n",
       "      <td>22.2</td>\n",
       "      <td>...</td>\n",
       "      <td>NaN</td>\n",
       "      <td>NaN</td>\n",
       "      <td>NaN</td>\n",
       "      <td>NaN</td>\n",
       "      <td>NaN</td>\n",
       "      <td>NaN</td>\n",
       "      <td>NaN</td>\n",
       "      <td>NaN</td>\n",
       "      <td>NaN</td>\n",
       "      <td>NaN</td>\n",
       "    </tr>\n",
       "    <tr>\n",
       "      <th>2022-06-02 21:00:00</th>\n",
       "      <td>1016.0</td>\n",
       "      <td>1016.0</td>\n",
       "      <td>1016.4</td>\n",
       "      <td>NaN</td>\n",
       "      <td>NaN</td>\n",
       "      <td>NaN</td>\n",
       "      <td>NaN</td>\n",
       "      <td>NaN</td>\n",
       "      <td>NaN</td>\n",
       "      <td>22.2</td>\n",
       "      <td>...</td>\n",
       "      <td>NaN</td>\n",
       "      <td>NaN</td>\n",
       "      <td>NaN</td>\n",
       "      <td>NaN</td>\n",
       "      <td>NaN</td>\n",
       "      <td>NaN</td>\n",
       "      <td>NaN</td>\n",
       "      <td>NaN</td>\n",
       "      <td>NaN</td>\n",
       "      <td>NaN</td>\n",
       "    </tr>\n",
       "    <tr>\n",
       "      <th>2022-06-02 22:00:00</th>\n",
       "      <td>1015.8</td>\n",
       "      <td>1015.7</td>\n",
       "      <td>1016.2</td>\n",
       "      <td>NaN</td>\n",
       "      <td>NaN</td>\n",
       "      <td>NaN</td>\n",
       "      <td>NaN</td>\n",
       "      <td>NaN</td>\n",
       "      <td>NaN</td>\n",
       "      <td>21.9</td>\n",
       "      <td>...</td>\n",
       "      <td>NaN</td>\n",
       "      <td>NaN</td>\n",
       "      <td>NaN</td>\n",
       "      <td>NaN</td>\n",
       "      <td>NaN</td>\n",
       "      <td>NaN</td>\n",
       "      <td>NaN</td>\n",
       "      <td>NaN</td>\n",
       "      <td>NaN</td>\n",
       "      <td>NaN</td>\n",
       "    </tr>\n",
       "    <tr>\n",
       "      <th>2022-06-02 23:00:00</th>\n",
       "      <td>1015.0</td>\n",
       "      <td>1014.9</td>\n",
       "      <td>1015.9</td>\n",
       "      <td>NaN</td>\n",
       "      <td>NaN</td>\n",
       "      <td>NaN</td>\n",
       "      <td>NaN</td>\n",
       "      <td>NaN</td>\n",
       "      <td>NaN</td>\n",
       "      <td>20.5</td>\n",
       "      <td>...</td>\n",
       "      <td>NaN</td>\n",
       "      <td>NaN</td>\n",
       "      <td>NaN</td>\n",
       "      <td>NaN</td>\n",
       "      <td>NaN</td>\n",
       "      <td>NaN</td>\n",
       "      <td>NaN</td>\n",
       "      <td>NaN</td>\n",
       "      <td>NaN</td>\n",
       "      <td>NaN</td>\n",
       "    </tr>\n",
       "  </tbody>\n",
       "</table>\n",
       "<p>108864 rows × 153 columns</p>\n",
       "</div>"
      ],
      "text/plain": [
       "                     pressao - A602  pressao_minima - A602  \\\n",
       "2010-01-01 00:00:00          1007.2                 1006.8   \n",
       "2010-01-01 01:00:00          1007.7                 1007.2   \n",
       "2010-01-01 02:00:00          1007.5                 1007.5   \n",
       "2010-01-01 03:00:00          1006.7                 1006.7   \n",
       "2010-01-01 04:00:00          1005.7                 1005.7   \n",
       "...                             ...                    ...   \n",
       "2022-06-02 19:00:00          1015.7                 1015.5   \n",
       "2022-06-02 20:00:00          1016.1                 1015.7   \n",
       "2022-06-02 21:00:00          1016.0                 1016.0   \n",
       "2022-06-02 22:00:00          1015.8                 1015.7   \n",
       "2022-06-02 23:00:00          1015.0                 1014.9   \n",
       "\n",
       "                     pressao_maxima - A602  temperatura_orvalho - A602  \\\n",
       "2010-01-01 00:00:00                 1007.2                        21.7   \n",
       "2010-01-01 01:00:00                 1007.7                        22.2   \n",
       "2010-01-01 02:00:00                 1007.8                        22.2   \n",
       "2010-01-01 03:00:00                 1007.5                        22.1   \n",
       "2010-01-01 04:00:00                 1006.7                        21.9   \n",
       "...                                    ...                         ...   \n",
       "2022-06-02 19:00:00                 1015.8                         NaN   \n",
       "2022-06-02 20:00:00                 1016.1                         NaN   \n",
       "2022-06-02 21:00:00                 1016.4                         NaN   \n",
       "2022-06-02 22:00:00                 1016.2                         NaN   \n",
       "2022-06-02 23:00:00                 1015.9                         NaN   \n",
       "\n",
       "                     temperatura_orvalho_minimo - A602  \\\n",
       "2010-01-01 00:00:00                               21.6   \n",
       "2010-01-01 01:00:00                               21.7   \n",
       "2010-01-01 02:00:00                               22.1   \n",
       "2010-01-01 03:00:00                               22.1   \n",
       "2010-01-01 04:00:00                               21.9   \n",
       "...                                                ...   \n",
       "2022-06-02 19:00:00                                NaN   \n",
       "2022-06-02 20:00:00                                NaN   \n",
       "2022-06-02 21:00:00                                NaN   \n",
       "2022-06-02 22:00:00                                NaN   \n",
       "2022-06-02 23:00:00                                NaN   \n",
       "\n",
       "                     temperatura_orvalho_maximo - A602  umidade - A602  \\\n",
       "2010-01-01 00:00:00                               22.2             NaN   \n",
       "2010-01-01 01:00:00                               22.2             NaN   \n",
       "2010-01-01 02:00:00                               22.4             NaN   \n",
       "2010-01-01 03:00:00                               22.2             NaN   \n",
       "2010-01-01 04:00:00                               22.2             NaN   \n",
       "...                                                ...             ...   \n",
       "2022-06-02 19:00:00                                NaN             NaN   \n",
       "2022-06-02 20:00:00                                NaN             NaN   \n",
       "2022-06-02 21:00:00                                NaN             NaN   \n",
       "2022-06-02 22:00:00                                NaN             NaN   \n",
       "2022-06-02 23:00:00                                NaN             NaN   \n",
       "\n",
       "                     umidade_minima - A602  umidade_maxima - A602  \\\n",
       "2010-01-01 00:00:00                    NaN                    NaN   \n",
       "2010-01-01 01:00:00                    NaN                    NaN   \n",
       "2010-01-01 02:00:00                    NaN                    NaN   \n",
       "2010-01-01 03:00:00                    NaN                    NaN   \n",
       "2010-01-01 04:00:00                    NaN                    NaN   \n",
       "...                                    ...                    ...   \n",
       "2022-06-02 19:00:00                    NaN                    NaN   \n",
       "2022-06-02 20:00:00                    NaN                    NaN   \n",
       "2022-06-02 21:00:00                    NaN                    NaN   \n",
       "2022-06-02 22:00:00                    NaN                    NaN   \n",
       "2022-06-02 23:00:00                    NaN                    NaN   \n",
       "\n",
       "                     temperatura - A602  ...  umidade_minima - A656  \\\n",
       "2010-01-01 00:00:00                23.7  ...                    NaN   \n",
       "2010-01-01 01:00:00                24.4  ...                    NaN   \n",
       "2010-01-01 02:00:00                24.0  ...                    NaN   \n",
       "2010-01-01 03:00:00                23.8  ...                    NaN   \n",
       "2010-01-01 04:00:00                24.6  ...                    NaN   \n",
       "...                                 ...  ...                    ...   \n",
       "2022-06-02 19:00:00                22.2  ...                    NaN   \n",
       "2022-06-02 20:00:00                22.2  ...                    NaN   \n",
       "2022-06-02 21:00:00                22.2  ...                    NaN   \n",
       "2022-06-02 22:00:00                21.9  ...                    NaN   \n",
       "2022-06-02 23:00:00                20.5  ...                    NaN   \n",
       "\n",
       "                     umidade_maxima - A656  temperatura - A656  \\\n",
       "2010-01-01 00:00:00                    NaN                 NaN   \n",
       "2010-01-01 01:00:00                    NaN                 NaN   \n",
       "2010-01-01 02:00:00                    NaN                 NaN   \n",
       "2010-01-01 03:00:00                    NaN                 NaN   \n",
       "2010-01-01 04:00:00                    NaN                 NaN   \n",
       "...                                    ...                 ...   \n",
       "2022-06-02 19:00:00                    NaN                 NaN   \n",
       "2022-06-02 20:00:00                    NaN                 NaN   \n",
       "2022-06-02 21:00:00                    NaN                 NaN   \n",
       "2022-06-02 22:00:00                    NaN                 NaN   \n",
       "2022-06-02 23:00:00                    NaN                 NaN   \n",
       "\n",
       "                     temperatura_minima - A656  temperatura_maxima - A656  \\\n",
       "2010-01-01 00:00:00                        NaN                        NaN   \n",
       "2010-01-01 01:00:00                        NaN                        NaN   \n",
       "2010-01-01 02:00:00                        NaN                        NaN   \n",
       "2010-01-01 03:00:00                        NaN                        NaN   \n",
       "2010-01-01 04:00:00                        NaN                        NaN   \n",
       "...                                        ...                        ...   \n",
       "2022-06-02 19:00:00                        NaN                        NaN   \n",
       "2022-06-02 20:00:00                        NaN                        NaN   \n",
       "2022-06-02 21:00:00                        NaN                        NaN   \n",
       "2022-06-02 22:00:00                        NaN                        NaN   \n",
       "2022-06-02 23:00:00                        NaN                        NaN   \n",
       "\n",
       "                     rajada_vento_max - A656  direcao_vento - A656  \\\n",
       "2010-01-01 00:00:00                      NaN                   NaN   \n",
       "2010-01-01 01:00:00                      NaN                   NaN   \n",
       "2010-01-01 02:00:00                      NaN                   NaN   \n",
       "2010-01-01 03:00:00                      NaN                   NaN   \n",
       "2010-01-01 04:00:00                      NaN                   NaN   \n",
       "...                                      ...                   ...   \n",
       "2022-06-02 19:00:00                      NaN                   NaN   \n",
       "2022-06-02 20:00:00                      NaN                   NaN   \n",
       "2022-06-02 21:00:00                      NaN                   NaN   \n",
       "2022-06-02 22:00:00                      NaN                   NaN   \n",
       "2022-06-02 23:00:00                      NaN                   NaN   \n",
       "\n",
       "                     velocidade_vento - A656  radiacao_global - A656  \\\n",
       "2010-01-01 00:00:00                      NaN                     NaN   \n",
       "2010-01-01 01:00:00                      NaN                     NaN   \n",
       "2010-01-01 02:00:00                      NaN                     NaN   \n",
       "2010-01-01 03:00:00                      NaN                     NaN   \n",
       "2010-01-01 04:00:00                      NaN                     NaN   \n",
       "...                                      ...                     ...   \n",
       "2022-06-02 19:00:00                      NaN                     NaN   \n",
       "2022-06-02 20:00:00                      NaN                     NaN   \n",
       "2022-06-02 21:00:00                      NaN                     NaN   \n",
       "2022-06-02 22:00:00                      NaN                     NaN   \n",
       "2022-06-02 23:00:00                      NaN                     NaN   \n",
       "\n",
       "                     acumulado_chuva_1_h - A656  \n",
       "2010-01-01 00:00:00                         NaN  \n",
       "2010-01-01 01:00:00                         NaN  \n",
       "2010-01-01 02:00:00                         NaN  \n",
       "2010-01-01 03:00:00                         NaN  \n",
       "2010-01-01 04:00:00                         NaN  \n",
       "...                                         ...  \n",
       "2022-06-02 19:00:00                         NaN  \n",
       "2022-06-02 20:00:00                         NaN  \n",
       "2022-06-02 21:00:00                         NaN  \n",
       "2022-06-02 22:00:00                         NaN  \n",
       "2022-06-02 23:00:00                         NaN  \n",
       "\n",
       "[108864 rows x 153 columns]"
      ]
     },
     "execution_count": 401,
     "metadata": {},
     "output_type": "execute_result"
    }
   ],
   "source": [
    "merge.reindex(new_index)"
   ]
  },
  {
   "cell_type": "code",
   "execution_count": null,
   "metadata": {},
   "outputs": [],
   "source": [
    ".r"
   ]
  },
  {
   "cell_type": "markdown",
   "metadata": {},
   "source": [
    "---\n",
    "### Model Arquitectures Options\n",
    "\n",
    "Risk model based on paired metheorological observation and incident ocorrence: Convert ocorrences to 0, 1 flags.\n",
    "\n",
    "1. Personalized for each cluster point:\n",
    "    1. stations' variables concatenated horizontally\n",
    "\n",
    "\n",
    "2. Despersonalized, include all clusters in training:\n",
    "    1. Tarnsform stations' variables in closest stations variables (i.e variables of closest station, second, third... for each cluster)\n",
    "\n",
    "Obs:\n",
    "1. Limit model scope for each case. Calculate percentual average difference for each variable from target group(s) and set threhsold.\n",
    "2. Featured engineered variables would be day of the month, of the year, weekday, month, week of the year."
   ]
  }
 ],
 "metadata": {
  "kernelspec": {
   "display_name": "Python 3",
   "language": "python",
   "name": "python3"
  },
  "language_info": {
   "codemirror_mode": {
    "name": "ipython",
    "version": 3
   },
   "file_extension": ".py",
   "mimetype": "text/x-python",
   "name": "python",
   "nbconvert_exporter": "python",
   "pygments_lexer": "ipython3",
   "version": "3.8.3"
  }
 },
 "nbformat": 4,
 "nbformat_minor": 4
}
