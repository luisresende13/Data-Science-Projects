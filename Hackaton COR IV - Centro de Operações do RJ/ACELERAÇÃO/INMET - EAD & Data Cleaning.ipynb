{
 "cells": [
  {
   "cell_type": "markdown",
   "metadata": {},
   "source": [
    "# INMET METHEOROLOGICAL STATIONS - EXPLORATORY DATA ANALYSIS"
   ]
  },
  {
   "cell_type": "markdown",
   "metadata": {},
   "source": [
    "#### Import modules and libraries"
   ]
  },
  {
   "cell_type": "code",
   "execution_count": 19,
   "metadata": {},
   "outputs": [],
   "source": [
    "import os, pandas as pd, numpy as np, matplotlib.pyplot as plt, seaborn as sns; sns.set()\n",
    "from IPython.display import clear_output as co"
   ]
  },
  {
   "cell_type": "markdown",
   "metadata": {},
   "source": [
    "#### Load data"
   ]
  },
  {
   "cell_type": "code",
   "execution_count": 663,
   "metadata": {},
   "outputs": [
    {
     "data": {
      "text/html": [
       "<div>\n",
       "<style scoped>\n",
       "    .dataframe tbody tr th:only-of-type {\n",
       "        vertical-align: middle;\n",
       "    }\n",
       "\n",
       "    .dataframe tbody tr th {\n",
       "        vertical-align: top;\n",
       "    }\n",
       "\n",
       "    .dataframe thead th {\n",
       "        text-align: right;\n",
       "    }\n",
       "</style>\n",
       "<table border=\"1\" class=\"dataframe\">\n",
       "  <thead>\n",
       "    <tr style=\"text-align: right;\">\n",
       "      <th></th>\n",
       "      <th>primary_key</th>\n",
       "      <th>id_estacao</th>\n",
       "      <th>data</th>\n",
       "      <th>horario</th>\n",
       "      <th>pressao</th>\n",
       "      <th>pressao_minima</th>\n",
       "      <th>pressao_maxima</th>\n",
       "      <th>temperatura_orvalho</th>\n",
       "      <th>temperatura_orvalho_minimo</th>\n",
       "      <th>temperatura_orvalho_maximo</th>\n",
       "      <th>...</th>\n",
       "      <th>umidade_maxima</th>\n",
       "      <th>temperatura</th>\n",
       "      <th>temperatura_minima</th>\n",
       "      <th>temperatura_maxima</th>\n",
       "      <th>rajada_vento_max</th>\n",
       "      <th>direcao_vento</th>\n",
       "      <th>velocidade_vento</th>\n",
       "      <th>radiacao_global</th>\n",
       "      <th>acumulado_chuva_1_h</th>\n",
       "      <th>data_particao</th>\n",
       "    </tr>\n",
       "  </thead>\n",
       "  <tbody>\n",
       "    <tr>\n",
       "      <th>0</th>\n",
       "      <td>A602-2012-04-01 21:00:00</td>\n",
       "      <td>A602</td>\n",
       "      <td>2012-04-01</td>\n",
       "      <td>21:00:00</td>\n",
       "      <td>1014.5</td>\n",
       "      <td>1014.5</td>\n",
       "      <td>1014.7</td>\n",
       "      <td>NaN</td>\n",
       "      <td>NaN</td>\n",
       "      <td>NaN</td>\n",
       "      <td>...</td>\n",
       "      <td>NaN</td>\n",
       "      <td>24.3</td>\n",
       "      <td>24.2</td>\n",
       "      <td>24.7</td>\n",
       "      <td>5.0</td>\n",
       "      <td>NaN</td>\n",
       "      <td>4.0</td>\n",
       "      <td>74.565</td>\n",
       "      <td>0.0</td>\n",
       "      <td>2012-04-01</td>\n",
       "    </tr>\n",
       "    <tr>\n",
       "      <th>1</th>\n",
       "      <td>A602-2012-04-01 17:00:00</td>\n",
       "      <td>A602</td>\n",
       "      <td>2012-04-01</td>\n",
       "      <td>17:00:00</td>\n",
       "      <td>1014.5</td>\n",
       "      <td>1014.5</td>\n",
       "      <td>1015.0</td>\n",
       "      <td>NaN</td>\n",
       "      <td>NaN</td>\n",
       "      <td>NaN</td>\n",
       "      <td>...</td>\n",
       "      <td>NaN</td>\n",
       "      <td>25.9</td>\n",
       "      <td>25.2</td>\n",
       "      <td>26.6</td>\n",
       "      <td>5.1</td>\n",
       "      <td>NaN</td>\n",
       "      <td>4.1</td>\n",
       "      <td>2817.476</td>\n",
       "      <td>0.0</td>\n",
       "      <td>2012-04-01</td>\n",
       "    </tr>\n",
       "    <tr>\n",
       "      <th>2</th>\n",
       "      <td>A602-2012-04-01 16:00:00</td>\n",
       "      <td>A602</td>\n",
       "      <td>2012-04-01</td>\n",
       "      <td>16:00:00</td>\n",
       "      <td>1015.0</td>\n",
       "      <td>1014.9</td>\n",
       "      <td>1015.7</td>\n",
       "      <td>NaN</td>\n",
       "      <td>NaN</td>\n",
       "      <td>NaN</td>\n",
       "      <td>...</td>\n",
       "      <td>NaN</td>\n",
       "      <td>25.9</td>\n",
       "      <td>24.6</td>\n",
       "      <td>26.3</td>\n",
       "      <td>4.7</td>\n",
       "      <td>NaN</td>\n",
       "      <td>3.8</td>\n",
       "      <td>2913.985</td>\n",
       "      <td>0.0</td>\n",
       "      <td>2012-04-01</td>\n",
       "    </tr>\n",
       "  </tbody>\n",
       "</table>\n",
       "<p>3 rows × 22 columns</p>\n",
       "</div>"
      ],
      "text/plain": [
       "                primary_key id_estacao        data   horario  pressao  \\\n",
       "0  A602-2012-04-01 21:00:00       A602  2012-04-01  21:00:00   1014.5   \n",
       "1  A602-2012-04-01 17:00:00       A602  2012-04-01  17:00:00   1014.5   \n",
       "2  A602-2012-04-01 16:00:00       A602  2012-04-01  16:00:00   1015.0   \n",
       "\n",
       "   pressao_minima  pressao_maxima  temperatura_orvalho  \\\n",
       "0          1014.5          1014.7                  NaN   \n",
       "1          1014.5          1015.0                  NaN   \n",
       "2          1014.9          1015.7                  NaN   \n",
       "\n",
       "   temperatura_orvalho_minimo  temperatura_orvalho_maximo  ...  \\\n",
       "0                         NaN                         NaN  ...   \n",
       "1                         NaN                         NaN  ...   \n",
       "2                         NaN                         NaN  ...   \n",
       "\n",
       "   umidade_maxima  temperatura  temperatura_minima  temperatura_maxima  \\\n",
       "0             NaN         24.3                24.2                24.7   \n",
       "1             NaN         25.9                25.2                26.6   \n",
       "2             NaN         25.9                24.6                26.3   \n",
       "\n",
       "   rajada_vento_max  direcao_vento  velocidade_vento  radiacao_global  \\\n",
       "0               5.0            NaN               4.0           74.565   \n",
       "1               5.1            NaN               4.1         2817.476   \n",
       "2               4.7            NaN               3.8         2913.985   \n",
       "\n",
       "   acumulado_chuva_1_h  data_particao  \n",
       "0                  0.0     2012-04-01  \n",
       "1                  0.0     2012-04-01  \n",
       "2                  0.0     2012-04-01  \n",
       "\n",
       "[3 rows x 22 columns]"
      ]
     },
     "execution_count": 663,
     "metadata": {},
     "output_type": "execute_result"
    }
   ],
   "source": [
    "class Data:\n",
    "    path = '../../../Dados/Desafio COR-Rio IV/Meio Ambiente Clima/'\n",
    "\n",
    "inmet = pd.read_csv(Data.path + 'Meteorologia_INMET.csv'); inmet.head(3)"
   ]
  },
  {
   "cell_type": "markdown",
   "metadata": {},
   "source": [
    "---\n",
    "# 1. Exploratory Data Analysis"
   ]
  },
  {
   "cell_type": "markdown",
   "metadata": {},
   "source": [
    "### 1. Data types"
   ]
  },
  {
   "cell_type": "code",
   "execution_count": 664,
   "metadata": {},
   "outputs": [],
   "source": [
    "id_cols = ['primary_key', 'id_estacao', 'data', 'horario', 'data_particao']\n",
    "float_cols = list(set(inmet.columns).difference(id_cols))"
   ]
  },
  {
   "cell_type": "markdown",
   "metadata": {},
   "source": [
    "### 2. Index and identity columns\n",
    "\n",
    "#### Unique index values count"
   ]
  },
  {
   "cell_type": "code",
   "execution_count": 665,
   "metadata": {},
   "outputs": [
    {
     "data": {
      "text/html": [
       "<div>\n",
       "<style scoped>\n",
       "    .dataframe tbody tr th:only-of-type {\n",
       "        vertical-align: middle;\n",
       "    }\n",
       "\n",
       "    .dataframe tbody tr th {\n",
       "        vertical-align: top;\n",
       "    }\n",
       "\n",
       "    .dataframe thead th {\n",
       "        text-align: right;\n",
       "    }\n",
       "</style>\n",
       "<table border=\"1\" class=\"dataframe\">\n",
       "  <thead>\n",
       "    <tr style=\"text-align: right;\">\n",
       "      <th></th>\n",
       "      <th>Rows</th>\n",
       "    </tr>\n",
       "  </thead>\n",
       "  <tbody>\n",
       "    <tr>\n",
       "      <th>Unique Index Values</th>\n",
       "      <td>964871</td>\n",
       "    </tr>\n",
       "    <tr>\n",
       "      <th>Dataset Size</th>\n",
       "      <td>1036001</td>\n",
       "    </tr>\n",
       "  </tbody>\n",
       "</table>\n",
       "</div>"
      ],
      "text/plain": [
       "                        Rows\n",
       "Unique Index Values   964871\n",
       "Dataset Size         1036001"
      ]
     },
     "execution_count": 665,
     "metadata": {},
     "output_type": "execute_result"
    }
   ],
   "source": [
    "idx = ['Unique Index Values', 'Dataset Size']\n",
    "vls = [inmet['primary_key'].unique().shape[0], inmet.shape[0]]\n",
    "\n",
    "pd.DataFrame(vls, idx, ['Rows'])"
   ]
  },
  {
   "cell_type": "markdown",
   "metadata": {},
   "source": [
    "Duplicate index keys found. The number of unique index values does not match the index size."
   ]
  },
  {
   "cell_type": "markdown",
   "metadata": {},
   "source": [
    "#### Unique identity columns' combinations count"
   ]
  },
  {
   "cell_type": "code",
   "execution_count": 666,
   "metadata": {},
   "outputs": [
    {
     "data": {
      "text/plain": [
       "(964871, 19)"
      ]
     },
     "execution_count": 666,
     "metadata": {},
     "output_type": "execute_result"
    }
   ],
   "source": [
    "inmet.groupby(id_cols[1:4]).first().shape"
   ]
  },
  {
   "cell_type": "markdown",
   "metadata": {},
   "source": [
    "The count of combinations of the three identity columns should match the index size. The number of combinations found match the number of unique index values found."
   ]
  },
  {
   "cell_type": "markdown",
   "metadata": {},
   "source": [
    "### 3. Primary keys duplicates\n",
    "\n",
    "#### Primary key column duplicates count"
   ]
  },
  {
   "cell_type": "code",
   "execution_count": 667,
   "metadata": {},
   "outputs": [
    {
     "data": {
      "text/plain": [
       "(71130, True)"
      ]
     },
     "execution_count": 667,
     "metadata": {},
     "output_type": "execute_result"
    }
   ],
   "source": [
    "key_count = inmet['primary_key'].value_counts()\n",
    "dup_keys = key_count[key_count>1]\n",
    "\n",
    "dup_keys.shape[0], (dup_keys==2).all()"
   ]
  },
  {
   "cell_type": "markdown",
   "metadata": {},
   "source": [
    "Every duplicate key can be found exactly twice."
   ]
  },
  {
   "cell_type": "markdown",
   "metadata": {},
   "source": [
    "#### Sample duplicates"
   ]
  },
  {
   "cell_type": "code",
   "execution_count": 668,
   "metadata": {},
   "outputs": [
    {
     "data": {
      "text/html": [
       "<div>\n",
       "<style scoped>\n",
       "    .dataframe tbody tr th:only-of-type {\n",
       "        vertical-align: middle;\n",
       "    }\n",
       "\n",
       "    .dataframe tbody tr th {\n",
       "        vertical-align: top;\n",
       "    }\n",
       "\n",
       "    .dataframe thead th {\n",
       "        text-align: right;\n",
       "    }\n",
       "</style>\n",
       "<table border=\"1\" class=\"dataframe\">\n",
       "  <thead>\n",
       "    <tr style=\"text-align: right;\">\n",
       "      <th></th>\n",
       "      <th>id_estacao</th>\n",
       "      <th>data</th>\n",
       "      <th>horario</th>\n",
       "      <th>pressao</th>\n",
       "      <th>pressao_minima</th>\n",
       "      <th>pressao_maxima</th>\n",
       "      <th>temperatura_orvalho</th>\n",
       "      <th>temperatura_orvalho_minimo</th>\n",
       "      <th>temperatura_orvalho_maximo</th>\n",
       "      <th>umidade</th>\n",
       "      <th>...</th>\n",
       "      <th>umidade_maxima</th>\n",
       "      <th>temperatura</th>\n",
       "      <th>temperatura_minima</th>\n",
       "      <th>temperatura_maxima</th>\n",
       "      <th>rajada_vento_max</th>\n",
       "      <th>direcao_vento</th>\n",
       "      <th>velocidade_vento</th>\n",
       "      <th>radiacao_global</th>\n",
       "      <th>acumulado_chuva_1_h</th>\n",
       "      <th>data_particao</th>\n",
       "    </tr>\n",
       "    <tr>\n",
       "      <th>primary_key</th>\n",
       "      <th></th>\n",
       "      <th></th>\n",
       "      <th></th>\n",
       "      <th></th>\n",
       "      <th></th>\n",
       "      <th></th>\n",
       "      <th></th>\n",
       "      <th></th>\n",
       "      <th></th>\n",
       "      <th></th>\n",
       "      <th></th>\n",
       "      <th></th>\n",
       "      <th></th>\n",
       "      <th></th>\n",
       "      <th></th>\n",
       "      <th></th>\n",
       "      <th></th>\n",
       "      <th></th>\n",
       "      <th></th>\n",
       "      <th></th>\n",
       "      <th></th>\n",
       "    </tr>\n",
       "  </thead>\n",
       "  <tbody>\n",
       "    <tr>\n",
       "      <th>A636-2020-11-27 14:00:00</th>\n",
       "      <td>A636</td>\n",
       "      <td>2020-11-27</td>\n",
       "      <td>14:00:00</td>\n",
       "      <td>1013.6</td>\n",
       "      <td>1013.5</td>\n",
       "      <td>1013.9</td>\n",
       "      <td>21.1</td>\n",
       "      <td>19.9</td>\n",
       "      <td>22.1</td>\n",
       "      <td>NaN</td>\n",
       "      <td>...</td>\n",
       "      <td>NaN</td>\n",
       "      <td>30.3</td>\n",
       "      <td>29.4</td>\n",
       "      <td>30.6</td>\n",
       "      <td>5.4</td>\n",
       "      <td>NaN</td>\n",
       "      <td>2.1</td>\n",
       "      <td>3632.095</td>\n",
       "      <td>0.0</td>\n",
       "      <td>2020-11-27</td>\n",
       "    </tr>\n",
       "    <tr>\n",
       "      <th>A636-2020-11-27 14:00:00</th>\n",
       "      <td>A636</td>\n",
       "      <td>2020-11-27</td>\n",
       "      <td>14:00:00</td>\n",
       "      <td>1012.2</td>\n",
       "      <td>1012.2</td>\n",
       "      <td>1012.6</td>\n",
       "      <td>18.7</td>\n",
       "      <td>18.4</td>\n",
       "      <td>20.2</td>\n",
       "      <td>NaN</td>\n",
       "      <td>...</td>\n",
       "      <td>NaN</td>\n",
       "      <td>30.4</td>\n",
       "      <td>30.4</td>\n",
       "      <td>31.4</td>\n",
       "      <td>7.8</td>\n",
       "      <td>NaN</td>\n",
       "      <td>3.3</td>\n",
       "      <td>3323.100</td>\n",
       "      <td>0.0</td>\n",
       "      <td>2020-11-27</td>\n",
       "    </tr>\n",
       "    <tr>\n",
       "      <th>A652-2021-01-04 12:00:00</th>\n",
       "      <td>A652</td>\n",
       "      <td>2021-01-04</td>\n",
       "      <td>12:00:00</td>\n",
       "      <td>1008.5</td>\n",
       "      <td>1008.4</td>\n",
       "      <td>1008.6</td>\n",
       "      <td>22.2</td>\n",
       "      <td>21.9</td>\n",
       "      <td>23.7</td>\n",
       "      <td>NaN</td>\n",
       "      <td>...</td>\n",
       "      <td>NaN</td>\n",
       "      <td>27.0</td>\n",
       "      <td>26.9</td>\n",
       "      <td>28.0</td>\n",
       "      <td>4.4</td>\n",
       "      <td>NaN</td>\n",
       "      <td>3.0</td>\n",
       "      <td>2473.076</td>\n",
       "      <td>0.0</td>\n",
       "      <td>2021-01-04</td>\n",
       "    </tr>\n",
       "    <tr>\n",
       "      <th>A652-2021-01-04 12:00:00</th>\n",
       "      <td>A652</td>\n",
       "      <td>2021-01-04</td>\n",
       "      <td>12:00:00</td>\n",
       "      <td>1007.7</td>\n",
       "      <td>1007.6</td>\n",
       "      <td>1008.1</td>\n",
       "      <td>22.7</td>\n",
       "      <td>21.9</td>\n",
       "      <td>23.2</td>\n",
       "      <td>NaN</td>\n",
       "      <td>...</td>\n",
       "      <td>NaN</td>\n",
       "      <td>28.6</td>\n",
       "      <td>28.0</td>\n",
       "      <td>29.1</td>\n",
       "      <td>4.6</td>\n",
       "      <td>NaN</td>\n",
       "      <td>3.1</td>\n",
       "      <td>3898.300</td>\n",
       "      <td>0.0</td>\n",
       "      <td>2021-01-04</td>\n",
       "    </tr>\n",
       "  </tbody>\n",
       "</table>\n",
       "<p>4 rows × 21 columns</p>\n",
       "</div>"
      ],
      "text/plain": [
       "                         id_estacao        data   horario  pressao  \\\n",
       "primary_key                                                          \n",
       "A636-2020-11-27 14:00:00       A636  2020-11-27  14:00:00   1013.6   \n",
       "A636-2020-11-27 14:00:00       A636  2020-11-27  14:00:00   1012.2   \n",
       "A652-2021-01-04 12:00:00       A652  2021-01-04  12:00:00   1008.5   \n",
       "A652-2021-01-04 12:00:00       A652  2021-01-04  12:00:00   1007.7   \n",
       "\n",
       "                          pressao_minima  pressao_maxima  temperatura_orvalho  \\\n",
       "primary_key                                                                     \n",
       "A636-2020-11-27 14:00:00          1013.5          1013.9                 21.1   \n",
       "A636-2020-11-27 14:00:00          1012.2          1012.6                 18.7   \n",
       "A652-2021-01-04 12:00:00          1008.4          1008.6                 22.2   \n",
       "A652-2021-01-04 12:00:00          1007.6          1008.1                 22.7   \n",
       "\n",
       "                          temperatura_orvalho_minimo  \\\n",
       "primary_key                                            \n",
       "A636-2020-11-27 14:00:00                        19.9   \n",
       "A636-2020-11-27 14:00:00                        18.4   \n",
       "A652-2021-01-04 12:00:00                        21.9   \n",
       "A652-2021-01-04 12:00:00                        21.9   \n",
       "\n",
       "                          temperatura_orvalho_maximo  umidade  ...  \\\n",
       "primary_key                                                    ...   \n",
       "A636-2020-11-27 14:00:00                        22.1      NaN  ...   \n",
       "A636-2020-11-27 14:00:00                        20.2      NaN  ...   \n",
       "A652-2021-01-04 12:00:00                        23.7      NaN  ...   \n",
       "A652-2021-01-04 12:00:00                        23.2      NaN  ...   \n",
       "\n",
       "                          umidade_maxima  temperatura  temperatura_minima  \\\n",
       "primary_key                                                                 \n",
       "A636-2020-11-27 14:00:00             NaN         30.3                29.4   \n",
       "A636-2020-11-27 14:00:00             NaN         30.4                30.4   \n",
       "A652-2021-01-04 12:00:00             NaN         27.0                26.9   \n",
       "A652-2021-01-04 12:00:00             NaN         28.6                28.0   \n",
       "\n",
       "                          temperatura_maxima  rajada_vento_max  direcao_vento  \\\n",
       "primary_key                                                                     \n",
       "A636-2020-11-27 14:00:00                30.6               5.4            NaN   \n",
       "A636-2020-11-27 14:00:00                31.4               7.8            NaN   \n",
       "A652-2021-01-04 12:00:00                28.0               4.4            NaN   \n",
       "A652-2021-01-04 12:00:00                29.1               4.6            NaN   \n",
       "\n",
       "                          velocidade_vento  radiacao_global  \\\n",
       "primary_key                                                   \n",
       "A636-2020-11-27 14:00:00               2.1         3632.095   \n",
       "A636-2020-11-27 14:00:00               3.3         3323.100   \n",
       "A652-2021-01-04 12:00:00               3.0         2473.076   \n",
       "A652-2021-01-04 12:00:00               3.1         3898.300   \n",
       "\n",
       "                          acumulado_chuva_1_h  data_particao  \n",
       "primary_key                                                   \n",
       "A636-2020-11-27 14:00:00                  0.0     2020-11-27  \n",
       "A636-2020-11-27 14:00:00                  0.0     2020-11-27  \n",
       "A652-2021-01-04 12:00:00                  0.0     2021-01-04  \n",
       "A652-2021-01-04 12:00:00                  0.0     2021-01-04  \n",
       "\n",
       "[4 rows x 21 columns]"
      ]
     },
     "execution_count": 668,
     "metadata": {},
     "output_type": "execute_result"
    }
   ],
   "source": [
    "inmet.set_index('primary_key').loc[dup_keys.sample(2).index]"
   ]
  },
  {
   "cell_type": "markdown",
   "metadata": {},
   "source": [
    "Obs:\n",
    "* Some stations have two records for the same date and time\n",
    "* Rows with the same index key do not contain the same values but values are very close, as if they were sequential or very close in time. Hint: Average duplicates in data cleaning."
   ]
  },
  {
   "cell_type": "markdown",
   "metadata": {},
   "source": [
    "### 4. Date time description"
   ]
  },
  {
   "cell_type": "code",
   "execution_count": 669,
   "metadata": {},
   "outputs": [],
   "source": [
    "dt = pd.to_datetime(inmet['data'] + ' ' + inmet['horario'])"
   ]
  },
  {
   "cell_type": "markdown",
   "metadata": {},
   "source": [
    "#### Start and end of time series"
   ]
  },
  {
   "cell_type": "code",
   "execution_count": 670,
   "metadata": {},
   "outputs": [
    {
     "data": {
      "text/plain": [
       "(Timestamp('2010-01-01 00:00:00'), Timestamp('2022-06-02 23:00:00'))"
      ]
     },
     "execution_count": 670,
     "metadata": {},
     "output_type": "execute_result"
    }
   ],
   "source": [
    "dt.min(), dt.max()"
   ]
  },
  {
   "cell_type": "markdown",
   "metadata": {},
   "source": [
    "Obs: Twelve and a half years from 2010."
   ]
  },
  {
   "cell_type": "markdown",
   "metadata": {},
   "source": [
    "#### Unique date times"
   ]
  },
  {
   "cell_type": "code",
   "execution_count": 673,
   "metadata": {},
   "outputs": [
    {
     "data": {
      "text/plain": [
       "108852"
      ]
     },
     "execution_count": 673,
     "metadata": {},
     "output_type": "execute_result"
    }
   ],
   "source": [
    "len(dt.unique())"
   ]
  },
  {
   "cell_type": "markdown",
   "metadata": {},
   "source": [
    "#### Date time range size"
   ]
  },
  {
   "cell_type": "code",
   "execution_count": 674,
   "metadata": {},
   "outputs": [
    {
     "data": {
      "text/plain": [
       "108864"
      ]
     },
     "execution_count": 674,
     "metadata": {},
     "output_type": "execute_result"
    }
   ],
   "source": [
    "new_index = pd.date_range(dt.min(), dt.max(), freq='H')\n",
    "\n",
    "len(new_index)"
   ]
  },
  {
   "cell_type": "code",
   "execution_count": 676,
   "metadata": {},
   "outputs": [
    {
     "data": {
      "text/plain": [
       "DatetimeIndex(['2010-01-01 00:00:00', '2010-01-01 01:00:00',\n",
       "               '2010-01-01 02:00:00', '2010-01-01 03:00:00',\n",
       "               '2010-01-01 04:00:00', '2010-01-01 05:00:00',\n",
       "               '2010-01-01 06:00:00', '2010-01-01 07:00:00',\n",
       "               '2010-01-01 08:00:00', '2010-01-01 09:00:00',\n",
       "               ...\n",
       "               '2022-06-02 14:00:00', '2022-06-02 15:00:00',\n",
       "               '2022-06-02 16:00:00', '2022-06-02 17:00:00',\n",
       "               '2022-06-02 18:00:00', '2022-06-02 19:00:00',\n",
       "               '2022-06-02 20:00:00', '2022-06-02 21:00:00',\n",
       "               '2022-06-02 22:00:00', '2022-06-02 23:00:00'],\n",
       "              dtype='datetime64[ns]', length=108864, freq='H')"
      ]
     },
     "execution_count": 676,
     "metadata": {},
     "output_type": "execute_result"
    }
   ],
   "source": [
    "new_index"
   ]
  },
  {
   "cell_type": "markdown",
   "metadata": {},
   "source": [
    "#### All missing hours in dataset"
   ]
  },
  {
   "cell_type": "code",
   "execution_count": 680,
   "metadata": {},
   "outputs": [
    {
     "data": {
      "text/plain": [
       "(12,\n",
       " [Timestamp('2022-04-13 20:00:00', freq='H'),\n",
       "  Timestamp('2022-04-13 23:00:00', freq='H'),\n",
       "  Timestamp('2022-05-12 18:00:00', freq='H'),\n",
       "  Timestamp('2022-05-12 22:00:00', freq='H'),\n",
       "  Timestamp('2022-04-13 21:00:00', freq='H'),\n",
       "  Timestamp('2022-04-13 22:00:00', freq='H'),\n",
       "  Timestamp('2022-04-13 19:00:00', freq='H'),\n",
       "  Timestamp('2022-05-12 23:00:00', freq='H'),\n",
       "  Timestamp('2022-05-12 21:00:00', freq='H'),\n",
       "  Timestamp('2022-05-12 20:00:00', freq='H'),\n",
       "  Timestamp('2022-05-12 17:00:00', freq='H'),\n",
       "  Timestamp('2022-05-12 19:00:00', freq='H')])"
      ]
     },
     "execution_count": 680,
     "metadata": {},
     "output_type": "execute_result"
    }
   ],
   "source": [
    "missing_hours = list(set(new_index).difference(pd.DatetimeIndex(dt.unique())))\n",
    "len(missing_hours), missing_hours"
   ]
  },
  {
   "cell_type": "markdown",
   "metadata": {},
   "source": [
    "#### Time range in days"
   ]
  },
  {
   "cell_type": "code",
   "execution_count": 31,
   "metadata": {},
   "outputs": [
    {
     "data": {
      "text/plain": [
       "Timedelta('4535 days 23:00:00')"
      ]
     },
     "execution_count": 31,
     "metadata": {},
     "output_type": "execute_result"
    }
   ],
   "source": [
    "time_range = ts.index.max() - ts.index.min(); time_range"
   ]
  },
  {
   "cell_type": "markdown",
   "metadata": {},
   "source": [
    "#### Time range in hours"
   ]
  },
  {
   "cell_type": "code",
   "execution_count": 32,
   "metadata": {},
   "outputs": [
    {
     "data": {
      "text/plain": [
       "108863.0"
      ]
     },
     "execution_count": 32,
     "metadata": {},
     "output_type": "execute_result"
    }
   ],
   "source": [
    "time_range.days * 24 + time_range.seconds / 60 / 60"
   ]
  },
  {
   "cell_type": "markdown",
   "metadata": {},
   "source": [
    "### 5. Missing Values"
   ]
  },
  {
   "cell_type": "code",
   "execution_count": 686,
   "metadata": {},
   "outputs": [
    {
     "data": {
      "image/png": "[encoded data removed]",
      "text/plain": [
       "<Figure size 864x216 with 2 Axes>"
      ]
     },
     "metadata": {},
     "output_type": "display_data"
    },
    {
     "data": {
      "image/png": "[encoded data removed]",
      "text/plain": [
       "<Figure size 432x216 with 1 Axes>"
      ]
     },
     "metadata": {},
     "output_type": "display_data"
    }
   ],
   "source": [
    "#### Missing per row\n",
    "\n",
    "fig, ax = plt.subplots(1, 2, figsize=(12, 3))\n",
    "nan_prct = (100 * inmet.isna().sum(1).sort_values() / inmet.shape[1]).rename('Missing Percantage')\n",
    "nan_prct.reset_index(drop=True).plot(title='Missing per Row (%)', ax=ax[0])\n",
    "\n",
    "nan_prct = (inmet.isna().sum(1).value_counts().sort_index()/len(inmet)).rename('Rows percentage')\n",
    "nan_prct.index = (100 * nan_prct.index.values / inmet.shape[1]).round(1)\n",
    "nan_prct.sort_values(ascending=False).iloc[:5].plot.pie(title='Missing values per row (%)', ax=ax[1]); plt.show()\n",
    "\n",
    "#### Missing per column\n",
    "\n",
    "nan_prct = (100 * inmet.isna().sum().sort_values() / len(inmet)).rename('Missing Percantage')\n",
    "nan_prct.plot.bar(title='Missing per Column (%)', figsize=(6, 3)); plt.show()"
   ]
  },
  {
   "cell_type": "markdown",
   "metadata": {},
   "source": [
    "---\n",
    "# 1. Data Cleaning"
   ]
  },
  {
   "cell_type": "markdown",
   "metadata": {},
   "source": [
    "#### Average duplicates"
   ]
  },
  {
   "cell_type": "code",
   "execution_count": 689,
   "metadata": {},
   "outputs": [
    {
     "data": {
      "text/plain": [
       "(1036001, 964871)"
      ]
     },
     "execution_count": 689,
     "metadata": {},
     "output_type": "execute_result"
    }
   ],
   "source": [
    "keys_columns = inmet[id_cols].drop_duplicates('primary_key')\n",
    "numeric_columns_averaged = inmet.groupby('primary_key').mean()\n",
    "\n",
    "INMET = keys_columns.join(numeric_columns_averaged, how='left', on='primary_key')\n",
    "len(inmet), len(INMET)"
   ]
  },
  {
   "cell_type": "markdown",
   "metadata": {},
   "source": [
    "#### Set datetime index"
   ]
  },
  {
   "cell_type": "code",
   "execution_count": 690,
   "metadata": {},
   "outputs": [],
   "source": [
    "INMET.set_index(pd.to_datetime(INMET['data'] + ' ' + INMET['horario']), inplace=True)"
   ]
  },
  {
   "cell_type": "markdown",
   "metadata": {},
   "source": [
    "#### Join stations data across horizontal axis"
   ]
  },
  {
   "cell_type": "code",
   "execution_count": 691,
   "metadata": {},
   "outputs": [
    {
     "data": {
      "text/plain": [
       "(108852, 153)"
      ]
     },
     "execution_count": 691,
     "metadata": {},
     "output_type": "execute_result"
    }
   ],
   "source": [
    "def concat_groups(data, key='id_estacao', cols=float_cols, how='outter'):\n",
    "    dfs = [data[cols][data[key]==group].add_suffix(' - ' + group) for group in data[key].unique()]\n",
    "    return pd.concat(dfs, 1, join=how)\n",
    "\n",
    "data = concat_groups(INMET, 'id_estacao', float_cols, how='outer')\n",
    "\n",
    "data.shape # Same as unique index values size"
   ]
  },
  {
   "cell_type": "markdown",
   "metadata": {},
   "source": [
    "#### Build full time series\n",
    "##### Upsample to hourly frequency"
   ]
  },
  {
   "cell_type": "code",
   "execution_count": 692,
   "metadata": {},
   "outputs": [
    {
     "data": {
      "text/plain": [
       "(108864, 153)"
      ]
     },
     "execution_count": 692,
     "metadata": {},
     "output_type": "execute_result"
    }
   ],
   "source": [
    "data = data.asfreq('H')\n",
    "\n",
    "data.shape # Same as hourly index range size"
   ]
  },
  {
   "cell_type": "markdown",
   "metadata": {},
   "source": [
    "#### Drop empty columns"
   ]
  },
  {
   "cell_type": "code",
   "execution_count": 693,
   "metadata": {},
   "outputs": [
    {
     "data": {
      "text/plain": [
       "(108864, 65)"
      ]
     },
     "execution_count": 693,
     "metadata": {},
     "output_type": "execute_result"
    }
   ],
   "source": [
    "data = data.loc[:, data.isna().mean() < 1]\n",
    "\n",
    "data.shape "
   ]
  },
  {
   "cell_type": "markdown",
   "metadata": {},
   "source": [
    "### Cleaning Result Analysis"
   ]
  },
  {
   "cell_type": "code",
   "execution_count": 185,
   "metadata": {},
   "outputs": [
    {
     "data": {
      "image/png": "[encoded data removed]",
      "text/plain": [
       "<Figure size 864x216 with 2 Axes>"
      ]
     },
     "metadata": {},
     "output_type": "display_data"
    }
   ],
   "source": [
    "ts = data\n",
    "\n",
    "fig, axs = plt.subplots(1, 2, figsize=(12, 3))\n",
    "\n",
    "ts.isna().mean().sort_values().plot(xticks=[], title='Missing per column sorted', ax=axs[0])\n",
    "axs[0].set(ylabel='Missing (%)', xlabel='Column')\n",
    "\n",
    "ts.isna().mean(1).sort_values().reset_index(drop=True).plot(xticks=[], title='Missing per row sorted', ax=axs[1])\n",
    "axs[1].set(ylabel='Missing (%)', xlabel='Row')\n",
    "\n",
    "plt.show()"
   ]
  },
  {
   "cell_type": "markdown",
   "metadata": {},
   "source": [
    "#### Save and reload clean data"
   ]
  },
  {
   "cell_type": "code",
   "execution_count": 698,
   "metadata": {},
   "outputs": [],
   "source": [
    "# data.to_csv('Dados/Clean/INMET.csv', index=True)\n",
    "\n",
    "data = pd.read_csv('Dados/Clean/INMET.csv', index_col=0)"
   ]
  }
 ],
 "metadata": {
  "kernelspec": {
   "display_name": "Python 3",
   "language": "python",
   "name": "python3"
  },
  "language_info": {
   "codemirror_mode": {
    "name": "ipython",
    "version": 3
   },
   "file_extension": ".py",
   "mimetype": "text/x-python",
   "name": "python",
   "nbconvert_exporter": "python",
   "pygments_lexer": "ipython3",
   "version": "3.8.3"
  }
 },
 "nbformat": 4,
 "nbformat_minor": 4
}
