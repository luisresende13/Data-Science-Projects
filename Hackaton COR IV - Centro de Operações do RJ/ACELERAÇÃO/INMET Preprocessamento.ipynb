{
 "cells": [
  {
   "cell_type": "markdown",
   "metadata": {},
   "source": [
    "# INMET DATA PREPROCESSING"
   ]
  },
  {
   "cell_type": "markdown",
   "metadata": {},
   "source": [
    "#### Import modules and libraries"
   ]
  },
  {
   "cell_type": "code",
   "execution_count": 1,
   "metadata": {},
   "outputs": [],
   "source": [
    "import os, pandas as pd, numpy as np, matplotlib.pyplot as plt, seaborn as sns; sns.set()\n",
    "from IPython.display import clear_output as co"
   ]
  },
  {
   "cell_type": "markdown",
   "metadata": {},
   "source": [
    "#### Load INMET metheorlogical stations data"
   ]
  },
  {
   "cell_type": "code",
   "execution_count": 3,
   "metadata": {},
   "outputs": [
    {
     "data": {
      "text/plain": [
       "(108864, 65)"
      ]
     },
     "execution_count": 3,
     "metadata": {},
     "output_type": "execute_result"
    }
   ],
   "source": [
    "inmet = pd.read_csv('Dados/Clean/INMET.csv', index_col=0)\n",
    "\n",
    "inmet.set_index(pd.to_datetime(inmet.index), inplace=True); data.shape"
   ]
  },
  {
   "cell_type": "markdown",
   "metadata": {},
   "source": [
    "#### Load water bag catalog and incident clusters"
   ]
  },
  {
   "cell_type": "code",
   "execution_count": 4,
   "metadata": {},
   "outputs": [
    {
     "data": {
      "text/plain": [
       "((3140, 20), (2983, 20))"
      ]
     },
     "execution_count": 4,
     "metadata": {},
     "output_type": "execute_result"
    }
   ],
   "source": [
    "bolsoes = pd.read_csv('Dados/water_bag_catalog_google.csv', index_col=0)\n",
    "clusters = pd.read_csv('Dados/water_bag_clusters.csv', index_col=0)\n",
    "\n",
    "bolsoes.shape, clusters.shape"
   ]
  },
  {
   "cell_type": "markdown",
   "metadata": {},
   "source": [
    "# 1. Preprocessing"
   ]
  },
  {
   "cell_type": "markdown",
   "metadata": {},
   "source": [
    "Model arquitecture options:\n",
    "1. Binary labels for (any) incident ocorrence in time intervals - Done\n",
    "1. Binary labels for incident ocorrence in time intervals for each incident group - Done\n",
    "1. Labels for each incident group (+ no incident) in time intervals\n",
    "4. Shift labels to predict future ocorrence per hours prior\n",
    "    1. Shift labels one, two, three positions to predict risk for next one, two, three hours (separate model for each hour step).\n",
    "6. Reorder columns values as first, second ... stations closer\n",
    "7. Predict incident quantity per day, week and month, in city, neighborhoods and clusters.\n",
    "8. Predict time until next event (for city and event groups)\n",
    "\n",
    "Additional data:\n",
    "1. Time serie index (Make it a time serie model)\n",
    "1. Trimester, month, week, day of the year.\n",
    "2. Acumulated on last one, two, three... records (hours).\n",
    "\n",
    "Obs: Filter records by arbitrary rule to reduce samples and overcome imbalancement"
   ]
  },
  {
   "cell_type": "markdown",
   "metadata": {},
   "source": [
    "### Transform functions"
   ]
  },
  {
   "cell_type": "code",
   "execution_count": 4,
   "metadata": {},
   "outputs": [],
   "source": [
    "def intervals_intersect_interval(values_min, values_max, time_min, time_max):\n",
    "    return ~((values_max <= time_min) | (values_min >= time_max))\n",
    "\n",
    "def timeSequenceEventLabels(target, time_serie, start, end, label_col, report=1000): # Accepts time_serie as pandas Datetime Index\n",
    "    period_label = []\n",
    "    for i in range(time_serie.shape[0] - 1):\n",
    "        if (i+1) % report == 0:\n",
    "            co(wait=True); print(f'{i+1}/{time_serie.shape[0]} bin edges evaluated...')\n",
    "        periods_intersect = intervals_intersect_interval(target[start], target[end], time_serie[i], time_serie[i+1])\n",
    "        target_bin = target[periods_intersect]\n",
    "        label = 1 if len(target_bin) else 0\n",
    "        n_events = len(target_bin)\n",
    "        event_ids = target_bin.index.tolist()\n",
    "        event_groups = target_bin[label_col].tolist()\n",
    "        period_label.append([label, n_events, event_ids, event_groups])\n",
    "    \n",
    "    print(f'Done! {time_serie.shape[0] - 1} periods evaluated.')\n",
    "    return pd.DataFrame(period_label, columns=['label', 'events', 'event ids', 'event groups'], index=time_serie[:-1])"
   ]
  },
  {
   "cell_type": "markdown",
   "metadata": {},
   "source": [
    "### Create events collection\n",
    "   0. Event id\n",
    "   1. Start time\n",
    "   2. End time\n",
    "   3. Group"
   ]
  },
  {
   "cell_type": "code",
   "execution_count": 7,
   "metadata": {},
   "outputs": [
    {
     "data": {
      "text/html": [
       "<div>\n",
       "<style scoped>\n",
       "    .dataframe tbody tr th:only-of-type {\n",
       "        vertical-align: middle;\n",
       "    }\n",
       "\n",
       "    .dataframe tbody tr th {\n",
       "        vertical-align: top;\n",
       "    }\n",
       "\n",
       "    .dataframe thead th {\n",
       "        text-align: right;\n",
       "    }\n",
       "</style>\n",
       "<table border=\"1\" class=\"dataframe\">\n",
       "  <thead>\n",
       "    <tr style=\"text-align: right;\">\n",
       "      <th></th>\n",
       "      <th>EVENTO_INICIO</th>\n",
       "      <th>EVENTO_FIM</th>\n",
       "      <th>sublabel</th>\n",
       "    </tr>\n",
       "    <tr>\n",
       "      <th>EVENTO_ID</th>\n",
       "      <th></th>\n",
       "      <th></th>\n",
       "      <th></th>\n",
       "    </tr>\n",
       "  </thead>\n",
       "  <tbody>\n",
       "    <tr>\n",
       "      <th>1258</th>\n",
       "      <td>2015-09-12 20:12:00</td>\n",
       "      <td>2015-09-13 03:39:00</td>\n",
       "      <td>12</td>\n",
       "    </tr>\n",
       "    <tr>\n",
       "      <th>1259</th>\n",
       "      <td>2015-09-12 22:13:00</td>\n",
       "      <td>2015-09-13 01:21:00</td>\n",
       "      <td>-1</td>\n",
       "    </tr>\n",
       "    <tr>\n",
       "      <th>1260</th>\n",
       "      <td>2015-09-12 22:15:00</td>\n",
       "      <td>2015-09-13 01:20:00</td>\n",
       "      <td>-1</td>\n",
       "    </tr>\n",
       "    <tr>\n",
       "      <th>1261</th>\n",
       "      <td>2015-09-12 22:16:00</td>\n",
       "      <td>2015-09-13 01:20:00</td>\n",
       "      <td>-1</td>\n",
       "    </tr>\n",
       "  </tbody>\n",
       "</table>\n",
       "</div>"
      ],
      "text/plain": [
       "                EVENTO_INICIO          EVENTO_FIM  sublabel\n",
       "EVENTO_ID                                                  \n",
       "1258      2015-09-12 20:12:00 2015-09-13 03:39:00        12\n",
       "1259      2015-09-12 22:13:00 2015-09-13 01:21:00        -1\n",
       "1260      2015-09-12 22:15:00 2015-09-13 01:20:00        -1\n",
       "1261      2015-09-12 22:16:00 2015-09-13 01:20:00        -1"
      ]
     },
     "metadata": {},
     "output_type": "display_data"
    },
    {
     "data": {
      "text/plain": [
       "(2983, 3)"
      ]
     },
     "metadata": {},
     "output_type": "display_data"
    }
   ],
   "source": [
    "events = bolsoes[['EVENTO_INICIO', 'EVENTO_FIM']].apply(pd.to_datetime)\n",
    "events = events.join(clusters['sublabel'], how='inner')\n",
    "\n",
    "display(events.head(4)); display(events.shape)"
   ]
  },
  {
   "cell_type": "markdown",
   "metadata": {},
   "source": [
    "### Drop outlier events (Optional)"
   ]
  },
  {
   "cell_type": "code",
   "execution_count": 6,
   "metadata": {},
   "outputs": [
    {
     "data": {
      "text/plain": [
       "(2983, 3)"
      ]
     },
     "execution_count": 6,
     "metadata": {},
     "output_type": "execute_result"
    }
   ],
   "source": [
    "# events = events[events['sublabel'] != -1]#.drop_duplicates().set_index('EVENTO_INICIO')\n",
    "\n",
    "events.shape"
   ]
  },
  {
   "cell_type": "markdown",
   "metadata": {},
   "source": [
    "### Label time records by events presence"
   ]
  },
  {
   "cell_type": "code",
   "execution_count": 60,
   "metadata": {},
   "outputs": [
    {
     "name": "stdout",
     "output_type": "stream",
     "text": [
      "108000/108864 bin edges evaluated...\n"
     ]
    }
   ],
   "source": [
    "label_col = 'sublabel'\n",
    "start, end = 'EVENTO_INICIO', 'EVENTO_FIM'\n",
    "report = 1000\n",
    "\n",
    "event_timeserie = timeSequenceEventLabels(events, data.index, start, end, label_col, report=1000)"
   ]
  },
  {
   "cell_type": "markdown",
   "metadata": {},
   "source": [
    "### Save and reload labeled time serie"
   ]
  },
  {
   "cell_type": "code",
   "execution_count": 22,
   "metadata": {},
   "outputs": [
    {
     "data": {
      "text/html": [
       "<div>\n",
       "<style scoped>\n",
       "    .dataframe tbody tr th:only-of-type {\n",
       "        vertical-align: middle;\n",
       "    }\n",
       "\n",
       "    .dataframe tbody tr th {\n",
       "        vertical-align: top;\n",
       "    }\n",
       "\n",
       "    .dataframe thead th {\n",
       "        text-align: right;\n",
       "    }\n",
       "</style>\n",
       "<table border=\"1\" class=\"dataframe\">\n",
       "  <thead>\n",
       "    <tr style=\"text-align: right;\">\n",
       "      <th></th>\n",
       "      <th>label</th>\n",
       "      <th>events</th>\n",
       "      <th>event ids</th>\n",
       "      <th>event groups</th>\n",
       "    </tr>\n",
       "  </thead>\n",
       "  <tbody>\n",
       "    <tr>\n",
       "      <th>2022-02-15 16:00:00</th>\n",
       "      <td>0</td>\n",
       "      <td>0</td>\n",
       "      <td>[]</td>\n",
       "      <td>[]</td>\n",
       "    </tr>\n",
       "    <tr>\n",
       "      <th>2015-05-09 14:00:00</th>\n",
       "      <td>0</td>\n",
       "      <td>0</td>\n",
       "      <td>[]</td>\n",
       "      <td>[]</td>\n",
       "    </tr>\n",
       "    <tr>\n",
       "      <th>2017-07-24 11:00:00</th>\n",
       "      <td>0</td>\n",
       "      <td>0</td>\n",
       "      <td>[]</td>\n",
       "      <td>[]</td>\n",
       "    </tr>\n",
       "    <tr>\n",
       "      <th>2019-02-07 05:00:00</th>\n",
       "      <td>1</td>\n",
       "      <td>11</td>\n",
       "      <td>[39326, 39327, 39331, 39334, 39337, 39344, 393...</td>\n",
       "      <td>[23, 0, 3, -1, 12, -1, 34, -1, 10, 15, -1]</td>\n",
       "    </tr>\n",
       "    <tr>\n",
       "      <th>2013-06-13 17:00:00</th>\n",
       "      <td>0</td>\n",
       "      <td>0</td>\n",
       "      <td>[]</td>\n",
       "      <td>[]</td>\n",
       "    </tr>\n",
       "  </tbody>\n",
       "</table>\n",
       "</div>"
      ],
      "text/plain": [
       "                     label  events  \\\n",
       "2022-02-15 16:00:00      0       0   \n",
       "2015-05-09 14:00:00      0       0   \n",
       "2017-07-24 11:00:00      0       0   \n",
       "2019-02-07 05:00:00      1      11   \n",
       "2013-06-13 17:00:00      0       0   \n",
       "\n",
       "                                                             event ids  \\\n",
       "2022-02-15 16:00:00                                                 []   \n",
       "2015-05-09 14:00:00                                                 []   \n",
       "2017-07-24 11:00:00                                                 []   \n",
       "2019-02-07 05:00:00  [39326, 39327, 39331, 39334, 39337, 39344, 393...   \n",
       "2013-06-13 17:00:00                                                 []   \n",
       "\n",
       "                                                   event groups  \n",
       "2022-02-15 16:00:00                                          []  \n",
       "2015-05-09 14:00:00                                          []  \n",
       "2017-07-24 11:00:00                                          []  \n",
       "2019-02-07 05:00:00  [23, 0, 3, -1, 12, -1, 34, -1, 10, 15, -1]  \n",
       "2013-06-13 17:00:00                                          []  "
      ]
     },
     "execution_count": 22,
     "metadata": {},
     "output_type": "execute_result"
    }
   ],
   "source": [
    "# event_timeseriel.to_csv('../Dados/Transform/waterbag_timeserie_inmet.csv', index=True)\n",
    "\n",
    "event_ts = pd.read_csv('Dados/Transform/waterbag_timeserie_inmet.csv', index_col=0)\n",
    "event_ts.set_index(pd.to_datetime(event_ts.index), inplace=True); event_ts.sample(5)"
   ]
  },
  {
   "cell_type": "code",
   "execution_count": null,
   "metadata": {},
   "outputs": [],
   "source": [
    "2. "
   ]
  }
 ],
 "metadata": {
  "kernelspec": {
   "display_name": "Python 3",
   "language": "python",
   "name": "python3"
  },
  "language_info": {
   "codemirror_mode": {
    "name": "ipython",
    "version": 3
   },
   "file_extension": ".py",
   "mimetype": "text/x-python",
   "name": "python",
   "nbconvert_exporter": "python",
   "pygments_lexer": "ipython3",
   "version": "3.8.3"
  }
 },
 "nbformat": 4,
 "nbformat_minor": 4
}
