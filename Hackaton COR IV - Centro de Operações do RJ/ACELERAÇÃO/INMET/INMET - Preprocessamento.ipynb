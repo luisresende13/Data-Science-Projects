{
 "cells": [
  {
   "cell_type": "markdown",
   "metadata": {},
   "source": [
    "# INMET METHEOROLOGICAL STATIONS - PREPROCESSING & FEATURE ENGINEERING"
   ]
  },
  {
   "cell_type": "markdown",
   "metadata": {},
   "source": [
    "#### Import modules and libraries"
   ]
  },
  {
   "cell_type": "code",
   "execution_count": 1,
   "metadata": {},
   "outputs": [],
   "source": [
    "import os, json\n",
    "import pandas as pd, numpy as np\n",
    "import matplotlib.pyplot as plt, seaborn as sns; sns.set()\n",
    "from IPython.display import clear_output as co"
   ]
  },
  {
   "cell_type": "markdown",
   "metadata": {},
   "source": [
    "#### Load data"
   ]
  },
  {
   "cell_type": "code",
   "execution_count": null,
   "metadata": {},
   "outputs": [],
   "source": [
    "inmet = pd.read_csv('Dados/Clean/INMET.csv', index_col=0)\n",
    "inmet.set_index(pd.to_datetime(inmet.index), inplace=True) # Convert index to datetime\n",
    "\n",
    "inmet.shape"
   ]
  },
  {
   "cell_type": "markdown",
   "metadata": {},
   "source": [
    "### Planning\n",
    "\n",
    "Model arquitecture options:\n",
    "1. Binary labels for (any) incident ocorrence in time intervals - Done\n",
    "1. Binary labels for incident ocorrence in time intervals for each incident group - Done\n",
    "1. Labels for each incident group (+ no incident) in time intervals\n",
    "4. Shift labels to predict future ocorrence per hours prior\n",
    "    1. Shift labels one, two, three positions to predict risk for next one, two, three hours (separate model for each hour step).\n",
    "6. Reorder columns values as first, second ... stations closer\n",
    "7. Predict incident quantity per day, week and month, in city, neighborhoods and clusters.\n",
    "8. Predict time until next event (for city and event groups)\n",
    "\n",
    "Feature Engineering:\n",
    "1. Time serie index (Make it a time serie model)\n",
    "1. Trimester, month, week, day of the year.\n",
    "2. Acumulated on last one, two, three... records (hours).\n",
    "\n",
    "Obs: Filter records by arbitrary rule to reduce samples and overcome imbalancement"
   ]
  },
  {
   "cell_type": "markdown",
   "metadata": {},
   "source": [
    "---\n",
    "# 1. Stations' records labeled by water bag event ocorrence"
   ]
  },
  {
   "cell_type": "markdown",
   "metadata": {},
   "source": [
    "### Transform functions"
   ]
  },
  {
   "cell_type": "code",
   "execution_count": 4,
   "metadata": {},
   "outputs": [],
   "source": [
    "def intervals_intersect_interval(values_min, values_max, time_min, time_max):\n",
    "    return ~((values_max <= time_min) | (values_min >= time_max))\n",
    "\n",
    "def timeSequenceEventLabels(time_serie, target, start, end, groups, report=1000): # Accepts time_serie as pandas Datetime Index\n",
    "    period_label = []\n",
    "    for i in range(time_serie.shape[0] - 1):\n",
    "        if (i+1) % report == 0:\n",
    "            co(wait=True); print(f'{i+1}/{time_serie.shape[0] - 1} bin edges evaluated...')\n",
    "        periods_intersect = intervals_intersect_interval(target[start], target[end], time_serie[i], time_serie[i+1])\n",
    "        target_bin = target[periods_intersect]\n",
    "        label = 1 if len(target_bin) else 0\n",
    "        n_events = len(target_bin)\n",
    "        event_ids = target_bin.index.tolist()\n",
    "        event_groups = target_bin[groups].tolist()\n",
    "        period_label.append([label, n_events, event_ids, event_groups])\n",
    "    \n",
    "    print(f'Done! {time_serie.shape[0] - 1} periods evaluated.')\n",
    "    return pd.DataFrame(period_label, columns=['label', 'events', 'event ids', 'event groups'], index=time_serie[:-1])"
   ]
  },
  {
   "cell_type": "markdown",
   "metadata": {},
   "source": [
    "### Water bag events\n",
    "\n",
    "#### Join clusters data to water bag events collection"
   ]
  },
  {
   "cell_type": "code",
   "execution_count": 6,
   "metadata": {},
   "outputs": [
    {
     "data": {
      "text/html": [
       "<div>\n",
       "<style scoped>\n",
       "    .dataframe tbody tr th:only-of-type {\n",
       "        vertical-align: middle;\n",
       "    }\n",
       "\n",
       "    .dataframe tbody tr th {\n",
       "        vertical-align: top;\n",
       "    }\n",
       "\n",
       "    .dataframe thead th {\n",
       "        text-align: right;\n",
       "    }\n",
       "</style>\n",
       "<table border=\"1\" class=\"dataframe\">\n",
       "  <thead>\n",
       "    <tr style=\"text-align: right;\">\n",
       "      <th></th>\n",
       "      <th>EVENTO_INICIO</th>\n",
       "      <th>EVENTO_FIM</th>\n",
       "      <th>sublabel</th>\n",
       "    </tr>\n",
       "    <tr>\n",
       "      <th>EVENTO_ID</th>\n",
       "      <th></th>\n",
       "      <th></th>\n",
       "      <th></th>\n",
       "    </tr>\n",
       "  </thead>\n",
       "  <tbody>\n",
       "    <tr>\n",
       "      <th>1258</th>\n",
       "      <td>2015-09-12 20:12:00</td>\n",
       "      <td>2015-09-13 03:39:00</td>\n",
       "      <td>12</td>\n",
       "    </tr>\n",
       "    <tr>\n",
       "      <th>1259</th>\n",
       "      <td>2015-09-12 22:13:00</td>\n",
       "      <td>2015-09-13 01:21:00</td>\n",
       "      <td>-1</td>\n",
       "    </tr>\n",
       "    <tr>\n",
       "      <th>1260</th>\n",
       "      <td>2015-09-12 22:15:00</td>\n",
       "      <td>2015-09-13 01:20:00</td>\n",
       "      <td>-1</td>\n",
       "    </tr>\n",
       "    <tr>\n",
       "      <th>1261</th>\n",
       "      <td>2015-09-12 22:16:00</td>\n",
       "      <td>2015-09-13 01:20:00</td>\n",
       "      <td>-1</td>\n",
       "    </tr>\n",
       "  </tbody>\n",
       "</table>\n",
       "</div>"
      ],
      "text/plain": [
       "                EVENTO_INICIO          EVENTO_FIM  sublabel\n",
       "EVENTO_ID                                                  \n",
       "1258      2015-09-12 20:12:00 2015-09-13 03:39:00        12\n",
       "1259      2015-09-12 22:13:00 2015-09-13 01:21:00        -1\n",
       "1260      2015-09-12 22:15:00 2015-09-13 01:20:00        -1\n",
       "1261      2015-09-12 22:16:00 2015-09-13 01:20:00        -1"
      ]
     },
     "metadata": {},
     "output_type": "display_data"
    },
    {
     "data": {
      "text/plain": [
       "(2983, 3)"
      ]
     },
     "metadata": {},
     "output_type": "display_data"
    }
   ],
   "source": [
    "events = waterbags[['EVENTO_INICIO', 'EVENTO_FIM']].apply(pd.to_datetime)\n",
    "events = events.join(clusters['sublabel'], how='inner')\n",
    "\n",
    "display(events.head(4), events.shape)"
   ]
  },
  {
   "cell_type": "markdown",
   "metadata": {},
   "source": [
    "### Label stations' records by water bag event ocorrence"
   ]
  },
  {
   "cell_type": "code",
   "execution_count": 7,
   "metadata": {},
   "outputs": [
    {
     "name": "stdout",
     "output_type": "stream",
     "text": [
      "108000/108863 bin edges evaluated...\n",
      "Done! 108863 periods evaluated.\n"
     ]
    }
   ],
   "source": [
    "event_ts = timeSequenceEventLabels(\n",
    "    inmet.index, events,\n",
    "    start='EVENTO_INICIO',\n",
    "    end='EVENTO_FIM',\n",
    "    groups='sublabel',\n",
    "    report=1000,\n",
    ")"
   ]
  },
  {
   "cell_type": "markdown",
   "metadata": {},
   "source": [
    "#### Save labeled time serie"
   ]
  },
  {
   "cell_type": "code",
   "execution_count": 8,
   "metadata": {},
   "outputs": [],
   "source": [
    "# event_ts.to_csv('Dados/Transform/waterbag_timeserie_inmet.csv', index=True)"
   ]
  },
  {
   "cell_type": "markdown",
   "metadata": {},
   "source": [
    "#### Reload & preprocess"
   ]
  },
  {
   "cell_type": "code",
   "execution_count": 9,
   "metadata": {},
   "outputs": [
    {
     "data": {
      "text/html": [
       "<div>\n",
       "<style scoped>\n",
       "    .dataframe tbody tr th:only-of-type {\n",
       "        vertical-align: middle;\n",
       "    }\n",
       "\n",
       "    .dataframe tbody tr th {\n",
       "        vertical-align: top;\n",
       "    }\n",
       "\n",
       "    .dataframe thead th {\n",
       "        text-align: right;\n",
       "    }\n",
       "</style>\n",
       "<table border=\"1\" class=\"dataframe\">\n",
       "  <thead>\n",
       "    <tr style=\"text-align: right;\">\n",
       "      <th></th>\n",
       "      <th>label</th>\n",
       "      <th>events</th>\n",
       "      <th>event ids</th>\n",
       "      <th>event groups</th>\n",
       "    </tr>\n",
       "  </thead>\n",
       "  <tbody>\n",
       "    <tr>\n",
       "      <th>2010-08-19 09:00:00</th>\n",
       "      <td>0</td>\n",
       "      <td>0</td>\n",
       "      <td>[]</td>\n",
       "      <td>[]</td>\n",
       "    </tr>\n",
       "    <tr>\n",
       "      <th>2012-04-07 18:00:00</th>\n",
       "      <td>0</td>\n",
       "      <td>0</td>\n",
       "      <td>[]</td>\n",
       "      <td>[]</td>\n",
       "    </tr>\n",
       "    <tr>\n",
       "      <th>2015-08-09 07:00:00</th>\n",
       "      <td>0</td>\n",
       "      <td>0</td>\n",
       "      <td>[]</td>\n",
       "      <td>[]</td>\n",
       "    </tr>\n",
       "    <tr>\n",
       "      <th>2018-04-25 06:00:00</th>\n",
       "      <td>0</td>\n",
       "      <td>0</td>\n",
       "      <td>[]</td>\n",
       "      <td>[]</td>\n",
       "    </tr>\n",
       "    <tr>\n",
       "      <th>2021-10-04 21:00:00</th>\n",
       "      <td>0</td>\n",
       "      <td>0</td>\n",
       "      <td>[]</td>\n",
       "      <td>[]</td>\n",
       "    </tr>\n",
       "  </tbody>\n",
       "</table>\n",
       "</div>"
      ],
      "text/plain": [
       "                     label  events event ids event groups\n",
       "2010-08-19 09:00:00      0       0        []           []\n",
       "2012-04-07 18:00:00      0       0        []           []\n",
       "2015-08-09 07:00:00      0       0        []           []\n",
       "2018-04-25 06:00:00      0       0        []           []\n",
       "2021-10-04 21:00:00      0       0        []           []"
      ]
     },
     "metadata": {},
     "output_type": "display_data"
    },
    {
     "data": {
      "text/plain": [
       "(108863, 4)"
      ]
     },
     "metadata": {},
     "output_type": "display_data"
    }
   ],
   "source": [
    "event_ts = pd.read_csv('Dados/Transform/waterbag_timeserie_inmet.csv', index_col=0)\n",
    "\n",
    "# Convert columns contaning lists from string to json objects\n",
    "event_ts['event groups'] = event_ts['event groups'].map(json.loads)\n",
    "event_ts['event ids'] = event_ts['event ids'].map(json.loads)\n",
    "\n",
    "# Convert index to datetime\n",
    "event_ts.set_index(pd.to_datetime(event_ts.index), inplace=True)\n",
    "\n",
    "display(event_ts.sample(5), event_ts.shape)"
   ]
  },
  {
   "cell_type": "markdown",
   "metadata": {},
   "source": [
    "---\n",
    "# 3. Stations' records labeled per cluster group"
   ]
  },
  {
   "cell_type": "markdown",
   "metadata": {},
   "source": [
    "### Time serie of event ocorrence per group"
   ]
  },
  {
   "cell_type": "code",
   "execution_count": 10,
   "metadata": {},
   "outputs": [
    {
     "data": {
      "text/plain": [
       "(108863, 62)"
      ]
     },
     "execution_count": 10,
     "metadata": {},
     "output_type": "execute_result"
    }
   ],
   "source": [
    "groups = np.unique(event_ts['event groups'].sum())\n",
    "groups_labels = [event_ts['event groups'].map(lambda labels: int((group in labels))).rename(group) for group in groups]\n",
    "group_ts = pd.concat(groups_labels, 1)\n",
    "\n",
    "group_ts.shape"
   ]
  },
  {
   "cell_type": "markdown",
   "metadata": {},
   "source": [
    "#### Save time serie labeled per group"
   ]
  },
  {
   "cell_type": "code",
   "execution_count": 11,
   "metadata": {},
   "outputs": [],
   "source": [
    "# group_ts.to_csv('Dados/Transform/waterbag_clusters_timeserie_inmet.csv', index=True)"
   ]
  },
  {
   "cell_type": "markdown",
   "metadata": {},
   "source": [
    "#### Reload & preprocess"
   ]
  },
  {
   "cell_type": "code",
   "execution_count": 12,
   "metadata": {},
   "outputs": [
    {
     "data": {
      "text/html": [
       "<div>\n",
       "<style scoped>\n",
       "    .dataframe tbody tr th:only-of-type {\n",
       "        vertical-align: middle;\n",
       "    }\n",
       "\n",
       "    .dataframe tbody tr th {\n",
       "        vertical-align: top;\n",
       "    }\n",
       "\n",
       "    .dataframe thead th {\n",
       "        text-align: right;\n",
       "    }\n",
       "</style>\n",
       "<table border=\"1\" class=\"dataframe\">\n",
       "  <thead>\n",
       "    <tr style=\"text-align: right;\">\n",
       "      <th></th>\n",
       "      <th>-1</th>\n",
       "      <th>0</th>\n",
       "      <th>1</th>\n",
       "      <th>2</th>\n",
       "      <th>3</th>\n",
       "      <th>4</th>\n",
       "      <th>5</th>\n",
       "      <th>6</th>\n",
       "      <th>7</th>\n",
       "      <th>8</th>\n",
       "      <th>...</th>\n",
       "      <th>54</th>\n",
       "      <th>56</th>\n",
       "      <th>57</th>\n",
       "      <th>58</th>\n",
       "      <th>59</th>\n",
       "      <th>60</th>\n",
       "      <th>61</th>\n",
       "      <th>63</th>\n",
       "      <th>65</th>\n",
       "      <th>67</th>\n",
       "    </tr>\n",
       "  </thead>\n",
       "  <tbody>\n",
       "    <tr>\n",
       "      <th>2018-12-09 08:00:00</th>\n",
       "      <td>0</td>\n",
       "      <td>0</td>\n",
       "      <td>0</td>\n",
       "      <td>0</td>\n",
       "      <td>0</td>\n",
       "      <td>0</td>\n",
       "      <td>0</td>\n",
       "      <td>0</td>\n",
       "      <td>0</td>\n",
       "      <td>0</td>\n",
       "      <td>...</td>\n",
       "      <td>0</td>\n",
       "      <td>0</td>\n",
       "      <td>0</td>\n",
       "      <td>0</td>\n",
       "      <td>0</td>\n",
       "      <td>0</td>\n",
       "      <td>0</td>\n",
       "      <td>0</td>\n",
       "      <td>0</td>\n",
       "      <td>0</td>\n",
       "    </tr>\n",
       "    <tr>\n",
       "      <th>2012-02-25 23:00:00</th>\n",
       "      <td>0</td>\n",
       "      <td>0</td>\n",
       "      <td>0</td>\n",
       "      <td>0</td>\n",
       "      <td>0</td>\n",
       "      <td>0</td>\n",
       "      <td>0</td>\n",
       "      <td>0</td>\n",
       "      <td>0</td>\n",
       "      <td>0</td>\n",
       "      <td>...</td>\n",
       "      <td>0</td>\n",
       "      <td>0</td>\n",
       "      <td>0</td>\n",
       "      <td>0</td>\n",
       "      <td>0</td>\n",
       "      <td>0</td>\n",
       "      <td>0</td>\n",
       "      <td>0</td>\n",
       "      <td>0</td>\n",
       "      <td>0</td>\n",
       "    </tr>\n",
       "    <tr>\n",
       "      <th>2016-05-02 14:00:00</th>\n",
       "      <td>0</td>\n",
       "      <td>0</td>\n",
       "      <td>0</td>\n",
       "      <td>0</td>\n",
       "      <td>0</td>\n",
       "      <td>0</td>\n",
       "      <td>0</td>\n",
       "      <td>0</td>\n",
       "      <td>0</td>\n",
       "      <td>0</td>\n",
       "      <td>...</td>\n",
       "      <td>0</td>\n",
       "      <td>0</td>\n",
       "      <td>0</td>\n",
       "      <td>0</td>\n",
       "      <td>0</td>\n",
       "      <td>0</td>\n",
       "      <td>0</td>\n",
       "      <td>0</td>\n",
       "      <td>0</td>\n",
       "      <td>0</td>\n",
       "    </tr>\n",
       "    <tr>\n",
       "      <th>2018-05-31 01:00:00</th>\n",
       "      <td>0</td>\n",
       "      <td>0</td>\n",
       "      <td>0</td>\n",
       "      <td>0</td>\n",
       "      <td>0</td>\n",
       "      <td>0</td>\n",
       "      <td>0</td>\n",
       "      <td>0</td>\n",
       "      <td>0</td>\n",
       "      <td>0</td>\n",
       "      <td>...</td>\n",
       "      <td>0</td>\n",
       "      <td>0</td>\n",
       "      <td>0</td>\n",
       "      <td>0</td>\n",
       "      <td>0</td>\n",
       "      <td>0</td>\n",
       "      <td>0</td>\n",
       "      <td>0</td>\n",
       "      <td>0</td>\n",
       "      <td>0</td>\n",
       "    </tr>\n",
       "    <tr>\n",
       "      <th>2010-06-22 13:00:00</th>\n",
       "      <td>0</td>\n",
       "      <td>0</td>\n",
       "      <td>0</td>\n",
       "      <td>0</td>\n",
       "      <td>0</td>\n",
       "      <td>0</td>\n",
       "      <td>0</td>\n",
       "      <td>0</td>\n",
       "      <td>0</td>\n",
       "      <td>0</td>\n",
       "      <td>...</td>\n",
       "      <td>0</td>\n",
       "      <td>0</td>\n",
       "      <td>0</td>\n",
       "      <td>0</td>\n",
       "      <td>0</td>\n",
       "      <td>0</td>\n",
       "      <td>0</td>\n",
       "      <td>0</td>\n",
       "      <td>0</td>\n",
       "      <td>0</td>\n",
       "    </tr>\n",
       "  </tbody>\n",
       "</table>\n",
       "<p>5 rows × 62 columns</p>\n",
       "</div>"
      ],
      "text/plain": [
       "                     -1  0  1  2  3  4  5  6  7  8  ...  54  56  57  58  59  \\\n",
       "2018-12-09 08:00:00   0  0  0  0  0  0  0  0  0  0  ...   0   0   0   0   0   \n",
       "2012-02-25 23:00:00   0  0  0  0  0  0  0  0  0  0  ...   0   0   0   0   0   \n",
       "2016-05-02 14:00:00   0  0  0  0  0  0  0  0  0  0  ...   0   0   0   0   0   \n",
       "2018-05-31 01:00:00   0  0  0  0  0  0  0  0  0  0  ...   0   0   0   0   0   \n",
       "2010-06-22 13:00:00   0  0  0  0  0  0  0  0  0  0  ...   0   0   0   0   0   \n",
       "\n",
       "                     60  61  63  65  67  \n",
       "2018-12-09 08:00:00   0   0   0   0   0  \n",
       "2012-02-25 23:00:00   0   0   0   0   0  \n",
       "2016-05-02 14:00:00   0   0   0   0   0  \n",
       "2018-05-31 01:00:00   0   0   0   0   0  \n",
       "2010-06-22 13:00:00   0   0   0   0   0  \n",
       "\n",
       "[5 rows x 62 columns]"
      ]
     },
     "metadata": {},
     "output_type": "display_data"
    },
    {
     "data": {
      "text/plain": [
       "(108863, 62)"
      ]
     },
     "metadata": {},
     "output_type": "display_data"
    }
   ],
   "source": [
    "# Reload\n",
    "group_ts = pd.read_csv('Dados/Transform/waterbag_clusters_timeserie_inmet.csv', index_col=0)\n",
    "group_ts.set_index(pd.to_datetime(group_ts.index), inplace=True)\n",
    "\n",
    "display(group_ts.sample(5), group_ts.shape)"
   ]
  }
 ],
 "metadata": {
  "kernelspec": {
   "display_name": "Python 3",
   "language": "python",
   "name": "python3"
  },
  "language_info": {
   "codemirror_mode": {
    "name": "ipython",
    "version": 3
   },
   "file_extension": ".py",
   "mimetype": "text/x-python",
   "name": "python",
   "nbconvert_exporter": "python",
   "pygments_lexer": "ipython3",
   "version": "3.8.3"
  }
 },
 "nbformat": 4,
 "nbformat_minor": 4
}
