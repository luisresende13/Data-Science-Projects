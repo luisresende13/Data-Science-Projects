{
 "cells": [
  {
   "cell_type": "markdown",
   "metadata": {},
   "source": [
    "# EXPLORATORY DATA ANALYSIS - SISTEMA COMANDO\n",
    "\n",
    "### FOCUS ON INCIDENTS CAUSED BY METHEOROLOGICAL EVENTS"
   ]
  },
  {
   "cell_type": "markdown",
   "metadata": {},
   "source": [
    "---\n",
    "### Notebook Sections:\n",
    "1. Exploratory data analysis & data cleaning\n",
    "    * Asses general quality of the dataset\n",
    "2. Extract incident catalog\n",
    "    * Extract catalog of incidents with known coordinates, caused by rain for predicive modeling\n",
    "3. Reverse geocode catalog coordinates\n",
    "4. Reverse geocode result analysis\n",
    "5. Filter and merge geocode result to catalog\n",
    "    * Obs: Exclude incidents without a numbered address result\n",
    "4. Extra: Search in text based records for incidents left out of initial extraction \n",
    "5. Extra: Search catalog for incidents indentified by city cameras"
   ]
  },
  {
   "cell_type": "markdown",
   "metadata": {},
   "source": [
    "---"
   ]
  },
  {
   "cell_type": "markdown",
   "metadata": {},
   "source": [
    "### Import modules and functions"
   ]
  },
  {
   "cell_type": "code",
   "execution_count": 1,
   "metadata": {},
   "outputs": [],
   "source": [
    "import os, pandas as pd, numpy as np, matplotlib.pyplot as plt, seaborn as sns; sns.set()\n",
    "from IPython.display import clear_output as co\n",
    "\n",
    "class DATA:\n",
    "    path = r'C:\\Users\\luisr\\Desktop\\Repositories\\Dados\\Desafio COR-Rio IV\\\\'\n",
    "    AlertaAPI = r'http://websempre.rio.rj.gov.br/json/chuvas'"
   ]
  },
  {
   "cell_type": "markdown",
   "metadata": {},
   "source": [
    "### Load data"
   ]
  },
  {
   "cell_type": "code",
   "execution_count": 16,
   "metadata": {},
   "outputs": [],
   "source": [
    "comando = pd.read_csv(DATA.path + 'comando.csv')"
   ]
  },
  {
   "cell_type": "markdown",
   "metadata": {},
   "source": [
    "---\n",
    "# 1. Data Cleaning & Exploratory Data Analysis"
   ]
  },
  {
   "cell_type": "markdown",
   "metadata": {},
   "source": [
    "### 0. Extract incidents caused by metheorological events\n",
    "\n",
    "#### Incidents categories"
   ]
  },
  {
   "cell_type": "code",
   "execution_count": 3,
   "metadata": {},
   "outputs": [],
   "source": [
    "titles = [\n",
    "    \"Bolsão d'água em via\", 'Vazamento de água / esgoto',\n",
    "    'Alagamentos e enchentes', \"Lâmina d'água\",\n",
    "    \"Lâmina d'água em via\", 'Alagamento',\n",
    "    'Enchente', 'Bueiro'\n",
    "]"
   ]
  },
  {
   "cell_type": "markdown",
   "metadata": {},
   "source": [
    "#### Extract records"
   ]
  },
  {
   "cell_type": "code",
   "execution_count": 17,
   "metadata": {},
   "outputs": [
    {
     "data": {
      "text/plain": [
       "((12409, 18), (192732, 18))"
      ]
     },
     "execution_count": 17,
     "metadata": {},
     "output_type": "execute_result"
    }
   ],
   "source": [
    "records = comando[comando['POP_TITULO'].isin(titles)]\n",
    "records_left = comando.loc[set(comando.index).difference(records.index)]\n",
    "\n",
    "data = records.reset_index(drop=False).rename(columns={'index': 'REGISTRO_ID'}); comando = None\n",
    "\n",
    "records.shape, records_left.shape # Extracted and left records shapes"
   ]
  },
  {
   "cell_type": "markdown",
   "metadata": {},
   "source": [
    "**Key findings**:\n",
    "1. The record history of incidents caused by rain has some overlaping categories for incident type. There is a need to confirm the reason for the overlaping categories with the institution."
   ]
  },
  {
   "cell_type": "markdown",
   "metadata": {},
   "source": [
    "### 1. Asses columns and data types"
   ]
  },
  {
   "cell_type": "markdown",
   "metadata": {},
   "source": [
    "##### Identify variables' types"
   ]
  },
  {
   "cell_type": "code",
   "execution_count": 18,
   "metadata": {},
   "outputs": [],
   "source": [
    "cols = {\n",
    "    'text': [\n",
    "        'EVENTO_TITULO', 'EVENTO_DESCRICAO'\n",
    "    ],\n",
    "    'categorical': [\n",
    "        'EVENTO_GRAVIDADE', 'EVENTO_BAIRRO', 'STATUS', 'EVENTO_PRAZO',\n",
    "        'POP_TITULO', 'POP_DESCRICAO', 'ORGAO_SIGLA', 'ORGAO_NOME', 'ACAO'\n",
    "    ],\n",
    "    'datetime': [\n",
    "        'EVENTO_INICIO', 'EVENTO_INICIO_HORA',\n",
    "        'EVENTO_FIM', 'EVENTO_FIM_HORA'\n",
    "    ],\n",
    "    'location': [\n",
    "        'EVENTO_LATITUDE', 'EVENTO_LONGITUDE'\n",
    "    ]\n",
    "}"
   ]
  },
  {
   "cell_type": "markdown",
   "metadata": {},
   "source": [
    "#### Check raw data types"
   ]
  },
  {
   "cell_type": "code",
   "execution_count": 19,
   "metadata": {},
   "outputs": [
    {
     "data": {
      "text/plain": [
       "REGISTRO_ID             int64\n",
       "EVENTO_ID               int64\n",
       "EVENTO_TITULO          object\n",
       "EVENTO_DESCRICAO       object\n",
       "EVENTO_GRAVIDADE       object\n",
       "EVENTO_BAIRRO          object\n",
       "STATUS                 object\n",
       "EVENTO_INICIO          object\n",
       "EVENTO_INICIO_HORA     object\n",
       "EVENTO_FIM             object\n",
       "EVENTO_FIM_HORA        object\n",
       "EVENTO_PRAZO           object\n",
       "EVENTO_LATITUDE       float64\n",
       "EVENTO_LONGITUDE      float64\n",
       "POP_TITULO             object\n",
       "POP_DESCRICAO          object\n",
       "ORGAO_SIGLA            object\n",
       "ORGAO_NOME             object\n",
       "ACAO                   object\n",
       "dtype: object"
      ]
     },
     "execution_count": 19,
     "metadata": {},
     "output_type": "execute_result"
    }
   ],
   "source": [
    "data.dtypes"
   ]
  },
  {
   "cell_type": "markdown",
   "metadata": {},
   "source": [
    "---\n",
    "### 2. Asses time variables"
   ]
  },
  {
   "cell_type": "markdown",
   "metadata": {},
   "source": [
    "#### Convert event start and end dates and times to 'datetime64' type"
   ]
  },
  {
   "cell_type": "code",
   "execution_count": 20,
   "metadata": {},
   "outputs": [
    {
     "data": {
      "text/plain": [
       "0       2015-04-10 15:59:00\n",
       "1       2015-04-10 15:59:00\n",
       "2       2015-04-10 15:59:00\n",
       "3       2015-04-10 15:59:00\n",
       "4       2015-05-05 07:52:00\n",
       "                ...        \n",
       "12404   2022-04-30 12:33:00\n",
       "12405   2022-04-30 15:33:00\n",
       "12406   2022-04-30 15:33:00\n",
       "12407   2022-04-30 16:09:00\n",
       "12408   2022-04-30 16:09:00\n",
       "Name: evento_inicio, Length: 12409, dtype: datetime64[ns]"
      ]
     },
     "execution_count": 20,
     "metadata": {},
     "output_type": "execute_result"
    }
   ],
   "source": [
    "start = data['EVENTO_INICIO'] + ' ' + data['EVENTO_INICIO_HORA']\n",
    "end = data['EVENTO_FIM'] + ' ' + data['EVENTO_FIM_HORA']\n",
    "\n",
    "data['evento_inicio'] = pd.to_datetime(start)\n",
    "data['evento_fim'] = pd.to_datetime(end)\n",
    "\n",
    "data['evento_inicio']"
   ]
  },
  {
   "cell_type": "markdown",
   "metadata": {},
   "source": [
    "---\n",
    "### 2. Asses text variables"
   ]
  },
  {
   "cell_type": "markdown",
   "metadata": {},
   "source": [
    "#### Unique values count"
   ]
  },
  {
   "cell_type": "code",
   "execution_count": 21,
   "metadata": {},
   "outputs": [
    {
     "data": {
      "text/html": [
       "<div>\n",
       "<style scoped>\n",
       "    .dataframe tbody tr th:only-of-type {\n",
       "        vertical-align: middle;\n",
       "    }\n",
       "\n",
       "    .dataframe tbody tr th {\n",
       "        vertical-align: top;\n",
       "    }\n",
       "\n",
       "    .dataframe thead th {\n",
       "        text-align: right;\n",
       "    }\n",
       "</style>\n",
       "<table border=\"1\" class=\"dataframe\">\n",
       "  <thead>\n",
       "    <tr style=\"text-align: right;\">\n",
       "      <th></th>\n",
       "      <th>EVENTO_TITULO</th>\n",
       "    </tr>\n",
       "  </thead>\n",
       "  <tbody>\n",
       "    <tr>\n",
       "      <th>Bolsão d'água em via</th>\n",
       "      <td>3959</td>\n",
       "    </tr>\n",
       "    <tr>\n",
       "      <th>Bolsão d'água</th>\n",
       "      <td>1752</td>\n",
       "    </tr>\n",
       "    <tr>\n",
       "      <th>Alagamento</th>\n",
       "      <td>1112</td>\n",
       "    </tr>\n",
       "    <tr>\n",
       "      <th>Vazamento de água</th>\n",
       "      <td>568</td>\n",
       "    </tr>\n",
       "    <tr>\n",
       "      <th>Bolsão d'água</th>\n",
       "      <td>554</td>\n",
       "    </tr>\n",
       "    <tr>\n",
       "      <th>...</th>\n",
       "      <td>...</td>\n",
       "    </tr>\n",
       "    <tr>\n",
       "      <th>Limpeza da Via</th>\n",
       "      <td>1</td>\n",
       "    </tr>\n",
       "    <tr>\n",
       "      <th>Bolsão d'água em via ( CAM 294 )</th>\n",
       "      <td>1</td>\n",
       "    </tr>\n",
       "    <tr>\n",
       "      <th>Lamina d'água ( CAM 136 )</th>\n",
       "      <td>1</td>\n",
       "    </tr>\n",
       "    <tr>\n",
       "      <th>Manutenção da Via ( Seconserva )</th>\n",
       "      <td>1</td>\n",
       "    </tr>\n",
       "    <tr>\n",
       "      <th>Vazamento de óleo na via</th>\n",
       "      <td>1</td>\n",
       "    </tr>\n",
       "  </tbody>\n",
       "</table>\n",
       "<p>554 rows × 1 columns</p>\n",
       "</div>"
      ],
      "text/plain": [
       "                                  EVENTO_TITULO\n",
       "Bolsão d'água em via                       3959\n",
       "Bolsão d'água                              1752\n",
       "Alagamento                                 1112\n",
       "Vazamento de água                           568\n",
       "Bolsão d'água                               554\n",
       "...                                         ...\n",
       "Limpeza da Via                                1\n",
       "Bolsão d'água em via ( CAM 294 )              1\n",
       "Lamina d'água ( CAM 136 )                     1\n",
       "Manutenção da Via ( Seconserva )              1\n",
       "Vazamento de óleo na via                      1\n",
       "\n",
       "[554 rows x 1 columns]"
      ]
     },
     "metadata": {},
     "output_type": "display_data"
    },
    {
     "data": {
      "text/html": [
       "<div>\n",
       "<style scoped>\n",
       "    .dataframe tbody tr th:only-of-type {\n",
       "        vertical-align: middle;\n",
       "    }\n",
       "\n",
       "    .dataframe tbody tr th {\n",
       "        vertical-align: top;\n",
       "    }\n",
       "\n",
       "    .dataframe thead th {\n",
       "        text-align: right;\n",
       "    }\n",
       "</style>\n",
       "<table border=\"1\" class=\"dataframe\">\n",
       "  <thead>\n",
       "    <tr style=\"text-align: right;\">\n",
       "      <th></th>\n",
       "      <th>EVENTO_DESCRICAO</th>\n",
       "    </tr>\n",
       "  </thead>\n",
       "  <tbody>\n",
       "    <tr>\n",
       "      <th>Rua do Catete, Alt. R. Silveira Martins - Catete</th>\n",
       "      <td>67</td>\n",
       "    </tr>\n",
       "    <tr>\n",
       "      <th>R. São Clemente, 226 - Botafogo</th>\n",
       "      <td>31</td>\n",
       "    </tr>\n",
       "    <tr>\n",
       "      <th>Mergulhão Billy Blanco - Barra da Tijuca</th>\n",
       "      <td>25</td>\n",
       "    </tr>\n",
       "    <tr>\n",
       "      <th>Av. Brasil - Benfica</th>\n",
       "      <td>25</td>\n",
       "    </tr>\n",
       "    <tr>\n",
       "      <th>Av. Epitácio Pessoa, Alt. R. Maria Quitéria - Lagoa</th>\n",
       "      <td>24</td>\n",
       "    </tr>\n",
       "    <tr>\n",
       "      <th>...</th>\n",
       "      <td>...</td>\n",
       "    </tr>\n",
       "    <tr>\n",
       "      <th>Av. Brasil - Bangu - Sent. Centro</th>\n",
       "      <td>1</td>\n",
       "    </tr>\n",
       "    <tr>\n",
       "      <th>Rua Uçá, alt. Praça Jerusalém - Jardim Guanabara</th>\n",
       "      <td>1</td>\n",
       "    </tr>\n",
       "    <tr>\n",
       "      <th>Av. Radial Oeste, 173 - Praça da Bandeira</th>\n",
       "      <td>1</td>\n",
       "    </tr>\n",
       "    <tr>\n",
       "      <th>R. Humaitá - Alt. R. Jardim Botânico</th>\n",
       "      <td>1</td>\n",
       "    </tr>\n",
       "    <tr>\n",
       "      <th>Av. Brasil - Alt. Into - Caju - Sent. Centro</th>\n",
       "      <td>1</td>\n",
       "    </tr>\n",
       "  </tbody>\n",
       "</table>\n",
       "<p>4326 rows × 1 columns</p>\n",
       "</div>"
      ],
      "text/plain": [
       "                                                    EVENTO_DESCRICAO\n",
       "Rua do Catete, Alt. R. Silveira Martins - Catete                  67\n",
       "R. São Clemente, 226 - Botafogo                                   31\n",
       "Mergulhão Billy Blanco - Barra da Tijuca                          25\n",
       "Av. Brasil - Benfica                                              25\n",
       "Av. Epitácio Pessoa, Alt. R. Maria Quitéria - L...                24\n",
       "...                                                              ...\n",
       "Av. Brasil - Bangu - Sent. Centro                                  1\n",
       "Rua Uçá, alt. Praça Jerusalém - Jardim Guanabara                   1\n",
       "Av. Radial Oeste, 173 - Praça da Bandeira                          1\n",
       "R. Humaitá - Alt. R. Jardim Botânico                               1\n",
       "Av. Brasil - Alt. Into - Caju - Sent. Centro                       1\n",
       "\n",
       "[4326 rows x 1 columns]"
      ]
     },
     "metadata": {},
     "output_type": "display_data"
    }
   ],
   "source": [
    "for col in cols['text']: # descomente para conferir contagem de valores unicos\n",
    "    display(data[col].value_counts().to_frame(col))"
   ]
  },
  {
   "cell_type": "markdown",
   "metadata": {},
   "source": [
    "Conclusions:\n",
    "\n",
    "Only datetime variables require type conversion."
   ]
  },
  {
   "cell_type": "markdown",
   "metadata": {},
   "source": [
    "---\n",
    "### 3. Asses categorical variables"
   ]
  },
  {
   "cell_type": "markdown",
   "metadata": {},
   "source": [
    "Categorical columns (unique categories):\n",
    "* EVENTO_GRAVIDADE (BAIXO, MEDIO, ALTO, CRITICO, SEM_CLASSIFICAÇÃO). Extra values: Litoral do Rio de Janeiro\n",
    "* EVENTO_BAIRRO (339) - Desestruturado\n",
    "    * Contém 'nan'\n",
    "    * Valores de categorias não uniforme: Bairros de mesmo nome com escrita diferente.\n",
    "    * Contem valores inválidos: Nomes de rua, números, endereços, etc.\n",
    "    * Necessita método strip()\n",
    "* EVENTO_STATUS (FECHADO, ABERTO). Extra values: FINALIZADO, Litoral do Rio de Janeiro\n",
    "* EVENTO_PRAZO (CURTO, MEDIO, LONGO)\n",
    "* POP_TITULO (40)\n",
    "* POP_DESCRICAO (42)\n",
    "* ORGAO_SIGLA (34)\n",
    "* ORGAO_NOME (35)\n",
    "* ACAO (70)"
   ]
  },
  {
   "cell_type": "code",
   "execution_count": 22,
   "metadata": {},
   "outputs": [
    {
     "data": {
      "text/html": [
       "<div>\n",
       "<style scoped>\n",
       "    .dataframe tbody tr th:only-of-type {\n",
       "        vertical-align: middle;\n",
       "    }\n",
       "\n",
       "    .dataframe tbody tr th {\n",
       "        vertical-align: top;\n",
       "    }\n",
       "\n",
       "    .dataframe thead th {\n",
       "        text-align: right;\n",
       "    }\n",
       "</style>\n",
       "<table border=\"1\" class=\"dataframe\">\n",
       "  <thead>\n",
       "    <tr style=\"text-align: right;\">\n",
       "      <th></th>\n",
       "      <th>EVENTO_GRAVIDADE</th>\n",
       "    </tr>\n",
       "  </thead>\n",
       "  <tbody>\n",
       "    <tr>\n",
       "      <th>BAIXO</th>\n",
       "      <td>11175</td>\n",
       "    </tr>\n",
       "    <tr>\n",
       "      <th>MEDIO</th>\n",
       "      <td>953</td>\n",
       "    </tr>\n",
       "    <tr>\n",
       "      <th>ALTO</th>\n",
       "      <td>217</td>\n",
       "    </tr>\n",
       "    <tr>\n",
       "      <th>CRITICO</th>\n",
       "      <td>59</td>\n",
       "    </tr>\n",
       "    <tr>\n",
       "      <th>SEM_CLASSIFICACAO</th>\n",
       "      <td>4</td>\n",
       "    </tr>\n",
       "  </tbody>\n",
       "</table>\n",
       "</div>"
      ],
      "text/plain": [
       "                   EVENTO_GRAVIDADE\n",
       "BAIXO                         11175\n",
       "MEDIO                           953\n",
       "ALTO                            217\n",
       "CRITICO                          59\n",
       "SEM_CLASSIFICACAO                 4"
      ]
     },
     "metadata": {},
     "output_type": "display_data"
    },
    {
     "data": {
      "text/html": [
       "<div>\n",
       "<style scoped>\n",
       "    .dataframe tbody tr th:only-of-type {\n",
       "        vertical-align: middle;\n",
       "    }\n",
       "\n",
       "    .dataframe tbody tr th {\n",
       "        vertical-align: top;\n",
       "    }\n",
       "\n",
       "    .dataframe thead th {\n",
       "        text-align: right;\n",
       "    }\n",
       "</style>\n",
       "<table border=\"1\" class=\"dataframe\">\n",
       "  <thead>\n",
       "    <tr style=\"text-align: right;\">\n",
       "      <th></th>\n",
       "      <th>EVENTO_BAIRRO</th>\n",
       "    </tr>\n",
       "  </thead>\n",
       "  <tbody>\n",
       "    <tr>\n",
       "      <th>Barra da Tijuca</th>\n",
       "      <td>671</td>\n",
       "    </tr>\n",
       "    <tr>\n",
       "      <th>Lagoa</th>\n",
       "      <td>364</td>\n",
       "    </tr>\n",
       "    <tr>\n",
       "      <th>Centro</th>\n",
       "      <td>323</td>\n",
       "    </tr>\n",
       "    <tr>\n",
       "      <th>Botafogo</th>\n",
       "      <td>239</td>\n",
       "    </tr>\n",
       "    <tr>\n",
       "      <th>Itanhangá</th>\n",
       "      <td>228</td>\n",
       "    </tr>\n",
       "    <tr>\n",
       "      <th>...</th>\n",
       "      <td>...</td>\n",
       "    </tr>\n",
       "    <tr>\n",
       "      <th>Tubiacanga</th>\n",
       "      <td>1</td>\n",
       "    </tr>\n",
       "    <tr>\n",
       "      <th>Engenho de Dentro</th>\n",
       "      <td>1</td>\n",
       "    </tr>\n",
       "    <tr>\n",
       "      <th>Catumbi</th>\n",
       "      <td>1</td>\n",
       "    </tr>\n",
       "    <tr>\n",
       "      <th>Oswaldo Cruz</th>\n",
       "      <td>1</td>\n",
       "    </tr>\n",
       "    <tr>\n",
       "      <th>Cavalcanti</th>\n",
       "      <td>1</td>\n",
       "    </tr>\n",
       "  </tbody>\n",
       "</table>\n",
       "<p>163 rows × 1 columns</p>\n",
       "</div>"
      ],
      "text/plain": [
       "                   EVENTO_BAIRRO\n",
       "Barra da Tijuca              671\n",
       "Lagoa                        364\n",
       "Centro                       323\n",
       "Botafogo                     239\n",
       "Itanhangá                    228\n",
       "...                          ...\n",
       "Tubiacanga                     1\n",
       "Engenho de Dentro              1\n",
       "Catumbi                        1\n",
       "Oswaldo Cruz                   1\n",
       "Cavalcanti                     1\n",
       "\n",
       "[163 rows x 1 columns]"
      ]
     },
     "metadata": {},
     "output_type": "display_data"
    },
    {
     "data": {
      "text/html": [
       "<div>\n",
       "<style scoped>\n",
       "    .dataframe tbody tr th:only-of-type {\n",
       "        vertical-align: middle;\n",
       "    }\n",
       "\n",
       "    .dataframe tbody tr th {\n",
       "        vertical-align: top;\n",
       "    }\n",
       "\n",
       "    .dataframe thead th {\n",
       "        text-align: right;\n",
       "    }\n",
       "</style>\n",
       "<table border=\"1\" class=\"dataframe\">\n",
       "  <thead>\n",
       "    <tr style=\"text-align: right;\">\n",
       "      <th></th>\n",
       "      <th>STATUS</th>\n",
       "    </tr>\n",
       "  </thead>\n",
       "  <tbody>\n",
       "    <tr>\n",
       "      <th>FECHADO</th>\n",
       "      <td>12380</td>\n",
       "    </tr>\n",
       "    <tr>\n",
       "      <th>ABERTO</th>\n",
       "      <td>27</td>\n",
       "    </tr>\n",
       "  </tbody>\n",
       "</table>\n",
       "</div>"
      ],
      "text/plain": [
       "         STATUS\n",
       "FECHADO   12380\n",
       "ABERTO       27"
      ]
     },
     "metadata": {},
     "output_type": "display_data"
    },
    {
     "data": {
      "text/html": [
       "<div>\n",
       "<style scoped>\n",
       "    .dataframe tbody tr th:only-of-type {\n",
       "        vertical-align: middle;\n",
       "    }\n",
       "\n",
       "    .dataframe tbody tr th {\n",
       "        vertical-align: top;\n",
       "    }\n",
       "\n",
       "    .dataframe thead th {\n",
       "        text-align: right;\n",
       "    }\n",
       "</style>\n",
       "<table border=\"1\" class=\"dataframe\">\n",
       "  <thead>\n",
       "    <tr style=\"text-align: right;\">\n",
       "      <th></th>\n",
       "      <th>EVENTO_PRAZO</th>\n",
       "    </tr>\n",
       "  </thead>\n",
       "  <tbody>\n",
       "    <tr>\n",
       "      <th>CURTO</th>\n",
       "      <td>6755</td>\n",
       "    </tr>\n",
       "    <tr>\n",
       "      <th>MEDIO</th>\n",
       "      <td>82</td>\n",
       "    </tr>\n",
       "    <tr>\n",
       "      <th>LONGO</th>\n",
       "      <td>51</td>\n",
       "    </tr>\n",
       "  </tbody>\n",
       "</table>\n",
       "</div>"
      ],
      "text/plain": [
       "       EVENTO_PRAZO\n",
       "CURTO          6755\n",
       "MEDIO            82\n",
       "LONGO            51"
      ]
     },
     "metadata": {},
     "output_type": "display_data"
    },
    {
     "data": {
      "text/html": [
       "<div>\n",
       "<style scoped>\n",
       "    .dataframe tbody tr th:only-of-type {\n",
       "        vertical-align: middle;\n",
       "    }\n",
       "\n",
       "    .dataframe tbody tr th {\n",
       "        vertical-align: top;\n",
       "    }\n",
       "\n",
       "    .dataframe thead th {\n",
       "        text-align: right;\n",
       "    }\n",
       "</style>\n",
       "<table border=\"1\" class=\"dataframe\">\n",
       "  <thead>\n",
       "    <tr style=\"text-align: right;\">\n",
       "      <th></th>\n",
       "      <th>POP_TITULO</th>\n",
       "    </tr>\n",
       "  </thead>\n",
       "  <tbody>\n",
       "    <tr>\n",
       "      <th>Bolsão d'água em via</th>\n",
       "      <td>8956</td>\n",
       "    </tr>\n",
       "    <tr>\n",
       "      <th>Vazamento de água / esgoto</th>\n",
       "      <td>1707</td>\n",
       "    </tr>\n",
       "    <tr>\n",
       "      <th>Alagamento</th>\n",
       "      <td>821</td>\n",
       "    </tr>\n",
       "    <tr>\n",
       "      <th>Alagamentos e enchentes</th>\n",
       "      <td>574</td>\n",
       "    </tr>\n",
       "    <tr>\n",
       "      <th>Lâmina d'água</th>\n",
       "      <td>260</td>\n",
       "    </tr>\n",
       "    <tr>\n",
       "      <th>Bueiro</th>\n",
       "      <td>75</td>\n",
       "    </tr>\n",
       "    <tr>\n",
       "      <th>Enchente</th>\n",
       "      <td>16</td>\n",
       "    </tr>\n",
       "  </tbody>\n",
       "</table>\n",
       "</div>"
      ],
      "text/plain": [
       "                            POP_TITULO\n",
       "Bolsão d'água em via              8956\n",
       "Vazamento de água / esgoto        1707\n",
       "Alagamento                         821\n",
       "Alagamentos e enchentes            574\n",
       "Lâmina d'água                      260\n",
       "Bueiro                              75\n",
       "Enchente                            16"
      ]
     },
     "metadata": {},
     "output_type": "display_data"
    },
    {
     "data": {
      "text/html": [
       "<div>\n",
       "<style scoped>\n",
       "    .dataframe tbody tr th:only-of-type {\n",
       "        vertical-align: middle;\n",
       "    }\n",
       "\n",
       "    .dataframe tbody tr th {\n",
       "        vertical-align: top;\n",
       "    }\n",
       "\n",
       "    .dataframe thead th {\n",
       "        text-align: right;\n",
       "    }\n",
       "</style>\n",
       "<table border=\"1\" class=\"dataframe\">\n",
       "  <thead>\n",
       "    <tr style=\"text-align: right;\">\n",
       "      <th></th>\n",
       "      <th>POP_DESCRICAO</th>\n",
       "    </tr>\n",
       "  </thead>\n",
       "  <tbody>\n",
       "    <tr>\n",
       "      <th>Bolsão d'água em via</th>\n",
       "      <td>8956</td>\n",
       "    </tr>\n",
       "    <tr>\n",
       "      <th>Vazamento de água / esgoto</th>\n",
       "      <td>1707</td>\n",
       "    </tr>\n",
       "    <tr>\n",
       "      <th>Alagamento</th>\n",
       "      <td>821</td>\n",
       "    </tr>\n",
       "    <tr>\n",
       "      <th>Alagamentos e enchentes</th>\n",
       "      <td>574</td>\n",
       "    </tr>\n",
       "    <tr>\n",
       "      <th>Lâmina d'água em via</th>\n",
       "      <td>260</td>\n",
       "    </tr>\n",
       "    <tr>\n",
       "      <th>Bueiro</th>\n",
       "      <td>75</td>\n",
       "    </tr>\n",
       "    <tr>\n",
       "      <th>Enchente</th>\n",
       "      <td>16</td>\n",
       "    </tr>\n",
       "  </tbody>\n",
       "</table>\n",
       "</div>"
      ],
      "text/plain": [
       "                            POP_DESCRICAO\n",
       "Bolsão d'água em via                 8956\n",
       "Vazamento de água / esgoto           1707\n",
       "Alagamento                            821\n",
       "Alagamentos e enchentes               574\n",
       "Lâmina d'água em via                  260\n",
       "Bueiro                                 75\n",
       "Enchente                               16"
      ]
     },
     "metadata": {},
     "output_type": "display_data"
    },
    {
     "data": {
      "text/html": [
       "<div>\n",
       "<style scoped>\n",
       "    .dataframe tbody tr th:only-of-type {\n",
       "        vertical-align: middle;\n",
       "    }\n",
       "\n",
       "    .dataframe tbody tr th {\n",
       "        vertical-align: top;\n",
       "    }\n",
       "\n",
       "    .dataframe thead th {\n",
       "        text-align: right;\n",
       "    }\n",
       "</style>\n",
       "<table border=\"1\" class=\"dataframe\">\n",
       "  <thead>\n",
       "    <tr style=\"text-align: right;\">\n",
       "      <th></th>\n",
       "      <th>ORGAO_SIGLA</th>\n",
       "    </tr>\n",
       "  </thead>\n",
       "  <tbody>\n",
       "    <tr>\n",
       "      <th>COMLURB</th>\n",
       "      <td>4346</td>\n",
       "    </tr>\n",
       "    <tr>\n",
       "      <th>SECONSERVA</th>\n",
       "      <td>3386</td>\n",
       "    </tr>\n",
       "    <tr>\n",
       "      <th>CET-RIO</th>\n",
       "      <td>2301</td>\n",
       "    </tr>\n",
       "    <tr>\n",
       "      <th>CEDAE</th>\n",
       "      <td>907</td>\n",
       "    </tr>\n",
       "    <tr>\n",
       "      <th>PortoNovo</th>\n",
       "      <td>460</td>\n",
       "    </tr>\n",
       "    <tr>\n",
       "      <th>GM</th>\n",
       "      <td>357</td>\n",
       "    </tr>\n",
       "    <tr>\n",
       "      <th>LAMSA</th>\n",
       "      <td>245</td>\n",
       "    </tr>\n",
       "    <tr>\n",
       "      <th>BOMBEIROS</th>\n",
       "      <td>105</td>\n",
       "    </tr>\n",
       "    <tr>\n",
       "      <th>DefesaCivil</th>\n",
       "      <td>99</td>\n",
       "    </tr>\n",
       "    <tr>\n",
       "      <th>Light</th>\n",
       "      <td>48</td>\n",
       "    </tr>\n",
       "    <tr>\n",
       "      <th>Concessionária</th>\n",
       "      <td>46</td>\n",
       "    </tr>\n",
       "    <tr>\n",
       "      <th>SMASDH</th>\n",
       "      <td>34</td>\n",
       "    </tr>\n",
       "    <tr>\n",
       "      <th>CEG</th>\n",
       "      <td>30</td>\n",
       "    </tr>\n",
       "    <tr>\n",
       "      <th>SUBPREFEITURA</th>\n",
       "      <td>13</td>\n",
       "    </tr>\n",
       "    <tr>\n",
       "      <th>RioLuz</th>\n",
       "      <td>10</td>\n",
       "    </tr>\n",
       "    <tr>\n",
       "      <th>Rio Águas</th>\n",
       "      <td>8</td>\n",
       "    </tr>\n",
       "    <tr>\n",
       "      <th>PM</th>\n",
       "      <td>7</td>\n",
       "    </tr>\n",
       "    <tr>\n",
       "      <th>GEORIO</th>\n",
       "      <td>2</td>\n",
       "    </tr>\n",
       "    <tr>\n",
       "      <th>AlertaRio</th>\n",
       "      <td>1</td>\n",
       "    </tr>\n",
       "    <tr>\n",
       "      <th>Rio Águas</th>\n",
       "      <td>1</td>\n",
       "    </tr>\n",
       "  </tbody>\n",
       "</table>\n",
       "</div>"
      ],
      "text/plain": [
       "                ORGAO_SIGLA\n",
       "COMLURB                4346\n",
       "SECONSERVA             3386\n",
       "CET-RIO                2301\n",
       "CEDAE                   907\n",
       "PortoNovo               460\n",
       "GM                      357\n",
       "LAMSA                   245\n",
       "BOMBEIROS               105\n",
       "DefesaCivil              99\n",
       "Light                    48\n",
       "Concessionária           46\n",
       "SMASDH                   34\n",
       "CEG                      30\n",
       "SUBPREFEITURA            13\n",
       "RioLuz                   10\n",
       "Rio Águas                 8\n",
       "PM                        7\n",
       "GEORIO                    2\n",
       "AlertaRio                 1\n",
       "Rio Águas                 1"
      ]
     },
     "metadata": {},
     "output_type": "display_data"
    },
    {
     "data": {
      "text/html": [
       "<div>\n",
       "<style scoped>\n",
       "    .dataframe tbody tr th:only-of-type {\n",
       "        vertical-align: middle;\n",
       "    }\n",
       "\n",
       "    .dataframe tbody tr th {\n",
       "        vertical-align: top;\n",
       "    }\n",
       "\n",
       "    .dataframe thead th {\n",
       "        text-align: right;\n",
       "    }\n",
       "</style>\n",
       "<table border=\"1\" class=\"dataframe\">\n",
       "  <thead>\n",
       "    <tr style=\"text-align: right;\">\n",
       "      <th></th>\n",
       "      <th>ORGAO_NOME</th>\n",
       "    </tr>\n",
       "  </thead>\n",
       "  <tbody>\n",
       "    <tr>\n",
       "      <th>Companhia de Limpeza Urbana</th>\n",
       "      <td>4346</td>\n",
       "    </tr>\n",
       "    <tr>\n",
       "      <th>Secretaria Municipal de Conservação</th>\n",
       "      <td>3386</td>\n",
       "    </tr>\n",
       "    <tr>\n",
       "      <th>Companhia de Engenharia de Tráfego</th>\n",
       "      <td>2301</td>\n",
       "    </tr>\n",
       "    <tr>\n",
       "      <th>Companhia Estadual de Águas e Esgotos</th>\n",
       "      <td>907</td>\n",
       "    </tr>\n",
       "    <tr>\n",
       "      <th>Porto Novo S.A.</th>\n",
       "      <td>460</td>\n",
       "    </tr>\n",
       "    <tr>\n",
       "      <th>Empresa Municipal de Vigilância</th>\n",
       "      <td>357</td>\n",
       "    </tr>\n",
       "    <tr>\n",
       "      <th>Linha Amarela S.A.</th>\n",
       "      <td>245</td>\n",
       "    </tr>\n",
       "    <tr>\n",
       "      <th>Corpo de Bombeiros</th>\n",
       "      <td>105</td>\n",
       "    </tr>\n",
       "    <tr>\n",
       "      <th>Secretaria Municipal de Defesa Civil</th>\n",
       "      <td>99</td>\n",
       "    </tr>\n",
       "    <tr>\n",
       "      <th>Light Serviços de Eletricidade S.A.</th>\n",
       "      <td>48</td>\n",
       "    </tr>\n",
       "    <tr>\n",
       "      <th>Concessionária</th>\n",
       "      <td>46</td>\n",
       "    </tr>\n",
       "    <tr>\n",
       "      <th>Secretaria Municipal de Assistência Social e Direitos Humanos</th>\n",
       "      <td>34</td>\n",
       "    </tr>\n",
       "    <tr>\n",
       "      <th>CEG Rio de Janeiro</th>\n",
       "      <td>30</td>\n",
       "    </tr>\n",
       "    <tr>\n",
       "      <th>Subprefeitura</th>\n",
       "      <td>13</td>\n",
       "    </tr>\n",
       "    <tr>\n",
       "      <th>Companhia Municipal de Energia e Iluminação</th>\n",
       "      <td>10</td>\n",
       "    </tr>\n",
       "    <tr>\n",
       "      <th>Rio Àguas</th>\n",
       "      <td>9</td>\n",
       "    </tr>\n",
       "    <tr>\n",
       "      <th>Polícia Militar</th>\n",
       "      <td>7</td>\n",
       "    </tr>\n",
       "    <tr>\n",
       "      <th>Fundação Instituto de Geotécnica do Município do Rio de Janeiro</th>\n",
       "      <td>2</td>\n",
       "    </tr>\n",
       "    <tr>\n",
       "      <th>Alerta Rio</th>\n",
       "      <td>1</td>\n",
       "    </tr>\n",
       "  </tbody>\n",
       "</table>\n",
       "</div>"
      ],
      "text/plain": [
       "                                                    ORGAO_NOME\n",
       "Companhia de Limpeza Urbana                               4346\n",
       "Secretaria Municipal de Conservação                       3386\n",
       "Companhia de Engenharia de Tráfego                        2301\n",
       "Companhia Estadual de Águas e Esgotos                      907\n",
       "Porto Novo S.A.                                            460\n",
       "Empresa Municipal de Vigilância                            357\n",
       "Linha Amarela S.A.                                         245\n",
       "Corpo de Bombeiros                                         105\n",
       "Secretaria Municipal de Defesa Civil                        99\n",
       "Light Serviços de Eletricidade S.A.                         48\n",
       "Concessionária                                              46\n",
       "Secretaria Municipal de Assistência Social e Di...          34\n",
       "CEG Rio de Janeiro                                          30\n",
       "Subprefeitura                                               13\n",
       "Companhia Municipal de Energia e Iluminação                 10\n",
       "Rio Àguas                                                    9\n",
       "Polícia Militar                                              7\n",
       "Fundação Instituto de Geotécnica do Município d...           2\n",
       "Alerta Rio                                                   1"
      ]
     },
     "metadata": {},
     "output_type": "display_data"
    },
    {
     "data": {
      "text/html": [
       "<div>\n",
       "<style scoped>\n",
       "    .dataframe tbody tr th:only-of-type {\n",
       "        vertical-align: middle;\n",
       "    }\n",
       "\n",
       "    .dataframe tbody tr th {\n",
       "        vertical-align: top;\n",
       "    }\n",
       "\n",
       "    .dataframe thead th {\n",
       "        text-align: right;\n",
       "    }\n",
       "</style>\n",
       "<table border=\"1\" class=\"dataframe\">\n",
       "  <thead>\n",
       "    <tr style=\"text-align: right;\">\n",
       "      <th></th>\n",
       "      <th>ACAO</th>\n",
       "    </tr>\n",
       "  </thead>\n",
       "  <tbody>\n",
       "    <tr>\n",
       "      <th>Desobstruir ralos e bueiros</th>\n",
       "      <td>3754</td>\n",
       "    </tr>\n",
       "    <tr>\n",
       "      <th>Drenar água</th>\n",
       "      <td>3247</td>\n",
       "    </tr>\n",
       "    <tr>\n",
       "      <th>Organizar o trânsito</th>\n",
       "      <td>2101</td>\n",
       "    </tr>\n",
       "    <tr>\n",
       "      <th>Desfazer o acidente</th>\n",
       "      <td>1195</td>\n",
       "    </tr>\n",
       "    <tr>\n",
       "      <th>Fazer limpeza do local</th>\n",
       "      <td>572</td>\n",
       "    </tr>\n",
       "    <tr>\n",
       "      <th>Consertar vazamento de água</th>\n",
       "      <td>497</td>\n",
       "    </tr>\n",
       "    <tr>\n",
       "      <th>Consertar vazamento de esgoto</th>\n",
       "      <td>404</td>\n",
       "    </tr>\n",
       "    <tr>\n",
       "      <th>Prevenir perigo</th>\n",
       "      <td>108</td>\n",
       "    </tr>\n",
       "    <tr>\n",
       "      <th>Resgatar pessoas</th>\n",
       "      <td>80</td>\n",
       "    </tr>\n",
       "    <tr>\n",
       "      <th>Monitorar possíveis interdições</th>\n",
       "      <td>69</td>\n",
       "    </tr>\n",
       "    <tr>\n",
       "      <th>Dar apoio</th>\n",
       "      <td>65</td>\n",
       "    </tr>\n",
       "    <tr>\n",
       "      <th>Corrigir pavimentação</th>\n",
       "      <td>58</td>\n",
       "    </tr>\n",
       "    <tr>\n",
       "      <th>Efetuar serviço</th>\n",
       "      <td>36</td>\n",
       "    </tr>\n",
       "    <tr>\n",
       "      <th>Abrigar pessoas</th>\n",
       "      <td>30</td>\n",
       "    </tr>\n",
       "    <tr>\n",
       "      <th>Verificar fiação</th>\n",
       "      <td>26</td>\n",
       "    </tr>\n",
       "    <tr>\n",
       "      <th>Obra de restauração</th>\n",
       "      <td>23</td>\n",
       "    </tr>\n",
       "    <tr>\n",
       "      <th>Restabelecer serviço</th>\n",
       "      <td>21</td>\n",
       "    </tr>\n",
       "    <tr>\n",
       "      <th>Limpar Via</th>\n",
       "      <td>17</td>\n",
       "    </tr>\n",
       "    <tr>\n",
       "      <th>Vistoriar local</th>\n",
       "      <td>14</td>\n",
       "    </tr>\n",
       "    <tr>\n",
       "      <th>Comunicar</th>\n",
       "      <td>13</td>\n",
       "    </tr>\n",
       "    <tr>\n",
       "      <th>Restabelecer fornecimento de energia</th>\n",
       "      <td>12</td>\n",
       "    </tr>\n",
       "    <tr>\n",
       "      <th>Desligar gás</th>\n",
       "      <td>9</td>\n",
       "    </tr>\n",
       "    <tr>\n",
       "      <th>Desligar energia</th>\n",
       "      <td>8</td>\n",
       "    </tr>\n",
       "    <tr>\n",
       "      <th>Retirar poste da via</th>\n",
       "      <td>7</td>\n",
       "    </tr>\n",
       "    <tr>\n",
       "      <th>Consertar vazamento de esgoto</th>\n",
       "      <td>7</td>\n",
       "    </tr>\n",
       "    <tr>\n",
       "      <th>Apoiar Vítimas</th>\n",
       "      <td>4</td>\n",
       "    </tr>\n",
       "    <tr>\n",
       "      <th>Atender vítima(s)</th>\n",
       "      <td>4</td>\n",
       "    </tr>\n",
       "    <tr>\n",
       "      <th>Atualizar painéis informativos</th>\n",
       "      <td>4</td>\n",
       "    </tr>\n",
       "    <tr>\n",
       "      <th>Monitorar reflexos</th>\n",
       "      <td>4</td>\n",
       "    </tr>\n",
       "    <tr>\n",
       "      <th>Manter a ordem pública</th>\n",
       "      <td>4</td>\n",
       "    </tr>\n",
       "    <tr>\n",
       "      <th>Cortar e retirar árvore</th>\n",
       "      <td>3</td>\n",
       "    </tr>\n",
       "    <tr>\n",
       "      <th>Registrar o acidente</th>\n",
       "      <td>2</td>\n",
       "    </tr>\n",
       "    <tr>\n",
       "      <th>Enviar equipe de manutenção</th>\n",
       "      <td>2</td>\n",
       "    </tr>\n",
       "    <tr>\n",
       "      <th>Conserto de tampa de bueiro</th>\n",
       "      <td>2</td>\n",
       "    </tr>\n",
       "    <tr>\n",
       "      <th>Fechar via</th>\n",
       "      <td>2</td>\n",
       "    </tr>\n",
       "    <tr>\n",
       "      <th>Monitoramento meteorológico</th>\n",
       "      <td>1</td>\n",
       "    </tr>\n",
       "    <tr>\n",
       "      <th>Realizar averiguações</th>\n",
       "      <td>1</td>\n",
       "    </tr>\n",
       "    <tr>\n",
       "      <th>Isolar local</th>\n",
       "      <td>1</td>\n",
       "    </tr>\n",
       "  </tbody>\n",
       "</table>\n",
       "</div>"
      ],
      "text/plain": [
       "                                      ACAO\n",
       "Desobstruir ralos e bueiros           3754\n",
       "Drenar água                           3247\n",
       "Organizar o trânsito                  2101\n",
       "Desfazer o acidente                   1195\n",
       "Fazer limpeza do local                 572\n",
       "Consertar vazamento de água            497\n",
       "Consertar vazamento de esgoto          404\n",
       "Prevenir perigo                        108\n",
       "Resgatar pessoas                        80\n",
       "Monitorar possíveis interdições         69\n",
       "Dar apoio                               65\n",
       "Corrigir pavimentação                   58\n",
       "Efetuar serviço                         36\n",
       "Abrigar pessoas                         30\n",
       "Verificar fiação                        26\n",
       "Obra de restauração                     23\n",
       "Restabelecer serviço                    21\n",
       "Limpar Via                              17\n",
       "Vistoriar local                         14\n",
       "Comunicar                               13\n",
       "Restabelecer fornecimento de energia    12\n",
       "Desligar gás                             9\n",
       "Desligar energia                         8\n",
       "Retirar poste da via                     7\n",
       "Consertar vazamento de esgoto            7\n",
       "Apoiar Vítimas                           4\n",
       "Atender vítima(s)                        4\n",
       "Atualizar painéis informativos           4\n",
       "Monitorar reflexos                       4\n",
       "Manter a ordem pública                   4\n",
       "Cortar e retirar árvore                  3\n",
       "Registrar o acidente                     2\n",
       "Enviar equipe de manutenção              2\n",
       "Conserto de tampa de bueiro              2\n",
       "Fechar via                               2\n",
       "Monitoramento meteorológico              1\n",
       "Realizar averiguações                    1\n",
       "Isolar local                             1"
      ]
     },
     "metadata": {},
     "output_type": "display_data"
    }
   ],
   "source": [
    "for col in cols['categorical']: # descomente para conferir contagem de valores unicos\n",
    "    display(data[col].value_counts().to_frame(col))"
   ]
  },
  {
   "cell_type": "markdown",
   "metadata": {},
   "source": [
    "---\n",
    "### 4. Asses location variables"
   ]
  },
  {
   "cell_type": "markdown",
   "metadata": {},
   "source": [
    "#### Functions to process coordinates"
   ]
  },
  {
   "cell_type": "markdown",
   "metadata": {},
   "source": [
    "#### Correct magnitude and replace with NAN coordinates below decimal precision of four places."
   ]
  },
  {
   "cell_type": "markdown",
   "metadata": {},
   "source": [
    "Obs: This method aims at excluding below defined precision but it 2also excludes values with precision equal to the defined one but ending with zero (1/10 of the values). For example, 22.9430 is excluded even tough is 4 places precise."
   ]
  },
  {
   "cell_type": "code",
   "execution_count": null,
   "metadata": {},
   "outputs": [],
   "source": [
    "from Modules.decimals import correctMagnitude, dropBelowPrecision"
   ]
  },
  {
   "cell_type": "code",
   "execution_count": 24,
   "metadata": {},
   "outputs": [
    {
     "name": "stderr",
     "output_type": "stream",
     "text": [
      "<ipython-input-23-d2094f930cb3>:4: RuntimeWarning: divide by zero encountered in log10\n",
      "  return np.floor(np.log10(abs(number)))\n",
      "<ipython-input-23-d2094f930cb3>:9: RuntimeWarning: invalid value encountered in double_scalars\n",
      "  return number / 10 ** ( orderOfMagnitude(number) - mag )\n",
      "c:\\Users\\luisr\\anaconda3\\lib\\site-packages\\pandas\\core\\indexing.py:671: SettingWithCopyWarning: \n",
      "A value is trying to be set on a copy of a slice from a DataFrame\n",
      "\n",
      "See the caveats in the documentation: https://pandas.pydata.org/pandas-docs/stable/user_guide/indexing.html#returning-a-view-versus-a-copy\n",
      "  self._setitem_with_indexer(indexer, value)\n",
      "<ipython-input-23-d2094f930cb3>:27: SettingWithCopyWarning: \n",
      "A value is trying to be set on a copy of a slice from a DataFrame\n",
      "\n",
      "See the caveats in the documentation: https://pandas.pydata.org/pandas-docs/stable/user_guide/indexing.html#returning-a-view-versus-a-copy\n",
      "  df.loc[below_msk] = np.nan\n"
     ]
    }
   ],
   "source": [
    "# Correct magnitude of coordinates\n",
    "data['lat'] = correctMagnitude(data['EVENTO_LATITUDE'], mag=1)\n",
    "data['lng'] = correctMagnitude(data['EVENTO_LONGITUDE'], mag=1)\n",
    "\n",
    "# Fill coordinates below decimal precision of 4 places\n",
    "min_precision = 4\n",
    "\n",
    "data[['lat', 'lng']] = fillNadropBelowPrecision(\n",
    "    data[['lat', 'lng']],\n",
    "    decimal=min_precision,\n",
    "    subset='all'\n",
    ")"
   ]
  },
  {
   "cell_type": "markdown",
   "metadata": {},
   "source": [
    "#### Percentage of records without valid coordinates"
   ]
  },
  {
   "cell_type": "code",
   "execution_count": 25,
   "metadata": {},
   "outputs": [
    {
     "data": {
      "text/plain": [
       "19.84849705858651"
      ]
     },
     "execution_count": 25,
     "metadata": {},
     "output_type": "execute_result"
    }
   ],
   "source": [
    "data['lat'].isna().sum() / len(data) * 100 # 6 % dos incidentes sem cordenadas."
   ]
  },
  {
   "cell_type": "code",
   "execution_count": 26,
   "metadata": {},
   "outputs": [
    {
     "data": {
      "text/plain": [
       "7.196389717140785"
      ]
     },
     "execution_count": 26,
     "metadata": {},
     "output_type": "execute_result"
    }
   ],
   "source": [
    "data.groupby('EVENTO_ID').first()['lat'].isna().sum() / len(data) * 100 # 16 % dos registros sem cordenadas."
   ]
  },
  {
   "cell_type": "markdown",
   "metadata": {},
   "source": [
    "---\n",
    "# 6. EXTRA: Term based search in text records for incidents left out of catalog"
   ]
  },
  {
   "cell_type": "markdown",
   "metadata": {},
   "source": [
    "#### Function to search for terms in pandas series of type string"
   ]
  },
  {
   "cell_type": "code",
   "execution_count": 60,
   "metadata": {},
   "outputs": [],
   "source": [
    "def drop_accents(string):\n",
    "    item = string.lower()\n",
    "    for a, b in zip(\n",
    "        ['á', 'ã', 'â', 'é', 'í', 'ó', 'õ', 'ú', 'ç'],\n",
    "        ['a', 'a', 'a', 'e', 'i', 'o', 'o', 'u', 'c']\n",
    "    ):\n",
    "        item = item.replace(a, b)\n",
    "    return item\n",
    "\n",
    "def search_records(records, queries, avoid=[], report_interval=10000): # accepts records argument as pandas series\n",
    "    matches = []\n",
    "    for i, index in enumerate(records.index):\n",
    "        if i%report_interval == 0: print(f'{i+1}/{records.shape[0]} records searched'); co(wait=True)\n",
    "        record = records.loc[index]\n",
    "        if type(record)==str:\n",
    "            record = drop_accents(record)\n",
    "            query_matches, match_words = [], []\n",
    "            for query in queries:\n",
    "                if drop_accents(query) in record:\n",
    "                    words = record.split(' ')\n",
    "                    for word in words:\n",
    "                        if query in word:\n",
    "                            if word not in avoid:\n",
    "                                match_words.append(word)\n",
    "                    if match_words:\n",
    "                        query_matches.append(query)\n",
    "            if query_matches:\n",
    "                matches.append([index, query_matches, match_words])\n",
    "    print(f'Done! {len(records)} terms searched.')\n",
    "    return pd.DataFrame(matches, columns=['index', 'matched_queries', 'matched_words'])"
   ]
  },
  {
   "cell_type": "markdown",
   "metadata": {},
   "source": [
    "### Term search in text records for incidents left out of catalog"
   ]
  },
  {
   "cell_type": "code",
   "execution_count": 61,
   "metadata": {},
   "outputs": [
    {
     "name": "stdout",
     "output_type": "stream",
     "text": [
      "Done! 192732 terms searched.\n"
     ]
    }
   ],
   "source": [
    "queries = [\n",
    "    'bolsao', 'bolsoes', 'alagamento',\n",
    "    'lamina', 'espelho', 'enchente',\n",
    "    'inundacão', 'vazamento', 'bueiro',\n",
    "    'rompimento', 'adutora', 'tubulação'\n",
    "]\n",
    "\n",
    "term_search = search_records(records_left['EVENTO_TITULO'], queries, avoid=[]) # searching in records left out of initial extraction"
   ]
  },
  {
   "cell_type": "code",
   "execution_count": 62,
   "metadata": {},
   "outputs": [
    {
     "data": {
      "text/html": [
       "<div>\n",
       "<style scoped>\n",
       "    .dataframe tbody tr th:only-of-type {\n",
       "        vertical-align: middle;\n",
       "    }\n",
       "\n",
       "    .dataframe tbody tr th {\n",
       "        vertical-align: top;\n",
       "    }\n",
       "\n",
       "    .dataframe thead th {\n",
       "        text-align: right;\n",
       "    }\n",
       "</style>\n",
       "<table border=\"1\" class=\"dataframe\">\n",
       "  <thead>\n",
       "    <tr style=\"text-align: right;\">\n",
       "      <th></th>\n",
       "      <th>matched_queries</th>\n",
       "    </tr>\n",
       "  </thead>\n",
       "  <tbody>\n",
       "    <tr>\n",
       "      <th>[bueiro]</th>\n",
       "      <td>404</td>\n",
       "    </tr>\n",
       "    <tr>\n",
       "      <th>[vazamento]</th>\n",
       "      <td>307</td>\n",
       "    </tr>\n",
       "    <tr>\n",
       "      <th>[rompimento, tubulação]</th>\n",
       "      <td>12</td>\n",
       "    </tr>\n",
       "    <tr>\n",
       "      <th>[alagamento]</th>\n",
       "      <td>11</td>\n",
       "    </tr>\n",
       "    <tr>\n",
       "      <th>[adutora]</th>\n",
       "      <td>7</td>\n",
       "    </tr>\n",
       "    <tr>\n",
       "      <th>[vazamento, bueiro]</th>\n",
       "      <td>5</td>\n",
       "    </tr>\n",
       "    <tr>\n",
       "      <th>[bolsao]</th>\n",
       "      <td>1</td>\n",
       "    </tr>\n",
       "  </tbody>\n",
       "</table>\n",
       "</div>"
      ],
      "text/plain": [
       "                         matched_queries\n",
       "[bueiro]                             404\n",
       "[vazamento]                          307\n",
       "[rompimento, tubulação]               12\n",
       "[alagamento]                          11\n",
       "[adutora]                              7\n",
       "[vazamento, bueiro]                    5\n",
       "[bolsao]                               1"
      ]
     },
     "execution_count": 62,
     "metadata": {},
     "output_type": "execute_result"
    }
   ],
   "source": [
    "term_search['matched_queries'].value_counts().to_frame()"
   ]
  },
  {
   "cell_type": "markdown",
   "metadata": {},
   "source": [
    "---\n",
    "# 7. Extra: Searching incidents identified by city cameras"
   ]
  },
  {
   "cell_type": "markdown",
   "metadata": {},
   "source": [
    "#### Search for 'cam' term in text records"
   ]
  },
  {
   "cell_type": "code",
   "execution_count": 63,
   "metadata": {},
   "outputs": [
    {
     "name": "stdout",
     "output_type": "stream",
     "text": [
      "Done! 3987 terms searched.\n"
     ]
    },
    {
     "data": {
      "text/plain": [
       "[cam]         142\n",
       "[(cam]         72\n",
       "[(camera]      58\n",
       "[cam.]          6\n",
       "[(cam.]         5\n",
       "[camera]        1\n",
       "[(cam278)]      1\n",
       "[(cam48)]       1\n",
       "[(cam269)]      1\n",
       "[(cam145)]      1\n",
       "[(cam107)]      1\n",
       "[(cam116)]      1\n",
       "[(cam147)]      1\n",
       "[(cam262)]      1\n",
       "[(cam430)]      1\n",
       "[(cam298)]      1\n",
       "[(cam354)]      1\n",
       "[(cam243)]      1\n",
       "[(cam112)]      1\n",
       "Name: matched_words, dtype: int64"
      ]
     },
     "execution_count": 63,
     "metadata": {},
     "output_type": "execute_result"
    }
   ],
   "source": [
    "cam_search = search_records(full_catalog['EVENTO_TITULO'], queries=['cam'])\n",
    "\n",
    "cam_search['matched_words'].value_counts()"
   ]
  },
  {
   "cell_type": "markdown",
   "metadata": {},
   "source": [
    "#### Percentage of incidents identified by camera"
   ]
  },
  {
   "cell_type": "code",
   "execution_count": 64,
   "metadata": {},
   "outputs": [
    {
     "name": "stdout",
     "output_type": "stream",
     "text": [
      "7.45 %\n"
     ]
    }
   ],
   "source": [
    "cam_records = full_catalog.loc[cam_search['index']]\n",
    "\n",
    "print(round(cam_records.shape[0] / full_catalog.shape[0] * 100, 2), '%')"
   ]
  },
  {
   "cell_type": "code",
   "execution_count": 65,
   "metadata": {},
   "outputs": [
    {
     "data": {
      "text/html": [
       "<div>\n",
       "<style scoped>\n",
       "    .dataframe tbody tr th:only-of-type {\n",
       "        vertical-align: middle;\n",
       "    }\n",
       "\n",
       "    .dataframe tbody tr th {\n",
       "        vertical-align: top;\n",
       "    }\n",
       "\n",
       "    .dataframe thead th {\n",
       "        text-align: right;\n",
       "    }\n",
       "</style>\n",
       "<table border=\"1\" class=\"dataframe\">\n",
       "  <thead>\n",
       "    <tr style=\"text-align: right;\">\n",
       "      <th></th>\n",
       "      <th>POP_TITULO</th>\n",
       "    </tr>\n",
       "  </thead>\n",
       "  <tbody>\n",
       "    <tr>\n",
       "      <th>Bolsão d'água em via</th>\n",
       "      <td>263</td>\n",
       "    </tr>\n",
       "    <tr>\n",
       "      <th>Vazamento de água / esgoto</th>\n",
       "      <td>14</td>\n",
       "    </tr>\n",
       "    <tr>\n",
       "      <th>Alagamento</th>\n",
       "      <td>9</td>\n",
       "    </tr>\n",
       "    <tr>\n",
       "      <th>Lâmina d'água</th>\n",
       "      <td>8</td>\n",
       "    </tr>\n",
       "    <tr>\n",
       "      <th>Bueiro</th>\n",
       "      <td>3</td>\n",
       "    </tr>\n",
       "  </tbody>\n",
       "</table>\n",
       "</div>"
      ],
      "text/plain": [
       "                            POP_TITULO\n",
       "Bolsão d'água em via               263\n",
       "Vazamento de água / esgoto          14\n",
       "Alagamento                           9\n",
       "Lâmina d'água                        8\n",
       "Bueiro                               3"
      ]
     },
     "execution_count": 65,
     "metadata": {},
     "output_type": "execute_result"
    }
   ],
   "source": [
    "cam_records['POP_TITULO'].value_counts().to_frame()"
   ]
  }
 ],
 "metadata": {
  "kernelspec": {
   "display_name": "Python 3",
   "language": "python",
   "name": "python3"
  },
  "language_info": {
   "codemirror_mode": {
    "name": "ipython",
    "version": 3
   },
   "file_extension": ".py",
   "mimetype": "text/x-python",
   "name": "python",
   "nbconvert_exporter": "python",
   "pygments_lexer": "ipython3",
   "version": "3.8.3"
  }
 },
 "nbformat": 4,
 "nbformat_minor": 4
}
