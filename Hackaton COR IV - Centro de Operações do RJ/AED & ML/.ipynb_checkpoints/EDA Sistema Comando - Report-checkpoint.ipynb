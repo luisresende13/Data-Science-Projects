{
 "cells": [
  {
   "cell_type": "markdown",
   "metadata": {},
   "source": [
    "# EXPLORATORY DATA ANALYSIS REPORT - SISTEMA COMANDO"
   ]
  },
  {
   "cell_type": "markdown",
   "metadata": {},
   "source": [
    "---"
   ]
  },
  {
   "cell_type": "markdown",
   "metadata": {},
   "source": [
    "### Report Sections\n",
    "\n",
    "* Brief description of the data set and a summary of its attributes\n",
    "* Initial plan for data exploration\n",
    "* Actions taken for data cleaning and feature engineering\n",
    "* Key Findings and Insights, which synthesizes the results of Exploratory Data Analysis in an insightful and actionable manner\n",
    "* Formulating at least 3 hypothesis about this data\n",
    "* Conducting a formal significance test for one of the hypotheses and discuss the results \n",
    "* Suggestions for next steps in analyzing this data\n",
    "* A paragraph that summarizes the quality of this data set and a request for additional data if needed"
   ]
  },
  {
   "cell_type": "markdown",
   "metadata": {},
   "source": [
    "---\n",
    "### 1. Brief description of the dataset"
   ]
  },
  {
   "cell_type": "markdown",
   "metadata": {},
   "source": [
    "The dataset contains records of incidents in Rio de Janeiro registered to the 'Comand Sistem' along with associated information, such as:\n",
    "1. incident id\n",
    "1. incident type\n",
    "2. action taken\n",
    "3. instituion which performed the action\n",
    "4. date\n",
    "5. time\n",
    "6. location\n",
    "7. etc\n",
    "    \n",
    "The system is used by the city's operational center (COR-Rio) to store information on incidents in the urban area of the city and actions performed by public institutions in response to the ocorrencies. One incident can contain multiple records (actions performed)."
   ]
  },
  {
   "cell_type": "markdown",
   "metadata": {},
   "source": [
    "### 2. Initial plan for data exploration\n",
    "\n",
    "Data exploration will focus on determining the potential of the data to serve as a catalog of urban ocoorrencies caused by hidrometheorological events, such as flooding of streets and overflowing of draining systems, to be used for later predictive analysis.\n",
    "1. Evaluate general quality of the dataset. (exploratory analysis for data cleaning).\n",
    "    1. Asses data types\n",
    "    2. Asses categorical values\n",
    "    3. Asses location variables\n",
    "    4. Asses time variables\n",
    "    5. Assess text variables\n",
    "    7. Check missing values notation uniformity\n",
    "2. Evaluate potential of the dataset to serve as a catalog for the prediction of ocorrence of incidents caused by hidrometheorological events in the city."
   ]
  },
  {
   "cell_type": "markdown",
   "metadata": {},
   "source": [
    "### *** 3. Actions taken for data cleaning and feature engineering\n",
    "Based on exploratory data analysis to asses the dataset general quality:\n",
    "1. ustructured data strategy\n",
    "4. uniform missing values notation\n",
    "3. convert data types\n",
    "5. address missing values"
   ]
  },
  {
   "cell_type": "markdown",
   "metadata": {},
   "source": [
    "### *** 4. Key Findings and Insights (insightful and actionable)"
   ]
  },
  {
   "cell_type": "markdown",
   "metadata": {},
   "source": [
    "1. Quality of the dataset:\n",
    "    1. Only datetime variables require type conversion\n",
    "    1. categorical variables:\n",
    "    2. location variables: Some values required the correction of the order of magnitude. Another procedure was the exclusion of invalid values (coordinates with decimal precision of one).\n",
    "    3. datetime variables:\n",
    "    4. text variables\n",
    "    5.\n",
    "2. Potential of data to serve as catalog of ocorrencies for real time predictive model:\n",
    "    1. Number of ocorrencies per location, street or neighborhood.\n",
    "\n"
   ]
  },
  {
   "cell_type": "markdown",
   "metadata": {},
   "source": [
    "### 5. Three hypothesis\n",
    "\n",
    "Three hyphotesis were formulated in order to understand the data. These are:\n",
    "1. \n",
    "2. \n",
    "3. "
   ]
  },
  {
   "cell_type": "markdown",
   "metadata": {},
   "source": [
    "### 6. Formal significance test (and result discussion)"
   ]
  },
  {
   "cell_type": "markdown",
   "metadata": {},
   "source": [
    "A formal significance test was performed for the first hyphotesis.\n",
    "\n",
    "..."
   ]
  },
  {
   "cell_type": "markdown",
   "metadata": {},
   "source": [
    "### 7. Next steps"
   ]
  },
  {
   "cell_type": "markdown",
   "metadata": {},
   "source": [
    "1. Join other data\n",
    "\n",
    "2. Explore and evaluate remaining data, for potential to preditct the incidents' ocorrences.\n",
    "\n",
    "2. Arquitech model to make real time predictions and acommodate predictive data format and specificities'. Recommendation of model arquitecture:\n",
    "    1. Work with pre-defined points of interest. It can be 2D grid based area sections, street sections (number intervals), or historical polygon area sections. Obs: Incidents' location distribution on the map suggests the use of street sections, as many streets have multiple incidents along limited sections.\n",
    "    1. Predict binary probability/class (yes, no) or multinomial probability/class (low, medium, high chance of ocorrence). Predict for each point of interest, each time for a defined frequency.\n",
    "    2. Choose prediction frequency based on the highest real time variable frequency. If the frequency of this variable is one observation every 15 min, train the model using 15 min spread samples, repeating the values of less frequently observed variables.\n",
    "    3. Train model on time series of ocorrences (repeating datetime values such as date, week, month) + other realtime and fixed variables.\n",
    "    4. Limit time scope of the model to some arbitrary rules, for example:\n",
    "        1. Only if its raining above X  milimeters, after Y minutes or hours, on a pluviometric station Z meters far from each city point of interest. Model is only trained for data in this circunstances and only makes real time predictions under these circunstances. This can help reduce the imbalance issue.\n",
    "        2. If we have real time rain geometry data, only train/predict if rain is X meters close, for Y hours, above Z rain intensity, etc. Examples of rain geometry data: Rain center, shape, speed magnitude and direction, intensity and intensity rate, etc.\n",
    "\n",
    "\n",
    "4. Recommendation for feature engineering:\n",
    "    1. mm of rain in previous X, Y and Z hours for stations under A, B and C distances of each point of interest (similar to the data used by the arbitrary rule explained).\n",
    "    2. Input the forecast of time series models of incident ocorrence, to the actual model of real time ocorrence risk. That is, make predictions of how many incidents are expected each day, week or month, and input these to the risk model.\n",
    "    3. If real time rain geometry data is available, compute distances to stations and points of interest, as well as rain tendency prediction, such as increasing, decreasing, speeding up, etc  (also similar to the data used by the arbitrary rule explained).\n",
    "\n",
    "\n",
    "5. Asses previous built models of the same problem. It was discussed in mentorship sections with professional and specialists that previous studies and attemps to model the incidents have been performed by the COR-Rio and other institutions. Besides, apperently, there are current efforts from different institutions to include or collect additional data, and to facilitate the development and implementation of this modeling solution."
   ]
  },
  {
   "cell_type": "markdown",
   "metadata": {},
   "source": [
    "### 8. Dataset quality"
   ]
  },
  {
   "cell_type": "markdown",
   "metadata": {},
   "source": [
    "### 9. Additional data"
   ]
  }
 ],
 "metadata": {
  "kernelspec": {
   "display_name": "Python 3",
   "language": "python",
   "name": "python3"
  },
  "language_info": {
   "codemirror_mode": {
    "name": "ipython",
    "version": 3
   },
   "file_extension": ".py",
   "mimetype": "text/x-python",
   "name": "python",
   "nbconvert_exporter": "python",
   "pygments_lexer": "ipython3",
   "version": "3.8.3"
  }
 },
 "nbformat": 4,
 "nbformat_minor": 4
}
