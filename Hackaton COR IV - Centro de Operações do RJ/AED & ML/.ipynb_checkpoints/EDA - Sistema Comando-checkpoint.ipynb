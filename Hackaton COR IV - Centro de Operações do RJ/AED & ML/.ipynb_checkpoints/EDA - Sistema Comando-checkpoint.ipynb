{
 "cells": [
  {
   "cell_type": "markdown",
   "metadata": {},
   "source": [
    "# ANÁLISE DOS REGISTROS DO SISTEMA COMANDO DE OCORRÊNCIAS COM ORIGEM METEOROLÓGICA"
   ]
  },
  {
   "cell_type": "markdown",
   "metadata": {},
   "source": [
    "---\n",
    "\n",
    "### Notebook Sections:\n",
    "1. Exploratory Data Analysis\n",
    "    1. Asses general quality of the dataset\n",
    "    2. Check potential of the dataset to serve as catalog of incidents caused by rain, for predicive modeling.\n",
    "2. Data Cleaning"
   ]
  },
  {
   "cell_type": "markdown",
   "metadata": {},
   "source": [
    "### Importar modulos e funções"
   ]
  },
  {
   "cell_type": "code",
   "execution_count": 26,
   "metadata": {},
   "outputs": [],
   "source": [
    "import os, pandas as pd, numpy as np, matplotlib.pyplot as plt#, requests, json, folium\n",
    "import seaborn as sns; sns.set()\n",
    "# from folium import plugins\n",
    "from IPython.display import clear_output as co\n",
    "\n",
    "### Definir classe 'data' com endereço dos dados\n",
    "class DATA:\n",
    "    path = r'C:\\Users\\luisr\\Desktop\\Repositories\\Dados\\Desafio COR-Rio IV\\\\'\n",
    "    AlertaAPI = r'http://websempre.rio.rj.gov.br/json/chuvas'"
   ]
  },
  {
   "cell_type": "markdown",
   "metadata": {},
   "source": [
    "### Carregando dados"
   ]
  },
  {
   "cell_type": "code",
   "execution_count": 27,
   "metadata": {},
   "outputs": [
    {
     "name": "stderr",
     "output_type": "stream",
     "text": [
      "c:\\Users\\luisr\\anaconda3\\lib\\site-packages\\IPython\\core\\interactiveshell.py:3071: DtypeWarning: Columns (4,10) have mixed types.Specify dtype option on import or set low_memory=False.\n",
      "  has_raised = await self.run_ast_nodes(code_ast.body, cell_name,\n"
     ]
    }
   ],
   "source": [
    "comando = pd.read_csv(DATA.path + 'comando.csv')"
   ]
  },
  {
   "cell_type": "markdown",
   "metadata": {},
   "source": [
    "---\n",
    "# Exploratory Analysis and Data Cleaning"
   ]
  },
  {
   "cell_type": "markdown",
   "metadata": {},
   "source": [
    "## 0. Extract records of incidents caused by rain"
   ]
  },
  {
   "cell_type": "code",
   "execution_count": 28,
   "metadata": {},
   "outputs": [
    {
     "name": "stdout",
     "output_type": "stream",
     "text": [
      "(12409, 18)\n",
      "(4884, 17)\n"
     ]
    }
   ],
   "source": [
    "titles = [\n",
    "    \"Bolsão d'água em via\", 'Vazamento de água / esgoto',\n",
    "    'Alagamentos e enchentes', \"Lâmina d'água\",\n",
    "    \"Lâmina d'água em via\", 'Alagamento',\n",
    "    'Enchente', 'Bueiro'\n",
    "]\n",
    "\n",
    "records = comando[comando['POP_TITULO'].isin(titles)]; \n",
    "events = records.groupby('EVENTO_ID').first() # Isolando ocorrências (primeiro registro de cada ocorrência)\n",
    "data = records.reset_index(drop=False).rename(columns={'index': 'REGISTRO_ID'})\n",
    "\n",
    "print(records.shape) # Número total de registros encontrados\n",
    "print(events.shape) # Número eventos de registros encontrados"
   ]
  },
  {
   "cell_type": "markdown",
   "metadata": {},
   "source": [
    "**Key findings**:\n",
    "1. The record history of incidents caused by rain has some overlaping categories for incident type. There is a need to confirm the reason for the overlaping categories with the institution."
   ]
  },
  {
   "cell_type": "markdown",
   "metadata": {},
   "source": [
    "### 1. Asses data types"
   ]
  },
  {
   "cell_type": "markdown",
   "metadata": {},
   "source": [
    "##### Check first rows"
   ]
  },
  {
   "cell_type": "code",
   "execution_count": 29,
   "metadata": {},
   "outputs": [
    {
     "data": {
      "text/html": [
       "<div>\n",
       "<style scoped>\n",
       "    .dataframe tbody tr th:only-of-type {\n",
       "        vertical-align: middle;\n",
       "    }\n",
       "\n",
       "    .dataframe tbody tr th {\n",
       "        vertical-align: top;\n",
       "    }\n",
       "\n",
       "    .dataframe thead th {\n",
       "        text-align: right;\n",
       "    }\n",
       "</style>\n",
       "<table border=\"1\" class=\"dataframe\">\n",
       "  <thead>\n",
       "    <tr style=\"text-align: right;\">\n",
       "      <th></th>\n",
       "      <th>EVENTO_ID</th>\n",
       "      <th>EVENTO_TITULO</th>\n",
       "      <th>EVENTO_DESCRICAO</th>\n",
       "      <th>EVENTO_GRAVIDADE</th>\n",
       "      <th>EVENTO_BAIRRO</th>\n",
       "      <th>STATUS</th>\n",
       "      <th>EVENTO_INICIO</th>\n",
       "      <th>EVENTO_INICIO_HORA</th>\n",
       "      <th>EVENTO_FIM</th>\n",
       "      <th>EVENTO_FIM_HORA</th>\n",
       "      <th>EVENTO_PRAZO</th>\n",
       "      <th>EVENTO_LATITUDE</th>\n",
       "      <th>EVENTO_LONGITUDE</th>\n",
       "      <th>POP_TITULO</th>\n",
       "      <th>POP_DESCRICAO</th>\n",
       "      <th>ORGAO_SIGLA</th>\n",
       "      <th>ORGAO_NOME</th>\n",
       "      <th>ACAO</th>\n",
       "    </tr>\n",
       "  </thead>\n",
       "  <tbody>\n",
       "    <tr>\n",
       "      <th>214</th>\n",
       "      <td>60</td>\n",
       "      <td>Queda de Árvore na Rua Pacheco Leão, 1587</td>\n",
       "      <td>NaN</td>\n",
       "      <td>BAIXO</td>\n",
       "      <td>NaN</td>\n",
       "      <td>FECHADO</td>\n",
       "      <td>2015-04-10</td>\n",
       "      <td>15:59:00</td>\n",
       "      <td>2015-04-11</td>\n",
       "      <td>08:37:00</td>\n",
       "      <td>NaN</td>\n",
       "      <td>-23.0</td>\n",
       "      <td>-4.323430e+15</td>\n",
       "      <td>Bolsão d'água em via</td>\n",
       "      <td>Bolsão d'água em via</td>\n",
       "      <td>CET-RIO</td>\n",
       "      <td>Companhia de Engenharia de Tráfego</td>\n",
       "      <td>Desfazer o acidente</td>\n",
       "    </tr>\n",
       "    <tr>\n",
       "      <th>215</th>\n",
       "      <td>60</td>\n",
       "      <td>Queda de Árvore na Rua Pacheco Leão, 1587</td>\n",
       "      <td>NaN</td>\n",
       "      <td>BAIXO</td>\n",
       "      <td>NaN</td>\n",
       "      <td>FECHADO</td>\n",
       "      <td>2015-04-10</td>\n",
       "      <td>15:59:00</td>\n",
       "      <td>2015-04-11</td>\n",
       "      <td>08:37:00</td>\n",
       "      <td>NaN</td>\n",
       "      <td>-23.0</td>\n",
       "      <td>-4.323430e+15</td>\n",
       "      <td>Bolsão d'água em via</td>\n",
       "      <td>Bolsão d'água em via</td>\n",
       "      <td>CET-RIO</td>\n",
       "      <td>Companhia de Engenharia de Tráfego</td>\n",
       "      <td>Organizar o trânsito</td>\n",
       "    </tr>\n",
       "    <tr>\n",
       "      <th>216</th>\n",
       "      <td>60</td>\n",
       "      <td>Queda de Árvore na Rua Pacheco Leão, 1587</td>\n",
       "      <td>NaN</td>\n",
       "      <td>BAIXO</td>\n",
       "      <td>NaN</td>\n",
       "      <td>FECHADO</td>\n",
       "      <td>2015-04-10</td>\n",
       "      <td>15:59:00</td>\n",
       "      <td>2015-04-11</td>\n",
       "      <td>08:37:00</td>\n",
       "      <td>NaN</td>\n",
       "      <td>-23.0</td>\n",
       "      <td>-4.323430e+15</td>\n",
       "      <td>Bolsão d'água em via</td>\n",
       "      <td>Bolsão d'água em via</td>\n",
       "      <td>COMLURB</td>\n",
       "      <td>Companhia de Limpeza Urbana</td>\n",
       "      <td>Cortar e retirar árvore</td>\n",
       "    </tr>\n",
       "  </tbody>\n",
       "</table>\n",
       "</div>"
      ],
      "text/plain": [
       "     EVENTO_ID                              EVENTO_TITULO EVENTO_DESCRICAO  \\\n",
       "214         60  Queda de Árvore na Rua Pacheco Leão, 1587              NaN   \n",
       "215         60  Queda de Árvore na Rua Pacheco Leão, 1587              NaN   \n",
       "216         60  Queda de Árvore na Rua Pacheco Leão, 1587              NaN   \n",
       "\n",
       "    EVENTO_GRAVIDADE EVENTO_BAIRRO   STATUS EVENTO_INICIO EVENTO_INICIO_HORA  \\\n",
       "214            BAIXO           NaN  FECHADO    2015-04-10           15:59:00   \n",
       "215            BAIXO           NaN  FECHADO    2015-04-10           15:59:00   \n",
       "216            BAIXO           NaN  FECHADO    2015-04-10           15:59:00   \n",
       "\n",
       "     EVENTO_FIM EVENTO_FIM_HORA EVENTO_PRAZO  EVENTO_LATITUDE  \\\n",
       "214  2015-04-11        08:37:00          NaN            -23.0   \n",
       "215  2015-04-11        08:37:00          NaN            -23.0   \n",
       "216  2015-04-11        08:37:00          NaN            -23.0   \n",
       "\n",
       "     EVENTO_LONGITUDE            POP_TITULO         POP_DESCRICAO ORGAO_SIGLA  \\\n",
       "214     -4.323430e+15  Bolsão d'água em via  Bolsão d'água em via     CET-RIO   \n",
       "215     -4.323430e+15  Bolsão d'água em via  Bolsão d'água em via     CET-RIO   \n",
       "216     -4.323430e+15  Bolsão d'água em via  Bolsão d'água em via     COMLURB   \n",
       "\n",
       "                             ORGAO_NOME                     ACAO  \n",
       "214  Companhia de Engenharia de Tráfego      Desfazer o acidente  \n",
       "215  Companhia de Engenharia de Tráfego     Organizar o trânsito  \n",
       "216         Companhia de Limpeza Urbana  Cortar e retirar árvore  "
      ]
     },
     "execution_count": 29,
     "metadata": {},
     "output_type": "execute_result"
    }
   ],
   "source": [
    "records.head(3)"
   ]
  },
  {
   "cell_type": "markdown",
   "metadata": {},
   "source": [
    "##### Identify variables' types"
   ]
  },
  {
   "cell_type": "code",
   "execution_count": 30,
   "metadata": {},
   "outputs": [],
   "source": [
    "cols = {\n",
    "    'text': [\n",
    "        'EVENTO_TITULO', 'EVENTO_DESCRICAO'\n",
    "    ],\n",
    "    'categorical': [\n",
    "        'EVENTO_GRAVIDADE', 'EVENTO_BAIRRO', 'STATUS', 'EVENTO_PRAZO',\n",
    "        'POP_TITULO', 'POP_DESCRICAO', 'ORGAO_SIGLA', 'ORGAO_NOME', 'ACAO'\n",
    "    ],\n",
    "    'datetime': [\n",
    "        'EVENTO_INICIO', 'EVENTO_INICIO_HORA',\n",
    "        'EVENTO_FIM', 'EVENTO_FIM_HORA'\n",
    "    ],\n",
    "    'location': [\n",
    "        'EVENTO_LATITUDE', 'EVENTO_LONGITUDE'\n",
    "    ]\n",
    "}"
   ]
  },
  {
   "cell_type": "markdown",
   "metadata": {},
   "source": [
    "#### Check raw data types"
   ]
  },
  {
   "cell_type": "code",
   "execution_count": 31,
   "metadata": {},
   "outputs": [
    {
     "name": "stdout",
     "output_type": "stream",
     "text": [
      "<class 'pandas.core.frame.DataFrame'>\n",
      "Int64Index: 5 entries, 214 to 250\n",
      "Data columns (total 18 columns):\n",
      " #   Column              Non-Null Count  Dtype  \n",
      "---  ------              --------------  -----  \n",
      " 0   EVENTO_ID           5 non-null      int64  \n",
      " 1   EVENTO_TITULO       5 non-null      object \n",
      " 2   EVENTO_DESCRICAO    1 non-null      object \n",
      " 3   EVENTO_GRAVIDADE    5 non-null      object \n",
      " 4   EVENTO_BAIRRO       0 non-null      object \n",
      " 5   STATUS              5 non-null      object \n",
      " 6   EVENTO_INICIO       5 non-null      object \n",
      " 7   EVENTO_INICIO_HORA  5 non-null      object \n",
      " 8   EVENTO_FIM          5 non-null      object \n",
      " 9   EVENTO_FIM_HORA     5 non-null      object \n",
      " 10  EVENTO_PRAZO        0 non-null      object \n",
      " 11  EVENTO_LATITUDE     5 non-null      float64\n",
      " 12  EVENTO_LONGITUDE    5 non-null      float64\n",
      " 13  POP_TITULO          5 non-null      object \n",
      " 14  POP_DESCRICAO       5 non-null      object \n",
      " 15  ORGAO_SIGLA         5 non-null      object \n",
      " 16  ORGAO_NOME          5 non-null      object \n",
      " 17  ACAO                5 non-null      object \n",
      "dtypes: float64(2), int64(1), object(15)\n",
      "memory usage: 760.0+ bytes\n"
     ]
    }
   ],
   "source": [
    "records.head().info()"
   ]
  },
  {
   "cell_type": "markdown",
   "metadata": {},
   "source": [
    "Conclusions:\n",
    "\n",
    "Only datetime variables require type conversion."
   ]
  },
  {
   "cell_type": "markdown",
   "metadata": {},
   "source": [
    "---\n",
    "### 2. Asses category values"
   ]
  },
  {
   "cell_type": "markdown",
   "metadata": {},
   "source": [
    "Categorical columns (unique categories):\n",
    "* EVENTO_GRAVIDADE (BAIXO, MEDIO, ALTO, SEM_CLASSIFICAÇÃO, CRITICO). Extra values: Litoral do Rio de Janeiro\n",
    "* EVENTO_BAIRRO (339) - Desestruturado\n",
    "    * contém 'nan'\n",
    "    * Valores de categorias não uniforme: Bairros de mesmo nome com escrita diferente.\n",
    "    * Contem valores inválidos: Nomes de rua, números, endereços, etc.\n",
    "    * Necessita método strip()\n",
    "* EVENTO_STATUS (FECHADO, ABERTO). Extra values: FINALIZADO, Litoral do Rio de Janeiro\n",
    "* (CURTO, MEDIO, LONGO)\n",
    "* POP_TITULO (40)\n",
    "* POP_DESCRICAO (42)\n",
    "* ORGAO_SIGLA (34)\n",
    "* ORGAO_NOME (35)\n",
    "* ACAO (70)"
   ]
  },
  {
   "cell_type": "code",
   "execution_count": null,
   "metadata": {},
   "outputs": [],
   "source": [
    "for col in cols['categorical']: # descomente para conferir contagem de  valores unicos\n",
    "#     print('\\n\\n', col, ': ', len(records[col].unique()), '\\n')\n",
    "    display(records[col].value_counts().to_frame(col))"
   ]
  },
  {
   "cell_type": "markdown",
   "metadata": {},
   "source": [
    "---\n",
    "### 3. Asses text variables"
   ]
  },
  {
   "cell_type": "markdown",
   "metadata": {},
   "source": [
    "---\n",
    "### 4. Asses location variables"
   ]
  },
  {
   "cell_type": "markdown",
   "metadata": {},
   "source": [
    "#### Functions to process coordinates"
   ]
  },
  {
   "cell_type": "code",
   "execution_count": 38,
   "metadata": {},
   "outputs": [],
   "source": [
    "#### Compute and update order of magnitude of float value or series.\n",
    "\n",
    "def orderOfMagnitude(number):\n",
    "    return np.floor(np.log10(abs(number)))\n",
    "\n",
    "def correctMagnitude(number, mag=1):\n",
    "    if type(number)==float:\n",
    "        magnitude = orderOfMagnitude(number)\n",
    "        return number / 10 ** ( orderOfMagnitude(number) - mag )\n",
    "    else:\n",
    "        return [correctMagnitude(n, mag) for n in number]\n",
    "\n",
    "# Replace values below provided decimal precision with NAN in series.\n",
    "\n",
    "def isBelowDecimal(series, decimal=1):\n",
    "    next_decimal = abs(series * 10 ** (decimal-1))\n",
    "    next_abs_dif = next_decimal - next_decimal.round(0)\n",
    "    return next_abs_dif == 0\n",
    "\n",
    "# Compute decimal precision\n",
    "\n",
    "def fillnaBelowDecimal(df, decimal=1, cols=None, subset='all'): # accepts array\n",
    "    if cols is None: cols = df.columns\n",
    "    for col in cols:\n",
    "        below_msk = isBelowDecimal(df[col], decimal=decimal)\n",
    "        if subset=='all':\n",
    "            df[below_msk] = np.nan\n",
    "        elif subset=='each':\n",
    "            df[col][below_msk] = np.nan\n",
    "    return df    \n",
    "\n",
    "# Reverse geocode coordinates with google maps API\n",
    "\n",
    "import googlemaps\n",
    "\n",
    "def googleReverseGeocode(\n",
    "    coordinates, result_type=None, location_type=None, language='pt-BR',\n",
    "    keep_cols =  ['place_id', 'types', 'formatted_address'],\n",
    "    drop_cols = ['address_components', 'geometry', 'plus_code'], # if included, 'keep_cols' argument is ignored\n",
    "    keep_geometry_cols = ['location', 'location_type'],\n",
    "    googleAPIKey=None\n",
    "):\n",
    "    gmaps = googlemaps.Client(key=googleAPIKey) # load google api key\n",
    "    result = []; n_coords = len(coordinates)\n",
    "    for i, coords in enumerate(coordinates):\n",
    "        res = gmaps.reverse_geocode(\n",
    "            coords, language='pt-BR',\n",
    "            result_type='|'.join(result_type),\n",
    "            location_type='|'.join(location_type)\n",
    "        )\n",
    "        df = pd.DataFrame(res); coords_df = []\n",
    "        if drop_cols is not None:\n",
    "            found_cols = set(drop_cols).intersection(df.columns)\n",
    "            keep_cols = df.drop(found_cols, 1).columns\n",
    "        for j, row in df.iterrows():\n",
    "            keep_info = row[keep_cols]\n",
    "            keep_info['search_index'] = i\n",
    "            location = pd.Series(row['geometry']['location'])\n",
    "            location['location_type'] = row['geometry']['location_type']\n",
    "            address = pd.DataFrame(row['address_components'])\n",
    "            address = pd.Series(\n",
    "                address['long_name'].values,\n",
    "                index=address['types'].map(lambda types: ', '.join(types))\n",
    "            )\n",
    "            coords_df.append(pd.concat([keep_info, location, address], 0))\n",
    "        result.append(pd.DataFrame(coords_df))\n",
    "        print(f'{i+1}/{n_coords} coordinates reversed geocoded.'); co(wait=True)\n",
    "\n",
    "    print(f'Done! Total of {n_coords} requests.')\n",
    "    return pd.concat(result, 0)"
   ]
  },
  {
   "cell_type": "markdown",
   "metadata": {},
   "source": [
    "#### Correct magnitude and replace with NAN coordinates below decimal precision of four places."
   ]
  },
  {
   "cell_type": "code",
   "execution_count": 39,
   "metadata": {},
   "outputs": [
    {
     "name": "stderr",
     "output_type": "stream",
     "text": [
      "<ipython-input-38-9f83bc6d3bc4>:4: RuntimeWarning: divide by zero encountered in log10\n",
      "  return np.floor(np.log10(abs(number)))\n",
      "<ipython-input-38-9f83bc6d3bc4>:9: RuntimeWarning: invalid value encountered in double_scalars\n",
      "  return number / 10 ** ( orderOfMagnitude(number) - mag )\n",
      "<ipython-input-38-9f83bc6d3bc4>:27: SettingWithCopyWarning: \n",
      "A value is trying to be set on a copy of a slice from a DataFrame.\n",
      "Try using .loc[row_indexer,col_indexer] = value instead\n",
      "\n",
      "See the caveats in the documentation: https://pandas.pydata.org/pandas-docs/stable/user_guide/indexing.html#returning-a-view-versus-a-copy\n",
      "  df[below_msk] = np.nan\n",
      "c:\\Users\\luisr\\anaconda3\\lib\\site-packages\\pandas\\core\\frame.py:2957: SettingWithCopyWarning: \n",
      "A value is trying to be set on a copy of a slice from a DataFrame\n",
      "\n",
      "See the caveats in the documentation: https://pandas.pydata.org/pandas-docs/stable/user_guide/indexing.html#returning-a-view-versus-a-copy\n",
      "  self.loc._setitem_with_indexer(indexer, value)\n",
      "c:\\Users\\luisr\\anaconda3\\lib\\site-packages\\pandas\\core\\frame.py:2935: SettingWithCopyWarning: \n",
      "A value is trying to be set on a copy of a slice from a DataFrame\n",
      "\n",
      "See the caveats in the documentation: https://pandas.pydata.org/pandas-docs/stable/user_guide/indexing.html#returning-a-view-versus-a-copy\n",
      "  self._setitem_array(key, value)\n"
     ]
    }
   ],
   "source": [
    "# Correct magnitude of coordinates\n",
    "data.loc[:, 'lat'] = correctMagnitude(data['EVENTO_LATITUDE'], mag=1)\n",
    "data.loc[:, 'lng'] = correctMagnitude(data['EVENTO_LONGITUDE'], mag=1)\n",
    "\n",
    "# Fill coordinates below decimal precision of 4 places.\n",
    "data[['lat', 'lng']] = fillnaBelowDecimal(data[['lat', 'lng']], decimal=3, subset='all')"
   ]
  },
  {
   "cell_type": "markdown",
   "metadata": {},
   "source": [
    "#### Percentage of records without valid coordinates"
   ]
  },
  {
   "cell_type": "code",
   "execution_count": 40,
   "metadata": {},
   "outputs": [
    {
     "data": {
      "text/plain": [
       "16.850672898702555"
      ]
     },
     "execution_count": 40,
     "metadata": {},
     "output_type": "execute_result"
    }
   ],
   "source": [
    "data['lat'].isna().sum() / len(data) * 100 # 6 % dos incidentes sem cordenadas."
   ]
  },
  {
   "cell_type": "code",
   "execution_count": 41,
   "metadata": {},
   "outputs": [
    {
     "data": {
      "text/plain": [
       "6.092352324925457"
      ]
     },
     "execution_count": 41,
     "metadata": {},
     "output_type": "execute_result"
    }
   ],
   "source": [
    "data.groupby('EVENTO_ID').first()['lat'].isna().sum() / len(data) * 100 # 16 % dos registros sem cordenadas."
   ]
  },
  {
   "cell_type": "markdown",
   "metadata": {},
   "source": [
    "#### Extracting catalog of incidents with known coordinates"
   ]
  },
  {
   "cell_type": "code",
   "execution_count": 42,
   "metadata": {},
   "outputs": [
    {
     "data": {
      "text/plain": [
       "((4128, 20), (3140, 20))"
      ]
     },
     "execution_count": 42,
     "metadata": {},
     "output_type": "execute_result"
    }
   ],
   "source": [
    "catalog = data.groupby('EVENTO_ID').first().dropna(subset=['lat', 'lng']) # Incident catalog (no missing coordinates)\n",
    "\n",
    "catalog.shape, catalog[catalog['POP_TITULO']==titles[0]].shape"
   ]
  },
  {
   "cell_type": "markdown",
   "metadata": {},
   "source": [
    "#### Reverse geocode extracted incidents' coordinates with Google Maps API"
   ]
  },
  {
   "cell_type": "code",
   "execution_count": 43,
   "metadata": {},
   "outputs": [],
   "source": [
    "location_type = [\n",
    "    'ROOFTOP',\n",
    "    'RANGE_INTERPOLATED',\n",
    "    'APPROXIMATE'\n",
    "]\n",
    "\n",
    "result_type = [\n",
    "    'street_address', 'route', 'intersection',\n",
    "    'colloquial_area', 'plus_code', 'postal_code',\n",
    "    'establishment', 'premise'\n",
    "]\n",
    "\n",
    "catalog_coords = catalog[['lat', 'lng']].values.tolist()\n",
    "\n",
    "# geocode_result = googleReverseGeocode( # Search already perfomed\n",
    "#     catalog_coords,\n",
    "#     result_type=result_type,\n",
    "#     location_type=location_type,\n",
    "#     googleAPIKey=open('../GoogleApiKey.txt', 'r').read()\n",
    "# )"
   ]
  },
  {
   "cell_type": "code",
   "execution_count": 44,
   "metadata": {},
   "outputs": [],
   "source": [
    "# geocode_result.to_csv('dados/catalog_reverse_geocode_result.csv', index=False)\n",
    "geocode_result = pd.read_csv('dados/catalog_reverse_geocode_result.csv')"
   ]
  },
  {
   "cell_type": "markdown",
   "metadata": {},
   "source": [
    "#### Check result"
   ]
  },
  {
   "cell_type": "markdown",
   "metadata": {},
   "source": [
    "##### Count of unique street numbers found per location search"
   ]
  },
  {
   "cell_type": "code",
   "execution_count": 61,
   "metadata": {},
   "outputs": [
    {
     "data": {
      "text/plain": [
       "1     615\n",
       "2    1688\n",
       "3    1348\n",
       "4     444\n",
       "5       8\n",
       "Name: street_number, dtype: int64"
      ]
     },
     "execution_count": 61,
     "metadata": {},
     "output_type": "execute_result"
    }
   ],
   "source": [
    "numbered = geocode_result.dropna(subset=['street_number']).drop_duplicates(subset=['search_index', 'street_number'])\n",
    "numbered.groupby('search_index').count()['street_number'].value_counts().sort_index()"
   ]
  },
  {
   "cell_type": "markdown",
   "metadata": {},
   "source": [
    "##### Count of unique routes found per location search"
   ]
  },
  {
   "cell_type": "code",
   "execution_count": 62,
   "metadata": {},
   "outputs": [
    {
     "data": {
      "text/plain": [
       "1    1939\n",
       "2    1882\n",
       "3     267\n",
       "4      27\n",
       "5       2\n",
       "Name: route, dtype: int64"
      ]
     },
     "execution_count": 62,
     "metadata": {},
     "output_type": "execute_result"
    }
   ],
   "source": [
    "numbered = geocode_result.dropna(subset=['route']).drop_duplicates(subset=['search_index', 'route'])\n",
    "numbered.groupby('search_index').count()['route'].value_counts().sort_index()"
   ]
  },
  {
   "cell_type": "markdown",
   "metadata": {},
   "source": [
    "##### Locations without a numbered search result"
   ]
  },
  {
   "cell_type": "code",
   "execution_count": 46,
   "metadata": {},
   "outputs": [
    {
     "data": {
      "text/plain": [
       "25"
      ]
     },
     "execution_count": 46,
     "metadata": {},
     "output_type": "execute_result"
    }
   ],
   "source": [
    "len(catalog) - len(numbered['search_index'].unique()) # location search results without a numbered address"
   ]
  },
  {
   "cell_type": "markdown",
   "metadata": {},
   "source": [
    "#### Include geodecoded results in catalog"
   ]
  },
  {
   "cell_type": "markdown",
   "metadata": {},
   "source": [
    "Options to filter:\n",
    "1. Prioritize type 'street_address', then 'route', then 'establishment'/'premise'\n",
    "2. only if street_number is not missing\n",
    "3. Prioritize first street_number of each location search"
   ]
  },
  {
   "cell_type": "code",
   "execution_count": 70,
   "metadata": {},
   "outputs": [
    {
     "data": {
      "text/plain": [
       "array([   0,    1,    2, ..., 4125, 4126, 4127], dtype=int64)"
      ]
     },
     "execution_count": 70,
     "metadata": {},
     "output_type": "execute_result"
    }
   ],
   "source": [
    "geocode_result['search_index'].unique()"
   ]
  },
  {
   "cell_type": "code",
   "execution_count": 69,
   "metadata": {},
   "outputs": [
    {
     "data": {
      "text/plain": [
       "4128"
      ]
     },
     "execution_count": 69,
     "metadata": {},
     "output_type": "execute_result"
    }
   ],
   "source": [
    "len(catalog_coords)"
   ]
  },
  {
   "cell_type": "code",
   "execution_count": null,
   "metadata": {},
   "outputs": [],
   "source": [
    "filtered_geocode_result = "
   ]
  },
  {
   "cell_type": "markdown",
   "metadata": {},
   "source": [
    "##### Original coordinates' difference from found coordinates"
   ]
  },
  {
   "cell_type": "code",
   "execution_count": null,
   "metadata": {},
   "outputs": [],
   "source": []
  },
  {
   "cell_type": "markdown",
   "metadata": {},
   "source": [
    "### 5. Asses time variables"
   ]
  },
  {
   "cell_type": "markdown",
   "metadata": {},
   "source": [
    "#### Convert event start and end dates and times to 'datetime64' type"
   ]
  },
  {
   "cell_type": "code",
   "execution_count": 235,
   "metadata": {},
   "outputs": [],
   "source": [
    "start = data['EVENTO_INICIO'] + ' ' + data['EVENTO_INICIO_HORA']\n",
    "end = data['EVENTO_FIM'] + ' ' + data['EVENTO_FIM_HORA']\n",
    "\n",
    "data['evento_inicio'] = pd.to_datetime(start)\n",
    "data['evento_fim'] = pd.to_datetime(end)\n",
    "\n",
    "# data.set_index('evento_inicio', inplace=True)"
   ]
  },
  {
   "cell_type": "code",
   "execution_count": 248,
   "metadata": {},
   "outputs": [
    {
     "data": {
      "text/plain": [
       "0       2015-04-10 15:59:00\n",
       "1       2015-04-10 15:59:00\n",
       "2       2015-04-10 15:59:00\n",
       "3       2015-04-10 15:59:00\n",
       "4       2015-05-05 07:52:00\n",
       "                ...        \n",
       "12404   2022-04-30 12:33:00\n",
       "12405   2022-04-30 15:33:00\n",
       "12406   2022-04-30 15:33:00\n",
       "12407   2022-04-30 16:09:00\n",
       "12408   2022-04-30 16:09:00\n",
       "Name: evento_inicio, Length: 12409, dtype: datetime64[ns]"
      ]
     },
     "execution_count": 248,
     "metadata": {},
     "output_type": "execute_result"
    }
   ],
   "source": [
    "data['evento_inicio']"
   ]
  },
  {
   "cell_type": "markdown",
   "metadata": {},
   "source": [
    "### 7. Check missing values notation uniformity"
   ]
  },
  {
   "cell_type": "code",
   "execution_count": null,
   "metadata": {},
   "outputs": [],
   "source": []
  }
 ],
 "metadata": {
  "kernelspec": {
   "display_name": "Python 3",
   "language": "python",
   "name": "python3"
  },
  "language_info": {
   "codemirror_mode": {
    "name": "ipython",
    "version": 3
   },
   "file_extension": ".py",
   "mimetype": "text/x-python",
   "name": "python",
   "nbconvert_exporter": "python",
   "pygments_lexer": "ipython3",
   "version": "3.8.3"
  }
 },
 "nbformat": 4,
 "nbformat_minor": 4
}
