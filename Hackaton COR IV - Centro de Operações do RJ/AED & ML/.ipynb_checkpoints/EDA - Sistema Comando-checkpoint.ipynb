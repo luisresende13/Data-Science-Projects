{
 "cells": [
  {
   "cell_type": "markdown",
   "metadata": {},
   "source": [
    "# ANÁLISE DOS REGISTROS DO SISTEMA COMANDO DE OCORRÊNCIAS COM ORIGEM METEOROLÓGICA"
   ]
  },
  {
   "cell_type": "markdown",
   "metadata": {},
   "source": [
    "---\n",
    "\n",
    "### Notebook Sections:\n",
    "1. Exploratory Data Analysis\n",
    "    1. Asses general quality of the dataset\n",
    "    2. Check potential of the dataset to serve as catalog of incidents caused by rain, for predicive modeling.\n",
    "2. Data Cleaning"
   ]
  },
  {
   "cell_type": "markdown",
   "metadata": {},
   "source": [
    "### Importar modulos e funções"
   ]
  },
  {
   "cell_type": "code",
   "execution_count": 2,
   "metadata": {},
   "outputs": [],
   "source": [
    "import os, pandas as pd, numpy as np, matplotlib.pyplot as plt, requests, json, folium\n",
    "import seaborn as sns; sns.set()\n",
    "from folium import plugins\n",
    "from IPython.display import Image\n",
    "\n",
    "### Definir classe 'data' com endereço dos dados\n",
    "class data:\n",
    "    path = r'C:\\Users\\luisr\\Desktop\\Repositories\\Dados\\Desafio COR-Rio IV\\\\'\n",
    "    AlertaAPI = r'http://websempre.rio.rj.gov.br/json/chuvas'"
   ]
  },
  {
   "cell_type": "markdown",
   "metadata": {},
   "source": [
    "### Carregando dados"
   ]
  },
  {
   "cell_type": "code",
   "execution_count": 3,
   "metadata": {},
   "outputs": [
    {
     "name": "stderr",
     "output_type": "stream",
     "text": [
      "c:\\Users\\luisr\\anaconda3\\lib\\site-packages\\IPython\\core\\interactiveshell.py:3071: DtypeWarning: Columns (4,10) have mixed types.Specify dtype option on import or set low_memory=False.\n",
      "  has_raised = await self.run_ast_nodes(code_ast.body, cell_name,\n"
     ]
    }
   ],
   "source": [
    "comando = pd.read_csv(data.path + 'comando.csv') "
   ]
  },
  {
   "cell_type": "markdown",
   "metadata": {},
   "source": [
    "---\n",
    "# Exploratory Data Analysis for Data Cleaning"
   ]
  },
  {
   "cell_type": "markdown",
   "metadata": {},
   "source": [
    "### 1. Asses data types"
   ]
  },
  {
   "cell_type": "markdown",
   "metadata": {},
   "source": [
    "##### Check first rows"
   ]
  },
  {
   "cell_type": "code",
   "execution_count": 25,
   "metadata": {},
   "outputs": [
    {
     "data": {
      "text/html": [
       "<div>\n",
       "<style scoped>\n",
       "    .dataframe tbody tr th:only-of-type {\n",
       "        vertical-align: middle;\n",
       "    }\n",
       "\n",
       "    .dataframe tbody tr th {\n",
       "        vertical-align: top;\n",
       "    }\n",
       "\n",
       "    .dataframe thead th {\n",
       "        text-align: right;\n",
       "    }\n",
       "</style>\n",
       "<table border=\"1\" class=\"dataframe\">\n",
       "  <thead>\n",
       "    <tr style=\"text-align: right;\">\n",
       "      <th></th>\n",
       "      <th>EVENTO_ID</th>\n",
       "      <th>EVENTO_TITULO</th>\n",
       "      <th>EVENTO_DESCRICAO</th>\n",
       "      <th>EVENTO_GRAVIDADE</th>\n",
       "      <th>EVENTO_BAIRRO</th>\n",
       "      <th>STATUS</th>\n",
       "      <th>EVENTO_INICIO</th>\n",
       "      <th>EVENTO_INICIO_HORA</th>\n",
       "      <th>EVENTO_FIM</th>\n",
       "      <th>EVENTO_FIM_HORA</th>\n",
       "      <th>EVENTO_PRAZO</th>\n",
       "      <th>EVENTO_LATITUDE</th>\n",
       "      <th>EVENTO_LONGITUDE</th>\n",
       "      <th>POP_TITULO</th>\n",
       "      <th>POP_DESCRICAO</th>\n",
       "      <th>ORGAO_SIGLA</th>\n",
       "      <th>ORGAO_NOME</th>\n",
       "      <th>ACAO</th>\n",
       "    </tr>\n",
       "  </thead>\n",
       "  <tbody>\n",
       "    <tr>\n",
       "      <th>0</th>\n",
       "      <td>2</td>\n",
       "      <td>Ac mt e tx, na LVermelha, sent Centro, altura ...</td>\n",
       "      <td>Ac mt e tx, na LVermelha, sent Centro, altura ...</td>\n",
       "      <td>BAIXO</td>\n",
       "      <td>NaN</td>\n",
       "      <td>FECHADO</td>\n",
       "      <td>2015-02-23</td>\n",
       "      <td>12:13:00</td>\n",
       "      <td>2015-02-23</td>\n",
       "      <td>14:18:00</td>\n",
       "      <td>NaN</td>\n",
       "      <td>0.0</td>\n",
       "      <td>0.0</td>\n",
       "      <td>Acidente com vítima(s)</td>\n",
       "      <td>Acidente com vítima(s)</td>\n",
       "      <td>CET-RIO</td>\n",
       "      <td>Companhia de Engenharia de Tráfego</td>\n",
       "      <td>Desfazer o acidente</td>\n",
       "    </tr>\n",
       "    <tr>\n",
       "      <th>1</th>\n",
       "      <td>2</td>\n",
       "      <td>Ac mt e tx, na LVermelha, sent Centro, altura ...</td>\n",
       "      <td>Ac mt e tx, na LVermelha, sent Centro, altura ...</td>\n",
       "      <td>BAIXO</td>\n",
       "      <td>NaN</td>\n",
       "      <td>FECHADO</td>\n",
       "      <td>2015-02-23</td>\n",
       "      <td>12:13:00</td>\n",
       "      <td>2015-02-23</td>\n",
       "      <td>14:18:00</td>\n",
       "      <td>NaN</td>\n",
       "      <td>NaN</td>\n",
       "      <td>0.0</td>\n",
       "      <td>Acidente com vítima(s)</td>\n",
       "      <td>Acidente com vítima(s)</td>\n",
       "      <td>CET-RIO</td>\n",
       "      <td>Companhia de Engenharia de Tráfego</td>\n",
       "      <td>Organizar o trânsito</td>\n",
       "    </tr>\n",
       "    <tr>\n",
       "      <th>2</th>\n",
       "      <td>2</td>\n",
       "      <td>Ac mt e tx, na LVermelha, sent Centro, altura ...</td>\n",
       "      <td>Ac mt e tx, na LVermelha, sent Centro, altura ...</td>\n",
       "      <td>BAIXO</td>\n",
       "      <td>NaN</td>\n",
       "      <td>FECHADO</td>\n",
       "      <td>2015-02-23</td>\n",
       "      <td>12:13:00</td>\n",
       "      <td>2015-02-23</td>\n",
       "      <td>14:18:00</td>\n",
       "      <td>NaN</td>\n",
       "      <td>0.0</td>\n",
       "      <td>0.0</td>\n",
       "      <td>Acidente com vítima(s)</td>\n",
       "      <td>Acidente com vítima(s)</td>\n",
       "      <td>BOMBEIROS</td>\n",
       "      <td>Corpo de Bombeiros</td>\n",
       "      <td>Atender vítima(s)</td>\n",
       "    </tr>\n",
       "  </tbody>\n",
       "</table>\n",
       "</div>"
      ],
      "text/plain": [
       "   EVENTO_ID                                      EVENTO_TITULO  \\\n",
       "0          2  Ac mt e tx, na LVermelha, sent Centro, altura ...   \n",
       "1          2  Ac mt e tx, na LVermelha, sent Centro, altura ...   \n",
       "2          2  Ac mt e tx, na LVermelha, sent Centro, altura ...   \n",
       "\n",
       "                                    EVENTO_DESCRICAO EVENTO_GRAVIDADE  \\\n",
       "0  Ac mt e tx, na LVermelha, sent Centro, altura ...            BAIXO   \n",
       "1  Ac mt e tx, na LVermelha, sent Centro, altura ...            BAIXO   \n",
       "2  Ac mt e tx, na LVermelha, sent Centro, altura ...            BAIXO   \n",
       "\n",
       "  EVENTO_BAIRRO   STATUS EVENTO_INICIO EVENTO_INICIO_HORA  EVENTO_FIM  \\\n",
       "0           NaN  FECHADO    2015-02-23           12:13:00  2015-02-23   \n",
       "1           NaN  FECHADO    2015-02-23           12:13:00  2015-02-23   \n",
       "2           NaN  FECHADO    2015-02-23           12:13:00  2015-02-23   \n",
       "\n",
       "  EVENTO_FIM_HORA EVENTO_PRAZO  EVENTO_LATITUDE  EVENTO_LONGITUDE  \\\n",
       "0        14:18:00          NaN              0.0               0.0   \n",
       "1        14:18:00          NaN              NaN               0.0   \n",
       "2        14:18:00          NaN              0.0               0.0   \n",
       "\n",
       "               POP_TITULO           POP_DESCRICAO ORGAO_SIGLA  \\\n",
       "0  Acidente com vítima(s)  Acidente com vítima(s)     CET-RIO   \n",
       "1  Acidente com vítima(s)  Acidente com vítima(s)     CET-RIO   \n",
       "2  Acidente com vítima(s)  Acidente com vítima(s)   BOMBEIROS   \n",
       "\n",
       "                           ORGAO_NOME                  ACAO  \n",
       "0  Companhia de Engenharia de Tráfego   Desfazer o acidente  \n",
       "1  Companhia de Engenharia de Tráfego  Organizar o trânsito  \n",
       "2                  Corpo de Bombeiros     Atender vítima(s)  "
      ]
     },
     "execution_count": 25,
     "metadata": {},
     "output_type": "execute_result"
    }
   ],
   "source": [
    "comando.head(3)"
   ]
  },
  {
   "cell_type": "markdown",
   "metadata": {},
   "source": [
    "##### Identify variables' types"
   ]
  },
  {
   "cell_type": "code",
   "execution_count": 23,
   "metadata": {},
   "outputs": [],
   "source": [
    "cols = {\n",
    "    'text': [\n",
    "        'EVENTO_TITULO', 'EVENTO_DESCRICAO'\n",
    "    ],\n",
    "    'categorical': [\n",
    "        'EVENTO_GRAVIDADE', 'EVENTO_BAIRRO', 'STATUS', 'EVENTO_PRAZO',\n",
    "        'POP_TITULO', 'POP_DESCRICAO', 'ORGAO_SIGLA', 'ORGAO_NOME', 'ACAO'\n",
    "    ],\n",
    "    'datetime': [\n",
    "        'EVENTO_INICIO', 'EVENTO_INICIO_HORA',\n",
    "        'EVENTO_FIM', 'EVENTO_FIM_HORA'\n",
    "    ],\n",
    "    'location': [\n",
    "        'EVENTO_LATITUDE', 'EVENTO_LONGITUDE'\n",
    "    ]\n",
    "}"
   ]
  },
  {
   "cell_type": "markdown",
   "metadata": {},
   "source": [
    "#### Check raw data types"
   ]
  },
  {
   "cell_type": "code",
   "execution_count": 32,
   "metadata": {},
   "outputs": [
    {
     "name": "stdout",
     "output_type": "stream",
     "text": [
      "<class 'pandas.core.frame.DataFrame'>\n",
      "RangeIndex: 5 entries, 0 to 4\n",
      "Data columns (total 18 columns):\n",
      " #   Column              Non-Null Count  Dtype  \n",
      "---  ------              --------------  -----  \n",
      " 0   EVENTO_ID           5 non-null      int64  \n",
      " 1   EVENTO_TITULO       5 non-null      object \n",
      " 2   EVENTO_DESCRICAO    5 non-null      object \n",
      " 3   EVENTO_GRAVIDADE    5 non-null      object \n",
      " 4   EVENTO_BAIRRO       0 non-null      object \n",
      " 5   STATUS              5 non-null      object \n",
      " 6   EVENTO_INICIO       5 non-null      object \n",
      " 7   EVENTO_INICIO_HORA  5 non-null      object \n",
      " 8   EVENTO_FIM          5 non-null      object \n",
      " 9   EVENTO_FIM_HORA     5 non-null      object \n",
      " 10  EVENTO_PRAZO        0 non-null      object \n",
      " 11  EVENTO_LATITUDE     4 non-null      float64\n",
      " 12  EVENTO_LONGITUDE    5 non-null      float64\n",
      " 13  POP_TITULO          5 non-null      object \n",
      " 14  POP_DESCRICAO       5 non-null      object \n",
      " 15  ORGAO_SIGLA         5 non-null      object \n",
      " 16  ORGAO_NOME          5 non-null      object \n",
      " 17  ACAO                5 non-null      object \n",
      "dtypes: float64(2), int64(1), object(15)\n",
      "memory usage: 848.0+ bytes\n"
     ]
    }
   ],
   "source": [
    "comando.head().info()"
   ]
  },
  {
   "cell_type": "markdown",
   "metadata": {},
   "source": [
    "Conclusion: Only datetime variables require type conversion."
   ]
  },
  {
   "cell_type": "markdown",
   "metadata": {},
   "source": [
    "### 2. Asses categorical values"
   ]
  },
  {
   "cell_type": "markdown",
   "metadata": {},
   "source": [
    "Categorical columns (unique categories):\n",
    "* EVENTO_GRAVIDADE (BAIXO, MEDIO, ALTO, SEM_CLASSIFICAÇÃO, CRITICO). Extra values: Litoral do Rio de Janeiro\n",
    "* EVENTO_BAIRRO (339) - Desestruturado\n",
    "    * contém 'nan'\n",
    "    * Valores de categorias não uniforme: Bairros de mesmo nome com escrita diferente.\n",
    "    * Contem valores inválidos: Nomes de rua, números, endereços, etc.\n",
    "    * Necessita método strip()\n",
    "* EVENTO_STATUS (FECHADO, ABERTO). Extra values: FINALIZADO, Litoral do Rio de Janeiro\n",
    "* (CURTO, MEDIO, LONGO)\n",
    "* POP_TITULO (40)\n",
    "* POP_DESCRICAO (42)\n",
    "* ORGAO_SIGLA (34)\n",
    "* ORGAO_NOME (35)\n",
    "* ACAO (70)"
   ]
  },
  {
   "cell_type": "code",
   "execution_count": null,
   "metadata": {},
   "outputs": [],
   "source": [
    "for col in cols['categorical']: # descomente para conferir valores unicos\n",
    "    print('\\n\\n', col, ': ', len(comando[col].unique()), '\\n')\n",
    "    display(comando[col].value_counts())"
   ]
  },
  {
   "cell_type": "markdown",
   "metadata": {},
   "source": [
    "### 3. Assess text variables"
   ]
  },
  {
   "cell_type": "markdown",
   "metadata": {},
   "source": [
    "### 4. Asses location variables"
   ]
  },
  {
   "cell_type": "markdown",
   "metadata": {},
   "source": [
    "### 5. Asses time variables"
   ]
  },
  {
   "cell_type": "markdown",
   "metadata": {},
   "source": [
    "### 7. Check missing values notation uniformity"
   ]
  },
  {
   "cell_type": "markdown",
   "metadata": {},
   "source": [
    "---\n",
    "# Data Cleaning and Feature Engineering"
   ]
  },
  {
   "cell_type": "code",
   "execution_count": null,
   "metadata": {},
   "outputs": [],
   "source": []
  },
  {
   "cell_type": "code",
   "execution_count": null,
   "metadata": {},
   "outputs": [],
   "source": []
  }
 ],
 "metadata": {
  "kernelspec": {
   "display_name": "Python 3",
   "language": "python",
   "name": "python3"
  },
  "language_info": {
   "codemirror_mode": {
    "name": "ipython",
    "version": 3
   },
   "file_extension": ".py",
   "mimetype": "text/x-python",
   "name": "python",
   "nbconvert_exporter": "python",
   "pygments_lexer": "ipython3",
   "version": "3.8.3"
  }
 },
 "nbformat": 4,
 "nbformat_minor": 4
}
