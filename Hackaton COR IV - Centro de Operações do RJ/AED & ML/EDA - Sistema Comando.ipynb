{
 "cells": [
  {
   "cell_type": "markdown",
   "metadata": {},
   "source": [
    "# ANÁLISE DOS REGISTROS DO SISTEMA COMANDO DE OCORRÊNCIAS COM ORIGEM METEOROLÓGICA"
   ]
  },
  {
   "cell_type": "markdown",
   "metadata": {},
   "source": [
    "---\n",
    "### Notebook Sections:\n",
    "1. Exploratory data analysis & data cleaning\n",
    "    * Asses general quality of the dataset\n",
    "2. Extract incident catalog\n",
    "    * Extract catalog of incidents with known coordinates, caused by rain for predicive modeling\n",
    "3. Reverse geocode catalog coordinates\n",
    "4. Reverse geocode result analysis\n",
    "5. Filter and merge geocode result to catalog\n",
    "    * Obs: Exclude incidents without a numbered address result\n",
    "4. Extra: Search in text based records for incidents left out of initial extraction \n",
    "5. Extra: Search catalog for incidents indentified by city cameras"
   ]
  },
  {
   "cell_type": "markdown",
   "metadata": {},
   "source": [
    "### Import modules and functions"
   ]
  },
  {
   "cell_type": "code",
   "execution_count": 1,
   "metadata": {},
   "outputs": [],
   "source": [
    "import os, pandas as pd, numpy as np, matplotlib.pyplot as plt#, requests, json, folium\n",
    "import seaborn as sns; sns.set()\n",
    "# from folium import plugins\n",
    "from IPython.display import clear_output as co\n",
    "\n",
    "### Definir classe 'data' com endereço dos dados\n",
    "class DATA:\n",
    "    path = r'C:\\Users\\luisr\\Desktop\\Repositories\\Dados\\Desafio COR-Rio IV\\\\'\n",
    "    AlertaAPI = r'http://websempre.rio.rj.gov.br/json/chuvas'"
   ]
  },
  {
   "cell_type": "markdown",
   "metadata": {},
   "source": [
    "### Load data"
   ]
  },
  {
   "cell_type": "code",
   "execution_count": 2,
   "metadata": {},
   "outputs": [
    {
     "name": "stderr",
     "output_type": "stream",
     "text": [
      "c:\\Users\\luisr\\anaconda3\\lib\\site-packages\\IPython\\core\\interactiveshell.py:3071: DtypeWarning: Columns (4,10) have mixed types.Specify dtype option on import or set low_memory=False.\n",
      "  has_raised = await self.run_ast_nodes(code_ast.body, cell_name,\n"
     ]
    }
   ],
   "source": [
    "comando = pd.read_csv(DATA.path + 'comando.csv')"
   ]
  },
  {
   "cell_type": "markdown",
   "metadata": {},
   "source": [
    "---\n",
    "# 1. Exploratory Data Analysis & Data Cleaning"
   ]
  },
  {
   "cell_type": "markdown",
   "metadata": {},
   "source": [
    "### 0. Extract records of incidents caused by metheorological events"
   ]
  },
  {
   "cell_type": "code",
   "execution_count": 3,
   "metadata": {},
   "outputs": [
    {
     "name": "stdout",
     "output_type": "stream",
     "text": [
      "(12409, 18)\n"
     ]
    }
   ],
   "source": [
    "titles = [\n",
    "    \"Bolsão d'água em via\", 'Vazamento de água / esgoto',\n",
    "    'Alagamentos e enchentes', \"Lâmina d'água\",\n",
    "    \"Lâmina d'água em via\", 'Alagamento',\n",
    "    'Enchente', 'Bueiro'\n",
    "]\n",
    "\n",
    "records = comando[comando['POP_TITULO'].isin(titles)].copy()\n",
    "records_left = comando.loc[set(comando.index).difference(records.index)].copy()\n",
    "\n",
    "data = records.reset_index(drop=False).rename(columns={'index': 'REGISTRO_ID'}).copy()\n",
    "comando = None\n",
    "\n",
    "print(records.shape) # Número total de registros encontrados"
   ]
  },
  {
   "cell_type": "markdown",
   "metadata": {},
   "source": [
    "**Key findings**:\n",
    "1. The record history of incidents caused by rain has some overlaping categories for incident type. There is a need to confirm the reason for the overlaping categories with the institution."
   ]
  },
  {
   "cell_type": "markdown",
   "metadata": {},
   "source": [
    "### 1. Asses data types"
   ]
  },
  {
   "cell_type": "markdown",
   "metadata": {},
   "source": [
    "##### Identify variables' types"
   ]
  },
  {
   "cell_type": "code",
   "execution_count": 4,
   "metadata": {},
   "outputs": [],
   "source": [
    "cols = {\n",
    "    'text': [\n",
    "        'EVENTO_TITULO', 'EVENTO_DESCRICAO'\n",
    "    ],\n",
    "    'categorical': [\n",
    "        'EVENTO_GRAVIDADE', 'EVENTO_BAIRRO', 'STATUS', 'EVENTO_PRAZO',\n",
    "        'POP_TITULO', 'POP_DESCRICAO', 'ORGAO_SIGLA', 'ORGAO_NOME', 'ACAO'\n",
    "    ],\n",
    "    'datetime': [\n",
    "        'EVENTO_INICIO', 'EVENTO_INICIO_HORA',\n",
    "        'EVENTO_FIM', 'EVENTO_FIM_HORA'\n",
    "    ],\n",
    "    'location': [\n",
    "        'EVENTO_LATITUDE', 'EVENTO_LONGITUDE'\n",
    "    ]\n",
    "}"
   ]
  },
  {
   "cell_type": "markdown",
   "metadata": {},
   "source": [
    "#### Check raw data types"
   ]
  },
  {
   "cell_type": "code",
   "execution_count": 5,
   "metadata": {},
   "outputs": [
    {
     "data": {
      "text/plain": [
       "REGISTRO_ID             int64\n",
       "EVENTO_ID               int64\n",
       "EVENTO_TITULO          object\n",
       "EVENTO_DESCRICAO       object\n",
       "EVENTO_GRAVIDADE       object\n",
       "EVENTO_BAIRRO          object\n",
       "STATUS                 object\n",
       "EVENTO_INICIO          object\n",
       "EVENTO_INICIO_HORA     object\n",
       "EVENTO_FIM             object\n",
       "EVENTO_FIM_HORA        object\n",
       "EVENTO_PRAZO           object\n",
       "EVENTO_LATITUDE       float64\n",
       "EVENTO_LONGITUDE      float64\n",
       "POP_TITULO             object\n",
       "POP_DESCRICAO          object\n",
       "ORGAO_SIGLA            object\n",
       "ORGAO_NOME             object\n",
       "ACAO                   object\n",
       "dtype: object"
      ]
     },
     "execution_count": 5,
     "metadata": {},
     "output_type": "execute_result"
    }
   ],
   "source": [
    "data.dtypes"
   ]
  },
  {
   "cell_type": "markdown",
   "metadata": {},
   "source": [
    "Conclusions:\n",
    "\n",
    "Only datetime variables require type conversion."
   ]
  },
  {
   "cell_type": "markdown",
   "metadata": {},
   "source": [
    "---\n",
    "### 2. Asses categorical variables and values"
   ]
  },
  {
   "cell_type": "markdown",
   "metadata": {},
   "source": [
    "Categorical columns (unique categories):\n",
    "* EVENTO_GRAVIDADE (BAIXO, MEDIO, ALTO, CRITICO, SEM_CLASSIFICAÇÃO). Extra values: Litoral do Rio de Janeiro\n",
    "* EVENTO_BAIRRO (339) - Desestruturado\n",
    "    * Contém 'nan'\n",
    "    * Valores de categorias não uniforme: Bairros de mesmo nome com escrita diferente.\n",
    "    * Contem valores inválidos: Nomes de rua, números, endereços, etc.\n",
    "    * Necessita método strip()\n",
    "* EVENTO_STATUS (FECHADO, ABERTO). Extra values: FINALIZADO, Litoral do Rio de Janeiro\n",
    "* EVENTO_PRAZO (CURTO, MEDIO, LONGO)\n",
    "* POP_TITULO (40)\n",
    "* POP_DESCRICAO (42)\n",
    "* ORGAO_SIGLA (34)\n",
    "* ORGAO_NOME (35)\n",
    "* ACAO (70)"
   ]
  },
  {
   "cell_type": "code",
   "execution_count": null,
   "metadata": {},
   "outputs": [],
   "source": [
    "for col in cols['categorical']: # descomente para conferir contagem de valores unicos\n",
    "    display(data[col].value_counts().to_frame(col))"
   ]
  },
  {
   "cell_type": "markdown",
   "metadata": {},
   "source": [
    "---\n",
    "### 3. Asses text variables"
   ]
  },
  {
   "cell_type": "code",
   "execution_count": 6,
   "metadata": {},
   "outputs": [
    {
     "data": {
      "text/html": [
       "<div>\n",
       "<style scoped>\n",
       "    .dataframe tbody tr th:only-of-type {\n",
       "        vertical-align: middle;\n",
       "    }\n",
       "\n",
       "    .dataframe tbody tr th {\n",
       "        vertical-align: top;\n",
       "    }\n",
       "\n",
       "    .dataframe thead th {\n",
       "        text-align: right;\n",
       "    }\n",
       "</style>\n",
       "<table border=\"1\" class=\"dataframe\">\n",
       "  <thead>\n",
       "    <tr style=\"text-align: right;\">\n",
       "      <th></th>\n",
       "      <th>EVENTO_TITULO</th>\n",
       "    </tr>\n",
       "  </thead>\n",
       "  <tbody>\n",
       "    <tr>\n",
       "      <th>Bolsão d'água em via</th>\n",
       "      <td>3959</td>\n",
       "    </tr>\n",
       "    <tr>\n",
       "      <th>Bolsão d'água</th>\n",
       "      <td>1752</td>\n",
       "    </tr>\n",
       "    <tr>\n",
       "      <th>Alagamento</th>\n",
       "      <td>1112</td>\n",
       "    </tr>\n",
       "    <tr>\n",
       "      <th>Vazamento de água</th>\n",
       "      <td>568</td>\n",
       "    </tr>\n",
       "    <tr>\n",
       "      <th>Bolsão d'água</th>\n",
       "      <td>554</td>\n",
       "    </tr>\n",
       "    <tr>\n",
       "      <th>...</th>\n",
       "      <td>...</td>\n",
       "    </tr>\n",
       "    <tr>\n",
       "      <th>Enguiço ON</th>\n",
       "      <td>1</td>\n",
       "    </tr>\n",
       "    <tr>\n",
       "      <th>Bolsão d'água em via ( CAM 294 )</th>\n",
       "      <td>1</td>\n",
       "    </tr>\n",
       "    <tr>\n",
       "      <th>Bolsão d'água em via (505)</th>\n",
       "      <td>1</td>\n",
       "    </tr>\n",
       "    <tr>\n",
       "      <th>Alagamento (Buraco do Lacerda)</th>\n",
       "      <td>1</td>\n",
       "    </tr>\n",
       "    <tr>\n",
       "      <th>Bolsão d'água em via (1080)</th>\n",
       "      <td>1</td>\n",
       "    </tr>\n",
       "  </tbody>\n",
       "</table>\n",
       "<p>554 rows × 1 columns</p>\n",
       "</div>"
      ],
      "text/plain": [
       "                                  EVENTO_TITULO\n",
       "Bolsão d'água em via                       3959\n",
       "Bolsão d'água                              1752\n",
       "Alagamento                                 1112\n",
       "Vazamento de água                           568\n",
       "Bolsão d'água                               554\n",
       "...                                         ...\n",
       "Enguiço ON                                    1\n",
       "Bolsão d'água em via ( CAM 294 )              1\n",
       "Bolsão d'água em via (505)                    1\n",
       "Alagamento (Buraco do Lacerda)                1\n",
       "Bolsão d'água em via (1080)                   1\n",
       "\n",
       "[554 rows x 1 columns]"
      ]
     },
     "metadata": {},
     "output_type": "display_data"
    },
    {
     "data": {
      "text/html": [
       "<div>\n",
       "<style scoped>\n",
       "    .dataframe tbody tr th:only-of-type {\n",
       "        vertical-align: middle;\n",
       "    }\n",
       "\n",
       "    .dataframe tbody tr th {\n",
       "        vertical-align: top;\n",
       "    }\n",
       "\n",
       "    .dataframe thead th {\n",
       "        text-align: right;\n",
       "    }\n",
       "</style>\n",
       "<table border=\"1\" class=\"dataframe\">\n",
       "  <thead>\n",
       "    <tr style=\"text-align: right;\">\n",
       "      <th></th>\n",
       "      <th>EVENTO_DESCRICAO</th>\n",
       "    </tr>\n",
       "  </thead>\n",
       "  <tbody>\n",
       "    <tr>\n",
       "      <th>Rua do Catete, Alt. R. Silveira Martins - Catete</th>\n",
       "      <td>67</td>\n",
       "    </tr>\n",
       "    <tr>\n",
       "      <th>R. São Clemente, 226 - Botafogo</th>\n",
       "      <td>31</td>\n",
       "    </tr>\n",
       "    <tr>\n",
       "      <th>Mergulhão Billy Blanco - Barra da Tijuca</th>\n",
       "      <td>25</td>\n",
       "    </tr>\n",
       "    <tr>\n",
       "      <th>Av. Brasil - Benfica</th>\n",
       "      <td>25</td>\n",
       "    </tr>\n",
       "    <tr>\n",
       "      <th>Av. das Nações Unidas - Passagem Subterrânea - Alt. Fogo de Chão - Botafogo</th>\n",
       "      <td>24</td>\n",
       "    </tr>\n",
       "    <tr>\n",
       "      <th>...</th>\n",
       "      <td>...</td>\n",
       "    </tr>\n",
       "    <tr>\n",
       "      <th>Linha Amarela, Alt. do Shopping Nova América - Del Castilho</th>\n",
       "      <td>1</td>\n",
       "    </tr>\n",
       "    <tr>\n",
       "      <th>Av. Min. Edgard Romero, Alt. R. Conselheiro Galvão - Madureira -  Sent. Vicente de Carvalho</th>\n",
       "      <td>1</td>\n",
       "    </tr>\n",
       "    <tr>\n",
       "      <th>R. Gen. Argolo - São Cristóvão</th>\n",
       "      <td>1</td>\n",
       "    </tr>\n",
       "    <tr>\n",
       "      <th>Rua da Lapa - Alt. Rua Teixeira Soares - Centro</th>\n",
       "      <td>1</td>\n",
       "    </tr>\n",
       "    <tr>\n",
       "      <th>Av. Borges de Medeiros - Alt. Viaduto Saint Hilaire - Lagoa - Sent. Túnel Rebouças</th>\n",
       "      <td>1</td>\n",
       "    </tr>\n",
       "  </tbody>\n",
       "</table>\n",
       "<p>4326 rows × 1 columns</p>\n",
       "</div>"
      ],
      "text/plain": [
       "                                                    EVENTO_DESCRICAO\n",
       "Rua do Catete, Alt. R. Silveira Martins - Catete                  67\n",
       "R. São Clemente, 226 - Botafogo                                   31\n",
       "Mergulhão Billy Blanco - Barra da Tijuca                          25\n",
       "Av. Brasil - Benfica                                              25\n",
       "Av. das Nações Unidas - Passagem Subterrânea - ...                24\n",
       "...                                                              ...\n",
       "Linha Amarela, Alt. do Shopping Nova América - ...                 1\n",
       "Av. Min. Edgard Romero, Alt. R. Conselheiro Gal...                 1\n",
       "R. Gen. Argolo - São Cristóvão                                     1\n",
       "Rua da Lapa - Alt. Rua Teixeira Soares - Centro                    1\n",
       "Av. Borges de Medeiros - Alt. Viaduto Saint Hil...                 1\n",
       "\n",
       "[4326 rows x 1 columns]"
      ]
     },
     "metadata": {},
     "output_type": "display_data"
    }
   ],
   "source": [
    "for col in cols['text']: # descomente para conferir contagem de valores unicos\n",
    "    display(data[col].value_counts().to_frame(col))"
   ]
  },
  {
   "cell_type": "markdown",
   "metadata": {},
   "source": [
    "---\n",
    "### 5. Asses time variables"
   ]
  },
  {
   "cell_type": "markdown",
   "metadata": {},
   "source": [
    "#### Convert event start and end dates and times to 'datetime64' type"
   ]
  },
  {
   "cell_type": "code",
   "execution_count": 7,
   "metadata": {},
   "outputs": [
    {
     "data": {
      "text/plain": [
       "0       2015-04-10 15:59:00\n",
       "1       2015-04-10 15:59:00\n",
       "2       2015-04-10 15:59:00\n",
       "3       2015-04-10 15:59:00\n",
       "4       2015-05-05 07:52:00\n",
       "                ...        \n",
       "12404   2022-04-30 12:33:00\n",
       "12405   2022-04-30 15:33:00\n",
       "12406   2022-04-30 15:33:00\n",
       "12407   2022-04-30 16:09:00\n",
       "12408   2022-04-30 16:09:00\n",
       "Name: evento_inicio, Length: 12409, dtype: datetime64[ns]"
      ]
     },
     "execution_count": 7,
     "metadata": {},
     "output_type": "execute_result"
    }
   ],
   "source": [
    "start = data['EVENTO_INICIO'] + ' ' + data['EVENTO_INICIO_HORA']\n",
    "end = data['EVENTO_FIM'] + ' ' + data['EVENTO_FIM_HORA']\n",
    "\n",
    "data['evento_inicio'] = pd.to_datetime(start)\n",
    "data['evento_fim'] = pd.to_datetime(end)\n",
    "\n",
    "data['evento_inicio']"
   ]
  },
  {
   "cell_type": "markdown",
   "metadata": {},
   "source": [
    "---\n",
    "### 4. Asses location variables"
   ]
  },
  {
   "cell_type": "markdown",
   "metadata": {},
   "source": [
    "#### Functions to process coordinates"
   ]
  },
  {
   "cell_type": "code",
   "execution_count": 8,
   "metadata": {},
   "outputs": [],
   "source": [
    "#### Compute and update order of magnitude of float value or series.\n",
    "\n",
    "def orderOfMagnitude(number):\n",
    "    return np.floor(np.log10(abs(number)))\n",
    "\n",
    "def correctMagnitude(number, mag=1):\n",
    "    if type(number)==float:\n",
    "        magnitude = orderOfMagnitude(number)\n",
    "        return number / 10 ** ( orderOfMagnitude(number) - mag )\n",
    "    else:\n",
    "        return [correctMagnitude(n, mag) for n in number]\n",
    "\n",
    "# Replace values below provided decimal precision with NAN in series.\n",
    "\n",
    "def isBelowDecimal(series, decimal=1):\n",
    "    next_decimal = abs(series * 10 ** (decimal-1))\n",
    "    next_abs_dif = next_decimal - next_decimal.round(0)\n",
    "    return next_abs_dif == 0\n",
    "\n",
    "# Compute decimal precision\n",
    "\n",
    "def fillNaBelowDecimal(df, decimal=1, cols=None, subset='all'): # accepts array\n",
    "    if cols is None: cols = df.columns\n",
    "    for col in cols:\n",
    "        below_msk = isBelowDecimal(df[col], decimal=decimal)\n",
    "        if subset=='all':\n",
    "            df.loc[below_msk] = np.nan\n",
    "        elif subset=='each':\n",
    "            df[col].loc[below_msk] = np.nan\n",
    "    return df    "
   ]
  },
  {
   "cell_type": "markdown",
   "metadata": {},
   "source": [
    "#### Correct magnitude and replace with NAN coordinates below decimal precision of four places."
   ]
  },
  {
   "cell_type": "markdown",
   "metadata": {},
   "source": [
    "Obs: This method aims at excluding below defined precision but it 2also excludes values with precision equal to the defined one but ending with zero (1/10 of the values). For example, 22.9430 is excluded even tough is 4 places precise."
   ]
  },
  {
   "cell_type": "code",
   "execution_count": 9,
   "metadata": {},
   "outputs": [
    {
     "name": "stderr",
     "output_type": "stream",
     "text": [
      "<ipython-input-8-d2094f930cb3>:4: RuntimeWarning: divide by zero encountered in log10\n",
      "  return np.floor(np.log10(abs(number)))\n",
      "<ipython-input-8-d2094f930cb3>:9: RuntimeWarning: invalid value encountered in double_scalars\n",
      "  return number / 10 ** ( orderOfMagnitude(number) - mag )\n",
      "c:\\Users\\luisr\\anaconda3\\lib\\site-packages\\pandas\\core\\indexing.py:671: SettingWithCopyWarning: \n",
      "A value is trying to be set on a copy of a slice from a DataFrame\n",
      "\n",
      "See the caveats in the documentation: https://pandas.pydata.org/pandas-docs/stable/user_guide/indexing.html#returning-a-view-versus-a-copy\n",
      "  self._setitem_with_indexer(indexer, value)\n",
      "<ipython-input-8-d2094f930cb3>:27: SettingWithCopyWarning: \n",
      "A value is trying to be set on a copy of a slice from a DataFrame\n",
      "\n",
      "See the caveats in the documentation: https://pandas.pydata.org/pandas-docs/stable/user_guide/indexing.html#returning-a-view-versus-a-copy\n",
      "  df.loc[below_msk] = np.nan\n"
     ]
    }
   ],
   "source": [
    "# Correct magnitude of coordinates\n",
    "data['lat'] = correctMagnitude(data['EVENTO_LATITUDE'], mag=1)\n",
    "data['lng'] = correctMagnitude(data['EVENTO_LONGITUDE'], mag=1)\n",
    "\n",
    "# Fill coordinates below decimal precision of 4 places\n",
    "min_precision = 4\n",
    "\n",
    "data[['lat', 'lng']] = fillNaBelowDecimal(\n",
    "    data[['lat', 'lng']],\n",
    "    decimal=min_precision,\n",
    "    subset='all'\n",
    ")"
   ]
  },
  {
   "cell_type": "markdown",
   "metadata": {},
   "source": [
    "#### Percentage of records without valid coordinates"
   ]
  },
  {
   "cell_type": "code",
   "execution_count": 10,
   "metadata": {},
   "outputs": [
    {
     "data": {
      "text/plain": [
       "19.84849705858651"
      ]
     },
     "execution_count": 10,
     "metadata": {},
     "output_type": "execute_result"
    }
   ],
   "source": [
    "data['lat'].isna().sum() / len(data) * 100 # 6 % dos incidentes sem cordenadas."
   ]
  },
  {
   "cell_type": "code",
   "execution_count": 11,
   "metadata": {},
   "outputs": [
    {
     "data": {
      "text/plain": [
       "7.196389717140785"
      ]
     },
     "execution_count": 11,
     "metadata": {},
     "output_type": "execute_result"
    }
   ],
   "source": [
    "data.groupby('EVENTO_ID').first()['lat'].isna().sum() / len(data) * 100 # 16 % dos registros sem cordenadas."
   ]
  },
  {
   "cell_type": "markdown",
   "metadata": {},
   "source": [
    "---\n",
    "# 2. Extract catalog of incidents with known coordinates"
   ]
  },
  {
   "cell_type": "code",
   "execution_count": 12,
   "metadata": {},
   "outputs": [
    {
     "data": {
      "text/plain": [
       "((12409, 23), (3991, 12), (3037, 12))"
      ]
     },
     "execution_count": 12,
     "metadata": {},
     "output_type": "execute_result"
    }
   ],
   "source": [
    "not_catalog_columns = [\n",
    "    'REGISTRO_ID', 'ORGAO_SIGLA',\n",
    "    'ORGAO_NOME', 'ACAO',\n",
    "    'EVENTO_INICIO', 'EVENTO_INICIO_HORA',\n",
    "    'EVENTO_FIM', 'EVENTO_FIM_HORA',\n",
    "    'EVENTO_LATITUDE', 'EVENTO_LONGITUDE'\n",
    "]\n",
    "\n",
    "catalog = data.groupby('EVENTO_ID').first().dropna(subset=['lat', 'lng']).drop(not_catalog_columns, 1) # Incident catalog (no missing coordinates)\n",
    "\n",
    "data.shape, catalog.shape, catalog[catalog['POP_TITULO']==titles[0]].shape"
   ]
  },
  {
   "cell_type": "markdown",
   "metadata": {},
   "source": [
    "### 7. Check uniformity of missing values notation"
   ]
  },
  {
   "cell_type": "code",
   "execution_count": 13,
   "metadata": {},
   "outputs": [],
   "source": [
    "# Missing"
   ]
  },
  {
   "cell_type": "markdown",
   "metadata": {},
   "source": [
    "---\n",
    "# 3. Reverse geocode catalog coordinates"
   ]
  },
  {
   "cell_type": "markdown",
   "metadata": {},
   "source": [
    "#### Function to reverse geocode coordinates with google maps API"
   ]
  },
  {
   "cell_type": "code",
   "execution_count": 23,
   "metadata": {},
   "outputs": [],
   "source": [
    "import googlemaps\n",
    "\n",
    "def googleReverseGeocode(\n",
    "    coordinates, coord_ids=None,\n",
    "    result_type=None, location_type=None,\n",
    "    language='pt-BR',\n",
    "    keep_cols =  ['place_id', 'types', 'formatted_address'],\n",
    "    drop_cols = ['address_components', 'geometry', 'plus_code'], # if included, 'keep_cols' argument is ignored\n",
    "    keep_geometry_cols = ['location', 'location_type'],\n",
    "    googleAPIKey=None\n",
    "):\n",
    "    gmaps = googlemaps.Client(key=googleAPIKey) # load google api key\n",
    "    if coord_ids is None: coord_ids = np.arange(len(coordinates))\n",
    "    result = []; n_coords = len(coordinates)\n",
    "    for i, (coords, coord_id) in enumerate(zip(coordinates, coord_ids)):\n",
    "        res = gmaps.reverse_geocode(\n",
    "            coords, language='pt-BR',\n",
    "            result_type='|'.join(result_type),\n",
    "            location_type='|'.join(location_type)\n",
    "        )\n",
    "        df = pd.DataFrame(res); coords_df = []\n",
    "        if drop_cols is not None:\n",
    "            found_cols = set(drop_cols).intersection(df.columns)\n",
    "            keep_cols = df.drop(found_cols, 1).columns\n",
    "        for j, row in df.iterrows():\n",
    "            keep_info = row[keep_cols]\n",
    "            keep_info['search_id'] = coord_id\n",
    "            location = pd.Series(row['geometry']['location'])\n",
    "            location['location_type'] = row['geometry']['location_type']\n",
    "            address = pd.DataFrame(row['address_components'])\n",
    "            address = pd.Series(\n",
    "                address['long_name'].values,\n",
    "                index=address['types'].map(lambda types: ', '.join(types))\n",
    "            )\n",
    "            coords_df.append(pd.concat([keep_info, location, address], 0))\n",
    "        result.append(pd.DataFrame(coords_df))\n",
    "        print(f'{i+1}/{n_coords} coordinates reversed geocoded.'); co(wait=True)\n",
    "\n",
    "    print(f'Done! Total of {n_coords} requests.')\n",
    "    return pd.concat(result, 0)"
   ]
  },
  {
   "cell_type": "markdown",
   "metadata": {},
   "source": [
    "### Reverse geocode extracted incidents' coordinates with Google Maps API"
   ]
  },
  {
   "cell_type": "code",
   "execution_count": 24,
   "metadata": {},
   "outputs": [
    {
     "name": "stdout",
     "output_type": "stream",
     "text": [
      "Done! Total of 3991 requests.\n"
     ]
    }
   ],
   "source": [
    "location_type = [\n",
    "    'ROOFTOP',\n",
    "    'RANGE_INTERPOLATED',\n",
    "    'APPROXIMATE'\n",
    "]\n",
    "\n",
    "result_type = [\n",
    "    'street_address', 'route', 'intersection',\n",
    "    'colloquial_area', 'plus_code', 'postal_code',\n",
    "    'establishment', 'premise'\n",
    "]\n",
    "\n",
    "catalog_coords = catalog[['lat', 'lng']].values.tolist()\n",
    "coord_ids = catalog.index.tolist() # event id values\n",
    "\n",
    "# geocode_result = googleReverseGeocode(  # Search already perfomed\n",
    "#     catalog_coords,\n",
    "#     coord_ids,\n",
    "#     result_type,\n",
    "#     location_type,\n",
    "#     googleAPIKey=open('../GoogleApiKey.txt', 'r').read()\n",
    "# )"
   ]
  },
  {
   "cell_type": "markdown",
   "metadata": {},
   "source": [
    "#### Save and reload geocode result"
   ]
  },
  {
   "cell_type": "code",
   "execution_count": 25,
   "metadata": {},
   "outputs": [],
   "source": [
    "# geocode_result.to_csv('dados/catalog_reverse_geocode.csv', index=False)\n",
    "geocode_result = pd.read_csv('dados/catalog_reverse_geocode.csv')"
   ]
  },
  {
   "cell_type": "markdown",
   "metadata": {},
   "source": [
    "---\n",
    "# 4. Reverse geocode result analysis"
   ]
  },
  {
   "cell_type": "markdown",
   "metadata": {},
   "source": [
    "##### Count of unique street numbers found per location search"
   ]
  },
  {
   "cell_type": "code",
   "execution_count": 27,
   "metadata": {},
   "outputs": [
    {
     "data": {
      "text/html": [
       "<div>\n",
       "<style scoped>\n",
       "    .dataframe tbody tr th:only-of-type {\n",
       "        vertical-align: middle;\n",
       "    }\n",
       "\n",
       "    .dataframe tbody tr th {\n",
       "        vertical-align: top;\n",
       "    }\n",
       "\n",
       "    .dataframe thead th {\n",
       "        text-align: right;\n",
       "    }\n",
       "</style>\n",
       "<table border=\"1\" class=\"dataframe\">\n",
       "  <thead>\n",
       "    <tr style=\"text-align: right;\">\n",
       "      <th></th>\n",
       "      <th>Numbers per result count</th>\n",
       "    </tr>\n",
       "  </thead>\n",
       "  <tbody>\n",
       "    <tr>\n",
       "      <th>1</th>\n",
       "      <td>590</td>\n",
       "    </tr>\n",
       "    <tr>\n",
       "      <th>2</th>\n",
       "      <td>1631</td>\n",
       "    </tr>\n",
       "    <tr>\n",
       "      <th>3</th>\n",
       "      <td>1323</td>\n",
       "    </tr>\n",
       "    <tr>\n",
       "      <th>4</th>\n",
       "      <td>418</td>\n",
       "    </tr>\n",
       "    <tr>\n",
       "      <th>5</th>\n",
       "      <td>6</td>\n",
       "    </tr>\n",
       "  </tbody>\n",
       "</table>\n",
       "</div>"
      ],
      "text/plain": [
       "   Numbers per result count\n",
       "1                       590\n",
       "2                      1631\n",
       "3                      1323\n",
       "4                       418\n",
       "5                         6"
      ]
     },
     "execution_count": 27,
     "metadata": {},
     "output_type": "execute_result"
    }
   ],
   "source": [
    "numbered = geocode_result.dropna(subset=['street_number']).drop_duplicates(subset=['search_id', 'street_number'])\n",
    "numbered.groupby('search_id').count()['street_number'].value_counts().sort_index().to_frame('Numbers per result count')"
   ]
  },
  {
   "cell_type": "markdown",
   "metadata": {},
   "source": [
    "##### Count of unique routes found per location search"
   ]
  },
  {
   "cell_type": "code",
   "execution_count": 28,
   "metadata": {},
   "outputs": [
    {
     "data": {
      "text/html": [
       "<div>\n",
       "<style scoped>\n",
       "    .dataframe tbody tr th:only-of-type {\n",
       "        vertical-align: middle;\n",
       "    }\n",
       "\n",
       "    .dataframe tbody tr th {\n",
       "        vertical-align: top;\n",
       "    }\n",
       "\n",
       "    .dataframe thead th {\n",
       "        text-align: right;\n",
       "    }\n",
       "</style>\n",
       "<table border=\"1\" class=\"dataframe\">\n",
       "  <thead>\n",
       "    <tr style=\"text-align: right;\">\n",
       "      <th></th>\n",
       "      <th>Routes per result count</th>\n",
       "    </tr>\n",
       "  </thead>\n",
       "  <tbody>\n",
       "    <tr>\n",
       "      <th>1</th>\n",
       "      <td>1865</td>\n",
       "    </tr>\n",
       "    <tr>\n",
       "      <th>2</th>\n",
       "      <td>1828</td>\n",
       "    </tr>\n",
       "    <tr>\n",
       "      <th>3</th>\n",
       "      <td>258</td>\n",
       "    </tr>\n",
       "    <tr>\n",
       "      <th>4</th>\n",
       "      <td>28</td>\n",
       "    </tr>\n",
       "    <tr>\n",
       "      <th>5</th>\n",
       "      <td>2</td>\n",
       "    </tr>\n",
       "  </tbody>\n",
       "</table>\n",
       "</div>"
      ],
      "text/plain": [
       "   Routes per result count\n",
       "1                     1865\n",
       "2                     1828\n",
       "3                      258\n",
       "4                       28\n",
       "5                        2"
      ]
     },
     "execution_count": 28,
     "metadata": {},
     "output_type": "execute_result"
    }
   ],
   "source": [
    "has_route = geocode_result.dropna(subset=['route']).drop_duplicates(subset=['search_id', 'route'])\n",
    "has_route.groupby('search_id').count()['route'].value_counts().sort_index().to_frame('Routes per result count')"
   ]
  },
  {
   "cell_type": "markdown",
   "metadata": {},
   "source": [
    "##### Locations without a search result"
   ]
  },
  {
   "cell_type": "code",
   "execution_count": 30,
   "metadata": {},
   "outputs": [
    {
     "data": {
      "text/plain": [
       "23"
      ]
     },
     "execution_count": 30,
     "metadata": {},
     "output_type": "execute_result"
    }
   ],
   "source": [
    "len(catalog) - len(numbered['search_id'].unique()) # location without search results"
   ]
  },
  {
   "cell_type": "markdown",
   "metadata": {},
   "source": [
    "##### Results count per search"
   ]
  },
  {
   "cell_type": "code",
   "execution_count": 70,
   "metadata": {},
   "outputs": [
    {
     "data": {
      "text/html": [
       "<div>\n",
       "<style scoped>\n",
       "    .dataframe tbody tr th:only-of-type {\n",
       "        vertical-align: middle;\n",
       "    }\n",
       "\n",
       "    .dataframe tbody tr th {\n",
       "        vertical-align: top;\n",
       "    }\n",
       "\n",
       "    .dataframe thead th {\n",
       "        text-align: right;\n",
       "    }\n",
       "</style>\n",
       "<table border=\"1\" class=\"dataframe\">\n",
       "  <thead>\n",
       "    <tr style=\"text-align: right;\">\n",
       "      <th></th>\n",
       "      <th>street_number</th>\n",
       "      <th>route</th>\n",
       "    </tr>\n",
       "    <tr>\n",
       "      <th>count per search</th>\n",
       "      <th></th>\n",
       "      <th></th>\n",
       "    </tr>\n",
       "  </thead>\n",
       "  <tbody>\n",
       "    <tr>\n",
       "      <th>0.0</th>\n",
       "      <td>19.0</td>\n",
       "      <td>6</td>\n",
       "    </tr>\n",
       "    <tr>\n",
       "      <th>1.0</th>\n",
       "      <td>379.0</td>\n",
       "      <td>180</td>\n",
       "    </tr>\n",
       "    <tr>\n",
       "      <th>2.0</th>\n",
       "      <td>1018.0</td>\n",
       "      <td>558</td>\n",
       "    </tr>\n",
       "    <tr>\n",
       "      <th>3.0</th>\n",
       "      <td>1790.0</td>\n",
       "      <td>1068</td>\n",
       "    </tr>\n",
       "    <tr>\n",
       "      <th>4.0</th>\n",
       "      <td>747.0</td>\n",
       "      <td>1547</td>\n",
       "    </tr>\n",
       "    <tr>\n",
       "      <th>5.0</th>\n",
       "      <td>34.0</td>\n",
       "      <td>626</td>\n",
       "    </tr>\n",
       "    <tr>\n",
       "      <th>6.0</th>\n",
       "      <td>NaN</td>\n",
       "      <td>2</td>\n",
       "    </tr>\n",
       "  </tbody>\n",
       "</table>\n",
       "</div>"
      ],
      "text/plain": [
       "                  street_number  route\n",
       "count per search                      \n",
       "0.0                        19.0      6\n",
       "1.0                       379.0    180\n",
       "2.0                      1018.0    558\n",
       "3.0                      1790.0   1068\n",
       "4.0                       747.0   1547\n",
       "5.0                        34.0    626\n",
       "6.0                         NaN      2"
      ]
     },
     "execution_count": 70,
     "metadata": {},
     "output_type": "execute_result"
    }
   ],
   "source": [
    "notna_sum = geocode_result.set_index('search_id').notna().groupby('search_id').sum()\n",
    "per_search = pd.concat([notna_sum[col].value_counts().sort_index().to_frame() for col in ['street_number', 'route']], 1)\n",
    "per_search.index.name = 'count per search'; per_search"
   ]
  },
  {
   "cell_type": "markdown",
   "metadata": {},
   "source": [
    "#### Select first result of each search (most specific)"
   ]
  },
  {
   "cell_type": "markdown",
   "metadata": {},
   "source": [
    "##### Options to filter:\n",
    "1. Prioritize type 'street_address', then 'route', then 'establishment'/'premise'\n",
    "2. only if street_number is not missing\n",
    "3. Prioritize first street_number of each location search\n",
    "4. Smallest coordinate distances from original cordinates ***"
   ]
  },
  {
   "cell_type": "code",
   "execution_count": 46,
   "metadata": {},
   "outputs": [],
   "source": [
    "first_res = geocode_result.groupby('search_id').first()"
   ]
  },
  {
   "cell_type": "markdown",
   "metadata": {},
   "source": [
    "##### Percentage of unnumbered address in selected results"
   ]
  },
  {
   "cell_type": "code",
   "execution_count": 47,
   "metadata": {},
   "outputs": [
    {
     "name": "stdout",
     "output_type": "stream",
     "text": [
      "0.48 %\n"
     ]
    }
   ],
   "source": [
    "print(first_res['street_number'].isna().mean().round(4)*100, '%')"
   ]
  },
  {
   "cell_type": "markdown",
   "metadata": {},
   "source": [
    "##### Address Types Count in Selected Results"
   ]
  },
  {
   "cell_type": "code",
   "execution_count": 48,
   "metadata": {},
   "outputs": [
    {
     "data": {
      "image/png": "[encoded data removed]",
      "text/plain": [
       "<Figure size 360x216 with 1 Axes>"
      ]
     },
     "metadata": {},
     "output_type": "display_data"
    }
   ],
   "source": [
    "first_res['types'].value_counts().head(10).plot.bar(\n",
    "    figsize=(5,3), title='Locations Search Result Address Types Count'\n",
    "); plt.show()"
   ]
  },
  {
   "cell_type": "markdown",
   "metadata": {},
   "source": [
    "---\n",
    "# 5. Include geodecoded results to catalog"
   ]
  },
  {
   "cell_type": "code",
   "execution_count": 53,
   "metadata": {},
   "outputs": [
    {
     "data": {
      "text/html": [
       "<div>\n",
       "<style scoped>\n",
       "    .dataframe tbody tr th:only-of-type {\n",
       "        vertical-align: middle;\n",
       "    }\n",
       "\n",
       "    .dataframe tbody tr th {\n",
       "        vertical-align: top;\n",
       "    }\n",
       "\n",
       "    .dataframe thead th {\n",
       "        text-align: right;\n",
       "    }\n",
       "</style>\n",
       "<table border=\"1\" class=\"dataframe\">\n",
       "  <thead>\n",
       "    <tr style=\"text-align: right;\">\n",
       "      <th></th>\n",
       "      <th>EVENTO_ID</th>\n",
       "      <th>EVENTO_TITULO</th>\n",
       "      <th>EVENTO_DESCRICAO</th>\n",
       "      <th>EVENTO_GRAVIDADE</th>\n",
       "      <th>EVENTO_BAIRRO</th>\n",
       "      <th>STATUS</th>\n",
       "      <th>EVENTO_PRAZO</th>\n",
       "      <th>POP_TITULO</th>\n",
       "      <th>POP_DESCRICAO</th>\n",
       "      <th>evento_inicio</th>\n",
       "      <th>...</th>\n",
       "      <th>formatted_address</th>\n",
       "      <th>place_id</th>\n",
       "      <th>types</th>\n",
       "      <th>search_lat</th>\n",
       "      <th>search_lng</th>\n",
       "      <th>location_type</th>\n",
       "      <th>route</th>\n",
       "      <th>street_number</th>\n",
       "      <th>postal_code</th>\n",
       "      <th>premise</th>\n",
       "    </tr>\n",
       "  </thead>\n",
       "  <tbody>\n",
       "    <tr>\n",
       "      <th>0</th>\n",
       "      <td>111</td>\n",
       "      <td>Rompimento de adutora  - Lagoa</td>\n",
       "      <td>Avenida Borges de Medeiros, 3265 - Lagoa, Rio ...</td>\n",
       "      <td>MEDIO</td>\n",
       "      <td>NaN</td>\n",
       "      <td>FECHADO</td>\n",
       "      <td>NaN</td>\n",
       "      <td>Vazamento de água / esgoto</td>\n",
       "      <td>Vazamento de água / esgoto</td>\n",
       "      <td>2015-05-16 14:33:00</td>\n",
       "      <td>...</td>\n",
       "      <td>Av. Borges de Medeiros, 3285 - Lagoa, Rio de J...</td>\n",
       "      <td>ChIJV7nTZHfVmwARCuQ3cTjS4yQ</td>\n",
       "      <td>['street_address']</td>\n",
       "      <td>-22.962579</td>\n",
       "      <td>-43.210340</td>\n",
       "      <td>ROOFTOP</td>\n",
       "      <td>Avenida Borges de Medeiros</td>\n",
       "      <td>3285</td>\n",
       "      <td>22470-001</td>\n",
       "      <td>Condomínio Edificio Campo de Gardenias</td>\n",
       "    </tr>\n",
       "    <tr>\n",
       "      <th>1</th>\n",
       "      <td>185</td>\n",
       "      <td>Vazamento em adutora - Rio Comprido - Dano em ...</td>\n",
       "      <td>Rua Guaicurus, 54 - Rio Comprido</td>\n",
       "      <td>BAIXO</td>\n",
       "      <td>NaN</td>\n",
       "      <td>FECHADO</td>\n",
       "      <td>NaN</td>\n",
       "      <td>Vazamento de água / esgoto</td>\n",
       "      <td>Vazamento de água / esgoto</td>\n",
       "      <td>2015-06-02 11:55:00</td>\n",
       "      <td>...</td>\n",
       "      <td>R. Guaicurus, 1 - Rio Comprido, Rio de Janeiro...</td>\n",
       "      <td>ChIJqbg2CrB_mQARbghgcWLoLcU</td>\n",
       "      <td>['street_address']</td>\n",
       "      <td>-22.926818</td>\n",
       "      <td>-43.203156</td>\n",
       "      <td>ROOFTOP</td>\n",
       "      <td>Rua Guaicurus</td>\n",
       "      <td>1</td>\n",
       "      <td>20251-100</td>\n",
       "      <td>NaN</td>\n",
       "    </tr>\n",
       "    <tr>\n",
       "      <th>2</th>\n",
       "      <td>301</td>\n",
       "      <td>Vazamento Água</td>\n",
       "      <td>Avenida Borges de Medeiros, 3647 - Lagoa</td>\n",
       "      <td>BAIXO</td>\n",
       "      <td>NaN</td>\n",
       "      <td>FECHADO</td>\n",
       "      <td>NaN</td>\n",
       "      <td>Vazamento de água / esgoto</td>\n",
       "      <td>Vazamento de água / esgoto</td>\n",
       "      <td>2015-06-20 12:54:00</td>\n",
       "      <td>...</td>\n",
       "      <td>Av. Borges de Medeiros, 3669 - Lagoa, Rio de J...</td>\n",
       "      <td>ChIJle_kZHrVmwARYySwO9w6ido</td>\n",
       "      <td>['establishment', 'point_of_interest']</td>\n",
       "      <td>-22.962635</td>\n",
       "      <td>-43.206679</td>\n",
       "      <td>ROOFTOP</td>\n",
       "      <td>Avenida Borges de Medeiros</td>\n",
       "      <td>3669</td>\n",
       "      <td>22470-001</td>\n",
       "      <td>NaN</td>\n",
       "    </tr>\n",
       "    <tr>\n",
       "      <th>3</th>\n",
       "      <td>426</td>\n",
       "      <td>Afundamento de pista</td>\n",
       "      <td>Rua Gomes Carneiro-124 - Ipanema</td>\n",
       "      <td>BAIXO</td>\n",
       "      <td>NaN</td>\n",
       "      <td>FECHADO</td>\n",
       "      <td>NaN</td>\n",
       "      <td>Vazamento de água / esgoto</td>\n",
       "      <td>Vazamento de água / esgoto</td>\n",
       "      <td>2015-07-04 19:33:00</td>\n",
       "      <td>...</td>\n",
       "      <td>R. Caning, 6 - Copacabana, Rio de Janeiro - RJ...</td>\n",
       "      <td>ChIJNWNRxxfVmwARA2d3WzQgmTY</td>\n",
       "      <td>['establishment', 'premise']</td>\n",
       "      <td>-22.984814</td>\n",
       "      <td>-43.195270</td>\n",
       "      <td>ROOFTOP</td>\n",
       "      <td>Rua Caning</td>\n",
       "      <td>6</td>\n",
       "      <td>22081-040</td>\n",
       "      <td>NaN</td>\n",
       "    </tr>\n",
       "    <tr>\n",
       "      <th>4</th>\n",
       "      <td>440</td>\n",
       "      <td>Vazamento de Água</td>\n",
       "      <td>Rua Prudente de Morais, 660 - Ipanema</td>\n",
       "      <td>BAIXO</td>\n",
       "      <td>NaN</td>\n",
       "      <td>FECHADO</td>\n",
       "      <td>NaN</td>\n",
       "      <td>Vazamento de água / esgoto</td>\n",
       "      <td>Vazamento de água / esgoto</td>\n",
       "      <td>2015-07-07 10:28:00</td>\n",
       "      <td>...</td>\n",
       "      <td>R. Vinícius de Moraes, 53a - Ipanema, Rio de J...</td>\n",
       "      <td>ChIJx89kxhrVmwARUpJz5Ih_Yc8</td>\n",
       "      <td>['street_address']</td>\n",
       "      <td>-22.985166</td>\n",
       "      <td>-43.203040</td>\n",
       "      <td>ROOFTOP</td>\n",
       "      <td>Rua Vinícius de Moraes</td>\n",
       "      <td>53a</td>\n",
       "      <td>22411-010</td>\n",
       "      <td>NaN</td>\n",
       "    </tr>\n",
       "  </tbody>\n",
       "</table>\n",
       "<p>5 rows × 23 columns</p>\n",
       "</div>"
      ],
      "text/plain": [
       "   EVENTO_ID                                      EVENTO_TITULO  \\\n",
       "0        111                     Rompimento de adutora  - Lagoa   \n",
       "1        185  Vazamento em adutora - Rio Comprido - Dano em ...   \n",
       "2        301                                     Vazamento Água   \n",
       "3        426                               Afundamento de pista   \n",
       "4        440                                  Vazamento de Água   \n",
       "\n",
       "                                    EVENTO_DESCRICAO EVENTO_GRAVIDADE  \\\n",
       "0  Avenida Borges de Medeiros, 3265 - Lagoa, Rio ...            MEDIO   \n",
       "1                   Rua Guaicurus, 54 - Rio Comprido            BAIXO   \n",
       "2           Avenida Borges de Medeiros, 3647 - Lagoa            BAIXO   \n",
       "3                   Rua Gomes Carneiro-124 - Ipanema            BAIXO   \n",
       "4              Rua Prudente de Morais, 660 - Ipanema            BAIXO   \n",
       "\n",
       "  EVENTO_BAIRRO   STATUS EVENTO_PRAZO                  POP_TITULO  \\\n",
       "0           NaN  FECHADO          NaN  Vazamento de água / esgoto   \n",
       "1           NaN  FECHADO          NaN  Vazamento de água / esgoto   \n",
       "2           NaN  FECHADO          NaN  Vazamento de água / esgoto   \n",
       "3           NaN  FECHADO          NaN  Vazamento de água / esgoto   \n",
       "4           NaN  FECHADO          NaN  Vazamento de água / esgoto   \n",
       "\n",
       "                POP_DESCRICAO       evento_inicio  ...  \\\n",
       "0  Vazamento de água / esgoto 2015-05-16 14:33:00  ...   \n",
       "1  Vazamento de água / esgoto 2015-06-02 11:55:00  ...   \n",
       "2  Vazamento de água / esgoto 2015-06-20 12:54:00  ...   \n",
       "3  Vazamento de água / esgoto 2015-07-04 19:33:00  ...   \n",
       "4  Vazamento de água / esgoto 2015-07-07 10:28:00  ...   \n",
       "\n",
       "                                   formatted_address  \\\n",
       "0  Av. Borges de Medeiros, 3285 - Lagoa, Rio de J...   \n",
       "1  R. Guaicurus, 1 - Rio Comprido, Rio de Janeiro...   \n",
       "2  Av. Borges de Medeiros, 3669 - Lagoa, Rio de J...   \n",
       "3  R. Caning, 6 - Copacabana, Rio de Janeiro - RJ...   \n",
       "4  R. Vinícius de Moraes, 53a - Ipanema, Rio de J...   \n",
       "\n",
       "                      place_id                                   types  \\\n",
       "0  ChIJV7nTZHfVmwARCuQ3cTjS4yQ                      ['street_address']   \n",
       "1  ChIJqbg2CrB_mQARbghgcWLoLcU                      ['street_address']   \n",
       "2  ChIJle_kZHrVmwARYySwO9w6ido  ['establishment', 'point_of_interest']   \n",
       "3  ChIJNWNRxxfVmwARA2d3WzQgmTY            ['establishment', 'premise']   \n",
       "4  ChIJx89kxhrVmwARUpJz5Ih_Yc8                      ['street_address']   \n",
       "\n",
       "  search_lat search_lng location_type                       route  \\\n",
       "0 -22.962579 -43.210340       ROOFTOP  Avenida Borges de Medeiros   \n",
       "1 -22.926818 -43.203156       ROOFTOP               Rua Guaicurus   \n",
       "2 -22.962635 -43.206679       ROOFTOP  Avenida Borges de Medeiros   \n",
       "3 -22.984814 -43.195270       ROOFTOP                  Rua Caning   \n",
       "4 -22.985166 -43.203040       ROOFTOP      Rua Vinícius de Moraes   \n",
       "\n",
       "   street_number postal_code                                 premise  \n",
       "0           3285   22470-001  Condomínio Edificio Campo de Gardenias  \n",
       "1              1   20251-100                                     NaN  \n",
       "2           3669   22470-001                                     NaN  \n",
       "3              6   22081-040                                     NaN  \n",
       "4            53a   22411-010                                     NaN  \n",
       "\n",
       "[5 rows x 23 columns]"
      ]
     },
     "execution_count": 53,
     "metadata": {},
     "output_type": "execute_result"
    }
   ],
   "source": [
    "geocode_keep_cols = [\n",
    "    'formatted_address', 'place_id',\n",
    "    'types', 'lat', 'lng', 'location_type', 'route',\n",
    "    'street_number', 'postal_code', 'premise', \n",
    "]\n",
    "\n",
    "# catalog['search_index'] = np.arange(len(catalog))\n",
    "selected_geocode = first_res[geocode_keep_cols].reset_index(drop=False).rename(columns={\n",
    "    'search_id': 'EVENTO_ID',\n",
    "    'lat': 'search_lat',\n",
    "    'lng': 'search_lng'\n",
    "})\n",
    "\n",
    "full_catalog = pd.merge(  # auto exclude incidents without geocoded result\n",
    "    catalog.reset_index(drop=False),\n",
    "    selected_geocode,\n",
    "    on='EVENTO_ID'\n",
    ")\n",
    "\n",
    "full_catalog.head()"
   ]
  },
  {
   "cell_type": "markdown",
   "metadata": {},
   "source": [
    "### Measures of searched coordinates difference from original coordinates"
   ]
  },
  {
   "cell_type": "code",
   "execution_count": 73,
   "metadata": {},
   "outputs": [
    {
     "data": {
      "image/png": "[encoded data removed]",
      "text/plain": [
       "<Figure size 648x216 with 2 Axes>"
      ]
     },
     "metadata": {},
     "output_type": "display_data"
    }
   ],
   "source": [
    "lat_diff = abs(full_catalog['search_lat'] - full_catalog['lat'])\n",
    "lng_diff = abs(full_catalog['search_lng'] - full_catalog['lng'])\n",
    "lat_prct, lng_prct = ( pd.Series(np.percentile(diff, range(101))) for diff in [lat_diff, lng_diff] )\n",
    "\n",
    "fig, ax = plt.subplots(1, 2, figsize=(9, 3), tight_layout=True)\n",
    "lat_prct.plot(ax=ax[0])\n",
    "lng_prct.plot(ax=ax[1])\n",
    "for i, col in zip([0,1], ['Latitude', 'Longitude']):\n",
    "    ax[i].set(\n",
    "        ylim=(-0.0001, 0.001),\n",
    "        title=f'Searched {col} Difference Percentile',\n",
    "        ylabel='Coordinate difference',\n",
    "        xlabel='Percentile (%)'\n",
    "    )\n",
    "plt.show()"
   ]
  },
  {
   "cell_type": "code",
   "execution_count": 76,
   "metadata": {},
   "outputs": [
    {
     "data": {
      "image/png": "[encoded data removed]",
      "text/plain": [
       "<Figure size 360x216 with 1 Axes>"
      ]
     },
     "metadata": {},
     "output_type": "display_data"
    }
   ],
   "source": [
    "hypho_diff = (lat_diff**2 + lng_diff**2)**0.5\n",
    "hypho_prct = pd.Series(np.percentile(hypho_diff, range(101)))\n",
    "\n",
    "fig, ax = plt.subplots(1, 1, figsize=(5, 3), tight_layout=False)\n",
    "hypho_prct.plot(ax=ax)\n",
    "ax.set(\n",
    "    ylim=(-0.0001, 0.001),\n",
    "    title=f'Searched Coordinates Difference Percentile',\n",
    "    ylabel='Coordinate difference',\n",
    "    xlabel='Percentile (%)'\n",
    "); plt.show()"
   ]
  },
  {
   "cell_type": "markdown",
   "metadata": {},
   "source": [
    "#### Drop results more than 0.0005 distant from originaal coordinates"
   ]
  },
  {
   "cell_type": "code",
   "execution_count": 83,
   "metadata": {},
   "outputs": [
    {
     "data": {
      "text/html": [
       "<div>\n",
       "<style scoped>\n",
       "    .dataframe tbody tr th:only-of-type {\n",
       "        vertical-align: middle;\n",
       "    }\n",
       "\n",
       "    .dataframe tbody tr th {\n",
       "        vertical-align: top;\n",
       "    }\n",
       "\n",
       "    .dataframe thead th {\n",
       "        text-align: right;\n",
       "    }\n",
       "</style>\n",
       "<table border=\"1\" class=\"dataframe\">\n",
       "  <thead>\n",
       "    <tr style=\"text-align: right;\">\n",
       "      <th></th>\n",
       "      <th>EVENTO_ID</th>\n",
       "      <th>EVENTO_TITULO</th>\n",
       "      <th>EVENTO_DESCRICAO</th>\n",
       "      <th>EVENTO_GRAVIDADE</th>\n",
       "      <th>EVENTO_BAIRRO</th>\n",
       "      <th>STATUS</th>\n",
       "      <th>EVENTO_PRAZO</th>\n",
       "      <th>POP_TITULO</th>\n",
       "      <th>POP_DESCRICAO</th>\n",
       "      <th>evento_inicio</th>\n",
       "      <th>...</th>\n",
       "      <th>formatted_address</th>\n",
       "      <th>place_id</th>\n",
       "      <th>types</th>\n",
       "      <th>search_lat</th>\n",
       "      <th>search_lng</th>\n",
       "      <th>location_type</th>\n",
       "      <th>route</th>\n",
       "      <th>street_number</th>\n",
       "      <th>postal_code</th>\n",
       "      <th>premise</th>\n",
       "    </tr>\n",
       "  </thead>\n",
       "  <tbody>\n",
       "    <tr>\n",
       "      <th>205</th>\n",
       "      <td>4508</td>\n",
       "      <td>Bolsão D'água</td>\n",
       "      <td>Estrada do Galeão, 3986-4726 - Portuguesa</td>\n",
       "      <td>BAIXO</td>\n",
       "      <td>NaN</td>\n",
       "      <td>FECHADO</td>\n",
       "      <td>NaN</td>\n",
       "      <td>Bolsão d'água em via</td>\n",
       "      <td>Bolsão d'água em via</td>\n",
       "      <td>2016-03-24 01:57:00</td>\n",
       "      <td>...</td>\n",
       "      <td>Estrada do Galeão, 4365 - Meier, Rio de Janeir...</td>\n",
       "      <td>ChIJ4RSQrsl5mQARBBh9S_PYrGM</td>\n",
       "      <td>['street_address']</td>\n",
       "      <td>-22.813667</td>\n",
       "      <td>-43.220397</td>\n",
       "      <td>ROOFTOP</td>\n",
       "      <td>Estrada do Galeão</td>\n",
       "      <td>4365</td>\n",
       "      <td>21941-353</td>\n",
       "      <td>NaN</td>\n",
       "    </tr>\n",
       "    <tr>\n",
       "      <th>207</th>\n",
       "      <td>6472</td>\n",
       "      <td>Bolsão d'água</td>\n",
       "      <td>Mergulhão Billy Blanco - Barra</td>\n",
       "      <td>BAIXO</td>\n",
       "      <td>NaN</td>\n",
       "      <td>FECHADO</td>\n",
       "      <td>NaN</td>\n",
       "      <td>Bolsão d'água em via</td>\n",
       "      <td>Bolsão d'água em via</td>\n",
       "      <td>2016-06-07 09:13:00</td>\n",
       "      <td>...</td>\n",
       "      <td>Barra da Tijuca, Rio de Janeiro - RJ, 22630, B...</td>\n",
       "      <td>ChIJ_4m1OU_amwARIL5PthwjqhQ</td>\n",
       "      <td>['postal_code', 'postal_code_prefix']</td>\n",
       "      <td>-23.004181</td>\n",
       "      <td>-43.360841</td>\n",
       "      <td>APPROXIMATE</td>\n",
       "      <td>Avenida das Américas</td>\n",
       "      <td>NaN</td>\n",
       "      <td>22640-102</td>\n",
       "      <td>NaN</td>\n",
       "    </tr>\n",
       "    <tr>\n",
       "      <th>241</th>\n",
       "      <td>11780</td>\n",
       "      <td>Bolsão de Água</td>\n",
       "      <td>Av. Borges de Medeiros - Lagoa - Alt. da Saída...</td>\n",
       "      <td>BAIXO</td>\n",
       "      <td>NaN</td>\n",
       "      <td>FECHADO</td>\n",
       "      <td>NaN</td>\n",
       "      <td>Bolsão d'água em via</td>\n",
       "      <td>Bolsão d'água em via</td>\n",
       "      <td>2016-11-05 17:04:00</td>\n",
       "      <td>...</td>\n",
       "      <td>R. 6, 35 - Lagoa, Rio de Janeiro - RJ, Brasil</td>\n",
       "      <td>ChIJNRKTY6HVmwAR9tPIskKmSJU</td>\n",
       "      <td>['premise']</td>\n",
       "      <td>-22.972268</td>\n",
       "      <td>-43.218023</td>\n",
       "      <td>ROOFTOP</td>\n",
       "      <td>Rua 6</td>\n",
       "      <td>35</td>\n",
       "      <td>NaN</td>\n",
       "      <td>NaN</td>\n",
       "    </tr>\n",
       "    <tr>\n",
       "      <th>270</th>\n",
       "      <td>13328</td>\n",
       "      <td>Rompimento de Adutora</td>\n",
       "      <td>Estr. do Lameirão, 1030 - Santíssimo - Alt. R....</td>\n",
       "      <td>BAIXO</td>\n",
       "      <td>NaN</td>\n",
       "      <td>FECHADO</td>\n",
       "      <td>NaN</td>\n",
       "      <td>Vazamento de água / esgoto</td>\n",
       "      <td>Vazamento de água / esgoto</td>\n",
       "      <td>2017-01-04 11:54:00</td>\n",
       "      <td>...</td>\n",
       "      <td>Estr. do Lameirão, 39925 - Santíssimo, Rio de ...</td>\n",
       "      <td>ChIJ0VnlaMjhmwARwAdcwZPYE58</td>\n",
       "      <td>['street_address']</td>\n",
       "      <td>-22.861107</td>\n",
       "      <td>-43.531602</td>\n",
       "      <td>ROOFTOP</td>\n",
       "      <td>Estrada do Lameirão</td>\n",
       "      <td>39925</td>\n",
       "      <td>23092-031</td>\n",
       "      <td>NaN</td>\n",
       "    </tr>\n",
       "    <tr>\n",
       "      <th>310</th>\n",
       "      <td>14448</td>\n",
       "      <td>Vazamento de Água</td>\n",
       "      <td>AutoEstrada Grajaú - JPA, Km 1,5</td>\n",
       "      <td>BAIXO</td>\n",
       "      <td>NaN</td>\n",
       "      <td>FECHADO</td>\n",
       "      <td>NaN</td>\n",
       "      <td>Vazamento de água / esgoto</td>\n",
       "      <td>Vazamento de água / esgoto</td>\n",
       "      <td>2017-02-15 07:09:00</td>\n",
       "      <td>...</td>\n",
       "      <td>Rio de Janeiro - RJ, 20720, Brasil</td>\n",
       "      <td>ChIJ8z1IddbXmwARbiU1Pv7iaKg</td>\n",
       "      <td>['postal_code', 'postal_code_prefix']</td>\n",
       "      <td>-22.926994</td>\n",
       "      <td>-43.293239</td>\n",
       "      <td>APPROXIMATE</td>\n",
       "      <td>NaN</td>\n",
       "      <td>NaN</td>\n",
       "      <td>NaN</td>\n",
       "      <td>NaN</td>\n",
       "    </tr>\n",
       "    <tr>\n",
       "      <th>...</th>\n",
       "      <td>...</td>\n",
       "      <td>...</td>\n",
       "      <td>...</td>\n",
       "      <td>...</td>\n",
       "      <td>...</td>\n",
       "      <td>...</td>\n",
       "      <td>...</td>\n",
       "      <td>...</td>\n",
       "      <td>...</td>\n",
       "      <td>...</td>\n",
       "      <td>...</td>\n",
       "      <td>...</td>\n",
       "      <td>...</td>\n",
       "      <td>...</td>\n",
       "      <td>...</td>\n",
       "      <td>...</td>\n",
       "      <td>...</td>\n",
       "      <td>...</td>\n",
       "      <td>...</td>\n",
       "      <td>...</td>\n",
       "      <td>...</td>\n",
       "    </tr>\n",
       "    <tr>\n",
       "      <th>3817</th>\n",
       "      <td>72896</td>\n",
       "      <td>Bolsão d'água em via</td>\n",
       "      <td>Av. Borges de Medeiros, Alt. R. Gen. Tasso Fra...</td>\n",
       "      <td>BAIXO</td>\n",
       "      <td>Lagoa</td>\n",
       "      <td>FECHADO</td>\n",
       "      <td>CURTO</td>\n",
       "      <td>Bolsão d'água em via</td>\n",
       "      <td>Bolsão d'água em via</td>\n",
       "      <td>2022-04-01 21:58:00</td>\n",
       "      <td>...</td>\n",
       "      <td>R. 6, 35 - Lagoa, Rio de Janeiro - RJ, Brasil</td>\n",
       "      <td>ChIJNRKTY6HVmwAR9tPIskKmSJU</td>\n",
       "      <td>['premise']</td>\n",
       "      <td>-22.972268</td>\n",
       "      <td>-43.218023</td>\n",
       "      <td>ROOFTOP</td>\n",
       "      <td>Rua 6</td>\n",
       "      <td>35</td>\n",
       "      <td>NaN</td>\n",
       "      <td>NaN</td>\n",
       "    </tr>\n",
       "    <tr>\n",
       "      <th>3818</th>\n",
       "      <td>72897</td>\n",
       "      <td>Bolsão d'água em via</td>\n",
       "      <td>Avenida Borges de Medeiros, Alt. Av. Lineu de ...</td>\n",
       "      <td>BAIXO</td>\n",
       "      <td>Lagoa</td>\n",
       "      <td>FECHADO</td>\n",
       "      <td>CURTO</td>\n",
       "      <td>Bolsão d'água em via</td>\n",
       "      <td>Bolsão d'água em via</td>\n",
       "      <td>2022-04-01 22:00:00</td>\n",
       "      <td>...</td>\n",
       "      <td>R. 6, 35 - Lagoa, Rio de Janeiro - RJ, Brasil</td>\n",
       "      <td>ChIJNRKTY6HVmwAR9tPIskKmSJU</td>\n",
       "      <td>['premise']</td>\n",
       "      <td>-22.972268</td>\n",
       "      <td>-43.218023</td>\n",
       "      <td>ROOFTOP</td>\n",
       "      <td>Rua 6</td>\n",
       "      <td>35</td>\n",
       "      <td>NaN</td>\n",
       "      <td>NaN</td>\n",
       "    </tr>\n",
       "    <tr>\n",
       "      <th>3820</th>\n",
       "      <td>72901</td>\n",
       "      <td>Bolsão d'água em via ( Cam 259 )</td>\n",
       "      <td>Av. Borges De Medeiros - Alt. Parque dos Patin...</td>\n",
       "      <td>MEDIO</td>\n",
       "      <td>Lagoa</td>\n",
       "      <td>ABERTO</td>\n",
       "      <td>CURTO</td>\n",
       "      <td>Bolsão d'água em via</td>\n",
       "      <td>Bolsão d'água em via</td>\n",
       "      <td>2022-04-01 22:11:00</td>\n",
       "      <td>...</td>\n",
       "      <td>R. 6, 35 - Lagoa, Rio de Janeiro - RJ, Brasil</td>\n",
       "      <td>ChIJNRKTY6HVmwAR9tPIskKmSJU</td>\n",
       "      <td>['premise']</td>\n",
       "      <td>-22.972268</td>\n",
       "      <td>-43.218023</td>\n",
       "      <td>ROOFTOP</td>\n",
       "      <td>Rua 6</td>\n",
       "      <td>35</td>\n",
       "      <td>NaN</td>\n",
       "      <td>NaN</td>\n",
       "    </tr>\n",
       "    <tr>\n",
       "      <th>3840</th>\n",
       "      <td>72934</td>\n",
       "      <td>Bolsão d'água em via</td>\n",
       "      <td>Avenida Borges de Medeiros - Alt. Parque dos P...</td>\n",
       "      <td>BAIXO</td>\n",
       "      <td>Lagoa</td>\n",
       "      <td>FECHADO</td>\n",
       "      <td>CURTO</td>\n",
       "      <td>Bolsão d'água em via</td>\n",
       "      <td>Bolsão d'água em via</td>\n",
       "      <td>2022-04-02 06:03:00</td>\n",
       "      <td>...</td>\n",
       "      <td>R. 6, 35 - Lagoa, Rio de Janeiro - RJ, Brasil</td>\n",
       "      <td>ChIJNRKTY6HVmwAR9tPIskKmSJU</td>\n",
       "      <td>['premise']</td>\n",
       "      <td>-22.972268</td>\n",
       "      <td>-43.218023</td>\n",
       "      <td>ROOFTOP</td>\n",
       "      <td>Rua 6</td>\n",
       "      <td>35</td>\n",
       "      <td>NaN</td>\n",
       "      <td>NaN</td>\n",
       "    </tr>\n",
       "    <tr>\n",
       "      <th>3846</th>\n",
       "      <td>72959</td>\n",
       "      <td>Bolsão d'água em via</td>\n",
       "      <td>Av. Epitácio Pessoa - Alt. Parque da Catacumba</td>\n",
       "      <td>BAIXO</td>\n",
       "      <td>NaN</td>\n",
       "      <td>FECHADO</td>\n",
       "      <td>CURTO</td>\n",
       "      <td>Bolsão d'água em via</td>\n",
       "      <td>Bolsão d'água em via</td>\n",
       "      <td>2022-04-02 09:58:00</td>\n",
       "      <td>...</td>\n",
       "      <td>R. Casuarina, 705 - Lagoa, Rio de Janeiro - RJ...</td>\n",
       "      <td>ChIJW-pVBWTVmwAR8sjrVQtgkj0</td>\n",
       "      <td>['premise']</td>\n",
       "      <td>-22.961655</td>\n",
       "      <td>-43.199476</td>\n",
       "      <td>ROOFTOP</td>\n",
       "      <td>Rua Casuarina</td>\n",
       "      <td>705</td>\n",
       "      <td>22261-160</td>\n",
       "      <td>NaN</td>\n",
       "    </tr>\n",
       "  </tbody>\n",
       "</table>\n",
       "<p>174 rows × 23 columns</p>\n",
       "</div>"
      ],
      "text/plain": [
       "      EVENTO_ID                     EVENTO_TITULO  \\\n",
       "205        4508                     Bolsão D'água   \n",
       "207        6472                     Bolsão d'água   \n",
       "241       11780                    Bolsão de Água   \n",
       "270       13328             Rompimento de Adutora   \n",
       "310       14448                 Vazamento de Água   \n",
       "...         ...                               ...   \n",
       "3817      72896              Bolsão d'água em via   \n",
       "3818      72897              Bolsão d'água em via   \n",
       "3820      72901  Bolsão d'água em via ( Cam 259 )   \n",
       "3840      72934              Bolsão d'água em via   \n",
       "3846      72959              Bolsão d'água em via   \n",
       "\n",
       "                                       EVENTO_DESCRICAO EVENTO_GRAVIDADE  \\\n",
       "205           Estrada do Galeão, 3986-4726 - Portuguesa            BAIXO   \n",
       "207                     Mergulhão Billy Blanco - Barra             BAIXO   \n",
       "241   Av. Borges de Medeiros - Lagoa - Alt. da Saída...            BAIXO   \n",
       "270   Estr. do Lameirão, 1030 - Santíssimo - Alt. R....            BAIXO   \n",
       "310                    AutoEstrada Grajaú - JPA, Km 1,5            BAIXO   \n",
       "...                                                 ...              ...   \n",
       "3817  Av. Borges de Medeiros, Alt. R. Gen. Tasso Fra...            BAIXO   \n",
       "3818  Avenida Borges de Medeiros, Alt. Av. Lineu de ...            BAIXO   \n",
       "3820  Av. Borges De Medeiros - Alt. Parque dos Patin...            MEDIO   \n",
       "3840  Avenida Borges de Medeiros - Alt. Parque dos P...            BAIXO   \n",
       "3846     Av. Epitácio Pessoa - Alt. Parque da Catacumba            BAIXO   \n",
       "\n",
       "     EVENTO_BAIRRO   STATUS EVENTO_PRAZO                  POP_TITULO  \\\n",
       "205            NaN  FECHADO          NaN        Bolsão d'água em via   \n",
       "207            NaN  FECHADO          NaN        Bolsão d'água em via   \n",
       "241            NaN  FECHADO          NaN        Bolsão d'água em via   \n",
       "270            NaN  FECHADO          NaN  Vazamento de água / esgoto   \n",
       "310            NaN  FECHADO          NaN  Vazamento de água / esgoto   \n",
       "...            ...      ...          ...                         ...   \n",
       "3817         Lagoa  FECHADO        CURTO        Bolsão d'água em via   \n",
       "3818         Lagoa  FECHADO        CURTO        Bolsão d'água em via   \n",
       "3820         Lagoa   ABERTO        CURTO        Bolsão d'água em via   \n",
       "3840         Lagoa  FECHADO        CURTO        Bolsão d'água em via   \n",
       "3846           NaN  FECHADO        CURTO        Bolsão d'água em via   \n",
       "\n",
       "                   POP_DESCRICAO       evento_inicio  ...  \\\n",
       "205         Bolsão d'água em via 2016-03-24 01:57:00  ...   \n",
       "207         Bolsão d'água em via 2016-06-07 09:13:00  ...   \n",
       "241         Bolsão d'água em via 2016-11-05 17:04:00  ...   \n",
       "270   Vazamento de água / esgoto 2017-01-04 11:54:00  ...   \n",
       "310   Vazamento de água / esgoto 2017-02-15 07:09:00  ...   \n",
       "...                          ...                 ...  ...   \n",
       "3817        Bolsão d'água em via 2022-04-01 21:58:00  ...   \n",
       "3818        Bolsão d'água em via 2022-04-01 22:00:00  ...   \n",
       "3820        Bolsão d'água em via 2022-04-01 22:11:00  ...   \n",
       "3840        Bolsão d'água em via 2022-04-02 06:03:00  ...   \n",
       "3846        Bolsão d'água em via 2022-04-02 09:58:00  ...   \n",
       "\n",
       "                                      formatted_address  \\\n",
       "205   Estrada do Galeão, 4365 - Meier, Rio de Janeir...   \n",
       "207   Barra da Tijuca, Rio de Janeiro - RJ, 22630, B...   \n",
       "241       R. 6, 35 - Lagoa, Rio de Janeiro - RJ, Brasil   \n",
       "270   Estr. do Lameirão, 39925 - Santíssimo, Rio de ...   \n",
       "310                  Rio de Janeiro - RJ, 20720, Brasil   \n",
       "...                                                 ...   \n",
       "3817      R. 6, 35 - Lagoa, Rio de Janeiro - RJ, Brasil   \n",
       "3818      R. 6, 35 - Lagoa, Rio de Janeiro - RJ, Brasil   \n",
       "3820      R. 6, 35 - Lagoa, Rio de Janeiro - RJ, Brasil   \n",
       "3840      R. 6, 35 - Lagoa, Rio de Janeiro - RJ, Brasil   \n",
       "3846  R. Casuarina, 705 - Lagoa, Rio de Janeiro - RJ...   \n",
       "\n",
       "                         place_id                                  types  \\\n",
       "205   ChIJ4RSQrsl5mQARBBh9S_PYrGM                     ['street_address']   \n",
       "207   ChIJ_4m1OU_amwARIL5PthwjqhQ  ['postal_code', 'postal_code_prefix']   \n",
       "241   ChIJNRKTY6HVmwAR9tPIskKmSJU                            ['premise']   \n",
       "270   ChIJ0VnlaMjhmwARwAdcwZPYE58                     ['street_address']   \n",
       "310   ChIJ8z1IddbXmwARbiU1Pv7iaKg  ['postal_code', 'postal_code_prefix']   \n",
       "...                           ...                                    ...   \n",
       "3817  ChIJNRKTY6HVmwAR9tPIskKmSJU                            ['premise']   \n",
       "3818  ChIJNRKTY6HVmwAR9tPIskKmSJU                            ['premise']   \n",
       "3820  ChIJNRKTY6HVmwAR9tPIskKmSJU                            ['premise']   \n",
       "3840  ChIJNRKTY6HVmwAR9tPIskKmSJU                            ['premise']   \n",
       "3846  ChIJW-pVBWTVmwAR8sjrVQtgkj0                            ['premise']   \n",
       "\n",
       "     search_lat search_lng location_type                 route  street_number  \\\n",
       "205  -22.813667 -43.220397       ROOFTOP     Estrada do Galeão           4365   \n",
       "207  -23.004181 -43.360841   APPROXIMATE  Avenida das Américas            NaN   \n",
       "241  -22.972268 -43.218023       ROOFTOP                 Rua 6             35   \n",
       "270  -22.861107 -43.531602       ROOFTOP   Estrada do Lameirão          39925   \n",
       "310  -22.926994 -43.293239   APPROXIMATE                   NaN            NaN   \n",
       "...         ...        ...           ...                   ...            ...   \n",
       "3817 -22.972268 -43.218023       ROOFTOP                 Rua 6             35   \n",
       "3818 -22.972268 -43.218023       ROOFTOP                 Rua 6             35   \n",
       "3820 -22.972268 -43.218023       ROOFTOP                 Rua 6             35   \n",
       "3840 -22.972268 -43.218023       ROOFTOP                 Rua 6             35   \n",
       "3846 -22.961655 -43.199476       ROOFTOP         Rua Casuarina            705   \n",
       "\n",
       "     postal_code premise  \n",
       "205    21941-353     NaN  \n",
       "207    22640-102     NaN  \n",
       "241          NaN     NaN  \n",
       "270    23092-031     NaN  \n",
       "310          NaN     NaN  \n",
       "...          ...     ...  \n",
       "3817         NaN     NaN  \n",
       "3818         NaN     NaN  \n",
       "3820         NaN     NaN  \n",
       "3840         NaN     NaN  \n",
       "3846   22261-160     NaN  \n",
       "\n",
       "[174 rows x 23 columns]"
      ]
     },
     "execution_count": 83,
     "metadata": {},
     "output_type": "execute_result"
    }
   ],
   "source": [
    "# full_catalog = \n",
    "full_catalog[hypho_diff>0.0005]"
   ]
  },
  {
   "cell_type": "markdown",
   "metadata": {},
   "source": [
    "### Save and reload final catalog of incidents"
   ]
  },
  {
   "cell_type": "code",
   "execution_count": 58,
   "metadata": {},
   "outputs": [
    {
     "data": {
      "text/plain": [
       "(3987, 23)"
      ]
     },
     "execution_count": 58,
     "metadata": {},
     "output_type": "execute_result"
    }
   ],
   "source": [
    "# full_catalog.to_csv('dados/incident_catalog.csv', index=False)\n",
    "full_catalog = pd.read_csv('dados/incident_catalog.csv')\n",
    "\n",
    "full_catalog.shape"
   ]
  },
  {
   "cell_type": "markdown",
   "metadata": {},
   "source": [
    "---\n",
    "# 6. EXTRA: Search for missing incidents of specific categories in text records"
   ]
  },
  {
   "cell_type": "markdown",
   "metadata": {},
   "source": [
    "#### Function to search for terms in pandas series of type string"
   ]
  },
  {
   "cell_type": "code",
   "execution_count": 60,
   "metadata": {},
   "outputs": [],
   "source": [
    "def drop_accents(string):\n",
    "    item = string.lower()\n",
    "    for a, b in zip(\n",
    "        ['á', 'ã', 'â', 'é', 'í', 'ó', 'õ', 'ú', 'ç'],\n",
    "        ['a', 'a', 'a', 'e', 'i', 'o', 'o', 'u', 'c']\n",
    "    ):\n",
    "        item = item.replace(a, b)\n",
    "    return item\n",
    "\n",
    "def search_records(records, queries, avoid=[], report_interval=10000): # accepts records argument as pandas series\n",
    "    matches = []\n",
    "    for i, index in enumerate(records.index):\n",
    "        if i%report_interval == 0: print(f'{i+1}/{records.shape[0]} records searched'); co(wait=True)\n",
    "        record = records.loc[index]\n",
    "        if type(record)==str:\n",
    "            record = drop_accents(record)\n",
    "            query_matches, match_words = [], []\n",
    "            for query in queries:\n",
    "                if drop_accents(query) in record:\n",
    "                    words = record.split(' ')\n",
    "                    for word in words:\n",
    "                        if query in word:\n",
    "                            if word not in avoid:\n",
    "                                match_words.append(word)\n",
    "                    if match_words:\n",
    "                        query_matches.append(query)\n",
    "            if query_matches:\n",
    "                matches.append([index, query_matches, match_words])\n",
    "    print(f'Done! {len(records)} terms searched.')\n",
    "    return pd.DataFrame(matches, columns=['index', 'matched_queries', 'matched_words'])"
   ]
  },
  {
   "cell_type": "markdown",
   "metadata": {},
   "source": [
    "### Term search for specific incident categories in text records left out of initial extracting"
   ]
  },
  {
   "cell_type": "code",
   "execution_count": 61,
   "metadata": {},
   "outputs": [
    {
     "name": "stdout",
     "output_type": "stream",
     "text": [
      "Done! 192732 terms searched.\n"
     ]
    }
   ],
   "source": [
    "queries = [\n",
    "    'bolsao', 'bolsoes', 'alagamento',\n",
    "    'lamina', 'espelho', 'enchente',\n",
    "    'inundacão', 'vazamento', 'bueiro',\n",
    "    'rompimento', 'adutora', 'tubulação'\n",
    "]\n",
    "\n",
    "term_search = search_records(records_left['EVENTO_TITULO'], queries, avoid=[]) # searching in records left out of initial extraction"
   ]
  },
  {
   "cell_type": "code",
   "execution_count": 62,
   "metadata": {},
   "outputs": [
    {
     "data": {
      "text/html": [
       "<div>\n",
       "<style scoped>\n",
       "    .dataframe tbody tr th:only-of-type {\n",
       "        vertical-align: middle;\n",
       "    }\n",
       "\n",
       "    .dataframe tbody tr th {\n",
       "        vertical-align: top;\n",
       "    }\n",
       "\n",
       "    .dataframe thead th {\n",
       "        text-align: right;\n",
       "    }\n",
       "</style>\n",
       "<table border=\"1\" class=\"dataframe\">\n",
       "  <thead>\n",
       "    <tr style=\"text-align: right;\">\n",
       "      <th></th>\n",
       "      <th>matched_queries</th>\n",
       "    </tr>\n",
       "  </thead>\n",
       "  <tbody>\n",
       "    <tr>\n",
       "      <th>[bueiro]</th>\n",
       "      <td>404</td>\n",
       "    </tr>\n",
       "    <tr>\n",
       "      <th>[vazamento]</th>\n",
       "      <td>307</td>\n",
       "    </tr>\n",
       "    <tr>\n",
       "      <th>[rompimento, tubulação]</th>\n",
       "      <td>12</td>\n",
       "    </tr>\n",
       "    <tr>\n",
       "      <th>[alagamento]</th>\n",
       "      <td>11</td>\n",
       "    </tr>\n",
       "    <tr>\n",
       "      <th>[adutora]</th>\n",
       "      <td>7</td>\n",
       "    </tr>\n",
       "    <tr>\n",
       "      <th>[vazamento, bueiro]</th>\n",
       "      <td>5</td>\n",
       "    </tr>\n",
       "    <tr>\n",
       "      <th>[bolsao]</th>\n",
       "      <td>1</td>\n",
       "    </tr>\n",
       "  </tbody>\n",
       "</table>\n",
       "</div>"
      ],
      "text/plain": [
       "                         matched_queries\n",
       "[bueiro]                             404\n",
       "[vazamento]                          307\n",
       "[rompimento, tubulação]               12\n",
       "[alagamento]                          11\n",
       "[adutora]                              7\n",
       "[vazamento, bueiro]                    5\n",
       "[bolsao]                               1"
      ]
     },
     "execution_count": 62,
     "metadata": {},
     "output_type": "execute_result"
    }
   ],
   "source": [
    "term_search['matched_queries'].value_counts().to_frame()"
   ]
  },
  {
   "cell_type": "markdown",
   "metadata": {},
   "source": [
    "---\n",
    "# 7. Extra: Searching incidents identified by city cameras"
   ]
  },
  {
   "cell_type": "markdown",
   "metadata": {},
   "source": [
    "#### Search for 'cam' term in text records"
   ]
  },
  {
   "cell_type": "code",
   "execution_count": 63,
   "metadata": {},
   "outputs": [
    {
     "name": "stdout",
     "output_type": "stream",
     "text": [
      "Done! 3987 terms searched.\n"
     ]
    },
    {
     "data": {
      "text/plain": [
       "[cam]         142\n",
       "[(cam]         72\n",
       "[(camera]      58\n",
       "[cam.]          6\n",
       "[(cam.]         5\n",
       "[camera]        1\n",
       "[(cam278)]      1\n",
       "[(cam48)]       1\n",
       "[(cam269)]      1\n",
       "[(cam145)]      1\n",
       "[(cam107)]      1\n",
       "[(cam116)]      1\n",
       "[(cam147)]      1\n",
       "[(cam262)]      1\n",
       "[(cam430)]      1\n",
       "[(cam298)]      1\n",
       "[(cam354)]      1\n",
       "[(cam243)]      1\n",
       "[(cam112)]      1\n",
       "Name: matched_words, dtype: int64"
      ]
     },
     "execution_count": 63,
     "metadata": {},
     "output_type": "execute_result"
    }
   ],
   "source": [
    "cam_search = search_records(full_catalog['EVENTO_TITULO'], queries=['cam'])\n",
    "\n",
    "cam_search['matched_words'].value_counts()"
   ]
  },
  {
   "cell_type": "markdown",
   "metadata": {},
   "source": [
    "#### Percentage of incidents identified by camera"
   ]
  },
  {
   "cell_type": "code",
   "execution_count": 64,
   "metadata": {},
   "outputs": [
    {
     "name": "stdout",
     "output_type": "stream",
     "text": [
      "7.45 %\n"
     ]
    }
   ],
   "source": [
    "cam_records = full_catalog.loc[cam_search['index']]\n",
    "\n",
    "print(round(cam_records.shape[0] / full_catalog.shape[0] * 100, 2), '%')"
   ]
  },
  {
   "cell_type": "code",
   "execution_count": 65,
   "metadata": {},
   "outputs": [
    {
     "data": {
      "text/html": [
       "<div>\n",
       "<style scoped>\n",
       "    .dataframe tbody tr th:only-of-type {\n",
       "        vertical-align: middle;\n",
       "    }\n",
       "\n",
       "    .dataframe tbody tr th {\n",
       "        vertical-align: top;\n",
       "    }\n",
       "\n",
       "    .dataframe thead th {\n",
       "        text-align: right;\n",
       "    }\n",
       "</style>\n",
       "<table border=\"1\" class=\"dataframe\">\n",
       "  <thead>\n",
       "    <tr style=\"text-align: right;\">\n",
       "      <th></th>\n",
       "      <th>POP_TITULO</th>\n",
       "    </tr>\n",
       "  </thead>\n",
       "  <tbody>\n",
       "    <tr>\n",
       "      <th>Bolsão d'água em via</th>\n",
       "      <td>263</td>\n",
       "    </tr>\n",
       "    <tr>\n",
       "      <th>Vazamento de água / esgoto</th>\n",
       "      <td>14</td>\n",
       "    </tr>\n",
       "    <tr>\n",
       "      <th>Alagamento</th>\n",
       "      <td>9</td>\n",
       "    </tr>\n",
       "    <tr>\n",
       "      <th>Lâmina d'água</th>\n",
       "      <td>8</td>\n",
       "    </tr>\n",
       "    <tr>\n",
       "      <th>Bueiro</th>\n",
       "      <td>3</td>\n",
       "    </tr>\n",
       "  </tbody>\n",
       "</table>\n",
       "</div>"
      ],
      "text/plain": [
       "                            POP_TITULO\n",
       "Bolsão d'água em via               263\n",
       "Vazamento de água / esgoto          14\n",
       "Alagamento                           9\n",
       "Lâmina d'água                        8\n",
       "Bueiro                               3"
      ]
     },
     "execution_count": 65,
     "metadata": {},
     "output_type": "execute_result"
    }
   ],
   "source": [
    "cam_records['POP_TITULO'].value_counts().to_frame()"
   ]
  }
 ],
 "metadata": {
  "kernelspec": {
   "display_name": "Python 3",
   "language": "python",
   "name": "python3"
  },
  "language_info": {
   "codemirror_mode": {
    "name": "ipython",
    "version": 3
   },
   "file_extension": ".py",
   "mimetype": "text/x-python",
   "name": "python",
   "nbconvert_exporter": "python",
   "pygments_lexer": "ipython3",
   "version": "3.8.3"
  }
 },
 "nbformat": 4,
 "nbformat_minor": 4
}
