{
 "cells": [
  {
   "cell_type": "markdown",
   "metadata": {},
   "source": [
    "# ANÁLISE DOS REGISTROS DO SISTEMA COMANDO DE OCORRÊNCIAS COM ORIGEM METEOROLÓGICA"
   ]
  },
  {
   "cell_type": "markdown",
   "metadata": {},
   "source": [
    "---\n",
    "\n",
    "### Notebook Sections:\n",
    "1. Exploratory Data Analysis\n",
    "    1. Asses general quality of the dataset\n",
    "    2. Check potential of the dataset to serve as catalog of incidents caused by rain, for predicive modeling.\n",
    "2. Data Cleaning"
   ]
  },
  {
   "cell_type": "markdown",
   "metadata": {},
   "source": [
    "### Importar modulos e funções"
   ]
  },
  {
   "cell_type": "code",
   "execution_count": 3,
   "metadata": {},
   "outputs": [],
   "source": [
    "import os, pandas as pd, numpy as np, matplotlib.pyplot as plt#, requests, json, folium\n",
    "import seaborn as sns; sns.set()\n",
    "# from folium import plugins\n",
    "from IPython.display import clear_output as co\n",
    "\n",
    "### Definir classe 'data' com endereço dos dados\n",
    "class DATA:\n",
    "    path = r'C:\\Users\\luisr\\Desktop\\Repositories\\Dados\\Desafio COR-Rio IV\\\\'\n",
    "    AlertaAPI = r'http://websempre.rio.rj.gov.br/json/chuvas'"
   ]
  },
  {
   "cell_type": "markdown",
   "metadata": {},
   "source": [
    "### Carregando dados"
   ]
  },
  {
   "cell_type": "code",
   "execution_count": 62,
   "metadata": {},
   "outputs": [
    {
     "name": "stderr",
     "output_type": "stream",
     "text": [
      "c:\\Users\\luisr\\anaconda3\\lib\\site-packages\\IPython\\core\\interactiveshell.py:3071: DtypeWarning: Columns (4,10) have mixed types.Specify dtype option on import or set low_memory=False.\n",
      "  has_raised = await self.run_ast_nodes(code_ast.body, cell_name,\n"
     ]
    }
   ],
   "source": [
    "comando = pd.read_csv(DATA.path + 'comando.csv')"
   ]
  },
  {
   "cell_type": "markdown",
   "metadata": {},
   "source": [
    "---\n",
    "# 1. Exploratory Analysis & Data Cleaning"
   ]
  },
  {
   "cell_type": "markdown",
   "metadata": {},
   "source": [
    "### 0. Extract records of incidents caused by metheorological events"
   ]
  },
  {
   "cell_type": "code",
   "execution_count": 63,
   "metadata": {},
   "outputs": [
    {
     "name": "stdout",
     "output_type": "stream",
     "text": [
      "(12409, 18)\n",
      "(4884, 17)\n"
     ]
    }
   ],
   "source": [
    "titles = [\n",
    "    \"Bolsão d'água em via\", 'Vazamento de água / esgoto',\n",
    "    'Alagamentos e enchentes', \"Lâmina d'água\",\n",
    "    \"Lâmina d'água em via\", 'Alagamento',\n",
    "    'Enchente', 'Bueiro'\n",
    "]\n",
    "\n",
    "records = comando[comando['POP_TITULO'].isin(titles)].copy()\n",
    "data = records.reset_index(drop=False).rename(columns={'index': 'REGISTRO_ID'}).copy()\n",
    "events = records.groupby('EVENTO_ID').first() # Isolando ocorrências (primeiro registro de cada ocorrência)\n",
    "comando = None\n",
    "\n",
    "print(records.shape) # Número total de registros encontrados\n",
    "print(events.shape) # Número eventos de registros encontrados"
   ]
  },
  {
   "cell_type": "markdown",
   "metadata": {},
   "source": [
    "**Key findings**:\n",
    "1. The record history of incidents caused by rain has some overlaping categories for incident type. There is a need to confirm the reason for the overlaping categories with the institution."
   ]
  },
  {
   "cell_type": "markdown",
   "metadata": {},
   "source": [
    "### 1. Asses data types"
   ]
  },
  {
   "cell_type": "markdown",
   "metadata": {},
   "source": [
    "##### Identify variables' types"
   ]
  },
  {
   "cell_type": "code",
   "execution_count": 65,
   "metadata": {},
   "outputs": [],
   "source": [
    "cols = {\n",
    "    'text': [\n",
    "        'EVENTO_TITULO', 'EVENTO_DESCRICAO'\n",
    "    ],\n",
    "    'categorical': [\n",
    "        'EVENTO_GRAVIDADE', 'EVENTO_BAIRRO', 'STATUS', 'EVENTO_PRAZO',\n",
    "        'POP_TITULO', 'POP_DESCRICAO', 'ORGAO_SIGLA', 'ORGAO_NOME', 'ACAO'\n",
    "    ],\n",
    "    'datetime': [\n",
    "        'EVENTO_INICIO', 'EVENTO_INICIO_HORA',\n",
    "        'EVENTO_FIM', 'EVENTO_FIM_HORA'\n",
    "    ],\n",
    "    'location': [\n",
    "        'EVENTO_LATITUDE', 'EVENTO_LONGITUDE'\n",
    "    ]\n",
    "}"
   ]
  },
  {
   "cell_type": "markdown",
   "metadata": {},
   "source": [
    "#### Check raw data types"
   ]
  },
  {
   "cell_type": "code",
   "execution_count": 203,
   "metadata": {},
   "outputs": [
    {
     "name": "stdout",
     "output_type": "stream",
     "text": [
      "<class 'pandas.core.frame.DataFrame'>\n",
      "Int64Index: 5 entries, 214 to 250\n",
      "Data columns (total 18 columns):\n",
      " #   Column              Non-Null Count  Dtype  \n",
      "---  ------              --------------  -----  \n",
      " 0   EVENTO_ID           5 non-null      int64  \n",
      " 1   EVENTO_TITULO       5 non-null      object \n",
      " 2   EVENTO_DESCRICAO    1 non-null      object \n",
      " 3   EVENTO_GRAVIDADE    5 non-null      object \n",
      " 4   EVENTO_BAIRRO       0 non-null      object \n",
      " 5   STATUS              5 non-null      object \n",
      " 6   EVENTO_INICIO       5 non-null      object \n",
      " 7   EVENTO_INICIO_HORA  5 non-null      object \n",
      " 8   EVENTO_FIM          5 non-null      object \n",
      " 9   EVENTO_FIM_HORA     5 non-null      object \n",
      " 10  EVENTO_PRAZO        0 non-null      object \n",
      " 11  EVENTO_LATITUDE     5 non-null      float64\n",
      " 12  EVENTO_LONGITUDE    5 non-null      float64\n",
      " 13  POP_TITULO          5 non-null      object \n",
      " 14  POP_DESCRICAO       5 non-null      object \n",
      " 15  ORGAO_SIGLA         5 non-null      object \n",
      " 16  ORGAO_NOME          5 non-null      object \n",
      " 17  ACAO                5 non-null      object \n",
      "dtypes: float64(2), int64(1), object(15)\n",
      "memory usage: 760.0+ bytes\n"
     ]
    }
   ],
   "source": [
    "records.head().info()"
   ]
  },
  {
   "cell_type": "markdown",
   "metadata": {},
   "source": [
    "Conclusions:\n",
    "\n",
    "Only datetime variables require type conversion."
   ]
  },
  {
   "cell_type": "markdown",
   "metadata": {},
   "source": [
    "---\n",
    "### 2. Asses categorical variables and values"
   ]
  },
  {
   "cell_type": "markdown",
   "metadata": {},
   "source": [
    "Categorical columns (unique categories):\n",
    "* EVENTO_GRAVIDADE (BAIXO, MEDIO, ALTO, CRITICO, SEM_CLASSIFICAÇÃO). Extra values: Litoral do Rio de Janeiro\n",
    "* EVENTO_BAIRRO (339) - Desestruturado\n",
    "    * contém 'nan'\n",
    "    * Valores de categorias não uniforme: Bairros de mesmo nome com escrita diferente.\n",
    "    * Contem valores inválidos: Nomes de rua, números, endereços, etc.\n",
    "    * Necessita método strip()\n",
    "* EVENTO_STATUS (FECHADO, ABERTO). Extra values: FINALIZADO, Litoral do Rio de Janeiro\n",
    "* EVENTO_PRAZO (CURTO, MEDIO, LONGO)\n",
    "* POP_TITULO (40)\n",
    "* POP_DESCRICAO (42)\n",
    "* ORGAO_SIGLA (34)\n",
    "* ORGAO_NOME (35)\n",
    "* ACAO (70)"
   ]
  },
  {
   "cell_type": "code",
   "execution_count": null,
   "metadata": {},
   "outputs": [],
   "source": [
    "for col in cols['categorical']: # descomente para conferir contagem de valores unicos\n",
    "    display(records[col].value_counts().to_frame(col))"
   ]
  },
  {
   "cell_type": "markdown",
   "metadata": {},
   "source": [
    "---\n",
    "### 3. Asses text variables"
   ]
  },
  {
   "cell_type": "code",
   "execution_count": 209,
   "metadata": {},
   "outputs": [
    {
     "data": {
      "text/html": [
       "<div>\n",
       "<style scoped>\n",
       "    .dataframe tbody tr th:only-of-type {\n",
       "        vertical-align: middle;\n",
       "    }\n",
       "\n",
       "    .dataframe tbody tr th {\n",
       "        vertical-align: top;\n",
       "    }\n",
       "\n",
       "    .dataframe thead th {\n",
       "        text-align: right;\n",
       "    }\n",
       "</style>\n",
       "<table border=\"1\" class=\"dataframe\">\n",
       "  <thead>\n",
       "    <tr style=\"text-align: right;\">\n",
       "      <th></th>\n",
       "      <th>EVENTO_TITULO</th>\n",
       "    </tr>\n",
       "  </thead>\n",
       "  <tbody>\n",
       "    <tr>\n",
       "      <th>Bolsão d'água em via</th>\n",
       "      <td>3959</td>\n",
       "    </tr>\n",
       "    <tr>\n",
       "      <th>Bolsão d'água</th>\n",
       "      <td>1752</td>\n",
       "    </tr>\n",
       "    <tr>\n",
       "      <th>Alagamento</th>\n",
       "      <td>1112</td>\n",
       "    </tr>\n",
       "    <tr>\n",
       "      <th>Vazamento de água</th>\n",
       "      <td>568</td>\n",
       "    </tr>\n",
       "    <tr>\n",
       "      <th>Bolsão d'água</th>\n",
       "      <td>554</td>\n",
       "    </tr>\n",
       "    <tr>\n",
       "      <th>...</th>\n",
       "      <td>...</td>\n",
       "    </tr>\n",
       "    <tr>\n",
       "      <th>Bolsão d'água em via ( CAM 58 )</th>\n",
       "      <td>1</td>\n",
       "    </tr>\n",
       "    <tr>\n",
       "      <th>Lamina d'água ( CAM 136 )</th>\n",
       "      <td>1</td>\n",
       "    </tr>\n",
       "    <tr>\n",
       "      <th>Lamina d'água (cam 460)</th>\n",
       "      <td>1</td>\n",
       "    </tr>\n",
       "    <tr>\n",
       "      <th>Bolsão d'água em via (Cam 339)</th>\n",
       "      <td>1</td>\n",
       "    </tr>\n",
       "    <tr>\n",
       "      <th>Balsão d'água</th>\n",
       "      <td>1</td>\n",
       "    </tr>\n",
       "  </tbody>\n",
       "</table>\n",
       "<p>554 rows × 1 columns</p>\n",
       "</div>"
      ],
      "text/plain": [
       "                                 EVENTO_TITULO\n",
       "Bolsão d'água em via                      3959\n",
       "Bolsão d'água                             1752\n",
       "Alagamento                                1112\n",
       "Vazamento de água                          568\n",
       "Bolsão d'água                              554\n",
       "...                                        ...\n",
       "Bolsão d'água em via ( CAM 58 )              1\n",
       "Lamina d'água ( CAM 136 )                    1\n",
       "Lamina d'água (cam 460)                      1\n",
       "Bolsão d'água em via (Cam 339)               1\n",
       "Balsão d'água                                1\n",
       "\n",
       "[554 rows x 1 columns]"
      ]
     },
     "metadata": {},
     "output_type": "display_data"
    },
    {
     "data": {
      "text/html": [
       "<div>\n",
       "<style scoped>\n",
       "    .dataframe tbody tr th:only-of-type {\n",
       "        vertical-align: middle;\n",
       "    }\n",
       "\n",
       "    .dataframe tbody tr th {\n",
       "        vertical-align: top;\n",
       "    }\n",
       "\n",
       "    .dataframe thead th {\n",
       "        text-align: right;\n",
       "    }\n",
       "</style>\n",
       "<table border=\"1\" class=\"dataframe\">\n",
       "  <thead>\n",
       "    <tr style=\"text-align: right;\">\n",
       "      <th></th>\n",
       "      <th>EVENTO_DESCRICAO</th>\n",
       "    </tr>\n",
       "  </thead>\n",
       "  <tbody>\n",
       "    <tr>\n",
       "      <th>Rua do Catete, Alt. R. Silveira Martins - Catete</th>\n",
       "      <td>67</td>\n",
       "    </tr>\n",
       "    <tr>\n",
       "      <th>R. São Clemente, 226 - Botafogo</th>\n",
       "      <td>31</td>\n",
       "    </tr>\n",
       "    <tr>\n",
       "      <th>Mergulhão Billy Blanco - Barra da Tijuca</th>\n",
       "      <td>25</td>\n",
       "    </tr>\n",
       "    <tr>\n",
       "      <th>Av. Brasil - Benfica</th>\n",
       "      <td>25</td>\n",
       "    </tr>\n",
       "    <tr>\n",
       "      <th>Av. Epitácio Pessoa, Alt. R. Maria Quitéria - Lagoa</th>\n",
       "      <td>24</td>\n",
       "    </tr>\n",
       "    <tr>\n",
       "      <th>...</th>\n",
       "      <td>...</td>\n",
       "    </tr>\n",
       "    <tr>\n",
       "      <th>Av. Cesário de Melo - Alt. Rua Morango - Inhoaíba</th>\n",
       "      <td>1</td>\n",
       "    </tr>\n",
       "    <tr>\n",
       "      <th>Estr. do Catonho - Alt. Estr. do Cafundá - Taquara</th>\n",
       "      <td>1</td>\n",
       "    </tr>\n",
       "    <tr>\n",
       "      <th>Av. Min. Edgard Romero, 184 - Madureira</th>\n",
       "      <td>1</td>\n",
       "    </tr>\n",
       "    <tr>\n",
       "      <th>R. Silva Téles - Alt. Rua Goiania - Andaraí</th>\n",
       "      <td>1</td>\n",
       "    </tr>\n",
       "    <tr>\n",
       "      <th>Estr. do Galeão, Alt. Base Aérea - Ilha do Governador - Sent. Linha Vermelha</th>\n",
       "      <td>1</td>\n",
       "    </tr>\n",
       "  </tbody>\n",
       "</table>\n",
       "<p>4326 rows × 1 columns</p>\n",
       "</div>"
      ],
      "text/plain": [
       "                                                    EVENTO_DESCRICAO\n",
       "Rua do Catete, Alt. R. Silveira Martins - Catete                  67\n",
       "R. São Clemente, 226 - Botafogo                                   31\n",
       "Mergulhão Billy Blanco - Barra da Tijuca                          25\n",
       "Av. Brasil - Benfica                                              25\n",
       "Av. Epitácio Pessoa, Alt. R. Maria Quitéria - L...                24\n",
       "...                                                              ...\n",
       "Av. Cesário de Melo - Alt. Rua Morango - Inhoaíba                  1\n",
       "Estr. do Catonho - Alt. Estr. do Cafundá - Taquara                 1\n",
       "Av. Min. Edgard Romero, 184 - Madureira                            1\n",
       "R. Silva Téles - Alt. Rua Goiania - Andaraí                        1\n",
       "Estr. do Galeão, Alt. Base Aérea - Ilha do Gove...                 1\n",
       "\n",
       "[4326 rows x 1 columns]"
      ]
     },
     "metadata": {},
     "output_type": "display_data"
    }
   ],
   "source": [
    "for col in cols['text']: # descomente para conferir contagem de valores unicos\n",
    "    display(records[col].value_counts().to_frame(col))"
   ]
  },
  {
   "cell_type": "markdown",
   "metadata": {},
   "source": [
    "---\n",
    "### 5. Asses time variables"
   ]
  },
  {
   "cell_type": "markdown",
   "metadata": {},
   "source": [
    "#### Convert event start and end dates and times to 'datetime64' type"
   ]
  },
  {
   "cell_type": "code",
   "execution_count": 67,
   "metadata": {},
   "outputs": [],
   "source": [
    "start = data['EVENTO_INICIO'] + ' ' + data['EVENTO_INICIO_HORA']\n",
    "end = data['EVENTO_FIM'] + ' ' + data['EVENTO_FIM_HORA']\n",
    "\n",
    "data['evento_inicio'] = pd.to_datetime(start)\n",
    "data['evento_fim'] = pd.to_datetime(end)\n",
    "\n",
    "# data.set_index('evento_inicio', inplace=True)"
   ]
  },
  {
   "cell_type": "code",
   "execution_count": 68,
   "metadata": {},
   "outputs": [
    {
     "data": {
      "text/plain": [
       "0       2015-04-10 15:59:00\n",
       "1       2015-04-10 15:59:00\n",
       "2       2015-04-10 15:59:00\n",
       "3       2015-04-10 15:59:00\n",
       "4       2015-05-05 07:52:00\n",
       "                ...        \n",
       "12404   2022-04-30 12:33:00\n",
       "12405   2022-04-30 15:33:00\n",
       "12406   2022-04-30 15:33:00\n",
       "12407   2022-04-30 16:09:00\n",
       "12408   2022-04-30 16:09:00\n",
       "Name: evento_inicio, Length: 12409, dtype: datetime64[ns]"
      ]
     },
     "execution_count": 68,
     "metadata": {},
     "output_type": "execute_result"
    }
   ],
   "source": [
    "data['evento_inicio']"
   ]
  },
  {
   "cell_type": "markdown",
   "metadata": {},
   "source": [
    "---\n",
    "### 4. Asses location variables"
   ]
  },
  {
   "cell_type": "markdown",
   "metadata": {},
   "source": [
    "#### Functions to process coordinates"
   ]
  },
  {
   "cell_type": "code",
   "execution_count": 69,
   "metadata": {},
   "outputs": [],
   "source": [
    "#### Compute and update order of magnitude of float value or series.\n",
    "\n",
    "def orderOfMagnitude(number):\n",
    "    return np.floor(np.log10(abs(number)))\n",
    "\n",
    "def correctMagnitude(number, mag=1):\n",
    "    if type(number)==float:\n",
    "        magnitude = orderOfMagnitude(number)\n",
    "        return number / 10 ** ( orderOfMagnitude(number) - mag )\n",
    "    else:\n",
    "        return [correctMagnitude(n, mag) for n in number]\n",
    "\n",
    "# Replace values below provided decimal precision with NAN in series.\n",
    "\n",
    "def isBelowDecimal(series, decimal=1):\n",
    "    next_decimal = abs(series * 10 ** (decimal-1))\n",
    "    next_abs_dif = next_decimal - next_decimal.round(0)\n",
    "    return next_abs_dif == 0\n",
    "\n",
    "# Compute decimal precision\n",
    "\n",
    "def fillnaBelowDecimal(df, decimal=1, cols=None, subset='all'): # accepts array\n",
    "    if cols is None: cols = df.columns\n",
    "    for col in cols:\n",
    "        below_msk = isBelowDecimal(df[col], decimal=decimal)\n",
    "        if subset=='all':\n",
    "            df.loc[below_msk] = np.nan\n",
    "        elif subset=='each':\n",
    "            df[col].loc[below_msk] = np.nan\n",
    "    return df    "
   ]
  },
  {
   "cell_type": "markdown",
   "metadata": {},
   "source": [
    "#### Correct magnitude and replace with NAN coordinates below decimal precision of four places."
   ]
  },
  {
   "cell_type": "code",
   "execution_count": 70,
   "metadata": {},
   "outputs": [
    {
     "name": "stderr",
     "output_type": "stream",
     "text": [
      "<ipython-input-69-c8682b130461>:4: RuntimeWarning: divide by zero encountered in log10\n",
      "  return np.floor(np.log10(abs(number)))\n",
      "<ipython-input-69-c8682b130461>:9: RuntimeWarning: invalid value encountered in double_scalars\n",
      "  return number / 10 ** ( orderOfMagnitude(number) - mag )\n",
      "c:\\Users\\luisr\\anaconda3\\lib\\site-packages\\pandas\\core\\indexing.py:671: SettingWithCopyWarning: \n",
      "A value is trying to be set on a copy of a slice from a DataFrame\n",
      "\n",
      "See the caveats in the documentation: https://pandas.pydata.org/pandas-docs/stable/user_guide/indexing.html#returning-a-view-versus-a-copy\n",
      "  self._setitem_with_indexer(indexer, value)\n",
      "<ipython-input-69-c8682b130461>:27: SettingWithCopyWarning: \n",
      "A value is trying to be set on a copy of a slice from a DataFrame\n",
      "\n",
      "See the caveats in the documentation: https://pandas.pydata.org/pandas-docs/stable/user_guide/indexing.html#returning-a-view-versus-a-copy\n",
      "  df.loc[below_msk] = np.nan\n"
     ]
    }
   ],
   "source": [
    "# Correct magnitude of coordinates\n",
    "data['lat'] = correctMagnitude(data['EVENTO_LATITUDE'], mag=1)\n",
    "data['lng'] = correctMagnitude(data['EVENTO_LONGITUDE'], mag=1)\n",
    "\n",
    "# Fill coordinates below decimal precision of 4 places.\n",
    "data[['lat', 'lng']] = fillnaBelowDecimal(data[['lat', 'lng']], decimal=3, subset='all')"
   ]
  },
  {
   "cell_type": "markdown",
   "metadata": {},
   "source": [
    "#### Percentage of records without valid coordinates"
   ]
  },
  {
   "cell_type": "code",
   "execution_count": 71,
   "metadata": {},
   "outputs": [
    {
     "data": {
      "text/plain": [
       "16.850672898702555"
      ]
     },
     "execution_count": 71,
     "metadata": {},
     "output_type": "execute_result"
    }
   ],
   "source": [
    "data['lat'].isna().sum() / len(data) * 100 # 6 % dos incidentes sem cordenadas."
   ]
  },
  {
   "cell_type": "code",
   "execution_count": 72,
   "metadata": {},
   "outputs": [
    {
     "data": {
      "text/plain": [
       "6.092352324925457"
      ]
     },
     "execution_count": 72,
     "metadata": {},
     "output_type": "execute_result"
    }
   ],
   "source": [
    "data.groupby('EVENTO_ID').first()['lat'].isna().sum() / len(data) * 100 # 16 % dos registros sem cordenadas."
   ]
  },
  {
   "cell_type": "markdown",
   "metadata": {},
   "source": [
    "---\n",
    "# Extracting records of incidents with known coordinates"
   ]
  },
  {
   "cell_type": "code",
   "execution_count": 213,
   "metadata": {},
   "outputs": [
    {
     "data": {
      "text/plain": [
       "((12409, 23), (4128, 12), (3140, 12))"
      ]
     },
     "execution_count": 213,
     "metadata": {},
     "output_type": "execute_result"
    }
   ],
   "source": [
    "not_catalog_columns = [\n",
    "    'REGISTRO_ID', 'ORGAO_SIGLA',\n",
    "    'ORGAO_NOME', 'ACAO',\n",
    "    'EVENTO_INICIO', 'EVENTO_INICIO_HORA',\n",
    "    'EVENTO_FIM', 'EVENTO_FIM_HORA',\n",
    "    'EVENTO_LATITUDE', 'EVENTO_LONGITUDE'\n",
    "]\n",
    "\n",
    "catalog = data.groupby('EVENTO_ID').first().dropna(subset=['lat', 'lng']).drop(not_catalog_columns, 1) # Incident catalog (no missing coordinates)\n",
    "\n",
    "data.shape, catalog.shape, catalog[catalog['POP_TITULO']==titles[0]].shape"
   ]
  },
  {
   "cell_type": "markdown",
   "metadata": {},
   "source": [
    "### 7. Check missing values notation uniformity"
   ]
  },
  {
   "cell_type": "code",
   "execution_count": null,
   "metadata": {},
   "outputs": [],
   "source": [
    "# Missing"
   ]
  },
  {
   "cell_type": "markdown",
   "metadata": {},
   "source": [
    "---\n",
    "# Reverse geocode incidents' coordinates"
   ]
  },
  {
   "cell_type": "markdown",
   "metadata": {},
   "source": [
    "#### Function to reverse geocode coordinates with google maps API"
   ]
  },
  {
   "cell_type": "code",
   "execution_count": 74,
   "metadata": {},
   "outputs": [],
   "source": [
    "import googlemaps\n",
    "\n",
    "def googleReverseGeocode(\n",
    "    coordinates, result_type=None, location_type=None, language='pt-BR',\n",
    "    keep_cols =  ['place_id', 'types', 'formatted_address'],\n",
    "    drop_cols = ['address_components', 'geometry', 'plus_code'], # if included, 'keep_cols' argument is ignored\n",
    "    keep_geometry_cols = ['location', 'location_type'],\n",
    "    googleAPIKey=None\n",
    "):\n",
    "    gmaps = googlemaps.Client(key=googleAPIKey) # load google api key\n",
    "    result = []; n_coords = len(coordinates)\n",
    "    for i, coords in enumerate(coordinates):\n",
    "        res = gmaps.reverse_geocode(\n",
    "            coords, language='pt-BR',\n",
    "            result_type='|'.join(result_type),\n",
    "            location_type='|'.join(location_type)\n",
    "        )\n",
    "        df = pd.DataFrame(res); coords_df = []\n",
    "        if drop_cols is not None:\n",
    "            found_cols = set(drop_cols).intersection(df.columns)\n",
    "            keep_cols = df.drop(found_cols, 1).columns\n",
    "        for j, row in df.iterrows():\n",
    "            keep_info = row[keep_cols]\n",
    "            keep_info['search_id'] = i\n",
    "            location = pd.Series(row['geometry']['location'])\n",
    "            location['location_type'] = row['geometry']['location_type']\n",
    "            address = pd.DataFrame(row['address_components'])\n",
    "            address = pd.Series(\n",
    "                address['long_name'].values,\n",
    "                index=address['types'].map(lambda types: ', '.join(types))\n",
    "            )\n",
    "            coords_df.append(pd.concat([keep_info, location, address], 0))\n",
    "        result.append(pd.DataFrame(coords_df))\n",
    "        print(f'{i+1}/{n_coords} coordinates reversed geocoded.'); co(wait=True)\n",
    "\n",
    "    print(f'Done! Total of {n_coords} requests.')\n",
    "    return pd.concat(result, 0)"
   ]
  },
  {
   "cell_type": "markdown",
   "metadata": {},
   "source": [
    "### Reverse geocode extracted incidents' coordinates with Google Maps API"
   ]
  },
  {
   "cell_type": "code",
   "execution_count": 75,
   "metadata": {},
   "outputs": [],
   "source": [
    "location_type = [\n",
    "    'ROOFTOP',\n",
    "    'RANGE_INTERPOLATED',\n",
    "    'APPROXIMATE'\n",
    "]\n",
    "\n",
    "result_type = [\n",
    "    'street_address', 'route', 'intersection',\n",
    "    'colloquial_area', 'plus_code', 'postal_code',\n",
    "    'establishment', 'premise'\n",
    "]\n",
    "\n",
    "catalog_coords = catalog[['lat', 'lng']].values.tolist()\n",
    "\n",
    "# geocode_result = googleReverseGeocode( # Search already perfomed\n",
    "#     catalog_coords,\n",
    "#     result_type=result_type,\n",
    "#     location_type=location_type,\n",
    "#     googleAPIKey=open('../GoogleApiKey.txt', 'r').read()\n",
    "# )"
   ]
  },
  {
   "cell_type": "code",
   "execution_count": 76,
   "metadata": {},
   "outputs": [],
   "source": [
    "# geocode_result.to_csv('dados/catalog_reverse_geocode_result.csv', index=False)\n",
    "geocode_result = pd.read_csv('dados/catalog_reverse_geocode_result.csv')"
   ]
  },
  {
   "cell_type": "markdown",
   "metadata": {},
   "source": [
    "---\n",
    "# Reverse geocode result analysis"
   ]
  },
  {
   "cell_type": "markdown",
   "metadata": {},
   "source": [
    "##### Count of unique street numbers found per location search"
   ]
  },
  {
   "cell_type": "code",
   "execution_count": 77,
   "metadata": {},
   "outputs": [
    {
     "data": {
      "text/plain": [
       "1     615\n",
       "2    1688\n",
       "3    1348\n",
       "4     444\n",
       "5       8\n",
       "Name: street_number, dtype: int64"
      ]
     },
     "execution_count": 77,
     "metadata": {},
     "output_type": "execute_result"
    }
   ],
   "source": [
    "numbered = geocode_result.dropna(subset=['street_number']).drop_duplicates(subset=['search_index', 'street_number'])\n",
    "numbered.groupby('search_index').count()['street_number'].value_counts().sort_index()"
   ]
  },
  {
   "cell_type": "markdown",
   "metadata": {},
   "source": [
    "##### Count of unique routes found per location search"
   ]
  },
  {
   "cell_type": "code",
   "execution_count": 78,
   "metadata": {},
   "outputs": [
    {
     "data": {
      "text/plain": [
       "1    1939\n",
       "2    1882\n",
       "3     267\n",
       "4      27\n",
       "5       2\n",
       "Name: route, dtype: int64"
      ]
     },
     "execution_count": 78,
     "metadata": {},
     "output_type": "execute_result"
    }
   ],
   "source": [
    "numbered = geocode_result.dropna(subset=['route']).drop_duplicates(subset=['search_index', 'route'])\n",
    "numbered.groupby('search_index').count()['route'].value_counts().sort_index()"
   ]
  },
  {
   "cell_type": "markdown",
   "metadata": {},
   "source": [
    "##### Locations without a search result"
   ]
  },
  {
   "cell_type": "code",
   "execution_count": 79,
   "metadata": {},
   "outputs": [
    {
     "data": {
      "text/plain": [
       "11"
      ]
     },
     "execution_count": 79,
     "metadata": {},
     "output_type": "execute_result"
    }
   ],
   "source": [
    "len(catalog) - len(numbered['search_index'].unique()) # location search results without a numbered address"
   ]
  },
  {
   "cell_type": "markdown",
   "metadata": {},
   "source": [
    "#### Select first result of each search (most specific)"
   ]
  },
  {
   "cell_type": "markdown",
   "metadata": {},
   "source": [
    "##### Options to filter:\n",
    "1. Prioritize type 'street_address', then 'route', then 'establishment'/'premise'\n",
    "2. only if street_number is not missing\n",
    "3. Prioritize first street_number of each location search"
   ]
  },
  {
   "cell_type": "code",
   "execution_count": 25,
   "metadata": {},
   "outputs": [],
   "source": [
    "first_res = geocode_result.groupby('search_index').first()"
   ]
  },
  {
   "cell_type": "markdown",
   "metadata": {},
   "source": [
    "##### Percentage of unnumbered address in selected results"
   ]
  },
  {
   "cell_type": "code",
   "execution_count": 104,
   "metadata": {},
   "outputs": [
    {
     "data": {
      "text/plain": [
       "'0.51%'"
      ]
     },
     "execution_count": 104,
     "metadata": {},
     "output_type": "execute_result"
    }
   ],
   "source": [
    "unnumbered_msk = first_res['street_number'].isna()\n",
    "str(unnumbered_msk.mean().round(4)*100) + '%'"
   ]
  },
  {
   "cell_type": "markdown",
   "metadata": {},
   "source": [
    "##### Address Types Count in Selected Results"
   ]
  },
  {
   "cell_type": "code",
   "execution_count": 93,
   "metadata": {},
   "outputs": [
    {
     "data": {
      "image/png": "[encoded data removed]",
      "text/plain": [
       "<Figure size 360x216 with 1 Axes>"
      ]
     },
     "metadata": {},
     "output_type": "display_data"
    }
   ],
   "source": [
    "first_res['types'].value_counts().head(10).plot.bar(\n",
    "    figsize=(5,3), title='Locations Search Result Address Types Count'\n",
    "); plt.show()"
   ]
  },
  {
   "cell_type": "markdown",
   "metadata": {},
   "source": [
    "---\n",
    "# Include geodecoded results in catalog"
   ]
  },
  {
   "cell_type": "code",
   "execution_count": 214,
   "metadata": {},
   "outputs": [
    {
     "data": {
      "text/html": [
       "<div>\n",
       "<style scoped>\n",
       "    .dataframe tbody tr th:only-of-type {\n",
       "        vertical-align: middle;\n",
       "    }\n",
       "\n",
       "    .dataframe tbody tr th {\n",
       "        vertical-align: top;\n",
       "    }\n",
       "\n",
       "    .dataframe thead th {\n",
       "        text-align: right;\n",
       "    }\n",
       "</style>\n",
       "<table border=\"1\" class=\"dataframe\">\n",
       "  <thead>\n",
       "    <tr style=\"text-align: right;\">\n",
       "      <th></th>\n",
       "      <th>EVENTO_ID</th>\n",
       "      <th>EVENTO_TITULO</th>\n",
       "      <th>EVENTO_DESCRICAO</th>\n",
       "      <th>EVENTO_GRAVIDADE</th>\n",
       "      <th>EVENTO_BAIRRO</th>\n",
       "      <th>STATUS</th>\n",
       "      <th>EVENTO_PRAZO</th>\n",
       "      <th>POP_TITULO</th>\n",
       "      <th>POP_DESCRICAO</th>\n",
       "      <th>evento_inicio</th>\n",
       "      <th>...</th>\n",
       "      <th>search_index</th>\n",
       "      <th>formatted_address</th>\n",
       "      <th>place_id</th>\n",
       "      <th>types</th>\n",
       "      <th>search_lat</th>\n",
       "      <th>search_lng</th>\n",
       "      <th>location_type</th>\n",
       "      <th>route</th>\n",
       "      <th>postal_code</th>\n",
       "      <th>premise</th>\n",
       "    </tr>\n",
       "  </thead>\n",
       "  <tbody>\n",
       "    <tr>\n",
       "      <th>0</th>\n",
       "      <td>111</td>\n",
       "      <td>Rompimento de adutora  - Lagoa</td>\n",
       "      <td>Avenida Borges de Medeiros, 3265 - Lagoa, Rio ...</td>\n",
       "      <td>MEDIO</td>\n",
       "      <td>NaN</td>\n",
       "      <td>FECHADO</td>\n",
       "      <td>NaN</td>\n",
       "      <td>Vazamento de água / esgoto</td>\n",
       "      <td>Vazamento de água / esgoto</td>\n",
       "      <td>2015-05-16 14:33:00</td>\n",
       "      <td>...</td>\n",
       "      <td>0</td>\n",
       "      <td>Av. Borges de Medeiros, 3285 - Lagoa, Rio de J...</td>\n",
       "      <td>ChIJV7nTZHfVmwARCuQ3cTjS4yQ</td>\n",
       "      <td>['street_address']</td>\n",
       "      <td>-22.962579</td>\n",
       "      <td>-43.210340</td>\n",
       "      <td>ROOFTOP</td>\n",
       "      <td>Avenida Borges de Medeiros</td>\n",
       "      <td>22470-001</td>\n",
       "      <td>Condomínio Edificio Campo de Gardenias</td>\n",
       "    </tr>\n",
       "    <tr>\n",
       "      <th>1</th>\n",
       "      <td>185</td>\n",
       "      <td>Vazamento em adutora - Rio Comprido - Dano em ...</td>\n",
       "      <td>Rua Guaicurus, 54 - Rio Comprido</td>\n",
       "      <td>BAIXO</td>\n",
       "      <td>NaN</td>\n",
       "      <td>FECHADO</td>\n",
       "      <td>NaN</td>\n",
       "      <td>Vazamento de água / esgoto</td>\n",
       "      <td>Vazamento de água / esgoto</td>\n",
       "      <td>2015-06-02 11:55:00</td>\n",
       "      <td>...</td>\n",
       "      <td>1</td>\n",
       "      <td>R. Guaicurus, 1 - Rio Comprido, Rio de Janeiro...</td>\n",
       "      <td>ChIJqbg2CrB_mQARbghgcWLoLcU</td>\n",
       "      <td>['street_address']</td>\n",
       "      <td>-22.926818</td>\n",
       "      <td>-43.203156</td>\n",
       "      <td>ROOFTOP</td>\n",
       "      <td>Rua Guaicurus</td>\n",
       "      <td>20251-100</td>\n",
       "      <td>NaN</td>\n",
       "    </tr>\n",
       "    <tr>\n",
       "      <th>2</th>\n",
       "      <td>301</td>\n",
       "      <td>Vazamento Água</td>\n",
       "      <td>Avenida Borges de Medeiros, 3647 - Lagoa</td>\n",
       "      <td>BAIXO</td>\n",
       "      <td>NaN</td>\n",
       "      <td>FECHADO</td>\n",
       "      <td>NaN</td>\n",
       "      <td>Vazamento de água / esgoto</td>\n",
       "      <td>Vazamento de água / esgoto</td>\n",
       "      <td>2015-06-20 12:54:00</td>\n",
       "      <td>...</td>\n",
       "      <td>2</td>\n",
       "      <td>Av. Borges de Medeiros, 3669 - Lagoa, Rio de J...</td>\n",
       "      <td>ChIJle_kZHrVmwARYySwO9w6ido</td>\n",
       "      <td>['establishment', 'point_of_interest']</td>\n",
       "      <td>-22.962635</td>\n",
       "      <td>-43.206679</td>\n",
       "      <td>ROOFTOP</td>\n",
       "      <td>Avenida Borges de Medeiros</td>\n",
       "      <td>22470-001</td>\n",
       "      <td>NaN</td>\n",
       "    </tr>\n",
       "    <tr>\n",
       "      <th>3</th>\n",
       "      <td>426</td>\n",
       "      <td>Afundamento de pista</td>\n",
       "      <td>Rua Gomes Carneiro-124 - Ipanema</td>\n",
       "      <td>BAIXO</td>\n",
       "      <td>NaN</td>\n",
       "      <td>FECHADO</td>\n",
       "      <td>NaN</td>\n",
       "      <td>Vazamento de água / esgoto</td>\n",
       "      <td>Vazamento de água / esgoto</td>\n",
       "      <td>2015-07-04 19:33:00</td>\n",
       "      <td>...</td>\n",
       "      <td>3</td>\n",
       "      <td>R. Caning, 6 - Copacabana, Rio de Janeiro - RJ...</td>\n",
       "      <td>ChIJNWNRxxfVmwARA2d3WzQgmTY</td>\n",
       "      <td>['establishment', 'premise']</td>\n",
       "      <td>-22.984814</td>\n",
       "      <td>-43.195270</td>\n",
       "      <td>ROOFTOP</td>\n",
       "      <td>Rua Caning</td>\n",
       "      <td>22081-040</td>\n",
       "      <td>NaN</td>\n",
       "    </tr>\n",
       "    <tr>\n",
       "      <th>4</th>\n",
       "      <td>440</td>\n",
       "      <td>Vazamento de Água</td>\n",
       "      <td>Rua Prudente de Morais, 660 - Ipanema</td>\n",
       "      <td>BAIXO</td>\n",
       "      <td>NaN</td>\n",
       "      <td>FECHADO</td>\n",
       "      <td>NaN</td>\n",
       "      <td>Vazamento de água / esgoto</td>\n",
       "      <td>Vazamento de água / esgoto</td>\n",
       "      <td>2015-07-07 10:28:00</td>\n",
       "      <td>...</td>\n",
       "      <td>4</td>\n",
       "      <td>R. Vinícius de Moraes, 53a - Ipanema, Rio de J...</td>\n",
       "      <td>ChIJx89kxhrVmwARUpJz5Ih_Yc8</td>\n",
       "      <td>['street_address']</td>\n",
       "      <td>-22.985166</td>\n",
       "      <td>-43.203040</td>\n",
       "      <td>ROOFTOP</td>\n",
       "      <td>Rua Vinícius de Moraes</td>\n",
       "      <td>22411-010</td>\n",
       "      <td>NaN</td>\n",
       "    </tr>\n",
       "  </tbody>\n",
       "</table>\n",
       "<p>5 rows × 23 columns</p>\n",
       "</div>"
      ],
      "text/plain": [
       "   EVENTO_ID                                      EVENTO_TITULO  \\\n",
       "0        111                     Rompimento de adutora  - Lagoa   \n",
       "1        185  Vazamento em adutora - Rio Comprido - Dano em ...   \n",
       "2        301                                     Vazamento Água   \n",
       "3        426                               Afundamento de pista   \n",
       "4        440                                  Vazamento de Água   \n",
       "\n",
       "                                    EVENTO_DESCRICAO EVENTO_GRAVIDADE  \\\n",
       "0  Avenida Borges de Medeiros, 3265 - Lagoa, Rio ...            MEDIO   \n",
       "1                   Rua Guaicurus, 54 - Rio Comprido            BAIXO   \n",
       "2           Avenida Borges de Medeiros, 3647 - Lagoa            BAIXO   \n",
       "3                   Rua Gomes Carneiro-124 - Ipanema            BAIXO   \n",
       "4              Rua Prudente de Morais, 660 - Ipanema            BAIXO   \n",
       "\n",
       "  EVENTO_BAIRRO   STATUS EVENTO_PRAZO                  POP_TITULO  \\\n",
       "0           NaN  FECHADO          NaN  Vazamento de água / esgoto   \n",
       "1           NaN  FECHADO          NaN  Vazamento de água / esgoto   \n",
       "2           NaN  FECHADO          NaN  Vazamento de água / esgoto   \n",
       "3           NaN  FECHADO          NaN  Vazamento de água / esgoto   \n",
       "4           NaN  FECHADO          NaN  Vazamento de água / esgoto   \n",
       "\n",
       "                POP_DESCRICAO       evento_inicio  ... search_index  \\\n",
       "0  Vazamento de água / esgoto 2015-05-16 14:33:00  ...            0   \n",
       "1  Vazamento de água / esgoto 2015-06-02 11:55:00  ...            1   \n",
       "2  Vazamento de água / esgoto 2015-06-20 12:54:00  ...            2   \n",
       "3  Vazamento de água / esgoto 2015-07-04 19:33:00  ...            3   \n",
       "4  Vazamento de água / esgoto 2015-07-07 10:28:00  ...            4   \n",
       "\n",
       "                                   formatted_address  \\\n",
       "0  Av. Borges de Medeiros, 3285 - Lagoa, Rio de J...   \n",
       "1  R. Guaicurus, 1 - Rio Comprido, Rio de Janeiro...   \n",
       "2  Av. Borges de Medeiros, 3669 - Lagoa, Rio de J...   \n",
       "3  R. Caning, 6 - Copacabana, Rio de Janeiro - RJ...   \n",
       "4  R. Vinícius de Moraes, 53a - Ipanema, Rio de J...   \n",
       "\n",
       "                      place_id                                   types  \\\n",
       "0  ChIJV7nTZHfVmwARCuQ3cTjS4yQ                      ['street_address']   \n",
       "1  ChIJqbg2CrB_mQARbghgcWLoLcU                      ['street_address']   \n",
       "2  ChIJle_kZHrVmwARYySwO9w6ido  ['establishment', 'point_of_interest']   \n",
       "3  ChIJNWNRxxfVmwARA2d3WzQgmTY            ['establishment', 'premise']   \n",
       "4  ChIJx89kxhrVmwARUpJz5Ih_Yc8                      ['street_address']   \n",
       "\n",
       "  search_lat search_lng location_type                       route  \\\n",
       "0 -22.962579 -43.210340       ROOFTOP  Avenida Borges de Medeiros   \n",
       "1 -22.926818 -43.203156       ROOFTOP               Rua Guaicurus   \n",
       "2 -22.962635 -43.206679       ROOFTOP  Avenida Borges de Medeiros   \n",
       "3 -22.984814 -43.195270       ROOFTOP                  Rua Caning   \n",
       "4 -22.985166 -43.203040       ROOFTOP      Rua Vinícius de Moraes   \n",
       "\n",
       "   postal_code                                 premise  \n",
       "0    22470-001  Condomínio Edificio Campo de Gardenias  \n",
       "1    20251-100                                     NaN  \n",
       "2    22470-001                                     NaN  \n",
       "3    22081-040                                     NaN  \n",
       "4    22411-010                                     NaN  \n",
       "\n",
       "[5 rows x 23 columns]"
      ]
     },
     "execution_count": 214,
     "metadata": {},
     "output_type": "execute_result"
    }
   ],
   "source": [
    "geocode_keep_cols = [\n",
    "    'formatted_address', 'place_id', 'types',\n",
    "    'lat', 'lng', 'location_type', 'route',\n",
    "    'postal_code', 'premise', \n",
    "]\n",
    "\n",
    "catalog['search_index'] = np.arange(len(catalog))\n",
    "selected_geocode = first_res[geocode_keep_cols].rename(columns={'lat': 'search_lat', 'lng': 'search_lng'})\n",
    "\n",
    "full_catalog = pd.merge(  # auto exclude incidents without geocoded result\n",
    "    catalog.reset_index(drop=False),\n",
    "    selected_geocode,\n",
    "    on='search_index'\n",
    ")\n",
    "\n",
    "full_catalog.head()"
   ]
  },
  {
   "cell_type": "markdown",
   "metadata": {},
   "source": [
    "### Save final catalog of incidents"
   ]
  },
  {
   "cell_type": "code",
   "execution_count": 215,
   "metadata": {},
   "outputs": [
    {
     "data": {
      "text/plain": [
       "(4124, 23)"
      ]
     },
     "execution_count": 215,
     "metadata": {},
     "output_type": "execute_result"
    }
   ],
   "source": [
    "# full_catalog.to_csv('dados/incident_catalog.csv', index=False)\n",
    "full_catalog.shape"
   ]
  },
  {
   "cell_type": "markdown",
   "metadata": {},
   "source": [
    "### Search result coordinates' difference from original coordinates"
   ]
  },
  {
   "cell_type": "code",
   "execution_count": 216,
   "metadata": {},
   "outputs": [
    {
     "data": {
      "image/png": "[encoded data removed]",
      "text/plain": [
       "<Figure size 648x216 with 2 Axes>"
      ]
     },
     "metadata": {},
     "output_type": "display_data"
    }
   ],
   "source": [
    "lat_diff = abs(full_catalog['search_lat'] - full_catalog['lat'])\n",
    "lng_diff = abs(full_catalog['search_lng'] - full_catalog['lng'])\n",
    "lat_prct, lng_prct = ( pd.Series(np.percentile(diff, range(101))) for diff in [lat_diff, lng_diff] )\n",
    "\n",
    "fig, ax = plt.subplots(1, 2, figsize=(9, 3), tight_layout=True)\n",
    "lat_prct.plot(ax=ax[0])\n",
    "lng_prct.plot(ax=ax[1])\n",
    "for i, col in zip([0,1], ['Latitude', 'Longitude']):\n",
    "    ax[i].set(\n",
    "        ylim=(-0.0001, 0.001),\n",
    "        title=f'Searched {col} Difference Percentiles',\n",
    "        ylabel='Coordinate difference',\n",
    "        xlabel='Percentile (%)'\n",
    "    )"
   ]
  }
 ],
 "metadata": {
  "kernelspec": {
   "display_name": "Python 3",
   "language": "python",
   "name": "python3"
  },
  "language_info": {
   "codemirror_mode": {
    "name": "ipython",
    "version": 3
   },
   "file_extension": ".py",
   "mimetype": "text/x-python",
   "name": "python",
   "nbconvert_exporter": "python",
   "pygments_lexer": "ipython3",
   "version": "3.8.3"
  }
 },
 "nbformat": 4,
 "nbformat_minor": 4
}
