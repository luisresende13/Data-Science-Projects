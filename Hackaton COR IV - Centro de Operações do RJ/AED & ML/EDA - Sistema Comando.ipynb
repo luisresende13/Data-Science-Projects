{
 "cells": [
  {
   "cell_type": "markdown",
   "metadata": {},
   "source": [
    "# ANÁLISE DOS REGISTROS DO SISTEMA COMANDO DE OCORRÊNCIAS COM ORIGEM METEOROLÓGICA"
   ]
  },
  {
   "cell_type": "markdown",
   "metadata": {},
   "source": [
    "---\n",
    "\n",
    "### Notebook Sections:\n",
    "1. Exploratory Data Analysis\n",
    "    1. Asses general quality of the dataset\n",
    "    2. Check potential of the dataset to serve as catalog of incidents caused by rain, for predicive modeling.\n",
    "2. Data Cleaning"
   ]
  },
  {
   "cell_type": "markdown",
   "metadata": {},
   "source": [
    "### Importar modulos e funções"
   ]
  },
  {
   "cell_type": "code",
   "execution_count": 1,
   "metadata": {},
   "outputs": [],
   "source": [
    "import os, pandas as pd, numpy as np, matplotlib.pyplot as plt, requests, json, folium\n",
    "import seaborn as sns; sns.set()\n",
    "from folium import plugins\n",
    "from IPython.display import Image\n",
    "\n",
    "### Definir classe 'data' com endereço dos dados\n",
    "class data:\n",
    "    path = r'C:\\Users\\luisr\\Desktop\\Repositories\\Dados\\Desafio COR-Rio IV\\\\'\n",
    "    AlertaAPI = r'http://websempre.rio.rj.gov.br/json/chuvas'"
   ]
  },
  {
   "cell_type": "markdown",
   "metadata": {},
   "source": [
    "### Carregando dados"
   ]
  },
  {
   "cell_type": "code",
   "execution_count": 40,
   "metadata": {},
   "outputs": [
    {
     "name": "stderr",
     "output_type": "stream",
     "text": [
      "c:\\Users\\luisr\\anaconda3\\lib\\site-packages\\IPython\\core\\interactiveshell.py:3071: DtypeWarning: Columns (4,10) have mixed types.Specify dtype option on import or set low_memory=False.\n",
      "  has_raised = await self.run_ast_nodes(code_ast.body, cell_name,\n"
     ]
    }
   ],
   "source": [
    "comando = pd.read_csv(data.path + 'comando.csv')\n",
    "data = comando.copy()"
   ]
  },
  {
   "cell_type": "markdown",
   "metadata": {},
   "source": [
    "---\n",
    "# Data Cleaning"
   ]
  },
  {
   "cell_type": "markdown",
   "metadata": {},
   "source": [
    "## 0. Extract records of incidents caused by rain"
   ]
  },
  {
   "cell_type": "code",
   "execution_count": 73,
   "metadata": {},
   "outputs": [
    {
     "name": "stdout",
     "output_type": "stream",
     "text": [
      "(12409, 18)\n",
      "(4884, 17)\n"
     ]
    }
   ],
   "source": [
    "titles = [\n",
    "    \"Bolsão d'água em via\", 'Vazamento de água / esgoto',\n",
    "    'Alagamentos e enchentes', \"Lâmina d'água\",\n",
    "    \"Lâmina d'água em via\", 'Alagamento',\n",
    "    'Enchente', 'Bueiro'\n",
    "]\n",
    "\n",
    "records = comando[comando['POP_TITULO'].isin(titles)]\n",
    "data = records.copy()\n",
    "events = records.groupby('EVENTO_ID').first() # Isolando ocorrências (primeiro registro de cada ocorrência)\n",
    "\n",
    "print(records.shape) # Número total de registros encontrados\n",
    "print(events.shape) # Número eventos de registros encontrados"
   ]
  },
  {
   "cell_type": "markdown",
   "metadata": {},
   "source": [
    "### 1. Asses data types"
   ]
  },
  {
   "cell_type": "markdown",
   "metadata": {},
   "source": [
    "##### Check first rows"
   ]
  },
  {
   "cell_type": "code",
   "execution_count": 69,
   "metadata": {},
   "outputs": [
    {
     "data": {
      "text/html": [
       "<div>\n",
       "<style scoped>\n",
       "    .dataframe tbody tr th:only-of-type {\n",
       "        vertical-align: middle;\n",
       "    }\n",
       "\n",
       "    .dataframe tbody tr th {\n",
       "        vertical-align: top;\n",
       "    }\n",
       "\n",
       "    .dataframe thead th {\n",
       "        text-align: right;\n",
       "    }\n",
       "</style>\n",
       "<table border=\"1\" class=\"dataframe\">\n",
       "  <thead>\n",
       "    <tr style=\"text-align: right;\">\n",
       "      <th></th>\n",
       "      <th>EVENTO_ID</th>\n",
       "      <th>EVENTO_TITULO</th>\n",
       "      <th>EVENTO_DESCRICAO</th>\n",
       "      <th>EVENTO_GRAVIDADE</th>\n",
       "      <th>EVENTO_BAIRRO</th>\n",
       "      <th>STATUS</th>\n",
       "      <th>EVENTO_INICIO</th>\n",
       "      <th>EVENTO_INICIO_HORA</th>\n",
       "      <th>EVENTO_FIM</th>\n",
       "      <th>EVENTO_FIM_HORA</th>\n",
       "      <th>EVENTO_PRAZO</th>\n",
       "      <th>EVENTO_LATITUDE</th>\n",
       "      <th>EVENTO_LONGITUDE</th>\n",
       "      <th>POP_TITULO</th>\n",
       "      <th>POP_DESCRICAO</th>\n",
       "      <th>ORGAO_SIGLA</th>\n",
       "      <th>ORGAO_NOME</th>\n",
       "      <th>ACAO</th>\n",
       "    </tr>\n",
       "  </thead>\n",
       "  <tbody>\n",
       "    <tr>\n",
       "      <th>214</th>\n",
       "      <td>60</td>\n",
       "      <td>Queda de Árvore na Rua Pacheco Leão, 1587</td>\n",
       "      <td>NaN</td>\n",
       "      <td>BAIXO</td>\n",
       "      <td>NaN</td>\n",
       "      <td>FECHADO</td>\n",
       "      <td>2015-04-10</td>\n",
       "      <td>15:59:00</td>\n",
       "      <td>2015-04-11</td>\n",
       "      <td>08:37:00</td>\n",
       "      <td>NaN</td>\n",
       "      <td>-23.0</td>\n",
       "      <td>-4.323430e+15</td>\n",
       "      <td>Bolsão d'água em via</td>\n",
       "      <td>Bolsão d'água em via</td>\n",
       "      <td>CET-RIO</td>\n",
       "      <td>Companhia de Engenharia de Tráfego</td>\n",
       "      <td>Desfazer o acidente</td>\n",
       "    </tr>\n",
       "    <tr>\n",
       "      <th>215</th>\n",
       "      <td>60</td>\n",
       "      <td>Queda de Árvore na Rua Pacheco Leão, 1587</td>\n",
       "      <td>NaN</td>\n",
       "      <td>BAIXO</td>\n",
       "      <td>NaN</td>\n",
       "      <td>FECHADO</td>\n",
       "      <td>2015-04-10</td>\n",
       "      <td>15:59:00</td>\n",
       "      <td>2015-04-11</td>\n",
       "      <td>08:37:00</td>\n",
       "      <td>NaN</td>\n",
       "      <td>-23.0</td>\n",
       "      <td>-4.323430e+15</td>\n",
       "      <td>Bolsão d'água em via</td>\n",
       "      <td>Bolsão d'água em via</td>\n",
       "      <td>CET-RIO</td>\n",
       "      <td>Companhia de Engenharia de Tráfego</td>\n",
       "      <td>Organizar o trânsito</td>\n",
       "    </tr>\n",
       "    <tr>\n",
       "      <th>216</th>\n",
       "      <td>60</td>\n",
       "      <td>Queda de Árvore na Rua Pacheco Leão, 1587</td>\n",
       "      <td>NaN</td>\n",
       "      <td>BAIXO</td>\n",
       "      <td>NaN</td>\n",
       "      <td>FECHADO</td>\n",
       "      <td>2015-04-10</td>\n",
       "      <td>15:59:00</td>\n",
       "      <td>2015-04-11</td>\n",
       "      <td>08:37:00</td>\n",
       "      <td>NaN</td>\n",
       "      <td>-23.0</td>\n",
       "      <td>-4.323430e+15</td>\n",
       "      <td>Bolsão d'água em via</td>\n",
       "      <td>Bolsão d'água em via</td>\n",
       "      <td>COMLURB</td>\n",
       "      <td>Companhia de Limpeza Urbana</td>\n",
       "      <td>Cortar e retirar árvore</td>\n",
       "    </tr>\n",
       "  </tbody>\n",
       "</table>\n",
       "</div>"
      ],
      "text/plain": [
       "     EVENTO_ID                              EVENTO_TITULO EVENTO_DESCRICAO  \\\n",
       "214         60  Queda de Árvore na Rua Pacheco Leão, 1587              NaN   \n",
       "215         60  Queda de Árvore na Rua Pacheco Leão, 1587              NaN   \n",
       "216         60  Queda de Árvore na Rua Pacheco Leão, 1587              NaN   \n",
       "\n",
       "    EVENTO_GRAVIDADE EVENTO_BAIRRO   STATUS EVENTO_INICIO EVENTO_INICIO_HORA  \\\n",
       "214            BAIXO           NaN  FECHADO    2015-04-10           15:59:00   \n",
       "215            BAIXO           NaN  FECHADO    2015-04-10           15:59:00   \n",
       "216            BAIXO           NaN  FECHADO    2015-04-10           15:59:00   \n",
       "\n",
       "     EVENTO_FIM EVENTO_FIM_HORA EVENTO_PRAZO  EVENTO_LATITUDE  \\\n",
       "214  2015-04-11        08:37:00          NaN            -23.0   \n",
       "215  2015-04-11        08:37:00          NaN            -23.0   \n",
       "216  2015-04-11        08:37:00          NaN            -23.0   \n",
       "\n",
       "     EVENTO_LONGITUDE            POP_TITULO         POP_DESCRICAO ORGAO_SIGLA  \\\n",
       "214     -4.323430e+15  Bolsão d'água em via  Bolsão d'água em via     CET-RIO   \n",
       "215     -4.323430e+15  Bolsão d'água em via  Bolsão d'água em via     CET-RIO   \n",
       "216     -4.323430e+15  Bolsão d'água em via  Bolsão d'água em via     COMLURB   \n",
       "\n",
       "                             ORGAO_NOME                     ACAO  \n",
       "214  Companhia de Engenharia de Tráfego      Desfazer o acidente  \n",
       "215  Companhia de Engenharia de Tráfego     Organizar o trânsito  \n",
       "216         Companhia de Limpeza Urbana  Cortar e retirar árvore  "
      ]
     },
     "execution_count": 69,
     "metadata": {},
     "output_type": "execute_result"
    }
   ],
   "source": [
    "records.head(3)"
   ]
  },
  {
   "cell_type": "markdown",
   "metadata": {},
   "source": [
    "##### Identify variables' types"
   ]
  },
  {
   "cell_type": "code",
   "execution_count": 70,
   "metadata": {},
   "outputs": [],
   "source": [
    "cols = {\n",
    "    'text': [\n",
    "        'EVENTO_TITULO', 'EVENTO_DESCRICAO'\n",
    "    ],\n",
    "    'categorical': [\n",
    "        'EVENTO_GRAVIDADE', 'EVENTO_BAIRRO', 'STATUS', 'EVENTO_PRAZO',\n",
    "        'POP_TITULO', 'POP_DESCRICAO', 'ORGAO_SIGLA', 'ORGAO_NOME', 'ACAO'\n",
    "    ],\n",
    "    'datetime': [\n",
    "        'EVENTO_INICIO', 'EVENTO_INICIO_HORA',\n",
    "        'EVENTO_FIM', 'EVENTO_FIM_HORA'\n",
    "    ],\n",
    "    'location': [\n",
    "        'EVENTO_LATITUDE', 'EVENTO_LONGITUDE'\n",
    "    ]\n",
    "}"
   ]
  },
  {
   "cell_type": "markdown",
   "metadata": {},
   "source": [
    "#### Check raw data types"
   ]
  },
  {
   "cell_type": "code",
   "execution_count": 71,
   "metadata": {},
   "outputs": [
    {
     "name": "stdout",
     "output_type": "stream",
     "text": [
      "<class 'pandas.core.frame.DataFrame'>\n",
      "Int64Index: 5 entries, 214 to 250\n",
      "Data columns (total 18 columns):\n",
      " #   Column              Non-Null Count  Dtype  \n",
      "---  ------              --------------  -----  \n",
      " 0   EVENTO_ID           5 non-null      int64  \n",
      " 1   EVENTO_TITULO       5 non-null      object \n",
      " 2   EVENTO_DESCRICAO    1 non-null      object \n",
      " 3   EVENTO_GRAVIDADE    5 non-null      object \n",
      " 4   EVENTO_BAIRRO       0 non-null      object \n",
      " 5   STATUS              5 non-null      object \n",
      " 6   EVENTO_INICIO       5 non-null      object \n",
      " 7   EVENTO_INICIO_HORA  5 non-null      object \n",
      " 8   EVENTO_FIM          5 non-null      object \n",
      " 9   EVENTO_FIM_HORA     5 non-null      object \n",
      " 10  EVENTO_PRAZO        0 non-null      object \n",
      " 11  EVENTO_LATITUDE     5 non-null      float64\n",
      " 12  EVENTO_LONGITUDE    5 non-null      float64\n",
      " 13  POP_TITULO          5 non-null      object \n",
      " 14  POP_DESCRICAO       5 non-null      object \n",
      " 15  ORGAO_SIGLA         5 non-null      object \n",
      " 16  ORGAO_NOME          5 non-null      object \n",
      " 17  ACAO                5 non-null      object \n",
      "dtypes: float64(2), int64(1), object(15)\n",
      "memory usage: 760.0+ bytes\n"
     ]
    }
   ],
   "source": [
    "records.head().info()"
   ]
  },
  {
   "cell_type": "markdown",
   "metadata": {},
   "source": [
    "Conclusion: Only datetime variables require type conversion."
   ]
  },
  {
   "cell_type": "markdown",
   "metadata": {},
   "source": [
    "---\n",
    "### 2. Asses categorical values"
   ]
  },
  {
   "cell_type": "markdown",
   "metadata": {},
   "source": [
    "Categorical columns (unique categories):\n",
    "* EVENTO_GRAVIDADE (BAIXO, MEDIO, ALTO, SEM_CLASSIFICAÇÃO, CRITICO). Extra values: Litoral do Rio de Janeiro\n",
    "* EVENTO_BAIRRO (339) - Desestruturado\n",
    "    * contém 'nan'\n",
    "    * Valores de categorias não uniforme: Bairros de mesmo nome com escrita diferente.\n",
    "    * Contem valores inválidos: Nomes de rua, números, endereços, etc.\n",
    "    * Necessita método strip()\n",
    "* EVENTO_STATUS (FECHADO, ABERTO). Extra values: FINALIZADO, Litoral do Rio de Janeiro\n",
    "* (CURTO, MEDIO, LONGO)\n",
    "* POP_TITULO (40)\n",
    "* POP_DESCRICAO (42)\n",
    "* ORGAO_SIGLA (34)\n",
    "* ORGAO_NOME (35)\n",
    "* ACAO (70)"
   ]
  },
  {
   "cell_type": "code",
   "execution_count": null,
   "metadata": {},
   "outputs": [],
   "source": [
    "for col in cols['categorical']: # descomente para conferir valores unicos\n",
    "    print('\\n\\n', col, ': ', len(records[col].unique()), '\\n')\n",
    "    display(records[col].value_counts())"
   ]
  },
  {
   "cell_type": "markdown",
   "metadata": {},
   "source": [
    "---\n",
    "### 3. Assess text variables"
   ]
  },
  {
   "cell_type": "markdown",
   "metadata": {},
   "source": [
    "---\n",
    "### 4. Asses location variables"
   ]
  },
  {
   "cell_type": "markdown",
   "metadata": {},
   "source": [
    "#### Functions to compute and update order of magnitude of coordinates."
   ]
  },
  {
   "cell_type": "code",
   "execution_count": 7,
   "metadata": {},
   "outputs": [],
   "source": [
    "def orderOfMagnitude(number):\n",
    "    return np.floor(np.log10(abs(number)))\n",
    "\n",
    "def correct_magnitude(number, mag=1):\n",
    "    if type(number)==float:\n",
    "        magnitude = orderOfMagnitude(number)\n",
    "        return number / 10 ** ( orderOfMagnitude(number) - mag )\n",
    "    else:\n",
    "        return [correct_magnitude(n, mag) for n in number]\n",
    "\n",
    "nan_list_filter = lambda coord: not np.isnan(coord[0]) and not np.isnan(coord[1])\n",
    "incomplete_values = [-22.8, -22.9, -23.0]\n",
    "incomplete_coord_filter = lambda coord: coord[0] not in incomplete_values and coord[1] not in incomplete_values"
   ]
  },
  {
   "cell_type": "code",
   "execution_count": 74,
   "metadata": {},
   "outputs": [
    {
     "name": "stderr",
     "output_type": "stream",
     "text": [
      "<ipython-input-7-cf9ef71831ff>:2: RuntimeWarning: divide by zero encountered in log10\n",
      "  return np.floor(np.log10(abs(number)))\n",
      "<ipython-input-7-cf9ef71831ff>:7: RuntimeWarning: invalid value encountered in double_scalars\n",
      "  return number / 10 ** ( orderOfMagnitude(number) - mag )\n"
     ]
    }
   ],
   "source": [
    "data['lat'] = correct_magnitude(data['EVENTO_LONGITUDE'], mag=1)\n",
    "data['lng'] = correct_magnitude(data['EVENTO_LATITUDE'], mag=1)\n"
   ]
  },
  {
   "cell_type": "code",
   "execution_count": 127,
   "metadata": {},
   "outputs": [],
   "source": [
    "def keep_from_decimal(numbers, decimal=1): # accepts array\n",
    "    valid_index = []\n",
    "    for limit in range(1, decimal+1):\n",
    "        next_decimal = numbers * 10 ** (limit-1)\n",
    "        next_abs_dif = abs(next_decimal - next_decimal.round(0))\n",
    "        valid_index += list(numbers.index[next_abs_dif > 0.0])\n",
    "    return np.unique(valid_index)\n",
    "\n",
    "valid_index = keep_from_decimal(data['lat'], 3)\n",
    "data['lat'].tolist()"
   ]
  },
  {
   "cell_type": "markdown",
   "metadata": {},
   "source": [
    "### 5. Asses time variables"
   ]
  },
  {
   "cell_type": "markdown",
   "metadata": {},
   "source": [
    "### 7. Check missing values notation uniformity"
   ]
  },
  {
   "cell_type": "markdown",
   "metadata": {},
   "source": [
    "---\n",
    "# Data Cleaning and Feature Engineering"
   ]
  },
  {
   "cell_type": "markdown",
   "metadata": {},
   "source": [
    "---\n",
    "## Location variables"
   ]
  },
  {
   "cell_type": "markdown",
   "metadata": {},
   "source": [
    "##### Funções de tratamento/formatação de coordenadas"
   ]
  },
  {
   "cell_type": "markdown",
   "metadata": {},
   "source": [
    "##### Tratando dados de coordenadas"
   ]
  },
  {
   "cell_type": "code",
   "execution_count": null,
   "metadata": {},
   "outputs": [],
   "source": [
    "comando['lat'] = correct_magnitude(events['EVENTO_LONGITUDE'], mag=1)\n",
    "comando['lng'] = correct_magnitude(events['EVENTO_LATITUDE'], mag=1)\n",
    "                 \n",
    "coords_raw = list(zip(\n",
    "    comando['lat'].tolist(),\n",
    "    events['lng'].tolist()\n",
    "))\n",
    "\n",
    "coords = list(filter(nan_list_filter, coords_raw))\n",
    "coords = list(filter(incomplete_coord_filter, coords))\n",
    "\n",
    "n_markers = 150\n",
    "\n",
    "coords_txt = '|'.join( list(map(encode_coords, coords))[10: n_markers] )\n",
    "\n",
    "len(coords_raw) - len(coords) # coordenadas faltando"
   ]
  },
  {
   "cell_type": "markdown",
   "metadata": {},
   "source": [
    "---\n",
    "# Exploratory data analysis: Catalog of incidents"
   ]
  },
  {
   "cell_type": "code",
   "execution_count": 4,
   "metadata": {},
   "outputs": [
    {
     "name": "stdout",
     "output_type": "stream",
     "text": [
      "(12409, 18)\n",
      "(4884, 17)\n"
     ]
    }
   ],
   "source": [
    "titles = [\n",
    "    \"Bolsão d'água em via\", 'Vazamento de água / esgoto',\n",
    "    'Alagamentos e enchentes', \"Lâmina d'água\",\n",
    "    \"Lâmina d'água em via\", 'Alagamento',\n",
    "    'Enchente', 'Bueiro'\n",
    "]\n",
    "\n",
    "records = comando[comando['POP_TITULO'].isin(titles)]\n",
    "\n",
    "events = records.groupby('EVENTO_ID').first() # Isolando ocorrências (primeiro registro de cada ocorrência)\n",
    "\n",
    "print(records.shape) # Número total de registros encontrados\n",
    "print(events.shape) # Número eventos de registros encontrados"
   ]
  }
 ],
 "metadata": {
  "kernelspec": {
   "display_name": "Python 3",
   "language": "python",
   "name": "python3"
  },
  "language_info": {
   "codemirror_mode": {
    "name": "ipython",
    "version": 3
   },
   "file_extension": ".py",
   "mimetype": "text/x-python",
   "name": "python",
   "nbconvert_exporter": "python",
   "pygments_lexer": "ipython3",
   "version": "3.8.3"
  }
 },
 "nbformat": 4,
 "nbformat_minor": 4
}
