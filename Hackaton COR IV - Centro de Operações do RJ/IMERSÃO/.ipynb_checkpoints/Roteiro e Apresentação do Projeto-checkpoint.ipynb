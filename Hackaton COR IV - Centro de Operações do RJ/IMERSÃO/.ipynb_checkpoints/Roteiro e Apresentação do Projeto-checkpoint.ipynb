{
 "cells": [
  {
   "cell_type": "code",
   "execution_count": null,
   "metadata": {},
   "outputs": [],
   "source": [
    "Desafios e dores:\n",
    "    \n",
    "1. Prever formação de acúmulos e bolsões d'água\n",
    "2. "
   ]
  },
  {
   "cell_type": "markdown",
   "metadata": {},
   "source": [
    "### Desafios:\n",
    "\n",
    "1. Como identificar em **tempo real** o **risco e a ocorrência** de **deslizamentos** através de tecnologia de **baixo custo**?\n",
    "2. Como prever a **formação e o escoamento** de **acúmulos d’água em vias urbanas**?\n",
    "3. Como prever o **nível de rios, lagoas ou reservatórios** a partir de **dados pluviométricos** em **tempo real**?\n",
    "4. Como **ampliar** a **utilização de satélites** no **monitoramento sensorial** da cidade (ex: Imagens tipo SAR para mapeamento de danos e áreas inundadas; satélites ópticos para monitoramento de qualidade de água)?\n",
    "5. Como **acelerar** a **identificação e avaliação dos riscos** das **áreas mais vulneráveis** aos impactos das mudanças climáticas(ressaca, inundações e deslizamentos) com bases em ciência de dados?\n",
    "6. Como **identificar, quantificar ou reduzir** o **impacto** do **descarte de resíduos sólidos** **durante eventos de chuva forte**?     "
   ]
  },
  {
   "cell_type": "markdown",
   "metadata": {},
   "source": [
    "### Pontos pitch (previsão)\n",
    "\n",
    "Palavras chave: Fazer previsões, acelerar identificação, reduzir tempo de resposta, aumentar confiança, otimizar recursos.\n",
    "\n",
    "Não vamos entregar um modelo preditivo, vamos entregar o melhor modelo preditivo de acúmulos d'água em vias já aplicado no Rio de Janeiro.\n",
    "\n",
    "Nossaa ferramenta vai entregar ao cor previsões mais rápidas e acertivas de acúmulos d´agua.\n",
    "\n",
    "A rapidez e qualidade de nossas previsões vão superar em muito a velocidade e qualidade de previsão do processo atual existente no cor.\n",
    "\n",
    "Com a nossa ferramenta o cor terá previsões mais rápidas e acertivas, acelerando a identificação dos eventos, o tempo de reação e otimizando os recursos empregados no combate aos desastres.\n",
    "\n",
    "Isso é possível? Por que acreditamos nisso?\n",
    "1. Conversamos com agentes cor e avaliamos o processo atual de ***identificação*** e ***reação*** aos acúmulos dágua (funciniona assim e assado)\n",
    "2. Conversamos com profissionais de hidrologia e ciencia de dados, e avaliamos as melhores técnologias e estratégias atuais de previsão desses eventos, que estão em produção ou que estão no papel.\n",
    "3. Com base nisso, desenvolvemos a proposta de ferramenta que vai trazer o que há de mais novo e eficaz para previsão rápida e confiável dos eventos (+ comunicação automática, etc), sem deixar de ser simples e intuitiva para quem vai usar.\n",
    "\n",
    "Importância de se investir na integração de um catalogo de ocorrências, e no registro dos alagamentos, para aumentar a qualidade do modelo no longo prazo. (ESTRATÉGIA DE LONGO PRAZO)"
   ]
  },
  {
   "cell_type": "markdown",
   "metadata": {},
   "source": [
    "---\n",
    "### Quais dados vamos usar?\n",
    "\n",
    "Procedimento padrão:\n",
    "1. Define-se o problema (já sabemos): prever acúmulos d'água e tempo de escoamento\n",
    "2. Junta-se os ***dados existentes***, testa-se a precisão, modelo em produção\n",
    "3. Em paralelo, propõe-se uma estratégia de captação de novos dados ainda não coletados (***dados inexistentes***):\n",
    "    \n",
    "Lista dados existentes:\n",
    "1. Dados do cor, app do cor, etc\n",
    "2. Dados externos:\n",
    "    1. waze, googlemaps, outros apps\n",
    "    2. dados públicos\n",
    "    3. sensores existentes\n",
    "    4. NOAH\n",
    "    5. dados de limpeza de boeiros\n",
    "    6. dados de caracteristicas de drenagem.\n",
    "    7. Dados/catalogos de professores, pesquisaadores, grupos acadêmicos, corporativos ou públicos.       \n",
    "    \n",
    "Lista dados inexistentes:\n",
    "1. Novos sensores\n",
    "2. Catalogar-ativamente/Juntar-catalogos de acúmulos dágua (Importante. Pode-se fazer parceirias, por exemplo com a mídia, redes sociais, para que eles participem da catalogação contínua)\n",
    "3. Registrar limpeza dos bueiros e outros processos.\n",
    "4. Coletar novos dados no geral (inexistentes, não coletados ainda)\n",
    "\n",
    "Colocando isso em ***etapas*** (considerando que teremos a fase de aceleração para isso):\n",
    "1. Modelo preliminar com os dados existentes, com precisão mensurada e em produção.\n",
    "2. Em paralelo, implementa-se as estratégias de captação dos novos dados (inexistentes).\n",
    "2. Cruzam-se os novos dados, realimentamos os resultados do modelo preliminar, melhoramos a qualidade da previsão.\n",
    "3. Continuar realimentando e melhorando a previsão.\n",
    "    \n",
    "Fraqueza (a realidade da vida é):\n",
    "1. As equipes sem um modelo pronto, precisam testar para saber se os dados existentes resolvem o problema (são suficientes).\n",
    "3. Não tem tempo hábil para testar os dados existentes até o pitch (nem pras outras equipes).\n",
    "\n",
    "Por que isso pode ser uma oportunidade:\n",
    "1. Acúmulo d'água em vias é o evento mais fácil de prever dentre os levantados.\n",
    "2. Se o pedro consegue cruzar os dados e acertar, é provável que um modelo preditivo consegue fazer melhor (acertar mais).\n",
    "3. Em outras palvaras: Somos confiantes que é possível alcançar precisão melhor que do processo atual (errar menos que o pedro).\n",
    "4. É possível calcular quanto tempo e recursos do cor são economizados (ou de outros orgãos), dependendo da precisão alcançada, entre outros cálculos de retorno/custo/benefício.\n",
    "5. Com a estratégia correta de obtenção de novos dados (inexistentes), podemos falar que com certeza vamos ter previsões de alta qualidade no futuro próximo.\n",
    "    \n",
    "Pontos paralelos:\n",
    "1. Agente ou funcinario reporta as informações do evento após o ocorrido (escoamento, duração, vitimas, ações, etc). Feedback da população e outros.\n",
    "2. Incluir ***dados diversos*** para não ter viés (acontecimento da feira, dia da semana, mes, etc)\n",
    "3. Quanto mais dados melhor (a princípio).\n",
    "4. Incluir ***dados preditivos inusitados*** (demografia, renda, comércio, dia da semana, última limpeza de boeiros realizada, tipo de drenagem, etc)"
   ]
  },
  {
   "cell_type": "markdown",
   "metadata": {},
   "source": [
    "---\n",
    "### Pontos técnicos:\n",
    "\n",
    "1. Estratégia do modelo (Trabalhar com pontos ou áreas?):\n",
    "    1. Opção 1: Modelo pontual (trabalha com pontos específicos de alta sucetibilidade e vulnerabilidade): Preferido, pois:\n",
    "        1. reduz a complexidade, mais simples\n",
    "        2. tem maior foco\n",
    "        4. se baseia no depoimento do Marcelo.\n",
    "        3. se baseia na análise do top 50 do ralo limpo, que demostra que há pontos críticos.\n",
    "    2. Opção 2: Modelo espacial (não trabalha com pontos e sim com áreas):\n",
    "        1. geralmente é visualizado por gradiente de cores ao longo de áreas\n",
    "        2. melhor para deslizamentos.\n",
    "        3. complexo demais pro problema de acúmulos d'água.\n",
    "2. Tipo do modelo:\n",
    "    1. Regressão, classificação, clusterização, séries temporais, redes neurais, visão computacional, NLP?\n",
    "    2. Isso depende mais dos tipos de dados que identificarmos como úteis (provavalemente será regressão, classificação ou séries temporais)\n",
    "    3. Pode ser definido posterior a coleta dos dados\n",
    "    \n",
    "### Desafios Técnicos:\n",
    "\n",
    "1. Problema de previsão altamente desbalanceado (evento raro). Uma forma de contornar pode ser trabalhar com previsões somente em casos de chuva acima  ou próxima da região (isso reduz a raridade do evento, ou seja, o desbalanceamento, e ajuda no treinamento do modelo).\n",
    "2. Para prever em tempo real, ***precisamos de dados em tempo real*** (dados fixos também são usados, mas não são suficientes por si só)\n",
    "3. A ***frequência dos dados em tempo real*** é importante: Se temos dados de hora em hora, fazemos previsões de hora em hora, etc\n",
    "4. Adaptar previsões do modelo com necessidade/protocolos do cor. exemplo: cor trabalha com classes de risco \"baixo\", \"médio\", \"alto\", modelo trabalha com essas mesmas classes.\n",
    "5. Adaptar ferramenta pra trabalhar de acordo com a precisaõ obitida (a precisão não é perfeita, porém vai trazere mais confiança e velocidaade que o processo atual)\n",
    "\n",
    "Obs:\n",
    "1. Não é possível ."
   ]
  },
  {
   "cell_type": "markdown",
   "metadata": {},
   "source": [
    "### Entrevista marcelo\n",
    "\n",
    "1. Tem o pluviometro, é conhecedor, começa a monitorar por camera e formação de lamina, noah, deslocamento das nuvens, \n",
    "2. previsão, tendencia de agravamento ou melhora, geraa reducao de recursos (equipe é deslocada para outros pontos)\n",
    "3. catate, procedimento de fechamento da rua apartir de X altura da lamina\n",
    "4. Comunicação: CET_rio monitora o deslocamento das motos. caminhão da colurb tem gps, marcelo tem acesso\n",
    "5. Quem fala com a ponta? COR é orgao meio, os orgãos. Aciona o orgão: em estágio de normalidade,  via whatssap. em estágio de mobilização, os diretores vão presencialmente ao cor.\n",
    "6. Objetivo, diminuir tempo de resposta.\n",
    "7. identificação da ocorrência: \n",
    "8. Agilidade e veracidade da informação\n",
    "\n",
    "Teoria dos 4 is\n",
    "integração, informação, identificação, inovação\n"
   ]
  },
  {
   "cell_type": "markdown",
   "metadata": {},
   "source": [
    "### Entrevista Patrícia\n",
    "\n",
    "\n",
    "Escitório de dados:\n",
    "Criou datalake (repositorio de dados abertos da prefeitura)\n",
    "quantidade de precitação, pluviometro (alerta) (real time) (15 min ou 5)\n",
    "Dados do INMET (meteorologia) (uma em uma hora)\n",
    "Satélite  (precipitação)\n",
    "Radar meteorológico\n",
    "\n",
    "Se instituição disponibilizar em tempo real\n",
    "Nimbus\n",
    "\n",
    "Obras civis\n",
    "\n",
    "Limpeza urbana lixo\n",
    "\n",
    "Prefeitura comprou cameras que avaliam a profundidade da lamina dágua\n",
    "\n",
    "dados de maré\n",
    "\n",
    "Rio águas: Nivel de rios, Nivel das barragens, Comportas, crogonograma\n"
   ]
  }
 ],
 "metadata": {
  "kernelspec": {
   "display_name": "Python 3",
   "language": "python",
   "name": "python3"
  },
  "language_info": {
   "codemirror_mode": {
    "name": "ipython",
    "version": 3
   },
   "file_extension": ".py",
   "mimetype": "text/x-python",
   "name": "python",
   "nbconvert_exporter": "python",
   "pygments_lexer": "ipython3",
   "version": "3.8.3"
  }
 },
 "nbformat": 4,
 "nbformat_minor": 4
}
