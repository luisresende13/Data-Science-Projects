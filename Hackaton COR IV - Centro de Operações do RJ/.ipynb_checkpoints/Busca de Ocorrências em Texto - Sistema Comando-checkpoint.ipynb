{
 "cells": [
  {
   "cell_type": "markdown",
   "metadata": {},
   "source": [
    "---\n",
    "# Buscando registros por termo chave - Sistema Comando"
   ]
  },
  {
   "cell_type": "code",
   "execution_count": 4,
   "metadata": {},
   "outputs": [
    {
     "name": "stderr",
     "output_type": "stream",
     "text": [
      "c:\\Users\\luisr\\anaconda3\\lib\\site-packages\\IPython\\core\\interactiveshell.py:3071: DtypeWarning: Columns (4,10) have mixed types.Specify dtype option on import or set low_memory=False.\n",
      "  has_raised = await self.run_ast_nodes(code_ast.body, cell_name,\n"
     ]
    }
   ],
   "source": [
    "comando = pd.read_csv(data.path + 'comando.csv') "
   ]
  },
  {
   "cell_type": "code",
   "execution_count": 5,
   "metadata": {},
   "outputs": [
    {
     "data": {
      "text/html": [
       "<div>\n",
       "<style scoped>\n",
       "    .dataframe tbody tr th:only-of-type {\n",
       "        vertical-align: middle;\n",
       "    }\n",
       "\n",
       "    .dataframe tbody tr th {\n",
       "        vertical-align: top;\n",
       "    }\n",
       "\n",
       "    .dataframe thead th {\n",
       "        text-align: right;\n",
       "    }\n",
       "</style>\n",
       "<table border=\"1\" class=\"dataframe\">\n",
       "  <thead>\n",
       "    <tr style=\"text-align: right;\">\n",
       "      <th></th>\n",
       "      <th>EVENTO_ID</th>\n",
       "      <th>EVENTO_TITULO</th>\n",
       "      <th>EVENTO_DESCRICAO</th>\n",
       "      <th>EVENTO_GRAVIDADE</th>\n",
       "      <th>EVENTO_BAIRRO</th>\n",
       "      <th>STATUS</th>\n",
       "      <th>EVENTO_INICIO</th>\n",
       "      <th>EVENTO_INICIO_HORA</th>\n",
       "      <th>EVENTO_FIM</th>\n",
       "      <th>EVENTO_FIM_HORA</th>\n",
       "      <th>EVENTO_PRAZO</th>\n",
       "      <th>EVENTO_LATITUDE</th>\n",
       "      <th>EVENTO_LONGITUDE</th>\n",
       "      <th>POP_TITULO</th>\n",
       "      <th>POP_DESCRICAO</th>\n",
       "      <th>ORGAO_SIGLA</th>\n",
       "      <th>ORGAO_NOME</th>\n",
       "      <th>ACAO</th>\n",
       "    </tr>\n",
       "  </thead>\n",
       "  <tbody>\n",
       "    <tr>\n",
       "      <th>0</th>\n",
       "      <td>2</td>\n",
       "      <td>Ac mt e tx, na LVermelha, sent Centro, altura ...</td>\n",
       "      <td>Ac mt e tx, na LVermelha, sent Centro, altura ...</td>\n",
       "      <td>BAIXO</td>\n",
       "      <td>NaN</td>\n",
       "      <td>FECHADO</td>\n",
       "      <td>2015-02-23</td>\n",
       "      <td>12:13:00</td>\n",
       "      <td>2015-02-23</td>\n",
       "      <td>14:18:00</td>\n",
       "      <td>NaN</td>\n",
       "      <td>0.0</td>\n",
       "      <td>0.0</td>\n",
       "      <td>Acidente com vítima(s)</td>\n",
       "      <td>Acidente com vítima(s)</td>\n",
       "      <td>CET-RIO</td>\n",
       "      <td>Companhia de Engenharia de Tráfego</td>\n",
       "      <td>Desfazer o acidente</td>\n",
       "    </tr>\n",
       "    <tr>\n",
       "      <th>1</th>\n",
       "      <td>2</td>\n",
       "      <td>Ac mt e tx, na LVermelha, sent Centro, altura ...</td>\n",
       "      <td>Ac mt e tx, na LVermelha, sent Centro, altura ...</td>\n",
       "      <td>BAIXO</td>\n",
       "      <td>NaN</td>\n",
       "      <td>FECHADO</td>\n",
       "      <td>2015-02-23</td>\n",
       "      <td>12:13:00</td>\n",
       "      <td>2015-02-23</td>\n",
       "      <td>14:18:00</td>\n",
       "      <td>NaN</td>\n",
       "      <td>NaN</td>\n",
       "      <td>0.0</td>\n",
       "      <td>Acidente com vítima(s)</td>\n",
       "      <td>Acidente com vítima(s)</td>\n",
       "      <td>CET-RIO</td>\n",
       "      <td>Companhia de Engenharia de Tráfego</td>\n",
       "      <td>Organizar o trânsito</td>\n",
       "    </tr>\n",
       "    <tr>\n",
       "      <th>2</th>\n",
       "      <td>2</td>\n",
       "      <td>Ac mt e tx, na LVermelha, sent Centro, altura ...</td>\n",
       "      <td>Ac mt e tx, na LVermelha, sent Centro, altura ...</td>\n",
       "      <td>BAIXO</td>\n",
       "      <td>NaN</td>\n",
       "      <td>FECHADO</td>\n",
       "      <td>2015-02-23</td>\n",
       "      <td>12:13:00</td>\n",
       "      <td>2015-02-23</td>\n",
       "      <td>14:18:00</td>\n",
       "      <td>NaN</td>\n",
       "      <td>0.0</td>\n",
       "      <td>0.0</td>\n",
       "      <td>Acidente com vítima(s)</td>\n",
       "      <td>Acidente com vítima(s)</td>\n",
       "      <td>BOMBEIROS</td>\n",
       "      <td>Corpo de Bombeiros</td>\n",
       "      <td>Atender vítima(s)</td>\n",
       "    </tr>\n",
       "  </tbody>\n",
       "</table>\n",
       "</div>"
      ],
      "text/plain": [
       "   EVENTO_ID                                      EVENTO_TITULO  \\\n",
       "0          2  Ac mt e tx, na LVermelha, sent Centro, altura ...   \n",
       "1          2  Ac mt e tx, na LVermelha, sent Centro, altura ...   \n",
       "2          2  Ac mt e tx, na LVermelha, sent Centro, altura ...   \n",
       "\n",
       "                                    EVENTO_DESCRICAO EVENTO_GRAVIDADE  \\\n",
       "0  Ac mt e tx, na LVermelha, sent Centro, altura ...            BAIXO   \n",
       "1  Ac mt e tx, na LVermelha, sent Centro, altura ...            BAIXO   \n",
       "2  Ac mt e tx, na LVermelha, sent Centro, altura ...            BAIXO   \n",
       "\n",
       "  EVENTO_BAIRRO   STATUS EVENTO_INICIO EVENTO_INICIO_HORA  EVENTO_FIM  \\\n",
       "0           NaN  FECHADO    2015-02-23           12:13:00  2015-02-23   \n",
       "1           NaN  FECHADO    2015-02-23           12:13:00  2015-02-23   \n",
       "2           NaN  FECHADO    2015-02-23           12:13:00  2015-02-23   \n",
       "\n",
       "  EVENTO_FIM_HORA EVENTO_PRAZO  EVENTO_LATITUDE  EVENTO_LONGITUDE  \\\n",
       "0        14:18:00          NaN              0.0               0.0   \n",
       "1        14:18:00          NaN              NaN               0.0   \n",
       "2        14:18:00          NaN              0.0               0.0   \n",
       "\n",
       "               POP_TITULO           POP_DESCRICAO ORGAO_SIGLA  \\\n",
       "0  Acidente com vítima(s)  Acidente com vítima(s)     CET-RIO   \n",
       "1  Acidente com vítima(s)  Acidente com vítima(s)     CET-RIO   \n",
       "2  Acidente com vítima(s)  Acidente com vítima(s)   BOMBEIROS   \n",
       "\n",
       "                           ORGAO_NOME                  ACAO  \n",
       "0  Companhia de Engenharia de Tráfego   Desfazer o acidente  \n",
       "1  Companhia de Engenharia de Tráfego  Organizar o trânsito  \n",
       "2                  Corpo de Bombeiros     Atender vítima(s)  "
      ]
     },
     "execution_count": 5,
     "metadata": {},
     "output_type": "execute_result"
    }
   ],
   "source": [
    "comando.head(3)"
   ]
  },
  {
   "cell_type": "markdown",
   "metadata": {},
   "source": [
    "### Função de busca de termos nos registros"
   ]
  },
  {
   "cell_type": "code",
   "execution_count": null,
   "metadata": {},
   "outputs": [],
   "source": [
    "def replace_accents(string):\n",
    "    item = string.lower()\n",
    "    for a, b in zip(['á', 'é', 'í', 'ó', 'ú', 'ç'], ['a', 'e', 'i', 'o', 'u', 'c']):\n",
    "        item = item.replace(a, b)\n",
    "    return item\n",
    "\n",
    "def search_records(records, queries, avoid=[]):\n",
    "    matches = []\n",
    "    for i, index in enumerate(records.index):\n",
    "        if i%10000 == 0: print(f'{i+1}/{records.shape[0]}'); co(wait=True)\n",
    "        record = records.loc[index]\n",
    "        if type(record)==str:\n",
    "            record = replace_accents(record)\n",
    "            query_matches, match_words = [], []\n",
    "            for query in queries:\n",
    "                if query in record:\n",
    "                    words = record.split(' ')\n",
    "                    for word in words:\n",
    "                        if query in word:\n",
    "                            if word not in avoid:\n",
    "                                match_words.append(word)\n",
    "                    if match_words:\n",
    "                        query_matches.append(query)\n",
    "            if query_matches:\n",
    "                matches.append([index, query_matches, match_words])\n",
    "    return pd.DataFrame(matches, columns=['index', 'matched_queries', 'matched_words'])"
   ]
  },
  {
   "cell_type": "markdown",
   "metadata": {},
   "source": [
    "### Buscando alagamentos, bolsões e lâminas d'água"
   ]
  },
  {
   "cell_type": "code",
   "execution_count": null,
   "metadata": {},
   "outputs": [],
   "source": [
    "queries = ['bolsao', 'bolsoes', 'alagamento', 'lamina', 'enchente', 'inundacão', 'vazamento', 'bueiro']\n",
    "result_title = search_records(comando['EVENTO_TITULO'].iloc[:], queries, avoid=[])\n",
    "result_desc = search_records(comando['EVENTO_DESCRICAO'].iloc[:], queries, avoid=[])\n",
    "result_pop_title = search_records(comando['POP_TITULO'].iloc[:], queries, avoid=[])\n",
    "result_pop_desc = search_records(comando['POP_DESCRICAO'].iloc[:], queries, avoid=[])"
   ]
  },
  {
   "cell_type": "markdown",
   "metadata": {},
   "source": [
    "### Análise do resultado"
   ]
  },
  {
   "cell_type": "code",
   "execution_count": 86,
   "metadata": {},
   "outputs": [],
   "source": [
    "results = [result_title, result_desc, result_pop_title, result_pop_desc]\n",
    "matches = [comando.loc[result['index']] for result in results]"
   ]
  },
  {
   "cell_type": "markdown",
   "metadata": {},
   "source": [
    "#### Registros encontrados"
   ]
  },
  {
   "cell_type": "code",
   "execution_count": 89,
   "metadata": {},
   "outputs": [
    {
     "data": {
      "text/plain": [
       "[(3658, 3), (7, 3), (3840, 3), (3840, 3)]"
      ]
     },
     "execution_count": 89,
     "metadata": {},
     "output_type": "execute_result"
    }
   ],
   "source": [
    "list(result.shape for result in results)"
   ]
  },
  {
   "cell_type": "markdown",
   "metadata": {},
   "source": [
    "#### Ocorrências encontradas"
   ]
  },
  {
   "cell_type": "code",
   "execution_count": 72,
   "metadata": {},
   "outputs": [
    {
     "data": {
      "text/plain": [
       "(465,)"
      ]
     },
     "execution_count": 72,
     "metadata": {},
     "output_type": "execute_result"
    }
   ],
   "source": [
    "matches['EVENTO_ID'].value_counts().shape"
   ]
  },
  {
   "cell_type": "markdown",
   "metadata": {},
   "source": [
    "#### Análise das informações indisponíveis"
   ]
  },
  {
   "cell_type": "code",
   "execution_count": 73,
   "metadata": {},
   "outputs": [
    {
     "data": {
      "text/plain": [
       "EVENTO_ID               0\n",
       "EVENTO_TITULO           0\n",
       "EVENTO_DESCRICAO        0\n",
       "EVENTO_GRAVIDADE        0\n",
       "EVENTO_BAIRRO         429\n",
       "STATUS                  0\n",
       "EVENTO_INICIO           0\n",
       "EVENTO_INICIO_HORA      0\n",
       "EVENTO_FIM             10\n",
       "EVENTO_FIM_HORA        10\n",
       "EVENTO_PRAZO          501\n",
       "EVENTO_LATITUDE         0\n",
       "EVENTO_LONGITUDE        0\n",
       "POP_TITULO              0\n",
       "POP_DESCRICAO           0\n",
       "ORGAO_SIGLA             0\n",
       "ORGAO_NOME              0\n",
       "ACAO                    0\n",
       "dtype: int64"
      ]
     },
     "execution_count": 73,
     "metadata": {},
     "output_type": "execute_result"
    }
   ],
   "source": [
    "matches.isna().sum().sort_values(ascending=False)"
   ]
  }
 ],
 "metadata": {
  "kernelspec": {
   "display_name": "Python 3",
   "language": "python",
   "name": "python3"
  },
  "language_info": {
   "codemirror_mode": {
    "name": "ipython",
    "version": 3
   },
   "file_extension": ".py",
   "mimetype": "text/x-python",
   "name": "python",
   "nbconvert_exporter": "python",
   "pygments_lexer": "ipython3",
   "version": "3.8.3"
  }
 },
 "nbformat": 4,
 "nbformat_minor": 4
}
