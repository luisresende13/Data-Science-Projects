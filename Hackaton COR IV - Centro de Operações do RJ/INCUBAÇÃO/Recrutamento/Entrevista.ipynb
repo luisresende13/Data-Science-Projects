{
 "cells": [
  {
   "cell_type": "markdown",
   "metadata": {},
   "source": [
    "Lembretes:\n",
    "1. Clima de parceiro de desenvolvimento sobre chefia de outros, ao invés de chefe.\n",
    "\n",
    "ABERTURA\n",
    "Estamos buscando pessoas para a startup.\n",
    "\n",
    "interesses:\n",
    "Inovação\n",
    "Empreendedorismo\n",
    "Negocios\n",
    "Ciencia de dados\n",
    "Cidades inteligentes\n",
    "Software\n",
    "\n",
    "Qual o nosso objetivo?\n",
    "1. Entregar ao cor uma ferramenta para ajudar a cidade com modelos preditivos e outras funcionalidades.\n",
    "1. Produtizar e monetizar os modelos e a inteligência gerada.\n",
    "    1. Inscrições em plataforma para negócios receberem alertas personalizados.\n",
    "    1. Industria de seguros\n",
    "    1. Setor público\n",
    "    1. Esri Marketplace\n",
    "\n",
    "\n",
    "PERGUNTAS:\n",
    "1. Diferença entre machine learning e IA\n",
    "1. Diferença entre rede neural e deep learning\n",
    "1. Quais são as etapas da pipeline de ciencia de dados?\n",
    "1. Ferramentas de modelagem de visaõ computacional\n",
    "1. Técnicas comuns de processamento de imagem\n",
    "1. Tipos de modelos de Visao computacional\n",
    "1. EMPREENDEDORISMO. NEGÓCIO. gosta da ideia. tem interesse? Já pensou em empreender? teve alguma ideia de modelo ou app que já pensou como oportunidade de negócio?"
   ]
  }
 ],
 "metadata": {
  "kernelspec": {
   "display_name": "Python 3",
   "language": "python",
   "name": "python3"
  },
  "language_info": {
   "codemirror_mode": {
    "name": "ipython",
    "version": 3
   },
   "file_extension": ".py",
   "mimetype": "text/x-python",
   "name": "python",
   "nbconvert_exporter": "python",
   "pygments_lexer": "ipython3",
   "version": "3.8.3"
  }
 },
 "nbformat": 4,
 "nbformat_minor": 4
}
