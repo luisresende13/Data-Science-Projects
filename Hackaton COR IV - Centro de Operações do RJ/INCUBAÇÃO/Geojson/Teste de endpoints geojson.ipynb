{
 "cells": [
  {
   "cell_type": "markdown",
   "metadata": {},
   "source": [
    "# Testing geojson pre-converted api endpoints"
   ]
  },
  {
   "cell_type": "code",
   "execution_count": 1,
   "metadata": {},
   "outputs": [
    {
     "name": "stderr",
     "output_type": "stream",
     "text": [
      "C:\\Users\\luisr\\AppData\\Roaming\\Python\\Python38\\site-packages\\pandas\\core\\computation\\expressions.py:21: UserWarning: Pandas requires version '2.7.3' or newer of 'numexpr' (version '2.7.1' currently installed).\n",
      "  from pandas.core.computation.check import NUMEXPR_INSTALLED\n"
     ]
    }
   ],
   "source": [
    "import requests, pandas as pd\n",
    "from time import time as t\n",
    "from IPython.display import clear_output as co"
   ]
  },
  {
   "cell_type": "markdown",
   "metadata": {},
   "source": [
    "### Geojson endpoints colelction"
   ]
  },
  {
   "cell_type": "code",
   "execution_count": 2,
   "metadata": {},
   "outputs": [],
   "source": [
    "geojson_endpoints = {\n",
    "    'mongo/City/latest': {},\n",
    "    'mongo/Polygons/latest': {},\n",
    "    'mongo/Polygons Overview/latest': {'coords': 'coordinates', 'geometry_type': 'MultiPolygon'},\n",
    "    'mongo/Polygons IPP/latest': {'coords': 'coordinates', },\n",
    "    'mongo/Polygons IPP Overview/latest': {'coords': 'coordinates', 'geometry_type': 'MultiPolygon'},\n",
    "    'mongo/Polygons AlertaRio/latest':  {},\n",
    "    'mongo/Cameras AlertaRio/latest': {'group_id': 'Codigo', 'type': 'Point', 'coords': ['Longitude', 'Latitude']},\n",
    "    'cameras/alertario/stations': {'type': 'Point', 'coords': ['Longitude', 'Latitude']},\n",
    "    'cameras': {'type': 'Point', 'coords': ['Longitude', 'Latitude']},\n",
    "    'city': {},\n",
    "    'clusters': {},\n",
    "    'clusters/overview': {'coords': 'coordinates', 'geometry_type': 'MultiPolygon'},\n",
    "    'clusters/static': {},\n",
    "    'polygons': {},\n",
    "    'polygons/overview': {'coords': 'coordinates', 'geometry_type': 'MultiPolygon'},\n",
    "    'polygons/static': {},\n",
    "    'ipp/polygons': {'coords': 'coordinates', },\n",
    "    'ipp/polygons/overview': {'coords': 'coordinates', 'geometry_type': 'MultiPolygon'},\n",
    "    'polygons/alertario': {},\n",
    "    'stations/inmet': {'type': 'Point', 'coords': ['longitude', 'latitude']},\n",
    "    'stations/alertario': {'type': 'Point', 'coords': ['longitude', 'latitude']},\n",
    "    'stations/alertario/api': {'type': 'Point', 'coords': ['longitude', 'latitude']},\n",
    "    'comando/events': {'type': 'Point', 'coords': ['longitude', 'latitude']},\n",
    "    'waze/alerts': {'type': 'Point', 'coords': ['longitude', 'latitude']},\n",
    "    'waze/irregularities': {'type': 'LineString', 'coords': 'line'},\n",
    "    'waze/jams': {'type': 'LineString', 'coords': 'line'},\n",
    "}"
   ]
  },
  {
   "cell_type": "markdown",
   "metadata": {},
   "source": [
    "### Endpoint testing"
   ]
  },
  {
   "cell_type": "code",
   "execution_count": 5,
   "metadata": {},
   "outputs": [
    {
     "name": "stdout",
     "output_type": "stream",
     "text": [
      "Testing: 26/26, Fail: 0 - waze/jams\n",
      "Done! Tested: 26, Failed: 0/26\n",
      "Test features: [1, 79, 1, 968, 1, 79, 2836, 2842, 2838, 1, 79, 1, 79, 79, 1, 79, 968, 1, 79, 4, 0, 33, 36, 382, 1, 129]\n",
      "Times:\n",
      "{}\n"
     ]
    }
   ],
   "source": [
    "api_root = 'https://bolsao-api-j2fefywbia-rj.a.run.app'\n",
    "# api_root = 'http://127.0.0.1:5000'\n",
    "\n",
    "n_urls = len(geojson_endpoints)\n",
    "\n",
    "data, featsize, times, fail = [], [], {}, []\n",
    "for i, url in enumerate(geojson_endpoints):\n",
    "    co(True); print(f'Testing: {i+1}/{n_urls}, Fail: {len(fail)} - {url}')\n",
    "    try:\n",
    "        s = t()\n",
    "        res = requests.get(f'{api_root}/{url}/geojson').json()\n",
    "        data.append(res)\n",
    "        if 'features' in res: featsize.append(len(res['features']))\n",
    "        else: raise 'Missing required paramter `features`'\n",
    "    except Exception as err:\n",
    "        print(str(err))\n",
    "        fail.append(url)\n",
    "        \n",
    "print(f'Done! Tested: {n_urls}, Failed: {len(fail)}/{n_urls}')\n",
    "print('Test features:', featsize)\n",
    "if fail: print(fail)\n",
    "print('Times:'); print(times)"
   ]
  },
  {
   "cell_type": "markdown",
   "metadata": {},
   "source": [
    "#### Check one by one"
   ]
  },
  {
   "cell_type": "code",
   "execution_count": 32,
   "metadata": {},
   "outputs": [],
   "source": [
    "i = 14"
   ]
  },
  {
   "cell_type": "code",
   "execution_count": null,
   "metadata": {},
   "outputs": [],
   "source": [
    "i += 1; co(True); display(data[i])"
   ]
  }
 ],
 "metadata": {
  "kernelspec": {
   "display_name": "Python 3",
   "language": "python",
   "name": "python3"
  },
  "language_info": {
   "codemirror_mode": {
    "name": "ipython",
    "version": 3
   },
   "file_extension": ".py",
   "mimetype": "text/x-python",
   "name": "python",
   "nbconvert_exporter": "python",
   "pygments_lexer": "ipython3",
   "version": "3.8.3"
  }
 },
 "nbformat": 4,
 "nbformat_minor": 4
}
