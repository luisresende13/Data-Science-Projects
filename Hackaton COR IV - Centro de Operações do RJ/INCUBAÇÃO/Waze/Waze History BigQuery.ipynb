{
 "cells": [
  {
   "cell_type": "markdown",
   "metadata": {},
   "source": [
    "## Get waze alerts history and open events from bigquery database"
   ]
  },
  {
   "cell_type": "code",
   "execution_count": 1,
   "metadata": {},
   "outputs": [
    {
     "name": "stdout",
     "output_type": "stream",
     "text": [
      "C:\\Users\\luisr\\Desktop\\Repositories\\Apps\\Python\\bolsao-api\n"
     ]
    }
   ],
   "source": [
    "cd ../../../../Apps/Python/bolsao-api"
   ]
  },
  {
   "cell_type": "code",
   "execution_count": 3,
   "metadata": {},
   "outputs": [
    {
     "name": "stderr",
     "output_type": "stream",
     "text": [
      "C:\\Users\\luisr\\AppData\\Roaming\\Python\\Python38\\site-packages\\pandas\\core\\computation\\expressions.py:21: UserWarning: Pandas requires version '2.7.3' or newer of 'numexpr' (version '2.7.1' currently installed).\n",
      "  from pandas.core.computation.check import NUMEXPR_INSTALLED\n"
     ]
    }
   ],
   "source": [
    "# modules\n",
    "import requests, json, time, pandas as pd, numpy as np, urllib\n",
    "from datetime import datetime as dt\n",
    "from matplotlib.path import Path as mpl_path\n",
    "from google.cloud import bigquery\n",
    "from google.oauth2 import service_account\n",
    "\n",
    "# google cloud auth\n",
    "# project_id = 'pluvia-360323'\n",
    "google_credentials = 'credentials/pluvia-360323-eae2907a9c98.json'\n",
    "google_credentials = service_account.Credentials.from_service_account_file(google_credentials)\n",
    "client = bigquery.Client(credentials=google_credentials)\n",
    "\n",
    "fields_bq = [\n",
    "    'id_pop', 'id_evento', 'bairro', 'data_inicio', 'data_fim',\n",
    "    'prazo', 'descricao', 'gravidade', 'latitude', 'longitude',\n",
    "    'status', 'tipo', 'data_particao', 'pop_titulo'\n",
    "]"
   ]
  },
  {
   "cell_type": "code",
   "execution_count": null,
   "metadata": {},
   "outputs": [],
   "source": [
    "def bigquery_request(query):\n",
    "    query_job = client.query(query)\n",
    "    return pd.DataFrame(list(map(dict, query_job.result())))\n",
    "\n",
    "def where_clause(items):\n",
    "    return ' AND '.join([' '.join([key, 'IN', f\"\"\"({', '.join([f'\"{value}\"' for value in (values if type(values) is list else values.split(','))])})\"\"\"]) for key, values in items.items()])\n",
    "\n",
    "def get_waze_bq_history(\n",
    "    start=dt(2023,1,1), end='now',\n",
    "    where={}, select='*', as_datetime=False,\n",
    "):\n",
    "    waze_query = '''\n",
    "    SELECT {} FROM `datario.adm_cor_comando.ocorrencias` WHERE data_particao BETWEEN \"{}\" AND \"{}\" AND data_inicio BETWEEN \"{}\" AND \"{}\"\n",
    "    '''\n",
    "    if end == 'now': end = dt.now()\n",
    "    if type(select) is list: select = ', '.join(select)\n",
    "    query = waze_query.format(select, str(start.date()), str(end.date()), str(start), str(end))\n",
    "    if len(where):\n",
    "        query = ' '.join([query, 'AND', where_clause(where)])\n",
    "    history = bigquery_request(query)\n",
    "    if len(history):\n",
    "        if not as_datetime:\n",
    "            if 'data_particao' in history.columns: history['data_particao'] = str(history['data_particao'])\n",
    "            for col in ['data_inicio', 'data_fim']:\n",
    "                if col in history.columns:\n",
    "                    history[col] = history[col].map(lambda stamp: stamp.strftime('%Y-%m-%d %X'))\n",
    "        return history\n",
    "    else:\n",
    "        return pd.DataFrame(columns=fields_bq)\n",
    "\n",
    "def get_waze_bq_open_events(\n",
    "    at=dt.now(), where={}, select='*',\n",
    "    between=7*pd.offsets.Day(), as_datetime=False,\n",
    "):\n",
    "    comando_query = '''\n",
    "        SELECT {} FROM `datario.adm_cor_comando.ocorrencias`\n",
    "        WHERE data_particao BETWEEN \"{}\" AND \"{}\"\n",
    "        AND data_inicio <= \"{}\" AND data_fim >= \"{}\"\n",
    "    '''\n",
    "    start, end = at - between / 2, at + between / 2\n",
    "    query = comando_query.format(select, str(start.date()), str(end.date()), str(at), str(at))\n",
    "    if len(where): query = ' '.join([query, 'AND', where_clause(where)])\n",
    "    history = bigquery_request(query)\n",
    "    if len(history):\n",
    "        history['pop_titulo'] = history['id_pop'].astype(int).map(pops_map) # include event pop title\n",
    "        if not as_datetime:\n",
    "            if 'data_particao' in history.columns: history['data_particao'] = str(history['data_particao'])\n",
    "            for col in ['data_inicio', 'data_fim']:\n",
    "                if col in history.columns:\n",
    "                    history[col] = history[col].map(lambda stamp: stamp.strftime('%Y-%m-%d %X'))\n",
    "        return history\n",
    "    else:\n",
    "        return pd.DataFrame(columns=fields_bq)"
   ]
  }
 ],
 "metadata": {
  "kernelspec": {
   "display_name": "Python 3",
   "language": "python",
   "name": "python3"
  },
  "language_info": {
   "codemirror_mode": {
    "name": "ipython",
    "version": 3
   },
   "file_extension": ".py",
   "mimetype": "text/x-python",
   "name": "python",
   "nbconvert_exporter": "python",
   "pygments_lexer": "ipython3",
   "version": "3.8.3"
  }
 },
 "nbformat": 4,
 "nbformat_minor": 4
}
