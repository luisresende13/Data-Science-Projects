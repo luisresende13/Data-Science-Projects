{
 "cells": [
  {
   "cell_type": "markdown",
   "metadata": {},
   "source": [
    "# CLUSTERS POLYGONS METHODS ENDPOINTS "
   ]
  },
  {
   "cell_type": "code",
   "execution_count": 1,
   "metadata": {},
   "outputs": [
    {
     "name": "stdout",
     "output_type": "stream",
     "text": [
      "C:\\Users\\luisr\\Desktop\\Repositories\\Apps\\Python\\bolsao-api\n"
     ]
    }
   ],
   "source": [
    "cd ../../../../Apps/Python/bolsao-api"
   ]
  },
  {
   "cell_type": "markdown",
   "metadata": {},
   "source": [
    "#### Custom methods"
   ]
  },
  {
   "cell_type": "code",
   "execution_count": null,
   "metadata": {},
   "outputs": [],
   "source": []
  },
  {
   "cell_type": "markdown",
   "metadata": {},
   "source": [
    "#### Custom Polygon Class"
   ]
  },
  {
   "cell_type": "code",
   "execution_count": 63,
   "metadata": {},
   "outputs": [],
   "source": [
    "# CLUSTERS POLYGONS METHODS ENDPOINTS \n",
    "\n",
    "#### Import modules\n",
    "\n",
    "# ---\n",
    "# import modules\n",
    "\n",
    "from warnings import filterwarnings as fws; fws('ignore')\n",
    "import requests, json, pandas as pd, numpy as np\n",
    "from matplotlib.path import Path as mpl_path\n",
    "from copy import deepcopy\n",
    "\n",
    "# ---\n",
    "# custom modules\n",
    "from modules.geojson_conversion import polygon_geojson\n",
    "\n",
    "# ---\n",
    "#### Polygon defaults\n",
    "\n",
    "geometry_cols = ['lng_min', 'lng_max', 'lat_min', 'lat_max']\n",
    "\n",
    "# ---\n",
    "#### Polygon Methods\n",
    "\n",
    "def filter_df(df, filters={}):\n",
    "    df = deepcopy(df)\n",
    "    for key, value in filters.items():\n",
    "        if value is not list: value = [str(value)]\n",
    "        df = df[df[key].astype(str).isin(value)]\n",
    "    return df\n",
    "\n",
    "# ---\n",
    "#### Custom Polygon Class\n",
    "\n",
    "class Polygon:\n",
    "\n",
    "    def __init__(self, polygons, poly_id, base_id=None, urls=None, logic=None, drop_from_status=[], geometry_cols=geometry_cols):\n",
    "        if type(polygons) is pd.DataFrame:\n",
    "            self.polygons_df = polygons\n",
    "            polygons = polygon_geojson(polygons, coords=geometry_cols)\n",
    "        else:\n",
    "            self.polygons_df = None\n",
    "        self.polygons = polygons\n",
    "        self.poly_id = poly_id\n",
    "        self.base_id = base_id\n",
    "        if base_id is None:\n",
    "            self.base_id = self.poly_id\n",
    "        self.poly_ids = [feature['properties'][poly_id] for feature in polygons['features']]\n",
    "        self.urls = urls\n",
    "        self.logic = logic\n",
    "        self.drop_from_status = drop_from_status\n",
    "        self.geometry_cols = geometry_cols\n",
    "\n",
    "    # Get and append current monitoring data to json\n",
    "    def status(self, drop_geometry=False):\n",
    "        dfs = []\n",
    "        for url in self.urls:\n",
    "            df = pd.DataFrame(requests.get(url['url']).json())\n",
    "            if 'coords' not in url.keys():\n",
    "                dfs.append(df.set_index(url['id']))\n",
    "            else:\n",
    "                if 'filters' not in url.keys():\n",
    "                    url['filters'] = [{'params': {}, 'prefix': url['prefix']}]\n",
    "                for filters in url['filters']:\n",
    "                    df_subset = filter_df(df, filters['params'])\n",
    "                    df_poly = self.has_points(df_subset, url['id'], url['coords'], filters['prefix'])\n",
    "                    dfs.append(df_poly.set_index(self.base_id))\n",
    "        status = self.polygons_df.set_index(self.poly_id).join(dfs).reset_index().rename(columns={self.poly_id: self.base_id})\n",
    "        if self.logic is not None:\n",
    "            status = status.join(self.logical_status(status))\n",
    "        outcols = self.drop_from_status + self.geometry_cols if drop_geometry else []\n",
    "        outcols = [col for col in outcols if col in status]\n",
    "        return status.drop(outcols, axis=1)\n",
    "    \n",
    "    def logical_status(self, status):\n",
    "        df = pd.DataFrame([[0, self.logic[0]['name']]]*len(status), columns=['status_code', 'status_name'], index=status.index)\n",
    "        for code, state in enumerate(self.logic):\n",
    "            is_state = status[state['fields']].sum(1) > 0\n",
    "            df[is_state] = [code, state['name']]\n",
    "        return df\n",
    "\n",
    "    def status_from_subpath(self, url, params):\n",
    "        url_split = url.split('/')\n",
    "        root, subpath = url_split[0], '/'.join(url_split[1:])\n",
    "        df = pd.DataFrame(requests.get(url).json())\n",
    "        if 'prefix' not in params.keys():\n",
    "            params['prefix'] = '_'.join(subpath.split('/'))\n",
    "        return self.has_points(df, params['id'], params['coords'].split(','), params['prefix'])\n",
    "\n",
    "    # Returns polygon id list given a points list and a polygons geojson object    \n",
    "    def points_belong(self, df, point_id, coord_cols):\n",
    "        if not len(df): return pd.Series()\n",
    "        # Get events points array\n",
    "        points = np.array(list(map(tuple, df[coord_cols].values)))\n",
    "        # Get clusters polygons events dict\n",
    "        events_poly = {}\n",
    "        for feature in self.polygons['features']:\n",
    "            cluster_id = feature['properties'][self.poly_id]\n",
    "            poly = feature['geometry']['coordinates'][0]\n",
    "            mpl_poly =  mpl_path(poly)\n",
    "            points_msk = mpl_poly.contains_points(points)\n",
    "            poly_events_df = df[points_msk]\n",
    "            poly_events_ids = list(poly_events_df[point_id])\n",
    "            for event_id in poly_events_ids:\n",
    "                events_poly[event_id] = cluster_id\n",
    "        # Update events dataframe with events polygons ids\n",
    "        belong_msk = pd.Series(- np.ones(len(df)), index=df.index)\n",
    "        for event_id, cluster_id in events_poly.items():\n",
    "            belong_msk[df[point_id]==event_id] = cluster_id\n",
    "        # Return extended open events\n",
    "        return belong_msk.fillna('')\n",
    "\n",
    "    # Appends 'polygon has points' columns to polygons dataset\n",
    "    def has_points(self, df, point_id, coord_cols, prefix=''):\n",
    "        points_poly_ids = self.points_belong(df, point_id, coord_cols)\n",
    "        has_df = []\n",
    "        for _id in self.poly_ids:\n",
    "            id_msk = points_poly_ids == _id\n",
    "            n_points = sum(id_msk)\n",
    "            has_points = int(n_points > 0)\n",
    "            points_ids = list(df[point_id][id_msk])\n",
    "            has_df.append([_id, n_points, has_points, points_ids])\n",
    "        has_df_cols = [self.base_id] + [prefix + '_' + col for col in ['count', 'status', 'ids']]\n",
    "        return pd.DataFrame(has_df, columns=has_df_cols)"
   ]
  },
  {
   "cell_type": "markdown",
   "metadata": {},
   "source": [
    "---"
   ]
  },
  {
   "cell_type": "markdown",
   "metadata": {},
   "source": [
    "#### Import modules"
   ]
  },
  {
   "cell_type": "code",
   "execution_count": 3,
   "metadata": {},
   "outputs": [],
   "source": [
    "# ---\n",
    "# custom modules\n",
    "\n",
    "from modules.mongo_requests import last_prediction_record\n",
    "from modules.comando import comando_open_events #, polygons_geojson\n",
    "from modules.waze import get_waze_partner_alerts\n",
    "from modules.geojson_conversion import polygon_geojson"
   ]
  },
  {
   "cell_type": "markdown",
   "metadata": {},
   "source": [
    "---"
   ]
  },
  {
   "cell_type": "markdown",
   "metadata": {},
   "source": [
    "## Get data"
   ]
  },
  {
   "cell_type": "markdown",
   "metadata": {},
   "source": [
    "#### Polygons dataset"
   ]
  },
  {
   "cell_type": "code",
   "execution_count": 4,
   "metadata": {},
   "outputs": [],
   "source": [
    "#### Load clusters\n",
    "clusters_df = pd.read_csv('static/clusters/clusters_micro.csv')\n",
    "clusters_df = clusters_df[clusters_df['sublabel'] != -1]"
   ]
  },
  {
   "cell_type": "markdown",
   "metadata": {},
   "source": [
    "#### Comando pops dataset"
   ]
  },
  {
   "cell_type": "code",
   "execution_count": 30,
   "metadata": {},
   "outputs": [],
   "source": [
    "# pop id map\n",
    "comando_root = 'https://api.dados.rio/v2/adm_cor_comando'\n",
    "pops_url = comando_root + '/pops'\n",
    "pops_df = pd.DataFrame(requests.get(pops_url).json()['objeto'])\n",
    "pops_map = pops_df.set_index('id')['titulo'].to_dict()"
   ]
  },
  {
   "cell_type": "markdown",
   "metadata": {},
   "source": [
    "#### Sample point dataset"
   ]
  },
  {
   "cell_type": "code",
   "execution_count": 5,
   "metadata": {},
   "outputs": [
    {
     "name": "stdout",
     "output_type": "stream",
     "text": [
      "Comando open events: Request attempt (1) \n"
     ]
    }
   ],
   "source": [
    "comando = comando_open_events()\n",
    "waze = get_waze_partner_alerts()"
   ]
  },
  {
   "cell_type": "markdown",
   "metadata": {},
   "source": [
    "---"
   ]
  },
  {
   "cell_type": "markdown",
   "metadata": {},
   "source": [
    "## Polygons monitoring"
   ]
  },
  {
   "cell_type": "markdown",
   "metadata": {},
   "source": [
    "### Polygons instance parameters settings"
   ]
  },
  {
   "cell_type": "code",
   "execution_count": 64,
   "metadata": {},
   "outputs": [],
   "source": [
    "# ---\n",
    "# urls monitoring parameters\n",
    "\n",
    "urls = [{\n",
    "    'url': '/predict',\n",
    "    'id': 'cluster_id',\n",
    "}, {\n",
    "    'url': '/waze/alerts',\n",
    "    'id': 'uuid',\n",
    "    'coords': ['longitude', 'latitude'],\n",
    "    'prefix': 'waze',\n",
    "    'filters': [{\n",
    "        'params': {'type': 'HAZARD_WEATHER_FLOOD'},\n",
    "        'prefix': 'waze_flood'\n",
    "    }]\n",
    "}, {\n",
    "    'url': '/comando/events',\n",
    "    'id': 'id',\n",
    "    'coords': ['longitude', 'latitude'],\n",
    "    'prefix': 'comando',\n",
    "    'filters': [{\n",
    "        'params': {'pop_id': 33},\n",
    "        'prefix': 'lâmina'\n",
    "    }, {\n",
    "        'params': {'pop_id': 5},\n",
    "        'prefix': 'bolsão'\n",
    "    }, {\n",
    "        'params': {'pop_id': 31},\n",
    "        'prefix': 'alagamento'\n",
    "    }, {\n",
    "        'params': {'pop_id': 6},\n",
    "        'prefix': 'alagamento_enchente'\n",
    "    }, {\n",
    "        'params': {'pop_id': 32},\n",
    "        'prefix': 'enchente'\n",
    "    }, {\n",
    "        'params': {'pop_id': 16},\n",
    "        'prefix': 'vazamento'\n",
    "    }, {\n",
    "        'params': {'pop_id': 30},\n",
    "        'prefix': 'sirene'\n",
    "    }]\n",
    "}]\n",
    "\n",
    "api_root = 'http://127.0.0.1:5000'\n",
    "\n",
    "for url in urls: url['url'] = api_root + url['url']\n",
    "\n",
    "# ---\n",
    "# logic states parameters\n",
    "\n",
    "logic = [{\n",
    "    'name': 'NORMALIDADE',\n",
    "    'fields': []\n",
    "}, {\n",
    "    'name': 'ATENÇÃO',\n",
    "    'fields': ['waze_flood_status', 'vazamento_status', 'sirene_status']    \n",
    "}, {\n",
    "    'name': 'ALERTA',\n",
    "    'fields': ['label', 'lâmina_status']    \n",
    "}, {\n",
    "    'name': 'PERIGO',\n",
    "    'fields': ['bolsão_status', 'alagamento_status', 'alagamento_enchente_status', 'enchente_status']\n",
    "}]\n",
    "\n",
    "# ---\n",
    "# columns parameters\n",
    "\n",
    "geometry_cols = ['lng_min', 'lng_max', 'lat_min', 'lat_max']\n",
    "\n",
    "clusters_drop = [\n",
    "    'radius', 'horizontal_perimeter', 'density_circle', 'density_box',\n",
    "    'vertical_perimeter', 'lng_center', 'title', 'lat_center'\n",
    "]\n",
    "\n",
    "prob_drop = ['_id', 'cluster', 'range']\n",
    "comando_drop = []\n",
    "waze_drop = []\n",
    "\n",
    "drop_from_status = clusters_drop + prob_drop + comando_drop + waze_drop"
   ]
  },
  {
   "cell_type": "markdown",
   "metadata": {},
   "source": [
    "### Get polygon class instance"
   ]
  },
  {
   "cell_type": "code",
   "execution_count": 65,
   "metadata": {},
   "outputs": [],
   "source": [
    "polygons = Polygon(\n",
    "    clusters_df, poly_id='sublabel', base_id='cluster_id', urls=urls, logic=logic,\n",
    "    drop_from_status=drop_from_status, geometry_cols=geometry_cols\n",
    ")"
   ]
  },
  {
   "cell_type": "markdown",
   "metadata": {},
   "source": [
    "### Get comando points polygons ids"
   ]
  },
  {
   "cell_type": "code",
   "execution_count": 66,
   "metadata": {},
   "outputs": [
    {
     "data": {
      "text/plain": [
       "0   -1.0\n",
       "1   -1.0\n",
       "2   -1.0\n",
       "3   -1.0\n",
       "4   -1.0\n",
       "Name: cluster_id, dtype: float64"
      ]
     },
     "execution_count": 66,
     "metadata": {},
     "output_type": "execute_result"
    }
   ],
   "source": [
    "point_id = 'id'\n",
    "coord_cols = ['latitude', 'longitude']\n",
    "prefix = 'comando'\n",
    "\n",
    "comando['cluster_id'] = polygons.points_belong(comando, point_id, coord_cols)\n",
    "\n",
    "comando['cluster_id'].head()"
   ]
  },
  {
   "cell_type": "markdown",
   "metadata": {},
   "source": [
    "### Get polygons points info"
   ]
  },
  {
   "cell_type": "code",
   "execution_count": 67,
   "metadata": {},
   "outputs": [
    {
     "data": {
      "text/html": [
       "<div>\n",
       "<style scoped>\n",
       "    .dataframe tbody tr th:only-of-type {\n",
       "        vertical-align: middle;\n",
       "    }\n",
       "\n",
       "    .dataframe tbody tr th {\n",
       "        vertical-align: top;\n",
       "    }\n",
       "\n",
       "    .dataframe thead th {\n",
       "        text-align: right;\n",
       "    }\n",
       "</style>\n",
       "<table border=\"1\" class=\"dataframe\">\n",
       "  <thead>\n",
       "    <tr style=\"text-align: right;\">\n",
       "      <th></th>\n",
       "      <th>cluster_id</th>\n",
       "      <th>comando_count</th>\n",
       "      <th>comando_status</th>\n",
       "      <th>comando_ids</th>\n",
       "    </tr>\n",
       "  </thead>\n",
       "  <tbody>\n",
       "    <tr>\n",
       "      <th>0</th>\n",
       "      <td>0</td>\n",
       "      <td>0</td>\n",
       "      <td>0</td>\n",
       "      <td>[]</td>\n",
       "    </tr>\n",
       "    <tr>\n",
       "      <th>1</th>\n",
       "      <td>1</td>\n",
       "      <td>0</td>\n",
       "      <td>0</td>\n",
       "      <td>[]</td>\n",
       "    </tr>\n",
       "    <tr>\n",
       "      <th>2</th>\n",
       "      <td>2</td>\n",
       "      <td>0</td>\n",
       "      <td>0</td>\n",
       "      <td>[]</td>\n",
       "    </tr>\n",
       "    <tr>\n",
       "      <th>3</th>\n",
       "      <td>3</td>\n",
       "      <td>0</td>\n",
       "      <td>0</td>\n",
       "      <td>[]</td>\n",
       "    </tr>\n",
       "    <tr>\n",
       "      <th>4</th>\n",
       "      <td>4</td>\n",
       "      <td>0</td>\n",
       "      <td>0</td>\n",
       "      <td>[]</td>\n",
       "    </tr>\n",
       "  </tbody>\n",
       "</table>\n",
       "</div>"
      ],
      "text/plain": [
       "   cluster_id  comando_count  comando_status comando_ids\n",
       "0           0              0               0          []\n",
       "1           1              0               0          []\n",
       "2           2              0               0          []\n",
       "3           3              0               0          []\n",
       "4           4              0               0          []"
      ]
     },
     "execution_count": 67,
     "metadata": {},
     "output_type": "execute_result"
    }
   ],
   "source": [
    "comando_status = polygons.has_points(comando, point_id, coord_cols, prefix=prefix)\n",
    "\n",
    "comando_status.head()"
   ]
  },
  {
   "cell_type": "markdown",
   "metadata": {},
   "source": [
    "### Requests dinamic clusters"
   ]
  },
  {
   "cell_type": "code",
   "execution_count": 68,
   "metadata": {},
   "outputs": [
    {
     "data": {
      "text/html": [
       "<div>\n",
       "<style scoped>\n",
       "    .dataframe tbody tr th:only-of-type {\n",
       "        vertical-align: middle;\n",
       "    }\n",
       "\n",
       "    .dataframe tbody tr th {\n",
       "        vertical-align: top;\n",
       "    }\n",
       "\n",
       "    .dataframe thead th {\n",
       "        text-align: right;\n",
       "    }\n",
       "</style>\n",
       "<table border=\"1\" class=\"dataframe\">\n",
       "  <thead>\n",
       "    <tr style=\"text-align: right;\">\n",
       "      <th></th>\n",
       "      <th>cluster_id</th>\n",
       "      <th>main_neighborhood</th>\n",
       "      <th>main_route</th>\n",
       "      <th>main_street_number_range</th>\n",
       "      <th>lat_centroid</th>\n",
       "      <th>lng_centroid</th>\n",
       "      <th>label_count</th>\n",
       "      <th>area_box</th>\n",
       "      <th>area_circle</th>\n",
       "      <th>timestamp</th>\n",
       "      <th>...</th>\n",
       "      <th>enchente_status</th>\n",
       "      <th>enchente_ids</th>\n",
       "      <th>vazamento_count</th>\n",
       "      <th>vazamento_status</th>\n",
       "      <th>vazamento_ids</th>\n",
       "      <th>sirene_count</th>\n",
       "      <th>sirene_status</th>\n",
       "      <th>sirene_ids</th>\n",
       "      <th>status_code</th>\n",
       "      <th>status_name</th>\n",
       "    </tr>\n",
       "  </thead>\n",
       "  <tbody>\n",
       "    <tr>\n",
       "      <th>0</th>\n",
       "      <td>0</td>\n",
       "      <td>Barra da Tijuca</td>\n",
       "      <td>Avenida Armando Lombardi</td>\n",
       "      <td>3098 - 67</td>\n",
       "      <td>-23.006631</td>\n",
       "      <td>-43.310232</td>\n",
       "      <td>114</td>\n",
       "      <td>0.047620</td>\n",
       "      <td>0.178174</td>\n",
       "      <td>2022-12-28 03:10:00.018000</td>\n",
       "      <td>...</td>\n",
       "      <td>0</td>\n",
       "      <td>[]</td>\n",
       "      <td>0</td>\n",
       "      <td>0</td>\n",
       "      <td>[]</td>\n",
       "      <td>0</td>\n",
       "      <td>0</td>\n",
       "      <td>[]</td>\n",
       "      <td>0</td>\n",
       "      <td>NORMALIDADE</td>\n",
       "    </tr>\n",
       "    <tr>\n",
       "      <th>1</th>\n",
       "      <td>1</td>\n",
       "      <td>Catete</td>\n",
       "      <td>Rua do Catete</td>\n",
       "      <td>228 - 139</td>\n",
       "      <td>-22.926423</td>\n",
       "      <td>-43.176842</td>\n",
       "      <td>99</td>\n",
       "      <td>0.057771</td>\n",
       "      <td>0.077165</td>\n",
       "      <td>2022-12-28 03:10:00.018000</td>\n",
       "      <td>...</td>\n",
       "      <td>0</td>\n",
       "      <td>[]</td>\n",
       "      <td>0</td>\n",
       "      <td>0</td>\n",
       "      <td>[]</td>\n",
       "      <td>0</td>\n",
       "      <td>0</td>\n",
       "      <td>[]</td>\n",
       "      <td>0</td>\n",
       "      <td>NORMALIDADE</td>\n",
       "    </tr>\n",
       "    <tr>\n",
       "      <th>2</th>\n",
       "      <td>2</td>\n",
       "      <td>Copacabana</td>\n",
       "      <td>Rua Tonelero</td>\n",
       "      <td>236 - 9</td>\n",
       "      <td>-22.966793</td>\n",
       "      <td>-43.185999</td>\n",
       "      <td>43</td>\n",
       "      <td>0.040122</td>\n",
       "      <td>0.042480</td>\n",
       "      <td>2022-12-28 03:10:00.018000</td>\n",
       "      <td>...</td>\n",
       "      <td>0</td>\n",
       "      <td>[]</td>\n",
       "      <td>0</td>\n",
       "      <td>0</td>\n",
       "      <td>[]</td>\n",
       "      <td>0</td>\n",
       "      <td>0</td>\n",
       "      <td>[]</td>\n",
       "      <td>0</td>\n",
       "      <td>NORMALIDADE</td>\n",
       "    </tr>\n",
       "    <tr>\n",
       "      <th>3</th>\n",
       "      <td>3</td>\n",
       "      <td>Ipanema</td>\n",
       "      <td>Avenida Epitácio Pessoa</td>\n",
       "      <td>1910 - 1602</td>\n",
       "      <td>-22.979735</td>\n",
       "      <td>-43.202540</td>\n",
       "      <td>36</td>\n",
       "      <td>0.039586</td>\n",
       "      <td>0.069447</td>\n",
       "      <td>2022-12-28 03:10:00.018000</td>\n",
       "      <td>...</td>\n",
       "      <td>0</td>\n",
       "      <td>[]</td>\n",
       "      <td>0</td>\n",
       "      <td>0</td>\n",
       "      <td>[]</td>\n",
       "      <td>0</td>\n",
       "      <td>0</td>\n",
       "      <td>[]</td>\n",
       "      <td>0</td>\n",
       "      <td>NORMALIDADE</td>\n",
       "    </tr>\n",
       "    <tr>\n",
       "      <th>4</th>\n",
       "      <td>4</td>\n",
       "      <td>Barra da Tijuca</td>\n",
       "      <td>Avenida Ministro Ivan Lins</td>\n",
       "      <td>1770 - 11</td>\n",
       "      <td>-23.012736</td>\n",
       "      <td>-43.298339</td>\n",
       "      <td>36</td>\n",
       "      <td>0.052712</td>\n",
       "      <td>0.167301</td>\n",
       "      <td>2022-12-28 03:10:00.018000</td>\n",
       "      <td>...</td>\n",
       "      <td>0</td>\n",
       "      <td>[]</td>\n",
       "      <td>0</td>\n",
       "      <td>0</td>\n",
       "      <td>[]</td>\n",
       "      <td>0</td>\n",
       "      <td>0</td>\n",
       "      <td>[]</td>\n",
       "      <td>0</td>\n",
       "      <td>NORMALIDADE</td>\n",
       "    </tr>\n",
       "  </tbody>\n",
       "</table>\n",
       "<p>5 rows × 41 columns</p>\n",
       "</div>"
      ],
      "text/plain": [
       "   cluster_id main_neighborhood                  main_route  \\\n",
       "0           0   Barra da Tijuca    Avenida Armando Lombardi   \n",
       "1           1            Catete               Rua do Catete   \n",
       "2           2        Copacabana                Rua Tonelero   \n",
       "3           3           Ipanema     Avenida Epitácio Pessoa   \n",
       "4           4   Barra da Tijuca  Avenida Ministro Ivan Lins   \n",
       "\n",
       "  main_street_number_range  lat_centroid  lng_centroid  label_count  area_box  \\\n",
       "0                3098 - 67    -23.006631    -43.310232          114  0.047620   \n",
       "1                228 - 139    -22.926423    -43.176842           99  0.057771   \n",
       "2                  236 - 9    -22.966793    -43.185999           43  0.040122   \n",
       "3              1910 - 1602    -22.979735    -43.202540           36  0.039586   \n",
       "4                1770 - 11    -23.012736    -43.298339           36  0.052712   \n",
       "\n",
       "   area_circle                   timestamp  ... enchente_status enchente_ids  \\\n",
       "0     0.178174  2022-12-28 03:10:00.018000  ...               0           []   \n",
       "1     0.077165  2022-12-28 03:10:00.018000  ...               0           []   \n",
       "2     0.042480  2022-12-28 03:10:00.018000  ...               0           []   \n",
       "3     0.069447  2022-12-28 03:10:00.018000  ...               0           []   \n",
       "4     0.167301  2022-12-28 03:10:00.018000  ...               0           []   \n",
       "\n",
       "   vazamento_count  vazamento_status  vazamento_ids  sirene_count  \\\n",
       "0                0                 0             []             0   \n",
       "1                0                 0             []             0   \n",
       "2                0                 0             []             0   \n",
       "3                0                 0             []             0   \n",
       "4                0                 0             []             0   \n",
       "\n",
       "   sirene_status sirene_ids  status_code  status_name  \n",
       "0              0         []            0  NORMALIDADE  \n",
       "1              0         []            0  NORMALIDADE  \n",
       "2              0         []            0  NORMALIDADE  \n",
       "3              0         []            0  NORMALIDADE  \n",
       "4              0         []            0  NORMALIDADE  \n",
       "\n",
       "[5 rows x 41 columns]"
      ]
     },
     "execution_count": 68,
     "metadata": {},
     "output_type": "execute_result"
    }
   ],
   "source": [
    "clusters = polygons.status(drop_geometry=True)\n",
    "\n",
    "clusters.head()"
   ]
  },
  {
   "cell_type": "markdown",
   "metadata": {},
   "source": [
    "### Polygons logical status"
   ]
  },
  {
   "cell_type": "markdown",
   "metadata": {},
   "source": [
    "#### Built in status columns"
   ]
  },
  {
   "cell_type": "code",
   "execution_count": 69,
   "metadata": {},
   "outputs": [
    {
     "data": {
      "text/html": [
       "<div>\n",
       "<style scoped>\n",
       "    .dataframe tbody tr th:only-of-type {\n",
       "        vertical-align: middle;\n",
       "    }\n",
       "\n",
       "    .dataframe tbody tr th {\n",
       "        vertical-align: top;\n",
       "    }\n",
       "\n",
       "    .dataframe thead th {\n",
       "        text-align: right;\n",
       "    }\n",
       "</style>\n",
       "<table border=\"1\" class=\"dataframe\">\n",
       "  <thead>\n",
       "    <tr style=\"text-align: right;\">\n",
       "      <th></th>\n",
       "      <th>status_code</th>\n",
       "      <th>status_name</th>\n",
       "    </tr>\n",
       "  </thead>\n",
       "  <tbody>\n",
       "    <tr>\n",
       "      <th>0</th>\n",
       "      <td>0</td>\n",
       "      <td>NORMALIDADE</td>\n",
       "    </tr>\n",
       "    <tr>\n",
       "      <th>1</th>\n",
       "      <td>0</td>\n",
       "      <td>NORMALIDADE</td>\n",
       "    </tr>\n",
       "    <tr>\n",
       "      <th>2</th>\n",
       "      <td>0</td>\n",
       "      <td>NORMALIDADE</td>\n",
       "    </tr>\n",
       "    <tr>\n",
       "      <th>3</th>\n",
       "      <td>0</td>\n",
       "      <td>NORMALIDADE</td>\n",
       "    </tr>\n",
       "    <tr>\n",
       "      <th>4</th>\n",
       "      <td>0</td>\n",
       "      <td>NORMALIDADE</td>\n",
       "    </tr>\n",
       "  </tbody>\n",
       "</table>\n",
       "</div>"
      ],
      "text/plain": [
       "   status_code  status_name\n",
       "0            0  NORMALIDADE\n",
       "1            0  NORMALIDADE\n",
       "2            0  NORMALIDADE\n",
       "3            0  NORMALIDADE\n",
       "4            0  NORMALIDADE"
      ]
     },
     "execution_count": 69,
     "metadata": {},
     "output_type": "execute_result"
    }
   ],
   "source": [
    "clusters[['status_code', 'status_name']].head()"
   ]
  },
  {
   "cell_type": "markdown",
   "metadata": {},
   "source": [
    "#### Instance method"
   ]
  },
  {
   "cell_type": "code",
   "execution_count": 71,
   "metadata": {},
   "outputs": [
    {
     "data": {
      "text/html": [
       "<div>\n",
       "<style scoped>\n",
       "    .dataframe tbody tr th:only-of-type {\n",
       "        vertical-align: middle;\n",
       "    }\n",
       "\n",
       "    .dataframe tbody tr th {\n",
       "        vertical-align: top;\n",
       "    }\n",
       "\n",
       "    .dataframe thead th {\n",
       "        text-align: right;\n",
       "    }\n",
       "</style>\n",
       "<table border=\"1\" class=\"dataframe\">\n",
       "  <thead>\n",
       "    <tr style=\"text-align: right;\">\n",
       "      <th></th>\n",
       "      <th>status_code</th>\n",
       "      <th>status_name</th>\n",
       "    </tr>\n",
       "  </thead>\n",
       "  <tbody>\n",
       "    <tr>\n",
       "      <th>0</th>\n",
       "      <td>0</td>\n",
       "      <td>NORMALIDADE</td>\n",
       "    </tr>\n",
       "    <tr>\n",
       "      <th>1</th>\n",
       "      <td>0</td>\n",
       "      <td>NORMALIDADE</td>\n",
       "    </tr>\n",
       "    <tr>\n",
       "      <th>2</th>\n",
       "      <td>0</td>\n",
       "      <td>NORMALIDADE</td>\n",
       "    </tr>\n",
       "    <tr>\n",
       "      <th>3</th>\n",
       "      <td>0</td>\n",
       "      <td>NORMALIDADE</td>\n",
       "    </tr>\n",
       "    <tr>\n",
       "      <th>4</th>\n",
       "      <td>0</td>\n",
       "      <td>NORMALIDADE</td>\n",
       "    </tr>\n",
       "  </tbody>\n",
       "</table>\n",
       "</div>"
      ],
      "text/plain": [
       "   status_code  status_name\n",
       "0            0  NORMALIDADE\n",
       "1            0  NORMALIDADE\n",
       "2            0  NORMALIDADE\n",
       "3            0  NORMALIDADE\n",
       "4            0  NORMALIDADE"
      ]
     },
     "execution_count": 71,
     "metadata": {},
     "output_type": "execute_result"
    }
   ],
   "source": [
    "status = polygons.logical_status(polygons.status())\n",
    "\n",
    "status.head()"
   ]
  },
  {
   "cell_type": "markdown",
   "metadata": {},
   "source": [
    "### Dinamic polygons monitoring column fields"
   ]
  },
  {
   "cell_type": "code",
   "execution_count": 72,
   "metadata": {},
   "outputs": [
    {
     "data": {
      "text/plain": [
       "Index(['cluster_id', 'main_neighborhood', 'main_route',\n",
       "       'main_street_number_range', 'lat_centroid', 'lng_centroid',\n",
       "       'label_count', 'area_box', 'area_circle', 'timestamp', 'date', 'time',\n",
       "       'probability', 'confidence', 'label', 'waze_flood_count',\n",
       "       'waze_flood_status', 'waze_flood_ids', 'lâmina_count', 'lâmina_status',\n",
       "       'lâmina_ids', 'bolsão_count', 'bolsão_status', 'bolsão_ids',\n",
       "       'alagamento_count', 'alagamento_status', 'alagamento_ids',\n",
       "       'alagamento_enchente_count', 'alagamento_enchente_status',\n",
       "       'alagamento_enchente_ids', 'enchente_count', 'enchente_status',\n",
       "       'enchente_ids', 'vazamento_count', 'vazamento_status', 'vazamento_ids',\n",
       "       'sirene_count', 'sirene_status', 'sirene_ids', 'status_code',\n",
       "       'status_name'],\n",
       "      dtype='object')"
      ]
     },
     "execution_count": 72,
     "metadata": {},
     "output_type": "execute_result"
    }
   ],
   "source": [
    "clusters.columns"
   ]
  }
 ],
 "metadata": {
  "kernelspec": {
   "display_name": "Python 3",
   "language": "python",
   "name": "python3"
  },
  "language_info": {
   "codemirror_mode": {
    "name": "ipython",
    "version": 3
   },
   "file_extension": ".py",
   "mimetype": "text/x-python",
   "name": "python",
   "nbconvert_exporter": "python",
   "pygments_lexer": "ipython3",
   "version": "3.8.3"
  }
 },
 "nbformat": 4,
 "nbformat_minor": 4
}
