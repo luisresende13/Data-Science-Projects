{
 "cells": [
  {
   "cell_type": "markdown",
   "metadata": {},
   "source": [
    "# CLUSTERS POLYGONS METHODS ENDPOINTS "
   ]
  },
  {
   "cell_type": "code",
   "execution_count": 2,
   "metadata": {},
   "outputs": [
    {
     "name": "stdout",
     "output_type": "stream",
     "text": [
      "C:\\Users\\luisr\\Desktop\\Repositories\\Apps\\Python\\bolsao-api\n"
     ]
    }
   ],
   "source": [
    "cd ../../../../Apps/Python/bolsao-api"
   ]
  },
  {
   "cell_type": "markdown",
   "metadata": {},
   "source": [
    "#### Import modules"
   ]
  },
  {
   "cell_type": "code",
   "execution_count": 242,
   "metadata": {},
   "outputs": [],
   "source": [
    "# ---\n",
    "# import modules\n",
    "\n",
    "from warnings import filterwarnings as fws; fws('ignore')\n",
    "import requests, json, pandas as pd, numpy as np, urllib\n",
    "from matplotlib.path import Path as mpl_path\n",
    "from datetime import datetime\n",
    "from copy import deepcopy\n",
    "\n",
    "# ---\n",
    "# custom modules\n",
    "\n",
    "from modules.mongo_requests import last_prediction_record\n",
    "from modules.comando import comando_open_events #, polygons_geojson\n",
    "from modules.waze import get_waze_partner_alerts\n",
    "from modules.geojson_conversion import polygon_geojson"
   ]
  },
  {
   "cell_type": "markdown",
   "metadata": {},
   "source": [
    "#### Custom functions"
   ]
  },
  {
   "cell_type": "code",
   "execution_count": 299,
   "metadata": {},
   "outputs": [],
   "source": [
    "# ...\n",
    "\n",
    "def filter_df(df, filter_dict={}):\n",
    "    for key, value in filter_dict.items():\n",
    "        if value is not list: value = [value]\n",
    "        df = df[df.astype(str)[key].isin(value)]\n",
    "    return df"
   ]
  },
  {
   "cell_type": "markdown",
   "metadata": {},
   "source": [
    "#### Custom Polygon Class"
   ]
  },
  {
   "cell_type": "code",
   "execution_count": 318,
   "metadata": {},
   "outputs": [],
   "source": [
    "class Polygon:\n",
    "\n",
    "    def __init__(self, polygons, poly_id, urls=None, join_ids=None):\n",
    "        if type(polygons) is pd.DataFrame:\n",
    "            self.polygons_df = polygons\n",
    "            polygons = polygon_geojson(polygons)\n",
    "        else:\n",
    "            self.polygons_df = None\n",
    "        self.polygons = polygons\n",
    "        self.poly_id = poly_id\n",
    "        self.poly_ids = [feature['properties'][poly_id] for feature in polygons['features']]\n",
    "        self.urls = urls\n",
    "        self.join_ids = join_ids\n",
    "        if urls is not None and type(join_ids) is str:\n",
    "            self.join_ids = [join_ids] * len(urls)\n",
    "            \n",
    "    ## Get and append current monitoring data to json\n",
    "    def polygons_status(self, base_id=None):\n",
    "        if base_id is None: base_id = self.poly_id\n",
    "        dfs = [pd.DataFrame(requests.get(url).json()).set_index(_id) for url, _id in zip(self.urls, self.join_ids)]\n",
    "        return self.polygons_df.set_index(self.poly_id).join(dfs).reset_index().rename(columns={self.poly_id: base_id}).fillna('')\n",
    "\n",
    "    # Returns polygon id list given a points list and a polygons geojson object\n",
    "    \n",
    "    def points_belong(self, df, point_id, coord_cols):\n",
    "        if not len(df): return pd.Series()\n",
    "        # Get events points array\n",
    "        points = np.array(list(map(tuple, df[coord_cols].values)))\n",
    "        # Get clusters polygons events dict\n",
    "        events_poly = {}\n",
    "        for feature in self.polygons['features']:\n",
    "            cluster_id = feature['properties'][self.poly_id]\n",
    "            poly = feature['geometry']['coordinates'][0]\n",
    "            mpl_poly =  mpl_path(poly)\n",
    "            points_msk = mpl_poly.contains_points(points)\n",
    "            poly_events_df = df[points_msk]\n",
    "            poly_events_ids = list(poly_events_df[point_id])\n",
    "            for event_id in poly_events_ids:\n",
    "                events_poly[event_id] = cluster_id\n",
    "        # Update events dataframe with events polygons ids\n",
    "        belong_msk = pd.Series(- np.ones(len(df)), index=df.index)\n",
    "        for event_id, cluster_id in events_poly.items():\n",
    "            belong_msk[df[point_id]==event_id] = cluster_id\n",
    "        # Return extended open events\n",
    "        return belong_msk.fillna('')\n",
    "\n",
    "    # Appends 'polygon has points' columns to polygons dataset\n",
    "\n",
    "    def has_points(self, df, point_id, coord_cols, key_id=None, prefix=''):\n",
    "        if key_id is None: key_id = self.poly_id\n",
    "        has_df_cols = [key_id] + [prefix + col for col in ['count', 'status', 'ids']]\n",
    "        points_poly_ids = self.points_belong(df, point_id, coord_cols)\n",
    "        has_df = []\n",
    "        for _id in self.poly_ids:\n",
    "            id_msk = points_poly_ids == _id\n",
    "            n_points = sum(id_msk)\n",
    "            has_points = int(n_points > 0)\n",
    "            points_ids = list(df[point_id][id_msk])\n",
    "            has_df.append([_id, n_points, has_points, points_ids])\n",
    "        return pd.DataFrame(has_df, columns=has_df_cols)"
   ]
  },
  {
   "cell_type": "markdown",
   "metadata": {},
   "source": [
    "---"
   ]
  },
  {
   "cell_type": "markdown",
   "metadata": {},
   "source": [
    "## Get data"
   ]
  },
  {
   "cell_type": "markdown",
   "metadata": {},
   "source": [
    "#### Comando pops dataset"
   ]
  },
  {
   "cell_type": "code",
   "execution_count": 319,
   "metadata": {},
   "outputs": [],
   "source": [
    "# pop id map\n",
    "comando_root = 'https://api.dados.rio/v2/adm_cor_comando'\n",
    "pops_url = comando_root + '/pops'\n",
    "pops_df = pd.DataFrame(requests.get(pops_url).json()['objeto'])\n",
    "pops_map = pops_df.set_index('id')['titulo'].to_dict()"
   ]
  },
  {
   "cell_type": "markdown",
   "metadata": {},
   "source": [
    "#### Polygons dataset"
   ]
  },
  {
   "cell_type": "code",
   "execution_count": 320,
   "metadata": {},
   "outputs": [],
   "source": [
    "#### Load clusters\n",
    "clusters_df = pd.read_csv('static/clusters/clusters_micro.csv')\n",
    "clusters_df = clusters_df[clusters_df['sublabel'] != -1]"
   ]
  },
  {
   "cell_type": "markdown",
   "metadata": {},
   "source": [
    "#### Sample point dataset"
   ]
  },
  {
   "cell_type": "code",
   "execution_count": 321,
   "metadata": {},
   "outputs": [
    {
     "name": "stdout",
     "output_type": "stream",
     "text": [
      "Comando open events: Request attempt (1) \n"
     ]
    }
   ],
   "source": [
    "comando = comando_open_events()\n",
    "waze = get_waze_partner_alerts()"
   ]
  },
  {
   "cell_type": "markdown",
   "metadata": {},
   "source": [
    "---"
   ]
  },
  {
   "cell_type": "markdown",
   "metadata": {},
   "source": [
    "## Clusters endpoint settings"
   ]
  },
  {
   "cell_type": "code",
   "execution_count": 430,
   "metadata": {},
   "outputs": [
    {
     "data": {
      "text/plain": [
       "(['http://127.0.0.1:5000/predict',\n",
       "  'http://127.0.0.1:5000/comando/clusters?pop_id=5&prefix=bols%C3%A3o',\n",
       "  'http://127.0.0.1:5000/comando/clusters?pop_id=6&prefix=alagamento_enchente',\n",
       "  'http://127.0.0.1:5000/comando/clusters?pop_id=31&prefix=alagamento',\n",
       "  'http://127.0.0.1:5000/comando/clusters?pop_id=33&prefix=l%C3%A2mina',\n",
       "  'http://127.0.0.1:5000/comando/clusters?pop_id=30&prefix=sirene',\n",
       "  'http://127.0.0.1:5000/comando/clusters?pop_id=32&prefix=enchente',\n",
       "  'http://127.0.0.1:5000/comando/clusters?pop_id=16&prefix=vazamento',\n",
       "  'http://127.0.0.1:5000/waze/clusters?type=HAZARD_WEATHER_FLOOD&prefix=waze_flood'],\n",
       " ['radius',\n",
       "  'horizontal_perimeter',\n",
       "  'density_circle',\n",
       "  'density_box',\n",
       "  'vertical_perimeter',\n",
       "  'lng_center',\n",
       "  'title',\n",
       "  'lat_center',\n",
       "  '_id',\n",
       "  'cluster',\n",
       "  'range'])"
      ]
     },
     "execution_count": 430,
     "metadata": {},
     "output_type": "execute_result"
    }
   ],
   "source": [
    "import urllib\n",
    "\n",
    "#### Clusters geojson properties settings\n",
    "\n",
    "def prefix_url(root, params, col_type, col_prefix='prefix'):\n",
    "    params = [urllib.parse.urlencode({col_type: value, col_prefix: key}) for key, value in params.items()]\n",
    "    return [root + '?'+ param for param in params]\n",
    "\n",
    "# ---\n",
    "# columns settings\n",
    "\n",
    "geometry_cols = ['lng_min', 'lng_max', 'lat_min', 'lat_max']\n",
    "\n",
    "clusters_drop = [\n",
    "    'radius', 'horizontal_perimeter', 'density_circle', 'density_box',\n",
    "    'vertical_perimeter', 'lng_center', 'title', 'lat_center'\n",
    "]\n",
    "\n",
    "prob_drop = ['_id', 'cluster', 'range']\n",
    "comando_drop = []\n",
    "waze_drop = []\n",
    "\n",
    "drop_cols = clusters_drop + prob_drop + comando_drop + waze_drop\n",
    "\n",
    "# ---\n",
    "# urls settings\n",
    "\n",
    "api_root = 'http://127.0.0.1:5000/'\n",
    "\n",
    "comando_types = {\n",
    "    'bolsão': 5,\n",
    "    'alagamento_enchente': 6,\n",
    "    'alagamento': 31,\n",
    "    'lâmina': 33,\n",
    "    'sirene': 30,\n",
    "    'enchente': 32,\n",
    "    'vazamento': 16,\n",
    "}\n",
    "\n",
    "comando_clusters_url = api_root + 'comando/clusters'\n",
    "comando_urls = prefix_url(comando_clusters_url, params=comando_types, col_type='pop_id')\n",
    "\n",
    "waze_types = {\n",
    "    'waze_flood': 'HAZARD_WEATHER_FLOOD'\n",
    "}\n",
    "\n",
    "waze_clusters_url = api_root + 'waze/clusters'\n",
    "waze_urls = prefix_url(waze_clusters_url, params=waze_types, col_type='type')\n",
    "\n",
    "urls = [api_root + 'predict'] + comando_urls + waze_urls\n",
    "\n",
    "urls, drop_cols"
   ]
  },
  {
   "cell_type": "markdown",
   "metadata": {},
   "source": [
    "### Get Polygon class instance"
   ]
  },
  {
   "cell_type": "code",
   "execution_count": 356,
   "metadata": {},
   "outputs": [],
   "source": [
    "polygons = Polygon(clusters_df, poly_id='sublabel', urls=urls, join_ids='cluster_id')\n",
    "# polygons = Polygon(clusters_geojson, poly_id='sublabel')"
   ]
  },
  {
   "cell_type": "markdown",
   "metadata": {},
   "source": [
    "### Get comando points polygons ids"
   ]
  },
  {
   "cell_type": "code",
   "execution_count": 357,
   "metadata": {},
   "outputs": [
    {
     "data": {
      "text/plain": [
       "0    -1.0\n",
       "1    15.0\n",
       "2    -1.0\n",
       "3    -1.0\n",
       "4    -1.0\n",
       "Name: cluster_id, dtype: float64"
      ]
     },
     "execution_count": 357,
     "metadata": {},
     "output_type": "execute_result"
    }
   ],
   "source": [
    "point_id = 'id'\n",
    "key_id = 'cluster_id'\n",
    "coord_cols = ['latitude', 'longitude']\n",
    "prefix = 'comando_'\n",
    "\n",
    "comando['cluster_id'] = polygons.points_belong(comando, point_id, coord_cols)\n",
    "\n",
    "comando['cluster_id'].head()"
   ]
  },
  {
   "cell_type": "markdown",
   "metadata": {},
   "source": [
    "### Get polygons points info"
   ]
  },
  {
   "cell_type": "code",
   "execution_count": 358,
   "metadata": {},
   "outputs": [
    {
     "data": {
      "text/html": [
       "<div>\n",
       "<style scoped>\n",
       "    .dataframe tbody tr th:only-of-type {\n",
       "        vertical-align: middle;\n",
       "    }\n",
       "\n",
       "    .dataframe tbody tr th {\n",
       "        vertical-align: top;\n",
       "    }\n",
       "\n",
       "    .dataframe thead th {\n",
       "        text-align: right;\n",
       "    }\n",
       "</style>\n",
       "<table border=\"1\" class=\"dataframe\">\n",
       "  <thead>\n",
       "    <tr style=\"text-align: right;\">\n",
       "      <th></th>\n",
       "      <th>cluster_id</th>\n",
       "      <th>comando_count</th>\n",
       "      <th>comando_status</th>\n",
       "      <th>comando_ids</th>\n",
       "    </tr>\n",
       "  </thead>\n",
       "  <tbody>\n",
       "    <tr>\n",
       "      <th>0</th>\n",
       "      <td>0</td>\n",
       "      <td>0</td>\n",
       "      <td>0</td>\n",
       "      <td>[]</td>\n",
       "    </tr>\n",
       "    <tr>\n",
       "      <th>1</th>\n",
       "      <td>1</td>\n",
       "      <td>1</td>\n",
       "      <td>1</td>\n",
       "      <td>[86887]</td>\n",
       "    </tr>\n",
       "    <tr>\n",
       "      <th>2</th>\n",
       "      <td>2</td>\n",
       "      <td>0</td>\n",
       "      <td>0</td>\n",
       "      <td>[]</td>\n",
       "    </tr>\n",
       "    <tr>\n",
       "      <th>3</th>\n",
       "      <td>3</td>\n",
       "      <td>0</td>\n",
       "      <td>0</td>\n",
       "      <td>[]</td>\n",
       "    </tr>\n",
       "    <tr>\n",
       "      <th>4</th>\n",
       "      <td>4</td>\n",
       "      <td>0</td>\n",
       "      <td>0</td>\n",
       "      <td>[]</td>\n",
       "    </tr>\n",
       "  </tbody>\n",
       "</table>\n",
       "</div>"
      ],
      "text/plain": [
       "   cluster_id  comando_count  comando_status comando_ids\n",
       "0           0              0               0          []\n",
       "1           1              1               1     [86887]\n",
       "2           2              0               0          []\n",
       "3           3              0               0          []\n",
       "4           4              0               0          []"
      ]
     },
     "execution_count": 358,
     "metadata": {},
     "output_type": "execute_result"
    }
   ],
   "source": [
    "comando_status = polygons.has_points(comando, point_id, coord_cols, key_id=key_id, prefix=prefix)\n",
    "\n",
    "comando_status.head()"
   ]
  },
  {
   "cell_type": "markdown",
   "metadata": {},
   "source": [
    "### Requests dinamic clusters"
   ]
  },
  {
   "cell_type": "code",
   "execution_count": 359,
   "metadata": {},
   "outputs": [
    {
     "data": {
      "text/html": [
       "<div>\n",
       "<style scoped>\n",
       "    .dataframe tbody tr th:only-of-type {\n",
       "        vertical-align: middle;\n",
       "    }\n",
       "\n",
       "    .dataframe tbody tr th {\n",
       "        vertical-align: top;\n",
       "    }\n",
       "\n",
       "    .dataframe thead th {\n",
       "        text-align: right;\n",
       "    }\n",
       "</style>\n",
       "<table border=\"1\" class=\"dataframe\">\n",
       "  <thead>\n",
       "    <tr style=\"text-align: right;\">\n",
       "      <th></th>\n",
       "      <th>cluster_id</th>\n",
       "      <th>main_neighborhood</th>\n",
       "      <th>main_route</th>\n",
       "      <th>main_street_number_range</th>\n",
       "      <th>lat_centroid</th>\n",
       "      <th>lng_centroid</th>\n",
       "      <th>label_count</th>\n",
       "      <th>area_box</th>\n",
       "      <th>area_circle</th>\n",
       "      <th>timestamp</th>\n",
       "      <th>...</th>\n",
       "      <th>sirene_ids</th>\n",
       "      <th>enchente_count</th>\n",
       "      <th>enchente_status</th>\n",
       "      <th>enchente_ids</th>\n",
       "      <th>vazamento_count</th>\n",
       "      <th>vazamento_status</th>\n",
       "      <th>vazamento_ids</th>\n",
       "      <th>waze_flood_count</th>\n",
       "      <th>waze_flood_status</th>\n",
       "      <th>waze_flood_ids</th>\n",
       "    </tr>\n",
       "  </thead>\n",
       "  <tbody>\n",
       "    <tr>\n",
       "      <th>0</th>\n",
       "      <td>0</td>\n",
       "      <td>Barra da Tijuca</td>\n",
       "      <td>Avenida Armando Lombardi</td>\n",
       "      <td>3098 - 67</td>\n",
       "      <td>-23.006631</td>\n",
       "      <td>-43.310232</td>\n",
       "      <td>114</td>\n",
       "      <td>0.047620</td>\n",
       "      <td>0.178174</td>\n",
       "      <td>2022-12-23 20:45:00.008000</td>\n",
       "      <td>...</td>\n",
       "      <td>[]</td>\n",
       "      <td>0</td>\n",
       "      <td>0</td>\n",
       "      <td>[]</td>\n",
       "      <td>0</td>\n",
       "      <td>0</td>\n",
       "      <td>[]</td>\n",
       "      <td>0</td>\n",
       "      <td>0</td>\n",
       "      <td>[]</td>\n",
       "    </tr>\n",
       "    <tr>\n",
       "      <th>1</th>\n",
       "      <td>1</td>\n",
       "      <td>Catete</td>\n",
       "      <td>Rua do Catete</td>\n",
       "      <td>228 - 139</td>\n",
       "      <td>-22.926423</td>\n",
       "      <td>-43.176842</td>\n",
       "      <td>99</td>\n",
       "      <td>0.057771</td>\n",
       "      <td>0.077165</td>\n",
       "      <td>2022-12-23 20:45:00.008000</td>\n",
       "      <td>...</td>\n",
       "      <td>[]</td>\n",
       "      <td>0</td>\n",
       "      <td>0</td>\n",
       "      <td>[]</td>\n",
       "      <td>1</td>\n",
       "      <td>1</td>\n",
       "      <td>[86887]</td>\n",
       "      <td>0</td>\n",
       "      <td>0</td>\n",
       "      <td>[]</td>\n",
       "    </tr>\n",
       "    <tr>\n",
       "      <th>2</th>\n",
       "      <td>2</td>\n",
       "      <td>Copacabana</td>\n",
       "      <td>Rua Tonelero</td>\n",
       "      <td>236 - 9</td>\n",
       "      <td>-22.966793</td>\n",
       "      <td>-43.185999</td>\n",
       "      <td>43</td>\n",
       "      <td>0.040122</td>\n",
       "      <td>0.042480</td>\n",
       "      <td>2022-12-23 20:45:00.008000</td>\n",
       "      <td>...</td>\n",
       "      <td>[]</td>\n",
       "      <td>0</td>\n",
       "      <td>0</td>\n",
       "      <td>[]</td>\n",
       "      <td>0</td>\n",
       "      <td>0</td>\n",
       "      <td>[]</td>\n",
       "      <td>0</td>\n",
       "      <td>0</td>\n",
       "      <td>[]</td>\n",
       "    </tr>\n",
       "    <tr>\n",
       "      <th>3</th>\n",
       "      <td>3</td>\n",
       "      <td>Ipanema</td>\n",
       "      <td>Avenida Epitácio Pessoa</td>\n",
       "      <td>1910 - 1602</td>\n",
       "      <td>-22.979735</td>\n",
       "      <td>-43.202540</td>\n",
       "      <td>36</td>\n",
       "      <td>0.039586</td>\n",
       "      <td>0.069447</td>\n",
       "      <td>2022-12-23 20:45:00.008000</td>\n",
       "      <td>...</td>\n",
       "      <td>[]</td>\n",
       "      <td>0</td>\n",
       "      <td>0</td>\n",
       "      <td>[]</td>\n",
       "      <td>0</td>\n",
       "      <td>0</td>\n",
       "      <td>[]</td>\n",
       "      <td>0</td>\n",
       "      <td>0</td>\n",
       "      <td>[]</td>\n",
       "    </tr>\n",
       "    <tr>\n",
       "      <th>4</th>\n",
       "      <td>4</td>\n",
       "      <td>Barra da Tijuca</td>\n",
       "      <td>Avenida Ministro Ivan Lins</td>\n",
       "      <td>1770 - 11</td>\n",
       "      <td>-23.012736</td>\n",
       "      <td>-43.298339</td>\n",
       "      <td>36</td>\n",
       "      <td>0.052712</td>\n",
       "      <td>0.167301</td>\n",
       "      <td>2022-12-23 20:45:00.008000</td>\n",
       "      <td>...</td>\n",
       "      <td>[]</td>\n",
       "      <td>0</td>\n",
       "      <td>0</td>\n",
       "      <td>[]</td>\n",
       "      <td>0</td>\n",
       "      <td>0</td>\n",
       "      <td>[]</td>\n",
       "      <td>0</td>\n",
       "      <td>0</td>\n",
       "      <td>[]</td>\n",
       "    </tr>\n",
       "  </tbody>\n",
       "</table>\n",
       "<p>5 rows × 39 columns</p>\n",
       "</div>"
      ],
      "text/plain": [
       "   cluster_id main_neighborhood                  main_route  \\\n",
       "0           0   Barra da Tijuca    Avenida Armando Lombardi   \n",
       "1           1            Catete               Rua do Catete   \n",
       "2           2        Copacabana                Rua Tonelero   \n",
       "3           3           Ipanema     Avenida Epitácio Pessoa   \n",
       "4           4   Barra da Tijuca  Avenida Ministro Ivan Lins   \n",
       "\n",
       "  main_street_number_range  lat_centroid  lng_centroid  label_count  area_box  \\\n",
       "0                3098 - 67    -23.006631    -43.310232          114  0.047620   \n",
       "1                228 - 139    -22.926423    -43.176842           99  0.057771   \n",
       "2                  236 - 9    -22.966793    -43.185999           43  0.040122   \n",
       "3              1910 - 1602    -22.979735    -43.202540           36  0.039586   \n",
       "4                1770 - 11    -23.012736    -43.298339           36  0.052712   \n",
       "\n",
       "   area_circle                   timestamp  ... sirene_ids enchente_count  \\\n",
       "0     0.178174  2022-12-23 20:45:00.008000  ...         []              0   \n",
       "1     0.077165  2022-12-23 20:45:00.008000  ...         []              0   \n",
       "2     0.042480  2022-12-23 20:45:00.008000  ...         []              0   \n",
       "3     0.069447  2022-12-23 20:45:00.008000  ...         []              0   \n",
       "4     0.167301  2022-12-23 20:45:00.008000  ...         []              0   \n",
       "\n",
       "  enchente_status enchente_ids vazamento_count  vazamento_status  \\\n",
       "0               0           []               0                 0   \n",
       "1               0           []               1                 1   \n",
       "2               0           []               0                 0   \n",
       "3               0           []               0                 0   \n",
       "4               0           []               0                 0   \n",
       "\n",
       "   vazamento_ids waze_flood_count  waze_flood_status  waze_flood_ids  \n",
       "0             []                0                  0              []  \n",
       "1        [86887]                0                  0              []  \n",
       "2             []                0                  0              []  \n",
       "3             []                0                  0              []  \n",
       "4             []                0                  0              []  \n",
       "\n",
       "[5 rows x 39 columns]"
      ]
     },
     "execution_count": 359,
     "metadata": {},
     "output_type": "execute_result"
    }
   ],
   "source": [
    "clusters = polygons.polygons_status(base_id='cluster_id')\n",
    "\n",
    "clusters.drop(drop_cols + geometry_cols, axis=1, inplace=True)\n",
    "\n",
    "clusters.head()"
   ]
  },
  {
   "cell_type": "markdown",
   "metadata": {},
   "source": [
    "### Dinamic clusters column fields"
   ]
  },
  {
   "cell_type": "code",
   "execution_count": 432,
   "metadata": {},
   "outputs": [
    {
     "data": {
      "text/plain": [
       "Index(['cluster_id', 'main_neighborhood', 'main_route',\n",
       "       'main_street_number_range', 'lat_centroid', 'lng_centroid',\n",
       "       'label_count', 'area_box', 'area_circle', 'timestamp', 'date', 'time',\n",
       "       'probability', 'confidence', 'label', 'bolsão_count', 'bolsão_status',\n",
       "       'bolsão_ids', 'alagamento_enchente_count', 'alagamento_enchente_status',\n",
       "       'alagamento_enchente_ids', 'alagamento_count', 'alagamento_status',\n",
       "       'alagamento_ids', 'lâmina_count', 'lâmina_status', 'lâmina_ids',\n",
       "       'sirene_count', 'sirene_status', 'sirene_ids', 'enchente_count',\n",
       "       'enchente_status', 'enchente_ids', 'vazamento_count',\n",
       "       'vazamento_status', 'vazamento_ids', 'waze_flood_count',\n",
       "       'waze_flood_status', 'waze_flood_ids'],\n",
       "      dtype='object')"
      ]
     },
     "execution_count": 432,
     "metadata": {},
     "output_type": "execute_result"
    }
   ],
   "source": [
    "clusters.columns"
   ]
  },
  {
   "cell_type": "markdown",
   "metadata": {},
   "source": [
    "## Add operatinal logic"
   ]
  },
  {
   "cell_type": "code",
   "execution_count": 427,
   "metadata": {},
   "outputs": [],
   "source": [
    "status_names = {0: 'NORMALIDADE', 1: 'ATENÇÃO', 2: 'ALERTA', 3: 'PERÍGO'}\n",
    "\n",
    "def get_clusters_status(drop_geometry=False):\n",
    "    drop = drop_cols[:]\n",
    "    if drop_geometry: drop += geometry_cols\n",
    "    clusters = polygons.polygons_status(base_id=key_id)\n",
    "    clusters.drop(drop, axis=1, inplace=True)\n",
    "    return clusters\n",
    "\n",
    "def get_logical_status(status):\n",
    "    status_code = pd.Series(index=status.index)\n",
    "\n",
    "    comando_alagamento = ['bolsão_status', 'alagamento_status', 'alagamento_enchente_status', 'enchente_status']\n",
    "    alagamento = status[comando_alagamento].sum(1) > 0\n",
    "    not_alagamento = alagamento.apply(lambda cond: not cond).astype(int)\n",
    "    prob_or_lamina = (status[['label', 'lâmina_status']].sum(1) > 0).astype(int)\n",
    "    alerta = pd.concat([not_alagamento, prob_or_lamina], 1).sum(1) == 2\n",
    "    not_alerta = alerta.apply(lambda cond: not cond).astype(int)\n",
    "    atencao = pd.concat([not_alagamento, not_alerta, status['waze_flood_status']], 1).sum(1) == 3\n",
    "    not_atencao = atencao.apply(lambda cond: not cond).astype(int)\n",
    "    normal = pd.concat([not_alagamento, not_alerta, not_atencao], 1).sum(1) == 3\n",
    "\n",
    "    status_code[alagamento] = 3 # code 3\n",
    "    print(status_code.isna().sum())\n",
    "    status_code[alerta] = 2 # code 2\n",
    "    print(status_code.isna().sum())\n",
    "    status_code[atencao] = 1 # code 1\n",
    "    print(status_code.isna().sum())\n",
    "    status_code[normal] = 0 # code 0\n",
    "    print(status_code.isna().sum())\n",
    "    \n",
    "    return status_code, status_code.map(status_names)"
   ]
  },
  {
   "cell_type": "markdown",
   "metadata": {},
   "source": [
    "### Get status code and name"
   ]
  },
  {
   "cell_type": "code",
   "execution_count": 429,
   "metadata": {},
   "outputs": [
    {
     "name": "stdout",
     "output_type": "stream",
     "text": [
      "79\n",
      "79\n",
      "79\n",
      "0\n"
     ]
    },
    {
     "data": {
      "text/html": [
       "<div>\n",
       "<style scoped>\n",
       "    .dataframe tbody tr th:only-of-type {\n",
       "        vertical-align: middle;\n",
       "    }\n",
       "\n",
       "    .dataframe tbody tr th {\n",
       "        vertical-align: top;\n",
       "    }\n",
       "\n",
       "    .dataframe thead th {\n",
       "        text-align: right;\n",
       "    }\n",
       "</style>\n",
       "<table border=\"1\" class=\"dataframe\">\n",
       "  <thead>\n",
       "    <tr style=\"text-align: right;\">\n",
       "      <th></th>\n",
       "      <th>status_code</th>\n",
       "      <th>status_name</th>\n",
       "    </tr>\n",
       "  </thead>\n",
       "  <tbody>\n",
       "    <tr>\n",
       "      <th>0</th>\n",
       "      <td>0.0</td>\n",
       "      <td>NORMALIDADE</td>\n",
       "    </tr>\n",
       "    <tr>\n",
       "      <th>1</th>\n",
       "      <td>0.0</td>\n",
       "      <td>NORMALIDADE</td>\n",
       "    </tr>\n",
       "    <tr>\n",
       "      <th>2</th>\n",
       "      <td>0.0</td>\n",
       "      <td>NORMALIDADE</td>\n",
       "    </tr>\n",
       "    <tr>\n",
       "      <th>3</th>\n",
       "      <td>0.0</td>\n",
       "      <td>NORMALIDADE</td>\n",
       "    </tr>\n",
       "    <tr>\n",
       "      <th>4</th>\n",
       "      <td>0.0</td>\n",
       "      <td>NORMALIDADE</td>\n",
       "    </tr>\n",
       "    <tr>\n",
       "      <th>...</th>\n",
       "      <td>...</td>\n",
       "      <td>...</td>\n",
       "    </tr>\n",
       "    <tr>\n",
       "      <th>74</th>\n",
       "      <td>0.0</td>\n",
       "      <td>NORMALIDADE</td>\n",
       "    </tr>\n",
       "    <tr>\n",
       "      <th>75</th>\n",
       "      <td>0.0</td>\n",
       "      <td>NORMALIDADE</td>\n",
       "    </tr>\n",
       "    <tr>\n",
       "      <th>76</th>\n",
       "      <td>0.0</td>\n",
       "      <td>NORMALIDADE</td>\n",
       "    </tr>\n",
       "    <tr>\n",
       "      <th>77</th>\n",
       "      <td>0.0</td>\n",
       "      <td>NORMALIDADE</td>\n",
       "    </tr>\n",
       "    <tr>\n",
       "      <th>78</th>\n",
       "      <td>0.0</td>\n",
       "      <td>NORMALIDADE</td>\n",
       "    </tr>\n",
       "  </tbody>\n",
       "</table>\n",
       "<p>79 rows × 2 columns</p>\n",
       "</div>"
      ],
      "text/plain": [
       "    status_code  status_name\n",
       "0           0.0  NORMALIDADE\n",
       "1           0.0  NORMALIDADE\n",
       "2           0.0  NORMALIDADE\n",
       "3           0.0  NORMALIDADE\n",
       "4           0.0  NORMALIDADE\n",
       "..          ...          ...\n",
       "74          0.0  NORMALIDADE\n",
       "75          0.0  NORMALIDADE\n",
       "76          0.0  NORMALIDADE\n",
       "77          0.0  NORMALIDADE\n",
       "78          0.0  NORMALIDADE\n",
       "\n",
       "[79 rows x 2 columns]"
      ]
     },
     "execution_count": 429,
     "metadata": {},
     "output_type": "execute_result"
    }
   ],
   "source": [
    "status = get_clusters_status(True)\n",
    "\n",
    "status_code, status_name = get_logical_status(status)\n",
    "\n",
    "status['status_code'] = status_code\n",
    "status['status_name'] = status_name\n",
    "\n",
    "status[['status_code', 'status_name']]"
   ]
  }
 ],
 "metadata": {
  "kernelspec": {
   "display_name": "Python 3",
   "language": "python",
   "name": "python3"
  },
  "language_info": {
   "codemirror_mode": {
    "name": "ipython",
    "version": 3
   },
   "file_extension": ".py",
   "mimetype": "text/x-python",
   "name": "python",
   "nbconvert_exporter": "python",
   "pygments_lexer": "ipython3",
   "version": "3.8.3"
  }
 },
 "nbformat": 4,
 "nbformat_minor": 4
}
