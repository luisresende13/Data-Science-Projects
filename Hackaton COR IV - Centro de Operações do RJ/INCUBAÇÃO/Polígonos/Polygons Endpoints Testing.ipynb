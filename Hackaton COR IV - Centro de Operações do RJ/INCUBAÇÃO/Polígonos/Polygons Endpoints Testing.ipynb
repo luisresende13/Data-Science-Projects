{
 "cells": [
  {
   "cell_type": "markdown",
   "metadata": {},
   "source": [
    "# Test the Api's History Endpoints"
   ]
  },
  {
   "cell_type": "markdown",
   "metadata": {},
   "source": [
    "#### Import modules"
   ]
  },
  {
   "cell_type": "code",
   "execution_count": 41,
   "metadata": {},
   "outputs": [],
   "source": [
    "import requests, pandas as pd\n",
    "from IPython.display import clear_output as co\n",
    "from urllib.parse import urlencode\n",
    "from datetime import datetime as dt"
   ]
  },
  {
   "cell_type": "markdown",
   "metadata": {},
   "source": [
    "### Set request settings"
   ]
  },
  {
   "cell_type": "code",
   "execution_count": 42,
   "metadata": {},
   "outputs": [],
   "source": [
    "root = 'http://127.0.0.1:5000'\n",
    "# root = 'https://bolsao-api-j2fefywbia-rj.a.run.app' # for deployment\n",
    "\n",
    "query_open = {'at': '2023-02-07 20:00:00'}\n",
    "query_window = {'start': '2023-02-07 20:00:00', 'end': '2023-02-07 20:30:00'}\n",
    "query_history = {'start': '2023-02-07 20:00:00', 'end': '2023-02-07 20:30:00', 'freq': '15Min'}\n",
    "query_history_summary = {'start': '2023-02-07 20:00:00', 'end': '2023-02-07 20:30:00', 'freq': '15Min', 'summary': 'True'}\n",
    "\n",
    "query_open = urlencode(query_open)\n",
    "query_window = urlencode(query_window)\n",
    "query_history = urlencode(query_history)\n",
    "query_history_summary = urlencode(query_history_summary)\n",
    "\n",
    "urls = [\n",
    "    f'comando/api/history?{query_window}',\n",
    "    f'comando/api/history/open?{query_open}',\n",
    "    f'city/history?{query_history}',\n",
    "    f'city/history?{query_history_summary}',\n",
    "    f'city/history/window?{query_window}',\n",
    "    f'city/history/open?{query_open}',\n",
    "    f'polygons/history?{query_history}',\n",
    "    f'polygons/history?{query_history_summary}',\n",
    "    f'polygons/history/window?{query_window}',\n",
    "    f'polygons/history/open?{query_open}',\n",
    "    f'polygons/overview/history/window?{query_window}',\n",
    "    f'polygons/overview/history/open?{query_open}',\n",
    "    f'ipp/polygons/history?{query_history}',\n",
    "    f'ipp/polygons/history?{query_history_summary}',\n",
    "    f'ipp/polygons/history/window?{query_window}',\n",
    "    f'ipp/polygons/history/open?{query_open}',\n",
    "    f'ipp/polygons/overview/history/window?{query_window}',\n",
    "    f'ipp/polygons/overview/history/open?{query_open}',\n",
    "]"
   ]
  },
  {
   "cell_type": "markdown",
   "metadata": {},
   "source": [
    "### Request endpoints"
   ]
  },
  {
   "cell_type": "code",
   "execution_count": 43,
   "metadata": {},
   "outputs": [
    {
     "name": "stdout",
     "output_type": "stream",
     "text": [
      "\n",
      "Result:\n",
      "\n",
      " - Success: 15\n",
      " - Failed: 1\n"
     ]
    },
    {
     "data": {
      "text/html": [
       "<div>\n",
       "<style scoped>\n",
       "    .dataframe tbody tr th:only-of-type {\n",
       "        vertical-align: middle;\n",
       "    }\n",
       "\n",
       "    .dataframe tbody tr th {\n",
       "        vertical-align: top;\n",
       "    }\n",
       "\n",
       "    .dataframe thead th {\n",
       "        text-align: right;\n",
       "    }\n",
       "</style>\n",
       "<table border=\"1\" class=\"dataframe\">\n",
       "  <thead>\n",
       "    <tr style=\"text-align: right;\">\n",
       "      <th></th>\n",
       "      <th>city/history</th>\n",
       "    </tr>\n",
       "  </thead>\n",
       "  <tbody>\n",
       "    <tr>\n",
       "      <th>Message</th>\n",
       "      <td>('Connection aborted.', ConnectionResetError(1...</td>\n",
       "    </tr>\n",
       "    <tr>\n",
       "      <th>Status Code</th>\n",
       "      <td>200</td>\n",
       "    </tr>\n",
       "    <tr>\n",
       "      <th>params</th>\n",
       "      <td>start=2023-02-07+20%3A00%3A00&amp;end=2023-02-07+2...</td>\n",
       "    </tr>\n",
       "  </tbody>\n",
       "</table>\n",
       "</div>"
      ],
      "text/plain": [
       "                                                  city/history\n",
       "Message      ('Connection aborted.', ConnectionResetError(1...\n",
       "Status Code                                                200\n",
       "params       start=2023-02-07+20%3A00%3A00&end=2023-02-07+2..."
      ]
     },
     "metadata": {},
     "output_type": "display_data"
    }
   ],
   "source": [
    "def url_testing(urls, report=True):\n",
    "    fail, success = {}, {}\n",
    "    for i, url in enumerate(urls):\n",
    "        try:\n",
    "            print(f'Requesting: {i}/{len(urls)}, Failed: {len(fail)}/{len(urls)}'); co(True)\n",
    "            res = requests.get(f'{root}/{url}')\n",
    "            if not res: raise Exception('Status code is not 200.')\n",
    "            success[url.split('?')[0]] = len(res.json())\n",
    "        except Exception as err:\n",
    "            fail[url.split('?')[0]] = {'Status Code': res.status_code, 'Message': str(err), 'params': url.split('?')[1]}\n",
    "    if report:\n",
    "        print('\\nResult:\\n')\n",
    "        if not len(fail):\n",
    "            print(' - All good.'); print('')\n",
    "            display(pd.Series(success).to_frame('Resp. size'))\n",
    "        else:\n",
    "            print(f' - Success: {len(success)}')\n",
    "            print(f' - Failed: {len(fail)}')\n",
    "            display(pd.DataFrame(fail))\n",
    "    return success, fail\n",
    "\n",
    "s, f = url_testing(urls)"
   ]
  }
 ],
 "metadata": {
  "kernelspec": {
   "display_name": "Python 3",
   "language": "python",
   "name": "python3"
  },
  "language_info": {
   "codemirror_mode": {
    "name": "ipython",
    "version": 3
   },
   "file_extension": ".py",
   "mimetype": "text/x-python",
   "name": "python",
   "nbconvert_exporter": "python",
   "pygments_lexer": "ipython3",
   "version": "3.8.3"
  }
 },
 "nbformat": 4,
 "nbformat_minor": 4
}
