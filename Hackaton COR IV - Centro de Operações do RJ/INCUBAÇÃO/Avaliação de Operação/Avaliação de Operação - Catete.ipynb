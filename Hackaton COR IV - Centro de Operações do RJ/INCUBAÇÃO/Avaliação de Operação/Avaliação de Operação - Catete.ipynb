{
 "cells": [
  {
   "cell_type": "markdown",
   "metadata": {},
   "source": [
    "### Modules"
   ]
  },
  {
   "cell_type": "code",
   "execution_count": null,
   "metadata": {},
   "outputs": [],
   "source": [
    "weber.junior@img.com.br\n",
    "11 96378-9218"
   ]
  },
  {
   "cell_type": "code",
   "execution_count": 509,
   "metadata": {},
   "outputs": [
    {
     "name": "stdout",
     "output_type": "stream",
     "text": [
      "C:\\Users\\luisr\\Desktop\\Repositories\\Data Science Projects\\Hackaton COR IV - Centro de Operações do RJ\n"
     ]
    }
   ],
   "source": [
    "cd ../"
   ]
  },
  {
   "cell_type": "code",
   "execution_count": 415,
   "metadata": {},
   "outputs": [],
   "source": [
    "import requests, json, pandas as pd, numpy as np\n",
    "from matplotlib.path import Path as mpl_path\n",
    "from IPython.display import clear_output as co\n",
    "\n",
    "from Modulos.imbalanced_selection import groupConsecutiveFlags"
   ]
  },
  {
   "cell_type": "markdown",
   "metadata": {},
   "source": [
    "---\n",
    "# Get prediction alerts from waterbag models api"
   ]
  },
  {
   "cell_type": "markdown",
   "metadata": {},
   "source": [
    "### Request predictions for region 'Catete'"
   ]
  },
  {
   "cell_type": "code",
   "execution_count": 128,
   "metadata": {},
   "outputs": [
    {
     "data": {
      "text/html": [
       "<div>\n",
       "<style scoped>\n",
       "    .dataframe tbody tr th:only-of-type {\n",
       "        vertical-align: middle;\n",
       "    }\n",
       "\n",
       "    .dataframe tbody tr th {\n",
       "        vertical-align: top;\n",
       "    }\n",
       "\n",
       "    .dataframe thead th {\n",
       "        text-align: right;\n",
       "    }\n",
       "</style>\n",
       "<table border=\"1\" class=\"dataframe\">\n",
       "  <thead>\n",
       "    <tr style=\"text-align: right;\">\n",
       "      <th></th>\n",
       "      <th>_id</th>\n",
       "      <th>timestamp</th>\n",
       "      <th>date</th>\n",
       "      <th>time</th>\n",
       "      <th>cluster_id</th>\n",
       "      <th>cluster</th>\n",
       "      <th>range</th>\n",
       "      <th>probability</th>\n",
       "      <th>confidence</th>\n",
       "      <th>label</th>\n",
       "    </tr>\n",
       "  </thead>\n",
       "  <tbody>\n",
       "    <tr>\n",
       "      <th>0</th>\n",
       "      <td>6392b78ddae0e50eacc93ae6</td>\n",
       "      <td>2022-12-09 04:20:00.022000</td>\n",
       "      <td>2022-12-09</td>\n",
       "      <td>01:20:00</td>\n",
       "      <td>1</td>\n",
       "      <td>Rua do Catete</td>\n",
       "      <td>1h</td>\n",
       "      <td>0.000449</td>\n",
       "      <td>0.999103</td>\n",
       "      <td>0</td>\n",
       "    </tr>\n",
       "    <tr>\n",
       "      <th>1</th>\n",
       "      <td>6392a5eedae0e50eacc93a92</td>\n",
       "      <td>2022-12-09 03:05:00.022000</td>\n",
       "      <td>2022-12-09</td>\n",
       "      <td>00:05:00</td>\n",
       "      <td>1</td>\n",
       "      <td>Rua do Catete</td>\n",
       "      <td>1h</td>\n",
       "      <td>0.000488</td>\n",
       "      <td>0.999024</td>\n",
       "      <td>0</td>\n",
       "    </tr>\n",
       "    <tr>\n",
       "      <th>2</th>\n",
       "      <td>63929d0cdae0e50eacc93a62</td>\n",
       "      <td>2022-12-09 02:25:00.061000</td>\n",
       "      <td>2022-12-08</td>\n",
       "      <td>23:25:00</td>\n",
       "      <td>1</td>\n",
       "      <td>Rua do Catete</td>\n",
       "      <td>1h</td>\n",
       "      <td>0.000920</td>\n",
       "      <td>0.998159</td>\n",
       "      <td>0</td>\n",
       "    </tr>\n",
       "    <tr>\n",
       "      <th>3</th>\n",
       "      <td>63929201dae0e50eacc93a2c</td>\n",
       "      <td>2022-12-09 01:40:00.018000</td>\n",
       "      <td>2022-12-08</td>\n",
       "      <td>22:40:00</td>\n",
       "      <td>1</td>\n",
       "      <td>Rua do Catete</td>\n",
       "      <td>1h</td>\n",
       "      <td>0.000800</td>\n",
       "      <td>0.998399</td>\n",
       "      <td>0</td>\n",
       "    </tr>\n",
       "    <tr>\n",
       "      <th>4</th>\n",
       "      <td>639290dfdae0e50eacc93a26</td>\n",
       "      <td>2022-12-09 01:35:00.024000</td>\n",
       "      <td>2022-12-08</td>\n",
       "      <td>22:35:00</td>\n",
       "      <td>1</td>\n",
       "      <td>Rua do Catete</td>\n",
       "      <td>1h</td>\n",
       "      <td>0.000849</td>\n",
       "      <td>0.998302</td>\n",
       "      <td>0</td>\n",
       "    </tr>\n",
       "  </tbody>\n",
       "</table>\n",
       "</div>"
      ],
      "text/plain": [
       "                        _id                   timestamp        date      time  \\\n",
       "0  6392b78ddae0e50eacc93ae6  2022-12-09 04:20:00.022000  2022-12-09  01:20:00   \n",
       "1  6392a5eedae0e50eacc93a92  2022-12-09 03:05:00.022000  2022-12-09  00:05:00   \n",
       "2  63929d0cdae0e50eacc93a62  2022-12-09 02:25:00.061000  2022-12-08  23:25:00   \n",
       "3  63929201dae0e50eacc93a2c  2022-12-09 01:40:00.018000  2022-12-08  22:40:00   \n",
       "4  639290dfdae0e50eacc93a26  2022-12-09 01:35:00.024000  2022-12-08  22:35:00   \n",
       "\n",
       "   cluster_id        cluster range  probability  confidence  label  \n",
       "0           1  Rua do Catete    1h     0.000449    0.999103      0  \n",
       "1           1  Rua do Catete    1h     0.000488    0.999024      0  \n",
       "2           1  Rua do Catete    1h     0.000920    0.998159      0  \n",
       "3           1  Rua do Catete    1h     0.000800    0.998399      0  \n",
       "4           1  Rua do Catete    1h     0.000849    0.998302      0  "
      ]
     },
     "execution_count": 128,
     "metadata": {},
     "output_type": "execute_result"
    }
   ],
   "source": [
    "waterbag_api = 'http://127.0.0.1:5000/'\n",
    "catete_url = waterbag_api + 'predictions?cluster_id=1'\n",
    "\n",
    "# api request\n",
    "catete = pd.DataFrame(requests.get(catete_url).json())\n",
    "\n",
    "catete.head()"
   ]
  },
  {
   "cell_type": "markdown",
   "metadata": {},
   "source": [
    "### Type conversion"
   ]
  },
  {
   "cell_type": "code",
   "execution_count": 132,
   "metadata": {},
   "outputs": [],
   "source": [
    "catete['timestamp'] = catete['timestamp'].astype('datetime64[ms]')\n",
    "\n",
    "catete.set_index('timestamp', inplace=True)\n",
    "catete.sort_index(inplace=True)"
   ]
  },
  {
   "cell_type": "markdown",
   "metadata": {},
   "source": [
    "### Operation start"
   ]
  },
  {
   "cell_type": "code",
   "execution_count": 133,
   "metadata": {},
   "outputs": [
    {
     "data": {
      "text/plain": [
       "'2022-10-19'"
      ]
     },
     "execution_count": 133,
     "metadata": {},
     "output_type": "execute_result"
    }
   ],
   "source": [
    "operation_start = catete.index.min()\n",
    "\n",
    "str(operation_start.date())"
   ]
  },
  {
   "cell_type": "markdown",
   "metadata": {},
   "source": [
    "### Operation time"
   ]
  },
  {
   "cell_type": "code",
   "execution_count": 134,
   "metadata": {},
   "outputs": [
    {
     "name": "stderr",
     "output_type": "stream",
     "text": [
      "<ipython-input-134-18cfd65ff83b>:1: FutureWarning: The pandas.datetime class is deprecated and will be removed from pandas in a future version. Import from datetime module instead.\n",
      "  pd.datetime.now() - operation_start\n"
     ]
    },
    {
     "data": {
      "text/plain": [
       "Timedelta('53 days 02:11:38.060275')"
      ]
     },
     "execution_count": 134,
     "metadata": {},
     "output_type": "execute_result"
    }
   ],
   "source": [
    "pd.datetime.now() - operation_start"
   ]
  },
  {
   "cell_type": "code",
   "execution_count": 135,
   "metadata": {},
   "outputs": [],
   "source": [
    "yprob = catete['probability']\n",
    "yhat = (yprob >= 0.5).astype('int')\n",
    "ygroup = groupConsecutiveFlags(yhat)\n",
    "\n",
    "catete['alert'] = ygroup"
   ]
  },
  {
   "cell_type": "markdown",
   "metadata": {},
   "source": [
    "### Predicted alerts duration"
   ]
  },
  {
   "cell_type": "code",
   "execution_count": 144,
   "metadata": {},
   "outputs": [
    {
     "data": {
      "text/html": [
       "<div>\n",
       "<style scoped>\n",
       "    .dataframe tbody tr th:only-of-type {\n",
       "        vertical-align: middle;\n",
       "    }\n",
       "\n",
       "    .dataframe tbody tr th {\n",
       "        vertical-align: top;\n",
       "    }\n",
       "\n",
       "    .dataframe thead th {\n",
       "        text-align: right;\n",
       "    }\n",
       "</style>\n",
       "<table border=\"1\" class=\"dataframe\">\n",
       "  <thead>\n",
       "    <tr style=\"text-align: right;\">\n",
       "      <th></th>\n",
       "      <th>6</th>\n",
       "      <th>0</th>\n",
       "      <th>7</th>\n",
       "      <th>2</th>\n",
       "      <th>8</th>\n",
       "      <th>9</th>\n",
       "      <th>1</th>\n",
       "      <th>3</th>\n",
       "      <th>4</th>\n",
       "      <th>5</th>\n",
       "    </tr>\n",
       "  </thead>\n",
       "  <tbody>\n",
       "    <tr>\n",
       "      <th>duration (min)</th>\n",
       "      <td>165</td>\n",
       "      <td>95</td>\n",
       "      <td>80</td>\n",
       "      <td>70</td>\n",
       "      <td>70</td>\n",
       "      <td>70</td>\n",
       "      <td>60</td>\n",
       "      <td>35</td>\n",
       "      <td>10</td>\n",
       "      <td>10</td>\n",
       "    </tr>\n",
       "  </tbody>\n",
       "</table>\n",
       "</div>"
      ],
      "text/plain": [
       "                  6   0   7   2   8   9   1   3   4   5\n",
       "duration (min)  165  95  80  70  70  70  60  35  10  10"
      ]
     },
     "execution_count": 144,
     "metadata": {},
     "output_type": "execute_result"
    }
   ],
   "source": [
    "alert_duration = 5 * ygroup.value_counts().drop(-1).to_frame('duration (min)')\n",
    "\n",
    "alert_duration.T"
   ]
  },
  {
   "cell_type": "markdown",
   "metadata": {},
   "source": [
    "### Alerts date and time"
   ]
  },
  {
   "cell_type": "code",
   "execution_count": 147,
   "metadata": {},
   "outputs": [
    {
     "data": {
      "text/html": [
       "<div>\n",
       "<style scoped>\n",
       "    .dataframe tbody tr th:only-of-type {\n",
       "        vertical-align: middle;\n",
       "    }\n",
       "\n",
       "    .dataframe tbody tr th {\n",
       "        vertical-align: top;\n",
       "    }\n",
       "\n",
       "    .dataframe thead th {\n",
       "        text-align: right;\n",
       "    }\n",
       "</style>\n",
       "<table border=\"1\" class=\"dataframe\">\n",
       "  <thead>\n",
       "    <tr style=\"text-align: right;\">\n",
       "      <th></th>\n",
       "      <th>date</th>\n",
       "      <th>time</th>\n",
       "      <th>time_end</th>\n",
       "      <th>duration (min)</th>\n",
       "    </tr>\n",
       "    <tr>\n",
       "      <th>alert</th>\n",
       "      <th></th>\n",
       "      <th></th>\n",
       "      <th></th>\n",
       "      <th></th>\n",
       "    </tr>\n",
       "  </thead>\n",
       "  <tbody>\n",
       "    <tr>\n",
       "      <th>0</th>\n",
       "      <td>2022-10-31</td>\n",
       "      <td>17:10:00</td>\n",
       "      <td>18:40:00</td>\n",
       "      <td>95.0</td>\n",
       "    </tr>\n",
       "    <tr>\n",
       "      <th>1</th>\n",
       "      <td>2022-11-01</td>\n",
       "      <td>13:55:00</td>\n",
       "      <td>14:50:00</td>\n",
       "      <td>60.0</td>\n",
       "    </tr>\n",
       "    <tr>\n",
       "      <th>2</th>\n",
       "      <td>2022-11-01</td>\n",
       "      <td>15:20:00</td>\n",
       "      <td>16:25:00</td>\n",
       "      <td>70.0</td>\n",
       "    </tr>\n",
       "    <tr>\n",
       "      <th>3</th>\n",
       "      <td>2022-11-01</td>\n",
       "      <td>17:55:00</td>\n",
       "      <td>18:25:00</td>\n",
       "      <td>35.0</td>\n",
       "    </tr>\n",
       "    <tr>\n",
       "      <th>4</th>\n",
       "      <td>2022-11-01</td>\n",
       "      <td>18:55:00</td>\n",
       "      <td>19:00:00</td>\n",
       "      <td>10.0</td>\n",
       "    </tr>\n",
       "    <tr>\n",
       "      <th>5</th>\n",
       "      <td>2022-11-24</td>\n",
       "      <td>05:45:00</td>\n",
       "      <td>05:50:00</td>\n",
       "      <td>10.0</td>\n",
       "    </tr>\n",
       "    <tr>\n",
       "      <th>6</th>\n",
       "      <td>2022-11-24</td>\n",
       "      <td>06:00:00</td>\n",
       "      <td>08:40:00</td>\n",
       "      <td>165.0</td>\n",
       "    </tr>\n",
       "    <tr>\n",
       "      <th>7</th>\n",
       "      <td>2022-11-28</td>\n",
       "      <td>13:45:00</td>\n",
       "      <td>15:00:00</td>\n",
       "      <td>80.0</td>\n",
       "    </tr>\n",
       "    <tr>\n",
       "      <th>8</th>\n",
       "      <td>2022-11-28</td>\n",
       "      <td>15:15:00</td>\n",
       "      <td>16:20:00</td>\n",
       "      <td>70.0</td>\n",
       "    </tr>\n",
       "    <tr>\n",
       "      <th>9</th>\n",
       "      <td>2022-11-28</td>\n",
       "      <td>16:35:00</td>\n",
       "      <td>17:40:00</td>\n",
       "      <td>70.0</td>\n",
       "    </tr>\n",
       "  </tbody>\n",
       "</table>\n",
       "</div>"
      ],
      "text/plain": [
       "             date      time  time_end  duration (min)\n",
       "alert                                                \n",
       "0      2022-10-31  17:10:00  18:40:00            95.0\n",
       "1      2022-11-01  13:55:00  14:50:00            60.0\n",
       "2      2022-11-01  15:20:00  16:25:00            70.0\n",
       "3      2022-11-01  17:55:00  18:25:00            35.0\n",
       "4      2022-11-01  18:55:00  19:00:00            10.0\n",
       "5      2022-11-24  05:45:00  05:50:00            10.0\n",
       "6      2022-11-24  06:00:00  08:40:00           165.0\n",
       "7      2022-11-28  13:45:00  15:00:00            80.0\n",
       "8      2022-11-28  15:15:00  16:20:00            70.0\n",
       "9      2022-11-28  16:35:00  17:40:00            70.0"
      ]
     },
     "execution_count": 147,
     "metadata": {},
     "output_type": "execute_result"
    }
   ],
   "source": [
    "start = catete.groupby('alert').first()[['date', 'time']]\n",
    "end = catete.groupby('alert').last()[['date', 'time']]\n",
    "end.columns = ['date_end', 'time_end']\n",
    "\n",
    "alerts = start.join([end[['time_end']], alert_duration]).drop(-1)\n",
    "\n",
    "alerts"
   ]
  },
  {
   "cell_type": "markdown",
   "metadata": {},
   "source": [
    "---\n",
    "# Get *closed* waterbag events from Sistema Comando"
   ]
  },
  {
   "cell_type": "markdown",
   "metadata": {},
   "source": [
    "### Set api urls and request parameters "
   ]
  },
  {
   "cell_type": "code",
   "execution_count": 424,
   "metadata": {},
   "outputs": [
    {
     "name": "stderr",
     "output_type": "stream",
     "text": [
      "<ipython-input-424-1300566dc13c>:7: FutureWarning: The pandas.datetime class is deprecated and will be removed from pandas in a future version. Import from datetime module instead.\n",
      "  now = pd.datetime.now()\n"
     ]
    }
   ],
   "source": [
    "comando_api = 'https://api.dados.rio/v2/adm_cor_comando/'\n",
    "operation_events_url = comando_api + 'ocorrencias'\n",
    "\n",
    "dict_df_map = lambda df: pd.DataFrame(df['eventos'])\n",
    "\n",
    "days_30 = pd.offsets.Day() * 30\n",
    "now = pd.datetime.now()\n",
    "\n",
    "n_requests = int(np.ceil((now - operation_start) / (days_30)))"
   ]
  },
  {
   "cell_type": "markdown",
   "metadata": {},
   "source": [
    "### Request events from comando api\n",
    "#### From operation start time until now, in periods of 30 days"
   ]
  },
  {
   "cell_type": "code",
   "execution_count": 473,
   "metadata": {},
   "outputs": [
    {
     "name": "stdout",
     "output_type": "stream",
     "text": [
      "2 / 2 periods requested\n"
     ]
    }
   ],
   "source": [
    "start = operation_start\n",
    "\n",
    "events = []\n",
    "events_res = {}\n",
    "for n in range(n_requests):\n",
    "    co(True); print(n+1, '/', n_requests, 'periods requested')\n",
    "    if n != 0: start = start + days_30\n",
    "    start_str = str(start)[:-6] + '0'\n",
    "    end = start + days_30\n",
    "    end_str = str(end)[:-6] + '0'\n",
    "    rqst_url = operation_events_url + f'?inicio={start_str}&fim={end_str}'\n",
    "    j = 0\n",
    "    while 'eventos' not in events_res.keys():\n",
    "        j+=1; events_res = requests.get(rqst_url).json()\n",
    "        if j>=10:\n",
    "            print('retries exceeded'); break\n",
    "    events_res = pd.concat(list(map(dict_df_map, events_res['eventos'])))\n",
    "    events.append(events_res)\n",
    "\n",
    "events = pd.concat(events).reset_index(drop=True)"
   ]
  },
  {
   "cell_type": "markdown",
   "metadata": {},
   "source": [
    "### Data cleaning"
   ]
  },
  {
   "cell_type": "code",
   "execution_count": 474,
   "metadata": {},
   "outputs": [],
   "source": [
    "events['inicio'] = events['inicio'].astype('datetime64[ms]')\n",
    "events['fim'] = events['fim'].astype('datetime64[ms]')"
   ]
  },
  {
   "cell_type": "markdown",
   "metadata": {},
   "source": [
    "### Events temporal description"
   ]
  },
  {
   "cell_type": "code",
   "execution_count": 475,
   "metadata": {},
   "outputs": [
    {
     "data": {
      "text/plain": [
       "min    2022-10-19 05:59:54\n",
       "max    2022-12-12 12:48:43\n",
       "Name: inicio, dtype: object"
      ]
     },
     "execution_count": 475,
     "metadata": {},
     "output_type": "execute_result"
    }
   ],
   "source": [
    "events['inicio'].describe(datetime_is_numeric=True)[['min', 'max']]"
   ]
  },
  {
   "cell_type": "markdown",
   "metadata": {},
   "source": [
    "### Get events inside the model's region of influence\n",
    "\n",
    "#### Get the region polygon"
   ]
  },
  {
   "cell_type": "code",
   "execution_count": 476,
   "metadata": {},
   "outputs": [],
   "source": [
    "polygons_geojson_path = '../ACELERAÇÃO/Dados/Clusters/polygons_micro.geojson'\n",
    "\n",
    "# Load custers polygons geojson data\n",
    "polygons_geojson = json.loads(open(polygons_geojson_path, 'r').read())\n",
    "\n",
    "# Get polygons dict from geojson\n",
    "polygons = {}\n",
    "for poly in polygons_geojson['features']:\n",
    "    if poly['properties']['sublabel'] != -1:\n",
    "        polygons[poly['properties']['sublabel']] = poly['geometry']['coordinates'][0]"
   ]
  },
  {
   "cell_type": "markdown",
   "metadata": {},
   "source": [
    "#### Get events inside polygon"
   ]
  },
  {
   "cell_type": "code",
   "execution_count": 477,
   "metadata": {},
   "outputs": [
    {
     "data": {
      "text/html": [
       "<div>\n",
       "<style scoped>\n",
       "    .dataframe tbody tr th:only-of-type {\n",
       "        vertical-align: middle;\n",
       "    }\n",
       "\n",
       "    .dataframe tbody tr th {\n",
       "        vertical-align: top;\n",
       "    }\n",
       "\n",
       "    .dataframe thead th {\n",
       "        text-align: right;\n",
       "    }\n",
       "</style>\n",
       "<table border=\"1\" class=\"dataframe\">\n",
       "  <thead>\n",
       "    <tr style=\"text-align: right;\">\n",
       "      <th></th>\n",
       "      <th>tipo</th>\n",
       "      <th>pop_id</th>\n",
       "      <th>bairro</th>\n",
       "      <th>latitude</th>\n",
       "      <th>inicio</th>\n",
       "      <th>titulo</th>\n",
       "      <th>fim</th>\n",
       "      <th>prazo</th>\n",
       "      <th>descricao</th>\n",
       "      <th>informe_id</th>\n",
       "      <th>gravidade</th>\n",
       "      <th>id</th>\n",
       "      <th>longitude</th>\n",
       "      <th>status</th>\n",
       "    </tr>\n",
       "  </thead>\n",
       "  <tbody>\n",
       "    <tr>\n",
       "      <th>742</th>\n",
       "      <td>PRIMARIO</td>\n",
       "      <td>5.0</td>\n",
       "      <td>Catete</td>\n",
       "      <td>-22.927022</td>\n",
       "      <td>2022-11-01 15:39:00</td>\n",
       "      <td>Bolsão d'água em via ( CAM 313 )</td>\n",
       "      <td>2022-11-01 17:58:04</td>\n",
       "      <td>CURTO</td>\n",
       "      <td>R. do Catete, Alt. R. Silveira Martins - Catete</td>\n",
       "      <td>83611</td>\n",
       "      <td>BAIXO</td>\n",
       "      <td>83610</td>\n",
       "      <td>-43.176622</td>\n",
       "      <td>FECHADO</td>\n",
       "    </tr>\n",
       "    <tr>\n",
       "      <th>2333</th>\n",
       "      <td>PRIMARIO</td>\n",
       "      <td>31.0</td>\n",
       "      <td>Glória</td>\n",
       "      <td>-22.925695</td>\n",
       "      <td>2022-11-28 13:33:46</td>\n",
       "      <td>Alagamento (Cam 313)</td>\n",
       "      <td>2022-11-28 16:17:42</td>\n",
       "      <td>CURTO</td>\n",
       "      <td>Rua do Catete, Alt. R. Silveira Martins - Catete</td>\n",
       "      <td>85187</td>\n",
       "      <td>MEDIO</td>\n",
       "      <td>85186</td>\n",
       "      <td>-43.176198</td>\n",
       "      <td>FECHADO</td>\n",
       "    </tr>\n",
       "    <tr>\n",
       "      <th>2336</th>\n",
       "      <td>PRIMARIO</td>\n",
       "      <td>5.0</td>\n",
       "      <td>Glória</td>\n",
       "      <td>-22.926966</td>\n",
       "      <td>2022-11-28 13:40:46</td>\n",
       "      <td>Bolsão d'água em via (Cam 268)</td>\n",
       "      <td>2022-11-28 15:15:56</td>\n",
       "      <td>CURTO</td>\n",
       "      <td>R. do Catete - Largo do Machado</td>\n",
       "      <td>85190</td>\n",
       "      <td>BAIXO</td>\n",
       "      <td>85189</td>\n",
       "      <td>-43.176611</td>\n",
       "      <td>FECHADO</td>\n",
       "    </tr>\n",
       "  </tbody>\n",
       "</table>\n",
       "</div>"
      ],
      "text/plain": [
       "          tipo  pop_id  bairro   latitude              inicio  \\\n",
       "742   PRIMARIO     5.0  Catete -22.927022 2022-11-01 15:39:00   \n",
       "2333  PRIMARIO    31.0  Glória -22.925695 2022-11-28 13:33:46   \n",
       "2336  PRIMARIO     5.0  Glória -22.926966 2022-11-28 13:40:46   \n",
       "\n",
       "                                titulo                 fim  prazo  \\\n",
       "742   Bolsão d'água em via ( CAM 313 ) 2022-11-01 17:58:04  CURTO   \n",
       "2333              Alagamento (Cam 313) 2022-11-28 16:17:42  CURTO   \n",
       "2336    Bolsão d'água em via (Cam 268) 2022-11-28 15:15:56  CURTO   \n",
       "\n",
       "                                             descricao  informe_id gravidade  \\\n",
       "742    R. do Catete, Alt. R. Silveira Martins - Catete       83611     BAIXO   \n",
       "2333  Rua do Catete, Alt. R. Silveira Martins - Catete       85187     MEDIO   \n",
       "2336                   R. do Catete - Largo do Machado       85190     BAIXO   \n",
       "\n",
       "         id  longitude   status  \n",
       "742   83610 -43.176622  FECHADO  \n",
       "2333  85186 -43.176198  FECHADO  \n",
       "2336  85189 -43.176611  FECHADO  "
      ]
     },
     "execution_count": 477,
     "metadata": {},
     "output_type": "execute_result"
    }
   ],
   "source": [
    "#### Get events points as array\n",
    "points = np.array(list(map(tuple, events[['longitude', 'latitude']].values)))\n",
    "\n",
    "cluster_id = 1\n",
    "poly = polygons[cluster_id]\n",
    "\n",
    "# Get events inside polygon\n",
    "points_msk = mpl_path(poly).contains_points(points)\n",
    "events_poly = events[points_msk]\n",
    "\n",
    "events_poly"
   ]
  },
  {
   "cell_type": "markdown",
   "metadata": {},
   "source": [
    "### Get events by date"
   ]
  },
  {
   "cell_type": "code",
   "execution_count": null,
   "metadata": {},
   "outputs": [],
   "source": [
    "'2022-10-31', '2022-11-01', '2022-11-24', '2022-11-28'\n",
    "\n",
    "events.set_index('inicio')['2022-11-24']#.set_index('pop_id')[5]"
   ]
  }
 ],
 "metadata": {
  "kernelspec": {
   "display_name": "Python 3",
   "language": "python",
   "name": "python3"
  },
  "language_info": {
   "codemirror_mode": {
    "name": "ipython",
    "version": 3
   },
   "file_extension": ".py",
   "mimetype": "text/x-python",
   "name": "python",
   "nbconvert_exporter": "python",
   "pygments_lexer": "ipython3",
   "version": "3.8.3"
  }
 },
 "nbformat": 4,
 "nbformat_minor": 4
}
