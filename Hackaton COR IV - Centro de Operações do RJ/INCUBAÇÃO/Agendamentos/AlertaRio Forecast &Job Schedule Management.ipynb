{
 "cells": [
  {
   "cell_type": "markdown",
   "metadata": {},
   "source": [
    "# Pause and resume cloud scheduler jobs based on day period rain prediction"
   ]
  },
  {
   "cell_type": "markdown",
   "metadata": {},
   "source": [
    "## Testing Cloud Scheduler methods"
   ]
  },
  {
   "cell_type": "code",
   "execution_count": 442,
   "metadata": {},
   "outputs": [],
   "source": [
    "from google.cloud import scheduler_v1\n",
    "\n",
    "class Scheduler:\n",
    "    \n",
    "    def __init__(self, sa_json=None):\n",
    "        if sa_json is not None:\n",
    "            self.client = scheduler_v1.CloudSchedulerClient.from_service_account_json(sa_json)\n",
    "        else: self.client = scheduler_v1.CloudSchedulerClient()\n",
    "\n",
    "    def pause_job(self, job_id):\n",
    "        return self.client.pause_job(name=job_id)\n",
    "        \n",
    "    def resume_job(self, job_id):\n",
    "        return self.client.resume_job(name=job_id)"
   ]
  },
  {
   "cell_type": "markdown",
   "metadata": {},
   "source": [
    "### Custom scheduler instance"
   ]
  },
  {
   "cell_type": "code",
   "execution_count": 443,
   "metadata": {},
   "outputs": [],
   "source": [
    "sa_json = '../../../../Apps/APIs/cams-rio/auth/octacity-iduff.json'\n",
    "\n",
    "sched = Scheduler(sa_json)"
   ]
  },
  {
   "cell_type": "markdown",
   "metadata": {},
   "source": [
    "### List jobs"
   ]
  },
  {
   "cell_type": "code",
   "execution_count": 445,
   "metadata": {},
   "outputs": [
    {
     "data": {
      "text/plain": [
       "['projects/octacity/locations/us-central1/jobs/alertario-job-switch',\n",
       " 'projects/octacity/locations/us-central1/jobs/post-cameras-alertario',\n",
       " 'projects/octacity/locations/us-central1/jobs/post-city',\n",
       " 'projects/octacity/locations/us-central1/jobs/post-ipp-polygons-overview',\n",
       " 'projects/octacity/locations/us-central1/jobs/post-polygons',\n",
       " 'projects/octacity/locations/us-central1/jobs/post-polygons-alertario',\n",
       " 'projects/octacity/locations/us-central1/jobs/post-polygons-ipp',\n",
       " 'projects/octacity/locations/us-central1/jobs/post-polygons-overview',\n",
       " 'projects/octacity/locations/us-central1/jobs/post-predict',\n",
       " 'projects/octacity/locations/us-central1/jobs/record-comando',\n",
       " 'projects/octacity/locations/us-central1/jobs/record-normal',\n",
       " 'projects/octacity/locations/us-central1/jobs/record-polygons',\n",
       " 'projects/octacity/locations/us-central1/jobs/record-rain',\n",
       " 'projects/octacity/locations/us-central1/jobs/record-rivers-manual',\n",
       " 'projects/octacity/locations/us-central1/jobs/record-waze']"
      ]
     },
     "execution_count": 445,
     "metadata": {},
     "output_type": "execute_result"
    }
   ],
   "source": [
    "parent = f'projects/{project}/locations/{location}'\n",
    "\n",
    "jobs = sched.client.list_jobs(parent=parent)\n",
    "\n",
    "jobs_names = [res.name for res in jobs]; jobs_names"
   ]
  },
  {
   "cell_type": "markdown",
   "metadata": {},
   "source": [
    "### Pause Job manually"
   ]
  },
  {
   "cell_type": "code",
   "execution_count": 215,
   "metadata": {},
   "outputs": [],
   "source": [
    "res = sched.pause_job('projects/octacity/locations/us-central1/jobs/record-rivers-manual')\n",
    "\n",
    "# print(res)"
   ]
  },
  {
   "cell_type": "markdown",
   "metadata": {},
   "source": [
    "### Resume Job manually"
   ]
  },
  {
   "cell_type": "code",
   "execution_count": 219,
   "metadata": {},
   "outputs": [],
   "source": [
    "res = sched.resume_job('projects/octacity/locations/us-central1/jobs/record-rivers-manual')\n",
    "\n",
    "# print(res)"
   ]
  },
  {
   "cell_type": "markdown",
   "metadata": {},
   "source": [
    "---\n",
    "# Scraping rain forecasat for next 24 hours from alertario website (Example)"
   ]
  },
  {
   "cell_type": "markdown",
   "metadata": {},
   "source": [
    "#### Fetch updated data"
   ]
  },
  {
   "cell_type": "code",
   "execution_count": 507,
   "metadata": {},
   "outputs": [],
   "source": [
    "import requests, pandas as pd\n",
    "from lxml import etree\n",
    "from datetime import datetime as dt \n",
    "# from modules.cloud_scheduler import Scheduler\n",
    "\n",
    "class AlertaRio:\n",
    "    \n",
    "    baseURL = 'http://alertario.rio.rj.gov.br'\n",
    "    rain_prediction_url = f'{baseURL}/upload/Previsao.html'\n",
    "    \n",
    "    day_periods = {\n",
    "        'Manhã': '06:00:00',\n",
    "        'Tarde': '12:00:00',\n",
    "        'Noite': '18:00:00',\n",
    "        'Madrugada': '00:00:00',\n",
    "    }\n",
    "    precipitation_categories = [\n",
    "        'Sem chuva', 'Pancadas de chuva isoladas',\n",
    "        'Chuva fraca a moderada isolada'\n",
    "    ]\n",
    "\n",
    "    msg_fail = msg = 'ALERTA-RIO JOB SWITCH SKIPPED · CURRENT DAY PERIOD UNAVAILABLE'\n",
    "    msg_scss = '* ALERTA-RIO FORECAST JOB SWITCH · {} JOBS: {}'\n",
    "    msg_error = 'ALERTA-RIO JOB SWITCH EXCEPTION CAUGHT · {}'\n",
    "\n",
    "    def last_update(res=None):\n",
    "        if res is None: res = requests.get(AlertaRio.rain_prediction_url, timeout=None) # get url res\n",
    "        table = etree.HTML(res.text).find(\"body/p\") # get html p element\n",
    "        info = table.text.split(' ')  # list elemement text\n",
    "        date, time = info[-1], info[-3] # get last update date and time\n",
    "        return dt.strptime(f'{date} {time}', '%d/%m/%Y %H:%M') # parse date and time\n",
    "\n",
    "    def next24hours(as_datetime=True, last_update=False): # Rain forecast web scraping\n",
    "        df = pd.read_html(AlertaRio.rain_prediction_url)[0] # get html table\n",
    "        df.columns = ['id'] + [df.columns[i][1] for i in range(1, 5)]\n",
    "        df = df.iloc[1:5].set_index('id', drop=True).T\n",
    "        df.columns = ['_'.join(col.lower().split(' ')) for col in df.columns]\n",
    "        df[['período', 'data']] = [s.split('  ') for s in df.index]\n",
    "        df['hora'] = df['período'].map(AlertaRio.day_periods)\n",
    "        df['início'] = pd.to_datetime(df['data'] + ' ' + df['hora'], format='%d/%m/%Y %X')\n",
    "#         df['início'] = (df['data'] + ' ' + df['hora']).astype('datetime64[s]')\n",
    "        df['fim'] = df['início'] + pd.Timedelta(6, 'h')\n",
    "        # ADD CURRENT AND NEXT DAY PERIOD FLAGS FIELDS\n",
    "        if last_update: df['última_atualização'] = AlertaRio.last_update(res=None) \n",
    "        if not as_datetime:\n",
    "            for col in ['início', 'fim'] + ['última_atualização'] if last_update else []:\n",
    "                df[col] = df[col].dt.strftime('%Y/%m/%d %X')\n",
    "        return df\n",
    "    \n",
    "    def rain_next():\n",
    "        now = dt.now()\n",
    "        df = AlertaRio.next24hours()\n",
    "        df = df[df['início'] > now] # filter out predictions berore current day period\n",
    "        if len(df): # first period after current day period\n",
    "            return df.iloc[0]['precipitação'] != 'Sem chuva'\n",
    "        return None\n",
    "\n",
    "    def rain_now():\n",
    "        now = dt.now()\n",
    "        df = AlertaRio.next24hours()\n",
    "        df = df[df['início'] < now] # filter out predictions after current day period\n",
    "        if len(df): # last period before next day period\n",
    "            return df.iloc[-1]['precipitação'] != 'Sem chuva'\n",
    "        return None\n",
    "\n",
    "    def __init__(self, sa_json):\n",
    "        self.sched = Scheduler(sa_json)\n",
    "        \n",
    "    def job_switch(self, job_names, project, location):\n",
    "        job_path = f'projects/{project}/locations/{location}/jobs'\n",
    "        job_ids = [f'{job_path}/{job_name}' for job_name in job_names]\n",
    "        try:\n",
    "            rain_now = AlertaRio.rain_now()\n",
    "            if rain_now is None:\n",
    "                msg = AlertaRio.msg_fail\n",
    "                print(msg); return msg\n",
    "            switch = self.sched.resume_job if rain_now else self.sched.pause_job\n",
    "            list(map(switch, job_ids))\n",
    "            state = 'RESUMING' if rain_now else 'PAUSING'\n",
    "            msg = AlertaRio.msg_scss.format(state, job_names)\n",
    "            print(msg); return 'ALERTA-RIO JOB SWITCH SUCCESS'\n",
    "        except Exception as e:\n",
    "            msg = AlertaRio.msg_error.format(e)\n",
    "            print(msg); return msg"
   ]
  },
  {
   "cell_type": "markdown",
   "metadata": {},
   "source": [
    "#### Testing class methods"
   ]
  },
  {
   "cell_type": "code",
   "execution_count": 508,
   "metadata": {},
   "outputs": [
    {
     "name": "stdout",
     "output_type": "stream",
     "text": [
      "\n",
      "* LAST UPDATE:  2023-04-18 16:16:00\n",
      "\n",
      "* RAIN ON NEXT DAY PERIOD:  True\n",
      "\n",
      "* RAIN ON THIS DAY PERIOD:  True\n"
     ]
    }
   ],
   "source": [
    "print('\\n* LAST UPDATE: ', AlertaRio.last_update())\n",
    "print('\\n* RAIN ON NEXT DAY PERIOD: ', AlertaRio.rain_next())\n",
    "print('\\n* RAIN ON THIS DAY PERIOD: ', AlertaRio.rain_now())"
   ]
  },
  {
   "cell_type": "code",
   "execution_count": 509,
   "metadata": {},
   "outputs": [
    {
     "data": {
      "text/html": [
       "<div>\n",
       "<style scoped>\n",
       "    .dataframe tbody tr th:only-of-type {\n",
       "        vertical-align: middle;\n",
       "    }\n",
       "\n",
       "    .dataframe tbody tr th {\n",
       "        vertical-align: top;\n",
       "    }\n",
       "\n",
       "    .dataframe thead th {\n",
       "        text-align: right;\n",
       "    }\n",
       "</style>\n",
       "<table border=\"1\" class=\"dataframe\">\n",
       "  <thead>\n",
       "    <tr style=\"text-align: right;\">\n",
       "      <th></th>\n",
       "      <th>céu</th>\n",
       "      <th>precipitação</th>\n",
       "      <th>vento</th>\n",
       "      <th>tendência_da_temperatura</th>\n",
       "      <th>período</th>\n",
       "      <th>data</th>\n",
       "      <th>hora</th>\n",
       "      <th>início</th>\n",
       "      <th>fim</th>\n",
       "    </tr>\n",
       "  </thead>\n",
       "  <tbody>\n",
       "    <tr>\n",
       "      <th>Noite  18/04/2023</th>\n",
       "      <td>Nublado</td>\n",
       "      <td>Pancadas de chuva isoladas</td>\n",
       "      <td>Moderado a Forte de S/SW</td>\n",
       "      <td>Estável</td>\n",
       "      <td>Noite</td>\n",
       "      <td>18/04/2023</td>\n",
       "      <td>18:00:00</td>\n",
       "      <td>2023-04-18 18:00:00</td>\n",
       "      <td>2023-04-19 00:00:00</td>\n",
       "    </tr>\n",
       "    <tr>\n",
       "      <th>Madrugada  19/04/2023</th>\n",
       "      <td>Nublado a Encoberto</td>\n",
       "      <td>Pancadas de chuva isoladas</td>\n",
       "      <td>Moderado de S/SW</td>\n",
       "      <td>Estável</td>\n",
       "      <td>Madrugada</td>\n",
       "      <td>19/04/2023</td>\n",
       "      <td>00:00:00</td>\n",
       "      <td>2023-04-19 00:00:00</td>\n",
       "      <td>2023-04-19 06:00:00</td>\n",
       "    </tr>\n",
       "    <tr>\n",
       "      <th>Manhã  19/04/2023</th>\n",
       "      <td>Nublado a Encoberto</td>\n",
       "      <td>Chuva fraca a moderada isolada</td>\n",
       "      <td>Moderado a Forte de S/SW</td>\n",
       "      <td>Declínio</td>\n",
       "      <td>Manhã</td>\n",
       "      <td>19/04/2023</td>\n",
       "      <td>06:00:00</td>\n",
       "      <td>2023-04-19 06:00:00</td>\n",
       "      <td>2023-04-19 12:00:00</td>\n",
       "    </tr>\n",
       "    <tr>\n",
       "      <th>Tarde  19/04/2023</th>\n",
       "      <td>Nublado a Encoberto</td>\n",
       "      <td>Chuva fraca a moderada isolada</td>\n",
       "      <td>Moderado de S/SW</td>\n",
       "      <td>Declínio</td>\n",
       "      <td>Tarde</td>\n",
       "      <td>19/04/2023</td>\n",
       "      <td>12:00:00</td>\n",
       "      <td>2023-04-19 12:00:00</td>\n",
       "      <td>2023-04-19 18:00:00</td>\n",
       "    </tr>\n",
       "  </tbody>\n",
       "</table>\n",
       "</div>"
      ],
      "text/plain": [
       "                                       céu                    precipitação   \n",
       "Noite  18/04/2023                  Nublado      Pancadas de chuva isoladas  \\\n",
       "Madrugada  19/04/2023  Nublado a Encoberto      Pancadas de chuva isoladas   \n",
       "Manhã  19/04/2023      Nublado a Encoberto  Chuva fraca a moderada isolada   \n",
       "Tarde  19/04/2023      Nublado a Encoberto  Chuva fraca a moderada isolada   \n",
       "\n",
       "                                          vento tendência_da_temperatura   \n",
       "Noite  18/04/2023      Moderado a Forte de S/SW                  Estável  \\\n",
       "Madrugada  19/04/2023          Moderado de S/SW                  Estável   \n",
       "Manhã  19/04/2023      Moderado a Forte de S/SW                 Declínio   \n",
       "Tarde  19/04/2023              Moderado de S/SW                 Declínio   \n",
       "\n",
       "                         período        data      hora              início   \n",
       "Noite  18/04/2023          Noite  18/04/2023  18:00:00 2023-04-18 18:00:00  \\\n",
       "Madrugada  19/04/2023  Madrugada  19/04/2023  00:00:00 2023-04-19 00:00:00   \n",
       "Manhã  19/04/2023          Manhã  19/04/2023  06:00:00 2023-04-19 06:00:00   \n",
       "Tarde  19/04/2023          Tarde  19/04/2023  12:00:00 2023-04-19 12:00:00   \n",
       "\n",
       "                                      fim  \n",
       "Noite  18/04/2023     2023-04-19 00:00:00  \n",
       "Madrugada  19/04/2023 2023-04-19 06:00:00  \n",
       "Manhã  19/04/2023     2023-04-19 12:00:00  \n",
       "Tarde  19/04/2023     2023-04-19 18:00:00  "
      ]
     },
     "execution_count": 509,
     "metadata": {},
     "output_type": "execute_result"
    }
   ],
   "source": [
    "df = AlertaRio.next24hours(as_datetime=False); df"
   ]
  },
  {
   "cell_type": "markdown",
   "metadata": {},
   "source": [
    "---\n",
    "## Pause or resume jobs conditionally"
   ]
  },
  {
   "cell_type": "markdown",
   "metadata": {},
   "source": [
    "### Pause or resume jobs based on rain forecast for current period"
   ]
  },
  {
   "cell_type": "markdown",
   "metadata": {},
   "source": [
    "#### Basic example"
   ]
  },
  {
   "cell_type": "code",
   "execution_count": 511,
   "metadata": {},
   "outputs": [
    {
     "name": "stdout",
     "output_type": "stream",
     "text": [
      "Com chuva para esse período\n"
     ]
    }
   ],
   "source": [
    "if df.iloc[0]['precipitação'] == 'Sem chuva':\n",
    "    print('Sem chuva para esse período')\n",
    "else:\n",
    "    print('Com chuva para esse período')"
   ]
  },
  {
   "cell_type": "markdown",
   "metadata": {},
   "source": [
    "#### Pause/resume single job"
   ]
  },
  {
   "cell_type": "code",
   "execution_count": 513,
   "metadata": {},
   "outputs": [
    {
     "name": "stdout",
     "output_type": "stream",
     "text": [
      "\n",
      "* Com chuva para esse período (Noite · 18/04/2023)\n",
      "\n",
      "- Resumingo Job: record-rivers-manual\n"
     ]
    }
   ],
   "source": [
    "project = 'octacity'\n",
    "location = 'us-central1'\n",
    "job_name = 'record-rivers-manual'\n",
    "\n",
    "parent = f'projects/{project}/locations/{location}'\n",
    "job_path = f'{parent}/jobs'\n",
    "job_id = f'{job_path}/{job_name}'\n",
    "\n",
    "# Custom scheduler instance\n",
    "sa_json = '../../../../Apps/APIs/cams-rio/auth/octacity-iduff.json'\n",
    "\n",
    "alertario = AlertaRio(sa_json)\n",
    "\n",
    "# Rain forecast web scraping\n",
    "df = AlertaRio.next24hours()\n",
    "period = df.iloc[0]\n",
    "\n",
    "if not AlertaRio.rain_now():\n",
    "    print(f'\\n* Sem chuva para esse período ({period[\"período\"]} · {period[\"data\"]})')\n",
    "    print(f'\\n- Pausando Job: {job_name}')\n",
    "    res = alertario.sched.pause_job(job_id)\n",
    "else:\n",
    "    print(f'\\n* Com chuva para esse período ({period[\"período\"]} · {period[\"data\"]})')\n",
    "    print(f'\\n- Resumingo Job: {job_name}')\n",
    "    res = alertario.sched.resume_job(job_id)"
   ]
  },
  {
   "cell_type": "markdown",
   "metadata": {},
   "source": [
    "#### Pause/resume list of jobs"
   ]
  },
  {
   "cell_type": "code",
   "execution_count": 515,
   "metadata": {},
   "outputs": [
    {
     "name": "stdout",
     "output_type": "stream",
     "text": [
      "* ALERTA-RIO FORECAST JOB SWITCH · RESUMING JOBS: ['post-cameras-alertario', 'post-city', 'post-ipp-polygons-overview', 'post-polygons', 'post-polygons-alertario', 'post-polygons-ipp', 'post-polygons-overview', 'post-predict', 'record-comando', 'record-polygons', 'record-rivers-manual', 'record-waze']\n"
     ]
    },
    {
     "data": {
      "text/plain": [
       "'ALERTA-RIO JOB SWITCH SUCCESS'"
      ]
     },
     "execution_count": 515,
     "metadata": {},
     "output_type": "execute_result"
    }
   ],
   "source": [
    "# Parameter configuration\n",
    "\n",
    "project = 'octacity'\n",
    "location = 'us-central1'\n",
    "\n",
    "job_names = [\n",
    "    'post-cameras-alertario',\n",
    "    'post-city',\n",
    "    'post-ipp-polygons-overview',\n",
    "    'post-polygons',\n",
    "    'post-polygons-alertario',\n",
    "    'post-polygons-ipp',\n",
    "    'post-polygons-overview',\n",
    "    'post-predict',\n",
    "    'record-comando',\n",
    "    'record-polygons',\n",
    "    'record-rivers-manual',\n",
    "    'record-waze'\n",
    "]\n",
    "\n",
    "sa_json = '../../../../Apps/APIs/cams-rio/auth/octacity-iduff.json'\n",
    "alertario = AlertaRio(sa_json)\n",
    "\n",
    "# Weather prediction based job switching\n",
    "\n",
    "alertario.job_switch(job_names, project, location)"
   ]
  }
 ],
 "metadata": {
  "kernelspec": {
   "display_name": "Python 3",
   "language": "python",
   "name": "python3"
  },
  "language_info": {
   "codemirror_mode": {
    "name": "ipython",
    "version": 3
   },
   "file_extension": ".py",
   "mimetype": "text/x-python",
   "name": "python",
   "nbconvert_exporter": "python",
   "pygments_lexer": "ipython3",
   "version": "3.8.3"
  }
 },
 "nbformat": 4,
 "nbformat_minor": 4
}
