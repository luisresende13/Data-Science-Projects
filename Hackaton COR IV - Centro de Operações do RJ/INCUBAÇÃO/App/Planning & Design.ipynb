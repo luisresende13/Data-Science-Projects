{
 "cells": [
  {
   "cell_type": "markdown",
   "metadata": {},
   "source": [
    "# FLOOD MONITORING APPLICATION - PLANNING/DESIGN"
   ]
  },
  {
   "cell_type": "markdown",
   "metadata": {},
   "source": [
    "## 0. Layout\n",
    "\n",
    "1. Menu-topo"
   ]
  },
  {
   "cell_type": "markdown",
   "metadata": {},
   "source": [
    "#### Menu-topo\n",
    "\n",
    "1. Monitores\n",
    "2. Manual/instruções: Infos sobre mudanças de estágio, o que é monitorado, etc"
   ]
  },
  {
   "cell_type": "markdown",
   "metadata": {},
   "source": [
    "## 1. Tela Monitores"
   ]
  },
  {
   "cell_type": "markdown",
   "metadata": {},
   "source": [
    "#### Layout\n",
    "1. Menu-lateral\n",
    "1. Menu-topo-interno (em monitores)"
   ]
  },
  {
   "cell_type": "markdown",
   "metadata": {},
   "source": [
    "#### Menu-lateral\n",
    "\n",
    "1. Cidade - Obs: Juntar 1. e 2.\n",
    "1. Áreas críticas\n",
    "1. Alertas (mudança de status), (por regiao crítica! não critica? eventos isolados?)\n",
    "1. Eventos\n",
    "1. Área crítica (timeline: eventos)\n",
    "1. Alerta  - timeline alerta\n",
    "1. Evento? - (timeline - ações)"
   ]
  },
  {
   "cell_type": "markdown",
   "metadata": {},
   "source": [
    "#### Menu-topo-interno\n",
    "\n",
    "1. Agora\n",
    "1. Histórico"
   ]
  }
 ],
 "metadata": {
  "kernelspec": {
   "display_name": "Python 3",
   "language": "python",
   "name": "python3"
  },
  "language_info": {
   "codemirror_mode": {
    "name": "ipython",
    "version": 3
   },
   "file_extension": ".py",
   "mimetype": "text/x-python",
   "name": "python",
   "nbconvert_exporter": "python",
   "pygments_lexer": "ipython3",
   "version": "3.8.3"
  }
 },
 "nbformat": 4,
 "nbformat_minor": 4
}
