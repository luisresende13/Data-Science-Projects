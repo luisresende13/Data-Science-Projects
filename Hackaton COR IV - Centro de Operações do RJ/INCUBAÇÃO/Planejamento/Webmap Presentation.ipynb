{
 "cells": [
  {
   "cell_type": "code",
   "execution_count": null,
   "metadata": {},
   "outputs": [],
   "source": [
    "1. Por que esse mapa?\n",
    "\n",
    "1. Migração dos dados para o argis, para então desenvolver apps, mapas, análises e modelagem posteriores.\n",
    "1. Os Dados representam o backend da aplicação.\n",
    "1. Aplicação voltada "
   ]
  }
 ],
 "metadata": {
  "kernelspec": {
   "display_name": "Python 3",
   "language": "python",
   "name": "python3"
  },
  "language_info": {
   "codemirror_mode": {
    "name": "ipython",
    "version": 3
   },
   "file_extension": ".py",
   "mimetype": "text/x-python",
   "name": "python",
   "nbconvert_exporter": "python",
   "pygments_lexer": "ipython3",
   "version": "3.8.3"
  }
 },
 "nbformat": 4,
 "nbformat_minor": 4
}
