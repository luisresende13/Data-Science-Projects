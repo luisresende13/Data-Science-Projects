{
 "cells": [
  {
   "cell_type": "markdown",
   "metadata": {},
   "source": [
    "# CLEANING GEOJSON: CRITICAL FLOOD AREAS IN RIO DE JANEIRO - IPP (INSTITUTO PEREIRA PASSOS)"
   ]
  },
  {
   "cell_type": "code",
   "execution_count": 1,
   "metadata": {},
   "outputs": [
    {
     "name": "stdout",
     "output_type": "stream",
     "text": [
      "C:\\Users\\luisr\\Desktop\\Repositories\\Data Science Projects\\Hackaton COR IV - Centro de Operações do RJ\\INCUBAÇÃO\n"
     ]
    }
   ],
   "source": [
    "cd ../"
   ]
  },
  {
   "cell_type": "code",
   "execution_count": 3,
   "metadata": {},
   "outputs": [],
   "source": [
    "import json, requests, pandas as pd, numpy as np\n",
    "from Modulos.geojson_conversion import geojson_obj"
   ]
  },
  {
   "cell_type": "markdown",
   "metadata": {},
   "source": [
    "### Load ipp geojson"
   ]
  },
  {
   "cell_type": "code",
   "execution_count": 4,
   "metadata": {},
   "outputs": [
    {
     "name": "stdout",
     "output_type": "stream",
     "text": [
      "Features: 5397\n",
      "Keys: ['type', 'crs', 'features']\n",
      "Header: {'type': 'FeatureCollection', 'crs': {'type': 'name', 'properties': {'name': 'EPSG:4326'}}, 'features': []}\n"
     ]
    }
   ],
   "source": [
    "path_ipp = 'Dados/IPP/Áreas_críticas_de_alagamento.geojson'\n",
    "\n",
    "ipp = json.loads(open(path_ipp, 'rb').read())\n",
    "\n",
    "print('Features:', len(ipp['features']))\n",
    "print('Keys:', list(ipp.keys()))\n",
    "print('Header:', {**ipp, 'features': []})"
   ]
  },
  {
   "cell_type": "markdown",
   "metadata": {},
   "source": [
    "## Data cleaning"
   ]
  },
  {
   "cell_type": "markdown",
   "metadata": {},
   "source": [
    "#### Drop crs notation"
   ]
  },
  {
   "cell_type": "code",
   "execution_count": 5,
   "metadata": {},
   "outputs": [],
   "source": [
    "del ipp['crs']"
   ]
  },
  {
   "cell_type": "markdown",
   "metadata": {},
   "source": [
    "#### Convert to dataframe"
   ]
  },
  {
   "cell_type": "code",
   "execution_count": 6,
   "metadata": {},
   "outputs": [
    {
     "data": {
      "text/html": [
       "<div>\n",
       "<style scoped>\n",
       "    .dataframe tbody tr th:only-of-type {\n",
       "        vertical-align: middle;\n",
       "    }\n",
       "\n",
       "    .dataframe tbody tr th {\n",
       "        vertical-align: top;\n",
       "    }\n",
       "\n",
       "    .dataframe thead th {\n",
       "        text-align: right;\n",
       "    }\n",
       "</style>\n",
       "<table border=\"1\" class=\"dataframe\">\n",
       "  <thead>\n",
       "    <tr style=\"text-align: right;\">\n",
       "      <th></th>\n",
       "      <th>oid</th>\n",
       "      <th>name</th>\n",
       "      <th>popupinfo</th>\n",
       "      <th>objectid</th>\n",
       "      <th>folderpath</th>\n",
       "      <th>db_hrnsh.hsu_zf8og.áreas_críticas_de_alagamento_pds_rio_aguas_nov19_s.entity</th>\n",
       "      <th>layer</th>\n",
       "      <th>color</th>\n",
       "      <th>linetype</th>\n",
       "      <th>elevation</th>\n",
       "      <th>...</th>\n",
       "      <th>id_unico</th>\n",
       "      <th>pop</th>\n",
       "      <th>dom_ocu</th>\n",
       "      <th>peso_cetrio</th>\n",
       "      <th>peso_pdmap</th>\n",
       "      <th>peso_pds</th>\n",
       "      <th>peso_comando</th>\n",
       "      <th>soma_peso</th>\n",
       "      <th>target_fid</th>\n",
       "      <th>metadata</th>\n",
       "    </tr>\n",
       "  </thead>\n",
       "  <tbody>\n",
       "    <tr>\n",
       "      <th>0</th>\n",
       "      <td>1.0</td>\n",
       "      <td>15</td>\n",
       "      <td>Rua Barão de Tefé (Saúde - S. Centro) - Rua Vi...</td>\n",
       "      <td>NaN</td>\n",
       "      <td>NaN</td>\n",
       "      <td>NaN</td>\n",
       "      <td>NaN</td>\n",
       "      <td>NaN</td>\n",
       "      <td>NaN</td>\n",
       "      <td>NaN</td>\n",
       "      <td>...</td>\n",
       "      <td>NaN</td>\n",
       "      <td>NaN</td>\n",
       "      <td>NaN</td>\n",
       "      <td>NaN</td>\n",
       "      <td>NaN</td>\n",
       "      <td>NaN</td>\n",
       "      <td>NaN</td>\n",
       "      <td>NaN</td>\n",
       "      <td>NaN</td>\n",
       "      <td>{'type': 'Feature', 'id': 1, 'geometry': {'typ...</td>\n",
       "    </tr>\n",
       "    <tr>\n",
       "      <th>1</th>\n",
       "      <td>2.0</td>\n",
       "      <td>173</td>\n",
       "      <td>Av. Abelardo Bueno - PL (Parque Olímpico - S. ...</td>\n",
       "      <td>NaN</td>\n",
       "      <td>NaN</td>\n",
       "      <td>NaN</td>\n",
       "      <td>NaN</td>\n",
       "      <td>NaN</td>\n",
       "      <td>NaN</td>\n",
       "      <td>NaN</td>\n",
       "      <td>...</td>\n",
       "      <td>NaN</td>\n",
       "      <td>NaN</td>\n",
       "      <td>NaN</td>\n",
       "      <td>NaN</td>\n",
       "      <td>NaN</td>\n",
       "      <td>NaN</td>\n",
       "      <td>NaN</td>\n",
       "      <td>NaN</td>\n",
       "      <td>NaN</td>\n",
       "      <td>{'type': 'Feature', 'id': 2, 'geometry': {'typ...</td>\n",
       "    </tr>\n",
       "    <tr>\n",
       "      <th>2</th>\n",
       "      <td>3.0</td>\n",
       "      <td>177</td>\n",
       "      <td>Av. Abelardo Bueno - PL (Parque Olímpico - S. ...</td>\n",
       "      <td>NaN</td>\n",
       "      <td>NaN</td>\n",
       "      <td>NaN</td>\n",
       "      <td>NaN</td>\n",
       "      <td>NaN</td>\n",
       "      <td>NaN</td>\n",
       "      <td>NaN</td>\n",
       "      <td>...</td>\n",
       "      <td>NaN</td>\n",
       "      <td>NaN</td>\n",
       "      <td>NaN</td>\n",
       "      <td>NaN</td>\n",
       "      <td>NaN</td>\n",
       "      <td>NaN</td>\n",
       "      <td>NaN</td>\n",
       "      <td>NaN</td>\n",
       "      <td>NaN</td>\n",
       "      <td>{'type': 'Feature', 'id': 3, 'geometry': {'typ...</td>\n",
       "    </tr>\n",
       "    <tr>\n",
       "      <th>3</th>\n",
       "      <td>4.0</td>\n",
       "      <td>219</td>\n",
       "      <td>Estr. do Catonho (Taquara - S. Sulacap) - Estr...</td>\n",
       "      <td>NaN</td>\n",
       "      <td>NaN</td>\n",
       "      <td>NaN</td>\n",
       "      <td>NaN</td>\n",
       "      <td>NaN</td>\n",
       "      <td>NaN</td>\n",
       "      <td>NaN</td>\n",
       "      <td>...</td>\n",
       "      <td>NaN</td>\n",
       "      <td>NaN</td>\n",
       "      <td>NaN</td>\n",
       "      <td>NaN</td>\n",
       "      <td>NaN</td>\n",
       "      <td>NaN</td>\n",
       "      <td>NaN</td>\n",
       "      <td>NaN</td>\n",
       "      <td>NaN</td>\n",
       "      <td>{'type': 'Feature', 'id': 4, 'geometry': {'typ...</td>\n",
       "    </tr>\n",
       "    <tr>\n",
       "      <th>4</th>\n",
       "      <td>5.0</td>\n",
       "      <td>231</td>\n",
       "      <td>Estr. dos Bandeirantes (Merck - S. Recreio) - ...</td>\n",
       "      <td>NaN</td>\n",
       "      <td>NaN</td>\n",
       "      <td>NaN</td>\n",
       "      <td>NaN</td>\n",
       "      <td>NaN</td>\n",
       "      <td>NaN</td>\n",
       "      <td>NaN</td>\n",
       "      <td>...</td>\n",
       "      <td>NaN</td>\n",
       "      <td>NaN</td>\n",
       "      <td>NaN</td>\n",
       "      <td>NaN</td>\n",
       "      <td>NaN</td>\n",
       "      <td>NaN</td>\n",
       "      <td>NaN</td>\n",
       "      <td>NaN</td>\n",
       "      <td>NaN</td>\n",
       "      <td>{'type': 'Feature', 'id': 5, 'geometry': {'typ...</td>\n",
       "    </tr>\n",
       "  </tbody>\n",
       "</table>\n",
       "<p>5 rows × 22 columns</p>\n",
       "</div>"
      ],
      "text/plain": [
       "   oid name                                          popupinfo  objectid  \\\n",
       "0  1.0   15  Rua Barão de Tefé (Saúde - S. Centro) - Rua Vi...       NaN   \n",
       "1  2.0  173  Av. Abelardo Bueno - PL (Parque Olímpico - S. ...       NaN   \n",
       "2  3.0  177  Av. Abelardo Bueno - PL (Parque Olímpico - S. ...       NaN   \n",
       "3  4.0  219  Estr. do Catonho (Taquara - S. Sulacap) - Estr...       NaN   \n",
       "4  5.0  231  Estr. dos Bandeirantes (Merck - S. Recreio) - ...       NaN   \n",
       "\n",
       "  folderpath  \\\n",
       "0        NaN   \n",
       "1        NaN   \n",
       "2        NaN   \n",
       "3        NaN   \n",
       "4        NaN   \n",
       "\n",
       "  db_hrnsh.hsu_zf8og.áreas_críticas_de_alagamento_pds_rio_aguas_nov19_s.entity  \\\n",
       "0                                                NaN                             \n",
       "1                                                NaN                             \n",
       "2                                                NaN                             \n",
       "3                                                NaN                             \n",
       "4                                                NaN                             \n",
       "\n",
       "  layer  color linetype  elevation  ...  id_unico pop dom_ocu  peso_cetrio  \\\n",
       "0   NaN    NaN      NaN        NaN  ...       NaN NaN     NaN          NaN   \n",
       "1   NaN    NaN      NaN        NaN  ...       NaN NaN     NaN          NaN   \n",
       "2   NaN    NaN      NaN        NaN  ...       NaN NaN     NaN          NaN   \n",
       "3   NaN    NaN      NaN        NaN  ...       NaN NaN     NaN          NaN   \n",
       "4   NaN    NaN      NaN        NaN  ...       NaN NaN     NaN          NaN   \n",
       "\n",
       "   peso_pdmap  peso_pds  peso_comando  soma_peso  target_fid  \\\n",
       "0         NaN       NaN           NaN        NaN         NaN   \n",
       "1         NaN       NaN           NaN        NaN         NaN   \n",
       "2         NaN       NaN           NaN        NaN         NaN   \n",
       "3         NaN       NaN           NaN        NaN         NaN   \n",
       "4         NaN       NaN           NaN        NaN         NaN   \n",
       "\n",
       "                                            metadata  \n",
       "0  {'type': 'Feature', 'id': 1, 'geometry': {'typ...  \n",
       "1  {'type': 'Feature', 'id': 2, 'geometry': {'typ...  \n",
       "2  {'type': 'Feature', 'id': 3, 'geometry': {'typ...  \n",
       "3  {'type': 'Feature', 'id': 4, 'geometry': {'typ...  \n",
       "4  {'type': 'Feature', 'id': 5, 'geometry': {'typ...  \n",
       "\n",
       "[5 rows x 22 columns]"
      ]
     },
     "execution_count": 6,
     "metadata": {},
     "output_type": "execute_result"
    }
   ],
   "source": [
    "metadata = {**ipp, 'features': []}\n",
    "\n",
    "def geojson_to_df(geojson):\n",
    "    feature_metadata = pd.DataFrame(list(map(lambda feat: {'metadata': {key: feat[key] for key in feat.keys() if key != 'properties'}}, geojson['features'])))\n",
    "    df = pd.DataFrame(list(map(lambda feat: feat['properties'], geojson['features'])))\n",
    "    return df.join(feature_metadata)\n",
    "\n",
    "ipp_df = geojson_to_df(ipp)\n",
    "ipp_df.head()"
   ]
  },
  {
   "cell_type": "markdown",
   "metadata": {},
   "source": [
    "#### Columns"
   ]
  },
  {
   "cell_type": "code",
   "execution_count": 7,
   "metadata": {},
   "outputs": [
    {
     "data": {
      "text/plain": [
       "Index(['oid', 'name', 'popupinfo', 'objectid', 'folderpath',\n",
       "       'db_hrnsh.hsu_zf8og.áreas_críticas_de_alagamento_pds_rio_aguas_nov19_s.entity',\n",
       "       'layer', 'color', 'linetype', 'elevation', 'linewt', 'refname',\n",
       "       'id_unico', 'pop', 'dom_ocu', 'peso_cetrio', 'peso_pdmap', 'peso_pds',\n",
       "       'peso_comando', 'soma_peso', 'target_fid', 'metadata'],\n",
       "      dtype='object')"
      ]
     },
     "execution_count": 7,
     "metadata": {},
     "output_type": "execute_result"
    }
   ],
   "source": [
    "ipp_df.columns"
   ]
  },
  {
   "cell_type": "markdown",
   "metadata": {},
   "source": [
    "#### Drop features with empty coordinates"
   ]
  },
  {
   "cell_type": "code",
   "execution_count": 8,
   "metadata": {},
   "outputs": [
    {
     "name": "stdout",
     "output_type": "stream",
     "text": [
      "Features: 5137\n"
     ]
    }
   ],
   "source": [
    "not_point = lambda feat: feat['type'] != 'Point'\n",
    "not_empty = lambda feat: len(feat['geometry']['coordinates']) != 0\n",
    "\n",
    "ipp_df = ipp_df[ipp_df['metadata'].apply(not_point) & ipp_df['metadata'].apply(not_empty)]\n",
    "\n",
    "print('Features:', len(ipp_df))"
   ]
  },
  {
   "cell_type": "markdown",
   "metadata": {},
   "source": [
    "#### Get features by geometry type"
   ]
  },
  {
   "cell_type": "code",
   "execution_count": 9,
   "metadata": {},
   "outputs": [
    {
     "data": {
      "text/plain": [
       "LineString      1246\n",
       "MultiPolygon      14\n",
       "Point           1301\n",
       "Polygon         2576\n",
       "Name: geometry type count, dtype: int64"
      ]
     },
     "metadata": {},
     "output_type": "display_data"
    }
   ],
   "source": [
    "geometries = np.unique(list(map(lambda feat: feat['geometry']['type'], ipp['features'])))\n",
    "\n",
    "dfs = {geometry: ipp_df[ipp_df['metadata'].apply(lambda data: data['geometry']['type'] == geometry)] for geometry in geometries}\n",
    "\n",
    "display(pd.Series({key: len(df) for key, df in dfs.items()}, name='geometry type count'))"
   ]
  },
  {
   "cell_type": "markdown",
   "metadata": {},
   "source": [
    "#### Columns by geometry type"
   ]
  },
  {
   "cell_type": "code",
   "execution_count": 10,
   "metadata": {},
   "outputs": [
    {
     "name": "stdout",
     "output_type": "stream",
     "text": [
      "Empty columns: {'LineString': 21, 'MultiPolygon': 18, 'Point': 19, 'Polygon': 20}\n",
      "\n",
      "Columns left:\n",
      "\n"
     ]
    },
    {
     "data": {
      "text/plain": [
       "{'LineString': ['oid',\n",
       "  'name',\n",
       "  'popupinfo',\n",
       "  'objectid',\n",
       "  'db_hrnsh.hsu_zf8og.áreas_críticas_de_alagamento_pds_rio_aguas_nov19_s.entity',\n",
       "  'layer',\n",
       "  'color',\n",
       "  'linetype',\n",
       "  'elevation',\n",
       "  'linewt',\n",
       "  'refname',\n",
       "  'metadata'],\n",
       " 'MultiPolygon': ['name', 'objectid', 'folderpath', 'metadata'],\n",
       " 'Point': ['oid', 'name', 'popupinfo', 'metadata'],\n",
       " 'Polygon': ['name',\n",
       "  'objectid',\n",
       "  'folderpath',\n",
       "  'id_unico',\n",
       "  'pop',\n",
       "  'dom_ocu',\n",
       "  'peso_cetrio',\n",
       "  'peso_pdmap',\n",
       "  'peso_pds',\n",
       "  'peso_comando',\n",
       "  'soma_peso',\n",
       "  'target_fid',\n",
       "  'metadata']}"
      ]
     },
     "metadata": {},
     "output_type": "display_data"
    }
   ],
   "source": [
    "print('Empty columns:', {key: (df.isna().sum() != 0).sum() for key, df in dfs.items()}); print()\n",
    "print('Columns left:\\n')\n",
    "display({key: list(df.dropna(how='all', axis=1).columns) for key, df in dfs.items()})"
   ]
  },
  {
   "cell_type": "markdown",
   "metadata": {},
   "source": [
    "#### Break LineString dataframe into the two original collections"
   ]
  },
  {
   "cell_type": "code",
   "execution_count": 11,
   "metadata": {},
   "outputs": [
    {
     "name": "stdout",
     "output_type": "stream",
     "text": [
      "oid field empty: 153\n",
      "objectid field not empty: 153\n"
     ]
    }
   ],
   "source": [
    "lines = dfs['LineString']\n",
    "\n",
    "print('oid field empty:', lines['oid'].isna().sum())\n",
    "print('objectid field not empty:', lines['objectid'].notna().sum())\n",
    "\n",
    "dfs['drenagem_LineString'] = lines[lines['objectid'].notna()]\n",
    "dfs['trechos_cetrio_LineString'] = lines[lines['oid'].notna()]\n",
    "\n",
    "del dfs['LineString']"
   ]
  },
  {
   "cell_type": "markdown",
   "metadata": {},
   "source": [
    "#### New collections' columns"
   ]
  },
  {
   "cell_type": "code",
   "execution_count": 12,
   "metadata": {},
   "outputs": [
    {
     "name": "stdout",
     "output_type": "stream",
     "text": [
      "Empty columns: {'drenagem_LineString': 13, 'trechos_cetrio_LineString': 18}\n",
      "\n",
      "Columns left:\n",
      "\n"
     ]
    },
    {
     "data": {
      "text/plain": [
       "{'drenagem_LineString': ['objectid',\n",
       "  'db_hrnsh.hsu_zf8og.áreas_críticas_de_alagamento_pds_rio_aguas_nov19_s.entity',\n",
       "  'layer',\n",
       "  'color',\n",
       "  'linetype',\n",
       "  'elevation',\n",
       "  'linewt',\n",
       "  'refname',\n",
       "  'metadata'],\n",
       " 'trechos_cetrio_LineString': ['oid', 'name', 'popupinfo', 'metadata']}"
      ]
     },
     "metadata": {},
     "output_type": "display_data"
    }
   ],
   "source": [
    "new_coll = ['drenagem_LineString', 'trechos_cetrio_LineString']\n",
    "\n",
    "print('Empty columns:', {key: (dfs[key].isna().sum() != 0).sum() for key in new_coll}); print()\n",
    "print('Columns left:\\n')\n",
    "display({key: list(dfs[key].dropna(how='all', axis=1).columns) for key in new_coll})"
   ]
  },
  {
   "cell_type": "markdown",
   "metadata": {},
   "source": [
    "### Convert back to geojson"
   ]
  },
  {
   "cell_type": "code",
   "execution_count": 13,
   "metadata": {},
   "outputs": [],
   "source": [
    "def df_to_geojson(df, metadata='metadata'):   \n",
    "    features = []\n",
    "    for idx, row in df.iterrows():\n",
    "        features.append({**row[metadata], 'properties': row.drop(metadata).dropna().to_dict()})\n",
    "    return geojson_obj(features)\n",
    "\n",
    "ipp_geojson = df_to_geojson(ipp_df, metadata='metadata')\n",
    "geometries = {key: df_to_geojson(df) for key, df in dfs.items()} # drops empty property fields"
   ]
  },
  {
   "cell_type": "markdown",
   "metadata": {},
   "source": [
    "## Save clean data"
   ]
  },
  {
   "cell_type": "code",
   "execution_count": 14,
   "metadata": {},
   "outputs": [],
   "source": [
    "ipp_json = json.dumps(ipp_geojson)\n",
    "\n",
    "path_ipp = 'Dados/IPP/areas_alagamento.geojson'    \n",
    "with open(path_ipp, 'w') as file:\n",
    "    file.write(ipp_json)"
   ]
  },
  {
   "cell_type": "markdown",
   "metadata": {},
   "source": [
    "## Save by geometry type"
   ]
  },
  {
   "cell_type": "code",
   "execution_count": 15,
   "metadata": {},
   "outputs": [],
   "source": [
    "path_ipp = 'Dados/IPP/Geometrias/areas_alagamento.geojson'    \n",
    "\n",
    "for key, geojson in geometries.items():\n",
    "    file_path, ext = path_ipp.split('.')\n",
    "    path = file_path + '_' + key + '.' + ext\n",
    "    with open(path, 'w') as file:\n",
    "        file.write(json.dumps(geojson))"
   ]
  },
  {
   "cell_type": "markdown",
   "metadata": {},
   "source": [
    "## Data exploration"
   ]
  },
  {
   "cell_type": "markdown",
   "metadata": {},
   "source": [
    "#### Point categories"
   ]
  },
  {
   "cell_type": "code",
   "execution_count": 251,
   "metadata": {},
   "outputs": [
    {
     "data": {
      "text/plain": [
       "Bolsão d'água em via       1251\n",
       "Alagamento                   34\n",
       "Alagamentos e enchentes      16\n",
       "Name: name, dtype: int64"
      ]
     },
     "execution_count": 251,
     "metadata": {},
     "output_type": "execute_result"
    }
   ],
   "source": [
    "dfs['Point']['name'].value_counts()"
   ]
  },
  {
   "cell_type": "markdown",
   "metadata": {},
   "source": [
    "#### Feature size"
   ]
  },
  {
   "cell_type": "code",
   "execution_count": 247,
   "metadata": {},
   "outputs": [
    {
     "data": {
      "text/html": [
       "<div>\n",
       "<style scoped>\n",
       "    .dataframe tbody tr th:only-of-type {\n",
       "        vertical-align: middle;\n",
       "    }\n",
       "\n",
       "    .dataframe tbody tr th {\n",
       "        vertical-align: top;\n",
       "    }\n",
       "\n",
       "    .dataframe thead th {\n",
       "        text-align: right;\n",
       "    }\n",
       "</style>\n",
       "<table border=\"1\" class=\"dataframe\">\n",
       "  <thead>\n",
       "    <tr style=\"text-align: right;\">\n",
       "      <th></th>\n",
       "      <th>0</th>\n",
       "      <th>1</th>\n",
       "      <th>2</th>\n",
       "      <th>34</th>\n",
       "      <th>38</th>\n",
       "      <th>45</th>\n",
       "      <th>51</th>\n",
       "      <th>52</th>\n",
       "      <th>53</th>\n",
       "      <th>54</th>\n",
       "      <th>...</th>\n",
       "      <th>501</th>\n",
       "      <th>511</th>\n",
       "      <th>520</th>\n",
       "      <th>527</th>\n",
       "      <th>555</th>\n",
       "      <th>590</th>\n",
       "      <th>603</th>\n",
       "      <th>672</th>\n",
       "      <th>706</th>\n",
       "      <th>718</th>\n",
       "    </tr>\n",
       "  </thead>\n",
       "  <tbody>\n",
       "    <tr>\n",
       "      <th>size_count</th>\n",
       "      <td>260</td>\n",
       "      <td>2576</td>\n",
       "      <td>1315</td>\n",
       "      <td>1</td>\n",
       "      <td>1</td>\n",
       "      <td>1</td>\n",
       "      <td>1</td>\n",
       "      <td>2</td>\n",
       "      <td>2</td>\n",
       "      <td>1</td>\n",
       "      <td>...</td>\n",
       "      <td>1</td>\n",
       "      <td>1</td>\n",
       "      <td>1</td>\n",
       "      <td>1</td>\n",
       "      <td>1</td>\n",
       "      <td>1</td>\n",
       "      <td>1</td>\n",
       "      <td>1</td>\n",
       "      <td>1</td>\n",
       "      <td>1</td>\n",
       "    </tr>\n",
       "  </tbody>\n",
       "</table>\n",
       "<p>1 rows × 337 columns</p>\n",
       "</div>"
      ],
      "text/plain": [
       "            0     1     2    34   38   45   51   52   53   54   ...  501  511  \\\n",
       "size_count  260  2576  1315    1    1    1    1    2    2    1  ...    1    1   \n",
       "\n",
       "            520  527  555  590  603  672  706  718  \n",
       "size_count    1    1    1    1    1    1    1    1  \n",
       "\n",
       "[1 rows x 337 columns]"
      ]
     },
     "metadata": {},
     "output_type": "display_data"
    },
    {
     "data": {
      "text/html": [
       "<div>\n",
       "<style scoped>\n",
       "    .dataframe tbody tr th:only-of-type {\n",
       "        vertical-align: middle;\n",
       "    }\n",
       "\n",
       "    .dataframe tbody tr th {\n",
       "        vertical-align: top;\n",
       "    }\n",
       "\n",
       "    .dataframe thead tr th {\n",
       "        text-align: left;\n",
       "    }\n",
       "</style>\n",
       "<table border=\"1\" class=\"dataframe\">\n",
       "  <thead>\n",
       "    <tr>\n",
       "      <th>type</th>\n",
       "      <th colspan=\"17\" halign=\"left\">LineString</th>\n",
       "      <th>MultiPolygon</th>\n",
       "      <th colspan=\"2\" halign=\"left\">Point</th>\n",
       "      <th>Polygon</th>\n",
       "    </tr>\n",
       "    <tr>\n",
       "      <th>size</th>\n",
       "      <th>34</th>\n",
       "      <th>38</th>\n",
       "      <th>45</th>\n",
       "      <th>51</th>\n",
       "      <th>52</th>\n",
       "      <th>53</th>\n",
       "      <th>54</th>\n",
       "      <th>55</th>\n",
       "      <th>56</th>\n",
       "      <th>57</th>\n",
       "      <th>...</th>\n",
       "      <th>555</th>\n",
       "      <th>590</th>\n",
       "      <th>603</th>\n",
       "      <th>672</th>\n",
       "      <th>706</th>\n",
       "      <th>718</th>\n",
       "      <th>2</th>\n",
       "      <th>0</th>\n",
       "      <th>2</th>\n",
       "      <th>1</th>\n",
       "    </tr>\n",
       "  </thead>\n",
       "  <tbody>\n",
       "    <tr>\n",
       "      <th>count</th>\n",
       "      <td>1</td>\n",
       "      <td>1</td>\n",
       "      <td>1</td>\n",
       "      <td>1</td>\n",
       "      <td>2</td>\n",
       "      <td>2</td>\n",
       "      <td>1</td>\n",
       "      <td>4</td>\n",
       "      <td>2</td>\n",
       "      <td>2</td>\n",
       "      <td>...</td>\n",
       "      <td>1</td>\n",
       "      <td>1</td>\n",
       "      <td>1</td>\n",
       "      <td>1</td>\n",
       "      <td>1</td>\n",
       "      <td>1</td>\n",
       "      <td>14</td>\n",
       "      <td>260</td>\n",
       "      <td>1301</td>\n",
       "      <td>2576</td>\n",
       "    </tr>\n",
       "  </tbody>\n",
       "</table>\n",
       "<p>1 rows × 338 columns</p>\n",
       "</div>"
      ],
      "text/plain": [
       "type  LineString                                      ...                      \\\n",
       "size         34  38  45  51  52  53  54  55  56  57   ... 555 590 603 672 706   \n",
       "count          1   1   1   1   2   2   1   4   2   2  ...   1   1   1   1   1   \n",
       "\n",
       "type      MultiPolygon Point       Polygon  \n",
       "size  718          2     0     2       1    \n",
       "count   1           14   260  1301    2576  \n",
       "\n",
       "[1 rows x 338 columns]"
      ]
     },
     "metadata": {},
     "output_type": "display_data"
    },
    {
     "data": {
      "text/html": [
       "<div>\n",
       "<style scoped>\n",
       "    .dataframe tbody tr th:only-of-type {\n",
       "        vertical-align: middle;\n",
       "    }\n",
       "\n",
       "    .dataframe tbody tr th {\n",
       "        vertical-align: top;\n",
       "    }\n",
       "\n",
       "    .dataframe thead tr th {\n",
       "        text-align: left;\n",
       "    }\n",
       "</style>\n",
       "<table border=\"1\" class=\"dataframe\">\n",
       "  <thead>\n",
       "    <tr>\n",
       "      <th>type</th>\n",
       "      <th colspan=\"21\" halign=\"left\">Polygon</th>\n",
       "    </tr>\n",
       "    <tr>\n",
       "      <th>poly_size</th>\n",
       "      <th>4.0</th>\n",
       "      <th>5.0</th>\n",
       "      <th>6.0</th>\n",
       "      <th>7.0</th>\n",
       "      <th>8.0</th>\n",
       "      <th>9.0</th>\n",
       "      <th>10.0</th>\n",
       "      <th>11.0</th>\n",
       "      <th>12.0</th>\n",
       "      <th>13.0</th>\n",
       "      <th>...</th>\n",
       "      <th>118.0</th>\n",
       "      <th>121.0</th>\n",
       "      <th>128.0</th>\n",
       "      <th>131.0</th>\n",
       "      <th>140.0</th>\n",
       "      <th>172.0</th>\n",
       "      <th>173.0</th>\n",
       "      <th>180.0</th>\n",
       "      <th>496.0</th>\n",
       "      <th>2996.0</th>\n",
       "    </tr>\n",
       "  </thead>\n",
       "  <tbody>\n",
       "    <tr>\n",
       "      <th>count</th>\n",
       "      <td>4</td>\n",
       "      <td>2174</td>\n",
       "      <td>21</td>\n",
       "      <td>14</td>\n",
       "      <td>18</td>\n",
       "      <td>15</td>\n",
       "      <td>27</td>\n",
       "      <td>21</td>\n",
       "      <td>11</td>\n",
       "      <td>13</td>\n",
       "      <td>...</td>\n",
       "      <td>1</td>\n",
       "      <td>1</td>\n",
       "      <td>1</td>\n",
       "      <td>1</td>\n",
       "      <td>1</td>\n",
       "      <td>4</td>\n",
       "      <td>4</td>\n",
       "      <td>1</td>\n",
       "      <td>1</td>\n",
       "      <td>1</td>\n",
       "    </tr>\n",
       "  </tbody>\n",
       "</table>\n",
       "<p>1 rows × 76 columns</p>\n",
       "</div>"
      ],
      "text/plain": [
       "type      Polygon                                                          \\\n",
       "poly_size  4.0    5.0    6.0    7.0    8.0    9.0    10.0   11.0   12.0     \n",
       "count           4   2174     21     14     18     15     27     21     11   \n",
       "\n",
       "type              ...                                                          \\\n",
       "poly_size 13.0    ... 118.0  121.0  128.0  131.0  140.0  172.0  173.0  180.0    \n",
       "count         13  ...      1      1      1      1      1      4      4      1   \n",
       "\n",
       "type                     \n",
       "poly_size 496.0  2996.0  \n",
       "count          1      1  \n",
       "\n",
       "[1 rows x 76 columns]"
      ]
     },
     "metadata": {},
     "output_type": "display_data"
    }
   ],
   "source": [
    "feat_size = pd.DataFrame(list(map(lambda feat: {'type': feat['geometry']['type'], 'size': len(feat['geometry']['coordinates']), 'poly_size': len(feat['geometry']['coordinates'][0]) if feat['geometry']['type'] == 'Polygon' else np.nan}, ipp['features'])))\n",
    "\n",
    "display(feat_size['size'].value_counts().sort_index().to_frame('size_count').T)\n",
    "display(feat_size.groupby('type')['size'].value_counts().sort_index().to_frame('count').T)\n",
    "display(feat_size.groupby('type')['poly_size'].value_counts().sort_index().to_frame('count').T)"
   ]
  }
 ],
 "metadata": {
  "kernelspec": {
   "display_name": "Python 3",
   "language": "python",
   "name": "python3"
  },
  "language_info": {
   "codemirror_mode": {
    "name": "ipython",
    "version": 3
   },
   "file_extension": ".py",
   "mimetype": "text/x-python",
   "name": "python",
   "nbconvert_exporter": "python",
   "pygments_lexer": "ipython3",
   "version": "3.8.3"
  }
 },
 "nbformat": 4,
 "nbformat_minor": 4
}
