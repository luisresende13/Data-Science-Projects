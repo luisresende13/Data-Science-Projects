{
 "cells": [
  {
   "cell_type": "markdown",
   "metadata": {},
   "source": [
    "# Script para escrever no texto"
   ]
  },
  {
   "cell_type": "code",
   "execution_count": 6,
   "metadata": {},
   "outputs": [],
   "source": [
    "import cv2\n",
    "import matplotlib.pyplot as plt\n",
    "import time\n",
    "%matplotlib inline"
   ]
  },
  {
   "cell_type": "code",
   "execution_count": 29,
   "metadata": {},
   "outputs": [],
   "source": [
    "def add_text_to_video(data, time):\n",
    "\n",
    "    #importando os videos\n",
    "    cap = cv2.VideoCapture('CODE313 2023-02-07 20_08_37.mp4')\n",
    "    # FRAMES PER SECOND FOR VIDEO\n",
    "    fps = 3\n",
    "\n",
    "    if not cap.isOpened(): \n",
    "        print(\"Error opening the video file. Please double check your file path for typos. Or move the movie file to the same location as this script/notebook\")\n",
    "\n",
    "\n",
    "    # While the video is opened\n",
    "    while cap.isOpened():\n",
    "\n",
    "        #definindo o texto da img\n",
    "        texto = 'OCTA' + date + time\n",
    "\n",
    "        # Read the video file.\n",
    "        ret, frame = cap.read()\n",
    "\n",
    "        # If we got frames, show them.\n",
    "        if ret == True:\n",
    "\n",
    "            #add Text to videp\n",
    "            font = cv2.FONT_HERSHEY_SIMPLEX\n",
    "            cv2.putText(frame, text=texto, org=(550, 27), fontFace=font, fontScale=0.67, color=(245, 245, 245), thickness=2, lineType=cv2.LINE_AA)\n",
    "\n",
    "            # Display the frame at same frame rate of recording\n",
    "            # Watch lecture video for full explanation\n",
    "            time.sleep(1/fps)\n",
    "            cv2.imshow('frame', frame)\n",
    "\n",
    "            # Press q to quit\n",
    "            if cv2.waitKey(25) & 0xFF == ord('q'):\n",
    "                break\n",
    "\n",
    "        # Or automatically break this whole loop if the video is over.\n",
    "        else:\n",
    "            break\n",
    "\n",
    "    cap.release()\n",
    "    # Closes all the frames\n",
    "    cv2.destroyAllWindows()"
   ]
  }
 ],
 "metadata": {
  "kernelspec": {
   "display_name": "Python 3",
   "language": "python",
   "name": "python3"
  },
  "language_info": {
   "codemirror_mode": {
    "name": "ipython",
    "version": 3
   },
   "file_extension": ".py",
   "mimetype": "text/x-python",
   "name": "python",
   "nbconvert_exporter": "python",
   "pygments_lexer": "ipython3",
   "version": "3.8.3"
  }
 },
 "nbformat": 4,
 "nbformat_minor": 4
}
