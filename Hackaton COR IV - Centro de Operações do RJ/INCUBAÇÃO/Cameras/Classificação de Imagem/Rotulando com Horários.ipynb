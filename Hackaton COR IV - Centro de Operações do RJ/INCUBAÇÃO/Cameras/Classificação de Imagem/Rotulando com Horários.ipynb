{
 "cells": [
  {
   "cell_type": "markdown",
   "metadata": {},
   "source": [
    "# Time stamp based video labeling from single camera"
   ]
  },
  {
   "cell_type": "code",
   "execution_count": 1,
   "metadata": {},
   "outputs": [
    {
     "name": "stdout",
     "output_type": "stream",
     "text": [
      "C:\\Users\\luisr\\Desktop\\Repositories\\Data Science Projects\\Hackaton COR IV - Centro de Operações do RJ\\INCUBAÇÃO\\Cameras\n"
     ]
    }
   ],
   "source": [
    "cd ../"
   ]
  },
  {
   "cell_type": "markdown",
   "metadata": {},
   "source": [
    "### Code reference"
   ]
  },
  {
   "cell_type": "markdown",
   "metadata": {},
   "source": [
    "#### Code preference: '1649','1648', # ignore '3261','1392'\n",
    "\n",
    "#### Good visibility: 1646, 1475"
   ]
  },
  {
   "cell_type": "markdown",
   "metadata": {},
   "source": [
    "### Function to label dataset of videos or images based on labels' timestamps"
   ]
  },
  {
   "cell_type": "code",
   "execution_count": 48,
   "metadata": {},
   "outputs": [],
   "source": [
    "import numpy as np, pandas as pd\n",
    "\n",
    "def label_videos(videos, dt_col, label_params, partially_labeled_videos_path=None):\n",
    "\n",
    "    # create video dataset copy for labeling\n",
    "\n",
    "    videos_copy = videos.copy()\n",
    "\n",
    "    for params in label_params:\n",
    "\n",
    "        # define parameters\n",
    "\n",
    "        label_series = params['label_series']\n",
    "        query = params['query'] if 'query' in params else {}\n",
    "\n",
    "        # take video dataset\n",
    "\n",
    "        df = videos.copy()\n",
    "\n",
    "        # format labels' timestamps\n",
    "\n",
    "        label_series = pd.Series(label_series)\n",
    "        label_series.index = pd.to_datetime(label_series.index)\n",
    "        label_series.sort_index(inplace=True)\n",
    "        stamps = label_series.index\n",
    "        n_stamps = len(stamps)\n",
    "\n",
    "        # query video dataset\n",
    "\n",
    "        for key in query: # accepts either direct value or list\n",
    "            values = query[key] if type(query[key]) is list else [query[key]]\n",
    "            df = df[df[key].isin(values)]\n",
    "\n",
    "        # cut video dataset to enclose provided timestamps\n",
    "\n",
    "        start, end = stamps.min(), stamps.max()\n",
    "        df = df[(df[dt_col] >= start) & (df[dt_col] <= end)]\n",
    "\n",
    "        # generated labels by timestamp interval\n",
    "\n",
    "        labels = pd.Series(np.nan, index=df.index) # np.nan series with the index of the filtered dataset\n",
    "\n",
    "        for i in range(n_stamps - 1):\n",
    "            t1, t2 = stamps[i], stamps[i + 1] # label start and end timestamps\n",
    "            msk_t = (df[dt_col] >= t1) & (df[dt_col] <= t2)\n",
    "            labels[msk_t] = label_series.loc[t1]\n",
    "\n",
    "        # create columns with labels (for the subset and complete datasets)\n",
    "\n",
    "        df['tag'] = labels\n",
    "        videos_copy.loc[df.index, 'tag'] = df['tag']\n",
    "\n",
    "        # save videos partial dataset as csv (completely labeled)\n",
    "        \n",
    "        if 'path' in params:\n",
    "            path = params['path']\n",
    "            df.to_csv(path, index=False)\n",
    "\n",
    "        # display label count result\n",
    "\n",
    "        display(df['tag'].value_counts().to_frame(f'Tag count · code: {query[\"code\"]}'))\n",
    "\n",
    "    # save videos complete dataset as csv (partially labeled)\n",
    "\n",
    "    if partially_labeled_videos_path is not None:\n",
    "        videos_copy.to_csv(partially_labeled_videos_path, index=False)\n",
    "        \n",
    "    return videos_copy"
   ]
  },
  {
   "cell_type": "markdown",
   "metadata": {},
   "source": [
    "### Load videos and images control datasets"
   ]
  },
  {
   "cell_type": "code",
   "execution_count": 49,
   "metadata": {},
   "outputs": [],
   "source": [
    "import numpy as np, pandas as pd\n",
    "\n",
    "# load videos dataset\n",
    "\n",
    "video_control_path = 'Dados/Controle de vídeos/videos_control_2023-04-28.csv'\n",
    "videos = pd.read_csv(video_control_path)\n",
    "\n",
    "# load images dataset\n",
    "\n",
    "image_control_path = 'Dados/Controle de vídeos/images_control_2023-04-28.csv'\n",
    "images = pd.read_csv(image_control_path)\n",
    "\n",
    "# data preprocessing\n",
    "videos['timestamp'] = pd.to_datetime(videos['timestamp'])\n",
    "images['timestamp'] = pd.to_datetime(images['timestamp'])\n",
    "images['image_timestamp'] = pd.to_datetime(images['image_timestamp'])"
   ]
  },
  {
   "cell_type": "markdown",
   "metadata": {},
   "source": [
    "### Define video/image  labels' timestamps and parameters"
   ]
  },
  {
   "cell_type": "code",
   "execution_count": 50,
   "metadata": {},
   "outputs": [],
   "source": [
    "# path parameters\n",
    "\n",
    "partially_labeled_videos_path = 'Dados/Rotulados/videos_control_labeled_2023-04-28.csv'\n",
    "partially_labeled_imags_path = 'Dados/Rotulados/images_control_labeled_2023-04-28.csv'\n",
    "\n",
    "# label parameters\n",
    "\n",
    "label_params = [{\n",
    "    'path': 'Dados/Rotulados/CODE1475_labeled_2023-04-28.csv',\n",
    "    'query': {\n",
    "        'code': 1475,\n",
    "        'folder_structure': [\n",
    "            '{source}/{type}/{event}/{code}',\n",
    "            'polygons/{type}/{polygon}/{code}',\n",
    "        ]\n",
    "    },\n",
    "    'label_series': { # timestamps below should enclose the timestamps of all videos matching `query`\n",
    "        '2023-02-07 19:25:00': 'alagamento', # start 07/02\n",
    "        '2023-02-08 00:35:00': 'bolsão', # start 08/02\n",
    "        '2023-02-08 01:20:00': 'lâmina',\n",
    "        '2023-02-08 01:52:30': 'poça',\n",
    "        '2023-02-08 02:32:30': 'normalidade',\n",
    "        '2023-02-11 20:50:00': 'alagamento', # start 11/02\n",
    "        '2023-02-11 20:51:00': 'normalidade', # end 11/02\n",
    "        '2023-03-02 00:00:00': 'normalidade', # after end of 2023-03-01 ?\n",
    "    }\n",
    "}, {\n",
    "    'path': 'Dados/Rotulados/CODE1487_labeled_2023-04-28.csv',\n",
    "    'query': {\n",
    "        'code': 1487,\n",
    "        'folder_structure': [\n",
    "            '{type}/{subtype}/{code}',\n",
    "            'polygons/{type}/{polygon}/{code}',\n",
    "        ]\n",
    "    }, # ****************** RECHECK FOR MISSING HOLES BETWEEN VIDEOS *******************************\n",
    "    'label_series': { # timestamps below should enclose the timestamps of all videos matching `query`\n",
    "        '2023-02-07 19:25:00': 0.2, # right before start of 2023-02-07 video\n",
    "        '2023-02-07 19:49:55': 1.0,\n",
    "        '2023-02-07 20:09:30': 0.8,\n",
    "        '2023-02-07 20:10:35': 0.6,\n",
    "        '2023-02-07 20:11:50': 0.4,\n",
    "        '2023-02-07 20:14:20': 0.2,\n",
    "        '2023-02-07 22:35:00': 0.0, # right after end of 2023-02-07 video\n",
    "        '2023-02-08 01:09:55': 0.0, # right before start of 2023-02-08 video\n",
    "        '2023-02-08 10:00:00': 0.0, # right after end of 2023-02-08 video\n",
    "        '2023-02-08 15:50:00': 0.0, # right before start of second 2023-02-08 video\n",
    "        '2023-02-08 16:25:00': 0.0, # right after end of second 2023-02-08 video\n",
    "        '2023-04-07 11:35:00': 0.0, # right before start of 2023-04-07 video\n",
    "        '2023-04-07 20:56:00': 0.0, # right after end of 2023-04-07 video\n",
    "        '2023-04-07 21:04:00': 0.0, # right before start of second 2023-04-07 video\n",
    "        '2023-04-07 23:56:00': 0.0, # right after end of second 2023-04-07 video\n",
    "        '2023-04-08 00:00:00': 0.0, # right before start of 2023-04-08 video\n",
    "        '2023-04-08 03:19:55': 0.2,\n",
    "        '2023-04-08 03:39:55': 0.4,\n",
    "        '2023-04-08 03:44:55': 0.6,\n",
    "        '2023-04-08 04:14:55': 0.4,\n",
    "        '2023-04-08 04:24:55': 0.2,\n",
    "        '2023-04-08 05:14:55': 0.0,\n",
    "        '2023-04-08 06:14:55': 0.2,\n",
    "        '2023-04-08 06:39:55': 0.0,\n",
    "        '2023-04-08 06:49:55': 0.2,\n",
    "        '2023-04-08 07:14:55': 0.0,\n",
    "        '2023-04-08 07:59:55': 0.2,\n",
    "        '2023-04-08 10:14:55': 0.0,\n",
    "    }\n",
    "}]"
   ]
  },
  {
   "cell_type": "markdown",
   "metadata": {
    "tags": []
   },
   "source": [
    "### Label videos from multiple cameras  based on labels' timestamps"
   ]
  },
  {
   "cell_type": "code",
   "execution_count": 51,
   "metadata": {},
   "outputs": [
    {
     "data": {
      "text/html": [
       "<div>\n",
       "<style scoped>\n",
       "    .dataframe tbody tr th:only-of-type {\n",
       "        vertical-align: middle;\n",
       "    }\n",
       "\n",
       "    .dataframe tbody tr th {\n",
       "        vertical-align: top;\n",
       "    }\n",
       "\n",
       "    .dataframe thead th {\n",
       "        text-align: right;\n",
       "    }\n",
       "</style>\n",
       "<table border=\"1\" class=\"dataframe\">\n",
       "  <thead>\n",
       "    <tr style=\"text-align: right;\">\n",
       "      <th></th>\n",
       "      <th>Tag count · code: 1475</th>\n",
       "    </tr>\n",
       "  </thead>\n",
       "  <tbody>\n",
       "    <tr>\n",
       "      <th>normalidade</th>\n",
       "      <td>120</td>\n",
       "    </tr>\n",
       "    <tr>\n",
       "      <th>alagamento</th>\n",
       "      <td>28</td>\n",
       "    </tr>\n",
       "    <tr>\n",
       "      <th>poça</th>\n",
       "      <td>8</td>\n",
       "    </tr>\n",
       "    <tr>\n",
       "      <th>lâmina</th>\n",
       "      <td>5</td>\n",
       "    </tr>\n",
       "    <tr>\n",
       "      <th>bolsão</th>\n",
       "      <td>4</td>\n",
       "    </tr>\n",
       "  </tbody>\n",
       "</table>\n",
       "</div>"
      ],
      "text/plain": [
       "             Tag count · code: 1475\n",
       "normalidade                     120\n",
       "alagamento                       28\n",
       "poça                              8\n",
       "lâmina                            5\n",
       "bolsão                            4"
      ]
     },
     "metadata": {},
     "output_type": "display_data"
    },
    {
     "data": {
      "text/html": [
       "<div>\n",
       "<style scoped>\n",
       "    .dataframe tbody tr th:only-of-type {\n",
       "        vertical-align: middle;\n",
       "    }\n",
       "\n",
       "    .dataframe tbody tr th {\n",
       "        vertical-align: top;\n",
       "    }\n",
       "\n",
       "    .dataframe thead th {\n",
       "        text-align: right;\n",
       "    }\n",
       "</style>\n",
       "<table border=\"1\" class=\"dataframe\">\n",
       "  <thead>\n",
       "    <tr style=\"text-align: right;\">\n",
       "      <th></th>\n",
       "      <th>Tag count · code: 1487</th>\n",
       "    </tr>\n",
       "  </thead>\n",
       "  <tbody>\n",
       "    <tr>\n",
       "      <th>0.0</th>\n",
       "      <td>276</td>\n",
       "    </tr>\n",
       "    <tr>\n",
       "      <th>0.2</th>\n",
       "      <td>70</td>\n",
       "    </tr>\n",
       "    <tr>\n",
       "      <th>0.6</th>\n",
       "      <td>6</td>\n",
       "    </tr>\n",
       "    <tr>\n",
       "      <th>1.0</th>\n",
       "      <td>5</td>\n",
       "    </tr>\n",
       "    <tr>\n",
       "      <th>0.4</th>\n",
       "      <td>3</td>\n",
       "    </tr>\n",
       "  </tbody>\n",
       "</table>\n",
       "</div>"
      ],
      "text/plain": [
       "     Tag count · code: 1487\n",
       "0.0                     276\n",
       "0.2                      70\n",
       "0.6                       6\n",
       "1.0                       5\n",
       "0.4                       3"
      ]
     },
     "metadata": {},
     "output_type": "display_data"
    }
   ],
   "source": [
    "control = videos.copy()\n",
    "dt_col = 'timestamp'\n",
    "partially_labeled_videos_path = 'Dados/Rotulados/videos_control_labeled_2023-04-28.csv'\n",
    "\n",
    "videos_labeled = label_videos(control, dt_col, label_params, partially_labeled_videos_path)"
   ]
  },
  {
   "cell_type": "markdown",
   "metadata": {
    "tags": []
   },
   "source": [
    "### Label images from multiple cameras based on labels' timestamps"
   ]
  },
  {
   "cell_type": "code",
   "execution_count": 52,
   "metadata": {},
   "outputs": [
    {
     "data": {
      "text/html": [
       "<div>\n",
       "<style scoped>\n",
       "    .dataframe tbody tr th:only-of-type {\n",
       "        vertical-align: middle;\n",
       "    }\n",
       "\n",
       "    .dataframe tbody tr th {\n",
       "        vertical-align: top;\n",
       "    }\n",
       "\n",
       "    .dataframe thead th {\n",
       "        text-align: right;\n",
       "    }\n",
       "</style>\n",
       "<table border=\"1\" class=\"dataframe\">\n",
       "  <thead>\n",
       "    <tr style=\"text-align: right;\">\n",
       "      <th></th>\n",
       "      <th>Tag count · code: 1475</th>\n",
       "    </tr>\n",
       "  </thead>\n",
       "  <tbody>\n",
       "    <tr>\n",
       "      <th>normalidade</th>\n",
       "      <td>884</td>\n",
       "    </tr>\n",
       "    <tr>\n",
       "      <th>alagamento</th>\n",
       "      <td>14</td>\n",
       "    </tr>\n",
       "  </tbody>\n",
       "</table>\n",
       "</div>"
      ],
      "text/plain": [
       "             Tag count · code: 1475\n",
       "normalidade                     884\n",
       "alagamento                       14"
      ]
     },
     "metadata": {},
     "output_type": "display_data"
    },
    {
     "data": {
      "text/html": [
       "<div>\n",
       "<style scoped>\n",
       "    .dataframe tbody tr th:only-of-type {\n",
       "        vertical-align: middle;\n",
       "    }\n",
       "\n",
       "    .dataframe tbody tr th {\n",
       "        vertical-align: top;\n",
       "    }\n",
       "\n",
       "    .dataframe thead th {\n",
       "        text-align: right;\n",
       "    }\n",
       "</style>\n",
       "<table border=\"1\" class=\"dataframe\">\n",
       "  <thead>\n",
       "    <tr style=\"text-align: right;\">\n",
       "      <th></th>\n",
       "      <th>Tag count · code: 1487</th>\n",
       "    </tr>\n",
       "  </thead>\n",
       "  <tbody>\n",
       "    <tr>\n",
       "      <th>0.0</th>\n",
       "      <td>7294</td>\n",
       "    </tr>\n",
       "    <tr>\n",
       "      <th>0.2</th>\n",
       "      <td>1938</td>\n",
       "    </tr>\n",
       "    <tr>\n",
       "      <th>0.6</th>\n",
       "      <td>270</td>\n",
       "    </tr>\n",
       "    <tr>\n",
       "      <th>0.4</th>\n",
       "      <td>135</td>\n",
       "    </tr>\n",
       "  </tbody>\n",
       "</table>\n",
       "</div>"
      ],
      "text/plain": [
       "     Tag count · code: 1487\n",
       "0.0                    7294\n",
       "0.2                    1938\n",
       "0.6                     270\n",
       "0.4                     135"
      ]
     },
     "metadata": {},
     "output_type": "display_data"
    }
   ],
   "source": [
    "control = images.copy()\n",
    "dt_col = 'image_timestamp'\n",
    "partially_labeled_images_path = 'Dados/Rotulados/images_control_labeled_2023-04-28.csv'\n",
    "\n",
    "images_labeled = label_videos(control, dt_col, label_params, partially_labeled_images_path)"
   ]
  },
  {
   "cell_type": "markdown",
   "metadata": {},
   "source": [
    "#### Evaluate results"
   ]
  },
  {
   "cell_type": "code",
   "execution_count": 55,
   "metadata": {},
   "outputs": [
    {
     "name": "stderr",
     "output_type": "stream",
     "text": [
      "C:\\Users\\Public\\Documents\\Wondershare\\CreatorTemp\\ipykernel_9964\\362646071.py:4: FutureWarning: The pandas.datetime class is deprecated and will be removed from pandas in a future version. Import from datetime module instead.\n",
      "  t1, t2 = (pd.datetime.strptime(ti, '%Y-%m-%d %H:%M:%S') for ti in (t1, t2))\n"
     ]
    }
   ],
   "source": [
    "t1 = '2023-02-07 19:49:55'\n",
    "t2 = '2023-02-07 20:09:30'\n",
    "\n",
    "t1, t2 = (pd.datetime.strptime(ti, '%Y-%m-%d %H:%M:%S') for ti in (t1, t2))"
   ]
  },
  {
   "cell_type": "code",
   "execution_count": 56,
   "metadata": {},
   "outputs": [
    {
     "data": {
      "text/html": [
       "<div>\n",
       "<style scoped>\n",
       "    .dataframe tbody tr th:only-of-type {\n",
       "        vertical-align: middle;\n",
       "    }\n",
       "\n",
       "    .dataframe tbody tr th {\n",
       "        vertical-align: top;\n",
       "    }\n",
       "\n",
       "    .dataframe thead th {\n",
       "        text-align: right;\n",
       "    }\n",
       "</style>\n",
       "<table border=\"1\" class=\"dataframe\">\n",
       "  <thead>\n",
       "    <tr style=\"text-align: right;\">\n",
       "      <th></th>\n",
       "      <th>blob_name</th>\n",
       "      <th>blob_size</th>\n",
       "      <th>bucket_name</th>\n",
       "      <th>file_name</th>\n",
       "      <th>code</th>\n",
       "      <th>n_folders</th>\n",
       "      <th>timestamp</th>\n",
       "      <th>folder_structure</th>\n",
       "      <th>image_timestamp</th>\n",
       "      <th>tag</th>\n",
       "    </tr>\n",
       "  </thead>\n",
       "  <tbody>\n",
       "  </tbody>\n",
       "</table>\n",
       "</div>"
      ],
      "text/plain": [
       "Empty DataFrame\n",
       "Columns: [blob_name, blob_size, bucket_name, file_name, code, n_folders, timestamp, folder_structure, image_timestamp, tag]\n",
       "Index: []"
      ]
     },
     "execution_count": 56,
     "metadata": {},
     "output_type": "execute_result"
    }
   ],
   "source": [
    "col = images_labeled['image_timestamp'] \n",
    "\n",
    "msk_t = (col >= t1) & (col <= t2)\n",
    "\n",
    "images_labeled[msk_t]"
   ]
  },
  {
   "cell_type": "code",
   "execution_count": 57,
   "metadata": {},
   "outputs": [
    {
     "data": {
      "text/html": [
       "<div>\n",
       "<style scoped>\n",
       "    .dataframe tbody tr th:only-of-type {\n",
       "        vertical-align: middle;\n",
       "    }\n",
       "\n",
       "    .dataframe tbody tr th {\n",
       "        vertical-align: top;\n",
       "    }\n",
       "\n",
       "    .dataframe thead th {\n",
       "        text-align: right;\n",
       "    }\n",
       "</style>\n",
       "<table border=\"1\" class=\"dataframe\">\n",
       "  <thead>\n",
       "    <tr style=\"text-align: right;\">\n",
       "      <th></th>\n",
       "      <th>blob_name</th>\n",
       "      <th>blob_size</th>\n",
       "      <th>bucket_name</th>\n",
       "      <th>file_name</th>\n",
       "      <th>code</th>\n",
       "      <th>n_folders</th>\n",
       "      <th>timestamp</th>\n",
       "      <th>folder_structure</th>\n",
       "      <th>image_timestamp</th>\n",
       "    </tr>\n",
       "  </thead>\n",
       "  <tbody>\n",
       "  </tbody>\n",
       "</table>\n",
       "</div>"
      ],
      "text/plain": [
       "Empty DataFrame\n",
       "Columns: [blob_name, blob_size, bucket_name, file_name, code, n_folders, timestamp, folder_structure, image_timestamp]\n",
       "Index: []"
      ]
     },
     "execution_count": 57,
     "metadata": {},
     "output_type": "execute_result"
    }
   ],
   "source": [
    "col = images['timestamp'] \n",
    "\n",
    "msk_t = (col >= t1) & (col <= t2)\n",
    "\n",
    "images[msk_t]"
   ]
  },
  {
   "cell_type": "code",
   "execution_count": 58,
   "metadata": {},
   "outputs": [
    {
     "data": {
      "text/html": [
       "<div>\n",
       "<style scoped>\n",
       "    .dataframe tbody tr th:only-of-type {\n",
       "        vertical-align: middle;\n",
       "    }\n",
       "\n",
       "    .dataframe tbody tr th {\n",
       "        vertical-align: top;\n",
       "    }\n",
       "\n",
       "    .dataframe thead th {\n",
       "        text-align: right;\n",
       "    }\n",
       "</style>\n",
       "<table border=\"1\" class=\"dataframe\">\n",
       "  <thead>\n",
       "    <tr style=\"text-align: right;\">\n",
       "      <th></th>\n",
       "      <th>blob_name</th>\n",
       "      <th>blob_size</th>\n",
       "      <th>bucket_name</th>\n",
       "      <th>file_name</th>\n",
       "      <th>code</th>\n",
       "      <th>n_folders</th>\n",
       "      <th>timestamp</th>\n",
       "      <th>folder_structure</th>\n",
       "    </tr>\n",
       "  </thead>\n",
       "  <tbody>\n",
       "    <tr>\n",
       "      <th>5897</th>\n",
       "      <td>polygons/flood-unlabeled/-1/1487/CODE1487 2023...</td>\n",
       "      <td>224984</td>\n",
       "      <td>flood-video-collection</td>\n",
       "      <td>CODE1487 2023-02-07 19:50:00.mp4</td>\n",
       "      <td>1487</td>\n",
       "      <td>4</td>\n",
       "      <td>2023-02-07 19:50:00</td>\n",
       "      <td>polygons/{type}/{polygon}/{code}</td>\n",
       "    </tr>\n",
       "    <tr>\n",
       "      <th>5898</th>\n",
       "      <td>polygons/flood-unlabeled/-1/1487/CODE1487 2023...</td>\n",
       "      <td>511216</td>\n",
       "      <td>flood-video-collection</td>\n",
       "      <td>CODE1487 2023-02-07 19:54:00.mp4</td>\n",
       "      <td>1487</td>\n",
       "      <td>4</td>\n",
       "      <td>2023-02-07 19:54:00</td>\n",
       "      <td>polygons/{type}/{polygon}/{code}</td>\n",
       "    </tr>\n",
       "    <tr>\n",
       "      <th>5899</th>\n",
       "      <td>polygons/flood-unlabeled/-1/1487/CODE1487 2023...</td>\n",
       "      <td>529560</td>\n",
       "      <td>flood-video-collection</td>\n",
       "      <td>CODE1487 2023-02-07 20:00:00.mp4</td>\n",
       "      <td>1487</td>\n",
       "      <td>4</td>\n",
       "      <td>2023-02-07 20:00:00</td>\n",
       "      <td>polygons/{type}/{polygon}/{code}</td>\n",
       "    </tr>\n",
       "    <tr>\n",
       "      <th>5900</th>\n",
       "      <td>polygons/flood-unlabeled/-1/1487/CODE1487 2023...</td>\n",
       "      <td>553493</td>\n",
       "      <td>flood-video-collection</td>\n",
       "      <td>CODE1487 2023-02-07 20:03:00.mp4</td>\n",
       "      <td>1487</td>\n",
       "      <td>4</td>\n",
       "      <td>2023-02-07 20:03:00</td>\n",
       "      <td>polygons/{type}/{polygon}/{code}</td>\n",
       "    </tr>\n",
       "    <tr>\n",
       "      <th>5901</th>\n",
       "      <td>polygons/flood-unlabeled/-1/1487/CODE1487 2023...</td>\n",
       "      <td>31005571</td>\n",
       "      <td>flood-video-collection</td>\n",
       "      <td>CODE1487 2023-02-07 20:08:37.mp4</td>\n",
       "      <td>1487</td>\n",
       "      <td>4</td>\n",
       "      <td>2023-02-07 20:08:37</td>\n",
       "      <td>polygons/{type}/{polygon}/{code}</td>\n",
       "    </tr>\n",
       "    <tr>\n",
       "      <th>...</th>\n",
       "      <td>...</td>\n",
       "      <td>...</td>\n",
       "      <td>...</td>\n",
       "      <td>...</td>\n",
       "      <td>...</td>\n",
       "      <td>...</td>\n",
       "      <td>...</td>\n",
       "      <td>...</td>\n",
       "    </tr>\n",
       "    <tr>\n",
       "      <th>14706</th>\n",
       "      <td>polygons/flood-unlabeled/8/120/CODE120 2023-02...</td>\n",
       "      <td>37633</td>\n",
       "      <td>flood-video-collection</td>\n",
       "      <td>CODE120 2023-02-07 20:00:00.mp4</td>\n",
       "      <td>120</td>\n",
       "      <td>4</td>\n",
       "      <td>2023-02-07 20:00:00</td>\n",
       "      <td>polygons/{type}/{polygon}/{code}</td>\n",
       "    </tr>\n",
       "    <tr>\n",
       "      <th>14707</th>\n",
       "      <td>polygons/flood-unlabeled/8/120/CODE120 2023-02...</td>\n",
       "      <td>38438</td>\n",
       "      <td>flood-video-collection</td>\n",
       "      <td>CODE120 2023-02-07 20:03:00.mp4</td>\n",
       "      <td>120</td>\n",
       "      <td>4</td>\n",
       "      <td>2023-02-07 20:03:00</td>\n",
       "      <td>polygons/{type}/{polygon}/{code}</td>\n",
       "    </tr>\n",
       "    <tr>\n",
       "      <th>14708</th>\n",
       "      <td>polygons/flood-unlabeled/8/120/CODE120 2023-02...</td>\n",
       "      <td>43078365</td>\n",
       "      <td>flood-video-collection</td>\n",
       "      <td>CODE120 2023-02-07 20:08:37.mp4</td>\n",
       "      <td>120</td>\n",
       "      <td>4</td>\n",
       "      <td>2023-02-07 20:08:37</td>\n",
       "      <td>polygons/{type}/{polygon}/{code}</td>\n",
       "    </tr>\n",
       "    <tr>\n",
       "      <th>14829</th>\n",
       "      <td>polygons/flood-unlabeled/8/267/CODE267 2023-02...</td>\n",
       "      <td>184358</td>\n",
       "      <td>flood-video-collection</td>\n",
       "      <td>CODE267 2023-02-07 19:50:00.mp4</td>\n",
       "      <td>267</td>\n",
       "      <td>4</td>\n",
       "      <td>2023-02-07 19:50:00</td>\n",
       "      <td>polygons/{type}/{polygon}/{code}</td>\n",
       "    </tr>\n",
       "    <tr>\n",
       "      <th>14830</th>\n",
       "      <td>polygons/flood-unlabeled/8/267/CODE267 2023-02...</td>\n",
       "      <td>1330498</td>\n",
       "      <td>flood-video-collection</td>\n",
       "      <td>CODE267 2023-02-07 20:08:37.mp4</td>\n",
       "      <td>267</td>\n",
       "      <td>4</td>\n",
       "      <td>2023-02-07 20:08:37</td>\n",
       "      <td>polygons/{type}/{polygon}/{code}</td>\n",
       "    </tr>\n",
       "  </tbody>\n",
       "</table>\n",
       "<p>286 rows × 8 columns</p>\n",
       "</div>"
      ],
      "text/plain": [
       "                                               blob_name  blob_size  \\\n",
       "5897   polygons/flood-unlabeled/-1/1487/CODE1487 2023...     224984   \n",
       "5898   polygons/flood-unlabeled/-1/1487/CODE1487 2023...     511216   \n",
       "5899   polygons/flood-unlabeled/-1/1487/CODE1487 2023...     529560   \n",
       "5900   polygons/flood-unlabeled/-1/1487/CODE1487 2023...     553493   \n",
       "5901   polygons/flood-unlabeled/-1/1487/CODE1487 2023...   31005571   \n",
       "...                                                  ...        ...   \n",
       "14706  polygons/flood-unlabeled/8/120/CODE120 2023-02...      37633   \n",
       "14707  polygons/flood-unlabeled/8/120/CODE120 2023-02...      38438   \n",
       "14708  polygons/flood-unlabeled/8/120/CODE120 2023-02...   43078365   \n",
       "14829  polygons/flood-unlabeled/8/267/CODE267 2023-02...     184358   \n",
       "14830  polygons/flood-unlabeled/8/267/CODE267 2023-02...    1330498   \n",
       "\n",
       "                  bucket_name                         file_name  code  \\\n",
       "5897   flood-video-collection  CODE1487 2023-02-07 19:50:00.mp4  1487   \n",
       "5898   flood-video-collection  CODE1487 2023-02-07 19:54:00.mp4  1487   \n",
       "5899   flood-video-collection  CODE1487 2023-02-07 20:00:00.mp4  1487   \n",
       "5900   flood-video-collection  CODE1487 2023-02-07 20:03:00.mp4  1487   \n",
       "5901   flood-video-collection  CODE1487 2023-02-07 20:08:37.mp4  1487   \n",
       "...                       ...                               ...   ...   \n",
       "14706  flood-video-collection   CODE120 2023-02-07 20:00:00.mp4   120   \n",
       "14707  flood-video-collection   CODE120 2023-02-07 20:03:00.mp4   120   \n",
       "14708  flood-video-collection   CODE120 2023-02-07 20:08:37.mp4   120   \n",
       "14829  flood-video-collection   CODE267 2023-02-07 19:50:00.mp4   267   \n",
       "14830  flood-video-collection   CODE267 2023-02-07 20:08:37.mp4   267   \n",
       "\n",
       "       n_folders           timestamp                  folder_structure  \n",
       "5897           4 2023-02-07 19:50:00  polygons/{type}/{polygon}/{code}  \n",
       "5898           4 2023-02-07 19:54:00  polygons/{type}/{polygon}/{code}  \n",
       "5899           4 2023-02-07 20:00:00  polygons/{type}/{polygon}/{code}  \n",
       "5900           4 2023-02-07 20:03:00  polygons/{type}/{polygon}/{code}  \n",
       "5901           4 2023-02-07 20:08:37  polygons/{type}/{polygon}/{code}  \n",
       "...          ...                 ...                               ...  \n",
       "14706          4 2023-02-07 20:00:00  polygons/{type}/{polygon}/{code}  \n",
       "14707          4 2023-02-07 20:03:00  polygons/{type}/{polygon}/{code}  \n",
       "14708          4 2023-02-07 20:08:37  polygons/{type}/{polygon}/{code}  \n",
       "14829          4 2023-02-07 19:50:00  polygons/{type}/{polygon}/{code}  \n",
       "14830          4 2023-02-07 20:08:37  polygons/{type}/{polygon}/{code}  \n",
       "\n",
       "[286 rows x 8 columns]"
      ]
     },
     "execution_count": 58,
     "metadata": {},
     "output_type": "execute_result"
    }
   ],
   "source": [
    "col = videos['timestamp'] \n",
    "\n",
    "msk_t = (col >= t1) & (col <= t2)\n",
    "\n",
    "videos[msk_t]"
   ]
  },
  {
   "cell_type": "markdown",
   "metadata": {},
   "source": [
    "---\n",
    "## Exploratory data analysis "
   ]
  },
  {
   "cell_type": "code",
   "execution_count": 3,
   "metadata": {},
   "outputs": [
    {
     "name": "stdout",
     "output_type": "stream",
     "text": [
      "C:\\Users\\luisr\\Desktop\\Repositories\\Data Science Projects\\Hackaton COR IV - Centro de Operações do RJ\\INCUBAÇÃO\\Cameras\n"
     ]
    }
   ],
   "source": [
    "cd ../"
   ]
  },
  {
   "cell_type": "code",
   "execution_count": null,
   "metadata": {},
   "outputs": [],
   "source": [
    "import numpy as np, pandas as pd"
   ]
  },
  {
   "cell_type": "markdown",
   "metadata": {},
   "source": [
    "### Analysis of labeled videos and images"
   ]
  },
  {
   "cell_type": "markdown",
   "metadata": {},
   "source": [
    "#### Reload videos and image labeled datasets"
   ]
  },
  {
   "cell_type": "code",
   "execution_count": 17,
   "metadata": {
    "jp-MarkdownHeadingCollapsed": true,
    "tags": []
   },
   "outputs": [
    {
     "name": "stderr",
     "output_type": "stream",
     "text": [
      "C:\\Users\\Public\\Documents\\Wondershare\\CreatorTemp\\ipykernel_6076\\1057483232.py:2: DtypeWarning: Columns (9) have mixed types. Specify dtype option on import or set low_memory=False.\n",
      "  images = pd.read_csv('Dados/Rotulados/images_control_labeled_2023-04-28.csv')\n"
     ]
    },
    {
     "data": {
      "text/html": [
       "<div>\n",
       "<style scoped>\n",
       "    .dataframe tbody tr th:only-of-type {\n",
       "        vertical-align: middle;\n",
       "    }\n",
       "\n",
       "    .dataframe tbody tr th {\n",
       "        vertical-align: top;\n",
       "    }\n",
       "\n",
       "    .dataframe thead th {\n",
       "        text-align: right;\n",
       "    }\n",
       "</style>\n",
       "<table border=\"1\" class=\"dataframe\">\n",
       "  <thead>\n",
       "    <tr style=\"text-align: right;\">\n",
       "      <th></th>\n",
       "      <th>blob_name</th>\n",
       "      <th>blob_size</th>\n",
       "      <th>bucket_name</th>\n",
       "      <th>file_name</th>\n",
       "      <th>code</th>\n",
       "      <th>n_folders</th>\n",
       "      <th>timestamp</th>\n",
       "      <th>folder_structure</th>\n",
       "      <th>image_timestamp</th>\n",
       "      <th>tag</th>\n",
       "    </tr>\n",
       "  </thead>\n",
       "  <tbody>\n",
       "    <tr>\n",
       "      <th>0</th>\n",
       "      <td>comando/alagamento/93898/1993/CODE1993 2023-03...</td>\n",
       "      <td>1317301</td>\n",
       "      <td>flood-video-collection</td>\n",
       "      <td>CODE1993 2023-03-30 19-55-06.mp4</td>\n",
       "      <td>1993</td>\n",
       "      <td>4</td>\n",
       "      <td>2023-03-30 19:55:06</td>\n",
       "      <td>{source}/{type}/{event}/{code}</td>\n",
       "      <td>2023-03-30 19:55:06.000</td>\n",
       "      <td>NaN</td>\n",
       "    </tr>\n",
       "    <tr>\n",
       "      <th>1</th>\n",
       "      <td>comando/alagamento/93898/1993/CODE1993 2023-03...</td>\n",
       "      <td>1317301</td>\n",
       "      <td>flood-video-collection</td>\n",
       "      <td>CODE1993 2023-03-30 19-55-06.mp4</td>\n",
       "      <td>1993</td>\n",
       "      <td>4</td>\n",
       "      <td>2023-03-30 19:55:06</td>\n",
       "      <td>{source}/{type}/{event}/{code}</td>\n",
       "      <td>2023-03-30 19:55:06.333</td>\n",
       "      <td>NaN</td>\n",
       "    </tr>\n",
       "    <tr>\n",
       "      <th>2</th>\n",
       "      <td>comando/alagamento/93898/1993/CODE1993 2023-03...</td>\n",
       "      <td>1317301</td>\n",
       "      <td>flood-video-collection</td>\n",
       "      <td>CODE1993 2023-03-30 19-55-06.mp4</td>\n",
       "      <td>1993</td>\n",
       "      <td>4</td>\n",
       "      <td>2023-03-30 19:55:06</td>\n",
       "      <td>{source}/{type}/{event}/{code}</td>\n",
       "      <td>2023-03-30 19:55:06.667</td>\n",
       "      <td>NaN</td>\n",
       "    </tr>\n",
       "    <tr>\n",
       "      <th>3</th>\n",
       "      <td>comando/alagamento/93898/1993/CODE1993 2023-03...</td>\n",
       "      <td>1317301</td>\n",
       "      <td>flood-video-collection</td>\n",
       "      <td>CODE1993 2023-03-30 19-55-06.mp4</td>\n",
       "      <td>1993</td>\n",
       "      <td>4</td>\n",
       "      <td>2023-03-30 19:55:06</td>\n",
       "      <td>{source}/{type}/{event}/{code}</td>\n",
       "      <td>2023-03-30 19:55:07.000</td>\n",
       "      <td>NaN</td>\n",
       "    </tr>\n",
       "    <tr>\n",
       "      <th>4</th>\n",
       "      <td>comando/alagamento/93898/1993/CODE1993 2023-03...</td>\n",
       "      <td>1317301</td>\n",
       "      <td>flood-video-collection</td>\n",
       "      <td>CODE1993 2023-03-30 19-55-06.mp4</td>\n",
       "      <td>1993</td>\n",
       "      <td>4</td>\n",
       "      <td>2023-03-30 19:55:06</td>\n",
       "      <td>{source}/{type}/{event}/{code}</td>\n",
       "      <td>2023-03-30 19:55:07.333</td>\n",
       "      <td>NaN</td>\n",
       "    </tr>\n",
       "  </tbody>\n",
       "</table>\n",
       "</div>"
      ],
      "text/plain": [
       "                                           blob_name  blob_size  \\\n",
       "0  comando/alagamento/93898/1993/CODE1993 2023-03...    1317301   \n",
       "1  comando/alagamento/93898/1993/CODE1993 2023-03...    1317301   \n",
       "2  comando/alagamento/93898/1993/CODE1993 2023-03...    1317301   \n",
       "3  comando/alagamento/93898/1993/CODE1993 2023-03...    1317301   \n",
       "4  comando/alagamento/93898/1993/CODE1993 2023-03...    1317301   \n",
       "\n",
       "              bucket_name                         file_name  code  n_folders  \\\n",
       "0  flood-video-collection  CODE1993 2023-03-30 19-55-06.mp4  1993          4   \n",
       "1  flood-video-collection  CODE1993 2023-03-30 19-55-06.mp4  1993          4   \n",
       "2  flood-video-collection  CODE1993 2023-03-30 19-55-06.mp4  1993          4   \n",
       "3  flood-video-collection  CODE1993 2023-03-30 19-55-06.mp4  1993          4   \n",
       "4  flood-video-collection  CODE1993 2023-03-30 19-55-06.mp4  1993          4   \n",
       "\n",
       "            timestamp                folder_structure         image_timestamp  \\\n",
       "0 2023-03-30 19:55:06  {source}/{type}/{event}/{code} 2023-03-30 19:55:06.000   \n",
       "1 2023-03-30 19:55:06  {source}/{type}/{event}/{code} 2023-03-30 19:55:06.333   \n",
       "2 2023-03-30 19:55:06  {source}/{type}/{event}/{code} 2023-03-30 19:55:06.667   \n",
       "3 2023-03-30 19:55:06  {source}/{type}/{event}/{code} 2023-03-30 19:55:07.000   \n",
       "4 2023-03-30 19:55:06  {source}/{type}/{event}/{code} 2023-03-30 19:55:07.333   \n",
       "\n",
       "   tag  \n",
       "0  NaN  \n",
       "1  NaN  \n",
       "2  NaN  \n",
       "3  NaN  \n",
       "4  NaN  "
      ]
     },
     "execution_count": 17,
     "metadata": {},
     "output_type": "execute_result"
    }
   ],
   "source": [
    "videos = pd.read_csv('Dados/Rotulados/videos_control_labeled_2023-04-28.csv')\n",
    "images = pd.read_csv('Dados/Rotulados/images_control_labeled_2023-04-28.csv')\n",
    "\n",
    "# datetime conversion\n",
    "videos['timestamp'] = pd.to_datetime(videos['timestamp'])\n",
    "images['timestamp'] = pd.to_datetime(images['timestamp'])\n",
    "images['image_timestamp'] = pd.to_datetime(images['image_timestamp'])\n",
    "\n",
    "# set datetime index\n",
    "videos = videos.set_index('timestamp', drop=True).sort_index()\n",
    "\n",
    "images.head()"
   ]
  },
  {
   "cell_type": "markdown",
   "metadata": {},
   "source": [
    "### Analysis by camera"
   ]
  },
  {
   "cell_type": "markdown",
   "metadata": {},
   "source": [
    "#### Reload labeled dataset by camera code"
   ]
  },
  {
   "cell_type": "code",
   "execution_count": null,
   "metadata": {
    "jp-MarkdownHeadingCollapsed": true,
    "tags": []
   },
   "outputs": [],
   "source": [
    "videos = pd.read_csv('Dados/Rotulos/1475_2023-02-07.csv')\n",
    "\n",
    "videos['timestamp'] = pd.to_datetime(videos['timestamp'])\n",
    "videos = videos.set_index('timestamp', drop=True).sort_index()\n",
    "\n",
    "videos.head()"
   ]
  },
  {
   "cell_type": "markdown",
   "metadata": {},
   "source": [
    "#### Bytes of largest videos"
   ]
  },
  {
   "cell_type": "code",
   "execution_count": 6,
   "metadata": {},
   "outputs": [
    {
     "data": {
      "image/png": "[encoded data removed]",
      "text/plain": [
       "<Figure size 432x288 with 1 Axes>"
      ]
     },
     "metadata": {
      "needs_background": "light"
     },
     "output_type": "display_data"
    }
   ],
   "source": [
    "ax = videos['blob_size'].sort_values(ascending=True).tail(10).plot.bar(\n",
    "    ylabel='Bytes', xlabel='Video File', title='Size of Largest Video Files'\n",
    ")"
   ]
  }
 ],
 "metadata": {
  "kernelspec": {
   "display_name": "Python 3 (ipykernel)",
   "language": "python",
   "name": "python3"
  },
  "language_info": {
   "codemirror_mode": {
    "name": "ipython",
    "version": 3
   },
   "file_extension": ".py",
   "mimetype": "text/x-python",
   "name": "python",
   "nbconvert_exporter": "python",
   "pygments_lexer": "ipython3",
   "version": "3.10.9"
  }
 },
 "nbformat": 4,
 "nbformat_minor": 4
}
