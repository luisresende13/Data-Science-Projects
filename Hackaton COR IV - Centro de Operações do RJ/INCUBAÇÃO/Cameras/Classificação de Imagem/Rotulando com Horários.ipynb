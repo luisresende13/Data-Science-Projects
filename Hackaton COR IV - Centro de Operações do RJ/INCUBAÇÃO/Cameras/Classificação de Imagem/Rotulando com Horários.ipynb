{
 "cells": [
  {
   "cell_type": "markdown",
   "metadata": {},
   "source": [
    "# Time stamp based video labeling from single camera"
   ]
  },
  {
   "cell_type": "code",
   "execution_count": 1,
   "metadata": {},
   "outputs": [
    {
     "name": "stdout",
     "output_type": "stream",
     "text": [
      "C:\\Users\\luisr\\Desktop\\Repositories\\Data Science Projects\\Hackaton COR IV - Centro de Operações do RJ\\INCUBAÇÃO\\Cameras\n"
     ]
    }
   ],
   "source": [
    "cd ../"
   ]
  },
  {
   "cell_type": "markdown",
   "metadata": {},
   "source": [
    "### Load videos control dataset"
   ]
  },
  {
   "cell_type": "code",
   "execution_count": 55,
   "metadata": {},
   "outputs": [],
   "source": [
    "import numpy as np, pandas as pd\n",
    "\n",
    "# load data\n",
    "\n",
    "video_control_path = 'Dados/Controle de vídeos/videos_control_19-04.csv'\n",
    "control = pd.read_csv(video_control_path)\n",
    "\n",
    "# data preprocessing\n",
    "control['timestamp'] = pd.to_datetime(control['timestamp'])\n",
    "control = control.set_index('timestamp', drop=True).sort_index()"
   ]
  },
  {
   "cell_type": "markdown",
   "metadata": {},
   "source": [
    "## Define video timestamp labels and parameters"
   ]
  },
  {
   "cell_type": "code",
   "execution_count": 65,
   "metadata": {},
   "outputs": [],
   "source": [
    "# set parameters\n",
    "\n",
    "start = '2023-02-07'\n",
    "end = '2023-03-02'\n",
    "\n",
    "query = {\n",
    "    'code': [1475],\n",
    "    'folder_structure': [\n",
    "        'polygons/{type}/{polygon}/{code}',\n",
    "        '{source}/{type}/{event}/{code}',\n",
    "    ]\n",
    "}\n",
    "\n",
    "time_label = {\n",
    "    '2023-02-07 19:25:00': 'alagamento', # start 07/02\n",
    "    '2023-02-08 00:35:00': 'bolsão', # start 08/02\n",
    "    '2023-02-08 01:15:00': 'lâmina',\n",
    "    '2023-02-08 01:52:30': 'poça',\n",
    "    '2023-02-08 02:32:30': 'normalidade',\n",
    "    '2023-02-11 20:50:00': 'alagamento', # start 11/02\n",
    "    '2023-02-11 20:51:00': 'normalidade', # end 11/02\n",
    "    '2023-03-02 00:00:00': 'normalidade', # after end of 2023-03-01 ?\n",
    "}"
   ]
  },
  {
   "cell_type": "markdown",
   "metadata": {},
   "source": [
    "##  Time stamp based video labeling from single camera"
   ]
  },
  {
   "cell_type": "code",
   "execution_count": 66,
   "metadata": {},
   "outputs": [
    {
     "data": {
      "text/html": [
       "<div>\n",
       "<style scoped>\n",
       "    .dataframe tbody tr th:only-of-type {\n",
       "        vertical-align: middle;\n",
       "    }\n",
       "\n",
       "    .dataframe tbody tr th {\n",
       "        vertical-align: top;\n",
       "    }\n",
       "\n",
       "    .dataframe thead th {\n",
       "        text-align: right;\n",
       "    }\n",
       "</style>\n",
       "<table border=\"1\" class=\"dataframe\">\n",
       "  <thead>\n",
       "    <tr style=\"text-align: right;\">\n",
       "      <th></th>\n",
       "      <th>blob_name</th>\n",
       "      <th>code</th>\n",
       "      <th>tag</th>\n",
       "    </tr>\n",
       "    <tr>\n",
       "      <th>timestamp</th>\n",
       "      <th></th>\n",
       "      <th></th>\n",
       "      <th></th>\n",
       "    </tr>\n",
       "  </thead>\n",
       "  <tbody>\n",
       "    <tr>\n",
       "      <th>2023-02-07 19:25:00</th>\n",
       "      <td>polygons/flood-unlabeled/1/1475/CODE1475 2023-...</td>\n",
       "      <td>1475</td>\n",
       "      <td>alagamento</td>\n",
       "    </tr>\n",
       "    <tr>\n",
       "      <th>2023-02-07 19:30:00</th>\n",
       "      <td>polygons/flood-unlabeled/1/1475/CODE1475 2023-...</td>\n",
       "      <td>1475</td>\n",
       "      <td>alagamento</td>\n",
       "    </tr>\n",
       "    <tr>\n",
       "      <th>2023-02-07 19:35:00</th>\n",
       "      <td>polygons/flood-unlabeled/1/1475/CODE1475 2023-...</td>\n",
       "      <td>1475</td>\n",
       "      <td>alagamento</td>\n",
       "    </tr>\n",
       "    <tr>\n",
       "      <th>2023-02-07 19:40:00</th>\n",
       "      <td>polygons/flood-unlabeled/1/1475/CODE1475 2023-...</td>\n",
       "      <td>1475</td>\n",
       "      <td>alagamento</td>\n",
       "    </tr>\n",
       "    <tr>\n",
       "      <th>2023-02-07 19:50:00</th>\n",
       "      <td>polygons/flood-unlabeled/1/1475/CODE1475 2023-...</td>\n",
       "      <td>1475</td>\n",
       "      <td>alagamento</td>\n",
       "    </tr>\n",
       "  </tbody>\n",
       "</table>\n",
       "</div>"
      ],
      "text/plain": [
       "                                                             blob_name  code   \n",
       "timestamp                                                                      \n",
       "2023-02-07 19:25:00  polygons/flood-unlabeled/1/1475/CODE1475 2023-...  1475  \\\n",
       "2023-02-07 19:30:00  polygons/flood-unlabeled/1/1475/CODE1475 2023-...  1475   \n",
       "2023-02-07 19:35:00  polygons/flood-unlabeled/1/1475/CODE1475 2023-...  1475   \n",
       "2023-02-07 19:40:00  polygons/flood-unlabeled/1/1475/CODE1475 2023-...  1475   \n",
       "2023-02-07 19:50:00  polygons/flood-unlabeled/1/1475/CODE1475 2023-...  1475   \n",
       "\n",
       "                            tag  \n",
       "timestamp                        \n",
       "2023-02-07 19:25:00  alagamento  \n",
       "2023-02-07 19:30:00  alagamento  \n",
       "2023-02-07 19:35:00  alagamento  \n",
       "2023-02-07 19:40:00  alagamento  \n",
       "2023-02-07 19:50:00  alagamento  "
      ]
     },
     "metadata": {},
     "output_type": "display_data"
    },
    {
     "data": {
      "text/html": [
       "<div>\n",
       "<style scoped>\n",
       "    .dataframe tbody tr th:only-of-type {\n",
       "        vertical-align: middle;\n",
       "    }\n",
       "\n",
       "    .dataframe tbody tr th {\n",
       "        vertical-align: top;\n",
       "    }\n",
       "\n",
       "    .dataframe thead th {\n",
       "        text-align: right;\n",
       "    }\n",
       "</style>\n",
       "<table border=\"1\" class=\"dataframe\">\n",
       "  <thead>\n",
       "    <tr style=\"text-align: right;\">\n",
       "      <th></th>\n",
       "      <th>Video tag count</th>\n",
       "    </tr>\n",
       "    <tr>\n",
       "      <th>tag</th>\n",
       "      <th></th>\n",
       "    </tr>\n",
       "  </thead>\n",
       "  <tbody>\n",
       "    <tr>\n",
       "      <th>normalidade</th>\n",
       "      <td>120</td>\n",
       "    </tr>\n",
       "    <tr>\n",
       "      <th>alagamento</th>\n",
       "      <td>28</td>\n",
       "    </tr>\n",
       "    <tr>\n",
       "      <th>poça</th>\n",
       "      <td>8</td>\n",
       "    </tr>\n",
       "    <tr>\n",
       "      <th>lâmina</th>\n",
       "      <td>6</td>\n",
       "    </tr>\n",
       "    <tr>\n",
       "      <th>bolsão</th>\n",
       "      <td>3</td>\n",
       "    </tr>\n",
       "  </tbody>\n",
       "</table>\n",
       "</div>"
      ],
      "text/plain": [
       "             Video tag count\n",
       "tag                         \n",
       "normalidade              120\n",
       "alagamento                28\n",
       "poça                       8\n",
       "lâmina                     6\n",
       "bolsão                     3"
      ]
     },
     "metadata": {},
     "output_type": "display_data"
    }
   ],
   "source": [
    "# take video dataset\n",
    "\n",
    "df = control.copy()\n",
    "\n",
    "# query video dataset\n",
    "\n",
    "for key in query:\n",
    "    df = df[df[key].isin(query[key])]\n",
    "\n",
    "# cut video dataset\n",
    "\n",
    "df = df[(df.index >= start) & (df.index <= end)]\n",
    "\n",
    "# label videos by timestamps' categories\n",
    "\n",
    "time_label = pd.Series(time_label).sort_index()\n",
    "\n",
    "n_labels = len(time_label)\n",
    "stamps = time_label.index\n",
    "\n",
    "labels = pd.Series(np.nan, df.index)\n",
    "\n",
    "for i in range(n_labels - 1):\n",
    "    t1, t2 = stamps[i], stamps[i + 1]\n",
    "    msk_t = (df.index >= t1) & (df.index <= t2)\n",
    "    labels[msk_t] = time_label.loc[t1]\n",
    "\n",
    "df['tag'] = labels\n",
    "\n",
    "# display result label count\n",
    "\n",
    "display(df.head()[['blob_name', 'code', 'tag']])\n",
    "display(df['tag'].value_counts().to_frame('Video tag count'))"
   ]
  },
  {
   "cell_type": "markdown",
   "metadata": {},
   "source": [
    "### Check result's unique dates"
   ]
  },
  {
   "cell_type": "code",
   "execution_count": 67,
   "metadata": {},
   "outputs": [
    {
     "name": "stdout",
     "output_type": "stream",
     "text": [
      "[datetime.date(2023, 2, 7) datetime.date(2023, 2, 8)\n",
      " datetime.date(2023, 2, 11) datetime.date(2023, 2, 28)\n",
      " datetime.date(2023, 3, 1)]\n"
     ]
    }
   ],
   "source": [
    "print(np.unique(df.index.date))"
   ]
  },
  {
   "cell_type": "markdown",
   "metadata": {},
   "source": [
    "### Save labeled dataset as csv"
   ]
  },
  {
   "cell_type": "code",
   "execution_count": 68,
   "metadata": {},
   "outputs": [],
   "source": [
    "labeled_videos_path = 'Dados/Rotulos/1475_2023-02-07.csv'\n",
    "\n",
    "df.reset_index().to_csv(labeled_videos_path, index=False)"
   ]
  },
  {
   "cell_type": "markdown",
   "metadata": {},
   "source": [
    "---\n",
    "## Exploratory data analysis "
   ]
  },
  {
   "cell_type": "code",
   "execution_count": 3,
   "metadata": {},
   "outputs": [
    {
     "name": "stdout",
     "output_type": "stream",
     "text": [
      "C:\\Users\\luisr\\Desktop\\Repositories\\Data Science Projects\\Hackaton COR IV - Centro de Operações do RJ\\INCUBAÇÃO\\Cameras\n"
     ]
    }
   ],
   "source": [
    "cd ../"
   ]
  },
  {
   "cell_type": "code",
   "execution_count": 1,
   "metadata": {},
   "outputs": [
    {
     "name": "stderr",
     "output_type": "stream",
     "text": [
      "c:\\Users\\luisr\\anaconda3\\lib\\site-packages\\pandas\\core\\computation\\expressions.py:20: UserWarning: Pandas requires version '2.7.3' or newer of 'numexpr' (version '2.7.1' currently installed).\n",
      "  from pandas.core.computation.check import NUMEXPR_INSTALLED\n"
     ]
    }
   ],
   "source": [
    "import numpy as np, pandas as pd"
   ]
  },
  {
   "cell_type": "markdown",
   "metadata": {},
   "source": [
    "#### Reload labeled videos dataset"
   ]
  },
  {
   "cell_type": "code",
   "execution_count": 4,
   "metadata": {},
   "outputs": [
    {
     "data": {
      "text/html": [
       "<div>\n",
       "<style scoped>\n",
       "    .dataframe tbody tr th:only-of-type {\n",
       "        vertical-align: middle;\n",
       "    }\n",
       "\n",
       "    .dataframe tbody tr th {\n",
       "        vertical-align: top;\n",
       "    }\n",
       "\n",
       "    .dataframe thead th {\n",
       "        text-align: right;\n",
       "    }\n",
       "</style>\n",
       "<table border=\"1\" class=\"dataframe\">\n",
       "  <thead>\n",
       "    <tr style=\"text-align: right;\">\n",
       "      <th></th>\n",
       "      <th>blob_name</th>\n",
       "      <th>blob_size</th>\n",
       "      <th>bucket_name</th>\n",
       "      <th>file_name</th>\n",
       "      <th>code</th>\n",
       "      <th>n_folders</th>\n",
       "      <th>folder_structure</th>\n",
       "      <th>tag</th>\n",
       "    </tr>\n",
       "    <tr>\n",
       "      <th>timestamp</th>\n",
       "      <th></th>\n",
       "      <th></th>\n",
       "      <th></th>\n",
       "      <th></th>\n",
       "      <th></th>\n",
       "      <th></th>\n",
       "      <th></th>\n",
       "      <th></th>\n",
       "    </tr>\n",
       "  </thead>\n",
       "  <tbody>\n",
       "    <tr>\n",
       "      <th>2023-02-07 19:25:00</th>\n",
       "      <td>polygons/flood-unlabeled/1/1475/CODE1475 2023-...</td>\n",
       "      <td>206926</td>\n",
       "      <td>flood-video-collection</td>\n",
       "      <td>CODE1475 2023-02-07 19:25:00.mp4</td>\n",
       "      <td>1475</td>\n",
       "      <td>5</td>\n",
       "      <td>polygons/{type}/{polygon}/{code}</td>\n",
       "      <td>alagamento</td>\n",
       "    </tr>\n",
       "    <tr>\n",
       "      <th>2023-02-07 19:30:00</th>\n",
       "      <td>polygons/flood-unlabeled/1/1475/CODE1475 2023-...</td>\n",
       "      <td>261337</td>\n",
       "      <td>flood-video-collection</td>\n",
       "      <td>CODE1475 2023-02-07 19:30:00.mp4</td>\n",
       "      <td>1475</td>\n",
       "      <td>5</td>\n",
       "      <td>polygons/{type}/{polygon}/{code}</td>\n",
       "      <td>alagamento</td>\n",
       "    </tr>\n",
       "    <tr>\n",
       "      <th>2023-02-07 19:35:00</th>\n",
       "      <td>polygons/flood-unlabeled/1/1475/CODE1475 2023-...</td>\n",
       "      <td>234652</td>\n",
       "      <td>flood-video-collection</td>\n",
       "      <td>CODE1475 2023-02-07 19:35:00.mp4</td>\n",
       "      <td>1475</td>\n",
       "      <td>5</td>\n",
       "      <td>polygons/{type}/{polygon}/{code}</td>\n",
       "      <td>alagamento</td>\n",
       "    </tr>\n",
       "    <tr>\n",
       "      <th>2023-02-07 19:40:00</th>\n",
       "      <td>polygons/flood-unlabeled/1/1475/CODE1475 2023-...</td>\n",
       "      <td>287397</td>\n",
       "      <td>flood-video-collection</td>\n",
       "      <td>CODE1475 2023-02-07 19:40:00.mp4</td>\n",
       "      <td>1475</td>\n",
       "      <td>5</td>\n",
       "      <td>polygons/{type}/{polygon}/{code}</td>\n",
       "      <td>alagamento</td>\n",
       "    </tr>\n",
       "    <tr>\n",
       "      <th>2023-02-07 19:50:00</th>\n",
       "      <td>polygons/flood-unlabeled/1/1475/CODE1475 2023-...</td>\n",
       "      <td>211736</td>\n",
       "      <td>flood-video-collection</td>\n",
       "      <td>CODE1475 2023-02-07 19:50:00.mp4</td>\n",
       "      <td>1475</td>\n",
       "      <td>5</td>\n",
       "      <td>polygons/{type}/{polygon}/{code}</td>\n",
       "      <td>alagamento</td>\n",
       "    </tr>\n",
       "  </tbody>\n",
       "</table>\n",
       "</div>"
      ],
      "text/plain": [
       "                                                             blob_name   \n",
       "timestamp                                                                \n",
       "2023-02-07 19:25:00  polygons/flood-unlabeled/1/1475/CODE1475 2023-...  \\\n",
       "2023-02-07 19:30:00  polygons/flood-unlabeled/1/1475/CODE1475 2023-...   \n",
       "2023-02-07 19:35:00  polygons/flood-unlabeled/1/1475/CODE1475 2023-...   \n",
       "2023-02-07 19:40:00  polygons/flood-unlabeled/1/1475/CODE1475 2023-...   \n",
       "2023-02-07 19:50:00  polygons/flood-unlabeled/1/1475/CODE1475 2023-...   \n",
       "\n",
       "                     blob_size             bucket_name   \n",
       "timestamp                                                \n",
       "2023-02-07 19:25:00     206926  flood-video-collection  \\\n",
       "2023-02-07 19:30:00     261337  flood-video-collection   \n",
       "2023-02-07 19:35:00     234652  flood-video-collection   \n",
       "2023-02-07 19:40:00     287397  flood-video-collection   \n",
       "2023-02-07 19:50:00     211736  flood-video-collection   \n",
       "\n",
       "                                            file_name  code  n_folders   \n",
       "timestamp                                                                \n",
       "2023-02-07 19:25:00  CODE1475 2023-02-07 19:25:00.mp4  1475          5  \\\n",
       "2023-02-07 19:30:00  CODE1475 2023-02-07 19:30:00.mp4  1475          5   \n",
       "2023-02-07 19:35:00  CODE1475 2023-02-07 19:35:00.mp4  1475          5   \n",
       "2023-02-07 19:40:00  CODE1475 2023-02-07 19:40:00.mp4  1475          5   \n",
       "2023-02-07 19:50:00  CODE1475 2023-02-07 19:50:00.mp4  1475          5   \n",
       "\n",
       "                                     folder_structure         tag  \n",
       "timestamp                                                          \n",
       "2023-02-07 19:25:00  polygons/{type}/{polygon}/{code}  alagamento  \n",
       "2023-02-07 19:30:00  polygons/{type}/{polygon}/{code}  alagamento  \n",
       "2023-02-07 19:35:00  polygons/{type}/{polygon}/{code}  alagamento  \n",
       "2023-02-07 19:40:00  polygons/{type}/{polygon}/{code}  alagamento  \n",
       "2023-02-07 19:50:00  polygons/{type}/{polygon}/{code}  alagamento  "
      ]
     },
     "execution_count": 4,
     "metadata": {},
     "output_type": "execute_result"
    }
   ],
   "source": [
    "videos = pd.read_csv('Dados/Rotulos/1475_2023-02-07.csv')\n",
    "\n",
    "videos['timestamp'] = pd.to_datetime(videos['timestamp'])\n",
    "videos = videos.set_index('timestamp', drop=True).sort_index()\n",
    "\n",
    "videos.head()"
   ]
  },
  {
   "cell_type": "markdown",
   "metadata": {},
   "source": [
    "#### Bytes of largest videos"
   ]
  },
  {
   "cell_type": "code",
   "execution_count": 6,
   "metadata": {},
   "outputs": [
    {
     "data": {
      "image/png": "[encoded data removed]",
      "text/plain": [
       "<Figure size 432x288 with 1 Axes>"
      ]
     },
     "metadata": {
      "needs_background": "light"
     },
     "output_type": "display_data"
    }
   ],
   "source": [
    "ax = videos['blob_size'].sort_values(ascending=True).tail(10).plot.bar(\n",
    "    ylabel='Bytes', xlabel='Video File', title='Size of Largest Video Files'\n",
    ")"
   ]
  }
 ],
 "metadata": {
  "kernelspec": {
   "display_name": "Python 3",
   "language": "python",
   "name": "python3"
  },
  "language_info": {
   "codemirror_mode": {
    "name": "ipython",
    "version": 3
   },
   "file_extension": ".py",
   "mimetype": "text/x-python",
   "name": "python",
   "nbconvert_exporter": "python",
   "pygments_lexer": "ipython3",
   "version": "3.8.5"
  }
 },
 "nbformat": 4,
 "nbformat_minor": 4
}
