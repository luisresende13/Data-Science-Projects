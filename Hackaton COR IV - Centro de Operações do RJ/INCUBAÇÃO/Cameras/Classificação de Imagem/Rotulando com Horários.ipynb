{
 "cells": [
  {
   "cell_type": "markdown",
   "metadata": {},
   "source": [
    "# Time stamp based video labeling from single camera"
   ]
  },
  {
   "cell_type": "code",
   "execution_count": 1,
   "metadata": {},
   "outputs": [
    {
     "name": "stdout",
     "output_type": "stream",
     "text": [
      "C:\\Users\\luisr\\Desktop\\Repositories\\Data Science Projects\\Hackaton COR IV - Centro de Operações do RJ\\INCUBAÇÃO\\Cameras\n"
     ]
    }
   ],
   "source": [
    "cd ../"
   ]
  },
  {
   "cell_type": "markdown",
   "metadata": {},
   "source": [
    "### Code reference"
   ]
  },
  {
   "cell_type": "markdown",
   "metadata": {},
   "source": [
    "#### Code preference: '1649','1648', # ignore '3261','1392'\n",
    "\n",
    "#### Good visibility: 1646, 1475"
   ]
  },
  {
   "cell_type": "markdown",
   "metadata": {},
   "source": [
    "### Function to label dataset of videos or images based on labels' timestamps"
   ]
  },
  {
   "cell_type": "code",
   "execution_count": 2,
   "metadata": {},
   "outputs": [],
   "source": [
    "import numpy as np, pandas as pd\n",
    "\n",
    "def label_videos(videos, dt_col, label_params, partially_labeled_videos_path=None):\n",
    "\n",
    "    # create video dataset copy for labeling\n",
    "\n",
    "    videos_copy = videos.copy()\n",
    "\n",
    "    for params in label_params:\n",
    "\n",
    "        # define parameters\n",
    "\n",
    "        label_series = params['label_series']\n",
    "        query = params['query'] if 'query' in params else {}\n",
    "\n",
    "        # take video dataset\n",
    "\n",
    "        df = videos.copy()\n",
    "\n",
    "        # format labels' timestamps\n",
    "\n",
    "        label_series = pd.Series(label_series)\n",
    "        label_series.index = pd.to_datetime(label_series.index)\n",
    "        label_series.sort_index(inplace=True)\n",
    "        stamps = label_series.index\n",
    "        n_stamps = len(stamps)\n",
    "\n",
    "        # query video dataset\n",
    "\n",
    "        for key in query: # accepts either direct value or list\n",
    "            values = query[key] if type(query[key]) is list else [query[key]]\n",
    "            df = df[df[key].isin(values)]\n",
    "\n",
    "        # cut video dataset to enclose provided timestamps\n",
    "\n",
    "        start, end = stamps.min(), stamps.max()\n",
    "        df = df[(df[dt_col] >= start) & (df[dt_col] <= end)]\n",
    "\n",
    "        # generated labels by timestamp interval\n",
    "\n",
    "        labels = pd.Series(np.nan, index=df.index) # np.nan series with the index of the filtered dataset\n",
    "\n",
    "        for i in range(n_stamps - 1):\n",
    "            t1, t2 = stamps[i], stamps[i + 1] # label start and end timestamps\n",
    "            msk_t = (df[dt_col] >= t1) & (df[dt_col] <= t2)\n",
    "            labels[msk_t] = label_series.loc[t1]\n",
    "\n",
    "        # create columns with labels (for the subset and complete datasets)\n",
    "\n",
    "        df['tag'] = labels\n",
    "        videos_copy.loc[df.index, 'tag'] = df['tag']\n",
    "\n",
    "        # save videos partial dataset as csv (completely labeled)\n",
    "        \n",
    "        if 'path' in params:\n",
    "            path = params['path']\n",
    "            df.to_csv(path, index=False)\n",
    "\n",
    "        # display label count result\n",
    "\n",
    "        display(df['tag'].value_counts().to_frame(f'Tag count · code: {query[\"code\"]}'))\n",
    "\n",
    "    # save videos complete dataset as csv (partially labeled)\n",
    "\n",
    "    if partially_labeled_videos_path is not None:\n",
    "        videos_copy.to_csv(partially_labeled_videos_path, index=False)\n",
    "        \n",
    "    return videos_copy"
   ]
  },
  {
   "cell_type": "markdown",
   "metadata": {},
   "source": [
    "### Load videos and images control datasets"
   ]
  },
  {
   "cell_type": "code",
   "execution_count": 3,
   "metadata": {},
   "outputs": [],
   "source": [
    "import numpy as np, pandas as pd\n",
    "\n",
    "# load videos dataset\n",
    "\n",
    "video_control_path = 'Dados/Controle de vídeos/videos_control_2023-04-29.csv'\n",
    "videos = pd.read_csv(video_control_path)\n",
    "\n",
    "# load images dataset\n",
    "\n",
    "image_control_path = 'Dados/Controle de vídeos/images_control_2023-04-29.csv'\n",
    "images = pd.read_csv(image_control_path)\n",
    "\n",
    "# data preprocessing\n",
    "videos['timestamp'] = pd.to_datetime(videos['timestamp'])\n",
    "images['timestamp'] = pd.to_datetime(images['timestamp'])\n",
    "images['image_timestamp'] = pd.to_datetime(images['image_timestamp'])"
   ]
  },
  {
   "cell_type": "markdown",
   "metadata": {},
   "source": [
    "### Define video/image  labels' timestamps and parameters"
   ]
  },
  {
   "cell_type": "code",
   "execution_count": 4,
   "metadata": {},
   "outputs": [],
   "source": [
    "# path parameters\n",
    "\n",
    "# partially_labeled_videos_path = 'Dados/Rotulados/videos_control_labeled_2023-04-29.csv'\n",
    "# partially_labeled_imags_path = 'Dados/Rotulados/images_control_labeled_2023-04-29.csv'\n",
    "\n",
    "# label parameters\n",
    "\n",
    "label_params = [{\n",
    "    'path': 'Dados/Rotulados/videos_labeled_CODE1648_2023-04-29.csv',\n",
    "    'query': {\n",
    "        'code': 1648,\n",
    "        'folder_structure': [\n",
    "            '{source}/{type}/{event}/{code}',\n",
    "            'polygons/{type}/{polygon}/{code}',\n",
    "        ]\n",
    "    },\n",
    "    'label_series': { # timestamps below should enclose the timestamps of all videos matching `query`\n",
    "        '2023-02-07 19:25:00': 'poça', # start 07/02\n",
    "        '2023-02-07 19:35:00': 'lâmina',\n",
    "        '2023-02-07 19:54:00': 'bolsão',\n",
    "        '2023-02-07 20:00:00': 'alagamento',\n",
    "        '2023-02-07 20:12:00': 'bolsão', # !!\n",
    "        '2023-02-07 20:13:00': 'poça', # !!\n",
    "        '2023-02-07 21:50:00': 'poça',\n",
    "        '2023-02-07 22:46:00': 'poça', # end 07/02\n",
    "        '2023-02-08 00:35:00': 'poça', # start 08/02 !!\n",
    "        '2023-02-08 06:00:00': 'normalidade',\n",
    "        '2023-02-08 09:45:00': 'normalidade', # end 08/02\n",
    "        '2023-02-14 08:42:00': 'normalidade', # start 14/02\n",
    "        '2023-02-14 11:45:00': 'normalidade', # end 14/02\n",
    "    }\n",
    "}, {\n",
    "    'path': 'Dados/Rotulados/videos_labeled_CODE1649_2023-04-29.csv',\n",
    "    'query': {\n",
    "        'code': 1649,\n",
    "        'folder_structure': [\n",
    "            '{type}/{subtype}/{code}',\n",
    "            'polygons/{type}/{polygon}/{code}',\n",
    "        ]\n",
    "    },\n",
    "    'label_series': { # timestamps below should enclose the timestamps of all videos matching `query`\n",
    "        '2023-02-07 19:25:00': 'poça', # start 07/02\n",
    "        '2023-02-07 19:35:00': 'lâmina',\n",
    "        '2023-02-07 20:00:00': 'bolsão',\n",
    "        '2023-02-07 20:03:00': 'alagamento',\n",
    "        '2023-02-07 20:11:00': 'bolsão',\n",
    "        '2023-02-07 20:14:00': 'lâmina',\n",
    "        '2023-02-07 21:35:00': 'normalidade',\n",
    "        '2023-02-07 22:48:00': 'normalidade', # end 07/02\n",
    "        '2023-02-08 00:35:00': 'normalidade', # start 08/02\n",
    "        '2023-02-08 09:51:00': 'normalidade',\n",
    "        '2023-02-08 15:55:00': 'normalidade',\n",
    "        '2023-02-08 16:20:00': 'normalidade', # end 08/02\n",
    "        '2023-02-14 08:42:00': 'normalidade', # start 14/02\n",
    "        '2023-02-14 11:45:00': 'normalidade'\n",
    "    }\n",
    "}, {\n",
    "    'path': 'Dados/Rotulados/videos_labeled_CODE1475_2023-04-29.csv',\n",
    "    'query': {\n",
    "        'code': 1475,\n",
    "        'folder_structure': [\n",
    "            '{source}/{type}/{event}/{code}',\n",
    "            'polygons/{type}/{polygon}/{code}',\n",
    "            'polygons/{source}/{type}/{polygon}/{code}',\n",
    "        ]\n",
    "    },\n",
    "    'label_series': { # timestamps below should enclose the timestamps of all videos matching `query`\n",
    "        '2023-02-07 19:25:00': 'alagamento', # start 07/02\n",
    "        '2023-02-08 00:35:00': 'bolsão', # start 08/02\n",
    "        '2023-02-08 01:20:00': 'lâmina',\n",
    "        '2023-02-08 01:52:30': 'poça',\n",
    "        '2023-02-08 02:32:30': 'normalidade',\n",
    "        '2023-02-11 20:50:00': 'alagamento', # start 11/02\n",
    "        '2023-02-11 20:51:00': 'normalidade', # end 11/02\n",
    "        '2023-03-02 00:00:00': 'normalidade', # after end of 2023-03-01 ?\n",
    "    }\n",
    "}, {\n",
    "    'path': 'Dados/Rotulados/videos_labeled_CODE1487_2023-04-29.csv',\n",
    "    'query': {\n",
    "        'code': 1487,\n",
    "        'folder_structure': [\n",
    "            '{type}/{subtype}/{code}',\n",
    "            'polygons/{type}/{polygon}/{code}',\n",
    "        ]\n",
    "    }, # ****************** RECHECK FOR MISSING HOLES BETWEEN VIDEOS *******************************\n",
    "    'label_series': { # timestamps below should enclose the timestamps of all videos matching `query`\n",
    "        '2023-02-07 19:25:00': 0.2, # right before start of 2023-02-07 video\n",
    "        '2023-02-07 19:49:55': 1.0,\n",
    "        '2023-02-07 20:09:30': 0.8,\n",
    "        '2023-02-07 20:10:35': 0.6,\n",
    "        '2023-02-07 20:11:50': 0.4,\n",
    "        '2023-02-07 20:14:20': 0.2,\n",
    "        '2023-02-07 22:35:00': 0.0, # right after end of 2023-02-07 video\n",
    "        '2023-02-08 01:09:55': 0.0, # right before start of 2023-02-08 video\n",
    "        '2023-02-08 10:00:00': 0.0, # right after end of 2023-02-08 video\n",
    "        '2023-02-08 15:50:00': 0.0, # right before start of second 2023-02-08 video\n",
    "        '2023-02-08 16:25:00': 0.0, # right after end of second 2023-02-08 video\n",
    "        '2023-04-07 11:35:00': 0.0, # right before start of 2023-04-07 video\n",
    "        '2023-04-07 20:56:00': 0.0, # right after end of 2023-04-07 video\n",
    "        '2023-04-07 21:04:00': 0.0, # right before start of second 2023-04-07 video\n",
    "        '2023-04-07 23:56:00': 0.0, # right after end of second 2023-04-07 video\n",
    "        '2023-04-08 00:00:00': 0.0, # right before start of 2023-04-08 video\n",
    "        '2023-04-08 03:19:55': 0.2,\n",
    "        '2023-04-08 03:39:55': 0.4,\n",
    "        '2023-04-08 03:44:55': 0.6,\n",
    "        '2023-04-08 04:14:55': 0.4,\n",
    "        '2023-04-08 04:24:55': 0.2,\n",
    "        '2023-04-08 05:14:55': 0.0,\n",
    "        '2023-04-08 06:14:55': 0.2,\n",
    "        '2023-04-08 06:39:55': 0.0,\n",
    "        '2023-04-08 06:49:55': 0.2,\n",
    "        '2023-04-08 07:14:55': 0.0,\n",
    "        '2023-04-08 07:59:55': 0.2,\n",
    "        '2023-04-08 10:14:55': 0.0,\n",
    "    }\n",
    "}]"
   ]
  },
  {
   "cell_type": "markdown",
   "metadata": {
    "tags": []
   },
   "source": [
    "### Label videos from multiple cameras  based on labels' timestamps"
   ]
  },
  {
   "cell_type": "code",
   "execution_count": 5,
   "metadata": {},
   "outputs": [
    {
     "data": {
      "text/html": [
       "<div>\n",
       "<style scoped>\n",
       "    .dataframe tbody tr th:only-of-type {\n",
       "        vertical-align: middle;\n",
       "    }\n",
       "\n",
       "    .dataframe tbody tr th {\n",
       "        vertical-align: top;\n",
       "    }\n",
       "\n",
       "    .dataframe thead th {\n",
       "        text-align: right;\n",
       "    }\n",
       "</style>\n",
       "<table border=\"1\" class=\"dataframe\">\n",
       "  <thead>\n",
       "    <tr style=\"text-align: right;\">\n",
       "      <th></th>\n",
       "      <th>Tag count · code: 1648</th>\n",
       "    </tr>\n",
       "  </thead>\n",
       "  <tbody>\n",
       "    <tr>\n",
       "      <th>normalidade</th>\n",
       "      <td>114</td>\n",
       "    </tr>\n",
       "    <tr>\n",
       "      <th>poça</th>\n",
       "      <td>78</td>\n",
       "    </tr>\n",
       "    <tr>\n",
       "      <th>lâmina</th>\n",
       "      <td>3</td>\n",
       "    </tr>\n",
       "    <tr>\n",
       "      <th>alagamento</th>\n",
       "      <td>3</td>\n",
       "    </tr>\n",
       "    <tr>\n",
       "      <th>bolsão</th>\n",
       "      <td>1</td>\n",
       "    </tr>\n",
       "  </tbody>\n",
       "</table>\n",
       "</div>"
      ],
      "text/plain": [
       "             Tag count · code: 1648\n",
       "normalidade                     114\n",
       "poça                             78\n",
       "lâmina                            3\n",
       "alagamento                        3\n",
       "bolsão                            1"
      ]
     },
     "metadata": {},
     "output_type": "display_data"
    },
    {
     "data": {
      "text/html": [
       "<div>\n",
       "<style scoped>\n",
       "    .dataframe tbody tr th:only-of-type {\n",
       "        vertical-align: middle;\n",
       "    }\n",
       "\n",
       "    .dataframe tbody tr th {\n",
       "        vertical-align: top;\n",
       "    }\n",
       "\n",
       "    .dataframe thead th {\n",
       "        text-align: right;\n",
       "    }\n",
       "</style>\n",
       "<table border=\"1\" class=\"dataframe\">\n",
       "  <thead>\n",
       "    <tr style=\"text-align: right;\">\n",
       "      <th></th>\n",
       "      <th>Tag count · code: 1649</th>\n",
       "    </tr>\n",
       "  </thead>\n",
       "  <tbody>\n",
       "    <tr>\n",
       "      <th>normalidade</th>\n",
       "      <td>186</td>\n",
       "    </tr>\n",
       "    <tr>\n",
       "      <th>lâmina</th>\n",
       "      <td>8</td>\n",
       "    </tr>\n",
       "    <tr>\n",
       "      <th>poça</th>\n",
       "      <td>2</td>\n",
       "    </tr>\n",
       "    <tr>\n",
       "      <th>alagamento</th>\n",
       "      <td>2</td>\n",
       "    </tr>\n",
       "    <tr>\n",
       "      <th>bolsão</th>\n",
       "      <td>1</td>\n",
       "    </tr>\n",
       "  </tbody>\n",
       "</table>\n",
       "</div>"
      ],
      "text/plain": [
       "             Tag count · code: 1649\n",
       "normalidade                     186\n",
       "lâmina                            8\n",
       "poça                              2\n",
       "alagamento                        2\n",
       "bolsão                            1"
      ]
     },
     "metadata": {},
     "output_type": "display_data"
    },
    {
     "data": {
      "text/html": [
       "<div>\n",
       "<style scoped>\n",
       "    .dataframe tbody tr th:only-of-type {\n",
       "        vertical-align: middle;\n",
       "    }\n",
       "\n",
       "    .dataframe tbody tr th {\n",
       "        vertical-align: top;\n",
       "    }\n",
       "\n",
       "    .dataframe thead th {\n",
       "        text-align: right;\n",
       "    }\n",
       "</style>\n",
       "<table border=\"1\" class=\"dataframe\">\n",
       "  <thead>\n",
       "    <tr style=\"text-align: right;\">\n",
       "      <th></th>\n",
       "      <th>Tag count · code: 1475</th>\n",
       "    </tr>\n",
       "  </thead>\n",
       "  <tbody>\n",
       "    <tr>\n",
       "      <th>normalidade</th>\n",
       "      <td>120</td>\n",
       "    </tr>\n",
       "    <tr>\n",
       "      <th>alagamento</th>\n",
       "      <td>28</td>\n",
       "    </tr>\n",
       "    <tr>\n",
       "      <th>poça</th>\n",
       "      <td>8</td>\n",
       "    </tr>\n",
       "    <tr>\n",
       "      <th>lâmina</th>\n",
       "      <td>5</td>\n",
       "    </tr>\n",
       "    <tr>\n",
       "      <th>bolsão</th>\n",
       "      <td>4</td>\n",
       "    </tr>\n",
       "  </tbody>\n",
       "</table>\n",
       "</div>"
      ],
      "text/plain": [
       "             Tag count · code: 1475\n",
       "normalidade                     120\n",
       "alagamento                       28\n",
       "poça                              8\n",
       "lâmina                            5\n",
       "bolsão                            4"
      ]
     },
     "metadata": {},
     "output_type": "display_data"
    },
    {
     "data": {
      "text/html": [
       "<div>\n",
       "<style scoped>\n",
       "    .dataframe tbody tr th:only-of-type {\n",
       "        vertical-align: middle;\n",
       "    }\n",
       "\n",
       "    .dataframe tbody tr th {\n",
       "        vertical-align: top;\n",
       "    }\n",
       "\n",
       "    .dataframe thead th {\n",
       "        text-align: right;\n",
       "    }\n",
       "</style>\n",
       "<table border=\"1\" class=\"dataframe\">\n",
       "  <thead>\n",
       "    <tr style=\"text-align: right;\">\n",
       "      <th></th>\n",
       "      <th>Tag count · code: 1487</th>\n",
       "    </tr>\n",
       "  </thead>\n",
       "  <tbody>\n",
       "    <tr>\n",
       "      <th>0.0</th>\n",
       "      <td>276</td>\n",
       "    </tr>\n",
       "    <tr>\n",
       "      <th>0.2</th>\n",
       "      <td>70</td>\n",
       "    </tr>\n",
       "    <tr>\n",
       "      <th>0.6</th>\n",
       "      <td>6</td>\n",
       "    </tr>\n",
       "    <tr>\n",
       "      <th>1.0</th>\n",
       "      <td>5</td>\n",
       "    </tr>\n",
       "    <tr>\n",
       "      <th>0.4</th>\n",
       "      <td>3</td>\n",
       "    </tr>\n",
       "  </tbody>\n",
       "</table>\n",
       "</div>"
      ],
      "text/plain": [
       "     Tag count · code: 1487\n",
       "0.0                     276\n",
       "0.2                      70\n",
       "0.6                       6\n",
       "1.0                       5\n",
       "0.4                       3"
      ]
     },
     "metadata": {},
     "output_type": "display_data"
    }
   ],
   "source": [
    "control = videos.copy()\n",
    "dt_col = 'timestamp'\n",
    "partially_labeled_videos_path = 'Dados/Rotulados/videos_control_labeled_2023-04-29.csv'\n",
    "\n",
    "videos_labeled = label_videos(control, dt_col, label_params, partially_labeled_videos_path)"
   ]
  },
  {
   "cell_type": "markdown",
   "metadata": {
    "tags": []
   },
   "source": [
    "### Label images from multiple cameras based on labels' timestamps"
   ]
  },
  {
   "cell_type": "code",
   "execution_count": 6,
   "metadata": {},
   "outputs": [
    {
     "data": {
      "text/html": [
       "<div>\n",
       "<style scoped>\n",
       "    .dataframe tbody tr th:only-of-type {\n",
       "        vertical-align: middle;\n",
       "    }\n",
       "\n",
       "    .dataframe tbody tr th {\n",
       "        vertical-align: top;\n",
       "    }\n",
       "\n",
       "    .dataframe thead th {\n",
       "        text-align: right;\n",
       "    }\n",
       "</style>\n",
       "<table border=\"1\" class=\"dataframe\">\n",
       "  <thead>\n",
       "    <tr style=\"text-align: right;\">\n",
       "      <th></th>\n",
       "      <th>Tag count · code: 1648</th>\n",
       "    </tr>\n",
       "  </thead>\n",
       "  <tbody>\n",
       "    <tr>\n",
       "      <th>poça</th>\n",
       "      <td>4613</td>\n",
       "    </tr>\n",
       "    <tr>\n",
       "      <th>normalidade</th>\n",
       "      <td>2664</td>\n",
       "    </tr>\n",
       "    <tr>\n",
       "      <th>alagamento</th>\n",
       "      <td>647</td>\n",
       "    </tr>\n",
       "    <tr>\n",
       "      <th>bolsão</th>\n",
       "      <td>200</td>\n",
       "    </tr>\n",
       "    <tr>\n",
       "      <th>lâmina</th>\n",
       "      <td>26</td>\n",
       "    </tr>\n",
       "  </tbody>\n",
       "</table>\n",
       "</div>"
      ],
      "text/plain": [
       "             Tag count · code: 1648\n",
       "poça                           4613\n",
       "normalidade                    2664\n",
       "alagamento                      647\n",
       "bolsão                          200\n",
       "lâmina                           26"
      ]
     },
     "metadata": {},
     "output_type": "display_data"
    },
    {
     "data": {
      "text/html": [
       "<div>\n",
       "<style scoped>\n",
       "    .dataframe tbody tr th:only-of-type {\n",
       "        vertical-align: middle;\n",
       "    }\n",
       "\n",
       "    .dataframe tbody tr th {\n",
       "        vertical-align: top;\n",
       "    }\n",
       "\n",
       "    .dataframe thead th {\n",
       "        text-align: right;\n",
       "    }\n",
       "</style>\n",
       "<table border=\"1\" class=\"dataframe\">\n",
       "  <thead>\n",
       "    <tr style=\"text-align: right;\">\n",
       "      <th></th>\n",
       "      <th>Tag count · code: 1649</th>\n",
       "    </tr>\n",
       "  </thead>\n",
       "  <tbody>\n",
       "    <tr>\n",
       "      <th>normalidade</th>\n",
       "      <td>6893</td>\n",
       "    </tr>\n",
       "    <tr>\n",
       "      <th>bolsão</th>\n",
       "      <td>560</td>\n",
       "    </tr>\n",
       "    <tr>\n",
       "      <th>alagamento</th>\n",
       "      <td>449</td>\n",
       "    </tr>\n",
       "    <tr>\n",
       "      <th>lâmina</th>\n",
       "      <td>419</td>\n",
       "    </tr>\n",
       "    <tr>\n",
       "      <th>poça</th>\n",
       "      <td>18</td>\n",
       "    </tr>\n",
       "  </tbody>\n",
       "</table>\n",
       "</div>"
      ],
      "text/plain": [
       "             Tag count · code: 1649\n",
       "normalidade                    6893\n",
       "bolsão                          560\n",
       "alagamento                      449\n",
       "lâmina                          419\n",
       "poça                             18"
      ]
     },
     "metadata": {},
     "output_type": "display_data"
    },
    {
     "data": {
      "text/html": [
       "<div>\n",
       "<style scoped>\n",
       "    .dataframe tbody tr th:only-of-type {\n",
       "        vertical-align: middle;\n",
       "    }\n",
       "\n",
       "    .dataframe tbody tr th {\n",
       "        vertical-align: top;\n",
       "    }\n",
       "\n",
       "    .dataframe thead th {\n",
       "        text-align: right;\n",
       "    }\n",
       "</style>\n",
       "<table border=\"1\" class=\"dataframe\">\n",
       "  <thead>\n",
       "    <tr style=\"text-align: right;\">\n",
       "      <th></th>\n",
       "      <th>Tag count · code: 1475</th>\n",
       "    </tr>\n",
       "  </thead>\n",
       "  <tbody>\n",
       "    <tr>\n",
       "      <th>normalidade</th>\n",
       "      <td>4145</td>\n",
       "    </tr>\n",
       "    <tr>\n",
       "      <th>alagamento</th>\n",
       "      <td>3553</td>\n",
       "    </tr>\n",
       "    <tr>\n",
       "      <th>poça</th>\n",
       "      <td>296</td>\n",
       "    </tr>\n",
       "    <tr>\n",
       "      <th>lâmina</th>\n",
       "      <td>179</td>\n",
       "    </tr>\n",
       "    <tr>\n",
       "      <th>bolsão</th>\n",
       "      <td>123</td>\n",
       "    </tr>\n",
       "  </tbody>\n",
       "</table>\n",
       "</div>"
      ],
      "text/plain": [
       "             Tag count · code: 1475\n",
       "normalidade                    4145\n",
       "alagamento                     3553\n",
       "poça                            296\n",
       "lâmina                          179\n",
       "bolsão                          123"
      ]
     },
     "metadata": {},
     "output_type": "display_data"
    },
    {
     "data": {
      "text/html": [
       "<div>\n",
       "<style scoped>\n",
       "    .dataframe tbody tr th:only-of-type {\n",
       "        vertical-align: middle;\n",
       "    }\n",
       "\n",
       "    .dataframe tbody tr th {\n",
       "        vertical-align: top;\n",
       "    }\n",
       "\n",
       "    .dataframe thead th {\n",
       "        text-align: right;\n",
       "    }\n",
       "</style>\n",
       "<table border=\"1\" class=\"dataframe\">\n",
       "  <thead>\n",
       "    <tr style=\"text-align: right;\">\n",
       "      <th></th>\n",
       "      <th>Tag count · code: 1487</th>\n",
       "    </tr>\n",
       "  </thead>\n",
       "  <tbody>\n",
       "    <tr>\n",
       "      <th>0.0</th>\n",
       "      <td>7310</td>\n",
       "    </tr>\n",
       "    <tr>\n",
       "      <th>0.2</th>\n",
       "      <td>2542</td>\n",
       "    </tr>\n",
       "    <tr>\n",
       "      <th>0.4</th>\n",
       "      <td>585</td>\n",
       "    </tr>\n",
       "    <tr>\n",
       "      <th>0.6</th>\n",
       "      <td>495</td>\n",
       "    </tr>\n",
       "    <tr>\n",
       "      <th>1.0</th>\n",
       "      <td>227</td>\n",
       "    </tr>\n",
       "    <tr>\n",
       "      <th>0.8</th>\n",
       "      <td>195</td>\n",
       "    </tr>\n",
       "  </tbody>\n",
       "</table>\n",
       "</div>"
      ],
      "text/plain": [
       "     Tag count · code: 1487\n",
       "0.0                    7310\n",
       "0.2                    2542\n",
       "0.4                     585\n",
       "0.6                     495\n",
       "1.0                     227\n",
       "0.8                     195"
      ]
     },
     "metadata": {},
     "output_type": "display_data"
    }
   ],
   "source": [
    "control = images.copy()\n",
    "dt_col = 'image_timestamp'\n",
    "partially_labeled_images_path = 'Dados/Rotulados/images_control_labeled_2023-04-29.csv'\n",
    "\n",
    "# correct image labeling path parameter\n",
    "images_label_params = label_params.copy()\n",
    "for params in images_label_params:\n",
    "    params['path'] = params['path'].replace('videos', 'images')\n",
    "\n",
    "images_labeled = label_videos(control, dt_col, images_label_params, partially_labeled_images_path)"
   ]
  },
  {
   "cell_type": "markdown",
   "metadata": {},
   "source": [
    "---\n",
    "## Exploratory data analysis "
   ]
  },
  {
   "cell_type": "code",
   "execution_count": 10,
   "metadata": {},
   "outputs": [
    {
     "name": "stdout",
     "output_type": "stream",
     "text": [
      "C:\\Users\\luisr\\Desktop\\Repositories\\Data Science Projects\\Hackaton COR IV - Centro de Operações do RJ\\INCUBAÇÃO\n"
     ]
    }
   ],
   "source": [
    "cd ../"
   ]
  },
  {
   "cell_type": "code",
   "execution_count": 11,
   "metadata": {},
   "outputs": [],
   "source": [
    "import numpy as np, pandas as pd"
   ]
  },
  {
   "cell_type": "markdown",
   "metadata": {},
   "source": [
    "### Analysis of labeled videos and images"
   ]
  },
  {
   "cell_type": "markdown",
   "metadata": {},
   "source": [
    "#### Reload videos and image labeled datasets"
   ]
  },
  {
   "cell_type": "code",
   "execution_count": 13,
   "metadata": {
    "jp-MarkdownHeadingCollapsed": true,
    "tags": []
   },
   "outputs": [
    {
     "name": "stderr",
     "output_type": "stream",
     "text": [
      "C:\\Users\\Public\\Documents\\Wondershare\\CreatorTemp\\ipykernel_16964\\758651742.py:2: DtypeWarning: Columns (9) have mixed types. Specify dtype option on import or set low_memory=False.\n",
      "  images_labeled = pd.read_csv('Dados/Rotulados/images_control_labeled_2023-04-29.csv')\n"
     ]
    }
   ],
   "source": [
    "videos_labeled = pd.read_csv('Dados/Rotulados/videos_control_labeled_2023-04-29.csv')\n",
    "images_labeled = pd.read_csv('Dados/Rotulados/images_control_labeled_2023-04-29.csv')\n",
    "\n",
    "# datetime conversion\n",
    "videos_labeled['timestamp'] = pd.to_datetime(videos_labeled['timestamp'])\n",
    "images_labeled['timestamp'] = pd.to_datetime(images_labeled['timestamp'])\n",
    "images_labeled['image_timestamp'] = pd.to_datetime(images_labeled['image_timestamp'])\n",
    "\n",
    "# set datetime index\n",
    "videos_labeled = videos_labeled.set_index('timestamp', drop=True).sort_index()\n",
    "\n",
    "# images_labeled.head()"
   ]
  },
  {
   "cell_type": "markdown",
   "metadata": {},
   "source": [
    "#### Folder structure count"
   ]
  },
  {
   "cell_type": "code",
   "execution_count": 14,
   "metadata": {},
   "outputs": [
    {
     "data": {
      "text/plain": [
       "n_folders  folder_structure                         \n",
       "2          {type}/{code}                                21182\n",
       "3          polygons/{type}/{code}                          69\n",
       "           {type}/{subtype}/{code}                        478\n",
       "4          polygons/{type}/{polygon}/{code}             11393\n",
       "           {source}/{type}/{event}/{code}               10192\n",
       "           {type}/{subtype}/{code}                         89\n",
       "5          polygons/{source}/{type}/{polygon}/{code}      545\n",
       "7          {type}/{subtype}/{code}                         88\n",
       "dtype: int64"
      ]
     },
     "execution_count": 14,
     "metadata": {},
     "output_type": "execute_result"
    }
   ],
   "source": [
    "videos_labeled[['n_folders', 'folder_structure']].value_counts().sort_index()"
   ]
  },
  {
   "cell_type": "code",
   "execution_count": 15,
   "metadata": {},
   "outputs": [
    {
     "data": {
      "text/plain": [
       "n_folders  folder_structure                         \n",
       "3          {type}/{subtype}/{code}                       20473\n",
       "4          polygons/{type}/{polygon}/{code}             496604\n",
       "           {source}/{type}/{event}/{code}               138708\n",
       "           {type}/{subtype}/{code}                        3727\n",
       "5          polygons/{source}/{type}/{polygon}/{code}     19127\n",
       "dtype: int64"
      ]
     },
     "execution_count": 15,
     "metadata": {},
     "output_type": "execute_result"
    }
   ],
   "source": [
    "images_labeled[['n_folders', 'folder_structure']].value_counts().sort_index()"
   ]
  },
  {
   "cell_type": "markdown",
   "metadata": {},
   "source": [
    "### Analysis by camera"
   ]
  },
  {
   "cell_type": "markdown",
   "metadata": {},
   "source": [
    "#### Reload labeled dataset by camera code"
   ]
  },
  {
   "cell_type": "code",
   "execution_count": null,
   "metadata": {
    "jp-MarkdownHeadingCollapsed": true,
    "tags": []
   },
   "outputs": [],
   "source": [
    "videos = pd.read_csv('Dados/Rotulos/1475_2023-02-07.csv')\n",
    "\n",
    "videos['timestamp'] = pd.to_datetime(videos['timestamp'])\n",
    "videos = videos.set_index('timestamp', drop=True).sort_index()\n",
    "\n",
    "videos.head()"
   ]
  },
  {
   "cell_type": "markdown",
   "metadata": {},
   "source": [
    "#### Bytes of largest videos"
   ]
  },
  {
   "cell_type": "code",
   "execution_count": 6,
   "metadata": {},
   "outputs": [
    {
     "data": {
      "image/png": "[encoded data removed]",
      "text/plain": [
       "<Figure size 432x288 with 1 Axes>"
      ]
     },
     "metadata": {
      "needs_background": "light"
     },
     "output_type": "display_data"
    }
   ],
   "source": [
    "ax = videos['blob_size'].sort_values(ascending=True).tail(10).plot.bar(\n",
    "    ylabel='Bytes', xlabel='Video File', title='Size of Largest Video Files'\n",
    ")"
   ]
  }
 ],
 "metadata": {
  "kernelspec": {
   "display_name": "Python 3 (ipykernel)",
   "language": "python",
   "name": "python3"
  },
  "language_info": {
   "codemirror_mode": {
    "name": "ipython",
    "version": 3
   },
   "file_extension": ".py",
   "mimetype": "text/x-python",
   "name": "python",
   "nbconvert_exporter": "python",
   "pygments_lexer": "ipython3",
   "version": "3.10.9"
  }
 },
 "nbformat": 4,
 "nbformat_minor": 4
}
