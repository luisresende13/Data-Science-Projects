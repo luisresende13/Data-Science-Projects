{
 "cells": [
  {
   "cell_type": "code",
   "execution_count": 1,
   "metadata": {},
   "outputs": [
    {
     "name": "stderr",
     "output_type": "stream",
     "text": [
      "C:\\Users\\luisr\\AppData\\Roaming\\Python\\Python38\\site-packages\\pandas\\core\\computation\\expressions.py:21: UserWarning: Pandas requires version '2.7.3' or newer of 'numexpr' (version '2.7.1' currently installed).\n",
      "  from pandas.core.computation.check import NUMEXPR_INSTALLED\n"
     ]
    }
   ],
   "source": [
    "import pandas as pd"
   ]
  },
  {
   "cell_type": "code",
   "execution_count": 4,
   "metadata": {},
   "outputs": [],
   "source": [
    "polygons = pd.read_csv('../Dados/Clusters/clusters_micro.csv')\n",
    "cams = pd.read_csv('../Dados/Cameras/cameras.csv')"
   ]
  },
  {
   "cell_type": "code",
   "execution_count": 5,
   "metadata": {},
   "outputs": [
    {
     "data": {
      "text/html": [
       "<div>\n",
       "<style scoped>\n",
       "    .dataframe tbody tr th:only-of-type {\n",
       "        vertical-align: middle;\n",
       "    }\n",
       "\n",
       "    .dataframe tbody tr th {\n",
       "        vertical-align: top;\n",
       "    }\n",
       "\n",
       "    .dataframe thead th {\n",
       "        text-align: right;\n",
       "    }\n",
       "</style>\n",
       "<table border=\"1\" class=\"dataframe\">\n",
       "  <thead>\n",
       "    <tr style=\"text-align: right;\">\n",
       "      <th></th>\n",
       "      <th>Codigo</th>\n",
       "      <th>Nome da Camera</th>\n",
       "      <th>Latitude</th>\n",
       "      <th>Longitude</th>\n",
       "    </tr>\n",
       "    <tr>\n",
       "      <th>cluster_id</th>\n",
       "      <th></th>\n",
       "      <th></th>\n",
       "      <th></th>\n",
       "      <th></th>\n",
       "    </tr>\n",
       "  </thead>\n",
       "  <tbody>\n",
       "    <tr>\n",
       "      <th>0.0</th>\n",
       "      <td>127</td>\n",
       "      <td>Av. Armando Lombardi acesso Barra Point</td>\n",
       "      <td>-23.006668</td>\n",
       "      <td>-43.309039</td>\n",
       "    </tr>\n",
       "    <tr>\n",
       "      <th>0.0</th>\n",
       "      <td>1459</td>\n",
       "      <td>Av. Armando Lombardi 669 - FIXA</td>\n",
       "      <td>-23.007048</td>\n",
       "      <td>-43.311872</td>\n",
       "    </tr>\n",
       "    <tr>\n",
       "      <th>0.0</th>\n",
       "      <td>1460</td>\n",
       "      <td>Av. Armando Lombardi 669 - FIXA</td>\n",
       "      <td>-23.007046</td>\n",
       "      <td>-43.311794</td>\n",
       "    </tr>\n",
       "    <tr>\n",
       "      <th>0.0</th>\n",
       "      <td>1462</td>\n",
       "      <td>Av. Armando Lombardi 505 - FIXA</td>\n",
       "      <td>-23.007063</td>\n",
       "      <td>-43.309892</td>\n",
       "    </tr>\n",
       "    <tr>\n",
       "      <th>0.0</th>\n",
       "      <td>1638</td>\n",
       "      <td>Av. Armando Lombardi, 400 - FIXA</td>\n",
       "      <td>-23.006472</td>\n",
       "      <td>-43.309784</td>\n",
       "    </tr>\n",
       "    <tr>\n",
       "      <th>0.0</th>\n",
       "      <td>1639</td>\n",
       "      <td>Av. Armando Lombardi, 675 - FIXA</td>\n",
       "      <td>-23.006517</td>\n",
       "      <td>-43.311260</td>\n",
       "    </tr>\n",
       "    <tr>\n",
       "      <th>0.0</th>\n",
       "      <td>1644</td>\n",
       "      <td>Av. Armando Lombardi, 704 - FIXA</td>\n",
       "      <td>-23.006261</td>\n",
       "      <td>-43.312110</td>\n",
       "    </tr>\n",
       "    <tr>\n",
       "      <th>0.0</th>\n",
       "      <td>3181</td>\n",
       "      <td>Avenida Armando Lombardi</td>\n",
       "      <td>-23.006560</td>\n",
       "      <td>-43.312741</td>\n",
       "    </tr>\n",
       "  </tbody>\n",
       "</table>\n",
       "</div>"
      ],
      "text/plain": [
       "            Codigo                           Nome da Camera   Latitude  \\\n",
       "cluster_id                                                               \n",
       "0.0            127  Av. Armando Lombardi acesso Barra Point -23.006668   \n",
       "0.0           1459          Av. Armando Lombardi 669 - FIXA -23.007048   \n",
       "0.0           1460          Av. Armando Lombardi 669 - FIXA -23.007046   \n",
       "0.0           1462          Av. Armando Lombardi 505 - FIXA -23.007063   \n",
       "0.0           1638         Av. Armando Lombardi, 400 - FIXA -23.006472   \n",
       "0.0           1639         Av. Armando Lombardi, 675 - FIXA -23.006517   \n",
       "0.0           1644         Av. Armando Lombardi, 704 - FIXA -23.006261   \n",
       "0.0           3181                 Avenida Armando Lombardi -23.006560   \n",
       "\n",
       "            Longitude  \n",
       "cluster_id             \n",
       "0.0        -43.309039  \n",
       "0.0        -43.311872  \n",
       "0.0        -43.311794  \n",
       "0.0        -43.309892  \n",
       "0.0        -43.309784  \n",
       "0.0        -43.311260  \n",
       "0.0        -43.312110  \n",
       "0.0        -43.312741  "
      ]
     },
     "execution_count": 5,
     "metadata": {},
     "output_type": "execute_result"
    }
   ],
   "source": [
    "example_id = 0\n",
    "example_codes = {\n",
    "    'working': [127, 1459, 1460, 1462, 1439, 1644, 3181]\n",
    "    'partial': [1438]\n",
    "}\n",
    "\n",
    "cams.set_index('cluster_id').loc[example_id]"
   ]
  }
 ],
 "metadata": {
  "kernelspec": {
   "display_name": "Python 3",
   "language": "python",
   "name": "python3"
  },
  "language_info": {
   "codemirror_mode": {
    "name": "ipython",
    "version": 3
   },
   "file_extension": ".py",
   "mimetype": "text/x-python",
   "name": "python",
   "nbconvert_exporter": "python",
   "pygments_lexer": "ipython3",
   "version": "3.8.3"
  }
 },
 "nbformat": 4,
 "nbformat_minor": 4
}
