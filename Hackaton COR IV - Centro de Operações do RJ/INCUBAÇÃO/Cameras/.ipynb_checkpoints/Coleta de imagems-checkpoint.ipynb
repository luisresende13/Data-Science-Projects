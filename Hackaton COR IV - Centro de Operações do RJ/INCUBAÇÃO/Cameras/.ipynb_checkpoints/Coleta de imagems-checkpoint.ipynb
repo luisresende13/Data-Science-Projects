{
 "cells": [
  {
   "cell_type": "markdown",
   "metadata": {},
   "source": [
    "### Schedule and record images"
   ]
  },
  {
   "cell_type": "code",
   "execution_count": 1,
   "metadata": {},
   "outputs": [
    {
     "name": "stdout",
     "output_type": "stream",
     "text": [
      "C:\\Users\\luisr\\Desktop\\Repositories\\Apps\\Python\\bolsao-api\n"
     ]
    }
   ],
   "source": [
    "cd ../../../../Apps/Python/bolsao-api"
   ]
  },
  {
   "cell_type": "code",
   "execution_count": 2,
   "metadata": {},
   "outputs": [],
   "source": [
    "import cv2, os, multiprocessing\n",
    "from datetime import datetime as dt; \n",
    "import pytz; tzbr = pytz.timezone('Brazil/East')\n",
    "from google.cloud import storage\n",
    "from google.oauth2 import service_account\n",
    "from tempfile import NamedTemporaryFile\n",
    "\n",
    "def now(fmt=\"%Y-%m-%d %H-%M-%S\"):\n",
    "    return dt.now(tzbr).strftime(fmt)\n",
    "\n",
    "def write_video(frames, path, shape='auto', fps=3, codec='mp4v'):\n",
    "    if shape == 'auto': height, width, _ = frames[0].shape; shape = (width, height) \n",
    "    fourcc = cv2.VideoWriter_fourcc(*codec)\n",
    "    writer = cv2.VideoWriter(path, fourcc, fps, shape)\n",
    "    for frame in frames: writer.write(frame)\n",
    "    cv2.destroyAllWindows(); writer.release()\n",
    "    \n",
    "class Cameras:\n",
    "\n",
    "    url = 'http://187.111.99.18:9004/?CODE={}'\n",
    "    bucket_name = 'city-camera-images'\n",
    "    credentials = service_account.Credentials.from_service_account_file('credentials/pluvia-360323-35cd376d5958.json')\n",
    "    bucket = storage.Client(credentials=credentials).get_bucket(bucket_name)                                                                                                                                                                                                                                                                                                                         \n",
    "\n",
    "    def __init__(self, folder='./', saveas='video', n_frames=None, skip_first=0, retries=10):\n",
    "        self.folder = folder\n",
    "        self.saveas = saveas\n",
    "        self.n_frames = n_frames\n",
    "        self.skip_first = skip_first\n",
    "        self.retries = retries\n",
    "        \n",
    "    def initialize_capture(self, code):\n",
    "        skipped, retries = 0, 0\n",
    "        cap = cv2.VideoCapture(self.url.format(code))\n",
    "        while skipped < self.skip_first and retries < self.retries:\n",
    "            success, frame = cap.read()\n",
    "            while not success and retries < self.retries:\n",
    "                skipped, cap = 0, cv2.VideoCapture(self.url.format(code))\n",
    "                success, frame = cap.read(); retries += 1\n",
    "                print(f'Code: {code}, Skipped: {skipped}, Retries: {retries}')\n",
    "            if success: skipped += 1\n",
    "        return retries < self.retries, cap\n",
    "    \n",
    "    def capture(self, code):\n",
    "        online, cap = self.initialize_capture(code)\n",
    "        if not online: return []\n",
    "        i, frames = 0, []\n",
    "        while(True):\n",
    "            success, frame = cap.read()\n",
    "            while not success:\n",
    "                online, cap = self.initialize_capture(code)\n",
    "                if not online: return []\n",
    "                success, frame = cap.read()\n",
    "            filename = f'CODE{code} {now(fmt=\"%Y-%m-%d %H-%M-%S-%f\")[:-4]}'            \n",
    "            frames.append([filename, frame]); i += 1\n",
    "            if self.n_frames is not None:\n",
    "                if i >= self.n_frames: break\n",
    "        return frames        \n",
    "    \n",
    "    def upload_video(self, frames, blob):\n",
    "        with NamedTemporaryFile() as temp:\n",
    "            tname = f\"{temp.name}.mp4\"\n",
    "            write_video(frames, tname, fps=3, codec='mp4v')\n",
    "            bucket.blob(blob).upload_from_filename(tname, content_type=\"video/mp4\")\n",
    "\n",
    "    def upload_frames(self, frames, path):\n",
    "        with NamedTemporaryFile() as temp:\n",
    "            tname = f\"{temp.name}.jpg\"\n",
    "            for j, (filename, frame) in enumerate(frames):\n",
    "                blob = f'{path}/{filename}.jpg'\n",
    "                cv2.imwrite(tname, frame)\n",
    "                bucket.blob(blob).upload_from_filename(tname, content_type=\"image/jpeg\")\n",
    "\n",
    "    def record(self, code):\n",
    "        print(f'starting {code}')\n",
    "        path = f'{self.folder}/{code}'\n",
    "        stamp = now()\n",
    "        frames = self.capture(code)\n",
    "        if self.saveas == 'image':\n",
    "            self.upload_frames(frames, f'{path}/{stamp}')\n",
    "        elif self.saveas == 'video':\n",
    "            files = [frame[1] for frame in frames]\n",
    "            blob = f'{path}/CODE{code} {stamp}.mp4'\n",
    "            self.upload_video(files, blob)\n",
    "\n",
    "    def record_many(self, codes, workers='auto'):\n",
    "        if not len(codes): print('EMPTY CODE LIST PROVIDED. TASK SKIPPED.'); return\n",
    "        if workers == 'auto': workers = len(codes)\n",
    "        pool = multiprocessing.Pool(processes=workers)\n",
    "        codes = [(code,) for code in codes]\n",
    "        stamp = now(); print(f'starting cams: {stamp}')\n",
    "        pool.starmap(self.record, codes)\n",
    "        self.report_finished(stamp)\n",
    "        return\n",
    "\n",
    "    def report_finished(self, stamp):\n",
    "        print(f\"Job started at'{stamp}' finished at '{now()}'.\")"
   ]
  },
  {
   "cell_type": "markdown",
   "metadata": {},
   "source": [
    "### Upload and download videos"
   ]
  },
  {
   "cell_type": "code",
   "execution_count": null,
   "metadata": {},
   "outputs": [
    {
     "name": "stdout",
     "output_type": "stream",
     "text": [
      "starting cams: 2023-02-17 00-03-33\n"
     ]
    }
   ],
   "source": [
    "cams = Cameras(folder='test', saveas='video', n_frames=10, skip_first=0, retries=10)\n",
    "# cams.record('313')\n",
    "cams.record_many(['127', '313'], workers=1)"
   ]
  },
  {
   "cell_type": "code",
   "execution_count": 6,
   "metadata": {},
   "outputs": [],
   "source": [
    "cams.bucket.blob('test/313/CODE313 2023-02-16 23-54-16.mp4').download_to_filename('test.mp4')"
   ]
  },
  {
   "cell_type": "code",
   "execution_count": null,
   "metadata": {},
   "outputs": [],
   "source": [
    "river_codes = ['3323', '1487', '3318']\n",
    "otavio = ['3104', '3127']\n",
    "\n",
    "folder = 'pics'\n",
    "codes =  otavio + river_codes + poly_cams_codes\n",
    "\n",
    "rec = recorder(max_frames=10, workers='auto')\n",
    "\n",
    "# ---\n",
    "# Scheduler object and jobs\n",
    "\n",
    "sched = BlockingScheduler()\n",
    "\n",
    "@sched.scheduled_job('cron', minute='*/5')\n",
    "def collect_cams_imgs():\n",
    "    rec.record_in_parallel(codes, folder)\n",
    "    co(1); print('Image group {rec.timegroup} finished.')\n",
    "    return\n",
    "\n",
    "sched.start()"
   ]
  }
 ],
 "metadata": {
  "kernelspec": {
   "display_name": "Python 3",
   "language": "python",
   "name": "python3"
  },
  "language_info": {
   "codemirror_mode": {
    "name": "ipython",
    "version": 3
   },
   "file_extension": ".py",
   "mimetype": "text/x-python",
   "name": "python",
   "nbconvert_exporter": "python",
   "pygments_lexer": "ipython3",
   "version": "3.8.3"
  }
 },
 "nbformat": 4,
 "nbformat_minor": 4
}
