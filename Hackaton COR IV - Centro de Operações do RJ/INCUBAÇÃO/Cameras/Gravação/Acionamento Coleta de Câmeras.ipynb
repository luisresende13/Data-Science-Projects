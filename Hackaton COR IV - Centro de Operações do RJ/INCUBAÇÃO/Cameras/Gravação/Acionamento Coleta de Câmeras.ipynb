{
 "cells": [
  {
   "cell_type": "markdown",
   "metadata": {},
   "source": [
    "# City cameras automatic event recoding"
   ]
  },
  {
   "cell_type": "code",
   "execution_count": 1,
   "metadata": {},
   "outputs": [
    {
     "name": "stdout",
     "output_type": "stream",
     "text": [
      "C:\\Users\\luisr\\Desktop\\Repositories\\Apps\\Python\\cams-rio\n"
     ]
    }
   ],
   "source": [
    "cd ../../../../Apps/Python/cams-rio"
   ]
  },
  {
   "cell_type": "code",
   "execution_count": 2,
   "metadata": {},
   "outputs": [
    {
     "name": "stderr",
     "output_type": "stream",
     "text": [
      "C:\\Users\\luisr\\AppData\\Roaming\\Python\\Python38\\site-packages\\pandas\\core\\computation\\expressions.py:21: UserWarning: Pandas requires version '2.7.3' or newer of 'numexpr' (version '2.7.1' currently installed).\n",
      "  from pandas.core.computation.check import NUMEXPR_INSTALLED\n"
     ]
    }
   ],
   "source": [
    "from modules.cameras import Cameras"
   ]
  },
  {
   "cell_type": "markdown",
   "metadata": {},
   "source": [
    "---\n",
    "## Example usage"
   ]
  },
  {
   "cell_type": "markdown",
   "metadata": {},
   "source": [
    "### Parameters"
   ]
  },
  {
   "cell_type": "code",
   "execution_count": 27,
   "metadata": {},
   "outputs": [],
   "source": [
    "data_polygons = {\n",
    "    'n': 5,\n",
    "    'radius': 250.0,\n",
    "    'n_frames': 45,\n",
    "    'saveas': 'video',\n",
    "    'workers': None,\n",
    "    'urls': [{\n",
    "        'url': 'mongo/Polygons/latest',\n",
    "        'prefix': 'polygons', # ignored since query parameter is of type list\n",
    "        'query': [{\n",
    "            'query': {'label': 1.0},\n",
    "            'prefix': 'polygons/flood-probability'\n",
    "        }, {\n",
    "            'query': {'waze_flood_status': 1},\n",
    "            'prefix': 'polygons/waze/flood'\n",
    "        }, {\n",
    "            'query': {'lâmina_status': 1},\n",
    "            'prefix': 'polygons/comando/lâmina'\n",
    "        }, {\n",
    "            'query': {'bolsão_status': 1},\n",
    "            'prefix': 'polygons/comando/bolsão'\n",
    "        }, {\n",
    "            'query': {'alagamento_status': 1},\n",
    "            'prefix': 'polygons/comando/alagamento'\n",
    "        }, {\n",
    "            'query': {'alagamento_enchente_status': 1},\n",
    "            'prefix': 'polygons/comando/alagamento_enchente'\n",
    "        }, {\n",
    "            'query': {'enchente_status': 1},\n",
    "            'prefix': 'polygons/comando/enchente'\n",
    "        }],\n",
    "    }],\n",
    "}\n",
    "\n",
    "data_comando = {\n",
    "    'n': 3,\n",
    "    'radius': 250.0,\n",
    "    'n_frames': 45,\n",
    "    'saveas': 'video',\n",
    "    'workers': None,\n",
    "    'urls': [{\n",
    "        'url': 'comando/events',\n",
    "        'prefix': 'comando', # ignored since query parameter is of type list\n",
    "        'query': [{\n",
    "            'query': {'pop_id': 33},\n",
    "            'prefix': 'comando/lâmina'\n",
    "        }, {\n",
    "            'query': {'pop_id': 5},\n",
    "            'prefix': 'comando/bolsão'\n",
    "        }, {\n",
    "            'query': {'pop_id': 31},\n",
    "            'prefix': 'comando/alagamento'\n",
    "        }, {\n",
    "            'query': {'pop_id': 6},\n",
    "            'prefix': 'comando/alagamento_enchente'\n",
    "        }, {\n",
    "            'query': {'pop_id': 32},\n",
    "            'prefix': 'comando/enchente'\n",
    "        }],\n",
    "    }],\n",
    "}\n",
    "\n",
    "data_waze = {\n",
    "    'urls': [{\n",
    "        'url': 'waze/alerts',\n",
    "        'query': [{\n",
    "            'query': {'subtype': 'HAZARD_WEATHER_FLOOD'},\n",
    "            'prefix': 'waze/flood',\n",
    "        }],\n",
    "        'prefix': 'waze',\n",
    "    }],\n",
    "    'n': 3,\n",
    "    'radius': 250.0,\n",
    "    'n_frames': 45,\n",
    "    'saveas': 'video',\n",
    "    'workers': None,\n",
    "}\n",
    "\n",
    "event_points_config = {\n",
    "    'cameras': {'_id': 'Codigo', 'coords': ['Longitude', 'Latitude']},\n",
    "    'comando/events': {'_id': 'id', 'coords': ['longitude', 'latitude']},\n",
    "    'waze/alerts': {'_id': 'uuid', 'coords': ['longitude', 'latitude']},\n",
    "    'mongo/Polygons/latest': {'_id': 'cluster_id', 'coords': ['lng_centroid', 'lat_centroid']},\n",
    "}\n",
    "\n",
    "url_default = lambda url: {**url, **event_points_config[url['url']]}\n",
    "\n",
    "data_polygons['urls'] = list(map(url_default, data_polygons['urls']))\n",
    "data_comando['urls'] = list(map(url_default, data_comando['urls']))\n",
    "data_waze['urls'] = list(map(url_default, data_waze['urls']))"
   ]
  },
  {
   "cell_type": "markdown",
   "metadata": {},
   "source": [
    "### Cameras instance"
   ]
  },
  {
   "cell_type": "code",
   "execution_count": 29,
   "metadata": {},
   "outputs": [],
   "source": [
    "data = data_polygons\n",
    "\n",
    "cams = Cameras(data['urls'])"
   ]
  },
  {
   "cell_type": "markdown",
   "metadata": {},
   "source": [
    "### Instance triggered cameras"
   ]
  },
  {
   "cell_type": "code",
   "execution_count": 30,
   "metadata": {},
   "outputs": [
    {
     "data": {
      "text/html": [
       "<div>\n",
       "<style scoped>\n",
       "    .dataframe tbody tr th:only-of-type {\n",
       "        vertical-align: middle;\n",
       "    }\n",
       "\n",
       "    .dataframe tbody tr th {\n",
       "        vertical-align: top;\n",
       "    }\n",
       "\n",
       "    .dataframe thead th {\n",
       "        text-align: right;\n",
       "    }\n",
       "</style>\n",
       "<table border=\"1\" class=\"dataframe\">\n",
       "  <thead>\n",
       "    <tr style=\"text-align: right;\">\n",
       "      <th></th>\n",
       "      <th>Codigo</th>\n",
       "      <th>distance</th>\n",
       "      <th>camera_position</th>\n",
       "      <th>prefix</th>\n",
       "      <th>_id</th>\n",
       "      <th>path</th>\n",
       "    </tr>\n",
       "  </thead>\n",
       "  <tbody>\n",
       "  </tbody>\n",
       "</table>\n",
       "</div>"
      ],
      "text/plain": [
       "Empty DataFrame\n",
       "Columns: [Codigo, distance, camera_position, prefix, _id, path]\n",
       "Index: []"
      ]
     },
     "execution_count": 30,
     "metadata": {},
     "output_type": "execute_result"
    }
   ],
   "source": [
    "triggered = cams.triggered(n=data['n'], radius=data['radius'])\n",
    "\n",
    "triggered.head(10)"
   ]
  },
  {
   "cell_type": "markdown",
   "metadata": {},
   "source": [
    "### Url triggered cameras\n",
    "\n",
    "##### Pass down single dict of url document as parameter"
   ]
  },
  {
   "cell_type": "code",
   "execution_count": 34,
   "metadata": {},
   "outputs": [
    {
     "data": {
      "text/html": [
       "<div>\n",
       "<style scoped>\n",
       "    .dataframe tbody tr th:only-of-type {\n",
       "        vertical-align: middle;\n",
       "    }\n",
       "\n",
       "    .dataframe tbody tr th {\n",
       "        vertical-align: top;\n",
       "    }\n",
       "\n",
       "    .dataframe thead th {\n",
       "        text-align: right;\n",
       "    }\n",
       "</style>\n",
       "<table border=\"1\" class=\"dataframe\">\n",
       "  <thead>\n",
       "    <tr style=\"text-align: right;\">\n",
       "      <th></th>\n",
       "      <th>Codigo</th>\n",
       "      <th>distance</th>\n",
       "      <th>camera_position</th>\n",
       "      <th>prefix</th>\n",
       "      <th>_id</th>\n",
       "      <th>path</th>\n",
       "    </tr>\n",
       "  </thead>\n",
       "  <tbody>\n",
       "    <tr>\n",
       "      <th>0</th>\n",
       "      <td>555</td>\n",
       "      <td>120.006019</td>\n",
       "      <td>1</td>\n",
       "      <td>comando/bolsão</td>\n",
       "      <td>92650</td>\n",
       "      <td>comando/bolsão/92650</td>\n",
       "    </tr>\n",
       "    <tr>\n",
       "      <th>1</th>\n",
       "      <td>1567</td>\n",
       "      <td>209.120854</td>\n",
       "      <td>2</td>\n",
       "      <td>comando/bolsão</td>\n",
       "      <td>92650</td>\n",
       "      <td>comando/bolsão/92650</td>\n",
       "    </tr>\n",
       "  </tbody>\n",
       "</table>\n",
       "</div>"
      ],
      "text/plain": [
       "  Codigo    distance camera_position          prefix    _id  \\\n",
       "0    555  120.006019               1  comando/bolsão  92650   \n",
       "1   1567  209.120854               2  comando/bolsão  92650   \n",
       "\n",
       "                   path  \n",
       "0  comando/bolsão/92650  \n",
       "1  comando/bolsão/92650  "
      ]
     },
     "execution_count": 34,
     "metadata": {},
     "output_type": "execute_result"
    }
   ],
   "source": [
    "triggered = cams.triggered(\n",
    "    data['urls'][0],\n",
    "    n=data['n'],\n",
    "    radius=data['radius']\n",
    ")\n",
    "\n",
    "triggered.head()"
   ]
  },
  {
   "cell_type": "markdown",
   "metadata": {},
   "source": [
    "### Multiple urls triggering"
   ]
  },
  {
   "cell_type": "code",
   "execution_count": 39,
   "metadata": {},
   "outputs": [
    {
     "data": {
      "text/html": [
       "<div>\n",
       "<style scoped>\n",
       "    .dataframe tbody tr th:only-of-type {\n",
       "        vertical-align: middle;\n",
       "    }\n",
       "\n",
       "    .dataframe tbody tr th {\n",
       "        vertical-align: top;\n",
       "    }\n",
       "\n",
       "    .dataframe thead th {\n",
       "        text-align: right;\n",
       "    }\n",
       "</style>\n",
       "<table border=\"1\" class=\"dataframe\">\n",
       "  <thead>\n",
       "    <tr style=\"text-align: right;\">\n",
       "      <th></th>\n",
       "      <th>Codigo</th>\n",
       "      <th>distance</th>\n",
       "      <th>camera_position</th>\n",
       "      <th>prefix</th>\n",
       "      <th>_id</th>\n",
       "      <th>path</th>\n",
       "    </tr>\n",
       "  </thead>\n",
       "  <tbody>\n",
       "    <tr>\n",
       "      <th>0</th>\n",
       "      <td>555</td>\n",
       "      <td>120.006019</td>\n",
       "      <td>1</td>\n",
       "      <td>comando/bolsão</td>\n",
       "      <td>92650</td>\n",
       "      <td>comando/bolsão/92650</td>\n",
       "    </tr>\n",
       "    <tr>\n",
       "      <th>1</th>\n",
       "      <td>1567</td>\n",
       "      <td>209.120854</td>\n",
       "      <td>2</td>\n",
       "      <td>comando/bolsão</td>\n",
       "      <td>92650</td>\n",
       "      <td>comando/bolsão/92650</td>\n",
       "    </tr>\n",
       "  </tbody>\n",
       "</table>\n",
       "</div>"
      ],
      "text/plain": [
       "  Codigo    distance camera_position          prefix    _id  \\\n",
       "0    555  120.006019               1  comando/bolsão  92650   \n",
       "1   1567  209.120854               2  comando/bolsão  92650   \n",
       "\n",
       "                   path  \n",
       "0  comando/bolsão/92650  \n",
       "1  comando/bolsão/92650  "
      ]
     },
     "execution_count": 39,
     "metadata": {},
     "output_type": "execute_result"
    }
   ],
   "source": [
    "triggered = cams.triggered(\n",
    "    data_comando['urls'] + data_waze['urls'],\n",
    "    n=data_comando['n'],\n",
    "    radius=data_comando['radius']\n",
    ")\n",
    "\n",
    "triggered.head()"
   ]
  },
  {
   "cell_type": "markdown",
   "metadata": {},
   "source": [
    "### Exploratory Data Analysis"
   ]
  },
  {
   "cell_type": "code",
   "execution_count": 37,
   "metadata": {},
   "outputs": [
    {
     "data": {
      "image/png": "[encoded data removed]",
      "text/plain": [
       "<Figure size 432x288 with 1 Axes>"
      ]
     },
     "metadata": {
      "needs_background": "light"
     },
     "output_type": "display_data"
    }
   ],
   "source": [
    "ax = triggered['distance'].hist()"
   ]
  }
 ],
 "metadata": {
  "kernelspec": {
   "display_name": "Python 3",
   "language": "python",
   "name": "python3"
  },
  "language_info": {
   "codemirror_mode": {
    "name": "ipython",
    "version": 3
   },
   "file_extension": ".py",
   "mimetype": "text/x-python",
   "name": "python",
   "nbconvert_exporter": "python",
   "pygments_lexer": "ipython3",
   "version": "3.8.3"
  }
 },
 "nbformat": 4,
 "nbformat_minor": 4
}
