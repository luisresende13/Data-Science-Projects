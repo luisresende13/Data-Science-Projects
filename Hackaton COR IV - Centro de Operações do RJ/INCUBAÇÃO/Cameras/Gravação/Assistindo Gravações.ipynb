{
 "cells": [
  {
   "cell_type": "code",
   "execution_count": 1,
   "metadata": {},
   "outputs": [
    {
     "name": "stderr",
     "output_type": "stream",
     "text": [
      "C:\\Users\\luisr\\AppData\\Roaming\\Python\\Python38\\site-packages\\pandas\\core\\computation\\expressions.py:21: UserWarning: Pandas requires version '2.7.3' or newer of 'numexpr' (version '2.7.1' currently installed).\n",
      "  from pandas.core.computation.check import NUMEXPR_INSTALLED\n"
     ]
    }
   ],
   "source": [
    "from modules.googlecloudstorage import GCS\n",
    "from modules.image_similarity import load_nested_images_from_folder\n",
    "import matplotlib.pyplot as plt\n",
    "import cv2\n",
    "\n",
    "gcs = GCS('../../../../Apps/Python/bolsao-api/credentials/pluvia-360323-35cd376d5958.json')"
   ]
  },
  {
   "cell_type": "markdown",
   "metadata": {},
   "source": [
    "---\n",
    "### Download blob to folder"
   ]
  },
  {
   "cell_type": "markdown",
   "metadata": {},
   "source": [
    "#### List blobs in blob"
   ]
  },
  {
   "cell_type": "code",
   "execution_count": 2,
   "metadata": {},
   "outputs": [
    {
     "data": {
      "text/plain": [
       "551"
      ]
     },
     "execution_count": 2,
     "metadata": {},
     "output_type": "execute_result"
    }
   ],
   "source": [
    "bucket_name = 'city-camera-images'\n",
    "prefix = 'auto/flood/'\n",
    "delimiter = None\n",
    "ext = '.mp4'\n",
    "\n",
    "len([blob_name for blob_name in gcs.list_blobs(bucket_name, prefix, delimiter) if blob_name.endswith(ext)])"
   ]
  },
  {
   "cell_type": "markdown",
   "metadata": {},
   "source": [
    "#### Download blobs in blob to folder"
   ]
  },
  {
   "cell_type": "code",
   "execution_count": 3,
   "metadata": {},
   "outputs": [
    {
     "name": "stdout",
     "output_type": "stream",
     "text": [
      "Files downloaded to ../../../../Dados/Downloads/: 0/1\n"
     ]
    }
   ],
   "source": [
    "folder = '../../../../Dados/Downloads'\n",
    "bucket_name = 'city-camera-images'\n",
    "prefix = 'test/314/'\n",
    "delimiter = None\n",
    "\n",
    "gcs.download_to_folder(folder, bucket_name, prefix, delimiter)"
   ]
  }
 ],
 "metadata": {
  "kernelspec": {
   "display_name": "Python 3",
   "language": "python",
   "name": "python3"
  },
  "language_info": {
   "codemirror_mode": {
    "name": "ipython",
    "version": 3
   },
   "file_extension": ".py",
   "mimetype": "text/x-python",
   "name": "python",
   "nbconvert_exporter": "python",
   "pygments_lexer": "ipython3",
   "version": "3.8.3"
  }
 },
 "nbformat": 4,
 "nbformat_minor": 4
}
