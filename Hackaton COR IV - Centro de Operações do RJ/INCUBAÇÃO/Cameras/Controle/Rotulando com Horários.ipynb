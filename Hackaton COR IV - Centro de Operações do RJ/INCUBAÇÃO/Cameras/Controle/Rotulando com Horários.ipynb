{
 "cells": [
  {
   "cell_type": "markdown",
   "metadata": {},
   "source": [
    "# Timestamp base video labeling from single camera"
   ]
  },
  {
   "cell_type": "code",
   "execution_count": 1,
   "metadata": {},
   "outputs": [
    {
     "name": "stdout",
     "output_type": "stream",
     "text": [
      "C:\\Users\\luisr\\Desktop\\Repositories\\Data Science Projects\\Hackaton COR IV - Centro de Operações do RJ\\INCUBAÇÃO\\Cameras\n"
     ]
    }
   ],
   "source": [
    "cd ../"
   ]
  },
  {
   "cell_type": "markdown",
   "metadata": {},
   "source": [
    "### Load video control dataset"
   ]
  },
  {
   "cell_type": "code",
   "execution_count": 55,
   "metadata": {},
   "outputs": [],
   "source": [
    "import numpy as np, pandas as pd\n",
    "\n",
    "# load data\n",
    "\n",
    "video_control_path = 'Dados/Controle de vídeos/videos_control_19-04.csv'\n",
    "control = pd.read_csv(video_control_path)\n",
    "\n",
    "# data preprocessing\n",
    "control['timestamp'] = pd.to_datetime(control['timestamp'])\n",
    "control = control.set_index('timestamp', drop=True).sort_index()"
   ]
  },
  {
   "cell_type": "markdown",
   "metadata": {},
   "source": [
    "## Set video timestamp labeling parameters"
   ]
  },
  {
   "cell_type": "code",
   "execution_count": 65,
   "metadata": {},
   "outputs": [],
   "source": [
    "# set parameters\n",
    "\n",
    "start = '2023-02-07'\n",
    "end = '2023-03-02'\n",
    "\n",
    "query = {\n",
    "    'code': [1475],\n",
    "    'folder_structure': [\n",
    "        'polygons/{type}/{polygon}/{code}',\n",
    "        '{source}/{type}/{event}/{code}',\n",
    "    ]\n",
    "}\n",
    "\n",
    "time_label = {\n",
    "    '2023-02-07 19:25:00': 'alagamento', # start 07/02\n",
    "    '2023-02-08 00:35:00': 'bolsão', # start 08/02\n",
    "    '2023-02-08 01:15:00': 'lâmina',\n",
    "    '2023-02-08 01:52:30': 'poça',\n",
    "    '2023-02-08 02:32:30': 'normalidade',\n",
    "    '2023-02-11 20:50:00': 'alagamento', # start 11/02\n",
    "    '2023-02-11 20:51:00': 'normalidade', # end 11/02\n",
    "    '2023-03-02 00:00:00': 'normalidade', # after end of 2023-03-01 ?\n",
    "}"
   ]
  },
  {
   "cell_type": "markdown",
   "metadata": {},
   "source": [
    "##  Timestamp base video labeling from single camera"
   ]
  },
  {
   "cell_type": "code",
   "execution_count": 66,
   "metadata": {},
   "outputs": [
    {
     "data": {
      "text/html": [
       "<div>\n",
       "<style scoped>\n",
       "    .dataframe tbody tr th:only-of-type {\n",
       "        vertical-align: middle;\n",
       "    }\n",
       "\n",
       "    .dataframe tbody tr th {\n",
       "        vertical-align: top;\n",
       "    }\n",
       "\n",
       "    .dataframe thead th {\n",
       "        text-align: right;\n",
       "    }\n",
       "</style>\n",
       "<table border=\"1\" class=\"dataframe\">\n",
       "  <thead>\n",
       "    <tr style=\"text-align: right;\">\n",
       "      <th></th>\n",
       "      <th>blob_name</th>\n",
       "      <th>code</th>\n",
       "      <th>tag</th>\n",
       "    </tr>\n",
       "    <tr>\n",
       "      <th>timestamp</th>\n",
       "      <th></th>\n",
       "      <th></th>\n",
       "      <th></th>\n",
       "    </tr>\n",
       "  </thead>\n",
       "  <tbody>\n",
       "    <tr>\n",
       "      <th>2023-02-07 19:25:00</th>\n",
       "      <td>polygons/flood-unlabeled/1/1475/CODE1475 2023-...</td>\n",
       "      <td>1475</td>\n",
       "      <td>alagamento</td>\n",
       "    </tr>\n",
       "    <tr>\n",
       "      <th>2023-02-07 19:30:00</th>\n",
       "      <td>polygons/flood-unlabeled/1/1475/CODE1475 2023-...</td>\n",
       "      <td>1475</td>\n",
       "      <td>alagamento</td>\n",
       "    </tr>\n",
       "    <tr>\n",
       "      <th>2023-02-07 19:35:00</th>\n",
       "      <td>polygons/flood-unlabeled/1/1475/CODE1475 2023-...</td>\n",
       "      <td>1475</td>\n",
       "      <td>alagamento</td>\n",
       "    </tr>\n",
       "    <tr>\n",
       "      <th>2023-02-07 19:40:00</th>\n",
       "      <td>polygons/flood-unlabeled/1/1475/CODE1475 2023-...</td>\n",
       "      <td>1475</td>\n",
       "      <td>alagamento</td>\n",
       "    </tr>\n",
       "    <tr>\n",
       "      <th>2023-02-07 19:50:00</th>\n",
       "      <td>polygons/flood-unlabeled/1/1475/CODE1475 2023-...</td>\n",
       "      <td>1475</td>\n",
       "      <td>alagamento</td>\n",
       "    </tr>\n",
       "  </tbody>\n",
       "</table>\n",
       "</div>"
      ],
      "text/plain": [
       "                                                             blob_name  code   \n",
       "timestamp                                                                      \n",
       "2023-02-07 19:25:00  polygons/flood-unlabeled/1/1475/CODE1475 2023-...  1475  \\\n",
       "2023-02-07 19:30:00  polygons/flood-unlabeled/1/1475/CODE1475 2023-...  1475   \n",
       "2023-02-07 19:35:00  polygons/flood-unlabeled/1/1475/CODE1475 2023-...  1475   \n",
       "2023-02-07 19:40:00  polygons/flood-unlabeled/1/1475/CODE1475 2023-...  1475   \n",
       "2023-02-07 19:50:00  polygons/flood-unlabeled/1/1475/CODE1475 2023-...  1475   \n",
       "\n",
       "                            tag  \n",
       "timestamp                        \n",
       "2023-02-07 19:25:00  alagamento  \n",
       "2023-02-07 19:30:00  alagamento  \n",
       "2023-02-07 19:35:00  alagamento  \n",
       "2023-02-07 19:40:00  alagamento  \n",
       "2023-02-07 19:50:00  alagamento  "
      ]
     },
     "metadata": {},
     "output_type": "display_data"
    },
    {
     "data": {
      "text/html": [
       "<div>\n",
       "<style scoped>\n",
       "    .dataframe tbody tr th:only-of-type {\n",
       "        vertical-align: middle;\n",
       "    }\n",
       "\n",
       "    .dataframe tbody tr th {\n",
       "        vertical-align: top;\n",
       "    }\n",
       "\n",
       "    .dataframe thead th {\n",
       "        text-align: right;\n",
       "    }\n",
       "</style>\n",
       "<table border=\"1\" class=\"dataframe\">\n",
       "  <thead>\n",
       "    <tr style=\"text-align: right;\">\n",
       "      <th></th>\n",
       "      <th>Video tag count</th>\n",
       "    </tr>\n",
       "    <tr>\n",
       "      <th>tag</th>\n",
       "      <th></th>\n",
       "    </tr>\n",
       "  </thead>\n",
       "  <tbody>\n",
       "    <tr>\n",
       "      <th>normalidade</th>\n",
       "      <td>120</td>\n",
       "    </tr>\n",
       "    <tr>\n",
       "      <th>alagamento</th>\n",
       "      <td>28</td>\n",
       "    </tr>\n",
       "    <tr>\n",
       "      <th>poça</th>\n",
       "      <td>8</td>\n",
       "    </tr>\n",
       "    <tr>\n",
       "      <th>lâmina</th>\n",
       "      <td>6</td>\n",
       "    </tr>\n",
       "    <tr>\n",
       "      <th>bolsão</th>\n",
       "      <td>3</td>\n",
       "    </tr>\n",
       "  </tbody>\n",
       "</table>\n",
       "</div>"
      ],
      "text/plain": [
       "             Video tag count\n",
       "tag                         \n",
       "normalidade              120\n",
       "alagamento                28\n",
       "poça                       8\n",
       "lâmina                     6\n",
       "bolsão                     3"
      ]
     },
     "metadata": {},
     "output_type": "display_data"
    }
   ],
   "source": [
    "# take video dataset\n",
    "\n",
    "df = control.copy()\n",
    "\n",
    "# query video dataset\n",
    "\n",
    "for key in query:\n",
    "    df = df[df[key].isin(query[key])]\n",
    "\n",
    "# cut video dataset\n",
    "\n",
    "df = df[(df.index >= start) & (df.index <= end)]\n",
    "\n",
    "# label videos by category timestamps\n",
    "\n",
    "time_label = pd.Series(time_label).sort_index()\n",
    "\n",
    "n_labels = len(time_label)\n",
    "stamps = time_label.index\n",
    "\n",
    "labels = pd.Series(np.nan, df.index)\n",
    "\n",
    "for i in range(n_labels - 1):\n",
    "    t1, t2 = stamps[i], stamps[i + 1]\n",
    "    msk_t = (df.index >= t1) & (df.index <= t2)\n",
    "    labels[msk_t] = time_label.loc[t1]\n",
    "\n",
    "df['tag'] = labels\n",
    "\n",
    "# display result label count\n",
    "\n",
    "display(df.head()[['blob_name', 'code', 'tag']])\n",
    "display(df['tag'].value_counts().to_frame('Video tag count'))"
   ]
  },
  {
   "cell_type": "markdown",
   "metadata": {},
   "source": [
    "### Check result's unique dates"
   ]
  },
  {
   "cell_type": "code",
   "execution_count": 67,
   "metadata": {},
   "outputs": [
    {
     "name": "stdout",
     "output_type": "stream",
     "text": [
      "[datetime.date(2023, 2, 7) datetime.date(2023, 2, 8)\n",
      " datetime.date(2023, 2, 11) datetime.date(2023, 2, 28)\n",
      " datetime.date(2023, 3, 1)]\n"
     ]
    }
   ],
   "source": [
    "print(np.unique(df.index.date))"
   ]
  },
  {
   "cell_type": "markdown",
   "metadata": {},
   "source": [
    "### Save labeled dataset as csv"
   ]
  },
  {
   "cell_type": "code",
   "execution_count": 68,
   "metadata": {},
   "outputs": [],
   "source": [
    "df.reset_index().to_csv('Dados/Rotulos/1475_2023-02-07.csv', index=False)"
   ]
  },
  {
   "cell_type": "markdown",
   "metadata": {},
   "source": [
    "## Load video frames as labeled images"
   ]
  },
  {
   "cell_type": "code",
   "execution_count": 242,
   "metadata": {},
   "outputs": [],
   "source": [
    "import os, cv2, numpy as np\n",
    "from IPython.display import clear_output as co\n",
    "\n",
    "\n",
    "class VideoLoader:\n",
    "    \n",
    "    def __init__(self, dim=3):\n",
    "        \"\"\"  \"\"\"\n",
    "        self.dim = dim\n",
    "        \n",
    "    def frames_from_labeled_videos(self, paths, labels, print_each=None):\n",
    "        x, y, i, n = [], [], 0, len(labels)\n",
    "        for path, label in zip(paths, labels):\n",
    "            frames = self.frames_from_video(path)\n",
    "            x.extend(frames); y.extend([label] * len(frames))\n",
    "            i += 1\n",
    "            if print_each is not None and i % print_each == 0:\n",
    "                co(True); print(f'CAPTURE LABELED VIDEOS · OPEN: {i}/{n}')\n",
    "        return np.array(x), np.array(y)\n",
    "        \n",
    "    def frames_from_video(self, path):\n",
    "        cap = cv2.VideoCapture(path)\n",
    "        if not cap.isOpened():\n",
    "            print(f\"CANNOT OPEN VIDEO CAPTURE · PATH: {path}\")\n",
    "            return []\n",
    "        frames = []\n",
    "        while True:\n",
    "            ret, frame = cap.read()\n",
    "            if not ret:\n",
    "                break # stream finished\n",
    "            if self.dim == 1: # 1D flat frame\n",
    "                frame = cv2.cvtColor(frame, cv2.COLOR_BGR2GRAY)\n",
    "                frame = np.reshape(frame, -1)\n",
    "            if self.dim == 2: # 2D gray scale frame\n",
    "                frame = cv2.cvtColor(frame, cv2.COLOR_BGR2GRAY)\n",
    "            frames.append(frame)\n",
    "        cap.release(); cv2.destroyAllWindows()\n",
    "        return frames"
   ]
  },
  {
   "cell_type": "markdown",
   "metadata": {},
   "source": [
    "#### Reload labeled videos dataset"
   ]
  },
  {
   "cell_type": "code",
   "execution_count": 256,
   "metadata": {},
   "outputs": [
    {
     "data": {
      "text/html": [
       "<div>\n",
       "<style scoped>\n",
       "    .dataframe tbody tr th:only-of-type {\n",
       "        vertical-align: middle;\n",
       "    }\n",
       "\n",
       "    .dataframe tbody tr th {\n",
       "        vertical-align: top;\n",
       "    }\n",
       "\n",
       "    .dataframe thead th {\n",
       "        text-align: right;\n",
       "    }\n",
       "</style>\n",
       "<table border=\"1\" class=\"dataframe\">\n",
       "  <thead>\n",
       "    <tr style=\"text-align: right;\">\n",
       "      <th></th>\n",
       "      <th>blob_name</th>\n",
       "      <th>tag</th>\n",
       "    </tr>\n",
       "    <tr>\n",
       "      <th>timestamp</th>\n",
       "      <th></th>\n",
       "      <th></th>\n",
       "    </tr>\n",
       "  </thead>\n",
       "  <tbody>\n",
       "    <tr>\n",
       "      <th>2023-02-07 19:25:00</th>\n",
       "      <td>polygons/flood-unlabeled/1/1475/CODE1475 2023-...</td>\n",
       "      <td>alagamento</td>\n",
       "    </tr>\n",
       "    <tr>\n",
       "      <th>2023-02-07 19:30:00</th>\n",
       "      <td>polygons/flood-unlabeled/1/1475/CODE1475 2023-...</td>\n",
       "      <td>alagamento</td>\n",
       "    </tr>\n",
       "    <tr>\n",
       "      <th>2023-02-07 19:35:00</th>\n",
       "      <td>polygons/flood-unlabeled/1/1475/CODE1475 2023-...</td>\n",
       "      <td>alagamento</td>\n",
       "    </tr>\n",
       "    <tr>\n",
       "      <th>2023-02-07 19:40:00</th>\n",
       "      <td>polygons/flood-unlabeled/1/1475/CODE1475 2023-...</td>\n",
       "      <td>alagamento</td>\n",
       "    </tr>\n",
       "    <tr>\n",
       "      <th>2023-02-07 19:50:00</th>\n",
       "      <td>polygons/flood-unlabeled/1/1475/CODE1475 2023-...</td>\n",
       "      <td>alagamento</td>\n",
       "    </tr>\n",
       "  </tbody>\n",
       "</table>\n",
       "</div>"
      ],
      "text/plain": [
       "                                                             blob_name   \n",
       "timestamp                                                                \n",
       "2023-02-07 19:25:00  polygons/flood-unlabeled/1/1475/CODE1475 2023-...  \\\n",
       "2023-02-07 19:30:00  polygons/flood-unlabeled/1/1475/CODE1475 2023-...   \n",
       "2023-02-07 19:35:00  polygons/flood-unlabeled/1/1475/CODE1475 2023-...   \n",
       "2023-02-07 19:40:00  polygons/flood-unlabeled/1/1475/CODE1475 2023-...   \n",
       "2023-02-07 19:50:00  polygons/flood-unlabeled/1/1475/CODE1475 2023-...   \n",
       "\n",
       "                            tag  \n",
       "timestamp                        \n",
       "2023-02-07 19:25:00  alagamento  \n",
       "2023-02-07 19:30:00  alagamento  \n",
       "2023-02-07 19:35:00  alagamento  \n",
       "2023-02-07 19:40:00  alagamento  \n",
       "2023-02-07 19:50:00  alagamento  "
      ]
     },
     "execution_count": 256,
     "metadata": {},
     "output_type": "execute_result"
    }
   ],
   "source": [
    "import pandas as pd\n",
    "\n",
    "videos = pd.read_csv('Dados/Rotulos/1475_2023-02-07.csv')\n",
    "\n",
    "videos['timestamp'] = pd.to_datetime(videos['timestamp'])\n",
    "videos = videos.set_index('timestamp', drop=True).sort_index()\n",
    "\n",
    "videos[['blob_name', 'tag']].head()"
   ]
  },
  {
   "cell_type": "markdown",
   "metadata": {},
   "source": [
    "## Split videos into train and test sets"
   ]
  },
  {
   "cell_type": "markdown",
   "metadata": {},
   "source": [
    "#### Binarize categories of target variable"
   ]
  },
  {
   "cell_type": "code",
   "execution_count": 257,
   "metadata": {},
   "outputs": [
    {
     "data": {
      "text/html": [
       "<div>\n",
       "<style scoped>\n",
       "    .dataframe tbody tr th:only-of-type {\n",
       "        vertical-align: middle;\n",
       "    }\n",
       "\n",
       "    .dataframe tbody tr th {\n",
       "        vertical-align: top;\n",
       "    }\n",
       "\n",
       "    .dataframe thead th {\n",
       "        text-align: right;\n",
       "    }\n",
       "</style>\n",
       "<table border=\"1\" class=\"dataframe\">\n",
       "  <thead>\n",
       "    <tr style=\"text-align: right;\">\n",
       "      <th></th>\n",
       "      <th>Video Samples</th>\n",
       "    </tr>\n",
       "  </thead>\n",
       "  <tbody>\n",
       "    <tr>\n",
       "      <th>normalidade</th>\n",
       "      <td>128</td>\n",
       "    </tr>\n",
       "    <tr>\n",
       "      <th>acúmulo</th>\n",
       "      <td>37</td>\n",
       "    </tr>\n",
       "  </tbody>\n",
       "</table>\n",
       "</div>"
      ],
      "text/plain": [
       "             Video Samples\n",
       "normalidade            128\n",
       "acúmulo                 37"
      ]
     },
     "metadata": {},
     "output_type": "display_data"
    }
   ],
   "source": [
    "replace_tags = {\n",
    "    'acúmulo': ['lâmina', 'bolsão', 'alagamento'],\n",
    "    'normalidade': ['poça', 'normalidade'],\n",
    "}\n",
    "\n",
    "y = []\n",
    "for tag in videos['tag']:\n",
    "    for key, values in replace_tags.items():\n",
    "        if tag in values: y.append(key)\n",
    "\n",
    "y = pd.Series(y, index=videos.index)\n",
    "\n",
    "display(y.value_counts().to_frame('Video Samples'))"
   ]
  },
  {
   "cell_type": "markdown",
   "metadata": {},
   "source": [
    "#### Under sampling video samples · Drop exceeding majority class members"
   ]
  },
  {
   "cell_type": "code",
   "execution_count": 258,
   "metadata": {},
   "outputs": [
    {
     "data": {
      "text/html": [
       "<div>\n",
       "<style scoped>\n",
       "    .dataframe tbody tr th:only-of-type {\n",
       "        vertical-align: middle;\n",
       "    }\n",
       "\n",
       "    .dataframe tbody tr th {\n",
       "        vertical-align: top;\n",
       "    }\n",
       "\n",
       "    .dataframe thead th {\n",
       "        text-align: right;\n",
       "    }\n",
       "</style>\n",
       "<table border=\"1\" class=\"dataframe\">\n",
       "  <thead>\n",
       "    <tr style=\"text-align: right;\">\n",
       "      <th></th>\n",
       "      <th>Videos Under-Sampled</th>\n",
       "    </tr>\n",
       "  </thead>\n",
       "  <tbody>\n",
       "    <tr>\n",
       "      <th>acúmulo</th>\n",
       "      <td>37</td>\n",
       "    </tr>\n",
       "    <tr>\n",
       "      <th>normalidade</th>\n",
       "      <td>37</td>\n",
       "    </tr>\n",
       "  </tbody>\n",
       "</table>\n",
       "</div>"
      ],
      "text/plain": [
       "             Videos Under-Sampled\n",
       "acúmulo                        37\n",
       "normalidade                    37"
      ]
     },
     "metadata": {},
     "output_type": "display_data"
    }
   ],
   "source": [
    "from imblearn.under_sampling import RandomUnderSampler\n",
    "\n",
    "rus = RandomUnderSampler(sampling_strategy=1.0)\n",
    "x_res, y_res = rus.fit_resample(videos, y)\n",
    "\n",
    "display(y_res.value_counts().to_frame('Videos Under-Sampled'))"
   ]
  },
  {
   "cell_type": "markdown",
   "metadata": {},
   "source": [
    "#### Train test split video samples"
   ]
  },
  {
   "cell_type": "code",
   "execution_count": 266,
   "metadata": {},
   "outputs": [
    {
     "data": {
      "text/html": [
       "<div>\n",
       "<style scoped>\n",
       "    .dataframe tbody tr th:only-of-type {\n",
       "        vertical-align: middle;\n",
       "    }\n",
       "\n",
       "    .dataframe tbody tr th {\n",
       "        vertical-align: top;\n",
       "    }\n",
       "\n",
       "    .dataframe thead th {\n",
       "        text-align: right;\n",
       "    }\n",
       "</style>\n",
       "<table border=\"1\" class=\"dataframe\">\n",
       "  <thead>\n",
       "    <tr style=\"text-align: right;\">\n",
       "      <th></th>\n",
       "      <th>Train set</th>\n",
       "      <th>Test set</th>\n",
       "    </tr>\n",
       "  </thead>\n",
       "  <tbody>\n",
       "    <tr>\n",
       "      <th>acúmulo</th>\n",
       "      <td>9</td>\n",
       "      <td>9</td>\n",
       "    </tr>\n",
       "    <tr>\n",
       "      <th>normalidade</th>\n",
       "      <td>9</td>\n",
       "      <td>10</td>\n",
       "    </tr>\n",
       "  </tbody>\n",
       "</table>\n",
       "</div>"
      ],
      "text/plain": [
       "             Train set  Test set\n",
       "acúmulo              9         9\n",
       "normalidade          9        10"
      ]
     },
     "metadata": {},
     "output_type": "display_data"
    }
   ],
   "source": [
    "t_size = 0.25\n",
    "e_size = 0.25\n",
    "\n",
    "xt, xe, yt, ye = train_test_split(\n",
    "    x_res, y_res, train_size=t_size, test_size=e_size,\n",
    "    shuffle=True, stratify=y_res, random_state=0\n",
    ")\n",
    "\n",
    "display(pd.concat([\n",
    "    yt.value_counts().to_frame('Train set'),\n",
    "    ye.value_counts().to_frame('Test set')\n",
    "], axis=1))\n",
    "\n",
    "yy = pd.concat([yt, ye], axis=0)\n",
    "xx = pd.concat([xt, xe], axis=0)"
   ]
  },
  {
   "cell_type": "markdown",
   "metadata": {},
   "source": [
    "#### Load images and class labels from selected videos"
   ]
  },
  {
   "cell_type": "code",
   "execution_count": null,
   "metadata": {},
   "outputs": [
    {
     "name": "stdout",
     "output_type": "stream",
     "text": [
      "CAPTURE LABELED VIDEOS · OPEN: 32/37\n"
     ]
    }
   ],
   "source": [
    "folder = 'Dados/flood-video-collection'\n",
    "# video_filename = 'polygons/flood-unlabeled/1/1475/CODE1475 2023-02-07 19:25:00.mp4'\n",
    "\n",
    "# n = 3\n",
    "\n",
    "videos_paths = [f'{folder}/{blob_name}'.replace(':', '-') for blob_name in xx['blob_name']]\n",
    "videos_labels = yy.tolist()\n",
    "\n",
    "video_loader = VideoLoader(dim=1)\n",
    "\n",
    "# frames = load_video(video_path, gray=False, flat=True)\n",
    "frames, labels = video_loader.frames_from_labeled_videos(videos_paths, videos_labels, print_each=1)"
   ]
  },
  {
   "cell_type": "code",
   "execution_count": 262,
   "metadata": {},
   "outputs": [
    {
     "name": "stdout",
     "output_type": "stream",
     "text": [
      "\n",
      "Videos: 45\n",
      "Frames: 4291\n",
      "Items in first dimension: 409920\n",
      "\n"
     ]
    },
    {
     "data": {
      "text/html": [
       "<div>\n",
       "<style scoped>\n",
       "    .dataframe tbody tr th:only-of-type {\n",
       "        vertical-align: middle;\n",
       "    }\n",
       "\n",
       "    .dataframe tbody tr th {\n",
       "        vertical-align: top;\n",
       "    }\n",
       "\n",
       "    .dataframe thead th {\n",
       "        text-align: right;\n",
       "    }\n",
       "</style>\n",
       "<table border=\"1\" class=\"dataframe\">\n",
       "  <thead>\n",
       "    <tr style=\"text-align: right;\">\n",
       "      <th></th>\n",
       "      <th>Image Samples</th>\n",
       "    </tr>\n",
       "  </thead>\n",
       "  <tbody>\n",
       "    <tr>\n",
       "      <th>acúmulo</th>\n",
       "      <td>3485</td>\n",
       "    </tr>\n",
       "    <tr>\n",
       "      <th>normalidade</th>\n",
       "      <td>806</td>\n",
       "    </tr>\n",
       "  </tbody>\n",
       "</table>\n",
       "</div>"
      ],
      "text/plain": [
       "             Image Samples\n",
       "acúmulo               3485\n",
       "normalidade            806"
      ]
     },
     "metadata": {},
     "output_type": "display_data"
    }
   ],
   "source": [
    "print(f'\\nVideos: {len(xx)}')\n",
    "print(f'Frames: {len(frames)}')\n",
    "print(f'Items in first dimension: {len(frames[0])}')\n",
    "print()\n",
    "display(pd.Series(labels).value_counts().to_frame('Image Samples'))"
   ]
  },
  {
   "cell_type": "markdown",
   "metadata": {},
   "source": [
    "#### Under sampling image samples · Drop exceeding majority class members"
   ]
  },
  {
   "cell_type": "code",
   "execution_count": 264,
   "metadata": {},
   "outputs": [
    {
     "data": {
      "text/html": [
       "<div>\n",
       "<style scoped>\n",
       "    .dataframe tbody tr th:only-of-type {\n",
       "        vertical-align: middle;\n",
       "    }\n",
       "\n",
       "    .dataframe tbody tr th {\n",
       "        vertical-align: top;\n",
       "    }\n",
       "\n",
       "    .dataframe thead th {\n",
       "        text-align: right;\n",
       "    }\n",
       "</style>\n",
       "<table border=\"1\" class=\"dataframe\">\n",
       "  <thead>\n",
       "    <tr style=\"text-align: right;\">\n",
       "      <th></th>\n",
       "      <th>Images Under-Sampled</th>\n",
       "    </tr>\n",
       "  </thead>\n",
       "  <tbody>\n",
       "    <tr>\n",
       "      <th>acúmulo</th>\n",
       "      <td>806</td>\n",
       "    </tr>\n",
       "    <tr>\n",
       "      <th>normalidade</th>\n",
       "      <td>806</td>\n",
       "    </tr>\n",
       "  </tbody>\n",
       "</table>\n",
       "</div>"
      ],
      "text/plain": [
       "             Images Under-Sampled\n",
       "acúmulo                       806\n",
       "normalidade                   806"
      ]
     },
     "metadata": {},
     "output_type": "display_data"
    }
   ],
   "source": [
    "from imblearn.under_sampling import RandomUnderSampler\n",
    "\n",
    "rus = RandomUnderSampler(sampling_strategy=1.0)\n",
    "X_res, Y_res = rus.fit_resample(frames, labels)\n",
    "\n",
    "Y_res = pd.Series(Y_res)\n",
    "\n",
    "display(Y_res.value_counts().to_frame('Images Under-Sampled'))"
   ]
  },
  {
   "cell_type": "markdown",
   "metadata": {},
   "source": [
    "#### Train test split image samples"
   ]
  },
  {
   "cell_type": "code",
   "execution_count": 251,
   "metadata": {},
   "outputs": [
    {
     "data": {
      "text/html": [
       "<div>\n",
       "<style scoped>\n",
       "    .dataframe tbody tr th:only-of-type {\n",
       "        vertical-align: middle;\n",
       "    }\n",
       "\n",
       "    .dataframe tbody tr th {\n",
       "        vertical-align: top;\n",
       "    }\n",
       "\n",
       "    .dataframe thead th {\n",
       "        text-align: right;\n",
       "    }\n",
       "</style>\n",
       "<table border=\"1\" class=\"dataframe\">\n",
       "  <thead>\n",
       "    <tr style=\"text-align: right;\">\n",
       "      <th></th>\n",
       "      <th>Train set</th>\n",
       "      <th>Test set</th>\n",
       "    </tr>\n",
       "  </thead>\n",
       "  <tbody>\n",
       "    <tr>\n",
       "      <th>normalidade</th>\n",
       "      <td>301</td>\n",
       "      <td>300</td>\n",
       "    </tr>\n",
       "    <tr>\n",
       "      <th>acúmulo</th>\n",
       "      <td>300</td>\n",
       "      <td>301</td>\n",
       "    </tr>\n",
       "  </tbody>\n",
       "</table>\n",
       "</div>"
      ],
      "text/plain": [
       "             Train set  Test set\n",
       "normalidade        301       300\n",
       "acúmulo            300       301"
      ]
     },
     "metadata": {},
     "output_type": "display_data"
    }
   ],
   "source": [
    "t_size = 0.3\n",
    "e_size = 0.3\n",
    "\n",
    "X_train, X_test, y_train, y_test = train_test_split(\n",
    "    X_res, Y_res, train_size=t_size, test_size=e_size,\n",
    "    random_state=0, shuffle=True,\n",
    "    stratify=Y_res\n",
    ")\n",
    "\n",
    "display(pd.concat([\n",
    "    pd.Series(y_train).value_counts().to_frame('Train set'),\n",
    "    pd.Series(y_test).value_counts().to_frame('Test set')\n",
    "], axis=1))"
   ]
  },
  {
   "cell_type": "markdown",
   "metadata": {},
   "source": [
    "#### Fit, predict and evaluate base model"
   ]
  },
  {
   "cell_type": "code",
   "execution_count": 214,
   "metadata": {},
   "outputs": [
    {
     "name": "stdout",
     "output_type": "stream",
     "text": [
      "Number of mislabeled points out of a total 675 points : 24\n"
     ]
    }
   ],
   "source": [
    "from sklearn.naive_bayes import GaussianNB\n",
    "\n",
    "gnb = GaussianNB()\n",
    "\n",
    "y_pred = gnb.fit(X_train, y_train).predict(X_test)\n",
    "\n",
    "print(\"Number of mislabeled points out of a total %d points : %d\"\n",
    "      % (X_test.shape[0], (y_test != y_pred).sum()))"
   ]
  },
  {
   "cell_type": "markdown",
   "metadata": {},
   "source": [
    "---\n",
    "## Exploratory data analysis "
   ]
  },
  {
   "cell_type": "markdown",
   "metadata": {},
   "source": [
    "#### Reload labeled videos dataset"
   ]
  },
  {
   "cell_type": "code",
   "execution_count": 30,
   "metadata": {},
   "outputs": [
    {
     "data": {
      "text/html": [
       "<div>\n",
       "<style scoped>\n",
       "    .dataframe tbody tr th:only-of-type {\n",
       "        vertical-align: middle;\n",
       "    }\n",
       "\n",
       "    .dataframe tbody tr th {\n",
       "        vertical-align: top;\n",
       "    }\n",
       "\n",
       "    .dataframe thead th {\n",
       "        text-align: right;\n",
       "    }\n",
       "</style>\n",
       "<table border=\"1\" class=\"dataframe\">\n",
       "  <thead>\n",
       "    <tr style=\"text-align: right;\">\n",
       "      <th></th>\n",
       "      <th>blob_name</th>\n",
       "      <th>blob_size</th>\n",
       "      <th>bucket_name</th>\n",
       "      <th>file_name</th>\n",
       "      <th>code</th>\n",
       "      <th>n_folders</th>\n",
       "      <th>folder_structure</th>\n",
       "      <th>tag</th>\n",
       "    </tr>\n",
       "    <tr>\n",
       "      <th>timestamp</th>\n",
       "      <th></th>\n",
       "      <th></th>\n",
       "      <th></th>\n",
       "      <th></th>\n",
       "      <th></th>\n",
       "      <th></th>\n",
       "      <th></th>\n",
       "      <th></th>\n",
       "    </tr>\n",
       "  </thead>\n",
       "  <tbody>\n",
       "    <tr>\n",
       "      <th>2023-02-07 19:25:00</th>\n",
       "      <td>polygons/flood-unlabeled/1/1475/CODE1475 2023-...</td>\n",
       "      <td>206926</td>\n",
       "      <td>flood-video-collection</td>\n",
       "      <td>CODE1475 2023-02-07 19:25:00.mp4</td>\n",
       "      <td>1475</td>\n",
       "      <td>5</td>\n",
       "      <td>polygons/{type}/{polygon}/{code}</td>\n",
       "      <td>alagamento</td>\n",
       "    </tr>\n",
       "    <tr>\n",
       "      <th>2023-02-07 19:30:00</th>\n",
       "      <td>polygons/flood-unlabeled/1/1475/CODE1475 2023-...</td>\n",
       "      <td>261337</td>\n",
       "      <td>flood-video-collection</td>\n",
       "      <td>CODE1475 2023-02-07 19:30:00.mp4</td>\n",
       "      <td>1475</td>\n",
       "      <td>5</td>\n",
       "      <td>polygons/{type}/{polygon}/{code}</td>\n",
       "      <td>alagamento</td>\n",
       "    </tr>\n",
       "    <tr>\n",
       "      <th>2023-02-07 19:35:00</th>\n",
       "      <td>polygons/flood-unlabeled/1/1475/CODE1475 2023-...</td>\n",
       "      <td>234652</td>\n",
       "      <td>flood-video-collection</td>\n",
       "      <td>CODE1475 2023-02-07 19:35:00.mp4</td>\n",
       "      <td>1475</td>\n",
       "      <td>5</td>\n",
       "      <td>polygons/{type}/{polygon}/{code}</td>\n",
       "      <td>alagamento</td>\n",
       "    </tr>\n",
       "    <tr>\n",
       "      <th>2023-02-07 19:40:00</th>\n",
       "      <td>polygons/flood-unlabeled/1/1475/CODE1475 2023-...</td>\n",
       "      <td>287397</td>\n",
       "      <td>flood-video-collection</td>\n",
       "      <td>CODE1475 2023-02-07 19:40:00.mp4</td>\n",
       "      <td>1475</td>\n",
       "      <td>5</td>\n",
       "      <td>polygons/{type}/{polygon}/{code}</td>\n",
       "      <td>alagamento</td>\n",
       "    </tr>\n",
       "    <tr>\n",
       "      <th>2023-02-07 19:50:00</th>\n",
       "      <td>polygons/flood-unlabeled/1/1475/CODE1475 2023-...</td>\n",
       "      <td>211736</td>\n",
       "      <td>flood-video-collection</td>\n",
       "      <td>CODE1475 2023-02-07 19:50:00.mp4</td>\n",
       "      <td>1475</td>\n",
       "      <td>5</td>\n",
       "      <td>polygons/{type}/{polygon}/{code}</td>\n",
       "      <td>alagamento</td>\n",
       "    </tr>\n",
       "  </tbody>\n",
       "</table>\n",
       "</div>"
      ],
      "text/plain": [
       "                                                             blob_name   \n",
       "timestamp                                                                \n",
       "2023-02-07 19:25:00  polygons/flood-unlabeled/1/1475/CODE1475 2023-...  \\\n",
       "2023-02-07 19:30:00  polygons/flood-unlabeled/1/1475/CODE1475 2023-...   \n",
       "2023-02-07 19:35:00  polygons/flood-unlabeled/1/1475/CODE1475 2023-...   \n",
       "2023-02-07 19:40:00  polygons/flood-unlabeled/1/1475/CODE1475 2023-...   \n",
       "2023-02-07 19:50:00  polygons/flood-unlabeled/1/1475/CODE1475 2023-...   \n",
       "\n",
       "                     blob_size             bucket_name   \n",
       "timestamp                                                \n",
       "2023-02-07 19:25:00     206926  flood-video-collection  \\\n",
       "2023-02-07 19:30:00     261337  flood-video-collection   \n",
       "2023-02-07 19:35:00     234652  flood-video-collection   \n",
       "2023-02-07 19:40:00     287397  flood-video-collection   \n",
       "2023-02-07 19:50:00     211736  flood-video-collection   \n",
       "\n",
       "                                            file_name  code  n_folders   \n",
       "timestamp                                                                \n",
       "2023-02-07 19:25:00  CODE1475 2023-02-07 19:25:00.mp4  1475          5  \\\n",
       "2023-02-07 19:30:00  CODE1475 2023-02-07 19:30:00.mp4  1475          5   \n",
       "2023-02-07 19:35:00  CODE1475 2023-02-07 19:35:00.mp4  1475          5   \n",
       "2023-02-07 19:40:00  CODE1475 2023-02-07 19:40:00.mp4  1475          5   \n",
       "2023-02-07 19:50:00  CODE1475 2023-02-07 19:50:00.mp4  1475          5   \n",
       "\n",
       "                                     folder_structure         tag  \n",
       "timestamp                                                          \n",
       "2023-02-07 19:25:00  polygons/{type}/{polygon}/{code}  alagamento  \n",
       "2023-02-07 19:30:00  polygons/{type}/{polygon}/{code}  alagamento  \n",
       "2023-02-07 19:35:00  polygons/{type}/{polygon}/{code}  alagamento  \n",
       "2023-02-07 19:40:00  polygons/{type}/{polygon}/{code}  alagamento  \n",
       "2023-02-07 19:50:00  polygons/{type}/{polygon}/{code}  alagamento  "
      ]
     },
     "execution_count": 30,
     "metadata": {},
     "output_type": "execute_result"
    }
   ],
   "source": [
    "videos = pd.read_csv('Dados/Rotulos/1475_2023-02-07.csv')\n",
    "\n",
    "videos['timestamp'] = pd.to_datetime(videos['timestamp'])\n",
    "videos = videos.set_index('timestamp', drop=True).sort_index()\n",
    "\n",
    "videos.head()"
   ]
  }
 ],
 "metadata": {
  "kernelspec": {
   "display_name": "Python 3",
   "language": "python",
   "name": "python3"
  },
  "language_info": {
   "codemirror_mode": {
    "name": "ipython",
    "version": 3
   },
   "file_extension": ".py",
   "mimetype": "text/x-python",
   "name": "python",
   "nbconvert_exporter": "python",
   "pygments_lexer": "ipython3",
   "version": "3.8.3"
  }
 },
 "nbformat": 4,
 "nbformat_minor": 4
}
