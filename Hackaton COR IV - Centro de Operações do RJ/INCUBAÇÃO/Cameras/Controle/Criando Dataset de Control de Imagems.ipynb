{
 "cells": [
  {
   "cell_type": "code",
   "execution_count": null,
   "id": "dab938c4-12a1-4bc5-aad1-3513d44d161b",
   "metadata": {},
   "outputs": [],
   "source": []
  },
  {
   "cell_type": "markdown",
   "id": "4e0bc5f5-77f5-499e-ac7c-bd6a6589b6bf",
   "metadata": {
    "tags": []
   },
   "source": [
    "# Build image dataset from collection of flood-videos "
   ]
  },
  {
   "cell_type": "markdown",
   "id": "67c8ff1f-0c6b-40b0-a613-8f270188895d",
   "metadata": {},
   "source": [
    "---"
   ]
  },
  {
   "cell_type": "code",
   "execution_count": 1,
   "id": "f262535c-c892-4b2e-8e35-50eae7422139",
   "metadata": {},
   "outputs": [
    {
     "name": "stdout",
     "output_type": "stream",
     "text": [
      "C:\\Users\\luisr\\Desktop\\Repositories\\Data Science Projects\\Hackaton COR IV - Centro de Operações do RJ\\INCUBAÇÃO\\Cameras\n"
     ]
    }
   ],
   "source": [
    "cd ../"
   ]
  },
  {
   "cell_type": "markdown",
   "id": "1dbaefd7-8be3-48a9-b090-ea87bee6dbaa",
   "metadata": {},
   "source": [
    "#### Class to measure execution time"
   ]
  },
  {
   "cell_type": "code",
   "execution_count": 2,
   "id": "03671977-9093-4427-9599-6054002206e9",
   "metadata": {},
   "outputs": [],
   "source": [
    "from time import time\n",
    "\n",
    "# Simples class to report execution time\n",
    "\n",
    "class Timer:\n",
    "    def __init__(self):\n",
    "        self.start = time()\n",
    "    def end(self, decimals=4):\n",
    "        end = time() - self.start\n",
    "        print('\\n* TIME TO EXECUTE:', round(end, decimals), 's')"
   ]
  },
  {
   "cell_type": "markdown",
   "id": "92d83af9-57fa-4150-a060-50eb8a91ad22",
   "metadata": {},
   "source": [
    "### Function to build image dataset from flood videos dataset"
   ]
  },
  {
   "cell_type": "code",
   "execution_count": 3,
   "id": "87f43af4-961d-4d9b-8cb7-3c32c8c3d011",
   "metadata": {},
   "outputs": [],
   "source": [
    "import os, pandas as pd, cv2\n",
    "from IPython.display import clear_output as co\n",
    "from modules.controlled_pipeline import Progress\n",
    "\n",
    "def videos_to_frames(videos, folder, dt_col='timestamp', fps=3, print_each=100, as_datetime=True, dataset_path=None, datetime_unit='ms'):\n",
    "    \n",
    "    # loop preparation\n",
    "    n_videos = len(videos)\n",
    "    imgs_rows = []; fail = []\n",
    "    progress = Progress(n_videos)\n",
    "    \n",
    "    # iterate rows of videos dataset\n",
    "    for i, (idx, row) in enumerate(videos.iterrows()):\n",
    "        \n",
    "        # report progress\n",
    "        if (i + 1) % print_each == 0 or (i + 1) == n_videos:\n",
    "            fail_cnt = pd.DataFrame(fail)['reason'].value_counts().to_dict() if len(fail) else None\n",
    "            co(True); print(f'\\nBUILD IMAGE DATASET FROM VIDEO FILES · N-FAIL: {len(fail)} · FAIL-CNT: {fail_cnt}')\n",
    "            progress.report(i)\n",
    "            \n",
    "        # continue/skip if video file of path doesn't exists\n",
    "        file_path = f'{folder}/{row[\"blob_name\"]}'.replace(':', '-') # file path fix\n",
    "        if not os.path.exists(file_path):\n",
    "            fail.append({'path': file_path, 'reason': 'file-not-found'})\n",
    "            continue\n",
    "            \n",
    "        # open video file\n",
    "        video = cv2.VideoCapture(file_path)\n",
    "        # if not video.isOpened():\n",
    "            # print(f'Cannot open video · PATH: {file_path}')\n",
    "            # fail.append({'path': file_path, 'reason': 'cannot-open-file'})\n",
    "            # continue\n",
    "            \n",
    "        # get number of frames of video file\n",
    "        num_frames = int(video.get(cv2.CAP_PROP_FRAME_COUNT))\n",
    "        \n",
    "        # build video frames' dataset and add `image_timestamp` field\n",
    "        start = row[dt_col].round('s')\n",
    "        images_timestamps = pd.to_datetime(pd.date_range(start=start, periods=num_frames, freq=f'{int(1e9/fps)}ns')) # pd.offsets.Second() / fps\n",
    "        images = pd.DataFrame([row], index=range(num_frames))\n",
    "        images['image_timestamp'] = images_timestamps\n",
    "        \n",
    "        # append video frames' dataset\n",
    "        imgs_rows.append(images)\n",
    "        \n",
    "    # concat video frames' dataset\n",
    "    images = pd.concat(imgs_rows)\n",
    "    \n",
    "    # format dataset datetime field\n",
    "    images['image_timestamp'] = images['image_timestamp'].round(datetime_unit)\n",
    "    if not as_datetime:\n",
    "        images['image_timestamp'] = images['image_timestamp'].astype(str) # round to seconds by pre-converting to string format\n",
    "    \n",
    "    if dataset_path is not None:\n",
    "        images.to_csv(dataset_path, index=False)\n",
    "        print(f'\\n - Images dataset saved to csv file · {dataset_path}')\n",
    "\n",
    "    # report if any process fails\n",
    "    if len(fail):\n",
    "        print(f'PROCESS PARTIALLY SUCCESSFUL · N-FAILED: {len(fail)}')\n",
    "        display(pd.DataFrame(fail))\n",
    "        \n",
    "    # return full frames' dataset\n",
    "    return images"
   ]
  },
  {
   "cell_type": "markdown",
   "id": "4eaff4a1-0b7c-4407-b583-e20aaf464cbd",
   "metadata": {},
   "source": [
    "### Extra · Execution time testing · Compare methods for checking whether a video file exists"
   ]
  },
  {
   "cell_type": "code",
   "execution_count": 4,
   "id": "092bb053-a2d5-4bef-b3f8-e51bbb6b9cca",
   "metadata": {},
   "outputs": [
    {
     "name": "stdout",
     "output_type": "stream",
     "text": [
      "\n",
      "* TIME TO EXECUTE: 0.002 s\n",
      "\n",
      "* TIME TO EXECUTE: 3.3562 s\n"
     ]
    }
   ],
   "source": [
    "import os, cv2\n",
    "\n",
    "n = 10\n",
    "file_path = 'Dados/flood-video-collection/normal/1000/CODE1000 2023-04-07 20-22-43.mp4'  # file does not exist\n",
    "\n",
    "timer = Timer()\n",
    "for i in range(n):\n",
    "    os.path.exists(file_path)\n",
    "timer.end(decimals=4)\n",
    "\n",
    "timer = Timer()\n",
    "for i in range(n):\n",
    "    video = cv2.VideoCapture(file_path)\n",
    "    video.isOpened()\n",
    "timer.end(decimals=4)\n",
    "\n",
    "video.release()"
   ]
  },
  {
   "cell_type": "markdown",
   "id": "30a22331-f829-43ff-90de-c9a8d1f7d5fc",
   "metadata": {},
   "source": [
    "### Reload flood videos dataset"
   ]
  },
  {
   "cell_type": "code",
   "execution_count": 5,
   "id": "0e7f3ca1-708d-4c96-ad26-3241f249bf4d",
   "metadata": {},
   "outputs": [
    {
     "name": "stdout",
     "output_type": "stream",
     "text": [
      "Index(['blob_name', 'blob_size', 'bucket_name', 'file_name', 'code',\n",
      "       'n_folders', 'timestamp', 'folder_structure'],\n",
      "      dtype='object')\n"
     ]
    }
   ],
   "source": [
    "import pandas as pd\n",
    "\n",
    "# date = '2023-04-29'\n",
    "\n",
    "video_control_path = f'Dados/Controle de vídeos/videos_control_{date}.csv'\n",
    "\n",
    "videos = pd.read_csv(video_control_path)\n",
    "videos['timestamp'] = pd.to_datetime(videos['timestamp'])\n",
    "\n",
    "print(videos.columns)"
   ]
  },
  {
   "cell_type": "markdown",
   "id": "bfc247d8-e62c-47a4-9f3f-05624762ff0d",
   "metadata": {},
   "source": [
    "### Build image dataset from flood videos dataset"
   ]
  },
  {
   "cell_type": "code",
   "execution_count": 8,
   "id": "78e2620e-0286-4ea6-b79d-08f13062f300",
   "metadata": {},
   "outputs": [
    {
     "name": "stdout",
     "output_type": "stream",
     "text": [
      "\n",
      "BUILD IMAGE DATASET FROM VIDEO FILES · N-FAIL: 28643 · FAIL-CNT: {'file-not-found': 28643}\n",
      "\n",
      "- PROGRESS: 44373 / 44374 ops · PROGRESS-PRCT: 100.0 %\n",
      "\n",
      "- RUNNING: 9.9 min · EXPECT-FINISH: 0.0 min · RATE: 74.3799 ops / s\n",
      "\n",
      " - Images dataset saved to csv file · Dados/Controle de vídeos/images_control_2023-04-29.csv\n",
      "PROCESS PARTIALLY SUCCESSFUL · N-FAILED: 28644\n"
     ]
    },
    {
     "data": {
      "text/html": [
       "<div>\n",
       "<style scoped>\n",
       "    .dataframe tbody tr th:only-of-type {\n",
       "        vertical-align: middle;\n",
       "    }\n",
       "\n",
       "    .dataframe tbody tr th {\n",
       "        vertical-align: top;\n",
       "    }\n",
       "\n",
       "    .dataframe thead th {\n",
       "        text-align: right;\n",
       "    }\n",
       "</style>\n",
       "<table border=\"1\" class=\"dataframe\">\n",
       "  <thead>\n",
       "    <tr style=\"text-align: right;\">\n",
       "      <th></th>\n",
       "      <th>path</th>\n",
       "      <th>reason</th>\n",
       "    </tr>\n",
       "  </thead>\n",
       "  <tbody>\n",
       "    <tr>\n",
       "      <th>0</th>\n",
       "      <td>Dados/flood-video-collection/comando/bolsão/95...</td>\n",
       "      <td>file-not-found</td>\n",
       "    </tr>\n",
       "    <tr>\n",
       "      <th>1</th>\n",
       "      <td>Dados/flood-video-collection/comando/bolsão/95...</td>\n",
       "      <td>file-not-found</td>\n",
       "    </tr>\n",
       "    <tr>\n",
       "      <th>2</th>\n",
       "      <td>Dados/flood-video-collection/comando/bolsão/95...</td>\n",
       "      <td>file-not-found</td>\n",
       "    </tr>\n",
       "    <tr>\n",
       "      <th>3</th>\n",
       "      <td>Dados/flood-video-collection/comando/bolsão/95...</td>\n",
       "      <td>file-not-found</td>\n",
       "    </tr>\n",
       "    <tr>\n",
       "      <th>4</th>\n",
       "      <td>Dados/flood-video-collection/comando/bolsão/95...</td>\n",
       "      <td>file-not-found</td>\n",
       "    </tr>\n",
       "    <tr>\n",
       "      <th>...</th>\n",
       "      <td>...</td>\n",
       "      <td>...</td>\n",
       "    </tr>\n",
       "    <tr>\n",
       "      <th>28639</th>\n",
       "      <td>Dados/flood-video-collection/waze/flood/ff0f2d...</td>\n",
       "      <td>file-not-found</td>\n",
       "    </tr>\n",
       "    <tr>\n",
       "      <th>28640</th>\n",
       "      <td>Dados/flood-video-collection/waze/flood/ff5e0e...</td>\n",
       "      <td>file-not-found</td>\n",
       "    </tr>\n",
       "    <tr>\n",
       "      <th>28641</th>\n",
       "      <td>Dados/flood-video-collection/waze/flood/ff5e0e...</td>\n",
       "      <td>file-not-found</td>\n",
       "    </tr>\n",
       "    <tr>\n",
       "      <th>28642</th>\n",
       "      <td>Dados/flood-video-collection/waze/flood/ff5e0e...</td>\n",
       "      <td>file-not-found</td>\n",
       "    </tr>\n",
       "    <tr>\n",
       "      <th>28643</th>\n",
       "      <td>Dados/flood-video-collection/waze/flood/ffc2c4...</td>\n",
       "      <td>file-not-found</td>\n",
       "    </tr>\n",
       "  </tbody>\n",
       "</table>\n",
       "<p>28644 rows × 2 columns</p>\n",
       "</div>"
      ],
      "text/plain": [
       "                                                    path          reason\n",
       "0      Dados/flood-video-collection/comando/bolsão/95...  file-not-found\n",
       "1      Dados/flood-video-collection/comando/bolsão/95...  file-not-found\n",
       "2      Dados/flood-video-collection/comando/bolsão/95...  file-not-found\n",
       "3      Dados/flood-video-collection/comando/bolsão/95...  file-not-found\n",
       "4      Dados/flood-video-collection/comando/bolsão/95...  file-not-found\n",
       "...                                                  ...             ...\n",
       "28639  Dados/flood-video-collection/waze/flood/ff0f2d...  file-not-found\n",
       "28640  Dados/flood-video-collection/waze/flood/ff5e0e...  file-not-found\n",
       "28641  Dados/flood-video-collection/waze/flood/ff5e0e...  file-not-found\n",
       "28642  Dados/flood-video-collection/waze/flood/ff5e0e...  file-not-found\n",
       "28643  Dados/flood-video-collection/waze/flood/ffc2c4...  file-not-found\n",
       "\n",
       "[28644 rows x 2 columns]"
      ]
     },
     "metadata": {},
     "output_type": "display_data"
    }
   ],
   "source": [
    "images_dataset_path = f'Dados/Controle de vídeos/images_control_{date}.csv'\n",
    "\n",
    "images_dataset = videos_to_frames(\n",
    "    videos=videos,\n",
    "    folder='Dados/flood-video-collection',\n",
    "    dt_col='timestamp', fps=3,\n",
    "    print_each=250, as_datetime=False,\n",
    "    dataset_path=images_dataset_path\n",
    ")"
   ]
  },
  {
   "cell_type": "markdown",
   "id": "767ee171-2c35-4e7c-bbb9-a9eaef714a39",
   "metadata": {},
   "source": [
    "---\n",
    "## Basic Exploratory Data Analaysis"
   ]
  },
  {
   "cell_type": "markdown",
   "id": "5a0ecea4-1592-4555-8551-fa2a73aa4507",
   "metadata": {},
   "source": [
    "#### Reload flood images dataset"
   ]
  },
  {
   "cell_type": "code",
   "execution_count": 9,
   "id": "f7caf722-38f3-4f1b-97f3-3d300f7bd147",
   "metadata": {},
   "outputs": [
    {
     "name": "stdout",
     "output_type": "stream",
     "text": [
      "Index(['blob_name', 'blob_size', 'bucket_name', 'file_name', 'code',\n",
      "       'n_folders', 'timestamp', 'folder_structure', 'image_timestamp'],\n",
      "      dtype='object')\n"
     ]
    }
   ],
   "source": [
    "import pandas as pd\n",
    "\n",
    "image_control_path = 'Dados/Controle de vídeos/images_control_2023-04-29.csv'\n",
    "\n",
    "images = pd.read_csv(image_control_path)\n",
    "images['timestamp'] = pd.to_datetime(images['timestamp'])\n",
    "images['image_timestamp'] = pd.to_datetime(images['image_timestamp'])\n",
    "\n",
    "print(images.columns)"
   ]
  },
  {
   "cell_type": "markdown",
   "id": "111cf548-cc9e-4cc4-95a5-28181d7b88f4",
   "metadata": {},
   "source": [
    "#### Number of images"
   ]
  },
  {
   "cell_type": "code",
   "execution_count": 10,
   "id": "a255b8b9-e527-4b7a-8fe6-fec1db8e05c4",
   "metadata": {},
   "outputs": [
    {
     "name": "stdout",
     "output_type": "stream",
     "text": [
      "Number of images in result:  (678639, 9)\n"
     ]
    }
   ],
   "source": [
    "print('Number of images in result: ', images.shape)"
   ]
  },
  {
   "cell_type": "markdown",
   "id": "da1da9cb-1d5b-4fec-8723-17730b8774cc",
   "metadata": {},
   "source": [
    "#### Percentage of images in videos downloaded"
   ]
  },
  {
   "cell_type": "code",
   "execution_count": 12,
   "id": "7fd39644-b131-4cd7-b361-6b8d88f8e365",
   "metadata": {},
   "outputs": [
    {
     "name": "stdout",
     "output_type": "stream",
     "text": [
      "\n",
      "Percentage of images downloaded: 35.13 %\n",
      "Total Downloads: 15469\n"
     ]
    }
   ],
   "source": [
    "a = videos['blob_name'].isin(images['blob_name'])\n",
    "\n",
    "p_in = (a.mean() * 100).round(2)\n",
    "n_in = a.sum()\n",
    "\n",
    "print(f'\\nPercentage of images downloaded: {p_in} %')\n",
    "print('Total Downloads:', n_in)"
   ]
  },
  {
   "cell_type": "markdown",
   "id": "4affe72f-d2fb-46cb-9062-b11f1b3245b4",
   "metadata": {},
   "source": [
    "#### First rows"
   ]
  },
  {
   "cell_type": "code",
   "execution_count": 13,
   "id": "63f44fe2-27bf-462b-a2e1-53c8ab3fef00",
   "metadata": {},
   "outputs": [
    {
     "data": {
      "text/html": [
       "<div>\n",
       "<style scoped>\n",
       "    .dataframe tbody tr th:only-of-type {\n",
       "        vertical-align: middle;\n",
       "    }\n",
       "\n",
       "    .dataframe tbody tr th {\n",
       "        vertical-align: top;\n",
       "    }\n",
       "\n",
       "    .dataframe thead th {\n",
       "        text-align: right;\n",
       "    }\n",
       "</style>\n",
       "<table border=\"1\" class=\"dataframe\">\n",
       "  <thead>\n",
       "    <tr style=\"text-align: right;\">\n",
       "      <th></th>\n",
       "      <th>blob_name</th>\n",
       "      <th>blob_size</th>\n",
       "      <th>bucket_name</th>\n",
       "      <th>file_name</th>\n",
       "      <th>code</th>\n",
       "      <th>n_folders</th>\n",
       "      <th>timestamp</th>\n",
       "      <th>folder_structure</th>\n",
       "      <th>image_timestamp</th>\n",
       "    </tr>\n",
       "  </thead>\n",
       "  <tbody>\n",
       "    <tr>\n",
       "      <th>0</th>\n",
       "      <td>comando/alagamento/93898/1993/CODE1993 2023-03...</td>\n",
       "      <td>1317301</td>\n",
       "      <td>flood-video-collection</td>\n",
       "      <td>CODE1993 2023-03-30 19-55-06.mp4</td>\n",
       "      <td>1993</td>\n",
       "      <td>4</td>\n",
       "      <td>2023-03-30 19:55:06</td>\n",
       "      <td>{source}/{type}/{event}/{code}</td>\n",
       "      <td>2023-03-30 19:55:06.000</td>\n",
       "    </tr>\n",
       "    <tr>\n",
       "      <th>1</th>\n",
       "      <td>comando/alagamento/93898/1993/CODE1993 2023-03...</td>\n",
       "      <td>1317301</td>\n",
       "      <td>flood-video-collection</td>\n",
       "      <td>CODE1993 2023-03-30 19-55-06.mp4</td>\n",
       "      <td>1993</td>\n",
       "      <td>4</td>\n",
       "      <td>2023-03-30 19:55:06</td>\n",
       "      <td>{source}/{type}/{event}/{code}</td>\n",
       "      <td>2023-03-30 19:55:06.333</td>\n",
       "    </tr>\n",
       "    <tr>\n",
       "      <th>2</th>\n",
       "      <td>comando/alagamento/93898/1993/CODE1993 2023-03...</td>\n",
       "      <td>1317301</td>\n",
       "      <td>flood-video-collection</td>\n",
       "      <td>CODE1993 2023-03-30 19-55-06.mp4</td>\n",
       "      <td>1993</td>\n",
       "      <td>4</td>\n",
       "      <td>2023-03-30 19:55:06</td>\n",
       "      <td>{source}/{type}/{event}/{code}</td>\n",
       "      <td>2023-03-30 19:55:06.667</td>\n",
       "    </tr>\n",
       "    <tr>\n",
       "      <th>3</th>\n",
       "      <td>comando/alagamento/93898/1993/CODE1993 2023-03...</td>\n",
       "      <td>1317301</td>\n",
       "      <td>flood-video-collection</td>\n",
       "      <td>CODE1993 2023-03-30 19-55-06.mp4</td>\n",
       "      <td>1993</td>\n",
       "      <td>4</td>\n",
       "      <td>2023-03-30 19:55:06</td>\n",
       "      <td>{source}/{type}/{event}/{code}</td>\n",
       "      <td>2023-03-30 19:55:07.000</td>\n",
       "    </tr>\n",
       "    <tr>\n",
       "      <th>4</th>\n",
       "      <td>comando/alagamento/93898/1993/CODE1993 2023-03...</td>\n",
       "      <td>1317301</td>\n",
       "      <td>flood-video-collection</td>\n",
       "      <td>CODE1993 2023-03-30 19-55-06.mp4</td>\n",
       "      <td>1993</td>\n",
       "      <td>4</td>\n",
       "      <td>2023-03-30 19:55:06</td>\n",
       "      <td>{source}/{type}/{event}/{code}</td>\n",
       "      <td>2023-03-30 19:55:07.333</td>\n",
       "    </tr>\n",
       "  </tbody>\n",
       "</table>\n",
       "</div>"
      ],
      "text/plain": [
       "                                           blob_name  blob_size  \\\n",
       "0  comando/alagamento/93898/1993/CODE1993 2023-03...    1317301   \n",
       "1  comando/alagamento/93898/1993/CODE1993 2023-03...    1317301   \n",
       "2  comando/alagamento/93898/1993/CODE1993 2023-03...    1317301   \n",
       "3  comando/alagamento/93898/1993/CODE1993 2023-03...    1317301   \n",
       "4  comando/alagamento/93898/1993/CODE1993 2023-03...    1317301   \n",
       "\n",
       "              bucket_name                         file_name  code  n_folders  \\\n",
       "0  flood-video-collection  CODE1993 2023-03-30 19-55-06.mp4  1993          4   \n",
       "1  flood-video-collection  CODE1993 2023-03-30 19-55-06.mp4  1993          4   \n",
       "2  flood-video-collection  CODE1993 2023-03-30 19-55-06.mp4  1993          4   \n",
       "3  flood-video-collection  CODE1993 2023-03-30 19-55-06.mp4  1993          4   \n",
       "4  flood-video-collection  CODE1993 2023-03-30 19-55-06.mp4  1993          4   \n",
       "\n",
       "            timestamp                folder_structure         image_timestamp  \n",
       "0 2023-03-30 19:55:06  {source}/{type}/{event}/{code} 2023-03-30 19:55:06.000  \n",
       "1 2023-03-30 19:55:06  {source}/{type}/{event}/{code} 2023-03-30 19:55:06.333  \n",
       "2 2023-03-30 19:55:06  {source}/{type}/{event}/{code} 2023-03-30 19:55:06.667  \n",
       "3 2023-03-30 19:55:06  {source}/{type}/{event}/{code} 2023-03-30 19:55:07.000  \n",
       "4 2023-03-30 19:55:06  {source}/{type}/{event}/{code} 2023-03-30 19:55:07.333  "
      ]
     },
     "execution_count": 13,
     "metadata": {},
     "output_type": "execute_result"
    }
   ],
   "source": [
    "images.head()"
   ]
  }
 ],
 "metadata": {
  "kernelspec": {
   "display_name": "Python 3 (ipykernel)",
   "language": "python",
   "name": "python3"
  },
  "language_info": {
   "codemirror_mode": {
    "name": "ipython",
    "version": 3
   },
   "file_extension": ".py",
   "mimetype": "text/x-python",
   "name": "python",
   "nbconvert_exporter": "python",
   "pygments_lexer": "ipython3",
   "version": "3.10.9"
  }
 },
 "nbformat": 4,
 "nbformat_minor": 5
}
