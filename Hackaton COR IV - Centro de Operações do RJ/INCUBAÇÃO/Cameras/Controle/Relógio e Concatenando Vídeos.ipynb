{
 "cells": [
  {
   "cell_type": "markdown",
   "metadata": {},
   "source": [
    "# Add live timestamp, concat and accelerate videos from cloud storage bucket · Basic Examples"
   ]
  },
  {
   "cell_type": "code",
   "execution_count": 1,
   "metadata": {},
   "outputs": [
    {
     "name": "stdout",
     "output_type": "stream",
     "text": [
      "C:\\Users\\luisr\\Desktop\\Repositories\\Data Science Projects\\Hackaton COR IV - Centro de Operações do RJ\\INCUBAÇÃO\\Cameras\n"
     ]
    }
   ],
   "source": [
    "cd ../"
   ]
  },
  {
   "cell_type": "markdown",
   "metadata": {},
   "source": [
    "---\n",
    "## Download  blobs in Cloud Storage bucket to folder"
   ]
  },
  {
   "cell_type": "markdown",
   "metadata": {},
   "source": [
    "#### Import Google Cloud Storage wrapper module and set storage instance"
   ]
  },
  {
   "cell_type": "code",
   "execution_count": 6,
   "metadata": {},
   "outputs": [],
   "source": [
    "from modules.googlecloudstorage import GCS\n",
    "\n",
    "sa_json = '../../../../Apps/APIs/octa-api/credentials/octacity-iduff.json'\n",
    "user_project = None\n",
    "default_bucket_name = 'flood-video-collection'\n",
    "\n",
    "gcs = GCS(sa_json, user_project, default_bucket_name)"
   ]
  },
  {
   "cell_type": "markdown",
   "metadata": {},
   "source": [
    "#### List collection blobs with .mp4 extension (and file bytes size)"
   ]
  },
  {
   "cell_type": "code",
   "execution_count": null,
   "metadata": {},
   "outputs": [],
   "source": [
    "bucket_name = 'flood-video-collection'\n",
    "prefix = 'polygons/flood-unlabeled/'\n",
    "delimiter = None\n",
    "\n",
    "ext = '.mp4'\n",
    "print_each = 1000\n",
    "\n",
    "names = []\n",
    "for i, blob in enumerate(gcs.list_blobs(prefix, delimiter, bucket_name)):\n",
    "    if blob.name.endswith(ext):\n",
    "        names.append([blob.name, blob.size])\n",
    "    if (i + 1) % print_each == 0: print(f'\\n- Blobs Searched: {i + 1}'); co(True)\n",
    "\n",
    "print(f'\\n- Blobs Searched: {i + 1}')\n",
    "print(f'\\n · Results: {len(names)}')"
   ]
  },
  {
   "cell_type": "markdown",
   "metadata": {},
   "source": [
    "#### Download blobs in `bucket_name` matching `prefix` to `folder`"
   ]
  },
  {
   "cell_type": "code",
   "execution_count": 4,
   "metadata": {},
   "outputs": [
    {
     "name": "stdout",
     "output_type": "stream",
     "text": [
      "\n",
      "PREFIX: polygons/flood-unlabeled/1/ · RUNNING: 4.2 min · RATE: 0.7203 s / file · FINISH-ESTIMATE: 0.0 min · PROGRESS: 350/351 · DOWNLOADS: 265/351\n",
      "\n",
      "DOWNLOAD FAILED. FILE ALREADY EXISTS. FILE: Dados/flood-video-collection/polygons/flood-unlabeled/1/313/CODE313 2023-02-08 09-45-00.mp4 · BLOB: polygons/flood-unlabeled/1/313/CODE313 2023-02-08 09:45:00.mp4 · BUCKET: flood-video-collection · (349/351)\n",
      "\n",
      "DOWNLOAD FAILED. FILE ALREADY EXISTS. FILE: Dados/flood-video-collection/polygons/flood-unlabeled/1/313/CODE313 2023-02-08 09-50-00.mp4 · BLOB: polygons/flood-unlabeled/1/313/CODE313 2023-02-08 09:50:00.mp4 · BUCKET: flood-video-collection · (350/351)\n"
     ]
    }
   ],
   "source": [
    "bucket_name = 'flood-video-collection'\n",
    "prefix = 'polygons/flood-unlabeled/1/'\n",
    "delimiter = None\n",
    "folder = 'Dados/flood-video-collection/'\n",
    "\n",
    "gcs.download_to_folder(folder, prefix, delimiter, bucket_name, report_freq=5, overwrite=False)"
   ]
  },
  {
   "cell_type": "markdown",
   "metadata": {},
   "source": [
    "---\n",
    "## Annotate videos timestamps"
   ]
  },
  {
   "cell_type": "code",
   "execution_count": 1,
   "metadata": {},
   "outputs": [
    {
     "name": "stdout",
     "output_type": "stream",
     "text": [
      "C:\\Users\\luisr\\Desktop\\Repositories\\Data Science Projects\\Hackaton COR IV - Centro de Operações do RJ\\INCUBAÇÃO\\Cameras\n"
     ]
    }
   ],
   "source": [
    "cd ../"
   ]
  },
  {
   "cell_type": "code",
   "execution_count": 2,
   "metadata": {},
   "outputs": [
    {
     "name": "stderr",
     "output_type": "stream",
     "text": [
      "c:\\Users\\luisr\\anaconda3\\lib\\site-packages\\pandas\\core\\computation\\expressions.py:20: UserWarning: Pandas requires version '2.7.3' or newer of 'numexpr' (version '2.7.1' currently installed).\n",
      "  from pandas.core.computation.check import NUMEXPR_INSTALLED\n"
     ]
    }
   ],
   "source": [
    "from modules.video import VideoWriter"
   ]
  },
  {
   "cell_type": "markdown",
   "metadata": {},
   "source": [
    "#### video writing class and methods:\n",
    "1. Add running clock to video files\n",
    "2. Concatenate video files from nested folders\n",
    "3. Accelerate video files from nested folders"
   ]
  },
  {
   "cell_type": "markdown",
   "metadata": {},
   "source": [
    "#### Video writer /class instance"
   ]
  },
  {
   "cell_type": "code",
   "execution_count": 3,
   "metadata": {},
   "outputs": [],
   "source": [
    "writer = VideoWriter(fps=3, shape=(854, 480), codec='mp4v')"
   ]
  },
  {
   "cell_type": "markdown",
   "metadata": {},
   "source": [
    "#### Add clock to single video file"
   ]
  },
  {
   "cell_type": "code",
   "execution_count": 200,
   "metadata": {},
   "outputs": [],
   "source": [
    "path = 'polygons/flood/1/313/CODE313 2023-02-11 20-50-00.mp4'\n",
    "folder = 'Dados/flood-video-collection'\n",
    "to_folder = 'Dados/flood-video-collection-stamped'\n",
    "\n",
    "writer.annot(folder, path, to_folder)"
   ]
  },
  {
   "cell_type": "markdown",
   "metadata": {},
   "source": [
    "#### Add clock to nested video files in folder"
   ]
  },
  {
   "cell_type": "code",
   "execution_count": 26,
   "metadata": {},
   "outputs": [
    {
     "name": "stdout",
     "output_type": "stream",
     "text": [
      "VIDEO TIMESTAMP ANNOTATION · DONE: 381/381 · SUCCESS: 262/381\n"
     ]
    }
   ],
   "source": [
    "folder = 'Dados/flood-video-collection'\n",
    "to_folder = 'Dados/flood-video-collection-stamped'\n",
    "ext = '.mp4'\n",
    "\n",
    "writer.annot_folder_nested(folder, to_folder, ext, overwrite=False)"
   ]
  },
  {
   "cell_type": "markdown",
   "metadata": {},
   "source": [
    "---\n",
    "## Concatenate and accelerate videos from folders"
   ]
  },
  {
   "cell_type": "code",
   "execution_count": 3,
   "metadata": {},
   "outputs": [
    {
     "name": "stdout",
     "output_type": "stream",
     "text": [
      "C:\\Users\\luisr\\Desktop\\Repositories\\Data Science Projects\\Hackaton COR IV - Centro de Operações do RJ\\INCUBAÇÃO\\Cameras\n"
     ]
    }
   ],
   "source": [
    "cd ../"
   ]
  },
  {
   "cell_type": "code",
   "execution_count": 27,
   "metadata": {},
   "outputs": [],
   "source": [
    "from time import time"
   ]
  },
  {
   "cell_type": "markdown",
   "metadata": {},
   "source": [
    "#### Video writer instance"
   ]
  },
  {
   "cell_type": "code",
   "execution_count": 4,
   "metadata": {},
   "outputs": [],
   "source": [
    "from modules.video import VideoWriter\n",
    "\n",
    "writer = VideoWriter(fps=12, shape=(854, 480), codec='mp4v')"
   ]
  },
  {
   "cell_type": "markdown",
   "metadata": {},
   "source": [
    "#### Concatenate and accelerate videos from folder"
   ]
  },
  {
   "cell_type": "code",
   "execution_count": 204,
   "metadata": {},
   "outputs": [
    {
     "data": {
      "text/plain": [
       "6.342030048370361"
      ]
     },
     "execution_count": 204,
     "metadata": {},
     "output_type": "execute_result"
    }
   ],
   "source": [
    "path = 'final.mp4'\n",
    "folder = 'Dados/flood-video-collection-stamped/polygons/flood/1/313/'\n",
    "\n",
    "\n",
    "s = time()\n",
    "writer.concatenate_videos_from_folder(folder, path, ext)\n",
    "t = time() - s\n",
    "\n",
    "t"
   ]
  },
  {
   "cell_type": "markdown",
   "metadata": {},
   "source": [
    "#### Concatenate videos from **single** folder by date"
   ]
  },
  {
   "cell_type": "code",
   "execution_count": 30,
   "metadata": {},
   "outputs": [
    {
     "name": "stdout",
     "output_type": "stream",
     "text": [
      "ANNOTATE VIDEO TIMESTAMP FAILED. FILE ALREADY EXISTS · FILE: Dados/flood-video-collection-date/polygons/flood/1/313/CODE313 2023-02-11.mp4\n",
      "ANNOTATE VIDEO TIMESTAMP FAILED. FILE ALREADY EXISTS · FILE: Dados/flood-video-collection-date/polygons/flood/1/313/CODE313 2023-02-28.mp4\n",
      "ANNOTATE VIDEO TIMESTAMP FAILED. FILE ALREADY EXISTS · FILE: Dados/flood-video-collection-date/polygons/flood/1/313/CODE313 2023-03-01.mp4\n",
      "\n",
      "* TIME TO EXECUTE: 0.008 s\n"
     ]
    }
   ],
   "source": [
    "folder = 'polygons/flood/1/313'\n",
    "base_folder = 'Dados/flood-video-collection-stamped'\n",
    "to_base_folder = 'Dados/flood-video-collection-date'\n",
    "\n",
    "s = time()\n",
    "writer.concatenate_videos_from_folder_by_date(\n",
    "    folder, base_folder, to_base_folder,\n",
    "    ext='.mp4', overwrite=False\n",
    "); t = time() - s\n",
    "\n",
    "print('\\n* TIME TO EXECUTE:', round(t, 4), 's')"
   ]
  },
  {
   "cell_type": "markdown",
   "metadata": {},
   "source": [
    "#### Concatenate videos from nested folders by date"
   ]
  },
  {
   "cell_type": "code",
   "execution_count": 31,
   "metadata": {},
   "outputs": [
    {
     "name": "stdout",
     "output_type": "stream",
     "text": [
      " CONCAT VIDEOS FROM FOLDER BY DATE · DONE: 4/4 · FOLDER: polygons/flood-unlabeled/1/313\n",
      "\n",
      "* TIME TO EXECUTE: 105.9305 s\n"
     ]
    }
   ],
   "source": [
    "base_folder = 'Dados/flood-video-collection-stamped'\n",
    "to_base_folder = 'Dados/flood-video-collection-date'\n",
    "\n",
    "s = time()\n",
    "writer.concatenate_videos_from_nested_folders_by_date(\n",
    "    base_folder, to_base_folder,\n",
    "    ext='.mp4', overwrite=False\n",
    "); t = time() - s\n",
    "\n",
    "print('\\n* TIME TO EXECUTE:', round(t, 4), 's')"
   ]
  }
 ],
 "metadata": {
  "kernelspec": {
   "display_name": "Python 3",
   "language": "python",
   "name": "python3"
  },
  "language_info": {
   "codemirror_mode": {
    "name": "ipython",
    "version": 3
   },
   "file_extension": ".py",
   "mimetype": "text/x-python",
   "name": "python",
   "nbconvert_exporter": "python",
   "pygments_lexer": "ipython3",
   "version": "3.8.5"
  }
 },
 "nbformat": 4,
 "nbformat_minor": 4
}
