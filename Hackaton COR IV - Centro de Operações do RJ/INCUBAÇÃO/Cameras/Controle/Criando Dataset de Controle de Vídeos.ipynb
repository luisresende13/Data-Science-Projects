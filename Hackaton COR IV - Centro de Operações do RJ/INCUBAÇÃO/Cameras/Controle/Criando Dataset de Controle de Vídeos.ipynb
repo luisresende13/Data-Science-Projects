{
 "cells": [
  {
   "cell_type": "markdown",
   "metadata": {},
   "source": [
    "# Build dataset from collection of flood videos"
   ]
  },
  {
   "cell_type": "markdown",
   "metadata": {},
   "source": [
    "#### Import modules"
   ]
  },
  {
   "cell_type": "code",
   "execution_count": 1,
   "metadata": {},
   "outputs": [
    {
     "name": "stdout",
     "output_type": "stream",
     "text": [
      "C:\\Users\\luisr\\Desktop\\Repositories\\Apps\\APIs\\cams-rio\n"
     ]
    }
   ],
   "source": [
    "cd ../../../../../Apps/APIs/cams-rio"
   ]
  },
  {
   "cell_type": "code",
   "execution_count": 2,
   "metadata": {},
   "outputs": [],
   "source": [
    "import pandas as pd\n",
    "from datetime import datetime as dt\n",
    "from IPython.display import clear_output as co"
   ]
  },
  {
   "cell_type": "markdown",
   "metadata": {},
   "source": [
    "#### Import Google Cloud Storage wrapper module and set storage instance"
   ]
  },
  {
   "cell_type": "code",
   "execution_count": 3,
   "metadata": {},
   "outputs": [],
   "source": [
    "from modules.googlecloudstorage import GCS\n",
    "\n",
    "sa_json = 'auth/octacity-iduff.json' # 'auth/pluvia-sa.json'\n",
    "user_project = None\n",
    "default_bucket_name = 'flood-video-collection'\n",
    "\n",
    "gcs = GCS(sa_json, user_project, default_bucket_name)"
   ]
  },
  {
   "cell_type": "markdown",
   "metadata": {},
   "source": [
    "#### List collection blobs with .mp4 extension"
   ]
  },
  {
   "cell_type": "code",
   "execution_count": 4,
   "metadata": {},
   "outputs": [
    {
     "name": "stdout",
     "output_type": "stream",
     "text": [
      "\n",
      "- Blobs Searched: 44036\n",
      "\n",
      " · Results: 44036\n"
     ]
    }
   ],
   "source": [
    "bucket_name = 'flood-video-collection'\n",
    "prefix = ''\n",
    "delimiter = None\n",
    "ext = '.mp4'\n",
    "\n",
    "drop_first = False\n",
    "print_each = 1000\n",
    "\n",
    "blobs = gcs.list_blobs(prefix, delimiter, bucket_name)\n",
    "\n",
    "names = []\n",
    "for i, blob in enumerate(blobs):\n",
    "    if blob.name.endswith(ext):\n",
    "        names.append([blob.name, blob.size])\n",
    "    if (i + 1) % print_each == 0: print(f'\\n- Blobs Searched: {i + 1}'); co(True)\n",
    "\n",
    "print(f'\\n- Blobs Searched: {i + 1}')\n",
    "if drop_first: print(f'\\n · First item excluded: {names[0]}'); del names[0]\n",
    "print(f'\\n · Results: {len(names)}')"
   ]
  },
  {
   "cell_type": "markdown",
   "metadata": {},
   "source": [
    "#### Build video blobs control dataset"
   ]
  },
  {
   "cell_type": "code",
   "execution_count": 5,
   "metadata": {},
   "outputs": [],
   "source": [
    "control = pd.DataFrame(names, columns=['blob_name', 'blob_size'])\n",
    "control['bucket_name'] = bucket_name\n",
    "\n",
    "blob_info = []\n",
    "for blob_name in control['blob_name']:\n",
    "    info = blob_name.split('/')\n",
    "    file_name = info[-1]\n",
    "    code = info[-2]\n",
    "    n_folders = len(info) - 1\n",
    "    stamp = ' '.join(file_name.split(' ')[1:])\n",
    "    try: timestamp = dt.strptime(stamp, '%Y-%m-%d %H:%M:%S.mp4')\n",
    "    except: timestamp = dt.strptime(stamp, '%Y-%m-%d %H-%M-%S.mp4')\n",
    "    blob_info.append([file_name, code, n_folders, timestamp])\n",
    "\n",
    "control[['file_name', 'code', 'n_folders', 'timestamp']] = blob_info\n",
    "\n",
    "# build `folder_structure` column based on `n_folders`\n",
    "\n",
    "folder_structure = {\n",
    "    2: '{type}/{code}', # rain/1234/example.mp4\n",
    "    3: 'polygons/{type}/{code}', # polygons/normal/1234/example.mp4\n",
    "    4: '{source}/{type}/{event}/{code}', # comando/bolsão/id-abcd/1234/example.mp4\n",
    "    5: 'polygons/{source}/{type}/{polygon}/{code}' # polygons/comando/bolsão/0/1234/example.mp4\n",
    "#     3: '{type}/{subtype}/{code}', # rivers/manual/123/example.mp4\n",
    "#     4: 'polygons/{type}/{polygon}/{code}', # polygons/flood/0/1234/example.mp4\n",
    "}\n",
    "\n",
    "control['folder_structure'] = control['n_folders'].map(folder_structure)\n",
    "\n",
    "# fix 'rivers/manual' folder structure\n",
    "\n",
    "filter_msk = control['blob_name'].str.contains('rivers')\n",
    "control.loc[filter_msk, 'folder_structure'] = '{type}/{subtype}/{code}'   # polygons/flood/0/1234/example.mp4\n",
    "\n",
    "# fix 'polygons' folder structure\n",
    "\n",
    "filter_msk = (control['n_folders'] == 4) & control['blob_name'].str.contains('polygons')\n",
    "control.loc[filter_msk, 'folder_structure'] = 'polygons/{type}/{polygon}/{code}'   # polygons/flood/0/1234/example.mp4"
   ]
  },
  {
   "cell_type": "markdown",
   "metadata": {},
   "source": [
    "#### Checking: Folder structure count"
   ]
  },
  {
   "cell_type": "code",
   "execution_count": 6,
   "metadata": {},
   "outputs": [
    {
     "data": {
      "text/plain": [
       "n_folders  folder_structure                         \n",
       "2          {type}/{code}                                21182\n",
       "3          polygons/{type}/{code}                          69\n",
       "           {type}/{subtype}/{code}                        478\n",
       "4          polygons/{type}/{polygon}/{code}             11393\n",
       "           {source}/{type}/{event}/{code}               10192\n",
       "           {type}/{subtype}/{code}                         89\n",
       "5          polygons/{source}/{type}/{polygon}/{code}      545\n",
       "7          {type}/{subtype}/{code}                         88\n",
       "dtype: int64"
      ]
     },
     "execution_count": 6,
     "metadata": {},
     "output_type": "execute_result"
    }
   ],
   "source": [
    "control[['n_folders', 'folder_structure']].value_counts().sort_index()"
   ]
  },
  {
   "cell_type": "markdown",
   "metadata": {},
   "source": [
    "#### Save blobs control dataset"
   ]
  },
  {
   "cell_type": "code",
   "execution_count": 7,
   "metadata": {},
   "outputs": [],
   "source": [
    "data_path = '../../../Data Science Projects/Hackaton COR IV - Centro de Operações do RJ/INCUBAÇÃO/Cameras/Dados'\n",
    "control_path = f'{data_path}/Controle de vídeos/videos_control_2023-04-29.csv'\n",
    "\n",
    "control.to_csv(control_path, index=False)"
   ]
  }
 ],
 "metadata": {
  "kernelspec": {
   "display_name": "Python 3 (ipykernel)",
   "language": "python",
   "name": "python3"
  },
  "language_info": {
   "codemirror_mode": {
    "name": "ipython",
    "version": 3
   },
   "file_extension": ".py",
   "mimetype": "text/x-python",
   "name": "python",
   "nbconvert_exporter": "python",
   "pygments_lexer": "ipython3",
   "version": "3.10.9"
  }
 },
 "nbformat": 4,
 "nbformat_minor": 4
}
