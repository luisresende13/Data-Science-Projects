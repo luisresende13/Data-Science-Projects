{
 "cells": [
  {
   "cell_type": "markdown",
   "metadata": {},
   "source": [
    "# Flood videos from city cameras - Dataset Exploratory Data Analysis"
   ]
  },
  {
   "cell_type": "markdown",
   "metadata": {},
   "source": [
    "---"
   ]
  },
  {
   "cell_type": "code",
   "execution_count": 1,
   "metadata": {},
   "outputs": [
    {
     "name": "stderr",
     "output_type": "stream",
     "text": [
      "c:\\Users\\luisr\\anaconda3\\lib\\site-packages\\pandas\\core\\computation\\expressions.py:20: UserWarning: Pandas requires version '2.7.3' or newer of 'numexpr' (version '2.7.1' currently installed).\n",
      "  from pandas.core.computation.check import NUMEXPR_INSTALLED\n"
     ]
    }
   ],
   "source": [
    "import pandas as pd, matplotlib.pyplot as plt, seaborn as sns; sns.set()"
   ]
  },
  {
   "cell_type": "markdown",
   "metadata": {},
   "source": [
    "## Reload flood videos dataset"
   ]
  },
  {
   "cell_type": "code",
   "execution_count": 2,
   "metadata": {},
   "outputs": [
    {
     "data": {
      "text/plain": [
       "Index(['blob_name', 'blob_size', 'bucket_name', 'file_name', 'code',\n",
       "       'n_folders', 'timestamp', 'folder_structure'],\n",
       "      dtype='object')"
      ]
     },
     "execution_count": 2,
     "metadata": {},
     "output_type": "execute_result"
    }
   ],
   "source": [
    "data_path = '../Dados'\n",
    "control_path = f'{data_path}/Controle de vídeos/videos_control_19-04.csv'\n",
    "\n",
    "control = pd.read_csv(control_path)\n",
    "control['timestamp'] = pd.to_datetime(control['timestamp'])\n",
    "\n",
    "control.columns"
   ]
  },
  {
   "cell_type": "markdown",
   "metadata": {},
   "source": [
    "## Exploratory data analsysis"
   ]
  },
  {
   "cell_type": "code",
   "execution_count": null,
   "metadata": {},
   "outputs": [],
   "source": [
    "def event_info(blob_name):\n",
    "    \"returns event type and event id given `blob_name` matching the folder structure `{source}/{type}/{event}/{code}`.\"\n",
    "    info = blob_name.split('/')\n",
    "    return ['/'.join(info[:2]), info[2]]"
   ]
  },
  {
   "cell_type": "markdown",
   "metadata": {},
   "source": [
    "#### Cameras already recorded"
   ]
  },
  {
   "cell_type": "code",
   "execution_count": null,
   "metadata": {},
   "outputs": [],
   "source": [
    "print('Cameras recorded:', control['code'].nunique())"
   ]
  },
  {
   "cell_type": "markdown",
   "metadata": {},
   "source": [
    "#### Folder structure count"
   ]
  },
  {
   "cell_type": "code",
   "execution_count": null,
   "metadata": {},
   "outputs": [],
   "source": [
    "control[['n_folders', 'folder_structure']].value_counts().sort_index()"
   ]
  },
  {
   "cell_type": "markdown",
   "metadata": {},
   "source": [
    "#### Total events per type count"
   ]
  },
  {
   "cell_type": "code",
   "execution_count": null,
   "metadata": {},
   "outputs": [],
   "source": [
    "folder_structure_msk = control['folder_structure'] =='{source}/{type}/{event}/{code}'\n",
    "event_cnt = control[folder_structure_msk]['blob_name'].apply(event_info).tolist()\n",
    "event_cnt = pd.DataFrame(event_cnt, columns=['event_type', 'event_id'])\n",
    "\n",
    "event_type_cnt = event_cnt.drop_duplicates()['event_type'].value_counts()\n",
    "\n",
    "print(f'\\n{event_type_cnt}\\n')"
   ]
  },
  {
   "cell_type": "markdown",
   "metadata": {},
   "source": [
    "### Videos per camera"
   ]
  },
  {
   "cell_type": "code",
   "execution_count": null,
   "metadata": {},
   "outputs": [],
   "source": [
    "print(f'Videos per camera:\\n\\n{control[\"code\"].value_counts()}')"
   ]
  },
  {
   "cell_type": "markdown",
   "metadata": {},
   "source": [
    "#### Mega Bytes (MB) per câmera"
   ]
  },
  {
   "cell_type": "code",
   "execution_count": null,
   "metadata": {},
   "outputs": [],
   "source": [
    "print(f'Total MB per câmera:\\n\\n{control.groupby(\"code\")[\"blob_size\"].sum().sort_values(ascending=False) / 1e6}')"
   ]
  },
  {
   "cell_type": "markdown",
   "metadata": {},
   "source": [
    "#### Total videos and bytes per day and cumulative"
   ]
  },
  {
   "cell_type": "code",
   "execution_count": null,
   "metadata": {},
   "outputs": [],
   "source": [
    "time_cnt = control.groupby('timestamp').count()['blob_name']\n",
    "time_size_cnt = control.groupby('timestamp')['blob_size'].sum()\n",
    "\n",
    "fig, axs = plt.subplots(1, 2, figsize=(12, 3))\n",
    "\n",
    "time_cnt.resample('1D').sum().plot(ax=axs[0])\n",
    "time_cnt.resample('1D').sum().cumsum().plot(ax=axs[0])\n",
    "axs[0].set(title='Video files per day', ylabel='Videos', xlabel='time')\n",
    "axs[0].legend(['per day', 'cumulative'])\n",
    "\n",
    "(time_size_cnt.resample('1D').sum() / 1e9).plot(ax=axs[1])\n",
    "(time_size_cnt.resample('1D').sum().cumsum() / 1e9).plot(ax=axs[1])\n",
    "axs[1].set(title='Video bytes per day', ylabel='Giga Bytes (GB)', xlabel='time')\n",
    "axs[1].legend(['per day', 'cumulative'])\n",
    "plt.show()"
   ]
  },
  {
   "cell_type": "markdown",
   "metadata": {},
   "source": [
    "### Recently recorded ·  Past 30 days"
   ]
  },
  {
   "cell_type": "code",
   "execution_count": null,
   "metadata": {},
   "outputs": [],
   "source": [
    "days = 30\n",
    "\n",
    "ax = time_cnt.resample('1D').sum().tail(days).plot(marker='o', ms=7, title='Videos Recorded Per Day Past 30 Days')"
   ]
  },
  {
   "cell_type": "markdown",
   "metadata": {},
   "source": [
    "### Build videos datetime index"
   ]
  },
  {
   "cell_type": "code",
   "execution_count": null,
   "metadata": {},
   "outputs": [],
   "source": [
    "ts = control.set_index('timestamp') # datetime index"
   ]
  },
  {
   "cell_type": "markdown",
   "metadata": {},
   "source": [
    "### Events per day\n",
    "\n",
    "#### Extract event videos dataset"
   ]
  },
  {
   "cell_type": "code",
   "execution_count": null,
   "metadata": {},
   "outputs": [],
   "source": [
    "folder_structure_msk = ts['folder_structure'] =='{source}/{type}/{event}/{code}'\n",
    "\n",
    "ts_events = ts[folder_structure_msk]\n",
    "\n",
    "ts_events = pd.DataFrame(\n",
    "    ts_events['blob_name'].map(event_info).tolist(),\n",
    "    index=ts_events.index, columns=['event_type', 'event_id']\n",
    ")\n",
    "\n",
    "ts_events.head()"
   ]
  },
  {
   "cell_type": "markdown",
   "metadata": {},
   "source": [
    "#### Events per type per day count"
   ]
  },
  {
   "cell_type": "code",
   "execution_count": null,
   "metadata": {},
   "outputs": [],
   "source": [
    "freq = '1D'\n",
    "\n",
    "event_type_cnt = []\n",
    "for event_type in ts_events['event_type'].unique():\n",
    "    event_type_cnt.append(ts_events[ts_events['event_type']==event_type].resample(freq).nunique()['event_id'].rename(event_type))\n",
    "\n",
    "event_type_cnt = pd.concat(event_type_cnt, axis=1).fillna(0.0).drop('rivers/manual', axis=1)\n",
    "\n",
    "event_type_cnt.head()"
   ]
  },
  {
   "cell_type": "markdown",
   "metadata": {},
   "source": [
    "#### Events' videos per type per day count"
   ]
  },
  {
   "cell_type": "code",
   "execution_count": null,
   "metadata": {},
   "outputs": [],
   "source": [
    "freq = '1D'\n",
    "\n",
    "event_videos_type_cnt = []\n",
    "for event_type in ts_events['event_type'].unique():\n",
    "    event_videos_type_cnt.append(ts_events[ts_events['event_type']==event_type].resample(freq).count()['event_id'].rename(event_type))\n",
    "\n",
    "event_videos_type_cnt = pd.concat(event_videos_type_cnt, axis=1).fillna(0.0).drop('rivers/manual', axis=1)\n",
    "\n",
    "event_videos_type_cnt.head()"
   ]
  },
  {
   "cell_type": "markdown",
   "metadata": {},
   "source": [
    "#### Events and videos per type per day · Line Chart"
   ]
  },
  {
   "cell_type": "code",
   "execution_count": null,
   "metadata": {},
   "outputs": [],
   "source": [
    "fig, axs = plt.subplots(1, 2, figsize=(16, 4))\n",
    "event_type_cnt[['waze/flood']].plot(\n",
    "    ax=axs[0], marker='o', ms=5, xlabel='Day',\n",
    "    title='Waze Flood Events Recorded per Day`'\n",
    ")\n",
    "event_type_cnt[['comando/bolsão', 'comando/alagamento']].plot(\n",
    "    ax=axs[1], marker='o', ms=5, xlabel='Day',\n",
    "    title='Events from `Sistema Comando` Recorded per Day`'\n",
    ")\n",
    "plt.show()\n",
    "\n",
    "fig, axs = plt.subplots(1, 2, figsize=(16, 4))\n",
    "event_type_cnt[['waze/flood']].cumsum().plot(\n",
    "    ax=axs[0], marker='o', ms=5, xlabel='Day',\n",
    "    title='Waze Flood Events Recorded per Day`'\n",
    ")\n",
    "event_type_cnt[['comando/bolsão', 'comando/alagamento']].cumsum().plot(\n",
    "    ax=axs[1], marker='o', ms=5, xlabel='Day',\n",
    "    title='Events from `Sistema Comando` Recorded per Day`'\n",
    ")\n",
    "plt.show()\n",
    "\n",
    "fig, axs = plt.subplots(1, 2, figsize=(16, 4))\n",
    "event_videos_type_cnt[['waze/flood', 'comando/bolsão', 'comando/alagamento']].plot(\n",
    "    ax=axs[0], marker='o', ms=5, xlabel='Day',\n",
    "    title='Event Videos from Waze and `Sistema Comando` Recorded per Day`'\n",
    ")\n",
    "event_videos_type_cnt[['waze/flood', 'comando/bolsão', 'comando/alagamento']].cumsum().plot(\n",
    "    ax=axs[1], marker='o', ms=5, xlabel='Day',\n",
    "    title='Event Videos from Waze and `Sistema Comando` Recorded per Day`'\n",
    ")\n",
    "plt.show()"
   ]
  },
  {
   "cell_type": "markdown",
   "metadata": {},
   "source": [
    "Obs: An event count can be duplicated if the same event was recorded both before and after the midnight mark. Therefore, the chart values may vary slightly from the actual values."
   ]
  },
  {
   "cell_type": "markdown",
   "metadata": {},
   "source": [
    "---\n",
    "## Events and videos per type per period count"
   ]
  },
  {
   "cell_type": "code",
   "execution_count": null,
   "metadata": {},
   "outputs": [],
   "source": [
    "def event_info(blob_name):\n",
    "    \"returns event type and event id given `blob_name` matching the folder structure `{source}/{type}/{event}/{code}`.\"\n",
    "    info = blob_name.split('/')\n",
    "    return ['/'.join(info[:2]), info[2]]"
   ]
  },
  {
   "cell_type": "markdown",
   "metadata": {},
   "source": [
    "#### 2023-04-07 and 2023-04-08"
   ]
  },
  {
   "cell_type": "markdown",
   "metadata": {},
   "source": [
    "#### Events count"
   ]
  },
  {
   "cell_type": "code",
   "execution_count": null,
   "metadata": {},
   "outputs": [],
   "source": [
    "ts_cut = ts[(ts.index >= '2023-04-07') & (ts.index < '2023-04-09')]\n",
    "\n",
    "folder_structure_msk = ts_cut['folder_structure'] =='{source}/{type}/{event}/{code}'\n",
    "\n",
    "event_cnt = ts_cut.loc[folder_structure_msk]['blob_name'].apply(event_info).tolist()\n",
    "event_cnt = pd.DataFrame(event_cnt, columns=['event_type', 'event_id'])\n",
    "\n",
    "video_cnt = event_cnt['event_type'].value_counts().rename('video_count')\n",
    "event_cnt = event_cnt.drop_duplicates()['event_type'].value_counts().rename('event_count')\n",
    "\n",
    "event_cnts = pd.concat([event_cnt, video_cnt], axis=1)\n",
    "\n",
    "print(f'\\n{event_cnts}\\n')"
   ]
  },
  {
   "cell_type": "markdown",
   "metadata": {},
   "source": [
    "#### 2023-03-30 and 2023-03-31"
   ]
  },
  {
   "cell_type": "markdown",
   "metadata": {},
   "source": [
    "#### Events count"
   ]
  },
  {
   "cell_type": "code",
   "execution_count": null,
   "metadata": {},
   "outputs": [],
   "source": [
    "ts_cut = ts[(ts.index >= '2023-03-30') & (ts.index <= '2023-04-01')]\n",
    "folder_structure_msk = ts_cut['folder_structure'] =='{source}/{type}/{event}/{code}'\n",
    "\n",
    "event_cnt = ts_cut[folder_structure_msk]['blob_name'].apply(event_info).tolist()\n",
    "event_cnt = pd.DataFrame(event_cnt, columns=['event_type', 'event_id'])\n",
    "\n",
    "video_cnt = event_cnt['event_type'].value_counts().rename('video_count')\n",
    "event_cnt = event_cnt.drop_duplicates()['event_type'].value_counts().rename('event_count')\n",
    "\n",
    "event_cnts = pd.concat([event_cnt, video_cnt], axis=1)\n",
    "\n",
    "print(f'\\n{event_cnts}\\n')"
   ]
  },
  {
   "cell_type": "markdown",
   "metadata": {},
   "source": [
    "#### 2023-04-18 and 2023-04-19"
   ]
  },
  {
   "cell_type": "markdown",
   "metadata": {},
   "source": [
    "#### Events count"
   ]
  },
  {
   "cell_type": "code",
   "execution_count": null,
   "metadata": {},
   "outputs": [],
   "source": [
    "ts_cut = ts[(ts.index >= '2023-04-19') & (ts.index <= '2023-04-20')]\n",
    "folder_structure_msk = ts_cut['folder_structure'] =='{source}/{type}/{event}/{code}'\n",
    "\n",
    "event_cnt = ts_cut[folder_structure_msk]['blob_name'].apply(event_info).tolist()\n",
    "event_cnt = pd.DataFrame(event_cnt, columns=['event_type', 'event_id'])\n",
    "\n",
    "video_cnt = event_cnt['event_type'].value_counts().rename('video_count')\n",
    "event_cnt = event_cnt.drop_duplicates()['event_type'].value_counts().rename('event_count')\n",
    "\n",
    "event_cnts = pd.concat([event_cnt, video_cnt], axis=1)\n",
    "\n",
    "print(f'\\n{event_cnts}\\n')"
   ]
  },
  {
   "cell_type": "markdown",
   "metadata": {},
   "source": [
    "---\n",
    "## Cameras with highest number of flood events"
   ]
  },
  {
   "cell_type": "code",
   "execution_count": null,
   "metadata": {},
   "outputs": [],
   "source": [
    "import pandas as pd, matplotlib.pyplot as plt, seaborn as sns; sns.set()"
   ]
  },
  {
   "cell_type": "markdown",
   "metadata": {},
   "source": [
    "#### Get event types"
   ]
  },
  {
   "cell_type": "code",
   "execution_count": null,
   "metadata": {},
   "outputs": [],
   "source": [
    "def get_event_info(blob_name):\n",
    "    \"returns event type and event id given `blob_name` matching the folder structure `{source}/{type}/{event}/{code}`.\"\n",
    "    info = blob_name.split('/')\n",
    "    if len(info) != 5 or info[0] == 'polygons': return ['', '']\n",
    "    return ['/'.join(info[:2]), info[2]]"
   ]
  },
  {
   "cell_type": "markdown",
   "metadata": {},
   "source": [
    "#### Events recorded per câmera"
   ]
  },
  {
   "cell_type": "code",
   "execution_count": null,
   "metadata": {},
   "outputs": [],
   "source": [
    "# folder_structure_msk = control['folder_structure'] =='{source}/{type}/{event}/{code}'\n",
    "\n",
    "event_info = control['blob_name'].apply(get_event_info).tolist()\n",
    "control[['event_type', 'event_id']] = event_info\n",
    "\n",
    "control_comando = control[control['event_type'].isin(['comando/bolsão', 'comando/alagamento'])]\n",
    "events_per_code = control_comando.groupby('code')['event_id'].nunique()\n",
    "\n",
    "cams_recurrence = events_per_code[events_per_code > 1]\n",
    "display(cams_recurrence.sort_values(ascending=False).to_frame('Sistema Comando Events recorded').T)\n",
    "\n",
    "print('Number of cameras with more than one recorded event from Sistema Comando database:', len(cams_recurrence))"
   ]
  }
 ],
 "metadata": {
  "kernelspec": {
   "display_name": "Python 3",
   "language": "python",
   "name": "python3"
  },
  "language_info": {
   "codemirror_mode": {
    "name": "ipython",
    "version": 3
   },
   "file_extension": ".py",
   "mimetype": "text/x-python",
   "name": "python",
   "nbconvert_exporter": "python",
   "pygments_lexer": "ipython3",
   "version": "3.8.3"
  }
 },
 "nbformat": 4,
 "nbformat_minor": 4
}
