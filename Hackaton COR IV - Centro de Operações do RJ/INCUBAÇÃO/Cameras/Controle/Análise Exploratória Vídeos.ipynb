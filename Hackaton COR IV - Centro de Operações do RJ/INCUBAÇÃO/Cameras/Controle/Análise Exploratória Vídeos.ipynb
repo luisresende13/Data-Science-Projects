{
 "cells": [
  {
   "cell_type": "markdown",
   "metadata": {},
   "source": [
    "---\n",
    "## Exploratory data analsysis"
   ]
  },
  {
   "cell_type": "code",
   "execution_count": 1,
   "metadata": {},
   "outputs": [
    {
     "name": "stderr",
     "output_type": "stream",
     "text": [
      "c:\\Users\\luisr\\anaconda3\\lib\\site-packages\\pandas\\core\\computation\\expressions.py:20: UserWarning: Pandas requires version '2.7.3' or newer of 'numexpr' (version '2.7.1' currently installed).\n",
      "  from pandas.core.computation.check import NUMEXPR_INSTALLED\n"
     ]
    }
   ],
   "source": [
    "import pandas as pd, matplotlib.pyplot as plt"
   ]
  },
  {
   "cell_type": "markdown",
   "metadata": {},
   "source": [
    "#### Reload data"
   ]
  },
  {
   "cell_type": "code",
   "execution_count": 9,
   "metadata": {},
   "outputs": [],
   "source": [
    "data_path = '../Dados'\n",
    "control_path = f'{data_path}/blobs/videos_control_19-04.csv'\n",
    "\n",
    "control = pd.read_csv(control_path)\n",
    "control['timestamp'] = pd.to_datetime(control['timestamp'])"
   ]
  },
  {
   "cell_type": "markdown",
   "metadata": {},
   "source": [
    "#### Cameras alerady recorded"
   ]
  },
  {
   "cell_type": "code",
   "execution_count": 10,
   "metadata": {},
   "outputs": [
    {
     "name": "stdout",
     "output_type": "stream",
     "text": [
      "Cameras recorded: 2426\n"
     ]
    }
   ],
   "source": [
    "print('Cameras recorded:', control['code'].nunique())"
   ]
  },
  {
   "cell_type": "markdown",
   "metadata": {},
   "source": [
    "#### Folder structure count"
   ]
  },
  {
   "cell_type": "code",
   "execution_count": 11,
   "metadata": {},
   "outputs": [
    {
     "data": {
      "text/plain": [
       "n_folders  folder_structure                         \n",
       "3          {type}/{code}                                21182\n",
       "4          polygons/{type}/{code}                          69\n",
       "           {type}/{subtype}/{code}                        476\n",
       "5          polygons/{type}/{polygon}/{code}             11187\n",
       "           {source}/{type}/{event}/{code}                9914\n",
       "6          polygons/{source}/{type}/{polygon}/{code}      462\n",
       "Name: count, dtype: int64"
      ]
     },
     "execution_count": 11,
     "metadata": {},
     "output_type": "execute_result"
    }
   ],
   "source": [
    "control[['n_folders', 'folder_structure']].value_counts().sort_index()"
   ]
  },
  {
   "cell_type": "markdown",
   "metadata": {},
   "source": [
    "### Videos over time"
   ]
  },
  {
   "cell_type": "code",
   "execution_count": 13,
   "metadata": {},
   "outputs": [],
   "source": [
    "ts = control.set_index('timestamp')\n",
    "time_cnt = control.groupby('timestamp').count()['blob_name']\n",
    "time_size_cnt = control.groupby('timestamp')['blob_size'].sum()"
   ]
  },
  {
   "cell_type": "markdown",
   "metadata": {},
   "source": [
    "#### Event types count"
   ]
  },
  {
   "cell_type": "code",
   "execution_count": 14,
   "metadata": {},
   "outputs": [
    {
     "name": "stdout",
     "output_type": "stream",
     "text": [
      "\n",
      "event_type\n",
      "waze/flood            568\n",
      "comando/bolsão         47\n",
      "comando/alagamento      7\n",
      "comando/lâmina          5\n",
      "rivers/manual           2\n",
      "Name: count, dtype: int64\n",
      "\n"
     ]
    }
   ],
   "source": [
    "def event_info(blob_name):\n",
    "    \"returns event type and event id given `blob_name` matching the folder structure `{source}/{type}/{event}/{code}`.\"\n",
    "    info = blob_name.split('/')\n",
    "    return ['/'.join(info[:2]), info[2]]\n",
    "\n",
    "folder_structure_msk = ts['folder_structure'] =='{source}/{type}/{event}/{code}'\n",
    "event_cnt = ts[folder_structure_msk]['blob_name'].apply(event_info).tolist()\n",
    "event_cnt = pd.DataFrame(event_cnt, columns=['event_type', 'event_id'])\n",
    "\n",
    "event_type_cnt = event_cnt.drop_duplicates()['event_type'].value_counts()\n",
    "\n",
    "print(f'\\n{event_type_cnt}\\n')"
   ]
  },
  {
   "cell_type": "markdown",
   "metadata": {},
   "source": [
    "#### Videos per day and cumulative"
   ]
  },
  {
   "cell_type": "code",
   "execution_count": 15,
   "metadata": {},
   "outputs": [
    {
     "data": {
      "image/png": "[encoded data removed]",
      "text/plain": [
       "<Figure size 864x216 with 2 Axes>"
      ]
     },
     "metadata": {
      "needs_background": "light"
     },
     "output_type": "display_data"
    }
   ],
   "source": [
    "fig, axs = plt.subplots(1, 2, figsize=(12, 3))\n",
    "\n",
    "time_cnt.resample('1D').sum().plot(ax=axs[0])\n",
    "time_cnt.resample('1D').sum().cumsum().plot(ax=axs[0])\n",
    "axs[0].set(title='Video files per day', ylabel='Videos', xlabel='time')\n",
    "axs[0].legend(['per day', 'cumulative'])\n",
    "\n",
    "(time_size_cnt.resample('1D').sum() / 1e9).plot(ax=axs[1])\n",
    "(time_size_cnt.resample('1D').sum().cumsum() / 1e9).plot(ax=axs[1])\n",
    "axs[1].set(title='Video bytes per day', ylabel='Giga Bytes (GB)', xlabel='time')\n",
    "axs[1].legend(['per day', 'cumulative'])\n",
    "plt.show()"
   ]
  },
  {
   "cell_type": "markdown",
   "metadata": {},
   "source": [
    "#### Videos per camera"
   ]
  },
  {
   "cell_type": "code",
   "execution_count": 16,
   "metadata": {},
   "outputs": [
    {
     "name": "stdout",
     "output_type": "stream",
     "text": [
      "Videos per camera:\n",
      "\n",
      "code\n",
      "1487    529\n",
      "278     526\n",
      "3323    438\n",
      "1635    254\n",
      "1636    251\n",
      "1639    250\n",
      "1462    250\n",
      "1638    243\n",
      "262     220\n",
      "1649    214\n",
      "Name: count, dtype: int64\n"
     ]
    }
   ],
   "source": [
    "print(f'Videos per camera:\\n\\n{control[\"code\"].value_counts().head(10)}')"
   ]
  },
  {
   "cell_type": "markdown",
   "metadata": {},
   "source": [
    "#### Bytes per câmera"
   ]
  },
  {
   "cell_type": "code",
   "execution_count": 17,
   "metadata": {},
   "outputs": [
    {
     "name": "stdout",
     "output_type": "stream",
     "text": [
      "Total MB per câmera:\n",
      "\n",
      "code\n",
      "278     996.349552\n",
      "1487    492.780141\n",
      "482     406.056572\n",
      "3323    380.590463\n",
      "267     375.663969\n",
      "           ...    \n",
      "2272      0.016630\n",
      "146       0.016618\n",
      "2271      0.016520\n",
      "422       0.016491\n",
      "1025      0.015996\n",
      "Name: blob_size, Length: 2426, dtype: float64\n"
     ]
    }
   ],
   "source": [
    "print(f'Total MB per câmera:\\n\\n{control.groupby(\"code\")[\"blob_size\"].sum().sort_values(ascending=False) / 1e6}')"
   ]
  },
  {
   "cell_type": "markdown",
   "metadata": {},
   "source": [
    "### Recently recorded"
   ]
  },
  {
   "cell_type": "markdown",
   "metadata": {},
   "source": [
    "#### Past 30 days"
   ]
  },
  {
   "cell_type": "code",
   "execution_count": 21,
   "metadata": {},
   "outputs": [
    {
     "data": {
      "image/png": "[encoded data removed]",
      "text/plain": [
       "<Figure size 432x288 with 1 Axes>"
      ]
     },
     "metadata": {
      "needs_background": "light"
     },
     "output_type": "display_data"
    }
   ],
   "source": [
    "days = 30\n",
    "\n",
    "ax = ts['blob_name'].resample('1D').count().tail(days).plot.bar()"
   ]
  },
  {
   "cell_type": "markdown",
   "metadata": {},
   "source": [
    "### Recently recorded per type"
   ]
  },
  {
   "cell_type": "code",
   "execution_count": 22,
   "metadata": {},
   "outputs": [],
   "source": [
    "type_control = pd.DataFrame(index=ts.index)\n",
    "\n",
    "types = ['waze/flood', 'comando/bolsão', 'comando/alagamento']\n",
    "\n",
    "for subtype in types:\n",
    "    type_control[subtype] = ts['blob_name'].str.startswith(subtype)"
   ]
  },
  {
   "cell_type": "markdown",
   "metadata": {},
   "source": [
    "#### Video per type count"
   ]
  },
  {
   "cell_type": "code",
   "execution_count": 23,
   "metadata": {},
   "outputs": [
    {
     "data": {
      "image/png": "[encoded data removed]",
      "text/plain": [
       "<Figure size 432x288 with 1 Axes>"
      ]
     },
     "metadata": {
      "needs_background": "light"
     },
     "output_type": "display_data"
    }
   ],
   "source": [
    "freq = '1D'\n",
    "start_date = '2023-04-01'\n",
    "\n",
    "types_cnt = []\n",
    "for subtype in types:\n",
    "    types_cnt.append(ts['blob_name'][type_control[subtype]].resample(freq).count()[start_date:].rename(subtype))\n",
    "\n",
    "types_cnt = pd.concat(types_cnt, axis=1).fillna(0.0)\n",
    "\n",
    "ax = types_cnt.plot.bar()"
   ]
  }
 ],
 "metadata": {
  "kernelspec": {
   "display_name": "Python 3",
   "language": "python",
   "name": "python3"
  },
  "language_info": {
   "codemirror_mode": {
    "name": "ipython",
    "version": 3
   },
   "file_extension": ".py",
   "mimetype": "text/x-python",
   "name": "python",
   "nbconvert_exporter": "python",
   "pygments_lexer": "ipython3",
   "version": "3.8.3"
  }
 },
 "nbformat": 4,
 "nbformat_minor": 4
}
