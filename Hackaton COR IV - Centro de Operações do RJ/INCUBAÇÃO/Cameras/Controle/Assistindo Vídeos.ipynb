{
 "cells": [
  {
   "cell_type": "markdown",
   "metadata": {},
   "source": [
    "# Watching videos in cloud storage bucket"
   ]
  },
  {
   "cell_type": "code",
   "execution_count": 191,
   "metadata": {},
   "outputs": [],
   "source": [
    "import pandas as pd\n",
    "from datetime import datetime as dt, timedelta as td\n",
    "from IPython.display import clear_output as co"
   ]
  },
  {
   "cell_type": "code",
   "execution_count": 71,
   "metadata": {},
   "outputs": [],
   "source": [
    "from modules.googlecloudstorage import GCS\n",
    "from modules.image_similarity import load_nested_images_from_folder\n",
    "import matplotlib.pyplot as plt\n",
    "import cv2"
   ]
  },
  {
   "cell_type": "markdown",
   "metadata": {},
   "source": [
    "---\n",
    "### Download Cloud Storage bucket blobs to folder"
   ]
  },
  {
   "cell_type": "code",
   "execution_count": 59,
   "metadata": {},
   "outputs": [
    {
     "name": "stdout",
     "output_type": "stream",
     "text": [
      "C:\\Users\\luisr\\Desktop\\Repositories\\Data Science Projects\\Hackaton COR IV - Centro de Operações do RJ\\INCUBAÇÃO\\Cameras\n"
     ]
    }
   ],
   "source": [
    "cd ../"
   ]
  },
  {
   "cell_type": "markdown",
   "metadata": {},
   "source": [
    "#### Import Google Cloud Storage wrapper module and set storage instance"
   ]
  },
  {
   "cell_type": "code",
   "execution_count": 75,
   "metadata": {},
   "outputs": [],
   "source": [
    "from modules.googlecloudstorage import GCS\n",
    "\n",
    "sa_json = '../../../../Apps/APIs/octa-api/credentials/octacity-iduff.json'\n",
    "user_project = None\n",
    "default_bucket_name = 'flood-video-collection'\n",
    "\n",
    "gcs = GCS(sa_json, user_project, default_bucket_name)"
   ]
  },
  {
   "cell_type": "markdown",
   "metadata": {},
   "source": [
    "#### List collection blobs with .mp4 extension (and file bytes size)"
   ]
  },
  {
   "cell_type": "code",
   "execution_count": 87,
   "metadata": {},
   "outputs": [
    {
     "name": "stdout",
     "output_type": "stream",
     "text": [
      "\n",
      "- Blobs Searched: 31\n",
      "\n",
      " · Results: 31\n"
     ]
    }
   ],
   "source": [
    "prefix = 'polygons/flood/1/313/'\n",
    "delimiter = None\n",
    "bucket_name = 'flood-video-collection'\n",
    "\n",
    "ext = '.mp4'\n",
    "\n",
    "drop_first = False\n",
    "print_each = 1000\n",
    "\n",
    "blobs = gcs.list_blobs(prefix, delimiter, bucket_name)\n",
    "\n",
    "names = []\n",
    "for i, blob in enumerate(blobs):\n",
    "    if blob.name.endswith(ext):\n",
    "        names.append([blob.name, blob.size])\n",
    "    if (i + 1) % print_each == 0: print(f'\\n- Blobs Searched: {i + 1}'); co(True)\n",
    "\n",
    "print(f'\\n- Blobs Searched: {i + 1}')\n",
    "if drop_first: print(f'\\n · First item excluded: {names[0]}'); del names[0]\n",
    "print(f'\\n · Results: {len(names)}')"
   ]
  },
  {
   "cell_type": "markdown",
   "metadata": {},
   "source": [
    "#### Download blobs in blob to folder"
   ]
  },
  {
   "cell_type": "code",
   "execution_count": 91,
   "metadata": {},
   "outputs": [
    {
     "name": "stdout",
     "output_type": "stream",
     "text": [
      "\n",
      "DOWNLOAD FAILED. FILE ALREADY EXISTS. FILE: Dados/flood-video-collection/polygons/flood/1/313/CODE313 2023-02-11 20-50-00.mp4 · BLOB: polygons/flood/1/313/CODE313 2023-02-11 20:50:00.mp4 · BUCKET: flood-video-collection · (1/31)\n"
     ]
    }
   ],
   "source": [
    "folder = 'Dados/flood-video-collection/'\n",
    "prefix = 'polygons/flood/1/313/'\n",
    "delimiter = None\n",
    "bucket_name = 'flood-video-collection'\n",
    "\n",
    "gcs.download_to_folder(folder, prefix, delimiter, bucket_name, report_freq=5, overwrite=False)"
   ]
  },
  {
   "cell_type": "markdown",
   "metadata": {},
   "source": [
    "---\n",
    "## Exploratory data analysis - Cameras with top number of flood events"
   ]
  },
  {
   "cell_type": "code",
   "execution_count": 2,
   "metadata": {},
   "outputs": [
    {
     "name": "stderr",
     "output_type": "stream",
     "text": [
      "c:\\Users\\luisr\\anaconda3\\lib\\site-packages\\pandas\\core\\computation\\expressions.py:20: UserWarning: Pandas requires version '2.7.3' or newer of 'numexpr' (version '2.7.1' currently installed).\n",
      "  from pandas.core.computation.check import NUMEXPR_INSTALLED\n"
     ]
    }
   ],
   "source": [
    "import pandas as pd, matplotlib.pyplot as plt, seaborn as sns; sns.set()"
   ]
  },
  {
   "cell_type": "markdown",
   "metadata": {},
   "source": [
    "### Reload flood videos dataset"
   ]
  },
  {
   "cell_type": "code",
   "execution_count": 21,
   "metadata": {},
   "outputs": [
    {
     "data": {
      "text/plain": [
       "Index(['blob_name', 'blob_size', 'bucket_name', 'file_name', 'code',\n",
       "       'n_folders', 'timestamp', 'folder_structure'],\n",
       "      dtype='object')"
      ]
     },
     "execution_count": 21,
     "metadata": {},
     "output_type": "execute_result"
    }
   ],
   "source": [
    "data_path = '../Dados'\n",
    "control_path = f'{data_path}/Controle de vídeos/videos_control_19-04.csv'\n",
    "\n",
    "control = pd.read_csv(control_path)\n",
    "control['timestamp'] = pd.to_datetime(control['timestamp'])\n",
    "\n",
    "control.columns"
   ]
  },
  {
   "cell_type": "markdown",
   "metadata": {},
   "source": [
    "#### Get event types"
   ]
  },
  {
   "cell_type": "code",
   "execution_count": 36,
   "metadata": {},
   "outputs": [],
   "source": [
    "def get_event_info(blob_name):\n",
    "    \"returns event type and event id given `blob_name` matching the folder structure `{source}/{type}/{event}/{code}`.\"\n",
    "    info = blob_name.split('/')\n",
    "    if len(info) != 5 or info[0] == 'polygons': return ['', '']\n",
    "    return ['/'.join(info[:2]), info[2]]"
   ]
  },
  {
   "cell_type": "markdown",
   "metadata": {},
   "source": [
    "#### Events recorded per câmera"
   ]
  },
  {
   "cell_type": "code",
   "execution_count": 54,
   "metadata": {},
   "outputs": [
    {
     "data": {
      "text/html": [
       "<div>\n",
       "<style scoped>\n",
       "    .dataframe tbody tr th:only-of-type {\n",
       "        vertical-align: middle;\n",
       "    }\n",
       "\n",
       "    .dataframe tbody tr th {\n",
       "        vertical-align: top;\n",
       "    }\n",
       "\n",
       "    .dataframe thead th {\n",
       "        text-align: right;\n",
       "    }\n",
       "</style>\n",
       "<table border=\"1\" class=\"dataframe\">\n",
       "  <thead>\n",
       "    <tr style=\"text-align: right;\">\n",
       "      <th>code</th>\n",
       "      <th>38</th>\n",
       "      <th>1671</th>\n",
       "      <th>2015</th>\n",
       "      <th>1880</th>\n",
       "      <th>18</th>\n",
       "      <th>226</th>\n",
       "      <th>249</th>\n",
       "      <th>278</th>\n",
       "      <th>1726</th>\n",
       "      <th>1881</th>\n",
       "      <th>2165</th>\n",
       "      <th>2166</th>\n",
       "      <th>2167</th>\n",
       "      <th>2219</th>\n",
       "      <th>2220</th>\n",
       "      <th>2221</th>\n",
       "    </tr>\n",
       "  </thead>\n",
       "  <tbody>\n",
       "    <tr>\n",
       "      <th>Sistema Comando Events recorded</th>\n",
       "      <td>5</td>\n",
       "      <td>5</td>\n",
       "      <td>5</td>\n",
       "      <td>3</td>\n",
       "      <td>2</td>\n",
       "      <td>2</td>\n",
       "      <td>2</td>\n",
       "      <td>2</td>\n",
       "      <td>2</td>\n",
       "      <td>2</td>\n",
       "      <td>2</td>\n",
       "      <td>2</td>\n",
       "      <td>2</td>\n",
       "      <td>2</td>\n",
       "      <td>2</td>\n",
       "      <td>2</td>\n",
       "    </tr>\n",
       "  </tbody>\n",
       "</table>\n",
       "</div>"
      ],
      "text/plain": [
       "code                             38    1671  2015  1880  18    226   249    \n",
       "Sistema Comando Events recorded     5     5     5     3     2     2     2  \\\n",
       "\n",
       "code                             278   1726  1881  2165  2166  2167  2219   \n",
       "Sistema Comando Events recorded     2     2     2     2     2     2     2  \\\n",
       "\n",
       "code                             2220  2221  \n",
       "Sistema Comando Events recorded     2     2  "
      ]
     },
     "metadata": {},
     "output_type": "display_data"
    },
    {
     "name": "stdout",
     "output_type": "stream",
     "text": [
      "Number of cameras with more than one event in Sistema Comando database: 16\n"
     ]
    }
   ],
   "source": [
    "# folder_structure_msk = control['folder_structure'] =='{source}/{type}/{event}/{code}'\n",
    "\n",
    "event_info = control['blob_name'].apply(get_event_info).tolist()\n",
    "control[['event_type', 'event_id']] = event_info\n",
    "\n",
    "control_comando = control[control['event_type'].isin(['comando/bolsão', 'comando/alagamento'])]\n",
    "events_per_code = control_comando.groupby('code')['event_id'].nunique()\n",
    "\n",
    "cams_recurrence = events_per_code[events_per_code > 1]\n",
    "display(cams_recurrence.sort_values(ascending=False).to_frame('Sistema Comando Events recorded').T)\n",
    "\n",
    "print('Number of cameras with more than one event in Sistema Comando database:', len(cams_recurrence))"
   ]
  },
  {
   "cell_type": "markdown",
   "metadata": {},
   "source": [
    "---\n",
    "## Watch videos from folder"
   ]
  },
  {
   "cell_type": "markdown",
   "metadata": {},
   "source": [
    "#### Add clock to video inplace"
   ]
  },
  {
   "cell_type": "code",
   "execution_count": 218,
   "metadata": {},
   "outputs": [],
   "source": [
    "os.makedirs('test/test')"
   ]
  },
  {
   "cell_type": "code",
   "execution_count": 222,
   "metadata": {},
   "outputs": [],
   "source": [
    "import os\n",
    "from datetime import timedelta\n",
    "\n",
    "def round_seconds(tm):\n",
    "    return tm - timedelta(seconds=tm.second, microseconds=tm.microsecond)\n",
    "\n",
    "def add_text_to_video(frame, text):\n",
    "    cv2.putText(frame, text, org=(550, 27), fontFace=cv2.FONT_HERSHEY_SIMPLEX,\n",
    "    fontScale=0.67, color=(255, 255, 255), thickness=2, lineType=cv2.LINE_AA)\n",
    "    return frame\n",
    "\n",
    "def add_clock_to_video_inplace(folder, path, to_folder, fps:int=3, shape:tuple=(854, 480), codec:str='mp4v'):\n",
    "    \"\"\"\n",
    "    path: path to video file containing a timestamp in th file name\n",
    "    \"\"\"\n",
    "    file_name = path.split('/')[-1]\n",
    "    stamp = ' '.join(file_name.split(' ')[1:])\n",
    "    timestamp = dt.strptime(stamp, '%Y-%m-%d %H-%M-%S.mp4')[:]\n",
    "    offset = pd.offsets.Second() / fps\n",
    "    full_path = f'{folder}/{path}'\n",
    "    to_full_path = f'{to_folder}/{path}'\n",
    "    full_folder = '/'.join(to_full_path.split('/')[:-1])\n",
    "    if not os.path.exists(full_folder): os.makedirs(full_folder)\n",
    "    cap = cv2.VideoCapture(full_path)\n",
    "    video = cv2.VideoWriter(to_full_path, cv2.VideoWriter_fourcc(*codec), fps, shape)\n",
    "    while cap.isOpened():\n",
    "        r, frame = cap.read()\n",
    "        if not r:\n",
    "            break\n",
    "        frame = add_text_to_video(frame, str(timestamp))\n",
    "        timestamp += offset\n",
    "        video.write(frame)\n",
    "    video.release()"
   ]
  },
  {
   "cell_type": "markdown",
   "metadata": {},
   "source": [
    "#### Concatenate with opencv"
   ]
  },
  {
   "cell_type": "code",
   "execution_count": 109,
   "metadata": {},
   "outputs": [],
   "source": [
    "def concatenate_videos_from_folder(path, folder, ext:str='.mp4', fps:int=9, shape:tuple=(854, 480), codec:str='mp4v',):\n",
    "    \"\"\"\n",
    "    folder: string with path to folder containing video files with extension `ext` \n",
    "    \"\"\"\n",
    "    video = cv2.VideoWriter(path, cv2.VideoWriter_fourcc(*codec), fps, shape)\n",
    "    for file in os.listdir(folder):\n",
    "        if file.endswith(ext):\n",
    "            cap = cv2.VideoCapture(folder + file)\n",
    "            while cap.isOpened():\n",
    "                r, frame = cap.read()\n",
    "                if not r:\n",
    "                    break\n",
    "                video.write(frame)            \n",
    "    video.release()"
   ]
  },
  {
   "cell_type": "markdown",
   "metadata": {},
   "source": [
    "#### Concatenate videos with moviepy library"
   ]
  },
  {
   "cell_type": "code",
   "execution_count": 94,
   "metadata": {},
   "outputs": [],
   "source": [
    "from moviepy.editor import VideoFileClip, concatenate_videoclips"
   ]
  },
  {
   "cell_type": "code",
   "execution_count": 96,
   "metadata": {},
   "outputs": [
    {
     "name": "stderr",
     "output_type": "stream",
     "text": [
      "t:   0%|                                                                              | 0/45 [00:00<?, ?it/s, now=None]"
     ]
    },
    {
     "name": "stdout",
     "output_type": "stream",
     "text": [
      "Moviepy - Building video final.mp4.\n",
      "Moviepy - Writing video final.mp4\n",
      "\n"
     ]
    },
    {
     "name": "stderr",
     "output_type": "stream",
     "text": [
      "                                                                                                                       \r"
     ]
    },
    {
     "name": "stdout",
     "output_type": "stream",
     "text": [
      "Moviepy - Done !\n",
      "Moviepy - video ready final.mp4\n"
     ]
    }
   ],
   "source": [
    "import os\n",
    "\n",
    "path = folder+prefix\n",
    "files = [path + file for file in os.listdir(path)]\n",
    "\n",
    "clip_1 = VideoFileClip(files[0])\n",
    "clip_2 = VideoFileClip(files[1])\n",
    "final_clip = concatenate_videoclips([clip_1,clip_2])\n",
    "final_clip.write_videofile(\"final.mp4\")"
   ]
  },
  {
   "cell_type": "markdown",
   "metadata": {},
   "source": [
    "## Testing concat and timestamp functions"
   ]
  },
  {
   "cell_type": "markdown",
   "metadata": {},
   "source": [
    "### Concatenate videos from folder"
   ]
  },
  {
   "cell_type": "code",
   "execution_count": 111,
   "metadata": {},
   "outputs": [],
   "source": [
    "from time import time\n",
    "\n",
    "path = 'final.mp4'\n",
    "folder = f'Dados/{bucket_name}/{prefix}'\n",
    "\n",
    "s = time()\n",
    "concatenate_videos_from_folder(path, folder, fps=9)\n",
    "t = time() - s\n",
    "\n",
    "t"
   ]
  },
  {
   "cell_type": "markdown",
   "metadata": {},
   "source": [
    "### Add clock to video inplace"
   ]
  },
  {
   "cell_type": "code",
   "execution_count": 223,
   "metadata": {},
   "outputs": [],
   "source": [
    "path = 'polygons/flood/1/313/CODE313 2023-02-11 20-50-00.mp4'\n",
    "\n",
    "folder, to_folder = 'Dados/flood-video-collection', 'Dados/flood-video-collection-stamped'\n",
    "\n",
    "add_clock_to_video_inplace(folder, path, to_folder, fps=3, shape=(854, 480), codec='mp4v')"
   ]
  },
  {
   "cell_type": "code",
   "execution_count": 215,
   "metadata": {},
   "outputs": [
    {
     "data": {
      "text/plain": [
       "('Dados/flood-video-collection', 'Dados/flood-video-collection-stamped')"
      ]
     },
     "execution_count": 215,
     "metadata": {},
     "output_type": "execute_result"
    }
   ],
   "source": [
    "folder, to_folder"
   ]
  },
  {
   "cell_type": "code",
   "execution_count": null,
   "metadata": {},
   "outputs": [],
   "source": []
  }
 ],
 "metadata": {
  "kernelspec": {
   "display_name": "Python 3",
   "language": "python",
   "name": "python3"
  },
  "language_info": {
   "codemirror_mode": {
    "name": "ipython",
    "version": 3
   },
   "file_extension": ".py",
   "mimetype": "text/x-python",
   "name": "python",
   "nbconvert_exporter": "python",
   "pygments_lexer": "ipython3",
   "version": "3.8.3"
  }
 },
 "nbformat": 4,
 "nbformat_minor": 4
}
