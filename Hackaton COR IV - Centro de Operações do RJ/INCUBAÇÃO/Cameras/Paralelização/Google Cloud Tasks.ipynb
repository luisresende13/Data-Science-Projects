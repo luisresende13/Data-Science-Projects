{
 "cells": [
  {
   "cell_type": "markdown",
   "metadata": {},
   "source": [
    "# Create and run Google Cloud tasks"
   ]
  },
  {
   "cell_type": "code",
   "execution_count": null,
   "metadata": {},
   "outputs": [],
   "source": [
    "\"\"\"Create a task for a given queue with an arbitrary payload.\"\"\"\n",
    "\n",
    "from google.cloud import tasks_v2\n",
    "\n",
    "# Create a client.\n",
    "client = tasks_v2.CloudTasksClient()\n",
    "\n",
    "# TODO(developer): Uncomment these lines and replace with your values.\n",
    "# project = 'my-project-id'\n",
    "# queue = 'my-queue'\n",
    "# location = 'us-central1'\n",
    "# url = 'https://example.com/task_handler?param=value'\n",
    "# audience = 'https://example.com/task_handler'\n",
    "# service_account_email = 'service-account@my-project-id.iam.gserviceaccount.com';\n",
    "# payload = 'hello'\n",
    "\n",
    "# Construct the fully qualified queue name.\n",
    "parent = client.queue_path(project, location, queue)\n",
    "\n",
    "# Construct the request body.\n",
    "task = {\n",
    "    \"http_request\": {  # Specify the type of request.\n",
    "        \"http_method\": tasks_v2.HttpMethod.POST,\n",
    "        \"url\": url,  # The full url path that the task will be sent to.\n",
    "        \"oidc_token\": {\n",
    "            \"service_account_email\": service_account_email,\n",
    "            \"audience\": audience,\n",
    "        },\n",
    "    }\n",
    "}\n",
    "\n",
    "if payload is not None:\n",
    "    # The API expects a payload of type bytes.\n",
    "    converted_payload = payload.encode()\n",
    "\n",
    "    # Add the payload to the request.\n",
    "    task[\"http_request\"][\"body\"] = converted_payload\n",
    "\n",
    "# Use the client to build and send the task.\n",
    "response = client.create_task(request={\"parent\": parent, \"task\": task})\n",
    "\n",
    "print(\"Created task {}\".format(response.name))\n",
    "return response\n"
   ]
  }
 ],
 "metadata": {
  "kernelspec": {
   "display_name": "Python 3",
   "language": "python",
   "name": "python3"
  },
  "language_info": {
   "codemirror_mode": {
    "name": "ipython",
    "version": 3
   },
   "file_extension": ".py",
   "mimetype": "text/x-python",
   "name": "python",
   "nbconvert_exporter": "python",
   "pygments_lexer": "ipython3",
   "version": "3.8.5"
  }
 },
 "nbformat": 4,
 "nbformat_minor": 4
}
