{
 "cells": [
  {
   "cell_type": "markdown",
   "metadata": {},
   "source": [
    "# Image processing pipeline with Google Cloud Storage python client"
   ]
  },
  {
   "cell_type": "code",
   "execution_count": 5,
   "metadata": {},
   "outputs": [
    {
     "name": "stdout",
     "output_type": "stream",
     "text": [
      "C:\\Users\\luisr\\Desktop\\Repositories\\Apps\\Python\\cams-rio\n"
     ]
    }
   ],
   "source": [
    "cd ../../../../Apps/Python/cams-rio"
   ]
  },
  {
   "cell_type": "markdown",
   "metadata": {},
   "source": [
    "### Write and upload videos from images - Custom class"
   ]
  },
  {
   "cell_type": "code",
   "execution_count": 2,
   "metadata": {},
   "outputs": [],
   "source": [
    "import os, cv2\n",
    "from tempfile import NamedTemporaryFile\n",
    "# from modules.googlecloudstorage import GCS\n",
    "\n",
    "class Video:\n",
    "    \n",
    "    def write(frames:list, path:str, fps:int=3, codec:str='mp4v', shape:tuple=None):\n",
    "        if shape is None:\n",
    "            try: height, width, _ = frames[0].shape; shape = (width, height)\n",
    "            except: print('WRITE VIDEO ERROR. SHAPE COULD NOT BE DETERMINED.'); return False\n",
    "        fourcc = cv2.VideoWriter_fourcc(*codec)\n",
    "        writer = cv2.VideoWriter(path, fourcc, fps, shape)\n",
    "        for frame in frames: writer.write(frame)\n",
    "        cv2.destroyAllWindows(); writer.release()\n",
    "        return True\n",
    "    \n",
    "    def __init__(self, ext:str='.mp4', skip=None, gcs=None):\n",
    "        self.shape = shape\n",
    "        self.fps = fps\n",
    "        self.ext = ext\n",
    "        self.codec = codec\n",
    "        self.skip = skip\n",
    "        self.gcs = gcs\n",
    "                \n",
    "    def upload(self, frames:list, blob_name:str, bucket_name:str, content_type:str='video/mp4', overwrite:bool=False):\n",
    "        if not len(frames):\n",
    "            print(); print(f'VIDEO UPLOAD FAILED. EMPTY FRAME LIST PROVIDED. BLOB: {blob_name} · BUCKET: {bucket_name}')\n",
    "            return False\n",
    "        if not overwrite and self.gcs.is_blob_in_bucket(blob_name, bucket_name):\n",
    "            print(); print(f'VIDEO UPLOAD FAILED. BLOB ALREADY EXISTS. BLOB: {blob_name} · BUCKET: {bucket_name}')\n",
    "            return False\n",
    "        with NamedTemporaryFile() as temp:\n",
    "            tname = f\"{temp.name}{self.ext}\"\n",
    "            Video.write(frames, tname)\n",
    "            self.gcs.upload_from_filename(tname, blob_name, bucket_name, content_type, overwrite=True)\n",
    "        print(); print(f'VIDEO UPLOAD SUCCESS. BLOB: {blob_name} · BUCKET: {bucket_name}')            \n",
    "        return True\n",
    "\n",
    "    def read_images_from_folder(self, folder:str, ext:str='.jpg'):\n",
    "        '''\n",
    "        folder: full path to folder containing images.\n",
    "        '''\n",
    "        stamp_files = [path for path in os.listdir(folder) if path.endswith(ext)]\n",
    "        stamp_images = []\n",
    "        for stamp_file in stamp_files:\n",
    "            stamp_path = f'{folder}/{stamp_file}'\n",
    "            image = cv2.imread(stamp_path)\n",
    "            if image is None:\n",
    "                print(); print(f'IMAGE READ FAILED. PATH: {stamp_path}')\n",
    "                continue\n",
    "            if self.skip is not None and self.skip(image): continue\n",
    "            stamp_images.append(image)\n",
    "        return stamp_images\n",
    "\n",
    "    def read_images_from_bucket(self, prefix:str, delimiter=None, bucket_name:str, ext:str='.jpg'):\n",
    "        '''\n",
    "        '''\n",
    "        blobs = self.gcs.bucket(bucket_name).list_blobs(prefix=prefix, delimiter=delimiter)\n",
    "        \n",
    "        files = [blob.name for blob in blobs if blb.name.endswith(ext)]\n",
    "        images = []\n",
    "        for file in files:\n",
    "            path = f'{prefix}/{file}'\n",
    "            image = cv2.imread(path)\n",
    "            if image is None:\n",
    "                print(); print(f'IMAGE READ FAILED. PATH: {stamp_path}')\n",
    "                continue\n",
    "            if self.skip is not None and self.skip(image): continue\n",
    "            stamp_images.append(image)\n",
    "        return stamp_images\n",
    "\n",
    "    def upload_from_images(self, folder:str, blob_name:str, bucket_name:str, ext:str='.jpg', content_type:str='video/mp4', overwrite:bool=False):\n",
    "        if not overwrite and self.gcs.is_blob_in_bucket(blob_name, bucket_name):\n",
    "            print(); print(f'VIDEO UPLOAD FAILED. BLOB ALREADY EXISTS. BLOB: {blob_name} · BUCKET: {bucket_name}')\n",
    "            return False\n",
    "        return self.upload(self.read_images_from_folder(folder, ext), blob_name, bucket_name, content_type, overwrite=True)\n"
   ]
  },
  {
   "cell_type": "markdown",
   "metadata": {},
   "source": [
    "---"
   ]
  },
  {
   "cell_type": "markdown",
   "metadata": {},
   "source": [
    "# Images processing pipeline"
   ]
  },
  {
   "cell_type": "markdown",
   "metadata": {},
   "source": [
    "### 1. Download blob files to folder"
   ]
  },
  {
   "cell_type": "code",
   "execution_count": 53,
   "metadata": {},
   "outputs": [],
   "source": [
    "from IPython.display import clear_output as co"
   ]
  },
  {
   "cell_type": "markdown",
   "metadata": {},
   "source": [
    "#### Google Cloud Storage module"
   ]
  },
  {
   "cell_type": "code",
   "execution_count": 51,
   "metadata": {},
   "outputs": [],
   "source": [
    "from modules.googlecloudstorage import GCS\n",
    "\n",
    "sa_json = 'auth/octacity-iduff.json' # 'auth/pluvia-sa.json'\n",
    "user_project = 'octacity'\n",
    "\n",
    "gcs = GCS(sa_json, user_project)"
   ]
  },
  {
   "cell_type": "markdown",
   "metadata": {},
   "source": [
    "#### List blobs in blob"
   ]
  },
  {
   "cell_type": "code",
   "execution_count": 21,
   "metadata": {},
   "outputs": [
    {
     "name": "stdout",
     "output_type": "stream",
     "text": [
      "\n",
      "Blobs: 771757\n"
     ]
    }
   ],
   "source": [
    "bucket_name = 'city-camera-images'\n",
    "prefix = 'pics/'\n",
    "delimiter = None\n",
    "ext = '.jpg'\n",
    "\n",
    "blobs = gcs.get_bucket(bucket_name).list_blobs(prefix=prefix, delimiter=delimiter)\n",
    "# blobs = gcs.list_blobs(bucket_name, prefix, delimiter)\n",
    "\n",
    "names, images = [], []\n",
    "for i, blob in enumerate(blobs):\n",
    "    if i % 500 == 0: print(); print(f'Blobs Searched: {i+1}'); co(True)\n",
    "    if blob.name.endswith(ext): images.append(blob.name)\n",
    "    names.append(blob.name)\n",
    "#     if blob.name.endswith('/'): folders.append(blob.name)\n",
    "\n",
    "# print(); print(f'Blobs Query: {len(blobs_ext)}/{len(blobs)}')\n",
    "print(); print(f'Blobs: {len(names)}')"
   ]
  },
  {
   "cell_type": "markdown",
   "metadata": {},
   "source": [
    "#### File count per folder\n",
    "\n",
    "    file_count = {\n",
    "        'pics': '756982',\n",
    "        'rain': '173601',\n",
    "    }"
   ]
  },
  {
   "cell_type": "markdown",
   "metadata": {},
   "source": [
    "#### Download blobs in blob to folder"
   ]
  },
  {
   "cell_type": "code",
   "execution_count": 7,
   "metadata": {},
   "outputs": [
    {
     "name": "stdout",
     "output_type": "stream",
     "text": [
      "\n",
      "PREFIX: rain · RUNNING: 145.7 min · RATE: 0.0955 s/file · FINISH-ESTIMATE: 0.0 min · PROGRESS: 173600/173601 · DOWNLOADS: 91324/91601\n"
     ]
    }
   ],
   "source": [
    "folder = '../../../Dados/Downloads'\n",
    "bucket_name = 'city-camera-images'\n",
    "prefix = 'test/'\n",
    "delimiter = None\n",
    "\n",
    "pipeline_download = [\n",
    "#     'auto/flood',\n",
    "#     'flood',\n",
    "#     'manual',\n",
    "    'rain', # missing\n",
    "#     'pics', # missing\n",
    "#     'test',\n",
    "    \n",
    "]\n",
    "\n",
    "for prefix in pipeline_download: gcs.download_to_folder(\n",
    "    folder, bucket_name, prefix, delimiter, \n",
    "    overwrite=False, report_freq=10, skip=82000\n",
    ")"
   ]
  },
  {
   "cell_type": "markdown",
   "metadata": {},
   "source": [
    "### 2. Buckets Image and video files processing pipeline\n",
    "\n",
    "- Read files from disk\n",
    "- Convert images to video\n",
    "- Upload to cloud storage bucket"
   ]
  },
  {
   "cell_type": "markdown",
   "metadata": {},
   "source": [
    "#### Computer vision method settings (Image Similarity)"
   ]
  },
  {
   "cell_type": "code",
   "execution_count": 5,
   "metadata": {},
   "outputs": [
    {
     "name": "stderr",
     "output_type": "stream",
     "text": [
      "C:\\Users\\luisr\\AppData\\Roaming\\Python\\Python38\\site-packages\\pandas\\core\\computation\\expressions.py:21: UserWarning: Pandas requires version '2.7.3' or newer of 'numexpr' (version '2.7.1' currently installed).\n",
      "  from pandas.core.computation.check import NUMEXPR_INSTALLED\n"
     ]
    }
   ],
   "source": [
    "from modules.image_similarity import similarity_classifier\n",
    "\n",
    "baseimgs = ['static/gabaritos/cam.jpg', 'static/gabaritos/dark.jpg']\n",
    "\n",
    "p = 0.05\n",
    "clf_diff = similarity_classifier(baseimgs, p)\n",
    "\n",
    "clf_diff.predict_any\n",
    "\n",
    "from modules.histogram import HistogramClassifier\n",
    "\n",
    "threshold=0.6\n",
    "clf_hist = HistogramClassifier(threshold)"
   ]
  },
  {
   "cell_type": "markdown",
   "metadata": {},
   "source": [
    "#### Set pipeline parameters"
   ]
  },
  {
   "cell_type": "code",
   "execution_count": null,
   "metadata": {},
   "outputs": [],
   "source": [
    "import pandas as pd\n",
    "from time import time\n",
    "\n",
    "cameras = pd.read_csv('static/city/cameras.csv')\n",
    "cameras['Codigo'] = cameras['Codigo'].astype(int)\n",
    "cameras['cluster_id'] = cameras['cluster_id'].astype(int)\n",
    "cameras.set_index('Codigo', inplace=True)\n",
    "\n",
    "\n",
    "# skip = clf_diff.predict_any\n",
    "skip = clf_hist.is_histogram_clustered\n",
    "gcs = GCS('auth/octacity-iduff.json', 'octacity')\n",
    "\n",
    "video = Video(skip=skip, gcs=gcs)\n",
    "\n",
    "path = '../../../Dados/Downloads'\n",
    "to_bucket_name = 'flood-video-collection'\n",
    "\n",
    "pipeline_config = [{ \n",
    "#     'event_type': 'auto/flood',\n",
    "#     'bucket_folder': 'polygons/flood',\n",
    "#     'blob_type': 'polygon',\n",
    "#     'upload_from': 'video_file',\n",
    "# }, {\n",
    "#     'event_type': 'flood',\n",
    "#     'bucket_folder': 'polygons/flood',\n",
    "#     'blob_type': 'polygon',\n",
    "#     'upload_from': 'image_folder',\n",
    "# }, {\n",
    "#     'event_type': 'manual/2023-08-02',\n",
    "#     'bucket_folder': 'polygons/manual',\n",
    "#     'blob_type': 'polygon',\n",
    "#     'upload_from': 'image_folder',\n",
    "# }, {\n",
    "#     'local_folder': 'rain', # missing\n",
    "#     'bucket_folder': 'rain',\n",
    "#     'blob_type': 'camera',\n",
    "#     'upload_from': 'image_folder',\n",
    "#     'skip': 14400,\n",
    "#     'overwrite': False,\n",
    "# }, {\n",
    "    'event_type': 'pics', # missing\n",
    "    'bucket_folder': 'polygons/flood',\n",
    "    'blob_type': 'polygon',\n",
    "    'upload_from': 'image_folder',\n",
    "}]\n",
    "\n",
    "# obs. 'event_type' values 'auto/rain', 'comando' and 'waze' were transferred to new bucket manually."
   ]
  },
  {
   "cell_type": "markdown",
   "metadata": {},
   "source": [
    "#### Build pipeline parameter list"
   ]
  },
  {
   "cell_type": "code",
   "execution_count": 8,
   "metadata": {},
   "outputs": [
    {
     "name": "stdout",
     "output_type": "stream",
     "text": [
      "CODES: 2830/2834\n"
     ]
    }
   ],
   "source": [
    "pipe_params = []\n",
    "\n",
    "for i, config in enumerate(pipeline_config):\n",
    "\n",
    "    if 'overwrite' not in config: config['overwrite'] = False\n",
    "    if 'skip' not in config: config['skip'] = 0\n",
    "        \n",
    "    skip = config['skip']\n",
    "    overwrite = config['overwrite']\n",
    "\n",
    "    local_folder = config['local_folder'] # Get 'local_folder' folder config\n",
    "    bucket_folder = config['bucket_folder']\n",
    "    \n",
    "    event_folder = f'{path}/{local_folder}' # Get 'local_folder' folder\n",
    "    event_codes = os.listdir(event_folder)\n",
    "    \n",
    "    cnt = 0\n",
    "    for j, code in enumerate(event_codes): # Get 'local_folder' code\n",
    "        cnt += 1\n",
    "        if cnt % 10 == 0: co(True); print(f'CODES: {cnt}/{len(event_codes)}')\n",
    "        \n",
    "        if config['blob_type'] == 'polygon':\n",
    "            polygon_id = cameras.loc[int(code), 'cluster_id']\n",
    "            \n",
    "        code_folder = f'{event_folder}/{code}' # Get 'code' folder\n",
    "        code_stamps = os.listdir(code_folder)\n",
    "        \n",
    "        for k, stamp in enumerate(code_stamps): # get 'code' timestamp\n",
    "            \n",
    "            if 'blob_type' not in config:\n",
    "                config['blob_type'] = 'camera'\n",
    "            if 'upload_from' not in config:\n",
    "                config['upload_from'] = 'video_file'\n",
    "\n",
    "            from_folder = f'{code_folder}/{stamp}'\n",
    "            to_blob_name =  f'{bucket_folder}'\n",
    "            if config['blob_type'] == 'polygon': to_blob_name += f'/{polygon_id}'\n",
    "            to_blob_name += f'/{code}'\n",
    "            to_blob_name += f'/{stamp}' if config['upload_from'] == 'video_file' else f'/CODE{code} {stamp}.mp4'\n",
    "\n",
    "            pipe_params.append({'folder': from_folder, 'to_blob_name': to_blob_name, 'to_bucket_name': to_bucket_name, 'overwrite': overwrite, 'upload_from': config['upload_from']})\n",
    "            "
   ]
  },
  {
   "cell_type": "markdown",
   "metadata": {},
   "source": [
    "#### Loop through the pipeline stages"
   ]
  },
  {
   "cell_type": "code",
   "execution_count": 35,
   "metadata": {},
   "outputs": [
    {
     "name": "stdout",
     "output_type": "stream",
     "text": [
      "\n",
      "VIDEO UPLOAD FAILED. EMPTY FRAME LIST PROVIDED. BLOB: rain/990/CODE990 2023-02-10 23-45-01.mp4 · BUCKET: flood-video-collection\n",
      "\n",
      "- PIPELINE: rain · BLOB: rain/990/CODE990 2023-02-10 23-45-01.mp4\n",
      "\n",
      "- STAGE: 1/1 · CODES: 2833/2834 · FILES: 6/6\n",
      "\n",
      "- TOTAL: 17662 · ERRORS: 0\n",
      "\n",
      "- RUNNING: 29.1 / 29.2 min · EXPECT-FINISH: 0.1 min\n"
     ]
    }
   ],
   "source": [
    "start = time()\n",
    "for i, config in enumerate(pipeline_config):\n",
    "\n",
    "    event_type = config['event_type'] # Get 'event_type' folder config\n",
    "    bucket_folder = config['bucket_folder']\n",
    "    \n",
    "    event_folder = f'{path}/{event_type}' # Get 'event_type' folder\n",
    "    event_codes = os.listdir(event_folder)\n",
    "\n",
    "    if 'overwrite' not in config: config['overwrite'] = False\n",
    "    if 'skip' not in config: config['skip'] = 0\n",
    "    skip = config['skip']\n",
    "    overwrite = config['overwrite']\n",
    "    \n",
    "    n = len(event_codes)\n",
    "    done, skipped, files = 0, 0, -1\n",
    "    errors = []\n",
    "    left = n\n",
    "    rate = None\n",
    "    for j, code in enumerate(event_codes): # Get 'event_type' code\n",
    "        if config['blob_type'] == 'polygon':\n",
    "            polygon_id = cameras.loc[int(code), 'cluster_id']\n",
    "            \n",
    "        code_folder = f'{event_folder}/{code}' # Get 'code' folder\n",
    "        code_stamps = os.listdir(code_folder)\n",
    "        \n",
    "        for k, stamp in enumerate(code_stamps): # get 'code' timestamp\n",
    "            files += 1\n",
    "            if files < skip: continue\n",
    "\n",
    "            if 'blob_type' not in config:\n",
    "                config['blob_type'] = 'camera'\n",
    "            if 'upload_from' not in config:\n",
    "                config['upload_from'] = 'video_file'\n",
    "\n",
    "            stamp_folder = f'{code_folder}/{stamp}'\n",
    "            to_blob_name =  f'{bucket_folder}'\n",
    "            if config['blob_type'] == 'polygon': to_blob_name += f'/{polygon_id}'\n",
    "            to_blob_name += f'/{code}'\n",
    "            to_blob_name += f'/{stamp}' if config['upload_from'] == 'video_file' else f'/CODE{code} {stamp}.mp4'\n",
    "\n",
    "            co(True)\n",
    "            try:\n",
    "                if config['upload_from'] == 'video_file':\n",
    "                    status = video.gcs.upload_from_filename(stamp_folder, to_blob_name, to_bucket_name, content_type='video/mp4', overwrite=overwrite)\n",
    "                elif config['upload_from'] == 'image_folder':\n",
    "                    status = video.upload_from_images(\n",
    "                        stamp_folder, to_blob_name, to_bucket_name,\n",
    "                        ext='.jpg', content_type='video/mp4', overwrite=overwrite\n",
    "                    )\n",
    "                    \n",
    "            except Exception as err:\n",
    "                errors.append({'error': str(err), 'config': config['event_type'], 'code': code, 'file': stamp_folder, 'blob': to_blob_name})\n",
    "            \n",
    "            if rate is not None:\n",
    "                expect_total = rate * (n - skipped)\n",
    "                expect_finish = rate * left\n",
    "                running_min = round(running / 60, 1)\n",
    "                expect_total_min = round(expect_total / 60, 1)\n",
    "                expect_finish_min = round(expect_finish / 60, 1)\n",
    "                print(); print(f'- PIPELINE: {config[\"event_type\"]} · BLOB: {to_blob_name}')\n",
    "                print(); print(f'- STAGE: {i+1}/{len(pipeline_config)} · CODES: {done}/{n} · FILES: {k+1}/{len(code_stamps)}')\n",
    "                print(); print(f'- TOTAL: {files} · ERRORS: {len(errors)}')\n",
    "                print(); print(f'- RUNNING: {running_min} / {expect_total_min} min · EXPECT-FINISH: {expect_finish_min} min')\n",
    "        \n",
    "        running = time() - start\n",
    "        done += 1; left = n - done\n",
    "        if files < skip: skipped +=1\n",
    "        rate = running / (done - skipped) if (done - skipped) != 0 else 0\n"
   ]
  },
  {
   "cell_type": "markdown",
   "metadata": {},
   "source": [
    "#### STOPPED AT SKIP: 6200"
   ]
  },
  {
   "cell_type": "markdown",
   "metadata": {},
   "source": [
    "### 3. Clean up storage"
   ]
  },
  {
   "cell_type": "markdown",
   "metadata": {},
   "source": [
    "#### Delete blobs that match provided extension"
   ]
  },
  {
   "cell_type": "code",
   "execution_count": 77,
   "metadata": {},
   "outputs": [
    {
     "name": "stdout",
     "output_type": "stream",
     "text": [
      "Iteration: 18/18 · Deleted: 0/0\n"
     ]
    }
   ],
   "source": [
    "bucket_name = 'flood-video-collection'\n",
    "prefix = 'rain/'\n",
    "delimiter = None\n",
    "\n",
    "ext = '.mp4.mp4'\n",
    "# pattern = 'CODE'\n",
    "\n",
    "blobs = gcs.list_blobs(bucket_name, prefix, delimiter)\n",
    "\n",
    "blobs_ext = []\n",
    "for blob_name in blobs:\n",
    "    \n",
    "    if blob_name.endswith(ext):\n",
    "        blobs_ext.append(blob_name)\n",
    "#     if len(blob_name.split(pattern)) - 1 == 2:\n",
    "#         blobs_ext.append(blob_name)\n",
    "\n",
    "print('Blobs:', len(blobs), '· Query:', len(blobs_ext))\n",
    "\n",
    "bucket = gcs.get_bucket(bucket_name)\n",
    "\n",
    "deleted = 0\n",
    "for i, blob in enumerate(bucket.list_blobs(prefix=prefix, delimiter=delimiter)):\n",
    "\n",
    "    if blob.name.endswith(ext):\n",
    "        blob.delete(); deleted += 1\n",
    "#     if len(blob.name.split(pattern)) - 1 == 2:\n",
    "#         blob.delete(); deleted += 1\n",
    "\n",
    "    co(True); print(f'Iteration: {i+1}/{len(blobs)} · Deleted: {deleted}/{len(blobs_ext)}')"
   ]
  },
  {
   "cell_type": "markdown",
   "metadata": {},
   "source": [
    "#### Check result"
   ]
  },
  {
   "cell_type": "code",
   "execution_count": 66,
   "metadata": {},
   "outputs": [
    {
     "name": "stdout",
     "output_type": "stream",
     "text": [
      "Blobs: 577 · Query: 0\n"
     ]
    }
   ],
   "source": [
    "blobs = gcs.list_blobs(bucket_name, prefix, delimiter)\n",
    "\n",
    "blobs_ext = []\n",
    "for blob_name in blobs:\n",
    "    if blob_name.endswith(ext): blobs_ext.append(blob_name)\n",
    "#     if len(blob_name.split(pattern)) - 1 == 2: blobs_ext.append(blob_name)\n",
    "\n",
    "print(f'Blobs: {len(blobs)} · Query: {len(blobs_ext)}')"
   ]
  },
  {
   "cell_type": "markdown",
   "metadata": {},
   "source": [
    "### 4. Classify images nested in folder"
   ]
  },
  {
   "cell_type": "code",
   "execution_count": null,
   "metadata": {},
   "outputs": [
    {
     "name": "stdout",
     "output_type": "stream",
     "text": [
      "FILES: 8041/17663\n"
     ]
    }
   ],
   "source": [
    "import os, numpy as np\n",
    "from time import time\n",
    "from IPython.display import clear_output as co\n",
    "from modules.histogram import HistogramClassifier\n",
    "\n",
    "ext = '.jpg'\n",
    "\n",
    "threshold = 0.6\n",
    "clf_hist = HistogramClassifier(threshold)\n",
    "predict = clf_hist.is_histogram_clustered\n",
    "\n",
    "n = len(pipe_prams)\n",
    "labels, fail = [], []; s = time()\n",
    "for i, params in enumerate(pipe_params):\n",
    "    if i % 10 == 0 and i != 0:\n",
    "        run = time() - s\n",
    "        rate = run / i; left = n - i\n",
    "        time_total = round(rate * n / 60, 1)\n",
    "        time_left = round(rate * left / 60, 1)\n",
    "        co(True); print(f'FILES: {i+1}/{n} · TIME: {round(run/60, 1)} · TIME-LEFT: {time_left}')\n",
    "    folder = params['folder']\n",
    "    filenames = [os.path.join(folder, file) for file in os.listdir(folder) if file.endswith(ext)]\n",
    "    frames = []\n",
    "    for filename in filenames:\n",
    "        img = cv2.imread(filename)\n",
    "        if img is None:\n",
    "            fail.append({'error': 'FAIL TO READ', 'filename': filename, **params}); continue\n",
    "        frames.append(img)\n",
    "    labels.append(np.all(predict(frames)))"
   ]
  },
  {
   "cell_type": "markdown",
   "metadata": {},
   "source": [
    "---\n",
    "## 'pics' folder (delete dark images)"
   ]
  },
  {
   "cell_type": "code",
   "execution_count": 3,
   "metadata": {},
   "outputs": [],
   "source": [
    "import json, pandas as pd\n",
    "\n",
    "data_path = '../../../Data Science Projects/Hackaton COR IV - Centro de Operações do RJ/INCUBAÇÃO/Cameras/Dados'"
   ]
  },
  {
   "cell_type": "markdown",
   "metadata": {},
   "source": [
    "### 1. List blobs in 'pics/' blob"
   ]
  },
  {
   "cell_type": "code",
   "execution_count": 21,
   "metadata": {},
   "outputs": [
    {
     "name": "stdout",
     "output_type": "stream",
     "text": [
      "\n",
      "Blobs: 771757\n"
     ]
    }
   ],
   "source": [
    "bucket_name = 'city-camera-images'\n",
    "prefix = 'pics/'\n",
    "delimiter = None\n",
    "ext = '.jpg'\n",
    "\n",
    "blobs = gcs.get_bucket(bucket_name).list_blobs(prefix=prefix, delimiter=delimiter)\n",
    "# blobs = gcs.list_blobs(bucket_name, prefix, delimiter)\n",
    "\n",
    "names, images = [], []\n",
    "for i, blob in enumerate(blobs):\n",
    "    if i % 500 == 0: print(); print(f'Blobs Searched: {i+1}'); co(True)\n",
    "    if blob.name.endswith(ext): images.append(blob.name)\n",
    "    names.append(blob.name)\n",
    "#     if blob.name.endswith('/'): folders.append(blob.name)\n",
    "\n",
    "# print(); print(f'Blobs Query: {len(blobs_ext)}/{len(blobs)}')\n",
    "print(); print(f'Blobs: {len(names)}')"
   ]
  },
  {
   "cell_type": "markdown",
   "metadata": {},
   "source": [
    "### 2. Save blobs information as dataframe"
   ]
  },
  {
   "cell_type": "code",
   "execution_count": 15,
   "metadata": {},
   "outputs": [],
   "source": [
    "blobs_df = pd.DataFrame({'blob': names})\n",
    "blobs_df['ext'] = ''\n",
    "blobs_df['ext'][blobs_df['blob'].str.endswith('/')] = '/'\n",
    "blobs_df['ext'][blobs_df['blob'].str.endswith('.jpg')] = '.jpg'\n",
    "\n",
    "display(blobs_df['ext'].value_counts().to_frame('blobs'))"
   ]
  },
  {
   "cell_type": "markdown",
   "metadata": {},
   "source": [
    "### 3. Reload blobs dataframe"
   ]
  },
  {
   "cell_type": "code",
   "execution_count": 159,
   "metadata": {},
   "outputs": [],
   "source": [
    "blobs_df_path = f'{data_path}/blobs/pics.csv'\n",
    "\n",
    "blobs_df = pd.read_csv(blobs_df_path)"
   ]
  },
  {
   "cell_type": "markdown",
   "metadata": {},
   "source": [
    "### 3.1 Generate blobs control dataset"
   ]
  },
  {
   "cell_type": "code",
   "execution_count": 168,
   "metadata": {},
   "outputs": [],
   "source": [
    "# blobs_control_df = blobs_df.copy()\n",
    "# blobs_control_df['status'] = 'UNCHECKED'\n",
    "\n",
    "# blobs_control_df.to_csv(f'{data_path}/blobs/pics_control.csv', index=False) # save as csv"
   ]
  },
  {
   "cell_type": "markdown",
   "metadata": {},
   "source": [
    "### 4. Set computer vision methods (Image Similarity)"
   ]
  },
  {
   "cell_type": "code",
   "execution_count": 172,
   "metadata": {},
   "outputs": [],
   "source": [
    "from modules.image_similarity import similarity_classifier\n",
    "\n",
    "baseimgs = ['static/gabaritos/cam.jpg', 'static/gabaritos/dark.jpg']\n",
    "\n",
    "p = 0.05\n",
    "clf_diff = similarity_classifier(baseimgs, p)\n",
    "# clf_diff.predict_any\n",
    "\n",
    "from modules.histogram import HistogramClassifier\n",
    "\n",
    "threshold=0.6\n",
    "clf_hist = HistogramClassifier(threshold)\n",
    "# clf_hist.is_histogram_clustered"
   ]
  },
  {
   "cell_type": "markdown",
   "metadata": {},
   "source": [
    "### 5. Set Google Cloud Storage module"
   ]
  },
  {
   "cell_type": "code",
   "execution_count": 170,
   "metadata": {},
   "outputs": [],
   "source": [
    "from modules.googlecloudstorage import GCS\n",
    "\n",
    "sa_json = 'auth/octacity-iduff.json' # 'auth/pluvia-sa.json'\n",
    "user_project = 'octacity'\n",
    "\n",
    "gcs = GCS(sa_json, user_project)"
   ]
  },
  {
   "cell_type": "markdown",
   "metadata": {},
   "source": [
    "### 6. Delete dark images progressively"
   ]
  },
  {
   "cell_type": "code",
   "execution_count": null,
   "metadata": {},
   "outputs": [
    {
     "name": "stdout",
     "output_type": "stream",
     "text": [
      "\n",
      "- PROGRESS: 5420/711967 (0.8) · TOTAL: 50435/756982 (6.7%)\n",
      "\n",
      "- RUNNING: 17.1 min · EXPECT-FINISH: 2228.2 min · RATE: 5.3 ops / s\n",
      "\n",
      "- BLOB: pics/1120/2023-02-07 20:08:37/CODE1120_2023-02-07 20:55:15.jpg\n",
      "\n",
      "- INITIAL STATUS: UNCHECKED · UPDATE STATUS: VALID\n",
      "\n"
     ]
    },
    {
     "data": {
      "image/png": "[encoded data removed]",
      "text/plain": [
       "<Figure size 432x288 with 1 Axes>"
      ]
     },
     "metadata": {
      "needs_background": "light"
     },
     "output_type": "display_data"
    }
   ],
   "source": [
    "import cv2\n",
    "\n",
    "def load_image_from_bytes(bytes_string):\n",
    "    return cv2.imdecode(np.frombuffer(bytes_string ,dtype=np.uint8), cv2.IMREAD_UNCHANGED)\n",
    "\n",
    "from time import time\n",
    "import matplotlib.pyplot as plt\n",
    "\n",
    "imshow = True\n",
    "\n",
    "n = 1000\n",
    "report_freq = 10\n",
    "# ext = '.jpg'\n",
    "\n",
    "path_control = f'{data_path}/blobs/pics_control.csv'\n",
    "bucket_name = 'city-camera-images'\n",
    "\n",
    "# read status control\n",
    "blobs_control = pd.read_csv(path_control)\n",
    "\n",
    "def df_query(data, query):\n",
    "    df = data.copy()\n",
    "    for key in query: df = df[df[key]==query[key]]\n",
    "    return df\n",
    "    \n",
    "control = df_query(blobs_control, {'ext': '.jpg', 'status': 'UNCHECKED'})\n",
    "control_total = df_query(blobs_control, {'ext': '.jpg'})\n",
    "\n",
    "try:\n",
    "    n = len(control)\n",
    "    n_total = len(control_total)\n",
    "    s = time()\n",
    "    for i, (index, row) in enumerate(control.iterrows()):\n",
    "        # get blob\n",
    "        blob = gcs.get_blob(row['blob'], bucket_name)\n",
    "        # download\n",
    "        try:\n",
    "            # check and delete\n",
    "            image = load_image_from_bytes(blob.download_as_string())\n",
    "            status = clf_hist.is_histogram_clustered(image)\n",
    "            if status: delete = blob.delete()\n",
    "        except Exception:\n",
    "            if (i+1) % report_freq == 0:\n",
    "                print(); print('- MESSAGE: BLOB ALREADY DELETED.')\n",
    "            image = None; status = True\n",
    "        # update status\n",
    "        status_name = 'DELETED' if status else 'VALID'\n",
    "        blobs_control.loc[index, 'status'] = status_name\n",
    "        # report\n",
    "        if (i+1) % report_freq == 0:\n",
    "            i_total = n_total - n + i + 1\n",
    "            t = time() - s; rate = t / (i+1)\n",
    "            left = n - i - 1; t_finish = rate * left\n",
    "            t_finish = round(t_finish / 60, 1)\n",
    "            print(); print(f'- PROGRESS: {i+1}/{n} ({round((i+1)/n*100, 1)}) · TOTAL: {i_total}/{n_total} ({round(i_total/n_total*100, 1)}%)')\n",
    "            print(); print(f'- RUNNING: {round(t/60, 1)} min · EXPECT-FINISH: {t_finish} min · RATE: {round(1/rate, 1)} ops / s')\n",
    "            print(); print(f'- BLOB: {row[\"blob\"]}')\n",
    "            print(); print(f'- INITIAL STATUS: {row[\"status\"]} · UPDATE STATUS: {blobs_control.loc[index, \"status\"]}')\n",
    "            if imshow and image is not None: print(); plt.imshow(image); plt.show()\n",
    "            co(True)\n",
    "\n",
    "except BaseException as err:\n",
    "    print(); print(f'* EXCEPTION: {err} · BLOB: {row[\"blob\"]} · STATUS: {status}')\n",
    "    print(); print(f'* PROGRESS: {i+1}/{n} · TOTAL: {i_total}/{n_total}')\n",
    "    \n",
    "# save status control\n",
    "blobs_control.to_csv(path_control, index=False)\n",
    "print(); print('* BLOBS CONTROL UPDATE SUCCESSFUL')"
   ]
  }
 ],
 "metadata": {
  "kernelspec": {
   "display_name": "Python 3",
   "language": "python",
   "name": "python3"
  },
  "language_info": {
   "codemirror_mode": {
    "name": "ipython",
    "version": 3
   },
   "file_extension": ".py",
   "mimetype": "text/x-python",
   "name": "python",
   "nbconvert_exporter": "python",
   "pygments_lexer": "ipython3",
   "version": "3.8.3"
  }
 },
 "nbformat": 4,
 "nbformat_minor": 4
}
