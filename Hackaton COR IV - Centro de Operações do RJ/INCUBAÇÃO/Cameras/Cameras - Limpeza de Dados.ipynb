{
 "cells": [
  {
   "cell_type": "markdown",
   "metadata": {},
   "source": [
    "# City cameras' coordinates in Rio de Janeiro - Data Cleaning"
   ]
  },
  {
   "cell_type": "markdown",
   "metadata": {},
   "source": [
    "### Import Modules"
   ]
  },
  {
   "cell_type": "code",
   "execution_count": 1,
   "metadata": {},
   "outputs": [
    {
     "name": "stdout",
     "output_type": "stream",
     "text": [
      "C:\\Users\\luisr\\Desktop\\Repositories\\Data Science Projects\\Hackaton COR IV - Centro de Operações do RJ\\INCUBAÇÃO\n"
     ]
    }
   ],
   "source": [
    "cd ../"
   ]
  },
  {
   "cell_type": "code",
   "execution_count": 2,
   "metadata": {},
   "outputs": [
    {
     "name": "stderr",
     "output_type": "stream",
     "text": [
      "C:\\Users\\luisr\\AppData\\Roaming\\Python\\Python38\\site-packages\\pandas\\core\\computation\\expressions.py:21: UserWarning: Pandas requires version '2.7.3' or newer of 'numexpr' (version '2.7.1' currently installed).\n",
      "  from pandas.core.computation.check import NUMEXPR_INSTALLED\n"
     ]
    }
   ],
   "source": [
    "import pandas as pd, numpy as np, matplotlib.pyplot as plt, seaborn as sns; sns.set()\n",
    "from Modulos.decimals import correctMagnitude, dropBelowPrecision\n",
    "from Modulos.geojson_conversion import points_geojson, save_json, pointsPolygonIds"
   ]
  },
  {
   "cell_type": "markdown",
   "metadata": {},
   "source": [
    "### Load dataset"
   ]
  },
  {
   "cell_type": "code",
   "execution_count": 3,
   "metadata": {},
   "outputs": [
    {
     "data": {
      "text/html": [
       "<div>\n",
       "<style scoped>\n",
       "    .dataframe tbody tr th:only-of-type {\n",
       "        vertical-align: middle;\n",
       "    }\n",
       "\n",
       "    .dataframe tbody tr th {\n",
       "        vertical-align: top;\n",
       "    }\n",
       "\n",
       "    .dataframe thead th {\n",
       "        text-align: right;\n",
       "    }\n",
       "</style>\n",
       "<table border=\"1\" class=\"dataframe\">\n",
       "  <thead>\n",
       "    <tr style=\"text-align: right;\">\n",
       "      <th></th>\n",
       "      <th>Codigo</th>\n",
       "      <th>Nome da Camera</th>\n",
       "      <th>Latitude</th>\n",
       "      <th>Longitude</th>\n",
       "      <th>Unnamed: 4</th>\n",
       "    </tr>\n",
       "  </thead>\n",
       "  <tbody>\n",
       "    <tr>\n",
       "      <th>0</th>\n",
       "      <td>'000001'</td>\n",
       "      <td>Av. Pres.Vargas X R. 1º Março</td>\n",
       "      <td>-22.900.259</td>\n",
       "      <td>-43.177.031</td>\n",
       "      <td>NaN</td>\n",
       "    </tr>\n",
       "    <tr>\n",
       "      <th>1</th>\n",
       "      <td>'000002'</td>\n",
       "      <td>Av. Pres.Vargas X Av. Rio Branco</td>\n",
       "      <td>-22.901.392</td>\n",
       "      <td>-43.179.391</td>\n",
       "      <td>NaN</td>\n",
       "    </tr>\n",
       "    <tr>\n",
       "      <th>2</th>\n",
       "      <td>'000003'</td>\n",
       "      <td>Av. Pres.Vargas X Pça. da República</td>\n",
       "      <td>-22.904.902</td>\n",
       "      <td>-43.190.353</td>\n",
       "      <td>NaN</td>\n",
       "    </tr>\n",
       "    <tr>\n",
       "      <th>3</th>\n",
       "      <td>'000004'</td>\n",
       "      <td>Av. 20 de Janeiro X Terminal 1 - Brt</td>\n",
       "      <td>-22.809.417</td>\n",
       "      <td>-4.325.154.399</td>\n",
       "      <td>NaN</td>\n",
       "    </tr>\n",
       "    <tr>\n",
       "      <th>4</th>\n",
       "      <td>'000005'</td>\n",
       "      <td>Av. Rio Branco X Av. Beira Mar</td>\n",
       "      <td>-22.913.741</td>\n",
       "      <td>-43.174.155</td>\n",
       "      <td>NaN</td>\n",
       "    </tr>\n",
       "  </tbody>\n",
       "</table>\n",
       "</div>"
      ],
      "text/plain": [
       "     Codigo                        Nome da Camera     Latitude  \\\n",
       "0  '000001'         Av. Pres.Vargas X R. 1º Março  -22.900.259   \n",
       "1  '000002'      Av. Pres.Vargas X Av. Rio Branco  -22.901.392   \n",
       "2  '000003'   Av. Pres.Vargas X Pça. da República  -22.904.902   \n",
       "3  '000004'  Av. 20 de Janeiro X Terminal 1 - Brt  -22.809.417   \n",
       "4  '000005'        Av. Rio Branco X Av. Beira Mar  -22.913.741   \n",
       "\n",
       "        Longitude  Unnamed: 4  \n",
       "0     -43.177.031         NaN  \n",
       "1     -43.179.391         NaN  \n",
       "2     -43.190.353         NaN  \n",
       "3  -4.325.154.399         NaN  \n",
       "4     -43.174.155         NaN  "
      ]
     },
     "execution_count": 3,
     "metadata": {},
     "output_type": "execute_result"
    }
   ],
   "source": [
    "path_cameras = 'Dados/Cameras/Cameras_Smartluz - LAT-LONG.csv'\n",
    "cameras = pd.read_csv(path_cameras, sep=';', encoding='cp1252', decimal='.')\n",
    "\n",
    "coord_cols = ['Latitude', 'Longitude']\n",
    "cameras.head()"
   ]
  },
  {
   "cell_type": "markdown",
   "metadata": {},
   "source": [
    "### Data Cleaning"
   ]
  },
  {
   "cell_type": "code",
   "execution_count": 4,
   "metadata": {},
   "outputs": [
    {
     "data": {
      "text/html": [
       "<div>\n",
       "<style scoped>\n",
       "    .dataframe tbody tr th:only-of-type {\n",
       "        vertical-align: middle;\n",
       "    }\n",
       "\n",
       "    .dataframe tbody tr th {\n",
       "        vertical-align: top;\n",
       "    }\n",
       "\n",
       "    .dataframe thead th {\n",
       "        text-align: right;\n",
       "    }\n",
       "</style>\n",
       "<table border=\"1\" class=\"dataframe\">\n",
       "  <thead>\n",
       "    <tr style=\"text-align: right;\">\n",
       "      <th></th>\n",
       "      <th>Codigo</th>\n",
       "      <th>Nome da Camera</th>\n",
       "      <th>Latitude</th>\n",
       "      <th>Longitude</th>\n",
       "    </tr>\n",
       "  </thead>\n",
       "  <tbody>\n",
       "    <tr>\n",
       "      <th>0</th>\n",
       "      <td>000001</td>\n",
       "      <td>Av. Pres.Vargas X R. 1º Março</td>\n",
       "      <td>-22.900.259</td>\n",
       "      <td>-43.177.031</td>\n",
       "    </tr>\n",
       "    <tr>\n",
       "      <th>1</th>\n",
       "      <td>000002</td>\n",
       "      <td>Av. Pres.Vargas X Av. Rio Branco</td>\n",
       "      <td>-22.901.392</td>\n",
       "      <td>-43.179.391</td>\n",
       "    </tr>\n",
       "    <tr>\n",
       "      <th>2</th>\n",
       "      <td>000003</td>\n",
       "      <td>Av. Pres.Vargas X Pça. da República</td>\n",
       "      <td>-22.904.902</td>\n",
       "      <td>-43.190.353</td>\n",
       "    </tr>\n",
       "    <tr>\n",
       "      <th>3</th>\n",
       "      <td>000004</td>\n",
       "      <td>Av. 20 de Janeiro X Terminal 1 - Brt</td>\n",
       "      <td>-22.809.417</td>\n",
       "      <td>-4.325.154.399</td>\n",
       "    </tr>\n",
       "    <tr>\n",
       "      <th>4</th>\n",
       "      <td>000005</td>\n",
       "      <td>Av. Rio Branco X Av. Beira Mar</td>\n",
       "      <td>-22.913.741</td>\n",
       "      <td>-43.174.155</td>\n",
       "    </tr>\n",
       "  </tbody>\n",
       "</table>\n",
       "</div>"
      ],
      "text/plain": [
       "   Codigo                        Nome da Camera     Latitude       Longitude\n",
       "0  000001         Av. Pres.Vargas X R. 1º Março  -22.900.259     -43.177.031\n",
       "1  000002      Av. Pres.Vargas X Av. Rio Branco  -22.901.392     -43.179.391\n",
       "2  000003   Av. Pres.Vargas X Pça. da República  -22.904.902     -43.190.353\n",
       "3  000004  Av. 20 de Janeiro X Terminal 1 - Brt  -22.809.417  -4.325.154.399\n",
       "4  000005        Av. Rio Branco X Av. Beira Mar  -22.913.741     -43.174.155"
      ]
     },
     "execution_count": 4,
     "metadata": {},
     "output_type": "execute_result"
    }
   ],
   "source": [
    "cameras.drop('Unnamed: 4', axis=1, inplace=True)             # Drop empty column\n",
    "cameras['Codigo'] = cameras['Codigo'].str.replace(\"'\", '')   # Remove single quotes from id column\n",
    "\n",
    "cameras.head()"
   ]
  },
  {
   "cell_type": "markdown",
   "metadata": {},
   "source": [
    "#### Remove additional dots in coordinates"
   ]
  },
  {
   "cell_type": "code",
   "execution_count": 5,
   "metadata": {},
   "outputs": [
    {
     "data": {
      "text/html": [
       "<div>\n",
       "<style scoped>\n",
       "    .dataframe tbody tr th:only-of-type {\n",
       "        vertical-align: middle;\n",
       "    }\n",
       "\n",
       "    .dataframe tbody tr th {\n",
       "        vertical-align: top;\n",
       "    }\n",
       "\n",
       "    .dataframe thead th {\n",
       "        text-align: right;\n",
       "    }\n",
       "</style>\n",
       "<table border=\"1\" class=\"dataframe\">\n",
       "  <thead>\n",
       "    <tr style=\"text-align: right;\">\n",
       "      <th></th>\n",
       "      <th>Latitude</th>\n",
       "      <th>Longitude</th>\n",
       "    </tr>\n",
       "  </thead>\n",
       "  <tbody>\n",
       "    <tr>\n",
       "      <th>0</th>\n",
       "      <td>-22.900259</td>\n",
       "      <td>-43.177031</td>\n",
       "    </tr>\n",
       "    <tr>\n",
       "      <th>1</th>\n",
       "      <td>-22.901392</td>\n",
       "      <td>-43.179391</td>\n",
       "    </tr>\n",
       "    <tr>\n",
       "      <th>2</th>\n",
       "      <td>-22.904902</td>\n",
       "      <td>-43.190353</td>\n",
       "    </tr>\n",
       "    <tr>\n",
       "      <th>3</th>\n",
       "      <td>-22.809417</td>\n",
       "      <td>-4.325154399</td>\n",
       "    </tr>\n",
       "    <tr>\n",
       "      <th>4</th>\n",
       "      <td>-22.913741</td>\n",
       "      <td>-43.174155</td>\n",
       "    </tr>\n",
       "  </tbody>\n",
       "</table>\n",
       "</div>"
      ],
      "text/plain": [
       "     Latitude     Longitude\n",
       "0  -22.900259    -43.177031\n",
       "1  -22.901392    -43.179391\n",
       "2  -22.904902    -43.190353\n",
       "3  -22.809417  -4.325154399\n",
       "4  -22.913741    -43.174155"
      ]
     },
     "execution_count": 5,
     "metadata": {},
     "output_type": "execute_result"
    }
   ],
   "source": [
    "def keep_first_dot(string):\n",
    "    blocks = string.split('.')\n",
    "    return blocks[0] + (('.' + ''.join(blocks[1:])) if len(blocks) > 1 else '')\n",
    "\n",
    "for col in coord_cols:\n",
    "    cameras[col] = cameras[col].astype(str).apply(keep_first_dot)\n",
    "\n",
    "cameras[coord_cols].head()"
   ]
  },
  {
   "cell_type": "markdown",
   "metadata": {},
   "source": [
    "#### Convert coordinates to float"
   ]
  },
  {
   "cell_type": "code",
   "execution_count": 6,
   "metadata": {},
   "outputs": [],
   "source": [
    "cameras[coord_cols] = cameras[coord_cols].astype(float)"
   ]
  },
  {
   "cell_type": "markdown",
   "metadata": {},
   "source": [
    "#### Correct decimal magnitude of coordinates"
   ]
  },
  {
   "cell_type": "code",
   "execution_count": 7,
   "metadata": {},
   "outputs": [
    {
     "data": {
      "text/html": [
       "<div>\n",
       "<style scoped>\n",
       "    .dataframe tbody tr th:only-of-type {\n",
       "        vertical-align: middle;\n",
       "    }\n",
       "\n",
       "    .dataframe tbody tr th {\n",
       "        vertical-align: top;\n",
       "    }\n",
       "\n",
       "    .dataframe thead th {\n",
       "        text-align: right;\n",
       "    }\n",
       "</style>\n",
       "<table border=\"1\" class=\"dataframe\">\n",
       "  <thead>\n",
       "    <tr style=\"text-align: right;\">\n",
       "      <th></th>\n",
       "      <th>Latitude</th>\n",
       "      <th>Longitude</th>\n",
       "    </tr>\n",
       "  </thead>\n",
       "  <tbody>\n",
       "    <tr>\n",
       "      <th>0</th>\n",
       "      <td>-22.900259</td>\n",
       "      <td>-43.177031</td>\n",
       "    </tr>\n",
       "    <tr>\n",
       "      <th>1</th>\n",
       "      <td>-22.901392</td>\n",
       "      <td>-43.179391</td>\n",
       "    </tr>\n",
       "    <tr>\n",
       "      <th>2</th>\n",
       "      <td>-22.904902</td>\n",
       "      <td>-43.190353</td>\n",
       "    </tr>\n",
       "    <tr>\n",
       "      <th>3</th>\n",
       "      <td>-22.809417</td>\n",
       "      <td>-43.251544</td>\n",
       "    </tr>\n",
       "    <tr>\n",
       "      <th>4</th>\n",
       "      <td>-22.913741</td>\n",
       "      <td>-43.174155</td>\n",
       "    </tr>\n",
       "  </tbody>\n",
       "</table>\n",
       "</div>"
      ],
      "text/plain": [
       "    Latitude  Longitude\n",
       "0 -22.900259 -43.177031\n",
       "1 -22.901392 -43.179391\n",
       "2 -22.904902 -43.190353\n",
       "3 -22.809417 -43.251544\n",
       "4 -22.913741 -43.174155"
      ]
     },
     "execution_count": 7,
     "metadata": {},
     "output_type": "execute_result"
    }
   ],
   "source": [
    "correct_magnitude = 1\n",
    "\n",
    "# Correct order of magnitude of coordinates\n",
    "for col in coord_cols:\n",
    "    cameras[col] = correctMagnitude(cameras[col], mag=correct_magnitude)\n",
    "\n",
    "cameras[coord_cols].head()"
   ]
  },
  {
   "cell_type": "markdown",
   "metadata": {},
   "source": [
    "#### Drop rows with missing values"
   ]
  },
  {
   "cell_type": "code",
   "execution_count": 8,
   "metadata": {},
   "outputs": [
    {
     "name": "stdout",
     "output_type": "stream",
     "text": [
      "Rows with missing values: 14\n"
     ]
    }
   ],
   "source": [
    "print('Rows with missing values:', (cameras.isna().sum(1) != 0).sum())\n",
    "cameras.dropna(inplace=True)"
   ]
  },
  {
   "cell_type": "markdown",
   "metadata": {},
   "source": [
    "---\n",
    "## Get polygon id for each camera"
   ]
  },
  {
   "cell_type": "code",
   "execution_count": 9,
   "metadata": {},
   "outputs": [],
   "source": [
    "import json\n",
    "from matplotlib.path import Path as mpl_path\n",
    "\n",
    "polygons_geojson_path = '../ACELERAÇÃO/Dados/Clusters/polygons_micro.geojson'\n",
    "\n",
    "# Load custers polygons geojson data\n",
    "polygons_geojson = json.loads(open(polygons_geojson_path, 'r').read())\n",
    "\n",
    "cameras['cluster_id'] = points_poly_ids = pointsPolygonIds(cameras.copy(), polygons_geojson, ['Longitude', 'Latitude'], point_key_col='Codigo', polygon_key_col='sublabel')"
   ]
  },
  {
   "cell_type": "markdown",
   "metadata": {},
   "source": [
    "---\n",
    "## Save clean dataset"
   ]
  },
  {
   "cell_type": "markdown",
   "metadata": {},
   "source": [
    "#### As csv"
   ]
  },
  {
   "cell_type": "code",
   "execution_count": 11,
   "metadata": {},
   "outputs": [],
   "source": [
    "cameras.to_csv('Dados/Cameras/cameras.csv', index=False)"
   ]
  },
  {
   "cell_type": "markdown",
   "metadata": {},
   "source": [
    "#### As geojson"
   ]
  },
  {
   "cell_type": "code",
   "execution_count": 43,
   "metadata": {},
   "outputs": [
    {
     "name": "stdout",
     "output_type": "stream",
     "text": [
      "Done!\n"
     ]
    }
   ],
   "source": [
    "save_json(points_geojson(cameras, ['Longitude', 'Latitude']), 'Dados/Cameras/cameras.geojson')"
   ]
  },
  {
   "cell_type": "markdown",
   "metadata": {},
   "source": [
    "### Reload clean dataset"
   ]
  },
  {
   "cell_type": "code",
   "execution_count": 13,
   "metadata": {},
   "outputs": [
    {
     "data": {
      "text/html": [
       "<div>\n",
       "<style scoped>\n",
       "    .dataframe tbody tr th:only-of-type {\n",
       "        vertical-align: middle;\n",
       "    }\n",
       "\n",
       "    .dataframe tbody tr th {\n",
       "        vertical-align: top;\n",
       "    }\n",
       "\n",
       "    .dataframe thead th {\n",
       "        text-align: right;\n",
       "    }\n",
       "</style>\n",
       "<table border=\"1\" class=\"dataframe\">\n",
       "  <thead>\n",
       "    <tr style=\"text-align: right;\">\n",
       "      <th></th>\n",
       "      <th>Codigo</th>\n",
       "      <th>Nome da Camera</th>\n",
       "      <th>Latitude</th>\n",
       "      <th>Longitude</th>\n",
       "      <th>cluster_id</th>\n",
       "    </tr>\n",
       "  </thead>\n",
       "  <tbody>\n",
       "    <tr>\n",
       "      <th>0</th>\n",
       "      <td>1</td>\n",
       "      <td>Av. Pres.Vargas X R. 1º Março</td>\n",
       "      <td>-22.900259</td>\n",
       "      <td>-43.177031</td>\n",
       "      <td>-1.0</td>\n",
       "    </tr>\n",
       "    <tr>\n",
       "      <th>1</th>\n",
       "      <td>2</td>\n",
       "      <td>Av. Pres.Vargas X Av. Rio Branco</td>\n",
       "      <td>-22.901392</td>\n",
       "      <td>-43.179391</td>\n",
       "      <td>-1.0</td>\n",
       "    </tr>\n",
       "    <tr>\n",
       "      <th>2</th>\n",
       "      <td>3</td>\n",
       "      <td>Av. Pres.Vargas X Pça. da República</td>\n",
       "      <td>-22.904902</td>\n",
       "      <td>-43.190353</td>\n",
       "      <td>-1.0</td>\n",
       "    </tr>\n",
       "    <tr>\n",
       "      <th>3</th>\n",
       "      <td>4</td>\n",
       "      <td>Av. 20 de Janeiro X Terminal 1 - Brt</td>\n",
       "      <td>-22.809417</td>\n",
       "      <td>-43.251544</td>\n",
       "      <td>-1.0</td>\n",
       "    </tr>\n",
       "    <tr>\n",
       "      <th>4</th>\n",
       "      <td>5</td>\n",
       "      <td>Av. Rio Branco X Av. Beira Mar</td>\n",
       "      <td>-22.913741</td>\n",
       "      <td>-43.174155</td>\n",
       "      <td>-1.0</td>\n",
       "    </tr>\n",
       "  </tbody>\n",
       "</table>\n",
       "</div>"
      ],
      "text/plain": [
       "   Codigo                        Nome da Camera   Latitude  Longitude  \\\n",
       "0       1         Av. Pres.Vargas X R. 1º Março -22.900259 -43.177031   \n",
       "1       2      Av. Pres.Vargas X Av. Rio Branco -22.901392 -43.179391   \n",
       "2       3   Av. Pres.Vargas X Pça. da República -22.904902 -43.190353   \n",
       "3       4  Av. 20 de Janeiro X Terminal 1 - Brt -22.809417 -43.251544   \n",
       "4       5        Av. Rio Branco X Av. Beira Mar -22.913741 -43.174155   \n",
       "\n",
       "   cluster_id  \n",
       "0        -1.0  \n",
       "1        -1.0  \n",
       "2        -1.0  \n",
       "3        -1.0  \n",
       "4        -1.0  "
      ]
     },
     "execution_count": 13,
     "metadata": {},
     "output_type": "execute_result"
    }
   ],
   "source": [
    "cameras = pd.read_csv('Dados/Cameras/cameras.csv')\n",
    "\n",
    "cameras.head()"
   ]
  },
  {
   "cell_type": "code",
   "execution_count": 44,
   "metadata": {},
   "outputs": [
    {
     "data": {
      "text/html": [
       "<div>\n",
       "<style scoped>\n",
       "    .dataframe tbody tr th:only-of-type {\n",
       "        vertical-align: middle;\n",
       "    }\n",
       "\n",
       "    .dataframe tbody tr th {\n",
       "        vertical-align: top;\n",
       "    }\n",
       "\n",
       "    .dataframe thead th {\n",
       "        text-align: right;\n",
       "    }\n",
       "</style>\n",
       "<table border=\"1\" class=\"dataframe\">\n",
       "  <thead>\n",
       "    <tr style=\"text-align: right;\">\n",
       "      <th></th>\n",
       "      <th>Codigo</th>\n",
       "      <th>Nome da Camera</th>\n",
       "      <th>Latitude</th>\n",
       "      <th>Longitude</th>\n",
       "      <th>cluster_id</th>\n",
       "    </tr>\n",
       "  </thead>\n",
       "  <tbody>\n",
       "    <tr>\n",
       "      <th>0</th>\n",
       "      <td>1</td>\n",
       "      <td>Av. Pres.Vargas X R. 1º Março</td>\n",
       "      <td>-22.900259</td>\n",
       "      <td>-43.177031</td>\n",
       "      <td>-1.0</td>\n",
       "    </tr>\n",
       "    <tr>\n",
       "      <th>1</th>\n",
       "      <td>2</td>\n",
       "      <td>Av. Pres.Vargas X Av. Rio Branco</td>\n",
       "      <td>-22.901392</td>\n",
       "      <td>-43.179391</td>\n",
       "      <td>-1.0</td>\n",
       "    </tr>\n",
       "    <tr>\n",
       "      <th>2</th>\n",
       "      <td>3</td>\n",
       "      <td>Av. Pres.Vargas X Pça. da República</td>\n",
       "      <td>-22.904902</td>\n",
       "      <td>-43.190353</td>\n",
       "      <td>-1.0</td>\n",
       "    </tr>\n",
       "    <tr>\n",
       "      <th>3</th>\n",
       "      <td>4</td>\n",
       "      <td>Av. 20 de Janeiro X Terminal 1 - Brt</td>\n",
       "      <td>-22.809417</td>\n",
       "      <td>-43.251544</td>\n",
       "      <td>-1.0</td>\n",
       "    </tr>\n",
       "    <tr>\n",
       "      <th>4</th>\n",
       "      <td>5</td>\n",
       "      <td>Av. Rio Branco X Av. Beira Mar</td>\n",
       "      <td>-22.913741</td>\n",
       "      <td>-43.174155</td>\n",
       "      <td>-1.0</td>\n",
       "    </tr>\n",
       "    <tr>\n",
       "      <th>5</th>\n",
       "      <td>6</td>\n",
       "      <td>Av. Rio Branco X Av. Alm. Barroso</td>\n",
       "      <td>-22.908029</td>\n",
       "      <td>-43.176985</td>\n",
       "      <td>-1.0</td>\n",
       "    </tr>\n",
       "    <tr>\n",
       "      <th>6</th>\n",
       "      <td>7</td>\n",
       "      <td>Av. 20 de Janeiro X Base da Guarda Municipal -...</td>\n",
       "      <td>-22.815593</td>\n",
       "      <td>-43.242096</td>\n",
       "      <td>-1.0</td>\n",
       "    </tr>\n",
       "    <tr>\n",
       "      <th>7</th>\n",
       "      <td>8</td>\n",
       "      <td>R. Visconde Do Rio Branco X R. Dos Inválidos -...</td>\n",
       "      <td>-22.908246</td>\n",
       "      <td>-43.186069</td>\n",
       "      <td>-1.0</td>\n",
       "    </tr>\n",
       "    <tr>\n",
       "      <th>8</th>\n",
       "      <td>9</td>\n",
       "      <td>Av. Presidente Antonio Carlos X Av. Almirante ...</td>\n",
       "      <td>-22.906766</td>\n",
       "      <td>-43.172901</td>\n",
       "      <td>-1.0</td>\n",
       "    </tr>\n",
       "    <tr>\n",
       "      <th>9</th>\n",
       "      <td>10</td>\n",
       "      <td>R. Santana X R. Frei Caneca - FIXA</td>\n",
       "      <td>-22.911155</td>\n",
       "      <td>-43.193351</td>\n",
       "      <td>-1.0</td>\n",
       "    </tr>\n",
       "  </tbody>\n",
       "</table>\n",
       "</div>"
      ],
      "text/plain": [
       "   Codigo                                     Nome da Camera   Latitude  \\\n",
       "0       1                      Av. Pres.Vargas X R. 1º Março -22.900259   \n",
       "1       2                   Av. Pres.Vargas X Av. Rio Branco -22.901392   \n",
       "2       3                Av. Pres.Vargas X Pça. da República -22.904902   \n",
       "3       4               Av. 20 de Janeiro X Terminal 1 - Brt -22.809417   \n",
       "4       5                     Av. Rio Branco X Av. Beira Mar -22.913741   \n",
       "5       6                  Av. Rio Branco X Av. Alm. Barroso -22.908029   \n",
       "6       7  Av. 20 de Janeiro X Base da Guarda Municipal -... -22.815593   \n",
       "7       8  R. Visconde Do Rio Branco X R. Dos Inválidos -... -22.908246   \n",
       "8       9  Av. Presidente Antonio Carlos X Av. Almirante ... -22.906766   \n",
       "9      10                 R. Santana X R. Frei Caneca - FIXA -22.911155   \n",
       "\n",
       "   Longitude  cluster_id  \n",
       "0 -43.177031        -1.0  \n",
       "1 -43.179391        -1.0  \n",
       "2 -43.190353        -1.0  \n",
       "3 -43.251544        -1.0  \n",
       "4 -43.174155        -1.0  \n",
       "5 -43.176985        -1.0  \n",
       "6 -43.242096        -1.0  \n",
       "7 -43.186069        -1.0  \n",
       "8 -43.172901        -1.0  \n",
       "9 -43.193351        -1.0  "
      ]
     },
     "execution_count": 44,
     "metadata": {},
     "output_type": "execute_result"
    }
   ],
   "source": [
    "# cameras = pd.read_csv('Dados/Cameras/cameras.csv')\n",
    "\n",
    "cameras.head(10)"
   ]
  },
  {
   "cell_type": "markdown",
   "metadata": {},
   "source": [
    "---\n",
    "## Exploratory Data Analysis"
   ]
  },
  {
   "cell_type": "code",
   "execution_count": 39,
   "metadata": {},
   "outputs": [
    {
     "name": "stdout",
     "output_type": "stream",
     "text": [
      "Polygons with cameras: 40\n"
     ]
    }
   ],
   "source": [
    "n_cams_inside = len(cameras['cluster_id'].unique()) - 1\n",
    "\n",
    "print('Polygons with cameras:', n_cams_inside)"
   ]
  },
  {
   "cell_type": "markdown",
   "metadata": {},
   "source": [
    "#### Cameras inside polygons"
   ]
  },
  {
   "cell_type": "code",
   "execution_count": 40,
   "metadata": {},
   "outputs": [
    {
     "name": "stdout",
     "output_type": "stream",
     "text": [
      "Cameras inside polygons: 107 (3.77)%\n"
     ]
    }
   ],
   "source": [
    "_sum, mean = (cameras['cluster_id'] != -1).agg([np.sum, np.mean])\n",
    "\n",
    "print('Cameras inside polygons:', int(_sum), f'({round(mean*100, 2)})%')"
   ]
  },
  {
   "cell_type": "markdown",
   "metadata": {},
   "source": [
    "#### Number of critical regions per number of cameras"
   ]
  },
  {
   "cell_type": "code",
   "execution_count": 14,
   "metadata": {},
   "outputs": [
    {
     "data": {
      "image/png": "[encoded data removed]",
      "text/plain": [
       "<Figure size 432x288 with 1 Axes>"
      ]
     },
     "metadata": {},
     "output_type": "display_data"
    }
   ],
   "source": [
    "ax = cameras['cluster_id'].value_counts().drop(-1).value_counts().sort_index().plot.bar(color='orange')\n",
    "ax.set(xlabel='Número de câmeras', ylabel='Número de regiões críticas', title='Regiões críticas por número de cameras presentes.')\n",
    "plt.show()"
   ]
  },
  {
   "cell_type": "markdown",
   "metadata": {},
   "source": [
    "### Cameras inside polygons dataset"
   ]
  },
  {
   "cell_type": "code",
   "execution_count": 49,
   "metadata": {},
   "outputs": [
    {
     "data": {
      "text/html": [
       "<div>\n",
       "<style scoped>\n",
       "    .dataframe tbody tr th:only-of-type {\n",
       "        vertical-align: middle;\n",
       "    }\n",
       "\n",
       "    .dataframe tbody tr th {\n",
       "        vertical-align: top;\n",
       "    }\n",
       "\n",
       "    .dataframe thead th {\n",
       "        text-align: right;\n",
       "    }\n",
       "</style>\n",
       "<table border=\"1\" class=\"dataframe\">\n",
       "  <thead>\n",
       "    <tr style=\"text-align: right;\">\n",
       "      <th></th>\n",
       "      <th>Codigo</th>\n",
       "      <th>Nome da Camera</th>\n",
       "      <th>Latitude</th>\n",
       "      <th>Longitude</th>\n",
       "      <th>cluster_id</th>\n",
       "    </tr>\n",
       "  </thead>\n",
       "  <tbody>\n",
       "    <tr>\n",
       "      <th>31</th>\n",
       "      <td>32</td>\n",
       "      <td>Av. Epitácio Pessoa X R. Maria Quitéria</td>\n",
       "      <td>-22.980723</td>\n",
       "      <td>-43.207148</td>\n",
       "      <td>60.0</td>\n",
       "    </tr>\n",
       "    <tr>\n",
       "      <th>39</th>\n",
       "      <td>40</td>\n",
       "      <td>Praça Tiradentes</td>\n",
       "      <td>-22.906984</td>\n",
       "      <td>-43.182051</td>\n",
       "      <td>43.0</td>\n",
       "    </tr>\n",
       "    <tr>\n",
       "      <th>43</th>\n",
       "      <td>44</td>\n",
       "      <td>R. Jardim Botânico X R. Pacheco Leão</td>\n",
       "      <td>-22.966390</td>\n",
       "      <td>-43.219492</td>\n",
       "      <td>30.0</td>\n",
       "    </tr>\n",
       "    <tr>\n",
       "      <th>73</th>\n",
       "      <td>74</td>\n",
       "      <td>Boulevard 28 de Setembro X R. Felipe Camarão</td>\n",
       "      <td>-22.913827</td>\n",
       "      <td>-43.235707</td>\n",
       "      <td>32.0</td>\n",
       "    </tr>\n",
       "    <tr>\n",
       "      <th>76</th>\n",
       "      <td>77</td>\n",
       "      <td>R. Teodoro da Silva X R. Barão de São Francisco</td>\n",
       "      <td>-22.918600</td>\n",
       "      <td>-43.251042</td>\n",
       "      <td>72.0</td>\n",
       "    </tr>\n",
       "  </tbody>\n",
       "</table>\n",
       "</div>"
      ],
      "text/plain": [
       "    Codigo                                   Nome da Camera   Latitude  \\\n",
       "31      32          Av. Epitácio Pessoa X R. Maria Quitéria -22.980723   \n",
       "39      40                                 Praça Tiradentes -22.906984   \n",
       "43      44             R. Jardim Botânico X R. Pacheco Leão -22.966390   \n",
       "73      74     Boulevard 28 de Setembro X R. Felipe Camarão -22.913827   \n",
       "76      77  R. Teodoro da Silva X R. Barão de São Francisco -22.918600   \n",
       "\n",
       "    Longitude  cluster_id  \n",
       "31 -43.207148        60.0  \n",
       "39 -43.182051        43.0  \n",
       "43 -43.219492        30.0  \n",
       "73 -43.235707        32.0  \n",
       "76 -43.251042        72.0  "
      ]
     },
     "execution_count": 49,
     "metadata": {},
     "output_type": "execute_result"
    }
   ],
   "source": [
    "insiders = cameras[cameras['cluster_id'] != -1]\n",
    "\n",
    "insiders.head()"
   ]
  },
  {
   "cell_type": "code",
   "execution_count": 50,
   "metadata": {},
   "outputs": [],
   "source": [
    "insiders.to_csv('Dados/Cameras/cameras_bolsões.csv', index=False)"
   ]
  }
 ],
 "metadata": {
  "kernelspec": {
   "display_name": "Python 3",
   "language": "python",
   "name": "python3"
  },
  "language_info": {
   "codemirror_mode": {
    "name": "ipython",
    "version": 3
   },
   "file_extension": ".py",
   "mimetype": "text/x-python",
   "name": "python",
   "nbconvert_exporter": "python",
   "pygments_lexer": "ipython3",
   "version": "3.8.3"
  }
 },
 "nbformat": 4,
 "nbformat_minor": 4
}
