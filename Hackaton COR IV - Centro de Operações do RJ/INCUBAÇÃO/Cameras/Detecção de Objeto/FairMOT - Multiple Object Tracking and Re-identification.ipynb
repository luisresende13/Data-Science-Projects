{
 "cells": [
  {
   "cell_type": "code",
   "execution_count": 1,
   "id": "add4036d-582d-4134-82d6-6414e4b9f41a",
   "metadata": {},
   "outputs": [
    {
     "name": "stdout",
     "output_type": "stream",
     "text": [
      "C:\\Users\\luisr\\Desktop\\Repositories\\clones\n"
     ]
    }
   ],
   "source": [
    "cd ../../../../../clones"
   ]
  },
  {
   "cell_type": "code",
   "execution_count": null,
   "id": "67807d1f-1d19-411f-8187-abaf84142659",
   "metadata": {},
   "outputs": [],
   "source": [
    "!git clone https://github.com/microsoft/FairMOT"
   ]
  },
  {
   "cell_type": "code",
   "execution_count": null,
   "id": "63881d3e-8bff-4222-aa1b-37fd158a538a",
   "metadata": {},
   "outputs": [],
   "source": [
    "!conda create -n FairMOT"
   ]
  },
  {
   "cell_type": "code",
   "execution_count": null,
   "id": "805fced6-98f8-4a79-aaec-ef7e0f3f1b76",
   "metadata": {},
   "outputs": [],
   "source": [
    "conda activate FairMOT"
   ]
  },
  {
   "cell_type": "code",
   "execution_count": null,
   "id": "da7088a3-35d0-4e28-8185-7fd0a9cce2e6",
   "metadata": {},
   "outputs": [],
   "source": [
    "conda install pytorch==1.7.0 torchvision==0.8.0 cudatoolkit=10.2 -c pytorch"
   ]
  },
  {
   "cell_type": "code",
   "execution_count": 5,
   "id": "e5fd5b0d-75b1-4901-96f4-b8086b434201",
   "metadata": {},
   "outputs": [
    {
     "name": "stdout",
     "output_type": "stream",
     "text": [
      "[WinError 2] O sistema não pode encontrar o arquivo especificado: '${FAIRMOT_ROOT}'\n",
      "C:\\Users\\luisr\\Desktop\\Repositories\\clones\n"
     ]
    }
   ],
   "source": [
    "cd ${FAIRMOT_ROOT}"
   ]
  },
  {
   "cell_type": "code",
   "execution_count": null,
   "id": "cfe0b952-d304-4d10-b29f-0f08a8beb9ac",
   "metadata": {},
   "outputs": [
    {
     "name": "stdout",
     "output_type": "stream",
     "text": [
      "C:\\Users\\luisr\\Desktop\\Repositories\\clones\\FairMOT\n"
     ]
    }
   ],
   "source": [
    "cd FairMOT"
   ]
  },
  {
   "cell_type": "code",
   "execution_count": null,
   "id": "f11c0bc6-aece-45e6-baac-68793385ae37",
   "metadata": {},
   "outputs": [],
   "source": [
    "pip install cython"
   ]
  },
  {
   "cell_type": "code",
   "execution_count": null,
   "id": "46d13ec6-8463-4217-873b-b20e898c69a3",
   "metadata": {},
   "outputs": [],
   "source": [
    "pip install -r requirements.txt"
   ]
  },
  {
   "cell_type": "code",
   "execution_count": 21,
   "id": "576a0346-cbd7-4463-9f4e-1253e315bf15",
   "metadata": {},
   "outputs": [
    {
     "name": "stdout",
     "output_type": "stream",
     "text": [
      "C:\\Users\\luisr\\Desktop\\Repositories\\clones\\FairMOT\\src\n"
     ]
    }
   ],
   "source": [
    "cd src"
   ]
  },
  {
   "cell_type": "code",
   "execution_count": 24,
   "id": "6b17aad5-aec2-493d-ae5b-fe65342ca070",
   "metadata": {},
   "outputs": [
    {
     "name": "stderr",
     "output_type": "stream",
     "text": [
      "Traceback (most recent call last):\n",
      "  File \"C:\\Users\\luisr\\Desktop\\Repositories\\clones\\FairMOT\\src\\demo.py\", line 18, in <module>\n",
      "    import datasets.dataset.jde as datasets\n",
      "  File \"C:\\Users\\luisr\\Desktop\\Repositories\\clones\\FairMOT\\src\\lib\\datasets\\dataset\\jde.py\", line 16, in <module>\n",
      "    from cython_bbox import bbox_overlaps as bbox_ious\n",
      "ModuleNotFoundError: No module named 'cython_bbox'\n"
     ]
    }
   ],
   "source": [
    "!python demo.py mot --input-video \"sample.mp4\" --output-root \"sample-t.mp4\" --load_model \"../models/hrnetv2_w18_imagenet_pretrained (1).pth\" --conf_thres 0.4"
   ]
  },
  {
   "cell_type": "code",
   "execution_count": 18,
   "id": "e4dbdb9c-6441-4758-a824-88601384dcde",
   "metadata": {},
   "outputs": [
    {
     "data": {
      "text/plain": [
       "['.git',\n",
       " '.gitignore',\n",
       " '.ipynb_checkpoints',\n",
       " 'assets',\n",
       " 'build',\n",
       " 'CODE_OF_CONDUCT.md',\n",
       " 'experiments',\n",
       " 'LICENSE',\n",
       " 'models',\n",
       " 'README.md',\n",
       " 'requirements.txt',\n",
       " 'SECURITY.md',\n",
       " 'src',\n",
       " 'videos']"
      ]
     },
     "execution_count": 18,
     "metadata": {},
     "output_type": "execute_result"
    }
   ],
   "source": [
    "os.listdir('.')"
   ]
  },
  {
   "cell_type": "code",
   "execution_count": null,
   "id": "3cfa7a13-4689-4913-bcde-f87d2d6b8f95",
   "metadata": {},
   "outputs": [],
   "source": []
  }
 ],
 "metadata": {
  "kernelspec": {
   "display_name": "Python 3 (ipykernel)",
   "language": "python",
   "name": "python3"
  },
  "language_info": {
   "codemirror_mode": {
    "name": "ipython",
    "version": 3
   },
   "file_extension": ".py",
   "mimetype": "text/x-python",
   "name": "python",
   "nbconvert_exporter": "python",
   "pygments_lexer": "ipython3",
   "version": "3.10.9"
  }
 },
 "nbformat": 4,
 "nbformat_minor": 5
}
