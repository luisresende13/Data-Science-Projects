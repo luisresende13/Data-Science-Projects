{
 "cells": [
  {
   "cell_type": "markdown",
   "id": "1efd68fe-a0d7-4ff9-857b-cc48403bdd67",
   "metadata": {},
   "source": [
    "# Gun Detection using Cascade Classifier"
   ]
  },
  {
   "cell_type": "code",
   "execution_count": null,
   "id": "9d78ff45-e348-490d-9908-6589b6e4e8d2",
   "metadata": {},
   "outputs": [],
   "source": [
    "# !pip install imutils\n",
    "\n",
    "import cv2\n",
    "import imutils\n",
    "import datetime\n",
    "import matplotlib.pyplot as plt\n",
    "    \n",
    "gun_cascade = cv2.CascadeClassifier('../models/Arma/cascade.xml')\n",
    "camera = cv2.VideoCapture(0)\n",
    "firstFrame = None\n",
    "gun_exist = False\n",
    "while True:\n",
    "    ret, frame = camera.read()\n",
    "    if frame is None:\n",
    "        print('Stream finished')\n",
    "        break\n",
    "    frame = imutils.resize(frame, width=500)\n",
    "    gray = cv2.cvtColor(frame, cv2.COLOR_BGR2GRAY)\n",
    "    gun = gun_cascade.detectMultiScale(gray, 1.5, 20, minSize=(100, 100))\n",
    "    if len(gun) > 0:\n",
    "        gun_exist = True\n",
    "    for (x, y, w, h) in gun:\n",
    "        frame = cv2.rectangle(frame, (x, y), (x + w, y + h), (255, 0, 0), 2)\n",
    "        roi_gray = gray[y:y + h, x:x + w]\n",
    "        roi_color = frame[y:y + h, x:x + w]\n",
    "    if firstFrame is None:\n",
    "        firstFrame = gray\n",
    "        continue\n",
    "    cv2.putText(frame, datetime.datetime.now().strftime(\"%A %d %B %Y %I:%M:%S %p\"),\n",
    "                (10, frame.shape[0] - 10),\n",
    "                cv2.FONT_HERSHEY_SIMPLEX,\n",
    "                0.35, (0, 0, 255), 1)\n",
    "    if gun_exist:\n",
    "        print(\"Guns detected\")\n",
    "        cv2.imshow(\"Security Feed\", frame)\n",
    "        # plt.imshow(frame)\n",
    "        # break\n",
    "    else:\n",
    "        cv2.imshow(\"Security Feed\", frame)\n",
    "    key = cv2.waitKey(1) & 0xFF\n",
    "    if key == ord('q'):\n",
    "        break\n",
    "\n",
    "camera.release()\n",
    "cv2.destroyAllWindows()"
   ]
  }
 ],
 "metadata": {
  "kernelspec": {
   "display_name": "Python 3 (ipykernel)",
   "language": "python",
   "name": "python3"
  },
  "language_info": {
   "codemirror_mode": {
    "name": "ipython",
    "version": 3
   },
   "file_extension": ".py",
   "mimetype": "text/x-python",
   "name": "python",
   "nbconvert_exporter": "python",
   "pygments_lexer": "ipython3",
   "version": "3.10.9"
  }
 },
 "nbformat": 4,
 "nbformat_minor": 5
}
