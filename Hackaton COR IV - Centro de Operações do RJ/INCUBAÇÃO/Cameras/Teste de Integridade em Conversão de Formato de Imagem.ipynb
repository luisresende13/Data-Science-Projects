{
 "cells": [
  {
   "cell_type": "markdown",
   "metadata": {},
   "source": [
    "# Image format conversion integrity testing"
   ]
  },
  {
   "cell_type": "code",
   "execution_count": 1,
   "metadata": {},
   "outputs": [
    {
     "name": "stderr",
     "output_type": "stream",
     "text": [
      "C:\\Users\\luisr\\AppData\\Roaming\\Python\\Python38\\site-packages\\pandas\\core\\computation\\expressions.py:21: UserWarning: Pandas requires version '2.7.3' or newer of 'numexpr' (version '2.7.1' currently installed).\n",
      "  from pandas.core.computation.check import NUMEXPR_INSTALLED\n"
     ]
    }
   ],
   "source": [
    "from modules.recorder import recorder, write_video\n",
    "import numpy as np, pandas as pd, cv2\n",
    "import matplotlib.pyplot as plt"
   ]
  },
  {
   "cell_type": "markdown",
   "metadata": {},
   "source": [
    "### Functions to calculate pixel difference"
   ]
  },
  {
   "cell_type": "markdown",
   "metadata": {},
   "source": [
    "#### Pixel difference statistcs from two 3D image arrays"
   ]
  },
  {
   "cell_type": "code",
   "execution_count": 2,
   "metadata": {},
   "outputs": [],
   "source": [
    "def diff_stats(frame1, frame2):\n",
    "\n",
    "    isdiff = frame1 != frame2\n",
    "    diff1, diff2 = frame1[isdiff], frame2[isdiff]\n",
    "    diff_diff = np.abs(diff1.astype(int) - diff2.astype(int))\n",
    "\n",
    "    return {\n",
    "        'Altered pixels percentage': isdiff.mean(),\n",
    "        'Altered pixels diff. average': diff_diff.mean(),\n",
    "        'Altered pixels diff. standard deviation': diff_diff.std(),    \n",
    "    }"
   ]
  },
  {
   "cell_type": "markdown",
   "metadata": {},
   "source": [
    "#### Pixel difference statistcs from list of pairs of 3D image arrays"
   ]
  },
  {
   "cell_type": "code",
   "execution_count": null,
   "metadata": {},
   "outputs": [],
   "source": [
    "def frames_diff_stats(frames1, frames2):\n",
    "    df_diff = []\n",
    "    for i, (frame1, frame2) in enumerate(zip(frames1, frames2)):\n",
    "        df_diff.append(diff_stats(frame1, frame2))\n",
    "    return pd.DataFrame(df_diff)"
   ]
  },
  {
   "cell_type": "markdown",
   "metadata": {},
   "source": [
    "---\n",
    "## Conversion integrity testing"
   ]
  },
  {
   "cell_type": "markdown",
   "metadata": {},
   "source": [
    "#### array -> jpg -> array"
   ]
  },
  {
   "cell_type": "code",
   "execution_count": 8,
   "metadata": {},
   "outputs": [
    {
     "data": {
      "text/plain": [
       "Altered pixels percentage                  0.519092\n",
       "Altered pixels diff. average               1.803515\n",
       "Altered pixels diff. standard deviation    3.700593\n",
       "Name: Average, dtype: float64"
      ]
     },
     "metadata": {},
     "output_type": "display_data"
    }
   ],
   "source": [
    "folder = 'test'\n",
    "\n",
    "rec = recorder(folder, n_frames=100, skip_method='histogram', skip_max=25, saveas='video')\n",
    "\n",
    "frames = rec.capture('313') # get a few frames\n",
    "frames_arr = [f for _, f in frames]\n",
    "\n",
    "frames_jpg = []\n",
    "for i, (filename, frame_arr) in enumerate(frames):\n",
    "    filepath = f'{folder}/{filename}.jpg'\n",
    "    cv2.imwrite(filepath, frame_arr)\n",
    "    frame_jpg = cv2.imread(filepath)\n",
    "    frames_jpg.append(frame_jpg)\n",
    "    \n",
    "df_diff = frames_diff_stats(frames_arr, frames_jpg)\n",
    "display(df_diff.mean().rename('Average'))"
   ]
  },
  {
   "cell_type": "markdown",
   "metadata": {},
   "source": [
    "#### array -> mp4 -> array"
   ]
  },
  {
   "cell_type": "code",
   "execution_count": 11,
   "metadata": {},
   "outputs": [
    {
     "data": {
      "text/plain": [
       "Altered pixels percentage                  0.886486\n",
       "Altered pixels diff. average               3.077592\n",
       "Altered pixels diff. standard deviation    2.284948\n",
       "Name: Average, dtype: float64"
      ]
     },
     "metadata": {},
     "output_type": "display_data"
    }
   ],
   "source": [
    "rec = recorder(folder='test', n_frames=100,  skip_method='histogram', skip_max=25, saveas='video')\n",
    "\n",
    "folder = 'test'\n",
    "\n",
    "frames = rec.capture('313')\n",
    "frames_arr = [f[1] for f in frames]\n",
    "\n",
    "write_video(frames_arr, f'{folder}/313.mp4')\n",
    "\n",
    "rec.url = folder + '/{}.mp4'\n",
    "frames = rec.capture('313') # Capture video from file in path rec.url.format(code)\n",
    "frames_mp4 = [f[1] for f in frames]\n",
    "\n",
    "df_diff = []\n",
    "for i, (frame_arr, frame_mp4) in enumerate(zip(frames_arr, frames_mp4)):\n",
    "    df_diff.append(diff_stats(frame_arr, frame_mp4))\n",
    "    \n",
    "df_diff_mp4 = pd.DataFrame(df_diff)\n",
    "display(df_diff_mp4.mean().rename('Average'))"
   ]
  }
 ],
 "metadata": {
  "kernelspec": {
   "display_name": "Python 3",
   "language": "python",
   "name": "python3"
  },
  "language_info": {
   "codemirror_mode": {
    "name": "ipython",
    "version": 3
   },
   "file_extension": ".py",
   "mimetype": "text/x-python",
   "name": "python",
   "nbconvert_exporter": "python",
   "pygments_lexer": "ipython3",
   "version": "3.8.3"
  }
 },
 "nbformat": 4,
 "nbformat_minor": 4
}
