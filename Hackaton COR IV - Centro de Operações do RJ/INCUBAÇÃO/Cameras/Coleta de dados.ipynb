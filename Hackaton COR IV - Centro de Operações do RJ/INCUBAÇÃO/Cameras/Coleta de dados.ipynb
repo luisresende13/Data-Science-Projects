{
 "cells": [
  {
   "cell_type": "code",
   "execution_count": 23,
   "metadata": {},
   "outputs": [],
   "source": [
    "### Settings\n",
    "\n",
    "import requests, json, time, datetime, pytz, pandas as pd, cv2, multiprocessing \n",
    "from IPython.display import clear_output as co\n",
    "from google.cloud import storage\n",
    "from google.oauth2 import service_account\n",
    "from apscheduler.schedulers.background import BackgroundScheduler, BlockingScheduler\n",
    "\n",
    "# Google storage client and bucket\n",
    "credentials = service_account.Credentials.from_service_account_file('../../../../Apps/Python/bolsao-api/credentials/pluvia-360323-eae2907a9c98.json')\n",
    "gcs_client = storage.Client(credentials=credentials)\n",
    "bucket = gcs_client.get_bucket('city-camera-images')\n",
    "\n",
    "def create_folder(folder):\n",
    "    blob = bucket.blob(f'{folder}/')\n",
    "    blob.upload_from_string('', content_type='application/x-www-form-urlencoded;charset=UTF-8')\n",
    "\n",
    "cams_url = 'http://187.111.99.18:9004/?CODE={}'\n",
    "google_storage_url = '/datasets/city-camera-data-collection'  # 100GB -> R$20,00 / mês\n",
    "\n",
    "### Recorder class\n",
    "\n",
    "class recorder:\n",
    "\n",
    "    cams_url = 'http://187.111.99.18:9004/?CODE={}'\n",
    "    google_storage_url = '/datasets/city-camera-data-collection'  # 100GB -> R$20,00 / mês\n",
    "\n",
    "    def __init__(self, max_frames, workers=4):\n",
    "        self.max_frames = max_frames\n",
    "        self.workers = workers\n",
    "        self.timegroup = datetime.datetime.now(pytz.timezone('Brazil/East')).strftime('%Y-%m-%d %X')\n",
    "\n",
    "    def record(self, code, folder):\n",
    "        path = f'{folder}/{code}/{self.timegroup}'\n",
    "        create_folder(path)\n",
    "        cap = cv2.VideoCapture(self.cams_url.format(code))\n",
    "        i = -1; print(f'Start for cam {code}')\n",
    "        while(True):\n",
    "            i += 1\n",
    "            if i == self.max_frames: break\n",
    "            success, frame = cap.read()\n",
    "            while not success:\n",
    "                cap = cv2.VideoCapture(self.cams_url.format(code))\n",
    "                success, frame = cap.read()\n",
    "            timestamp = datetime.datetime.now(pytz.timezone('Brazil/East')).strftime('%Y-%m-%d %X')\n",
    "            filename = f'CODE{code}_{timestamp}'\n",
    "            cv2.imwrite(f'{self.google_storage_url}/{path}/{filename}.jpg', frame)\n",
    "\n",
    "            co(1); print(f'Camera {code} images saved: {i}.')\n",
    "\n",
    "    def record_in_parallel(self, codes, folder):\n",
    "        now = datetime.datetime.now(pytz.timezone('Brazil/East'))\n",
    "        self.timegroup = now.strftime('%Y-%m-%d %X')\n",
    "        workers = len(codes) if self.workers == 'auto' else self.workers\n",
    "        items = [(code, folder) for code in codes]\n",
    "        pool = multiprocessing.Pool(processes=workers)\n",
    "        pool.starmap(self.record, items)\n",
    "        return\n",
    "\n",
    "\n",
    "\n",
    "### Request data\n",
    "\n",
    "api_root = 'https://bolsao-api-j2fefywbia-rj.a.run.app'\n",
    "\n",
    "def endpoint_df(endpoint):\n",
    "    return pd.DataFrame(requests.get(f'{api_root}/{endpoint}').json())\n",
    "    \n",
    "polygons = endpoint_df('mongo/gbf/Polygons')\n",
    "polygons_alertario = endpoint_df('mongo/Polygons AlertaRio')\n",
    "cameras = endpoint_df('mongo/Cameras AlertaRio')\n",
    "\n",
    "poly_cams = cameras[cameras['cluster_id'] != -1] # cameras inside polygons\n",
    "\n",
    "poly_cams_codes = poly_cams['Codigo'].astype(str).tolist()"
   ]
  },
  {
   "cell_type": "markdown",
   "metadata": {},
   "source": [
    "### Schedule and record images"
   ]
  },
  {
   "cell_type": "code",
   "execution_count": null,
   "metadata": {},
   "outputs": [],
   "source": [
    "river_codes = ['3323', '1487', '3318']\n",
    "otavio = ['3104', '3127']\n",
    "\n",
    "folder = 'pics'\n",
    "codes =  otavio + river_codes + poly_cams_codes\n",
    "\n",
    "rec = recorder(max_frames=10, workers='auto')\n",
    "\n",
    "# ---\n",
    "# Scheduler object and jobs\n",
    "\n",
    "sched = BlockingScheduler()\n",
    "\n",
    "@sched.scheduled_job('cron', minute='*/5')\n",
    "def collect_cams_imgs():\n",
    "    rec.record_in_parallel(codes, folder)\n",
    "    co(1); print('Image group {rec.timegroup} finished.')\n",
    "    return\n",
    "\n",
    "sched.start()"
   ]
  },
  {
   "cell_type": "markdown",
   "metadata": {},
   "source": [
    "### Load live images"
   ]
  },
  {
   "cell_type": "code",
   "execution_count": 7,
   "metadata": {},
   "outputs": [],
   "source": [
    "def record(code):\n",
    "    cap = cv2.VideoCapture(api_url+code)\n",
    "    i = 0\n",
    "    print('Starting')\n",
    "    while(True):\n",
    "        co(1); print(f'Image {i} saved.')\n",
    "        i += 1\n",
    "        if i==10: break\n",
    "        success, frame = cap.read()\n",
    "        while not success:\n",
    "            cap = cv2.VideoCapture(api_url+code)\n",
    "            success, frame = cap.read()\n",
    "\n",
    "        curr_time = datetime.datetime.now(pytz.timezone('Brazil/East')).strftime('%Y-%m-%d %X')\n",
    "        filename = f'CODE{code}_{curr_time}'\n",
    "#         cv2.imwrite(f'{foldername}/{filename}.jpg', frame)\n",
    "        cv2.imwrite(f'{filename}.jpg', frame)\n",
    "\n",
    "api_url = 'http://187.111.99.18:9004/?CODE='\n",
    "codes = ['313']\n",
    "foldername = 'images'\n",
    "\n",
    "def main(codes):\n",
    "    items = [(code) for code in codes]\n",
    "    pool = multiprocessing.Pool(processes=1)\n",
    "    pool.starmap(record, items)\n",
    "    return"
   ]
  },
  {
   "cell_type": "code",
   "execution_count": 8,
   "metadata": {},
   "outputs": [
    {
     "name": "stdout",
     "output_type": "stream",
     "text": [
      "Starting\n",
      "Image 0 saved.\n",
      "Image 1 saved.\n",
      "Image 2 saved.\n",
      "Image 3 saved.\n",
      "Image 4 saved.\n",
      "Image 5 saved.\n",
      "Image 6 saved.\n",
      "Image 7 saved.\n",
      "Image 8 saved.\n",
      "Image 9 saved.\n"
     ]
    }
   ],
   "source": [
    "record('313')"
   ]
  },
  {
   "cell_type": "code",
   "execution_count": null,
   "metadata": {},
   "outputs": [],
   "source": [
    "main(codes)"
   ]
  },
  {
   "cell_type": "code",
   "execution_count": 12,
   "metadata": {},
   "outputs": [
    {
     "data": {
      "text/plain": [
       "array([[[ 94,  79,  64],\n",
       "        [103,  88,  73],\n",
       "        [ 65,  69,  67],\n",
       "        ...,\n",
       "        [115, 131, 131],\n",
       "        [156, 172, 172],\n",
       "        [217, 233, 233]],\n",
       "\n",
       "       [[101,  86,  71],\n",
       "        [ 85,  70,  55],\n",
       "        [ 81,  85,  83],\n",
       "        ...,\n",
       "        [128, 144, 144],\n",
       "        [154, 170, 170],\n",
       "        [196, 212, 212]],\n",
       "\n",
       "       [[ 82,  85,  74],\n",
       "        [ 68,  71,  60],\n",
       "        [ 79,  79,  83],\n",
       "        ...,\n",
       "        [130, 146, 146],\n",
       "        [158, 174, 174],\n",
       "        [192, 208, 208]],\n",
       "\n",
       "       ...,\n",
       "\n",
       "       [[ 39,  78, 110],\n",
       "        [ 40,  79, 111],\n",
       "        [ 42,  81, 113],\n",
       "        ...,\n",
       "        [ 60,  58,  59],\n",
       "        [ 60,  58,  59],\n",
       "        [ 60,  58,  59]],\n",
       "\n",
       "       [[ 39,  78, 110],\n",
       "        [ 39,  78, 110],\n",
       "        [ 41,  80, 112],\n",
       "        ...,\n",
       "        [ 61,  59,  60],\n",
       "        [ 61,  59,  60],\n",
       "        [ 61,  59,  60]],\n",
       "\n",
       "       [[ 39,  78, 110],\n",
       "        [ 39,  78, 110],\n",
       "        [ 41,  80, 112],\n",
       "        ...,\n",
       "        [ 61,  59,  60],\n",
       "        [ 61,  59,  60],\n",
       "        [ 61,  59,  60]]], dtype=uint8)"
      ]
     },
     "execution_count": 12,
     "metadata": {},
     "output_type": "execute_result"
    }
   ],
   "source": [
    "cap = cv2.VideoCapture(api_url+'313')\n",
    "success, frame = cap.read()\n",
    "cv2.imwrite(f'images/test.jpg', frame)\n",
    "\n",
    "frame"
   ]
  },
  {
   "cell_type": "code",
   "execution_count": null,
   "metadata": {},
   "outputs": [],
   "source": []
  }
 ],
 "metadata": {
  "kernelspec": {
   "display_name": "Python 3",
   "language": "python",
   "name": "python3"
  },
  "language_info": {
   "codemirror_mode": {
    "name": "ipython",
    "version": 3
   },
   "file_extension": ".py",
   "mimetype": "text/x-python",
   "name": "python",
   "nbconvert_exporter": "python",
   "pygments_lexer": "ipython3",
   "version": "3.8.3"
  }
 },
 "nbformat": 4,
 "nbformat_minor": 4
}
