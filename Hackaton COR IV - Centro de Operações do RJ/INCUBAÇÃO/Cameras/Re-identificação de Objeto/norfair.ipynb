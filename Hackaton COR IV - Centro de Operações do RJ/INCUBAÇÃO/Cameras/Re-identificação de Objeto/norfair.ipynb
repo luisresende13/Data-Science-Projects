{
 "cells": [
  {
   "cell_type": "markdown",
   "id": "f0c7cae0-6b2d-4462-8ea0-dd7873ec0c66",
   "metadata": {},
   "source": [
    "# Testing norfair re-id algorithms"
   ]
  },
  {
   "cell_type": "code",
   "execution_count": null,
   "id": "203fb5ae-c1b1-4d5a-90ee-7857c87549bc",
   "metadata": {},
   "outputs": [],
   "source": [
    "# !pip install norfair"
   ]
  },
  {
   "cell_type": "code",
   "execution_count": 5,
   "id": "1ce8554a-da19-4680-b8c3-67885d0beabd",
   "metadata": {},
   "outputs": [
    {
     "name": "stderr",
     "output_type": "stream",
     "text": [
      "WARNING: Ignoring invalid distribution -rotobuf (c:\\users\\luisr\\anaconda3\\lib\\site-packages)\n",
      "WARNING: Ignoring invalid distribution -rotobuf (c:\\users\\luisr\\anaconda3\\lib\\site-packages)\n",
      "ERROR: Could not find a version that satisfies the requirement detectron2 (from versions: none)\n",
      "ERROR: No matching distribution found for detectron2\n",
      "WARNING: Ignoring invalid distribution -rotobuf (c:\\users\\luisr\\anaconda3\\lib\\site-packages)\n",
      "WARNING: Ignoring invalid distribution -rotobuf (c:\\users\\luisr\\anaconda3\\lib\\site-packages)\n",
      "WARNING: Ignoring invalid distribution -rotobuf (c:\\users\\luisr\\anaconda3\\lib\\site-packages)\n"
     ]
    }
   ],
   "source": [
    "!pip install detectron2"
   ]
  },
  {
   "cell_type": "code",
   "execution_count": null,
   "id": "c033b2fe-8970-4ca4-b30c-ebacc0958392",
   "metadata": {},
   "outputs": [],
   "source": [
    "import cv2\n",
    "import numpy as np"
   ]
  },
  {
   "cell_type": "code",
   "execution_count": 4,
   "id": "480f1d4d-c10d-4105-bd1e-75fad8b14875",
   "metadata": {},
   "outputs": [
    {
     "ename": "ModuleNotFoundError",
     "evalue": "No module named 'detectron2'",
     "output_type": "error",
     "traceback": [
      "\u001b[1;31m---------------------------------------------------------------------------\u001b[0m",
      "\u001b[1;31mModuleNotFoundError\u001b[0m                       Traceback (most recent call last)",
      "Cell \u001b[1;32mIn[4], line 1\u001b[0m\n\u001b[1;32m----> 1\u001b[0m \u001b[38;5;28;01mfrom\u001b[39;00m \u001b[38;5;21;01mdetectron2\u001b[39;00m\u001b[38;5;21;01m.\u001b[39;00m\u001b[38;5;21;01mconfig\u001b[39;00m \u001b[38;5;28;01mimport\u001b[39;00m get_cfg\n\u001b[0;32m      2\u001b[0m \u001b[38;5;28;01mfrom\u001b[39;00m \u001b[38;5;21;01mdetectron2\u001b[39;00m\u001b[38;5;21;01m.\u001b[39;00m\u001b[38;5;21;01mengine\u001b[39;00m \u001b[38;5;28;01mimport\u001b[39;00m DefaultPredictor\n",
      "\u001b[1;31mModuleNotFoundError\u001b[0m: No module named 'detectron2'"
     ]
    }
   ],
   "source": [
    "from detectron2.config import get_cfg\n",
    "from detectron2.engine import DefaultPredictor"
   ]
  },
  {
   "cell_type": "code",
   "execution_count": 6,
   "id": "166b82a6-74c1-4947-b8bc-8dc9def0c869",
   "metadata": {},
   "outputs": [
    {
     "data": {
      "text/plain": [
       "\u001b[1;31mInit signature:\u001b[0m\n",
       "\u001b[0mDetection\u001b[0m\u001b[1;33m(\u001b[0m\u001b[1;33m\n",
       "\u001b[0m    \u001b[0mpoints\u001b[0m\u001b[1;33m:\u001b[0m \u001b[0mnumpy\u001b[0m\u001b[1;33m.\u001b[0m\u001b[0mndarray\u001b[0m\u001b[1;33m,\u001b[0m\u001b[1;33m\n",
       "\u001b[0m    \u001b[0mscores\u001b[0m\u001b[1;33m:\u001b[0m \u001b[0mnumpy\u001b[0m\u001b[1;33m.\u001b[0m\u001b[0mndarray\u001b[0m \u001b[1;33m=\u001b[0m \u001b[1;32mNone\u001b[0m\u001b[1;33m,\u001b[0m\u001b[1;33m\n",
       "\u001b[0m    \u001b[0mdata\u001b[0m\u001b[1;33m:\u001b[0m \u001b[0mAny\u001b[0m \u001b[1;33m=\u001b[0m \u001b[1;32mNone\u001b[0m\u001b[1;33m,\u001b[0m\u001b[1;33m\n",
       "\u001b[0m    \u001b[0mlabel\u001b[0m\u001b[1;33m:\u001b[0m \u001b[0mHashable\u001b[0m \u001b[1;33m=\u001b[0m \u001b[1;32mNone\u001b[0m\u001b[1;33m,\u001b[0m\u001b[1;33m\n",
       "\u001b[0m    \u001b[0membedding\u001b[0m\u001b[1;33m=\u001b[0m\u001b[1;32mNone\u001b[0m\u001b[1;33m,\u001b[0m\u001b[1;33m\n",
       "\u001b[0m\u001b[1;33m)\u001b[0m\u001b[1;33m\u001b[0m\u001b[1;33m\u001b[0m\u001b[0m\n",
       "\u001b[1;31mDocstring:\u001b[0m     \n",
       "Detections returned by the detector must be converted to a `Detection` object before being used by Norfair.\n",
       "\n",
       "Parameters\n",
       "----------\n",
       "points : np.ndarray\n",
       "    Points detected. Must be a rank 2 array with shape `(n_points, n_dimensions)` where n_dimensions is 2 or 3.\n",
       "scores : np.ndarray, optional\n",
       "    An array of length `n_points` which assigns a score to each of the points defined in `points`.\n",
       "\n",
       "    This is used to inform the tracker of which points to ignore;\n",
       "    any point with a score below `detection_threshold` will be ignored.\n",
       "\n",
       "    This useful for cases in which detections don't always have every point present, as is often the case in pose estimators.\n",
       "data : Any, optional\n",
       "    The place to store any extra data which may be useful when calculating the distance function.\n",
       "    Anything stored here will be available to use inside the distance function.\n",
       "\n",
       "    This enables the development of more interesting trackers which can do things like assign an appearance embedding to each\n",
       "    detection to aid in its tracking.\n",
       "label : Hashable, optional\n",
       "    When working with multiple classes the detection's label can be stored to be used as a matching condition when associating\n",
       "    tracked objects with new detections. Label's type must be hashable for drawing purposes.\n",
       "embedding : Any, optional\n",
       "    The embedding for the reid_distance.\n",
       "\u001b[1;31mFile:\u001b[0m           c:\\users\\luisr\\anaconda3\\lib\\site-packages\\norfair\\tracker.py\n",
       "\u001b[1;31mType:\u001b[0m           type\n",
       "\u001b[1;31mSubclasses:\u001b[0m     "
      ]
     },
     "metadata": {},
     "output_type": "display_data"
    }
   ],
   "source": [
    "Detection?"
   ]
  },
  {
   "cell_type": "code",
   "execution_count": null,
   "id": "66b68fbc-eb4d-433f-8b34-998b464f3fbf",
   "metadata": {},
   "outputs": [],
   "source": [
    "from norfair import Detection, Tracker, Video, draw_tracked_objects\n",
    "\n",
    "# Set up Detectron2 object detector\n",
    "cfg = get_cfg()\n",
    "cfg.merge_from_file(\"demos/faster_rcnn_R_50_FPN_3x.yaml\")\n",
    "cfg.MODEL.ROI_HEADS.SCORE_THRESH_TEST = 0.5\n",
    "cfg.MODEL.WEIGHTS = \"detectron2://COCO-InstanceSegmentation/mask_rcnn_R_50_FPN_3x/137849600/model_final_f10217.pkl\"\n",
    "detector = DefaultPredictor(cfg)\n",
    "\n",
    "# Norfair\n",
    "video = Video(input_path=\"video.mp4\")\n",
    "tracker = Tracker(distance_function=\"euclidean\", distance_threshold=20)\n",
    "\n",
    "for frame in video:\n",
    "    detections = detector(cv2.cvtColor(frame, cv2.COLOR_BGR2RGB))\n",
    "    detections = [Detection(p) for p in detections['instances'].pred_boxes.get_centers().cpu().numpy()]\n",
    "    tracked_objects = tracker.update(detections=detections)\n",
    "    draw_tracked_objects(frame, tracked_objects)\n",
    "    video.write(frame)"
   ]
  }
 ],
 "metadata": {
  "kernelspec": {
   "display_name": "Python 3 (ipykernel)",
   "language": "python",
   "name": "python3"
  },
  "language_info": {
   "codemirror_mode": {
    "name": "ipython",
    "version": 3
   },
   "file_extension": ".py",
   "mimetype": "text/x-python",
   "name": "python",
   "nbconvert_exporter": "python",
   "pygments_lexer": "ipython3",
   "version": "3.10.9"
  }
 },
 "nbformat": 4,
 "nbformat_minor": 5
}
