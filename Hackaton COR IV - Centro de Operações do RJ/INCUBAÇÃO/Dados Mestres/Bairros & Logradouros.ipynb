{
 "cells": [
  {
   "cell_type": "markdown",
   "metadata": {},
   "source": [
    "# NEIGHBORHOOD AND STREET DATA FOR RIO DE JANEIRO CITY - Data type conversion"
   ]
  },
  {
   "cell_type": "markdown",
   "metadata": {},
   "source": [
    "#### Set directory"
   ]
  },
  {
   "cell_type": "code",
   "execution_count": 1,
   "metadata": {},
   "outputs": [
    {
     "name": "stdout",
     "output_type": "stream",
     "text": [
      "C:\\Users\\luisr\\Desktop\\Repositories\\Data Science Projects\\Hackaton COR IV - Centro de Operações do RJ\\INCUBAÇÃO\n"
     ]
    }
   ],
   "source": [
    "cd ../"
   ]
  },
  {
   "cell_type": "markdown",
   "metadata": {},
   "source": [
    "#### Install dependencies"
   ]
  },
  {
   "cell_type": "code",
   "execution_count": 182,
   "metadata": {},
   "outputs": [
    {
     "name": "stdout",
     "output_type": "stream",
     "text": [
      "Collecting geomet\n",
      "  Downloading geomet-1.0.0-py3-none-any.whl (28 kB)\n",
      "Requirement already satisfied: six in c:\\users\\luisr\\anaconda3\\lib\\site-packages (from geomet) (1.15.0)\n",
      "Requirement already satisfied: click in c:\\users\\luisr\\anaconda3\\lib\\site-packages (from geomet) (7.1.2)\n",
      "Installing collected packages: geomet\n",
      "Successfully installed geomet-1.0.0\n"
     ]
    }
   ],
   "source": [
    "!pip install geomet"
   ]
  },
  {
   "cell_type": "markdown",
   "metadata": {},
   "source": [
    "#### Import modules"
   ]
  },
  {
   "cell_type": "code",
   "execution_count": 183,
   "metadata": {},
   "outputs": [],
   "source": [
    "import json, pandas as pd\n",
    "from google.cloud import bigquery\n",
    "from google.oauth2 import service_account\n",
    "from geomet import wkt\n",
    "\n",
    "from Modulos.geojson_conversion import linestring_geojson, polygon_geojson, save_json\n",
    "\n",
    "# import os, json, pandas as pd, numpy as np, requests, pickle, pymongo\n",
    "# from datetime import datetime, timezone\n",
    "# from sklearn.preprocessing import MinMaxScaler as mms"
   ]
  },
  {
   "cell_type": "markdown",
   "metadata": {},
   "source": [
    "---\n",
    "# Functions\n",
    "\n",
    "### Build geojson objects"
   ]
  },
  {
   "cell_type": "code",
   "execution_count": 214,
   "metadata": {},
   "outputs": [],
   "source": [
    "def geojson_obj(features):\n",
    "    return {\n",
    "        \"type\": \"FeatureCollection\",\n",
    "        \"features\": features\n",
    "    }\n",
    "\n",
    "def feature_obj(geometry):\n",
    "    return {\n",
    "        'type': 'Feature',\n",
    "        'geometry': geometry\n",
    "    }\n",
    "\n",
    "def add_props(features, df):\n",
    "    for feat, (idx, row) in zip(features, df.iterrows()):\n",
    "        feat['properties'] = row.to_dict()\n",
    "    return features"
   ]
  },
  {
   "cell_type": "markdown",
   "metadata": {},
   "source": [
    "### Convert wkt dataframe to geojson"
   ]
  },
  {
   "cell_type": "code",
   "execution_count": 217,
   "metadata": {},
   "outputs": [],
   "source": [
    "def wkt_geojson(df, wkt_col, props):\n",
    "    geometries = df[wkt_col].apply(wkt.loads)\n",
    "    features = geometries.apply(feature_obj)\n",
    "    features = add_props(features.tolist(), df[props])\n",
    "    return geojson_obj(features)"
   ]
  },
  {
   "cell_type": "markdown",
   "metadata": {},
   "source": [
    "### BigQuery request function"
   ]
  },
  {
   "cell_type": "code",
   "execution_count": 3,
   "metadata": {},
   "outputs": [],
   "source": [
    "project_id = 'pluvia-360323'\n",
    "google_credentials = '../../../Apps/Python/bolsao-api/credentials/pluvia-360323-eae2907a9c98.json'\n",
    "google_credentials = service_account.Credentials.from_service_account_file(google_credentials)\n",
    "\n",
    "# WHERE data_particao >= \"{}\"\n",
    "# ORDER BY data_particao DESC, horario DESC\n",
    "\n",
    "def bigquery_request(query, params=[], google_credentials=None):\n",
    "    client = bigquery.Client(credentials=google_credentials)\n",
    "    query_job = client.query(query.format(**params))\n",
    "    return pd.DataFrame(list(map(dict, query_job.result())))"
   ]
  },
  {
   "cell_type": "markdown",
   "metadata": {},
   "source": [
    "---\n",
    "## Get neighborhood dataset"
   ]
  },
  {
   "cell_type": "code",
   "execution_count": 4,
   "metadata": {},
   "outputs": [
    {
     "data": {
      "text/html": [
       "<div>\n",
       "<style scoped>\n",
       "    .dataframe tbody tr th:only-of-type {\n",
       "        vertical-align: middle;\n",
       "    }\n",
       "\n",
       "    .dataframe tbody tr th {\n",
       "        vertical-align: top;\n",
       "    }\n",
       "\n",
       "    .dataframe thead th {\n",
       "        text-align: right;\n",
       "    }\n",
       "</style>\n",
       "<table border=\"1\" class=\"dataframe\">\n",
       "  <thead>\n",
       "    <tr style=\"text-align: right;\">\n",
       "      <th></th>\n",
       "      <th>id_bairro</th>\n",
       "      <th>nome</th>\n",
       "      <th>id_area_planejamento</th>\n",
       "      <th>id_regiao_planejamento</th>\n",
       "      <th>nome_regiao_planejamento</th>\n",
       "      <th>id_regiao_administrativa</th>\n",
       "      <th>nome_regiao_administrativa</th>\n",
       "      <th>subprefeitura</th>\n",
       "      <th>area</th>\n",
       "      <th>perimetro</th>\n",
       "      <th>geometria_wkt</th>\n",
       "      <th>geometria</th>\n",
       "    </tr>\n",
       "  </thead>\n",
       "  <tbody>\n",
       "    <tr>\n",
       "      <th>0</th>\n",
       "      <td>2</td>\n",
       "      <td>Gamboa</td>\n",
       "      <td>1</td>\n",
       "      <td>1.1</td>\n",
       "      <td>Centro</td>\n",
       "      <td>1</td>\n",
       "      <td>PORTUARIA</td>\n",
       "      <td>Centro</td>\n",
       "      <td>1.112903e+06</td>\n",
       "      <td>4612.827414</td>\n",
       "      <td>POLYGON ((-43.18787320828573 -22.8931089710106...</td>\n",
       "      <td>POLYGON((-43.1878732082857 -22.8931089710107, ...</td>\n",
       "    </tr>\n",
       "    <tr>\n",
       "      <th>1</th>\n",
       "      <td>1</td>\n",
       "      <td>Saúde</td>\n",
       "      <td>1</td>\n",
       "      <td>1.1</td>\n",
       "      <td>Centro</td>\n",
       "      <td>1</td>\n",
       "      <td>PORTUARIA</td>\n",
       "      <td>Centro</td>\n",
       "      <td>3.638176e+05</td>\n",
       "      <td>2646.216986</td>\n",
       "      <td>POLYGON ((-43.181109755485245 -22.895417528115...</td>\n",
       "      <td>POLYGON((-43.1811097554853 -22.8954175281158, ...</td>\n",
       "    </tr>\n",
       "    <tr>\n",
       "      <th>2</th>\n",
       "      <td>3</td>\n",
       "      <td>Santo Cristo</td>\n",
       "      <td>1</td>\n",
       "      <td>1.1</td>\n",
       "      <td>Centro</td>\n",
       "      <td>1</td>\n",
       "      <td>PORTUARIA</td>\n",
       "      <td>Centro</td>\n",
       "      <td>1.684721e+06</td>\n",
       "      <td>6743.218804</td>\n",
       "      <td>POLYGON ((-43.19445618134857 -22.9033652388182...</td>\n",
       "      <td>POLYGON((-43.1944561813486 -22.9033652388182, ...</td>\n",
       "    </tr>\n",
       "    <tr>\n",
       "      <th>3</th>\n",
       "      <td>4</td>\n",
       "      <td>Caju</td>\n",
       "      <td>1</td>\n",
       "      <td>1.1</td>\n",
       "      <td>Centro</td>\n",
       "      <td>1</td>\n",
       "      <td>PORTUARIA</td>\n",
       "      <td>Centro</td>\n",
       "      <td>5.347481e+06</td>\n",
       "      <td>19800.495942</td>\n",
       "      <td>MULTIPOLYGON (((-43.22518208553896 -22.8746396...</td>\n",
       "      <td>None</td>\n",
       "    </tr>\n",
       "    <tr>\n",
       "      <th>4</th>\n",
       "      <td>5</td>\n",
       "      <td>Centro</td>\n",
       "      <td>1</td>\n",
       "      <td>1.1</td>\n",
       "      <td>Centro</td>\n",
       "      <td>2</td>\n",
       "      <td>CENTRO</td>\n",
       "      <td>Centro</td>\n",
       "      <td>5.424739e+06</td>\n",
       "      <td>22846.214306</td>\n",
       "      <td>MULTIPOLYGON (((-43.178288869275505 -22.892566...</td>\n",
       "      <td>MULTIPOLYGON(((-43.1657633602567 -22.897028697...</td>\n",
       "    </tr>\n",
       "  </tbody>\n",
       "</table>\n",
       "</div>"
      ],
      "text/plain": [
       "  id_bairro                        nome id_area_planejamento  \\\n",
       "0         2  Gamboa                                        1   \n",
       "1         1  Saúde                                         1   \n",
       "2         3  Santo Cristo                                  1   \n",
       "3         4  Caju                                          1   \n",
       "4         5  Centro                                        1   \n",
       "\n",
       "  id_regiao_planejamento nome_regiao_planejamento id_regiao_administrativa  \\\n",
       "0                    1.1                   Centro                        1   \n",
       "1                    1.1                   Centro                        1   \n",
       "2                    1.1                   Centro                        1   \n",
       "3                    1.1                   Centro                        1   \n",
       "4                    1.1                   Centro                        2   \n",
       "\n",
       "  nome_regiao_administrativa subprefeitura          area     perimetro  \\\n",
       "0   PORTUARIA                       Centro  1.112903e+06   4612.827414   \n",
       "1   PORTUARIA                       Centro  3.638176e+05   2646.216986   \n",
       "2   PORTUARIA                       Centro  1.684721e+06   6743.218804   \n",
       "3   PORTUARIA                       Centro  5.347481e+06  19800.495942   \n",
       "4   CENTRO                          Centro  5.424739e+06  22846.214306   \n",
       "\n",
       "                                       geometria_wkt  \\\n",
       "0  POLYGON ((-43.18787320828573 -22.8931089710106...   \n",
       "1  POLYGON ((-43.181109755485245 -22.895417528115...   \n",
       "2  POLYGON ((-43.19445618134857 -22.9033652388182...   \n",
       "3  MULTIPOLYGON (((-43.22518208553896 -22.8746396...   \n",
       "4  MULTIPOLYGON (((-43.178288869275505 -22.892566...   \n",
       "\n",
       "                                           geometria  \n",
       "0  POLYGON((-43.1878732082857 -22.8931089710107, ...  \n",
       "1  POLYGON((-43.1811097554853 -22.8954175281158, ...  \n",
       "2  POLYGON((-43.1944561813486 -22.9033652388182, ...  \n",
       "3                                               None  \n",
       "4  MULTIPOLYGON(((-43.1657633602567 -22.897028697...  "
      ]
     },
     "execution_count": 4,
     "metadata": {},
     "output_type": "execute_result"
    }
   ],
   "source": [
    "query = '''\n",
    "SELECT * FROM `datario.dados_mestres.bairro`\n",
    "'''\n",
    "\n",
    "bairros = bigquery_request(query, {}, google_credentials)\n",
    "\n",
    "bairros.head()"
   ]
  },
  {
   "cell_type": "markdown",
   "metadata": {},
   "source": [
    "#### Convert from wkt to geojson"
   ]
  },
  {
   "cell_type": "code",
   "execution_count": 218,
   "metadata": {},
   "outputs": [
    {
     "name": "stdout",
     "output_type": "stream",
     "text": [
      "Done!\n"
     ]
    }
   ],
   "source": [
    "df =  bairros\n",
    "wkt_col = 'geometria_wkt'\n",
    "props = bairros.columns.drop(['geometria', 'geometria_wkt'])\n",
    "\n",
    "bairros_geojson = wkt_geojson(df, wkt_col, props)\n",
    "\n",
    "save_json(bairros_geojson, 'Dados/Mestres/bairro.geojson')"
   ]
  },
  {
   "cell_type": "markdown",
   "metadata": {},
   "source": [
    "## Get street dataset"
   ]
  },
  {
   "cell_type": "code",
   "execution_count": 254,
   "metadata": {},
   "outputs": [
    {
     "data": {
      "text/html": [
       "<div>\n",
       "<style scoped>\n",
       "    .dataframe tbody tr th:only-of-type {\n",
       "        vertical-align: middle;\n",
       "    }\n",
       "\n",
       "    .dataframe tbody tr th {\n",
       "        vertical-align: top;\n",
       "    }\n",
       "\n",
       "    .dataframe thead th {\n",
       "        text-align: right;\n",
       "    }\n",
       "</style>\n",
       "<table border=\"1\" class=\"dataframe\">\n",
       "  <thead>\n",
       "    <tr style=\"text-align: right;\">\n",
       "      <th></th>\n",
       "      <th>id_logradouro</th>\n",
       "      <th>nome</th>\n",
       "      <th>nome_parcial</th>\n",
       "      <th>nome_completo</th>\n",
       "      <th>id_trecho</th>\n",
       "      <th>id_situacao_trecho</th>\n",
       "      <th>situacao_trecho</th>\n",
       "      <th>id_tipo</th>\n",
       "      <th>tipo</th>\n",
       "      <th>id_bairro</th>\n",
       "      <th>inicio_numero_porta_par</th>\n",
       "      <th>final_numero_porta_par</th>\n",
       "      <th>inicio_numero_porta_impar</th>\n",
       "      <th>final_numero_porta_impar</th>\n",
       "      <th>hierarquia</th>\n",
       "      <th>id_chavegeo</th>\n",
       "      <th>geometry</th>\n",
       "    </tr>\n",
       "  </thead>\n",
       "  <tbody>\n",
       "    <tr>\n",
       "      <th>0</th>\n",
       "      <td>11080</td>\n",
       "      <td></td>\n",
       "      <td>Álvaro Alberto</td>\n",
       "      <td>Rua Álvaro Alberto</td>\n",
       "      <td>208514</td>\n",
       "      <td>1</td>\n",
       "      <td>Ativo</td>\n",
       "      <td>41</td>\n",
       "      <td>Rua</td>\n",
       "      <td></td>\n",
       "      <td>0</td>\n",
       "      <td>0</td>\n",
       "      <td>0</td>\n",
       "      <td>0</td>\n",
       "      <td>Estrutural</td>\n",
       "      <td>I7P3HM85</td>\n",
       "      <td>LINESTRING(-43.6847356687256 -22.9162453890271...</td>\n",
       "    </tr>\n",
       "    <tr>\n",
       "      <th>1</th>\n",
       "      <td>11080</td>\n",
       "      <td></td>\n",
       "      <td>Álvaro Alberto</td>\n",
       "      <td>Rua Álvaro Alberto</td>\n",
       "      <td>208515</td>\n",
       "      <td>1</td>\n",
       "      <td>Ativo</td>\n",
       "      <td>41</td>\n",
       "      <td>Rua</td>\n",
       "      <td></td>\n",
       "      <td>0</td>\n",
       "      <td>0</td>\n",
       "      <td>0</td>\n",
       "      <td>0</td>\n",
       "      <td>Estrutural</td>\n",
       "      <td>I7P3HM85</td>\n",
       "      <td>LINESTRING(-43.6841093726041 -22.9159378031191...</td>\n",
       "    </tr>\n",
       "    <tr>\n",
       "      <th>2</th>\n",
       "      <td>11676</td>\n",
       "      <td></td>\n",
       "      <td>Manso</td>\n",
       "      <td>Rua Padre Manso</td>\n",
       "      <td>303301</td>\n",
       "      <td>6</td>\n",
       "      <td></td>\n",
       "      <td>41</td>\n",
       "      <td>Rua</td>\n",
       "      <td></td>\n",
       "      <td>12</td>\n",
       "      <td>298</td>\n",
       "      <td>29</td>\n",
       "      <td>29</td>\n",
       "      <td>Arterial primária</td>\n",
       "      <td>KYZBYI16</td>\n",
       "      <td>LINESTRING(-43.3375655501557 -22.8824684156819...</td>\n",
       "    </tr>\n",
       "    <tr>\n",
       "      <th>3</th>\n",
       "      <td>11676</td>\n",
       "      <td></td>\n",
       "      <td>Manso</td>\n",
       "      <td>Rua Padre Manso</td>\n",
       "      <td>255414</td>\n",
       "      <td>1</td>\n",
       "      <td>Ativo</td>\n",
       "      <td>41</td>\n",
       "      <td>Rua</td>\n",
       "      <td></td>\n",
       "      <td>0</td>\n",
       "      <td>0</td>\n",
       "      <td>0</td>\n",
       "      <td>0</td>\n",
       "      <td>Arterial primária</td>\n",
       "      <td>P61C4146</td>\n",
       "      <td>LINESTRING(-43.3373271704989 -22.8791011064349...</td>\n",
       "    </tr>\n",
       "    <tr>\n",
       "      <th>4</th>\n",
       "      <td>11676</td>\n",
       "      <td></td>\n",
       "      <td>Manso</td>\n",
       "      <td>Rua Padre Manso</td>\n",
       "      <td>255415</td>\n",
       "      <td>1</td>\n",
       "      <td>Ativo</td>\n",
       "      <td>41</td>\n",
       "      <td>Rua</td>\n",
       "      <td></td>\n",
       "      <td>0</td>\n",
       "      <td>0</td>\n",
       "      <td>0</td>\n",
       "      <td>0</td>\n",
       "      <td>Arterial primária</td>\n",
       "      <td>P61C4146</td>\n",
       "      <td>LINESTRING(-43.337326270377 -22.8790936284571,...</td>\n",
       "    </tr>\n",
       "  </tbody>\n",
       "</table>\n",
       "</div>"
      ],
      "text/plain": [
       "  id_logradouro nome    nome_parcial       nome_completo id_trecho  \\\n",
       "0         11080       Álvaro Alberto  Rua Álvaro Alberto    208514   \n",
       "1         11080       Álvaro Alberto  Rua Álvaro Alberto    208515   \n",
       "2         11676                Manso     Rua Padre Manso    303301   \n",
       "3         11676                Manso     Rua Padre Manso    255414   \n",
       "4         11676                Manso     Rua Padre Manso    255415   \n",
       "\n",
       "  id_situacao_trecho situacao_trecho id_tipo tipo id_bairro  \\\n",
       "0                  1           Ativo      41  Rua             \n",
       "1                  1           Ativo      41  Rua             \n",
       "2                  6                      41  Rua             \n",
       "3                  1           Ativo      41  Rua             \n",
       "4                  1           Ativo      41  Rua             \n",
       "\n",
       "   inicio_numero_porta_par  final_numero_porta_par  inicio_numero_porta_impar  \\\n",
       "0                        0                       0                          0   \n",
       "1                        0                       0                          0   \n",
       "2                       12                     298                         29   \n",
       "3                        0                       0                          0   \n",
       "4                        0                       0                          0   \n",
       "\n",
       "   final_numero_porta_impar         hierarquia id_chavegeo  \\\n",
       "0                         0         Estrutural    I7P3HM85   \n",
       "1                         0         Estrutural    I7P3HM85   \n",
       "2                        29  Arterial primária    KYZBYI16   \n",
       "3                         0  Arterial primária    P61C4146   \n",
       "4                         0  Arterial primária    P61C4146   \n",
       "\n",
       "                                            geometry  \n",
       "0  LINESTRING(-43.6847356687256 -22.9162453890271...  \n",
       "1  LINESTRING(-43.6841093726041 -22.9159378031191...  \n",
       "2  LINESTRING(-43.3375655501557 -22.8824684156819...  \n",
       "3  LINESTRING(-43.3373271704989 -22.8791011064349...  \n",
       "4  LINESTRING(-43.337326270377 -22.8790936284571,...  "
      ]
     },
     "execution_count": 254,
     "metadata": {},
     "output_type": "execute_result"
    }
   ],
   "source": [
    "hierarquias = ('Estrutural', 'Arterial primária', 'Arterial secundária')\n",
    "\n",
    "query = '''\n",
    "SELECT * FROM `datario.dados_mestres.logradouro` WHERE hierarquia IN {}\n",
    "'''.format(hierarquias)\n",
    "\n",
    "vias = bigquery_request(query, {}, google_credentials)\n",
    "\n",
    "vias.head()"
   ]
  },
  {
   "cell_type": "markdown",
   "metadata": {},
   "source": [
    "#### Check filter result"
   ]
  },
  {
   "cell_type": "code",
   "execution_count": 257,
   "metadata": {},
   "outputs": [
    {
     "data": {
      "text/html": [
       "<div>\n",
       "<style scoped>\n",
       "    .dataframe tbody tr th:only-of-type {\n",
       "        vertical-align: middle;\n",
       "    }\n",
       "\n",
       "    .dataframe tbody tr th {\n",
       "        vertical-align: top;\n",
       "    }\n",
       "\n",
       "    .dataframe thead th {\n",
       "        text-align: right;\n",
       "    }\n",
       "</style>\n",
       "<table border=\"1\" class=\"dataframe\">\n",
       "  <thead>\n",
       "    <tr style=\"text-align: right;\">\n",
       "      <th></th>\n",
       "      <th>hierarquia</th>\n",
       "    </tr>\n",
       "  </thead>\n",
       "  <tbody>\n",
       "    <tr>\n",
       "      <th>Arterial secundária</th>\n",
       "      <td>3119</td>\n",
       "    </tr>\n",
       "    <tr>\n",
       "      <th>Estrutural</th>\n",
       "      <td>2891</td>\n",
       "    </tr>\n",
       "    <tr>\n",
       "      <th>Arterial primária</th>\n",
       "      <td>2649</td>\n",
       "    </tr>\n",
       "  </tbody>\n",
       "</table>\n",
       "</div>"
      ],
      "text/plain": [
       "                     hierarquia\n",
       "Arterial secundária        3119\n",
       "Estrutural                 2891\n",
       "Arterial primária          2649"
      ]
     },
     "execution_count": 257,
     "metadata": {},
     "output_type": "execute_result"
    }
   ],
   "source": [
    "vias['hierarquia'].value_counts().to_frame()"
   ]
  },
  {
   "cell_type": "markdown",
   "metadata": {},
   "source": [
    "#### Convert from wkt to geojson"
   ]
  },
  {
   "cell_type": "code",
   "execution_count": 258,
   "metadata": {},
   "outputs": [
    {
     "name": "stdout",
     "output_type": "stream",
     "text": [
      "Done!\n"
     ]
    }
   ],
   "source": [
    "wkt_col = 'geometry'\n",
    "props = vias.columns.drop('geometry')\n",
    "\n",
    "vias_geojson = wkt_geojson(vias, wkt_col, props)\n",
    "\n",
    "save_json(vias_geojson, 'Dados/Mestres/logradouro.geojson')"
   ]
  }
 ],
 "metadata": {
  "kernelspec": {
   "display_name": "Python 3",
   "language": "python",
   "name": "python3"
  },
  "language_info": {
   "codemirror_mode": {
    "name": "ipython",
    "version": 3
   },
   "file_extension": ".py",
   "mimetype": "text/x-python",
   "name": "python",
   "nbconvert_exporter": "python",
   "pygments_lexer": "ipython3",
   "version": "3.8.3"
  }
 },
 "nbformat": 4,
 "nbformat_minor": 4
}
