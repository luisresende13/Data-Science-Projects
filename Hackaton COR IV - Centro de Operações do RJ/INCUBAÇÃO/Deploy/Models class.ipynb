{
 "cells": [
  {
   "cell_type": "markdown",
   "metadata": {},
   "source": [
    "# Waterbag-RJ Model API - Scheduled Real-Time Models Prediction"
   ]
  },
  {
   "cell_type": "code",
   "execution_count": null,
   "metadata": {},
   "outputs": [],
   "source": [
    "cd ../../../../Apps/Python/bolsao-api"
   ]
  },
  {
   "cell_type": "markdown",
   "metadata": {},
   "source": [
    "## Polygons time series 'Models' class"
   ]
  },
  {
   "cell_type": "code",
   "execution_count": 2,
   "metadata": {},
   "outputs": [],
   "source": [
    "from warnings import filterwarnings as fws; fws('ignore')\n",
    "import os, pandas as pd, numpy as np, pickle\n",
    "from modules.time_features import load_time_features, now_info\n",
    "from modules.stations import alertario_live, inmet_live\n",
    "\n",
    "# features settings\n",
    "\n",
    "alertario_features = [\n",
    "    'acumulado_chuva_15_min', 'acumulado_chuva_1_h', 'acumulado_chuva_4_h',\n",
    "    'acumulado_chuva_24_h', 'acumulado_chuva_96_h',\n",
    "]\n",
    "\n",
    "inmet_features = [\n",
    "    'acumulado_chuva_1_h', 'pressao', 'pressao_maxima',\n",
    "    'pressao_minima', 'radiacao_global', 'rajada_vento_max',\n",
    "    'temperatura', 'temperatura_maxima', 'temperatura_minima',\n",
    "    'temperatura_orvalho', 'temperatura_orvalho_maximo',\n",
    "    'temperatura_orvalho_minimo', 'velocidade_vento'\n",
    "]\n",
    "\n",
    "# Load multiple models\n",
    "\n",
    "def load_models(keys, path, file_fmt='{}.pickle'):\n",
    "    models = {}\n",
    "    for model_id in keys:\n",
    "        path_model = path + str(model_id) + '/'\n",
    "        if os.path.exists(path_model):\n",
    "            models[model_id] = pickle.load(open(path_model + file_fmt.format(model_id), 'rb'))\n",
    "    return models\n",
    "\n",
    "# Load multiple label encoders\n",
    "\n",
    "def load_encoders(path):\n",
    "    models = {}\n",
    "    for file in os.listdir(path):\n",
    "        model_id, ext = file.split('.')\n",
    "        if ext == 'pickle':\n",
    "            models[model_id] = pickle.load(open(path + file, 'rb'))\n",
    "    return models\n",
    "\n",
    "class Models:\n",
    "    \n",
    "    def __init__(self,\n",
    "        models, encoders, names, deploy_info,\n",
    "        fill='mean', report_ignored=False\n",
    "    ):\n",
    "        self.models=models; self.encoders=encoders; self.names=names; self.deploy_info=deploy_info;\n",
    "        self.fill=fill; self.report_ignored=report_ignored\n",
    "        if type(models) is str:\n",
    "            self.models = load_models(names.index, models)\n",
    "        if type(encoders) is str:\n",
    "            self.encoders = load_encoders(encoders)\n",
    "\n",
    "    def get_features(self, now):\n",
    "        time_flat = load_time_features(now, self.encoders)\n",
    "        inmet_flat = self.flat_features(inmet_live(), 'id_estacao', inmet_features)\n",
    "        alertario_flat = self.flat_features(alertario_live(), 'id_estacao', alertario_features)\n",
    "        return pd.concat([df for df in [time_flat, inmet_flat, alertario_flat] if len(df)])\n",
    "\n",
    "    def flat_features(self, data, id_col, features):\n",
    "        ids = data[id_col].unique()\n",
    "        return pd.concat([data.set_index(id_col).loc[_id, features].add_suffix(f' - {_id}') for _id in ids], axis=0)\n",
    "\n",
    "    # Features formatting\n",
    "    def formatted_features(self, features):\n",
    "\n",
    "        # Handle missing features - fill with the mean\n",
    "        missing_features = list(set(self.deploy_info.index).difference(features.index))\n",
    "        if len(missing_features):\n",
    "            print(f'Missing features ({len(missing_cols)}):', missing_cols, '\\n')\n",
    "            for name in missing_features:\n",
    "                features[name] = self.deploy_info.loc[name, self.fill]\n",
    "\n",
    "        # Handle extra features (ignore)\n",
    "        ignored_cols = list(set(features.index).difference(self.deploy_info.index))\n",
    "        if len(ignored_cols) and self.report_ignored:\n",
    "            print(f'Ignored features ({len(ignored_cols)}):', ignored_cols, '\\n')\n",
    "\n",
    "        # Reorder features to match model input format\n",
    "        features = features.loc[self.deploy_info.index]\n",
    "\n",
    "        # Fill missing values - with the mean\n",
    "        features.replace('', np.nan, inplace=True)\n",
    "        na_msk = features.isna()\n",
    "        if na_msk.sum():\n",
    "            features[na_msk] = self.deploy_info.loc[na_msk, self.fill]\n",
    "\n",
    "        # Reshape and return\n",
    "        return features.to_frame().T\n",
    "\n",
    "    # Calibrate predicted probabilities function\n",
    "    def calibrate(self, prob, threshold=0.5):\n",
    "        if prob < threshold:\n",
    "            return 0.5 * prob / threshold\n",
    "        else:\n",
    "            return 0.5 + 0.5 * (prob - threshold) / (1 - threshold)\n",
    "\n",
    "    # Multi model prediction\n",
    "    def multi_model_prediction(self, features, time_info):\n",
    "        predictions = []\n",
    "        for model_id, model in self.models.items():\n",
    "            yprob = model.predict_proba(features)[0][1]\n",
    "            # yprob_cal = self.calibrate(yprob, model['metadata']['threshold'])\n",
    "            yconf = abs(0.5 - yprob) / 0.5\n",
    "            label = int(yprob >= 0.5)\n",
    "            ### Prediction record\n",
    "            predictions.append({\n",
    "                'timestamp': time_info['now'],\n",
    "                'date': time_info['today'],\n",
    "                'time': time_info['time'],\n",
    "                'cluster_id': model_id,\n",
    "                'cluster': self.names[model_id],\n",
    "                'range': '1h',\n",
    "                'probability': round(yprob, 6),\n",
    "                'confidence': round(yconf, 6),\n",
    "                'label': label,\n",
    "            })\n",
    "        return predictions        \n",
    "    \n",
    "    # Make and post predictions task\n",
    "    def predict(self, as_datetime=False):\n",
    "        # ---\n",
    "        now, today, time = now_info()\n",
    "        print(f'Scheduled prediction starting. Date: {today}, Time: {time}.')\n",
    "        # ---\n",
    "        features = self.get_features(now)\n",
    "        features = self.formatted_features(features)\n",
    "        # ---\n",
    "        time_info = {'now': now, 'today': today, 'time': time}\n",
    "        predictions = self.multi_model_prediction(features, time_info)\n",
    "        # ---\n",
    "        now, today, time = now_info()\n",
    "        print(f'Scheduled prediction: Success. Date: {today}, Time: {time}.')\n",
    "        # ---\n",
    "        if not as_datetime:\n",
    "            for pred in prediction:\n",
    "                pred['timestamp'] = pred['timestamp'].strftime('%Y-%m-%d %X')\n",
    "        # ---\n",
    "        return predictions"
   ]
  },
  {
   "cell_type": "markdown",
   "metadata": {},
   "source": [
    "### Models instance parameters settings"
   ]
  },
  {
   "cell_type": "code",
   "execution_count": 19,
   "metadata": {},
   "outputs": [],
   "source": [
    "# ---\n",
    "# Deployment resources\n",
    "\n",
    "path_info = 'static/models/feature_info.csv'\n",
    "path_clusters = 'static/clusters/clusters_micro.csv'\n",
    "\n",
    "deploy_info = pd.read_csv(path_info, index_col=0)\n",
    "clusters = pd.read_csv(path_clusters, index_col=0)['main_route']"
   ]
  },
  {
   "cell_type": "markdown",
   "metadata": {},
   "source": [
    "### Models instance"
   ]
  },
  {
   "cell_type": "code",
   "execution_count": 20,
   "metadata": {},
   "outputs": [],
   "source": [
    "model = Models(\n",
    "    'models/', 'encoders/', clusters, deploy_info,\n",
    "    fill='mean', report_ignored=False,\n",
    ")"
   ]
  },
  {
   "cell_type": "markdown",
   "metadata": {},
   "source": [
    "### Models prediction"
   ]
  },
  {
   "cell_type": "code",
   "execution_count": 21,
   "metadata": {},
   "outputs": [
    {
     "name": "stdout",
     "output_type": "stream",
     "text": [
      "Scheduled prediction starting. Date: 2022-12-30, Time: 20:29:17.\n",
      "Scheduled prediction: Success. Date: 2022-12-30, Time: 20:29:23.\n"
     ]
    },
    {
     "data": {
      "text/html": [
       "<div>\n",
       "<style scoped>\n",
       "    .dataframe tbody tr th:only-of-type {\n",
       "        vertical-align: middle;\n",
       "    }\n",
       "\n",
       "    .dataframe tbody tr th {\n",
       "        vertical-align: top;\n",
       "    }\n",
       "\n",
       "    .dataframe thead th {\n",
       "        text-align: right;\n",
       "    }\n",
       "</style>\n",
       "<table border=\"1\" class=\"dataframe\">\n",
       "  <thead>\n",
       "    <tr style=\"text-align: right;\">\n",
       "      <th></th>\n",
       "      <th>timestamp</th>\n",
       "      <th>date</th>\n",
       "      <th>time</th>\n",
       "      <th>cluster_id</th>\n",
       "      <th>cluster</th>\n",
       "      <th>range</th>\n",
       "      <th>probability</th>\n",
       "      <th>confidence</th>\n",
       "      <th>label</th>\n",
       "    </tr>\n",
       "  </thead>\n",
       "  <tbody>\n",
       "    <tr>\n",
       "      <th>0</th>\n",
       "      <td>2022-12-30 20:29:17.337867-03:00</td>\n",
       "      <td>2022-12-30</td>\n",
       "      <td>20:29:17</td>\n",
       "      <td>0</td>\n",
       "      <td>Avenida Armando Lombardi</td>\n",
       "      <td>1h</td>\n",
       "      <td>0.027737</td>\n",
       "      <td>0.944525</td>\n",
       "      <td>0</td>\n",
       "    </tr>\n",
       "    <tr>\n",
       "      <th>1</th>\n",
       "      <td>2022-12-30 20:29:17.337867-03:00</td>\n",
       "      <td>2022-12-30</td>\n",
       "      <td>20:29:17</td>\n",
       "      <td>1</td>\n",
       "      <td>Rua do Catete</td>\n",
       "      <td>1h</td>\n",
       "      <td>0.000652</td>\n",
       "      <td>0.998695</td>\n",
       "      <td>0</td>\n",
       "    </tr>\n",
       "    <tr>\n",
       "      <th>2</th>\n",
       "      <td>2022-12-30 20:29:17.337867-03:00</td>\n",
       "      <td>2022-12-30</td>\n",
       "      <td>20:29:17</td>\n",
       "      <td>2</td>\n",
       "      <td>Rua Tonelero</td>\n",
       "      <td>1h</td>\n",
       "      <td>0.004486</td>\n",
       "      <td>0.991028</td>\n",
       "      <td>0</td>\n",
       "    </tr>\n",
       "    <tr>\n",
       "      <th>3</th>\n",
       "      <td>2022-12-30 20:29:17.337867-03:00</td>\n",
       "      <td>2022-12-30</td>\n",
       "      <td>20:29:17</td>\n",
       "      <td>3</td>\n",
       "      <td>Avenida Epitácio Pessoa</td>\n",
       "      <td>1h</td>\n",
       "      <td>0.000744</td>\n",
       "      <td>0.998512</td>\n",
       "      <td>0</td>\n",
       "    </tr>\n",
       "    <tr>\n",
       "      <th>4</th>\n",
       "      <td>2022-12-30 20:29:17.337867-03:00</td>\n",
       "      <td>2022-12-30</td>\n",
       "      <td>20:29:17</td>\n",
       "      <td>4</td>\n",
       "      <td>Avenida Ministro Ivan Lins</td>\n",
       "      <td>1h</td>\n",
       "      <td>0.028810</td>\n",
       "      <td>0.942379</td>\n",
       "      <td>0</td>\n",
       "    </tr>\n",
       "  </tbody>\n",
       "</table>\n",
       "</div>"
      ],
      "text/plain": [
       "                         timestamp        date      time  cluster_id  \\\n",
       "0 2022-12-30 20:29:17.337867-03:00  2022-12-30  20:29:17           0   \n",
       "1 2022-12-30 20:29:17.337867-03:00  2022-12-30  20:29:17           1   \n",
       "2 2022-12-30 20:29:17.337867-03:00  2022-12-30  20:29:17           2   \n",
       "3 2022-12-30 20:29:17.337867-03:00  2022-12-30  20:29:17           3   \n",
       "4 2022-12-30 20:29:17.337867-03:00  2022-12-30  20:29:17           4   \n",
       "\n",
       "                      cluster range  probability  confidence  label  \n",
       "0    Avenida Armando Lombardi    1h     0.027737    0.944525      0  \n",
       "1               Rua do Catete    1h     0.000652    0.998695      0  \n",
       "2                Rua Tonelero    1h     0.004486    0.991028      0  \n",
       "3     Avenida Epitácio Pessoa    1h     0.000744    0.998512      0  \n",
       "4  Avenida Ministro Ivan Lins    1h     0.028810    0.942379      0  "
      ]
     },
     "execution_count": 21,
     "metadata": {},
     "output_type": "execute_result"
    }
   ],
   "source": [
    "prediction = model.predict()\n",
    "\n",
    "pd.DataFrame(prediction).head()"
   ]
  },
  {
   "cell_type": "markdown",
   "metadata": {},
   "source": [
    "### Post predictions to mongo database"
   ]
  },
  {
   "cell_type": "code",
   "execution_count": 22,
   "metadata": {},
   "outputs": [
    {
     "name": "stdout",
     "output_type": "stream",
     "text": [
      "Scheduled prediction starting. Date: 2022-12-30, Time: 20:29:25.\n",
      "Scheduled prediction: Success. Date: 2022-12-30, Time: 20:29:28.\n"
     ]
    },
    {
     "data": {
      "text/plain": [
       "'SUCCESS'"
      ]
     },
     "execution_count": 22,
     "metadata": {},
     "output_type": "execute_result"
    }
   ],
   "source": [
    "from modules.mongo import post_to_mongo\n",
    "\n",
    "post_to_mongo(model.predict(), 'Waterbag', 'Prediction')"
   ]
  }
 ],
 "metadata": {
  "kernelspec": {
   "display_name": "Python 3",
   "language": "python",
   "name": "python3"
  },
  "language_info": {
   "codemirror_mode": {
    "name": "ipython",
    "version": 3
   },
   "file_extension": ".py",
   "mimetype": "text/x-python",
   "name": "python",
   "nbconvert_exporter": "python",
   "pygments_lexer": "ipython3",
   "version": "3.8.3"
  }
 },
 "nbformat": 4,
 "nbformat_minor": 4
}
