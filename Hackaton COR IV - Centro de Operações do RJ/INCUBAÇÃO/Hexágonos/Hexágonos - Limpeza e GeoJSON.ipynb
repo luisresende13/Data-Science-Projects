{
 "cells": [
  {
   "cell_type": "markdown",
   "id": "80f248f0-ce86-40c4-8cb2-d1bc92f62882",
   "metadata": {},
   "source": [
    "## Clean dataset of hexagons in Rio de Janeiro and convert to geojson"
   ]
  },
  {
   "cell_type": "code",
   "execution_count": 50,
   "id": "4570f55b-0917-4f59-92c2-5f04b941de06",
   "metadata": {},
   "outputs": [],
   "source": [
    "import pandas as pd\n",
    "from shapely.geometry import Polygon\n",
    "import json\n",
    "\n",
    "# Read the CSV file into a pandas DataFrame\n",
    "df = pd.read_csv('../../Dados/Hexágonos/rio-hexagons.csv')\n",
    "\n",
    "# Create a list to store the features\n",
    "features = []\n",
    "\n",
    "# Iterate over the rows of the DataFrame\n",
    "for index, row in df.iterrows():\n",
    "    hexagon_id = row['id']\n",
    "    polygon_string = row['geometry']\n",
    "\n",
    "    # Extract the coordinates from the polygon string and update the signs\n",
    "    coordinates = [(-abs(float(lon)), -abs(float(lat))) for lon, lat in [point.split() for point in polygon_string[10:-2].split(', ')]]\n",
    "\n",
    "    # Create a Polygon object\n",
    "    polygon = Polygon(coordinates)\n",
    "\n",
    "    # Create a feature dictionary\n",
    "    feature = {\n",
    "        'type': 'Feature',\n",
    "        'id': hexagon_id,\n",
    "        'geometry': polygon.__geo_interface__,\n",
    "        'properties': {}\n",
    "    }\n",
    "\n",
    "    # Add the feature to the list\n",
    "    features.append(feature)\n",
    "\n",
    "# Create a FeatureCollection\n",
    "feature_collection = {\n",
    "    'type': 'FeatureCollection',\n",
    "    'features': features\n",
    "}\n",
    "\n",
    "# Write the GeoJSON to a file\n",
    "with open('../../Dados/Hexágonos/rio-hexagons.geojson', 'w') as f:\n",
    "    json.dump(feature_collection, f)"
   ]
  }
 ],
 "metadata": {
  "kernelspec": {
   "display_name": "Python 3 (ipykernel)",
   "language": "python",
   "name": "python3"
  },
  "language_info": {
   "codemirror_mode": {
    "name": "ipython",
    "version": 3
   },
   "file_extension": ".py",
   "mimetype": "text/x-python",
   "name": "python",
   "nbconvert_exporter": "python",
   "pygments_lexer": "ipython3",
   "version": "3.10.9"
  }
 },
 "nbformat": 4,
 "nbformat_minor": 5
}
