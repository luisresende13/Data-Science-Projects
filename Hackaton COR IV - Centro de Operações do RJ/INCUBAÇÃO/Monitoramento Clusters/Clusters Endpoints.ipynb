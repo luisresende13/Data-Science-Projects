{
 "cells": [
  {
   "cell_type": "code",
   "execution_count": 2,
   "metadata": {},
   "outputs": [
    {
     "name": "stdout",
     "output_type": "stream",
     "text": [
      "C:\\Users\\luisr\\Desktop\\Repositories\\Apps\\Python\\bolsao-api\n"
     ]
    }
   ],
   "source": [
    "cd ../../../../Apps/Python/bolsao-api"
   ]
  },
  {
   "cell_type": "code",
   "execution_count": 3,
   "metadata": {},
   "outputs": [],
   "source": [
    "from warnings import filterwarnings as fws; fws('ignore')\n",
    "import json, pandas as pd\n",
    "from copy import deepcopy\n",
    "\n",
    "# ---\n",
    "# custom modules\n",
    "\n",
    "from modules.mongo_requests import last_prediction_record\n",
    "from modules.comando_endpoints import get_clusters_events #, polygons_geojson\n",
    "from modules.waze_endpoints import get_clusters_waze_partner_alerts\n",
    "from modules.geojson_conversion import drop_props, add_props, update_props_by_id, geojson_obj"
   ]
  },
  {
   "cell_type": "markdown",
   "metadata": {},
   "source": [
    "---"
   ]
  },
  {
   "cell_type": "markdown",
   "metadata": {},
   "source": [
    "## Load local geojson"
   ]
  },
  {
   "cell_type": "code",
   "execution_count": 3,
   "metadata": {},
   "outputs": [],
   "source": [
    "clusters_geojson = json.loads(open('static/clusters/polygons_micro.geojson').read())\n",
    "\n",
    "# Extra\n",
    "clusters_df = pd.read_csv('./static/clusters/clusters_micro.csv')\n",
    "clusters_json = json.dumps(clusters_df.to_dict(orient='records'), indent=4)"
   ]
  },
  {
   "cell_type": "markdown",
   "metadata": {},
   "source": [
    "#### Filter geojson features"
   ]
  },
  {
   "cell_type": "code",
   "execution_count": 4,
   "metadata": {},
   "outputs": [],
   "source": [
    "outlier_polygon = lambda feat: feat['properties']['sublabel'] != -1\n",
    "\n",
    "clusters_geojson['features'] = list(filter(outlier_polygon, clusters_geojson['features']))"
   ]
  },
  {
   "cell_type": "markdown",
   "metadata": {},
   "source": [
    "#### Delete geojson properties"
   ]
  },
  {
   "cell_type": "code",
   "execution_count": 5,
   "metadata": {},
   "outputs": [],
   "source": [
    "keep_cols = [\n",
    "    'sublabel', 'main_neighborhood', 'main_route', 'main_street_number_range',\n",
    "    'lat_centroid', 'lng_centroid', 'label_count', 'area_box', 'area_circle'\n",
    "]\n",
    "\n",
    "clusters_geojson['features'] = drop_props(clusters_geojson['features'], keep_cols)"
   ]
  },
  {
   "cell_type": "markdown",
   "metadata": {},
   "source": [
    "## Get external data\n",
    "\n",
    "#### Waze data"
   ]
  },
  {
   "cell_type": "code",
   "execution_count": 6,
   "metadata": {},
   "outputs": [],
   "source": [
    "waze = get_clusters_waze_partner_alerts()"
   ]
  },
  {
   "cell_type": "markdown",
   "metadata": {},
   "source": [
    "#### Comando data"
   ]
  },
  {
   "cell_type": "code",
   "execution_count": 7,
   "metadata": {},
   "outputs": [
    {
     "name": "stdout",
     "output_type": "stream",
     "text": [
      "Comando open events: Request attempt (1) \n"
     ]
    }
   ],
   "source": [
    "comando = get_clusters_events()"
   ]
  },
  {
   "cell_type": "markdown",
   "metadata": {},
   "source": [
    "#### Probability data"
   ]
  },
  {
   "cell_type": "code",
   "execution_count": 8,
   "metadata": {},
   "outputs": [
    {
     "name": "stdout",
     "output_type": "stream",
     "text": [
      "Endpoint Request: /predict\n"
     ]
    }
   ],
   "source": [
    "prob = pd.DataFrame(last_prediction_record(mongo_timeout=1000*5, load_limit=500))"
   ]
  },
  {
   "cell_type": "markdown",
   "metadata": {},
   "source": [
    "## Append properties to geojson by id field"
   ]
  },
  {
   "cell_type": "markdown",
   "metadata": {},
   "source": [
    "#### Append waze data"
   ]
  },
  {
   "cell_type": "code",
   "execution_count": 9,
   "metadata": {},
   "outputs": [],
   "source": [
    "waze_drop = ['alerts_ids', 'waterbag_alerts_ids']\n",
    "\n",
    "clusters_geojson['features'] = update_props_by_id(        # for same lenght and order features and dataframes\n",
    "    clusters_geojson['features'],\n",
    "    waze,\n",
    "    id_col='sublabel',\n",
    "    id_col_df='cluster_id',\n",
    "    drop=waze_drop\n",
    ")"
   ]
  },
  {
   "cell_type": "markdown",
   "metadata": {},
   "source": [
    "#### Append comando data"
   ]
  },
  {
   "cell_type": "code",
   "execution_count": 10,
   "metadata": {},
   "outputs": [],
   "source": [
    "comando_drop = ['events_ids', 'waterbag_events_ids']\n",
    "\n",
    "clusters_geojson['features'] = update_props_by_id(        # for same lenght and order features and dataframes\n",
    "    clusters_geojson['features'],\n",
    "    comando,\n",
    "    id_col='sublabel',\n",
    "    id_col_df='cluster_id',\n",
    "    drop=comando_drop\n",
    ")"
   ]
  },
  {
   "cell_type": "markdown",
   "metadata": {},
   "source": [
    "#### Append probability data"
   ]
  },
  {
   "cell_type": "code",
   "execution_count": 11,
   "metadata": {},
   "outputs": [],
   "source": [
    "prob_drop = ['_id', 'cluster', 'range']\n",
    "\n",
    "clusters_geojson['features'] = update_props_by_id(        # for same lenght and order features and dataframes\n",
    "    clusters_geojson['features'],\n",
    "    prob,\n",
    "    id_col='sublabel',\n",
    "    id_col_df='cluster_id',\n",
    "    drop=prob_drop\n",
    ")"
   ]
  },
  {
   "cell_type": "markdown",
   "metadata": {},
   "source": [
    "---\n",
    "## Build full dinamic geojson polygons endpoint"
   ]
  },
  {
   "cell_type": "code",
   "execution_count": 22,
   "metadata": {},
   "outputs": [],
   "source": [
    "# ---\n",
    "# Local resources\n",
    "\n",
    "#### Load clusters\n",
    "clusters_df = pd.read_csv('static/clusters/clusters_micro.csv')\n",
    "clusters_df = clusters_df[clusters_df['sublabel'] != -1]\n",
    "\n",
    "# ---\n",
    "# Clusters endpoint settings\n",
    "\n",
    "#### Clusters geojson properties settings\n",
    "geometry_cols = ['lng_min', 'lng_max', 'lat_min', 'lat_max']\n",
    "keep_cols_clusters = [\n",
    "    'sublabel', 'main_neighborhood', 'main_route', 'main_street_number_range',\n",
    "    'lat_centroid', 'lng_centroid', 'label_count', 'area_box', 'area_circle'\n",
    "]\n",
    "main_cols_clusters = keep_cols_clusters + geometry_cols\n",
    "waze_drop = []\n",
    "comando_drop = []\n",
    "prob_drop = ['_id', 'cluster', 'range']\n",
    "\n",
    "# ---\n",
    "# Dinamic clusters endpoint functions\n",
    "\n",
    "## Get and append current monitoring data to json\n",
    "def clusters_status(keep_geometry=False):\n",
    "    cols = keep_cols_clusters\n",
    "    if keep_geometry: cols += geometry_cols\n",
    "    objs = deepcopy(clusters_df[cols]) # Copy features to keep originals intact\n",
    "    waze = get_clusters_waze_partner_alerts() # Waze data\n",
    "    comando = get_clusters_events() # Comando data\n",
    "    prob = pd.DataFrame(last_prediction_record(mongo_timeout=1000*5, load_limit=500)) # Probability data\n",
    "    for df, drop_cols in zip([waze, comando, prob], [waze_drop, comando_drop, prob_drop]):\n",
    "        objs = objs.join(df.set_index('cluster_id').drop(drop_cols, axis=1), on='sublabel')\n",
    "    return objs"
   ]
  },
  {
   "cell_type": "markdown",
   "metadata": {},
   "source": [
    "## See final result"
   ]
  },
  {
   "cell_type": "code",
   "execution_count": 23,
   "metadata": {},
   "outputs": [
    {
     "name": "stdout",
     "output_type": "stream",
     "text": [
      "Comando open events: Request attempt (1) \n",
      "Endpoint Request: /predict\n"
     ]
    },
    {
     "data": {
      "text/html": [
       "<div>\n",
       "<style scoped>\n",
       "    .dataframe tbody tr th:only-of-type {\n",
       "        vertical-align: middle;\n",
       "    }\n",
       "\n",
       "    .dataframe tbody tr th {\n",
       "        vertical-align: top;\n",
       "    }\n",
       "\n",
       "    .dataframe thead th {\n",
       "        text-align: right;\n",
       "    }\n",
       "</style>\n",
       "<table border=\"1\" class=\"dataframe\">\n",
       "  <thead>\n",
       "    <tr style=\"text-align: right;\">\n",
       "      <th></th>\n",
       "      <th>sublabel</th>\n",
       "      <th>main_neighborhood</th>\n",
       "      <th>main_route</th>\n",
       "      <th>main_street_number_range</th>\n",
       "      <th>lat_centroid</th>\n",
       "      <th>lng_centroid</th>\n",
       "      <th>label_count</th>\n",
       "      <th>area_box</th>\n",
       "      <th>area_circle</th>\n",
       "      <th>lng_min</th>\n",
       "      <th>...</th>\n",
       "      <th>events_status</th>\n",
       "      <th>waterbag_events</th>\n",
       "      <th>waterbag_events_ids</th>\n",
       "      <th>waterbag_events_status</th>\n",
       "      <th>timestamp</th>\n",
       "      <th>date</th>\n",
       "      <th>time</th>\n",
       "      <th>probability</th>\n",
       "      <th>confidence</th>\n",
       "      <th>label</th>\n",
       "    </tr>\n",
       "  </thead>\n",
       "  <tbody>\n",
       "    <tr>\n",
       "      <th>1</th>\n",
       "      <td>0</td>\n",
       "      <td>Barra da Tijuca</td>\n",
       "      <td>Avenida Armando Lombardi</td>\n",
       "      <td>3098 - 67</td>\n",
       "      <td>-23.006631</td>\n",
       "      <td>-43.310232</td>\n",
       "      <td>114</td>\n",
       "      <td>0.047620</td>\n",
       "      <td>0.178174</td>\n",
       "      <td>-43.312829</td>\n",
       "      <td>...</td>\n",
       "      <td>0</td>\n",
       "      <td>0</td>\n",
       "      <td>[]</td>\n",
       "      <td>0</td>\n",
       "      <td>2022-12-22 03:20:00.003000</td>\n",
       "      <td>2022-12-22</td>\n",
       "      <td>00:20:00</td>\n",
       "      <td>0.630775</td>\n",
       "      <td>0.261550</td>\n",
       "      <td>1.0</td>\n",
       "    </tr>\n",
       "    <tr>\n",
       "      <th>2</th>\n",
       "      <td>1</td>\n",
       "      <td>Catete</td>\n",
       "      <td>Rua do Catete</td>\n",
       "      <td>228 - 139</td>\n",
       "      <td>-22.926423</td>\n",
       "      <td>-43.176842</td>\n",
       "      <td>99</td>\n",
       "      <td>0.057771</td>\n",
       "      <td>0.077165</td>\n",
       "      <td>-43.178604</td>\n",
       "      <td>...</td>\n",
       "      <td>0</td>\n",
       "      <td>0</td>\n",
       "      <td>[]</td>\n",
       "      <td>0</td>\n",
       "      <td>2022-12-22 03:20:00.003000</td>\n",
       "      <td>2022-12-22</td>\n",
       "      <td>00:20:00</td>\n",
       "      <td>0.365749</td>\n",
       "      <td>0.268502</td>\n",
       "      <td>0.0</td>\n",
       "    </tr>\n",
       "    <tr>\n",
       "      <th>3</th>\n",
       "      <td>2</td>\n",
       "      <td>Copacabana</td>\n",
       "      <td>Rua Tonelero</td>\n",
       "      <td>236 - 9</td>\n",
       "      <td>-22.966793</td>\n",
       "      <td>-43.185999</td>\n",
       "      <td>43</td>\n",
       "      <td>0.040122</td>\n",
       "      <td>0.042480</td>\n",
       "      <td>-43.187500</td>\n",
       "      <td>...</td>\n",
       "      <td>0</td>\n",
       "      <td>0</td>\n",
       "      <td>[]</td>\n",
       "      <td>0</td>\n",
       "      <td>2022-12-22 03:20:00.003000</td>\n",
       "      <td>2022-12-22</td>\n",
       "      <td>00:20:00</td>\n",
       "      <td>0.126498</td>\n",
       "      <td>0.747004</td>\n",
       "      <td>0.0</td>\n",
       "    </tr>\n",
       "    <tr>\n",
       "      <th>4</th>\n",
       "      <td>3</td>\n",
       "      <td>Ipanema</td>\n",
       "      <td>Avenida Epitácio Pessoa</td>\n",
       "      <td>1910 - 1602</td>\n",
       "      <td>-22.979735</td>\n",
       "      <td>-43.202540</td>\n",
       "      <td>36</td>\n",
       "      <td>0.039586</td>\n",
       "      <td>0.069447</td>\n",
       "      <td>-43.204100</td>\n",
       "      <td>...</td>\n",
       "      <td>0</td>\n",
       "      <td>0</td>\n",
       "      <td>[]</td>\n",
       "      <td>0</td>\n",
       "      <td>2022-12-22 03:20:00.003000</td>\n",
       "      <td>2022-12-22</td>\n",
       "      <td>00:20:00</td>\n",
       "      <td>0.051667</td>\n",
       "      <td>0.896666</td>\n",
       "      <td>0.0</td>\n",
       "    </tr>\n",
       "    <tr>\n",
       "      <th>5</th>\n",
       "      <td>4</td>\n",
       "      <td>Barra da Tijuca</td>\n",
       "      <td>Avenida Ministro Ivan Lins</td>\n",
       "      <td>1770 - 11</td>\n",
       "      <td>-23.012736</td>\n",
       "      <td>-43.298339</td>\n",
       "      <td>36</td>\n",
       "      <td>0.052712</td>\n",
       "      <td>0.167301</td>\n",
       "      <td>-43.300486</td>\n",
       "      <td>...</td>\n",
       "      <td>0</td>\n",
       "      <td>0</td>\n",
       "      <td>[]</td>\n",
       "      <td>0</td>\n",
       "      <td>2022-12-22 03:20:00.003000</td>\n",
       "      <td>2022-12-22</td>\n",
       "      <td>00:20:00</td>\n",
       "      <td>0.819806</td>\n",
       "      <td>0.639613</td>\n",
       "      <td>1.0</td>\n",
       "    </tr>\n",
       "    <tr>\n",
       "      <th>...</th>\n",
       "      <td>...</td>\n",
       "      <td>...</td>\n",
       "      <td>...</td>\n",
       "      <td>...</td>\n",
       "      <td>...</td>\n",
       "      <td>...</td>\n",
       "      <td>...</td>\n",
       "      <td>...</td>\n",
       "      <td>...</td>\n",
       "      <td>...</td>\n",
       "      <td>...</td>\n",
       "      <td>...</td>\n",
       "      <td>...</td>\n",
       "      <td>...</td>\n",
       "      <td>...</td>\n",
       "      <td>...</td>\n",
       "      <td>...</td>\n",
       "      <td>...</td>\n",
       "      <td>...</td>\n",
       "      <td>...</td>\n",
       "      <td>...</td>\n",
       "    </tr>\n",
       "    <tr>\n",
       "      <th>75</th>\n",
       "      <td>76</td>\n",
       "      <td>Bangu</td>\n",
       "      <td>Rua da Feira</td>\n",
       "      <td>540 - 359</td>\n",
       "      <td>-22.880275</td>\n",
       "      <td>-43.472239</td>\n",
       "      <td>10</td>\n",
       "      <td>0.007294</td>\n",
       "      <td>0.055444</td>\n",
       "      <td>-43.472600</td>\n",
       "      <td>...</td>\n",
       "      <td>0</td>\n",
       "      <td>0</td>\n",
       "      <td>[]</td>\n",
       "      <td>0</td>\n",
       "      <td>NaN</td>\n",
       "      <td>NaN</td>\n",
       "      <td>NaN</td>\n",
       "      <td>NaN</td>\n",
       "      <td>NaN</td>\n",
       "      <td>NaN</td>\n",
       "    </tr>\n",
       "    <tr>\n",
       "      <th>76</th>\n",
       "      <td>77</td>\n",
       "      <td>Jardim Carioca</td>\n",
       "      <td>Rua Muiatuca</td>\n",
       "      <td>74 - 73</td>\n",
       "      <td>-22.805012</td>\n",
       "      <td>-43.196837</td>\n",
       "      <td>9</td>\n",
       "      <td>0.000534</td>\n",
       "      <td>0.000794</td>\n",
       "      <td>-43.197100</td>\n",
       "      <td>...</td>\n",
       "      <td>0</td>\n",
       "      <td>0</td>\n",
       "      <td>[]</td>\n",
       "      <td>0</td>\n",
       "      <td>NaN</td>\n",
       "      <td>NaN</td>\n",
       "      <td>NaN</td>\n",
       "      <td>NaN</td>\n",
       "      <td>NaN</td>\n",
       "      <td>NaN</td>\n",
       "    </tr>\n",
       "    <tr>\n",
       "      <th>77</th>\n",
       "      <td>78</td>\n",
       "      <td>Lagoa</td>\n",
       "      <td>Avenida Epitácio Pessoa</td>\n",
       "      <td>3000 - 1015</td>\n",
       "      <td>-22.972562</td>\n",
       "      <td>-43.203594</td>\n",
       "      <td>9</td>\n",
       "      <td>0.024048</td>\n",
       "      <td>0.055909</td>\n",
       "      <td>-43.204600</td>\n",
       "      <td>...</td>\n",
       "      <td>0</td>\n",
       "      <td>0</td>\n",
       "      <td>[]</td>\n",
       "      <td>0</td>\n",
       "      <td>NaN</td>\n",
       "      <td>NaN</td>\n",
       "      <td>NaN</td>\n",
       "      <td>NaN</td>\n",
       "      <td>NaN</td>\n",
       "      <td>NaN</td>\n",
       "    </tr>\n",
       "    <tr>\n",
       "      <th>78</th>\n",
       "      <td>81</td>\n",
       "      <td>Bangu</td>\n",
       "      <td>Rua Francisco Real</td>\n",
       "      <td>1365 - 974</td>\n",
       "      <td>-22.879638</td>\n",
       "      <td>-43.456768</td>\n",
       "      <td>9</td>\n",
       "      <td>0.046745</td>\n",
       "      <td>0.132317</td>\n",
       "      <td>-43.458700</td>\n",
       "      <td>...</td>\n",
       "      <td>0</td>\n",
       "      <td>0</td>\n",
       "      <td>[]</td>\n",
       "      <td>0</td>\n",
       "      <td>NaN</td>\n",
       "      <td>NaN</td>\n",
       "      <td>NaN</td>\n",
       "      <td>NaN</td>\n",
       "      <td>NaN</td>\n",
       "      <td>NaN</td>\n",
       "    </tr>\n",
       "    <tr>\n",
       "      <th>79</th>\n",
       "      <td>82</td>\n",
       "      <td>Guaratiba</td>\n",
       "      <td>Estrada da Pedra</td>\n",
       "      <td>5726 - 5291</td>\n",
       "      <td>-22.968270</td>\n",
       "      <td>-43.647878</td>\n",
       "      <td>9</td>\n",
       "      <td>0.000192</td>\n",
       "      <td>0.001747</td>\n",
       "      <td>-43.647900</td>\n",
       "      <td>...</td>\n",
       "      <td>0</td>\n",
       "      <td>0</td>\n",
       "      <td>[]</td>\n",
       "      <td>0</td>\n",
       "      <td>NaN</td>\n",
       "      <td>NaN</td>\n",
       "      <td>NaN</td>\n",
       "      <td>NaN</td>\n",
       "      <td>NaN</td>\n",
       "      <td>NaN</td>\n",
       "    </tr>\n",
       "  </tbody>\n",
       "</table>\n",
       "<p>79 rows × 31 columns</p>\n",
       "</div>"
      ],
      "text/plain": [
       "    sublabel main_neighborhood                  main_route  \\\n",
       "1          0   Barra da Tijuca    Avenida Armando Lombardi   \n",
       "2          1            Catete               Rua do Catete   \n",
       "3          2        Copacabana                Rua Tonelero   \n",
       "4          3           Ipanema     Avenida Epitácio Pessoa   \n",
       "5          4   Barra da Tijuca  Avenida Ministro Ivan Lins   \n",
       "..       ...               ...                         ...   \n",
       "75        76             Bangu                Rua da Feira   \n",
       "76        77    Jardim Carioca                Rua Muiatuca   \n",
       "77        78             Lagoa     Avenida Epitácio Pessoa   \n",
       "78        81             Bangu          Rua Francisco Real   \n",
       "79        82         Guaratiba            Estrada da Pedra   \n",
       "\n",
       "   main_street_number_range  lat_centroid  lng_centroid  label_count  \\\n",
       "1                 3098 - 67    -23.006631    -43.310232          114   \n",
       "2                 228 - 139    -22.926423    -43.176842           99   \n",
       "3                   236 - 9    -22.966793    -43.185999           43   \n",
       "4               1910 - 1602    -22.979735    -43.202540           36   \n",
       "5                 1770 - 11    -23.012736    -43.298339           36   \n",
       "..                      ...           ...           ...          ...   \n",
       "75                540 - 359    -22.880275    -43.472239           10   \n",
       "76                  74 - 73    -22.805012    -43.196837            9   \n",
       "77              3000 - 1015    -22.972562    -43.203594            9   \n",
       "78               1365 - 974    -22.879638    -43.456768            9   \n",
       "79              5726 - 5291    -22.968270    -43.647878            9   \n",
       "\n",
       "    area_box  area_circle    lng_min  ...  events_status  waterbag_events  \\\n",
       "1   0.047620     0.178174 -43.312829  ...              0                0   \n",
       "2   0.057771     0.077165 -43.178604  ...              0                0   \n",
       "3   0.040122     0.042480 -43.187500  ...              0                0   \n",
       "4   0.039586     0.069447 -43.204100  ...              0                0   \n",
       "5   0.052712     0.167301 -43.300486  ...              0                0   \n",
       "..       ...          ...        ...  ...            ...              ...   \n",
       "75  0.007294     0.055444 -43.472600  ...              0                0   \n",
       "76  0.000534     0.000794 -43.197100  ...              0                0   \n",
       "77  0.024048     0.055909 -43.204600  ...              0                0   \n",
       "78  0.046745     0.132317 -43.458700  ...              0                0   \n",
       "79  0.000192     0.001747 -43.647900  ...              0                0   \n",
       "\n",
       "    waterbag_events_ids  waterbag_events_status                   timestamp  \\\n",
       "1                    []                       0  2022-12-22 03:20:00.003000   \n",
       "2                    []                       0  2022-12-22 03:20:00.003000   \n",
       "3                    []                       0  2022-12-22 03:20:00.003000   \n",
       "4                    []                       0  2022-12-22 03:20:00.003000   \n",
       "5                    []                       0  2022-12-22 03:20:00.003000   \n",
       "..                  ...                     ...                         ...   \n",
       "75                   []                       0                         NaN   \n",
       "76                   []                       0                         NaN   \n",
       "77                   []                       0                         NaN   \n",
       "78                   []                       0                         NaN   \n",
       "79                   []                       0                         NaN   \n",
       "\n",
       "          date      time probability  confidence  label  \n",
       "1   2022-12-22  00:20:00    0.630775    0.261550    1.0  \n",
       "2   2022-12-22  00:20:00    0.365749    0.268502    0.0  \n",
       "3   2022-12-22  00:20:00    0.126498    0.747004    0.0  \n",
       "4   2022-12-22  00:20:00    0.051667    0.896666    0.0  \n",
       "5   2022-12-22  00:20:00    0.819806    0.639613    1.0  \n",
       "..         ...       ...         ...         ...    ...  \n",
       "75         NaN       NaN         NaN         NaN    NaN  \n",
       "76         NaN       NaN         NaN         NaN    NaN  \n",
       "77         NaN       NaN         NaN         NaN    NaN  \n",
       "78         NaN       NaN         NaN         NaN    NaN  \n",
       "79         NaN       NaN         NaN         NaN    NaN  \n",
       "\n",
       "[79 rows x 31 columns]"
      ]
     },
     "execution_count": 23,
     "metadata": {},
     "output_type": "execute_result"
    }
   ],
   "source": [
    "clusters_now = clusters_status(keep_geometry=True)\n",
    "\n",
    "clusters_now"
   ]
  }
 ],
 "metadata": {
  "kernelspec": {
   "display_name": "Python 3",
   "language": "python",
   "name": "python3"
  },
  "language_info": {
   "codemirror_mode": {
    "name": "ipython",
    "version": 3
   },
   "file_extension": ".py",
   "mimetype": "text/x-python",
   "name": "python",
   "nbconvert_exporter": "python",
   "pygments_lexer": "ipython3",
   "version": "3.8.3"
  }
 },
 "nbformat": 4,
 "nbformat_minor": 4
}
