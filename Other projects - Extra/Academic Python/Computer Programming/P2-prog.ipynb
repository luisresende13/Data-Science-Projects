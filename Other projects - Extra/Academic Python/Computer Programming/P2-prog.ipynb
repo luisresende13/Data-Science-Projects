{
 "cells": [
  {
   "cell_type": "code",
   "execution_count": 1,
   "metadata": {},
   "outputs": [],
   "source": [
    "import math"
   ]
  },
  {
   "cell_type": "code",
   "execution_count": 17,
   "metadata": {},
   "outputs": [
    {
     "data": {
      "text/plain": [
       "[[1, 0, 0, 0, 0, 0, 0, 0, 0, 0],\n",
       " [0, 1, 0, 0, 0, 0, 0, 0, 0, 0],\n",
       " [0, 0, 1, 0, 0, 0, 0, 0, 0, 0],\n",
       " [0, 0, 0, 1, 0, 0, 0, 0, 0, 0],\n",
       " [0, 0, 0, 0, 1, 0, 0, 0, 0, 0],\n",
       " [0, 0, 0, 0, 0, 1, 0, 0, 0, 0],\n",
       " [0, 0, 0, 0, 0, 0, 1, 0, 0, 0],\n",
       " [0, 0, 0, 0, 0, 0, 0, 1, 0, 0],\n",
       " [0, 0, 0, 0, 0, 0, 0, 0, 1, 0],\n",
       " [0, 0, 0, 0, 0, 0, 0, 0, 0, 1]]"
      ]
     },
     "execution_count": 17,
     "metadata": {},
     "output_type": "execute_result"
    }
   ],
   "source": [
    "matrix = [[0 if i!=j else 1 for i in range(10)] for j in range(10)]\n",
    "\n",
    "matrix"
   ]
  },
  {
   "cell_type": "code",
   "execution_count": 124,
   "metadata": {},
   "outputs": [
    {
     "name": "stdout",
     "output_type": "stream",
     "text": [
      "[[1, 1, 1, 1, 1, 1, 1, 1, 1, 1], [1, 1, 1, 1, 1, 1, 1, 1, 1, 1], [1, 1, 1, 1, 1, 1, 1, 1, 1, 1], [1, 1, 1, 1, 1, 1, 1, 1, 1, 1], [1, 1, 1, 1, 1, 1, 1, 1, 1, 1], [1, 1, 1, 1, 1, 1, 1, 1, 1, 1], [1, 1, 1, 1, 1, 1, 1, 1, 1, 1], [1, 1, 1, 1, 1, 1, 1, 1, 1, 1], [1, 1, 1, 1, 1, 1, 1, 1, 1, 1], [1, 1, 1, 1, 1, 1, 1, 1, 1, 1]]\n",
      "Matriz é simétrica\n"
     ]
    }
   ],
   "source": [
    "matrix = []\n",
    "\n",
    "for i in range(1, 11):\n",
    "          \n",
    "    linha = []\n",
    "    for j in range(1, 11):\n",
    "#        linha.append(float(input('Insira um número real (casas decimáis separadas por pontos):')))\n",
    "        linha.append(1)\n",
    "    matrix.append(linha)\n",
    "    \n",
    "verificação = []\n",
    "cont = 0\n",
    "\n",
    "for i in range(10):\n",
    "    \n",
    "    linha_i = matrix[i]    \n",
    "    coluna_i = [] \n",
    "    \n",
    "    for j in range(10):    \n",
    "        coluna_i.append(matrix[j][i])\n",
    "    \n",
    "    verificação.append(linha_i==coluna_i)\n",
    "\n",
    "print(matrix)\n",
    "if False in verificação: print('Matriz não é simétrica')\n",
    "else: print('Matriz é simétrica')"
   ]
  },
  {
   "cell_type": "code",
   "execution_count": 23,
   "metadata": {},
   "outputs": [
    {
     "data": {
      "text/plain": [
       "[10.111,\n",
       " 5.111,\n",
       " 3.4443333333333337,\n",
       " 2.611,\n",
       " 2.111,\n",
       " 1.7776666666666667,\n",
       " 1.5395714285714286,\n",
       " 1.361,\n",
       " 1.2221111111111111,\n",
       " 1.111]"
      ]
     },
     "execution_count": 23,
     "metadata": {},
     "output_type": "execute_result"
    }
   ],
   "source": [
    "max(matrix)"
   ]
  },
  {
   "cell_type": "code",
   "execution_count": 54,
   "metadata": {},
   "outputs": [],
   "source": [
    "matriz = [[0,0,0,0], [0,10,0,0], [0,4,8,0]]"
   ]
  },
  {
   "cell_type": "code",
   "execution_count": 55,
   "metadata": {},
   "outputs": [
    {
     "data": {
      "text/plain": [
       "[0, 10, 0, 0]"
      ]
     },
     "execution_count": 55,
     "metadata": {},
     "output_type": "execute_result"
    }
   ],
   "source": [
    "max(matriz)"
   ]
  },
  {
   "cell_type": "code",
   "execution_count": 141,
   "metadata": {},
   "outputs": [],
   "source": [
    "def find_max_min(matriz):\n",
    "    \n",
    "    n = len(matriz)\n",
    "    norma = 0\n",
    "    \n",
    "    item = matriz[0][0]\n",
    "    maximo, minimo = item, item\n",
    "    posicao_max = [1, 1]\n",
    "    posicao_min = [1, 1]\n",
    "    \n",
    "    for i in range(n):        \n",
    "        for j in range(n):\n",
    "            \n",
    "            item = matriz[i][j]            \n",
    "            norma += item**2\n",
    "                            \n",
    "            if item > maximo: \n",
    "                maximo = item\n",
    "                posicao_max = [i+1, j+1]\n",
    "                \n",
    "            if item < minimo: \n",
    "                minimo = item\n",
    "                posicao_min = [i+1, j+1]\n",
    "    \n",
    "    norma = norma**(1/2)\n",
    "    print('Máximo: ', maximo)\n",
    "    print('Posição máximo', posicao_max)\n",
    "    print('Mínimo: ', minimo)\n",
    "    print('Posição mínimo', posicao_min)\n",
    "    print('Norma Euclidiana da Matriz:')\n",
    "    \n",
    "    return norma"
   ]
  },
  {
   "cell_type": "code",
   "execution_count": 144,
   "metadata": {},
   "outputs": [],
   "source": [
    "matriz = [[-20,-12,3, 0, 0], [0,-3, 0, 0, 0], [3, 0, 27, 56, 0], [0,0,0,0,0], [0,0,0,0,0]]"
   ]
  },
  {
   "cell_type": "code",
   "execution_count": 145,
   "metadata": {},
   "outputs": [
    {
     "name": "stdout",
     "output_type": "stream",
     "text": [
      "Máximo:  56\n",
      "Posição máximo [3, 4]\n",
      "Mínimo:  -20\n",
      "Posição mínimo [1, 1]\n",
      "Norma Euclidiana da Matriz:\n"
     ]
    },
    {
     "data": {
      "text/plain": [
       "66.60330322138685"
      ]
     },
     "execution_count": 145,
     "metadata": {},
     "output_type": "execute_result"
    }
   ],
   "source": [
    "find_max_min(matriz)"
   ]
  },
  {
   "cell_type": "code",
   "execution_count": null,
   "metadata": {},
   "outputs": [],
   "source": []
  },
  {
   "cell_type": "code",
   "execution_count": null,
   "metadata": {},
   "outputs": [],
   "source": []
  },
  {
   "cell_type": "code",
   "execution_count": 101,
   "metadata": {},
   "outputs": [],
   "source": [
    "def interseção(v1, v2):\n",
    "    \n",
    "    vetor_interseção = []\n",
    "    \n",
    "    for item in v1:\n",
    "        if item in v2 and item not in vetor_interseção: vetor_interseção.append(item)\n",
    "   \n",
    "    for item in v2:\n",
    "        if item in v1 and item not in vetor_interseção: vetor_interseção.append(item)\n",
    "\n",
    "    print('Vetor Interseção:', vetor_interseção)"
   ]
  },
  {
   "cell_type": "code",
   "execution_count": 102,
   "metadata": {},
   "outputs": [
    {
     "name": "stdout",
     "output_type": "stream",
     "text": [
      "Vetor Interseção: [5, 6, 7, 8, 9]\n"
     ]
    }
   ],
   "source": [
    "interseção(list(range(10)), list(range(5,15)))"
   ]
  },
  {
   "cell_type": "code",
   "execution_count": 103,
   "metadata": {},
   "outputs": [
    {
     "name": "stdout",
     "output_type": "stream",
     "text": [
      "Números Perfeitos:\n"
     ]
    },
    {
     "data": {
      "text/plain": [
       "[6, 28, 496]"
      ]
     },
     "execution_count": 103,
     "metadata": {},
     "output_type": "execute_result"
    }
   ],
   "source": [
    "def numeros_perfeitos():\n",
    "    \n",
    "    cnt = 0\n",
    "    n=0\n",
    "    perfeitos = []\n",
    "    \n",
    "    while cnt < 3:\n",
    "    \n",
    "        n+=1\n",
    "        divisores_de_n = []\n",
    "\n",
    "        for i in range(1, n):\n",
    "            if n%i == 0: divisores_de_n.append(i)\n",
    "            \n",
    "        if n == sum(divisores_de_n): \n",
    "            perfeitos.append(n)\n",
    "            cnt += 1\n",
    "    \n",
    "    print('Números Perfeitos:')\n",
    "    return perfeitos\n",
    "    \n",
    "\n",
    "numeros_perfeitos()"
   ]
  },
  {
   "cell_type": "code",
   "execution_count": 146,
   "metadata": {},
   "outputs": [],
   "source": [
    "R = 2"
   ]
  },
  {
   "cell_type": "code",
   "execution_count": 150,
   "metadata": {},
   "outputs": [
    {
     "data": {
      "text/plain": [
       "12.566370614359172"
      ]
     },
     "execution_count": 150,
     "metadata": {},
     "output_type": "execute_result"
    }
   ],
   "source": [
    "C = 2*np.pi*R; C"
   ]
  },
  {
   "cell_type": "code",
   "execution_count": 151,
   "metadata": {},
   "outputs": [
    {
     "data": {
      "text/plain": [
       "1.5707963267948966"
      ]
     },
     "execution_count": 151,
     "metadata": {},
     "output_type": "execute_result"
    }
   ],
   "source": [
    "C/8"
   ]
  },
  {
   "cell_type": "code",
   "execution_count": 148,
   "metadata": {},
   "outputs": [],
   "source": [
    "import numpy as np"
   ]
  },
  {
   "cell_type": "code",
   "execution_count": null,
   "metadata": {},
   "outputs": [],
   "source": []
  }
 ],
 "metadata": {
  "kernelspec": {
   "display_name": "Python 3",
   "language": "python",
   "name": "python3"
  },
  "language_info": {
   "codemirror_mode": {
    "name": "ipython",
    "version": 3
   },
   "file_extension": ".py",
   "mimetype": "text/x-python",
   "name": "python",
   "nbconvert_exporter": "python",
   "pygments_lexer": "ipython3",
   "version": "3.8.3"
  }
 },
 "nbformat": 4,
 "nbformat_minor": 4
}
