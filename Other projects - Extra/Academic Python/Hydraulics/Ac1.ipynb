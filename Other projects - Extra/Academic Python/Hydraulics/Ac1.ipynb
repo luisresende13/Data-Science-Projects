{
 "cells": [
  {
   "cell_type": "code",
   "execution_count": 1,
   "metadata": {},
   "outputs": [],
   "source": [
    "import numpy as np"
   ]
  },
  {
   "cell_type": "code",
   "execution_count": 20,
   "metadata": {},
   "outputs": [
    {
     "data": {
      "text/plain": [
       "0.0006"
      ]
     },
     "execution_count": 20,
     "metadata": {},
     "output_type": "execute_result"
    }
   ],
   "source": [
    "6e-4"
   ]
  },
  {
   "cell_type": "code",
   "execution_count": 45,
   "metadata": {},
   "outputs": [
    {
     "name": "stdout",
     "output_type": "stream",
     "text": [
      "patm 99000\n",
      "Pressão da coluna: 93208.83209999999\n",
      "Pressão do gas: -5791.167900000015\n",
      "massa (mg): -79.68296272274776\n"
     ]
    }
   ],
   "source": [
    "\n",
    "    A1 = 5e-4 # m2\n",
    "    patm = 99000 # Pa\n",
    "    T = 0 # C°\n",
    "    h1 = 13 # m\n",
    "    h2 = 9.53 # # m\n",
    "    p = 997 # Kg/m3\n",
    "    Mh2o = 0.018 # kg/mol\n",
    "    R = 8.314 # N.m/mol.K\n",
    "    g = 9.81 # m/s2\n",
    "    \n",
    "    T = T + 273  # K\n",
    "    \n",
    "    V = A1 * (h1-h2)\n",
    "    P1 = p*g*h2 - patm\n",
    "    n = P1*V/(R*T)\n",
    "    m = n*Mh2o\n",
    "    \n",
    "    print('patm', patm)\n",
    "    print('Pressão da coluna:', p*g*h2)\n",
    "    print('Pressão do gas:', P1)\n",
    "    print('massa (mg):', m*10**(6))"
   ]
  },
  {
   "cell_type": "code",
   "execution_count": 47,
   "metadata": {},
   "outputs": [
    {
     "name": "stdout",
     "output_type": "stream",
     "text": [
      "acrescimo de massa: 201.0619298297467\n",
      "altura: 0.0761932262086015\n"
     ]
    }
   ],
   "source": [
    "m1 = 70\n",
    "m2 = 1200\n",
    "d2 = 2\n",
    "r2 = d2/2\n",
    "p = 800\n",
    "g = 9.81\n",
    "h = 0.08\n",
    "F1 = m1*g\n",
    "F2 = m2*g\n",
    "A2 = np.pi*r2**2\n",
    "A1 = F1 / (F2/A2 + p*g*h)\n",
    "\n",
    "dF = F1*A2 / A1 - F2\n",
    "hp = A2*h/(A1+A2)\n",
    "print('acrescimo de massa:', dF/g)\n",
    "print('altura:', hp)"
   ]
  },
  {
   "cell_type": "code",
   "execution_count": 41,
   "metadata": {},
   "outputs": [
    {
     "name": "stdout",
     "output_type": "stream",
     "text": [
      "Pressão 1: 427725.0\n",
      "h: 0.2768270916929465\n"
     ]
    }
   ],
   "source": [
    "    \n",
    "    V3 = 8\n",
    "    A1 = 12e-4\n",
    "    A2 = 5.6e-4\n",
    "    A3 = 6e-4\n",
    "    patm = 101325\n",
    "    p = 13600\n",
    "    \n",
    "    Q = A3*V3\n",
    "    V2 = Q / A2\n",
    "    V1 = Q / A1\n",
    "    p2 = patm + (p*V3**2)/2 - (p*V2**2)/2\n",
    "\n",
    "    p1 = patm + (p*V3**2)/2 - (p*V1**2)/2\n",
    "    h = p2/(p*g)\n",
    "    \n",
    "    print('Pressão 1:', p1)\n",
    "    print('h:', h)"
   ]
  },
  {
   "cell_type": "code",
   "execution_count": 50,
   "metadata": {},
   "outputs": [
    {
     "name": "stdout",
     "output_type": "stream",
     "text": [
      "Velocidade nivel superior -  CHEIO: 0.0005602856862594366\n",
      "Velocidade nivel superior -  MEIO CHEIO: 0.00152319202212924\n"
     ]
    }
   ],
   "source": [
    "    #V2 = A1*V1/A2\n",
    "    #V1 = (((p/2) * V2**2 + z2 - z1)*2/p)**0.5\n",
    "    r1 = 0.002 #m\n",
    "    r2 = 0.1 #m\n",
    "    z1 = 0 #m\n",
    "    z2 = 0.1 #m\n",
    "    z3 = 0.05 #m\n",
    "    p = 1000 # Kg/m3\n",
    "    g = 9.81 # m/s2\n",
    "    gama = p*g # N/m3\n",
    "    \n",
    "    r3 = r1 + (r2-r1)/2 # m\n",
    "    #r3 = 0.05\n",
    "    A1 = np.pi*r1**2 # m2\n",
    "    A2 = np.pi*r2**2 # m2\n",
    "    A3 = np.pi*r3**2 # m2\n",
    "    \n",
    "    \n",
    "    \n",
    "    V1 = ( 2*gama*(z2-z1) / ( p * (1 - (A1/A2)**2) ) )**0.5\n",
    "    V2 = ( 2*gama*(z1-z2) / ( p * (1 - (A2/A1)**2) ) )**0.5\n",
    "    \n",
    "    V3 = ( 2*gama*(z1-z3) / ( p * (1 - (A3/A1)**2) ) )**0.5\n",
    "    \n",
    "    \n",
    "#    V1 = ((- z1 + z2) / (1/2 - ((p/2)*(A1/A2)**2)))**0.5\n",
    "    print('Velocidade nivel superior -  CHEIO:', V2)\n",
    "    print('Velocidade nivel superior -  MEIO CHEIO:', V3)\n",
    "  "
   ]
  },
  {
   "cell_type": "code",
   "execution_count": 43,
   "metadata": {},
   "outputs": [
    {
     "name": "stdout",
     "output_type": "stream",
     "text": [
      "altura: 1.4000000000000001\n",
      "altura: 1.4000000000000001\n"
     ]
    }
   ],
   "source": [
    "  \n",
    "    \n",
    "    g = -9.81 # m/s2\n",
    "\n",
    "    def altura(g):\n",
    "        p = 1000 # Kg/m3\n",
    "        d = 0.6\n",
    "        p_obj = 0.3*p\n",
    "\n",
    "        a = -g* (p/p_obj - 1)\n",
    "        Vf = (2*a*d)**0.5\n",
    "        D = - (Vf**2)/(2*g)\n",
    "        print('altura:', D)\n",
    "    \n",
    "    altura(g)\n",
    "    altura(4*g)"
   ]
  },
  {
   "cell_type": "code",
   "execution_count": null,
   "metadata": {},
   "outputs": [],
   "source": [
    "#### control: 1\n",
    "m1: 70\n",
    "m2: 1200\n",
    "d2: 2\n",
    "p: 800\n",
    "g: 9.81\n",
    "h: 8\n",
    "acrescimo de massa: 201.0619298297467\n",
    "altura: 0.0761932262086015"
   ]
  },
  {
   "cell_type": "code",
   "execution_count": null,
   "metadata": {},
   "outputs": [],
   "source": []
  }
 ],
 "metadata": {
  "kernelspec": {
   "display_name": "Python 3",
   "language": "python",
   "name": "python3"
  },
  "language_info": {
   "codemirror_mode": {
    "name": "ipython",
    "version": 3
   },
   "file_extension": ".py",
   "mimetype": "text/x-python",
   "name": "python",
   "nbconvert_exporter": "python",
   "pygments_lexer": "ipython3",
   "version": "3.8.3"
  }
 },
 "nbformat": 4,
 "nbformat_minor": 4
}
