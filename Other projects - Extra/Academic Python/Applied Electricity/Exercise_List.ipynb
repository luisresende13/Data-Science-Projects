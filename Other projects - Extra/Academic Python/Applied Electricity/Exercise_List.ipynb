{
 "cells": [
  {
   "cell_type": "code",
   "execution_count": 2,
   "metadata": {},
   "outputs": [],
   "source": [
    "import numpy as np\n",
    "import pandas as pd"
   ]
  },
  {
   "cell_type": "markdown",
   "metadata": {},
   "source": [
    "* ρ = ρ0 * [1 + αR * (T − 25°C)]"
   ]
  },
  {
   "cell_type": "code",
   "execution_count": 52,
   "metadata": {},
   "outputs": [
    {
     "data": {
      "text/plain": [
       "(4.362875e-06, 7.723750000000001e-07, 229206.65845342807, 1294707.8815342288)"
      ]
     },
     "execution_count": 52,
     "metadata": {},
     "output_type": "execute_result"
    }
   ],
   "source": [
    "# Cobre (Cu)\n",
    "ρ0 = 1.67e-6 # ohm.cm\n",
    "αR = 0.0043 # ohm/ohm.°C\n",
    "T1, T2 = 400, -100 # °C\n",
    "\n",
    "ρ1 = ρ0 * (1 + αR * (T1 - 25))  # Resistividade\n",
    "ρ2 = ρ0 * (1 + αR * (T2 - 25))  # Resistividade\n",
    "σ1 = 1/ρ1\n",
    "σ2 = 1/ρ2\n",
    "ρ1, ρ2, σ1, σ2"
   ]
  },
  {
   "cell_type": "code",
   "execution_count": 53,
   "metadata": {},
   "outputs": [
    {
     "data": {
      "text/plain": [
       "(3.3003e-06, 2.9258099999999997e-05, 303002.75732509163, 34178.56935344401)"
      ]
     },
     "execution_count": 53,
     "metadata": {},
     "output_type": "execute_result"
    }
   ],
   "source": [
    "# Níquel (Ni)\n",
    "ρ0 = 6.84e-6 # ohm.cm\n",
    "αR = 0.0069 # ohm/ohm.°C\n",
    "T1, T2 = -50, 500 # °C\n",
    "\n",
    "ρ1 = ρ0 * (1 + αR * (T1 - 25))  # Resistividade\n",
    "ρ2 = ρ0 * (1 + αR * (T2 - 25))  # Resistividade\n",
    "σ1 = 1/ρ1\n",
    "σ2 = 1/ρ2\n",
    "ρ1, ρ2, σ1, σ2"
   ]
  },
  {
   "cell_type": "code",
   "execution_count": null,
   "metadata": {},
   "outputs": [],
   "source": []
  }
 ],
 "metadata": {
  "kernelspec": {
   "display_name": "Python 3",
   "language": "python",
   "name": "python3"
  },
  "language_info": {
   "codemirror_mode": {
    "name": "ipython",
    "version": 3
   },
   "file_extension": ".py",
   "mimetype": "text/x-python",
   "name": "python",
   "nbconvert_exporter": "python",
   "pygments_lexer": "ipython3",
   "version": "3.8.3"
  }
 },
 "nbformat": 4,
 "nbformat_minor": 4
}
