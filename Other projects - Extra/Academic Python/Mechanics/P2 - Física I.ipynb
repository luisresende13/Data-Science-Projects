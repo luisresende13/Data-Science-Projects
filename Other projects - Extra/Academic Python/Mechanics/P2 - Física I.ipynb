{
 "cells": [
  {
   "cell_type": "code",
   "execution_count": 1,
   "metadata": {},
   "outputs": [],
   "source": [
    "import numpy as np"
   ]
  },
  {
   "cell_type": "code",
   "execution_count": null,
   "metadata": {},
   "outputs": [],
   "source": [
    "Iminência de movimento blocos A e B"
   ]
  },
  {
   "cell_type": "markdown",
   "metadata": {},
   "source": [
    "### Blocos de massa M e 2M"
   ]
  },
  {
   "cell_type": "code",
   "execution_count": 65,
   "metadata": {},
   "outputs": [],
   "source": [
    "F = 40 # N\n",
    "M = 1.5 # Kg\n",
    "g = 9.8 # m/s2\n",
    "\n",
    "T = (F + 2*M*g)/3"
   ]
  },
  {
   "cell_type": "code",
   "execution_count": 66,
   "metadata": {},
   "outputs": [
    {
     "data": {
      "text/plain": [
       "23.133333333333336"
      ]
     },
     "execution_count": 66,
     "metadata": {},
     "output_type": "execute_result"
    }
   ],
   "source": [
    "T"
   ]
  },
  {
   "cell_type": "markdown",
   "metadata": {},
   "source": [
    "### Blocos de massa m1 e m2\n",
    "Blocos de massa P e Q"
   ]
  },
  {
   "cell_type": "markdown",
   "metadata": {},
   "source": [
    "### Prego"
   ]
  },
  {
   "cell_type": "code",
   "execution_count": 58,
   "metadata": {},
   "outputs": [
    {
     "name": "stdout",
     "output_type": "stream",
     "text": [
      "V = 1.6978246952062437 m/s\n",
      "T = 4.810944806254708 s\n"
     ]
    }
   ],
   "source": [
    "Fcp = 51 # N\n",
    "m = 23 # Kg\n",
    "L = 1.3 # m\n",
    "\n",
    "V = (Fcp*L/m)**(1/2)\n",
    "\n",
    "T = 2*np.pi*L / V\n",
    "\n",
    "print('V =',V, 'm/s')\n",
    "print('T =',T, 's')\n"
   ]
  },
  {
   "cell_type": "markdown",
   "metadata": {},
   "source": [
    "### Polia Dupla"
   ]
  },
  {
   "cell_type": "code",
   "execution_count": 54,
   "metadata": {},
   "outputs": [
    {
     "name": "stdout",
     "output_type": "stream",
     "text": [
      "a1 = 2.0 m/s2\n",
      "a2 = 1.0 m/s2\n"
     ]
    }
   ],
   "source": [
    "ma = 4.5 # Kg\n",
    "mb = 12 # Kg\n",
    "g = 10 # m/s2\n",
    "\n",
    "Pa = ma*g\n",
    "Pb = mb*g\n",
    "\n",
    "a = (2*Pb - 4*Pa) / (4*ma+mb); print('a1 =', a, 'm/s2')\n",
    "\n",
    "print('a2 =', a/2, 'm/s2')"
   ]
  },
  {
   "cell_type": "markdown",
   "metadata": {},
   "source": [
    "### Plano Inclinado"
   ]
  },
  {
   "cell_type": "code",
   "execution_count": 47,
   "metadata": {},
   "outputs": [
    {
     "name": "stdout",
     "output_type": "stream",
     "text": [
      "F = 3766.7646717352036 N\n"
     ]
    }
   ],
   "source": [
    "g = 9.8\n",
    "P1 = 2000 * g; P2 = 1800 * g\n",
    "\n",
    "teta1 = 60*np.pi/180; teta2 = 70*np.pi/180\n",
    "F = P1 * np.cos(teta1) - P2 * np.cos(teta2)\n",
    "\n",
    "print('F =', F, 'N')"
   ]
  },
  {
   "cell_type": "markdown",
   "metadata": {},
   "source": [
    "### Caminhão"
   ]
  },
  {
   "cell_type": "code",
   "execution_count": 100,
   "metadata": {},
   "outputs": [
    {
     "name": "stdout",
     "output_type": "stream",
     "text": [
      "F = -400.0 N\n",
      "Fa = 490.5 N\n"
     ]
    }
   ],
   "source": [
    "dV = -10 # m/s\n",
    "dt = 2.5 # s\n",
    "m = 100 # Km\n",
    "alfa = 0.5 \n",
    "\n",
    "a = dV/dt\n",
    "F = m*a\n",
    "Fa = m*g*alfa\n",
    "\n",
    "print('F =', F, 'N'); print('Fa =', Fa, 'N')"
   ]
  },
  {
   "cell_type": "code",
   "execution_count": 99,
   "metadata": {},
   "outputs": [
    {
     "data": {
      "text/plain": [
       "-4.0"
      ]
     },
     "execution_count": 99,
     "metadata": {},
     "output_type": "execute_result"
    }
   ],
   "source": [
    "a"
   ]
  },
  {
   "cell_type": "markdown",
   "metadata": {},
   "source": [
    "### Dois Blocos P e Q"
   ]
  },
  {
   "cell_type": "code",
   "execution_count": 97,
   "metadata": {},
   "outputs": [
    {
     "name": "stdout",
     "output_type": "stream",
     "text": [
      "a = 4.0 m/s2\n",
      "F2 = 4.0 N\n",
      "F1 = 16.0 N\n"
     ]
    }
   ],
   "source": [
    "F = 20 # N\n",
    "M1 = 4 # Kg\n",
    "M2 = 1 # Kg\n",
    "\n",
    "a = F / (M1+M2); print('a =', a, 'm/s2')\n",
    "\n",
    "F2 = M2*a ;print('F2 =', F2, 'N')\n",
    "\n",
    "F1 = M1*a ;print('F1 =', F1, 'N')"
   ]
  },
  {
   "cell_type": "markdown",
   "metadata": {},
   "source": [
    "### Plano Inclinado com roldana"
   ]
  },
  {
   "cell_type": "code",
   "execution_count": 79,
   "metadata": {},
   "outputs": [
    {
     "data": {
      "text/plain": [
       "489.99999999999994"
      ]
     },
     "execution_count": 79,
     "metadata": {},
     "output_type": "execute_result"
    }
   ],
   "source": [
    "np.sin(teta)*g*m1"
   ]
  },
  {
   "cell_type": "code",
   "execution_count": 91,
   "metadata": {},
   "outputs": [
    {
     "name": "stdout",
     "output_type": "stream",
     "text": [
      "F1, F2, N1, Fa = [490.5, 237.4, 849.57, 254.87]\n",
      "R = 253.09799999999993 N\n"
     ]
    }
   ],
   "source": [
    "m1 = 100 # Kg\n",
    "m2 = 24.2 # Kg\n",
    "teta = 30 * np.pi / 180 # rad\n",
    "u = 0.3\n",
    "g=9.81\n",
    "\n",
    "R = m1*g*(np.sin(teta) - np.cos(teta)*u) - m2*g; R\n",
    "\n",
    "F1 = m1*g*np.sin(teta)\n",
    "F2 = m2*g\n",
    "N1 = m1*g*np.cos(teta)\n",
    "Fa_max = N1*u\n",
    "\n",
    "print('F1, F2, N1, Fa =', [round(i, 2) for i in [F1, F2, N1, Fa_max]])\n",
    "\n",
    "R = F1-F2; print('R =', R, 'N')"
   ]
  },
  {
   "cell_type": "code",
   "execution_count": 94,
   "metadata": {},
   "outputs": [],
   "source": [
    "Fa=F1-F2"
   ]
  },
  {
   "cell_type": "code",
   "execution_count": 95,
   "metadata": {},
   "outputs": [
    {
     "data": {
      "text/plain": [
       "253.09799999999993"
      ]
     },
     "execution_count": 95,
     "metadata": {},
     "output_type": "execute_result"
    }
   ],
   "source": [
    "Fa"
   ]
  },
  {
   "cell_type": "code",
   "execution_count": 96,
   "metadata": {},
   "outputs": [
    {
     "data": {
      "text/plain": [
       "-1.7732763337603785"
      ]
     },
     "execution_count": 96,
     "metadata": {},
     "output_type": "execute_result"
    }
   ],
   "source": [
    "Fa-Fa_max"
   ]
  },
  {
   "cell_type": "code",
   "execution_count": 83,
   "metadata": {},
   "outputs": [
    {
     "data": {
      "text/plain": [
       "866.0254037844388"
      ]
     },
     "execution_count": 83,
     "metadata": {},
     "output_type": "execute_result"
    }
   ],
   "source": [
    "np.cos(teta)*m1*g"
   ]
  },
  {
   "cell_type": "code",
   "execution_count": 103,
   "metadata": {},
   "outputs": [
    {
     "data": {
      "text/plain": [
       "56.407500000000006"
      ]
     },
     "execution_count": 103,
     "metadata": {},
     "output_type": "execute_result"
    }
   ],
   "source": [
    "ma=5\n",
    "mb=8\n",
    "g=9.81\n",
    "u=0.25\n",
    "\n",
    "F = u*g*(3*ma+mb); F"
   ]
  },
  {
   "cell_type": "code",
   "execution_count": null,
   "metadata": {},
   "outputs": [],
   "source": []
  }
 ],
 "metadata": {
  "kernelspec": {
   "display_name": "Python 3",
   "language": "python",
   "name": "python3"
  },
  "language_info": {
   "codemirror_mode": {
    "name": "ipython",
    "version": 3
   },
   "file_extension": ".py",
   "mimetype": "text/x-python",
   "name": "python",
   "nbconvert_exporter": "python",
   "pygments_lexer": "ipython3",
   "version": "3.8.3"
  }
 },
 "nbformat": 4,
 "nbformat_minor": 4
}
