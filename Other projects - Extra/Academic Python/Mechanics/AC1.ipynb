{
 "cells": [
  {
   "cell_type": "code",
   "execution_count": 496,
   "metadata": {},
   "outputs": [],
   "source": [
    "Qv = 1.08 # eV / atomo\n",
    "T = 850+273 # K\n",
    "k = 8.62 * 10**-5  # eV / atomo.K\n",
    "\n",
    "p = 7.65 #g/cm3\n",
    "M = 55.85 # g/mol\n",
    "\n",
    "N = 6.023 * 10**23"
   ]
  },
  {
   "cell_type": "code",
   "execution_count": 501,
   "metadata": {},
   "outputs": [],
   "source": [
    "V = M/p * 10**-6"
   ]
  },
  {
   "cell_type": "code",
   "execution_count": 497,
   "metadata": {},
   "outputs": [],
   "source": [
    "Nv = N * np.exp(-Qv/(k*T))"
   ]
  },
  {
   "cell_type": "code",
   "execution_count": 505,
   "metadata": {},
   "outputs": [
    {
     "data": {
      "text/plain": [
       "1.0677628120579251e+24"
      ]
     },
     "execution_count": 505,
     "metadata": {},
     "output_type": "execute_result"
    }
   ],
   "source": [
    "Nv/V"
   ]
  },
  {
   "cell_type": "code",
   "execution_count": 506,
   "metadata": {},
   "outputs": [],
   "source": [
    "\n",
    "T = 500 + 273 # K\n",
    "k = 8.62 * 10**-5  # eV / atomo.K\n",
    "N = 6.023 * 10**23\n",
    "\n",
    "M = 26.98 # g/mol\n",
    "p = 2.62 # g/cm3\n",
    "\n",
    "V_mol = M/p * 10**-6\n",
    "\n",
    "Nv = 7.57 * 10**23 * V_mol"
   ]
  },
  {
   "cell_type": "code",
   "execution_count": 507,
   "metadata": {},
   "outputs": [],
   "source": [
    "Qv = k * T * ( np.log(N) - np.log(Nv) ) "
   ]
  },
  {
   "cell_type": "code",
   "execution_count": 508,
   "metadata": {},
   "outputs": [
    {
     "data": {
      "text/plain": [
       "0.7499486757372242"
      ]
     },
     "execution_count": 508,
     "metadata": {},
     "output_type": "execute_result"
    }
   ],
   "source": [
    "Qv"
   ]
  },
  {
   "cell_type": "code",
   "execution_count": null,
   "metadata": {},
   "outputs": [],
   "source": []
  },
  {
   "cell_type": "code",
   "execution_count": 1,
   "metadata": {},
   "outputs": [],
   "source": [
    "import numpy as np"
   ]
  },
  {
   "cell_type": "code",
   "execution_count": 178,
   "metadata": {},
   "outputs": [],
   "source": [
    "import seaborn as sns\n",
    "\n",
    "sns.set_style('whitegrid')\n",
    "\n",
    "sns.set_context('notebook')\n",
    "\n",
    "#sns.set_palette('black')"
   ]
  },
  {
   "cell_type": "code",
   "execution_count": 312,
   "metadata": {},
   "outputs": [],
   "source": [
    "import dataframe_image as dfi"
   ]
  },
  {
   "cell_type": "markdown",
   "metadata": {},
   "source": [
    "# 3)"
   ]
  },
  {
   "cell_type": "code",
   "execution_count": 470,
   "metadata": {},
   "outputs": [],
   "source": [
    "V = 2.4 # m/s\n",
    "teta = 10/180*np.pi # rad\n",
    "yi = 71 # m\n",
    "a = - 9.81 # m/s2\n",
    "\n",
    "xi = 0; yf = 0; yi = 71 "
   ]
  },
  {
   "cell_type": "code",
   "execution_count": 475,
   "metadata": {},
   "outputs": [
    {
     "name": "stdout",
     "output_type": "stream",
     "text": [
      "0.4167556264006328 2.363538607229299\n"
     ]
    },
    {
     "data": {
      "text/plain": [
       "-37.397945327890184"
      ]
     },
     "execution_count": 475,
     "metadata": {},
     "output_type": "execute_result"
    }
   ],
   "source": [
    "Vx = V*np.sin(teta)  # Horizontal\n",
    "Vy = V*np.cos(teta)  # Vertical\n",
    "print(Vx, Vy)\n",
    "Vyf = - ( Vy**2 + 2*g*(yf-yi) )**(1/2); Vyf"
   ]
  },
  {
   "cell_type": "code",
   "execution_count": 478,
   "metadata": {},
   "outputs": [
    {
     "data": {
      "text/plain": [
       "37.472558352689596"
      ]
     },
     "execution_count": 478,
     "metadata": {},
     "output_type": "execute_result"
    }
   ],
   "source": [
    "Vf = (Vyf**2 + Vx**2)**(1/2); Vf"
   ]
  },
  {
   "cell_type": "code",
   "execution_count": 476,
   "metadata": {},
   "outputs": [
    {
     "data": {
      "text/plain": [
       "4.053158403172221"
      ]
     },
     "execution_count": 476,
     "metadata": {},
     "output_type": "execute_result"
    }
   ],
   "source": [
    "t = ( Vyf - Vy ) / g; t"
   ]
  },
  {
   "cell_type": "code",
   "execution_count": 481,
   "metadata": {},
   "outputs": [
    {
     "data": {
      "text/plain": [
       "-0.01114381078283009"
      ]
     },
     "execution_count": 481,
     "metadata": {},
     "output_type": "execute_result"
    }
   ],
   "source": [
    "tan = Vx/Vyf; tan"
   ]
  },
  {
   "cell_type": "code",
   "execution_count": 489,
   "metadata": {},
   "outputs": [
    {
     "data": {
      "text/plain": [
       "0.638466897188921"
      ]
     },
     "execution_count": 489,
     "metadata": {},
     "output_type": "execute_result"
    }
   ],
   "source": [
    "np.arctan(-tan)*180/np.pi"
   ]
  },
  {
   "cell_type": "code",
   "execution_count": 492,
   "metadata": {},
   "outputs": [
    {
     "data": {
      "text/plain": [
       "3.6060606060606055"
      ]
     },
     "execution_count": 492,
     "metadata": {},
     "output_type": "execute_result"
    }
   ],
   "source": [
    "4.76 / 1.32"
   ]
  },
  {
   "cell_type": "code",
   "execution_count": 491,
   "metadata": {},
   "outputs": [
    {
     "data": {
      "text/plain": [
       "3.6060521735420026"
      ]
     },
     "execution_count": 491,
     "metadata": {},
     "output_type": "execute_result"
    }
   ],
   "source": [
    "np.pi*2 / 1.32**2"
   ]
  },
  {
   "cell_type": "markdown",
   "metadata": {},
   "source": [
    "# 4) "
   ]
  },
  {
   "cell_type": "code",
   "execution_count": 21,
   "metadata": {},
   "outputs": [],
   "source": [
    "yi = 0 #m\n",
    "yf = 250 #m\n",
    "\n",
    "xi = 0 #m\n",
    "xf = 600 #m\n",
    "\n",
    "t = 460 #seg\n",
    "\n",
    "#a) \n",
    "\n",
    "Vrio = (600 - 0)/(7*60+40)   #(Velocidade do rio)\n",
    "\n",
    "Vnad = (250 - 0)/(7*60+40)   #(Velocidade da nadadora)\n",
    "\n",
    "teta = np.arccos(( Vrio / Vnad )**-1)"
   ]
  },
  {
   "cell_type": "code",
   "execution_count": 23,
   "metadata": {},
   "outputs": [
    {
     "data": {
      "text/plain": [
       "1.3043478260869565"
      ]
     },
     "execution_count": 23,
     "metadata": {},
     "output_type": "execute_result"
    }
   ],
   "source": [
    "Vrio"
   ]
  },
  {
   "cell_type": "code",
   "execution_count": 24,
   "metadata": {},
   "outputs": [
    {
     "data": {
      "text/plain": [
       "0.5434782608695652"
      ]
     },
     "execution_count": 24,
     "metadata": {},
     "output_type": "execute_result"
    }
   ],
   "source": [
    "Vnad"
   ]
  },
  {
   "cell_type": "code",
   "execution_count": 20,
   "metadata": {},
   "outputs": [
    {
     "data": {
      "text/plain": [
       "2.4000000000000004"
      ]
     },
     "execution_count": 20,
     "metadata": {},
     "output_type": "execute_result"
    }
   ],
   "source": [
    "Vrio / Vnad "
   ]
  },
  {
   "cell_type": "code",
   "execution_count": 22,
   "metadata": {},
   "outputs": [
    {
     "data": {
      "text/plain": [
       "1.141020895490369"
      ]
     },
     "execution_count": 22,
     "metadata": {},
     "output_type": "execute_result"
    }
   ],
   "source": [
    "teta"
   ]
  },
  {
   "cell_type": "markdown",
   "metadata": {},
   "source": [
    "# 5)"
   ]
  },
  {
   "cell_type": "code",
   "execution_count": 25,
   "metadata": {},
   "outputs": [],
   "source": [
    "import matplotlib.pyplot as plt"
   ]
  },
  {
   "cell_type": "code",
   "execution_count": 28,
   "metadata": {},
   "outputs": [],
   "source": [
    "import pandas as pd"
   ]
  },
  {
   "cell_type": "code",
   "execution_count": 41,
   "metadata": {},
   "outputs": [
    {
     "data": {
      "text/plain": [
       "[<matplotlib.lines.Line2D at 0x2102ee42bb0>]"
      ]
     },
     "execution_count": 41,
     "metadata": {},
     "output_type": "execute_result"
    },
    {
     "data": {
      "image/png": "[encoded data removed]",
      "text/plain": [
       "<Figure size 432x288 with 1 Axes>"
      ]
     },
     "metadata": {
      "needs_background": "light"
     },
     "output_type": "display_data"
    }
   ],
   "source": [
    "teta = np.linspace(0, np.pi/2, 1000)\n",
    "prod = np.sin(teta) * np.cos(teta)\n",
    "\n",
    "plt.plot(teta, prod)"
   ]
  },
  {
   "cell_type": "code",
   "execution_count": 42,
   "metadata": {},
   "outputs": [],
   "source": [
    "table = pd.DataFrame([teta, prod], index=['teta', 'f']).T"
   ]
  },
  {
   "cell_type": "code",
   "execution_count": 43,
   "metadata": {},
   "outputs": [],
   "source": [
    "Max = table[table['f']==table['f'].max()]"
   ]
  },
  {
   "cell_type": "code",
   "execution_count": 44,
   "metadata": {},
   "outputs": [
    {
     "data": {
      "text/plain": [
       "44.95495495495496"
      ]
     },
     "execution_count": 44,
     "metadata": {},
     "output_type": "execute_result"
    }
   ],
   "source": [
    "Max['teta'].values[0] * 180 / np.pi"
   ]
  },
  {
   "cell_type": "markdown",
   "metadata": {},
   "source": [
    "### Calculo do alcançe"
   ]
  },
  {
   "cell_type": "code",
   "execution_count": 124,
   "metadata": {},
   "outputs": [],
   "source": [
    "Vi = 3 # m/s\n",
    "teta =  45 * np.pi / 180\n",
    "g = -9.81\n",
    "\n",
    "Vx = Vi * np.cos(teta)\n",
    "Vy = Vi * np.sin(teta)"
   ]
  },
  {
   "cell_type": "code",
   "execution_count": 121,
   "metadata": {},
   "outputs": [
    {
     "data": {
      "text/plain": [
       "2.121320343559643"
      ]
     },
     "execution_count": 121,
     "metadata": {},
     "output_type": "execute_result"
    }
   ],
   "source": [
    "Vx"
   ]
  },
  {
   "cell_type": "code",
   "execution_count": 126,
   "metadata": {},
   "outputs": [
    {
     "data": {
      "text/plain": [
       "0.43248121173489146"
      ]
     },
     "execution_count": 126,
     "metadata": {},
     "output_type": "execute_result"
    }
   ],
   "source": [
    "t = - 2*Vi*np.sin(teta)/g; t"
   ]
  },
  {
   "cell_type": "code",
   "execution_count": 116,
   "metadata": {},
   "outputs": [
    {
     "data": {
      "text/plain": [
       "0.9174311926605506"
      ]
     },
     "execution_count": 116,
     "metadata": {},
     "output_type": "execute_result"
    }
   ],
   "source": [
    "A = - 2 * 3** 2*np.sin(teta) * np.cos(teta) / -9.81; A"
   ]
  },
  {
   "cell_type": "code",
   "execution_count": null,
   "metadata": {},
   "outputs": [],
   "source": []
  },
  {
   "cell_type": "markdown",
   "metadata": {},
   "source": [
    "# 6)"
   ]
  },
  {
   "cell_type": "code",
   "execution_count": 79,
   "metadata": {},
   "outputs": [],
   "source": [
    "def bhaskara(a, b, c):\n",
    "\n",
    "    delta = b**2 - 4*a*c\n",
    "    t1 = ( - b + delta**(1/2) ) / (2*a)\n",
    "    t2 = ( - b - delta**(1/2) ) / (2*a)\n",
    "\n",
    "    return t1, t2"
   ]
  },
  {
   "cell_type": "code",
   "execution_count": 152,
   "metadata": {},
   "outputs": [],
   "source": [
    "# a) \n",
    "\n",
    "# xf = xi + Vx*t\n",
    "# yf = yi + Vy*t + (g*t**2)/2"
   ]
  },
  {
   "cell_type": "code",
   "execution_count": 460,
   "metadata": {},
   "outputs": [
    {
     "name": "stdout",
     "output_type": "stream",
     "text": [
      "Tempo pelo método 1: 2.040243300727739 seg\n",
      "Vf1 = -10.9 m2\n",
      "\n",
      "Vf2 = -10.89 m2\n",
      "Tempo pelo método 2: 2.040243300727739 seg\n",
      "\n",
      "Alcançe A = 22.99 m\n"
     ]
    }
   ],
   "source": [
    "Vi = 14.5  # m/s\n",
    "teta = 39 * np.pi/180  # rad\n",
    "H = 1.8  # m\n",
    "d_max = 23,37  # m\n",
    "g = - 9.81  # m/s2\n",
    "\n",
    "xi=0; yi=H; yf=0\n",
    "\n",
    "# b)\n",
    "\n",
    "Vx = Vi * np.cos(teta)\n",
    "Vy = Vi * np.sin(teta)\n",
    "\n",
    "#print('Vx = {} m/s, Vy = {} m/s'.format(round(Vx,2), round(Vy,2)))\n",
    "### Tempo\n",
    "\n",
    "##### Método 1\n",
    "\n",
    "#  yf = yi + Vy*t + (g*t**2)/2\n",
    "\n",
    "a=g/2; b=Vy; c=(yi-yf)\n",
    "t = bhaskara(a, b, c)[1]; print('Tempo pelo método 1: {} seg'.format(t))\n",
    "Vf_y = Vy + g*t; print('Vf1 =', round(Vf_y, 1), 'm2')\n",
    "\n",
    "##### Método 2\n",
    "print()\n",
    "Vf_y = - (Vy**2 + 2*(-g)*H)**(1/2); print('Vf2 =', round(Vf_y, 3), 'm2')\n",
    "t = (Vf_y - Vy)/g; print('Tempo pelo método 2: {} seg'.format(t))\n",
    "\n",
    "### Alcançe\n",
    "print()\n",
    "xf = Vi * np.cos(teta) * t ; print('Alcançe A = {} m'.format(round(xf, 2)))"
   ]
  },
  {
   "cell_type": "code",
   "execution_count": 463,
   "metadata": {},
   "outputs": [
    {
     "data": {
      "text/plain": [
       "4.905"
      ]
     },
     "execution_count": 463,
     "metadata": {},
     "output_type": "execute_result"
    }
   ],
   "source": [
    "9.81/2"
   ]
  },
  {
   "cell_type": "code",
   "execution_count": 462,
   "metadata": {},
   "outputs": [
    {
     "name": "stdout",
     "output_type": "stream",
     "text": [
      "\n",
      "Vf = -11.851 m2\n",
      "Tempo pelo método: 2.253193566994307 seg\n",
      "Alcançe A = 23.102 m\n"
     ]
    }
   ],
   "source": [
    "teta = 45 * np.pi / 180\n",
    "\n",
    "Vx = Vi * np.cos(teta)\n",
    "Vy = Vi * np.sin(teta)\n",
    "\n",
    "##### Método 2\n",
    "print()\n",
    "Vf_y = - (Vy**2 + 2*(-g)*H)**(1/2); print('Vf =', round(Vf_y, 3), 'm2')\n",
    "t = (Vf_y - Vy)/g; print('Tempo pelo método: {} seg'.format(t))\n",
    "\n",
    "### Alcançe\n",
    "\n",
    "xf = Vi * np.cos(teta) * t ; print('Alcançe A = {} m'.format(round(xf, 3)))"
   ]
  },
  {
   "cell_type": "code",
   "execution_count": 454,
   "metadata": {},
   "outputs": [],
   "source": [
    "def x_max(tetas, Vi=14.5, g=-9.81, H=1.8):\n",
    "    \n",
    "    x_i = [] \n",
    "    for teta in tetas:\n",
    "        \n",
    "        Vx = Vi * np.cos(teta)\n",
    "        Vy = Vi * np.sin(teta)\n",
    "\n",
    "        Vf_y = - (Vy**2 + 2*(-g)*H)**(1/2)\n",
    "        t = (Vf_y - Vy)/g\n",
    "        xf = Vx * t\n",
    "        x_i.append([teta*180/np.pi ,xf, t, Vf_y])\n",
    "    \n",
    "    return pd.DataFrame(x_i, columns=['Ângulo (teta - graus)', 'Alcance (xf - metros)', 'Tempo (t - segundos)', 'Veloc. vert. final (Vf - m/s)'])"
   ]
  },
  {
   "cell_type": "code",
   "execution_count": 453,
   "metadata": {},
   "outputs": [
    {
     "data": {
      "image/png": "[encoded data removed]",
      "text/plain": [
       "<Figure size 432x288 with 1 Axes>"
      ]
     },
     "metadata": {},
     "output_type": "display_data"
    }
   ],
   "source": [
    "tetas = np.linspace(35/180*np.pi, 50/180*np.pi, 10000)\n",
    "\n",
    "fig = plt.figure(); ax = fig.add_subplot(111)\n",
    "ax.plot(tetas*180/np.pi, x_max(tetas)['Alcance (xf - metros)'], color='black')\n",
    "ax.set(xlabel='Inclinação de lançamento (teta ~ graus)',\n",
    "       ylabel='Alcance (xf ~ metros)',\n",
    "       xticks=range(35,51,1),\n",
    "       yticks=np.linspace(22.5, 23.3, 9),\n",
    "       title='Alcance em função da inclinação para lança\\nmento com velocidade e altura iniciais fixas',\n",
    "       ylim=(22.42, 23.35)\n",
    "      )\n",
    "plt.arrow(x=40.15, y=23.3, dx=2, dy=-0.1, width=0.02, color='blue')\n",
    "\n",
    "plt.show()\n",
    "fig.savefig('AlcanceVsTeta.png', dpi=300, bbox_inches='tight')\n",
    "\n"
   ]
  },
  {
   "cell_type": "code",
   "execution_count": 455,
   "metadata": {},
   "outputs": [],
   "source": [
    "tetas = np.array(range(40, 46, 1)) * np.pi / 180"
   ]
  },
  {
   "cell_type": "code",
   "execution_count": 456,
   "metadata": {},
   "outputs": [
    {
     "data": {
      "text/html": [
       "<div>\n",
       "<style scoped>\n",
       "    .dataframe tbody tr th:only-of-type {\n",
       "        vertical-align: middle;\n",
       "    }\n",
       "\n",
       "    .dataframe tbody tr th {\n",
       "        vertical-align: top;\n",
       "    }\n",
       "\n",
       "    .dataframe thead th {\n",
       "        text-align: right;\n",
       "    }\n",
       "</style>\n",
       "<table border=\"1\" class=\"dataframe\">\n",
       "  <thead>\n",
       "    <tr style=\"text-align: right;\">\n",
       "      <th></th>\n",
       "      <th>Ângulo (teta - graus)</th>\n",
       "      <th>Alcance (xf - metros)</th>\n",
       "      <th>Tempo (t - segundos)</th>\n",
       "      <th>Veloc. vert. final (Vf - m/s)</th>\n",
       "    </tr>\n",
       "  </thead>\n",
       "  <tbody>\n",
       "    <tr>\n",
       "      <th>0</th>\n",
       "      <td>40.0</td>\n",
       "      <td>23.069</td>\n",
       "      <td>2.077</td>\n",
       "      <td>-11.054</td>\n",
       "    </tr>\n",
       "    <tr>\n",
       "      <th>1</th>\n",
       "      <td>41.0</td>\n",
       "      <td>23.124</td>\n",
       "      <td>2.113</td>\n",
       "      <td>-11.217</td>\n",
       "    </tr>\n",
       "    <tr>\n",
       "      <th>2</th>\n",
       "      <td>42.0</td>\n",
       "      <td>23.155</td>\n",
       "      <td>2.149</td>\n",
       "      <td>-11.378</td>\n",
       "    </tr>\n",
       "    <tr>\n",
       "      <th>3</th>\n",
       "      <td>43.0</td>\n",
       "      <td>23.162</td>\n",
       "      <td>2.184</td>\n",
       "      <td>-11.537</td>\n",
       "    </tr>\n",
       "    <tr>\n",
       "      <th>4</th>\n",
       "      <td>44.0</td>\n",
       "      <td>23.144</td>\n",
       "      <td>2.219</td>\n",
       "      <td>-11.695</td>\n",
       "    </tr>\n",
       "    <tr>\n",
       "      <th>5</th>\n",
       "      <td>45.0</td>\n",
       "      <td>23.102</td>\n",
       "      <td>2.253</td>\n",
       "      <td>-11.851</td>\n",
       "    </tr>\n",
       "  </tbody>\n",
       "</table>\n",
       "</div>"
      ],
      "text/plain": [
       "   Ângulo (teta - graus)  Alcance (xf - metros)  Tempo (t - segundos)  \\\n",
       "0                   40.0                 23.069                 2.077   \n",
       "1                   41.0                 23.124                 2.113   \n",
       "2                   42.0                 23.155                 2.149   \n",
       "3                   43.0                 23.162                 2.184   \n",
       "4                   44.0                 23.144                 2.219   \n",
       "5                   45.0                 23.102                 2.253   \n",
       "\n",
       "   Veloc. vert. final (Vf - m/s)  \n",
       "0                        -11.054  \n",
       "1                        -11.217  \n",
       "2                        -11.378  \n",
       "3                        -11.537  \n",
       "4                        -11.695  \n",
       "5                        -11.851  "
      ]
     },
     "execution_count": 456,
     "metadata": {},
     "output_type": "execute_result"
    }
   ],
   "source": [
    "table = x_max(tetas); table.round(3)"
   ]
  },
  {
   "cell_type": "code",
   "execution_count": 457,
   "metadata": {},
   "outputs": [],
   "source": [
    "table_f = table.round(3);  table_f[table_f.columns[0]] = table_f[table_f.columns[0]].astype(int)\n",
    "\n",
    "table_f = table_f.set_index(table_f.columns[0])#.round(3).T"
   ]
  },
  {
   "cell_type": "code",
   "execution_count": 458,
   "metadata": {},
   "outputs": [
    {
     "data": {
      "text/html": [
       "<div>\n",
       "<style scoped>\n",
       "    .dataframe tbody tr th:only-of-type {\n",
       "        vertical-align: middle;\n",
       "    }\n",
       "\n",
       "    .dataframe tbody tr th {\n",
       "        vertical-align: top;\n",
       "    }\n",
       "\n",
       "    .dataframe thead th {\n",
       "        text-align: right;\n",
       "    }\n",
       "</style>\n",
       "<table border=\"1\" class=\"dataframe\">\n",
       "  <thead>\n",
       "    <tr style=\"text-align: right;\">\n",
       "      <th>Ângulo (teta - graus)</th>\n",
       "      <th>40</th>\n",
       "      <th>41</th>\n",
       "      <th>42</th>\n",
       "      <th>43</th>\n",
       "      <th>44</th>\n",
       "      <th>45</th>\n",
       "    </tr>\n",
       "  </thead>\n",
       "  <tbody>\n",
       "    <tr>\n",
       "      <th>Alcance (xf - metros)</th>\n",
       "      <td>23.069</td>\n",
       "      <td>23.124</td>\n",
       "      <td>23.155</td>\n",
       "      <td>23.162</td>\n",
       "      <td>23.144</td>\n",
       "      <td>23.102</td>\n",
       "    </tr>\n",
       "    <tr>\n",
       "      <th>Tempo (t - segundos)</th>\n",
       "      <td>2.077</td>\n",
       "      <td>2.113</td>\n",
       "      <td>2.149</td>\n",
       "      <td>2.184</td>\n",
       "      <td>2.219</td>\n",
       "      <td>2.253</td>\n",
       "    </tr>\n",
       "    <tr>\n",
       "      <th>Veloc. vert. final (Vf - m/s)</th>\n",
       "      <td>-11.054</td>\n",
       "      <td>-11.217</td>\n",
       "      <td>-11.378</td>\n",
       "      <td>-11.537</td>\n",
       "      <td>-11.695</td>\n",
       "      <td>-11.851</td>\n",
       "    </tr>\n",
       "  </tbody>\n",
       "</table>\n",
       "</div>"
      ],
      "text/plain": [
       "Ângulo (teta - graus)              40      41      42      43      44      45\n",
       "Alcance (xf - metros)          23.069  23.124  23.155  23.162  23.144  23.102\n",
       "Tempo (t - segundos)            2.077   2.113   2.149   2.184   2.219   2.253\n",
       "Veloc. vert. final (Vf - m/s) -11.054 -11.217 -11.378 -11.537 -11.695 -11.851"
      ]
     },
     "execution_count": 458,
     "metadata": {},
     "output_type": "execute_result"
    }
   ],
   "source": [
    "table_f.T"
   ]
  },
  {
   "cell_type": "code",
   "execution_count": 459,
   "metadata": {},
   "outputs": [],
   "source": [
    "dfi.export(table_f.T, 'tabela_alcance.png')"
   ]
  },
  {
   "cell_type": "code",
   "execution_count": 451,
   "metadata": {},
   "outputs": [
    {
     "data": {
      "text/html": [
       "<div>\n",
       "<style scoped>\n",
       "    .dataframe tbody tr th:only-of-type {\n",
       "        vertical-align: middle;\n",
       "    }\n",
       "\n",
       "    .dataframe tbody tr th {\n",
       "        vertical-align: top;\n",
       "    }\n",
       "\n",
       "    .dataframe thead th {\n",
       "        text-align: right;\n",
       "    }\n",
       "</style>\n",
       "<table border=\"1\" class=\"dataframe\">\n",
       "  <thead>\n",
       "    <tr style=\"text-align: right;\">\n",
       "      <th></th>\n",
       "      <th>Ângulo (teta - graus)</th>\n",
       "      <th>Alcance (xf - metros)</th>\n",
       "      <th>Tempo (t - segundos)</th>\n",
       "    </tr>\n",
       "  </thead>\n",
       "  <tbody>\n",
       "    <tr>\n",
       "      <th>27781</th>\n",
       "      <td>42.778156</td>\n",
       "      <td>23.162376</td>\n",
       "      <td>2.176334</td>\n",
       "    </tr>\n",
       "  </tbody>\n",
       "</table>\n",
       "</div>"
      ],
      "text/plain": [
       "       Ângulo (teta - graus)  Alcance (xf - metros)  Tempo (t - segundos)\n",
       "27781              42.778156              23.162376              2.176334"
      ]
     },
     "execution_count": 451,
     "metadata": {},
     "output_type": "execute_result"
    }
   ],
   "source": [
    "a = x_max(np.linspace(40/180*np.pi, 45/180*np.pi, 50000))\n",
    "\n",
    "a[a[a.columns[1]]==a[a.columns[1]].max()]"
   ]
  },
  {
   "cell_type": "markdown",
   "metadata": {},
   "source": [
    "# 8)"
   ]
  },
  {
   "cell_type": "code",
   "execution_count": 490,
   "metadata": {},
   "outputs": [
    {
     "data": {
      "text/plain": [
       "4.7599888690754435"
      ]
     },
     "execution_count": 490,
     "metadata": {},
     "output_type": "execute_result"
    }
   ],
   "source": [
    "w =  (360 * np.pi / 180 ) / 1.32; w"
   ]
  },
  {
   "cell_type": "code",
   "execution_count": null,
   "metadata": {},
   "outputs": [],
   "source": []
  }
 ],
 "metadata": {
  "kernelspec": {
   "display_name": "Python 3",
   "language": "python",
   "name": "python3"
  },
  "language_info": {
   "codemirror_mode": {
    "name": "ipython",
    "version": 3
   },
   "file_extension": ".py",
   "mimetype": "text/x-python",
   "name": "python",
   "nbconvert_exporter": "python",
   "pygments_lexer": "ipython3",
   "version": "3.8.3"
  }
 },
 "nbformat": 4,
 "nbformat_minor": 4
}
