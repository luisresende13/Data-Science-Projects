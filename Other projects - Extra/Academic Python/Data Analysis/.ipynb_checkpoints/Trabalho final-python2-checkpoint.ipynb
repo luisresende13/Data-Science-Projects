{
 "cells": [
  {
   "cell_type": "code",
   "execution_count": 1,
   "id": "8c5acc9b",
   "metadata": {},
   "outputs": [
    {
     "name": "stdout",
     "output_type": "stream",
     "text": [
      "Requirement already satisfied: pandas in c:\\users\\artur.alvarenga\\appdata\\local\\programs\\python\\python310\\lib\\site-packages (1.3.4)\n",
      "Requirement already satisfied: pytz>=2017.3 in c:\\users\\artur.alvarenga\\appdata\\local\\programs\\python\\python310\\lib\\site-packages (from pandas) (2021.3)\n",
      "Requirement already satisfied: python-dateutil>=2.7.3 in c:\\users\\artur.alvarenga\\appdata\\local\\programs\\python\\python310\\lib\\site-packages (from pandas) (2.8.2)\n",
      "Requirement already satisfied: numpy>=1.21.0 in c:\\users\\artur.alvarenga\\appdata\\local\\programs\\python\\python310\\lib\\site-packages (from pandas) (1.21.4)\n",
      "Requirement already satisfied: six>=1.5 in c:\\users\\artur.alvarenga\\appdata\\local\\programs\\python\\python310\\lib\\site-packages (from python-dateutil>=2.7.3->pandas) (1.16.0)\n"
     ]
    }
   ],
   "source": [
    "!pip install pandas"
   ]
  },
  {
   "cell_type": "code",
   "execution_count": 2,
   "id": "34b0ba87",
   "metadata": {},
   "outputs": [],
   "source": [
    "import pandas as pd"
   ]
  },
  {
   "cell_type": "code",
   "execution_count": 3,
   "id": "09e30947",
   "metadata": {},
   "outputs": [],
   "source": [
    "df_public = pd.read_csv(\"survey_results_public.csv\")"
   ]
  },
  {
   "cell_type": "code",
   "execution_count": 4,
   "id": "2f56327d",
   "metadata": {},
   "outputs": [],
   "source": [
    "df_schema = pd.read_csv(\"survey_results_schema.csv\")"
   ]
  },
  {
   "cell_type": "code",
   "execution_count": 5,
   "id": "065947cf",
   "metadata": {},
   "outputs": [
    {
     "name": "stdout",
     "output_type": "stream",
     "text": [
      "(48, 6)\n"
     ]
    }
   ],
   "source": [
    "print(df_schema.shape)"
   ]
  },
  {
   "cell_type": "code",
   "execution_count": 6,
   "id": "f363a12e",
   "metadata": {},
   "outputs": [],
   "source": [
    "pd.set_option(\"display.max_columns\", 90)\n",
    "pd.set_option(\"display.max_rows\", 90)\n",
    "pd.set_option(\"display.max_colwidth\",300)"
   ]
  },
  {
   "cell_type": "code",
   "execution_count": 7,
   "id": "272518f4",
   "metadata": {},
   "outputs": [
    {
     "data": {
      "text/html": [
       "<div>\n",
       "<style scoped>\n",
       "    .dataframe tbody tr th:only-of-type {\n",
       "        vertical-align: middle;\n",
       "    }\n",
       "\n",
       "    .dataframe tbody tr th {\n",
       "        vertical-align: top;\n",
       "    }\n",
       "\n",
       "    .dataframe thead th {\n",
       "        text-align: right;\n",
       "    }\n",
       "</style>\n",
       "<table border=\"1\" class=\"dataframe\">\n",
       "  <thead>\n",
       "    <tr style=\"text-align: right;\">\n",
       "      <th></th>\n",
       "      <th>qid</th>\n",
       "      <th>qname</th>\n",
       "      <th>question</th>\n",
       "      <th>force_resp</th>\n",
       "      <th>type</th>\n",
       "      <th>selector</th>\n",
       "    </tr>\n",
       "  </thead>\n",
       "  <tbody>\n",
       "    <tr>\n",
       "      <th>0</th>\n",
       "      <td>QID16</td>\n",
       "      <td>S0</td>\n",
       "      <td>&lt;div&gt;&lt;span style=\"font-size:19px;\"&gt;&lt;strong&gt;Hello world! &lt;/strong&gt;&lt;/span&gt;&lt;/div&gt;\\n\\n&lt;div&gt; &lt;/div&gt;\\n\\n&lt;div&gt;Thank you for taking the 2021 Stack Overflow Developer Survey, the longest running survey of software developers (and anyone else who codes!) on Earth. &lt;/div&gt;\\n\\n&lt;div&gt; &lt;/div&gt;\\n\\n&lt;div&gt;As in prev...</td>\n",
       "      <td>False</td>\n",
       "      <td>DB</td>\n",
       "      <td>TB</td>\n",
       "    </tr>\n",
       "    <tr>\n",
       "      <th>1</th>\n",
       "      <td>QID12</td>\n",
       "      <td>MetaInfo</td>\n",
       "      <td>Browser Meta Info</td>\n",
       "      <td>False</td>\n",
       "      <td>Meta</td>\n",
       "      <td>Browser</td>\n",
       "    </tr>\n",
       "    <tr>\n",
       "      <th>2</th>\n",
       "      <td>QID1</td>\n",
       "      <td>S1</td>\n",
       "      <td>&lt;span style=\"font-size:22px; font-family: arial,helvetica,sans-serif; font-weight: 700;\"&gt;Basic Information&lt;/span&gt;&lt;br&gt;\\n&lt;br&gt;\\n&lt;p&gt;&lt;span style=\"font-size:16px; font-family:arial,helvetica,sans-serif;\"&gt;The first section will focus on some basic information about who you are.&lt;br&gt;\\n&lt;br&gt;\\nMost question...</td>\n",
       "      <td>False</td>\n",
       "      <td>DB</td>\n",
       "      <td>TB</td>\n",
       "    </tr>\n",
       "    <tr>\n",
       "      <th>3</th>\n",
       "      <td>QID2</td>\n",
       "      <td>MainBranch</td>\n",
       "      <td>Which of the following options best describes you today? Here, by \"developer\" we mean \"someone who writes code.\" &lt;b&gt;*&lt;/b&gt;</td>\n",
       "      <td>True</td>\n",
       "      <td>MC</td>\n",
       "      <td>SAVR</td>\n",
       "    </tr>\n",
       "    <tr>\n",
       "      <th>4</th>\n",
       "      <td>QID24</td>\n",
       "      <td>Employment</td>\n",
       "      <td>Which of the following best describes your current &lt;b&gt;employment status&lt;/b&gt;?</td>\n",
       "      <td>False</td>\n",
       "      <td>MC</td>\n",
       "      <td>MAVR</td>\n",
       "    </tr>\n",
       "    <tr>\n",
       "      <th>5</th>\n",
       "      <td>QID6</td>\n",
       "      <td>Country</td>\n",
       "      <td>Where do you live? &lt;span style=\"font-weight: bolder;\"&gt;*&lt;/span&gt;</td>\n",
       "      <td>True</td>\n",
       "      <td>MC</td>\n",
       "      <td>DL</td>\n",
       "    </tr>\n",
       "    <tr>\n",
       "      <th>6</th>\n",
       "      <td>QID7</td>\n",
       "      <td>US_State</td>\n",
       "      <td>&lt;p&gt;In which state or territory of the USA do you live? &lt;i&gt;This information will be kept private.&lt;/i&gt;&lt;/p&gt;</td>\n",
       "      <td>False</td>\n",
       "      <td>MC</td>\n",
       "      <td>DL</td>\n",
       "    </tr>\n",
       "    <tr>\n",
       "      <th>7</th>\n",
       "      <td>QID9</td>\n",
       "      <td>UK_Country</td>\n",
       "      <td>In which part of the United Kingdom do you live? &lt;i&gt;This information will be kept private.&lt;/i&gt;</td>\n",
       "      <td>False</td>\n",
       "      <td>MC</td>\n",
       "      <td>DL</td>\n",
       "    </tr>\n",
       "    <tr>\n",
       "      <th>8</th>\n",
       "      <td>QID190</td>\n",
       "      <td>S2</td>\n",
       "      <td>&lt;span style=\"font-size:22px; font-family: arial,helvetica,sans-serif; font-weight: 700;\"&gt;Education, work, and career&lt;/span&gt;&lt;br&gt;\\n&lt;br&gt;\\n\\n&lt;p&gt;&lt;span style=\"font-size:16px; font-family:arial,helvetica,sans-serif;\"&gt;This section will focus on your education, work, and career.&lt;br&gt;\\n&lt;br&gt;\\nMost questions...</td>\n",
       "      <td>False</td>\n",
       "      <td>DB</td>\n",
       "      <td>TB</td>\n",
       "    </tr>\n",
       "    <tr>\n",
       "      <th>9</th>\n",
       "      <td>QID25</td>\n",
       "      <td>EdLevel</td>\n",
       "      <td>Which of the following best describes the highest level of formal education that you’ve completed? *</td>\n",
       "      <td>False</td>\n",
       "      <td>MC</td>\n",
       "      <td>SAVR</td>\n",
       "    </tr>\n",
       "    <tr>\n",
       "      <th>10</th>\n",
       "      <td>QID149</td>\n",
       "      <td>Age1stCode</td>\n",
       "      <td>At what age did you write your first line of code or program? (e.g., webpage, Hello World, Scratch project)</td>\n",
       "      <td>False</td>\n",
       "      <td>MC</td>\n",
       "      <td>MAVR</td>\n",
       "    </tr>\n",
       "    <tr>\n",
       "      <th>11</th>\n",
       "      <td>QID276</td>\n",
       "      <td>LearnCode</td>\n",
       "      <td>How did you learn to code? Select all that apply.</td>\n",
       "      <td>False</td>\n",
       "      <td>MC</td>\n",
       "      <td>MAVR</td>\n",
       "    </tr>\n",
       "    <tr>\n",
       "      <th>12</th>\n",
       "      <td>QID32</td>\n",
       "      <td>YearsCode</td>\n",
       "      <td>Including any education, how many years have you been coding in total?</td>\n",
       "      <td>False</td>\n",
       "      <td>MC</td>\n",
       "      <td>DL</td>\n",
       "    </tr>\n",
       "    <tr>\n",
       "      <th>13</th>\n",
       "      <td>QID34</td>\n",
       "      <td>YearsCodePro</td>\n",
       "      <td>NOT including education, how many years have you coded professionally (as a part of your work)?</td>\n",
       "      <td>False</td>\n",
       "      <td>MC</td>\n",
       "      <td>DL</td>\n",
       "    </tr>\n",
       "    <tr>\n",
       "      <th>14</th>\n",
       "      <td>QID31</td>\n",
       "      <td>DevType</td>\n",
       "      <td>Which of the following describes your current job? Please select all that apply.</td>\n",
       "      <td>False</td>\n",
       "      <td>MC</td>\n",
       "      <td>MAVR</td>\n",
       "    </tr>\n",
       "    <tr>\n",
       "      <th>15</th>\n",
       "      <td>QID29</td>\n",
       "      <td>OrgSize</td>\n",
       "      <td>Approximately how many people are employed by the company or organization you currently work for?</td>\n",
       "      <td>False</td>\n",
       "      <td>MC</td>\n",
       "      <td>MAVR</td>\n",
       "    </tr>\n",
       "    <tr>\n",
       "      <th>16</th>\n",
       "      <td>QID50</td>\n",
       "      <td>Currency</td>\n",
       "      <td>Which currency do you use day-to-day? If your answer is complicated, please pick the one you're most comfortable estimating in. *</td>\n",
       "      <td>True</td>\n",
       "      <td>MC</td>\n",
       "      <td>SB</td>\n",
       "    </tr>\n",
       "    <tr>\n",
       "      <th>17</th>\n",
       "      <td>QID51</td>\n",
       "      <td>CompTotal</td>\n",
       "      <td>What is your current total compensation (salary, bonuses, and perks, before taxes and deductions), in ${q://QID50/ChoiceGroup/SelectedChoicesTextEntry}? Please enter a whole number in the box below, without any punctuation. If you are paid hourly, please estimate an equivalent weekly, monthly, o...</td>\n",
       "      <td>False</td>\n",
       "      <td>TE</td>\n",
       "      <td>SL</td>\n",
       "    </tr>\n",
       "    <tr>\n",
       "      <th>18</th>\n",
       "      <td>QID52</td>\n",
       "      <td>CompFreq</td>\n",
       "      <td>Is that compensation weekly, monthly, or yearly?</td>\n",
       "      <td>False</td>\n",
       "      <td>MC</td>\n",
       "      <td>MAVR</td>\n",
       "    </tr>\n",
       "    <tr>\n",
       "      <th>19</th>\n",
       "      <td>QID61</td>\n",
       "      <td>S3</td>\n",
       "      <td>&lt;span style=\"font-size:22px; font-family: arial,helvetica,sans-serif; font-weight: 700;\"&gt;Tech and tech culture&lt;/span&gt;&lt;br&gt;\\n&lt;br&gt;\\n\\n&lt;p&gt;&lt;span style=\"font-size:16px; font-family:arial,helvetica,sans-serif;\"&gt;The next set of questions will focus on technology and tech culture.&lt;br&gt;\\n&lt;br&gt;\\nMost questio...</td>\n",
       "      <td>False</td>\n",
       "      <td>DB</td>\n",
       "      <td>TB</td>\n",
       "    </tr>\n",
       "    <tr>\n",
       "      <th>20</th>\n",
       "      <td>QID233</td>\n",
       "      <td>Language</td>\n",
       "      <td>Which &lt;b&gt;programming, scripting, and markup languages&lt;/b&gt; have you done extensive development work in over the past year, and which do you want to work in over the next year? (If you both worked with the language and want to continue to do so, please check both boxes in that row.)</td>\n",
       "      <td>False</td>\n",
       "      <td>Matrix</td>\n",
       "      <td>Likert</td>\n",
       "    </tr>\n",
       "    <tr>\n",
       "      <th>21</th>\n",
       "      <td>QID262</td>\n",
       "      <td>Database</td>\n",
       "      <td>Which &lt;b&gt;database environments &lt;/b&gt;have you done extensive development work in over the past year, and which do you want to work in over the next year? (If you both worked with the database and want to continue to do so, please check both boxes in that row.)</td>\n",
       "      <td>False</td>\n",
       "      <td>Matrix</td>\n",
       "      <td>Likert</td>\n",
       "    </tr>\n",
       "    <tr>\n",
       "      <th>22</th>\n",
       "      <td>QID263</td>\n",
       "      <td>Platform</td>\n",
       "      <td>Which &lt;b&gt;cloud platforms&lt;/b&gt; have you done extensive development work in over the past year, and which do you want to work in over the next year? (If you both worked with the platform and want to continue to do so, please check both boxes in that row.)</td>\n",
       "      <td>False</td>\n",
       "      <td>Matrix</td>\n",
       "      <td>Likert</td>\n",
       "    </tr>\n",
       "    <tr>\n",
       "      <th>23</th>\n",
       "      <td>QID264</td>\n",
       "      <td>Webframe</td>\n",
       "      <td>Which &lt;strong&gt;web frameworks &lt;/strong&gt;&lt;span style=\"font-weight: bolder;\"&gt;and libraries&lt;/span&gt; have you done extensive development work in over the past year, and which do you want to work in over the next year? (If you both worked with the framework and want to continue to do so, please check bo...</td>\n",
       "      <td>False</td>\n",
       "      <td>Matrix</td>\n",
       "      <td>Likert</td>\n",
       "    </tr>\n",
       "    <tr>\n",
       "      <th>24</th>\n",
       "      <td>QID265</td>\n",
       "      <td>MiscTech</td>\n",
       "      <td>Which &lt;b&gt;other frameworks and libraries&lt;/b&gt; have you done extensive development work in over the past year, and which do you want to work in over the next year? (If you both worked with the framework and want to continue to do so, please check both boxes in that row.)</td>\n",
       "      <td>False</td>\n",
       "      <td>Matrix</td>\n",
       "      <td>Likert</td>\n",
       "    </tr>\n",
       "    <tr>\n",
       "      <th>25</th>\n",
       "      <td>QID275</td>\n",
       "      <td>ToolsTech</td>\n",
       "      <td>Which &lt;strong&gt;tools&lt;/strong&gt; have you done extensive development work in over the past year, and which do you want to work in over the next year? (If you both worked with the technology and want to continue to do so, please check both boxes in that row.)</td>\n",
       "      <td>False</td>\n",
       "      <td>Matrix</td>\n",
       "      <td>Likert</td>\n",
       "    </tr>\n",
       "    <tr>\n",
       "      <th>26</th>\n",
       "      <td>QID274</td>\n",
       "      <td>NEWCollabTools</td>\n",
       "      <td>Which &lt;strong&gt;development environments&lt;/strong&gt; did you use regularly over the past year, and which do you want to work with over the next year? Please check all that apply.</td>\n",
       "      <td>False</td>\n",
       "      <td>Matrix</td>\n",
       "      <td>Likert</td>\n",
       "    </tr>\n",
       "    <tr>\n",
       "      <th>27</th>\n",
       "      <td>QID71</td>\n",
       "      <td>OpSys</td>\n",
       "      <td>What is the primary operating system in which you work? *</td>\n",
       "      <td>False</td>\n",
       "      <td>MC</td>\n",
       "      <td>SAVR</td>\n",
       "    </tr>\n",
       "    <tr>\n",
       "      <th>28</th>\n",
       "      <td>QID243</td>\n",
       "      <td>NEWStuck</td>\n",
       "      <td>What do you do when you get stuck on a problem? Select all that apply.</td>\n",
       "      <td>False</td>\n",
       "      <td>MC</td>\n",
       "      <td>MAVR</td>\n",
       "    </tr>\n",
       "    <tr>\n",
       "      <th>29</th>\n",
       "      <td>QID91</td>\n",
       "      <td>S4</td>\n",
       "      <td>&lt;span style=\"font-size:22px; font-family: arial,helvetica,sans-serif; font-weight: 700;\"&gt;Stack Overflow - usage and community&lt;/span&gt;&lt;br&gt;\\n&lt;br&gt;\\n\\n&lt;p&gt;&lt;span style=\"font-size:16px; font-family:arial,helvetica,sans-serif;\"&gt;This section will focus on Stack Overflow usage and community questions.&lt;br&gt;\\...</td>\n",
       "      <td>False</td>\n",
       "      <td>DB</td>\n",
       "      <td>TB</td>\n",
       "    </tr>\n",
       "    <tr>\n",
       "      <th>30</th>\n",
       "      <td>QID266</td>\n",
       "      <td>NEWSOSites</td>\n",
       "      <td>Which of the following Stack Overflow sites have you visited? Select all that apply.</td>\n",
       "      <td>False</td>\n",
       "      <td>MC</td>\n",
       "      <td>MAVR</td>\n",
       "    </tr>\n",
       "    <tr>\n",
       "      <th>31</th>\n",
       "      <td>QID100</td>\n",
       "      <td>SOVisitFreq</td>\n",
       "      <td>How frequently would you say you visit Stack Overflow?</td>\n",
       "      <td>False</td>\n",
       "      <td>MC</td>\n",
       "      <td>MAVR</td>\n",
       "    </tr>\n",
       "    <tr>\n",
       "      <th>32</th>\n",
       "      <td>QID101</td>\n",
       "      <td>SOAccount</td>\n",
       "      <td>Do you have a Stack Overflow account?</td>\n",
       "      <td>False</td>\n",
       "      <td>MC</td>\n",
       "      <td>MAVR</td>\n",
       "    </tr>\n",
       "    <tr>\n",
       "      <th>33</th>\n",
       "      <td>QID102</td>\n",
       "      <td>SOPartFreq</td>\n",
       "      <td>How frequently would you say you participate in Q&amp;amp;A on Stack Overflow? By participate we mean ask, answer, vote for, or comment on questions.</td>\n",
       "      <td>False</td>\n",
       "      <td>MC</td>\n",
       "      <td>MAVR</td>\n",
       "    </tr>\n",
       "    <tr>\n",
       "      <th>34</th>\n",
       "      <td>QID106</td>\n",
       "      <td>SOComm</td>\n",
       "      <td>Do you consider yourself a member of the Stack Overflow community?</td>\n",
       "      <td>False</td>\n",
       "      <td>MC</td>\n",
       "      <td>MAVR</td>\n",
       "    </tr>\n",
       "    <tr>\n",
       "      <th>35</th>\n",
       "      <td>QID267</td>\n",
       "      <td>NEWOtherComms</td>\n",
       "      <td>Are you a member of any other online developer communities?</td>\n",
       "      <td>False</td>\n",
       "      <td>MC</td>\n",
       "      <td>MAVR</td>\n",
       "    </tr>\n",
       "    <tr>\n",
       "      <th>36</th>\n",
       "      <td>QID268</td>\n",
       "      <td>NEWOtherCommsNames</td>\n",
       "      <td>Please name up to 5 other online developer communities you belong to, and indicate whether they are public (anyone can join) or private (invitation required).</td>\n",
       "      <td>False</td>\n",
       "      <td>Matrix</td>\n",
       "      <td>Likert</td>\n",
       "    </tr>\n",
       "    <tr>\n",
       "      <th>37</th>\n",
       "      <td>QID121</td>\n",
       "      <td>S5</td>\n",
       "      <td>&lt;span style=\"font-size:22px; font-family: arial,helvetica,sans-serif; font-weight: 700;\"&gt;Demographics&lt;/span&gt;&lt;br&gt;\\n&lt;br&gt;\\n\\n&lt;p&gt;&lt;span style=\"font-size: 16px;\"&gt;All questions in this section are optional, you may leave questions blank if you prefer not to answer. &lt;/span&gt;&lt;/p&gt;&lt;p&gt;&lt;span style=\"font-size:...</td>\n",
       "      <td>False</td>\n",
       "      <td>DB</td>\n",
       "      <td>TB</td>\n",
       "    </tr>\n",
       "    <tr>\n",
       "      <th>38</th>\n",
       "      <td>QID127</td>\n",
       "      <td>Age</td>\n",
       "      <td>What is your age?</td>\n",
       "      <td>False</td>\n",
       "      <td>MC</td>\n",
       "      <td>MAVR</td>\n",
       "    </tr>\n",
       "    <tr>\n",
       "      <th>39</th>\n",
       "      <td>QID122</td>\n",
       "      <td>Gender</td>\n",
       "      <td>Which of the following describe you, if any? Please check all that apply.</td>\n",
       "      <td>False</td>\n",
       "      <td>MC</td>\n",
       "      <td>MAVR</td>\n",
       "    </tr>\n",
       "    <tr>\n",
       "      <th>40</th>\n",
       "      <td>QID153</td>\n",
       "      <td>Trans</td>\n",
       "      <td>Do you identify as transgender?</td>\n",
       "      <td>False</td>\n",
       "      <td>MC</td>\n",
       "      <td>MAVR</td>\n",
       "    </tr>\n",
       "    <tr>\n",
       "      <th>41</th>\n",
       "      <td>QID136</td>\n",
       "      <td>Sexuality</td>\n",
       "      <td>Which of the following describe you, if any? Please check all that apply.</td>\n",
       "      <td>False</td>\n",
       "      <td>MC</td>\n",
       "      <td>MAVR</td>\n",
       "    </tr>\n",
       "    <tr>\n",
       "      <th>42</th>\n",
       "      <td>QID126</td>\n",
       "      <td>Ethnicity</td>\n",
       "      <td>Which of the following describe you, if any? Please check all that apply.</td>\n",
       "      <td>False</td>\n",
       "      <td>MC</td>\n",
       "      <td>MAVR</td>\n",
       "    </tr>\n",
       "    <tr>\n",
       "      <th>43</th>\n",
       "      <td>QID124</td>\n",
       "      <td>Accessibility</td>\n",
       "      <td>Which of the following describe you, if any? Please check all that apply.</td>\n",
       "      <td>False</td>\n",
       "      <td>MC</td>\n",
       "      <td>MAVR</td>\n",
       "    </tr>\n",
       "    <tr>\n",
       "      <th>44</th>\n",
       "      <td>QID125</td>\n",
       "      <td>MentalHealth</td>\n",
       "      <td>Which of the following describe you, if any? Please check all that apply.</td>\n",
       "      <td>False</td>\n",
       "      <td>MC</td>\n",
       "      <td>MAVR</td>\n",
       "    </tr>\n",
       "    <tr>\n",
       "      <th>45</th>\n",
       "      <td>QID131</td>\n",
       "      <td>S6</td>\n",
       "      <td>&lt;span style=\"font-size:22px;\"&gt;&lt;strong&gt;Final Questions&lt;/strong&gt;&lt;/span&gt;&lt;div&gt;&lt;span style=\"font-family: arial, helvetica, sans-serif; font-size: 16px;\"&gt;&lt;br&gt;&lt;/span&gt;&lt;/div&gt;&lt;div&gt;&lt;span style=\"font-family: arial, helvetica, sans-serif; font-size: 16px;\"&gt;You're almost done!&lt;/span&gt;&lt;/div&gt;</td>\n",
       "      <td>False</td>\n",
       "      <td>DB</td>\n",
       "      <td>TB</td>\n",
       "    </tr>\n",
       "    <tr>\n",
       "      <th>46</th>\n",
       "      <td>QID132</td>\n",
       "      <td>SurveyLength</td>\n",
       "      <td>How do you feel about the length of the survey this year?</td>\n",
       "      <td>False</td>\n",
       "      <td>MC</td>\n",
       "      <td>MAVR</td>\n",
       "    </tr>\n",
       "    <tr>\n",
       "      <th>47</th>\n",
       "      <td>QID133</td>\n",
       "      <td>SurveyEase</td>\n",
       "      <td>How easy or difficult was this survey to complete?</td>\n",
       "      <td>False</td>\n",
       "      <td>MC</td>\n",
       "      <td>MAVR</td>\n",
       "    </tr>\n",
       "  </tbody>\n",
       "</table>\n",
       "</div>"
      ],
      "text/plain": [
       "       qid               qname  \\\n",
       "0    QID16                  S0   \n",
       "1    QID12            MetaInfo   \n",
       "2     QID1                  S1   \n",
       "3     QID2          MainBranch   \n",
       "4    QID24          Employment   \n",
       "5     QID6             Country   \n",
       "6     QID7            US_State   \n",
       "7     QID9          UK_Country   \n",
       "8   QID190                  S2   \n",
       "9    QID25             EdLevel   \n",
       "10  QID149          Age1stCode   \n",
       "11  QID276           LearnCode   \n",
       "12   QID32           YearsCode   \n",
       "13   QID34        YearsCodePro   \n",
       "14   QID31             DevType   \n",
       "15   QID29             OrgSize   \n",
       "16   QID50            Currency   \n",
       "17   QID51           CompTotal   \n",
       "18   QID52            CompFreq   \n",
       "19   QID61                  S3   \n",
       "20  QID233            Language   \n",
       "21  QID262            Database   \n",
       "22  QID263            Platform   \n",
       "23  QID264            Webframe   \n",
       "24  QID265            MiscTech   \n",
       "25  QID275           ToolsTech   \n",
       "26  QID274      NEWCollabTools   \n",
       "27   QID71               OpSys   \n",
       "28  QID243            NEWStuck   \n",
       "29   QID91                  S4   \n",
       "30  QID266          NEWSOSites   \n",
       "31  QID100         SOVisitFreq   \n",
       "32  QID101           SOAccount   \n",
       "33  QID102          SOPartFreq   \n",
       "34  QID106              SOComm   \n",
       "35  QID267       NEWOtherComms   \n",
       "36  QID268  NEWOtherCommsNames   \n",
       "37  QID121                  S5   \n",
       "38  QID127                 Age   \n",
       "39  QID122              Gender   \n",
       "40  QID153               Trans   \n",
       "41  QID136           Sexuality   \n",
       "42  QID126           Ethnicity   \n",
       "43  QID124       Accessibility   \n",
       "44  QID125        MentalHealth   \n",
       "45  QID131                  S6   \n",
       "46  QID132        SurveyLength   \n",
       "47  QID133          SurveyEase   \n",
       "\n",
       "                                                                                                                                                                                                                                                                                                       question  \\\n",
       "0   <div><span style=\"font-size:19px;\"><strong>Hello world! </strong></span></div>\\n\\n<div> </div>\\n\\n<div>Thank you for taking the 2021 Stack Overflow Developer Survey, the longest running survey of software developers (and anyone else who codes!) on Earth. </div>\\n\\n<div> </div>\\n\\n<div>As in prev...   \n",
       "1                                                                                                                                                                                                                                                                                             Browser Meta Info   \n",
       "2   <span style=\"font-size:22px; font-family: arial,helvetica,sans-serif; font-weight: 700;\">Basic Information</span><br>\\n<br>\\n<p><span style=\"font-size:16px; font-family:arial,helvetica,sans-serif;\">The first section will focus on some basic information about who you are.<br>\\n<br>\\nMost question...   \n",
       "3                                                                                                                                                                                     Which of the following options best describes you today? Here, by \"developer\" we mean \"someone who writes code.\" <b>*</b>   \n",
       "4                                                                                                                                                                                                                                  Which of the following best describes your current <b>employment status</b>?   \n",
       "5                                                                                                                                                                                                                                                Where do you live? <span style=\"font-weight: bolder;\">*</span>   \n",
       "6                                                                                                                                                                                                      <p>In which state or territory of the USA do you live? <i>This information will be kept private.</i></p>   \n",
       "7                                                                                                                                                                                                                In which part of the United Kingdom do you live? <i>This information will be kept private.</i>   \n",
       "8   <span style=\"font-size:22px; font-family: arial,helvetica,sans-serif; font-weight: 700;\">Education, work, and career</span><br>\\n<br>\\n\\n<p><span style=\"font-size:16px; font-family:arial,helvetica,sans-serif;\">This section will focus on your education, work, and career.<br>\\n<br>\\nMost questions...   \n",
       "9                                                                                                                                                                                                          Which of the following best describes the highest level of formal education that you’ve completed? *   \n",
       "10                                                                                                                                                                                                 At what age did you write your first line of code or program? (e.g., webpage, Hello World, Scratch project)    \n",
       "11                                                                                                                                                                                                                                                            How did you learn to code? Select all that apply.   \n",
       "12                                                                                                                                                                                                                                       Including any education, how many years have you been coding in total?   \n",
       "13                                                                                                                                                                                                              NOT including education, how many years have you coded professionally (as a part of your work)?   \n",
       "14                                                                                                                                                                                                                             Which of the following describes your current job? Please select all that apply.   \n",
       "15                                                                                                                                                                                                           Approximately how many people are employed by the company or organization you currently work for?    \n",
       "16                                                                                                                                                                            Which currency do you use day-to-day? If your answer is complicated, please pick the one you're most comfortable estimating in. *   \n",
       "17  What is your current total compensation (salary, bonuses, and perks, before taxes and deductions), in ${q://QID50/ChoiceGroup/SelectedChoicesTextEntry}? Please enter a whole number in the box below, without any punctuation. If you are paid hourly, please estimate an equivalent weekly, monthly, o...   \n",
       "18                                                                                                                                                                                                                                                             Is that compensation weekly, monthly, or yearly?   \n",
       "19  <span style=\"font-size:22px; font-family: arial,helvetica,sans-serif; font-weight: 700;\">Tech and tech culture</span><br>\\n<br>\\n\\n<p><span style=\"font-size:16px; font-family:arial,helvetica,sans-serif;\">The next set of questions will focus on technology and tech culture.<br>\\n<br>\\nMost questio...   \n",
       "20                    Which <b>programming, scripting, and markup languages</b> have you done extensive development work in over the past year, and which do you want to work in over the next year? (If you both worked with the language and want to continue to do so, please check both boxes in that row.)   \n",
       "21                                           Which <b>database environments </b>have you done extensive development work in over the past year, and which do you want to work in over the next year? (If you both worked with the database and want to continue to do so, please check both boxes in that row.)   \n",
       "22                                                 Which <b>cloud platforms</b> have you done extensive development work in over the past year, and which do you want to work in over the next year? (If you both worked with the platform and want to continue to do so, please check both boxes in that row.)   \n",
       "23  Which <strong>web frameworks </strong><span style=\"font-weight: bolder;\">and libraries</span> have you done extensive development work in over the past year, and which do you want to work in over the next year? (If you both worked with the framework and want to continue to do so, please check bo...   \n",
       "24                                 Which <b>other frameworks and libraries</b> have you done extensive development work in over the past year, and which do you want to work in over the next year? (If you both worked with the framework and want to continue to do so, please check both boxes in that row.)   \n",
       "25                                               Which <strong>tools</strong> have you done extensive development work in over the past year, and which do you want to work in over the next year? (If you both worked with the technology and want to continue to do so, please check both boxes in that row.)   \n",
       "26                                                                                                                                Which <strong>development environments</strong> did you use regularly over the past year, and which do you want to work with over the next year? Please check all that apply.   \n",
       "27                                                                                                                                                                                                                                                    What is the primary operating system in which you work? *   \n",
       "28                                                                                                                                                                                                                                       What do you do when you get stuck on a problem? Select all that apply.   \n",
       "29  <span style=\"font-size:22px; font-family: arial,helvetica,sans-serif; font-weight: 700;\">Stack Overflow - usage and community</span><br>\\n<br>\\n\\n<p><span style=\"font-size:16px; font-family:arial,helvetica,sans-serif;\">This section will focus on Stack Overflow usage and community questions.<br>\\...   \n",
       "30                                                                                                                                                                                                                         Which of the following Stack Overflow sites have you visited? Select all that apply.   \n",
       "31                                                                                                                                                                                                                                                       How frequently would you say you visit Stack Overflow?   \n",
       "32                                                                                                                                                                                                                                                                        Do you have a Stack Overflow account?   \n",
       "33                                                                                                                                                            How frequently would you say you participate in Q&amp;A on Stack Overflow? By participate we mean ask, answer, vote for, or comment on questions.   \n",
       "34                                                                                                                                                                                                                                           Do you consider yourself a member of the Stack Overflow community?   \n",
       "35                                                                                                                                                                                                                                                  Are you a member of any other online developer communities?   \n",
       "36                                                                                                                                               Please name up to 5 other online developer communities you belong to, and indicate whether they are public (anyone can join) or private (invitation required).   \n",
       "37  <span style=\"font-size:22px; font-family: arial,helvetica,sans-serif; font-weight: 700;\">Demographics</span><br>\\n<br>\\n\\n<p><span style=\"font-size: 16px;\">All questions in this section are optional, you may leave questions blank if you prefer not to answer. </span></p><p><span style=\"font-size:...   \n",
       "38                                                                                                                                                                                                                                                                                            What is your age?   \n",
       "39                                                                                                                                                                                                                                    Which of the following describe you, if any? Please check all that apply.   \n",
       "40                                                                                                                                                                                                                                                                              Do you identify as transgender?   \n",
       "41                                                                                                                                                                                                                                    Which of the following describe you, if any? Please check all that apply.   \n",
       "42                                                                                                                                                                                                                                    Which of the following describe you, if any? Please check all that apply.   \n",
       "43                                                                                                                                                                                                                                   Which of the following describe you, if any? Please check all that apply.    \n",
       "44                                                                                                                                                                                                                                   Which of the following describe you, if any? Please check all that apply.    \n",
       "45                         <span style=\"font-size:22px;\"><strong>Final Questions</strong></span><div><span style=\"font-family: arial, helvetica, sans-serif; font-size: 16px;\"><br></span></div><div><span style=\"font-family: arial, helvetica, sans-serif; font-size: 16px;\">You're almost done!</span></div>   \n",
       "46                                                                                                                                                                                                                                                    How do you feel about the length of the survey this year?   \n",
       "47                                                                                                                                                                                                                                                           How easy or difficult was this survey to complete?   \n",
       "\n",
       "    force_resp    type selector  \n",
       "0        False      DB       TB  \n",
       "1        False    Meta  Browser  \n",
       "2        False      DB       TB  \n",
       "3         True      MC     SAVR  \n",
       "4        False      MC     MAVR  \n",
       "5         True      MC       DL  \n",
       "6        False      MC       DL  \n",
       "7        False      MC       DL  \n",
       "8        False      DB       TB  \n",
       "9        False      MC     SAVR  \n",
       "10       False      MC     MAVR  \n",
       "11       False      MC     MAVR  \n",
       "12       False      MC       DL  \n",
       "13       False      MC       DL  \n",
       "14       False      MC     MAVR  \n",
       "15       False      MC     MAVR  \n",
       "16        True      MC       SB  \n",
       "17       False      TE       SL  \n",
       "18       False      MC     MAVR  \n",
       "19       False      DB       TB  \n",
       "20       False  Matrix   Likert  \n",
       "21       False  Matrix   Likert  \n",
       "22       False  Matrix   Likert  \n",
       "23       False  Matrix   Likert  \n",
       "24       False  Matrix   Likert  \n",
       "25       False  Matrix   Likert  \n",
       "26       False  Matrix   Likert  \n",
       "27       False      MC     SAVR  \n",
       "28       False      MC     MAVR  \n",
       "29       False      DB       TB  \n",
       "30       False      MC     MAVR  \n",
       "31       False      MC     MAVR  \n",
       "32       False      MC     MAVR  \n",
       "33       False      MC     MAVR  \n",
       "34       False      MC     MAVR  \n",
       "35       False      MC     MAVR  \n",
       "36       False  Matrix   Likert  \n",
       "37       False      DB       TB  \n",
       "38       False      MC     MAVR  \n",
       "39       False      MC     MAVR  \n",
       "40       False      MC     MAVR  \n",
       "41       False      MC     MAVR  \n",
       "42       False      MC     MAVR  \n",
       "43       False      MC     MAVR  \n",
       "44       False      MC     MAVR  \n",
       "45       False      DB       TB  \n",
       "46       False      MC     MAVR  \n",
       "47       False      MC     MAVR  "
      ]
     },
     "execution_count": 7,
     "metadata": {},
     "output_type": "execute_result"
    }
   ],
   "source": [
    "df_schema"
   ]
  },
  {
   "cell_type": "code",
   "execution_count": 8,
   "id": "71219470",
   "metadata": {},
   "outputs": [
    {
     "data": {
      "text/plain": [
       "array([4.800e+03,       nan, 4.200e+04, ..., 8.880e+04, 6.500e+01,\n",
       "       1.605e+05])"
      ]
     },
     "execution_count": 8,
     "metadata": {},
     "output_type": "execute_result"
    }
   ],
   "source": [
    "df_public['CompTotal'].unique()"
   ]
  },
  {
   "cell_type": "code",
   "execution_count": 9,
   "id": "809d67eb",
   "metadata": {},
   "outputs": [
    {
     "name": "stdout",
     "output_type": "stream",
     "text": [
      "<class 'pandas.core.frame.DataFrame'>\n",
      "RangeIndex: 83439 entries, 0 to 83438\n",
      "Data columns (total 48 columns):\n",
      " #   Column                        Non-Null Count  Dtype  \n",
      "---  ------                        --------------  -----  \n",
      " 0   ResponseId                    83439 non-null  int64  \n",
      " 1   MainBranch                    83439 non-null  object \n",
      " 2   Employment                    83323 non-null  object \n",
      " 3   Country                       83439 non-null  object \n",
      " 4   US_State                      14920 non-null  object \n",
      " 5   UK_Country                    4418 non-null   object \n",
      " 6   EdLevel                       83126 non-null  object \n",
      " 7   Age1stCode                    83243 non-null  object \n",
      " 8   LearnCode                     82963 non-null  object \n",
      " 9   YearsCode                     81641 non-null  object \n",
      " 10  YearsCodePro                  61216 non-null  object \n",
      " 11  DevType                       66484 non-null  object \n",
      " 12  OrgSize                       60726 non-null  object \n",
      " 13  Currency                      61080 non-null  object \n",
      " 14  CompTotal                     47183 non-null  float64\n",
      " 15  CompFreq                      52150 non-null  object \n",
      " 16  LanguageHaveWorkedWith        82357 non-null  object \n",
      " 17  LanguageWantToWorkWith        76821 non-null  object \n",
      " 18  DatabaseHaveWorkedWith        69546 non-null  object \n",
      " 19  DatabaseWantToWorkWith        58299 non-null  object \n",
      " 20  PlatformHaveWorkedWith        52135 non-null  object \n",
      " 21  PlatformWantToWorkWith        41619 non-null  object \n",
      " 22  WebframeHaveWorkedWith        61707 non-null  object \n",
      " 23  WebframeWantToWorkWith        52095 non-null  object \n",
      " 24  MiscTechHaveWorkedWith        47055 non-null  object \n",
      " 25  MiscTechWantToWorkWith        38021 non-null  object \n",
      " 26  ToolsTechHaveWorkedWith       72537 non-null  object \n",
      " 27  ToolsTechWantToWorkWith       65480 non-null  object \n",
      " 28  NEWCollabToolsHaveWorkedWith  81234 non-null  object \n",
      " 29  NEWCollabToolsWantToWorkWith  73022 non-null  object \n",
      " 30  OpSys                         83294 non-null  object \n",
      " 31  NEWStuck                      83052 non-null  object \n",
      " 32  NEWSOSites                    83171 non-null  object \n",
      " 33  SOVisitFreq                   82413 non-null  object \n",
      " 34  SOAccount                     82525 non-null  object \n",
      " 35  SOPartFreq                    67553 non-null  object \n",
      " 36  SOComm                        82319 non-null  object \n",
      " 37  NEWOtherComms                 82828 non-null  object \n",
      " 38  Age                           82407 non-null  object \n",
      " 39  Gender                        82286 non-null  object \n",
      " 40  Trans                         80678 non-null  object \n",
      " 41  Sexuality                     73366 non-null  object \n",
      " 42  Ethnicity                     79464 non-null  object \n",
      " 43  Accessibility                 77603 non-null  object \n",
      " 44  MentalHealth                  76920 non-null  object \n",
      " 45  SurveyLength                  81711 non-null  object \n",
      " 46  SurveyEase                    81948 non-null  object \n",
      " 47  ConvertedCompYearly           46844 non-null  float64\n",
      "dtypes: float64(2), int64(1), object(45)\n",
      "memory usage: 30.6+ MB\n"
     ]
    }
   ],
   "source": [
    "df_public.info()"
   ]
  },
  {
   "cell_type": "code",
   "execution_count": 10,
   "id": "e038bdd1",
   "metadata": {},
   "outputs": [],
   "source": [
    "questions = ['MainBranch', 'Employment', 'Country', 'US_State',\n",
    "       'UK_Country', 'EdLevel', 'Age1stCode', 'LearnCode', 'YearsCode',\n",
    "       'YearsCodePro', 'DevType', 'OrgSize', 'Currency', 'CompTotal',\n",
    "       'CompFreq', 'LanguageHaveWorkedWith', 'LanguageWantToWorkWith', \n",
    "        'Age', 'Gender', 'Trans', 'Sexuality',\n",
    "       'Accessibility', 'MentalHealth', 'SurveyLength',\n",
    "       'SurveyEase', 'ConvertedCompYearly','OpSys'\n",
    "        ]"
   ]
  },
  {
   "cell_type": "code",
   "execution_count": 11,
   "id": "0c10d2ba",
   "metadata": {},
   "outputs": [],
   "source": [
    "df_public = df_public[questions]"
   ]
  },
  {
   "cell_type": "code",
   "execution_count": 12,
   "id": "3746ac55",
   "metadata": {},
   "outputs": [],
   "source": [
    "branch = {\n",
    "    \"I am a developer by profession\": \"Profissional\",\n",
    "    \"I am a student who is learning to code\": \"Estudante\",\n",
    "    \"I am not primarily a developer, but I write code sometimes as part of my work\": \"Não é DEV\",\n",
    "    \"I code primarily as a hobby\": \"Hobby\",\n",
    "    \"I used to be a developer by profession, but no longer am\": \"Ex-profissional\",\n",
    "    \"None of these\": \"Sem informação\"\n",
    "}"
   ]
  },
  {
   "cell_type": "code",
   "execution_count": 13,
   "id": "16b07a81",
   "metadata": {},
   "outputs": [],
   "source": [
    "df_public['Resume MainBranch'] = df_public['MainBranch'].apply(lambda x: branch.get(x,\"inválido\")).astype(\"string\")"
   ]
  },
  {
   "cell_type": "code",
   "execution_count": 14,
   "id": "b38a7fb9",
   "metadata": {},
   "outputs": [],
   "source": [
    "df_public.drop(labels=\"MainBranch\", axis=\"columns\", inplace=True)"
   ]
  },
  {
   "cell_type": "code",
   "execution_count": 15,
   "id": "ba06e316",
   "metadata": {},
   "outputs": [],
   "source": [
    "questions2 = ['YearsCode','YearsCodePro']"
   ]
  },
  {
   "cell_type": "code",
   "execution_count": 16,
   "id": "cb32a6d7",
   "metadata": {},
   "outputs": [],
   "source": [
    "questions22 = ['CompTotal','ConvertedCompYearly']"
   ]
  },
  {
   "cell_type": "code",
   "execution_count": 17,
   "id": "019f30a5",
   "metadata": {},
   "outputs": [],
   "source": [
    "df_public.loc[:,questions2] = df_public.loc[:,questions2].apply(pd.to_numeric, args=(\"coerce\",), axis='index')"
   ]
  },
  {
   "cell_type": "code",
   "execution_count": 18,
   "id": "83322957",
   "metadata": {},
   "outputs": [],
   "source": [
    "media = df_public[questions2].apply(pd.Series.mean, axis='index').astype(int)"
   ]
  },
  {
   "cell_type": "code",
   "execution_count": 19,
   "id": "2228062d",
   "metadata": {},
   "outputs": [],
   "source": [
    "for col in questions2:\n",
    "    df_public.get(col).fillna(value=media.get(col), inplace=True)"
   ]
  },
  {
   "cell_type": "code",
   "execution_count": 20,
   "id": "0392708f",
   "metadata": {},
   "outputs": [],
   "source": [
    "def print_col_numbers(*cols):\n",
    "    for col in cols:\n",
    "        print(col)\n",
    "        try:\n",
    "            print(df_public[col].unique())\n",
    "            print(df_public[col].unique().shape)\n",
    "        except:\n",
    "            print(f\"Column {col} não existe.\")\n",
    "        print(\"\\n\\n\")"
   ]
  },
  {
   "cell_type": "code",
   "execution_count": 21,
   "id": "151ccd95",
   "metadata": {},
   "outputs": [
    {
     "name": "stdout",
     "output_type": "stream",
     "text": [
      "YearsCode\n",
      "[12.  7. 17.  3.  4.  6. 16. 15. 10. 40.  9. 26. 14. 39. 20.  8. 19.  5.\n",
      " 22.  2.  1. 34. 21. 13. 25. 24. 30. 31. 18. 38. 27. 41. 42. 35. 23. 28.\n",
      " 11. 37. 44. 43. 36. 33. 45. 29. 50. 46. 32. 47. 49. 48.]\n",
      "(50,)\n",
      "\n",
      "\n",
      "\n",
      "YearsCodePro\n",
      "[ 9. 10.  4.  5.  6.  2. 30. 18. 12. 21.  1. 16. 15.  3. 35.  7.  8. 17.\n",
      " 14. 26. 25. 20. 50. 34. 11. 24. 22. 13. 31. 23. 39. 41. 27. 28. 19. 33.\n",
      " 37. 29. 32. 43. 40. 38. 45. 42. 46. 36. 44. 47. 48. 49.]\n",
      "(50,)\n",
      "\n",
      "\n",
      "\n"
     ]
    }
   ],
   "source": [
    "print_col_numbers(*questions2)"
   ]
  },
  {
   "cell_type": "code",
   "execution_count": 22,
   "id": "9fe2d57e",
   "metadata": {},
   "outputs": [
    {
     "name": "stdout",
     "output_type": "stream",
     "text": [
      "<class 'pandas.core.frame.DataFrame'>\n",
      "RangeIndex: 83439 entries, 0 to 83438\n",
      "Data columns (total 27 columns):\n",
      " #   Column                  Non-Null Count  Dtype  \n",
      "---  ------                  --------------  -----  \n",
      " 0   Employment              83323 non-null  object \n",
      " 1   Country                 83439 non-null  object \n",
      " 2   US_State                14920 non-null  object \n",
      " 3   UK_Country              4418 non-null   object \n",
      " 4   EdLevel                 83126 non-null  object \n",
      " 5   Age1stCode              83243 non-null  object \n",
      " 6   LearnCode               82963 non-null  object \n",
      " 7   YearsCode               83439 non-null  float64\n",
      " 8   YearsCodePro            83439 non-null  float64\n",
      " 9   DevType                 66484 non-null  object \n",
      " 10  OrgSize                 60726 non-null  object \n",
      " 11  Currency                61080 non-null  object \n",
      " 12  CompTotal               47183 non-null  float64\n",
      " 13  CompFreq                52150 non-null  object \n",
      " 14  LanguageHaveWorkedWith  82357 non-null  object \n",
      " 15  LanguageWantToWorkWith  76821 non-null  object \n",
      " 16  Age                     82407 non-null  object \n",
      " 17  Gender                  82286 non-null  object \n",
      " 18  Trans                   80678 non-null  object \n",
      " 19  Sexuality               73366 non-null  object \n",
      " 20  Accessibility           77603 non-null  object \n",
      " 21  MentalHealth            76920 non-null  object \n",
      " 22  SurveyLength            81711 non-null  object \n",
      " 23  SurveyEase              81948 non-null  object \n",
      " 24  ConvertedCompYearly     46844 non-null  float64\n",
      " 25  OpSys                   83294 non-null  object \n",
      " 26  Resume MainBranch       83439 non-null  string \n",
      "dtypes: float64(4), object(22), string(1)\n",
      "memory usage: 17.2+ MB\n"
     ]
    }
   ],
   "source": [
    "df_public.info()"
   ]
  },
  {
   "cell_type": "code",
   "execution_count": 23,
   "id": "b9d31d09",
   "metadata": {},
   "outputs": [],
   "source": [
    "col_string = set(df_public.columns) - set(questions2)"
   ]
  },
  {
   "cell_type": "code",
   "execution_count": 24,
   "id": "32ab1b6a",
   "metadata": {},
   "outputs": [],
   "source": [
    "df_public.loc[:,col_string] = df_public.loc[:,col_string].astype(\"string\")"
   ]
  },
  {
   "cell_type": "code",
   "execution_count": 25,
   "id": "2343afe5",
   "metadata": {},
   "outputs": [
    {
     "name": "stdout",
     "output_type": "stream",
     "text": [
      "<class 'pandas.core.frame.DataFrame'>\n",
      "RangeIndex: 83439 entries, 0 to 83438\n",
      "Data columns (total 27 columns):\n",
      " #   Column                  Non-Null Count  Dtype  \n",
      "---  ------                  --------------  -----  \n",
      " 0   Employment              83323 non-null  string \n",
      " 1   Country                 83439 non-null  string \n",
      " 2   US_State                14920 non-null  string \n",
      " 3   UK_Country              4418 non-null   string \n",
      " 4   EdLevel                 83126 non-null  string \n",
      " 5   Age1stCode              83243 non-null  string \n",
      " 6   LearnCode               82963 non-null  string \n",
      " 7   YearsCode               83439 non-null  float64\n",
      " 8   YearsCodePro            83439 non-null  float64\n",
      " 9   DevType                 66484 non-null  string \n",
      " 10  OrgSize                 60726 non-null  string \n",
      " 11  Currency                61080 non-null  string \n",
      " 12  CompTotal               47183 non-null  string \n",
      " 13  CompFreq                52150 non-null  string \n",
      " 14  LanguageHaveWorkedWith  82357 non-null  string \n",
      " 15  LanguageWantToWorkWith  76821 non-null  string \n",
      " 16  Age                     82407 non-null  string \n",
      " 17  Gender                  82286 non-null  string \n",
      " 18  Trans                   80678 non-null  string \n",
      " 19  Sexuality               73366 non-null  string \n",
      " 20  Accessibility           77603 non-null  string \n",
      " 21  MentalHealth            76920 non-null  string \n",
      " 22  SurveyLength            81711 non-null  string \n",
      " 23  SurveyEase              81948 non-null  string \n",
      " 24  ConvertedCompYearly     46844 non-null  string \n",
      " 25  OpSys                   83294 non-null  string \n",
      " 26  Resume MainBranch       83439 non-null  string \n",
      "dtypes: float64(2), string(25)\n",
      "memory usage: 17.2 MB\n"
     ]
    }
   ],
   "source": [
    "df_public.info()"
   ]
  },
  {
   "cell_type": "code",
   "execution_count": 26,
   "id": "e0da9065",
   "metadata": {},
   "outputs": [
    {
     "data": {
      "text/plain": [
       "Profissional       69.695226\n",
       "Estudante           14.41652\n",
       "Não é DEV           7.883604\n",
       "Hobby                5.90731\n",
       "Ex-profissional      1.48252\n",
       "Sem informação       0.61482\n",
       "Name: Resume MainBranch, dtype: Float64"
      ]
     },
     "execution_count": 26,
     "metadata": {},
     "output_type": "execute_result"
    }
   ],
   "source": [
    "#1º pergunta\n",
    "\n",
    "\n",
    "#Porcentagem das pessoas que responderam que se consideram profissionais, não profissionais, estudante, hobby, \n",
    "\n",
    "df_public[\"Resume MainBranch\"].dropna().value_counts(normalize=True)*100"
   ]
  },
  {
   "cell_type": "code",
   "execution_count": 27,
   "id": "c83852ed",
   "metadata": {},
   "outputs": [
    {
     "name": "stdout",
     "output_type": "stream",
     "text": [
      "Country\n",
      "United States of America                                15288\n",
      "India                                                   10511\n",
      "Germany                                                  5625\n",
      "United Kingdom of Great Britain and Northern Ireland     4475\n",
      "Canada                                                   3012\n",
      "                                                        ...  \n",
      "Liechtenstein                                               1\n",
      "Papua New Guinea                                            1\n",
      "Dominica                                                    1\n",
      "Saint Kitts and Nevis                                       1\n",
      "Saint Vincent and the Grenadines                            1\n",
      "Name: Resume MainBranch, Length: 181, dtype: int64\n",
      "United States of America                                18.322367\n",
      "India                                                   12.597227\n",
      "Germany                                                  6.741452\n",
      "United Kingdom of Great Britain and Northern Ireland     5.363199\n",
      "Canada                                                   3.609823\n",
      "                                                          ...    \n",
      "Saint Kitts and Nevis                                    0.001198\n",
      "Dominica                                                 0.001198\n",
      "Saint Vincent and the Grenadines                         0.001198\n",
      "Tuvalu                                                   0.001198\n",
      "Papua New Guinea                                         0.001198\n",
      "Name: Country, Length: 181, dtype: Float64\n"
     ]
    }
   ],
   "source": [
    "#2º pergunta\n",
    "\n",
    "#Distribuição das pessoas que responderam por localidade. Qual o país que teve maior participação?\n",
    "\n",
    "dfa = df_public[\"Country\"].dropna().value_counts(normalize=True)*100\n",
    "\n",
    "df = df_public.dropna(subset=[\"Country\"], axis=0).groupby(by=\"Country\")[\"Resume MainBranch\"].count()\n",
    "\n",
    "print(df.sort_values(ascending=False))\n",
    "print(dfa)"
   ]
  },
  {
   "cell_type": "code",
   "execution_count": 28,
   "id": "aca6c120",
   "metadata": {},
   "outputs": [],
   "source": [
    "#3º pergunta\n",
    "\n",
    "#Qual a distribuição nível de estudo dos participantes?"
   ]
  },
  {
   "cell_type": "code",
   "execution_count": 29,
   "id": "6cc009eb",
   "metadata": {},
   "outputs": [
    {
     "data": {
      "text/plain": [
       "<StringArray>\n",
       "['Secondary school (e.g. American high school, German Realschule or Gymnasium, etc.)',\n",
       "                                       'Bachelor’s degree (B.A., B.S., B.Eng., etc.)',\n",
       "                                    'Master’s degree (M.A., M.S., M.Eng., MBA, etc.)',\n",
       "                                         'Other doctoral degree (Ph.D., Ed.D., etc.)',\n",
       "                             'Some college/university study without earning a degree',\n",
       "                                                                     'Something else',\n",
       "                                                 'Professional degree (JD, MD, etc.)',\n",
       "                                                          'Primary/elementary school',\n",
       "                                                'Associate degree (A.A., A.S., etc.)',\n",
       "                                                                                 <NA>]\n",
       "Length: 10, dtype: string"
      ]
     },
     "execution_count": 29,
     "metadata": {},
     "output_type": "execute_result"
    }
   ],
   "source": [
    "df_public['EdLevel'].unique()"
   ]
  },
  {
   "cell_type": "code",
   "execution_count": 30,
   "id": "e24cc3fd",
   "metadata": {},
   "outputs": [],
   "source": [
    "b ranch2= {\n",
    "    \"Secondary school (e.g. American high school, German Realschule or Gymnasium, etc.)\": \"Secondary school\",\n",
    "    \"Bachelor’s degree (B.A., B.S., B.Eng., etc.)\": \"Bachelor’s degree\",\n",
    "    \"Master’s degree (M.A., M.S., M.Eng., MBA, etc.)\": \"Master’s degree\",\n",
    "    \"Other doctoral degree (Ph.D., Ed.D., etc.)\": \"Other doctoral degree\",\n",
    "    \"Some college/university study without earning a degree\": \"Without degree but was student\",\n",
    "    \"Something else\": \"Sem informação\",\n",
    "    \"Professional degree (JD, MD, etc.)\" : \"Professional degree\",\n",
    "    \"Primary/elementary school\": \"Primary/elementary school\",\n",
    "    \"Associate degree (A.A., A.S., etc.)\": \"Associate degree\"  \n",
    "}"
   ]
  },
  {
   "cell_type": "code",
   "execution_count": 31,
   "id": "9c4c63d0",
   "metadata": {},
   "outputs": [],
   "source": [
    "df_public['Resume EdLevel'] = df_public['EdLevel'].apply(lambda x: branch2.get(x,\"inválido\")).astype(\"string\")"
   ]
  },
  {
   "cell_type": "code",
   "execution_count": 32,
   "id": "3f209b12",
   "metadata": {},
   "outputs": [],
   "source": [
    "df_public.drop(labels=\"EdLevel\", axis=\"columns\", inplace=True)"
   ]
  },
  {
   "cell_type": "code",
   "execution_count": 33,
   "id": "40fafbbf",
   "metadata": {},
   "outputs": [
    {
     "data": {
      "text/plain": [
       "<StringArray>\n",
       "[              'Secondary school',              'Bachelor’s degree',\n",
       "                'Master’s degree',          'Other doctoral degree',\n",
       " 'Without degree but was student',                 'Sem informação',\n",
       "            'Professional degree',      'Primary/elementary school',\n",
       "               'Associate degree',                       'inválido']\n",
       "Length: 10, dtype: string"
      ]
     },
     "execution_count": 33,
     "metadata": {},
     "output_type": "execute_result"
    }
   ],
   "source": [
    "df_public['Resume EdLevel'].unique()"
   ]
  },
  {
   "cell_type": "code",
   "execution_count": 34,
   "id": "cf6d7cad",
   "metadata": {},
   "outputs": [
    {
     "data": {
      "text/plain": [
       "Bachelor’s degree                 42.374669\n",
       "Master’s degree                   20.987787\n",
       "Without degree but was student    12.690708\n",
       "Secondary school                  11.426311\n",
       "Other doctoral degree              3.076499\n",
       "Primary/elementary school          2.971033\n",
       "Associate degree                    2.67381\n",
       "Sem informação                     1.918767\n",
       "Professional degree                1.505291\n",
       "inválido                           0.375124\n",
       "Name: Resume EdLevel, dtype: Float64"
      ]
     },
     "execution_count": 34,
     "metadata": {},
     "output_type": "execute_result"
    }
   ],
   "source": [
    "df_public[\"Resume EdLevel\"].dropna().value_counts(normalize=True)*100"
   ]
  },
  {
   "cell_type": "code",
   "execution_count": 35,
   "id": "32aa6de9",
   "metadata": {},
   "outputs": [
    {
     "data": {
      "text/plain": [
       "Resume MainBranch  Age1stCode          \n",
       "Estudante          11 - 17 years           56.933211\n",
       "                   18 - 24 years           23.847244\n",
       "                   5 - 10 years            13.766364\n",
       "                   25 - 34 years            2.885016\n",
       "                   Younger than 5 years     1.692654\n",
       "                   35 - 44 years            0.650379\n",
       "                   45 - 54 years            0.091720\n",
       "                   55 - 64 years            0.066706\n",
       "                   Older than 64 years      0.066706\n",
       "Ex-profissional    11 - 17 years           44.849959\n",
       "                   18 - 24 years           24.817518\n",
       "                   5 - 10 years            17.518248\n",
       "                   25 - 34 years            4.622871\n",
       "                   35 - 44 years            2.676399\n",
       "                   45 - 54 years            2.027575\n",
       "                   Younger than 5 years     1.703163\n",
       "                   55 - 64 years            1.378751\n",
       "                   Older than 64 years      0.405515\n",
       "Hobby              11 - 17 years           48.949623\n",
       "                   5 - 10 years            34.346319\n",
       "                   18 - 24 years            8.892515\n",
       "                   25 - 34 years            3.181725\n",
       "                   Younger than 5 years     1.917194\n",
       "                   35 - 44 years            1.427697\n",
       "                   45 - 54 years            0.611870\n",
       "                   55 - 64 years            0.448705\n",
       "                   Older than 64 years      0.224352\n",
       "Não é DEV          11 - 17 years           47.806884\n",
       "                   18 - 24 years           23.926287\n",
       "                   5 - 10 years            14.240024\n",
       "                   25 - 34 years            7.493147\n",
       "                   35 - 44 years            3.045995\n",
       "                   45 - 54 years            1.583917\n",
       "                   Younger than 5 years     1.035638\n",
       "                   55 - 64 years            0.685349\n",
       "                   Older than 64 years      0.182760\n",
       "Profissional       11 - 17 years           53.538954\n",
       "                   18 - 24 years           25.490804\n",
       "                   5 - 10 years            12.356203\n",
       "                   25 - 34 years            5.314459\n",
       "                   35 - 44 years            1.551629\n",
       "                   Younger than 5 years     0.859337\n",
       "                   45 - 54 years            0.599297\n",
       "                   55 - 64 years            0.246263\n",
       "                   Older than 64 years      0.043053\n",
       "Sem informação     11 - 17 years           33.541667\n",
       "                   18 - 24 years           18.750000\n",
       "                   25 - 34 years           12.916667\n",
       "                   5 - 10 years            12.291667\n",
       "                   35 - 44 years            6.250000\n",
       "                   45 - 54 years            5.416667\n",
       "                   Older than 64 years      4.583333\n",
       "                   Younger than 5 years     4.166667\n",
       "                   55 - 64 years            2.083333\n",
       "Name: Age1stCode, dtype: float64"
      ]
     },
     "execution_count": 35,
     "metadata": {},
     "output_type": "execute_result"
    }
   ],
   "source": [
    "#4º pergunta\n",
    "\n",
    "#Qual a distribução de tempo de trabalho para cada tipo de profissional respondido na questão 1.\n",
    "\n",
    "\n",
    "#a) Levando em consideração a Idade do 1stCode \n",
    "df_public.dropna(subset=[\"Resume MainBranch\"], axis=0).groupby(by=\"Resume MainBranch\")[\"Age1stCode\"].value_counts(normalize=True)*100"
   ]
  },
  {
   "cell_type": "code",
   "execution_count": 36,
   "id": "1f3dd7b3",
   "metadata": {},
   "outputs": [
    {
     "data": {
      "text/plain": [
       "Resume MainBranch\n",
       "Ex-profissional    20\n",
       "Não é DEV          14\n",
       "Profissional       13\n",
       "Sem informação     11\n",
       "Hobby               7\n",
       "Estudante           5\n",
       "Name: YearsCode, dtype: int32"
      ]
     },
     "execution_count": 36,
     "metadata": {},
     "output_type": "execute_result"
    }
   ],
   "source": [
    "#4º pergunta\n",
    "\n",
    "#Qual a distribução de tempo de trabalho para cada tipo de profissional respondido na questão 1.\n",
    "\n",
    "\n",
    "#b) Levando em consideração o tempo médio do primeiro código com aprendizado em cursos\n",
    "\n",
    "df_public.dropna(subset=[\"Resume MainBranch\"], axis=0).groupby(by=\"Resume MainBranch\")[\"YearsCode\"].apply(pd.Series.mean, axis='index').astype(int).sort_values(ascending=False)"
   ]
  },
  {
   "cell_type": "code",
   "execution_count": 37,
   "id": "081cd4e6",
   "metadata": {},
   "outputs": [
    {
     "data": {
      "text/plain": [
       "Resume MainBranch\n",
       "Ex-profissional    14\n",
       "Não é DEV          10\n",
       "Estudante           9\n",
       "Hobby               9\n",
       "Profissional        9\n",
       "Sem informação      9\n",
       "Name: YearsCodePro, dtype: int32"
      ]
     },
     "execution_count": 37,
     "metadata": {},
     "output_type": "execute_result"
    }
   ],
   "source": [
    "#4º pergunta\n",
    "\n",
    "#Qual a distribução de tempo de trabalho para cada tipo de profissional respondido na questão 1.\n",
    "\n",
    "\n",
    "#c) Levando em consideração o tempo médio do primeiro código profissional\n",
    "\n",
    "df_public.dropna(subset=[\"Resume MainBranch\"], axis=0).groupby(by=\"Resume MainBranch\")[\"YearsCodePro\"].apply(pd.Series.mean, axis='index').astype(int).sort_values(ascending=False)"
   ]
  },
  {
   "cell_type": "code",
   "execution_count": 38,
   "id": "72d8dcc0",
   "metadata": {},
   "outputs": [],
   "source": [
    "#5º pergunta\n",
    "\n",
    "#Das pessoas que trabalham profissionalmente: \n",
    "\n",
    "#a)qual a profissão delas? "
   ]
  },
  {
   "cell_type": "code",
   "execution_count": 39,
   "id": "6d4cccd4",
   "metadata": {},
   "outputs": [
    {
     "data": {
      "text/plain": [
       "Developer, full-stack                            27.600609\n",
       "Developer, front-end                             22.088375\n",
       "Developer, mobile                                16.253473\n",
       "Developer, back-end                              13.702608\n",
       "Developer, desktop or enterprise applications     8.837501\n",
       "Engineer, data                                    2.825132\n",
       "Data scientist or machine learning specialist     2.362642\n",
       "Developer, embedded applications or devices       1.382092\n",
       "Other (please specify):                           1.382092\n",
       "DevOps specialist                                 0.579009\n",
       "Developer, QA or test                             0.501927\n",
       "Academic researcher                               0.489379\n",
       "Engineering manager                               0.480416\n",
       "Developer, game or graphics                       0.371067\n",
       "Senior Executive (C-Suite, VP, etc.)              0.302949\n",
       "Data or business analyst                          0.161334\n",
       "Student                                           0.146993\n",
       "Scientist                                         0.127274\n",
       "Database administrator                            0.109348\n",
       "Engineer, site reliability                        0.109348\n",
       "Product manager                                   0.057363\n",
       "Designer                                          0.050193\n",
       "System administrator                              0.039437\n",
       "Educator                                          0.035852\n",
       "Marketing or sales professional                   0.003585\n",
       "Name: DevType, dtype: Float64"
      ]
     },
     "execution_count": 39,
     "metadata": {},
     "output_type": "execute_result"
    }
   ],
   "source": [
    "questions4 = ['DevType', 'Resume MainBranch']\n",
    "teste2 = df_public[questions4]\n",
    "df_mask = teste2['Resume MainBranch'] == \"Profissional\" \n",
    "filtered_df = teste2[df_mask]\n",
    "a = filtered_df['DevType'].str.split(\";\", expand=True)\n",
    "b = a.drop(columns=[1,2,3,4,5,6,7,8,9,10,11,12,13,14,15,16,17,18,19,20,21,22,23,24])\n",
    "c = b.rename({0 : \"DevType\"}, axis='columns')\n",
    "\n",
    "c[\"DevType\"].dropna().value_counts(normalize=True)*100\n",
    "# quantidade c[\"DevType\"].dropna().value_counts()\n"
   ]
  },
  {
   "cell_type": "code",
   "execution_count": 40,
   "id": "0dd62d13",
   "metadata": {},
   "outputs": [],
   "source": [
    "#5º pergunta\n",
    "\n",
    "#Das pessoas que trabalham profissionalmente: \n",
    "\n",
    "#b)qual a escolaridade?"
   ]
  },
  {
   "cell_type": "code",
   "execution_count": 41,
   "id": "16df894c",
   "metadata": {},
   "outputs": [
    {
     "data": {
      "text/plain": [
       "Resume EdLevel\n",
       "Bachelor’s degree                 28691\n",
       "Master’s degree                   14285\n",
       "Without degree but was student     6941\n",
       "Secondary school                   2910\n",
       "Associate degree                   1611\n",
       "Other doctoral degree              1502\n",
       "Professional degree                 947\n",
       "Sem informação                      724\n",
       "Primary/elementary school           420\n",
       "inválido                            122\n",
       "Name: Resume MainBranch, dtype: int64"
      ]
     },
     "execution_count": 41,
     "metadata": {},
     "output_type": "execute_result"
    }
   ],
   "source": [
    "questions3 = ['Resume EdLevel', 'Resume MainBranch']\n",
    "teste = df_public.loc[:,questions3]\n",
    "df_mask = teste['Resume MainBranch'] == \"Profissional\" \n",
    "filtered_df = teste[df_mask]\n",
    "filtered_df.dropna(subset=[\"Resume EdLevel\"], axis=0).groupby(by=\"Resume EdLevel\")[\"Resume MainBranch\"].count().sort_values(ascending=False)\n",
    "\n"
   ]
  },
  {
   "cell_type": "code",
   "execution_count": 42,
   "id": "1543d2f4",
   "metadata": {},
   "outputs": [],
   "source": [
    "#5º pergunta\n",
    "\n",
    "#Das pessoas que trabalham profissionalmente: \n",
    "\n",
    "#c)qual o tamanho das empresas de pessoas que trabalham profissionalmente?"
   ]
  },
  {
   "cell_type": "code",
   "execution_count": 43,
   "id": "3a285969",
   "metadata": {},
   "outputs": [
    {
     "data": {
      "text/plain": [
       "OrgSize\n",
       "20 to 99 employees                                    11709\n",
       "100 to 499 employees                                   9631\n",
       "10,000 or more employees                               6961\n",
       "2 to 9 employees                                       6081\n",
       "1,000 to 4,999 employees                               5472\n",
       "10 to 19 employees                                     5092\n",
       "Just me - I am a freelancer, sole proprietor, etc.     3573\n",
       "500 to 999 employees                                   3388\n",
       "5,000 to 9,999 employees                               1937\n",
       "I don’t know                                           1138\n",
       "Name: Resume MainBranch, dtype: int64"
      ]
     },
     "execution_count": 43,
     "metadata": {},
     "output_type": "execute_result"
    }
   ],
   "source": [
    "questions5 = ['OrgSize', 'Resume MainBranch']\n",
    "teste5 = df_public[questions5]\n",
    "df_mask = teste5['Resume MainBranch'] == \"Profissional\" \n",
    "filtered_df = teste5[df_mask]\n",
    "filtered_df.dropna(subset=[\"OrgSize\"], axis=0).groupby(by=\"OrgSize\")[\"Resume MainBranch\"].count().sort_values(ascending=False)\n"
   ]
  },
  {
   "cell_type": "code",
   "execution_count": 44,
   "id": "b58e16b0",
   "metadata": {},
   "outputs": [],
   "source": [
    "#validação do total de orgsize e resume mainbranch\n",
    "#df_public.dropna(subset=[\"OrgSize\"], axis=0).groupby(by=\"OrgSize\")[\"Resume MainBranch\"].count().sort_values(ascending=False)\n",
    "#filtered_df.dropna(subset=[\"OrgSize\"], axis=0).groupby(by=\"OrgSize\")[\"Resume MainBranch\"].count()"
   ]
  },
  {
   "cell_type": "code",
   "execution_count": 45,
   "id": "9b2c0c92",
   "metadata": {},
   "outputs": [],
   "source": [
    "#6º pergunta\n",
    "\n",
    "#A) Média salarial das pessoas que responderam.\n",
    "#Avaliando por Monthly"
   ]
  },
  {
   "cell_type": "code",
   "execution_count": 46,
   "id": "188faadf",
   "metadata": {},
   "outputs": [
    {
     "data": {
      "text/plain": [
       "CompTotal    47320.879121\n",
       "dtype: float64"
      ]
     },
     "execution_count": 46,
     "metadata": {},
     "output_type": "execute_result"
    }
   ],
   "source": [
    "questions23 = ['CompTotal']\n",
    "df_public[questions23] = df_public.loc[:,questions23].apply(pd.to_numeric, args=(\"coerce\",), axis='index')\n",
    "\n",
    "questions24 = ['CompTotal','CompFreq']\n",
    "teste = df_public[questions24]\n",
    "\n",
    "df_mask = teste['CompFreq'] == \"Monthly\" \n",
    "\n",
    "filtered_df = teste[df_mask]\n",
    "\n",
    "filtro = filtered_df['CompTotal'] > 1\n",
    "\n",
    "x = filtered_df[filtro]\n",
    "\n",
    "a = x.dropna().value_counts()\n",
    "b = a[a > 50]\n",
    "c = b.to_frame().reset_index()\n",
    "\n",
    "d = ['CompTotal']\n",
    "\n",
    "media = c[d].apply(pd.Series.mean, axis='index')\n",
    "#c['CompTotal'].sort_values(ascending=False)\n",
    "#p = c['CompTotal'] == 800000000\n",
    "#pa = c[p]\n",
    "#pa\n",
    "media"
   ]
  },
  {
   "cell_type": "code",
   "execution_count": 47,
   "id": "5d0acbc1",
   "metadata": {},
   "outputs": [],
   "source": [
    "#6º pergunta\n",
    "\n",
    "#B) Média salarial das pessoas que responderam.\n",
    "#Avaliando por Weekly"
   ]
  },
  {
   "cell_type": "code",
   "execution_count": 48,
   "id": "c23881d8",
   "metadata": {},
   "outputs": [
    {
     "data": {
      "text/plain": [
       "CompTotal    10634.782609\n",
       "dtype: float64"
      ]
     },
     "execution_count": 48,
     "metadata": {},
     "output_type": "execute_result"
    }
   ],
   "source": [
    "questions25 = ['CompTotal']\n",
    "df_public[questions25] = df_public.loc[:,questions25].apply(pd.to_numeric, args=(\"coerce\",), axis='index')\n",
    "\n",
    "questions26 = ['CompTotal','CompFreq']\n",
    "teste = df_public[questions26]\n",
    "\n",
    "df_mask = teste['CompFreq'] == \"Weekly\" \n",
    "\n",
    "filtered_df = teste[df_mask]\n",
    "\n",
    "filtro = filtered_df['CompTotal'] > 1\n",
    "\n",
    "x = filtered_df[filtro]\n",
    "\n",
    "a = x.dropna().value_counts()\n",
    "b = a[a > 10]\n",
    "c = b.to_frame().reset_index()\n",
    "\n",
    "d = ['CompTotal']\n",
    "\n",
    "media = c[d].apply(pd.Series.mean, axis='index')\n",
    "#p = c['CompTotal'] == 40000000\n",
    "#pa = c[p]\n",
    "#pa\n",
    "#c['CompTotal'].sort_values(ascending=False)\n",
    "media"
   ]
  },
  {
   "cell_type": "code",
   "execution_count": 49,
   "id": "92f04fc1",
   "metadata": {},
   "outputs": [],
   "source": [
    "#6º pergunta\n",
    "\n",
    "#c) Média salarial das pessoas que responderam.\n",
    "#Avaliando por Yearly"
   ]
  },
  {
   "cell_type": "code",
   "execution_count": 50,
   "id": "3bbe0f9a",
   "metadata": {},
   "outputs": [
    {
     "data": {
      "text/plain": [
       "CompTotal    669454.365079\n",
       "dtype: float64"
      ]
     },
     "execution_count": 50,
     "metadata": {},
     "output_type": "execute_result"
    }
   ],
   "source": [
    "questions28 = ['CompTotal']\n",
    "df_public[questions28] = df_public.loc[:,questions28].apply(pd.to_numeric, args=(\"coerce\",), axis='index')\n",
    "\n",
    "questions29 = ['CompTotal','CompFreq']\n",
    "teste = df_public[questions29]\n",
    "\n",
    "df_mask = teste['CompFreq'] == \"Yearly\" \n",
    "\n",
    "filtered_df = teste[df_mask]\n",
    "\n",
    "filtro = filtered_df['CompTotal'] > 1\n",
    "\n",
    "x = filtered_df[filtro]\n",
    "\n",
    "a = x.dropna().value_counts()\n",
    "b = a[a > 10]\n",
    "c = b.to_frame().reset_index()\n",
    "\n",
    "d = ['CompTotal']\n",
    "\n",
    "media = c[d].apply(pd.Series.mean, axis='index')\n",
    "#p = c['CompTotal'] == 40000000\n",
    "#pa = c[p]\n",
    "#pa\n",
    "#c['CompTotal'].sort_values(ascending=False)\n",
    "media"
   ]
  },
  {
   "cell_type": "code",
   "execution_count": 51,
   "id": "3441ec21",
   "metadata": {},
   "outputs": [],
   "source": [
    "#7º pergunta\n",
    "\n",
    "#Pegando os 5 países que mais responderam o questionário, qual é o salário destas pessoas?\n"
   ]
  },
  {
   "cell_type": "code",
   "execution_count": 52,
   "id": "3ba03955",
   "metadata": {},
   "outputs": [
    {
     "name": "stdout",
     "output_type": "stream",
     "text": [
      "Country\n",
      "India                                                   832058.823529\n",
      "United States of America                                144571.428571\n",
      "Canada                                                   95000.000000\n",
      "United Kingdom of Great Britain and Northern Ireland     61153.846154\n",
      "Germany                                                  54000.000000\n",
      "Name: CompTotal, dtype: float64\n",
      "Country\n",
      "India                                                   2000000.0\n",
      "United States of America                                 300000.0\n",
      "Canada                                                   120000.0\n",
      "Germany                                                  100000.0\n",
      "United Kingdom of Great Britain and Northern Ireland     100000.0\n",
      "Name: CompTotal, dtype: float64\n",
      "Country\n",
      "Canada                                                  70000.0\n",
      "United States of America                                50000.0\n",
      "United Kingdom of Great Britain and Northern Ireland    30000.0\n",
      "India                                                   25000.0\n",
      "Germany                                                  3000.0\n",
      "Name: CompTotal, dtype: float64\n"
     ]
    }
   ],
   "source": [
    "questions30 = ['Country','CompTotal']\n",
    "teste = df_public[questions30]\n",
    "values = ['United States of America', 'India', 'Germany', \n",
    "          'United Kingdom of Great Britain and Northern Ireland', 'Canada']\n",
    "\n",
    "filtered_df = teste[teste.Country.isin(values)]\n",
    "\n",
    "filtro = filtered_df['CompTotal'] > 1\n",
    "x = filtered_df[filtro]\n",
    "\n",
    "a = x.dropna().value_counts()\n",
    "b = a[a > 50]\n",
    "c = b.to_frame().reset_index()\n",
    "\n",
    "d = c.groupby(by='Country')['CompTotal'].mean().sort_values(ascending=False)\n",
    "e = c.groupby(by='Country')['CompTotal'].max().sort_values(ascending=False)\n",
    "f = c.groupby(by='Country')['CompTotal'].min().sort_values(ascending=False)\n",
    "\n",
    "print(d)\n",
    "print(e)\n",
    "print(f)\n"
   ]
  },
  {
   "cell_type": "code",
   "execution_count": 53,
   "id": "da238686",
   "metadata": {},
   "outputs": [],
   "source": [
    "#8º pergunta\n",
    "\n",
    "#Qual a porcentagem das pessoas que trabalham com python?"
   ]
  },
  {
   "cell_type": "code",
   "execution_count": 54,
   "id": "5b10e3cf",
   "metadata": {},
   "outputs": [
    {
     "data": {
      "text/plain": [
       "False    51.683524\n",
       "True     48.316476\n",
       "Name: LanguageHaveWorkedWith, dtype: Float64"
      ]
     },
     "execution_count": 54,
     "metadata": {},
     "output_type": "execute_result"
    }
   ],
   "source": [
    "a = df_public['LanguageHaveWorkedWith'].str.contains('Python').dropna().value_counts()\n",
    "b = 82357\n",
    "c = a / b *100\n",
    "c"
   ]
  },
  {
   "cell_type": "code",
   "execution_count": 55,
   "id": "1bd9405e",
   "metadata": {},
   "outputs": [],
   "source": [
    "#9º Sobre o python\n",
    "\n",
    "#a)Qual o nível de salário de quem trabalha com python globalmente?"
   ]
  },
  {
   "cell_type": "code",
   "execution_count": 56,
   "id": "95ddbb02",
   "metadata": {},
   "outputs": [
    {
     "data": {
      "text/plain": [
       "CompTotal    398065.864571\n",
       "dtype: float64"
      ]
     },
     "execution_count": 56,
     "metadata": {},
     "output_type": "execute_result"
    }
   ],
   "source": [
    "questions9 = ['LanguageHaveWorkedWith', 'CompTotal']\n",
    "teste = df_public[questions9]\n",
    "df_mask = teste['LanguageHaveWorkedWith'].str.contains('Python') \n",
    "filtered_df = teste[df_mask]\n",
    "filtro = filtered_df['CompTotal'] > 1\n",
    "x = filtered_df[filtro]\n",
    "\n",
    "a = x.dropna().value_counts()\n",
    "b = a[a > 1]\n",
    "c = b.to_frame().reset_index()\n",
    "d = ['CompTotal']\n",
    "media = c[d].apply(pd.Series.mean, axis='index')\n",
    "\n",
    "media"
   ]
  },
  {
   "cell_type": "code",
   "execution_count": 57,
   "id": "49952bed",
   "metadata": {},
   "outputs": [],
   "source": [
    "#9º Sobre o python\n",
    "\n",
    "#b)Para o Brasil, qual o nível salarial?"
   ]
  },
  {
   "cell_type": "code",
   "execution_count": 58,
   "id": "2dddd1c8",
   "metadata": {},
   "outputs": [
    {
     "data": {
      "text/plain": [
       "CompTotal    36896.15935\n",
       "dtype: float64"
      ]
     },
     "execution_count": 58,
     "metadata": {},
     "output_type": "execute_result"
    }
   ],
   "source": [
    "questions9b = ['LanguageHaveWorkedWith', 'CompTotal','Country']\n",
    "teste = df_public[questions9b]\n",
    "\n",
    "df_mask = teste['LanguageHaveWorkedWith'].str.contains('Python') \n",
    "filtered_df = teste[df_mask]\n",
    "\n",
    "df_mask2 = filtered_df['Country'] == \"Brazil\" \n",
    "filtered_df2 = filtered_df[df_mask2]\n",
    "\n",
    "filtro = filtered_df2['CompTotal'] > 1\n",
    "x = filtered_df2[filtro]\n",
    "\n",
    "a = x.dropna().value_counts()\n",
    "b = a[a > 0]\n",
    "c = b.to_frame().reset_index()\n",
    "d = ['CompTotal']\n",
    "media = c[d].apply(pd.Series.mean, axis='index')\n",
    "\n",
    "media"
   ]
  },
  {
   "cell_type": "code",
   "execution_count": 59,
   "id": "a838bd28",
   "metadata": {},
   "outputs": [],
   "source": [
    "#9º Sobre o python\n",
    "\n",
    "#c)Para os 5 países que mais tiveram participação, qual a média salarial?"
   ]
  },
  {
   "cell_type": "code",
   "execution_count": 60,
   "id": "ab0e90bf",
   "metadata": {},
   "outputs": [
    {
     "data": {
      "text/plain": [
       "Country\n",
       "India                                                   284143.132632\n",
       "United States of America                                136289.091292\n",
       "Canada                                                  105079.537221\n",
       "United Kingdom of Great Britain and Northern Ireland     62530.334951\n",
       "Germany                                                  49306.624726\n",
       "Name: CompTotal, dtype: float64"
      ]
     },
     "execution_count": 60,
     "metadata": {},
     "output_type": "execute_result"
    }
   ],
   "source": [
    "values = ['United States of America', 'India', 'Germany', \n",
    "          'United Kingdom of Great Britain and Northern Ireland', 'Canada']\n",
    "\n",
    "filtered_df = teste[teste.Country.isin(values)]\n",
    "\n",
    "questions9c = ['LanguageHaveWorkedWith', 'CompTotal','Country']\n",
    "teste = df_public[questions9c]\n",
    "\n",
    "df_mask = teste['LanguageHaveWorkedWith'].str.contains('Python') \n",
    "filtered_df = teste[df_mask]\n",
    "\n",
    "filtered_df2 = filtered_df[filtered_df.Country.isin(values)]\n",
    "\n",
    "filtro = filtered_df2['CompTotal'] > 1 \n",
    "filtered_df3 = filtered_df2[filtro]\n",
    "\n",
    "filtro2 = filtered_df3['CompTotal'] < 1000000\n",
    "x = filtered_df3[filtro2]\n",
    "\n",
    "#a = x.dropna().value_counts()\n",
    "#b = a[a > 0]\n",
    "#c = b.to_frame().reset_index()\n",
    "#d = ['CompTotal']\n",
    "\n",
    "media = x.groupby(by='Country')['CompTotal'].mean().sort_values(ascending=False)\n",
    "media"
   ]
  },
  {
   "cell_type": "code",
   "execution_count": 61,
   "id": "19a3504f",
   "metadata": {},
   "outputs": [],
   "source": [
    "#10º Pergunta\n",
    "\n",
    "#De todos as pessoas, Qual o sistema operacional utilizado por elas"
   ]
  },
  {
   "cell_type": "code",
   "execution_count": 62,
   "id": "775c81de",
   "metadata": {},
   "outputs": [],
   "source": [
    "branch3 = {\n",
    "    \"MacOS\": \"MacOS\",\n",
    "    \"Windows\": \"Windows\",\n",
    "    \"Linux-based\": \"Linux-based\",\n",
    "    \"BSD\": \"BSD\",\n",
    "    \"Other (please specify):\": \"Other\",\n",
    "    \"Windows Subsystem for Linux (WSL)\": \"WSL\"\n",
    "}\n",
    "\n",
    "df_public['Resume OpSys'] = df_public['OpSys'].apply(lambda x: branch3.get(x,\"Sem resposta\")).astype(\"string\")\n",
    "df_public.drop(labels=\"OpSys\", axis=\"columns\", inplace=True)\n"
   ]
  },
  {
   "cell_type": "code",
   "execution_count": 63,
   "id": "e9e6e08c",
   "metadata": {},
   "outputs": [
    {
     "data": {
      "text/plain": [
       "Windows          45.25222\n",
       "Linux-based     25.273553\n",
       "MacOS           25.148911\n",
       "WSL              3.287432\n",
       "Other            0.689126\n",
       "BSD              0.174978\n",
       "Sem resposta      0.17378\n",
       "Name: Resume OpSys, dtype: Float64"
      ]
     },
     "execution_count": 63,
     "metadata": {},
     "output_type": "execute_result"
    }
   ],
   "source": [
    "questions10 = ['Resume OpSys']\n",
    "\n",
    "teste10 = df_public[questions10]\n",
    "\n",
    "df_public[\"Resume OpSys\"].dropna().value_counts(normalize=True)*100"
   ]
  },
  {
   "cell_type": "code",
   "execution_count": 64,
   "id": "86d309d6",
   "metadata": {},
   "outputs": [],
   "source": [
    "#11º Pergunta\n",
    "\n",
    "#Das pessoas que trabalham com python, qual a distribuição de sistema operacional utilizado por elas"
   ]
  },
  {
   "cell_type": "code",
   "execution_count": 65,
   "id": "b02279f4",
   "metadata": {},
   "outputs": [
    {
     "name": "stdout",
     "output_type": "stream",
     "text": [
      "Resume OpSys\n",
      "Windows         15979\n",
      "Linux-based     12922\n",
      "MacOS            8916\n",
      "WSL              1626\n",
      "Other             277\n",
      "BSD                45\n",
      "Sem resposta       27\n",
      "Name: LanguageHaveWorkedWith, dtype: int64\n",
      "Windows         40.156313\n",
      "Linux-based     32.473864\n",
      "MacOS           22.406514\n",
      "WSL              4.086248\n",
      "Other             0.69612\n",
      "BSD              0.113088\n",
      "Sem resposta     0.067853\n",
      "Name: Resume OpSys, dtype: Float64\n"
     ]
    }
   ],
   "source": [
    "questions11 = ['LanguageHaveWorkedWith', 'Resume OpSys']\n",
    "teste = df_public[questions11]\n",
    "df_mask = teste['LanguageHaveWorkedWith'].str.contains('Python') \n",
    "filtered_df = teste[df_mask]\n",
    "\n",
    "a = filtered_df.dropna(subset=[\"Resume OpSys\"], axis=0).groupby(by=\"Resume OpSys\")[\"LanguageHaveWorkedWith\"].count().sort_values(ascending=False)\n",
    "b = filtered_df[\"Resume OpSys\"].dropna().value_counts(normalize=True)*100\n",
    "\n",
    "print(a)\n",
    "print(b)"
   ]
  },
  {
   "cell_type": "code",
   "execution_count": 66,
   "id": "8161195d",
   "metadata": {},
   "outputs": [],
   "source": [
    "#12º Pergunta\n",
    "\n",
    "#Qual a média de idade das pessoas que responderam? A pergunta 11."
   ]
  },
  {
   "cell_type": "code",
   "execution_count": 67,
   "id": "398d73b7",
   "metadata": {},
   "outputs": [],
   "source": [
    "branch4 = {\n",
    "    \"Under 18 years old\": 18,\n",
    "    \"18-24 years old\": 21,\n",
    "    \"25-34 years old\": 29.5,\n",
    "    \"35-44 years old\": 39.5,\n",
    "    \"45-54 years old\": 49.5,\n",
    "    \"55-64 years old\": 59.5,\n",
    "    \"65 years or older\": 65,\n",
    "    \"Prefer not to say\": ,\n",
    "}\n",
    "\n",
    "df_public['Resume Ages'] = df_public['Age'].apply(lambda x: branch4.get(x,0))\n",
    "df_public.drop(labels=\"Age\", axis=\"columns\", inplace=True)"
   ]
  },
  {
   "cell_type": "code",
   "execution_count": 70,
   "id": "292a7644",
   "metadata": {},
   "outputs": [
    {
     "data": {
      "text/plain": [
       "Resume OpSys\n",
       "BSD             40.250000\n",
       "Sem resposta    35.705882\n",
       "MacOS           34.928645\n",
       "Other           33.803846\n",
       "Linux-based     33.195324\n",
       "WSL             30.672522\n",
       "Windows         30.523112\n",
       "Name: Resume Ages, dtype: float64"
      ]
     },
     "execution_count": 70,
     "metadata": {},
     "output_type": "execute_result"
    }
   ],
   "source": [
    "questions12 = ['LanguageHaveWorkedWith', 'Resume OpSys', 'Resume Ages']\n",
    "teste = df_public[questions12]\n",
    "df_mask = teste['LanguageHaveWorkedWith'].str.contains('Python') \n",
    "filtered_df = teste[df_mask]\n",
    "\n",
    "filtro = filtered_df['Resume Ages'] > 1 \n",
    "filtered_df2 = filtered_df[filtro]\n",
    "\n",
    "media = filtered_df2.groupby(by='Resume OpSys')['Resume Ages'].mean().sort_values(ascending=False)\n",
    "media"
   ]
  },
  {
   "cell_type": "code",
   "execution_count": null,
   "id": "f2963b0a",
   "metadata": {},
   "outputs": [],
   "source": [
    "#13º Pergunta\n",
    "\n",
    "#E em python? Qual a média de idade?"
   ]
  },
  {
   "cell_type": "code",
   "execution_count": 80,
   "id": "b7dd62a7",
   "metadata": {},
   "outputs": [
    {
     "data": {
      "text/plain": [
       "32.42333931777379"
      ]
     },
     "execution_count": 80,
     "metadata": {},
     "output_type": "execute_result"
    }
   ],
   "source": [
    "questions13 = ['LanguageHaveWorkedWith', 'Resume Ages']\n",
    "teste = df_public[questions13]\n",
    "df_mask = teste['LanguageHaveWorkedWith'].str.contains('Python') \n",
    "filtered_df = teste[df_mask]\n",
    "\n",
    "filtro = filtered_df['Resume Ages'] > 1 \n",
    "filtered_df2 = filtered_df[filtro]\n",
    "\n",
    "media = filtered_df2['Resume Ages'].mean()\n",
    "media\n",
    "\n"
   ]
  },
  {
   "cell_type": "code",
   "execution_count": null,
   "id": "d83e03d1",
   "metadata": {},
   "outputs": [],
   "source": []
  }
 ],
 "metadata": {
  "kernelspec": {
   "display_name": "Python 3 (ipykernel)",
   "language": "python",
   "name": "python3"
  },
  "language_info": {
   "codemirror_mode": {
    "name": "ipython",
    "version": 3
   },
   "file_extension": ".py",
   "mimetype": "text/x-python",
   "name": "python",
   "nbconvert_exporter": "python",
   "pygments_lexer": "ipython3",
   "version": "3.10.0"
  }
 },
 "nbformat": 4,
 "nbformat_minor": 5
}
