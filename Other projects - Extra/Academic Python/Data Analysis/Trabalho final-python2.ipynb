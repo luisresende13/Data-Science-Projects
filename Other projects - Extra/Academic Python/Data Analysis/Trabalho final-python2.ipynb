{
 "cells": [
  {
   "cell_type": "code",
   "execution_count": 1,
   "metadata": {},
   "outputs": [
    {
     "name": "stdout",
     "output_type": "stream",
     "text": [
      "Requirement already satisfied: pandas in c:\\users\\artur.alvarenga\\appdata\\local\\programs\\python\\python310\\lib\\site-packages (1.3.4)\n",
      "Requirement already satisfied: pytz>=2017.3 in c:\\users\\artur.alvarenga\\appdata\\local\\programs\\python\\python310\\lib\\site-packages (from pandas) (2021.3)\n",
      "Requirement already satisfied: python-dateutil>=2.7.3 in c:\\users\\artur.alvarenga\\appdata\\local\\programs\\python\\python310\\lib\\site-packages (from pandas) (2.8.2)\n",
      "Requirement already satisfied: numpy>=1.21.0 in c:\\users\\artur.alvarenga\\appdata\\local\\programs\\python\\python310\\lib\\site-packages (from pandas) (1.21.4)\n",
      "Requirement already satisfied: six>=1.5 in c:\\users\\artur.alvarenga\\appdata\\local\\programs\\python\\python310\\lib\\site-packages (from python-dateutil>=2.7.3->pandas) (1.16.0)\n"
     ]
    }
   ],
   "source": [
    "!pip install pandas"
   ]
  },
  {
   "cell_type": "code",
   "execution_count": 1,
   "metadata": {},
   "outputs": [],
   "source": [
    "import pandas as pd"
   ]
  },
  {
   "cell_type": "code",
   "execution_count": 61,
   "metadata": {},
   "outputs": [],
   "source": [
    "df_public = pd.read_csv(\"data/survey_results_public.csv\")"
   ]
  },
  {
   "cell_type": "code",
   "execution_count": 62,
   "metadata": {},
   "outputs": [],
   "source": [
    "df_schema = pd.read_csv(\"data/survey_results_schema.csv\")"
   ]
  },
  {
   "cell_type": "code",
   "execution_count": 63,
   "metadata": {},
   "outputs": [
    {
     "name": "stdout",
     "output_type": "stream",
     "text": [
      "(48, 6)\n"
     ]
    }
   ],
   "source": [
    "print(df_schema.shape)"
   ]
  },
  {
   "cell_type": "code",
   "execution_count": 64,
   "metadata": {},
   "outputs": [],
   "source": [
    "pd.set_option(\"display.max_columns\", 90)\n",
    "pd.set_option(\"display.max_rows\", 90)\n",
    "pd.set_option(\"display.max_colwidth\",300)"
   ]
  },
  {
   "cell_type": "code",
   "execution_count": 65,
   "metadata": {},
   "outputs": [
    {
     "data": {
      "text/html": [
       "<div>\n",
       "<style scoped>\n",
       "    .dataframe tbody tr th:only-of-type {\n",
       "        vertical-align: middle;\n",
       "    }\n",
       "\n",
       "    .dataframe tbody tr th {\n",
       "        vertical-align: top;\n",
       "    }\n",
       "\n",
       "    .dataframe thead th {\n",
       "        text-align: right;\n",
       "    }\n",
       "</style>\n",
       "<table border=\"1\" class=\"dataframe\">\n",
       "  <thead>\n",
       "    <tr style=\"text-align: right;\">\n",
       "      <th></th>\n",
       "      <th>qid</th>\n",
       "      <th>qname</th>\n",
       "      <th>question</th>\n",
       "      <th>force_resp</th>\n",
       "      <th>type</th>\n",
       "      <th>selector</th>\n",
       "    </tr>\n",
       "  </thead>\n",
       "  <tbody>\n",
       "    <tr>\n",
       "      <th>0</th>\n",
       "      <td>QID16</td>\n",
       "      <td>S0</td>\n",
       "      <td>&lt;div&gt;&lt;span style=\"font-size:19px;\"&gt;&lt;strong&gt;Hello world! &lt;/strong&gt;&lt;/span&gt;&lt;/div&gt;\\n\\n&lt;div&gt; &lt;/div&gt;\\n\\n&lt;div&gt;Thank you for taking the 2021 Stack Overflow Developer Survey, the longest running survey of software developers (and anyone else who codes!) on Earth. &lt;/div&gt;\\n\\n&lt;div&gt; &lt;/div&gt;\\n\\n&lt;div&gt;As in prev...</td>\n",
       "      <td>False</td>\n",
       "      <td>DB</td>\n",
       "      <td>TB</td>\n",
       "    </tr>\n",
       "    <tr>\n",
       "      <th>1</th>\n",
       "      <td>QID12</td>\n",
       "      <td>MetaInfo</td>\n",
       "      <td>Browser Meta Info</td>\n",
       "      <td>False</td>\n",
       "      <td>Meta</td>\n",
       "      <td>Browser</td>\n",
       "    </tr>\n",
       "    <tr>\n",
       "      <th>2</th>\n",
       "      <td>QID1</td>\n",
       "      <td>S1</td>\n",
       "      <td>&lt;span style=\"font-size:22px; font-family: arial,helvetica,sans-serif; font-weight: 700;\"&gt;Basic Information&lt;/span&gt;&lt;br&gt;\\n&lt;br&gt;\\n&lt;p&gt;&lt;span style=\"font-size:16px; font-family:arial,helvetica,sans-serif;\"&gt;The first section will focus on some basic information about who you are.&lt;br&gt;\\n&lt;br&gt;\\nMost question...</td>\n",
       "      <td>False</td>\n",
       "      <td>DB</td>\n",
       "      <td>TB</td>\n",
       "    </tr>\n",
       "    <tr>\n",
       "      <th>3</th>\n",
       "      <td>QID2</td>\n",
       "      <td>MainBranch</td>\n",
       "      <td>Which of the following options best describes you today? Here, by \"developer\" we mean \"someone who writes code.\" &lt;b&gt;*&lt;/b&gt;</td>\n",
       "      <td>True</td>\n",
       "      <td>MC</td>\n",
       "      <td>SAVR</td>\n",
       "    </tr>\n",
       "    <tr>\n",
       "      <th>4</th>\n",
       "      <td>QID24</td>\n",
       "      <td>Employment</td>\n",
       "      <td>Which of the following best describes your current &lt;b&gt;employment status&lt;/b&gt;?</td>\n",
       "      <td>False</td>\n",
       "      <td>MC</td>\n",
       "      <td>MAVR</td>\n",
       "    </tr>\n",
       "    <tr>\n",
       "      <th>5</th>\n",
       "      <td>QID6</td>\n",
       "      <td>Country</td>\n",
       "      <td>Where do you live? &lt;span style=\"font-weight: bolder;\"&gt;*&lt;/span&gt;</td>\n",
       "      <td>True</td>\n",
       "      <td>MC</td>\n",
       "      <td>DL</td>\n",
       "    </tr>\n",
       "    <tr>\n",
       "      <th>6</th>\n",
       "      <td>QID7</td>\n",
       "      <td>US_State</td>\n",
       "      <td>&lt;p&gt;In which state or territory of the USA do you live? &lt;i&gt;This information will be kept private.&lt;/i&gt;&lt;/p&gt;</td>\n",
       "      <td>False</td>\n",
       "      <td>MC</td>\n",
       "      <td>DL</td>\n",
       "    </tr>\n",
       "    <tr>\n",
       "      <th>7</th>\n",
       "      <td>QID9</td>\n",
       "      <td>UK_Country</td>\n",
       "      <td>In which part of the United Kingdom do you live? &lt;i&gt;This information will be kept private.&lt;/i&gt;</td>\n",
       "      <td>False</td>\n",
       "      <td>MC</td>\n",
       "      <td>DL</td>\n",
       "    </tr>\n",
       "    <tr>\n",
       "      <th>8</th>\n",
       "      <td>QID190</td>\n",
       "      <td>S2</td>\n",
       "      <td>&lt;span style=\"font-size:22px; font-family: arial,helvetica,sans-serif; font-weight: 700;\"&gt;Education, work, and career&lt;/span&gt;&lt;br&gt;\\n&lt;br&gt;\\n\\n&lt;p&gt;&lt;span style=\"font-size:16px; font-family:arial,helvetica,sans-serif;\"&gt;This section will focus on your education, work, and career.&lt;br&gt;\\n&lt;br&gt;\\nMost questions...</td>\n",
       "      <td>False</td>\n",
       "      <td>DB</td>\n",
       "      <td>TB</td>\n",
       "    </tr>\n",
       "    <tr>\n",
       "      <th>9</th>\n",
       "      <td>QID25</td>\n",
       "      <td>EdLevel</td>\n",
       "      <td>Which of the following best describes the highest level of formal education that you’ve completed? *</td>\n",
       "      <td>False</td>\n",
       "      <td>MC</td>\n",
       "      <td>SAVR</td>\n",
       "    </tr>\n",
       "    <tr>\n",
       "      <th>10</th>\n",
       "      <td>QID149</td>\n",
       "      <td>Age1stCode</td>\n",
       "      <td>At what age did you write your first line of code or program? (e.g., webpage, Hello World, Scratch project)</td>\n",
       "      <td>False</td>\n",
       "      <td>MC</td>\n",
       "      <td>MAVR</td>\n",
       "    </tr>\n",
       "    <tr>\n",
       "      <th>11</th>\n",
       "      <td>QID276</td>\n",
       "      <td>LearnCode</td>\n",
       "      <td>How did you learn to code? Select all that apply.</td>\n",
       "      <td>False</td>\n",
       "      <td>MC</td>\n",
       "      <td>MAVR</td>\n",
       "    </tr>\n",
       "    <tr>\n",
       "      <th>12</th>\n",
       "      <td>QID32</td>\n",
       "      <td>YearsCode</td>\n",
       "      <td>Including any education, how many years have you been coding in total?</td>\n",
       "      <td>False</td>\n",
       "      <td>MC</td>\n",
       "      <td>DL</td>\n",
       "    </tr>\n",
       "    <tr>\n",
       "      <th>13</th>\n",
       "      <td>QID34</td>\n",
       "      <td>YearsCodePro</td>\n",
       "      <td>NOT including education, how many years have you coded professionally (as a part of your work)?</td>\n",
       "      <td>False</td>\n",
       "      <td>MC</td>\n",
       "      <td>DL</td>\n",
       "    </tr>\n",
       "    <tr>\n",
       "      <th>14</th>\n",
       "      <td>QID31</td>\n",
       "      <td>DevType</td>\n",
       "      <td>Which of the following describes your current job? Please select all that apply.</td>\n",
       "      <td>False</td>\n",
       "      <td>MC</td>\n",
       "      <td>MAVR</td>\n",
       "    </tr>\n",
       "    <tr>\n",
       "      <th>15</th>\n",
       "      <td>QID29</td>\n",
       "      <td>OrgSize</td>\n",
       "      <td>Approximately how many people are employed by the company or organization you currently work for?</td>\n",
       "      <td>False</td>\n",
       "      <td>MC</td>\n",
       "      <td>MAVR</td>\n",
       "    </tr>\n",
       "    <tr>\n",
       "      <th>16</th>\n",
       "      <td>QID50</td>\n",
       "      <td>Currency</td>\n",
       "      <td>Which currency do you use day-to-day? If your answer is complicated, please pick the one you're most comfortable estimating in. *</td>\n",
       "      <td>True</td>\n",
       "      <td>MC</td>\n",
       "      <td>SB</td>\n",
       "    </tr>\n",
       "    <tr>\n",
       "      <th>17</th>\n",
       "      <td>QID51</td>\n",
       "      <td>CompTotal</td>\n",
       "      <td>What is your current total compensation (salary, bonuses, and perks, before taxes and deductions), in ${q://QID50/ChoiceGroup/SelectedChoicesTextEntry}? Please enter a whole number in the box below, without any punctuation. If you are paid hourly, please estimate an equivalent weekly, monthly, o...</td>\n",
       "      <td>False</td>\n",
       "      <td>TE</td>\n",
       "      <td>SL</td>\n",
       "    </tr>\n",
       "    <tr>\n",
       "      <th>18</th>\n",
       "      <td>QID52</td>\n",
       "      <td>CompFreq</td>\n",
       "      <td>Is that compensation weekly, monthly, or yearly?</td>\n",
       "      <td>False</td>\n",
       "      <td>MC</td>\n",
       "      <td>MAVR</td>\n",
       "    </tr>\n",
       "    <tr>\n",
       "      <th>19</th>\n",
       "      <td>QID61</td>\n",
       "      <td>S3</td>\n",
       "      <td>&lt;span style=\"font-size:22px; font-family: arial,helvetica,sans-serif; font-weight: 700;\"&gt;Tech and tech culture&lt;/span&gt;&lt;br&gt;\\n&lt;br&gt;\\n\\n&lt;p&gt;&lt;span style=\"font-size:16px; font-family:arial,helvetica,sans-serif;\"&gt;The next set of questions will focus on technology and tech culture.&lt;br&gt;\\n&lt;br&gt;\\nMost questio...</td>\n",
       "      <td>False</td>\n",
       "      <td>DB</td>\n",
       "      <td>TB</td>\n",
       "    </tr>\n",
       "    <tr>\n",
       "      <th>20</th>\n",
       "      <td>QID233</td>\n",
       "      <td>Language</td>\n",
       "      <td>Which &lt;b&gt;programming, scripting, and markup languages&lt;/b&gt; have you done extensive development work in over the past year, and which do you want to work in over the next year? (If you both worked with the language and want to continue to do so, please check both boxes in that row.)</td>\n",
       "      <td>False</td>\n",
       "      <td>Matrix</td>\n",
       "      <td>Likert</td>\n",
       "    </tr>\n",
       "    <tr>\n",
       "      <th>21</th>\n",
       "      <td>QID262</td>\n",
       "      <td>Database</td>\n",
       "      <td>Which &lt;b&gt;database environments &lt;/b&gt;have you done extensive development work in over the past year, and which do you want to work in over the next year? (If you both worked with the database and want to continue to do so, please check both boxes in that row.)</td>\n",
       "      <td>False</td>\n",
       "      <td>Matrix</td>\n",
       "      <td>Likert</td>\n",
       "    </tr>\n",
       "    <tr>\n",
       "      <th>22</th>\n",
       "      <td>QID263</td>\n",
       "      <td>Platform</td>\n",
       "      <td>Which &lt;b&gt;cloud platforms&lt;/b&gt; have you done extensive development work in over the past year, and which do you want to work in over the next year? (If you both worked with the platform and want to continue to do so, please check both boxes in that row.)</td>\n",
       "      <td>False</td>\n",
       "      <td>Matrix</td>\n",
       "      <td>Likert</td>\n",
       "    </tr>\n",
       "    <tr>\n",
       "      <th>23</th>\n",
       "      <td>QID264</td>\n",
       "      <td>Webframe</td>\n",
       "      <td>Which &lt;strong&gt;web frameworks &lt;/strong&gt;&lt;span style=\"font-weight: bolder;\"&gt;and libraries&lt;/span&gt; have you done extensive development work in over the past year, and which do you want to work in over the next year? (If you both worked with the framework and want to continue to do so, please check bo...</td>\n",
       "      <td>False</td>\n",
       "      <td>Matrix</td>\n",
       "      <td>Likert</td>\n",
       "    </tr>\n",
       "    <tr>\n",
       "      <th>24</th>\n",
       "      <td>QID265</td>\n",
       "      <td>MiscTech</td>\n",
       "      <td>Which &lt;b&gt;other frameworks and libraries&lt;/b&gt; have you done extensive development work in over the past year, and which do you want to work in over the next year? (If you both worked with the framework and want to continue to do so, please check both boxes in that row.)</td>\n",
       "      <td>False</td>\n",
       "      <td>Matrix</td>\n",
       "      <td>Likert</td>\n",
       "    </tr>\n",
       "    <tr>\n",
       "      <th>25</th>\n",
       "      <td>QID275</td>\n",
       "      <td>ToolsTech</td>\n",
       "      <td>Which &lt;strong&gt;tools&lt;/strong&gt; have you done extensive development work in over the past year, and which do you want to work in over the next year? (If you both worked with the technology and want to continue to do so, please check both boxes in that row.)</td>\n",
       "      <td>False</td>\n",
       "      <td>Matrix</td>\n",
       "      <td>Likert</td>\n",
       "    </tr>\n",
       "    <tr>\n",
       "      <th>26</th>\n",
       "      <td>QID274</td>\n",
       "      <td>NEWCollabTools</td>\n",
       "      <td>Which &lt;strong&gt;development environments&lt;/strong&gt; did you use regularly over the past year, and which do you want to work with over the next year? Please check all that apply.</td>\n",
       "      <td>False</td>\n",
       "      <td>Matrix</td>\n",
       "      <td>Likert</td>\n",
       "    </tr>\n",
       "    <tr>\n",
       "      <th>27</th>\n",
       "      <td>QID71</td>\n",
       "      <td>OpSys</td>\n",
       "      <td>What is the primary operating system in which you work? *</td>\n",
       "      <td>False</td>\n",
       "      <td>MC</td>\n",
       "      <td>SAVR</td>\n",
       "    </tr>\n",
       "    <tr>\n",
       "      <th>28</th>\n",
       "      <td>QID243</td>\n",
       "      <td>NEWStuck</td>\n",
       "      <td>What do you do when you get stuck on a problem? Select all that apply.</td>\n",
       "      <td>False</td>\n",
       "      <td>MC</td>\n",
       "      <td>MAVR</td>\n",
       "    </tr>\n",
       "    <tr>\n",
       "      <th>29</th>\n",
       "      <td>QID91</td>\n",
       "      <td>S4</td>\n",
       "      <td>&lt;span style=\"font-size:22px; font-family: arial,helvetica,sans-serif; font-weight: 700;\"&gt;Stack Overflow - usage and community&lt;/span&gt;&lt;br&gt;\\n&lt;br&gt;\\n\\n&lt;p&gt;&lt;span style=\"font-size:16px; font-family:arial,helvetica,sans-serif;\"&gt;This section will focus on Stack Overflow usage and community questions.&lt;br&gt;\\...</td>\n",
       "      <td>False</td>\n",
       "      <td>DB</td>\n",
       "      <td>TB</td>\n",
       "    </tr>\n",
       "    <tr>\n",
       "      <th>30</th>\n",
       "      <td>QID266</td>\n",
       "      <td>NEWSOSites</td>\n",
       "      <td>Which of the following Stack Overflow sites have you visited? Select all that apply.</td>\n",
       "      <td>False</td>\n",
       "      <td>MC</td>\n",
       "      <td>MAVR</td>\n",
       "    </tr>\n",
       "    <tr>\n",
       "      <th>31</th>\n",
       "      <td>QID100</td>\n",
       "      <td>SOVisitFreq</td>\n",
       "      <td>How frequently would you say you visit Stack Overflow?</td>\n",
       "      <td>False</td>\n",
       "      <td>MC</td>\n",
       "      <td>MAVR</td>\n",
       "    </tr>\n",
       "    <tr>\n",
       "      <th>32</th>\n",
       "      <td>QID101</td>\n",
       "      <td>SOAccount</td>\n",
       "      <td>Do you have a Stack Overflow account?</td>\n",
       "      <td>False</td>\n",
       "      <td>MC</td>\n",
       "      <td>MAVR</td>\n",
       "    </tr>\n",
       "    <tr>\n",
       "      <th>33</th>\n",
       "      <td>QID102</td>\n",
       "      <td>SOPartFreq</td>\n",
       "      <td>How frequently would you say you participate in Q&amp;amp;A on Stack Overflow? By participate we mean ask, answer, vote for, or comment on questions.</td>\n",
       "      <td>False</td>\n",
       "      <td>MC</td>\n",
       "      <td>MAVR</td>\n",
       "    </tr>\n",
       "    <tr>\n",
       "      <th>34</th>\n",
       "      <td>QID106</td>\n",
       "      <td>SOComm</td>\n",
       "      <td>Do you consider yourself a member of the Stack Overflow community?</td>\n",
       "      <td>False</td>\n",
       "      <td>MC</td>\n",
       "      <td>MAVR</td>\n",
       "    </tr>\n",
       "    <tr>\n",
       "      <th>35</th>\n",
       "      <td>QID267</td>\n",
       "      <td>NEWOtherComms</td>\n",
       "      <td>Are you a member of any other online developer communities?</td>\n",
       "      <td>False</td>\n",
       "      <td>MC</td>\n",
       "      <td>MAVR</td>\n",
       "    </tr>\n",
       "    <tr>\n",
       "      <th>36</th>\n",
       "      <td>QID268</td>\n",
       "      <td>NEWOtherCommsNames</td>\n",
       "      <td>Please name up to 5 other online developer communities you belong to, and indicate whether they are public (anyone can join) or private (invitation required).</td>\n",
       "      <td>False</td>\n",
       "      <td>Matrix</td>\n",
       "      <td>Likert</td>\n",
       "    </tr>\n",
       "    <tr>\n",
       "      <th>37</th>\n",
       "      <td>QID121</td>\n",
       "      <td>S5</td>\n",
       "      <td>&lt;span style=\"font-size:22px; font-family: arial,helvetica,sans-serif; font-weight: 700;\"&gt;Demographics&lt;/span&gt;&lt;br&gt;\\n&lt;br&gt;\\n\\n&lt;p&gt;&lt;span style=\"font-size: 16px;\"&gt;All questions in this section are optional, you may leave questions blank if you prefer not to answer. &lt;/span&gt;&lt;/p&gt;&lt;p&gt;&lt;span style=\"font-size:...</td>\n",
       "      <td>False</td>\n",
       "      <td>DB</td>\n",
       "      <td>TB</td>\n",
       "    </tr>\n",
       "    <tr>\n",
       "      <th>38</th>\n",
       "      <td>QID127</td>\n",
       "      <td>Age</td>\n",
       "      <td>What is your age?</td>\n",
       "      <td>False</td>\n",
       "      <td>MC</td>\n",
       "      <td>MAVR</td>\n",
       "    </tr>\n",
       "    <tr>\n",
       "      <th>39</th>\n",
       "      <td>QID122</td>\n",
       "      <td>Gender</td>\n",
       "      <td>Which of the following describe you, if any? Please check all that apply.</td>\n",
       "      <td>False</td>\n",
       "      <td>MC</td>\n",
       "      <td>MAVR</td>\n",
       "    </tr>\n",
       "    <tr>\n",
       "      <th>40</th>\n",
       "      <td>QID153</td>\n",
       "      <td>Trans</td>\n",
       "      <td>Do you identify as transgender?</td>\n",
       "      <td>False</td>\n",
       "      <td>MC</td>\n",
       "      <td>MAVR</td>\n",
       "    </tr>\n",
       "    <tr>\n",
       "      <th>41</th>\n",
       "      <td>QID136</td>\n",
       "      <td>Sexuality</td>\n",
       "      <td>Which of the following describe you, if any? Please check all that apply.</td>\n",
       "      <td>False</td>\n",
       "      <td>MC</td>\n",
       "      <td>MAVR</td>\n",
       "    </tr>\n",
       "    <tr>\n",
       "      <th>42</th>\n",
       "      <td>QID126</td>\n",
       "      <td>Ethnicity</td>\n",
       "      <td>Which of the following describe you, if any? Please check all that apply.</td>\n",
       "      <td>False</td>\n",
       "      <td>MC</td>\n",
       "      <td>MAVR</td>\n",
       "    </tr>\n",
       "    <tr>\n",
       "      <th>43</th>\n",
       "      <td>QID124</td>\n",
       "      <td>Accessibility</td>\n",
       "      <td>Which of the following describe you, if any? Please check all that apply.</td>\n",
       "      <td>False</td>\n",
       "      <td>MC</td>\n",
       "      <td>MAVR</td>\n",
       "    </tr>\n",
       "    <tr>\n",
       "      <th>44</th>\n",
       "      <td>QID125</td>\n",
       "      <td>MentalHealth</td>\n",
       "      <td>Which of the following describe you, if any? Please check all that apply.</td>\n",
       "      <td>False</td>\n",
       "      <td>MC</td>\n",
       "      <td>MAVR</td>\n",
       "    </tr>\n",
       "    <tr>\n",
       "      <th>45</th>\n",
       "      <td>QID131</td>\n",
       "      <td>S6</td>\n",
       "      <td>&lt;span style=\"font-size:22px;\"&gt;&lt;strong&gt;Final Questions&lt;/strong&gt;&lt;/span&gt;&lt;div&gt;&lt;span style=\"font-family: arial, helvetica, sans-serif; font-size: 16px;\"&gt;&lt;br&gt;&lt;/span&gt;&lt;/div&gt;&lt;div&gt;&lt;span style=\"font-family: arial, helvetica, sans-serif; font-size: 16px;\"&gt;You're almost done!&lt;/span&gt;&lt;/div&gt;</td>\n",
       "      <td>False</td>\n",
       "      <td>DB</td>\n",
       "      <td>TB</td>\n",
       "    </tr>\n",
       "    <tr>\n",
       "      <th>46</th>\n",
       "      <td>QID132</td>\n",
       "      <td>SurveyLength</td>\n",
       "      <td>How do you feel about the length of the survey this year?</td>\n",
       "      <td>False</td>\n",
       "      <td>MC</td>\n",
       "      <td>MAVR</td>\n",
       "    </tr>\n",
       "    <tr>\n",
       "      <th>47</th>\n",
       "      <td>QID133</td>\n",
       "      <td>SurveyEase</td>\n",
       "      <td>How easy or difficult was this survey to complete?</td>\n",
       "      <td>False</td>\n",
       "      <td>MC</td>\n",
       "      <td>MAVR</td>\n",
       "    </tr>\n",
       "  </tbody>\n",
       "</table>\n",
       "</div>"
      ],
      "text/plain": [
       "       qid               qname  \\\n",
       "0    QID16                  S0   \n",
       "1    QID12            MetaInfo   \n",
       "2     QID1                  S1   \n",
       "3     QID2          MainBranch   \n",
       "4    QID24          Employment   \n",
       "5     QID6             Country   \n",
       "6     QID7            US_State   \n",
       "7     QID9          UK_Country   \n",
       "8   QID190                  S2   \n",
       "9    QID25             EdLevel   \n",
       "10  QID149          Age1stCode   \n",
       "11  QID276           LearnCode   \n",
       "12   QID32           YearsCode   \n",
       "13   QID34        YearsCodePro   \n",
       "14   QID31             DevType   \n",
       "15   QID29             OrgSize   \n",
       "16   QID50            Currency   \n",
       "17   QID51           CompTotal   \n",
       "18   QID52            CompFreq   \n",
       "19   QID61                  S3   \n",
       "20  QID233            Language   \n",
       "21  QID262            Database   \n",
       "22  QID263            Platform   \n",
       "23  QID264            Webframe   \n",
       "24  QID265            MiscTech   \n",
       "25  QID275           ToolsTech   \n",
       "26  QID274      NEWCollabTools   \n",
       "27   QID71               OpSys   \n",
       "28  QID243            NEWStuck   \n",
       "29   QID91                  S4   \n",
       "30  QID266          NEWSOSites   \n",
       "31  QID100         SOVisitFreq   \n",
       "32  QID101           SOAccount   \n",
       "33  QID102          SOPartFreq   \n",
       "34  QID106              SOComm   \n",
       "35  QID267       NEWOtherComms   \n",
       "36  QID268  NEWOtherCommsNames   \n",
       "37  QID121                  S5   \n",
       "38  QID127                 Age   \n",
       "39  QID122              Gender   \n",
       "40  QID153               Trans   \n",
       "41  QID136           Sexuality   \n",
       "42  QID126           Ethnicity   \n",
       "43  QID124       Accessibility   \n",
       "44  QID125        MentalHealth   \n",
       "45  QID131                  S6   \n",
       "46  QID132        SurveyLength   \n",
       "47  QID133          SurveyEase   \n",
       "\n",
       "                                                                                                                                                                                                                                                                                                       question  \\\n",
       "0   <div><span style=\"font-size:19px;\"><strong>Hello world! </strong></span></div>\\n\\n<div> </div>\\n\\n<div>Thank you for taking the 2021 Stack Overflow Developer Survey, the longest running survey of software developers (and anyone else who codes!) on Earth. </div>\\n\\n<div> </div>\\n\\n<div>As in prev...   \n",
       "1                                                                                                                                                                                                                                                                                             Browser Meta Info   \n",
       "2   <span style=\"font-size:22px; font-family: arial,helvetica,sans-serif; font-weight: 700;\">Basic Information</span><br>\\n<br>\\n<p><span style=\"font-size:16px; font-family:arial,helvetica,sans-serif;\">The first section will focus on some basic information about who you are.<br>\\n<br>\\nMost question...   \n",
       "3                                                                                                                                                                                     Which of the following options best describes you today? Here, by \"developer\" we mean \"someone who writes code.\" <b>*</b>   \n",
       "4                                                                                                                                                                                                                                  Which of the following best describes your current <b>employment status</b>?   \n",
       "5                                                                                                                                                                                                                                                Where do you live? <span style=\"font-weight: bolder;\">*</span>   \n",
       "6                                                                                                                                                                                                      <p>In which state or territory of the USA do you live? <i>This information will be kept private.</i></p>   \n",
       "7                                                                                                                                                                                                                In which part of the United Kingdom do you live? <i>This information will be kept private.</i>   \n",
       "8   <span style=\"font-size:22px; font-family: arial,helvetica,sans-serif; font-weight: 700;\">Education, work, and career</span><br>\\n<br>\\n\\n<p><span style=\"font-size:16px; font-family:arial,helvetica,sans-serif;\">This section will focus on your education, work, and career.<br>\\n<br>\\nMost questions...   \n",
       "9                                                                                                                                                                                                          Which of the following best describes the highest level of formal education that you’ve completed? *   \n",
       "10                                                                                                                                                                                                 At what age did you write your first line of code or program? (e.g., webpage, Hello World, Scratch project)    \n",
       "11                                                                                                                                                                                                                                                            How did you learn to code? Select all that apply.   \n",
       "12                                                                                                                                                                                                                                       Including any education, how many years have you been coding in total?   \n",
       "13                                                                                                                                                                                                              NOT including education, how many years have you coded professionally (as a part of your work)?   \n",
       "14                                                                                                                                                                                                                             Which of the following describes your current job? Please select all that apply.   \n",
       "15                                                                                                                                                                                                           Approximately how many people are employed by the company or organization you currently work for?    \n",
       "16                                                                                                                                                                            Which currency do you use day-to-day? If your answer is complicated, please pick the one you're most comfortable estimating in. *   \n",
       "17  What is your current total compensation (salary, bonuses, and perks, before taxes and deductions), in ${q://QID50/ChoiceGroup/SelectedChoicesTextEntry}? Please enter a whole number in the box below, without any punctuation. If you are paid hourly, please estimate an equivalent weekly, monthly, o...   \n",
       "18                                                                                                                                                                                                                                                             Is that compensation weekly, monthly, or yearly?   \n",
       "19  <span style=\"font-size:22px; font-family: arial,helvetica,sans-serif; font-weight: 700;\">Tech and tech culture</span><br>\\n<br>\\n\\n<p><span style=\"font-size:16px; font-family:arial,helvetica,sans-serif;\">The next set of questions will focus on technology and tech culture.<br>\\n<br>\\nMost questio...   \n",
       "20                    Which <b>programming, scripting, and markup languages</b> have you done extensive development work in over the past year, and which do you want to work in over the next year? (If you both worked with the language and want to continue to do so, please check both boxes in that row.)   \n",
       "21                                           Which <b>database environments </b>have you done extensive development work in over the past year, and which do you want to work in over the next year? (If you both worked with the database and want to continue to do so, please check both boxes in that row.)   \n",
       "22                                                 Which <b>cloud platforms</b> have you done extensive development work in over the past year, and which do you want to work in over the next year? (If you both worked with the platform and want to continue to do so, please check both boxes in that row.)   \n",
       "23  Which <strong>web frameworks </strong><span style=\"font-weight: bolder;\">and libraries</span> have you done extensive development work in over the past year, and which do you want to work in over the next year? (If you both worked with the framework and want to continue to do so, please check bo...   \n",
       "24                                 Which <b>other frameworks and libraries</b> have you done extensive development work in over the past year, and which do you want to work in over the next year? (If you both worked with the framework and want to continue to do so, please check both boxes in that row.)   \n",
       "25                                               Which <strong>tools</strong> have you done extensive development work in over the past year, and which do you want to work in over the next year? (If you both worked with the technology and want to continue to do so, please check both boxes in that row.)   \n",
       "26                                                                                                                                Which <strong>development environments</strong> did you use regularly over the past year, and which do you want to work with over the next year? Please check all that apply.   \n",
       "27                                                                                                                                                                                                                                                    What is the primary operating system in which you work? *   \n",
       "28                                                                                                                                                                                                                                       What do you do when you get stuck on a problem? Select all that apply.   \n",
       "29  <span style=\"font-size:22px; font-family: arial,helvetica,sans-serif; font-weight: 700;\">Stack Overflow - usage and community</span><br>\\n<br>\\n\\n<p><span style=\"font-size:16px; font-family:arial,helvetica,sans-serif;\">This section will focus on Stack Overflow usage and community questions.<br>\\...   \n",
       "30                                                                                                                                                                                                                         Which of the following Stack Overflow sites have you visited? Select all that apply.   \n",
       "31                                                                                                                                                                                                                                                       How frequently would you say you visit Stack Overflow?   \n",
       "32                                                                                                                                                                                                                                                                        Do you have a Stack Overflow account?   \n",
       "33                                                                                                                                                            How frequently would you say you participate in Q&amp;A on Stack Overflow? By participate we mean ask, answer, vote for, or comment on questions.   \n",
       "34                                                                                                                                                                                                                                           Do you consider yourself a member of the Stack Overflow community?   \n",
       "35                                                                                                                                                                                                                                                  Are you a member of any other online developer communities?   \n",
       "36                                                                                                                                               Please name up to 5 other online developer communities you belong to, and indicate whether they are public (anyone can join) or private (invitation required).   \n",
       "37  <span style=\"font-size:22px; font-family: arial,helvetica,sans-serif; font-weight: 700;\">Demographics</span><br>\\n<br>\\n\\n<p><span style=\"font-size: 16px;\">All questions in this section are optional, you may leave questions blank if you prefer not to answer. </span></p><p><span style=\"font-size:...   \n",
       "38                                                                                                                                                                                                                                                                                            What is your age?   \n",
       "39                                                                                                                                                                                                                                    Which of the following describe you, if any? Please check all that apply.   \n",
       "40                                                                                                                                                                                                                                                                              Do you identify as transgender?   \n",
       "41                                                                                                                                                                                                                                    Which of the following describe you, if any? Please check all that apply.   \n",
       "42                                                                                                                                                                                                                                    Which of the following describe you, if any? Please check all that apply.   \n",
       "43                                                                                                                                                                                                                                   Which of the following describe you, if any? Please check all that apply.    \n",
       "44                                                                                                                                                                                                                                   Which of the following describe you, if any? Please check all that apply.    \n",
       "45                         <span style=\"font-size:22px;\"><strong>Final Questions</strong></span><div><span style=\"font-family: arial, helvetica, sans-serif; font-size: 16px;\"><br></span></div><div><span style=\"font-family: arial, helvetica, sans-serif; font-size: 16px;\">You're almost done!</span></div>   \n",
       "46                                                                                                                                                                                                                                                    How do you feel about the length of the survey this year?   \n",
       "47                                                                                                                                                                                                                                                           How easy or difficult was this survey to complete?   \n",
       "\n",
       "    force_resp    type selector  \n",
       "0        False      DB       TB  \n",
       "1        False    Meta  Browser  \n",
       "2        False      DB       TB  \n",
       "3         True      MC     SAVR  \n",
       "4        False      MC     MAVR  \n",
       "5         True      MC       DL  \n",
       "6        False      MC       DL  \n",
       "7        False      MC       DL  \n",
       "8        False      DB       TB  \n",
       "9        False      MC     SAVR  \n",
       "10       False      MC     MAVR  \n",
       "11       False      MC     MAVR  \n",
       "12       False      MC       DL  \n",
       "13       False      MC       DL  \n",
       "14       False      MC     MAVR  \n",
       "15       False      MC     MAVR  \n",
       "16        True      MC       SB  \n",
       "17       False      TE       SL  \n",
       "18       False      MC     MAVR  \n",
       "19       False      DB       TB  \n",
       "20       False  Matrix   Likert  \n",
       "21       False  Matrix   Likert  \n",
       "22       False  Matrix   Likert  \n",
       "23       False  Matrix   Likert  \n",
       "24       False  Matrix   Likert  \n",
       "25       False  Matrix   Likert  \n",
       "26       False  Matrix   Likert  \n",
       "27       False      MC     SAVR  \n",
       "28       False      MC     MAVR  \n",
       "29       False      DB       TB  \n",
       "30       False      MC     MAVR  \n",
       "31       False      MC     MAVR  \n",
       "32       False      MC     MAVR  \n",
       "33       False      MC     MAVR  \n",
       "34       False      MC     MAVR  \n",
       "35       False      MC     MAVR  \n",
       "36       False  Matrix   Likert  \n",
       "37       False      DB       TB  \n",
       "38       False      MC     MAVR  \n",
       "39       False      MC     MAVR  \n",
       "40       False      MC     MAVR  \n",
       "41       False      MC     MAVR  \n",
       "42       False      MC     MAVR  \n",
       "43       False      MC     MAVR  \n",
       "44       False      MC     MAVR  \n",
       "45       False      DB       TB  \n",
       "46       False      MC     MAVR  \n",
       "47       False      MC     MAVR  "
      ]
     },
     "execution_count": 65,
     "metadata": {},
     "output_type": "execute_result"
    }
   ],
   "source": [
    "df_schema"
   ]
  },
  {
   "cell_type": "code",
   "execution_count": 66,
   "metadata": {},
   "outputs": [
    {
     "data": {
      "text/plain": [
       "array([4.800e+03,       nan, 4.200e+04, ..., 8.880e+04, 6.500e+01,\n",
       "       1.605e+05])"
      ]
     },
     "execution_count": 66,
     "metadata": {},
     "output_type": "execute_result"
    }
   ],
   "source": [
    "df_public['CompTotal'].unique()"
   ]
  },
  {
   "cell_type": "code",
   "execution_count": 67,
   "metadata": {},
   "outputs": [
    {
     "name": "stdout",
     "output_type": "stream",
     "text": [
      "<class 'pandas.core.frame.DataFrame'>\n",
      "RangeIndex: 83439 entries, 0 to 83438\n",
      "Data columns (total 48 columns):\n",
      " #   Column                        Non-Null Count  Dtype  \n",
      "---  ------                        --------------  -----  \n",
      " 0   ResponseId                    83439 non-null  int64  \n",
      " 1   MainBranch                    83439 non-null  object \n",
      " 2   Employment                    83323 non-null  object \n",
      " 3   Country                       83439 non-null  object \n",
      " 4   US_State                      14920 non-null  object \n",
      " 5   UK_Country                    4418 non-null   object \n",
      " 6   EdLevel                       83126 non-null  object \n",
      " 7   Age1stCode                    83243 non-null  object \n",
      " 8   LearnCode                     82963 non-null  object \n",
      " 9   YearsCode                     81641 non-null  object \n",
      " 10  YearsCodePro                  61216 non-null  object \n",
      " 11  DevType                       66484 non-null  object \n",
      " 12  OrgSize                       60726 non-null  object \n",
      " 13  Currency                      61080 non-null  object \n",
      " 14  CompTotal                     47183 non-null  float64\n",
      " 15  CompFreq                      52150 non-null  object \n",
      " 16  LanguageHaveWorkedWith        82357 non-null  object \n",
      " 17  LanguageWantToWorkWith        76821 non-null  object \n",
      " 18  DatabaseHaveWorkedWith        69546 non-null  object \n",
      " 19  DatabaseWantToWorkWith        58299 non-null  object \n",
      " 20  PlatformHaveWorkedWith        52135 non-null  object \n",
      " 21  PlatformWantToWorkWith        41619 non-null  object \n",
      " 22  WebframeHaveWorkedWith        61707 non-null  object \n",
      " 23  WebframeWantToWorkWith        52095 non-null  object \n",
      " 24  MiscTechHaveWorkedWith        47055 non-null  object \n",
      " 25  MiscTechWantToWorkWith        38021 non-null  object \n",
      " 26  ToolsTechHaveWorkedWith       72537 non-null  object \n",
      " 27  ToolsTechWantToWorkWith       65480 non-null  object \n",
      " 28  NEWCollabToolsHaveWorkedWith  81234 non-null  object \n",
      " 29  NEWCollabToolsWantToWorkWith  73022 non-null  object \n",
      " 30  OpSys                         83294 non-null  object \n",
      " 31  NEWStuck                      83052 non-null  object \n",
      " 32  NEWSOSites                    83171 non-null  object \n",
      " 33  SOVisitFreq                   82413 non-null  object \n",
      " 34  SOAccount                     82525 non-null  object \n",
      " 35  SOPartFreq                    67553 non-null  object \n",
      " 36  SOComm                        82319 non-null  object \n",
      " 37  NEWOtherComms                 82828 non-null  object \n",
      " 38  Age                           82407 non-null  object \n",
      " 39  Gender                        82286 non-null  object \n",
      " 40  Trans                         80678 non-null  object \n",
      " 41  Sexuality                     73366 non-null  object \n",
      " 42  Ethnicity                     79464 non-null  object \n",
      " 43  Accessibility                 77603 non-null  object \n",
      " 44  MentalHealth                  76920 non-null  object \n",
      " 45  SurveyLength                  81711 non-null  object \n",
      " 46  SurveyEase                    81948 non-null  object \n",
      " 47  ConvertedCompYearly           46844 non-null  float64\n",
      "dtypes: float64(2), int64(1), object(45)\n",
      "memory usage: 30.6+ MB\n"
     ]
    }
   ],
   "source": [
    "df_public.info()"
   ]
  },
  {
   "cell_type": "code",
   "execution_count": 68,
   "metadata": {},
   "outputs": [],
   "source": [
    "questions = ['MainBranch', 'Employment', 'Country', 'US_State',\n",
    "       'UK_Country', 'EdLevel', 'Age1stCode', 'LearnCode', 'YearsCode',\n",
    "       'YearsCodePro', 'DevType', 'OrgSize', 'Currency', 'CompTotal',\n",
    "       'CompFreq', 'LanguageHaveWorkedWith', 'LanguageWantToWorkWith', \n",
    "        'Age', 'Gender', 'Trans', 'Sexuality',\n",
    "       'Accessibility', 'MentalHealth', 'SurveyLength',\n",
    "       'SurveyEase', 'ConvertedCompYearly','OpSys'\n",
    "        ]"
   ]
  },
  {
   "cell_type": "code",
   "execution_count": 69,
   "metadata": {},
   "outputs": [],
   "source": [
    "df_public = df_public[questions]"
   ]
  },
  {
   "cell_type": "code",
   "execution_count": 70,
   "metadata": {},
   "outputs": [],
   "source": [
    "branch = {\n",
    "    \"I am a developer by profession\": \"Profissional\",\n",
    "    \"I am a student who is learning to code\": \"Estudante\",\n",
    "    \"I am not primarily a developer, but I write code sometimes as part of my work\": \"Não é DEV\",\n",
    "    \"I code primarily as a hobby\": \"Hobby\",\n",
    "    \"I used to be a developer by profession, but no longer am\": \"Ex-profissional\",\n",
    "    \"None of these\": \"Sem informação\"\n",
    "}"
   ]
  },
  {
   "cell_type": "code",
   "execution_count": 71,
   "metadata": {},
   "outputs": [],
   "source": [
    "df_public['Resume MainBranch'] = df_public['MainBranch'].apply(lambda x: branch.get(x,\"inválido\")).astype(\"string\")"
   ]
  },
  {
   "cell_type": "code",
   "execution_count": 72,
   "metadata": {},
   "outputs": [],
   "source": [
    "df_public.drop(labels=\"MainBranch\", axis=\"columns\", inplace=True)"
   ]
  },
  {
   "cell_type": "code",
   "execution_count": 73,
   "metadata": {},
   "outputs": [],
   "source": [
    "questions2 = ['YearsCode','YearsCodePro']"
   ]
  },
  {
   "cell_type": "code",
   "execution_count": 74,
   "metadata": {},
   "outputs": [],
   "source": [
    "questions22 = ['CompTotal','ConvertedCompYearly']"
   ]
  },
  {
   "cell_type": "code",
   "execution_count": 75,
   "metadata": {},
   "outputs": [],
   "source": [
    "df_public.loc[:,questions2] = df_public.loc[:,questions2].apply(pd.to_numeric, args=(\"coerce\",), axis='index')"
   ]
  },
  {
   "cell_type": "code",
   "execution_count": 76,
   "metadata": {},
   "outputs": [],
   "source": [
    "media = df_public[questions2].apply(pd.Series.mean, axis='index').astype(int)"
   ]
  },
  {
   "cell_type": "code",
   "execution_count": 77,
   "metadata": {},
   "outputs": [],
   "source": [
    "for col in questions2:\n",
    "    df_public.get(col).fillna(value=media.get(col), inplace=True)"
   ]
  },
  {
   "cell_type": "code",
   "execution_count": 78,
   "metadata": {},
   "outputs": [],
   "source": [
    "def print_col_numbers(*cols):\n",
    "    for col in cols:\n",
    "        print(col)\n",
    "        try:\n",
    "            print(df_public[col].unique())\n",
    "            print(df_public[col].unique().shape)\n",
    "        except:\n",
    "            print(f\"Column {col} não existe.\")\n",
    "        print(\"\\n\\n\")"
   ]
  },
  {
   "cell_type": "code",
   "execution_count": 79,
   "metadata": {},
   "outputs": [
    {
     "name": "stdout",
     "output_type": "stream",
     "text": [
      "YearsCode\n",
      "[12.  7. 17.  3.  4.  6. 16. 15. 10. 40.  9. 26. 14. 39. 20.  8. 19.  5.\n",
      " 22.  2.  1. 34. 21. 13. 25. 24. 30. 31. 18. 38. 27. 41. 42. 35. 23. 28.\n",
      " 11. 37. 44. 43. 36. 33. 45. 29. 50. 46. 32. 47. 49. 48.]\n",
      "(50,)\n",
      "\n",
      "\n",
      "\n",
      "YearsCodePro\n",
      "[ 9. 10.  4.  5.  6.  2. 30. 18. 12. 21.  1. 16. 15.  3. 35.  7.  8. 17.\n",
      " 14. 26. 25. 20. 50. 34. 11. 24. 22. 13. 31. 23. 39. 41. 27. 28. 19. 33.\n",
      " 37. 29. 32. 43. 40. 38. 45. 42. 46. 36. 44. 47. 48. 49.]\n",
      "(50,)\n",
      "\n",
      "\n",
      "\n"
     ]
    }
   ],
   "source": [
    "print_col_numbers(*questions2)"
   ]
  },
  {
   "cell_type": "code",
   "execution_count": 80,
   "metadata": {},
   "outputs": [
    {
     "name": "stdout",
     "output_type": "stream",
     "text": [
      "<class 'pandas.core.frame.DataFrame'>\n",
      "RangeIndex: 83439 entries, 0 to 83438\n",
      "Data columns (total 27 columns):\n",
      " #   Column                  Non-Null Count  Dtype  \n",
      "---  ------                  --------------  -----  \n",
      " 0   Employment              83323 non-null  object \n",
      " 1   Country                 83439 non-null  object \n",
      " 2   US_State                14920 non-null  object \n",
      " 3   UK_Country              4418 non-null   object \n",
      " 4   EdLevel                 83126 non-null  object \n",
      " 5   Age1stCode              83243 non-null  object \n",
      " 6   LearnCode               82963 non-null  object \n",
      " 7   YearsCode               83439 non-null  float64\n",
      " 8   YearsCodePro            83439 non-null  float64\n",
      " 9   DevType                 66484 non-null  object \n",
      " 10  OrgSize                 60726 non-null  object \n",
      " 11  Currency                61080 non-null  object \n",
      " 12  CompTotal               47183 non-null  float64\n",
      " 13  CompFreq                52150 non-null  object \n",
      " 14  LanguageHaveWorkedWith  82357 non-null  object \n",
      " 15  LanguageWantToWorkWith  76821 non-null  object \n",
      " 16  Age                     82407 non-null  object \n",
      " 17  Gender                  82286 non-null  object \n",
      " 18  Trans                   80678 non-null  object \n",
      " 19  Sexuality               73366 non-null  object \n",
      " 20  Accessibility           77603 non-null  object \n",
      " 21  MentalHealth            76920 non-null  object \n",
      " 22  SurveyLength            81711 non-null  object \n",
      " 23  SurveyEase              81948 non-null  object \n",
      " 24  ConvertedCompYearly     46844 non-null  float64\n",
      " 25  OpSys                   83294 non-null  object \n",
      " 26  Resume MainBranch       83439 non-null  string \n",
      "dtypes: float64(4), object(22), string(1)\n",
      "memory usage: 17.2+ MB\n"
     ]
    }
   ],
   "source": [
    "df_public.info()"
   ]
  },
  {
   "cell_type": "code",
   "execution_count": 81,
   "metadata": {},
   "outputs": [],
   "source": [
    "col_string = set(df_public.columns) - set(questions2)"
   ]
  },
  {
   "cell_type": "code",
   "execution_count": 82,
   "metadata": {},
   "outputs": [
    {
     "ename": "ValueError",
     "evalue": "StringArray requires a sequence of strings or pandas.NA",
     "output_type": "error",
     "traceback": [
      "\u001b[1;31m---------------------------------------------------------------------------\u001b[0m",
      "\u001b[1;31mValueError\u001b[0m                                Traceback (most recent call last)",
      "\u001b[1;32m<ipython-input-82-7e2392688c7b>\u001b[0m in \u001b[0;36m<module>\u001b[1;34m\u001b[0m\n\u001b[1;32m----> 1\u001b[1;33m \u001b[0mdf_public\u001b[0m\u001b[1;33m.\u001b[0m\u001b[0mloc\u001b[0m\u001b[1;33m[\u001b[0m\u001b[1;33m:\u001b[0m\u001b[1;33m,\u001b[0m\u001b[0mcol_string\u001b[0m\u001b[1;33m]\u001b[0m \u001b[1;33m=\u001b[0m \u001b[0mdf_public\u001b[0m\u001b[1;33m.\u001b[0m\u001b[0mloc\u001b[0m\u001b[1;33m[\u001b[0m\u001b[1;33m:\u001b[0m\u001b[1;33m,\u001b[0m\u001b[0mcol_string\u001b[0m\u001b[1;33m]\u001b[0m\u001b[1;33m.\u001b[0m\u001b[0mastype\u001b[0m\u001b[1;33m(\u001b[0m\u001b[1;34m\"string\"\u001b[0m\u001b[1;33m)\u001b[0m\u001b[1;33m\u001b[0m\u001b[1;33m\u001b[0m\u001b[0m\n\u001b[0m",
      "\u001b[1;32m~\\anaconda3\\lib\\site-packages\\pandas\\core\\generic.py\u001b[0m in \u001b[0;36mastype\u001b[1;34m(self, dtype, copy, errors)\u001b[0m\n\u001b[0;32m   5689\u001b[0m             \u001b[1;31m# GH 18099/22869: columnwise conversion to extension dtype\u001b[0m\u001b[1;33m\u001b[0m\u001b[1;33m\u001b[0m\u001b[1;33m\u001b[0m\u001b[0m\n\u001b[0;32m   5690\u001b[0m             \u001b[1;31m# GH 24704: use iloc to handle duplicate column names\u001b[0m\u001b[1;33m\u001b[0m\u001b[1;33m\u001b[0m\u001b[1;33m\u001b[0m\u001b[0m\n\u001b[1;32m-> 5691\u001b[1;33m             results = [\n\u001b[0m\u001b[0;32m   5692\u001b[0m                 \u001b[0mself\u001b[0m\u001b[1;33m.\u001b[0m\u001b[0miloc\u001b[0m\u001b[1;33m[\u001b[0m\u001b[1;33m:\u001b[0m\u001b[1;33m,\u001b[0m \u001b[0mi\u001b[0m\u001b[1;33m]\u001b[0m\u001b[1;33m.\u001b[0m\u001b[0mastype\u001b[0m\u001b[1;33m(\u001b[0m\u001b[0mdtype\u001b[0m\u001b[1;33m,\u001b[0m \u001b[0mcopy\u001b[0m\u001b[1;33m=\u001b[0m\u001b[0mcopy\u001b[0m\u001b[1;33m)\u001b[0m\u001b[1;33m\u001b[0m\u001b[1;33m\u001b[0m\u001b[0m\n\u001b[0;32m   5693\u001b[0m                 \u001b[1;32mfor\u001b[0m \u001b[0mi\u001b[0m \u001b[1;32min\u001b[0m \u001b[0mrange\u001b[0m\u001b[1;33m(\u001b[0m\u001b[0mlen\u001b[0m\u001b[1;33m(\u001b[0m\u001b[0mself\u001b[0m\u001b[1;33m.\u001b[0m\u001b[0mcolumns\u001b[0m\u001b[1;33m)\u001b[0m\u001b[1;33m)\u001b[0m\u001b[1;33m\u001b[0m\u001b[1;33m\u001b[0m\u001b[0m\n",
      "\u001b[1;32m~\\anaconda3\\lib\\site-packages\\pandas\\core\\generic.py\u001b[0m in \u001b[0;36m<listcomp>\u001b[1;34m(.0)\u001b[0m\n\u001b[0;32m   5690\u001b[0m             \u001b[1;31m# GH 24704: use iloc to handle duplicate column names\u001b[0m\u001b[1;33m\u001b[0m\u001b[1;33m\u001b[0m\u001b[1;33m\u001b[0m\u001b[0m\n\u001b[0;32m   5691\u001b[0m             results = [\n\u001b[1;32m-> 5692\u001b[1;33m                 \u001b[0mself\u001b[0m\u001b[1;33m.\u001b[0m\u001b[0miloc\u001b[0m\u001b[1;33m[\u001b[0m\u001b[1;33m:\u001b[0m\u001b[1;33m,\u001b[0m \u001b[0mi\u001b[0m\u001b[1;33m]\u001b[0m\u001b[1;33m.\u001b[0m\u001b[0mastype\u001b[0m\u001b[1;33m(\u001b[0m\u001b[0mdtype\u001b[0m\u001b[1;33m,\u001b[0m \u001b[0mcopy\u001b[0m\u001b[1;33m=\u001b[0m\u001b[0mcopy\u001b[0m\u001b[1;33m)\u001b[0m\u001b[1;33m\u001b[0m\u001b[1;33m\u001b[0m\u001b[0m\n\u001b[0m\u001b[0;32m   5693\u001b[0m                 \u001b[1;32mfor\u001b[0m \u001b[0mi\u001b[0m \u001b[1;32min\u001b[0m \u001b[0mrange\u001b[0m\u001b[1;33m(\u001b[0m\u001b[0mlen\u001b[0m\u001b[1;33m(\u001b[0m\u001b[0mself\u001b[0m\u001b[1;33m.\u001b[0m\u001b[0mcolumns\u001b[0m\u001b[1;33m)\u001b[0m\u001b[1;33m)\u001b[0m\u001b[1;33m\u001b[0m\u001b[1;33m\u001b[0m\u001b[0m\n\u001b[0;32m   5694\u001b[0m             ]\n",
      "\u001b[1;32m~\\anaconda3\\lib\\site-packages\\pandas\\core\\generic.py\u001b[0m in \u001b[0;36mastype\u001b[1;34m(self, dtype, copy, errors)\u001b[0m\n\u001b[0;32m   5696\u001b[0m         \u001b[1;32melse\u001b[0m\u001b[1;33m:\u001b[0m\u001b[1;33m\u001b[0m\u001b[1;33m\u001b[0m\u001b[0m\n\u001b[0;32m   5697\u001b[0m             \u001b[1;31m# else, only a single dtype is given\u001b[0m\u001b[1;33m\u001b[0m\u001b[1;33m\u001b[0m\u001b[1;33m\u001b[0m\u001b[0m\n\u001b[1;32m-> 5698\u001b[1;33m             \u001b[0mnew_data\u001b[0m \u001b[1;33m=\u001b[0m \u001b[0mself\u001b[0m\u001b[1;33m.\u001b[0m\u001b[0m_data\u001b[0m\u001b[1;33m.\u001b[0m\u001b[0mastype\u001b[0m\u001b[1;33m(\u001b[0m\u001b[0mdtype\u001b[0m\u001b[1;33m=\u001b[0m\u001b[0mdtype\u001b[0m\u001b[1;33m,\u001b[0m \u001b[0mcopy\u001b[0m\u001b[1;33m=\u001b[0m\u001b[0mcopy\u001b[0m\u001b[1;33m,\u001b[0m \u001b[0merrors\u001b[0m\u001b[1;33m=\u001b[0m\u001b[0merrors\u001b[0m\u001b[1;33m)\u001b[0m\u001b[1;33m\u001b[0m\u001b[1;33m\u001b[0m\u001b[0m\n\u001b[0m\u001b[0;32m   5699\u001b[0m             \u001b[1;32mreturn\u001b[0m \u001b[0mself\u001b[0m\u001b[1;33m.\u001b[0m\u001b[0m_constructor\u001b[0m\u001b[1;33m(\u001b[0m\u001b[0mnew_data\u001b[0m\u001b[1;33m)\u001b[0m\u001b[1;33m.\u001b[0m\u001b[0m__finalize__\u001b[0m\u001b[1;33m(\u001b[0m\u001b[0mself\u001b[0m\u001b[1;33m)\u001b[0m\u001b[1;33m\u001b[0m\u001b[1;33m\u001b[0m\u001b[0m\n\u001b[0;32m   5700\u001b[0m \u001b[1;33m\u001b[0m\u001b[0m\n",
      "\u001b[1;32m~\\anaconda3\\lib\\site-packages\\pandas\\core\\internals\\managers.py\u001b[0m in \u001b[0;36mastype\u001b[1;34m(self, dtype, copy, errors)\u001b[0m\n\u001b[0;32m    580\u001b[0m \u001b[1;33m\u001b[0m\u001b[0m\n\u001b[0;32m    581\u001b[0m     \u001b[1;32mdef\u001b[0m \u001b[0mastype\u001b[0m\u001b[1;33m(\u001b[0m\u001b[0mself\u001b[0m\u001b[1;33m,\u001b[0m \u001b[0mdtype\u001b[0m\u001b[1;33m,\u001b[0m \u001b[0mcopy\u001b[0m\u001b[1;33m:\u001b[0m \u001b[0mbool\u001b[0m \u001b[1;33m=\u001b[0m \u001b[1;32mFalse\u001b[0m\u001b[1;33m,\u001b[0m \u001b[0merrors\u001b[0m\u001b[1;33m:\u001b[0m \u001b[0mstr\u001b[0m \u001b[1;33m=\u001b[0m \u001b[1;34m\"raise\"\u001b[0m\u001b[1;33m)\u001b[0m\u001b[1;33m:\u001b[0m\u001b[1;33m\u001b[0m\u001b[1;33m\u001b[0m\u001b[0m\n\u001b[1;32m--> 582\u001b[1;33m         \u001b[1;32mreturn\u001b[0m \u001b[0mself\u001b[0m\u001b[1;33m.\u001b[0m\u001b[0mapply\u001b[0m\u001b[1;33m(\u001b[0m\u001b[1;34m\"astype\"\u001b[0m\u001b[1;33m,\u001b[0m \u001b[0mdtype\u001b[0m\u001b[1;33m=\u001b[0m\u001b[0mdtype\u001b[0m\u001b[1;33m,\u001b[0m \u001b[0mcopy\u001b[0m\u001b[1;33m=\u001b[0m\u001b[0mcopy\u001b[0m\u001b[1;33m,\u001b[0m \u001b[0merrors\u001b[0m\u001b[1;33m=\u001b[0m\u001b[0merrors\u001b[0m\u001b[1;33m)\u001b[0m\u001b[1;33m\u001b[0m\u001b[1;33m\u001b[0m\u001b[0m\n\u001b[0m\u001b[0;32m    583\u001b[0m \u001b[1;33m\u001b[0m\u001b[0m\n\u001b[0;32m    584\u001b[0m     \u001b[1;32mdef\u001b[0m \u001b[0mconvert\u001b[0m\u001b[1;33m(\u001b[0m\u001b[0mself\u001b[0m\u001b[1;33m,\u001b[0m \u001b[1;33m**\u001b[0m\u001b[0mkwargs\u001b[0m\u001b[1;33m)\u001b[0m\u001b[1;33m:\u001b[0m\u001b[1;33m\u001b[0m\u001b[1;33m\u001b[0m\u001b[0m\n",
      "\u001b[1;32m~\\anaconda3\\lib\\site-packages\\pandas\\core\\internals\\managers.py\u001b[0m in \u001b[0;36mapply\u001b[1;34m(self, f, filter, **kwargs)\u001b[0m\n\u001b[0;32m    440\u001b[0m                 \u001b[0mapplied\u001b[0m \u001b[1;33m=\u001b[0m \u001b[0mb\u001b[0m\u001b[1;33m.\u001b[0m\u001b[0mapply\u001b[0m\u001b[1;33m(\u001b[0m\u001b[0mf\u001b[0m\u001b[1;33m,\u001b[0m \u001b[1;33m**\u001b[0m\u001b[0mkwargs\u001b[0m\u001b[1;33m)\u001b[0m\u001b[1;33m\u001b[0m\u001b[1;33m\u001b[0m\u001b[0m\n\u001b[0;32m    441\u001b[0m             \u001b[1;32melse\u001b[0m\u001b[1;33m:\u001b[0m\u001b[1;33m\u001b[0m\u001b[1;33m\u001b[0m\u001b[0m\n\u001b[1;32m--> 442\u001b[1;33m                 \u001b[0mapplied\u001b[0m \u001b[1;33m=\u001b[0m \u001b[0mgetattr\u001b[0m\u001b[1;33m(\u001b[0m\u001b[0mb\u001b[0m\u001b[1;33m,\u001b[0m \u001b[0mf\u001b[0m\u001b[1;33m)\u001b[0m\u001b[1;33m(\u001b[0m\u001b[1;33m**\u001b[0m\u001b[0mkwargs\u001b[0m\u001b[1;33m)\u001b[0m\u001b[1;33m\u001b[0m\u001b[1;33m\u001b[0m\u001b[0m\n\u001b[0m\u001b[0;32m    443\u001b[0m             \u001b[0mresult_blocks\u001b[0m \u001b[1;33m=\u001b[0m \u001b[0m_extend_blocks\u001b[0m\u001b[1;33m(\u001b[0m\u001b[0mapplied\u001b[0m\u001b[1;33m,\u001b[0m \u001b[0mresult_blocks\u001b[0m\u001b[1;33m)\u001b[0m\u001b[1;33m\u001b[0m\u001b[1;33m\u001b[0m\u001b[0m\n\u001b[0;32m    444\u001b[0m \u001b[1;33m\u001b[0m\u001b[0m\n",
      "\u001b[1;32m~\\anaconda3\\lib\\site-packages\\pandas\\core\\internals\\blocks.py\u001b[0m in \u001b[0;36mastype\u001b[1;34m(self, dtype, copy, errors)\u001b[0m\n\u001b[0;32m    623\u001b[0m             \u001b[0mvals1d\u001b[0m \u001b[1;33m=\u001b[0m \u001b[0mvalues\u001b[0m\u001b[1;33m.\u001b[0m\u001b[0mravel\u001b[0m\u001b[1;33m(\u001b[0m\u001b[1;33m)\u001b[0m\u001b[1;33m\u001b[0m\u001b[1;33m\u001b[0m\u001b[0m\n\u001b[0;32m    624\u001b[0m             \u001b[1;32mtry\u001b[0m\u001b[1;33m:\u001b[0m\u001b[1;33m\u001b[0m\u001b[1;33m\u001b[0m\u001b[0m\n\u001b[1;32m--> 625\u001b[1;33m                 \u001b[0mvalues\u001b[0m \u001b[1;33m=\u001b[0m \u001b[0mastype_nansafe\u001b[0m\u001b[1;33m(\u001b[0m\u001b[0mvals1d\u001b[0m\u001b[1;33m,\u001b[0m \u001b[0mdtype\u001b[0m\u001b[1;33m,\u001b[0m \u001b[0mcopy\u001b[0m\u001b[1;33m=\u001b[0m\u001b[1;32mTrue\u001b[0m\u001b[1;33m)\u001b[0m\u001b[1;33m\u001b[0m\u001b[1;33m\u001b[0m\u001b[0m\n\u001b[0m\u001b[0;32m    626\u001b[0m             \u001b[1;32mexcept\u001b[0m \u001b[1;33m(\u001b[0m\u001b[0mValueError\u001b[0m\u001b[1;33m,\u001b[0m \u001b[0mTypeError\u001b[0m\u001b[1;33m)\u001b[0m\u001b[1;33m:\u001b[0m\u001b[1;33m\u001b[0m\u001b[1;33m\u001b[0m\u001b[0m\n\u001b[0;32m    627\u001b[0m                 \u001b[1;31m# e.g. astype_nansafe can fail on object-dtype of strings\u001b[0m\u001b[1;33m\u001b[0m\u001b[1;33m\u001b[0m\u001b[1;33m\u001b[0m\u001b[0m\n",
      "\u001b[1;32m~\\anaconda3\\lib\\site-packages\\pandas\\core\\dtypes\\cast.py\u001b[0m in \u001b[0;36mastype_nansafe\u001b[1;34m(arr, dtype, copy, skipna)\u001b[0m\n\u001b[0;32m    819\u001b[0m     \u001b[1;31m# dispatch on extension dtype if needed\u001b[0m\u001b[1;33m\u001b[0m\u001b[1;33m\u001b[0m\u001b[1;33m\u001b[0m\u001b[0m\n\u001b[0;32m    820\u001b[0m     \u001b[1;32mif\u001b[0m \u001b[0mis_extension_array_dtype\u001b[0m\u001b[1;33m(\u001b[0m\u001b[0mdtype\u001b[0m\u001b[1;33m)\u001b[0m\u001b[1;33m:\u001b[0m\u001b[1;33m\u001b[0m\u001b[1;33m\u001b[0m\u001b[0m\n\u001b[1;32m--> 821\u001b[1;33m         \u001b[1;32mreturn\u001b[0m \u001b[0mdtype\u001b[0m\u001b[1;33m.\u001b[0m\u001b[0mconstruct_array_type\u001b[0m\u001b[1;33m(\u001b[0m\u001b[1;33m)\u001b[0m\u001b[1;33m.\u001b[0m\u001b[0m_from_sequence\u001b[0m\u001b[1;33m(\u001b[0m\u001b[0marr\u001b[0m\u001b[1;33m,\u001b[0m \u001b[0mdtype\u001b[0m\u001b[1;33m=\u001b[0m\u001b[0mdtype\u001b[0m\u001b[1;33m,\u001b[0m \u001b[0mcopy\u001b[0m\u001b[1;33m=\u001b[0m\u001b[0mcopy\u001b[0m\u001b[1;33m)\u001b[0m\u001b[1;33m\u001b[0m\u001b[1;33m\u001b[0m\u001b[0m\n\u001b[0m\u001b[0;32m    822\u001b[0m \u001b[1;33m\u001b[0m\u001b[0m\n\u001b[0;32m    823\u001b[0m     \u001b[1;32mif\u001b[0m \u001b[1;32mnot\u001b[0m \u001b[0misinstance\u001b[0m\u001b[1;33m(\u001b[0m\u001b[0mdtype\u001b[0m\u001b[1;33m,\u001b[0m \u001b[0mnp\u001b[0m\u001b[1;33m.\u001b[0m\u001b[0mdtype\u001b[0m\u001b[1;33m)\u001b[0m\u001b[1;33m:\u001b[0m\u001b[1;33m\u001b[0m\u001b[1;33m\u001b[0m\u001b[0m\n",
      "\u001b[1;32m~\\anaconda3\\lib\\site-packages\\pandas\\core\\arrays\\string_.py\u001b[0m in \u001b[0;36m_from_sequence\u001b[1;34m(cls, scalars, dtype, copy)\u001b[0m\n\u001b[0;32m    195\u001b[0m             \u001b[0mresult\u001b[0m\u001b[1;33m[\u001b[0m\u001b[0mna_values\u001b[0m\u001b[1;33m]\u001b[0m \u001b[1;33m=\u001b[0m \u001b[0mStringDtype\u001b[0m\u001b[1;33m.\u001b[0m\u001b[0mna_value\u001b[0m\u001b[1;33m\u001b[0m\u001b[1;33m\u001b[0m\u001b[0m\n\u001b[0;32m    196\u001b[0m \u001b[1;33m\u001b[0m\u001b[0m\n\u001b[1;32m--> 197\u001b[1;33m         \u001b[1;32mreturn\u001b[0m \u001b[0mcls\u001b[0m\u001b[1;33m(\u001b[0m\u001b[0mresult\u001b[0m\u001b[1;33m)\u001b[0m\u001b[1;33m\u001b[0m\u001b[1;33m\u001b[0m\u001b[0m\n\u001b[0m\u001b[0;32m    198\u001b[0m \u001b[1;33m\u001b[0m\u001b[0m\n\u001b[0;32m    199\u001b[0m     \u001b[1;33m@\u001b[0m\u001b[0mclassmethod\u001b[0m\u001b[1;33m\u001b[0m\u001b[1;33m\u001b[0m\u001b[0m\n",
      "\u001b[1;32m~\\anaconda3\\lib\\site-packages\\pandas\\core\\arrays\\string_.py\u001b[0m in \u001b[0;36m__init__\u001b[1;34m(self, values, copy)\u001b[0m\n\u001b[0;32m    164\u001b[0m         \u001b[0mself\u001b[0m\u001b[1;33m.\u001b[0m\u001b[0m_dtype\u001b[0m \u001b[1;33m=\u001b[0m \u001b[0mStringDtype\u001b[0m\u001b[1;33m(\u001b[0m\u001b[1;33m)\u001b[0m\u001b[1;33m\u001b[0m\u001b[1;33m\u001b[0m\u001b[0m\n\u001b[0;32m    165\u001b[0m         \u001b[1;32mif\u001b[0m \u001b[1;32mnot\u001b[0m \u001b[0mskip_validation\u001b[0m\u001b[1;33m:\u001b[0m\u001b[1;33m\u001b[0m\u001b[1;33m\u001b[0m\u001b[0m\n\u001b[1;32m--> 166\u001b[1;33m             \u001b[0mself\u001b[0m\u001b[1;33m.\u001b[0m\u001b[0m_validate\u001b[0m\u001b[1;33m(\u001b[0m\u001b[1;33m)\u001b[0m\u001b[1;33m\u001b[0m\u001b[1;33m\u001b[0m\u001b[0m\n\u001b[0m\u001b[0;32m    167\u001b[0m \u001b[1;33m\u001b[0m\u001b[0m\n\u001b[0;32m    168\u001b[0m     \u001b[1;32mdef\u001b[0m \u001b[0m_validate\u001b[0m\u001b[1;33m(\u001b[0m\u001b[0mself\u001b[0m\u001b[1;33m)\u001b[0m\u001b[1;33m:\u001b[0m\u001b[1;33m\u001b[0m\u001b[1;33m\u001b[0m\u001b[0m\n",
      "\u001b[1;32m~\\anaconda3\\lib\\site-packages\\pandas\\core\\arrays\\string_.py\u001b[0m in \u001b[0;36m_validate\u001b[1;34m(self)\u001b[0m\n\u001b[0;32m    169\u001b[0m         \u001b[1;34m\"\"\"Validate that we only store NA or strings.\"\"\"\u001b[0m\u001b[1;33m\u001b[0m\u001b[1;33m\u001b[0m\u001b[0m\n\u001b[0;32m    170\u001b[0m         \u001b[1;32mif\u001b[0m \u001b[0mlen\u001b[0m\u001b[1;33m(\u001b[0m\u001b[0mself\u001b[0m\u001b[1;33m.\u001b[0m\u001b[0m_ndarray\u001b[0m\u001b[1;33m)\u001b[0m \u001b[1;32mand\u001b[0m \u001b[1;32mnot\u001b[0m \u001b[0mlib\u001b[0m\u001b[1;33m.\u001b[0m\u001b[0mis_string_array\u001b[0m\u001b[1;33m(\u001b[0m\u001b[0mself\u001b[0m\u001b[1;33m.\u001b[0m\u001b[0m_ndarray\u001b[0m\u001b[1;33m,\u001b[0m \u001b[0mskipna\u001b[0m\u001b[1;33m=\u001b[0m\u001b[1;32mTrue\u001b[0m\u001b[1;33m)\u001b[0m\u001b[1;33m:\u001b[0m\u001b[1;33m\u001b[0m\u001b[1;33m\u001b[0m\u001b[0m\n\u001b[1;32m--> 171\u001b[1;33m             \u001b[1;32mraise\u001b[0m \u001b[0mValueError\u001b[0m\u001b[1;33m(\u001b[0m\u001b[1;34m\"StringArray requires a sequence of strings or pandas.NA\"\u001b[0m\u001b[1;33m)\u001b[0m\u001b[1;33m\u001b[0m\u001b[1;33m\u001b[0m\u001b[0m\n\u001b[0m\u001b[0;32m    172\u001b[0m         \u001b[1;32mif\u001b[0m \u001b[0mself\u001b[0m\u001b[1;33m.\u001b[0m\u001b[0m_ndarray\u001b[0m\u001b[1;33m.\u001b[0m\u001b[0mdtype\u001b[0m \u001b[1;33m!=\u001b[0m \u001b[1;34m\"object\"\u001b[0m\u001b[1;33m:\u001b[0m\u001b[1;33m\u001b[0m\u001b[1;33m\u001b[0m\u001b[0m\n\u001b[0;32m    173\u001b[0m             raise ValueError(\n",
      "\u001b[1;31mValueError\u001b[0m: StringArray requires a sequence of strings or pandas.NA"
     ]
    }
   ],
   "source": [
    "df_public.loc[:,col_string] = df_public.loc[:,col_string].astype(\"string\")"
   ]
  },
  {
   "cell_type": "code",
   "execution_count": 84,
   "metadata": {},
   "outputs": [
    {
     "name": "stdout",
     "output_type": "stream",
     "text": [
      "<class 'pandas.core.frame.DataFrame'>\n",
      "RangeIndex: 83439 entries, 0 to 83438\n",
      "Data columns (total 27 columns):\n",
      " #   Column                  Non-Null Count  Dtype  \n",
      "---  ------                  --------------  -----  \n",
      " 0   Employment              83323 non-null  object \n",
      " 1   Country                 83439 non-null  object \n",
      " 2   US_State                14920 non-null  object \n",
      " 3   UK_Country              4418 non-null   object \n",
      " 4   EdLevel                 83126 non-null  object \n",
      " 5   Age1stCode              83243 non-null  object \n",
      " 6   LearnCode               82963 non-null  object \n",
      " 7   YearsCode               83439 non-null  float64\n",
      " 8   YearsCodePro            83439 non-null  float64\n",
      " 9   DevType                 66484 non-null  object \n",
      " 10  OrgSize                 60726 non-null  object \n",
      " 11  Currency                61080 non-null  object \n",
      " 12  CompTotal               47183 non-null  float64\n",
      " 13  CompFreq                52150 non-null  object \n",
      " 14  LanguageHaveWorkedWith  82357 non-null  object \n",
      " 15  LanguageWantToWorkWith  76821 non-null  object \n",
      " 16  Age                     82407 non-null  object \n",
      " 17  Gender                  82286 non-null  object \n",
      " 18  Trans                   80678 non-null  object \n",
      " 19  Sexuality               73366 non-null  object \n",
      " 20  Accessibility           77603 non-null  object \n",
      " 21  MentalHealth            76920 non-null  object \n",
      " 22  SurveyLength            81711 non-null  object \n",
      " 23  SurveyEase              81948 non-null  object \n",
      " 24  ConvertedCompYearly     46844 non-null  float64\n",
      " 25  OpSys                   83294 non-null  object \n",
      " 26  Resume MainBranch       83439 non-null  string \n",
      "dtypes: float64(4), object(22), string(1)\n",
      "memory usage: 17.2+ MB\n"
     ]
    }
   ],
   "source": [
    "df_public.info()"
   ]
  },
  {
   "cell_type": "code",
   "execution_count": 85,
   "metadata": {},
   "outputs": [
    {
     "ename": "AttributeError",
     "evalue": "'IntegerArray' object has no attribute 'sum'",
     "output_type": "error",
     "traceback": [
      "\u001b[1;31m---------------------------------------------------------------------------\u001b[0m",
      "\u001b[1;31mAttributeError\u001b[0m                            Traceback (most recent call last)",
      "\u001b[1;32m<ipython-input-85-8e79eec6485a>\u001b[0m in \u001b[0;36m<module>\u001b[1;34m\u001b[0m\n\u001b[0;32m      4\u001b[0m \u001b[1;31m#Porcentagem das pessoas que responderam que se consideram profissionais, não profissionais, estudante, hobby,\u001b[0m\u001b[1;33m\u001b[0m\u001b[1;33m\u001b[0m\u001b[1;33m\u001b[0m\u001b[0m\n\u001b[0;32m      5\u001b[0m \u001b[1;33m\u001b[0m\u001b[0m\n\u001b[1;32m----> 6\u001b[1;33m \u001b[0mdf_public\u001b[0m\u001b[1;33m[\u001b[0m\u001b[1;34m\"Resume MainBranch\"\u001b[0m\u001b[1;33m]\u001b[0m\u001b[1;33m.\u001b[0m\u001b[0mdropna\u001b[0m\u001b[1;33m(\u001b[0m\u001b[1;33m)\u001b[0m\u001b[1;33m.\u001b[0m\u001b[0mvalue_counts\u001b[0m\u001b[1;33m(\u001b[0m\u001b[0mnormalize\u001b[0m\u001b[1;33m=\u001b[0m\u001b[1;32mTrue\u001b[0m\u001b[1;33m)\u001b[0m\u001b[1;33m*\u001b[0m\u001b[1;36m100\u001b[0m\u001b[1;33m\u001b[0m\u001b[1;33m\u001b[0m\u001b[0m\n\u001b[0m",
      "\u001b[1;32m~\\anaconda3\\lib\\site-packages\\pandas\\core\\base.py\u001b[0m in \u001b[0;36mvalue_counts\u001b[1;34m(self, normalize, sort, ascending, bins, dropna)\u001b[0m\n\u001b[0;32m   1227\u001b[0m         \u001b[0mdtype\u001b[0m\u001b[1;33m:\u001b[0m \u001b[0mint64\u001b[0m\u001b[1;33m\u001b[0m\u001b[1;33m\u001b[0m\u001b[0m\n\u001b[0;32m   1228\u001b[0m         \"\"\"\n\u001b[1;32m-> 1229\u001b[1;33m         result = value_counts(\n\u001b[0m\u001b[0;32m   1230\u001b[0m             \u001b[0mself\u001b[0m\u001b[1;33m,\u001b[0m\u001b[1;33m\u001b[0m\u001b[1;33m\u001b[0m\u001b[0m\n\u001b[0;32m   1231\u001b[0m             \u001b[0msort\u001b[0m\u001b[1;33m=\u001b[0m\u001b[0msort\u001b[0m\u001b[1;33m,\u001b[0m\u001b[1;33m\u001b[0m\u001b[1;33m\u001b[0m\u001b[0m\n",
      "\u001b[1;32m~\\anaconda3\\lib\\site-packages\\pandas\\core\\algorithms.py\u001b[0m in \u001b[0;36mvalue_counts\u001b[1;34m(values, sort, ascending, normalize, bins, dropna)\u001b[0m\n\u001b[0;32m    729\u001b[0m \u001b[1;33m\u001b[0m\u001b[0m\n\u001b[0;32m    730\u001b[0m     \u001b[1;32mif\u001b[0m \u001b[0mnormalize\u001b[0m\u001b[1;33m:\u001b[0m\u001b[1;33m\u001b[0m\u001b[1;33m\u001b[0m\u001b[0m\n\u001b[1;32m--> 731\u001b[1;33m         \u001b[0mresult\u001b[0m \u001b[1;33m=\u001b[0m \u001b[0mresult\u001b[0m \u001b[1;33m/\u001b[0m \u001b[0mfloat\u001b[0m\u001b[1;33m(\u001b[0m\u001b[0mcounts\u001b[0m\u001b[1;33m.\u001b[0m\u001b[0msum\u001b[0m\u001b[1;33m(\u001b[0m\u001b[1;33m)\u001b[0m\u001b[1;33m)\u001b[0m\u001b[1;33m\u001b[0m\u001b[1;33m\u001b[0m\u001b[0m\n\u001b[0m\u001b[0;32m    732\u001b[0m \u001b[1;33m\u001b[0m\u001b[0m\n\u001b[0;32m    733\u001b[0m     \u001b[1;32mreturn\u001b[0m \u001b[0mresult\u001b[0m\u001b[1;33m\u001b[0m\u001b[1;33m\u001b[0m\u001b[0m\n",
      "\u001b[1;31mAttributeError\u001b[0m: 'IntegerArray' object has no attribute 'sum'"
     ]
    }
   ],
   "source": [
    "#1º pergunta\n",
    "\n",
    "\n",
    "#Porcentagem das pessoas que responderam que se consideram profissionais, não profissionais, estudante, hobby, \n",
    "\n",
    "df_public[\"Resume MainBranch\"].dropna().value_counts(normalize=True)*100"
   ]
  },
  {
   "cell_type": "code",
   "execution_count": null,
   "metadata": {},
   "outputs": [],
   "source": [
    "#2º pergunta\n",
    "\n",
    "#Distribuição das pessoas que responderam por localidade. Qual o país que teve maior participação?\n",
    "\n",
    "dfa = df_public[\"Country\"].dropna().value_counts(normalize=True)*100\n",
    "\n",
    "df = df_public.dropna(subset=[\"Country\"], axis=0).groupby(by=\"Country\")[\"Resume MainBranch\"].count()\n",
    "\n",
    "print(df.sort_values(ascending=False))\n",
    "print(dfa)"
   ]
  },
  {
   "cell_type": "code",
   "execution_count": null,
   "metadata": {},
   "outputs": [],
   "source": [
    "#3º pergunta\n",
    "\n",
    "#Qual a distribuição nível de estudo dos participantes?"
   ]
  },
  {
   "cell_type": "code",
   "execution_count": 83,
   "metadata": {},
   "outputs": [
    {
     "data": {
      "text/plain": [
       "array(['Secondary school (e.g. American high school, German Realschule or Gymnasium, etc.)',\n",
       "       'Bachelor’s degree (B.A., B.S., B.Eng., etc.)',\n",
       "       'Master’s degree (M.A., M.S., M.Eng., MBA, etc.)',\n",
       "       'Other doctoral degree (Ph.D., Ed.D., etc.)',\n",
       "       'Some college/university study without earning a degree',\n",
       "       'Something else', 'Professional degree (JD, MD, etc.)',\n",
       "       'Primary/elementary school', 'Associate degree (A.A., A.S., etc.)',\n",
       "       nan], dtype=object)"
      ]
     },
     "execution_count": 83,
     "metadata": {},
     "output_type": "execute_result"
    }
   ],
   "source": [
    "df_public['EdLevel'].unique()"
   ]
  },
  {
   "cell_type": "code",
   "execution_count": null,
   "metadata": {},
   "outputs": [],
   "source": [
    "b ranch2= {\n",
    "    \"Secondary school (e.g. American high school, German Realschule or Gymnasium, etc.)\": \"Secondary school\",\n",
    "    \"Bachelor’s degree (B.A., B.S., B.Eng., etc.)\": \"Bachelor’s degree\",\n",
    "    \"Master’s degree (M.A., M.S., M.Eng., MBA, etc.)\": \"Master’s degree\",\n",
    "    \"Other doctoral degree (Ph.D., Ed.D., etc.)\": \"Other doctoral degree\",\n",
    "    \"Some college/university study without earning a degree\": \"Without degree but was student\",\n",
    "    \"Something else\": \"Sem informação\",\n",
    "    \"Professional degree (JD, MD, etc.)\" : \"Professional degree\",\n",
    "    \"Primary/elementary school\": \"Primary/elementary school\",\n",
    "    \"Associate degree (A.A., A.S., etc.)\": \"Associate degree\"  \n",
    "}"
   ]
  },
  {
   "cell_type": "code",
   "execution_count": null,
   "metadata": {},
   "outputs": [],
   "source": [
    "df_public['Resume EdLevel'] = df_public['EdLevel'].apply(lambda x: branch2.get(x,\"inválido\")).astype(\"string\")"
   ]
  },
  {
   "cell_type": "code",
   "execution_count": 25,
   "metadata": {},
   "outputs": [],
   "source": [
    "df_public.drop(labels=\"EdLevel\", axis=\"columns\", inplace=True)"
   ]
  },
  {
   "cell_type": "code",
   "execution_count": null,
   "metadata": {},
   "outputs": [],
   "source": [
    "df_public['Resume EdLevel'].unique()"
   ]
  },
  {
   "cell_type": "code",
   "execution_count": null,
   "metadata": {},
   "outputs": [],
   "source": [
    "df_public[\"Resume EdLevel\"].dropna().value_counts(normalize=True)*100"
   ]
  },
  {
   "cell_type": "code",
   "execution_count": 30,
   "metadata": {},
   "outputs": [
    {
     "data": {
      "text/plain": [
       "Resume MainBranch  Age1stCode          \n",
       "Estudante          11 - 17 years           56.933211\n",
       "                   18 - 24 years           23.847244\n",
       "                   5 - 10 years            13.766364\n",
       "                   25 - 34 years            2.885016\n",
       "                   Younger than 5 years     1.692654\n",
       "                   35 - 44 years            0.650379\n",
       "                   45 - 54 years            0.091720\n",
       "                   55 - 64 years            0.066706\n",
       "                   Older than 64 years      0.066706\n",
       "Ex-profissional    11 - 17 years           44.849959\n",
       "                   18 - 24 years           24.817518\n",
       "                   5 - 10 years            17.518248\n",
       "                   25 - 34 years            4.622871\n",
       "                   35 - 44 years            2.676399\n",
       "                   45 - 54 years            2.027575\n",
       "                   Younger than 5 years     1.703163\n",
       "                   55 - 64 years            1.378751\n",
       "                   Older than 64 years      0.405515\n",
       "Hobby              11 - 17 years           48.949623\n",
       "                   5 - 10 years            34.346319\n",
       "                   18 - 24 years            8.892515\n",
       "                   25 - 34 years            3.181725\n",
       "                   Younger than 5 years     1.917194\n",
       "                   35 - 44 years            1.427697\n",
       "                   45 - 54 years            0.611870\n",
       "                   55 - 64 years            0.448705\n",
       "                   Older than 64 years      0.224352\n",
       "Não é DEV          11 - 17 years           47.806884\n",
       "                   18 - 24 years           23.926287\n",
       "                   5 - 10 years            14.240024\n",
       "                   25 - 34 years            7.493147\n",
       "                   35 - 44 years            3.045995\n",
       "                   45 - 54 years            1.583917\n",
       "                   Younger than 5 years     1.035638\n",
       "                   55 - 64 years            0.685349\n",
       "                   Older than 64 years      0.182760\n",
       "Profissional       11 - 17 years           53.538954\n",
       "                   18 - 24 years           25.490804\n",
       "                   5 - 10 years            12.356203\n",
       "                   25 - 34 years            5.314459\n",
       "                   35 - 44 years            1.551629\n",
       "                   Younger than 5 years     0.859337\n",
       "                   45 - 54 years            0.599297\n",
       "                   55 - 64 years            0.246263\n",
       "                   Older than 64 years      0.043053\n",
       "Sem informação     11 - 17 years           33.541667\n",
       "                   18 - 24 years           18.750000\n",
       "                   25 - 34 years           12.916667\n",
       "                   5 - 10 years            12.291667\n",
       "                   35 - 44 years            6.250000\n",
       "                   45 - 54 years            5.416667\n",
       "                   Older than 64 years      4.583333\n",
       "                   Younger than 5 years     4.166667\n",
       "                   55 - 64 years            2.083333\n",
       "Name: Age1stCode, dtype: float64"
      ]
     },
     "execution_count": 30,
     "metadata": {},
     "output_type": "execute_result"
    }
   ],
   "source": [
    "#4º pergunta\n",
    "\n",
    "#Qual a distribução de tempo de trabalho para cada tipo de profissional respondido na questão 1.\n",
    "\n",
    "\n",
    "#a) Levando em consideração a Idade do 1stCode \n",
    "df_public.dropna(subset=[\"Resume MainBranch\"], axis=0).groupby(by=\"Resume MainBranch\")[\"Age1stCode\"].value_counts(normalize=True)*100"
   ]
  },
  {
   "cell_type": "code",
   "execution_count": 31,
   "metadata": {},
   "outputs": [
    {
     "data": {
      "text/plain": [
       "Resume MainBranch\n",
       "Ex-profissional    20\n",
       "Não é DEV          14\n",
       "Profissional       13\n",
       "Sem informação     11\n",
       "Hobby               7\n",
       "Estudante           5\n",
       "Name: YearsCode, dtype: int32"
      ]
     },
     "execution_count": 31,
     "metadata": {},
     "output_type": "execute_result"
    }
   ],
   "source": [
    "#4º pergunta\n",
    "\n",
    "#Qual a distribução de tempo de trabalho para cada tipo de profissional respondido na questão 1.\n",
    "\n",
    "\n",
    "#b) Levando em consideração o tempo médio do primeiro código com aprendizado em cursos\n",
    "\n",
    "df_public.dropna(subset=[\"Resume MainBranch\"], axis=0).groupby(by=\"Resume MainBranch\")[\"YearsCode\"].apply(pd.Series.mean, axis='index').astype(int).sort_values(ascending=False)"
   ]
  },
  {
   "cell_type": "code",
   "execution_count": 32,
   "metadata": {},
   "outputs": [
    {
     "data": {
      "text/plain": [
       "Resume MainBranch\n",
       "Ex-profissional    14\n",
       "Não é DEV          10\n",
       "Sem informação      9\n",
       "Profissional        9\n",
       "Hobby               9\n",
       "Estudante           9\n",
       "Name: YearsCodePro, dtype: int32"
      ]
     },
     "execution_count": 32,
     "metadata": {},
     "output_type": "execute_result"
    }
   ],
   "source": [
    "#4º pergunta\n",
    "\n",
    "#Qual a distribução de tempo de trabalho para cada tipo de profissional respondido na questão 1.\n",
    "\n",
    "\n",
    "#c) Levando em consideração o tempo médio do primeiro código profissional\n",
    "\n",
    "df_public.dropna(subset=[\"Resume MainBranch\"], axis=0).groupby(by=\"Resume MainBranch\")[\"YearsCodePro\"].apply(pd.Series.mean, axis='index').astype(int).sort_values(ascending=False)"
   ]
  },
  {
   "cell_type": "code",
   "execution_count": 33,
   "metadata": {},
   "outputs": [],
   "source": [
    "#5º pergunta\n",
    "\n",
    "#Das pessoas que trabalham profissionalmente: \n",
    "\n",
    "#a)qual a profissão delas? "
   ]
  },
  {
   "cell_type": "code",
   "execution_count": 34,
   "metadata": {},
   "outputs": [
    {
     "data": {
      "text/plain": [
       "Developer, full-stack                            27.600609\n",
       "Developer, front-end                             22.088375\n",
       "Developer, mobile                                16.253473\n",
       "Developer, back-end                              13.702608\n",
       "Developer, desktop or enterprise applications     8.837501\n",
       "Engineer, data                                    2.825132\n",
       "Data scientist or machine learning specialist     2.362642\n",
       "Other (please specify):                           1.382092\n",
       "Developer, embedded applications or devices       1.382092\n",
       "DevOps specialist                                 0.579009\n",
       "Developer, QA or test                             0.501927\n",
       "Academic researcher                               0.489379\n",
       "Engineering manager                               0.480416\n",
       "Developer, game or graphics                       0.371067\n",
       "Senior Executive (C-Suite, VP, etc.)              0.302949\n",
       "Data or business analyst                          0.161334\n",
       "Student                                           0.146993\n",
       "Scientist                                         0.127274\n",
       "Engineer, site reliability                        0.109348\n",
       "Database administrator                            0.109348\n",
       "Product manager                                   0.057363\n",
       "Designer                                          0.050193\n",
       "System administrator                              0.039437\n",
       "Educator                                          0.035852\n",
       "Marketing or sales professional                   0.003585\n",
       "Name: DevType, dtype: float64"
      ]
     },
     "execution_count": 34,
     "metadata": {},
     "output_type": "execute_result"
    }
   ],
   "source": [
    "questions4 = ['DevType', 'Resume MainBranch']\n",
    "teste2 = df_public[questions4]\n",
    "df_mask = teste2['Resume MainBranch'] == \"Profissional\" \n",
    "filtered_df = teste2[df_mask]\n",
    "a = filtered_df['DevType'].str.split(\";\", expand=True)\n",
    "b = a.drop(columns=[1,2,3,4,5,6,7,8,9,10,11,12,13,14,15,16,17,18,19,20,21,22,23,24])\n",
    "c = b.rename({0 : \"DevType\"}, axis='columns')\n",
    "\n",
    "c[\"DevType\"].dropna().value_counts(normalize=True)*100\n",
    "# quantidade c[\"DevType\"].dropna().value_counts()\n"
   ]
  },
  {
   "cell_type": "code",
   "execution_count": 35,
   "metadata": {},
   "outputs": [],
   "source": [
    "#5º pergunta\n",
    "\n",
    "#Das pessoas que trabalham profissionalmente: \n",
    "\n",
    "#b)qual a escolaridade?"
   ]
  },
  {
   "cell_type": "code",
   "execution_count": 60,
   "metadata": {},
   "outputs": [
    {
     "ename": "NameError",
     "evalue": "name 'df' is not defined",
     "output_type": "error",
     "traceback": [
      "\u001b[1;31m---------------------------------------------------------------------------\u001b[0m",
      "\u001b[1;31mNameError\u001b[0m                                 Traceback (most recent call last)",
      "\u001b[1;32m<ipython-input-60-8f27867ee760>\u001b[0m in \u001b[0;36m<module>\u001b[1;34m\u001b[0m\n\u001b[1;32m----> 1\u001b[1;33m \u001b[0mpro_mask\u001b[0m \u001b[1;33m=\u001b[0m \u001b[0mdf\u001b[0m\u001b[1;33m[\u001b[0m\u001b[1;34m'MainBranch'\u001b[0m\u001b[1;33m]\u001b[0m\u001b[1;33m==\u001b[0m\u001b[1;34m'I am a developer by profession'\u001b[0m\u001b[1;33m\u001b[0m\u001b[1;33m\u001b[0m\u001b[0m\n\u001b[0m\u001b[0;32m      2\u001b[0m \u001b[1;33m\u001b[0m\u001b[0m\n\u001b[0;32m      3\u001b[0m \u001b[0mpro\u001b[0m \u001b[1;33m=\u001b[0m \u001b[0mdf\u001b[0m\u001b[1;33m[\u001b[0m\u001b[0mpro_mask\u001b[0m\u001b[1;33m]\u001b[0m\u001b[1;33m.\u001b[0m\u001b[0mcopy\u001b[0m\u001b[1;33m(\u001b[0m\u001b[1;33m)\u001b[0m\u001b[1;33m\u001b[0m\u001b[1;33m\u001b[0m\u001b[0m\n\u001b[0;32m      4\u001b[0m \u001b[1;33m\u001b[0m\u001b[0m\n\u001b[0;32m      5\u001b[0m \u001b[0mdev_types\u001b[0m \u001b[1;33m=\u001b[0m \u001b[1;33m[\u001b[0m\u001b[1;33m]\u001b[0m\u001b[1;33m\u001b[0m\u001b[1;33m\u001b[0m\u001b[0m\n",
      "\u001b[1;31mNameError\u001b[0m: name 'df' is not defined"
     ]
    }
   ],
   "source": [
    "pro_mask = df['MainBranch']=='I am a developer by profession'\n",
    "\n",
    "pro = df[pro_mask].copy()\n",
    "\n",
    "dev_types = []\n",
    "type_col = pro['DevType'].str.split(';', expand=False)\n",
    "\n",
    "for lst in type_col.dropna(): dev_types+=lst\n",
    "    \n",
    "dev_types = np.unique(dev_types); dev_types\n",
    "\n",
    "dev_type_cnt = {dev_type: 0 for dev_type in dev_types}\n",
    "\n",
    "cnt=0\n",
    "\n",
    "for dev_type in dev_types:    \n",
    "    for type_list in type_col:\n",
    "\n",
    "        if type(type_list)==list:\n",
    "#        if type_list:\n",
    "            \n",
    "            cnt+=1\n",
    "            if dev_type in type_list:\n",
    "                dev_type_cnt[dev_type] += 1\n",
    "\n",
    "dev_prop = pd.Series(dev_type_cnt) / len(type_col.dropna())\n",
    "\n",
    "dev_prop = (dev_prop*100).sort_values(ascending=False)"
   ]
  },
  {
   "cell_type": "code",
   "execution_count": 36,
   "metadata": {},
   "outputs": [
    {
     "ename": "KeyError",
     "evalue": "'Passing list-likes to .loc or [] with any missing labels is no longer supported, see https://pandas.pydata.org/pandas-docs/stable/user_guide/indexing.html#deprecate-loc-reindex-listlike'",
     "output_type": "error",
     "traceback": [
      "\u001b[1;31m---------------------------------------------------------------------------\u001b[0m",
      "\u001b[1;31mKeyError\u001b[0m                                  Traceback (most recent call last)",
      "\u001b[1;32m<ipython-input-36-6c3a345fd358>\u001b[0m in \u001b[0;36m<module>\u001b[1;34m\u001b[0m\n\u001b[0;32m      1\u001b[0m \u001b[0mquestions3\u001b[0m \u001b[1;33m=\u001b[0m \u001b[1;33m[\u001b[0m\u001b[1;34m'Resume EdLevel'\u001b[0m\u001b[1;33m,\u001b[0m \u001b[1;34m'Resume MainBranch'\u001b[0m\u001b[1;33m]\u001b[0m\u001b[1;33m\u001b[0m\u001b[1;33m\u001b[0m\u001b[0m\n\u001b[1;32m----> 2\u001b[1;33m \u001b[0mteste\u001b[0m \u001b[1;33m=\u001b[0m \u001b[0mdf_public\u001b[0m\u001b[1;33m.\u001b[0m\u001b[0mloc\u001b[0m\u001b[1;33m[\u001b[0m\u001b[1;33m:\u001b[0m\u001b[1;33m,\u001b[0m\u001b[0mquestions3\u001b[0m\u001b[1;33m]\u001b[0m\u001b[1;33m\u001b[0m\u001b[1;33m\u001b[0m\u001b[0m\n\u001b[0m\u001b[0;32m      3\u001b[0m \u001b[0mdf_mask\u001b[0m \u001b[1;33m=\u001b[0m \u001b[0mteste\u001b[0m\u001b[1;33m[\u001b[0m\u001b[1;34m'Resume MainBranch'\u001b[0m\u001b[1;33m]\u001b[0m \u001b[1;33m==\u001b[0m \u001b[1;34m\"Profissional\"\u001b[0m\u001b[1;33m\u001b[0m\u001b[1;33m\u001b[0m\u001b[0m\n\u001b[0;32m      4\u001b[0m \u001b[0mfiltered_df\u001b[0m \u001b[1;33m=\u001b[0m \u001b[0mteste\u001b[0m\u001b[1;33m[\u001b[0m\u001b[0mdf_mask\u001b[0m\u001b[1;33m]\u001b[0m\u001b[1;33m\u001b[0m\u001b[1;33m\u001b[0m\u001b[0m\n\u001b[0;32m      5\u001b[0m \u001b[0mfiltered_df\u001b[0m\u001b[1;33m.\u001b[0m\u001b[0mdropna\u001b[0m\u001b[1;33m(\u001b[0m\u001b[0msubset\u001b[0m\u001b[1;33m=\u001b[0m\u001b[1;33m[\u001b[0m\u001b[1;34m\"Resume EdLevel\"\u001b[0m\u001b[1;33m]\u001b[0m\u001b[1;33m,\u001b[0m \u001b[0maxis\u001b[0m\u001b[1;33m=\u001b[0m\u001b[1;36m0\u001b[0m\u001b[1;33m)\u001b[0m\u001b[1;33m.\u001b[0m\u001b[0mgroupby\u001b[0m\u001b[1;33m(\u001b[0m\u001b[0mby\u001b[0m\u001b[1;33m=\u001b[0m\u001b[1;34m\"Resume EdLevel\"\u001b[0m\u001b[1;33m)\u001b[0m\u001b[1;33m[\u001b[0m\u001b[1;34m\"Resume MainBranch\"\u001b[0m\u001b[1;33m]\u001b[0m\u001b[1;33m.\u001b[0m\u001b[0mcount\u001b[0m\u001b[1;33m(\u001b[0m\u001b[1;33m)\u001b[0m\u001b[1;33m.\u001b[0m\u001b[0msort_values\u001b[0m\u001b[1;33m(\u001b[0m\u001b[0mascending\u001b[0m\u001b[1;33m=\u001b[0m\u001b[1;32mFalse\u001b[0m\u001b[1;33m)\u001b[0m\u001b[1;33m\u001b[0m\u001b[1;33m\u001b[0m\u001b[0m\n",
      "\u001b[1;32m~\\anaconda3\\lib\\site-packages\\pandas\\core\\indexing.py\u001b[0m in \u001b[0;36m__getitem__\u001b[1;34m(self, key)\u001b[0m\n\u001b[0;32m   1760\u001b[0m                 \u001b[1;32mexcept\u001b[0m \u001b[1;33m(\u001b[0m\u001b[0mKeyError\u001b[0m\u001b[1;33m,\u001b[0m \u001b[0mIndexError\u001b[0m\u001b[1;33m,\u001b[0m \u001b[0mAttributeError\u001b[0m\u001b[1;33m)\u001b[0m\u001b[1;33m:\u001b[0m\u001b[1;33m\u001b[0m\u001b[1;33m\u001b[0m\u001b[0m\n\u001b[0;32m   1761\u001b[0m                     \u001b[1;32mpass\u001b[0m\u001b[1;33m\u001b[0m\u001b[1;33m\u001b[0m\u001b[0m\n\u001b[1;32m-> 1762\u001b[1;33m             \u001b[1;32mreturn\u001b[0m \u001b[0mself\u001b[0m\u001b[1;33m.\u001b[0m\u001b[0m_getitem_tuple\u001b[0m\u001b[1;33m(\u001b[0m\u001b[0mkey\u001b[0m\u001b[1;33m)\u001b[0m\u001b[1;33m\u001b[0m\u001b[1;33m\u001b[0m\u001b[0m\n\u001b[0m\u001b[0;32m   1763\u001b[0m         \u001b[1;32melse\u001b[0m\u001b[1;33m:\u001b[0m\u001b[1;33m\u001b[0m\u001b[1;33m\u001b[0m\u001b[0m\n\u001b[0;32m   1764\u001b[0m             \u001b[1;31m# we by definition only have the 0th axis\u001b[0m\u001b[1;33m\u001b[0m\u001b[1;33m\u001b[0m\u001b[1;33m\u001b[0m\u001b[0m\n",
      "\u001b[1;32m~\\anaconda3\\lib\\site-packages\\pandas\\core\\indexing.py\u001b[0m in \u001b[0;36m_getitem_tuple\u001b[1;34m(self, tup)\u001b[0m\n\u001b[0;32m   1287\u001b[0m                 \u001b[1;32mcontinue\u001b[0m\u001b[1;33m\u001b[0m\u001b[1;33m\u001b[0m\u001b[0m\n\u001b[0;32m   1288\u001b[0m \u001b[1;33m\u001b[0m\u001b[0m\n\u001b[1;32m-> 1289\u001b[1;33m             \u001b[0mretval\u001b[0m \u001b[1;33m=\u001b[0m \u001b[0mgetattr\u001b[0m\u001b[1;33m(\u001b[0m\u001b[0mretval\u001b[0m\u001b[1;33m,\u001b[0m \u001b[0mself\u001b[0m\u001b[1;33m.\u001b[0m\u001b[0mname\u001b[0m\u001b[1;33m)\u001b[0m\u001b[1;33m.\u001b[0m\u001b[0m_getitem_axis\u001b[0m\u001b[1;33m(\u001b[0m\u001b[0mkey\u001b[0m\u001b[1;33m,\u001b[0m \u001b[0maxis\u001b[0m\u001b[1;33m=\u001b[0m\u001b[0mi\u001b[0m\u001b[1;33m)\u001b[0m\u001b[1;33m\u001b[0m\u001b[1;33m\u001b[0m\u001b[0m\n\u001b[0m\u001b[0;32m   1290\u001b[0m \u001b[1;33m\u001b[0m\u001b[0m\n\u001b[0;32m   1291\u001b[0m         \u001b[1;32mreturn\u001b[0m \u001b[0mretval\u001b[0m\u001b[1;33m\u001b[0m\u001b[1;33m\u001b[0m\u001b[0m\n",
      "\u001b[1;32m~\\anaconda3\\lib\\site-packages\\pandas\\core\\indexing.py\u001b[0m in \u001b[0;36m_getitem_axis\u001b[1;34m(self, key, axis)\u001b[0m\n\u001b[0;32m   1952\u001b[0m                     \u001b[1;32mraise\u001b[0m \u001b[0mValueError\u001b[0m\u001b[1;33m(\u001b[0m\u001b[1;34m\"Cannot index with multidimensional key\"\u001b[0m\u001b[1;33m)\u001b[0m\u001b[1;33m\u001b[0m\u001b[1;33m\u001b[0m\u001b[0m\n\u001b[0;32m   1953\u001b[0m \u001b[1;33m\u001b[0m\u001b[0m\n\u001b[1;32m-> 1954\u001b[1;33m                 \u001b[1;32mreturn\u001b[0m \u001b[0mself\u001b[0m\u001b[1;33m.\u001b[0m\u001b[0m_getitem_iterable\u001b[0m\u001b[1;33m(\u001b[0m\u001b[0mkey\u001b[0m\u001b[1;33m,\u001b[0m \u001b[0maxis\u001b[0m\u001b[1;33m=\u001b[0m\u001b[0maxis\u001b[0m\u001b[1;33m)\u001b[0m\u001b[1;33m\u001b[0m\u001b[1;33m\u001b[0m\u001b[0m\n\u001b[0m\u001b[0;32m   1955\u001b[0m \u001b[1;33m\u001b[0m\u001b[0m\n\u001b[0;32m   1956\u001b[0m             \u001b[1;31m# nested tuple slicing\u001b[0m\u001b[1;33m\u001b[0m\u001b[1;33m\u001b[0m\u001b[1;33m\u001b[0m\u001b[0m\n",
      "\u001b[1;32m~\\anaconda3\\lib\\site-packages\\pandas\\core\\indexing.py\u001b[0m in \u001b[0;36m_getitem_iterable\u001b[1;34m(self, key, axis)\u001b[0m\n\u001b[0;32m   1593\u001b[0m         \u001b[1;32melse\u001b[0m\u001b[1;33m:\u001b[0m\u001b[1;33m\u001b[0m\u001b[1;33m\u001b[0m\u001b[0m\n\u001b[0;32m   1594\u001b[0m             \u001b[1;31m# A collection of keys\u001b[0m\u001b[1;33m\u001b[0m\u001b[1;33m\u001b[0m\u001b[1;33m\u001b[0m\u001b[0m\n\u001b[1;32m-> 1595\u001b[1;33m             \u001b[0mkeyarr\u001b[0m\u001b[1;33m,\u001b[0m \u001b[0mindexer\u001b[0m \u001b[1;33m=\u001b[0m \u001b[0mself\u001b[0m\u001b[1;33m.\u001b[0m\u001b[0m_get_listlike_indexer\u001b[0m\u001b[1;33m(\u001b[0m\u001b[0mkey\u001b[0m\u001b[1;33m,\u001b[0m \u001b[0maxis\u001b[0m\u001b[1;33m,\u001b[0m \u001b[0mraise_missing\u001b[0m\u001b[1;33m=\u001b[0m\u001b[1;32mFalse\u001b[0m\u001b[1;33m)\u001b[0m\u001b[1;33m\u001b[0m\u001b[1;33m\u001b[0m\u001b[0m\n\u001b[0m\u001b[0;32m   1596\u001b[0m             return self.obj._reindex_with_indexers(\n\u001b[0;32m   1597\u001b[0m                 \u001b[1;33m{\u001b[0m\u001b[0maxis\u001b[0m\u001b[1;33m:\u001b[0m \u001b[1;33m[\u001b[0m\u001b[0mkeyarr\u001b[0m\u001b[1;33m,\u001b[0m \u001b[0mindexer\u001b[0m\u001b[1;33m]\u001b[0m\u001b[1;33m}\u001b[0m\u001b[1;33m,\u001b[0m \u001b[0mcopy\u001b[0m\u001b[1;33m=\u001b[0m\u001b[1;32mTrue\u001b[0m\u001b[1;33m,\u001b[0m \u001b[0mallow_dups\u001b[0m\u001b[1;33m=\u001b[0m\u001b[1;32mTrue\u001b[0m\u001b[1;33m\u001b[0m\u001b[1;33m\u001b[0m\u001b[0m\n",
      "\u001b[1;32m~\\anaconda3\\lib\\site-packages\\pandas\\core\\indexing.py\u001b[0m in \u001b[0;36m_get_listlike_indexer\u001b[1;34m(self, key, axis, raise_missing)\u001b[0m\n\u001b[0;32m   1550\u001b[0m             \u001b[0mkeyarr\u001b[0m\u001b[1;33m,\u001b[0m \u001b[0mindexer\u001b[0m\u001b[1;33m,\u001b[0m \u001b[0mnew_indexer\u001b[0m \u001b[1;33m=\u001b[0m \u001b[0max\u001b[0m\u001b[1;33m.\u001b[0m\u001b[0m_reindex_non_unique\u001b[0m\u001b[1;33m(\u001b[0m\u001b[0mkeyarr\u001b[0m\u001b[1;33m)\u001b[0m\u001b[1;33m\u001b[0m\u001b[1;33m\u001b[0m\u001b[0m\n\u001b[0;32m   1551\u001b[0m \u001b[1;33m\u001b[0m\u001b[0m\n\u001b[1;32m-> 1552\u001b[1;33m         self._validate_read_indexer(\n\u001b[0m\u001b[0;32m   1553\u001b[0m             \u001b[0mkeyarr\u001b[0m\u001b[1;33m,\u001b[0m \u001b[0mindexer\u001b[0m\u001b[1;33m,\u001b[0m \u001b[0mo\u001b[0m\u001b[1;33m.\u001b[0m\u001b[0m_get_axis_number\u001b[0m\u001b[1;33m(\u001b[0m\u001b[0maxis\u001b[0m\u001b[1;33m)\u001b[0m\u001b[1;33m,\u001b[0m \u001b[0mraise_missing\u001b[0m\u001b[1;33m=\u001b[0m\u001b[0mraise_missing\u001b[0m\u001b[1;33m\u001b[0m\u001b[1;33m\u001b[0m\u001b[0m\n\u001b[0;32m   1554\u001b[0m         )\n",
      "\u001b[1;32m~\\anaconda3\\lib\\site-packages\\pandas\\core\\indexing.py\u001b[0m in \u001b[0;36m_validate_read_indexer\u001b[1;34m(self, key, indexer, axis, raise_missing)\u001b[0m\n\u001b[0;32m   1652\u001b[0m             \u001b[1;31m# just raising\u001b[0m\u001b[1;33m\u001b[0m\u001b[1;33m\u001b[0m\u001b[1;33m\u001b[0m\u001b[0m\n\u001b[0;32m   1653\u001b[0m             \u001b[1;32mif\u001b[0m \u001b[1;32mnot\u001b[0m \u001b[1;33m(\u001b[0m\u001b[0max\u001b[0m\u001b[1;33m.\u001b[0m\u001b[0mis_categorical\u001b[0m\u001b[1;33m(\u001b[0m\u001b[1;33m)\u001b[0m \u001b[1;32mor\u001b[0m \u001b[0max\u001b[0m\u001b[1;33m.\u001b[0m\u001b[0mis_interval\u001b[0m\u001b[1;33m(\u001b[0m\u001b[1;33m)\u001b[0m\u001b[1;33m)\u001b[0m\u001b[1;33m:\u001b[0m\u001b[1;33m\u001b[0m\u001b[1;33m\u001b[0m\u001b[0m\n\u001b[1;32m-> 1654\u001b[1;33m                 raise KeyError(\n\u001b[0m\u001b[0;32m   1655\u001b[0m                     \u001b[1;34m\"Passing list-likes to .loc or [] with any missing labels \"\u001b[0m\u001b[1;33m\u001b[0m\u001b[1;33m\u001b[0m\u001b[0m\n\u001b[0;32m   1656\u001b[0m                     \u001b[1;34m\"is no longer supported, see \"\u001b[0m\u001b[1;33m\u001b[0m\u001b[1;33m\u001b[0m\u001b[0m\n",
      "\u001b[1;31mKeyError\u001b[0m: 'Passing list-likes to .loc or [] with any missing labels is no longer supported, see https://pandas.pydata.org/pandas-docs/stable/user_guide/indexing.html#deprecate-loc-reindex-listlike'"
     ]
    }
   ],
   "source": [
    "questions3 = ['Resume EdLevel', 'Resume MainBranch']\n",
    "teste = df_public.loc[:,questions3]\n",
    "df_mask = teste['Resume MainBranch'] == \"Profissional\" \n",
    "filtered_df = teste[df_mask]\n",
    "filtered_df.dropna(subset=[\"Resume EdLevel\"], axis=0).groupby(by=\"Resume EdLevel\")[\"Resume MainBranch\"].count().sort_values(ascending=False)\n",
    "\n"
   ]
  },
  {
   "cell_type": "code",
   "execution_count": 37,
   "metadata": {},
   "outputs": [],
   "source": [
    "#5º pergunta\n",
    "\n",
    "#Das pessoas que trabalham profissionalmente: \n",
    "\n",
    "#c)qual o tamanho das empresas de pessoas que trabalham profissionalmente?"
   ]
  },
  {
   "cell_type": "code",
   "execution_count": 38,
   "metadata": {},
   "outputs": [
    {
     "data": {
      "text/plain": [
       "OrgSize\n",
       "20 to 99 employees                                    11709\n",
       "100 to 499 employees                                   9631\n",
       "10,000 or more employees                               6961\n",
       "2 to 9 employees                                       6081\n",
       "1,000 to 4,999 employees                               5472\n",
       "10 to 19 employees                                     5092\n",
       "Just me - I am a freelancer, sole proprietor, etc.     3573\n",
       "500 to 999 employees                                   3388\n",
       "5,000 to 9,999 employees                               1937\n",
       "I don’t know                                           1138\n",
       "Name: Resume MainBranch, dtype: int64"
      ]
     },
     "execution_count": 38,
     "metadata": {},
     "output_type": "execute_result"
    }
   ],
   "source": [
    "questions5 = ['OrgSize', 'Resume MainBranch']\n",
    "teste5 = df_public[questions5]\n",
    "df_mask = teste5['Resume MainBranch'] == \"Profissional\" \n",
    "filtered_df = teste5[df_mask]\n",
    "filtered_df.dropna(subset=[\"OrgSize\"], axis=0).groupby(by=\"OrgSize\")[\"Resume MainBranch\"].count().sort_values(ascending=False)\n"
   ]
  },
  {
   "cell_type": "code",
   "execution_count": 39,
   "metadata": {},
   "outputs": [],
   "source": [
    "#validação do total de orgsize e resume mainbranch\n",
    "#df_public.dropna(subset=[\"OrgSize\"], axis=0).groupby(by=\"OrgSize\")[\"Resume MainBranch\"].count().sort_values(ascending=False)\n",
    "#filtered_df.dropna(subset=[\"OrgSize\"], axis=0).groupby(by=\"OrgSize\")[\"Resume MainBranch\"].count()"
   ]
  },
  {
   "cell_type": "code",
   "execution_count": 40,
   "metadata": {},
   "outputs": [],
   "source": [
    "#6º pergunta\n",
    "\n",
    "#A) Média salarial das pessoas que responderam.\n",
    "#Avaliando por Monthly"
   ]
  },
  {
   "cell_type": "code",
   "execution_count": 45,
   "metadata": {},
   "outputs": [],
   "source": [
    "questions23 = ['CompTotal']\n",
    "df_public[questions23] = df_public.loc[:,questions23].apply(pd.to_numeric, args=(\"coerce\",), axis='index')\n",
    "\n",
    "questions24 = ['CompTotal','CompFreq']\n",
    "teste = df_public[questions24]\n",
    "\n",
    "df_mask = teste['CompFreq'] == \"Monthly\" \n",
    "\n",
    "filtered_df = teste[df_mask]\n",
    "\n",
    "filtro = filtered_df['CompTotal'] > 1\n",
    "\n",
    "x = filtered_df[filtro]\n",
    "\n",
    "a = x.dropna().value_counts()\n",
    "b = a[a > 50]\n",
    "c = b.to_frame().reset_index()\n",
    "\n",
    "d = ['CompTotal']\n",
    "\n",
    "media = c[d].apply(pd.Series.mean, axis='index')\n",
    "#c['CompTotal'].sort_values(ascending=False)\n",
    "#p = c['CompTotal'] == 800000000\n",
    "#pa = c[p]\n",
    "#pa\n",
    "media"
   ]
  },
  {
   "cell_type": "code",
   "execution_count": 47,
   "metadata": {},
   "outputs": [],
   "source": [
    "#6º pergunta\n",
    "\n",
    "#B) Média salarial das pessoas que responderam.\n",
    "#Avaliando por Weekly"
   ]
  },
  {
   "cell_type": "code",
   "execution_count": 48,
   "metadata": {},
   "outputs": [
    {
     "data": {
      "text/plain": [
       "CompTotal    10634.782609\n",
       "dtype: float64"
      ]
     },
     "execution_count": 48,
     "metadata": {},
     "output_type": "execute_result"
    }
   ],
   "source": [
    "questions25 = ['CompTotal']\n",
    "df_public[questions25] = df_public.loc[:,questions25].apply(pd.to_numeric, args=(\"coerce\",), axis='index')\n",
    "\n",
    "questions26 = ['CompTotal','CompFreq']\n",
    "teste = df_public[questions26]\n",
    "\n",
    "df_mask = teste['CompFreq'] == \"Weekly\" \n",
    "\n",
    "filtered_df = teste[df_mask]\n",
    "\n",
    "filtro = filtered_df['CompTotal'] > 1\n",
    "\n",
    "x = filtered_df[filtro]\n",
    "\n",
    "a = x.dropna().value_counts()\n",
    "b = a[a > 10]\n",
    "c = b.to_frame().reset_index()\n",
    "\n",
    "d = ['CompTotal']\n",
    "\n",
    "media = c[d].apply(pd.Series.mean, axis='index')\n",
    "#p = c['CompTotal'] == 40000000\n",
    "#pa = c[p]\n",
    "#pa\n",
    "#c['CompTotal'].sort_values(ascending=False)\n",
    "media"
   ]
  },
  {
   "cell_type": "code",
   "execution_count": 49,
   "metadata": {},
   "outputs": [],
   "source": [
    "#6º pergunta\n",
    "\n",
    "#c) Média salarial das pessoas que responderam.\n",
    "#Avaliando por Yearly"
   ]
  },
  {
   "cell_type": "code",
   "execution_count": 50,
   "metadata": {},
   "outputs": [
    {
     "data": {
      "text/plain": [
       "CompTotal    669454.365079\n",
       "dtype: float64"
      ]
     },
     "execution_count": 50,
     "metadata": {},
     "output_type": "execute_result"
    }
   ],
   "source": [
    "questions28 = ['CompTotal']\n",
    "df_public[questions28] = df_public.loc[:,questions28].apply(pd.to_numeric, args=(\"coerce\",), axis='index')\n",
    "\n",
    "questions29 = ['CompTotal','CompFreq']\n",
    "teste = df_public[questions29]\n",
    "\n",
    "df_mask = teste['CompFreq'] == \"Yearly\" \n",
    "\n",
    "filtered_df = teste[df_mask]\n",
    "\n",
    "filtro = filtered_df['CompTotal'] > 1\n",
    "\n",
    "x = filtered_df[filtro]\n",
    "\n",
    "a = x.dropna().value_counts()\n",
    "b = a[a > 10]\n",
    "c = b.to_frame().reset_index()\n",
    "\n",
    "d = ['CompTotal']\n",
    "\n",
    "media = c[d].apply(pd.Series.mean, axis='index')\n",
    "#p = c['CompTotal'] == 40000000\n",
    "#pa = c[p]\n",
    "#pa\n",
    "#c['CompTotal'].sort_values(ascending=False)\n",
    "media"
   ]
  },
  {
   "cell_type": "code",
   "execution_count": 51,
   "metadata": {},
   "outputs": [],
   "source": [
    "#7º pergunta\n",
    "\n",
    "#Pegando os 5 países que mais responderam o questionário, qual é o salário destas pessoas?\n"
   ]
  },
  {
   "cell_type": "code",
   "execution_count": 59,
   "metadata": {},
   "outputs": [
    {
     "data": {
      "text/plain": [
       "United States of America                                15288\n",
       "India                                                   10511\n",
       "Germany                                                  5625\n",
       "United Kingdom of Great Britain and Northern Ireland     4475\n",
       "Canada                                                   3012\n",
       "Name: Country, dtype: int64"
      ]
     },
     "execution_count": 59,
     "metadata": {},
     "output_type": "execute_result"
    }
   ],
   "source": [
    "df_public['Country'].value_counts().head()"
   ]
  },
  {
   "cell_type": "code",
   "execution_count": 50,
   "metadata": {},
   "outputs": [],
   "source": [
    "questions30 = ['Country','CompTotal', 'CompFreq']\n",
    "\n",
    "teste = df_public[questions30]\n",
    "values = ['United States of America', 'India', 'Germany', \n",
    "          'United Kingdom of Great Britain and Northern Ireland', 'Canada']\n",
    "\n",
    "filtered_df = teste[teste.Country.isin(values)]\n",
    "\n",
    "filtro = filtered_df['CompTotal'] > 1\n",
    "x = filtered_df[filtro]\n",
    "\n",
    "x.dropna().groupby(by=['Country', 'CompFreq']).mean()#.sort_values(ascending=False)"
   ]
  },
  {
   "cell_type": "code",
   "execution_count": 47,
   "metadata": {},
   "outputs": [
    {
     "ename": "AttributeError",
     "evalue": "'DataFrame' object has no attribute 'value_counts'",
     "output_type": "error",
     "traceback": [
      "\u001b[1;31m---------------------------------------------------------------------------\u001b[0m",
      "\u001b[1;31mAttributeError\u001b[0m                            Traceback (most recent call last)",
      "\u001b[1;32m<ipython-input-47-6cc04704267e>\u001b[0m in \u001b[0;36m<module>\u001b[1;34m\u001b[0m\n\u001b[0;32m      9\u001b[0m \u001b[0mx\u001b[0m \u001b[1;33m=\u001b[0m \u001b[0mfiltered_df\u001b[0m\u001b[1;33m[\u001b[0m\u001b[0mfiltro\u001b[0m\u001b[1;33m]\u001b[0m\u001b[1;33m\u001b[0m\u001b[1;33m\u001b[0m\u001b[0m\n\u001b[0;32m     10\u001b[0m \u001b[1;33m\u001b[0m\u001b[0m\n\u001b[1;32m---> 11\u001b[1;33m \u001b[0ma\u001b[0m \u001b[1;33m=\u001b[0m \u001b[0mx\u001b[0m\u001b[1;33m.\u001b[0m\u001b[0mdropna\u001b[0m\u001b[1;33m(\u001b[0m\u001b[1;33m)\u001b[0m\u001b[1;33m.\u001b[0m\u001b[0mvalue_counts\u001b[0m\u001b[1;33m(\u001b[0m\u001b[1;33m)\u001b[0m\u001b[1;33m\u001b[0m\u001b[1;33m\u001b[0m\u001b[0m\n\u001b[0m\u001b[0;32m     12\u001b[0m \u001b[0mb\u001b[0m \u001b[1;33m=\u001b[0m \u001b[0ma\u001b[0m\u001b[1;33m[\u001b[0m\u001b[0ma\u001b[0m \u001b[1;33m>\u001b[0m \u001b[1;36m50\u001b[0m\u001b[1;33m]\u001b[0m\u001b[1;33m\u001b[0m\u001b[1;33m\u001b[0m\u001b[0m\n\u001b[0;32m     13\u001b[0m \u001b[0mc\u001b[0m \u001b[1;33m=\u001b[0m \u001b[0mb\u001b[0m\u001b[1;33m.\u001b[0m\u001b[0mto_frame\u001b[0m\u001b[1;33m(\u001b[0m\u001b[1;33m)\u001b[0m\u001b[1;33m.\u001b[0m\u001b[0mreset_index\u001b[0m\u001b[1;33m(\u001b[0m\u001b[1;33m)\u001b[0m\u001b[1;33m\u001b[0m\u001b[1;33m\u001b[0m\u001b[0m\n",
      "\u001b[1;32m~\\anaconda3\\lib\\site-packages\\pandas\\core\\generic.py\u001b[0m in \u001b[0;36m__getattr__\u001b[1;34m(self, name)\u001b[0m\n\u001b[0;32m   5272\u001b[0m             \u001b[1;32mif\u001b[0m \u001b[0mself\u001b[0m\u001b[1;33m.\u001b[0m\u001b[0m_info_axis\u001b[0m\u001b[1;33m.\u001b[0m\u001b[0m_can_hold_identifiers_and_holds_name\u001b[0m\u001b[1;33m(\u001b[0m\u001b[0mname\u001b[0m\u001b[1;33m)\u001b[0m\u001b[1;33m:\u001b[0m\u001b[1;33m\u001b[0m\u001b[1;33m\u001b[0m\u001b[0m\n\u001b[0;32m   5273\u001b[0m                 \u001b[1;32mreturn\u001b[0m \u001b[0mself\u001b[0m\u001b[1;33m[\u001b[0m\u001b[0mname\u001b[0m\u001b[1;33m]\u001b[0m\u001b[1;33m\u001b[0m\u001b[1;33m\u001b[0m\u001b[0m\n\u001b[1;32m-> 5274\u001b[1;33m             \u001b[1;32mreturn\u001b[0m \u001b[0mobject\u001b[0m\u001b[1;33m.\u001b[0m\u001b[0m__getattribute__\u001b[0m\u001b[1;33m(\u001b[0m\u001b[0mself\u001b[0m\u001b[1;33m,\u001b[0m \u001b[0mname\u001b[0m\u001b[1;33m)\u001b[0m\u001b[1;33m\u001b[0m\u001b[1;33m\u001b[0m\u001b[0m\n\u001b[0m\u001b[0;32m   5275\u001b[0m \u001b[1;33m\u001b[0m\u001b[0m\n\u001b[0;32m   5276\u001b[0m     \u001b[1;32mdef\u001b[0m \u001b[0m__setattr__\u001b[0m\u001b[1;33m(\u001b[0m\u001b[0mself\u001b[0m\u001b[1;33m,\u001b[0m \u001b[0mname\u001b[0m\u001b[1;33m:\u001b[0m \u001b[0mstr\u001b[0m\u001b[1;33m,\u001b[0m \u001b[0mvalue\u001b[0m\u001b[1;33m)\u001b[0m \u001b[1;33m->\u001b[0m \u001b[1;32mNone\u001b[0m\u001b[1;33m:\u001b[0m\u001b[1;33m\u001b[0m\u001b[1;33m\u001b[0m\u001b[0m\n",
      "\u001b[1;31mAttributeError\u001b[0m: 'DataFrame' object has no attribute 'value_counts'"
     ]
    }
   ],
   "source": [
    "a = x.dropna().value_counts()\n",
    "b = a[a > 50]\n",
    "c = b.to_frame().reset_index()\n",
    "\n",
    "d = c.groupby(by='Country')['CompTotal'].mean().sort_values(ascending=False)\n",
    "e = c.groupby(by='Country')['CompTotal'].max().sort_values(ascending=False)\n",
    "f = c.groupby(by='Country')['CompTotal'].min().sort_values(ascending=False)\n",
    "\n",
    "print(d)\n",
    "print(e)\n",
    "print(f)"
   ]
  },
  {
   "cell_type": "code",
   "execution_count": 52,
   "metadata": {},
   "outputs": [
    {
     "name": "stdout",
     "output_type": "stream",
     "text": [
      "Country\n",
      "India                                                   832058.823529\n",
      "United States of America                                144571.428571\n",
      "Canada                                                   95000.000000\n",
      "United Kingdom of Great Britain and Northern Ireland     61153.846154\n",
      "Germany                                                  54000.000000\n",
      "Name: CompTotal, dtype: float64\n",
      "Country\n",
      "India                                                   2000000.0\n",
      "United States of America                                 300000.0\n",
      "Canada                                                   120000.0\n",
      "Germany                                                  100000.0\n",
      "United Kingdom of Great Britain and Northern Ireland     100000.0\n",
      "Name: CompTotal, dtype: float64\n",
      "Country\n",
      "Canada                                                  70000.0\n",
      "United States of America                                50000.0\n",
      "United Kingdom of Great Britain and Northern Ireland    30000.0\n",
      "India                                                   25000.0\n",
      "Germany                                                  3000.0\n",
      "Name: CompTotal, dtype: float64\n"
     ]
    }
   ],
   "source": [
    "questions30 = ['Country','CompTotal']\n",
    "teste = df_public[questions30]\n",
    "values = ['United States of America', 'India', 'Germany', \n",
    "          'United Kingdom of Great Britain and Northern Ireland', 'Canada']\n",
    "\n",
    "filtered_df = teste[teste.Country.isin(values)]\n",
    "\n",
    "filtro = filtered_df['CompTotal'] > 1\n",
    "x = filtered_df[filtro]\n",
    "\n",
    "a = x.dropna().value_counts()\n",
    "b = a[a > 50]\n",
    "c = b.to_frame().reset_index()\n",
    "\n",
    "d = c.groupby(by='Country')['CompTotal'].mean().sort_values(ascending=False)\n",
    "e = c.groupby(by='Country')['CompTotal'].max().sort_values(ascending=False)\n",
    "f = c.groupby(by='Country')['CompTotal'].min().sort_values(ascending=False)\n",
    "\n",
    "print(d)\n",
    "print(e)\n",
    "print(f)\n"
   ]
  },
  {
   "cell_type": "code",
   "execution_count": 53,
   "metadata": {},
   "outputs": [],
   "source": [
    "#8º pergunta\n",
    "\n",
    "#Qual a porcentagem das pessoas que trabalham com python?"
   ]
  },
  {
   "cell_type": "code",
   "execution_count": 54,
   "metadata": {},
   "outputs": [
    {
     "data": {
      "text/plain": [
       "False    51.683524\n",
       "True     48.316476\n",
       "Name: LanguageHaveWorkedWith, dtype: Float64"
      ]
     },
     "execution_count": 54,
     "metadata": {},
     "output_type": "execute_result"
    }
   ],
   "source": [
    "a = df_public['LanguageHaveWorkedWith'].str.contains('Python').dropna().value_counts()\n",
    "b = 82357\n",
    "c = a / b *100\n",
    "c"
   ]
  },
  {
   "cell_type": "code",
   "execution_count": 55,
   "metadata": {},
   "outputs": [],
   "source": [
    "#9º Sobre o python\n",
    "\n",
    "#a)Qual o nível de salário de quem trabalha com python globalmente?"
   ]
  },
  {
   "cell_type": "code",
   "execution_count": 56,
   "metadata": {},
   "outputs": [
    {
     "data": {
      "text/plain": [
       "CompTotal    398065.864571\n",
       "dtype: float64"
      ]
     },
     "execution_count": 56,
     "metadata": {},
     "output_type": "execute_result"
    }
   ],
   "source": [
    "questions9 = ['LanguageHaveWorkedWith', 'CompTotal']\n",
    "teste = df_public[questions9]\n",
    "df_mask = teste['LanguageHaveWorkedWith'].str.contains('Python') \n",
    "filtered_df = teste[df_mask]\n",
    "filtro = filtered_df['CompTotal'] > 1\n",
    "x = filtered_df[filtro]\n",
    "\n",
    "a = x.dropna().value_counts()\n",
    "b = a[a > 1]\n",
    "c = b.to_frame().reset_index()\n",
    "d = ['CompTotal']\n",
    "media = c[d].apply(pd.Series.mean, axis='index')\n",
    "\n",
    "media"
   ]
  },
  {
   "cell_type": "code",
   "execution_count": 57,
   "metadata": {},
   "outputs": [],
   "source": [
    "#9º Sobre o python\n",
    "\n",
    "#b)Para o Brasil, qual o nível salarial?"
   ]
  },
  {
   "cell_type": "code",
   "execution_count": 58,
   "metadata": {},
   "outputs": [
    {
     "data": {
      "text/plain": [
       "CompTotal    36896.15935\n",
       "dtype: float64"
      ]
     },
     "execution_count": 58,
     "metadata": {},
     "output_type": "execute_result"
    }
   ],
   "source": [
    "questions9b = ['LanguageHaveWorkedWith', 'CompTotal','Country']\n",
    "teste = df_public[questions9b]\n",
    "\n",
    "df_mask = teste['LanguageHaveWorkedWith'].str.contains('Python') \n",
    "filtered_df = teste[df_mask]\n",
    "\n",
    "df_mask2 = filtered_df['Country'] == \"Brazil\" \n",
    "filtered_df2 = filtered_df[df_mask2]\n",
    "\n",
    "filtro = filtered_df2['CompTotal'] > 1\n",
    "x = filtered_df2[filtro]\n",
    "\n",
    "a = x.dropna().value_counts()\n",
    "b = a[a > 0]\n",
    "c = b.to_frame().reset_index()\n",
    "d = ['CompTotal']\n",
    "media = c[d].apply(pd.Series.mean, axis='index')\n",
    "\n",
    "media"
   ]
  },
  {
   "cell_type": "code",
   "execution_count": 59,
   "metadata": {},
   "outputs": [],
   "source": [
    "#9º Sobre o python\n",
    "\n",
    "#c)Para os 5 países que mais tiveram participação, qual a média salarial?"
   ]
  },
  {
   "cell_type": "code",
   "execution_count": 60,
   "metadata": {},
   "outputs": [
    {
     "data": {
      "text/plain": [
       "Country\n",
       "India                                                   284143.132632\n",
       "United States of America                                136289.091292\n",
       "Canada                                                  105079.537221\n",
       "United Kingdom of Great Britain and Northern Ireland     62530.334951\n",
       "Germany                                                  49306.624726\n",
       "Name: CompTotal, dtype: float64"
      ]
     },
     "execution_count": 60,
     "metadata": {},
     "output_type": "execute_result"
    }
   ],
   "source": [
    "values = ['United States of America', 'India', 'Germany', \n",
    "          'United Kingdom of Great Britain and Northern Ireland', 'Canada']\n",
    "\n",
    "filtered_df = teste[teste.Country.isin(values)]\n",
    "\n",
    "questions9c = ['LanguageHaveWorkedWith', 'CompTotal','Country']\n",
    "teste = df_public[questions9c]\n",
    "\n",
    "df_mask = teste['LanguageHaveWorkedWith'].str.contains('Python') \n",
    "filtered_df = teste[df_mask]\n",
    "\n",
    "filtered_df2 = filtered_df[filtered_df.Country.isin(values)]\n",
    "\n",
    "filtro = filtered_df2['CompTotal'] > 1 \n",
    "filtered_df3 = filtered_df2[filtro]\n",
    "\n",
    "filtro2 = filtered_df3['CompTotal'] < 1000000\n",
    "x = filtered_df3[filtro2]\n",
    "\n",
    "#a = x.dropna().value_counts()\n",
    "#b = a[a > 0]\n",
    "#c = b.to_frame().reset_index()\n",
    "#d = ['CompTotal']\n",
    "\n",
    "media = x.groupby(by='Country')['CompTotal'].mean().sort_values(ascending=False)\n",
    "media"
   ]
  },
  {
   "cell_type": "code",
   "execution_count": 61,
   "metadata": {},
   "outputs": [],
   "source": [
    "#10º Pergunta\n",
    "\n",
    "#De todos as pessoas, Qual o sistema operacional utilizado por elas"
   ]
  },
  {
   "cell_type": "code",
   "execution_count": 62,
   "metadata": {},
   "outputs": [],
   "source": [
    "branch3 = {\n",
    "    \"MacOS\": \"MacOS\",\n",
    "    \"Windows\": \"Windows\",\n",
    "    \"Linux-based\": \"Linux-based\",\n",
    "    \"BSD\": \"BSD\",\n",
    "    \"Other (please specify):\": \"Other\",\n",
    "    \"Windows Subsystem for Linux (WSL)\": \"WSL\"\n",
    "}\n",
    "\n",
    "df_public['Resume OpSys'] = df_public['OpSys'].apply(lambda x: branch3.get(x,\"Sem resposta\")).astype(\"string\")\n",
    "df_public.drop(labels=\"OpSys\", axis=\"columns\", inplace=True)\n"
   ]
  },
  {
   "cell_type": "code",
   "execution_count": 63,
   "metadata": {},
   "outputs": [
    {
     "data": {
      "text/plain": [
       "Windows          45.25222\n",
       "Linux-based     25.273553\n",
       "MacOS           25.148911\n",
       "WSL              3.287432\n",
       "Other            0.689126\n",
       "BSD              0.174978\n",
       "Sem resposta      0.17378\n",
       "Name: Resume OpSys, dtype: Float64"
      ]
     },
     "execution_count": 63,
     "metadata": {},
     "output_type": "execute_result"
    }
   ],
   "source": [
    "questions10 = ['Resume OpSys']\n",
    "\n",
    "teste10 = df_public[questions10]\n",
    "\n",
    "df_public[\"Resume OpSys\"].dropna().value_counts(normalize=True)*100"
   ]
  },
  {
   "cell_type": "code",
   "execution_count": 64,
   "metadata": {},
   "outputs": [],
   "source": [
    "#11º Pergunta\n",
    "\n",
    "#Das pessoas que trabalham com python, qual a distribuição de sistema operacional utilizado por elas"
   ]
  },
  {
   "cell_type": "code",
   "execution_count": 65,
   "metadata": {},
   "outputs": [
    {
     "name": "stdout",
     "output_type": "stream",
     "text": [
      "Resume OpSys\n",
      "Windows         15979\n",
      "Linux-based     12922\n",
      "MacOS            8916\n",
      "WSL              1626\n",
      "Other             277\n",
      "BSD                45\n",
      "Sem resposta       27\n",
      "Name: LanguageHaveWorkedWith, dtype: int64\n",
      "Windows         40.156313\n",
      "Linux-based     32.473864\n",
      "MacOS           22.406514\n",
      "WSL              4.086248\n",
      "Other             0.69612\n",
      "BSD              0.113088\n",
      "Sem resposta     0.067853\n",
      "Name: Resume OpSys, dtype: Float64\n"
     ]
    }
   ],
   "source": [
    "questions11 = ['LanguageHaveWorkedWith', 'Resume OpSys']\n",
    "teste = df_public[questions11]\n",
    "df_mask = teste['LanguageHaveWorkedWith'].str.contains('Python') \n",
    "filtered_df = teste[df_mask]\n",
    "\n",
    "a = filtered_df.dropna(subset=[\"Resume OpSys\"], axis=0).groupby(by=\"Resume OpSys\")[\"LanguageHaveWorkedWith\"].count().sort_values(ascending=False)\n",
    "b = filtered_df[\"Resume OpSys\"].dropna().value_counts(normalize=True)*100\n",
    "\n",
    "print(a)\n",
    "print(b)"
   ]
  },
  {
   "cell_type": "code",
   "execution_count": 66,
   "metadata": {},
   "outputs": [],
   "source": [
    "#12º Pergunta\n",
    "\n",
    "#Qual a média de idade das pessoas que responderam? A pergunta 11."
   ]
  },
  {
   "cell_type": "code",
   "execution_count": 67,
   "metadata": {},
   "outputs": [],
   "source": [
    "branch4 = {\n",
    "    \"Under 18 years old\": 18,\n",
    "    \"18-24 years old\": 21,\n",
    "    \"25-34 years old\": 29.5,\n",
    "    \"35-44 years old\": 39.5,\n",
    "    \"45-54 years old\": 49.5,\n",
    "    \"55-64 years old\": 59.5,\n",
    "    \"65 years or older\": 65,\n",
    "    \"Prefer not to say\": ,\n",
    "}\n",
    "\n",
    "df_public['Resume Ages'] = df_public['Age'].apply(lambda x: branch4.get(x,0))\n",
    "df_public.drop(labels=\"Age\", axis=\"columns\", inplace=True)"
   ]
  },
  {
   "cell_type": "code",
   "execution_count": 70,
   "metadata": {},
   "outputs": [
    {
     "data": {
      "text/plain": [
       "Resume OpSys\n",
       "BSD             40.250000\n",
       "Sem resposta    35.705882\n",
       "MacOS           34.928645\n",
       "Other           33.803846\n",
       "Linux-based     33.195324\n",
       "WSL             30.672522\n",
       "Windows         30.523112\n",
       "Name: Resume Ages, dtype: float64"
      ]
     },
     "execution_count": 70,
     "metadata": {},
     "output_type": "execute_result"
    }
   ],
   "source": [
    "questions12 = ['LanguageHaveWorkedWith', 'Resume OpSys', 'Resume Ages']\n",
    "teste = df_public[questions12]\n",
    "df_mask = teste['LanguageHaveWorkedWith'].str.contains('Python') \n",
    "filtered_df = teste[df_mask]\n",
    "\n",
    "filtro = filtered_df['Resume Ages'] > 1 \n",
    "filtered_df2 = filtered_df[filtro]\n",
    "\n",
    "media = filtered_df2.groupby(by='Resume OpSys')['Resume Ages'].mean().sort_values(ascending=False)\n",
    "media"
   ]
  },
  {
   "cell_type": "code",
   "execution_count": null,
   "metadata": {},
   "outputs": [],
   "source": [
    "#13º Pergunta\n",
    "\n",
    "#E em python? Qual a média de idade?"
   ]
  },
  {
   "cell_type": "code",
   "execution_count": 80,
   "metadata": {},
   "outputs": [
    {
     "data": {
      "text/plain": [
       "32.42333931777379"
      ]
     },
     "execution_count": 80,
     "metadata": {},
     "output_type": "execute_result"
    }
   ],
   "source": [
    "questions13 = ['LanguageHaveWorkedWith', 'Resume Ages']\n",
    "teste = df_public[questions13]\n",
    "df_mask = teste['LanguageHaveWorkedWith'].str.contains('Python') \n",
    "filtered_df = teste[df_mask]\n",
    "\n",
    "filtro = filtered_df['Resume Ages'] > 1 \n",
    "filtered_df2 = filtered_df[filtro]\n",
    "\n",
    "media = filtered_df2['Resume Ages'].mean()\n",
    "media\n",
    "\n"
   ]
  },
  {
   "cell_type": "code",
   "execution_count": null,
   "metadata": {},
   "outputs": [],
   "source": []
  }
 ],
 "metadata": {
  "kernelspec": {
   "display_name": "Python 3",
   "language": "python",
   "name": "python3"
  },
  "language_info": {
   "codemirror_mode": {
    "name": "ipython",
    "version": 3
   },
   "file_extension": ".py",
   "mimetype": "text/x-python",
   "name": "python",
   "nbconvert_exporter": "python",
   "pygments_lexer": "ipython3",
   "version": "3.8.3"
  }
 },
 "nbformat": 4,
 "nbformat_minor": 5
}
