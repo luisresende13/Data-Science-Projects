{
 "cells": [
  {
   "cell_type": "code",
   "execution_count": 1,
   "metadata": {},
   "outputs": [],
   "source": [
    "import numpy as np"
   ]
  },
  {
   "cell_type": "code",
   "execution_count": 3,
   "metadata": {},
   "outputs": [],
   "source": [
    "def lei_dos_gases(P=None, V=None, n=None, R=8.3144621, T=None):\n",
    "    \n",
    "    if T==None: T = P*V/(n*R); print('T =', T, 'K'); return T\n",
    "    if n==None: n = P*V/(R*T); print('n =', n, 'mols'); return n\n",
    "    if P==None: P = (n*R*T)/V; print('P =', P, 'Pa'); return P\n",
    "    if V==None: V = (n*R*T)/P; print('V =', V, 'm3'); return V\n",
    "    "
   ]
  },
  {
   "cell_type": "code",
   "execution_count": 4,
   "metadata": {},
   "outputs": [],
   "source": [
    "def variação_de_energia_térmica(n, T1, T2, Cv=None, Cp=None):\n",
    "        \n",
    "    if Cv!=None: dE = n * Cv * (T2-T1)  # Pressão constante\n",
    "    if Cp!=None: dE = n * Cp * (T2-T1)  # Qualquer processo \n",
    "        \n",
    "    print('Var. Eterm =', dE, 'J'); return dE"
   ]
  },
  {
   "cell_type": "code",
   "execution_count": 6,
   "metadata": {},
   "outputs": [],
   "source": [
    "\n",
    "R=8.3144621\n",
    "Cv=5/2*R"
   ]
  },
  {
   "cell_type": "code",
   "execution_count": 12,
   "metadata": {},
   "outputs": [],
   "source": [
    "gama2 = 5/2*R\n",
    "gama1 = 7/2*R"
   ]
  },
  {
   "cell_type": "code",
   "execution_count": 38,
   "metadata": {},
   "outputs": [],
   "source": [
    "def atm_to_Pa(P_atm):\n",
    "    \n",
    "    P_Pa = P_atm * 1.01325e5 ; return P_Pa\n",
    "def Pa_to_atm(P_Pa):\n",
    "    \n",
    "    P_atm = P_Pa / 1.01325e5 ; return P_atm"
   ]
  },
  {
   "cell_type": "markdown",
   "metadata": {},
   "source": [
    "# Questão Tmin e Tmax"
   ]
  },
  {
   "cell_type": "code",
   "execution_count": 25,
   "metadata": {},
   "outputs": [
    {
     "name": "stdout",
     "output_type": "stream",
     "text": [
      "T = 99.39864672565356 K\n",
      "T = 198.79729345130713 K\n",
      "T = 198.79729345130713 K\n"
     ]
    }
   ],
   "source": [
    "n = 0.121 # mol\n",
    "\n",
    "P_i = [100, 200, 100] # Pa\n",
    "V_i = [1,1,2] # m3\n",
    "\n",
    "T_i = [lei_dos_gases(P=p, V=v, n=n) for p, v in zip(P_i, V_i)]"
   ]
  },
  {
   "cell_type": "code",
   "execution_count": 26,
   "metadata": {},
   "outputs": [
    {
     "data": {
      "text/plain": [
       "[99.39864672565356, 198.79729345130713, 198.79729345130713]"
      ]
     },
     "execution_count": 26,
     "metadata": {},
     "output_type": "execute_result"
    }
   ],
   "source": [
    "T_i"
   ]
  },
  {
   "cell_type": "markdown",
   "metadata": {},
   "source": [
    "# Questão da Adiabática"
   ]
  },
  {
   "cell_type": "code",
   "execution_count": 40,
   "metadata": {},
   "outputs": [
    {
     "name": "stdout",
     "output_type": "stream",
     "text": [
      "V = 0.02240165954404145 m3\n",
      "P = 156998.0769230769 Pa\n"
     ]
    }
   ],
   "source": [
    "n = 1 # mol\n",
    "Cv = gama2\n",
    "\n",
    "P1 = atm_to_Pa(1) # Pa\n",
    "T1 = 273 # K\n",
    "V1 = lei_dos_gases(P=P1, n=n, T=T1)\n",
    "\n",
    "T2 = 150+273 # K\n",
    "V2 = V1\n",
    "P2 = lei_dos_gases(T=T2, V=V2, n=n)\n",
    "\n",
    "P3 = P1\n",
    "#V3 = "
   ]
  },
  {
   "cell_type": "code",
   "execution_count": 41,
   "metadata": {},
   "outputs": [
    {
     "data": {
      "text/plain": [
       "[101325.0,\n",
       " 273,\n",
       " 0.02240165954404145,\n",
       " 423,\n",
       " 0.02240165954404145,\n",
       " 156998.0769230769,\n",
       " 101325.0]"
      ]
     },
     "execution_count": 41,
     "metadata": {},
     "output_type": "execute_result"
    }
   ],
   "source": [
    "[P1,T1,V1,T2,V2,P2,P3]"
   ]
  },
  {
   "cell_type": "code",
   "execution_count": 32,
   "metadata": {},
   "outputs": [
    {
     "name": "stdout",
     "output_type": "stream",
     "text": [
      "\n"
     ]
    }
   ],
   "source": [
    "print()"
   ]
  },
  {
   "cell_type": "code",
   "execution_count": null,
   "metadata": {},
   "outputs": [],
   "source": [
    "V1 = lei_dos_gases"
   ]
  },
  {
   "cell_type": "code",
   "execution_count": null,
   "metadata": {},
   "outputs": [],
   "source": [
    "Q31 = m*Cv*(T3-T1) - P1(V3-V1)"
   ]
  },
  {
   "cell_type": "code",
   "execution_count": null,
   "metadata": {},
   "outputs": [],
   "source": []
  },
  {
   "cell_type": "markdown",
   "metadata": {},
   "source": [
    "# Questão do triangulo TxV"
   ]
  },
  {
   "cell_type": "code",
   "execution_count": 14,
   "metadata": {},
   "outputs": [
    {
     "data": {
      "text/plain": [
       "-0.5939285558849041"
      ]
     },
     "execution_count": 14,
     "metadata": {},
     "output_type": "execute_result"
    }
   ],
   "source": [
    "Cv = gama1\n",
    "\n",
    "n =  (np.log(1/5) - 20*R) / (4*Cv + 20*R); n"
   ]
  },
  {
   "cell_type": "code",
   "execution_count": 21,
   "metadata": {},
   "outputs": [],
   "source": [
    "n_i = []\n",
    "for i in range(1, 10):\n",
    "    n_i.append([i, (np.log(1/5) - (4*i)*R) / (4*Cv + 4*i*R)])"
   ]
  },
  {
   "cell_type": "code",
   "execution_count": 16,
   "metadata": {},
   "outputs": [],
   "source": [
    "import pandas as pd"
   ]
  },
  {
   "cell_type": "code",
   "execution_count": 22,
   "metadata": {},
   "outputs": [
    {
     "data": {
      "text/html": [
       "<div>\n",
       "<style scoped>\n",
       "    .dataframe tbody tr th:only-of-type {\n",
       "        vertical-align: middle;\n",
       "    }\n",
       "\n",
       "    .dataframe tbody tr th {\n",
       "        vertical-align: top;\n",
       "    }\n",
       "\n",
       "    .dataframe thead th {\n",
       "        text-align: right;\n",
       "    }\n",
       "</style>\n",
       "<table border=\"1\" class=\"dataframe\">\n",
       "  <thead>\n",
       "    <tr style=\"text-align: right;\">\n",
       "      <th></th>\n",
       "      <th>i</th>\n",
       "      <th>n</th>\n",
       "    </tr>\n",
       "  </thead>\n",
       "  <tbody>\n",
       "    <tr>\n",
       "      <th>0</th>\n",
       "      <td>1</td>\n",
       "      <td>-0.232976</td>\n",
       "    </tr>\n",
       "    <tr>\n",
       "      <th>1</th>\n",
       "      <td>2</td>\n",
       "      <td>-0.372435</td>\n",
       "    </tr>\n",
       "    <tr>\n",
       "      <th>2</th>\n",
       "      <td>3</td>\n",
       "      <td>-0.468983</td>\n",
       "    </tr>\n",
       "    <tr>\n",
       "      <th>3</th>\n",
       "      <td>4</td>\n",
       "      <td>-0.539786</td>\n",
       "    </tr>\n",
       "    <tr>\n",
       "      <th>4</th>\n",
       "      <td>5</td>\n",
       "      <td>-0.593929</td>\n",
       "    </tr>\n",
       "    <tr>\n",
       "      <th>5</th>\n",
       "      <td>6</td>\n",
       "      <td>-0.636673</td>\n",
       "    </tr>\n",
       "    <tr>\n",
       "      <th>6</th>\n",
       "      <td>7</td>\n",
       "      <td>-0.671275</td>\n",
       "    </tr>\n",
       "    <tr>\n",
       "      <th>7</th>\n",
       "      <td>8</td>\n",
       "      <td>-0.699860</td>\n",
       "    </tr>\n",
       "    <tr>\n",
       "      <th>8</th>\n",
       "      <td>9</td>\n",
       "      <td>-0.723871</td>\n",
       "    </tr>\n",
       "  </tbody>\n",
       "</table>\n",
       "</div>"
      ],
      "text/plain": [
       "   i         n\n",
       "0  1 -0.232976\n",
       "1  2 -0.372435\n",
       "2  3 -0.468983\n",
       "3  4 -0.539786\n",
       "4  5 -0.593929\n",
       "5  6 -0.636673\n",
       "6  7 -0.671275\n",
       "7  8 -0.699860\n",
       "8  9 -0.723871"
      ]
     },
     "execution_count": 22,
     "metadata": {},
     "output_type": "execute_result"
    }
   ],
   "source": [
    "\n",
    "pd.DataFrame(n_i, columns=['i', 'n'])"
   ]
  },
  {
   "cell_type": "code",
   "execution_count": null,
   "metadata": {},
   "outputs": [],
   "source": []
  }
 ],
 "metadata": {
  "kernelspec": {
   "display_name": "Python 3",
   "language": "python",
   "name": "python3"
  },
  "language_info": {
   "codemirror_mode": {
    "name": "ipython",
    "version": 3
   },
   "file_extension": ".py",
   "mimetype": "text/x-python",
   "name": "python",
   "nbconvert_exporter": "python",
   "pygments_lexer": "ipython3",
   "version": "3.8.3"
  }
 },
 "nbformat": 4,
 "nbformat_minor": 4
}
