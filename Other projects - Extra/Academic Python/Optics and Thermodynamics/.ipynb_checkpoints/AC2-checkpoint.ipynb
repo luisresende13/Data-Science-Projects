{
 "cells": [
  {
   "cell_type": "code",
   "execution_count": 83,
   "metadata": {},
   "outputs": [],
   "source": [
    "import numpy as np\n",
    "import pandas as pd"
   ]
  },
  {
   "cell_type": "markdown",
   "metadata": {},
   "source": [
    "# Condução Iglu"
   ]
  },
  {
   "cell_type": "code",
   "execution_count": 96,
   "metadata": {},
   "outputs": [
    {
     "name": "stdout",
     "output_type": "stream",
     "text": [
      "Massa de madeira: m = 9 Kg\n"
     ]
    }
   ],
   "source": [
    "k = 2.5 # W/m.K\n",
    "L = 0.9 # m\n",
    "dT = 34 # K\n",
    "dt = 7200 # s\n",
    "d = 5 # m\n",
    "A = d**2 * 5\n",
    "\n",
    "Q = k * A * dT * dt / L; Q\n",
    "c = 9440e3 # J/Km\n",
    "m = Q/c; print('Massa de madeira: m =', round(m), 'Kg')"
   ]
  },
  {
   "cell_type": "markdown",
   "metadata": {},
   "source": [
    "# Férro no Tanque de Nitrogênio"
   ]
  },
  {
   "cell_type": "code",
   "execution_count": 1,
   "metadata": {},
   "outputs": [],
   "source": [
    "def circle_area (R=None, D=None):\n",
    "    \n",
    "    if D==None: D=R*2\n",
    "    return np.pi*(D/2)**2"
   ]
  },
  {
   "cell_type": "code",
   "execution_count": 246,
   "metadata": {},
   "outputs": [],
   "source": [
    "def lei_dos_gases(P=None, V=None, n=None, R=8.3144621, T=None):\n",
    "    \n",
    "    if T==None: T = P*V/(n*R); print('T =', T, 'K'); return T\n",
    "    if n==None: n = P*V/(R*T); print('n =', n, 'mols'); return n\n",
    "    if P==None: P = (n*R*T)/V; print('P =', P, 'Pa'); return P\n",
    "    if V==None: V = (n*R*T)/P; print('V =', V, 'm3'); return V\n",
    "    \n",
    "def atm_to_Pa(P_atm):\n",
    "    \n",
    "    P_Pa = P_atm * 1.01325e5 ; return P_Pa\n",
    "def Pa_to_atm(P_Pa):\n",
    "    \n",
    "    P_atm = P_Pa / 1.01325e5 ; return P_atm\n",
    "\n",
    "def massa_molar(M, n=None, m=None):\n",
    "    \n",
    "    if m==None: m = n * M; return m\n",
    "    if n==None: n = m / M; return n"
   ]
  },
  {
   "cell_type": "code",
   "execution_count": 316,
   "metadata": {},
   "outputs": [],
   "source": [
    "Vi = 1.5e-3  # m3\n",
    "Pi = atm_to_Pa(1)  # atm\n",
    "Ti = -196+273 # K\n",
    "\n",
    "m_Fe = 0.118  # Kg\n",
    "T_Fe = 273+20  # K\n",
    "c_Fe = 449  # J/Kg.K\n",
    "\n",
    "Vl = 0.5e-3  # m3\n",
    "p_l_N2 = 810  #Kg/m3\n",
    "M_N2 = 24e-3  #Kg/mol\n",
    "Cv_N2 = 20.8  # J/mol.K\n",
    "c_N2 = 0.25 * 4.184 * 1000 # J/Kg.K \n",
    "Le_N2 = 199e3 # J/Kg\n",
    "\n",
    "R = 8.3144621   # J/mol.K"
   ]
  },
  {
   "cell_type": "code",
   "execution_count": 314,
   "metadata": {},
   "outputs": [
    {
     "data": {
      "text/plain": [
       "(1046.0, 449)"
      ]
     },
     "execution_count": 314,
     "metadata": {},
     "output_type": "execute_result"
    }
   ],
   "source": [
    "c_N2, c_Fe"
   ]
  },
  {
   "cell_type": "markdown",
   "metadata": {},
   "source": [
    "### Transferência de Massa"
   ]
  },
  {
   "cell_type": "code",
   "execution_count": 319,
   "metadata": {},
   "outputs": [
    {
     "name": "stdout",
     "output_type": "stream",
     "text": [
      "m_l = 0.405 Kg\n",
      "n = 0.23740124287338282 mols\n",
      "m_g = 0.0057 Kg\n"
     ]
    }
   ],
   "source": [
    "m_N2_l = Vl * p_l_N2; print('m_l =', m_N2_l, 'Kg')\n",
    "n_N2 = lei_dos_gases(V=Vi, P=Pi, T=Ti)\n",
    "m_N2_g = massa_molar(n=n_N2, M=M_N2); print('m_g =', round(m_N2_g,5), 'Kg')"
   ]
  },
  {
   "cell_type": "code",
   "execution_count": 320,
   "metadata": {},
   "outputs": [
    {
     "name": "stdout",
     "output_type": "stream",
     "text": [
      "Q_eb_N2 = 80595.0 J\n",
      "Q_Fe_max = -11444.112 J\n",
      "dm = 0.0575 Kg\n",
      "dn = 2.396 mols\n"
     ]
    }
   ],
   "source": [
    "Q_eb = Le_N2 * m_N2_l; print('Q_eb_N2 =', Q_eb, 'J')\n",
    "\n",
    "Q_Fe_max = m_Fe * c_Fe * (Ti - T_Fe); print('Q_Fe_max =', Q_Fe_max, 'J')\n",
    "dm = - Q_Fe_max/Le_N2; print('dm =', round(dm, 4), 'Kg')\n",
    "dn = massa_molar(M=M_N2, m=dm); print('dn =', round(dn, 3), 'mols')"
   ]
  },
  {
   "cell_type": "code",
   "execution_count": 321,
   "metadata": {},
   "outputs": [
    {
     "name": "stdout",
     "output_type": "stream",
     "text": [
      "n_g_f = 2.63357 mols\n",
      "m_g_f = 0.06320573033147375 Kg\n",
      "Pi = 101325.0 Pa\n",
      "P = 1124032.4166521425 Pa\n",
      "P_f = 11.093337445370269 atm\n"
     ]
    }
   ],
   "source": [
    "n_N2_f = n_N2 + dn; print('n_g_f =', round(n_N2_f, 5), 'mols')   # \n",
    "m_f = m_N2_g + dm; print('m_g_f =', m_f, 'Kg')\n",
    "\n",
    "Tf = Ti\n",
    "print('Pi =', Pi, 'Pa'); Pf = lei_dos_gases(V=Vi, T=Ti, n=n_N2_f); print('P_f =', Pa_to_atm(Pf), 'atm')"
   ]
  },
  {
   "cell_type": "code",
   "execution_count": 322,
   "metadata": {},
   "outputs": [
    {
     "data": {
      "text/plain": [
       "11.093337445370269"
      ]
     },
     "execution_count": 322,
     "metadata": {},
     "output_type": "execute_result"
    }
   ],
   "source": [
    "Pa_to_atm(Pi* n_N2_f / n_N2)"
   ]
  },
  {
   "cell_type": "markdown",
   "metadata": {},
   "source": [
    "### Testando alternativas"
   ]
  },
  {
   "cell_type": "code",
   "execution_count": 350,
   "metadata": {},
   "outputs": [],
   "source": [
    "from IPython.display import clear_output as clear"
   ]
  },
  {
   "cell_type": "code",
   "execution_count": 358,
   "metadata": {},
   "outputs": [
    {
     "name": "stdout",
     "output_type": "stream",
     "text": [
      "T = 40.95250885833272 K\n"
     ]
    }
   ],
   "source": [
    "df = []\n",
    "for n in np.linspace(n_N2, n_N2_f, 30):\n",
    "    row = []\n",
    "    for pi in [9.3, 12.3, 7.6, 14.9, 5.9]:\n",
    "    \n",
    "        row.append(lei_dos_gases(V=Vi, P=atm_to_Pa(pi), n=n))\n",
    "        clear(wait=True)\n",
    "    df.append(row)\n"
   ]
  },
  {
   "cell_type": "code",
   "execution_count": 361,
   "metadata": {},
   "outputs": [],
   "source": [
    "df = pd.DataFrame(df, columns=[letter for letter in 'ABCDE'], index = np.linspace(n_N2, n_N2_f, 30))"
   ]
  },
  {
   "cell_type": "code",
   "execution_count": 373,
   "metadata": {},
   "outputs": [
    {
     "data": {
      "text/plain": [
       "[<matplotlib.lines.Line2D at 0x1a5992afca0>,\n",
       " <matplotlib.lines.Line2D at 0x1a5992afd90>,\n",
       " <matplotlib.lines.Line2D at 0x1a5992afe50>,\n",
       " <matplotlib.lines.Line2D at 0x1a5992aff10>,\n",
       " <matplotlib.lines.Line2D at 0x1a5992affd0>]"
      ]
     },
     "execution_count": 373,
     "metadata": {},
     "output_type": "execute_result"
    },
    {
     "data": {
      "image/png": "[encoded data removed]",
      "text/plain": [
       "<Figure size 432x288 with 1 Axes>"
      ]
     },
     "metadata": {
      "needs_background": "light"
     },
     "output_type": "display_data"
    }
   ],
   "source": [
    "plt.plot(df)"
   ]
  },
  {
   "cell_type": "markdown",
   "metadata": {},
   "source": [
    "### Sem transferência de Massa"
   ]
  },
  {
   "cell_type": "code",
   "execution_count": 347,
   "metadata": {},
   "outputs": [
    {
     "name": "stdout",
     "output_type": "stream",
     "text": [
      "c_N2 = 1046.0 J/Kg.K\n",
      "c_Fe = 449 J/Kg.K\n",
      "\n",
      "m_N2 = 0.405 Kg\n",
      "m_Fe = 0.118 Kg\n",
      "\n",
      "T inicial N2: Ti_N2 = 77 K\n",
      "T inicial Fe: Ti_Fe = 293 K\n",
      "T final: Tf = 101.0113803261353 K\n"
     ]
    }
   ],
   "source": [
    "print('c_N2 =', c_N2, 'J/Kg.K')\n",
    "print('c_Fe =', c_Fe, 'J/Kg.K')\n",
    "print()\n",
    "print('m_N2 =', m_N2_l, 'Kg')\n",
    "print('m_Fe =', m_Fe, 'Kg')\n",
    "\n",
    "Tf = (m_Fe*c_Fe*T_Fe + m_N2_l*c_N2*Ti) / (m_Fe*c_Fe + m_N2_l*c_N2);\n",
    "print()\n",
    "print('T inicial N2: Ti_N2 =', Ti, 'K')\n",
    "print('T inicial Fe: Ti_Fe =', T_Fe, 'K')\n",
    "print('T final: Tf =', Tf, 'K')"
   ]
  },
  {
   "cell_type": "code",
   "execution_count": 348,
   "metadata": {},
   "outputs": [
    {
     "name": "stdout",
     "output_type": "stream",
     "text": [
      "P = 132921.79365643713 Pa\n",
      "P_f = 1.3118361081316272 atm\n"
     ]
    }
   ],
   "source": [
    "Pf = lei_dos_gases(V=Vi, T=Tf, n=n_N2); print('P_f =', Pa_to_atm(Pf), 'atm')"
   ]
  },
  {
   "cell_type": "code",
   "execution_count": 266,
   "metadata": {},
   "outputs": [
    {
     "data": {
      "text/plain": [
       "132921.79365643713"
      ]
     },
     "execution_count": 266,
     "metadata": {},
     "output_type": "execute_result"
    }
   ],
   "source": [
    "Pf = Pi * Tf / Ti; Pf"
   ]
  },
  {
   "cell_type": "code",
   "execution_count": 269,
   "metadata": {},
   "outputs": [
    {
     "name": "stdout",
     "output_type": "stream",
     "text": [
      "P = 132921.79365643713 Pa\n",
      "P = 1.3118361081316272 atm\n"
     ]
    }
   ],
   "source": [
    "Pf = lei_dos_gases(T=Tf, V=Vi, n=n_N2); print('P =', Pa_to_atm(Pf), 'atm')"
   ]
  },
  {
   "cell_type": "markdown",
   "metadata": {},
   "source": [
    "# Dois Balões de Helio"
   ]
  },
  {
   "cell_type": "code",
   "execution_count": 34,
   "metadata": {},
   "outputs": [],
   "source": [
    "def sphere_volume (R):\n",
    "    V = (4/3) * np.pi * R **3; print('V =',V, 'm3')\n",
    "    return V"
   ]
  },
  {
   "cell_type": "code",
   "execution_count": 46,
   "metadata": {},
   "outputs": [],
   "source": [
    "def sphere_diam (V):\n",
    "    D = 2 * (3 * V / (4*np.pi))**(1/3); print('Df:', D, 'm'); return D"
   ]
  },
  {
   "cell_type": "code",
   "execution_count": 84,
   "metadata": {},
   "outputs": [
    {
     "name": "stdout",
     "output_type": "stream",
     "text": [
      "n = 0.45766364356454864 mols\n",
      "V = 0.004188790204786391 m3\n",
      "\n",
      "Esfera A\n",
      "V = 0.0072605696882964135 m3\n",
      "dV = 0.003071779483510022 m3\n",
      "Df: 0.24024665998860886 m\n",
      "\n",
      "Esfera B\n",
      "Vf = 0.005822798699281703 m3\n",
      "dV = 0.001634008494495312 m3\n",
      "Df: 0.22320866569589184 m\n",
      "T = 232.5728827468774 K\n"
     ]
    }
   ],
   "source": [
    "gama = 1.67 # adim\n",
    "Ti = 273 + 17  # K\n",
    "Di = 0.2 # m\n",
    "Pi = 2.6 * 101325 # Pa\n",
    "Pf = 1.5 * 101325# Pa\n",
    "\n",
    "n = lei_dos_gases(P=Pi, V=Vi, T=Ti)\n",
    "Vi = sphere_volume(R=Di/2)\n",
    "\n",
    "print('\\nEsfera A')\n",
    "Tf=Ti\n",
    "Vf = lei_dos_gases(T=Tf, P=Pf, n=n)\n",
    "dV = Vf-Vi; print('dV =', dV, 'm3')\n",
    "Df = sphere_diam(Vf)\n",
    "print('\\nEsfera B')\n",
    "Vf = Vi * (Pi/Pf)**(1/gama); print('Vf =', Vf, 'm3')\n",
    "dV = Vf-Vi; print('dV =', dV, 'm3')\n",
    "Df = sphere_diam(Vf)\n",
    "Tf = lei_dos_gases(P=Pf, V=Vf, n=n)\n"
   ]
  },
  {
   "cell_type": "markdown",
   "metadata": {},
   "source": [
    "# Diagrama PV 1"
   ]
  },
  {
   "cell_type": "markdown",
   "metadata": {},
   "source": [
    "O diagrama de pV mostrado é para 7,50 mols de um gás diatômico ideal (ɣ = 7/5) levado através de um ciclo a-b-c. Qual é o calor trocado com o meio nas transformações ab, bc e ca? "
   ]
  },
  {
   "cell_type": "code",
   "execution_count": 375,
   "metadata": {},
   "outputs": [],
   "source": [
    "def variação_de_energia_térmica(n, T1, T2, Cv=None, Cp=None):\n",
    "        \n",
    "    if Cp==None: dE = n * Cv * (T2-T1)  # Pressão constante\n",
    "    if Cv==None: dE = n * Cp * (T2-T1)  # Qualquer processo \n",
    "        \n",
    "    print('Var. Eterm =', dE, 'J'); return dE"
   ]
  },
  {
   "cell_type": "code",
   "execution_count": 376,
   "metadata": {},
   "outputs": [
    {
     "name": "stdout",
     "output_type": "stream",
     "text": [
      "gama = 1.4 \n",
      "Cv = 29.100617350000004 \n",
      "Cp = 20.786155250000004\n"
     ]
    }
   ],
   "source": [
    "R = 8.3144621 # J/mol.K\n",
    "\n",
    "n = 7.5 # mols\n",
    "gama = 7/5\n",
    "Cv = gama*R / (gama-1)  # J/mol.K\n",
    "Cp = Cv/gama\n",
    "\n",
    "print('gama =', gama,'\\nCv =', Cv, '\\nCp =', Cp)\n",
    "\n",
    "Pa = 3e4; Va = 0.2\n",
    "Pb = 5e4; Vb = 0.6\n",
    "Pc = 3e4; Vc = 0.6\n",
    "P = [Pa, Pb, Pc]; V = [Va, Vb, Vc]"
   ]
  },
  {
   "cell_type": "code",
   "execution_count": 380,
   "metadata": {},
   "outputs": [
    {
     "data": {
      "text/plain": [
       "29.10061735"
      ]
     },
     "execution_count": 380,
     "metadata": {},
     "output_type": "execute_result"
    }
   ],
   "source": [
    "7/2*R"
   ]
  },
  {
   "cell_type": "code",
   "execution_count": 377,
   "metadata": {},
   "outputs": [
    {
     "name": "stdout",
     "output_type": "stream",
     "text": [
      "T = 96.21789003043264 K\n",
      "T = 481.0894501521632 K\n",
      "T = 288.6536700912979 K\n",
      "Var. Eterm = 84000.00000000001 J\n",
      "Var. Eterm = -42000.00000000001 J\n",
      "Var. Eterm = -42000.0 J\n",
      "W = 15999.999999999998 J\n",
      "W = 0 J\n",
      "W = -11999.999999999998 J\n",
      "Q = 68000.00000000001 J\n",
      "Q = -42000.00000000001 J\n",
      "Q = -30000.0 J\n"
     ]
    },
    {
     "data": {
      "text/html": [
       "<div>\n",
       "<style scoped>\n",
       "    .dataframe tbody tr th:only-of-type {\n",
       "        vertical-align: middle;\n",
       "    }\n",
       "\n",
       "    .dataframe tbody tr th {\n",
       "        vertical-align: top;\n",
       "    }\n",
       "\n",
       "    .dataframe thead th {\n",
       "        text-align: right;\n",
       "    }\n",
       "</style>\n",
       "<table border=\"1\" class=\"dataframe\">\n",
       "  <thead>\n",
       "    <tr style=\"text-align: right;\">\n",
       "      <th></th>\n",
       "      <th>T (K)</th>\n",
       "      <th>d_Eterm (J)</th>\n",
       "      <th>W (J)</th>\n",
       "      <th>Q (J)</th>\n",
       "    </tr>\n",
       "  </thead>\n",
       "  <tbody>\n",
       "    <tr>\n",
       "      <th>A</th>\n",
       "      <td>96.22</td>\n",
       "      <td>84000.0</td>\n",
       "      <td>16000.0</td>\n",
       "      <td>68000.0</td>\n",
       "    </tr>\n",
       "    <tr>\n",
       "      <th>B</th>\n",
       "      <td>481.09</td>\n",
       "      <td>-42000.0</td>\n",
       "      <td>0.0</td>\n",
       "      <td>-42000.0</td>\n",
       "    </tr>\n",
       "    <tr>\n",
       "      <th>C</th>\n",
       "      <td>288.65</td>\n",
       "      <td>-42000.0</td>\n",
       "      <td>-12000.0</td>\n",
       "      <td>-30000.0</td>\n",
       "    </tr>\n",
       "  </tbody>\n",
       "</table>\n",
       "</div>"
      ],
      "text/plain": [
       "    T (K)  d_Eterm (J)    W (J)    Q (J)\n",
       "A   96.22      84000.0  16000.0  68000.0\n",
       "B  481.09     -42000.0      0.0 -42000.0\n",
       "C  288.65     -42000.0 -12000.0 -30000.0"
      ]
     },
     "execution_count": 377,
     "metadata": {},
     "output_type": "execute_result"
    }
   ],
   "source": [
    "Ti = [lei_dos_gases(V=vi, P=pi, n=n) for vi, pi in zip(V, P)]; \n",
    "Ta, Tb, Tc = Ti\n",
    "\n",
    "dE_ab = variação_de_energia_térmica(n=n, T1=Ta, T2=Tb, Cv=Cv)\n",
    "dE_bc = variação_de_energia_térmica(n=n, T1=Tb, T2=Tc, Cv=Cv)\n",
    "dE_ca = variação_de_energia_térmica(n=n, T1=Tc, T2=Ta, Cv=Cv)\n",
    "dE_i = [dE_ab, dE_bc, dE_ca]\n",
    "\n",
    "Wab = (Vb-Va) * ( Pa + (Pb-Pa)/2 )\n",
    "Wbc = 0\n",
    "Wca = - Pa * (Vc-Va)\n",
    "W_i = [Wab, Wbc, Wca]\n",
    "\n",
    "Q_i = [(dE - W) for dE, W in zip( dE_i, W_i )]; \n",
    "Qab, Qbc, Qca = Q_i;\n",
    "\n",
    "[print('W =', w, 'J') for w in W_i]\n",
    "[print('Q =', q, 'J') for q in Q_i]\n",
    "\n",
    "Res = pd.DataFrame({'T (K)':Ti, 'd_Eterm (J)':dE_i, 'W (J)':W_i, 'Q (J)':Q_i}, index=['A', 'B', 'C'])\n",
    "Res.round(2)"
   ]
  },
  {
   "cell_type": "code",
   "execution_count": 383,
   "metadata": {},
   "outputs": [
    {
     "name": "stdout",
     "output_type": "stream",
     "text": [
      "dT = 384.87156012173057\n",
      "n = 7.5\n",
      "Cv = 20.78615525\n",
      "dE = 60000.00000000001\n"
     ]
    }
   ],
   "source": [
    "Cv = 5/2*R\n",
    "T1=Ta; T2=Tb\n",
    "dT = (T2-T1); print('dT =', dT)\n",
    "print('n =', n)\n",
    "print('Cv =',Cv)\n",
    "dE = n * Cv * dT; print('dE =', dE)"
   ]
  },
  {
   "cell_type": "code",
   "execution_count": 378,
   "metadata": {},
   "outputs": [
    {
     "data": {
      "text/plain": [
       "384.87156012173057"
      ]
     },
     "execution_count": 378,
     "metadata": {},
     "output_type": "execute_result"
    }
   ],
   "source": [
    "Tb-Ta"
   ]
  },
  {
   "cell_type": "code",
   "execution_count": 124,
   "metadata": {},
   "outputs": [
    {
     "data": {
      "text/plain": [
       "84000.00000000001"
      ]
     },
     "execution_count": 124,
     "metadata": {},
     "output_type": "execute_result"
    }
   ],
   "source": [
    "n * Cv * dT"
   ]
  },
  {
   "cell_type": "code",
   "execution_count": null,
   "metadata": {},
   "outputs": [],
   "source": []
  },
  {
   "cell_type": "code",
   "execution_count": null,
   "metadata": {},
   "outputs": [],
   "source": [
    "T"
   ]
  },
  {
   "cell_type": "code",
   "execution_count": 118,
   "metadata": {},
   "outputs": [],
   "source": [
    "P[1]/Ti[1], P[2]/Ti[2]\n",
    "\n",
    "V[2]/Ti[2], V[0]/Ti[0]\n",
    "\n",
    "V[1]*P[1]/Ti[1], V[0]*P[0]/Ti[0]"
   ]
  },
  {
   "cell_type": "markdown",
   "metadata": {},
   "source": [
    "# Diagrama PV 2"
   ]
  },
  {
   "cell_type": "code",
   "execution_count": 125,
   "metadata": {},
   "outputs": [],
   "source": [
    "import matplotlib.pyplot as plt"
   ]
  },
  {
   "cell_type": "code",
   "execution_count": 310,
   "metadata": {},
   "outputs": [],
   "source": [
    "gama = 1.67\n",
    "gama2 = 1.4"
   ]
  },
  {
   "cell_type": "code",
   "execution_count": 311,
   "metadata": {},
   "outputs": [
    {
     "data": {
      "text/plain": [
       "(0.0, 50000.0)"
      ]
     },
     "execution_count": 311,
     "metadata": {},
     "output_type": "execute_result"
    },
    {
     "data": {
      "image/png": "[encoded data removed]",
      "text/plain": [
       "<Figure size 432x288 with 1 Axes>"
      ]
     },
     "metadata": {
      "needs_background": "light"
     },
     "output_type": "display_data"
    }
   ],
   "source": [
    "Pi = 5e4\n",
    "Vi = 0.2\n",
    "Vf = np.linspace(0.2, 3)\n",
    "\n",
    "Pf = Vi / Vf * Pi\n",
    "\n",
    "Pf_ad = Vi**gama / Vf**gama * Pi\n",
    "Pf_ad2 = Vi**gama2 / Vf**gama2 * Pi\n",
    "\n",
    "plt.plot(Vf, Pf_ad2); plt.plot(Vf, Pf_ad)\n",
    "plt.ylim(0, 0.5e5)"
   ]
  },
  {
   "cell_type": "code",
   "execution_count": 162,
   "metadata": {},
   "outputs": [
    {
     "data": {
      "image/png": "[encoded data removed]",
      "text/plain": [
       "<Figure size 432x288 with 1 Axes>"
      ]
     },
     "metadata": {
      "needs_background": "light"
     },
     "output_type": "display_data"
    }
   ],
   "source": [
    "gama = np.linspace(-5, 5)\n",
    "def g_gama(gama): g = gama/(1-gama); return g\n",
    "\n",
    "g = g_gama(gama)\n",
    "plt.plot(g, gama)\n",
    "plt.grid()\n",
    "plt.yticks(list(range(-5, 5, 1)))\n",
    "#plt.xlim(-5, 5)\n",
    "plt.show()"
   ]
  },
  {
   "cell_type": "code",
   "execution_count": 136,
   "metadata": {},
   "outputs": [],
   "source": [
    "c1 = g_gama(1.67)\n",
    "c2 = g_gama(1.4)"
   ]
  },
  {
   "cell_type": "code",
   "execution_count": 141,
   "metadata": {},
   "outputs": [
    {
     "data": {
      "text/plain": [
       "2.0103722837433686"
      ]
     },
     "execution_count": 141,
     "metadata": {},
     "output_type": "execute_result"
    }
   ],
   "source": [
    "p = 2**c1/2**c2; p"
   ]
  },
  {
   "cell_type": "code",
   "execution_count": null,
   "metadata": {},
   "outputs": [],
   "source": [
    "Pi"
   ]
  }
 ],
 "metadata": {
  "kernelspec": {
   "display_name": "Python 3",
   "language": "python",
   "name": "python3"
  },
  "language_info": {
   "codemirror_mode": {
    "name": "ipython",
    "version": 3
   },
   "file_extension": ".py",
   "mimetype": "text/x-python",
   "name": "python",
   "nbconvert_exporter": "python",
   "pygments_lexer": "ipython3",
   "version": "3.8.3"
  }
 },
 "nbformat": 4,
 "nbformat_minor": 4
}
