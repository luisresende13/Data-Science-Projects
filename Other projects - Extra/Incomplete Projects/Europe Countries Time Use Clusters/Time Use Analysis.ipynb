{
 "cells": [
  {
   "cell_type": "markdown",
   "metadata": {},
   "source": [
    "# 1. Importing Scientific Computing Libraries."
   ]
  },
  {
   "cell_type": "code",
   "execution_count": 2,
   "metadata": {},
   "outputs": [],
   "source": [
    "import pandas\n",
    "import numpy\n",
    "from sklearn.cluster import KMeans\n",
    "import folium\n",
    "from geopy.geocoders import Nominatim \n"
   ]
  },
  {
   "cell_type": "markdown",
   "metadata": {},
   "source": [
    "# 2. Data cleaning"
   ]
  },
  {
   "cell_type": "code",
   "execution_count": 77,
   "metadata": {},
   "outputs": [],
   "source": [
    "\n",
    "\n",
    "timeuse=pandas.read_csv('\\\\Users\\luisr\\Desktop\\Repository\\IBM_courses\\Sample Data Frames\\\\timeuse.csv')\n",
    "\n",
    "timeuse.replace(':', numpy.nan, inplace=True)\n",
    "\n",
    "timeuse[timeuse.columns.values[3:]] = timeuse[timeuse.columns.values[3:]].astype('datetime64')\n",
    "\n",
    "for column in timeuse.columns.values[3:]:\n",
    "    timeuse[column] = [i.hour+i.minute/60 if str(i)!='NaT' else numpy.nan for i in timeuse[column]] \n",
    "\n",
    "#for column in timeuse.columns.values[3:]:\n",
    " #   timeuse[column] = [i.time() if str(i)!='NaT' else numpy.nan for i in timeuse[column]]\n",
    "\n",
    "timeuse['GEO/ACL00'].replace('Germany (including  former GDR from 1991)', 'Germany', inplace=True)\n",
    "\n"
   ]
  },
  {
   "cell_type": "markdown",
   "metadata": {},
   "source": [
    "## 2.1. Counting Missing Vallues"
   ]
  },
  {
   "cell_type": "code",
   "execution_count": 78,
   "metadata": {},
   "outputs": [
    {
     "name": "stdout",
     "output_type": "stream",
     "text": [
      "N° of Missing Values:\n",
      "\n",
      "Males France - 5\n",
      "Males Finland - 1\n",
      "Males Norway - 3\n",
      "Females France - 5\n",
      "Females Finland - 1\n",
      "Females Norway - 3\n"
     ]
    }
   ],
   "source": [
    "        print('N° of Missing Values:\\r\\n')\n",
    "    \n",
    "         \n",
    "        for ind in timeuse.index:\n",
    "            if timeuse.isnull().loc[ind].sum()!=0: \n",
    "                \n",
    "                print(timeuse['SEX'][ind], timeuse['GEO/ACL00'][ind]+' -', str(timeuse.isnull().loc[ind].sum()))\n",
    "                #print(timeuse.isnull().loc[ind].value_counts())\n",
    "\n",
    "                "
   ]
  },
  {
   "cell_type": "markdown",
   "metadata": {},
   "source": [
    "## 2.2. Replacing Missing Values by Mean."
   ]
  },
  {
   "cell_type": "code",
   "execution_count": 79,
   "metadata": {},
   "outputs": [],
   "source": [
    "\n",
    "        timeuse_males = timeuse[timeuse['SEX']=='Males']\n",
    "        timeuse_females = timeuse[timeuse['SEX']=='Females']\n",
    "\n",
    "        sex_means = timeuse.groupby(['SEX']).mean()\n"
   ]
  },
  {
   "cell_type": "code",
   "execution_count": 80,
   "metadata": {},
   "outputs": [
    {
     "name": "stderr",
     "output_type": "stream",
     "text": [
      "<ipython-input-80-f29266d47997>:3: SettingWithCopyWarning: \n",
      "A value is trying to be set on a copy of a slice from a DataFrame.\n",
      "Try using .loc[row_indexer,col_indexer] = value instead\n",
      "\n",
      "See the caveats in the documentation: https://pandas.pydata.org/pandas-docs/stable/user_guide/indexing.html#returning-a-view-versus-a-copy\n",
      "  timeuse_males[col] = timeuse_males[col].replace(numpy.nan, sex_means[col]['Males'])\n",
      "<ipython-input-80-f29266d47997>:4: SettingWithCopyWarning: \n",
      "A value is trying to be set on a copy of a slice from a DataFrame.\n",
      "Try using .loc[row_indexer,col_indexer] = value instead\n",
      "\n",
      "See the caveats in the documentation: https://pandas.pydata.org/pandas-docs/stable/user_guide/indexing.html#returning-a-view-versus-a-copy\n",
      "  timeuse_females[col] = timeuse_females[col].replace(numpy.nan, sex_means[col]['Females'])\n"
     ]
    }
   ],
   "source": [
    "\n",
    "\n",
    "        for col in timeuse.columns[3:]:\n",
    "            timeuse_males[col] = timeuse_males[col].replace(numpy.nan, sex_means[col]['Males'])\n",
    "            timeuse_females[col] = timeuse_females[col].replace(numpy.nan, sex_means[col]['Females'])\n",
    "          \n",
    "    \n",
    "        timeuse = pandas.concat([timeuse_males, timeuse_females])\n",
    "    \n",
    "    "
   ]
  },
  {
   "cell_type": "markdown",
   "metadata": {},
   "source": [
    "# 2.3. Saving or Loading processed data."
   ]
  },
  {
   "cell_type": "code",
   "execution_count": 15,
   "metadata": {},
   "outputs": [],
   "source": [
    "#timeuse.to_csv('\\\\Users\\luisr\\Desktop\\Repository\\IBM_courses\\Sample Data Frames\\\\timeuse_cleaned.csv')\n"
   ]
  },
  {
   "cell_type": "code",
   "execution_count": 4,
   "metadata": {},
   "outputs": [],
   "source": [
    "timeuse = pandas.read_csv('\\\\Users\\luisr\\Desktop\\Repository\\IBM_courses\\Sample Data Frames\\\\timeuse_cleaned.csv').drop(['Unnamed: 0'], axis=1)\n"
   ]
  },
  {
   "cell_type": "markdown",
   "metadata": {},
   "source": [
    "# 3. Correlation Analysis"
   ]
  },
  {
   "cell_type": "code",
   "execution_count": 85,
   "metadata": {},
   "outputs": [],
   "source": [
    "\n",
    "timeuse_corr = timeuse.corr()\n",
    "\n"
   ]
  },
  {
   "cell_type": "code",
   "execution_count": 148,
   "metadata": {},
   "outputs": [],
   "source": [
    "#timeuse_corr['Dish washing'].sort_values(ascending=False)"
   ]
  },
  {
   "cell_type": "markdown",
   "metadata": {},
   "source": [
    "## 3.1. Defining dependet variables."
   ]
  },
  {
   "cell_type": "markdown",
   "metadata": {},
   "source": [
    "These are the top correlation variables. Here on you can run, visualize results, change variables, run again and watch for change in scores."
   ]
  },
  {
   "cell_type": "code",
   "execution_count": 86,
   "metadata": {},
   "outputs": [],
   "source": [
    "# positive relationship variables\n",
    "var_pos=['Food management except dish washing','Household and family care','Laundry','Cleaning dwelling','Handicraft and producing textiles and other care for textiles',\n",
    "         'Childcare, except teaching, reading and talking','Ironing']\n",
    " \n",
    "# Positive and negative relationship variables\n",
    "var_neg=['Food management except dish washing','Household and family care','Laundry','Cleaning dwelling','Handicraft and producing textiles and other care for textiles',\n",
    "         'Childcare, except teaching, reading and talking','Ironing', 'Employment, related activities and travel as part of/during main and second job',\n",
    "         'Main and second job and related travel', 'Sports and outdoor activities except walking and hiking', 'Construction and repairs ']\n"
   ]
  },
  {
   "cell_type": "markdown",
   "metadata": {},
   "source": [
    "### Importing Modules to Perform Regression"
   ]
  },
  {
   "cell_type": "code",
   "execution_count": 91,
   "metadata": {},
   "outputs": [],
   "source": [
    "# Modeling libraries\n",
    "\n",
    "from sklearn.linear_model import Ridge\n",
    "from sklearn.preprocessing import StandardScaler,PolynomialFeatures\n",
    "from sklearn.model_selection import train_test_split\n",
    "from sklearn.model_selection import cross_val_score\n",
    "\n",
    "# Cientific computing library\n",
    "import numpy\n"
   ]
  },
  {
   "cell_type": "markdown",
   "metadata": {},
   "source": [
    "## Fitting and Scoring for each test size valaue."
   ]
  },
  {
   "cell_type": "code",
   "execution_count": 104,
   "metadata": {},
   "outputs": [],
   "source": [
    "# Inputs\n",
    "\n",
    "tst_sizes = numpy.linspace(0.1, 0.9, 9)\n",
    "\n",
    "x=timeuse[var_pos]\n",
    "y=timeuse['Dish washing']\n",
    "\n",
    "scrs = []\n",
    "\n",
    "\n",
    "# Looping throgh training group sizes, modelling and appendind R2 score in list. \n",
    "\n",
    "for size in tst_sizes:\n",
    "    \n",
    "    x_train, x_test, y_train, y_test = train_test_split(x, y, test_size=size, random_state=1)       # Splitting samples x and y in train and test groups.\n",
    "\n",
    "    pf = PolynomialFeatures(degree=2, include_bias=False)\n",
    "\n",
    "    x_train_d2 = pf.fit_transform(x_train)\n",
    "    x_test_d2 = pf.fit_transform(x_test)\n",
    "\n",
    "    ridge_obj = Ridge(alpha=0.1)\n",
    "    ridge_obj.fit(x_train_d2, y_train)\n",
    "\n",
    "    scrs.append(ridge_obj.score(x_test_d2, y_test))\n",
    "    "
   ]
  },
  {
   "cell_type": "markdown",
   "metadata": {},
   "source": [
    "Maximum and Minimum Scores for specific set of variables:"
   ]
  },
  {
   "cell_type": "code",
   "execution_count": 105,
   "metadata": {},
   "outputs": [
    {
     "data": {
      "text/html": [
       "<div>\n",
       "<style scoped>\n",
       "    .dataframe tbody tr th:only-of-type {\n",
       "        vertical-align: middle;\n",
       "    }\n",
       "\n",
       "    .dataframe tbody tr th {\n",
       "        vertical-align: top;\n",
       "    }\n",
       "\n",
       "    .dataframe thead th {\n",
       "        text-align: right;\n",
       "    }\n",
       "</style>\n",
       "<table border=\"1\" class=\"dataframe\">\n",
       "  <thead>\n",
       "    <tr style=\"text-align: right;\">\n",
       "      <th></th>\n",
       "      <th>Score</th>\n",
       "      <th>Test size</th>\n",
       "    </tr>\n",
       "  </thead>\n",
       "  <tbody>\n",
       "    <tr>\n",
       "      <th>1</th>\n",
       "      <td>0.980131</td>\n",
       "      <td>0.2</td>\n",
       "    </tr>\n",
       "  </tbody>\n",
       "</table>\n",
       "</div>"
      ],
      "text/plain": [
       "      Score  Test size\n",
       "1  0.980131        0.2"
      ]
     },
     "execution_count": 105,
     "metadata": {},
     "output_type": "execute_result"
    }
   ],
   "source": [
    "scrs_frame = pandas.DataFrame({'Score':scrs, 'Test size':tst_sizes})\n",
    "scr_max = scrs_frame['Score'].max()\n",
    "scr_min = scrs_frame['Score'].min()\n",
    "tst_size_max = scrs_frame[scrs_frame['Score']==scr_max]\n",
    "tst_size_min = scrs_frame[scrs_frame['Score']==scr_min]\n",
    "tst_size_max"
   ]
  },
  {
   "cell_type": "code",
   "execution_count": 106,
   "metadata": {},
   "outputs": [
    {
     "data": {
      "text/plain": [
       "<matplotlib.axes._subplots.AxesSubplot at 0x1cc460109d0>"
      ]
     },
     "execution_count": 106,
     "metadata": {},
     "output_type": "execute_result"
    },
    {
     "data": {
      "image/png": "[encoded data removed]",
      "text/plain": [
       "<Figure size 432x288 with 1 Axes>"
      ]
     },
     "metadata": {
      "needs_background": "light"
     },
     "output_type": "display_data"
    }
   ],
   "source": [
    "from matplotlib import pyplot as plt\n",
    "import seaborn\n",
    "\n",
    "seaborn.distplot(scrs)\n",
    "\n"
   ]
  },
  {
   "cell_type": "code",
   "execution_count": 69,
   "metadata": {},
   "outputs": [
    {
     "data": {
      "text/plain": [
       "<matplotlib.axes._subplots.AxesSubplot at 0x1d5e7b9a460>"
      ]
     },
     "execution_count": 69,
     "metadata": {},
     "output_type": "execute_result"
    },
    {
     "data": {
      "image/png": "[encoded data removed]",
      "text/plain": [
       "<Figure size 432x288 with 1 Axes>"
      ]
     },
     "metadata": {
      "needs_background": "light"
     },
     "output_type": "display_data"
    }
   ],
   "source": [
    "%matplotlib inline\n",
    "\n",
    "import matplotlib\n",
    "import seaborn\n",
    "\n",
    "\n",
    "#ax = seaborn.distplot(scrs_frame['Score'], hist=False, color='g', label='Scores')\n",
    "\n",
    "count, bins = numpy.histogram(scrs_frame['Score'].dropna(axis=0))\n",
    "\n",
    "scrs_frame['Score'].plot(kind='hist', xticks=bins)\n",
    "\n",
    "plt.xlim()\n"
   ]
  },
  {
   "cell_type": "markdown",
   "metadata": {},
   "source": [
    "###  Visualizing R2 Scores for different test sizes."
   ]
  },
  {
   "cell_type": "code",
   "execution_count": 41,
   "metadata": {},
   "outputs": [
    {
     "data": {
      "text/plain": [
       "(0.0, 1.2)"
      ]
     },
     "execution_count": 41,
     "metadata": {},
     "output_type": "execute_result"
    },
    {
     "data": {
      "image/png": "[encoded data removed]",
      "text/plain": [
       "<Figure size 432x288 with 1 Axes>"
      ]
     },
     "metadata": {
      "needs_background": "light"
     },
     "output_type": "display_data"
    }
   ],
   "source": [
    "import matplotlib.pyplot as plt\n",
    "\n",
    "plt.plot(tst_sizes, scrs)\n",
    "\n",
    "plt.ylabel('R²')\n",
    "plt.xlabel('Test Size')\n",
    "\n",
    "plt.ylim(0,1.2)\n"
   ]
  },
  {
   "cell_type": "markdown",
   "metadata": {},
   "source": [
    "### Next Steps:"
   ]
  },
  {
   "cell_type": "markdown",
   "metadata": {},
   "source": [
    "1. Grid search"
   ]
  },
  {
   "cell_type": "markdown",
   "metadata": {},
   "source": [
    "2. Visualization/review videos"
   ]
  },
  {
   "cell_type": "markdown",
   "metadata": {},
   "source": [
    "  3.1 Looping through different activities to model "
   ]
  },
  {
   "cell_type": "markdown",
   "metadata": {},
   "source": [
    "3.2 Grouping and labeling activities by predicting itself"
   ]
  },
  {
   "cell_type": "markdown",
   "metadata": {},
   "source": [
    "4. Clustering for each new group of activities. Initial dataframe for clustering will have columns countries, activities, score(0-5)"
   ]
  },
  {
   "cell_type": "markdown",
   "metadata": {},
   "source": [
    "5. Running Rstudio ggplot2 on different time uses (for activities categprozed by country or for 0-5 new label categories ."
   ]
  },
  {
   "cell_type": "markdown",
   "metadata": {},
   "source": [
    "6. Cloropleth map for different activities using actual mean values"
   ]
  },
  {
   "cell_type": "markdown",
   "metadata": {},
   "source": [
    "### Fitting with kmeans"
   ]
  },
  {
   "cell_type": "code",
   "execution_count": 90,
   "metadata": {},
   "outputs": [],
   "source": [
    "timeuse = pandas.read_csv('\\\\Users\\luisr\\Desktop\\Repository\\IBM_courses\\Sample Data Frames\\\\timeuse_cleaned.csv').drop(['Unnamed: 0'], axis=1)\n",
    "\n",
    "    \n",
    "for index in timeuse.index:        \n",
    "    timeuse.iloc[index, 3:] = [round(i/float(timeuse.iloc[index, 3:].sum()), 10) for i in timeuse.iloc[index, 3:]]\n",
    "    \n",
    "    "
   ]
  },
  {
   "cell_type": "code",
   "execution_count": 91,
   "metadata": {},
   "outputs": [],
   "source": [
    "sample = pandas.merge(timeuse.iloc[:14], timeuse.iloc[14:, :], on='GEO/ACL00', suffixes=(' Males', ' Females'))\n",
    "\n",
    "sample = sample.drop(['SEX Males', 'SEX Females', 'Total Males', 'Total Females'], axis=1)\n",
    " \n",
    "        "
   ]
  },
  {
   "cell_type": "code",
   "execution_count": 92,
   "metadata": {},
   "outputs": [],
   "source": [
    "    \n",
    "    \n",
    "    for i in range(1,11):\n",
    "        kmeans = KMeans(n_clusters=i, random_state=0).fit(sample.iloc[:, 1:])\n",
    "        \n",
    "        sample[str(i)+' labels'] = kmeans.labels_\n",
    "\n",
    "    \n",
    "    \n",
    "    \n",
    "    \n",
    "    "
   ]
  },
  {
   "cell_type": "markdown",
   "metadata": {},
   "source": [
    "### Visualizing results"
   ]
  },
  {
   "cell_type": "code",
   "execution_count": null,
   "metadata": {},
   "outputs": [],
   "source": [
    "\n",
    "geolocator = Nominatim(user_agent='Luis')\n",
    "\n",
    "coords=[]\n",
    "\n",
    "for country in timeuse['GEO/ACL00'][:14]:\n",
    "    \n",
    "    try: \n",
    "        location = geolocator.geocode(country)\n",
    "        coords.append((country, location.latitude, location.longitude))\n",
    "        \n",
    "    except:\n",
    "        try:\n",
    "            location = geolocator.geocode(country)\n",
    "            coords.append((country, location.latitude, location.longitude))\n",
    "            \n",
    "        except:\n",
    "            try:\n",
    "                location = geolocator.geocode(country)\n",
    "                coords.append((country, location.latitude, location.longitude))\n",
    "\n",
    "            except:\n",
    "                fail.append((country, numpy.nan))\n",
    "                fail.append((country, numpy.nan))\n",
    "\n",
    "\n",
    "\n",
    "coords = pandas.DataFrame(coords, columns=['Countries','Latitude', 'Longitude'])\n",
    "\n"
   ]
  },
  {
   "cell_type": "code",
   "execution_count": 100,
   "metadata": {},
   "outputs": [],
   "source": [
    "\n",
    "sample['Latitude'] = coords['Latitude'].copy()\n",
    "sample['Longitude'] = coords['Longitude'].copy()\n",
    "    \n",
    "    \n",
    "    "
   ]
  },
  {
   "cell_type": "code",
   "execution_count": 35,
   "metadata": {},
   "outputs": [],
   "source": [
    "#sample.to_csv('\\\\Users\\luisr\\Desktop\\Repository\\IBM_courses\\Sample Data Frames\\\\timeuse_sample_for_kmeans.csv')\n",
    "sample = pandas.read_csv('\\\\Users\\luisr\\Desktop\\Repository\\IBM_courses\\Sample Data Frames\\\\timeuse_sample_for_kmeans.csv').drop('Unnamed: 0', axis=1)"
   ]
  },
  {
   "cell_type": "markdown",
   "metadata": {},
   "source": [
    "#### Plotting Map"
   ]
  },
  {
   "cell_type": "code",
   "execution_count": 55,
   "metadata": {},
   "outputs": [
    {
     "name": "stdin",
     "output_type": "stream",
     "text": [
      "Insira o número de grupos. Aperte enter para sair. 5\n",
      "Aperte enter para gerar o mapa. \n"
     ]
    },
    {
     "data": {
      "text/html": [
       "<div style=\"width:100%;\"><div style=\"position:relative;width:100%;height:0;padding-bottom:60%;\"><span style=\"color:#565656\">Make this Notebook Trusted to load map: File -> Trust Notebook</span><iframe src=\"about:blank\" style=\"position:absolute;width:100%;height:100%;left:0;top:0;border:none !important;\" data-html=PCFET0NUWVBFIGh0bWw+CjxoZWFkPiAgICAKICAgIDxtZXRhIGh0dHAtZXF1aXY9ImNvbnRlbnQtdHlwZSIgY29udGVudD0idGV4dC9odG1sOyBjaGFyc2V0PVVURi04IiAvPgogICAgCiAgICAgICAgPHNjcmlwdD4KICAgICAgICAgICAgTF9OT19UT1VDSCA9IGZhbHNlOwogICAgICAgICAgICBMX0RJU0FCTEVfM0QgPSBmYWxzZTsKICAgICAgICA8L3NjcmlwdD4KICAgIAogICAgPHNjcmlwdCBzcmM9Imh0dHBzOi8vY2RuLmpzZGVsaXZyLm5ldC9ucG0vbGVhZmxldEAxLjYuMC9kaXN0L2xlYWZsZXQuanMiPjwvc2NyaXB0PgogICAgPHNjcmlwdCBzcmM9Imh0dHBzOi8vY29kZS5qcXVlcnkuY29tL2pxdWVyeS0xLjEyLjQubWluLmpzIj48L3NjcmlwdD4KICAgIDxzY3JpcHQgc3JjPSJodHRwczovL21heGNkbi5ib290c3RyYXBjZG4uY29tL2Jvb3RzdHJhcC8zLjIuMC9qcy9ib290c3RyYXAubWluLmpzIj48L3NjcmlwdD4KICAgIDxzY3JpcHQgc3JjPSJodHRwczovL2NkbmpzLmNsb3VkZmxhcmUuY29tL2FqYXgvbGlicy9MZWFmbGV0LmF3ZXNvbWUtbWFya2Vycy8yLjAuMi9sZWFmbGV0LmF3ZXNvbWUtbWFya2Vycy5qcyI+PC9zY3JpcHQ+CiAgICA8bGluayByZWw9InN0eWxlc2hlZXQiIGhyZWY9Imh0dHBzOi8vY2RuLmpzZGVsaXZyLm5ldC9ucG0vbGVhZmxldEAxLjYuMC9kaXN0L2xlYWZsZXQuY3NzIi8+CiAgICA8bGluayByZWw9InN0eWxlc2hlZXQiIGhyZWY9Imh0dHBzOi8vbWF4Y2RuLmJvb3RzdHJhcGNkbi5jb20vYm9vdHN0cmFwLzMuMi4wL2Nzcy9ib290c3RyYXAubWluLmNzcyIvPgogICAgPGxpbmsgcmVsPSJzdHlsZXNoZWV0IiBocmVmPSJodHRwczovL21heGNkbi5ib290c3RyYXBjZG4uY29tL2Jvb3RzdHJhcC8zLjIuMC9jc3MvYm9vdHN0cmFwLXRoZW1lLm1pbi5jc3MiLz4KICAgIDxsaW5rIHJlbD0ic3R5bGVzaGVldCIgaHJlZj0iaHR0cHM6Ly9tYXhjZG4uYm9vdHN0cmFwY2RuLmNvbS9mb250LWF3ZXNvbWUvNC42LjMvY3NzL2ZvbnQtYXdlc29tZS5taW4uY3NzIi8+CiAgICA8bGluayByZWw9InN0eWxlc2hlZXQiIGhyZWY9Imh0dHBzOi8vY2RuanMuY2xvdWRmbGFyZS5jb20vYWpheC9saWJzL0xlYWZsZXQuYXdlc29tZS1tYXJrZXJzLzIuMC4yL2xlYWZsZXQuYXdlc29tZS1tYXJrZXJzLmNzcyIvPgogICAgPGxpbmsgcmVsPSJzdHlsZXNoZWV0IiBocmVmPSJodHRwczovL3Jhd2Nkbi5naXRoYWNrLmNvbS9weXRob24tdmlzdWFsaXphdGlvbi9mb2xpdW0vbWFzdGVyL2ZvbGl1bS90ZW1wbGF0ZXMvbGVhZmxldC5hd2Vzb21lLnJvdGF0ZS5jc3MiLz4KICAgIDxzdHlsZT5odG1sLCBib2R5IHt3aWR0aDogMTAwJTtoZWlnaHQ6IDEwMCU7bWFyZ2luOiAwO3BhZGRpbmc6IDA7fTwvc3R5bGU+CiAgICA8c3R5bGU+I21hcCB7cG9zaXRpb246YWJzb2x1dGU7dG9wOjA7Ym90dG9tOjA7cmlnaHQ6MDtsZWZ0OjA7fTwvc3R5bGU+CiAgICAKICAgICAgICAgICAgPG1ldGEgbmFtZT0idmlld3BvcnQiIGNvbnRlbnQ9IndpZHRoPWRldmljZS13aWR0aCwKICAgICAgICAgICAgICAgIGluaXRpYWwtc2NhbGU9MS4wLCBtYXhpbXVtLXNjYWxlPTEuMCwgdXNlci1zY2FsYWJsZT1ubyIgLz4KICAgICAgICAgICAgPHN0eWxlPgogICAgICAgICAgICAgICAgI21hcF81MGVmYzkzNWM2OWY0YjVkYjgwMTNjNDY0NmI2YzRiMyB7CiAgICAgICAgICAgICAgICAgICAgcG9zaXRpb246IHJlbGF0aXZlOwogICAgICAgICAgICAgICAgICAgIHdpZHRoOiAxMDAuMCU7CiAgICAgICAgICAgICAgICAgICAgaGVpZ2h0OiAxMDAuMCU7CiAgICAgICAgICAgICAgICAgICAgbGVmdDogMC4wJTsKICAgICAgICAgICAgICAgICAgICB0b3A6IDAuMCU7CiAgICAgICAgICAgICAgICB9CiAgICAgICAgICAgIDwvc3R5bGU+CiAgICAgICAgCjwvaGVhZD4KPGJvZHk+ICAgIAogICAgCiAgICAgICAgICAgIDxkaXYgY2xhc3M9ImZvbGl1bS1tYXAiIGlkPSJtYXBfNTBlZmM5MzVjNjlmNGI1ZGI4MDEzYzQ2NDZiNmM0YjMiID48L2Rpdj4KICAgICAgICAKPC9ib2R5Pgo8c2NyaXB0PiAgICAKICAgIAogICAgICAgICAgICB2YXIgbWFwXzUwZWZjOTM1YzY5ZjRiNWRiODAxM2M0NjQ2YjZjNGIzID0gTC5tYXAoCiAgICAgICAgICAgICAgICAibWFwXzUwZWZjOTM1YzY5ZjRiNWRiODAxM2M0NjQ2YjZjNGIzIiwKICAgICAgICAgICAgICAgIHsKICAgICAgICAgICAgICAgICAgICBjZW50ZXI6IFswLCAwXSwKICAgICAgICAgICAgICAgICAgICBjcnM6IEwuQ1JTLkVQU0czODU3LAogICAgICAgICAgICAgICAgICAgIHpvb206IDEsCiAgICAgICAgICAgICAgICAgICAgem9vbUNvbnRyb2w6IHRydWUsCiAgICAgICAgICAgICAgICAgICAgcHJlZmVyQ2FudmFzOiBmYWxzZSwKICAgICAgICAgICAgICAgICAgICBsb2NhdGl0aW9uOiBbXSwKICAgICAgICAgICAgICAgIH0KICAgICAgICAgICAgKTsKCiAgICAgICAgICAgIAoKICAgICAgICAKICAgIAogICAgICAgICAgICB2YXIgdGlsZV9sYXllcl8yZGU4MDQyZTZlNWE0ZWQ3YTg0ZTgwYjFiMzU3MWZmYyA9IEwudGlsZUxheWVyKAogICAgICAgICAgICAgICAgImh0dHBzOi8ve3N9LnRpbGUub3BlbnN0cmVldG1hcC5vcmcve3p9L3t4fS97eX0ucG5nIiwKICAgICAgICAgICAgICAgIHsiYXR0cmlidXRpb24iOiAiRGF0YSBieSBcdTAwMjZjb3B5OyBcdTAwM2NhIGhyZWY9XCJodHRwOi8vb3BlbnN0cmVldG1hcC5vcmdcIlx1MDAzZU9wZW5TdHJlZXRNYXBcdTAwM2MvYVx1MDAzZSwgdW5kZXIgXHUwMDNjYSBocmVmPVwiaHR0cDovL3d3dy5vcGVuc3RyZWV0bWFwLm9yZy9jb3B5cmlnaHRcIlx1MDAzZU9EYkxcdTAwM2MvYVx1MDAzZS4iLCAiZGV0ZWN0UmV0aW5hIjogZmFsc2UsICJtYXhOYXRpdmVab29tIjogMTgsICJtYXhab29tIjogMTgsICJtaW5ab29tIjogMCwgIm5vV3JhcCI6IGZhbHNlLCAib3BhY2l0eSI6IDEsICJzdWJkb21haW5zIjogImFiYyIsICJ0bXMiOiBmYWxzZX0KICAgICAgICAgICAgKS5hZGRUbyhtYXBfNTBlZmM5MzVjNjlmNGI1ZGI4MDEzYzQ2NDZiNmM0YjMpOwogICAgICAgIAogICAgCiAgICAgICAgICAgIHZhciBjaXJjbGVfbWFya2VyXzgzMjQ3NjY0OWUzZjQ2Y2ZhYzQ3MGU1NWNlMzhhNTZiID0gTC5jaXJjbGVNYXJrZXIoCiAgICAgICAgICAgICAgICBbNTAuNjQwMjgwOSwgNC42NjY3MTQ0OTk5OTk5OTldLAogICAgICAgICAgICAgICAgeyJidWJibGluZ01vdXNlRXZlbnRzIjogdHJ1ZSwgImNvbG9yIjogInJlZCIsICJkYXNoQXJyYXkiOiBudWxsLCAiZGFzaE9mZnNldCI6IG51bGwsICJmaWxsIjogdHJ1ZSwgImZpbGxDb2xvciI6ICJyZWQiLCAiZmlsbE9wYWNpdHkiOiAwLjIsICJmaWxsUnVsZSI6ICJldmVub2RkIiwgImxpbmVDYXAiOiAicm91bmQiLCAibGluZUpvaW4iOiAicm91bmQiLCAib3BhY2l0eSI6IDEuMCwgInJhZGl1cyI6IDcsICJzdHJva2UiOiB0cnVlLCAid2VpZ2h0IjogM30KICAgICAgICAgICAgKS5hZGRUbyhtYXBfNTBlZmM5MzVjNjlmNGI1ZGI4MDEzYzQ2NDZiNmM0YjMpOwogICAgICAgIAogICAgCiAgICAgICAgdmFyIHBvcHVwX2JjZGY4YTI0M2Q0YjQzYmY5ZmU4ZmIyZjQxMmVhNjM2ID0gTC5wb3B1cCh7Im1heFdpZHRoIjogIjEwMCUifSk7CgogICAgICAgIAogICAgICAgICAgICB2YXIgaHRtbF8zZWE0NzA3NTllNzE0OGViODY5YzMyNjQ4ODUxYjAyMiA9ICQoYDxkaXYgaWQ9Imh0bWxfM2VhNDcwNzU5ZTcxNDhlYjg2OWMzMjY0ODg1MWIwMjIiIHN0eWxlPSJ3aWR0aDogMTAwLjAlOyBoZWlnaHQ6IDEwMC4wJTsiPkJlbGdpdW06IDQ8L2Rpdj5gKVswXTsKICAgICAgICAgICAgcG9wdXBfYmNkZjhhMjQzZDRiNDNiZjlmZThmYjJmNDEyZWE2MzYuc2V0Q29udGVudChodG1sXzNlYTQ3MDc1OWU3MTQ4ZWI4NjljMzI2NDg4NTFiMDIyKTsKICAgICAgICAKCiAgICAgICAgY2lyY2xlX21hcmtlcl84MzI0NzY2NDllM2Y0NmNmYWM0NzBlNTVjZTM4YTU2Yi5iaW5kUG9wdXAocG9wdXBfYmNkZjhhMjQzZDRiNDNiZjlmZThmYjJmNDEyZWE2MzYpCiAgICAgICAgOwoKICAgICAgICAKICAgIAogICAgCiAgICAgICAgICAgIHZhciBjaXJjbGVfbWFya2VyXzRlYTZhMDZjNGI1ZTQyYzA5YWVjY2JiNDM0ZGMyNzhlID0gTC5jaXJjbGVNYXJrZXIoCiAgICAgICAgICAgICAgICBbNDIuNjA3Mzk3NSwgMjUuNDg1NjYxN10sCiAgICAgICAgICAgICAgICB7ImJ1YmJsaW5nTW91c2VFdmVudHMiOiB0cnVlLCAiY29sb3IiOiAib3JhbmdlIiwgImRhc2hBcnJheSI6IG51bGwsICJkYXNoT2Zmc2V0IjogbnVsbCwgImZpbGwiOiB0cnVlLCAiZmlsbENvbG9yIjogIm9yYW5nZSIsICJmaWxsT3BhY2l0eSI6IDAuMiwgImZpbGxSdWxlIjogImV2ZW5vZGQiLCAibGluZUNhcCI6ICJyb3VuZCIsICJsaW5lSm9pbiI6ICJyb3VuZCIsICJvcGFjaXR5IjogMS4wLCAicmFkaXVzIjogNywgInN0cm9rZSI6IHRydWUsICJ3ZWlnaHQiOiAzfQogICAgICAgICAgICApLmFkZFRvKG1hcF81MGVmYzkzNWM2OWY0YjVkYjgwMTNjNDY0NmI2YzRiMyk7CiAgICAgICAgCiAgICAKICAgICAgICB2YXIgcG9wdXBfNDg0MzQ0ODMwZWNlNDU1MmE3YjNjNGFiYjNiMGU3Y2QgPSBMLnBvcHVwKHsibWF4V2lkdGgiOiAiMTAwJSJ9KTsKCiAgICAgICAgCiAgICAgICAgICAgIHZhciBodG1sX2UyOGVmZTU3M2YwYTRiNDM5ZTM2YTM3ZTUzNDY5NGVlID0gJChgPGRpdiBpZD0iaHRtbF9lMjhlZmU1NzNmMGE0YjQzOWUzNmEzN2U1MzQ2OTRlZSIgc3R5bGU9IndpZHRoOiAxMDAuMCU7IGhlaWdodDogMTAwLjAlOyI+QnVsZ2FyaWE6IDM8L2Rpdj5gKVswXTsKICAgICAgICAgICAgcG9wdXBfNDg0MzQ0ODMwZWNlNDU1MmE3YjNjNGFiYjNiMGU3Y2Quc2V0Q29udGVudChodG1sX2UyOGVmZTU3M2YwYTRiNDM5ZTM2YTM3ZTUzNDY5NGVlKTsKICAgICAgICAKCiAgICAgICAgY2lyY2xlX21hcmtlcl80ZWE2YTA2YzRiNWU0MmMwOWFlY2NiYjQzNGRjMjc4ZS5iaW5kUG9wdXAocG9wdXBfNDg0MzQ0ODMwZWNlNDU1MmE3YjNjNGFiYjNiMGU3Y2QpCiAgICAgICAgOwoKICAgICAgICAKICAgIAogICAgCiAgICAgICAgICAgIHZhciBjaXJjbGVfbWFya2VyX2Q0Y2M1OGQyN2MwYzQ5ZjY5ZWVjODdkMTNlMmEzNjk4ID0gTC5jaXJjbGVNYXJrZXIoCiAgICAgICAgICAgICAgICBbNTEuMDgzNDE5NiwgMTAuNDIzNDQ2OV0sCiAgICAgICAgICAgICAgICB7ImJ1YmJsaW5nTW91c2VFdmVudHMiOiB0cnVlLCAiY29sb3IiOiAicmVkIiwgImRhc2hBcnJheSI6IG51bGwsICJkYXNoT2Zmc2V0IjogbnVsbCwgImZpbGwiOiB0cnVlLCAiZmlsbENvbG9yIjogInJlZCIsICJmaWxsT3BhY2l0eSI6IDAuMiwgImZpbGxSdWxlIjogImV2ZW5vZGQiLCAibGluZUNhcCI6ICJyb3VuZCIsICJsaW5lSm9pbiI6ICJyb3VuZCIsICJvcGFjaXR5IjogMS4wLCAicmFkaXVzIjogNywgInN0cm9rZSI6IHRydWUsICJ3ZWlnaHQiOiAzfQogICAgICAgICAgICApLmFkZFRvKG1hcF81MGVmYzkzNWM2OWY0YjVkYjgwMTNjNDY0NmI2YzRiMyk7CiAgICAgICAgCiAgICAKICAgICAgICB2YXIgcG9wdXBfYzRlNjE5Y2ZkN2I5NDRiZjg2N2I3MWRhY2QzNDQxYzYgPSBMLnBvcHVwKHsibWF4V2lkdGgiOiAiMTAwJSJ9KTsKCiAgICAgICAgCiAgICAgICAgICAgIHZhciBodG1sX2JmNTEzMTA3Mjc1MDRkNzdiNDM2N2RlN2U2MjdkYmZjID0gJChgPGRpdiBpZD0iaHRtbF9iZjUxMzEwNzI3NTA0ZDc3YjQzNjdkZTdlNjI3ZGJmYyIgc3R5bGU9IndpZHRoOiAxMDAuMCU7IGhlaWdodDogMTAwLjAlOyI+R2VybWFueTogNDwvZGl2PmApWzBdOwogICAgICAgICAgICBwb3B1cF9jNGU2MTljZmQ3Yjk0NGJmODY3YjcxZGFjZDM0NDFjNi5zZXRDb250ZW50KGh0bWxfYmY1MTMxMDcyNzUwNGQ3N2I0MzY3ZGU3ZTYyN2RiZmMpOwogICAgICAgIAoKICAgICAgICBjaXJjbGVfbWFya2VyX2Q0Y2M1OGQyN2MwYzQ5ZjY5ZWVjODdkMTNlMmEzNjk4LmJpbmRQb3B1cChwb3B1cF9jNGU2MTljZmQ3Yjk0NGJmODY3YjcxZGFjZDM0NDFjNikKICAgICAgICA7CgogICAgICAgIAogICAgCiAgICAKICAgICAgICAgICAgdmFyIGNpcmNsZV9tYXJrZXJfYTgyNWY2Zjg0MmI3NGM0MGE2ZTcxNGNjOGY2YTM2MjAgPSBMLmNpcmNsZU1hcmtlcigKICAgICAgICAgICAgICAgIFs1OC43NTIzNzc3OTk5OTk5OSwgMjUuMzMxOTA3OF0sCiAgICAgICAgICAgICAgICB7ImJ1YmJsaW5nTW91c2VFdmVudHMiOiB0cnVlLCAiY29sb3IiOiAiZGFya29yY2hpZCIsICJkYXNoQXJyYXkiOiBudWxsLCAiZGFzaE9mZnNldCI6IG51bGwsICJmaWxsIjogdHJ1ZSwgImZpbGxDb2xvciI6ICJkYXJrb3JjaGlkIiwgImZpbGxPcGFjaXR5IjogMC4yLCAiZmlsbFJ1bGUiOiAiZXZlbm9kZCIsICJsaW5lQ2FwIjogInJvdW5kIiwgImxpbmVKb2luIjogInJvdW5kIiwgIm9wYWNpdHkiOiAxLjAsICJyYWRpdXMiOiA3LCAic3Ryb2tlIjogdHJ1ZSwgIndlaWdodCI6IDN9CiAgICAgICAgICAgICkuYWRkVG8obWFwXzUwZWZjOTM1YzY5ZjRiNWRiODAxM2M0NjQ2YjZjNGIzKTsKICAgICAgICAKICAgIAogICAgICAgIHZhciBwb3B1cF8wZmQ5YWQ1NTA3NWQ0NDQyYTU1MjI4YWZkN2JkMjI5OSA9IEwucG9wdXAoeyJtYXhXaWR0aCI6ICIxMDAlIn0pOwoKICAgICAgICAKICAgICAgICAgICAgdmFyIGh0bWxfYmFlM2Y4MWRhZjI4NGJmMGJiMjJmZWRlYmM4MzMwM2EgPSAkKGA8ZGl2IGlkPSJodG1sX2JhZTNmODFkYWYyODRiZjBiYjIyZmVkZWJjODMzMDNhIiBzdHlsZT0id2lkdGg6IDEwMC4wJTsgaGVpZ2h0OiAxMDAuMCU7Ij5Fc3RvbmlhOiAxPC9kaXY+YClbMF07CiAgICAgICAgICAgIHBvcHVwXzBmZDlhZDU1MDc1ZDQ0NDJhNTUyMjhhZmQ3YmQyMjk5LnNldENvbnRlbnQoaHRtbF9iYWUzZjgxZGFmMjg0YmYwYmIyMmZlZGViYzgzMzAzYSk7CiAgICAgICAgCgogICAgICAgIGNpcmNsZV9tYXJrZXJfYTgyNWY2Zjg0MmI3NGM0MGE2ZTcxNGNjOGY2YTM2MjAuYmluZFBvcHVwKHBvcHVwXzBmZDlhZDU1MDc1ZDQ0NDJhNTUyMjhhZmQ3YmQyMjk5KQogICAgICAgIDsKCiAgICAgICAgCiAgICAKICAgIAogICAgICAgICAgICB2YXIgY2lyY2xlX21hcmtlcl85MzI5MTQ3ZDNhNjI0ZDAwOTA1NGQzMGFlYzU4MTIzNyA9IEwuY2lyY2xlTWFya2VyKAogICAgICAgICAgICAgICAgWzM5LjMyNjIzNDUsIC00LjgzODA2NDkwMDAwMDAwMV0sCiAgICAgICAgICAgICAgICB7ImJ1YmJsaW5nTW91c2VFdmVudHMiOiB0cnVlLCAiY29sb3IiOiAibWVkaXVtc2VhZ3JlZW4iLCAiZGFzaEFycmF5IjogbnVsbCwgImRhc2hPZmZzZXQiOiBudWxsLCAiZmlsbCI6IHRydWUsICJmaWxsQ29sb3IiOiAibWVkaXVtc2VhZ3JlZW4iLCAiZmlsbE9wYWNpdHkiOiAwLjIsICJmaWxsUnVsZSI6ICJldmVub2RkIiwgImxpbmVDYXAiOiAicm91bmQiLCAibGluZUpvaW4iOiAicm91bmQiLCAib3BhY2l0eSI6IDEuMCwgInJhZGl1cyI6IDcsICJzdHJva2UiOiB0cnVlLCAid2VpZ2h0IjogM30KICAgICAgICAgICAgKS5hZGRUbyhtYXBfNTBlZmM5MzVjNjlmNGI1ZGI4MDEzYzQ2NDZiNmM0YjMpOwogICAgICAgIAogICAgCiAgICAgICAgdmFyIHBvcHVwX2IyNTE4ODMwM2I3MDQ0NjI5YmNkYzgyYjMwZjI3M2QzID0gTC5wb3B1cCh7Im1heFdpZHRoIjogIjEwMCUifSk7CgogICAgICAgIAogICAgICAgICAgICB2YXIgaHRtbF8zMzE0ZWJiNjdjNDM0MDg4ODk3MjE5NTRkN2YxMWVhMyA9ICQoYDxkaXYgaWQ9Imh0bWxfMzMxNGViYjY3YzQzNDA4ODg5NzIxOTU0ZDdmMTFlYTMiIHN0eWxlPSJ3aWR0aDogMTAwLjAlOyBoZWlnaHQ6IDEwMC4wJTsiPlNwYWluOiAyPC9kaXY+YClbMF07CiAgICAgICAgICAgIHBvcHVwX2IyNTE4ODMwM2I3MDQ0NjI5YmNkYzgyYjMwZjI3M2QzLnNldENvbnRlbnQoaHRtbF8zMzE0ZWJiNjdjNDM0MDg4ODk3MjE5NTRkN2YxMWVhMyk7CiAgICAgICAgCgogICAgICAgIGNpcmNsZV9tYXJrZXJfOTMyOTE0N2QzYTYyNGQwMDkwNTRkMzBhZWM1ODEyMzcuYmluZFBvcHVwKHBvcHVwX2IyNTE4ODMwM2I3MDQ0NjI5YmNkYzgyYjMwZjI3M2QzKQogICAgICAgIDsKCiAgICAgICAgCiAgICAKICAgIAogICAgICAgICAgICB2YXIgY2lyY2xlX21hcmtlcl9mYWNmYTk3YmVmYTk0NzcwYTUzMDFlNmUyZTkxYTM3YSA9IEwuY2lyY2xlTWFya2VyKAogICAgICAgICAgICAgICAgWzQ2LjYwMzM1Mzk5OTk5OTk5NiwgMS44ODgzMzM0OTk5OTk5OTk5XSwKICAgICAgICAgICAgICAgIHsiYnViYmxpbmdNb3VzZUV2ZW50cyI6IHRydWUsICJjb2xvciI6ICJvcmFuZ2UiLCAiZGFzaEFycmF5IjogbnVsbCwgImRhc2hPZmZzZXQiOiBudWxsLCAiZmlsbCI6IHRydWUsICJmaWxsQ29sb3IiOiAib3JhbmdlIiwgImZpbGxPcGFjaXR5IjogMC4yLCAiZmlsbFJ1bGUiOiAiZXZlbm9kZCIsICJsaW5lQ2FwIjogInJvdW5kIiwgImxpbmVKb2luIjogInJvdW5kIiwgIm9wYWNpdHkiOiAxLjAsICJyYWRpdXMiOiA3LCAic3Ryb2tlIjogdHJ1ZSwgIndlaWdodCI6IDN9CiAgICAgICAgICAgICkuYWRkVG8obWFwXzUwZWZjOTM1YzY5ZjRiNWRiODAxM2M0NjQ2YjZjNGIzKTsKICAgICAgICAKICAgIAogICAgICAgIHZhciBwb3B1cF82ZjExMzhkN2M0Mzc0MWVkOTllZjY1YWM2N2ZjODk5ZiA9IEwucG9wdXAoeyJtYXhXaWR0aCI6ICIxMDAlIn0pOwoKICAgICAgICAKICAgICAgICAgICAgdmFyIGh0bWxfYjg4OWM0NGMyMWMxNGRhMmE2NGFjYWU3ZDNmODhhMjggPSAkKGA8ZGl2IGlkPSJodG1sX2I4ODljNDRjMjFjMTRkYTJhNjRhY2FlN2QzZjg4YTI4IiBzdHlsZT0id2lkdGg6IDEwMC4wJTsgaGVpZ2h0OiAxMDAuMCU7Ij5GcmFuY2U6IDM8L2Rpdj5gKVswXTsKICAgICAgICAgICAgcG9wdXBfNmYxMTM4ZDdjNDM3NDFlZDk5ZWY2NWFjNjdmYzg5OWYuc2V0Q29udGVudChodG1sX2I4ODljNDRjMjFjMTRkYTJhNjRhY2FlN2QzZjg4YTI4KTsKICAgICAgICAKCiAgICAgICAgY2lyY2xlX21hcmtlcl9mYWNmYTk3YmVmYTk0NzcwYTUzMDFlNmUyZTkxYTM3YS5iaW5kUG9wdXAocG9wdXBfNmYxMTM4ZDdjNDM3NDFlZDk5ZWY2NWFjNjdmYzg5OWYpCiAgICAgICAgOwoKICAgICAgICAKICAgIAogICAgCiAgICAgICAgICAgIHZhciBjaXJjbGVfbWFya2VyX2NlOWZiYTcyMjZlMjQ1YzhiNDU2ZDFhOTU0ZDNkNTkzID0gTC5jaXJjbGVNYXJrZXIoCiAgICAgICAgICAgICAgICBbNDIuNjM4NDI2MSwgMTIuNjc0Mjk3XSwKICAgICAgICAgICAgICAgIHsiYnViYmxpbmdNb3VzZUV2ZW50cyI6IHRydWUsICJjb2xvciI6ICJtZWRpdW1zZWFncmVlbiIsICJkYXNoQXJyYXkiOiBudWxsLCAiZGFzaE9mZnNldCI6IG51bGwsICJmaWxsIjogdHJ1ZSwgImZpbGxDb2xvciI6ICJtZWRpdW1zZWFncmVlbiIsICJmaWxsT3BhY2l0eSI6IDAuMiwgImZpbGxSdWxlIjogImV2ZW5vZGQiLCAibGluZUNhcCI6ICJyb3VuZCIsICJsaW5lSm9pbiI6ICJyb3VuZCIsICJvcGFjaXR5IjogMS4wLCAicmFkaXVzIjogNywgInN0cm9rZSI6IHRydWUsICJ3ZWlnaHQiOiAzfQogICAgICAgICAgICApLmFkZFRvKG1hcF81MGVmYzkzNWM2OWY0YjVkYjgwMTNjNDY0NmI2YzRiMyk7CiAgICAgICAgCiAgICAKICAgICAgICB2YXIgcG9wdXBfNzc0ODE2OTY5NTQzNGJlYmFlNWQ5N2ZjNTc4N2MzODkgPSBMLnBvcHVwKHsibWF4V2lkdGgiOiAiMTAwJSJ9KTsKCiAgICAgICAgCiAgICAgICAgICAgIHZhciBodG1sX2ZlZWM5MmNmNTFkNDQ5MmFhMWFjMmI1NjU4MjJlZjI5ID0gJChgPGRpdiBpZD0iaHRtbF9mZWVjOTJjZjUxZDQ0OTJhYTFhYzJiNTY1ODIyZWYyOSIgc3R5bGU9IndpZHRoOiAxMDAuMCU7IGhlaWdodDogMTAwLjAlOyI+SXRhbHk6IDI8L2Rpdj5gKVswXTsKICAgICAgICAgICAgcG9wdXBfNzc0ODE2OTY5NTQzNGJlYmFlNWQ5N2ZjNTc4N2MzODkuc2V0Q29udGVudChodG1sX2ZlZWM5MmNmNTFkNDQ5MmFhMWFjMmI1NjU4MjJlZjI5KTsKICAgICAgICAKCiAgICAgICAgY2lyY2xlX21hcmtlcl9jZTlmYmE3MjI2ZTI0NWM4YjQ1NmQxYTk1NGQzZDU5My5iaW5kUG9wdXAocG9wdXBfNzc0ODE2OTY5NTQzNGJlYmFlNWQ5N2ZjNTc4N2MzODkpCiAgICAgICAgOwoKICAgICAgICAKICAgIAogICAgCiAgICAgICAgICAgIHZhciBjaXJjbGVfbWFya2VyXzcyMGQ3YTk4MmZjMTQ5OTc4ZWNkYWI0YTc2ODlhYzUzID0gTC5jaXJjbGVNYXJrZXIoCiAgICAgICAgICAgICAgICBbNTYuODQwNjQ5NCwgMjQuNzUzNzY0NV0sCiAgICAgICAgICAgICAgICB7ImJ1YmJsaW5nTW91c2VFdmVudHMiOiB0cnVlLCAiY29sb3IiOiAiZGFya29yY2hpZCIsICJkYXNoQXJyYXkiOiBudWxsLCAiZGFzaE9mZnNldCI6IG51bGwsICJmaWxsIjogdHJ1ZSwgImZpbGxDb2xvciI6ICJkYXJrb3JjaGlkIiwgImZpbGxPcGFjaXR5IjogMC4yLCAiZmlsbFJ1bGUiOiAiZXZlbm9kZCIsICJsaW5lQ2FwIjogInJvdW5kIiwgImxpbmVKb2luIjogInJvdW5kIiwgIm9wYWNpdHkiOiAxLjAsICJyYWRpdXMiOiA3LCAic3Ryb2tlIjogdHJ1ZSwgIndlaWdodCI6IDN9CiAgICAgICAgICAgICkuYWRkVG8obWFwXzUwZWZjOTM1YzY5ZjRiNWRiODAxM2M0NjQ2YjZjNGIzKTsKICAgICAgICAKICAgIAogICAgICAgIHZhciBwb3B1cF82YTNhNDUzNWJlMWM0MmJjOTE3YWQ1MzVhMDJlNmViMyA9IEwucG9wdXAoeyJtYXhXaWR0aCI6ICIxMDAlIn0pOwoKICAgICAgICAKICAgICAgICAgICAgdmFyIGh0bWxfNDEwZjhlYTE0NjIzNDg5YjhiM2NlNDc0OTVjMWY5NTQgPSAkKGA8ZGl2IGlkPSJodG1sXzQxMGY4ZWExNDYyMzQ4OWI4YjNjZTQ3NDk1YzFmOTU0IiBzdHlsZT0id2lkdGg6IDEwMC4wJTsgaGVpZ2h0OiAxMDAuMCU7Ij5MYXR2aWE6IDE8L2Rpdj5gKVswXTsKICAgICAgICAgICAgcG9wdXBfNmEzYTQ1MzViZTFjNDJiYzkxN2FkNTM1YTAyZTZlYjMuc2V0Q29udGVudChodG1sXzQxMGY4ZWExNDYyMzQ4OWI4YjNjZTQ3NDk1YzFmOTU0KTsKICAgICAgICAKCiAgICAgICAgY2lyY2xlX21hcmtlcl83MjBkN2E5ODJmYzE0OTk3OGVjZGFiNGE3Njg5YWM1My5iaW5kUG9wdXAocG9wdXBfNmEzYTQ1MzViZTFjNDJiYzkxN2FkNTM1YTAyZTZlYjMpCiAgICAgICAgOwoKICAgICAgICAKICAgIAogICAgCiAgICAgICAgICAgIHZhciBjaXJjbGVfbWFya2VyX2JlMDUzMzNjOGNjNzQ0ODY5YzEzYzBkOTgwNzRhNjUxID0gTC5jaXJjbGVNYXJrZXIoCiAgICAgICAgICAgICAgICBbNTUuMzUwMDAwMzAwMDAwMDA1LCAyMy43NDk5OTk3XSwKICAgICAgICAgICAgICAgIHsiYnViYmxpbmdNb3VzZUV2ZW50cyI6IHRydWUsICJjb2xvciI6ICJkYXJrb3JjaGlkIiwgImRhc2hBcnJheSI6IG51bGwsICJkYXNoT2Zmc2V0IjogbnVsbCwgImZpbGwiOiB0cnVlLCAiZmlsbENvbG9yIjogImRhcmtvcmNoaWQiLCAiZmlsbE9wYWNpdHkiOiAwLjIsICJmaWxsUnVsZSI6ICJldmVub2RkIiwgImxpbmVDYXAiOiAicm91bmQiLCAibGluZUpvaW4iOiAicm91bmQiLCAib3BhY2l0eSI6IDEuMCwgInJhZGl1cyI6IDcsICJzdHJva2UiOiB0cnVlLCAid2VpZ2h0IjogM30KICAgICAgICAgICAgKS5hZGRUbyhtYXBfNTBlZmM5MzVjNjlmNGI1ZGI4MDEzYzQ2NDZiNmM0YjMpOwogICAgICAgIAogICAgCiAgICAgICAgdmFyIHBvcHVwXzE5ZjI5NzcyNWI3YjRjYTg5N2Y3NDI2MzJkZjAwODI0ID0gTC5wb3B1cCh7Im1heFdpZHRoIjogIjEwMCUifSk7CgogICAgICAgIAogICAgICAgICAgICB2YXIgaHRtbF81YmUyMjBkZjljOWY0ZGIzYjQzMTY3Y2U2NjMxNmUxNSA9ICQoYDxkaXYgaWQ9Imh0bWxfNWJlMjIwZGY5YzlmNGRiM2I0MzE2N2NlNjYzMTZlMTUiIHN0eWxlPSJ3aWR0aDogMTAwLjAlOyBoZWlnaHQ6IDEwMC4wJTsiPkxpdGh1YW5pYTogMTwvZGl2PmApWzBdOwogICAgICAgICAgICBwb3B1cF8xOWYyOTc3MjViN2I0Y2E4OTdmNzQyNjMyZGYwMDgyNC5zZXRDb250ZW50KGh0bWxfNWJlMjIwZGY5YzlmNGRiM2I0MzE2N2NlNjYzMTZlMTUpOwogICAgICAgIAoKICAgICAgICBjaXJjbGVfbWFya2VyX2JlMDUzMzNjOGNjNzQ0ODY5YzEzYzBkOTgwNzRhNjUxLmJpbmRQb3B1cChwb3B1cF8xOWYyOTc3MjViN2I0Y2E4OTdmNzQyNjMyZGYwMDgyNCkKICAgICAgICA7CgogICAgICAgIAogICAgCiAgICAKICAgICAgICAgICAgdmFyIGNpcmNsZV9tYXJrZXJfN2IxNzVkNTk4ZDIzNDQ3MTg5ZWRhNTJjYzYxNWJiZDYgPSBMLmNpcmNsZU1hcmtlcigKICAgICAgICAgICAgICAgIFs1Mi4yMTU5MzMsIDE5LjEzNDQyMl0sCiAgICAgICAgICAgICAgICB7ImJ1YmJsaW5nTW91c2VFdmVudHMiOiB0cnVlLCAiY29sb3IiOiAibWVkaXVtc2VhZ3JlZW4iLCAiZGFzaEFycmF5IjogbnVsbCwgImRhc2hPZmZzZXQiOiBudWxsLCAiZmlsbCI6IHRydWUsICJmaWxsQ29sb3IiOiAibWVkaXVtc2VhZ3JlZW4iLCAiZmlsbE9wYWNpdHkiOiAwLjIsICJmaWxsUnVsZSI6ICJldmVub2RkIiwgImxpbmVDYXAiOiAicm91bmQiLCAibGluZUpvaW4iOiAicm91bmQiLCAib3BhY2l0eSI6IDEuMCwgInJhZGl1cyI6IDcsICJzdHJva2UiOiB0cnVlLCAid2VpZ2h0IjogM30KICAgICAgICAgICAgKS5hZGRUbyhtYXBfNTBlZmM5MzVjNjlmNGI1ZGI4MDEzYzQ2NDZiNmM0YjMpOwogICAgICAgIAogICAgCiAgICAgICAgdmFyIHBvcHVwXzA2ODMwZmEwNDNiMzRkYTZhMmJiZDExNjhhZTg2MWI1ID0gTC5wb3B1cCh7Im1heFdpZHRoIjogIjEwMCUifSk7CgogICAgICAgIAogICAgICAgICAgICB2YXIgaHRtbF9hYTI3MmMyNTNkNTA0YTcwYmVkYmIwNTExNTk4YmM0MiA9ICQoYDxkaXYgaWQ9Imh0bWxfYWEyNzJjMjUzZDUwNGE3MGJlZGJiMDUxMTU5OGJjNDIiIHN0eWxlPSJ3aWR0aDogMTAwLjAlOyBoZWlnaHQ6IDEwMC4wJTsiPlBvbGFuZDogMjwvZGl2PmApWzBdOwogICAgICAgICAgICBwb3B1cF8wNjgzMGZhMDQzYjM0ZGE2YTJiYmQxMTY4YWU4NjFiNS5zZXRDb250ZW50KGh0bWxfYWEyNzJjMjUzZDUwNGE3MGJlZGJiMDUxMTU5OGJjNDIpOwogICAgICAgIAoKICAgICAgICBjaXJjbGVfbWFya2VyXzdiMTc1ZDU5OGQyMzQ0NzE4OWVkYTUyY2M2MTViYmQ2LmJpbmRQb3B1cChwb3B1cF8wNjgzMGZhMDQzYjM0ZGE2YTJiYmQxMTY4YWU4NjFiNSkKICAgICAgICA7CgogICAgICAgIAogICAgCiAgICAKICAgICAgICAgICAgdmFyIGNpcmNsZV9tYXJrZXJfZTVkN2NhN2RmYWZlNDJhZGE4YjgxZmJlNjkwZTYwNTIgPSBMLmNpcmNsZU1hcmtlcigKICAgICAgICAgICAgICAgIFs0NS44MTMzMTEyOTk5OTk5OTUsIDE0LjQ4MDgzNjldLAogICAgICAgICAgICAgICAgeyJidWJibGluZ01vdXNlRXZlbnRzIjogdHJ1ZSwgImNvbG9yIjogIm1lZGl1bXNlYWdyZWVuIiwgImRhc2hBcnJheSI6IG51bGwsICJkYXNoT2Zmc2V0IjogbnVsbCwgImZpbGwiOiB0cnVlLCAiZmlsbENvbG9yIjogIm1lZGl1bXNlYWdyZWVuIiwgImZpbGxPcGFjaXR5IjogMC4yLCAiZmlsbFJ1bGUiOiAiZXZlbm9kZCIsICJsaW5lQ2FwIjogInJvdW5kIiwgImxpbmVKb2luIjogInJvdW5kIiwgIm9wYWNpdHkiOiAxLjAsICJyYWRpdXMiOiA3LCAic3Ryb2tlIjogdHJ1ZSwgIndlaWdodCI6IDN9CiAgICAgICAgICAgICkuYWRkVG8obWFwXzUwZWZjOTM1YzY5ZjRiNWRiODAxM2M0NjQ2YjZjNGIzKTsKICAgICAgICAKICAgIAogICAgICAgIHZhciBwb3B1cF81MzkyMDdhOWQyMmE0ZDQ2YWMyZTRiZWQzYWM1MWMwZCA9IEwucG9wdXAoeyJtYXhXaWR0aCI6ICIxMDAlIn0pOwoKICAgICAgICAKICAgICAgICAgICAgdmFyIGh0bWxfMGFkYTdjZjJmYTkwNDNmZDgyNDY5MTMwMDU3NWIzNTkgPSAkKGA8ZGl2IGlkPSJodG1sXzBhZGE3Y2YyZmE5MDQzZmQ4MjQ2OTEzMDA1NzViMzU5IiBzdHlsZT0id2lkdGg6IDEwMC4wJTsgaGVpZ2h0OiAxMDAuMCU7Ij5TbG92ZW5pYTogMjwvZGl2PmApWzBdOwogICAgICAgICAgICBwb3B1cF81MzkyMDdhOWQyMmE0ZDQ2YWMyZTRiZWQzYWM1MWMwZC5zZXRDb250ZW50KGh0bWxfMGFkYTdjZjJmYTkwNDNmZDgyNDY5MTMwMDU3NWIzNTkpOwogICAgICAgIAoKICAgICAgICBjaXJjbGVfbWFya2VyX2U1ZDdjYTdkZmFmZTQyYWRhOGI4MWZiZTY5MGU2MDUyLmJpbmRQb3B1cChwb3B1cF81MzkyMDdhOWQyMmE0ZDQ2YWMyZTRiZWQzYWM1MWMwZCkKICAgICAgICA7CgogICAgICAgIAogICAgCiAgICAKICAgICAgICAgICAgdmFyIGNpcmNsZV9tYXJrZXJfNmM2MTVmYmJiNTJlNDBiYTk4OTgyMDBmMTQyYTZkMTEgPSBMLmNpcmNsZU1hcmtlcigKICAgICAgICAgICAgICAgIFs2My4yNDY3Nzc3LCAyNS45MjA5MTY0XSwKICAgICAgICAgICAgICAgIHsiYnViYmxpbmdNb3VzZUV2ZW50cyI6IHRydWUsICJjb2xvciI6ICJibHVlIiwgImRhc2hBcnJheSI6IG51bGwsICJkYXNoT2Zmc2V0IjogbnVsbCwgImZpbGwiOiB0cnVlLCAiZmlsbENvbG9yIjogImJsdWUiLCAiZmlsbE9wYWNpdHkiOiAwLjIsICJmaWxsUnVsZSI6ICJldmVub2RkIiwgImxpbmVDYXAiOiAicm91bmQiLCAibGluZUpvaW4iOiAicm91bmQiLCAib3BhY2l0eSI6IDEuMCwgInJhZGl1cyI6IDcsICJzdHJva2UiOiB0cnVlLCAid2VpZ2h0IjogM30KICAgICAgICAgICAgKS5hZGRUbyhtYXBfNTBlZmM5MzVjNjlmNGI1ZGI4MDEzYzQ2NDZiNmM0YjMpOwogICAgICAgIAogICAgCiAgICAgICAgdmFyIHBvcHVwXzhmNmMyNTA4N2FmZTQ4YTI5YWQzZTcxZDFlOTVjZWJiID0gTC5wb3B1cCh7Im1heFdpZHRoIjogIjEwMCUifSk7CgogICAgICAgIAogICAgICAgICAgICB2YXIgaHRtbF9hNTUyOWU4ZDJlOTc0OGU4YWEzMmQxYzQ5YTk5MDc1OCA9ICQoYDxkaXYgaWQ9Imh0bWxfYTU1MjllOGQyZTk3NDhlOGFhMzJkMWM0OWE5OTA3NTgiIHN0eWxlPSJ3aWR0aDogMTAwLjAlOyBoZWlnaHQ6IDEwMC4wJTsiPkZpbmxhbmQ6IDA8L2Rpdj5gKVswXTsKICAgICAgICAgICAgcG9wdXBfOGY2YzI1MDg3YWZlNDhhMjlhZDNlNzFkMWU5NWNlYmIuc2V0Q29udGVudChodG1sX2E1NTI5ZThkMmU5NzQ4ZThhYTMyZDFjNDlhOTkwNzU4KTsKICAgICAgICAKCiAgICAgICAgY2lyY2xlX21hcmtlcl82YzYxNWZiYmI1MmU0MGJhOTg5ODIwMGYxNDJhNmQxMS5iaW5kUG9wdXAocG9wdXBfOGY2YzI1MDg3YWZlNDhhMjlhZDNlNzFkMWU5NWNlYmIpCiAgICAgICAgOwoKICAgICAgICAKICAgIAogICAgCiAgICAgICAgICAgIHZhciBjaXJjbGVfbWFya2VyX2JiNzhjNjdlZmU1YTRkM2Y4ZWFiZTMwYTExZjY1YjkzID0gTC5jaXJjbGVNYXJrZXIoCiAgICAgICAgICAgICAgICBbNTQuNzAyMzU0NTAwMDAwMDA2LCAtMy4yNzY1NzUyOTk5OTk5OTk3XSwKICAgICAgICAgICAgICAgIHsiYnViYmxpbmdNb3VzZUV2ZW50cyI6IHRydWUsICJjb2xvciI6ICJibHVlIiwgImRhc2hBcnJheSI6IG51bGwsICJkYXNoT2Zmc2V0IjogbnVsbCwgImZpbGwiOiB0cnVlLCAiZmlsbENvbG9yIjogImJsdWUiLCAiZmlsbE9wYWNpdHkiOiAwLjIsICJmaWxsUnVsZSI6ICJldmVub2RkIiwgImxpbmVDYXAiOiAicm91bmQiLCAibGluZUpvaW4iOiAicm91bmQiLCAib3BhY2l0eSI6IDEuMCwgInJhZGl1cyI6IDcsICJzdHJva2UiOiB0cnVlLCAid2VpZ2h0IjogM30KICAgICAgICAgICAgKS5hZGRUbyhtYXBfNTBlZmM5MzVjNjlmNGI1ZGI4MDEzYzQ2NDZiNmM0YjMpOwogICAgICAgIAogICAgCiAgICAgICAgdmFyIHBvcHVwXzZjODllMzJkYWM2ZjQzMWViMTljY2RmYTIwOTJmZjg4ID0gTC5wb3B1cCh7Im1heFdpZHRoIjogIjEwMCUifSk7CgogICAgICAgIAogICAgICAgICAgICB2YXIgaHRtbF8zZDEyOWM0MzdkOWI0MGFhYWVjZjE5YTFhYzA1MDUyZSA9ICQoYDxkaXYgaWQ9Imh0bWxfM2QxMjljNDM3ZDliNDBhYWFlY2YxOWExYWMwNTA1MmUiIHN0eWxlPSJ3aWR0aDogMTAwLjAlOyBoZWlnaHQ6IDEwMC4wJTsiPlVuaXRlZCBLaW5nZG9tOiAwPC9kaXY+YClbMF07CiAgICAgICAgICAgIHBvcHVwXzZjODllMzJkYWM2ZjQzMWViMTljY2RmYTIwOTJmZjg4LnNldENvbnRlbnQoaHRtbF8zZDEyOWM0MzdkOWI0MGFhYWVjZjE5YTFhYzA1MDUyZSk7CiAgICAgICAgCgogICAgICAgIGNpcmNsZV9tYXJrZXJfYmI3OGM2N2VmZTVhNGQzZjhlYWJlMzBhMTFmNjViOTMuYmluZFBvcHVwKHBvcHVwXzZjODllMzJkYWM2ZjQzMWViMTljY2RmYTIwOTJmZjg4KQogICAgICAgIDsKCiAgICAgICAgCiAgICAKICAgIAogICAgICAgICAgICB2YXIgY2lyY2xlX21hcmtlcl84NTUwN2NhMTkxZTg0NTA5ODRmODgyZDc3NGVmMDdhMSA9IEwuY2lyY2xlTWFya2VyKAogICAgICAgICAgICAgICAgWzYwLjUwMDAyMDksIDkuMDk5OTcxNDk5OTk5OTk5XSwKICAgICAgICAgICAgICAgIHsiYnViYmxpbmdNb3VzZUV2ZW50cyI6IHRydWUsICJjb2xvciI6ICJibHVlIiwgImRhc2hBcnJheSI6IG51bGwsICJkYXNoT2Zmc2V0IjogbnVsbCwgImZpbGwiOiB0cnVlLCAiZmlsbENvbG9yIjogImJsdWUiLCAiZmlsbE9wYWNpdHkiOiAwLjIsICJmaWxsUnVsZSI6ICJldmVub2RkIiwgImxpbmVDYXAiOiAicm91bmQiLCAibGluZUpvaW4iOiAicm91bmQiLCAib3BhY2l0eSI6IDEuMCwgInJhZGl1cyI6IDcsICJzdHJva2UiOiB0cnVlLCAid2VpZ2h0IjogM30KICAgICAgICAgICAgKS5hZGRUbyhtYXBfNTBlZmM5MzVjNjlmNGI1ZGI4MDEzYzQ2NDZiNmM0YjMpOwogICAgICAgIAogICAgCiAgICAgICAgdmFyIHBvcHVwXzNlMjdmNjAyNjc5OTRmOGFhNDE3NmVjODY2YzFjMDE0ID0gTC5wb3B1cCh7Im1heFdpZHRoIjogIjEwMCUifSk7CgogICAgICAgIAogICAgICAgICAgICB2YXIgaHRtbF81NzZkNzM0MTRkN2U0NDVjODZlMDZhNjMyZjljZTlmNyA9ICQoYDxkaXYgaWQ9Imh0bWxfNTc2ZDczNDE0ZDdlNDQ1Yzg2ZTA2YTYzMmY5Y2U5ZjciIHN0eWxlPSJ3aWR0aDogMTAwLjAlOyBoZWlnaHQ6IDEwMC4wJTsiPk5vcndheTogMDwvZGl2PmApWzBdOwogICAgICAgICAgICBwb3B1cF8zZTI3ZjYwMjY3OTk0ZjhhYTQxNzZlYzg2NmMxYzAxNC5zZXRDb250ZW50KGh0bWxfNTc2ZDczNDE0ZDdlNDQ1Yzg2ZTA2YTYzMmY5Y2U5ZjcpOwogICAgICAgIAoKICAgICAgICBjaXJjbGVfbWFya2VyXzg1NTA3Y2ExOTFlODQ1MDk4NGY4ODJkNzc0ZWYwN2ExLmJpbmRQb3B1cChwb3B1cF8zZTI3ZjYwMjY3OTk0ZjhhYTQxNzZlYzg2NmMxYzAxNCkKICAgICAgICA7CgogICAgICAgIAogICAgCjwvc2NyaXB0Pg== onload=\"this.contentDocument.open();this.contentDocument.write(atob(this.getAttribute('data-html')));this.contentDocument.close();\" allowfullscreen webkitallowfullscreen mozallowfullscreen></iframe></div></div>"
      ],
      "text/plain": [
       "<folium.folium.Map at 0x1cc4604d040>"
      ]
     },
     "execution_count": 55,
     "metadata": {},
     "output_type": "execute_result"
    }
   ],
   "source": [
    "\n",
    "n=int(input('Insira o número de grupos. Aperte enter para sair.'))\n",
    "l=' '\n",
    "\n",
    "while l!='':\n",
    "    \n",
    "    colors = ['blue', 'darkorchid', 'mediumseagreen', 'orange', 'red', 'white', 'gold', 'brown', 'grey', 'pink']\n",
    "\n",
    "    mapa = folium.Map(locatition=sample.iloc[5, -2:0].tolist(), zoom_start=12)\n",
    "\n",
    "    for country, lat, lng, label in zip(sample['GEO/ACL00'], sample['Latitude'], sample['Longitude'], sample[str(n)+' labels']):\n",
    "    \n",
    "        \n",
    "        popup = folium.Popup(country+': '+str(label), parse_html=True)\n",
    "\n",
    "        folium.CircleMarker([lat,lng],\n",
    "                            color=colors[label],\n",
    "                            radius=7,\n",
    "                            fill=True,\n",
    "                            fill_color=colors[label],\n",
    "                            fill_oppacity=0.7,\n",
    "                            popup=popup).add_to(mapa)\n",
    "    \n",
    "    l=input('Aperte enter para gerar o mapa.')\n",
    "\n",
    "        \n",
    "mapa\n"
   ]
  },
  {
   "cell_type": "markdown",
   "metadata": {},
   "source": [
    "### Exposing perfils for categories generataded"
   ]
  },
  {
   "cell_type": "code",
   "execution_count": 71,
   "metadata": {},
   "outputs": [],
   "source": [
    "\n",
    "perfils = pandas.concat([sample[sample[str(n)+' labels']==i] for i in range(n)]).groupby(str(n)+' labels', sort=False).mean().iloc[:, :110]\n",
    "\n",
    "\n",
    "for col in sample.columns[1:111]:\n",
    "    \n",
    "    M = sample[col].max()\n",
    "    m = sample[col].min()\n",
    "    bins = numpy.linspace(m, M, 4)\n",
    "    \n",
    "    new_col=[]\n",
    "    \n",
    "    for x in perfils[col]:\n",
    "        \n",
    "        if x < bins[1]: new_col.append('low')\n",
    "        elif x < bins[2]: new_col.append('med')\n",
    "        else: new_col.append('high')\n",
    "    \n",
    "    \n",
    "    \n",
    "    perfils[col] = new_col\n",
    "    "
   ]
  },
  {
   "cell_type": "code",
   "execution_count": null,
   "metadata": {},
   "outputs": [],
   "source": [
    "perfils"
   ]
  },
  {
   "cell_type": "markdown",
   "metadata": {},
   "source": []
  },
  {
   "cell_type": "code",
   "execution_count": null,
   "metadata": {},
   "outputs": [],
   "source": []
  },
  {
   "cell_type": "code",
   "execution_count": null,
   "metadata": {},
   "outputs": [],
   "source": []
  }
 ],
 "metadata": {
  "kernelspec": {
   "display_name": "Python 3",
   "language": "python",
   "name": "python3"
  },
  "language_info": {
   "codemirror_mode": {
    "name": "ipython",
    "version": 3
   },
   "file_extension": ".py",
   "mimetype": "text/x-python",
   "name": "python",
   "nbconvert_exporter": "python",
   "pygments_lexer": "ipython3",
   "version": "3.8.3"
  }
 },
 "nbformat": 4,
 "nbformat_minor": 4
}
