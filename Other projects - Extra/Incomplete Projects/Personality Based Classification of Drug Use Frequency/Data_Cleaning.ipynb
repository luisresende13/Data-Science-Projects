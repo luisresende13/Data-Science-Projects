{
 "cells": [
  {
   "cell_type": "markdown",
   "metadata": {},
   "source": [
    "# DRUG USE DATA CLEANING"
   ]
  },
  {
   "cell_type": "markdown",
   "metadata": {},
   "source": [
    "---"
   ]
  },
  {
   "cell_type": "markdown",
   "metadata": {},
   "source": [
    "# Importing Libraires"
   ]
  },
  {
   "cell_type": "code",
   "execution_count": 1,
   "metadata": {},
   "outputs": [],
   "source": [
    "import pandas as pd, numpy as np, matplotlib.pyplot as plt, seaborn as sns, sklearn\n",
    "\n",
    "pd.set_option('display.max_columns', 100)"
   ]
  },
  {
   "cell_type": "markdown",
   "metadata": {},
   "source": [
    "### Table in text format"
   ]
  },
  {
   "cell_type": "code",
   "execution_count": 19,
   "metadata": {
    "jupyter": {
     "source_hidden": true
    }
   },
   "outputs": [],
   "source": [
    "text = '''1. ID is number of record in original database. Cannot be related to participant. It can be used for reference only.\n",
    "\n",
    "2. Age (Real) is age of participant and has one of the values:\n",
    "Value Meaning Cases Fraction\n",
    "-0.95197 18-24 643 34.11%\n",
    "-0.07854 25-34 481 25.52%\n",
    "0.49788 35-44 356 18.89%\n",
    "1.09449 45-54 294 15.60%\n",
    "1.82213 55-64 93 4.93%\n",
    "2.59171 65+ 18 0.95%\n",
    "Descriptive statistics\n",
    "Min Max Mean Std.dev.\n",
    "-0.95197 2.59171 0.03461 0.87813\n",
    "\n",
    "3. Gender (Real) is gender of participant:\n",
    "Value Meaning Cases Fraction\n",
    "0.48246 Female 942 49.97%\n",
    "-0.48246 Male 943 50.03%\n",
    "Descriptive statistics\n",
    "Min Max Mean Std.dev.\n",
    "-0.48246 0.48246 -0.00026 0.48246\n",
    "\n",
    "4. Education (Real) is level of education of participant and has one of the values:\n",
    "Value Meaning Cases Fraction\n",
    "-2.43591 Left school before 16 years 28 1.49%\n",
    "-1.73790 Left school at 16 years 99 5.25%\n",
    "-1.43719 Left school at 17 years 30 1.59%\n",
    "-1.22751 Left school at 18 years 100 5.31%\n",
    "-0.61113 Some college or university, no certificate or degree 506 26.84%\n",
    "-0.05921 Professional certificate/ diploma 270 14.32%\n",
    "0.45468 University degree 480 25.46%\n",
    "1.16365 Masters degree 283 15.01%\n",
    "1.98437 Doctorate degree 89 4.72%\n",
    "Descriptive statistics\n",
    "Min Max Mean Std.dev.\n",
    "-2.43591 1.98437 -0.00379 0.95004\n",
    "\n",
    "5. Country (Real) is country of current residence of participant and has one of the values:\n",
    "Value Meaning Cases Fraction\n",
    "-0.09765 Australia 54 2.86%\n",
    "0.24923 Canada 87 4.62%\n",
    "-0.46841 New Zealand 5 0.27%\n",
    "-0.28519 Other 118 6.26%\n",
    "0.21128 Republic of Ireland 20 1.06%\n",
    "0.96082 UK 1044 55.38%\n",
    "-0.57009 USA 557 29.55%\n",
    "Descriptive statistics\n",
    "Min Max Mean Std.dev.\n",
    "-0.57009 0.96082 0.35554 0.70015\n",
    "\n",
    "6. Ethnicity (Real) is ethnicity of participant and has one of the values:\n",
    "Value Meaning Cases Fraction\n",
    "-0.50212 Asian 26 1.38%\n",
    "-1.10702 Black 33 1.75%\n",
    "1.90725 Mixed-Black/Asian 3 0.16%\n",
    "0.12600 Mixed-White/Asian 20 1.06%\n",
    "-0.22166 Mixed-White/Black 20 1.06%\n",
    "0.11440 Other 63 3.34%\n",
    "-0.31685 White 1720 91.25%\n",
    "Descriptive statistics\n",
    "Min Max Mean Std.dev.\n",
    "-1.10702 1.90725 -0.30958 0.16618\n",
    "\n",
    "7. Nscore (Real) is NEO-FFI-R Neuroticism. Possible values are presented in table below:\n",
    "Nscore Cases Value Nscore Cases Value Nscore Cases Value\n",
    "12 1 -3.46436 29 60 -0.67825 46 67 1.02119\n",
    "13 1 -3.15735 30 61 -0.58016 47 27 1.13281\n",
    "14 7 -2.75696 31 87 -0.46725 48 49 1.23461\n",
    "15 4 -2.52197 32 78 -0.34799 49 40 1.37297\n",
    "16 3 -2.42317 33 68 -0.24649 50 24 1.49158\n",
    "17 4 -2.34360 34 76 -0.14882 51 27 1.60383\n",
    "18 10 -2.21844 35 69 -0.05188 52 17 1.72012\n",
    "19 16 -2.05048 36 73 0.04257 53 20 1.83990\n",
    "20 24 -1.86962 37 67 0.13606 54 15 1.98437\n",
    "21 31 -1.69163 38 63 0.22393 55 11 2.12700\n",
    "22 26 -1.55078 39 66 0.31287 56 10 2.28554\n",
    "23 29 -1.43907 40 80 0.41667 57 6 2.46262\n",
    "24 35 -1.32828 41 61 0.52135 58 3 2.61139\n",
    "25 56 -1.19430 42 77 0.62967 59 5 2.82196\n",
    "26 57 -1.05308 43 49 0.73545 60 2 3.27393\n",
    "27 65 -0.92104 44 51 0.82562\n",
    "28 70 -0.79151 45 37 0.91093\n",
    "Descriptive statistics\n",
    "Min Max Mean Std.dev.\n",
    "-3.46436 3.27393 0.00004 0.99808\n",
    "\n",
    "8. Escore (Real) is NEO-FFI-R Extraversion. Possible values are presented in table below:\n",
    "Escore Cases Value Escore Cases Value Escore Cases Value\n",
    "16 2 -3.27393 31 55 -1.23177 45 91 0.80523\n",
    "18 1 -3.00537 32 52 -1.09207 46 69 0.96248\n",
    "19 6 -2.72827 33 77 -0.94779 47 64 1.11406\n",
    "20 3 -2.53830 34 68 -0.80615 48 62 1.28610\n",
    "21 3 -2.44904 35 58 -0.69509 49 37 1.45421\n",
    "22 8 -2.32338 36 89 -0.57545 50 25 1.58487\n",
    "23 5 -2.21069 37 90 -0.43999 51 34 1.74091\n",
    "24 9 -2.11437 38 106 -0.30033 52 21 1.93886\n",
    "25 4 -2.03972 39 107 -0.15487 53 15 2.12700\n",
    "26 21 -1.92173 40 130 0.00332 54 10 2.32338\n",
    "27 23 -1.76250 41 116 0.16767 55 9 2.57309\n",
    "28 23 -1.63340 42 109 0.32197 56 2 2.85950\n",
    "29 32 -1.50796 43 105 0.47617 58 1 3.00537\n",
    "30 38 -1.37639 44 103 0.63779 59 2 3.27393\n",
    "Descriptive statistics\n",
    "Min Max Mean Std.dev.\n",
    "-3.27393 3.27393 -0.00016 0.99745\n",
    "\n",
    "9. Oscore (Real) is NEO-FFI-R Openness to experience. Possible values are presented in table below:\n",
    "Oscore Cases Value Oscore Cases Value Oscore Cases Value\n",
    "24 2 -3.27393 38 64 -1.11902 50 83 0.58331\n",
    "26 4 -2.85950 39 60 -0.97631 51 87 0.72330\n",
    "28 4 -2.63199 40 68 -0.84732 52 87 0.88309\n",
    "29 11 -2.39883 41 76 -0.71727 53 81 1.06238\n",
    "30 9 -2.21069 42 87 -0.58331 54 57 1.24033\n",
    "31 9 -2.09015 43 86 -0.45174 55 63 1.43533\n",
    "32 13 -1.97495 44 101 -0.31776 56 38 1.65653\n",
    "33 23 -1.82919 45 103 -0.17779 57 34 1.88511\n",
    "34 25 -1.68062 46 134 -0.01928 58 19 2.15324\n",
    "35 26 -1.55521 47 107 0.14143 59 13 2.44904\n",
    "36 39 -1.42424 48 116 0.29338 60 7 2.90161\n",
    "37 51 -1.27553 49 98 0.44585\n",
    "Descriptive statistics\n",
    "Min Max Mean Std.dev.\n",
    "-3.27393 2.90161 -0.00053 0.99623\n",
    "\n",
    "10. Ascore (Real) is NEO-FFI-R Agreeableness. Possible values are presented in table below:\n",
    "Ascore Cases Value Ascore Cases Value Ascore Cases Value\n",
    "12 1 -3.46436 34 42 -1.34289 48 104 0.76096\n",
    "16 1 -3.15735 35 45 -1.21213 49 85 0.94156\n",
    "18 1 -3.00537 36 62 -1.07533 50 68 1.11406\n",
    "23 1 -2.90161 37 83 -0.91699 51 58 1.2861\n",
    "24 2 -2.78793 38 82 -0.76096 52 39 1.45039\n",
    "25 1 -2.70172 39 102 -0.60633 53 36 1.61108\n",
    "26 7 -2.53830 40 98 -0.45321 54 36 1.81866\n",
    "27 7 -2.35413 41 114 -0.30172 55 16 2.03972\n",
    "28 8 -2.21844 42 101 -0.15487 56 14 2.23427\n",
    "29 13 -2.07848 43 105 -0.01729 57 8 2.46262\n",
    "30 18 -1.92595 44 118 0.13136 58 7 2.75696\n",
    "31 24 -1.77200 45 112 0.28783 59 1 3.15735\n",
    "32 30 -1.62090 46 100 0.43852 60 1 3.46436\n",
    "33 34 -1.47955 47 100 0.59042\n",
    "Descriptive statistics\n",
    "Min Max Mean Std.dev.\n",
    "-3.46436 3.46436 -0.00024 0.99744\n",
    "\n",
    "11. Cscore (Real) is NEO-FFI-R Conscientiousness. Possible values are presented in table below:\n",
    "Cscore Cases Value Cscore Cases Value Cscore Cases Value\n",
    "17 1 -3.46436 32 39 -1.25773 46 113 0.58489\n",
    "19 1 -3.15735 33 49 -1.13788 47 95 0.7583\n",
    "20 3 -2.90161 34 55 -1.01450 48 95 0.93949\n",
    "21 2 -2.72827 35 55 -0.89891 49 76 1.13407\n",
    "22 5 -2.57309 36 69 -0.78155 50 47 1.30612\n",
    "23 5 -2.42317 37 81 -0.65253 51 43 1.46191\n",
    "24 6 -2.30408 38 77 -0.52745 52 34 1.63088\n",
    "25 9 -2.18109 39 87 -0.40581 53 28 1.81175\n",
    "26 13 -2.04506 40 97 -0.27607 54 27 2.04506\n",
    "27 13 -1.92173 41 99 -0.14277 55 13 2.33337\n",
    "28 25 -1.78169 42 105 -0.00665 56 8 2.63199\n",
    "29 24 -1.64101 43 90 0.12331 57 3 3.00537\n",
    "30 29 -1.51840 44 111 0.25953 59 1 3.46436\n",
    "31 41 -1.38502 45 111 0.41594\n",
    "Descriptive statistics\n",
    "Min Max Mean Std.dev.\n",
    "-3.46436 3.46436 -0.00039 0.99752\n",
    "\n",
    "12. Impulsive (Real) is impulsiveness measured by BIS-11. Possible values are presented in table below:\n",
    "Impulsiveness Cases Fraction\n",
    "-2.55524 20 1.06%\n",
    "-1.37983 276 14.64%\n",
    "-0.71126 307 16.29%\n",
    "-0.21712 355 18.83%\n",
    "0.19268 257 13.63%\n",
    "0.52975 216 11.46%\n",
    "0.88113 195 10.34%\n",
    "1.29221 148 7.85%\n",
    "1.86203 104 5.52%\n",
    "2.90161 7 0.37%\n",
    "Descriptive statistics\n",
    "Min Max Mean Std.dev.\n",
    "-2.55524 2.90161 0.00721 0.95446\n",
    "\n",
    "13. SS (Real) is sensation seeing measured by ImpSS. Possible values are presented in table below:\n",
    "SS Cases Fraction\n",
    "-2.07848 71 3.77%\n",
    "-1.54858 87 4.62%\n",
    "-1.18084 132 7.00%\n",
    "-0.84637 169 8.97%\n",
    "-0.52593 211 11.19%\n",
    "-0.21575 223 11.83%\n",
    "0.07987 219 11.62%\n",
    "0.40148 249 13.21%\n",
    "0.76540 211 11.19%\n",
    "1.22470 210 11.14%\n",
    "1.92173 103 5.46%\n",
    "Descriptive statistics\n",
    "Min Max Mean Std.dev.\n",
    "-2.07848 1.92173 -0.00329 0.96370\n",
    "\n",
    "14. Alcohol is class of alcohol consumption. It is output attribute with following distribution of classes.\n",
    "\n",
    "15. Amphet is class of amphetamines consumption. It is output attribute with following distribution of classes.\n",
    "\n",
    "16. Amyl is class of amyl nitrite consumption. It is output attribute with following distribution of classes.\n",
    "\n",
    "17. Benzos is class of benzodiazepine consumption. It is output attribute with following distribution of classes:\n",
    "Value Class Alcohol Amphet Amyl Benzos\n",
    "Cases Fraction Cases Fraction Cases Fraction Cases Fraction\n",
    "CL0 Never Used 34 1.80% 976 51.78% 1305 69.23% 1000 53.05%\n",
    "CL1 Used over a Decade Ago 34 1.80% 230 12.20% 210 11.14% 116 6.15%\n",
    "CL2 Used in Last Decade 68 3.61% 243 12.89% 237 12.57% 234 12.41%\n",
    "CL3 Used in Last Year 198 10.50% 198 10.50% 92 4.88% 236 12.52%\n",
    "CL4 Used in Last Month 287 15.23% 75 3.98% 24 1.27% 120 6.37%\n",
    "CL5 Used in Last Week 759 40.27% 61 3.24% 14 0.74% 84 4.46%\n",
    "CL6 Used in Last Day 505 26.79% 102 5.41% 3 0.16% 95 5.04%\n",
    "\n",
    "18. Caff is class of caffeine consumption. It is output attribute with following distribution of classes.\n",
    "\n",
    "19. Cannabis is class of cannabis consumption. It is output attribute with following distribution of classes.\n",
    "\n",
    "20. Choc is class of chocolate consumption. It is output attribute with following distribution of classes.\n",
    "\n",
    "21. Coke is class of cocaine consumption. It is output attribute with following distribution of classes:\n",
    "Value Class Caff Cannabis Choc Coke\n",
    "Cases Fraction Cases Fraction Cases Fraction Cases Fraction\n",
    "CL0 Never Used 27 1.43% 413 21.91% 32 1.70% 1038 55.07%\n",
    "CL1 Used over a Decade Ago 10 0.53% 207 10.98% 3 0.16% 160 8.49%\n",
    "CL2 Used in Last Decade 24 1.27% 266 14.11% 10 0.53% 270 14.32%\n",
    "CL3 Used in Last Year 60 3.18% 211 11.19% 54 2.86% 258 13.69%\n",
    "CL4 Used in Last Month 106 5.62% 140 7.43% 296 15.70% 99 5.25%\n",
    "CL5 Used in Last Week 273 14.48% 185 9.81% 683 36.23% 41 2.18%\n",
    "CL6 Used in Last Day 1385 73.47% 463 24.56% 807 42.81% 19 1.01%\n",
    "\n",
    "22. Crack is class of crack consumption. It is output attribute with following distribution of classes.\n",
    "\n",
    "23. Ecstasy is class of ecstasy consumption. It is output attribute with following distribution of classes.\n",
    "\n",
    "24. Heroin is class of heroin consumption. It is output attribute with following distribution of classes.\n",
    "\n",
    "25. Ketamine is class of ketamine consumption. It is output attribute with following distribution of classes:\n",
    "Value Class Crack Ecstasy Heroin Ketamine\n",
    "Cases Fraction Cases Fraction Cases Fraction Cases Fraction\n",
    "CL0 Never Used 1627 86.31% 1021 54.16% 1605 85.15% 1490 79.05%\n",
    "CL1 Used over a Decade Ago 67 3.55% 113 5.99% 68 3.61% 45 2.39%\n",
    "CL2 Used in Last Decade 112 5.94% 234 12.41% 94 4.99% 142 7.53%\n",
    "CL3 Used in Last Year 59 3.13% 277 14.69% 65 3.45% 129 6.84%\n",
    "CL4 Used in Last Month 9 0.48% 156 8.28% 24 1.27% 42 2.23%\n",
    "CL5 Used in Last Week 9 0.48% 63 3.34% 16 0.85% 33 1.75%\n",
    "CL6 Used in Last Day 2 0.11% 21 1.11% 13 0.69% 4 0.21%\n",
    "\n",
    "26. Legalh is class of legal highs consumption. It is output attribute with following distribution of classes\n",
    "\n",
    "27. LSD is class of alcohol consumption. It is output attribute with following distribution of classes\n",
    "\n",
    "28. Meth is class of methadone consumption. It is output attribute with following distribution of classes.\n",
    "\n",
    "29. Mushrooms is class of magic mushrooms consumption. It is output attribute with following distribution of classes:\n",
    "Value Class Legalh LSD Meth Mushrooms\n",
    "Cases Fraction Cases Fraction Cases Fraction Cases Fraction\n",
    "CL0 Never Used 1094 58.04% 1069 56.71% 1429 75.81% 982 52.10%\n",
    "CL1 Used over a Decade Ago 29 1.54% 259 13.74% 39 2.07% 209 11.09%\n",
    "CL2 Used in Last Decade 198 10.50% 177 9.39% 97 5.15% 260 13.79%\n",
    "CL3 Used in Last Year 323 17.14% 214 11.35% 149 7.90% 275 14.59%\n",
    "CL4 Used in Last Month 110 5.84% 97 5.15% 50 2.65% 115 6.10%\n",
    "CL5 Used in Last Week 64 3.40% 56 2.97% 48 2.55% 40 2.12%\n",
    "CL6 Used in Last Day 67 3.55% 13 0.69% 73 3.87% 4 0.21%\n",
    "\n",
    "30. Nicotine is class of nicotine consumption. It is output attribute with following distribution of classes.\n",
    "\n",
    "31. Semer is class of fictitious drug Semeron consumption. It is output attribute with following distribution of classes.\n",
    "\n",
    "32. VSA is class of volatile substance abuse consumption. It is output attribute with following distribution of classes:\n",
    "Value Class Nicotine S'''"
   ]
  },
  {
   "cell_type": "markdown",
   "metadata": {},
   "source": [
    "---"
   ]
  },
  {
   "cell_type": "markdown",
   "metadata": {},
   "source": [
    "# Loading Data"
   ]
  },
  {
   "cell_type": "code",
   "execution_count": 209,
   "metadata": {},
   "outputs": [],
   "source": [
    "drug = pd.read_csv('data/drug_use.csv')"
   ]
  },
  {
   "cell_type": "markdown",
   "metadata": {},
   "source": [
    "---"
   ]
  },
  {
   "cell_type": "markdown",
   "metadata": {},
   "source": [
    "# Feature Groups"
   ]
  },
  {
   "cell_type": "code",
   "execution_count": 210,
   "metadata": {},
   "outputs": [],
   "source": [
    "socio = drug.columns[:6].tolist()\n",
    "psych = drug.columns[6:13].tolist()\n",
    "drugs = drug.columns[13:].tolist()"
   ]
  },
  {
   "cell_type": "code",
   "execution_count": 211,
   "metadata": {},
   "outputs": [
    {
     "data": {
      "text/plain": [
       "['ID', 'Age', 'Gender', 'Education', 'Country', 'Ethnicity']"
      ]
     },
     "execution_count": 211,
     "metadata": {},
     "output_type": "execute_result"
    }
   ],
   "source": [
    "socio"
   ]
  },
  {
   "cell_type": "code",
   "execution_count": 212,
   "metadata": {},
   "outputs": [
    {
     "data": {
      "text/plain": [
       "['Nscore', 'Escore', 'Oscore', 'Ascore', 'Cscore', 'Impulsive', 'SS']"
      ]
     },
     "execution_count": 212,
     "metadata": {},
     "output_type": "execute_result"
    }
   ],
   "source": [
    "psych"
   ]
  },
  {
   "cell_type": "code",
   "execution_count": 213,
   "metadata": {},
   "outputs": [
    {
     "name": "stdout",
     "output_type": "stream",
     "text": [
      "['Alcohol', 'Amphet', 'Amyl', 'Benzos', 'Caff', 'Cannabis', 'Choc', 'Coke', 'Crack', 'Ecstasy', 'Heroin', 'Ketamine', 'Legalh', 'LSD', 'Meth', 'Mushrooms', 'Nicotine', 'Semer', 'VSA']\n"
     ]
    }
   ],
   "source": [
    "print(drugs)"
   ]
  },
  {
   "cell_type": "markdown",
   "metadata": {},
   "source": [
    "---"
   ]
  },
  {
   "cell_type": "markdown",
   "metadata": {},
   "source": [
    "# Extracting Feature Classes"
   ]
  },
  {
   "cell_type": "code",
   "execution_count": 214,
   "metadata": {},
   "outputs": [],
   "source": [
    "features_text = text.split('\\n\\n')"
   ]
  },
  {
   "cell_type": "code",
   "execution_count": 215,
   "metadata": {},
   "outputs": [],
   "source": [
    "drug_rows = features_text[16].split('\\n')[3:]\n",
    "\n",
    "drug_classes = {}\n",
    "for row in drug_rows:\n",
    "    \n",
    "    row_items = row.split(' ')\n",
    "    class_key = row_items[0]\n",
    "    drug_class = ' '.join(row_items[1:-8])\n",
    "\n",
    "    drug_classes[ class_key ] = drug_class"
   ]
  },
  {
   "cell_type": "code",
   "execution_count": 216,
   "metadata": {},
   "outputs": [],
   "source": [
    "socio_classes = {}\n",
    "\n",
    "for i in range(1,6):\n",
    "    feature_categories = features_text[i].split('\\n')[2:-3]\n",
    "\n",
    "    socio_classes[ socio[i] ] = {}\n",
    "    for row in feature_categories:\n",
    "        row_items = row.split(' ')        \n",
    "        ctgr_key = round( float(row_items[0]), 5 )\n",
    "        category = ' '.join(row_items[1:-2])\n",
    "        \n",
    "        socio_classes[ socio[i] ][ ctgr_key ] = category"
   ]
  },
  {
   "cell_type": "code",
   "execution_count": 283,
   "metadata": {},
   "outputs": [],
   "source": [
    "import json"
   ]
  },
  {
   "cell_type": "markdown",
   "metadata": {},
   "source": [
    "### Drug Consumption & Socioeconomic Classes"
   ]
  },
  {
   "cell_type": "code",
   "execution_count": 295,
   "metadata": {},
   "outputs": [
    {
     "data": {
      "text/plain": [
       "{'CL0': 'Never Used',\n",
       " 'CL1': 'Used over a Decade Ago',\n",
       " 'CL2': 'Used in Last Decade',\n",
       " 'CL3': 'Used in Last Year',\n",
       " 'CL4': 'Used in Last Month',\n",
       " 'CL5': 'Used in Last Week',\n",
       " 'CL6': 'Used in Last Day'}"
      ]
     },
     "execution_count": 295,
     "metadata": {},
     "output_type": "execute_result"
    }
   ],
   "source": [
    "with open('DrugConsumptionClasses.json', 'w') as outfile:\n",
    "    \n",
    "    json.dump(drug_classes, outfile)\n",
    "\n",
    "drug_classes"
   ]
  },
  {
   "cell_type": "code",
   "execution_count": 297,
   "metadata": {},
   "outputs": [
    {
     "data": {
      "text/plain": [
       "{'Age': {-0.95197: '18-24',\n",
       "  -0.07854: '25-34',\n",
       "  0.49788: '35-44',\n",
       "  1.09449: '45-54',\n",
       "  1.82213: '55-64',\n",
       "  2.59171: '65+'},\n",
       " 'Gender': {0.48246: 'Female', -0.48246: 'Male'},\n",
       " 'Education': {-2.43591: 'Left school before 16 years',\n",
       "  -1.7379: 'Left school at 16 years',\n",
       "  -1.43719: 'Left school at 17 years',\n",
       "  -1.22751: 'Left school at 18 years',\n",
       "  -0.61113: 'Some college or university, no certificate or degree',\n",
       "  -0.05921: 'Professional certificate/ diploma',\n",
       "  0.45468: 'University degree',\n",
       "  1.16365: 'Masters degree',\n",
       "  1.98437: 'Doctorate degree'},\n",
       " 'Country': {-0.09765: 'Australia',\n",
       "  0.24923: 'Canada',\n",
       "  -0.46841: 'New Zealand',\n",
       "  -0.28519: 'Other',\n",
       "  0.21128: 'Republic of Ireland',\n",
       "  0.96082: 'UK',\n",
       "  -0.57009: 'USA'},\n",
       " 'Ethnicity': {-0.50212: 'Asian',\n",
       "  -1.10702: 'Black',\n",
       "  1.90725: 'Mixed-Black/Asian',\n",
       "  0.126: 'Mixed-White/Asian',\n",
       "  -0.22166: 'Mixed-White/Black',\n",
       "  0.1144: 'Other',\n",
       "  -0.31685: 'White'}}"
      ]
     },
     "execution_count": 297,
     "metadata": {},
     "output_type": "execute_result"
    }
   ],
   "source": [
    "with open('SocioeconomicClasses.json', 'w') as outfile:\n",
    "    \n",
    "    json.dump(socio_classes, outfile)\n",
    "\n",
    "socio_classes"
   ]
  },
  {
   "cell_type": "markdown",
   "metadata": {},
   "source": [
    "---"
   ]
  },
  {
   "cell_type": "markdown",
   "metadata": {},
   "source": [
    "# Classes Verification and Mapping"
   ]
  },
  {
   "cell_type": "code",
   "execution_count": 185,
   "metadata": {},
   "outputs": [],
   "source": [
    "drug_label = drug.copy()\n",
    "ctgr_map = lambda key: socio_classes[col][key]\n",
    "\n",
    "check = {}\n",
    "for col in socio_classes.keys():\n",
    "    \n",
    "    # Class Checker -----------------------------------------\n",
    "    actual_classes = set( socio_classes[col].keys() )\n",
    "    col_classes = set( drug[col].round(5) )\n",
    "    intersection = set(col_classes).intersection(actual_classes)\n",
    "    \n",
    "    check[col] = intersection==col_classes==actual_classes\n",
    "    \n",
    "    # Column Classes Formating ---------------------------------  \n",
    "    drug_label[col] =  list( map(ctgr_map, drug[col].round(5)) )"
   ]
  },
  {
   "cell_type": "code",
   "execution_count": 186,
   "metadata": {},
   "outputs": [
    {
     "data": {
      "text/plain": [
       "{'Age': True,\n",
       " 'Gender': True,\n",
       " 'Education': True,\n",
       " 'Country': True,\n",
       " 'Ethnicity': True}"
      ]
     },
     "execution_count": 186,
     "metadata": {},
     "output_type": "execute_result"
    }
   ],
   "source": [
    "check"
   ]
  },
  {
   "cell_type": "markdown",
   "metadata": {},
   "source": [
    "---"
   ]
  },
  {
   "cell_type": "markdown",
   "metadata": {},
   "source": [
    "# Saving Clean Dataset"
   ]
  },
  {
   "cell_type": "code",
   "execution_count": 225,
   "metadata": {},
   "outputs": [],
   "source": [
    "# drug_label.to_csv('data/drug_use_clean.csv', index=False)"
   ]
  },
  {
   "cell_type": "code",
   "execution_count": 264,
   "metadata": {},
   "outputs": [],
   "source": [
    "data = pd.read_csv('data/drug_use_clean.csv')"
   ]
  },
  {
   "cell_type": "code",
   "execution_count": 267,
   "metadata": {},
   "outputs": [],
   "source": [
    "socio = data.columns[:6].tolist()\n",
    "psych = data.columns[6:13].tolist()\n",
    "drugs = data.columns[13:].tolist()"
   ]
  },
  {
   "cell_type": "markdown",
   "metadata": {},
   "source": [
    "---"
   ]
  }
 ],
 "metadata": {
  "kernelspec": {
   "display_name": "Python 3",
   "language": "python",
   "name": "python3"
  },
  "language_info": {
   "codemirror_mode": {
    "name": "ipython",
    "version": 3
   },
   "file_extension": ".py",
   "mimetype": "text/x-python",
   "name": "python",
   "nbconvert_exporter": "python",
   "pygments_lexer": "ipython3",
   "version": "3.8.3"
  }
 },
 "nbformat": 4,
 "nbformat_minor": 4
}
