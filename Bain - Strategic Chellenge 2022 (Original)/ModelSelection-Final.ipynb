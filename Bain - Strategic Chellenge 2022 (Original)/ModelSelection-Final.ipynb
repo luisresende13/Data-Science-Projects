{
 "cells": [
  {
   "cell_type": "markdown",
   "metadata": {},
   "source": [
    "---\n",
    "# 0. Preparing environment"
   ]
  },
  {
   "cell_type": "markdown",
   "metadata": {},
   "source": [
    "### 0.1 Importing modules"
   ]
  },
  {
   "cell_type": "code",
   "execution_count": 6,
   "metadata": {},
   "outputs": [],
   "source": [
    "# Uncoment to install packages\n",
    "# !pip install pmdarima\n",
    "# !pip install tbats\n",
    "\n",
    "import os\n",
    "import pandas as pd \n",
    "import numpy as np; np.random.seed(25486)\n",
    "import matplotlib.pyplot as plt\n",
    "import seaborn as sns; sns.set()\n",
    "from IPython.display import clear_output as co\n",
    "import warnings; warnings.filterwarnings('ignore')\n",
    "import pickle\n",
    "import json\n",
    "import sklearn.preprocessing\n",
    "import sklearn.model_selection\n",
    "import sklearn.metrics\n",
    "import sklearn.utils\n",
    "\n",
    "from statsmodels.tsa.ar_model import AutoReg\n",
    "from statsmodels.tsa.arima.model import ARIMA\n",
    "from statsmodels.tsa.statespace.sarimax import SARIMAX\n",
    "from statsmodels.tsa.vector_ar.var_model import VAR\n",
    "from statsmodels.tsa.statespace.varmax import VARMAX\n",
    "from pmdarima.arima import auto_arima\n",
    "from tbats import TBATS\n",
    "\n",
    "import tools # Custom module"
   ]
  },
  {
   "cell_type": "markdown",
   "metadata": {},
   "source": [
    "### 0.2 Defining metrics to evaluate predictive models"
   ]
  },
  {
   "cell_type": "code",
   "execution_count": 7,
   "metadata": {},
   "outputs": [],
   "source": [
    "le = sklearn.preprocessing.LabelEncoder\n",
    "metrics = sklearn.metrics._regression\n",
    "mae = metrics.mean_absolute_error\n",
    "mse = metrics.mean_squared_error\n",
    "mape = metrics.mean_absolute_percentage_error\n",
    "r2 = metrics.r2_score\n",
    "me = metrics.max_error\n",
    "medae = metrics.median_absolute_error\n",
    "evs = metrics.explained_variance_score\n",
    "mpd = metrics.mean_poisson_deviance\n",
    "mgd = metrics.mean_gamma_deviance\n",
    "\n",
    "def wape(ye, yhat):\n",
    "    return np.abs(ye-yhat).sum()/ye.sum()\n",
    "def e(ye, yhat):\n",
    "    return np.abs(yhat-ye).sum()\n",
    "def estd(ye, yhat):\n",
    "    return np.abs(yhat-ye).std()"
   ]
  },
  {
   "cell_type": "markdown",
   "metadata": {},
   "source": [
    "### 0.3 Defining functions"
   ]
  },
  {
   "cell_type": "code",
   "execution_count": 8,
   "metadata": {},
   "outputs": [],
   "source": [
    "def get_lab_series(series, data, target='area', index_col='year', n_min=3):\n",
    "    LE = le().fit(data[index_col])\n",
    "    lab_series = {}\n",
    "    for key in series.keys():\n",
    "        if len(series[key])>=n_min:\n",
    "            lab_series[key] = pd.Series(series[key][target].values, index=LE.transform(series[key][index_col]))\n",
    "    return lab_series\n",
    "\n",
    "def get_lab_indexed_series(series, data, cols=['index', 'area'], index_col='year', n_min=3):\n",
    "    LE = le().fit(data[index_col])\n",
    "    lab_ind_series = {}\n",
    "    for key in series.keys():\n",
    "        if len(series[key])>=n_min:\n",
    "            lab_ind_series[key] = pd.DataFrame(series[key].reset_index()[cols].values, columns=cols, index=LE.transform(series[key][index_col]))\n",
    "    return lab_ind_series\n",
    "\n",
    "class scoring:\n",
    "    def __init__(self, scorers, criteria_map):\n",
    "        self.scorers = scorers\n",
    "        self.criteria_map = criteria_map\n",
    "    def score(self, ye, yhat, metrics=['mae', 'mse', 'mape', 'wape', 'r2'], model_name='Predictive Model'):\n",
    "        return pd.Series([self.scorers[metric](ye, yhat) for metric in metrics], index=metrics, name=model_name)    \n",
    "    def score_by_product(self, ye, yhat, indexes, metrics=['mae', 'mse', 'mape', 'wape', 'r2'], model_name='Predictive Model'):\n",
    "        prod_scrs = []\n",
    "        for product in indexes.keys():\n",
    "            prod_index = indexes[product]\n",
    "            test_index = set(prod_index).intersection(yhat.index)\n",
    "            if len(test_index):\n",
    "                Ye, Yhat = ye.loc[test_index], yhat.loc[test_index]\n",
    "                scrs = self.score(Ye, Yhat, metrics, model_name=product)\n",
    "            else:\n",
    "                scrs = pd.Series([np.nan]*len(metrics), index=metrics, name=product)\n",
    "            prod_scrs.append(scrs)\n",
    "        prod_scrs_df = pd.concat(prod_scrs, 1)\n",
    "        prod_scrs_df.index.name = model_name\n",
    "        return prod_scrs_df\n",
    "\n",
    "def split_serie(serie, train_size, test_size):\n",
    "    train = serie.iloc[:train_size]\n",
    "    test = serie.iloc[train_size : train_size+test_size]\n",
    "    xt, yt = train.index.values.reshape(-1, 1), train.values\n",
    "    xe, ye = test.index.values.reshape(-1, 1), test.values\n",
    "    return xt, yt, xe, ye\n",
    "\n",
    "def fit_predict(model, xt, yt, xe):\n",
    "    model_fit = model().fit(xt, yt)\n",
    "    return model_fit.predict(xe)\n",
    "\n",
    "def predict_by_model_name(model, model_name, xt, yt, xe, specialized_models):\n",
    "    x_min = len(yt)\n",
    "    x_max = x_min+len(xe)-1\n",
    "    if model_name not in specialized_models:\n",
    "        return fit_predict(model, xt, yt, xe)\n",
    "    elif model_name=='AutoReg':\n",
    "        return AutoReg_predict(yt, x_min, x_max)\n",
    "    elif model_name=='ARIMA':\n",
    "        return predict_arima(yt, x_min, x_max)\n",
    "    elif model_name=='SARIMAX':\n",
    "        return predict_SARIMAX(yt, x_min, x_max)\n",
    "    elif model_name=='AutoArima':\n",
    "        return predict_auto_arima(yt, x_min, x_max)\n",
    "    elif model_name=='TBATS':\n",
    "        return predict_tbats(yt, x_min, x_max)\n",
    "    \n",
    "def score_model_for_serie(model, serie, train_size, test_size, metrics, model_name, specialized_models):\n",
    "    xt, yt, xe, ye = split_serie(serie, train_size, test_size)\n",
    "#     yhat = fit_predict(model, xt, yt, xe)\n",
    "    yhat = predict_by_model_name(model, model_name, xt, yt, xe, specialized_models)\n",
    "    if yhat is None:\n",
    "        return None\n",
    "    else:\n",
    "        return Scoring.score(ye, yhat, metrics, model_name)\n",
    "\n",
    "def learning_curve(\n",
    "    model, serie, test_size=2, min_train_size=1,\n",
    "    metrics=['mae', 'mse', 'mape', 'wape', 'r2'],\n",
    "    model_name='Predictive Model',\n",
    "    specialized_models=['AutoReg', 'ARIMA', 'SARIMAX', 'AutoArima']\n",
    "):\n",
    "    scores = []\n",
    "    n = len(serie)\n",
    "    train_size_i = range(min_train_size, n-test_size+1)\n",
    "    for train_size in train_size_i:\n",
    "        score = score_model_for_serie(model, serie, train_size, test_size, metrics, model_name, specialized_models)\n",
    "        if score is None:\n",
    "            score = pd.Series([np.nan]*len(metrics), index=metrics, name=model_name)\n",
    "        scores.append(score)\n",
    "    scores_df = pd.concat(scores, 1).T\n",
    "    scores_df.index = train_size_i\n",
    "    scores_df.columns.name = model_name\n",
    "    scores_df.index.name = 'train size'\n",
    "    return scores_df\n",
    "\n",
    "def plot_learning_curves(lc):\n",
    "    ax = plt.figure(figsize=(5, 3*lc.shape[1]), tight_layout=True).add_subplot()\n",
    "    lc.plot(subplots=True, ax=ax)\n",
    "    plt.show()\n",
    "\n",
    "# Calculates learning curve scores averages by provided method\n",
    "def average_lc(lc_df,  avg_method='simple', min_train_size=1, weight_order=1):\n",
    "    if avg_method=='simple':\n",
    "        avg_lc = lc_df.mean()\n",
    "    elif avg_method=='min_train_size':\n",
    "        avg_lc = lc_df.loc[min_train_size:].mean()\n",
    "    elif avg_method=='weighted':\n",
    "        n = len(lc_df)\n",
    "        weights = np.linspace(1/n, 1, n)**weight_order\n",
    "        avg_lc = lc_df.T.dot(weights)/sum(weights)\n",
    "    elif avg_method=='train_size_weighted':\n",
    "        weights = lc_df.index.values**weight_order\n",
    "        avg_lc = lc_df.T.dot(weights)/sum(weights)\n",
    "    avg_lc.name = lc_df.columns.name\n",
    "    return avg_lc\n",
    "\n",
    "def models_lc(\n",
    "    models_names, regressors, serie, test_size=2, min_train_size=1,\n",
    "    metrics=['mae', 'mse', 'mape', 'wape', 'r2'],\n",
    "    avg_method='simple', avg_min_train_size=1, weight_order=1, verbose=1,\n",
    "    specialized_models=['AutoReg', 'ARIMA', 'SARIMAX', 'AutoArima'],\n",
    "    spec_min_train_size = {'AutoReg': 3 , 'ARIMA': 2, 'SARIMAX': 2, 'AutoArima': 3,  'TBATS': 0}\n",
    "):\n",
    "    default_min_train_size = min_train_size + 0\n",
    "    avg_lc_i = []\n",
    "    n_models = len(models_names)\n",
    "    for i, model_name in enumerate(models_names):\n",
    "        if model_name in specialized_models:\n",
    "            if (len(serie) - test_size) <= spec_min_train_size[model_name]:\n",
    "                continue\n",
    "            else:\n",
    "                min_train_size = spec_min_train_size[model_name] + 1\n",
    "            model = None\n",
    "        else:\n",
    "            min_train_size = default_min_train_size\n",
    "            model = regressors[model_name]\n",
    "        lc_df = learning_curve(model, serie, test_size, min_train_size, metrics, model_name, specialized_models)\n",
    "        avg_lc_i.append(average_lc(lc_df, avg_method, avg_min_train_size, weight_order))\n",
    "        if verbose: co(wait=True); print(f'Models scored: {i+1}/{n_models}')\n",
    "    return pd.concat(avg_lc_i, 1)\n",
    "\n",
    "def select_keys_models(\n",
    "    models_names, regressors, series, keys,\n",
    "    criteria, test_size=2, min_train_size=1,\n",
    "    metrics=['mae', 'mse', 'mape', 'wape', 'r2'],\n",
    "    avg_method='simple', avg_min_train_size=1,\n",
    "    weight_order=1, verbose=0, save=True,\n",
    "    path='models/key_model_maps/{}.json', filename='key_model_map_default',\n",
    "    specialized_models=['AutoReg', 'ARIMA', 'SARIMAX', 'AutoArima'],\n",
    "    spec_min_train_size = {'AutoReg': 3, 'ARIMA': 2, 'SARIMAX': 2, 'AutoArima': 3,  'TBATS': 0}\n",
    "):\n",
    "    keys_models = {}\n",
    "    keys_models_scrs = {}\n",
    "    for i, key in enumerate(keys):\n",
    "        serie = series[key].copy()\n",
    "        if len(serie) < (min_train_size + test_size): continue\n",
    "        key_models_lc = models_lc(\n",
    "            models_names, regressors, serie, test_size, min_train_size,\n",
    "            metrics, avg_method, avg_min_train_size, weight_order,\n",
    "            0, specialized_models, spec_min_train_size\n",
    "        )\n",
    "        top_model_name = key_models_lc.loc[[criteria]].T.sort_values(criteria).iloc[Scoring.criteria_map[criteria]].name\n",
    "        keys_models[key] = top_model_name\n",
    "        keys_models_scrs[key] = key_models_lc\n",
    "        if verbose: co(wait=True); print(f\"Keys scored: {i+1}/{len(keys)}\")\n",
    "    #### Saving key-model map\n",
    "    if save:\n",
    "        json.dump(keys_models, open(path.format(filename), 'w'))\n",
    "    return keys_models, keys_models_scrs\n",
    "\n",
    "def predict_custom_model_test_sequences(\n",
    "    series, keys_models, keys, n=44, test_size=2,\n",
    "    min_train_size=1, min_test_size=1, dropna=True,\n",
    "    specialized_models=['AutoReg', 'ARIMA', 'SARIMAX', 'AutoArima', 'VAR', 'TBATS'],\n",
    "    out_names = ['VAR', 'TBATS'],\n",
    "    old_names_dict = {'Yhat_AutoReg': 'AutoReg', 'Yhat_arima': 'ARIMA', 'Yhat_sarimax': 'SARIMAX', 'Yhat_var': 'VAR', 'Yhat_autoarima': 'AutoArima', 'Yhat_tbats': 'TBATS'}\n",
    "):\n",
    "    train_last_i = range(0, n-test_size)\n",
    "    yhat_i = {train_last+1: [] for train_last in train_last_i}\n",
    "    for i, key in enumerate(keys):\n",
    "        co(wait=True); print(f'Keys predicted: {i}/{len(keys)}')\n",
    "        model_name = keys_models[key]\n",
    "        serie = series[key].copy()\n",
    "        if model_name in list(old_names_dict.keys()): model_name = old_names_dict[model_name]\n",
    "        if model_name in specialized_models:\n",
    "            model = None\n",
    "            if model_name in out_names: model_name = 'ARIMA'\n",
    "        else:\n",
    "            model = regressors[model_name]\n",
    "        for train_last in train_last_i:\n",
    "            test_min = train_last+1\n",
    "            test_max = train_last+test_size                \n",
    "            train = serie.loc[:train_last]\n",
    "            test = serie.loc[test_min:test_max]\n",
    "            xe = np.array(range(test_min, test_max+1)).reshape(-1, 1)\n",
    "            true_index = [(test.loc[index]['index'] if index in test.index else np.nan) for index in xe.reshape(-1)]\n",
    "            empty_scrs = pd.Series([np.nan]*test_size, index=true_index)\n",
    "            if len(train) >= min_train_size and len(test) >= min_test_size:\n",
    "                xt, yt = train.index.values.reshape(-1, 1), train[target].values\n",
    "#                 yhat = model.fit(xt, yt).predict(xe)\n",
    "                yhat = predict_by_model_name(model, model_name, xt, yt, xe, specialized_models)\n",
    "                if yhat is None:\n",
    "                    yhat_i[train_last+1].append(empty_scrs)\n",
    "                else:\n",
    "                    yhat_i[train_last+1].append(pd.Series(yhat, index=true_index))\n",
    "            else:\n",
    "                yhat_i[train_last+1].append(empty_scrs)\n",
    "    for key in yhat_i.keys():\n",
    "        yhat_i[key] = pd.concat(yhat_i[key])\n",
    "        if dropna: yhat_i[key].dropna(inplace=True)\n",
    "    return yhat_i\n",
    "\n",
    "def score_indexed_prediction_by_product(\n",
    "    yhat, data, target, indexes, criteria='wape', avg=True,\n",
    "    metrics=['mae', 'estd', 'max_error', 'mse', 'wape', 'r2'],\n",
    "    model_name='Custom predictive model'\n",
    "):\n",
    "    test_index = set(yhat.dropna().index).intersection(data.dropna(subset=[target]).index)\n",
    "    Yhat = yhat.loc[test_index].copy()\n",
    "    Ye = data[target].loc[test_index].copy()\n",
    "    prod_scrs = Scoring.score_by_product(Yhat, Ye, indexes, metrics, model_name).loc[criteria]\n",
    "    prod_scrs.name = model_name\n",
    "    if avg: prod_scrs = prod_scrs.mean()\n",
    "    return prod_scrs\n",
    "\n",
    "def score_prediction_sequences(\n",
    "    yhat_i, data, indexes, target='area',\n",
    "    n=44, test_size=2, eval_criteria='wape', avg=False,\n",
    "    metrics=['mae', 'estd', 'max_error', 'mse', 'wape', 'r2']\n",
    "):\n",
    "    train_last_scrs = []\n",
    "    train_last_i = range(1, n-test_size+1)\n",
    "    for train_last in train_last_i:\n",
    "        yhat = yhat_i[train_last].copy()\n",
    "        train_last_scrs.append(score_indexed_prediction_by_product(\n",
    "            yhat, data, target, indexes, eval_criteria, avg,\n",
    "            metrics, train_last\n",
    "        ))\n",
    "    yhat_i_scrs = pd.DataFrame(train_last_scrs)\n",
    "    yhat_i_scrs.index.name = 'train last'\n",
    "    yhat_i_scrs.columns.name = eval_criteria\n",
    "    return yhat_i_scrs\n",
    "\n",
    "def weight_average(df, order):\n",
    "    matrix = df.dropna()\n",
    "    n_samples = len(matrix)\n",
    "    weights = np.linspace(1/n_samples, 1, n_samples)**order\n",
    "    return matrix.T.dot(weights)/sum(weights)\n",
    "\n",
    "def model_selection_params_optimization(\n",
    "    models_names, regressors, params_dict, \n",
    "    lab_series, keys, verbose=0, save=True,\n",
    "    path='models/key_model_maps/{}.json'\n",
    "):\n",
    "    if verbose: print('MODEL SELECTION PARAMS OPTIMIZATION'); print()\n",
    "    key_model_maps_dict = {}\n",
    "    key_model_maps_scrs = {}\n",
    "    for i, params_key in enumerate(params_dict.keys()):\n",
    "        if verbose: print(f'Evaluating parameters: {params_key} {i+1}/{len(params_dict)}')\n",
    "        key_model_maps_dict[params_key], key_model_maps_scrs[params_key] = select_keys_models(\n",
    "            models_names, regressors, lab_series, keys,\n",
    "            **params_dict[params_key], verbose=0, save=save,\n",
    "            path=path, filename=params_key\n",
    "        )\n",
    "    if verbose: co(wait=True); print(f'Done! Saved {len(params_dict)} key-model maps.')\n",
    "    return key_model_maps_dict, key_model_maps_scrs\n",
    "\n",
    "#### Loading key-model maps\n",
    "def load_key_model_maps(path='models/'):\n",
    "    maps_filenames = os.listdir(path)\n",
    "    maps = {}\n",
    "    for filename in maps_filenames:\n",
    "        if '.json' in filename:\n",
    "            maps[filename.split('.')[0]] = json.load(open(path+filename, 'r'))\n",
    "    maps_keys = list(maps.keys())\n",
    "    return maps, maps_keys\n",
    "\n",
    "#### Predicting with key-model map custom models\n",
    "def maps_predictions(\n",
    "    lab_ind_series, n, test_size, min_train_size,\n",
    "    min_test_size, dropna, path='models/key_model_maps/', save=True, # change 'min_test_size' to zero and 'dropna' to False to predict non-included test_samples (when n > n_max)\n",
    "    save_path='evaluation/scores/custom models/'\n",
    "):\n",
    "    maps, maps_keys = load_key_model_maps(path)\n",
    "    map_models_predictions = {}\n",
    "    for map_key in maps_keys:\n",
    "        map_model = maps[map_key]\n",
    "        sel_keys = list(map_model.keys())\n",
    "        y_hat_i = predict_custom_model_test_sequences(\n",
    "            lab_ind_series, map_model, sel_keys,\n",
    "            n, test_size, min_train_size,\n",
    "            min_test_size, dropna # change 'min_test_size' to zero and 'dropna' to False to predict non-included test_samples (when n > n_max)\n",
    "        )\n",
    "        if save:\n",
    "            folder_path = f'{save_path}{map_key}/'\n",
    "            if map_key not in os.listdir(save_path):\n",
    "                os.mkdir(folder_path)\n",
    "            for key in y_hat_i.keys():\n",
    "                y_hat_i[key].to_csv(folder_path + f'{key}.csv', index=True)\n",
    "        map_models_predictions[map_key] = y_hat_i\n",
    "    return map_models_predictions\n",
    "\n",
    "def load_csv_folder(path):\n",
    "    dfs = {}\n",
    "    files = os.listdir(path)\n",
    "    for file in files:\n",
    "        dfs[int(file.split('.')[0])] = pd.read_csv(path+file, index_col=0)['0']\n",
    "    return dfs\n",
    "\n",
    "def score_final_models(\n",
    "    data, prodtype_indexes, target, n,\n",
    "    test_size, eval_criteria, avg, metrics,\n",
    "    preds_path='evaluation/predictions/custom models/'\n",
    "):\n",
    "    preds_files = [file for file in os.listdir(preds_path) if '.' not in file]\n",
    "    preds_scrs = {}\n",
    "    for file in preds_files:    \n",
    "        yhat_i = load_csv_folder(preds_path+file+'/')\n",
    "        preds_scrs[file] = score_prediction_sequences(\n",
    "            yhat_i, data, prodtype_indexes, target,\n",
    "            n, test_size, eval_criteria, avg,\n",
    "            metrics\n",
    "        )\n",
    "    return preds_scrs\n",
    "\n",
    "### Functions to fit and predict with specialized models\n",
    "\n",
    "def AutoReg_predict(train, x_min=42, x_max=43, lags=1):\n",
    "    if len(train) <= 3: return np.array([np.nan for i in range(x_max-x_min+1)])\n",
    "    model = AutoReg(train, lags=lags)\n",
    "    # fit model\n",
    "    model_fit = model.fit()\n",
    "    # make prediction\n",
    "    return model_fit.predict(x_min, x_max)\n",
    "\n",
    "def predict_arima(train, x_min=42, x_max=43, order=(1,1,1)):\n",
    "    if len(train) <= 2: return np.array([np.nan for i in range(x_max-x_min+1)])\n",
    "    # fit model\n",
    "    model = ARIMA(train, order=order)\n",
    "    try:\n",
    "        model_fit = model.fit()\n",
    "        # make prediction\n",
    "        return model_fit.predict(x_min, x_max)\n",
    "    except:\n",
    "        return None\n",
    "        \n",
    "def predict_SARIMAX(train, x_min, x_max, order=(1,1,1), seasonal_order=(0,0,0,0), exog_train=None, exog_test=None):\n",
    "    if len(train) <= 2: return np.array([np.nan for i in range(x_max-x_min+1)])\n",
    "    # fit model\n",
    "    model = SARIMAX(train, exog=exog_train, order=order, seasonal_order=seasonal_order)\n",
    "    try:\n",
    "        model_fit = model.fit(disp=False)\n",
    "    # make prediction\n",
    "        return model_fit.predict(x_min, x_max, exog=exog_test)\n",
    "    except:\n",
    "        return None\n",
    "def predict_auto_arima(train, x_min, x_max):\n",
    "    n_periods = x_max - x_min + 1\n",
    "    if len(train) <= 3: return np.array([np.nan for i in range(x_max-x_min+1)])\n",
    "    model = auto_arima(train, seasonal=False)\n",
    "    try:\n",
    "        return model.predict(n_periods=n_periods)\n",
    "    except:\n",
    "        return None\n",
    "def predict_tbats(train, x_min, x_max):\n",
    "    steps = x_max - x_min + 1\n",
    "    model_tbats = TBATS().fit(train)\n",
    "    return model_tbats.forecast(steps=steps)"
   ]
  },
  {
   "cell_type": "markdown",
   "metadata": {},
   "source": [
    "# 1. Data Processing"
   ]
  },
  {
   "cell_type": "markdown",
   "metadata": {},
   "source": [
    "### 1.1 Loading clean data"
   ]
  },
  {
   "cell_type": "code",
   "execution_count": null,
   "metadata": {},
   "outputs": [],
   "source": [
    "data = pd.read_csv('data/clean/data.csv')\n",
    "series = tools.preprocess.load_series(path='data/clean/series/')"
   ]
  },
  {
   "cell_type": "markdown",
   "metadata": {},
   "source": [
    "#### 2.0.2 Extracting individual time series as pandas series indexed by integer encoded years\n",
    "\n",
    "##### Excluding series with less than n_min=3 values & including index colum in 'lab_ind_index' dataframes to reference each observation"
   ]
  },
  {
   "cell_type": "code",
   "execution_count": 4,
   "metadata": {},
   "outputs": [],
   "source": [
    "target = 'area'\n",
    "\n",
    "lab_series = get_lab_series(series, data, target, index_col='year', n_min=3)\n",
    "keys = list(lab_series.keys())\n",
    "lab_ind_series = get_lab_indexed_series(series, data, cols=['index', target], index_col='year', n_min=2)\n",
    "ind_keys = list(lab_ind_series.keys())"
   ]
  },
  {
   "cell_type": "markdown",
   "metadata": {},
   "source": [
    "#### 2.0.2 Setting local variables"
   ]
  },
  {
   "cell_type": "markdown",
   "metadata": {},
   "source": [
    "The 'prod_indexes' and 'prodtype_indexes' variables are dictionaries containing the series products or product types as keys and the index of the rows of each product/product type as values. It is going to be useful when scoring categories separatelly."
   ]
  },
  {
   "cell_type": "code",
   "execution_count": 5,
   "metadata": {},
   "outputs": [],
   "source": [
    "prodtypes = ['permanent', 'temporary', 'pasture']\n",
    "prods = [\n",
    "    'Rice', 'Beans', 'Cassava',\n",
    "    'Corn', 'Soy', 'Sorghum',\n",
    "    'Cocoa', 'Palm oil', 'Açaí',\n",
    "    'Livestock', 'Others-temporary', 'Others-permanent'\n",
    "]\n",
    "\n",
    "#### Extracting indexes of each product\n",
    "prod_indexes = tools.category_index.get_ctgr_combs_indexes(data, prods)\n",
    "#### Extracting indexes of each product type\n",
    "prodtype_indexes = tools.category_index.get_ctgrs_indexes(data)"
   ]
  },
  {
   "cell_type": "markdown",
   "metadata": {},
   "source": [
    "---\n",
    "# Modeling"
   ]
  },
  {
   "cell_type": "markdown",
   "metadata": {},
   "source": [
    "### 0.0 Setting variables and parameters for model evaluation and selection"
   ]
  },
  {
   "cell_type": "code",
   "execution_count": 6,
   "metadata": {},
   "outputs": [],
   "source": [
    "target = 'area' # \n",
    "# A mapping between each metric and a value representing wether the metric is optimized for lower or higher values (0 or -1).\n",
    "criteria_map = {'e': 0, 'estd': 0, 'max_error': 0, 'mae': 0, 'mse': 0, 'medae': 0, 'mape': 0, 'wape': 0, 'r2': -1, 'evs': -1}\n",
    "# An object ssociating each metric with its name\n",
    "scorers = {\n",
    "    'e': e, 'estd': estd, 'max_error': me, 'mae': mae, 'mse': mse,\n",
    "    'medae': medae, 'mape': mape, 'wape': wape, 'r2': r2, 'evs': evs\n",
    "}"
   ]
  },
  {
   "cell_type": "code",
   "execution_count": 7,
   "metadata": {},
   "outputs": [],
   "source": [
    "# An instance object of the scoring class containing scoring methods to be used be all scoring functions\n",
    "Scoring = scoring(scorers, criteria_map)"
   ]
  },
  {
   "cell_type": "markdown",
   "metadata": {},
   "source": [
    "#### General parameters"
   ]
  },
  {
   "cell_type": "code",
   "execution_count": 8,
   "metadata": {},
   "outputs": [],
   "source": [
    "# list of specialized time series models names\n",
    "specialized_models=['AutoReg', 'ARIMA', 'SARIMAX', 'AutoArima']#, 'TBATS']\n",
    "# mapping of minimun train size for specialized models (series with less then min_train+test_size samples are not tested)\n",
    "spec_min_train_size = {'AutoReg': 3, 'ARIMA': 2,'SARIMAX': 2, 'AutoArima': 3,'TBATS': 0}\n",
    "# list of names of regressors to test\n",
    "regressors_names = [\n",
    "    'AdaBoostRegressor', 'BaggingRegressor', 'BayesianRidge',\n",
    "    'DecisionTreeRegressor','DummyRegressor','ElasticNet', 'ExtraTreeRegressor',\n",
    "    'ExtraTreesRegressor', 'GaussianProcessRegressor','GradientBoostingRegressor',\n",
    "    'HistGradientBoostingRegressor', 'KernelRidge','Lars','Lasso','LassoLars',\n",
    "    'LassoLarsIC','LinearRegression','LinearSVR','MLPRegressor','NuSVR',\n",
    "    'OrthogonalMatchingPursuit','PassiveAggressiveRegressor','PoissonRegressor',\n",
    "    'RandomForestRegressor','Ridge','RidgeCV','SVR', 'TheilSenRegressor',\n",
    "    'TransformedTargetRegressor','TweedieRegressor'\n",
    "]\n",
    "# list of names of models to test including regressors and specialized models\n",
    "models_names = regressors_names + specialized_models\n",
    "# dict containing uninitialized regression models\n",
    "regressors = dict(sklearn.utils.all_estimators('regressor'))"
   ]
  },
  {
   "cell_type": "markdown",
   "metadata": {},
   "source": [
    "#### Fit, score and average parameters"
   ]
  },
  {
   "cell_type": "code",
   "execution_count": 9,
   "metadata": {},
   "outputs": [],
   "source": [
    "# Metric to use when sorting the best model of a time serie\n",
    "criteria ='mae'\n",
    "# Size of consecutive testing samples to forecast\n",
    "test_size = 2\n",
    "# Minimun training size when forecasting \n",
    "min_train_size = 3\n",
    "# metrics to caalculate\n",
    "metrics = [\n",
    "    'mae', 'estd', 'max_error',\n",
    "    'mse', 'wape', 'r2'\n",
    "]\n",
    "# method to use when averaging scores of testing samples of size test_size\n",
    "avg_method = 'weighted'\n",
    "# consider  in average only scores with more than avg_min_train_size\n",
    "\n",
    "avg_min_train_size = 1\n",
    "# order to use when avg_method is 'wheighted'\n",
    "weight_order = 1"
   ]
  },
  {
   "cell_type": "markdown",
   "metadata": {},
   "source": [
    "---\n",
    "# EVALUATION AND MODEL SELECTION FOR DEFAULT PARAMETERS OF MODEL SELECTION FUNCTION"
   ]
  },
  {
   "cell_type": "markdown",
   "metadata": {},
   "source": [
    "### Setting model selection params list for testing"
   ]
  },
  {
   "cell_type": "code",
   "execution_count": 7,
   "metadata": {},
   "outputs": [],
   "source": [
    "# Default params as list of dicts\n",
    "params_dict = {  # default paramterers are the same as defined above.\n",
    "    'default': {\n",
    "        'criteria':'mae',\n",
    "        'test_size': 2,\n",
    "        'min_train_size': 3,\n",
    "        'metrics': ['mae', 'estd', 'max_error', 'mse', 'wape', 'r2'],\n",
    "        'avg_method': 'weighted',\n",
    "        'avg_min_train_size': 1,\n",
    "        'weight_order': 1\n",
    "    },\n",
    "    'avg_min_train_size-3': {  # Changing avg_min_train_size only\n",
    "        'criteria':'mae',\n",
    "        'test_size': 3,\n",
    "        'min_train_size': 3,\n",
    "        'metrics': ['mae', 'estd', 'max_error', 'mse', 'wape', 'r2'],\n",
    "        'avg_method': 'weighted',\n",
    "        'avg_min_train_size': 3,\n",
    "        'weight_order': 1,\n",
    "    },\n",
    "}"
   ]
  },
  {
   "cell_type": "markdown",
   "metadata": {},
   "source": [
    "### Inputting general and specific default params to model selection function."
   ]
  },
  {
   "cell_type": "code",
   "execution_count": null,
   "metadata": {},
   "outputs": [],
   "source": [
    "key_model_maps_dict, key_model_maps_scrs = model_selection_params_optimization(\n",
    "    models_names, regressors, params_dict, \n",
    "    lab_series, keys, verbose=1, save=True,\n",
    "    path='models/key_model_maps/{}.json'\n",
    ")"
   ]
  },
  {
   "cell_type": "markdown",
   "metadata": {},
   "source": [
    "## Visualizing model_selection results"
   ]
  },
  {
   "cell_type": "code",
   "execution_count": 16,
   "metadata": {},
   "outputs": [
    {
     "data": {
      "image/png": "[encoded data removed]",
      "text/plain": [
       "<Figure size 432x288 with 1 Axes>"
      ]
     },
     "metadata": {},
     "output_type": "display_data"
    }
   ],
   "source": [
    "# reloading key-model map with default parameters\n",
    "keys_models = json.load(open('models/key_model_maps/key_model_map_default.json', 'r'))\n",
    "\n",
    "# Count how many time series are associated to each model\n",
    "model_importance = pd.Series(list(keys_models.values())).value_counts()\n",
    "\n",
    "# Plotting time series count\n",
    "model_importance.plot.bar()\n",
    "plt.title('Nº of time series associated to each model')\n",
    "plt.xlabel('Model'); plt.ylabel('Time series count'); plt.show()"
   ]
  },
  {
   "cell_type": "markdown",
   "metadata": {},
   "source": [
    "### Scoring default parameters model"
   ]
  },
  {
   "cell_type": "code",
   "execution_count": 26,
   "metadata": {},
   "outputs": [],
   "source": [
    "# reload model prediction\n",
    "yhat_i = load_csv_folder('evaluation/predictions/custom models/key_model_map_default/')\n",
    "eval_criteria = 'wape'\n",
    "avg=False\n",
    "\n",
    "# score model predictions by product\n",
    "prod_scrs = score_prediction_sequences(\n",
    "    yhat_i, data, prodtype_indexes, target,\n",
    "    n, test_size, eval_criteria, avg,\n",
    "    metrics\n",
    ")"
   ]
  },
  {
   "cell_type": "markdown",
   "metadata": {},
   "source": [
    "#### Average wape of last 10 two consecutive years by product type (temporary, permanent and pasture)"
   ]
  },
  {
   "cell_type": "code",
   "execution_count": 28,
   "metadata": {},
   "outputs": [
    {
     "data": {
      "text/plain": [
       "0.15188260008454413"
      ]
     },
     "execution_count": 28,
     "metadata": {},
     "output_type": "execute_result"
    }
   ],
   "source": [
    "prod_scrs.mean(1).iloc[-10:].mean()"
   ]
  },
  {
   "cell_type": "markdown",
   "metadata": {},
   "source": [
    "#### Average wape deviance of last 10 two consecutive years by product type (temporary, permanent and pasture)"
   ]
  },
  {
   "cell_type": "code",
   "execution_count": 30,
   "metadata": {},
   "outputs": [
    {
     "data": {
      "text/plain": [
       "0.020143858032499334"
      ]
     },
     "execution_count": 30,
     "metadata": {},
     "output_type": "execute_result"
    }
   ],
   "source": [
    "prod_scrs.mean(1).iloc[-10:].std()"
   ]
  },
  {
   "cell_type": "markdown",
   "metadata": {},
   "source": [
    "### Predicting with key-model map generated with default parameters"
   ]
  },
  {
   "cell_type": "markdown",
   "metadata": {},
   "source": [
    "##### Prediction with key models (for every year pair with at least one value for testing and at least train_min=3 values in the preceding years)."
   ]
  },
  {
   "cell_type": "code",
   "execution_count": 21,
   "metadata": {},
   "outputs": [],
   "source": [
    "# max size of series\n",
    "n=44\n",
    "# Size of consecutive testing samples to forecast\n",
    "test_size = 2\n",
    "# Minimun training size when forecasting \n",
    "min_train_size = 3\n",
    "# minimum number of non empty values to score consecutive testing samples\n",
    "min_test_size=1\n",
    "# drop na values from prediction\n",
    "dropna=True"
   ]
  },
  {
   "cell_type": "code",
   "execution_count": null,
   "metadata": {},
   "outputs": [],
   "source": [
    "# Inputing prediction parameters and saving predictions locally\n",
    "map_models_predictions = maps_predictions(\n",
    "    lab_ind_series, n, test_size, min_train_size,\n",
    "    min_test_size, dropna, path='models/key_model_maps/', save=True, # change 'min_test_size' to zero and 'dropna' to False to predict non-included test_samples (when n > n_max)\n",
    "    save_path='evaluation/predictions/custom models/'\n",
    ")"
   ]
  },
  {
   "cell_type": "markdown",
   "metadata": {},
   "source": [
    "### Scoring default parameters model predictions"
   ]
  },
  {
   "cell_type": "code",
   "execution_count": 22,
   "metadata": {},
   "outputs": [],
   "source": [
    "# metric to calculate\n",
    "eval_criteria = 'wape'\n",
    "# wether to average consecutive testing samples scores\n",
    "avg=False\n",
    "\n",
    "# Scoring consecutive samples predictions\n",
    "custom_models_scrs = score_final_models(\n",
    "    data, prodtype_indexes, target, n,\n",
    "    test_size, eval_criteria, avg, metrics,\n",
    "    preds_path='evaluation/predictions/custom models/'\n",
    ")"
   ]
  },
  {
   "cell_type": "markdown",
   "metadata": {},
   "source": [
    "### Visualizing model selection performance for default and min_train_size=3 parameters"
   ]
  },
  {
   "cell_type": "code",
   "execution_count": 23,
   "metadata": {},
   "outputs": [
    {
     "data": {
      "image/png": "[encoded data removed]",
      "text/plain": [
       "<Figure size 720x288 with 2 Axes>"
      ]
     },
     "metadata": {},
     "output_type": "display_data"
    }
   ],
   "source": [
    "models_keys = pd.Series(list(custom_models_scrs.keys()))\n",
    "\n",
    "fig = plt.figure(figsize=(10, 4), tight_layout=True)\n",
    "axes = fig.subplots(1, 2)\n",
    "n_max = 50\n",
    "avg_scrs_top = []\n",
    "avg_scrs_bottom = []\n",
    "\n",
    "for n_last_pred in list(range(0, n_max)):\n",
    "    avg_scrs_top.append({key: custom_models_scrs[key].mean(1).iloc[n_last_pred:].mean() for key in models_keys[[2, 4, 5]]})\n",
    "    avg_scrs_bottom.append({key: custom_models_scrs[key].mean(1).iloc[n_last_pred:].mean() for key in models_keys[[0, 1, 3]]})\n",
    "\n",
    "pd.DataFrame(avg_scrs_top).plot(ax=axes[0])\n",
    "pd.DataFrame(avg_scrs_bottom).plot(ax=axes[1])\n",
    "axes[0].set(\n",
    "    title=\"Custom models' average performance (WAPE)\\n at predicting 'n' last pair of years\",\n",
    "    ylabel='Average WAPE',\n",
    "    xlabel='\"n\" last pair of years'\n",
    ")\n",
    "axes[1].set(\n",
    "    title=\"Custom models' average performance (WAPE)\\n at predicting 'n' last pair of years\",\n",
    "    ylabel='Average WAPE',\n",
    "    xlabel='\"n\" last pair of years'\n",
    ")\n",
    "plt.show()"
   ]
  },
  {
   "cell_type": "markdown",
   "metadata": {},
   "source": [
    "#### Conclusions:\n",
    "    * Default parameters presented the smallest average wape error error for any \"n\" last pairs of testing values, compared to the other results of model selection for the second set of paramters.\n",
    "    Obs: The chart in the left shows the average wape for any 'n' consecutive last pais of testing values for models used in the partial submission. It is noticiable that the error drops fast for the predictino of the last pair of values (2016 and 2017) but performance drops for other years (overfitted to 2016 and 2017)"
   ]
  },
  {
   "cell_type": "markdown",
   "metadata": {},
   "source": [
    "---"
   ]
  },
  {
   "cell_type": "markdown",
   "metadata": {},
   "source": [
    "# Building submission table"
   ]
  },
  {
   "cell_type": "markdown",
   "metadata": {},
   "source": [
    "### Predicting with selected key-model map"
   ]
  },
  {
   "cell_type": "code",
   "execution_count": 37,
   "metadata": {},
   "outputs": [],
   "source": [
    "# Builds submission table based on give model predictions 'yhat'\n",
    "def build_submission_table(yhat, keys, prodtype_map, years=['2018-01-01', '2019-01-01']):\n",
    "    df_values = []\n",
    "    cnt = 0\n",
    "    for key in keys:\n",
    "        info = key.split('-')\n",
    "        city_code = info[0]\n",
    "        product = info[1]\n",
    "        if len(info) == 3:\n",
    "            prodtype=info[2]\n",
    "        else:\n",
    "            prodtype = prodtype_map[product]\n",
    "        for year in years:\n",
    "            df_values.append([year, city_code, product, prodtype, yhat.iloc[cnt]]); cnt+=1\n",
    "    return pd.DataFrame(df_values, columns=['year', 'city_code', 'product', 'product_type', 'destinated_area'])"
   ]
  },
  {
   "cell_type": "code",
   "execution_count": 44,
   "metadata": {},
   "outputs": [],
   "source": [
    "# Loads default paramodel \n",
    "def final_submission(model_path, pred_path, pred_index, prodtype_map, years=['2018-01-01', '2019-01-01'], save_path=None):\n",
    "    key_model_map_default = json.load(open(model_path, 'r'))\n",
    "    map_keys = list(key_model_map_default.keys())\n",
    "    yhat_i = load_csv_folder(pred_path)\n",
    "    yhat = yhat_i[pred_index]\n",
    "    submission = build_submission_table(yhat, map_keys, prodtype_map, years)\n",
    "    if save_path is not None:\n",
    "        submission.to_csv(save_path, index=True)\n",
    "    return submission"
   ]
  },
  {
   "cell_type": "markdown",
   "metadata": {},
   "source": [
    "### Saving predictions including future predcitions (2018 and 2019 predictions)"
   ]
  },
  {
   "cell_type": "code",
   "execution_count": null,
   "metadata": {},
   "outputs": [],
   "source": [
    "n=46\n",
    "test_size=2\n",
    "min_train_size=1\n",
    "min_test_size=0\n",
    "dropna=False\n",
    "map_models_predictions = maps_predictions(\n",
    "    lab_ind_series, n, test_size, min_train_size,\n",
    "    min_test_size, dropna, path='models/key_model_maps/', save=True, # change 'min_test_size' to zero and 'dropna' to False to predict non-included test_samples (when n > n_max)\n",
    "    save_path='evaluation/future predictions/'\n",
    ")"
   ]
  },
  {
   "cell_type": "markdown",
   "metadata": {},
   "source": [
    "### Reloading prediction and building submission table for 2018 and 2019"
   ]
  },
  {
   "cell_type": "markdown",
   "metadata": {},
   "source": [
    "### Building final submission table"
   ]
  },
  {
   "cell_type": "code",
   "execution_count": 45,
   "metadata": {},
   "outputs": [],
   "source": [
    "model_path = 'models/key_model_maps/key_model_map_default.json'\n",
    "pred_path = 'evaluation/future predictions/key_model_map_default/'\n",
    "pred_index = 44\n",
    "prodtype_map = dict(data.groupby(['product', 'product_type']).max().index)\n",
    "years = ['2018-01-01', '2019-01-01']\n",
    "save_path = 'submission/final_submission.csv'"
   ]
  },
  {
   "cell_type": "code",
   "execution_count": 46,
   "metadata": {},
   "outputs": [],
   "source": [
    "submission = final_submission(model_path, pred_path, pred_index, prodtype_map, years, save_path)"
   ]
  },
  {
   "cell_type": "code",
   "execution_count": 47,
   "metadata": {},
   "outputs": [
    {
     "data": {
      "text/html": [
       "<div>\n",
       "<style scoped>\n",
       "    .dataframe tbody tr th:only-of-type {\n",
       "        vertical-align: middle;\n",
       "    }\n",
       "\n",
       "    .dataframe tbody tr th {\n",
       "        vertical-align: top;\n",
       "    }\n",
       "\n",
       "    .dataframe thead th {\n",
       "        text-align: right;\n",
       "    }\n",
       "</style>\n",
       "<table border=\"1\" class=\"dataframe\">\n",
       "  <thead>\n",
       "    <tr style=\"text-align: right;\">\n",
       "      <th></th>\n",
       "      <th>year</th>\n",
       "      <th>city_code</th>\n",
       "      <th>product</th>\n",
       "      <th>product_type</th>\n",
       "      <th>destinated_area</th>\n",
       "    </tr>\n",
       "  </thead>\n",
       "  <tbody>\n",
       "    <tr>\n",
       "      <th>0</th>\n",
       "      <td>2018-01-01</td>\n",
       "      <td>0307883b5d063703</td>\n",
       "      <td>Cassava</td>\n",
       "      <td>temporary</td>\n",
       "      <td>116.300000</td>\n",
       "    </tr>\n",
       "    <tr>\n",
       "      <th>1</th>\n",
       "      <td>2019-01-01</td>\n",
       "      <td>0307883b5d063703</td>\n",
       "      <td>Cassava</td>\n",
       "      <td>temporary</td>\n",
       "      <td>116.300000</td>\n",
       "    </tr>\n",
       "    <tr>\n",
       "      <th>2</th>\n",
       "      <td>2018-01-01</td>\n",
       "      <td>0307883b5d063703</td>\n",
       "      <td>Livestock</td>\n",
       "      <td>pasture</td>\n",
       "      <td>8384.741529</td>\n",
       "    </tr>\n",
       "  </tbody>\n",
       "</table>\n",
       "</div>"
      ],
      "text/plain": [
       "         year         city_code    product product_type  destinated_area\n",
       "0  2018-01-01  0307883b5d063703    Cassava    temporary       116.300000\n",
       "1  2019-01-01  0307883b5d063703    Cassava    temporary       116.300000\n",
       "2  2018-01-01  0307883b5d063703  Livestock      pasture      8384.741529"
      ]
     },
     "execution_count": 47,
     "metadata": {},
     "output_type": "execute_result"
    }
   ],
   "source": [
    "submission.head(3)"
   ]
  }
 ],
 "metadata": {
  "kernelspec": {
   "display_name": "Python 3",
   "language": "python",
   "name": "python3"
  },
  "language_info": {
   "codemirror_mode": {
    "name": "ipython",
    "version": 3
   },
   "file_extension": ".py",
   "mimetype": "text/x-python",
   "name": "python",
   "nbconvert_exporter": "python",
   "pygments_lexer": "ipython3",
   "version": "3.8.3"
  }
 },
 "nbformat": 4,
 "nbformat_minor": 4
}
