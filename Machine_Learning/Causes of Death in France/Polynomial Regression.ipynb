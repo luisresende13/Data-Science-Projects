{
 "cells": [
  {
   "cell_type": "markdown",
   "metadata": {},
   "source": [
    "# Polynomial Regression"
   ]
  },
  {
   "cell_type": "code",
   "execution_count": 1,
   "metadata": {},
   "outputs": [],
   "source": [
    "import pandas as pd\n",
    "import numpy as np\n",
    "import matplotlib.pyplot as plt"
   ]
  },
  {
   "cell_type": "markdown",
   "metadata": {},
   "source": [
    "### Loading Data"
   ]
  },
  {
   "cell_type": "code",
   "execution_count": 2,
   "metadata": {},
   "outputs": [],
   "source": [
    "sample = pd.read_csv('\\\\Users\\luisr\\Desktop\\Repository\\IBM_courses\\Samples\\\\cod_sample_cleaned.csv').drop('Unnamed: 0', axis=1)"
   ]
  },
  {
   "cell_type": "markdown",
   "metadata": {},
   "source": [
    "### Exploratory Analysis"
   ]
  },
  {
   "cell_type": "code",
   "execution_count": 3,
   "metadata": {},
   "outputs": [],
   "source": [
    "time_corr = sample.corr()[['Years']]\n",
    "\n",
    "top_time_corr =time_corr[abs(time_corr['Years'])>0.90]\n",
    "top_time_corr = top_time_corr.sort_values('Years', ascending=False)"
   ]
  },
  {
   "cell_type": "code",
   "execution_count": 4,
   "metadata": {},
   "outputs": [],
   "source": [
    "counts = []\n",
    "\n",
    "for col in sample.columns[4:]:\n",
    "    \n",
    "    col_corr = sample.corr()[[col]]\n",
    "    col_cnt = col_corr[np.abs(col_corr[col])>0.95][col].count()\n",
    "    \n",
    "    counts.append([col, col_cnt])\n",
    "    \n",
    "corr_rank = pd.DataFrame(counts, columns=['Feature', 'N° of corr.'])\n",
    "\n",
    "corr_rank = corr_rank.sort_values('N° of corr.', ascending=False)\n",
    "corr_rank = corr_rank.reset_index(drop=True)"
   ]
  },
  {
   "cell_type": "code",
   "execution_count": 5,
   "metadata": {},
   "outputs": [],
   "source": [
    "def get_corr(trg, sample, min_corr=0.9):\n",
    "    \n",
    "    trg_corr = sample.corr()[[trg]]\n",
    "\n",
    "    trg_corr = trg_corr.sort_values(trg, ascending=False)\n",
    "    trg_corr = trg_corr[np.abs(trg_corr[trg]) > min_corr]\n",
    "    \n",
    "    trg_corr.rename(columns={trg:trg+' corr'}, inplace=True)\n",
    "    \n",
    "    return trg_corr\n"
   ]
  },
  {
   "cell_type": "markdown",
   "metadata": {},
   "source": [
    "#### Target Definition"
   ]
  },
  {
   "cell_type": "code",
   "execution_count": 6,
   "metadata": {},
   "outputs": [],
   "source": [
    "trg = 'Chronic liver disease'\n",
    "\n",
    "trg_corr = get_corr(trg, sample, min_corr=0.92)"
   ]
  },
  {
   "cell_type": "code",
   "execution_count": 7,
   "metadata": {},
   "outputs": [
    {
     "data": {
      "text/html": [
       "<div>\n",
       "<style scoped>\n",
       "    .dataframe tbody tr th:only-of-type {\n",
       "        vertical-align: middle;\n",
       "    }\n",
       "\n",
       "    .dataframe tbody tr th {\n",
       "        vertical-align: top;\n",
       "    }\n",
       "\n",
       "    .dataframe thead th {\n",
       "        text-align: right;\n",
       "    }\n",
       "</style>\n",
       "<table border=\"1\" class=\"dataframe\">\n",
       "  <thead>\n",
       "    <tr style=\"text-align: right;\">\n",
       "      <th></th>\n",
       "      <th>Chronic liver disease corr</th>\n",
       "    </tr>\n",
       "  </thead>\n",
       "  <tbody>\n",
       "    <tr>\n",
       "      <th>Chronic liver disease</th>\n",
       "      <td>1.000000</td>\n",
       "    </tr>\n",
       "    <tr>\n",
       "      <th>Cerebrovascular diseases</th>\n",
       "      <td>0.985631</td>\n",
       "    </tr>\n",
       "    <tr>\n",
       "      <th>Diseases of the circulatory system (I00-I99)</th>\n",
       "      <td>0.981677</td>\n",
       "    </tr>\n",
       "    <tr>\n",
       "      <th>External causes of morbidity and mortality (V01-Y89)</th>\n",
       "      <td>0.978705</td>\n",
       "    </tr>\n",
       "    <tr>\n",
       "      <th>Accidents</th>\n",
       "      <td>0.964024</td>\n",
       "    </tr>\n",
       "    <tr>\n",
       "      <th>Diseases of the skin and subcutaneous tissue (L00-L99)</th>\n",
       "      <td>0.960513</td>\n",
       "    </tr>\n",
       "    <tr>\n",
       "      <th>Tuberculosis</th>\n",
       "      <td>0.957512</td>\n",
       "    </tr>\n",
       "    <tr>\n",
       "      <th>Asthma and status asthmaticus</th>\n",
       "      <td>0.948087</td>\n",
       "    </tr>\n",
       "    <tr>\n",
       "      <th>Ischaemic heart diseases</th>\n",
       "      <td>0.933472</td>\n",
       "    </tr>\n",
       "    <tr>\n",
       "      <th>Transport accidents (V01-V99)</th>\n",
       "      <td>0.927816</td>\n",
       "    </tr>\n",
       "    <tr>\n",
       "      <th>Malignant neoplasm of larynx,  trachea, bronchus and lung</th>\n",
       "      <td>-0.935055</td>\n",
       "    </tr>\n",
       "  </tbody>\n",
       "</table>\n",
       "</div>"
      ],
      "text/plain": [
       "                                                    Chronic liver disease corr\n",
       "Chronic liver disease                                                 1.000000\n",
       "Cerebrovascular diseases                                              0.985631\n",
       "Diseases of the circulatory system (I00-I99)                          0.981677\n",
       "External causes of morbidity and mortality (V01...                    0.978705\n",
       "Accidents                                                             0.964024\n",
       "Diseases of the skin and subcutaneous tissue (L...                    0.960513\n",
       "Tuberculosis                                                          0.957512\n",
       "Asthma and status asthmaticus                                         0.948087\n",
       "Ischaemic heart diseases                                              0.933472\n",
       "Transport accidents (V01-V99)                                         0.927816\n",
       "Malignant neoplasm of larynx,  trachea, bronchu...                   -0.935055"
      ]
     },
     "execution_count": 7,
     "metadata": {},
     "output_type": "execute_result"
    }
   ],
   "source": [
    "trg_corr"
   ]
  },
  {
   "cell_type": "markdown",
   "metadata": {},
   "source": [
    "### Spliting Train and Test Sets"
   ]
  },
  {
   "cell_type": "code",
   "execution_count": 32,
   "metadata": {},
   "outputs": [],
   "source": [
    "in_sample = np.random.rand(len(sample))<0.75\n",
    "\n",
    "\n",
    "train_set = sample[in_sample]\n",
    "test_set = sample[~in_sample]\n",
    "\n",
    "y_train = train_set[trg]\n",
    "x_train = train_set[trg_corr.index[1:]]                  # For multiple polynomial regression\n",
    "#x_train = train_set[['Cerebrovascular diseases']]         # For simple polynomial regression\n",
    "\n",
    "y_test = test_set[trg]\n",
    "x_test = test_set[trg_corr.index[1:]]\n",
    "#x_test = test_set[['Cerebrovascular diseases']]"
   ]
  },
  {
   "cell_type": "code",
   "execution_count": 33,
   "metadata": {},
   "outputs": [
    {
     "data": {
      "text/plain": [
       "((6,), (2,), (6, 10), (2, 10))"
      ]
     },
     "execution_count": 33,
     "metadata": {},
     "output_type": "execute_result"
    }
   ],
   "source": [
    "y_train.shape, y_test.shape, x_train.shape, x_test.shape"
   ]
  },
  {
   "cell_type": "code",
   "execution_count": 34,
   "metadata": {},
   "outputs": [
    {
     "data": {
      "text/plain": [
       "True"
      ]
     },
     "execution_count": 34,
     "metadata": {},
     "output_type": "execute_result"
    }
   ],
   "source": [
    "trg_corr.index[1:].to_list() == x_train.columns.tolist()"
   ]
  },
  {
   "cell_type": "markdown",
   "metadata": {},
   "source": [
    "### Polynomial Transformation of features"
   ]
  },
  {
   "cell_type": "code",
   "execution_count": 18,
   "metadata": {},
   "outputs": [],
   "source": [
    "from sklearn import preprocessing\n",
    "dgr = 10\n",
    "poly = preprocessing.PolynomialFeatures(degree=dgr)\n",
    "\n",
    "x_train_poly = poly.fit_transform(x_train)\n",
    "x_test_poly = poly.fit_transform(x_test)"
   ]
  },
  {
   "cell_type": "markdown",
   "metadata": {},
   "source": [
    "### Polynomial Regression Modeling"
   ]
  },
  {
   "cell_type": "code",
   "execution_count": 269,
   "metadata": {},
   "outputs": [],
   "source": [
    "from sklearn import linear_model\n",
    "\n",
    "regr = linear_model.LinearRegression()\n",
    "\n",
    "regr.fit(x_train_poly, y_train)\n",
    "\n",
    "yo = regr.intercept_\n",
    "ai = regr.coef_"
   ]
  },
  {
   "cell_type": "code",
   "execution_count": 270,
   "metadata": {},
   "outputs": [
    {
     "name": "stdout",
     "output_type": "stream",
     "text": [
      "[-1.660318327681641e-46, -4.6887600614626496e-48, -1.7350923840055205e-48, 5.573978709054942e-49, 3.95170668748978e-49, 1.5176686929641854e-89, 1.1328799449515085e-89, 3.6611836748012413e-90, 4.21791090416113e-89, 5.732670011832079e-90, -2.139428524893232e-90, 1.4379356873175364e-84, 3.0601460185780554e-84, 2.1718472694243834e-84, 4.8378589015649384e-85, 2.4285035978812775e-85, 1.8093743828708633e-85, 6.809624577301692e-86, 1.6828516228140554e-84, 2.4165015873929283e-85]\n"
     ]
    },
    {
     "data": {
      "text/plain": [
       "(5682.543755992777, None)"
      ]
     },
     "execution_count": 270,
     "metadata": {},
     "output_type": "execute_result"
    }
   ],
   "source": [
    "yo, print(ai.tolist()[:20])"
   ]
  },
  {
   "cell_type": "markdown",
   "metadata": {},
   "source": [
    "### Evaluation"
   ]
  },
  {
   "cell_type": "code",
   "execution_count": 271,
   "metadata": {},
   "outputs": [],
   "source": [
    "from sklearn import metrics\n",
    "\n",
    "y_hat = regr.predict(x_test_poly)\n",
    "\n",
    "abse = np.mean(np.absolute(y_hat-y_test))\n",
    "msqe = np.mean((y_hat-y_test)**2)\n",
    "\n",
    "R2 = regr.score(x_test_poly, y_test)\n",
    "r2 = metrics.r2_score(y_hat, y_test)\n"
   ]
  },
  {
   "cell_type": "code",
   "execution_count": 272,
   "metadata": {},
   "outputs": [
    {
     "data": {
      "text/plain": [
       "(71.3701288837533, 5110.50349082697)"
      ]
     },
     "execution_count": 272,
     "metadata": {},
     "output_type": "execute_result"
    }
   ],
   "source": [
    "abse, msqe"
   ]
  },
  {
   "cell_type": "code",
   "execution_count": 273,
   "metadata": {},
   "outputs": [
    {
     "data": {
      "text/plain": [
       "(0.9426445068353833, 0.9441881428314219)"
      ]
     },
     "execution_count": 273,
     "metadata": {},
     "output_type": "execute_result"
    }
   ],
   "source": [
    "R2, r2"
   ]
  },
  {
   "cell_type": "markdown",
   "metadata": {},
   "source": [
    "### Visualizing Model"
   ]
  },
  {
   "cell_type": "code",
   "execution_count": 274,
   "metadata": {},
   "outputs": [
    {
     "data": {
      "text/plain": [
       "[<matplotlib.lines.Line2D at 0x19493b02490>]"
      ]
     },
     "execution_count": 274,
     "metadata": {},
     "output_type": "execute_result"
    },
    {
     "data": {
      "image/png": "[encoded data removed]",
      "text/plain": [
       "<Figure size 432x288 with 1 Axes>"
      ]
     },
     "metadata": {
      "needs_background": "light"
     },
     "output_type": "display_data"
    }
   ],
   "source": [
    "#plt.scatter(x_train, y_train, color='blue')\n",
    "\n",
    "xx = np.arange(13500, 17500, 250)\n",
    "yy = -(yo + sum([ai[i]*xx**i for i in range(4)]))/100        # Why *-1/100?\n",
    "\n",
    "plt.plot(xx, yy, '-r')"
   ]
  },
  {
   "cell_type": "code",
   "execution_count": 11,
   "metadata": {},
   "outputs": [],
   "source": [
    "from sklearn import preprocessing\n",
    "from sklearn import linear_model\n",
    "from sklearn import metrics"
   ]
  },
  {
   "cell_type": "code",
   "execution_count": 35,
   "metadata": {},
   "outputs": [],
   "source": [
    "r2_scores = []\n",
    "cnt=0"
   ]
  },
  {
   "cell_type": "code",
   "execution_count": 39,
   "metadata": {},
   "outputs": [
    {
     "name": "stdout",
     "output_type": "stream",
     "text": [
      "Degree  17  Added.\n",
      "Degree  18  Added.\n"
     ]
    }
   ],
   "source": [
    "for dgr in range(17,19):     ### Try maximum to 18.\n",
    " \n",
    "    poly = preprocessing.PolynomialFeatures(degree=dgr)\n",
    "    x_train_poly = poly.fit_transform(x_train)\n",
    "    x_test_poly = poly.fit_transform(x_test)\n",
    "#-------------------------------------------\n",
    "    regr = linear_model.LinearRegression()\n",
    "    regr.fit(x_train_poly, y_train)\n",
    "#-------------------------------\n",
    "    yo = regr.intercept_\n",
    "    ai = regr.coef_\n",
    "#---------------------------------------\n",
    "    y_hat = regr.predict(x_test_poly)\n",
    "#-----------------------------------------------\n",
    "    abse = np.mean(np.absolute(y_hat-y_test))\n",
    "    msqe = np.mean((y_hat-y_test)**2)\n",
    "#------------------------------------------\n",
    "    R2 = regr.score(x_test_poly, y_test)\n",
    "    r2 = metrics.r2_score(y_hat, y_test)\n",
    "#-----------------------------------------\n",
    "    r2_scores.append([dgr, R2, r2])\n",
    "    \n",
    "    cnt+=1\n",
    "    print('Degree ',dgr, ' Added.')"
   ]
  },
  {
   "cell_type": "code",
   "execution_count": 40,
   "metadata": {},
   "outputs": [
    {
     "name": "stdout",
     "output_type": "stream",
     "text": [
      "18\n"
     ]
    }
   ],
   "source": [
    "print(len(r2_scores))"
   ]
  },
  {
   "cell_type": "code",
   "execution_count": 44,
   "metadata": {},
   "outputs": [
    {
     "data": {
      "text/plain": [
       "(0.0, 1.2)"
      ]
     },
     "execution_count": 44,
     "metadata": {},
     "output_type": "execute_result"
    },
    {
     "data": {
      "image/png": "[encoded data removed]",
      "text/plain": [
       "<Figure size 432x288 with 1 Axes>"
      ]
     },
     "metadata": {
      "needs_background": "light"
     },
     "output_type": "display_data"
    }
   ],
   "source": [
    "plt.plot(list(range(1,19)), [i[1] for i in r2_scores], [i[2] for i in r2_scores])\n",
    "plt.ylim(0,1.2)"
   ]
  },
  {
   "cell_type": "code",
   "execution_count": 29,
   "metadata": {},
   "outputs": [
    {
     "data": {
      "text/plain": [
       "[[1, -56.771946652576254, 0.2001656955322504],\n",
       " [2, -87.78628573711687, 0.15567241328759696],\n",
       " [3, -96.35094466325212, 0.16726202618507802],\n",
       " [4, -88.13447949405527, 0.16685221297632014],\n",
       " [5, -76.40315972861067, 0.19254902306686061],\n",
       " [6, -73.93676307542471, 0.196369826104571],\n",
       " [7, -66.50514488628221, 0.2052269690075189],\n",
       " [8, -61.442246846568494, 0.21132779995803885],\n",
       " [9, -58.04840325969818, 0.21571457684796458],\n",
       " [10, -54.717969246160926, 0.2199522394841149],\n",
       " [11, -51.909812972292656, 0.22368515367395791],\n",
       " [12, -49.487377930611665, 0.2268422258570687],\n",
       " [13, -47.47795544874841, 0.2295439341279487],\n",
       " [14, -45.80587387203595, 0.23181035493137347],\n",
       " [15, -44.44637673343464, 0.23370213791723327],\n",
       " [16, -43.36210576585456, 0.23528225867335661],\n",
       " [17, -42.52645792533139, 0.23658930152307078],\n",
       " [18, -41.91331236706075, 0.23763474133309292]]"
      ]
     },
     "execution_count": 29,
     "metadata": {},
     "output_type": "execute_result"
    }
   ],
   "source": [
    "r2_scores"
   ]
  },
  {
   "cell_type": "code",
   "execution_count": null,
   "metadata": {},
   "outputs": [],
   "source": []
  }
 ],
 "metadata": {
  "kernelspec": {
   "display_name": "Python 3",
   "language": "python",
   "name": "python3"
  },
  "language_info": {
   "codemirror_mode": {
    "name": "ipython",
    "version": 3
   },
   "file_extension": ".py",
   "mimetype": "text/x-python",
   "name": "python",
   "nbconvert_exporter": "python",
   "pygments_lexer": "ipython3",
   "version": "3.8.3"
  }
 },
 "nbformat": 4,
 "nbformat_minor": 4
}
