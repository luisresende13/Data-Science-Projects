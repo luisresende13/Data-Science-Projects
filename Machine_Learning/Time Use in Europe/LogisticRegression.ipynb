{
 "cells": [
  {
   "cell_type": "markdown",
   "metadata": {},
   "source": [
    "# Logistic regression"
   ]
  },
  {
   "cell_type": "markdown",
   "metadata": {},
   "source": [
    "### Importing"
   ]
  },
  {
   "cell_type": "code",
   "execution_count": 1,
   "metadata": {},
   "outputs": [],
   "source": [
    "import numpy\n",
    "import pandas\n",
    "import matplotlib.pyplot as plt\n",
    "import scipy.optimize"
   ]
  },
  {
   "cell_type": "markdown",
   "metadata": {},
   "source": [
    "### Load Data"
   ]
  },
  {
   "cell_type": "code",
   "execution_count": 4,
   "metadata": {},
   "outputs": [],
   "source": [
    "timeuse = pandas.read_csv('/Users/luisr/Desktop/Repository/IBM_courses/Samples/timeuse_cleaned.csv')\n",
    "timeuse.drop('Unnamed: 0', axis=1, inplace=True)"
   ]
  },
  {
   "cell_type": "code",
   "execution_count": 11,
   "metadata": {},
   "outputs": [
    {
     "data": {
      "text/html": [
       "<div>\n",
       "<style scoped>\n",
       "    .dataframe tbody tr th:only-of-type {\n",
       "        vertical-align: middle;\n",
       "    }\n",
       "\n",
       "    .dataframe tbody tr th {\n",
       "        vertical-align: top;\n",
       "    }\n",
       "\n",
       "    .dataframe thead th {\n",
       "        text-align: right;\n",
       "    }\n",
       "</style>\n",
       "<table border=\"1\" class=\"dataframe\">\n",
       "  <thead>\n",
       "    <tr style=\"text-align: right;\">\n",
       "      <th></th>\n",
       "      <th>SEX</th>\n",
       "      <th>GEO/ACL00</th>\n",
       "      <th>Total</th>\n",
       "      <th>Personal care</th>\n",
       "      <th>Sleep</th>\n",
       "      <th>Eating</th>\n",
       "      <th>Other and/or unspecified personal care</th>\n",
       "      <th>Employment, related activities and travel as part of/during main and second job</th>\n",
       "      <th>Main and second job and related travel</th>\n",
       "      <th>Activities related to employment and unspecified employment</th>\n",
       "      <th>...</th>\n",
       "      <th>Unspecified leisure</th>\n",
       "      <th>Travel except travel related to jobs</th>\n",
       "      <th>Travel to/from work</th>\n",
       "      <th>Travel related to study</th>\n",
       "      <th>Travel related to shopping and services</th>\n",
       "      <th>Transporting a child</th>\n",
       "      <th>Travel related to other household purposes</th>\n",
       "      <th>Travel related to leisure, social and associative life</th>\n",
       "      <th>Unspecified travel</th>\n",
       "      <th>Unspecified time use</th>\n",
       "    </tr>\n",
       "  </thead>\n",
       "  <tbody>\n",
       "    <tr>\n",
       "      <th>0</th>\n",
       "      <td>Males</td>\n",
       "      <td>Belgium</td>\n",
       "      <td>24:00</td>\n",
       "      <td>10.75</td>\n",
       "      <td>8.250000</td>\n",
       "      <td>1.816667</td>\n",
       "      <td>0.70</td>\n",
       "      <td>3.116667</td>\n",
       "      <td>3.083333</td>\n",
       "      <td>0.033333</td>\n",
       "      <td>...</td>\n",
       "      <td>0.016667</td>\n",
       "      <td>1.500000</td>\n",
       "      <td>0.416667</td>\n",
       "      <td>0.033333</td>\n",
       "      <td>0.266667</td>\n",
       "      <td>0.050000</td>\n",
       "      <td>0.0</td>\n",
       "      <td>0.25</td>\n",
       "      <td>0.50</td>\n",
       "      <td>0.016667</td>\n",
       "    </tr>\n",
       "    <tr>\n",
       "      <th>1</th>\n",
       "      <td>Males</td>\n",
       "      <td>Bulgaria</td>\n",
       "      <td>24:00</td>\n",
       "      <td>11.90</td>\n",
       "      <td>9.133333</td>\n",
       "      <td>2.116667</td>\n",
       "      <td>0.65</td>\n",
       "      <td>3.533333</td>\n",
       "      <td>3.450000</td>\n",
       "      <td>0.066667</td>\n",
       "      <td>...</td>\n",
       "      <td>0.016667</td>\n",
       "      <td>1.116667</td>\n",
       "      <td>0.383333</td>\n",
       "      <td>0.000000</td>\n",
       "      <td>0.200000</td>\n",
       "      <td>0.016667</td>\n",
       "      <td>0.1</td>\n",
       "      <td>0.35</td>\n",
       "      <td>0.05</td>\n",
       "      <td>0.033333</td>\n",
       "    </tr>\n",
       "  </tbody>\n",
       "</table>\n",
       "<p>2 rows × 58 columns</p>\n",
       "</div>"
      ],
      "text/plain": [
       "     SEX GEO/ACL00  Total  Personal care     Sleep    Eating  \\\n",
       "0  Males   Belgium  24:00          10.75  8.250000  1.816667   \n",
       "1  Males  Bulgaria  24:00          11.90  9.133333  2.116667   \n",
       "\n",
       "   Other and/or unspecified personal care  \\\n",
       "0                                    0.70   \n",
       "1                                    0.65   \n",
       "\n",
       "   Employment, related activities and travel as part of/during main and second job  \\\n",
       "0                                           3.116667                                 \n",
       "1                                           3.533333                                 \n",
       "\n",
       "   Main and second job and related travel  \\\n",
       "0                                3.083333   \n",
       "1                                3.450000   \n",
       "\n",
       "   Activities related to employment and unspecified employment  ...  \\\n",
       "0                                           0.033333            ...   \n",
       "1                                           0.066667            ...   \n",
       "\n",
       "   Unspecified leisure   Travel except travel related to jobs  \\\n",
       "0              0.016667                              1.500000   \n",
       "1              0.016667                              1.116667   \n",
       "\n",
       "   Travel to/from work  Travel related to study  \\\n",
       "0             0.416667                 0.033333   \n",
       "1             0.383333                 0.000000   \n",
       "\n",
       "   Travel related to shopping and services  Transporting a child  \\\n",
       "0                                 0.266667              0.050000   \n",
       "1                                 0.200000              0.016667   \n",
       "\n",
       "   Travel related to other household purposes  \\\n",
       "0                                         0.0   \n",
       "1                                         0.1   \n",
       "\n",
       "   Travel related to leisure, social and associative life  Unspecified travel  \\\n",
       "0                                               0.25                     0.50   \n",
       "1                                               0.35                     0.05   \n",
       "\n",
       "   Unspecified time use  \n",
       "0              0.016667  \n",
       "1              0.033333  \n",
       "\n",
       "[2 rows x 58 columns]"
      ]
     },
     "execution_count": 11,
     "metadata": {},
     "output_type": "execute_result"
    }
   ],
   "source": [
    "timeuse.head(2)"
   ]
  },
  {
   "cell_type": "markdown",
   "metadata": {},
   "source": [
    "### Target and Features Selection"
   ]
  },
  {
   "cell_type": "code",
   "execution_count": 9,
   "metadata": {},
   "outputs": [
    {
     "data": {
      "text/html": [
       "<div>\n",
       "<style scoped>\n",
       "    .dataframe tbody tr th:only-of-type {\n",
       "        vertical-align: middle;\n",
       "    }\n",
       "\n",
       "    .dataframe tbody tr th {\n",
       "        vertical-align: top;\n",
       "    }\n",
       "\n",
       "    .dataframe thead th {\n",
       "        text-align: right;\n",
       "    }\n",
       "</style>\n",
       "<table border=\"1\" class=\"dataframe\">\n",
       "  <thead>\n",
       "    <tr style=\"text-align: right;\">\n",
       "      <th></th>\n",
       "      <th>Dish washing</th>\n",
       "    </tr>\n",
       "  </thead>\n",
       "  <tbody>\n",
       "    <tr>\n",
       "      <th>Dish washing</th>\n",
       "      <td>1.000000</td>\n",
       "    </tr>\n",
       "    <tr>\n",
       "      <th>Food management except dish washing</th>\n",
       "      <td>0.961601</td>\n",
       "    </tr>\n",
       "    <tr>\n",
       "      <th>Household and family care</th>\n",
       "      <td>0.957699</td>\n",
       "    </tr>\n",
       "    <tr>\n",
       "      <th>Laundry</th>\n",
       "      <td>0.889684</td>\n",
       "    </tr>\n",
       "    <tr>\n",
       "      <th>Cleaning dwelling</th>\n",
       "      <td>0.869748</td>\n",
       "    </tr>\n",
       "    <tr>\n",
       "      <th>Handicraft and producing textiles and other care for textiles</th>\n",
       "      <td>0.851787</td>\n",
       "    </tr>\n",
       "    <tr>\n",
       "      <th>Childcare, except teaching, reading and talking</th>\n",
       "      <td>0.804011</td>\n",
       "    </tr>\n",
       "  </tbody>\n",
       "</table>\n",
       "</div>"
      ],
      "text/plain": [
       "                                                    Dish washing\n",
       "Dish washing                                            1.000000\n",
       "Food management except dish washing                     0.961601\n",
       "Household and family care                               0.957699\n",
       "Laundry                                                 0.889684\n",
       "Cleaning dwelling                                       0.869748\n",
       "Handicraft and producing textiles and other car...      0.851787\n",
       "Childcare, except teaching, reading and talking         0.804011"
      ]
     },
     "execution_count": 9,
     "metadata": {},
     "output_type": "execute_result"
    }
   ],
   "source": [
    "dish_wash_corr = timeuse.corr()[['Dish washing']].sort_values('Dish washing', ascending=False)\n",
    "dish_wash_corr.head(7)"
   ]
  },
  {
   "cell_type": "markdown",
   "metadata": {},
   "source": [
    "### Sample Data"
   ]
  },
  {
   "cell_type": "code",
   "execution_count": 81,
   "metadata": {},
   "outputs": [
    {
     "data": {
      "text/html": [
       "<div>\n",
       "<style scoped>\n",
       "    .dataframe tbody tr th:only-of-type {\n",
       "        vertical-align: middle;\n",
       "    }\n",
       "\n",
       "    .dataframe tbody tr th {\n",
       "        vertical-align: top;\n",
       "    }\n",
       "\n",
       "    .dataframe thead th {\n",
       "        text-align: right;\n",
       "    }\n",
       "</style>\n",
       "<table border=\"1\" class=\"dataframe\">\n",
       "  <thead>\n",
       "    <tr style=\"text-align: right;\">\n",
       "      <th></th>\n",
       "      <th>SEX</th>\n",
       "      <th>GEO/ACL00</th>\n",
       "      <th>Dish washing</th>\n",
       "      <th>Food management except dish washing</th>\n",
       "      <th>Household and family care</th>\n",
       "      <th>Laundry</th>\n",
       "      <th>Cleaning dwelling</th>\n",
       "      <th>Handicraft and producing textiles and other care for textiles</th>\n",
       "    </tr>\n",
       "  </thead>\n",
       "  <tbody>\n",
       "    <tr>\n",
       "      <th>0</th>\n",
       "      <td>Males</td>\n",
       "      <td>Belgium</td>\n",
       "      <td>0.166667</td>\n",
       "      <td>0.366667</td>\n",
       "      <td>2.466667</td>\n",
       "      <td>0.016667</td>\n",
       "      <td>0.133333</td>\n",
       "      <td>0.0</td>\n",
       "    </tr>\n",
       "    <tr>\n",
       "      <th>1</th>\n",
       "      <td>Males</td>\n",
       "      <td>Bulgaria</td>\n",
       "      <td>0.083333</td>\n",
       "      <td>0.250000</td>\n",
       "      <td>2.616667</td>\n",
       "      <td>0.016667</td>\n",
       "      <td>0.100000</td>\n",
       "      <td>0.0</td>\n",
       "    </tr>\n",
       "  </tbody>\n",
       "</table>\n",
       "</div>"
      ],
      "text/plain": [
       "     SEX GEO/ACL00  Dish washing  Food management except dish washing  \\\n",
       "0  Males   Belgium      0.166667                             0.366667   \n",
       "1  Males  Bulgaria      0.083333                             0.250000   \n",
       "\n",
       "   Household and family care   Laundry  Cleaning dwelling  \\\n",
       "0                   2.466667  0.016667           0.133333   \n",
       "1                   2.616667  0.016667           0.100000   \n",
       "\n",
       "   Handicraft and producing textiles and other care for textiles  \n",
       "0                                                0.0              \n",
       "1                                                0.0              "
      ]
     },
     "execution_count": 81,
     "metadata": {},
     "output_type": "execute_result"
    }
   ],
   "source": [
    "sample = timeuse[['SEX','GEO/ACL00']+dish_wash_corr.index[0:6].tolist()]\n",
    "sample.head(2)"
   ]
  },
  {
   "cell_type": "markdown",
   "metadata": {},
   "source": [
    "### Feature Transformations"
   ]
  },
  {
   "cell_type": "markdown",
   "metadata": {},
   "source": [
    "#### Label Encoding"
   ]
  },
  {
   "cell_type": "code",
   "execution_count": 82,
   "metadata": {},
   "outputs": [
    {
     "name": "stderr",
     "output_type": "stream",
     "text": [
      "C:\\Users\\luisr\\anaconda3\\lib\\site-packages\\pandas\\core\\generic.py:5303: SettingWithCopyWarning: \n",
      "A value is trying to be set on a copy of a slice from a DataFrame.\n",
      "Try using .loc[row_indexer,col_indexer] = value instead\n",
      "\n",
      "See the caveats in the documentation: https://pandas.pydata.org/pandas-docs/stable/user_guide/indexing.html#returning-a-view-versus-a-copy\n",
      "  self[name] = value\n",
      "<ipython-input-82-f7ad08e806a6>:4: SettingWithCopyWarning: \n",
      "A value is trying to be set on a copy of a slice from a DataFrame.\n",
      "Try using .loc[row_indexer,col_indexer] = value instead\n",
      "\n",
      "See the caveats in the documentation: https://pandas.pydata.org/pandas-docs/stable/user_guide/indexing.html#returning-a-view-versus-a-copy\n",
      "  sample['GEO/ACL00'] = preprocessing.LabelEncoder().fit(sample['GEO/ACL00'].unique()).transform(sample['GEO/ACL00'])\n"
     ]
    }
   ],
   "source": [
    "from sklearn import preprocessing\n",
    "\n",
    "sample.SEX = preprocessing.LabelEncoder().fit(['Females', 'Males']).transform(sample['SEX'])\n",
    "sample['GEO/ACL00'] = preprocessing.LabelEncoder().fit(sample['GEO/ACL00'].unique()).transform(sample['GEO/ACL00'])"
   ]
  },
  {
   "cell_type": "markdown",
   "metadata": {},
   "source": [
    "Note SEX and GEO columns labeled."
   ]
  },
  {
   "cell_type": "code",
   "execution_count": 90,
   "metadata": {},
   "outputs": [
    {
     "data": {
      "text/html": [
       "<div>\n",
       "<style scoped>\n",
       "    .dataframe tbody tr th:only-of-type {\n",
       "        vertical-align: middle;\n",
       "    }\n",
       "\n",
       "    .dataframe tbody tr th {\n",
       "        vertical-align: top;\n",
       "    }\n",
       "\n",
       "    .dataframe thead th {\n",
       "        text-align: right;\n",
       "    }\n",
       "</style>\n",
       "<table border=\"1\" class=\"dataframe\">\n",
       "  <thead>\n",
       "    <tr style=\"text-align: right;\">\n",
       "      <th></th>\n",
       "      <th>SEX</th>\n",
       "      <th>GEO/ACL00</th>\n",
       "      <th>Dish washing</th>\n",
       "      <th>Food management except dish washing</th>\n",
       "      <th>Household and family care</th>\n",
       "      <th>Laundry</th>\n",
       "      <th>Cleaning dwelling</th>\n",
       "      <th>Handicraft and producing textiles and other care for textiles</th>\n",
       "    </tr>\n",
       "  </thead>\n",
       "  <tbody>\n",
       "    <tr>\n",
       "      <th>0</th>\n",
       "      <td>1</td>\n",
       "      <td>0</td>\n",
       "      <td>0.166667</td>\n",
       "      <td>0.366667</td>\n",
       "      <td>2.466667</td>\n",
       "      <td>0.016667</td>\n",
       "      <td>0.133333</td>\n",
       "      <td>0.0</td>\n",
       "    </tr>\n",
       "    <tr>\n",
       "      <th>1</th>\n",
       "      <td>1</td>\n",
       "      <td>1</td>\n",
       "      <td>0.083333</td>\n",
       "      <td>0.250000</td>\n",
       "      <td>2.616667</td>\n",
       "      <td>0.016667</td>\n",
       "      <td>0.100000</td>\n",
       "      <td>0.0</td>\n",
       "    </tr>\n",
       "    <tr>\n",
       "      <th>2</th>\n",
       "      <td>1</td>\n",
       "      <td>5</td>\n",
       "      <td>0.133333</td>\n",
       "      <td>0.266667</td>\n",
       "      <td>2.366667</td>\n",
       "      <td>0.033333</td>\n",
       "      <td>0.183333</td>\n",
       "      <td>0.0</td>\n",
       "    </tr>\n",
       "  </tbody>\n",
       "</table>\n",
       "</div>"
      ],
      "text/plain": [
       "   SEX  GEO/ACL00  Dish washing  Food management except dish washing  \\\n",
       "0    1          0      0.166667                             0.366667   \n",
       "1    1          1      0.083333                             0.250000   \n",
       "2    1          5      0.133333                             0.266667   \n",
       "\n",
       "   Household and family care   Laundry  Cleaning dwelling  \\\n",
       "0                   2.466667  0.016667           0.133333   \n",
       "1                   2.616667  0.016667           0.100000   \n",
       "2                   2.366667  0.033333           0.183333   \n",
       "\n",
       "   Handicraft and producing textiles and other care for textiles  \n",
       "0                                                0.0              \n",
       "1                                                0.0              \n",
       "2                                                0.0              "
      ]
     },
     "execution_count": 90,
     "metadata": {},
     "output_type": "execute_result"
    }
   ],
   "source": [
    "sample.head(3)"
   ]
  },
  {
   "cell_type": "markdown",
   "metadata": {},
   "source": [
    "#### Normalization"
   ]
  },
  {
   "cell_type": "markdown",
   "metadata": {},
   "source": [
    "Target and features definition"
   ]
  },
  {
   "cell_type": "code",
   "execution_count": 87,
   "metadata": {},
   "outputs": [],
   "source": [
    "y = sample.values[:,0]\n",
    "x = sample.values[:,1:]"
   ]
  },
  {
   "cell_type": "markdown",
   "metadata": {},
   "source": [
    "Standartization of features only"
   ]
  },
  {
   "cell_type": "code",
   "execution_count": 93,
   "metadata": {},
   "outputs": [],
   "source": [
    "from sklearn import linear_model\n",
    "x_norm = preprocessing.StandardScaler().fit(x).transform(x)"
   ]
  },
  {
   "cell_type": "code",
   "execution_count": 97,
   "metadata": {},
   "outputs": [
    {
     "data": {
      "text/plain": [
       "(array([1., 1., 1., 1., 1., 1., 1., 1., 1., 1., 1., 1., 1., 1., 0., 0., 0.,\n",
       "        0., 0., 0., 0., 0., 0., 0., 0., 0., 0., 0.]),\n",
       " array([[-1.61245155, -0.52303646, -0.81987264, -0.76262496, -0.95350359,\n",
       "         -0.87819529, -0.96157421],\n",
       "        [-1.36438208, -1.00797092, -1.07174573, -0.63758821, -0.95350359,\n",
       "         -0.98510602, -0.96157421],\n",
       "        [-0.3721042 , -0.71701024, -1.03576386, -0.8459828 , -0.7743217 ,\n",
       "         -0.71782919, -0.96157421],\n",
       "        [-1.11631261, -0.91098403, -0.85585451, -0.6931601 , -0.95350359,\n",
       "         -0.82473992, -0.75913753]]),\n",
       " array([[0.        , 0.16666667, 0.36666667, 2.46666667, 0.01666667,\n",
       "         0.13333333, 0.        ],\n",
       "        [1.        , 0.08333333, 0.25      , 2.61666667, 0.01666667,\n",
       "         0.1       , 0.        ],\n",
       "        [5.        , 0.13333333, 0.26666667, 2.36666667, 0.03333333,\n",
       "         0.18333333, 0.        ],\n",
       "        [2.        , 0.1       , 0.35      , 2.55      , 0.01666667,\n",
       "         0.15      , 0.01666667]]))"
      ]
     },
     "execution_count": 97,
     "metadata": {},
     "output_type": "execute_result"
    }
   ],
   "source": [
    "y, x_norm[:4], x[:4]"
   ]
  },
  {
   "cell_type": "markdown",
   "metadata": {},
   "source": [
    "### Split Sample into Train and Test Sets"
   ]
  },
  {
   "cell_type": "code",
   "execution_count": 134,
   "metadata": {},
   "outputs": [],
   "source": [
    "from sklearn import model_selection\n",
    "\n",
    "x_train, x_test, y_train, y_test = model_selection.train_test_split(x_norm, y, test_size=0.4, random_state=4)"
   ]
  },
  {
   "cell_type": "markdown",
   "metadata": {},
   "source": [
    "### Train logistic Regression Model"
   ]
  },
  {
   "cell_type": "code",
   "execution_count": 135,
   "metadata": {},
   "outputs": [],
   "source": [
    "from sklearn import linear_model\n",
    "\n",
    "log_regr = linear_model.LogisticRegression(C=0.01, solver='liblinear').fit(x_train, y_train)\n"
   ]
  },
  {
   "cell_type": "markdown",
   "metadata": {},
   "source": [
    "### Train and Test Samples Prediction"
   ]
  },
  {
   "cell_type": "code",
   "execution_count": 142,
   "metadata": {},
   "outputs": [],
   "source": [
    "y_tst_pred = log_regr.predict(x_test)\n",
    "y_trn_pred = log_regr.predict(x_train)\n",
    "\n",
    "y_tst_prob = log_regr.predict_proba(x_test)\n",
    "y_trn_prob = log_regr.predict_proba(x_train)"
   ]
  },
  {
   "cell_type": "markdown",
   "metadata": {},
   "source": [
    "### Evaluation"
   ]
  },
  {
   "cell_type": "markdown",
   "metadata": {},
   "source": [
    "#### Jaccard Similarity Evaluation"
   ]
  },
  {
   "cell_type": "code",
   "execution_count": null,
   "metadata": {},
   "outputs": [],
   "source": [
    "from sklearn.metrics import jaccard_score       \n",
    "\n",
    "log_jacc = {'tst_scr':jaccard_similarity_score(y_test, y_tst_pred),\n",
    "        'trn_scr':jaccard_similarity_score(y_train, y_trn_pred)}"
   ]
  },
  {
   "cell_type": "markdown",
   "metadata": {},
   "source": [
    "#### Log loss"
   ]
  },
  {
   "cell_type": "code",
   "execution_count": 144,
   "metadata": {},
   "outputs": [],
   "source": [
    "from sklearn import metrics\n",
    "\n",
    "log_loss_tst = metrics.log_loss(y_test, y_tst_prob)\n",
    "log_loss_trn = metrics.log_loss(y_train, y_trn_prob)"
   ]
  },
  {
   "cell_type": "code",
   "execution_count": 145,
   "metadata": {},
   "outputs": [
    {
     "data": {
      "text/plain": [
       "(0.5453235664927273, 0.5533774631745951)"
      ]
     },
     "execution_count": 145,
     "metadata": {},
     "output_type": "execute_result"
    }
   ],
   "source": [
    "log_loss_tst, log_loss_trn"
   ]
  },
  {
   "cell_type": "markdown",
   "metadata": {},
   "source": [
    "#### Classification Report"
   ]
  },
  {
   "cell_type": "code",
   "execution_count": 149,
   "metadata": {},
   "outputs": [
    {
     "name": "stdout",
     "output_type": "stream",
     "text": [
      "              precision    recall  f1-score   support\n",
      "\n",
      "         0.0       1.00      1.00      1.00         8\n",
      "         1.0       1.00      1.00      1.00         4\n",
      "\n",
      "    accuracy                           1.00        12\n",
      "   macro avg       1.00      1.00      1.00        12\n",
      "weighted avg       1.00      1.00      1.00        12\n",
      "\n"
     ]
    }
   ],
   "source": [
    "from sklearn import metrics\n",
    "\n",
    "print(metrics.classification_report(y_test, y_tst_pred))"
   ]
  },
  {
   "cell_type": "markdown",
   "metadata": {},
   "source": [
    "#### Confusion Matrix"
   ]
  },
  {
   "cell_type": "code",
   "execution_count": 155,
   "metadata": {},
   "outputs": [
    {
     "data": {
      "text/plain": [
       "array([[ 6,  0],\n",
       "       [ 0, 10]], dtype=int64)"
      ]
     },
     "execution_count": 155,
     "metadata": {},
     "output_type": "execute_result"
    }
   ],
   "source": [
    "from sklearn import metrics                                       \n",
    "\n",
    "#metrics.confusion_matrix(y_test, y_tst_pred)              # Update with colormap.\n",
    "metrics.confusion_matrix(y_train, y_trn_pred)\n"
   ]
  },
  {
   "cell_type": "markdown",
   "metadata": {},
   "source": [
    "#### Classification Accuracy Score"
   ]
  },
  {
   "cell_type": "code",
   "execution_count": 138,
   "metadata": {},
   "outputs": [],
   "source": [
    "from sklearn import metrics\n",
    "\n",
    "log_acc = {'tst_acc' : metrics.accuracy_score(y_test, y_tst_pred), 'trn_acc' : metrics.accuracy_score(y_train, y_trn_pred)}"
   ]
  },
  {
   "cell_type": "code",
   "execution_count": 139,
   "metadata": {},
   "outputs": [
    {
     "name": "stdout",
     "output_type": "stream",
     "text": [
      "{'tst_acc': 1.0, 'trn_acc': 1.0}\n"
     ]
    }
   ],
   "source": [
    "print(log_acc)"
   ]
  },
  {
   "cell_type": "markdown",
   "metadata": {},
   "source": [
    "### Visualizing Predictions"
   ]
  },
  {
   "cell_type": "code",
   "execution_count": 156,
   "metadata": {},
   "outputs": [
    {
     "data": {
      "text/html": [
       "<div>\n",
       "<style scoped>\n",
       "    .dataframe tbody tr th:only-of-type {\n",
       "        vertical-align: middle;\n",
       "    }\n",
       "\n",
       "    .dataframe tbody tr th {\n",
       "        vertical-align: top;\n",
       "    }\n",
       "\n",
       "    .dataframe thead th {\n",
       "        text-align: right;\n",
       "    }\n",
       "</style>\n",
       "<table border=\"1\" class=\"dataframe\">\n",
       "  <thead>\n",
       "    <tr style=\"text-align: right;\">\n",
       "      <th></th>\n",
       "      <th>Out-Sample Prediction</th>\n",
       "      <th>Actual Value</th>\n",
       "      <th>Successful Prediction</th>\n",
       "    </tr>\n",
       "  </thead>\n",
       "  <tbody>\n",
       "    <tr>\n",
       "      <th>0</th>\n",
       "      <td>0.0</td>\n",
       "      <td>0.0</td>\n",
       "      <td>True</td>\n",
       "    </tr>\n",
       "    <tr>\n",
       "      <th>1</th>\n",
       "      <td>0.0</td>\n",
       "      <td>0.0</td>\n",
       "      <td>True</td>\n",
       "    </tr>\n",
       "    <tr>\n",
       "      <th>2</th>\n",
       "      <td>1.0</td>\n",
       "      <td>1.0</td>\n",
       "      <td>True</td>\n",
       "    </tr>\n",
       "    <tr>\n",
       "      <th>3</th>\n",
       "      <td>0.0</td>\n",
       "      <td>0.0</td>\n",
       "      <td>True</td>\n",
       "    </tr>\n",
       "    <tr>\n",
       "      <th>4</th>\n",
       "      <td>0.0</td>\n",
       "      <td>0.0</td>\n",
       "      <td>True</td>\n",
       "    </tr>\n",
       "    <tr>\n",
       "      <th>5</th>\n",
       "      <td>0.0</td>\n",
       "      <td>0.0</td>\n",
       "      <td>True</td>\n",
       "    </tr>\n",
       "    <tr>\n",
       "      <th>6</th>\n",
       "      <td>0.0</td>\n",
       "      <td>0.0</td>\n",
       "      <td>True</td>\n",
       "    </tr>\n",
       "    <tr>\n",
       "      <th>7</th>\n",
       "      <td>0.0</td>\n",
       "      <td>0.0</td>\n",
       "      <td>True</td>\n",
       "    </tr>\n",
       "    <tr>\n",
       "      <th>8</th>\n",
       "      <td>1.0</td>\n",
       "      <td>1.0</td>\n",
       "      <td>True</td>\n",
       "    </tr>\n",
       "    <tr>\n",
       "      <th>9</th>\n",
       "      <td>1.0</td>\n",
       "      <td>1.0</td>\n",
       "      <td>True</td>\n",
       "    </tr>\n",
       "    <tr>\n",
       "      <th>10</th>\n",
       "      <td>0.0</td>\n",
       "      <td>0.0</td>\n",
       "      <td>True</td>\n",
       "    </tr>\n",
       "    <tr>\n",
       "      <th>11</th>\n",
       "      <td>1.0</td>\n",
       "      <td>1.0</td>\n",
       "      <td>True</td>\n",
       "    </tr>\n",
       "  </tbody>\n",
       "</table>\n",
       "</div>"
      ],
      "text/plain": [
       "    Out-Sample Prediction  Actual Value  Successful Prediction\n",
       "0                     0.0           0.0                   True\n",
       "1                     0.0           0.0                   True\n",
       "2                     1.0           1.0                   True\n",
       "3                     0.0           0.0                   True\n",
       "4                     0.0           0.0                   True\n",
       "5                     0.0           0.0                   True\n",
       "6                     0.0           0.0                   True\n",
       "7                     0.0           0.0                   True\n",
       "8                     1.0           1.0                   True\n",
       "9                     1.0           1.0                   True\n",
       "10                    0.0           0.0                   True\n",
       "11                    1.0           1.0                   True"
      ]
     },
     "execution_count": 156,
     "metadata": {},
     "output_type": "execute_result"
    }
   ],
   "source": [
    "pandas.DataFrame({'Out-Sample Prediction' : y_tst_pred, 'Actual Value' : y_test, 'Successful Prediction': y_tst_pred==y_test})    # Yes, 9 out of 9 :)"
   ]
  },
  {
   "cell_type": "code",
   "execution_count": 157,
   "metadata": {},
   "outputs": [
    {
     "data": {
      "text/html": [
       "<div>\n",
       "<style scoped>\n",
       "    .dataframe tbody tr th:only-of-type {\n",
       "        vertical-align: middle;\n",
       "    }\n",
       "\n",
       "    .dataframe tbody tr th {\n",
       "        vertical-align: top;\n",
       "    }\n",
       "\n",
       "    .dataframe thead th {\n",
       "        text-align: right;\n",
       "    }\n",
       "</style>\n",
       "<table border=\"1\" class=\"dataframe\">\n",
       "  <thead>\n",
       "    <tr style=\"text-align: right;\">\n",
       "      <th></th>\n",
       "      <th>In-Sample Prediction</th>\n",
       "      <th>Actual Value</th>\n",
       "      <th>Successful Prediction</th>\n",
       "    </tr>\n",
       "  </thead>\n",
       "  <tbody>\n",
       "    <tr>\n",
       "      <th>0</th>\n",
       "      <td>1.0</td>\n",
       "      <td>1.0</td>\n",
       "      <td>True</td>\n",
       "    </tr>\n",
       "    <tr>\n",
       "      <th>1</th>\n",
       "      <td>1.0</td>\n",
       "      <td>1.0</td>\n",
       "      <td>True</td>\n",
       "    </tr>\n",
       "    <tr>\n",
       "      <th>2</th>\n",
       "      <td>1.0</td>\n",
       "      <td>1.0</td>\n",
       "      <td>True</td>\n",
       "    </tr>\n",
       "    <tr>\n",
       "      <th>3</th>\n",
       "      <td>1.0</td>\n",
       "      <td>1.0</td>\n",
       "      <td>True</td>\n",
       "    </tr>\n",
       "    <tr>\n",
       "      <th>4</th>\n",
       "      <td>0.0</td>\n",
       "      <td>0.0</td>\n",
       "      <td>True</td>\n",
       "    </tr>\n",
       "    <tr>\n",
       "      <th>5</th>\n",
       "      <td>1.0</td>\n",
       "      <td>1.0</td>\n",
       "      <td>True</td>\n",
       "    </tr>\n",
       "    <tr>\n",
       "      <th>6</th>\n",
       "      <td>1.0</td>\n",
       "      <td>1.0</td>\n",
       "      <td>True</td>\n",
       "    </tr>\n",
       "    <tr>\n",
       "      <th>7</th>\n",
       "      <td>1.0</td>\n",
       "      <td>1.0</td>\n",
       "      <td>True</td>\n",
       "    </tr>\n",
       "    <tr>\n",
       "      <th>8</th>\n",
       "      <td>0.0</td>\n",
       "      <td>0.0</td>\n",
       "      <td>True</td>\n",
       "    </tr>\n",
       "    <tr>\n",
       "      <th>9</th>\n",
       "      <td>0.0</td>\n",
       "      <td>0.0</td>\n",
       "      <td>True</td>\n",
       "    </tr>\n",
       "    <tr>\n",
       "      <th>10</th>\n",
       "      <td>1.0</td>\n",
       "      <td>1.0</td>\n",
       "      <td>True</td>\n",
       "    </tr>\n",
       "    <tr>\n",
       "      <th>11</th>\n",
       "      <td>1.0</td>\n",
       "      <td>1.0</td>\n",
       "      <td>True</td>\n",
       "    </tr>\n",
       "    <tr>\n",
       "      <th>12</th>\n",
       "      <td>1.0</td>\n",
       "      <td>1.0</td>\n",
       "      <td>True</td>\n",
       "    </tr>\n",
       "    <tr>\n",
       "      <th>13</th>\n",
       "      <td>0.0</td>\n",
       "      <td>0.0</td>\n",
       "      <td>True</td>\n",
       "    </tr>\n",
       "    <tr>\n",
       "      <th>14</th>\n",
       "      <td>0.0</td>\n",
       "      <td>0.0</td>\n",
       "      <td>True</td>\n",
       "    </tr>\n",
       "    <tr>\n",
       "      <th>15</th>\n",
       "      <td>0.0</td>\n",
       "      <td>0.0</td>\n",
       "      <td>True</td>\n",
       "    </tr>\n",
       "  </tbody>\n",
       "</table>\n",
       "</div>"
      ],
      "text/plain": [
       "    In-Sample Prediction  Actual Value  Successful Prediction\n",
       "0                    1.0           1.0                   True\n",
       "1                    1.0           1.0                   True\n",
       "2                    1.0           1.0                   True\n",
       "3                    1.0           1.0                   True\n",
       "4                    0.0           0.0                   True\n",
       "5                    1.0           1.0                   True\n",
       "6                    1.0           1.0                   True\n",
       "7                    1.0           1.0                   True\n",
       "8                    0.0           0.0                   True\n",
       "9                    0.0           0.0                   True\n",
       "10                   1.0           1.0                   True\n",
       "11                   1.0           1.0                   True\n",
       "12                   1.0           1.0                   True\n",
       "13                   0.0           0.0                   True\n",
       "14                   0.0           0.0                   True\n",
       "15                   0.0           0.0                   True"
      ]
     },
     "execution_count": 157,
     "metadata": {},
     "output_type": "execute_result"
    }
   ],
   "source": [
    "pandas.DataFrame({'In-Sample Prediction' : y_trn_pred, 'Actual Value' : y_train, 'Successful Prediction': y_trn_pred==y_train})"
   ]
  },
  {
   "cell_type": "code",
   "execution_count": null,
   "metadata": {},
   "outputs": [],
   "source": []
  }
 ],
 "metadata": {
  "kernelspec": {
   "display_name": "Python 3",
   "language": "python",
   "name": "python3"
  },
  "language_info": {
   "codemirror_mode": {
    "name": "ipython",
    "version": 3
   },
   "file_extension": ".py",
   "mimetype": "text/x-python",
   "name": "python",
   "nbconvert_exporter": "python",
   "pygments_lexer": "ipython3",
   "version": "3.8.3"
  }
 },
 "nbformat": 4,
 "nbformat_minor": 4
}
