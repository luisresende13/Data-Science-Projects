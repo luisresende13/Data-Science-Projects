{
 "cells": [
  {
   "cell_type": "code",
   "execution_count": 9,
   "metadata": {},
   "outputs": [],
   "source": [
    "# import json # print(json.dumps(dict(n=list(range(3))), sort_keys=False, indent=2))  # pretty print example"
   ]
  },
  {
   "cell_type": "markdown",
   "metadata": {},
   "source": [
    "---\n",
    "# \"WHAT'S NEXT?\" MENTAL HEALTH & LIFE TASKS APP OUTLINE"
   ]
  },
  {
   "cell_type": "markdown",
   "metadata": {},
   "source": [
    "### Description\n",
    "\n",
    "Diagnostic tool to manage repetitive mental health related essential habits/activities.\n",
    "\n",
    "### Minimal resources\n",
    "* choose from provided tasks the ones you do the least from each tag\n",
    "* configure tasks' info, e.g. repeat, period, times for alarm, days of the week, month, expires, etc.\n",
    "* present tasks of the day groupped and sorted by tag, plus options for sorting intra and extra tag, including personlized and 'obvious/likely next task' prediction/recommendation (which should consider input timeline).\n",
    "* optional extra tag general sorted task list of 'obious/likely next task' recommendation.\n",
    "* mark completed tasks (optionally mark up-to/not-up-to date for a task on a period - instead of just 'completed'.\n",
    "* Optionally choose up-to-date reset time ( instead of inference by scheduled date-time)\n",
    "\n",
    "Obs: Remember you got a table on time use categories"
   ]
  },
  {
   "cell_type": "markdown",
   "metadata": {},
   "source": [
    "### App screens\n",
    "* Tag activities (Show lists of active/inactive activities per tag. Optionally, shows single list of activities for all tags instead.)\n",
    "* Monitoring\n",
    "* Task settings\n",
    "* User settings\n",
    "* Settings"
   ]
  },
  {
   "cell_type": "markdown",
   "metadata": {},
   "source": [
    "## App info & detailment"
   ]
  },
  {
   "cell_type": "code",
   "execution_count": null,
   "metadata": {},
   "outputs": [],
   "source": [
    "user_info = [ # user dataframe\n",
    "    'id',\n",
    "    'name',\n",
    "    'age',\n",
    "    'email',\n",
    "    'password'\n",
    "]\n",
    "\n",
    "user_settings = {\n",
    "    'color_scheme': ['dual', 'triple'], # green/red or blue/red for done/undone for 'dual' or green/yellow/red for done/unlikely-next-undone/likely-next-undone\n",
    "    'include late': [False, True], # default: false. include urgency category late, meaning task should be reset to undone but haas not been set to done. \n",
    "    'show general list': [True, False] # wether to show general task list.\n",
    "}"
   ]
  },
  {
   "cell_type": "markdown",
   "metadata": {},
   "source": [
    "### Activity info and detailment"
   ]
  },
  {
   "cell_type": "code",
   "execution_count": null,
   "metadata": {},
   "outputs": [],
   "source": [
    "task_info = { # task dataframe scheme\n",
    "    'name': 'eat',\n",
    "    'tag': 'health',\n",
    "    'duration': 20,                         # minutes\n",
    "    'method': ['None', 'repeat', 'expires'],\n",
    "    'daily': False,\n",
    "    'repeat': 3,                              # times a day\n",
    "    'alarms': ['09:00', '14:00', '19:00'],    # time list for alarm of size 'repeat' (optional)\n",
    "    'dates': ['seg', 'qua', 'sex'],           # 'every day' or personalized day of the week or month user choice for repeat and alarm (optional)\n",
    "    'expires': None,                          # alternative method for auto repetition (ex. '6 hs').\n",
    "}\n",
    "\n",
    "task_rank_info = [\n",
    "    'active': [True, False],\n",
    "    'status': ['done', 'undone' ,'late'], # (resets mannulay or automatically based on provided repetition method and pattern)\n",
    "    'next likelyhood group': ['likely', 'unlikely'], # yellow or red\n",
    "    'extra tag next likelyhood': .75,\n",
    "    'extra tag rank position': 3,\n",
    "    'intra tag next likelyhood': .98,\n",
    "    'intra tag rank position': 1,\n",
    "]"
   ]
  },
  {
   "cell_type": "markdown",
   "metadata": {},
   "source": [
    "## Task tags"
   ]
  },
  {
   "cell_type": "code",
   "execution_count": 2,
   "metadata": {},
   "outputs": [],
   "source": [
    "critical_tasks = [\n",
    "    'quit weed', 'quit cigarretes',\n",
    "    'wake up (early)', 'sleep (early)',\n",
    "    'text',  'exercise', 'clean house', \n",
    "] # ordered by impact/importance\n",
    "\n",
    "day_donts = ['music', 'videos', 'phone', 'weed', 'cigarretes', 'coffe', 'masturbation', ]\n",
    "\n",
    "day_tasks = [ # includes active day tasks (daily + scheduled for the day) - ordered by schedule\n",
    "    'dont do other stuff', # music, smoking, masturbation, videos, \n",
    "    'wake up (early)',\n",
    "    'quit weed',\n",
    "    'quit cigarretes',\n",
    "    'drink water',\n",
    "    'laundry (clothe)',\n",
    "    'clean room',\n",
    "    'exercise',\n",
    "    'shower',\n",
    "    'eat',\n",
    "    'wash dishes',\n",
    "    'take trash',\n",
    "    'brush teeth',\n",
    "    'text-family',\n",
    "    'text-friends',\n",
    "    'text-work',\n",
    "    'eat',\n",
    "    'study session',\n",
    "    'work session',\n",
    "    'sleep (early)',\n",
    "]\n",
    "\n",
    "not_daily_tasks = [\n",
    "        'cut finger nails', # Hygiene\n",
    "        'shave',\n",
    "        'clean ears',\n",
    "        'cut hair',\n",
    "        'laundry (bed sheets)', # House\n",
    "        'clean kitchen',\n",
    "        'clean bathroom',\n",
    "        'clean out area',\n",
    "        'buy supplies',\n",
    "    \n",
    "]\n",
    "\n",
    "task_tags = ['health', 'house', 'hygiene', 'family', 'friends', 'study', 'work']\n",
    "task_names = {\n",
    "    'hygiene': [ # self hygiene, very essential\n",
    "        'shower',\n",
    "        'brush teeth',\n",
    "        'cut finger nails',\n",
    "        'shave',\n",
    "        'clean ears',\n",
    "        'cut hair',\n",
    "    ],\n",
    "    'health': [ # basic, most essential\n",
    "        'wake up (early)',\n",
    "        'drink water',\n",
    "        'exercise',\n",
    "        'eat',               # important. wanna catch two birds with one shot? try eating with friens or family.\n",
    "        'smoke less',\n",
    "        'no weed at day',\n",
    "        'sleep (early)',\n",
    "    ],\n",
    "    'house': [ # environment hygiene, essential\n",
    "        'laundry (clothe)',\n",
    "        'laundry (bed sheets)',\n",
    "        'clean room',\n",
    "        'wash dishes',\n",
    "        'take trash',\n",
    "        'clean kitchen',\n",
    "        'clean bathroom',\n",
    "        'clean out area',\n",
    "        'buy supplies',\n",
    "    ],\n",
    "    'family': [ # social\n",
    "        'meet',  # presential meet/hang/talk\n",
    "        'phone', # virtual meet/talk\n",
    "        'text',  # text message exchange/reply\n",
    "    ],\n",
    "    'friends': [ # social\n",
    "        'meet',\n",
    "        'phone',\n",
    "        'text',\n",
    "    ],\n",
    "    'study': [ # professional\n",
    "        'watch class',\n",
    "        'study session',\n",
    "    ],\n",
    "    'work': [ # professional\n",
    "        'meet', # include work meeting\n",
    "        'phone',\n",
    "        'text',\n",
    "        'work session',\n",
    "        'team work session',\n",
    "    ],\n",
    "}"
   ]
  },
  {
   "cell_type": "markdown",
   "metadata": {},
   "source": [
    "    'name': (string)\n",
    "    ------\n",
    "    task name\n",
    "    \n",
    "    'tag': (string)\n",
    "    ------\n",
    "    task category\n",
    "\n",
    "    'duration': (integer)\n",
    "    -----------\n",
    "    task duration in minutes\n",
    "    \n",
    "    'method': (None, string)\n",
    "    ---------\n",
    "    'None', 'repeat' or 'expires'.\n",
    "    'None': means the user have to mannually set the task as done/undone.\n",
    "    'repeat': right after user sets task as 'done', resets task to 'undone' 'repeat' times a day, using 'alarms' times if provided.\n",
    "    'expires': task is always reset to 'undone' after 'expires' time after user sets it to done.\n",
    "                 \n",
    "    'repeat': (None, integer)\n",
    "    ---------\n",
    "    times a day to include task in day list; default: repeat=1 time a day.\n",
    "    \n",
    "    'alarms' (list of times)\n",
    "    --------\n",
    "    time list for alarms, of size 'repeat' (optional)\n",
    "    \n",
    "    'dates': (list of day of the week or month)\n",
    "    -------\n",
    "    'every day' or personalized day of the week or month user choice to reset task as undone 'repeat' times (optional)\n",
    "    \n",
    "    'expires' (None, minutes) obs: can be days.\n",
    "    ----------\n",
    "    alternative method for auto repetition."
   ]
  }
 ],
 "metadata": {
  "kernelspec": {
   "display_name": "Python 3",
   "language": "python",
   "name": "python3"
  },
  "language_info": {
   "codemirror_mode": {
    "name": "ipython",
    "version": 3
   },
   "file_extension": ".py",
   "mimetype": "text/x-python",
   "name": "python",
   "nbconvert_exporter": "python",
   "pygments_lexer": "ipython3",
   "version": "3.8.3"
  }
 },
 "nbformat": 4,
 "nbformat_minor": 4
}
