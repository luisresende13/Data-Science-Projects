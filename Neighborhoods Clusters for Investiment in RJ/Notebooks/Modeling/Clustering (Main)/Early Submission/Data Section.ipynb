{
 "cells": [
  {
   "cell_type": "markdown",
   "metadata": {},
   "source": [
    "# 2. Data"
   ]
  },
  {
   "cell_type": "markdown",
   "metadata": {},
   "source": [
    "The analysed data sustaining the project had two main sources: Public data hosted at “DataRio”, the official Rio de Janeiro Open Data Portal, and commercial data from the Foursquare Places API, which provides real-time access to Foursquare’s global database of venue data and user content."
   ]
  },
  {
   "cell_type": "markdown",
   "metadata": {},
   "source": [
    "### 2.1 Population data"
   ]
  },
  {
   "cell_type": "markdown",
   "metadata": {},
   "source": [
    "In addition to foursquare location data, population data of the city of Rio de Janeiro for the year of 2010 were collected. This dataset is composed of 199 rows, each representing a neighborhood or administrative region of the city, which are listed in the first column of the dataset, with the exception of the first row which contains the total population of the city. Administrative regions’ data was not included for analysis. The second column lists the total population of each neighborhood or region. \n",
    "\n",
    "The remaining 28 columns list the population of each neighborhood or region by age group. The age groups are divided as follows: A separate column for each age between less than one year and 15 years (16 columns) and one column for each of the following age groups: 16-17, 18-19, 20-24, 25-29, 30-34, 35-39, 40-49, 50-59, 60-64, 65-69, 70-74, 75-79, 80 or more (12 columns).\n",
    "\n",
    "Total population between the ages of 16 and 29 was obtained and considered as the target population. The other population feature considered was the adult population, between 18 and 65 years old. A snapshot with the first rows and the columns of interest of the original table is exposed below:\n",
    "\n",
    "\n",
    "Neighborhood population table.\n",
    "\n",
    "The Jupyter Notebook containing the processing of this table can be downloaded at: \n",
    "https://github.com/luisresende13/Data_Science_Projects/blob/main/Data%20Science%20Projects/Clusters%20Demogr%C3%A1ficos%20e%20Econ%C3%B4micos%20de%20Bairros%20do%20Rio%20de%20Janeiro/Notebooks/Data%20Cleaning/Cleaning/popula%C3%A7%C3%A3o_cleaning.ipynb\n",
    "\n",
    "The dataset is available at at: https://www.data.rio/datasets/popula%C3%A7%C3%A3o-residente-por-idade-e-por-grupos-de-idade-segundo-as-%C3%A1reas-de-planejamento-ap-regi%C3%B5es-administrativas-ra-e-bairros-em-2000-2010-.\n",
    "\n",
    "2.2 Neighborhood Data\n",
    "\n",
    "Another dataset from the same portal above mentioned was acquired containing data on the neighborhoods. This dataset contains information on each neighborhood such as area, length, administrative region, official name and more (The remaining columns are not going to be commented on as they do not relate to the project proposal). It has 163 rows (the number of the official count of neighborhoods) and 14 columns. From this dataset, only the name and area of each neighborhood were used. A snapshot of the first rows and selected columns of the original table can be seen below.\n",
    "\n",
    "\n",
    "Neighborhood table.\n",
    "\n",
    "This dataset is available at: https://www.data.rio/datasets/limite-de-bairros.\n",
    "\n",
    "2.3 Neighborhoods Latitude, Longitude and Estimated Radius\n",
    "\n",
    "The acquisition of the neighborhoods coordinates was done using the geopy library, by inputting the neighborhoods names to the library’s geocode method. Using the acquired neighborhoods areas, radiuses values were estimated, which approximated the areas of the neighborhoods to circles so searches could be conducted in each neighborhood area. Manual corrections of the coordinates and radiuses were performed to improve results. Using the folium library, an interactive map was generated in order to visualize, evaluate and correct these values. \n",
    "\n",
    "\n",
    "\n",
    "The Jupyter Notebook containing the collection and cleaning process of this data can be downloaded at: \n",
    "\n",
    "https://github.com/luisresende13/Data_Science_Projects/blob/main/Data%20Science%20Projects/Clusters%20Demogr%C3%A1ficos%20e%20Econ%C3%B4micos%20de%20Bairros%20do%20Rio%20de%20Janeiro/Notebooks/Data%20Collection/neighborhoods_data_collection.ipynb\n",
    "\n",
    "2.4 Foursquare Gym Data\n",
    "\n",
    "A search for gyms was performed inside the defined area of each neighborhood, using the foursquare places API ‘Search’ endpoint. For each search call, the parameters of the API request URL were the latitude and longitude values that approximate the neighborhood center, the estimated radius of the neighborhood which approximates the area of the neighborhood to a circle, and the id of the category ‘gym’. This request configuration searches for venues categorized as gyms around the given coordinates, inside the given radius, and retrieves up to 50 venues per call. Only one search result reached the 50 venues limit, which did not compromise the overall quality of the search. \n",
    "\n",
    "Each search resulted in a pandas dataframe where each row corresponded to a specific gym found inside the search area. For each venue found by the search the following information was kept, each in a column: \n",
    "\n",
    "venue name\n",
    "id\n",
    "category\n",
    "category id\n",
    "latitude\n",
    "longitude\n",
    "venue\n",
    "distance from search area center\n",
    "neighborhood\n",
    "\n",
    "These data frames were generated and concatenated along the vertical axis iteratively, resulting in a final table composed of 1209 rows and 8 columns.\n",
    "\n",
    "The search found a total of 972 gyms. The overlap between the search areas resulted in 237 gyms found more than once. These gyms were then considered to belong to more than one neighborhood as they are located near to the neighborhoods’ borders.\n",
    "\n",
    "Finally, the gyms were marked as dots on a map of the city so the result of the search could be visually evaluated.\n",
    "\n",
    "\n",
    "Foursquare places API search for gyms in Rio de Janeiro.\n",
    "\n",
    "The Jupyter Notebook containing the search can be downloaded at:\n",
    "\n",
    "https://github.com/luisresende13/Data_Science_Projects/blob/main/Data%20Science%20Projects/Clusters%20Demogr%C3%A1ficos%20e%20Econ%C3%B4micos%20de%20Bairros%20do%20Rio%20de%20Janeiro/Notebooks/Data%20Collection/gyms_data_collection.ipynb\n",
    "\n",
    "2.5 Additional Data\n",
    "\n",
    "Additional data on the neighborhoods was acquired in order to enrich the analysis and better select the neighborhoods for recommendation. These additional data consisted of two datasets, one on population income per neighborhood from 2010 and another containing counts of commercial establishments of industry sectors per neighborhood from 2016.\n",
    "\n",
    "Only a few features from these two datasets were selected for analysis as follows,\n",
    "\n",
    "Industry sectors features:\n",
    "\n",
    "Retailing\n",
    "Credit institutions, insurance and capitalization\n",
    "Trade and administration of real estate, securities, technical services\n",
    "Accommodation, food, repair, maintenance, writing services\n",
    "Medical, dental and veterinary services\n",
    "Education\n",
    "\n",
    "Income features:\n",
    "\n",
    "Population with income responsible for the permanent private residences per Km2.\n",
    "Total monthly income of the population responsible for the permanent private residences per Km2.\n",
    "Average nominal income of the population responsible for the permanent private residences.\n",
    "\n",
    "The Jupyter Notebooks containing the processing of these tables can be downloaded respectively at:\n",
    "\n",
    "https://github.com/luisresende13/Data_Science_Projects/blob/main/Data%20Science%20Projects/Clusters%20Demogr%C3%A1ficos%20e%20Econ%C3%B4micos%20de%20Bairros%20do%20Rio%20de%20Janeiro/Notebooks/Data%20Cleaning/Cleaning/renda_cleaning.ipynb\n",
    "\n",
    "https://github.com/luisresende13/Data_Science_Projects/blob/main/Data%20Science%20Projects/Clusters%20Demogr%C3%A1ficos%20e%20Econ%C3%B4micos%20de%20Bairros%20do%20Rio%20de%20Janeiro/Notebooks/Data%20Cleaning/Cleaning/estabelecimentos_cleaning.ipynb\n",
    "\n",
    "The datasets are available at: \n",
    "\n",
    "Commerce dataset: https://www.data.rio/documents/n%C3%BAmero-de-estabelecimentos-por-atividade-econ%C3%B4mica-segundo-as-%C3%A1reas-de-planejamento-ap-regi%C3%B5es-administrativas-ra-e-bairros-no-munic%C3%ADpio-do-rio-de-janeiro-em-2005-2019/about\n",
    "\n",
    "Income dataset: https://www.data.rio/documents/rendimento-nominal-mensal-m%C3%A9dio-do-respons%C3%A1vel-do-domic%C3%ADlio-por-sexo-do-respons%C3%A1vel-segundo-as-regi%C3%B5es-administrativas-ra-do-munic%C3%ADpio-do-rio-de-janeiro-em-2000-2010/about"
   ]
  }
 ],
 "metadata": {
  "kernelspec": {
   "display_name": "Python 3",
   "language": "python",
   "name": "python3"
  },
  "language_info": {
   "codemirror_mode": {
    "name": "ipython",
    "version": 3
   },
   "file_extension": ".py",
   "mimetype": "text/x-python",
   "name": "python",
   "nbconvert_exporter": "python",
   "pygments_lexer": "ipython3",
   "version": "3.8.3"
  }
 },
 "nbformat": 4,
 "nbformat_minor": 4
}
