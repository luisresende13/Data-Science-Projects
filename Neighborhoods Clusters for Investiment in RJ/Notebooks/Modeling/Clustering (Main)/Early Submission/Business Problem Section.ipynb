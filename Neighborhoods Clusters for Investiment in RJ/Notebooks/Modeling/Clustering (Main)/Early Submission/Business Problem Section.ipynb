{
 "cells": [
  {
   "cell_type": "markdown",
   "metadata": {},
   "source": [
    "# 1. Introduction"
   ]
  },
  {
   "cell_type": "markdown",
   "metadata": {},
   "source": [
    "## 1.1 Contextualization"
   ]
  },
  {
   "cell_type": "markdown",
   "metadata": {},
   "source": [
    "Gym owners or new investors interested in building a new gym in the city of Rio de Janeiro .m face the challenge of having to choose between 163 different neighborhoods, each with its own characteristics and peculiarities. Popular neighborhoods already contain lots of gyms while others have very few. Average population age in traditional neighborhoods is usually higher, while neighborhoods containing universities typically have many young residents. The presence of different types of commercial establishments in each neighborhood also have an impact on the investment risks since it tells a lot about the neighborhoods realities. Any new gym investor or current gym owner might be interested in knowing what neighborhoods in the city will offer the best conditions for the success of his/her new gym. "
   ]
  },
  {
   "cell_type": "markdown",
   "metadata": {},
   "source": [
    "## 1.2 Business Problem"
   ]
  },
  {
   "cell_type": "markdown",
   "metadata": {},
   "source": [
    "What are the best neighborhoods in Rio de Janeiro to start a new gym? That’s the business problem this project aims to solve. The final deliverable of the project should be a list of recommended neighborhoods."
   ]
  }
 ],
 "metadata": {
  "kernelspec": {
   "display_name": "Python 3",
   "language": "python",
   "name": "python3"
  },
  "language_info": {
   "codemirror_mode": {
    "name": "ipython",
    "version": 3
   },
   "file_extension": ".py",
   "mimetype": "text/x-python",
   "name": "python",
   "nbconvert_exporter": "python",
   "pygments_lexer": "ipython3",
   "version": "3.8.3"
  }
 },
 "nbformat": 4,
 "nbformat_minor": 4
}
