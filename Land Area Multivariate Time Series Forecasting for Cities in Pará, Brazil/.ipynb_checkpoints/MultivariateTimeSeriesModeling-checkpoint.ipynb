{
 "cells": [
  {
   "cell_type": "markdown",
   "metadata": {},
   "source": [
    "# MULTIVARIATE TIME SERIES MODELING\n",
    "# Agriculture and pasture land area historical serie for cities in Pará, Brazil\n",
    "---\n",
    "# 0. Importing Modules"
   ]
  },
  {
   "cell_type": "code",
   "execution_count": 1,
   "metadata": {},
   "outputs": [],
   "source": [
    "import os\n",
    "import json\n",
    "import pandas as pd\n",
    "import numpy as np; np.random.seed(999)\n",
    "import matplotlib.pyplot as plt\n",
    "import seaborn as sns; sns.set()\n",
    "import warnings; warnings.filterwarnings('ignore')\n",
    "import tools # Custom modules\n",
    "from time_series_modeling import (\n",
    "    model, model_selection,\n",
    "    series_model, sequence_scorer\n",
    ")"
   ]
  },
  {
   "cell_type": "markdown",
   "metadata": {},
   "source": [
    "---\n",
    "# 1. Processing data"
   ]
  },
  {
   "cell_type": "code",
   "execution_count": 2,
   "metadata": {},
   "outputs": [
    {
     "name": "stdout",
     "output_type": "stream",
     "text": [
      "Done! Loaded 1107 files.\n"
     ]
    }
   ],
   "source": [
    "# 1.1 Loading processed data\n",
    "data = pd.read_csv('data/clean/data.csv') # clean provided data\n",
    "series = tools.preprocess.load_series(path='data/clean/series/') # dict of pandas series \n",
    "X = pd.read_csv('data/clean/series.csv', index_col=0) # dataframe of series as columns\n",
    "# 1.2 Defining target variable name\n",
    "target = 'area'\n",
    "# 1.3 Extracting target values as pandas series indexed by integer encoded years\n",
    "# Excluding series with less than n_min=3 values\n",
    "lab_series = tools.preprocess.get_lab_series(series, data, target, index_col='year', n_min=3)\n",
    "keys = list(lab_series.keys())\n",
    "# 1.4 Extracting target values as pandas series indexed by integer encoded years\n",
    "# Excluding series with less than n_min=2 values\n",
    "# including index colum in 'lab_ind_index' dataframes to reference each observation\n",
    "lab_ind_series = tools.preprocess.get_lab_indexed_series(series, data, cols=['index', target], index_col='year', n_min=3)\n",
    "ind_keys = list(lab_ind_series.keys())\n",
    "# 1.5 product and product type category values\n",
    "prodtypes = ['permanent', 'temporary', 'pasture']\n",
    "prods = [\n",
    "    'Rice', 'Beans', 'Cassava', 'Corn', 'Soy', 'Sorghum', 'Cocoa',\n",
    "    'Palm oil', 'Açaí', 'Livestock', 'Others-temporary', 'Others-permanent'\n",
    "]\n",
    "# 1.6 Extracting indexes of each product\n",
    "prod_indexes = tools.category_index.get_ctgr_combs_indexes(data, prods)\n",
    "# 1.7 Extracting indexes of each product type\n",
    "prodtype_indexes = tools.category_index.get_ctgrs_indexes(data)"
   ]
  },
  {
   "cell_type": "markdown",
   "metadata": {},
   "source": [
    "---\n",
    "# 2. Choosing models"
   ]
  },
  {
   "cell_type": "code",
   "execution_count": 3,
   "metadata": {},
   "outputs": [],
   "source": [
    "# List of selected regressors\n",
    "regressors_names = [\n",
    "    'RandomForestRegressor', 'BaggingRegressor', 'SVR', 'PoissonRegressor',\n",
    "    'KernelRidge', 'LinearSVR', 'NuSVR', 'GaussianProcessRegressor',\n",
    "    'TweedieRegressor', 'PassiveAggressiveRegressor', 'MLPRegressor', 'DummyRegressor'\n",
    "]\n",
    "# list of time series specialized models\n",
    "specialized_models = ['AutoReg', 'ARIMA', 'SARIMAX']\n",
    "\n",
    "# 100 sample time series for modeling\n",
    "sample_series_keys = list(np.random.choice(keys, 50, replace=False))\n",
    "\n",
    "# define analysis params dict\n",
    "analysis_params = {\n",
    "    'models_names': regressors_names + specialized_models,\n",
    "    'keys': sample_series_keys,\n",
    "    'test_size': 2,\n",
    "    'min_train_size': 1,\n",
    "}\n",
    "# save and load dict as json file\n",
    "# json.dump(analysis_params, open('data/analysis_params.json', 'w'))\n",
    "analysis_params = json.load(open('data/analysis_params.json', 'r'))"
   ]
  },
  {
   "cell_type": "markdown",
   "metadata": {},
   "source": [
    "# 3. Predicting and scoring with each model for each time serie"
   ]
  },
  {
   "cell_type": "markdown",
   "metadata": {},
   "source": [
    "### 3.1 Instantiating model class object"
   ]
  },
  {
   "cell_type": "code",
   "execution_count": 4,
   "metadata": {},
   "outputs": [],
   "source": [
    "ts_model = model(\n",
    "    series=lab_series,\n",
    "    ** analysis_params\n",
    ")"
   ]
  },
  {
   "cell_type": "markdown",
   "metadata": {},
   "source": [
    "### 3.2 Grid scoring mdoels for each time serie"
   ]
  },
  {
   "cell_type": "code",
   "execution_count": null,
   "metadata": {},
   "outputs": [
    {
     "name": "stdout",
     "output_type": "stream",
     "text": [
      "Keys scored: 7/50 - scores.csv\n"
     ]
    }
   ],
   "source": [
    "keys_models_lc = ts_model.score_keys_models(\n",
    "    path='scores/',\n",
    "    filename='scores.csv',\n",
    "    path_partial='partial/',\n",
    "    verbose=1,\n",
    ")"
   ]
  },
  {
   "cell_type": "markdown",
   "metadata": {},
   "source": [
    "### 3.3 Concatenating partial scores (Optional)"
   ]
  },
  {
   "cell_type": "code",
   "execution_count": null,
   "metadata": {},
   "outputs": [],
   "source": [
    "# scrs = model_selection.concat_partial_scrs('scores/partial/')\n",
    "# scrs.to_csv('scores/scores.csv', index=True)"
   ]
  },
  {
   "cell_type": "markdown",
   "metadata": {},
   "source": [
    "# 4. Selecting models based on scores and additional parameters"
   ]
  },
  {
   "cell_type": "code",
   "execution_count": null,
   "metadata": {},
   "outputs": [],
   "source": [
    "selector = model_selection()\n",
    "\n",
    "model_selection_params = json.load(open('data/model_selection_params.json', 'r'))\n",
    "keys_models_maps = selector.model_selection_optimization(\n",
    "    model_selection_params,\n",
    "    scrs_path='scores/scores.csv', scrs=None,\n",
    "    save_path='models/default_analysis/', verbose=0,\n",
    ")"
   ]
  },
  {
   "cell_type": "markdown",
   "metadata": {},
   "source": [
    "# 5. Predicting multiple sequences"
   ]
  },
  {
   "cell_type": "code",
   "execution_count": null,
   "metadata": {},
   "outputs": [],
   "source": [
    "Model = series_model(\n",
    "    lab_ind_series, keys=None, target=target,\n",
    "    # model_path='models/default_analysis/criteria-wape.json'\n",
    "    # Uncoment and pass 'keys' parameter to predict with single model\n",
    ")"
   ]
  },
  {
   "cell_type": "markdown",
   "metadata": {},
   "source": [
    "### 5.2 Predicting sequences for multiple models"
   ]
  },
  {
   "cell_type": "code",
   "execution_count": null,
   "metadata": {},
   "outputs": [],
   "source": [
    "# input path to folder of models (key-model maps) and save_path to folder to save predictions\n",
    "models_preds = Model.maps_predictions(\n",
    "    x_min=2, x_max=48, test_size=2,\n",
    "    min_train_size=1, max_train_size=50,\n",
    "    min_test_size=0, dropna=False,\n",
    "    path='models/default_analysis/', filter_by='.',\n",
    "    save_path='predictions/default_analysis/'  #  change 'min_test_size' to zero and 'dropna' to False\n",
    ")                                                    #  to make future predictions"
   ]
  },
  {
   "cell_type": "markdown",
   "metadata": {},
   "source": [
    "# 6. Scoring models' Prediction sequences"
   ]
  },
  {
   "cell_type": "code",
   "execution_count": null,
   "metadata": {},
   "outputs": [],
   "source": [
    "Ytrue = data[target].dropna()\n",
    "\n",
    "seq_scorer = sequence_scorer(\n",
    "    Ytrue, target, criteria='wape', avg=False,\n",
    "    metrics=['mae', 'estd', 'max_error', 'mse', 'wape', 'r2', 'mpe'],\n",
    "    indexes=prodtype_indexes\n",
    ")"
   ]
  },
  {
   "cell_type": "code",
   "execution_count": null,
   "metadata": {},
   "outputs": [],
   "source": [
    "models_scrs = seq_scorer.score_models_prediction_sequences(preds_path='predictions/default_analysis/', filter_by='.')"
   ]
  },
  {
   "cell_type": "markdown",
   "metadata": {},
   "source": [
    "# 7. Visualizing and comparing models performances"
   ]
  },
  {
   "cell_type": "code",
   "execution_count": null,
   "metadata": {},
   "outputs": [],
   "source": [
    "seq_scorer.plot_models_sequence_scrs(\n",
    "    models_scrs, figsize=(12, 7),\n",
    "#     ylim=[(0.04, 0.5), (0.115, 0.25), (-0.005, 0.06), (0.002, 0.08)],\n",
    "    legend=False, leg_loc=(1,0), leg_i=1\n",
    ")"
   ]
  },
  {
   "cell_type": "markdown",
   "metadata": {},
   "source": [
    "# 8. Visualizing final model predictions\n",
    "\n",
    "### 8.1 Reloading selected model predictions"
   ]
  },
  {
   "cell_type": "code",
   "execution_count": null,
   "metadata": {},
   "outputs": [],
   "source": [
    "pred_path = 'predictions/default_analysis/default/'\n",
    "model_path = 'models/default_analysis/default.json'\n",
    "\n",
    "yhat_i = sequence_scorer().load_csv_folder(pred_path)\n",
    "default_model = json.load(open(model_path))"
   ]
  },
  {
   "cell_type": "markdown",
   "metadata": {},
   "source": [
    "### 8.2 Random series real versus predicted values (one and two steps predictions)"
   ]
  },
  {
   "cell_type": "code",
   "execution_count": null,
   "metadata": {},
   "outputs": [],
   "source": [
    "sequence_scorer().plot_random_pred(\n",
    "    X, default_model, yhat_i,\n",
    "    exclude=[], n_series=12, n_cols=3, figsize=[5, 3],\n",
    "    X_params={'marker': 'o', 'ms': 6, 'lw': 4},\n",
    "    X0_params={'marker': 'x', 'ms': 7, 'lw': 3},\n",
    "    X1_params={'marker': 'x', 'ms': 7, 'lw': 3},\n",
    "    save_path='plots/',\n",
    "    filename='predictions.jpg'    \n",
    ")"
   ]
  }
 ],
 "metadata": {
  "kernelspec": {
   "display_name": "Python 3",
   "language": "python",
   "name": "python3"
  },
  "language_info": {
   "codemirror_mode": {
    "name": "ipython",
    "version": 3
   },
   "file_extension": ".py",
   "mimetype": "text/x-python",
   "name": "python",
   "nbconvert_exporter": "python",
   "pygments_lexer": "ipython3",
   "version": "3.8.3"
  }
 },
 "nbformat": 4,
 "nbformat_minor": 4
}
