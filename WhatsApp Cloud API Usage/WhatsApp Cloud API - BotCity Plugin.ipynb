{
 "cells": [
  {
   "cell_type": "markdown",
   "metadata": {},
   "source": [
    "# WhatsApp Business Cloud API"
   ]
  },
  {
   "cell_type": "markdown",
   "metadata": {},
   "source": [
    "#### Imports"
   ]
  },
  {
   "cell_type": "code",
   "execution_count": 7,
   "metadata": {},
   "outputs": [],
   "source": [
    "import requests, json, pandas as pd"
   ]
  },
  {
   "cell_type": "markdown",
   "metadata": {},
   "source": [
    "# Get quote from quotable api"
   ]
  },
  {
   "cell_type": "code",
   "execution_count": 10,
   "metadata": {},
   "outputs": [],
   "source": [
    "# api_url = r'https://zenquotes.io/api/'  # api base url\n",
    "api_url = r'https://api.quotable.io/'\n",
    "### Get random quote\n",
    "params = {\n",
    "#     'key': api_key,\n",
    "    'minLenght': 1,\n",
    "    'maxLenght': 5000,\n",
    "    'tags': 'famous-quotes|wisdom|friendship|inspirational|success',\n",
    "#     'author': None,\n",
    "#     'authorId': None,\n",
    "}\n",
    "\n",
    "endpoint = 'random?' # random, quotes, tags, authors, search/quotes, search/authors\n",
    "url = api_url + endpoint # + urllib.parse.urlencode(params)\n",
    "payload, headers = {}, {}\n",
    "response = requests.request(\"GET\", url, params=params)"
   ]
  },
  {
   "cell_type": "code",
   "execution_count": 11,
   "metadata": {},
   "outputs": [
    {
     "data": {
      "text/plain": [
       "{'_id': 'OATcVT3HPV',\n",
       " 'content': 'Wisdom ceases to be wisdom when it becomes too proud to weep, too grave to laugh, and too selfish to seek other than itself.',\n",
       " 'author': 'Kahlil Gibran',\n",
       " 'tags': ['wisdom'],\n",
       " 'authorSlug': 'kahlil-gibran',\n",
       " 'length': 124,\n",
       " 'dateAdded': '2021-05-07',\n",
       " 'dateModified': '2021-05-07'}"
      ]
     },
     "execution_count": 11,
     "metadata": {},
     "output_type": "execute_result"
    }
   ],
   "source": [
    "res = json.loads(response.text); quote = res; res"
   ]
  },
  {
   "cell_type": "code",
   "execution_count": 12,
   "metadata": {},
   "outputs": [],
   "source": [
    "### Get authors\n",
    "endpoint = 'authors'\n",
    "url = api_url + endpoint # urllib.parse.urlencode(params)\n",
    "response = requests.request(\"GET\", url, params={'limit': 1000, 'page': 1,'slug': res['authorSlug']})\n",
    "res = json.loads(response.text)"
   ]
  },
  {
   "cell_type": "code",
   "execution_count": 15,
   "metadata": {},
   "outputs": [
    {
     "data": {
      "text/html": [
       "<div>\n",
       "<style scoped>\n",
       "    .dataframe tbody tr th:only-of-type {\n",
       "        vertical-align: middle;\n",
       "    }\n",
       "\n",
       "    .dataframe tbody tr th {\n",
       "        vertical-align: top;\n",
       "    }\n",
       "\n",
       "    .dataframe thead th {\n",
       "        text-align: right;\n",
       "    }\n",
       "</style>\n",
       "<table border=\"1\" class=\"dataframe\">\n",
       "  <thead>\n",
       "    <tr style=\"text-align: right;\">\n",
       "      <th></th>\n",
       "      <th>_id</th>\n",
       "      <th>name</th>\n",
       "      <th>link</th>\n",
       "      <th>bio</th>\n",
       "      <th>description</th>\n",
       "      <th>quoteCount</th>\n",
       "      <th>slug</th>\n",
       "      <th>dateAdded</th>\n",
       "      <th>dateModified</th>\n",
       "    </tr>\n",
       "  </thead>\n",
       "  <tbody>\n",
       "    <tr>\n",
       "      <th>0</th>\n",
       "      <td>h05GYnKzckM3</td>\n",
       "      <td>Kahlil Gibran</td>\n",
       "      <td>https://en.wikipedia.org/wiki/Kahlil_Gibran</td>\n",
       "      <td>Gibran Khalil Gibran (January 6, 1883 – April ...</td>\n",
       "      <td>Lebanese artist and author</td>\n",
       "      <td>14</td>\n",
       "      <td>kahlil-gibran</td>\n",
       "      <td>2020-01-27</td>\n",
       "      <td>2020-01-27</td>\n",
       "    </tr>\n",
       "  </tbody>\n",
       "</table>\n",
       "</div>"
      ],
      "text/plain": [
       "            _id           name                                         link  \\\n",
       "0  h05GYnKzckM3  Kahlil Gibran  https://en.wikipedia.org/wiki/Kahlil_Gibran   \n",
       "\n",
       "                                                 bio  \\\n",
       "0  Gibran Khalil Gibran (January 6, 1883 – April ...   \n",
       "\n",
       "                  description  quoteCount           slug   dateAdded  \\\n",
       "0  Lebanese artist and author          14  kahlil-gibran  2020-01-27   \n",
       "\n",
       "  dateModified  \n",
       "0   2020-01-27  "
      ]
     },
     "execution_count": 15,
     "metadata": {},
     "output_type": "execute_result"
    }
   ],
   "source": [
    "author = res['results'][0]\n",
    "pd.DataFrame(res['results']).nlargest(5, 'quoteCount')"
   ]
  },
  {
   "cell_type": "code",
   "execution_count": 14,
   "metadata": {},
   "outputs": [
    {
     "data": {
      "text/plain": [
       "{'count': 1,\n",
       " 'totalCount': 1,\n",
       " 'page': 1,\n",
       " 'totalPages': 1,\n",
       " 'lastItemIndex': None,\n",
       " 'results': [{'_id': 'h05GYnKzckM3',\n",
       "   'name': 'Kahlil Gibran',\n",
       "   'link': 'https://en.wikipedia.org/wiki/Kahlil_Gibran',\n",
       "   'bio': 'Gibran Khalil Gibran (January 6, 1883 – April 10, 1931), was a Lebanese-American writer, poet and visual artist, also considered a philosopher although he himself rejected this title.',\n",
       "   'description': 'Lebanese artist and author',\n",
       "   'quoteCount': 14,\n",
       "   'slug': 'kahlil-gibran',\n",
       "   'dateAdded': '2020-01-27',\n",
       "   'dateModified': '2020-01-27'}]}"
      ]
     },
     "execution_count": 14,
     "metadata": {},
     "output_type": "execute_result"
    }
   ],
   "source": [
    "res"
   ]
  },
  {
   "cell_type": "code",
   "execution_count": 13,
   "metadata": {},
   "outputs": [
    {
     "data": {
      "text/plain": [
       "'A sabedoria deixa de ser sabedoria quando fica orgulhoso demais para chorar, grave demais para rir e egoísta demais para procurar além de si mesmo.'"
      ]
     },
     "execution_count": 13,
     "metadata": {},
     "output_type": "execute_result"
    }
   ],
   "source": [
    "### Extra: Translate response\n",
    "import translators as ts\n",
    "\n",
    "def translate(query):\n",
    "    return ts.google(query_text=query, from_language='en', to_language='pt')\n",
    "\n",
    "translate(quote['content'])"
   ]
  },
  {
   "cell_type": "markdown",
   "metadata": {},
   "source": [
    "---"
   ]
  },
  {
   "cell_type": "markdown",
   "metadata": {},
   "source": [
    "# Send messages"
   ]
  },
  {
   "cell_type": "markdown",
   "metadata": {},
   "source": [
    "#### Credentials"
   ]
  },
  {
   "cell_type": "code",
   "execution_count": 3,
   "metadata": {},
   "outputs": [],
   "source": [
    "credentials = json.loads(open('credentials.json', 'r').read())\n",
    "\n",
    "token = credentials['token']\n",
    "number_id = credentials['number_id']\n",
    "namespace = credentials['template_namespace']"
   ]
  },
  {
   "cell_type": "markdown",
   "metadata": {},
   "source": [
    "#### Api address & phone message endpoint"
   ]
  },
  {
   "cell_type": "code",
   "execution_count": 4,
   "metadata": {},
   "outputs": [
    {
     "data": {
      "text/plain": [
       "'https://graph.facebook.com/v13.0/101349609340848/messages'"
      ]
     },
     "execution_count": 4,
     "metadata": {},
     "output_type": "execute_result"
    }
   ],
   "source": [
    "WhatsAppCloudAPIUrl = 'https://graph.facebook.com/v13.0'\n",
    "msg_url = WhatsAppCloudAPIUrl + f'/{number_id}/messages'; msg_url # messages endpoint"
   ]
  },
  {
   "cell_type": "markdown",
   "metadata": {},
   "source": [
    "### Send text message (user-initiated conversation only)"
   ]
  },
  {
   "cell_type": "code",
   "execution_count": 36,
   "metadata": {},
   "outputs": [],
   "source": [
    "payload = {\n",
    "  \"messaging_product\": \"whatsapp\",\n",
    "  \"recipient_type\": \"individual\",\n",
    "  \"to\": \"5531984258358\",\n",
    "  \"type\": \"text\",\n",
    "  \"text\": json.dumps({\n",
    "    \"preview_url\": \"False\",\n",
    "    \"body\": \"MESSAGE_CONTENT\"\n",
    "  })\n",
    "}"
   ]
  },
  {
   "cell_type": "code",
   "execution_count": 37,
   "metadata": {},
   "outputs": [
    {
     "data": {
      "text/plain": [
       "{'messaging_product': 'whatsapp',\n",
       " 'contacts': [{'input': '5531984258358', 'wa_id': '553184258358'}],\n",
       " 'messages': [{'id': 'wamid.HBgMNTUzMTg0MjU4MzU4FQIAERgSRUNFMTZFNjQxOEU5Njk1RkUyAA=='}]}"
      ]
     },
     "execution_count": 37,
     "metadata": {},
     "output_type": "execute_result"
    }
   ],
   "source": [
    "params, headers = {}, {'Authorization': f'Bearer {token}'}\n",
    "response = requests.request(\"POST\", msg_url, headers=headers, data=payload, params=params)\n",
    "res = json.loads(response.text); res"
   ]
  },
  {
   "cell_type": "code",
   "execution_count": 50,
   "metadata": {},
   "outputs": [
    {
     "data": {
      "text/plain": [
       "{'error': {'message': \"Unsupported post request. Object with ID '101349609340848' does not exist, cannot be loaded due to missing permissions, or does not support this operation. Please read the Graph API documentation at https://developers.facebook.com/docs/graph-api\",\n",
       "  'type': 'GraphMethodException',\n",
       "  'code': 100,\n",
       "  'error_subcode': 33,\n",
       "  'fbtrace_id': 'A2kuD44-6MFqClRy2G5lL-F'}}"
      ]
     },
     "execution_count": 50,
     "metadata": {},
     "output_type": "execute_result"
    }
   ],
   "source": [
    "params, headers = {}, {}\n",
    "response = requests.request(\"POST\", msg_url, headers=headers, data=payload, params=params)\n",
    "res = json.loads(response.text); res"
   ]
  },
  {
   "cell_type": "markdown",
   "metadata": {},
   "source": [
    "---"
   ]
  },
  {
   "cell_type": "markdown",
   "metadata": {},
   "source": [
    "### Send template message (user or business-initiated conversation)"
   ]
  },
  {
   "cell_type": "markdown",
   "metadata": {},
   "source": [
    "#### Template:\n",
    "\n",
    "    Frases para te motivar todos os dias.\n",
    "\n",
    "    *{{1}}*\n",
    "\n",
    "    Autor: {{2}}\n",
    "\n",
    "    Tags: {{3}}\n",
    "\n",
    "#### Sample message:\n",
    "\n",
    "    Frases para te motivar todos os dias.\n",
    "    \n",
    "    Quando o destino nos entrega um limão, vamos tentar fazer limonada.\n",
    "\n",
    "    Autor: Dale Carnegie\n",
    "\n",
    "    Tags: Citações famosas"
   ]
  },
  {
   "cell_type": "markdown",
   "metadata": {},
   "source": [
    "#### Formatting functions"
   ]
  },
  {
   "cell_type": "code",
   "execution_count": 16,
   "metadata": {},
   "outputs": [],
   "source": [
    "def translate(query):\n",
    "    if type(query)==str:\n",
    "        return ts.google(query_text=query.replace('-', ' '), from_language='en', to_language='pt')\n",
    "    elif type(query)==list:\n",
    "        return list(map(translate, query))\n",
    "\n",
    "# Extra: Capitalize single string or list\n",
    "def capitalize(query):\n",
    "    if type(query)==str:\n",
    "        return query.capitalize()\n",
    "    elif type(query)==list:\n",
    "        return list(map(capitalize, query))\n",
    "\n",
    "as_text_obj = lambda text: {'type': 'text', 'text': text}\n",
    "\n",
    "def as_text_object_list(text_list):\n",
    "    return list(map(as_text_obj, text_list))"
   ]
  },
  {
   "cell_type": "markdown",
   "metadata": {},
   "source": [
    "#### Define post request params"
   ]
  },
  {
   "cell_type": "code",
   "execution_count": 35,
   "metadata": {},
   "outputs": [],
   "source": [
    "text_list = [\n",
    "    translate(quote['content']), quote['author'],\n",
    "    translate(author['description']), author['link'],\n",
    "    ', '.join(capitalize(translate(quote['tags']))) + '.'\n",
    "]"
   ]
  },
  {
   "cell_type": "code",
   "execution_count": 39,
   "metadata": {},
   "outputs": [],
   "source": [
    "payload = {\n",
    "  \"messaging_product\": \"whatsapp\",\n",
    "  \"recipient_type\": \"individual\",\n",
    "  \"to\": \"5531984258358\", # try multiple divided by ','.\n",
    "  \"type\": \"template\",\n",
    "  \"template\": json.dumps({\n",
    "#     \"namespace\": credentials['template_namespace'], # template namespace id\n",
    "    \"name\": \"citacao_famosa\", # template name id\n",
    "    \"language\": {\n",
    "      \"code\": \"pt_BR\"\n",
    "    },\n",
    "    \"components\": [\n",
    "      {\n",
    "        \"type\": \"body\",\n",
    "        \"parameters\": as_text_object_list(text_list)\n",
    "      }\n",
    "    ]\n",
    "  })\n",
    "}"
   ]
  },
  {
   "cell_type": "markdown",
   "metadata": {},
   "source": [
    "#### Send request with message params to api url"
   ]
  },
  {
   "cell_type": "code",
   "execution_count": 40,
   "metadata": {},
   "outputs": [
    {
     "data": {
      "text/plain": [
       "{'messaging_product': 'whatsapp',\n",
       " 'contacts': [{'input': '5531984258358', 'wa_id': '553184258358'}],\n",
       " 'messages': [{'id': 'wamid.HBgMNTUzMTg0MjU4MzU4FQIAERgSNUZFREEwOTFGRDFBQTAzMTc4AA=='}]}"
      ]
     },
     "execution_count": 40,
     "metadata": {},
     "output_type": "execute_result"
    }
   ],
   "source": [
    "params, headers = {}, {'Authorization': f'Bearer {token}'}\n",
    "response = requests.request(\"POST\", msg_url, headers=headers, data=payload, params=params)\n",
    "res = json.loads(response.text); res"
   ]
  },
  {
   "cell_type": "markdown",
   "metadata": {},
   "source": [
    "Obs: Correct response output for successful message."
   ]
  },
  {
   "cell_type": "markdown",
   "metadata": {},
   "source": [
    "# Send text message using BotCity WhatsApp Plugin"
   ]
  },
  {
   "cell_type": "markdown",
   "metadata": {},
   "source": [
    "#### Install WhatsApp Cloud API BotCity Plugin"
   ]
  },
  {
   "cell_type": "code",
   "execution_count": 2,
   "metadata": {},
   "outputs": [
    {
     "name": "stdout",
     "output_type": "stream",
     "text": [
      "Collecting botcity-whatsapp-plugin\n",
      "  Downloading botcity-whatsapp-plugin-0.1.0.tar.gz (22 kB)\n",
      "Requirement already satisfied: requests in c:\\users\\luisr\\anaconda3\\lib\\site-packages (from botcity-whatsapp-plugin) (2.28.1)\n",
      "Requirement already satisfied: idna<4,>=2.5 in c:\\users\\luisr\\anaconda3\\lib\\site-packages (from requests->botcity-whatsapp-plugin) (2.10)\n",
      "Requirement already satisfied: charset-normalizer<3,>=2 in c:\\users\\luisr\\anaconda3\\lib\\site-packages (from requests->botcity-whatsapp-plugin) (2.1.0)\n",
      "Requirement already satisfied: certifi>=2017.4.17 in c:\\users\\luisr\\anaconda3\\lib\\site-packages (from requests->botcity-whatsapp-plugin) (2020.6.20)\n",
      "Requirement already satisfied: urllib3<1.27,>=1.21.1 in c:\\users\\luisr\\anaconda3\\lib\\site-packages (from requests->botcity-whatsapp-plugin) (1.25.7)\n",
      "Building wheels for collected packages: botcity-whatsapp-plugin\n",
      "  Building wheel for botcity-whatsapp-plugin (setup.py): started\n",
      "  Building wheel for botcity-whatsapp-plugin (setup.py): finished with status 'done'\n",
      "  Created wheel for botcity-whatsapp-plugin: filename=botcity_whatsapp_plugin-0.1.0-py3-none-any.whl size=5654 sha256=2c12aa10896ed69b8eb2c3c080c78a8d5675316d52cece08301f9eab0cc58d1b\n",
      "  Stored in directory: c:\\users\\luisr\\appdata\\local\\pip\\cache\\wheels\\1e\\3b\\a0\\a373c38c0c6e13f3a6f9ea5ee5bc926262e0c17dc34cccf846\n",
      "Successfully built botcity-whatsapp-plugin\n",
      "Installing collected packages: botcity-whatsapp-plugin\n",
      "Successfully installed botcity-whatsapp-plugin-0.1.0\n"
     ]
    }
   ],
   "source": [
    "!pip install botcity-whatsapp-plugin"
   ]
  },
  {
   "cell_type": "markdown",
   "metadata": {},
   "source": [
    "#### Import and instantiate plugin"
   ]
  },
  {
   "cell_type": "code",
   "execution_count": 9,
   "metadata": {},
   "outputs": [],
   "source": [
    "from botcity.plugins.whatsapp import BotWhatsappPlugin\n",
    "# Instantiate the plugin\n",
    "whatsapp = BotWhatsappPlugin(access_token=token, whatsapp_number_id=number_id)"
   ]
  },
  {
   "cell_type": "markdown",
   "metadata": {},
   "source": [
    "### Sending test message"
   ]
  },
  {
   "cell_type": "code",
   "execution_count": 18,
   "metadata": {},
   "outputs": [],
   "source": [
    "# Phone numbers must be used in format:\n",
    "# [country code][phone number including area code]\n",
    "whatsapp.send_text_message(\"5531984258358\", \"Hey! Sending a simple message! 😃\")"
   ]
  }
 ],
 "metadata": {
  "kernelspec": {
   "display_name": "Python 3",
   "language": "python",
   "name": "python3"
  },
  "language_info": {
   "codemirror_mode": {
    "name": "ipython",
    "version": 3
   },
   "file_extension": ".py",
   "mimetype": "text/x-python",
   "name": "python",
   "nbconvert_exporter": "python",
   "pygments_lexer": "ipython3",
   "version": "3.8.3"
  }
 },
 "nbformat": 4,
 "nbformat_minor": 4
}
