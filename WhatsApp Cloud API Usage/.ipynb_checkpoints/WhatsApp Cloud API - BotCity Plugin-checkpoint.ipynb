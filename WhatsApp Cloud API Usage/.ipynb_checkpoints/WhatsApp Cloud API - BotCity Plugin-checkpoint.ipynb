{
 "cells": [
  {
   "cell_type": "code",
   "execution_count": null,
   "metadata": {},
   "outputs": [],
   "source": [
    "token =\"EAAIyEfhhDxQBAGG1lMHZAE31RIFhllp89Xk1agkvZA8dmlcZA8RqHdGcxXVFL0moJmMUymyXKxYkNjk1AFMJIjfIax4wQjS5FI7lZA1KRRmNNyoBU0K0YnzPWkhtcsT2H7GR0nCoZCZBDZCr6RvRCalXN3ITvWbQmUm4qoiC4cy9GzqioySKHhqAAMku0kRmktMcbAWNY6exl5lmwoRamIJ3P9Qa3mQJfIZD\"\n",
    "number_id = \"101349609340848\"\n",
    "\n",
    "# Instantiate the plugin\n",
    "whatsapp = BotWhatsappPlugin(access_token=token, whatsapp_number_id=number_id)"
   ]
  },
  {
   "cell_type": "code",
   "execution_count": null,
   "metadata": {},
   "outputs": [],
   "source": [
    "sENDI"
   ]
  },
  {
   "cell_type": "code",
   "execution_count": null,
   "metadata": {},
   "outputs": [],
   "source": [
    "# Phone numbers must be used in format:\n",
    "# [country code][phone number including area code]\n",
    "whatsapp.send_text_message(\"5519987654321\", \"Hey! Sending a simple message! 😃\")"
   ]
  }
 ],
 "metadata": {
  "kernelspec": {
   "display_name": "Python 3",
   "language": "python",
   "name": "python3"
  },
  "language_info": {
   "codemirror_mode": {
    "name": "ipython",
    "version": 3
   },
   "file_extension": ".py",
   "mimetype": "text/x-python",
   "name": "python",
   "nbconvert_exporter": "python",
   "pygments_lexer": "ipython3",
   "version": "3.8.3"
  }
 },
 "nbformat": 4,
 "nbformat_minor": 4
}
