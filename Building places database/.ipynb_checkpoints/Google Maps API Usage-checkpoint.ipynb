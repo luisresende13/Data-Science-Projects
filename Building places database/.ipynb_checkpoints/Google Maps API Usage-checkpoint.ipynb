{
 "cells": [
  {
   "cell_type": "markdown",
   "metadata": {},
   "source": [
    "# Prepare environment"
   ]
  },
  {
   "cell_type": "markdown",
   "metadata": {},
   "source": [
    "#### Install Google Maps Python client"
   ]
  },
  {
   "cell_type": "code",
   "execution_count": 413,
   "metadata": {},
   "outputs": [
    {
     "name": "stdout",
     "output_type": "stream",
     "text": [
      "Collecting googlemaps\n",
      "  Downloading googlemaps-4.6.0.tar.gz (31 kB)\n",
      "Requirement already satisfied, skipping upgrade: requests<3.0,>=2.20.0 in c:\\users\\luisr\\anaconda3\\lib\\site-packages (from googlemaps) (2.23.0)\n",
      "Requirement already satisfied, skipping upgrade: idna<3,>=2.5 in c:\\users\\luisr\\anaconda3\\lib\\site-packages (from requests<3.0,>=2.20.0->googlemaps) (2.10)\n",
      "Requirement already satisfied, skipping upgrade: urllib3!=1.25.0,!=1.25.1,<1.26,>=1.21.1 in c:\\users\\luisr\\anaconda3\\lib\\site-packages (from requests<3.0,>=2.20.0->googlemaps) (1.25.7)\n",
      "Requirement already satisfied, skipping upgrade: certifi>=2017.4.17 in c:\\users\\luisr\\anaconda3\\lib\\site-packages (from requests<3.0,>=2.20.0->googlemaps) (2020.6.20)\n",
      "Requirement already satisfied, skipping upgrade: chardet<4,>=3.0.2 in c:\\users\\luisr\\anaconda3\\lib\\site-packages (from requests<3.0,>=2.20.0->googlemaps) (3.0.4)\n",
      "Building wheels for collected packages: googlemaps\n",
      "  Building wheel for googlemaps (setup.py): started\n",
      "  Building wheel for googlemaps (setup.py): finished with status 'done'\n",
      "  Created wheel for googlemaps: filename=googlemaps-4.6.0-py3-none-any.whl size=38539 sha256=a92e9239959b2d46aef5df80e7cd18b1dd2eaf2c6f75a791fb9a2e8e7a2af296\n",
      "  Stored in directory: c:\\users\\luisr\\appdata\\local\\pip\\cache\\wheels\\2d\\e9\\ee\\336c1792ed04efbf4fe9c89662d701f5c1f1fdddf8782951d3\n",
      "Successfully built googlemaps\n",
      "Installing collected packages: googlemaps\n",
      "Successfully installed googlemaps-4.6.0\n"
     ]
    }
   ],
   "source": [
    "!pip install -U googlemaps # Install google maps python client"
   ]
  },
  {
   "cell_type": "markdown",
   "metadata": {},
   "source": [
    "#### Import modules and libraries"
   ]
  },
  {
   "cell_type": "code",
   "execution_count": 415,
   "metadata": {},
   "outputs": [],
   "source": [
    "import pandas as pd, numpy as np, requests, urllib, json, googlemaps\n",
    "from pprint import pprint"
   ]
  },
  {
   "cell_type": "markdown",
   "metadata": {},
   "source": [
    "#### Load Google API key"
   ]
  },
  {
   "cell_type": "code",
   "execution_count": 416,
   "metadata": {},
   "outputs": [],
   "source": [
    "apikey = open('GoogleApiKey.txt', 'r').read() # load google api key"
   ]
  },
  {
   "cell_type": "markdown",
   "metadata": {},
   "source": [
    "---\n",
    "# Example requests with python client\n",
    "\n",
    "Link: <a href=https://googlemaps.github.io/google-maps-services-python/docs/index.html#module-googlemaps>Google Maps API Python Client Documentation</a>\n",
    "\n",
    "#### Define google maps client"
   ]
  },
  {
   "cell_type": "code",
   "execution_count": 417,
   "metadata": {},
   "outputs": [],
   "source": [
    "gmaps = googlemaps.Client(key=apikey)"
   ]
  },
  {
   "cell_type": "markdown",
   "metadata": {},
   "source": [
    "## Example 1. Geocode and reverse geocode"
   ]
  },
  {
   "cell_type": "code",
   "execution_count": 428,
   "metadata": {},
   "outputs": [
    {
     "data": {
      "text/html": [
       "<div>\n",
       "<style scoped>\n",
       "    .dataframe tbody tr th:only-of-type {\n",
       "        vertical-align: middle;\n",
       "    }\n",
       "\n",
       "    .dataframe tbody tr th {\n",
       "        vertical-align: top;\n",
       "    }\n",
       "\n",
       "    .dataframe thead th {\n",
       "        text-align: right;\n",
       "    }\n",
       "</style>\n",
       "<table border=\"1\" class=\"dataframe\">\n",
       "  <thead>\n",
       "    <tr style=\"text-align: right;\">\n",
       "      <th></th>\n",
       "      <th>address_components</th>\n",
       "      <th>formatted_address</th>\n",
       "      <th>geometry</th>\n",
       "      <th>place_id</th>\n",
       "      <th>types</th>\n",
       "    </tr>\n",
       "  </thead>\n",
       "  <tbody>\n",
       "    <tr>\n",
       "      <th>0</th>\n",
       "      <td>[{'long_name': 'Centro', 'short_name': 'Centro...</td>\n",
       "      <td>Centro, Rio de Janeiro - State of Rio de Janei...</td>\n",
       "      <td>{'bounds': {'northeast': {'lat': -22.8826894, ...</td>\n",
       "      <td>ChIJF3IcFV5_mQARfbkw_ML5_X8</td>\n",
       "      <td>[political, sublocality, sublocality_level_1]</td>\n",
       "    </tr>\n",
       "  </tbody>\n",
       "</table>\n",
       "</div>"
      ],
      "text/plain": [
       "                                  address_components  \\\n",
       "0  [{'long_name': 'Centro', 'short_name': 'Centro...   \n",
       "\n",
       "                                   formatted_address  \\\n",
       "0  Centro, Rio de Janeiro - State of Rio de Janei...   \n",
       "\n",
       "                                            geometry  \\\n",
       "0  {'bounds': {'northeast': {'lat': -22.8826894, ...   \n",
       "\n",
       "                      place_id                                          types  \n",
       "0  ChIJF3IcFV5_mQARfbkw_ML5_X8  [political, sublocality, sublocality_level_1]  "
      ]
     },
     "execution_count": 428,
     "metadata": {},
     "output_type": "execute_result"
    }
   ],
   "source": [
    "# Geocoding an address (retrives list of objects)\n",
    "geocode_result = gmaps.geocode('Centro, Rio de Janeiro'); pd.DataFrame(geocode_result).head()"
   ]
  },
  {
   "cell_type": "code",
   "execution_count": 464,
   "metadata": {},
   "outputs": [
    {
     "data": {
      "text/html": [
       "<div>\n",
       "<style scoped>\n",
       "    .dataframe tbody tr th:only-of-type {\n",
       "        vertical-align: middle;\n",
       "    }\n",
       "\n",
       "    .dataframe tbody tr th {\n",
       "        vertical-align: top;\n",
       "    }\n",
       "\n",
       "    .dataframe thead th {\n",
       "        text-align: right;\n",
       "    }\n",
       "</style>\n",
       "<table border=\"1\" class=\"dataframe\">\n",
       "  <thead>\n",
       "    <tr style=\"text-align: right;\">\n",
       "      <th></th>\n",
       "      <th>address_components</th>\n",
       "      <th>formatted_address</th>\n",
       "      <th>geometry</th>\n",
       "      <th>place_id</th>\n",
       "      <th>types</th>\n",
       "      <th>plus_code</th>\n",
       "    </tr>\n",
       "  </thead>\n",
       "  <tbody>\n",
       "    <tr>\n",
       "      <th>0</th>\n",
       "      <td>[{'long_name': '32', 'short_name': '32', 'type...</td>\n",
       "      <td>R. Silva Jardim, 32 - Centro, Rio de Janeiro -...</td>\n",
       "      <td>{'bounds': {'northeast': {'lat': -22.9071633, ...</td>\n",
       "      <td>ChIJQ6p8VmZ_mQARnurBHcCFgRM</td>\n",
       "      <td>[premise]</td>\n",
       "      <td>NaN</td>\n",
       "    </tr>\n",
       "    <tr>\n",
       "      <th>1</th>\n",
       "      <td>[{'long_name': '3', 'short_name': '3', 'types'...</td>\n",
       "      <td>Praça Tiradentes, 3 - Centro, Rio de Janeiro -...</td>\n",
       "      <td>{'location': {'lat': -22.9070535, 'lng': -43.1...</td>\n",
       "      <td>EkVQcmHDp2EgVGlyYWRlbnRlcywgMyAtIENlbnRybywgUm...</td>\n",
       "      <td>[street_address]</td>\n",
       "      <td>NaN</td>\n",
       "    </tr>\n",
       "    <tr>\n",
       "      <th>2</th>\n",
       "      <td>[{'long_name': '9-3', 'short_name': '9-3', 'ty...</td>\n",
       "      <td>Praça Tiradentes, 9-3 - Centro, Rio de Janeiro...</td>\n",
       "      <td>{'bounds': {'northeast': {'lat': -22.9070535, ...</td>\n",
       "      <td>ChIJ-xCGqmd_mQAR2hXjcRj4434</td>\n",
       "      <td>[route]</td>\n",
       "      <td>NaN</td>\n",
       "    </tr>\n",
       "  </tbody>\n",
       "</table>\n",
       "</div>"
      ],
      "text/plain": [
       "                                  address_components  \\\n",
       "0  [{'long_name': '32', 'short_name': '32', 'type...   \n",
       "1  [{'long_name': '3', 'short_name': '3', 'types'...   \n",
       "2  [{'long_name': '9-3', 'short_name': '9-3', 'ty...   \n",
       "\n",
       "                                   formatted_address  \\\n",
       "0  R. Silva Jardim, 32 - Centro, Rio de Janeiro -...   \n",
       "1  Praça Tiradentes, 3 - Centro, Rio de Janeiro -...   \n",
       "2  Praça Tiradentes, 9-3 - Centro, Rio de Janeiro...   \n",
       "\n",
       "                                            geometry  \\\n",
       "0  {'bounds': {'northeast': {'lat': -22.9071633, ...   \n",
       "1  {'location': {'lat': -22.9070535, 'lng': -43.1...   \n",
       "2  {'bounds': {'northeast': {'lat': -22.9070535, ...   \n",
       "\n",
       "                                            place_id             types  \\\n",
       "0                        ChIJQ6p8VmZ_mQARnurBHcCFgRM         [premise]   \n",
       "1  EkVQcmHDp2EgVGlyYWRlbnRlcywgMyAtIENlbnRybywgUm...  [street_address]   \n",
       "2                        ChIJ-xCGqmd_mQAR2hXjcRj4434           [route]   \n",
       "\n",
       "  plus_code  \n",
       "0       NaN  \n",
       "1       NaN  \n",
       "2       NaN  "
      ]
     },
     "execution_count": 464,
     "metadata": {},
     "output_type": "execute_result"
    }
   ],
   "source": [
    "# Look up an address with reverse geocoding (retrives list of objects)\n",
    "coords = (-22.9070828, -43.18191480000001)\n",
    "reverse_geocode_result = gmaps.reverse_geocode(coords); pd.DataFrame(reverse_geocode_result).head(3)"
   ]
  },
  {
   "cell_type": "markdown",
   "metadata": {},
   "source": [
    "## Example 2. Places search"
   ]
  },
  {
   "cell_type": "markdown",
   "metadata": {},
   "source": [
    "#### Search nearby"
   ]
  },
  {
   "cell_type": "code",
   "execution_count": 468,
   "metadata": {},
   "outputs": [
    {
     "name": "stdout",
     "output_type": "stream",
     "text": [
      "(20, 18)\n"
     ]
    },
    {
     "data": {
      "text/html": [
       "<div>\n",
       "<style scoped>\n",
       "    .dataframe tbody tr th:only-of-type {\n",
       "        vertical-align: middle;\n",
       "    }\n",
       "\n",
       "    .dataframe tbody tr th {\n",
       "        vertical-align: top;\n",
       "    }\n",
       "\n",
       "    .dataframe thead th {\n",
       "        text-align: right;\n",
       "    }\n",
       "</style>\n",
       "<table border=\"1\" class=\"dataframe\">\n",
       "  <thead>\n",
       "    <tr style=\"text-align: right;\">\n",
       "      <th></th>\n",
       "      <th>business_status</th>\n",
       "      <th>geometry</th>\n",
       "      <th>icon</th>\n",
       "      <th>icon_background_color</th>\n",
       "      <th>icon_mask_base_uri</th>\n",
       "      <th>name</th>\n",
       "      <th>opening_hours</th>\n",
       "      <th>photos</th>\n",
       "      <th>place_id</th>\n",
       "      <th>plus_code</th>\n",
       "      <th>reference</th>\n",
       "      <th>scope</th>\n",
       "      <th>types</th>\n",
       "      <th>vicinity</th>\n",
       "      <th>price_level</th>\n",
       "      <th>permanently_closed</th>\n",
       "      <th>rating</th>\n",
       "      <th>user_ratings_total</th>\n",
       "    </tr>\n",
       "  </thead>\n",
       "  <tbody>\n",
       "    <tr>\n",
       "      <th>0</th>\n",
       "      <td>OPERATIONAL</td>\n",
       "      <td>{'location': {'lat': -22.9050157, 'lng': -43.1...</td>\n",
       "      <td>https://maps.gstatic.com/mapfiles/place_api/ic...</td>\n",
       "      <td>#7B9EB0</td>\n",
       "      <td>https://maps.gstatic.com/mapfiles/place_api/ic...</td>\n",
       "      <td>Viação Teresópolis e Turismo</td>\n",
       "      <td>{'open_now': True}</td>\n",
       "      <td>[{'height': 1000, 'html_attributions': ['&lt;a hr...</td>\n",
       "      <td>ChIJ7e2Aml9_mQARJNtzwTHW4Us</td>\n",
       "      <td>{'compound_code': '3RVG+X3 Centro, Rio de Jane...</td>\n",
       "      <td>ChIJ7e2Aml9_mQARJNtzwTHW4Us</td>\n",
       "      <td>GOOGLE</td>\n",
       "      <td>[meal_delivery, moving_company, food, point_of...</td>\n",
       "      <td>Rua São José, 35 - Centro, Rio de Janeiro</td>\n",
       "      <td>NaN</td>\n",
       "      <td>NaN</td>\n",
       "      <td>NaN</td>\n",
       "      <td>NaN</td>\n",
       "    </tr>\n",
       "    <tr>\n",
       "      <th>1</th>\n",
       "      <td>OPERATIONAL</td>\n",
       "      <td>{'location': {'lat': -22.8991333, 'lng': -43.1...</td>\n",
       "      <td>https://maps.gstatic.com/mapfiles/place_api/ic...</td>\n",
       "      <td>#FF9E67</td>\n",
       "      <td>https://maps.gstatic.com/mapfiles/place_api/ic...</td>\n",
       "      <td>Farofa Restô</td>\n",
       "      <td>{'open_now': False}</td>\n",
       "      <td>NaN</td>\n",
       "      <td>ChIJd0ekpll_mQARnK4_-5Hjbhg</td>\n",
       "      <td>{'compound_code': '4R2C+8G Centro, Rio de Jane...</td>\n",
       "      <td>ChIJd0ekpll_mQARnK4_-5Hjbhg</td>\n",
       "      <td>GOOGLE</td>\n",
       "      <td>[restaurant, meal_delivery, food, point_of_int...</td>\n",
       "      <td>Beco do Bragança, 37 - Lojas A B C - Centro, R...</td>\n",
       "      <td>2.0</td>\n",
       "      <td>NaN</td>\n",
       "      <td>NaN</td>\n",
       "      <td>NaN</td>\n",
       "    </tr>\n",
       "    <tr>\n",
       "      <th>2</th>\n",
       "      <td>OPERATIONAL</td>\n",
       "      <td>{'location': {'lat': -22.905609, 'lng': -43.17...</td>\n",
       "      <td>https://maps.gstatic.com/mapfiles/place_api/ic...</td>\n",
       "      <td>#FF9E67</td>\n",
       "      <td>https://maps.gstatic.com/mapfiles/place_api/ic...</td>\n",
       "      <td>Mr. Chan</td>\n",
       "      <td>{'open_now': True}</td>\n",
       "      <td>[{'height': 2448, 'html_attributions': ['&lt;a hr...</td>\n",
       "      <td>ChIJJc3DOF5_mQARYbZrto644NU</td>\n",
       "      <td>{'compound_code': '3RVC+QC Centro, Rio de Jane...</td>\n",
       "      <td>ChIJJc3DOF5_mQARYbZrto644NU</td>\n",
       "      <td>GOOGLE</td>\n",
       "      <td>[meal_delivery, meal_takeaway, restaurant, foo...</td>\n",
       "      <td>Rua Sete de Setembro, 112 - Centro, Rio de Jan...</td>\n",
       "      <td>NaN</td>\n",
       "      <td>NaN</td>\n",
       "      <td>NaN</td>\n",
       "      <td>NaN</td>\n",
       "    </tr>\n",
       "  </tbody>\n",
       "</table>\n",
       "</div>"
      ],
      "text/plain": [
       "  business_status                                           geometry  \\\n",
       "0     OPERATIONAL  {'location': {'lat': -22.9050157, 'lng': -43.1...   \n",
       "1     OPERATIONAL  {'location': {'lat': -22.8991333, 'lng': -43.1...   \n",
       "2     OPERATIONAL  {'location': {'lat': -22.905609, 'lng': -43.17...   \n",
       "\n",
       "                                                icon icon_background_color  \\\n",
       "0  https://maps.gstatic.com/mapfiles/place_api/ic...               #7B9EB0   \n",
       "1  https://maps.gstatic.com/mapfiles/place_api/ic...               #FF9E67   \n",
       "2  https://maps.gstatic.com/mapfiles/place_api/ic...               #FF9E67   \n",
       "\n",
       "                                  icon_mask_base_uri  \\\n",
       "0  https://maps.gstatic.com/mapfiles/place_api/ic...   \n",
       "1  https://maps.gstatic.com/mapfiles/place_api/ic...   \n",
       "2  https://maps.gstatic.com/mapfiles/place_api/ic...   \n",
       "\n",
       "                           name        opening_hours  \\\n",
       "0  Viação Teresópolis e Turismo   {'open_now': True}   \n",
       "1                  Farofa Restô  {'open_now': False}   \n",
       "2                      Mr. Chan   {'open_now': True}   \n",
       "\n",
       "                                              photos  \\\n",
       "0  [{'height': 1000, 'html_attributions': ['<a hr...   \n",
       "1                                                NaN   \n",
       "2  [{'height': 2448, 'html_attributions': ['<a hr...   \n",
       "\n",
       "                      place_id  \\\n",
       "0  ChIJ7e2Aml9_mQARJNtzwTHW4Us   \n",
       "1  ChIJd0ekpll_mQARnK4_-5Hjbhg   \n",
       "2  ChIJJc3DOF5_mQARYbZrto644NU   \n",
       "\n",
       "                                           plus_code  \\\n",
       "0  {'compound_code': '3RVG+X3 Centro, Rio de Jane...   \n",
       "1  {'compound_code': '4R2C+8G Centro, Rio de Jane...   \n",
       "2  {'compound_code': '3RVC+QC Centro, Rio de Jane...   \n",
       "\n",
       "                     reference   scope  \\\n",
       "0  ChIJ7e2Aml9_mQARJNtzwTHW4Us  GOOGLE   \n",
       "1  ChIJd0ekpll_mQARnK4_-5Hjbhg  GOOGLE   \n",
       "2  ChIJJc3DOF5_mQARYbZrto644NU  GOOGLE   \n",
       "\n",
       "                                               types  \\\n",
       "0  [meal_delivery, moving_company, food, point_of...   \n",
       "1  [restaurant, meal_delivery, food, point_of_int...   \n",
       "2  [meal_delivery, meal_takeaway, restaurant, foo...   \n",
       "\n",
       "                                            vicinity  price_level  \\\n",
       "0          Rua São José, 35 - Centro, Rio de Janeiro          NaN   \n",
       "1  Beco do Bragança, 37 - Lojas A B C - Centro, R...          2.0   \n",
       "2  Rua Sete de Setembro, 112 - Centro, Rio de Jan...          NaN   \n",
       "\n",
       "  permanently_closed  rating  user_ratings_total  \n",
       "0                NaN     NaN                 NaN  \n",
       "1                NaN     NaN                 NaN  \n",
       "2                NaN     NaN                 NaN  "
      ]
     },
     "execution_count": 468,
     "metadata": {},
     "output_type": "execute_result"
    }
   ],
   "source": [
    "places = gmaps.places_nearby(\n",
    "    location=coords,\n",
    "    radius=3000,\n",
    "    type='meal_delivery',\n",
    "    keyword=None,\n",
    "    language='pt-BR',\n",
    "    min_price=None,\n",
    "    max_price=None,\n",
    "    name=None,\n",
    "    open_now=False,\n",
    "    rank_by=None,\n",
    "    page_token=None,\n",
    ")\n",
    "places_df = pd.DataFrame(places['results'])\n",
    "\n",
    "print(places_df.shape); places_df.head(3)"
   ]
  },
  {
   "cell_type": "markdown",
   "metadata": {},
   "source": [
    "## Example 3. Place details"
   ]
  },
  {
   "cell_type": "code",
   "execution_count": 465,
   "metadata": {},
   "outputs": [],
   "source": [
    "place = gmaps.place(place_id=places_df.loc[0, 'place_id'], session_token=None, fields=None, language='pt-BR')"
   ]
  },
  {
   "cell_type": "code",
   "execution_count": 466,
   "metadata": {},
   "outputs": [
    {
     "data": {
      "text/plain": [
       "address_components        [{'long_name': '35', 'short_name': '35', 'type...\n",
       "adr_address               <span class=\"street-address\">R. São José, 35</...\n",
       "business_status                                                 OPERATIONAL\n",
       "formatted_address         R. São José, 35 - Centro, Rio de Janeiro - RJ,...\n",
       "formatted_phone_number                                       (21) 3644-6600\n",
       "dtype: object"
      ]
     },
     "execution_count": 466,
     "metadata": {},
     "output_type": "execute_result"
    }
   ],
   "source": [
    "pd.Series(place['result']).head()"
   ]
  },
  {
   "cell_type": "markdown",
   "metadata": {},
   "source": [
    "---\n",
    "# Example requests with google maps web services http call"
   ]
  },
  {
   "cell_type": "markdown",
   "metadata": {},
   "source": [
    "### Define search input"
   ]
  },
  {
   "cell_type": "code",
   "execution_count": 407,
   "metadata": {},
   "outputs": [],
   "source": [
    "params = {\n",
    "    'key': apikey,\n",
    "    'language': 'pt-BR',\n",
    "    'query': 'Entrega Ingá, Niterói', # only for 'textsearch' search type\n",
    "    'type': 'meal_delivery', # Only one type may be specified\n",
    "#     'keyword': 'Centro, Niterói - RJ, Brasil', # only for 'nearbysearch' search type\n",
    "#     'location': '-22.890033,-43.119352', # required for naerby search\n",
    "#     'radius': '1000',\n",
    "#     'rankby': 'prominence', # 'distance'\n",
    "#     'minprice': '0', # 0 to 4\n",
    "#     'maxprice': '4', # 0 to 4\n",
    "#     'opennow': None,\n",
    "#     'pagetoken': None,\n",
    "}\n",
    "\n",
    "search_type = 'textsearch' # 'nearbysearch'\n",
    "ApiUrl = f'https://maps.googleapis.com/maps/api/place/{search_type}/json?'\n",
    "\n",
    "url = ApiUrl + urllib.parse.urlencode(params)"
   ]
  },
  {
   "cell_type": "markdown",
   "metadata": {},
   "source": [
    "### Google web service http api call\n",
    "Search places nearby selected location (Centro, Niterói - 1Km radius )"
   ]
  },
  {
   "cell_type": "code",
   "execution_count": 408,
   "metadata": {},
   "outputs": [],
   "source": [
    "payload, headers = {}, {}\n",
    "response = requests.request(\"GET\", url, headers=headers, data=payload)\n",
    "res = json.loads(response.text)"
   ]
  },
  {
   "cell_type": "markdown",
   "metadata": {},
   "source": [
    "#### Building pandas dataframe from json object response"
   ]
  },
  {
   "cell_type": "code",
   "execution_count": 409,
   "metadata": {},
   "outputs": [],
   "source": [
    "df = pd.DataFrame(res['results'])"
   ]
  },
  {
   "cell_type": "markdown",
   "metadata": {},
   "source": [
    "# EXPLORATORY DATA ANALYSIS"
   ]
  },
  {
   "cell_type": "markdown",
   "metadata": {},
   "source": [
    "#### Response fields"
   ]
  },
  {
   "cell_type": "code",
   "execution_count": 410,
   "metadata": {},
   "outputs": [
    {
     "name": "stdout",
     "output_type": "stream",
     "text": [
      "{'Response fileds:': ['business_status',\n",
      "                      'formatted_address',\n",
      "                      'geometry',\n",
      "                      'icon',\n",
      "                      'icon_background_color',\n",
      "                      'icon_mask_base_uri',\n",
      "                      'name',\n",
      "                      'opening_hours',\n",
      "                      'photos',\n",
      "                      'place_id',\n",
      "                      'plus_code',\n",
      "                      'rating',\n",
      "                      'reference',\n",
      "                      'types',\n",
      "                      'user_ratings_total',\n",
      "                      'price_level']}\n"
     ]
    }
   ],
   "source": [
    "pprint({'Response fileds:': df.columns.tolist()})"
   ]
  },
  {
   "cell_type": "markdown",
   "metadata": {},
   "source": [
    "#### Interest fields data"
   ]
  },
  {
   "cell_type": "code",
   "execution_count": 411,
   "metadata": {},
   "outputs": [
    {
     "data": {
      "text/html": [
       "<div>\n",
       "<style scoped>\n",
       "    .dataframe tbody tr th:only-of-type {\n",
       "        vertical-align: middle;\n",
       "    }\n",
       "\n",
       "    .dataframe tbody tr th {\n",
       "        vertical-align: top;\n",
       "    }\n",
       "\n",
       "    .dataframe thead th {\n",
       "        text-align: right;\n",
       "    }\n",
       "</style>\n",
       "<table border=\"1\" class=\"dataframe\">\n",
       "  <thead>\n",
       "    <tr style=\"text-align: right;\">\n",
       "      <th></th>\n",
       "      <th>business_status</th>\n",
       "      <th>name</th>\n",
       "      <th>geometry</th>\n",
       "      <th>plus_code</th>\n",
       "      <th>opening_hours</th>\n",
       "      <th>price_level</th>\n",
       "      <th>rating</th>\n",
       "      <th>types</th>\n",
       "      <th>user_ratings_total</th>\n",
       "      <th>formatted_address</th>\n",
       "    </tr>\n",
       "  </thead>\n",
       "  <tbody>\n",
       "    <tr>\n",
       "      <th>0</th>\n",
       "      <td>OPERATIONAL</td>\n",
       "      <td>TERRA NOSTRA DELIVERY DE PIZZA NITERÓI</td>\n",
       "      <td>{'location': {'lat': -22.904125, 'lng': -43.12...</td>\n",
       "      <td>{'compound_code': '3VWG+9W Ingá, Niterói - RJ'...</td>\n",
       "      <td>{'open_now': False}</td>\n",
       "      <td>NaN</td>\n",
       "      <td>4.3</td>\n",
       "      <td>[meal_delivery, restaurant, food, point_of_int...</td>\n",
       "      <td>57</td>\n",
       "      <td>R. Francisco Pímentel, 186 - 112 - Ingá, Niter...</td>\n",
       "    </tr>\n",
       "    <tr>\n",
       "      <th>1</th>\n",
       "      <td>OPERATIONAL</td>\n",
       "      <td>Don Carlo's Pizza Gourmet</td>\n",
       "      <td>{'location': {'lat': -22.9041148, 'lng': -43.1...</td>\n",
       "      <td>{'compound_code': '3VWG+9V Ingá, Niterói - RJ'...</td>\n",
       "      <td>{'open_now': False}</td>\n",
       "      <td>2.0</td>\n",
       "      <td>4.6</td>\n",
       "      <td>[meal_takeaway, meal_delivery, restaurant, foo...</td>\n",
       "      <td>572</td>\n",
       "      <td>R. Francisco Pímentel, 186 - Ingá, Niterói - R...</td>\n",
       "    </tr>\n",
       "    <tr>\n",
       "      <th>2</th>\n",
       "      <td>OPERATIONAL</td>\n",
       "      <td>Jojola's Pizza</td>\n",
       "      <td>{'location': {'lat': -22.9028533, 'lng': -43.1...</td>\n",
       "      <td>{'compound_code': '3VWF+VP Ingá, Niterói - RJ'...</td>\n",
       "      <td>{'open_now': False}</td>\n",
       "      <td>NaN</td>\n",
       "      <td>4.4</td>\n",
       "      <td>[meal_delivery, restaurant, food, point_of_int...</td>\n",
       "      <td>136</td>\n",
       "      <td>R. Visc. de Morais, 270 - Ingá, Niterói - RJ, ...</td>\n",
       "    </tr>\n",
       "    <tr>\n",
       "      <th>3</th>\n",
       "      <td>OPERATIONAL</td>\n",
       "      <td>Massa9va Pizzaria Delivery</td>\n",
       "      <td>{'location': {'lat': -22.9036069, 'lng': -43.1...</td>\n",
       "      <td>{'compound_code': '3VWF+HF Ingá, Niterói - RJ'...</td>\n",
       "      <td>{'open_now': False}</td>\n",
       "      <td>NaN</td>\n",
       "      <td>5.0</td>\n",
       "      <td>[meal_delivery, food, point_of_interest, estab...</td>\n",
       "      <td>3</td>\n",
       "      <td>R. Pres. Pedreira, 38 - Ingá, Niterói - RJ, 24...</td>\n",
       "    </tr>\n",
       "    <tr>\n",
       "      <th>4</th>\n",
       "      <td>OPERATIONAL</td>\n",
       "      <td>Parada Obrigatória Ingá</td>\n",
       "      <td>{'location': {'lat': -22.9040237, 'lng': -43.1...</td>\n",
       "      <td>{'compound_code': '3VWF+9G Ingá, Niterói - RJ'...</td>\n",
       "      <td>{'open_now': True}</td>\n",
       "      <td>NaN</td>\n",
       "      <td>0.0</td>\n",
       "      <td>[meal_delivery, food, point_of_interest, estab...</td>\n",
       "      <td>0</td>\n",
       "      <td>R. Onze de Agosto, 03 - Ingá, Niterói - RJ, 24...</td>\n",
       "    </tr>\n",
       "  </tbody>\n",
       "</table>\n",
       "</div>"
      ],
      "text/plain": [
       "  business_status                                    name  \\\n",
       "0     OPERATIONAL  TERRA NOSTRA DELIVERY DE PIZZA NITERÓI   \n",
       "1     OPERATIONAL               Don Carlo's Pizza Gourmet   \n",
       "2     OPERATIONAL                          Jojola's Pizza   \n",
       "3     OPERATIONAL              Massa9va Pizzaria Delivery   \n",
       "4     OPERATIONAL                 Parada Obrigatória Ingá   \n",
       "\n",
       "                                            geometry  \\\n",
       "0  {'location': {'lat': -22.904125, 'lng': -43.12...   \n",
       "1  {'location': {'lat': -22.9041148, 'lng': -43.1...   \n",
       "2  {'location': {'lat': -22.9028533, 'lng': -43.1...   \n",
       "3  {'location': {'lat': -22.9036069, 'lng': -43.1...   \n",
       "4  {'location': {'lat': -22.9040237, 'lng': -43.1...   \n",
       "\n",
       "                                           plus_code        opening_hours  \\\n",
       "0  {'compound_code': '3VWG+9W Ingá, Niterói - RJ'...  {'open_now': False}   \n",
       "1  {'compound_code': '3VWG+9V Ingá, Niterói - RJ'...  {'open_now': False}   \n",
       "2  {'compound_code': '3VWF+VP Ingá, Niterói - RJ'...  {'open_now': False}   \n",
       "3  {'compound_code': '3VWF+HF Ingá, Niterói - RJ'...  {'open_now': False}   \n",
       "4  {'compound_code': '3VWF+9G Ingá, Niterói - RJ'...   {'open_now': True}   \n",
       "\n",
       "   price_level  rating                                              types  \\\n",
       "0          NaN     4.3  [meal_delivery, restaurant, food, point_of_int...   \n",
       "1          2.0     4.6  [meal_takeaway, meal_delivery, restaurant, foo...   \n",
       "2          NaN     4.4  [meal_delivery, restaurant, food, point_of_int...   \n",
       "3          NaN     5.0  [meal_delivery, food, point_of_interest, estab...   \n",
       "4          NaN     0.0  [meal_delivery, food, point_of_interest, estab...   \n",
       "\n",
       "   user_ratings_total                                  formatted_address  \n",
       "0                  57  R. Francisco Pímentel, 186 - 112 - Ingá, Niter...  \n",
       "1                 572  R. Francisco Pímentel, 186 - Ingá, Niterói - R...  \n",
       "2                 136  R. Visc. de Morais, 270 - Ingá, Niterói - RJ, ...  \n",
       "3                   3  R. Pres. Pedreira, 38 - Ingá, Niterói - RJ, 24...  \n",
       "4                   0  R. Onze de Agosto, 03 - Ingá, Niterói - RJ, 24...  "
      ]
     },
     "execution_count": 411,
     "metadata": {},
     "output_type": "execute_result"
    }
   ],
   "source": [
    "cols = [\n",
    "    'business_status', 'name', 'geometry', 'plus_code', 'opening_hours',\n",
    "    'price_level', 'rating', 'types', 'user_ratings_total',\n",
    "    ('formatted_address' if search_type=='textsearch' else 'vinicity')\n",
    "]\n",
    "\n",
    "df[cols].head()"
   ]
  },
  {
   "cell_type": "markdown",
   "metadata": {},
   "source": [
    "#### Number of establishments found by search"
   ]
  },
  {
   "cell_type": "code",
   "execution_count": 412,
   "metadata": {},
   "outputs": [
    {
     "data": {
      "text/plain": [
       "6"
      ]
     },
     "execution_count": 412,
     "metadata": {},
     "output_type": "execute_result"
    }
   ],
   "source": [
    "df.shape[0]"
   ]
  },
  {
   "cell_type": "markdown",
   "metadata": {},
   "source": [
    "## Printing entire json reponse"
   ]
  },
  {
   "cell_type": "code",
   "execution_count": 362,
   "metadata": {},
   "outputs": [
    {
     "name": "stdout",
     "output_type": "stream",
     "text": [
      "{\n",
      "   \"html_attributions\" : [],\n",
      "   \"results\" : [\n",
      "      {\n",
      "         \"business_status\" : \"OPERATIONAL\",\n",
      "         \"formatted_address\" : \"R. José Clemente, 29 - Centro, Niterói - RJ, 24020-102, Brasil\",\n",
      "         \"geometry\" : {\n",
      "            \"location\" : {\n",
      "               \"lat\" : -22.8946367,\n",
      "               \"lng\" : -43.1230069\n",
      "            },\n",
      "            \"viewport\" : {\n",
      "               \"northeast\" : {\n",
      "                  \"lat\" : -22.89333712010728,\n",
      "                  \"lng\" : -43.12166492010726\n",
      "               },\n",
      "               \"southwest\" : {\n",
      "                  \"lat\" : -22.89603677989273,\n",
      "                  \"lng\" : -43.12436457989271\n",
      "               }\n",
      "            }\n",
      "         },\n",
      "         \"icon\" : \"https://maps.gstatic.com/mapfiles/place_api/icons/v1/png_71/restaurant-71.png\",\n",
      "         \"icon_background_color\" : \"#FF9E67\",\n",
      "         \"icon_mask_base_uri\" : \"https://maps.gstatic.com/mapfiles/place_api/icons/v2/restaurant_pinlet\",\n",
      "         \"name\" : \"O Galeto Grill\",\n",
      "         \"opening_hours\" : {\n",
      "            \"open_now\" : true\n",
      "         },\n",
      "         \"photos\" : [\n",
      "            {\n",
      "               \"height\" : 1080,\n",
      "               \"html_attributions\" : [\n",
      "                  \"\\u003ca href=\\\"https://maps.google.com/maps/contrib/109168715811355840651\\\"\\u003eAMARAL LOPES\\u003c/a\\u003e\"\n",
      "               ],\n",
      "               \"photo_reference\" : \"AeJbb3coISlKGIQpiderlKdjtGAMZ2qOkGM2opZiy2BCFo5lR2sh1Vk7ADYFhKm1ycL9U6Wtirmipj_EGupVHii7mPV4XGODz0ScY-SW-Xup34DrXDIu1CTkFRMCkBamZRlkblBvqr3FqPIf3b-jPomzbVhjs3i5vYsT-o-BMMzGnG9KxsPK\",\n",
      "               \"width\" : 1920\n",
      "            }\n",
      "         ],\n",
      "         \"place_id\" : \"ChIJhZl06cSDmQARb1Ow9vH5wKs\",\n",
      "         \"plus_code\" : {\n",
      "            \"compound_code\" : \"4V4G+4Q Centro, Niterói - RJ\",\n",
      "            \"global_code\" : \"589R4V4G+4Q\"\n",
      "         },\n",
      "         \"price_level\" : 2,\n",
      "         \"rating\" : 4.5,\n",
      "         \"reference\" : \"ChIJhZl06cSDmQARb1Ow9vH5wKs\",\n",
      "         \"types\" : [\n",
      "            \"meal_delivery\",\n",
      "            \"restaurant\",\n",
      "            \"point_of_interest\",\n",
      "            \"food\",\n",
      "            \"establishment\"\n",
      "         ],\n",
      "         \"user_ratings_total\" : 1083\n",
      "      },\n",
      "      {\n",
      "         \"business_status\" : \"OPERATIONAL\",\n",
      "         \"formatted_address\" : \"R. Sen. Nabuco, 38 - Centro, Niterói - RJ, 24030-160, Brasil\",\n",
      "         \"geometry\" : {\n",
      "            \"location\" : {\n",
      "               \"lat\" : -22.893085,\n",
      "               \"lng\" : -43.114541\n",
      "            },\n",
      "            \"viewport\" : {\n",
      "               \"northeast\" : {\n",
      "                  \"lat\" : -22.89176352010728,\n",
      "                  \"lng\" : -43.11318277010727\n",
      "               },\n",
      "               \"southwest\" : {\n",
      "                  \"lat\" : -22.89446317989272,\n",
      "                  \"lng\" : -43.11588242989272\n",
      "               }\n",
      "            }\n",
      "         },\n",
      "         \"icon\" : \"https://maps.gstatic.com/mapfiles/place_api/icons/v1/png_71/restaurant-71.png\",\n",
      "         \"icon_background_color\" : \"#FF9E67\",\n",
      "         \"icon_mask_base_uri\" : \"https://maps.gstatic.com/mapfiles/place_api/icons/v2/restaurant_pinlet\",\n",
      "         \"name\" : \"Galeteria da Esquina\",\n",
      "         \"opening_hours\" : {\n",
      "            \"open_now\" : true\n",
      "         },\n",
      "         \"photos\" : [\n",
      "            {\n",
      "               \"height\" : 794,\n",
      "               \"html_attributions\" : [\n",
      "                  \"\\u003ca href=\\\"https://maps.google.com/maps/contrib/114002141349839943534\\\"\\u003eGaleteria da Esquina\\u003c/a\\u003e\"\n",
      "               ],\n",
      "               \"photo_reference\" : \"AeJbb3fpGZ4XiRdj6p6eRLC8WALLAGU0SIK1ay42Wa4UUG53Tc9pppAslqp2Dd1lZ4K1rpeO8ryP11RLTLk1DcOFv9sXuHI0LW1PtDuxrOihfL5ZDodx7JQWlEjcYFw4cp-s03jnXmXSJsn4fcZ_ct_5FLrpBjr47IGZ_v0RCBv9EHJJ0FQU\",\n",
      "               \"width\" : 950\n",
      "            }\n",
      "         ],\n",
      "         \"place_id\" : \"ChIJheCPNuqDmQARcGnhOXkdfw8\",\n",
      "         \"plus_code\" : {\n",
      "            \"compound_code\" : \"4V4P+Q5 Centro, Niterói - RJ\",\n",
      "            \"global_code\" : \"589R4V4P+Q5\"\n",
      "         },\n",
      "         \"price_level\" : 2,\n",
      "         \"rating\" : 4.4,\n",
      "         \"reference\" : \"ChIJheCPNuqDmQARcGnhOXkdfw8\",\n",
      "         \"types\" : [\n",
      "            \"restaurant\",\n",
      "            \"meal_delivery\",\n",
      "            \"meal_takeaway\",\n",
      "            \"point_of_interest\",\n",
      "            \"store\",\n",
      "            \"food\",\n",
      "            \"establishment\"\n",
      "         ],\n",
      "         \"user_ratings_total\" : 666\n",
      "      },\n",
      "      {\n",
      "         \"business_status\" : \"OPERATIONAL\",\n",
      "         \"formatted_address\" : \"R. Cel. Gomes Machado, 109 - sobreloja - Centro, Niterói - RJ, 24020-060, Brasil\",\n",
      "         \"geometry\" : {\n",
      "            \"location\" : {\n",
      "               \"lat\" : -22.8927451,\n",
      "               \"lng\" : -43.12081999999999\n",
      "            },\n",
      "            \"viewport\" : {\n",
      "               \"northeast\" : {\n",
      "                  \"lat\" : -22.89144467010728,\n",
      "                  \"lng\" : -43.11946752010728\n",
      "               },\n",
      "               \"southwest\" : {\n",
      "                  \"lat\" : -22.89414432989272,\n",
      "                  \"lng\" : -43.12216717989272\n",
      "               }\n",
      "            }\n",
      "         },\n",
      "         \"icon\" : \"https://maps.gstatic.com/mapfiles/place_api/icons/v1/png_71/restaurant-71.png\",\n",
      "         \"icon_background_color\" : \"#FF9E67\",\n",
      "         \"icon_mask_base_uri\" : \"https://maps.gstatic.com/mapfiles/place_api/icons/v2/restaurant_pinlet\",\n",
      "         \"name\" : \"Restaurante Popó' s\",\n",
      "         \"opening_hours\" : {\n",
      "            \"open_now\" : true\n",
      "         },\n",
      "         \"photos\" : [\n",
      "            {\n",
      "               \"height\" : 1180,\n",
      "               \"html_attributions\" : [\n",
      "                  \"\\u003ca href=\\\"https://maps.google.com/maps/contrib/117994541797705816987\\\"\\u003eA Google User\\u003c/a\\u003e\"\n",
      "               ],\n",
      "               \"photo_reference\" : \"AeJbb3fm57Boy5feoJ4xlrxjgj72w0N9fes5I90aazpXhXS8IopSNF6GGLcdE4mdTd38DvD9A8mmtE6XGGlw8oH-cahHaXMWuyr0RE9ZTkEV9OOAH6fcnCJMDDA5xK14n-d3OQciHxo5yYUzzhfm9jDa4-pC_ZkMWviznjRTZp0ThF6A1wS5\",\n",
      "               \"width\" : 735\n",
      "            }\n",
      "         ],\n",
      "         \"place_id\" : \"ChIJVacIKLCDmQARE7r9QEXUhdA\",\n",
      "         \"plus_code\" : {\n",
      "            \"compound_code\" : \"4V4H+WM Centro, Niterói - RJ\",\n",
      "            \"global_code\" : \"589R4V4H+WM\"\n",
      "         },\n",
      "         \"rating\" : 0,\n",
      "         \"reference\" : \"ChIJVacIKLCDmQARE7r9QEXUhdA\",\n",
      "         \"types\" : [\n",
      "            \"restaurant\",\n",
      "            \"meal_delivery\",\n",
      "            \"point_of_interest\",\n",
      "            \"food\",\n",
      "            \"establishment\"\n",
      "         ],\n",
      "         \"user_ratings_total\" : 0\n",
      "      },\n",
      "      {\n",
      "         \"business_status\" : \"OPERATIONAL\",\n",
      "         \"formatted_address\" : \"R. Dr. Fróes da Cruz, 126 - Loja 04 - Centro, Niterói - RJ, 24030-030, Brasil\",\n",
      "         \"geometry\" : {\n",
      "            \"location\" : {\n",
      "               \"lat\" : -22.8857968,\n",
      "               \"lng\" : -43.1218673\n",
      "            },\n",
      "            \"viewport\" : {\n",
      "               \"northeast\" : {\n",
      "                  \"lat\" : -22.88439512010728,\n",
      "                  \"lng\" : -43.12053617010728\n",
      "               },\n",
      "               \"southwest\" : {\n",
      "                  \"lat\" : -22.88709477989272,\n",
      "                  \"lng\" : -43.12323582989272\n",
      "               }\n",
      "            }\n",
      "         },\n",
      "         \"icon\" : \"https://maps.gstatic.com/mapfiles/place_api/icons/v1/png_71/generic_business-71.png\",\n",
      "         \"icon_background_color\" : \"#7B9EB0\",\n",
      "         \"icon_mask_base_uri\" : \"https://maps.gstatic.com/mapfiles/place_api/icons/v2/generic_pinlet\",\n",
      "         \"name\" : \"Clube dos Lanches\",\n",
      "         \"opening_hours\" : {\n",
      "            \"open_now\" : false\n",
      "         },\n",
      "         \"place_id\" : \"ChIJnVjUubiDmQARUQPGN8rqb3A\",\n",
      "         \"plus_code\" : {\n",
      "            \"compound_code\" : \"4V7H+M7 Centro, Niterói - RJ\",\n",
      "            \"global_code\" : \"589R4V7H+M7\"\n",
      "         },\n",
      "         \"rating\" : 4.4,\n",
      "         \"reference\" : \"ChIJnVjUubiDmQARUQPGN8rqb3A\",\n",
      "         \"types\" : [\n",
      "            \"meal_delivery\",\n",
      "            \"restaurant\",\n",
      "            \"point_of_interest\",\n",
      "            \"food\",\n",
      "            \"establishment\"\n",
      "         ],\n",
      "         \"user_ratings_total\" : 83\n",
      "      }\n",
      "   ],\n",
      "   \"status\" : \"OK\"\n",
      "}\n",
      "\n"
     ]
    }
   ],
   "source": [
    "print(response.text)"
   ]
  },
  {
   "cell_type": "code",
   "execution_count": null,
   "metadata": {},
   "outputs": [],
   "source": []
  }
 ],
 "metadata": {
  "kernelspec": {
   "display_name": "Python 3",
   "language": "python",
   "name": "python3"
  },
  "language_info": {
   "codemirror_mode": {
    "name": "ipython",
    "version": 3
   },
   "file_extension": ".py",
   "mimetype": "text/x-python",
   "name": "python",
   "nbconvert_exporter": "python",
   "pygments_lexer": "ipython3",
   "version": "3.8.3"
  }
 },
 "nbformat": 4,
 "nbformat_minor": 4
}
